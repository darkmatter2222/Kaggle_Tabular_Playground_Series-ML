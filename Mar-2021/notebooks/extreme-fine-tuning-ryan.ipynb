{
 "cells": [
  {
   "cell_type": "code",
   "execution_count": 36,
   "metadata": {
    "papermill": {
     "duration": 2.138608,
     "end_time": "2021-02-19T02:57:47.964373",
     "exception": false,
     "start_time": "2021-02-19T02:57:45.825765",
     "status": "completed"
    },
    "tags": []
   },
   "outputs": [],
   "source": [
    "import pandas as pd\n",
    "import numpy as np\n",
    "import matplotlib.pyplot as plt\n",
    "from IPython.display import clear_output\n",
    "import seaborn as sns\n",
    "import os\n",
    "\n",
    "from sklearn.model_selection import KFold, GridSearchCV, cross_validate, train_test_split\n",
    "from sklearn.metrics import mean_squared_error\n",
    "from sklearn.preprocessing import LabelEncoder\n",
    "from sklearn.metrics import roc_auc_score\n",
    "\n",
    "from lightgbm import LGBMRegressor\n",
    "from tqdm import tqdm\n",
    "import optuna\n",
    "from functools import partial\n",
    "from datetime import datetime\n",
    "\n",
    "import warnings\n",
    "warnings.filterwarnings('ignore')"
   ]
  },
  {
   "cell_type": "code",
   "execution_count": 2,
   "metadata": {},
   "outputs": [
    {
     "data": {
      "text/plain": [
       "array([2., 2., 2.])"
      ]
     },
     "execution_count": 2,
     "metadata": {},
     "output_type": "execute_result"
    }
   ],
   "source": [
    "t1=[[1,1,1],[3,3,3]]\n",
    "t2=[[1,1,1],[3,3,3]]\n",
    "test_t=[]\n",
    "test_t[len(test_t):] = t1\n",
    "test_t[len(test_t):] = t2\n",
    "np.save(f'test.npy', test_t)\n",
    "test_l = np.load('test.npy')\n",
    "np.array(test_l).mean(axis=0)"
   ]
  },
  {
   "cell_type": "code",
   "execution_count": 3,
   "metadata": {
    "papermill": {
     "duration": 4.206009,
     "end_time": "2021-02-19T02:57:52.183073",
     "exception": false,
     "start_time": "2021-02-19T02:57:47.977064",
     "status": "completed"
    },
    "tags": []
   },
   "outputs": [],
   "source": [
    "train = pd.read_csv('..\\\\kaggle_data\\\\train.csv')\n",
    "test = pd.read_csv('..\\\\kaggle_data\\\\test.csv')"
   ]
  },
  {
   "cell_type": "code",
   "execution_count": 4,
   "metadata": {
    "papermill": {
     "duration": 0.095898,
     "end_time": "2021-02-19T02:57:52.291780",
     "exception": false,
     "start_time": "2021-02-19T02:57:52.195882",
     "status": "completed"
    },
    "tags": []
   },
   "outputs": [],
   "source": [
    "X_train = train.drop(['id', 'target'], axis=1)\n",
    "y_train = train.target\n",
    "X_test = test.drop(['id'], axis=1)"
   ]
  },
  {
   "cell_type": "code",
   "execution_count": 5,
   "metadata": {
    "papermill": {
     "duration": 0.020649,
     "end_time": "2021-02-19T02:57:52.324883",
     "exception": false,
     "start_time": "2021-02-19T02:57:52.304234",
     "status": "completed"
    },
    "tags": []
   },
   "outputs": [],
   "source": [
    "cat_cols = [feature for feature in train.columns if 'cat' in feature]\n",
    "\n",
    "def label_encoder(df):\n",
    "    for feature in cat_cols:\n",
    "        le = LabelEncoder()\n",
    "        le.fit(df[feature])\n",
    "        df[feature] = le.transform(df[feature])\n",
    "    return df"
   ]
  },
  {
   "cell_type": "code",
   "execution_count": 6,
   "metadata": {
    "papermill": {
     "duration": 1.818185,
     "end_time": "2021-02-19T02:57:54.155645",
     "exception": false,
     "start_time": "2021-02-19T02:57:52.337460",
     "status": "completed"
    },
    "tags": []
   },
   "outputs": [],
   "source": [
    "X_train = label_encoder(X_train)\n",
    "X_test = label_encoder(X_test)"
   ]
  },
  {
   "cell_type": "code",
   "execution_count": 7,
   "metadata": {},
   "outputs": [],
   "source": [
    "split = KFold(n_splits=5)"
   ]
  },
  {
   "cell_type": "code",
   "execution_count": 40,
   "metadata": {},
   "outputs": [
    {
     "name": "stderr",
     "output_type": "stream",
     "text": [
      "\u001b[32m[I 2021-03-14 16:33:14,466]\u001b[0m A new study created in memory with name: no-name-fe25e5cc-d451-4900-97ee-a20ab7c0a1ec\u001b[0m\n"
     ]
    }
   ],
   "source": [
    "preds_list_final_iterations = []\n",
    "preds_list_final_iteration = []\n",
    "study_lgbm = optuna.create_study(direction='maximize')\n",
    "\n",
    "root_directory = 'N:\\\\kaggle_data\\\\march'\n",
    "wave = '7'\n",
    "\n",
    "preds_target = f'{root_directory}\\\\w{wave}_preds'\n",
    "subs_target = f'{root_directory}\\\\w{wave}_subs'\n",
    "\n",
    "if not os.path.exists(preds_target):\n",
    "    os.makedirs(preds_target)\n",
    "    \n",
    "if not os.path.exists(subs_target):\n",
    "    os.makedirs(subs_target)"
   ]
  },
  {
   "cell_type": "code",
   "execution_count": 41,
   "metadata": {},
   "outputs": [],
   "source": [
    "def objective(trial, X, y, name='xgb'):\n",
    "            \n",
    "    if trial.number % 5 == 0:\n",
    "        clear_output(wait=True)\n",
    "    \n",
    "    params = {'max_depth':trial.suggest_int('max_depth', 5, 50),\n",
    "              'n_estimators':200000,\n",
    "              #'boosting':trial.suggest_categorical('boosting', ['gbdt', 'dart', 'goss']),\n",
    "              'subsample': trial.suggest_uniform('subsample', 0.2, 1.0),\n",
    "              'colsample_bytree':trial.suggest_uniform('colsample_bytree', 0.2, 1.0),\n",
    "              'learning_rate':trial.suggest_uniform('learning_rate', 0.007, 0.02),\n",
    "              'reg_lambda':trial.suggest_uniform('reg_lambda', 0.01, 50),\n",
    "              'reg_alpha':trial.suggest_uniform('reg_alpha', 0.01, 50),\n",
    "              'min_child_samples':trial.suggest_int('min_child_samples', 5, 100),\n",
    "              'num_leaves':trial.suggest_int('num_leaves', 10, 200),\n",
    "              'n_jobs' : -1,\n",
    "              'metric':'AUC',\n",
    "              'max_bin':trial.suggest_int('max_bin', 300, 1000),\n",
    "              'cat_smooth':trial.suggest_int('cat_smooth', 5, 100),\n",
    "              'cat_l2':trial.suggest_loguniform('cat_l2', 1e-3, 100)}\n",
    "\n",
    "    model = LGBMRegressor(**params)\n",
    "                  \n",
    "    X_train, X_val, y_train, y_val = train_test_split(X, y, test_size=0.2)\n",
    "    \n",
    "    print(f'Fit Starting')\n",
    "    model.fit(X_train, y_train, eval_set=[(X_val, y_val)],\n",
    "              eval_metric=['AUC'],\n",
    "              early_stopping_rounds=250, \n",
    "              categorical_feature=[0, 1, 2, 3, 4, 5, 6, 7, 8, 9],\n",
    "              #callbacks=[optuna.integration.LightGBMPruningCallback(trial, metric='rmse')],\n",
    "              verbose=0)\n",
    "    \n",
    "    print(f'Appending to List')\n",
    "    preds_list_final_iterations.append(model.predict(X_test))\n",
    "\n",
    "    dt_string = datetime.now().strftime(\"%d-%m-%Y_%H-%M-%S\")\n",
    "    #np.save(f'..\\\\kaggle_data\\\\{dt_string}_FI{fold_index}_sub.npy', preds_list_final_iterations)\n",
    "    print(f'Calculating Mean')\n",
    "    y_preds_final_iteration = np.array(preds_list_final_iterations).mean(axis=0)\n",
    "    print(f'length of infal list:{len(preds_list_final_iterations)}')\n",
    "    submission = pd.DataFrame({'id':test.id,\n",
    "              'target':y_preds_final_iteration})\n",
    "    file_target = f'{root_directory}\\\\w{wave}_subs\\\\{dt_string}_AUTOML.csv'\n",
    "    submission.to_csv(file_target, index=False)\n",
    "    print(f'written to CSV')\n",
    "    \n",
    "    np.save(f'{root_directory}\\\\w{wave}_preds\\\\_preds_list_final_iterations.npy', preds_list_final_iterations)\n",
    "    np.save(f'{root_directory}\\\\w{wave}_preds\\\\_preds_list_final_iteration_scores.npy', preds_list_final_iteration_scores)\n",
    "    \n",
    "    print(f'written to npy')\n",
    "\n",
    "    #train_score = np.round(np.sqrt(mean_squared_error(y_train, model.predict(X_train))), 15)\n",
    "    test_score = roc_auc_score(y_val, model.predict(X_val))\n",
    "    \n",
    "    preds_list_final_iteration_scores.append(test_score)\n",
    "    print(f'TEST AOC : {test_score}')\n",
    "                  \n",
    "    return test_score"
   ]
  },
  {
   "cell_type": "code",
   "execution_count": null,
   "metadata": {},
   "outputs": [
    {
     "name": "stdout",
     "output_type": "stream",
     "text": [
      "Fit Starting\n",
      "[LightGBM] [Warning] Accuracy may be bad since you didn't explicitly set num_leaves OR 2^max_depth > num_leaves. (num_leaves=31).\n",
      "Appending to List\n",
      "Calculating Mean\n",
      "length of infal list:21\n",
      "written to CSV\n",
      "written to npy\n"
     ]
    },
    {
     "name": "stderr",
     "output_type": "stream",
     "text": [
      "\u001b[32m[I 2021-03-14 16:49:19,073]\u001b[0m Trial 20 finished with value: 0.8916010725276675 and parameters: {'max_depth': 5, 'subsample': 0.7354857143139755, 'colsample_bytree': 0.9293965423574082, 'learning_rate': 0.017100822810724538, 'reg_lambda': 24.991662178573044, 'reg_alpha': 29.25012965581383, 'min_child_samples': 8, 'num_leaves': 31, 'max_bin': 514, 'cat_smooth': 42, 'cat_l2': 5.097628245558588}. Best is trial 11 with value: 0.898169453130433.\u001b[0m\n"
     ]
    },
    {
     "name": "stdout",
     "output_type": "stream",
     "text": [
      "TEST RMSE : 0.8916010725276675\n",
      "Fit Starting\n",
      "Appending to List\n",
      "Calculating Mean\n",
      "length of infal list:22\n",
      "written to CSV\n",
      "written to npy\n"
     ]
    },
    {
     "name": "stderr",
     "output_type": "stream",
     "text": [
      "\u001b[32m[I 2021-03-14 16:50:01,644]\u001b[0m Trial 21 finished with value: 0.8942313730989255 and parameters: {'max_depth': 22, 'subsample': 0.9317904265116425, 'colsample_bytree': 0.2882462423464595, 'learning_rate': 0.010371158064875353, 'reg_lambda': 34.980043843345854, 'reg_alpha': 5.607623050293053, 'min_child_samples': 41, 'num_leaves': 158, 'max_bin': 995, 'cat_smooth': 99, 'cat_l2': 1.9794940836792627}. Best is trial 11 with value: 0.898169453130433.\u001b[0m\n"
     ]
    },
    {
     "name": "stdout",
     "output_type": "stream",
     "text": [
      "TEST RMSE : 0.8942313730989255\n",
      "Fit Starting\n"
     ]
    }
   ],
   "source": [
    "optimize = partial(objective, X=X_train, y=y_train)\n",
    "study_lgbm.optimize(optimize, n_trials=1000)\n",
    "\n",
    "best_trial = study_lgbm.best_trial.params\n",
    "\n",
    "optuna.visualization.plot_optimization_history(study_lgbm)\n",
    "\n",
    "clear_output(wait=True)\n",
    "\n",
    "print(f'best trial: {best_trial}')\n",
    "# i have commented out the trials so as to cut short the notebook execution time."
   ]
  },
  {
   "cell_type": "code",
   "execution_count": null,
   "metadata": {},
   "outputs": [],
   "source": []
  },
  {
   "cell_type": "code",
   "execution_count": 65,
   "metadata": {},
   "outputs": [
    {
     "name": "stderr",
     "output_type": "stream",
     "text": [
      "0it [00:00, ?it/s]"
     ]
    },
    {
     "name": "stdout",
     "output_type": "stream",
     "text": [
      "Current fold index 2\n",
      "RMSE for Base model is 0.3738234021167528\n",
      "RMSE for Incremental trial 1 model is 0.36010860301330344\n",
      "RMSE for Incremental trial 2 model is 0.35097281486609255\n",
      "RMSE for Incremental trial 3 model is 0.34481002483978457\n",
      "RMSE for Incremental trial 4 model is 0.3406066612103717\n",
      "RMSE for Incremental trial 5 model is 0.33769926441221504\n",
      "RMSE for Incremental trial 6 model is 0.3356322816657475\n",
      "RMSE for Incremental trial 7 model is 0.33413741053308854\n",
      "\n",
      "\n",
      "Improvement of : 0.03968599158366426\n",
      "----------------------------------------------------------------------------------------------------\n"
     ]
    },
    {
     "name": "stderr",
     "output_type": "stream",
     "text": [
      "1it [00:38, 38.64s/it]"
     ]
    },
    {
     "name": "stdout",
     "output_type": "stream",
     "text": [
      "RMSE for Base model is 0.3732552875649722\n",
      "RMSE for Incremental trial 1 model is 0.35974007951171033\n",
      "RMSE for Incremental trial 2 model is 0.3507401606988118\n",
      "RMSE for Incremental trial 3 model is 0.34467393254458034\n",
      "RMSE for Incremental trial 4 model is 0.3405483626946245\n",
      "RMSE for Incremental trial 5 model is 0.33769489293493155\n",
      "RMSE for Incremental trial 6 model is 0.33568076390319496\n",
      "RMSE for Incremental trial 7 model is 0.334219950642155\n",
      "\n",
      "\n",
      "Improvement of : 0.03903533692281724\n",
      "----------------------------------------------------------------------------------------------------\n"
     ]
    },
    {
     "name": "stderr",
     "output_type": "stream",
     "text": [
      "2it [01:16, 38.35s/it]\n",
      "0it [00:00, ?it/s]"
     ]
    },
    {
     "name": "stdout",
     "output_type": "stream",
     "text": [
      "Current fold index 3\n",
      "RMSE for Base model is 0.3724567006320795\n",
      "RMSE for Incremental trial 1 model is 0.3586868940354445\n",
      "RMSE for Incremental trial 2 model is 0.3495357899876942\n",
      "RMSE for Incremental trial 3 model is 0.3433811257838113\n",
      "RMSE for Incremental trial 4 model is 0.33919942150396465\n",
      "RMSE for Incremental trial 5 model is 0.3363090478700924\n",
      "RMSE for Incremental trial 6 model is 0.334267062615742\n",
      "RMSE for Incremental trial 7 model is 0.33279526593220876\n",
      "\n",
      "\n",
      "Improvement of : 0.03966143469987071\n",
      "----------------------------------------------------------------------------------------------------\n"
     ]
    },
    {
     "name": "stderr",
     "output_type": "stream",
     "text": [
      "1it [00:38, 38.24s/it]"
     ]
    },
    {
     "name": "stdout",
     "output_type": "stream",
     "text": [
      "RMSE for Base model is 0.37390798699180244\n",
      "RMSE for Incremental trial 1 model is 0.36025498768872294\n",
      "RMSE for Incremental trial 2 model is 0.35120408146336823\n",
      "RMSE for Incremental trial 3 model is 0.34513090755592174\n",
      "RMSE for Incremental trial 4 model is 0.34101425077479797\n",
      "RMSE for Incremental trial 5 model is 0.33817668850041926\n",
      "RMSE for Incremental trial 6 model is 0.33618002115582396\n",
      "RMSE for Incremental trial 7 model is 0.33474591046359864\n",
      "\n",
      "\n",
      "Improvement of : 0.039162076528203804\n",
      "----------------------------------------------------------------------------------------------------\n"
     ]
    },
    {
     "name": "stderr",
     "output_type": "stream",
     "text": [
      "2it [01:16, 38.15s/it]"
     ]
    },
    {
     "name": "stdout",
     "output_type": "stream",
     "text": [
      "RMSE for Base model is 0.37239417853311735\n",
      "RMSE for Incremental trial 1 model is 0.3587809660678684\n",
      "RMSE for Incremental trial 2 model is 0.3497203600154939\n",
      "RMSE for Incremental trial 3 model is 0.3436241624323089\n",
      "RMSE for Incremental trial 4 model is 0.3394657241698665\n",
      "RMSE for Incremental trial 5 model is 0.33658483886696516\n",
      "RMSE for Incremental trial 6 model is 0.3345500605739434\n",
      "RMSE for Incremental trial 7 model is 0.33308054479995824\n",
      "\n",
      "\n",
      "Improvement of : 0.039313633733159103\n",
      "----------------------------------------------------------------------------------------------------\n"
     ]
    },
    {
     "name": "stderr",
     "output_type": "stream",
     "text": [
      "3it [01:54, 38.18s/it]\n",
      "0it [00:00, ?it/s]"
     ]
    },
    {
     "name": "stdout",
     "output_type": "stream",
     "text": [
      "Current fold index 4\n",
      "RMSE for Base model is 0.37196187929125774\n",
      "RMSE for Incremental trial 1 model is 0.3581638571814718\n",
      "RMSE for Incremental trial 2 model is 0.34901333301958826\n",
      "RMSE for Incremental trial 3 model is 0.3428734091011901\n",
      "RMSE for Incremental trial 4 model is 0.3387038525622297\n",
      "RMSE for Incremental trial 5 model is 0.3358366989846648\n",
      "RMSE for Incremental trial 6 model is 0.3338241080905021\n",
      "RMSE for Incremental trial 7 model is 0.3323745553658297\n",
      "\n",
      "\n",
      "Improvement of : 0.03958732392542802\n",
      "----------------------------------------------------------------------------------------------------\n"
     ]
    },
    {
     "name": "stderr",
     "output_type": "stream",
     "text": [
      "1it [00:37, 37.56s/it]"
     ]
    },
    {
     "name": "stdout",
     "output_type": "stream",
     "text": [
      "RMSE for Base model is 0.37396028666854625\n",
      "RMSE for Incremental trial 1 model is 0.36018402173213315\n",
      "RMSE for Incremental trial 2 model is 0.3510376489432369\n",
      "RMSE for Incremental trial 3 model is 0.34489183573668664\n",
      "RMSE for Incremental trial 4 model is 0.3407198617093247\n",
      "RMSE for Incremental trial 5 model is 0.3378402039281627\n",
      "RMSE for Incremental trial 6 model is 0.3358034533219681\n",
      "RMSE for Incremental trial 7 model is 0.3343201152721866\n",
      "\n",
      "\n",
      "Improvement of : 0.03964017139635967\n",
      "----------------------------------------------------------------------------------------------------\n"
     ]
    },
    {
     "name": "stderr",
     "output_type": "stream",
     "text": [
      "2it [01:15, 37.59s/it]"
     ]
    },
    {
     "name": "stdout",
     "output_type": "stream",
     "text": [
      "RMSE for Base model is 0.3719448381605173\n",
      "RMSE for Incremental trial 1 model is 0.3583978425357542\n",
      "RMSE for Incremental trial 2 model is 0.34944063086024135\n",
      "RMSE for Incremental trial 3 model is 0.3434515757231975\n",
      "RMSE for Incremental trial 4 model is 0.3393987488536061\n",
      "RMSE for Incremental trial 5 model is 0.3366209134590936\n",
      "RMSE for Incremental trial 6 model is 0.3346778580675909\n",
      "RMSE for Incremental trial 7 model is 0.3332791729723468\n",
      "\n",
      "\n",
      "Improvement of : 0.038665665188170495\n",
      "----------------------------------------------------------------------------------------------------\n"
     ]
    },
    {
     "name": "stderr",
     "output_type": "stream",
     "text": [
      "3it [01:52, 37.57s/it]"
     ]
    },
    {
     "name": "stdout",
     "output_type": "stream",
     "text": [
      "RMSE for Base model is 0.3729659434221221\n",
      "RMSE for Incremental trial 1 model is 0.3592995128177589\n",
      "RMSE for Incremental trial 2 model is 0.3502112474693898\n",
      "RMSE for Incremental trial 3 model is 0.34408313341592334\n",
      "RMSE for Incremental trial 4 model is 0.3399013760116936\n",
      "RMSE for Incremental trial 5 model is 0.3370088376352587\n",
      "RMSE for Incremental trial 6 model is 0.3349496839570412\n",
      "RMSE for Incremental trial 7 model is 0.3334667580438102\n",
      "\n",
      "\n",
      "Improvement of : 0.039499185378311874\n",
      "----------------------------------------------------------------------------------------------------\n"
     ]
    },
    {
     "name": "stderr",
     "output_type": "stream",
     "text": [
      "4it [02:30, 37.51s/it]\n",
      "0it [00:00, ?it/s]"
     ]
    },
    {
     "name": "stdout",
     "output_type": "stream",
     "text": [
      "Current fold index 5\n",
      "RMSE for Base model is 0.37126740727513774\n",
      "RMSE for Incremental trial 1 model is 0.35741072368639504\n",
      "RMSE for Incremental trial 2 model is 0.34822117973007016\n",
      "RMSE for Incremental trial 3 model is 0.34205578097983025\n",
      "RMSE for Incremental trial 4 model is 0.33788763075686695\n",
      "RMSE for Incremental trial 5 model is 0.3350180756022951\n",
      "RMSE for Incremental trial 6 model is 0.3330088823018008\n",
      "RMSE for Incremental trial 7 model is 0.33156366052510927\n",
      "\n",
      "\n",
      "Improvement of : 0.03970374675002847\n",
      "----------------------------------------------------------------------------------------------------\n"
     ]
    },
    {
     "name": "stderr",
     "output_type": "stream",
     "text": [
      "1it [00:37, 37.21s/it]"
     ]
    },
    {
     "name": "stdout",
     "output_type": "stream",
     "text": [
      "RMSE for Base model is 0.37422829541186525\n",
      "RMSE for Incremental trial 1 model is 0.36052355391210233\n",
      "RMSE for Incremental trial 2 model is 0.3514446726081789\n",
      "RMSE for Incremental trial 3 model is 0.3453516459885249\n",
      "RMSE for Incremental trial 4 model is 0.34120077323446707\n",
      "RMSE for Incremental trial 5 model is 0.33832586036075946\n",
      "RMSE for Incremental trial 6 model is 0.33629992545109355\n",
      "RMSE for Incremental trial 7 model is 0.3348351052196622\n",
      "\n",
      "\n",
      "Improvement of : 0.039393190192203054\n",
      "----------------------------------------------------------------------------------------------------\n"
     ]
    },
    {
     "name": "stderr",
     "output_type": "stream",
     "text": [
      "2it [01:14, 37.23s/it]"
     ]
    },
    {
     "name": "stdout",
     "output_type": "stream",
     "text": [
      "RMSE for Base model is 0.3732703350682012\n",
      "RMSE for Incremental trial 1 model is 0.35949814938870767\n",
      "RMSE for Incremental trial 2 model is 0.3503671018005802\n",
      "RMSE for Incremental trial 3 model is 0.3442316471705568\n",
      "RMSE for Incremental trial 4 model is 0.34007450428471553\n",
      "RMSE for Incremental trial 5 model is 0.33719622302557206\n",
      "RMSE for Incremental trial 6 model is 0.3351636325650528\n",
      "RMSE for Incremental trial 7 model is 0.33368818042150095\n",
      "\n",
      "\n",
      "Improvement of : 0.03958215464670023\n",
      "----------------------------------------------------------------------------------------------------\n"
     ]
    },
    {
     "name": "stderr",
     "output_type": "stream",
     "text": [
      "3it [01:51, 37.20s/it]"
     ]
    },
    {
     "name": "stdout",
     "output_type": "stream",
     "text": [
      "RMSE for Base model is 0.37126963195403123\n",
      "RMSE for Incremental trial 1 model is 0.3577295331796238\n",
      "RMSE for Incremental trial 2 model is 0.3487764803634807\n",
      "RMSE for Incremental trial 3 model is 0.3427947580077168\n",
      "RMSE for Incremental trial 4 model is 0.3387491776438958\n",
      "RMSE for Incremental trial 5 model is 0.33596502893753344\n",
      "RMSE for Incremental trial 6 model is 0.3340178335499891\n",
      "RMSE for Incremental trial 7 model is 0.3326236835995834\n",
      "\n",
      "\n",
      "Improvement of : 0.038645948354447845\n",
      "----------------------------------------------------------------------------------------------------\n"
     ]
    },
    {
     "name": "stderr",
     "output_type": "stream",
     "text": [
      "4it [02:29, 37.40s/it]"
     ]
    },
    {
     "name": "stdout",
     "output_type": "stream",
     "text": [
      "RMSE for Base model is 0.37289827871297726\n",
      "RMSE for Incremental trial 1 model is 0.35918250997658213\n",
      "RMSE for Incremental trial 2 model is 0.3500537824515658\n",
      "RMSE for Incremental trial 3 model is 0.3439069395402784\n",
      "RMSE for Incremental trial 4 model is 0.33972660179129893\n",
      "RMSE for Incremental trial 5 model is 0.33682539577410797\n",
      "RMSE for Incremental trial 6 model is 0.33477359868557993\n",
      "RMSE for Incremental trial 7 model is 0.3332958892743447\n",
      "\n",
      "\n",
      "Improvement of : 0.039602389438632535\n",
      "----------------------------------------------------------------------------------------------------\n"
     ]
    },
    {
     "name": "stderr",
     "output_type": "stream",
     "text": [
      "5it [03:06, 37.30s/it]\n",
      "0it [00:00, ?it/s]"
     ]
    },
    {
     "name": "stdout",
     "output_type": "stream",
     "text": [
      "Current fold index 6\n",
      "RMSE for Base model is 0.3710467252619121\n",
      "RMSE for Incremental trial 1 model is 0.35710179811887904\n",
      "RMSE for Incremental trial 2 model is 0.3478334046528205\n",
      "RMSE for Incremental trial 3 model is 0.3416028936711222\n",
      "RMSE for Incremental trial 4 model is 0.3373810245699964\n",
      "RMSE for Incremental trial 5 model is 0.33446897178175355\n",
      "RMSE for Incremental trial 6 model is 0.33242656460041015\n",
      "RMSE for Incremental trial 7 model is 0.3309608299118225\n",
      "\n",
      "\n",
      "Improvement of : 0.040085895350089606\n",
      "----------------------------------------------------------------------------------------------------\n"
     ]
    },
    {
     "name": "stderr",
     "output_type": "stream",
     "text": [
      "1it [00:37, 37.04s/it]"
     ]
    },
    {
     "name": "stdout",
     "output_type": "stream",
     "text": [
      "RMSE for Base model is 0.37309462639101354\n",
      "RMSE for Incremental trial 1 model is 0.35943471891128626\n",
      "RMSE for Incremental trial 2 model is 0.35040053908469654\n",
      "RMSE for Incremental trial 3 model is 0.3443429786093693\n",
      "RMSE for Incremental trial 4 model is 0.3402453218413947\n",
      "RMSE for Incremental trial 5 model is 0.33741440691155594\n",
      "RMSE for Incremental trial 6 model is 0.3354269649006204\n",
      "RMSE for Incremental trial 7 model is 0.3339979825304316\n",
      "\n",
      "\n",
      "Improvement of : 0.039096643860581926\n",
      "----------------------------------------------------------------------------------------------------\n"
     ]
    },
    {
     "name": "stderr",
     "output_type": "stream",
     "text": [
      "2it [01:14, 37.45s/it]"
     ]
    },
    {
     "name": "stdout",
     "output_type": "stream",
     "text": [
      "RMSE for Base model is 0.3741477922465593\n",
      "RMSE for Incremental trial 1 model is 0.3603309217107564\n",
      "RMSE for Incremental trial 2 model is 0.3511681159476531\n",
      "RMSE for Incremental trial 3 model is 0.3450158740672936\n",
      "RMSE for Incremental trial 4 model is 0.3408467363699603\n",
      "RMSE for Incremental trial 5 model is 0.3379731662729987\n",
      "RMSE for Incremental trial 6 model is 0.3359456495954748\n",
      "RMSE for Incremental trial 7 model is 0.3344927980163564\n",
      "\n",
      "\n",
      "Improvement of : 0.03965499423020291\n",
      "----------------------------------------------------------------------------------------------------\n"
     ]
    },
    {
     "name": "stderr",
     "output_type": "stream",
     "text": [
      "3it [01:51, 37.28s/it]"
     ]
    },
    {
     "name": "stdout",
     "output_type": "stream",
     "text": [
      "RMSE for Base model is 0.37288673848423076\n",
      "RMSE for Incremental trial 1 model is 0.359329668670693\n",
      "RMSE for Incremental trial 2 model is 0.3503754791593485\n",
      "RMSE for Incremental trial 3 model is 0.3443859547842703\n",
      "RMSE for Incremental trial 4 model is 0.34033977175361285\n",
      "RMSE for Incremental trial 5 model is 0.3375594905037525\n",
      "RMSE for Incremental trial 6 model is 0.3356155160272808\n",
      "RMSE for Incremental trial 7 model is 0.3342084177718212\n",
      "\n",
      "\n",
      "Improvement of : 0.038678320712409564\n",
      "----------------------------------------------------------------------------------------------------\n"
     ]
    },
    {
     "name": "stderr",
     "output_type": "stream",
     "text": [
      "4it [02:28, 37.00s/it]"
     ]
    },
    {
     "name": "stdout",
     "output_type": "stream",
     "text": [
      "RMSE for Base model is 0.3714587108430546\n",
      "RMSE for Incremental trial 1 model is 0.3578462315108742\n",
      "RMSE for Incremental trial 2 model is 0.34882833005080716\n",
      "RMSE for Incremental trial 3 model is 0.3427846241467526\n",
      "RMSE for Incremental trial 4 model is 0.3386831474026455\n",
      "RMSE for Incremental trial 5 model is 0.33584539350350906\n",
      "RMSE for Incremental trial 6 model is 0.33385257583726324\n",
      "RMSE for Incremental trial 7 model is 0.3324112083869579\n",
      "\n",
      "\n",
      "Improvement of : 0.03904750245609667\n",
      "----------------------------------------------------------------------------------------------------\n"
     ]
    },
    {
     "name": "stderr",
     "output_type": "stream",
     "text": [
      "5it [03:05, 36.93s/it]"
     ]
    },
    {
     "name": "stdout",
     "output_type": "stream",
     "text": [
      "RMSE for Base model is 0.3724068945514948\n",
      "RMSE for Incremental trial 1 model is 0.3586741698121452\n",
      "RMSE for Incremental trial 2 model is 0.34954594729190885\n",
      "RMSE for Incremental trial 3 model is 0.3434039666026835\n",
      "RMSE for Incremental trial 4 model is 0.3392337624169063\n",
      "RMSE for Incremental trial 5 model is 0.3363494651155764\n",
      "RMSE for Incremental trial 6 model is 0.3343144526996042\n",
      "RMSE for Incremental trial 7 model is 0.3328450072866041\n",
      "\n",
      "\n",
      "Improvement of : 0.03956188726489068\n",
      "----------------------------------------------------------------------------------------------------\n"
     ]
    },
    {
     "name": "stderr",
     "output_type": "stream",
     "text": [
      "6it [03:42, 37.00s/it]\n",
      "0it [00:00, ?it/s]"
     ]
    },
    {
     "name": "stdout",
     "output_type": "stream",
     "text": [
      "Current fold index 7\n",
      "RMSE for Base model is 0.3705745223374168\n",
      "RMSE for Incremental trial 1 model is 0.35655977271131495\n",
      "RMSE for Incremental trial 2 model is 0.34723852735231353\n",
      "RMSE for Incremental trial 3 model is 0.3409753055763092\n",
      "RMSE for Incremental trial 4 model is 0.3367234658362078\n",
      "RMSE for Incremental trial 5 model is 0.3337921656335058\n",
      "RMSE for Incremental trial 6 model is 0.3317305809997956\n",
      "RMSE for Incremental trial 7 model is 0.33025017825236663\n",
      "\n",
      "\n",
      "Improvement of : 0.040324344085050146\n",
      "----------------------------------------------------------------------------------------------------\n"
     ]
    },
    {
     "name": "stderr",
     "output_type": "stream",
     "text": [
      "1it [00:37, 37.95s/it]"
     ]
    },
    {
     "name": "stdout",
     "output_type": "stream",
     "text": [
      "RMSE for Base model is 0.37396376027628114\n",
      "RMSE for Incremental trial 1 model is 0.3603990800430031\n",
      "RMSE for Incremental trial 2 model is 0.35144544241815723\n",
      "RMSE for Incremental trial 3 model is 0.3454581818425278\n",
      "RMSE for Incremental trial 4 model is 0.3414161386487177\n",
      "RMSE for Incremental trial 5 model is 0.3386296695531103\n",
      "RMSE for Incremental trial 6 model is 0.3366705176731376\n",
      "RMSE for Incremental trial 7 model is 0.33526065836784685\n",
      "\n",
      "\n",
      "Improvement of : 0.03870310190843429\n",
      "----------------------------------------------------------------------------------------------------\n"
     ]
    },
    {
     "name": "stderr",
     "output_type": "stream",
     "text": [
      "2it [01:14, 37.33s/it]"
     ]
    },
    {
     "name": "stdout",
     "output_type": "stream",
     "text": [
      "RMSE for Base model is 0.3733322336271133\n",
      "RMSE for Incremental trial 1 model is 0.35952230399821883\n",
      "RMSE for Incremental trial 2 model is 0.3503691890349278\n",
      "RMSE for Incremental trial 3 model is 0.34422038208964606\n",
      "RMSE for Incremental trial 4 model is 0.34004596445275276\n",
      "RMSE for Incremental trial 5 model is 0.3371613177866128\n",
      "RMSE for Incremental trial 6 model is 0.33512573506451054\n",
      "RMSE for Incremental trial 7 model is 0.3336522907542019\n",
      "\n",
      "\n",
      "Improvement of : 0.03967994287291143\n",
      "----------------------------------------------------------------------------------------------------\n"
     ]
    },
    {
     "name": "stderr",
     "output_type": "stream",
     "text": [
      "3it [01:52, 37.29s/it]"
     ]
    },
    {
     "name": "stdout",
     "output_type": "stream",
     "text": [
      "RMSE for Base model is 0.373511590885701\n",
      "RMSE for Incremental trial 1 model is 0.35984796143177633\n",
      "RMSE for Incremental trial 2 model is 0.3508172357735053\n",
      "RMSE for Incremental trial 3 model is 0.3447729507711108\n",
      "RMSE for Incremental trial 4 model is 0.34066862991517316\n",
      "RMSE for Incremental trial 5 model is 0.337844066121068\n",
      "RMSE for Incremental trial 6 model is 0.3358559685964864\n",
      "RMSE for Incremental trial 7 model is 0.3344265887903958\n",
      "\n",
      "\n",
      "Improvement of : 0.039085002095305243\n",
      "----------------------------------------------------------------------------------------------------\n"
     ]
    },
    {
     "name": "stderr",
     "output_type": "stream",
     "text": [
      "4it [02:29, 37.25s/it]"
     ]
    },
    {
     "name": "stdout",
     "output_type": "stream",
     "text": [
      "RMSE for Base model is 0.3714670458250919\n",
      "RMSE for Incremental trial 1 model is 0.3578278068139024\n",
      "RMSE for Incremental trial 2 model is 0.3488165314337551\n",
      "RMSE for Incremental trial 3 model is 0.3427937176641868\n",
      "RMSE for Incremental trial 4 model is 0.338740273134101\n",
      "RMSE for Incremental trial 5 model is 0.3359660691725716\n",
      "RMSE for Incremental trial 6 model is 0.33402772164550004\n",
      "RMSE for Incremental trial 7 model is 0.33264627182190026\n",
      "\n",
      "\n",
      "Improvement of : 0.038820774003191616\n",
      "----------------------------------------------------------------------------------------------------\n"
     ]
    },
    {
     "name": "stderr",
     "output_type": "stream",
     "text": [
      "5it [03:06, 37.25s/it]"
     ]
    },
    {
     "name": "stdout",
     "output_type": "stream",
     "text": [
      "RMSE for Base model is 0.3721580218412713\n",
      "RMSE for Incremental trial 1 model is 0.3584852446071439\n",
      "RMSE for Incremental trial 2 model is 0.3494057899792381\n",
      "RMSE for Incremental trial 3 model is 0.3433100051039585\n",
      "RMSE for Incremental trial 4 model is 0.3391537780817807\n",
      "RMSE for Incremental trial 5 model is 0.33628379914733547\n",
      "RMSE for Incremental trial 6 model is 0.3342588133835076\n",
      "RMSE for Incremental trial 7 model is 0.33279084890138433\n",
      "\n",
      "\n",
      "Improvement of : 0.03936717293988695\n",
      "----------------------------------------------------------------------------------------------------\n"
     ]
    },
    {
     "name": "stderr",
     "output_type": "stream",
     "text": [
      "6it [03:43, 37.26s/it]"
     ]
    },
    {
     "name": "stdout",
     "output_type": "stream",
     "text": [
      "RMSE for Base model is 0.3722674085246816\n",
      "RMSE for Incremental trial 1 model is 0.35857497308421465\n",
      "RMSE for Incremental trial 2 model is 0.34946262839692094\n",
      "RMSE for Incremental trial 3 model is 0.3433295398169107\n",
      "RMSE for Incremental trial 4 model is 0.33916395099065155\n",
      "RMSE for Incremental trial 5 model is 0.33627043179941923\n",
      "RMSE for Incremental trial 6 model is 0.33423266434276944\n",
      "RMSE for Incremental trial 7 model is 0.33275990801466315\n",
      "\n",
      "\n",
      "Improvement of : 0.039507500510018445\n",
      "----------------------------------------------------------------------------------------------------\n"
     ]
    },
    {
     "name": "stderr",
     "output_type": "stream",
     "text": [
      "7it [04:20, 37.26s/it]\n",
      "0it [00:00, ?it/s]"
     ]
    },
    {
     "name": "stdout",
     "output_type": "stream",
     "text": [
      "Current fold index 8\n",
      "RMSE for Base model is 0.3697844077253317\n",
      "RMSE for Incremental trial 1 model is 0.355874480703433\n",
      "RMSE for Incremental trial 2 model is 0.34665053766413567\n",
      "RMSE for Incremental trial 3 model is 0.34046670546978863\n",
      "RMSE for Incremental trial 4 model is 0.33628309912442905\n",
      "RMSE for Incremental trial 5 model is 0.3334061471037577\n",
      "RMSE for Incremental trial 6 model is 0.3313884409694548\n",
      "RMSE for Incremental trial 7 model is 0.32995076397762335\n",
      "\n",
      "\n",
      "Improvement of : 0.03983364374770837\n",
      "----------------------------------------------------------------------------------------------------\n"
     ]
    },
    {
     "name": "stderr",
     "output_type": "stream",
     "text": [
      "1it [00:37, 37.14s/it]"
     ]
    },
    {
     "name": "stdout",
     "output_type": "stream",
     "text": [
      "RMSE for Base model is 0.37359189891359285\n",
      "RMSE for Incremental trial 1 model is 0.35988125309000346\n",
      "RMSE for Incremental trial 2 model is 0.35080934011623244\n",
      "RMSE for Incremental trial 3 model is 0.3447286772325165\n",
      "RMSE for Incremental trial 4 model is 0.34061119298443965\n",
      "RMSE for Incremental trial 5 model is 0.3377829911082315\n",
      "RMSE for Incremental trial 6 model is 0.3357906967126206\n",
      "RMSE for Incremental trial 7 model is 0.3343550753862389\n",
      "\n",
      "\n",
      "Improvement of : 0.03923682352735397\n",
      "----------------------------------------------------------------------------------------------------\n"
     ]
    },
    {
     "name": "stderr",
     "output_type": "stream",
     "text": [
      "2it [01:14, 37.04s/it]"
     ]
    },
    {
     "name": "stdout",
     "output_type": "stream",
     "text": [
      "RMSE for Base model is 0.3736961145543954\n",
      "RMSE for Incremental trial 1 model is 0.35994175004174245\n",
      "RMSE for Incremental trial 2 model is 0.35083314464709375\n",
      "RMSE for Incremental trial 3 model is 0.34471715585307794\n",
      "RMSE for Incremental trial 4 model is 0.3405643087492717\n",
      "RMSE for Incremental trial 5 model is 0.33769277242595996\n",
      "RMSE for Incremental trial 6 model is 0.335664356616658\n",
      "RMSE for Incremental trial 7 model is 0.3341956402127603\n",
      "\n",
      "\n",
      "Improvement of : 0.03950047434163506\n",
      "----------------------------------------------------------------------------------------------------\n"
     ]
    },
    {
     "name": "stderr",
     "output_type": "stream",
     "text": [
      "3it [01:50, 36.92s/it]"
     ]
    },
    {
     "name": "stdout",
     "output_type": "stream",
     "text": [
      "RMSE for Base model is 0.3735417463042358\n",
      "RMSE for Incremental trial 1 model is 0.3596730128400987\n",
      "RMSE for Incremental trial 2 model is 0.3504709135939929\n",
      "RMSE for Incremental trial 3 model is 0.34430126548609163\n",
      "RMSE for Incremental trial 4 model is 0.34011268913014775\n",
      "RMSE for Incremental trial 5 model is 0.33721926448424777\n",
      "RMSE for Incremental trial 6 model is 0.3351766576570189\n",
      "RMSE for Incremental trial 7 model is 0.3337000594138679\n",
      "\n",
      "\n",
      "Improvement of : 0.03984168689036793\n",
      "----------------------------------------------------------------------------------------------------\n"
     ]
    },
    {
     "name": "stderr",
     "output_type": "stream",
     "text": [
      "4it [02:28, 37.13s/it]"
     ]
    },
    {
     "name": "stdout",
     "output_type": "stream",
     "text": [
      "RMSE for Base model is 0.3734298388845989\n",
      "RMSE for Incremental trial 1 model is 0.35981857001534634\n",
      "RMSE for Incremental trial 2 model is 0.35081697873188566\n",
      "RMSE for Incremental trial 3 model is 0.3447808570498728\n",
      "RMSE for Incremental trial 4 model is 0.3406908991603676\n",
      "RMSE for Incremental trial 5 model is 0.33786585855256324\n",
      "RMSE for Incremental trial 6 model is 0.3358812823313177\n",
      "RMSE for Incremental trial 7 model is 0.33445425840045245\n",
      "\n",
      "\n",
      "Improvement of : 0.038975580484146455\n",
      "----------------------------------------------------------------------------------------------------\n"
     ]
    },
    {
     "name": "stderr",
     "output_type": "stream",
     "text": [
      "5it [03:06, 37.39s/it]"
     ]
    },
    {
     "name": "stdout",
     "output_type": "stream",
     "text": [
      "RMSE for Base model is 0.3699988325425776\n",
      "RMSE for Incremental trial 1 model is 0.3564622618559486\n",
      "RMSE for Incremental trial 2 model is 0.3475318542723337\n",
      "RMSE for Incremental trial 3 model is 0.34157623744183285\n",
      "RMSE for Incremental trial 4 model is 0.33757017226458463\n",
      "RMSE for Incremental trial 5 model is 0.33482794208805877\n",
      "RMSE for Incremental trial 6 model is 0.3329189292132755\n",
      "RMSE for Incremental trial 7 model is 0.33156223548795705\n",
      "\n",
      "\n",
      "Improvement of : 0.03843659705462055\n",
      "----------------------------------------------------------------------------------------------------\n"
     ]
    },
    {
     "name": "stderr",
     "output_type": "stream",
     "text": [
      "6it [03:42, 37.14s/it]"
     ]
    },
    {
     "name": "stdout",
     "output_type": "stream",
     "text": [
      "RMSE for Base model is 0.37291173670107036\n",
      "RMSE for Incremental trial 1 model is 0.35912784905481543\n",
      "RMSE for Incremental trial 2 model is 0.34995912811287655\n",
      "RMSE for Incremental trial 3 model is 0.34378951961782356\n",
      "RMSE for Incremental trial 4 model is 0.33958665413876676\n",
      "RMSE for Incremental trial 5 model is 0.3366834031668233\n",
      "RMSE for Incremental trial 6 model is 0.3346268782375191\n",
      "RMSE for Incremental trial 7 model is 0.3331369705948004\n",
      "\n",
      "\n",
      "Improvement of : 0.039774766106269954\n",
      "----------------------------------------------------------------------------------------------------\n"
     ]
    },
    {
     "name": "stderr",
     "output_type": "stream",
     "text": [
      "7it [04:19, 37.10s/it]"
     ]
    },
    {
     "name": "stdout",
     "output_type": "stream",
     "text": [
      "RMSE for Base model is 0.372375446662062\n",
      "RMSE for Incremental trial 1 model is 0.3587511188495388\n",
      "RMSE for Incremental trial 2 model is 0.34970418623718375\n",
      "RMSE for Incremental trial 3 model is 0.3436229783227131\n",
      "RMSE for Incremental trial 4 model is 0.33948329291082074\n",
      "RMSE for Incremental trial 5 model is 0.33662152904284215\n",
      "RMSE for Incremental trial 6 model is 0.334599772530793\n",
      "RMSE for Incremental trial 7 model is 0.33314713039712457\n",
      "\n",
      "\n",
      "Improvement of : 0.039228316264937446\n",
      "----------------------------------------------------------------------------------------------------\n"
     ]
    },
    {
     "name": "stderr",
     "output_type": "stream",
     "text": [
      "8it [04:56, 37.10s/it]\n",
      "0it [00:00, ?it/s]"
     ]
    },
    {
     "name": "stdout",
     "output_type": "stream",
     "text": [
      "Current fold index 9\n",
      "RMSE for Base model is 0.37014760642454086\n",
      "RMSE for Incremental trial 1 model is 0.3561287242864318\n",
      "RMSE for Incremental trial 2 model is 0.34681301437260237\n",
      "RMSE for Incremental trial 3 model is 0.3405696420975732\n",
      "RMSE for Incremental trial 4 model is 0.33634251027766743\n",
      "RMSE for Incremental trial 5 model is 0.3334394071807531\n",
      "RMSE for Incremental trial 6 model is 0.3314125587839463\n",
      "RMSE for Incremental trial 7 model is 0.3299534328115534\n",
      "\n",
      "\n",
      "Improvement of : 0.04019417361298744\n",
      "----------------------------------------------------------------------------------------------------\n"
     ]
    },
    {
     "name": "stderr",
     "output_type": "stream",
     "text": [
      "1it [00:36, 36.73s/it]"
     ]
    },
    {
     "name": "stdout",
     "output_type": "stream",
     "text": [
      "RMSE for Base model is 0.37251837255796155\n",
      "RMSE for Incremental trial 1 model is 0.358766702329769\n",
      "RMSE for Incremental trial 2 model is 0.34967735837542063\n",
      "RMSE for Incremental trial 3 model is 0.3435825600678716\n",
      "RMSE for Incremental trial 4 model is 0.33945892226867286\n",
      "RMSE for Incremental trial 5 model is 0.33661974807765227\n",
      "RMSE for Incremental trial 6 model is 0.3346287712591593\n",
      "RMSE for Incremental trial 7 model is 0.3332040741291538\n",
      "\n",
      "\n",
      "Improvement of : 0.03931429842880774\n",
      "----------------------------------------------------------------------------------------------------\n"
     ]
    },
    {
     "name": "stderr",
     "output_type": "stream",
     "text": [
      "2it [01:13, 36.84s/it]"
     ]
    },
    {
     "name": "stdout",
     "output_type": "stream",
     "text": [
      "RMSE for Base model is 0.37317083801688555\n",
      "RMSE for Incremental trial 1 model is 0.3595063028006627\n",
      "RMSE for Incremental trial 2 model is 0.35044882278858636\n",
      "RMSE for Incremental trial 3 model is 0.34437059608221865\n",
      "RMSE for Incremental trial 4 model is 0.34022302647032066\n",
      "RMSE for Incremental trial 5 model is 0.33736213402083765\n",
      "RMSE for Incremental trial 6 model is 0.3353376412541397\n",
      "RMSE for Incremental trial 7 model is 0.33385833839809764\n",
      "\n",
      "\n",
      "Improvement of : 0.03931249961878791\n",
      "----------------------------------------------------------------------------------------------------\n"
     ]
    },
    {
     "name": "stderr",
     "output_type": "stream",
     "text": [
      "3it [01:50, 37.03s/it]"
     ]
    },
    {
     "name": "stdout",
     "output_type": "stream",
     "text": [
      "RMSE for Base model is 0.37407243314507155\n",
      "RMSE for Incremental trial 1 model is 0.36016096354612276\n",
      "RMSE for Incremental trial 2 model is 0.3509294370877047\n",
      "RMSE for Incremental trial 3 model is 0.3447293169792384\n",
      "RMSE for Incremental trial 4 model is 0.34051238528072236\n",
      "RMSE for Incremental trial 5 model is 0.3375955034982539\n",
      "RMSE for Incremental trial 6 model is 0.33554035235923413\n",
      "RMSE for Incremental trial 7 model is 0.33405363580803055\n",
      "\n",
      "\n",
      "Improvement of : 0.040018797337041\n",
      "----------------------------------------------------------------------------------------------------\n"
     ]
    },
    {
     "name": "stderr",
     "output_type": "stream",
     "text": [
      "4it [02:27, 36.94s/it]"
     ]
    },
    {
     "name": "stdout",
     "output_type": "stream",
     "text": [
      "RMSE for Base model is 0.3740151038892407\n",
      "RMSE for Incremental trial 1 model is 0.3605025605958254\n",
      "RMSE for Incremental trial 2 model is 0.3515918309225824\n",
      "RMSE for Incremental trial 3 model is 0.34564063578892557\n",
      "RMSE for Incremental trial 4 model is 0.34161852635562895\n",
      "RMSE for Incremental trial 5 model is 0.3388550708070563\n",
      "RMSE for Incremental trial 6 model is 0.33690219101214086\n",
      "RMSE for Incremental trial 7 model is 0.3354949186728095\n",
      "\n",
      "\n",
      "Improvement of : 0.03852018521643119\n",
      "----------------------------------------------------------------------------------------------------\n"
     ]
    },
    {
     "name": "stderr",
     "output_type": "stream",
     "text": [
      "5it [03:04, 36.96s/it]"
     ]
    },
    {
     "name": "stdout",
     "output_type": "stream",
     "text": [
      "RMSE for Base model is 0.37213239824780797\n",
      "RMSE for Incremental trial 1 model is 0.3584454296986141\n",
      "RMSE for Incremental trial 2 model is 0.349393266886846\n",
      "RMSE for Incremental trial 3 model is 0.3433363512136474\n",
      "RMSE for Incremental trial 4 model is 0.33924316844503155\n",
      "RMSE for Incremental trial 5 model is 0.33643964906191987\n",
      "RMSE for Incremental trial 6 model is 0.3344699107308196\n",
      "RMSE for Incremental trial 7 model is 0.3330532263236977\n",
      "\n",
      "\n",
      "Improvement of : 0.039079171924110256\n",
      "----------------------------------------------------------------------------------------------------\n"
     ]
    },
    {
     "name": "stderr",
     "output_type": "stream",
     "text": [
      "6it [03:41, 37.04s/it]"
     ]
    },
    {
     "name": "stdout",
     "output_type": "stream",
     "text": [
      "RMSE for Base model is 0.36979317100623704\n",
      "RMSE for Incremental trial 1 model is 0.3562214391351421\n",
      "RMSE for Incremental trial 2 model is 0.34725871649544576\n",
      "RMSE for Incremental trial 3 model is 0.34127558134341673\n",
      "RMSE for Incremental trial 4 model is 0.3372377344849706\n",
      "RMSE for Incremental trial 5 model is 0.3344702472853977\n",
      "RMSE for Incremental trial 6 model is 0.33253046246296153\n",
      "RMSE for Incremental trial 7 model is 0.331151289582626\n",
      "\n",
      "\n",
      "Improvement of : 0.038641881423611024\n",
      "----------------------------------------------------------------------------------------------------\n"
     ]
    },
    {
     "name": "stderr",
     "output_type": "stream",
     "text": [
      "7it [04:18, 36.93s/it]"
     ]
    },
    {
     "name": "stdout",
     "output_type": "stream",
     "text": [
      "RMSE for Base model is 0.3733784992149819\n",
      "RMSE for Incremental trial 1 model is 0.35948788796758374\n",
      "RMSE for Incremental trial 2 model is 0.3502342710843341\n",
      "RMSE for Incremental trial 3 model is 0.3439755605396193\n",
      "RMSE for Incremental trial 4 model is 0.3397070173285568\n",
      "RMSE for Incremental trial 5 model is 0.3367335249381662\n",
      "RMSE for Incremental trial 6 model is 0.334625082182129\n",
      "RMSE for Incremental trial 7 model is 0.3330901480182884\n",
      "\n",
      "\n",
      "Improvement of : 0.040288351196693495\n",
      "----------------------------------------------------------------------------------------------------\n"
     ]
    },
    {
     "name": "stderr",
     "output_type": "stream",
     "text": [
      "8it [04:55, 36.94s/it]"
     ]
    },
    {
     "name": "stdout",
     "output_type": "stream",
     "text": [
      "RMSE for Base model is 0.37232009492103796\n",
      "RMSE for Incremental trial 1 model is 0.3587482361087457\n",
      "RMSE for Incremental trial 2 model is 0.3497398914287093\n",
      "RMSE for Incremental trial 3 model is 0.3436910993434336\n",
      "RMSE for Incremental trial 4 model is 0.33958388705285736\n",
      "RMSE for Incremental trial 5 model is 0.33674423882601867\n",
      "RMSE for Incremental trial 6 model is 0.3347506023528013\n",
      "RMSE for Incremental trial 7 model is 0.3333159869251215\n",
      "\n",
      "\n",
      "Improvement of : 0.03900410799591647\n",
      "----------------------------------------------------------------------------------------------------\n"
     ]
    },
    {
     "name": "stderr",
     "output_type": "stream",
     "text": [
      "9it [05:32, 36.93s/it]\n",
      "0it [00:00, ?it/s]"
     ]
    },
    {
     "name": "stdout",
     "output_type": "stream",
     "text": [
      "Current fold index 10\n",
      "RMSE for Base model is 0.3706915495745167\n",
      "RMSE for Incremental trial 1 model is 0.3568004970139223\n",
      "RMSE for Incremental trial 2 model is 0.34760092414919663\n",
      "RMSE for Incremental trial 3 model is 0.3414409269839553\n",
      "RMSE for Incremental trial 4 model is 0.33728546579774915\n",
      "RMSE for Incremental trial 5 model is 0.3344309676826618\n",
      "RMSE for Incremental trial 6 model is 0.33244072840564143\n",
      "RMSE for Incremental trial 7 model is 0.33102355302698433\n",
      "\n",
      "\n",
      "Improvement of : 0.03966799654753239\n",
      "----------------------------------------------------------------------------------------------------\n"
     ]
    },
    {
     "name": "stderr",
     "output_type": "stream",
     "text": [
      "1it [00:36, 36.48s/it]"
     ]
    },
    {
     "name": "stdout",
     "output_type": "stream",
     "text": [
      "RMSE for Base model is 0.3714142167264249\n",
      "RMSE for Incremental trial 1 model is 0.3576041143121463\n",
      "RMSE for Incremental trial 2 model is 0.34845567471846983\n",
      "RMSE for Incremental trial 3 model is 0.342329380075966\n",
      "RMSE for Incremental trial 4 model is 0.33818279184796246\n",
      "RMSE for Incremental trial 5 model is 0.33532125490054254\n",
      "RMSE for Incremental trial 6 model is 0.3333183667620892\n",
      "RMSE for Incremental trial 7 model is 0.33187572478707883\n",
      "\n",
      "\n",
      "Improvement of : 0.039538491939346054\n",
      "----------------------------------------------------------------------------------------------------\n"
     ]
    },
    {
     "name": "stderr",
     "output_type": "stream",
     "text": [
      "2it [01:13, 36.58s/it]"
     ]
    },
    {
     "name": "stdout",
     "output_type": "stream",
     "text": [
      "RMSE for Base model is 0.3738976392775513\n",
      "RMSE for Incremental trial 1 model is 0.3601611267687405\n",
      "RMSE for Incremental trial 2 model is 0.35104206639211627\n",
      "RMSE for Incremental trial 3 model is 0.3449129634283108\n",
      "RMSE for Incremental trial 4 model is 0.340743969131918\n",
      "RMSE for Incremental trial 5 model is 0.3378515288155395\n",
      "RMSE for Incremental trial 6 model is 0.33580905842447856\n",
      "RMSE for Incremental trial 7 model is 0.3343232433030618\n",
      "\n",
      "\n",
      "Improvement of : 0.03957439597448953\n",
      "----------------------------------------------------------------------------------------------------\n"
     ]
    },
    {
     "name": "stderr",
     "output_type": "stream",
     "text": [
      "3it [01:49, 36.45s/it]"
     ]
    },
    {
     "name": "stdout",
     "output_type": "stream",
     "text": [
      "RMSE for Base model is 0.3741165505668489\n",
      "RMSE for Incremental trial 1 model is 0.3603883787837547\n",
      "RMSE for Incremental trial 2 model is 0.3513123618617317\n",
      "RMSE for Incremental trial 3 model is 0.34523551671420705\n",
      "RMSE for Incremental trial 4 model is 0.3411257443819396\n",
      "RMSE for Incremental trial 5 model is 0.3382961100475741\n",
      "RMSE for Incremental trial 6 model is 0.3362911470242085\n",
      "RMSE for Incremental trial 7 model is 0.33484581705411043\n",
      "\n",
      "\n",
      "Improvement of : 0.039270733512738465\n",
      "----------------------------------------------------------------------------------------------------\n"
     ]
    },
    {
     "name": "stderr",
     "output_type": "stream",
     "text": [
      "4it [02:26, 36.66s/it]"
     ]
    },
    {
     "name": "stdout",
     "output_type": "stream",
     "text": [
      "RMSE for Base model is 0.3729722418464131\n",
      "RMSE for Incremental trial 1 model is 0.359041876118623\n",
      "RMSE for Incremental trial 2 model is 0.3497979697987919\n",
      "RMSE for Incremental trial 3 model is 0.3435990879469906\n",
      "RMSE for Incremental trial 4 model is 0.33938386867732717\n",
      "RMSE for Incremental trial 5 model is 0.3364775778270834\n",
      "RMSE for Incremental trial 6 model is 0.33443070728045343\n",
      "RMSE for Incremental trial 7 model is 0.3329468759857779\n",
      "\n",
      "\n",
      "Improvement of : 0.04002536586063521\n",
      "----------------------------------------------------------------------------------------------------\n"
     ]
    },
    {
     "name": "stderr",
     "output_type": "stream",
     "text": [
      "5it [03:03, 36.84s/it]"
     ]
    },
    {
     "name": "stdout",
     "output_type": "stream",
     "text": [
      "RMSE for Base model is 0.37313097549254676\n",
      "RMSE for Incremental trial 1 model is 0.3594889977542615\n",
      "RMSE for Incremental trial 2 model is 0.3504720773517839\n",
      "RMSE for Incremental trial 3 model is 0.344429424179011\n",
      "RMSE for Incremental trial 4 model is 0.3403376420884872\n",
      "RMSE for Incremental trial 5 model is 0.3375060524152428\n",
      "RMSE for Incremental trial 6 model is 0.3355218618330504\n",
      "RMSE for Incremental trial 7 model is 0.334091650237452\n",
      "\n",
      "\n",
      "Improvement of : 0.03903932525509474\n",
      "----------------------------------------------------------------------------------------------------\n"
     ]
    },
    {
     "name": "stderr",
     "output_type": "stream",
     "text": [
      "6it [03:40, 36.89s/it]"
     ]
    },
    {
     "name": "stdout",
     "output_type": "stream",
     "text": [
      "RMSE for Base model is 0.37184344350647164\n",
      "RMSE for Incremental trial 1 model is 0.3583039620630325\n",
      "RMSE for Incremental trial 2 model is 0.3493917460010048\n",
      "RMSE for Incremental trial 3 model is 0.3434319005740458\n",
      "RMSE for Incremental trial 4 model is 0.3394302825538007\n",
      "RMSE for Incremental trial 5 model is 0.33669610090101326\n",
      "RMSE for Incremental trial 6 model is 0.33478440957686906\n",
      "RMSE for Incremental trial 7 model is 0.3334372934654042\n",
      "\n",
      "\n",
      "Improvement of : 0.038406150041067455\n",
      "----------------------------------------------------------------------------------------------------\n"
     ]
    },
    {
     "name": "stderr",
     "output_type": "stream",
     "text": [
      "7it [04:17, 36.80s/it]"
     ]
    },
    {
     "name": "stdout",
     "output_type": "stream",
     "text": [
      "RMSE for Base model is 0.37035903424340594\n",
      "RMSE for Incremental trial 1 model is 0.3567821917900493\n",
      "RMSE for Incremental trial 2 model is 0.34777732272439094\n",
      "RMSE for Incremental trial 3 model is 0.3417381434935105\n",
      "RMSE for Incremental trial 4 model is 0.3376433440816898\n",
      "RMSE for Incremental trial 5 model is 0.33481925921195954\n",
      "RMSE for Incremental trial 6 model is 0.33283822725524215\n",
      "RMSE for Incremental trial 7 model is 0.3314150499818648\n",
      "\n",
      "\n",
      "Improvement of : 0.038943984261541165\n",
      "----------------------------------------------------------------------------------------------------\n"
     ]
    },
    {
     "name": "stderr",
     "output_type": "stream",
     "text": [
      "8it [04:53, 36.80s/it]"
     ]
    },
    {
     "name": "stdout",
     "output_type": "stream",
     "text": [
      "RMSE for Base model is 0.3730321477081139\n",
      "RMSE for Incremental trial 1 model is 0.3591206438418937\n",
      "RMSE for Incremental trial 2 model is 0.3498639029800701\n",
      "RMSE for Incremental trial 3 model is 0.34363174695984117\n",
      "RMSE for Incremental trial 4 model is 0.3393795269394323\n",
      "RMSE for Incremental trial 5 model is 0.3364245135334445\n",
      "RMSE for Incremental trial 6 model is 0.33433655041265625\n",
      "RMSE for Incremental trial 7 model is 0.3328231936665967\n",
      "\n",
      "\n",
      "Improvement of : 0.0402089540415172\n",
      "----------------------------------------------------------------------------------------------------\n"
     ]
    },
    {
     "name": "stderr",
     "output_type": "stream",
     "text": [
      "9it [05:31, 36.92s/it]"
     ]
    },
    {
     "name": "stdout",
     "output_type": "stream",
     "text": [
      "RMSE for Base model is 0.3722390319741864\n",
      "RMSE for Incremental trial 1 model is 0.3586701121095203\n",
      "RMSE for Incremental trial 2 model is 0.34966680244069037\n",
      "RMSE for Incremental trial 3 model is 0.34362042992364505\n",
      "RMSE for Incremental trial 4 model is 0.33952734817908464\n",
      "RMSE for Incremental trial 5 model is 0.3366991790043086\n",
      "RMSE for Incremental trial 6 model is 0.33471174636803835\n",
      "RMSE for Incremental trial 7 model is 0.3332811286167633\n",
      "\n",
      "\n",
      "Improvement of : 0.03895790335742311\n",
      "----------------------------------------------------------------------------------------------------\n"
     ]
    },
    {
     "name": "stderr",
     "output_type": "stream",
     "text": [
      "10it [06:07, 36.76s/it]\n",
      "0it [00:00, ?it/s]"
     ]
    },
    {
     "name": "stdout",
     "output_type": "stream",
     "text": [
      "Current fold index 11\n",
      "RMSE for Base model is 0.3708868804194711\n",
      "RMSE for Incremental trial 1 model is 0.35695564806406155\n",
      "RMSE for Incremental trial 2 model is 0.3477192933536403\n",
      "RMSE for Incremental trial 3 model is 0.3415358285042162\n",
      "RMSE for Incremental trial 4 model is 0.3373676636059082\n",
      "RMSE for Incremental trial 5 model is 0.33450693888213423\n",
      "RMSE for Incremental trial 6 model is 0.3325121165668705\n",
      "RMSE for Incremental trial 7 model is 0.33109521326223745\n",
      "\n",
      "\n",
      "Improvement of : 0.039791667157233646\n",
      "----------------------------------------------------------------------------------------------------\n"
     ]
    },
    {
     "name": "stderr",
     "output_type": "stream",
     "text": [
      "1it [00:36, 36.81s/it]"
     ]
    },
    {
     "name": "stdout",
     "output_type": "stream",
     "text": [
      "RMSE for Base model is 0.370653770883426\n",
      "RMSE for Incremental trial 1 model is 0.35678582203797904\n",
      "RMSE for Incremental trial 2 model is 0.3475972806891389\n",
      "RMSE for Incremental trial 3 model is 0.34143797224346134\n",
      "RMSE for Incremental trial 4 model is 0.33726478593326326\n",
      "RMSE for Incremental trial 5 model is 0.3343796891680141\n",
      "RMSE for Incremental trial 6 model is 0.33235939505632883\n",
      "RMSE for Incremental trial 7 model is 0.33089676347108415\n",
      "\n",
      "\n",
      "Improvement of : 0.03975700741234184\n",
      "----------------------------------------------------------------------------------------------------\n"
     ]
    },
    {
     "name": "stderr",
     "output_type": "stream",
     "text": [
      "2it [01:13, 36.74s/it]"
     ]
    },
    {
     "name": "stdout",
     "output_type": "stream",
     "text": [
      "RMSE for Base model is 0.3751858743899472\n",
      "RMSE for Incremental trial 1 model is 0.36160947160986634\n",
      "RMSE for Incremental trial 2 model is 0.3526227385402513\n",
      "RMSE for Incremental trial 3 model is 0.34660001297008824\n",
      "RMSE for Incremental trial 4 model is 0.34251945418877616\n",
      "RMSE for Incremental trial 5 model is 0.33971426113069664\n",
      "RMSE for Incremental trial 6 model is 0.3377401985512171\n",
      "RMSE for Incremental trial 7 model is 0.3363245292085469\n",
      "\n",
      "\n",
      "Improvement of : 0.03886134518140033\n",
      "----------------------------------------------------------------------------------------------------\n"
     ]
    },
    {
     "name": "stderr",
     "output_type": "stream",
     "text": [
      "3it [01:50, 36.78s/it]"
     ]
    },
    {
     "name": "stdout",
     "output_type": "stream",
     "text": [
      "RMSE for Base model is 0.3719452992840306\n",
      "RMSE for Incremental trial 1 model is 0.3581924270312093\n",
      "RMSE for Incremental trial 2 model is 0.34909683166096667\n",
      "RMSE for Incremental trial 3 model is 0.342994366297873\n",
      "RMSE for Incremental trial 4 model is 0.3388613069236935\n",
      "RMSE for Incremental trial 5 model is 0.3360002862822539\n",
      "RMSE for Incremental trial 6 model is 0.3339892535283484\n",
      "RMSE for Incremental trial 7 model is 0.3325371417201802\n",
      "\n",
      "\n",
      "Improvement of : 0.03940815756385041\n",
      "----------------------------------------------------------------------------------------------------\n"
     ]
    },
    {
     "name": "stderr",
     "output_type": "stream",
     "text": [
      "4it [02:27, 36.86s/it]"
     ]
    },
    {
     "name": "stdout",
     "output_type": "stream",
     "text": [
      "RMSE for Base model is 0.3729125926470851\n",
      "RMSE for Incremental trial 1 model is 0.3588288409293185\n",
      "RMSE for Incremental trial 2 model is 0.3494568266088409\n",
      "RMSE for Incremental trial 3 model is 0.3431524043107347\n",
      "RMSE for Incremental trial 4 model is 0.3388647063426071\n",
      "RMSE for Incremental trial 5 model is 0.3358949043970204\n",
      "RMSE for Incremental trial 6 model is 0.33379027028801345\n",
      "RMSE for Incremental trial 7 model is 0.33226571138438143\n",
      "\n",
      "\n",
      "Improvement of : 0.04064688126270366\n",
      "----------------------------------------------------------------------------------------------------\n"
     ]
    },
    {
     "name": "stderr",
     "output_type": "stream",
     "text": [
      "5it [03:04, 36.83s/it]"
     ]
    },
    {
     "name": "stdout",
     "output_type": "stream",
     "text": [
      "RMSE for Base model is 0.3747391466522029\n",
      "RMSE for Incremental trial 1 model is 0.361356741237292\n",
      "RMSE for Incremental trial 2 model is 0.3525466770350564\n",
      "RMSE for Incremental trial 3 model is 0.3466762384877015\n",
      "RMSE for Incremental trial 4 model is 0.3427143691312482\n",
      "RMSE for Incremental trial 5 model is 0.3399950558141871\n",
      "RMSE for Incremental trial 6 model is 0.3380907504885087\n",
      "RMSE for Incremental trial 7 model is 0.3367060249262654\n",
      "\n",
      "\n",
      "Improvement of : 0.038033121725937535\n",
      "----------------------------------------------------------------------------------------------------\n"
     ]
    },
    {
     "name": "stderr",
     "output_type": "stream",
     "text": [
      "6it [03:40, 36.79s/it]"
     ]
    },
    {
     "name": "stdout",
     "output_type": "stream",
     "text": [
      "RMSE for Base model is 0.3726912919209369\n",
      "RMSE for Incremental trial 1 model is 0.3588306622862149\n",
      "RMSE for Incremental trial 2 model is 0.3496321047403558\n",
      "RMSE for Incremental trial 3 model is 0.34345057027174514\n",
      "RMSE for Incremental trial 4 model is 0.3392520249176848\n",
      "RMSE for Incremental trial 5 model is 0.3363469039754421\n",
      "RMSE for Incremental trial 6 model is 0.334308850474964\n",
      "RMSE for Incremental trial 7 model is 0.33282931039211455\n",
      "\n",
      "\n",
      "Improvement of : 0.039861981528822366\n",
      "----------------------------------------------------------------------------------------------------\n"
     ]
    },
    {
     "name": "stderr",
     "output_type": "stream",
     "text": [
      "7it [04:17, 36.77s/it]"
     ]
    },
    {
     "name": "stdout",
     "output_type": "stream",
     "text": [
      "RMSE for Base model is 0.3699503818339373\n",
      "RMSE for Incremental trial 1 model is 0.35639056846647443\n",
      "RMSE for Incremental trial 2 model is 0.3474511863267152\n",
      "RMSE for Incremental trial 3 model is 0.34150129747275815\n",
      "RMSE for Incremental trial 4 model is 0.33749414193174676\n",
      "RMSE for Incremental trial 5 model is 0.33477341712667846\n",
      "RMSE for Incremental trial 6 model is 0.33287667909352425\n",
      "RMSE for Incremental trial 7 model is 0.33154369487298774\n",
      "\n",
      "\n",
      "Improvement of : 0.038406686960949565\n",
      "----------------------------------------------------------------------------------------------------\n"
     ]
    },
    {
     "name": "stderr",
     "output_type": "stream",
     "text": [
      "8it [04:54, 36.85s/it]"
     ]
    },
    {
     "name": "stdout",
     "output_type": "stream",
     "text": [
      "RMSE for Base model is 0.37168227040860885\n",
      "RMSE for Incremental trial 1 model is 0.3581088111712729\n",
      "RMSE for Incremental trial 2 model is 0.3491051121643404\n",
      "RMSE for Incremental trial 3 model is 0.34305704738993814\n",
      "RMSE for Incremental trial 4 model is 0.33894556404844683\n",
      "RMSE for Incremental trial 5 model is 0.33610092489793\n",
      "RMSE for Incremental trial 6 model is 0.3340831885931157\n",
      "RMSE for Incremental trial 7 model is 0.33263044417260657\n",
      "\n",
      "\n",
      "Improvement of : 0.039051826236002285\n",
      "----------------------------------------------------------------------------------------------------\n"
     ]
    },
    {
     "name": "stderr",
     "output_type": "stream",
     "text": [
      "9it [05:31, 36.80s/it]"
     ]
    },
    {
     "name": "stdout",
     "output_type": "stream",
     "text": [
      "RMSE for Base model is 0.3730092109819395\n",
      "RMSE for Incremental trial 1 model is 0.3591190708600632\n",
      "RMSE for Incremental trial 2 model is 0.34988363100680825\n",
      "RMSE for Incremental trial 3 model is 0.3436557857276805\n",
      "RMSE for Incremental trial 4 model is 0.33940548688995437\n",
      "RMSE for Incremental trial 5 model is 0.3364583472793092\n",
      "RMSE for Incremental trial 6 model is 0.33437768994102135\n",
      "RMSE for Incremental trial 7 model is 0.33287574186979774\n",
      "\n",
      "\n",
      "Improvement of : 0.04013346911214177\n",
      "----------------------------------------------------------------------------------------------------\n"
     ]
    },
    {
     "name": "stderr",
     "output_type": "stream",
     "text": [
      "10it [06:08, 36.80s/it]"
     ]
    },
    {
     "name": "stdout",
     "output_type": "stream",
     "text": [
      "RMSE for Base model is 0.3721210507679724\n",
      "RMSE for Incremental trial 1 model is 0.35854378175392715\n",
      "RMSE for Incremental trial 2 model is 0.3495404269875935\n",
      "RMSE for Incremental trial 3 model is 0.3434895555023135\n",
      "RMSE for Incremental trial 4 model is 0.3393900173513937\n",
      "RMSE for Incremental trial 5 model is 0.33655956555373395\n",
      "RMSE for Incremental trial 6 model is 0.334566523041651\n",
      "RMSE for Incremental trial 7 model is 0.3331301446516624\n",
      "\n",
      "\n",
      "Improvement of : 0.03899090611631001\n",
      "----------------------------------------------------------------------------------------------------\n"
     ]
    },
    {
     "name": "stderr",
     "output_type": "stream",
     "text": [
      "11it [06:44, 36.78s/it]\n",
      "0it [00:00, ?it/s]"
     ]
    },
    {
     "name": "stdout",
     "output_type": "stream",
     "text": [
      "Current fold index 12\n",
      "RMSE for Base model is 0.37110328564916867\n",
      "RMSE for Incremental trial 1 model is 0.35717913932650913\n",
      "RMSE for Incremental trial 2 model is 0.3479512564178263\n",
      "RMSE for Incremental trial 3 model is 0.3417602478251244\n",
      "RMSE for Incremental trial 4 model is 0.33758792243916247\n",
      "RMSE for Incremental trial 5 model is 0.33472545310666213\n",
      "RMSE for Incremental trial 6 model is 0.33272028739830284\n",
      "RMSE for Incremental trial 7 model is 0.3312834961390976\n",
      "\n",
      "\n",
      "Improvement of : 0.03981978951007109\n",
      "----------------------------------------------------------------------------------------------------\n"
     ]
    },
    {
     "name": "stderr",
     "output_type": "stream",
     "text": [
      "1it [00:36, 36.36s/it]"
     ]
    },
    {
     "name": "stdout",
     "output_type": "stream",
     "text": [
      "RMSE for Base model is 0.37060637746642544\n",
      "RMSE for Incremental trial 1 model is 0.35662350395308456\n",
      "RMSE for Incremental trial 2 model is 0.34734209213416295\n",
      "RMSE for Incremental trial 3 model is 0.3411088369807735\n",
      "RMSE for Incremental trial 4 model is 0.3368736090988018\n",
      "RMSE for Incremental trial 5 model is 0.33394705338395697\n",
      "RMSE for Incremental trial 6 model is 0.3318948851974522\n",
      "RMSE for Incremental trial 7 model is 0.33041047751037617\n",
      "\n",
      "\n",
      "Improvement of : 0.040195899956049275\n",
      "----------------------------------------------------------------------------------------------------\n"
     ]
    },
    {
     "name": "stderr",
     "output_type": "stream",
     "text": [
      "2it [01:13, 36.93s/it]"
     ]
    },
    {
     "name": "stdout",
     "output_type": "stream",
     "text": [
      "RMSE for Base model is 0.37316091352274744\n",
      "RMSE for Incremental trial 1 model is 0.35960583406042473\n",
      "RMSE for Incremental trial 2 model is 0.35066201009918546\n",
      "RMSE for Incremental trial 3 model is 0.34469809703510096\n",
      "RMSE for Incremental trial 4 model is 0.3406635624678099\n",
      "RMSE for Incremental trial 5 model is 0.3378959059087782\n",
      "RMSE for Incremental trial 6 model is 0.33595599055271\n",
      "RMSE for Incremental trial 7 model is 0.3345660330009808\n",
      "\n",
      "\n",
      "Improvement of : 0.03859488052176663\n",
      "----------------------------------------------------------------------------------------------------\n"
     ]
    },
    {
     "name": "stderr",
     "output_type": "stream",
     "text": [
      "3it [01:50, 36.87s/it]"
     ]
    },
    {
     "name": "stdout",
     "output_type": "stream",
     "text": [
      "RMSE for Base model is 0.3727111938844859\n",
      "RMSE for Incremental trial 1 model is 0.358912924979853\n",
      "RMSE for Incremental trial 2 model is 0.3497658868644029\n",
      "RMSE for Incremental trial 3 model is 0.34362115076258437\n",
      "RMSE for Incremental trial 4 model is 0.3394404038042888\n",
      "RMSE for Incremental trial 5 model is 0.3365495288025974\n",
      "RMSE for Incremental trial 6 model is 0.3345026709957926\n",
      "RMSE for Incremental trial 7 model is 0.33300969485310716\n",
      "\n",
      "\n",
      "Improvement of : 0.03970149903137876\n",
      "----------------------------------------------------------------------------------------------------\n"
     ]
    },
    {
     "name": "stderr",
     "output_type": "stream",
     "text": [
      "4it [02:27, 36.76s/it]"
     ]
    },
    {
     "name": "stdout",
     "output_type": "stream",
     "text": [
      "RMSE for Base model is 0.37451972137909745\n",
      "RMSE for Incremental trial 1 model is 0.3607896286329256\n",
      "RMSE for Incremental trial 2 model is 0.35171011068083174\n",
      "RMSE for Incremental trial 3 model is 0.34563142812564196\n",
      "RMSE for Incremental trial 4 model is 0.3415230736060164\n",
      "RMSE for Incremental trial 5 model is 0.33869167432736264\n",
      "RMSE for Incremental trial 6 model is 0.3366895565797638\n",
      "RMSE for Incremental trial 7 model is 0.33526249202443603\n",
      "\n",
      "\n",
      "Improvement of : 0.039257229354661416\n",
      "----------------------------------------------------------------------------------------------------\n"
     ]
    },
    {
     "name": "stderr",
     "output_type": "stream",
     "text": [
      "5it [03:03, 36.74s/it]"
     ]
    },
    {
     "name": "stdout",
     "output_type": "stream",
     "text": [
      "RMSE for Base model is 0.3734256546016977\n",
      "RMSE for Incremental trial 1 model is 0.3594799405729666\n",
      "RMSE for Incremental trial 2 model is 0.35022790452083247\n",
      "RMSE for Incremental trial 3 model is 0.3440266446872921\n",
      "RMSE for Incremental trial 4 model is 0.33980544954837455\n",
      "RMSE for Incremental trial 5 model is 0.33688748771428595\n",
      "RMSE for Incremental trial 6 model is 0.33482253289802405\n",
      "RMSE for Incremental trial 7 model is 0.33333504230845584\n",
      "\n",
      "\n",
      "Improvement of : 0.040090612293241845\n",
      "----------------------------------------------------------------------------------------------------\n"
     ]
    },
    {
     "name": "stderr",
     "output_type": "stream",
     "text": [
      "6it [03:40, 36.70s/it]"
     ]
    },
    {
     "name": "stdout",
     "output_type": "stream",
     "text": [
      "RMSE for Base model is 0.3733254329702199\n",
      "RMSE for Incremental trial 1 model is 0.3597086346799296\n",
      "RMSE for Incremental trial 2 model is 0.3507171566019197\n",
      "RMSE for Incremental trial 3 model is 0.344693185441175\n",
      "RMSE for Incremental trial 4 model is 0.3406162352250641\n",
      "RMSE for Incremental trial 5 model is 0.3377963832932858\n",
      "RMSE for Incremental trial 6 model is 0.33581340987569264\n",
      "RMSE for Incremental trial 7 model is 0.33437968041311084\n",
      "\n",
      "\n",
      "Improvement of : 0.03894575255710908\n",
      "----------------------------------------------------------------------------------------------------\n"
     ]
    },
    {
     "name": "stderr",
     "output_type": "stream",
     "text": [
      "7it [04:17, 36.81s/it]"
     ]
    },
    {
     "name": "stdout",
     "output_type": "stream",
     "text": [
      "RMSE for Base model is 0.37215793998351104\n",
      "RMSE for Incremental trial 1 model is 0.3586208171013992\n",
      "RMSE for Incremental trial 2 model is 0.3497009976142125\n",
      "RMSE for Incremental trial 3 model is 0.3437358053324403\n",
      "RMSE for Incremental trial 4 model is 0.33972359318162415\n",
      "RMSE for Incremental trial 5 model is 0.3369756793499959\n",
      "RMSE for Incremental trial 6 model is 0.33505669982131164\n",
      "RMSE for Incremental trial 7 model is 0.3336740515624197\n",
      "\n",
      "\n",
      "Improvement of : 0.03848388842109135\n",
      "----------------------------------------------------------------------------------------------------\n"
     ]
    },
    {
     "name": "stderr",
     "output_type": "stream",
     "text": [
      "8it [04:53, 36.69s/it]"
     ]
    },
    {
     "name": "stdout",
     "output_type": "stream",
     "text": [
      "RMSE for Base model is 0.36941923028839185\n",
      "RMSE for Incremental trial 1 model is 0.35581419855877655\n",
      "RMSE for Incremental trial 2 model is 0.3468217022957413\n",
      "RMSE for Incremental trial 3 model is 0.3408227664098042\n",
      "RMSE for Incremental trial 4 model is 0.3367686835282516\n",
      "RMSE for Incremental trial 5 model is 0.33399615004760524\n",
      "RMSE for Incremental trial 6 model is 0.33204573703296564\n",
      "RMSE for Incremental trial 7 model is 0.33064569423193235\n",
      "\n",
      "\n",
      "Improvement of : 0.0387735360564595\n",
      "----------------------------------------------------------------------------------------------------\n"
     ]
    },
    {
     "name": "stderr",
     "output_type": "stream",
     "text": [
      "9it [05:30, 36.76s/it]"
     ]
    },
    {
     "name": "stdout",
     "output_type": "stream",
     "text": [
      "RMSE for Base model is 0.3732311094401465\n",
      "RMSE for Incremental trial 1 model is 0.35960901166963993\n",
      "RMSE for Incremental trial 2 model is 0.3505637781297445\n",
      "RMSE for Incremental trial 3 model is 0.344478867353773\n",
      "RMSE for Incremental trial 4 model is 0.3403229092556584\n",
      "RMSE for Incremental trial 5 model is 0.33744122266650717\n",
      "RMSE for Incremental trial 6 model is 0.33540385876773976\n",
      "RMSE for Incremental trial 7 model is 0.333927407148437\n",
      "\n",
      "\n",
      "Improvement of : 0.039303702291709486\n",
      "----------------------------------------------------------------------------------------------------\n"
     ]
    },
    {
     "name": "stderr",
     "output_type": "stream",
     "text": [
      "10it [06:07, 36.82s/it]"
     ]
    },
    {
     "name": "stdout",
     "output_type": "stream",
     "text": [
      "RMSE for Base model is 0.3726057280217834\n",
      "RMSE for Incremental trial 1 model is 0.35873841281198676\n",
      "RMSE for Incremental trial 2 model is 0.34953440230214144\n",
      "RMSE for Incremental trial 3 model is 0.3433304475915811\n",
      "RMSE for Incremental trial 4 model is 0.33910853281301934\n",
      "RMSE for Incremental trial 5 model is 0.3361921493735617\n",
      "RMSE for Incremental trial 6 model is 0.33413213742233067\n",
      "RMSE for Incremental trial 7 model is 0.3326453536105817\n",
      "\n",
      "\n",
      "Improvement of : 0.039960374411201705\n",
      "----------------------------------------------------------------------------------------------------\n"
     ]
    },
    {
     "name": "stderr",
     "output_type": "stream",
     "text": [
      "11it [06:44, 36.77s/it]"
     ]
    },
    {
     "name": "stdout",
     "output_type": "stream",
     "text": [
      "RMSE for Base model is 0.37183318926687975\n",
      "RMSE for Incremental trial 1 model is 0.35819531902166596\n",
      "RMSE for Incremental trial 2 model is 0.34914054704591574\n",
      "RMSE for Incremental trial 3 model is 0.34305492228008394\n",
      "RMSE for Incremental trial 4 model is 0.33893542530374277\n",
      "RMSE for Incremental trial 5 model is 0.33609436603256565\n",
      "RMSE for Incremental trial 6 model is 0.3341060516275016\n",
      "RMSE for Incremental trial 7 model is 0.3326601182863958\n",
      "\n",
      "\n",
      "Improvement of : 0.03917307098048395\n",
      "----------------------------------------------------------------------------------------------------\n"
     ]
    },
    {
     "name": "stderr",
     "output_type": "stream",
     "text": [
      "12it [07:21, 36.80s/it]\n",
      "0it [00:00, ?it/s]"
     ]
    },
    {
     "name": "stdout",
     "output_type": "stream",
     "text": [
      "Current fold index 13\n",
      "RMSE for Base model is 0.37084629687787196\n",
      "RMSE for Incremental trial 1 model is 0.3569208573350776\n",
      "RMSE for Incremental trial 2 model is 0.3476802349769597\n",
      "RMSE for Incremental trial 3 model is 0.3414916946509658\n",
      "RMSE for Incremental trial 4 model is 0.33732391087359304\n",
      "RMSE for Incremental trial 5 model is 0.3344637581431841\n",
      "RMSE for Incremental trial 6 model is 0.33246459385747434\n",
      "RMSE for Incremental trial 7 model is 0.33103924043269223\n",
      "\n",
      "\n",
      "Improvement of : 0.039807056445179734\n",
      "----------------------------------------------------------------------------------------------------\n"
     ]
    },
    {
     "name": "stderr",
     "output_type": "stream",
     "text": [
      "1it [00:36, 36.64s/it]"
     ]
    },
    {
     "name": "stdout",
     "output_type": "stream",
     "text": [
      "RMSE for Base model is 0.37033452988738685\n",
      "RMSE for Incremental trial 1 model is 0.3563400163108317\n",
      "RMSE for Incremental trial 2 model is 0.34703965928879477\n",
      "RMSE for Incremental trial 3 model is 0.34078861952457834\n",
      "RMSE for Incremental trial 4 model is 0.33653968273449775\n",
      "RMSE for Incremental trial 5 model is 0.3335994669413957\n",
      "RMSE for Incremental trial 6 model is 0.3315412094599818\n",
      "RMSE for Incremental trial 7 model is 0.3300598551820495\n",
      "\n",
      "\n",
      "Improvement of : 0.040274674705337354\n",
      "----------------------------------------------------------------------------------------------------\n"
     ]
    },
    {
     "name": "stderr",
     "output_type": "stream",
     "text": [
      "2it [01:13, 36.67s/it]"
     ]
    },
    {
     "name": "stdout",
     "output_type": "stream",
     "text": [
      "RMSE for Base model is 0.3728427671378846\n",
      "RMSE for Incremental trial 1 model is 0.35914423326806694\n",
      "RMSE for Incremental trial 2 model is 0.35009756049436175\n",
      "RMSE for Incremental trial 3 model is 0.344058759782453\n",
      "RMSE for Incremental trial 4 model is 0.33999100232659263\n",
      "RMSE for Incremental trial 5 model is 0.3372037629901709\n",
      "RMSE for Incremental trial 6 model is 0.3352301462273851\n",
      "RMSE for Incremental trial 7 model is 0.33382936503209354\n",
      "\n",
      "\n",
      "Improvement of : 0.03901340210579107\n",
      "----------------------------------------------------------------------------------------------------\n"
     ]
    },
    {
     "name": "stderr",
     "output_type": "stream",
     "text": [
      "3it [01:50, 36.76s/it]"
     ]
    },
    {
     "name": "stdout",
     "output_type": "stream",
     "text": [
      "RMSE for Base model is 0.37387949301862483\n",
      "RMSE for Incremental trial 1 model is 0.36036147835870386\n",
      "RMSE for Incremental trial 2 model is 0.351417222082822\n",
      "RMSE for Incremental trial 3 model is 0.3454164071979624\n",
      "RMSE for Incremental trial 4 model is 0.34133559699936844\n",
      "RMSE for Incremental trial 5 model is 0.33852592872691645\n",
      "RMSE for Incremental trial 6 model is 0.33654950448681176\n",
      "RMSE for Incremental trial 7 model is 0.3351071839799524\n",
      "\n",
      "\n",
      "Improvement of : 0.0387723090386724\n",
      "----------------------------------------------------------------------------------------------------\n"
     ]
    },
    {
     "name": "stderr",
     "output_type": "stream",
     "text": [
      "4it [02:26, 36.75s/it]"
     ]
    },
    {
     "name": "stdout",
     "output_type": "stream",
     "text": [
      "RMSE for Base model is 0.3734678473568817\n",
      "RMSE for Incremental trial 1 model is 0.3595968996363927\n",
      "RMSE for Incremental trial 2 model is 0.3504209380803798\n",
      "RMSE for Incremental trial 3 model is 0.3442706927308895\n",
      "RMSE for Incremental trial 4 model is 0.34009743316575375\n",
      "RMSE for Incremental trial 5 model is 0.3372197282181563\n",
      "RMSE for Incremental trial 6 model is 0.33519445641838047\n",
      "RMSE for Incremental trial 7 model is 0.33372235617255\n",
      "\n",
      "\n",
      "Improvement of : 0.03974549118433168\n",
      "----------------------------------------------------------------------------------------------------\n"
     ]
    },
    {
     "name": "stderr",
     "output_type": "stream",
     "text": [
      "5it [03:03, 36.70s/it]"
     ]
    },
    {
     "name": "stdout",
     "output_type": "stream",
     "text": [
      "RMSE for Base model is 0.3729889733974887\n",
      "RMSE for Incremental trial 1 model is 0.3588703498095045\n",
      "RMSE for Incremental trial 2 model is 0.34948670629071416\n",
      "RMSE for Incremental trial 3 model is 0.34317788936365184\n",
      "RMSE for Incremental trial 4 model is 0.3388779773030721\n",
      "RMSE for Incremental trial 5 model is 0.33591549612136445\n",
      "RMSE for Incremental trial 6 model is 0.33381322831834354\n",
      "RMSE for Incremental trial 7 model is 0.3323040309049009\n",
      "\n",
      "\n",
      "Improvement of : 0.040684942492587806\n",
      "----------------------------------------------------------------------------------------------------\n"
     ]
    },
    {
     "name": "stderr",
     "output_type": "stream",
     "text": [
      "6it [03:40, 36.69s/it]"
     ]
    },
    {
     "name": "stdout",
     "output_type": "stream",
     "text": [
      "RMSE for Base model is 0.37461454230056995\n",
      "RMSE for Incremental trial 1 model is 0.3613216322055652\n",
      "RMSE for Incremental trial 2 model is 0.35258394097150936\n",
      "RMSE for Incremental trial 3 model is 0.34675986391164126\n",
      "RMSE for Incremental trial 4 model is 0.3428430876042757\n",
      "RMSE for Incremental trial 5 model is 0.34014397852666534\n",
      "RMSE for Incremental trial 6 model is 0.3382524262088006\n",
      "RMSE for Incremental trial 7 model is 0.33688962794236416\n",
      "\n",
      "\n",
      "Improvement of : 0.0377249143582058\n",
      "----------------------------------------------------------------------------------------------------\n"
     ]
    },
    {
     "name": "stderr",
     "output_type": "stream",
     "text": [
      "7it [04:16, 36.66s/it]"
     ]
    },
    {
     "name": "stdout",
     "output_type": "stream",
     "text": [
      "RMSE for Base model is 0.3724964963077905\n",
      "RMSE for Incremental trial 1 model is 0.3586371011308783\n",
      "RMSE for Incremental trial 2 model is 0.3494292750008777\n",
      "RMSE for Incremental trial 3 model is 0.3432312872470737\n",
      "RMSE for Incremental trial 4 model is 0.33900141158483854\n",
      "RMSE for Incremental trial 5 model is 0.33607855003396203\n",
      "RMSE for Incremental trial 6 model is 0.33401195560298974\n",
      "RMSE for Incremental trial 7 model is 0.33251097230912785\n",
      "\n",
      "\n",
      "Improvement of : 0.039985523998662675\n",
      "----------------------------------------------------------------------------------------------------\n"
     ]
    },
    {
     "name": "stderr",
     "output_type": "stream",
     "text": [
      "8it [04:53, 36.64s/it]"
     ]
    },
    {
     "name": "stdout",
     "output_type": "stream",
     "text": [
      "RMSE for Base model is 0.37154715960670115\n",
      "RMSE for Incremental trial 1 model is 0.3579678932945493\n",
      "RMSE for Incremental trial 2 model is 0.3490367111734825\n",
      "RMSE for Incremental trial 3 model is 0.3430904532505474\n",
      "RMSE for Incremental trial 4 model is 0.33908284250334403\n",
      "RMSE for Incremental trial 5 model is 0.3363371557801755\n",
      "RMSE for Incremental trial 6 model is 0.33443047606809495\n",
      "RMSE for Incremental trial 7 model is 0.33307471942015\n",
      "\n",
      "\n",
      "Improvement of : 0.03847244018655116\n",
      "----------------------------------------------------------------------------------------------------\n"
     ]
    },
    {
     "name": "stderr",
     "output_type": "stream",
     "text": [
      "9it [05:29, 36.60s/it]"
     ]
    },
    {
     "name": "stdout",
     "output_type": "stream",
     "text": [
      "RMSE for Base model is 0.36926435732229906\n",
      "RMSE for Incremental trial 1 model is 0.35571440608898336\n",
      "RMSE for Incremental trial 2 model is 0.34675574482028565\n",
      "RMSE for Incremental trial 3 model is 0.34078505075152876\n",
      "RMSE for Incremental trial 4 model is 0.3367582951261149\n",
      "RMSE for Incremental trial 5 model is 0.3340018314981449\n",
      "RMSE for Incremental trial 6 model is 0.3320725595719771\n",
      "RMSE for Incremental trial 7 model is 0.33069766215497987\n",
      "\n",
      "\n",
      "Improvement of : 0.0385666951673192\n",
      "----------------------------------------------------------------------------------------------------\n"
     ]
    },
    {
     "name": "stderr",
     "output_type": "stream",
     "text": [
      "10it [06:06, 36.62s/it]"
     ]
    },
    {
     "name": "stdout",
     "output_type": "stream",
     "text": [
      "RMSE for Base model is 0.3736105048792475\n",
      "RMSE for Incremental trial 1 model is 0.3598534897126567\n",
      "RMSE for Incremental trial 2 model is 0.3506930143445648\n",
      "RMSE for Incremental trial 3 model is 0.3445381677532842\n",
      "RMSE for Incremental trial 4 model is 0.3403264556022836\n",
      "RMSE for Incremental trial 5 model is 0.33741809976575043\n",
      "RMSE for Incremental trial 6 model is 0.3353646896977829\n",
      "RMSE for Incremental trial 7 model is 0.3338746920100172\n",
      "\n",
      "\n",
      "Improvement of : 0.039735812869230336\n",
      "----------------------------------------------------------------------------------------------------\n"
     ]
    },
    {
     "name": "stderr",
     "output_type": "stream",
     "text": [
      "11it [06:43, 36.69s/it]"
     ]
    },
    {
     "name": "stdout",
     "output_type": "stream",
     "text": [
      "RMSE for Base model is 0.37324132310009817\n",
      "RMSE for Incremental trial 1 model is 0.35957628193957625\n",
      "RMSE for Incremental trial 2 model is 0.35053202404106126\n",
      "RMSE for Incremental trial 3 model is 0.3444468537852793\n",
      "RMSE for Incremental trial 4 model is 0.34029741929389956\n",
      "RMSE for Incremental trial 5 model is 0.33743276001986505\n",
      "RMSE for Incremental trial 6 model is 0.33541521606516694\n",
      "RMSE for Incremental trial 7 model is 0.3339660552136929\n",
      "\n",
      "\n",
      "Improvement of : 0.039275267886405285\n",
      "----------------------------------------------------------------------------------------------------\n"
     ]
    },
    {
     "name": "stderr",
     "output_type": "stream",
     "text": [
      "12it [07:20, 36.73s/it]"
     ]
    },
    {
     "name": "stdout",
     "output_type": "stream",
     "text": [
      "RMSE for Base model is 0.37103080915173636\n",
      "RMSE for Incremental trial 1 model is 0.35725637162076346\n",
      "RMSE for Incremental trial 2 model is 0.34810702261387344\n",
      "RMSE for Incremental trial 3 model is 0.3419381846692132\n",
      "RMSE for Incremental trial 4 model is 0.33775502945025726\n",
      "RMSE for Incremental trial 5 model is 0.3348661757315682\n",
      "RMSE for Incremental trial 6 model is 0.33282193136983174\n",
      "RMSE for Incremental trial 7 model is 0.33135077716028644\n",
      "\n",
      "\n",
      "Improvement of : 0.03968003199144993\n",
      "----------------------------------------------------------------------------------------------------\n"
     ]
    },
    {
     "name": "stderr",
     "output_type": "stream",
     "text": [
      "13it [07:56, 36.68s/it]\n",
      "0it [00:00, ?it/s]"
     ]
    },
    {
     "name": "stdout",
     "output_type": "stream",
     "text": [
      "Current fold index 14\n",
      "RMSE for Base model is 0.37097041482454035\n",
      "RMSE for Incremental trial 1 model is 0.3570156125326582\n",
      "RMSE for Incremental trial 2 model is 0.34774787489212006\n",
      "RMSE for Incremental trial 3 model is 0.3415236500873244\n",
      "RMSE for Incremental trial 4 model is 0.33732915476318204\n",
      "RMSE for Incremental trial 5 model is 0.334442983590505\n",
      "RMSE for Incremental trial 6 model is 0.3324166923202725\n",
      "RMSE for Incremental trial 7 model is 0.33096730311103656\n",
      "\n",
      "\n",
      "Improvement of : 0.04000311171350379\n",
      "----------------------------------------------------------------------------------------------------\n"
     ]
    },
    {
     "name": "stderr",
     "output_type": "stream",
     "text": [
      "1it [00:36, 36.89s/it]"
     ]
    },
    {
     "name": "stdout",
     "output_type": "stream",
     "text": [
      "RMSE for Base model is 0.36982695892106904\n",
      "RMSE for Incremental trial 1 model is 0.3557228899502872\n",
      "RMSE for Incremental trial 2 model is 0.3463583575223724\n",
      "RMSE for Incremental trial 3 model is 0.34005016022385076\n",
      "RMSE for Incremental trial 4 model is 0.33577374323268955\n",
      "RMSE for Incremental trial 5 model is 0.3328286436393437\n",
      "RMSE for Incremental trial 6 model is 0.3307547022730458\n",
      "RMSE for Incremental trial 7 model is 0.3292674402746597\n",
      "\n",
      "\n",
      "Improvement of : 0.04055951864640933\n",
      "----------------------------------------------------------------------------------------------------\n"
     ]
    },
    {
     "name": "stderr",
     "output_type": "stream",
     "text": [
      "2it [01:13, 36.79s/it]"
     ]
    },
    {
     "name": "stdout",
     "output_type": "stream",
     "text": [
      "RMSE for Base model is 0.37257323009245497\n",
      "RMSE for Incremental trial 1 model is 0.3590484564743301\n",
      "RMSE for Incremental trial 2 model is 0.35014782147949336\n",
      "RMSE for Incremental trial 3 model is 0.3441982250249255\n",
      "RMSE for Incremental trial 4 model is 0.34021535880921955\n",
      "RMSE for Incremental trial 5 model is 0.33748177681614366\n",
      "RMSE for Incremental trial 6 model is 0.3355587065050955\n",
      "RMSE for Incremental trial 7 model is 0.33417821502030987\n",
      "\n",
      "\n",
      "Improvement of : 0.0383950150721451\n",
      "----------------------------------------------------------------------------------------------------\n"
     ]
    },
    {
     "name": "stderr",
     "output_type": "stream",
     "text": [
      "3it [01:50, 36.68s/it]"
     ]
    },
    {
     "name": "stdout",
     "output_type": "stream",
     "text": [
      "RMSE for Base model is 0.3751235531321582\n",
      "RMSE for Incremental trial 1 model is 0.36148788931106085\n",
      "RMSE for Incremental trial 2 model is 0.3524497545496052\n",
      "RMSE for Incremental trial 3 model is 0.34640112012445634\n",
      "RMSE for Incremental trial 4 model is 0.34227982537363616\n",
      "RMSE for Incremental trial 5 model is 0.3394360511389189\n",
      "RMSE for Incremental trial 6 model is 0.3374372555852402\n",
      "RMSE for Incremental trial 7 model is 0.3359709458755199\n",
      "\n",
      "\n",
      "Improvement of : 0.03915260725663833\n",
      "----------------------------------------------------------------------------------------------------\n"
     ]
    },
    {
     "name": "stderr",
     "output_type": "stream",
     "text": [
      "4it [02:26, 36.68s/it]"
     ]
    },
    {
     "name": "stdout",
     "output_type": "stream",
     "text": [
      "RMSE for Base model is 0.37183291409943237\n",
      "RMSE for Incremental trial 1 model is 0.35807605695920136\n",
      "RMSE for Incremental trial 2 model is 0.34896486399134014\n",
      "RMSE for Incremental trial 3 model is 0.3428568912878206\n",
      "RMSE for Incremental trial 4 model is 0.3387139349940696\n",
      "RMSE for Incremental trial 5 model is 0.3358419409049598\n",
      "RMSE for Incremental trial 6 model is 0.3338376169034523\n",
      "RMSE for Incremental trial 7 model is 0.33239236331355765\n",
      "\n",
      "\n",
      "Improvement of : 0.03944055078587472\n",
      "----------------------------------------------------------------------------------------------------\n"
     ]
    },
    {
     "name": "stderr",
     "output_type": "stream",
     "text": [
      "5it [03:03, 36.69s/it]"
     ]
    },
    {
     "name": "stdout",
     "output_type": "stream",
     "text": [
      "RMSE for Base model is 0.3744600361979029\n",
      "RMSE for Incremental trial 1 model is 0.36055468092186777\n",
      "RMSE for Incremental trial 2 model is 0.35133310863259165\n",
      "RMSE for Incremental trial 3 model is 0.3451328703018011\n",
      "RMSE for Incremental trial 4 model is 0.3409180294304231\n",
      "RMSE for Incremental trial 5 model is 0.3380039904008429\n",
      "RMSE for Incremental trial 6 model is 0.3359269990984899\n",
      "RMSE for Incremental trial 7 model is 0.3344210441271983\n",
      "\n",
      "\n",
      "Improvement of : 0.040038992070704604\n",
      "----------------------------------------------------------------------------------------------------\n"
     ]
    },
    {
     "name": "stderr",
     "output_type": "stream",
     "text": [
      "6it [03:40, 36.88s/it]"
     ]
    },
    {
     "name": "stdout",
     "output_type": "stream",
     "text": [
      "RMSE for Base model is 0.37308930990454287\n",
      "RMSE for Incremental trial 1 model is 0.35919066387995713\n",
      "RMSE for Incremental trial 2 model is 0.3499837981889278\n",
      "RMSE for Incremental trial 3 model is 0.3438169665314917\n",
      "RMSE for Incremental trial 4 model is 0.33963796113507705\n",
      "RMSE for Incremental trial 5 model is 0.33676338985289844\n",
      "RMSE for Incremental trial 6 model is 0.33473001841352124\n",
      "RMSE for Incremental trial 7 model is 0.3332720049994871\n",
      "\n",
      "\n",
      "Improvement of : 0.03981730490505575\n",
      "----------------------------------------------------------------------------------------------------\n"
     ]
    },
    {
     "name": "stderr",
     "output_type": "stream",
     "text": [
      "7it [04:17, 36.76s/it]"
     ]
    },
    {
     "name": "stdout",
     "output_type": "stream",
     "text": [
      "RMSE for Base model is 0.37363575913323144\n",
      "RMSE for Incremental trial 1 model is 0.3601911212674712\n",
      "RMSE for Incremental trial 2 model is 0.35133516482869165\n",
      "RMSE for Incremental trial 3 model is 0.3454215524307523\n",
      "RMSE for Incremental trial 4 model is 0.34143625389209126\n",
      "RMSE for Incremental trial 5 model is 0.33869211842710695\n",
      "RMSE for Incremental trial 6 model is 0.33676537813672375\n",
      "RMSE for Incremental trial 7 model is 0.3353668992124657\n",
      "\n",
      "\n",
      "Improvement of : 0.03826885992076573\n",
      "----------------------------------------------------------------------------------------------------\n"
     ]
    },
    {
     "name": "stderr",
     "output_type": "stream",
     "text": [
      "8it [04:54, 36.94s/it]"
     ]
    },
    {
     "name": "stdout",
     "output_type": "stream",
     "text": [
      "RMSE for Base model is 0.3724611403692444\n",
      "RMSE for Incremental trial 1 model is 0.358703151296856\n",
      "RMSE for Incremental trial 2 model is 0.34959170816859475\n",
      "RMSE for Incremental trial 3 model is 0.34348955901403494\n",
      "RMSE for Incremental trial 4 model is 0.3393544237369411\n",
      "RMSE for Incremental trial 5 model is 0.3365291183846535\n",
      "RMSE for Incremental trial 6 model is 0.33454325357161896\n",
      "RMSE for Incremental trial 7 model is 0.3331007437157681\n",
      "\n",
      "\n",
      "Improvement of : 0.03936039665347629\n",
      "----------------------------------------------------------------------------------------------------\n"
     ]
    },
    {
     "name": "stderr",
     "output_type": "stream",
     "text": [
      "9it [05:31, 36.92s/it]"
     ]
    },
    {
     "name": "stdout",
     "output_type": "stream",
     "text": [
      "RMSE for Base model is 0.3702809079891166\n",
      "RMSE for Incremental trial 1 model is 0.3567308403365775\n",
      "RMSE for Incremental trial 2 model is 0.34780795246374974\n",
      "RMSE for Incremental trial 3 model is 0.3418572860156578\n",
      "RMSE for Incremental trial 4 model is 0.3378497543861603\n",
      "RMSE for Incremental trial 5 model is 0.3351201760540047\n",
      "RMSE for Incremental trial 6 model is 0.33323685492153093\n",
      "RMSE for Incremental trial 7 model is 0.33190181122412565\n",
      "\n",
      "\n",
      "Improvement of : 0.03837909676499096\n",
      "----------------------------------------------------------------------------------------------------\n"
     ]
    },
    {
     "name": "stderr",
     "output_type": "stream",
     "text": [
      "10it [06:08, 36.94s/it]"
     ]
    },
    {
     "name": "stdout",
     "output_type": "stream",
     "text": [
      "RMSE for Base model is 0.3701737990688927\n",
      "RMSE for Incremental trial 1 model is 0.3566341754624164\n",
      "RMSE for Incremental trial 2 model is 0.3476655439684701\n",
      "RMSE for Incremental trial 3 model is 0.3416735534815574\n",
      "RMSE for Incremental trial 4 model is 0.3376180739231381\n",
      "RMSE for Incremental trial 5 model is 0.3348193249515303\n",
      "RMSE for Incremental trial 6 model is 0.3328384641846627\n",
      "RMSE for Incremental trial 7 model is 0.3314199235553795\n",
      "\n",
      "\n",
      "Improvement of : 0.03875387551351317\n",
      "----------------------------------------------------------------------------------------------------\n"
     ]
    },
    {
     "name": "stderr",
     "output_type": "stream",
     "text": [
      "11it [06:47, 37.69s/it]"
     ]
    },
    {
     "name": "stdout",
     "output_type": "stream",
     "text": [
      "RMSE for Base model is 0.3737441378446282\n",
      "RMSE for Incremental trial 1 model is 0.3599128383214409\n",
      "RMSE for Incremental trial 2 model is 0.3507061040567528\n",
      "RMSE for Incremental trial 3 model is 0.3444987136754407\n",
      "RMSE for Incremental trial 4 model is 0.34025998788308026\n",
      "RMSE for Incremental trial 5 model is 0.3373143199600353\n",
      "RMSE for Incremental trial 6 model is 0.33524325720448955\n",
      "RMSE for Incremental trial 7 model is 0.33373347915207185\n",
      "\n",
      "\n",
      "Improvement of : 0.04001065869255632\n",
      "----------------------------------------------------------------------------------------------------\n"
     ]
    },
    {
     "name": "stderr",
     "output_type": "stream",
     "text": [
      "12it [07:25, 37.72s/it]"
     ]
    },
    {
     "name": "stdout",
     "output_type": "stream",
     "text": [
      "RMSE for Base model is 0.3727418419120077\n",
      "RMSE for Incremental trial 1 model is 0.3591214090926836\n",
      "RMSE for Incremental trial 2 model is 0.3500888034401624\n",
      "RMSE for Incremental trial 3 model is 0.3440177225627007\n",
      "RMSE for Incremental trial 4 model is 0.3398838366146368\n",
      "RMSE for Incremental trial 5 model is 0.337024581647442\n",
      "RMSE for Incremental trial 6 model is 0.335001953812045\n",
      "RMSE for Incremental trial 7 model is 0.33355864390960727\n",
      "\n",
      "\n",
      "Improvement of : 0.03918319800240044\n",
      "----------------------------------------------------------------------------------------------------\n"
     ]
    },
    {
     "name": "stderr",
     "output_type": "stream",
     "text": [
      "13it [08:03, 37.61s/it]"
     ]
    },
    {
     "name": "stdout",
     "output_type": "stream",
     "text": [
      "RMSE for Base model is 0.37145635783290387\n",
      "RMSE for Incremental trial 1 model is 0.35764164649732816\n",
      "RMSE for Incremental trial 2 model is 0.34846058878648123\n",
      "RMSE for Incremental trial 3 model is 0.3422754995435697\n",
      "RMSE for Incremental trial 4 model is 0.3380699372122776\n",
      "RMSE for Incremental trial 5 model is 0.3351692241195616\n",
      "RMSE for Incremental trial 6 model is 0.3331123343327514\n",
      "RMSE for Incremental trial 7 model is 0.3316235478696618\n",
      "\n",
      "\n",
      "Improvement of : 0.039832809963242066\n",
      "----------------------------------------------------------------------------------------------------\n"
     ]
    },
    {
     "name": "stderr",
     "output_type": "stream",
     "text": [
      "14it [08:39, 37.08s/it]\n",
      "0it [00:00, ?it/s]"
     ]
    },
    {
     "name": "stdout",
     "output_type": "stream",
     "text": [
      "Current fold index 15\n",
      "RMSE for Base model is 0.37128108279247257\n",
      "RMSE for Incremental trial 1 model is 0.357340256553508\n",
      "RMSE for Incremental trial 2 model is 0.34809092731751506\n",
      "RMSE for Incremental trial 3 model is 0.3418931562096098\n",
      "RMSE for Incremental trial 4 model is 0.33770893165872834\n",
      "RMSE for Incremental trial 5 model is 0.3348315939078858\n",
      "RMSE for Incremental trial 6 model is 0.332815022969006\n",
      "RMSE for Incremental trial 7 model is 0.3313700464931424\n",
      "\n",
      "\n",
      "Improvement of : 0.03991103629933018\n",
      "----------------------------------------------------------------------------------------------------\n"
     ]
    },
    {
     "name": "stderr",
     "output_type": "stream",
     "text": [
      "1it [00:36, 36.12s/it]"
     ]
    },
    {
     "name": "stdout",
     "output_type": "stream",
     "text": [
      "RMSE for Base model is 0.3685943433852546\n",
      "RMSE for Incremental trial 1 model is 0.3544458387642798\n",
      "RMSE for Incremental trial 2 model is 0.3450590701798513\n",
      "RMSE for Incremental trial 3 model is 0.3387390898663349\n",
      "RMSE for Incremental trial 4 model is 0.3344665403271748\n",
      "RMSE for Incremental trial 5 model is 0.3315108781003655\n",
      "RMSE for Incremental trial 6 model is 0.3294322966466211\n",
      "RMSE for Incremental trial 7 model is 0.32794588519335394\n",
      "\n",
      "\n",
      "Improvement of : 0.04064845819190066\n",
      "----------------------------------------------------------------------------------------------------\n"
     ]
    },
    {
     "name": "stderr",
     "output_type": "stream",
     "text": [
      "2it [01:12, 36.08s/it]"
     ]
    },
    {
     "name": "stdout",
     "output_type": "stream",
     "text": [
      "RMSE for Base model is 0.3730853965335537\n",
      "RMSE for Incremental trial 1 model is 0.3595733942268189\n",
      "RMSE for Incremental trial 2 model is 0.35067582372854617\n",
      "RMSE for Incremental trial 3 model is 0.34474606468872737\n",
      "RMSE for Incremental trial 4 model is 0.34076928801017514\n",
      "RMSE for Incremental trial 5 model is 0.3380536272434811\n",
      "RMSE for Incremental trial 6 model is 0.33614965545887354\n",
      "RMSE for Incremental trial 7 model is 0.33478782544705843\n",
      "\n",
      "\n",
      "Improvement of : 0.038297571086495286\n",
      "----------------------------------------------------------------------------------------------------\n"
     ]
    },
    {
     "name": "stderr",
     "output_type": "stream",
     "text": [
      "3it [01:48, 35.98s/it]"
     ]
    },
    {
     "name": "stdout",
     "output_type": "stream",
     "text": [
      "RMSE for Base model is 0.37544362075146914\n",
      "RMSE for Incremental trial 1 model is 0.3619092418545927\n",
      "RMSE for Incremental trial 2 model is 0.35297295106095405\n",
      "RMSE for Incremental trial 3 model is 0.3469970058071002\n",
      "RMSE for Incremental trial 4 model is 0.34294155311566005\n",
      "RMSE for Incremental trial 5 model is 0.34014558974344045\n",
      "RMSE for Incremental trial 6 model is 0.3381938389239665\n",
      "RMSE for Incremental trial 7 model is 0.336797931351638\n",
      "\n",
      "\n",
      "Improvement of : 0.03864568939983115\n",
      "----------------------------------------------------------------------------------------------------\n"
     ]
    },
    {
     "name": "stderr",
     "output_type": "stream",
     "text": [
      "4it [02:24, 36.00s/it]"
     ]
    },
    {
     "name": "stdout",
     "output_type": "stream",
     "text": [
      "RMSE for Base model is 0.37087227998906475\n",
      "RMSE for Incremental trial 1 model is 0.3568910744891388\n",
      "RMSE for Incremental trial 2 model is 0.34759864268595014\n",
      "RMSE for Incremental trial 3 model is 0.34133543796197807\n",
      "RMSE for Incremental trial 4 model is 0.3370476162864919\n",
      "RMSE for Incremental trial 5 model is 0.33406544293627555\n",
      "RMSE for Incremental trial 6 model is 0.33194416587292985\n",
      "RMSE for Incremental trial 7 model is 0.3304063510471225\n",
      "\n",
      "\n",
      "Improvement of : 0.04046592894194223\n",
      "----------------------------------------------------------------------------------------------------\n"
     ]
    },
    {
     "name": "stderr",
     "output_type": "stream",
     "text": [
      "5it [03:00, 36.04s/it]"
     ]
    },
    {
     "name": "stdout",
     "output_type": "stream",
     "text": [
      "RMSE for Base model is 0.3754766706509257\n",
      "RMSE for Incremental trial 1 model is 0.36179418756540865\n",
      "RMSE for Incremental trial 2 model is 0.3527554532685714\n",
      "RMSE for Incremental trial 3 model is 0.34671421936193675\n",
      "RMSE for Incremental trial 4 model is 0.3426196438288232\n",
      "RMSE for Incremental trial 5 model is 0.3398130908833253\n",
      "RMSE for Incremental trial 6 model is 0.3378492218361126\n",
      "RMSE for Incremental trial 7 model is 0.3364166650406095\n",
      "\n",
      "\n",
      "Improvement of : 0.039060005610316195\n",
      "----------------------------------------------------------------------------------------------------\n"
     ]
    },
    {
     "name": "stderr",
     "output_type": "stream",
     "text": [
      "6it [03:37, 36.57s/it]"
     ]
    },
    {
     "name": "stdout",
     "output_type": "stream",
     "text": [
      "RMSE for Base model is 0.37202834228894444\n",
      "RMSE for Incremental trial 1 model is 0.3578541245099536\n",
      "RMSE for Incremental trial 2 model is 0.34843197178367524\n",
      "RMSE for Incremental trial 3 model is 0.3420820933095119\n",
      "RMSE for Incremental trial 4 model is 0.337747056334463\n",
      "RMSE for Incremental trial 5 model is 0.33475701311266093\n",
      "RMSE for Incremental trial 6 model is 0.33264434896843814\n",
      "RMSE for Incremental trial 7 model is 0.3311103997217716\n",
      "\n",
      "\n",
      "Improvement of : 0.04091794256717285\n",
      "----------------------------------------------------------------------------------------------------\n"
     ]
    },
    {
     "name": "stderr",
     "output_type": "stream",
     "text": [
      "7it [04:13, 36.36s/it]"
     ]
    },
    {
     "name": "stdout",
     "output_type": "stream",
     "text": [
      "RMSE for Base model is 0.3741392378185079\n",
      "RMSE for Incremental trial 1 model is 0.3608560734876056\n",
      "RMSE for Incremental trial 2 model is 0.35213344039698957\n",
      "RMSE for Incremental trial 3 model is 0.34632800964905996\n",
      "RMSE for Incremental trial 4 model is 0.34241397703320686\n",
      "RMSE for Incremental trial 5 model is 0.3397456950076338\n",
      "RMSE for Incremental trial 6 model is 0.33786606860481805\n",
      "RMSE for Incremental trial 7 model is 0.33650731359637387\n",
      "\n",
      "\n",
      "Improvement of : 0.03763192422213402\n",
      "----------------------------------------------------------------------------------------------------\n"
     ]
    },
    {
     "name": "stderr",
     "output_type": "stream",
     "text": [
      "8it [04:49, 36.31s/it]"
     ]
    },
    {
     "name": "stdout",
     "output_type": "stream",
     "text": [
      "RMSE for Base model is 0.3727889817982783\n",
      "RMSE for Incremental trial 1 model is 0.3588610249527777\n",
      "RMSE for Incremental trial 2 model is 0.34960813721901673\n",
      "RMSE for Incremental trial 3 model is 0.3433849575934366\n",
      "RMSE for Incremental trial 4 model is 0.33914385915240247\n",
      "RMSE for Incremental trial 5 model is 0.33622145398711323\n",
      "RMSE for Incremental trial 6 model is 0.33414193626045574\n",
      "RMSE for Incremental trial 7 model is 0.3326344774141914\n",
      "\n",
      "\n",
      "Improvement of : 0.04015450438408691\n",
      "----------------------------------------------------------------------------------------------------\n"
     ]
    },
    {
     "name": "stderr",
     "output_type": "stream",
     "text": [
      "9it [05:26, 36.27s/it]"
     ]
    },
    {
     "name": "stdout",
     "output_type": "stream",
     "text": [
      "RMSE for Base model is 0.37218611128861095\n",
      "RMSE for Incremental trial 1 model is 0.35868209513953647\n",
      "RMSE for Incremental trial 2 model is 0.3497880467446502\n",
      "RMSE for Incremental trial 3 model is 0.34387442000867835\n",
      "RMSE for Incremental trial 4 model is 0.339892524791173\n",
      "RMSE for Incremental trial 5 model is 0.3371666797845931\n",
      "RMSE for Incremental trial 6 model is 0.3352644473352153\n",
      "RMSE for Incremental trial 7 model is 0.33390258213403956\n",
      "\n",
      "\n",
      "Improvement of : 0.038283529154571394\n",
      "----------------------------------------------------------------------------------------------------\n"
     ]
    },
    {
     "name": "stderr",
     "output_type": "stream",
     "text": [
      "10it [06:02, 36.16s/it]"
     ]
    },
    {
     "name": "stdout",
     "output_type": "stream",
     "text": [
      "RMSE for Base model is 0.3695477225643908\n",
      "RMSE for Incremental trial 1 model is 0.35588491959908247\n",
      "RMSE for Incremental trial 2 model is 0.3468655271611444\n",
      "RMSE for Incremental trial 3 model is 0.3408499399641742\n",
      "RMSE for Incremental trial 4 model is 0.3367865652751289\n",
      "RMSE for Incremental trial 5 model is 0.3340168480324853\n",
      "RMSE for Incremental trial 6 model is 0.3320732967293332\n",
      "RMSE for Incremental trial 7 model is 0.33068887476031583\n",
      "\n",
      "\n",
      "Improvement of : 0.03885884780407495\n",
      "----------------------------------------------------------------------------------------------------\n"
     ]
    },
    {
     "name": "stderr",
     "output_type": "stream",
     "text": [
      "11it [06:38, 36.28s/it]"
     ]
    },
    {
     "name": "stdout",
     "output_type": "stream",
     "text": [
      "RMSE for Base model is 0.37143644835717005\n",
      "RMSE for Incremental trial 1 model is 0.3579088435507522\n",
      "RMSE for Incremental trial 2 model is 0.34892937362502185\n",
      "RMSE for Incremental trial 3 model is 0.3428962493223971\n",
      "RMSE for Incremental trial 4 model is 0.33879833271318277\n",
      "RMSE for Incremental trial 5 model is 0.33594783775571196\n",
      "RMSE for Incremental trial 6 model is 0.33393620450137096\n",
      "RMSE for Incremental trial 7 model is 0.33247387589922256\n",
      "\n",
      "\n",
      "Improvement of : 0.038962572457947486\n",
      "----------------------------------------------------------------------------------------------------\n"
     ]
    },
    {
     "name": "stderr",
     "output_type": "stream",
     "text": [
      "12it [07:14, 36.26s/it]"
     ]
    },
    {
     "name": "stdout",
     "output_type": "stream",
     "text": [
      "RMSE for Base model is 0.37339152445782453\n",
      "RMSE for Incremental trial 1 model is 0.3595380687558933\n",
      "RMSE for Incremental trial 2 model is 0.3503415480584999\n",
      "RMSE for Incremental trial 3 model is 0.3441657704394862\n",
      "RMSE for Incremental trial 4 model is 0.3399716386373226\n",
      "RMSE for Incremental trial 5 model is 0.33707321234098936\n",
      "RMSE for Incremental trial 6 model is 0.3350416096302269\n",
      "RMSE for Incremental trial 7 model is 0.3335773513095874\n",
      "\n",
      "\n",
      "Improvement of : 0.03981417314823715\n",
      "----------------------------------------------------------------------------------------------------\n"
     ]
    },
    {
     "name": "stderr",
     "output_type": "stream",
     "text": [
      "13it [07:50, 36.15s/it]"
     ]
    },
    {
     "name": "stdout",
     "output_type": "stream",
     "text": [
      "RMSE for Base model is 0.37355436099498085\n",
      "RMSE for Incremental trial 1 model is 0.3599375956243989\n",
      "RMSE for Incremental trial 2 model is 0.35091098626747685\n",
      "RMSE for Incremental trial 3 model is 0.3448333759118726\n",
      "RMSE for Incremental trial 4 model is 0.3406943063602752\n",
      "RMSE for Incremental trial 5 model is 0.3378316707941665\n",
      "RMSE for Incremental trial 6 model is 0.33579788138398886\n",
      "RMSE for Incremental trial 7 model is 0.33433295151714804\n",
      "\n",
      "\n",
      "Improvement of : 0.039221409477832814\n",
      "----------------------------------------------------------------------------------------------------\n"
     ]
    },
    {
     "name": "stderr",
     "output_type": "stream",
     "text": [
      "14it [08:26, 36.07s/it]"
     ]
    },
    {
     "name": "stdout",
     "output_type": "stream",
     "text": [
      "RMSE for Base model is 0.370750617496399\n",
      "RMSE for Incremental trial 1 model is 0.3569509753735337\n",
      "RMSE for Incremental trial 2 model is 0.3477764311206642\n",
      "RMSE for Incremental trial 3 model is 0.3416080205773113\n",
      "RMSE for Incremental trial 4 model is 0.3374228348133174\n",
      "RMSE for Incremental trial 5 model is 0.3345273574054121\n",
      "RMSE for Incremental trial 6 model is 0.3324802348928265\n",
      "RMSE for Incremental trial 7 model is 0.33100358283604475\n",
      "\n",
      "\n",
      "Improvement of : 0.03974703466035423\n",
      "----------------------------------------------------------------------------------------------------\n"
     ]
    },
    {
     "name": "stderr",
     "output_type": "stream",
     "text": [
      "15it [09:02, 36.18s/it]\n",
      "0it [00:00, ?it/s]"
     ]
    },
    {
     "name": "stdout",
     "output_type": "stream",
     "text": [
      "Current fold index 16\n",
      "RMSE for Base model is 0.371242966878538\n",
      "RMSE for Incremental trial 1 model is 0.3573003590150189\n",
      "RMSE for Incremental trial 2 model is 0.3480463122690614\n",
      "RMSE for Incremental trial 3 model is 0.341851553778328\n",
      "RMSE for Incremental trial 4 model is 0.3376760652111944\n",
      "RMSE for Incremental trial 5 model is 0.3348188031224534\n",
      "RMSE for Incremental trial 6 model is 0.3328049530005138\n",
      "RMSE for Incremental trial 7 model is 0.33138140754233963\n",
      "\n",
      "\n",
      "Improvement of : 0.03986155933619839\n",
      "----------------------------------------------------------------------------------------------------\n"
     ]
    },
    {
     "name": "stderr",
     "output_type": "stream",
     "text": [
      "1it [00:36, 36.04s/it]"
     ]
    },
    {
     "name": "stdout",
     "output_type": "stream",
     "text": [
      "RMSE for Base model is 0.3680618177207041\n",
      "RMSE for Incremental trial 1 model is 0.3541547869776983\n",
      "RMSE for Incremental trial 2 model is 0.34494946917740804\n",
      "RMSE for Incremental trial 3 model is 0.3387750280220067\n",
      "RMSE for Incremental trial 4 model is 0.3346018267437719\n",
      "RMSE for Incremental trial 5 model is 0.33173125691812616\n",
      "RMSE for Incremental trial 6 model is 0.3297133669582195\n",
      "RMSE for Incremental trial 7 model is 0.32826151862847774\n",
      "\n",
      "\n",
      "Improvement of : 0.03980029909222638\n",
      "----------------------------------------------------------------------------------------------------\n"
     ]
    },
    {
     "name": "stderr",
     "output_type": "stream",
     "text": [
      "2it [01:11, 35.99s/it]"
     ]
    },
    {
     "name": "stdout",
     "output_type": "stream",
     "text": [
      "RMSE for Base model is 0.37301279353913275\n",
      "RMSE for Incremental trial 1 model is 0.3591892357764884\n",
      "RMSE for Incremental trial 2 model is 0.35004178044947587\n",
      "RMSE for Incremental trial 3 model is 0.3439214045734497\n",
      "RMSE for Incremental trial 4 model is 0.33978464099914224\n",
      "RMSE for Incremental trial 5 model is 0.33694719084769537\n",
      "RMSE for Incremental trial 6 model is 0.3349737488410808\n",
      "RMSE for Incremental trial 7 model is 0.33353323609928165\n",
      "\n",
      "\n",
      "Improvement of : 0.0394795574398511\n",
      "----------------------------------------------------------------------------------------------------\n"
     ]
    },
    {
     "name": "stderr",
     "output_type": "stream",
     "text": [
      "3it [01:48, 36.09s/it]"
     ]
    },
    {
     "name": "stdout",
     "output_type": "stream",
     "text": [
      "RMSE for Base model is 0.3739692382255619\n",
      "RMSE for Incremental trial 1 model is 0.36035437356353134\n",
      "RMSE for Incremental trial 2 model is 0.35135673313390153\n",
      "RMSE for Incremental trial 3 model is 0.3453227667673073\n",
      "RMSE for Incremental trial 4 model is 0.3412380930648088\n",
      "RMSE for Incremental trial 5 model is 0.3384218520340872\n",
      "RMSE for Incremental trial 6 model is 0.3364480507411013\n",
      "RMSE for Incremental trial 7 model is 0.33502302633173475\n",
      "\n",
      "\n",
      "Improvement of : 0.03894621189382713\n",
      "----------------------------------------------------------------------------------------------------\n"
     ]
    },
    {
     "name": "stderr",
     "output_type": "stream",
     "text": [
      "4it [02:23, 35.97s/it]"
     ]
    },
    {
     "name": "stdout",
     "output_type": "stream",
     "text": [
      "RMSE for Base model is 0.3729964867798725\n",
      "RMSE for Incremental trial 1 model is 0.35931232776398725\n",
      "RMSE for Incremental trial 2 model is 0.35024329814196564\n",
      "RMSE for Incremental trial 3 model is 0.34416683375671386\n",
      "RMSE for Incremental trial 4 model is 0.3400382196512256\n",
      "RMSE for Incremental trial 5 model is 0.33718366113121\n",
      "RMSE for Incremental trial 6 model is 0.33517290104488456\n",
      "RMSE for Incremental trial 7 model is 0.3337149900115764\n",
      "\n",
      "\n",
      "Improvement of : 0.03928149676829612\n",
      "----------------------------------------------------------------------------------------------------\n"
     ]
    },
    {
     "name": "stderr",
     "output_type": "stream",
     "text": [
      "5it [03:00, 36.01s/it]"
     ]
    },
    {
     "name": "stdout",
     "output_type": "stream",
     "text": [
      "RMSE for Base model is 0.37421625935108244\n",
      "RMSE for Incremental trial 1 model is 0.3603778743004708\n",
      "RMSE for Incremental trial 2 model is 0.35120058183097763\n",
      "RMSE for Incremental trial 3 model is 0.3450448626055014\n",
      "RMSE for Incremental trial 4 model is 0.34086668863052283\n",
      "RMSE for Incremental trial 5 model is 0.33797048239077665\n",
      "RMSE for Incremental trial 6 model is 0.33591863436243297\n",
      "RMSE for Incremental trial 7 model is 0.3344454533666093\n",
      "\n",
      "\n",
      "Improvement of : 0.039770805984473134\n",
      "----------------------------------------------------------------------------------------------------\n"
     ]
    },
    {
     "name": "stderr",
     "output_type": "stream",
     "text": [
      "6it [03:36, 36.23s/it]"
     ]
    },
    {
     "name": "stdout",
     "output_type": "stream",
     "text": [
      "RMSE for Base model is 0.37337445071772785\n",
      "RMSE for Incremental trial 1 model is 0.35941896177650495\n",
      "RMSE for Incremental trial 2 model is 0.35015220277903675\n",
      "RMSE for Incremental trial 3 model is 0.34393161051660004\n",
      "RMSE for Incremental trial 4 model is 0.3396904212169314\n",
      "RMSE for Incremental trial 5 model is 0.33676718418757545\n",
      "RMSE for Incremental trial 6 model is 0.334694786616557\n",
      "RMSE for Incremental trial 7 model is 0.3331955275098031\n",
      "\n",
      "\n",
      "Improvement of : 0.040178923207924766\n",
      "----------------------------------------------------------------------------------------------------\n"
     ]
    },
    {
     "name": "stderr",
     "output_type": "stream",
     "text": [
      "7it [04:12, 36.08s/it]"
     ]
    },
    {
     "name": "stdout",
     "output_type": "stream",
     "text": [
      "RMSE for Base model is 0.37347421267675196\n",
      "RMSE for Incremental trial 1 model is 0.35964781939240653\n",
      "RMSE for Incremental trial 2 model is 0.3505044561845972\n",
      "RMSE for Incremental trial 3 model is 0.34439176837113544\n",
      "RMSE for Incremental trial 4 model is 0.3402469137561046\n",
      "RMSE for Incremental trial 5 model is 0.3374076881556455\n",
      "RMSE for Incremental trial 6 model is 0.33541164994087336\n",
      "RMSE for Incremental trial 7 model is 0.3339762574948478\n",
      "\n",
      "\n",
      "Improvement of : 0.03949795518190419\n",
      "----------------------------------------------------------------------------------------------------\n"
     ]
    },
    {
     "name": "stderr",
     "output_type": "stream",
     "text": [
      "8it [04:48, 36.09s/it]"
     ]
    },
    {
     "name": "stdout",
     "output_type": "stream",
     "text": [
      "RMSE for Base model is 0.3738960476640088\n",
      "RMSE for Incremental trial 1 model is 0.3605007379402704\n",
      "RMSE for Incremental trial 2 model is 0.35166359634549416\n",
      "RMSE for Incremental trial 3 model is 0.345758444659477\n",
      "RMSE for Incremental trial 4 model is 0.3417722003782638\n",
      "RMSE for Incremental trial 5 model is 0.33901949392540465\n",
      "RMSE for Incremental trial 6 model is 0.3370853153775929\n",
      "RMSE for Incremental trial 7 model is 0.3356802443523242\n",
      "\n",
      "\n",
      "Improvement of : 0.038215803311684615\n",
      "----------------------------------------------------------------------------------------------------\n"
     ]
    },
    {
     "name": "stderr",
     "output_type": "stream",
     "text": [
      "9it [05:24, 36.12s/it]"
     ]
    },
    {
     "name": "stdout",
     "output_type": "stream",
     "text": [
      "RMSE for Base model is 0.372757916695379\n",
      "RMSE for Incremental trial 1 model is 0.3589041429216606\n",
      "RMSE for Incremental trial 2 model is 0.349702890882629\n",
      "RMSE for Incremental trial 3 model is 0.3435258202965994\n",
      "RMSE for Incremental trial 4 model is 0.3393413977090208\n",
      "RMSE for Incremental trial 5 model is 0.3364603191979688\n",
      "RMSE for Incremental trial 6 model is 0.33443553688422734\n",
      "RMSE for Incremental trial 7 model is 0.33296667867700097\n",
      "\n",
      "\n",
      "Improvement of : 0.03979123801837803\n",
      "----------------------------------------------------------------------------------------------------\n"
     ]
    },
    {
     "name": "stderr",
     "output_type": "stream",
     "text": [
      "10it [06:00, 36.08s/it]"
     ]
    },
    {
     "name": "stdout",
     "output_type": "stream",
     "text": [
      "RMSE for Base model is 0.37074913421788736\n",
      "RMSE for Incremental trial 1 model is 0.3572029948983606\n",
      "RMSE for Incremental trial 2 model is 0.34829665255067904\n",
      "RMSE for Incremental trial 3 model is 0.3423567805648596\n",
      "RMSE for Incremental trial 4 model is 0.33836756366602994\n",
      "RMSE for Incremental trial 5 model is 0.3356383890830966\n",
      "RMSE for Incremental trial 6 model is 0.3337423501865753\n",
      "RMSE for Incremental trial 7 model is 0.3323970886439965\n",
      "\n",
      "\n",
      "Improvement of : 0.03835204557389088\n",
      "----------------------------------------------------------------------------------------------------\n"
     ]
    },
    {
     "name": "stderr",
     "output_type": "stream",
     "text": [
      "11it [06:36, 36.08s/it]"
     ]
    },
    {
     "name": "stdout",
     "output_type": "stream",
     "text": [
      "RMSE for Base model is 0.36903011150616055\n",
      "RMSE for Incremental trial 1 model is 0.3554406629912747\n",
      "RMSE for Incremental trial 2 model is 0.3464712557619235\n",
      "RMSE for Incremental trial 3 model is 0.34047302589860257\n",
      "RMSE for Incremental trial 4 model is 0.3364404451106263\n",
      "RMSE for Incremental trial 5 model is 0.33368580780798174\n",
      "RMSE for Incremental trial 6 model is 0.3317551050403199\n",
      "RMSE for Incremental trial 7 model is 0.33037330756330857\n",
      "\n",
      "\n",
      "Improvement of : 0.03865680394285198\n",
      "----------------------------------------------------------------------------------------------------\n"
     ]
    },
    {
     "name": "stderr",
     "output_type": "stream",
     "text": [
      "12it [07:13, 36.11s/it]"
     ]
    },
    {
     "name": "stdout",
     "output_type": "stream",
     "text": [
      "RMSE for Base model is 0.37268731568281444\n",
      "RMSE for Incremental trial 1 model is 0.35921852142525806\n",
      "RMSE for Incremental trial 2 model is 0.35030756003912666\n",
      "RMSE for Incremental trial 3 model is 0.34433751772410265\n",
      "RMSE for Incremental trial 4 model is 0.340291323325264\n",
      "RMSE for Incremental trial 5 model is 0.3374999695557444\n",
      "RMSE for Incremental trial 6 model is 0.33553637887731896\n",
      "RMSE for Incremental trial 7 model is 0.3341143192099627\n",
      "\n",
      "\n",
      "Improvement of : 0.03857299647285173\n",
      "----------------------------------------------------------------------------------------------------\n"
     ]
    },
    {
     "name": "stderr",
     "output_type": "stream",
     "text": [
      "13it [07:49, 36.29s/it]"
     ]
    },
    {
     "name": "stdout",
     "output_type": "stream",
     "text": [
      "RMSE for Base model is 0.37280417723720777\n",
      "RMSE for Incremental trial 1 model is 0.35867898530273595\n",
      "RMSE for Incremental trial 2 model is 0.34926504718013107\n",
      "RMSE for Incremental trial 3 model is 0.34292530992672765\n",
      "RMSE for Incremental trial 4 model is 0.33858663128039257\n",
      "RMSE for Incremental trial 5 model is 0.3355733742385692\n",
      "RMSE for Incremental trial 6 model is 0.3334631395440569\n",
      "RMSE for Incremental trial 7 model is 0.33192457869830005\n",
      "\n",
      "\n",
      "Improvement of : 0.04087959853890771\n",
      "----------------------------------------------------------------------------------------------------\n"
     ]
    },
    {
     "name": "stderr",
     "output_type": "stream",
     "text": [
      "14it [08:25, 36.21s/it]"
     ]
    },
    {
     "name": "stdout",
     "output_type": "stream",
     "text": [
      "RMSE for Base model is 0.3732742869588102\n",
      "RMSE for Incremental trial 1 model is 0.3598083263042069\n",
      "RMSE for Incremental trial 2 model is 0.35090420098587516\n",
      "RMSE for Incremental trial 3 model is 0.34492340436389957\n",
      "RMSE for Incremental trial 4 model is 0.34086871904501126\n",
      "RMSE for Incremental trial 5 model is 0.3380537825961301\n",
      "RMSE for Incremental trial 6 model is 0.3360746721039074\n",
      "RMSE for Incremental trial 7 model is 0.3346472140618452\n",
      "\n",
      "\n",
      "Improvement of : 0.03862707289696499\n",
      "----------------------------------------------------------------------------------------------------\n"
     ]
    },
    {
     "name": "stderr",
     "output_type": "stream",
     "text": [
      "15it [09:02, 36.42s/it]"
     ]
    },
    {
     "name": "stdout",
     "output_type": "stream",
     "text": [
      "RMSE for Base model is 0.3712545383995989\n",
      "RMSE for Incremental trial 1 model is 0.3574578234526549\n",
      "RMSE for Incremental trial 2 model is 0.3482874017467426\n",
      "RMSE for Incremental trial 3 model is 0.34210662989572677\n",
      "RMSE for Incremental trial 4 model is 0.3379138516748665\n",
      "RMSE for Incremental trial 5 model is 0.3350226946605392\n",
      "RMSE for Incremental trial 6 model is 0.33296625991296985\n",
      "RMSE for Incremental trial 7 model is 0.3315006127945278\n",
      "\n",
      "\n",
      "Improvement of : 0.03975392560507107\n",
      "----------------------------------------------------------------------------------------------------\n"
     ]
    },
    {
     "name": "stderr",
     "output_type": "stream",
     "text": [
      "16it [09:40, 36.27s/it]\n",
      "0it [00:00, ?it/s]"
     ]
    },
    {
     "name": "stdout",
     "output_type": "stream",
     "text": [
      "Current fold index 17\n",
      "RMSE for Base model is 0.3712377624457551\n",
      "RMSE for Incremental trial 1 model is 0.35735873050595934\n",
      "RMSE for Incremental trial 2 model is 0.34815376177856944\n",
      "RMSE for Incremental trial 3 model is 0.34198658210336064\n",
      "RMSE for Incremental trial 4 model is 0.33782833940747314\n",
      "RMSE for Incremental trial 5 model is 0.33497461887309615\n",
      "RMSE for Incremental trial 6 model is 0.3329598279507401\n",
      "RMSE for Incremental trial 7 model is 0.33153948749224216\n",
      "\n",
      "\n",
      "Improvement of : 0.03969827495351297\n",
      "----------------------------------------------------------------------------------------------------\n"
     ]
    },
    {
     "name": "stderr",
     "output_type": "stream",
     "text": [
      "1it [00:35, 35.87s/it]"
     ]
    },
    {
     "name": "stdout",
     "output_type": "stream",
     "text": [
      "RMSE for Base model is 0.36817277757923417\n",
      "RMSE for Incremental trial 1 model is 0.3541666020735545\n",
      "RMSE for Incremental trial 2 model is 0.34489008159960444\n",
      "RMSE for Incremental trial 3 model is 0.33867620295495515\n",
      "RMSE for Incremental trial 4 model is 0.33447427147451614\n",
      "RMSE for Incremental trial 5 model is 0.331592765587975\n",
      "RMSE for Incremental trial 6 model is 0.3295676610608956\n",
      "RMSE for Incremental trial 7 model is 0.32812423221798337\n",
      "\n",
      "\n",
      "Improvement of : 0.0400485453612508\n",
      "----------------------------------------------------------------------------------------------------\n"
     ]
    },
    {
     "name": "stderr",
     "output_type": "stream",
     "text": [
      "2it [01:12, 36.14s/it]"
     ]
    },
    {
     "name": "stdout",
     "output_type": "stream",
     "text": [
      "RMSE for Base model is 0.37321333494130826\n",
      "RMSE for Incremental trial 1 model is 0.3592853040517754\n",
      "RMSE for Incremental trial 2 model is 0.3500227486469879\n",
      "RMSE for Incremental trial 3 model is 0.3437969242472866\n",
      "RMSE for Incremental trial 4 model is 0.339564793784742\n",
      "RMSE for Incremental trial 5 model is 0.33664073765028474\n",
      "RMSE for Incremental trial 6 model is 0.3345666739212519\n",
      "RMSE for Incremental trial 7 model is 0.33307450171510966\n",
      "\n",
      "\n",
      "Improvement of : 0.0401388332261986\n",
      "----------------------------------------------------------------------------------------------------\n"
     ]
    },
    {
     "name": "stderr",
     "output_type": "stream",
     "text": [
      "3it [01:48, 36.24s/it]"
     ]
    },
    {
     "name": "stdout",
     "output_type": "stream",
     "text": [
      "RMSE for Base model is 0.3728351818720155\n",
      "RMSE for Incremental trial 1 model is 0.35917110574360483\n",
      "RMSE for Incremental trial 2 model is 0.35016808793443116\n",
      "RMSE for Incremental trial 3 model is 0.3441809130490105\n",
      "RMSE for Incremental trial 4 model is 0.3401558280478365\n",
      "RMSE for Incremental trial 5 model is 0.33740530987823597\n",
      "RMSE for Incremental trial 6 model is 0.3354818550232645\n",
      "RMSE for Incremental trial 7 model is 0.33411605619530316\n",
      "\n",
      "\n",
      "Improvement of : 0.03871912567671232\n",
      "----------------------------------------------------------------------------------------------------\n"
     ]
    },
    {
     "name": "stderr",
     "output_type": "stream",
     "text": [
      "4it [02:24, 36.32s/it]"
     ]
    },
    {
     "name": "stdout",
     "output_type": "stream",
     "text": [
      "RMSE for Base model is 0.37385804044858995\n",
      "RMSE for Incremental trial 1 model is 0.3602165568512423\n",
      "RMSE for Incremental trial 2 model is 0.3511705806591962\n",
      "RMSE for Incremental trial 3 model is 0.3451069981933075\n",
      "RMSE for Incremental trial 4 model is 0.3409717996383368\n",
      "RMSE for Incremental trial 5 model is 0.33810811342486646\n",
      "RMSE for Incremental trial 6 model is 0.3360752626328485\n",
      "RMSE for Incremental trial 7 model is 0.33460619676036857\n",
      "\n",
      "\n",
      "Improvement of : 0.03925184368822138\n",
      "----------------------------------------------------------------------------------------------------\n"
     ]
    },
    {
     "name": "stderr",
     "output_type": "stream",
     "text": [
      "5it [03:01, 36.42s/it]"
     ]
    },
    {
     "name": "stdout",
     "output_type": "stream",
     "text": [
      "RMSE for Base model is 0.3721046304098097\n",
      "RMSE for Incremental trial 1 model is 0.35843776692438684\n",
      "RMSE for Incremental trial 2 model is 0.3494121387986517\n",
      "RMSE for Incremental trial 3 model is 0.3433816130109892\n",
      "RMSE for Incremental trial 4 model is 0.3392895041509882\n",
      "RMSE for Incremental trial 5 model is 0.3364634087016576\n",
      "RMSE for Incremental trial 6 model is 0.3344853467492088\n",
      "RMSE for Incremental trial 7 model is 0.3330681211699439\n",
      "\n",
      "\n",
      "Improvement of : 0.03903650923986579\n",
      "----------------------------------------------------------------------------------------------------\n"
     ]
    },
    {
     "name": "stderr",
     "output_type": "stream",
     "text": [
      "6it [03:38, 36.48s/it]"
     ]
    },
    {
     "name": "stdout",
     "output_type": "stream",
     "text": [
      "RMSE for Base model is 0.37560387332322065\n",
      "RMSE for Incremental trial 1 model is 0.36171415365982046\n",
      "RMSE for Incremental trial 2 model is 0.35249863354014943\n",
      "RMSE for Incremental trial 3 model is 0.3463113148090256\n",
      "RMSE for Incremental trial 4 model is 0.34209834554780605\n",
      "RMSE for Incremental trial 5 model is 0.3391948419942304\n",
      "RMSE for Incremental trial 6 model is 0.3371344384153665\n",
      "RMSE for Incremental trial 7 model is 0.3356366585931181\n",
      "\n",
      "\n",
      "Improvement of : 0.03996721473010256\n",
      "----------------------------------------------------------------------------------------------------\n"
     ]
    },
    {
     "name": "stderr",
     "output_type": "stream",
     "text": [
      "7it [04:14, 36.51s/it]"
     ]
    },
    {
     "name": "stdout",
     "output_type": "stream",
     "text": [
      "RMSE for Base model is 0.3724916942647849\n",
      "RMSE for Incremental trial 1 model is 0.35834824885231187\n",
      "RMSE for Incremental trial 2 model is 0.3489558395549592\n",
      "RMSE for Incremental trial 3 model is 0.34264147285049384\n",
      "RMSE for Incremental trial 4 model is 0.3383373132111457\n",
      "RMSE for Incremental trial 5 model is 0.3353533986361263\n",
      "RMSE for Incremental trial 6 model is 0.33325899674818193\n",
      "RMSE for Incremental trial 7 model is 0.3317384414737053\n",
      "\n",
      "\n",
      "Improvement of : 0.04075325279107961\n",
      "----------------------------------------------------------------------------------------------------\n"
     ]
    },
    {
     "name": "stderr",
     "output_type": "stream",
     "text": [
      "8it [04:50, 36.42s/it]"
     ]
    },
    {
     "name": "stdout",
     "output_type": "stream",
     "text": [
      "RMSE for Base model is 0.37347356129135495\n",
      "RMSE for Incremental trial 1 model is 0.360322064998603\n",
      "RMSE for Incremental trial 2 model is 0.3516984563084636\n",
      "RMSE for Incremental trial 3 model is 0.3459787266006162\n",
      "RMSE for Incremental trial 4 model is 0.3421272032020307\n",
      "RMSE for Incremental trial 5 model is 0.3395145688213288\n",
      "RMSE for Incremental trial 6 model is 0.337686246909595\n",
      "RMSE for Incremental trial 7 model is 0.33635581815426746\n",
      "\n",
      "\n",
      "Improvement of : 0.03711774313708749\n",
      "----------------------------------------------------------------------------------------------------\n"
     ]
    },
    {
     "name": "stderr",
     "output_type": "stream",
     "text": [
      "9it [05:28, 36.75s/it]"
     ]
    },
    {
     "name": "stdout",
     "output_type": "stream",
     "text": [
      "RMSE for Base model is 0.3737277635816169\n",
      "RMSE for Incremental trial 1 model is 0.3596724686994668\n",
      "RMSE for Incremental trial 2 model is 0.3503100633592346\n",
      "RMSE for Incremental trial 3 model is 0.3439959017496776\n",
      "RMSE for Incremental trial 4 model is 0.33968622698676193\n",
      "RMSE for Incremental trial 5 model is 0.3367042602707793\n",
      "RMSE for Incremental trial 6 model is 0.3345710925980864\n",
      "RMSE for Incremental trial 7 model is 0.3330221561286147\n",
      "\n",
      "\n",
      "Improvement of : 0.040705607453002224\n",
      "----------------------------------------------------------------------------------------------------\n"
     ]
    },
    {
     "name": "stderr",
     "output_type": "stream",
     "text": [
      "10it [06:04, 36.67s/it]"
     ]
    },
    {
     "name": "stdout",
     "output_type": "stream",
     "text": [
      "RMSE for Base model is 0.37233702572230565\n",
      "RMSE for Incremental trial 1 model is 0.3587813724677774\n",
      "RMSE for Incremental trial 2 model is 0.3498487044969522\n",
      "RMSE for Incremental trial 3 model is 0.3438957204311669\n",
      "RMSE for Incremental trial 4 model is 0.33987237960608163\n",
      "RMSE for Incremental trial 5 model is 0.3371248250518313\n",
      "RMSE for Incremental trial 6 model is 0.33520710262695197\n",
      "RMSE for Incremental trial 7 model is 0.33381965122529955\n",
      "\n",
      "\n",
      "Improvement of : 0.038517374497006096\n",
      "----------------------------------------------------------------------------------------------------\n"
     ]
    },
    {
     "name": "stderr",
     "output_type": "stream",
     "text": [
      "11it [06:42, 36.97s/it]"
     ]
    },
    {
     "name": "stdout",
     "output_type": "stream",
     "text": [
      "RMSE for Base model is 0.3705336903339362\n",
      "RMSE for Incremental trial 1 model is 0.3570326580298797\n",
      "RMSE for Incremental trial 2 model is 0.34815181115173555\n",
      "RMSE for Incremental trial 3 model is 0.3422249975992967\n",
      "RMSE for Incremental trial 4 model is 0.33825488087383787\n",
      "RMSE for Incremental trial 5 model is 0.33554966566686756\n",
      "RMSE for Incremental trial 6 model is 0.3336869820564076\n",
      "RMSE for Incremental trial 7 model is 0.3323714382325261\n",
      "\n",
      "\n",
      "Improvement of : 0.03816225210141011\n",
      "----------------------------------------------------------------------------------------------------\n"
     ]
    },
    {
     "name": "stderr",
     "output_type": "stream",
     "text": [
      "12it [07:19, 37.04s/it]"
     ]
    },
    {
     "name": "stdout",
     "output_type": "stream",
     "text": [
      "RMSE for Base model is 0.36794188455677135\n",
      "RMSE for Incremental trial 1 model is 0.35430071195742996\n",
      "RMSE for Incremental trial 2 model is 0.3452749787024047\n",
      "RMSE for Incremental trial 3 model is 0.3392484953078492\n",
      "RMSE for Incremental trial 4 model is 0.3351813282093355\n",
      "RMSE for Incremental trial 5 model is 0.3323860744351204\n",
      "RMSE for Incremental trial 6 model is 0.33042638477310066\n",
      "RMSE for Incremental trial 7 model is 0.3290291542820013\n",
      "\n",
      "\n",
      "Improvement of : 0.03891273027477005\n",
      "----------------------------------------------------------------------------------------------------\n"
     ]
    },
    {
     "name": "stderr",
     "output_type": "stream",
     "text": [
      "13it [07:56, 36.90s/it]"
     ]
    },
    {
     "name": "stdout",
     "output_type": "stream",
     "text": [
      "RMSE for Base model is 0.3738536789550165\n",
      "RMSE for Incremental trial 1 model is 0.3602003309779598\n",
      "RMSE for Incremental trial 2 model is 0.35110699148179464\n",
      "RMSE for Incremental trial 3 model is 0.34495204869278817\n",
      "RMSE for Incremental trial 4 model is 0.34075001343691\n",
      "RMSE for Incremental trial 5 model is 0.33782123480459203\n",
      "RMSE for Incremental trial 6 model is 0.33572812692755216\n",
      "RMSE for Incremental trial 7 model is 0.3341984030102757\n",
      "\n",
      "\n",
      "Improvement of : 0.039655275944740775\n",
      "----------------------------------------------------------------------------------------------------\n"
     ]
    },
    {
     "name": "stderr",
     "output_type": "stream",
     "text": [
      "14it [08:32, 36.80s/it]"
     ]
    },
    {
     "name": "stdout",
     "output_type": "stream",
     "text": [
      "RMSE for Base model is 0.37372280290751897\n",
      "RMSE for Incremental trial 1 model is 0.35971941419674985\n",
      "RMSE for Incremental trial 2 model is 0.35041472800366846\n",
      "RMSE for Incremental trial 3 model is 0.3441377610104179\n",
      "RMSE for Incremental trial 4 model is 0.3398697900569864\n",
      "RMSE for Incremental trial 5 model is 0.3369255402923302\n",
      "RMSE for Incremental trial 6 model is 0.3348475943851986\n",
      "RMSE for Incremental trial 7 model is 0.33334871903061225\n",
      "\n",
      "\n",
      "Improvement of : 0.04037408387690672\n",
      "----------------------------------------------------------------------------------------------------\n"
     ]
    },
    {
     "name": "stderr",
     "output_type": "stream",
     "text": [
      "15it [09:09, 36.81s/it]"
     ]
    },
    {
     "name": "stdout",
     "output_type": "stream",
     "text": [
      "RMSE for Base model is 0.37281084141640247\n",
      "RMSE for Incremental trial 1 model is 0.3594370864366067\n",
      "RMSE for Incremental trial 2 model is 0.3506141459335998\n",
      "RMSE for Incremental trial 3 model is 0.34471105241029654\n",
      "RMSE for Incremental trial 4 model is 0.34070457692626854\n",
      "RMSE for Incremental trial 5 model is 0.3379330660687966\n",
      "RMSE for Incremental trial 6 model is 0.33598826015957867\n",
      "RMSE for Incremental trial 7 model is 0.33459120036924894\n",
      "\n",
      "\n",
      "Improvement of : 0.03821964104715353\n",
      "----------------------------------------------------------------------------------------------------\n"
     ]
    },
    {
     "name": "stderr",
     "output_type": "stream",
     "text": [
      "16it [09:46, 36.83s/it]"
     ]
    },
    {
     "name": "stdout",
     "output_type": "stream",
     "text": [
      "RMSE for Base model is 0.3709658291259332\n",
      "RMSE for Incremental trial 1 model is 0.3571225319237691\n",
      "RMSE for Incremental trial 2 model is 0.3479161118587417\n",
      "RMSE for Incremental trial 3 model is 0.34171883002951164\n",
      "RMSE for Incremental trial 4 model is 0.33751070161984037\n",
      "RMSE for Incremental trial 5 model is 0.3346031659007054\n",
      "RMSE for Incremental trial 6 model is 0.332552175712322\n",
      "RMSE for Incremental trial 7 model is 0.33107820672076715\n",
      "\n",
      "\n",
      "Improvement of : 0.03988762240516602\n",
      "----------------------------------------------------------------------------------------------------\n"
     ]
    },
    {
     "name": "stderr",
     "output_type": "stream",
     "text": [
      "17it [10:23, 36.70s/it]\n",
      "0it [00:00, ?it/s]"
     ]
    },
    {
     "name": "stdout",
     "output_type": "stream",
     "text": [
      "Current fold index 18\n",
      "RMSE for Base model is 0.371173020033769\n",
      "RMSE for Incremental trial 1 model is 0.35729474241975834\n",
      "RMSE for Incremental trial 2 model is 0.34809528336591705\n",
      "RMSE for Incremental trial 3 model is 0.3419298470788505\n",
      "RMSE for Incremental trial 4 model is 0.33776335268154845\n",
      "RMSE for Incremental trial 5 model is 0.33490000977789414\n",
      "RMSE for Incremental trial 6 model is 0.3328873633738082\n",
      "RMSE for Incremental trial 7 model is 0.33146003297236093\n",
      "\n",
      "\n",
      "Improvement of : 0.03971298706140808\n",
      "----------------------------------------------------------------------------------------------------\n"
     ]
    },
    {
     "name": "stderr",
     "output_type": "stream",
     "text": [
      "1it [00:37, 37.38s/it]"
     ]
    },
    {
     "name": "stdout",
     "output_type": "stream",
     "text": [
      "RMSE for Base model is 0.36883721782219137\n",
      "RMSE for Incremental trial 1 model is 0.35467227863032674\n",
      "RMSE for Incremental trial 2 model is 0.34526374273369365\n",
      "RMSE for Incremental trial 3 model is 0.33894314426833105\n",
      "RMSE for Incremental trial 4 model is 0.33466190641347887\n",
      "RMSE for Incremental trial 5 model is 0.3317289437165524\n",
      "RMSE for Incremental trial 6 model is 0.32967228510589\n",
      "RMSE for Incremental trial 7 model is 0.328194984942048\n",
      "\n",
      "\n",
      "Improvement of : 0.04064223288014335\n",
      "----------------------------------------------------------------------------------------------------\n"
     ]
    },
    {
     "name": "stderr",
     "output_type": "stream",
     "text": [
      "2it [01:14, 37.29s/it]"
     ]
    },
    {
     "name": "stdout",
     "output_type": "stream",
     "text": [
      "RMSE for Base model is 0.3724141822939557\n",
      "RMSE for Incremental trial 1 model is 0.3586059371444937\n",
      "RMSE for Incremental trial 2 model is 0.3494418491670779\n",
      "RMSE for Incremental trial 3 model is 0.3432881759481278\n",
      "RMSE for Incremental trial 4 model is 0.33911142343187745\n",
      "RMSE for Incremental trial 5 model is 0.33623279697444436\n",
      "RMSE for Incremental trial 6 model is 0.33420086829181145\n",
      "RMSE for Incremental trial 7 model is 0.33271831605517355\n",
      "\n",
      "\n",
      "Improvement of : 0.03969586623878213\n",
      "----------------------------------------------------------------------------------------------------\n"
     ]
    },
    {
     "name": "stderr",
     "output_type": "stream",
     "text": [
      "3it [01:51, 37.17s/it]"
     ]
    },
    {
     "name": "stdout",
     "output_type": "stream",
     "text": [
      "RMSE for Base model is 0.3724446462935124\n",
      "RMSE for Incremental trial 1 model is 0.35874059245789636\n",
      "RMSE for Incremental trial 2 model is 0.3497016045353248\n",
      "RMSE for Incremental trial 3 model is 0.3436763877940776\n",
      "RMSE for Incremental trial 4 model is 0.3396279977448137\n",
      "RMSE for Incremental trial 5 model is 0.33684987789853105\n",
      "RMSE for Incremental trial 6 model is 0.3348940303968618\n",
      "RMSE for Incremental trial 7 model is 0.3335197100047832\n",
      "\n",
      "\n",
      "Improvement of : 0.03892493628872923\n",
      "----------------------------------------------------------------------------------------------------\n"
     ]
    },
    {
     "name": "stderr",
     "output_type": "stream",
     "text": [
      "4it [02:28, 37.06s/it]"
     ]
    },
    {
     "name": "stdout",
     "output_type": "stream",
     "text": [
      "RMSE for Base model is 0.3751508719880314\n",
      "RMSE for Incremental trial 1 model is 0.36166971983067764\n",
      "RMSE for Incremental trial 2 model is 0.3527438451612313\n",
      "RMSE for Incremental trial 3 model is 0.34675059203699193\n",
      "RMSE for Incremental trial 4 model is 0.34267933231576114\n",
      "RMSE for Incremental trial 5 model is 0.3398758269015557\n",
      "RMSE for Incremental trial 6 model is 0.3378983701698826\n",
      "RMSE for Incremental trial 7 model is 0.33646297948822024\n",
      "\n",
      "\n",
      "Improvement of : 0.03868789249981114\n",
      "----------------------------------------------------------------------------------------------------\n"
     ]
    },
    {
     "name": "stderr",
     "output_type": "stream",
     "text": [
      "5it [03:04, 36.64s/it]"
     ]
    },
    {
     "name": "stdout",
     "output_type": "stream",
     "text": [
      "RMSE for Base model is 0.37098549354152965\n",
      "RMSE for Incremental trial 1 model is 0.35709715789475827\n",
      "RMSE for Incremental trial 2 model is 0.347895730185413\n",
      "RMSE for Incremental trial 3 model is 0.34169709534442727\n",
      "RMSE for Incremental trial 4 model is 0.3374759762287566\n",
      "RMSE for Incremental trial 5 model is 0.3345501223724377\n",
      "RMSE for Incremental trial 6 model is 0.332480913971866\n",
      "RMSE for Incremental trial 7 model is 0.33097945877053453\n",
      "\n",
      "\n",
      "Improvement of : 0.040006034770995125\n",
      "----------------------------------------------------------------------------------------------------\n"
     ]
    },
    {
     "name": "stderr",
     "output_type": "stream",
     "text": [
      "6it [03:41, 36.65s/it]"
     ]
    },
    {
     "name": "stdout",
     "output_type": "stream",
     "text": [
      "RMSE for Base model is 0.3756265564732473\n",
      "RMSE for Incremental trial 1 model is 0.36200972542363047\n",
      "RMSE for Incremental trial 2 model is 0.3530182957534957\n",
      "RMSE for Incremental trial 3 model is 0.3470183610387304\n",
      "RMSE for Incremental trial 4 model is 0.3429549495926255\n",
      "RMSE for Incremental trial 5 model is 0.3401559446474303\n",
      "RMSE for Incremental trial 6 model is 0.33817835417129555\n",
      "RMSE for Incremental trial 7 model is 0.3367666550478244\n",
      "\n",
      "\n",
      "Improvement of : 0.038859901425422894\n",
      "----------------------------------------------------------------------------------------------------\n"
     ]
    },
    {
     "name": "stderr",
     "output_type": "stream",
     "text": [
      "7it [04:17, 36.71s/it]"
     ]
    },
    {
     "name": "stdout",
     "output_type": "stream",
     "text": [
      "RMSE for Base model is 0.372325392940062\n",
      "RMSE for Incremental trial 1 model is 0.3580915385782726\n",
      "RMSE for Incremental trial 2 model is 0.3486152637113273\n",
      "RMSE for Incremental trial 3 model is 0.3422181506680667\n",
      "RMSE for Incremental trial 4 model is 0.3378597497992978\n",
      "RMSE for Incremental trial 5 model is 0.33484431603157433\n",
      "RMSE for Incremental trial 6 model is 0.33270803994459863\n",
      "RMSE for Incremental trial 7 model is 0.3311697103471671\n",
      "\n",
      "\n",
      "Improvement of : 0.04115568259289493\n",
      "----------------------------------------------------------------------------------------------------\n"
     ]
    },
    {
     "name": "stderr",
     "output_type": "stream",
     "text": [
      "8it [04:53, 36.50s/it]"
     ]
    },
    {
     "name": "stdout",
     "output_type": "stream",
     "text": [
      "RMSE for Base model is 0.3738594574689593\n",
      "RMSE for Incremental trial 1 model is 0.36020132837051444\n",
      "RMSE for Incremental trial 2 model is 0.3511883014496813\n",
      "RMSE for Incremental trial 3 model is 0.3451464818071636\n",
      "RMSE for Incremental trial 4 model is 0.3410850258752836\n",
      "RMSE for Incremental trial 5 model is 0.33828614542132035\n",
      "RMSE for Incremental trial 6 model is 0.33632230736931085\n",
      "RMSE for Incremental trial 7 model is 0.33491221573820057\n",
      "\n",
      "\n",
      "Improvement of : 0.03894724173075875\n",
      "----------------------------------------------------------------------------------------------------\n"
     ]
    },
    {
     "name": "stderr",
     "output_type": "stream",
     "text": [
      "9it [05:30, 36.39s/it]"
     ]
    },
    {
     "name": "stdout",
     "output_type": "stream",
     "text": [
      "RMSE for Base model is 0.3740158368312191\n",
      "RMSE for Incremental trial 1 model is 0.36067448773741545\n",
      "RMSE for Incremental trial 2 model is 0.3518632147982741\n",
      "RMSE for Incremental trial 3 model is 0.3459922237828637\n",
      "RMSE for Incremental trial 4 model is 0.3420164874076381\n",
      "RMSE for Incremental trial 5 model is 0.33928259635719193\n",
      "RMSE for Incremental trial 6 model is 0.3373611086553717\n",
      "RMSE for Incremental trial 7 model is 0.33596754571842835\n",
      "\n",
      "\n",
      "Improvement of : 0.03804829111279073\n",
      "----------------------------------------------------------------------------------------------------\n"
     ]
    },
    {
     "name": "stderr",
     "output_type": "stream",
     "text": [
      "10it [06:06, 36.27s/it]"
     ]
    },
    {
     "name": "stdout",
     "output_type": "stream",
     "text": [
      "RMSE for Base model is 0.3725046814795051\n",
      "RMSE for Incremental trial 1 model is 0.35856326029078406\n",
      "RMSE for Incremental trial 2 model is 0.3492924070644377\n",
      "RMSE for Incremental trial 3 model is 0.343054235584358\n",
      "RMSE for Incremental trial 4 model is 0.33880864170844865\n",
      "RMSE for Incremental trial 5 model is 0.33587953086483147\n",
      "RMSE for Incremental trial 6 model is 0.33381239670541824\n",
      "RMSE for Incremental trial 7 model is 0.3323166452675216\n",
      "\n",
      "\n",
      "Improvement of : 0.040188036211983524\n",
      "----------------------------------------------------------------------------------------------------\n"
     ]
    },
    {
     "name": "stderr",
     "output_type": "stream",
     "text": [
      "11it [06:41, 36.14s/it]"
     ]
    },
    {
     "name": "stdout",
     "output_type": "stream",
     "text": [
      "RMSE for Base model is 0.37163048134218224\n",
      "RMSE for Incremental trial 1 model is 0.35817503435889136\n",
      "RMSE for Incremental trial 2 model is 0.34933577827535606\n",
      "RMSE for Incremental trial 3 model is 0.3434619986398433\n",
      "RMSE for Incremental trial 4 model is 0.3395311219354232\n",
      "RMSE for Incremental trial 5 model is 0.336851051170686\n",
      "RMSE for Incremental trial 6 model is 0.33498076012898925\n",
      "RMSE for Incremental trial 7 model is 0.33363888868001945\n",
      "\n",
      "\n",
      "Improvement of : 0.03799159266216279\n",
      "----------------------------------------------------------------------------------------------------\n"
     ]
    },
    {
     "name": "stderr",
     "output_type": "stream",
     "text": [
      "12it [07:18, 36.14s/it]"
     ]
    },
    {
     "name": "stdout",
     "output_type": "stream",
     "text": [
      "RMSE for Base model is 0.36962004406061255\n",
      "RMSE for Incremental trial 1 model is 0.35601910294243583\n",
      "RMSE for Incremental trial 2 model is 0.3470541714896808\n",
      "RMSE for Incremental trial 3 model is 0.3410811660991907\n",
      "RMSE for Incremental trial 4 model is 0.337034623794052\n",
      "RMSE for Incremental trial 5 model is 0.33427792625351666\n",
      "RMSE for Incremental trial 6 model is 0.3323602987102921\n",
      "RMSE for Incremental trial 7 model is 0.3309862098780946\n",
      "\n",
      "\n",
      "Improvement of : 0.03863383418251798\n",
      "----------------------------------------------------------------------------------------------------\n"
     ]
    },
    {
     "name": "stderr",
     "output_type": "stream",
     "text": [
      "13it [07:54, 36.18s/it]"
     ]
    },
    {
     "name": "stdout",
     "output_type": "stream",
     "text": [
      "RMSE for Base model is 0.36967816208827364\n",
      "RMSE for Incremental trial 1 model is 0.35610244039907113\n",
      "RMSE for Incremental trial 2 model is 0.3471318950971438\n",
      "RMSE for Incremental trial 3 model is 0.34114827747377446\n",
      "RMSE for Incremental trial 4 model is 0.3371021647745241\n",
      "RMSE for Incremental trial 5 model is 0.3343301014482042\n",
      "RMSE for Incremental trial 6 model is 0.3323919934219303\n",
      "RMSE for Incremental trial 7 model is 0.33098408891102304\n",
      "\n",
      "\n",
      "Improvement of : 0.0386940731772506\n",
      "----------------------------------------------------------------------------------------------------\n"
     ]
    },
    {
     "name": "stderr",
     "output_type": "stream",
     "text": [
      "14it [08:31, 36.41s/it]"
     ]
    },
    {
     "name": "stdout",
     "output_type": "stream",
     "text": [
      "RMSE for Base model is 0.37438782891818273\n",
      "RMSE for Incremental trial 1 model is 0.3607063153259189\n",
      "RMSE for Incremental trial 2 model is 0.3515836350423508\n",
      "RMSE for Incremental trial 3 model is 0.34541781065905297\n",
      "RMSE for Incremental trial 4 model is 0.3411826477866497\n",
      "RMSE for Incremental trial 5 model is 0.33823901771403886\n",
      "RMSE for Incremental trial 6 model is 0.33615833221313635\n",
      "RMSE for Incremental trial 7 model is 0.3346333079326522\n",
      "\n",
      "\n",
      "Improvement of : 0.039754520985530506\n",
      "----------------------------------------------------------------------------------------------------\n"
     ]
    },
    {
     "name": "stderr",
     "output_type": "stream",
     "text": [
      "15it [09:08, 36.55s/it]"
     ]
    },
    {
     "name": "stdout",
     "output_type": "stream",
     "text": [
      "RMSE for Base model is 0.3720398786608882\n",
      "RMSE for Incremental trial 1 model is 0.35794267139360564\n",
      "RMSE for Incremental trial 2 model is 0.34856748387670883\n",
      "RMSE for Incremental trial 3 model is 0.3422633519432673\n",
      "RMSE for Incremental trial 4 model is 0.33796993318856805\n",
      "RMSE for Incremental trial 5 model is 0.33500165598196063\n",
      "RMSE for Incremental trial 6 model is 0.3328961315244575\n",
      "RMSE for Incremental trial 7 model is 0.33138412917191945\n",
      "\n",
      "\n",
      "Improvement of : 0.04065574948896877\n",
      "----------------------------------------------------------------------------------------------------\n"
     ]
    },
    {
     "name": "stderr",
     "output_type": "stream",
     "text": [
      "16it [09:44, 36.49s/it]"
     ]
    },
    {
     "name": "stdout",
     "output_type": "stream",
     "text": [
      "RMSE for Base model is 0.37332706906781954\n",
      "RMSE for Incremental trial 1 model is 0.3600469046619049\n",
      "RMSE for Incremental trial 2 model is 0.3512822340156118\n",
      "RMSE for Incremental trial 3 model is 0.34542134155538756\n",
      "RMSE for Incremental trial 4 model is 0.34145168452654345\n",
      "RMSE for Incremental trial 5 model is 0.338717138363538\n",
      "RMSE for Incremental trial 6 model is 0.3367824958135765\n",
      "RMSE for Incremental trial 7 model is 0.3354070172328318\n",
      "\n",
      "\n",
      "Improvement of : 0.037920051834987756\n",
      "----------------------------------------------------------------------------------------------------\n"
     ]
    },
    {
     "name": "stderr",
     "output_type": "stream",
     "text": [
      "17it [10:20, 36.46s/it]"
     ]
    },
    {
     "name": "stdout",
     "output_type": "stream",
     "text": [
      "RMSE for Base model is 0.3711152181383466\n",
      "RMSE for Incremental trial 1 model is 0.3572201396064925\n",
      "RMSE for Incremental trial 2 model is 0.3479658908289001\n",
      "RMSE for Incremental trial 3 model is 0.34173909780333717\n",
      "RMSE for Incremental trial 4 model is 0.33749535542994635\n",
      "RMSE for Incremental trial 5 model is 0.33456348841446876\n",
      "RMSE for Incremental trial 6 model is 0.33249992117919996\n",
      "RMSE for Incremental trial 7 model is 0.3310131694088553\n",
      "\n",
      "\n",
      "Improvement of : 0.0401020487294913\n",
      "----------------------------------------------------------------------------------------------------\n"
     ]
    },
    {
     "name": "stderr",
     "output_type": "stream",
     "text": [
      "18it [10:57, 36.51s/it]\n",
      "0it [00:00, ?it/s]"
     ]
    },
    {
     "name": "stdout",
     "output_type": "stream",
     "text": [
      "Current fold index 19\n",
      "RMSE for Base model is 0.37138243162979495\n",
      "RMSE for Incremental trial 1 model is 0.35753695979957595\n",
      "RMSE for Incremental trial 2 model is 0.34835397981690336\n",
      "RMSE for Incremental trial 3 model is 0.34219873348476354\n",
      "RMSE for Incremental trial 4 model is 0.3380333005893779\n",
      "RMSE for Incremental trial 5 model is 0.3351745974700778\n",
      "RMSE for Incremental trial 6 model is 0.33316288442378655\n",
      "RMSE for Incremental trial 7 model is 0.3317479463411317\n",
      "\n",
      "\n",
      "Improvement of : 0.03963448528866326\n",
      "----------------------------------------------------------------------------------------------------\n"
     ]
    },
    {
     "name": "stderr",
     "output_type": "stream",
     "text": [
      "1it [00:36, 36.33s/it]"
     ]
    },
    {
     "name": "stdout",
     "output_type": "stream",
     "text": [
      "RMSE for Base model is 0.36857885871686\n",
      "RMSE for Incremental trial 1 model is 0.35451461941229495\n",
      "RMSE for Incremental trial 2 model is 0.3452058988982014\n",
      "RMSE for Incremental trial 3 model is 0.33897613009864397\n",
      "RMSE for Incremental trial 4 model is 0.3347785025023208\n",
      "RMSE for Incremental trial 5 model is 0.331917552455948\n",
      "RMSE for Incremental trial 6 model is 0.32991772975115613\n",
      "RMSE for Incremental trial 7 model is 0.32850483713312933\n",
      "\n",
      "\n",
      "Improvement of : 0.04007402158373069\n",
      "----------------------------------------------------------------------------------------------------\n"
     ]
    },
    {
     "name": "stderr",
     "output_type": "stream",
     "text": [
      "2it [01:12, 36.23s/it]"
     ]
    },
    {
     "name": "stdout",
     "output_type": "stream",
     "text": [
      "RMSE for Base model is 0.37161106400299865\n",
      "RMSE for Incremental trial 1 model is 0.3576493533774438\n",
      "RMSE for Incremental trial 2 model is 0.34836913008057274\n",
      "RMSE for Incremental trial 3 model is 0.3421175301159132\n",
      "RMSE for Incremental trial 4 model is 0.33785809208319106\n",
      "RMSE for Incremental trial 5 model is 0.33490760714154144\n",
      "RMSE for Incremental trial 6 model is 0.3328346886957973\n",
      "RMSE for Incremental trial 7 model is 0.3313093692714116\n",
      "\n",
      "\n",
      "Improvement of : 0.04030169473158707\n",
      "----------------------------------------------------------------------------------------------------\n"
     ]
    },
    {
     "name": "stderr",
     "output_type": "stream",
     "text": [
      "3it [01:48, 36.07s/it]"
     ]
    },
    {
     "name": "stdout",
     "output_type": "stream",
     "text": [
      "RMSE for Base model is 0.3734813020520599\n",
      "RMSE for Incremental trial 1 model is 0.35997408858513336\n",
      "RMSE for Incremental trial 2 model is 0.3510747784172448\n",
      "RMSE for Incremental trial 3 model is 0.34513950075324723\n",
      "RMSE for Incremental trial 4 model is 0.3411638127084208\n",
      "RMSE for Incremental trial 5 model is 0.33844534267731785\n",
      "RMSE for Incremental trial 6 model is 0.3365254022817194\n",
      "RMSE for Incremental trial 7 model is 0.33517082063247206\n",
      "\n",
      "\n",
      "Improvement of : 0.03831048141958787\n",
      "----------------------------------------------------------------------------------------------------\n"
     ]
    },
    {
     "name": "stderr",
     "output_type": "stream",
     "text": [
      "4it [02:24, 36.06s/it]"
     ]
    },
    {
     "name": "stdout",
     "output_type": "stream",
     "text": [
      "RMSE for Base model is 0.3748403385949248\n",
      "RMSE for Incremental trial 1 model is 0.3613324694631554\n",
      "RMSE for Incremental trial 2 model is 0.3524120446858112\n",
      "RMSE for Incremental trial 3 model is 0.3464549825760118\n",
      "RMSE for Incremental trial 4 model is 0.3424125189238258\n",
      "RMSE for Incremental trial 5 model is 0.3396264523829621\n",
      "RMSE for Incremental trial 6 model is 0.33767709297343834\n",
      "RMSE for Incremental trial 7 model is 0.3362997540996932\n",
      "\n",
      "\n",
      "Improvement of : 0.03854058449523162\n",
      "----------------------------------------------------------------------------------------------------\n"
     ]
    },
    {
     "name": "stderr",
     "output_type": "stream",
     "text": [
      "5it [03:00, 36.05s/it]"
     ]
    },
    {
     "name": "stdout",
     "output_type": "stream",
     "text": [
      "RMSE for Base model is 0.37136743432650055\n",
      "RMSE for Incremental trial 1 model is 0.3574265363658664\n",
      "RMSE for Incremental trial 2 model is 0.34815867705368764\n",
      "RMSE for Incremental trial 3 model is 0.34190341031232896\n",
      "RMSE for Incremental trial 4 model is 0.33764873188607414\n",
      "RMSE for Incremental trial 5 model is 0.33467911878960105\n",
      "RMSE for Incremental trial 6 model is 0.33257547501732454\n",
      "RMSE for Incremental trial 7 model is 0.33104876961591384\n",
      "\n",
      "\n",
      "Improvement of : 0.040318664710586705\n",
      "----------------------------------------------------------------------------------------------------\n"
     ]
    },
    {
     "name": "stderr",
     "output_type": "stream",
     "text": [
      "6it [03:37, 36.30s/it]"
     ]
    },
    {
     "name": "stdout",
     "output_type": "stream",
     "text": [
      "RMSE for Base model is 0.3737395848327366\n",
      "RMSE for Incremental trial 1 model is 0.36001194472223363\n",
      "RMSE for Incremental trial 2 model is 0.35093929440508564\n",
      "RMSE for Incremental trial 3 model is 0.34486435396809534\n",
      "RMSE for Incremental trial 4 model is 0.3407318188484039\n",
      "RMSE for Incremental trial 5 model is 0.3378887857971949\n",
      "RMSE for Incremental trial 6 model is 0.33588227801945125\n",
      "RMSE for Incremental trial 7 model is 0.33443211844965254\n",
      "\n",
      "\n",
      "Improvement of : 0.03930746638308408\n",
      "----------------------------------------------------------------------------------------------------\n"
     ]
    },
    {
     "name": "stderr",
     "output_type": "stream",
     "text": [
      "7it [04:13, 36.14s/it]"
     ]
    },
    {
     "name": "stdout",
     "output_type": "stream",
     "text": [
      "RMSE for Base model is 0.3744339798215795\n",
      "RMSE for Incremental trial 1 model is 0.3606030413026111\n",
      "RMSE for Incremental trial 2 model is 0.3514485705249467\n",
      "RMSE for Incremental trial 3 model is 0.34532288841488906\n",
      "RMSE for Incremental trial 4 model is 0.3411771261864246\n",
      "RMSE for Incremental trial 5 model is 0.33833960795961526\n",
      "RMSE for Incremental trial 6 model is 0.3363363829122712\n",
      "RMSE for Incremental trial 7 model is 0.33489568000857606\n",
      "\n",
      "\n",
      "Improvement of : 0.03953829981300344\n",
      "----------------------------------------------------------------------------------------------------\n"
     ]
    },
    {
     "name": "stderr",
     "output_type": "stream",
     "text": [
      "8it [04:49, 36.11s/it]"
     ]
    },
    {
     "name": "stdout",
     "output_type": "stream",
     "text": [
      "RMSE for Base model is 0.3724829555770654\n",
      "RMSE for Incremental trial 1 model is 0.35814777613112325\n",
      "RMSE for Incremental trial 2 model is 0.34857550909065177\n",
      "RMSE for Incremental trial 3 model is 0.3421143813194232\n",
      "RMSE for Incremental trial 4 model is 0.33769172046530893\n",
      "RMSE for Incremental trial 5 model is 0.3346090813436556\n",
      "RMSE for Incremental trial 6 model is 0.3324105315757871\n",
      "RMSE for Incremental trial 7 model is 0.3308143339906412\n",
      "\n",
      "\n",
      "Improvement of : 0.041668621586424204\n",
      "----------------------------------------------------------------------------------------------------\n"
     ]
    },
    {
     "name": "stderr",
     "output_type": "stream",
     "text": [
      "9it [05:24, 36.05s/it]"
     ]
    },
    {
     "name": "stdout",
     "output_type": "stream",
     "text": [
      "RMSE for Base model is 0.3741157125883225\n",
      "RMSE for Incremental trial 1 model is 0.3610626988269938\n",
      "RMSE for Incremental trial 2 model is 0.35252265356663626\n",
      "RMSE for Incremental trial 3 model is 0.3468634741701147\n",
      "RMSE for Incremental trial 4 model is 0.3430791636204134\n",
      "RMSE for Incremental trial 5 model is 0.3405108471992158\n",
      "RMSE for Incremental trial 6 model is 0.3387173954825948\n",
      "RMSE for Incremental trial 7 model is 0.33742596948353465\n",
      "\n",
      "\n",
      "Improvement of : 0.03668974310478784\n",
      "----------------------------------------------------------------------------------------------------\n"
     ]
    },
    {
     "name": "stderr",
     "output_type": "stream",
     "text": [
      "10it [06:00, 36.02s/it]"
     ]
    },
    {
     "name": "stdout",
     "output_type": "stream",
     "text": [
      "RMSE for Base model is 0.3725848828590666\n",
      "RMSE for Incremental trial 1 model is 0.35856846934508424\n",
      "RMSE for Incremental trial 2 model is 0.34924997891231147\n",
      "RMSE for Incremental trial 3 model is 0.3429780923134279\n",
      "RMSE for Incremental trial 4 model is 0.3387227324982274\n",
      "RMSE for Incremental trial 5 model is 0.3357728596915324\n",
      "RMSE for Incremental trial 6 model is 0.33368688735227237\n",
      "RMSE for Incremental trial 7 model is 0.3321773554779084\n",
      "\n",
      "\n",
      "Improvement of : 0.040407527381158215\n",
      "----------------------------------------------------------------------------------------------------\n"
     ]
    },
    {
     "name": "stderr",
     "output_type": "stream",
     "text": [
      "11it [06:37, 36.06s/it]"
     ]
    },
    {
     "name": "stdout",
     "output_type": "stream",
     "text": [
      "RMSE for Base model is 0.37328969282736346\n",
      "RMSE for Incremental trial 1 model is 0.3596192662659272\n",
      "RMSE for Incremental trial 2 model is 0.35056045533413827\n",
      "RMSE for Incremental trial 3 model is 0.3444789759018645\n",
      "RMSE for Incremental trial 4 model is 0.34036651369388654\n",
      "RMSE for Incremental trial 5 model is 0.3375235962934405\n",
      "RMSE for Incremental trial 6 model is 0.335519640101852\n",
      "RMSE for Incremental trial 7 model is 0.3340691189113541\n",
      "\n",
      "\n",
      "Improvement of : 0.03922057391600936\n",
      "----------------------------------------------------------------------------------------------------\n"
     ]
    },
    {
     "name": "stderr",
     "output_type": "stream",
     "text": [
      "12it [07:13, 36.05s/it]"
     ]
    },
    {
     "name": "stdout",
     "output_type": "stream",
     "text": [
      "RMSE for Base model is 0.37013005791698955\n",
      "RMSE for Incremental trial 1 model is 0.35661623599805514\n",
      "RMSE for Incremental trial 2 model is 0.34773351450030193\n",
      "RMSE for Incremental trial 3 model is 0.3418096926693222\n",
      "RMSE for Incremental trial 4 model is 0.3378313962999781\n",
      "RMSE for Incremental trial 5 model is 0.33510271995829166\n",
      "RMSE for Incremental trial 6 model is 0.3332212270487021\n",
      "RMSE for Incremental trial 7 model is 0.33186628604114804\n",
      "\n",
      "\n",
      "Improvement of : 0.03826377187584151\n",
      "----------------------------------------------------------------------------------------------------\n"
     ]
    },
    {
     "name": "stderr",
     "output_type": "stream",
     "text": [
      "13it [07:49, 36.08s/it]"
     ]
    },
    {
     "name": "stdout",
     "output_type": "stream",
     "text": [
      "RMSE for Base model is 0.3696529967164875\n",
      "RMSE for Incremental trial 1 model is 0.35607686408677136\n",
      "RMSE for Incremental trial 2 model is 0.3471208546476682\n",
      "RMSE for Incremental trial 3 model is 0.3411529979906207\n",
      "RMSE for Incremental trial 4 model is 0.337145235346161\n",
      "RMSE for Incremental trial 5 model is 0.33441527947709665\n",
      "RMSE for Incremental trial 6 model is 0.33251410727704406\n",
      "RMSE for Incremental trial 7 model is 0.33117036879175965\n",
      "\n",
      "\n",
      "Improvement of : 0.03848262792472784\n",
      "----------------------------------------------------------------------------------------------------\n"
     ]
    },
    {
     "name": "stderr",
     "output_type": "stream",
     "text": [
      "14it [08:25, 36.08s/it]"
     ]
    },
    {
     "name": "stdout",
     "output_type": "stream",
     "text": [
      "RMSE for Base model is 0.37031526730364633\n",
      "RMSE for Incremental trial 1 model is 0.35675476521639954\n",
      "RMSE for Incremental trial 2 model is 0.3477701690990921\n",
      "RMSE for Incremental trial 3 model is 0.34175256120413\n",
      "RMSE for Incremental trial 4 model is 0.3376616294199632\n",
      "RMSE for Incremental trial 5 model is 0.33484176930796844\n",
      "RMSE for Incremental trial 6 model is 0.3328678572871703\n",
      "RMSE for Incremental trial 7 model is 0.33145529319965755\n",
      "\n",
      "\n",
      "Improvement of : 0.03885997410398878\n",
      "----------------------------------------------------------------------------------------------------\n"
     ]
    },
    {
     "name": "stderr",
     "output_type": "stream",
     "text": [
      "15it [09:01, 36.07s/it]"
     ]
    },
    {
     "name": "stdout",
     "output_type": "stream",
     "text": [
      "RMSE for Base model is 0.37499407139139307\n",
      "RMSE for Incremental trial 1 model is 0.36117764897004917\n",
      "RMSE for Incremental trial 2 model is 0.35198636703109976\n",
      "RMSE for Incremental trial 3 model is 0.34577917504813993\n",
      "RMSE for Incremental trial 4 model is 0.34154992253339644\n",
      "RMSE for Incremental trial 5 model is 0.33861163617361195\n",
      "RMSE for Incremental trial 6 model is 0.3365339368333966\n",
      "RMSE for Incremental trial 7 model is 0.33502377492392454\n",
      "\n",
      "\n",
      "Improvement of : 0.039970296467468525\n",
      "----------------------------------------------------------------------------------------------------\n"
     ]
    },
    {
     "name": "stderr",
     "output_type": "stream",
     "text": [
      "16it [09:37, 36.06s/it]"
     ]
    },
    {
     "name": "stdout",
     "output_type": "stream",
     "text": [
      "RMSE for Base model is 0.37187105581022867\n",
      "RMSE for Incremental trial 1 model is 0.35776689759421915\n",
      "RMSE for Incremental trial 2 model is 0.3483724641543991\n",
      "RMSE for Incremental trial 3 model is 0.34203345189608064\n",
      "RMSE for Incremental trial 4 model is 0.33769613929422976\n",
      "RMSE for Incremental trial 5 model is 0.33469127591898434\n",
      "RMSE for Incremental trial 6 model is 0.33257141903010295\n",
      "RMSE for Incremental trial 7 model is 0.33103571367868584\n",
      "\n",
      "\n",
      "Improvement of : 0.04083534213154283\n",
      "----------------------------------------------------------------------------------------------------\n"
     ]
    },
    {
     "name": "stderr",
     "output_type": "stream",
     "text": [
      "17it [10:13, 36.02s/it]"
     ]
    },
    {
     "name": "stdout",
     "output_type": "stream",
     "text": [
      "RMSE for Base model is 0.3730311956268487\n",
      "RMSE for Incremental trial 1 model is 0.359844723288138\n",
      "RMSE for Incremental trial 2 model is 0.3511707171323228\n",
      "RMSE for Incremental trial 3 model is 0.34537932749875727\n",
      "RMSE for Incremental trial 4 model is 0.3414717184131639\n",
      "RMSE for Incremental trial 5 model is 0.3387694966743379\n",
      "RMSE for Incremental trial 6 model is 0.33687092866174595\n",
      "RMSE for Incremental trial 7 model is 0.335511068375593\n",
      "\n",
      "\n",
      "Improvement of : 0.0375201272512557\n",
      "----------------------------------------------------------------------------------------------------\n"
     ]
    },
    {
     "name": "stderr",
     "output_type": "stream",
     "text": [
      "18it [10:49, 35.97s/it]"
     ]
    },
    {
     "name": "stdout",
     "output_type": "stream",
     "text": [
      "RMSE for Base model is 0.3714718134467412\n",
      "RMSE for Incremental trial 1 model is 0.357562080908172\n",
      "RMSE for Incremental trial 2 model is 0.34830196116155315\n",
      "RMSE for Incremental trial 3 model is 0.34205436305758397\n",
      "RMSE for Incremental trial 4 model is 0.3378010110872906\n",
      "RMSE for Incremental trial 5 model is 0.33486029907832787\n",
      "RMSE for Incremental trial 6 model is 0.3327849962296434\n",
      "RMSE for Incremental trial 7 model is 0.3312922922824477\n",
      "\n",
      "\n",
      "Improvement of : 0.040179521164293464\n",
      "----------------------------------------------------------------------------------------------------\n"
     ]
    },
    {
     "name": "stderr",
     "output_type": "stream",
     "text": [
      "19it [11:25, 36.07s/it]\n"
     ]
    }
   ],
   "source": [
    "root_directory = 'N:\\\\kaggle_data\\\\march'\n",
    "\n",
    "fold_ittr_range = 20\n",
    "preds_list_final_iterations =[]\n",
    "\n",
    "for fold_index in range(2, fold_ittr_range):\n",
    "    print(f'Current fold index {fold_index}')\n",
    "    split = KFold(n_splits=fold_index)\n",
    "    lgbm_params = {'max_depth': 33, 'subsample': 0.2028128133863628, 'colsample_bytree': 0.3316256936017043, 'learning_rate': 0.007295415117417998, 'reg_lambda': 21.211226081349032, 'reg_alpha': 7.386690008287902, 'min_child_samples': 88, 'num_leaves': 200, 'max_bin': 859, 'cat_smooth': 100, 'cat_l2': 3.5709736612307674,\n",
    "                'verbose':-1}\n",
    "    \n",
    "\n",
    "    preds_list_base = []\n",
    "    preds_list_final_iteration = []\n",
    "    preds_list_all = []\n",
    "\n",
    "    for train_idx, val_idx in tqdm(split.split(X_train)):\n",
    "        X_tr = X_train.iloc[train_idx]\n",
    "        X_val = X_train.iloc[val_idx]\n",
    "        y_tr = y_train.iloc[train_idx]\n",
    "        y_val = y_train.iloc[val_idx]\n",
    "\n",
    "        Model = LGBMRegressor(**lgbm_params).fit(X_tr, y_tr, eval_set=[(X_val, y_val)],\n",
    "                      eval_metric=['rmse'],\n",
    "                      early_stopping_rounds=250, \n",
    "                      categorical_feature=[0, 1, 2, 3, 4, 5, 6, 7, 8, 9],\n",
    "                      #callbacks=[optuna.integration.LightGBMPruningCallback(trial, metric='rmse')],\n",
    "                      verbose=0)\n",
    "\n",
    "        preds_list_base.append(Model.predict(X_test))\n",
    "        preds_list_all.append(Model.predict(X_test))\n",
    "        print(f'RMSE for Base model is {np.sqrt(mean_squared_error(y_val, Model.predict(X_val)))}')\n",
    "        first_rmse = np.sqrt(mean_squared_error(y_val, Model.predict(X_val)))\n",
    "        params = lgbm_params.copy()\n",
    "\n",
    "        for i in range(1, 8):\n",
    "            if i >2:    \n",
    "\n",
    "                # reducing regularizing params if \n",
    "\n",
    "                params['reg_lambda'] *= 0.9\n",
    "                params['reg_alpha'] *= 0.9\n",
    "                params['num_leaves'] += 40\n",
    "\n",
    "            params['learning_rate'] = 0.003\n",
    "            Model = LGBMRegressor(**params).fit(X_tr, y_tr, eval_set=[(X_val, y_val)],\n",
    "                      eval_metric=['rmse'],\n",
    "                      early_stopping_rounds=200, \n",
    "                      categorical_feature=[0, 1, 2, 3, 4, 5, 6, 7, 8, 9],\n",
    "                      #callbacks=[optuna.integration.LightGBMPruningCallback(trial, metric='rmse')],\n",
    "                      verbose=0,\n",
    "                      init_model=Model)\n",
    "\n",
    "            preds_list_all.append(Model.predict(X_test))\n",
    "            print(f'RMSE for Incremental trial {i} model is {np.sqrt(mean_squared_error(y_val, Model.predict(X_val)))}')\n",
    "        last_rmse = np.sqrt(mean_squared_error(y_val, Model.predict(X_val)))\n",
    "        print('',end='\\n\\n')\n",
    "        print(f'Improvement of : {first_rmse - last_rmse}')\n",
    "        print('-' * 100)\n",
    "        preds_list_final_iteration.append(Model.predict(X_test))\n",
    "    preds_list_final_iterations[len(preds_list_final_iterations):] = preds_list_final_iteration\n",
    "    dt_string = datetime.now().strftime(\"%d-%m-%Y_%H-%M-%S\")\n",
    "    y_preds_final_iteration = np.array(preds_list_final_iterations).mean(axis=0)\n",
    "    submission = pd.DataFrame({'id':test.id,\n",
    "              'target':y_preds_final_iteration})\n",
    "    submission.to_csv(f'{root_directory}\\\\wave6_{dt_string}_FI{fold_index}_sub.csv', index=False)"
   ]
  },
  {
   "cell_type": "code",
   "execution_count": null,
   "metadata": {
    "papermill": {
     "duration": 0.028568,
     "end_time": "2021-02-19T04:27:13.410908",
     "exception": false,
     "start_time": "2021-02-19T04:27:13.382340",
     "status": "completed"
    },
    "tags": []
   },
   "outputs": [],
   "source": []
  }
 ],
 "metadata": {
  "kernelspec": {
   "display_name": "Python 3",
   "language": "python",
   "name": "python3"
  },
  "language_info": {
   "codemirror_mode": {
    "name": "ipython",
    "version": 3
   },
   "file_extension": ".py",
   "mimetype": "text/x-python",
   "name": "python",
   "nbconvert_exporter": "python",
   "pygments_lexer": "ipython3",
   "version": "3.7.5"
  },
  "papermill": {
   "default_parameters": {},
   "duration": 5375.500553,
   "end_time": "2021-02-19T04:27:15.130226",
   "environment_variables": {},
   "exception": null,
   "input_path": "__notebook__.ipynb",
   "output_path": "__notebook__.ipynb",
   "parameters": {},
   "start_time": "2021-02-19T02:57:39.629673",
   "version": "2.2.2"
  }
 },
 "nbformat": 4,
 "nbformat_minor": 4
}
