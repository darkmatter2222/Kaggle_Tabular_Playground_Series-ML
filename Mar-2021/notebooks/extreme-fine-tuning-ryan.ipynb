{
 "cells": [
  {
   "cell_type": "code",
   "execution_count": 15,
   "metadata": {
    "papermill": {
     "duration": 2.138608,
     "end_time": "2021-02-19T02:57:47.964373",
     "exception": false,
     "start_time": "2021-02-19T02:57:45.825765",
     "status": "completed"
    },
    "tags": []
   },
   "outputs": [],
   "source": [
    "import pandas as pd\n",
    "import numpy as np\n",
    "import matplotlib.pyplot as plt\n",
    "import seaborn as sns\n",
    "\n",
    "from sklearn.model_selection import KFold, GridSearchCV, cross_validate, train_test_split\n",
    "from sklearn.metrics import mean_squared_error\n",
    "from sklearn.preprocessing import LabelEncoder\n",
    "\n",
    "from lightgbm import LGBMRegressor\n",
    "from tqdm import tqdm\n",
    "import optuna\n",
    "from functools import partial\n",
    "from datetime import datetime\n",
    "\n",
    "import warnings\n",
    "warnings.filterwarnings('ignore')"
   ]
  },
  {
   "cell_type": "code",
   "execution_count": 16,
   "metadata": {},
   "outputs": [
    {
     "data": {
      "text/plain": [
       "array([2., 2., 2.])"
      ]
     },
     "execution_count": 16,
     "metadata": {},
     "output_type": "execute_result"
    }
   ],
   "source": [
    "t1=[[1,1,1],[3,3,3]]\n",
    "t2=[[1,1,1],[3,3,3]]\n",
    "test_t=[]\n",
    "test_t[len(test_t):] = t1\n",
    "test_t[len(test_t):] = t2\n",
    "np.save(f'test.npy', test_t)\n",
    "test_l = np.load('test.npy')\n",
    "np.array(test_l).mean(axis=0)"
   ]
  },
  {
   "cell_type": "code",
   "execution_count": 17,
   "metadata": {
    "papermill": {
     "duration": 4.206009,
     "end_time": "2021-02-19T02:57:52.183073",
     "exception": false,
     "start_time": "2021-02-19T02:57:47.977064",
     "status": "completed"
    },
    "tags": []
   },
   "outputs": [],
   "source": [
    "train = pd.read_csv('..\\\\kaggle_data\\\\train.csv')\n",
    "test = pd.read_csv('..\\\\kaggle_data\\\\test.csv')"
   ]
  },
  {
   "cell_type": "code",
   "execution_count": 18,
   "metadata": {
    "papermill": {
     "duration": 0.095898,
     "end_time": "2021-02-19T02:57:52.291780",
     "exception": false,
     "start_time": "2021-02-19T02:57:52.195882",
     "status": "completed"
    },
    "tags": []
   },
   "outputs": [],
   "source": [
    "X_train = train.drop(['id', 'target'], axis=1)\n",
    "y_train = train.target\n",
    "X_test = test.drop(['id'], axis=1)"
   ]
  },
  {
   "cell_type": "code",
   "execution_count": 19,
   "metadata": {
    "papermill": {
     "duration": 0.020649,
     "end_time": "2021-02-19T02:57:52.324883",
     "exception": false,
     "start_time": "2021-02-19T02:57:52.304234",
     "status": "completed"
    },
    "tags": []
   },
   "outputs": [],
   "source": [
    "cat_cols = [feature for feature in train.columns if 'cat' in feature]\n",
    "\n",
    "def label_encoder(df):\n",
    "    for feature in cat_cols:\n",
    "        le = LabelEncoder()\n",
    "        le.fit(df[feature])\n",
    "        df[feature] = le.transform(df[feature])\n",
    "    return df"
   ]
  },
  {
   "cell_type": "code",
   "execution_count": 20,
   "metadata": {
    "papermill": {
     "duration": 1.818185,
     "end_time": "2021-02-19T02:57:54.155645",
     "exception": false,
     "start_time": "2021-02-19T02:57:52.337460",
     "status": "completed"
    },
    "tags": []
   },
   "outputs": [],
   "source": [
    "X_train = label_encoder(X_train)\n",
    "X_test = label_encoder(X_test)"
   ]
  },
  {
   "cell_type": "code",
   "execution_count": 22,
   "metadata": {},
   "outputs": [],
   "source": [
    "split = KFold(n_splits=5)"
   ]
  },
  {
   "cell_type": "code",
   "execution_count": null,
   "metadata": {},
   "outputs": [],
   "source": [
    "preds_list_final_iterations =[]"
   ]
  },
  {
   "cell_type": "code",
   "execution_count": 27,
   "metadata": {},
   "outputs": [],
   "source": [
    "def objective(trial, X, y, name='xgb'):\n",
    "        \n",
    "    params = {'max_depth':trial.suggest_int('max_depth', 5, 50),\n",
    "              'n_estimators':trial.suggest_int('n_estimators', 100000, 300000),\n",
    "              #'boosting':trial.suggest_categorical('boosting', ['gbdt', 'dart', 'goss']),\n",
    "              'subsample': trial.suggest_uniform('subsample', 0.1, 1.0),\n",
    "              'colsample_bytree':trial.suggest_uniform('colsample_bytree', 0.1, 1.0),\n",
    "              'learning_rate':trial.suggest_uniform('learning_rate', 0.00001, 0.1),\n",
    "              'reg_lambda':trial.suggest_uniform('reg_lambda', 0.01, 100),\n",
    "              'reg_alpha':trial.suggest_uniform('reg_alpha', 0.01, 100),\n",
    "              'min_child_samples':trial.suggest_int('min_child_samples', 5, 100),\n",
    "              'num_leaves':trial.suggest_int('num_leaves', 10, 2000),\n",
    "              'n_jobs' : -1,\n",
    "              'metric':'rmse',\n",
    "              'max_bin':trial.suggest_int('max_bin', 50, 10000),\n",
    "              'cat_smooth':trial.suggest_int('cat_smooth', 5, 100),\n",
    "              'cat_l2':trial.suggest_loguniform('cat_l2', 1e-3, 100)}\n",
    "\n",
    "    model = LGBMRegressor(**params)\n",
    "                  \n",
    "    X_train, X_val, y_train, y_val = train_test_split(X, y, test_size=0.2, random_state=0)\n",
    "    \n",
    "\n",
    "    model.fit(X_train, y_train, eval_set=[(X_val, y_val)],\n",
    "              eval_metric=['rmse'],\n",
    "              early_stopping_rounds=250, \n",
    "              categorical_feature=[0, 1, 2, 3, 4, 5, 6, 7, 8, 9],\n",
    "              #callbacks=[optuna.integration.LightGBMPruningCallback(trial, metric='rmse')],\n",
    "              verbose=0)\n",
    "    \n",
    "    preds_list_final_iterations.append(model.predict(X_test))\n",
    "\n",
    "    dt_string = datetime.now().strftime(\"%d-%m-%Y_%H-%M-%S\")\n",
    "    #np.save(f'..\\\\kaggle_data\\\\{dt_string}_FI{fold_index}_sub.npy', preds_list_final_iterations)\n",
    "    y_preds_final_iteration = np.array(preds_list_final_iterations).mean(axis=0)\n",
    "    submission = pd.DataFrame({'id':test.id,\n",
    "              'target':y_preds_final_iteration})\n",
    "    submission.to_csv(f'..\\\\kaggle_data\\\\{dt_string}_AUTOML_sub.csv', index=False)\n",
    "    \n",
    "    train_score = np.round(np.sqrt(mean_squared_error(y_train, model.predict(X_train))), 5)\n",
    "    test_score = np.round(np.sqrt(mean_squared_error(y_val, model.predict(X_val))), 5)\n",
    "                  \n",
    "    print(f'TRAIN RMSE : {train_score} || TEST RMSE : {test_score}')\n",
    "                  \n",
    "    return test_score"
   ]
  },
  {
   "cell_type": "code",
   "execution_count": null,
   "metadata": {},
   "outputs": [
    {
     "name": "stderr",
     "output_type": "stream",
     "text": [
      "\u001b[32m[I 2021-03-04 21:02:59,418]\u001b[0m A new study created in memory with name: no-name-b5772513-f90e-4603-b6ca-19913345f877\u001b[0m\n",
      "\u001b[32m[I 2021-03-04 21:03:13,472]\u001b[0m Trial 0 finished with value: 0.32992 and parameters: {'max_depth': 7, 'n_estimators': 141543, 'subsample': 0.13194982068985575, 'colsample_bytree': 0.4275351375003753, 'learning_rate': 0.05576040249389689, 'reg_lambda': 10.130556541335842, 'reg_alpha': 43.888243038335254, 'min_child_samples': 100, 'num_leaves': 781, 'max_bin': 3750, 'cat_smooth': 71, 'cat_l2': 0.10415838986547839}. Best is trial 0 with value: 0.32992.\u001b[0m\n"
     ]
    },
    {
     "name": "stdout",
     "output_type": "stream",
     "text": [
      "TRAIN RMSE : 0.31778 || TEST RMSE : 0.32992\n"
     ]
    },
    {
     "name": "stderr",
     "output_type": "stream",
     "text": [
      "\u001b[32m[I 2021-03-04 21:03:39,153]\u001b[0m Trial 1 finished with value: 0.33086 and parameters: {'max_depth': 32, 'n_estimators': 234308, 'subsample': 0.17824817621894845, 'colsample_bytree': 0.46499252239286504, 'learning_rate': 0.021048179938482306, 'reg_lambda': 97.2189346518409, 'reg_alpha': 73.88978022185553, 'min_child_samples': 39, 'num_leaves': 262, 'max_bin': 3172, 'cat_smooth': 56, 'cat_l2': 77.09053081006996}. Best is trial 0 with value: 0.32992.\u001b[0m\n"
     ]
    },
    {
     "name": "stdout",
     "output_type": "stream",
     "text": [
      "TRAIN RMSE : 0.32114 || TEST RMSE : 0.33086\n"
     ]
    },
    {
     "name": "stderr",
     "output_type": "stream",
     "text": [
      "\u001b[32m[I 2021-03-04 21:04:00,258]\u001b[0m Trial 2 finished with value: 0.33115 and parameters: {'max_depth': 34, 'n_estimators': 174446, 'subsample': 0.3053473998791926, 'colsample_bytree': 0.7198785151042646, 'learning_rate': 0.05929153067392442, 'reg_lambda': 22.866042811162192, 'reg_alpha': 68.06082702897217, 'min_child_samples': 73, 'num_leaves': 992, 'max_bin': 8643, 'cat_smooth': 16, 'cat_l2': 0.008149730962108092}. Best is trial 0 with value: 0.32992.\u001b[0m\n"
     ]
    },
    {
     "name": "stdout",
     "output_type": "stream",
     "text": [
      "TRAIN RMSE : 0.31566 || TEST RMSE : 0.33115\n"
     ]
    },
    {
     "name": "stderr",
     "output_type": "stream",
     "text": [
      "\u001b[32m[I 2021-03-04 21:05:33,405]\u001b[0m Trial 3 finished with value: 0.33177 and parameters: {'max_depth': 20, 'n_estimators': 133857, 'subsample': 0.2191358523211001, 'colsample_bytree': 0.37871476345615207, 'learning_rate': 0.006985998714364101, 'reg_lambda': 56.15419013975906, 'reg_alpha': 92.64646225227655, 'min_child_samples': 41, 'num_leaves': 1881, 'max_bin': 9817, 'cat_smooth': 70, 'cat_l2': 1.125918987341215}. Best is trial 0 with value: 0.32992.\u001b[0m\n"
     ]
    },
    {
     "name": "stdout",
     "output_type": "stream",
     "text": [
      "TRAIN RMSE : 0.32486 || TEST RMSE : 0.33177\n"
     ]
    },
    {
     "name": "stderr",
     "output_type": "stream",
     "text": [
      "\u001b[32m[I 2021-03-04 21:06:02,703]\u001b[0m Trial 4 finished with value: 0.33046 and parameters: {'max_depth': 35, 'n_estimators': 280672, 'subsample': 0.2061661815232902, 'colsample_bytree': 0.6986671153751562, 'learning_rate': 0.058094922620627, 'reg_lambda': 19.185160044883723, 'reg_alpha': 52.69835248476301, 'min_child_samples': 62, 'num_leaves': 1947, 'max_bin': 8548, 'cat_smooth': 63, 'cat_l2': 0.008435150698300666}. Best is trial 0 with value: 0.32992.\u001b[0m\n"
     ]
    },
    {
     "name": "stdout",
     "output_type": "stream",
     "text": [
      "TRAIN RMSE : 0.31155 || TEST RMSE : 0.33046\n"
     ]
    }
   ],
   "source": [
    "optimize = partial(objective, X=X_train, y=y_train)\n",
    "\n",
    "study_lgbm = optuna.create_study(direction='minimize')\n",
    "study_lgbm.optimize(optimize, n_trials=300)\n",
    "\n",
    "# i have commented out the trials so as to cut short the notebook execution time."
   ]
  },
  {
   "cell_type": "code",
   "execution_count": null,
   "metadata": {},
   "outputs": [],
   "source": []
  },
  {
   "cell_type": "code",
   "execution_count": null,
   "metadata": {},
   "outputs": [],
   "source": []
  },
  {
   "cell_type": "code",
   "execution_count": null,
   "metadata": {},
   "outputs": [],
   "source": [
    "fold_ittr_range = 20\n",
    "preds_list_final_iterations =[]\n",
    "\n",
    "for fold_index in range(2, fold_ittr_range):\n",
    "    print(f'Current fold index {fold_index}')\n",
    "    split = KFold(n_splits=fold_index)\n",
    "    lgbm_params = {'max_depth': 16, \n",
    "                'subsample': 0.8032697250789377, \n",
    "                'colsample_bytree': 0.21067140508531404, \n",
    "                'learning_rate': 0.009867383057779643,\n",
    "                'reg_lambda': 10.987474846877767, \n",
    "                'reg_alpha': 17.335285595031994, \n",
    "                'min_child_samples': 31, \n",
    "                'num_leaves': 66, \n",
    "                'max_bin': 522, \n",
    "                'cat_smooth': 81, \n",
    "                'cat_l2': 0.029690334194270022, \n",
    "                'metric': 'rmse', \n",
    "                'n_jobs': -1, \n",
    "                'n_estimators': 20000,\n",
    "                'verbose':-1}\n",
    "    \n",
    "\n",
    "    preds_list_base = []\n",
    "    preds_list_final_iteration = []\n",
    "    preds_list_all = []\n",
    "\n",
    "    for train_idx, val_idx in tqdm(split.split(X_train)):\n",
    "        X_tr = X_train.iloc[train_idx]\n",
    "        X_val = X_train.iloc[val_idx]\n",
    "        y_tr = y_train.iloc[train_idx]\n",
    "        y_val = y_train.iloc[val_idx]\n",
    "\n",
    "        Model = LGBMRegressor(**lgbm_params).fit(X_tr, y_tr, eval_set=[(X_val, y_val)],\n",
    "                      eval_metric=['rmse'],\n",
    "                      early_stopping_rounds=250, \n",
    "                      categorical_feature=[0, 1, 2, 3, 4, 5, 6, 7, 8, 9],\n",
    "                      #callbacks=[optuna.integration.LightGBMPruningCallback(trial, metric='rmse')],\n",
    "                      verbose=0)\n",
    "\n",
    "        preds_list_base.append(Model.predict(X_test))\n",
    "        preds_list_all.append(Model.predict(X_test))\n",
    "        print(f'RMSE for Base model is {np.sqrt(mean_squared_error(y_val, Model.predict(X_val)))}')\n",
    "        first_rmse = np.sqrt(mean_squared_error(y_val, Model.predict(X_val)))\n",
    "        params = lgbm_params.copy()\n",
    "\n",
    "        for i in range(1, 8):\n",
    "            if i >2:    \n",
    "\n",
    "                # reducing regularizing params if \n",
    "\n",
    "                params['reg_lambda'] *= 0.9\n",
    "                params['reg_alpha'] *= 0.9\n",
    "                params['num_leaves'] += 40\n",
    "\n",
    "            params['learning_rate'] = 0.003\n",
    "            Model = LGBMRegressor(**params).fit(X_tr, y_tr, eval_set=[(X_val, y_val)],\n",
    "                      eval_metric=['rmse'],\n",
    "                      early_stopping_rounds=200, \n",
    "                      categorical_feature=[0, 1, 2, 3, 4, 5, 6, 7, 8, 9],\n",
    "                      #callbacks=[optuna.integration.LightGBMPruningCallback(trial, metric='rmse')],\n",
    "                      verbose=0,\n",
    "                      init_model=Model)\n",
    "\n",
    "            preds_list_all.append(Model.predict(X_test))\n",
    "            print(f'RMSE for Incremental trial {i} model is {np.sqrt(mean_squared_error(y_val, Model.predict(X_val)))}')\n",
    "        last_rmse = np.sqrt(mean_squared_error(y_val, Model.predict(X_val)))\n",
    "        print('',end='\\n\\n')\n",
    "        print(f'Improvement of : {first_rmse - last_rmse}')\n",
    "        print('-' * 100)\n",
    "        preds_list_final_iteration.append(Model.predict(X_test))\n",
    "    preds_list_final_iterations[len(preds_list_final_iterations):] = preds_list_final_iteration\n",
    "    dt_string = datetime.now().strftime(\"%d-%m-%Y_%H-%M-%S\")\n",
    "    np.save(f'..\\\\kaggle_data\\\\{dt_string}_FI{fold_index}_sub.npy', preds_list_final_iterations)\n",
    "    y_preds_final_iteration = np.array(preds_list_final_iterations).mean(axis=0)\n",
    "    submission = pd.DataFrame({'id':test.id,\n",
    "              'target':y_preds_final_iteration})\n",
    "    submission.to_csv(f'..\\\\kaggle_data\\\\{dt_string}_FI{fold_index}_sub.csv', index=False)"
   ]
  },
  {
   "cell_type": "code",
   "execution_count": null,
   "metadata": {
    "papermill": {
     "duration": 0.028568,
     "end_time": "2021-02-19T04:27:13.410908",
     "exception": false,
     "start_time": "2021-02-19T04:27:13.382340",
     "status": "completed"
    },
    "tags": []
   },
   "outputs": [],
   "source": []
  }
 ],
 "metadata": {
  "kernelspec": {
   "display_name": "Python 3",
   "language": "python",
   "name": "python3"
  },
  "language_info": {
   "codemirror_mode": {
    "name": "ipython",
    "version": 3
   },
   "file_extension": ".py",
   "mimetype": "text/x-python",
   "name": "python",
   "nbconvert_exporter": "python",
   "pygments_lexer": "ipython3",
   "version": "3.7.5"
  },
  "papermill": {
   "default_parameters": {},
   "duration": 5375.500553,
   "end_time": "2021-02-19T04:27:15.130226",
   "environment_variables": {},
   "exception": null,
   "input_path": "__notebook__.ipynb",
   "output_path": "__notebook__.ipynb",
   "parameters": {},
   "start_time": "2021-02-19T02:57:39.629673",
   "version": "2.2.2"
  }
 },
 "nbformat": 4,
 "nbformat_minor": 4
}
