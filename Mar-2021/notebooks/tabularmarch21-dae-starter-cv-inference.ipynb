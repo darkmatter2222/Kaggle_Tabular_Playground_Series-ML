{
 "cells": [
  {
   "cell_type": "code",
   "execution_count": 2,
   "id": "facial-indianapolis",
   "metadata": {
    "_cell_guid": "b1076dfc-b9ad-4769-8c92-a6c4dae69d19",
    "_uuid": "8f2839f25d086af736a60e9eeb907d3b93b6e0e5",
    "papermill": {
     "duration": 2.456698,
     "end_time": "2021-03-21T05:38:36.151483",
     "exception": false,
     "start_time": "2021-03-21T05:38:33.694785",
     "status": "completed"
    },
    "tags": []
   },
   "outputs": [],
   "source": [
    "import torch\n",
    "import numpy as np\n",
    "from datetime import datetime\n",
    "import pickle\n",
    "from torch.utils.data import DataLoader\n",
    "import torch.nn as nn\n",
    "import torch.nn.functional as F\n",
    "import torch.optim as optim\n",
    "from sklearn.linear_model import Ridge\n",
    "from sklearn.model_selection import KFold\n",
    "from sklearn.metrics import mean_squared_error\n",
    "from sklearn.metrics import roc_auc_score\n",
    "import pandas as pd\n",
    "import gc\n",
    "import random\n",
    "import os\n",
    "import seaborn as sns\n",
    "import matplotlib.pyplot as plt\n",
    "import matplotlib.patches as mpatches\n",
    "from sklearn.model_selection import StratifiedKFold\n",
    "import pickle"
   ]
  },
  {
   "cell_type": "code",
   "execution_count": 38,
   "id": "formed-salon",
   "metadata": {},
   "outputs": [
    {
     "data": {
      "text/plain": [
       "False"
      ]
     },
     "execution_count": 38,
     "metadata": {},
     "output_type": "execute_result"
    }
   ],
   "source": [
    "torch.cuda.is_available()"
   ]
  },
  {
   "cell_type": "markdown",
   "id": "actual-anthropology",
   "metadata": {
    "papermill": {
     "duration": 0.015505,
     "end_time": "2021-03-21T05:38:36.183573",
     "exception": false,
     "start_time": "2021-03-21T05:38:36.168068",
     "status": "completed"
    },
    "tags": []
   },
   "source": [
    "If you find this notebook useful, please visit original discussion post (#1 Solution in Feb21 Comp, which is where I have taken this code from) and upvote.\n",
    "\n",
    "https://www.kaggle.com/c/tabular-playground-series-feb-2021/discussion/222745\n",
    "\n",
    "And winning solution from Jan\n",
    "\n",
    "https://www.kaggle.com/c/tabular-playground-series-jan-2021/discussion/216037"
   ]
  },
  {
   "cell_type": "markdown",
   "id": "korean-defense",
   "metadata": {
    "papermill": {
     "duration": 0.015498,
     "end_time": "2021-03-21T05:38:36.214704",
     "exception": false,
     "start_time": "2021-03-21T05:38:36.199206",
     "status": "completed"
    },
    "tags": []
   },
   "source": [
    "Some credit with regards to pytorch code is also due to this notebook below from MOA competition. I've modified the code quite a bit since then but the outline is probably still recognisable.\n",
    "\n",
    "https://www.kaggle.com/namanj27/new-baseline-pytorch-moa/notebook"
   ]
  },
  {
   "cell_type": "code",
   "execution_count": 3,
   "id": "verified-cooking",
   "metadata": {
    "papermill": {
     "duration": 0.023149,
     "end_time": "2021-03-21T05:38:36.253499",
     "exception": false,
     "start_time": "2021-03-21T05:38:36.230350",
     "status": "completed"
    },
    "tags": []
   },
   "outputs": [],
   "source": [
    "def seed_everything(seed=42):\n",
    "    print('Setting Random Seed')\n",
    "    random.seed(seed)\n",
    "    os.environ['PYTHONHASHSEED'] = str(seed)\n",
    "    np.random.seed(seed)\n",
    "    torch.manual_seed(seed)\n",
    "    torch.cuda.manual_seed(seed)\n",
    "    torch.backends.cudnn.deterministic = True"
   ]
  },
  {
   "cell_type": "markdown",
   "id": "quarterly-brighton",
   "metadata": {
    "papermill": {
     "duration": 0.016774,
     "end_time": "2021-03-21T05:38:36.286550",
     "exception": false,
     "start_time": "2021-03-21T05:38:36.269776",
     "status": "completed"
    },
    "tags": []
   },
   "source": [
    "# Config"
   ]
  },
  {
   "cell_type": "markdown",
   "id": "charming-header",
   "metadata": {
    "papermill": {
     "duration": 0.015587,
     "end_time": "2021-03-21T05:38:36.317914",
     "exception": false,
     "start_time": "2021-03-21T05:38:36.302327",
     "status": "completed"
    },
    "tags": []
   },
   "source": [
    "The weights used in this notebook are loaded from a run following the code in the DAE training notebook.\n",
    "\n",
    "https://www.kaggle.com/davidedwards1/tabularmarch21-dae-starter"
   ]
  },
  {
   "cell_type": "code",
   "execution_count": 36,
   "id": "disabled-swaziland",
   "metadata": {
    "papermill": {
     "duration": 0.025126,
     "end_time": "2021-03-21T05:38:36.358796",
     "exception": false,
     "start_time": "2021-03-21T05:38:36.333670",
     "status": "completed"
    },
    "tags": []
   },
   "outputs": [],
   "source": [
    "PATH = '..\\\\kaggle_data\\\\'\n",
    "SAVE_PATH = ''\n",
    "\n",
    "run_key = 'MLPMARTAB_00002'\n",
    "\n",
    "CFG = {'debug':False,\n",
    "       'debug_epochs':2,\n",
    "    'lr' : 0.00005,\n",
    "    'weight_decay':9.72918866945795E-06,\n",
    "    'epochs':10,\n",
    "    'device':'cpu',\n",
    "    'early_stopping_steps':4,\n",
    "    'early_stop':False,\n",
    "    'nfolds':5,       \n",
    "    'mlp_hidden_size':391,\n",
    "       'mlp_size_decline' : 1.0,\n",
    "    'mlp_batch_size':512,\n",
    "    'mlp_dropout':0.35,\n",
    "       'bce_smooth' : 0.001,\n",
    "    'target_dae' : 'N:\\\\kaggle_data\\\\march\\\\',\n",
    "'target_epoch' : 'model_checkpoint.pth',\n",
    "       'random_seeds':[0,42]\n",
    "    }\n",
    "\n",
    "if CFG['debug']:\n",
    "    CFG['epochs'] = CFG['debug_epochs']\n",
    "\n",
    "with open(SAVE_PATH+f\"{run_key}_CFG\", 'wb') as f:\n",
    "    pickle.dump(CFG, f)"
   ]
  },
  {
   "cell_type": "code",
   "execution_count": 22,
   "id": "entitled-batman",
   "metadata": {
    "papermill": {
     "duration": 0.026683,
     "end_time": "2021-03-21T05:38:36.401290",
     "exception": false,
     "start_time": "2021-03-21T05:38:36.374607",
     "status": "completed"
    },
    "tags": []
   },
   "outputs": [
    {
     "name": "stdout",
     "output_type": "stream",
     "text": [
      "Categorical Features ['cat0', 'cat1', 'cat2', 'cat3', 'cat4', 'cat5', 'cat6', 'cat7', 'cat8', 'cat9', 'cat10', 'cat11', 'cat12', 'cat13', 'cat14', 'cat15', 'cat16', 'cat17', 'cat18']\n",
      "Continuous Features ['cont0', 'cont1', 'cont2', 'cont3', 'cont4', 'cont5', 'cont6', 'cont7', 'cont8', 'cont9', 'cont10']\n",
      "Categorical Feature Count 19\n",
      "Continuous Feature Count 11\n"
     ]
    }
   ],
   "source": [
    "fts_categorical = ['cat0', 'cat1', 'cat2', 'cat3', 'cat4', 'cat5', 'cat6', 'cat7', 'cat8', 'cat9', 'cat10', \n",
    "                   'cat11', 'cat12', 'cat13', 'cat14', 'cat15', 'cat16', 'cat17', 'cat18']\n",
    "\n",
    "fts_continuous = ['cont0', 'cont1', 'cont2', 'cont3', 'cont4', 'cont5', 'cont6', 'cont7', 'cont8', 'cont9', 'cont10']\n",
    "\n",
    "#unique counts should be the count of train PLUS test\n",
    "unique_counts=[  2,  15,  19,  13,  20,  84,  16,  51,  61,  19, 307,   2,   2,\n",
    "         2,   2,   4,   4,   4,   4]\n",
    "\n",
    "print('Categorical Features', fts_categorical)\n",
    "print('Continuous Features', fts_continuous)\n",
    "\n",
    "print('Categorical Feature Count', len(fts_categorical))\n",
    "print('Continuous Feature Count', len(fts_continuous))"
   ]
  },
  {
   "cell_type": "code",
   "execution_count": 23,
   "id": "sufficient-extension",
   "metadata": {
    "papermill": {
     "duration": 0.025125,
     "end_time": "2021-03-21T05:38:36.443017",
     "exception": false,
     "start_time": "2021-03-21T05:38:36.417892",
     "status": "completed"
    },
    "tags": []
   },
   "outputs": [],
   "source": [
    "#this is just to control settings for the DAE hidden size etc, there is no further training of the DAE in this notebook\n",
    "\n",
    "DAE_CFG = {'batch_size' : 384,\n",
    "    'init_lr' : 3e-4,\n",
    "    'lr_decay' : .998,\n",
    "    'noise_decay' : 0.999,\n",
    "    'max_epochs' : 600,\n",
    "    'save_freq':50,\n",
    "    'hidden_size':1024,\n",
    "    'num_subspaces':8,\n",
    "    'embed_dim':128,\n",
    "    'num_heads':8,\n",
    "    'dropout':0,\n",
    "    'feedforward_dim':512,\n",
    "    'emphasis':.75,\n",
    "    'task_weights':[len(fts_categorical), len(fts_continuous)],\n",
    "    'mask_loss_weight':2,\n",
    "    'prob_categorical' : 0.5,\n",
    "    'prob_continuous' : 0.5,}\n",
    "\n",
    "\n",
    "model_params = dict(\n",
    "    hidden_size=DAE_CFG['hidden_size'],\n",
    "    num_subspaces=DAE_CFG['num_subspaces'],\n",
    "    embed_dim=DAE_CFG['embed_dim'],\n",
    "    num_heads=DAE_CFG['num_heads'],\n",
    "    dropout=DAE_CFG['dropout'],\n",
    "    feedforward_dim=DAE_CFG['feedforward_dim'],\n",
    "    emphasis=DAE_CFG['emphasis'],\n",
    "    mask_loss_weight=DAE_CFG['mask_loss_weight']\n",
    ")"
   ]
  },
  {
   "cell_type": "markdown",
   "id": "powered-jamaica",
   "metadata": {
    "papermill": {
     "duration": 0.01629,
     "end_time": "2021-03-21T05:38:36.475782",
     "exception": false,
     "start_time": "2021-03-21T05:38:36.459492",
     "status": "completed"
    },
    "tags": []
   },
   "source": [
    "# DAE Code"
   ]
  },
  {
   "cell_type": "code",
   "execution_count": 24,
   "id": "express-asbestos",
   "metadata": {
    "papermill": {
     "duration": 0.02899,
     "end_time": "2021-03-21T05:38:36.521251",
     "exception": false,
     "start_time": "2021-03-21T05:38:36.492261",
     "status": "completed"
    },
    "tags": []
   },
   "outputs": [],
   "source": [
    "from sklearn.preprocessing import OneHotEncoder\n",
    "from torch.utils.data import Dataset\n",
    "\n",
    "def get_data():\n",
    "    train_data = pd.read_csv(PATH+'train.csv')\n",
    "    test_data = pd.read_csv(PATH+'test.csv')\n",
    "    \n",
    "    #combine train and test data vertically\n",
    "    X_nums = np.vstack([\n",
    "        train_data.iloc[:, 20:-1].to_numpy(),\n",
    "        test_data.iloc[:, 20:].to_numpy()\n",
    "    ])\n",
    "    X_nums = (X_nums - X_nums.mean(0)) / X_nums.std(0) #normalize\n",
    "    \n",
    "    #stack the categorical data\n",
    "    X_cat = np.vstack([\n",
    "        train_data.iloc[:, 1:20].to_numpy(),\n",
    "        test_data.iloc[:, 1:20].to_numpy()\n",
    "    ])\n",
    "    #encode the categoricals\n",
    "    encoder = OneHotEncoder(sparse=False)\n",
    "    X_cat = encoder.fit_transform(X_cat)\n",
    "    \n",
    "    #join the categorical and continuous data horizontally\n",
    "    X = np.hstack([X_cat, X_nums])\n",
    "    y = train_data['target'].to_numpy().reshape(-1, 1)\n",
    "    return X, y, X_cat.shape[1], X_nums.shape[1] #this lets us know how many categorical and continuous features there are\n",
    "\n",
    "\n",
    "class SingleDataset(Dataset):\n",
    "    def __init__(self, x, is_sparse=False):\n",
    "        self.x = x.astype('float32')\n",
    "        self.is_sparse = is_sparse\n",
    "\n",
    "    def __len__(self):\n",
    "        return self.x.shape[0]\n",
    "\n",
    "    def __getitem__(self, index):\n",
    "        x = self.x[index]\n",
    "        if self.is_sparse: x = x.toarray().squeeze()\n",
    "        return x    "
   ]
  },
  {
   "cell_type": "code",
   "execution_count": 25,
   "id": "diagnostic-liberia",
   "metadata": {
    "papermill": {
     "duration": 0.040759,
     "end_time": "2021-03-21T05:38:36.578795",
     "exception": false,
     "start_time": "2021-03-21T05:38:36.538036",
     "status": "completed"
    },
    "tags": []
   },
   "outputs": [],
   "source": [
    "bce_logits = torch.nn.functional.binary_cross_entropy_with_logits\n",
    "mse = torch.nn.functional.mse_loss\n",
    "\n",
    "class TransformerEncoder(torch.nn.Module):\n",
    "    def __init__(self, embed_dim, num_heads, dropout, feedforward_dim):\n",
    "        super().__init__()\n",
    "        self.attn = torch.nn.MultiheadAttention(embed_dim, num_heads, dropout=dropout)\n",
    "        self.linear_1 = torch.nn.Linear(embed_dim, feedforward_dim)\n",
    "        self.linear_2 = torch.nn.Linear(feedforward_dim, embed_dim)\n",
    "        self.layernorm_1 = torch.nn.LayerNorm(embed_dim)\n",
    "        self.layernorm_2 = torch.nn.LayerNorm(embed_dim)\n",
    "    \n",
    "    def forward(self, x_in):\n",
    "        attn_out, _ = self.attn(x_in, x_in, x_in)\n",
    "        x = self.layernorm_1(x_in + attn_out)\n",
    "        ff_out = self.linear_2(torch.nn.functional.relu(self.linear_1(x)))\n",
    "        x = self.layernorm_2(x + ff_out)\n",
    "        return x\n",
    "\n",
    "\n",
    "class TransformerAutoEncoder(torch.nn.Module):\n",
    "    def __init__(\n",
    "            self, \n",
    "            num_inputs, \n",
    "            n_cats, \n",
    "            n_nums, \n",
    "            hidden_size=1024, \n",
    "            num_subspaces=8,\n",
    "            embed_dim=128, \n",
    "            num_heads=8, \n",
    "            dropout=0, \n",
    "            feedforward_dim=512, \n",
    "            emphasis=.75, \n",
    "            task_weights=[len(fts_categorical), len(fts_continuous)],\n",
    "            mask_loss_weight=2,\n",
    "        ):\n",
    "        super().__init__()\n",
    "        assert hidden_size == embed_dim * num_subspaces\n",
    "        self.n_cats = n_cats\n",
    "        self.n_nums = n_nums\n",
    "        self.num_subspaces = num_subspaces\n",
    "        self.num_heads = num_heads\n",
    "        self.embed_dim = embed_dim\n",
    "        self.emphasis = emphasis\n",
    "        self.task_weights = np.array(task_weights) / sum(task_weights)\n",
    "        self.mask_loss_weight = mask_loss_weight\n",
    "\n",
    "        self.excite = torch.nn.Linear(in_features=num_inputs, out_features=hidden_size)\n",
    "        self.encoder_1 = TransformerEncoder(embed_dim, num_heads, dropout, feedforward_dim)\n",
    "        self.encoder_2 = TransformerEncoder(embed_dim, num_heads, dropout, feedforward_dim)\n",
    "        self.encoder_3 = TransformerEncoder(embed_dim, num_heads, dropout, feedforward_dim)\n",
    "        \n",
    "        \n",
    "        self.mask_predictor = torch.nn.Linear(in_features=hidden_size, out_features=num_inputs)\n",
    "        self.reconstructor = torch.nn.Linear(in_features=hidden_size + num_inputs, out_features=num_inputs)\n",
    "\n",
    "    def divide(self, x):\n",
    "        batch_size = x.shape[0]\n",
    "        x = x.reshape((batch_size, self.num_subspaces, self.embed_dim)).permute((1, 0, 2))\n",
    "        return x\n",
    "\n",
    "    def combine(self, x):\n",
    "        batch_size = x.shape[1]\n",
    "        x = x.permute((1, 0, 2)).reshape((batch_size, -1))\n",
    "        return x\n",
    "\n",
    "    def forward(self, x):\n",
    "        x = torch.nn.functional.relu(self.excite(x))\n",
    "        \n",
    "        x = self.divide(x)\n",
    "        x1 = self.encoder_1(x)\n",
    "        x2 = self.encoder_2(x1)\n",
    "        x3 = self.encoder_3(x2)\n",
    "        x = self.combine(x3)\n",
    "        \n",
    "        predicted_mask = self.mask_predictor(x)\n",
    "        reconstruction = self.reconstructor(torch.cat([x, predicted_mask], dim=1))\n",
    "        return (x1, x2, x3), (reconstruction, predicted_mask)\n",
    "\n",
    "    def split(self, t):\n",
    "        return torch.split(t, [self.n_cats, self.n_nums], dim=1)\n",
    "\n",
    "    def feature(self, x):\n",
    "        attn_outs, _ = self.forward(x)\n",
    "        return torch.cat([self.combine(x) for x in attn_outs], dim=1)\n",
    "\n",
    "    def loss(self, x, y, mask, reduction='mean'):        \n",
    "        _, (reconstruction, predicted_mask) = self.forward(x)\n",
    "        \n",
    "        x_cats, x_nums = self.split(reconstruction)\n",
    "        y_cats, y_nums = self.split(y)\n",
    "        w_cats, w_nums = self.split(mask * self.emphasis + (1 - mask) * (1 - self.emphasis))\n",
    "        cat_loss = self.task_weights[0] * torch.mul(w_cats, bce_logits(x_cats, y_cats, reduction='none'))\n",
    "        num_loss = self.task_weights[1] * torch.mul(w_nums, mse(x_nums, y_nums, reduction='none'))\n",
    "        \n",
    "        reconstruction_loss = torch.cat([cat_loss, num_loss], dim=1) if reduction == 'none' else cat_loss.mean() + num_loss.mean()\n",
    "        \n",
    "        mask_loss = self.mask_loss_weight * bce_logits(predicted_mask, mask, reduction=reduction)\n",
    "\n",
    "        return reconstruction_loss + mask_loss if reduction == 'mean' else [reconstruction_loss, mask_loss]\n"
   ]
  },
  {
   "cell_type": "markdown",
   "id": "forced-mention",
   "metadata": {
    "papermill": {
     "duration": 0.017177,
     "end_time": "2021-03-21T05:38:36.612723",
     "exception": false,
     "start_time": "2021-03-21T05:38:36.595546",
     "status": "completed"
    },
    "tags": []
   },
   "source": [
    "# Smoothed BCE Loss"
   ]
  },
  {
   "cell_type": "markdown",
   "id": "muslim-purple",
   "metadata": {
    "papermill": {
     "duration": 0.016701,
     "end_time": "2021-03-21T05:38:36.646457",
     "exception": false,
     "start_time": "2021-03-21T05:38:36.629756",
     "status": "completed"
    },
    "tags": []
   },
   "source": [
    "Note: I don't observe a huge benefit from smoothing - maybe a small gain from a very small smoothing amount. Just used this to have the option. There are some good discussions / notebooks on label smoothing elsewhere on Kaggle if not familiar."
   ]
  },
  {
   "cell_type": "code",
   "execution_count": 26,
   "id": "defensive-endorsement",
   "metadata": {
    "papermill": {
     "duration": 0.027583,
     "end_time": "2021-03-21T05:38:36.690827",
     "exception": false,
     "start_time": "2021-03-21T05:38:36.663244",
     "status": "completed"
    },
    "tags": []
   },
   "outputs": [],
   "source": [
    "from torch.nn.modules.loss import _WeightedLoss\n",
    "\n",
    "class SmoothBCEwLogits(_WeightedLoss):\n",
    "    def __init__(self, weight=None, reduction='mean', smoothing=0.0):\n",
    "        super().__init__(weight=weight, reduction=reduction)\n",
    "        self.smoothing = smoothing\n",
    "        self.weight = weight\n",
    "        self.reduction = reduction\n",
    "\n",
    "    @staticmethod\n",
    "    def _smooth(targets:torch.Tensor, n_labels:int, smoothing=0.0):\n",
    "        assert 0 <= smoothing < 1\n",
    "        with torch.no_grad():\n",
    "            targets = targets * (1.0 - smoothing) + 0.5 * smoothing\n",
    "        return targets\n",
    "\n",
    "    def forward(self, inputs, targets):\n",
    "        targets = SmoothBCEwLogits._smooth(targets, inputs.size(-1),\n",
    "            self.smoothing)        \n",
    "        \n",
    "        loss = F.binary_cross_entropy_with_logits(inputs, targets,self.weight)\n",
    "\n",
    "        if  self.reduction == 'sum':\n",
    "            loss = loss.sum()\n",
    "        elif  self.reduction == 'mean':\n",
    "            loss = loss.mean()\n",
    "\n",
    "        return loss"
   ]
  },
  {
   "cell_type": "markdown",
   "id": "humanitarian-employment",
   "metadata": {
    "papermill": {
     "duration": 0.017472,
     "end_time": "2021-03-21T05:38:36.725283",
     "exception": false,
     "start_time": "2021-03-21T05:38:36.707811",
     "status": "completed"
    },
    "tags": []
   },
   "source": [
    "# Define MLP and Training Cycle"
   ]
  },
  {
   "cell_type": "code",
   "execution_count": 27,
   "id": "employed-auction",
   "metadata": {
    "papermill": {
     "duration": 0.057437,
     "end_time": "2021-03-21T05:38:36.799739",
     "exception": false,
     "start_time": "2021-03-21T05:38:36.742302",
     "status": "completed"
    },
    "tags": []
   },
   "outputs": [],
   "source": [
    "class FeatureDataset:\n",
    "    def __init__(self, features, targets):\n",
    "        self.features = features\n",
    "        self.targets = targets\n",
    "        \n",
    "    def __len__(self):\n",
    "        return (self.features.shape[0])\n",
    "    \n",
    "    def __getitem__(self, idx):\n",
    "        dct = {\n",
    "            'x' : torch.tensor(self.features[idx, :], dtype=torch.float),\n",
    "            'y' : torch.tensor(self.targets[idx], dtype=torch.float)            \n",
    "        }\n",
    "        return dct    \n",
    "    \n",
    "class TestFeatureDataset:\n",
    "    def __init__(self, features):\n",
    "        self.features = features\n",
    "        \n",
    "    def __len__(self):\n",
    "        return (self.features.shape[0])\n",
    "    \n",
    "    def __getitem__(self, idx):\n",
    "        dct = {\n",
    "            'x' : torch.tensor(self.features[idx, :], dtype=torch.float),   \n",
    "        }\n",
    "        return dct\n",
    "\n",
    "class Model(nn.Module):\n",
    "    def __init__(self, num_features=3000, num_targets=1, hidden_size=1000):\n",
    "        super(Model, self).__init__()\n",
    "        self.batch_norm1 = nn.BatchNorm1d(num_features)\n",
    "        self.dropout1 = nn.Dropout(CFG['mlp_dropout'])\n",
    "        self.dense1 = nn.utils.weight_norm(nn.Linear(num_features, hidden_size))\n",
    "        \n",
    "        self.batch_norm2 = nn.BatchNorm1d(hidden_size)\n",
    "        self.dropout2 = nn.Dropout(CFG['mlp_dropout'])\n",
    "        self.dense2 = nn.utils.weight_norm(nn.Linear(hidden_size, int(hidden_size*CFG['mlp_size_decline'])))\n",
    "        \n",
    "        self.batch_norm3 = nn.BatchNorm1d(int(hidden_size*CFG['mlp_size_decline']))\n",
    "        self.dropout3 = nn.Dropout(CFG['mlp_dropout'])\n",
    "        self.dense3 = nn.utils.weight_norm(nn.Linear(int(hidden_size*CFG['mlp_size_decline']), num_targets))\n",
    "    \n",
    "    def forward(self, x):\n",
    "        x = self.batch_norm1(x)\n",
    "        x = self.dropout1(x)\n",
    "        x = F.relu(self.dense1(x))\n",
    "        \n",
    "        x = self.batch_norm2(x)\n",
    "        x = self.dropout2(x)\n",
    "        x = F.relu(self.dense2(x))\n",
    "        \n",
    "        x = self.batch_norm3(x)\n",
    "        x = self.dropout3(x)\n",
    "        x = self.dense3(x)\n",
    "        \n",
    "        return x\n",
    "    \n",
    "def train_fn(model, optimizer, scheduler, loss_fn, dataloader, device=CFG['device']):\n",
    "    model.train()\n",
    "    final_loss = 0    \n",
    "    for data in dataloader:\n",
    "        optimizer.zero_grad()\n",
    "        inputs, targets = data['x'].to(device), data['y'].to(device)\n",
    "        outputs = model(inputs)\n",
    "        loss = loss_fn(outputs, targets)\n",
    "        loss.backward()\n",
    "        \n",
    "        optimizer.step()\n",
    "        scheduler.step()        \n",
    "        final_loss += loss.item()        \n",
    "    final_loss /= len(dataloader)    \n",
    "    return final_loss\n",
    "\n",
    "def valid_fn(model, loss_fn, dataloader, device=CFG['device']):\n",
    "    model.eval()\n",
    "    final_loss = 0\n",
    "    valid_preds = []    \n",
    "    for data in dataloader:\n",
    "        inputs, targets = data['x'].to(device), data['y'].to(device)\n",
    "        outputs = model(inputs)\n",
    "        loss = loss_fn(outputs, targets)        \n",
    "        final_loss += loss.item()\n",
    "        valid_preds.append(outputs.sigmoid().detach().cpu().numpy())        \n",
    "    final_loss /= len(dataloader)\n",
    "    valid_preds = np.concatenate(valid_preds)    \n",
    "    return final_loss, valid_preds\n",
    "\n",
    "def inference_fn(model, dataloader, device=CFG['device']):\n",
    "    model.eval()\n",
    "    preds = []\n",
    "    for data in dataloader:\n",
    "        inputs = data['x'].to(device)\n",
    "        with torch.no_grad():\n",
    "            outputs = model(inputs)\n",
    "        #this predicts by BATCH requiring listing and concatenation\n",
    "        preds.append(outputs.sigmoid().detach().cpu().numpy())\n",
    "    \n",
    "    #then we need to concatenate the list of batches\n",
    "    preds = np.concatenate(preds).reshape(-1,)  \n",
    "    return preds\n",
    "\n",
    "def run_training(X, y, test_df,folds, seed=42,batch_size=256, model_name='model',\n",
    "               num_features=3000,\n",
    "            num_targets=1,\n",
    "            hidden_size=1000,\n",
    "                device=CFG['device']):  \n",
    "\n",
    "\n",
    "    training_history = pd.DataFrame(index=range(CFG['epochs']),\n",
    "                                    data=0.0,\n",
    "                                    columns=[f'val_{x}' for x in range(CFG['nfolds'])]+[f'trn_{x}' for x in range(CFG['nfolds'])])\n",
    "    \n",
    "    seed_everything(seed)    \n",
    "    \n",
    "    #placeholder - out of fold predictions\n",
    "    oof = np.zeros((len(X), ))\n",
    "    \n",
    "    #placeholder - test predictions\n",
    "    predictions = np.zeros((len(test_df), ))\n",
    "    \n",
    "    #placeholder - training/validation graph\n",
    "    fig,axes=plt.subplots(figsize=(18,6))\n",
    "    axes.set_title(f'Training and Validation Losses for Random Seed {seed}')\n",
    "    tr_leg = mpatches.Patch(color='Blue', label=\"Training Losses\" )\n",
    "    val_leg = mpatches.Patch(color='Red', label=\"Validation Losses\" )\n",
    "    axes.legend(handles=[tr_leg,val_leg],facecolor='White')\n",
    "    \n",
    "    #fold losses list\n",
    "    fold_losses = []\n",
    "    \n",
    "    for fold in sorted(np.unique(folds,return_counts=False)): \n",
    "        train_idx=folds[:300000]!=fold\n",
    "        valid_idx=folds[:300000]==fold\n",
    "            \n",
    "        print('     ')\n",
    "        print(f'training for fold {fold}')\n",
    "        #create the data set\n",
    "        train_dataset = FeatureDataset(X[train_idx], y[train_idx])\n",
    "        valid_dataset = FeatureDataset(X[valid_idx], y[valid_idx])\n",
    "\n",
    "        #apply to the data loader\n",
    "        trainloader = torch.utils.data.DataLoader(train_dataset, batch_size=batch_size, shuffle=True)\n",
    "        validloader = torch.utils.data.DataLoader(valid_dataset, batch_size=batch_size, shuffle=False)\n",
    "\n",
    "        #create the model itself\n",
    "        model = Model(\n",
    "            num_features=num_features,\n",
    "            num_targets=num_targets,\n",
    "            hidden_size=hidden_size,\n",
    "        )\n",
    "\n",
    "        #send to device and set up the loss and optimizer\n",
    "        model.to(device)\n",
    "\n",
    "        optimizer = torch.optim.Adam(model.parameters(), lr=CFG['lr'], weight_decay=CFG['weight_decay'])\n",
    "        scheduler = optim.lr_scheduler.OneCycleLR(optimizer=optimizer, pct_start=0.1, div_factor=1e3, \n",
    "                                                  max_lr=1e-2, epochs=CFG['epochs'], steps_per_epoch=len(trainloader))\n",
    "\n",
    "        loss_fn = nn.BCEWithLogitsLoss()\n",
    "        loss_tr = SmoothBCEwLogits(smoothing =CFG['bce_smooth'])\n",
    "\n",
    "        early_stopping_steps = CFG['early_stopping_steps']\n",
    "        best_loss = np.inf\n",
    "\n",
    "        train_loss_list = []\n",
    "        valid_loss_list = []\n",
    "\n",
    "        for epoch in range(CFG['epochs']):\n",
    "            #the below updates the model and loss\n",
    "            train_loss = train_fn(model, optimizer,scheduler, loss_tr, trainloader, device)            \n",
    "            train_loss_list+=[train_loss]\n",
    "            \n",
    "            #the below returns the validation predictions for the fold for each epoch\n",
    "            valid_loss, valid_preds = valid_fn(model, loss_fn, validloader, device)\n",
    "            valid_loss_list+=[valid_loss]            \n",
    "            \n",
    "            print(f\"SEED: {seed}, FOLD: {fold}, EPOCH: {epoch}, train_loss: {train_loss}, valid_loss: {valid_loss}\")\n",
    "            \n",
    "            if valid_loss < best_loss:\n",
    "                #continue training if improving\n",
    "                best_loss = valid_loss\n",
    "                oof[valid_idx] = valid_preds.reshape(-1,)\n",
    "                torch.save(model.state_dict(), f\"MODEL_{model_name}_FOLD_{fold}SEED{seed}_.pth\")\n",
    "\n",
    "            elif(CFG['early_stop']):\n",
    "                #stop training if not improving\n",
    "                early_step += 1\n",
    "                if (early_step >= early_stopping_steps):\n",
    "                    break\n",
    "\n",
    "        training_history[f'val_{fold}'] = valid_loss_list\n",
    "        training_history[f'trn_{fold}'] = train_loss_list                    \n",
    "                    \n",
    "        fold_losses += [valid_loss_list[-1]]\n",
    "                    \n",
    "        del trainloader, validloader, train_dataset, valid_dataset\n",
    "        gc.collect()\n",
    "\n",
    "        sns.lineplot(x=range(CFG['epochs']), y=pd.Series(train_loss_list), color='Blue', ax=axes)\n",
    "        sns.lineplot(x=range(CFG['epochs']), y=pd.Series(valid_loss_list), color='Red', ax=axes)\n",
    "        \n",
    "        #--------------------- PREDICTION---------------------\n",
    "        #predict test data for fold\n",
    "        testdataset = TestFeatureDataset(test_df)\n",
    "        testloader = torch.utils.data.DataLoader(testdataset, batch_size=batch_size, shuffle=False)\n",
    "\n",
    "        #we create the model and then we input the latest weights\n",
    "        model = Model(\n",
    "            num_features=num_features,\n",
    "            num_targets=num_targets,\n",
    "            hidden_size=hidden_size,\n",
    "        )\n",
    "\n",
    "        model.load_state_dict(torch.load(f\"MODEL_{model_name}_FOLD_{fold}SEED{seed}_.pth\"))\n",
    "        model.to(device)\n",
    "\n",
    "        #predictions need to be added for the fold\n",
    "        predictions += inference_fn(model, testloader, device)            \n",
    "    \n",
    "    print('finished with fold losses', fold_losses)\n",
    "    \n",
    "    predictions/=CFG['nfolds']\n",
    "\n",
    "    training_history.to_csv(SAVE_PATH+f'mlp_{run_key}_seed_{seed}_training_history.csv', index=False)\n",
    "\n",
    "    return oof, predictions"
   ]
  },
  {
   "cell_type": "markdown",
   "id": "nuclear-blend",
   "metadata": {
    "papermill": {
     "duration": 0.016888,
     "end_time": "2021-03-21T05:38:36.833841",
     "exception": false,
     "start_time": "2021-03-21T05:38:36.816953",
     "status": "completed"
    },
    "tags": []
   },
   "source": [
    "# Load DAE Weights from Stack Training"
   ]
  },
  {
   "cell_type": "code",
   "execution_count": 28,
   "id": "distant-ultimate",
   "metadata": {
    "papermill": {
     "duration": 16.513577,
     "end_time": "2021-03-21T05:38:53.364750",
     "exception": false,
     "start_time": "2021-03-21T05:38:36.851173",
     "status": "completed"
    },
    "tags": []
   },
   "outputs": [
    {
     "ename": "FileNotFoundError",
     "evalue": "[Errno 2] No such file or directory: 'N:\\\\kaggle_data\\\\march\\\\model_checkpoint.pth'",
     "output_type": "error",
     "traceback": [
      "\u001b[1;31m---------------------------------------------------------------------------\u001b[0m",
      "\u001b[1;31mFileNotFoundError\u001b[0m                         Traceback (most recent call last)",
      "\u001b[1;32m<ipython-input-28-4ca5248f5942>\u001b[0m in \u001b[0;36m<module>\u001b[1;34m\u001b[0m\n\u001b[0;32m     21\u001b[0m )\n\u001b[0;32m     22\u001b[0m \u001b[1;33m\u001b[0m\u001b[0m\n\u001b[1;32m---> 23\u001b[1;33m \u001b[0mmodel_state\u001b[0m \u001b[1;33m=\u001b[0m \u001b[0mtorch\u001b[0m\u001b[1;33m.\u001b[0m\u001b[0mload\u001b[0m\u001b[1;33m(\u001b[0m\u001b[0mCFG\u001b[0m\u001b[1;33m[\u001b[0m\u001b[1;34m'target_dae'\u001b[0m\u001b[1;33m]\u001b[0m\u001b[1;33m+\u001b[0m\u001b[0mCFG\u001b[0m\u001b[1;33m[\u001b[0m\u001b[1;34m'target_epoch'\u001b[0m\u001b[1;33m]\u001b[0m\u001b[1;33m)\u001b[0m\u001b[1;33m\u001b[0m\u001b[1;33m\u001b[0m\u001b[0m\n\u001b[0m\u001b[0;32m     24\u001b[0m \u001b[0mmodel\u001b[0m\u001b[1;33m.\u001b[0m\u001b[0mload_state_dict\u001b[0m\u001b[1;33m(\u001b[0m\u001b[0mmodel_state\u001b[0m\u001b[1;33m[\u001b[0m\u001b[1;34m'model'\u001b[0m\u001b[1;33m]\u001b[0m\u001b[1;33m)\u001b[0m\u001b[1;33m\u001b[0m\u001b[1;33m\u001b[0m\u001b[0m\n\u001b[0;32m     25\u001b[0m \u001b[1;33m\u001b[0m\u001b[0m\n",
      "\u001b[1;32mc:\\users\\ryans\\source\\repos\\venvs\\python375\\lib\\site-packages\\torch\\serialization.py\u001b[0m in \u001b[0;36mload\u001b[1;34m(f, map_location, pickle_module, **pickle_load_args)\u001b[0m\n\u001b[0;32m    577\u001b[0m         \u001b[0mpickle_load_args\u001b[0m\u001b[1;33m[\u001b[0m\u001b[1;34m'encoding'\u001b[0m\u001b[1;33m]\u001b[0m \u001b[1;33m=\u001b[0m \u001b[1;34m'utf-8'\u001b[0m\u001b[1;33m\u001b[0m\u001b[1;33m\u001b[0m\u001b[0m\n\u001b[0;32m    578\u001b[0m \u001b[1;33m\u001b[0m\u001b[0m\n\u001b[1;32m--> 579\u001b[1;33m     \u001b[1;32mwith\u001b[0m \u001b[0m_open_file_like\u001b[0m\u001b[1;33m(\u001b[0m\u001b[0mf\u001b[0m\u001b[1;33m,\u001b[0m \u001b[1;34m'rb'\u001b[0m\u001b[1;33m)\u001b[0m \u001b[1;32mas\u001b[0m \u001b[0mopened_file\u001b[0m\u001b[1;33m:\u001b[0m\u001b[1;33m\u001b[0m\u001b[1;33m\u001b[0m\u001b[0m\n\u001b[0m\u001b[0;32m    580\u001b[0m         \u001b[1;32mif\u001b[0m \u001b[0m_is_zipfile\u001b[0m\u001b[1;33m(\u001b[0m\u001b[0mopened_file\u001b[0m\u001b[1;33m)\u001b[0m\u001b[1;33m:\u001b[0m\u001b[1;33m\u001b[0m\u001b[1;33m\u001b[0m\u001b[0m\n\u001b[0;32m    581\u001b[0m             \u001b[1;31m# The zipfile reader is going to advance the current file position.\u001b[0m\u001b[1;33m\u001b[0m\u001b[1;33m\u001b[0m\u001b[1;33m\u001b[0m\u001b[0m\n",
      "\u001b[1;32mc:\\users\\ryans\\source\\repos\\venvs\\python375\\lib\\site-packages\\torch\\serialization.py\u001b[0m in \u001b[0;36m_open_file_like\u001b[1;34m(name_or_buffer, mode)\u001b[0m\n\u001b[0;32m    228\u001b[0m \u001b[1;32mdef\u001b[0m \u001b[0m_open_file_like\u001b[0m\u001b[1;33m(\u001b[0m\u001b[0mname_or_buffer\u001b[0m\u001b[1;33m,\u001b[0m \u001b[0mmode\u001b[0m\u001b[1;33m)\u001b[0m\u001b[1;33m:\u001b[0m\u001b[1;33m\u001b[0m\u001b[1;33m\u001b[0m\u001b[0m\n\u001b[0;32m    229\u001b[0m     \u001b[1;32mif\u001b[0m \u001b[0m_is_path\u001b[0m\u001b[1;33m(\u001b[0m\u001b[0mname_or_buffer\u001b[0m\u001b[1;33m)\u001b[0m\u001b[1;33m:\u001b[0m\u001b[1;33m\u001b[0m\u001b[1;33m\u001b[0m\u001b[0m\n\u001b[1;32m--> 230\u001b[1;33m         \u001b[1;32mreturn\u001b[0m \u001b[0m_open_file\u001b[0m\u001b[1;33m(\u001b[0m\u001b[0mname_or_buffer\u001b[0m\u001b[1;33m,\u001b[0m \u001b[0mmode\u001b[0m\u001b[1;33m)\u001b[0m\u001b[1;33m\u001b[0m\u001b[1;33m\u001b[0m\u001b[0m\n\u001b[0m\u001b[0;32m    231\u001b[0m     \u001b[1;32melse\u001b[0m\u001b[1;33m:\u001b[0m\u001b[1;33m\u001b[0m\u001b[1;33m\u001b[0m\u001b[0m\n\u001b[0;32m    232\u001b[0m         \u001b[1;32mif\u001b[0m \u001b[1;34m'w'\u001b[0m \u001b[1;32min\u001b[0m \u001b[0mmode\u001b[0m\u001b[1;33m:\u001b[0m\u001b[1;33m\u001b[0m\u001b[1;33m\u001b[0m\u001b[0m\n",
      "\u001b[1;32mc:\\users\\ryans\\source\\repos\\venvs\\python375\\lib\\site-packages\\torch\\serialization.py\u001b[0m in \u001b[0;36m__init__\u001b[1;34m(self, name, mode)\u001b[0m\n\u001b[0;32m    209\u001b[0m \u001b[1;32mclass\u001b[0m \u001b[0m_open_file\u001b[0m\u001b[1;33m(\u001b[0m\u001b[0m_opener\u001b[0m\u001b[1;33m)\u001b[0m\u001b[1;33m:\u001b[0m\u001b[1;33m\u001b[0m\u001b[1;33m\u001b[0m\u001b[0m\n\u001b[0;32m    210\u001b[0m     \u001b[1;32mdef\u001b[0m \u001b[0m__init__\u001b[0m\u001b[1;33m(\u001b[0m\u001b[0mself\u001b[0m\u001b[1;33m,\u001b[0m \u001b[0mname\u001b[0m\u001b[1;33m,\u001b[0m \u001b[0mmode\u001b[0m\u001b[1;33m)\u001b[0m\u001b[1;33m:\u001b[0m\u001b[1;33m\u001b[0m\u001b[1;33m\u001b[0m\u001b[0m\n\u001b[1;32m--> 211\u001b[1;33m         \u001b[0msuper\u001b[0m\u001b[1;33m(\u001b[0m\u001b[0m_open_file\u001b[0m\u001b[1;33m,\u001b[0m \u001b[0mself\u001b[0m\u001b[1;33m)\u001b[0m\u001b[1;33m.\u001b[0m\u001b[0m__init__\u001b[0m\u001b[1;33m(\u001b[0m\u001b[0mopen\u001b[0m\u001b[1;33m(\u001b[0m\u001b[0mname\u001b[0m\u001b[1;33m,\u001b[0m \u001b[0mmode\u001b[0m\u001b[1;33m)\u001b[0m\u001b[1;33m)\u001b[0m\u001b[1;33m\u001b[0m\u001b[1;33m\u001b[0m\u001b[0m\n\u001b[0m\u001b[0;32m    212\u001b[0m \u001b[1;33m\u001b[0m\u001b[0m\n\u001b[0;32m    213\u001b[0m     \u001b[1;32mdef\u001b[0m \u001b[0m__exit__\u001b[0m\u001b[1;33m(\u001b[0m\u001b[0mself\u001b[0m\u001b[1;33m,\u001b[0m \u001b[1;33m*\u001b[0m\u001b[0margs\u001b[0m\u001b[1;33m)\u001b[0m\u001b[1;33m:\u001b[0m\u001b[1;33m\u001b[0m\u001b[1;33m\u001b[0m\u001b[0m\n",
      "\u001b[1;31mFileNotFoundError\u001b[0m: [Errno 2] No such file or directory: 'N:\\\\kaggle_data\\\\march\\\\model_checkpoint.pth'"
     ]
    }
   ],
   "source": [
    "#  get data\n",
    "X, Y, n_cats, n_nums = get_data()\n",
    "\n",
    "model_params = dict(\n",
    "    hidden_size=DAE_CFG['hidden_size'],\n",
    "    num_subspaces=DAE_CFG['num_subspaces'],\n",
    "    embed_dim=DAE_CFG['embed_dim'],\n",
    "    num_heads=DAE_CFG['num_heads'],\n",
    "    dropout=DAE_CFG['dropout'],\n",
    "    feedforward_dim=DAE_CFG['feedforward_dim'],\n",
    "    emphasis=DAE_CFG['emphasis'],\n",
    "    mask_loss_weight=DAE_CFG['mask_loss_weight']\n",
    ")\n",
    "\n",
    "# setup model\n",
    "model = TransformerAutoEncoder(\n",
    "    num_inputs=X.shape[1],\n",
    "    n_cats=n_cats,\n",
    "    n_nums=n_nums,\n",
    "    **model_params\n",
    ")\n",
    "\n",
    "model_state = torch.load(CFG['target_dae']+CFG['target_epoch'])\n",
    "model.load_state_dict(model_state['model'])\n",
    "\n",
    "print(model)\n",
    "optimizer = torch.optim.Adam(model.parameters(), lr=DAE_CFG['init_lr'])\n",
    "scheduler = torch.optim.lr_scheduler.ExponentialLR(optimizer, gamma=DAE_CFG['lr_decay'])"
   ]
  },
  {
   "cell_type": "markdown",
   "id": "lesbian-stage",
   "metadata": {
    "papermill": {
     "duration": 0.017358,
     "end_time": "2021-03-21T05:38:53.400620",
     "exception": false,
     "start_time": "2021-03-21T05:38:53.383262",
     "status": "completed"
    },
    "tags": []
   },
   "source": [
    "# Create Folds for CV"
   ]
  },
  {
   "cell_type": "code",
   "execution_count": 29,
   "id": "posted-european",
   "metadata": {
    "papermill": {
     "duration": 0.090379,
     "end_time": "2021-03-21T05:38:53.508470",
     "exception": false,
     "start_time": "2021-03-21T05:38:53.418091",
     "status": "completed"
    },
    "tags": []
   },
   "outputs": [
    {
     "name": "stdout",
     "output_type": "stream",
     "text": [
      "Using Simple Target Stratified KFold\n"
     ]
    },
    {
     "data": {
      "text/plain": [
       "[0, 1, 2, 3, 4]"
      ]
     },
     "execution_count": 29,
     "metadata": {},
     "output_type": "execute_result"
    }
   ],
   "source": [
    "print('Using Simple Target Stratified KFold')\n",
    "\n",
    "skf = StratifiedKFold(n_splits=CFG['nfolds'], random_state=42,\n",
    "                          shuffle=True)\n",
    "\n",
    "folds=np.zeros((len(X),)).astype(np.int32)\n",
    "\n",
    "for fold, (trn_idx, val_idx) in enumerate(skf.split(X[:300000], Y)):\n",
    "    folds[val_idx] = fold\n",
    "\n",
    "fold_values = sorted(np.unique(folds,return_counts=False))\n",
    "fold_values"
   ]
  },
  {
   "cell_type": "markdown",
   "id": "valid-supplement",
   "metadata": {
    "papermill": {
     "duration": 0.018171,
     "end_time": "2021-03-21T05:38:53.544835",
     "exception": false,
     "start_time": "2021-03-21T05:38:53.526664",
     "status": "completed"
    },
    "tags": []
   },
   "source": [
    "# Create Features from DAE"
   ]
  },
  {
   "cell_type": "code",
   "execution_count": 32,
   "id": "twenty-preliminary",
   "metadata": {
    "papermill": {
     "duration": 10.185798,
     "end_time": "2021-03-21T05:39:03.748734",
     "exception": false,
     "start_time": "2021-03-21T05:38:53.562936",
     "status": "completed"
    },
    "tags": []
   },
   "outputs": [
    {
     "name": "stdout",
     "output_type": "stream",
     "text": [
      "Creating Train Features\n",
      "(300000, 3072)\n"
     ]
    }
   ],
   "source": [
    "# extract features\n",
    "print('Creating Train Features')\n",
    "dl = DataLoader(dataset=SingleDataset(X[0:300000]), batch_size=1024, shuffle=False, pin_memory=False, drop_last=False)\n",
    "features = []\n",
    "model.eval()\n",
    "with torch.no_grad():\n",
    "    for x in dl:\n",
    "        features.append(model.feature(x).detach().cpu().numpy().astype(np.float16)) #using float16 to save on RAM\n",
    "features = np.vstack(features)\n",
    "gc.collect()\n",
    "print(features.shape)"
   ]
  },
  {
   "cell_type": "code",
   "execution_count": 33,
   "id": "capital-sociology",
   "metadata": {
    "papermill": {
     "duration": 6.209071,
     "end_time": "2021-03-21T05:39:09.976882",
     "exception": false,
     "start_time": "2021-03-21T05:39:03.767811",
     "status": "completed"
    },
    "tags": []
   },
   "outputs": [
    {
     "name": "stdout",
     "output_type": "stream",
     "text": [
      "Creating Test Features\n",
      "(200000, 3072)\n"
     ]
    }
   ],
   "source": [
    "# extract features\n",
    "print('Creating Test Features')\n",
    "dl = DataLoader(dataset=SingleDataset(X[300000:]), batch_size=1024, shuffle=False, pin_memory=False, drop_last=False)\n",
    "test_features = []\n",
    "model.eval()\n",
    "with torch.no_grad():\n",
    "    for x in dl:\n",
    "        test_features.append(model.feature(x).detach().cpu().numpy().astype(np.float16))\n",
    "test_features = np.vstack(test_features)\n",
    "gc.collect()\n",
    "print(test_features.shape)"
   ]
  },
  {
   "cell_type": "code",
   "execution_count": 34,
   "id": "bulgarian-incentive",
   "metadata": {
    "papermill": {
     "duration": 0.113926,
     "end_time": "2021-03-21T05:39:10.110783",
     "exception": false,
     "start_time": "2021-03-21T05:39:09.996857",
     "status": "completed"
    },
    "tags": []
   },
   "outputs": [
    {
     "data": {
      "text/plain": [
       "23"
      ]
     },
     "execution_count": 34,
     "metadata": {},
     "output_type": "execute_result"
    }
   ],
   "source": [
    "del dl\n",
    "gc.collect()"
   ]
  },
  {
   "cell_type": "markdown",
   "id": "involved-decade",
   "metadata": {
    "papermill": {
     "duration": 0.019575,
     "end_time": "2021-03-21T05:39:10.150469",
     "exception": false,
     "start_time": "2021-03-21T05:39:10.130894",
     "status": "completed"
    },
    "tags": []
   },
   "source": [
    "# Run CV and Inference, output out of fold predictions and test predictions"
   ]
  },
  {
   "cell_type": "code",
   "execution_count": 37,
   "id": "severe-possible",
   "metadata": {
    "papermill": {
     "duration": 1152.433757,
     "end_time": "2021-03-21T05:58:22.603840",
     "exception": false,
     "start_time": "2021-03-21T05:39:10.170083",
     "status": "completed"
    },
    "tags": []
   },
   "outputs": [
    {
     "name": "stdout",
     "output_type": "stream",
     "text": [
      "Setting Random Seed\n",
      "     \n",
      "training for fold 0\n"
     ]
    },
    {
     "ename": "AssertionError",
     "evalue": "Torch not compiled with CUDA enabled",
     "output_type": "error",
     "traceback": [
      "\u001b[1;31m---------------------------------------------------------------------------\u001b[0m",
      "\u001b[1;31mAssertionError\u001b[0m                            Traceback (most recent call last)",
      "\u001b[1;32m<ipython-input-37-5186a0b36227>\u001b[0m in \u001b[0;36m<module>\u001b[1;34m\u001b[0m\n\u001b[0;32m     13\u001b[0m                                 \u001b[0mnum_features\u001b[0m\u001b[1;33m=\u001b[0m\u001b[0mtest_features\u001b[0m\u001b[1;33m.\u001b[0m\u001b[0mshape\u001b[0m\u001b[1;33m[\u001b[0m\u001b[1;36m1\u001b[0m\u001b[1;33m]\u001b[0m\u001b[1;33m,\u001b[0m\u001b[1;33m\u001b[0m\u001b[1;33m\u001b[0m\u001b[0m\n\u001b[0;32m     14\u001b[0m                                 \u001b[0mnum_targets\u001b[0m\u001b[1;33m=\u001b[0m\u001b[1;36m1\u001b[0m\u001b[1;33m,\u001b[0m\u001b[1;33m\u001b[0m\u001b[1;33m\u001b[0m\u001b[0m\n\u001b[1;32m---> 15\u001b[1;33m                                 hidden_size=CFG['mlp_hidden_size'])\n\u001b[0m\u001b[0;32m     16\u001b[0m \u001b[1;33m\u001b[0m\u001b[0m\n\u001b[0;32m     17\u001b[0m     \u001b[0moof\u001b[0m\u001b[1;33m+=\u001b[0m\u001b[0moof_\u001b[0m\u001b[1;33m\u001b[0m\u001b[1;33m\u001b[0m\u001b[0m\n",
      "\u001b[1;32m<ipython-input-27-f48967fbe9c8>\u001b[0m in \u001b[0;36mrun_training\u001b[1;34m(X, y, test_df, folds, seed, batch_size, model_name, num_features, num_targets, hidden_size, device)\u001b[0m\n\u001b[0;32m    152\u001b[0m \u001b[1;33m\u001b[0m\u001b[0m\n\u001b[0;32m    153\u001b[0m         \u001b[1;31m#send to device and set up the loss and optimizer\u001b[0m\u001b[1;33m\u001b[0m\u001b[1;33m\u001b[0m\u001b[1;33m\u001b[0m\u001b[0m\n\u001b[1;32m--> 154\u001b[1;33m         \u001b[0mmodel\u001b[0m\u001b[1;33m.\u001b[0m\u001b[0mto\u001b[0m\u001b[1;33m(\u001b[0m\u001b[0mdevice\u001b[0m\u001b[1;33m)\u001b[0m\u001b[1;33m\u001b[0m\u001b[1;33m\u001b[0m\u001b[0m\n\u001b[0m\u001b[0;32m    155\u001b[0m \u001b[1;33m\u001b[0m\u001b[0m\n\u001b[0;32m    156\u001b[0m         \u001b[0moptimizer\u001b[0m \u001b[1;33m=\u001b[0m \u001b[0mtorch\u001b[0m\u001b[1;33m.\u001b[0m\u001b[0moptim\u001b[0m\u001b[1;33m.\u001b[0m\u001b[0mAdam\u001b[0m\u001b[1;33m(\u001b[0m\u001b[0mmodel\u001b[0m\u001b[1;33m.\u001b[0m\u001b[0mparameters\u001b[0m\u001b[1;33m(\u001b[0m\u001b[1;33m)\u001b[0m\u001b[1;33m,\u001b[0m \u001b[0mlr\u001b[0m\u001b[1;33m=\u001b[0m\u001b[0mCFG\u001b[0m\u001b[1;33m[\u001b[0m\u001b[1;34m'lr'\u001b[0m\u001b[1;33m]\u001b[0m\u001b[1;33m,\u001b[0m \u001b[0mweight_decay\u001b[0m\u001b[1;33m=\u001b[0m\u001b[0mCFG\u001b[0m\u001b[1;33m[\u001b[0m\u001b[1;34m'weight_decay'\u001b[0m\u001b[1;33m]\u001b[0m\u001b[1;33m)\u001b[0m\u001b[1;33m\u001b[0m\u001b[1;33m\u001b[0m\u001b[0m\n",
      "\u001b[1;32mc:\\users\\ryans\\source\\repos\\venvs\\python375\\lib\\site-packages\\torch\\nn\\modules\\module.py\u001b[0m in \u001b[0;36mto\u001b[1;34m(self, *args, **kwargs)\u001b[0m\n\u001b[0;32m    671\u001b[0m             \u001b[1;32mreturn\u001b[0m \u001b[0mt\u001b[0m\u001b[1;33m.\u001b[0m\u001b[0mto\u001b[0m\u001b[1;33m(\u001b[0m\u001b[0mdevice\u001b[0m\u001b[1;33m,\u001b[0m \u001b[0mdtype\u001b[0m \u001b[1;32mif\u001b[0m \u001b[0mt\u001b[0m\u001b[1;33m.\u001b[0m\u001b[0mis_floating_point\u001b[0m\u001b[1;33m(\u001b[0m\u001b[1;33m)\u001b[0m \u001b[1;32mor\u001b[0m \u001b[0mt\u001b[0m\u001b[1;33m.\u001b[0m\u001b[0mis_complex\u001b[0m\u001b[1;33m(\u001b[0m\u001b[1;33m)\u001b[0m \u001b[1;32melse\u001b[0m \u001b[1;32mNone\u001b[0m\u001b[1;33m,\u001b[0m \u001b[0mnon_blocking\u001b[0m\u001b[1;33m)\u001b[0m\u001b[1;33m\u001b[0m\u001b[1;33m\u001b[0m\u001b[0m\n\u001b[0;32m    672\u001b[0m \u001b[1;33m\u001b[0m\u001b[0m\n\u001b[1;32m--> 673\u001b[1;33m         \u001b[1;32mreturn\u001b[0m \u001b[0mself\u001b[0m\u001b[1;33m.\u001b[0m\u001b[0m_apply\u001b[0m\u001b[1;33m(\u001b[0m\u001b[0mconvert\u001b[0m\u001b[1;33m)\u001b[0m\u001b[1;33m\u001b[0m\u001b[1;33m\u001b[0m\u001b[0m\n\u001b[0m\u001b[0;32m    674\u001b[0m \u001b[1;33m\u001b[0m\u001b[0m\n\u001b[0;32m    675\u001b[0m     def register_backward_hook(\n",
      "\u001b[1;32mc:\\users\\ryans\\source\\repos\\venvs\\python375\\lib\\site-packages\\torch\\nn\\modules\\module.py\u001b[0m in \u001b[0;36m_apply\u001b[1;34m(self, fn)\u001b[0m\n\u001b[0;32m    385\u001b[0m     \u001b[1;32mdef\u001b[0m \u001b[0m_apply\u001b[0m\u001b[1;33m(\u001b[0m\u001b[0mself\u001b[0m\u001b[1;33m,\u001b[0m \u001b[0mfn\u001b[0m\u001b[1;33m)\u001b[0m\u001b[1;33m:\u001b[0m\u001b[1;33m\u001b[0m\u001b[1;33m\u001b[0m\u001b[0m\n\u001b[0;32m    386\u001b[0m         \u001b[1;32mfor\u001b[0m \u001b[0mmodule\u001b[0m \u001b[1;32min\u001b[0m \u001b[0mself\u001b[0m\u001b[1;33m.\u001b[0m\u001b[0mchildren\u001b[0m\u001b[1;33m(\u001b[0m\u001b[1;33m)\u001b[0m\u001b[1;33m:\u001b[0m\u001b[1;33m\u001b[0m\u001b[1;33m\u001b[0m\u001b[0m\n\u001b[1;32m--> 387\u001b[1;33m             \u001b[0mmodule\u001b[0m\u001b[1;33m.\u001b[0m\u001b[0m_apply\u001b[0m\u001b[1;33m(\u001b[0m\u001b[0mfn\u001b[0m\u001b[1;33m)\u001b[0m\u001b[1;33m\u001b[0m\u001b[1;33m\u001b[0m\u001b[0m\n\u001b[0m\u001b[0;32m    388\u001b[0m \u001b[1;33m\u001b[0m\u001b[0m\n\u001b[0;32m    389\u001b[0m         \u001b[1;32mdef\u001b[0m \u001b[0mcompute_should_use_set_data\u001b[0m\u001b[1;33m(\u001b[0m\u001b[0mtensor\u001b[0m\u001b[1;33m,\u001b[0m \u001b[0mtensor_applied\u001b[0m\u001b[1;33m)\u001b[0m\u001b[1;33m:\u001b[0m\u001b[1;33m\u001b[0m\u001b[1;33m\u001b[0m\u001b[0m\n",
      "\u001b[1;32mc:\\users\\ryans\\source\\repos\\venvs\\python375\\lib\\site-packages\\torch\\nn\\modules\\module.py\u001b[0m in \u001b[0;36m_apply\u001b[1;34m(self, fn)\u001b[0m\n\u001b[0;32m    407\u001b[0m                 \u001b[1;31m# `with torch.no_grad():`\u001b[0m\u001b[1;33m\u001b[0m\u001b[1;33m\u001b[0m\u001b[1;33m\u001b[0m\u001b[0m\n\u001b[0;32m    408\u001b[0m                 \u001b[1;32mwith\u001b[0m \u001b[0mtorch\u001b[0m\u001b[1;33m.\u001b[0m\u001b[0mno_grad\u001b[0m\u001b[1;33m(\u001b[0m\u001b[1;33m)\u001b[0m\u001b[1;33m:\u001b[0m\u001b[1;33m\u001b[0m\u001b[1;33m\u001b[0m\u001b[0m\n\u001b[1;32m--> 409\u001b[1;33m                     \u001b[0mparam_applied\u001b[0m \u001b[1;33m=\u001b[0m \u001b[0mfn\u001b[0m\u001b[1;33m(\u001b[0m\u001b[0mparam\u001b[0m\u001b[1;33m)\u001b[0m\u001b[1;33m\u001b[0m\u001b[1;33m\u001b[0m\u001b[0m\n\u001b[0m\u001b[0;32m    410\u001b[0m                 \u001b[0mshould_use_set_data\u001b[0m \u001b[1;33m=\u001b[0m \u001b[0mcompute_should_use_set_data\u001b[0m\u001b[1;33m(\u001b[0m\u001b[0mparam\u001b[0m\u001b[1;33m,\u001b[0m \u001b[0mparam_applied\u001b[0m\u001b[1;33m)\u001b[0m\u001b[1;33m\u001b[0m\u001b[1;33m\u001b[0m\u001b[0m\n\u001b[0;32m    411\u001b[0m                 \u001b[1;32mif\u001b[0m \u001b[0mshould_use_set_data\u001b[0m\u001b[1;33m:\u001b[0m\u001b[1;33m\u001b[0m\u001b[1;33m\u001b[0m\u001b[0m\n",
      "\u001b[1;32mc:\\users\\ryans\\source\\repos\\venvs\\python375\\lib\\site-packages\\torch\\nn\\modules\\module.py\u001b[0m in \u001b[0;36mconvert\u001b[1;34m(t)\u001b[0m\n\u001b[0;32m    669\u001b[0m                 return t.to(device, dtype if t.is_floating_point() or t.is_complex() else None,\n\u001b[0;32m    670\u001b[0m                             non_blocking, memory_format=convert_to_format)\n\u001b[1;32m--> 671\u001b[1;33m             \u001b[1;32mreturn\u001b[0m \u001b[0mt\u001b[0m\u001b[1;33m.\u001b[0m\u001b[0mto\u001b[0m\u001b[1;33m(\u001b[0m\u001b[0mdevice\u001b[0m\u001b[1;33m,\u001b[0m \u001b[0mdtype\u001b[0m \u001b[1;32mif\u001b[0m \u001b[0mt\u001b[0m\u001b[1;33m.\u001b[0m\u001b[0mis_floating_point\u001b[0m\u001b[1;33m(\u001b[0m\u001b[1;33m)\u001b[0m \u001b[1;32mor\u001b[0m \u001b[0mt\u001b[0m\u001b[1;33m.\u001b[0m\u001b[0mis_complex\u001b[0m\u001b[1;33m(\u001b[0m\u001b[1;33m)\u001b[0m \u001b[1;32melse\u001b[0m \u001b[1;32mNone\u001b[0m\u001b[1;33m,\u001b[0m \u001b[0mnon_blocking\u001b[0m\u001b[1;33m)\u001b[0m\u001b[1;33m\u001b[0m\u001b[1;33m\u001b[0m\u001b[0m\n\u001b[0m\u001b[0;32m    672\u001b[0m \u001b[1;33m\u001b[0m\u001b[0m\n\u001b[0;32m    673\u001b[0m         \u001b[1;32mreturn\u001b[0m \u001b[0mself\u001b[0m\u001b[1;33m.\u001b[0m\u001b[0m_apply\u001b[0m\u001b[1;33m(\u001b[0m\u001b[0mconvert\u001b[0m\u001b[1;33m)\u001b[0m\u001b[1;33m\u001b[0m\u001b[1;33m\u001b[0m\u001b[0m\n",
      "\u001b[1;32mc:\\users\\ryans\\source\\repos\\venvs\\python375\\lib\\site-packages\\torch\\cuda\\__init__.py\u001b[0m in \u001b[0;36m_lazy_init\u001b[1;34m()\u001b[0m\n\u001b[0;32m    162\u001b[0m                 \"multiprocessing, you must use the 'spawn' start method\")\n\u001b[0;32m    163\u001b[0m         \u001b[1;32mif\u001b[0m \u001b[1;32mnot\u001b[0m \u001b[0mhasattr\u001b[0m\u001b[1;33m(\u001b[0m\u001b[0mtorch\u001b[0m\u001b[1;33m.\u001b[0m\u001b[0m_C\u001b[0m\u001b[1;33m,\u001b[0m \u001b[1;34m'_cuda_getDeviceCount'\u001b[0m\u001b[1;33m)\u001b[0m\u001b[1;33m:\u001b[0m\u001b[1;33m\u001b[0m\u001b[1;33m\u001b[0m\u001b[0m\n\u001b[1;32m--> 164\u001b[1;33m             \u001b[1;32mraise\u001b[0m \u001b[0mAssertionError\u001b[0m\u001b[1;33m(\u001b[0m\u001b[1;34m\"Torch not compiled with CUDA enabled\"\u001b[0m\u001b[1;33m)\u001b[0m\u001b[1;33m\u001b[0m\u001b[1;33m\u001b[0m\u001b[0m\n\u001b[0m\u001b[0;32m    165\u001b[0m         \u001b[1;32mif\u001b[0m \u001b[0m_cudart\u001b[0m \u001b[1;32mis\u001b[0m \u001b[1;32mNone\u001b[0m\u001b[1;33m:\u001b[0m\u001b[1;33m\u001b[0m\u001b[1;33m\u001b[0m\u001b[0m\n\u001b[0;32m    166\u001b[0m             raise AssertionError(\n",
      "\u001b[1;31mAssertionError\u001b[0m: Torch not compiled with CUDA enabled"
     ]
    },
    {
     "data": {
      "image/png": "[encoded data removed]",
      "text/plain": [
       "<Figure size 1296x432 with 1 Axes>"
      ]
     },
     "metadata": {
      "needs_background": "light"
     },
     "output_type": "display_data"
    }
   ],
   "source": [
    "#placeholder - out of fold predictions\n",
    "oof = np.zeros((len(features), ))\n",
    "\n",
    "#placeholder - test predictions\n",
    "predictions = np.zeros((len(test_features), ))\n",
    "\n",
    "for rs in CFG['random_seeds']:\n",
    "    #run the training with different random seeds to get out of fold and test averages\n",
    "    oof_, predictions_ = run_training(features, Y, test_features, folds, \n",
    "                                seed=rs,\n",
    "                                batch_size=CFG['mlp_batch_size'], \n",
    "                                model_name='model',\n",
    "                                num_features=test_features.shape[1],\n",
    "                                num_targets=1,\n",
    "                                hidden_size=CFG['mlp_hidden_size'])\n",
    "    \n",
    "    oof+=oof_\n",
    "    predictions+=predictions_\n",
    "    \n",
    "oof/=len(CFG['random_seeds'])\n",
    "predictions/=len(CFG['random_seeds'])"
   ]
  },
  {
   "cell_type": "code",
   "execution_count": 16,
   "id": "verbal-peninsula",
   "metadata": {
    "execution": {
     "iopub.execute_input": "2021-03-21T05:58:22.715139Z",
     "iopub.status.busy": "2021-03-21T05:58:22.714130Z",
     "iopub.status.idle": "2021-03-21T05:58:25.094659Z",
     "shell.execute_reply": "2021-03-21T05:58:25.095092Z"
    },
    "papermill": {
     "duration": 2.439963,
     "end_time": "2021-03-21T05:58:25.095241",
     "exception": false,
     "start_time": "2021-03-21T05:58:22.655278",
     "status": "completed"
    },
    "tags": []
   },
   "outputs": [
    {
     "data": {
      "text/plain": [
       "<AxesSubplot:ylabel='Density'>"
      ]
     },
     "execution_count": 16,
     "metadata": {},
     "output_type": "execute_result"
    },
    {
     "data": {
      "image/png": "[encoded data removed]",
      "text/plain": [
       "<Figure size 432x288 with 1 Axes>"
      ]
     },
     "metadata": {
      "needs_background": "light"
     },
     "output_type": "display_data"
    }
   ],
   "source": [
    "sns.kdeplot(oof,color='Green')\n",
    "sns.kdeplot(predictions,color='Red')"
   ]
  },
  {
   "cell_type": "code",
   "execution_count": 17,
   "id": "grateful-auckland",
   "metadata": {
    "execution": {
     "iopub.execute_input": "2021-03-21T05:58:25.209036Z",
     "iopub.status.busy": "2021-03-21T05:58:25.208256Z",
     "iopub.status.idle": "2021-03-21T05:58:27.686329Z",
     "shell.execute_reply": "2021-03-21T05:58:27.685844Z"
    },
    "papermill": {
     "duration": 2.538796,
     "end_time": "2021-03-21T05:58:27.686460",
     "exception": false,
     "start_time": "2021-03-21T05:58:25.147664",
     "status": "completed"
    },
    "tags": []
   },
   "outputs": [
    {
     "name": "stdout",
     "output_type": "stream",
     "text": [
      "CV Score 0.8974553750416852\n"
     ]
    },
    {
     "data": {
      "text/html": [
       "<div>\n",
       "<style scoped>\n",
       "    .dataframe tbody tr th:only-of-type {\n",
       "        vertical-align: middle;\n",
       "    }\n",
       "\n",
       "    .dataframe tbody tr th {\n",
       "        vertical-align: top;\n",
       "    }\n",
       "\n",
       "    .dataframe thead th {\n",
       "        text-align: right;\n",
       "    }\n",
       "</style>\n",
       "<table border=\"1\" class=\"dataframe\">\n",
       "  <thead>\n",
       "    <tr style=\"text-align: right;\">\n",
       "      <th></th>\n",
       "      <th>id</th>\n",
       "      <th>target</th>\n",
       "      <th>oof_prediction</th>\n",
       "    </tr>\n",
       "  </thead>\n",
       "  <tbody>\n",
       "    <tr>\n",
       "      <th>0</th>\n",
       "      <td>0</td>\n",
       "      <td>0</td>\n",
       "      <td>0.088746</td>\n",
       "    </tr>\n",
       "    <tr>\n",
       "      <th>1</th>\n",
       "      <td>1</td>\n",
       "      <td>0</td>\n",
       "      <td>0.296932</td>\n",
       "    </tr>\n",
       "    <tr>\n",
       "      <th>2</th>\n",
       "      <td>2</td>\n",
       "      <td>0</td>\n",
       "      <td>0.049695</td>\n",
       "    </tr>\n",
       "    <tr>\n",
       "      <th>3</th>\n",
       "      <td>3</td>\n",
       "      <td>0</td>\n",
       "      <td>0.050672</td>\n",
       "    </tr>\n",
       "    <tr>\n",
       "      <th>4</th>\n",
       "      <td>4</td>\n",
       "      <td>1</td>\n",
       "      <td>0.369846</td>\n",
       "    </tr>\n",
       "    <tr>\n",
       "      <th>5</th>\n",
       "      <td>7</td>\n",
       "      <td>0</td>\n",
       "      <td>0.005599</td>\n",
       "    </tr>\n",
       "    <tr>\n",
       "      <th>6</th>\n",
       "      <td>10</td>\n",
       "      <td>0</td>\n",
       "      <td>0.258613</td>\n",
       "    </tr>\n",
       "    <tr>\n",
       "      <th>7</th>\n",
       "      <td>12</td>\n",
       "      <td>1</td>\n",
       "      <td>0.963598</td>\n",
       "    </tr>\n",
       "    <tr>\n",
       "      <th>8</th>\n",
       "      <td>13</td>\n",
       "      <td>0</td>\n",
       "      <td>0.005122</td>\n",
       "    </tr>\n",
       "    <tr>\n",
       "      <th>9</th>\n",
       "      <td>14</td>\n",
       "      <td>1</td>\n",
       "      <td>0.979038</td>\n",
       "    </tr>\n",
       "  </tbody>\n",
       "</table>\n",
       "</div>"
      ],
      "text/plain": [
       "   id  target  oof_prediction\n",
       "0   0       0        0.088746\n",
       "1   1       0        0.296932\n",
       "2   2       0        0.049695\n",
       "3   3       0        0.050672\n",
       "4   4       1        0.369846\n",
       "5   7       0        0.005599\n",
       "6  10       0        0.258613\n",
       "7  12       1        0.963598\n",
       "8  13       0        0.005122\n",
       "9  14       1        0.979038"
      ]
     },
     "execution_count": 17,
     "metadata": {},
     "output_type": "execute_result"
    }
   ],
   "source": [
    "oof_df = pd.read_csv(PATH+'train.csv')[['id', 'target']]\n",
    "oof_df['oof_prediction'] = oof\n",
    "\n",
    "print('CV Score', roc_auc_score(oof_df['target'], oof_df['oof_prediction']))\n",
    "oof_df.to_csv(SAVE_PATH+f'mlp_{run_key}_oof.csv', index=False)\n",
    "oof_df.head(10)"
   ]
  },
  {
   "cell_type": "code",
   "execution_count": 18,
   "id": "economic-marketplace",
   "metadata": {
    "execution": {
     "iopub.execute_input": "2021-03-21T05:58:27.799446Z",
     "iopub.status.busy": "2021-03-21T05:58:27.798860Z",
     "iopub.status.idle": "2021-03-21T05:58:28.575260Z",
     "shell.execute_reply": "2021-03-21T05:58:28.574286Z"
    },
    "papermill": {
     "duration": 0.834884,
     "end_time": "2021-03-21T05:58:28.575384",
     "exception": false,
     "start_time": "2021-03-21T05:58:27.740500",
     "status": "completed"
    },
    "tags": []
   },
   "outputs": [
    {
     "data": {
      "text/html": [
       "<div>\n",
       "<style scoped>\n",
       "    .dataframe tbody tr th:only-of-type {\n",
       "        vertical-align: middle;\n",
       "    }\n",
       "\n",
       "    .dataframe tbody tr th {\n",
       "        vertical-align: top;\n",
       "    }\n",
       "\n",
       "    .dataframe thead th {\n",
       "        text-align: right;\n",
       "    }\n",
       "</style>\n",
       "<table border=\"1\" class=\"dataframe\">\n",
       "  <thead>\n",
       "    <tr style=\"text-align: right;\">\n",
       "      <th></th>\n",
       "      <th>id</th>\n",
       "      <th>target</th>\n",
       "    </tr>\n",
       "  </thead>\n",
       "  <tbody>\n",
       "    <tr>\n",
       "      <th>0</th>\n",
       "      <td>5</td>\n",
       "      <td>0.144517</td>\n",
       "    </tr>\n",
       "    <tr>\n",
       "      <th>1</th>\n",
       "      <td>6</td>\n",
       "      <td>0.490025</td>\n",
       "    </tr>\n",
       "    <tr>\n",
       "      <th>2</th>\n",
       "      <td>8</td>\n",
       "      <td>0.005897</td>\n",
       "    </tr>\n",
       "    <tr>\n",
       "      <th>3</th>\n",
       "      <td>9</td>\n",
       "      <td>0.238922</td>\n",
       "    </tr>\n",
       "    <tr>\n",
       "      <th>4</th>\n",
       "      <td>11</td>\n",
       "      <td>0.096264</td>\n",
       "    </tr>\n",
       "  </tbody>\n",
       "</table>\n",
       "</div>"
      ],
      "text/plain": [
       "   id    target\n",
       "0   5  0.144517\n",
       "1   6  0.490025\n",
       "2   8  0.005897\n",
       "3   9  0.238922\n",
       "4  11  0.096264"
      ]
     },
     "execution_count": 18,
     "metadata": {},
     "output_type": "execute_result"
    }
   ],
   "source": [
    "submission = pd.read_csv(PATH+'sample_submission.csv')\n",
    "submission['target'] = predictions\n",
    "submission.to_csv(SAVE_PATH+f'mlp_{run_key}_submission.csv', index=False)\n",
    "submission.head(5)"
   ]
  }
 ],
 "metadata": {
  "kernelspec": {
   "display_name": "Python 3",
   "language": "python",
   "name": "python3"
  },
  "language_info": {
   "codemirror_mode": {
    "name": "ipython",
    "version": 3
   },
   "file_extension": ".py",
   "mimetype": "text/x-python",
   "name": "python",
   "nbconvert_exporter": "python",
   "pygments_lexer": "ipython3",
   "version": "3.7.5"
  },
  "papermill": {
   "default_parameters": {},
   "duration": 1202.038024,
   "end_time": "2021-03-21T05:58:30.583330",
   "environment_variables": {},
   "exception": null,
   "input_path": "__notebook__.ipynb",
   "output_path": "__notebook__.ipynb",
   "parameters": {},
   "start_time": "2021-03-21T05:38:28.545306",
   "version": "2.3.2"
  }
 },
 "nbformat": 4,
 "nbformat_minor": 5
}
