{
 "cells": [
  {
   "cell_type": "code",
   "execution_count": 1,
   "id": "2acaba2c-46eb-40d8-a9b7-82ef9178642e",
   "metadata": {},
   "outputs": [],
   "source": [
    "import numpy as np\n",
    "import pandas as pd\n",
    "import math\n",
    "import sys, os\n",
    "#import seaborn as sns\n",
    "#from scipy import stats\n",
    "#from pathlib import Path\n",
    "#import matplotlib.pyplot as plt\n",
    "#from sklearn.model_selection import KFold\n",
    "from sklearn.preprocessing import MinMaxScaler, StandardScaler\n",
    "from sklearn.model_selection import train_test_split\n",
    "#from sklearn.metrics import mean_squared_error\n",
    "#from sklearn.metrics import mean_squared_error\n",
    "#from sklearn.preprocessing import MinMaxScaler\n",
    "#from sklearn.datasets import fetch_california_housing\n",
    "#import math\n",
    "from tqdm import tqdm\n",
    "from sklearn.feature_extraction.text import CountVectorizer\n",
    "from sklearn.preprocessing import LabelEncoder, OneHotEncoder, OrdinalEncoder\n",
    "import optuna\n",
    "from optuna.samplers import TPESampler\n",
    "#import lightgbm as lgbm\n",
    "#from xgboost import XGBRegressor\n",
    "import xgboost as xgb\n",
    "#from catboost import CatBoostRegressor\n",
    "#from lightgbm.sklearn import LGBMRegressor\n",
    "#from sklearn.ensemble import RandomForestRegressor\n",
    "import pickle\n",
    "from sklearn.metrics import roc_curve, auc\n",
    "from sklearn.model_selection import StratifiedKFold\n",
    "pd.set_option('display.max_columns', 500)\n",
    "from sklearn.metrics import roc_auc_score\n",
    "import pandas as pd\n",
    "import numpy as np\n",
    "from tqdm import tqdm\n",
    "from sklearn.metrics import roc_curve, auc,recall_score,precision_score\n",
    "from sklearn import metrics\n",
    "\n",
    "import sys, os\n",
    "import pandas as pd\n",
    "import seaborn as sns\n",
    "import numpy as np\n",
    "import matplotlib.pyplot as plt\n",
    "from sklearn.feature_extraction.text import CountVectorizer\n",
    "import math\n",
    "import pickle\n",
    "import mplcyberpunk\n",
    "import tensorflow as tf\n",
    "\n",
    "from tensorflow import keras\n",
    "from tensorflow.keras import layers\n",
    "from tensorflow.keras.callbacks import Callback, EarlyStopping\n",
    "plt.style.use(\"cyberpunk\")"
   ]
  },
  {
   "cell_type": "code",
   "execution_count": 2,
   "id": "876b65b7-07dc-4f62-9b82-f90448feca02",
   "metadata": {},
   "outputs": [],
   "source": [
    "sys.path.append(os.path.realpath('..'))"
   ]
  },
  {
   "cell_type": "code",
   "execution_count": 3,
   "id": "5dbabd61-c563-41e4-8313-f4e318fc6372",
   "metadata": {},
   "outputs": [],
   "source": [
    "train_df = pd.read_csv(r\"..\\data\\train.csv\", index_col=0)\n",
    "test_df = pd.read_csv(r\"..\\data\\test.csv\", index_col=0)\n",
    "sample_sub = pd.read_csv(r\"..\\data\\sample_submission.csv\", index_col=0)"
   ]
  },
  {
   "cell_type": "code",
   "execution_count": null,
   "id": "7ecb50d6-ec14-453a-ad34-c7ce815c6403",
   "metadata": {},
   "outputs": [],
   "source": [
    "del train_df['Over18']\n",
    "del train_df['EmployeeCount']\n",
    "del train_df['StandardHours']"
   ]
  },
  {
   "cell_type": "code",
   "execution_count": 5,
   "id": "2beea6bc-bc74-4964-a85b-fd1fba8b4ff3",
   "metadata": {},
   "outputs": [
    {
     "name": "stdout",
     "output_type": "stream",
     "text": [
      "BusinessTravel\n",
      "Department\n",
      "EducationField\n",
      "Gender\n",
      "JobRole\n",
      "MaritalStatus\n",
      "OverTime\n"
     ]
    }
   ],
   "source": [
    "columns_to_vectorize = ['BusinessTravel', 'Department', 'EducationField', 'Gender', 'JobRole', 'MaritalStatus', 'OverTime']\n",
    "for vector_target in columns_to_vectorize:\n",
    "    print(vector_target)\n",
    "    vectorizer = CountVectorizer()\n",
    "    vectorizer.fit_transform(train_df[vector_target])\n",
    "    train_df[f'{vector_target}_v'] = vectorizer.transform(train_df[vector_target]).toarray().argmax(axis=1)[:,None]\n",
    "    vectorizer.fit_transform(test_df[vector_target])\n",
    "    test_df[f'{vector_target}_v'] = vectorizer.transform(test_df[vector_target]).toarray().argmax(axis=1)[:,None]"
   ]
  },
  {
   "cell_type": "code",
   "execution_count": 11,
   "id": "18d04323-3e79-4ce7-b150-bdb8f420422b",
   "metadata": {},
   "outputs": [],
   "source": [
    "cat_features = ['BusinessTravel', 'Department', 'EducationField', 'Gender', 'JobRole', 'MaritalStatus', 'OverTime']\n",
    "\n",
    "features = ['Age', 'DailyRate', 'DistanceFromHome', 'Education', 'EnvironmentSatisfaction','HourlyRate', 'JobInvolvement', 'JobLevel', 'JobSatisfaction', \n",
    "       'MonthlyIncome', 'MonthlyRate', 'NumCompaniesWorked', 'PercentSalaryHike', 'PerformanceRating', 'RelationshipSatisfaction', 'StockOptionLevel', 'TotalWorkingYears',\n",
    "       'TrainingTimesLastYear', 'WorkLifeBalance', 'YearsAtCompany', 'YearsInCurrentRole', 'YearsSinceLastPromotion', 'YearsWithCurrManager',\n",
    "        'BusinessTravel_v', 'Department_v', 'EducationField_v','Gender_v', 'JobRole_v', 'MaritalStatus_v', 'OverTime_v']\n",
    "\n",
    "target = ['Attrition']"
   ]
  },
  {
   "cell_type": "code",
   "execution_count": 12,
   "id": "361ca235-8109-49ad-9d83-21cad527ea0d",
   "metadata": {},
   "outputs": [],
   "source": [
    "scaler = StandardScaler().fit(train_df[features])\n",
    "X = scaler.transform(train_df[features])\n",
    "X_test = scaler.transform(test_df[features])\n",
    "\n",
    "scaler = MinMaxScaler().fit(train_df[target])\n",
    "Y = scaler.transform(train_df[target])"
   ]
  },
  {
   "cell_type": "code",
   "execution_count": 68,
   "id": "475c016b-db51-4464-9902-596c58589763",
   "metadata": {},
   "outputs": [
    {
     "data": {
      "text/plain": [
       "[NumericColumn(key='Age', shape=(1,), default_value=None, dtype=tf.float32, normalizer_fn=None),\n",
       " NumericColumn(key='DailyRate', shape=(1,), default_value=None, dtype=tf.float32, normalizer_fn=None),\n",
       " NumericColumn(key='DistanceFromHome', shape=(1,), default_value=None, dtype=tf.float32, normalizer_fn=None),\n",
       " NumericColumn(key='Education', shape=(1,), default_value=None, dtype=tf.float32, normalizer_fn=None),\n",
       " NumericColumn(key='EnvironmentSatisfaction', shape=(1,), default_value=None, dtype=tf.float32, normalizer_fn=None),\n",
       " NumericColumn(key='HourlyRate', shape=(1,), default_value=None, dtype=tf.float32, normalizer_fn=None),\n",
       " NumericColumn(key='JobInvolvement', shape=(1,), default_value=None, dtype=tf.float32, normalizer_fn=None),\n",
       " NumericColumn(key='JobLevel', shape=(1,), default_value=None, dtype=tf.float32, normalizer_fn=None),\n",
       " NumericColumn(key='JobSatisfaction', shape=(1,), default_value=None, dtype=tf.float32, normalizer_fn=None),\n",
       " NumericColumn(key='MonthlyIncome', shape=(1,), default_value=None, dtype=tf.float32, normalizer_fn=None),\n",
       " NumericColumn(key='MonthlyRate', shape=(1,), default_value=None, dtype=tf.float32, normalizer_fn=None),\n",
       " NumericColumn(key='NumCompaniesWorked', shape=(1,), default_value=None, dtype=tf.float32, normalizer_fn=None),\n",
       " NumericColumn(key='PercentSalaryHike', shape=(1,), default_value=None, dtype=tf.float32, normalizer_fn=None),\n",
       " NumericColumn(key='PerformanceRating', shape=(1,), default_value=None, dtype=tf.float32, normalizer_fn=None),\n",
       " NumericColumn(key='RelationshipSatisfaction', shape=(1,), default_value=None, dtype=tf.float32, normalizer_fn=None),\n",
       " NumericColumn(key='StockOptionLevel', shape=(1,), default_value=None, dtype=tf.float32, normalizer_fn=None),\n",
       " NumericColumn(key='TotalWorkingYears', shape=(1,), default_value=None, dtype=tf.float32, normalizer_fn=None),\n",
       " NumericColumn(key='TrainingTimesLastYear', shape=(1,), default_value=None, dtype=tf.float32, normalizer_fn=None),\n",
       " NumericColumn(key='WorkLifeBalance', shape=(1,), default_value=None, dtype=tf.float32, normalizer_fn=None),\n",
       " NumericColumn(key='YearsAtCompany', shape=(1,), default_value=None, dtype=tf.float32, normalizer_fn=None),\n",
       " NumericColumn(key='YearsInCurrentRole', shape=(1,), default_value=None, dtype=tf.float32, normalizer_fn=None),\n",
       " NumericColumn(key='YearsSinceLastPromotion', shape=(1,), default_value=None, dtype=tf.float32, normalizer_fn=None),\n",
       " NumericColumn(key='YearsWithCurrManager', shape=(1,), default_value=None, dtype=tf.float32, normalizer_fn=None),\n",
       " NumericColumn(key='BusinessTravel_v', shape=(1,), default_value=None, dtype=tf.float32, normalizer_fn=None),\n",
       " NumericColumn(key='Department_v', shape=(1,), default_value=None, dtype=tf.float32, normalizer_fn=None),\n",
       " NumericColumn(key='EducationField_v', shape=(1,), default_value=None, dtype=tf.float32, normalizer_fn=None),\n",
       " NumericColumn(key='Gender_v', shape=(1,), default_value=None, dtype=tf.float32, normalizer_fn=None),\n",
       " NumericColumn(key='JobRole_v', shape=(1,), default_value=None, dtype=tf.float32, normalizer_fn=None),\n",
       " NumericColumn(key='MaritalStatus_v', shape=(1,), default_value=None, dtype=tf.float32, normalizer_fn=None),\n",
       " NumericColumn(key='OverTime_v', shape=(1,), default_value=None, dtype=tf.float32, normalizer_fn=None)]"
      ]
     },
     "execution_count": 68,
     "metadata": {},
     "output_type": "execute_result"
    }
   ],
   "source": [
    "feature_columns = [\n",
    "\t# \"curb-weight\" and \"highway-mpg\" are numeric columns.\n",
    "]\n",
    "\n",
    "for k in features:\n",
    "    feature_columns.append(tf.feature_column.numeric_column(key=k),)\n",
    "feature_columns"
   ]
  },
  {
   "cell_type": "code",
   "execution_count": 69,
   "id": "7d0f51bc-8659-44ed-b812-dd23d04c1225",
   "metadata": {},
   "outputs": [
    {
     "name": "stdout",
     "output_type": "stream",
     "text": [
      "INFO:tensorflow:Using default config.\n",
      "WARNING:tensorflow:Using temporary folder as model directory: C:\\Users\\ryans\\AppData\\Local\\Temp\\tmpoyyudgcy\n",
      "INFO:tensorflow:Using config: {'_model_dir': 'C:\\\\Users\\\\ryans\\\\AppData\\\\Local\\\\Temp\\\\tmpoyyudgcy', '_tf_random_seed': None, '_save_summary_steps': 100, '_save_checkpoints_steps': None, '_save_checkpoints_secs': 600, '_session_config': allow_soft_placement: true\n",
      "graph_options {\n",
      "  rewrite_options {\n",
      "    meta_optimizer_iterations: ONE\n",
      "  }\n",
      "}\n",
      ", '_keep_checkpoint_max': 5, '_keep_checkpoint_every_n_hours': 10000, '_log_step_count_steps': 100, '_train_distribute': None, '_device_fn': None, '_protocol': None, '_eval_distribute': None, '_experimental_distribute': None, '_experimental_max_worker_delay_secs': None, '_session_creation_timeout_secs': 7200, '_checkpoint_save_graph_def': True, '_service': None, '_cluster_spec': ClusterSpec({}), '_task_type': 'worker', '_task_id': 0, '_global_id_in_cluster': 0, '_master': '', '_evaluation_master': '', '_is_chief': True, '_num_ps_replicas': 0, '_num_worker_replicas': 1}\n"
     ]
    }
   ],
   "source": [
    "model = tf.estimator.LinearRegressor(feature_columns=feature_columns)"
   ]
  },
  {
   "cell_type": "code",
   "execution_count": 94,
   "id": "bbbaeb38-a7eb-49c5-9ec5-d37f2860b312",
   "metadata": {},
   "outputs": [],
   "source": [
    "inf = tf.compat.v1.estimator.inputs.pandas_input_fn(x=train_df[features], y=train_df[target[0]], target_column=target[0], shuffle=True)"
   ]
  },
  {
   "cell_type": "code",
   "execution_count": 95,
   "id": "383752a2-4593-4f0f-90b1-9915f1b4dcdb",
   "metadata": {},
   "outputs": [
    {
     "name": "stdout",
     "output_type": "stream",
     "text": [
      "INFO:tensorflow:Calling model_fn.\n",
      "WARNING:tensorflow:From D:\\source\\repos\\venv\\Python310\\lib\\site-packages\\keras\\optimizers\\optimizer_v2\\ftrl.py:170: calling Constant.__init__ (from tensorflow.python.ops.init_ops) with dtype is deprecated and will be removed in a future version.\n",
      "Instructions for updating:\n",
      "Call initializer instance with the dtype argument instead of passing it to the constructor\n",
      "INFO:tensorflow:Done calling model_fn.\n",
      "INFO:tensorflow:Create CheckpointSaverHook.\n",
      "INFO:tensorflow:Graph was finalized.\n",
      "INFO:tensorflow:Running local_init_op.\n",
      "INFO:tensorflow:Done running local_init_op.\n",
      "WARNING:tensorflow:From D:\\source\\repos\\venv\\Python310\\lib\\site-packages\\tensorflow\\python\\training\\monitored_session.py:914: start_queue_runners (from tensorflow.python.training.queue_runner_impl) is deprecated and will be removed in a future version.\n",
      "Instructions for updating:\n",
      "To construct input pipelines, use the `tf.data` module.\n",
      "INFO:tensorflow:Calling checkpoint listeners before saving checkpoint 0...\n",
      "INFO:tensorflow:Saving checkpoints for 0 into C:\\Users\\ryans\\AppData\\Local\\Temp\\tmpoyyudgcy\\model.ckpt.\n",
      "INFO:tensorflow:Calling checkpoint listeners after saving checkpoint 0...\n",
      "INFO:tensorflow:loss = 0.1171875, step = 0\n",
      "INFO:tensorflow:Calling checkpoint listeners before saving checkpoint 10...\n",
      "INFO:tensorflow:Saving checkpoints for 10 into C:\\Users\\ryans\\AppData\\Local\\Temp\\tmpoyyudgcy\\model.ckpt.\n",
      "INFO:tensorflow:Calling checkpoint listeners after saving checkpoint 10...\n",
      "INFO:tensorflow:Loss for final step: 0.3925379.\n"
     ]
    },
    {
     "data": {
      "text/plain": [
       "<tensorflow_estimator.python.estimator.canned.linear.LinearRegressorV2 at 0x2908f50fb50>"
      ]
     },
     "execution_count": 95,
     "metadata": {},
     "output_type": "execute_result"
    }
   ],
   "source": [
    "model.train(input_fn=inf, steps=10)"
   ]
  },
  {
   "cell_type": "code",
   "execution_count": 96,
   "id": "b20a3cf3-a193-42ed-b259-7ed162d556c9",
   "metadata": {},
   "outputs": [
    {
     "name": "stdout",
     "output_type": "stream",
     "text": [
      "INFO:tensorflow:Could not find trained model in model_dir: C:\\Users\\ryans\\AppData\\Local\\Temp\\tmpmgw2m1k6, running initialization to evaluate.\n",
      "INFO:tensorflow:Calling model_fn.\n"
     ]
    },
    {
     "ename": "ValueError",
     "evalue": "Received a feature column from TensorFlow v1, but this is a TensorFlow v2 Estimator. Please either use v2 feature columns (accessible via tf.feature_column.* in TF 2.x) with this Estimator, or switch to a v1 Estimator for use with v1 feature columns (accessible via tf.compat.v1.estimator.* and tf.compat.v1.feature_column.*, respectively.",
     "output_type": "error",
     "traceback": [
      "\u001b[1;31m---------------------------------------------------------------------------\u001b[0m",
      "\u001b[1;31mValueError\u001b[0m                                Traceback (most recent call last)",
      "Cell \u001b[1;32mIn[96], line 1\u001b[0m\n\u001b[1;32m----> 1\u001b[0m \u001b[43mestimator\u001b[49m\u001b[38;5;241;43m.\u001b[39;49m\u001b[43mevaluate\u001b[49m\u001b[43m(\u001b[49m\u001b[43minput_fn\u001b[49m\u001b[38;5;241;43m=\u001b[39;49m\u001b[43minf\u001b[49m\u001b[43m)\u001b[49m\n",
      "File \u001b[1;32mD:\\source\\repos\\venv\\Python310\\lib\\site-packages\\tensorflow_estimator\\python\\estimator\\estimator.py:472\u001b[0m, in \u001b[0;36mEstimator.evaluate\u001b[1;34m(self, input_fn, steps, hooks, checkpoint_path, name)\u001b[0m\n\u001b[0;32m    460\u001b[0m   \u001b[38;5;28;01mreturn\u001b[39;00m distribute_coordinator_training\u001b[38;5;241m.\u001b[39mestimator_evaluate(\n\u001b[0;32m    461\u001b[0m       \u001b[38;5;28mself\u001b[39m,\n\u001b[0;32m    462\u001b[0m       \u001b[38;5;28;01mlambda\u001b[39;00m est, s, eval_hooks: est\u001b[38;5;241m.\u001b[39m_actual_eval(  \u001b[38;5;66;03m# pylint: disable=g-long-lambda\u001b[39;00m\n\u001b[1;32m   (...)\u001b[0m\n\u001b[0;32m    468\u001b[0m           name\u001b[38;5;241m=\u001b[39mname),\n\u001b[0;32m    469\u001b[0m       hooks)\n\u001b[0;32m    470\u001b[0m \u001b[38;5;66;03m# pylint: enable=protected-access\u001b[39;00m\n\u001b[0;32m    471\u001b[0m \u001b[38;5;28;01melse\u001b[39;00m:\n\u001b[1;32m--> 472\u001b[0m   \u001b[38;5;28;01mreturn\u001b[39;00m \u001b[38;5;28;43mself\u001b[39;49m\u001b[38;5;241;43m.\u001b[39;49m\u001b[43m_actual_eval\u001b[49m\u001b[43m(\u001b[49m\n\u001b[0;32m    473\u001b[0m \u001b[43m      \u001b[49m\u001b[43minput_fn\u001b[49m\u001b[43m,\u001b[49m\n\u001b[0;32m    474\u001b[0m \u001b[43m      \u001b[49m\u001b[43mstrategy\u001b[49m\u001b[38;5;241;43m=\u001b[39;49m\u001b[38;5;28;43mself\u001b[39;49m\u001b[38;5;241;43m.\u001b[39;49m\u001b[43m_eval_distribution\u001b[49m\u001b[43m,\u001b[49m\n\u001b[0;32m    475\u001b[0m \u001b[43m      \u001b[49m\u001b[43msteps\u001b[49m\u001b[38;5;241;43m=\u001b[39;49m\u001b[43msteps\u001b[49m\u001b[43m,\u001b[49m\n\u001b[0;32m    476\u001b[0m \u001b[43m      \u001b[49m\u001b[43mhooks\u001b[49m\u001b[38;5;241;43m=\u001b[39;49m\u001b[43mhooks\u001b[49m\u001b[43m,\u001b[49m\n\u001b[0;32m    477\u001b[0m \u001b[43m      \u001b[49m\u001b[43mcheckpoint_path\u001b[49m\u001b[38;5;241;43m=\u001b[39;49m\u001b[43mcheckpoint_path\u001b[49m\u001b[43m,\u001b[49m\n\u001b[0;32m    478\u001b[0m \u001b[43m      \u001b[49m\u001b[43mname\u001b[49m\u001b[38;5;241;43m=\u001b[39;49m\u001b[43mname\u001b[49m\u001b[43m)\u001b[49m\n",
      "File \u001b[1;32mD:\\source\\repos\\venv\\Python310\\lib\\site-packages\\tensorflow_estimator\\python\\estimator\\estimator.py:521\u001b[0m, in \u001b[0;36mEstimator._actual_eval\u001b[1;34m(self, input_fn, strategy, steps, hooks, checkpoint_path, name)\u001b[0m\n\u001b[0;32m    519\u001b[0m     \u001b[38;5;28;01mreturn\u001b[39;00m _evaluate()\n\u001b[0;32m    520\u001b[0m \u001b[38;5;28;01melse\u001b[39;00m:\n\u001b[1;32m--> 521\u001b[0m   \u001b[38;5;28;01mreturn\u001b[39;00m \u001b[43m_evaluate\u001b[49m\u001b[43m(\u001b[49m\u001b[43m)\u001b[49m\n",
      "File \u001b[1;32mD:\\source\\repos\\venv\\Python310\\lib\\site-packages\\tensorflow_estimator\\python\\estimator\\estimator.py:503\u001b[0m, in \u001b[0;36mEstimator._actual_eval.<locals>._evaluate\u001b[1;34m()\u001b[0m\n\u001b[0;32m    501\u001b[0m \u001b[38;5;28;01mdef\u001b[39;00m \u001b[38;5;21m_evaluate\u001b[39m():\n\u001b[0;32m    502\u001b[0m   (scaffold, update_op, eval_dict, all_hooks) \u001b[38;5;241m=\u001b[39m (\n\u001b[1;32m--> 503\u001b[0m       \u001b[38;5;28;43mself\u001b[39;49m\u001b[38;5;241;43m.\u001b[39;49m\u001b[43m_evaluate_build_graph\u001b[49m\u001b[43m(\u001b[49m\u001b[43minput_fn\u001b[49m\u001b[43m,\u001b[49m\u001b[43m \u001b[49m\u001b[43mhooks\u001b[49m\u001b[43m,\u001b[49m\u001b[43m \u001b[49m\u001b[43mcheckpoint_path\u001b[49m\u001b[43m)\u001b[49m)\n\u001b[0;32m    504\u001b[0m   \u001b[38;5;28;01mreturn\u001b[39;00m \u001b[38;5;28mself\u001b[39m\u001b[38;5;241m.\u001b[39m_evaluate_run(\n\u001b[0;32m    505\u001b[0m       checkpoint_path\u001b[38;5;241m=\u001b[39mcheckpoint_path,\n\u001b[0;32m    506\u001b[0m       scaffold\u001b[38;5;241m=\u001b[39mscaffold,\n\u001b[1;32m   (...)\u001b[0m\n\u001b[0;32m    509\u001b[0m       all_hooks\u001b[38;5;241m=\u001b[39mall_hooks,\n\u001b[0;32m    510\u001b[0m       output_dir\u001b[38;5;241m=\u001b[39m\u001b[38;5;28mself\u001b[39m\u001b[38;5;241m.\u001b[39meval_dir(name))\n",
      "File \u001b[1;32mD:\\source\\repos\\venv\\Python310\\lib\\site-packages\\tensorflow_estimator\\python\\estimator\\estimator.py:1549\u001b[0m, in \u001b[0;36mEstimator._evaluate_build_graph\u001b[1;34m(self, input_fn, hooks, checkpoint_path)\u001b[0m\n\u001b[0;32m   1545\u001b[0m   (scaffold, evaluation_hooks, input_hooks, update_op, eval_dict) \u001b[38;5;241m=\u001b[39m (\n\u001b[0;32m   1546\u001b[0m       \u001b[38;5;28mself\u001b[39m\u001b[38;5;241m.\u001b[39m_call_model_fn_eval_distributed(input_fn, \u001b[38;5;28mself\u001b[39m\u001b[38;5;241m.\u001b[39mconfig))\n\u001b[0;32m   1547\u001b[0m \u001b[38;5;28;01melse\u001b[39;00m:\n\u001b[0;32m   1548\u001b[0m   (scaffold, evaluation_hooks, input_hooks, update_op, eval_dict) \u001b[38;5;241m=\u001b[39m (\n\u001b[1;32m-> 1549\u001b[0m       \u001b[38;5;28;43mself\u001b[39;49m\u001b[38;5;241;43m.\u001b[39;49m\u001b[43m_call_model_fn_eval\u001b[49m\u001b[43m(\u001b[49m\u001b[43minput_fn\u001b[49m\u001b[43m,\u001b[49m\u001b[43m \u001b[49m\u001b[38;5;28;43mself\u001b[39;49m\u001b[38;5;241;43m.\u001b[39;49m\u001b[43mconfig\u001b[49m\u001b[43m)\u001b[49m)\n\u001b[0;32m   1551\u001b[0m global_step_tensor \u001b[38;5;241m=\u001b[39m tf\u001b[38;5;241m.\u001b[39mcompat\u001b[38;5;241m.\u001b[39mv1\u001b[38;5;241m.\u001b[39mtrain\u001b[38;5;241m.\u001b[39mget_global_step(\n\u001b[0;32m   1552\u001b[0m     tf\u001b[38;5;241m.\u001b[39mcompat\u001b[38;5;241m.\u001b[39mv1\u001b[38;5;241m.\u001b[39mget_default_graph())\n\u001b[0;32m   1553\u001b[0m \u001b[38;5;66;03m# Call to warm_start has to be after model_fn is called.\u001b[39;00m\n",
      "File \u001b[1;32mD:\\source\\repos\\venv\\Python310\\lib\\site-packages\\tensorflow_estimator\\python\\estimator\\estimator.py:1584\u001b[0m, in \u001b[0;36mEstimator._call_model_fn_eval\u001b[1;34m(self, input_fn, config)\u001b[0m\n\u001b[0;32m   1580\u001b[0m \u001b[38;5;124;03m\"\"\"Call model_fn for evaluation and handle return values.\"\"\"\u001b[39;00m\n\u001b[0;32m   1581\u001b[0m features, labels, input_hooks \u001b[38;5;241m=\u001b[39m \u001b[38;5;28mself\u001b[39m\u001b[38;5;241m.\u001b[39m_get_features_and_labels_from_input_fn(\n\u001b[0;32m   1582\u001b[0m     input_fn, ModeKeys\u001b[38;5;241m.\u001b[39mEVAL)\n\u001b[1;32m-> 1584\u001b[0m estimator_spec \u001b[38;5;241m=\u001b[39m \u001b[38;5;28;43mself\u001b[39;49m\u001b[38;5;241;43m.\u001b[39;49m\u001b[43m_call_model_fn\u001b[49m\u001b[43m(\u001b[49m\u001b[43mfeatures\u001b[49m\u001b[43m,\u001b[49m\u001b[43m \u001b[49m\u001b[43mlabels\u001b[49m\u001b[43m,\u001b[49m\u001b[43m \u001b[49m\u001b[43mModeKeys\u001b[49m\u001b[38;5;241;43m.\u001b[39;49m\u001b[43mEVAL\u001b[49m\u001b[43m,\u001b[49m\n\u001b[0;32m   1585\u001b[0m \u001b[43m                                     \u001b[49m\u001b[43mconfig\u001b[49m\u001b[43m)\u001b[49m\n\u001b[0;32m   1586\u001b[0m eval_metric_ops \u001b[38;5;241m=\u001b[39m _verify_and_create_loss_metric(\n\u001b[0;32m   1587\u001b[0m     estimator_spec\u001b[38;5;241m.\u001b[39meval_metric_ops, estimator_spec\u001b[38;5;241m.\u001b[39mloss)\n\u001b[0;32m   1588\u001b[0m update_op, eval_dict \u001b[38;5;241m=\u001b[39m _extract_metric_update_ops(eval_metric_ops)\n",
      "File \u001b[1;32mD:\\source\\repos\\venv\\Python310\\lib\\site-packages\\tensorflow_estimator\\python\\estimator\\estimator.py:1174\u001b[0m, in \u001b[0;36mEstimator._call_model_fn\u001b[1;34m(self, features, labels, mode, config)\u001b[0m\n\u001b[0;32m   1171\u001b[0m   kwargs[\u001b[38;5;124m'\u001b[39m\u001b[38;5;124mconfig\u001b[39m\u001b[38;5;124m'\u001b[39m] \u001b[38;5;241m=\u001b[39m config\n\u001b[0;32m   1173\u001b[0m logging\u001b[38;5;241m.\u001b[39minfo(\u001b[38;5;124m'\u001b[39m\u001b[38;5;124mCalling model_fn.\u001b[39m\u001b[38;5;124m'\u001b[39m)\n\u001b[1;32m-> 1174\u001b[0m model_fn_results \u001b[38;5;241m=\u001b[39m \u001b[38;5;28mself\u001b[39m\u001b[38;5;241m.\u001b[39m_model_fn(features\u001b[38;5;241m=\u001b[39mfeatures, \u001b[38;5;241m*\u001b[39m\u001b[38;5;241m*\u001b[39mkwargs)\n\u001b[0;32m   1175\u001b[0m logging\u001b[38;5;241m.\u001b[39minfo(\u001b[38;5;124m'\u001b[39m\u001b[38;5;124mDone calling model_fn.\u001b[39m\u001b[38;5;124m'\u001b[39m)\n\u001b[0;32m   1177\u001b[0m \u001b[38;5;28;01mif\u001b[39;00m \u001b[38;5;129;01mnot\u001b[39;00m \u001b[38;5;28misinstance\u001b[39m(model_fn_results, model_fn_lib\u001b[38;5;241m.\u001b[39mEstimatorSpec):\n",
      "File \u001b[1;32mD:\\source\\repos\\venv\\Python310\\lib\\site-packages\\tensorflow_estimator\\python\\estimator\\canned\\linear.py:1352\u001b[0m, in \u001b[0;36mLinearRegressorV2.__init__.<locals>._model_fn\u001b[1;34m(features, labels, mode, config)\u001b[0m\n\u001b[0;32m   1350\u001b[0m \u001b[38;5;28;01mdef\u001b[39;00m \u001b[38;5;21m_model_fn\u001b[39m(features, labels, mode, config):\n\u001b[0;32m   1351\u001b[0m   \u001b[38;5;124;03m\"\"\"Call the defined shared _linear_model_fn.\"\"\"\u001b[39;00m\n\u001b[1;32m-> 1352\u001b[0m   \u001b[38;5;28;01mreturn\u001b[39;00m \u001b[43m_linear_model_fn_v2\u001b[49m\u001b[43m(\u001b[49m\n\u001b[0;32m   1353\u001b[0m \u001b[43m      \u001b[49m\u001b[43mfeatures\u001b[49m\u001b[38;5;241;43m=\u001b[39;49m\u001b[43mfeatures\u001b[49m\u001b[43m,\u001b[49m\n\u001b[0;32m   1354\u001b[0m \u001b[43m      \u001b[49m\u001b[43mlabels\u001b[49m\u001b[38;5;241;43m=\u001b[39;49m\u001b[43mlabels\u001b[49m\u001b[43m,\u001b[49m\n\u001b[0;32m   1355\u001b[0m \u001b[43m      \u001b[49m\u001b[43mmode\u001b[49m\u001b[38;5;241;43m=\u001b[39;49m\u001b[43mmode\u001b[49m\u001b[43m,\u001b[49m\n\u001b[0;32m   1356\u001b[0m \u001b[43m      \u001b[49m\u001b[43mhead\u001b[49m\u001b[38;5;241;43m=\u001b[39;49m\u001b[43mhead\u001b[49m\u001b[43m,\u001b[49m\n\u001b[0;32m   1357\u001b[0m \u001b[43m      \u001b[49m\u001b[43mfeature_columns\u001b[49m\u001b[38;5;241;43m=\u001b[39;49m\u001b[38;5;28;43mtuple\u001b[39;49m\u001b[43m(\u001b[49m\u001b[43mfeature_columns\u001b[49m\u001b[43m \u001b[49m\u001b[38;5;129;43;01mor\u001b[39;49;00m\u001b[43m \u001b[49m\u001b[43m[\u001b[49m\u001b[43m]\u001b[49m\u001b[43m)\u001b[49m\u001b[43m,\u001b[49m\n\u001b[0;32m   1358\u001b[0m \u001b[43m      \u001b[49m\u001b[43moptimizer\u001b[49m\u001b[38;5;241;43m=\u001b[39;49m\u001b[43moptimizer\u001b[49m\u001b[43m,\u001b[49m\n\u001b[0;32m   1359\u001b[0m \u001b[43m      \u001b[49m\u001b[43mconfig\u001b[49m\u001b[38;5;241;43m=\u001b[39;49m\u001b[43mconfig\u001b[49m\u001b[43m,\u001b[49m\n\u001b[0;32m   1360\u001b[0m \u001b[43m      \u001b[49m\u001b[43msparse_combiner\u001b[49m\u001b[38;5;241;43m=\u001b[39;49m\u001b[43msparse_combiner\u001b[49m\u001b[43m)\u001b[49m\n",
      "File \u001b[1;32mD:\\source\\repos\\venv\\Python310\\lib\\site-packages\\tensorflow_estimator\\python\\estimator\\canned\\linear.py:662\u001b[0m, in \u001b[0;36m_linear_model_fn_v2\u001b[1;34m(***failed resolving arguments***)\u001b[0m\n\u001b[0;32m    659\u001b[0m   \u001b[38;5;28;01mreturn\u001b[39;00m _sdca_model_fn(features, labels, mode, head, feature_columns,\n\u001b[0;32m    660\u001b[0m                         optimizer)\n\u001b[0;32m    661\u001b[0m \u001b[38;5;28;01melse\u001b[39;00m:\n\u001b[1;32m--> 662\u001b[0m   logits, trainable_variables \u001b[38;5;241m=\u001b[39m \u001b[43m_linear_model_fn_builder_v2\u001b[49m\u001b[43m(\u001b[49m\n\u001b[0;32m    663\u001b[0m \u001b[43m      \u001b[49m\u001b[43munits\u001b[49m\u001b[38;5;241;43m=\u001b[39;49m\u001b[43mhead\u001b[49m\u001b[38;5;241;43m.\u001b[39;49m\u001b[43mlogits_dimension\u001b[49m\u001b[43m,\u001b[49m\n\u001b[0;32m    664\u001b[0m \u001b[43m      \u001b[49m\u001b[43mfeature_columns\u001b[49m\u001b[38;5;241;43m=\u001b[39;49m\u001b[43mfeature_columns\u001b[49m\u001b[43m,\u001b[49m\n\u001b[0;32m    665\u001b[0m \u001b[43m      \u001b[49m\u001b[43msparse_combiner\u001b[49m\u001b[38;5;241;43m=\u001b[39;49m\u001b[43msparse_combiner\u001b[49m\u001b[43m,\u001b[49m\n\u001b[0;32m    666\u001b[0m \u001b[43m      \u001b[49m\u001b[43mfeatures\u001b[49m\u001b[38;5;241;43m=\u001b[39;49m\u001b[43mfeatures\u001b[49m\u001b[43m)\u001b[49m\n\u001b[0;32m    668\u001b[0m   \u001b[38;5;66;03m# In TRAIN mode, create optimizer and assign global_step variable to\u001b[39;00m\n\u001b[0;32m    669\u001b[0m   \u001b[38;5;66;03m# optimizer.iterations to make global_step increased correctly, as Hooks\u001b[39;00m\n\u001b[0;32m    670\u001b[0m   \u001b[38;5;66;03m# relies on global step as step counter.\u001b[39;00m\n\u001b[0;32m    671\u001b[0m   \u001b[38;5;28;01mif\u001b[39;00m mode \u001b[38;5;241m==\u001b[39m ModeKeys\u001b[38;5;241m.\u001b[39mTRAIN:\n",
      "File \u001b[1;32mD:\\source\\repos\\venv\\Python310\\lib\\site-packages\\tensorflow_estimator\\python\\estimator\\canned\\linear.py:583\u001b[0m, in \u001b[0;36m_linear_model_fn_builder_v2\u001b[1;34m(units, feature_columns, sparse_combiner, features)\u001b[0m\n\u001b[0;32m    565\u001b[0m \u001b[38;5;124;03m\"\"\"Function builder for a linear model_fn.\u001b[39;00m\n\u001b[0;32m    566\u001b[0m \n\u001b[0;32m    567\u001b[0m \u001b[38;5;124;03mArgs:\u001b[39;00m\n\u001b[1;32m   (...)\u001b[0m\n\u001b[0;32m    580\u001b[0m \n\u001b[0;32m    581\u001b[0m \u001b[38;5;124;03m\"\"\"\u001b[39;00m\n\u001b[0;32m    582\u001b[0m \u001b[38;5;28;01mif\u001b[39;00m \u001b[38;5;129;01mnot\u001b[39;00m feature_column_lib\u001b[38;5;241m.\u001b[39mis_feature_column_v2(feature_columns):\n\u001b[1;32m--> 583\u001b[0m   \u001b[38;5;28;01mraise\u001b[39;00m \u001b[38;5;167;01mValueError\u001b[39;00m(\n\u001b[0;32m    584\u001b[0m       \u001b[38;5;124m'\u001b[39m\u001b[38;5;124mReceived a feature column from TensorFlow v1, but this is a \u001b[39m\u001b[38;5;124m'\u001b[39m\n\u001b[0;32m    585\u001b[0m       \u001b[38;5;124m'\u001b[39m\u001b[38;5;124mTensorFlow v2 Estimator. Please either use v2 feature columns \u001b[39m\u001b[38;5;124m'\u001b[39m\n\u001b[0;32m    586\u001b[0m       \u001b[38;5;124m'\u001b[39m\u001b[38;5;124m(accessible via tf.feature_column.* in TF 2.x) with this \u001b[39m\u001b[38;5;124m'\u001b[39m\n\u001b[0;32m    587\u001b[0m       \u001b[38;5;124m'\u001b[39m\u001b[38;5;124mEstimator, or switch to a v1 Estimator for use with v1 feature \u001b[39m\u001b[38;5;124m'\u001b[39m\n\u001b[0;32m    588\u001b[0m       \u001b[38;5;124m'\u001b[39m\u001b[38;5;124mcolumns (accessible via tf.compat.v1.estimator.* and \u001b[39m\u001b[38;5;124m'\u001b[39m\n\u001b[0;32m    589\u001b[0m       \u001b[38;5;124m'\u001b[39m\u001b[38;5;124mtf.compat.v1.feature_column.*, respectively.\u001b[39m\u001b[38;5;124m'\u001b[39m)\n\u001b[0;32m    591\u001b[0m \u001b[38;5;66;03m# Name scope has no effect on variables in LinearModel, as it uses\u001b[39;00m\n\u001b[0;32m    592\u001b[0m \u001b[38;5;66;03m# tf.get_variables() for variable creation. So we modify the model name to\u001b[39;00m\n\u001b[0;32m    593\u001b[0m \u001b[38;5;66;03m# keep the variable names the same for checkpoint backward compatibility.\u001b[39;00m\n\u001b[0;32m    594\u001b[0m linear_model \u001b[38;5;241m=\u001b[39m LinearModel(\n\u001b[0;32m    595\u001b[0m     feature_columns\u001b[38;5;241m=\u001b[39mfeature_columns,\n\u001b[0;32m    596\u001b[0m     units\u001b[38;5;241m=\u001b[39munits,\n\u001b[0;32m    597\u001b[0m     sparse_combiner\u001b[38;5;241m=\u001b[39msparse_combiner,\n\u001b[0;32m    598\u001b[0m     name\u001b[38;5;241m=\u001b[39m\u001b[38;5;124m'\u001b[39m\u001b[38;5;124mlinear/linear_model\u001b[39m\u001b[38;5;124m'\u001b[39m)\n",
      "\u001b[1;31mValueError\u001b[0m: Received a feature column from TensorFlow v1, but this is a TensorFlow v2 Estimator. Please either use v2 feature columns (accessible via tf.feature_column.* in TF 2.x) with this Estimator, or switch to a v1 Estimator for use with v1 feature columns (accessible via tf.compat.v1.estimator.* and tf.compat.v1.feature_column.*, respectively."
     ]
    }
   ],
   "source": [
    "estimator.evaluate(input_fn=inf)"
   ]
  },
  {
   "cell_type": "code",
   "execution_count": null,
   "id": "166274f6-87f9-4a30-954a-f5579459b690",
   "metadata": {},
   "outputs": [],
   "source": []
  }
 ],
 "metadata": {
  "kernelspec": {
   "display_name": "Python 3 (ipykernel)",
   "language": "python",
   "name": "python3"
  },
  "language_info": {
   "codemirror_mode": {
    "name": "ipython",
    "version": 3
   },
   "file_extension": ".py",
   "mimetype": "text/x-python",
   "name": "python",
   "nbconvert_exporter": "python",
   "pygments_lexer": "ipython3",
   "version": "3.10.9"
  }
 },
 "nbformat": 4,
 "nbformat_minor": 5
}
