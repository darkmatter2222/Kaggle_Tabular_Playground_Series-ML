{
 "cells": [
  {
   "cell_type": "code",
   "execution_count": 1,
   "id": "9964deea",
   "metadata": {
    "_cell_guid": "b1076dfc-b9ad-4769-8c92-a6c4dae69d19",
    "_uuid": "8f2839f25d086af736a60e9eeb907d3b93b6e0e5",
    "execution": {
     "iopub.execute_input": "2023-01-17T01:40:26.140054Z",
     "iopub.status.busy": "2023-01-17T01:40:26.139611Z",
     "iopub.status.idle": "2023-01-17T01:40:27.281240Z",
     "shell.execute_reply": "2023-01-17T01:40:27.280110Z"
    },
    "papermill": {
     "duration": 1.151195,
     "end_time": "2023-01-17T01:40:27.284084",
     "exception": false,
     "start_time": "2023-01-17T01:40:26.132889",
     "status": "completed"
    },
    "tags": []
   },
   "outputs": [],
   "source": [
    "import numpy as np\n",
    "import pandas as pd\n",
    "import matplotlib.pyplot as plt\n",
    "from sklearn.linear_model import LassoCV\n",
    "from sklearn.metrics import roc_auc_score\n",
    "from sklearn.preprocessing import StandardScaler\n",
    "from sklearn.model_selection import RepeatedKFold"
   ]
  },
  {
   "cell_type": "code",
   "execution_count": 2,
   "id": "cd37ada3",
   "metadata": {
    "execution": {
     "iopub.execute_input": "2023-01-17T01:40:27.292749Z",
     "iopub.status.busy": "2023-01-17T01:40:27.292402Z",
     "iopub.status.idle": "2023-01-17T01:40:27.299289Z",
     "shell.execute_reply": "2023-01-17T01:40:27.298084Z"
    },
    "papermill": {
     "duration": 0.013762,
     "end_time": "2023-01-17T01:40:27.301700",
     "exception": false,
     "start_time": "2023-01-17T01:40:27.287938",
     "status": "completed"
    },
    "tags": []
   },
   "outputs": [],
   "source": [
    "pd.set_option('max_columns', None)"
   ]
  },
  {
   "cell_type": "code",
   "execution_count": 3,
   "id": "08be2aab",
   "metadata": {
    "execution": {
     "iopub.execute_input": "2023-01-17T01:40:27.310459Z",
     "iopub.status.busy": "2023-01-17T01:40:27.310118Z",
     "iopub.status.idle": "2023-01-17T01:40:27.403313Z",
     "shell.execute_reply": "2023-01-17T01:40:27.401336Z"
    },
    "papermill": {
     "duration": 0.100653,
     "end_time": "2023-01-17T01:40:27.406053",
     "exception": false,
     "start_time": "2023-01-17T01:40:27.305400",
     "status": "completed"
    },
    "tags": []
   },
   "outputs": [
    {
     "name": "stdout",
     "output_type": "stream",
     "text": [
      "(1677, 34) (1470, 34) (1119, 33) (3147, 34)\n"
     ]
    }
   ],
   "source": [
    "train = pd.read_csv('../input/playground-series-s3e3/train.csv').drop('id', axis=1)\n",
    "orig = pd.read_csv('../input/ibm-hr-analytics-attrition-dataset/WA_Fn-UseC_-HR-Employee-Attrition.csv')\n",
    "test = pd.read_csv('../input/playground-series-s3e3/test.csv').drop('id', axis=1)\n",
    "\n",
    "orig = orig[list(train.columns)]\n",
    "\n",
    "train_all = pd.concat([train,orig], axis=0)\\\n",
    "              .reset_index(drop=True)\n",
    "print(train.shape, orig.shape, test.shape, train_all.shape)"
   ]
  },
  {
   "cell_type": "markdown",
   "id": "282bf9d6",
   "metadata": {
    "papermill": {
     "duration": 0.004326,
     "end_time": "2023-01-17T01:40:27.416689",
     "exception": false,
     "start_time": "2023-01-17T01:40:27.412363",
     "status": "completed"
    },
    "tags": []
   },
   "source": [
    "# Data Processing"
   ]
  },
  {
   "cell_type": "code",
   "execution_count": 4,
   "id": "6a4201fc",
   "metadata": {
    "execution": {
     "iopub.execute_input": "2023-01-17T01:40:27.425888Z",
     "iopub.status.busy": "2023-01-17T01:40:27.425264Z",
     "iopub.status.idle": "2023-01-17T01:40:27.437160Z",
     "shell.execute_reply": "2023-01-17T01:40:27.435921Z"
    },
    "papermill": {
     "duration": 0.019364,
     "end_time": "2023-01-17T01:40:27.439691",
     "exception": false,
     "start_time": "2023-01-17T01:40:27.420327",
     "status": "completed"
    },
    "tags": []
   },
   "outputs": [],
   "source": [
    "class data_processor:\n",
    "    def __init__(self):\n",
    "        self.scaler = None\n",
    "        \n",
    "    def preprocess_data(self, df, train=True):\n",
    "        # remove Over18\n",
    "        df = df.drop('Over18', axis=1)\n",
    "        \n",
    "        # binary representation\n",
    "        if train:\n",
    "            df['Attrition'] = df['Attrition'].replace({'Yes':1,\n",
    "                                                       'No':0})\n",
    "        df['OverTime'] = df['OverTime'].replace({'Yes':1,\n",
    "                                                 'No':0})\n",
    "        df['Gender'] = df['Gender'].replace({'Male':1,\n",
    "                                             'Female':0})\n",
    "        \n",
    "        # identify categorical columns\n",
    "        cat_cols = list(df.select_dtypes(include=['object']).columns)\n",
    "        \n",
    "        # one_hot_encode\n",
    "        df = pd.get_dummies(df, columns=cat_cols)\n",
    "\n",
    "        # LassoCV has standardize argument deprecated\n",
    "        # so lets do it within standardization step\n",
    "        scale_cols = [x for x in df.columns if x not in cat_cols+['OverTime','Gender','Attrition']]\n",
    "        \n",
    "        if train:\n",
    "            self.scaler = StandardScaler()\n",
    "            scaled = self.scaler.fit_transform(df[scale_cols])\n",
    "        else:\n",
    "            scaled = self.scaler.transform(df[scale_cols])\n",
    "        \n",
    "        df[scale_cols] = scaled\n",
    "        \n",
    "        return df"
   ]
  },
  {
   "cell_type": "code",
   "execution_count": 5,
   "id": "db31f1b3",
   "metadata": {
    "execution": {
     "iopub.execute_input": "2023-01-17T01:40:27.449630Z",
     "iopub.status.busy": "2023-01-17T01:40:27.448566Z",
     "iopub.status.idle": "2023-01-17T01:40:27.516484Z",
     "shell.execute_reply": "2023-01-17T01:40:27.515320Z"
    },
    "papermill": {
     "duration": 0.075466,
     "end_time": "2023-01-17T01:40:27.519092",
     "exception": false,
     "start_time": "2023-01-17T01:40:27.443626",
     "status": "completed"
    },
    "tags": []
   },
   "outputs": [],
   "source": [
    "processor = data_processor()\n",
    "train_all = processor.preprocess_data(train_all, train=True)\n",
    "test = processor.preprocess_data(test, train=False)"
   ]
  },
  {
   "cell_type": "code",
   "execution_count": 6,
   "id": "b958a850",
   "metadata": {
    "execution": {
     "iopub.execute_input": "2023-01-17T01:40:27.528568Z",
     "iopub.status.busy": "2023-01-17T01:40:27.527977Z",
     "iopub.status.idle": "2023-01-17T01:40:27.536526Z",
     "shell.execute_reply": "2023-01-17T01:40:27.535454Z"
    },
    "papermill": {
     "duration": 0.016041,
     "end_time": "2023-01-17T01:40:27.539140",
     "exception": false,
     "start_time": "2023-01-17T01:40:27.523099",
     "status": "completed"
    },
    "tags": []
   },
   "outputs": [],
   "source": [
    "X = train_all.drop('Attrition', axis=1)\n",
    "y = train_all['Attrition']"
   ]
  },
  {
   "cell_type": "markdown",
   "id": "7812c985",
   "metadata": {
    "papermill": {
     "duration": 0.003307,
     "end_time": "2023-01-17T01:40:27.546104",
     "exception": false,
     "start_time": "2023-01-17T01:40:27.542797",
     "status": "completed"
    },
    "tags": []
   },
   "source": [
    "# LassoCV\n",
    "\n",
    "Want to start off with the same approach as Tilii laid out in S3E3\n",
    "https://www.kaggle.com/code/tilii7/modeling-stroke-dataset-with-lasso-regression"
   ]
  },
  {
   "cell_type": "code",
   "execution_count": 7,
   "id": "5754e68b",
   "metadata": {
    "execution": {
     "iopub.execute_input": "2023-01-17T01:40:27.554674Z",
     "iopub.status.busy": "2023-01-17T01:40:27.554345Z",
     "iopub.status.idle": "2023-01-17T01:40:27.559667Z",
     "shell.execute_reply": "2023-01-17T01:40:27.558457Z"
    },
    "papermill": {
     "duration": 0.012157,
     "end_time": "2023-01-17T01:40:27.561820",
     "exception": false,
     "start_time": "2023-01-17T01:40:27.549663",
     "status": "completed"
    },
    "tags": []
   },
   "outputs": [],
   "source": [
    "n_folds = 5\n",
    "n_repeats = 10\n",
    "total_folds = n_folds*n_repeats\n",
    "rkf = RepeatedKFold(n_splits=n_folds, n_repeats=n_repeats, random_state=12345)"
   ]
  },
  {
   "cell_type": "code",
   "execution_count": 8,
   "id": "7cef84ad",
   "metadata": {
    "execution": {
     "iopub.execute_input": "2023-01-17T01:40:27.570788Z",
     "iopub.status.busy": "2023-01-17T01:40:27.569906Z",
     "iopub.status.idle": "2023-01-17T01:41:06.019606Z",
     "shell.execute_reply": "2023-01-17T01:41:06.017705Z"
    },
    "papermill": {
     "duration": 38.458192,
     "end_time": "2023-01-17T01:41:06.023594",
     "exception": false,
     "start_time": "2023-01-17T01:40:27.565402",
     "status": "completed"
    },
    "tags": []
   },
   "outputs": [
    {
     "name": "stdout",
     "output_type": "stream",
     "text": [
      "Fold 0\n",
      "Training LassoCV\n",
      "Val ROC AUC: 0.84357\n",
      "\n",
      "\n",
      "Fold 1\n",
      "Training LassoCV\n",
      "Val ROC AUC: 0.83798\n",
      "\n",
      "\n",
      "Fold 2\n",
      "Training LassoCV\n",
      "Val ROC AUC: 0.82315\n",
      "\n",
      "\n",
      "Fold 3\n",
      "Training LassoCV\n",
      "Val ROC AUC: 0.81965\n",
      "\n",
      "\n",
      "Fold 4\n",
      "Training LassoCV\n",
      "Val ROC AUC: 0.84829\n",
      "\n",
      "\n",
      "Fold 5\n",
      "Training LassoCV\n",
      "Val ROC AUC: 0.82619\n",
      "\n",
      "\n",
      "Fold 6\n",
      "Training LassoCV\n",
      "Val ROC AUC: 0.83604\n",
      "\n",
      "\n",
      "Fold 7\n",
      "Training LassoCV\n",
      "Val ROC AUC: 0.85425\n",
      "\n",
      "\n",
      "Fold 8\n",
      "Training LassoCV\n",
      "Val ROC AUC: 0.83259\n",
      "\n",
      "\n",
      "Fold 9\n",
      "Training LassoCV\n",
      "Val ROC AUC: 0.8114\n",
      "\n",
      "\n",
      "Fold 10\n",
      "Training LassoCV\n",
      "Val ROC AUC: 0.84688\n",
      "\n",
      "\n",
      "Fold 11\n",
      "Training LassoCV\n",
      "Val ROC AUC: 0.84762\n",
      "\n",
      "\n",
      "Fold 12\n",
      "Training LassoCV\n",
      "Val ROC AUC: 0.85026\n",
      "\n",
      "\n",
      "Fold 13\n",
      "Training LassoCV\n",
      "Val ROC AUC: 0.79328\n",
      "\n",
      "\n",
      "Fold 14\n",
      "Training LassoCV\n",
      "Val ROC AUC: 0.81449\n",
      "\n",
      "\n",
      "Fold 15\n",
      "Training LassoCV\n",
      "Val ROC AUC: 0.86746\n",
      "\n",
      "\n",
      "Fold 16\n",
      "Training LassoCV\n",
      "Val ROC AUC: 0.81973\n",
      "\n",
      "\n",
      "Fold 17\n",
      "Training LassoCV\n",
      "Val ROC AUC: 0.80553\n",
      "\n",
      "\n",
      "Fold 18\n",
      "Training LassoCV\n",
      "Val ROC AUC: 0.81384\n",
      "\n",
      "\n",
      "Fold 19\n",
      "Training LassoCV\n",
      "Val ROC AUC: 0.84517\n",
      "\n",
      "\n",
      "Fold 20\n",
      "Training LassoCV\n",
      "Val ROC AUC: 0.78735\n",
      "\n",
      "\n",
      "Fold 21\n",
      "Training LassoCV\n",
      "Val ROC AUC: 0.83421\n",
      "\n",
      "\n",
      "Fold 22\n",
      "Training LassoCV\n",
      "Val ROC AUC: 0.83384\n",
      "\n",
      "\n",
      "Fold 23\n",
      "Training LassoCV\n",
      "Val ROC AUC: 0.85259\n",
      "\n",
      "\n",
      "Fold 24\n",
      "Training LassoCV\n",
      "Val ROC AUC: 0.83752\n",
      "\n",
      "\n",
      "Fold 25\n",
      "Training LassoCV\n",
      "Val ROC AUC: 0.8468\n",
      "\n",
      "\n",
      "Fold 26\n",
      "Training LassoCV\n",
      "Val ROC AUC: 0.83823\n",
      "\n",
      "\n",
      "Fold 27\n",
      "Training LassoCV\n",
      "Val ROC AUC: 0.85243\n",
      "\n",
      "\n",
      "Fold 28\n",
      "Training LassoCV\n",
      "Val ROC AUC: 0.82556\n",
      "\n",
      "\n",
      "Fold 29\n",
      "Training LassoCV\n",
      "Val ROC AUC: 0.7972\n",
      "\n",
      "\n",
      "Fold 30\n",
      "Training LassoCV\n",
      "Val ROC AUC: 0.82747\n",
      "\n",
      "\n",
      "Fold 31\n",
      "Training LassoCV\n",
      "Val ROC AUC: 0.83617\n",
      "\n",
      "\n",
      "Fold 32\n",
      "Training LassoCV\n",
      "Val ROC AUC: 0.83237\n",
      "\n",
      "\n",
      "Fold 33\n",
      "Training LassoCV\n",
      "Val ROC AUC: 0.82563\n",
      "\n",
      "\n",
      "Fold 34\n",
      "Training LassoCV\n",
      "Val ROC AUC: 0.84259\n",
      "\n",
      "\n",
      "Fold 35\n",
      "Training LassoCV\n",
      "Val ROC AUC: 0.8313\n",
      "\n",
      "\n",
      "Fold 36\n",
      "Training LassoCV\n",
      "Val ROC AUC: 0.8574\n",
      "\n",
      "\n",
      "Fold 37\n",
      "Training LassoCV\n",
      "Val ROC AUC: 0.83015\n",
      "\n",
      "\n",
      "Fold 38\n",
      "Training LassoCV\n",
      "Val ROC AUC: 0.83197\n",
      "\n",
      "\n",
      "Fold 39\n",
      "Training LassoCV\n",
      "Val ROC AUC: 0.80324\n",
      "\n",
      "\n",
      "Fold 40\n",
      "Training LassoCV\n",
      "Val ROC AUC: 0.82767\n",
      "\n",
      "\n",
      "Fold 41\n",
      "Training LassoCV\n",
      "Val ROC AUC: 0.81552\n",
      "\n",
      "\n",
      "Fold 42\n",
      "Training LassoCV\n",
      "Val ROC AUC: 0.8417\n",
      "\n",
      "\n",
      "Fold 43\n",
      "Training LassoCV\n",
      "Val ROC AUC: 0.83032\n",
      "\n",
      "\n",
      "Fold 44\n",
      "Training LassoCV\n",
      "Val ROC AUC: 0.8325\n",
      "\n",
      "\n",
      "Fold 45\n",
      "Training LassoCV\n",
      "Val ROC AUC: 0.85912\n",
      "\n",
      "\n",
      "Fold 46\n",
      "Training LassoCV\n",
      "Val ROC AUC: 0.86973\n",
      "\n",
      "\n",
      "Fold 47\n",
      "Training LassoCV\n",
      "Val ROC AUC: 0.81434\n",
      "\n",
      "\n",
      "Fold 48\n",
      "Training LassoCV\n",
      "Val ROC AUC: 0.80491\n",
      "\n",
      "\n",
      "Fold 49\n",
      "Training LassoCV\n",
      "Val ROC AUC: 0.79458\n",
      "\n",
      "\n",
      "Overall ROC AUC: 0.83221\n",
      "CPU times: user 54.8 s, sys: 25.7 s, total: 1min 20s\n",
      "Wall time: 38.4 s\n"
     ]
    }
   ],
   "source": [
    "%%time\n",
    "test_preds = np.zeros((len(test),))\n",
    "oof_preds = np.zeros((len(train_all),))\n",
    "\n",
    "for i, (train_index, val_index) in enumerate(rkf.split(X, y)):\n",
    "    print(\"Fold {}\".format(i))\n",
    "    # split data into train/val\n",
    "    X_train, X_val = X.loc[train_index], X.loc[val_index]\n",
    "    y_train, y_val = y[train_index], y[val_index]\n",
    "    \n",
    "    # train all models\n",
    "    print('Training LassoCV')\n",
    "    lasso_cv = LassoCV(precompute=\"auto\",\n",
    "                       fit_intercept=True,\n",
    "                       max_iter=10000,\n",
    "                       verbose=False,\n",
    "                       eps=1e-04,\n",
    "                       cv=3,\n",
    "                       n_alphas=1000,\n",
    "                       n_jobs=-1)\n",
    "    lasso_cv.fit(X_train, y_train)\n",
    "    \n",
    "    # make predictions\n",
    "    lasso_train_preds = lasso_cv.predict(X_train)\n",
    "    lasso_train_preds = 1/(1 + np.exp(-lasso_train_preds))\n",
    "    lasso_val_preds = lasso_cv.predict(X_val)\n",
    "    lasso_val_preds = 1/(1 + np.exp(-lasso_val_preds))\n",
    "    lasso_test_preds = lasso_cv.predict(test)\n",
    "    lasso_test_preds = 1/(1 + np.exp(-lasso_test_preds))\n",
    "    \n",
    "    oof_preds[val_index] += lasso_val_preds/total_folds\n",
    "    test_preds += lasso_test_preds/total_folds\n",
    "    \n",
    "    # print validation score\n",
    "    val_roc_auc = np.round(roc_auc_score(y_val, lasso_val_preds), 5)\n",
    "    print(\"Val ROC AUC: {}\".format(val_roc_auc))\n",
    "    \n",
    "    print(\"\")\n",
    "    print(\"\")\n",
    "\n",
    "oof_auc = np.round(roc_auc_score(y, oof_preds), 5)\n",
    "print(\"Overall ROC AUC: {}\".format(oof_auc))"
   ]
  },
  {
   "cell_type": "code",
   "execution_count": 9,
   "id": "0dfe7a5c",
   "metadata": {
    "execution": {
     "iopub.execute_input": "2023-01-17T01:41:06.087447Z",
     "iopub.status.busy": "2023-01-17T01:41:06.086800Z",
     "iopub.status.idle": "2023-01-17T01:41:07.127796Z",
     "shell.execute_reply": "2023-01-17T01:41:07.126668Z"
    },
    "papermill": {
     "duration": 1.079505,
     "end_time": "2023-01-17T01:41:07.130292",
     "exception": false,
     "start_time": "2023-01-17T01:41:06.050787",
     "status": "completed"
    },
    "tags": []
   },
   "outputs": [
    {
     "data": {
      "image/png": "[encoded data removed]",
      "text/plain": [
       "<Figure size 432x864 with 1 Axes>"
      ]
     },
     "metadata": {
      "needs_background": "light"
     },
     "output_type": "display_data"
    }
   ],
   "source": [
    "coef = pd.DataFrame(lasso_cv.coef_, columns=[\"LassoCV_score\"])\n",
    "coef[\"Feature\"] = list(X_train.columns)\n",
    "coef[\"Relative score\"] = coef[\"LassoCV_score\"] / coef[\"LassoCV_score\"].sum()\n",
    "coef = coef.sort_values(\"Relative score\", ascending=False)\n",
    "coef = coef[[\"Feature\", \"LassoCV_score\", \"Relative score\"]]\n",
    "\n",
    "coef.plot(kind=\"barh\", x=\"Feature\", y=\"LassoCV_score\", legend=False, figsize=(6, 12))\n",
    "plt.title(\"Features Coefficients\")\n",
    "plt.xlabel(\"LassoCV score\")\n",
    "plt.show()"
   ]
  },
  {
   "cell_type": "markdown",
   "id": "2fb87e07",
   "metadata": {
    "papermill": {
     "duration": 0.007515,
     "end_time": "2023-01-17T01:41:07.145753",
     "exception": false,
     "start_time": "2023-01-17T01:41:07.138238",
     "status": "completed"
    },
    "tags": []
   },
   "source": [
    "# Make Submission"
   ]
  },
  {
   "cell_type": "code",
   "execution_count": 10,
   "id": "4a36b557",
   "metadata": {
    "execution": {
     "iopub.execute_input": "2023-01-17T01:41:07.162895Z",
     "iopub.status.busy": "2023-01-17T01:41:07.162241Z",
     "iopub.status.idle": "2023-01-17T01:41:07.181089Z",
     "shell.execute_reply": "2023-01-17T01:41:07.179892Z"
    },
    "papermill": {
     "duration": 0.030446,
     "end_time": "2023-01-17T01:41:07.183669",
     "exception": false,
     "start_time": "2023-01-17T01:41:07.153223",
     "status": "completed"
    },
    "tags": []
   },
   "outputs": [],
   "source": [
    "sub = pd.read_csv('../input/playground-series-s3e3/sample_submission.csv')\n",
    "sub['Attrition'] = lasso_test_preds\n",
    "sub.to_csv('submission.csv', header=True, index=False)"
   ]
  }
 ],
 "metadata": {
  "kernelspec": {
   "display_name": "Python 3 (ipykernel)",
   "language": "python",
   "name": "python3"
  },
  "language_info": {
   "codemirror_mode": {
    "name": "ipython",
    "version": 3
   },
   "file_extension": ".py",
   "mimetype": "text/x-python",
   "name": "python",
   "nbconvert_exporter": "python",
   "pygments_lexer": "ipython3",
   "version": "3.10.9"
  },
  "papermill": {
   "default_parameters": {},
   "duration": 50.082422,
   "end_time": "2023-01-17T01:41:07.913382",
   "environment_variables": {},
   "exception": null,
   "input_path": "__notebook__.ipynb",
   "output_path": "__notebook__.ipynb",
   "parameters": {},
   "start_time": "2023-01-17T01:40:17.830960",
   "version": "2.3.4"
  }
 },
 "nbformat": 4,
 "nbformat_minor": 5
}
