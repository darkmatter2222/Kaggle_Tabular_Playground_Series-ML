{
 "cells": [
  {
   "cell_type": "code",
   "execution_count": 1,
   "id": "936b5758-0b17-4f59-bdfa-beb3ee47a143",
   "metadata": {},
   "outputs": [],
   "source": [
    "import numpy as np\n",
    "import pandas as pd\n",
    "import math\n",
    "import sys, os\n",
    "#import seaborn as sns\n",
    "#from scipy import stats\n",
    "#from pathlib import Path\n",
    "#import matplotlib.pyplot as plt\n",
    "#from sklearn.model_selection import KFold\n",
    "from sklearn.preprocessing import MinMaxScaler\n",
    "from sklearn.model_selection import train_test_split\n",
    "#from sklearn.metrics import mean_squared_error\n",
    "#from sklearn.metrics import mean_squared_error\n",
    "#from sklearn.preprocessing import MinMaxScaler\n",
    "#from sklearn.datasets import fetch_california_housing\n",
    "#import math\n",
    "from tqdm import tqdm\n",
    "from sklearn.feature_extraction.text import CountVectorizer\n",
    "import optuna\n",
    "from optuna.samplers import TPESampler\n",
    "#import lightgbm as lgbm\n",
    "#from xgboost import XGBRegressor\n",
    "import xgboost as xgb\n",
    "#from catboost import CatBoostRegressor\n",
    "#from lightgbm.sklearn import LGBMRegressor\n",
    "#from sklearn.ensemble import RandomForestRegressor\n",
    "import pickle\n",
    "from sklearn.metrics import roc_curve, auc\n",
    "pd.set_option('display.max_columns', 500)"
   ]
  },
  {
   "cell_type": "code",
   "execution_count": 2,
   "id": "30af7575-c694-4420-81e3-8f4608abc789",
   "metadata": {},
   "outputs": [],
   "source": [
    "sys.path.append(os.path.realpath('..'))"
   ]
  },
  {
   "cell_type": "code",
   "execution_count": 3,
   "id": "1ae92e2f-1d42-4d7f-953e-6cb3b5eb9e0e",
   "metadata": {},
   "outputs": [],
   "source": [
    "train_df = pd.read_csv(r\"..\\data\\train.csv\", index_col=0)\n",
    "test_df = pd.read_csv(r\"..\\data\\test.csv\", index_col=0)\n",
    "sample_sub = pd.read_csv(r\"..\\data\\sample_submission.csv\", index_col=0)"
   ]
  },
  {
   "cell_type": "code",
   "execution_count": 4,
   "id": "433cce54-7033-4c6a-8fbb-bdee32110ecd",
   "metadata": {},
   "outputs": [
    {
     "data": {
      "text/html": [
       "<div>\n",
       "<style scoped>\n",
       "    .dataframe tbody tr th:only-of-type {\n",
       "        vertical-align: middle;\n",
       "    }\n",
       "\n",
       "    .dataframe tbody tr th {\n",
       "        vertical-align: top;\n",
       "    }\n",
       "\n",
       "    .dataframe thead th {\n",
       "        text-align: right;\n",
       "    }\n",
       "</style>\n",
       "<table border=\"1\" class=\"dataframe\">\n",
       "  <thead>\n",
       "    <tr style=\"text-align: right;\">\n",
       "      <th></th>\n",
       "      <th>Total</th>\n",
       "      <th>Percent</th>\n",
       "    </tr>\n",
       "  </thead>\n",
       "  <tbody>\n",
       "    <tr>\n",
       "      <th>Age</th>\n",
       "      <td>0</td>\n",
       "      <td>0.0</td>\n",
       "    </tr>\n",
       "    <tr>\n",
       "      <th>StockOptionLevel</th>\n",
       "      <td>0</td>\n",
       "      <td>0.0</td>\n",
       "    </tr>\n",
       "    <tr>\n",
       "      <th>Over18</th>\n",
       "      <td>0</td>\n",
       "      <td>0.0</td>\n",
       "    </tr>\n",
       "    <tr>\n",
       "      <th>OverTime</th>\n",
       "      <td>0</td>\n",
       "      <td>0.0</td>\n",
       "    </tr>\n",
       "    <tr>\n",
       "      <th>PercentSalaryHike</th>\n",
       "      <td>0</td>\n",
       "      <td>0.0</td>\n",
       "    </tr>\n",
       "    <tr>\n",
       "      <th>PerformanceRating</th>\n",
       "      <td>0</td>\n",
       "      <td>0.0</td>\n",
       "    </tr>\n",
       "    <tr>\n",
       "      <th>RelationshipSatisfaction</th>\n",
       "      <td>0</td>\n",
       "      <td>0.0</td>\n",
       "    </tr>\n",
       "    <tr>\n",
       "      <th>StandardHours</th>\n",
       "      <td>0</td>\n",
       "      <td>0.0</td>\n",
       "    </tr>\n",
       "    <tr>\n",
       "      <th>TotalWorkingYears</th>\n",
       "      <td>0</td>\n",
       "      <td>0.0</td>\n",
       "    </tr>\n",
       "    <tr>\n",
       "      <th>BusinessTravel</th>\n",
       "      <td>0</td>\n",
       "      <td>0.0</td>\n",
       "    </tr>\n",
       "  </tbody>\n",
       "</table>\n",
       "</div>"
      ],
      "text/plain": [
       "                          Total  Percent\n",
       "Age                           0      0.0\n",
       "StockOptionLevel              0      0.0\n",
       "Over18                        0      0.0\n",
       "OverTime                      0      0.0\n",
       "PercentSalaryHike             0      0.0\n",
       "PerformanceRating             0      0.0\n",
       "RelationshipSatisfaction      0      0.0\n",
       "StandardHours                 0      0.0\n",
       "TotalWorkingYears             0      0.0\n",
       "BusinessTravel                0      0.0"
      ]
     },
     "execution_count": 4,
     "metadata": {},
     "output_type": "execute_result"
    }
   ],
   "source": [
    "total = train_df.isnull().sum().sort_values(ascending=False)\n",
    "percent = (train_df.isnull().sum()/train_df.isnull().count()).sort_values(ascending=False)\n",
    "missing_data = pd.concat([total, percent], axis=1, keys=['Total', 'Percent'])\n",
    "missing_data.head(10)"
   ]
  },
  {
   "cell_type": "code",
   "execution_count": 5,
   "id": "09ca2d44-448c-45a8-a500-15ffd3b3041f",
   "metadata": {},
   "outputs": [],
   "source": [
    "del train_df['Over18']"
   ]
  },
  {
   "cell_type": "code",
   "execution_count": 6,
   "id": "bcc257a3-0717-47f3-911a-40404ffbf02f",
   "metadata": {},
   "outputs": [
    {
     "name": "stdout",
     "output_type": "stream",
     "text": [
      "BusinessTravel\n",
      "Department\n",
      "EducationField\n",
      "Gender\n",
      "JobRole\n",
      "MaritalStatus\n",
      "OverTime\n"
     ]
    }
   ],
   "source": [
    "columns_to_vectorize = ['BusinessTravel', 'Department', 'EducationField', 'Gender', 'JobRole', 'MaritalStatus', 'OverTime']\n",
    "for vector_target in columns_to_vectorize:\n",
    "    print(vector_target)\n",
    "    vectorizer = CountVectorizer()\n",
    "    vectorizer.fit_transform(train_df[vector_target])\n",
    "    train_df[f'{vector_target}_v'] = vectorizer.transform(train_df[vector_target]).toarray().argmax(axis=1)[:,None]\n",
    "    vectorizer.fit_transform(test_df[vector_target])\n",
    "    test_df[f'{vector_target}_v'] = vectorizer.transform(test_df[vector_target]).toarray().argmax(axis=1)[:,None]"
   ]
  },
  {
   "cell_type": "code",
   "execution_count": 7,
   "id": "07c98496-4686-4c3b-9f17-0dde61466ad9",
   "metadata": {},
   "outputs": [
    {
     "data": {
      "text/plain": [
       "Index(['Age', 'BusinessTravel', 'DailyRate', 'Department', 'DistanceFromHome',\n",
       "       'Education', 'EducationField', 'EmployeeCount',\n",
       "       'EnvironmentSatisfaction', 'Gender', 'HourlyRate', 'JobInvolvement',\n",
       "       'JobLevel', 'JobRole', 'JobSatisfaction', 'MaritalStatus',\n",
       "       'MonthlyIncome', 'MonthlyRate', 'NumCompaniesWorked', 'OverTime',\n",
       "       'PercentSalaryHike', 'PerformanceRating', 'RelationshipSatisfaction',\n",
       "       'StandardHours', 'StockOptionLevel', 'TotalWorkingYears',\n",
       "       'TrainingTimesLastYear', 'WorkLifeBalance', 'YearsAtCompany',\n",
       "       'YearsInCurrentRole', 'YearsSinceLastPromotion', 'YearsWithCurrManager',\n",
       "       'Attrition', 'BusinessTravel_v', 'Department_v', 'EducationField_v',\n",
       "       'Gender_v', 'JobRole_v', 'MaritalStatus_v', 'OverTime_v'],\n",
       "      dtype='object')"
      ]
     },
     "execution_count": 7,
     "metadata": {},
     "output_type": "execute_result"
    }
   ],
   "source": [
    "train_df.columns"
   ]
  },
  {
   "cell_type": "code",
   "execution_count": 8,
   "id": "1d2b4c9f-993a-45f0-b216-294e6c732919",
   "metadata": {},
   "outputs": [],
   "source": [
    "features = ['Age', 'DailyRate', 'DistanceFromHome', 'Education', 'EmployeeCount', 'EnvironmentSatisfaction','HourlyRate', 'JobInvolvement', 'JobLevel', 'JobSatisfaction', \n",
    "       'MonthlyIncome', 'MonthlyRate', 'NumCompaniesWorked', 'PercentSalaryHike', 'PerformanceRating', 'RelationshipSatisfaction', 'StandardHours', 'StockOptionLevel', 'TotalWorkingYears',\n",
    "       'TrainingTimesLastYear', 'WorkLifeBalance', 'YearsAtCompany', 'YearsInCurrentRole', 'YearsSinceLastPromotion', 'YearsWithCurrManager',\n",
    "        'BusinessTravel_v', 'Department_v', 'EducationField_v','Gender_v', 'JobRole_v', 'MaritalStatus_v', 'OverTime_v']\n",
    "target = ['Attrition']"
   ]
  },
  {
   "cell_type": "code",
   "execution_count": 9,
   "id": "ed6f4daf-2da6-415b-9ef1-c9def5ae5dee",
   "metadata": {},
   "outputs": [],
   "source": [
    "scaler = MinMaxScaler().fit(train_df[features])\n",
    "X = scaler.transform(train_df[features])\n",
    "X_test = scaler.transform(test_df[features])\n",
    "\n",
    "scaler = MinMaxScaler().fit(train_df[target])\n",
    "Y = scaler.transform(train_df[target])"
   ]
  },
  {
   "cell_type": "code",
   "execution_count": 10,
   "id": "93d94162-bba5-4e9d-aed8-2be1540e71ec",
   "metadata": {},
   "outputs": [
    {
     "name": "stdout",
     "output_type": "stream",
     "text": [
      "0.0 1.0\n"
     ]
    }
   ],
   "source": [
    "y_min = Y.min()\n",
    "y_max = Y.max()\n",
    "\n",
    "print(y_min, y_max)\n",
    "\n",
    "def my_rmse(y_true, y_hat):\n",
    "    y_true[y_true < y_min] = y_min\n",
    "    y_true[y_true > y_max] = y_max\n",
    "    \n",
    "    y_hat[y_hat < y_min] = y_min\n",
    "    y_hat[y_hat > y_max] = y_max\n",
    "    \n",
    "    y_true_nan = np.isnan(y_true)\n",
    "    y_hat_nan = np.isnan(y_hat)\n",
    "    \n",
    "    if y_true_nan.sum() > 0:\n",
    "        print(y_true_nan.sum())\n",
    "        np.where(y_true_nan, np.ma.array(y_true, mask=np.isnan(y_true)).mean(axis=0), y_true)\n",
    "    if y_hat_nan.sum() > 0:\n",
    "        print(y_hat_nan.sum())\n",
    "        np.where(y_hat_nan, np.ma.array(y_hat, mask=np.isnan(y_hat)).mean(axis=0), y_hat)\n",
    "    \n",
    "    return mean_squared_error(y_true, y_hat, squared=False)"
   ]
  },
  {
   "cell_type": "code",
   "execution_count": 13,
   "id": "3792b021-1d48-4fcb-8c45-141801c79c3c",
   "metadata": {},
   "outputs": [],
   "source": [
    "def xgb_objective(trial):\n",
    "    # Split the train data for each trial.\n",
    "    X_train, X_valid, y_train, y_valid = train_test_split(X, Y, stratify=Y, test_size=0.4)\n",
    "\n",
    "    param_grid = {\n",
    "        'max_depth': trial.suggest_int('max_depth', 4, 20),\n",
    "        'n_estimators': trial.suggest_int('n_estimators', 2, 1000, 1), \n",
    "        #'eta': trial.suggest_float('eta', 0.07, 0.113), \n",
    "        'subsample': trial.suggest_float('subsample', 0.1, 1),\n",
    "        'colsample_bytree': trial.suggest_float('colsample_bytree', 0.1, 1),\n",
    "        'reg_lambda': trial.suggest_float('reg_lambda', 1, 40), \n",
    "    } \n",
    "    \n",
    "    reg = xgb.XGBModel(\n",
    "        # These parameters should help with trial speed.\n",
    "        objective='binary:logistic',\n",
    "        tree_method='gpu_hist',\n",
    "        booster='gbtree',\n",
    "        predictor='gpu_predictor',\n",
    "        n_jobs=4,\n",
    "        eval_metric='auc',\n",
    "        early_stopping_rounds=100,\n",
    "        **param_grid\n",
    "    )\n",
    "    \n",
    "    reg.fit(X_train, y_train, eval_set=[(X_valid, y_valid)], verbose=False)\n",
    "    \n",
    "    preds = reg.predict(X_valid)\n",
    "    fpr, tpr, _ = roc_curve(y_valid, preds)\n",
    "    roc_auc = auc(fpr, tpr)\n",
    "\n",
    "    xgb_ranks[roc_auc] = reg\n",
    "\n",
    "    return roc_auc"
   ]
  },
  {
   "cell_type": "code",
   "execution_count": null,
   "id": "7f4e825a-2d95-42b8-aca9-3427b86c38fc",
   "metadata": {
    "tags": []
   },
   "outputs": [
    {
     "name": "stderr",
     "output_type": "stream",
     "text": [
      "\u001b[32m[I 2023-01-16 20:58:19,529]\u001b[0m A new study created in memory with name: XGBRegressor\u001b[0m\n",
      "\u001b[32m[I 2023-01-16 20:58:20,890]\u001b[0m Trial 0 finished with value: 0.8322758037225043 and parameters: {'max_depth': 16, 'n_estimators': 387, 'subsample': 0.23418784835341802, 'colsample_bytree': 0.13728955296391276, 'reg_lambda': 37.314988482511275}. Best is trial 0 with value: 0.8322758037225043.\u001b[0m\n",
      "\u001b[32m[I 2023-01-16 20:58:21,645]\u001b[0m Trial 1 finished with value: 0.8156937394247038 and parameters: {'max_depth': 20, 'n_estimators': 769, 'subsample': 0.415030230513027, 'colsample_bytree': 0.7102002864968147, 'reg_lambda': 33.0227458220041}. Best is trial 0 with value: 0.8322758037225043.\u001b[0m\n",
      "\u001b[32m[I 2023-01-16 20:58:22,197]\u001b[0m Trial 2 finished with value: 0.824851945854484 and parameters: {'max_depth': 4, 'n_estimators': 506, 'subsample': 0.2930931764112086, 'colsample_bytree': 0.4379388397342796, 'reg_lambda': 15.263497838504307}. Best is trial 0 with value: 0.8322758037225043.\u001b[0m\n",
      "\u001b[32m[I 2023-01-16 20:58:23,396]\u001b[0m Trial 3 finished with value: 0.8300549915397631 and parameters: {'max_depth': 17, 'n_estimators': 937, 'subsample': 0.3088184201851776, 'colsample_bytree': 0.7128590982501634, 'reg_lambda': 36.1776355519908}. Best is trial 0 with value: 0.8322758037225043.\u001b[0m\n",
      "\u001b[32m[I 2023-01-16 20:58:24,389]\u001b[0m Trial 4 finished with value: 0.8346023688663282 and parameters: {'max_depth': 8, 'n_estimators': 754, 'subsample': 0.7843705314400572, 'colsample_bytree': 0.23674199682317004, 'reg_lambda': 18.97671749638197}. Best is trial 4 with value: 0.8346023688663282.\u001b[0m\n",
      "\u001b[32m[I 2023-01-16 20:58:25,100]\u001b[0m Trial 5 finished with value: 0.8210871404399324 and parameters: {'max_depth': 6, 'n_estimators': 990, 'subsample': 0.18991383355986075, 'colsample_bytree': 0.1296457959260903, 'reg_lambda': 4.328086239088324}. Best is trial 4 with value: 0.8346023688663282.\u001b[0m\n",
      "\u001b[32m[I 2023-01-16 20:58:26,041]\u001b[0m Trial 6 finished with value: 0.8303510998307952 and parameters: {'max_depth': 16, 'n_estimators': 227, 'subsample': 0.6735096903083965, 'colsample_bytree': 0.1679524413899787, 'reg_lambda': 22.964354840048074}. Best is trial 4 with value: 0.8346023688663282.\u001b[0m\n",
      "\u001b[32m[I 2023-01-16 20:58:27,275]\u001b[0m Trial 7 finished with value: 0.832741116751269 and parameters: {'max_depth': 12, 'n_estimators': 849, 'subsample': 0.2317924250198823, 'colsample_bytree': 0.36445996168072203, 'reg_lambda': 37.33724813875068}. Best is trial 4 with value: 0.8346023688663282.\u001b[0m\n",
      "\u001b[32m[I 2023-01-16 20:58:28,115]\u001b[0m Trial 8 finished with value: 0.8563663282571913 and parameters: {'max_depth': 14, 'n_estimators': 859, 'subsample': 0.8198055544165826, 'colsample_bytree': 0.28860525785299185, 'reg_lambda': 12.441922919879223}. Best is trial 8 with value: 0.8563663282571913.\u001b[0m\n",
      "\u001b[32m[I 2023-01-16 20:58:28,893]\u001b[0m Trial 9 finished with value: 0.8123307952622674 and parameters: {'max_depth': 14, 'n_estimators': 957, 'subsample': 0.6091249769092921, 'colsample_bytree': 0.8950039602026054, 'reg_lambda': 20.529371744840585}. Best is trial 8 with value: 0.8563663282571913.\u001b[0m\n",
      "\u001b[32m[I 2023-01-16 20:58:30,191]\u001b[0m Trial 10 finished with value: 0.7694373942470389 and parameters: {'max_depth': 10, 'n_estimators': 596, 'subsample': 0.9174006328138097, 'colsample_bytree': 0.5826585932708342, 'reg_lambda': 4.1363337275886956}. Best is trial 8 with value: 0.8563663282571913.\u001b[0m\n",
      "\u001b[32m[I 2023-01-16 20:58:30,969]\u001b[0m Trial 11 finished with value: 0.836992385786802 and parameters: {'max_depth': 9, 'n_estimators': 690, 'subsample': 0.8520581680866923, 'colsample_bytree': 0.3265575714994031, 'reg_lambda': 10.802949589671037}. Best is trial 8 with value: 0.8563663282571913.\u001b[0m\n",
      "\u001b[32m[I 2023-01-16 20:58:31,681]\u001b[0m Trial 12 finished with value: 0.8568739424703893 and parameters: {'max_depth': 11, 'n_estimators': 638, 'subsample': 0.974218642467546, 'colsample_bytree': 0.33751208096695984, 'reg_lambda': 11.196187598811019}. Best is trial 12 with value: 0.8568739424703893.\u001b[0m\n",
      "\u001b[32m[I 2023-01-16 20:58:31,926]\u001b[0m Trial 13 finished with value: 0.8192893401015228 and parameters: {'max_depth': 12, 'n_estimators': 37, 'subsample': 0.9754080111942367, 'colsample_bytree': 0.46732240498040367, 'reg_lambda': 9.72767983178058}. Best is trial 12 with value: 0.8568739424703893.\u001b[0m\n",
      "\u001b[32m[I 2023-01-16 20:58:32,686]\u001b[0m Trial 14 finished with value: 0.835427241962775 and parameters: {'max_depth': 13, 'n_estimators': 601, 'subsample': 0.7503128119284929, 'colsample_bytree': 0.291247020496234, 'reg_lambda': 27.393134997245287}. Best is trial 12 with value: 0.8568739424703893.\u001b[0m\n",
      "\u001b[32m[I 2023-01-16 20:58:33,271]\u001b[0m Trial 15 finished with value: 0.7810490693739425 and parameters: {'max_depth': 19, 'n_estimators': 392, 'subsample': 0.5328162639125679, 'colsample_bytree': 0.5885418206250893, 'reg_lambda': 11.53809468863892}. Best is trial 12 with value: 0.8568739424703893.\u001b[0m\n",
      "\u001b[32m[I 2023-01-16 20:58:34,154]\u001b[0m Trial 16 finished with value: 0.8450084602368866 and parameters: {'max_depth': 11, 'n_estimators': 819, 'subsample': 0.9594940423285425, 'colsample_bytree': 0.4422516182129878, 'reg_lambda': 16.056900608015468}. Best is trial 12 with value: 0.8568739424703893.\u001b[0m\n",
      "\u001b[32m[I 2023-01-16 20:58:35,056]\u001b[0m Trial 17 finished with value: 0.8365482233502538 and parameters: {'max_depth': 15, 'n_estimators': 613, 'subsample': 0.8296025834553588, 'colsample_bytree': 0.24904569640662988, 'reg_lambda': 1.1701853757240208}. Best is trial 12 with value: 0.8568739424703893.\u001b[0m\n",
      "\u001b[32m[I 2023-01-16 20:58:35,757]\u001b[0m Trial 18 finished with value: 0.8034686971235194 and parameters: {'max_depth': 7, 'n_estimators': 307, 'subsample': 0.9992172325843556, 'colsample_bytree': 0.3617160506466107, 'reg_lambda': 24.89828646422245}. Best is trial 12 with value: 0.8568739424703893.\u001b[0m\n",
      "\u001b[32m[I 2023-01-16 20:58:36,453]\u001b[0m Trial 19 finished with value: 0.7416455160744501 and parameters: {'max_depth': 18, 'n_estimators': 877, 'subsample': 0.6897083326796586, 'colsample_bytree': 0.9654904359734885, 'reg_lambda': 7.287241899567112}. Best is trial 12 with value: 0.8568739424703893.\u001b[0m\n",
      "\u001b[32m[I 2023-01-16 20:58:37,449]\u001b[0m Trial 20 finished with value: 0.8447546531302876 and parameters: {'max_depth': 14, 'n_estimators': 683, 'subsample': 0.515788294566291, 'colsample_bytree': 0.5087247813493934, 'reg_lambda': 15.2214444673951}. Best is trial 12 with value: 0.8568739424703893.\u001b[0m\n",
      "\u001b[32m[I 2023-01-16 20:58:38,099]\u001b[0m Trial 21 finished with value: 0.835934856175973 and parameters: {'max_depth': 11, 'n_estimators': 819, 'subsample': 0.8992359608438226, 'colsample_bytree': 0.4076861577345266, 'reg_lambda': 15.666556794348168}. Best is trial 12 with value: 0.8568739424703893.\u001b[0m\n",
      "\u001b[32m[I 2023-01-16 20:58:38,732]\u001b[0m Trial 22 finished with value: 0.7992808798646363 and parameters: {'max_depth': 10, 'n_estimators': 717, 'subsample': 0.9338843175403757, 'colsample_bytree': 0.2253144646913917, 'reg_lambda': 13.13703701971685}. Best is trial 12 with value: 0.8568739424703893.\u001b[0m\n",
      "\u001b[32m[I 2023-01-16 20:58:39,306]\u001b[0m Trial 23 finished with value: 0.8256133671742809 and parameters: {'max_depth': 12, 'n_estimators': 881, 'subsample': 0.8587534444214954, 'colsample_bytree': 0.5344068758367173, 'reg_lambda': 17.62205949123733}. Best is trial 12 with value: 0.8568739424703893.\u001b[0m\n",
      "\u001b[32m[I 2023-01-16 20:58:40,244]\u001b[0m Trial 24 finished with value: 0.8035532994923859 and parameters: {'max_depth': 10, 'n_estimators': 511, 'subsample': 0.9997879312175673, 'colsample_bytree': 0.6768457982471465, 'reg_lambda': 7.421535000887019}. Best is trial 12 with value: 0.8568739424703893.\u001b[0m\n",
      "\u001b[32m[I 2023-01-16 20:58:41,091]\u001b[0m Trial 25 finished with value: 0.8449238578680203 and parameters: {'max_depth': 14, 'n_estimators': 799, 'subsample': 0.7613121039441727, 'colsample_bytree': 0.40130631249934046, 'reg_lambda': 28.309237011026674}. Best is trial 12 with value: 0.8568739424703893.\u001b[0m\n",
      "\u001b[32m[I 2023-01-16 20:58:42,006]\u001b[0m Trial 26 finished with value: 0.8378384094754652 and parameters: {'max_depth': 13, 'n_estimators': 647, 'subsample': 0.9295417495467494, 'colsample_bytree': 0.28621605966017, 'reg_lambda': 21.013160961562296}. Best is trial 12 with value: 0.8568739424703893.\u001b[0m\n",
      "\u001b[32m[I 2023-01-16 20:58:42,677]\u001b[0m Trial 27 finished with value: 0.8095812182741117 and parameters: {'max_depth': 8, 'n_estimators': 924, 'subsample': 0.818939592281292, 'colsample_bytree': 0.487303060685322, 'reg_lambda': 8.219605540454028}. Best is trial 12 with value: 0.8568739424703893.\u001b[0m\n",
      "\u001b[32m[I 2023-01-16 20:58:43,387]\u001b[0m Trial 28 finished with value: 0.8423857868020304 and parameters: {'max_depth': 11, 'n_estimators': 546, 'subsample': 0.6836747916198469, 'colsample_bytree': 0.636168240871276, 'reg_lambda': 13.964121124626214}. Best is trial 12 with value: 0.8568739424703893.\u001b[0m\n",
      "\u001b[32m[I 2023-01-16 20:58:44,148]\u001b[0m Trial 29 finished with value: 0.8053510998307952 and parameters: {'max_depth': 15, 'n_estimators': 446, 'subsample': 0.8851025090988289, 'colsample_bytree': 0.15826000854692013, 'reg_lambda': 18.138397280055813}. Best is trial 12 with value: 0.8568739424703893.\u001b[0m\n",
      "\u001b[32m[I 2023-01-16 20:58:44,685]\u001b[0m Trial 30 finished with value: 0.8177030456852792 and parameters: {'max_depth': 17, 'n_estimators': 732, 'subsample': 0.4444370621193039, 'colsample_bytree': 0.3288885958007901, 'reg_lambda': 12.325502399482072}. Best is trial 12 with value: 0.8568739424703893.\u001b[0m\n",
      "\u001b[32m[I 2023-01-16 20:58:45,266]\u001b[0m Trial 31 finished with value: 0.8452622673434858 and parameters: {'max_depth': 14, 'n_estimators': 816, 'subsample': 0.7639960401196965, 'colsample_bytree': 0.42070087221745617, 'reg_lambda': 31.53391734594164}. Best is trial 12 with value: 0.8568739424703893.\u001b[0m\n",
      "\u001b[32m[I 2023-01-16 20:58:46,224]\u001b[0m Trial 32 finished with value: 0.8082064297800339 and parameters: {'max_depth': 13, 'n_estimators': 820, 'subsample': 0.7459110715186412, 'colsample_bytree': 0.4316453934582832, 'reg_lambda': 33.704904369411516}. Best is trial 12 with value: 0.8568739424703893.\u001b[0m\n",
      "\u001b[32m[I 2023-01-16 20:58:47,102]\u001b[0m Trial 33 finished with value: 0.8344754653130287 and parameters: {'max_depth': 11, 'n_estimators': 892, 'subsample': 0.9588036505982779, 'colsample_bytree': 0.20082958851824406, 'reg_lambda': 29.679201919262724}. Best is trial 12 with value: 0.8568739424703893.\u001b[0m\n",
      "\u001b[32m[I 2023-01-16 20:58:47,790]\u001b[0m Trial 34 finished with value: 0.8051395939086294 and parameters: {'max_depth': 15, 'n_estimators': 759, 'subsample': 0.8045858800851126, 'colsample_bytree': 0.8152006483787271, 'reg_lambda': 23.522154025788126}. Best is trial 12 with value: 0.8568739424703893.\u001b[0m\n",
      "\u001b[32m[I 2023-01-16 20:58:48,833]\u001b[0m Trial 35 finished with value: 0.8087140439932319 and parameters: {'max_depth': 9, 'n_estimators': 795, 'subsample': 0.8767182195349412, 'colsample_bytree': 0.10472391692310865, 'reg_lambda': 16.7902439412595}. Best is trial 12 with value: 0.8568739424703893.\u001b[0m\n",
      "\u001b[32m[I 2023-01-16 20:58:49,664]\u001b[0m Trial 36 finished with value: 0.8392131979695431 and parameters: {'max_depth': 16, 'n_estimators': 1000, 'subsample': 0.7202868865566766, 'colsample_bytree': 0.3715374196916369, 'reg_lambda': 39.801839811100244}. Best is trial 12 with value: 0.8568739424703893.\u001b[0m\n",
      "\u001b[32m[I 2023-01-16 20:58:50,365]\u001b[0m Trial 37 finished with value: 0.84084179357022 and parameters: {'max_depth': 6, 'n_estimators': 650, 'subsample': 0.6200010355044845, 'colsample_bytree': 0.4443489716083146, 'reg_lambda': 31.468495606282797}. Best is trial 12 with value: 0.8568739424703893.\u001b[0m\n",
      "\u001b[32m[I 2023-01-16 20:58:51,022]\u001b[0m Trial 38 finished with value: 0.8125211505922166 and parameters: {'max_depth': 20, 'n_estimators': 916, 'subsample': 0.7945184173092692, 'colsample_bytree': 0.2898358742193699, 'reg_lambda': 5.267278341478353}. Best is trial 12 with value: 0.8568739424703893.\u001b[0m\n",
      "\u001b[32m[I 2023-01-16 20:58:51,637]\u001b[0m Trial 39 finished with value: 0.82339255499154 and parameters: {'max_depth': 4, 'n_estimators': 761, 'subsample': 0.947585419531412, 'colsample_bytree': 0.5704484731665147, 'reg_lambda': 20.164651515980285}. Best is trial 12 with value: 0.8568739424703893.\u001b[0m\n",
      "\u001b[32m[I 2023-01-16 20:58:52,370]\u001b[0m Trial 40 finished with value: 0.8243866328257191 and parameters: {'max_depth': 17, 'n_estimators': 851, 'subsample': 0.6222375738311199, 'colsample_bytree': 0.3316155264269815, 'reg_lambda': 9.85598585607471}. Best is trial 12 with value: 0.8568739424703893.\u001b[0m\n",
      "\u001b[32m[I 2023-01-16 20:58:53,153]\u001b[0m Trial 41 finished with value: 0.8096869712351946 and parameters: {'max_depth': 14, 'n_estimators': 802, 'subsample': 0.7335646723803579, 'colsample_bytree': 0.4052474221933159, 'reg_lambda': 28.342052118316857}. Best is trial 12 with value: 0.8568739424703893.\u001b[0m\n",
      "\u001b[32m[I 2023-01-16 20:58:53,638]\u001b[0m Trial 42 finished with value: 0.8387901861252115 and parameters: {'max_depth': 12, 'n_estimators': 961, 'subsample': 0.12711161029088736, 'colsample_bytree': 0.3920514314969582, 'reg_lambda': 34.62750654620895}. Best is trial 12 with value: 0.8568739424703893.\u001b[0m\n",
      "\u001b[32m[I 2023-01-16 20:58:54,355]\u001b[0m Trial 43 finished with value: 0.815334179357022 and parameters: {'max_depth': 14, 'n_estimators': 703, 'subsample': 0.7763324318424101, 'colsample_bytree': 0.456865672213169, 'reg_lambda': 26.13099648632062}. Best is trial 12 with value: 0.8568739424703893.\u001b[0m\n",
      "\u001b[32m[I 2023-01-16 20:58:55,435]\u001b[0m Trial 44 finished with value: 0.8383037225042301 and parameters: {'max_depth': 13, 'n_estimators': 850, 'subsample': 0.3480444924854105, 'colsample_bytree': 0.49879645233844505, 'reg_lambda': 31.288321804128245}. Best is trial 12 with value: 0.8568739424703893.\u001b[0m\n",
      "\u001b[32m[I 2023-01-16 20:58:56,543]\u001b[0m Trial 45 finished with value: 0.8395516074450085 and parameters: {'max_depth': 16, 'n_estimators': 545, 'subsample': 0.8391801140897985, 'colsample_bytree': 0.28364955966478644, 'reg_lambda': 36.3455774074973}. Best is trial 12 with value: 0.8568739424703893.\u001b[0m\n",
      "\u001b[32m[I 2023-01-16 20:58:57,128]\u001b[0m Trial 46 finished with value: 0.8486252115059222 and parameters: {'max_depth': 11, 'n_estimators': 761, 'subsample': 0.8934085509442209, 'colsample_bytree': 0.3411770016008551, 'reg_lambda': 14.475418635365493}. Best is trial 12 with value: 0.8568739424703893.\u001b[0m\n",
      "\u001b[32m[I 2023-01-16 20:58:57,352]\u001b[0m Trial 47 finished with value: 0.8047800338409475 and parameters: {'max_depth': 9, 'n_estimators': 41, 'subsample': 0.8965001245816737, 'colsample_bytree': 0.18937506747392713, 'reg_lambda': 14.022989246483473}. Best is trial 12 with value: 0.8568739424703893.\u001b[0m\n",
      "\u001b[32m[I 2023-01-16 20:58:58,157]\u001b[0m Trial 48 finished with value: 0.8365482233502538 and parameters: {'max_depth': 11, 'n_estimators': 658, 'subsample': 0.9645564088844515, 'colsample_bytree': 0.2529064929091685, 'reg_lambda': 22.187615752927773}. Best is trial 12 with value: 0.8568739424703893.\u001b[0m\n",
      "\u001b[32m[I 2023-01-16 20:58:58,816]\u001b[0m Trial 49 finished with value: 0.8489847715736041 and parameters: {'max_depth': 10, 'n_estimators': 745, 'subsample': 0.9118570728289073, 'colsample_bytree': 0.3356557943222139, 'reg_lambda': 19.184831052382034}. Best is trial 12 with value: 0.8568739424703893.\u001b[0m\n",
      "\u001b[32m[I 2023-01-16 20:58:59,435]\u001b[0m Trial 50 finished with value: 0.8482233502538071 and parameters: {'max_depth': 8, 'n_estimators': 569, 'subsample': 0.8483768984886827, 'colsample_bytree': 0.3398300040038959, 'reg_lambda': 19.24317697983748}. Best is trial 12 with value: 0.8568739424703893.\u001b[0m\n",
      "\u001b[32m[I 2023-01-16 20:59:00,906]\u001b[0m Trial 51 finished with value: 0.799090524534687 and parameters: {'max_depth': 8, 'n_estimators': 606, 'subsample': 0.8553246626878186, 'colsample_bytree': 0.3466465098111008, 'reg_lambda': 19.339897759770054}. Best is trial 12 with value: 0.8568739424703893.\u001b[0m\n",
      "\u001b[32m[I 2023-01-16 20:59:01,670]\u001b[0m Trial 52 finished with value: 0.8295050761421321 and parameters: {'max_depth': 7, 'n_estimators': 571, 'subsample': 0.8948329679923208, 'colsample_bytree': 0.31391991490610394, 'reg_lambda': 10.879513098701812}. Best is trial 12 with value: 0.8568739424703893.\u001b[0m\n",
      "\u001b[32m[I 2023-01-16 20:59:02,268]\u001b[0m Trial 53 finished with value: 0.8144881556683587 and parameters: {'max_depth': 10, 'n_estimators': 739, 'subsample': 0.8147712617664554, 'colsample_bytree': 0.2623950408775089, 'reg_lambda': 17.619640287530704}. Best is trial 12 with value: 0.8568739424703893.\u001b[0m\n",
      "\u001b[32m[I 2023-01-16 20:59:02,907]\u001b[0m Trial 54 finished with value: 0.8768401015228426 and parameters: {'max_depth': 8, 'n_estimators': 500, 'subsample': 0.8517798568391439, 'colsample_bytree': 0.22199306666734522, 'reg_lambda': 14.430559811839244}. Best is trial 54 with value: 0.8768401015228426.\u001b[0m\n",
      "\u001b[32m[I 2023-01-16 20:59:03,547]\u001b[0m Trial 55 finished with value: 0.8482868020304568 and parameters: {'max_depth': 8, 'n_estimators': 471, 'subsample': 0.9273609837554752, 'colsample_bytree': 0.2282710248579518, 'reg_lambda': 14.1615580623642}. Best is trial 54 with value: 0.8768401015228426.\u001b[0m\n",
      "\u001b[32m[I 2023-01-16 20:59:04,237]\u001b[0m Trial 56 finished with value: 0.7919204737732657 and parameters: {'max_depth': 6, 'n_estimators': 461, 'subsample': 0.9227116783746909, 'colsample_bytree': 0.2039721667639078, 'reg_lambda': 14.56830674119488}. Best is trial 54 with value: 0.8768401015228426.\u001b[0m\n",
      "\u001b[32m[I 2023-01-16 20:59:04,867]\u001b[0m Trial 57 finished with value: 0.8317681895093063 and parameters: {'max_depth': 7, 'n_estimators': 322, 'subsample': 0.9880203233739696, 'colsample_bytree': 0.14067472575513945, 'reg_lambda': 12.499378738685023}. Best is trial 54 with value: 0.8768401015228426.\u001b[0m\n",
      "\u001b[32m[I 2023-01-16 20:59:05,670]\u001b[0m Trial 58 finished with value: 0.8202199661590526 and parameters: {'max_depth': 9, 'n_estimators': 485, 'subsample': 0.9176820089851345, 'colsample_bytree': 0.2244961565157163, 'reg_lambda': 9.159321410138974}. Best is trial 54 with value: 0.8768401015228426.\u001b[0m\n",
      "\u001b[32m[I 2023-01-16 20:59:06,324]\u001b[0m Trial 59 finished with value: 0.8618231810490694 and parameters: {'max_depth': 10, 'n_estimators': 411, 'subsample': 0.8737043813990899, 'colsample_bytree': 0.17741035114081782, 'reg_lambda': 15.863434861383421}. Best is trial 54 with value: 0.8768401015228426.\u001b[0m\n",
      "\u001b[32m[I 2023-01-16 20:59:07,110]\u001b[0m Trial 60 finished with value: 0.8116328257191201 and parameters: {'max_depth': 10, 'n_estimators': 400, 'subsample': 0.5821925554277052, 'colsample_bytree': 0.11245848595056702, 'reg_lambda': 15.549859463740145}. Best is trial 54 with value: 0.8768401015228426.\u001b[0m\n",
      "\u001b[32m[I 2023-01-16 20:59:08,287]\u001b[0m Trial 61 finished with value: 0.7982021996615906 and parameters: {'max_depth': 9, 'n_estimators': 423, 'subsample': 0.874825198028121, 'colsample_bytree': 0.15204080451063345, 'reg_lambda': 11.46942933224302}. Best is trial 54 with value: 0.8768401015228426.\u001b[0m\n",
      "\u001b[32m[I 2023-01-16 20:59:09,239]\u001b[0m Trial 62 finished with value: 0.7937817258883249 and parameters: {'max_depth': 10, 'n_estimators': 312, 'subsample': 0.9494636066285884, 'colsample_bytree': 0.17035215852127444, 'reg_lambda': 13.302133086925611}. Best is trial 54 with value: 0.8768401015228426.\u001b[0m\n",
      "\u001b[32m[I 2023-01-16 20:59:09,904]\u001b[0m Trial 63 finished with value: 0.8313240270727581 and parameters: {'max_depth': 12, 'n_estimators': 375, 'subsample': 0.9113504288826317, 'colsample_bytree': 0.23352240146712355, 'reg_lambda': 15.68253191655992}. Best is trial 54 with value: 0.8768401015228426.\u001b[0m\n",
      "\u001b[32m[I 2023-01-16 20:59:10,459]\u001b[0m Trial 64 finished with value: 0.8200507614213198 and parameters: {'max_depth': 7, 'n_estimators': 255, 'subsample': 0.8651225539855922, 'colsample_bytree': 0.2948923740796097, 'reg_lambda': 16.790654899844988}. Best is trial 54 with value: 0.8768401015228426.\u001b[0m\n",
      "\u001b[32m[I 2023-01-16 20:59:11,180]\u001b[0m Trial 65 finished with value: 0.8338832487309644 and parameters: {'max_depth': 11, 'n_estimators': 536, 'subsample': 0.9794406253364538, 'colsample_bytree': 0.2584115988571144, 'reg_lambda': 12.531378658222266}. Best is trial 54 with value: 0.8768401015228426.\u001b[0m\n",
      "\u001b[32m[I 2023-01-16 20:59:11,653]\u001b[0m Trial 66 finished with value: 0.8420156514382403 and parameters: {'max_depth': 5, 'n_estimators': 477, 'subsample': 0.8262837723758394, 'colsample_bytree': 0.3721144531238872, 'reg_lambda': 14.466685596255914}. Best is trial 54 with value: 0.8768401015228426.\u001b[0m\n"
     ]
    }
   ],
   "source": [
    "xgb_ranks = {}\n",
    "    \n",
    "train_time = 1 * 60 * 15\n",
    "study = optuna.create_study(direction='maximize', sampler=TPESampler(), study_name='XGBRegressor')\n",
    "study.optimize(xgb_objective, timeout=train_time)"
   ]
  },
  {
   "cell_type": "code",
   "execution_count": null,
   "id": "0cb0354c-157a-4333-a044-4161bfb81315",
   "metadata": {
    "tags": []
   },
   "outputs": [],
   "source": [
    "xgb_ranks_bytes = pickle.dumps(xgb_ranks)\n",
    "with open(\"rendered_data/xgb_clsfs_bytes.hex\", \"wb\") as binary_file:\n",
    "    binary_file.write(xgb_ranks_bytes)"
   ]
  },
  {
   "cell_type": "code",
   "execution_count": null,
   "id": "fff5efd3-6c31-4cf4-9bb3-649cf355a273",
   "metadata": {},
   "outputs": [],
   "source": [
    "percent = math.ceil(len(xgb_ranks.keys()) * .3)\n",
    "top = sorted(list(xgb_ranks.keys()))[-percent:]\n",
    "\n",
    "train_preds = []\n",
    "test_preds = []\n",
    "for key in tqdm(top):\n",
    "    train_preds.append(xgb_ranks[key].predict(X))\n",
    "    test_preds.append(xgb_ranks[key].predict(X_test))\n",
    "\n",
    "train_final_preds = np.stack(train_preds).mean(0)\n",
    "test_final_preds = np.stack(test_preds).mean(0)"
   ]
  },
  {
   "cell_type": "code",
   "execution_count": null,
   "id": "6a849ba6-0559-42be-88da-2b5f6738d4f1",
   "metadata": {},
   "outputs": [],
   "source": [
    "XGB_train_submission = pd.DataFrame(data={'id': train_df.index, target[0]: train_final_preds})\n",
    "XGB_train_submission.to_csv(fr'rendered_data/XGB_train_submission.csv', index=False)\n",
    "\n",
    "XGB_test_submission = pd.DataFrame(data={'id': test_df.index, target[0]: test_final_preds})\n",
    "XGB_test_submission.to_csv(fr'rendered_data/XGB_test_submission.csv', index=False)"
   ]
  },
  {
   "cell_type": "code",
   "execution_count": null,
   "id": "e39940d7-295b-4781-b008-0faa28ecb553",
   "metadata": {},
   "outputs": [],
   "source": []
  },
  {
   "cell_type": "code",
   "execution_count": null,
   "id": "d4101df8-7385-492d-b06e-7f42d874cf66",
   "metadata": {},
   "outputs": [],
   "source": []
  },
  {
   "cell_type": "code",
   "execution_count": null,
   "id": "0aff80b8-37d3-44e2-9082-25cc759d93a0",
   "metadata": {},
   "outputs": [],
   "source": []
  },
  {
   "cell_type": "code",
   "execution_count": null,
   "id": "b21e7362-c2ca-4bee-8666-9c4e305e1fd4",
   "metadata": {},
   "outputs": [],
   "source": []
  },
  {
   "cell_type": "code",
   "execution_count": null,
   "id": "8872ad54-57a6-4511-9389-3a46ad31366f",
   "metadata": {},
   "outputs": [],
   "source": []
  }
 ],
 "metadata": {
  "kernelspec": {
   "display_name": "Python 3 (ipykernel)",
   "language": "python",
   "name": "python3"
  },
  "language_info": {
   "codemirror_mode": {
    "name": "ipython",
    "version": 3
   },
   "file_extension": ".py",
   "mimetype": "text/x-python",
   "name": "python",
   "nbconvert_exporter": "python",
   "pygments_lexer": "ipython3",
   "version": "3.10.9"
  }
 },
 "nbformat": 4,
 "nbformat_minor": 5
}
