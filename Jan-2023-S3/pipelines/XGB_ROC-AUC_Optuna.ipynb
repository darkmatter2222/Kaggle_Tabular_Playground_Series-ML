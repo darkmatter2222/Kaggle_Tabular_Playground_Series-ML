{
 "cells": [
  {
   "cell_type": "code",
   "execution_count": 1,
   "id": "936b5758-0b17-4f59-bdfa-beb3ee47a143",
   "metadata": {},
   "outputs": [],
   "source": [
    "import numpy as np\n",
    "import pandas as pd\n",
    "import math\n",
    "import sys, os\n",
    "#import seaborn as sns\n",
    "#from scipy import stats\n",
    "#from pathlib import Path\n",
    "#import matplotlib.pyplot as plt\n",
    "#from sklearn.model_selection import KFold\n",
    "from sklearn.preprocessing import MinMaxScaler\n",
    "from sklearn.model_selection import train_test_split\n",
    "#from sklearn.metrics import mean_squared_error\n",
    "#from sklearn.metrics import mean_squared_error\n",
    "#from sklearn.preprocessing import MinMaxScaler\n",
    "#from sklearn.datasets import fetch_california_housing\n",
    "#import math\n",
    "from tqdm import tqdm\n",
    "from sklearn.feature_extraction.text import CountVectorizer\n",
    "import optuna\n",
    "from optuna.samplers import TPESampler\n",
    "#import lightgbm as lgbm\n",
    "#from xgboost import XGBRegressor\n",
    "import xgboost as xgb\n",
    "#from catboost import CatBoostRegressor\n",
    "#from lightgbm.sklearn import LGBMRegressor\n",
    "#from sklearn.ensemble import RandomForestRegressor\n",
    "import pickle\n",
    "from sklearn.metrics import roc_curve, auc\n",
    "from sklearn.model_selection import StratifiedKFold\n",
    "pd.set_option('display.max_columns', 500)"
   ]
  },
  {
   "cell_type": "code",
   "execution_count": 2,
   "id": "baf23cb5-cc6a-4dae-9dc1-7dc1b7b4021a",
   "metadata": {},
   "outputs": [],
   "source": [
    "train_time = 1 * 60 * 10\n",
    "objective = 'xgbregressor'"
   ]
  },
  {
   "cell_type": "code",
   "execution_count": 3,
   "id": "30af7575-c694-4420-81e3-8f4608abc789",
   "metadata": {},
   "outputs": [],
   "source": [
    "sys.path.append(os.path.realpath('..'))"
   ]
  },
  {
   "cell_type": "code",
   "execution_count": 4,
   "id": "1ae92e2f-1d42-4d7f-953e-6cb3b5eb9e0e",
   "metadata": {},
   "outputs": [],
   "source": [
    "train_df = pd.read_csv(r\"..\\data\\train.csv\", index_col=0)\n",
    "test_df = pd.read_csv(r\"..\\data\\test.csv\", index_col=0)\n",
    "sample_sub = pd.read_csv(r\"..\\data\\sample_submission.csv\", index_col=0)"
   ]
  },
  {
   "cell_type": "code",
   "execution_count": 5,
   "id": "433cce54-7033-4c6a-8fbb-bdee32110ecd",
   "metadata": {},
   "outputs": [
    {
     "data": {
      "text/html": [
       "<div>\n",
       "<style scoped>\n",
       "    .dataframe tbody tr th:only-of-type {\n",
       "        vertical-align: middle;\n",
       "    }\n",
       "\n",
       "    .dataframe tbody tr th {\n",
       "        vertical-align: top;\n",
       "    }\n",
       "\n",
       "    .dataframe thead th {\n",
       "        text-align: right;\n",
       "    }\n",
       "</style>\n",
       "<table border=\"1\" class=\"dataframe\">\n",
       "  <thead>\n",
       "    <tr style=\"text-align: right;\">\n",
       "      <th></th>\n",
       "      <th>Total</th>\n",
       "      <th>Percent</th>\n",
       "    </tr>\n",
       "  </thead>\n",
       "  <tbody>\n",
       "    <tr>\n",
       "      <th>Age</th>\n",
       "      <td>0</td>\n",
       "      <td>0.0</td>\n",
       "    </tr>\n",
       "    <tr>\n",
       "      <th>StockOptionLevel</th>\n",
       "      <td>0</td>\n",
       "      <td>0.0</td>\n",
       "    </tr>\n",
       "    <tr>\n",
       "      <th>Over18</th>\n",
       "      <td>0</td>\n",
       "      <td>0.0</td>\n",
       "    </tr>\n",
       "    <tr>\n",
       "      <th>OverTime</th>\n",
       "      <td>0</td>\n",
       "      <td>0.0</td>\n",
       "    </tr>\n",
       "    <tr>\n",
       "      <th>PercentSalaryHike</th>\n",
       "      <td>0</td>\n",
       "      <td>0.0</td>\n",
       "    </tr>\n",
       "    <tr>\n",
       "      <th>PerformanceRating</th>\n",
       "      <td>0</td>\n",
       "      <td>0.0</td>\n",
       "    </tr>\n",
       "    <tr>\n",
       "      <th>RelationshipSatisfaction</th>\n",
       "      <td>0</td>\n",
       "      <td>0.0</td>\n",
       "    </tr>\n",
       "    <tr>\n",
       "      <th>StandardHours</th>\n",
       "      <td>0</td>\n",
       "      <td>0.0</td>\n",
       "    </tr>\n",
       "    <tr>\n",
       "      <th>TotalWorkingYears</th>\n",
       "      <td>0</td>\n",
       "      <td>0.0</td>\n",
       "    </tr>\n",
       "    <tr>\n",
       "      <th>BusinessTravel</th>\n",
       "      <td>0</td>\n",
       "      <td>0.0</td>\n",
       "    </tr>\n",
       "  </tbody>\n",
       "</table>\n",
       "</div>"
      ],
      "text/plain": [
       "                          Total  Percent\n",
       "Age                           0      0.0\n",
       "StockOptionLevel              0      0.0\n",
       "Over18                        0      0.0\n",
       "OverTime                      0      0.0\n",
       "PercentSalaryHike             0      0.0\n",
       "PerformanceRating             0      0.0\n",
       "RelationshipSatisfaction      0      0.0\n",
       "StandardHours                 0      0.0\n",
       "TotalWorkingYears             0      0.0\n",
       "BusinessTravel                0      0.0"
      ]
     },
     "execution_count": 5,
     "metadata": {},
     "output_type": "execute_result"
    }
   ],
   "source": [
    "total = train_df.isnull().sum().sort_values(ascending=False)\n",
    "percent = (train_df.isnull().sum()/train_df.isnull().count()).sort_values(ascending=False)\n",
    "missing_data = pd.concat([total, percent], axis=1, keys=['Total', 'Percent'])\n",
    "missing_data.head(10)"
   ]
  },
  {
   "cell_type": "code",
   "execution_count": 6,
   "id": "09ca2d44-448c-45a8-a500-15ffd3b3041f",
   "metadata": {},
   "outputs": [],
   "source": [
    "del train_df['Over18']\n",
    "del train_df['EmployeeCount']\n",
    "del train_df['StandardHours']"
   ]
  },
  {
   "cell_type": "code",
   "execution_count": 7,
   "id": "bcc257a3-0717-47f3-911a-40404ffbf02f",
   "metadata": {},
   "outputs": [
    {
     "name": "stdout",
     "output_type": "stream",
     "text": [
      "BusinessTravel\n",
      "Department\n",
      "EducationField\n",
      "Gender\n",
      "JobRole\n",
      "MaritalStatus\n",
      "OverTime\n"
     ]
    }
   ],
   "source": [
    "columns_to_vectorize = ['BusinessTravel', 'Department', 'EducationField', 'Gender', 'JobRole', 'MaritalStatus', 'OverTime']\n",
    "for vector_target in columns_to_vectorize:\n",
    "    print(vector_target)\n",
    "    vectorizer = CountVectorizer()\n",
    "    vectorizer.fit_transform(train_df[vector_target])\n",
    "    train_df[f'{vector_target}_v'] = vectorizer.transform(train_df[vector_target]).toarray().argmax(axis=1)[:,None]\n",
    "    vectorizer.fit_transform(test_df[vector_target])\n",
    "    test_df[f'{vector_target}_v'] = vectorizer.transform(test_df[vector_target]).toarray().argmax(axis=1)[:,None]"
   ]
  },
  {
   "cell_type": "code",
   "execution_count": 8,
   "id": "07c98496-4686-4c3b-9f17-0dde61466ad9",
   "metadata": {},
   "outputs": [
    {
     "data": {
      "text/plain": [
       "Index(['Age', 'BusinessTravel', 'DailyRate', 'Department', 'DistanceFromHome',\n",
       "       'Education', 'EducationField', 'EnvironmentSatisfaction', 'Gender',\n",
       "       'HourlyRate', 'JobInvolvement', 'JobLevel', 'JobRole',\n",
       "       'JobSatisfaction', 'MaritalStatus', 'MonthlyIncome', 'MonthlyRate',\n",
       "       'NumCompaniesWorked', 'OverTime', 'PercentSalaryHike',\n",
       "       'PerformanceRating', 'RelationshipSatisfaction', 'StockOptionLevel',\n",
       "       'TotalWorkingYears', 'TrainingTimesLastYear', 'WorkLifeBalance',\n",
       "       'YearsAtCompany', 'YearsInCurrentRole', 'YearsSinceLastPromotion',\n",
       "       'YearsWithCurrManager', 'Attrition', 'BusinessTravel_v', 'Department_v',\n",
       "       'EducationField_v', 'Gender_v', 'JobRole_v', 'MaritalStatus_v',\n",
       "       'OverTime_v'],\n",
       "      dtype='object')"
      ]
     },
     "execution_count": 8,
     "metadata": {},
     "output_type": "execute_result"
    }
   ],
   "source": [
    "train_df.columns"
   ]
  },
  {
   "cell_type": "code",
   "execution_count": 9,
   "id": "1d2b4c9f-993a-45f0-b216-294e6c732919",
   "metadata": {},
   "outputs": [],
   "source": [
    "features = ['Age', 'DailyRate', 'DistanceFromHome', 'Education', 'EnvironmentSatisfaction','HourlyRate', 'JobInvolvement', 'JobLevel', 'JobSatisfaction', \n",
    "       'MonthlyIncome', 'MonthlyRate', 'NumCompaniesWorked', 'PercentSalaryHike', 'PerformanceRating', 'RelationshipSatisfaction', 'StockOptionLevel', 'TotalWorkingYears',\n",
    "       'TrainingTimesLastYear', 'WorkLifeBalance', 'YearsAtCompany', 'YearsInCurrentRole', 'YearsSinceLastPromotion', 'YearsWithCurrManager',\n",
    "        'BusinessTravel_v', 'Department_v', 'EducationField_v','Gender_v', 'JobRole_v', 'MaritalStatus_v', 'OverTime_v']\n",
    "target = ['Attrition']"
   ]
  },
  {
   "cell_type": "code",
   "execution_count": 10,
   "id": "ed6f4daf-2da6-415b-9ef1-c9def5ae5dee",
   "metadata": {},
   "outputs": [],
   "source": [
    "scaler = MinMaxScaler().fit(train_df[features])\n",
    "X = scaler.transform(train_df[features])\n",
    "X_test = scaler.transform(test_df[features])\n",
    "\n",
    "scaler = MinMaxScaler().fit(train_df[target])\n",
    "Y = scaler.transform(train_df[target])"
   ]
  },
  {
   "cell_type": "code",
   "execution_count": 11,
   "id": "93d94162-bba5-4e9d-aed8-2be1540e71ec",
   "metadata": {},
   "outputs": [
    {
     "name": "stdout",
     "output_type": "stream",
     "text": [
      "0.0 1.0\n"
     ]
    }
   ],
   "source": [
    "y_min = Y.min()\n",
    "y_max = Y.max()\n",
    "\n",
    "print(y_min, y_max)\n",
    "\n",
    "def my_rmse(y_true, y_hat):\n",
    "    y_true[y_true < y_min] = y_min\n",
    "    y_true[y_true > y_max] = y_max\n",
    "    \n",
    "    y_hat[y_hat < y_min] = y_min\n",
    "    y_hat[y_hat > y_max] = y_max\n",
    "    \n",
    "    y_true_nan = np.isnan(y_true)\n",
    "    y_hat_nan = np.isnan(y_hat)\n",
    "    \n",
    "    if y_true_nan.sum() > 0:\n",
    "        print(y_true_nan.sum())\n",
    "        np.where(y_true_nan, np.ma.array(y_true, mask=np.isnan(y_true)).mean(axis=0), y_true)\n",
    "    if y_hat_nan.sum() > 0:\n",
    "        print(y_hat_nan.sum())\n",
    "        np.where(y_hat_nan, np.ma.array(y_hat, mask=np.isnan(y_hat)).mean(axis=0), y_hat)\n",
    "    \n",
    "    return mean_squared_error(y_true, y_hat, squared=False)"
   ]
  },
  {
   "cell_type": "code",
   "execution_count": 12,
   "id": "e898502e-b7b1-4f81-90b8-47649fa8ea8d",
   "metadata": {},
   "outputs": [],
   "source": [
    "RANDOM_STATE = 12 \n",
    "FOLDS = 5\n",
    "param_grid_history = {}\n",
    "\n",
    "def render_model(param_grid):\n",
    "    reg = xgb.XGBModel(\n",
    "        # These parameters should help with trial speed.\n",
    "        objective='binary:logistic',\n",
    "        tree_method='gpu_hist',\n",
    "        booster='gbtree',\n",
    "        predictor='gpu_predictor',\n",
    "        n_jobs=4,\n",
    "        eval_metric='auc',\n",
    "        early_stopping_rounds=100,\n",
    "        **param_grid\n",
    "    )\n",
    "    return reg\n",
    "    \n",
    "def train_model(reg, X_train, y_train, X_valid, y_valid):\n",
    "    reg.fit(X_train, y_train, eval_set=[(X_valid, y_valid)], verbose=False)\n",
    "\n",
    "    preds = reg.predict(train_df[features])\n",
    "    fpr, tpr, _ = roc_curve(train_df[target], preds)\n",
    "    roc_auc = auc(fpr, tpr)\n",
    "    return reg, roc_auc\n",
    "\n",
    "def objective_v2(trial):\n",
    "    scores = []\n",
    "    param_grid = {\n",
    "        'max_depth': trial.suggest_int('max_depth', 4, 20),\n",
    "        'n_estimators': trial.suggest_int('n_estimators', 2, 1000, 1), \n",
    "        #'eta': trial.suggest_float('eta', 0.07, 0.113), \n",
    "        'subsample': trial.suggest_float('subsample', 0.1, 1),\n",
    "        'colsample_bytree': trial.suggest_float('colsample_bytree', 0.1, 1),\n",
    "        'reg_lambda': trial.suggest_float('reg_lambda', 1, 40), \n",
    "    } \n",
    "        \n",
    "    skf = StratifiedKFold(n_splits=FOLDS, shuffle=True, random_state=RANDOM_STATE)\n",
    "    for fold, (train_idx, valid_idx) in enumerate(skf.split(train_df[features], train_df[target])):\n",
    "        print(10*\"=\", f\"Fold={fold+1}\", 10*\"=\")\n",
    "        X_train, X_valid = train_df.iloc[train_idx][features], train_df.iloc[valid_idx][features]\n",
    "        y_train , y_valid = train_df[target].iloc[train_idx] , train_df[target].iloc[valid_idx] \n",
    "        \n",
    "        reg = render_model(param_grid)\n",
    "        reg, roc_auc = train_model(reg, X_train, y_train, X_valid, y_valid)\n",
    "\n",
    "        scores.append(roc_auc)\n",
    "    mean_scores = np.mean(scores)\n",
    "    param_grid_history[mean_scores] = param_grid\n",
    "\n",
    "    return mean_scores"
   ]
  },
  {
   "cell_type": "code",
   "execution_count": 13,
   "id": "02818b3a-e7d1-4624-809f-7d009b3aeb5e",
   "metadata": {
    "tags": []
   },
   "outputs": [
    {
     "name": "stderr",
     "output_type": "stream",
     "text": [
      "\u001b[32m[I 2023-01-17 20:28:37,646]\u001b[0m A new study created in memory with name: xgbregressor\u001b[0m\n"
     ]
    },
    {
     "name": "stdout",
     "output_type": "stream",
     "text": [
      "========== Fold=1 ==========\n",
      "========== Fold=2 ==========\n",
      "========== Fold=3 ==========\n",
      "========== Fold=4 ==========\n",
      "========== Fold=5 ==========\n"
     ]
    },
    {
     "name": "stderr",
     "output_type": "stream",
     "text": [
      "\u001b[32m[I 2023-01-17 20:28:41,509]\u001b[0m Trial 0 finished with value: 0.9229729180771834 and parameters: {'max_depth': 14, 'n_estimators': 286, 'subsample': 0.28447220586720645, 'colsample_bytree': 0.8226104074433699, 'reg_lambda': 35.17105792522576}. Best is trial 0 with value: 0.9229729180771834.\u001b[0m\n"
     ]
    },
    {
     "name": "stdout",
     "output_type": "stream",
     "text": [
      "========== Fold=1 ==========\n",
      "========== Fold=2 ==========\n",
      "========== Fold=3 ==========\n",
      "========== Fold=4 ==========\n",
      "========== Fold=5 ==========\n"
     ]
    },
    {
     "name": "stderr",
     "output_type": "stream",
     "text": [
      "\u001b[32m[I 2023-01-17 20:28:46,171]\u001b[0m Trial 1 finished with value: 0.9705741367637103 and parameters: {'max_depth': 14, 'n_estimators': 699, 'subsample': 0.7847108617446061, 'colsample_bytree': 0.9434876689715768, 'reg_lambda': 20.09949327872667}. Best is trial 1 with value: 0.9705741367637103.\u001b[0m\n"
     ]
    },
    {
     "name": "stdout",
     "output_type": "stream",
     "text": [
      "========== Fold=1 ==========\n",
      "========== Fold=2 ==========\n",
      "========== Fold=3 ==========\n",
      "========== Fold=4 ==========\n",
      "========== Fold=5 ==========\n"
     ]
    },
    {
     "name": "stderr",
     "output_type": "stream",
     "text": [
      "\u001b[32m[I 2023-01-17 20:28:49,915]\u001b[0m Trial 2 finished with value: 0.9644888287068382 and parameters: {'max_depth': 14, 'n_estimators': 187, 'subsample': 0.7951730035701288, 'colsample_bytree': 0.3315576524314612, 'reg_lambda': 11.119038766690746}. Best is trial 1 with value: 0.9705741367637103.\u001b[0m\n"
     ]
    },
    {
     "name": "stdout",
     "output_type": "stream",
     "text": [
      "========== Fold=1 ==========\n",
      "========== Fold=2 ==========\n",
      "========== Fold=3 ==========\n",
      "========== Fold=4 ==========\n",
      "========== Fold=5 ==========\n"
     ]
    },
    {
     "name": "stderr",
     "output_type": "stream",
     "text": [
      "\u001b[32m[I 2023-01-17 20:28:55,916]\u001b[0m Trial 3 finished with value: 0.936237643872715 and parameters: {'max_depth': 5, 'n_estimators': 709, 'subsample': 0.26017063432619764, 'colsample_bytree': 0.24563662299061176, 'reg_lambda': 32.775752847125304}. Best is trial 1 with value: 0.9705741367637103.\u001b[0m\n"
     ]
    },
    {
     "name": "stdout",
     "output_type": "stream",
     "text": [
      "========== Fold=1 ==========\n",
      "========== Fold=2 ==========\n",
      "========== Fold=3 ==========\n",
      "========== Fold=4 ==========\n",
      "========== Fold=5 ==========\n"
     ]
    },
    {
     "name": "stderr",
     "output_type": "stream",
     "text": [
      "\u001b[32m[I 2023-01-17 20:29:01,668]\u001b[0m Trial 4 finished with value: 0.9514163845633039 and parameters: {'max_depth': 8, 'n_estimators': 855, 'subsample': 0.4699311198096737, 'colsample_bytree': 0.3465206045929381, 'reg_lambda': 38.256960389504194}. Best is trial 1 with value: 0.9705741367637103.\u001b[0m\n"
     ]
    },
    {
     "name": "stdout",
     "output_type": "stream",
     "text": [
      "========== Fold=1 ==========\n",
      "========== Fold=2 ==========\n",
      "========== Fold=3 ==========\n",
      "========== Fold=4 ==========\n",
      "========== Fold=5 ==========\n"
     ]
    },
    {
     "name": "stderr",
     "output_type": "stream",
     "text": [
      "\u001b[32m[I 2023-01-17 20:29:06,318]\u001b[0m Trial 5 finished with value: 0.9337698036560598 and parameters: {'max_depth': 12, 'n_estimators': 901, 'subsample': 0.34868446885997045, 'colsample_bytree': 0.16878641865645122, 'reg_lambda': 16.811586254367768}. Best is trial 1 with value: 0.9705741367637103.\u001b[0m\n"
     ]
    },
    {
     "name": "stdout",
     "output_type": "stream",
     "text": [
      "========== Fold=1 ==========\n",
      "========== Fold=2 ==========\n",
      "========== Fold=3 ==========\n",
      "========== Fold=4 ==========\n",
      "========== Fold=5 ==========\n"
     ]
    },
    {
     "name": "stderr",
     "output_type": "stream",
     "text": [
      "\u001b[32m[I 2023-01-17 20:29:10,565]\u001b[0m Trial 6 finished with value: 0.9495362220717671 and parameters: {'max_depth': 20, 'n_estimators': 417, 'subsample': 0.4466164338192702, 'colsample_bytree': 0.816828731829418, 'reg_lambda': 17.00111585334962}. Best is trial 1 with value: 0.9705741367637103.\u001b[0m\n"
     ]
    },
    {
     "name": "stdout",
     "output_type": "stream",
     "text": [
      "========== Fold=1 ==========\n",
      "========== Fold=2 ==========\n",
      "========== Fold=3 ==========\n",
      "========== Fold=4 ==========\n",
      "========== Fold=5 ==========\n"
     ]
    },
    {
     "name": "stderr",
     "output_type": "stream",
     "text": [
      "\u001b[32m[I 2023-01-17 20:29:13,501]\u001b[0m Trial 7 finished with value: 0.8792125930941097 and parameters: {'max_depth': 17, 'n_estimators': 605, 'subsample': 0.10569681681854795, 'colsample_bytree': 0.8345476031606157, 'reg_lambda': 8.860610907195623}. Best is trial 1 with value: 0.9705741367637103.\u001b[0m\n"
     ]
    },
    {
     "name": "stdout",
     "output_type": "stream",
     "text": [
      "========== Fold=1 ==========\n",
      "========== Fold=2 ==========\n",
      "========== Fold=3 ==========\n",
      "========== Fold=4 ==========\n",
      "========== Fold=5 ==========\n"
     ]
    },
    {
     "name": "stderr",
     "output_type": "stream",
     "text": [
      "\u001b[32m[I 2023-01-17 20:29:17,413]\u001b[0m Trial 8 finished with value: 0.9577830060934327 and parameters: {'max_depth': 15, 'n_estimators': 296, 'subsample': 0.5539891255588161, 'colsample_bytree': 0.6445079261351787, 'reg_lambda': 7.860795770332823}. Best is trial 1 with value: 0.9705741367637103.\u001b[0m\n"
     ]
    },
    {
     "name": "stdout",
     "output_type": "stream",
     "text": [
      "========== Fold=1 ==========\n",
      "========== Fold=2 ==========\n",
      "========== Fold=3 ==========\n",
      "========== Fold=4 ==========\n",
      "========== Fold=5 ==========\n"
     ]
    },
    {
     "name": "stderr",
     "output_type": "stream",
     "text": [
      "\u001b[32m[I 2023-01-17 20:29:23,483]\u001b[0m Trial 9 finished with value: 0.9686073121191605 and parameters: {'max_depth': 11, 'n_estimators': 843, 'subsample': 0.779400460453332, 'colsample_bytree': 0.12888144462553205, 'reg_lambda': 7.920101326927599}. Best is trial 1 with value: 0.9705741367637103.\u001b[0m\n"
     ]
    },
    {
     "name": "stdout",
     "output_type": "stream",
     "text": [
      "========== Fold=1 ==========\n",
      "========== Fold=2 ==========\n",
      "========== Fold=3 ==========\n",
      "========== Fold=4 ==========\n",
      "========== Fold=5 ==========\n"
     ]
    },
    {
     "name": "stderr",
     "output_type": "stream",
     "text": [
      "\u001b[32m[I 2023-01-17 20:29:28,627]\u001b[0m Trial 10 finished with value: 0.9726729857819905 and parameters: {'max_depth': 20, 'n_estimators': 534, 'subsample': 0.9619649775180157, 'colsample_bytree': 0.9737399908174935, 'reg_lambda': 26.381330765188178}. Best is trial 10 with value: 0.9726729857819905.\u001b[0m\n"
     ]
    },
    {
     "name": "stdout",
     "output_type": "stream",
     "text": [
      "========== Fold=1 ==========\n",
      "========== Fold=2 ==========\n",
      "========== Fold=3 ==========\n",
      "========== Fold=4 ==========\n",
      "========== Fold=5 ==========\n"
     ]
    },
    {
     "name": "stderr",
     "output_type": "stream",
     "text": [
      "\u001b[32m[I 2023-01-17 20:29:33,296]\u001b[0m Trial 11 finished with value: 0.9685341909275558 and parameters: {'max_depth': 19, 'n_estimators': 542, 'subsample': 0.9917896930706351, 'colsample_bytree': 0.9797045781723351, 'reg_lambda': 26.697608333479955}. Best is trial 10 with value: 0.9726729857819905.\u001b[0m\n"
     ]
    },
    {
     "name": "stdout",
     "output_type": "stream",
     "text": [
      "========== Fold=1 ==========\n",
      "========== Fold=2 ==========\n",
      "========== Fold=3 ==========\n",
      "========== Fold=4 ==========\n",
      "========== Fold=5 ==========\n"
     ]
    },
    {
     "name": "stderr",
     "output_type": "stream",
     "text": [
      "\u001b[32m[I 2023-01-17 20:29:38,999]\u001b[0m Trial 12 finished with value: 0.9669119837508463 and parameters: {'max_depth': 17, 'n_estimators': 686, 'subsample': 0.9933493811035131, 'colsample_bytree': 0.9597720953016724, 'reg_lambda': 25.597575616758707}. Best is trial 10 with value: 0.9726729857819905.\u001b[0m\n"
     ]
    }
   ],
   "source": [
    "study = optuna.create_study(direction='maximize', sampler=TPESampler(), study_name=objective)\n",
    "study.optimize(objective_v2, timeout=train_time)"
   ]
  },
  {
   "cell_type": "code",
   "execution_count": 14,
   "id": "cd78822b-3779-4cd1-a6f7-93f975461005",
   "metadata": {
    "tags": []
   },
   "outputs": [],
   "source": [
    "parm_grid_bytes = pickle.dumps(param_grid_history)\n",
    "with open(f\"rendered_data/{objective}_bytes.hex\", \"wb\") as binary_file:\n",
    "    binary_file.write(parm_grid_bytes)"
   ]
  },
  {
   "cell_type": "code",
   "execution_count": 15,
   "id": "4fc1f5eb-5007-4b73-a696-7c1b938a12cd",
   "metadata": {},
   "outputs": [
    {
     "name": "stderr",
     "output_type": "stream",
     "text": [
      "  0%|                                                                                            | 0/4 [00:00<?, ?it/s]"
     ]
    },
    {
     "name": "stdout",
     "output_type": "stream",
     "text": [
      "========== FINAL TRAINING Fold=1 ==========\n",
      "========== FINAL TRAINING Fold=2 ==========\n",
      "========== FINAL TRAINING Fold=3 ==========\n",
      "========== FINAL TRAINING Fold=4 ==========\n",
      "========== FINAL TRAINING Fold=5 ==========\n"
     ]
    },
    {
     "name": "stderr",
     "output_type": "stream",
     "text": [
      " 25%|█████████████████████                                                               | 1/4 [00:04<00:14,  4.86s/it]"
     ]
    },
    {
     "name": "stdout",
     "output_type": "stream",
     "text": [
      "========== FINAL TRAINING Fold=1 ==========\n",
      "========== FINAL TRAINING Fold=2 ==========\n",
      "========== FINAL TRAINING Fold=3 ==========\n",
      "========== FINAL TRAINING Fold=4 ==========\n",
      "========== FINAL TRAINING Fold=5 ==========\n"
     ]
    },
    {
     "name": "stderr",
     "output_type": "stream",
     "text": [
      " 50%|██████████████████████████████████████████                                          | 2/4 [00:10<00:10,  5.47s/it]"
     ]
    },
    {
     "name": "stdout",
     "output_type": "stream",
     "text": [
      "========== FINAL TRAINING Fold=1 ==========\n",
      "========== FINAL TRAINING Fold=2 ==========\n",
      "========== FINAL TRAINING Fold=3 ==========\n",
      "========== FINAL TRAINING Fold=4 ==========\n",
      "========== FINAL TRAINING Fold=5 ==========\n"
     ]
    },
    {
     "name": "stderr",
     "output_type": "stream",
     "text": [
      " 75%|███████████████████████████████████████████████████████████████                     | 3/4 [00:16<00:05,  5.51s/it]"
     ]
    },
    {
     "name": "stdout",
     "output_type": "stream",
     "text": [
      "========== FINAL TRAINING Fold=1 ==========\n",
      "========== FINAL TRAINING Fold=2 ==========\n",
      "========== FINAL TRAINING Fold=3 ==========\n",
      "========== FINAL TRAINING Fold=4 ==========\n",
      "========== FINAL TRAINING Fold=5 ==========\n"
     ]
    },
    {
     "name": "stderr",
     "output_type": "stream",
     "text": [
      "100%|████████████████████████████████████████████████████████████████████████████████████| 4/4 [00:21<00:00,  5.26s/it]\n"
     ]
    }
   ],
   "source": [
    "def train(param_grid):\n",
    "    reg = render_model(param_grid)\n",
    "    skf = StratifiedKFold(n_splits=FOLDS, shuffle=True, random_state=RANDOM_STATE)\n",
    "    for fold, (train_idx, valid_idx) in enumerate(skf.split(train_df[features], train_df[target])):\n",
    "        print(10*\"=\", f\"FINAL TRAINING Fold={fold+1}\", 10*\"=\")\n",
    "        X_train, X_valid = train_df.iloc[train_idx][features], train_df.iloc[valid_idx][features]\n",
    "        y_train , y_valid = train_df[target].iloc[train_idx] , train_df[target].iloc[valid_idx] \n",
    "        reg, roc_auc = train_model(reg, X_train, y_train, X_valid, y_valid)\n",
    "    return reg\n",
    "\n",
    "percent = math.ceil(len(param_grid_history.keys()) * .3)\n",
    "top = sorted(list(param_grid_history.keys()))[-percent:]\n",
    "\n",
    "train_preds = []\n",
    "test_preds = []\n",
    "for key in tqdm(top):\n",
    "    model = train(param_grid_history[key])\n",
    "    train_preds.append(model.predict(train_df[features]))\n",
    "    test_preds.append(model.predict(test_df[features]))\n",
    "\n",
    "train_final_preds = np.stack(train_preds).mean(0)\n",
    "test_final_preds = np.stack(test_preds).mean(0)"
   ]
  },
  {
   "cell_type": "code",
   "execution_count": 16,
   "id": "6a849ba6-0559-42be-88da-2b5f6738d4f1",
   "metadata": {},
   "outputs": [],
   "source": [
    "train_submission = pd.DataFrame(data={'id': train_df.index, target[0]: train_final_preds})\n",
    "train_submission.to_csv(fr'rendered_data/{objective}_train_submission.csv', index=False)\n",
    "\n",
    "test_submission = pd.DataFrame(data={'id': test_df.index, target[0]: test_final_preds})\n",
    "test_submission.to_csv(fr'rendered_data/{objective}_test_submission.csv', index=False)"
   ]
  },
  {
   "cell_type": "code",
   "execution_count": null,
   "id": "e39940d7-295b-4781-b008-0faa28ecb553",
   "metadata": {},
   "outputs": [],
   "source": []
  },
  {
   "cell_type": "code",
   "execution_count": null,
   "id": "d4101df8-7385-492d-b06e-7f42d874cf66",
   "metadata": {},
   "outputs": [],
   "source": []
  },
  {
   "cell_type": "code",
   "execution_count": null,
   "id": "0aff80b8-37d3-44e2-9082-25cc759d93a0",
   "metadata": {},
   "outputs": [],
   "source": []
  },
  {
   "cell_type": "code",
   "execution_count": null,
   "id": "b21e7362-c2ca-4bee-8666-9c4e305e1fd4",
   "metadata": {},
   "outputs": [],
   "source": []
  },
  {
   "cell_type": "code",
   "execution_count": null,
   "id": "8872ad54-57a6-4511-9389-3a46ad31366f",
   "metadata": {},
   "outputs": [],
   "source": []
  }
 ],
 "metadata": {
  "kernelspec": {
   "display_name": "Python 3 (ipykernel)",
   "language": "python",
   "name": "python3"
  },
  "language_info": {
   "codemirror_mode": {
    "name": "ipython",
    "version": 3
   },
   "file_extension": ".py",
   "mimetype": "text/x-python",
   "name": "python",
   "nbconvert_exporter": "python",
   "pygments_lexer": "ipython3",
   "version": "3.10.9"
  }
 },
 "nbformat": 4,
 "nbformat_minor": 5
}
