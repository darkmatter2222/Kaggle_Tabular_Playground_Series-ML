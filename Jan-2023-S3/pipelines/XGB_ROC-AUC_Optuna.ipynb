{
 "cells": [
  {
   "cell_type": "code",
   "execution_count": 1,
   "id": "936b5758-0b17-4f59-bdfa-beb3ee47a143",
   "metadata": {},
   "outputs": [],
   "source": [
    "import numpy as np\n",
    "import pandas as pd\n",
    "import math\n",
    "import sys, os\n",
    "#import seaborn as sns\n",
    "#from scipy import stats\n",
    "#from pathlib import Path\n",
    "#import matplotlib.pyplot as plt\n",
    "#from sklearn.model_selection import KFold\n",
    "from sklearn.preprocessing import MinMaxScaler\n",
    "from sklearn.model_selection import train_test_split\n",
    "#from sklearn.metrics import mean_squared_error\n",
    "#from sklearn.metrics import mean_squared_error\n",
    "#from sklearn.preprocessing import MinMaxScaler\n",
    "#from sklearn.datasets import fetch_california_housing\n",
    "#import math\n",
    "from tqdm import tqdm\n",
    "from sklearn.feature_extraction.text import CountVectorizer\n",
    "from sklearn.preprocessing import LabelEncoder, OneHotEncoder, OrdinalEncoder\n",
    "import optuna\n",
    "from optuna.samplers import TPESampler\n",
    "#import lightgbm as lgbm\n",
    "#from xgboost import XGBRegressor\n",
    "import xgboost as xgb\n",
    "#from catboost import CatBoostRegressor\n",
    "#from lightgbm.sklearn import LGBMRegressor\n",
    "#from sklearn.ensemble import RandomForestRegressor\n",
    "import pickle\n",
    "from sklearn.metrics import roc_curve, auc\n",
    "from sklearn.model_selection import StratifiedKFold\n",
    "pd.set_option('display.max_columns', 500)\n",
    "from sklearn.metrics import roc_auc_score\n",
    "import pandas as pd\n",
    "import numpy as np\n",
    "from tqdm import tqdm\n",
    "from sklearn.metrics import roc_curve, auc,recall_score,precision_score\n",
    "from sklearn import metrics\n",
    "\n",
    "import sys, os\n",
    "import pandas as pd\n",
    "import seaborn as sns\n",
    "import numpy as np\n",
    "import matplotlib.pyplot as plt\n",
    "from sklearn.feature_extraction.text import CountVectorizer\n",
    "import math\n",
    "import pickle\n",
    "import mplcyberpunk"
   ]
  },
  {
   "cell_type": "code",
   "execution_count": 2,
   "id": "65a1724a-47d5-4e16-abe6-cabcb3c82980",
   "metadata": {},
   "outputs": [],
   "source": [
    "from itertools import islice, cycle\n",
    "\n",
    "plt.style.use(\"cyberpunk\")\n",
    "\n",
    "def add_secondary_plot(df, column, target_column, ax, n_bins, color=3, show_yticks=False, marker=\".\"):\n",
    "    secondary_ax = ax.twinx()\n",
    "    bins = pd.cut(df[column], bins=n_bins)\n",
    "    bins = pd.IntervalIndex(bins)\n",
    "    bins = (bins.left + bins.right) / 2\n",
    "    target = df.groupby(bins)[target_column].mean()\n",
    "    target.plot(\n",
    "        ax=secondary_ax, linestyle='',\n",
    "        marker=marker, color=color, label=f\"Mean '{target_column}'\"\n",
    "    )\n",
    "    secondary_ax.grid(visible=False)\n",
    "    \n",
    "    if not show_yticks:\n",
    "        secondary_ax.get_yaxis().set_ticks([])\n",
    "        \n",
    "    return secondary_ax\n",
    "\n",
    "def render_feature_distros(train_df, test_df, features=[], labels=[], n_bins=50, n_cols=4, pad=2, h_pad=4, w_pad=None):\n",
    "    histplot_hyperparams = {\n",
    "        'kde':True,\n",
    "        'alpha':0.4,\n",
    "        'stat':'percent',\n",
    "        'bins':n_bins\n",
    "    }\n",
    "    markers = ['.', '+', 'x', '1', '2']\n",
    "    \n",
    "    n_rows = math.ceil(len(features) / n_cols)\n",
    "    cell_with_dim = 4\n",
    "    cell_height_dim = 3\n",
    "    \n",
    "    fig, ax = plt.subplots(n_rows, n_cols, figsize=(n_cols * cell_with_dim, n_rows * cell_height_dim))\n",
    "    plt.tight_layout(pad=pad, h_pad=h_pad, w_pad=w_pad, rect=None)\n",
    "    \n",
    "    # delete exess subplots\n",
    "    for a in ax[n_rows - 1, int(((n_rows - (len(features) / n_cols)) * n_cols*-1)):]:\n",
    "        a.axis('off')\n",
    "        \n",
    "    leg_handles = []\n",
    "    leg_labels = []\n",
    "    \n",
    "    axs = []\n",
    "\n",
    "    for i, feature in enumerate(features):\n",
    "        row = math.ceil(i / n_cols) - 1\n",
    "        col = (i % n_cols)\n",
    "        \n",
    "        color_cycle = islice(mplcyberpunk.cyberpunk_stylesheets['cyberpunk']['axes.prop_cycle'], 0, None)\n",
    "        \n",
    "        sns.histplot(train_df[feature], label='Train X', ax=ax[row, col], color=next(color_cycle)['color'], **histplot_hyperparams)\n",
    "        sns.histplot(test_df[feature], label='Test X', ax=ax[row, col],color=next(color_cycle)['color'], **histplot_hyperparams)\n",
    "        ax[row, col].set_title(f'{feature} Distribution')\n",
    "        mplcyberpunk.make_lines_glow(ax[row, col])\n",
    "        axs.append(ax[row, col].get_legend_handles_labels())\n",
    "\n",
    "        for j, label in enumerate(labels):\n",
    "            sub_ax = add_secondary_plot(train_df, feature, label, ax[row, col], n_bins, color=next(color_cycle)['color'], marker=markers[j])\n",
    "            axs.append(sub_ax.get_legend_handles_labels())\n",
    "        \n",
    "    for axis in axs:\n",
    "        if axis[1][0] not in leg_labels:\n",
    "            leg_labels.extend(axis[1])\n",
    "            leg_handles.extend(axis[0])\n",
    "        \n",
    "    fig.legend(leg_handles, leg_labels, loc='upper center', bbox_to_anchor=(0.5, 1.04), fontsize=14, ncol=len(features) + 2)"
   ]
  },
  {
   "cell_type": "code",
   "execution_count": 3,
   "id": "baf23cb5-cc6a-4dae-9dc1-7dc1b7b4021a",
   "metadata": {},
   "outputs": [],
   "source": [
    "train_time = 1 * 60 * 60\n",
    "objective = 'xgbregressor'"
   ]
  },
  {
   "cell_type": "code",
   "execution_count": 4,
   "id": "30af7575-c694-4420-81e3-8f4608abc789",
   "metadata": {},
   "outputs": [],
   "source": [
    "sys.path.append(os.path.realpath('..'))"
   ]
  },
  {
   "cell_type": "code",
   "execution_count": 5,
   "id": "1ae92e2f-1d42-4d7f-953e-6cb3b5eb9e0e",
   "metadata": {},
   "outputs": [],
   "source": [
    "train_df = pd.read_csv(r\"..\\data\\train.csv\", index_col=0)\n",
    "test_df = pd.read_csv(r\"..\\data\\test.csv\", index_col=0)\n",
    "sample_sub = pd.read_csv(r\"..\\data\\sample_submission.csv\", index_col=0)"
   ]
  },
  {
   "cell_type": "code",
   "execution_count": 6,
   "id": "433cce54-7033-4c6a-8fbb-bdee32110ecd",
   "metadata": {},
   "outputs": [
    {
     "data": {
      "text/html": [
       "<div>\n",
       "<style scoped>\n",
       "    .dataframe tbody tr th:only-of-type {\n",
       "        vertical-align: middle;\n",
       "    }\n",
       "\n",
       "    .dataframe tbody tr th {\n",
       "        vertical-align: top;\n",
       "    }\n",
       "\n",
       "    .dataframe thead th {\n",
       "        text-align: right;\n",
       "    }\n",
       "</style>\n",
       "<table border=\"1\" class=\"dataframe\">\n",
       "  <thead>\n",
       "    <tr style=\"text-align: right;\">\n",
       "      <th></th>\n",
       "      <th>Total</th>\n",
       "      <th>Percent</th>\n",
       "    </tr>\n",
       "  </thead>\n",
       "  <tbody>\n",
       "    <tr>\n",
       "      <th>Age</th>\n",
       "      <td>0</td>\n",
       "      <td>0.0</td>\n",
       "    </tr>\n",
       "    <tr>\n",
       "      <th>StockOptionLevel</th>\n",
       "      <td>0</td>\n",
       "      <td>0.0</td>\n",
       "    </tr>\n",
       "    <tr>\n",
       "      <th>Over18</th>\n",
       "      <td>0</td>\n",
       "      <td>0.0</td>\n",
       "    </tr>\n",
       "    <tr>\n",
       "      <th>OverTime</th>\n",
       "      <td>0</td>\n",
       "      <td>0.0</td>\n",
       "    </tr>\n",
       "    <tr>\n",
       "      <th>PercentSalaryHike</th>\n",
       "      <td>0</td>\n",
       "      <td>0.0</td>\n",
       "    </tr>\n",
       "    <tr>\n",
       "      <th>PerformanceRating</th>\n",
       "      <td>0</td>\n",
       "      <td>0.0</td>\n",
       "    </tr>\n",
       "    <tr>\n",
       "      <th>RelationshipSatisfaction</th>\n",
       "      <td>0</td>\n",
       "      <td>0.0</td>\n",
       "    </tr>\n",
       "    <tr>\n",
       "      <th>StandardHours</th>\n",
       "      <td>0</td>\n",
       "      <td>0.0</td>\n",
       "    </tr>\n",
       "    <tr>\n",
       "      <th>TotalWorkingYears</th>\n",
       "      <td>0</td>\n",
       "      <td>0.0</td>\n",
       "    </tr>\n",
       "    <tr>\n",
       "      <th>BusinessTravel</th>\n",
       "      <td>0</td>\n",
       "      <td>0.0</td>\n",
       "    </tr>\n",
       "  </tbody>\n",
       "</table>\n",
       "</div>"
      ],
      "text/plain": [
       "                          Total  Percent\n",
       "Age                           0      0.0\n",
       "StockOptionLevel              0      0.0\n",
       "Over18                        0      0.0\n",
       "OverTime                      0      0.0\n",
       "PercentSalaryHike             0      0.0\n",
       "PerformanceRating             0      0.0\n",
       "RelationshipSatisfaction      0      0.0\n",
       "StandardHours                 0      0.0\n",
       "TotalWorkingYears             0      0.0\n",
       "BusinessTravel                0      0.0"
      ]
     },
     "execution_count": 6,
     "metadata": {},
     "output_type": "execute_result"
    }
   ],
   "source": [
    "total = train_df.isnull().sum().sort_values(ascending=False)\n",
    "percent = (train_df.isnull().sum()/train_df.isnull().count()).sort_values(ascending=False)\n",
    "missing_data = pd.concat([total, percent], axis=1, keys=['Total', 'Percent'])\n",
    "missing_data.head(10)"
   ]
  },
  {
   "cell_type": "code",
   "execution_count": 7,
   "id": "09ca2d44-448c-45a8-a500-15ffd3b3041f",
   "metadata": {},
   "outputs": [],
   "source": [
    "del train_df['Over18']\n",
    "del train_df['EmployeeCount']\n",
    "del train_df['StandardHours']"
   ]
  },
  {
   "cell_type": "code",
   "execution_count": 8,
   "id": "bcc257a3-0717-47f3-911a-40404ffbf02f",
   "metadata": {},
   "outputs": [
    {
     "name": "stdout",
     "output_type": "stream",
     "text": [
      "BusinessTravel\n",
      "Department\n",
      "EducationField\n",
      "Gender\n",
      "JobRole\n",
      "MaritalStatus\n",
      "OverTime\n"
     ]
    }
   ],
   "source": [
    "columns_to_vectorize = ['BusinessTravel', 'Department', 'EducationField', 'Gender', 'JobRole', 'MaritalStatus', 'OverTime']\n",
    "for vector_target in columns_to_vectorize:\n",
    "    print(vector_target)\n",
    "    vectorizer = CountVectorizer()\n",
    "    vectorizer.fit_transform(train_df[vector_target])\n",
    "    train_df[f'{vector_target}_v'] = vectorizer.transform(train_df[vector_target]).toarray().argmax(axis=1)[:,None]\n",
    "    vectorizer.fit_transform(test_df[vector_target])\n",
    "    test_df[f'{vector_target}_v'] = vectorizer.transform(test_df[vector_target]).toarray().argmax(axis=1)[:,None]"
   ]
  },
  {
   "cell_type": "code",
   "execution_count": 9,
   "id": "1d2b4c9f-993a-45f0-b216-294e6c732919",
   "metadata": {},
   "outputs": [],
   "source": [
    "features = ['Age', 'DailyRate', 'DistanceFromHome', 'Education', 'EnvironmentSatisfaction','HourlyRate', 'JobInvolvement', 'JobLevel', 'JobSatisfaction', \n",
    "       'MonthlyIncome', 'MonthlyRate', 'NumCompaniesWorked', 'PercentSalaryHike', 'PerformanceRating', 'RelationshipSatisfaction', 'StockOptionLevel', 'TotalWorkingYears',\n",
    "       'TrainingTimesLastYear', 'WorkLifeBalance', 'YearsAtCompany', 'YearsInCurrentRole', 'YearsSinceLastPromotion', 'YearsWithCurrManager',\n",
    "        'BusinessTravel_v', 'Department_v', 'EducationField_v','Gender_v', 'JobRole_v', 'MaritalStatus_v', 'OverTime_v']\n",
    "target = ['Attrition']"
   ]
  },
  {
   "cell_type": "code",
   "execution_count": 10,
   "id": "ed6f4daf-2da6-415b-9ef1-c9def5ae5dee",
   "metadata": {},
   "outputs": [],
   "source": [
    "scaler = MinMaxScaler().fit(train_df[features])\n",
    "X = scaler.transform(train_df[features])\n",
    "X_test = scaler.transform(test_df[features])\n",
    "\n",
    "scaler = MinMaxScaler().fit(train_df[target])\n",
    "Y = scaler.transform(train_df[target])"
   ]
  },
  {
   "cell_type": "code",
   "execution_count": 11,
   "id": "1c0df4c6-ff19-49ab-9655-45f8fac57d0c",
   "metadata": {},
   "outputs": [],
   "source": [
    "RANDOM_STATE = 12 \n",
    "FOLDS = 5\n",
    "param_grid_history = {}\n",
    "\n",
    "\n",
    "def objective_v3(trial):\n",
    "    oof = np.zeros(len(X))\n",
    "    scores = []\n",
    "    param_grid = {\n",
    "        'max_depth': trial.suggest_int('max_depth', 3, 8),\n",
    "        'n_estimators': trial.suggest_int('n_estimators', 2, 1000, 1), \n",
    "        #'learning_rate': trial.suggest_float('learning_rate', 0.001, 0.9),\n",
    "        'min_child_weight': trial.suggest_float('min_child_weight', 0.001, 0.9),\n",
    "        'eta': trial.suggest_float('eta', 0.001, 0.9), \n",
    "        'subsample': trial.suggest_float('subsample', 0.1, 1),\n",
    "        'colsample_bytree': trial.suggest_float('colsample_bytree', 0.1, 1),\n",
    "        'reg_lambda': trial.suggest_float('reg_lambda', 1, 5), \n",
    "    } \n",
    "        \n",
    "    skf = StratifiedKFold(n_splits=FOLDS, shuffle=True, random_state=RANDOM_STATE)\n",
    "    for fold, (train_idx, valid_idx) in enumerate(skf.split(X, Y)):\n",
    "        print(10*\"=\", f\"Fold={fold+1}\", 10*\"=\")\n",
    "        X_train, X_valid = train_df.iloc[train_idx][features], train_df.iloc[valid_idx][features]\n",
    "        y_train , y_valid = train_df[target].iloc[train_idx] , train_df[target].iloc[valid_idx] \n",
    "        \n",
    "        reg = xgb.XGBModel(\n",
    "            # These parameters should help with trial speed.\n",
    "            objective='binary:logistic',\n",
    "            tree_method='gpu_hist',\n",
    "            booster='gbtree',\n",
    "            predictor='gpu_predictor',\n",
    "            n_jobs=4,\n",
    "            eval_metric='auc',\n",
    "            early_stopping_rounds=100,\n",
    "            **param_grid\n",
    "        )\n",
    "\n",
    "        reg.fit(X_train, y_train, eval_set=[(X_valid, y_valid)], verbose=False)\n",
    "            \n",
    "        oof[valid_idx] = reg.predict(X_valid)\n",
    "\n",
    "    roc_auc = roc_auc_score(Y, oof)\n",
    "    \n",
    "    param_grid_history[roc_auc] = param_grid\n",
    "\n",
    "    return roc_auc"
   ]
  },
  {
   "cell_type": "code",
   "execution_count": 12,
   "id": "85e72ce8-201d-4961-845a-ad72ae9714a7",
   "metadata": {},
   "outputs": [],
   "source": [
    "param_grid_history = {}\n",
    "\n",
    "def skfold_cv(model, X, y, metric, n_folds=69):\n",
    "    skfold = StratifiedKFold(n_splits=n_folds, random_state=0, shuffle=True)\n",
    "    scores = []\n",
    "    for train_index, test_index in skfold.split(X, y):\n",
    "        X_train, X_test = X.iloc[train_index], X.iloc[test_index]\n",
    "        y_train, y_test = y.iloc[train_index], y.iloc[test_index]\n",
    "        \n",
    "        model.fit(X_train, y_train, eval_set=[(X_test, y_test)], verbose=0)\n",
    "        predictions = model.predict_proba(X_test.values)\n",
    "        \n",
    "        score = metric(y_test, predictions[:, 1])\n",
    "        scores.append(score)\n",
    "        print(f'ROC AUC: {score:.3f}')\n",
    "    return scores\n",
    "\n",
    "def objective_v4(trial):\n",
    "    param_grid = {\n",
    "        'max_depth': trial.suggest_int('max_depth', 1, 10),\n",
    "        'learning_rate': trial.suggest_float('learning_rate', 0.001, 0.05),\n",
    "        'min_child_weight': trial.suggest_int('min_child_weight', 1, 10),\n",
    "        'gamma': trial.suggest_float('gamma', 0.01, 1.0),\n",
    "        'subsample': trial.suggest_float('subsample', 0.01, 1.0),\n",
    "        'colsample_bytree': trial.suggest_float('colsample_bytree', 0.01, 1.0),\n",
    "        'reg_alpha': trial.suggest_float('reg_alpha', 0.01, 1.0),\n",
    "        'reg_lambda': trial.suggest_float('reg_lambda', 0.01, 1.0),\n",
    "        'random_state': trial.suggest_int('random_state', 1, 1000),\n",
    "        \"n_estimators\": trial.suggest_int('num_boost_round', 500, 2000),\n",
    "        'tree_method': 'gpu_hist',\n",
    "        'n_jobs': -1,\n",
    "        'early_stopping_rounds': 100\n",
    "    }\n",
    "    model = xgb.XGBClassifier(**param_grid)\n",
    "    scores = skfold_cv(model, train_df[features], train_df[target], roc_auc_score, 5)\n",
    "    score = np.sum(scores)/5\n",
    "    param_grid_history[score] = param_grid\n",
    "    return score"
   ]
  },
  {
   "cell_type": "code",
   "execution_count": 13,
   "id": "02818b3a-e7d1-4624-809f-7d009b3aeb5e",
   "metadata": {
    "collapsed": true,
    "jupyter": {
     "outputs_hidden": true
    },
    "tags": []
   },
   "outputs": [
    {
     "name": "stderr",
     "output_type": "stream",
     "text": [
      "\u001b[32m[I 2023-01-21 21:31:48,211]\u001b[0m A new study created in memory with name: xgbregressor\u001b[0m\n"
     ]
    },
    {
     "name": "stdout",
     "output_type": "stream",
     "text": [
      "ROC AUC: 0.831\n",
      "ROC AUC: 0.852\n",
      "ROC AUC: 0.833\n",
      "ROC AUC: 0.826\n"
     ]
    },
    {
     "name": "stderr",
     "output_type": "stream",
     "text": [
      "\u001b[32m[I 2023-01-21 21:32:01,740]\u001b[0m Trial 0 finished with value: 0.8372488547869903 and parameters: {'max_depth': 8, 'learning_rate': 0.010674578185900327, 'min_child_weight': 4, 'gamma': 0.5657752183677626, 'subsample': 0.47370149164399633, 'colsample_bytree': 0.21325271660376843, 'reg_alpha': 0.5145198389793625, 'reg_lambda': 0.642438763705907, 'random_state': 177, 'num_boost_round': 851}. Best is trial 0 with value: 0.8372488547869903.\u001b[0m\n"
     ]
    },
    {
     "name": "stdout",
     "output_type": "stream",
     "text": [
      "ROC AUC: 0.845\n",
      "ROC AUC: 0.826\n",
      "ROC AUC: 0.863\n",
      "ROC AUC: 0.828\n",
      "ROC AUC: 0.807\n"
     ]
    },
    {
     "name": "stderr",
     "output_type": "stream",
     "text": [
      "\u001b[32m[I 2023-01-21 21:32:11,252]\u001b[0m Trial 1 finished with value: 0.8347364292258359 and parameters: {'max_depth': 5, 'learning_rate': 0.01840042666421507, 'min_child_weight': 9, 'gamma': 0.944064773496654, 'subsample': 0.9646940514680609, 'colsample_bytree': 0.07798411723742764, 'reg_alpha': 0.9428731837118646, 'reg_lambda': 0.0351357318417761, 'random_state': 186, 'num_boost_round': 780}. Best is trial 0 with value: 0.8372488547869903.\u001b[0m\n"
     ]
    },
    {
     "name": "stdout",
     "output_type": "stream",
     "text": [
      "ROC AUC: 0.851\n",
      "ROC AUC: 0.839\n",
      "ROC AUC: 0.871\n",
      "ROC AUC: 0.833\n",
      "ROC AUC: 0.822\n"
     ]
    },
    {
     "name": "stderr",
     "output_type": "stream",
     "text": [
      "\u001b[32m[I 2023-01-21 21:32:25,273]\u001b[0m Trial 2 finished with value: 0.843840586349061 and parameters: {'max_depth': 10, 'learning_rate': 0.016258553930548533, 'min_child_weight': 6, 'gamma': 0.6456240055313482, 'subsample': 0.8922448801179391, 'colsample_bytree': 0.07889396897000915, 'reg_alpha': 0.5389097809840198, 'reg_lambda': 0.6630994153520258, 'random_state': 580, 'num_boost_round': 987}. Best is trial 2 with value: 0.843840586349061.\u001b[0m\n"
     ]
    },
    {
     "name": "stdout",
     "output_type": "stream",
     "text": [
      "ROC AUC: 0.855\n",
      "ROC AUC: 0.829\n",
      "ROC AUC: 0.844\n",
      "ROC AUC: 0.829\n",
      "ROC AUC: 0.817\n"
     ]
    },
    {
     "name": "stderr",
     "output_type": "stream",
     "text": [
      "\u001b[32m[I 2023-01-21 21:32:39,699]\u001b[0m Trial 3 finished with value: 0.831068941823179 and parameters: {'max_depth': 5, 'learning_rate': 0.009001537731925597, 'min_child_weight': 2, 'gamma': 0.37731909326770313, 'subsample': 0.753675046950986, 'colsample_bytree': 0.5988103858949919, 'reg_alpha': 0.8279152603083775, 'reg_lambda': 0.5715061427135222, 'random_state': 387, 'num_boost_round': 1595}. Best is trial 2 with value: 0.843840586349061.\u001b[0m\n"
     ]
    },
    {
     "name": "stdout",
     "output_type": "stream",
     "text": [
      "ROC AUC: 0.836\n",
      "ROC AUC: 0.838\n",
      "ROC AUC: 0.839\n",
      "ROC AUC: 0.832\n",
      "ROC AUC: 0.836\n"
     ]
    },
    {
     "name": "stderr",
     "output_type": "stream",
     "text": [
      "\u001b[32m[I 2023-01-21 21:32:46,109]\u001b[0m Trial 4 finished with value: 0.8396425217590471 and parameters: {'max_depth': 3, 'learning_rate': 0.019884237548403214, 'min_child_weight': 4, 'gamma': 0.19825806595892836, 'subsample': 0.44156856374427755, 'colsample_bytree': 0.3220653823860891, 'reg_alpha': 0.5814392690638341, 'reg_lambda': 0.5103762464929523, 'random_state': 644, 'num_boost_round': 535}. Best is trial 2 with value: 0.843840586349061.\u001b[0m\n"
     ]
    },
    {
     "name": "stdout",
     "output_type": "stream",
     "text": [
      "ROC AUC: 0.853\n",
      "ROC AUC: 0.845\n",
      "ROC AUC: 0.838\n",
      "ROC AUC: 0.839\n",
      "ROC AUC: 0.842\n"
     ]
    },
    {
     "name": "stderr",
     "output_type": "stream",
     "text": [
      "\u001b[32m[I 2023-01-21 21:32:55,225]\u001b[0m Trial 5 finished with value: 0.8434866010077876 and parameters: {'max_depth': 10, 'learning_rate': 0.021924308130644832, 'min_child_weight': 8, 'gamma': 0.9311621756177303, 'subsample': 0.38840308573260285, 'colsample_bytree': 0.4805861660332028, 'reg_alpha': 0.14864900505433706, 'reg_lambda': 0.2599327009929979, 'random_state': 993, 'num_boost_round': 759}. Best is trial 2 with value: 0.843840586349061.\u001b[0m\n"
     ]
    },
    {
     "name": "stdout",
     "output_type": "stream",
     "text": [
      "ROC AUC: 0.854\n",
      "ROC AUC: 0.792\n",
      "ROC AUC: 0.805\n",
      "ROC AUC: 0.804\n",
      "ROC AUC: 0.805\n"
     ]
    },
    {
     "name": "stderr",
     "output_type": "stream",
     "text": [
      "\u001b[32m[I 2023-01-21 21:33:13,555]\u001b[0m Trial 6 finished with value: 0.8031543174530462 and parameters: {'max_depth': 4, 'learning_rate': 0.0016489697030756317, 'min_child_weight': 10, 'gamma': 0.11472462896837532, 'subsample': 0.8519281131008911, 'colsample_bytree': 0.8926596006328521, 'reg_alpha': 0.3148508751511458, 'reg_lambda': 0.3693500417438456, 'random_state': 94, 'num_boost_round': 1336}. Best is trial 2 with value: 0.843840586349061.\u001b[0m\n"
     ]
    },
    {
     "name": "stdout",
     "output_type": "stream",
     "text": [
      "ROC AUC: 0.809\n",
      "ROC AUC: 0.852\n",
      "ROC AUC: 0.836\n",
      "ROC AUC: 0.813\n",
      "ROC AUC: 0.842\n"
     ]
    },
    {
     "name": "stderr",
     "output_type": "stream",
     "text": [
      "\u001b[32m[I 2023-01-21 21:33:21,032]\u001b[0m Trial 7 finished with value: 0.8381437242327072 and parameters: {'max_depth': 9, 'learning_rate': 0.03886166972133768, 'min_child_weight': 1, 'gamma': 0.1916093653870708, 'subsample': 0.4006344578601931, 'colsample_bytree': 0.17057171429639686, 'reg_alpha': 0.462571363907602, 'reg_lambda': 0.2052819747068705, 'random_state': 926, 'num_boost_round': 667}. Best is trial 2 with value: 0.843840586349061.\u001b[0m\n"
     ]
    },
    {
     "name": "stdout",
     "output_type": "stream",
     "text": [
      "ROC AUC: 0.847\n",
      "ROC AUC: 0.798\n",
      "ROC AUC: 0.805\n",
      "ROC AUC: 0.792\n",
      "ROC AUC: 0.761\n"
     ]
    },
    {
     "name": "stderr",
     "output_type": "stream",
     "text": [
      "\u001b[32m[I 2023-01-21 21:33:24,724]\u001b[0m Trial 8 finished with value: 0.794608108108108 and parameters: {'max_depth': 2, 'learning_rate': 0.04363862333181868, 'min_child_weight': 1, 'gamma': 0.5852162515528269, 'subsample': 0.025870887603843255, 'colsample_bytree': 0.21781143194427222, 'reg_alpha': 0.3551004082181759, 'reg_lambda': 0.22136579696132777, 'random_state': 374, 'num_boost_round': 1661}. Best is trial 2 with value: 0.843840586349061.\u001b[0m\n"
     ]
    },
    {
     "name": "stdout",
     "output_type": "stream",
     "text": [
      "ROC AUC: 0.817\n",
      "ROC AUC: 0.500\n",
      "ROC AUC: 0.500\n",
      "ROC AUC: 0.500\n",
      "ROC AUC: 0.500\n"
     ]
    },
    {
     "name": "stderr",
     "output_type": "stream",
     "text": [
      "\u001b[32m[I 2023-01-21 21:33:31,224]\u001b[0m Trial 9 finished with value: 0.5 and parameters: {'max_depth': 7, 'learning_rate': 0.015430646992468888, 'min_child_weight': 7, 'gamma': 0.47295938436602475, 'subsample': 0.02609624666869552, 'colsample_bytree': 0.9273697844704815, 'reg_alpha': 0.8264074901150246, 'reg_lambda': 0.7429256792653268, 'random_state': 100, 'num_boost_round': 1257}. Best is trial 2 with value: 0.843840586349061.\u001b[0m\n"
     ]
    },
    {
     "name": "stdout",
     "output_type": "stream",
     "text": [
      "ROC AUC: 0.500\n",
      "ROC AUC: 0.821\n",
      "ROC AUC: 0.823\n",
      "ROC AUC: 0.823\n",
      "ROC AUC: 0.831\n"
     ]
    },
    {
     "name": "stderr",
     "output_type": "stream",
     "text": [
      "\u001b[32m[I 2023-01-21 21:33:37,780]\u001b[0m Trial 10 finished with value: 0.8281904489234998 and parameters: {'max_depth': 7, 'learning_rate': 0.0327705989951933, 'min_child_weight': 6, 'gamma': 0.7368885180514855, 'subsample': 0.6768515140138199, 'colsample_bytree': 0.7118589219996928, 'reg_alpha': 0.09238986291558188, 'reg_lambda': 0.9987830693938606, 'random_state': 651, 'num_boost_round': 1988}. Best is trial 2 with value: 0.843840586349061.\u001b[0m\n"
     ]
    },
    {
     "name": "stdout",
     "output_type": "stream",
     "text": [
      "ROC AUC: 0.843\n",
      "ROC AUC: 0.832\n",
      "ROC AUC: 0.842\n",
      "ROC AUC: 0.854\n",
      "ROC AUC: 0.834\n"
     ]
    },
    {
     "name": "stderr",
     "output_type": "stream",
     "text": [
      "\u001b[32m[I 2023-01-21 21:33:46,726]\u001b[0m Trial 11 finished with value: 0.8400683692166744 and parameters: {'max_depth': 10, 'learning_rate': 0.02734754737805279, 'min_child_weight': 8, 'gamma': 0.9661729779505662, 'subsample': 0.28305269207974015, 'colsample_bytree': 0.3967114711720497, 'reg_alpha': 0.061403394599782404, 'reg_lambda': 0.8571237031193333, 'random_state': 949, 'num_boost_round': 1013}. Best is trial 2 with value: 0.843840586349061.\u001b[0m\n"
     ]
    },
    {
     "name": "stdout",
     "output_type": "stream",
     "text": [
      "ROC AUC: 0.838\n",
      "ROC AUC: 0.830\n",
      "ROC AUC: 0.840\n",
      "ROC AUC: 0.828\n",
      "ROC AUC: 0.831\n"
     ]
    },
    {
     "name": "stderr",
     "output_type": "stream",
     "text": [
      "\u001b[32m[I 2023-01-21 21:33:53,941]\u001b[0m Trial 12 finished with value: 0.8350373912047641 and parameters: {'max_depth': 10, 'learning_rate': 0.02603294773451247, 'min_child_weight': 5, 'gamma': 0.7719053220237289, 'subsample': 0.6224230477607382, 'colsample_bytree': 0.48654227802511874, 'reg_alpha': 0.21013453168527285, 'reg_lambda': 0.33516818074256144, 'random_state': 751, 'num_boost_round': 1008}. Best is trial 2 with value: 0.843840586349061.\u001b[0m\n"
     ]
    },
    {
     "name": "stdout",
     "output_type": "stream",
     "text": [
      "ROC AUC: 0.847\n",
      "ROC AUC: 0.821\n",
      "ROC AUC: 0.852\n",
      "ROC AUC: 0.824\n",
      "ROC AUC: 0.824\n"
     ]
    },
    {
     "name": "stderr",
     "output_type": "stream",
     "text": [
      "\u001b[32m[I 2023-01-21 21:34:02,229]\u001b[0m Trial 13 finished with value: 0.8290523362345397 and parameters: {'max_depth': 8, 'learning_rate': 0.03244793673880886, 'min_child_weight': 7, 'gamma': 0.767975709804587, 'subsample': 0.23710660277694373, 'colsample_bytree': 0.03281428807406811, 'reg_alpha': 0.6440782111089288, 'reg_lambda': 0.43328057477908266, 'random_state': 795, 'num_boost_round': 957}. Best is trial 2 with value: 0.843840586349061.\u001b[0m\n"
     ]
    },
    {
     "name": "stdout",
     "output_type": "stream",
     "text": [
      "ROC AUC: 0.824\n",
      "ROC AUC: 0.795\n",
      "ROC AUC: 0.808\n",
      "ROC AUC: 0.803\n",
      "ROC AUC: 0.804\n"
     ]
    },
    {
     "name": "stderr",
     "output_type": "stream",
     "text": [
      "\u001b[32m[I 2023-01-21 21:34:11,875]\u001b[0m Trial 14 finished with value: 0.8049299129638111 and parameters: {'max_depth': 10, 'learning_rate': 0.004452043490096189, 'min_child_weight': 8, 'gamma': 0.8442990400745154, 'subsample': 0.962609732900638, 'colsample_bytree': 0.6963553202552668, 'reg_alpha': 0.7222917284908944, 'reg_lambda': 0.7371560104008741, 'random_state': 540, 'num_boost_round': 517}. Best is trial 2 with value: 0.843840586349061.\u001b[0m\n"
     ]
    },
    {
     "name": "stdout",
     "output_type": "stream",
     "text": [
      "ROC AUC: 0.814\n",
      "ROC AUC: 0.827\n",
      "ROC AUC: 0.840\n",
      "ROC AUC: 0.835\n",
      "ROC AUC: 0.827\n"
     ]
    },
    {
     "name": "stderr",
     "output_type": "stream",
     "text": [
      "\u001b[32m[I 2023-01-21 21:34:22,153]\u001b[0m Trial 15 finished with value: 0.836072835547412 and parameters: {'max_depth': 7, 'learning_rate': 0.01959952567295664, 'min_child_weight': 10, 'gamma': 0.6632570444977679, 'subsample': 0.5790114945461957, 'colsample_bytree': 0.3676724744937546, 'reg_alpha': 0.3716299477511027, 'reg_lambda': 0.0364336386298805, 'random_state': 357, 'num_boost_round': 1118}. Best is trial 2 with value: 0.843840586349061.\u001b[0m\n"
     ]
    },
    {
     "name": "stdout",
     "output_type": "stream",
     "text": [
      "ROC AUC: 0.851\n",
      "ROC AUC: 0.846\n",
      "ROC AUC: 0.852\n",
      "ROC AUC: 0.845\n",
      "ROC AUC: 0.838\n"
     ]
    },
    {
     "name": "stderr",
     "output_type": "stream",
     "text": [
      "\u001b[32m[I 2023-01-21 21:34:32,780]\u001b[0m Trial 16 finished with value: 0.8450524507558406 and parameters: {'max_depth': 1, 'learning_rate': 0.012645085137598154, 'min_child_weight': 6, 'gamma': 0.3914838607956484, 'subsample': 0.26550828750714683, 'colsample_bytree': 0.5361464530080411, 'reg_alpha': 0.19926309225372862, 'reg_lambda': 0.22556312866082717, 'random_state': 988, 'num_boost_round': 1445}. Best is trial 16 with value: 0.8450524507558406.\u001b[0m\n"
     ]
    },
    {
     "name": "stdout",
     "output_type": "stream",
     "text": [
      "ROC AUC: 0.844\n",
      "ROC AUC: 0.839\n",
      "ROC AUC: 0.851\n",
      "ROC AUC: 0.844\n",
      "ROC AUC: 0.838\n"
     ]
    },
    {
     "name": "stderr",
     "output_type": "stream",
     "text": [
      "\u001b[32m[I 2023-01-21 21:34:42,326]\u001b[0m Trial 17 finished with value: 0.8431256871278057 and parameters: {'max_depth': 1, 'learning_rate': 0.012510600147635458, 'min_child_weight': 5, 'gamma': 0.35122407745512996, 'subsample': 0.18797466620429476, 'colsample_bytree': 0.7660782804488493, 'reg_alpha': 0.2427959157249805, 'reg_lambda': 0.652716056675672, 'random_state': 801, 'num_boost_round': 1480}. Best is trial 16 with value: 0.8450524507558406.\u001b[0m\n"
     ]
    },
    {
     "name": "stdout",
     "output_type": "stream",
     "text": [
      "ROC AUC: 0.844\n",
      "ROC AUC: 0.837\n",
      "ROC AUC: 0.842\n",
      "ROC AUC: 0.844\n",
      "ROC AUC: 0.839\n"
     ]
    },
    {
     "name": "stderr",
     "output_type": "stream",
     "text": [
      "\u001b[32m[I 2023-01-21 21:35:00,609]\u001b[0m Trial 18 finished with value: 0.8409972514887768 and parameters: {'max_depth': 3, 'learning_rate': 0.006797504852334529, 'min_child_weight': 3, 'gamma': 0.4090325064440016, 'subsample': 0.1504151836709094, 'colsample_bytree': 0.6283498172248352, 'reg_alpha': 0.43403393497775106, 'reg_lambda': 0.10965933087948214, 'random_state': 485, 'num_boost_round': 1849}. Best is trial 16 with value: 0.8450524507558406.\u001b[0m\n"
     ]
    },
    {
     "name": "stdout",
     "output_type": "stream",
     "text": [
      "ROC AUC: 0.843\n",
      "ROC AUC: 0.838\n",
      "ROC AUC: 0.853\n",
      "ROC AUC: 0.841\n",
      "ROC AUC: 0.835\n"
     ]
    },
    {
     "name": "stderr",
     "output_type": "stream",
     "text": [
      "\u001b[32m[I 2023-01-21 21:35:10,862]\u001b[0m Trial 19 finished with value: 0.8424472056802566 and parameters: {'max_depth': 1, 'learning_rate': 0.014615628122869971, 'min_child_weight': 6, 'gamma': 0.2970795586163961, 'subsample': 0.7933084814001518, 'colsample_bytree': 0.5534157466997821, 'reg_alpha': 0.5967677260792709, 'reg_lambda': 0.8011947175913614, 'random_state': 859, 'num_boost_round': 1346}. Best is trial 16 with value: 0.8450524507558406.\u001b[0m\n"
     ]
    },
    {
     "name": "stdout",
     "output_type": "stream",
     "text": [
      "ROC AUC: 0.846\n",
      "ROC AUC: 0.838\n",
      "ROC AUC: 0.862\n",
      "ROC AUC: 0.824\n",
      "ROC AUC: 0.837\n"
     ]
    },
    {
     "name": "stderr",
     "output_type": "stream",
     "text": [
      "\u001b[32m[I 2023-01-21 21:35:17,778]\u001b[0m Trial 20 finished with value: 0.84411904489235 and parameters: {'max_depth': 6, 'learning_rate': 0.032415227511593175, 'min_child_weight': 4, 'gamma': 0.4888614279200061, 'subsample': 0.32084765980252483, 'colsample_bytree': 0.31099751607844356, 'reg_alpha': 0.2607340610772317, 'reg_lambda': 0.45742592625073997, 'random_state': 690, 'num_boost_round': 1154}. Best is trial 16 with value: 0.8450524507558406.\u001b[0m\n"
     ]
    },
    {
     "name": "stdout",
     "output_type": "stream",
     "text": [
      "ROC AUC: 0.860\n",
      "ROC AUC: 0.838\n",
      "ROC AUC: 0.835\n",
      "ROC AUC: 0.833\n",
      "ROC AUC: 0.826\n"
     ]
    },
    {
     "name": "stderr",
     "output_type": "stream",
     "text": [
      "\u001b[32m[I 2023-01-21 21:35:23,834]\u001b[0m Trial 21 finished with value: 0.8355607535501605 and parameters: {'max_depth': 6, 'learning_rate': 0.04950276949732389, 'min_child_weight': 4, 'gamma': 0.4930044679136915, 'subsample': 0.3105098756734081, 'colsample_bytree': 0.31375071344675387, 'reg_alpha': 0.2254054929143045, 'reg_lambda': 0.46411135658134034, 'random_state': 678, 'num_boost_round': 1155}. Best is trial 16 with value: 0.8450524507558406.\u001b[0m\n"
     ]
    },
    {
     "name": "stdout",
     "output_type": "stream",
     "text": [
      "ROC AUC: 0.845\n",
      "ROC AUC: 0.837\n",
      "ROC AUC: 0.859\n",
      "ROC AUC: 0.827\n",
      "ROC AUC: 0.825\n"
     ]
    },
    {
     "name": "stderr",
     "output_type": "stream",
     "text": [
      "\u001b[32m[I 2023-01-21 21:35:33,936]\u001b[0m Trial 22 finished with value: 0.8386467017865323 and parameters: {'max_depth': 4, 'learning_rate': 0.03201163156575636, 'min_child_weight': 6, 'gamma': 0.6218441292596528, 'subsample': 0.5524108152783718, 'colsample_bytree': 0.09495862439544926, 'reg_alpha': 0.2913796212020805, 'reg_lambda': 0.5580772245029573, 'random_state': 513, 'num_boost_round': 1438}. Best is trial 16 with value: 0.8450524507558406.\u001b[0m\n"
     ]
    },
    {
     "name": "stdout",
     "output_type": "stream",
     "text": [
      "ROC AUC: 0.845\n",
      "ROC AUC: 0.840\n",
      "ROC AUC: 0.852\n",
      "ROC AUC: 0.829\n",
      "ROC AUC: 0.823\n"
     ]
    },
    {
     "name": "stderr",
     "output_type": "stream",
     "text": [
      "\u001b[32m[I 2023-01-21 21:35:41,943]\u001b[0m Trial 23 finished with value: 0.8389888341731562 and parameters: {'max_depth': 6, 'learning_rate': 0.023217180511943287, 'min_child_weight': 3, 'gamma': 0.2831971165822453, 'subsample': 0.1121149743518266, 'colsample_bytree': 0.437016681158497, 'reg_alpha': 0.40852317875948785, 'reg_lambda': 0.35216478933919654, 'random_state': 869, 'num_boost_round': 1154}. Best is trial 16 with value: 0.8450524507558406.\u001b[0m\n"
     ]
    },
    {
     "name": "stdout",
     "output_type": "stream",
     "text": [
      "ROC AUC: 0.851\n",
      "ROC AUC: 0.840\n",
      "ROC AUC: 0.842\n",
      "ROC AUC: 0.842\n",
      "ROC AUC: 0.827\n"
     ]
    },
    {
     "name": "stderr",
     "output_type": "stream",
     "text": [
      "\u001b[32m[I 2023-01-21 21:35:48,565]\u001b[0m Trial 24 finished with value: 0.8413173385249657 and parameters: {'max_depth': 2, 'learning_rate': 0.027646995973853814, 'min_child_weight': 5, 'gamma': 0.46044607438144364, 'subsample': 0.32989166418468263, 'colsample_bytree': 0.28087678952199063, 'reg_alpha': 0.017533290886923292, 'reg_lambda': 0.14672701672621696, 'random_state': 573, 'num_boost_round': 1641}. Best is trial 16 with value: 0.8450524507558406.\u001b[0m\n"
     ]
    },
    {
     "name": "stdout",
     "output_type": "stream",
     "text": [
      "ROC AUC: 0.855\n",
      "ROC AUC: 0.833\n",
      "ROC AUC: 0.839\n",
      "ROC AUC: 0.830\n",
      "ROC AUC: 0.836\n"
     ]
    },
    {
     "name": "stderr",
     "output_type": "stream",
     "text": [
      "\u001b[32m[I 2023-01-21 21:35:55,121]\u001b[0m Trial 25 finished with value: 0.8383578218048557 and parameters: {'max_depth': 8, 'learning_rate': 0.03862871515955041, 'min_child_weight': 7, 'gamma': 0.6858533580133156, 'subsample': 0.5038695477444698, 'colsample_bytree': 0.14411110647545738, 'reg_alpha': 0.13153857325065238, 'reg_lambda': 0.6438994462264901, 'random_state': 736, 'num_boost_round': 925}. Best is trial 16 with value: 0.8450524507558406.\u001b[0m\n"
     ]
    },
    {
     "name": "stdout",
     "output_type": "stream",
     "text": [
      "ROC AUC: 0.853\n",
      "ROC AUC: 0.834\n",
      "ROC AUC: 0.857\n",
      "ROC AUC: 0.837\n",
      "ROC AUC: 0.819\n"
     ]
    },
    {
     "name": "stderr",
     "output_type": "stream",
     "text": [
      "\u001b[32m[I 2023-01-21 21:36:09,822]\u001b[0m Trial 26 finished with value: 0.8392940334402198 and parameters: {'max_depth': 9, 'learning_rate': 0.01690040675297013, 'min_child_weight': 3, 'gamma': 0.03113119951165999, 'subsample': 0.22077874361506172, 'colsample_bytree': 0.02393275045321385, 'reg_alpha': 0.5128500344298959, 'reg_lambda': 0.2810874168254507, 'random_state': 443, 'num_boost_round': 1492}. Best is trial 16 with value: 0.8450524507558406.\u001b[0m\n"
     ]
    },
    {
     "name": "stdout",
     "output_type": "stream",
     "text": [
      "ROC AUC: 0.849\n",
      "ROC AUC: 0.830\n",
      "ROC AUC: 0.843\n",
      "ROC AUC: 0.834\n",
      "ROC AUC: 0.830\n"
     ]
    },
    {
     "name": "stderr",
     "output_type": "stream",
     "text": [
      "\u001b[32m[I 2023-01-21 21:36:16,988]\u001b[0m Trial 27 finished with value: 0.8365104214383876 and parameters: {'max_depth': 4, 'learning_rate': 0.03678327822234026, 'min_child_weight': 5, 'gamma': 0.5427819718374199, 'subsample': 0.3620790885594914, 'colsample_bytree': 0.27409632195695777, 'reg_alpha': 0.18242620362345832, 'reg_lambda': 0.4263493775715492, 'random_state': 288, 'num_boost_round': 1243}. Best is trial 16 with value: 0.8450524507558406.\u001b[0m\n"
     ]
    },
    {
     "name": "stdout",
     "output_type": "stream",
     "text": [
      "ROC AUC: 0.847\n",
      "ROC AUC: 0.767\n",
      "ROC AUC: 0.811\n",
      "ROC AUC: 0.796\n",
      "ROC AUC: 0.791\n"
     ]
    },
    {
     "name": "stderr",
     "output_type": "stream",
     "text": [
      "\u001b[32m[I 2023-01-21 21:36:27,103]\u001b[0m Trial 28 finished with value: 0.7859808749427393 and parameters: {'max_depth': 2, 'learning_rate': 0.012539538070055041, 'min_child_weight': 6, 'gamma': 0.440848385924245, 'subsample': 0.09722443703066799, 'colsample_bytree': 0.5293987599093501, 'reg_alpha': 0.731193277105571, 'reg_lambda': 0.9164185783639505, 'random_state': 607, 'num_boost_round': 1090}. Best is trial 16 with value: 0.8450524507558406.\u001b[0m\n"
     ]
    },
    {
     "name": "stdout",
     "output_type": "stream",
     "text": [
      "ROC AUC: 0.765\n",
      "ROC AUC: 0.837\n",
      "ROC AUC: 0.854\n",
      "ROC AUC: 0.830\n",
      "ROC AUC: 0.827\n"
     ]
    },
    {
     "name": "stderr",
     "output_type": "stream",
     "text": [
      "\u001b[32m[I 2023-01-21 21:36:43,304]\u001b[0m Trial 29 finished with value: 0.8407519468621164 and parameters: {'max_depth': 8, 'learning_rate': 0.009775972529643705, 'min_child_weight': 4, 'gamma': 0.5493122548958729, 'subsample': 0.44637195405854135, 'colsample_bytree': 0.23535457519256764, 'reg_alpha': 0.2670563462838594, 'reg_lambda': 0.6903938631500668, 'random_state': 707, 'num_boost_round': 851}. Best is trial 16 with value: 0.8450524507558406.\u001b[0m\n"
     ]
    },
    {
     "name": "stdout",
     "output_type": "stream",
     "text": [
      "ROC AUC: 0.855\n",
      "ROC AUC: 0.838\n",
      "ROC AUC: 0.860\n",
      "ROC AUC: 0.824\n",
      "ROC AUC: 0.830\n"
     ]
    },
    {
     "name": "stderr",
     "output_type": "stream",
     "text": [
      "\u001b[32m[I 2023-01-21 21:36:57,665]\u001b[0m Trial 30 finished with value: 0.8371369102153 and parameters: {'max_depth': 9, 'learning_rate': 0.02339637481920469, 'min_child_weight': 2, 'gamma': 0.29231706592210827, 'subsample': 0.9002102547750777, 'colsample_bytree': 0.15927837840596287, 'reg_alpha': 0.5516592476399161, 'reg_lambda': 0.5928066259698314, 'random_state': 865, 'num_boost_round': 1790}. Best is trial 16 with value: 0.8450524507558406.\u001b[0m\n"
     ]
    },
    {
     "name": "stdout",
     "output_type": "stream",
     "text": [
      "ROC AUC: 0.833\n",
      "ROC AUC: 0.840\n",
      "ROC AUC: 0.839\n",
      "ROC AUC: 0.838\n",
      "ROC AUC: 0.840\n"
     ]
    },
    {
     "name": "stderr",
     "output_type": "stream",
     "text": [
      "\u001b[32m[I 2023-01-21 21:37:06,896]\u001b[0m Trial 31 finished with value: 0.8404550503893724 and parameters: {'max_depth': 9, 'learning_rate': 0.022214633941548004, 'min_child_weight': 8, 'gamma': 0.8873815624148936, 'subsample': 0.3807712306933533, 'colsample_bytree': 0.3993004678254032, 'reg_alpha': 0.11227045048209248, 'reg_lambda': 0.2820303583728391, 'random_state': 973, 'num_boost_round': 734}. Best is trial 16 with value: 0.8450524507558406.\u001b[0m\n"
     ]
    },
    {
     "name": "stdout",
     "output_type": "stream",
     "text": [
      "ROC AUC: 0.846\n",
      "ROC AUC: 0.830\n",
      "ROC AUC: 0.839\n",
      "ROC AUC: 0.840\n",
      "ROC AUC: 0.836\n"
     ]
    },
    {
     "name": "stderr",
     "output_type": "stream",
     "text": [
      "\u001b[32m[I 2023-01-21 21:37:12,867]\u001b[0m Trial 32 finished with value: 0.8347502290426018 and parameters: {'max_depth': 10, 'learning_rate': 0.03069022716994038, 'min_child_weight': 9, 'gamma': 0.8710622544860891, 'subsample': 0.2687528995034359, 'colsample_bytree': 0.6107881527567585, 'reg_alpha': 0.17134175397230686, 'reg_lambda': 0.16745317148613884, 'random_state': 909, 'num_boost_round': 849}. Best is trial 16 with value: 0.8450524507558406.\u001b[0m\n"
     ]
    },
    {
     "name": "stdout",
     "output_type": "stream",
     "text": [
      "ROC AUC: 0.829\n",
      "ROC AUC: 0.822\n",
      "ROC AUC: 0.837\n",
      "ROC AUC: 0.825\n",
      "ROC AUC: 0.823\n"
     ]
    },
    {
     "name": "stderr",
     "output_type": "stream",
     "text": [
      "\u001b[32m[I 2023-01-21 21:37:22,376]\u001b[0m Trial 33 finished with value: 0.8305362459917545 and parameters: {'max_depth': 5, 'learning_rate': 0.0183478219250961, 'min_child_weight': 7, 'gamma': 0.34172980216501225, 'subsample': 0.6932721537813843, 'colsample_bytree': 0.4730661329665595, 'reg_alpha': 0.021421725905255012, 'reg_lambda': 0.263683361244081, 'random_state': 793, 'num_boost_round': 690}. Best is trial 16 with value: 0.8450524507558406.\u001b[0m\n"
     ]
    },
    {
     "name": "stdout",
     "output_type": "stream",
     "text": [
      "ROC AUC: 0.845\n",
      "ROC AUC: 0.834\n",
      "ROC AUC: 0.831\n",
      "ROC AUC: 0.822\n",
      "ROC AUC: 0.830\n"
     ]
    },
    {
     "name": "stderr",
     "output_type": "stream",
     "text": [
      "\u001b[32m[I 2023-01-21 21:37:32,375]\u001b[0m Trial 34 finished with value: 0.8337356848373798 and parameters: {'max_depth': 6, 'learning_rate': 0.021243646322129252, 'min_child_weight': 4, 'gamma': 0.6077303874327371, 'subsample': 0.47656194220798154, 'colsample_bytree': 0.34908073736586226, 'reg_alpha': 0.33828416901878755, 'reg_lambda': 0.5027274176321572, 'random_state': 980, 'num_boost_round': 1269}. Best is trial 16 with value: 0.8450524507558406.\u001b[0m\n"
     ]
    },
    {
     "name": "stdout",
     "output_type": "stream",
     "text": [
      "ROC AUC: 0.852\n",
      "ROC AUC: 0.836\n",
      "ROC AUC: 0.841\n",
      "ROC AUC: 0.827\n",
      "ROC AUC: 0.830\n"
     ]
    },
    {
     "name": "stderr",
     "output_type": "stream",
     "text": [
      "\u001b[32m[I 2023-01-21 21:37:40,290]\u001b[0m Trial 35 finished with value: 0.8344563673843334 and parameters: {'max_depth': 3, 'learning_rate': 0.012981431934217871, 'min_child_weight': 9, 'gamma': 0.8176358412813214, 'subsample': 0.3820915601630734, 'colsample_bytree': 0.566888238176628, 'reg_alpha': 0.15675728133025563, 'reg_lambda': 0.368555320683763, 'random_state': 596, 'num_boost_round': 625}. Best is trial 16 with value: 0.8450524507558406.\u001b[0m\n"
     ]
    },
    {
     "name": "stdout",
     "output_type": "stream",
     "text": [
      "ROC AUC: 0.838\n",
      "ROC AUC: 0.833\n",
      "ROC AUC: 0.839\n",
      "ROC AUC: 0.830\n",
      "ROC AUC: 0.829\n"
     ]
    },
    {
     "name": "stderr",
     "output_type": "stream",
     "text": [
      "\u001b[32m[I 2023-01-21 21:37:47,946]\u001b[0m Trial 36 finished with value: 0.8360021759047183 and parameters: {'max_depth': 8, 'learning_rate': 0.028559135952890797, 'min_child_weight': 8, 'gamma': 0.9766042506516801, 'subsample': 0.5444679211740636, 'colsample_bytree': 0.43515772598861935, 'reg_alpha': 0.4496645121796541, 'reg_lambda': 0.05438648317011463, 'random_state': 253, 'num_boost_round': 818}. Best is trial 16 with value: 0.8450524507558406.\u001b[0m\n"
     ]
    },
    {
     "name": "stdout",
     "output_type": "stream",
     "text": [
      "ROC AUC: 0.849\n",
      "ROC AUC: 0.820\n",
      "ROC AUC: 0.832\n",
      "ROC AUC: 0.820\n",
      "ROC AUC: 0.823\n"
     ]
    },
    {
     "name": "stderr",
     "output_type": "stream",
     "text": [
      "\u001b[32m[I 2023-01-21 21:37:56,853]\u001b[0m Trial 37 finished with value: 0.8244224690792489 and parameters: {'max_depth': 9, 'learning_rate': 0.007310366997498411, 'min_child_weight': 9, 'gamma': 0.6927747188427158, 'subsample': 0.4572347876341237, 'colsample_bytree': 0.7976847088754511, 'reg_alpha': 0.9958609157044724, 'reg_lambda': 0.5461087149590846, 'random_state': 989, 'num_boost_round': 599}. Best is trial 16 with value: 0.8450524507558406.\u001b[0m\n"
     ]
    },
    {
     "name": "stdout",
     "output_type": "stream",
     "text": [
      "ROC AUC: 0.828\n",
      "ROC AUC: 0.841\n",
      "ROC AUC: 0.871\n",
      "ROC AUC: 0.832\n",
      "ROC AUC: 0.819\n"
     ]
    },
    {
     "name": "stderr",
     "output_type": "stream",
     "text": [
      "\u001b[32m[I 2023-01-21 21:38:07,308]\u001b[0m Trial 38 finished with value: 0.8416527714154831 and parameters: {'max_depth': 5, 'learning_rate': 0.036362153500543434, 'min_child_weight': 5, 'gamma': 0.2325639135343116, 'subsample': 0.991687801860826, 'colsample_bytree': 0.0984979353141183, 'reg_alpha': 0.2888967380721432, 'reg_lambda': 0.23284573031186018, 'random_state': 3, 'num_boost_round': 1049}. Best is trial 16 with value: 0.8450524507558406.\u001b[0m\n"
     ]
    },
    {
     "name": "stdout",
     "output_type": "stream",
     "text": [
      "ROC AUC: 0.845\n",
      "ROC AUC: 0.842\n",
      "ROC AUC: 0.844\n",
      "ROC AUC: 0.843\n",
      "ROC AUC: 0.833\n"
     ]
    },
    {
     "name": "stderr",
     "output_type": "stream",
     "text": [
      "\u001b[32m[I 2023-01-21 21:38:18,120]\u001b[0m Trial 39 finished with value: 0.8418904603756298 and parameters: {'max_depth': 7, 'learning_rate': 0.01702188776708224, 'min_child_weight': 7, 'gamma': 0.5208173378553437, 'subsample': 0.319879196041834, 'colsample_bytree': 0.6566490237827134, 'reg_alpha': 0.379419349411312, 'reg_lambda': 0.09490270818468388, 'random_state': 449, 'num_boost_round': 911}. Best is trial 16 with value: 0.8450524507558406.\u001b[0m\n"
     ]
    },
    {
     "name": "stdout",
     "output_type": "stream",
     "text": [
      "ROC AUC: 0.847\n",
      "ROC AUC: 0.840\n",
      "ROC AUC: 0.852\n",
      "ROC AUC: 0.829\n",
      "ROC AUC: 0.826\n"
     ]
    },
    {
     "name": "stderr",
     "output_type": "stream",
     "text": [
      "\u001b[32m[I 2023-01-21 21:38:27,053]\u001b[0m Trial 40 finished with value: 0.8381236830050389 and parameters: {'max_depth': 10, 'learning_rate': 0.024754817067056352, 'min_child_weight': 6, 'gamma': 0.4037663891033041, 'subsample': 0.4265613615626728, 'colsample_bytree': 0.1941189498112672, 'reg_alpha': 0.06967347630802342, 'reg_lambda': 0.40988692994202575, 'random_state': 901, 'num_boost_round': 1414}. Best is trial 16 with value: 0.8450524507558406.\u001b[0m\n"
     ]
    },
    {
     "name": "stdout",
     "output_type": "stream",
     "text": [
      "ROC AUC: 0.843\n",
      "ROC AUC: 0.837\n",
      "ROC AUC: 0.848\n",
      "ROC AUC: 0.848\n",
      "ROC AUC: 0.834\n"
     ]
    },
    {
     "name": "stderr",
     "output_type": "stream",
     "text": [
      "\u001b[32m[I 2023-01-21 21:38:36,937]\u001b[0m Trial 41 finished with value: 0.841501546037563 and parameters: {'max_depth': 2, 'learning_rate': 0.012521000916017206, 'min_child_weight': 5, 'gamma': 0.3627766320605499, 'subsample': 0.18924793079353794, 'colsample_bytree': 0.8324243035730323, 'reg_alpha': 0.2303186627039572, 'reg_lambda': 0.6921389816344081, 'random_state': 818, 'num_boost_round': 1501}. Best is trial 16 with value: 0.8450524507558406.\u001b[0m\n"
     ]
    },
    {
     "name": "stdout",
     "output_type": "stream",
     "text": [
      "ROC AUC: 0.840\n",
      "ROC AUC: 0.805\n",
      "ROC AUC: 0.849\n",
      "ROC AUC: 0.807\n",
      "ROC AUC: 0.812\n"
     ]
    },
    {
     "name": "stderr",
     "output_type": "stream",
     "text": [
      "\u001b[32m[I 2023-01-21 21:38:48,881]\u001b[0m Trial 42 finished with value: 0.8185901855245076 and parameters: {'max_depth': 1, 'learning_rate': 0.0024921181818738647, 'min_child_weight': 4, 'gamma': 0.21206658932196393, 'subsample': 0.18008955666154797, 'colsample_bytree': 0.8169850687115323, 'reg_alpha': 0.2436191272253349, 'reg_lambda': 0.6203041505573802, 'random_state': 748, 'num_boost_round': 1575}. Best is trial 16 with value: 0.8450524507558406.\u001b[0m\n"
     ]
    },
    {
     "name": "stdout",
     "output_type": "stream",
     "text": [
      "ROC AUC: 0.819\n",
      "ROC AUC: 0.839\n",
      "ROC AUC: 0.846\n",
      "ROC AUC: 0.851\n",
      "ROC AUC: 0.838\n"
     ]
    },
    {
     "name": "stderr",
     "output_type": "stream",
     "text": [
      "\u001b[32m[I 2023-01-21 21:38:58,587]\u001b[0m Trial 43 finished with value: 0.8431454993128721 and parameters: {'max_depth': 1, 'learning_rate': 0.011128744904902762, 'min_child_weight': 5, 'gamma': 0.9208126989811196, 'subsample': 0.2543283269277837, 'colsample_bytree': 0.9970666483390627, 'reg_alpha': 0.49046024699655555, 'reg_lambda': 0.5161255679845982, 'random_state': 660, 'num_boost_round': 1352}. Best is trial 16 with value: 0.8450524507558406.\u001b[0m\n"
     ]
    },
    {
     "name": "stdout",
     "output_type": "stream",
     "text": [
      "ROC AUC: 0.842\n",
      "ROC AUC: 0.837\n",
      "ROC AUC: 0.845\n",
      "ROC AUC: 0.835\n",
      "ROC AUC: 0.836\n"
     ]
    },
    {
     "name": "stderr",
     "output_type": "stream",
     "text": [
      "\u001b[32m[I 2023-01-21 21:39:07,688]\u001b[0m Trial 44 finished with value: 0.837808806688044 and parameters: {'max_depth': 1, 'learning_rate': 0.009442814195130328, 'min_child_weight': 6, 'gamma': 0.8990164642920343, 'subsample': 0.2611300778391304, 'colsample_bytree': 0.9936284464738773, 'reg_alpha': 0.48885591735770406, 'reg_lambda': 0.5092026063777343, 'random_state': 624, 'num_boost_round': 1194}. Best is trial 16 with value: 0.8450524507558406.\u001b[0m\n"
     ]
    },
    {
     "name": "stdout",
     "output_type": "stream",
     "text": [
      "ROC AUC: 0.836\n",
      "ROC AUC: 0.834\n",
      "ROC AUC: 0.836\n",
      "ROC AUC: 0.832\n",
      "ROC AUC: 0.828\n"
     ]
    },
    {
     "name": "stderr",
     "output_type": "stream",
     "text": [
      "\u001b[32m[I 2023-01-21 21:39:15,364]\u001b[0m Trial 45 finished with value: 0.8351218506642235 and parameters: {'max_depth': 3, 'learning_rate': 0.015977073511150824, 'min_child_weight': 2, 'gamma': 0.9924639118837036, 'subsample': 0.35150643288531813, 'colsample_bytree': 0.9501851817092949, 'reg_alpha': 0.6252869752162502, 'reg_lambda': 0.47014621169845144, 'random_state': 669, 'num_boost_round': 1331}. Best is trial 16 with value: 0.8450524507558406.\u001b[0m\n"
     ]
    },
    {
     "name": "stdout",
     "output_type": "stream",
     "text": [
      "ROC AUC: 0.845\n",
      "ROC AUC: 0.773\n",
      "ROC AUC: 0.812\n",
      "ROC AUC: 0.799\n",
      "ROC AUC: 0.807\n"
     ]
    },
    {
     "name": "stderr",
     "output_type": "stream",
     "text": [
      "\u001b[32m[I 2023-01-21 21:39:26,847]\u001b[0m Trial 46 finished with value: 0.7911117155290883 and parameters: {'max_depth': 10, 'learning_rate': 0.006464856099767363, 'min_child_weight': 7, 'gamma': 0.7972664813513907, 'subsample': 0.11002194476455479, 'colsample_bytree': 0.8815866754569799, 'reg_alpha': 0.6798965174307307, 'reg_lambda': 0.18415505825925205, 'random_state': 562, 'num_boost_round': 1374}. Best is trial 16 with value: 0.8450524507558406.\u001b[0m\n"
     ]
    },
    {
     "name": "stdout",
     "output_type": "stream",
     "text": [
      "ROC AUC: 0.764\n",
      "ROC AUC: 0.826\n",
      "ROC AUC: 0.833\n",
      "ROC AUC: 0.826\n",
      "ROC AUC: 0.831\n"
     ]
    },
    {
     "name": "stderr",
     "output_type": "stream",
     "text": [
      "\u001b[32m[I 2023-01-21 21:39:33,937]\u001b[0m Trial 47 finished with value: 0.8337060238204306 and parameters: {'max_depth': 4, 'learning_rate': 0.020055841734509312, 'min_child_weight': 4, 'gamma': 0.941299254078568, 'subsample': 0.41151755308238325, 'colsample_bytree': 0.6814417973845328, 'reg_alpha': 0.8607564190029554, 'reg_lambda': 0.3331902947162017, 'random_state': 930, 'num_boost_round': 968}. Best is trial 16 with value: 0.8450524507558406.\u001b[0m\n"
     ]
    },
    {
     "name": "stdout",
     "output_type": "stream",
     "text": [
      "ROC AUC: 0.852\n",
      "ROC AUC: 0.821\n",
      "ROC AUC: 0.844\n",
      "ROC AUC: 0.838\n",
      "ROC AUC: 0.826\n"
     ]
    },
    {
     "name": "stderr",
     "output_type": "stream",
     "text": [
      "\u001b[32m[I 2023-01-21 21:39:37,655]\u001b[0m Trial 48 finished with value: 0.8375831424644984 and parameters: {'max_depth': 2, 'learning_rate': 0.042977100225525984, 'min_child_weight': 3, 'gamma': 0.9294952712072886, 'subsample': 0.293492918082525, 'colsample_bytree': 0.7634361653325238, 'reg_alpha': 0.5444309695117969, 'reg_lambda': 0.3126388805438227, 'random_state': 687, 'num_boost_round': 1245}. Best is trial 16 with value: 0.8450524507558406.\u001b[0m\n"
     ]
    },
    {
     "name": "stdout",
     "output_type": "stream",
     "text": [
      "ROC AUC: 0.859\n",
      "ROC AUC: 0.837\n",
      "ROC AUC: 0.852\n",
      "ROC AUC: 0.835\n",
      "ROC AUC: 0.833\n"
     ]
    },
    {
     "name": "stderr",
     "output_type": "stream",
     "text": [
      "\u001b[32m[I 2023-01-21 21:39:47,614]\u001b[0m Trial 49 finished with value: 0.8407526339899221 and parameters: {'max_depth': 1, 'learning_rate': 0.010925516029482508, 'min_child_weight': 5, 'gamma': 0.7530468848877434, 'subsample': 0.22470766332792347, 'colsample_bytree': 0.26241387292748497, 'reg_alpha': 0.3379609789351444, 'reg_lambda': 0.3832702553873677, 'random_state': 421, 'num_boost_round': 1308}. Best is trial 16 with value: 0.8450524507558406.\u001b[0m\n"
     ]
    },
    {
     "name": "stdout",
     "output_type": "stream",
     "text": [
      "ROC AUC: 0.846\n",
      "ROC AUC: 0.825\n",
      "ROC AUC: 0.837\n",
      "ROC AUC: 0.825\n",
      "ROC AUC: 0.827\n"
     ]
    },
    {
     "name": "stderr",
     "output_type": "stream",
     "text": [
      "\u001b[32m[I 2023-01-21 21:39:56,660]\u001b[0m Trial 50 finished with value: 0.8325174644983967 and parameters: {'max_depth': 3, 'learning_rate': 0.014899834177309577, 'min_child_weight': 8, 'gamma': 0.14530738234570278, 'subsample': 0.7750376373557847, 'colsample_bytree': 0.4885271872743734, 'reg_alpha': 0.4020167878478714, 'reg_lambda': 0.7482578806889071, 'random_state': 485, 'num_boost_round': 774}. Best is trial 16 with value: 0.8450524507558406.\u001b[0m\n"
     ]
    },
    {
     "name": "stdout",
     "output_type": "stream",
     "text": [
      "ROC AUC: 0.849\n",
      "ROC AUC: 0.835\n",
      "ROC AUC: 0.854\n",
      "ROC AUC: 0.849\n",
      "ROC AUC: 0.833\n"
     ]
    },
    {
     "name": "stderr",
     "output_type": "stream",
     "text": [
      "\u001b[32m[I 2023-01-21 21:40:06,385]\u001b[0m Trial 51 finished with value: 0.8405833715071003 and parameters: {'max_depth': 1, 'learning_rate': 0.011622484128747678, 'min_child_weight': 5, 'gamma': 0.34161055204215407, 'subsample': 0.1587323678702724, 'colsample_bytree': 0.5592513794519967, 'reg_alpha': 0.1902841288391571, 'reg_lambda': 0.6718885675519659, 'random_state': 812, 'num_boost_round': 1535}. Best is trial 16 with value: 0.8450524507558406.\u001b[0m\n"
     ]
    },
    {
     "name": "stdout",
     "output_type": "stream",
     "text": [
      "ROC AUC: 0.831\n",
      "ROC AUC: 0.766\n",
      "ROC AUC: 0.805\n",
      "ROC AUC: 0.807\n",
      "ROC AUC: 0.773\n"
     ]
    },
    {
     "name": "stderr",
     "output_type": "stream",
     "text": [
      "\u001b[32m[I 2023-01-21 21:40:12,001]\u001b[0m Trial 52 finished with value: 0.7802400366468163 and parameters: {'max_depth': 1, 'learning_rate': 0.013914261979151105, 'min_child_weight': 6, 'gamma': 0.43062471902374067, 'subsample': 0.07200625169288194, 'colsample_bytree': 0.7513591234011325, 'reg_alpha': 0.1386864283106205, 'reg_lambda': 0.823554511288431, 'random_state': 721, 'num_boost_round': 1432}. Best is trial 16 with value: 0.8450524507558406.\u001b[0m\n"
     ]
    },
    {
     "name": "stdout",
     "output_type": "stream",
     "text": [
      "ROC AUC: 0.751\n",
      "ROC AUC: 0.836\n",
      "ROC AUC: 0.840\n",
      "ROC AUC: 0.842\n",
      "ROC AUC: 0.838\n"
     ]
    },
    {
     "name": "stderr",
     "output_type": "stream",
     "text": [
      "\u001b[32m[I 2023-01-21 21:40:19,865]\u001b[0m Trial 53 finished with value: 0.8406600435180944 and parameters: {'max_depth': 2, 'learning_rate': 0.01845881205961178, 'min_child_weight': 5, 'gamma': 0.4921252673315353, 'subsample': 0.250266955781269, 'colsample_bytree': 0.8591182194595259, 'reg_alpha': 0.3140361970110948, 'reg_lambda': 0.6180092482149974, 'random_state': 772, 'num_boost_round': 1714}. Best is trial 16 with value: 0.8450524507558406.\u001b[0m\n"
     ]
    },
    {
     "name": "stdout",
     "output_type": "stream",
     "text": [
      "ROC AUC: 0.847\n",
      "ROC AUC: 0.798\n",
      "ROC AUC: 0.813\n",
      "ROC AUC: 0.811\n",
      "ROC AUC: 0.823\n"
     ]
    },
    {
     "name": "stderr",
     "output_type": "stream",
     "text": [
      "\u001b[32m[I 2023-01-21 21:40:28,731]\u001b[0m Trial 54 finished with value: 0.8075348717361429 and parameters: {'max_depth': 1, 'learning_rate': 0.0072591330659688, 'min_child_weight': 10, 'gamma': 0.39057227468127376, 'subsample': 0.20923992043755146, 'colsample_bytree': 0.9677953642787989, 'reg_alpha': 0.2573501112095368, 'reg_lambda': 0.5463223893905077, 'random_state': 641, 'num_boost_round': 1191}. Best is trial 16 with value: 0.8450524507558406.\u001b[0m\n"
     ]
    },
    {
     "name": "stdout",
     "output_type": "stream",
     "text": [
      "ROC AUC: 0.793\n",
      "ROC AUC: 0.811\n",
      "ROC AUC: 0.839\n",
      "ROC AUC: 0.819\n",
      "ROC AUC: 0.817\n"
     ]
    },
    {
     "name": "stderr",
     "output_type": "stream",
     "text": [
      "\u001b[32m[I 2023-01-21 21:40:39,827]\u001b[0m Trial 55 finished with value: 0.8224410215300046 and parameters: {'max_depth': 2, 'learning_rate': 0.0033849363699359706, 'min_child_weight': 6, 'gamma': 0.5721748693621589, 'subsample': 0.29837463289111077, 'colsample_bytree': 0.9187709842168162, 'reg_alpha': 0.22171935652986402, 'reg_lambda': 0.7333359202221076, 'random_state': 829, 'num_boost_round': 1091}. Best is trial 16 with value: 0.8450524507558406.\u001b[0m\n"
     ]
    },
    {
     "name": "stdout",
     "output_type": "stream",
     "text": [
      "ROC AUC: 0.827\n",
      "ROC AUC: 0.825\n",
      "ROC AUC: 0.836\n",
      "ROC AUC: 0.824\n",
      "ROC AUC: 0.836\n"
     ]
    },
    {
     "name": "stderr",
     "output_type": "stream",
     "text": [
      "\u001b[32m[I 2023-01-21 21:41:02,004]\u001b[0m Trial 56 finished with value: 0.8337892808062299 and parameters: {'max_depth': 9, 'learning_rate': 0.0046145057320063874, 'min_child_weight': 4, 'gamma': 0.6473755817350512, 'subsample': 0.33916453496540355, 'colsample_bytree': 0.7489805928943902, 'reg_alpha': 0.49126895726584097, 'reg_lambda': 0.5699684611576828, 'random_state': 524, 'num_boost_round': 1381}. Best is trial 16 with value: 0.8450524507558406.\u001b[0m\n"
     ]
    },
    {
     "name": "stdout",
     "output_type": "stream",
     "text": [
      "ROC AUC: 0.849\n",
      "ROC AUC: 0.837\n",
      "ROC AUC: 0.851\n",
      "ROC AUC: 0.849\n",
      "ROC AUC: 0.841\n"
     ]
    },
    {
     "name": "stderr",
     "output_type": "stream",
     "text": [
      "\u001b[32m[I 2023-01-21 21:41:09,810]\u001b[0m Trial 57 finished with value: 0.842703218048557 and parameters: {'max_depth': 7, 'learning_rate': 0.025699439837715648, 'min_child_weight': 5, 'gamma': 0.7135550567464684, 'subsample': 0.1470875614911633, 'colsample_bytree': 0.32505899606451716, 'reg_alpha': 0.07708055324241139, 'reg_lambda': 0.4639041933401147, 'random_state': 937, 'num_boost_round': 1481}. Best is trial 16 with value: 0.8450524507558406.\u001b[0m\n"
     ]
    },
    {
     "name": "stdout",
     "output_type": "stream",
     "text": [
      "ROC AUC: 0.835\n",
      "ROC AUC: 0.826\n",
      "ROC AUC: 0.828\n",
      "ROC AUC: 0.823\n",
      "ROC AUC: 0.823\n"
     ]
    },
    {
     "name": "stderr",
     "output_type": "stream",
     "text": [
      "\u001b[32m[I 2023-01-21 21:41:15,565]\u001b[0m Trial 58 finished with value: 0.8298277027027027 and parameters: {'max_depth': 5, 'learning_rate': 0.0347842668573262, 'min_child_weight': 7, 'gamma': 0.24661341540273446, 'subsample': 0.6138643257752927, 'colsample_bytree': 0.6491324348111858, 'reg_alpha': 0.11359337855957853, 'reg_lambda': 0.131337498438377, 'random_state': 888, 'num_boost_round': 1694}. Best is trial 16 with value: 0.8450524507558406.\u001b[0m\n"
     ]
    },
    {
     "name": "stdout",
     "output_type": "stream",
     "text": [
      "ROC AUC: 0.850\n",
      "ROC AUC: 0.811\n",
      "ROC AUC: 0.870\n",
      "ROC AUC: 0.830\n",
      "ROC AUC: 0.813\n"
     ]
    },
    {
     "name": "stderr",
     "output_type": "stream",
     "text": [
      "\u001b[32m[I 2023-01-21 21:41:30,853]\u001b[0m Trial 59 finished with value: 0.8330636738433348 and parameters: {'max_depth': 2, 'learning_rate': 0.008730510367589647, 'min_child_weight': 4, 'gamma': 0.4640684403804983, 'subsample': 0.49701314248921297, 'colsample_bytree': 0.04882756766984997, 'reg_alpha': 0.28594404426547076, 'reg_lambda': 0.6404874481556837, 'random_state': 654, 'num_boost_round': 1616}. Best is trial 16 with value: 0.8450524507558406.\u001b[0m\n"
     ]
    },
    {
     "name": "stdout",
     "output_type": "stream",
     "text": [
      "ROC AUC: 0.842\n",
      "ROC AUC: 0.782\n",
      "ROC AUC: 0.800\n",
      "ROC AUC: 0.790\n",
      "ROC AUC: 0.756\n"
     ]
    },
    {
     "name": "stderr",
     "output_type": "stream",
     "text": [
      "\u001b[32m[I 2023-01-21 21:41:37,750]\u001b[0m Trial 60 finished with value: 0.7771310123683006 and parameters: {'max_depth': 10, 'learning_rate': 0.01822147371754821, 'min_child_weight': 3, 'gamma': 0.8304498520237698, 'subsample': 0.03687643285798811, 'colsample_bytree': 0.4399836667177186, 'reg_alpha': 0.5492130602476994, 'reg_lambda': 0.2433901727890696, 'random_state': 843, 'num_boost_round': 1034}. Best is trial 16 with value: 0.8450524507558406.\u001b[0m\n"
     ]
    },
    {
     "name": "stdout",
     "output_type": "stream",
     "text": [
      "ROC AUC: 0.757\n",
      "ROC AUC: 0.819\n",
      "ROC AUC: 0.842\n",
      "ROC AUC: 0.842\n",
      "ROC AUC: 0.831\n"
     ]
    },
    {
     "name": "stderr",
     "output_type": "stream",
     "text": [
      "\u001b[32m[I 2023-01-21 21:41:44,795]\u001b[0m Trial 61 finished with value: 0.8327555542830967 and parameters: {'max_depth': 7, 'learning_rate': 0.029923367161131427, 'min_child_weight': 5, 'gamma': 0.8554779070103975, 'subsample': 0.1327499786298562, 'colsample_bytree': 0.34170435375380726, 'reg_alpha': 0.17954365659797653, 'reg_lambda': 0.3986952420508082, 'random_state': 949, 'num_boost_round': 1473}. Best is trial 16 with value: 0.8450524507558406.\u001b[0m\n"
     ]
    },
    {
     "name": "stdout",
     "output_type": "stream",
     "text": [
      "ROC AUC: 0.831\n",
      "ROC AUC: 0.835\n",
      "ROC AUC: 0.854\n",
      "ROC AUC: 0.837\n",
      "ROC AUC: 0.843\n"
     ]
    },
    {
     "name": "stderr",
     "output_type": "stream",
     "text": [
      "\u001b[32m[I 2023-01-21 21:41:53,327]\u001b[0m Trial 62 finished with value: 0.8414310009161705 and parameters: {'max_depth': 7, 'learning_rate': 0.025977174839674905, 'min_child_weight': 6, 'gamma': 0.7146440591583524, 'subsample': 0.1777293823406064, 'colsample_bytree': 0.3924558772835677, 'reg_alpha': 0.20656829059493298, 'reg_lambda': 0.43269391951684283, 'random_state': 951, 'num_boost_round': 1560}. Best is trial 16 with value: 0.8450524507558406.\u001b[0m\n"
     ]
    },
    {
     "name": "stdout",
     "output_type": "stream",
     "text": [
      "ROC AUC: 0.839\n",
      "ROC AUC: 0.840\n",
      "ROC AUC: 0.840\n",
      "ROC AUC: 0.820\n",
      "ROC AUC: 0.821\n"
     ]
    },
    {
     "name": "stderr",
     "output_type": "stream",
     "text": [
      "\u001b[32m[I 2023-01-21 21:42:01,100]\u001b[0m Trial 63 finished with value: 0.8331148076042144 and parameters: {'max_depth': 6, 'learning_rate': 0.02414292420142323, 'min_child_weight': 5, 'gamma': 0.5149386980100928, 'subsample': 0.9141355353313305, 'colsample_bytree': 0.30611962558915884, 'reg_alpha': 0.1509365001144951, 'reg_lambda': 0.46510385704040613, 'random_state': 991, 'num_boost_round': 1291}. Best is trial 16 with value: 0.8450524507558406.\u001b[0m\n"
     ]
    },
    {
     "name": "stdout",
     "output_type": "stream",
     "text": [
      "ROC AUC: 0.844\n",
      "ROC AUC: 0.822\n",
      "ROC AUC: 0.855\n",
      "ROC AUC: 0.829\n",
      "ROC AUC: 0.827\n"
     ]
    },
    {
     "name": "stderr",
     "output_type": "stream",
     "text": [
      "\u001b[32m[I 2023-01-21 21:42:12,922]\u001b[0m Trial 64 finished with value: 0.8384556802565278 and parameters: {'max_depth': 8, 'learning_rate': 0.020311870373404237, 'min_child_weight': 4, 'gamma': 0.321203703018646, 'subsample': 0.2371107453755355, 'colsample_bytree': 0.11987239178299153, 'reg_alpha': 0.06273800756956094, 'reg_lambda': 0.49022012038771495, 'random_state': 920, 'num_boost_round': 1512}. Best is trial 16 with value: 0.8450524507558406.\u001b[0m\n"
     ]
    },
    {
     "name": "stdout",
     "output_type": "stream",
     "text": [
      "ROC AUC: 0.858\n",
      "ROC AUC: 0.756\n",
      "ROC AUC: 0.778\n",
      "ROC AUC: 0.771\n",
      "ROC AUC: 0.758\n"
     ]
    },
    {
     "name": "stderr",
     "output_type": "stream",
     "text": [
      "\u001b[32m[I 2023-01-21 21:42:16,549]\u001b[0m Trial 65 finished with value: 0.7599599748053139 and parameters: {'max_depth': 6, 'learning_rate': 0.0162946936970462, 'min_child_weight': 6, 'gamma': 0.6061789103347337, 'subsample': 0.05902829544011462, 'colsample_bytree': 0.5126366204725717, 'reg_alpha': 0.07449989537497737, 'reg_lambda': 0.5288480681566446, 'random_state': 777, 'num_boost_round': 1450}. Best is trial 16 with value: 0.8450524507558406.\u001b[0m\n"
     ]
    },
    {
     "name": "stdout",
     "output_type": "stream",
     "text": [
      "ROC AUC: 0.737\n",
      "ROC AUC: 0.846\n",
      "ROC AUC: 0.853\n",
      "ROC AUC: 0.843\n",
      "ROC AUC: 0.832\n"
     ]
    },
    {
     "name": "stderr",
     "output_type": "stream",
     "text": [
      "\u001b[32m[I 2023-01-21 21:42:30,870]\u001b[0m Trial 66 finished with value: 0.8455597801191022 and parameters: {'max_depth': 5, 'learning_rate': 0.01365892645011921, 'min_child_weight': 5, 'gamma': 0.8969343699229063, 'subsample': 0.2758638152076076, 'colsample_bytree': 0.21393462621711584, 'reg_alpha': 0.034455872897741574, 'reg_lambda': 0.20706715321199073, 'random_state': 705, 'num_boost_round': 1378}. Best is trial 66 with value: 0.8455597801191022.\u001b[0m\n"
     ]
    },
    {
     "name": "stdout",
     "output_type": "stream",
     "text": [
      "ROC AUC: 0.853\n",
      "ROC AUC: 0.845\n",
      "ROC AUC: 0.855\n",
      "ROC AUC: 0.841\n",
      "ROC AUC: 0.834\n"
     ]
    },
    {
     "name": "stderr",
     "output_type": "stream",
     "text": [
      "\u001b[32m[I 2023-01-21 21:42:45,409]\u001b[0m Trial 67 finished with value: 0.8427289280806229 and parameters: {'max_depth': 4, 'learning_rate': 0.014301407854203807, 'min_child_weight': 7, 'gamma': 0.9172331207554268, 'subsample': 0.2890101923983143, 'colsample_bytree': 0.23525467716947196, 'reg_alpha': 0.013705840428732519, 'reg_lambda': 0.7657617303709493, 'random_state': 711, 'num_boost_round': 1202}. Best is trial 66 with value: 0.8455597801191022.\u001b[0m\n"
     ]
    },
    {
     "name": "stdout",
     "output_type": "stream",
     "text": [
      "ROC AUC: 0.839\n",
      "ROC AUC: 0.817\n",
      "ROC AUC: 0.862\n",
      "ROC AUC: 0.824\n",
      "ROC AUC: 0.817\n"
     ]
    },
    {
     "name": "stderr",
     "output_type": "stream",
     "text": [
      "\u001b[32m[I 2023-01-21 21:42:59,572]\u001b[0m Trial 68 finished with value: 0.8297596197892808 and parameters: {'max_depth': 9, 'learning_rate': 0.010139031394940068, 'min_child_weight': 6, 'gamma': 0.7947982463790793, 'subsample': 0.3992357501971806, 'colsample_bytree': 0.05887017565549807, 'reg_alpha': 0.11196151371308238, 'reg_lambda': 0.18687872396612787, 'random_state': 574, 'num_boost_round': 1398}. Best is trial 66 with value: 0.8455597801191022.\u001b[0m\n"
     ]
    },
    {
     "name": "stdout",
     "output_type": "stream",
     "text": [
      "ROC AUC: 0.828\n",
      "ROC AUC: 0.841\n",
      "ROC AUC: 0.864\n",
      "ROC AUC: 0.835\n",
      "ROC AUC: 0.826\n"
     ]
    },
    {
     "name": "stderr",
     "output_type": "stream",
     "text": [
      "\u001b[32m[I 2023-01-21 21:43:10,040]\u001b[0m Trial 69 finished with value: 0.8409457169033441 and parameters: {'max_depth': 1, 'learning_rate': 0.012349121526028644, 'min_child_weight': 5, 'gamma': 0.9759743377395054, 'subsample': 0.8227637045778736, 'colsample_bytree': 0.18756844144085688, 'reg_alpha': 0.03934919603423348, 'reg_lambda': 0.3093129647467862, 'random_state': 608, 'num_boost_round': 1350}. Best is trial 66 with value: 0.8455597801191022.\u001b[0m\n"
     ]
    },
    {
     "name": "stdout",
     "output_type": "stream",
     "text": [
      "ROC AUC: 0.839\n",
      "ROC AUC: 0.844\n",
      "ROC AUC: 0.859\n",
      "ROC AUC: 0.831\n",
      "ROC AUC: 0.839\n"
     ]
    },
    {
     "name": "stderr",
     "output_type": "stream",
     "text": [
      "\u001b[32m[I 2023-01-21 21:43:16,631]\u001b[0m Trial 70 finished with value: 0.8443029661016949 and parameters: {'max_depth': 3, 'learning_rate': 0.022278779902195088, 'min_child_weight': 4, 'gamma': 0.8850174322735985, 'subsample': 0.3698639581209704, 'colsample_bytree': 0.13235442500596034, 'reg_alpha': 0.752221852728525, 'reg_lambda': 0.07488367656276307, 'random_state': 690, 'num_boost_round': 561}. Best is trial 66 with value: 0.8455597801191022.\u001b[0m\n"
     ]
    },
    {
     "name": "stdout",
     "output_type": "stream",
     "text": [
      "ROC AUC: 0.848\n",
      "ROC AUC: 0.833\n",
      "ROC AUC: 0.855\n",
      "ROC AUC: 0.834\n",
      "ROC AUC: 0.824\n"
     ]
    },
    {
     "name": "stderr",
     "output_type": "stream",
     "text": [
      "\u001b[32m[I 2023-01-21 21:43:23,599]\u001b[0m Trial 71 finished with value: 0.841397503435639 and parameters: {'max_depth': 3, 'learning_rate': 0.022595193026796054, 'min_child_weight': 4, 'gamma': 0.8733697727989093, 'subsample': 0.3205442909797506, 'colsample_bytree': 0.15594108832380527, 'reg_alpha': 0.7977703260385034, 'reg_lambda': 0.05684902214895643, 'random_state': 695, 'num_boost_round': 576}. Best is trial 66 with value: 0.8455597801191022.\u001b[0m\n"
     ]
    },
    {
     "name": "stdout",
     "output_type": "stream",
     "text": [
      "ROC AUC: 0.860\n",
      "ROC AUC: 0.851\n",
      "ROC AUC: 0.872\n",
      "ROC AUC: 0.835\n",
      "ROC AUC: 0.826\n"
     ]
    },
    {
     "name": "stderr",
     "output_type": "stream",
     "text": [
      "\u001b[32m[I 2023-01-21 21:43:32,761]\u001b[0m Trial 72 finished with value: 0.8470518781493359 and parameters: {'max_depth': 4, 'learning_rate': 0.01752954626714397, 'min_child_weight': 3, 'gamma': 0.43000943995500884, 'subsample': 0.6962086957051244, 'colsample_bytree': 0.10648712771690579, 'reg_alpha': 0.8843319115660793, 'reg_lambda': 0.10281748849124929, 'random_state': 753, 'num_boost_round': 660}. Best is trial 72 with value: 0.8470518781493359.\u001b[0m\n"
     ]
    },
    {
     "name": "stdout",
     "output_type": "stream",
     "text": [
      "ROC AUC: 0.851\n",
      "ROC AUC: 0.851\n",
      "ROC AUC: 0.867\n",
      "ROC AUC: 0.830\n",
      "ROC AUC: 0.820\n"
     ]
    },
    {
     "name": "stderr",
     "output_type": "stream",
     "text": [
      "\u001b[32m[I 2023-01-21 21:43:41,961]\u001b[0m Trial 73 finished with value: 0.8423778630325242 and parameters: {'max_depth': 4, 'learning_rate': 0.017589590240315197, 'min_child_weight': 3, 'gamma': 0.9563619213657516, 'subsample': 0.6924605754286879, 'colsample_bytree': 0.12106083281354565, 'reg_alpha': 0.8550097013144694, 'reg_lambda': 0.0973520489300161, 'random_state': 747, 'num_boost_round': 669}. Best is trial 72 with value: 0.8470518781493359.\u001b[0m\n"
     ]
    },
    {
     "name": "stdout",
     "output_type": "stream",
     "text": [
      "ROC AUC: 0.845\n",
      "ROC AUC: 0.844\n",
      "ROC AUC: 0.880\n",
      "ROC AUC: 0.832\n",
      "ROC AUC: 0.815\n"
     ]
    },
    {
     "name": "stderr",
     "output_type": "stream",
     "text": [
      "\u001b[32m[I 2023-01-21 21:43:50,402]\u001b[0m Trial 74 finished with value: 0.8433392693540999 and parameters: {'max_depth': 5, 'learning_rate': 0.021389746941914888, 'min_child_weight': 1, 'gamma': 0.9062111651241676, 'subsample': 0.7280090453266532, 'colsample_bytree': 0.07691774045962604, 'reg_alpha': 0.9470705022599837, 'reg_lambda': 0.21396427394101297, 'random_state': 651, 'num_boost_round': 547}. Best is trial 72 with value: 0.8470518781493359.\u001b[0m\n"
     ]
    },
    {
     "name": "stdout",
     "output_type": "stream",
     "text": [
      "ROC AUC: 0.846\n",
      "ROC AUC: 0.822\n",
      "ROC AUC: 0.883\n",
      "ROC AUC: 0.810\n",
      "ROC AUC: 0.809\n"
     ]
    },
    {
     "name": "stderr",
     "output_type": "stream",
     "text": [
      "\u001b[32m[I 2023-01-21 21:43:58,090]\u001b[0m Trial 75 finished with value: 0.8296070774163995 and parameters: {'max_depth': 5, 'learning_rate': 0.02067290701093679, 'min_child_weight': 1, 'gamma': 0.4270667692630894, 'subsample': 0.8847213105038247, 'colsample_bytree': 0.010634497967583992, 'reg_alpha': 0.9338321102283892, 'reg_lambda': 0.20991834758616817, 'random_state': 544, 'num_boost_round': 535}. Best is trial 72 with value: 0.8470518781493359.\u001b[0m\n"
     ]
    },
    {
     "name": "stdout",
     "output_type": "stream",
     "text": [
      "ROC AUC: 0.825\n",
      "ROC AUC: 0.845\n",
      "ROC AUC: 0.877\n",
      "ROC AUC: 0.843\n",
      "ROC AUC: 0.817\n"
     ]
    },
    {
     "name": "stderr",
     "output_type": "stream",
     "text": [
      "\u001b[32m[I 2023-01-21 21:44:05,618]\u001b[0m Trial 76 finished with value: 0.8442564704535045 and parameters: {'max_depth': 5, 'learning_rate': 0.027545104826389076, 'min_child_weight': 2, 'gamma': 0.8955410836497344, 'subsample': 0.9454330076296986, 'colsample_bytree': 0.09264849383863882, 'reg_alpha': 0.9617042416659201, 'reg_lambda': 0.14026445924776873, 'random_state': 633, 'num_boost_round': 510}. Best is trial 72 with value: 0.8470518781493359.\u001b[0m\n"
     ]
    },
    {
     "name": "stdout",
     "output_type": "stream",
     "text": [
      "ROC AUC: 0.840\n",
      "ROC AUC: 0.845\n",
      "ROC AUC: 0.869\n",
      "ROC AUC: 0.839\n",
      "ROC AUC: 0.811\n"
     ]
    },
    {
     "name": "stderr",
     "output_type": "stream",
     "text": [
      "\u001b[32m[I 2023-01-21 21:44:14,367]\u001b[0m Trial 77 finished with value: 0.8409229271644525 and parameters: {'max_depth': 4, 'learning_rate': 0.02818591901784111, 'min_child_weight': 2, 'gamma': 0.8605908084044636, 'subsample': 0.9393932249360979, 'colsample_bytree': 0.12319665956952637, 'reg_alpha': 0.7601261091059008, 'reg_lambda': 0.03291696783946421, 'random_state': 595, 'num_boost_round': 636}. Best is trial 72 with value: 0.8470518781493359.\u001b[0m\n"
     ]
    },
    {
     "name": "stdout",
     "output_type": "stream",
     "text": [
      "ROC AUC: 0.840\n",
      "ROC AUC: 0.835\n",
      "ROC AUC: 0.858\n",
      "ROC AUC: 0.831\n",
      "ROC AUC: 0.815\n"
     ]
    },
    {
     "name": "stderr",
     "output_type": "stream",
     "text": [
      "\u001b[32m[I 2023-01-21 21:44:21,025]\u001b[0m Trial 78 finished with value: 0.8362756527714155 and parameters: {'max_depth': 4, 'learning_rate': 0.03384869848513713, 'min_child_weight': 2, 'gamma': 0.5444507705959787, 'subsample': 0.8614804691948736, 'colsample_bytree': 0.20780464997949127, 'reg_alpha': 0.9088105548683524, 'reg_lambda': 0.13404323324782513, 'random_state': 773, 'num_boost_round': 752}. Best is trial 72 with value: 0.8470518781493359.\u001b[0m\n"
     ]
    },
    {
     "name": "stdout",
     "output_type": "stream",
     "text": [
      "ROC AUC: 0.841\n",
      "ROC AUC: 0.835\n",
      "ROC AUC: 0.859\n",
      "ROC AUC: 0.841\n",
      "ROC AUC: 0.820\n"
     ]
    },
    {
     "name": "stderr",
     "output_type": "stream",
     "text": [
      "\u001b[32m[I 2023-01-21 21:44:27,895]\u001b[0m Trial 79 finished with value: 0.837275480989464 and parameters: {'max_depth': 5, 'learning_rate': 0.03006347050391153, 'min_child_weight': 3, 'gamma': 0.8116696880840991, 'subsample': 0.9991686727628687, 'colsample_bytree': 0.17911459476552594, 'reg_alpha': 0.6824077380942997, 'reg_lambda': 0.15813549217255501, 'random_state': 627, 'num_boost_round': 717}. Best is trial 72 with value: 0.8470518781493359.\u001b[0m\n"
     ]
    },
    {
     "name": "stdout",
     "output_type": "stream",
     "text": [
      "ROC AUC: 0.832\n",
      "ROC AUC: 0.854\n",
      "ROC AUC: 0.869\n",
      "ROC AUC: 0.833\n",
      "ROC AUC: 0.812\n"
     ]
    },
    {
     "name": "stderr",
     "output_type": "stream",
     "text": [
      "\u001b[32m[I 2023-01-21 21:44:35,012]\u001b[0m Trial 80 finished with value: 0.8407469079248739 and parameters: {'max_depth': 6, 'learning_rate': 0.031481748045500094, 'min_child_weight': 3, 'gamma': 0.9987542778184215, 'subsample': 0.9622065340666867, 'colsample_bytree': 0.08484851240194284, 'reg_alpha': 0.986793430823774, 'reg_lambda': 0.07253928570303642, 'random_state': 677, 'num_boost_round': 511}. Best is trial 72 with value: 0.8470518781493359.\u001b[0m\n"
     ]
    },
    {
     "name": "stdout",
     "output_type": "stream",
     "text": [
      "ROC AUC: 0.835\n",
      "ROC AUC: 0.823\n",
      "ROC AUC: 0.881\n",
      "ROC AUC: 0.824\n",
      "ROC AUC: 0.797\n"
     ]
    },
    {
     "name": "stderr",
     "output_type": "stream",
     "text": [
      "\u001b[32m[I 2023-01-21 21:44:42,044]\u001b[0m Trial 81 finished with value: 0.830776797984425 and parameters: {'max_depth': 5, 'learning_rate': 0.022028869154479273, 'min_child_weight': 2, 'gamma': 0.8862624240526872, 'subsample': 0.7357398583695361, 'colsample_bytree': 0.05753044201750147, 'reg_alpha': 0.9034400781502132, 'reg_lambda': 0.019574541634280435, 'random_state': 725, 'num_boost_round': 575}. Best is trial 72 with value: 0.8470518781493359.\u001b[0m\n"
     ]
    },
    {
     "name": "stdout",
     "output_type": "stream",
     "text": [
      "ROC AUC: 0.828\n",
      "ROC AUC: 0.838\n",
      "ROC AUC: 0.866\n",
      "ROC AUC: 0.828\n",
      "ROC AUC: 0.819\n"
     ]
    },
    {
     "name": "stderr",
     "output_type": "stream",
     "text": [
      "\u001b[32m[I 2023-01-21 21:44:51,139]\u001b[0m Trial 82 finished with value: 0.8405396816307833 and parameters: {'max_depth': 5, 'learning_rate': 0.018846977623155323, 'min_child_weight': 1, 'gamma': 0.9077927571770419, 'subsample': 0.7359102555219336, 'colsample_bytree': 0.13895226372373917, 'reg_alpha': 0.9329704544135687, 'reg_lambda': 0.24539762215726946, 'random_state': 634, 'num_boost_round': 549}. Best is trial 72 with value: 0.8470518781493359.\u001b[0m\n"
     ]
    },
    {
     "name": "stdout",
     "output_type": "stream",
     "text": [
      "ROC AUC: 0.851\n",
      "ROC AUC: 0.857\n",
      "ROC AUC: 0.872\n",
      "ROC AUC: 0.835\n",
      "ROC AUC: 0.820\n"
     ]
    },
    {
     "name": "stderr",
     "output_type": "stream",
     "text": [
      "\u001b[32m[I 2023-01-21 21:44:58,669]\u001b[0m Trial 83 finished with value: 0.8466582684379294 and parameters: {'max_depth': 3, 'learning_rate': 0.02731280368353384, 'min_child_weight': 1, 'gamma': 0.9543091244902382, 'subsample': 0.6559202919374483, 'colsample_bytree': 0.09738208295076528, 'reg_alpha': 0.8762828590100102, 'reg_lambda': 0.18731807172616416, 'random_state': 569, 'num_boost_round': 621}. Best is trial 72 with value: 0.8470518781493359.\u001b[0m\n"
     ]
    },
    {
     "name": "stdout",
     "output_type": "stream",
     "text": [
      "ROC AUC: 0.849\n",
      "ROC AUC: 0.842\n",
      "ROC AUC: 0.861\n",
      "ROC AUC: 0.841\n",
      "ROC AUC: 0.827\n"
     ]
    },
    {
     "name": "stderr",
     "output_type": "stream",
     "text": [
      "\u001b[32m[I 2023-01-21 21:45:05,811]\u001b[0m Trial 84 finished with value: 0.8411847228584517 and parameters: {'max_depth': 3, 'learning_rate': 0.026767798510879376, 'min_child_weight': 1, 'gamma': 0.957673538476874, 'subsample': 0.8303249345072516, 'colsample_bytree': 0.2360401769539055, 'reg_alpha': 0.8065033164565383, 'reg_lambda': 0.11808829043418992, 'random_state': 489, 'num_boost_round': 638}. Best is trial 72 with value: 0.8470518781493359.\u001b[0m\n"
     ]
    },
    {
     "name": "stdout",
     "output_type": "stream",
     "text": [
      "ROC AUC: 0.835\n",
      "ROC AUC: 0.846\n",
      "ROC AUC: 0.853\n",
      "ROC AUC: 0.839\n",
      "ROC AUC: 0.825\n"
     ]
    },
    {
     "name": "stderr",
     "output_type": "stream",
     "text": [
      "\u001b[32m[I 2023-01-21 21:45:16,822]\u001b[0m Trial 85 finished with value: 0.8436449839670178 and parameters: {'max_depth': 4, 'learning_rate': 0.0244373705945926, 'min_child_weight': 2, 'gamma': 0.8370389544399213, 'subsample': 0.5367458089904678, 'colsample_bytree': 0.10506588328830505, 'reg_alpha': 0.8961303192115502, 'reg_lambda': 0.18290964432021853, 'random_state': 576, 'num_boost_round': 803}. Best is trial 72 with value: 0.8470518781493359.\u001b[0m\n"
     ]
    },
    {
     "name": "stdout",
     "output_type": "stream",
     "text": [
      "ROC AUC: 0.855\n",
      "ROC AUC: 0.854\n",
      "ROC AUC: 0.865\n",
      "ROC AUC: 0.843\n",
      "ROC AUC: 0.823\n"
     ]
    },
    {
     "name": "stderr",
     "output_type": "stream",
     "text": [
      "\u001b[32m[I 2023-01-21 21:45:28,144]\u001b[0m Trial 86 finished with value: 0.8450721484196061 and parameters: {'max_depth': 4, 'learning_rate': 0.02382373363871815, 'min_child_weight': 2, 'gamma': 0.779887029594344, 'subsample': 0.6507999338475262, 'colsample_bytree': 0.10240530244060625, 'reg_alpha': 0.8782474718267872, 'reg_lambda': 0.07478117784492895, 'random_state': 560, 'num_boost_round': 882}. Best is trial 72 with value: 0.8470518781493359.\u001b[0m\n"
     ]
    },
    {
     "name": "stdout",
     "output_type": "stream",
     "text": [
      "ROC AUC: 0.840\n",
      "ROC AUC: 0.845\n",
      "ROC AUC: 0.870\n",
      "ROC AUC: 0.841\n",
      "ROC AUC: 0.829\n"
     ]
    },
    {
     "name": "stderr",
     "output_type": "stream",
     "text": [
      "\u001b[32m[I 2023-01-21 21:45:35,684]\u001b[0m Trial 87 finished with value: 0.8480236486486487 and parameters: {'max_depth': 3, 'learning_rate': 0.02879113081122253, 'min_child_weight': 2, 'gamma': 0.7775206169795481, 'subsample': 0.645551913068929, 'colsample_bytree': 0.16629624762225476, 'reg_alpha': 0.8540484552513521, 'reg_lambda': 0.07356578491128433, 'random_state': 537, 'num_boost_round': 894}. Best is trial 87 with value: 0.8480236486486487.\u001b[0m\n"
     ]
    },
    {
     "name": "stdout",
     "output_type": "stream",
     "text": [
      "ROC AUC: 0.855\n",
      "ROC AUC: 0.851\n",
      "ROC AUC: 0.870\n",
      "ROC AUC: 0.834\n",
      "ROC AUC: 0.820\n"
     ]
    },
    {
     "name": "stderr",
     "output_type": "stream",
     "text": [
      "\u001b[32m[I 2023-01-21 21:45:44,692]\u001b[0m Trial 88 finished with value: 0.8454434264773247 and parameters: {'max_depth': 3, 'learning_rate': 0.026757658287762012, 'min_child_weight': 2, 'gamma': 0.7478138933297798, 'subsample': 0.6499656568001234, 'colsample_bytree': 0.16501750948642874, 'reg_alpha': 0.8518086327975358, 'reg_lambda': 0.07649876544851675, 'random_state': 553, 'num_boost_round': 908}. Best is trial 87 with value: 0.8480236486486487.\u001b[0m\n"
     ]
    },
    {
     "name": "stdout",
     "output_type": "stream",
     "text": [
      "ROC AUC: 0.852\n",
      "ROC AUC: 0.835\n",
      "ROC AUC: 0.874\n",
      "ROC AUC: 0.850\n",
      "ROC AUC: 0.818\n"
     ]
    },
    {
     "name": "stderr",
     "output_type": "stream",
     "text": [
      "\u001b[32m[I 2023-01-21 21:45:55,340]\u001b[0m Trial 89 finished with value: 0.8464852840128264 and parameters: {'max_depth': 3, 'learning_rate': 0.029324195247425796, 'min_child_weight': 2, 'gamma': 0.7842697931669004, 'subsample': 0.6344419846605337, 'colsample_bytree': 0.03584641859016507, 'reg_alpha': 0.8581397178803952, 'reg_lambda': 0.0712697320686891, 'random_state': 551, 'num_boost_round': 928}. Best is trial 87 with value: 0.8480236486486487.\u001b[0m\n"
     ]
    },
    {
     "name": "stdout",
     "output_type": "stream",
     "text": [
      "ROC AUC: 0.856\n"
     ]
    },
    {
     "name": "stderr",
     "output_type": "stream",
     "text": [
      "\u001b[33m[W 2023-01-21 21:45:56,497]\u001b[0m Trial 90 failed because of the following error: KeyboardInterrupt()\u001b[0m\n",
      "Traceback (most recent call last):\n",
      "  File \"D:\\source\\repos\\venv\\Python310\\lib\\site-packages\\optuna\\study\\_optimize.py\", line 196, in _run_trial\n",
      "    value_or_values = func(trial)\n",
      "  File \"C:\\Users\\ryans\\AppData\\Local\\Temp\\ipykernel_14704\\3181594328.py\", line 35, in objective_v4\n",
      "    scores = skfold_cv(model, train_df[features], train_df[target], roc_auc_score, 5)\n",
      "  File \"C:\\Users\\ryans\\AppData\\Local\\Temp\\ipykernel_14704\\3181594328.py\", line 10, in skfold_cv\n",
      "    model.fit(X_train, y_train, eval_set=[(X_test, y_test)], verbose=0)\n",
      "  File \"D:\\source\\repos\\venv\\Python310\\lib\\site-packages\\xgboost\\core.py\", line 620, in inner_f\n",
      "    return func(**kwargs)\n",
      "  File \"D:\\source\\repos\\venv\\Python310\\lib\\site-packages\\xgboost\\sklearn.py\", line 1490, in fit\n",
      "    self._Booster = train(\n",
      "  File \"D:\\source\\repos\\venv\\Python310\\lib\\site-packages\\xgboost\\core.py\", line 620, in inner_f\n",
      "    return func(**kwargs)\n",
      "  File \"D:\\source\\repos\\venv\\Python310\\lib\\site-packages\\xgboost\\training.py\", line 185, in train\n",
      "    bst.update(dtrain, i, obj)\n",
      "  File \"D:\\source\\repos\\venv\\Python310\\lib\\site-packages\\xgboost\\core.py\", line 1918, in update\n",
      "    _check_call(_LIB.XGBoosterUpdateOneIter(self.handle,\n",
      "KeyboardInterrupt\n",
      "Exception ignored in: <function DataIter.__del__ at 0x0000016DBBB281F0>\n",
      "Traceback (most recent call last):\n",
      "  File \"D:\\source\\repos\\venv\\Python310\\lib\\site-packages\\xgboost\\core.py\", line 491, in __del__\n",
      "    assert self._temporary_data is None\n",
      "KeyboardInterrupt: \n",
      "\n",
      "KeyboardInterrupt\n",
      "\n"
     ]
    }
   ],
   "source": [
    "study = optuna.create_study(direction='maximize', sampler=TPESampler(), study_name=objective) #recommeded between 100-1000 itterations\n",
    "study.optimize(objective_v4, n_trials=1000)"
   ]
  },
  {
   "cell_type": "code",
   "execution_count": 14,
   "id": "cd78822b-3779-4cd1-a6f7-93f975461005",
   "metadata": {
    "tags": []
   },
   "outputs": [],
   "source": [
    "parm_grid_bytes = pickle.dumps(param_grid_history)\n",
    "with open(f\"rendered_data/{objective}_bytes.hex\", \"wb\") as binary_file:\n",
    "    binary_file.write(parm_grid_bytes)"
   ]
  },
  {
   "cell_type": "code",
   "execution_count": 15,
   "id": "4fc1f5eb-5007-4b73-a696-7c1b938a12cd",
   "metadata": {
    "tags": []
   },
   "outputs": [
    {
     "name": "stderr",
     "output_type": "stream",
     "text": [
      "100%|████████████████████████████████████████████████████████████████████████████████████| 1/1 [00:00<00:00,  1.93it/s]\n"
     ]
    }
   ],
   "source": [
    "def train(param_grid):\n",
    "    reg = xgb.XGBModel(\n",
    "        # These parameters should help with trial speed.\n",
    "        objective='binary:logistic',\n",
    "        booster='gbtree',\n",
    "        predictor='gpu_predictor',\n",
    "        eval_metric='auc',\n",
    "        **param_grid\n",
    "    )\n",
    "    \n",
    "    X_train, X_valid, y_train, y_valid = train_test_split(X, Y, test_size=0.20)\n",
    "    \n",
    "    reg.fit(X_train, y_train, eval_set=[(X_valid, y_valid)], verbose=False)\n",
    "        \n",
    "    return reg\n",
    "\n",
    "percent = math.ceil(len(param_grid_history.keys()) * .1)\n",
    "top = sorted(list(param_grid_history.keys()))[-1:]\n",
    "\n",
    "train_preds = []\n",
    "test_preds = []\n",
    "for key in tqdm(top):\n",
    "    model = train(param_grid_history[key])\n",
    "    train_preds.append(model.predict(train_df[features]))\n",
    "    test_preds.append(model.predict(test_df[features]))\n",
    "\n",
    "train_final_preds = np.stack(train_preds).mean(0)\n",
    "test_final_preds = np.stack(test_preds).mean(0)"
   ]
  },
  {
   "cell_type": "code",
   "execution_count": 16,
   "id": "6a849ba6-0559-42be-88da-2b5f6738d4f1",
   "metadata": {},
   "outputs": [],
   "source": [
    "train_submission = pd.DataFrame(data={'id': train_df.index, target[0]: train_final_preds})\n",
    "train_submission.to_csv(fr'rendered_data/{objective}_train_submission.csv', index=False)\n",
    "\n",
    "test_submission = pd.DataFrame(data={'id': test_df.index, target[0]: test_final_preds})\n",
    "test_submission.to_csv(fr'rendered_data/{objective}_test_submission.csv', index=False)"
   ]
  },
  {
   "cell_type": "code",
   "execution_count": null,
   "id": "e39940d7-295b-4781-b008-0faa28ecb553",
   "metadata": {},
   "outputs": [],
   "source": []
  },
  {
   "cell_type": "code",
   "execution_count": null,
   "id": "d4101df8-7385-492d-b06e-7f42d874cf66",
   "metadata": {},
   "outputs": [],
   "source": []
  },
  {
   "cell_type": "code",
   "execution_count": null,
   "id": "0aff80b8-37d3-44e2-9082-25cc759d93a0",
   "metadata": {},
   "outputs": [],
   "source": []
  },
  {
   "cell_type": "code",
   "execution_count": null,
   "id": "b21e7362-c2ca-4bee-8666-9c4e305e1fd4",
   "metadata": {},
   "outputs": [],
   "source": []
  },
  {
   "cell_type": "code",
   "execution_count": null,
   "id": "8872ad54-57a6-4511-9389-3a46ad31366f",
   "metadata": {},
   "outputs": [],
   "source": []
  }
 ],
 "metadata": {
  "kernelspec": {
   "display_name": "Python 3 (ipykernel)",
   "language": "python",
   "name": "python3"
  },
  "language_info": {
   "codemirror_mode": {
    "name": "ipython",
    "version": 3
   },
   "file_extension": ".py",
   "mimetype": "text/x-python",
   "name": "python",
   "nbconvert_exporter": "python",
   "pygments_lexer": "ipython3",
   "version": "3.10.9"
  }
 },
 "nbformat": 4,
 "nbformat_minor": 5
}
