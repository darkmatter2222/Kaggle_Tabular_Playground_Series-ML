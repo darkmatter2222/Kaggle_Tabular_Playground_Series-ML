{
 "cells": [
  {
   "cell_type": "code",
   "execution_count": 1,
   "id": "936b5758-0b17-4f59-bdfa-beb3ee47a143",
   "metadata": {},
   "outputs": [],
   "source": [
    "import numpy as np\n",
    "import pandas as pd\n",
    "import math\n",
    "import sys, os\n",
    "#import seaborn as sns\n",
    "#from scipy import stats\n",
    "#from pathlib import Path\n",
    "#import matplotlib.pyplot as plt\n",
    "#from sklearn.model_selection import KFold\n",
    "from sklearn.preprocessing import MinMaxScaler\n",
    "from sklearn.model_selection import train_test_split\n",
    "#from sklearn.metrics import mean_squared_error\n",
    "#from sklearn.metrics import mean_squared_error\n",
    "#from sklearn.preprocessing import MinMaxScaler\n",
    "#from sklearn.datasets import fetch_california_housing\n",
    "#import math\n",
    "from tqdm import tqdm\n",
    "from sklearn.feature_extraction.text import CountVectorizer\n",
    "from sklearn.preprocessing import LabelEncoder, OneHotEncoder, OrdinalEncoder\n",
    "import optuna\n",
    "from optuna.samplers import TPESampler\n",
    "#import lightgbm as lgbm\n",
    "#from xgboost import XGBRegressor\n",
    "import xgboost as xgb\n",
    "#from catboost import CatBoostRegressor\n",
    "#from lightgbm.sklearn import LGBMRegressor\n",
    "#from sklearn.ensemble import RandomForestRegressor\n",
    "import pickle\n",
    "from sklearn.metrics import roc_curve, auc\n",
    "from sklearn.model_selection import StratifiedKFold\n",
    "pd.set_option('display.max_columns', 500)\n",
    "from sklearn.metrics import roc_auc_score\n",
    "import pandas as pd\n",
    "import numpy as np\n",
    "from tqdm import tqdm\n",
    "from sklearn.metrics import roc_curve, auc,recall_score,precision_score\n",
    "from sklearn import metrics\n",
    "\n",
    "import sys, os\n",
    "import pandas as pd\n",
    "import seaborn as sns\n",
    "import numpy as np\n",
    "import matplotlib.pyplot as plt\n",
    "from sklearn.feature_extraction.text import CountVectorizer\n",
    "import math\n",
    "import pickle\n",
    "import mplcyberpunk"
   ]
  },
  {
   "cell_type": "code",
   "execution_count": 2,
   "id": "65a1724a-47d5-4e16-abe6-cabcb3c82980",
   "metadata": {},
   "outputs": [],
   "source": [
    "from itertools import islice, cycle\n",
    "\n",
    "plt.style.use(\"cyberpunk\")\n",
    "\n",
    "def add_secondary_plot(df, column, target_column, ax, n_bins, color=3, show_yticks=False, marker=\".\"):\n",
    "    secondary_ax = ax.twinx()\n",
    "    bins = pd.cut(df[column], bins=n_bins)\n",
    "    bins = pd.IntervalIndex(bins)\n",
    "    bins = (bins.left + bins.right) / 2\n",
    "    target = df.groupby(bins)[target_column].mean()\n",
    "    target.plot(\n",
    "        ax=secondary_ax, linestyle='',\n",
    "        marker=marker, color=color, label=f\"Mean '{target_column}'\"\n",
    "    )\n",
    "    secondary_ax.grid(visible=False)\n",
    "    \n",
    "    if not show_yticks:\n",
    "        secondary_ax.get_yaxis().set_ticks([])\n",
    "        \n",
    "    return secondary_ax\n",
    "\n",
    "def render_feature_distros(train_df, test_df, features=[], labels=[], n_bins=50, n_cols=4, pad=2, h_pad=4, w_pad=None):\n",
    "    histplot_hyperparams = {\n",
    "        'kde':True,\n",
    "        'alpha':0.4,\n",
    "        'stat':'percent',\n",
    "        'bins':n_bins\n",
    "    }\n",
    "    markers = ['.', '+', 'x', '1', '2']\n",
    "    \n",
    "    n_rows = math.ceil(len(features) / n_cols)\n",
    "    cell_with_dim = 4\n",
    "    cell_height_dim = 3\n",
    "    \n",
    "    fig, ax = plt.subplots(n_rows, n_cols, figsize=(n_cols * cell_with_dim, n_rows * cell_height_dim))\n",
    "    plt.tight_layout(pad=pad, h_pad=h_pad, w_pad=w_pad, rect=None)\n",
    "    \n",
    "    # delete exess subplots\n",
    "    for a in ax[n_rows - 1, int(((n_rows - (len(features) / n_cols)) * n_cols*-1)):]:\n",
    "        a.axis('off')\n",
    "        \n",
    "    leg_handles = []\n",
    "    leg_labels = []\n",
    "    \n",
    "    axs = []\n",
    "\n",
    "    for i, feature in enumerate(features):\n",
    "        row = math.ceil(i / n_cols) - 1\n",
    "        col = (i % n_cols)\n",
    "        \n",
    "        color_cycle = islice(mplcyberpunk.cyberpunk_stylesheets['cyberpunk']['axes.prop_cycle'], 0, None)\n",
    "        \n",
    "        sns.histplot(train_df[feature], label='Train X', ax=ax[row, col], color=next(color_cycle)['color'], **histplot_hyperparams)\n",
    "        sns.histplot(test_df[feature], label='Test X', ax=ax[row, col],color=next(color_cycle)['color'], **histplot_hyperparams)\n",
    "        ax[row, col].set_title(f'{feature} Distribution')\n",
    "        mplcyberpunk.make_lines_glow(ax[row, col])\n",
    "        axs.append(ax[row, col].get_legend_handles_labels())\n",
    "\n",
    "        for j, label in enumerate(labels):\n",
    "            sub_ax = add_secondary_plot(train_df, feature, label, ax[row, col], n_bins, color=next(color_cycle)['color'], marker=markers[j])\n",
    "            axs.append(sub_ax.get_legend_handles_labels())\n",
    "        \n",
    "    for axis in axs:\n",
    "        if axis[1][0] not in leg_labels:\n",
    "            leg_labels.extend(axis[1])\n",
    "            leg_handles.extend(axis[0])\n",
    "        \n",
    "    fig.legend(leg_handles, leg_labels, loc='upper center', bbox_to_anchor=(0.5, 1.04), fontsize=14, ncol=len(features) + 2)"
   ]
  },
  {
   "cell_type": "code",
   "execution_count": 3,
   "id": "baf23cb5-cc6a-4dae-9dc1-7dc1b7b4021a",
   "metadata": {},
   "outputs": [],
   "source": [
    "train_time = 1 * 60 * 60\n",
    "objective = 'xgbregressor'"
   ]
  },
  {
   "cell_type": "code",
   "execution_count": 4,
   "id": "30af7575-c694-4420-81e3-8f4608abc789",
   "metadata": {},
   "outputs": [],
   "source": [
    "sys.path.append(os.path.realpath('..'))"
   ]
  },
  {
   "cell_type": "code",
   "execution_count": 5,
   "id": "1ae92e2f-1d42-4d7f-953e-6cb3b5eb9e0e",
   "metadata": {},
   "outputs": [],
   "source": [
    "train_df = pd.read_csv(r\"..\\data\\train.csv\", index_col=0)\n",
    "test_df = pd.read_csv(r\"..\\data\\test.csv\", index_col=0)\n",
    "sample_sub = pd.read_csv(r\"..\\data\\sample_submission.csv\", index_col=0)"
   ]
  },
  {
   "cell_type": "code",
   "execution_count": 6,
   "id": "433cce54-7033-4c6a-8fbb-bdee32110ecd",
   "metadata": {},
   "outputs": [
    {
     "data": {
      "text/html": [
       "<div>\n",
       "<style scoped>\n",
       "    .dataframe tbody tr th:only-of-type {\n",
       "        vertical-align: middle;\n",
       "    }\n",
       "\n",
       "    .dataframe tbody tr th {\n",
       "        vertical-align: top;\n",
       "    }\n",
       "\n",
       "    .dataframe thead th {\n",
       "        text-align: right;\n",
       "    }\n",
       "</style>\n",
       "<table border=\"1\" class=\"dataframe\">\n",
       "  <thead>\n",
       "    <tr style=\"text-align: right;\">\n",
       "      <th></th>\n",
       "      <th>Total</th>\n",
       "      <th>Percent</th>\n",
       "    </tr>\n",
       "  </thead>\n",
       "  <tbody>\n",
       "    <tr>\n",
       "      <th>Age</th>\n",
       "      <td>0</td>\n",
       "      <td>0.0</td>\n",
       "    </tr>\n",
       "    <tr>\n",
       "      <th>StockOptionLevel</th>\n",
       "      <td>0</td>\n",
       "      <td>0.0</td>\n",
       "    </tr>\n",
       "    <tr>\n",
       "      <th>Over18</th>\n",
       "      <td>0</td>\n",
       "      <td>0.0</td>\n",
       "    </tr>\n",
       "    <tr>\n",
       "      <th>OverTime</th>\n",
       "      <td>0</td>\n",
       "      <td>0.0</td>\n",
       "    </tr>\n",
       "    <tr>\n",
       "      <th>PercentSalaryHike</th>\n",
       "      <td>0</td>\n",
       "      <td>0.0</td>\n",
       "    </tr>\n",
       "    <tr>\n",
       "      <th>PerformanceRating</th>\n",
       "      <td>0</td>\n",
       "      <td>0.0</td>\n",
       "    </tr>\n",
       "    <tr>\n",
       "      <th>RelationshipSatisfaction</th>\n",
       "      <td>0</td>\n",
       "      <td>0.0</td>\n",
       "    </tr>\n",
       "    <tr>\n",
       "      <th>StandardHours</th>\n",
       "      <td>0</td>\n",
       "      <td>0.0</td>\n",
       "    </tr>\n",
       "    <tr>\n",
       "      <th>TotalWorkingYears</th>\n",
       "      <td>0</td>\n",
       "      <td>0.0</td>\n",
       "    </tr>\n",
       "    <tr>\n",
       "      <th>BusinessTravel</th>\n",
       "      <td>0</td>\n",
       "      <td>0.0</td>\n",
       "    </tr>\n",
       "  </tbody>\n",
       "</table>\n",
       "</div>"
      ],
      "text/plain": [
       "                          Total  Percent\n",
       "Age                           0      0.0\n",
       "StockOptionLevel              0      0.0\n",
       "Over18                        0      0.0\n",
       "OverTime                      0      0.0\n",
       "PercentSalaryHike             0      0.0\n",
       "PerformanceRating             0      0.0\n",
       "RelationshipSatisfaction      0      0.0\n",
       "StandardHours                 0      0.0\n",
       "TotalWorkingYears             0      0.0\n",
       "BusinessTravel                0      0.0"
      ]
     },
     "execution_count": 6,
     "metadata": {},
     "output_type": "execute_result"
    }
   ],
   "source": [
    "total = train_df.isnull().sum().sort_values(ascending=False)\n",
    "percent = (train_df.isnull().sum()/train_df.isnull().count()).sort_values(ascending=False)\n",
    "missing_data = pd.concat([total, percent], axis=1, keys=['Total', 'Percent'])\n",
    "missing_data.head(10)"
   ]
  },
  {
   "cell_type": "code",
   "execution_count": 7,
   "id": "09ca2d44-448c-45a8-a500-15ffd3b3041f",
   "metadata": {},
   "outputs": [],
   "source": [
    "del train_df['Over18']\n",
    "del train_df['EmployeeCount']\n",
    "del train_df['StandardHours']"
   ]
  },
  {
   "cell_type": "code",
   "execution_count": 8,
   "id": "bcc257a3-0717-47f3-911a-40404ffbf02f",
   "metadata": {},
   "outputs": [
    {
     "name": "stdout",
     "output_type": "stream",
     "text": [
      "BusinessTravel\n",
      "Department\n",
      "EducationField\n",
      "Gender\n",
      "JobRole\n",
      "MaritalStatus\n",
      "OverTime\n"
     ]
    }
   ],
   "source": [
    "columns_to_vectorize = ['BusinessTravel', 'Department', 'EducationField', 'Gender', 'JobRole', 'MaritalStatus', 'OverTime']\n",
    "for vector_target in columns_to_vectorize:\n",
    "    print(vector_target)\n",
    "    vectorizer = CountVectorizer()\n",
    "    vectorizer.fit_transform(train_df[vector_target])\n",
    "    train_df[f'{vector_target}_v'] = vectorizer.transform(train_df[vector_target]).toarray().argmax(axis=1)[:,None]\n",
    "    vectorizer.fit_transform(test_df[vector_target])\n",
    "    test_df[f'{vector_target}_v'] = vectorizer.transform(test_df[vector_target]).toarray().argmax(axis=1)[:,None]"
   ]
  },
  {
   "cell_type": "code",
   "execution_count": 9,
   "id": "1d2b4c9f-993a-45f0-b216-294e6c732919",
   "metadata": {},
   "outputs": [],
   "source": [
    "features = ['Age', 'DailyRate', 'DistanceFromHome', 'Education', 'EnvironmentSatisfaction','HourlyRate', 'JobInvolvement', 'JobLevel', 'JobSatisfaction', \n",
    "       'MonthlyIncome', 'MonthlyRate', 'NumCompaniesWorked', 'PercentSalaryHike', 'PerformanceRating', 'RelationshipSatisfaction', 'StockOptionLevel', 'TotalWorkingYears',\n",
    "       'TrainingTimesLastYear', 'WorkLifeBalance', 'YearsAtCompany', 'YearsInCurrentRole', 'YearsSinceLastPromotion', 'YearsWithCurrManager',\n",
    "        'BusinessTravel_v', 'Department_v', 'EducationField_v','Gender_v', 'JobRole_v', 'MaritalStatus_v', 'OverTime_v']\n",
    "target = ['Attrition']"
   ]
  },
  {
   "cell_type": "code",
   "execution_count": 10,
   "id": "ed6f4daf-2da6-415b-9ef1-c9def5ae5dee",
   "metadata": {},
   "outputs": [],
   "source": [
    "scaler = MinMaxScaler().fit(train_df[features])\n",
    "X = scaler.transform(train_df[features])\n",
    "X_test = scaler.transform(test_df[features])\n",
    "\n",
    "scaler = MinMaxScaler().fit(train_df[target])\n",
    "Y = scaler.transform(train_df[target])"
   ]
  },
  {
   "cell_type": "code",
   "execution_count": 11,
   "id": "1c0df4c6-ff19-49ab-9655-45f8fac57d0c",
   "metadata": {},
   "outputs": [],
   "source": [
    "RANDOM_STATE = 12 \n",
    "FOLDS = 5\n",
    "param_grid_history = {}\n",
    "\n",
    "\n",
    "def objective_v3(trial):\n",
    "    oof = np.zeros(len(X))\n",
    "    scores = []\n",
    "    param_grid = {\n",
    "        'max_depth': trial.suggest_int('max_depth', 3, 8),\n",
    "        'n_estimators': trial.suggest_int('n_estimators', 2, 1000, 1), \n",
    "        #'learning_rate': trial.suggest_float('learning_rate', 0.001, 0.9),\n",
    "        'min_child_weight': trial.suggest_float('min_child_weight', 0.001, 0.9),\n",
    "        'eta': trial.suggest_float('eta', 0.001, 0.9), \n",
    "        'subsample': trial.suggest_float('subsample', 0.1, 1),\n",
    "        'colsample_bytree': trial.suggest_float('colsample_bytree', 0.1, 1),\n",
    "        'reg_lambda': trial.suggest_float('reg_lambda', 1, 5), \n",
    "    } \n",
    "        \n",
    "    skf = StratifiedKFold(n_splits=FOLDS, shuffle=True, random_state=RANDOM_STATE)\n",
    "    for fold, (train_idx, valid_idx) in enumerate(skf.split(X, Y)):\n",
    "        print(10*\"=\", f\"Fold={fold+1}\", 10*\"=\")\n",
    "        X_train, X_valid = train_df.iloc[train_idx][features], train_df.iloc[valid_idx][features]\n",
    "        y_train , y_valid = train_df[target].iloc[train_idx] , train_df[target].iloc[valid_idx] \n",
    "        \n",
    "        reg = xgb.XGBModel(\n",
    "            # These parameters should help with trial speed.\n",
    "            objective='binary:logistic',\n",
    "            tree_method='gpu_hist',\n",
    "            booster='gbtree',\n",
    "            predictor='gpu_predictor',\n",
    "            n_jobs=4,\n",
    "            eval_metric='auc',\n",
    "            early_stopping_rounds=100,\n",
    "            **param_grid\n",
    "        )\n",
    "\n",
    "        reg.fit(X_train, y_train, eval_set=[(X_valid, y_valid)], verbose=False)\n",
    "            \n",
    "        oof[valid_idx] = reg.predict(X_valid)\n",
    "\n",
    "    roc_auc = roc_auc_score(Y, oof)\n",
    "    \n",
    "    param_grid_history[roc_auc] = param_grid\n",
    "\n",
    "    return roc_auc"
   ]
  },
  {
   "cell_type": "code",
   "execution_count": 12,
   "id": "02818b3a-e7d1-4624-809f-7d009b3aeb5e",
   "metadata": {
    "tags": []
   },
   "outputs": [
    {
     "name": "stderr",
     "output_type": "stream",
     "text": [
      "\u001b[32m[I 2023-01-19 21:27:07,115]\u001b[0m A new study created in memory with name: xgbregressor\u001b[0m\n"
     ]
    },
    {
     "name": "stdout",
     "output_type": "stream",
     "text": [
      "========== Fold=1 ==========\n",
      "========== Fold=2 ==========\n",
      "========== Fold=3 ==========\n",
      "========== Fold=4 ==========\n",
      "========== Fold=5 ==========\n"
     ]
    },
    {
     "name": "stderr",
     "output_type": "stream",
     "text": [
      "\u001b[32m[I 2023-01-19 21:27:10,243]\u001b[0m Trial 0 finished with value: 0.8101607989167231 and parameters: {'max_depth': 7, 'n_estimators': 295, 'min_child_weight': 0.8900232302256054, 'eta': 0.6722422235421517, 'subsample': 0.5011870462174887, 'colsample_bytree': 0.20810827562775652, 'reg_lambda': 4.408647987312504}. Best is trial 0 with value: 0.8101607989167231.\u001b[0m\n"
     ]
    },
    {
     "name": "stdout",
     "output_type": "stream",
     "text": [
      "========== Fold=1 ==========\n",
      "========== Fold=2 ==========\n",
      "========== Fold=3 ==========\n",
      "========== Fold=4 ==========\n",
      "========== Fold=5 ==========\n"
     ]
    },
    {
     "name": "stderr",
     "output_type": "stream",
     "text": [
      "\u001b[32m[I 2023-01-19 21:27:12,210]\u001b[0m Trial 1 finished with value: 0.8106279620853082 and parameters: {'max_depth': 8, 'n_estimators': 83, 'min_child_weight': 0.7358082806444164, 'eta': 0.3555907268063628, 'subsample': 0.47642740723594645, 'colsample_bytree': 0.5087279760047894, 'reg_lambda': 4.91755290989425}. Best is trial 1 with value: 0.8106279620853082.\u001b[0m\n"
     ]
    },
    {
     "name": "stdout",
     "output_type": "stream",
     "text": [
      "========== Fold=1 ==========\n",
      "========== Fold=2 ==========\n",
      "========== Fold=3 ==========\n",
      "========== Fold=4 ==========\n",
      "========== Fold=5 ==========\n"
     ]
    },
    {
     "name": "stderr",
     "output_type": "stream",
     "text": [
      "\u001b[32m[I 2023-01-19 21:27:15,559]\u001b[0m Trial 2 finished with value: 0.843023019634394 and parameters: {'max_depth': 3, 'n_estimators': 855, 'min_child_weight': 0.12867087315160114, 'eta': 0.08509685677676268, 'subsample': 0.4235567741602716, 'colsample_bytree': 0.27465205184384633, 'reg_lambda': 3.603436457749558}. Best is trial 2 with value: 0.843023019634394.\u001b[0m\n"
     ]
    },
    {
     "name": "stdout",
     "output_type": "stream",
     "text": [
      "========== Fold=1 ==========\n",
      "========== Fold=2 ==========\n",
      "========== Fold=3 ==========\n"
     ]
    },
    {
     "name": "stderr",
     "output_type": "stream",
     "text": [
      "\u001b[32m[I 2023-01-19 21:27:15,984]\u001b[0m Trial 3 finished with value: 0.794895057549086 and parameters: {'max_depth': 3, 'n_estimators': 12, 'min_child_weight': 0.08137418719100241, 'eta': 0.1366266970861962, 'subsample': 0.24985422802593346, 'colsample_bytree': 0.4988964166694997, 'reg_lambda': 1.604235464236222}. Best is trial 2 with value: 0.843023019634394.\u001b[0m\n"
     ]
    },
    {
     "name": "stdout",
     "output_type": "stream",
     "text": [
      "========== Fold=4 ==========\n",
      "========== Fold=5 ==========\n",
      "========== Fold=1 ==========\n",
      "========== Fold=2 ==========\n",
      "========== Fold=3 ==========\n",
      "========== Fold=4 ==========\n",
      "========== Fold=5 ==========\n"
     ]
    },
    {
     "name": "stderr",
     "output_type": "stream",
     "text": [
      "\u001b[32m[I 2023-01-19 21:27:19,097]\u001b[0m Trial 4 finished with value: 0.796355788761002 and parameters: {'max_depth': 8, 'n_estimators': 162, 'min_child_weight': 0.48122430428830093, 'eta': 0.3261582503011506, 'subsample': 0.2976036022387866, 'colsample_bytree': 0.5555821898181702, 'reg_lambda': 4.822797796791001}. Best is trial 2 with value: 0.843023019634394.\u001b[0m\n"
     ]
    },
    {
     "name": "stdout",
     "output_type": "stream",
     "text": [
      "========== Fold=1 ==========\n",
      "========== Fold=2 ==========\n",
      "========== Fold=3 ==========\n",
      "========== Fold=4 ==========\n",
      "========== Fold=5 ==========\n"
     ]
    },
    {
     "name": "stderr",
     "output_type": "stream",
     "text": [
      "\u001b[32m[I 2023-01-19 21:27:23,252]\u001b[0m Trial 5 finished with value: 0.7794008124576844 and parameters: {'max_depth': 6, 'n_estimators': 357, 'min_child_weight': 0.020608719743577107, 'eta': 0.37214984905467585, 'subsample': 0.963572808614158, 'colsample_bytree': 0.5825388517453102, 'reg_lambda': 2.95190313658487}. Best is trial 2 with value: 0.843023019634394.\u001b[0m\n"
     ]
    },
    {
     "name": "stdout",
     "output_type": "stream",
     "text": [
      "========== Fold=1 ==========\n",
      "========== Fold=2 ==========\n",
      "========== Fold=3 ==========\n",
      "========== Fold=4 ==========\n",
      "========== Fold=5 ==========\n"
     ]
    },
    {
     "name": "stderr",
     "output_type": "stream",
     "text": [
      "\u001b[32m[I 2023-01-19 21:27:27,302]\u001b[0m Trial 6 finished with value: 0.7752775897088693 and parameters: {'max_depth': 6, 'n_estimators': 648, 'min_child_weight': 0.6703592163767677, 'eta': 0.8733868503208204, 'subsample': 0.6378721891760261, 'colsample_bytree': 0.7067683957261846, 'reg_lambda': 1.5598745453393996}. Best is trial 2 with value: 0.843023019634394.\u001b[0m\n"
     ]
    },
    {
     "name": "stdout",
     "output_type": "stream",
     "text": [
      "========== Fold=1 ==========\n",
      "========== Fold=2 ==========\n",
      "========== Fold=3 ==========\n",
      "========== Fold=4 ==========\n",
      "========== Fold=5 ==========\n"
     ]
    },
    {
     "name": "stderr",
     "output_type": "stream",
     "text": [
      "\u001b[32m[I 2023-01-19 21:27:29,068]\u001b[0m Trial 7 finished with value: 0.7993584969532838 and parameters: {'max_depth': 3, 'n_estimators': 780, 'min_child_weight': 0.08873706087067522, 'eta': 0.7231392382445265, 'subsample': 0.2960166682953672, 'colsample_bytree': 0.8233779844711727, 'reg_lambda': 2.5709241581748365}. Best is trial 2 with value: 0.843023019634394.\u001b[0m\n"
     ]
    },
    {
     "name": "stdout",
     "output_type": "stream",
     "text": [
      "========== Fold=1 ==========\n",
      "========== Fold=2 ==========\n",
      "========== Fold=3 ==========\n",
      "========== Fold=4 ==========\n",
      "========== Fold=5 ==========\n"
     ]
    },
    {
     "name": "stderr",
     "output_type": "stream",
     "text": [
      "\u001b[32m[I 2023-01-19 21:27:31,495]\u001b[0m Trial 8 finished with value: 0.7978859174001355 and parameters: {'max_depth': 5, 'n_estimators': 923, 'min_child_weight': 0.821818738011895, 'eta': 0.6393558986844307, 'subsample': 0.2916309278031816, 'colsample_bytree': 0.4648250511182088, 'reg_lambda': 3.1492038441543655}. Best is trial 2 with value: 0.843023019634394.\u001b[0m\n"
     ]
    },
    {
     "name": "stdout",
     "output_type": "stream",
     "text": [
      "========== Fold=1 ==========\n",
      "========== Fold=2 ==========\n",
      "========== Fold=3 ==========\n",
      "========== Fold=4 ==========\n",
      "========== Fold=5 ==========\n"
     ]
    },
    {
     "name": "stderr",
     "output_type": "stream",
     "text": [
      "\u001b[32m[I 2023-01-19 21:27:34,497]\u001b[0m Trial 9 finished with value: 0.8229180771834801 and parameters: {'max_depth': 8, 'n_estimators': 943, 'min_child_weight': 0.17698281202868435, 'eta': 0.5624869956528079, 'subsample': 0.31229404095968244, 'colsample_bytree': 0.3092042382379303, 'reg_lambda': 3.5992962256705074}. Best is trial 2 with value: 0.843023019634394.\u001b[0m\n"
     ]
    },
    {
     "name": "stdout",
     "output_type": "stream",
     "text": [
      "========== Fold=1 ==========\n",
      "========== Fold=2 ==========\n",
      "========== Fold=3 ==========\n",
      "========== Fold=4 ==========\n",
      "========== Fold=5 ==========\n"
     ]
    },
    {
     "name": "stderr",
     "output_type": "stream",
     "text": [
      "\u001b[32m[I 2023-01-19 21:27:38,853]\u001b[0m Trial 10 finished with value: 0.8470108327691267 and parameters: {'max_depth': 4, 'n_estimators': 585, 'min_child_weight': 0.31805906002141504, 'eta': 0.06540583484661644, 'subsample': 0.7442952203277619, 'colsample_bytree': 0.10587286554863537, 'reg_lambda': 3.954618699010295}. Best is trial 10 with value: 0.8470108327691267.\u001b[0m\n"
     ]
    },
    {
     "name": "stdout",
     "output_type": "stream",
     "text": [
      "========== Fold=1 ==========\n",
      "========== Fold=2 ==========\n",
      "========== Fold=3 ==========\n",
      "========== Fold=4 ==========\n",
      "========== Fold=5 ==========\n"
     ]
    },
    {
     "name": "stderr",
     "output_type": "stream",
     "text": [
      "\u001b[32m[I 2023-01-19 21:27:47,326]\u001b[0m Trial 11 finished with value: 0.8370920785375762 and parameters: {'max_depth': 4, 'n_estimators': 574, 'min_child_weight': 0.3258283370354832, 'eta': 0.011659953695344838, 'subsample': 0.7718802788217369, 'colsample_bytree': 0.10388933865638195, 'reg_lambda': 3.9721468142155505}. Best is trial 10 with value: 0.8470108327691267.\u001b[0m\n"
     ]
    },
    {
     "name": "stdout",
     "output_type": "stream",
     "text": [
      "========== Fold=1 ==========\n",
      "========== Fold=2 ==========\n",
      "========== Fold=3 ==========\n",
      "========== Fold=4 ==========\n",
      "========== Fold=5 ==========\n"
     ]
    },
    {
     "name": "stderr",
     "output_type": "stream",
     "text": [
      "\u001b[32m[I 2023-01-19 21:27:50,293]\u001b[0m Trial 12 finished with value: 0.8546039268788085 and parameters: {'max_depth': 4, 'n_estimators': 708, 'min_child_weight': 0.2886170465983866, 'eta': 0.13493763216777827, 'subsample': 0.744290697490376, 'colsample_bytree': 0.3121299051804658, 'reg_lambda': 3.9005696891005854}. Best is trial 12 with value: 0.8546039268788085.\u001b[0m\n"
     ]
    },
    {
     "name": "stdout",
     "output_type": "stream",
     "text": [
      "========== Fold=1 ==========\n",
      "========== Fold=2 ==========\n",
      "========== Fold=3 ==========\n",
      "========== Fold=4 ==========\n",
      "========== Fold=5 ==========\n"
     ]
    },
    {
     "name": "stderr",
     "output_type": "stream",
     "text": [
      "\u001b[32m[I 2023-01-19 21:27:53,617]\u001b[0m Trial 13 finished with value: 0.8387711577522003 and parameters: {'max_depth': 4, 'n_estimators': 711, 'min_child_weight': 0.36087743367999764, 'eta': 0.20361125155648957, 'subsample': 0.7861274421249413, 'colsample_bytree': 0.12425998031899704, 'reg_lambda': 4.261060891558877}. Best is trial 12 with value: 0.8546039268788085.\u001b[0m\n"
     ]
    },
    {
     "name": "stdout",
     "output_type": "stream",
     "text": [
      "========== Fold=1 ==========\n",
      "========== Fold=2 ==========\n",
      "========== Fold=3 ==========\n",
      "========== Fold=4 ==========\n",
      "========== Fold=5 ==========\n"
     ]
    },
    {
     "name": "stderr",
     "output_type": "stream",
     "text": [
      "\u001b[32m[I 2023-01-19 21:27:56,252]\u001b[0m Trial 14 finished with value: 0.8445463777928234 and parameters: {'max_depth': 5, 'n_estimators': 462, 'min_child_weight': 0.5087099074245778, 'eta': 0.2721595758215217, 'subsample': 0.6790477846977296, 'colsample_bytree': 0.33764267951236426, 'reg_lambda': 2.235508950108999}. Best is trial 12 with value: 0.8546039268788085.\u001b[0m\n"
     ]
    },
    {
     "name": "stdout",
     "output_type": "stream",
     "text": [
      "========== Fold=1 ==========\n",
      "========== Fold=2 ==========\n",
      "========== Fold=3 ==========\n",
      "========== Fold=4 ==========\n",
      "========== Fold=5 ==========\n"
     ]
    },
    {
     "name": "stderr",
     "output_type": "stream",
     "text": [
      "\u001b[32m[I 2023-01-19 21:28:01,204]\u001b[0m Trial 15 finished with value: 0.7085680433310766 and parameters: {'max_depth': 4, 'n_estimators': 497, 'min_child_weight': 0.26304403880319177, 'eta': 0.004439176047877212, 'subsample': 0.9874072693870407, 'colsample_bytree': 0.9554851365717268, 'reg_lambda': 3.5719885642891933}. Best is trial 12 with value: 0.8546039268788085.\u001b[0m\n"
     ]
    },
    {
     "name": "stdout",
     "output_type": "stream",
     "text": [
      "========== Fold=1 ==========\n",
      "========== Fold=2 ==========\n",
      "========== Fold=3 ==========\n",
      "========== Fold=4 ==========\n",
      "========== Fold=5 ==========\n"
     ]
    },
    {
     "name": "stderr",
     "output_type": "stream",
     "text": [
      "\u001b[32m[I 2023-01-19 21:28:04,158]\u001b[0m Trial 16 finished with value: 0.7941046039268788 and parameters: {'max_depth': 5, 'n_estimators': 623, 'min_child_weight': 0.5452831774336441, 'eta': 0.456517000749352, 'subsample': 0.8942135081400787, 'colsample_bytree': 0.4070998239212366, 'reg_lambda': 4.086344031027387}. Best is trial 12 with value: 0.8546039268788085.\u001b[0m\n"
     ]
    },
    {
     "name": "stdout",
     "output_type": "stream",
     "text": [
      "========== Fold=1 ==========\n",
      "========== Fold=2 ==========\n",
      "========== Fold=3 ==========\n",
      "========== Fold=4 ==========\n",
      "========== Fold=5 ==========\n"
     ]
    },
    {
     "name": "stderr",
     "output_type": "stream",
     "text": [
      "\u001b[32m[I 2023-01-19 21:28:07,015]\u001b[0m Trial 17 finished with value: 0.853493568043331 and parameters: {'max_depth': 4, 'n_estimators': 781, 'min_child_weight': 0.23461104399209487, 'eta': 0.187574455799841, 'subsample': 0.6454427975017099, 'colsample_bytree': 0.21570529803531452, 'reg_lambda': 3.1607463276401058}. Best is trial 12 with value: 0.8546039268788085.\u001b[0m\n"
     ]
    },
    {
     "name": "stdout",
     "output_type": "stream",
     "text": [
      "========== Fold=1 ==========\n",
      "========== Fold=2 ==========\n",
      "========== Fold=3 ==========\n",
      "========== Fold=4 ==========\n",
      "========== Fold=5 ==========\n"
     ]
    },
    {
     "name": "stderr",
     "output_type": "stream",
     "text": [
      "\u001b[32m[I 2023-01-19 21:28:09,860]\u001b[0m Trial 18 finished with value: 0.8239167230873392 and parameters: {'max_depth': 4, 'n_estimators': 776, 'min_child_weight': 0.24544460880948754, 'eta': 0.1953279653944491, 'subsample': 0.13985130106317095, 'colsample_bytree': 0.2505503718698595, 'reg_lambda': 2.2046192833526006}. Best is trial 12 with value: 0.8546039268788085.\u001b[0m\n"
     ]
    },
    {
     "name": "stdout",
     "output_type": "stream",
     "text": [
      "========== Fold=1 ==========\n",
      "========== Fold=2 ==========\n",
      "========== Fold=3 ==========\n",
      "========== Fold=4 ==========\n",
      "========== Fold=5 ==========\n"
     ]
    },
    {
     "name": "stderr",
     "output_type": "stream",
     "text": [
      "\u001b[32m[I 2023-01-19 21:28:12,577]\u001b[0m Trial 19 finished with value: 0.8165792146242383 and parameters: {'max_depth': 6, 'n_estimators': 827, 'min_child_weight': 0.3885167624024125, 'eta': 0.4928228877988455, 'subsample': 0.6031151763340651, 'colsample_bytree': 0.6608269806577005, 'reg_lambda': 3.0769794763746723}. Best is trial 12 with value: 0.8546039268788085.\u001b[0m\n"
     ]
    },
    {
     "name": "stdout",
     "output_type": "stream",
     "text": [
      "========== Fold=1 ==========\n",
      "========== Fold=2 ==========\n",
      "========== Fold=3 ==========\n",
      "========== Fold=4 ==========\n",
      "========== Fold=5 ==========\n"
     ]
    },
    {
     "name": "stderr",
     "output_type": "stream",
     "text": [
      "\u001b[32m[I 2023-01-19 21:28:14,921]\u001b[0m Trial 20 finished with value: 0.8426777251184834 and parameters: {'max_depth': 3, 'n_estimators': 975, 'min_child_weight': 0.2090242001309438, 'eta': 0.2343483856633165, 'subsample': 0.87528978239964, 'colsample_bytree': 0.38499503888420145, 'reg_lambda': 2.7303476769130794}. Best is trial 12 with value: 0.8546039268788085.\u001b[0m\n"
     ]
    },
    {
     "name": "stdout",
     "output_type": "stream",
     "text": [
      "========== Fold=1 ==========\n",
      "========== Fold=2 ==========\n",
      "========== Fold=3 ==========\n",
      "========== Fold=4 ==========\n",
      "========== Fold=5 ==========\n"
     ]
    },
    {
     "name": "stderr",
     "output_type": "stream",
     "text": [
      "\u001b[32m[I 2023-01-19 21:28:18,918]\u001b[0m Trial 21 finished with value: 0.8442484766418415 and parameters: {'max_depth': 4, 'n_estimators': 680, 'min_child_weight': 0.30474346648456196, 'eta': 0.10413788938536657, 'subsample': 0.7335761509063654, 'colsample_bytree': 0.18425774728963568, 'reg_lambda': 3.745313398168032}. Best is trial 12 with value: 0.8546039268788085.\u001b[0m\n"
     ]
    },
    {
     "name": "stdout",
     "output_type": "stream",
     "text": [
      "========== Fold=1 ==========\n",
      "========== Fold=2 ==========\n",
      "========== Fold=3 ==========\n",
      "========== Fold=4 ==========\n",
      "========== Fold=5 ==========\n"
     ]
    },
    {
     "name": "stderr",
     "output_type": "stream",
     "text": [
      "\u001b[32m[I 2023-01-19 21:28:23,355]\u001b[0m Trial 22 finished with value: 0.8455788761002031 and parameters: {'max_depth': 5, 'n_estimators': 557, 'min_child_weight': 0.39355832866375307, 'eta': 0.11880720561750535, 'subsample': 0.5889749236151313, 'colsample_bytree': 0.1727885819200698, 'reg_lambda': 4.547066519517095}. Best is trial 12 with value: 0.8546039268788085.\u001b[0m\n"
     ]
    },
    {
     "name": "stdout",
     "output_type": "stream",
     "text": [
      "========== Fold=1 ==========\n",
      "========== Fold=2 ==========\n",
      "========== Fold=3 ==========\n",
      "========== Fold=4 ==========\n",
      "========== Fold=5 ==========\n"
     ]
    },
    {
     "name": "stderr",
     "output_type": "stream",
     "text": [
      "\u001b[32m[I 2023-01-19 21:28:27,951]\u001b[0m Trial 23 finished with value: 0.8486425186188219 and parameters: {'max_depth': 4, 'n_estimators': 411, 'min_child_weight': 0.4182618392744415, 'eta': 0.06191717698506859, 'subsample': 0.8393377220051065, 'colsample_bytree': 0.24516430896868285, 'reg_lambda': 3.3380324372881187}. Best is trial 12 with value: 0.8546039268788085.\u001b[0m\n"
     ]
    },
    {
     "name": "stdout",
     "output_type": "stream",
     "text": [
      "========== Fold=1 ==========\n",
      "========== Fold=2 ==========\n",
      "========== Fold=3 ==========\n",
      "========== Fold=4 ==========\n",
      "========== Fold=5 ==========\n"
     ]
    },
    {
     "name": "stderr",
     "output_type": "stream",
     "text": [
      "\u001b[32m[I 2023-01-19 21:28:30,910]\u001b[0m Trial 24 finished with value: 0.8441604603926879 and parameters: {'max_depth': 5, 'n_estimators': 440, 'min_child_weight': 0.4556332934930088, 'eta': 0.16579940408647453, 'subsample': 0.856178275600026, 'colsample_bytree': 0.35952474309801236, 'reg_lambda': 3.340146861474582}. Best is trial 12 with value: 0.8546039268788085.\u001b[0m\n"
     ]
    },
    {
     "name": "stdout",
     "output_type": "stream",
     "text": [
      "========== Fold=1 ==========\n",
      "========== Fold=2 ==========\n",
      "========== Fold=3 ==========\n",
      "========== Fold=4 ==========\n",
      "========== Fold=5 ==========\n"
     ]
    },
    {
     "name": "stderr",
     "output_type": "stream",
     "text": [
      "\u001b[32m[I 2023-01-19 21:28:33,223]\u001b[0m Trial 25 finished with value: 0.8438287068381857 and parameters: {'max_depth': 3, 'n_estimators': 288, 'min_child_weight': 0.5908637633078969, 'eta': 0.27473302641073216, 'subsample': 0.6737817806391627, 'colsample_bytree': 0.24877465014771752, 'reg_lambda': 3.309842215328161}. Best is trial 12 with value: 0.8546039268788085.\u001b[0m\n"
     ]
    },
    {
     "name": "stdout",
     "output_type": "stream",
     "text": [
      "========== Fold=1 ==========\n",
      "========== Fold=2 ==========\n",
      "========== Fold=3 ==========\n",
      "========== Fold=4 ==========\n",
      "========== Fold=5 ==========\n"
     ]
    },
    {
     "name": "stderr",
     "output_type": "stream",
     "text": [
      "\u001b[32m[I 2023-01-19 21:28:38,262]\u001b[0m Trial 26 finished with value: 0.8500067704807042 and parameters: {'max_depth': 4, 'n_estimators': 388, 'min_child_weight': 0.421803726325651, 'eta': 0.03824523021621282, 'subsample': 0.8255159592482361, 'colsample_bytree': 0.42948359976754535, 'reg_lambda': 2.3679255047407484}. Best is trial 12 with value: 0.8546039268788085.\u001b[0m\n"
     ]
    },
    {
     "name": "stdout",
     "output_type": "stream",
     "text": [
      "========== Fold=1 ==========\n",
      "========== Fold=2 ==========\n",
      "========== Fold=3 ==========\n",
      "========== Fold=4 ==========\n",
      "========== Fold=5 ==========\n"
     ]
    },
    {
     "name": "stderr",
     "output_type": "stream",
     "text": [
      "\u001b[32m[I 2023-01-19 21:28:40,573]\u001b[0m Trial 27 finished with value: 0.8114962762356127 and parameters: {'max_depth': 4, 'n_estimators': 743, 'min_child_weight': 0.15483865713217254, 'eta': 0.38968626839878506, 'subsample': 0.5435666227388991, 'colsample_bytree': 0.458220922299752, 'reg_lambda': 1.9548224256268019}. Best is trial 12 with value: 0.8546039268788085.\u001b[0m\n"
     ]
    },
    {
     "name": "stdout",
     "output_type": "stream",
     "text": [
      "========== Fold=1 ==========\n",
      "========== Fold=2 ==========\n",
      "========== Fold=3 ==========\n",
      "========== Fold=4 ==========\n",
      "========== Fold=5 ==========\n"
     ]
    },
    {
     "name": "stderr",
     "output_type": "stream",
     "text": [
      "\u001b[32m[I 2023-01-19 21:28:43,143]\u001b[0m Trial 28 finished with value: 0.8363303994583617 and parameters: {'max_depth': 5, 'n_estimators': 863, 'min_child_weight': 0.6095570529248802, 'eta': 0.2769945941812757, 'subsample': 0.7110111851152984, 'colsample_bytree': 0.42881403984313177, 'reg_lambda': 2.5450291434090637}. Best is trial 12 with value: 0.8546039268788085.\u001b[0m\n"
     ]
    },
    {
     "name": "stdout",
     "output_type": "stream",
     "text": [
      "========== Fold=1 ==========\n",
      "========== Fold=2 ==========\n",
      "========== Fold=3 ==========\n",
      "========== Fold=4 ==========\n",
      "========== Fold=5 ==========\n"
     ]
    },
    {
     "name": "stderr",
     "output_type": "stream",
     "text": [
      "\u001b[32m[I 2023-01-19 21:28:45,281]\u001b[0m Trial 29 finished with value: 0.8000457007447528 and parameters: {'max_depth': 3, 'n_estimators': 235, 'min_child_weight': 0.255655335034321, 'eta': 0.15949611989246382, 'subsample': 0.4828129163210223, 'colsample_bytree': 0.6225821421891414, 'reg_lambda': 2.8556416425546214}. Best is trial 12 with value: 0.8546039268788085.\u001b[0m\n"
     ]
    },
    {
     "name": "stdout",
     "output_type": "stream",
     "text": [
      "========== Fold=1 ==========\n",
      "========== Fold=2 ==========\n",
      "========== Fold=3 ==========\n",
      "========== Fold=4 ==========\n",
      "========== Fold=5 ==========\n"
     ]
    },
    {
     "name": "stderr",
     "output_type": "stream",
     "text": [
      "\u001b[32m[I 2023-01-19 21:28:49,372]\u001b[0m Trial 30 finished with value: 0.810883547731889 and parameters: {'max_depth': 7, 'n_estimators': 266, 'min_child_weight': 0.2145608339796357, 'eta': 0.2221559283320822, 'subsample': 0.9261162792546211, 'colsample_bytree': 0.3442536943856347, 'reg_lambda': 4.540786388370538}. Best is trial 12 with value: 0.8546039268788085.\u001b[0m\n"
     ]
    },
    {
     "name": "stdout",
     "output_type": "stream",
     "text": [
      "========== Fold=1 ==========\n",
      "========== Fold=2 ==========\n",
      "========== Fold=3 ==========\n",
      "========== Fold=4 ==========\n",
      "========== Fold=5 ==========\n"
     ]
    },
    {
     "name": "stderr",
     "output_type": "stream",
     "text": [
      "\u001b[32m[I 2023-01-19 21:28:53,386]\u001b[0m Trial 31 finished with value: 0.8039268788083953 and parameters: {'max_depth': 4, 'n_estimators': 383, 'min_child_weight': 0.3840032305072752, 'eta': 0.044766270195657765, 'subsample': 0.8184721413288536, 'colsample_bytree': 0.2197614698481229, 'reg_lambda': 1.0645029929692307}. Best is trial 12 with value: 0.8546039268788085.\u001b[0m\n"
     ]
    },
    {
     "name": "stdout",
     "output_type": "stream",
     "text": [
      "========== Fold=1 ==========\n",
      "========== Fold=2 ==========\n",
      "========== Fold=3 ==========\n",
      "========== Fold=4 ==========\n",
      "========== Fold=5 ==========\n"
     ]
    },
    {
     "name": "stderr",
     "output_type": "stream",
     "text": [
      "\u001b[32m[I 2023-01-19 21:28:57,523]\u001b[0m Trial 32 finished with value: 0.8172850372376438 and parameters: {'max_depth': 4, 'n_estimators': 401, 'min_child_weight': 0.4365840791588369, 'eta': 0.06411144012921632, 'subsample': 0.8225754497526432, 'colsample_bytree': 0.1804100211667915, 'reg_lambda': 2.3954677637998323}. Best is trial 12 with value: 0.8546039268788085.\u001b[0m\n"
     ]
    },
    {
     "name": "stdout",
     "output_type": "stream",
     "text": [
      "========== Fold=1 ==========\n",
      "========== Fold=2 ==========\n",
      "========== Fold=3 ==========\n",
      "========== Fold=4 ==========\n",
      "========== Fold=5 ==========\n"
     ]
    },
    {
     "name": "stderr",
     "output_type": "stream",
     "text": [
      "\u001b[32m[I 2023-01-19 21:29:00,302]\u001b[0m Trial 33 finished with value: 0.8593838862559242 and parameters: {'max_depth': 3, 'n_estimators': 337, 'min_child_weight': 0.29607908930190474, 'eta': 0.13049744403622557, 'subsample': 0.8116100739375157, 'colsample_bytree': 0.28253223131429317, 'reg_lambda': 3.23941648599165}. Best is trial 33 with value: 0.8593838862559242.\u001b[0m\n"
     ]
    },
    {
     "name": "stdout",
     "output_type": "stream",
     "text": [
      "========== Fold=1 ==========\n",
      "========== Fold=2 ==========\n",
      "========== Fold=3 ==========\n",
      "========== Fold=4 ==========\n",
      "========== Fold=5 ==========\n"
     ]
    },
    {
     "name": "stderr",
     "output_type": "stream",
     "text": [
      "\u001b[32m[I 2023-01-19 21:29:03,007]\u001b[0m Trial 34 finished with value: 0.8545565335138795 and parameters: {'max_depth': 3, 'n_estimators': 196, 'min_child_weight': 0.29580162863249854, 'eta': 0.13364641236432234, 'subsample': 0.6665115957501385, 'colsample_bytree': 0.29851955938747504, 'reg_lambda': 2.7433022529919677}. Best is trial 33 with value: 0.8593838862559242.\u001b[0m\n"
     ]
    },
    {
     "name": "stdout",
     "output_type": "stream",
     "text": [
      "========== Fold=1 ==========\n",
      "========== Fold=2 ==========\n",
      "========== Fold=3 ==========\n",
      "========== Fold=4 ==========\n",
      "========== Fold=5 ==========\n"
     ]
    },
    {
     "name": "stderr",
     "output_type": "stream",
     "text": [
      "\u001b[32m[I 2023-01-19 21:29:05,369]\u001b[0m Trial 35 finished with value: 0.8361035883547732 and parameters: {'max_depth': 3, 'n_estimators': 180, 'min_child_weight': 0.11082992160081792, 'eta': 0.32337309339469433, 'subsample': 0.5475743315267101, 'colsample_bytree': 0.29925621087856463, 'reg_lambda': 3.7554428869857253}. Best is trial 33 with value: 0.8593838862559242.\u001b[0m\n"
     ]
    },
    {
     "name": "stdout",
     "output_type": "stream",
     "text": [
      "========== Fold=1 ==========\n",
      "========== Fold=2 ==========\n",
      "========== Fold=3 ==========\n",
      "========== Fold=4 ==========\n",
      "========== Fold=5 ==========\n"
     ]
    },
    {
     "name": "stderr",
     "output_type": "stream",
     "text": [
      "\u001b[32m[I 2023-01-19 21:29:07,307]\u001b[0m Trial 36 finished with value: 0.8477894380501017 and parameters: {'max_depth': 3, 'n_estimators': 125, 'min_child_weight': 0.29095701194081586, 'eta': 0.1416069506957677, 'subsample': 0.4047695248541356, 'colsample_bytree': 0.2849446861331078, 'reg_lambda': 2.7510703929915006}. Best is trial 33 with value: 0.8593838862559242.\u001b[0m\n"
     ]
    },
    {
     "name": "stdout",
     "output_type": "stream",
     "text": [
      "========== Fold=1 ==========\n",
      "========== Fold=2 ==========\n",
      "========== Fold=3 ==========\n",
      "========== Fold=4 ==========\n",
      "========== Fold=5 ==========\n"
     ]
    },
    {
     "name": "stderr",
     "output_type": "stream",
     "text": [
      "\u001b[32m[I 2023-01-19 21:29:10,694]\u001b[0m Trial 37 finished with value: 0.8507447528774543 and parameters: {'max_depth': 3, 'n_estimators': 318, 'min_child_weight': 0.030487262101017126, 'eta': 0.11428293523119887, 'subsample': 0.6427936791278077, 'colsample_bytree': 0.4973137437720774, 'reg_lambda': 3.237341225455927}. Best is trial 33 with value: 0.8593838862559242.\u001b[0m\n"
     ]
    },
    {
     "name": "stdout",
     "output_type": "stream",
     "text": [
      "========== Fold=1 ==========\n",
      "========== Fold=2 ==========\n",
      "========== Fold=3 ==========\n",
      "========== Fold=4 ==========\n",
      "========== Fold=5 ==========\n"
     ]
    },
    {
     "name": "stderr",
     "output_type": "stream",
     "text": [
      "\u001b[32m[I 2023-01-19 21:29:11,286]\u001b[0m Trial 38 finished with value: 0.7964234935680432 and parameters: {'max_depth': 3, 'n_estimators': 18, 'min_child_weight': 0.17265905321839492, 'eta': 0.17414812057650597, 'subsample': 0.7058201177633482, 'colsample_bytree': 0.1604664965926234, 'reg_lambda': 2.9481941264848275}. Best is trial 33 with value: 0.8593838862559242.\u001b[0m\n"
     ]
    },
    {
     "name": "stdout",
     "output_type": "stream",
     "text": [
      "========== Fold=1 ==========\n",
      "========== Fold=2 ==========\n",
      "========== Fold=3 ==========\n",
      "========== Fold=4 ==========\n",
      "========== Fold=5 ==========\n"
     ]
    },
    {
     "name": "stderr",
     "output_type": "stream",
     "text": [
      "\u001b[32m[I 2023-01-19 21:29:13,392]\u001b[0m Trial 39 finished with value: 0.8116926201760326 and parameters: {'max_depth': 3, 'n_estimators': 198, 'min_child_weight': 0.35023819010632934, 'eta': 0.3286737089785103, 'subsample': 0.4243529422957538, 'colsample_bytree': 0.5363938609602554, 'reg_lambda': 3.4757500334523983}. Best is trial 33 with value: 0.8593838862559242.\u001b[0m\n"
     ]
    },
    {
     "name": "stdout",
     "output_type": "stream",
     "text": [
      "========== Fold=1 ==========\n",
      "========== Fold=2 ==========\n",
      "========== Fold=3 ==========\n",
      "========== Fold=4 ==========\n",
      "========== Fold=5 ==========\n"
     ]
    },
    {
     "name": "stderr",
     "output_type": "stream",
     "text": [
      "\u001b[32m[I 2023-01-19 21:29:14,873]\u001b[0m Trial 40 finished with value: 0.8060054163845634 and parameters: {'max_depth': 3, 'n_estimators': 94, 'min_child_weight': 0.07035341342762952, 'eta': 0.8592525790434562, 'subsample': 0.6380704878293447, 'colsample_bytree': 0.2156688685724982, 'reg_lambda': 2.0162676853942214}. Best is trial 33 with value: 0.8593838862559242.\u001b[0m\n"
     ]
    },
    {
     "name": "stdout",
     "output_type": "stream",
     "text": [
      "========== Fold=1 ==========\n",
      "========== Fold=2 ==========\n",
      "========== Fold=3 ==========\n",
      "========== Fold=4 ==========\n",
      "========== Fold=5 ==========\n"
     ]
    },
    {
     "name": "stderr",
     "output_type": "stream",
     "text": [
      "\u001b[32m[I 2023-01-19 21:29:18,077]\u001b[0m Trial 41 finished with value: 0.8518009478672985 and parameters: {'max_depth': 3, 'n_estimators': 319, 'min_child_weight': 0.03463448165790356, 'eta': 0.11168621736460577, 'subsample': 0.6191540238478507, 'colsample_bytree': 0.30825123883043265, 'reg_lambda': 3.1702271494618555}. Best is trial 33 with value: 0.8593838862559242.\u001b[0m\n"
     ]
    },
    {
     "name": "stdout",
     "output_type": "stream",
     "text": [
      "========== Fold=1 ==========\n",
      "========== Fold=2 ==========\n",
      "========== Fold=3 ==========\n",
      "========== Fold=4 ==========\n",
      "========== Fold=5 ==========\n"
     ]
    },
    {
     "name": "stderr",
     "output_type": "stream",
     "text": [
      "\u001b[32m[I 2023-01-19 21:29:20,509]\u001b[0m Trial 42 finished with value: 0.8517975626269466 and parameters: {'max_depth': 3, 'n_estimators': 334, 'min_child_weight': 0.012349440270289135, 'eta': 0.233938796673784, 'subsample': 0.5972284839407591, 'colsample_bytree': 0.3134010059554213, 'reg_lambda': 3.047371375252142}. Best is trial 33 with value: 0.8593838862559242.\u001b[0m\n"
     ]
    },
    {
     "name": "stdout",
     "output_type": "stream",
     "text": [
      "========== Fold=1 ==========\n",
      "========== Fold=2 ==========\n",
      "========== Fold=3 ==========\n",
      "========== Fold=4 ==========\n",
      "========== Fold=5 ==========\n"
     ]
    },
    {
     "name": "stderr",
     "output_type": "stream",
     "text": [
      "\u001b[32m[I 2023-01-19 21:29:23,554]\u001b[0m Trial 43 finished with value: 0.850050778605281 and parameters: {'max_depth': 3, 'n_estimators': 228, 'min_child_weight': 0.1287506310353344, 'eta': 0.09398924227540473, 'subsample': 0.779459489799378, 'colsample_bytree': 0.3874697284409216, 'reg_lambda': 2.6202201478746323}. Best is trial 33 with value: 0.8593838862559242.\u001b[0m\n"
     ]
    },
    {
     "name": "stdout",
     "output_type": "stream",
     "text": [
      "========== Fold=1 ==========\n",
      "========== Fold=2 ==========\n",
      "========== Fold=3 ==========\n",
      "========== Fold=4 ==========\n",
      "========== Fold=5 ==========\n"
     ]
    },
    {
     "name": "stderr",
     "output_type": "stream",
     "text": [
      "\u001b[32m[I 2023-01-19 21:29:26,369]\u001b[0m Trial 44 finished with value: 0.8444177386594447 and parameters: {'max_depth': 3, 'n_estimators': 873, 'min_child_weight': 0.20107617134707373, 'eta': 0.13917444120632735, 'subsample': 0.6681296500833847, 'colsample_bytree': 0.26993359673505024, 'reg_lambda': 3.779230851063448}. Best is trial 33 with value: 0.8593838862559242.\u001b[0m\n"
     ]
    },
    {
     "name": "stdout",
     "output_type": "stream",
     "text": [
      "========== Fold=1 ==========\n",
      "========== Fold=2 ==========\n",
      "========== Fold=3 ==========\n",
      "========== Fold=4 ==========\n",
      "========== Fold=5 ==========\n"
     ]
    },
    {
     "name": "stderr",
     "output_type": "stream",
     "text": [
      "\u001b[32m[I 2023-01-19 21:29:29,759]\u001b[0m Trial 45 finished with value: 0.8311069735951252 and parameters: {'max_depth': 7, 'n_estimators': 499, 'min_child_weight': 0.05333535836225076, 'eta': 0.40346328270258247, 'subsample': 0.5099513679586286, 'colsample_bytree': 0.337642309809904, 'reg_lambda': 4.272281392482201}. Best is trial 33 with value: 0.8593838862559242.\u001b[0m\n"
     ]
    },
    {
     "name": "stdout",
     "output_type": "stream",
     "text": [
      "========== Fold=1 ==========\n",
      "========== Fold=2 ==========\n",
      "========== Fold=3 ==========\n",
      "========== Fold=4 ==========\n",
      "========== Fold=5 ==========\n"
     ]
    },
    {
     "name": "stderr",
     "output_type": "stream",
     "text": [
      "\u001b[32m[I 2023-01-19 21:29:31,933]\u001b[0m Trial 46 finished with value: 0.8267975626269466 and parameters: {'max_depth': 4, 'n_estimators': 135, 'min_child_weight': 0.28341766219985737, 'eta': 0.2511012520512952, 'subsample': 0.7521703071886103, 'colsample_bytree': 0.1473348044456495, 'reg_lambda': 3.461593562739621}. Best is trial 33 with value: 0.8593838862559242.\u001b[0m\n"
     ]
    },
    {
     "name": "stdout",
     "output_type": "stream",
     "text": [
      "========== Fold=1 ==========\n",
      "========== Fold=2 ==========\n",
      "========== Fold=3 ==========\n",
      "========== Fold=4 ==========\n",
      "========== Fold=5 ==========\n"
     ]
    },
    {
     "name": "stderr",
     "output_type": "stream",
     "text": [
      "\u001b[32m[I 2023-01-19 21:29:34,538]\u001b[0m Trial 47 finished with value: 0.8495328368314151 and parameters: {'max_depth': 3, 'n_estimators': 806, 'min_child_weight': 0.8355509182577254, 'eta': 0.18025098769620382, 'subsample': 0.9261827900732089, 'colsample_bytree': 0.21529907204575804, 'reg_lambda': 3.1457669700116577}. Best is trial 33 with value: 0.8593838862559242.\u001b[0m\n"
     ]
    },
    {
     "name": "stdout",
     "output_type": "stream",
     "text": [
      "========== Fold=1 ==========\n",
      "========== Fold=2 ==========\n",
      "========== Fold=3 ==========\n",
      "========== Fold=4 ==========\n",
      "========== Fold=5 ==========\n"
     ]
    },
    {
     "name": "stderr",
     "output_type": "stream",
     "text": [
      "\u001b[32m[I 2023-01-19 21:29:40,360]\u001b[0m Trial 48 finished with value: 0.6293297224102912 and parameters: {'max_depth': 4, 'n_estimators': 642, 'min_child_weight': 0.3406033623254809, 'eta': 0.0025768831318902508, 'subsample': 0.7131706392770581, 'colsample_bytree': 0.7487387238930486, 'reg_lambda': 4.874265730782042}. Best is trial 33 with value: 0.8593838862559242.\u001b[0m\n"
     ]
    },
    {
     "name": "stdout",
     "output_type": "stream",
     "text": [
      "========== Fold=1 ==========\n",
      "========== Fold=2 ==========\n",
      "========== Fold=3 ==========\n",
      "========== Fold=4 ==========\n",
      "========== Fold=5 ==========\n"
     ]
    },
    {
     "name": "stderr",
     "output_type": "stream",
     "text": [
      "\u001b[32m[I 2023-01-19 21:29:45,505]\u001b[0m Trial 49 finished with value: 0.8518043331076507 and parameters: {'max_depth': 6, 'n_estimators': 545, 'min_child_weight': 0.23505613336989692, 'eta': 0.08993086244891546, 'subsample': 0.5781172190350432, 'colsample_bytree': 0.30007590273371443, 'reg_lambda': 4.003308445097357}. Best is trial 33 with value: 0.8593838862559242.\u001b[0m\n"
     ]
    },
    {
     "name": "stdout",
     "output_type": "stream",
     "text": [
      "========== Fold=1 ==========\n",
      "========== Fold=2 ==========\n",
      "========== Fold=3 ==========\n",
      "========== Fold=4 ==========\n",
      "========== Fold=5 ==========\n"
     ]
    },
    {
     "name": "stderr",
     "output_type": "stream",
     "text": [
      "\u001b[32m[I 2023-01-19 21:29:47,818]\u001b[0m Trial 50 finished with value: 0.8069295870006771 and parameters: {'max_depth': 6, 'n_estimators': 555, 'min_child_weight': 0.23606551942354004, 'eta': 0.568661228168398, 'subsample': 0.5190552947273377, 'colsample_bytree': 0.26912599595511244, 'reg_lambda': 4.120875234570564}. Best is trial 33 with value: 0.8593838862559242.\u001b[0m\n"
     ]
    },
    {
     "name": "stdout",
     "output_type": "stream",
     "text": [
      "========== Fold=1 ==========\n",
      "========== Fold=2 ==========\n",
      "========== Fold=3 ==========\n",
      "========== Fold=4 ==========\n",
      "========== Fold=5 ==========\n"
     ]
    },
    {
     "name": "stderr",
     "output_type": "stream",
     "text": [
      "\u001b[32m[I 2023-01-19 21:29:51,748]\u001b[0m Trial 51 finished with value: 0.8547528774542992 and parameters: {'max_depth': 6, 'n_estimators': 705, 'min_child_weight': 0.1169604354201259, 'eta': 0.08801807042601476, 'subsample': 0.5898289502307097, 'colsample_bytree': 0.3182615305665512, 'reg_lambda': 3.83049959857394}. Best is trial 33 with value: 0.8593838862559242.\u001b[0m\n"
     ]
    },
    {
     "name": "stdout",
     "output_type": "stream",
     "text": [
      "========== Fold=1 ==========\n",
      "========== Fold=2 ==========\n",
      "========== Fold=3 ==========\n",
      "========== Fold=4 ==========\n",
      "========== Fold=5 ==========\n"
     ]
    },
    {
     "name": "stderr",
     "output_type": "stream",
     "text": [
      "\u001b[32m[I 2023-01-19 21:29:56,772]\u001b[0m Trial 52 finished with value: 0.8342010832769127 and parameters: {'max_depth': 6, 'n_estimators': 712, 'min_child_weight': 0.15483126004017234, 'eta': 0.09149874627433408, 'subsample': 0.5659366395578251, 'colsample_bytree': 0.3693667598529089, 'reg_lambda': 3.8411150368175266}. Best is trial 33 with value: 0.8593838862559242.\u001b[0m\n"
     ]
    },
    {
     "name": "stdout",
     "output_type": "stream",
     "text": [
      "========== Fold=1 ==========\n",
      "========== Fold=2 ==========\n",
      "========== Fold=3 ==========\n",
      "========== Fold=4 ==========\n",
      "========== Fold=5 ==========\n"
     ]
    },
    {
     "name": "stderr",
     "output_type": "stream",
     "text": [
      "\u001b[32m[I 2023-01-19 21:30:02,078]\u001b[0m Trial 53 finished with value: 0.8452268111035883 and parameters: {'max_depth': 6, 'n_estimators': 607, 'min_child_weight': 0.10133918604288655, 'eta': 0.043048022396812075, 'subsample': 0.4119094609558749, 'colsample_bytree': 0.9743676912815793, 'reg_lambda': 4.396982709371374}. Best is trial 33 with value: 0.8593838862559242.\u001b[0m\n"
     ]
    },
    {
     "name": "stdout",
     "output_type": "stream",
     "text": [
      "========== Fold=1 ==========\n",
      "========== Fold=2 ==========\n",
      "========== Fold=3 ==========\n",
      "========== Fold=4 ==========\n",
      "========== Fold=5 ==========\n"
     ]
    },
    {
     "name": "stderr",
     "output_type": "stream",
     "text": [
      "\u001b[32m[I 2023-01-19 21:30:05,763]\u001b[0m Trial 54 finished with value: 0.8387068381855112 and parameters: {'max_depth': 6, 'n_estimators': 760, 'min_child_weight': 0.27393876516534565, 'eta': 0.19882553242798864, 'subsample': 0.666514751080965, 'colsample_bytree': 0.3198491110170745, 'reg_lambda': 3.979320120044958}. Best is trial 33 with value: 0.8593838862559242.\u001b[0m\n"
     ]
    },
    {
     "name": "stdout",
     "output_type": "stream",
     "text": [
      "========== Fold=1 ==========\n",
      "========== Fold=2 ==========\n",
      "========== Fold=3 ==========\n",
      "========== Fold=4 ==========\n",
      "========== Fold=5 ==========\n"
     ]
    },
    {
     "name": "stderr",
     "output_type": "stream",
     "text": [
      "\u001b[32m[I 2023-01-19 21:30:10,156]\u001b[0m Trial 55 finished with value: 0.8274339878131347 and parameters: {'max_depth': 7, 'n_estimators': 672, 'min_child_weight': 0.21685375500765217, 'eta': 0.13881349630970385, 'subsample': 0.4551067445620264, 'colsample_bytree': 0.20003763377208553, 'reg_lambda': 3.519548422981144}. Best is trial 33 with value: 0.8593838862559242.\u001b[0m\n"
     ]
    },
    {
     "name": "stdout",
     "output_type": "stream",
     "text": [
      "========== Fold=1 ==========\n",
      "========== Fold=2 ==========\n",
      "========== Fold=3 ==========\n",
      "========== Fold=4 ==========\n",
      "========== Fold=5 ==========\n"
     ]
    },
    {
     "name": "stderr",
     "output_type": "stream",
     "text": [
      "\u001b[32m[I 2023-01-19 21:30:14,711]\u001b[0m Trial 56 finished with value: 0.8430974949221395 and parameters: {'max_depth': 5, 'n_estimators': 906, 'min_child_weight': 0.3153500783830282, 'eta': 0.08007253809394102, 'subsample': 0.7591780223049267, 'colsample_bytree': 0.13940109590157507, 'reg_lambda': 4.659485647787495}. Best is trial 33 with value: 0.8593838862559242.\u001b[0m\n"
     ]
    },
    {
     "name": "stdout",
     "output_type": "stream",
     "text": [
      "========== Fold=1 ==========\n",
      "========== Fold=2 ==========\n",
      "========== Fold=3 ==========\n",
      "========== Fold=4 ==========\n",
      "========== Fold=5 ==========\n"
     ]
    },
    {
     "name": "stderr",
     "output_type": "stream",
     "text": [
      "\u001b[32m[I 2023-01-19 21:30:21,558]\u001b[0m Trial 57 finished with value: 0.8439031821259309 and parameters: {'max_depth': 6, 'n_estimators': 718, 'min_child_weight': 0.1746422101735668, 'eta': 0.02959646574973339, 'subsample': 0.5750643376108889, 'colsample_bytree': 0.24407212965711803, 'reg_lambda': 3.699533825502061}. Best is trial 33 with value: 0.8593838862559242.\u001b[0m\n"
     ]
    },
    {
     "name": "stdout",
     "output_type": "stream",
     "text": [
      "========== Fold=1 ==========\n",
      "========== Fold=2 ==========\n",
      "========== Fold=3 ==========\n",
      "========== Fold=4 ==========\n",
      "========== Fold=5 ==========\n"
     ]
    },
    {
     "name": "stderr",
     "output_type": "stream",
     "text": [
      "\u001b[32m[I 2023-01-19 21:30:24,048]\u001b[0m Trial 58 finished with value: 0.837403520649966 and parameters: {'max_depth': 5, 'n_estimators': 535, 'min_child_weight': 0.4845074625325785, 'eta': 0.30738899274757125, 'subsample': 0.628197067359949, 'colsample_bytree': 0.42140625215197886, 'reg_lambda': 3.927697039236274}. Best is trial 33 with value: 0.8593838862559242.\u001b[0m\n"
     ]
    },
    {
     "name": "stdout",
     "output_type": "stream",
     "text": [
      "========== Fold=1 ==========\n",
      "========== Fold=2 ==========\n",
      "========== Fold=3 ==========\n",
      "========== Fold=4 ==========\n",
      "========== Fold=5 ==========\n"
     ]
    },
    {
     "name": "stderr",
     "output_type": "stream",
     "text": [
      "\u001b[32m[I 2023-01-19 21:30:28,210]\u001b[0m Trial 59 finished with value: 0.8254603926878807 and parameters: {'max_depth': 8, 'n_estimators': 460, 'min_child_weight': 0.1349828935780651, 'eta': 0.20478461723460153, 'subsample': 0.6885651672135225, 'colsample_bytree': 0.9113026238919574, 'reg_lambda': 4.129562077571708}. Best is trial 33 with value: 0.8593838862559242.\u001b[0m\n"
     ]
    },
    {
     "name": "stdout",
     "output_type": "stream",
     "text": [
      "========== Fold=1 ==========\n",
      "========== Fold=2 ==========\n",
      "========== Fold=3 ==========\n",
      "========== Fold=4 ==========\n",
      "========== Fold=5 ==========\n"
     ]
    },
    {
     "name": "stderr",
     "output_type": "stream",
     "text": [
      "\u001b[32m[I 2023-01-19 21:30:31,321]\u001b[0m Trial 60 finished with value: 0.8182125930941097 and parameters: {'max_depth': 6, 'n_estimators': 804, 'min_child_weight': 0.24990913200210718, 'eta': 0.15906241826629197, 'subsample': 0.7973279486577193, 'colsample_bytree': 0.4534943034406539, 'reg_lambda': 3.6458919263056577}. Best is trial 33 with value: 0.8593838862559242.\u001b[0m\n"
     ]
    },
    {
     "name": "stdout",
     "output_type": "stream",
     "text": [
      "========== Fold=1 ==========\n",
      "========== Fold=2 ==========\n",
      "========== Fold=3 ==========\n",
      "========== Fold=4 ==========\n",
      "========== Fold=5 ==========\n"
     ]
    },
    {
     "name": "stderr",
     "output_type": "stream",
     "text": [
      "\u001b[32m[I 2023-01-19 21:30:36,015]\u001b[0m Trial 61 finished with value: 0.8357176709546379 and parameters: {'max_depth': 7, 'n_estimators': 683, 'min_child_weight': 0.06058102289511721, 'eta': 0.11222217221911154, 'subsample': 0.6227589963577115, 'colsample_bytree': 0.28916310385174976, 'reg_lambda': 2.867948709854499}. Best is trial 33 with value: 0.8593838862559242.\u001b[0m\n"
     ]
    },
    {
     "name": "stdout",
     "output_type": "stream",
     "text": [
      "========== Fold=1 ==========\n",
      "========== Fold=2 ==========\n",
      "========== Fold=3 ==========\n",
      "========== Fold=4 ==========\n",
      "========== Fold=5 ==========\n"
     ]
    },
    {
     "name": "stderr",
     "output_type": "stream",
     "text": [
      "\u001b[32m[I 2023-01-19 21:30:39,972]\u001b[0m Trial 62 finished with value: 0.8440385917400136 and parameters: {'max_depth': 6, 'n_estimators': 345, 'min_child_weight': 0.20064046506130145, 'eta': 0.07654095700471773, 'subsample': 0.7293449554887462, 'colsample_bytree': 0.3281893232029936, 'reg_lambda': 3.2303297963143347}. Best is trial 33 with value: 0.8593838862559242.\u001b[0m\n"
     ]
    },
    {
     "name": "stdout",
     "output_type": "stream",
     "text": [
      "========== Fold=1 ==========\n",
      "========== Fold=2 ==========\n",
      "========== Fold=3 ==========\n",
      "========== Fold=4 ==========\n",
      "========== Fold=5 ==========\n"
     ]
    },
    {
     "name": "stderr",
     "output_type": "stream",
     "text": [
      "\u001b[32m[I 2023-01-19 21:30:43,387]\u001b[0m Trial 63 finished with value: 0.8244448205822613 and parameters: {'max_depth': 5, 'n_estimators': 274, 'min_child_weight': 0.3734698050035458, 'eta': 0.12478032194790052, 'subsample': 0.6045610389188736, 'colsample_bytree': 0.3820818167059701, 'reg_lambda': 3.3784064403175496}. Best is trial 33 with value: 0.8593838862559242.\u001b[0m\n"
     ]
    },
    {
     "name": "stdout",
     "output_type": "stream",
     "text": [
      "========== Fold=1 ==========\n",
      "========== Fold=2 ==========\n",
      "========== Fold=3 ==========\n",
      "========== Fold=4 ==========\n",
      "========== Fold=5 ==========\n"
     ]
    },
    {
     "name": "stderr",
     "output_type": "stream",
     "text": [
      "\u001b[32m[I 2023-01-19 21:30:48,918]\u001b[0m Trial 64 finished with value: 0.829062288422478 and parameters: {'max_depth': 4, 'n_estimators': 590, 'min_child_weight': 0.32087077057328584, 'eta': 0.027340846453518447, 'subsample': 0.6560635629683793, 'colsample_bytree': 0.24102415205503608, 'reg_lambda': 4.292976644467521}. Best is trial 33 with value: 0.8593838862559242.\u001b[0m\n"
     ]
    },
    {
     "name": "stdout",
     "output_type": "stream",
     "text": [
      "========== Fold=1 ==========\n",
      "========== Fold=2 ==========\n",
      "========== Fold=3 ==========\n",
      "========== Fold=4 ==========\n",
      "========== Fold=5 ==========\n"
     ]
    },
    {
     "name": "stderr",
     "output_type": "stream",
     "text": [
      "\u001b[32m[I 2023-01-19 21:30:52,998]\u001b[0m Trial 65 finished with value: 0.8602538930264049 and parameters: {'max_depth': 3, 'n_estimators': 438, 'min_child_weight': 0.08873059278183673, 'eta': 0.060947648156996784, 'subsample': 0.5539329517563821, 'colsample_bytree': 0.36218593999481347, 'reg_lambda': 3.0014664067544694}. Best is trial 65 with value: 0.8602538930264049.\u001b[0m\n"
     ]
    },
    {
     "name": "stdout",
     "output_type": "stream",
     "text": [
      "========== Fold=1 ==========\n",
      "========== Fold=2 ==========\n",
      "========== Fold=3 ==========\n",
      "========== Fold=4 ==========\n",
      "========== Fold=5 ==========\n"
     ]
    },
    {
     "name": "stderr",
     "output_type": "stream",
     "text": [
      "\u001b[32m[I 2023-01-19 21:30:57,464]\u001b[0m Trial 66 finished with value: 0.8534190927555857 and parameters: {'max_depth': 4, 'n_estimators': 514, 'min_child_weight': 0.23377695015323874, 'eta': 0.06017277865899902, 'subsample': 0.5216912573163077, 'colsample_bytree': 0.35521902454779625, 'reg_lambda': 2.7236015370586855}. Best is trial 65 with value: 0.8602538930264049.\u001b[0m\n"
     ]
    },
    {
     "name": "stdout",
     "output_type": "stream",
     "text": [
      "========== Fold=1 ==========\n",
      "========== Fold=2 ==========\n",
      "========== Fold=3 ==========\n",
      "========== Fold=4 ==========\n",
      "========== Fold=5 ==========\n"
     ]
    },
    {
     "name": "stderr",
     "output_type": "stream",
     "text": [
      "\u001b[32m[I 2023-01-19 21:31:01,153]\u001b[0m Trial 67 finished with value: 0.8556025727826675 and parameters: {'max_depth': 4, 'n_estimators': 449, 'min_child_weight': 0.09849866405527091, 'eta': 0.060691419831449545, 'subsample': 0.481683595163671, 'colsample_bytree': 0.4790352244890563, 'reg_lambda': 2.7060245416008026}. Best is trial 65 with value: 0.8602538930264049.\u001b[0m\n"
     ]
    },
    {
     "name": "stdout",
     "output_type": "stream",
     "text": [
      "========== Fold=1 ==========\n",
      "========== Fold=2 ==========\n",
      "========== Fold=3 ==========\n",
      "========== Fold=4 ==========\n",
      "========== Fold=5 ==========\n"
     ]
    },
    {
     "name": "stderr",
     "output_type": "stream",
     "text": [
      "\u001b[32m[I 2023-01-19 21:31:03,784]\u001b[0m Trial 68 finished with value: 0.8400135409614082 and parameters: {'max_depth': 4, 'n_estimators': 435, 'min_child_weight': 0.09819477085415773, 'eta': 0.15256736965459128, 'subsample': 0.33210905970040533, 'colsample_bytree': 0.5792937631088049, 'reg_lambda': 2.4994875484835317}. Best is trial 65 with value: 0.8602538930264049.\u001b[0m\n"
     ]
    },
    {
     "name": "stdout",
     "output_type": "stream",
     "text": [
      "========== Fold=1 ==========\n",
      "========== Fold=2 ==========\n",
      "========== Fold=3 ==========\n",
      "========== Fold=4 ==========\n",
      "========== Fold=5 ==========\n"
     ]
    },
    {
     "name": "stderr",
     "output_type": "stream",
     "text": [
      "\u001b[32m[I 2023-01-19 21:31:06,369]\u001b[0m Trial 69 finished with value: 0.8395768449559918 and parameters: {'max_depth': 4, 'n_estimators': 470, 'min_child_weight': 0.14821101822224078, 'eta': 0.18523294997194686, 'subsample': 0.5514461262026455, 'colsample_bytree': 0.4481363142380351, 'reg_lambda': 2.987523871307277}. Best is trial 65 with value: 0.8602538930264049.\u001b[0m\n"
     ]
    },
    {
     "name": "stdout",
     "output_type": "stream",
     "text": [
      "========== Fold=1 ==========\n",
      "========== Fold=2 ==========\n",
      "========== Fold=3 ==========\n",
      "========== Fold=4 ==========\n",
      "========== Fold=5 ==========\n"
     ]
    },
    {
     "name": "stderr",
     "output_type": "stream",
     "text": [
      "\u001b[32m[I 2023-01-19 21:31:08,608]\u001b[0m Trial 70 finished with value: 0.6064691943127962 and parameters: {'max_depth': 3, 'n_estimators': 379, 'min_child_weight': 0.18428597163894328, 'eta': 0.0011642131778589748, 'subsample': 0.4864697208919956, 'colsample_bytree': 0.4836205768453012, 'reg_lambda': 2.879773165026373}. Best is trial 65 with value: 0.8602538930264049.\u001b[0m\n"
     ]
    },
    {
     "name": "stdout",
     "output_type": "stream",
     "text": [
      "========== Fold=1 ==========\n",
      "========== Fold=2 ==========\n",
      "========== Fold=3 ==========\n",
      "========== Fold=4 ==========\n",
      "========== Fold=5 ==========\n"
     ]
    },
    {
     "name": "stderr",
     "output_type": "stream",
     "text": [
      "\u001b[32m[I 2023-01-19 21:31:12,960]\u001b[0m Trial 71 finished with value: 0.8485917400135409 and parameters: {'max_depth': 4, 'n_estimators': 497, 'min_child_weight': 0.0012014695370124312, 'eta': 0.046721529395453376, 'subsample': 0.522233084835754, 'colsample_bytree': 0.401375002850118, 'reg_lambda': 2.703439749162551}. Best is trial 65 with value: 0.8602538930264049.\u001b[0m\n"
     ]
    },
    {
     "name": "stdout",
     "output_type": "stream",
     "text": [
      "========== Fold=1 ==========\n",
      "========== Fold=2 ==========\n",
      "========== Fold=3 ==========\n",
      "========== Fold=4 ==========\n",
      "========== Fold=5 ==========\n"
     ]
    },
    {
     "name": "stderr",
     "output_type": "stream",
     "text": [
      "\u001b[32m[I 2023-01-19 21:31:16,859]\u001b[0m Trial 72 finished with value: 0.8448510494245092 and parameters: {'max_depth': 4, 'n_estimators': 415, 'min_child_weight': 0.08379283111281735, 'eta': 0.06366617406940653, 'subsample': 0.4554141342017929, 'colsample_bytree': 0.3478740864519467, 'reg_lambda': 2.255647202004866}. Best is trial 65 with value: 0.8602538930264049.\u001b[0m\n"
     ]
    },
    {
     "name": "stdout",
     "output_type": "stream",
     "text": [
      "========== Fold=1 ==========\n",
      "========== Fold=2 ==========\n",
      "========== Fold=3 ==========\n",
      "========== Fold=4 ==========\n",
      "========== Fold=5 ==========\n"
     ]
    },
    {
     "name": "stderr",
     "output_type": "stream",
     "text": [
      "\u001b[32m[I 2023-01-19 21:31:21,529]\u001b[0m Trial 73 finished with value: 0.8546750169262018 and parameters: {'max_depth': 4, 'n_estimators': 742, 'min_child_weight': 0.2871376038733872, 'eta': 0.059876461185022656, 'subsample': 0.5392993827170887, 'colsample_bytree': 0.36663196014305366, 'reg_lambda': 2.7210577847667645}. Best is trial 65 with value: 0.8602538930264049.\u001b[0m\n"
     ]
    },
    {
     "name": "stdout",
     "output_type": "stream",
     "text": [
      "========== Fold=1 ==========\n",
      "========== Fold=2 ==========\n",
      "========== Fold=3 ==========\n",
      "========== Fold=4 ==========\n",
      "========== Fold=5 ==========\n"
     ]
    },
    {
     "name": "stderr",
     "output_type": "stream",
     "text": [
      "\u001b[32m[I 2023-01-19 21:31:24,248]\u001b[0m Trial 74 finished with value: 0.8214014895057549 and parameters: {'max_depth': 3, 'n_estimators': 841, 'min_child_weight': 0.30338525531807115, 'eta': 0.12455830737741931, 'subsample': 0.44911831222629445, 'colsample_bytree': 0.5177215532862246, 'reg_lambda': 2.4889558251497896}. Best is trial 65 with value: 0.8602538930264049.\u001b[0m\n"
     ]
    },
    {
     "name": "stdout",
     "output_type": "stream",
     "text": [
      "========== Fold=1 ==========\n",
      "========== Fold=2 ==========\n",
      "========== Fold=3 ==========\n",
      "========== Fold=4 ==========\n",
      "========== Fold=5 ==========\n"
     ]
    },
    {
     "name": "stderr",
     "output_type": "stream",
     "text": [
      "\u001b[32m[I 2023-01-19 21:31:31,138]\u001b[0m Trial 75 finished with value: 0.7663303994583616 and parameters: {'max_depth': 5, 'n_estimators': 740, 'min_child_weight': 0.7008517831887963, 'eta': 0.024106175030678544, 'subsample': 0.3674261168692772, 'colsample_bytree': 0.27056932529227845, 'reg_lambda': 3.1020604019332185}. Best is trial 65 with value: 0.8602538930264049.\u001b[0m\n"
     ]
    },
    {
     "name": "stdout",
     "output_type": "stream",
     "text": [
      "========== Fold=1 ==========\n",
      "========== Fold=2 ==========\n",
      "========== Fold=3 ==========\n",
      "========== Fold=4 ==========\n",
      "========== Fold=5 ==========\n"
     ]
    },
    {
     "name": "stderr",
     "output_type": "stream",
     "text": [
      "\u001b[32m[I 2023-01-19 21:31:34,443]\u001b[0m Trial 76 finished with value: 0.8426574136763709 and parameters: {'max_depth': 3, 'n_estimators': 794, 'min_child_weight': 0.26822373394091603, 'eta': 0.09673344917871528, 'subsample': 0.12846547686539245, 'colsample_bytree': 0.41110412853172384, 'reg_lambda': 2.62827934308452}. Best is trial 65 with value: 0.8602538930264049.\u001b[0m\n"
     ]
    },
    {
     "name": "stdout",
     "output_type": "stream",
     "text": [
      "========== Fold=1 ==========\n",
      "========== Fold=2 ==========\n",
      "========== Fold=3 ==========\n",
      "========== Fold=4 ==========\n",
      "========== Fold=5 ==========\n"
     ]
    },
    {
     "name": "stderr",
     "output_type": "stream",
     "text": [
      "\u001b[32m[I 2023-01-19 21:31:38,212]\u001b[0m Trial 77 finished with value: 0.8062965470548409 and parameters: {'max_depth': 4, 'n_estimators': 649, 'min_child_weight': 0.11877543984328592, 'eta': 0.730479628739747, 'subsample': 0.8008916731472357, 'colsample_bytree': 0.36541852299071365, 'reg_lambda': 2.051187896725658}. Best is trial 65 with value: 0.8602538930264049.\u001b[0m\n"
     ]
    },
    {
     "name": "stdout",
     "output_type": "stream",
     "text": [
      "========== Fold=1 ==========\n",
      "========== Fold=2 ==========\n",
      "========== Fold=3 ==========\n",
      "========== Fold=4 ==========\n",
      "========== Fold=5 ==========\n"
     ]
    },
    {
     "name": "stderr",
     "output_type": "stream",
     "text": [
      "\u001b[32m[I 2023-01-19 21:31:41,066]\u001b[0m Trial 78 finished with value: 0.8281550440081246 and parameters: {'max_depth': 3, 'n_estimators': 770, 'min_child_weight': 0.4074596613421917, 'eta': 0.21209730679081967, 'subsample': 0.2181733907867598, 'colsample_bytree': 0.2308301439882595, 'reg_lambda': 2.78735880818313}. Best is trial 65 with value: 0.8602538930264049.\u001b[0m\n"
     ]
    },
    {
     "name": "stdout",
     "output_type": "stream",
     "text": [
      "========== Fold=1 ==========\n",
      "========== Fold=2 ==========\n",
      "========== Fold=3 ==========\n",
      "========== Fold=4 ==========\n",
      "========== Fold=5 ==========\n"
     ]
    },
    {
     "name": "stderr",
     "output_type": "stream",
     "text": [
      "\u001b[32m[I 2023-01-19 21:31:44,407]\u001b[0m Trial 79 finished with value: 0.8456499661475966 and parameters: {'max_depth': 4, 'n_estimators': 882, 'min_child_weight': 0.3450142651505404, 'eta': 0.16341122071434772, 'subsample': 0.546689980159719, 'colsample_bytree': 0.19425915430700033, 'reg_lambda': 2.3485938375584743}. Best is trial 65 with value: 0.8602538930264049.\u001b[0m\n"
     ]
    },
    {
     "name": "stdout",
     "output_type": "stream",
     "text": [
      "========== Fold=1 ==========\n",
      "========== Fold=2 ==========\n",
      "========== Fold=3 ==========\n",
      "========== Fold=4 ==========\n",
      "========== Fold=5 ==========\n"
     ]
    },
    {
     "name": "stderr",
     "output_type": "stream",
     "text": [
      "\u001b[32m[I 2023-01-19 21:31:48,040]\u001b[0m Trial 80 finished with value: 0.809326337169939 and parameters: {'max_depth': 5, 'n_estimators': 740, 'min_child_weight': 0.038150912542855964, 'eta': 0.25468448265774557, 'subsample': 0.8566795588866218, 'colsample_bytree': 0.2599942384750019, 'reg_lambda': 2.988813375252468}. Best is trial 65 with value: 0.8602538930264049.\u001b[0m\n"
     ]
    },
    {
     "name": "stdout",
     "output_type": "stream",
     "text": [
      "========== Fold=1 ==========\n",
      "========== Fold=2 ==========\n",
      "========== Fold=3 ==========\n",
      "========== Fold=4 ==========\n",
      "========== Fold=5 ==========\n"
     ]
    },
    {
     "name": "stderr",
     "output_type": "stream",
     "text": [
      "\u001b[32m[I 2023-01-19 21:31:52,040]\u001b[0m Trial 81 finished with value: 0.8556668923493567 and parameters: {'max_depth': 4, 'n_estimators': 521, 'min_child_weight': 0.22308897339715225, 'eta': 0.05730506416583143, 'subsample': 0.49632208541621536, 'colsample_bytree': 0.3475265283243578, 'reg_lambda': 2.723890568656037}. Best is trial 65 with value: 0.8602538930264049.\u001b[0m\n"
     ]
    },
    {
     "name": "stdout",
     "output_type": "stream",
     "text": [
      "========== Fold=1 ==========\n",
      "========== Fold=2 ==========\n",
      "========== Fold=3 ==========\n",
      "========== Fold=4 ==========\n",
      "========== Fold=5 ==========\n"
     ]
    },
    {
     "name": "stderr",
     "output_type": "stream",
     "text": [
      "\u001b[32m[I 2023-01-19 21:31:56,381]\u001b[0m Trial 82 finished with value: 0.8516046039268788 and parameters: {'max_depth': 4, 'n_estimators': 996, 'min_child_weight': 0.19307242446345227, 'eta': 0.06726238355685249, 'subsample': 0.48503380743006763, 'colsample_bytree': 0.29003689357948287, 'reg_lambda': 2.872598874709754}. Best is trial 65 with value: 0.8602538930264049.\u001b[0m\n"
     ]
    },
    {
     "name": "stdout",
     "output_type": "stream",
     "text": [
      "========== Fold=1 ==========\n",
      "========== Fold=2 ==========\n",
      "========== Fold=3 ==========\n",
      "========== Fold=4 ==========\n",
      "========== Fold=5 ==========\n"
     ]
    },
    {
     "name": "stderr",
     "output_type": "stream",
     "text": [
      "\u001b[32m[I 2023-01-19 21:31:59,456]\u001b[0m Trial 83 finished with value: 0.8480974949221394 and parameters: {'max_depth': 3, 'n_estimators': 822, 'min_child_weight': 0.15839843867353964, 'eta': 0.10810466974272352, 'subsample': 0.6924091111457362, 'colsample_bytree': 0.3277376434501231, 'reg_lambda': 2.6217671056156875}. Best is trial 65 with value: 0.8602538930264049.\u001b[0m\n"
     ]
    },
    {
     "name": "stdout",
     "output_type": "stream",
     "text": [
      "========== Fold=1 ==========\n",
      "========== Fold=2 ==========\n",
      "========== Fold=3 ==========\n",
      "========== Fold=4 ==========\n",
      "========== Fold=5 ==========\n"
     ]
    },
    {
     "name": "stderr",
     "output_type": "stream",
     "text": [
      "\u001b[32m[I 2023-01-19 21:32:02,320]\u001b[0m Trial 84 finished with value: 0.8448239675016926 and parameters: {'max_depth': 4, 'n_estimators': 233, 'min_child_weight': 0.30220304161526934, 'eta': 0.13934196149403696, 'subsample': 0.5979770740594559, 'colsample_bytree': 0.43116554100678434, 'reg_lambda': 2.4389834646464146}. Best is trial 65 with value: 0.8602538930264049.\u001b[0m\n"
     ]
    },
    {
     "name": "stdout",
     "output_type": "stream",
     "text": [
      "========== Fold=1 ==========\n",
      "========== Fold=2 ==========\n",
      "========== Fold=3 ==========\n",
      "========== Fold=4 ==========\n",
      "========== Fold=5 ==========\n"
     ]
    },
    {
     "name": "stderr",
     "output_type": "stream",
     "text": [
      "\u001b[32m[I 2023-01-19 21:32:06,338]\u001b[0m Trial 85 finished with value: 0.7740436696005416 and parameters: {'max_depth': 3, 'n_estimators': 366, 'min_child_weight': 0.28189439072344863, 'eta': 0.022924659856219658, 'subsample': 0.49863077695889246, 'colsample_bytree': 0.3835219468525942, 'reg_lambda': 3.072963179209677}. Best is trial 65 with value: 0.8602538930264049.\u001b[0m\n"
     ]
    },
    {
     "name": "stdout",
     "output_type": "stream",
     "text": [
      "========== Fold=1 ==========\n",
      "========== Fold=2 ==========\n",
      "========== Fold=3 ==========\n",
      "========== Fold=4 ==========\n"
     ]
    },
    {
     "name": "stderr",
     "output_type": "stream",
     "text": [
      "\u001b[32m[I 2023-01-19 21:32:07,103]\u001b[0m Trial 86 finished with value: 0.7871411645226811 and parameters: {'max_depth': 4, 'n_estimators': 29, 'min_child_weight': 0.33699448030025175, 'eta': 0.04821210337467498, 'subsample': 0.6488839580021232, 'colsample_bytree': 0.4830822536437479, 'reg_lambda': 3.2055404578792874}. Best is trial 65 with value: 0.8602538930264049.\u001b[0m\n"
     ]
    },
    {
     "name": "stdout",
     "output_type": "stream",
     "text": [
      "========== Fold=5 ==========\n",
      "========== Fold=1 ==========\n",
      "========== Fold=2 ==========\n",
      "========== Fold=3 ==========\n",
      "========== Fold=4 ==========\n",
      "========== Fold=5 ==========\n"
     ]
    },
    {
     "name": "stderr",
     "output_type": "stream",
     "text": [
      "\u001b[32m[I 2023-01-19 21:32:10,797]\u001b[0m Trial 87 finished with value: 0.8173730534867976 and parameters: {'max_depth': 4, 'n_estimators': 612, 'min_child_weight': 0.2604086139033802, 'eta': 0.0714290826214511, 'subsample': 0.3880839529743891, 'colsample_bytree': 0.3032733540298897, 'reg_lambda': 3.31162099293157}. Best is trial 65 with value: 0.8602538930264049.\u001b[0m\n"
     ]
    },
    {
     "name": "stdout",
     "output_type": "stream",
     "text": [
      "========== Fold=1 ==========\n",
      "========== Fold=2 ==========\n",
      "========== Fold=3 ==========\n",
      "========== Fold=4 ==========\n",
      "========== Fold=5 ==========\n"
     ]
    },
    {
     "name": "stderr",
     "output_type": "stream",
     "text": [
      "\u001b[32m[I 2023-01-19 21:32:14,097]\u001b[0m Trial 88 finished with value: 0.8509004739336494 and parameters: {'max_depth': 3, 'n_estimators': 694, 'min_child_weight': 0.2261079940042826, 'eta': 0.09217438137359443, 'subsample': 0.43413732038355457, 'colsample_bytree': 0.34662613739887926, 'reg_lambda': 2.8038789581290895}. Best is trial 65 with value: 0.8602538930264049.\u001b[0m\n"
     ]
    },
    {
     "name": "stdout",
     "output_type": "stream",
     "text": [
      "========== Fold=1 ==========\n",
      "========== Fold=2 ==========\n",
      "========== Fold=3 ==========\n",
      "========== Fold=4 ==========\n",
      "========== Fold=5 ==========\n"
     ]
    },
    {
     "name": "stderr",
     "output_type": "stream",
     "text": [
      "\u001b[32m[I 2023-01-19 21:32:17,627]\u001b[0m Trial 89 finished with value: 0.8303215978334462 and parameters: {'max_depth': 4, 'n_estimators': 433, 'min_child_weight': 0.37041339483456537, 'eta': 0.1296089219971988, 'subsample': 0.5352124516545217, 'colsample_bytree': 0.6341939171746922, 'reg_lambda': 2.9478982442049184}. Best is trial 65 with value: 0.8602538930264049.\u001b[0m\n"
     ]
    },
    {
     "name": "stdout",
     "output_type": "stream",
     "text": [
      "========== Fold=1 ==========\n",
      "========== Fold=2 ==========\n",
      "========== Fold=3 ==========\n",
      "========== Fold=4 ==========\n",
      "========== Fold=5 ==========\n"
     ]
    },
    {
     "name": "stderr",
     "output_type": "stream",
     "text": [
      "\u001b[32m[I 2023-01-19 21:32:19,420]\u001b[0m Trial 90 finished with value: 0.8321530128639133 and parameters: {'max_depth': 3, 'n_estimators': 300, 'min_child_weight': 0.07426312458405326, 'eta': 0.5048681288208394, 'subsample': 0.7305860482163216, 'colsample_bytree': 0.27905352399836125, 'reg_lambda': 2.6485217600277946}. Best is trial 65 with value: 0.8602538930264049.\u001b[0m\n"
     ]
    },
    {
     "name": "stdout",
     "output_type": "stream",
     "text": [
      "========== Fold=1 ==========\n",
      "========== Fold=2 ==========\n",
      "========== Fold=3 ==========\n",
      "========== Fold=4 ==========\n",
      "========== Fold=5 ==========\n"
     ]
    },
    {
     "name": "stderr",
     "output_type": "stream",
     "text": [
      "\u001b[32m[I 2023-01-19 21:32:24,125]\u001b[0m Trial 91 finished with value: 0.8528368314150303 and parameters: {'max_depth': 4, 'n_estimators': 512, 'min_child_weight': 0.24042035081285534, 'eta': 0.054727259817396484, 'subsample': 0.5598414961739655, 'colsample_bytree': 0.3649979463941724, 'reg_lambda': 2.7003904922020583}. Best is trial 65 with value: 0.8602538930264049.\u001b[0m\n"
     ]
    },
    {
     "name": "stdout",
     "output_type": "stream",
     "text": [
      "========== Fold=1 ==========\n",
      "========== Fold=2 ==========\n",
      "========== Fold=3 ==========\n",
      "========== Fold=4 ==========\n",
      "========== Fold=5 ==========\n"
     ]
    },
    {
     "name": "stderr",
     "output_type": "stream",
     "text": [
      "\u001b[32m[I 2023-01-19 21:32:28,070]\u001b[0m Trial 92 finished with value: 0.8467670954637778 and parameters: {'max_depth': 4, 'n_estimators': 582, 'min_child_weight': 0.21492979347200553, 'eta': 0.08117237509537503, 'subsample': 0.5189648858167383, 'colsample_bytree': 0.31753730665805385, 'reg_lambda': 3.4203625509093754}. Best is trial 65 with value: 0.8602538930264049.\u001b[0m\n"
     ]
    },
    {
     "name": "stdout",
     "output_type": "stream",
     "text": [
      "========== Fold=1 ==========\n",
      "========== Fold=2 ==========\n",
      "========== Fold=3 ==========\n",
      "========== Fold=4 ==========\n",
      "========== Fold=5 ==========\n"
     ]
    },
    {
     "name": "stderr",
     "output_type": "stream",
     "text": [
      "\u001b[32m[I 2023-01-19 21:32:31,279]\u001b[0m Trial 93 finished with value: 0.8433276912660799 and parameters: {'max_depth': 4, 'n_estimators': 520, 'min_child_weight': 0.1352978427519485, 'eta': 0.10995367997340905, 'subsample': 0.47544190935262026, 'colsample_bytree': 0.39423663496102124, 'reg_lambda': 2.765649788437459}. Best is trial 65 with value: 0.8602538930264049.\u001b[0m\n"
     ]
    },
    {
     "name": "stdout",
     "output_type": "stream",
     "text": [
      "========== Fold=1 ==========\n",
      "========== Fold=2 ==========\n",
      "========== Fold=3 ==========\n",
      "========== Fold=4 ==========\n",
      "========== Fold=5 ==========\n"
     ]
    },
    {
     "name": "stderr",
     "output_type": "stream",
     "text": [
      "\u001b[32m[I 2023-01-19 21:32:34,921]\u001b[0m Trial 94 finished with value: 0.8414048747461069 and parameters: {'max_depth': 5, 'n_estimators': 482, 'min_child_weight': 0.2929301953587962, 'eta': 0.18150672344344335, 'subsample': 0.5776931605672517, 'colsample_bytree': 0.34747238187609025, 'reg_lambda': 2.553705148802334}. Best is trial 65 with value: 0.8602538930264049.\u001b[0m\n"
     ]
    },
    {
     "name": "stdout",
     "output_type": "stream",
     "text": [
      "========== Fold=1 ==========\n",
      "========== Fold=2 ==========\n",
      "========== Fold=3 ==========\n",
      "========== Fold=4 ==========\n",
      "========== Fold=5 ==========\n"
     ]
    },
    {
     "name": "stderr",
     "output_type": "stream",
     "text": [
      "\u001b[32m[I 2023-01-19 21:32:40,480]\u001b[0m Trial 95 finished with value: 0.7611018957345972 and parameters: {'max_depth': 4, 'n_estimators': 454, 'min_child_weight': 0.16986031349438752, 'eta': 0.01311909565138037, 'subsample': 0.6136589869829222, 'colsample_bytree': 0.22697384421876793, 'reg_lambda': 2.344222515766345}. Best is trial 65 with value: 0.8602538930264049.\u001b[0m\n"
     ]
    },
    {
     "name": "stdout",
     "output_type": "stream",
     "text": [
      "========== Fold=1 ==========\n",
      "========== Fold=2 ==========\n",
      "========== Fold=3 ==========\n",
      "========== Fold=4 ==========\n",
      "========== Fold=5 ==========\n"
     ]
    },
    {
     "name": "stderr",
     "output_type": "stream",
     "text": [
      "\u001b[32m[I 2023-01-19 21:32:45,224]\u001b[0m Trial 96 finished with value: 0.8578808395396073 and parameters: {'max_depth': 4, 'n_estimators': 657, 'min_child_weight': 0.2504130196499227, 'eta': 0.04332214131744701, 'subsample': 0.5377737395605088, 'colsample_bytree': 0.37022467060178565, 'reg_lambda': 3.5274757574845657}. Best is trial 65 with value: 0.8602538930264049.\u001b[0m\n"
     ]
    },
    {
     "name": "stdout",
     "output_type": "stream",
     "text": [
      "========== Fold=1 ==========\n",
      "========== Fold=2 ==========\n",
      "========== Fold=3 ==========\n",
      "========== Fold=4 ==========\n",
      "========== Fold=5 ==========\n"
     ]
    },
    {
     "name": "stderr",
     "output_type": "stream",
     "text": [
      "\u001b[32m[I 2023-01-19 21:32:48,012]\u001b[0m Trial 97 finished with value: 0.8490622884224779 and parameters: {'max_depth': 3, 'n_estimators': 657, 'min_child_weight': 0.11253606233511347, 'eta': 0.1441856810132511, 'subsample': 0.5890483371682254, 'colsample_bytree': 0.2538334752340001, 'reg_lambda': 3.6185218551073506}. Best is trial 65 with value: 0.8602538930264049.\u001b[0m\n"
     ]
    },
    {
     "name": "stdout",
     "output_type": "stream",
     "text": [
      "========== Fold=1 ==========\n",
      "========== Fold=2 ==========\n",
      "========== Fold=3 ==========\n",
      "========== Fold=4 ==========\n",
      "========== Fold=5 ==========\n"
     ]
    },
    {
     "name": "stderr",
     "output_type": "stream",
     "text": [
      "\u001b[32m[I 2023-01-19 21:32:51,709]\u001b[0m Trial 98 finished with value: 0.8444955991875424 and parameters: {'max_depth': 5, 'n_estimators': 694, 'min_child_weight': 0.2589573263172923, 'eta': 0.08462370821344918, 'subsample': 0.8927007978147063, 'colsample_bytree': 0.3234310658555747, 'reg_lambda': 3.5195209018900773}. Best is trial 65 with value: 0.8602538930264049.\u001b[0m\n"
     ]
    },
    {
     "name": "stdout",
     "output_type": "stream",
     "text": [
      "========== Fold=1 ==========\n",
      "========== Fold=2 ==========\n",
      "========== Fold=3 ==========\n",
      "========== Fold=4 ==========\n",
      "========== Fold=5 ==========\n"
     ]
    },
    {
     "name": "stderr",
     "output_type": "stream",
     "text": [
      "\u001b[32m[I 2023-01-19 21:32:53,858]\u001b[0m Trial 99 finished with value: 0.8179316181448881 and parameters: {'max_depth': 3, 'n_estimators': 156, 'min_child_weight': 0.2760087423014205, 'eta': 0.03835757841591794, 'subsample': 0.47048702277375976, 'colsample_bytree': 0.16682035493109715, 'reg_lambda': 3.864020794268922}. Best is trial 65 with value: 0.8602538930264049.\u001b[0m\n"
     ]
    },
    {
     "name": "stdout",
     "output_type": "stream",
     "text": [
      "========== Fold=1 ==========\n",
      "========== Fold=2 ==========\n",
      "========== Fold=3 ==========\n",
      "========== Fold=4 ==========\n",
      "========== Fold=5 ==========\n"
     ]
    },
    {
     "name": "stderr",
     "output_type": "stream",
     "text": [
      "\u001b[32m[I 2023-01-19 21:32:56,591]\u001b[0m Trial 100 finished with value: 0.8441706161137441 and parameters: {'max_depth': 4, 'n_estimators': 722, 'min_child_weight': 0.3610966269339542, 'eta': 0.16973116030907826, 'subsample': 0.7742601304715488, 'colsample_bytree': 0.44358434742375363, 'reg_lambda': 3.053777295735449}. Best is trial 65 with value: 0.8602538930264049.\u001b[0m\n"
     ]
    },
    {
     "name": "stdout",
     "output_type": "stream",
     "text": [
      "========== Fold=1 ==========\n",
      "========== Fold=2 ==========\n",
      "========== Fold=3 ==========\n",
      "========== Fold=4 ==========\n",
      "========== Fold=5 ==========\n"
     ]
    },
    {
     "name": "stderr",
     "output_type": "stream",
     "text": [
      "\u001b[32m[I 2023-01-19 21:33:00,524]\u001b[0m Trial 101 finished with value: 0.8514150304671633 and parameters: {'max_depth': 4, 'n_estimators': 631, 'min_child_weight': 0.24735922123749993, 'eta': 0.058677327655554466, 'subsample': 0.5006920483421127, 'colsample_bytree': 0.3732168476307021, 'reg_lambda': 3.2525697297837595}. Best is trial 65 with value: 0.8602538930264049.\u001b[0m\n"
     ]
    },
    {
     "name": "stdout",
     "output_type": "stream",
     "text": [
      "========== Fold=1 ==========\n",
      "========== Fold=2 ==========\n",
      "========== Fold=3 ==========\n",
      "========== Fold=4 ==========\n",
      "========== Fold=5 ==========\n"
     ]
    },
    {
     "name": "stderr",
     "output_type": "stream",
     "text": [
      "\u001b[32m[I 2023-01-19 21:33:03,927]\u001b[0m Trial 102 finished with value: 0.8404722410291131 and parameters: {'max_depth': 4, 'n_estimators': 566, 'min_child_weight': 0.31655585205261105, 'eta': 0.1023901758016107, 'subsample': 0.5320565166011676, 'colsample_bytree': 0.40675963816517813, 'reg_lambda': 3.1458964602153556}. Best is trial 65 with value: 0.8602538930264049.\u001b[0m\n"
     ]
    },
    {
     "name": "stdout",
     "output_type": "stream",
     "text": [
      "========== Fold=1 ==========\n",
      "========== Fold=2 ==========\n",
      "========== Fold=3 ==========\n",
      "========== Fold=4 ==========\n",
      "========== Fold=5 ==========\n"
     ]
    },
    {
     "name": "stderr",
     "output_type": "stream",
     "text": [
      "\u001b[32m[I 2023-01-19 21:33:09,380]\u001b[0m Trial 103 finished with value: 0.8530670277589708 and parameters: {'max_depth': 4, 'n_estimators': 752, 'min_child_weight': 0.21923357223939774, 'eta': 0.03638502939156496, 'subsample': 0.553994510861514, 'colsample_bytree': 0.3550978825765441, 'reg_lambda': 2.928822134918017}. Best is trial 65 with value: 0.8602538930264049.\u001b[0m\n"
     ]
    },
    {
     "name": "stdout",
     "output_type": "stream",
     "text": [
      "========== Fold=1 ==========\n",
      "========== Fold=2 ==========\n",
      "========== Fold=3 ==========\n",
      "========== Fold=4 ==========\n",
      "========== Fold=5 ==========\n"
     ]
    },
    {
     "name": "stderr",
     "output_type": "stream",
     "text": [
      "\u001b[32m[I 2023-01-19 21:33:14,720]\u001b[0m Trial 104 finished with value: 0.7729146919431279 and parameters: {'max_depth': 4, 'n_estimators': 414, 'min_child_weight': 0.19321089118051882, 'eta': 0.01665154215986958, 'subsample': 0.5064119001712394, 'colsample_bytree': 0.29574689794539427, 'reg_lambda': 3.6913867592271457}. Best is trial 65 with value: 0.8602538930264049.\u001b[0m\n"
     ]
    },
    {
     "name": "stdout",
     "output_type": "stream",
     "text": [
      "========== Fold=1 ==========\n",
      "========== Fold=2 ==========\n",
      "========== Fold=3 ==========\n",
      "========== Fold=4 ==========\n",
      "========== Fold=5 ==========\n"
     ]
    },
    {
     "name": "stderr",
     "output_type": "stream",
     "text": [
      "\u001b[32m[I 2023-01-19 21:33:18,940]\u001b[0m Trial 105 finished with value: 0.8532329045362221 and parameters: {'max_depth': 3, 'n_estimators': 539, 'min_child_weight': 0.051675634349873864, 'eta': 0.07295902321255221, 'subsample': 0.6316949670060379, 'colsample_bytree': 0.33105540439141334, 'reg_lambda': 4.043973558970541}. Best is trial 65 with value: 0.8602538930264049.\u001b[0m\n"
     ]
    },
    {
     "name": "stdout",
     "output_type": "stream",
     "text": [
      "========== Fold=1 ==========\n",
      "========== Fold=2 ==========\n",
      "========== Fold=3 ==========\n",
      "========== Fold=4 ==========\n",
      "========== Fold=5 ==========\n"
     ]
    },
    {
     "name": "stderr",
     "output_type": "stream",
     "text": [
      "\u001b[32m[I 2023-01-19 21:33:22,127]\u001b[0m Trial 106 finished with value: 0.8341029113067028 and parameters: {'max_depth': 5, 'n_estimators': 782, 'min_child_weight': 0.09162324921607078, 'eta': 0.12481676324569961, 'subsample': 0.5717803449513092, 'colsample_bytree': 0.3080935013791421, 'reg_lambda': 1.581322270665967}. Best is trial 65 with value: 0.8602538930264049.\u001b[0m\n"
     ]
    },
    {
     "name": "stdout",
     "output_type": "stream",
     "text": [
      "========== Fold=1 ==========\n",
      "========== Fold=2 ==========\n",
      "========== Fold=3 ==========\n",
      "========== Fold=4 ==========\n",
      "========== Fold=5 ==========\n"
     ]
    },
    {
     "name": "stderr",
     "output_type": "stream",
     "text": [
      "\u001b[32m[I 2023-01-19 21:33:25,831]\u001b[0m Trial 107 finished with value: 0.8352572782667569 and parameters: {'max_depth': 4, 'n_estimators': 666, 'min_child_weight': 0.3299284513196738, 'eta': 0.0566451720149797, 'subsample': 0.5338564361375102, 'colsample_bytree': 0.27772373406890033, 'reg_lambda': 2.7960955662684053}. Best is trial 65 with value: 0.8602538930264049.\u001b[0m\n"
     ]
    },
    {
     "name": "stdout",
     "output_type": "stream",
     "text": [
      "========== Fold=1 ==========\n",
      "========== Fold=2 ==========\n",
      "========== Fold=3 ==========\n",
      "========== Fold=4 ==========\n",
      "========== Fold=5 ==========\n"
     ]
    },
    {
     "name": "stderr",
     "output_type": "stream",
     "text": [
      "\u001b[32m[I 2023-01-19 21:33:29,100]\u001b[0m Trial 108 finished with value: 0.8483750846310089 and parameters: {'max_depth': 3, 'n_estimators': 482, 'min_child_weight': 0.291479783325253, 'eta': 0.09931839506307932, 'subsample': 0.6916810247286781, 'colsample_bytree': 0.5431961821195457, 'reg_lambda': 3.5552645304606463}. Best is trial 65 with value: 0.8602538930264049.\u001b[0m\n"
     ]
    },
    {
     "name": "stdout",
     "output_type": "stream",
     "text": [
      "========== Fold=1 ==========\n",
      "========== Fold=2 ==========\n",
      "========== Fold=3 ==========\n",
      "========== Fold=4 ==========\n",
      "========== Fold=5 ==========\n"
     ]
    },
    {
     "name": "stderr",
     "output_type": "stream",
     "text": [
      "\u001b[32m[I 2023-01-19 21:33:32,105]\u001b[0m Trial 109 finished with value: 0.8463879485443467 and parameters: {'max_depth': 4, 'n_estimators': 724, 'min_child_weight': 0.1390404856546341, 'eta': 0.14510628056973868, 'subsample': 0.6623500633470513, 'colsample_bytree': 0.46893340317082605, 'reg_lambda': 3.858895611218953}. Best is trial 65 with value: 0.8602538930264049.\u001b[0m\n"
     ]
    },
    {
     "name": "stdout",
     "output_type": "stream",
     "text": [
      "========== Fold=1 ==========\n",
      "========== Fold=2 ==========\n",
      "========== Fold=3 ==========\n",
      "========== Fold=4 ==========\n",
      "========== Fold=5 ==========\n"
     ]
    },
    {
     "name": "stderr",
     "output_type": "stream",
     "text": [
      "\u001b[32m[I 2023-01-19 21:33:34,898]\u001b[0m Trial 110 finished with value: 0.6437694651320243 and parameters: {'max_depth': 4, 'n_estimators': 208, 'min_child_weight': 0.23050879763265764, 'eta': 0.004604025141447768, 'subsample': 0.4353866827704912, 'colsample_bytree': 0.3817602660158285, 'reg_lambda': 2.552966225125926}. Best is trial 65 with value: 0.8602538930264049.\u001b[0m\n"
     ]
    },
    {
     "name": "stdout",
     "output_type": "stream",
     "text": [
      "========== Fold=1 ==========\n",
      "========== Fold=2 ==========\n",
      "========== Fold=3 ==========\n",
      "========== Fold=4 ==========\n",
      "========== Fold=5 ==========\n"
     ]
    },
    {
     "name": "stderr",
     "output_type": "stream",
     "text": [
      "\u001b[32m[I 2023-01-19 21:33:38,554]\u001b[0m Trial 111 finished with value: 0.8508259986459037 and parameters: {'max_depth': 3, 'n_estimators': 531, 'min_child_weight': 0.07689741898089798, 'eta': 0.07300510956078615, 'subsample': 0.6164823339827884, 'colsample_bytree': 0.3232006763979729, 'reg_lambda': 4.065039150189956}. Best is trial 65 with value: 0.8602538930264049.\u001b[0m\n"
     ]
    },
    {
     "name": "stdout",
     "output_type": "stream",
     "text": [
      "========== Fold=1 ==========\n",
      "========== Fold=2 ==========\n",
      "========== Fold=3 ==========\n",
      "========== Fold=4 ==========\n",
      "========== Fold=5 ==========\n"
     ]
    },
    {
     "name": "stderr",
     "output_type": "stream",
     "text": [
      "\u001b[32m[I 2023-01-19 21:33:42,798]\u001b[0m Trial 112 finished with value: 0.8513473256601218 and parameters: {'max_depth': 3, 'n_estimators': 549, 'min_child_weight': 0.023791824118016947, 'eta': 0.07884726910537589, 'subsample': 0.6386730135821234, 'colsample_bytree': 0.33703426971887274, 'reg_lambda': 3.760149714573661}. Best is trial 65 with value: 0.8602538930264049.\u001b[0m\n"
     ]
    },
    {
     "name": "stdout",
     "output_type": "stream",
     "text": [
      "========== Fold=1 ==========\n",
      "========== Fold=2 ==========\n",
      "========== Fold=3 ==========\n",
      "========== Fold=4 ==========\n",
      "========== Fold=5 ==========\n"
     ]
    },
    {
     "name": "stderr",
     "output_type": "stream",
     "text": [
      "\u001b[32m[I 2023-01-19 21:33:48,299]\u001b[0m Trial 113 finished with value: 0.857444143534191 and parameters: {'max_depth': 3, 'n_estimators': 596, 'min_child_weight': 0.05947485280656576, 'eta': 0.040134963125786995, 'subsample': 0.5825888108522722, 'colsample_bytree': 0.25734048518366404, 'reg_lambda': 1.033050655431853}. Best is trial 65 with value: 0.8602538930264049.\u001b[0m\n"
     ]
    },
    {
     "name": "stdout",
     "output_type": "stream",
     "text": [
      "========== Fold=1 ==========\n",
      "========== Fold=2 ==========\n",
      "========== Fold=3 ==========\n",
      "========== Fold=4 ==========\n",
      "========== Fold=5 ==========\n"
     ]
    },
    {
     "name": "stderr",
     "output_type": "stream",
     "text": [
      "\u001b[32m[I 2023-01-19 21:33:52,173]\u001b[0m Trial 114 finished with value: 0.858219363574814 and parameters: {'max_depth': 3, 'n_estimators': 610, 'min_child_weight': 0.1723655830276004, 'eta': 0.05121784600281067, 'subsample': 0.5801569072071202, 'colsample_bytree': 0.2167948268387571, 'reg_lambda': 1.8715299507483734}. Best is trial 65 with value: 0.8602538930264049.\u001b[0m\n"
     ]
    },
    {
     "name": "stdout",
     "output_type": "stream",
     "text": [
      "========== Fold=1 ==========\n",
      "========== Fold=2 ==========\n",
      "========== Fold=3 ==========\n",
      "========== Fold=4 ==========\n",
      "========== Fold=5 ==========\n"
     ]
    },
    {
     "name": "stderr",
     "output_type": "stream",
     "text": [
      "\u001b[32m[I 2023-01-19 21:33:56,995]\u001b[0m Trial 115 finished with value: 0.8500609343263371 and parameters: {'max_depth': 3, 'n_estimators': 602, 'min_child_weight': 0.17012026688805756, 'eta': 0.044784469748941555, 'subsample': 0.5694082210232708, 'colsample_bytree': 0.20440955540975553, 'reg_lambda': 1.3461512581787505}. Best is trial 65 with value: 0.8602538930264049.\u001b[0m\n"
     ]
    },
    {
     "name": "stdout",
     "output_type": "stream",
     "text": [
      "========== Fold=1 ==========\n",
      "========== Fold=2 ==========\n",
      "========== Fold=3 ==========\n",
      "========== Fold=4 ==========\n",
      "========== Fold=5 ==========\n"
     ]
    },
    {
     "name": "stderr",
     "output_type": "stream",
     "text": [
      "\u001b[32m[I 2023-01-19 21:34:02,379]\u001b[0m Trial 116 finished with value: 0.8243094109681788 and parameters: {'max_depth': 3, 'n_estimators': 629, 'min_child_weight': 0.12396432854119241, 'eta': 0.02329005130040037, 'subsample': 0.5926740675916815, 'colsample_bytree': 0.2458689804988082, 'reg_lambda': 1.7906616794462324}. Best is trial 65 with value: 0.8602538930264049.\u001b[0m\n"
     ]
    },
    {
     "name": "stdout",
     "output_type": "stream",
     "text": [
      "========== Fold=1 ==========\n",
      "========== Fold=2 ==========\n",
      "========== Fold=3 ==========\n",
      "========== Fold=4 ==========\n",
      "========== Fold=5 ==========\n"
     ]
    },
    {
     "name": "stderr",
     "output_type": "stream",
     "text": [
      "\u001b[32m[I 2023-01-19 21:34:05,316]\u001b[0m Trial 117 finished with value: 0.8551861882193637 and parameters: {'max_depth': 3, 'n_estimators': 694, 'min_child_weight': 0.10689045050399412, 'eta': 0.12098854177799143, 'subsample': 0.6085685829352732, 'colsample_bytree': 0.179796021569458, 'reg_lambda': 1.1114537425174436}. Best is trial 65 with value: 0.8602538930264049.\u001b[0m\n"
     ]
    },
    {
     "name": "stdout",
     "output_type": "stream",
     "text": [
      "========== Fold=1 ==========\n",
      "========== Fold=2 ==========\n",
      "========== Fold=3 ==========\n",
      "========== Fold=4 ==========\n",
      "========== Fold=5 ==========\n"
     ]
    },
    {
     "name": "stderr",
     "output_type": "stream",
     "text": [
      "\u001b[32m[I 2023-01-19 21:34:09,130]\u001b[0m Trial 118 finished with value: 0.8570616113744075 and parameters: {'max_depth': 3, 'n_estimators': 697, 'min_child_weight': 0.04654007351536845, 'eta': 0.12124110505615078, 'subsample': 0.5481782649692472, 'colsample_bytree': 0.11326788056011483, 'reg_lambda': 1.013694669293831}. Best is trial 65 with value: 0.8602538930264049.\u001b[0m\n"
     ]
    },
    {
     "name": "stdout",
     "output_type": "stream",
     "text": [
      "========== Fold=1 ==========\n",
      "========== Fold=2 ==========\n",
      "========== Fold=3 ==========\n",
      "========== Fold=4 ==========\n",
      "========== Fold=5 ==========\n"
     ]
    },
    {
     "name": "stderr",
     "output_type": "stream",
     "text": [
      "\u001b[32m[I 2023-01-19 21:34:12,778]\u001b[0m Trial 119 finished with value: 0.8558429248476642 and parameters: {'max_depth': 3, 'n_estimators': 698, 'min_child_weight': 0.040194472816651894, 'eta': 0.11700250046275644, 'subsample': 0.5508007704241087, 'colsample_bytree': 0.11641869433809975, 'reg_lambda': 1.0055229312659677}. Best is trial 65 with value: 0.8602538930264049.\u001b[0m\n"
     ]
    },
    {
     "name": "stdout",
     "output_type": "stream",
     "text": [
      "========== Fold=1 ==========\n",
      "========== Fold=2 ==========\n",
      "========== Fold=3 ==========\n",
      "========== Fold=4 ==========\n",
      "========== Fold=5 ==========\n"
     ]
    },
    {
     "name": "stderr",
     "output_type": "stream",
     "text": [
      "\u001b[32m[I 2023-01-19 21:34:16,476]\u001b[0m Trial 120 finished with value: 0.8503452945159107 and parameters: {'max_depth': 3, 'n_estimators': 689, 'min_child_weight': 0.04379430360950798, 'eta': 0.11965800309750771, 'subsample': 0.46481813097731567, 'colsample_bytree': 0.10017162817787514, 'reg_lambda': 1.0508554242678176}. Best is trial 65 with value: 0.8602538930264049.\u001b[0m\n"
     ]
    },
    {
     "name": "stdout",
     "output_type": "stream",
     "text": [
      "========== Fold=1 ==========\n",
      "========== Fold=2 ==========\n",
      "========== Fold=3 ==========\n",
      "========== Fold=4 ==========\n",
      "========== Fold=5 ==========\n"
     ]
    },
    {
     "name": "stderr",
     "output_type": "stream",
     "text": [
      "\u001b[32m[I 2023-01-19 21:34:20,153]\u001b[0m Trial 121 finished with value: 0.8544211238997969 and parameters: {'max_depth': 3, 'n_estimators': 704, 'min_child_weight': 0.06243969821842199, 'eta': 0.09276044914131973, 'subsample': 0.5460465887672019, 'colsample_bytree': 0.11946679043525983, 'reg_lambda': 1.2357784685108448}. Best is trial 65 with value: 0.8602538930264049.\u001b[0m\n"
     ]
    },
    {
     "name": "stdout",
     "output_type": "stream",
     "text": [
      "========== Fold=1 ==========\n",
      "========== Fold=2 ==========\n",
      "========== Fold=3 ==========\n",
      "========== Fold=4 ==========\n",
      "========== Fold=5 ==========\n"
     ]
    },
    {
     "name": "stderr",
     "output_type": "stream",
     "text": [
      "\u001b[32m[I 2023-01-19 21:34:26,514]\u001b[0m Trial 122 finished with value: 0.8491841570751524 and parameters: {'max_depth': 3, 'n_estimators': 674, 'min_child_weight': 0.10882462372405624, 'eta': 0.029636166161347722, 'subsample': 0.4933975295688147, 'colsample_bytree': 0.1401101411228877, 'reg_lambda': 1.153144283942476}. Best is trial 65 with value: 0.8602538930264049.\u001b[0m\n"
     ]
    },
    {
     "name": "stdout",
     "output_type": "stream",
     "text": [
      "========== Fold=1 ==========\n",
      "========== Fold=2 ==========\n",
      "========== Fold=3 ==========\n",
      "========== Fold=4 ==========\n",
      "========== Fold=5 ==========\n"
     ]
    },
    {
     "name": "stderr",
     "output_type": "stream",
     "text": [
      "\u001b[32m[I 2023-01-19 21:34:30,136]\u001b[0m Trial 123 finished with value: 0.8480974949221396 and parameters: {'max_depth': 3, 'n_estimators': 647, 'min_child_weight': 0.003766100323197713, 'eta': 0.1090326875503912, 'subsample': 0.5823299977164671, 'colsample_bytree': 0.1532813164290645, 'reg_lambda': 1.3830719250593257}. Best is trial 65 with value: 0.8602538930264049.\u001b[0m\n"
     ]
    },
    {
     "name": "stdout",
     "output_type": "stream",
     "text": [
      "========== Fold=1 ==========\n",
      "========== Fold=2 ==========\n",
      "========== Fold=3 ==========\n",
      "========== Fold=4 ==========\n",
      "========== Fold=5 ==========\n"
     ]
    },
    {
     "name": "stderr",
     "output_type": "stream",
     "text": [
      "\u001b[32m[I 2023-01-19 21:34:33,073]\u001b[0m Trial 124 finished with value: 0.8506702775897088 and parameters: {'max_depth': 3, 'n_estimators': 733, 'min_child_weight': 0.09086479138966715, 'eta': 0.1582519080990228, 'subsample': 0.5581761419972262, 'colsample_bytree': 0.1840619187213951, 'reg_lambda': 1.1553053789611534}. Best is trial 65 with value: 0.8602538930264049.\u001b[0m\n"
     ]
    },
    {
     "name": "stdout",
     "output_type": "stream",
     "text": [
      "========== Fold=1 ==========\n",
      "========== Fold=2 ==========\n",
      "========== Fold=3 ==========\n",
      "========== Fold=4 ==========\n",
      "========== Fold=5 ==========\n"
     ]
    },
    {
     "name": "stderr",
     "output_type": "stream",
     "text": [
      "\u001b[32m[I 2023-01-19 21:34:37,444]\u001b[0m Trial 125 finished with value: 0.8549322951929588 and parameters: {'max_depth': 3, 'n_estimators': 586, 'min_child_weight': 0.024456169974472086, 'eta': 0.05465422863495899, 'subsample': 0.5126159448550226, 'colsample_bytree': 0.13067071987385917, 'reg_lambda': 1.376107754861741}. Best is trial 65 with value: 0.8602538930264049.\u001b[0m\n"
     ]
    },
    {
     "name": "stdout",
     "output_type": "stream",
     "text": [
      "========== Fold=1 ==========\n",
      "========== Fold=2 ==========\n",
      "========== Fold=3 ==========\n",
      "========== Fold=4 ==========\n",
      "========== Fold=5 ==========\n"
     ]
    },
    {
     "name": "stderr",
     "output_type": "stream",
     "text": [
      "\u001b[32m[I 2023-01-19 21:34:41,867]\u001b[0m Trial 126 finished with value: 0.853909952606635 and parameters: {'max_depth': 3, 'n_estimators': 597, 'min_child_weight': 0.022099401065484373, 'eta': 0.044748627389112186, 'subsample': 0.5125899876790806, 'colsample_bytree': 0.12325449253265501, 'reg_lambda': 1.0183480952366537}. Best is trial 65 with value: 0.8602538930264049.\u001b[0m\n"
     ]
    },
    {
     "name": "stdout",
     "output_type": "stream",
     "text": [
      "========== Fold=1 ==========\n",
      "========== Fold=2 ==========\n",
      "========== Fold=3 ==========\n",
      "========== Fold=4 ==========\n",
      "========== Fold=5 ==========\n"
     ]
    },
    {
     "name": "stderr",
     "output_type": "stream",
     "text": [
      "\u001b[32m[I 2023-01-19 21:34:45,920]\u001b[0m Trial 127 finished with value: 0.8529587000677048 and parameters: {'max_depth': 3, 'n_estimators': 571, 'min_child_weight': 0.06219129587818266, 'eta': 0.061241260499804724, 'subsample': 0.9825283213862441, 'colsample_bytree': 0.1709143031639845, 'reg_lambda': 1.1389322264897552}. Best is trial 65 with value: 0.8602538930264049.\u001b[0m\n"
     ]
    },
    {
     "name": "stdout",
     "output_type": "stream",
     "text": [
      "========== Fold=1 ==========\n",
      "========== Fold=2 ==========\n",
      "========== Fold=3 ==========\n",
      "========== Fold=4 ==========\n",
      "========== Fold=5 ==========\n"
     ]
    },
    {
     "name": "stderr",
     "output_type": "stream",
     "text": [
      "\u001b[32m[I 2023-01-19 21:34:49,678]\u001b[0m Trial 128 finished with value: 0.8540081245768449 and parameters: {'max_depth': 3, 'n_estimators': 631, 'min_child_weight': 0.03942246322521671, 'eta': 0.08513987559000923, 'subsample': 0.5351556578606326, 'colsample_bytree': 0.11889614944030036, 'reg_lambda': 1.46174583360591}. Best is trial 65 with value: 0.8602538930264049.\u001b[0m\n"
     ]
    },
    {
     "name": "stdout",
     "output_type": "stream",
     "text": [
      "========== Fold=1 ==========\n",
      "========== Fold=2 ==========\n",
      "========== Fold=3 ==========\n",
      "========== Fold=4 ==========\n",
      "========== Fold=5 ==========\n"
     ]
    },
    {
     "name": "stderr",
     "output_type": "stream",
     "text": [
      "\u001b[32m[I 2023-01-19 21:34:51,832]\u001b[0m Trial 129 finished with value: 0.821144211238998 and parameters: {'max_depth': 3, 'n_estimators': 617, 'min_child_weight': 0.09931701606865131, 'eta': 0.6411530930419156, 'subsample': 0.6078303464074819, 'colsample_bytree': 0.14673344960680826, 'reg_lambda': 1.2847016839403067}. Best is trial 65 with value: 0.8602538930264049.\u001b[0m\n"
     ]
    },
    {
     "name": "stdout",
     "output_type": "stream",
     "text": [
      "========== Fold=1 ==========\n",
      "========== Fold=2 ==========\n",
      "========== Fold=3 ==========\n",
      "========== Fold=4 ==========\n",
      "========== Fold=5 ==========\n"
     ]
    },
    {
     "name": "stderr",
     "output_type": "stream",
     "text": [
      "\u001b[32m[I 2023-01-19 21:34:57,313]\u001b[0m Trial 130 finished with value: 0.7957109004739336 and parameters: {'max_depth': 3, 'n_estimators': 661, 'min_child_weight': 0.07718432937330502, 'eta': 0.013578004833389008, 'subsample': 0.48885408265474695, 'colsample_bytree': 0.13206361598293018, 'reg_lambda': 1.6826168554955188}. Best is trial 65 with value: 0.8602538930264049.\u001b[0m\n"
     ]
    },
    {
     "name": "stdout",
     "output_type": "stream",
     "text": [
      "========== Fold=1 ==========\n",
      "========== Fold=2 ==========\n",
      "========== Fold=3 ==========\n",
      "========== Fold=4 ==========\n",
      "========== Fold=5 ==========\n"
     ]
    },
    {
     "name": "stderr",
     "output_type": "stream",
     "text": [
      "\u001b[32m[I 2023-01-19 21:35:00,528]\u001b[0m Trial 131 finished with value: 0.8512457684495598 and parameters: {'max_depth': 3, 'n_estimators': 765, 'min_child_weight': 0.021279870497018336, 'eta': 0.1230255367425688, 'subsample': 0.5215575428903279, 'colsample_bytree': 0.19551303946505855, 'reg_lambda': 1.0879106975771446}. Best is trial 65 with value: 0.8602538930264049.\u001b[0m\n"
     ]
    },
    {
     "name": "stdout",
     "output_type": "stream",
     "text": [
      "========== Fold=1 ==========\n",
      "========== Fold=2 ==========\n",
      "========== Fold=3 ==========\n",
      "========== Fold=4 ==========\n",
      "========== Fold=5 ==========\n"
     ]
    },
    {
     "name": "stderr",
     "output_type": "stream",
     "text": [
      "\u001b[32m[I 2023-01-19 21:35:06,701]\u001b[0m Trial 132 finished with value: 0.856306702775897 and parameters: {'max_depth': 3, 'n_estimators': 680, 'min_child_weight': 0.15005237856017792, 'eta': 0.03724139564329028, 'subsample': 0.5608131092456747, 'colsample_bytree': 0.10613389322979158, 'reg_lambda': 1.205326954100173}. Best is trial 65 with value: 0.8602538930264049.\u001b[0m\n"
     ]
    },
    {
     "name": "stdout",
     "output_type": "stream",
     "text": [
      "========== Fold=1 ==========\n",
      "========== Fold=2 ==========\n",
      "========== Fold=3 ==========\n",
      "========== Fold=4 ==========\n",
      "========== Fold=5 ==========\n"
     ]
    },
    {
     "name": "stderr",
     "output_type": "stream",
     "text": [
      "\u001b[32m[I 2023-01-19 21:35:12,632]\u001b[0m Trial 133 finished with value: 0.8562288422477995 and parameters: {'max_depth': 3, 'n_estimators': 698, 'min_child_weight': 0.14454621378475363, 'eta': 0.03755963955903198, 'subsample': 0.5627314209683226, 'colsample_bytree': 0.10355884280132777, 'reg_lambda': 1.2495215004806903}. Best is trial 65 with value: 0.8602538930264049.\u001b[0m\n"
     ]
    },
    {
     "name": "stdout",
     "output_type": "stream",
     "text": [
      "========== Fold=1 ==========\n",
      "========== Fold=2 ==========\n",
      "========== Fold=3 ==========\n",
      "========== Fold=4 ==========\n",
      "========== Fold=5 ==========\n"
     ]
    },
    {
     "name": "stderr",
     "output_type": "stream",
     "text": [
      "\u001b[32m[I 2023-01-19 21:35:17,578]\u001b[0m Trial 134 finished with value: 0.8351117129316181 and parameters: {'max_depth': 3, 'n_estimators': 702, 'min_child_weight': 0.15193269742419396, 'eta': 0.04155076276772668, 'subsample': 0.5700584523228027, 'colsample_bytree': 0.10500459521268636, 'reg_lambda': 1.4996209248867411}. Best is trial 65 with value: 0.8602538930264049.\u001b[0m\n"
     ]
    },
    {
     "name": "stdout",
     "output_type": "stream",
     "text": [
      "========== Fold=1 ==========\n",
      "========== Fold=2 ==========\n",
      "========== Fold=3 ==========\n",
      "========== Fold=4 ==========\n",
      "========== Fold=5 ==========\n"
     ]
    },
    {
     "name": "stderr",
     "output_type": "stream",
     "text": [
      "\u001b[32m[I 2023-01-19 21:35:22,327]\u001b[0m Trial 135 finished with value: 0.8391807718348002 and parameters: {'max_depth': 3, 'n_estimators': 674, 'min_child_weight': 0.12076797293379272, 'eta': 0.03183924365419675, 'subsample': 0.5875029164220544, 'colsample_bytree': 0.16732723488818602, 'reg_lambda': 1.2367812760016317}. Best is trial 65 with value: 0.8602538930264049.\u001b[0m\n"
     ]
    },
    {
     "name": "stdout",
     "output_type": "stream",
     "text": [
      "========== Fold=1 ==========\n",
      "========== Fold=2 ==========\n",
      "========== Fold=3 ==========\n",
      "========== Fold=4 ==========\n",
      "========== Fold=5 ==========\n"
     ]
    },
    {
     "name": "stderr",
     "output_type": "stream",
     "text": [
      "\u001b[32m[I 2023-01-19 21:35:25,896]\u001b[0m Trial 136 finished with value: 0.7117806364251862 and parameters: {'max_depth': 3, 'n_estimators': 635, 'min_child_weight': 0.13654651742223464, 'eta': 0.0031484393071317812, 'subsample': 0.5578949130444502, 'colsample_bytree': 0.1007284533787714, 'reg_lambda': 1.0033922352212885}. Best is trial 65 with value: 0.8602538930264049.\u001b[0m\n"
     ]
    },
    {
     "name": "stdout",
     "output_type": "stream",
     "text": [
      "========== Fold=1 ==========\n",
      "========== Fold=2 ==========\n",
      "========== Fold=3 ==========\n",
      "========== Fold=4 ==========\n",
      "========== Fold=5 ==========\n"
     ]
    },
    {
     "name": "stderr",
     "output_type": "stream",
     "text": [
      "\u001b[32m[I 2023-01-19 21:35:29,806]\u001b[0m Trial 137 finished with value: 0.8514387271496278 and parameters: {'max_depth': 3, 'n_estimators': 574, 'min_child_weight': 0.05025766575898839, 'eta': 0.09470248630395438, 'subsample': 0.6005756708507777, 'colsample_bytree': 0.12773570568986073, 'reg_lambda': 1.2074858641928967}. Best is trial 65 with value: 0.8602538930264049.\u001b[0m\n"
     ]
    },
    {
     "name": "stdout",
     "output_type": "stream",
     "text": [
      "========== Fold=1 ==========\n",
      "========== Fold=2 ==========\n",
      "========== Fold=3 ==========\n",
      "========== Fold=4 ==========\n",
      "========== Fold=5 ==========\n"
     ]
    },
    {
     "name": "stderr",
     "output_type": "stream",
     "text": [
      "\u001b[32m[I 2023-01-19 21:35:33,748]\u001b[0m Trial 138 finished with value: 0.8488016249153689 and parameters: {'max_depth': 3, 'n_estimators': 612, 'min_child_weight': 0.08694959445796122, 'eta': 0.07181485404711736, 'subsample': 0.5066539164557535, 'colsample_bytree': 0.15430042565019303, 'reg_lambda': 1.339102106276003}. Best is trial 65 with value: 0.8602538930264049.\u001b[0m\n"
     ]
    },
    {
     "name": "stdout",
     "output_type": "stream",
     "text": [
      "========== Fold=1 ==========\n",
      "========== Fold=2 ==========\n",
      "========== Fold=3 ==========\n",
      "========== Fold=4 ==========\n",
      "========== Fold=5 ==========\n"
     ]
    },
    {
     "name": "stderr",
     "output_type": "stream",
     "text": [
      "\u001b[32m[I 2023-01-19 21:35:37,149]\u001b[0m Trial 139 finished with value: 0.8308056872037913 and parameters: {'max_depth': 3, 'n_estimators': 710, 'min_child_weight': 0.16395910448958087, 'eta': 0.4255546965012389, 'subsample': 0.4460313708168402, 'colsample_bytree': 0.11582948404095209, 'reg_lambda': 1.4040139115356325}. Best is trial 65 with value: 0.8602538930264049.\u001b[0m\n"
     ]
    },
    {
     "name": "stdout",
     "output_type": "stream",
     "text": [
      "========== Fold=1 ==========\n",
      "========== Fold=2 ==========\n",
      "========== Fold=3 ==========\n",
      "========== Fold=4 ==========\n",
      "========== Fold=5 ==========\n"
     ]
    },
    {
     "name": "stderr",
     "output_type": "stream",
     "text": [
      "\u001b[32m[I 2023-01-19 21:35:41,642]\u001b[0m Trial 140 finished with value: 0.8417230873392011 and parameters: {'max_depth': 3, 'n_estimators': 651, 'min_child_weight': 0.18919859635871566, 'eta': 0.05266177149722545, 'subsample': 0.5451446326422851, 'colsample_bytree': 0.21330346772229383, 'reg_lambda': 1.1058306125269322}. Best is trial 65 with value: 0.8602538930264049.\u001b[0m\n"
     ]
    },
    {
     "name": "stdout",
     "output_type": "stream",
     "text": [
      "========== Fold=1 ==========\n",
      "========== Fold=2 ==========\n",
      "========== Fold=3 ==========\n",
      "========== Fold=4 ==========\n",
      "========== Fold=5 ==========\n"
     ]
    },
    {
     "name": "stderr",
     "output_type": "stream",
     "text": [
      "\u001b[32m[I 2023-01-19 21:35:46,023]\u001b[0m Trial 141 finished with value: 0.8479316181448883 and parameters: {'max_depth': 3, 'n_estimators': 688, 'min_child_weight': 0.07007883271872832, 'eta': 0.06081957984075282, 'subsample': 0.5379487026746828, 'colsample_bytree': 0.1371413783101899, 'reg_lambda': 1.2750711313581555}. Best is trial 65 with value: 0.8602538930264049.\u001b[0m\n"
     ]
    },
    {
     "name": "stdout",
     "output_type": "stream",
     "text": [
      "========== Fold=1 ==========\n",
      "========== Fold=2 ==========\n",
      "========== Fold=3 ==========\n",
      "========== Fold=4 ==========\n",
      "========== Fold=5 ==========\n"
     ]
    },
    {
     "name": "stderr",
     "output_type": "stream",
     "text": [
      "\u001b[32m[I 2023-01-19 21:35:51,606]\u001b[0m Trial 142 finished with value: 0.8552437373053486 and parameters: {'max_depth': 3, 'n_estimators': 741, 'min_child_weight': 0.10885370169749053, 'eta': 0.02990623427644953, 'subsample': 0.5237700636693011, 'colsample_bytree': 0.18390953602864663, 'reg_lambda': 1.1874105747740438}. Best is trial 65 with value: 0.8602538930264049.\u001b[0m\n"
     ]
    },
    {
     "name": "stdout",
     "output_type": "stream",
     "text": [
      "========== Fold=1 ==========\n",
      "========== Fold=2 ==========\n",
      "========== Fold=3 ==========\n",
      "========== Fold=4 ==========\n",
      "========== Fold=5 ==========\n"
     ]
    },
    {
     "name": "stderr",
     "output_type": "stream",
     "text": [
      "\u001b[32m[I 2023-01-19 21:35:56,702]\u001b[0m Trial 143 finished with value: 0.8258226134055517 and parameters: {'max_depth': 3, 'n_estimators': 676, 'min_child_weight': 0.11065388898318536, 'eta': 0.026933878857704506, 'subsample': 0.5246072435613457, 'colsample_bytree': 0.1944716762615719, 'reg_lambda': 1.1827740168829781}. Best is trial 65 with value: 0.8602538930264049.\u001b[0m\n"
     ]
    },
    {
     "name": "stdout",
     "output_type": "stream",
     "text": [
      "========== Fold=1 ==========\n",
      "========== Fold=2 ==========\n",
      "========== Fold=3 ==========\n",
      "========== Fold=4 ==========\n",
      "========== Fold=5 ==========\n"
     ]
    },
    {
     "name": "stderr",
     "output_type": "stream",
     "text": [
      "\u001b[32m[I 2023-01-19 21:35:59,293]\u001b[0m Trial 144 finished with value: 0.6276083276912661 and parameters: {'max_depth': 3, 'n_estimators': 589, 'min_child_weight': 0.12395524856199726, 'eta': 0.001307454375757633, 'subsample': 0.4796372900792669, 'colsample_bytree': 0.17850201447017178, 'reg_lambda': 1.085156406941777}. Best is trial 65 with value: 0.8602538930264049.\u001b[0m\n"
     ]
    },
    {
     "name": "stdout",
     "output_type": "stream",
     "text": [
      "========== Fold=1 ==========\n",
      "========== Fold=2 ==========\n",
      "========== Fold=3 ==========\n",
      "========== Fold=4 ==========\n",
      "========== Fold=5 ==========\n"
     ]
    },
    {
     "name": "stderr",
     "output_type": "stream",
     "text": [
      "\u001b[32m[I 2023-01-19 21:36:05,283]\u001b[0m Trial 145 finished with value: 0.8533073798239675 and parameters: {'max_depth': 3, 'n_estimators': 726, 'min_child_weight': 0.14888492545856152, 'eta': 0.038244706704398855, 'subsample': 0.5633778173819906, 'colsample_bytree': 0.16465346725537813, 'reg_lambda': 1.005039377882786}. Best is trial 65 with value: 0.8602538930264049.\u001b[0m\n"
     ]
    },
    {
     "name": "stdout",
     "output_type": "stream",
     "text": [
      "========== Fold=1 ==========\n",
      "========== Fold=2 ==========\n",
      "========== Fold=3 ==========\n",
      "========== Fold=4 ==========\n",
      "========== Fold=5 ==========\n"
     ]
    },
    {
     "name": "stderr",
     "output_type": "stream",
     "text": [
      "\u001b[32m[I 2023-01-19 21:36:08,988]\u001b[0m Trial 146 finished with value: 0.8441299932295193 and parameters: {'max_depth': 3, 'n_estimators': 759, 'min_child_weight': 0.09560516135822686, 'eta': 0.0833181633650412, 'subsample': 0.5025004191368676, 'colsample_bytree': 0.1441385005299392, 'reg_lambda': 1.4719496593679984}. Best is trial 65 with value: 0.8602538930264049.\u001b[0m\n"
     ]
    },
    {
     "name": "stdout",
     "output_type": "stream",
     "text": [
      "========== Fold=1 ==========\n",
      "========== Fold=2 ==========\n",
      "========== Fold=3 ==========\n",
      "========== Fold=4 ==========\n",
      "========== Fold=5 ==========\n"
     ]
    },
    {
     "name": "stderr",
     "output_type": "stream",
     "text": [
      "\u001b[32m[I 2023-01-19 21:36:10,920]\u001b[0m Trial 147 finished with value: 0.7985054163845633 and parameters: {'max_depth': 3, 'n_estimators': 651, 'min_child_weight': 0.17780162157462948, 'eta': 0.8048954789192804, 'subsample': 0.5844066049546591, 'colsample_bytree': 0.21881559251369548, 'reg_lambda': 1.6474460233988404}. Best is trial 65 with value: 0.8602538930264049.\u001b[0m\n"
     ]
    },
    {
     "name": "stdout",
     "output_type": "stream",
     "text": [
      "========== Fold=1 ==========\n",
      "========== Fold=2 ==========\n",
      "========== Fold=3 ==========\n",
      "========== Fold=4 ==========\n",
      "========== Fold=5 ==========\n"
     ]
    },
    {
     "name": "stderr",
     "output_type": "stream",
     "text": [
      "\u001b[32m[I 2023-01-19 21:36:14,590]\u001b[0m Trial 148 finished with value: 0.8601150981719702 and parameters: {'max_depth': 3, 'n_estimators': 395, 'min_child_weight': 0.057270172890453816, 'eta': 0.1067886950405557, 'subsample': 0.46636111319588125, 'colsample_bytree': 0.11775542041503666, 'reg_lambda': 2.100187252528337}. Best is trial 65 with value: 0.8602538930264049.\u001b[0m\n"
     ]
    },
    {
     "name": "stdout",
     "output_type": "stream",
     "text": [
      "========== Fold=1 ==========\n",
      "========== Fold=2 ==========\n",
      "========== Fold=3 ==========\n",
      "========== Fold=4 ==========\n",
      "========== Fold=5 ==========\n"
     ]
    },
    {
     "name": "stderr",
     "output_type": "stream",
     "text": [
      "\u001b[32m[I 2023-01-19 21:36:18,820]\u001b[0m Trial 149 finished with value: 0.8184698713608666 and parameters: {'max_depth': 3, 'n_estimators': 333, 'min_child_weight': 0.03472379783485713, 'eta': 0.02235879248445968, 'subsample': 0.46144261385094576, 'colsample_bytree': 0.13087291252806812, 'reg_lambda': 1.8858481938220075}. Best is trial 65 with value: 0.8602538930264049.\u001b[0m\n"
     ]
    },
    {
     "name": "stdout",
     "output_type": "stream",
     "text": [
      "========== Fold=1 ==========\n",
      "========== Fold=2 ==========\n",
      "========== Fold=3 ==========\n",
      "========== Fold=4 ==========\n",
      "========== Fold=5 ==========\n"
     ]
    },
    {
     "name": "stderr",
     "output_type": "stream",
     "text": [
      "\u001b[32m[I 2023-01-19 21:36:22,645]\u001b[0m Trial 150 finished with value: 0.861872037914692 and parameters: {'max_depth': 3, 'n_estimators': 377, 'min_child_weight': 0.06399058291104971, 'eta': 0.11036112029211274, 'subsample': 0.479766158673626, 'colsample_bytree': 0.11791391799350873, 'reg_lambda': 1.294166611910336}. Best is trial 150 with value: 0.861872037914692.\u001b[0m\n"
     ]
    },
    {
     "name": "stdout",
     "output_type": "stream",
     "text": [
      "========== Fold=1 ==========\n",
      "========== Fold=2 ==========\n",
      "========== Fold=3 ==========\n",
      "========== Fold=4 ==========\n",
      "========== Fold=5 ==========\n"
     ]
    },
    {
     "name": "stderr",
     "output_type": "stream",
     "text": [
      "\u001b[32m[I 2023-01-19 21:36:26,084]\u001b[0m Trial 151 finished with value: 0.853378469871361 and parameters: {'max_depth': 3, 'n_estimators': 376, 'min_child_weight': 0.06358769054051108, 'eta': 0.1017147070630775, 'subsample': 0.4074004764908043, 'colsample_bytree': 0.11538964235667498, 'reg_lambda': 2.13374277865125}. Best is trial 150 with value: 0.861872037914692.\u001b[0m\n"
     ]
    },
    {
     "name": "stdout",
     "output_type": "stream",
     "text": [
      "========== Fold=1 ==========\n",
      "========== Fold=2 ==========\n",
      "========== Fold=3 ==========\n",
      "========== Fold=4 ==========\n",
      "========== Fold=5 ==========\n"
     ]
    },
    {
     "name": "stderr",
     "output_type": "stream",
     "text": [
      "\u001b[32m[I 2023-01-19 21:36:30,249]\u001b[0m Trial 152 finished with value: 0.8526066350710901 and parameters: {'max_depth': 3, 'n_estimators': 404, 'min_child_weight': 0.050427440986628505, 'eta': 0.0695868201464952, 'subsample': 0.4859485192440905, 'colsample_bytree': 0.15140739598757874, 'reg_lambda': 1.292840670270316}. Best is trial 150 with value: 0.861872037914692.\u001b[0m\n"
     ]
    },
    {
     "name": "stdout",
     "output_type": "stream",
     "text": [
      "========== Fold=1 ==========\n",
      "========== Fold=2 ==========\n",
      "========== Fold=3 ==========\n",
      "========== Fold=4 ==========\n",
      "========== Fold=5 ==========\n"
     ]
    },
    {
     "name": "stderr",
     "output_type": "stream",
     "text": [
      "\u001b[32m[I 2023-01-19 21:36:33,804]\u001b[0m Trial 153 finished with value: 0.8547698036560596 and parameters: {'max_depth': 3, 'n_estimators': 433, 'min_child_weight': 0.018057633956618933, 'eta': 0.11607687854624774, 'subsample': 0.427238136300199, 'colsample_bytree': 0.10063665111109715, 'reg_lambda': 1.15533605425582}. Best is trial 150 with value: 0.861872037914692.\u001b[0m\n"
     ]
    },
    {
     "name": "stdout",
     "output_type": "stream",
     "text": [
      "========== Fold=1 ==========\n",
      "========== Fold=2 ==========\n",
      "========== Fold=3 ==========\n",
      "========== Fold=4 ==========\n",
      "========== Fold=5 ==========\n"
     ]
    },
    {
     "name": "stderr",
     "output_type": "stream",
     "text": [
      "\u001b[32m[I 2023-01-19 21:36:38,146]\u001b[0m Trial 154 finished with value: 0.8392924847664184 and parameters: {'max_depth': 3, 'n_estimators': 397, 'min_child_weight': 0.07806584259210057, 'eta': 0.05186608437486608, 'subsample': 0.46739246643857746, 'colsample_bytree': 0.1790466894306384, 'reg_lambda': 1.7556899888402473}. Best is trial 150 with value: 0.861872037914692.\u001b[0m\n"
     ]
    },
    {
     "name": "stdout",
     "output_type": "stream",
     "text": [
      "========== Fold=1 ==========\n",
      "========== Fold=2 ==========\n",
      "========== Fold=3 ==========\n",
      "========== Fold=4 ==========\n",
      "========== Fold=5 ==========\n"
     ]
    },
    {
     "name": "stderr",
     "output_type": "stream",
     "text": [
      "\u001b[32m[I 2023-01-19 21:36:41,739]\u001b[0m Trial 155 finished with value: 0.85363913337847 and parameters: {'max_depth': 3, 'n_estimators': 452, 'min_child_weight': 0.10294741111500025, 'eta': 0.1396661387179619, 'subsample': 0.5273694714578148, 'colsample_bytree': 0.12204592362774414, 'reg_lambda': 1.5227838109167626}. Best is trial 150 with value: 0.861872037914692.\u001b[0m\n"
     ]
    },
    {
     "name": "stdout",
     "output_type": "stream",
     "text": [
      "========== Fold=1 ==========\n",
      "========== Fold=2 ==========\n",
      "========== Fold=3 ==========\n",
      "========== Fold=4 ==========\n",
      "========== Fold=5 ==========\n"
     ]
    },
    {
     "name": "stderr",
     "output_type": "stream",
     "text": [
      "\u001b[32m[I 2023-01-19 21:36:45,187]\u001b[0m Trial 156 finished with value: 0.8443872714962762 and parameters: {'max_depth': 3, 'n_estimators': 347, 'min_child_weight': 0.04288754510103038, 'eta': 0.08009118726631, 'subsample': 0.504223781280733, 'colsample_bytree': 0.15645509342507471, 'reg_lambda': 1.2163286448121213}. Best is trial 150 with value: 0.861872037914692.\u001b[0m\n"
     ]
    },
    {
     "name": "stdout",
     "output_type": "stream",
     "text": [
      "========== Fold=1 ==========\n",
      "========== Fold=2 ==========\n",
      "========== Fold=3 ==========\n",
      "========== Fold=4 ==========\n",
      "========== Fold=5 ==========\n"
     ]
    },
    {
     "name": "stderr",
     "output_type": "stream",
     "text": [
      "\u001b[32m[I 2023-01-19 21:36:48,860]\u001b[0m Trial 157 finished with value: 0.8513303994583615 and parameters: {'max_depth': 3, 'n_estimators': 359, 'min_child_weight': 0.002467021408412373, 'eta': 0.10903357678654096, 'subsample': 0.44537594567946875, 'colsample_bytree': 0.1361751583125319, 'reg_lambda': 1.4331920656173114}. Best is trial 150 with value: 0.861872037914692.\u001b[0m\n"
     ]
    },
    {
     "name": "stdout",
     "output_type": "stream",
     "text": [
      "========== Fold=1 ==========\n",
      "========== Fold=2 ==========\n",
      "========== Fold=3 ==========\n",
      "========== Fold=4 ==========\n",
      "========== Fold=5 ==========\n"
     ]
    },
    {
     "name": "stderr",
     "output_type": "stream",
     "text": [
      "\u001b[32m[I 2023-01-19 21:36:54,150]\u001b[0m Trial 158 finished with value: 0.8578469871360866 and parameters: {'max_depth': 3, 'n_estimators': 484, 'min_child_weight': 0.5805288867211693, 'eta': 0.043147671387106394, 'subsample': 0.940694357656975, 'colsample_bytree': 0.23154185228116417, 'reg_lambda': 1.3557849267405824}. Best is trial 150 with value: 0.861872037914692.\u001b[0m\n"
     ]
    },
    {
     "name": "stdout",
     "output_type": "stream",
     "text": [
      "========== Fold=1 ==========\n",
      "========== Fold=2 ==========\n",
      "========== Fold=3 ==========\n",
      "========== Fold=4 ==========\n",
      "========== Fold=5 ==========\n"
     ]
    },
    {
     "name": "stderr",
     "output_type": "stream",
     "text": [
      "\u001b[32m[I 2023-01-19 21:36:59,275]\u001b[0m Trial 159 finished with value: 0.8175118483412321 and parameters: {'max_depth': 3, 'n_estimators': 426, 'min_child_weight': 0.5550318743238328, 'eta': 0.020723422404958104, 'subsample': 0.9262604942496254, 'colsample_bytree': 0.22704592006435304, 'reg_lambda': 1.0803569213208024}. Best is trial 150 with value: 0.861872037914692.\u001b[0m\n"
     ]
    },
    {
     "name": "stdout",
     "output_type": "stream",
     "text": [
      "========== Fold=1 ==========\n",
      "========== Fold=2 ==========\n",
      "========== Fold=3 ==========\n",
      "========== Fold=4 ==========\n",
      "========== Fold=5 ==========\n"
     ]
    },
    {
     "name": "stderr",
     "output_type": "stream",
     "text": [
      "\u001b[32m[I 2023-01-19 21:37:03,656]\u001b[0m Trial 160 finished with value: 0.8541841570751523 and parameters: {'max_depth': 3, 'n_estimators': 314, 'min_child_weight': 0.7555139828464581, 'eta': 0.03841508978589102, 'subsample': 0.5535164717236397, 'colsample_bytree': 0.258591154959243, 'reg_lambda': 1.2651839383944277}. Best is trial 150 with value: 0.861872037914692.\u001b[0m\n"
     ]
    },
    {
     "name": "stdout",
     "output_type": "stream",
     "text": [
      "========== Fold=1 ==========\n",
      "========== Fold=2 ==========\n",
      "========== Fold=3 ==========\n",
      "========== Fold=4 ==========\n",
      "========== Fold=5 ==========\n"
     ]
    },
    {
     "name": "stderr",
     "output_type": "stream",
     "text": [
      "\u001b[32m[I 2023-01-19 21:37:07,797]\u001b[0m Trial 161 finished with value: 0.8512559241706161 and parameters: {'max_depth': 3, 'n_estimators': 481, 'min_child_weight': 0.08207088382338902, 'eta': 0.05654775559652581, 'subsample': 0.5184976736870586, 'colsample_bytree': 0.19071241497432664, 'reg_lambda': 1.3284837701266043}. Best is trial 150 with value: 0.861872037914692.\u001b[0m\n"
     ]
    },
    {
     "name": "stdout",
     "output_type": "stream",
     "text": [
      "========== Fold=1 ==========\n",
      "========== Fold=2 ==========\n",
      "========== Fold=3 ==========\n",
      "========== Fold=4 ==========\n",
      "========== Fold=5 ==========\n"
     ]
    },
    {
     "name": "stderr",
     "output_type": "stream",
     "text": [
      "\u001b[32m[I 2023-01-19 21:37:11,665]\u001b[0m Trial 162 finished with value: 0.8624712254570074 and parameters: {'max_depth': 3, 'n_estimators': 382, 'min_child_weight': 0.4594521714961306, 'eta': 0.09186055304284141, 'subsample': 0.9457826508240098, 'colsample_bytree': 0.11501055101123878, 'reg_lambda': 1.3980471016153264}. Best is trial 162 with value: 0.8624712254570074.\u001b[0m\n"
     ]
    },
    {
     "name": "stdout",
     "output_type": "stream",
     "text": [
      "========== Fold=1 ==========\n",
      "========== Fold=2 ==========\n",
      "========== Fold=3 ==========\n",
      "========== Fold=4 ==========\n",
      "========== Fold=5 ==========\n"
     ]
    },
    {
     "name": "stderr",
     "output_type": "stream",
     "text": [
      "\u001b[32m[I 2023-01-19 21:37:14,806]\u001b[0m Trial 163 finished with value: 0.8547291807718348 and parameters: {'max_depth': 3, 'n_estimators': 386, 'min_child_weight': 0.557227665001844, 'eta': 0.08752940507753511, 'subsample': 0.5702321723022283, 'colsample_bytree': 0.23773810105791143, 'reg_lambda': 1.1716215687686944}. Best is trial 162 with value: 0.8624712254570074.\u001b[0m\n"
     ]
    },
    {
     "name": "stdout",
     "output_type": "stream",
     "text": [
      "========== Fold=1 ==========\n",
      "========== Fold=2 ==========\n",
      "========== Fold=3 ==========\n",
      "========== Fold=4 ==========\n",
      "========== Fold=5 ==========\n"
     ]
    },
    {
     "name": "stderr",
     "output_type": "stream",
     "text": [
      "\u001b[32m[I 2023-01-19 21:37:17,370]\u001b[0m Trial 164 finished with value: 0.8531347325660121 and parameters: {'max_depth': 3, 'n_estimators': 468, 'min_child_weight': 0.6109181206639361, 'eta': 0.12843745383570002, 'subsample': 0.9439143947619638, 'colsample_bytree': 0.20378382680330037, 'reg_lambda': 1.0563654480137379}. Best is trial 162 with value: 0.8624712254570074.\u001b[0m\n"
     ]
    },
    {
     "name": "stdout",
     "output_type": "stream",
     "text": [
      "========== Fold=1 ==========\n",
      "========== Fold=2 ==========\n",
      "========== Fold=3 ==========\n",
      "========== Fold=4 ==========\n",
      "========== Fold=5 ==========\n"
     ]
    },
    {
     "name": "stderr",
     "output_type": "stream",
     "text": [
      "\u001b[32m[I 2023-01-19 21:37:21,056]\u001b[0m Trial 165 finished with value: 0.8338930264048748 and parameters: {'max_depth': 3, 'n_estimators': 448, 'min_child_weight': 0.5176744893248013, 'eta': 0.071287661913439, 'subsample': 0.9050085481532534, 'colsample_bytree': 0.10028034201293569, 'reg_lambda': 1.123659383933104}. Best is trial 162 with value: 0.8624712254570074.\u001b[0m\n"
     ]
    },
    {
     "name": "stdout",
     "output_type": "stream",
     "text": [
      "========== Fold=1 ==========\n",
      "========== Fold=2 ==========\n",
      "========== Fold=3 ==========\n",
      "========== Fold=4 ==========\n",
      "========== Fold=5 ==========\n"
     ]
    },
    {
     "name": "stderr",
     "output_type": "stream",
     "text": [
      "\u001b[32m[I 2023-01-19 21:37:23,950]\u001b[0m Trial 166 finished with value: 0.8522444143534191 and parameters: {'max_depth': 3, 'n_estimators': 364, 'min_child_weight': 0.5809550372394319, 'eta': 0.1526659426729236, 'subsample': 0.9630129882189412, 'colsample_bytree': 0.16711519349370443, 'reg_lambda': 1.8795218718095854}. Best is trial 162 with value: 0.8624712254570074.\u001b[0m\n"
     ]
    },
    {
     "name": "stdout",
     "output_type": "stream",
     "text": [
      "========== Fold=1 ==========\n",
      "========== Fold=2 ==========\n",
      "========== Fold=3 ==========\n",
      "========== Fold=4 ==========\n",
      "========== Fold=5 ==========\n"
     ]
    },
    {
     "name": "stderr",
     "output_type": "stream",
     "text": [
      "\u001b[32m[I 2023-01-19 21:37:26,137]\u001b[0m Trial 167 finished with value: 0.8261814488828707 and parameters: {'max_depth': 3, 'n_estimators': 502, 'min_child_weight': 0.4573200252930699, 'eta': 0.5625876300357732, 'subsample': 0.9601818259875037, 'colsample_bytree': 0.15079951435688083, 'reg_lambda': 1.6112377996360463}. Best is trial 162 with value: 0.8624712254570074.\u001b[0m\n"
     ]
    },
    {
     "name": "stdout",
     "output_type": "stream",
     "text": [
      "========== Fold=1 ==========\n",
      "========== Fold=2 ==========\n",
      "========== Fold=3 ==========\n",
      "========== Fold=4 ==========\n",
      "========== Fold=5 ==========\n"
     ]
    },
    {
     "name": "stderr",
     "output_type": "stream",
     "text": [
      "\u001b[32m[I 2023-01-19 21:37:28,933]\u001b[0m Trial 168 finished with value: 0.8178436018957346 and parameters: {'max_depth': 3, 'n_estimators': 419, 'min_child_weight': 0.6192426665621001, 'eta': 0.35965050293975254, 'subsample': 0.8343624706406637, 'colsample_bytree': 0.1162225406289144, 'reg_lambda': 1.000913180558087}. Best is trial 162 with value: 0.8624712254570074.\u001b[0m\n"
     ]
    },
    {
     "name": "stdout",
     "output_type": "stream",
     "text": [
      "========== Fold=1 ==========\n",
      "========== Fold=2 ==========\n",
      "========== Fold=3 ==========\n",
      "========== Fold=4 ==========\n",
      "========== Fold=5 ==========\n"
     ]
    },
    {
     "name": "stderr",
     "output_type": "stream",
     "text": [
      "\u001b[32m[I 2023-01-19 21:37:31,797]\u001b[0m Trial 169 finished with value: 0.8462965470548409 and parameters: {'max_depth': 3, 'n_estimators': 395, 'min_child_weight': 0.13884038556870418, 'eta': 0.10489583379375196, 'subsample': 0.5410804134857352, 'colsample_bytree': 0.7649875428090616, 'reg_lambda': 2.179899870658715}. Best is trial 162 with value: 0.8624712254570074.\u001b[0m\n"
     ]
    },
    {
     "name": "stdout",
     "output_type": "stream",
     "text": [
      "========== Fold=1 ==========\n",
      "========== Fold=2 ==========\n",
      "========== Fold=3 ==========\n",
      "========== Fold=4 ==========\n",
      "========== Fold=5 ==========\n"
     ]
    },
    {
     "name": "stderr",
     "output_type": "stream",
     "text": [
      "\u001b[32m[I 2023-01-19 21:37:35,688]\u001b[0m Trial 170 finished with value: 0.8474746106973594 and parameters: {'max_depth': 3, 'n_estimators': 305, 'min_child_weight': 0.5108389570886933, 'eta': 0.03607548854305704, 'subsample': 0.8885805415588738, 'colsample_bytree': 0.5661276219795388, 'reg_lambda': 1.2279321089950377}. Best is trial 162 with value: 0.8624712254570074.\u001b[0m\n"
     ]
    },
    {
     "name": "stdout",
     "output_type": "stream",
     "text": [
      "========== Fold=1 ==========\n",
      "========== Fold=2 ==========\n",
      "========== Fold=3 ==========\n",
      "========== Fold=4 ==========\n",
      "========== Fold=5 ==========\n"
     ]
    },
    {
     "name": "stderr",
     "output_type": "stream",
     "text": [
      "\u001b[32m[I 2023-01-19 21:37:40,682]\u001b[0m Trial 171 finished with value: 0.8547630331753555 and parameters: {'max_depth': 3, 'n_estimators': 523, 'min_child_weight': 0.6806091440433124, 'eta': 0.0534499734484747, 'subsample': 0.9967211314217796, 'colsample_bytree': 0.1302782655741711, 'reg_lambda': 1.3377492898270742}. Best is trial 162 with value: 0.8624712254570074.\u001b[0m\n"
     ]
    },
    {
     "name": "stdout",
     "output_type": "stream",
     "text": [
      "========== Fold=1 ==========\n",
      "========== Fold=2 ==========\n",
      "========== Fold=3 ==========\n",
      "========== Fold=4 ==========\n",
      "========== Fold=5 ==========\n"
     ]
    },
    {
     "name": "stderr",
     "output_type": "stream",
     "text": [
      "\u001b[32m[I 2023-01-19 21:37:44,989]\u001b[0m Trial 172 finished with value: 0.7884715639810427 and parameters: {'max_depth': 3, 'n_estimators': 345, 'min_child_weight': 0.059292373847379023, 'eta': 0.018799131707678586, 'subsample': 0.488345682573717, 'colsample_bytree': 0.11828728070216314, 'reg_lambda': 1.3839686550100925}. Best is trial 162 with value: 0.8624712254570074.\u001b[0m\n"
     ]
    },
    {
     "name": "stdout",
     "output_type": "stream",
     "text": [
      "========== Fold=1 ==========\n",
      "========== Fold=2 ==========\n",
      "========== Fold=3 ==========\n",
      "========== Fold=4 ==========\n",
      "========== Fold=5 ==========\n"
     ]
    },
    {
     "name": "stderr",
     "output_type": "stream",
     "text": [
      "\u001b[32m[I 2023-01-19 21:37:48,485]\u001b[0m Trial 173 finished with value: 0.8480501015572106 and parameters: {'max_depth': 3, 'n_estimators': 552, 'min_child_weight': 0.030676305342475403, 'eta': 0.07030202303920213, 'subsample': 0.9085692366143938, 'colsample_bytree': 0.13945866855011538, 'reg_lambda': 1.4256304425243678}. Best is trial 162 with value: 0.8624712254570074.\u001b[0m\n"
     ]
    },
    {
     "name": "stdout",
     "output_type": "stream",
     "text": [
      "========== Fold=1 ==========\n",
      "========== Fold=2 ==========\n",
      "========== Fold=3 ==========\n",
      "========== Fold=4 ==========\n",
      "========== Fold=5 ==========\n"
     ]
    },
    {
     "name": "stderr",
     "output_type": "stream",
     "text": [
      "\u001b[32m[I 2023-01-19 21:37:51,541]\u001b[0m Trial 174 finished with value: 0.8393432633716994 and parameters: {'max_depth': 3, 'n_estimators': 695, 'min_child_weight': 0.649725711679801, 'eta': 0.09365923669719942, 'subsample': 0.8559524407348765, 'colsample_bytree': 0.17285882925219637, 'reg_lambda': 1.232591259212135}. Best is trial 162 with value: 0.8624712254570074.\u001b[0m\n"
     ]
    },
    {
     "name": "stdout",
     "output_type": "stream",
     "text": [
      "========== Fold=1 ==========\n",
      "========== Fold=2 ==========\n",
      "========== Fold=3 ==========\n",
      "========== Fold=4 ==========\n",
      "========== Fold=5 ==========\n"
     ]
    },
    {
     "name": "stderr",
     "output_type": "stream",
     "text": [
      "\u001b[32m[I 2023-01-19 21:37:55,344]\u001b[0m Trial 175 finished with value: 0.853171970209885 and parameters: {'max_depth': 3, 'n_estimators': 271, 'min_child_weight': 0.2041507083288949, 'eta': 0.04481099538894182, 'subsample': 0.5178367781131489, 'colsample_bytree': 0.11343461098801369, 'reg_lambda': 1.540652682679363}. Best is trial 162 with value: 0.8624712254570074.\u001b[0m\n"
     ]
    },
    {
     "name": "stdout",
     "output_type": "stream",
     "text": [
      "========== Fold=1 ==========\n",
      "========== Fold=2 ==========\n",
      "========== Fold=3 ==========\n",
      "========== Fold=4 ==========\n",
      "========== Fold=5 ==========\n"
     ]
    },
    {
     "name": "stderr",
     "output_type": "stream",
     "text": [
      "\u001b[32m[I 2023-01-19 21:37:58,797]\u001b[0m Trial 176 finished with value: 0.8587694651320245 and parameters: {'max_depth': 3, 'n_estimators': 622, 'min_child_weight': 0.11285945385176752, 'eta': 0.07004115411782569, 'subsample': 0.4702344696255873, 'colsample_bytree': 0.10041082098036266, 'reg_lambda': 1.1244118599598178}. Best is trial 162 with value: 0.8624712254570074.\u001b[0m\n"
     ]
    },
    {
     "name": "stdout",
     "output_type": "stream",
     "text": [
      "========== Fold=1 ==========\n",
      "========== Fold=2 ==========\n",
      "========== Fold=3 ==========\n",
      "========== Fold=4 ==========\n",
      "========== Fold=5 ==========\n"
     ]
    },
    {
     "name": "stderr",
     "output_type": "stream",
     "text": [
      "\u001b[32m[I 2023-01-19 21:38:02,026]\u001b[0m Trial 177 finished with value: 0.8493635748138118 and parameters: {'max_depth': 3, 'n_estimators': 664, 'min_child_weight': 0.11270859055283836, 'eta': 0.11509351400041626, 'subsample': 0.9374400144695765, 'colsample_bytree': 0.2320836379457772, 'reg_lambda': 1.1182054933788468}. Best is trial 162 with value: 0.8624712254570074.\u001b[0m\n"
     ]
    },
    {
     "name": "stdout",
     "output_type": "stream",
     "text": [
      "========== Fold=1 ==========\n",
      "========== Fold=2 ==========\n",
      "========== Fold=3 ==========\n",
      "========== Fold=4 ==========\n",
      "========== Fold=5 ==========\n"
     ]
    },
    {
     "name": "stderr",
     "output_type": "stream",
     "text": [
      "\u001b[32m[I 2023-01-19 21:38:05,606]\u001b[0m Trial 178 finished with value: 0.8527522004062288 and parameters: {'max_depth': 3, 'n_estimators': 623, 'min_child_weight': 0.47517659844349797, 'eta': 0.08025932320218931, 'subsample': 0.47100424719966993, 'colsample_bytree': 0.2732068576400535, 'reg_lambda': 1.182875746379916}. Best is trial 162 with value: 0.8624712254570074.\u001b[0m\n"
     ]
    },
    {
     "name": "stdout",
     "output_type": "stream",
     "text": [
      "========== Fold=1 ==========\n",
      "========== Fold=2 ==========\n",
      "========== Fold=3 ==========\n",
      "========== Fold=4 ==========\n",
      "========== Fold=5 ==========\n"
     ]
    },
    {
     "name": "stderr",
     "output_type": "stream",
     "text": [
      "\u001b[32m[I 2023-01-19 21:38:09,065]\u001b[0m Trial 179 finished with value: 0.8585003385240352 and parameters: {'max_depth': 3, 'n_estimators': 715, 'min_child_weight': 0.09476932095941171, 'eta': 0.12631509818023023, 'subsample': 0.38460778972865534, 'colsample_bytree': 0.10064538013908958, 'reg_lambda': 1.0790016742610231}. Best is trial 162 with value: 0.8624712254570074.\u001b[0m\n"
     ]
    },
    {
     "name": "stdout",
     "output_type": "stream",
     "text": [
      "========== Fold=1 ==========\n",
      "========== Fold=2 ==========\n",
      "========== Fold=3 ==========\n",
      "========== Fold=4 ==========\n",
      "========== Fold=5 ==========\n"
     ]
    },
    {
     "name": "stderr",
     "output_type": "stream",
     "text": [
      "\u001b[32m[I 2023-01-19 21:38:12,656]\u001b[0m Trial 180 finished with value: 0.8602200406228842 and parameters: {'max_depth': 3, 'n_estimators': 739, 'min_child_weight': 0.0944342425834463, 'eta': 0.09481838183329085, 'subsample': 0.39401173779435084, 'colsample_bytree': 0.1001868577027839, 'reg_lambda': 1.0077587580366791}. Best is trial 162 with value: 0.8624712254570074.\u001b[0m\n"
     ]
    },
    {
     "name": "stdout",
     "output_type": "stream",
     "text": [
      "========== Fold=1 ==========\n",
      "========== Fold=2 ==========\n",
      "========== Fold=3 ==========\n",
      "========== Fold=4 ==========\n",
      "========== Fold=5 ==========\n"
     ]
    },
    {
     "name": "stderr",
     "output_type": "stream",
     "text": [
      "\u001b[32m[I 2023-01-19 21:38:16,019]\u001b[0m Trial 181 finished with value: 0.8570751523358158 and parameters: {'max_depth': 3, 'n_estimators': 746, 'min_child_weight': 0.08925046810209881, 'eta': 0.09660496604072691, 'subsample': 0.4132306000222392, 'colsample_bytree': 0.10074914110649563, 'reg_lambda': 1.010732629755827}. Best is trial 162 with value: 0.8624712254570074.\u001b[0m\n"
     ]
    },
    {
     "name": "stdout",
     "output_type": "stream",
     "text": [
      "========== Fold=1 ==========\n",
      "========== Fold=2 ==========\n",
      "========== Fold=3 ==========\n",
      "========== Fold=4 ==========\n",
      "========== Fold=5 ==========\n"
     ]
    },
    {
     "name": "stderr",
     "output_type": "stream",
     "text": [
      "\u001b[32m[I 2023-01-19 21:38:18,794]\u001b[0m Trial 182 finished with value: 0.8413676371022342 and parameters: {'max_depth': 3, 'n_estimators': 710, 'min_child_weight': 0.07462864746813809, 'eta': 0.13661841367009206, 'subsample': 0.341036890813532, 'colsample_bytree': 0.10002979448820486, 'reg_lambda': 1.0571481001168885}. Best is trial 162 with value: 0.8624712254570074.\u001b[0m\n"
     ]
    },
    {
     "name": "stdout",
     "output_type": "stream",
     "text": [
      "========== Fold=1 ==========\n",
      "========== Fold=2 ==========\n",
      "========== Fold=3 ==========\n",
      "========== Fold=4 ==========\n",
      "========== Fold=5 ==========\n"
     ]
    },
    {
     "name": "stderr",
     "output_type": "stream",
     "text": [
      "\u001b[32m[I 2023-01-19 21:38:22,279]\u001b[0m Trial 183 finished with value: 0.8561475964793501 and parameters: {'max_depth': 3, 'n_estimators': 794, 'min_child_weight': 0.09142136948996119, 'eta': 0.1002356023809948, 'subsample': 0.36475013015541147, 'colsample_bytree': 0.1007890580993955, 'reg_lambda': 1.0121481117386022}. Best is trial 162 with value: 0.8624712254570074.\u001b[0m\n"
     ]
    },
    {
     "name": "stdout",
     "output_type": "stream",
     "text": [
      "========== Fold=1 ==========\n",
      "========== Fold=2 ==========\n",
      "========== Fold=3 ==========\n",
      "========== Fold=4 ==========\n",
      "========== Fold=5 ==========\n"
     ]
    },
    {
     "name": "stderr",
     "output_type": "stream",
     "text": [
      "\u001b[32m[I 2023-01-19 21:38:26,058]\u001b[0m Trial 184 finished with value: 0.8557921462423832 and parameters: {'max_depth': 3, 'n_estimators': 791, 'min_child_weight': 0.12982943867393046, 'eta': 0.09961909920248598, 'subsample': 0.3766880627749619, 'colsample_bytree': 0.10216877620773271, 'reg_lambda': 1.029977506425839}. Best is trial 162 with value: 0.8624712254570074.\u001b[0m\n"
     ]
    },
    {
     "name": "stdout",
     "output_type": "stream",
     "text": [
      "========== Fold=1 ==========\n",
      "========== Fold=2 ==========\n",
      "========== Fold=3 ==========\n",
      "========== Fold=4 ==========\n",
      "========== Fold=5 ==========\n"
     ]
    },
    {
     "name": "stderr",
     "output_type": "stream",
     "text": [
      "\u001b[32m[I 2023-01-19 21:38:29,290]\u001b[0m Trial 185 finished with value: 0.8553723764387271 and parameters: {'max_depth': 3, 'n_estimators': 818, 'min_child_weight': 0.12924552332332104, 'eta': 0.17725998403947696, 'subsample': 0.37851284500441523, 'colsample_bytree': 0.102709810896191, 'reg_lambda': 1.0006270892915101}. Best is trial 162 with value: 0.8624712254570074.\u001b[0m\n"
     ]
    },
    {
     "name": "stdout",
     "output_type": "stream",
     "text": [
      "========== Fold=1 ==========\n",
      "========== Fold=2 ==========\n",
      "========== Fold=3 ==========\n",
      "========== Fold=4 ==========\n",
      "========== Fold=5 ==========\n"
     ]
    },
    {
     "name": "stderr",
     "output_type": "stream",
     "text": [
      "\u001b[32m[I 2023-01-19 21:38:33,053]\u001b[0m Trial 186 finished with value: 0.8514048747461069 and parameters: {'max_depth': 3, 'n_estimators': 794, 'min_child_weight': 0.08302207457201459, 'eta': 0.100658702563182, 'subsample': 0.3617511085750768, 'colsample_bytree': 0.1220423239512492, 'reg_lambda': 1.0958740528318773}. Best is trial 162 with value: 0.8624712254570074.\u001b[0m\n"
     ]
    },
    {
     "name": "stdout",
     "output_type": "stream",
     "text": [
      "========== Fold=1 ==========\n",
      "========== Fold=2 ==========\n",
      "========== Fold=3 ==========\n",
      "========== Fold=4 ==========\n",
      "========== Fold=5 ==========\n"
     ]
    },
    {
     "name": "stderr",
     "output_type": "stream",
     "text": [
      "\u001b[32m[I 2023-01-19 21:38:36,147]\u001b[0m Trial 187 finished with value: 0.8486662153012864 and parameters: {'max_depth': 3, 'n_estimators': 788, 'min_child_weight': 0.14808906282766848, 'eta': 0.12589542481279184, 'subsample': 0.2883370810129914, 'colsample_bytree': 0.10051570770941434, 'reg_lambda': 1.0046479833861486}. Best is trial 162 with value: 0.8624712254570074.\u001b[0m\n"
     ]
    },
    {
     "name": "stdout",
     "output_type": "stream",
     "text": [
      "========== Fold=1 ==========\n",
      "========== Fold=2 ==========\n",
      "========== Fold=3 ==========\n",
      "========== Fold=4 ==========\n",
      "========== Fold=5 ==========\n"
     ]
    },
    {
     "name": "stderr",
     "output_type": "stream",
     "text": [
      "\u001b[32m[I 2023-01-19 21:38:39,611]\u001b[0m Trial 188 finished with value: 0.8501895734597156 and parameters: {'max_depth': 3, 'n_estimators': 776, 'min_child_weight': 0.8866001445284042, 'eta': 0.15214051400501202, 'subsample': 0.3902952124197084, 'colsample_bytree': 0.14040986756212642, 'reg_lambda': 1.079150454453675}. Best is trial 162 with value: 0.8624712254570074.\u001b[0m\n"
     ]
    },
    {
     "name": "stdout",
     "output_type": "stream",
     "text": [
      "========== Fold=1 ==========\n",
      "========== Fold=2 ==========\n",
      "========== Fold=3 ==========\n",
      "========== Fold=4 ==========\n",
      "========== Fold=5 ==========\n"
     ]
    },
    {
     "name": "stderr",
     "output_type": "stream",
     "text": [
      "\u001b[32m[I 2023-01-19 21:38:43,122]\u001b[0m Trial 189 finished with value: 0.8560595802301963 and parameters: {'max_depth': 3, 'n_estimators': 762, 'min_child_weight': 0.05707006845904883, 'eta': 0.09354052481899883, 'subsample': 0.34931173553543865, 'colsample_bytree': 0.11863182017514107, 'reg_lambda': 1.2656488651716886}. Best is trial 162 with value: 0.8624712254570074.\u001b[0m\n"
     ]
    },
    {
     "name": "stdout",
     "output_type": "stream",
     "text": [
      "========== Fold=1 ==========\n",
      "========== Fold=2 ==========\n",
      "========== Fold=3 ==========\n",
      "========== Fold=4 ==========\n",
      "========== Fold=5 ==========\n"
     ]
    },
    {
     "name": "stderr",
     "output_type": "stream",
     "text": [
      "\u001b[32m[I 2023-01-19 21:38:47,492]\u001b[0m Trial 190 finished with value: 0.8564319566689235 and parameters: {'max_depth': 3, 'n_estimators': 747, 'min_child_weight': 0.05753511564247499, 'eta': 0.08465857560727529, 'subsample': 0.33761201627767856, 'colsample_bytree': 0.12274211241882839, 'reg_lambda': 1.2940193574000964}. Best is trial 162 with value: 0.8624712254570074.\u001b[0m\n"
     ]
    },
    {
     "name": "stdout",
     "output_type": "stream",
     "text": [
      "========== Fold=1 ==========\n",
      "========== Fold=2 ==========\n",
      "========== Fold=3 ==========\n",
      "========== Fold=4 ==========\n",
      "========== Fold=5 ==========\n"
     ]
    },
    {
     "name": "stderr",
     "output_type": "stream",
     "text": [
      "\u001b[32m[I 2023-01-19 21:38:50,812]\u001b[0m Trial 191 finished with value: 0.8601658767772512 and parameters: {'max_depth': 3, 'n_estimators': 746, 'min_child_weight': 0.05748778828775793, 'eta': 0.08661319241781876, 'subsample': 0.339735731198691, 'colsample_bytree': 0.12513582287662536, 'reg_lambda': 1.2785068844540954}. Best is trial 162 with value: 0.8624712254570074.\u001b[0m\n"
     ]
    },
    {
     "name": "stdout",
     "output_type": "stream",
     "text": [
      "========== Fold=1 ==========\n",
      "========== Fold=2 ==========\n",
      "========== Fold=3 ==========\n",
      "========== Fold=4 ==========\n",
      "========== Fold=5 ==========\n"
     ]
    },
    {
     "name": "stderr",
     "output_type": "stream",
     "text": [
      "\u001b[32m[I 2023-01-19 21:38:55,264]\u001b[0m Trial 192 finished with value: 0.8610866621530129 and parameters: {'max_depth': 3, 'n_estimators': 752, 'min_child_weight': 0.054407858744242185, 'eta': 0.08465516680514718, 'subsample': 0.3211946752328233, 'colsample_bytree': 0.12622425123742195, 'reg_lambda': 1.302029931807839}. Best is trial 162 with value: 0.8624712254570074.\u001b[0m\n"
     ]
    },
    {
     "name": "stdout",
     "output_type": "stream",
     "text": [
      "========== Fold=1 ==========\n",
      "========== Fold=2 ==========\n",
      "========== Fold=3 ==========\n",
      "========== Fold=4 ==========\n",
      "========== Fold=5 ==========\n"
     ]
    },
    {
     "name": "stderr",
     "output_type": "stream",
     "text": [
      "\u001b[32m[I 2023-01-19 21:38:59,865]\u001b[0m Trial 193 finished with value: 0.8542924847664184 and parameters: {'max_depth': 3, 'n_estimators': 731, 'min_child_weight': 0.06727615997325594, 'eta': 0.07387724019282009, 'subsample': 0.31732197413356805, 'colsample_bytree': 0.1368341000102245, 'reg_lambda': 1.3026937332735795}. Best is trial 162 with value: 0.8624712254570074.\u001b[0m\n"
     ]
    },
    {
     "name": "stdout",
     "output_type": "stream",
     "text": [
      "========== Fold=1 ==========\n",
      "========== Fold=2 ==========\n",
      "========== Fold=3 ==========\n",
      "========== Fold=4 ==========\n",
      "========== Fold=5 ==========\n"
     ]
    },
    {
     "name": "stderr",
     "output_type": "stream",
     "text": [
      "\u001b[32m[I 2023-01-19 21:39:03,889]\u001b[0m Trial 194 finished with value: 0.8469397427217332 and parameters: {'max_depth': 3, 'n_estimators': 837, 'min_child_weight': 0.09365297493362226, 'eta': 0.08461352855717967, 'subsample': 0.282399044710827, 'colsample_bytree': 0.15482710749257475, 'reg_lambda': 1.1769590618657824}. Best is trial 162 with value: 0.8624712254570074.\u001b[0m\n"
     ]
    },
    {
     "name": "stdout",
     "output_type": "stream",
     "text": [
      "========== Fold=1 ==========\n",
      "========== Fold=2 ==========\n",
      "========== Fold=3 ==========\n",
      "========== Fold=4 ==========\n",
      "========== Fold=5 ==========\n"
     ]
    },
    {
     "name": "stderr",
     "output_type": "stream",
     "text": [
      "\u001b[32m[I 2023-01-19 21:39:07,209]\u001b[0m Trial 195 finished with value: 0.8027014218009478 and parameters: {'max_depth': 3, 'n_estimators': 742, 'min_child_weight': 0.4030103536418793, 'eta': 0.5306045195994615, 'subsample': 0.39969737808563266, 'colsample_bytree': 0.12815786657432024, 'reg_lambda': 1.3364653222761216}. Best is trial 162 with value: 0.8624712254570074.\u001b[0m\n"
     ]
    },
    {
     "name": "stdout",
     "output_type": "stream",
     "text": [
      "========== Fold=1 ==========\n",
      "========== Fold=2 ==========\n",
      "========== Fold=3 ==========\n",
      "========== Fold=4 ==========\n",
      "========== Fold=5 ==========\n"
     ]
    },
    {
     "name": "stderr",
     "output_type": "stream",
     "text": [
      "\u001b[32m[I 2023-01-19 21:39:11,790]\u001b[0m Trial 196 finished with value: 0.862136086662153 and parameters: {'max_depth': 3, 'n_estimators': 751, 'min_child_weight': 0.052204363524147576, 'eta': 0.1082027261076173, 'subsample': 0.31577987571181165, 'colsample_bytree': 0.1192027906392828, 'reg_lambda': 1.2414939883654175}. Best is trial 162 with value: 0.8624712254570074.\u001b[0m\n"
     ]
    },
    {
     "name": "stdout",
     "output_type": "stream",
     "text": [
      "========== Fold=1 ==========\n",
      "========== Fold=2 ==========\n",
      "========== Fold=3 ==========\n",
      "========== Fold=4 ==========\n",
      "========== Fold=5 ==========\n"
     ]
    },
    {
     "name": "stderr",
     "output_type": "stream",
     "text": [
      "\u001b[32m[I 2023-01-19 21:39:15,698]\u001b[0m Trial 197 finished with value: 0.8522207176709545 and parameters: {'max_depth': 3, 'n_estimators': 756, 'min_child_weight': 0.04912551695419409, 'eta': 0.0666901899765211, 'subsample': 0.3028226591642778, 'colsample_bytree': 0.15050439921617365, 'reg_lambda': 1.267043528171513}. Best is trial 162 with value: 0.8624712254570074.\u001b[0m\n"
     ]
    },
    {
     "name": "stdout",
     "output_type": "stream",
     "text": [
      "========== Fold=1 ==========\n",
      "========== Fold=2 ==========\n",
      "========== Fold=3 ==========\n",
      "========== Fold=4 ==========\n",
      "========== Fold=5 ==========\n"
     ]
    },
    {
     "name": "stderr",
     "output_type": "stream",
     "text": [
      "\u001b[32m[I 2023-01-19 21:39:18,874]\u001b[0m Trial 198 finished with value: 0.8488185511171292 and parameters: {'max_depth': 3, 'n_estimators': 723, 'min_child_weight': 0.06041195479578512, 'eta': 0.13289157773740218, 'subsample': 0.33240743644250664, 'colsample_bytree': 0.12743636273985423, 'reg_lambda': 1.4097581968698156}. Best is trial 162 with value: 0.8624712254570074.\u001b[0m\n"
     ]
    },
    {
     "name": "stdout",
     "output_type": "stream",
     "text": [
      "========== Fold=1 ==========\n",
      "========== Fold=2 ==========\n",
      "========== Fold=3 ==========\n",
      "========== Fold=4 ==========\n",
      "========== Fold=5 ==========\n"
     ]
    },
    {
     "name": "stderr",
     "output_type": "stream",
     "text": [
      "\u001b[32m[I 2023-01-19 21:39:22,616]\u001b[0m Trial 199 finished with value: 0.8540622884224781 and parameters: {'max_depth': 3, 'n_estimators': 746, 'min_child_weight': 0.07668402509286149, 'eta': 0.11360737027543175, 'subsample': 0.32589497143280755, 'colsample_bytree': 0.13907729798450577, 'reg_lambda': 1.1537122773561534}. Best is trial 162 with value: 0.8624712254570074.\u001b[0m\n"
     ]
    },
    {
     "name": "stdout",
     "output_type": "stream",
     "text": [
      "========== Fold=1 ==========\n",
      "========== Fold=2 ==========\n",
      "========== Fold=3 ==========\n",
      "========== Fold=4 ==========\n",
      "========== Fold=5 ==========\n"
     ]
    },
    {
     "name": "stderr",
     "output_type": "stream",
     "text": [
      "\u001b[32m[I 2023-01-19 21:39:26,469]\u001b[0m Trial 200 finished with value: 0.8512762356127286 and parameters: {'max_depth': 3, 'n_estimators': 722, 'min_child_weight': 0.027169780406081673, 'eta': 0.08211354384261577, 'subsample': 0.27346895639146496, 'colsample_bytree': 0.11549450273337256, 'reg_lambda': 1.470325003206634}. Best is trial 162 with value: 0.8624712254570074.\u001b[0m\n"
     ]
    },
    {
     "name": "stdout",
     "output_type": "stream",
     "text": [
      "========== Fold=1 ==========\n",
      "========== Fold=2 ==========\n",
      "========== Fold=3 ==========\n",
      "========== Fold=4 ==========\n",
      "========== Fold=5 ==========\n"
     ]
    },
    {
     "name": "stderr",
     "output_type": "stream",
     "text": [
      "\u001b[32m[I 2023-01-19 21:39:30,858]\u001b[0m Trial 201 finished with value: 0.8607989167230874 and parameters: {'max_depth': 3, 'n_estimators': 773, 'min_child_weight': 0.09569968516361826, 'eta': 0.10242208658953035, 'subsample': 0.31491735250464153, 'colsample_bytree': 0.1003214460211815, 'reg_lambda': 1.2188600619383891}. Best is trial 162 with value: 0.8624712254570074.\u001b[0m\n"
     ]
    },
    {
     "name": "stdout",
     "output_type": "stream",
     "text": [
      "========== Fold=1 ==========\n",
      "========== Fold=2 ==========\n",
      "========== Fold=3 ==========\n",
      "========== Fold=4 ==========\n",
      "========== Fold=5 ==========\n"
     ]
    },
    {
     "name": "stderr",
     "output_type": "stream",
     "text": [
      "\u001b[32m[I 2023-01-19 21:39:35,109]\u001b[0m Trial 202 finished with value: 0.8532092078537576 and parameters: {'max_depth': 3, 'n_estimators': 766, 'min_child_weight': 0.42445762891482036, 'eta': 0.0684436964657141, 'subsample': 0.25964362215645415, 'colsample_bytree': 0.11918933593110705, 'reg_lambda': 1.3051909246200037}. Best is trial 162 with value: 0.8624712254570074.\u001b[0m\n"
     ]
    },
    {
     "name": "stdout",
     "output_type": "stream",
     "text": [
      "========== Fold=1 ==========\n",
      "========== Fold=2 ==========\n",
      "========== Fold=3 ==========\n",
      "========== Fold=4 ==========\n",
      "========== Fold=5 ==========\n"
     ]
    },
    {
     "name": "stderr",
     "output_type": "stream",
     "text": [
      "\u001b[32m[I 2023-01-19 21:39:39,097]\u001b[0m Trial 203 finished with value: 0.8547190250507787 and parameters: {'max_depth': 3, 'n_estimators': 748, 'min_child_weight': 0.09388939559429388, 'eta': 0.10598817749455935, 'subsample': 0.308689981466951, 'colsample_bytree': 0.13710924032131755, 'reg_lambda': 1.2172050644814272}. Best is trial 162 with value: 0.8624712254570074.\u001b[0m\n"
     ]
    },
    {
     "name": "stdout",
     "output_type": "stream",
     "text": [
      "========== Fold=1 ==========\n",
      "========== Fold=2 ==========\n",
      "========== Fold=3 ==========\n",
      "========== Fold=4 ==========\n",
      "========== Fold=5 ==========\n"
     ]
    },
    {
     "name": "stderr",
     "output_type": "stream",
     "text": [
      "\u001b[32m[I 2023-01-19 21:39:44,126]\u001b[0m Trial 204 finished with value: 0.8491807718348002 and parameters: {'max_depth': 3, 'n_estimators': 718, 'min_child_weight': 0.042163479844227886, 'eta': 0.04586387546459479, 'subsample': 0.30596333493427186, 'colsample_bytree': 0.1172425823496401, 'reg_lambda': 1.145980257147274}. Best is trial 162 with value: 0.8624712254570074.\u001b[0m\n"
     ]
    },
    {
     "name": "stdout",
     "output_type": "stream",
     "text": [
      "========== Fold=1 ==========\n",
      "========== Fold=2 ==========\n",
      "========== Fold=3 ==========\n",
      "========== Fold=4 ==========\n",
      "========== Fold=5 ==========\n"
     ]
    },
    {
     "name": "stderr",
     "output_type": "stream",
     "text": [
      "\u001b[32m[I 2023-01-19 21:39:46,671]\u001b[0m Trial 205 finished with value: 0.835260663507109 and parameters: {'max_depth': 3, 'n_estimators': 678, 'min_child_weight': 0.07125214288170101, 'eta': 0.13841834008832132, 'subsample': 0.22722078639570786, 'colsample_bytree': 0.15758392038435687, 'reg_lambda': 1.3400577069202677}. Best is trial 162 with value: 0.8624712254570074.\u001b[0m\n"
     ]
    },
    {
     "name": "stdout",
     "output_type": "stream",
     "text": [
      "========== Fold=1 ==========\n",
      "========== Fold=2 ==========\n",
      "========== Fold=3 ==========\n",
      "========== Fold=4 ==========\n",
      "========== Fold=5 ==========\n"
     ]
    },
    {
     "name": "stderr",
     "output_type": "stream",
     "text": [
      "\u001b[32m[I 2023-01-19 21:39:50,453]\u001b[0m Trial 206 finished with value: 0.8531178063642518 and parameters: {'max_depth': 3, 'n_estimators': 767, 'min_child_weight': 0.0980326142507945, 'eta': 0.08895436631971854, 'subsample': 0.3551471281915581, 'colsample_bytree': 0.12862217556963432, 'reg_lambda': 1.2370214871445386}. Best is trial 162 with value: 0.8624712254570074.\u001b[0m\n"
     ]
    },
    {
     "name": "stdout",
     "output_type": "stream",
     "text": [
      "========== Fold=1 ==========\n",
      "========== Fold=2 ==========\n",
      "========== Fold=3 ==========\n",
      "========== Fold=4 ==========\n",
      "========== Fold=5 ==========\n"
     ]
    },
    {
     "name": "stderr",
     "output_type": "stream",
     "text": [
      "\u001b[32m[I 2023-01-19 21:39:53,968]\u001b[0m Trial 207 finished with value: 0.8565368991198374 and parameters: {'max_depth': 3, 'n_estimators': 810, 'min_child_weight': 0.11827026356285852, 'eta': 0.12330893783229224, 'subsample': 0.42247604690052715, 'colsample_bytree': 0.10002778033221707, 'reg_lambda': 1.126909857470709}. Best is trial 162 with value: 0.8624712254570074.\u001b[0m\n"
     ]
    },
    {
     "name": "stdout",
     "output_type": "stream",
     "text": [
      "========== Fold=1 ==========\n",
      "========== Fold=2 ==========\n",
      "========== Fold=3 ==========\n",
      "========== Fold=4 ==========\n",
      "========== Fold=5 ==========\n"
     ]
    },
    {
     "name": "stderr",
     "output_type": "stream",
     "text": [
      "\u001b[32m[I 2023-01-19 21:39:57,338]\u001b[0m Trial 208 finished with value: 0.8502098849018281 and parameters: {'max_depth': 3, 'n_estimators': 371, 'min_child_weight': 0.11311307709494539, 'eta': 0.15341023454110464, 'subsample': 0.4204937811623002, 'colsample_bytree': 0.10112824138708888, 'reg_lambda': 1.108508265709614}. Best is trial 162 with value: 0.8624712254570074.\u001b[0m\n"
     ]
    },
    {
     "name": "stdout",
     "output_type": "stream",
     "text": [
      "========== Fold=1 ==========\n",
      "========== Fold=2 ==========\n",
      "========== Fold=3 ==========\n",
      "========== Fold=4 ==========\n",
      "========== Fold=5 ==========\n"
     ]
    },
    {
     "name": "stderr",
     "output_type": "stream",
     "text": [
      "\u001b[32m[I 2023-01-19 21:40:01,052]\u001b[0m Trial 209 finished with value: 0.8516790792146243 and parameters: {'max_depth': 3, 'n_estimators': 783, 'min_child_weight': 0.06408366201066144, 'eta': 0.11064713845805552, 'subsample': 0.41388497639511623, 'colsample_bytree': 0.14928017936584376, 'reg_lambda': 3.3610284152206247}. Best is trial 162 with value: 0.8624712254570074.\u001b[0m\n"
     ]
    },
    {
     "name": "stdout",
     "output_type": "stream",
     "text": [
      "========== Fold=1 ==========\n",
      "========== Fold=2 ==========\n",
      "========== Fold=3 ==========\n",
      "========== Fold=4 ==========\n",
      "========== Fold=5 ==========\n"
     ]
    },
    {
     "name": "stderr",
     "output_type": "stream",
     "text": [
      "\u001b[32m[I 2023-01-19 21:40:05,937]\u001b[0m Trial 210 finished with value: 0.762550778605281 and parameters: {'max_depth': 8, 'n_estimators': 738, 'min_child_weight': 0.05116652940022681, 'eta': 0.12118205567211726, 'subsample': 0.38143071032387055, 'colsample_bytree': 0.12222260785227917, 'reg_lambda': 1.136195816974286}. Best is trial 162 with value: 0.8624712254570074.\u001b[0m\n"
     ]
    },
    {
     "name": "stdout",
     "output_type": "stream",
     "text": [
      "========== Fold=1 ==========\n",
      "========== Fold=2 ==========\n",
      "========== Fold=3 ==========\n",
      "========== Fold=4 ==========\n",
      "========== Fold=5 ==========\n"
     ]
    },
    {
     "name": "stderr",
     "output_type": "stream",
     "text": [
      "\u001b[32m[I 2023-01-19 21:40:09,519]\u001b[0m Trial 211 finished with value: 0.853747461069736 and parameters: {'max_depth': 3, 'n_estimators': 335, 'min_child_weight': 0.16206457264452037, 'eta': 0.08665649127220536, 'subsample': 0.3389024831265486, 'colsample_bytree': 0.11315744065736529, 'reg_lambda': 1.2347749087682893}. Best is trial 162 with value: 0.8624712254570074.\u001b[0m\n"
     ]
    },
    {
     "name": "stdout",
     "output_type": "stream",
     "text": [
      "========== Fold=1 ==========\n",
      "========== Fold=2 ==========\n",
      "========== Fold=3 ==========\n",
      "========== Fold=4 ==========\n",
      "========== Fold=5 ==========\n"
     ]
    },
    {
     "name": "stderr",
     "output_type": "stream",
     "text": [
      "\u001b[32m[I 2023-01-19 21:40:13,296]\u001b[0m Trial 212 finished with value: 0.8461848341232227 and parameters: {'max_depth': 3, 'n_estimators': 816, 'min_child_weight': 0.07987078838145381, 'eta': 0.05661116154526261, 'subsample': 0.4008277118400514, 'colsample_bytree': 0.10267734126318867, 'reg_lambda': 1.3709078704252924}. Best is trial 162 with value: 0.8624712254570074.\u001b[0m\n"
     ]
    },
    {
     "name": "stdout",
     "output_type": "stream",
     "text": [
      "========== Fold=1 ==========\n",
      "========== Fold=2 ==========\n",
      "========== Fold=3 ==========\n",
      "========== Fold=4 ==========\n",
      "========== Fold=5 ==========\n"
     ]
    },
    {
     "name": "stderr",
     "output_type": "stream",
     "text": [
      "\u001b[32m[I 2023-01-19 21:40:16,696]\u001b[0m Trial 213 finished with value: 0.8166790792146241 and parameters: {'max_depth': 3, 'n_estimators': 753, 'min_child_weight': 0.12664057110109836, 'eta': 0.07163812329778592, 'subsample': 0.3558908495756209, 'colsample_bytree': 0.13486601947947477, 'reg_lambda': 1.2841519381918227}. Best is trial 162 with value: 0.8624712254570074.\u001b[0m\n"
     ]
    },
    {
     "name": "stdout",
     "output_type": "stream",
     "text": [
      "========== Fold=1 ==========\n",
      "========== Fold=2 ==========\n",
      "========== Fold=3 ==========\n",
      "========== Fold=4 ==========\n",
      "========== Fold=5 ==========\n"
     ]
    },
    {
     "name": "stderr",
     "output_type": "stream",
     "text": [
      "\u001b[32m[I 2023-01-19 21:40:20,189]\u001b[0m Trial 214 finished with value: 0.8529079214624238 and parameters: {'max_depth': 3, 'n_estimators': 705, 'min_child_weight': 0.11089504503769228, 'eta': 0.10335760334450386, 'subsample': 0.44186373245359334, 'colsample_bytree': 0.10042617275587273, 'reg_lambda': 1.1828249435025942}. Best is trial 162 with value: 0.8624712254570074.\u001b[0m\n"
     ]
    },
    {
     "name": "stdout",
     "output_type": "stream",
     "text": [
      "========== Fold=1 ==========\n",
      "========== Fold=2 ==========\n",
      "========== Fold=3 ==========\n",
      "========== Fold=4 ==========\n",
      "========== Fold=5 ==========\n"
     ]
    },
    {
     "name": "stderr",
     "output_type": "stream",
     "text": [
      "\u001b[32m[I 2023-01-19 21:40:23,928]\u001b[0m Trial 215 finished with value: 0.8614048747461068 and parameters: {'max_depth': 3, 'n_estimators': 803, 'min_child_weight': 0.7536595152140873, 'eta': 0.13455058975168405, 'subsample': 0.32554916087643454, 'colsample_bytree': 0.11742951796627366, 'reg_lambda': 1.1128608143165395}. Best is trial 162 with value: 0.8624712254570074.\u001b[0m\n"
     ]
    },
    {
     "name": "stdout",
     "output_type": "stream",
     "text": [
      "========== Fold=1 ==========\n",
      "========== Fold=2 ==========\n",
      "========== Fold=3 ==========\n",
      "========== Fold=4 ==========\n",
      "========== Fold=5 ==========\n"
     ]
    },
    {
     "name": "stderr",
     "output_type": "stream",
     "text": [
      "\u001b[32m[I 2023-01-19 21:40:27,337]\u001b[0m Trial 216 finished with value: 0.8362660798916723 and parameters: {'max_depth': 3, 'n_estimators': 854, 'min_child_weight': 0.03985793543135566, 'eta': 0.13132617975001834, 'subsample': 0.3107840970062593, 'colsample_bytree': 0.1584970849206417, 'reg_lambda': 1.08567483752742}. Best is trial 162 with value: 0.8624712254570074.\u001b[0m\n"
     ]
    },
    {
     "name": "stdout",
     "output_type": "stream",
     "text": [
      "========== Fold=1 ==========\n",
      "========== Fold=2 ==========\n",
      "========== Fold=3 ==========\n",
      "========== Fold=4 ==========\n",
      "========== Fold=5 ==========\n"
     ]
    },
    {
     "name": "stderr",
     "output_type": "stream",
     "text": [
      "\u001b[32m[I 2023-01-19 21:40:30,655]\u001b[0m Trial 217 finished with value: 0.855467163168585 and parameters: {'max_depth': 3, 'n_estimators': 824, 'min_child_weight': 0.7562379346586364, 'eta': 0.1643136269351479, 'subsample': 0.32401307432661325, 'colsample_bytree': 0.13064189345937569, 'reg_lambda': 1.0975364690861857}. Best is trial 162 with value: 0.8624712254570074.\u001b[0m\n"
     ]
    },
    {
     "name": "stdout",
     "output_type": "stream",
     "text": [
      "========== Fold=1 ==========\n",
      "========== Fold=2 ==========\n",
      "========== Fold=3 ==========\n",
      "========== Fold=4 ==========\n",
      "========== Fold=5 ==========\n"
     ]
    },
    {
     "name": "stderr",
     "output_type": "stream",
     "text": [
      "\u001b[32m[I 2023-01-19 21:40:34,959]\u001b[0m Trial 218 finished with value: 0.854529451591063 and parameters: {'max_depth': 3, 'n_estimators': 802, 'min_child_weight': 0.7360586604808238, 'eta': 0.13693575955101808, 'subsample': 0.3384310766094304, 'colsample_bytree': 0.1220059050136614, 'reg_lambda': 1.1773148833613938}. Best is trial 162 with value: 0.8624712254570074.\u001b[0m\n"
     ]
    },
    {
     "name": "stdout",
     "output_type": "stream",
     "text": [
      "========== Fold=1 ==========\n",
      "========== Fold=2 ==========\n",
      "========== Fold=3 ==========\n",
      "========== Fold=4 ==========\n",
      "========== Fold=5 ==========\n"
     ]
    },
    {
     "name": "stderr",
     "output_type": "stream",
     "text": [
      "\u001b[32m[I 2023-01-19 21:40:38,174]\u001b[0m Trial 219 finished with value: 0.841303317535545 and parameters: {'max_depth': 3, 'n_estimators': 780, 'min_child_weight': 0.08593161088994737, 'eta': 0.11935977218401878, 'subsample': 0.29871617919897414, 'colsample_bytree': 0.14455025840873312, 'reg_lambda': 1.5123673348467122}. Best is trial 162 with value: 0.8624712254570074.\u001b[0m\n"
     ]
    },
    {
     "name": "stdout",
     "output_type": "stream",
     "text": [
      "========== Fold=1 ==========\n",
      "========== Fold=2 ==========\n",
      "========== Fold=3 ==========\n",
      "========== Fold=4 ==========\n",
      "========== Fold=5 ==========\n"
     ]
    },
    {
     "name": "stderr",
     "output_type": "stream",
     "text": [
      "\u001b[32m[I 2023-01-19 21:40:41,636]\u001b[0m Trial 220 finished with value: 0.8569092755585647 and parameters: {'max_depth': 3, 'n_estimators': 408, 'min_child_weight': 0.8049650217157152, 'eta': 0.08855065417174961, 'subsample': 0.39085020769512463, 'colsample_bytree': 0.11672284062305976, 'reg_lambda': 1.4236906303179988}. Best is trial 162 with value: 0.8624712254570074.\u001b[0m\n"
     ]
    },
    {
     "name": "stdout",
     "output_type": "stream",
     "text": [
      "========== Fold=1 ==========\n",
      "========== Fold=2 ==========\n",
      "========== Fold=3 ==========\n",
      "========== Fold=4 ==========\n",
      "========== Fold=5 ==========\n"
     ]
    },
    {
     "name": "stderr",
     "output_type": "stream",
     "text": [
      "\u001b[32m[I 2023-01-19 21:40:45,394]\u001b[0m Trial 221 finished with value: 0.8510798916723088 and parameters: {'max_depth': 3, 'n_estimators': 398, 'min_child_weight': 0.7937915325388338, 'eta': 0.08526701988722583, 'subsample': 0.3981462885689013, 'colsample_bytree': 0.11609812700193245, 'reg_lambda': 1.426094516987625}. Best is trial 162 with value: 0.8624712254570074.\u001b[0m\n"
     ]
    },
    {
     "name": "stdout",
     "output_type": "stream",
     "text": [
      "========== Fold=1 ==========\n",
      "========== Fold=2 ==========\n",
      "========== Fold=3 ==========\n",
      "========== Fold=4 ==========\n",
      "========== Fold=5 ==========\n"
     ]
    },
    {
     "name": "stderr",
     "output_type": "stream",
     "text": [
      "\u001b[32m[I 2023-01-19 21:40:48,605]\u001b[0m Trial 222 finished with value: 0.8525287745429926 and parameters: {'max_depth': 3, 'n_estimators': 378, 'min_child_weight': 0.8318592869143386, 'eta': 0.10193605974095453, 'subsample': 0.36636857967718545, 'colsample_bytree': 0.13926245745670715, 'reg_lambda': 1.3126811322475729}. Best is trial 162 with value: 0.8624712254570074.\u001b[0m\n"
     ]
    },
    {
     "name": "stdout",
     "output_type": "stream",
     "text": [
      "========== Fold=1 ==========\n",
      "========== Fold=2 ==========\n",
      "========== Fold=3 ==========\n",
      "========== Fold=4 ==========\n",
      "========== Fold=5 ==========\n"
     ]
    },
    {
     "name": "stderr",
     "output_type": "stream",
     "text": [
      "\u001b[32m[I 2023-01-19 21:40:52,533]\u001b[0m Trial 223 finished with value: 0.8527928232904537 and parameters: {'max_depth': 3, 'n_estimators': 734, 'min_child_weight': 0.06183055801141134, 'eta': 0.12467641308953002, 'subsample': 0.4339067248402681, 'colsample_bytree': 0.1187000738172494, 'reg_lambda': 1.0872110675479882}. Best is trial 162 with value: 0.8624712254570074.\u001b[0m\n"
     ]
    },
    {
     "name": "stdout",
     "output_type": "stream",
     "text": [
      "========== Fold=1 ==========\n",
      "========== Fold=2 ==========\n",
      "========== Fold=3 ==========\n",
      "========== Fold=4 ==========\n",
      "========== Fold=5 ==========\n"
     ]
    },
    {
     "name": "stderr",
     "output_type": "stream",
     "text": [
      "\u001b[32m[I 2023-01-19 21:40:55,548]\u001b[0m Trial 224 finished with value: 0.8447461069735951 and parameters: {'max_depth': 3, 'n_estimators': 421, 'min_child_weight': 0.818732971041792, 'eta': 0.09358839145283694, 'subsample': 0.4148833980861391, 'colsample_bytree': 0.9012065748388418, 'reg_lambda': 1.196972562461338}. Best is trial 162 with value: 0.8624712254570074.\u001b[0m\n"
     ]
    },
    {
     "name": "stdout",
     "output_type": "stream",
     "text": [
      "========== Fold=1 ==========\n",
      "========== Fold=2 ==========\n",
      "========== Fold=3 ==========\n",
      "========== Fold=4 ==========\n",
      "========== Fold=5 ==========\n"
     ]
    },
    {
     "name": "stderr",
     "output_type": "stream",
     "text": [
      "\u001b[32m[I 2023-01-19 21:40:59,241]\u001b[0m Trial 225 finished with value: 0.8505450236966824 and parameters: {'max_depth': 3, 'n_estimators': 359, 'min_child_weight': 0.7936329823694507, 'eta': 0.06990310789512742, 'subsample': 0.37765360581534146, 'colsample_bytree': 0.1638549995845404, 'reg_lambda': 2.0297385081335135}. Best is trial 162 with value: 0.8624712254570074.\u001b[0m\n"
     ]
    },
    {
     "name": "stdout",
     "output_type": "stream",
     "text": [
      "========== Fold=1 ==========\n",
      "========== Fold=2 ==========\n",
      "========== Fold=3 ==========\n",
      "========== Fold=4 ==========\n",
      "========== Fold=5 ==========\n"
     ]
    },
    {
     "name": "stderr",
     "output_type": "stream",
     "text": [
      "\u001b[32m[I 2023-01-19 21:41:02,131]\u001b[0m Trial 226 finished with value: 0.8308259986459039 and parameters: {'max_depth': 3, 'n_estimators': 769, 'min_child_weight': 0.5337467267290752, 'eta': 0.1462513682538047, 'subsample': 0.31995272666623203, 'colsample_bytree': 0.252453047668562, 'reg_lambda': 1.5616804967462101}. Best is trial 162 with value: 0.8624712254570074.\u001b[0m\n"
     ]
    },
    {
     "name": "stdout",
     "output_type": "stream",
     "text": [
      "========== Fold=1 ==========\n",
      "========== Fold=2 ==========\n",
      "========== Fold=3 ==========\n",
      "========== Fold=4 ==========\n",
      "========== Fold=5 ==========\n"
     ]
    },
    {
     "name": "stderr",
     "output_type": "stream",
     "text": [
      "\u001b[32m[I 2023-01-19 21:41:05,316]\u001b[0m Trial 227 finished with value: 0.859529451591063 and parameters: {'max_depth': 3, 'n_estimators': 409, 'min_child_weight': 0.8501377911463093, 'eta': 0.11095797018750701, 'subsample': 0.3910208870951174, 'colsample_bytree': 0.10078050636202227, 'reg_lambda': 1.7094708395085947}. Best is trial 162 with value: 0.8624712254570074.\u001b[0m\n"
     ]
    },
    {
     "name": "stdout",
     "output_type": "stream",
     "text": [
      "========== Fold=1 ==========\n",
      "========== Fold=2 ==========\n",
      "========== Fold=3 ==========\n",
      "========== Fold=4 ==========\n",
      "========== Fold=5 ==========\n"
     ]
    },
    {
     "name": "stderr",
     "output_type": "stream",
     "text": [
      "\u001b[32m[I 2023-01-19 21:41:08,879]\u001b[0m Trial 228 finished with value: 0.8542789438050101 and parameters: {'max_depth': 3, 'n_estimators': 408, 'min_child_weight': 0.8812379920440808, 'eta': 0.10981644960912361, 'subsample': 0.42366888587180423, 'colsample_bytree': 0.12755890560459415, 'reg_lambda': 1.6678626121777493}. Best is trial 162 with value: 0.8624712254570074.\u001b[0m\n"
     ]
    },
    {
     "name": "stdout",
     "output_type": "stream",
     "text": [
      "========== Fold=1 ==========\n",
      "========== Fold=2 ==========\n",
      "========== Fold=3 ==========\n",
      "========== Fold=4 ==========\n",
      "========== Fold=5 ==========\n"
     ]
    },
    {
     "name": "stderr",
     "output_type": "stream",
     "text": [
      "\u001b[32m[I 2023-01-19 21:41:12,010]\u001b[0m Trial 229 finished with value: 0.8552200406228844 and parameters: {'max_depth': 3, 'n_estimators': 439, 'min_child_weight': 0.8178971407447084, 'eta': 0.12340340458841365, 'subsample': 0.393075937130544, 'colsample_bytree': 0.14287313178286765, 'reg_lambda': 1.405950074320177}. Best is trial 162 with value: 0.8624712254570074.\u001b[0m\n"
     ]
    },
    {
     "name": "stdout",
     "output_type": "stream",
     "text": [
      "========== Fold=1 ==========\n",
      "========== Fold=2 ==========\n",
      "========== Fold=3 ==========\n",
      "========== Fold=4 ==========\n",
      "========== Fold=5 ==========\n"
     ]
    },
    {
     "name": "stderr",
     "output_type": "stream",
     "text": [
      "\u001b[32m[I 2023-01-19 21:41:15,595]\u001b[0m Trial 230 finished with value: 0.8557887610020312 and parameters: {'max_depth': 3, 'n_estimators': 389, 'min_child_weight': 0.7825359281519092, 'eta': 0.09349580123622599, 'subsample': 0.34879974832561117, 'colsample_bytree': 0.1154989559783591, 'reg_lambda': 1.9076561035334445}. Best is trial 162 with value: 0.8624712254570074.\u001b[0m\n"
     ]
    },
    {
     "name": "stdout",
     "output_type": "stream",
     "text": [
      "========== Fold=1 ==========\n",
      "========== Fold=2 ==========\n",
      "========== Fold=3 ==========\n",
      "========== Fold=4 ==========\n",
      "========== Fold=5 ==========\n"
     ]
    },
    {
     "name": "stderr",
     "output_type": "stream",
     "text": [
      "\u001b[32m[I 2023-01-19 21:41:19,349]\u001b[0m Trial 231 finished with value: 0.8506872037914693 and parameters: {'max_depth': 3, 'n_estimators': 414, 'min_child_weight': 0.8506430282530774, 'eta': 0.058071329797796487, 'subsample': 0.37826983662653435, 'colsample_bytree': 0.1011972055895019, 'reg_lambda': 1.832204024204438}. Best is trial 162 with value: 0.8624712254570074.\u001b[0m\n"
     ]
    },
    {
     "name": "stdout",
     "output_type": "stream",
     "text": [
      "========== Fold=1 ==========\n",
      "========== Fold=2 ==========\n",
      "========== Fold=3 ==========\n",
      "========== Fold=4 ==========\n",
      "========== Fold=5 ==========\n"
     ]
    },
    {
     "name": "stderr",
     "output_type": "stream",
     "text": [
      "\u001b[32m[I 2023-01-19 21:41:23,428]\u001b[0m Trial 232 finished with value: 0.8581144211238999 and parameters: {'max_depth': 3, 'n_estimators': 383, 'min_child_weight': 0.8616980860260358, 'eta': 0.08568045094859106, 'subsample': 0.3433202777168523, 'colsample_bytree': 0.1157213807333628, 'reg_lambda': 1.722411604146116}. Best is trial 162 with value: 0.8624712254570074.\u001b[0m\n"
     ]
    },
    {
     "name": "stdout",
     "output_type": "stream",
     "text": [
      "========== Fold=1 ==========\n",
      "========== Fold=2 ==========\n",
      "========== Fold=3 ==========\n",
      "========== Fold=4 ==========\n",
      "========== Fold=5 ==========\n"
     ]
    },
    {
     "name": "stderr",
     "output_type": "stream",
     "text": [
      "\u001b[32m[I 2023-01-19 21:41:27,098]\u001b[0m Trial 233 finished with value: 0.8570548408937034 and parameters: {'max_depth': 3, 'n_estimators': 379, 'min_child_weight': 0.8817571103423368, 'eta': 0.08089454799480893, 'subsample': 0.34568217461314193, 'colsample_bytree': 0.11855901767779407, 'reg_lambda': 1.7709434236313126}. Best is trial 162 with value: 0.8624712254570074.\u001b[0m\n"
     ]
    },
    {
     "name": "stdout",
     "output_type": "stream",
     "text": [
      "========== Fold=1 ==========\n",
      "========== Fold=2 ==========\n",
      "========== Fold=3 ==========\n",
      "========== Fold=4 ==========\n",
      "========== Fold=5 ==========\n"
     ]
    },
    {
     "name": "stderr",
     "output_type": "stream",
     "text": [
      "\u001b[32m[I 2023-01-19 21:41:30,790]\u001b[0m Trial 234 finished with value: 0.85437711577522 and parameters: {'max_depth': 3, 'n_estimators': 367, 'min_child_weight': 0.8522252192939268, 'eta': 0.10796781901819535, 'subsample': 0.35339203116307044, 'colsample_bytree': 0.13325198971634403, 'reg_lambda': 1.7353730891566286}. Best is trial 162 with value: 0.8624712254570074.\u001b[0m\n"
     ]
    },
    {
     "name": "stdout",
     "output_type": "stream",
     "text": [
      "========== Fold=1 ==========\n",
      "========== Fold=2 ==========\n",
      "========== Fold=3 ==========\n",
      "========== Fold=4 ==========\n",
      "========== Fold=5 ==========\n"
     ]
    },
    {
     "name": "stderr",
     "output_type": "stream",
     "text": [
      "\u001b[32m[I 2023-01-19 21:41:34,415]\u001b[0m Trial 235 finished with value: 0.855253893026405 and parameters: {'max_depth': 3, 'n_estimators': 388, 'min_child_weight': 0.85818477476544, 'eta': 0.07925581864418052, 'subsample': 0.36557112925240953, 'colsample_bytree': 0.11506098491749772, 'reg_lambda': 1.976779311369873}. Best is trial 162 with value: 0.8624712254570074.\u001b[0m\n"
     ]
    },
    {
     "name": "stdout",
     "output_type": "stream",
     "text": [
      "========== Fold=1 ==========\n",
      "========== Fold=2 ==========\n",
      "========== Fold=3 ==========\n",
      "========== Fold=4 ==========\n",
      "========== Fold=5 ==========\n"
     ]
    },
    {
     "name": "stderr",
     "output_type": "stream",
     "text": [
      "\u001b[32m[I 2023-01-19 21:41:37,558]\u001b[0m Trial 236 finished with value: 0.8456838185511171 and parameters: {'max_depth': 3, 'n_estimators': 331, 'min_child_weight': 0.8929732133148447, 'eta': 0.14464924783285005, 'subsample': 0.3210958252115809, 'colsample_bytree': 0.14851261310639657, 'reg_lambda': 1.7325262271180175}. Best is trial 162 with value: 0.8624712254570074.\u001b[0m\n"
     ]
    },
    {
     "name": "stdout",
     "output_type": "stream",
     "text": [
      "========== Fold=1 ==========\n",
      "========== Fold=2 ==========\n",
      "========== Fold=3 ==========\n",
      "========== Fold=4 ==========\n",
      "========== Fold=5 ==========\n"
     ]
    },
    {
     "name": "stderr",
     "output_type": "stream",
     "text": [
      "\u001b[32m[I 2023-01-19 21:41:40,925]\u001b[0m Trial 237 finished with value: 0.8554671631685851 and parameters: {'max_depth': 3, 'n_estimators': 378, 'min_child_weight': 0.8660714182434565, 'eta': 0.11446887977765954, 'subsample': 0.2692413575986319, 'colsample_bytree': 0.10422326966985697, 'reg_lambda': 1.710495636940972}. Best is trial 162 with value: 0.8624712254570074.\u001b[0m\n"
     ]
    },
    {
     "name": "stdout",
     "output_type": "stream",
     "text": [
      "========== Fold=1 ==========\n",
      "========== Fold=2 ==========\n",
      "========== Fold=3 ==========\n",
      "========== Fold=4 ==========\n",
      "========== Fold=5 ==========\n"
     ]
    },
    {
     "name": "stderr",
     "output_type": "stream",
     "text": [
      "\u001b[32m[I 2023-01-19 21:41:44,470]\u001b[0m Trial 238 finished with value: 0.8555856465809071 and parameters: {'max_depth': 3, 'n_estimators': 407, 'min_child_weight': 0.8421284549913809, 'eta': 0.09669459350007845, 'subsample': 0.4065469232968455, 'colsample_bytree': 0.1302849920703213, 'reg_lambda': 1.6141957966184879}. Best is trial 162 with value: 0.8624712254570074.\u001b[0m\n"
     ]
    },
    {
     "name": "stdout",
     "output_type": "stream",
     "text": [
      "========== Fold=1 ==========\n",
      "========== Fold=2 ==========\n",
      "========== Fold=3 ==========\n",
      "========== Fold=4 ==========\n",
      "========== Fold=5 ==========\n"
     ]
    },
    {
     "name": "stderr",
     "output_type": "stream",
     "text": [
      "\u001b[32m[I 2023-01-19 21:41:48,425]\u001b[0m Trial 239 finished with value: 0.8490385917400135 and parameters: {'max_depth': 3, 'n_estimators': 352, 'min_child_weight': 0.8188602496431622, 'eta': 0.0709567143056941, 'subsample': 0.38288472700146453, 'colsample_bytree': 0.11505799029578208, 'reg_lambda': 1.8392578045336918}. Best is trial 162 with value: 0.8624712254570074.\u001b[0m\n"
     ]
    },
    {
     "name": "stdout",
     "output_type": "stream",
     "text": [
      "========== Fold=1 ==========\n",
      "========== Fold=2 ==========\n",
      "========== Fold=3 ==========\n",
      "========== Fold=4 ==========\n",
      "========== Fold=5 ==========\n"
     ]
    },
    {
     "name": "stderr",
     "output_type": "stream",
     "text": [
      "\u001b[32m[I 2023-01-19 21:41:51,616]\u001b[0m Trial 240 finished with value: 0.8540893703452945 and parameters: {'max_depth': 3, 'n_estimators': 431, 'min_child_weight': 0.8336551547169756, 'eta': 0.13131871216168975, 'subsample': 0.8060249087470799, 'colsample_bytree': 0.5177745293808135, 'reg_lambda': 1.0676292786199646}. Best is trial 162 with value: 0.8624712254570074.\u001b[0m\n"
     ]
    },
    {
     "name": "stdout",
     "output_type": "stream",
     "text": [
      "========== Fold=1 ==========\n",
      "========== Fold=2 ==========\n",
      "========== Fold=3 ==========\n",
      "========== Fold=4 ==========\n",
      "========== Fold=5 ==========\n"
     ]
    },
    {
     "name": "stderr",
     "output_type": "stream",
     "text": [
      "\u001b[32m[I 2023-01-19 21:41:55,508]\u001b[0m Trial 241 finished with value: 0.852814827352742 and parameters: {'max_depth': 3, 'n_estimators': 397, 'min_child_weight': 0.8628900958169919, 'eta': 0.07993085916742693, 'subsample': 0.2962823231427936, 'colsample_bytree': 0.12178985917939732, 'reg_lambda': 1.7810063869116208}. Best is trial 162 with value: 0.8624712254570074.\u001b[0m\n"
     ]
    },
    {
     "name": "stdout",
     "output_type": "stream",
     "text": [
      "========== Fold=1 ==========\n",
      "========== Fold=2 ==========\n",
      "========== Fold=3 ==========\n",
      "========== Fold=4 ==========\n",
      "========== Fold=5 ==========\n"
     ]
    },
    {
     "name": "stderr",
     "output_type": "stream",
     "text": [
      "\u001b[32m[I 2023-01-19 21:41:59,046]\u001b[0m Trial 242 finished with value: 0.8539505754908598 and parameters: {'max_depth': 3, 'n_estimators': 812, 'min_child_weight': 0.8979525498741451, 'eta': 0.08679751913675472, 'subsample': 0.35287501243128816, 'colsample_bytree': 0.10321976598527668, 'reg_lambda': 1.59976614525956}. Best is trial 162 with value: 0.8624712254570074.\u001b[0m\n"
     ]
    },
    {
     "name": "stdout",
     "output_type": "stream",
     "text": [
      "========== Fold=1 ==========\n",
      "========== Fold=2 ==========\n",
      "========== Fold=3 ==========\n",
      "========== Fold=4 ==========\n",
      "========== Fold=5 ==========\n"
     ]
    },
    {
     "name": "stderr",
     "output_type": "stream",
     "text": [
      "\u001b[32m[I 2023-01-19 21:42:02,790]\u001b[0m Trial 243 finished with value: 0.8581584292484766 and parameters: {'max_depth': 3, 'n_estimators': 748, 'min_child_weight': 0.07908084631538309, 'eta': 0.10163139284144893, 'subsample': 0.33574480651768784, 'colsample_bytree': 0.13278018534866118, 'reg_lambda': 1.337577938498207}. Best is trial 162 with value: 0.8624712254570074.\u001b[0m\n"
     ]
    },
    {
     "name": "stdout",
     "output_type": "stream",
     "text": [
      "========== Fold=1 ==========\n",
      "========== Fold=2 ==========\n",
      "========== Fold=3 ==========\n",
      "========== Fold=4 ==========\n",
      "========== Fold=5 ==========\n"
     ]
    },
    {
     "name": "stderr",
     "output_type": "stream",
     "text": [
      "\u001b[32m[I 2023-01-19 21:42:06,936]\u001b[0m Trial 244 finished with value: 0.856668923493568 and parameters: {'max_depth': 3, 'n_estimators': 468, 'min_child_weight': 0.08401408537963663, 'eta': 0.1027632448123156, 'subsample': 0.32711842702152083, 'colsample_bytree': 0.10104432381975519, 'reg_lambda': 1.9544304831212964}. Best is trial 162 with value: 0.8624712254570074.\u001b[0m\n"
     ]
    },
    {
     "name": "stdout",
     "output_type": "stream",
     "text": [
      "========== Fold=1 ==========\n",
      "========== Fold=2 ==========\n",
      "========== Fold=3 ==========\n",
      "========== Fold=4 ==========\n",
      "========== Fold=5 ==========\n"
     ]
    },
    {
     "name": "stderr",
     "output_type": "stream",
     "text": [
      "\u001b[32m[I 2023-01-19 21:42:10,510]\u001b[0m Trial 245 finished with value: 0.8524069058903181 and parameters: {'max_depth': 3, 'n_estimators': 485, 'min_child_weight': 0.8829163283522722, 'eta': 0.10470578076492348, 'subsample': 0.32790085508347283, 'colsample_bytree': 0.14298029698990855, 'reg_lambda': 1.9390356721805166}. Best is trial 162 with value: 0.8624712254570074.\u001b[0m\n"
     ]
    },
    {
     "name": "stdout",
     "output_type": "stream",
     "text": [
      "========== Fold=1 ==========\n",
      "========== Fold=2 ==========\n",
      "========== Fold=3 ==========\n",
      "========== Fold=4 ==========\n",
      "========== Fold=5 ==========\n"
     ]
    },
    {
     "name": "stderr",
     "output_type": "stream",
     "text": [
      "\u001b[32m[I 2023-01-19 21:42:15,363]\u001b[0m Trial 246 finished with value: 0.8550744752877455 and parameters: {'max_depth': 3, 'n_estimators': 458, 'min_child_weight': 0.07660152509139996, 'eta': 0.05751894367759504, 'subsample': 0.3442374387287089, 'colsample_bytree': 0.16586655304353892, 'reg_lambda': 2.0994461986564645}. Best is trial 162 with value: 0.8624712254570074.\u001b[0m\n"
     ]
    },
    {
     "name": "stdout",
     "output_type": "stream",
     "text": [
      "========== Fold=1 ==========\n",
      "========== Fold=2 ==========\n",
      "========== Fold=3 ==========\n",
      "========== Fold=4 ==========\n",
      "========== Fold=5 ==========\n"
     ]
    },
    {
     "name": "stderr",
     "output_type": "stream",
     "text": [
      "\u001b[32m[I 2023-01-19 21:42:19,644]\u001b[0m Trial 247 finished with value: 0.8524373730534868 and parameters: {'max_depth': 3, 'n_estimators': 449, 'min_child_weight': 0.8728472195210465, 'eta': 0.10006067031476125, 'subsample': 0.3128379559286372, 'colsample_bytree': 0.1340131301010337, 'reg_lambda': 1.9238054065743637}. Best is trial 162 with value: 0.8624712254570074.\u001b[0m\n"
     ]
    },
    {
     "name": "stdout",
     "output_type": "stream",
     "text": [
      "========== Fold=1 ==========\n",
      "========== Fold=2 ==========\n",
      "========== Fold=3 ==========\n",
      "========== Fold=4 ==========\n",
      "========== Fold=5 ==========\n"
     ]
    },
    {
     "name": "stderr",
     "output_type": "stream",
     "text": [
      "\u001b[32m[I 2023-01-19 21:42:23,724]\u001b[0m Trial 248 finished with value: 0.850473933649289 and parameters: {'max_depth': 3, 'n_estimators': 463, 'min_child_weight': 0.07741006365114361, 'eta': 0.06675274407889786, 'subsample': 0.28891970480681217, 'colsample_bytree': 0.11824777743325635, 'reg_lambda': 1.8323047031364}. Best is trial 162 with value: 0.8624712254570074.\u001b[0m\n"
     ]
    },
    {
     "name": "stdout",
     "output_type": "stream",
     "text": [
      "========== Fold=1 ==========\n",
      "========== Fold=2 ==========\n",
      "========== Fold=3 ==========\n",
      "========== Fold=4 ==========\n",
      "========== Fold=5 ==========\n"
     ]
    },
    {
     "name": "stderr",
     "output_type": "stream",
     "text": [
      "\u001b[32m[I 2023-01-19 21:42:27,092]\u001b[0m Trial 249 finished with value: 0.8557786052809749 and parameters: {'max_depth': 3, 'n_estimators': 432, 'min_child_weight': 0.09780847881109364, 'eta': 0.11793608801489404, 'subsample': 0.3276266960084301, 'colsample_bytree': 0.10064378248194782, 'reg_lambda': 2.0121914489649204}. Best is trial 162 with value: 0.8624712254570074.\u001b[0m\n"
     ]
    },
    {
     "name": "stdout",
     "output_type": "stream",
     "text": [
      "========== Fold=1 ==========\n",
      "========== Fold=2 ==========\n",
      "========== Fold=3 ==========\n",
      "========== Fold=4 ==========\n",
      "========== Fold=5 ==========\n"
     ]
    },
    {
     "name": "stderr",
     "output_type": "stream",
     "text": [
      "\u001b[32m[I 2023-01-19 21:42:30,264]\u001b[0m Trial 250 finished with value: 0.8511882193635747 and parameters: {'max_depth': 3, 'n_estimators': 410, 'min_child_weight': 0.6491526121867082, 'eta': 0.09555002965858918, 'subsample': 0.36500981835916646, 'colsample_bytree': 0.150859056311124, 'reg_lambda': 3.2386956716021644}. Best is trial 162 with value: 0.8624712254570074.\u001b[0m\n"
     ]
    },
    {
     "name": "stdout",
     "output_type": "stream",
     "text": [
      "========== Fold=1 ==========\n",
      "========== Fold=2 ==========\n",
      "========== Fold=3 ==========\n",
      "========== Fold=4 ==========\n",
      "========== Fold=5 ==========\n"
     ]
    },
    {
     "name": "stderr",
     "output_type": "stream",
     "text": [
      "\u001b[32m[I 2023-01-19 21:42:32,115]\u001b[0m Trial 251 finished with value: 0.826667230873392 and parameters: {'max_depth': 3, 'n_estimators': 377, 'min_child_weight': 0.02953577244528316, 'eta': 0.6975667347746501, 'subsample': 0.9742926106259854, 'colsample_bytree': 0.2662485667506796, 'reg_lambda': 1.4487955601717442}. Best is trial 162 with value: 0.8624712254570074.\u001b[0m\n"
     ]
    },
    {
     "name": "stdout",
     "output_type": "stream",
     "text": [
      "========== Fold=1 ==========\n",
      "========== Fold=2 ==========\n",
      "========== Fold=3 ==========\n",
      "========== Fold=4 ==========\n",
      "========== Fold=5 ==========\n"
     ]
    },
    {
     "name": "stderr",
     "output_type": "stream",
     "text": [
      "\u001b[32m[I 2023-01-19 21:42:37,356]\u001b[0m Trial 252 finished with value: 0.8480060934326337 and parameters: {'max_depth': 3, 'n_estimators': 478, 'min_child_weight': 0.04422036027056134, 'eta': 0.05498528588168774, 'subsample': 0.3358061715790707, 'colsample_bytree': 0.12980131597388003, 'reg_lambda': 4.973861111201422}. Best is trial 162 with value: 0.8624712254570074.\u001b[0m\n"
     ]
    },
    {
     "name": "stdout",
     "output_type": "stream",
     "text": [
      "========== Fold=1 ==========\n",
      "========== Fold=2 ==========\n",
      "========== Fold=3 ==========\n",
      "========== Fold=4 ==========\n",
      "========== Fold=5 ==========\n"
     ]
    },
    {
     "name": "stderr",
     "output_type": "stream",
     "text": [
      "\u001b[32m[I 2023-01-19 21:42:40,647]\u001b[0m Trial 253 finished with value: 0.8324678402166553 and parameters: {'max_depth': 3, 'n_estimators': 351, 'min_child_weight': 0.06259985633197011, 'eta': 0.07940865470101482, 'subsample': 0.30922693023974973, 'colsample_bytree': 0.2852548634709598, 'reg_lambda': 1.5229880525111443}. Best is trial 162 with value: 0.8624712254570074.\u001b[0m\n"
     ]
    },
    {
     "name": "stdout",
     "output_type": "stream",
     "text": [
      "========== Fold=1 ==========\n",
      "========== Fold=2 ==========\n",
      "========== Fold=3 ==========\n",
      "========== Fold=4 ==========\n",
      "========== Fold=5 ==========\n"
     ]
    },
    {
     "name": "stderr",
     "output_type": "stream",
     "text": [
      "\u001b[32m[I 2023-01-19 21:42:43,191]\u001b[0m Trial 254 finished with value: 0.8470988490182801 and parameters: {'max_depth': 3, 'n_estimators': 725, 'min_child_weight': 0.49057737833421455, 'eta': 0.11318843845184949, 'subsample': 0.3469483433399997, 'colsample_bytree': 0.6870966690945322, 'reg_lambda': 1.7955759116777017}. Best is trial 162 with value: 0.8624712254570074.\u001b[0m\n"
     ]
    },
    {
     "name": "stdout",
     "output_type": "stream",
     "text": [
      "========== Fold=1 ==========\n",
      "========== Fold=2 ==========\n",
      "========== Fold=3 ==========\n",
      "========== Fold=4 ==========\n",
      "========== Fold=5 ==========\n"
     ]
    },
    {
     "name": "stderr",
     "output_type": "stream",
     "text": [
      "\u001b[32m[I 2023-01-19 21:42:46,806]\u001b[0m Trial 255 finished with value: 0.8533276912660799 and parameters: {'max_depth': 3, 'n_estimators': 611, 'min_child_weight': 0.08779795159185122, 'eta': 0.1615969359880396, 'subsample': 0.9477994557597567, 'colsample_bytree': 0.11767554668958081, 'reg_lambda': 1.3522164995026076}. Best is trial 162 with value: 0.8624712254570074.\u001b[0m\n"
     ]
    },
    {
     "name": "stdout",
     "output_type": "stream",
     "text": [
      "========== Fold=1 ==========\n",
      "========== Fold=2 ==========\n",
      "========== Fold=3 ==========\n",
      "========== Fold=4 ==========\n",
      "========== Fold=5 ==========\n"
     ]
    },
    {
     "name": "stderr",
     "output_type": "stream",
     "text": [
      "\u001b[32m[I 2023-01-19 21:42:49,656]\u001b[0m Trial 256 finished with value: 0.8422139471902506 and parameters: {'max_depth': 3, 'n_estimators': 764, 'min_child_weight': 0.8028426578081188, 'eta': 0.13779064650470946, 'subsample': 0.38692560167788714, 'colsample_bytree': 0.21210420426842538, 'reg_lambda': 1.0169793099248883}. Best is trial 162 with value: 0.8624712254570074.\u001b[0m\n"
     ]
    },
    {
     "name": "stdout",
     "output_type": "stream",
     "text": [
      "========== Fold=1 ==========\n",
      "========== Fold=2 ==========\n",
      "========== Fold=3 ==========\n",
      "========== Fold=4 ==========\n",
      "========== Fold=5 ==========\n"
     ]
    },
    {
     "name": "stderr",
     "output_type": "stream",
     "text": [
      "\u001b[32m[I 2023-01-19 21:42:54,435]\u001b[0m Trial 257 finished with value: 0.8535037237643873 and parameters: {'max_depth': 3, 'n_estimators': 637, 'min_child_weight': 0.06764249281977186, 'eta': 0.07144888659403603, 'subsample': 0.3291427464890089, 'colsample_bytree': 0.14040132045281492, 'reg_lambda': 1.668680741251039}. Best is trial 162 with value: 0.8624712254570074.\u001b[0m\n"
     ]
    },
    {
     "name": "stdout",
     "output_type": "stream",
     "text": [
      "========== Fold=1 ==========\n",
      "========== Fold=2 ==========\n",
      "========== Fold=3 ==========\n",
      "========== Fold=4 ==========\n",
      "========== Fold=5 ==========\n"
     ]
    },
    {
     "name": "stderr",
     "output_type": "stream",
     "text": [
      "\u001b[32m[I 2023-01-19 21:42:58,227]\u001b[0m Trial 258 finished with value: 0.8512356127285038 and parameters: {'max_depth': 3, 'n_estimators': 423, 'min_child_weight': 0.01790045216478045, 'eta': 0.04741698771441241, 'subsample': 0.28959500432821983, 'colsample_bytree': 0.6140734041487487, 'reg_lambda': 1.2699465804199348}. Best is trial 162 with value: 0.8624712254570074.\u001b[0m\n"
     ]
    },
    {
     "name": "stdout",
     "output_type": "stream",
     "text": [
      "========== Fold=1 ==========\n",
      "========== Fold=2 ==========\n",
      "========== Fold=3 ==========\n",
      "========== Fold=4 ==========\n",
      "========== Fold=5 ==========\n"
     ]
    },
    {
     "name": "stderr",
     "output_type": "stream",
     "text": [
      "\u001b[32m[I 2023-01-19 21:43:01,145]\u001b[0m Trial 259 finished with value: 0.8163168584969533 and parameters: {'max_depth': 3, 'n_estimators': 367, 'min_child_weight': 0.04727912032156903, 'eta': 0.47297620018772013, 'subsample': 0.4587335744651948, 'colsample_bytree': 0.11619206004266809, 'reg_lambda': 3.0298569941054043}. Best is trial 162 with value: 0.8624712254570074.\u001b[0m\n"
     ]
    },
    {
     "name": "stdout",
     "output_type": "stream",
     "text": [
      "========== Fold=1 ==========\n",
      "========== Fold=2 ==========\n",
      "========== Fold=3 ==========\n",
      "========== Fold=4 ==========\n",
      "========== Fold=5 ==========\n"
     ]
    },
    {
     "name": "stderr",
     "output_type": "stream",
     "text": [
      "\u001b[32m[I 2023-01-19 21:43:04,606]\u001b[0m Trial 260 finished with value: 0.8585815842924847 and parameters: {'max_depth': 3, 'n_estimators': 397, 'min_child_weight': 0.08756145296030514, 'eta': 0.09440525778976387, 'subsample': 0.3920931107383614, 'colsample_bytree': 0.10184821133399333, 'reg_lambda': 1.1358283934125863}. Best is trial 162 with value: 0.8624712254570074.\u001b[0m\n"
     ]
    },
    {
     "name": "stdout",
     "output_type": "stream",
     "text": [
      "========== Fold=1 ==========\n",
      "========== Fold=2 ==========\n",
      "========== Fold=3 ==========\n",
      "========== Fold=4 ==========\n",
      "========== Fold=5 ==========\n"
     ]
    },
    {
     "name": "stderr",
     "output_type": "stream",
     "text": [
      "\u001b[32m[I 2023-01-19 21:43:08,799]\u001b[0m Trial 261 finished with value: 0.8561069735951253 and parameters: {'max_depth': 3, 'n_estimators': 394, 'min_child_weight': 0.05824158588767579, 'eta': 0.08434375405107261, 'subsample': 0.40096997416477953, 'colsample_bytree': 0.15977564068120836, 'reg_lambda': 1.1788452402098388}. Best is trial 162 with value: 0.8624712254570074.\u001b[0m\n"
     ]
    },
    {
     "name": "stdout",
     "output_type": "stream",
     "text": [
      "========== Fold=1 ==========\n",
      "========== Fold=2 ==========\n",
      "========== Fold=3 ==========\n",
      "========== Fold=4 ==========\n",
      "========== Fold=5 ==========\n"
     ]
    },
    {
     "name": "stderr",
     "output_type": "stream",
     "text": [
      "\u001b[32m[I 2023-01-19 21:43:13,318]\u001b[0m Trial 262 finished with value: 0.849427894380501 and parameters: {'max_depth': 3, 'n_estimators': 327, 'min_child_weight': 0.7774706498294646, 'eta': 0.04653339106315336, 'subsample': 0.36851874888413955, 'colsample_bytree': 0.13118724992908032, 'reg_lambda': 3.4296950766505296}. Best is trial 162 with value: 0.8624712254570074.\u001b[0m\n"
     ]
    },
    {
     "name": "stdout",
     "output_type": "stream",
     "text": [
      "========== Fold=1 ==========\n",
      "========== Fold=2 ==========\n",
      "========== Fold=3 ==========\n",
      "========== Fold=4 ==========\n",
      "========== Fold=5 ==========\n"
     ]
    },
    {
     "name": "stderr",
     "output_type": "stream",
     "text": [
      "\u001b[32m[I 2023-01-19 21:43:16,951]\u001b[0m Trial 263 finished with value: 0.8547664184157076 and parameters: {'max_depth': 3, 'n_estimators': 389, 'min_child_weight': 0.09519678188527766, 'eta': 0.09061316221314619, 'subsample': 0.38348263290507295, 'colsample_bytree': 0.100914737583237, 'reg_lambda': 1.11031860467035}. Best is trial 162 with value: 0.8624712254570074.\u001b[0m\n"
     ]
    },
    {
     "name": "stdout",
     "output_type": "stream",
     "text": [
      "========== Fold=1 ==========\n",
      "========== Fold=2 ==========\n",
      "========== Fold=3 ==========\n",
      "========== Fold=4 ==========\n",
      "========== Fold=5 ==========\n"
     ]
    },
    {
     "name": "stderr",
     "output_type": "stream",
     "text": [
      "\u001b[32m[I 2023-01-19 21:43:19,661]\u001b[0m Trial 264 finished with value: 0.8198307379823967 and parameters: {'max_depth': 3, 'n_estimators': 749, 'min_child_weight': 0.38469996432293607, 'eta': 0.12990292940067893, 'subsample': 0.40155429297473744, 'colsample_bytree': 0.23685245688993048, 'reg_lambda': 1.3587596973802432}. Best is trial 162 with value: 0.8624712254570074.\u001b[0m\n"
     ]
    },
    {
     "name": "stdout",
     "output_type": "stream",
     "text": [
      "========== Fold=1 ==========\n",
      "========== Fold=2 ==========\n",
      "========== Fold=3 ==========\n",
      "========== Fold=4 ==========\n",
      "========== Fold=5 ==========\n"
     ]
    },
    {
     "name": "stderr",
     "output_type": "stream",
     "text": [
      "\u001b[32m[I 2023-01-19 21:43:23,604]\u001b[0m Trial 265 finished with value: 0.8475626269465132 and parameters: {'max_depth': 3, 'n_estimators': 351, 'min_child_weight': 0.8671986729375463, 'eta': 0.06596818656662332, 'subsample': 0.4418465725778467, 'colsample_bytree': 0.14948495820486296, 'reg_lambda': 1.2245055205569446}. Best is trial 162 with value: 0.8624712254570074.\u001b[0m\n"
     ]
    },
    {
     "name": "stdout",
     "output_type": "stream",
     "text": [
      "========== Fold=1 ==========\n",
      "========== Fold=2 ==========\n",
      "========== Fold=3 ==========\n",
      "========== Fold=4 ==========\n",
      "========== Fold=5 ==========\n"
     ]
    },
    {
     "name": "stderr",
     "output_type": "stream",
     "text": [
      "\u001b[32m[I 2023-01-19 21:43:27,185]\u001b[0m Trial 266 finished with value: 0.84208192281652 and parameters: {'max_depth': 3, 'n_estimators': 409, 'min_child_weight': 0.09676473563994463, 'eta': 0.11397816237522755, 'subsample': 0.3528449514005167, 'colsample_bytree': 0.12358171262783174, 'reg_lambda': 1.0019700563882643}. Best is trial 162 with value: 0.8624712254570074.\u001b[0m\n"
     ]
    },
    {
     "name": "stdout",
     "output_type": "stream",
     "text": [
      "========== Fold=1 ==========\n",
      "========== Fold=2 ==========\n",
      "========== Fold=3 ==========\n",
      "========== Fold=4 ==========\n",
      "========== Fold=5 ==========\n"
     ]
    },
    {
     "name": "stderr",
     "output_type": "stream",
     "text": [
      "\u001b[32m[I 2023-01-19 21:43:30,164]\u001b[0m Trial 267 finished with value: 0.84708192281652 and parameters: {'max_depth': 3, 'n_estimators': 293, 'min_child_weight': 0.43544239777870086, 'eta': 0.09280907606961107, 'subsample': 0.8637736129932837, 'colsample_bytree': 0.1749616533032892, 'reg_lambda': 1.13426465420353}. Best is trial 162 with value: 0.8624712254570074.\u001b[0m\n"
     ]
    },
    {
     "name": "stdout",
     "output_type": "stream",
     "text": [
      "========== Fold=1 ==========\n",
      "========== Fold=2 ==========\n",
      "========== Fold=3 ==========\n",
      "========== Fold=4 ==========\n",
      "========== Fold=5 ==========\n"
     ]
    },
    {
     "name": "stderr",
     "output_type": "stream",
     "text": [
      "\u001b[32m[I 2023-01-19 21:43:34,030]\u001b[0m Trial 268 finished with value: 0.8502301963439405 and parameters: {'max_depth': 3, 'n_estimators': 714, 'min_child_weight': 0.07132772188154404, 'eta': 0.06426573250805845, 'subsample': 0.24532374145300073, 'colsample_bytree': 0.1175234618691967, 'reg_lambda': 1.439521578498172}. Best is trial 162 with value: 0.8624712254570074.\u001b[0m\n"
     ]
    },
    {
     "name": "stdout",
     "output_type": "stream",
     "text": [
      "========== Fold=1 ==========\n",
      "========== Fold=2 ==========\n",
      "========== Fold=3 ==========\n",
      "========== Fold=4 ==========\n",
      "========== Fold=5 ==========\n"
     ]
    },
    {
     "name": "stderr",
     "output_type": "stream",
     "text": [
      "\u001b[32m[I 2023-01-19 21:43:40,578]\u001b[0m Trial 269 finished with value: 0.8529857819905213 and parameters: {'max_depth': 3, 'n_estimators': 770, 'min_child_weight': 0.10686004176635107, 'eta': 0.030594965478132563, 'subsample': 0.9114798547511628, 'colsample_bytree': 0.13356058160615572, 'reg_lambda': 3.1181516084622842}. Best is trial 162 with value: 0.8624712254570074.\u001b[0m\n"
     ]
    },
    {
     "name": "stdout",
     "output_type": "stream",
     "text": [
      "========== Fold=1 ==========\n",
      "========== Fold=2 ==========\n",
      "========== Fold=3 ==========\n",
      "========== Fold=4 ==========\n",
      "========== Fold=5 ==========\n"
     ]
    },
    {
     "name": "stderr",
     "output_type": "stream",
     "text": [
      "\u001b[32m[I 2023-01-19 21:43:43,347]\u001b[0m Trial 270 finished with value: 0.836980365605958 and parameters: {'max_depth': 3, 'n_estimators': 732, 'min_child_weight': 0.04242465210107534, 'eta': 0.32991558189169423, 'subsample': 0.42517861097335136, 'colsample_bytree': 0.11790102142806815, 'reg_lambda': 1.2922098727187719}. Best is trial 162 with value: 0.8624712254570074.\u001b[0m\n"
     ]
    },
    {
     "name": "stdout",
     "output_type": "stream",
     "text": [
      "========== Fold=1 ==========\n",
      "========== Fold=2 ==========\n",
      "========== Fold=3 ==========\n",
      "========== Fold=4 ==========\n",
      "========== Fold=5 ==========\n"
     ]
    },
    {
     "name": "stderr",
     "output_type": "stream",
     "text": [
      "\u001b[32m[I 2023-01-19 21:43:46,469]\u001b[0m Trial 271 finished with value: 0.8302200406228842 and parameters: {'max_depth': 3, 'n_estimators': 377, 'min_child_weight': 0.030495431947452946, 'eta': 0.1427868712039507, 'subsample': 0.3709175745707388, 'colsample_bytree': 0.14754272278791228, 'reg_lambda': 1.0925213250484354}. Best is trial 162 with value: 0.8624712254570074.\u001b[0m\n"
     ]
    },
    {
     "name": "stdout",
     "output_type": "stream",
     "text": [
      "========== Fold=1 ==========\n",
      "========== Fold=2 ==========\n",
      "========== Fold=3 ==========\n",
      "========== Fold=4 ==========\n",
      "========== Fold=5 ==========\n"
     ]
    },
    {
     "name": "stderr",
     "output_type": "stream",
     "text": [
      "\u001b[32m[I 2023-01-19 21:43:49,305]\u001b[0m Trial 272 finished with value: 0.841926201760325 and parameters: {'max_depth': 3, 'n_estimators': 784, 'min_child_weight': 0.07745082109700699, 'eta': 0.11295723432254925, 'subsample': 0.38707386974604885, 'colsample_bytree': 0.25256916762549453, 'reg_lambda': 1.4987871674637445}. Best is trial 162 with value: 0.8624712254570074.\u001b[0m\n"
     ]
    },
    {
     "name": "stdout",
     "output_type": "stream",
     "text": [
      "========== Fold=1 ==========\n",
      "========== Fold=2 ==========\n",
      "========== Fold=3 ==========\n",
      "========== Fold=4 ==========\n",
      "========== Fold=5 ==========\n"
     ]
    },
    {
     "name": "stderr",
     "output_type": "stream",
     "text": [
      "\u001b[32m[I 2023-01-19 21:43:53,640]\u001b[0m Trial 273 finished with value: 0.8509478672985781 and parameters: {'max_depth': 3, 'n_estimators': 404, 'min_child_weight': 0.05552887177731601, 'eta': 0.07938117128616143, 'subsample': 0.1526467656847026, 'colsample_bytree': 0.1330621342495598, 'reg_lambda': 1.245152349666082}. Best is trial 162 with value: 0.8624712254570074.\u001b[0m\n"
     ]
    },
    {
     "name": "stdout",
     "output_type": "stream",
     "text": [
      "========== Fold=1 ==========\n",
      "========== Fold=2 ==========\n",
      "========== Fold=3 ==========\n",
      "========== Fold=4 ==========\n",
      "========== Fold=5 ==========\n"
     ]
    },
    {
     "name": "stderr",
     "output_type": "stream",
     "text": [
      "\u001b[32m[I 2023-01-19 21:43:56,465]\u001b[0m Trial 274 finished with value: 0.8391469194312795 and parameters: {'max_depth': 3, 'n_estimators': 658, 'min_child_weight': 0.725515868605708, 'eta': 0.1908124650657314, 'subsample': 0.3636652364561382, 'colsample_bytree': 0.10027637675358107, 'reg_lambda': 1.1820172546312318}. Best is trial 162 with value: 0.8624712254570074.\u001b[0m\n"
     ]
    },
    {
     "name": "stdout",
     "output_type": "stream",
     "text": [
      "========== Fold=1 ==========\n",
      "========== Fold=2 ==========\n",
      "========== Fold=3 ==========\n",
      "========== Fold=4 ==========\n",
      "========== Fold=5 ==========\n"
     ]
    },
    {
     "name": "stderr",
     "output_type": "stream",
     "text": [
      "\u001b[32m[I 2023-01-19 21:44:00,063]\u001b[0m Trial 275 finished with value: 0.8577979011509816 and parameters: {'max_depth': 3, 'n_estimators': 597, 'min_child_weight': 0.841935969255, 'eta': 0.09799436539668491, 'subsample': 0.41114415801005844, 'colsample_bytree': 0.11676452857986898, 'reg_lambda': 1.361381516443272}. Best is trial 162 with value: 0.8624712254570074.\u001b[0m\n"
     ]
    },
    {
     "name": "stdout",
     "output_type": "stream",
     "text": [
      "========== Fold=1 ==========\n",
      "========== Fold=2 ==========\n",
      "========== Fold=3 ==========\n",
      "========== Fold=4 ==========\n",
      "========== Fold=5 ==========\n"
     ]
    },
    {
     "name": "stderr",
     "output_type": "stream",
     "text": [
      "\u001b[32m[I 2023-01-19 21:44:03,530]\u001b[0m Trial 276 finished with value: 0.8548375084631009 and parameters: {'max_depth': 3, 'n_estimators': 602, 'min_child_weight': 0.5790133860102032, 'eta': 0.10273260103224188, 'subsample': 0.44460351347450205, 'colsample_bytree': 0.10019760313884318, 'reg_lambda': 1.062243125421611}. Best is trial 162 with value: 0.8624712254570074.\u001b[0m\n"
     ]
    },
    {
     "name": "stdout",
     "output_type": "stream",
     "text": [
      "========== Fold=1 ==========\n",
      "========== Fold=2 ==========\n",
      "========== Fold=3 ==========\n",
      "========== Fold=4 ==========\n",
      "========== Fold=5 ==========\n"
     ]
    },
    {
     "name": "stderr",
     "output_type": "stream",
     "text": [
      "\u001b[32m[I 2023-01-19 21:44:07,669]\u001b[0m Trial 277 finished with value: 0.8489742721733243 and parameters: {'max_depth': 3, 'n_estimators': 562, 'min_child_weight': 0.8816505747186121, 'eta': 0.12905416796879843, 'subsample': 0.4122215470900322, 'colsample_bytree': 0.1647609775632461, 'reg_lambda': 1.0001551701680407}. Best is trial 162 with value: 0.8624712254570074.\u001b[0m\n"
     ]
    },
    {
     "name": "stdout",
     "output_type": "stream",
     "text": [
      "========== Fold=1 ==========\n",
      "========== Fold=2 ==========\n",
      "========== Fold=3 ==========\n",
      "========== Fold=4 ==========\n",
      "========== Fold=5 ==========\n"
     ]
    },
    {
     "name": "stderr",
     "output_type": "stream",
     "text": [
      "\u001b[32m[I 2023-01-19 21:44:11,665]\u001b[0m Trial 278 finished with value: 0.8038693297224102 and parameters: {'max_depth': 3, 'n_estimators': 634, 'min_child_weight': 0.1164777251852436, 'eta': 0.053345023035005115, 'subsample': 0.3042600580507114, 'colsample_bytree': 0.19223203054654192, 'reg_lambda': 2.278855019778071}. Best is trial 162 with value: 0.8624712254570074.\u001b[0m\n"
     ]
    },
    {
     "name": "stdout",
     "output_type": "stream",
     "text": [
      "========== Fold=1 ==========\n",
      "========== Fold=2 ==========\n",
      "========== Fold=3 ==========\n",
      "========== Fold=4 ==========\n",
      "========== Fold=5 ==========\n"
     ]
    },
    {
     "name": "stderr",
     "output_type": "stream",
     "text": [
      "\u001b[32m[I 2023-01-19 21:44:15,251]\u001b[0m Trial 279 finished with value: 0.8463270142180095 and parameters: {'max_depth': 3, 'n_estimators': 615, 'min_child_weight': 0.8465214516445484, 'eta': 0.15741488377346502, 'subsample': 0.456216748407274, 'colsample_bytree': 0.13998799221658872, 'reg_lambda': 1.3338348862188845}. Best is trial 162 with value: 0.8624712254570074.\u001b[0m\n"
     ]
    },
    {
     "name": "stdout",
     "output_type": "stream",
     "text": [
      "========== Fold=1 ==========\n",
      "========== Fold=2 ==========\n",
      "========== Fold=3 ==========\n",
      "========== Fold=4 ==========\n",
      "========== Fold=5 ==========\n"
     ]
    },
    {
     "name": "stderr",
     "output_type": "stream",
     "text": [
      "\u001b[32m[I 2023-01-19 21:44:20,751]\u001b[0m Trial 280 finished with value: 0.8540182802979011 and parameters: {'max_depth': 3, 'n_estimators': 575, 'min_child_weight': 0.09232182548630168, 'eta': 0.04084461632554831, 'subsample': 0.3428043020566691, 'colsample_bytree': 0.12002655977521859, 'reg_lambda': 1.1294861255765645}. Best is trial 162 with value: 0.8624712254570074.\u001b[0m\n"
     ]
    },
    {
     "name": "stdout",
     "output_type": "stream",
     "text": [
      "========== Fold=1 ==========\n",
      "========== Fold=2 ==========\n",
      "========== Fold=3 ==========\n",
      "========== Fold=4 ==========\n",
      "========== Fold=5 ==========\n"
     ]
    },
    {
     "name": "stderr",
     "output_type": "stream",
     "text": [
      "\u001b[32m[I 2023-01-19 21:44:25,337]\u001b[0m Trial 281 finished with value: 0.8515639810426539 and parameters: {'max_depth': 3, 'n_estimators': 721, 'min_child_weight': 0.07040509433992967, 'eta': 0.07609506862386123, 'subsample': 0.4217437323381516, 'colsample_bytree': 0.15224732993095508, 'reg_lambda': 3.3193297289210633}. Best is trial 162 with value: 0.8624712254570074.\u001b[0m\n"
     ]
    },
    {
     "name": "stdout",
     "output_type": "stream",
     "text": [
      "========== Fold=1 ==========\n",
      "========== Fold=2 ==========\n",
      "========== Fold=3 ==========\n",
      "========== Fold=4 ==========\n",
      "========== Fold=5 ==========\n"
     ]
    },
    {
     "name": "stderr",
     "output_type": "stream",
     "text": [
      "\u001b[32m[I 2023-01-19 21:44:29,059]\u001b[0m Trial 282 finished with value: 0.8578368314150305 and parameters: {'max_depth': 3, 'n_estimators': 590, 'min_child_weight': 0.699597801964059, 'eta': 0.11685414902778464, 'subsample': 0.3094959067566089, 'colsample_bytree': 0.22117725597845803, 'reg_lambda': 3.6019670765545486}. Best is trial 162 with value: 0.8624712254570074.\u001b[0m\n"
     ]
    },
    {
     "name": "stdout",
     "output_type": "stream",
     "text": [
      "========== Fold=1 ==========\n",
      "========== Fold=2 ==========\n",
      "========== Fold=3 ==========\n",
      "========== Fold=4 ==========\n",
      "========== Fold=5 ==========\n"
     ]
    },
    {
     "name": "stderr",
     "output_type": "stream",
     "text": [
      "\u001b[32m[I 2023-01-19 21:44:32,351]\u001b[0m Trial 283 finished with value: 0.8506872037914691 and parameters: {'max_depth': 3, 'n_estimators': 582, 'min_child_weight': 0.684453197512745, 'eta': 0.1256308377431269, 'subsample': 0.30673258952941107, 'colsample_bytree': 0.219988852393708, 'reg_lambda': 3.6138225235802963}. Best is trial 162 with value: 0.8624712254570074.\u001b[0m\n"
     ]
    },
    {
     "name": "stdout",
     "output_type": "stream",
     "text": [
      "========== Fold=1 ==========\n",
      "========== Fold=2 ==========\n",
      "========== Fold=3 ==========\n",
      "========== Fold=4 ==========\n",
      "========== Fold=5 ==========\n"
     ]
    },
    {
     "name": "stderr",
     "output_type": "stream",
     "text": [
      "\u001b[32m[I 2023-01-19 21:44:35,333]\u001b[0m Trial 284 finished with value: 0.8497257955314829 and parameters: {'max_depth': 3, 'n_estimators': 607, 'min_child_weight': 0.7051286300479569, 'eta': 0.1066272066425837, 'subsample': 0.31103571545790276, 'colsample_bytree': 0.22507979522845378, 'reg_lambda': 1.2411331787932374}. Best is trial 162 with value: 0.8624712254570074.\u001b[0m\n"
     ]
    },
    {
     "name": "stdout",
     "output_type": "stream",
     "text": [
      "========== Fold=1 ==========\n",
      "========== Fold=2 ==========\n",
      "========== Fold=3 ==========\n",
      "========== Fold=4 ==========\n",
      "========== Fold=5 ==========\n"
     ]
    },
    {
     "name": "stderr",
     "output_type": "stream",
     "text": [
      "\u001b[32m[I 2023-01-19 21:44:37,849]\u001b[0m Trial 285 finished with value: 0.841878808395396 and parameters: {'max_depth': 3, 'n_estimators': 592, 'min_child_weight': 0.6237758605697614, 'eta': 0.15287870461828074, 'subsample': 0.2738056402582522, 'colsample_bytree': 0.25014961668740426, 'reg_lambda': 3.4945539878774197}. Best is trial 162 with value: 0.8624712254570074.\u001b[0m\n"
     ]
    },
    {
     "name": "stdout",
     "output_type": "stream",
     "text": [
      "========== Fold=1 ==========\n",
      "========== Fold=2 ==========\n",
      "========== Fold=3 ==========\n",
      "========== Fold=4 ==========\n",
      "========== Fold=5 ==========\n"
     ]
    },
    {
     "name": "stderr",
     "output_type": "stream",
     "text": [
      "\u001b[32m[I 2023-01-19 21:44:40,125]\u001b[0m Trial 286 finished with value: 0.7713337846987136 and parameters: {'max_depth': 3, 'n_estimators': 756, 'min_child_weight': 0.011172297640320482, 'eta': 0.7840099821159027, 'subsample': 0.28720735205505166, 'colsample_bytree': 0.19500725792570162, 'reg_lambda': 1.1694955014888617}. Best is trial 162 with value: 0.8624712254570074.\u001b[0m\n"
     ]
    },
    {
     "name": "stdout",
     "output_type": "stream",
     "text": [
      "========== Fold=1 ==========\n",
      "========== Fold=2 ==========\n",
      "========== Fold=3 ==========\n",
      "========== Fold=4 ==========\n",
      "========== Fold=5 ==========\n"
     ]
    },
    {
     "name": "stderr",
     "output_type": "stream",
     "text": [
      "\u001b[32m[I 2023-01-19 21:44:43,232]\u001b[0m Trial 287 finished with value: 0.8486492890995261 and parameters: {'max_depth': 3, 'n_estimators': 640, 'min_child_weight': 0.7521630905574062, 'eta': 0.1313929858784432, 'subsample': 0.32095442534197627, 'colsample_bytree': 0.29253756432493816, 'reg_lambda': 3.788633487358619}. Best is trial 162 with value: 0.8624712254570074.\u001b[0m\n"
     ]
    },
    {
     "name": "stdout",
     "output_type": "stream",
     "text": [
      "========== Fold=1 ==========\n",
      "========== Fold=2 ==========\n",
      "========== Fold=3 ==========\n",
      "========== Fold=4 ==========\n",
      "========== Fold=5 ==========\n"
     ]
    },
    {
     "name": "stderr",
     "output_type": "stream",
     "text": [
      "\u001b[32m[I 2023-01-19 21:44:46,322]\u001b[0m Trial 288 finished with value: 0.8480365605958023 and parameters: {'max_depth': 3, 'n_estimators': 545, 'min_child_weight': 0.052445189211656605, 'eta': 0.11212793785792427, 'subsample': 0.7436357603987216, 'colsample_bytree': 0.20759275291473997, 'reg_lambda': 3.7148081726519857}. Best is trial 162 with value: 0.8624712254570074.\u001b[0m\n"
     ]
    },
    {
     "name": "stdout",
     "output_type": "stream",
     "text": [
      "========== Fold=1 ==========\n",
      "========== Fold=2 ==========\n",
      "========== Fold=3 ==========\n",
      "========== Fold=4 ==========\n",
      "========== Fold=5 ==========\n"
     ]
    },
    {
     "name": "stderr",
     "output_type": "stream",
     "text": [
      "\u001b[32m[I 2023-01-19 21:44:49,034]\u001b[0m Trial 289 finished with value: 0.8458801624915369 and parameters: {'max_depth': 3, 'n_estimators': 682, 'min_child_weight': 0.10349609578910274, 'eta': 0.17747974664419292, 'subsample': 0.47707352872963854, 'colsample_bytree': 0.23063372090836545, 'reg_lambda': 3.5205307921254345}. Best is trial 162 with value: 0.8624712254570074.\u001b[0m\n"
     ]
    },
    {
     "name": "stdout",
     "output_type": "stream",
     "text": [
      "========== Fold=1 ==========\n",
      "========== Fold=2 ==========\n",
      "========== Fold=3 ==========\n",
      "========== Fold=4 ==========\n",
      "========== Fold=5 ==========\n"
     ]
    },
    {
     "name": "stderr",
     "output_type": "stream",
     "text": [
      "\u001b[32m[I 2023-01-19 21:44:52,008]\u001b[0m Trial 290 finished with value: 0.852664184157075 and parameters: {'max_depth': 3, 'n_estimators': 620, 'min_child_weight': 0.08423228553521639, 'eta': 0.09708006516844109, 'subsample': 0.9358000543825877, 'colsample_bytree': 0.27655658559255714, 'reg_lambda': 1.3751448766026677}. Best is trial 162 with value: 0.8624712254570074.\u001b[0m\n"
     ]
    },
    {
     "name": "stdout",
     "output_type": "stream",
     "text": [
      "========== Fold=1 ==========\n",
      "========== Fold=2 ==========\n",
      "========== Fold=3 ==========\n",
      "========== Fold=4 ==========\n",
      "========== Fold=5 ==========\n"
     ]
    },
    {
     "name": "stderr",
     "output_type": "stream",
     "text": [
      "\u001b[32m[I 2023-01-19 21:45:01,020]\u001b[0m Trial 291 finished with value: 0.8575016926201761 and parameters: {'max_depth': 3, 'n_estimators': 742, 'min_child_weight': 0.7156304924346828, 'eta': 0.025501799274304668, 'subsample': 0.9749394208442836, 'colsample_bytree': 0.1763640952445269, 'reg_lambda': 3.6434246485032933}. Best is trial 162 with value: 0.8624712254570074.\u001b[0m\n"
     ]
    },
    {
     "name": "stdout",
     "output_type": "stream",
     "text": [
      "========== Fold=1 ==========\n",
      "========== Fold=2 ==========\n",
      "========== Fold=3 ==========\n",
      "========== Fold=4 ==========\n",
      "========== Fold=5 ==========\n"
     ]
    },
    {
     "name": "stderr",
     "output_type": "stream",
     "text": [
      "\u001b[32m[I 2023-01-19 21:45:06,695]\u001b[0m Trial 292 finished with value: 0.8568280297901151 and parameters: {'max_depth': 3, 'n_estimators': 781, 'min_child_weight': 0.6596241161855803, 'eta': 0.04661359586108195, 'subsample': 0.9845742357458663, 'colsample_bytree': 0.1630051350379438, 'reg_lambda': 3.567986209939985}. Best is trial 162 with value: 0.8624712254570074.\u001b[0m\n"
     ]
    },
    {
     "name": "stdout",
     "output_type": "stream",
     "text": [
      "========== Fold=1 ==========\n",
      "========== Fold=2 ==========\n",
      "========== Fold=3 ==========\n",
      "========== Fold=4 ==========\n",
      "========== Fold=5 ==========\n"
     ]
    },
    {
     "name": "stderr",
     "output_type": "stream",
     "text": [
      "\u001b[32m[I 2023-01-19 21:45:11,453]\u001b[0m Trial 293 finished with value: 0.7733987813134733 and parameters: {'max_depth': 3, 'n_estimators': 762, 'min_child_weight': 0.6327124967762957, 'eta': 0.028626763380751423, 'subsample': 0.4029692341027148, 'colsample_bytree': 0.18320764496038744, 'reg_lambda': 1.2905826826126252}. Best is trial 162 with value: 0.8624712254570074.\u001b[0m\n"
     ]
    },
    {
     "name": "stdout",
     "output_type": "stream",
     "text": [
      "========== Fold=1 ==========\n",
      "========== Fold=2 ==========\n",
      "========== Fold=3 ==========\n",
      "========== Fold=4 ==========\n",
      "========== Fold=5 ==========\n"
     ]
    },
    {
     "name": "stderr",
     "output_type": "stream",
     "text": [
      "\u001b[32m[I 2023-01-19 21:45:19,921]\u001b[0m Trial 294 finished with value: 0.8194922139471903 and parameters: {'max_depth': 3, 'n_estimators': 738, 'min_child_weight': 0.6757423641834331, 'eta': 0.01930549563557605, 'subsample': 0.9176930687418094, 'colsample_bytree': 0.20816504528043067, 'reg_lambda': 3.732329245963231}. Best is trial 162 with value: 0.8624712254570074.\u001b[0m\n"
     ]
    },
    {
     "name": "stdout",
     "output_type": "stream",
     "text": [
      "========== Fold=1 ==========\n",
      "========== Fold=2 ==========\n",
      "========== Fold=3 ==========\n",
      "========== Fold=4 ==========\n",
      "========== Fold=5 ==========\n"
     ]
    },
    {
     "name": "stderr",
     "output_type": "stream",
     "text": [
      "\u001b[32m[I 2023-01-19 21:45:26,895]\u001b[0m Trial 295 finished with value: 0.786499661475965 and parameters: {'max_depth': 3, 'n_estimators': 802, 'min_child_weight': 0.589622088251429, 'eta': 0.016941777107078115, 'subsample': 0.956170604080217, 'colsample_bytree': 0.17574471564220337, 'reg_lambda': 3.6859439881042153}. Best is trial 162 with value: 0.8624712254570074.\u001b[0m\n"
     ]
    },
    {
     "name": "stdout",
     "output_type": "stream",
     "text": [
      "========== Fold=1 ==========\n",
      "========== Fold=2 ==========\n",
      "========== Fold=3 ==========\n",
      "========== Fold=4 ==========\n",
      "========== Fold=5 ==========\n"
     ]
    },
    {
     "name": "stderr",
     "output_type": "stream",
     "text": [
      "\u001b[32m[I 2023-01-19 21:45:34,422]\u001b[0m Trial 296 finished with value: 0.7415182802979011 and parameters: {'max_depth': 3, 'n_estimators': 749, 'min_child_weight': 0.7051068597372884, 'eta': 0.007556770791069027, 'subsample': 0.9835938624468805, 'colsample_bytree': 0.2438189039211037, 'reg_lambda': 3.612768793488078}. Best is trial 162 with value: 0.8624712254570074.\u001b[0m\n"
     ]
    },
    {
     "name": "stdout",
     "output_type": "stream",
     "text": [
      "========== Fold=1 ==========\n",
      "========== Fold=2 ==========\n",
      "========== Fold=3 ==========\n",
      "========== Fold=4 ==========\n",
      "========== Fold=5 ==========\n"
     ]
    },
    {
     "name": "stderr",
     "output_type": "stream",
     "text": [
      "\u001b[32m[I 2023-01-19 21:45:38,799]\u001b[0m Trial 297 finished with value: 0.8512288422477996 and parameters: {'max_depth': 3, 'n_estimators': 603, 'min_child_weight': 0.7151025719888822, 'eta': 0.058679365953423795, 'subsample': 0.43474098698730945, 'colsample_bytree': 0.13406164871340634, 'reg_lambda': 1.3417371439371253}. Best is trial 162 with value: 0.8624712254570074.\u001b[0m\n"
     ]
    },
    {
     "name": "stdout",
     "output_type": "stream",
     "text": [
      "========== Fold=1 ==========\n",
      "========== Fold=2 ==========\n",
      "========== Fold=3 ==========\n",
      "========== Fold=4 ==========\n",
      "========== Fold=5 ==========\n"
     ]
    },
    {
     "name": "stderr",
     "output_type": "stream",
     "text": [
      "\u001b[32m[I 2023-01-19 21:45:43,564]\u001b[0m Trial 298 finished with value: 0.8565335138794855 and parameters: {'max_depth': 3, 'n_estimators': 568, 'min_child_weight': 0.7300935530339092, 'eta': 0.062359278006252405, 'subsample': 0.9674345782751063, 'colsample_bytree': 0.10054185464007018, 'reg_lambda': 1.5617267757551403}. Best is trial 162 with value: 0.8624712254570074.\u001b[0m\n"
     ]
    },
    {
     "name": "stdout",
     "output_type": "stream",
     "text": [
      "========== Fold=1 ==========\n",
      "========== Fold=2 ==========\n",
      "========== Fold=3 ==========\n",
      "========== Fold=4 ==========\n",
      "========== Fold=5 ==========\n"
     ]
    },
    {
     "name": "stderr",
     "output_type": "stream",
     "text": [
      "\u001b[32m[I 2023-01-19 21:45:49,507]\u001b[0m Trial 299 finished with value: 0.8521597833446175 and parameters: {'max_depth': 3, 'n_estimators': 777, 'min_child_weight': 0.12756352814449717, 'eta': 0.03350282014160428, 'subsample': 0.8880604567263984, 'colsample_bytree': 0.1480582539457561, 'reg_lambda': 2.9168290590082915}. Best is trial 162 with value: 0.8624712254570074.\u001b[0m\n"
     ]
    },
    {
     "name": "stdout",
     "output_type": "stream",
     "text": [
      "========== Fold=1 ==========\n",
      "========== Fold=2 ==========\n",
      "========== Fold=3 ==========\n",
      "========== Fold=4 ==========\n",
      "========== Fold=5 ==========\n"
     ]
    },
    {
     "name": "stderr",
     "output_type": "stream",
     "text": [
      "\u001b[32m[I 2023-01-19 21:45:53,659]\u001b[0m Trial 300 finished with value: 0.851100203114421 and parameters: {'max_depth': 3, 'n_estimators': 738, 'min_child_weight': 0.6882295010965912, 'eta': 0.09339440410968324, 'subsample': 0.9443189030941633, 'colsample_bytree': 0.2609284425238312, 'reg_lambda': 3.4649681592849877}. Best is trial 162 with value: 0.8624712254570074.\u001b[0m\n"
     ]
    },
    {
     "name": "stdout",
     "output_type": "stream",
     "text": [
      "========== Fold=1 ==========\n",
      "========== Fold=2 ==========\n",
      "========== Fold=3 ==========\n",
      "========== Fold=4 ==========\n",
      "========== Fold=5 ==========\n"
     ]
    },
    {
     "name": "stderr",
     "output_type": "stream",
     "text": [
      "\u001b[32m[I 2023-01-19 21:45:58,522]\u001b[0m Trial 301 finished with value: 0.8547461069735952 and parameters: {'max_depth': 3, 'n_estimators': 717, 'min_child_weight': 0.7639394436751029, 'eta': 0.07563917388717287, 'subsample': 0.33104405645959606, 'colsample_bytree': 0.13165625573324674, 'reg_lambda': 1.2220839012850315}. Best is trial 162 with value: 0.8624712254570074.\u001b[0m\n"
     ]
    },
    {
     "name": "stdout",
     "output_type": "stream",
     "text": [
      "========== Fold=1 ==========\n",
      "========== Fold=2 ==========\n",
      "========== Fold=3 ==========\n",
      "========== Fold=4 ==========\n",
      "========== Fold=5 ==========\n"
     ]
    },
    {
     "name": "stderr",
     "output_type": "stream",
     "text": [
      "\u001b[32m[I 2023-01-19 21:46:01,487]\u001b[0m Trial 302 finished with value: 0.8251117129316182 and parameters: {'max_depth': 3, 'n_estimators': 502, 'min_child_weight': 0.07316439342881102, 'eta': 0.40586982953477946, 'subsample': 0.3699276052148514, 'colsample_bytree': 0.11726820911186871, 'reg_lambda': 3.6203530448781436}. Best is trial 162 with value: 0.8624712254570074.\u001b[0m\n"
     ]
    },
    {
     "name": "stdout",
     "output_type": "stream",
     "text": [
      "========== Fold=1 ==========\n",
      "========== Fold=2 ==========\n",
      "========== Fold=3 ==========\n",
      "========== Fold=4 ==========\n",
      "========== Fold=5 ==========\n"
     ]
    },
    {
     "name": "stderr",
     "output_type": "stream",
     "text": [
      "\u001b[32m[I 2023-01-19 21:46:06,611]\u001b[0m Trial 303 finished with value: 0.7889810426540285 and parameters: {'max_depth': 8, 'n_estimators': 595, 'min_child_weight': 0.360528345881983, 'eta': 0.5865641614030868, 'subsample': 0.46176311228220657, 'colsample_bytree': 0.42101302878029356, 'reg_lambda': 1.1605161868943137}. Best is trial 162 with value: 0.8624712254570074.\u001b[0m\n"
     ]
    },
    {
     "name": "stdout",
     "output_type": "stream",
     "text": [
      "========== Fold=1 ==========\n",
      "========== Fold=2 ==========\n",
      "========== Fold=3 ==========\n",
      "========== Fold=4 ==========\n",
      "========== Fold=5 ==========\n"
     ]
    },
    {
     "name": "stderr",
     "output_type": "stream",
     "text": [
      "\u001b[32m[I 2023-01-19 21:46:08,808]\u001b[0m Trial 304 finished with value: 0.8266723087339202 and parameters: {'max_depth': 3, 'n_estimators': 758, 'min_child_weight': 0.11236344081246122, 'eta': 0.8842035591142294, 'subsample': 0.9928530385088598, 'colsample_bytree': 0.16394600374698076, 'reg_lambda': 3.414738055163343}. Best is trial 162 with value: 0.8624712254570074.\u001b[0m\n"
     ]
    },
    {
     "name": "stdout",
     "output_type": "stream",
     "text": [
      "========== Fold=1 ==========\n",
      "========== Fold=2 ==========\n",
      "========== Fold=3 ==========\n",
      "========== Fold=4 ==========\n",
      "========== Fold=5 ==========\n"
     ]
    },
    {
     "name": "stderr",
     "output_type": "stream",
     "text": [
      "\u001b[32m[I 2023-01-19 21:46:13,765]\u001b[0m Trial 305 finished with value: 0.7628469871360867 and parameters: {'max_depth': 7, 'n_estimators': 786, 'min_child_weight': 0.09719546598441325, 'eta': 0.10830303408345233, 'subsample': 0.34055923284489, 'colsample_bytree': 0.19133628108941908, 'reg_lambda': 1.418591080371728}. Best is trial 162 with value: 0.8624712254570074.\u001b[0m\n"
     ]
    },
    {
     "name": "stdout",
     "output_type": "stream",
     "text": [
      "========== Fold=1 ==========\n",
      "========== Fold=2 ==========\n",
      "========== Fold=3 ==========\n",
      "========== Fold=4 ==========\n",
      "========== Fold=5 ==========\n"
     ]
    },
    {
     "name": "stderr",
     "output_type": "stream",
     "text": [
      "\u001b[32m[I 2023-01-19 21:46:16,290]\u001b[0m Trial 306 finished with value: 0.832234258632363 and parameters: {'max_depth': 3, 'n_estimators': 438, 'min_child_weight': 0.7422006148731297, 'eta': 0.28328390739230797, 'subsample': 0.250939114820946, 'colsample_bytree': 0.10037736190612066, 'reg_lambda': 1.0902369504300475}. Best is trial 162 with value: 0.8624712254570074.\u001b[0m\n"
     ]
    },
    {
     "name": "stdout",
     "output_type": "stream",
     "text": [
      "========== Fold=1 ==========\n",
      "========== Fold=2 ==========\n",
      "========== Fold=3 ==========\n",
      "========== Fold=4 ==========\n",
      "========== Fold=5 ==========\n"
     ]
    },
    {
     "name": "stderr",
     "output_type": "stream",
     "text": [
      "\u001b[32m[I 2023-01-19 21:46:21,574]\u001b[0m Trial 307 finished with value: 0.8582159783344617 and parameters: {'max_depth': 3, 'n_estimators': 627, 'min_child_weight': 0.06262048803698447, 'eta': 0.04349042921312943, 'subsample': 0.781733948634385, 'colsample_bytree': 0.13209627773842833, 'reg_lambda': 3.2038176356570234}. Best is trial 162 with value: 0.8624712254570074.\u001b[0m\n"
     ]
    },
    {
     "name": "stdout",
     "output_type": "stream",
     "text": [
      "========== Fold=1 ==========\n",
      "========== Fold=2 ==========\n",
      "========== Fold=3 ==========\n",
      "========== Fold=4 ==========\n",
      "========== Fold=5 ==========\n"
     ]
    },
    {
     "name": "stderr",
     "output_type": "stream",
     "text": [
      "\u001b[32m[I 2023-01-19 21:46:27,176]\u001b[0m Trial 308 finished with value: 0.8562051455653352 and parameters: {'max_depth': 3, 'n_estimators': 629, 'min_child_weight': 0.46963564752086834, 'eta': 0.04142700117691399, 'subsample': 0.7273000491002061, 'colsample_bytree': 0.14978904379275326, 'reg_lambda': 2.977286082885048}. Best is trial 162 with value: 0.8624712254570074.\u001b[0m\n"
     ]
    },
    {
     "name": "stdout",
     "output_type": "stream",
     "text": [
      "========== Fold=1 ==========\n",
      "========== Fold=2 ==========\n",
      "========== Fold=3 ==========\n",
      "========== Fold=4 ==========\n",
      "========== Fold=5 ==========\n"
     ]
    },
    {
     "name": "stderr",
     "output_type": "stream",
     "text": [
      "\u001b[32m[I 2023-01-19 21:46:35,624]\u001b[0m Trial 309 finished with value: 0.8507515233581584 and parameters: {'max_depth': 3, 'n_estimators': 623, 'min_child_weight': 0.03355553506326736, 'eta': 0.015854757508393685, 'subsample': 0.7986347663522348, 'colsample_bytree': 0.13288916357486896, 'reg_lambda': 3.5639643091834143}. Best is trial 162 with value: 0.8624712254570074.\u001b[0m\n"
     ]
    },
    {
     "name": "stdout",
     "output_type": "stream",
     "text": [
      "========== Fold=1 ==========\n",
      "========== Fold=2 ==========\n",
      "========== Fold=3 ==========\n",
      "========== Fold=4 ==========\n",
      "========== Fold=5 ==========\n"
     ]
    },
    {
     "name": "stderr",
     "output_type": "stream",
     "text": [
      "\u001b[32m[I 2023-01-19 21:46:41,367]\u001b[0m Trial 310 finished with value: 0.8592417061611375 and parameters: {'max_depth': 3, 'n_estimators': 645, 'min_child_weight': 0.06449577841773724, 'eta': 0.03594353720421435, 'subsample': 0.8181347268409136, 'colsample_bytree': 0.22059309071276215, 'reg_lambda': 3.2656251287313975}. Best is trial 162 with value: 0.8624712254570074.\u001b[0m\n"
     ]
    },
    {
     "name": "stdout",
     "output_type": "stream",
     "text": [
      "========== Fold=1 ==========\n",
      "========== Fold=2 ==========\n",
      "========== Fold=3 ==========\n",
      "========== Fold=4 ==========\n",
      "========== Fold=5 ==========\n"
     ]
    },
    {
     "name": "stderr",
     "output_type": "stream",
     "text": [
      "\u001b[32m[I 2023-01-19 21:46:43,754]\u001b[0m Trial 311 finished with value: 0.6153232904536222 and parameters: {'max_depth': 3, 'n_estimators': 662, 'min_child_weight': 0.8308200174636464, 'eta': 0.0022728526177712705, 'subsample': 0.8222127373647514, 'colsample_bytree': 0.19848095579791272, 'reg_lambda': 3.1680910686638093}. Best is trial 162 with value: 0.8624712254570074.\u001b[0m\n"
     ]
    },
    {
     "name": "stdout",
     "output_type": "stream",
     "text": [
      "========== Fold=1 ==========\n",
      "========== Fold=2 ==========\n",
      "========== Fold=3 ==========\n",
      "========== Fold=4 ==========\n",
      "========== Fold=5 ==========\n"
     ]
    },
    {
     "name": "stderr",
     "output_type": "stream",
     "text": [
      "\u001b[32m[I 2023-01-19 21:46:48,114]\u001b[0m Trial 312 finished with value: 0.8564793500338524 and parameters: {'max_depth': 3, 'n_estimators': 318, 'min_child_weight': 0.7706058867930118, 'eta': 0.05674219152350666, 'subsample': 0.7888508680434373, 'colsample_bytree': 0.210548727962008, 'reg_lambda': 3.183997107089659}. Best is trial 162 with value: 0.8624712254570074.\u001b[0m\n"
     ]
    },
    {
     "name": "stdout",
     "output_type": "stream",
     "text": [
      "========== Fold=1 ==========\n",
      "========== Fold=2 ==========\n",
      "========== Fold=3 ==========\n",
      "========== Fold=4 ==========\n",
      "========== Fold=5 ==========\n"
     ]
    },
    {
     "name": "stderr",
     "output_type": "stream",
     "text": [
      "\u001b[32m[I 2023-01-19 21:46:54,330]\u001b[0m Trial 313 finished with value: 0.8603452945159107 and parameters: {'max_depth': 3, 'n_estimators': 657, 'min_child_weight': 0.05797007696459816, 'eta': 0.034438717004130426, 'subsample': 0.8277247002699128, 'colsample_bytree': 0.17459284294130906, 'reg_lambda': 3.2406386022173383}. Best is trial 162 with value: 0.8624712254570074.\u001b[0m\n"
     ]
    },
    {
     "name": "stdout",
     "output_type": "stream",
     "text": [
      "========== Fold=1 ==========\n",
      "========== Fold=2 ==========\n",
      "========== Fold=3 ==========\n",
      "========== Fold=4 ==========\n",
      "========== Fold=5 ==========\n"
     ]
    },
    {
     "name": "stderr",
     "output_type": "stream",
     "text": [
      "\u001b[32m[I 2023-01-19 21:46:58,719]\u001b[0m Trial 314 finished with value: 0.8525626269465132 and parameters: {'max_depth': 3, 'n_estimators': 646, 'min_child_weight': 0.05641226040353109, 'eta': 0.06883547932851186, 'subsample': 0.8366079286739393, 'colsample_bytree': 0.14835996369142523, 'reg_lambda': 3.308367117777095}. Best is trial 162 with value: 0.8624712254570074.\u001b[0m\n"
     ]
    },
    {
     "name": "stdout",
     "output_type": "stream",
     "text": [
      "========== Fold=1 ==========\n",
      "========== Fold=2 ==========\n",
      "========== Fold=3 ==========\n",
      "========== Fold=4 ==========\n",
      "========== Fold=5 ==========\n"
     ]
    },
    {
     "name": "stderr",
     "output_type": "stream",
     "text": [
      "\u001b[32m[I 2023-01-19 21:47:04,146]\u001b[0m Trial 315 finished with value: 0.8578266756939742 and parameters: {'max_depth': 3, 'n_estimators': 652, 'min_child_weight': 0.03720835090768386, 'eta': 0.04315475866507076, 'subsample': 0.7837942442093078, 'colsample_bytree': 0.13056972897444233, 'reg_lambda': 3.2717616695274025}. Best is trial 162 with value: 0.8624712254570074.\u001b[0m\n"
     ]
    },
    {
     "name": "stdout",
     "output_type": "stream",
     "text": [
      "========== Fold=1 ==========\n",
      "========== Fold=2 ==========\n",
      "========== Fold=3 ==========\n",
      "========== Fold=4 ==========\n",
      "========== Fold=5 ==========\n"
     ]
    },
    {
     "name": "stderr",
     "output_type": "stream",
     "text": [
      "\u001b[32m[I 2023-01-19 21:47:09,532]\u001b[0m Trial 316 finished with value: 0.8569600541638456 and parameters: {'max_depth': 3, 'n_estimators': 658, 'min_child_weight': 0.03706498837125119, 'eta': 0.04165701887866313, 'subsample': 0.813009831137671, 'colsample_bytree': 0.16886493294245178, 'reg_lambda': 3.0834894662921033}. Best is trial 162 with value: 0.8624712254570074.\u001b[0m\n"
     ]
    },
    {
     "name": "stdout",
     "output_type": "stream",
     "text": [
      "========== Fold=1 ==========\n",
      "========== Fold=2 ==========\n",
      "========== Fold=3 ==========\n",
      "========== Fold=4 ==========\n",
      "========== Fold=5 ==========\n"
     ]
    },
    {
     "name": "stderr",
     "output_type": "stream",
     "text": [
      "\u001b[32m[I 2023-01-19 21:47:16,586]\u001b[0m Trial 317 finished with value: 0.8540792146242384 and parameters: {'max_depth': 3, 'n_estimators': 674, 'min_child_weight': 0.018683206174707076, 'eta': 0.030059576949698782, 'subsample': 0.7643495742896409, 'colsample_bytree': 0.13218842034241626, 'reg_lambda': 3.3392263699596523}. Best is trial 162 with value: 0.8624712254570074.\u001b[0m\n"
     ]
    },
    {
     "name": "stdout",
     "output_type": "stream",
     "text": [
      "========== Fold=1 ==========\n",
      "========== Fold=2 ==========\n",
      "========== Fold=3 ==========\n",
      "========== Fold=4 ==========\n",
      "========== Fold=5 ==========\n"
     ]
    },
    {
     "name": "stderr",
     "output_type": "stream",
     "text": [
      "\u001b[32m[I 2023-01-19 21:47:21,737]\u001b[0m Trial 318 finished with value: 0.8569634394041977 and parameters: {'max_depth': 3, 'n_estimators': 641, 'min_child_weight': 0.06156628452023813, 'eta': 0.0521190519371476, 'subsample': 0.7838317593335467, 'colsample_bytree': 0.22444820903731452, 'reg_lambda': 3.1738611263074015}. Best is trial 162 with value: 0.8624712254570074.\u001b[0m\n"
     ]
    },
    {
     "name": "stdout",
     "output_type": "stream",
     "text": [
      "========== Fold=1 ==========\n",
      "========== Fold=2 ==========\n",
      "========== Fold=3 ==========\n",
      "========== Fold=4 ==========\n",
      "========== Fold=5 ==========\n"
     ]
    },
    {
     "name": "stderr",
     "output_type": "stream",
     "text": [
      "\u001b[32m[I 2023-01-19 21:47:26,243]\u001b[0m Trial 319 finished with value: 0.8533750846310088 and parameters: {'max_depth': 3, 'n_estimators': 649, 'min_child_weight': 0.07338370144856225, 'eta': 0.06801562262613486, 'subsample': 0.7734574761201506, 'colsample_bytree': 0.15157494045061604, 'reg_lambda': 3.269315744022811}. Best is trial 162 with value: 0.8624712254570074.\u001b[0m\n"
     ]
    },
    {
     "name": "stdout",
     "output_type": "stream",
     "text": [
      "========== Fold=1 ==========\n",
      "========== Fold=2 ==========\n",
      "========== Fold=3 ==========\n",
      "========== Fold=4 ==========\n",
      "========== Fold=5 ==========\n"
     ]
    },
    {
     "name": "stderr",
     "output_type": "stream",
     "text": [
      "\u001b[32m[I 2023-01-19 21:47:31,665]\u001b[0m Trial 320 finished with value: 0.8582532159783345 and parameters: {'max_depth': 3, 'n_estimators': 680, 'min_child_weight': 0.007031948416298658, 'eta': 0.04463594643833357, 'subsample': 0.8098111862827916, 'colsample_bytree': 0.13190184538384012, 'reg_lambda': 3.2454592897371763}. Best is trial 162 with value: 0.8624712254570074.\u001b[0m\n"
     ]
    },
    {
     "name": "stdout",
     "output_type": "stream",
     "text": [
      "========== Fold=1 ==========\n",
      "========== Fold=2 ==========\n",
      "========== Fold=3 ==========\n",
      "========== Fold=4 ==========\n",
      "========== Fold=5 ==========\n"
     ]
    },
    {
     "name": "stderr",
     "output_type": "stream",
     "text": [
      "\u001b[32m[I 2023-01-19 21:47:36,083]\u001b[0m Trial 321 finished with value: 0.8139065673662831 and parameters: {'max_depth': 5, 'n_estimators': 687, 'min_child_weight': 0.015529806491741231, 'eta': 0.07821198549622702, 'subsample': 0.8507090937663815, 'colsample_bytree': 0.18424733065721038, 'reg_lambda': 3.24535895152057}. Best is trial 162 with value: 0.8624712254570074.\u001b[0m\n"
     ]
    },
    {
     "name": "stdout",
     "output_type": "stream",
     "text": [
      "========== Fold=1 ==========\n",
      "========== Fold=2 ==========\n",
      "========== Fold=3 ==========\n",
      "========== Fold=4 ==========\n",
      "========== Fold=5 ==========\n"
     ]
    },
    {
     "name": "stderr",
     "output_type": "stream",
     "text": [
      "\u001b[32m[I 2023-01-19 21:47:40,225]\u001b[0m Trial 322 finished with value: 0.856817874069059 and parameters: {'max_depth': 3, 'n_estimators': 671, 'min_child_weight': 0.007408351194575183, 'eta': 0.06385633770229762, 'subsample': 0.8096389697734832, 'colsample_bytree': 0.1177513355857128, 'reg_lambda': 3.069924156589249}. Best is trial 162 with value: 0.8624712254570074.\u001b[0m\n"
     ]
    },
    {
     "name": "stdout",
     "output_type": "stream",
     "text": [
      "========== Fold=1 ==========\n",
      "========== Fold=2 ==========\n",
      "========== Fold=3 ==========\n",
      "========== Fold=4 ==========\n",
      "========== Fold=5 ==========\n"
     ]
    },
    {
     "name": "stderr",
     "output_type": "stream",
     "text": [
      "\u001b[32m[I 2023-01-19 21:47:45,191]\u001b[0m Trial 323 finished with value: 0.8526201760324984 and parameters: {'max_depth': 3, 'n_estimators': 354, 'min_child_weight': 0.529986615595626, 'eta': 0.029129911327212286, 'subsample': 0.8214818448858985, 'colsample_bytree': 0.15804939967507803, 'reg_lambda': 3.200251808626293}. Best is trial 162 with value: 0.8624712254570074.\u001b[0m\n"
     ]
    },
    {
     "name": "stdout",
     "output_type": "stream",
     "text": [
      "========== Fold=1 ==========\n",
      "========== Fold=2 ==========\n",
      "========== Fold=3 ==========\n",
      "========== Fold=4 ==========\n",
      "========== Fold=5 ==========\n"
     ]
    },
    {
     "name": "stderr",
     "output_type": "stream",
     "text": [
      "\u001b[32m[I 2023-01-19 21:47:48,615]\u001b[0m Trial 324 finished with value: 0.8500575490859851 and parameters: {'max_depth': 3, 'n_estimators': 706, 'min_child_weight': 0.5659002932331535, 'eta': 0.1427787148712668, 'subsample': 0.7977378194724201, 'colsample_bytree': 0.1408057475406984, 'reg_lambda': 3.106209057678622}. Best is trial 162 with value: 0.8624712254570074.\u001b[0m\n"
     ]
    },
    {
     "name": "stdout",
     "output_type": "stream",
     "text": [
      "========== Fold=1 ==========\n",
      "========== Fold=2 ==========\n",
      "========== Fold=3 ==========\n",
      "========== Fold=4 ==========\n",
      "========== Fold=5 ==========\n"
     ]
    },
    {
     "name": "stderr",
     "output_type": "stream",
     "text": [
      "\u001b[32m[I 2023-01-19 21:47:53,246]\u001b[0m Trial 325 finished with value: 0.8588151658767773 and parameters: {'max_depth': 3, 'n_estimators': 703, 'min_child_weight': 0.0016978958561764705, 'eta': 0.08304750717289222, 'subsample': 0.8469860852180858, 'colsample_bytree': 0.11925858752442633, 'reg_lambda': 3.345252604331588}. Best is trial 162 with value: 0.8624712254570074.\u001b[0m\n"
     ]
    },
    {
     "name": "stdout",
     "output_type": "stream",
     "text": [
      "========== Fold=1 ==========\n",
      "========== Fold=2 ==========\n",
      "========== Fold=3 ==========\n",
      "========== Fold=4 ==========\n",
      "========== Fold=5 ==========\n"
     ]
    },
    {
     "name": "stderr",
     "output_type": "stream",
     "text": [
      "\u001b[32m[I 2023-01-19 21:47:58,216]\u001b[0m Trial 326 finished with value: 0.8579113067027759 and parameters: {'max_depth': 3, 'n_estimators': 673, 'min_child_weight': 0.022458700263507006, 'eta': 0.05299493539958896, 'subsample': 0.8385682406790906, 'colsample_bytree': 0.11776661986773992, 'reg_lambda': 3.340397523937687}. Best is trial 162 with value: 0.8624712254570074.\u001b[0m\n"
     ]
    },
    {
     "name": "stdout",
     "output_type": "stream",
     "text": [
      "========== Fold=1 ==========\n",
      "========== Fold=2 ==========\n",
      "========== Fold=3 ==========\n",
      "========== Fold=4 ==========\n",
      "========== Fold=5 ==========\n"
     ]
    },
    {
     "name": "stderr",
     "output_type": "stream",
     "text": [
      "\u001b[32m[I 2023-01-19 21:48:02,504]\u001b[0m Trial 327 finished with value: 0.8595260663507108 and parameters: {'max_depth': 3, 'n_estimators': 687, 'min_child_weight': 0.007500126535961479, 'eta': 0.08222111107832826, 'subsample': 0.8520046079097879, 'colsample_bytree': 0.11763373663837665, 'reg_lambda': 3.256726614358229}. Best is trial 162 with value: 0.8624712254570074.\u001b[0m\n"
     ]
    },
    {
     "name": "stdout",
     "output_type": "stream",
     "text": [
      "========== Fold=1 ==========\n",
      "========== Fold=2 ==========\n",
      "========== Fold=3 ==========\n",
      "========== Fold=4 ==========\n",
      "========== Fold=5 ==========\n"
     ]
    },
    {
     "name": "stderr",
     "output_type": "stream",
     "text": [
      "\u001b[32m[I 2023-01-19 21:48:06,784]\u001b[0m Trial 328 finished with value: 0.8588930264048747 and parameters: {'max_depth': 3, 'n_estimators': 687, 'min_child_weight': 0.006797805470324374, 'eta': 0.08627727670186468, 'subsample': 0.8421840166779795, 'colsample_bytree': 0.12067005733043733, 'reg_lambda': 3.30152693716537}. Best is trial 162 with value: 0.8624712254570074.\u001b[0m\n"
     ]
    },
    {
     "name": "stdout",
     "output_type": "stream",
     "text": [
      "========== Fold=1 ==========\n",
      "========== Fold=2 ==========\n",
      "========== Fold=3 ==========\n",
      "========== Fold=4 ==========\n",
      "========== Fold=5 ==========\n"
     ]
    },
    {
     "name": "stderr",
     "output_type": "stream",
     "text": [
      "\u001b[32m[I 2023-01-19 21:48:11,136]\u001b[0m Trial 329 finished with value: 0.8594989844278942 and parameters: {'max_depth': 3, 'n_estimators': 703, 'min_child_weight': 0.013425561580752997, 'eta': 0.08676934722141334, 'subsample': 0.8496206666464009, 'colsample_bytree': 0.13353582259106145, 'reg_lambda': 3.383292182597613}. Best is trial 162 with value: 0.8624712254570074.\u001b[0m\n"
     ]
    },
    {
     "name": "stdout",
     "output_type": "stream",
     "text": [
      "========== Fold=1 ==========\n",
      "========== Fold=2 ==========\n",
      "========== Fold=3 ==========\n",
      "========== Fold=4 ==========\n",
      "========== Fold=5 ==========\n"
     ]
    },
    {
     "name": "stderr",
     "output_type": "stream",
     "text": [
      "\u001b[32m[I 2023-01-19 21:48:14,910]\u001b[0m Trial 330 finished with value: 0.8531110358835478 and parameters: {'max_depth': 3, 'n_estimators': 705, 'min_child_weight': 0.005767689626660591, 'eta': 0.08613161497014132, 'subsample': 0.8748885500761541, 'colsample_bytree': 0.14010509975191981, 'reg_lambda': 3.3794894660402415}. Best is trial 162 with value: 0.8624712254570074.\u001b[0m\n"
     ]
    },
    {
     "name": "stdout",
     "output_type": "stream",
     "text": [
      "========== Fold=1 ==========\n",
      "========== Fold=2 ==========\n",
      "========== Fold=3 ==========\n",
      "========== Fold=4 ==========\n",
      "========== Fold=5 ==========\n"
     ]
    },
    {
     "name": "stderr",
     "output_type": "stream",
     "text": [
      "\u001b[32m[I 2023-01-19 21:48:19,612]\u001b[0m Trial 331 finished with value: 0.8602945159106294 and parameters: {'max_depth': 3, 'n_estimators': 695, 'min_child_weight': 0.00560205483137137, 'eta': 0.08161970453240797, 'subsample': 0.8459010867794227, 'colsample_bytree': 0.13320819022538988, 'reg_lambda': 3.3112205352193183}. Best is trial 162 with value: 0.8624712254570074.\u001b[0m\n"
     ]
    },
    {
     "name": "stdout",
     "output_type": "stream",
     "text": [
      "========== Fold=1 ==========\n",
      "========== Fold=2 ==========\n",
      "========== Fold=3 ==========\n",
      "========== Fold=4 ==========\n",
      "========== Fold=5 ==========\n"
     ]
    },
    {
     "name": "stderr",
     "output_type": "stream",
     "text": [
      "\u001b[32m[I 2023-01-19 21:48:23,484]\u001b[0m Trial 332 finished with value: 0.8487102234258632 and parameters: {'max_depth': 3, 'n_estimators': 682, 'min_child_weight': 0.0023755391423066433, 'eta': 0.07678476306197153, 'subsample': 0.86311755519826, 'colsample_bytree': 0.15867774175617072, 'reg_lambda': 3.2754649605790562}. Best is trial 162 with value: 0.8624712254570074.\u001b[0m\n"
     ]
    },
    {
     "name": "stdout",
     "output_type": "stream",
     "text": [
      "========== Fold=1 ==========\n",
      "========== Fold=2 ==========\n",
      "========== Fold=3 ==========\n",
      "========== Fold=4 ==========\n",
      "========== Fold=5 ==========\n"
     ]
    },
    {
     "name": "stderr",
     "output_type": "stream",
     "text": [
      "\u001b[32m[I 2023-01-19 21:48:27,586]\u001b[0m Trial 333 finished with value: 0.8599559918754232 and parameters: {'max_depth': 3, 'n_estimators': 701, 'min_child_weight': 0.006359162317463217, 'eta': 0.08646185536114738, 'subsample': 0.8532838894257475, 'colsample_bytree': 0.13045411506816407, 'reg_lambda': 3.3709496283256537}. Best is trial 162 with value: 0.8624712254570074.\u001b[0m\n"
     ]
    },
    {
     "name": "stdout",
     "output_type": "stream",
     "text": [
      "========== Fold=1 ==========\n",
      "========== Fold=2 ==========\n",
      "========== Fold=3 ==========\n",
      "========== Fold=4 ==========\n",
      "========== Fold=5 ==========\n"
     ]
    },
    {
     "name": "stderr",
     "output_type": "stream",
     "text": [
      "\u001b[32m[I 2023-01-19 21:48:31,796]\u001b[0m Trial 334 finished with value: 0.8586865267433988 and parameters: {'max_depth': 3, 'n_estimators': 695, 'min_child_weight': 0.0016370043576811382, 'eta': 0.09074116699534565, 'subsample': 0.8482249955992092, 'colsample_bytree': 0.1165861055349355, 'reg_lambda': 3.3220212941019156}. Best is trial 162 with value: 0.8624712254570074.\u001b[0m\n"
     ]
    },
    {
     "name": "stdout",
     "output_type": "stream",
     "text": [
      "========== Fold=1 ==========\n",
      "========== Fold=2 ==========\n",
      "========== Fold=3 ==========\n",
      "========== Fold=4 ==========\n",
      "========== Fold=5 ==========\n"
     ]
    },
    {
     "name": "stderr",
     "output_type": "stream",
     "text": [
      "\u001b[32m[I 2023-01-19 21:48:36,213]\u001b[0m Trial 335 finished with value: 0.85832769126608 and parameters: {'max_depth': 3, 'n_estimators': 707, 'min_child_weight': 0.0012878277860062454, 'eta': 0.09160329981604276, 'subsample': 0.8370455672889273, 'colsample_bytree': 0.11566420386434373, 'reg_lambda': 3.413669312197294}. Best is trial 162 with value: 0.8624712254570074.\u001b[0m\n"
     ]
    },
    {
     "name": "stdout",
     "output_type": "stream",
     "text": [
      "========== Fold=1 ==========\n",
      "========== Fold=2 ==========\n",
      "========== Fold=3 ==========\n",
      "========== Fold=4 ==========\n",
      "========== Fold=5 ==========\n"
     ]
    },
    {
     "name": "stderr",
     "output_type": "stream",
     "text": [
      "\u001b[32m[I 2023-01-19 21:48:39,634]\u001b[0m Trial 336 finished with value: 0.852555856465809 and parameters: {'max_depth': 3, 'n_estimators': 701, 'min_child_weight': 0.021802249641783872, 'eta': 0.12241958906485942, 'subsample': 0.840956841838978, 'colsample_bytree': 0.1151137921918352, 'reg_lambda': 3.4068215995553595}. Best is trial 162 with value: 0.8624712254570074.\u001b[0m\n"
     ]
    },
    {
     "name": "stdout",
     "output_type": "stream",
     "text": [
      "========== Fold=1 ==========\n",
      "========== Fold=2 ==========\n",
      "========== Fold=3 ==========\n",
      "========== Fold=4 ==========\n",
      "========== Fold=5 ==========\n"
     ]
    },
    {
     "name": "stderr",
     "output_type": "stream",
     "text": [
      "\u001b[32m[I 2023-01-19 21:48:44,946]\u001b[0m Trial 337 finished with value: 0.8026743398781313 and parameters: {'max_depth': 7, 'n_estimators': 697, 'min_child_weight': 0.00485404523165639, 'eta': 0.0935577391223633, 'subsample': 0.846306338928371, 'colsample_bytree': 0.1126082188190533, 'reg_lambda': 3.383573808660921}. Best is trial 162 with value: 0.8624712254570074.\u001b[0m\n"
     ]
    },
    {
     "name": "stdout",
     "output_type": "stream",
     "text": [
      "========== Fold=1 ==========\n",
      "========== Fold=2 ==========\n",
      "========== Fold=3 ==========\n",
      "========== Fold=4 ==========\n",
      "========== Fold=5 ==========\n"
     ]
    },
    {
     "name": "stderr",
     "output_type": "stream",
     "text": [
      "\u001b[32m[I 2023-01-19 21:48:48,239]\u001b[0m Trial 338 finished with value: 0.8588625592417061 and parameters: {'max_depth': 3, 'n_estimators': 718, 'min_child_weight': 0.0038544896103671253, 'eta': 0.10872561536629934, 'subsample': 0.8751348778855472, 'colsample_bytree': 0.11146834415084636, 'reg_lambda': 3.4110031283792317}. Best is trial 162 with value: 0.8624712254570074.\u001b[0m\n"
     ]
    },
    {
     "name": "stdout",
     "output_type": "stream",
     "text": [
      "========== Fold=1 ==========\n",
      "========== Fold=2 ==========\n",
      "========== Fold=3 ==========\n",
      "========== Fold=4 ==========\n",
      "========== Fold=5 ==========\n"
     ]
    },
    {
     "name": "stderr",
     "output_type": "stream",
     "text": [
      "\u001b[32m[I 2023-01-19 21:48:51,740]\u001b[0m Trial 339 finished with value: 0.8560121868652673 and parameters: {'max_depth': 3, 'n_estimators': 720, 'min_child_weight': 0.022807522970610474, 'eta': 0.11368593192392892, 'subsample': 0.8640041143399693, 'colsample_bytree': 0.10200371238604326, 'reg_lambda': 3.467589538643848}. Best is trial 162 with value: 0.8624712254570074.\u001b[0m\n"
     ]
    },
    {
     "name": "stdout",
     "output_type": "stream",
     "text": [
      "========== Fold=1 ==========\n",
      "========== Fold=2 ==========\n",
      "========== Fold=3 ==========\n",
      "========== Fold=4 ==========\n",
      "========== Fold=5 ==========\n"
     ]
    },
    {
     "name": "stderr",
     "output_type": "stream",
     "text": [
      "\u001b[32m[I 2023-01-19 21:48:55,329]\u001b[0m Trial 340 finished with value: 0.8577758970886932 and parameters: {'max_depth': 3, 'n_estimators': 694, 'min_child_weight': 0.02002408856428125, 'eta': 0.13511156549110684, 'subsample': 0.8740208769282883, 'colsample_bytree': 0.10080213989179268, 'reg_lambda': 3.3220150462208227}. Best is trial 162 with value: 0.8624712254570074.\u001b[0m\n"
     ]
    },
    {
     "name": "stdout",
     "output_type": "stream",
     "text": [
      "========== Fold=1 ==========\n",
      "========== Fold=2 ==========\n",
      "========== Fold=3 ==========\n",
      "========== Fold=4 ==========\n",
      "========== Fold=5 ==========\n"
     ]
    },
    {
     "name": "stderr",
     "output_type": "stream",
     "text": [
      "\u001b[32m[I 2023-01-19 21:48:58,537]\u001b[0m Trial 341 finished with value: 0.8563202437373053 and parameters: {'max_depth': 3, 'n_estimators': 724, 'min_child_weight': 0.0015705676451684136, 'eta': 0.10653436510198658, 'subsample': 0.8922774419302384, 'colsample_bytree': 0.14606732074159912, 'reg_lambda': 3.32815937470586}. Best is trial 162 with value: 0.8624712254570074.\u001b[0m\n"
     ]
    },
    {
     "name": "stdout",
     "output_type": "stream",
     "text": [
      "========== Fold=1 ==========\n",
      "========== Fold=2 ==========\n",
      "========== Fold=3 ==========\n",
      "========== Fold=4 ==========\n",
      "========== Fold=5 ==========\n"
     ]
    },
    {
     "name": "stderr",
     "output_type": "stream",
     "text": [
      "\u001b[32m[I 2023-01-19 21:49:02,967]\u001b[0m Trial 342 finished with value: 0.8585917400135409 and parameters: {'max_depth': 3, 'n_estimators': 693, 'min_child_weight': 0.03245908099753773, 'eta': 0.08580110340166021, 'subsample': 0.8505919230619894, 'colsample_bytree': 0.12543327818095137, 'reg_lambda': 3.432786571950223}. Best is trial 162 with value: 0.8624712254570074.\u001b[0m\n"
     ]
    },
    {
     "name": "stdout",
     "output_type": "stream",
     "text": [
      "========== Fold=1 ==========\n",
      "========== Fold=2 ==========\n",
      "========== Fold=3 ==========\n",
      "========== Fold=4 ==========\n",
      "========== Fold=5 ==========\n"
     ]
    },
    {
     "name": "stderr",
     "output_type": "stream",
     "text": [
      "\u001b[32m[I 2023-01-19 21:49:07,101]\u001b[0m Trial 343 finished with value: 0.8536323628977658 and parameters: {'max_depth': 3, 'n_estimators': 690, 'min_child_weight': 0.02908282590838457, 'eta': 0.08208757595796333, 'subsample': 0.8553307686503686, 'colsample_bytree': 0.14967777251348674, 'reg_lambda': 3.3786037384889904}. Best is trial 162 with value: 0.8624712254570074.\u001b[0m\n"
     ]
    },
    {
     "name": "stdout",
     "output_type": "stream",
     "text": [
      "========== Fold=1 ==========\n",
      "========== Fold=2 ==========\n",
      "========== Fold=3 ==========\n",
      "========== Fold=4 ==========\n",
      "========== Fold=5 ==========\n"
     ]
    },
    {
     "name": "stderr",
     "output_type": "stream",
     "text": [
      "\u001b[32m[I 2023-01-19 21:49:11,263]\u001b[0m Trial 344 finished with value: 0.8583175355450237 and parameters: {'max_depth': 3, 'n_estimators': 697, 'min_child_weight': 0.03640080135478519, 'eta': 0.07631449763187245, 'subsample': 0.8718617713957973, 'colsample_bytree': 0.12477474556115928, 'reg_lambda': 3.2589931646334547}. Best is trial 162 with value: 0.8624712254570074.\u001b[0m\n"
     ]
    },
    {
     "name": "stdout",
     "output_type": "stream",
     "text": [
      "========== Fold=1 ==========\n",
      "========== Fold=2 ==========\n",
      "========== Fold=3 ==========\n",
      "========== Fold=4 ==========\n",
      "========== Fold=5 ==========\n"
     ]
    },
    {
     "name": "stderr",
     "output_type": "stream",
     "text": [
      "\u001b[32m[I 2023-01-19 21:49:15,305]\u001b[0m Trial 345 finished with value: 0.8576201760324983 and parameters: {'max_depth': 3, 'n_estimators': 668, 'min_child_weight': 0.024762554554974617, 'eta': 0.09764809236910374, 'subsample': 0.8267202724089082, 'colsample_bytree': 0.13231427724336134, 'reg_lambda': 3.4608209638005514}. Best is trial 162 with value: 0.8624712254570074.\u001b[0m\n"
     ]
    },
    {
     "name": "stdout",
     "output_type": "stream",
     "text": [
      "========== Fold=1 ==========\n",
      "========== Fold=2 ==========\n",
      "========== Fold=3 ==========\n",
      "========== Fold=4 ==========\n",
      "========== Fold=5 ==========\n"
     ]
    },
    {
     "name": "stderr",
     "output_type": "stream",
     "text": [
      "\u001b[32m[I 2023-01-19 21:49:18,874]\u001b[0m Trial 346 finished with value: 0.8581651997291807 and parameters: {'max_depth': 3, 'n_estimators': 712, 'min_child_weight': 0.019970539058806382, 'eta': 0.10970267263158762, 'subsample': 0.8545867789531325, 'colsample_bytree': 0.15279322066255266, 'reg_lambda': 3.4500372782830135}. Best is trial 162 with value: 0.8624712254570074.\u001b[0m\n"
     ]
    },
    {
     "name": "stdout",
     "output_type": "stream",
     "text": [
      "========== Fold=1 ==========\n",
      "========== Fold=2 ==========\n",
      "========== Fold=3 ==========\n",
      "========== Fold=4 ==========\n",
      "========== Fold=5 ==========\n"
     ]
    },
    {
     "name": "stderr",
     "output_type": "stream",
     "text": [
      "\u001b[32m[I 2023-01-19 21:49:21,289]\u001b[0m Trial 347 finished with value: 0.8462085308056873 and parameters: {'max_depth': 3, 'n_estimators': 685, 'min_child_weight': 0.0017874025335773349, 'eta': 0.2300696328672039, 'subsample': 0.8282249780784778, 'colsample_bytree': 0.16773958239740974, 'reg_lambda': 3.3281215988484147}. Best is trial 162 with value: 0.8624712254570074.\u001b[0m\n"
     ]
    },
    {
     "name": "stdout",
     "output_type": "stream",
     "text": [
      "========== Fold=1 ==========\n",
      "========== Fold=2 ==========\n",
      "========== Fold=3 ==========\n",
      "========== Fold=4 ==========\n",
      "========== Fold=5 ==========\n"
     ]
    },
    {
     "name": "stderr",
     "output_type": "stream",
     "text": [
      "\u001b[32m[I 2023-01-19 21:49:25,077]\u001b[0m Trial 348 finished with value: 0.8579620853080568 and parameters: {'max_depth': 3, 'n_estimators': 725, 'min_child_weight': 0.039760460661582106, 'eta': 0.07823824189645853, 'subsample': 0.8858839952423003, 'colsample_bytree': 0.12594159728419194, 'reg_lambda': 3.1647086044284705}. Best is trial 162 with value: 0.8624712254570074.\u001b[0m\n"
     ]
    },
    {
     "name": "stdout",
     "output_type": "stream",
     "text": [
      "========== Fold=1 ==========\n",
      "========== Fold=2 ==========\n",
      "========== Fold=3 ==========\n",
      "========== Fold=4 ==========\n",
      "========== Fold=5 ==========\n"
     ]
    },
    {
     "name": "stderr",
     "output_type": "stream",
     "text": [
      "\u001b[32m[I 2023-01-19 21:49:29,074]\u001b[0m Trial 349 finished with value: 0.8557616790792145 and parameters: {'max_depth': 3, 'n_estimators': 701, 'min_child_weight': 0.023922858164103653, 'eta': 0.0896436374339068, 'subsample': 0.8548281080956789, 'colsample_bytree': 0.1388418400703877, 'reg_lambda': 3.3882080309850826}. Best is trial 162 with value: 0.8624712254570074.\u001b[0m\n"
     ]
    },
    {
     "name": "stdout",
     "output_type": "stream",
     "text": [
      "========== Fold=1 ==========\n",
      "========== Fold=2 ==========\n",
      "========== Fold=3 ==========\n",
      "========== Fold=4 ==========\n",
      "========== Fold=5 ==========\n"
     ]
    },
    {
     "name": "stderr",
     "output_type": "stream",
     "text": [
      "\u001b[32m[I 2023-01-19 21:49:33,776]\u001b[0m Trial 350 finished with value: 0.8565233581584293 and parameters: {'max_depth': 3, 'n_estimators': 669, 'min_child_weight': 0.03927353125789826, 'eta': 0.06871466250111735, 'subsample': 0.8371399959125617, 'colsample_bytree': 0.11757505056847616, 'reg_lambda': 3.4967663250000918}. Best is trial 162 with value: 0.8624712254570074.\u001b[0m\n"
     ]
    },
    {
     "name": "stdout",
     "output_type": "stream",
     "text": [
      "========== Fold=1 ==========\n",
      "========== Fold=2 ==========\n",
      "========== Fold=3 ==========\n",
      "========== Fold=4 ==========\n",
      "========== Fold=5 ==========\n"
     ]
    },
    {
     "name": "stderr",
     "output_type": "stream",
     "text": [
      "\u001b[32m[I 2023-01-19 21:49:37,397]\u001b[0m Trial 351 finished with value: 0.8598781313473256 and parameters: {'max_depth': 3, 'n_estimators': 726, 'min_child_weight': 0.004087504135544007, 'eta': 0.11806725704943091, 'subsample': 0.8727936189430029, 'colsample_bytree': 0.1001226001354213, 'reg_lambda': 3.2637368908663316}. Best is trial 162 with value: 0.8624712254570074.\u001b[0m\n"
     ]
    },
    {
     "name": "stdout",
     "output_type": "stream",
     "text": [
      "========== Fold=1 ==========\n",
      "========== Fold=2 ==========\n",
      "========== Fold=3 ==========\n",
      "========== Fold=4 ==========\n",
      "========== Fold=5 ==========\n"
     ]
    },
    {
     "name": "stderr",
     "output_type": "stream",
     "text": [
      "\u001b[32m[I 2023-01-19 21:49:40,983]\u001b[0m Trial 352 finished with value: 0.8588117806364252 and parameters: {'max_depth': 3, 'n_estimators': 726, 'min_child_weight': 0.004157597400454068, 'eta': 0.12226703044214961, 'subsample': 0.871984556828977, 'colsample_bytree': 0.12999372530467868, 'reg_lambda': 3.240204128933636}. Best is trial 162 with value: 0.8624712254570074.\u001b[0m\n"
     ]
    },
    {
     "name": "stdout",
     "output_type": "stream",
     "text": [
      "========== Fold=1 ==========\n",
      "========== Fold=2 ==========\n",
      "========== Fold=3 ==========\n",
      "========== Fold=4 ==========\n",
      "========== Fold=5 ==========\n"
     ]
    },
    {
     "name": "stderr",
     "output_type": "stream",
     "text": [
      "\u001b[32m[I 2023-01-19 21:49:44,062]\u001b[0m Trial 353 finished with value: 0.8542924847664184 and parameters: {'max_depth': 3, 'n_estimators': 955, 'min_child_weight': 0.0020034679385874006, 'eta': 0.14750452373244305, 'subsample': 0.8872310991022054, 'colsample_bytree': 0.14591643663732765, 'reg_lambda': 3.164637686289723}. Best is trial 162 with value: 0.8624712254570074.\u001b[0m\n"
     ]
    },
    {
     "name": "stdout",
     "output_type": "stream",
     "text": [
      "========== Fold=1 ==========\n",
      "========== Fold=2 ==========\n",
      "========== Fold=3 ==========\n",
      "========== Fold=4 ==========\n",
      "========== Fold=5 ==========\n"
     ]
    },
    {
     "name": "stderr",
     "output_type": "stream",
     "text": [
      "\u001b[32m[I 2023-01-19 21:49:47,548]\u001b[0m Trial 354 finished with value: 0.8587576167907922 and parameters: {'max_depth': 3, 'n_estimators': 723, 'min_child_weight': 0.0019911700331882547, 'eta': 0.1302012809717085, 'subsample': 0.8743135538277248, 'colsample_bytree': 0.11850097652552313, 'reg_lambda': 3.2572339229956353}. Best is trial 162 with value: 0.8624712254570074.\u001b[0m\n"
     ]
    },
    {
     "name": "stdout",
     "output_type": "stream",
     "text": [
      "========== Fold=1 ==========\n",
      "========== Fold=2 ==========\n",
      "========== Fold=3 ==========\n",
      "========== Fold=4 ==========\n",
      "========== Fold=5 ==========\n"
     ]
    },
    {
     "name": "stderr",
     "output_type": "stream",
     "text": [
      "\u001b[32m[I 2023-01-19 21:49:50,728]\u001b[0m Trial 355 finished with value: 0.8561746784021665 and parameters: {'max_depth': 3, 'n_estimators': 730, 'min_child_weight': 0.022008580673382544, 'eta': 0.127641018922095, 'subsample': 0.9060229750080364, 'colsample_bytree': 0.1659952154305855, 'reg_lambda': 3.2586257903224545}. Best is trial 162 with value: 0.8624712254570074.\u001b[0m\n"
     ]
    },
    {
     "name": "stdout",
     "output_type": "stream",
     "text": [
      "========== Fold=1 ==========\n",
      "========== Fold=2 ==========\n",
      "========== Fold=3 ==========\n",
      "========== Fold=4 ==========\n",
      "========== Fold=5 ==========\n"
     ]
    },
    {
     "name": "stderr",
     "output_type": "stream",
     "text": [
      "\u001b[32m[I 2023-01-19 21:49:53,825]\u001b[0m Trial 356 finished with value: 0.85636086662153 and parameters: {'max_depth': 3, 'n_estimators': 730, 'min_child_weight': 0.011637549832758758, 'eta': 0.15099391399958073, 'subsample': 0.8804348733317118, 'colsample_bytree': 0.13876068027660482, 'reg_lambda': 3.1198519945961616}. Best is trial 162 with value: 0.8624712254570074.\u001b[0m\n"
     ]
    },
    {
     "name": "stdout",
     "output_type": "stream",
     "text": [
      "========== Fold=1 ==========\n",
      "========== Fold=2 ==========\n",
      "========== Fold=3 ==========\n",
      "========== Fold=4 ==========\n",
      "========== Fold=5 ==========\n"
     ]
    },
    {
     "name": "stderr",
     "output_type": "stream",
     "text": [
      "\u001b[32m[I 2023-01-19 21:49:57,164]\u001b[0m Trial 357 finished with value: 0.855941096817874 and parameters: {'max_depth': 3, 'n_estimators': 717, 'min_child_weight': 0.017699450831931723, 'eta': 0.13435721415264393, 'subsample': 0.8760343071610767, 'colsample_bytree': 0.10034789497786109, 'reg_lambda': 3.030405175422462}. Best is trial 162 with value: 0.8624712254570074.\u001b[0m\n"
     ]
    },
    {
     "name": "stdout",
     "output_type": "stream",
     "text": [
      "========== Fold=1 ==========\n",
      "========== Fold=2 ==========\n",
      "========== Fold=3 ==========\n",
      "========== Fold=4 ==========\n",
      "========== Fold=5 ==========\n"
     ]
    },
    {
     "name": "stderr",
     "output_type": "stream",
     "text": [
      "\u001b[32m[I 2023-01-19 21:50:00,830]\u001b[0m Trial 358 finished with value: 0.8573798239675017 and parameters: {'max_depth': 3, 'n_estimators': 737, 'min_child_weight': 0.04529343092250242, 'eta': 0.12400410402921255, 'subsample': 0.9001507095255876, 'colsample_bytree': 0.12625295573174436, 'reg_lambda': 3.225185037829298}. Best is trial 162 with value: 0.8624712254570074.\u001b[0m\n"
     ]
    },
    {
     "name": "stdout",
     "output_type": "stream",
     "text": [
      "========== Fold=1 ==========\n",
      "========== Fold=2 ==========\n",
      "========== Fold=3 ==========\n",
      "========== Fold=4 ==========\n",
      "========== Fold=5 ==========\n"
     ]
    },
    {
     "name": "stderr",
     "output_type": "stream",
     "text": [
      "\u001b[32m[I 2023-01-19 21:50:03,697]\u001b[0m Trial 359 finished with value: 0.8535003385240351 and parameters: {'max_depth': 3, 'n_estimators': 842, 'min_child_weight': 0.0019349333907184361, 'eta': 0.17986847310923773, 'subsample': 0.8684311782488026, 'colsample_bytree': 0.16514742575828273, 'reg_lambda': 3.2918691069246724}. Best is trial 162 with value: 0.8624712254570074.\u001b[0m\n"
     ]
    },
    {
     "name": "stdout",
     "output_type": "stream",
     "text": [
      "========== Fold=1 ==========\n",
      "========== Fold=2 ==========\n",
      "========== Fold=3 ==========\n",
      "========== Fold=4 ==========\n",
      "========== Fold=5 ==========\n"
     ]
    },
    {
     "name": "stderr",
     "output_type": "stream",
     "text": [
      "\u001b[32m[I 2023-01-19 21:50:07,072]\u001b[0m Trial 360 finished with value: 0.8578469871360866 and parameters: {'max_depth': 3, 'n_estimators': 758, 'min_child_weight': 0.04148932430378817, 'eta': 0.11301281383153247, 'subsample': 0.8162047553540089, 'colsample_bytree': 0.1447732189102246, 'reg_lambda': 3.220673623399896}. Best is trial 162 with value: 0.8624712254570074.\u001b[0m\n"
     ]
    },
    {
     "name": "stdout",
     "output_type": "stream",
     "text": [
      "========== Fold=1 ==========\n",
      "========== Fold=2 ==========\n",
      "========== Fold=3 ==========\n",
      "========== Fold=4 ==========\n",
      "========== Fold=5 ==========\n"
     ]
    },
    {
     "name": "stderr",
     "output_type": "stream",
     "text": [
      "\u001b[32m[I 2023-01-19 21:50:10,026]\u001b[0m Trial 361 finished with value: 0.8449085985104942 and parameters: {'max_depth': 3, 'n_estimators': 730, 'min_child_weight': 0.02313772679781099, 'eta': 0.16645281416473842, 'subsample': 0.8283598802621216, 'colsample_bytree': 0.11630814144526984, 'reg_lambda': 3.184247144015844}. Best is trial 162 with value: 0.8624712254570074.\u001b[0m\n"
     ]
    },
    {
     "name": "stdout",
     "output_type": "stream",
     "text": [
      "========== Fold=1 ==========\n",
      "========== Fold=2 ==========\n",
      "========== Fold=3 ==========\n",
      "========== Fold=4 ==========\n",
      "========== Fold=5 ==========\n"
     ]
    },
    {
     "name": "stderr",
     "output_type": "stream",
     "text": [
      "\u001b[32m[I 2023-01-19 21:50:13,332]\u001b[0m Trial 362 finished with value: 0.8565605958023019 and parameters: {'max_depth': 3, 'n_estimators': 712, 'min_child_weight': 0.045738845396695434, 'eta': 0.14465834071296127, 'subsample': 0.8661315291158472, 'colsample_bytree': 0.12956685504451396, 'reg_lambda': 3.3862759280859516}. Best is trial 162 with value: 0.8624712254570074.\u001b[0m\n"
     ]
    },
    {
     "name": "stdout",
     "output_type": "stream",
     "text": [
      "========== Fold=1 ==========\n",
      "========== Fold=2 ==========\n",
      "========== Fold=3 ==========\n",
      "========== Fold=4 ==========\n",
      "========== Fold=5 ==========\n"
     ]
    },
    {
     "name": "stderr",
     "output_type": "stream",
     "text": [
      "\u001b[32m[I 2023-01-19 21:50:16,771]\u001b[0m Trial 363 finished with value: 0.8516587677725118 and parameters: {'max_depth': 3, 'n_estimators': 763, 'min_child_weight': 0.014959330743165434, 'eta': 0.11411251437092462, 'subsample': 0.8433887852624888, 'colsample_bytree': 0.11532211734715696, 'reg_lambda': 3.298954815984478}. Best is trial 162 with value: 0.8624712254570074.\u001b[0m\n"
     ]
    },
    {
     "name": "stdout",
     "output_type": "stream",
     "text": [
      "========== Fold=1 ==========\n",
      "========== Fold=2 ==========\n",
      "========== Fold=3 ==========\n",
      "========== Fold=4 ==========\n",
      "========== Fold=5 ==========\n"
     ]
    },
    {
     "name": "stderr",
     "output_type": "stream",
     "text": [
      "\u001b[32m[I 2023-01-19 21:50:20,332]\u001b[0m Trial 364 finished with value: 0.8585714285714287 and parameters: {'max_depth': 3, 'n_estimators': 744, 'min_child_weight': 0.030725895813194824, 'eta': 0.12343942553644373, 'subsample': 0.8971162424703454, 'colsample_bytree': 0.10009416668721056, 'reg_lambda': 3.130596912651327}. Best is trial 162 with value: 0.8624712254570074.\u001b[0m\n"
     ]
    },
    {
     "name": "stdout",
     "output_type": "stream",
     "text": [
      "========== Fold=1 ==========\n",
      "========== Fold=2 ==========\n",
      "========== Fold=3 ==========\n",
      "========== Fold=4 ==========\n",
      "========== Fold=5 ==========\n"
     ]
    },
    {
     "name": "stderr",
     "output_type": "stream",
     "text": [
      "\u001b[32m[I 2023-01-19 21:50:23,572]\u001b[0m Trial 365 finished with value: 0.851982058226134 and parameters: {'max_depth': 3, 'n_estimators': 714, 'min_child_weight': 0.01833216372950978, 'eta': 0.1626857357488537, 'subsample': 0.8630551215640245, 'colsample_bytree': 0.15488522131780244, 'reg_lambda': 3.2477054149089484}. Best is trial 162 with value: 0.8624712254570074.\u001b[0m\n"
     ]
    },
    {
     "name": "stdout",
     "output_type": "stream",
     "text": [
      "========== Fold=1 ==========\n",
      "========== Fold=2 ==========\n",
      "========== Fold=3 ==========\n",
      "========== Fold=4 ==========\n",
      "========== Fold=5 ==========\n"
     ]
    },
    {
     "name": "stderr",
     "output_type": "stream",
     "text": [
      "\u001b[32m[I 2023-01-19 21:50:27,258]\u001b[0m Trial 366 finished with value: 0.856096817874069 and parameters: {'max_depth': 3, 'n_estimators': 683, 'min_child_weight': 0.045247813816443966, 'eta': 0.10539554616585375, 'subsample': 0.821313810352465, 'colsample_bytree': 0.13663405090851088, 'reg_lambda': 4.683173774599378}. Best is trial 162 with value: 0.8624712254570074.\u001b[0m\n"
     ]
    },
    {
     "name": "stdout",
     "output_type": "stream",
     "text": [
      "========== Fold=1 ==========\n",
      "========== Fold=2 ==========\n",
      "========== Fold=3 ==========\n",
      "========== Fold=4 ==========\n",
      "========== Fold=5 ==========\n"
     ]
    },
    {
     "name": "stderr",
     "output_type": "stream",
     "text": [
      "\u001b[32m[I 2023-01-19 21:50:30,687]\u001b[0m Trial 367 finished with value: 0.8567433987813134 and parameters: {'max_depth': 3, 'n_estimators': 794, 'min_child_weight': 0.004389758738414483, 'eta': 0.13580019205540386, 'subsample': 0.9225390041454017, 'colsample_bytree': 0.10009750771878358, 'reg_lambda': 3.0324611399958936}. Best is trial 162 with value: 0.8624712254570074.\u001b[0m\n"
     ]
    },
    {
     "name": "stdout",
     "output_type": "stream",
     "text": [
      "========== Fold=1 ==========\n",
      "========== Fold=2 ==========\n",
      "========== Fold=3 ==========\n",
      "========== Fold=4 ==========\n",
      "========== Fold=5 ==========\n"
     ]
    },
    {
     "name": "stderr",
     "output_type": "stream",
     "text": [
      "\u001b[32m[I 2023-01-19 21:50:34,679]\u001b[0m Trial 368 finished with value: 0.8152674339878132 and parameters: {'max_depth': 6, 'n_estimators': 735, 'min_child_weight': 0.04853660850117679, 'eta': 0.10966580441072553, 'subsample': 0.8778181635745391, 'colsample_bytree': 0.1790125909982074, 'reg_lambda': 3.288682214505734}. Best is trial 162 with value: 0.8624712254570074.\u001b[0m\n"
     ]
    },
    {
     "name": "stdout",
     "output_type": "stream",
     "text": [
      "========== Fold=1 ==========\n",
      "========== Fold=2 ==========\n",
      "========== Fold=3 ==========\n",
      "========== Fold=4 ==========\n",
      "========== Fold=5 ==========\n"
     ]
    },
    {
     "name": "stderr",
     "output_type": "stream",
     "text": [
      "\u001b[32m[I 2023-01-19 21:50:37,994]\u001b[0m Trial 369 finished with value: 0.8560088016249153 and parameters: {'max_depth': 3, 'n_estimators': 765, 'min_child_weight': 0.030713975746681766, 'eta': 0.10291936092088452, 'subsample': 0.8344987314148691, 'colsample_bytree': 0.12068271434163545, 'reg_lambda': 3.380688707407193}. Best is trial 162 with value: 0.8624712254570074.\u001b[0m\n"
     ]
    },
    {
     "name": "stdout",
     "output_type": "stream",
     "text": [
      "========== Fold=1 ==========\n",
      "========== Fold=2 ==========\n",
      "========== Fold=3 ==========\n",
      "========== Fold=4 ==========\n",
      "========== Fold=5 ==========\n"
     ]
    },
    {
     "name": "stderr",
     "output_type": "stream",
     "text": [
      "\u001b[32m[I 2023-01-19 21:50:41,938]\u001b[0m Trial 370 finished with value: 0.847962085308057 and parameters: {'max_depth': 3, 'n_estimators': 712, 'min_child_weight': 0.0016259173093372474, 'eta': 0.06635447669906142, 'subsample': 0.8515232302177991, 'colsample_bytree': 0.14423238352936135, 'reg_lambda': 3.1020733921912163}. Best is trial 162 with value: 0.8624712254570074.\u001b[0m\n"
     ]
    },
    {
     "name": "stdout",
     "output_type": "stream",
     "text": [
      "========== Fold=1 ==========\n",
      "========== Fold=2 ==========\n",
      "========== Fold=3 ==========\n",
      "========== Fold=4 ==========\n",
      "========== Fold=5 ==========\n"
     ]
    },
    {
     "name": "stderr",
     "output_type": "stream",
     "text": [
      "\u001b[32m[I 2023-01-19 21:50:45,395]\u001b[0m Trial 371 finished with value: 0.8522342586323628 and parameters: {'max_depth': 3, 'n_estimators': 666, 'min_child_weight': 0.05309043203231504, 'eta': 0.12486601495791144, 'subsample': 0.8033983667475199, 'colsample_bytree': 0.1201336264357043, 'reg_lambda': 3.499995713212389}. Best is trial 162 with value: 0.8624712254570074.\u001b[0m\n"
     ]
    },
    {
     "name": "stdout",
     "output_type": "stream",
     "text": [
      "========== Fold=1 ==========\n",
      "========== Fold=2 ==========\n",
      "========== Fold=3 ==========\n",
      "========== Fold=4 ==========\n",
      "========== Fold=5 ==========\n"
     ]
    },
    {
     "name": "stderr",
     "output_type": "stream",
     "text": [
      "\u001b[32m[I 2023-01-19 21:50:47,711]\u001b[0m Trial 372 finished with value: 0.8515267433987813 and parameters: {'max_depth': 3, 'n_estimators': 745, 'min_child_weight': 0.001014292562462217, 'eta': 0.2050762858285351, 'subsample': 0.8810087224985568, 'colsample_bytree': 0.8203782385850724, 'reg_lambda': 3.343828815964501}. Best is trial 162 with value: 0.8624712254570074.\u001b[0m\n"
     ]
    },
    {
     "name": "stdout",
     "output_type": "stream",
     "text": [
      "========== Fold=1 ==========\n",
      "========== Fold=2 ==========\n",
      "========== Fold=3 ==========\n",
      "========== Fold=4 ==========\n",
      "========== Fold=5 ==========\n"
     ]
    },
    {
     "name": "stderr",
     "output_type": "stream",
     "text": [
      "\u001b[32m[I 2023-01-19 21:50:50,665]\u001b[0m Trial 373 finished with value: 0.8535680433310765 and parameters: {'max_depth': 3, 'n_estimators': 707, 'min_child_weight': 0.026715419686849713, 'eta': 0.14139004206457212, 'subsample': 0.8287688918462395, 'colsample_bytree': 0.16011578400684345, 'reg_lambda': 3.179646983201522}. Best is trial 162 with value: 0.8624712254570074.\u001b[0m\n"
     ]
    },
    {
     "name": "stdout",
     "output_type": "stream",
     "text": [
      "========== Fold=1 ==========\n",
      "========== Fold=2 ==========\n",
      "========== Fold=3 ==========\n",
      "========== Fold=4 ==========\n",
      "========== Fold=5 ==========\n"
     ]
    },
    {
     "name": "stderr",
     "output_type": "stream",
     "text": [
      "\u001b[32m[I 2023-01-19 21:50:55,372]\u001b[0m Trial 374 finished with value: 0.858537576167908 and parameters: {'max_depth': 3, 'n_estimators': 776, 'min_child_weight': 0.0328515178633149, 'eta': 0.0701974468238882, 'subsample': 0.8628290019348686, 'colsample_bytree': 0.12777554803237615, 'reg_lambda': 3.2261856141301037}. Best is trial 162 with value: 0.8624712254570074.\u001b[0m\n"
     ]
    },
    {
     "name": "stdout",
     "output_type": "stream",
     "text": [
      "========== Fold=1 ==========\n",
      "========== Fold=2 ==========\n",
      "========== Fold=3 ==========\n",
      "========== Fold=4 ==========\n",
      "========== Fold=5 ==========\n"
     ]
    },
    {
     "name": "stderr",
     "output_type": "stream",
     "text": [
      "\u001b[32m[I 2023-01-19 21:50:58,878]\u001b[0m Trial 375 finished with value: 0.8542484766418414 and parameters: {'max_depth': 3, 'n_estimators': 683, 'min_child_weight': 0.01898144097325346, 'eta': 0.09790317537544156, 'subsample': 0.8996626613853402, 'colsample_bytree': 0.1388197135141155, 'reg_lambda': 2.842318972284369}. Best is trial 162 with value: 0.8624712254570074.\u001b[0m\n"
     ]
    },
    {
     "name": "stdout",
     "output_type": "stream",
     "text": [
      "========== Fold=1 ==========\n",
      "========== Fold=2 ==========\n",
      "========== Fold=3 ==========\n",
      "========== Fold=4 ==========\n",
      "========== Fold=5 ==========\n"
     ]
    },
    {
     "name": "stderr",
     "output_type": "stream",
     "text": [
      "\u001b[32m[I 2023-01-19 21:51:03,043]\u001b[0m Trial 376 finished with value: 0.8590419769803654 and parameters: {'max_depth': 3, 'n_estimators': 729, 'min_child_weight': 0.05312780287928082, 'eta': 0.08265971146751967, 'subsample': 0.8558534277775212, 'colsample_bytree': 0.11520756220566777, 'reg_lambda': 3.3444229967931385}. Best is trial 162 with value: 0.8624712254570074.\u001b[0m\n"
     ]
    },
    {
     "name": "stdout",
     "output_type": "stream",
     "text": [
      "========== Fold=1 ==========\n",
      "========== Fold=2 ==========\n",
      "========== Fold=3 ==========\n",
      "========== Fold=4 ==========\n",
      "========== Fold=5 ==========\n"
     ]
    },
    {
     "name": "stderr",
     "output_type": "stream",
     "text": [
      "\u001b[32m[I 2023-01-19 21:51:07,289]\u001b[0m Trial 377 finished with value: 0.8599119837508463 and parameters: {'max_depth': 3, 'n_estimators': 811, 'min_child_weight': 0.059224885226443987, 'eta': 0.07957658418249858, 'subsample': 0.8387117582731631, 'colsample_bytree': 0.11605444673053059, 'reg_lambda': 3.383371904465094}. Best is trial 162 with value: 0.8624712254570074.\u001b[0m\n"
     ]
    },
    {
     "name": "stdout",
     "output_type": "stream",
     "text": [
      "========== Fold=1 ==========\n",
      "========== Fold=2 ==========\n",
      "========== Fold=3 ==========\n",
      "========== Fold=4 ==========\n",
      "========== Fold=5 ==========\n"
     ]
    },
    {
     "name": "stderr",
     "output_type": "stream",
     "text": [
      "\u001b[32m[I 2023-01-19 21:51:11,956]\u001b[0m Trial 378 finished with value: 0.8556296547054841 and parameters: {'max_depth': 3, 'n_estimators': 822, 'min_child_weight': 0.05864949846758834, 'eta': 0.07936574092806405, 'subsample': 0.8194716487835595, 'colsample_bytree': 0.15723193427310617, 'reg_lambda': 3.4372907795350116}. Best is trial 162 with value: 0.8624712254570074.\u001b[0m\n"
     ]
    },
    {
     "name": "stdout",
     "output_type": "stream",
     "text": [
      "========== Fold=1 ==========\n",
      "========== Fold=2 ==========\n",
      "========== Fold=3 ==========\n",
      "========== Fold=4 ==========\n",
      "========== Fold=5 ==========\n"
     ]
    },
    {
     "name": "stderr",
     "output_type": "stream",
     "text": [
      "\u001b[32m[I 2023-01-19 21:51:15,270]\u001b[0m Trial 379 finished with value: 0.8545362220717672 and parameters: {'max_depth': 3, 'n_estimators': 864, 'min_child_weight': 0.046730679258244374, 'eta': 0.09702268890515561, 'subsample': 0.8464237962926102, 'colsample_bytree': 0.14146626311928132, 'reg_lambda': 3.364245597275266}. Best is trial 162 with value: 0.8624712254570074.\u001b[0m\n"
     ]
    },
    {
     "name": "stdout",
     "output_type": "stream",
     "text": [
      "========== Fold=1 ==========\n",
      "========== Fold=2 ==========\n",
      "========== Fold=3 ==========\n",
      "========== Fold=4 ==========\n",
      "========== Fold=5 ==========\n"
     ]
    },
    {
     "name": "stderr",
     "output_type": "stream",
     "text": [
      "\u001b[32m[I 2023-01-19 21:51:20,141]\u001b[0m Trial 380 finished with value: 0.8544143534190928 and parameters: {'max_depth': 3, 'n_estimators': 796, 'min_child_weight': 0.05847728979062585, 'eta': 0.06435243162714935, 'subsample': 0.8391603144626993, 'colsample_bytree': 0.177443738483881, 'reg_lambda': 3.5108174766118694}. Best is trial 162 with value: 0.8624712254570074.\u001b[0m\n"
     ]
    },
    {
     "name": "stdout",
     "output_type": "stream",
     "text": [
      "========== Fold=1 ==========\n",
      "========== Fold=2 ==========\n",
      "========== Fold=3 ==========\n",
      "========== Fold=4 ==========\n",
      "========== Fold=5 ==========\n"
     ]
    },
    {
     "name": "stderr",
     "output_type": "stream",
     "text": [
      "\u001b[32m[I 2023-01-19 21:51:24,082]\u001b[0m Trial 381 finished with value: 0.8532769126607989 and parameters: {'max_depth': 3, 'n_estimators': 836, 'min_child_weight': 0.034601180207160395, 'eta': 0.09155945245971199, 'subsample': 0.8040593600028307, 'colsample_bytree': 0.11767879697806187, 'reg_lambda': 3.359663790651738}. Best is trial 162 with value: 0.8624712254570074.\u001b[0m\n"
     ]
    },
    {
     "name": "stdout",
     "output_type": "stream",
     "text": [
      "========== Fold=1 ==========\n",
      "========== Fold=2 ==========\n",
      "========== Fold=3 ==========\n",
      "========== Fold=4 ==========\n",
      "========== Fold=5 ==========\n"
     ]
    },
    {
     "name": "stderr",
     "output_type": "stream",
     "text": [
      "\u001b[32m[I 2023-01-19 21:51:27,859]\u001b[0m Trial 382 finished with value: 0.8554197698036561 and parameters: {'max_depth': 3, 'n_estimators': 904, 'min_child_weight': 0.0646243591573515, 'eta': 0.10864084377055121, 'subsample': 0.8500884454765711, 'colsample_bytree': 0.10049979802877497, 'reg_lambda': 3.3099826645927424}. Best is trial 162 with value: 0.8624712254570074.\u001b[0m\n"
     ]
    },
    {
     "name": "stdout",
     "output_type": "stream",
     "text": [
      "========== Fold=1 ==========\n",
      "========== Fold=2 ==========\n",
      "========== Fold=3 ==========\n",
      "========== Fold=4 ==========\n",
      "========== Fold=5 ==========\n"
     ]
    },
    {
     "name": "stderr",
     "output_type": "stream",
     "text": [
      "\u001b[32m[I 2023-01-19 21:51:29,059]\u001b[0m Trial 383 finished with value: 0.8222511848341232 and parameters: {'max_depth': 3, 'n_estimators': 68, 'min_child_weight': 0.03748890500100603, 'eta': 0.08247691265147775, 'subsample': 0.8320027262780044, 'colsample_bytree': 0.13571617326921076, 'reg_lambda': 3.4464929261289896}. Best is trial 162 with value: 0.8624712254570074.\u001b[0m\n"
     ]
    },
    {
     "name": "stdout",
     "output_type": "stream",
     "text": [
      "========== Fold=1 ==========\n",
      "========== Fold=2 ==========\n",
      "========== Fold=3 ==========\n",
      "========== Fold=4 ==========\n",
      "========== Fold=5 ==========\n"
     ]
    },
    {
     "name": "stderr",
     "output_type": "stream",
     "text": [
      "\u001b[32m[I 2023-01-19 21:51:33,628]\u001b[0m Trial 384 finished with value: 0.8540521327014217 and parameters: {'max_depth': 3, 'n_estimators': 766, 'min_child_weight': 0.055796030193206884, 'eta': 0.06116305049521025, 'subsample': 0.8577590087041128, 'colsample_bytree': 0.16084148637661227, 'reg_lambda': 2.9752369553472264}. Best is trial 162 with value: 0.8624712254570074.\u001b[0m\n"
     ]
    },
    {
     "name": "stdout",
     "output_type": "stream",
     "text": [
      "========== Fold=1 ==========\n",
      "========== Fold=2 ==========\n",
      "========== Fold=3 ==========\n",
      "========== Fold=4 ==========\n",
      "========== Fold=5 ==========\n"
     ]
    },
    {
     "name": "stderr",
     "output_type": "stream",
     "text": [
      "\u001b[32m[I 2023-01-19 21:51:37,732]\u001b[0m Trial 385 finished with value: 0.8566587677725118 and parameters: {'max_depth': 3, 'n_estimators': 822, 'min_child_weight': 0.021194850667514656, 'eta': 0.10974037814314955, 'subsample': 0.814304470548167, 'colsample_bytree': 0.1281761693130859, 'reg_lambda': 3.525814463558139}. Best is trial 162 with value: 0.8624712254570074.\u001b[0m\n"
     ]
    },
    {
     "name": "stdout",
     "output_type": "stream",
     "text": [
      "========== Fold=1 ==========\n",
      "========== Fold=2 ==========\n",
      "========== Fold=3 ==========\n",
      "========== Fold=4 ==========\n",
      "========== Fold=5 ==========\n"
     ]
    },
    {
     "name": "stderr",
     "output_type": "stream",
     "text": [
      "\u001b[32m[I 2023-01-19 21:51:41,983]\u001b[0m Trial 386 finished with value: 0.852657413676371 and parameters: {'max_depth': 3, 'n_estimators': 779, 'min_child_weight': 0.06783382119223881, 'eta': 0.0808462086117485, 'subsample': 0.16993048692443963, 'colsample_bytree': 0.11765361131665966, 'reg_lambda': 3.1301630693161866}. Best is trial 162 with value: 0.8624712254570074.\u001b[0m\n"
     ]
    },
    {
     "name": "stdout",
     "output_type": "stream",
     "text": [
      "========== Fold=1 ==========\n",
      "========== Fold=2 ==========\n",
      "========== Fold=3 ==========\n",
      "========== Fold=4 ==========\n",
      "========== Fold=5 ==========\n"
     ]
    },
    {
     "name": "stderr",
     "output_type": "stream",
     "text": [
      "\u001b[32m[I 2023-01-19 21:51:43,781]\u001b[0m Trial 387 finished with value: 0.827972241029113 and parameters: {'max_depth': 3, 'n_estimators': 749, 'min_child_weight': 0.04208832776940105, 'eta': 0.8457098250994026, 'subsample': 0.8728151722249666, 'colsample_bytree': 0.14752400807568103, 'reg_lambda': 3.412503861247763}. Best is trial 162 with value: 0.8624712254570074.\u001b[0m\n"
     ]
    },
    {
     "name": "stdout",
     "output_type": "stream",
     "text": [
      "========== Fold=1 ==========\n",
      "========== Fold=2 ==========\n",
      "========== Fold=3 ==========\n",
      "========== Fold=4 ==========\n"
     ]
    },
    {
     "name": "stderr",
     "output_type": "stream",
     "text": [
      "\u001b[33m[W 2023-01-19 21:51:46,455]\u001b[0m Trial 388 failed because of the following error: KeyboardInterrupt()\u001b[0m\n",
      "Traceback (most recent call last):\n",
      "  File \"D:\\source\\repos\\venv\\Python310\\lib\\site-packages\\optuna\\study\\_optimize.py\", line 196, in _run_trial\n",
      "    value_or_values = func(trial)\n",
      "  File \"C:\\Users\\ryans\\AppData\\Local\\Temp\\ipykernel_27108\\2134071874.py\", line 38, in objective_v3\n",
      "    reg.fit(X_train, y_train, eval_set=[(X_valid, y_valid)], verbose=False)\n",
      "  File \"D:\\source\\repos\\venv\\Python310\\lib\\site-packages\\xgboost\\core.py\", line 620, in inner_f\n",
      "    return func(**kwargs)\n",
      "  File \"D:\\source\\repos\\venv\\Python310\\lib\\site-packages\\xgboost\\sklearn.py\", line 1025, in fit\n",
      "    self._Booster = train(\n",
      "  File \"D:\\source\\repos\\venv\\Python310\\lib\\site-packages\\xgboost\\core.py\", line 620, in inner_f\n",
      "    return func(**kwargs)\n",
      "  File \"D:\\source\\repos\\venv\\Python310\\lib\\site-packages\\xgboost\\training.py\", line 186, in train\n",
      "    if cb_container.after_iteration(bst, i, dtrain, evals):\n",
      "  File \"D:\\source\\repos\\venv\\Python310\\lib\\site-packages\\xgboost\\callback.py\", line 240, in after_iteration\n",
      "    score: str = model.eval_set(evals, epoch, self.metric, self._output_margin)\n",
      "  File \"D:\\source\\repos\\venv\\Python310\\lib\\site-packages\\xgboost\\core.py\", line 1989, in eval_set\n",
      "    _LIB.XGBoosterEvalOneIter(\n",
      "KeyboardInterrupt\n"
     ]
    },
    {
     "ename": "KeyboardInterrupt",
     "evalue": "",
     "output_type": "error",
     "traceback": [
      "\u001b[1;31m---------------------------------------------------------------------------\u001b[0m",
      "\u001b[1;31mKeyboardInterrupt\u001b[0m                         Traceback (most recent call last)",
      "Cell \u001b[1;32mIn[12], line 2\u001b[0m\n\u001b[0;32m      1\u001b[0m study \u001b[38;5;241m=\u001b[39m optuna\u001b[38;5;241m.\u001b[39mcreate_study(direction\u001b[38;5;241m=\u001b[39m\u001b[38;5;124m'\u001b[39m\u001b[38;5;124mmaximize\u001b[39m\u001b[38;5;124m'\u001b[39m, sampler\u001b[38;5;241m=\u001b[39mTPESampler(), study_name\u001b[38;5;241m=\u001b[39mobjective)\n\u001b[1;32m----> 2\u001b[0m \u001b[43mstudy\u001b[49m\u001b[38;5;241;43m.\u001b[39;49m\u001b[43moptimize\u001b[49m\u001b[43m(\u001b[49m\u001b[43mobjective_v3\u001b[49m\u001b[43m,\u001b[49m\u001b[43m \u001b[49m\u001b[43mtimeout\u001b[49m\u001b[38;5;241;43m=\u001b[39;49m\u001b[43mtrain_time\u001b[49m\u001b[43m)\u001b[49m\n",
      "File \u001b[1;32mD:\\source\\repos\\venv\\Python310\\lib\\site-packages\\optuna\\study\\study.py:419\u001b[0m, in \u001b[0;36mStudy.optimize\u001b[1;34m(self, func, n_trials, timeout, n_jobs, catch, callbacks, gc_after_trial, show_progress_bar)\u001b[0m\n\u001b[0;32m    315\u001b[0m \u001b[38;5;28;01mdef\u001b[39;00m \u001b[38;5;21moptimize\u001b[39m(\n\u001b[0;32m    316\u001b[0m     \u001b[38;5;28mself\u001b[39m,\n\u001b[0;32m    317\u001b[0m     func: ObjectiveFuncType,\n\u001b[1;32m   (...)\u001b[0m\n\u001b[0;32m    324\u001b[0m     show_progress_bar: \u001b[38;5;28mbool\u001b[39m \u001b[38;5;241m=\u001b[39m \u001b[38;5;28;01mFalse\u001b[39;00m,\n\u001b[0;32m    325\u001b[0m ) \u001b[38;5;241m-\u001b[39m\u001b[38;5;241m>\u001b[39m \u001b[38;5;28;01mNone\u001b[39;00m:\n\u001b[0;32m    326\u001b[0m     \u001b[38;5;124;03m\"\"\"Optimize an objective function.\u001b[39;00m\n\u001b[0;32m    327\u001b[0m \n\u001b[0;32m    328\u001b[0m \u001b[38;5;124;03m    Optimization is done by choosing a suitable set of hyperparameter values from a given\u001b[39;00m\n\u001b[1;32m   (...)\u001b[0m\n\u001b[0;32m    416\u001b[0m \u001b[38;5;124;03m            If nested invocation of this method occurs.\u001b[39;00m\n\u001b[0;32m    417\u001b[0m \u001b[38;5;124;03m    \"\"\"\u001b[39;00m\n\u001b[1;32m--> 419\u001b[0m     \u001b[43m_optimize\u001b[49m\u001b[43m(\u001b[49m\n\u001b[0;32m    420\u001b[0m \u001b[43m        \u001b[49m\u001b[43mstudy\u001b[49m\u001b[38;5;241;43m=\u001b[39;49m\u001b[38;5;28;43mself\u001b[39;49m\u001b[43m,\u001b[49m\n\u001b[0;32m    421\u001b[0m \u001b[43m        \u001b[49m\u001b[43mfunc\u001b[49m\u001b[38;5;241;43m=\u001b[39;49m\u001b[43mfunc\u001b[49m\u001b[43m,\u001b[49m\n\u001b[0;32m    422\u001b[0m \u001b[43m        \u001b[49m\u001b[43mn_trials\u001b[49m\u001b[38;5;241;43m=\u001b[39;49m\u001b[43mn_trials\u001b[49m\u001b[43m,\u001b[49m\n\u001b[0;32m    423\u001b[0m \u001b[43m        \u001b[49m\u001b[43mtimeout\u001b[49m\u001b[38;5;241;43m=\u001b[39;49m\u001b[43mtimeout\u001b[49m\u001b[43m,\u001b[49m\n\u001b[0;32m    424\u001b[0m \u001b[43m        \u001b[49m\u001b[43mn_jobs\u001b[49m\u001b[38;5;241;43m=\u001b[39;49m\u001b[43mn_jobs\u001b[49m\u001b[43m,\u001b[49m\n\u001b[0;32m    425\u001b[0m \u001b[43m        \u001b[49m\u001b[43mcatch\u001b[49m\u001b[38;5;241;43m=\u001b[39;49m\u001b[43mcatch\u001b[49m\u001b[43m,\u001b[49m\n\u001b[0;32m    426\u001b[0m \u001b[43m        \u001b[49m\u001b[43mcallbacks\u001b[49m\u001b[38;5;241;43m=\u001b[39;49m\u001b[43mcallbacks\u001b[49m\u001b[43m,\u001b[49m\n\u001b[0;32m    427\u001b[0m \u001b[43m        \u001b[49m\u001b[43mgc_after_trial\u001b[49m\u001b[38;5;241;43m=\u001b[39;49m\u001b[43mgc_after_trial\u001b[49m\u001b[43m,\u001b[49m\n\u001b[0;32m    428\u001b[0m \u001b[43m        \u001b[49m\u001b[43mshow_progress_bar\u001b[49m\u001b[38;5;241;43m=\u001b[39;49m\u001b[43mshow_progress_bar\u001b[49m\u001b[43m,\u001b[49m\n\u001b[0;32m    429\u001b[0m \u001b[43m    \u001b[49m\u001b[43m)\u001b[49m\n",
      "File \u001b[1;32mD:\\source\\repos\\venv\\Python310\\lib\\site-packages\\optuna\\study\\_optimize.py:66\u001b[0m, in \u001b[0;36m_optimize\u001b[1;34m(study, func, n_trials, timeout, n_jobs, catch, callbacks, gc_after_trial, show_progress_bar)\u001b[0m\n\u001b[0;32m     64\u001b[0m \u001b[38;5;28;01mtry\u001b[39;00m:\n\u001b[0;32m     65\u001b[0m     \u001b[38;5;28;01mif\u001b[39;00m n_jobs \u001b[38;5;241m==\u001b[39m \u001b[38;5;241m1\u001b[39m:\n\u001b[1;32m---> 66\u001b[0m         \u001b[43m_optimize_sequential\u001b[49m\u001b[43m(\u001b[49m\n\u001b[0;32m     67\u001b[0m \u001b[43m            \u001b[49m\u001b[43mstudy\u001b[49m\u001b[43m,\u001b[49m\n\u001b[0;32m     68\u001b[0m \u001b[43m            \u001b[49m\u001b[43mfunc\u001b[49m\u001b[43m,\u001b[49m\n\u001b[0;32m     69\u001b[0m \u001b[43m            \u001b[49m\u001b[43mn_trials\u001b[49m\u001b[43m,\u001b[49m\n\u001b[0;32m     70\u001b[0m \u001b[43m            \u001b[49m\u001b[43mtimeout\u001b[49m\u001b[43m,\u001b[49m\n\u001b[0;32m     71\u001b[0m \u001b[43m            \u001b[49m\u001b[43mcatch\u001b[49m\u001b[43m,\u001b[49m\n\u001b[0;32m     72\u001b[0m \u001b[43m            \u001b[49m\u001b[43mcallbacks\u001b[49m\u001b[43m,\u001b[49m\n\u001b[0;32m     73\u001b[0m \u001b[43m            \u001b[49m\u001b[43mgc_after_trial\u001b[49m\u001b[43m,\u001b[49m\n\u001b[0;32m     74\u001b[0m \u001b[43m            \u001b[49m\u001b[43mreseed_sampler_rng\u001b[49m\u001b[38;5;241;43m=\u001b[39;49m\u001b[38;5;28;43;01mFalse\u001b[39;49;00m\u001b[43m,\u001b[49m\n\u001b[0;32m     75\u001b[0m \u001b[43m            \u001b[49m\u001b[43mtime_start\u001b[49m\u001b[38;5;241;43m=\u001b[39;49m\u001b[38;5;28;43;01mNone\u001b[39;49;00m\u001b[43m,\u001b[49m\n\u001b[0;32m     76\u001b[0m \u001b[43m            \u001b[49m\u001b[43mprogress_bar\u001b[49m\u001b[38;5;241;43m=\u001b[39;49m\u001b[43mprogress_bar\u001b[49m\u001b[43m,\u001b[49m\n\u001b[0;32m     77\u001b[0m \u001b[43m        \u001b[49m\u001b[43m)\u001b[49m\n\u001b[0;32m     78\u001b[0m     \u001b[38;5;28;01melse\u001b[39;00m:\n\u001b[0;32m     79\u001b[0m         \u001b[38;5;28;01mif\u001b[39;00m n_jobs \u001b[38;5;241m==\u001b[39m \u001b[38;5;241m-\u001b[39m\u001b[38;5;241m1\u001b[39m:\n",
      "File \u001b[1;32mD:\\source\\repos\\venv\\Python310\\lib\\site-packages\\optuna\\study\\_optimize.py:160\u001b[0m, in \u001b[0;36m_optimize_sequential\u001b[1;34m(study, func, n_trials, timeout, catch, callbacks, gc_after_trial, reseed_sampler_rng, time_start, progress_bar)\u001b[0m\n\u001b[0;32m    157\u001b[0m         \u001b[38;5;28;01mbreak\u001b[39;00m\n\u001b[0;32m    159\u001b[0m \u001b[38;5;28;01mtry\u001b[39;00m:\n\u001b[1;32m--> 160\u001b[0m     frozen_trial \u001b[38;5;241m=\u001b[39m \u001b[43m_run_trial\u001b[49m\u001b[43m(\u001b[49m\u001b[43mstudy\u001b[49m\u001b[43m,\u001b[49m\u001b[43m \u001b[49m\u001b[43mfunc\u001b[49m\u001b[43m,\u001b[49m\u001b[43m \u001b[49m\u001b[43mcatch\u001b[49m\u001b[43m)\u001b[49m\n\u001b[0;32m    161\u001b[0m \u001b[38;5;28;01mfinally\u001b[39;00m:\n\u001b[0;32m    162\u001b[0m     \u001b[38;5;66;03m# The following line mitigates memory problems that can be occurred in some\u001b[39;00m\n\u001b[0;32m    163\u001b[0m     \u001b[38;5;66;03m# environments (e.g., services that use computing containers such as CircleCI).\u001b[39;00m\n\u001b[0;32m    164\u001b[0m     \u001b[38;5;66;03m# Please refer to the following PR for further details:\u001b[39;00m\n\u001b[0;32m    165\u001b[0m     \u001b[38;5;66;03m# https://github.com/optuna/optuna/pull/325.\u001b[39;00m\n\u001b[0;32m    166\u001b[0m     \u001b[38;5;28;01mif\u001b[39;00m gc_after_trial:\n",
      "File \u001b[1;32mD:\\source\\repos\\venv\\Python310\\lib\\site-packages\\optuna\\study\\_optimize.py:234\u001b[0m, in \u001b[0;36m_run_trial\u001b[1;34m(study, func, catch)\u001b[0m\n\u001b[0;32m    227\u001b[0m         \u001b[38;5;28;01massert\u001b[39;00m \u001b[38;5;28;01mFalse\u001b[39;00m, \u001b[38;5;124m\"\u001b[39m\u001b[38;5;124mShould not reach.\u001b[39m\u001b[38;5;124m\"\u001b[39m\n\u001b[0;32m    229\u001b[0m \u001b[38;5;28;01mif\u001b[39;00m (\n\u001b[0;32m    230\u001b[0m     frozen_trial\u001b[38;5;241m.\u001b[39mstate \u001b[38;5;241m==\u001b[39m TrialState\u001b[38;5;241m.\u001b[39mFAIL\n\u001b[0;32m    231\u001b[0m     \u001b[38;5;129;01mand\u001b[39;00m func_err \u001b[38;5;129;01mis\u001b[39;00m \u001b[38;5;129;01mnot\u001b[39;00m \u001b[38;5;28;01mNone\u001b[39;00m\n\u001b[0;32m    232\u001b[0m     \u001b[38;5;129;01mand\u001b[39;00m \u001b[38;5;129;01mnot\u001b[39;00m \u001b[38;5;28misinstance\u001b[39m(func_err, catch)\n\u001b[0;32m    233\u001b[0m ):\n\u001b[1;32m--> 234\u001b[0m     \u001b[38;5;28;01mraise\u001b[39;00m func_err\n\u001b[0;32m    235\u001b[0m \u001b[38;5;28;01mreturn\u001b[39;00m frozen_trial\n",
      "File \u001b[1;32mD:\\source\\repos\\venv\\Python310\\lib\\site-packages\\optuna\\study\\_optimize.py:196\u001b[0m, in \u001b[0;36m_run_trial\u001b[1;34m(study, func, catch)\u001b[0m\n\u001b[0;32m    194\u001b[0m \u001b[38;5;28;01mwith\u001b[39;00m get_heartbeat_thread(trial\u001b[38;5;241m.\u001b[39m_trial_id, study\u001b[38;5;241m.\u001b[39m_storage):\n\u001b[0;32m    195\u001b[0m     \u001b[38;5;28;01mtry\u001b[39;00m:\n\u001b[1;32m--> 196\u001b[0m         value_or_values \u001b[38;5;241m=\u001b[39m \u001b[43mfunc\u001b[49m\u001b[43m(\u001b[49m\u001b[43mtrial\u001b[49m\u001b[43m)\u001b[49m\n\u001b[0;32m    197\u001b[0m     \u001b[38;5;28;01mexcept\u001b[39;00m exceptions\u001b[38;5;241m.\u001b[39mTrialPruned \u001b[38;5;28;01mas\u001b[39;00m e:\n\u001b[0;32m    198\u001b[0m         \u001b[38;5;66;03m# TODO(mamu): Handle multi-objective cases.\u001b[39;00m\n\u001b[0;32m    199\u001b[0m         state \u001b[38;5;241m=\u001b[39m TrialState\u001b[38;5;241m.\u001b[39mPRUNED\n",
      "Cell \u001b[1;32mIn[11], line 38\u001b[0m, in \u001b[0;36mobjective_v3\u001b[1;34m(trial)\u001b[0m\n\u001b[0;32m     24\u001b[0m     y_train , y_valid \u001b[38;5;241m=\u001b[39m train_df[target]\u001b[38;5;241m.\u001b[39miloc[train_idx] , train_df[target]\u001b[38;5;241m.\u001b[39miloc[valid_idx] \n\u001b[0;32m     26\u001b[0m     reg \u001b[38;5;241m=\u001b[39m xgb\u001b[38;5;241m.\u001b[39mXGBModel(\n\u001b[0;32m     27\u001b[0m         \u001b[38;5;66;03m# These parameters should help with trial speed.\u001b[39;00m\n\u001b[0;32m     28\u001b[0m         objective\u001b[38;5;241m=\u001b[39m\u001b[38;5;124m'\u001b[39m\u001b[38;5;124mbinary:logistic\u001b[39m\u001b[38;5;124m'\u001b[39m,\n\u001b[1;32m   (...)\u001b[0m\n\u001b[0;32m     35\u001b[0m         \u001b[38;5;241m*\u001b[39m\u001b[38;5;241m*\u001b[39mparam_grid\n\u001b[0;32m     36\u001b[0m     )\n\u001b[1;32m---> 38\u001b[0m     \u001b[43mreg\u001b[49m\u001b[38;5;241;43m.\u001b[39;49m\u001b[43mfit\u001b[49m\u001b[43m(\u001b[49m\u001b[43mX_train\u001b[49m\u001b[43m,\u001b[49m\u001b[43m \u001b[49m\u001b[43my_train\u001b[49m\u001b[43m,\u001b[49m\u001b[43m \u001b[49m\u001b[43meval_set\u001b[49m\u001b[38;5;241;43m=\u001b[39;49m\u001b[43m[\u001b[49m\u001b[43m(\u001b[49m\u001b[43mX_valid\u001b[49m\u001b[43m,\u001b[49m\u001b[43m \u001b[49m\u001b[43my_valid\u001b[49m\u001b[43m)\u001b[49m\u001b[43m]\u001b[49m\u001b[43m,\u001b[49m\u001b[43m \u001b[49m\u001b[43mverbose\u001b[49m\u001b[38;5;241;43m=\u001b[39;49m\u001b[38;5;28;43;01mFalse\u001b[39;49;00m\u001b[43m)\u001b[49m\n\u001b[0;32m     40\u001b[0m     oof[valid_idx] \u001b[38;5;241m=\u001b[39m reg\u001b[38;5;241m.\u001b[39mpredict(X_valid)\n\u001b[0;32m     42\u001b[0m roc_auc \u001b[38;5;241m=\u001b[39m roc_auc_score(Y, oof)\n",
      "File \u001b[1;32mD:\\source\\repos\\venv\\Python310\\lib\\site-packages\\xgboost\\core.py:620\u001b[0m, in \u001b[0;36mrequire_keyword_args.<locals>.throw_if.<locals>.inner_f\u001b[1;34m(*args, **kwargs)\u001b[0m\n\u001b[0;32m    618\u001b[0m \u001b[38;5;28;01mfor\u001b[39;00m k, arg \u001b[38;5;129;01min\u001b[39;00m \u001b[38;5;28mzip\u001b[39m(sig\u001b[38;5;241m.\u001b[39mparameters, args):\n\u001b[0;32m    619\u001b[0m     kwargs[k] \u001b[38;5;241m=\u001b[39m arg\n\u001b[1;32m--> 620\u001b[0m \u001b[38;5;28;01mreturn\u001b[39;00m func(\u001b[38;5;241m*\u001b[39m\u001b[38;5;241m*\u001b[39mkwargs)\n",
      "File \u001b[1;32mD:\\source\\repos\\venv\\Python310\\lib\\site-packages\\xgboost\\sklearn.py:1025\u001b[0m, in \u001b[0;36mXGBModel.fit\u001b[1;34m(self, X, y, sample_weight, base_margin, eval_set, eval_metric, early_stopping_rounds, verbose, xgb_model, sample_weight_eval_set, base_margin_eval_set, feature_weights, callbacks)\u001b[0m\n\u001b[0;32m   1014\u001b[0m     obj \u001b[38;5;241m=\u001b[39m \u001b[38;5;28;01mNone\u001b[39;00m\n\u001b[0;32m   1016\u001b[0m (\n\u001b[0;32m   1017\u001b[0m     model,\n\u001b[0;32m   1018\u001b[0m     metric,\n\u001b[1;32m   (...)\u001b[0m\n\u001b[0;32m   1023\u001b[0m     xgb_model, eval_metric, params, early_stopping_rounds, callbacks\n\u001b[0;32m   1024\u001b[0m )\n\u001b[1;32m-> 1025\u001b[0m \u001b[38;5;28mself\u001b[39m\u001b[38;5;241m.\u001b[39m_Booster \u001b[38;5;241m=\u001b[39m \u001b[43mtrain\u001b[49m\u001b[43m(\u001b[49m\n\u001b[0;32m   1026\u001b[0m \u001b[43m    \u001b[49m\u001b[43mparams\u001b[49m\u001b[43m,\u001b[49m\n\u001b[0;32m   1027\u001b[0m \u001b[43m    \u001b[49m\u001b[43mtrain_dmatrix\u001b[49m\u001b[43m,\u001b[49m\n\u001b[0;32m   1028\u001b[0m \u001b[43m    \u001b[49m\u001b[38;5;28;43mself\u001b[39;49m\u001b[38;5;241;43m.\u001b[39;49m\u001b[43mget_num_boosting_rounds\u001b[49m\u001b[43m(\u001b[49m\u001b[43m)\u001b[49m\u001b[43m,\u001b[49m\n\u001b[0;32m   1029\u001b[0m \u001b[43m    \u001b[49m\u001b[43mevals\u001b[49m\u001b[38;5;241;43m=\u001b[39;49m\u001b[43mevals\u001b[49m\u001b[43m,\u001b[49m\n\u001b[0;32m   1030\u001b[0m \u001b[43m    \u001b[49m\u001b[43mearly_stopping_rounds\u001b[49m\u001b[38;5;241;43m=\u001b[39;49m\u001b[43mearly_stopping_rounds\u001b[49m\u001b[43m,\u001b[49m\n\u001b[0;32m   1031\u001b[0m \u001b[43m    \u001b[49m\u001b[43mevals_result\u001b[49m\u001b[38;5;241;43m=\u001b[39;49m\u001b[43mevals_result\u001b[49m\u001b[43m,\u001b[49m\n\u001b[0;32m   1032\u001b[0m \u001b[43m    \u001b[49m\u001b[43mobj\u001b[49m\u001b[38;5;241;43m=\u001b[39;49m\u001b[43mobj\u001b[49m\u001b[43m,\u001b[49m\n\u001b[0;32m   1033\u001b[0m \u001b[43m    \u001b[49m\u001b[43mcustom_metric\u001b[49m\u001b[38;5;241;43m=\u001b[39;49m\u001b[43mmetric\u001b[49m\u001b[43m,\u001b[49m\n\u001b[0;32m   1034\u001b[0m \u001b[43m    \u001b[49m\u001b[43mverbose_eval\u001b[49m\u001b[38;5;241;43m=\u001b[39;49m\u001b[43mverbose\u001b[49m\u001b[43m,\u001b[49m\n\u001b[0;32m   1035\u001b[0m \u001b[43m    \u001b[49m\u001b[43mxgb_model\u001b[49m\u001b[38;5;241;43m=\u001b[39;49m\u001b[43mmodel\u001b[49m\u001b[43m,\u001b[49m\n\u001b[0;32m   1036\u001b[0m \u001b[43m    \u001b[49m\u001b[43mcallbacks\u001b[49m\u001b[38;5;241;43m=\u001b[39;49m\u001b[43mcallbacks\u001b[49m\u001b[43m,\u001b[49m\n\u001b[0;32m   1037\u001b[0m \u001b[43m\u001b[49m\u001b[43m)\u001b[49m\n\u001b[0;32m   1039\u001b[0m \u001b[38;5;28mself\u001b[39m\u001b[38;5;241m.\u001b[39m_set_evaluation_result(evals_result)\n\u001b[0;32m   1040\u001b[0m \u001b[38;5;28;01mreturn\u001b[39;00m \u001b[38;5;28mself\u001b[39m\n",
      "File \u001b[1;32mD:\\source\\repos\\venv\\Python310\\lib\\site-packages\\xgboost\\core.py:620\u001b[0m, in \u001b[0;36mrequire_keyword_args.<locals>.throw_if.<locals>.inner_f\u001b[1;34m(*args, **kwargs)\u001b[0m\n\u001b[0;32m    618\u001b[0m \u001b[38;5;28;01mfor\u001b[39;00m k, arg \u001b[38;5;129;01min\u001b[39;00m \u001b[38;5;28mzip\u001b[39m(sig\u001b[38;5;241m.\u001b[39mparameters, args):\n\u001b[0;32m    619\u001b[0m     kwargs[k] \u001b[38;5;241m=\u001b[39m arg\n\u001b[1;32m--> 620\u001b[0m \u001b[38;5;28;01mreturn\u001b[39;00m func(\u001b[38;5;241m*\u001b[39m\u001b[38;5;241m*\u001b[39mkwargs)\n",
      "File \u001b[1;32mD:\\source\\repos\\venv\\Python310\\lib\\site-packages\\xgboost\\training.py:186\u001b[0m, in \u001b[0;36mtrain\u001b[1;34m(params, dtrain, num_boost_round, evals, obj, feval, maximize, early_stopping_rounds, evals_result, verbose_eval, xgb_model, callbacks, custom_metric)\u001b[0m\n\u001b[0;32m    184\u001b[0m         \u001b[38;5;28;01mbreak\u001b[39;00m\n\u001b[0;32m    185\u001b[0m     bst\u001b[38;5;241m.\u001b[39mupdate(dtrain, i, obj)\n\u001b[1;32m--> 186\u001b[0m     \u001b[38;5;28;01mif\u001b[39;00m \u001b[43mcb_container\u001b[49m\u001b[38;5;241;43m.\u001b[39;49m\u001b[43mafter_iteration\u001b[49m\u001b[43m(\u001b[49m\u001b[43mbst\u001b[49m\u001b[43m,\u001b[49m\u001b[43m \u001b[49m\u001b[43mi\u001b[49m\u001b[43m,\u001b[49m\u001b[43m \u001b[49m\u001b[43mdtrain\u001b[49m\u001b[43m,\u001b[49m\u001b[43m \u001b[49m\u001b[43mevals\u001b[49m\u001b[43m)\u001b[49m:\n\u001b[0;32m    187\u001b[0m         \u001b[38;5;28;01mbreak\u001b[39;00m\n\u001b[0;32m    189\u001b[0m bst \u001b[38;5;241m=\u001b[39m cb_container\u001b[38;5;241m.\u001b[39mafter_training(bst)\n",
      "File \u001b[1;32mD:\\source\\repos\\venv\\Python310\\lib\\site-packages\\xgboost\\callback.py:240\u001b[0m, in \u001b[0;36mCallbackContainer.after_iteration\u001b[1;34m(self, model, epoch, dtrain, evals)\u001b[0m\n\u001b[0;32m    238\u001b[0m \u001b[38;5;28;01mfor\u001b[39;00m _, name \u001b[38;5;129;01min\u001b[39;00m evals:\n\u001b[0;32m    239\u001b[0m     \u001b[38;5;28;01massert\u001b[39;00m name\u001b[38;5;241m.\u001b[39mfind(\u001b[38;5;124m'\u001b[39m\u001b[38;5;124m-\u001b[39m\u001b[38;5;124m'\u001b[39m) \u001b[38;5;241m==\u001b[39m \u001b[38;5;241m-\u001b[39m\u001b[38;5;241m1\u001b[39m, \u001b[38;5;124m'\u001b[39m\u001b[38;5;124mDataset name should not contain `-`\u001b[39m\u001b[38;5;124m'\u001b[39m\n\u001b[1;32m--> 240\u001b[0m score: \u001b[38;5;28mstr\u001b[39m \u001b[38;5;241m=\u001b[39m \u001b[43mmodel\u001b[49m\u001b[38;5;241;43m.\u001b[39;49m\u001b[43meval_set\u001b[49m\u001b[43m(\u001b[49m\u001b[43mevals\u001b[49m\u001b[43m,\u001b[49m\u001b[43m \u001b[49m\u001b[43mepoch\u001b[49m\u001b[43m,\u001b[49m\u001b[43m \u001b[49m\u001b[38;5;28;43mself\u001b[39;49m\u001b[38;5;241;43m.\u001b[39;49m\u001b[43mmetric\u001b[49m\u001b[43m,\u001b[49m\u001b[43m \u001b[49m\u001b[38;5;28;43mself\u001b[39;49m\u001b[38;5;241;43m.\u001b[39;49m\u001b[43m_output_margin\u001b[49m\u001b[43m)\u001b[49m\n\u001b[0;32m    241\u001b[0m splited \u001b[38;5;241m=\u001b[39m score\u001b[38;5;241m.\u001b[39msplit()[\u001b[38;5;241m1\u001b[39m:]  \u001b[38;5;66;03m# into datasets\u001b[39;00m\n\u001b[0;32m    242\u001b[0m \u001b[38;5;66;03m# split up `test-error:0.1234`\u001b[39;00m\n",
      "File \u001b[1;32mD:\\source\\repos\\venv\\Python310\\lib\\site-packages\\xgboost\\core.py:1989\u001b[0m, in \u001b[0;36mBooster.eval_set\u001b[1;34m(self, evals, iteration, feval, output_margin)\u001b[0m\n\u001b[0;32m   1986\u001b[0m evnames \u001b[38;5;241m=\u001b[39m c_array(ctypes\u001b[38;5;241m.\u001b[39mc_char_p, [c_str(d[\u001b[38;5;241m1\u001b[39m]) \u001b[38;5;28;01mfor\u001b[39;00m d \u001b[38;5;129;01min\u001b[39;00m evals])\n\u001b[0;32m   1987\u001b[0m msg \u001b[38;5;241m=\u001b[39m ctypes\u001b[38;5;241m.\u001b[39mc_char_p()\n\u001b[0;32m   1988\u001b[0m _check_call(\n\u001b[1;32m-> 1989\u001b[0m     \u001b[43m_LIB\u001b[49m\u001b[38;5;241;43m.\u001b[39;49m\u001b[43mXGBoosterEvalOneIter\u001b[49m\u001b[43m(\u001b[49m\n\u001b[0;32m   1990\u001b[0m \u001b[43m        \u001b[49m\u001b[38;5;28;43mself\u001b[39;49m\u001b[38;5;241;43m.\u001b[39;49m\u001b[43mhandle\u001b[49m\u001b[43m,\u001b[49m\n\u001b[0;32m   1991\u001b[0m \u001b[43m        \u001b[49m\u001b[43mctypes\u001b[49m\u001b[38;5;241;43m.\u001b[39;49m\u001b[43mc_int\u001b[49m\u001b[43m(\u001b[49m\u001b[43miteration\u001b[49m\u001b[43m)\u001b[49m\u001b[43m,\u001b[49m\n\u001b[0;32m   1992\u001b[0m \u001b[43m        \u001b[49m\u001b[43mdmats\u001b[49m\u001b[43m,\u001b[49m\n\u001b[0;32m   1993\u001b[0m \u001b[43m        \u001b[49m\u001b[43mevnames\u001b[49m\u001b[43m,\u001b[49m\n\u001b[0;32m   1994\u001b[0m \u001b[43m        \u001b[49m\u001b[43mc_bst_ulong\u001b[49m\u001b[43m(\u001b[49m\u001b[38;5;28;43mlen\u001b[39;49m\u001b[43m(\u001b[49m\u001b[43mevals\u001b[49m\u001b[43m)\u001b[49m\u001b[43m)\u001b[49m\u001b[43m,\u001b[49m\n\u001b[0;32m   1995\u001b[0m \u001b[43m        \u001b[49m\u001b[43mctypes\u001b[49m\u001b[38;5;241;43m.\u001b[39;49m\u001b[43mbyref\u001b[49m\u001b[43m(\u001b[49m\u001b[43mmsg\u001b[49m\u001b[43m)\u001b[49m\u001b[43m,\u001b[49m\n\u001b[0;32m   1996\u001b[0m \u001b[43m    \u001b[49m\u001b[43m)\u001b[49m\n\u001b[0;32m   1997\u001b[0m )\n\u001b[0;32m   1998\u001b[0m \u001b[38;5;28;01massert\u001b[39;00m msg\u001b[38;5;241m.\u001b[39mvalue \u001b[38;5;129;01mis\u001b[39;00m \u001b[38;5;129;01mnot\u001b[39;00m \u001b[38;5;28;01mNone\u001b[39;00m\n\u001b[0;32m   1999\u001b[0m res \u001b[38;5;241m=\u001b[39m msg\u001b[38;5;241m.\u001b[39mvalue\u001b[38;5;241m.\u001b[39mdecode()  \u001b[38;5;66;03m# pylint: disable=no-member\u001b[39;00m\n",
      "\u001b[1;31mKeyboardInterrupt\u001b[0m: "
     ]
    }
   ],
   "source": [
    "study = optuna.create_study(direction='maximize', sampler=TPESampler(), study_name=objective)\n",
    "study.optimize(objective_v3, timeout=train_time)"
   ]
  },
  {
   "cell_type": "code",
   "execution_count": 13,
   "id": "cd78822b-3779-4cd1-a6f7-93f975461005",
   "metadata": {
    "tags": []
   },
   "outputs": [],
   "source": [
    "parm_grid_bytes = pickle.dumps(param_grid_history)\n",
    "with open(f\"rendered_data/{objective}_bytes.hex\", \"wb\") as binary_file:\n",
    "    binary_file.write(parm_grid_bytes)"
   ]
  },
  {
   "cell_type": "code",
   "execution_count": 18,
   "id": "4fc1f5eb-5007-4b73-a696-7c1b938a12cd",
   "metadata": {
    "tags": []
   },
   "outputs": [
    {
     "name": "stderr",
     "output_type": "stream",
     "text": [
      "100%|██████████████████████████████████████████████████████████████████████████████████| 39/39 [00:31<00:00,  1.24it/s]\n"
     ]
    }
   ],
   "source": [
    "def train(param_grid):\n",
    "    reg = xgb.XGBModel(\n",
    "        # These parameters should help with trial speed.\n",
    "        objective='binary:logistic',\n",
    "        tree_method='gpu_hist',\n",
    "        booster='gbtree',\n",
    "        predictor='gpu_predictor',\n",
    "        n_jobs=4,\n",
    "        eval_metric='auc',\n",
    "        early_stopping_rounds=100,\n",
    "        **param_grid\n",
    "    )\n",
    "    \n",
    "    X_train, X_valid, y_train, y_valid = train_test_split(X, Y, test_size=0.20)\n",
    "    \n",
    "    reg.fit(X_train, y_train, eval_set=[(X_valid, y_valid)], verbose=False)\n",
    "        \n",
    "    return reg\n",
    "\n",
    "percent = math.ceil(len(param_grid_history.keys()) * .1)\n",
    "top = sorted(list(param_grid_history.keys()))[-percent:]\n",
    "\n",
    "train_preds = []\n",
    "test_preds = []\n",
    "for key in tqdm(top):\n",
    "    model = train(param_grid_history[key])\n",
    "    train_preds.append(model.predict(train_df[features]))\n",
    "    test_preds.append(model.predict(test_df[features]))\n",
    "\n",
    "train_final_preds = np.stack(train_preds).mean(0)\n",
    "test_final_preds = np.stack(test_preds).mean(0)"
   ]
  },
  {
   "cell_type": "code",
   "execution_count": 19,
   "id": "6a849ba6-0559-42be-88da-2b5f6738d4f1",
   "metadata": {},
   "outputs": [],
   "source": [
    "train_submission = pd.DataFrame(data={'id': train_df.index, target[0]: train_final_preds})\n",
    "train_submission.to_csv(fr'rendered_data/{objective}_train_submission.csv', index=False)\n",
    "\n",
    "test_submission = pd.DataFrame(data={'id': test_df.index, target[0]: test_final_preds})\n",
    "test_submission.to_csv(fr'rendered_data/{objective}_test_submission.csv', index=False)"
   ]
  },
  {
   "cell_type": "code",
   "execution_count": null,
   "id": "e39940d7-295b-4781-b008-0faa28ecb553",
   "metadata": {},
   "outputs": [],
   "source": []
  },
  {
   "cell_type": "code",
   "execution_count": null,
   "id": "d4101df8-7385-492d-b06e-7f42d874cf66",
   "metadata": {},
   "outputs": [],
   "source": []
  },
  {
   "cell_type": "code",
   "execution_count": null,
   "id": "0aff80b8-37d3-44e2-9082-25cc759d93a0",
   "metadata": {},
   "outputs": [],
   "source": []
  },
  {
   "cell_type": "code",
   "execution_count": null,
   "id": "b21e7362-c2ca-4bee-8666-9c4e305e1fd4",
   "metadata": {},
   "outputs": [],
   "source": []
  },
  {
   "cell_type": "code",
   "execution_count": null,
   "id": "8872ad54-57a6-4511-9389-3a46ad31366f",
   "metadata": {},
   "outputs": [],
   "source": []
  }
 ],
 "metadata": {
  "kernelspec": {
   "display_name": "Python 3 (ipykernel)",
   "language": "python",
   "name": "python3"
  },
  "language_info": {
   "codemirror_mode": {
    "name": "ipython",
    "version": 3
   },
   "file_extension": ".py",
   "mimetype": "text/x-python",
   "name": "python",
   "nbconvert_exporter": "python",
   "pygments_lexer": "ipython3",
   "version": "3.10.9"
  }
 },
 "nbformat": 4,
 "nbformat_minor": 5
}
