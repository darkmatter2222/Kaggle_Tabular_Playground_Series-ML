{
 "cells": [
  {
   "cell_type": "code",
   "execution_count": 599,
   "id": "936b5758-0b17-4f59-bdfa-beb3ee47a143",
   "metadata": {},
   "outputs": [],
   "source": [
    "import numpy as np\n",
    "import pandas as pd\n",
    "import math\n",
    "import sys, os\n",
    "#import seaborn as sns\n",
    "#from scipy import stats\n",
    "#from pathlib import Path\n",
    "#import matplotlib.pyplot as plt\n",
    "#from sklearn.model_selection import KFold\n",
    "from sklearn.preprocessing import MinMaxScaler, StandardScaler\n",
    "from sklearn.model_selection import train_test_split\n",
    "#from sklearn.metrics import mean_squared_error\n",
    "#from sklearn.metrics import mean_squared_error\n",
    "#from sklearn.preprocessing import MinMaxScaler\n",
    "#from sklearn.datasets import fetch_california_housing\n",
    "#import math\n",
    "from tqdm import tqdm\n",
    "from sklearn.feature_extraction.text import CountVectorizer\n",
    "from sklearn.preprocessing import LabelEncoder, OneHotEncoder, OrdinalEncoder\n",
    "import optuna\n",
    "from optuna.samplers import TPESampler\n",
    "#import lightgbm as lgbm\n",
    "#from xgboost import XGBRegressor\n",
    "import xgboost as xgb\n",
    "#from catboost import CatBoostRegressor\n",
    "#from lightgbm.sklearn import LGBMRegressor\n",
    "#from sklearn.ensemble import RandomForestRegressor\n",
    "import pickle\n",
    "from sklearn.metrics import roc_curve, auc\n",
    "from sklearn.model_selection import StratifiedKFold\n",
    "pd.set_option('display.max_columns', 500)\n",
    "from sklearn.metrics import roc_auc_score\n",
    "import pandas as pd\n",
    "import numpy as np\n",
    "from tqdm import tqdm\n",
    "from sklearn.metrics import roc_curve, auc,recall_score,precision_score\n",
    "from sklearn import metrics\n",
    "\n",
    "import sys, os\n",
    "import pandas as pd\n",
    "import seaborn as sns\n",
    "import numpy as np\n",
    "import matplotlib.pyplot as plt\n",
    "from sklearn.feature_extraction.text import CountVectorizer\n",
    "import math\n",
    "import pickle\n",
    "import mplcyberpunk\n",
    "import tensorflow as tf\n",
    "\n",
    "from tensorflow import keras\n",
    "from tensorflow.keras import layers\n",
    "from tensorflow.keras.callbacks import Callback, EarlyStopping\n",
    "plt.style.use(\"cyberpunk\")"
   ]
  },
  {
   "cell_type": "code",
   "execution_count": 14,
   "id": "65a1724a-47d5-4e16-abe6-cabcb3c82980",
   "metadata": {},
   "outputs": [],
   "source": [
    "from itertools import islice, cycle\n",
    "\n",
    "plt.style.use(\"cyberpunk\")\n",
    "\n",
    "def add_secondary_plot(df, column, target_column, ax, n_bins, color=3, show_yticks=False, marker=\".\"):\n",
    "    secondary_ax = ax.twinx()\n",
    "    bins = pd.cut(df[column], bins=n_bins)\n",
    "    bins = pd.IntervalIndex(bins)\n",
    "    bins = (bins.left + bins.right) / 2\n",
    "    target = df.groupby(bins)[target_column].mean()\n",
    "    target.plot(\n",
    "        ax=secondary_ax, linestyle='',\n",
    "        marker=marker, color=color, label=f\"Mean '{target_column}'\"\n",
    "    )\n",
    "    secondary_ax.grid(visible=False)\n",
    "    \n",
    "    if not show_yticks:\n",
    "        secondary_ax.get_yaxis().set_ticks([])\n",
    "        \n",
    "    return secondary_ax\n",
    "\n",
    "def render_feature_distros(train_df, test_df, features=[], labels=[], n_bins=50, n_cols=4, pad=2, h_pad=4, w_pad=None):\n",
    "    histplot_hyperparams = {\n",
    "        'kde':True,\n",
    "        'alpha':0.4,\n",
    "        'stat':'percent',\n",
    "        'bins':n_bins\n",
    "    }\n",
    "    markers = ['.', '+', 'x', '1', '2']\n",
    "    \n",
    "    n_rows = math.ceil(len(features) / n_cols)\n",
    "    cell_with_dim = 4\n",
    "    cell_height_dim = 3\n",
    "    \n",
    "    fig, ax = plt.subplots(n_rows, n_cols, figsize=(n_cols * cell_with_dim, n_rows * cell_height_dim))\n",
    "    plt.tight_layout(pad=pad, h_pad=h_pad, w_pad=w_pad, rect=None)\n",
    "    \n",
    "    # delete exess subplots\n",
    "    for a in ax[n_rows - 1, int(((n_rows - (len(features) / n_cols)) * n_cols*-1)):]:\n",
    "        a.axis('off')\n",
    "        \n",
    "    leg_handles = []\n",
    "    leg_labels = []\n",
    "    \n",
    "    axs = []\n",
    "\n",
    "    for i, feature in enumerate(features):\n",
    "        row = math.ceil(i / n_cols) - 1\n",
    "        col = (i % n_cols)\n",
    "        \n",
    "        color_cycle = islice(mplcyberpunk.cyberpunk_stylesheets['cyberpunk']['axes.prop_cycle'], 0, None)\n",
    "        \n",
    "        sns.histplot(train_df[feature], label='Train X', ax=ax[row, col], color=next(color_cycle)['color'], **histplot_hyperparams)\n",
    "        sns.histplot(test_df[feature], label='Test X', ax=ax[row, col],color=next(color_cycle)['color'], **histplot_hyperparams)\n",
    "        ax[row, col].set_title(f'{feature} Distribution')\n",
    "        mplcyberpunk.make_lines_glow(ax[row, col])\n",
    "        axs.append(ax[row, col].get_legend_handles_labels())\n",
    "\n",
    "        for j, label in enumerate(labels):\n",
    "            sub_ax = add_secondary_plot(train_df, feature, label, ax[row, col], n_bins, color=next(color_cycle)['color'], marker=markers[j])\n",
    "            axs.append(sub_ax.get_legend_handles_labels())\n",
    "        \n",
    "    for axis in axs:\n",
    "        if axis[1][0] not in leg_labels:\n",
    "            leg_labels.extend(axis[1])\n",
    "            leg_handles.extend(axis[0])\n",
    "        \n",
    "    fig.legend(leg_handles, leg_labels, loc='upper center', bbox_to_anchor=(0.5, 1.04), fontsize=14, ncol=len(features) + 2)"
   ]
  },
  {
   "cell_type": "code",
   "execution_count": 15,
   "id": "baf23cb5-cc6a-4dae-9dc1-7dc1b7b4021a",
   "metadata": {},
   "outputs": [],
   "source": [
    "train_time = 1 * 60 * 60\n",
    "objective = 'tfregressor'"
   ]
  },
  {
   "cell_type": "code",
   "execution_count": 16,
   "id": "30af7575-c694-4420-81e3-8f4608abc789",
   "metadata": {},
   "outputs": [],
   "source": [
    "sys.path.append(os.path.realpath('..'))"
   ]
  },
  {
   "cell_type": "code",
   "execution_count": 407,
   "id": "1ae92e2f-1d42-4d7f-953e-6cb3b5eb9e0e",
   "metadata": {},
   "outputs": [],
   "source": [
    "train_df = pd.read_csv(r\"..\\data\\train.csv\", index_col=0)\n",
    "test_df = pd.read_csv(r\"..\\data\\test.csv\", index_col=0)\n",
    "sample_sub = pd.read_csv(r\"..\\data\\sample_submission.csv\", index_col=0)"
   ]
  },
  {
   "cell_type": "code",
   "execution_count": 408,
   "id": "433cce54-7033-4c6a-8fbb-bdee32110ecd",
   "metadata": {},
   "outputs": [
    {
     "data": {
      "text/html": [
       "<div>\n",
       "<style scoped>\n",
       "    .dataframe tbody tr th:only-of-type {\n",
       "        vertical-align: middle;\n",
       "    }\n",
       "\n",
       "    .dataframe tbody tr th {\n",
       "        vertical-align: top;\n",
       "    }\n",
       "\n",
       "    .dataframe thead th {\n",
       "        text-align: right;\n",
       "    }\n",
       "</style>\n",
       "<table border=\"1\" class=\"dataframe\">\n",
       "  <thead>\n",
       "    <tr style=\"text-align: right;\">\n",
       "      <th></th>\n",
       "      <th>Total</th>\n",
       "      <th>Percent</th>\n",
       "    </tr>\n",
       "  </thead>\n",
       "  <tbody>\n",
       "    <tr>\n",
       "      <th>Age</th>\n",
       "      <td>0</td>\n",
       "      <td>0.0</td>\n",
       "    </tr>\n",
       "    <tr>\n",
       "      <th>StockOptionLevel</th>\n",
       "      <td>0</td>\n",
       "      <td>0.0</td>\n",
       "    </tr>\n",
       "    <tr>\n",
       "      <th>Over18</th>\n",
       "      <td>0</td>\n",
       "      <td>0.0</td>\n",
       "    </tr>\n",
       "    <tr>\n",
       "      <th>OverTime</th>\n",
       "      <td>0</td>\n",
       "      <td>0.0</td>\n",
       "    </tr>\n",
       "    <tr>\n",
       "      <th>PercentSalaryHike</th>\n",
       "      <td>0</td>\n",
       "      <td>0.0</td>\n",
       "    </tr>\n",
       "    <tr>\n",
       "      <th>PerformanceRating</th>\n",
       "      <td>0</td>\n",
       "      <td>0.0</td>\n",
       "    </tr>\n",
       "    <tr>\n",
       "      <th>RelationshipSatisfaction</th>\n",
       "      <td>0</td>\n",
       "      <td>0.0</td>\n",
       "    </tr>\n",
       "    <tr>\n",
       "      <th>StandardHours</th>\n",
       "      <td>0</td>\n",
       "      <td>0.0</td>\n",
       "    </tr>\n",
       "    <tr>\n",
       "      <th>TotalWorkingYears</th>\n",
       "      <td>0</td>\n",
       "      <td>0.0</td>\n",
       "    </tr>\n",
       "    <tr>\n",
       "      <th>BusinessTravel</th>\n",
       "      <td>0</td>\n",
       "      <td>0.0</td>\n",
       "    </tr>\n",
       "  </tbody>\n",
       "</table>\n",
       "</div>"
      ],
      "text/plain": [
       "                          Total  Percent\n",
       "Age                           0      0.0\n",
       "StockOptionLevel              0      0.0\n",
       "Over18                        0      0.0\n",
       "OverTime                      0      0.0\n",
       "PercentSalaryHike             0      0.0\n",
       "PerformanceRating             0      0.0\n",
       "RelationshipSatisfaction      0      0.0\n",
       "StandardHours                 0      0.0\n",
       "TotalWorkingYears             0      0.0\n",
       "BusinessTravel                0      0.0"
      ]
     },
     "execution_count": 408,
     "metadata": {},
     "output_type": "execute_result"
    }
   ],
   "source": [
    "total = train_df.isnull().sum().sort_values(ascending=False)\n",
    "percent = (train_df.isnull().sum()/train_df.isnull().count()).sort_values(ascending=False)\n",
    "missing_data = pd.concat([total, percent], axis=1, keys=['Total', 'Percent'])\n",
    "missing_data.head(10)"
   ]
  },
  {
   "cell_type": "code",
   "execution_count": 409,
   "id": "09ca2d44-448c-45a8-a500-15ffd3b3041f",
   "metadata": {},
   "outputs": [],
   "source": [
    "del train_df['Over18']\n",
    "del train_df['EmployeeCount']\n",
    "del train_df['StandardHours']"
   ]
  },
  {
   "cell_type": "code",
   "execution_count": 410,
   "id": "bcc257a3-0717-47f3-911a-40404ffbf02f",
   "metadata": {},
   "outputs": [
    {
     "name": "stdout",
     "output_type": "stream",
     "text": [
      "BusinessTravel\n",
      "Department\n",
      "EducationField\n",
      "Gender\n",
      "JobRole\n",
      "MaritalStatus\n",
      "OverTime\n"
     ]
    }
   ],
   "source": [
    "columns_to_vectorize = ['BusinessTravel', 'Department', 'EducationField', 'Gender', 'JobRole', 'MaritalStatus', 'OverTime']\n",
    "for vector_target in columns_to_vectorize:\n",
    "    print(vector_target)\n",
    "    vectorizer = CountVectorizer()\n",
    "    vectorizer.fit_transform(train_df[vector_target])\n",
    "    train_df[f'{vector_target}_v'] = vectorizer.transform(train_df[vector_target]).toarray().argmax(axis=1)[:,None]\n",
    "    vectorizer.fit_transform(test_df[vector_target])\n",
    "    test_df[f'{vector_target}_v'] = vectorizer.transform(test_df[vector_target]).toarray().argmax(axis=1)[:,None]"
   ]
  },
  {
   "cell_type": "code",
   "execution_count": 644,
   "id": "1d2b4c9f-993a-45f0-b216-294e6c732919",
   "metadata": {},
   "outputs": [],
   "source": [
    "orig_features = ['Age', 'DailyRate', 'DistanceFromHome', 'Education', 'EnvironmentSatisfaction','HourlyRate', 'JobInvolvement', 'JobLevel', 'JobSatisfaction', \n",
    "       'MonthlyIncome', 'MonthlyRate', 'NumCompaniesWorked', 'PercentSalaryHike', 'PerformanceRating', 'RelationshipSatisfaction', 'StockOptionLevel', 'TotalWorkingYears',\n",
    "       'TrainingTimesLastYear', 'WorkLifeBalance', 'YearsAtCompany', 'YearsInCurrentRole', 'YearsSinceLastPromotion', 'YearsWithCurrManager',\n",
    "       'BusinessTravel', 'Department', 'EducationField', 'Gender', 'JobRole', 'MaritalStatus', 'OverTime' ]\n",
    "\n",
    "cat_features = ['BusinessTravel', 'Department', 'EducationField', 'Gender', 'JobRole', 'MaritalStatus', 'OverTime']\n",
    "\n",
    "features = ['Age', 'DailyRate', 'DistanceFromHome', 'Education', 'EnvironmentSatisfaction','HourlyRate', 'JobInvolvement', 'JobLevel', 'JobSatisfaction', \n",
    "       'MonthlyIncome', 'MonthlyRate', 'NumCompaniesWorked', 'PercentSalaryHike', 'PerformanceRating', 'RelationshipSatisfaction', 'StockOptionLevel', 'TotalWorkingYears',\n",
    "       'TrainingTimesLastYear', 'WorkLifeBalance', 'YearsAtCompany', 'YearsInCurrentRole', 'YearsSinceLastPromotion', 'YearsWithCurrManager',\n",
    "        'BusinessTravel_v', 'Department_v', 'EducationField_v','Gender_v', 'JobRole_v', 'MaritalStatus_v', 'OverTime_v']\n",
    "\n",
    "features_v2 = ['Age', 'DailyRate', 'DistanceFromHome', 'Education', 'EnvironmentSatisfaction','HourlyRate', 'JobInvolvement', 'JobLevel', 'JobSatisfaction', \n",
    "       'MonthlyIncome', 'MonthlyRate', 'NumCompaniesWorked', 'PercentSalaryHike', 'PerformanceRating', 'RelationshipSatisfaction', 'StockOptionLevel', 'TotalWorkingYears',\n",
    "       'TrainingTimesLastYear', 'WorkLifeBalance', 'YearsAtCompany', 'YearsInCurrentRole', 'YearsSinceLastPromotion', 'YearsWithCurrManager',\n",
    "        'BusinessTravel_v', 'Department_v', 'EducationField_v', 'JobRole_v', 'MaritalStatus_v']\n",
    "\n",
    "\n",
    "target = ['Attrition']\n",
    "split_targets= ['Attrition_0', 'Attrition_1']"
   ]
  },
  {
   "cell_type": "code",
   "execution_count": 645,
   "id": "6f9f8f0f-947d-4036-afec-5343215f3907",
   "metadata": {},
   "outputs": [],
   "source": [
    "#features= features_v2"
   ]
  },
  {
   "cell_type": "code",
   "execution_count": 646,
   "id": "7f54f8d8-1f71-4e92-837c-a99038f7c9ef",
   "metadata": {},
   "outputs": [],
   "source": [
    "train_df['Attrition_0'] = 0\n",
    "train_df['Attrition_1'] = 0\n",
    "\n",
    "train_df.loc[train_df['Attrition']==0, 'Attrition_0'] = 1\n",
    "train_df.loc[train_df['Attrition']==1, 'Attrition_1'] = 1"
   ]
  },
  {
   "cell_type": "code",
   "execution_count": 647,
   "id": "ed6f4daf-2da6-415b-9ef1-c9def5ae5dee",
   "metadata": {},
   "outputs": [],
   "source": [
    "scaler = StandardScaler().fit(train_df[features])\n",
    "X = scaler.transform(train_df[features])\n",
    "X_test = scaler.transform(test_df[features])\n",
    "\n",
    "scaler = MinMaxScaler().fit(train_df[split_targets])\n",
    "Y = scaler.transform(train_df[split_targets])"
   ]
  },
  {
   "cell_type": "code",
   "execution_count": 648,
   "id": "1c0df4c6-ff19-49ab-9655-45f8fac57d0c",
   "metadata": {},
   "outputs": [],
   "source": [
    "RANDOM_STATE = 12 \n",
    "FOLDS = 5\n",
    "param_grid_history = {}\n",
    "\n",
    "import tensorflow as tf\n",
    "from sklearn.metrics import roc_auc_score\n",
    "\n",
    "def objective_v3(trial):\n",
    "    oof = np.zeros(len(X))\n",
    "    scores = []\n",
    "   \n",
    "        \n",
    "    skf = StratifiedKFold(n_splits=FOLDS, shuffle=True, random_state=RANDOM_STATE)\n",
    "    for fold, (train_idx, valid_idx) in enumerate(skf.split(X, Y)):\n",
    "        print(10*\"=\", f\"Fold={fold+1}\", 10*\"=\")\n",
    "        X_train, X_valid = train_df.iloc[train_idx][features], train_df.iloc[valid_idx][features]\n",
    "        y_train , y_valid = train_df[target].iloc[train_idx] , train_df[target].iloc[valid_idx] \n",
    "        \n",
    "        X_train, X_valid, y_train, y_valid = train_test_split(train_df[features], train_df[target], test_size=0.20)\n",
    "\n",
    "        model = tf.keras.Sequential([\n",
    "            layers.Dense(1000, activation=\"relu\"),\n",
    "            layers.Dropout(0.1),\n",
    "            layers.Dense(1000, activation=\"relu\"),\n",
    "            layers.Dense(1, activation=\"sigmoid\"),\n",
    "        ])\n",
    "\n",
    "        #reg.fit(X_train, y_train, eval_set=[(X_valid, y_valid)], verbose=False)\n",
    "        model.compile(\n",
    "            loss='binary_crossentropy', optimizer='adam',metrics=['accuracy']\n",
    "        )\n",
    "\n",
    "        history = model.fit(\n",
    "            X_train,\n",
    "            y_train,\n",
    "            validation_data=(X_valid, y_valid),\n",
    "\n",
    "            epochs=10,\n",
    "            # Suppress logging.\n",
    "            verbose=1,\n",
    "        )\n",
    "           \n",
    "        oof[valid_idx] = model.predict(X_valid)[0]\n",
    "\n",
    "    roc_auc = roc_auc_score(Y, oof)\n",
    "    \n",
    "    param_grid_history[roc_auc] = {}\n",
    "\n",
    "    return roc_auc"
   ]
  },
  {
   "cell_type": "code",
   "execution_count": 649,
   "id": "02818b3a-e7d1-4624-809f-7d009b3aeb5e",
   "metadata": {
    "tags": []
   },
   "outputs": [
    {
     "name": "stderr",
     "output_type": "stream",
     "text": [
      "\u001b[32m[I 2023-01-22 20:22:52,924]\u001b[0m A new study created in memory with name: tfregressor\u001b[0m\n",
      "\u001b[33m[W 2023-01-22 20:22:52,926]\u001b[0m Trial 0 failed because of the following error: ValueError(\"Supported target types are: ('binary', 'multiclass'). Got 'multilabel-indicator' instead.\")\u001b[0m\n",
      "Traceback (most recent call last):\n",
      "  File \"D:\\source\\repos\\venv\\Python310\\lib\\site-packages\\optuna\\study\\_optimize.py\", line 196, in _run_trial\n",
      "    value_or_values = func(trial)\n",
      "  File \"C:\\Users\\ryans\\AppData\\Local\\Temp\\ipykernel_12384\\4162313688.py\", line 14, in objective_v3\n",
      "    for fold, (train_idx, valid_idx) in enumerate(skf.split(X, Y)):\n",
      "  File \"D:\\source\\repos\\venv\\Python310\\lib\\site-packages\\sklearn\\model_selection\\_split.py\", line 352, in split\n",
      "    for train, test in super().split(X, y, groups):\n",
      "  File \"D:\\source\\repos\\venv\\Python310\\lib\\site-packages\\sklearn\\model_selection\\_split.py\", line 85, in split\n",
      "    for test_index in self._iter_test_masks(X, y, groups):\n",
      "  File \"D:\\source\\repos\\venv\\Python310\\lib\\site-packages\\sklearn\\model_selection\\_split.py\", line 733, in _iter_test_masks\n",
      "    test_folds = self._make_test_folds(X, y)\n",
      "  File \"D:\\source\\repos\\venv\\Python310\\lib\\site-packages\\sklearn\\model_selection\\_split.py\", line 676, in _make_test_folds\n",
      "    raise ValueError(\n",
      "ValueError: Supported target types are: ('binary', 'multiclass'). Got 'multilabel-indicator' instead.\n"
     ]
    },
    {
     "ename": "ValueError",
     "evalue": "Supported target types are: ('binary', 'multiclass'). Got 'multilabel-indicator' instead.",
     "output_type": "error",
     "traceback": [
      "\u001b[1;31m---------------------------------------------------------------------------\u001b[0m",
      "\u001b[1;31mValueError\u001b[0m                                Traceback (most recent call last)",
      "Cell \u001b[1;32mIn[649], line 2\u001b[0m\n\u001b[0;32m      1\u001b[0m study \u001b[38;5;241m=\u001b[39m optuna\u001b[38;5;241m.\u001b[39mcreate_study(direction\u001b[38;5;241m=\u001b[39m\u001b[38;5;124m'\u001b[39m\u001b[38;5;124mmaximize\u001b[39m\u001b[38;5;124m'\u001b[39m, sampler\u001b[38;5;241m=\u001b[39mTPESampler(), study_name\u001b[38;5;241m=\u001b[39mobjective)\n\u001b[1;32m----> 2\u001b[0m \u001b[43mstudy\u001b[49m\u001b[38;5;241;43m.\u001b[39;49m\u001b[43moptimize\u001b[49m\u001b[43m(\u001b[49m\u001b[43mobjective_v3\u001b[49m\u001b[43m,\u001b[49m\u001b[43m \u001b[49m\u001b[43mtimeout\u001b[49m\u001b[38;5;241;43m=\u001b[39;49m\u001b[43mtrain_time\u001b[49m\u001b[43m)\u001b[49m\n",
      "File \u001b[1;32mD:\\source\\repos\\venv\\Python310\\lib\\site-packages\\optuna\\study\\study.py:419\u001b[0m, in \u001b[0;36mStudy.optimize\u001b[1;34m(self, func, n_trials, timeout, n_jobs, catch, callbacks, gc_after_trial, show_progress_bar)\u001b[0m\n\u001b[0;32m    315\u001b[0m \u001b[38;5;28;01mdef\u001b[39;00m \u001b[38;5;21moptimize\u001b[39m(\n\u001b[0;32m    316\u001b[0m     \u001b[38;5;28mself\u001b[39m,\n\u001b[0;32m    317\u001b[0m     func: ObjectiveFuncType,\n\u001b[1;32m   (...)\u001b[0m\n\u001b[0;32m    324\u001b[0m     show_progress_bar: \u001b[38;5;28mbool\u001b[39m \u001b[38;5;241m=\u001b[39m \u001b[38;5;28;01mFalse\u001b[39;00m,\n\u001b[0;32m    325\u001b[0m ) \u001b[38;5;241m-\u001b[39m\u001b[38;5;241m>\u001b[39m \u001b[38;5;28;01mNone\u001b[39;00m:\n\u001b[0;32m    326\u001b[0m     \u001b[38;5;124;03m\"\"\"Optimize an objective function.\u001b[39;00m\n\u001b[0;32m    327\u001b[0m \n\u001b[0;32m    328\u001b[0m \u001b[38;5;124;03m    Optimization is done by choosing a suitable set of hyperparameter values from a given\u001b[39;00m\n\u001b[1;32m   (...)\u001b[0m\n\u001b[0;32m    416\u001b[0m \u001b[38;5;124;03m            If nested invocation of this method occurs.\u001b[39;00m\n\u001b[0;32m    417\u001b[0m \u001b[38;5;124;03m    \"\"\"\u001b[39;00m\n\u001b[1;32m--> 419\u001b[0m     \u001b[43m_optimize\u001b[49m\u001b[43m(\u001b[49m\n\u001b[0;32m    420\u001b[0m \u001b[43m        \u001b[49m\u001b[43mstudy\u001b[49m\u001b[38;5;241;43m=\u001b[39;49m\u001b[38;5;28;43mself\u001b[39;49m\u001b[43m,\u001b[49m\n\u001b[0;32m    421\u001b[0m \u001b[43m        \u001b[49m\u001b[43mfunc\u001b[49m\u001b[38;5;241;43m=\u001b[39;49m\u001b[43mfunc\u001b[49m\u001b[43m,\u001b[49m\n\u001b[0;32m    422\u001b[0m \u001b[43m        \u001b[49m\u001b[43mn_trials\u001b[49m\u001b[38;5;241;43m=\u001b[39;49m\u001b[43mn_trials\u001b[49m\u001b[43m,\u001b[49m\n\u001b[0;32m    423\u001b[0m \u001b[43m        \u001b[49m\u001b[43mtimeout\u001b[49m\u001b[38;5;241;43m=\u001b[39;49m\u001b[43mtimeout\u001b[49m\u001b[43m,\u001b[49m\n\u001b[0;32m    424\u001b[0m \u001b[43m        \u001b[49m\u001b[43mn_jobs\u001b[49m\u001b[38;5;241;43m=\u001b[39;49m\u001b[43mn_jobs\u001b[49m\u001b[43m,\u001b[49m\n\u001b[0;32m    425\u001b[0m \u001b[43m        \u001b[49m\u001b[43mcatch\u001b[49m\u001b[38;5;241;43m=\u001b[39;49m\u001b[43mcatch\u001b[49m\u001b[43m,\u001b[49m\n\u001b[0;32m    426\u001b[0m \u001b[43m        \u001b[49m\u001b[43mcallbacks\u001b[49m\u001b[38;5;241;43m=\u001b[39;49m\u001b[43mcallbacks\u001b[49m\u001b[43m,\u001b[49m\n\u001b[0;32m    427\u001b[0m \u001b[43m        \u001b[49m\u001b[43mgc_after_trial\u001b[49m\u001b[38;5;241;43m=\u001b[39;49m\u001b[43mgc_after_trial\u001b[49m\u001b[43m,\u001b[49m\n\u001b[0;32m    428\u001b[0m \u001b[43m        \u001b[49m\u001b[43mshow_progress_bar\u001b[49m\u001b[38;5;241;43m=\u001b[39;49m\u001b[43mshow_progress_bar\u001b[49m\u001b[43m,\u001b[49m\n\u001b[0;32m    429\u001b[0m \u001b[43m    \u001b[49m\u001b[43m)\u001b[49m\n",
      "File \u001b[1;32mD:\\source\\repos\\venv\\Python310\\lib\\site-packages\\optuna\\study\\_optimize.py:66\u001b[0m, in \u001b[0;36m_optimize\u001b[1;34m(study, func, n_trials, timeout, n_jobs, catch, callbacks, gc_after_trial, show_progress_bar)\u001b[0m\n\u001b[0;32m     64\u001b[0m \u001b[38;5;28;01mtry\u001b[39;00m:\n\u001b[0;32m     65\u001b[0m     \u001b[38;5;28;01mif\u001b[39;00m n_jobs \u001b[38;5;241m==\u001b[39m \u001b[38;5;241m1\u001b[39m:\n\u001b[1;32m---> 66\u001b[0m         \u001b[43m_optimize_sequential\u001b[49m\u001b[43m(\u001b[49m\n\u001b[0;32m     67\u001b[0m \u001b[43m            \u001b[49m\u001b[43mstudy\u001b[49m\u001b[43m,\u001b[49m\n\u001b[0;32m     68\u001b[0m \u001b[43m            \u001b[49m\u001b[43mfunc\u001b[49m\u001b[43m,\u001b[49m\n\u001b[0;32m     69\u001b[0m \u001b[43m            \u001b[49m\u001b[43mn_trials\u001b[49m\u001b[43m,\u001b[49m\n\u001b[0;32m     70\u001b[0m \u001b[43m            \u001b[49m\u001b[43mtimeout\u001b[49m\u001b[43m,\u001b[49m\n\u001b[0;32m     71\u001b[0m \u001b[43m            \u001b[49m\u001b[43mcatch\u001b[49m\u001b[43m,\u001b[49m\n\u001b[0;32m     72\u001b[0m \u001b[43m            \u001b[49m\u001b[43mcallbacks\u001b[49m\u001b[43m,\u001b[49m\n\u001b[0;32m     73\u001b[0m \u001b[43m            \u001b[49m\u001b[43mgc_after_trial\u001b[49m\u001b[43m,\u001b[49m\n\u001b[0;32m     74\u001b[0m \u001b[43m            \u001b[49m\u001b[43mreseed_sampler_rng\u001b[49m\u001b[38;5;241;43m=\u001b[39;49m\u001b[38;5;28;43;01mFalse\u001b[39;49;00m\u001b[43m,\u001b[49m\n\u001b[0;32m     75\u001b[0m \u001b[43m            \u001b[49m\u001b[43mtime_start\u001b[49m\u001b[38;5;241;43m=\u001b[39;49m\u001b[38;5;28;43;01mNone\u001b[39;49;00m\u001b[43m,\u001b[49m\n\u001b[0;32m     76\u001b[0m \u001b[43m            \u001b[49m\u001b[43mprogress_bar\u001b[49m\u001b[38;5;241;43m=\u001b[39;49m\u001b[43mprogress_bar\u001b[49m\u001b[43m,\u001b[49m\n\u001b[0;32m     77\u001b[0m \u001b[43m        \u001b[49m\u001b[43m)\u001b[49m\n\u001b[0;32m     78\u001b[0m     \u001b[38;5;28;01melse\u001b[39;00m:\n\u001b[0;32m     79\u001b[0m         \u001b[38;5;28;01mif\u001b[39;00m n_jobs \u001b[38;5;241m==\u001b[39m \u001b[38;5;241m-\u001b[39m\u001b[38;5;241m1\u001b[39m:\n",
      "File \u001b[1;32mD:\\source\\repos\\venv\\Python310\\lib\\site-packages\\optuna\\study\\_optimize.py:160\u001b[0m, in \u001b[0;36m_optimize_sequential\u001b[1;34m(study, func, n_trials, timeout, catch, callbacks, gc_after_trial, reseed_sampler_rng, time_start, progress_bar)\u001b[0m\n\u001b[0;32m    157\u001b[0m         \u001b[38;5;28;01mbreak\u001b[39;00m\n\u001b[0;32m    159\u001b[0m \u001b[38;5;28;01mtry\u001b[39;00m:\n\u001b[1;32m--> 160\u001b[0m     frozen_trial \u001b[38;5;241m=\u001b[39m \u001b[43m_run_trial\u001b[49m\u001b[43m(\u001b[49m\u001b[43mstudy\u001b[49m\u001b[43m,\u001b[49m\u001b[43m \u001b[49m\u001b[43mfunc\u001b[49m\u001b[43m,\u001b[49m\u001b[43m \u001b[49m\u001b[43mcatch\u001b[49m\u001b[43m)\u001b[49m\n\u001b[0;32m    161\u001b[0m \u001b[38;5;28;01mfinally\u001b[39;00m:\n\u001b[0;32m    162\u001b[0m     \u001b[38;5;66;03m# The following line mitigates memory problems that can be occurred in some\u001b[39;00m\n\u001b[0;32m    163\u001b[0m     \u001b[38;5;66;03m# environments (e.g., services that use computing containers such as CircleCI).\u001b[39;00m\n\u001b[0;32m    164\u001b[0m     \u001b[38;5;66;03m# Please refer to the following PR for further details:\u001b[39;00m\n\u001b[0;32m    165\u001b[0m     \u001b[38;5;66;03m# https://github.com/optuna/optuna/pull/325.\u001b[39;00m\n\u001b[0;32m    166\u001b[0m     \u001b[38;5;28;01mif\u001b[39;00m gc_after_trial:\n",
      "File \u001b[1;32mD:\\source\\repos\\venv\\Python310\\lib\\site-packages\\optuna\\study\\_optimize.py:234\u001b[0m, in \u001b[0;36m_run_trial\u001b[1;34m(study, func, catch)\u001b[0m\n\u001b[0;32m    227\u001b[0m         \u001b[38;5;28;01massert\u001b[39;00m \u001b[38;5;28;01mFalse\u001b[39;00m, \u001b[38;5;124m\"\u001b[39m\u001b[38;5;124mShould not reach.\u001b[39m\u001b[38;5;124m\"\u001b[39m\n\u001b[0;32m    229\u001b[0m \u001b[38;5;28;01mif\u001b[39;00m (\n\u001b[0;32m    230\u001b[0m     frozen_trial\u001b[38;5;241m.\u001b[39mstate \u001b[38;5;241m==\u001b[39m TrialState\u001b[38;5;241m.\u001b[39mFAIL\n\u001b[0;32m    231\u001b[0m     \u001b[38;5;129;01mand\u001b[39;00m func_err \u001b[38;5;129;01mis\u001b[39;00m \u001b[38;5;129;01mnot\u001b[39;00m \u001b[38;5;28;01mNone\u001b[39;00m\n\u001b[0;32m    232\u001b[0m     \u001b[38;5;129;01mand\u001b[39;00m \u001b[38;5;129;01mnot\u001b[39;00m \u001b[38;5;28misinstance\u001b[39m(func_err, catch)\n\u001b[0;32m    233\u001b[0m ):\n\u001b[1;32m--> 234\u001b[0m     \u001b[38;5;28;01mraise\u001b[39;00m func_err\n\u001b[0;32m    235\u001b[0m \u001b[38;5;28;01mreturn\u001b[39;00m frozen_trial\n",
      "File \u001b[1;32mD:\\source\\repos\\venv\\Python310\\lib\\site-packages\\optuna\\study\\_optimize.py:196\u001b[0m, in \u001b[0;36m_run_trial\u001b[1;34m(study, func, catch)\u001b[0m\n\u001b[0;32m    194\u001b[0m \u001b[38;5;28;01mwith\u001b[39;00m get_heartbeat_thread(trial\u001b[38;5;241m.\u001b[39m_trial_id, study\u001b[38;5;241m.\u001b[39m_storage):\n\u001b[0;32m    195\u001b[0m     \u001b[38;5;28;01mtry\u001b[39;00m:\n\u001b[1;32m--> 196\u001b[0m         value_or_values \u001b[38;5;241m=\u001b[39m \u001b[43mfunc\u001b[49m\u001b[43m(\u001b[49m\u001b[43mtrial\u001b[49m\u001b[43m)\u001b[49m\n\u001b[0;32m    197\u001b[0m     \u001b[38;5;28;01mexcept\u001b[39;00m exceptions\u001b[38;5;241m.\u001b[39mTrialPruned \u001b[38;5;28;01mas\u001b[39;00m e:\n\u001b[0;32m    198\u001b[0m         \u001b[38;5;66;03m# TODO(mamu): Handle multi-objective cases.\u001b[39;00m\n\u001b[0;32m    199\u001b[0m         state \u001b[38;5;241m=\u001b[39m TrialState\u001b[38;5;241m.\u001b[39mPRUNED\n",
      "Cell \u001b[1;32mIn[648], line 14\u001b[0m, in \u001b[0;36mobjective_v3\u001b[1;34m(trial)\u001b[0m\n\u001b[0;32m     10\u001b[0m scores \u001b[38;5;241m=\u001b[39m []\n\u001b[0;32m     13\u001b[0m skf \u001b[38;5;241m=\u001b[39m StratifiedKFold(n_splits\u001b[38;5;241m=\u001b[39mFOLDS, shuffle\u001b[38;5;241m=\u001b[39m\u001b[38;5;28;01mTrue\u001b[39;00m, random_state\u001b[38;5;241m=\u001b[39mRANDOM_STATE)\n\u001b[1;32m---> 14\u001b[0m \u001b[38;5;28;01mfor\u001b[39;00m fold, (train_idx, valid_idx) \u001b[38;5;129;01min\u001b[39;00m \u001b[38;5;28menumerate\u001b[39m(skf\u001b[38;5;241m.\u001b[39msplit(X, Y)):\n\u001b[0;32m     15\u001b[0m     \u001b[38;5;28mprint\u001b[39m(\u001b[38;5;241m10\u001b[39m\u001b[38;5;241m*\u001b[39m\u001b[38;5;124m\"\u001b[39m\u001b[38;5;124m=\u001b[39m\u001b[38;5;124m\"\u001b[39m, \u001b[38;5;124mf\u001b[39m\u001b[38;5;124m\"\u001b[39m\u001b[38;5;124mFold=\u001b[39m\u001b[38;5;132;01m{\u001b[39;00mfold\u001b[38;5;241m+\u001b[39m\u001b[38;5;241m1\u001b[39m\u001b[38;5;132;01m}\u001b[39;00m\u001b[38;5;124m\"\u001b[39m, \u001b[38;5;241m10\u001b[39m\u001b[38;5;241m*\u001b[39m\u001b[38;5;124m\"\u001b[39m\u001b[38;5;124m=\u001b[39m\u001b[38;5;124m\"\u001b[39m)\n\u001b[0;32m     16\u001b[0m     X_train, X_valid \u001b[38;5;241m=\u001b[39m train_df\u001b[38;5;241m.\u001b[39miloc[train_idx][features], train_df\u001b[38;5;241m.\u001b[39miloc[valid_idx][features]\n",
      "File \u001b[1;32mD:\\source\\repos\\venv\\Python310\\lib\\site-packages\\sklearn\\model_selection\\_split.py:352\u001b[0m, in \u001b[0;36m_BaseKFold.split\u001b[1;34m(self, X, y, groups)\u001b[0m\n\u001b[0;32m    344\u001b[0m \u001b[38;5;28;01mif\u001b[39;00m \u001b[38;5;28mself\u001b[39m\u001b[38;5;241m.\u001b[39mn_splits \u001b[38;5;241m>\u001b[39m n_samples:\n\u001b[0;32m    345\u001b[0m     \u001b[38;5;28;01mraise\u001b[39;00m \u001b[38;5;167;01mValueError\u001b[39;00m(\n\u001b[0;32m    346\u001b[0m         (\n\u001b[0;32m    347\u001b[0m             \u001b[38;5;124m\"\u001b[39m\u001b[38;5;124mCannot have number of splits n_splits=\u001b[39m\u001b[38;5;132;01m{0}\u001b[39;00m\u001b[38;5;124m greater\u001b[39m\u001b[38;5;124m\"\u001b[39m\n\u001b[0;32m    348\u001b[0m             \u001b[38;5;124m\"\u001b[39m\u001b[38;5;124m than the number of samples: n_samples=\u001b[39m\u001b[38;5;132;01m{1}\u001b[39;00m\u001b[38;5;124m.\u001b[39m\u001b[38;5;124m\"\u001b[39m\n\u001b[0;32m    349\u001b[0m         )\u001b[38;5;241m.\u001b[39mformat(\u001b[38;5;28mself\u001b[39m\u001b[38;5;241m.\u001b[39mn_splits, n_samples)\n\u001b[0;32m    350\u001b[0m     )\n\u001b[1;32m--> 352\u001b[0m \u001b[38;5;28;01mfor\u001b[39;00m train, test \u001b[38;5;129;01min\u001b[39;00m \u001b[38;5;28msuper\u001b[39m()\u001b[38;5;241m.\u001b[39msplit(X, y, groups):\n\u001b[0;32m    353\u001b[0m     \u001b[38;5;28;01myield\u001b[39;00m train, test\n",
      "File \u001b[1;32mD:\\source\\repos\\venv\\Python310\\lib\\site-packages\\sklearn\\model_selection\\_split.py:85\u001b[0m, in \u001b[0;36mBaseCrossValidator.split\u001b[1;34m(self, X, y, groups)\u001b[0m\n\u001b[0;32m     83\u001b[0m X, y, groups \u001b[38;5;241m=\u001b[39m indexable(X, y, groups)\n\u001b[0;32m     84\u001b[0m indices \u001b[38;5;241m=\u001b[39m np\u001b[38;5;241m.\u001b[39marange(_num_samples(X))\n\u001b[1;32m---> 85\u001b[0m \u001b[38;5;28;01mfor\u001b[39;00m test_index \u001b[38;5;129;01min\u001b[39;00m \u001b[38;5;28mself\u001b[39m\u001b[38;5;241m.\u001b[39m_iter_test_masks(X, y, groups):\n\u001b[0;32m     86\u001b[0m     train_index \u001b[38;5;241m=\u001b[39m indices[np\u001b[38;5;241m.\u001b[39mlogical_not(test_index)]\n\u001b[0;32m     87\u001b[0m     test_index \u001b[38;5;241m=\u001b[39m indices[test_index]\n",
      "File \u001b[1;32mD:\\source\\repos\\venv\\Python310\\lib\\site-packages\\sklearn\\model_selection\\_split.py:733\u001b[0m, in \u001b[0;36mStratifiedKFold._iter_test_masks\u001b[1;34m(self, X, y, groups)\u001b[0m\n\u001b[0;32m    732\u001b[0m \u001b[38;5;28;01mdef\u001b[39;00m \u001b[38;5;21m_iter_test_masks\u001b[39m(\u001b[38;5;28mself\u001b[39m, X, y\u001b[38;5;241m=\u001b[39m\u001b[38;5;28;01mNone\u001b[39;00m, groups\u001b[38;5;241m=\u001b[39m\u001b[38;5;28;01mNone\u001b[39;00m):\n\u001b[1;32m--> 733\u001b[0m     test_folds \u001b[38;5;241m=\u001b[39m \u001b[38;5;28;43mself\u001b[39;49m\u001b[38;5;241;43m.\u001b[39;49m\u001b[43m_make_test_folds\u001b[49m\u001b[43m(\u001b[49m\u001b[43mX\u001b[49m\u001b[43m,\u001b[49m\u001b[43m \u001b[49m\u001b[43my\u001b[49m\u001b[43m)\u001b[49m\n\u001b[0;32m    734\u001b[0m     \u001b[38;5;28;01mfor\u001b[39;00m i \u001b[38;5;129;01min\u001b[39;00m \u001b[38;5;28mrange\u001b[39m(\u001b[38;5;28mself\u001b[39m\u001b[38;5;241m.\u001b[39mn_splits):\n\u001b[0;32m    735\u001b[0m         \u001b[38;5;28;01myield\u001b[39;00m test_folds \u001b[38;5;241m==\u001b[39m i\n",
      "File \u001b[1;32mD:\\source\\repos\\venv\\Python310\\lib\\site-packages\\sklearn\\model_selection\\_split.py:676\u001b[0m, in \u001b[0;36mStratifiedKFold._make_test_folds\u001b[1;34m(self, X, y)\u001b[0m\n\u001b[0;32m    674\u001b[0m allowed_target_types \u001b[38;5;241m=\u001b[39m (\u001b[38;5;124m\"\u001b[39m\u001b[38;5;124mbinary\u001b[39m\u001b[38;5;124m\"\u001b[39m, \u001b[38;5;124m\"\u001b[39m\u001b[38;5;124mmulticlass\u001b[39m\u001b[38;5;124m\"\u001b[39m)\n\u001b[0;32m    675\u001b[0m \u001b[38;5;28;01mif\u001b[39;00m type_of_target_y \u001b[38;5;129;01mnot\u001b[39;00m \u001b[38;5;129;01min\u001b[39;00m allowed_target_types:\n\u001b[1;32m--> 676\u001b[0m     \u001b[38;5;28;01mraise\u001b[39;00m \u001b[38;5;167;01mValueError\u001b[39;00m(\n\u001b[0;32m    677\u001b[0m         \u001b[38;5;124m\"\u001b[39m\u001b[38;5;124mSupported target types are: \u001b[39m\u001b[38;5;132;01m{}\u001b[39;00m\u001b[38;5;124m. Got \u001b[39m\u001b[38;5;132;01m{!r}\u001b[39;00m\u001b[38;5;124m instead.\u001b[39m\u001b[38;5;124m\"\u001b[39m\u001b[38;5;241m.\u001b[39mformat(\n\u001b[0;32m    678\u001b[0m             allowed_target_types, type_of_target_y\n\u001b[0;32m    679\u001b[0m         )\n\u001b[0;32m    680\u001b[0m     )\n\u001b[0;32m    682\u001b[0m y \u001b[38;5;241m=\u001b[39m column_or_1d(y)\n\u001b[0;32m    684\u001b[0m _, y_idx, y_inv \u001b[38;5;241m=\u001b[39m np\u001b[38;5;241m.\u001b[39munique(y, return_index\u001b[38;5;241m=\u001b[39m\u001b[38;5;28;01mTrue\u001b[39;00m, return_inverse\u001b[38;5;241m=\u001b[39m\u001b[38;5;28;01mTrue\u001b[39;00m)\n",
      "\u001b[1;31mValueError\u001b[0m: Supported target types are: ('binary', 'multiclass'). Got 'multilabel-indicator' instead."
     ]
    }
   ],
   "source": [
    "study = optuna.create_study(direction='maximize', sampler=TPESampler(), study_name=objective)\n",
    "study.optimize(objective_v3, timeout=train_time)"
   ]
  },
  {
   "cell_type": "code",
   "execution_count": 651,
   "id": "093c8cec-58aa-40ed-ba64-047d7a38f90c",
   "metadata": {
    "tags": []
   },
   "outputs": [
    {
     "name": "stdout",
     "output_type": "stream",
     "text": [
      "Epoch 1/100\n",
      "21/21 [==============================] - 1s 14ms/step - loss: 3801.2451 - auc: 0.5000 - val_loss: 3355.5168 - val_auc: 0.5000\n",
      "Epoch 2/100\n",
      "21/21 [==============================] - 0s 9ms/step - loss: 3381.1443 - auc: 0.5000 - val_loss: 2954.7441 - val_auc: 0.5000\n",
      "Epoch 3/100\n",
      "21/21 [==============================] - 0s 7ms/step - loss: 2962.3530 - auc: 0.5000 - val_loss: 2552.9041 - val_auc: 0.5000\n",
      "Epoch 4/100\n",
      "21/21 [==============================] - 0s 7ms/step - loss: 2541.8325 - auc: 0.5000 - val_loss: 2151.1821 - val_auc: 0.5000\n",
      "Epoch 5/100\n",
      "21/21 [==============================] - 0s 6ms/step - loss: 2120.8494 - auc: 0.5000 - val_loss: 1751.1460 - val_auc: 0.5000\n",
      "Epoch 6/100\n",
      "21/21 [==============================] - 0s 6ms/step - loss: 1702.2295 - auc: 0.5000 - val_loss: 1347.5693 - val_auc: 0.5000\n",
      "Epoch 7/100\n",
      "21/21 [==============================] - 0s 6ms/step - loss: 1283.1812 - auc: 0.4802 - val_loss: 952.0010 - val_auc: 0.4659\n",
      "Epoch 8/100\n",
      "21/21 [==============================] - 0s 6ms/step - loss: 903.6196 - auc: 0.4137 - val_loss: 658.2590 - val_auc: 0.3918\n",
      "Epoch 9/100\n",
      "21/21 [==============================] - 0s 7ms/step - loss: 639.1919 - auc: 0.4389 - val_loss: 488.5321 - val_auc: 0.4321\n",
      "Epoch 10/100\n",
      "21/21 [==============================] - 0s 6ms/step - loss: 479.2597 - auc: 0.4672 - val_loss: 390.7080 - val_auc: 0.4508\n",
      "Epoch 11/100\n",
      "21/21 [==============================] - 0s 6ms/step - loss: 375.5328 - auc: 0.4367 - val_loss: 325.1278 - val_auc: 0.4682\n",
      "Epoch 12/100\n",
      "21/21 [==============================] - 0s 6ms/step - loss: 303.2682 - auc: 0.4417 - val_loss: 282.3603 - val_auc: 0.4485\n",
      "Epoch 13/100\n",
      "21/21 [==============================] - 0s 7ms/step - loss: 253.1387 - auc: 0.4377 - val_loss: 251.0811 - val_auc: 0.4649\n",
      "Epoch 14/100\n",
      "21/21 [==============================] - 0s 6ms/step - loss: 215.7381 - auc: 0.4294 - val_loss: 227.1246 - val_auc: 0.4599\n",
      "Epoch 15/100\n",
      "21/21 [==============================] - 0s 6ms/step - loss: 188.0473 - auc: 0.4535 - val_loss: 211.8101 - val_auc: 0.4626\n",
      "Epoch 16/100\n",
      "21/21 [==============================] - 0s 6ms/step - loss: 169.4624 - auc: 0.4503 - val_loss: 200.5389 - val_auc: 0.4640\n",
      "Epoch 17/100\n",
      "21/21 [==============================] - 0s 6ms/step - loss: 154.9588 - auc: 0.4427 - val_loss: 192.9596 - val_auc: 0.4687\n",
      "Epoch 18/100\n",
      "21/21 [==============================] - 0s 6ms/step - loss: 144.8371 - auc: 0.4443 - val_loss: 186.5785 - val_auc: 0.4711\n",
      "Epoch 19/100\n",
      "21/21 [==============================] - 0s 6ms/step - loss: 136.9041 - auc: 0.4471 - val_loss: 181.3885 - val_auc: 0.4695\n",
      "Epoch 20/100\n",
      "21/21 [==============================] - 0s 6ms/step - loss: 131.1481 - auc: 0.4604 - val_loss: 176.6337 - val_auc: 0.4735\n",
      "Epoch 21/100\n",
      "21/21 [==============================] - 0s 6ms/step - loss: 126.2370 - auc: 0.4620 - val_loss: 171.5720 - val_auc: 0.4782\n",
      "Epoch 22/100\n",
      "21/21 [==============================] - 0s 6ms/step - loss: 121.7066 - auc: 0.4661 - val_loss: 166.8806 - val_auc: 0.4834\n",
      "Epoch 23/100\n",
      "21/21 [==============================] - 0s 6ms/step - loss: 117.2668 - auc: 0.4677 - val_loss: 161.9014 - val_auc: 0.4875\n",
      "Epoch 24/100\n",
      "21/21 [==============================] - 0s 6ms/step - loss: 112.6868 - auc: 0.4679 - val_loss: 157.0998 - val_auc: 0.4859\n",
      "Epoch 25/100\n",
      "21/21 [==============================] - 0s 6ms/step - loss: 108.5320 - auc: 0.4736 - val_loss: 151.8167 - val_auc: 0.4881\n",
      "Epoch 26/100\n",
      "21/21 [==============================] - 0s 6ms/step - loss: 104.2893 - auc: 0.4753 - val_loss: 146.9703 - val_auc: 0.4856\n",
      "Epoch 27/100\n",
      "21/21 [==============================] - 0s 6ms/step - loss: 100.3276 - auc: 0.4769 - val_loss: 140.6565 - val_auc: 0.4890\n",
      "Epoch 28/100\n",
      "21/21 [==============================] - 0s 6ms/step - loss: 95.9317 - auc: 0.4801 - val_loss: 135.4001 - val_auc: 0.4873\n",
      "Epoch 29/100\n",
      "21/21 [==============================] - 0s 6ms/step - loss: 91.7246 - auc: 0.4811 - val_loss: 129.4352 - val_auc: 0.4879\n",
      "Epoch 30/100\n",
      "21/21 [==============================] - 0s 6ms/step - loss: 87.1672 - auc: 0.4827 - val_loss: 123.3912 - val_auc: 0.4885\n",
      "Epoch 31/100\n",
      "21/21 [==============================] - 0s 6ms/step - loss: 82.7879 - auc: 0.4827 - val_loss: 117.2333 - val_auc: 0.4896\n",
      "Epoch 32/100\n",
      "21/21 [==============================] - 0s 6ms/step - loss: 78.3466 - auc: 0.4843 - val_loss: 110.9898 - val_auc: 0.4913\n",
      "Epoch 33/100\n",
      "21/21 [==============================] - 0s 6ms/step - loss: 73.8046 - auc: 0.4851 - val_loss: 104.4422 - val_auc: 0.4917\n",
      "Epoch 34/100\n",
      "21/21 [==============================] - 0s 6ms/step - loss: 69.0299 - auc: 0.4843 - val_loss: 97.5011 - val_auc: 0.4917\n",
      "Epoch 35/100\n",
      "21/21 [==============================] - 0s 6ms/step - loss: 64.4105 - auc: 0.4852 - val_loss: 90.4469 - val_auc: 0.4934\n",
      "Epoch 36/100\n",
      "21/21 [==============================] - 0s 6ms/step - loss: 59.4469 - auc: 0.4877 - val_loss: 83.2802 - val_auc: 0.4934\n",
      "Epoch 37/100\n",
      "21/21 [==============================] - 0s 6ms/step - loss: 54.4474 - auc: 0.4869 - val_loss: 76.2939 - val_auc: 0.4923\n",
      "Epoch 38/100\n",
      "21/21 [==============================] - 0s 6ms/step - loss: 49.5718 - auc: 0.4853 - val_loss: 68.8407 - val_auc: 0.4928\n",
      "Epoch 39/100\n",
      "21/21 [==============================] - 0s 7ms/step - loss: 44.4731 - auc: 0.4886 - val_loss: 61.6852 - val_auc: 0.4894\n",
      "Epoch 40/100\n",
      "21/21 [==============================] - 0s 6ms/step - loss: 39.3883 - auc: 0.4878 - val_loss: 53.8209 - val_auc: 0.4894\n",
      "Epoch 41/100\n",
      "21/21 [==============================] - 0s 6ms/step - loss: 34.3127 - auc: 0.4846 - val_loss: 45.4687 - val_auc: 0.4895\n",
      "Epoch 42/100\n",
      "21/21 [==============================] - 0s 6ms/step - loss: 28.7754 - auc: 0.4854 - val_loss: 38.3014 - val_auc: 0.4881\n",
      "Epoch 43/100\n",
      "21/21 [==============================] - 0s 6ms/step - loss: 23.7360 - auc: 0.4821 - val_loss: 29.9705 - val_auc: 0.4893\n",
      "Epoch 44/100\n",
      "21/21 [==============================] - 0s 6ms/step - loss: 18.1493 - auc: 0.4846 - val_loss: 22.5753 - val_auc: 0.4894\n",
      "Epoch 45/100\n",
      "21/21 [==============================] - 0s 7ms/step - loss: 13.3078 - auc: 0.4854 - val_loss: 14.0224 - val_auc: 0.4965\n",
      "Epoch 46/100\n",
      "21/21 [==============================] - 0s 6ms/step - loss: 8.1546 - auc: 0.4993 - val_loss: 7.3262 - val_auc: 0.5054\n",
      "Epoch 47/100\n",
      "21/21 [==============================] - 0s 6ms/step - loss: 4.6543 - auc: 0.4738 - val_loss: 4.2584 - val_auc: 0.5282\n",
      "Epoch 48/100\n",
      "21/21 [==============================] - 0s 6ms/step - loss: 3.3967 - auc: 0.4878 - val_loss: 3.6223 - val_auc: 0.5533\n",
      "Epoch 49/100\n",
      "21/21 [==============================] - 0s 6ms/step - loss: 3.1888 - auc: 0.4970 - val_loss: 3.9750 - val_auc: 0.5326\n",
      "Epoch 50/100\n",
      "21/21 [==============================] - 0s 6ms/step - loss: 3.0011 - auc: 0.5054 - val_loss: 3.3538 - val_auc: 0.5370\n",
      "Epoch 51/100\n",
      "21/21 [==============================] - 0s 6ms/step - loss: 2.8272 - auc: 0.5001 - val_loss: 3.4743 - val_auc: 0.5243\n",
      "Epoch 52/100\n",
      "21/21 [==============================] - 0s 6ms/step - loss: 2.9099 - auc: 0.4833 - val_loss: 3.3643 - val_auc: 0.5072\n",
      "Epoch 53/100\n",
      "21/21 [==============================] - 0s 6ms/step - loss: 2.7007 - auc: 0.5097 - val_loss: 2.9949 - val_auc: 0.5206\n",
      "Epoch 54/100\n",
      "21/21 [==============================] - 0s 6ms/step - loss: 2.5339 - auc: 0.4899 - val_loss: 3.0039 - val_auc: 0.5282\n",
      "Epoch 55/100\n",
      "21/21 [==============================] - 0s 6ms/step - loss: 2.5304 - auc: 0.4861 - val_loss: 2.8069 - val_auc: 0.5092\n",
      "Epoch 56/100\n",
      "21/21 [==============================] - 0s 6ms/step - loss: 2.4956 - auc: 0.5053 - val_loss: 2.9348 - val_auc: 0.5303\n",
      "Epoch 57/100\n",
      "21/21 [==============================] - 0s 6ms/step - loss: 2.5039 - auc: 0.4918 - val_loss: 2.9425 - val_auc: 0.5218\n",
      "Epoch 58/100\n",
      "21/21 [==============================] - 0s 6ms/step - loss: 2.4362 - auc: 0.4794 - val_loss: 3.2241 - val_auc: 0.5101\n",
      "Epoch 59/100\n",
      "21/21 [==============================] - 0s 6ms/step - loss: 2.4628 - auc: 0.4893 - val_loss: 2.8044 - val_auc: 0.5216\n",
      "Epoch 60/100\n",
      "21/21 [==============================] - 0s 6ms/step - loss: 2.3559 - auc: 0.5109 - val_loss: 3.0123 - val_auc: 0.5160\n",
      "Epoch 61/100\n",
      "21/21 [==============================] - 0s 6ms/step - loss: 2.4125 - auc: 0.4859 - val_loss: 2.6791 - val_auc: 0.5079\n",
      "Epoch 62/100\n",
      "21/21 [==============================] - 0s 6ms/step - loss: 2.3969 - auc: 0.4902 - val_loss: 2.6487 - val_auc: 0.5138\n",
      "Epoch 63/100\n",
      "21/21 [==============================] - 0s 6ms/step - loss: 2.2959 - auc: 0.5022 - val_loss: 2.6737 - val_auc: 0.5130\n",
      "Epoch 64/100\n",
      "21/21 [==============================] - 0s 6ms/step - loss: 2.3069 - auc: 0.4869 - val_loss: 2.5909 - val_auc: 0.5233\n",
      "Epoch 65/100\n",
      "21/21 [==============================] - 0s 6ms/step - loss: 2.3328 - auc: 0.4908 - val_loss: 2.7546 - val_auc: 0.5226\n",
      "Epoch 66/100\n",
      "21/21 [==============================] - 0s 6ms/step - loss: 2.3043 - auc: 0.4750 - val_loss: 2.5579 - val_auc: 0.5055\n",
      "Epoch 67/100\n",
      "21/21 [==============================] - 0s 6ms/step - loss: 2.1930 - auc: 0.4827 - val_loss: 2.5264 - val_auc: 0.5081\n",
      "Epoch 68/100\n",
      "21/21 [==============================] - 0s 6ms/step - loss: 2.1203 - auc: 0.4802 - val_loss: 2.5261 - val_auc: 0.5124\n",
      "Epoch 69/100\n",
      "21/21 [==============================] - 0s 6ms/step - loss: 2.1305 - auc: 0.4874 - val_loss: 2.4862 - val_auc: 0.5232\n",
      "Epoch 70/100\n",
      "21/21 [==============================] - 0s 6ms/step - loss: 1.9968 - auc: 0.5027 - val_loss: 2.7257 - val_auc: 0.5231\n",
      "Epoch 71/100\n",
      "21/21 [==============================] - 0s 6ms/step - loss: 2.1429 - auc: 0.5019 - val_loss: 3.5951 - val_auc: 0.5108\n",
      "Epoch 72/100\n",
      "21/21 [==============================] - 0s 6ms/step - loss: 2.3660 - auc: 0.5245 - val_loss: 3.1670 - val_auc: 0.5012\n",
      "Epoch 73/100\n",
      "21/21 [==============================] - 0s 6ms/step - loss: 2.1384 - auc: 0.4925 - val_loss: 2.4239 - val_auc: 0.5308\n",
      "Epoch 74/100\n",
      "21/21 [==============================] - 0s 6ms/step - loss: 1.9953 - auc: 0.5119 - val_loss: 2.7444 - val_auc: 0.5148\n",
      "Epoch 75/100\n",
      "21/21 [==============================] - 0s 6ms/step - loss: 2.1078 - auc: 0.4842 - val_loss: 2.6993 - val_auc: 0.5206\n",
      "Epoch 76/100\n",
      "21/21 [==============================] - 0s 6ms/step - loss: 1.9888 - auc: 0.5051 - val_loss: 2.5770 - val_auc: 0.5437\n",
      "Epoch 77/100\n",
      "21/21 [==============================] - 0s 6ms/step - loss: 2.3242 - auc: 0.5241 - val_loss: 2.7035 - val_auc: 0.5442\n",
      "Epoch 78/100\n",
      "21/21 [==============================] - 0s 6ms/step - loss: 1.9277 - auc: 0.4972 - val_loss: 2.6785 - val_auc: 0.5381\n",
      "Epoch 79/100\n",
      "21/21 [==============================] - 0s 5ms/step - loss: 2.3272 - auc: 0.4987 - val_loss: 2.4216 - val_auc: 0.5214\n",
      "Epoch 80/100\n",
      "21/21 [==============================] - 0s 6ms/step - loss: 2.3389 - auc: 0.5112 - val_loss: 2.5097 - val_auc: 0.5150\n",
      "Epoch 81/100\n",
      "21/21 [==============================] - 0s 6ms/step - loss: 1.8900 - auc: 0.4941 - val_loss: 2.3849 - val_auc: 0.5184\n",
      "Epoch 82/100\n",
      "21/21 [==============================] - 0s 6ms/step - loss: 1.8553 - auc: 0.4861 - val_loss: 2.2251 - val_auc: 0.5169\n",
      "Epoch 83/100\n",
      "21/21 [==============================] - 0s 6ms/step - loss: 1.8041 - auc: 0.5088 - val_loss: 2.1649 - val_auc: 0.5298\n",
      "Epoch 84/100\n",
      "21/21 [==============================] - 0s 6ms/step - loss: 1.7383 - auc: 0.5034 - val_loss: 2.0721 - val_auc: 0.5204\n",
      "Epoch 85/100\n",
      "21/21 [==============================] - 0s 6ms/step - loss: 1.7236 - auc: 0.4992 - val_loss: 2.0758 - val_auc: 0.5258\n",
      "Epoch 86/100\n",
      "21/21 [==============================] - 0s 6ms/step - loss: 1.7374 - auc: 0.5043 - val_loss: 2.0463 - val_auc: 0.5140\n",
      "Epoch 87/100\n",
      "21/21 [==============================] - 0s 6ms/step - loss: 1.6846 - auc: 0.5120 - val_loss: 2.6259 - val_auc: 0.5130\n",
      "Epoch 88/100\n",
      "21/21 [==============================] - 0s 6ms/step - loss: 1.7330 - auc: 0.4814 - val_loss: 1.9935 - val_auc: 0.5087\n",
      "Epoch 89/100\n",
      "21/21 [==============================] - 0s 6ms/step - loss: 1.9793 - auc: 0.4984 - val_loss: 2.3385 - val_auc: 0.5585\n",
      "Epoch 90/100\n",
      "21/21 [==============================] - 0s 6ms/step - loss: 1.7526 - auc: 0.5005 - val_loss: 2.0800 - val_auc: 0.5082\n",
      "Epoch 91/100\n",
      "21/21 [==============================] - 0s 6ms/step - loss: 1.8155 - auc: 0.5295 - val_loss: 1.9904 - val_auc: 0.5512\n",
      "Epoch 92/100\n",
      "21/21 [==============================] - 0s 6ms/step - loss: 1.7156 - auc: 0.5034 - val_loss: 1.8583 - val_auc: 0.5153\n",
      "Epoch 93/100\n",
      "21/21 [==============================] - 0s 6ms/step - loss: 1.7757 - auc: 0.5524 - val_loss: 2.1550 - val_auc: 0.5144\n",
      "Epoch 94/100\n",
      "21/21 [==============================] - 0s 6ms/step - loss: 1.5699 - auc: 0.5097 - val_loss: 1.8824 - val_auc: 0.5147\n",
      "Epoch 95/100\n",
      "21/21 [==============================] - 0s 6ms/step - loss: 1.5762 - auc: 0.5115 - val_loss: 2.3878 - val_auc: 0.5156\n",
      "Epoch 96/100\n",
      "21/21 [==============================] - 0s 6ms/step - loss: 1.7506 - auc: 0.5066 - val_loss: 3.0399 - val_auc: 0.5114\n",
      "Epoch 97/100\n",
      "21/21 [==============================] - 0s 6ms/step - loss: 1.6846 - auc: 0.5208 - val_loss: 1.7987 - val_auc: 0.5280\n",
      "Epoch 98/100\n",
      "21/21 [==============================] - 0s 6ms/step - loss: 1.4742 - auc: 0.4992 - val_loss: 1.8637 - val_auc: 0.5059\n",
      "Epoch 99/100\n",
      "21/21 [==============================] - 0s 6ms/step - loss: 1.8259 - auc: 0.5112 - val_loss: 1.9277 - val_auc: 0.5092\n",
      "Epoch 100/100\n",
      "21/21 [==============================] - 0s 6ms/step - loss: 1.5169 - auc: 0.5063 - val_loss: 1.7477 - val_auc: 0.5326\n",
      "53/53 [==============================] - 0s 683us/step\n"
     ]
    }
   ],
   "source": [
    "max_features = 5000  # Maximum vocab size.\n",
    "max_len = 4  # Sequence length to pad the outputs to.\n",
    "\n",
    "X_train, X_valid, y_train, y_valid = train_test_split(train_df[features], train_df[target], test_size=0.60)\n",
    "\n",
    "model = tf.keras.Sequential([\n",
    "\n",
    "    layers.Dense(1, activation=\"sigmoid\"),\n",
    "])\n",
    "\n",
    "#reg.fit(X_train, y_train, eval_set=[(X_valid, y_valid)], verbose=False)\n",
    "#model.compile(loss='binary_crossentropy', optimizer='adam',metrics=['accuracy'])\n",
    "\n",
    "model.compile(optimizer='adam', loss=tf.keras.losses.BinaryCrossentropy(), metrics=[tf.keras.metrics.AUC(name='auc')])\n",
    "\n",
    "\n",
    "history = model.fit(\n",
    "    X_train,\n",
    "    y_train,\n",
    "    validation_data=(X_valid, y_valid),\n",
    "\n",
    "    epochs=100,\n",
    "    # Suppress logging.\n",
    "    verbose=1,\n",
    ")\n",
    "\n",
    "full_prediction = model.predict(train_df[features])"
   ]
  },
  {
   "cell_type": "code",
   "execution_count": 652,
   "id": "d23b0583-d6d7-47a7-9356-5972986957f6",
   "metadata": {},
   "outputs": [
    {
     "data": {
      "image/png": "[encoded data removed]",
      "text/plain": [
       "<Figure size 1800x300 with 3 Axes>"
      ]
     },
     "metadata": {},
     "output_type": "display_data"
    }
   ],
   "source": [
    "plt.style.use(\"cyberpunk\")\n",
    "\n",
    "histplot_hyperparams = {\n",
    "        'kde':True,\n",
    "        'alpha':0.4,\n",
    "        'stat':'percent',\n",
    "        'bins':50\n",
    "    }\n",
    "\n",
    "n_cols = 3\n",
    "n_rows = 1\n",
    "cell_with_dim = 6\n",
    "cell_height_dim = 3\n",
    "\n",
    "fig, ax = plt.subplots(n_rows, n_cols, figsize=(n_cols * cell_with_dim, n_rows * cell_height_dim))\n",
    "\n",
    "sns.lineplot(history.history['loss'], label='loss', ax=ax[0])\n",
    "sns.lineplot(history.history['val_loss'], label='val_loss', ax=ax[0])\n",
    "\n",
    "mplcyberpunk.make_lines_glow(ax[0])\n",
    "mplcyberpunk.add_underglow(ax[0])\n",
    "\n",
    "sns.lineplot(history.history['auc'], label='auc', ax=ax[1])\n",
    "sns.lineplot(history.history['val_auc'], label='val_auc', ax=ax[1])\n",
    "\n",
    "mplcyberpunk.make_lines_glow(ax[1])\n",
    "mplcyberpunk.add_underglow(ax[1])\n",
    "\n",
    "sns.histplot(full_prediction.argmax(1), ax=ax[2], **histplot_hyperparams, color='#08F7FE')\n",
    "\n",
    "mplcyberpunk.make_lines_glow(ax[2])\n",
    "\n",
    "\n",
    "\n",
    "\n",
    "plt.show()"
   ]
  },
  {
   "cell_type": "code",
   "execution_count": 653,
   "id": "a5d628cc-c03e-4b65-b49b-c5400750c785",
   "metadata": {},
   "outputs": [
    {
     "data": {
      "text/plain": [
       "array([[3.7884028e-04],\n",
       "       [8.3750981e-01],\n",
       "       [6.7289802e-04],\n",
       "       ...,\n",
       "       [9.9999797e-01],\n",
       "       [3.0232099e-04],\n",
       "       [9.9905246e-01]], dtype=float32)"
      ]
     },
     "execution_count": 653,
     "metadata": {},
     "output_type": "execute_result"
    }
   ],
   "source": [
    "full_prediction"
   ]
  },
  {
   "cell_type": "code",
   "execution_count": 654,
   "id": "fee0db8a-5c1a-407e-94a6-25ad63740306",
   "metadata": {},
   "outputs": [
    {
     "name": "stdout",
     "output_type": "stream",
     "text": [
      "53/53 [==============================] - 0s 673us/step\n"
     ]
    }
   ],
   "source": [
    "preds = model.predict(train_df[features])"
   ]
  },
  {
   "cell_type": "code",
   "execution_count": 655,
   "id": "0a9fd934-d0e5-4c8e-adb1-395609041cc8",
   "metadata": {},
   "outputs": [
    {
     "data": {
      "text/plain": [
       "0.44677217332430597"
      ]
     },
     "execution_count": 655,
     "metadata": {},
     "output_type": "execute_result"
    }
   ],
   "source": [
    "roc_auc_score(train_df[split_targets], preds)"
   ]
  },
  {
   "cell_type": "code",
   "execution_count": 656,
   "id": "a9d49b8f-00c4-4071-bdff-65abc6165120",
   "metadata": {},
   "outputs": [
    {
     "data": {
      "text/plain": [
       "(array([0], dtype=int64), array([1677], dtype=int64))"
      ]
     },
     "execution_count": 656,
     "metadata": {},
     "output_type": "execute_result"
    }
   ],
   "source": [
    "np.unique(preds.argmax(1), return_counts=True)"
   ]
  },
  {
   "cell_type": "code",
   "execution_count": 657,
   "id": "aa3a3d27-79cf-4e34-9b94-513cd92ec1b7",
   "metadata": {},
   "outputs": [
    {
     "data": {
      "text/plain": [
       "0.5"
      ]
     },
     "execution_count": 657,
     "metadata": {},
     "output_type": "execute_result"
    }
   ],
   "source": [
    "roc_auc_score(train_df[target], preds.argmax(1))"
   ]
  },
  {
   "cell_type": "code",
   "execution_count": 658,
   "id": "454d40fd-91e0-4c07-b95a-b57ca42c60f6",
   "metadata": {},
   "outputs": [
    {
     "data": {
      "text/html": [
       "<div>\n",
       "<style scoped>\n",
       "    .dataframe tbody tr th:only-of-type {\n",
       "        vertical-align: middle;\n",
       "    }\n",
       "\n",
       "    .dataframe tbody tr th {\n",
       "        vertical-align: top;\n",
       "    }\n",
       "\n",
       "    .dataframe thead th {\n",
       "        text-align: right;\n",
       "    }\n",
       "</style>\n",
       "<table border=\"1\" class=\"dataframe\">\n",
       "  <thead>\n",
       "    <tr style=\"text-align: right;\">\n",
       "      <th></th>\n",
       "      <th>Attrition</th>\n",
       "    </tr>\n",
       "    <tr>\n",
       "      <th>id</th>\n",
       "      <th></th>\n",
       "    </tr>\n",
       "  </thead>\n",
       "  <tbody>\n",
       "    <tr>\n",
       "      <th>3</th>\n",
       "      <td>0</td>\n",
       "    </tr>\n",
       "    <tr>\n",
       "      <th>4</th>\n",
       "      <td>1</td>\n",
       "    </tr>\n",
       "    <tr>\n",
       "      <th>5</th>\n",
       "      <td>0</td>\n",
       "    </tr>\n",
       "  </tbody>\n",
       "</table>\n",
       "</div>"
      ],
      "text/plain": [
       "    Attrition\n",
       "id           \n",
       "3           0\n",
       "4           1\n",
       "5           0"
      ]
     },
     "execution_count": 658,
     "metadata": {},
     "output_type": "execute_result"
    }
   ],
   "source": [
    "train_df[target][3:6]"
   ]
  },
  {
   "cell_type": "code",
   "execution_count": 626,
   "id": "9ae28e49-d224-499d-93a7-67ec55036ad7",
   "metadata": {},
   "outputs": [
    {
     "data": {
      "text/plain": [
       "array([0, 0, 0], dtype=int64)"
      ]
     },
     "execution_count": 626,
     "metadata": {},
     "output_type": "execute_result"
    }
   ],
   "source": [
    "preds.argmax(1)[3:6]"
   ]
  },
  {
   "cell_type": "code",
   "execution_count": 555,
   "id": "2ec511be-b75a-4fb3-8206-22e454d2bc0e",
   "metadata": {},
   "outputs": [
    {
     "name": "stdout",
     "output_type": "stream",
     "text": [
      "53/53 [==============================] - 0s 719us/step\n"
     ]
    }
   ],
   "source": [
    "train_preds = []\n",
    "train_preds.append(model.predict(train_df[features]).argmax(1))\n",
    "train_final_preds = np.stack(train_preds).mean(0)\n",
    "\n",
    "train_submission = pd.DataFrame(data={'id': train_df.index, target[0]: train_final_preds.reshape(len(train_final_preds)).tolist()})\n",
    "train_submission.to_csv(fr'rendered_data/{objective}_train_submission.csv', index=False)"
   ]
  },
  {
   "cell_type": "code",
   "execution_count": 335,
   "id": "e760c76c-fdbf-4f06-9300-6529f6c8a6d9",
   "metadata": {},
   "outputs": [
    {
     "name": "stdout",
     "output_type": "stream",
     "text": [
      "35/35 [==============================] - 0s 765us/step\n"
     ]
    }
   ],
   "source": [
    "test_preds = []\n",
    "test_preds.append(model.predict(test_df[features]).argmax(1))\n",
    "test_final_preds = np.stack(test_preds).mean(0)\n",
    "\n",
    "test_submission = pd.DataFrame(data={'id': test_df.index, target[0]: test_final_preds.reshape(len(test_final_preds)).tolist()})\n",
    "test_submission.to_csv(fr'rendered_data/{objective}_test_submission.csv', index=False)"
   ]
  },
  {
   "cell_type": "code",
   "execution_count": null,
   "id": "cd78822b-3779-4cd1-a6f7-93f975461005",
   "metadata": {
    "tags": []
   },
   "outputs": [],
   "source": [
    "parm_grid_bytes = pickle.dumps(param_grid_history)\n",
    "with open(f\"rendered_data/{objective}_bytes.hex\", \"wb\") as binary_file:\n",
    "    binary_file.write(parm_grid_bytes)"
   ]
  },
  {
   "cell_type": "code",
   "execution_count": null,
   "id": "4fc1f5eb-5007-4b73-a696-7c1b938a12cd",
   "metadata": {
    "tags": []
   },
   "outputs": [],
   "source": [
    "def train(param_grid):\n",
    "    reg = xgb.XGBModel(\n",
    "        # These parameters should help with trial speed.\n",
    "        objective='binary:logistic',\n",
    "        tree_method='gpu_hist',\n",
    "        booster='gbtree',\n",
    "        predictor='gpu_predictor',\n",
    "        n_jobs=4,\n",
    "        eval_metric='auc',\n",
    "        early_stopping_rounds=100,\n",
    "        **param_grid\n",
    "    )\n",
    "    \n",
    "    X_train, X_valid, y_train, y_valid = train_test_split(X, Y, test_size=0.20)\n",
    "    \n",
    "    reg.fit(X_train, y_train, eval_set=[(X_valid, y_valid)], verbose=False)\n",
    "        \n",
    "    return reg\n",
    "\n",
    "percent = math.ceil(len(param_grid_history.keys()) * .1)\n",
    "top = sorted(list(param_grid_history.keys()))[-percent:]\n",
    "\n",
    "train_preds = []\n",
    "test_preds = []\n",
    "for key in tqdm(top):\n",
    "    model = train(param_grid_history[key])\n",
    "    train_preds.append(model.predict(train_df[features]))\n",
    "    test_preds.append(model.predict(test_df[features]))\n",
    "\n",
    "train_final_preds = np.stack(train_preds).mean(0)\n",
    "test_final_preds = np.stack(test_preds).mean(0)"
   ]
  },
  {
   "cell_type": "code",
   "execution_count": null,
   "id": "6a849ba6-0559-42be-88da-2b5f6738d4f1",
   "metadata": {},
   "outputs": [],
   "source": [
    "train_submission = pd.DataFrame(data={'id': train_df.index, target[0]: train_final_preds})\n",
    "train_submission.to_csv(fr'rendered_data/{objective}_train_submission.csv', index=False)\n",
    "\n",
    "test_submission = pd.DataFrame(data={'id': test_df.index, target[0]: test_final_preds})\n",
    "test_submission.to_csv(fr'rendered_data/{objective}_test_submission.csv', index=False)"
   ]
  },
  {
   "cell_type": "code",
   "execution_count": null,
   "id": "e39940d7-295b-4781-b008-0faa28ecb553",
   "metadata": {},
   "outputs": [],
   "source": []
  },
  {
   "cell_type": "code",
   "execution_count": null,
   "id": "d4101df8-7385-492d-b06e-7f42d874cf66",
   "metadata": {},
   "outputs": [],
   "source": []
  },
  {
   "cell_type": "code",
   "execution_count": null,
   "id": "0aff80b8-37d3-44e2-9082-25cc759d93a0",
   "metadata": {},
   "outputs": [],
   "source": []
  },
  {
   "cell_type": "code",
   "execution_count": null,
   "id": "b21e7362-c2ca-4bee-8666-9c4e305e1fd4",
   "metadata": {},
   "outputs": [],
   "source": []
  },
  {
   "cell_type": "code",
   "execution_count": null,
   "id": "8872ad54-57a6-4511-9389-3a46ad31366f",
   "metadata": {},
   "outputs": [],
   "source": []
  }
 ],
 "metadata": {
  "kernelspec": {
   "display_name": "Python 3 (ipykernel)",
   "language": "python",
   "name": "python3"
  },
  "language_info": {
   "codemirror_mode": {
    "name": "ipython",
    "version": 3
   },
   "file_extension": ".py",
   "mimetype": "text/x-python",
   "name": "python",
   "nbconvert_exporter": "python",
   "pygments_lexer": "ipython3",
   "version": "3.10.9"
  }
 },
 "nbformat": 4,
 "nbformat_minor": 5
}
