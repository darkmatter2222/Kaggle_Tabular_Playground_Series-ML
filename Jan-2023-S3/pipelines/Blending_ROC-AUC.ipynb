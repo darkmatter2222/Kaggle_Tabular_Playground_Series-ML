{
 "cells": [
  {
   "cell_type": "code",
   "execution_count": null,
   "id": "117ef22e-8c6d-4f4a-a7b2-9ad164e20a6f",
   "metadata": {},
   "outputs": [],
   "source": [
    "import pandas as pd\n",
    "import numpy as np\n",
    "from tqdm import tqdm\n",
    "from sklearn.metrics import roc_curve, auc,recall_score,precision_score\n",
    "from sklearn import metrics\n",
    "\n",
    "import sys, os\n",
    "import pandas as pd\n",
    "import seaborn as sns\n",
    "import numpy as np\n",
    "import matplotlib.pyplot as plt\n",
    "from sklearn.feature_extraction.text import CountVectorizer\n",
    "import math\n",
    "import pickle"
   ]
  },
  {
   "cell_type": "code",
   "execution_count": null,
   "id": "83668732-a7a3-426d-9bb6-16e6c1e7779d",
   "metadata": {},
   "outputs": [],
   "source": [
    "#https://github.com/dhaitz/mplcyberpunk\n",
    "import mplcyberpunk"
   ]
  },
  {
   "cell_type": "code",
   "execution_count": null,
   "id": "08e90f70-98c1-4314-bc9f-1c2896749b39",
   "metadata": {},
   "outputs": [],
   "source": [
    "sys.path.append(os.path.realpath('..'))"
   ]
  },
  {
   "cell_type": "code",
   "execution_count": null,
   "id": "30085819-2c77-4eff-9525-599357382b41",
   "metadata": {},
   "outputs": [],
   "source": [
    "train_df = pd.read_csv(r\"..\\data\\train.csv\", index_col=0)\n",
    "test_df = pd.read_csv(r\"..\\data\\test.csv\", index_col=0)\n",
    "xgb_train_df = pd.read_csv(r'rendered_data/xgbregressor_train_submission.csv', index_col=0)\n",
    "lgbm_train_df = pd.read_csv(r'rendered_data/lgbmregressor_train_submission.csv', index_col=0)\n",
    "cat_train_df = pd.read_csv(r'rendered_data/catregressor_train_submission.csv', index_col=0)\n",
    "lassocv_train_df = pd.read_csv(r'rendered_data/lassocvregressor_train_submission.csv', index_col=0)\n",
    "\n",
    "xgb_test_df = pd.read_csv(r'rendered_data/xgbregressor_test_submission.csv', index_col=0)\n",
    "lgbm_test_df = pd.read_csv(r'rendered_data/lgbmregressor_test_submission.csv', index_col=0)\n",
    "cat_test_df = pd.read_csv(r'rendered_data/catregressor_test_submission.csv', index_col=0)\n",
    "lassocv_test_df = pd.read_csv(r'rendered_data/lassocvregressor_test_submission.csv', index_col=0)"
   ]
  },
  {
   "cell_type": "code",
   "execution_count": null,
   "id": "9503b12e-4120-4f32-b0ce-0aea07be6125",
   "metadata": {},
   "outputs": [],
   "source": [
    "del train_df['Over18']\n",
    "del train_df['EmployeeCount']\n",
    "del train_df['StandardHours']"
   ]
  },
  {
   "cell_type": "code",
   "execution_count": null,
   "id": "4f0d10d8-e5e5-4ae1-a978-8d6aed5d07a9",
   "metadata": {},
   "outputs": [],
   "source": [
    "features = ['Age', 'DailyRate', 'DistanceFromHome', 'Education', 'EnvironmentSatisfaction','HourlyRate', 'JobInvolvement', 'JobLevel', 'JobSatisfaction', \n",
    "       'MonthlyIncome', 'MonthlyRate', 'NumCompaniesWorked', 'PercentSalaryHike', 'PerformanceRating', 'RelationshipSatisfaction', 'StockOptionLevel', 'TotalWorkingYears',\n",
    "       'TrainingTimesLastYear', 'WorkLifeBalance', 'YearsAtCompany', 'YearsInCurrentRole', 'YearsSinceLastPromotion', 'YearsWithCurrManager',\n",
    "        'BusinessTravel_v', 'Department_v', 'EducationField_v','Gender_v', 'JobRole_v', 'MaritalStatus_v', 'OverTime_v']\n",
    "target = ['Attrition']"
   ]
  },
  {
   "cell_type": "code",
   "execution_count": null,
   "id": "4109ea88-f404-4ca3-b9a9-cfd63a3049fe",
   "metadata": {},
   "outputs": [],
   "source": [
    "columns_to_vectorize = ['BusinessTravel', 'Department', 'EducationField', 'Gender', 'JobRole', 'MaritalStatus', 'OverTime']\n",
    "for vector_target in columns_to_vectorize:\n",
    "    print(vector_target)\n",
    "    vectorizer = CountVectorizer()\n",
    "    vectorizer.fit_transform(train_df[vector_target])\n",
    "    train_df[f'{vector_target}_v'] = vectorizer.transform(train_df[vector_target]).toarray().argmax(axis=1)[:,None]\n",
    "    vectorizer.fit_transform(test_df[vector_target])\n",
    "    test_df[f'{vector_target}_v'] = vectorizer.transform(test_df[vector_target]).toarray().argmax(axis=1)[:,None]"
   ]
  },
  {
   "cell_type": "code",
   "execution_count": null,
   "id": "9b478471-80fc-4ea7-b5ce-b4f85f3d8c2b",
   "metadata": {},
   "outputs": [],
   "source": [
    "def roc_auc_score(y_valid, preds):\n",
    "    fpr, tpr, _ = roc_curve(y_valid, preds)\n",
    "    roc_auc = auc(fpr, tpr)\n",
    "    return roc_auc, fpr, tpr"
   ]
  },
  {
   "cell_type": "code",
   "execution_count": null,
   "id": "23c58c4b-deb4-4fcc-9fb2-6de854d967f9",
   "metadata": {},
   "outputs": [],
   "source": [
    "with open(f\"../../BlendingSets/feature_{4}_depth_{1}.hex\", \"rb\") as input_file:\n",
    "    combos = pickle.load(input_file)\n",
    "len(combos)"
   ]
  },
  {
   "cell_type": "code",
   "execution_count": null,
   "id": "60647de8-9473-4d3d-8f26-d5e768b4d245",
   "metadata": {},
   "outputs": [],
   "source": [
    "#combos = np.array(list(combos))*0.01"
   ]
  },
  {
   "cell_type": "code",
   "execution_count": null,
   "id": "7c904519-f65f-498e-b749-d9a4d2d162ec",
   "metadata": {
    "tags": []
   },
   "outputs": [],
   "source": [
    "combos"
   ]
  },
  {
   "cell_type": "code",
   "execution_count": null,
   "id": "9d6875c6-ef5a-4c40-bc0f-d6d0fdd6b2f2",
   "metadata": {},
   "outputs": [],
   "source": [
    "coefficients = combos\n",
    "best_score = 0\n",
    "best_coefficients_index = 0\n",
    "plot_data = None\n",
    "\n",
    "n_cols = 6\n",
    "\n",
    "n_rows = 1\n",
    "cell_with_dim = 4\n",
    "cell_height_dim = 3\n",
    "plt.style.use(\"cyberpunk\")\n",
    "fig, ax = plt.subplots(n_rows, n_cols, figsize=(n_cols * cell_with_dim, n_rows * cell_height_dim))\n",
    "\n",
    "roc_auc, fpr, tpr = roc_auc_score(train_df[target], xgb_train_df[target])\n",
    "sns.lineplot(y=tpr, x=fpr, label=f'xgb {roc_auc}', ax=ax[0])\n",
    "\n",
    "mplcyberpunk.add_underglow(ax[0])\n",
    "mplcyberpunk.make_lines_glow(ax[0])\n",
    "sns.lineplot(y=tpr, x=fpr, label=f'xgb {roc_auc}', ax=ax[5])\n",
    "\n",
    "roc_auc, fpr, tpr = roc_auc_score(train_df[target], lgbm_train_df[target])\n",
    "sns.lineplot(y=tpr, x=fpr, label=f'lgbm {roc_auc}', ax=ax[1])\n",
    "mplcyberpunk.add_underglow(ax[1])\n",
    "mplcyberpunk.make_lines_glow(ax[1])\n",
    "sns.lineplot(y=tpr, x=fpr, label=f'lgbm {roc_auc}', ax=ax[5])\n",
    "\n",
    "roc_auc, fpr, tpr = roc_auc_score(train_df[target], cat_train_df[target])\n",
    "sns.lineplot(y=tpr, x=fpr, label=f'cat {roc_auc}', ax=ax[2])\n",
    "mplcyberpunk.add_underglow(ax[2])\n",
    "mplcyberpunk.make_lines_glow(ax[2])\n",
    "sns.lineplot(y=tpr, x=fpr, label=f'cat {roc_auc}', ax=ax[5])\n",
    "\n",
    "roc_auc, fpr, tpr = roc_auc_score(train_df[target], lassocv_train_df[target])\n",
    "sns.lineplot(y=tpr, x=fpr, label=f'lassocv {roc_auc}', ax=ax[3])\n",
    "mplcyberpunk.add_underglow(ax[3])\n",
    "mplcyberpunk.make_lines_glow(ax[3])\n",
    "sns.lineplot(y=tpr, x=fpr, label=f'lassocv {roc_auc}', ax=ax[5])\n",
    "\n",
    "\n",
    "ax[2].set_title('AUC')\n",
    "ax[2].set_xlabel('FP')\n",
    "ax[0].set_ylabel('TP')\n",
    "\n",
    "for index, (a, b, c, d) in tqdm(enumerate(coefficients)):\n",
    "    roc_auc, fpr, tpr = roc_auc_score(train_df[target], (a * xgb_train_df[target]) + (b * lgbm_train_df[target]) + (c * cat_train_df[target]) + (d * lassocv_train_df[target]))\n",
    "    if roc_auc > best_score:\n",
    "        best_score = roc_auc\n",
    "        best_coefficients_index = index\n",
    "        plot_data = [roc_auc, fpr, tpr]\n",
    "\n",
    "sns.lineplot(y=plot_data[2], x=plot_data[1], label=f'blend {plot_data[0]}', ax=ax[4])\n",
    "mplcyberpunk.add_underglow(ax[4])\n",
    "mplcyberpunk.make_lines_glow(ax[4])\n",
    "sns.lineplot(y=plot_data[2], x=plot_data[1], label=f'blend {plot_data[0]}', ax=ax[5])\n",
    "\n",
    "plt.show()\n",
    "print(f\"Best coef:{combos[best_coefficients_index]} w/ score:{best_score}\")"
   ]
  },
  {
   "cell_type": "code",
   "execution_count": null,
   "id": "6af8dabb-21d8-4a59-b1ff-6cf69c1aa21c",
   "metadata": {},
   "outputs": [],
   "source": [
    "coef = combos[best_coefficients_index]\n",
    "#blended_test_results = xgb_test_df[target]*.25 + lgbm_test_df[target]*.25 + cat_test_df[target]*.25+ lassocv_test_df[target]*.25\n",
    "#blended_test_results = xgb_test_df[target]*0 + lgbm_test_df[target]*0 + cat_test_df[target]*0+ lassocv_test_df[target]*1\n",
    "blended_test_results = xgb_test_df[target]*coef[0] + lgbm_test_df[target]*coef[1] + cat_test_df[target]*coef[2] + lassocv_test_df[target]*coef[3]\n",
    "final_blended_test_submission = pd.DataFrame(data={'id': test_df.index, target[0]: blended_test_results[target[0]].values})\n",
    "final_blended_test_submission.to_csv(fr'rendered_data/final_blended_test_submission.csv', index=False)"
   ]
  },
  {
   "cell_type": "code",
   "execution_count": null,
   "id": "1e747ffe-bd17-4935-a9a1-358fc57a9d6d",
   "metadata": {},
   "outputs": [],
   "source": [
    "from itertools import islice, cycle\n",
    "\n",
    "plt.style.use(\"cyberpunk\")\n",
    "\n",
    "def add_secondary_plot(df, column, target_column, ax, n_bins, color=3, show_yticks=False, marker=\".\"):\n",
    "    secondary_ax = ax.twinx()\n",
    "    bins = pd.cut(df[column], bins=n_bins)\n",
    "    bins = pd.IntervalIndex(bins)\n",
    "    bins = (bins.left + bins.right) / 2\n",
    "    target = df.groupby(bins)[target_column].mean()\n",
    "    target.plot(\n",
    "        ax=secondary_ax, linestyle='',\n",
    "        marker=marker, color=color, label=f\"Mean '{target_column}'\"\n",
    "    )\n",
    "    secondary_ax.grid(visible=False)\n",
    "    \n",
    "    if not show_yticks:\n",
    "        secondary_ax.get_yaxis().set_ticks([])\n",
    "        \n",
    "    return secondary_ax\n",
    "\n",
    "def render_feature_distros(train_df, test_df, features=[], labels=[], n_bins=50, n_cols=4, pad=2, h_pad=4, w_pad=None):\n",
    "    histplot_hyperparams = {\n",
    "        'kde':True,\n",
    "        'alpha':0.4,\n",
    "        'stat':'percent',\n",
    "        'bins':n_bins\n",
    "    }\n",
    "    markers = ['.', '+', 'x', '1', '2']\n",
    "    \n",
    "    n_rows = math.ceil(len(features) / n_cols)\n",
    "    cell_with_dim = 4\n",
    "    cell_height_dim = 3\n",
    "    \n",
    "    fig, ax = plt.subplots(n_rows, n_cols, figsize=(n_cols * cell_with_dim, n_rows * cell_height_dim))\n",
    "    plt.tight_layout(pad=pad, h_pad=h_pad, w_pad=w_pad, rect=None)\n",
    "    \n",
    "    # delete exess subplots\n",
    "    for a in ax[n_rows - 1, int(((n_rows - (len(features) / n_cols)) * n_cols*-1)):]:\n",
    "        a.axis('off')\n",
    "        \n",
    "    leg_handles = []\n",
    "    leg_labels = []\n",
    "    \n",
    "    axs = []\n",
    "\n",
    "    for i, feature in enumerate(features):\n",
    "        row = math.ceil(i / n_cols) - 1\n",
    "        col = (i % n_cols)\n",
    "        \n",
    "        color_cycle = islice(mplcyberpunk.cyberpunk_stylesheets['cyberpunk']['axes.prop_cycle'], 0, None)\n",
    "        \n",
    "        sns.histplot(train_df[feature], label='Train X', ax=ax[row, col], color=next(color_cycle)['color'], **histplot_hyperparams)\n",
    "        sns.histplot(test_df[feature], label='Test X', ax=ax[row, col],color=next(color_cycle)['color'], **histplot_hyperparams)\n",
    "        ax[row, col].set_title(f'{feature} Distribution')\n",
    "        mplcyberpunk.make_lines_glow(ax[row, col])\n",
    "        axs.append(ax[row, col].get_legend_handles_labels())\n",
    "\n",
    "        for j, label in enumerate(labels):\n",
    "            sub_ax = add_secondary_plot(train_df, feature, label, ax[row, col], n_bins, color=next(color_cycle)['color'], marker=markers[j])\n",
    "            axs.append(sub_ax.get_legend_handles_labels())\n",
    "        \n",
    "    for axis in axs:\n",
    "        if axis[1][0] not in leg_labels:\n",
    "            leg_labels.extend(axis[1])\n",
    "            leg_handles.extend(axis[0])\n",
    "        \n",
    "    fig.legend(leg_handles, leg_labels, loc='upper center', bbox_to_anchor=(0.5, 1.04), fontsize=14, ncol=len(features) + 2)"
   ]
  },
  {
   "cell_type": "code",
   "execution_count": null,
   "id": "3a27f9d0-ec69-4aa6-8c4f-047e0c81d845",
   "metadata": {},
   "outputs": [],
   "source": [
    "train_df[f'XGB_{target[0]}'] = xgb_train_df[target]\n",
    "train_df[f'LGBM_{target[0]}'] = lgbm_train_df[target]\n",
    "train_df[f'CAT_{target[0]}'] = cat_train_df[target]\n",
    "train_df[f'LASSOCV_{target[0]}'] = lassocv_train_df[target]"
   ]
  },
  {
   "cell_type": "code",
   "execution_count": null,
   "id": "7bbcc6ab-9d1f-4936-81f4-5a37200ef035",
   "metadata": {},
   "outputs": [],
   "source": [
    "render_feature_distros(train_df=train_df, test_df=test_df, features=features, labels=[target[0], f'XGB_{target[0]}', f'LGBM_{target[0]}', f'CAT_{target[0]}'])"
   ]
  },
  {
   "cell_type": "code",
   "execution_count": null,
   "id": "f657c83e-18a0-4a43-87c8-9bfea6c3e626",
   "metadata": {},
   "outputs": [],
   "source": []
  },
  {
   "cell_type": "code",
   "execution_count": null,
   "id": "9c12a6f5-c36d-4fcd-9ad5-f5b8e57604cc",
   "metadata": {},
   "outputs": [],
   "source": []
  },
  {
   "cell_type": "code",
   "execution_count": null,
   "id": "070ac35f-3868-4a60-bd02-242b8bd4c55f",
   "metadata": {},
   "outputs": [],
   "source": []
  }
 ],
 "metadata": {
  "kernelspec": {
   "display_name": "Python 3 (ipykernel)",
   "language": "python",
   "name": "python3"
  },
  "language_info": {
   "codemirror_mode": {
    "name": "ipython",
    "version": 3
   },
   "file_extension": ".py",
   "mimetype": "text/x-python",
   "name": "python",
   "nbconvert_exporter": "python",
   "pygments_lexer": "ipython3",
   "version": "3.10.9"
  }
 },
 "nbformat": 4,
 "nbformat_minor": 5
}
