{
 "cells": [
  {
   "cell_type": "code",
   "execution_count": 1,
   "id": "8ce2d92c-624a-46d9-ab24-34b4dc76ecde",
   "metadata": {},
   "outputs": [],
   "source": [
    "import numpy as np\n",
    "import pandas as pd\n",
    "import matplotlib.pyplot as plt\n",
    "from sklearn.linear_model import LassoCV\n",
    "from sklearn.metrics import roc_auc_score\n",
    "from sklearn.preprocessing import StandardScaler\n",
    "from sklearn.model_selection import RepeatedKFold"
   ]
  },
  {
   "cell_type": "code",
   "execution_count": 14,
   "id": "5cbd6489-2480-4bd8-8f8d-c5218522ced4",
   "metadata": {},
   "outputs": [],
   "source": [
    "import pandas as pd\n",
    "import numpy as np\n",
    "from tqdm import tqdm\n",
    "from sklearn.metrics import roc_curve, auc,recall_score,precision_score\n",
    "from sklearn import metrics\n",
    "\n",
    "import sys, os\n",
    "import pandas as pd\n",
    "import seaborn as sns\n",
    "import numpy as np\n",
    "import matplotlib.pyplot as plt\n",
    "from sklearn.feature_extraction.text import CountVectorizer\n",
    "import math\n",
    "import pickle\n",
    "\n",
    "from sklearn.preprocessing import MinMaxScaler\n",
    "from sklearn.model_selection import train_test_split\n",
    "import optuna\n",
    "from optuna.samplers import TPESampler"
   ]
  },
  {
   "cell_type": "code",
   "execution_count": 3,
   "id": "ac31954b-b8df-47d0-bbb5-21cddc5410a6",
   "metadata": {},
   "outputs": [],
   "source": [
    "#https://github.com/dhaitz/mplcyberpunk\n",
    "import mplcyberpunk"
   ]
  },
  {
   "cell_type": "code",
   "execution_count": 4,
   "id": "3916aa95-f173-4bac-9431-22ebd2a38d5e",
   "metadata": {},
   "outputs": [],
   "source": [
    "sys.path.append(os.path.realpath('..'))"
   ]
  },
  {
   "cell_type": "code",
   "execution_count": 45,
   "id": "5f8908c1-3e40-4fa7-997f-718e79f4bb9d",
   "metadata": {},
   "outputs": [],
   "source": [
    "train_df = pd.read_csv(r\"..\\data\\train.csv\", index_col=0)\n",
    "test_df = pd.read_csv(r\"..\\data\\test.csv\", index_col=0)\n",
    "sample_sub = pd.read_csv(r\"..\\data\\sample_submission.csv\", index_col=0)"
   ]
  },
  {
   "cell_type": "code",
   "execution_count": 46,
   "id": "19028fab-c333-4548-8d7c-6929b7b2f8e2",
   "metadata": {},
   "outputs": [],
   "source": [
    "del train_df['Over18']\n",
    "del train_df['EmployeeCount']\n",
    "del train_df['StandardHours']"
   ]
  },
  {
   "cell_type": "code",
   "execution_count": 7,
   "id": "1d7812b1-5ea8-4ad7-b244-84335fc51896",
   "metadata": {},
   "outputs": [
    {
     "name": "stdout",
     "output_type": "stream",
     "text": [
      "BusinessTravel\n",
      "Department\n",
      "EducationField\n",
      "Gender\n",
      "JobRole\n",
      "MaritalStatus\n",
      "OverTime\n"
     ]
    }
   ],
   "source": [
    "columns_to_vectorize = ['BusinessTravel', 'Department', 'EducationField', 'Gender', 'JobRole', 'MaritalStatus', 'OverTime']\n",
    "for vector_target in columns_to_vectorize:\n",
    "    print(vector_target)\n",
    "    vectorizer = CountVectorizer()\n",
    "    vectorizer.fit_transform(train_df[vector_target])\n",
    "    train_df[f'{vector_target}_v'] = vectorizer.transform(train_df[vector_target]).toarray().argmax(axis=1)[:,None]\n",
    "    vectorizer.fit_transform(test_df[vector_target])\n",
    "    test_df[f'{vector_target}_v'] = vectorizer.transform(test_df[vector_target]).toarray().argmax(axis=1)[:,None]"
   ]
  },
  {
   "cell_type": "code",
   "execution_count": 8,
   "id": "5cdad10b-7349-4ddf-8871-6bacd3a1a250",
   "metadata": {},
   "outputs": [],
   "source": [
    "features = ['Age', 'DailyRate', 'DistanceFromHome', 'Education', 'EnvironmentSatisfaction','HourlyRate', 'JobInvolvement', 'JobLevel', 'JobSatisfaction', \n",
    "       'MonthlyIncome', 'MonthlyRate', 'NumCompaniesWorked', 'PercentSalaryHike', 'PerformanceRating', 'RelationshipSatisfaction', 'StockOptionLevel', 'TotalWorkingYears',\n",
    "       'TrainingTimesLastYear', 'WorkLifeBalance', 'YearsAtCompany', 'YearsInCurrentRole', 'YearsSinceLastPromotion', 'YearsWithCurrManager',\n",
    "        'BusinessTravel_v', 'Department_v', 'EducationField_v','Gender_v', 'JobRole_v', 'MaritalStatus_v', 'OverTime_v']\n",
    "target = ['Attrition']"
   ]
  },
  {
   "cell_type": "code",
   "execution_count": 11,
   "id": "750d321e-84a0-489f-8279-529e89e19305",
   "metadata": {},
   "outputs": [],
   "source": [
    "scaler = MinMaxScaler().fit(train_df[features])\n",
    "X = scaler.transform(train_df[features])\n",
    "X_test = scaler.transform(test_df[features])\n",
    "\n",
    "scaler = MinMaxScaler().fit(train_df[target])\n",
    "Y = scaler.transform(train_df[target])"
   ]
  },
  {
   "cell_type": "code",
   "execution_count": 17,
   "id": "eb5b6011-1011-46d9-8dc2-f7e212c11b72",
   "metadata": {},
   "outputs": [],
   "source": [
    "X_train, X_valid, y_train, y_valid = train_test_split(X, Y, stratify=Y, test_size=0.4)"
   ]
  },
  {
   "cell_type": "code",
   "execution_count": 24,
   "id": "c4f3f47d-3abd-407a-96a4-971c702b7a24",
   "metadata": {},
   "outputs": [
    {
     "data": {
      "text/plain": [
       "1006"
      ]
     },
     "execution_count": 24,
     "metadata": {},
     "output_type": "execute_result"
    }
   ],
   "source": [
    "len(X_train)"
   ]
  },
  {
   "cell_type": "code",
   "execution_count": 40,
   "id": "22aa6354-46b4-4e20-983a-be5c9bde636b",
   "metadata": {},
   "outputs": [],
   "source": [
    "def lassocv_objective(trial):\n",
    "    # Split the train data for each trial.\n",
    "    X_train, X_valid, y_train, y_valid = train_test_split(X, Y, stratify=Y, test_size=0.2)\n",
    "\n",
    "    lasso_cv = LassoCV(precompute=\"auto\",\n",
    "                       fit_intercept=True,\n",
    "                       max_iter=10000,\n",
    "                       verbose=False,\n",
    "                       eps=trial.suggest_float('eps', 0.00001, 0.001),\n",
    "                       cv=trial.suggest_int('cv', 2, 10),\n",
    "                       n_alphas=trial.suggest_int('n_alphas', 100, 5000),\n",
    "                       n_jobs=-1)\n",
    "    \n",
    "    lasso_cv.fit(X_train, y_train.ravel())\n",
    "\n",
    "    preds = lasso_cv.predict(X_train)\n",
    "\n",
    "    fpr, tpr, _ = roc_curve(y_train, preds)\n",
    "    roc_auc = auc(fpr, tpr)\n",
    "\n",
    "    lassocv_ranks[roc_auc] = lasso_cv\n",
    "\n",
    "    return roc_auc\n"
   ]
  },
  {
   "cell_type": "code",
   "execution_count": 41,
   "id": "b8c972cb-ae05-4b1b-b362-092d00cde792",
   "metadata": {
    "tags": []
   },
   "outputs": [
    {
     "name": "stderr",
     "output_type": "stream",
     "text": [
      "\u001b[32m[I 2023-01-17 19:03:55,379]\u001b[0m A new study created in memory with name: LASSOCVRegressor\u001b[0m\n",
      "\u001b[32m[I 2023-01-17 19:03:57,185]\u001b[0m Trial 0 finished with value: 0.8183220466516177 and parameters: {'eps': 0.0007195194732056083, 'cv': 5, 'n_alphas': 4004}. Best is trial 0 with value: 0.8183220466516177.\u001b[0m\n",
      "\u001b[32m[I 2023-01-17 19:03:57,638]\u001b[0m Trial 1 finished with value: 0.8367381489841986 and parameters: {'eps': 0.0009683267919011402, 'cv': 2, 'n_alphas': 2511}. Best is trial 1 with value: 0.8367381489841986.\u001b[0m\n",
      "\u001b[32m[I 2023-01-17 19:03:59,846]\u001b[0m Trial 2 finished with value: 0.8330511662904441 and parameters: {'eps': 0.0003189565829806228, 'cv': 5, 'n_alphas': 4841}. Best is trial 1 with value: 0.8367381489841986.\u001b[0m\n",
      "\u001b[32m[I 2023-01-17 19:04:00,244]\u001b[0m Trial 3 finished with value: 0.8368886380737396 and parameters: {'eps': 0.0005944860248105126, 'cv': 7, 'n_alphas': 638}. Best is trial 3 with value: 0.8368886380737396.\u001b[0m\n",
      "\u001b[32m[I 2023-01-17 19:04:00,406]\u001b[0m Trial 4 finished with value: 0.8308126410835215 and parameters: {'eps': 0.0008849749981721115, 'cv': 2, 'n_alphas': 800}. Best is trial 3 with value: 0.8368886380737396.\u001b[0m\n",
      "\u001b[32m[I 2023-01-17 19:04:01,323]\u001b[0m Trial 5 finished with value: 0.8209273890142965 and parameters: {'eps': 0.0009456029900932642, 'cv': 8, 'n_alphas': 1286}. Best is trial 3 with value: 0.8368886380737396.\u001b[0m\n",
      "\u001b[32m[I 2023-01-17 19:04:03,770]\u001b[0m Trial 6 finished with value: 0.845165537998495 and parameters: {'eps': 0.0005862438776815813, 'cv': 9, 'n_alphas': 3016}. Best is trial 6 with value: 0.845165537998495.\u001b[0m\n",
      "\u001b[32m[I 2023-01-17 19:04:03,935]\u001b[0m Trial 7 finished with value: 0.8318096313017307 and parameters: {'eps': 0.00042583864960607184, 'cv': 8, 'n_alphas': 206}. Best is trial 6 with value: 0.845165537998495.\u001b[0m\n",
      "\u001b[32m[I 2023-01-17 19:04:05,527]\u001b[0m Trial 8 finished with value: 0.8369920993227992 and parameters: {'eps': 0.0007837596029070462, 'cv': 5, 'n_alphas': 3554}. Best is trial 6 with value: 0.845165537998495.\u001b[0m\n",
      "\u001b[32m[I 2023-01-17 19:04:05,949]\u001b[0m Trial 9 finished with value: 0.825122272385252 and parameters: {'eps': 0.00032567699408217574, 'cv': 4, 'n_alphas': 1223}. Best is trial 6 with value: 0.845165537998495.\u001b[0m\n",
      "\u001b[32m[I 2023-01-17 19:04:08,043]\u001b[0m Trial 10 finished with value: 0.8308126410835215 and parameters: {'eps': 8.830691950722179e-05, 'cv': 10, 'n_alphas': 2394}. Best is trial 6 with value: 0.845165537998495.\u001b[0m\n",
      "\u001b[32m[I 2023-01-17 19:04:11,152]\u001b[0m Trial 11 finished with value: 0.8207204665161776 and parameters: {'eps': 0.0006903211537243614, 'cv': 10, 'n_alphas': 3577}. Best is trial 6 with value: 0.845165537998495.\u001b[0m\n",
      "\u001b[32m[I 2023-01-17 19:04:12,855]\u001b[0m Trial 12 finished with value: 0.8730530474040631 and parameters: {'eps': 0.0007800965671361491, 'cv': 6, 'n_alphas': 3308}. Best is trial 12 with value: 0.8730530474040631.\u001b[0m\n",
      "\u001b[32m[I 2023-01-17 19:04:14,780]\u001b[0m Trial 13 finished with value: 0.844262603461249 and parameters: {'eps': 0.0005977257069850941, 'cv': 7, 'n_alphas': 3040}. Best is trial 12 with value: 0.8730530474040631.\u001b[0m\n",
      "\u001b[32m[I 2023-01-17 19:04:16,555]\u001b[0m Trial 14 finished with value: 0.8201937547027841 and parameters: {'eps': 0.0004953383385074687, 'cv': 9, 'n_alphas': 2170}. Best is trial 12 with value: 0.8730530474040631.\u001b[0m\n",
      "\u001b[32m[I 2023-01-17 19:04:19,545]\u001b[0m Trial 15 finished with value: 0.8323739653875095 and parameters: {'eps': 0.000821498311387462, 'cv': 7, 'n_alphas': 4951}. Best is trial 12 with value: 0.8730530474040631.\u001b[0m\n",
      "\u001b[32m[I 2023-01-17 19:04:20,580]\u001b[0m Trial 16 finished with value: 0.8188487584650113 and parameters: {'eps': 2.805402975199938e-05, 'cv': 6, 'n_alphas': 1845}. Best is trial 12 with value: 0.8730530474040631.\u001b[0m\n",
      "\u001b[32m[I 2023-01-17 19:04:21,377]\u001b[0m Trial 17 finished with value: 0.8126504890895411 and parameters: {'eps': 0.0006113076853467323, 'cv': 3, 'n_alphas': 3074}. Best is trial 12 with value: 0.8730530474040631.\u001b[0m\n",
      "\u001b[32m[I 2023-01-17 19:04:24,687]\u001b[0m Trial 18 finished with value: 0.8396538750940555 and parameters: {'eps': 0.00020744159451342573, 'cv': 9, 'n_alphas': 4170}. Best is trial 12 with value: 0.8730530474040631.\u001b[0m\n",
      "\u001b[32m[I 2023-01-17 19:04:26,396]\u001b[0m Trial 19 finished with value: 0.8326373212942063 and parameters: {'eps': 0.00045598111043577527, 'cv': 6, 'n_alphas': 3138}. Best is trial 12 with value: 0.8730530474040631.\u001b[0m\n",
      "\u001b[32m[I 2023-01-17 19:04:29,440]\u001b[0m Trial 20 finished with value: 0.8017400300978179 and parameters: {'eps': 0.0007012849639395066, 'cv': 8, 'n_alphas': 4309}. Best is trial 12 with value: 0.8730530474040631.\u001b[0m\n",
      "\u001b[32m[I 2023-01-17 19:04:31,254]\u001b[0m Trial 21 finished with value: 0.8083051166290444 and parameters: {'eps': 0.0005909156364431937, 'cv': 7, 'n_alphas': 2868}. Best is trial 12 with value: 0.8730530474040631.\u001b[0m\n",
      "\u001b[32m[I 2023-01-17 19:04:34,093]\u001b[0m Trial 22 finished with value: 0.8442814145974417 and parameters: {'eps': 0.0005618100211332757, 'cv': 9, 'n_alphas': 3526}. Best is trial 12 with value: 0.8730530474040631.\u001b[0m\n",
      "\u001b[32m[I 2023-01-17 19:04:37,096]\u001b[0m Trial 23 finished with value: 0.8599416854778029 and parameters: {'eps': 0.0003639627957261989, 'cv': 9, 'n_alphas': 3596}. Best is trial 12 with value: 0.8730530474040631.\u001b[0m\n",
      "\u001b[32m[I 2023-01-17 19:04:38,715]\u001b[0m Trial 24 finished with value: 0.8388638073739655 and parameters: {'eps': 0.0003811917128779946, 'cv': 10, 'n_alphas': 1916}. Best is trial 12 with value: 0.8730530474040631.\u001b[0m\n",
      "\u001b[32m[I 2023-01-17 19:04:41,812]\u001b[0m Trial 25 finished with value: 0.8438111361926259 and parameters: {'eps': 0.00023188802092500145, 'cv': 9, 'n_alphas': 3856}. Best is trial 12 with value: 0.8730530474040631.\u001b[0m\n",
      "\u001b[32m[I 2023-01-17 19:04:45,000]\u001b[0m Trial 26 finished with value: 0.8399830699774267 and parameters: {'eps': 0.0007930228027399112, 'cv': 8, 'n_alphas': 4468}. Best is trial 12 with value: 0.8730530474040631.\u001b[0m\n",
      "\u001b[32m[I 2023-01-17 19:04:46,435]\u001b[0m Trial 27 finished with value: 0.8493792325056434 and parameters: {'eps': 0.0006582189123620517, 'cv': 6, 'n_alphas': 2695}. Best is trial 12 with value: 0.8730530474040631.\u001b[0m\n",
      "\u001b[32m[I 2023-01-17 19:04:47,688]\u001b[0m Trial 28 finished with value: 0.8308314522197141 and parameters: {'eps': 0.000891624074485114, 'cv': 4, 'n_alphas': 3381}. Best is trial 12 with value: 0.8730530474040631.\u001b[0m\n",
      "\u001b[32m[I 2023-01-17 19:04:49,785]\u001b[0m Trial 29 finished with value: 0.8545240782543266 and parameters: {'eps': 0.0007238706183085525, 'cv': 6, 'n_alphas': 3968}. Best is trial 12 with value: 0.8730530474040631.\u001b[0m\n",
      "\u001b[32m[I 2023-01-17 19:04:51,421]\u001b[0m Trial 30 finished with value: 0.8178611738148985 and parameters: {'eps': 0.0007532479923763713, 'cv': 4, 'n_alphas': 4545}. Best is trial 12 with value: 0.8730530474040631.\u001b[0m\n",
      "\u001b[32m[I 2023-01-17 19:04:53,643]\u001b[0m Trial 31 finished with value: 0.8162057938299473 and parameters: {'eps': 0.000671833506844376, 'cv': 6, 'n_alphas': 3837}. Best is trial 12 with value: 0.8730530474040631.\u001b[0m\n",
      "\u001b[32m[I 2023-01-17 19:04:54,843]\u001b[0m Trial 32 finished with value: 0.8382806621519939 and parameters: {'eps': 0.0008359097995622598, 'cv': 5, 'n_alphas': 2651}. Best is trial 12 with value: 0.8730530474040631.\u001b[0m\n",
      "\u001b[32m[I 2023-01-17 19:04:57,326]\u001b[0m Trial 33 finished with value: 0.8531038374717833 and parameters: {'eps': 0.0006538607353785946, 'cv': 6, 'n_alphas': 4026}. Best is trial 12 with value: 0.8730530474040631.\u001b[0m\n"
     ]
    }
   ],
   "source": [
    "lassocv_ranks = {}\n",
    "    \n",
    "train_time = 1 * 60 * 1\n",
    "study = optuna.create_study(direction='maximize', sampler=TPESampler(), study_name='LASSOCVRegressor')\n",
    "study.optimize(lassocv_objective, timeout=train_time)"
   ]
  },
  {
   "cell_type": "code",
   "execution_count": 42,
   "id": "f8fcd573-cb78-49c0-80d3-753bc0a777be",
   "metadata": {},
   "outputs": [],
   "source": [
    "lassocv_ranks_bytes = pickle.dumps(lassocv_ranks)\n",
    "with open(\"rendered_data/lassocv_clsfs_bytes.hex\", \"wb\") as binary_file:\n",
    "    binary_file.write(lassocv_ranks_bytes)"
   ]
  },
  {
   "cell_type": "code",
   "execution_count": 43,
   "id": "554bd3c9-9704-471d-a4b8-28f3a9c32b89",
   "metadata": {},
   "outputs": [
    {
     "name": "stderr",
     "output_type": "stream",
     "text": [
      "100%|████████████████████████████████████████████████████████████████████████████████| 10/10 [00:00<00:00, 2499.88it/s]\n"
     ]
    }
   ],
   "source": [
    "percent = math.ceil(len(lassocv_ranks.keys()) * .3)\n",
    "top = sorted(list(lassocv_ranks.keys()))[-percent:]\n",
    "\n",
    "train_preds = []\n",
    "test_preds = []\n",
    "for key in tqdm(top):\n",
    "    train_preds.append(lassocv_ranks[key].predict(X))\n",
    "    test_preds.append(lassocv_ranks[key].predict(X_test))\n",
    "\n",
    "train_final_preds = np.stack(train_preds).mean(0)\n",
    "test_final_preds = np.stack(test_preds).mean(0)"
   ]
  },
  {
   "cell_type": "code",
   "execution_count": 44,
   "id": "e88326a4-444d-48b0-bd95-14e50a01fe25",
   "metadata": {},
   "outputs": [],
   "source": [
    "LASSOCV_train_submission = pd.DataFrame(data={'id': train_df.index, target[0]: train_final_preds})\n",
    "LASSOCV_train_submission.to_csv(fr'rendered_data/LASSOCV_train_submission.csv', index=False)\n",
    "\n",
    "LASSOCV_test_submission = pd.DataFrame(data={'id': test_df.index, target[0]: test_final_preds})\n",
    "LASSOCV_test_submission.to_csv(fr'rendered_data/LASSOCV_test_submission.csv', index=False)"
   ]
  },
  {
   "cell_type": "code",
   "execution_count": null,
   "id": "bac134ad-87b5-4810-a67e-486d7ca170f4",
   "metadata": {},
   "outputs": [],
   "source": []
  }
 ],
 "metadata": {
  "kernelspec": {
   "display_name": "Python 3 (ipykernel)",
   "language": "python",
   "name": "python3"
  },
  "language_info": {
   "codemirror_mode": {
    "name": "ipython",
    "version": 3
   },
   "file_extension": ".py",
   "mimetype": "text/x-python",
   "name": "python",
   "nbconvert_exporter": "python",
   "pygments_lexer": "ipython3",
   "version": "3.10.9"
  }
 },
 "nbformat": 4,
 "nbformat_minor": 5
}
