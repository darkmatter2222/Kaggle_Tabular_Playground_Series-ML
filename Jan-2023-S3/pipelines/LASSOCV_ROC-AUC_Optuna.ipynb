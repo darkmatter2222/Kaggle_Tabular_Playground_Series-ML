{
 "cells": [
  {
   "cell_type": "code",
   "execution_count": 1,
   "id": "8ce2d92c-624a-46d9-ab24-34b4dc76ecde",
   "metadata": {},
   "outputs": [],
   "source": [
    "import numpy as np\n",
    "import pandas as pd\n",
    "import matplotlib.pyplot as plt\n",
    "from sklearn.linear_model import LassoCV\n",
    "from sklearn.metrics import roc_auc_score\n",
    "from sklearn.preprocessing import StandardScaler\n",
    "from sklearn.model_selection import RepeatedKFold"
   ]
  },
  {
   "cell_type": "code",
   "execution_count": 18,
   "id": "5cbd6489-2480-4bd8-8f8d-c5218522ced4",
   "metadata": {},
   "outputs": [],
   "source": [
    "import pandas as pd\n",
    "import numpy as np\n",
    "from tqdm import tqdm\n",
    "from sklearn.metrics import roc_curve, auc,recall_score,precision_score\n",
    "from sklearn import metrics\n",
    "\n",
    "import sys, os\n",
    "import pandas as pd\n",
    "import seaborn as sns\n",
    "import numpy as np\n",
    "import matplotlib.pyplot as plt\n",
    "from sklearn.feature_extraction.text import CountVectorizer\n",
    "import math\n",
    "import pickle\n",
    "\n",
    "from sklearn.preprocessing import MinMaxScaler\n",
    "from sklearn.model_selection import train_test_split\n",
    "import optuna\n",
    "from optuna.samplers import TPESampler\n",
    "from sklearn.model_selection import StratifiedKFold"
   ]
  },
  {
   "cell_type": "code",
   "execution_count": 3,
   "id": "ac31954b-b8df-47d0-bbb5-21cddc5410a6",
   "metadata": {},
   "outputs": [],
   "source": [
    "#https://github.com/dhaitz/mplcyberpunk\n",
    "import mplcyberpunk"
   ]
  },
  {
   "cell_type": "code",
   "execution_count": 4,
   "id": "ba846293-3785-424d-b44e-0bc054251c92",
   "metadata": {},
   "outputs": [],
   "source": [
    "train_time = 1 * 60 * 60\n",
    "objective = 'lassocvregressor'"
   ]
  },
  {
   "cell_type": "code",
   "execution_count": 5,
   "id": "3916aa95-f173-4bac-9431-22ebd2a38d5e",
   "metadata": {},
   "outputs": [],
   "source": [
    "sys.path.append(os.path.realpath('..'))"
   ]
  },
  {
   "cell_type": "code",
   "execution_count": 6,
   "id": "5f8908c1-3e40-4fa7-997f-718e79f4bb9d",
   "metadata": {},
   "outputs": [],
   "source": [
    "train_df = pd.read_csv(r\"..\\data\\train.csv\", index_col=0)\n",
    "test_df = pd.read_csv(r\"..\\data\\test.csv\", index_col=0)\n",
    "sample_sub = pd.read_csv(r\"..\\data\\sample_submission.csv\", index_col=0)"
   ]
  },
  {
   "cell_type": "code",
   "execution_count": 7,
   "id": "19028fab-c333-4548-8d7c-6929b7b2f8e2",
   "metadata": {},
   "outputs": [],
   "source": [
    "del train_df['Over18']\n",
    "del train_df['EmployeeCount']\n",
    "del train_df['StandardHours']"
   ]
  },
  {
   "cell_type": "code",
   "execution_count": 8,
   "id": "1d7812b1-5ea8-4ad7-b244-84335fc51896",
   "metadata": {},
   "outputs": [
    {
     "name": "stdout",
     "output_type": "stream",
     "text": [
      "BusinessTravel\n",
      "Department\n",
      "EducationField\n",
      "Gender\n",
      "JobRole\n",
      "MaritalStatus\n",
      "OverTime\n"
     ]
    }
   ],
   "source": [
    "columns_to_vectorize = ['BusinessTravel', 'Department', 'EducationField', 'Gender', 'JobRole', 'MaritalStatus', 'OverTime']\n",
    "for vector_target in columns_to_vectorize:\n",
    "    print(vector_target)\n",
    "    vectorizer = CountVectorizer()\n",
    "    vectorizer.fit_transform(train_df[vector_target])\n",
    "    train_df[f'{vector_target}_v'] = vectorizer.transform(train_df[vector_target]).toarray().argmax(axis=1)[:,None]\n",
    "    vectorizer.fit_transform(test_df[vector_target])\n",
    "    test_df[f'{vector_target}_v'] = vectorizer.transform(test_df[vector_target]).toarray().argmax(axis=1)[:,None]"
   ]
  },
  {
   "cell_type": "code",
   "execution_count": 9,
   "id": "5cdad10b-7349-4ddf-8871-6bacd3a1a250",
   "metadata": {},
   "outputs": [],
   "source": [
    "features = ['Age', 'DailyRate', 'DistanceFromHome', 'Education', 'EnvironmentSatisfaction','HourlyRate', 'JobInvolvement', 'JobLevel', 'JobSatisfaction', \n",
    "       'MonthlyIncome', 'MonthlyRate', 'NumCompaniesWorked', 'PercentSalaryHike', 'PerformanceRating', 'RelationshipSatisfaction', 'StockOptionLevel', 'TotalWorkingYears',\n",
    "       'TrainingTimesLastYear', 'WorkLifeBalance', 'YearsAtCompany', 'YearsInCurrentRole', 'YearsSinceLastPromotion', 'YearsWithCurrManager',\n",
    "        'BusinessTravel_v', 'Department_v', 'EducationField_v','Gender_v', 'JobRole_v', 'MaritalStatus_v', 'OverTime_v']\n",
    "target = ['Attrition']"
   ]
  },
  {
   "cell_type": "code",
   "execution_count": 10,
   "id": "750d321e-84a0-489f-8279-529e89e19305",
   "metadata": {},
   "outputs": [],
   "source": [
    "scaler = MinMaxScaler().fit(train_df[features])\n",
    "X = scaler.transform(train_df[features])\n",
    "X_test = scaler.transform(test_df[features])\n",
    "\n",
    "scaler = MinMaxScaler().fit(train_df[target])\n",
    "Y = scaler.transform(train_df[target])"
   ]
  },
  {
   "cell_type": "code",
   "execution_count": 11,
   "id": "eb5b6011-1011-46d9-8dc2-f7e212c11b72",
   "metadata": {},
   "outputs": [],
   "source": [
    "X_train, X_valid, y_train, y_valid = train_test_split(X, Y, stratify=Y, test_size=0.4)"
   ]
  },
  {
   "cell_type": "code",
   "execution_count": 12,
   "id": "c4f3f47d-3abd-407a-96a4-971c702b7a24",
   "metadata": {},
   "outputs": [
    {
     "data": {
      "text/plain": [
       "1006"
      ]
     },
     "execution_count": 12,
     "metadata": {},
     "output_type": "execute_result"
    }
   ],
   "source": [
    "len(X_train)"
   ]
  },
  {
   "cell_type": "code",
   "execution_count": 22,
   "id": "22aa6354-46b4-4e20-983a-be5c9bde636b",
   "metadata": {},
   "outputs": [],
   "source": [
    "RANDOM_STATE = 12 \n",
    "FOLDS = 5\n",
    "param_grid_history = {}\n",
    "\n",
    "def render_model(param_grid):\n",
    "    reg = LassoCV(precompute=\"auto\",\n",
    "                       fit_intercept=True,\n",
    "                       max_iter=10000,\n",
    "                       verbose=False,\n",
    "                       **param_grid,\n",
    "                       n_jobs=-1)\n",
    "    return reg\n",
    "    \n",
    "def train_model(reg, X_train, y_train, X_valid, y_valid):\n",
    "    reg.fit(X_train, y_train)\n",
    "\n",
    "    preds = reg.predict(train_df[features])\n",
    "    fpr, tpr, _ = roc_curve(train_df[target], preds)\n",
    "    roc_auc = auc(fpr, tpr)\n",
    "    return reg, roc_auc\n",
    "\n",
    "def objective_v2(trial):\n",
    "    scores = []\n",
    "    param_grid = {\n",
    "       'eps':trial.suggest_float('eps', 0.00001, 0.001),\n",
    "       'cv':trial.suggest_int('cv', 2, 10),\n",
    "       'n_alphas':trial.suggest_int('n_alphas', 100, 5000),\n",
    "    } \n",
    "        \n",
    "    skf = StratifiedKFold(n_splits=FOLDS, shuffle=True, random_state=RANDOM_STATE)\n",
    "    for fold, (train_idx, valid_idx) in enumerate(skf.split(X, Y)):\n",
    "        print(10*\"=\", f\"Fold={fold+1}\", 10*\"=\")\n",
    "        X_train, X_valid = train_df.iloc[train_idx][features], train_df.iloc[valid_idx][features]\n",
    "        y_train , y_valid = train_df[target].iloc[train_idx] , train_df[target].iloc[valid_idx] \n",
    "        \n",
    "        reg = render_model(param_grid)\n",
    "        reg, roc_auc = train_model(reg, X_train, y_train, X_valid, y_valid)\n",
    "\n",
    "        scores.append(roc_auc)\n",
    "    mean_scores = np.mean(scores)\n",
    "    param_grid_history[mean_scores] = param_grid\n",
    "\n",
    "    return mean_scores"
   ]
  },
  {
   "cell_type": "code",
   "execution_count": 23,
   "id": "b8c972cb-ae05-4b1b-b362-092d00cde792",
   "metadata": {
    "collapsed": true,
    "jupyter": {
     "outputs_hidden": true
    },
    "tags": []
   },
   "outputs": [
    {
     "name": "stderr",
     "output_type": "stream",
     "text": [
      "\u001b[32m[I 2023-01-17 20:50:54,839]\u001b[0m A new study created in memory with name: lassocvregressor\u001b[0m\n",
      "D:\\source\\repos\\venv\\Python310\\lib\\site-packages\\sklearn\\linear_model\\_coordinate_descent.py:1561: DataConversionWarning: A column-vector y was passed when a 1d array was expected. Please change the shape of y to (n_samples, ), for example using ravel().\n",
      "  y = column_or_1d(y, warn=True)\n"
     ]
    },
    {
     "name": "stdout",
     "output_type": "stream",
     "text": [
      "========== Fold=1 ==========\n",
      "========== Fold=2 ==========\n"
     ]
    },
    {
     "name": "stderr",
     "output_type": "stream",
     "text": [
      "D:\\source\\repos\\venv\\Python310\\lib\\site-packages\\sklearn\\linear_model\\_coordinate_descent.py:1561: DataConversionWarning: A column-vector y was passed when a 1d array was expected. Please change the shape of y to (n_samples, ), for example using ravel().\n",
      "  y = column_or_1d(y, warn=True)\n"
     ]
    },
    {
     "name": "stdout",
     "output_type": "stream",
     "text": [
      "========== Fold=3 ==========\n"
     ]
    },
    {
     "name": "stderr",
     "output_type": "stream",
     "text": [
      "D:\\source\\repos\\venv\\Python310\\lib\\site-packages\\sklearn\\linear_model\\_coordinate_descent.py:1561: DataConversionWarning: A column-vector y was passed when a 1d array was expected. Please change the shape of y to (n_samples, ), for example using ravel().\n",
      "  y = column_or_1d(y, warn=True)\n"
     ]
    },
    {
     "name": "stdout",
     "output_type": "stream",
     "text": [
      "========== Fold=4 ==========\n"
     ]
    },
    {
     "name": "stderr",
     "output_type": "stream",
     "text": [
      "D:\\source\\repos\\venv\\Python310\\lib\\site-packages\\sklearn\\linear_model\\_coordinate_descent.py:1561: DataConversionWarning: A column-vector y was passed when a 1d array was expected. Please change the shape of y to (n_samples, ), for example using ravel().\n",
      "  y = column_or_1d(y, warn=True)\n"
     ]
    },
    {
     "name": "stdout",
     "output_type": "stream",
     "text": [
      "========== Fold=5 ==========\n"
     ]
    },
    {
     "name": "stderr",
     "output_type": "stream",
     "text": [
      "D:\\source\\repos\\venv\\Python310\\lib\\site-packages\\sklearn\\linear_model\\_coordinate_descent.py:1561: DataConversionWarning: A column-vector y was passed when a 1d array was expected. Please change the shape of y to (n_samples, ), for example using ravel().\n",
      "  y = column_or_1d(y, warn=True)\n",
      "\u001b[32m[I 2023-01-17 20:51:04,388]\u001b[0m Trial 0 finished with value: 0.6669702098849017 and parameters: {'eps': 0.0005995563435626109, 'cv': 6, 'n_alphas': 3439}. Best is trial 0 with value: 0.6669702098849017.\u001b[0m\n",
      "D:\\source\\repos\\venv\\Python310\\lib\\site-packages\\sklearn\\linear_model\\_coordinate_descent.py:1561: DataConversionWarning: A column-vector y was passed when a 1d array was expected. Please change the shape of y to (n_samples, ), for example using ravel().\n",
      "  y = column_or_1d(y, warn=True)\n"
     ]
    },
    {
     "name": "stdout",
     "output_type": "stream",
     "text": [
      "========== Fold=1 ==========\n",
      "========== Fold=2 ==========\n"
     ]
    },
    {
     "name": "stderr",
     "output_type": "stream",
     "text": [
      "D:\\source\\repos\\venv\\Python310\\lib\\site-packages\\sklearn\\linear_model\\_coordinate_descent.py:1561: DataConversionWarning: A column-vector y was passed when a 1d array was expected. Please change the shape of y to (n_samples, ), for example using ravel().\n",
      "  y = column_or_1d(y, warn=True)\n"
     ]
    },
    {
     "name": "stdout",
     "output_type": "stream",
     "text": [
      "========== Fold=3 ==========\n"
     ]
    },
    {
     "name": "stderr",
     "output_type": "stream",
     "text": [
      "D:\\source\\repos\\venv\\Python310\\lib\\site-packages\\sklearn\\linear_model\\_coordinate_descent.py:1561: DataConversionWarning: A column-vector y was passed when a 1d array was expected. Please change the shape of y to (n_samples, ), for example using ravel().\n",
      "  y = column_or_1d(y, warn=True)\n"
     ]
    },
    {
     "name": "stdout",
     "output_type": "stream",
     "text": [
      "========== Fold=4 ==========\n"
     ]
    },
    {
     "name": "stderr",
     "output_type": "stream",
     "text": [
      "D:\\source\\repos\\venv\\Python310\\lib\\site-packages\\sklearn\\linear_model\\_coordinate_descent.py:1561: DataConversionWarning: A column-vector y was passed when a 1d array was expected. Please change the shape of y to (n_samples, ), for example using ravel().\n",
      "  y = column_or_1d(y, warn=True)\n"
     ]
    },
    {
     "name": "stdout",
     "output_type": "stream",
     "text": [
      "========== Fold=5 ==========\n"
     ]
    },
    {
     "name": "stderr",
     "output_type": "stream",
     "text": [
      "D:\\source\\repos\\venv\\Python310\\lib\\site-packages\\sklearn\\linear_model\\_coordinate_descent.py:1561: DataConversionWarning: A column-vector y was passed when a 1d array was expected. Please change the shape of y to (n_samples, ), for example using ravel().\n",
      "  y = column_or_1d(y, warn=True)\n",
      "\u001b[32m[I 2023-01-17 20:51:06,193]\u001b[0m Trial 1 finished with value: 0.6670947867298578 and parameters: {'eps': 0.00090805912589223, 'cv': 2, 'n_alphas': 2346}. Best is trial 1 with value: 0.6670947867298578.\u001b[0m\n",
      "D:\\source\\repos\\venv\\Python310\\lib\\site-packages\\sklearn\\linear_model\\_coordinate_descent.py:1561: DataConversionWarning: A column-vector y was passed when a 1d array was expected. Please change the shape of y to (n_samples, ), for example using ravel().\n",
      "  y = column_or_1d(y, warn=True)\n",
      "D:\\source\\repos\\venv\\Python310\\lib\\site-packages\\sklearn\\linear_model\\_coordinate_descent.py:1561: DataConversionWarning: A column-vector y was passed when a 1d array was expected. Please change the shape of y to (n_samples, ), for example using ravel().\n",
      "  y = column_or_1d(y, warn=True)\n"
     ]
    },
    {
     "name": "stdout",
     "output_type": "stream",
     "text": [
      "========== Fold=1 ==========\n",
      "========== Fold=2 ==========\n",
      "========== Fold=3 ==========\n",
      "========== Fold=4 ==========\n"
     ]
    },
    {
     "name": "stderr",
     "output_type": "stream",
     "text": [
      "D:\\source\\repos\\venv\\Python310\\lib\\site-packages\\sklearn\\linear_model\\_coordinate_descent.py:1561: DataConversionWarning: A column-vector y was passed when a 1d array was expected. Please change the shape of y to (n_samples, ), for example using ravel().\n",
      "  y = column_or_1d(y, warn=True)\n",
      "D:\\source\\repos\\venv\\Python310\\lib\\site-packages\\sklearn\\linear_model\\_coordinate_descent.py:1561: DataConversionWarning: A column-vector y was passed when a 1d array was expected. Please change the shape of y to (n_samples, ), for example using ravel().\n",
      "  y = column_or_1d(y, warn=True)\n",
      "D:\\source\\repos\\venv\\Python310\\lib\\site-packages\\sklearn\\linear_model\\_coordinate_descent.py:1561: DataConversionWarning: A column-vector y was passed when a 1d array was expected. Please change the shape of y to (n_samples, ), for example using ravel().\n",
      "  y = column_or_1d(y, warn=True)\n",
      "\u001b[32m[I 2023-01-17 20:51:06,894]\u001b[0m Trial 2 finished with value: 0.6669187542315504 and parameters: {'eps': 0.0006067658042965354, 'cv': 2, 'n_alphas': 864}. Best is trial 1 with value: 0.6670947867298578.\u001b[0m\n"
     ]
    },
    {
     "name": "stdout",
     "output_type": "stream",
     "text": [
      "========== Fold=5 ==========\n",
      "========== Fold=1 ==========\n"
     ]
    },
    {
     "name": "stderr",
     "output_type": "stream",
     "text": [
      "D:\\source\\repos\\venv\\Python310\\lib\\site-packages\\sklearn\\linear_model\\_coordinate_descent.py:1561: DataConversionWarning: A column-vector y was passed when a 1d array was expected. Please change the shape of y to (n_samples, ), for example using ravel().\n",
      "  y = column_or_1d(y, warn=True)\n"
     ]
    },
    {
     "name": "stdout",
     "output_type": "stream",
     "text": [
      "========== Fold=2 ==========\n"
     ]
    },
    {
     "name": "stderr",
     "output_type": "stream",
     "text": [
      "D:\\source\\repos\\venv\\Python310\\lib\\site-packages\\sklearn\\linear_model\\_coordinate_descent.py:1561: DataConversionWarning: A column-vector y was passed when a 1d array was expected. Please change the shape of y to (n_samples, ), for example using ravel().\n",
      "  y = column_or_1d(y, warn=True)\n"
     ]
    },
    {
     "name": "stdout",
     "output_type": "stream",
     "text": [
      "========== Fold=3 ==========\n"
     ]
    },
    {
     "name": "stderr",
     "output_type": "stream",
     "text": [
      "D:\\source\\repos\\venv\\Python310\\lib\\site-packages\\sklearn\\linear_model\\_coordinate_descent.py:1561: DataConversionWarning: A column-vector y was passed when a 1d array was expected. Please change the shape of y to (n_samples, ), for example using ravel().\n",
      "  y = column_or_1d(y, warn=True)\n"
     ]
    },
    {
     "name": "stdout",
     "output_type": "stream",
     "text": [
      "========== Fold=4 ==========\n"
     ]
    },
    {
     "name": "stderr",
     "output_type": "stream",
     "text": [
      "D:\\source\\repos\\venv\\Python310\\lib\\site-packages\\sklearn\\linear_model\\_coordinate_descent.py:1561: DataConversionWarning: A column-vector y was passed when a 1d array was expected. Please change the shape of y to (n_samples, ), for example using ravel().\n",
      "  y = column_or_1d(y, warn=True)\n"
     ]
    },
    {
     "name": "stdout",
     "output_type": "stream",
     "text": [
      "========== Fold=5 ==========\n"
     ]
    },
    {
     "name": "stderr",
     "output_type": "stream",
     "text": [
      "D:\\source\\repos\\venv\\Python310\\lib\\site-packages\\sklearn\\linear_model\\_coordinate_descent.py:1561: DataConversionWarning: A column-vector y was passed when a 1d array was expected. Please change the shape of y to (n_samples, ), for example using ravel().\n",
      "  y = column_or_1d(y, warn=True)\n",
      "\u001b[32m[I 2023-01-17 20:51:13,382]\u001b[0m Trial 3 finished with value: 0.8176858496953283 and parameters: {'eps': 7.536307693205613e-05, 'cv': 5, 'n_alphas': 2791}. Best is trial 3 with value: 0.8176858496953283.\u001b[0m\n",
      "D:\\source\\repos\\venv\\Python310\\lib\\site-packages\\sklearn\\linear_model\\_coordinate_descent.py:1561: DataConversionWarning: A column-vector y was passed when a 1d array was expected. Please change the shape of y to (n_samples, ), for example using ravel().\n",
      "  y = column_or_1d(y, warn=True)\n"
     ]
    },
    {
     "name": "stdout",
     "output_type": "stream",
     "text": [
      "========== Fold=1 ==========\n",
      "========== Fold=2 ==========\n"
     ]
    },
    {
     "name": "stderr",
     "output_type": "stream",
     "text": [
      "D:\\source\\repos\\venv\\Python310\\lib\\site-packages\\sklearn\\linear_model\\_coordinate_descent.py:1561: DataConversionWarning: A column-vector y was passed when a 1d array was expected. Please change the shape of y to (n_samples, ), for example using ravel().\n",
      "  y = column_or_1d(y, warn=True)\n"
     ]
    },
    {
     "name": "stdout",
     "output_type": "stream",
     "text": [
      "========== Fold=3 ==========\n"
     ]
    },
    {
     "name": "stderr",
     "output_type": "stream",
     "text": [
      "D:\\source\\repos\\venv\\Python310\\lib\\site-packages\\sklearn\\linear_model\\_coordinate_descent.py:1561: DataConversionWarning: A column-vector y was passed when a 1d array was expected. Please change the shape of y to (n_samples, ), for example using ravel().\n",
      "  y = column_or_1d(y, warn=True)\n"
     ]
    },
    {
     "name": "stdout",
     "output_type": "stream",
     "text": [
      "========== Fold=4 ==========\n"
     ]
    },
    {
     "name": "stderr",
     "output_type": "stream",
     "text": [
      "D:\\source\\repos\\venv\\Python310\\lib\\site-packages\\sklearn\\linear_model\\_coordinate_descent.py:1561: DataConversionWarning: A column-vector y was passed when a 1d array was expected. Please change the shape of y to (n_samples, ), for example using ravel().\n",
      "  y = column_or_1d(y, warn=True)\n"
     ]
    },
    {
     "name": "stdout",
     "output_type": "stream",
     "text": [
      "========== Fold=5 ==========\n"
     ]
    },
    {
     "name": "stderr",
     "output_type": "stream",
     "text": [
      "D:\\source\\repos\\venv\\Python310\\lib\\site-packages\\sklearn\\linear_model\\_coordinate_descent.py:1561: DataConversionWarning: A column-vector y was passed when a 1d array was expected. Please change the shape of y to (n_samples, ), for example using ravel().\n",
      "  y = column_or_1d(y, warn=True)\n",
      "\u001b[32m[I 2023-01-17 20:51:16,821]\u001b[0m Trial 4 finished with value: 0.666988490182803 and parameters: {'eps': 0.0009555633652216608, 'cv': 10, 'n_alphas': 732}. Best is trial 3 with value: 0.8176858496953283.\u001b[0m\n",
      "D:\\source\\repos\\venv\\Python310\\lib\\site-packages\\sklearn\\linear_model\\_coordinate_descent.py:1561: DataConversionWarning: A column-vector y was passed when a 1d array was expected. Please change the shape of y to (n_samples, ), for example using ravel().\n",
      "  y = column_or_1d(y, warn=True)\n"
     ]
    },
    {
     "name": "stdout",
     "output_type": "stream",
     "text": [
      "========== Fold=1 ==========\n",
      "========== Fold=2 ==========\n"
     ]
    },
    {
     "name": "stderr",
     "output_type": "stream",
     "text": [
      "D:\\source\\repos\\venv\\Python310\\lib\\site-packages\\sklearn\\linear_model\\_coordinate_descent.py:1561: DataConversionWarning: A column-vector y was passed when a 1d array was expected. Please change the shape of y to (n_samples, ), for example using ravel().\n",
      "  y = column_or_1d(y, warn=True)\n"
     ]
    },
    {
     "name": "stdout",
     "output_type": "stream",
     "text": [
      "========== Fold=3 ==========\n"
     ]
    },
    {
     "name": "stderr",
     "output_type": "stream",
     "text": [
      "D:\\source\\repos\\venv\\Python310\\lib\\site-packages\\sklearn\\linear_model\\_coordinate_descent.py:1561: DataConversionWarning: A column-vector y was passed when a 1d array was expected. Please change the shape of y to (n_samples, ), for example using ravel().\n",
      "  y = column_or_1d(y, warn=True)\n"
     ]
    },
    {
     "name": "stdout",
     "output_type": "stream",
     "text": [
      "========== Fold=4 ==========\n"
     ]
    },
    {
     "name": "stderr",
     "output_type": "stream",
     "text": [
      "D:\\source\\repos\\venv\\Python310\\lib\\site-packages\\sklearn\\linear_model\\_coordinate_descent.py:1561: DataConversionWarning: A column-vector y was passed when a 1d array was expected. Please change the shape of y to (n_samples, ), for example using ravel().\n",
      "  y = column_or_1d(y, warn=True)\n"
     ]
    },
    {
     "name": "stdout",
     "output_type": "stream",
     "text": [
      "========== Fold=5 ==========\n"
     ]
    },
    {
     "name": "stderr",
     "output_type": "stream",
     "text": [
      "D:\\source\\repos\\venv\\Python310\\lib\\site-packages\\sklearn\\linear_model\\_coordinate_descent.py:1561: DataConversionWarning: A column-vector y was passed when a 1d array was expected. Please change the shape of y to (n_samples, ), for example using ravel().\n",
      "  y = column_or_1d(y, warn=True)\n",
      "\u001b[32m[I 2023-01-17 20:51:27,029]\u001b[0m Trial 5 finished with value: 0.6771563981042654 and parameters: {'eps': 0.0003670990435774293, 'cv': 6, 'n_alphas': 3766}. Best is trial 3 with value: 0.8176858496953283.\u001b[0m\n",
      "D:\\source\\repos\\venv\\Python310\\lib\\site-packages\\sklearn\\linear_model\\_coordinate_descent.py:1561: DataConversionWarning: A column-vector y was passed when a 1d array was expected. Please change the shape of y to (n_samples, ), for example using ravel().\n",
      "  y = column_or_1d(y, warn=True)\n"
     ]
    },
    {
     "name": "stdout",
     "output_type": "stream",
     "text": [
      "========== Fold=1 ==========\n",
      "========== Fold=2 ==========\n"
     ]
    },
    {
     "name": "stderr",
     "output_type": "stream",
     "text": [
      "D:\\source\\repos\\venv\\Python310\\lib\\site-packages\\sklearn\\linear_model\\_coordinate_descent.py:1561: DataConversionWarning: A column-vector y was passed when a 1d array was expected. Please change the shape of y to (n_samples, ), for example using ravel().\n",
      "  y = column_or_1d(y, warn=True)\n"
     ]
    },
    {
     "name": "stdout",
     "output_type": "stream",
     "text": [
      "========== Fold=3 ==========\n"
     ]
    },
    {
     "name": "stderr",
     "output_type": "stream",
     "text": [
      "D:\\source\\repos\\venv\\Python310\\lib\\site-packages\\sklearn\\linear_model\\_coordinate_descent.py:1561: DataConversionWarning: A column-vector y was passed when a 1d array was expected. Please change the shape of y to (n_samples, ), for example using ravel().\n",
      "  y = column_or_1d(y, warn=True)\n"
     ]
    },
    {
     "name": "stdout",
     "output_type": "stream",
     "text": [
      "========== Fold=4 ==========\n"
     ]
    },
    {
     "name": "stderr",
     "output_type": "stream",
     "text": [
      "D:\\source\\repos\\venv\\Python310\\lib\\site-packages\\sklearn\\linear_model\\_coordinate_descent.py:1561: DataConversionWarning: A column-vector y was passed when a 1d array was expected. Please change the shape of y to (n_samples, ), for example using ravel().\n",
      "  y = column_or_1d(y, warn=True)\n"
     ]
    },
    {
     "name": "stdout",
     "output_type": "stream",
     "text": [
      "========== Fold=5 ==========\n"
     ]
    },
    {
     "name": "stderr",
     "output_type": "stream",
     "text": [
      "D:\\source\\repos\\venv\\Python310\\lib\\site-packages\\sklearn\\linear_model\\_coordinate_descent.py:1561: DataConversionWarning: A column-vector y was passed when a 1d array was expected. Please change the shape of y to (n_samples, ), for example using ravel().\n",
      "  y = column_or_1d(y, warn=True)\n",
      "\u001b[32m[I 2023-01-17 20:51:38,378]\u001b[0m Trial 6 finished with value: 0.6670115098171969 and parameters: {'eps': 0.000965017196411501, 'cv': 5, 'n_alphas': 4896}. Best is trial 3 with value: 0.8176858496953283.\u001b[0m\n",
      "D:\\source\\repos\\venv\\Python310\\lib\\site-packages\\sklearn\\linear_model\\_coordinate_descent.py:1561: DataConversionWarning: A column-vector y was passed when a 1d array was expected. Please change the shape of y to (n_samples, ), for example using ravel().\n",
      "  y = column_or_1d(y, warn=True)\n"
     ]
    },
    {
     "name": "stdout",
     "output_type": "stream",
     "text": [
      "========== Fold=1 ==========\n",
      "========== Fold=2 ==========\n"
     ]
    },
    {
     "name": "stderr",
     "output_type": "stream",
     "text": [
      "D:\\source\\repos\\venv\\Python310\\lib\\site-packages\\sklearn\\linear_model\\_coordinate_descent.py:1561: DataConversionWarning: A column-vector y was passed when a 1d array was expected. Please change the shape of y to (n_samples, ), for example using ravel().\n",
      "  y = column_or_1d(y, warn=True)\n"
     ]
    },
    {
     "name": "stdout",
     "output_type": "stream",
     "text": [
      "========== Fold=3 ==========\n"
     ]
    },
    {
     "name": "stderr",
     "output_type": "stream",
     "text": [
      "D:\\source\\repos\\venv\\Python310\\lib\\site-packages\\sklearn\\linear_model\\_coordinate_descent.py:1561: DataConversionWarning: A column-vector y was passed when a 1d array was expected. Please change the shape of y to (n_samples, ), for example using ravel().\n",
      "  y = column_or_1d(y, warn=True)\n"
     ]
    },
    {
     "name": "stdout",
     "output_type": "stream",
     "text": [
      "========== Fold=4 ==========\n"
     ]
    },
    {
     "name": "stderr",
     "output_type": "stream",
     "text": [
      "D:\\source\\repos\\venv\\Python310\\lib\\site-packages\\sklearn\\linear_model\\_coordinate_descent.py:1561: DataConversionWarning: A column-vector y was passed when a 1d array was expected. Please change the shape of y to (n_samples, ), for example using ravel().\n",
      "  y = column_or_1d(y, warn=True)\n"
     ]
    },
    {
     "name": "stdout",
     "output_type": "stream",
     "text": [
      "========== Fold=5 ==========\n"
     ]
    },
    {
     "name": "stderr",
     "output_type": "stream",
     "text": [
      "D:\\source\\repos\\venv\\Python310\\lib\\site-packages\\sklearn\\linear_model\\_coordinate_descent.py:1561: DataConversionWarning: A column-vector y was passed when a 1d array was expected. Please change the shape of y to (n_samples, ), for example using ravel().\n",
      "  y = column_or_1d(y, warn=True)\n",
      "\u001b[32m[I 2023-01-17 20:51:49,366]\u001b[0m Trial 7 finished with value: 0.6670656736628301 and parameters: {'eps': 0.0008640655912888448, 'cv': 7, 'n_alphas': 3431}. Best is trial 3 with value: 0.8176858496953283.\u001b[0m\n",
      "D:\\source\\repos\\venv\\Python310\\lib\\site-packages\\sklearn\\linear_model\\_coordinate_descent.py:1561: DataConversionWarning: A column-vector y was passed when a 1d array was expected. Please change the shape of y to (n_samples, ), for example using ravel().\n",
      "  y = column_or_1d(y, warn=True)\n"
     ]
    },
    {
     "name": "stdout",
     "output_type": "stream",
     "text": [
      "========== Fold=1 ==========\n",
      "========== Fold=2 ==========\n"
     ]
    },
    {
     "name": "stderr",
     "output_type": "stream",
     "text": [
      "D:\\source\\repos\\venv\\Python310\\lib\\site-packages\\sklearn\\linear_model\\_coordinate_descent.py:1561: DataConversionWarning: A column-vector y was passed when a 1d array was expected. Please change the shape of y to (n_samples, ), for example using ravel().\n",
      "  y = column_or_1d(y, warn=True)\n"
     ]
    },
    {
     "name": "stdout",
     "output_type": "stream",
     "text": [
      "========== Fold=3 ==========\n"
     ]
    },
    {
     "name": "stderr",
     "output_type": "stream",
     "text": [
      "D:\\source\\repos\\venv\\Python310\\lib\\site-packages\\sklearn\\linear_model\\_coordinate_descent.py:1561: DataConversionWarning: A column-vector y was passed when a 1d array was expected. Please change the shape of y to (n_samples, ), for example using ravel().\n",
      "  y = column_or_1d(y, warn=True)\n"
     ]
    },
    {
     "name": "stdout",
     "output_type": "stream",
     "text": [
      "========== Fold=4 ==========\n"
     ]
    },
    {
     "name": "stderr",
     "output_type": "stream",
     "text": [
      "D:\\source\\repos\\venv\\Python310\\lib\\site-packages\\sklearn\\linear_model\\_coordinate_descent.py:1561: DataConversionWarning: A column-vector y was passed when a 1d array was expected. Please change the shape of y to (n_samples, ), for example using ravel().\n",
      "  y = column_or_1d(y, warn=True)\n"
     ]
    },
    {
     "name": "stdout",
     "output_type": "stream",
     "text": [
      "========== Fold=5 ==========\n"
     ]
    },
    {
     "name": "stderr",
     "output_type": "stream",
     "text": [
      "D:\\source\\repos\\venv\\Python310\\lib\\site-packages\\sklearn\\linear_model\\_coordinate_descent.py:1561: DataConversionWarning: A column-vector y was passed when a 1d array was expected. Please change the shape of y to (n_samples, ), for example using ravel().\n",
      "  y = column_or_1d(y, warn=True)\n",
      "\u001b[32m[I 2023-01-17 20:51:53,263]\u001b[0m Trial 8 finished with value: 0.6667109004739337 and parameters: {'eps': 0.0007867497313174684, 'cv': 2, 'n_alphas': 5000}. Best is trial 3 with value: 0.8176858496953283.\u001b[0m\n",
      "D:\\source\\repos\\venv\\Python310\\lib\\site-packages\\sklearn\\linear_model\\_coordinate_descent.py:1561: DataConversionWarning: A column-vector y was passed when a 1d array was expected. Please change the shape of y to (n_samples, ), for example using ravel().\n",
      "  y = column_or_1d(y, warn=True)\n"
     ]
    },
    {
     "name": "stdout",
     "output_type": "stream",
     "text": [
      "========== Fold=1 ==========\n",
      "========== Fold=2 ==========\n"
     ]
    },
    {
     "name": "stderr",
     "output_type": "stream",
     "text": [
      "D:\\source\\repos\\venv\\Python310\\lib\\site-packages\\sklearn\\linear_model\\_coordinate_descent.py:1561: DataConversionWarning: A column-vector y was passed when a 1d array was expected. Please change the shape of y to (n_samples, ), for example using ravel().\n",
      "  y = column_or_1d(y, warn=True)\n"
     ]
    },
    {
     "name": "stdout",
     "output_type": "stream",
     "text": [
      "========== Fold=3 ==========\n"
     ]
    },
    {
     "name": "stderr",
     "output_type": "stream",
     "text": [
      "D:\\source\\repos\\venv\\Python310\\lib\\site-packages\\sklearn\\linear_model\\_coordinate_descent.py:1561: DataConversionWarning: A column-vector y was passed when a 1d array was expected. Please change the shape of y to (n_samples, ), for example using ravel().\n",
      "  y = column_or_1d(y, warn=True)\n"
     ]
    },
    {
     "name": "stdout",
     "output_type": "stream",
     "text": [
      "========== Fold=4 ==========\n"
     ]
    },
    {
     "name": "stderr",
     "output_type": "stream",
     "text": [
      "D:\\source\\repos\\venv\\Python310\\lib\\site-packages\\sklearn\\linear_model\\_coordinate_descent.py:1561: DataConversionWarning: A column-vector y was passed when a 1d array was expected. Please change the shape of y to (n_samples, ), for example using ravel().\n",
      "  y = column_or_1d(y, warn=True)\n"
     ]
    },
    {
     "name": "stdout",
     "output_type": "stream",
     "text": [
      "========== Fold=5 ==========\n"
     ]
    },
    {
     "name": "stderr",
     "output_type": "stream",
     "text": [
      "D:\\source\\repos\\venv\\Python310\\lib\\site-packages\\sklearn\\linear_model\\_coordinate_descent.py:1561: DataConversionWarning: A column-vector y was passed when a 1d array was expected. Please change the shape of y to (n_samples, ), for example using ravel().\n",
      "  y = column_or_1d(y, warn=True)\n",
      "\u001b[32m[I 2023-01-17 20:51:56,239]\u001b[0m Trial 9 finished with value: 0.6683595125253893 and parameters: {'eps': 0.0005298864990107412, 'cv': 5, 'n_alphas': 1265}. Best is trial 3 with value: 0.8176858496953283.\u001b[0m\n"
     ]
    }
   ],
   "source": [
    "study = optuna.create_study(direction='maximize', sampler=TPESampler(), study_name=objective)\n",
    "study.optimize(objective_v2, timeout=train_time)"
   ]
  },
  {
   "cell_type": "code",
   "execution_count": 24,
   "id": "f8fcd573-cb78-49c0-80d3-753bc0a777be",
   "metadata": {},
   "outputs": [],
   "source": [
    "parm_grid_bytes = pickle.dumps(param_grid_history)\n",
    "with open(f\"rendered_data/{objective}_bytes.hex\", \"wb\") as binary_file:\n",
    "    binary_file.write(parm_grid_bytes)"
   ]
  },
  {
   "cell_type": "code",
   "execution_count": 25,
   "id": "554bd3c9-9704-471d-a4b8-28f3a9c32b89",
   "metadata": {},
   "outputs": [
    {
     "name": "stderr",
     "output_type": "stream",
     "text": [
      "  0%|                                                                                            | 0/3 [00:00<?, ?it/s]D:\\source\\repos\\venv\\Python310\\lib\\site-packages\\sklearn\\linear_model\\_coordinate_descent.py:1561: DataConversionWarning: A column-vector y was passed when a 1d array was expected. Please change the shape of y to (n_samples, ), for example using ravel().\n",
      "  y = column_or_1d(y, warn=True)\n"
     ]
    },
    {
     "name": "stdout",
     "output_type": "stream",
     "text": [
      "========== FINAL TRAINING Fold=1 ==========\n",
      "========== FINAL TRAINING Fold=2 ==========\n"
     ]
    },
    {
     "name": "stderr",
     "output_type": "stream",
     "text": [
      "D:\\source\\repos\\venv\\Python310\\lib\\site-packages\\sklearn\\linear_model\\_coordinate_descent.py:1561: DataConversionWarning: A column-vector y was passed when a 1d array was expected. Please change the shape of y to (n_samples, ), for example using ravel().\n",
      "  y = column_or_1d(y, warn=True)\n"
     ]
    },
    {
     "name": "stdout",
     "output_type": "stream",
     "text": [
      "========== FINAL TRAINING Fold=3 ==========\n"
     ]
    },
    {
     "name": "stderr",
     "output_type": "stream",
     "text": [
      "D:\\source\\repos\\venv\\Python310\\lib\\site-packages\\sklearn\\linear_model\\_coordinate_descent.py:1561: DataConversionWarning: A column-vector y was passed when a 1d array was expected. Please change the shape of y to (n_samples, ), for example using ravel().\n",
      "  y = column_or_1d(y, warn=True)\n"
     ]
    },
    {
     "name": "stdout",
     "output_type": "stream",
     "text": [
      "========== FINAL TRAINING Fold=4 ==========\n"
     ]
    },
    {
     "name": "stderr",
     "output_type": "stream",
     "text": [
      "D:\\source\\repos\\venv\\Python310\\lib\\site-packages\\sklearn\\linear_model\\_coordinate_descent.py:1561: DataConversionWarning: A column-vector y was passed when a 1d array was expected. Please change the shape of y to (n_samples, ), for example using ravel().\n",
      "  y = column_or_1d(y, warn=True)\n"
     ]
    },
    {
     "name": "stdout",
     "output_type": "stream",
     "text": [
      "========== FINAL TRAINING Fold=5 ==========\n"
     ]
    },
    {
     "name": "stderr",
     "output_type": "stream",
     "text": [
      "D:\\source\\repos\\venv\\Python310\\lib\\site-packages\\sklearn\\linear_model\\_coordinate_descent.py:1561: DataConversionWarning: A column-vector y was passed when a 1d array was expected. Please change the shape of y to (n_samples, ), for example using ravel().\n",
      "  y = column_or_1d(y, warn=True)\n",
      " 33%|████████████████████████████                                                        | 1/3 [00:03<00:06,  3.15s/it]D:\\source\\repos\\venv\\Python310\\lib\\site-packages\\sklearn\\linear_model\\_coordinate_descent.py:1561: DataConversionWarning: A column-vector y was passed when a 1d array was expected. Please change the shape of y to (n_samples, ), for example using ravel().\n",
      "  y = column_or_1d(y, warn=True)\n"
     ]
    },
    {
     "name": "stdout",
     "output_type": "stream",
     "text": [
      "========== FINAL TRAINING Fold=1 ==========\n",
      "========== FINAL TRAINING Fold=2 ==========\n"
     ]
    },
    {
     "name": "stderr",
     "output_type": "stream",
     "text": [
      "D:\\source\\repos\\venv\\Python310\\lib\\site-packages\\sklearn\\linear_model\\_coordinate_descent.py:1561: DataConversionWarning: A column-vector y was passed when a 1d array was expected. Please change the shape of y to (n_samples, ), for example using ravel().\n",
      "  y = column_or_1d(y, warn=True)\n"
     ]
    },
    {
     "name": "stdout",
     "output_type": "stream",
     "text": [
      "========== FINAL TRAINING Fold=3 ==========\n"
     ]
    },
    {
     "name": "stderr",
     "output_type": "stream",
     "text": [
      "D:\\source\\repos\\venv\\Python310\\lib\\site-packages\\sklearn\\linear_model\\_coordinate_descent.py:1561: DataConversionWarning: A column-vector y was passed when a 1d array was expected. Please change the shape of y to (n_samples, ), for example using ravel().\n",
      "  y = column_or_1d(y, warn=True)\n"
     ]
    },
    {
     "name": "stdout",
     "output_type": "stream",
     "text": [
      "========== FINAL TRAINING Fold=4 ==========\n"
     ]
    },
    {
     "name": "stderr",
     "output_type": "stream",
     "text": [
      "D:\\source\\repos\\venv\\Python310\\lib\\site-packages\\sklearn\\linear_model\\_coordinate_descent.py:1561: DataConversionWarning: A column-vector y was passed when a 1d array was expected. Please change the shape of y to (n_samples, ), for example using ravel().\n",
      "  y = column_or_1d(y, warn=True)\n"
     ]
    },
    {
     "name": "stdout",
     "output_type": "stream",
     "text": [
      "========== FINAL TRAINING Fold=5 ==========\n"
     ]
    },
    {
     "name": "stderr",
     "output_type": "stream",
     "text": [
      "D:\\source\\repos\\venv\\Python310\\lib\\site-packages\\sklearn\\linear_model\\_coordinate_descent.py:1561: DataConversionWarning: A column-vector y was passed when a 1d array was expected. Please change the shape of y to (n_samples, ), for example using ravel().\n",
      "  y = column_or_1d(y, warn=True)\n",
      " 67%|████████████████████████████████████████████████████████                            | 2/3 [00:13<00:07,  7.36s/it]D:\\source\\repos\\venv\\Python310\\lib\\site-packages\\sklearn\\linear_model\\_coordinate_descent.py:1561: DataConversionWarning: A column-vector y was passed when a 1d array was expected. Please change the shape of y to (n_samples, ), for example using ravel().\n",
      "  y = column_or_1d(y, warn=True)\n"
     ]
    },
    {
     "name": "stdout",
     "output_type": "stream",
     "text": [
      "========== FINAL TRAINING Fold=1 ==========\n",
      "========== FINAL TRAINING Fold=2 ==========\n"
     ]
    },
    {
     "name": "stderr",
     "output_type": "stream",
     "text": [
      "D:\\source\\repos\\venv\\Python310\\lib\\site-packages\\sklearn\\linear_model\\_coordinate_descent.py:1561: DataConversionWarning: A column-vector y was passed when a 1d array was expected. Please change the shape of y to (n_samples, ), for example using ravel().\n",
      "  y = column_or_1d(y, warn=True)\n"
     ]
    },
    {
     "name": "stdout",
     "output_type": "stream",
     "text": [
      "========== FINAL TRAINING Fold=3 ==========\n"
     ]
    },
    {
     "name": "stderr",
     "output_type": "stream",
     "text": [
      "D:\\source\\repos\\venv\\Python310\\lib\\site-packages\\sklearn\\linear_model\\_coordinate_descent.py:1561: DataConversionWarning: A column-vector y was passed when a 1d array was expected. Please change the shape of y to (n_samples, ), for example using ravel().\n",
      "  y = column_or_1d(y, warn=True)\n"
     ]
    },
    {
     "name": "stdout",
     "output_type": "stream",
     "text": [
      "========== FINAL TRAINING Fold=4 ==========\n"
     ]
    },
    {
     "name": "stderr",
     "output_type": "stream",
     "text": [
      "D:\\source\\repos\\venv\\Python310\\lib\\site-packages\\sklearn\\linear_model\\_coordinate_descent.py:1561: DataConversionWarning: A column-vector y was passed when a 1d array was expected. Please change the shape of y to (n_samples, ), for example using ravel().\n",
      "  y = column_or_1d(y, warn=True)\n"
     ]
    },
    {
     "name": "stdout",
     "output_type": "stream",
     "text": [
      "========== FINAL TRAINING Fold=5 ==========\n"
     ]
    },
    {
     "name": "stderr",
     "output_type": "stream",
     "text": [
      "D:\\source\\repos\\venv\\Python310\\lib\\site-packages\\sklearn\\linear_model\\_coordinate_descent.py:1561: DataConversionWarning: A column-vector y was passed when a 1d array was expected. Please change the shape of y to (n_samples, ), for example using ravel().\n",
      "  y = column_or_1d(y, warn=True)\n",
      "100%|████████████████████████████████████████████████████████████████████████████████████| 3/3 [00:20<00:00,  6.68s/it]\n"
     ]
    }
   ],
   "source": [
    "def train(param_grid):\n",
    "    reg = render_model(param_grid)\n",
    "    skf = StratifiedKFold(n_splits=FOLDS, shuffle=True, random_state=RANDOM_STATE)\n",
    "    for fold, (train_idx, valid_idx) in enumerate(skf.split(train_df[features], train_df[target])):\n",
    "        print(10*\"=\", f\"FINAL TRAINING Fold={fold+1}\", 10*\"=\")\n",
    "        X_train, X_valid = train_df.iloc[train_idx][features], train_df.iloc[valid_idx][features]\n",
    "        y_train , y_valid = train_df[target].iloc[train_idx] , train_df[target].iloc[valid_idx] \n",
    "        reg, roc_auc = train_model(reg, X_train, y_train, X_valid, y_valid)\n",
    "    return reg\n",
    "\n",
    "percent = math.ceil(len(param_grid_history.keys()) * .1)\n",
    "top = sorted(list(param_grid_history.keys()))[-percent:]\n",
    "\n",
    "train_preds = []\n",
    "test_preds = []\n",
    "for key in tqdm(top):\n",
    "    model = train(param_grid_history[key])\n",
    "    train_preds.append(model.predict(X))\n",
    "    test_preds.append(model.predict(X_test))\n",
    "\n",
    "train_final_preds = np.stack(train_preds).mean(0)\n",
    "test_final_preds = np.stack(test_preds).mean(0)"
   ]
  },
  {
   "cell_type": "code",
   "execution_count": 26,
   "id": "e88326a4-444d-48b0-bd95-14e50a01fe25",
   "metadata": {},
   "outputs": [],
   "source": [
    "train_submission = pd.DataFrame(data={'id': train_df.index, target[0]: train_final_preds})\n",
    "train_submission.to_csv(fr'rendered_data/{objective}_train_submission.csv', index=False)\n",
    "\n",
    "test_submission = pd.DataFrame(data={'id': test_df.index, target[0]: test_final_preds})\n",
    "test_submission.to_csv(fr'rendered_data/{objective}_test_submission.csv', index=False)"
   ]
  },
  {
   "cell_type": "code",
   "execution_count": null,
   "id": "bac134ad-87b5-4810-a67e-486d7ca170f4",
   "metadata": {},
   "outputs": [],
   "source": []
  }
 ],
 "metadata": {
  "kernelspec": {
   "display_name": "Python 3 (ipykernel)",
   "language": "python",
   "name": "python3"
  },
  "language_info": {
   "codemirror_mode": {
    "name": "ipython",
    "version": 3
   },
   "file_extension": ".py",
   "mimetype": "text/x-python",
   "name": "python",
   "nbconvert_exporter": "python",
   "pygments_lexer": "ipython3",
   "version": "3.10.9"
  }
 },
 "nbformat": 4,
 "nbformat_minor": 5
}
