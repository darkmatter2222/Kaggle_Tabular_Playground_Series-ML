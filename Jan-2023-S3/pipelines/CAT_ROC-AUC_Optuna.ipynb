{
 "cells": [
  {
   "cell_type": "code",
   "execution_count": 1,
   "id": "0ea2173c-c725-48a2-9f4b-0760d06f5369",
   "metadata": {},
   "outputs": [],
   "source": [
    "import numpy as np\n",
    "import pandas as pd\n",
    "import math\n",
    "import sys, os\n",
    "#import seaborn as sns\n",
    "#from scipy import stats\n",
    "#from pathlib import Path\n",
    "#import matplotlib.pyplot as plt\n",
    "#from sklearn.model_selection import KFold\n",
    "from sklearn.preprocessing import MinMaxScaler\n",
    "from sklearn.model_selection import train_test_split\n",
    "#from sklearn.metrics import mean_squared_error\n",
    "#from sklearn.metrics import mean_squared_error\n",
    "#from sklearn.preprocessing import MinMaxScaler\n",
    "#from sklearn.datasets import fetch_california_housing\n",
    "#import math\n",
    "from tqdm import tqdm\n",
    "from sklearn.feature_extraction.text import CountVectorizer\n",
    "import optuna\n",
    "from optuna.samplers import TPESampler\n",
    "#import lightgbm as lbgm\n",
    "#from xgboost import XGBRegressor\n",
    "#import xgboost as xgb\n",
    "from catboost import CatBoostRegressor\n",
    "#from lightgbm.sklearn import lbgmRegressor\n",
    "#from sklearn.ensemble import RandomForestRegressor\n",
    "import pickle\n",
    "from sklearn.metrics import roc_curve, auc"
   ]
  },
  {
   "cell_type": "code",
   "execution_count": 2,
   "id": "f4b3963c-3958-4512-945d-66cd855e2958",
   "metadata": {},
   "outputs": [],
   "source": [
    "sys.path.append(os.path.realpath('..'))"
   ]
  },
  {
   "cell_type": "code",
   "execution_count": 3,
   "id": "fb0c1a5f-5d8d-4051-b6cc-d50eb8f48296",
   "metadata": {},
   "outputs": [],
   "source": [
    "train_df = pd.read_csv(r\"..\\data\\train.csv\", index_col=0)\n",
    "test_df = pd.read_csv(r\"..\\data\\test.csv\", index_col=0)\n",
    "sample_sub = pd.read_csv(r\"..\\data\\sample_submission.csv\", index_col=0)"
   ]
  },
  {
   "cell_type": "code",
   "execution_count": 4,
   "id": "19146116-cccc-4b54-b014-5d86fbb25802",
   "metadata": {},
   "outputs": [],
   "source": [
    "del train_df['Over18']"
   ]
  },
  {
   "cell_type": "code",
   "execution_count": 5,
   "id": "4f91fca1-73d2-46a2-be27-255acb201292",
   "metadata": {},
   "outputs": [
    {
     "name": "stdout",
     "output_type": "stream",
     "text": [
      "BusinessTravel\n",
      "Department\n",
      "EducationField\n",
      "Gender\n",
      "JobRole\n",
      "MaritalStatus\n",
      "OverTime\n"
     ]
    }
   ],
   "source": [
    "columns_to_vectorize = ['BusinessTravel', 'Department', 'EducationField', 'Gender', 'JobRole', 'MaritalStatus', 'OverTime']\n",
    "for vector_target in columns_to_vectorize:\n",
    "    print(vector_target)\n",
    "    vectorizer = CountVectorizer()\n",
    "    vectorizer.fit_transform(train_df[vector_target])\n",
    "    train_df[f'{vector_target}_v'] = vectorizer.transform(train_df[vector_target]).toarray().argmax(axis=1)[:,None]\n",
    "    vectorizer.fit_transform(test_df[vector_target])\n",
    "    test_df[f'{vector_target}_v'] = vectorizer.transform(test_df[vector_target]).toarray().argmax(axis=1)[:,None]"
   ]
  },
  {
   "cell_type": "code",
   "execution_count": 6,
   "id": "bf47c0d1-7407-41ee-8f49-b483c295621a",
   "metadata": {},
   "outputs": [],
   "source": [
    "features = ['Age', 'DailyRate', 'DistanceFromHome', 'Education', 'EmployeeCount', 'EnvironmentSatisfaction','HourlyRate', 'JobInvolvement', 'JobLevel', 'JobSatisfaction', \n",
    "       'MonthlyIncome', 'MonthlyRate', 'NumCompaniesWorked', 'PercentSalaryHike', 'PerformanceRating', 'RelationshipSatisfaction', 'StandardHours', 'StockOptionLevel', 'TotalWorkingYears',\n",
    "       'TrainingTimesLastYear', 'WorkLifeBalance', 'YearsAtCompany', 'YearsInCurrentRole', 'YearsSinceLastPromotion', 'YearsWithCurrManager',\n",
    "        'BusinessTravel_v', 'Department_v', 'EducationField_v','Gender_v', 'JobRole_v', 'MaritalStatus_v', 'OverTime_v']\n",
    "target = ['Attrition']"
   ]
  },
  {
   "cell_type": "code",
   "execution_count": 7,
   "id": "0b6f3634-fc77-4995-a975-a905a599e16f",
   "metadata": {},
   "outputs": [],
   "source": [
    "scaler = MinMaxScaler().fit(train_df[features])\n",
    "X = scaler.transform(train_df[features])\n",
    "X_test = scaler.transform(test_df[features])\n",
    "\n",
    "scaler = MinMaxScaler().fit(train_df[target])\n",
    "Y = scaler.transform(train_df[target])"
   ]
  },
  {
   "cell_type": "code",
   "execution_count": 8,
   "id": "1ca53f18-a11e-476f-a87a-93c34f0e6ce3",
   "metadata": {},
   "outputs": [],
   "source": [
    "def cat_objective(trial):\n",
    "    # Split the train data for each trial.\n",
    "    X_train, X_valid, y_train, y_valid = train_test_split(X, Y, stratify=Y, test_size=0.4)\n",
    "\n",
    "    param_grid = {\n",
    "        'depth': trial.suggest_int('depth', 1, 10),\n",
    "        'learning_rate': trial.suggest_float('learning_rate', 0.001, 0.1),\n",
    "        #'rsm': trial.suggest_float('rsm', 0.001, 0.9),\n",
    "        'subsample': trial.suggest_float('subsample', 0.1, 1),\n",
    "        'min_data_in_leaf': trial.suggest_int('min_data_in_leaf', 1, 100), \n",
    "        'l2_leaf_reg': trial.suggest_int('l2_leaf_reg', 1, 20),\n",
    "        'random_strength': trial.suggest_float('random_strength', 0.001, 0.9),\n",
    "    } \n",
    "\n",
    "    clf = CatBoostRegressor(iterations=20000,\n",
    "                            **param_grid,\n",
    "                            bootstrap_type='Bernoulli',\n",
    "                            grow_policy='SymmetricTree',\n",
    "                            #loss_function='Logloss',\n",
    "                            eval_metric='AUC',\n",
    "                            task_type=\"GPU\",\n",
    "                            random_state=1,)\n",
    "    \n",
    "    clf.fit(X_train, y_train, eval_set=(X_valid, y_valid), early_stopping_rounds=100, verbose=1000)\n",
    "    preds = clf.predict(X_valid)\n",
    "\n",
    "    fpr, tpr, _ = roc_curve(y_valid, preds)\n",
    "    roc_auc = auc(fpr, tpr)\n",
    "\n",
    "    cat_ranks[roc_auc] = clf\n",
    "\n",
    "    return roc_auc"
   ]
  },
  {
   "cell_type": "code",
   "execution_count": 9,
   "id": "4466b24c-6898-4186-818f-3d3013bee5d4",
   "metadata": {
    "collapsed": true,
    "jupyter": {
     "outputs_hidden": true
    },
    "tags": []
   },
   "outputs": [
    {
     "name": "stderr",
     "output_type": "stream",
     "text": [
      "\u001b[32m[I 2023-01-16 19:55:28,955]\u001b[0m A new study created in memory with name: CATRegressor\u001b[0m\n",
      "Default metric period is 5 because AUC is/are not implemented for GPU\n",
      "AUC is not implemented on GPU. Will use CPU for metric computation, this could significantly affect learning time\n"
     ]
    },
    {
     "name": "stdout",
     "output_type": "stream",
     "text": [
      "0:\ttest: 0.7200719\tbest: 0.7200719 (0)\ttotal: 7.9ms\tremaining: 2m 37s\n"
     ]
    },
    {
     "name": "stderr",
     "output_type": "stream",
     "text": [
      "\u001b[32m[I 2023-01-16 19:55:32,311]\u001b[0m Trial 0 finished with value: 0.8010786802030457 and parameters: {'depth': 3, 'learning_rate': 0.03235839822277574, 'subsample': 0.7055840484836065, 'min_data_in_leaf': 59, 'l2_leaf_reg': 20, 'random_strength': 0.40168149303779876}. Best is trial 0 with value: 0.8010786802030457.\u001b[0m\n"
     ]
    },
    {
     "name": "stdout",
     "output_type": "stream",
     "text": [
      "bestTest = 0.8010786802\n",
      "bestIteration = 203\n",
      "Shrink model to first 204 iterations.\n"
     ]
    },
    {
     "name": "stderr",
     "output_type": "stream",
     "text": [
      "Default metric period is 5 because AUC is/are not implemented for GPU\n",
      "AUC is not implemented on GPU. Will use CPU for metric computation, this could significantly affect learning time\n"
     ]
    },
    {
     "name": "stdout",
     "output_type": "stream",
     "text": [
      "0:\ttest: 0.7517978\tbest: 0.7517978 (0)\ttotal: 7.48ms\tremaining: 2m 29s\n"
     ]
    },
    {
     "name": "stderr",
     "output_type": "stream",
     "text": [
      "\u001b[32m[I 2023-01-16 19:55:34,778]\u001b[0m Trial 1 finished with value: 0.8367808798646362 and parameters: {'depth': 3, 'learning_rate': 0.061254584678249104, 'subsample': 0.9918867738660048, 'min_data_in_leaf': 30, 'l2_leaf_reg': 1, 'random_strength': 0.607886459440033}. Best is trial 1 with value: 0.8367808798646362.\u001b[0m\n"
     ]
    },
    {
     "name": "stdout",
     "output_type": "stream",
     "text": [
      "bestTest = 0.8367808799\n",
      "bestIteration = 145\n",
      "Shrink model to first 146 iterations.\n"
     ]
    },
    {
     "name": "stderr",
     "output_type": "stream",
     "text": [
      "Default metric period is 5 because AUC is/are not implemented for GPU\n",
      "AUC is not implemented on GPU. Will use CPU for metric computation, this could significantly affect learning time\n"
     ]
    },
    {
     "name": "stdout",
     "output_type": "stream",
     "text": [
      "0:\ttest: 0.7251586\tbest: 0.7251586 (0)\ttotal: 14.5ms\tremaining: 4m 50s\n"
     ]
    },
    {
     "name": "stderr",
     "output_type": "stream",
     "text": [
      "\u001b[32m[I 2023-01-16 19:55:39,189]\u001b[0m Trial 2 finished with value: 0.809412013536379 and parameters: {'depth': 8, 'learning_rate': 0.011374875876060599, 'subsample': 0.958421606473671, 'min_data_in_leaf': 58, 'l2_leaf_reg': 9, 'random_strength': 0.5378372414947263}. Best is trial 1 with value: 0.8367808798646362.\u001b[0m\n"
     ]
    },
    {
     "name": "stdout",
     "output_type": "stream",
     "text": [
      "bestTest = 0.8094120135\n",
      "bestIteration = 170\n",
      "Shrink model to first 171 iterations.\n"
     ]
    },
    {
     "name": "stderr",
     "output_type": "stream",
     "text": [
      "Default metric period is 5 because AUC is/are not implemented for GPU\n",
      "AUC is not implemented on GPU. Will use CPU for metric computation, this could significantly affect learning time\n"
     ]
    },
    {
     "name": "stdout",
     "output_type": "stream",
     "text": [
      "0:\ttest: 0.7373096\tbest: 0.7373096 (0)\ttotal: 6.59ms\tremaining: 2m 11s\n"
     ]
    },
    {
     "name": "stderr",
     "output_type": "stream",
     "text": [
      "\u001b[32m[I 2023-01-16 19:55:41,396]\u001b[0m Trial 3 finished with value: 0.8146996615905245 and parameters: {'depth': 2, 'learning_rate': 0.05232997020823369, 'subsample': 0.2967332884650191, 'min_data_in_leaf': 64, 'l2_leaf_reg': 16, 'random_strength': 0.5335573147648378}. Best is trial 1 with value: 0.8367808798646362.\u001b[0m\n"
     ]
    },
    {
     "name": "stdout",
     "output_type": "stream",
     "text": [
      "bestTest = 0.8146996616\n",
      "bestIteration = 129\n",
      "Shrink model to first 130 iterations.\n"
     ]
    },
    {
     "name": "stderr",
     "output_type": "stream",
     "text": [
      "Default metric period is 5 because AUC is/are not implemented for GPU\n",
      "AUC is not implemented on GPU. Will use CPU for metric computation, this could significantly affect learning time\n"
     ]
    },
    {
     "name": "stdout",
     "output_type": "stream",
     "text": [
      "0:\ttest: 0.7218909\tbest: 0.7218909 (0)\ttotal: 7.49ms\tremaining: 2m 29s\n"
     ]
    },
    {
     "name": "stderr",
     "output_type": "stream",
     "text": [
      "\u001b[32m[I 2023-01-16 19:55:43,099]\u001b[0m Trial 4 finished with value: 0.7611252115059222 and parameters: {'depth': 2, 'learning_rate': 0.007713571365150407, 'subsample': 0.9929371385713871, 'min_data_in_leaf': 56, 'l2_leaf_reg': 19, 'random_strength': 0.7992875724509025}. Best is trial 1 with value: 0.8367808798646362.\u001b[0m\n"
     ]
    },
    {
     "name": "stdout",
     "output_type": "stream",
     "text": [
      "bestTest = 0.7611252115\n",
      "bestIteration = 42\n",
      "Shrink model to first 43 iterations.\n"
     ]
    },
    {
     "name": "stderr",
     "output_type": "stream",
     "text": [
      "Default metric period is 5 because AUC is/are not implemented for GPU\n",
      "AUC is not implemented on GPU. Will use CPU for metric computation, this could significantly affect learning time\n"
     ]
    },
    {
     "name": "stdout",
     "output_type": "stream",
     "text": [
      "0:\ttest: 0.7530986\tbest: 0.7530986 (0)\ttotal: 8.04ms\tremaining: 2m 40s\n"
     ]
    },
    {
     "name": "stderr",
     "output_type": "stream",
     "text": [
      "\u001b[32m[I 2023-01-16 19:55:46,179]\u001b[0m Trial 5 finished with value: 0.8643824027072758 and parameters: {'depth': 3, 'learning_rate': 0.0773994973950519, 'subsample': 0.9242890628962448, 'min_data_in_leaf': 43, 'l2_leaf_reg': 18, 'random_strength': 0.46734983380162953}. Best is trial 5 with value: 0.8643824027072758.\u001b[0m\n"
     ]
    },
    {
     "name": "stdout",
     "output_type": "stream",
     "text": [
      "bestTest = 0.8643824027\n",
      "bestIteration = 232\n",
      "Shrink model to first 233 iterations.\n"
     ]
    },
    {
     "name": "stderr",
     "output_type": "stream",
     "text": [
      "Default metric period is 5 because AUC is/are not implemented for GPU\n",
      "AUC is not implemented on GPU. Will use CPU for metric computation, this could significantly affect learning time\n"
     ]
    },
    {
     "name": "stdout",
     "output_type": "stream",
     "text": [
      "0:\ttest: 0.6915503\tbest: 0.6915503 (0)\ttotal: 7ms\tremaining: 2m 20s\n"
     ]
    },
    {
     "name": "stderr",
     "output_type": "stream",
     "text": [
      "\u001b[32m[I 2023-01-16 19:55:48,345]\u001b[0m Trial 6 finished with value: 0.8020833333333333 and parameters: {'depth': 1, 'learning_rate': 0.02300464959736624, 'subsample': 0.9281954183733263, 'min_data_in_leaf': 15, 'l2_leaf_reg': 20, 'random_strength': 0.05453899678525808}. Best is trial 5 with value: 0.8643824027072758.\u001b[0m\n"
     ]
    },
    {
     "name": "stdout",
     "output_type": "stream",
     "text": [
      "bestTest = 0.8020833333\n",
      "bestIteration = 141\n",
      "Shrink model to first 142 iterations.\n"
     ]
    },
    {
     "name": "stderr",
     "output_type": "stream",
     "text": [
      "Default metric period is 5 because AUC is/are not implemented for GPU\n",
      "AUC is not implemented on GPU. Will use CPU for metric computation, this could significantly affect learning time\n"
     ]
    },
    {
     "name": "stdout",
     "output_type": "stream",
     "text": [
      "0:\ttest: 0.7877644\tbest: 0.7877644 (0)\ttotal: 8.59ms\tremaining: 2m 51s\n"
     ]
    },
    {
     "name": "stderr",
     "output_type": "stream",
     "text": [
      "\u001b[32m[I 2023-01-16 19:55:50,097]\u001b[0m Trial 7 finished with value: 0.8451247884940778 and parameters: {'depth': 5, 'learning_rate': 0.04531808949789939, 'subsample': 0.9025400251597434, 'min_data_in_leaf': 91, 'l2_leaf_reg': 6, 'random_strength': 0.1959112620155188}. Best is trial 5 with value: 0.8643824027072758.\u001b[0m\n"
     ]
    },
    {
     "name": "stdout",
     "output_type": "stream",
     "text": [
      "bestTest = 0.8451247885\n",
      "bestIteration = 22\n",
      "Shrink model to first 23 iterations.\n"
     ]
    },
    {
     "name": "stderr",
     "output_type": "stream",
     "text": [
      "Default metric period is 5 because AUC is/are not implemented for GPU\n",
      "AUC is not implemented on GPU. Will use CPU for metric computation, this could significantly affect learning time\n"
     ]
    },
    {
     "name": "stdout",
     "output_type": "stream",
     "text": [
      "0:\ttest: 0.7450825\tbest: 0.7450825 (0)\ttotal: 8.1ms\tremaining: 2m 42s\n"
     ]
    },
    {
     "name": "stderr",
     "output_type": "stream",
     "text": [
      "\u001b[32m[I 2023-01-16 19:55:53,906]\u001b[0m Trial 8 finished with value: 0.8179568527918781 and parameters: {'depth': 4, 'learning_rate': 0.019524242200209645, 'subsample': 0.2354004799403733, 'min_data_in_leaf': 97, 'l2_leaf_reg': 3, 'random_strength': 0.1689879500543375}. Best is trial 5 with value: 0.8643824027072758.\u001b[0m\n"
     ]
    },
    {
     "name": "stdout",
     "output_type": "stream",
     "text": [
      "bestTest = 0.8179568528\n",
      "bestIteration = 300\n",
      "Shrink model to first 301 iterations.\n"
     ]
    },
    {
     "name": "stderr",
     "output_type": "stream",
     "text": [
      "Default metric period is 5 because AUC is/are not implemented for GPU\n",
      "AUC is not implemented on GPU. Will use CPU for metric computation, this could significantly affect learning time\n"
     ]
    },
    {
     "name": "stdout",
     "output_type": "stream",
     "text": [
      "0:\ttest: 0.6794628\tbest: 0.6794628 (0)\ttotal: 21.4ms\tremaining: 7m 7s\n"
     ]
    },
    {
     "name": "stderr",
     "output_type": "stream",
     "text": [
      "\u001b[32m[I 2023-01-16 19:56:00,725]\u001b[0m Trial 9 finished with value: 0.8225465313028765 and parameters: {'depth': 9, 'learning_rate': 0.02120130250158121, 'subsample': 0.6014011665884584, 'min_data_in_leaf': 18, 'l2_leaf_reg': 4, 'random_strength': 0.271123832841578}. Best is trial 5 with value: 0.8643824027072758.\u001b[0m\n"
     ]
    },
    {
     "name": "stdout",
     "output_type": "stream",
     "text": [
      "bestTest = 0.8225465313\n",
      "bestIteration = 197\n",
      "Shrink model to first 198 iterations.\n"
     ]
    },
    {
     "name": "stderr",
     "output_type": "stream",
     "text": [
      "Default metric period is 5 because AUC is/are not implemented for GPU\n",
      "AUC is not implemented on GPU. Will use CPU for metric computation, this could significantly affect learning time\n"
     ]
    },
    {
     "name": "stdout",
     "output_type": "stream",
     "text": [
      "0:\ttest: 0.7238579\tbest: 0.7238579 (0)\ttotal: 11.1ms\tremaining: 3m 41s\n"
     ]
    },
    {
     "name": "stderr",
     "output_type": "stream",
     "text": [
      "\u001b[32m[I 2023-01-16 19:56:03,402]\u001b[0m Trial 10 finished with value: 0.8053087986463622 and parameters: {'depth': 7, 'learning_rate': 0.09204625324761893, 'subsample': 0.4166585042304563, 'min_data_in_leaf': 39, 'l2_leaf_reg': 14, 'random_strength': 0.7970352183653828}. Best is trial 5 with value: 0.8643824027072758.\u001b[0m\n"
     ]
    },
    {
     "name": "stdout",
     "output_type": "stream",
     "text": [
      "bestTest = 0.8053087986\n",
      "bestIteration = 69\n",
      "Shrink model to first 70 iterations.\n"
     ]
    },
    {
     "name": "stderr",
     "output_type": "stream",
     "text": [
      "Default metric period is 5 because AUC is/are not implemented for GPU\n",
      "AUC is not implemented on GPU. Will use CPU for metric computation, this could significantly affect learning time\n"
     ]
    },
    {
     "name": "stdout",
     "output_type": "stream",
     "text": [
      "0:\ttest: 0.7605647\tbest: 0.7605647 (0)\ttotal: 8.67ms\tremaining: 2m 53s\n"
     ]
    },
    {
     "name": "stderr",
     "output_type": "stream",
     "text": [
      "\u001b[32m[I 2023-01-16 19:56:06,396]\u001b[0m Trial 11 finished with value: 0.8184221658206431 and parameters: {'depth': 5, 'learning_rate': 0.0765646538205744, 'subsample': 0.7478352878713866, 'min_data_in_leaf': 84, 'l2_leaf_reg': 8, 'random_strength': 0.33786961678704863}. Best is trial 5 with value: 0.8643824027072758.\u001b[0m\n"
     ]
    },
    {
     "name": "stdout",
     "output_type": "stream",
     "text": [
      "bestTest = 0.8184221658\n",
      "bestIteration = 167\n",
      "Shrink model to first 168 iterations.\n"
     ]
    },
    {
     "name": "stderr",
     "output_type": "stream",
     "text": [
      "Default metric period is 5 because AUC is/are not implemented for GPU\n",
      "AUC is not implemented on GPU. Will use CPU for metric computation, this could significantly affect learning time\n"
     ]
    },
    {
     "name": "stdout",
     "output_type": "stream",
     "text": [
      "0:\ttest: 0.7791878\tbest: 0.7791878 (0)\ttotal: 9.22ms\tremaining: 3m 4s\n"
     ]
    },
    {
     "name": "stderr",
     "output_type": "stream",
     "text": [
      "\u001b[32m[I 2023-01-16 19:56:08,748]\u001b[0m Trial 12 finished with value: 0.8249788494077834 and parameters: {'depth': 6, 'learning_rate': 0.07091915845215568, 'subsample': 0.7957557562011304, 'min_data_in_leaf': 77, 'l2_leaf_reg': 12, 'random_strength': 0.004225521386615333}. Best is trial 5 with value: 0.8643824027072758.\u001b[0m\n"
     ]
    },
    {
     "name": "stdout",
     "output_type": "stream",
     "text": [
      "bestTest = 0.8249788494\n",
      "bestIteration = 71\n",
      "Shrink model to first 72 iterations.\n"
     ]
    },
    {
     "name": "stderr",
     "output_type": "stream",
     "text": [
      "Default metric period is 5 because AUC is/are not implemented for GPU\n",
      "AUC is not implemented on GPU. Will use CPU for metric computation, this could significantly affect learning time\n"
     ]
    },
    {
     "name": "stdout",
     "output_type": "stream",
     "text": [
      "0:\ttest: 0.7406197\tbest: 0.7406197 (0)\ttotal: 8.75ms\tremaining: 2m 55s\n"
     ]
    },
    {
     "name": "stderr",
     "output_type": "stream",
     "text": [
      "\u001b[32m[I 2023-01-16 19:56:10,409]\u001b[0m Trial 13 finished with value: 0.7946383248730964 and parameters: {'depth': 5, 'learning_rate': 0.09231495591722412, 'subsample': 0.8249097209434602, 'min_data_in_leaf': 39, 'l2_leaf_reg': 6, 'random_strength': 0.20599411063790843}. Best is trial 5 with value: 0.8643824027072758.\u001b[0m\n"
     ]
    },
    {
     "name": "stdout",
     "output_type": "stream",
     "text": [
      "bestTest = 0.7946383249\n",
      "bestIteration = 15\n",
      "Shrink model to first 16 iterations.\n"
     ]
    },
    {
     "name": "stderr",
     "output_type": "stream",
     "text": [
      "Default metric period is 5 because AUC is/are not implemented for GPU\n",
      "AUC is not implemented on GPU. Will use CPU for metric computation, this could significantly affect learning time\n"
     ]
    },
    {
     "name": "stdout",
     "output_type": "stream",
     "text": [
      "0:\ttest: 0.7632297\tbest: 0.7632297 (0)\ttotal: 9.98ms\tremaining: 3m 19s\n"
     ]
    },
    {
     "name": "stderr",
     "output_type": "stream",
     "text": [
      "\u001b[32m[I 2023-01-16 19:56:17,055]\u001b[0m Trial 14 finished with value: 0.8518612521150591 and parameters: {'depth': 6, 'learning_rate': 0.03865589882858985, 'subsample': 0.56192557421887, 'min_data_in_leaf': 3, 'l2_leaf_reg': 11, 'random_strength': 0.6851736188583395}. Best is trial 5 with value: 0.8643824027072758.\u001b[0m\n"
     ]
    },
    {
     "name": "stdout",
     "output_type": "stream",
     "text": [
      "bestTest = 0.8518612521\n",
      "bestIteration = 542\n",
      "Shrink model to first 543 iterations.\n"
     ]
    },
    {
     "name": "stderr",
     "output_type": "stream",
     "text": [
      "Default metric period is 5 because AUC is/are not implemented for GPU\n",
      "AUC is not implemented on GPU. Will use CPU for metric computation, this could significantly affect learning time\n"
     ]
    },
    {
     "name": "stdout",
     "output_type": "stream",
     "text": [
      "0:\ttest: 0.7046108\tbest: 0.7046108 (0)\ttotal: 32.3ms\tremaining: 10m 46s\n"
     ]
    },
    {
     "name": "stderr",
     "output_type": "stream",
     "text": [
      "\u001b[32m[I 2023-01-16 19:56:25,257]\u001b[0m Trial 15 finished with value: 0.7775380710659898 and parameters: {'depth': 10, 'learning_rate': 0.04000275221866703, 'subsample': 0.117181531463948, 'min_data_in_leaf': 1, 'l2_leaf_reg': 16, 'random_strength': 0.6709931020289834}. Best is trial 5 with value: 0.8643824027072758.\u001b[0m\n"
     ]
    },
    {
     "name": "stdout",
     "output_type": "stream",
     "text": [
      "bestTest = 0.7775380711\n",
      "bestIteration = 158\n",
      "Shrink model to first 159 iterations.\n"
     ]
    },
    {
     "name": "stderr",
     "output_type": "stream",
     "text": [
      "Default metric period is 5 because AUC is/are not implemented for GPU\n",
      "AUC is not implemented on GPU. Will use CPU for metric computation, this could significantly affect learning time\n"
     ]
    },
    {
     "name": "stdout",
     "output_type": "stream",
     "text": [
      "0:\ttest: 0.7671954\tbest: 0.7671954 (0)\ttotal: 12.8ms\tremaining: 4m 16s\n"
     ]
    },
    {
     "name": "stderr",
     "output_type": "stream",
     "text": [
      "\u001b[32m[I 2023-01-16 19:56:28,223]\u001b[0m Trial 16 finished with value: 0.8416032148900169 and parameters: {'depth': 7, 'learning_rate': 0.07993407478546524, 'subsample': 0.5191686015086333, 'min_data_in_leaf': 2, 'l2_leaf_reg': 12, 'random_strength': 0.8945381937595529}. Best is trial 5 with value: 0.8643824027072758.\u001b[0m\n"
     ]
    },
    {
     "name": "stdout",
     "output_type": "stream",
     "text": [
      "bestTest = 0.8416032149\n",
      "bestIteration = 83\n",
      "Shrink model to first 84 iterations.\n"
     ]
    },
    {
     "name": "stderr",
     "output_type": "stream",
     "text": [
      "Default metric period is 5 because AUC is/are not implemented for GPU\n",
      "AUC is not implemented on GPU. Will use CPU for metric computation, this could significantly affect learning time\n"
     ]
    },
    {
     "name": "stdout",
     "output_type": "stream",
     "text": [
      "0:\ttest: 0.7210977\tbest: 0.7210977 (0)\ttotal: 8.25ms\tremaining: 2m 44s\n"
     ]
    },
    {
     "name": "stderr",
     "output_type": "stream",
     "text": [
      "\u001b[32m[I 2023-01-16 19:56:31,160]\u001b[0m Trial 17 finished with value: 0.7851522842639593 and parameters: {'depth': 4, 'learning_rate': 0.06015333136276238, 'subsample': 0.6371026722422025, 'min_data_in_leaf': 16, 'l2_leaf_reg': 17, 'random_strength': 0.4922594665859028}. Best is trial 5 with value: 0.8643824027072758.\u001b[0m\n"
     ]
    },
    {
     "name": "stdout",
     "output_type": "stream",
     "text": [
      "bestTest = 0.7851522843\n",
      "bestIteration = 162\n",
      "Shrink model to first 163 iterations.\n"
     ]
    },
    {
     "name": "stderr",
     "output_type": "stream",
     "text": [
      "Default metric period is 5 because AUC is/are not implemented for GPU\n",
      "AUC is not implemented on GPU. Will use CPU for metric computation, this could significantly affect learning time\n"
     ]
    },
    {
     "name": "stdout",
     "output_type": "stream",
     "text": [
      "0:\ttest: 0.7162119\tbest: 0.7162119 (0)\ttotal: 13.5ms\tremaining: 4m 30s\n"
     ]
    },
    {
     "name": "stderr",
     "output_type": "stream",
     "text": [
      "\u001b[32m[I 2023-01-16 19:56:35,377]\u001b[0m Trial 18 finished with value: 0.8376269035532996 and parameters: {'depth': 7, 'learning_rate': 0.0362921446067255, 'subsample': 0.4864939201579731, 'min_data_in_leaf': 43, 'l2_leaf_reg': 13, 'random_strength': 0.6817363881643657}. Best is trial 5 with value: 0.8643824027072758.\u001b[0m\n"
     ]
    },
    {
     "name": "stdout",
     "output_type": "stream",
     "text": [
      "bestTest = 0.8376269036\n",
      "bestIteration = 180\n",
      "Shrink model to first 181 iterations.\n"
     ]
    },
    {
     "name": "stderr",
     "output_type": "stream",
     "text": [
      "Default metric period is 5 because AUC is/are not implemented for GPU\n",
      "AUC is not implemented on GPU. Will use CPU for metric computation, this could significantly affect learning time\n"
     ]
    },
    {
     "name": "stdout",
     "output_type": "stream",
     "text": [
      "0:\ttest: 0.7113367\tbest: 0.7113367 (0)\ttotal: 7.06ms\tremaining: 2m 21s\n"
     ]
    },
    {
     "name": "stderr",
     "output_type": "stream",
     "text": [
      "\u001b[32m[I 2023-01-16 19:56:37,983]\u001b[0m Trial 19 finished with value: 0.8710659898477158 and parameters: {'depth': 1, 'learning_rate': 0.05669065477145015, 'subsample': 0.38882127602145067, 'min_data_in_leaf': 72, 'l2_leaf_reg': 9, 'random_strength': 0.4077545008737141}. Best is trial 19 with value: 0.8710659898477158.\u001b[0m\n"
     ]
    },
    {
     "name": "stdout",
     "output_type": "stream",
     "text": [
      "bestTest = 0.8710659898\n",
      "bestIteration = 199\n",
      "Shrink model to first 200 iterations.\n"
     ]
    },
    {
     "name": "stderr",
     "output_type": "stream",
     "text": [
      "Default metric period is 5 because AUC is/are not implemented for GPU\n",
      "AUC is not implemented on GPU. Will use CPU for metric computation, this could significantly affect learning time\n"
     ]
    },
    {
     "name": "stdout",
     "output_type": "stream",
     "text": [
      "0:\ttest: 0.6471447\tbest: 0.6471447 (0)\ttotal: 6.42ms\tremaining: 2m 8s\n"
     ]
    },
    {
     "name": "stderr",
     "output_type": "stream",
     "text": [
      "\u001b[32m[I 2023-01-16 19:56:43,557]\u001b[0m Trial 20 finished with value: 0.7990799492385787 and parameters: {'depth': 1, 'learning_rate': 0.06425796436522162, 'subsample': 0.37823254061991257, 'min_data_in_leaf': 71, 'l2_leaf_reg': 9, 'random_strength': 0.4075657722573226}. Best is trial 19 with value: 0.8710659898477158.\u001b[0m\n"
     ]
    },
    {
     "name": "stdout",
     "output_type": "stream",
     "text": [
      "bestTest = 0.7990799492\n",
      "bestIteration = 686\n",
      "Shrink model to first 687 iterations.\n",
      "0:\ttest: 0.7540926\tbest: 0.7540926 (0)\ttotal: 9.74ms\tremaining: 3m 14s\n"
     ]
    },
    {
     "name": "stderr",
     "output_type": "stream",
     "text": [
      "Default metric period is 5 because AUC is/are not implemented for GPU\n",
      "AUC is not implemented on GPU. Will use CPU for metric computation, this could significantly affect learning time\n",
      "\u001b[32m[I 2023-01-16 19:56:47,113]\u001b[0m Trial 21 finished with value: 0.8392766497461929 and parameters: {'depth': 2, 'learning_rate': 0.04787878902925892, 'subsample': 0.2967721101381581, 'min_data_in_leaf': 28, 'l2_leaf_reg': 10, 'random_strength': 0.6189857448601502}. Best is trial 19 with value: 0.8710659898477158.\u001b[0m\n"
     ]
    },
    {
     "name": "stdout",
     "output_type": "stream",
     "text": [
      "bestTest = 0.8392766497\n",
      "bestIteration = 299\n",
      "Shrink model to first 300 iterations.\n"
     ]
    },
    {
     "name": "stderr",
     "output_type": "stream",
     "text": [
      "Default metric period is 5 because AUC is/are not implemented for GPU\n",
      "AUC is not implemented on GPU. Will use CPU for metric computation, this could significantly affect learning time\n"
     ]
    },
    {
     "name": "stdout",
     "output_type": "stream",
     "text": [
      "0:\ttest: 0.7105964\tbest: 0.7105964 (0)\ttotal: 8.71ms\tremaining: 2m 54s\n"
     ]
    },
    {
     "name": "stderr",
     "output_type": "stream",
     "text": [
      "\u001b[32m[I 2023-01-16 19:56:49,113]\u001b[0m Trial 22 finished with value: 0.8043147208121828 and parameters: {'depth': 3, 'learning_rate': 0.0835407166259706, 'subsample': 0.4205636758498702, 'min_data_in_leaf': 50, 'l2_leaf_reg': 7, 'random_strength': 0.34309208214916553}. Best is trial 19 with value: 0.8710659898477158.\u001b[0m\n"
     ]
    },
    {
     "name": "stdout",
     "output_type": "stream",
     "text": [
      "bestTest = 0.8043147208\n",
      "bestIteration = 68\n",
      "Shrink model to first 69 iterations.\n"
     ]
    },
    {
     "name": "stderr",
     "output_type": "stream",
     "text": [
      "Default metric period is 5 because AUC is/are not implemented for GPU\n",
      "AUC is not implemented on GPU. Will use CPU for metric computation, this could significantly affect learning time\n"
     ]
    },
    {
     "name": "stdout",
     "output_type": "stream",
     "text": [
      "0:\ttest: 0.6687606\tbest: 0.6687606 (0)\ttotal: 7.61ms\tremaining: 2m 32s\n"
     ]
    },
    {
     "name": "stderr",
     "output_type": "stream",
     "text": [
      "\u001b[32m[I 2023-01-16 19:56:52,778]\u001b[0m Trial 23 finished with value: 0.826163282571912 and parameters: {'depth': 1, 'learning_rate': 0.054355507137227324, 'subsample': 0.6364023112090562, 'min_data_in_leaf': 69, 'l2_leaf_reg': 15, 'random_strength': 0.4748862693925852}. Best is trial 19 with value: 0.8710659898477158.\u001b[0m\n"
     ]
    },
    {
     "name": "stdout",
     "output_type": "stream",
     "text": [
      "bestTest = 0.8261632826\n",
      "bestIteration = 385\n",
      "Shrink model to first 386 iterations.\n"
     ]
    },
    {
     "name": "stderr",
     "output_type": "stream",
     "text": [
      "Default metric period is 5 because AUC is/are not implemented for GPU\n",
      "AUC is not implemented on GPU. Will use CPU for metric computation, this could significantly affect learning time\n"
     ]
    },
    {
     "name": "stdout",
     "output_type": "stream",
     "text": [
      "0:\ttest: 0.7367703\tbest: 0.7367703 (0)\ttotal: 7.59ms\tremaining: 2m 31s\n"
     ]
    },
    {
     "name": "stderr",
     "output_type": "stream",
     "text": [
      "\u001b[32m[I 2023-01-16 19:56:55,639]\u001b[0m Trial 24 finished with value: 0.8335659898477158 and parameters: {'depth': 4, 'learning_rate': 0.07252352163425739, 'subsample': 0.1489006217561728, 'min_data_in_leaf': 80, 'l2_leaf_reg': 11, 'random_strength': 0.7470136775877233}. Best is trial 19 with value: 0.8710659898477158.\u001b[0m\n"
     ]
    },
    {
     "name": "stdout",
     "output_type": "stream",
     "text": [
      "bestTest = 0.8335659898\n",
      "bestIteration = 176\n",
      "Shrink model to first 177 iterations.\n"
     ]
    },
    {
     "name": "stderr",
     "output_type": "stream",
     "text": [
      "Default metric period is 5 because AUC is/are not implemented for GPU\n",
      "AUC is not implemented on GPU. Will use CPU for metric computation, this could significantly affect learning time\n"
     ]
    },
    {
     "name": "stdout",
     "output_type": "stream",
     "text": [
      "0:\ttest: 0.6990482\tbest: 0.6990482 (0)\ttotal: 10.3ms\tremaining: 3m 26s\n"
     ]
    },
    {
     "name": "stderr",
     "output_type": "stream",
     "text": [
      "\u001b[32m[I 2023-01-16 19:56:58,185]\u001b[0m Trial 25 finished with value: 0.8087563451776649 and parameters: {'depth': 6, 'learning_rate': 0.08632220939779017, 'subsample': 0.4748177770056715, 'min_data_in_leaf': 26, 'l2_leaf_reg': 18, 'random_strength': 0.5793647406918909}. Best is trial 19 with value: 0.8710659898477158.\u001b[0m\n"
     ]
    },
    {
     "name": "stdout",
     "output_type": "stream",
     "text": [
      "bestTest = 0.8087563452\n",
      "bestIteration = 92\n",
      "Shrink model to first 93 iterations.\n"
     ]
    },
    {
     "name": "stderr",
     "output_type": "stream",
     "text": [
      "Default metric period is 5 because AUC is/are not implemented for GPU\n",
      "AUC is not implemented on GPU. Will use CPU for metric computation, this could significantly affect learning time\n"
     ]
    },
    {
     "name": "stdout",
     "output_type": "stream",
     "text": [
      "0:\ttest: 0.7094332\tbest: 0.7094332 (0)\ttotal: 7.18ms\tremaining: 2m 23s\n"
     ]
    },
    {
     "name": "stderr",
     "output_type": "stream",
     "text": [
      "\u001b[32m[I 2023-01-16 19:57:00,239]\u001b[0m Trial 26 finished with value: 0.8156831641285955 and parameters: {'depth': 2, 'learning_rate': 0.06758290862568878, 'subsample': 0.564444205574254, 'min_data_in_leaf': 49, 'l2_leaf_reg': 4, 'random_strength': 0.41244124915338587}. Best is trial 19 with value: 0.8710659898477158.\u001b[0m\n"
     ]
    },
    {
     "name": "stdout",
     "output_type": "stream",
     "text": [
      "bestTest = 0.8156831641\n",
      "bestIteration = 94\n",
      "Shrink model to first 95 iterations.\n"
     ]
    },
    {
     "name": "stderr",
     "output_type": "stream",
     "text": [
      "Default metric period is 5 because AUC is/are not implemented for GPU\n",
      "AUC is not implemented on GPU. Will use CPU for metric computation, this could significantly affect learning time\n"
     ]
    },
    {
     "name": "stdout",
     "output_type": "stream",
     "text": [
      "0:\ttest: 0.7207805\tbest: 0.7207805 (0)\ttotal: 7.98ms\tremaining: 2m 39s\n"
     ]
    },
    {
     "name": "stderr",
     "output_type": "stream",
     "text": [
      "\u001b[32m[I 2023-01-16 19:57:04,352]\u001b[0m Trial 27 finished with value: 0.8054568527918781 and parameters: {'depth': 3, 'learning_rate': 0.02904680669494734, 'subsample': 0.858444272634455, 'min_data_in_leaf': 88, 'l2_leaf_reg': 14, 'random_strength': 0.26831875793764226}. Best is trial 19 with value: 0.8710659898477158.\u001b[0m\n"
     ]
    },
    {
     "name": "stdout",
     "output_type": "stream",
     "text": [
      "bestTest = 0.8054568528\n",
      "bestIteration = 384\n",
      "Shrink model to first 385 iterations.\n"
     ]
    },
    {
     "name": "stderr",
     "output_type": "stream",
     "text": [
      "Default metric period is 5 because AUC is/are not implemented for GPU\n",
      "AUC is not implemented on GPU. Will use CPU for metric computation, this could significantly affect learning time\n"
     ]
    },
    {
     "name": "stdout",
     "output_type": "stream",
     "text": [
      "0:\ttest: 0.6733185\tbest: 0.6733185 (0)\ttotal: 6.54ms\tremaining: 2m 10s\n"
     ]
    },
    {
     "name": "stderr",
     "output_type": "stream",
     "text": [
      "\u001b[32m[I 2023-01-16 19:57:08,924]\u001b[0m Trial 28 finished with value: 0.814826565143824 and parameters: {'depth': 1, 'learning_rate': 0.056000778659316956, 'subsample': 0.6890963758010074, 'min_data_in_leaf': 8, 'l2_leaf_reg': 11, 'random_strength': 0.3253877638297641}. Best is trial 19 with value: 0.8710659898477158.\u001b[0m\n"
     ]
    },
    {
     "name": "stdout",
     "output_type": "stream",
     "text": [
      "bestTest = 0.8148265651\n",
      "bestIteration = 559\n",
      "Shrink model to first 560 iterations.\n"
     ]
    },
    {
     "name": "stderr",
     "output_type": "stream",
     "text": [
      "Default metric period is 5 because AUC is/are not implemented for GPU\n",
      "AUC is not implemented on GPU. Will use CPU for metric computation, this could significantly affect learning time\n"
     ]
    },
    {
     "name": "stdout",
     "output_type": "stream",
     "text": [
      "0:\ttest: 0.7428405\tbest: 0.7428405 (0)\ttotal: 7.82ms\tremaining: 2m 36s\n"
     ]
    },
    {
     "name": "stderr",
     "output_type": "stream",
     "text": [
      "\u001b[32m[I 2023-01-16 19:57:11,482]\u001b[0m Trial 29 finished with value: 0.8049915397631134 and parameters: {'depth': 4, 'learning_rate': 0.09872325977262889, 'subsample': 0.31592814303581435, 'min_data_in_leaf': 100, 'l2_leaf_reg': 20, 'random_strength': 0.43538329808624043}. Best is trial 19 with value: 0.8710659898477158.\u001b[0m\n"
     ]
    },
    {
     "name": "stdout",
     "output_type": "stream",
     "text": [
      "bestTest = 0.8049915398\n",
      "bestIteration = 130\n",
      "Shrink model to first 131 iterations.\n"
     ]
    },
    {
     "name": "stderr",
     "output_type": "stream",
     "text": [
      "Default metric period is 5 because AUC is/are not implemented for GPU\n",
      "AUC is not implemented on GPU. Will use CPU for metric computation, this could significantly affect learning time\n"
     ]
    },
    {
     "name": "stdout",
     "output_type": "stream",
     "text": [
      "0:\ttest: 0.7407889\tbest: 0.7407889 (0)\ttotal: 9.42ms\tremaining: 3m 8s\n"
     ]
    },
    {
     "name": "stderr",
     "output_type": "stream",
     "text": [
      "\u001b[32m[I 2023-01-16 19:57:15,668]\u001b[0m Trial 30 finished with value: 0.8255287648054146 and parameters: {'depth': 6, 'learning_rate': 0.039163300723471746, 'subsample': 0.706548691647563, 'min_data_in_leaf': 63, 'l2_leaf_reg': 7, 'random_strength': 0.6827232064289697}. Best is trial 19 with value: 0.8710659898477158.\u001b[0m\n"
     ]
    },
    {
     "name": "stdout",
     "output_type": "stream",
     "text": [
      "bestTest = 0.8255287648\n",
      "bestIteration = 258\n",
      "Shrink model to first 259 iterations.\n"
     ]
    },
    {
     "name": "stderr",
     "output_type": "stream",
     "text": [
      "Default metric period is 5 because AUC is/are not implemented for GPU\n",
      "AUC is not implemented on GPU. Will use CPU for metric computation, this could significantly affect learning time\n"
     ]
    },
    {
     "name": "stdout",
     "output_type": "stream",
     "text": [
      "0:\ttest: 0.7082170\tbest: 0.7082170 (0)\ttotal: 9.16ms\tremaining: 3m 3s\n"
     ]
    },
    {
     "name": "stderr",
     "output_type": "stream",
     "text": [
      "\u001b[32m[I 2023-01-16 19:57:17,674]\u001b[0m Trial 31 finished with value: 0.8151438240270727 and parameters: {'depth': 5, 'learning_rate': 0.044937766395297306, 'subsample': 0.9044460058505643, 'min_data_in_leaf': 87, 'l2_leaf_reg': 5, 'random_strength': 0.12619360117246486}. Best is trial 19 with value: 0.8710659898477158.\u001b[0m\n"
     ]
    },
    {
     "name": "stdout",
     "output_type": "stream",
     "text": [
      "bestTest = 0.815143824\n",
      "bestIteration = 36\n",
      "Shrink model to first 37 iterations.\n"
     ]
    },
    {
     "name": "stderr",
     "output_type": "stream",
     "text": [
      "Default metric period is 5 because AUC is/are not implemented for GPU\n",
      "AUC is not implemented on GPU. Will use CPU for metric computation, this could significantly affect learning time\n"
     ]
    },
    {
     "name": "stdout",
     "output_type": "stream",
     "text": [
      "0:\ttest: 0.7334602\tbest: 0.7334602 (0)\ttotal: 7.43ms\tremaining: 2m 28s\n"
     ]
    },
    {
     "name": "stderr",
     "output_type": "stream",
     "text": [
      "\u001b[32m[I 2023-01-16 19:57:21,927]\u001b[0m Trial 32 finished with value: 0.807846869712352 and parameters: {'depth': 3, 'learning_rate': 0.03027484156492545, 'subsample': 0.873275024755907, 'min_data_in_leaf': 95, 'l2_leaf_reg': 1, 'random_strength': 0.2337307025112755}. Best is trial 19 with value: 0.8710659898477158.\u001b[0m\n"
     ]
    },
    {
     "name": "stdout",
     "output_type": "stream",
     "text": [
      "bestTest = 0.8078468697\n",
      "bestIteration = 380\n",
      "Shrink model to first 381 iterations.\n"
     ]
    },
    {
     "name": "stderr",
     "output_type": "stream",
     "text": [
      "Default metric period is 5 because AUC is/are not implemented for GPU\n",
      "AUC is not implemented on GPU. Will use CPU for metric computation, this could significantly affect learning time\n"
     ]
    },
    {
     "name": "stdout",
     "output_type": "stream",
     "text": [
      "0:\ttest: 0.7262373\tbest: 0.7262373 (0)\ttotal: 8.38ms\tremaining: 2m 47s\n"
     ]
    },
    {
     "name": "stderr",
     "output_type": "stream",
     "text": [
      "\u001b[32m[I 2023-01-16 19:57:24,341]\u001b[0m Trial 33 finished with value: 0.8458756345177665 and parameters: {'depth': 5, 'learning_rate': 0.045908735136010986, 'subsample': 0.7894796486505385, 'min_data_in_leaf': 76, 'l2_leaf_reg': 9, 'random_strength': 0.125428374187306}. Best is trial 19 with value: 0.8710659898477158.\u001b[0m\n"
     ]
    },
    {
     "name": "stdout",
     "output_type": "stream",
     "text": [
      "bestTest = 0.8458756345\n",
      "bestIteration = 89\n",
      "Shrink model to first 90 iterations.\n"
     ]
    },
    {
     "name": "stderr",
     "output_type": "stream",
     "text": [
      "Default metric period is 5 because AUC is/are not implemented for GPU\n",
      "AUC is not implemented on GPU. Will use CPU for metric computation, this could significantly affect learning time\n"
     ]
    },
    {
     "name": "stdout",
     "output_type": "stream",
     "text": [
      "0:\ttest: 0.7282678\tbest: 0.7282678 (0)\ttotal: 14.9ms\tremaining: 4m 58s\n"
     ]
    },
    {
     "name": "stderr",
     "output_type": "stream",
     "text": [
      "\u001b[32m[I 2023-01-16 19:57:27,366]\u001b[0m Trial 34 finished with value: 0.7990270727580372 and parameters: {'depth': 8, 'learning_rate': 0.06037334476657429, 'subsample': 0.7638435270057116, 'min_data_in_leaf': 76, 'l2_leaf_reg': 9, 'random_strength': 0.0988042325460915}. Best is trial 19 with value: 0.8710659898477158.\u001b[0m\n"
     ]
    },
    {
     "name": "stdout",
     "output_type": "stream",
     "text": [
      "bestTest = 0.7990270728\n",
      "bestIteration = 54\n",
      "Shrink model to first 55 iterations.\n"
     ]
    },
    {
     "name": "stderr",
     "output_type": "stream",
     "text": [
      "Default metric period is 5 because AUC is/are not implemented for GPU\n",
      "AUC is not implemented on GPU. Will use CPU for metric computation, this could significantly affect learning time\n"
     ]
    },
    {
     "name": "stdout",
     "output_type": "stream",
     "text": [
      "0:\ttest: 0.7318739\tbest: 0.7318739 (0)\ttotal: 7.06ms\tremaining: 2m 21s\n"
     ]
    },
    {
     "name": "stderr",
     "output_type": "stream",
     "text": [
      "\u001b[32m[I 2023-01-16 19:57:30,665]\u001b[0m Trial 35 finished with value: 0.8296742808798646 and parameters: {'depth': 2, 'learning_rate': 0.05063215387707159, 'subsample': 0.9941907840930011, 'min_data_in_leaf': 68, 'l2_leaf_reg': 10, 'random_strength': 0.5493679374400863}. Best is trial 19 with value: 0.8710659898477158.\u001b[0m\n"
     ]
    },
    {
     "name": "stdout",
     "output_type": "stream",
     "text": [
      "bestTest = 0.8296742809\n",
      "bestIteration = 281\n",
      "Shrink model to first 282 iterations.\n"
     ]
    },
    {
     "name": "stderr",
     "output_type": "stream",
     "text": [
      "Default metric period is 5 because AUC is/are not implemented for GPU\n",
      "AUC is not implemented on GPU. Will use CPU for metric computation, this could significantly affect learning time\n"
     ]
    },
    {
     "name": "stdout",
     "output_type": "stream",
     "text": [
      "0:\ttest: 0.6505182\tbest: 0.6505182 (0)\ttotal: 7.54ms\tremaining: 2m 30s\n"
     ]
    },
    {
     "name": "stderr",
     "output_type": "stream",
     "text": [
      "\u001b[32m[I 2023-01-16 19:57:33,062]\u001b[0m Trial 36 finished with value: 0.8038705583756344 and parameters: {'depth': 4, 'learning_rate': 0.03424584580220502, 'subsample': 0.3683664654705293, 'min_data_in_leaf': 58, 'l2_leaf_reg': 8, 'random_strength': 0.5007169104308833}. Best is trial 19 with value: 0.8710659898477158.\u001b[0m\n"
     ]
    },
    {
     "name": "stdout",
     "output_type": "stream",
     "text": [
      "bestTest = 0.8038705584\n",
      "bestIteration = 112\n",
      "Shrink model to first 113 iterations.\n"
     ]
    },
    {
     "name": "stderr",
     "output_type": "stream",
     "text": [
      "Default metric period is 5 because AUC is/are not implemented for GPU\n",
      "AUC is not implemented on GPU. Will use CPU for metric computation, this could significantly affect learning time\n"
     ]
    },
    {
     "name": "stdout",
     "output_type": "stream",
     "text": [
      "0:\ttest: 0.6969120\tbest: 0.6969120 (0)\ttotal: 15.2ms\tremaining: 5m 4s\n"
     ]
    },
    {
     "name": "stderr",
     "output_type": "stream",
     "text": [
      "\u001b[32m[I 2023-01-16 19:57:37,775]\u001b[0m Trial 37 finished with value: 0.7696489001692047 and parameters: {'depth': 8, 'learning_rate': 0.001590879488193378, 'subsample': 0.6998450775367295, 'min_data_in_leaf': 64, 'l2_leaf_reg': 12, 'random_strength': 0.6118560583592999}. Best is trial 19 with value: 0.8710659898477158.\u001b[0m\n"
     ]
    },
    {
     "name": "stdout",
     "output_type": "stream",
     "text": [
      "bestTest = 0.7696489002\n",
      "bestIteration = 176\n",
      "Shrink model to first 177 iterations.\n"
     ]
    },
    {
     "name": "stderr",
     "output_type": "stream",
     "text": [
      "Default metric period is 5 because AUC is/are not implemented for GPU\n",
      "AUC is not implemented on GPU. Will use CPU for metric computation, this could significantly affect learning time\n"
     ]
    },
    {
     "name": "stdout",
     "output_type": "stream",
     "text": [
      "0:\ttest: 0.7398583\tbest: 0.7398583 (0)\ttotal: 7.67ms\tremaining: 2m 33s\n"
     ]
    },
    {
     "name": "stderr",
     "output_type": "stream",
     "text": [
      "\u001b[32m[I 2023-01-16 19:57:41,834]\u001b[0m Trial 38 finished with value: 0.8358714043993232 and parameters: {'depth': 3, 'learning_rate': 0.04340129321960561, 'subsample': 0.21475941793561146, 'min_data_in_leaf': 36, 'l2_leaf_reg': 9, 'random_strength': 0.8978689627792626}. Best is trial 19 with value: 0.8710659898477158.\u001b[0m\n"
     ]
    },
    {
     "name": "stdout",
     "output_type": "stream",
     "text": [
      "bestTest = 0.8358714044\n",
      "bestIteration = 369\n",
      "Shrink model to first 370 iterations.\n"
     ]
    },
    {
     "name": "stderr",
     "output_type": "stream",
     "text": [
      "Default metric period is 5 because AUC is/are not implemented for GPU\n",
      "AUC is not implemented on GPU. Will use CPU for metric computation, this could significantly affect learning time\n"
     ]
    },
    {
     "name": "stdout",
     "output_type": "stream",
     "text": [
      "0:\ttest: 0.7217428\tbest: 0.7217428 (0)\ttotal: 6.83ms\tremaining: 2m 16s\n"
     ]
    },
    {
     "name": "stderr",
     "output_type": "stream",
     "text": [
      "\u001b[32m[I 2023-01-16 19:57:44,635]\u001b[0m Trial 39 finished with value: 0.7989847715736041 and parameters: {'depth': 2, 'learning_rate': 0.0256231373380995, 'subsample': 0.9524652571574644, 'min_data_in_leaf': 55, 'l2_leaf_reg': 17, 'random_strength': 0.7529409674969085}. Best is trial 19 with value: 0.8710659898477158.\u001b[0m\n"
     ]
    },
    {
     "name": "stdout",
     "output_type": "stream",
     "text": [
      "bestTest = 0.7989847716\n",
      "bestIteration = 224\n",
      "Shrink model to first 225 iterations.\n"
     ]
    },
    {
     "name": "stderr",
     "output_type": "stream",
     "text": [
      "Default metric period is 5 because AUC is/are not implemented for GPU\n",
      "AUC is not implemented on GPU. Will use CPU for metric computation, this could significantly affect learning time\n"
     ]
    },
    {
     "name": "stdout",
     "output_type": "stream",
     "text": [
      "0:\ttest: 0.7271785\tbest: 0.7271785 (0)\ttotal: 10.1ms\tremaining: 3m 22s\n"
     ]
    },
    {
     "name": "stderr",
     "output_type": "stream",
     "text": [
      "\u001b[32m[I 2023-01-16 19:57:49,825]\u001b[0m Trial 40 finished with value: 0.8036590524534687 and parameters: {'depth': 6, 'learning_rate': 0.013960304308425042, 'subsample': 0.8198194914753059, 'min_data_in_leaf': 74, 'l2_leaf_reg': 13, 'random_strength': 0.3677458189112032}. Best is trial 19 with value: 0.8710659898477158.\u001b[0m\n"
     ]
    },
    {
     "name": "stdout",
     "output_type": "stream",
     "text": [
      "bestTest = 0.8036590525\n",
      "bestIteration = 376\n",
      "Shrink model to first 377 iterations.\n"
     ]
    },
    {
     "name": "stderr",
     "output_type": "stream",
     "text": [
      "Default metric period is 5 because AUC is/are not implemented for GPU\n",
      "AUC is not implemented on GPU. Will use CPU for metric computation, this could significantly affect learning time\n"
     ]
    },
    {
     "name": "stdout",
     "output_type": "stream",
     "text": [
      "0:\ttest: 0.7791244\tbest: 0.7791244 (0)\ttotal: 8.35ms\tremaining: 2m 46s\n"
     ]
    },
    {
     "name": "stderr",
     "output_type": "stream",
     "text": [
      "\u001b[32m[I 2023-01-16 19:57:51,695]\u001b[0m Trial 41 finished with value: 0.8376692047377327 and parameters: {'depth': 5, 'learning_rate': 0.04376235770986133, 'subsample': 0.9269503608274736, 'min_data_in_leaf': 91, 'l2_leaf_reg': 7, 'random_strength': 0.16292744449219862}. Best is trial 19 with value: 0.8710659898477158.\u001b[0m\n"
     ]
    },
    {
     "name": "stdout",
     "output_type": "stream",
     "text": [
      "bestTest = 0.8376692047\n",
      "bestIteration = 31\n",
      "Shrink model to first 32 iterations.\n"
     ]
    },
    {
     "name": "stderr",
     "output_type": "stream",
     "text": [
      "Default metric period is 5 because AUC is/are not implemented for GPU\n",
      "AUC is not implemented on GPU. Will use CPU for metric computation, this could significantly affect learning time\n"
     ]
    },
    {
     "name": "stdout",
     "output_type": "stream",
     "text": [
      "0:\ttest: 0.7467428\tbest: 0.7467428 (0)\ttotal: 8.86ms\tremaining: 2m 57s\n"
     ]
    },
    {
     "name": "stderr",
     "output_type": "stream",
     "text": [
      "\u001b[32m[I 2023-01-16 19:57:53,315]\u001b[0m Trial 42 finished with value: 0.7906620135363791 and parameters: {'depth': 5, 'learning_rate': 0.049926811854121074, 'subsample': 0.8897504394435023, 'min_data_in_leaf': 80, 'l2_leaf_reg': 2, 'random_strength': 0.061459140534240814}. Best is trial 19 with value: 0.8710659898477158.\u001b[0m\n"
     ]
    },
    {
     "name": "stdout",
     "output_type": "stream",
     "text": [
      "bestTest = 0.7906620135\n",
      "bestIteration = 5\n",
      "Shrink model to first 6 iterations.\n"
     ]
    },
    {
     "name": "stderr",
     "output_type": "stream",
     "text": [
      "Default metric period is 5 because AUC is/are not implemented for GPU\n",
      "AUC is not implemented on GPU. Will use CPU for metric computation, this could significantly affect learning time\n"
     ]
    },
    {
     "name": "stdout",
     "output_type": "stream",
     "text": [
      "0:\ttest: 0.7680943\tbest: 0.7680943 (0)\ttotal: 11.8ms\tremaining: 3m 55s\n"
     ]
    },
    {
     "name": "stderr",
     "output_type": "stream",
     "text": [
      "\u001b[32m[I 2023-01-16 19:57:55,479]\u001b[0m Trial 43 finished with value: 0.8392554991539762 and parameters: {'depth': 7, 'learning_rate': 0.05636548565662317, 'subsample': 0.9566036919134429, 'min_data_in_leaf': 93, 'l2_leaf_reg': 5, 'random_strength': 0.2703030581735457}. Best is trial 19 with value: 0.8710659898477158.\u001b[0m\n"
     ]
    },
    {
     "name": "stdout",
     "output_type": "stream",
     "text": [
      "bestTest = 0.8392554992\n",
      "bestIteration = 27\n",
      "Shrink model to first 28 iterations.\n"
     ]
    },
    {
     "name": "stderr",
     "output_type": "stream",
     "text": [
      "Default metric period is 5 because AUC is/are not implemented for GPU\n",
      "AUC is not implemented on GPU. Will use CPU for metric computation, this could significantly affect learning time\n"
     ]
    },
    {
     "name": "stdout",
     "output_type": "stream",
     "text": [
      "0:\ttest: 0.7339361\tbest: 0.7339361 (0)\ttotal: 8.22ms\tremaining: 2m 44s\n"
     ]
    },
    {
     "name": "stderr",
     "output_type": "stream",
     "text": [
      "\u001b[32m[I 2023-01-16 19:57:58,129]\u001b[0m Trial 44 finished with value: 0.819331641285956 and parameters: {'depth': 4, 'learning_rate': 0.03949805684822405, 'subsample': 0.855268613653774, 'min_data_in_leaf': 84, 'l2_leaf_reg': 8, 'random_strength': 0.1761396587201715}. Best is trial 19 with value: 0.8710659898477158.\u001b[0m\n"
     ]
    },
    {
     "name": "stdout",
     "output_type": "stream",
     "text": [
      "bestTest = 0.8193316413\n",
      "bestIteration = 156\n",
      "Shrink model to first 157 iterations.\n"
     ]
    },
    {
     "name": "stderr",
     "output_type": "stream",
     "text": [
      "Default metric period is 5 because AUC is/are not implemented for GPU\n",
      "AUC is not implemented on GPU. Will use CPU for metric computation, this could significantly affect learning time\n"
     ]
    },
    {
     "name": "stdout",
     "output_type": "stream",
     "text": [
      "0:\ttest: 0.7578151\tbest: 0.7578151 (0)\ttotal: 9.4ms\tremaining: 3m 8s\n"
     ]
    },
    {
     "name": "stderr",
     "output_type": "stream",
     "text": [
      "\u001b[32m[I 2023-01-16 19:58:01,498]\u001b[0m Trial 45 finished with value: 0.8190143824027073 and parameters: {'depth': 6, 'learning_rate': 0.04666959885740032, 'subsample': 0.7878246777693179, 'min_data_in_leaf': 33, 'l2_leaf_reg': 6, 'random_strength': 0.030202344615096133}. Best is trial 19 with value: 0.8710659898477158.\u001b[0m\n"
     ]
    },
    {
     "name": "stdout",
     "output_type": "stream",
     "text": [
      "bestTest = 0.8190143824\n",
      "bestIteration = 188\n",
      "Shrink model to first 189 iterations.\n"
     ]
    },
    {
     "name": "stderr",
     "output_type": "stream",
     "text": [
      "Default metric period is 5 because AUC is/are not implemented for GPU\n",
      "AUC is not implemented on GPU. Will use CPU for metric computation, this could significantly affect learning time\n"
     ]
    },
    {
     "name": "stdout",
     "output_type": "stream",
     "text": [
      "0:\ttest: 0.7662225\tbest: 0.7662225 (0)\ttotal: 8.35ms\tremaining: 2m 47s\n"
     ]
    },
    {
     "name": "stderr",
     "output_type": "stream",
     "text": [
      "\u001b[32m[I 2023-01-16 19:58:03,839]\u001b[0m Trial 46 finished with value: 0.8196065989847715 and parameters: {'depth': 5, 'learning_rate': 0.06606983173114903, 'subsample': 0.6081492417193249, 'min_data_in_leaf': 43, 'l2_leaf_reg': 6, 'random_strength': 0.1288919212693918}. Best is trial 19 with value: 0.8710659898477158.\u001b[0m\n"
     ]
    },
    {
     "name": "stdout",
     "output_type": "stream",
     "text": [
      "bestTest = 0.819606599\n",
      "bestIteration = 91\n",
      "Shrink model to first 92 iterations.\n"
     ]
    },
    {
     "name": "stderr",
     "output_type": "stream",
     "text": [
      "Default metric period is 5 because AUC is/are not implemented for GPU\n",
      "AUC is not implemented on GPU. Will use CPU for metric computation, this could significantly affect learning time\n"
     ]
    },
    {
     "name": "stdout",
     "output_type": "stream",
     "text": [
      "0:\ttest: 0.7042618\tbest: 0.7042618 (0)\ttotal: 11.3ms\tremaining: 3m 45s\n"
     ]
    },
    {
     "name": "stderr",
     "output_type": "stream",
     "text": [
      "\u001b[32m[I 2023-01-16 19:58:06,044]\u001b[0m Trial 47 finished with value: 0.784412013536379 and parameters: {'depth': 7, 'learning_rate': 0.07531123177853717, 'subsample': 0.5394079061034923, 'min_data_in_leaf': 9, 'l2_leaf_reg': 10, 'random_strength': 0.29803057020131574}. Best is trial 19 with value: 0.8710659898477158.\u001b[0m\n"
     ]
    },
    {
     "name": "stdout",
     "output_type": "stream",
     "text": [
      "bestTest = 0.7844120135\n",
      "bestIteration = 34\n",
      "Shrink model to first 35 iterations.\n"
     ]
    },
    {
     "name": "stderr",
     "output_type": "stream",
     "text": [
      "Default metric period is 5 because AUC is/are not implemented for GPU\n",
      "AUC is not implemented on GPU. Will use CPU for metric computation, this could significantly affect learning time\n"
     ]
    },
    {
     "name": "stdout",
     "output_type": "stream",
     "text": [
      "0:\ttest: 0.7583862\tbest: 0.7583862 (0)\ttotal: 8.09ms\tremaining: 2m 41s\n",
      "1000:\ttest: 0.8232657\tbest: 0.8233080 (995)\ttotal: 7.45s\tremaining: 2m 21s\n"
     ]
    },
    {
     "name": "stderr",
     "output_type": "stream",
     "text": [
      "\u001b[32m[I 2023-01-16 19:58:16,154]\u001b[0m Trial 48 finished with value: 0.8246615905245347 and parameters: {'depth': 4, 'learning_rate': 0.01645701180055441, 'subsample': 0.23618662234026602, 'min_data_in_leaf': 80, 'l2_leaf_reg': 19, 'random_strength': 0.20043289893450003}. Best is trial 19 with value: 0.8710659898477158.\u001b[0m\n"
     ]
    },
    {
     "name": "stdout",
     "output_type": "stream",
     "text": [
      "bestTest = 0.8246615905\n",
      "bestIteration = 1149\n",
      "Shrink model to first 1150 iterations.\n"
     ]
    },
    {
     "name": "stderr",
     "output_type": "stream",
     "text": [
      "Default metric period is 5 because AUC is/are not implemented for GPU\n",
      "AUC is not implemented on GPU. Will use CPU for metric computation, this could significantly affect learning time\n"
     ]
    },
    {
     "name": "stdout",
     "output_type": "stream",
     "text": [
      "0:\ttest: 0.6435173\tbest: 0.6435173 (0)\ttotal: 8.58ms\tremaining: 2m 51s\n"
     ]
    },
    {
     "name": "stderr",
     "output_type": "stream",
     "text": [
      "\u001b[32m[I 2023-01-16 19:58:19,593]\u001b[0m Trial 49 finished with value: 0.8041032148900169 and parameters: {'depth': 5, 'learning_rate': 0.035043707589029124, 'subsample': 0.7261901747624238, 'min_data_in_leaf': 21, 'l2_leaf_reg': 4, 'random_strength': 0.8466023941130142}. Best is trial 19 with value: 0.8710659898477158.\u001b[0m\n"
     ]
    },
    {
     "name": "stdout",
     "output_type": "stream",
     "text": [
      "bestTest = 0.8041032149\n",
      "bestIteration = 232\n",
      "Shrink model to first 233 iterations.\n"
     ]
    },
    {
     "name": "stderr",
     "output_type": "stream",
     "text": [
      "Default metric period is 5 because AUC is/are not implemented for GPU\n",
      "AUC is not implemented on GPU. Will use CPU for metric computation, this could significantly affect learning time\n"
     ]
    },
    {
     "name": "stdout",
     "output_type": "stream",
     "text": [
      "0:\ttest: 0.7160321\tbest: 0.7160321 (0)\ttotal: 15ms\tremaining: 4m 59s\n"
     ]
    },
    {
     "name": "stderr",
     "output_type": "stream",
     "text": [
      "\u001b[32m[I 2023-01-16 19:58:25,566]\u001b[0m Trial 50 finished with value: 0.80334179357022 and parameters: {'depth': 8, 'learning_rate': 0.0253829337096097, 'subsample': 0.8227999231750781, 'min_data_in_leaf': 62, 'l2_leaf_reg': 11, 'random_strength': 0.3786502803720301}. Best is trial 19 with value: 0.8710659898477158.\u001b[0m\n"
     ]
    },
    {
     "name": "stdout",
     "output_type": "stream",
     "text": [
      "bestTest = 0.8033417936\n",
      "bestIteration = 271\n",
      "Shrink model to first 272 iterations.\n"
     ]
    },
    {
     "name": "stderr",
     "output_type": "stream",
     "text": [
      "Default metric period is 5 because AUC is/are not implemented for GPU\n",
      "AUC is not implemented on GPU. Will use CPU for metric computation, this could significantly affect learning time\n"
     ]
    },
    {
     "name": "stdout",
     "output_type": "stream",
     "text": [
      "0:\ttest: 0.7056895\tbest: 0.7056895 (0)\ttotal: 12.2ms\tremaining: 4m 3s\n"
     ]
    },
    {
     "name": "stderr",
     "output_type": "stream",
     "text": [
      "\u001b[32m[I 2023-01-16 19:58:29,224]\u001b[0m Trial 51 finished with value: 0.767364636209814 and parameters: {'depth': 7, 'learning_rate': 0.08106326695543428, 'subsample': 0.5091926396096085, 'min_data_in_leaf': 3, 'l2_leaf_reg': 12, 'random_strength': 0.7209419984932428}. Best is trial 19 with value: 0.8710659898477158.\u001b[0m\n"
     ]
    },
    {
     "name": "stdout",
     "output_type": "stream",
     "text": [
      "bestTest = 0.7673646362\n",
      "bestIteration = 153\n",
      "Shrink model to first 154 iterations.\n"
     ]
    },
    {
     "name": "stderr",
     "output_type": "stream",
     "text": [
      "Default metric period is 5 because AUC is/are not implemented for GPU\n",
      "AUC is not implemented on GPU. Will use CPU for metric computation, this could significantly affect learning time\n"
     ]
    },
    {
     "name": "stdout",
     "output_type": "stream",
     "text": [
      "0:\ttest: 0.6880816\tbest: 0.6880816 (0)\ttotal: 22.3ms\tremaining: 7m 25s\n"
     ]
    },
    {
     "name": "stderr",
     "output_type": "stream",
     "text": [
      "\u001b[32m[I 2023-01-16 19:58:33,936]\u001b[0m Trial 52 finished with value: 0.7949661590524535 and parameters: {'depth': 9, 'learning_rate': 0.07933878786352565, 'subsample': 0.3855197702836392, 'min_data_in_leaf': 12, 'l2_leaf_reg': 13, 'random_strength': 0.6493359552283585}. Best is trial 19 with value: 0.8710659898477158.\u001b[0m\n"
     ]
    },
    {
     "name": "stdout",
     "output_type": "stream",
     "text": [
      "bestTest = 0.7949661591\n",
      "bestIteration = 113\n",
      "Shrink model to first 114 iterations.\n"
     ]
    },
    {
     "name": "stderr",
     "output_type": "stream",
     "text": [
      "Default metric period is 5 because AUC is/are not implemented for GPU\n",
      "AUC is not implemented on GPU. Will use CPU for metric computation, this could significantly affect learning time\n"
     ]
    },
    {
     "name": "stdout",
     "output_type": "stream",
     "text": [
      "0:\ttest: 0.6137267\tbest: 0.6137267 (0)\ttotal: 10.6ms\tremaining: 3m 32s\n"
     ]
    },
    {
     "name": "stderr",
     "output_type": "stream",
     "text": [
      "\u001b[32m[I 2023-01-16 19:58:36,538]\u001b[0m Trial 53 finished with value: 0.7860194585448392 and parameters: {'depth': 6, 'learning_rate': 0.08786134258202895, 'subsample': 0.486192976820075, 'min_data_in_leaf': 5, 'l2_leaf_reg': 8, 'random_strength': 0.8914241595884288}. Best is trial 19 with value: 0.8710659898477158.\u001b[0m\n"
     ]
    },
    {
     "name": "stdout",
     "output_type": "stream",
     "text": [
      "bestTest = 0.7860194585\n",
      "bestIteration = 94\n",
      "Shrink model to first 95 iterations.\n"
     ]
    },
    {
     "name": "stderr",
     "output_type": "stream",
     "text": [
      "Default metric period is 5 because AUC is/are not implemented for GPU\n",
      "AUC is not implemented on GPU. Will use CPU for metric computation, this could significantly affect learning time\n"
     ]
    },
    {
     "name": "stdout",
     "output_type": "stream",
     "text": [
      "0:\ttest: 0.7030986\tbest: 0.7030986 (0)\ttotal: 9.59ms\tremaining: 3m 11s\n"
     ]
    },
    {
     "name": "stderr",
     "output_type": "stream",
     "text": [
      "\u001b[32m[I 2023-01-16 19:58:38,472]\u001b[0m Trial 54 finished with value: 0.7842851099830795 and parameters: {'depth': 6, 'learning_rate': 0.06344773540472493, 'subsample': 0.43958385487414287, 'min_data_in_leaf': 17, 'l2_leaf_reg': 14, 'random_strength': 0.5239109144259531}. Best is trial 19 with value: 0.8710659898477158.\u001b[0m\n"
     ]
    },
    {
     "name": "stdout",
     "output_type": "stream",
     "text": [
      "bestTest = 0.78428511\n",
      "bestIteration = 29\n",
      "Shrink model to first 30 iterations.\n"
     ]
    },
    {
     "name": "stderr",
     "output_type": "stream",
     "text": [
      "Default metric period is 5 because AUC is/are not implemented for GPU\n",
      "AUC is not implemented on GPU. Will use CPU for metric computation, this could significantly affect learning time\n"
     ]
    },
    {
     "name": "stdout",
     "output_type": "stream",
     "text": [
      "0:\ttest: 0.7247039\tbest: 0.7247039 (0)\ttotal: 7.58ms\tremaining: 2m 31s\n"
     ]
    },
    {
     "name": "stderr",
     "output_type": "stream",
     "text": [
      "\u001b[32m[I 2023-01-16 19:58:40,651]\u001b[0m Trial 55 finished with value: 0.8041032148900169 and parameters: {'depth': 3, 'learning_rate': 0.09283025329192536, 'subsample': 0.6468532890969063, 'min_data_in_leaf': 22, 'l2_leaf_reg': 15, 'random_strength': 0.8127578621326617}. Best is trial 19 with value: 0.8710659898477158.\u001b[0m\n"
     ]
    },
    {
     "name": "stdout",
     "output_type": "stream",
     "text": [
      "bestTest = 0.8041032149\n",
      "bestIteration = 101\n",
      "Shrink model to first 102 iterations.\n"
     ]
    },
    {
     "name": "stderr",
     "output_type": "stream",
     "text": [
      "Default metric period is 5 because AUC is/are not implemented for GPU\n",
      "AUC is not implemented on GPU. Will use CPU for metric computation, this could significantly affect learning time\n"
     ]
    },
    {
     "name": "stdout",
     "output_type": "stream",
     "text": [
      "0:\ttest: 0.6535321\tbest: 0.6535321 (0)\ttotal: 6.59ms\tremaining: 2m 11s\n"
     ]
    },
    {
     "name": "stderr",
     "output_type": "stream",
     "text": [
      "\u001b[32m[I 2023-01-16 19:58:43,597]\u001b[0m Trial 56 finished with value: 0.7934856175972926 and parameters: {'depth': 1, 'learning_rate': 0.07037794631825425, 'subsample': 0.5672709941784825, 'min_data_in_leaf': 53, 'l2_leaf_reg': 9, 'random_strength': 0.5682757543154813}. Best is trial 19 with value: 0.8710659898477158.\u001b[0m\n"
     ]
    },
    {
     "name": "stdout",
     "output_type": "stream",
     "text": [
      "bestTest = 0.7934856176\n",
      "bestIteration = 275\n",
      "Shrink model to first 276 iterations.\n"
     ]
    },
    {
     "name": "stderr",
     "output_type": "stream",
     "text": [
      "Default metric period is 5 because AUC is/are not implemented for GPU\n",
      "AUC is not implemented on GPU. Will use CPU for metric computation, this could significantly affect learning time\n"
     ]
    },
    {
     "name": "stdout",
     "output_type": "stream",
     "text": [
      "0:\ttest: 0.7388854\tbest: 0.7388854 (0)\ttotal: 11.2ms\tremaining: 3m 44s\n"
     ]
    },
    {
     "name": "stderr",
     "output_type": "stream",
     "text": [
      "\u001b[32m[I 2023-01-16 19:58:46,110]\u001b[0m Trial 57 finished with value: 0.8255922165820643 and parameters: {'depth': 7, 'learning_rate': 0.058697415257765215, 'subsample': 0.45197475277609295, 'min_data_in_leaf': 72, 'l2_leaf_reg': 12, 'random_strength': 0.45332736412894525}. Best is trial 19 with value: 0.8710659898477158.\u001b[0m\n"
     ]
    },
    {
     "name": "stdout",
     "output_type": "stream",
     "text": [
      "bestTest = 0.8255922166\n",
      "bestIteration = 57\n",
      "Shrink model to first 58 iterations.\n"
     ]
    },
    {
     "name": "stderr",
     "output_type": "stream",
     "text": [
      "Default metric period is 5 because AUC is/are not implemented for GPU\n",
      "AUC is not implemented on GPU. Will use CPU for metric computation, this could significantly affect learning time\n"
     ]
    },
    {
     "name": "stdout",
     "output_type": "stream",
     "text": [
      "0:\ttest: 0.7575402\tbest: 0.7575402 (0)\ttotal: 11.2ms\tremaining: 3m 44s\n"
     ]
    },
    {
     "name": "stderr",
     "output_type": "stream",
     "text": [
      "\u001b[32m[I 2023-01-16 19:58:48,627]\u001b[0m Trial 58 finished with value: 0.7892343485617597 and parameters: {'depth': 7, 'learning_rate': 0.0410709717126734, 'subsample': 0.32593963063099607, 'min_data_in_leaf': 13, 'l2_leaf_reg': 10, 'random_strength': 0.07565983832218337}. Best is trial 19 with value: 0.8710659898477158.\u001b[0m\n"
     ]
    },
    {
     "name": "stdout",
     "output_type": "stream",
     "text": [
      "bestTest = 0.7892343486\n",
      "bestIteration = 49\n",
      "Shrink model to first 50 iterations.\n"
     ]
    },
    {
     "name": "stderr",
     "output_type": "stream",
     "text": [
      "Default metric period is 5 because AUC is/are not implemented for GPU\n",
      "AUC is not implemented on GPU. Will use CPU for metric computation, this could significantly affect learning time\n"
     ]
    },
    {
     "name": "stdout",
     "output_type": "stream",
     "text": [
      "0:\ttest: 0.7385152\tbest: 0.7385152 (0)\ttotal: 9.9ms\tremaining: 3m 18s\n"
     ]
    },
    {
     "name": "stderr",
     "output_type": "stream",
     "text": [
      "\u001b[32m[I 2023-01-16 19:58:52,782]\u001b[0m Trial 59 finished with value: 0.8169839255499154 and parameters: {'depth': 5, 'learning_rate': 0.053167677031612806, 'subsample': 0.9269208474094471, 'min_data_in_leaf': 1, 'l2_leaf_reg': 16, 'random_strength': 0.005398451008059843}. Best is trial 19 with value: 0.8710659898477158.\u001b[0m\n"
     ]
    },
    {
     "name": "stdout",
     "output_type": "stream",
     "text": [
      "bestTest = 0.8169839255\n",
      "bestIteration = 286\n",
      "Shrink model to first 287 iterations.\n"
     ]
    },
    {
     "name": "stderr",
     "output_type": "stream",
     "text": [
      "Default metric period is 5 because AUC is/are not implemented for GPU\n",
      "AUC is not implemented on GPU. Will use CPU for metric computation, this could significantly affect learning time\n"
     ]
    },
    {
     "name": "stdout",
     "output_type": "stream",
     "text": [
      "0:\ttest: 0.7703151\tbest: 0.7703151 (0)\ttotal: 7.98ms\tremaining: 2m 39s\n"
     ]
    },
    {
     "name": "stderr",
     "output_type": "stream",
     "text": [
      "\u001b[32m[I 2023-01-16 19:58:55,676]\u001b[0m Trial 60 finished with value: 0.8233502538071066 and parameters: {'depth': 4, 'learning_rate': 0.047938175055659664, 'subsample': 0.5183119161870254, 'min_data_in_leaf': 47, 'l2_leaf_reg': 11, 'random_strength': 0.8449009574898445}. Best is trial 19 with value: 0.8710659898477158.\u001b[0m\n"
     ]
    },
    {
     "name": "stdout",
     "output_type": "stream",
     "text": [
      "bestTest = 0.8233502538\n",
      "bestIteration = 157\n",
      "Shrink model to first 158 iterations.\n"
     ]
    },
    {
     "name": "stderr",
     "output_type": "stream",
     "text": [
      "Default metric period is 5 because AUC is/are not implemented for GPU\n",
      "AUC is not implemented on GPU. Will use CPU for metric computation, this could significantly affect learning time\n"
     ]
    },
    {
     "name": "stdout",
     "output_type": "stream",
     "text": [
      "0:\ttest: 0.7297060\tbest: 0.7297060 (0)\ttotal: 7.5ms\tremaining: 2m 29s\n"
     ]
    },
    {
     "name": "stderr",
     "output_type": "stream",
     "text": [
      "\u001b[32m[I 2023-01-16 19:58:58,032]\u001b[0m Trial 61 finished with value: 0.8222292724196277 and parameters: {'depth': 2, 'learning_rate': 0.03771662268631175, 'subsample': 0.25276611445969255, 'min_data_in_leaf': 6, 'l2_leaf_reg': 10, 'random_strength': 0.7166554047666023}. Best is trial 19 with value: 0.8710659898477158.\u001b[0m\n"
     ]
    },
    {
     "name": "stdout",
     "output_type": "stream",
     "text": [
      "bestTest = 0.8222292724\n",
      "bestIteration = 131\n",
      "Shrink model to first 132 iterations.\n"
     ]
    },
    {
     "name": "stderr",
     "output_type": "stream",
     "text": [
      "Default metric period is 5 because AUC is/are not implemented for GPU\n",
      "AUC is not implemented on GPU. Will use CPU for metric computation, this could significantly affect learning time\n"
     ]
    },
    {
     "name": "stdout",
     "output_type": "stream",
     "text": [
      "0:\ttest: 0.7588938\tbest: 0.7588938 (0)\ttotal: 7.89ms\tremaining: 2m 37s\n"
     ]
    },
    {
     "name": "stderr",
     "output_type": "stream",
     "text": [
      "\u001b[32m[I 2023-01-16 19:59:00,779]\u001b[0m Trial 62 finished with value: 0.8446489001692048 and parameters: {'depth': 2, 'learning_rate': 0.049433602013681806, 'subsample': 0.27280387943291673, 'min_data_in_leaf': 29, 'l2_leaf_reg': 9, 'random_strength': 0.6083412328833523}. Best is trial 19 with value: 0.8710659898477158.\u001b[0m\n"
     ]
    },
    {
     "name": "stdout",
     "output_type": "stream",
     "text": [
      "bestTest = 0.8446489002\n",
      "bestIteration = 194\n",
      "Shrink model to first 195 iterations.\n"
     ]
    },
    {
     "name": "stderr",
     "output_type": "stream",
     "text": [
      "Default metric period is 5 because AUC is/are not implemented for GPU\n",
      "AUC is not implemented on GPU. Will use CPU for metric computation, this could significantly affect learning time\n"
     ]
    },
    {
     "name": "stdout",
     "output_type": "stream",
     "text": [
      "0:\ttest: 0.6942788\tbest: 0.6942788 (0)\ttotal: 6.49ms\tremaining: 2m 9s\n"
     ]
    },
    {
     "name": "stderr",
     "output_type": "stream",
     "text": [
      "\u001b[32m[I 2023-01-16 19:59:03,240]\u001b[0m Trial 63 finished with value: 0.8122673434856176 and parameters: {'depth': 1, 'learning_rate': 0.031904731540139314, 'subsample': 0.2116174101238651, 'min_data_in_leaf': 44, 'l2_leaf_reg': 7, 'random_strength': 0.644086080690373}. Best is trial 19 with value: 0.8710659898477158.\u001b[0m\n"
     ]
    },
    {
     "name": "stdout",
     "output_type": "stream",
     "text": [
      "bestTest = 0.8122673435\n",
      "bestIteration = 173\n",
      "Shrink model to first 174 iterations.\n"
     ]
    },
    {
     "name": "stderr",
     "output_type": "stream",
     "text": [
      "Default metric period is 5 because AUC is/are not implemented for GPU\n",
      "AUC is not implemented on GPU. Will use CPU for metric computation, this could significantly affect learning time\n"
     ]
    },
    {
     "name": "stdout",
     "output_type": "stream",
     "text": [
      "0:\ttest: 0.7124471\tbest: 0.7124471 (0)\ttotal: 7.91ms\tremaining: 2m 38s\n"
     ]
    },
    {
     "name": "stderr",
     "output_type": "stream",
     "text": [
      "\u001b[32m[I 2023-01-16 19:59:06,973]\u001b[0m Trial 64 finished with value: 0.7964043993231811 and parameters: {'depth': 2, 'learning_rate': 0.07527839510400179, 'subsample': 0.3500758243037522, 'min_data_in_leaf': 33, 'l2_leaf_reg': 8, 'random_strength': 0.5791765203437473}. Best is trial 19 with value: 0.8710659898477158.\u001b[0m\n"
     ]
    },
    {
     "name": "stdout",
     "output_type": "stream",
     "text": [
      "bestTest = 0.7964043993\n",
      "bestIteration = 334\n",
      "Shrink model to first 335 iterations.\n"
     ]
    },
    {
     "name": "stderr",
     "output_type": "stream",
     "text": [
      "Default metric period is 5 because AUC is/are not implemented for GPU\n",
      "AUC is not implemented on GPU. Will use CPU for metric computation, this could significantly affect learning time\n"
     ]
    },
    {
     "name": "stdout",
     "output_type": "stream",
     "text": [
      "0:\ttest: 0.6746827\tbest: 0.6746827 (0)\ttotal: 6.58ms\tremaining: 2m 11s\n"
     ]
    },
    {
     "name": "stderr",
     "output_type": "stream",
     "text": [
      "\u001b[32m[I 2023-01-16 19:59:12,323]\u001b[0m Trial 65 finished with value: 0.819225888324873 and parameters: {'depth': 1, 'learning_rate': 0.05141363918003602, 'subsample': 0.27899040018372145, 'min_data_in_leaf': 100, 'l2_leaf_reg': 9, 'random_strength': 0.4709299258186873}. Best is trial 19 with value: 0.8710659898477158.\u001b[0m\n"
     ]
    },
    {
     "name": "stdout",
     "output_type": "stream",
     "text": [
      "bestTest = 0.8192258883\n",
      "bestIteration = 647\n",
      "Shrink model to first 648 iterations.\n"
     ]
    },
    {
     "name": "stderr",
     "output_type": "stream",
     "text": [
      "Default metric period is 5 because AUC is/are not implemented for GPU\n",
      "AUC is not implemented on GPU. Will use CPU for metric computation, this could significantly affect learning time\n"
     ]
    },
    {
     "name": "stdout",
     "output_type": "stream",
     "text": [
      "0:\ttest: 0.7847927\tbest: 0.7847927 (0)\ttotal: 15.7ms\tremaining: 5m 14s\n"
     ]
    },
    {
     "name": "stderr",
     "output_type": "stream",
     "text": [
      "\u001b[32m[I 2023-01-16 19:59:15,297]\u001b[0m Trial 66 finished with value: 0.832233502538071 and parameters: {'depth': 8, 'learning_rate': 0.042014919939440155, 'subsample': 0.6719255046402512, 'min_data_in_leaf': 86, 'l2_leaf_reg': 3, 'random_strength': 0.7833137269774985}. Best is trial 19 with value: 0.8710659898477158.\u001b[0m\n"
     ]
    },
    {
     "name": "stdout",
     "output_type": "stream",
     "text": [
      "bestTest = 0.8322335025\n",
      "bestIteration = 64\n",
      "Shrink model to first 65 iterations.\n"
     ]
    },
    {
     "name": "stderr",
     "output_type": "stream",
     "text": [
      "Default metric period is 5 because AUC is/are not implemented for GPU\n",
      "AUC is not implemented on GPU. Will use CPU for metric computation, this could significantly affect learning time\n"
     ]
    },
    {
     "name": "stdout",
     "output_type": "stream",
     "text": [
      "0:\ttest: 0.7129653\tbest: 0.7129653 (0)\ttotal: 7.32ms\tremaining: 2m 26s\n"
     ]
    },
    {
     "name": "stderr",
     "output_type": "stream",
     "text": [
      "\u001b[32m[I 2023-01-16 19:59:17,605]\u001b[0m Trial 67 finished with value: 0.7980964467005076 and parameters: {'depth': 3, 'learning_rate': 0.05630155537789189, 'subsample': 0.40484184703360393, 'min_data_in_leaf': 39, 'l2_leaf_reg': 19, 'random_strength': 0.5142872137638999}. Best is trial 19 with value: 0.8710659898477158.\u001b[0m\n"
     ]
    },
    {
     "name": "stdout",
     "output_type": "stream",
     "text": [
      "bestTest = 0.7980964467\n",
      "bestIteration = 115\n",
      "Shrink model to first 116 iterations.\n"
     ]
    },
    {
     "name": "stderr",
     "output_type": "stream",
     "text": [
      "Default metric period is 5 because AUC is/are not implemented for GPU\n",
      "AUC is not implemented on GPU. Will use CPU for metric computation, this could significantly affect learning time\n"
     ]
    },
    {
     "name": "stdout",
     "output_type": "stream",
     "text": [
      "0:\ttest: 0.7474302\tbest: 0.7474302 (0)\ttotal: 6.91ms\tremaining: 2m 18s\n"
     ]
    },
    {
     "name": "stderr",
     "output_type": "stream",
     "text": [
      "\u001b[32m[I 2023-01-16 19:59:20,216]\u001b[0m Trial 68 finished with value: 0.8362309644670051 and parameters: {'depth': 2, 'learning_rate': 0.0684568252532582, 'subsample': 0.1570745559180678, 'min_data_in_leaf': 27, 'l2_leaf_reg': 11, 'random_strength': 0.23641307248221038}. Best is trial 19 with value: 0.8710659898477158.\u001b[0m\n"
     ]
    },
    {
     "name": "stdout",
     "output_type": "stream",
     "text": [
      "bestTest = 0.8362309645\n",
      "bestIteration = 171\n",
      "Shrink model to first 172 iterations.\n"
     ]
    },
    {
     "name": "stderr",
     "output_type": "stream",
     "text": [
      "Default metric period is 5 because AUC is/are not implemented for GPU\n",
      "AUC is not implemented on GPU. Will use CPU for metric computation, this could significantly affect learning time\n"
     ]
    },
    {
     "name": "stdout",
     "output_type": "stream",
     "text": [
      "0:\ttest: 0.6658947\tbest: 0.6658947 (0)\ttotal: 9.26ms\tremaining: 3m 5s\n"
     ]
    },
    {
     "name": "stderr",
     "output_type": "stream",
     "text": [
      "\u001b[32m[I 2023-01-16 19:59:24,283]\u001b[0m Trial 69 finished with value: 0.8195431472081218 and parameters: {'depth': 1, 'learning_rate': 0.04771178029027594, 'subsample': 0.9740212282938906, 'min_data_in_leaf': 67, 'l2_leaf_reg': 13, 'random_strength': 0.5510521458596962}. Best is trial 19 with value: 0.8710659898477158.\u001b[0m\n"
     ]
    },
    {
     "name": "stdout",
     "output_type": "stream",
     "text": [
      "bestTest = 0.8195431472\n",
      "bestIteration = 418\n",
      "Shrink model to first 419 iterations.\n"
     ]
    },
    {
     "name": "stderr",
     "output_type": "stream",
     "text": [
      "Default metric period is 5 because AUC is/are not implemented for GPU\n",
      "AUC is not implemented on GPU. Will use CPU for metric computation, this could significantly affect learning time\n"
     ]
    },
    {
     "name": "stdout",
     "output_type": "stream",
     "text": [
      "0:\ttest: 0.7531726\tbest: 0.7531726 (0)\ttotal: 10.9ms\tremaining: 3m 38s\n"
     ]
    },
    {
     "name": "stderr",
     "output_type": "stream",
     "text": [
      "\u001b[32m[I 2023-01-16 19:59:27,508]\u001b[0m Trial 70 finished with value: 0.8480118443316412 and parameters: {'depth': 6, 'learning_rate': 0.06243732459378862, 'subsample': 0.5886702007855316, 'min_data_in_leaf': 24, 'l2_leaf_reg': 5, 'random_strength': 0.3133292565257329}. Best is trial 19 with value: 0.8710659898477158.\u001b[0m\n"
     ]
    },
    {
     "name": "stdout",
     "output_type": "stream",
     "text": [
      "bestTest = 0.8480118443\n",
      "bestIteration = 147\n",
      "Shrink model to first 148 iterations.\n"
     ]
    },
    {
     "name": "stderr",
     "output_type": "stream",
     "text": [
      "Default metric period is 5 because AUC is/are not implemented for GPU\n",
      "AUC is not implemented on GPU. Will use CPU for metric computation, this could significantly affect learning time\n"
     ]
    },
    {
     "name": "stdout",
     "output_type": "stream",
     "text": [
      "0:\ttest: 0.7587881\tbest: 0.7587881 (0)\ttotal: 9.72ms\tremaining: 3m 14s\n"
     ]
    },
    {
     "name": "stderr",
     "output_type": "stream",
     "text": [
      "\u001b[32m[I 2023-01-16 19:59:29,671]\u001b[0m Trial 71 finished with value: 0.8091159052453469 and parameters: {'depth': 6, 'learning_rate': 0.061823796076201774, 'subsample': 0.5845567212790015, 'min_data_in_leaf': 21, 'l2_leaf_reg': 5, 'random_strength': 0.31445501822049343}. Best is trial 19 with value: 0.8710659898477158.\u001b[0m\n"
     ]
    },
    {
     "name": "stdout",
     "output_type": "stream",
     "text": [
      "bestTest = 0.8091159052\n",
      "bestIteration = 46\n",
      "Shrink model to first 47 iterations.\n"
     ]
    },
    {
     "name": "stderr",
     "output_type": "stream",
     "text": [
      "Default metric period is 5 because AUC is/are not implemented for GPU\n",
      "AUC is not implemented on GPU. Will use CPU for metric computation, this could significantly affect learning time\n"
     ]
    },
    {
     "name": "stdout",
     "output_type": "stream",
     "text": [
      "0:\ttest: 0.7867915\tbest: 0.7867915 (0)\ttotal: 10.1ms\tremaining: 3m 21s\n"
     ]
    },
    {
     "name": "stderr",
     "output_type": "stream",
     "text": [
      "\u001b[32m[I 2023-01-16 19:59:32,406]\u001b[0m Trial 72 finished with value: 0.8383248730964468 and parameters: {'depth': 6, 'learning_rate': 0.053246646972750646, 'subsample': 0.5414968599430748, 'min_data_in_leaf': 10, 'l2_leaf_reg': 6, 'random_strength': 0.41919034438052327}. Best is trial 19 with value: 0.8710659898477158.\u001b[0m\n"
     ]
    },
    {
     "name": "stdout",
     "output_type": "stream",
     "text": [
      "bestTest = 0.8383248731\n",
      "bestIteration = 97\n",
      "Shrink model to first 98 iterations.\n"
     ]
    },
    {
     "name": "stderr",
     "output_type": "stream",
     "text": [
      "Default metric period is 5 because AUC is/are not implemented for GPU\n",
      "AUC is not implemented on GPU. Will use CPU for metric computation, this could significantly affect learning time\n"
     ]
    },
    {
     "name": "stdout",
     "output_type": "stream",
     "text": [
      "0:\ttest: 0.6923223\tbest: 0.6923223 (0)\ttotal: 10.7ms\tremaining: 3m 33s\n"
     ]
    },
    {
     "name": "stderr",
     "output_type": "stream",
     "text": [
      "\u001b[32m[I 2023-01-16 19:59:34,590]\u001b[0m Trial 73 finished with value: 0.7412859560067682 and parameters: {'depth': 5, 'learning_rate': 0.08389763124127059, 'subsample': 0.7494846440088925, 'min_data_in_leaf': 14, 'l2_leaf_reg': 2, 'random_strength': 0.37292272911785845}. Best is trial 19 with value: 0.8710659898477158.\u001b[0m\n"
     ]
    },
    {
     "name": "stdout",
     "output_type": "stream",
     "text": [
      "bestTest = 0.741285956\n",
      "bestIteration = 60\n",
      "Shrink model to first 61 iterations.\n"
     ]
    },
    {
     "name": "stderr",
     "output_type": "stream",
     "text": [
      "Default metric period is 5 because AUC is/are not implemented for GPU\n",
      "AUC is not implemented on GPU. Will use CPU for metric computation, this could significantly affect learning time\n"
     ]
    },
    {
     "name": "stdout",
     "output_type": "stream",
     "text": [
      "0:\ttest: 0.7669945\tbest: 0.7669945 (0)\ttotal: 9.43ms\tremaining: 3m 8s\n"
     ]
    },
    {
     "name": "stderr",
     "output_type": "stream",
     "text": [
      "\u001b[32m[I 2023-01-16 19:59:37,092]\u001b[0m Trial 74 finished with value: 0.8308587140439933 and parameters: {'depth': 6, 'learning_rate': 0.059201437924381144, 'subsample': 0.8464406195107987, 'min_data_in_leaf': 24, 'l2_leaf_reg': 4, 'random_strength': 0.24267432051180268}. Best is trial 19 with value: 0.8710659898477158.\u001b[0m\n"
     ]
    },
    {
     "name": "stdout",
     "output_type": "stream",
     "text": [
      "bestTest = 0.830858714\n",
      "bestIteration = 77\n",
      "Shrink model to first 78 iterations.\n"
     ]
    },
    {
     "name": "stderr",
     "output_type": "stream",
     "text": [
      "Default metric period is 5 because AUC is/are not implemented for GPU\n",
      "AUC is not implemented on GPU. Will use CPU for metric computation, this could significantly affect learning time\n"
     ]
    },
    {
     "name": "stdout",
     "output_type": "stream",
     "text": [
      "0:\ttest: 0.7040398\tbest: 0.7040398 (0)\ttotal: 12.4ms\tremaining: 4m 8s\n"
     ]
    },
    {
     "name": "stderr",
     "output_type": "stream",
     "text": [
      "\u001b[32m[I 2023-01-16 19:59:39,827]\u001b[0m Trial 75 finished with value: 0.8080160744500846 and parameters: {'depth': 7, 'learning_rate': 0.07190340003572551, 'subsample': 0.6093718163252756, 'min_data_in_leaf': 33, 'l2_leaf_reg': 7, 'random_strength': 0.3427580282125809}. Best is trial 19 with value: 0.8710659898477158.\u001b[0m\n"
     ]
    },
    {
     "name": "stdout",
     "output_type": "stream",
     "text": [
      "bestTest = 0.8080160745\n",
      "bestIteration = 72\n",
      "Shrink model to first 73 iterations.\n"
     ]
    },
    {
     "name": "stderr",
     "output_type": "stream",
     "text": [
      "Default metric period is 5 because AUC is/are not implemented for GPU\n",
      "AUC is not implemented on GPU. Will use CPU for metric computation, this could significantly affect learning time\n"
     ]
    },
    {
     "name": "stdout",
     "output_type": "stream",
     "text": [
      "0:\ttest: 0.7997673\tbest: 0.7997673 (0)\ttotal: 7.68ms\tremaining: 2m 33s\n"
     ]
    },
    {
     "name": "stderr",
     "output_type": "stream",
     "text": [
      "\u001b[32m[I 2023-01-16 19:59:41,564]\u001b[0m Trial 76 finished with value: 0.848403130287648 and parameters: {'depth': 3, 'learning_rate': 0.04450111348808085, 'subsample': 0.8834042063316864, 'min_data_in_leaf': 31, 'l2_leaf_reg': 9, 'random_strength': 0.1359249395797476}. Best is trial 19 with value: 0.8710659898477158.\u001b[0m\n"
     ]
    },
    {
     "name": "stdout",
     "output_type": "stream",
     "text": [
      "bestTest = 0.8484031303\n",
      "bestIteration = 37\n",
      "Shrink model to first 38 iterations.\n"
     ]
    },
    {
     "name": "stderr",
     "output_type": "stream",
     "text": [
      "Default metric period is 5 because AUC is/are not implemented for GPU\n",
      "AUC is not implemented on GPU. Will use CPU for metric computation, this could significantly affect learning time\n"
     ]
    },
    {
     "name": "stdout",
     "output_type": "stream",
     "text": [
      "0:\ttest: 0.7480647\tbest: 0.7480647 (0)\ttotal: 7.12ms\tremaining: 2m 22s\n"
     ]
    },
    {
     "name": "stderr",
     "output_type": "stream",
     "text": [
      "\u001b[32m[I 2023-01-16 19:59:44,801]\u001b[0m Trial 77 finished with value: 0.8214255499153976 and parameters: {'depth': 3, 'learning_rate': 0.044527297615579074, 'subsample': 0.8937100224819118, 'min_data_in_leaf': 29, 'l2_leaf_reg': 5, 'random_strength': 0.12751537517565814}. Best is trial 19 with value: 0.8710659898477158.\u001b[0m\n"
     ]
    },
    {
     "name": "stdout",
     "output_type": "stream",
     "text": [
      "bestTest = 0.8214255499\n",
      "bestIteration = 238\n",
      "Shrink model to first 239 iterations.\n"
     ]
    },
    {
     "name": "stderr",
     "output_type": "stream",
     "text": [
      "Default metric period is 5 because AUC is/are not implemented for GPU\n",
      "AUC is not implemented on GPU. Will use CPU for metric computation, this could significantly affect learning time\n"
     ]
    },
    {
     "name": "stdout",
     "output_type": "stream",
     "text": [
      "0:\ttest: 0.7206853\tbest: 0.7206853 (0)\ttotal: 7.88ms\tremaining: 2m 37s\n"
     ]
    },
    {
     "name": "stderr",
     "output_type": "stream",
     "text": [
      "\u001b[32m[I 2023-01-16 19:59:47,337]\u001b[0m Trial 78 finished with value: 0.7903130287648055 and parameters: {'depth': 4, 'learning_rate': 0.03717860058513377, 'subsample': 0.7955304828087839, 'min_data_in_leaf': 37, 'l2_leaf_reg': 8, 'random_strength': 0.19682415848482718}. Best is trial 19 with value: 0.8710659898477158.\u001b[0m\n"
     ]
    },
    {
     "name": "stdout",
     "output_type": "stream",
     "text": [
      "bestTest = 0.7903130288\n",
      "bestIteration = 128\n",
      "Shrink model to first 129 iterations.\n"
     ]
    },
    {
     "name": "stderr",
     "output_type": "stream",
     "text": [
      "Default metric period is 5 because AUC is/are not implemented for GPU\n",
      "AUC is not implemented on GPU. Will use CPU for metric computation, this could significantly affect learning time\n"
     ]
    },
    {
     "name": "stdout",
     "output_type": "stream",
     "text": [
      "0:\ttest: 0.7229590\tbest: 0.7229590 (0)\ttotal: 7.46ms\tremaining: 2m 29s\n"
     ]
    },
    {
     "name": "stderr",
     "output_type": "stream",
     "text": [
      "\u001b[32m[I 2023-01-16 19:59:51,004]\u001b[0m Trial 79 finished with value: 0.8053722504230119 and parameters: {'depth': 3, 'learning_rate': 0.04928563260076682, 'subsample': 0.9144525259280581, 'min_data_in_leaf': 90, 'l2_leaf_reg': 9, 'random_strength': 0.10392001003677037}. Best is trial 19 with value: 0.8710659898477158.\u001b[0m\n"
     ]
    },
    {
     "name": "stdout",
     "output_type": "stream",
     "text": [
      "bestTest = 0.8053722504\n",
      "bestIteration = 294\n",
      "Shrink model to first 295 iterations.\n"
     ]
    },
    {
     "name": "stderr",
     "output_type": "stream",
     "text": [
      "Default metric period is 5 because AUC is/are not implemented for GPU\n",
      "AUC is not implemented on GPU. Will use CPU for metric computation, this could significantly affect learning time\n"
     ]
    },
    {
     "name": "stdout",
     "output_type": "stream",
     "text": [
      "0:\ttest: 0.7162965\tbest: 0.7162965 (0)\ttotal: 7.26ms\tremaining: 2m 25s\n"
     ]
    },
    {
     "name": "stderr",
     "output_type": "stream",
     "text": [
      "\u001b[32m[I 2023-01-16 19:59:53,377]\u001b[0m Trial 80 finished with value: 0.7976945854483927 and parameters: {'depth': 2, 'learning_rate': 0.05493263500228583, 'subsample': 0.9783969508070955, 'min_data_in_leaf': 46, 'l2_leaf_reg': 6, 'random_strength': 0.1819569551923575}. Best is trial 19 with value: 0.8710659898477158.\u001b[0m\n"
     ]
    },
    {
     "name": "stdout",
     "output_type": "stream",
     "text": [
      "bestTest = 0.7976945854\n",
      "bestIteration = 135\n",
      "Shrink model to first 136 iterations.\n"
     ]
    },
    {
     "name": "stderr",
     "output_type": "stream",
     "text": [
      "Default metric period is 5 because AUC is/are not implemented for GPU\n",
      "AUC is not implemented on GPU. Will use CPU for metric computation, this could significantly affect learning time\n"
     ]
    },
    {
     "name": "stdout",
     "output_type": "stream",
     "text": [
      "0:\ttest: 0.7399852\tbest: 0.7399852 (0)\ttotal: 9.09ms\tremaining: 3m 1s\n"
     ]
    },
    {
     "name": "stderr",
     "output_type": "stream",
     "text": [
      "\u001b[32m[I 2023-01-16 19:59:57,527]\u001b[0m Trial 81 finished with value: 0.8134940778341793 and parameters: {'depth': 5, 'learning_rate': 0.0447887151916411, 'subsample': 0.9466380184009093, 'min_data_in_leaf': 19, 'l2_leaf_reg': 10, 'random_strength': 0.15155399422742377}. Best is trial 19 with value: 0.8710659898477158.\u001b[0m\n"
     ]
    },
    {
     "name": "stdout",
     "output_type": "stream",
     "text": [
      "bestTest = 0.8134940778\n",
      "bestIteration = 276\n",
      "Shrink model to first 277 iterations.\n"
     ]
    },
    {
     "name": "stderr",
     "output_type": "stream",
     "text": [
      "Default metric period is 5 because AUC is/are not implemented for GPU\n",
      "AUC is not implemented on GPU. Will use CPU for metric computation, this could significantly affect learning time\n"
     ]
    },
    {
     "name": "stdout",
     "output_type": "stream",
     "text": [
      "0:\ttest: 0.7225465\tbest: 0.7225465 (0)\ttotal: 6.64ms\tremaining: 2m 12s\n"
     ]
    },
    {
     "name": "stderr",
     "output_type": "stream",
     "text": [
      "\u001b[32m[I 2023-01-16 20:00:02,034]\u001b[0m Trial 82 finished with value: 0.8224830795262268 and parameters: {'depth': 2, 'learning_rate': 0.04158300555944845, 'subsample': 0.8751926026622566, 'min_data_in_leaf': 42, 'l2_leaf_reg': 9, 'random_strength': 0.29939600945063755}. Best is trial 19 with value: 0.8710659898477158.\u001b[0m\n"
     ]
    },
    {
     "name": "stdout",
     "output_type": "stream",
     "text": [
      "bestTest = 0.8224830795\n",
      "bestIteration = 455\n",
      "Shrink model to first 456 iterations.\n"
     ]
    },
    {
     "name": "stderr",
     "output_type": "stream",
     "text": [
      "Default metric period is 5 because AUC is/are not implemented for GPU\n",
      "AUC is not implemented on GPU. Will use CPU for metric computation, this could significantly affect learning time\n"
     ]
    },
    {
     "name": "stdout",
     "output_type": "stream",
     "text": [
      "0:\ttest: 0.7636739\tbest: 0.7636739 (0)\ttotal: 9.51ms\tremaining: 3m 10s\n"
     ]
    },
    {
     "name": "stderr",
     "output_type": "stream",
     "text": [
      "\u001b[32m[I 2023-01-16 20:00:04,542]\u001b[0m Trial 83 finished with value: 0.8287648054145517 and parameters: {'depth': 6, 'learning_rate': 0.07890184354306112, 'subsample': 0.4571776909818214, 'min_data_in_leaf': 30, 'l2_leaf_reg': 8, 'random_strength': 0.44128746828498205}. Best is trial 19 with value: 0.8710659898477158.\u001b[0m\n"
     ]
    },
    {
     "name": "stdout",
     "output_type": "stream",
     "text": [
      "bestTest = 0.8287648054\n",
      "bestIteration = 82\n",
      "Shrink model to first 83 iterations.\n"
     ]
    },
    {
     "name": "stderr",
     "output_type": "stream",
     "text": [
      "Default metric period is 5 because AUC is/are not implemented for GPU\n",
      "AUC is not implemented on GPU. Will use CPU for metric computation, this could significantly affect learning time\n"
     ]
    },
    {
     "name": "stdout",
     "output_type": "stream",
     "text": [
      "0:\ttest: 0.7787437\tbest: 0.7787437 (0)\ttotal: 7.5ms\tremaining: 2m 29s\n"
     ]
    },
    {
     "name": "stderr",
     "output_type": "stream",
     "text": [
      "\u001b[32m[I 2023-01-16 20:00:06,493]\u001b[0m Trial 84 finished with value: 0.836516497461929 and parameters: {'depth': 3, 'learning_rate': 0.04671006900257081, 'subsample': 0.7710033571725067, 'min_data_in_leaf': 25, 'l2_leaf_reg': 7, 'random_strength': 0.09104524491609807}. Best is trial 19 with value: 0.8710659898477158.\u001b[0m\n"
     ]
    },
    {
     "name": "stdout",
     "output_type": "stream",
     "text": [
      "bestTest = 0.8365164975\n",
      "bestIteration = 62\n",
      "Shrink model to first 63 iterations.\n"
     ]
    },
    {
     "name": "stderr",
     "output_type": "stream",
     "text": [
      "Default metric period is 5 because AUC is/are not implemented for GPU\n",
      "AUC is not implemented on GPU. Will use CPU for metric computation, this could significantly affect learning time\n"
     ]
    },
    {
     "name": "stdout",
     "output_type": "stream",
     "text": [
      "0:\ttest: 0.7050867\tbest: 0.7050867 (0)\ttotal: 6.17ms\tremaining: 2m 3s\n"
     ]
    },
    {
     "name": "stderr",
     "output_type": "stream",
     "text": [
      "\u001b[32m[I 2023-01-16 20:00:09,045]\u001b[0m Trial 85 finished with value: 0.8285956006768189 and parameters: {'depth': 1, 'learning_rate': 0.06516933372266281, 'subsample': 0.5114716071563483, 'min_data_in_leaf': 97, 'l2_leaf_reg': 18, 'random_strength': 0.14113822859156955}. Best is trial 19 with value: 0.8710659898477158.\u001b[0m\n"
     ]
    },
    {
     "name": "stdout",
     "output_type": "stream",
     "text": [
      "bestTest = 0.8285956007\n",
      "bestIteration = 184\n",
      "Shrink model to first 185 iterations.\n"
     ]
    },
    {
     "name": "stderr",
     "output_type": "stream",
     "text": [
      "Default metric period is 5 because AUC is/are not implemented for GPU\n",
      "AUC is not implemented on GPU. Will use CPU for metric computation, this could significantly affect learning time\n"
     ]
    },
    {
     "name": "stdout",
     "output_type": "stream",
     "text": [
      "0:\ttest: 0.7344649\tbest: 0.7344649 (0)\ttotal: 9.43ms\tremaining: 3m 8s\n"
     ]
    },
    {
     "name": "stderr",
     "output_type": "stream",
     "text": [
      "\u001b[32m[I 2023-01-16 20:00:11,591]\u001b[0m Trial 86 finished with value: 0.8125846023688663 and parameters: {'depth': 4, 'learning_rate': 0.051532260030661796, 'subsample': 0.8364979607264444, 'min_data_in_leaf': 31, 'l2_leaf_reg': 12, 'random_strength': 0.22002211406657726}. Best is trial 19 with value: 0.8710659898477158.\u001b[0m\n"
     ]
    },
    {
     "name": "stdout",
     "output_type": "stream",
     "text": [
      "bestTest = 0.8125846024\n",
      "bestIteration = 128\n",
      "Shrink model to first 129 iterations.\n"
     ]
    },
    {
     "name": "stderr",
     "output_type": "stream",
     "text": [
      "Default metric period is 5 because AUC is/are not implemented for GPU\n",
      "AUC is not implemented on GPU. Will use CPU for metric computation, this could significantly affect learning time\n"
     ]
    },
    {
     "name": "stdout",
     "output_type": "stream",
     "text": [
      "0:\ttest: 0.7263431\tbest: 0.7263431 (0)\ttotal: 8.99ms\tremaining: 2m 59s\n"
     ]
    },
    {
     "name": "stderr",
     "output_type": "stream",
     "text": [
      "\u001b[32m[I 2023-01-16 20:00:13,811]\u001b[0m Trial 87 finished with value: 0.8381979695431472 and parameters: {'depth': 5, 'learning_rate': 0.08964092641014398, 'subsample': 0.8806944455107454, 'min_data_in_leaf': 5, 'l2_leaf_reg': 11, 'random_strength': 0.3893986828343828}. Best is trial 19 with value: 0.8710659898477158.\u001b[0m\n"
     ]
    },
    {
     "name": "stdout",
     "output_type": "stream",
     "text": [
      "bestTest = 0.8381979695\n",
      "bestIteration = 72\n",
      "Shrink model to first 73 iterations.\n"
     ]
    },
    {
     "name": "stderr",
     "output_type": "stream",
     "text": [
      "Default metric period is 5 because AUC is/are not implemented for GPU\n",
      "AUC is not implemented on GPU. Will use CPU for metric computation, this could significantly affect learning time\n"
     ]
    },
    {
     "name": "stdout",
     "output_type": "stream",
     "text": [
      "0:\ttest: 0.7622779\tbest: 0.7622779 (0)\ttotal: 11.4ms\tremaining: 3m 47s\n"
     ]
    },
    {
     "name": "stderr",
     "output_type": "stream",
     "text": [
      "\u001b[32m[I 2023-01-16 20:00:18,502]\u001b[0m Trial 88 finished with value: 0.8161379018612521 and parameters: {'depth': 7, 'learning_rate': 0.057388313756916595, 'subsample': 0.9398937657313337, 'min_data_in_leaf': 53, 'l2_leaf_reg': 9, 'random_strength': 0.6052366444246442}. Best is trial 19 with value: 0.8710659898477158.\u001b[0m\n"
     ]
    },
    {
     "name": "stdout",
     "output_type": "stream",
     "text": [
      "bestTest = 0.8161379019\n",
      "bestIteration = 248\n",
      "Shrink model to first 249 iterations.\n"
     ]
    },
    {
     "name": "stderr",
     "output_type": "stream",
     "text": [
      "Default metric period is 5 because AUC is/are not implemented for GPU\n",
      "AUC is not implemented on GPU. Will use CPU for metric computation, this could significantly affect learning time\n"
     ]
    },
    {
     "name": "stdout",
     "output_type": "stream",
     "text": [
      "0:\ttest: 0.7797695\tbest: 0.7797695 (0)\ttotal: 10.6ms\tremaining: 3m 31s\n"
     ]
    },
    {
     "name": "stderr",
     "output_type": "stream",
     "text": [
      "\u001b[32m[I 2023-01-16 20:00:22,235]\u001b[0m Trial 89 finished with value: 0.839678510998308 and parameters: {'depth': 6, 'learning_rate': 0.032289701293326895, 'subsample': 0.6752502170950049, 'min_data_in_leaf': 76, 'l2_leaf_reg': 10, 'random_strength': 0.48408267050092446}. Best is trial 19 with value: 0.8710659898477158.\u001b[0m\n"
     ]
    },
    {
     "name": "stdout",
     "output_type": "stream",
     "text": [
      "bestTest = 0.839678511\n",
      "bestIteration = 205\n",
      "Shrink model to first 206 iterations.\n"
     ]
    },
    {
     "name": "stderr",
     "output_type": "stream",
     "text": [
      "Default metric period is 5 because AUC is/are not implemented for GPU\n",
      "AUC is not implemented on GPU. Will use CPU for metric computation, this could significantly affect learning time\n"
     ]
    },
    {
     "name": "stdout",
     "output_type": "stream",
     "text": [
      "0:\ttest: 0.7053617\tbest: 0.7053617 (0)\ttotal: 7.63ms\tremaining: 2m 32s\n"
     ]
    },
    {
     "name": "stderr",
     "output_type": "stream",
     "text": [
      "\u001b[32m[I 2023-01-16 20:00:26,057]\u001b[0m Trial 90 finished with value: 0.8035850253807106 and parameters: {'depth': 2, 'learning_rate': 0.035496130315943605, 'subsample': 0.6341206859740199, 'min_data_in_leaf': 40, 'l2_leaf_reg': 10, 'random_strength': 0.04272828189874145}. Best is trial 19 with value: 0.8710659898477158.\u001b[0m\n"
     ]
    },
    {
     "name": "stdout",
     "output_type": "stream",
     "text": [
      "bestTest = 0.8035850254\n",
      "bestIteration = 363\n",
      "Shrink model to first 364 iterations.\n"
     ]
    },
    {
     "name": "stderr",
     "output_type": "stream",
     "text": [
      "Default metric period is 5 because AUC is/are not implemented for GPU\n",
      "AUC is not implemented on GPU. Will use CPU for metric computation, this could significantly affect learning time\n"
     ]
    },
    {
     "name": "stdout",
     "output_type": "stream",
     "text": [
      "0:\ttest: 0.7612415\tbest: 0.7612415 (0)\ttotal: 11ms\tremaining: 3m 39s\n"
     ]
    },
    {
     "name": "stderr",
     "output_type": "stream",
     "text": [
      "\u001b[32m[I 2023-01-16 20:00:28,049]\u001b[0m Trial 91 finished with value: 0.8209390862944163 and parameters: {'depth': 6, 'learning_rate': 0.029550787105455306, 'subsample': 0.5692783368982696, 'min_data_in_leaf': 76, 'l2_leaf_reg': 10, 'random_strength': 0.46586905418188423}. Best is trial 19 with value: 0.8710659898477158.\u001b[0m\n"
     ]
    },
    {
     "name": "stdout",
     "output_type": "stream",
     "text": [
      "bestTest = 0.8209390863\n",
      "bestIteration = 27\n",
      "Shrink model to first 28 iterations.\n"
     ]
    },
    {
     "name": "stderr",
     "output_type": "stream",
     "text": [
      "Default metric period is 5 because AUC is/are not implemented for GPU\n",
      "AUC is not implemented on GPU. Will use CPU for metric computation, this could significantly affect learning time\n"
     ]
    },
    {
     "name": "stdout",
     "output_type": "stream",
     "text": [
      "0:\ttest: 0.7670051\tbest: 0.7670051 (0)\ttotal: 9.58ms\tremaining: 3m 11s\n"
     ]
    },
    {
     "name": "stderr",
     "output_type": "stream",
     "text": [
      "\u001b[32m[I 2023-01-16 20:00:31,961]\u001b[0m Trial 92 finished with value: 0.8251057529610828 and parameters: {'depth': 5, 'learning_rate': 0.033161224481835005, 'subsample': 0.6854547990171396, 'min_data_in_leaf': 81, 'l2_leaf_reg': 11, 'random_strength': 0.48625177121899826}. Best is trial 19 with value: 0.8710659898477158.\u001b[0m\n"
     ]
    },
    {
     "name": "stdout",
     "output_type": "stream",
     "text": [
      "bestTest = 0.825105753\n",
      "bestIteration = 265\n",
      "Shrink model to first 266 iterations.\n"
     ]
    }
   ],
   "source": [
    "cat_ranks = {}\n",
    "\n",
    "train_time = 1 * 60 * 60\n",
    "study = optuna.create_study(direction='maximize', sampler=TPESampler(), study_name='CATRegressor')\n",
    "study.optimize(cat_objective, timeout=train_time)\n",
    "\n"
   ]
  },
  {
   "cell_type": "code",
   "execution_count": 10,
   "id": "e8c311ac-1682-4fef-b5cb-738cf81f8e89",
   "metadata": {
    "tags": []
   },
   "outputs": [],
   "source": [
    "cat_ranks_bytes = pickle.dumps(cat_ranks)\n",
    "with open(\"rendered_data/CAT_clsfs_bytes.hex\", \"wb\") as binary_file:\n",
    "    binary_file.write(cat_ranks_bytes)"
   ]
  },
  {
   "cell_type": "code",
   "execution_count": 11,
   "id": "1c611044-b83b-42bc-8ea0-f34bf0ec3782",
   "metadata": {},
   "outputs": [
    {
     "name": "stderr",
     "output_type": "stream",
     "text": [
      "100%|█████████████████████████████████████████████████████████████████████████████████| 10/10 [00:00<00:00, 454.57it/s]\n"
     ]
    }
   ],
   "source": [
    "percent = math.ceil(len(cat_ranks.keys()) * .3)\n",
    "top = sorted(list(cat_ranks.keys()))[-percent:]\n",
    "\n",
    "train_preds = []\n",
    "test_preds = []\n",
    "for key in tqdm(top):\n",
    "    train_preds.append(cat_ranks[key].predict(X))\n",
    "    test_preds.append(cat_ranks[key].predict(X_test))\n",
    "    \n",
    "train_final_preds = np.stack(train_preds).mean(0)\n",
    "test_final_preds = np.stack(test_preds).mean(0)"
   ]
  },
  {
   "cell_type": "code",
   "execution_count": 14,
   "id": "31a813da-1308-4125-9c61-6516e81ebedf",
   "metadata": {},
   "outputs": [],
   "source": [
    "CAT_train_submission = pd.DataFrame(data={'id': train_df.index, target[0]: train_final_preds})\n",
    "CAT_train_submission.to_csv(fr'rendered_data/CAT_train_submission.csv', index=False)\n",
    "\n",
    "CAT_test_submission = pd.DataFrame(data={'id': test_df.index, target[0]: test_final_preds})\n",
    "CAT_test_submission.to_csv(fr'rendered_data/CAT_test_submission.csv', index=False)"
   ]
  },
  {
   "cell_type": "code",
   "execution_count": null,
   "id": "37c55386-36e0-47a8-9ad6-7b5e903565d8",
   "metadata": {},
   "outputs": [],
   "source": []
  }
 ],
 "metadata": {
  "kernelspec": {
   "display_name": "Python 3 (ipykernel)",
   "language": "python",
   "name": "python3"
  },
  "language_info": {
   "codemirror_mode": {
    "name": "ipython",
    "version": 3
   },
   "file_extension": ".py",
   "mimetype": "text/x-python",
   "name": "python",
   "nbconvert_exporter": "python",
   "pygments_lexer": "ipython3",
   "version": "3.10.9"
  }
 },
 "nbformat": 4,
 "nbformat_minor": 5
}
