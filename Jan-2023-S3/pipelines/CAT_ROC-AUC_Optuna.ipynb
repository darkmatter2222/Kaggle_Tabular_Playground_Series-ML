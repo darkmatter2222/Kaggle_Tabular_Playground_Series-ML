{
 "cells": [
  {
   "cell_type": "code",
   "execution_count": 1,
   "id": "0ea2173c-c725-48a2-9f4b-0760d06f5369",
   "metadata": {},
   "outputs": [],
   "source": [
    "import numpy as np\n",
    "import pandas as pd\n",
    "import math\n",
    "import sys, os\n",
    "#import seaborn as sns\n",
    "#from scipy import stats\n",
    "#from pathlib import Path\n",
    "#import matplotlib.pyplot as plt\n",
    "#from sklearn.model_selection import KFold\n",
    "from sklearn.preprocessing import MinMaxScaler\n",
    "from sklearn.model_selection import train_test_split\n",
    "#from sklearn.metrics import mean_squared_error\n",
    "#from sklearn.metrics import mean_squared_error\n",
    "#from sklearn.preprocessing import MinMaxScaler\n",
    "#from sklearn.datasets import fetch_california_housing\n",
    "#import math\n",
    "from tqdm import tqdm\n",
    "from sklearn.feature_extraction.text import CountVectorizer\n",
    "import optuna\n",
    "from optuna.samplers import TPESampler\n",
    "#import lightgbm as lbgm\n",
    "#from xgboost import XGBRegressor\n",
    "#import xgboost as xgb\n",
    "from catboost import CatBoostRegressor\n",
    "#from lightgbm.sklearn import lbgmRegressor\n",
    "#from sklearn.ensemble import RandomForestRegressor\n",
    "import pickle\n",
    "from sklearn.metrics import roc_curve, auc"
   ]
  },
  {
   "cell_type": "code",
   "execution_count": 2,
   "id": "f4b3963c-3958-4512-945d-66cd855e2958",
   "metadata": {},
   "outputs": [],
   "source": [
    "sys.path.append(os.path.realpath('..'))"
   ]
  },
  {
   "cell_type": "code",
   "execution_count": 3,
   "id": "fb0c1a5f-5d8d-4051-b6cc-d50eb8f48296",
   "metadata": {},
   "outputs": [],
   "source": [
    "train_df = pd.read_csv(r\"..\\data\\train.csv\", index_col=0)\n",
    "test_df = pd.read_csv(r\"..\\data\\test.csv\", index_col=0)\n",
    "sample_sub = pd.read_csv(r\"..\\data\\sample_submission.csv\", index_col=0)"
   ]
  },
  {
   "cell_type": "code",
   "execution_count": 4,
   "id": "19146116-cccc-4b54-b014-5d86fbb25802",
   "metadata": {},
   "outputs": [],
   "source": [
    "del train_df['Over18']"
   ]
  },
  {
   "cell_type": "code",
   "execution_count": 5,
   "id": "4f91fca1-73d2-46a2-be27-255acb201292",
   "metadata": {},
   "outputs": [
    {
     "name": "stdout",
     "output_type": "stream",
     "text": [
      "BusinessTravel\n",
      "Department\n",
      "EducationField\n",
      "Gender\n",
      "JobRole\n",
      "MaritalStatus\n",
      "OverTime\n"
     ]
    }
   ],
   "source": [
    "columns_to_vectorize = ['BusinessTravel', 'Department', 'EducationField', 'Gender', 'JobRole', 'MaritalStatus', 'OverTime']\n",
    "for vector_target in columns_to_vectorize:\n",
    "    print(vector_target)\n",
    "    vectorizer = CountVectorizer()\n",
    "    vectorizer.fit_transform(train_df[vector_target])\n",
    "    train_df[f'{vector_target}_v'] = vectorizer.transform(train_df[vector_target]).toarray().argmax(axis=1)[:,None]\n",
    "    vectorizer.fit_transform(test_df[vector_target])\n",
    "    test_df[f'{vector_target}_v'] = vectorizer.transform(test_df[vector_target]).toarray().argmax(axis=1)[:,None]"
   ]
  },
  {
   "cell_type": "code",
   "execution_count": 6,
   "id": "bf47c0d1-7407-41ee-8f49-b483c295621a",
   "metadata": {},
   "outputs": [],
   "source": [
    "features = ['Age', 'DailyRate', 'DistanceFromHome', 'Education', 'EmployeeCount', 'EnvironmentSatisfaction','HourlyRate', 'JobInvolvement', 'JobLevel', 'JobSatisfaction', \n",
    "       'MonthlyIncome', 'MonthlyRate', 'NumCompaniesWorked', 'PercentSalaryHike', 'PerformanceRating', 'RelationshipSatisfaction', 'StandardHours', 'StockOptionLevel', 'TotalWorkingYears',\n",
    "       'TrainingTimesLastYear', 'WorkLifeBalance', 'YearsAtCompany', 'YearsInCurrentRole', 'YearsSinceLastPromotion', 'YearsWithCurrManager',\n",
    "        'BusinessTravel_v', 'Department_v', 'EducationField_v','Gender_v', 'JobRole_v', 'MaritalStatus_v', 'OverTime_v']\n",
    "target = ['Attrition']"
   ]
  },
  {
   "cell_type": "code",
   "execution_count": 7,
   "id": "0b6f3634-fc77-4995-a975-a905a599e16f",
   "metadata": {},
   "outputs": [],
   "source": [
    "scaler = MinMaxScaler().fit(train_df[features])\n",
    "X = scaler.transform(train_df[features])\n",
    "X_test = scaler.transform(test_df[features])\n",
    "\n",
    "scaler = MinMaxScaler().fit(train_df[target])\n",
    "Y = scaler.transform(train_df[target])"
   ]
  },
  {
   "cell_type": "code",
   "execution_count": 7,
   "id": "1ca53f18-a11e-476f-a87a-93c34f0e6ce3",
   "metadata": {},
   "outputs": [],
   "source": [
    "def cat_objective(trial):\n",
    "    # Split the train data for each trial.\n",
    "    X_train, X_valid, y_train, y_valid = train_test_split(X, Y, stratify=Y, test_size=0.4)\n",
    "\n",
    "    param_grid = {\n",
    "        'depth': trial.suggest_int('depth', 1, 10),\n",
    "        'learning_rate': trial.suggest_float('learning_rate', 0.001, 0.1),\n",
    "        #'rsm': trial.suggest_float('rsm', 0.001, 0.9),\n",
    "        'subsample': trial.suggest_float('subsample', 0.1, 1),\n",
    "        'min_data_in_leaf': trial.suggest_int('min_data_in_leaf', 1, 100), \n",
    "        'l2_leaf_reg': trial.suggest_int('l2_leaf_reg', 1, 20),\n",
    "        'random_strength': trial.suggest_float('random_strength', 0.001, 0.9),\n",
    "    } \n",
    "\n",
    "    clf = CatBoostRegressor(iterations=20000,\n",
    "                            **param_grid,\n",
    "                            bootstrap_type='Bernoulli',\n",
    "                            grow_policy='SymmetricTree',\n",
    "                            #loss_function='Logloss',\n",
    "                            eval_metric='AUC',\n",
    "                            task_type=\"GPU\",\n",
    "                            random_state=1,)\n",
    "    \n",
    "    clf.fit(X_train, y_train, eval_set=(X_valid, y_valid), early_stopping_rounds=100, verbose=1000)\n",
    "    preds = clf.predict(X_valid)\n",
    "\n",
    "    fpr, tpr, _ = roc_curve(y_valid, preds)\n",
    "    roc_auc = auc(fpr, tpr)\n",
    "\n",
    "    cat_ranks[roc_auc] = clf\n",
    "\n",
    "    return roc_auc"
   ]
  },
  {
   "cell_type": "code",
   "execution_count": 8,
   "id": "4466b24c-6898-4186-818f-3d3013bee5d4",
   "metadata": {
    "collapsed": true,
    "jupyter": {
     "outputs_hidden": true
    },
    "tags": []
   },
   "outputs": [
    {
     "name": "stderr",
     "output_type": "stream",
     "text": [
      "\u001b[32m[I 2023-01-16 14:49:21,423]\u001b[0m A new study created in memory with name: CATRegressor\u001b[0m\n",
      "Default metric period is 5 because AUC is/are not implemented for GPU\n",
      "AUC is not implemented on GPU. Will use CPU for metric computation, this could significantly affect learning time\n"
     ]
    },
    {
     "name": "stdout",
     "output_type": "stream",
     "text": [
      "0:\ttest: 0.8052718\tbest: 0.8052718 (0)\ttotal: 8.93ms\tremaining: 2m 58s\n"
     ]
    },
    {
     "name": "stderr",
     "output_type": "stream",
     "text": [
      "\u001b[32m[I 2023-01-16 14:49:23,758]\u001b[0m Trial 0 finished with value: 0.884584845544049 and parameters: {'depth': 2, 'learning_rate': 0.0692255083886799, 'subsample': 0.2640157395355086, 'min_data_in_leaf': 69, 'l2_leaf_reg': 17, 'random_strength': 0.6128310305465501}. Best is trial 0 with value: 0.884584845544049.\u001b[0m\n"
     ]
    },
    {
     "name": "stdout",
     "output_type": "stream",
     "text": [
      "bestTest = 0.8845848455\n",
      "bestIteration = 39\n",
      "Shrink model to first 40 iterations.\n"
     ]
    },
    {
     "name": "stderr",
     "output_type": "stream",
     "text": [
      "Default metric period is 5 because AUC is/are not implemented for GPU\n",
      "AUC is not implemented on GPU. Will use CPU for metric computation, this could significantly affect learning time\n"
     ]
    },
    {
     "name": "stdout",
     "output_type": "stream",
     "text": [
      "0:\ttest: 0.8734147\tbest: 0.8734147 (0)\ttotal: 46.7ms\tremaining: 15m 34s\n"
     ]
    },
    {
     "name": "stderr",
     "output_type": "stream",
     "text": [
      "\u001b[32m[I 2023-01-16 14:49:32,113]\u001b[0m Trial 1 finished with value: 0.8854872893484019 and parameters: {'depth': 9, 'learning_rate': 0.02614589927723719, 'subsample': 0.19562592742476553, 'min_data_in_leaf': 37, 'l2_leaf_reg': 11, 'random_strength': 0.22798847505817318}. Best is trial 1 with value: 0.8854872893484019.\u001b[0m\n"
     ]
    },
    {
     "name": "stdout",
     "output_type": "stream",
     "text": [
      "bestTest = 0.8854872893\n",
      "bestIteration = 165\n",
      "Shrink model to first 166 iterations.\n"
     ]
    },
    {
     "name": "stderr",
     "output_type": "stream",
     "text": [
      "Default metric period is 5 because AUC is/are not implemented for GPU\n",
      "AUC is not implemented on GPU. Will use CPU for metric computation, this could significantly affect learning time\n"
     ]
    },
    {
     "name": "stdout",
     "output_type": "stream",
     "text": [
      "0:\ttest: 0.7873920\tbest: 0.7873920 (0)\ttotal: 8.08ms\tremaining: 2m 41s\n"
     ]
    },
    {
     "name": "stderr",
     "output_type": "stream",
     "text": [
      "\u001b[32m[I 2023-01-16 14:49:37,161]\u001b[0m Trial 2 finished with value: 0.8979039732445616 and parameters: {'depth': 2, 'learning_rate': 0.016500784132500435, 'subsample': 0.5125325343864606, 'min_data_in_leaf': 12, 'l2_leaf_reg': 1, 'random_strength': 0.8316655877216752}. Best is trial 2 with value: 0.8979039732445616.\u001b[0m\n"
     ]
    },
    {
     "name": "stdout",
     "output_type": "stream",
     "text": [
      "bestTest = 0.8979039732\n",
      "bestIteration = 409\n",
      "Shrink model to first 410 iterations.\n"
     ]
    },
    {
     "name": "stderr",
     "output_type": "stream",
     "text": [
      "Default metric period is 5 because AUC is/are not implemented for GPU\n",
      "AUC is not implemented on GPU. Will use CPU for metric computation, this could significantly affect learning time\n"
     ]
    },
    {
     "name": "stdout",
     "output_type": "stream",
     "text": [
      "0:\ttest: 0.8622898\tbest: 0.8622898 (0)\ttotal: 20ms\tremaining: 6m 39s\n"
     ]
    },
    {
     "name": "stderr",
     "output_type": "stream",
     "text": [
      "\u001b[32m[I 2023-01-16 14:49:41,683]\u001b[0m Trial 3 finished with value: 0.8756210193978274 and parameters: {'depth': 9, 'learning_rate': 0.08839286872209116, 'subsample': 0.12285670108227599, 'min_data_in_leaf': 46, 'l2_leaf_reg': 4, 'random_strength': 0.10388340220855666}. Best is trial 2 with value: 0.8979039732445616.\u001b[0m\n"
     ]
    },
    {
     "name": "stdout",
     "output_type": "stream",
     "text": [
      "bestTest = 0.8756210194\n",
      "bestIteration = 34\n",
      "Shrink model to first 35 iterations.\n"
     ]
    },
    {
     "name": "stderr",
     "output_type": "stream",
     "text": [
      "Default metric period is 5 because AUC is/are not implemented for GPU\n",
      "AUC is not implemented on GPU. Will use CPU for metric computation, this could significantly affect learning time\n"
     ]
    },
    {
     "name": "stdout",
     "output_type": "stream",
     "text": [
      "0:\ttest: 0.8715637\tbest: 0.8715637 (0)\ttotal: 13.2ms\tremaining: 4m 23s\n"
     ]
    },
    {
     "name": "stderr",
     "output_type": "stream",
     "text": [
      "\u001b[32m[I 2023-01-16 14:49:43,733]\u001b[0m Trial 4 finished with value: 0.8813313335896992 and parameters: {'depth': 5, 'learning_rate': 0.03705318629440135, 'subsample': 0.661407387124674, 'min_data_in_leaf': 25, 'l2_leaf_reg': 10, 'random_strength': 0.1868185493791575}. Best is trial 2 with value: 0.8979039732445616.\u001b[0m\n"
     ]
    },
    {
     "name": "stdout",
     "output_type": "stream",
     "text": [
      "bestTest = 0.8813313336\n",
      "bestIteration = 20\n",
      "Shrink model to first 21 iterations.\n"
     ]
    },
    {
     "name": "stderr",
     "output_type": "stream",
     "text": [
      "Default metric period is 5 because AUC is/are not implemented for GPU\n",
      "AUC is not implemented on GPU. Will use CPU for metric computation, this could significantly affect learning time\n"
     ]
    },
    {
     "name": "stdout",
     "output_type": "stream",
     "text": [
      "0:\ttest: 0.8622194\tbest: 0.8622194 (0)\ttotal: 19.8ms\tremaining: 6m 36s\n"
     ]
    },
    {
     "name": "stderr",
     "output_type": "stream",
     "text": [
      "\u001b[32m[I 2023-01-16 14:49:48,470]\u001b[0m Trial 5 finished with value: 0.8841824498924812 and parameters: {'depth': 10, 'learning_rate': 0.08929258879501223, 'subsample': 0.5305130566546786, 'min_data_in_leaf': 23, 'l2_leaf_reg': 3, 'random_strength': 0.06067310175144687}. Best is trial 2 with value: 0.8979039732445616.\u001b[0m\n"
     ]
    },
    {
     "name": "stdout",
     "output_type": "stream",
     "text": [
      "bestTest = 0.8841824499\n",
      "bestIteration = 20\n",
      "Shrink model to first 21 iterations.\n"
     ]
    },
    {
     "name": "stderr",
     "output_type": "stream",
     "text": [
      "Default metric period is 5 because AUC is/are not implemented for GPU\n",
      "AUC is not implemented on GPU. Will use CPU for metric computation, this could significantly affect learning time\n"
     ]
    },
    {
     "name": "stdout",
     "output_type": "stream",
     "text": [
      "0:\ttest: 0.8791076\tbest: 0.8791076 (0)\ttotal: 11.7ms\tremaining: 3m 53s\n"
     ]
    },
    {
     "name": "stderr",
     "output_type": "stream",
     "text": [
      "\u001b[32m[I 2023-01-16 14:49:51,123]\u001b[0m Trial 6 finished with value: 0.8951659991500865 and parameters: {'depth': 7, 'learning_rate': 0.09987244597228379, 'subsample': 0.6171964195133615, 'min_data_in_leaf': 77, 'l2_leaf_reg': 7, 'random_strength': 0.6550964495873224}. Best is trial 2 with value: 0.8979039732445616.\u001b[0m\n"
     ]
    },
    {
     "name": "stdout",
     "output_type": "stream",
     "text": [
      "bestTest = 0.8951659992\n",
      "bestIteration = 57\n",
      "Shrink model to first 58 iterations.\n"
     ]
    },
    {
     "name": "stderr",
     "output_type": "stream",
     "text": [
      "Default metric period is 5 because AUC is/are not implemented for GPU\n",
      "AUC is not implemented on GPU. Will use CPU for metric computation, this could significantly affect learning time\n"
     ]
    },
    {
     "name": "stdout",
     "output_type": "stream",
     "text": [
      "0:\ttest: 0.8444379\tbest: 0.8444379 (0)\ttotal: 17.9ms\tremaining: 5m 57s\n"
     ]
    },
    {
     "name": "stderr",
     "output_type": "stream",
     "text": [
      "\u001b[32m[I 2023-01-16 14:49:53,808]\u001b[0m Trial 7 finished with value: 0.8639326884676437 and parameters: {'depth': 8, 'learning_rate': 0.07411191927776367, 'subsample': 0.9404868998563627, 'min_data_in_leaf': 4, 'l2_leaf_reg': 13, 'random_strength': 0.3017214607495601}. Best is trial 2 with value: 0.8979039732445616.\u001b[0m\n"
     ]
    },
    {
     "name": "stdout",
     "output_type": "stream",
     "text": [
      "bestTest = 0.8639326885\n",
      "bestIteration = 22\n",
      "Shrink model to first 23 iterations.\n"
     ]
    },
    {
     "name": "stderr",
     "output_type": "stream",
     "text": [
      "Default metric period is 5 because AUC is/are not implemented for GPU\n",
      "AUC is not implemented on GPU. Will use CPU for metric computation, this could significantly affect learning time\n"
     ]
    },
    {
     "name": "stdout",
     "output_type": "stream",
     "text": [
      "0:\ttest: 0.8673525\tbest: 0.8673525 (0)\ttotal: 14.3ms\tremaining: 4m 46s\n"
     ]
    },
    {
     "name": "stderr",
     "output_type": "stream",
     "text": [
      "\u001b[32m[I 2023-01-16 14:50:15,466]\u001b[0m Trial 8 finished with value: 0.87954395608466 and parameters: {'depth': 10, 'learning_rate': 0.004580199081271783, 'subsample': 0.24834498236044242, 'min_data_in_leaf': 46, 'l2_leaf_reg': 18, 'random_strength': 0.24257563123560788}. Best is trial 2 with value: 0.8979039732445616.\u001b[0m\n"
     ]
    },
    {
     "name": "stdout",
     "output_type": "stream",
     "text": [
      "bestTest = 0.8795439561\n",
      "bestIteration = 439\n",
      "Shrink model to first 440 iterations.\n"
     ]
    },
    {
     "name": "stderr",
     "output_type": "stream",
     "text": [
      "Default metric period is 5 because AUC is/are not implemented for GPU\n",
      "AUC is not implemented on GPU. Will use CPU for metric computation, this could significantly affect learning time\n"
     ]
    },
    {
     "name": "stdout",
     "output_type": "stream",
     "text": [
      "0:\ttest: 0.7795212\tbest: 0.7795212 (0)\ttotal: 8.44ms\tremaining: 2m 48s\n"
     ]
    },
    {
     "name": "stderr",
     "output_type": "stream",
     "text": [
      "\u001b[32m[I 2023-01-16 14:50:19,000]\u001b[0m Trial 9 finished with value: 0.8881612842179415 and parameters: {'depth': 2, 'learning_rate': 0.024517562540117173, 'subsample': 0.8336694920473304, 'min_data_in_leaf': 83, 'l2_leaf_reg': 17, 'random_strength': 0.19895239522759495}. Best is trial 2 with value: 0.8979039732445616.\u001b[0m\n"
     ]
    },
    {
     "name": "stdout",
     "output_type": "stream",
     "text": [
      "bestTest = 0.8881612842\n",
      "bestIteration = 230\n",
      "Shrink model to first 231 iterations.\n"
     ]
    },
    {
     "name": "stderr",
     "output_type": "stream",
     "text": [
      "Default metric period is 5 because AUC is/are not implemented for GPU\n",
      "AUC is not implemented on GPU. Will use CPU for metric computation, this could significantly affect learning time\n"
     ]
    },
    {
     "name": "stdout",
     "output_type": "stream",
     "text": [
      "0:\ttest: 0.7706607\tbest: 0.7706607 (0)\ttotal: 10.6ms\tremaining: 3m 31s\n"
     ]
    },
    {
     "name": "stderr",
     "output_type": "stream",
     "text": [
      "\u001b[32m[I 2023-01-16 14:50:22,002]\u001b[0m Trial 10 finished with value: 0.8792850085900528 and parameters: {'depth': 4, 'learning_rate': 0.004388028879963693, 'subsample': 0.42518166623362663, 'min_data_in_leaf': 4, 'l2_leaf_reg': 1, 'random_strength': 0.8738685064610594}. Best is trial 2 with value: 0.8979039732445616.\u001b[0m\n"
     ]
    },
    {
     "name": "stdout",
     "output_type": "stream",
     "text": [
      "bestTest = 0.8792850086\n",
      "bestIteration = 133\n",
      "Shrink model to first 134 iterations.\n"
     ]
    },
    {
     "name": "stderr",
     "output_type": "stream",
     "text": [
      "Default metric period is 5 because AUC is/are not implemented for GPU\n",
      "AUC is not implemented on GPU. Will use CPU for metric computation, this could significantly affect learning time\n"
     ]
    },
    {
     "name": "stdout",
     "output_type": "stream",
     "text": [
      "0:\ttest: 0.8608206\tbest: 0.8608206 (0)\ttotal: 14.2ms\tremaining: 4m 44s\n"
     ]
    },
    {
     "name": "stderr",
     "output_type": "stream",
     "text": [
      "\u001b[32m[I 2023-01-16 14:50:24,770]\u001b[0m Trial 11 finished with value: 0.8772848159789124 and parameters: {'depth': 7, 'learning_rate': 0.0535636037483376, 'subsample': 0.6918176748173636, 'min_data_in_leaf': 71, 'l2_leaf_reg': 7, 'random_strength': 0.7447426465444948}. Best is trial 2 with value: 0.8979039732445616.\u001b[0m\n"
     ]
    },
    {
     "name": "stdout",
     "output_type": "stream",
     "text": [
      "bestTest = 0.877284816\n",
      "bestIteration = 67\n",
      "Shrink model to first 68 iterations.\n"
     ]
    },
    {
     "name": "stderr",
     "output_type": "stream",
     "text": [
      "Default metric period is 5 because AUC is/are not implemented for GPU\n",
      "AUC is not implemented on GPU. Will use CPU for metric computation, this could significantly affect learning time\n"
     ]
    },
    {
     "name": "stdout",
     "output_type": "stream",
     "text": [
      "0:\ttest: 0.8630336\tbest: 0.8630336 (0)\ttotal: 11.6ms\tremaining: 3m 52s\n"
     ]
    },
    {
     "name": "stderr",
     "output_type": "stream",
     "text": [
      "\u001b[32m[I 2023-01-16 14:50:27,733]\u001b[0m Trial 12 finished with value: 0.880759224625671 and parameters: {'depth': 6, 'learning_rate': 0.05399822867670078, 'subsample': 0.43190122472746884, 'min_data_in_leaf': 100, 'l2_leaf_reg': 6, 'random_strength': 0.5144102957470423}. Best is trial 2 with value: 0.8979039732445616.\u001b[0m\n"
     ]
    },
    {
     "name": "stdout",
     "output_type": "stream",
     "text": [
      "bestTest = 0.8807592246\n",
      "bestIteration = 93\n",
      "Shrink model to first 94 iterations.\n"
     ]
    },
    {
     "name": "stderr",
     "output_type": "stream",
     "text": [
      "Default metric period is 5 because AUC is/are not implemented for GPU\n",
      "AUC is not implemented on GPU. Will use CPU for metric computation, this could significantly affect learning time\n"
     ]
    },
    {
     "name": "stdout",
     "output_type": "stream",
     "text": [
      "0:\ttest: 0.7533853\tbest: 0.7533853 (0)\ttotal: 7.95ms\tremaining: 2m 39s\n"
     ]
    },
    {
     "name": "stderr",
     "output_type": "stream",
     "text": [
      "\u001b[32m[I 2023-01-16 14:50:30,697]\u001b[0m Trial 13 finished with value: 0.8761735978616123 and parameters: {'depth': 1, 'learning_rate': 0.04000324908416776, 'subsample': 0.6944945268201239, 'min_data_in_leaf': 65, 'l2_leaf_reg': 1, 'random_strength': 0.8835240720323847}. Best is trial 2 with value: 0.8979039732445616.\u001b[0m\n"
     ]
    },
    {
     "name": "stdout",
     "output_type": "stream",
     "text": [
      "bestTest = 0.8761735979\n",
      "bestIteration = 195\n",
      "Shrink model to first 196 iterations.\n"
     ]
    },
    {
     "name": "stderr",
     "output_type": "stream",
     "text": [
      "Default metric period is 5 because AUC is/are not implemented for GPU\n",
      "AUC is not implemented on GPU. Will use CPU for metric computation, this could significantly affect learning time\n"
     ]
    },
    {
     "name": "stdout",
     "output_type": "stream",
     "text": [
      "0:\ttest: 0.8760722\tbest: 0.8760722 (0)\ttotal: 10.6ms\tremaining: 3m 32s\n"
     ]
    },
    {
     "name": "stderr",
     "output_type": "stream",
     "text": [
      "\u001b[32m[I 2023-01-16 14:50:33,067]\u001b[0m Trial 14 finished with value: 0.8894280728716638 and parameters: {'depth': 4, 'learning_rate': 0.06745289421134437, 'subsample': 0.5324032901488828, 'min_data_in_leaf': 94, 'l2_leaf_reg': 7, 'random_strength': 0.6770071474396608}. Best is trial 2 with value: 0.8979039732445616.\u001b[0m\n"
     ]
    },
    {
     "name": "stdout",
     "output_type": "stream",
     "text": [
      "bestTest = 0.8894280729\n",
      "bestIteration = 66\n",
      "Shrink model to first 67 iterations.\n"
     ]
    },
    {
     "name": "stderr",
     "output_type": "stream",
     "text": [
      "Default metric period is 5 because AUC is/are not implemented for GPU\n",
      "AUC is not implemented on GPU. Will use CPU for metric computation, this could significantly affect learning time\n"
     ]
    },
    {
     "name": "stdout",
     "output_type": "stream",
     "text": [
      "0:\ttest: 0.8827550\tbest: 0.8827550 (0)\ttotal: 11.7ms\tremaining: 3m 53s\n"
     ]
    },
    {
     "name": "stderr",
     "output_type": "stream",
     "text": [
      "\u001b[32m[I 2023-01-16 14:50:35,148]\u001b[0m Trial 15 finished with value: 0.900891466316285 and parameters: {'depth': 6, 'learning_rate': 0.09968711277387769, 'subsample': 0.36426848428936615, 'min_data_in_leaf': 83, 'l2_leaf_reg': 10, 'random_strength': 0.427432773395782}. Best is trial 15 with value: 0.900891466316285.\u001b[0m\n"
     ]
    },
    {
     "name": "stdout",
     "output_type": "stream",
     "text": [
      "bestTest = 0.9008914663\n",
      "bestIteration = 18\n",
      "Shrink model to first 19 iterations.\n"
     ]
    },
    {
     "name": "stderr",
     "output_type": "stream",
     "text": [
      "Default metric period is 5 because AUC is/are not implemented for GPU\n",
      "AUC is not implemented on GPU. Will use CPU for metric computation, this could significantly affect learning time\n"
     ]
    },
    {
     "name": "stdout",
     "output_type": "stream",
     "text": [
      "0:\ttest: 0.8709980\tbest: 0.8709980 (0)\ttotal: 9.63ms\tremaining: 3m 12s\n"
     ]
    },
    {
     "name": "stderr",
     "output_type": "stream",
     "text": [
      "\u001b[32m[I 2023-01-16 14:50:37,424]\u001b[0m Trial 16 finished with value: 0.8888728005457764 and parameters: {'depth': 4, 'learning_rate': 0.02592642725816831, 'subsample': 0.35493792460247575, 'min_data_in_leaf': 55, 'l2_leaf_reg': 13, 'random_strength': 0.404440834307924}. Best is trial 15 with value: 0.900891466316285.\u001b[0m\n"
     ]
    },
    {
     "name": "stdout",
     "output_type": "stream",
     "text": [
      "bestTest = 0.8888728005\n",
      "bestIteration = 57\n",
      "Shrink model to first 58 iterations.\n"
     ]
    },
    {
     "name": "stderr",
     "output_type": "stream",
     "text": [
      "Default metric period is 5 because AUC is/are not implemented for GPU\n",
      "AUC is not implemented on GPU. Will use CPU for metric computation, this could significantly affect learning time\n"
     ]
    },
    {
     "name": "stdout",
     "output_type": "stream",
     "text": [
      "0:\ttest: 0.8633165\tbest: 0.8633165 (0)\ttotal: 10.1ms\tremaining: 3m 22s\n"
     ]
    },
    {
     "name": "stderr",
     "output_type": "stream",
     "text": [
      "\u001b[32m[I 2023-01-16 14:50:39,758]\u001b[0m Trial 17 finished with value: 0.8787560014196654 and parameters: {'depth': 3, 'learning_rate': 0.014965904132407072, 'subsample': 0.4050181767051484, 'min_data_in_leaf': 22, 'l2_leaf_reg': 20, 'random_strength': 0.4415723168998949}. Best is trial 15 with value: 0.900891466316285.\u001b[0m\n"
     ]
    },
    {
     "name": "stdout",
     "output_type": "stream",
     "text": [
      "bestTest = 0.8787560014\n",
      "bestIteration = 82\n",
      "Shrink model to first 83 iterations.\n"
     ]
    },
    {
     "name": "stderr",
     "output_type": "stream",
     "text": [
      "Default metric period is 5 because AUC is/are not implemented for GPU\n",
      "AUC is not implemented on GPU. Will use CPU for metric computation, this could significantly affect learning time\n"
     ]
    },
    {
     "name": "stdout",
     "output_type": "stream",
     "text": [
      "0:\ttest: 0.8731177\tbest: 0.8731177 (0)\ttotal: 12ms\tremaining: 3m 59s\n"
     ]
    },
    {
     "name": "stderr",
     "output_type": "stream",
     "text": [
      "\u001b[32m[I 2023-01-16 14:50:42,026]\u001b[0m Trial 18 finished with value: 0.8911140938150947 and parameters: {'depth': 6, 'learning_rate': 0.042268218423389944, 'subsample': 0.3322186827503712, 'min_data_in_leaf': 89, 'l2_leaf_reg': 10, 'random_strength': 0.5188051185925869}. Best is trial 15 with value: 0.900891466316285.\u001b[0m\n"
     ]
    },
    {
     "name": "stdout",
     "output_type": "stream",
     "text": [
      "bestTest = 0.8911140938\n",
      "bestIteration = 29\n",
      "Shrink model to first 30 iterations.\n"
     ]
    },
    {
     "name": "stderr",
     "output_type": "stream",
     "text": [
      "Default metric period is 5 because AUC is/are not implemented for GPU\n",
      "AUC is not implemented on GPU. Will use CPU for metric computation, this could significantly affect learning time\n"
     ]
    },
    {
     "name": "stdout",
     "output_type": "stream",
     "text": [
      "0:\ttest: 0.7737614\tbest: 0.7737614 (0)\ttotal: 7.81ms\tremaining: 2m 36s\n"
     ]
    },
    {
     "name": "stderr",
     "output_type": "stream",
     "text": [
      "\u001b[32m[I 2023-01-16 14:50:44,770]\u001b[0m Trial 19 finished with value: 0.8892563391626265 and parameters: {'depth': 1, 'learning_rate': 0.05835515803234349, 'subsample': 0.5123397760516849, 'min_data_in_leaf': 57, 'l2_leaf_reg': 14, 'random_strength': 0.3517448578304854}. Best is trial 15 with value: 0.900891466316285.\u001b[0m\n"
     ]
    },
    {
     "name": "stdout",
     "output_type": "stream",
     "text": [
      "bestTest = 0.8892563392\n",
      "bestIteration = 168\n",
      "Shrink model to first 169 iterations.\n"
     ]
    },
    {
     "name": "stderr",
     "output_type": "stream",
     "text": [
      "Default metric period is 5 because AUC is/are not implemented for GPU\n",
      "AUC is not implemented on GPU. Will use CPU for metric computation, this could significantly affect learning time\n"
     ]
    },
    {
     "name": "stdout",
     "output_type": "stream",
     "text": [
      "0:\ttest: 0.8638169\tbest: 0.8638169 (0)\ttotal: 10.6ms\tremaining: 3m 32s\n"
     ]
    },
    {
     "name": "stderr",
     "output_type": "stream",
     "text": [
      "\u001b[32m[I 2023-01-16 14:50:47,510]\u001b[0m Trial 20 finished with value: 0.8798453319073822 and parameters: {'depth': 5, 'learning_rate': 0.07931370170093822, 'subsample': 0.7994260365494601, 'min_data_in_leaf': 33, 'l2_leaf_reg': 4, 'random_strength': 0.7761774442890215}. Best is trial 15 with value: 0.900891466316285.\u001b[0m\n"
     ]
    },
    {
     "name": "stdout",
     "output_type": "stream",
     "text": [
      "bestTest = 0.8798453319\n",
      "bestIteration = 96\n",
      "Shrink model to first 97 iterations.\n"
     ]
    },
    {
     "name": "stderr",
     "output_type": "stream",
     "text": [
      "Default metric period is 5 because AUC is/are not implemented for GPU\n",
      "AUC is not implemented on GPU. Will use CPU for metric computation, this could significantly affect learning time\n"
     ]
    },
    {
     "name": "stdout",
     "output_type": "stream",
     "text": [
      "0:\ttest: 0.8532485\tbest: 0.8532485 (0)\ttotal: 17.8ms\tremaining: 5m 56s\n"
     ]
    },
    {
     "name": "stderr",
     "output_type": "stream",
     "text": [
      "\u001b[32m[I 2023-01-16 14:50:50,513]\u001b[0m Trial 21 finished with value: 0.88436630598098 and parameters: {'depth': 8, 'learning_rate': 0.0998851497252209, 'subsample': 0.628400886243853, 'min_data_in_leaf': 79, 'l2_leaf_reg': 8, 'random_strength': 0.608276723147879}. Best is trial 15 with value: 0.900891466316285.\u001b[0m\n"
     ]
    },
    {
     "name": "stdout",
     "output_type": "stream",
     "text": [
      "bestTest = 0.884366306\n",
      "bestIteration = 40\n",
      "Shrink model to first 41 iterations.\n"
     ]
    },
    {
     "name": "stderr",
     "output_type": "stream",
     "text": [
      "Default metric period is 5 because AUC is/are not implemented for GPU\n",
      "AUC is not implemented on GPU. Will use CPU for metric computation, this could significantly affect learning time\n"
     ]
    },
    {
     "name": "stdout",
     "output_type": "stream",
     "text": [
      "0:\ttest: 0.8552672\tbest: 0.8552672 (0)\ttotal: 11.7ms\tremaining: 3m 53s\n"
     ]
    },
    {
     "name": "stderr",
     "output_type": "stream",
     "text": [
      "\u001b[32m[I 2023-01-16 14:50:52,785]\u001b[0m Trial 22 finished with value: 0.8693298411900944 and parameters: {'depth': 7, 'learning_rate': 0.08724391533503725, 'subsample': 0.6118497846908406, 'min_data_in_leaf': 73, 'l2_leaf_reg': 9, 'random_strength': 0.7892632702524371}. Best is trial 15 with value: 0.900891466316285.\u001b[0m\n"
     ]
    },
    {
     "name": "stdout",
     "output_type": "stream",
     "text": [
      "bestTest = 0.8693298412\n",
      "bestIteration = 20\n",
      "Shrink model to first 21 iterations.\n"
     ]
    },
    {
     "name": "stderr",
     "output_type": "stream",
     "text": [
      "Default metric period is 5 because AUC is/are not implemented for GPU\n",
      "AUC is not implemented on GPU. Will use CPU for metric computation, this could significantly affect learning time\n"
     ]
    },
    {
     "name": "stdout",
     "output_type": "stream",
     "text": [
      "0:\ttest: 0.8696336\tbest: 0.8696336 (0)\ttotal: 14ms\tremaining: 4m 40s\n"
     ]
    },
    {
     "name": "stderr",
     "output_type": "stream",
     "text": [
      "\u001b[32m[I 2023-01-16 14:50:55,817]\u001b[0m Trial 23 finished with value: 0.8882589367191588 and parameters: {'depth': 7, 'learning_rate': 0.09910362502546768, 'subsample': 0.7916149523833029, 'min_data_in_leaf': 83, 'l2_leaf_reg': 5, 'random_strength': 0.545285400417379}. Best is trial 15 with value: 0.900891466316285.\u001b[0m\n"
     ]
    },
    {
     "name": "stdout",
     "output_type": "stream",
     "text": [
      "bestTest = 0.8882589367\n",
      "bestIteration = 95\n",
      "Shrink model to first 96 iterations.\n"
     ]
    },
    {
     "name": "stderr",
     "output_type": "stream",
     "text": [
      "Default metric period is 5 because AUC is/are not implemented for GPU\n",
      "AUC is not implemented on GPU. Will use CPU for metric computation, this could significantly affect learning time\n"
     ]
    },
    {
     "name": "stdout",
     "output_type": "stream",
     "text": [
      "0:\ttest: 0.8559518\tbest: 0.8559518 (0)\ttotal: 11.7ms\tremaining: 3m 54s\n"
     ]
    },
    {
     "name": "stderr",
     "output_type": "stream",
     "text": [
      "\u001b[32m[I 2023-01-16 14:50:57,995]\u001b[0m Trial 24 finished with value: 0.8743347002438618 and parameters: {'depth': 6, 'learning_rate': 0.08114117311553488, 'subsample': 0.4718279710004616, 'min_data_in_leaf': 59, 'l2_leaf_reg': 12, 'random_strength': 0.679267034487181}. Best is trial 15 with value: 0.900891466316285.\u001b[0m\n"
     ]
    },
    {
     "name": "stdout",
     "output_type": "stream",
     "text": [
      "bestTest = 0.8743347002\n",
      "bestIteration = 20\n",
      "Shrink model to first 21 iterations.\n"
     ]
    },
    {
     "name": "stderr",
     "output_type": "stream",
     "text": [
      "Default metric period is 5 because AUC is/are not implemented for GPU\n",
      "AUC is not implemented on GPU. Will use CPU for metric computation, this could significantly affect learning time\n"
     ]
    },
    {
     "name": "stdout",
     "output_type": "stream",
     "text": [
      "0:\ttest: 0.8029406\tbest: 0.8029406 (0)\ttotal: 10.8ms\tremaining: 3m 36s\n"
     ]
    },
    {
     "name": "stderr",
     "output_type": "stream",
     "text": [
      "\u001b[32m[I 2023-01-16 14:51:00,969]\u001b[0m Trial 25 finished with value: 0.880698275995601 and parameters: {'depth': 5, 'learning_rate': 0.09327097830357242, 'subsample': 0.5811862252455329, 'min_data_in_leaf': 12, 'l2_leaf_reg': 2, 'random_strength': 0.6950767525670517}. Best is trial 15 with value: 0.900891466316285.\u001b[0m\n"
     ]
    },
    {
     "name": "stdout",
     "output_type": "stream",
     "text": [
      "bestTest = 0.880698276\n",
      "bestIteration = 116\n",
      "Shrink model to first 117 iterations.\n"
     ]
    },
    {
     "name": "stderr",
     "output_type": "stream",
     "text": [
      "Default metric period is 5 because AUC is/are not implemented for GPU\n",
      "AUC is not implemented on GPU. Will use CPU for metric computation, this could significantly affect learning time\n"
     ]
    },
    {
     "name": "stdout",
     "output_type": "stream",
     "text": [
      "0:\ttest: 0.8692086\tbest: 0.8692086 (0)\ttotal: 24.7ms\tremaining: 8m 13s\n"
     ]
    },
    {
     "name": "stderr",
     "output_type": "stream",
     "text": [
      "\u001b[32m[I 2023-01-16 14:51:03,544]\u001b[0m Trial 26 finished with value: 0.8849576087124889 and parameters: {'depth': 8, 'learning_rate': 0.017456613999366023, 'subsample': 0.30557974834465007, 'min_data_in_leaf': 100, 'l2_leaf_reg': 15, 'random_strength': 0.8180233721529352}. Best is trial 15 with value: 0.900891466316285.\u001b[0m\n"
     ]
    },
    {
     "name": "stdout",
     "output_type": "stream",
     "text": [
      "bestTest = 0.8849576087\n",
      "bestIteration = 8\n",
      "Shrink model to first 9 iterations.\n"
     ]
    },
    {
     "name": "stderr",
     "output_type": "stream",
     "text": [
      "Default metric period is 5 because AUC is/are not implemented for GPU\n",
      "AUC is not implemented on GPU. Will use CPU for metric computation, this could significantly affect learning time\n"
     ]
    },
    {
     "name": "stdout",
     "output_type": "stream",
     "text": [
      "0:\ttest: 0.8559019\tbest: 0.8559019 (0)\ttotal: 8.87ms\tremaining: 2m 57s\n"
     ]
    },
    {
     "name": "stderr",
     "output_type": "stream",
     "text": [
      "\u001b[32m[I 2023-01-16 14:51:06,106]\u001b[0m Trial 27 finished with value: 0.8774147948253603 and parameters: {'depth': 3, 'learning_rate': 0.0648156017345641, 'subsample': 0.3896963524281117, 'min_data_in_leaf': 80, 'l2_leaf_reg': 8, 'random_strength': 0.6064942255417877}. Best is trial 15 with value: 0.900891466316285.\u001b[0m\n"
     ]
    },
    {
     "name": "stdout",
     "output_type": "stream",
     "text": [
      "bestTest = 0.8774147948\n",
      "bestIteration = 88\n",
      "Shrink model to first 89 iterations.\n"
     ]
    },
    {
     "name": "stderr",
     "output_type": "stream",
     "text": [
      "Default metric period is 5 because AUC is/are not implemented for GPU\n",
      "AUC is not implemented on GPU. Will use CPU for metric computation, this could significantly affect learning time\n"
     ]
    },
    {
     "name": "stdout",
     "output_type": "stream",
     "text": [
      "0:\ttest: 0.8661494\tbest: 0.8661494 (0)\ttotal: 14.5ms\tremaining: 4m 50s\n"
     ]
    },
    {
     "name": "stderr",
     "output_type": "stream",
     "text": [
      "\u001b[32m[I 2023-01-16 14:51:08,790]\u001b[0m Trial 28 finished with value: 0.8793631305910267 and parameters: {'depth': 7, 'learning_rate': 0.07965214937126669, 'subsample': 0.47515833600377216, 'min_data_in_leaf': 90, 'l2_leaf_reg': 5, 'random_strength': 0.4017335084750338}. Best is trial 15 with value: 0.900891466316285.\u001b[0m\n"
     ]
    },
    {
     "name": "stdout",
     "output_type": "stream",
     "text": [
      "bestTest = 0.8793631306\n",
      "bestIteration = 24\n",
      "Shrink model to first 25 iterations.\n"
     ]
    },
    {
     "name": "stderr",
     "output_type": "stream",
     "text": [
      "Default metric period is 5 because AUC is/are not implemented for GPU\n",
      "AUC is not implemented on GPU. Will use CPU for metric computation, this could significantly affect learning time\n"
     ]
    },
    {
     "name": "stdout",
     "output_type": "stream",
     "text": [
      "0:\ttest: 0.7855312\tbest: 0.7855312 (0)\ttotal: 8.16ms\tremaining: 2m 43s\n"
     ]
    },
    {
     "name": "stderr",
     "output_type": "stream",
     "text": [
      "\u001b[32m[I 2023-01-16 14:51:10,860]\u001b[0m Trial 29 finished with value: 0.8879521731722313 and parameters: {'depth': 2, 'learning_rate': 0.06167090626242076, 'subsample': 0.268808041987294, 'min_data_in_leaf': 67, 'l2_leaf_reg': 9, 'random_strength': 0.5426393692924751}. Best is trial 15 with value: 0.900891466316285.\u001b[0m\n"
     ]
    },
    {
     "name": "stdout",
     "output_type": "stream",
     "text": [
      "bestTest = 0.8879521732\n",
      "bestIteration = 53\n",
      "Shrink model to first 54 iterations.\n"
     ]
    },
    {
     "name": "stderr",
     "output_type": "stream",
     "text": [
      "Default metric period is 5 because AUC is/are not implemented for GPU\n",
      "AUC is not implemented on GPU. Will use CPU for metric computation, this could significantly affect learning time\n"
     ]
    },
    {
     "name": "stdout",
     "output_type": "stream",
     "text": [
      "0:\ttest: 0.8783088\tbest: 0.8783088 (0)\ttotal: 13.9ms\tremaining: 4m 38s\n"
     ]
    },
    {
     "name": "stderr",
     "output_type": "stream",
     "text": [
      "\u001b[32m[I 2023-01-16 14:51:13,570]\u001b[0m Trial 30 finished with value: 0.8933978154125279 and parameters: {'depth': 6, 'learning_rate': 0.04706718081433987, 'subsample': 0.7428012870839568, 'min_data_in_leaf': 75, 'l2_leaf_reg': 3, 'random_strength': 0.7292793310605951}. Best is trial 15 with value: 0.900891466316285.\u001b[0m\n"
     ]
    },
    {
     "name": "stdout",
     "output_type": "stream",
     "text": [
      "bestTest = 0.8933974787\n",
      "bestIteration = 53\n",
      "Shrink model to first 54 iterations.\n"
     ]
    },
    {
     "name": "stderr",
     "output_type": "stream",
     "text": [
      "Default metric period is 5 because AUC is/are not implemented for GPU\n",
      "AUC is not implemented on GPU. Will use CPU for metric computation, this could significantly affect learning time\n"
     ]
    },
    {
     "name": "stdout",
     "output_type": "stream",
     "text": [
      "0:\ttest: 0.7983550\tbest: 0.7983550 (0)\ttotal: 11.7ms\tremaining: 3m 54s\n"
     ]
    },
    {
     "name": "stderr",
     "output_type": "stream",
     "text": [
      "\u001b[32m[I 2023-01-16 14:51:16,166]\u001b[0m Trial 31 finished with value: 0.8800042697714325 and parameters: {'depth': 6, 'learning_rate': 0.04383056708686436, 'subsample': 0.7467682766526658, 'min_data_in_leaf': 74, 'l2_leaf_reg': 3, 'random_strength': 0.718063970074961}. Best is trial 15 with value: 0.900891466316285.\u001b[0m\n"
     ]
    },
    {
     "name": "stdout",
     "output_type": "stream",
     "text": [
      "bestTest = 0.8800042698\n",
      "bestIteration = 56\n",
      "Shrink model to first 57 iterations.\n"
     ]
    },
    {
     "name": "stderr",
     "output_type": "stream",
     "text": [
      "Default metric period is 5 because AUC is/are not implemented for GPU\n",
      "AUC is not implemented on GPU. Will use CPU for metric computation, this could significantly affect learning time\n"
     ]
    },
    {
     "name": "stdout",
     "output_type": "stream",
     "text": [
      "0:\ttest: 0.8808360\tbest: 0.8808360 (0)\ttotal: 10.8ms\tremaining: 3m 35s\n"
     ]
    },
    {
     "name": "stderr",
     "output_type": "stream",
     "text": [
      "\u001b[32m[I 2023-01-16 14:51:18,446]\u001b[0m Trial 32 finished with value: 0.8941534437322921 and parameters: {'depth': 5, 'learning_rate': 0.033351178687365424, 'subsample': 0.9238249862479714, 'min_data_in_leaf': 62, 'l2_leaf_reg': 2, 'random_strength': 0.8133597218281091}. Best is trial 15 with value: 0.900891466316285.\u001b[0m\n"
     ]
    },
    {
     "name": "stdout",
     "output_type": "stream",
     "text": [
      "bestTest = 0.8941534437\n",
      "bestIteration = 40\n",
      "Shrink model to first 41 iterations.\n"
     ]
    },
    {
     "name": "stderr",
     "output_type": "stream",
     "text": [
      "Default metric period is 5 because AUC is/are not implemented for GPU\n",
      "AUC is not implemented on GPU. Will use CPU for metric computation, this could significantly affect learning time\n"
     ]
    },
    {
     "name": "stdout",
     "output_type": "stream",
     "text": [
      "0:\ttest: 0.7806402\tbest: 0.7806402 (0)\ttotal: 9.2ms\tremaining: 3m 4s\n"
     ]
    },
    {
     "name": "stderr",
     "output_type": "stream",
     "text": [
      "\u001b[32m[I 2023-01-16 14:51:21,107]\u001b[0m Trial 33 finished with value: 0.8887360870440723 and parameters: {'depth': 3, 'learning_rate': 0.030703365565793304, 'subsample': 0.9748230147290848, 'min_data_in_leaf': 65, 'l2_leaf_reg': 1, 'random_strength': 0.8388413989083034}. Best is trial 15 with value: 0.900891466316285.\u001b[0m\n"
     ]
    },
    {
     "name": "stdout",
     "output_type": "stream",
     "text": [
      "bestTest = 0.888736087\n",
      "bestIteration = 119\n",
      "Shrink model to first 120 iterations.\n"
     ]
    },
    {
     "name": "stderr",
     "output_type": "stream",
     "text": [
      "Default metric period is 5 because AUC is/are not implemented for GPU\n",
      "AUC is not implemented on GPU. Will use CPU for metric computation, this could significantly affect learning time\n"
     ]
    },
    {
     "name": "stdout",
     "output_type": "stream",
     "text": [
      "0:\ttest: 0.8581877\tbest: 0.8581877 (0)\ttotal: 20.6ms\tremaining: 6m 51s\n"
     ]
    },
    {
     "name": "stderr",
     "output_type": "stream",
     "text": [
      "\u001b[32m[I 2023-01-16 14:51:27,933]\u001b[0m Trial 34 finished with value: 0.8738868456693137 and parameters: {'depth': 9, 'learning_rate': 0.014059238107728068, 'subsample': 0.8669685553453799, 'min_data_in_leaf': 41, 'l2_leaf_reg': 6, 'random_strength': 0.6186450024126792}. Best is trial 15 with value: 0.900891466316285.\u001b[0m\n"
     ]
    },
    {
     "name": "stdout",
     "output_type": "stream",
     "text": [
      "bestTest = 0.8738868457\n",
      "bestIteration = 191\n",
      "Shrink model to first 192 iterations.\n"
     ]
    },
    {
     "name": "stderr",
     "output_type": "stream",
     "text": [
      "Default metric period is 5 because AUC is/are not implemented for GPU\n",
      "AUC is not implemented on GPU. Will use CPU for metric computation, this could significantly affect learning time\n"
     ]
    },
    {
     "name": "stdout",
     "output_type": "stream",
     "text": [
      "0:\ttest: 0.7804789\tbest: 0.7804789 (0)\ttotal: 11.9ms\tremaining: 3m 57s\n"
     ]
    },
    {
     "name": "stderr",
     "output_type": "stream",
     "text": [
      "\u001b[32m[I 2023-01-16 14:51:29,909]\u001b[0m Trial 35 finished with value: 0.8703410496768375 and parameters: {'depth': 5, 'learning_rate': 0.036278791257467524, 'subsample': 0.11892909010553071, 'min_data_in_leaf': 61, 'l2_leaf_reg': 2, 'random_strength': 0.8357713693376267}. Best is trial 15 with value: 0.900891466316285.\u001b[0m\n"
     ]
    },
    {
     "name": "stdout",
     "output_type": "stream",
     "text": [
      "bestTest = 0.8703410497\n",
      "bestIteration = 14\n",
      "Shrink model to first 15 iterations.\n"
     ]
    },
    {
     "name": "stderr",
     "output_type": "stream",
     "text": [
      "Default metric period is 5 because AUC is/are not implemented for GPU\n",
      "AUC is not implemented on GPU. Will use CPU for metric computation, this could significantly affect learning time\n"
     ]
    },
    {
     "name": "stdout",
     "output_type": "stream",
     "text": [
      "0:\ttest: 0.8593019\tbest: 0.8593019 (0)\ttotal: 10.1ms\tremaining: 3m 21s\n"
     ]
    },
    {
     "name": "stderr",
     "output_type": "stream",
     "text": [
      "\u001b[32m[I 2023-01-16 14:51:32,725]\u001b[0m Trial 36 finished with value: 0.881641127731492 and parameters: {'depth': 4, 'learning_rate': 0.021456599391244516, 'subsample': 0.9084535611398858, 'min_data_in_leaf': 54, 'l2_leaf_reg': 4, 'random_strength': 0.6473488871190107}. Best is trial 15 with value: 0.900891466316285.\u001b[0m\n"
     ]
    },
    {
     "name": "stdout",
     "output_type": "stream",
     "text": [
      "bestTest = 0.8816411277\n",
      "bestIteration = 109\n",
      "Shrink model to first 110 iterations.\n"
     ]
    },
    {
     "name": "stderr",
     "output_type": "stream",
     "text": [
      "Default metric period is 5 because AUC is/are not implemented for GPU\n",
      "AUC is not implemented on GPU. Will use CPU for metric computation, this could significantly affect learning time\n"
     ]
    },
    {
     "name": "stdout",
     "output_type": "stream",
     "text": [
      "0:\ttest: 0.8597212\tbest: 0.8597212 (0)\ttotal: 39.6ms\tremaining: 13m 12s\n"
     ]
    },
    {
     "name": "stderr",
     "output_type": "stream",
     "text": [
      "\u001b[32m[I 2023-01-16 14:51:37,580]\u001b[0m Trial 37 finished with value: 0.8807016433232291 and parameters: {'depth': 9, 'learning_rate': 0.030343457914492264, 'subsample': 0.21481886276861217, 'min_data_in_leaf': 33, 'l2_leaf_reg': 2, 'random_strength': 0.8979035893207723}. Best is trial 15 with value: 0.900891466316285.\u001b[0m\n"
     ]
    },
    {
     "name": "stdout",
     "output_type": "stream",
     "text": [
      "bestTest = 0.8807016433\n",
      "bestIteration = 79\n",
      "Shrink model to first 80 iterations.\n"
     ]
    },
    {
     "name": "stderr",
     "output_type": "stream",
     "text": [
      "Default metric period is 5 because AUC is/are not implemented for GPU\n",
      "AUC is not implemented on GPU. Will use CPU for metric computation, this could significantly affect learning time\n"
     ]
    },
    {
     "name": "stdout",
     "output_type": "stream",
     "text": [
      "0:\ttest: 0.8669286\tbest: 0.8669286 (0)\ttotal: 18ms\tremaining: 5m 59s\n"
     ]
    },
    {
     "name": "stderr",
     "output_type": "stream",
     "text": [
      "\u001b[32m[I 2023-01-16 14:51:44,360]\u001b[0m Trial 38 finished with value: 0.8884054154709847 and parameters: {'depth': 8, 'learning_rate': 0.035299199926936004, 'subsample': 0.17977151876018202, 'min_data_in_leaf': 45, 'l2_leaf_reg': 5, 'random_strength': 0.29414309041515696}. Best is trial 15 with value: 0.900891466316285.\u001b[0m\n"
     ]
    },
    {
     "name": "stdout",
     "output_type": "stream",
     "text": [
      "bestTest = 0.8884054155\n",
      "bestIteration = 259\n",
      "Shrink model to first 260 iterations.\n"
     ]
    },
    {
     "name": "stderr",
     "output_type": "stream",
     "text": [
      "Default metric period is 5 because AUC is/are not implemented for GPU\n",
      "AUC is not implemented on GPU. Will use CPU for metric computation, this could significantly affect learning time\n"
     ]
    },
    {
     "name": "stdout",
     "output_type": "stream",
     "text": [
      "0:\ttest: 0.8725605\tbest: 0.8725605 (0)\ttotal: 11ms\tremaining: 3m 39s\n"
     ]
    },
    {
     "name": "stderr",
     "output_type": "stream",
     "text": [
      "\u001b[32m[I 2023-01-16 14:51:47,693]\u001b[0m Trial 39 finished with value: 0.8837608604734328 and parameters: {'depth': 5, 'learning_rate': 0.01060286515968589, 'subsample': 0.4768359971061886, 'min_data_in_leaf': 15, 'l2_leaf_reg': 11, 'random_strength': 0.02141019595235144}. Best is trial 15 with value: 0.900891466316285.\u001b[0m\n"
     ]
    },
    {
     "name": "stdout",
     "output_type": "stream",
     "text": [
      "bestTest = 0.8837608605\n",
      "bestIteration = 136\n",
      "Shrink model to first 137 iterations.\n"
     ]
    },
    {
     "name": "stderr",
     "output_type": "stream",
     "text": [
      "Default metric period is 5 because AUC is/are not implemented for GPU\n",
      "AUC is not implemented on GPU. Will use CPU for metric computation, this could significantly affect learning time\n"
     ]
    },
    {
     "name": "stdout",
     "output_type": "stream",
     "text": [
      "0:\ttest: 0.8848717\tbest: 0.8848717 (0)\ttotal: 13.9ms\tremaining: 4m 37s\n"
     ]
    },
    {
     "name": "stderr",
     "output_type": "stream",
     "text": [
      "\u001b[32m[I 2023-01-16 14:51:50,566]\u001b[0m Trial 40 finished with value: 0.8956549351216987 and parameters: {'depth': 7, 'learning_rate': 0.09399418907339113, 'subsample': 0.5694690899130956, 'min_data_in_leaf': 49, 'l2_leaf_reg': 10, 'random_strength': 0.7921945174323101}. Best is trial 15 with value: 0.900891466316285.\u001b[0m\n"
     ]
    },
    {
     "name": "stdout",
     "output_type": "stream",
     "text": [
      "bestTest = 0.8956549351\n",
      "bestIteration = 59\n",
      "Shrink model to first 60 iterations.\n"
     ]
    },
    {
     "name": "stderr",
     "output_type": "stream",
     "text": [
      "Default metric period is 5 because AUC is/are not implemented for GPU\n",
      "AUC is not implemented on GPU. Will use CPU for metric computation, this could significantly affect learning time\n"
     ]
    },
    {
     "name": "stdout",
     "output_type": "stream",
     "text": [
      "0:\ttest: 0.8688631\tbest: 0.8688631 (0)\ttotal: 14.3ms\tremaining: 4m 45s\n"
     ]
    },
    {
     "name": "stderr",
     "output_type": "stream",
     "text": [
      "\u001b[32m[I 2023-01-16 14:51:53,159]\u001b[0m Trial 41 finished with value: 0.8923414847355671 and parameters: {'depth': 7, 'learning_rate': 0.09248552290086554, 'subsample': 0.5818434299255162, 'min_data_in_leaf': 49, 'l2_leaf_reg': 10, 'random_strength': 0.7756090921097025}. Best is trial 15 with value: 0.900891466316285.\u001b[0m\n"
     ]
    },
    {
     "name": "stdout",
     "output_type": "stream",
     "text": [
      "bestTest = 0.8923414847\n",
      "bestIteration = 33\n",
      "Shrink model to first 34 iterations.\n"
     ]
    },
    {
     "name": "stderr",
     "output_type": "stream",
     "text": [
      "Default metric period is 5 because AUC is/are not implemented for GPU\n",
      "AUC is not implemented on GPU. Will use CPU for metric computation, this could significantly affect learning time\n"
     ]
    },
    {
     "name": "stdout",
     "output_type": "stream",
     "text": [
      "0:\ttest: 0.8761120\tbest: 0.8761120 (0)\ttotal: 11.6ms\tremaining: 3m 51s\n",
      "bestTest = 0.890593505\n",
      "bestIteration = 53\n",
      "Shrink model to first 54 iterations.\n"
     ]
    },
    {
     "name": "stderr",
     "output_type": "stream",
     "text": [
      "\u001b[32m[I 2023-01-16 14:51:56,317]\u001b[0m Trial 42 finished with value: 0.8905935049637776 and parameters: {'depth': 8, 'learning_rate': 0.08561209789187374, 'subsample': 0.6430857736561599, 'min_data_in_leaf': 88, 'l2_leaf_reg': 11, 'random_strength': 0.7554057918318371}. Best is trial 15 with value: 0.900891466316285.\u001b[0m\n",
      "Default metric period is 5 because AUC is/are not implemented for GPU\n",
      "AUC is not implemented on GPU. Will use CPU for metric computation, this could significantly affect learning time\n"
     ]
    },
    {
     "name": "stdout",
     "output_type": "stream",
     "text": [
      "0:\ttest: 0.8655493\tbest: 0.8655493 (0)\ttotal: 22.4ms\tremaining: 7m 27s\n",
      "bestTest = 0.8863742434\n",
      "bestIteration = 46\n",
      "Shrink model to first 47 iterations.\n"
     ]
    },
    {
     "name": "stderr",
     "output_type": "stream",
     "text": [
      "\u001b[32m[I 2023-01-16 14:52:00,867]\u001b[0m Trial 43 finished with value: 0.8863742434456652 and parameters: {'depth': 7, 'learning_rate': 0.09341627688810197, 'subsample': 0.6927200474011042, 'min_data_in_leaf': 78, 'l2_leaf_reg': 9, 'random_strength': 0.8142756589398177}. Best is trial 15 with value: 0.900891466316285.\u001b[0m\n",
      "Default metric period is 5 because AUC is/are not implemented for GPU\n",
      "AUC is not implemented on GPU. Will use CPU for metric computation, this could significantly affect learning time\n"
     ]
    },
    {
     "name": "stdout",
     "output_type": "stream",
     "text": [
      "0:\ttest: 0.8705997\tbest: 0.8705997 (0)\ttotal: 23.5ms\tremaining: 7m 50s\n"
     ]
    },
    {
     "name": "stderr",
     "output_type": "stream",
     "text": [
      "\u001b[32m[I 2023-01-16 14:52:05,224]\u001b[0m Trial 44 finished with value: 0.8912609092996835 and parameters: {'depth': 6, 'learning_rate': 0.07370276893180559, 'subsample': 0.5661485703714284, 'min_data_in_leaf': 28, 'l2_leaf_reg': 8, 'random_strength': 0.4816363378433152}. Best is trial 15 with value: 0.900891466316285.\u001b[0m\n"
     ]
    },
    {
     "name": "stdout",
     "output_type": "stream",
     "text": [
      "bestTest = 0.8912609093\n",
      "bestIteration = 65\n",
      "Shrink model to first 66 iterations.\n"
     ]
    },
    {
     "name": "stderr",
     "output_type": "stream",
     "text": [
      "Default metric period is 5 because AUC is/are not implemented for GPU\n",
      "AUC is not implemented on GPU. Will use CPU for metric computation, this could significantly affect learning time\n"
     ]
    },
    {
     "name": "stdout",
     "output_type": "stream",
     "text": [
      "0:\ttest: 0.8750092\tbest: 0.8750092 (0)\ttotal: 19ms\tremaining: 6m 20s\n"
     ]
    },
    {
     "name": "stderr",
     "output_type": "stream",
     "text": [
      "\u001b[32m[I 2023-01-16 14:55:34,672]\u001b[0m Trial 45 finished with value: 0.8855731562029205 and parameters: {'depth': 7, 'learning_rate': 0.09467393125976004, 'subsample': 0.5034462571290992, 'min_data_in_leaf': 84, 'l2_leaf_reg': 12, 'random_strength': 0.5730725072525309}. Best is trial 15 with value: 0.900891466316285.\u001b[0m\n"
     ]
    },
    {
     "name": "stdout",
     "output_type": "stream",
     "text": [
      "bestTest = 0.8855731562\n",
      "bestIteration = 12\n",
      "Shrink model to first 13 iterations.\n"
     ]
    }
   ],
   "source": [
    "cat_ranks = {}\n",
    "\n",
    "train_time = 1 * 60 * 5\n",
    "study = optuna.create_study(direction='maximize', sampler=TPESampler(), study_name='CATRegressor')\n",
    "study.optimize(cat_objective, timeout=train_time)\n",
    "\n"
   ]
  },
  {
   "cell_type": "code",
   "execution_count": 9,
   "id": "e8c311ac-1682-4fef-b5cb-738cf81f8e89",
   "metadata": {
    "tags": []
   },
   "outputs": [],
   "source": [
    "cat_ranks_bytes = pickle.dumps(cat_ranks)\n",
    "with open(\"rendered_data/CAT_clsfs_bytes.hex\", \"wb\") as binary_file:\n",
    "    binary_file.write(cat_ranks_bytes)"
   ]
  },
  {
   "cell_type": "code",
   "execution_count": 14,
   "id": "1c611044-b83b-42bc-8ea0-f34bf0ec3782",
   "metadata": {},
   "outputs": [
    {
     "name": "stderr",
     "output_type": "stream",
     "text": [
      "100%|███████████████████████████████████████████████████████████████████████████████████| 5/5 [00:00<00:00, 249.99it/s]\n"
     ]
    }
   ],
   "source": [
    "percent = math.ceil(len(cat_ranks.keys()) * .1)\n",
    "top = sorted(list(cat_ranks.keys()))[-percent:]\n",
    "\n",
    "train_preds = []\n",
    "test_preds = []\n",
    "for key in tqdm(top):\n",
    "    train_preds.append(cat_ranks[key].predict(X))\n",
    "    test_preds.append(cat_ranks[key].predict(X_test))\n",
    "    \n",
    "train_final_preds = np.stack(train_preds).mean(0)\n",
    "test_final_preds = np.stack(test_preds).mean(0)"
   ]
  },
  {
   "cell_type": "code",
   "execution_count": 15,
   "id": "31a813da-1308-4125-9c61-6516e81ebedf",
   "metadata": {},
   "outputs": [],
   "source": [
    "CAT_train_submission = pd.DataFrame(data={'id': train_df.id, 'stroke': train_final_preds})\n",
    "CAT_train_submission.to_csv(fr'rendered_data/CAT_train_submission.csv', index=False)\n",
    "\n",
    "CAT_test_submission = pd.DataFrame(data={'id': test_df.id, 'stroke': test_final_preds})\n",
    "CAT_test_submission.to_csv(fr'rendered_data/CAT_test_submission.csv', index=False)"
   ]
  },
  {
   "cell_type": "code",
   "execution_count": null,
   "id": "37c55386-36e0-47a8-9ad6-7b5e903565d8",
   "metadata": {},
   "outputs": [],
   "source": []
  }
 ],
 "metadata": {
  "kernelspec": {
   "display_name": "Python 3 (ipykernel)",
   "language": "python",
   "name": "python3"
  },
  "language_info": {
   "codemirror_mode": {
    "name": "ipython",
    "version": 3
   },
   "file_extension": ".py",
   "mimetype": "text/x-python",
   "name": "python",
   "nbconvert_exporter": "python",
   "pygments_lexer": "ipython3",
   "version": "3.10.9"
  }
 },
 "nbformat": 4,
 "nbformat_minor": 5
}
