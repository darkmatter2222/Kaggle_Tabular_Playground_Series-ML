{
 "cells": [
  {
   "cell_type": "code",
   "execution_count": 1,
   "id": "0ea2173c-c725-48a2-9f4b-0760d06f5369",
   "metadata": {},
   "outputs": [],
   "source": [
    "import numpy as np\n",
    "import pandas as pd\n",
    "import math\n",
    "import sys, os\n",
    "#import seaborn as sns\n",
    "#from scipy import stats\n",
    "#from pathlib import Path\n",
    "#import matplotlib.pyplot as plt\n",
    "#from sklearn.model_selection import KFold\n",
    "from sklearn.preprocessing import MinMaxScaler\n",
    "from sklearn.model_selection import train_test_split\n",
    "#from sklearn.metrics import mean_squared_error\n",
    "#from sklearn.metrics import mean_squared_error\n",
    "#from sklearn.preprocessing import MinMaxScaler\n",
    "#from sklearn.datasets import fetch_california_housing\n",
    "#import math\n",
    "from tqdm import tqdm\n",
    "from sklearn.feature_extraction.text import CountVectorizer\n",
    "import optuna\n",
    "from optuna.samplers import TPESampler\n",
    "#import lightgbm as lbgm\n",
    "#from xgboost import XGBRegressor\n",
    "#import xgboost as xgb\n",
    "from catboost import CatBoostRegressor\n",
    "#from lightgbm.sklearn import lbgmRegressor\n",
    "#from sklearn.ensemble import RandomForestRegressor\n",
    "import pickle\n",
    "from sklearn.metrics import roc_curve, auc\n",
    "from sklearn.model_selection import StratifiedKFold\n",
    "from sklearn.metrics import roc_auc_score"
   ]
  },
  {
   "cell_type": "code",
   "execution_count": 2,
   "id": "8f0f95fb-df8e-48fd-8966-c5da8cd6aa8d",
   "metadata": {},
   "outputs": [],
   "source": [
    "train_time = 1 * 60 * 60\n",
    "objective = 'catregressor'"
   ]
  },
  {
   "cell_type": "code",
   "execution_count": 3,
   "id": "f4b3963c-3958-4512-945d-66cd855e2958",
   "metadata": {},
   "outputs": [],
   "source": [
    "sys.path.append(os.path.realpath('..'))"
   ]
  },
  {
   "cell_type": "code",
   "execution_count": 4,
   "id": "fb0c1a5f-5d8d-4051-b6cc-d50eb8f48296",
   "metadata": {},
   "outputs": [],
   "source": [
    "train_df = pd.read_csv(r\"..\\data\\train.csv\", index_col=0)\n",
    "test_df = pd.read_csv(r\"..\\data\\test.csv\", index_col=0)\n",
    "sample_sub = pd.read_csv(r\"..\\data\\sample_submission.csv\", index_col=0)"
   ]
  },
  {
   "cell_type": "code",
   "execution_count": 5,
   "id": "19146116-cccc-4b54-b014-5d86fbb25802",
   "metadata": {},
   "outputs": [],
   "source": [
    "del train_df['Over18']\n",
    "del train_df['EmployeeCount']\n",
    "del train_df['StandardHours']"
   ]
  },
  {
   "cell_type": "code",
   "execution_count": 6,
   "id": "4f91fca1-73d2-46a2-be27-255acb201292",
   "metadata": {},
   "outputs": [
    {
     "name": "stdout",
     "output_type": "stream",
     "text": [
      "BusinessTravel\n",
      "Department\n",
      "EducationField\n",
      "Gender\n",
      "JobRole\n",
      "MaritalStatus\n",
      "OverTime\n"
     ]
    }
   ],
   "source": [
    "columns_to_vectorize = ['BusinessTravel', 'Department', 'EducationField', 'Gender', 'JobRole', 'MaritalStatus', 'OverTime']\n",
    "for vector_target in columns_to_vectorize:\n",
    "    print(vector_target)\n",
    "    vectorizer = CountVectorizer()\n",
    "    vectorizer.fit_transform(train_df[vector_target])\n",
    "    train_df[f'{vector_target}_v'] = vectorizer.transform(train_df[vector_target]).toarray().argmax(axis=1)[:,None]\n",
    "    vectorizer.fit_transform(test_df[vector_target])\n",
    "    test_df[f'{vector_target}_v'] = vectorizer.transform(test_df[vector_target]).toarray().argmax(axis=1)[:,None]"
   ]
  },
  {
   "cell_type": "code",
   "execution_count": 7,
   "id": "bf47c0d1-7407-41ee-8f49-b483c295621a",
   "metadata": {},
   "outputs": [],
   "source": [
    "features = ['Age', 'DailyRate', 'DistanceFromHome', 'Education', 'EnvironmentSatisfaction','HourlyRate', 'JobInvolvement', 'JobLevel', 'JobSatisfaction', \n",
    "       'MonthlyIncome', 'MonthlyRate', 'NumCompaniesWorked', 'PercentSalaryHike', 'PerformanceRating', 'RelationshipSatisfaction', 'StockOptionLevel', 'TotalWorkingYears',\n",
    "       'TrainingTimesLastYear', 'WorkLifeBalance', 'YearsAtCompany', 'YearsInCurrentRole', 'YearsSinceLastPromotion', 'YearsWithCurrManager',\n",
    "        'BusinessTravel_v', 'Department_v', 'EducationField_v','Gender_v', 'JobRole_v', 'MaritalStatus_v', 'OverTime_v']\n",
    "target = ['Attrition']"
   ]
  },
  {
   "cell_type": "code",
   "execution_count": 8,
   "id": "0b6f3634-fc77-4995-a975-a905a599e16f",
   "metadata": {},
   "outputs": [],
   "source": [
    "scaler = MinMaxScaler().fit(train_df[features])\n",
    "X = scaler.transform(train_df[features])\n",
    "X_test = scaler.transform(test_df[features])\n",
    "\n",
    "scaler = MinMaxScaler().fit(train_df[target])\n",
    "Y = scaler.transform(train_df[target])"
   ]
  },
  {
   "cell_type": "code",
   "execution_count": 9,
   "id": "1ca53f18-a11e-476f-a87a-93c34f0e6ce3",
   "metadata": {},
   "outputs": [],
   "source": [
    "RANDOM_STATE = 12 \n",
    "FOLDS = 5\n",
    "param_grid_history = {}\n",
    "\n",
    "def render_model(param_grid):\n",
    "    reg = CatBoostRegressor(iterations=20000,\n",
    "                            **param_grid,\n",
    "                            bootstrap_type='Bernoulli',\n",
    "                            grow_policy='SymmetricTree',\n",
    "                            #loss_function='Logloss',\n",
    "                            eval_metric='AUC',\n",
    "                            task_type=\"GPU\",\n",
    "                            random_state=1,)\n",
    "    return reg\n",
    "    \n",
    "def train_model(reg, X_train, y_train, X_valid, y_valid):\n",
    "    reg.fit(X_train, y_train, eval_set=(X_valid, y_valid), early_stopping_rounds=100, verbose=1000)\n",
    "\n",
    "    preds = reg.predict(train_df[features])\n",
    "    fpr, tpr, _ = roc_curve(train_df[target], preds)\n",
    "    roc_auc = auc(fpr, tpr)\n",
    "    return reg, roc_auc\n",
    "\n",
    "def objective_v2(trial):\n",
    "    scores = []\n",
    "    param_grid = {\n",
    "        'depth': trial.suggest_int('depth', 3, 6),\n",
    "        'learning_rate': trial.suggest_float('learning_rate', 0.001, 0.9),\n",
    "        #'rsm': trial.suggest_float('rsm', 0.001, 0.9),\n",
    "        #'subsample': trial.suggest_float('subsample', 0.1, 1),\n",
    "        #'min_data_in_leaf': trial.suggest_int('min_data_in_leaf', 1, 100), \n",
    "        #'one_hot_max_size': trial.suggest_int('one_hot_max_size', 1, 100), \n",
    "        #'l2_leaf_reg': trial.suggest_float('l2_leaf_reg', 0.01, 20),\n",
    "        'reg_lambda': trial.suggest_int('reg_lambda', 30, 100), \n",
    "        #'random_strength': trial.suggest_float('random_strength', 0.001, 0.9),\n",
    "        #'colsample_bylevel': trial.suggest_float('colsample_bylevel', 0.001, 0.9),\n",
    "    } \n",
    "        \n",
    "    skf = StratifiedKFold(n_splits=FOLDS, shuffle=True, random_state=RANDOM_STATE)\n",
    "    for fold, (train_idx, valid_idx) in enumerate(skf.split(X, Y)):\n",
    "        print(10*\"=\", f\"Fold={fold+1}\", 10*\"=\")\n",
    "        X_train, X_valid = train_df.iloc[train_idx][features], train_df.iloc[valid_idx][features]\n",
    "        y_train , y_valid = train_df[target].iloc[train_idx] , train_df[target].iloc[valid_idx] \n",
    "        \n",
    "        reg = render_model(param_grid)\n",
    "        reg, roc_auc = train_model(reg, X_train, y_train, X_valid, y_valid)\n",
    "\n",
    "        scores.append(roc_auc)\n",
    "    mean_scores = np.mean(scores)\n",
    "    param_grid_history[mean_scores] = param_grid\n",
    "\n",
    "    return mean_scores"
   ]
  },
  {
   "cell_type": "code",
   "execution_count": 10,
   "id": "0f2c49b6-91ef-4215-9a4f-65a4f3885c21",
   "metadata": {},
   "outputs": [],
   "source": [
    "RANDOM_STATE = 12 \n",
    "FOLDS = 5\n",
    "param_grid_history = {}\n",
    "\n",
    "\n",
    "def objective_v3(trial):\n",
    "    oof = np.zeros(len(X))\n",
    "    scores = []\n",
    "    param_grid = {\n",
    "        'depth': trial.suggest_int('depth', 3, 6),\n",
    "        'learning_rate': trial.suggest_float('learning_rate', 0.001, 0.9),\n",
    "        #'rsm': trial.suggest_float('rsm', 0.001, 0.9),\n",
    "        #'subsample': trial.suggest_float('subsample', 0.1, 1),\n",
    "        #'min_data_in_leaf': trial.suggest_int('min_data_in_leaf', 1, 100), \n",
    "        #'one_hot_max_size': trial.suggest_int('one_hot_max_size', 1, 100), \n",
    "        #'l2_leaf_reg': trial.suggest_float('l2_leaf_reg', 0.01, 20),\n",
    "        'reg_lambda': trial.suggest_int('reg_lambda', 1, 100), \n",
    "        #'random_strength': trial.suggest_float('random_strength', 0.001, 0.9),\n",
    "        #'colsample_bylevel': trial.suggest_float('colsample_bylevel', 0.001, 0.9),\n",
    "    } \n",
    "        \n",
    "    skf = StratifiedKFold(n_splits=FOLDS, shuffle=True, random_state=RANDOM_STATE)\n",
    "    for fold, (train_idx, valid_idx) in enumerate(skf.split(X, Y)):\n",
    "        print(10*\"=\", f\"Fold={fold+1}\", 10*\"=\")\n",
    "        X_train, X_valid = train_df.iloc[train_idx][features], train_df.iloc[valid_idx][features]\n",
    "        y_train , y_valid = train_df[target].iloc[train_idx] , train_df[target].iloc[valid_idx] \n",
    "        \n",
    "        reg = CatBoostRegressor(iterations=20000,\n",
    "                            **param_grid,\n",
    "                            bootstrap_type='Bernoulli',\n",
    "                            grow_policy='SymmetricTree',\n",
    "                            #loss_function='Logloss',\n",
    "                            eval_metric='AUC',\n",
    "                            task_type=\"GPU\",\n",
    "                            random_state=1,)\n",
    "\n",
    "        reg.fit(X_train, y_train, eval_set=(X_valid, y_valid), early_stopping_rounds=100, verbose=1000)\n",
    "            \n",
    "        oof[valid_idx] = reg.predict(X_valid)\n",
    "\n",
    "    roc_auc = roc_auc_score(Y, oof)\n",
    "    \n",
    "    param_grid_history[roc_auc] = param_grid\n",
    "\n",
    "    return roc_auc"
   ]
  },
  {
   "cell_type": "code",
   "execution_count": 11,
   "id": "4466b24c-6898-4186-818f-3d3013bee5d4",
   "metadata": {
    "collapsed": true,
    "jupyter": {
     "outputs_hidden": true
    },
    "tags": []
   },
   "outputs": [
    {
     "name": "stderr",
     "output_type": "stream",
     "text": [
      "\u001b[32m[I 2023-01-19 20:01:12,135]\u001b[0m A new study created in memory with name: catregressor\u001b[0m\n"
     ]
    },
    {
     "name": "stdout",
     "output_type": "stream",
     "text": [
      "========== Fold=1 ==========\n"
     ]
    },
    {
     "name": "stderr",
     "output_type": "stream",
     "text": [
      "Default metric period is 5 because AUC is/are not implemented for GPU\n",
      "AUC is not implemented on GPU. Will use CPU for metric computation, this could significantly affect learning time\n"
     ]
    },
    {
     "name": "stdout",
     "output_type": "stream",
     "text": [
      "0:\ttest: 0.7525338\tbest: 0.7525338 (0)\ttotal: 9.76ms\tremaining: 3m 15s\n",
      "bestTest = 0.8132601351\n",
      "bestIteration = 318\n",
      "Shrink model to first 319 iterations.\n",
      "========== Fold=2 ==========\n"
     ]
    },
    {
     "name": "stderr",
     "output_type": "stream",
     "text": [
      "Default metric period is 5 because AUC is/are not implemented for GPU\n",
      "AUC is not implemented on GPU. Will use CPU for metric computation, this could significantly affect learning time\n"
     ]
    },
    {
     "name": "stdout",
     "output_type": "stream",
     "text": [
      "0:\ttest: 0.7966639\tbest: 0.7966639 (0)\ttotal: 15.1ms\tremaining: 5m 2s\n",
      "bestTest = 0.8475084459\n",
      "bestIteration = 22\n",
      "Shrink model to first 23 iterations.\n",
      "========== Fold=3 ==========\n"
     ]
    },
    {
     "name": "stderr",
     "output_type": "stream",
     "text": [
      "Default metric period is 5 because AUC is/are not implemented for GPU\n",
      "AUC is not implemented on GPU. Will use CPU for metric computation, this could significantly affect learning time\n"
     ]
    },
    {
     "name": "stdout",
     "output_type": "stream",
     "text": [
      "0:\ttest: 0.7912712\tbest: 0.7912712 (0)\ttotal: 10.3ms\tremaining: 3m 25s\n",
      "bestTest = 0.8783898305\n",
      "bestIteration = 241\n",
      "Shrink model to first 242 iterations.\n",
      "========== Fold=4 ==========\n"
     ]
    },
    {
     "name": "stderr",
     "output_type": "stream",
     "text": [
      "Default metric period is 5 because AUC is/are not implemented for GPU\n",
      "AUC is not implemented on GPU. Will use CPU for metric computation, this could significantly affect learning time\n"
     ]
    },
    {
     "name": "stdout",
     "output_type": "stream",
     "text": [
      "0:\ttest: 0.7728390\tbest: 0.7728390 (0)\ttotal: 10.5ms\tremaining: 3m 30s\n",
      "bestTest = 0.8561864407\n",
      "bestIteration = 326\n",
      "Shrink model to first 327 iterations.\n",
      "========== Fold=5 ==========\n"
     ]
    },
    {
     "name": "stderr",
     "output_type": "stream",
     "text": [
      "Default metric period is 5 because AUC is/are not implemented for GPU\n",
      "AUC is not implemented on GPU. Will use CPU for metric computation, this could significantly affect learning time\n"
     ]
    },
    {
     "name": "stdout",
     "output_type": "stream",
     "text": [
      "0:\ttest: 0.7305085\tbest: 0.7305085 (0)\ttotal: 9.9ms\tremaining: 3m 17s\n"
     ]
    },
    {
     "name": "stderr",
     "output_type": "stream",
     "text": [
      "\u001b[32m[I 2023-01-19 20:01:31,631]\u001b[0m Trial 0 finished with value: 0.829785037237644 and parameters: {'depth': 6, 'learning_rate': 0.03233961762796583, 'reg_lambda': 19}. Best is trial 0 with value: 0.829785037237644.\u001b[0m\n"
     ]
    },
    {
     "name": "stdout",
     "output_type": "stream",
     "text": [
      "bestTest = 0.8096610169\n",
      "bestIteration = 154\n",
      "Shrink model to first 155 iterations.\n",
      "========== Fold=1 ==========\n"
     ]
    },
    {
     "name": "stderr",
     "output_type": "stream",
     "text": [
      "Default metric period is 5 because AUC is/are not implemented for GPU\n",
      "AUC is not implemented on GPU. Will use CPU for metric computation, this could significantly affect learning time\n"
     ]
    },
    {
     "name": "stdout",
     "output_type": "stream",
     "text": [
      "0:\ttest: 0.7317990\tbest: 0.7317990 (0)\ttotal: 7.86ms\tremaining: 2m 37s\n",
      "bestTest = 0.8420608108\n",
      "bestIteration = 267\n",
      "Shrink model to first 268 iterations.\n",
      "========== Fold=2 ==========\n"
     ]
    },
    {
     "name": "stderr",
     "output_type": "stream",
     "text": [
      "Default metric period is 5 because AUC is/are not implemented for GPU\n",
      "AUC is not implemented on GPU. Will use CPU for metric computation, this could significantly affect learning time\n"
     ]
    },
    {
     "name": "stdout",
     "output_type": "stream",
     "text": [
      "0:\ttest: 0.7980152\tbest: 0.7980152 (0)\ttotal: 8.11ms\tremaining: 2m 42s\n",
      "bestTest = 0.8434121622\n",
      "bestIteration = 176\n",
      "Shrink model to first 177 iterations.\n",
      "========== Fold=3 ==========\n"
     ]
    },
    {
     "name": "stderr",
     "output_type": "stream",
     "text": [
      "Default metric period is 5 because AUC is/are not implemented for GPU\n",
      "AUC is not implemented on GPU. Will use CPU for metric computation, this could significantly affect learning time\n"
     ]
    },
    {
     "name": "stdout",
     "output_type": "stream",
     "text": [
      "0:\ttest: 0.7906780\tbest: 0.7906780 (0)\ttotal: 8.09ms\tremaining: 2m 41s\n",
      "bestTest = 0.8843220339\n",
      "bestIteration = 163\n",
      "Shrink model to first 164 iterations.\n",
      "========== Fold=4 ==========\n"
     ]
    },
    {
     "name": "stderr",
     "output_type": "stream",
     "text": [
      "Default metric period is 5 because AUC is/are not implemented for GPU\n",
      "AUC is not implemented on GPU. Will use CPU for metric computation, this could significantly affect learning time\n"
     ]
    },
    {
     "name": "stdout",
     "output_type": "stream",
     "text": [
      "0:\ttest: 0.7699153\tbest: 0.7699153 (0)\ttotal: 8.92ms\tremaining: 2m 58s\n",
      "bestTest = 0.841779661\n",
      "bestIteration = 61\n",
      "Shrink model to first 62 iterations.\n",
      "========== Fold=5 ==========\n"
     ]
    },
    {
     "name": "stderr",
     "output_type": "stream",
     "text": [
      "Default metric period is 5 because AUC is/are not implemented for GPU\n",
      "AUC is not implemented on GPU. Will use CPU for metric computation, this could significantly affect learning time\n"
     ]
    },
    {
     "name": "stdout",
     "output_type": "stream",
     "text": [
      "0:\ttest: 0.7588136\tbest: 0.7588136 (0)\ttotal: 7.98ms\tremaining: 2m 39s\n"
     ]
    },
    {
     "name": "stderr",
     "output_type": "stream",
     "text": [
      "\u001b[32m[I 2023-01-19 20:01:45,290]\u001b[0m Trial 1 finished with value: 0.8425287745429926 and parameters: {'depth': 4, 'learning_rate': 0.16560862038269955, 'reg_lambda': 57}. Best is trial 1 with value: 0.8425287745429926.\u001b[0m\n"
     ]
    },
    {
     "name": "stdout",
     "output_type": "stream",
     "text": [
      "bestTest = 0.813559322\n",
      "bestIteration = 67\n",
      "Shrink model to first 68 iterations.\n",
      "========== Fold=1 ==========\n"
     ]
    },
    {
     "name": "stderr",
     "output_type": "stream",
     "text": [
      "Default metric period is 5 because AUC is/are not implemented for GPU\n",
      "AUC is not implemented on GPU. Will use CPU for metric computation, this could significantly affect learning time\n"
     ]
    },
    {
     "name": "stdout",
     "output_type": "stream",
     "text": [
      "0:\ttest: 0.7139780\tbest: 0.7139780 (0)\ttotal: 7.59ms\tremaining: 2m 31s\n",
      "bestTest = 0.8383445946\n",
      "bestIteration = 105\n",
      "Shrink model to first 106 iterations.\n",
      "========== Fold=2 ==========\n"
     ]
    },
    {
     "name": "stderr",
     "output_type": "stream",
     "text": [
      "Default metric period is 5 because AUC is/are not implemented for GPU\n",
      "AUC is not implemented on GPU. Will use CPU for metric computation, this could significantly affect learning time\n"
     ]
    },
    {
     "name": "stdout",
     "output_type": "stream",
     "text": [
      "0:\ttest: 0.7758868\tbest: 0.7758868 (0)\ttotal: 7.97ms\tremaining: 2m 39s\n",
      "bestTest = 0.8358952703\n",
      "bestIteration = 92\n",
      "Shrink model to first 93 iterations.\n",
      "========== Fold=3 ==========\n"
     ]
    },
    {
     "name": "stderr",
     "output_type": "stream",
     "text": [
      "Default metric period is 5 because AUC is/are not implemented for GPU\n",
      "AUC is not implemented on GPU. Will use CPU for metric computation, this could significantly affect learning time\n"
     ]
    },
    {
     "name": "stdout",
     "output_type": "stream",
     "text": [
      "0:\ttest: 0.7762288\tbest: 0.7762288 (0)\ttotal: 7.99ms\tremaining: 2m 39s\n",
      "bestTest = 0.8708474576\n",
      "bestIteration = 42\n",
      "Shrink model to first 43 iterations.\n",
      "========== Fold=4 ==========\n"
     ]
    },
    {
     "name": "stderr",
     "output_type": "stream",
     "text": [
      "Default metric period is 5 because AUC is/are not implemented for GPU\n",
      "AUC is not implemented on GPU. Will use CPU for metric computation, this could significantly affect learning time\n"
     ]
    },
    {
     "name": "stdout",
     "output_type": "stream",
     "text": [
      "0:\ttest: 0.7415678\tbest: 0.7415678 (0)\ttotal: 7.4ms\tremaining: 2m 27s\n",
      "bestTest = 0.8554237288\n",
      "bestIteration = 58\n",
      "Shrink model to first 59 iterations.\n",
      "========== Fold=5 ==========\n"
     ]
    },
    {
     "name": "stderr",
     "output_type": "stream",
     "text": [
      "Default metric period is 5 because AUC is/are not implemented for GPU\n",
      "AUC is not implemented on GPU. Will use CPU for metric computation, this could significantly affect learning time\n"
     ]
    },
    {
     "name": "stdout",
     "output_type": "stream",
     "text": [
      "0:\ttest: 0.7250424\tbest: 0.7250424 (0)\ttotal: 7.91ms\tremaining: 2m 38s\n"
     ]
    },
    {
     "name": "stderr",
     "output_type": "stream",
     "text": [
      "\u001b[32m[I 2023-01-19 20:01:54,963]\u001b[0m Trial 2 finished with value: 0.8360223425863236 and parameters: {'depth': 3, 'learning_rate': 0.35710939166689687, 'reg_lambda': 67}. Best is trial 1 with value: 0.8425287745429926.\u001b[0m\n"
     ]
    },
    {
     "name": "stdout",
     "output_type": "stream",
     "text": [
      "bestTest = 0.796779661\n",
      "bestIteration = 18\n",
      "Shrink model to first 19 iterations.\n",
      "========== Fold=1 ==========\n"
     ]
    },
    {
     "name": "stderr",
     "output_type": "stream",
     "text": [
      "Default metric period is 5 because AUC is/are not implemented for GPU\n",
      "AUC is not implemented on GPU. Will use CPU for metric computation, this could significantly affect learning time\n"
     ]
    },
    {
     "name": "stdout",
     "output_type": "stream",
     "text": [
      "0:\ttest: 0.7139780\tbest: 0.7139780 (0)\ttotal: 7.53ms\tremaining: 2m 30s\n",
      "bestTest = 0.8087837838\n",
      "bestIteration = 72\n",
      "Shrink model to first 73 iterations.\n",
      "========== Fold=2 ==========\n"
     ]
    },
    {
     "name": "stderr",
     "output_type": "stream",
     "text": [
      "Default metric period is 5 because AUC is/are not implemented for GPU\n",
      "AUC is not implemented on GPU. Will use CPU for metric computation, this could significantly affect learning time\n"
     ]
    },
    {
     "name": "stdout",
     "output_type": "stream",
     "text": [
      "0:\ttest: 0.7801098\tbest: 0.7801098 (0)\ttotal: 7.97ms\tremaining: 2m 39s\n",
      "bestTest = 0.8377956081\n",
      "bestIteration = 21\n",
      "Shrink model to first 22 iterations.\n",
      "========== Fold=3 ==========\n"
     ]
    },
    {
     "name": "stderr",
     "output_type": "stream",
     "text": [
      "Default metric period is 5 because AUC is/are not implemented for GPU\n",
      "AUC is not implemented on GPU. Will use CPU for metric computation, this could significantly affect learning time\n"
     ]
    },
    {
     "name": "stdout",
     "output_type": "stream",
     "text": [
      "0:\ttest: 0.7758051\tbest: 0.7758051 (0)\ttotal: 8.05ms\tremaining: 2m 41s\n",
      "bestTest = 0.883559322\n",
      "bestIteration = 158\n",
      "Shrink model to first 159 iterations.\n",
      "========== Fold=4 ==========\n"
     ]
    },
    {
     "name": "stderr",
     "output_type": "stream",
     "text": [
      "Default metric period is 5 because AUC is/are not implemented for GPU\n",
      "AUC is not implemented on GPU. Will use CPU for metric computation, this could significantly affect learning time\n"
     ]
    },
    {
     "name": "stdout",
     "output_type": "stream",
     "text": [
      "0:\ttest: 0.7622034\tbest: 0.7622034 (0)\ttotal: 7.47ms\tremaining: 2m 29s\n",
      "bestTest = 0.8549152542\n",
      "bestIteration = 287\n",
      "Shrink model to first 288 iterations.\n",
      "========== Fold=5 ==========\n"
     ]
    },
    {
     "name": "stderr",
     "output_type": "stream",
     "text": [
      "Default metric period is 5 because AUC is/are not implemented for GPU\n",
      "AUC is not implemented on GPU. Will use CPU for metric computation, this could significantly affect learning time\n"
     ]
    },
    {
     "name": "stdout",
     "output_type": "stream",
     "text": [
      "0:\ttest: 0.7379237\tbest: 0.7379237 (0)\ttotal: 9.46ms\tremaining: 3m 9s\n"
     ]
    },
    {
     "name": "stderr",
     "output_type": "stream",
     "text": [
      "\u001b[32m[I 2023-01-19 20:02:07,077]\u001b[0m Trial 3 finished with value: 0.831772173324306 and parameters: {'depth': 3, 'learning_rate': 0.09120471580915651, 'reg_lambda': 49}. Best is trial 1 with value: 0.8425287745429926.\u001b[0m\n"
     ]
    },
    {
     "name": "stdout",
     "output_type": "stream",
     "text": [
      "bestTest = 0.7922033898\n",
      "bestIteration = 108\n",
      "Shrink model to first 109 iterations.\n",
      "========== Fold=1 ==========\n"
     ]
    },
    {
     "name": "stderr",
     "output_type": "stream",
     "text": [
      "Default metric period is 5 because AUC is/are not implemented for GPU\n",
      "AUC is not implemented on GPU. Will use CPU for metric computation, this could significantly affect learning time\n"
     ]
    },
    {
     "name": "stdout",
     "output_type": "stream",
     "text": [
      "0:\ttest: 0.7297720\tbest: 0.7297720 (0)\ttotal: 8.03ms\tremaining: 2m 40s\n",
      "bestTest = 0.8237331081\n",
      "bestIteration = 101\n",
      "Shrink model to first 102 iterations.\n",
      "========== Fold=2 ==========\n"
     ]
    },
    {
     "name": "stderr",
     "output_type": "stream",
     "text": [
      "Default metric period is 5 because AUC is/are not implemented for GPU\n",
      "AUC is not implemented on GPU. Will use CPU for metric computation, this could significantly affect learning time\n"
     ]
    },
    {
     "name": "stdout",
     "output_type": "stream",
     "text": [
      "0:\ttest: 0.7980152\tbest: 0.7980152 (0)\ttotal: 8.54ms\tremaining: 2m 50s\n",
      "bestTest = 0.8541385135\n",
      "bestIteration = 129\n",
      "Shrink model to first 130 iterations.\n",
      "========== Fold=3 ==========\n"
     ]
    },
    {
     "name": "stderr",
     "output_type": "stream",
     "text": [
      "Default metric period is 5 because AUC is/are not implemented for GPU\n",
      "AUC is not implemented on GPU. Will use CPU for metric computation, this could significantly affect learning time\n"
     ]
    },
    {
     "name": "stdout",
     "output_type": "stream",
     "text": [
      "0:\ttest: 0.7762712\tbest: 0.7762712 (0)\ttotal: 8.66ms\tremaining: 2m 53s\n",
      "bestTest = 0.8710169492\n",
      "bestIteration = 80\n",
      "Shrink model to first 81 iterations.\n",
      "========== Fold=4 ==========\n"
     ]
    },
    {
     "name": "stderr",
     "output_type": "stream",
     "text": [
      "Default metric period is 5 because AUC is/are not implemented for GPU\n",
      "AUC is not implemented on GPU. Will use CPU for metric computation, this could significantly affect learning time\n"
     ]
    },
    {
     "name": "stdout",
     "output_type": "stream",
     "text": [
      "0:\ttest: 0.7794915\tbest: 0.7794915 (0)\ttotal: 9.34ms\tremaining: 3m 6s\n",
      "bestTest = 0.8580508475\n",
      "bestIteration = 45\n",
      "Shrink model to first 46 iterations.\n",
      "========== Fold=5 ==========\n"
     ]
    },
    {
     "name": "stderr",
     "output_type": "stream",
     "text": [
      "Default metric period is 5 because AUC is/are not implemented for GPU\n",
      "AUC is not implemented on GPU. Will use CPU for metric computation, this could significantly affect learning time\n"
     ]
    },
    {
     "name": "stdout",
     "output_type": "stream",
     "text": [
      "0:\ttest: 0.7588136\tbest: 0.7588136 (0)\ttotal: 8.01ms\tremaining: 2m 40s\n"
     ]
    },
    {
     "name": "stderr",
     "output_type": "stream",
     "text": [
      "\u001b[32m[I 2023-01-19 20:02:18,101]\u001b[0m Trial 4 finished with value: 0.8386662153012865 and parameters: {'depth': 4, 'learning_rate': 0.541847990247626, 'reg_lambda': 77}. Best is trial 1 with value: 0.8425287745429926.\u001b[0m\n"
     ]
    },
    {
     "name": "stdout",
     "output_type": "stream",
     "text": [
      "bestTest = 0.7937288136\n",
      "bestIteration = 63\n",
      "Shrink model to first 64 iterations.\n",
      "========== Fold=1 ==========\n"
     ]
    },
    {
     "name": "stderr",
     "output_type": "stream",
     "text": [
      "Default metric period is 5 because AUC is/are not implemented for GPU\n",
      "AUC is not implemented on GPU. Will use CPU for metric computation, this could significantly affect learning time\n"
     ]
    },
    {
     "name": "stdout",
     "output_type": "stream",
     "text": [
      "0:\ttest: 0.7297720\tbest: 0.7297720 (0)\ttotal: 10.2ms\tremaining: 3m 23s\n"
     ]
    },
    {
     "name": "stderr",
     "output_type": "stream",
     "text": [
      "\u001b[33m[W 2023-01-19 20:02:19,100]\u001b[0m Trial 5 failed because of the following error: KeyboardInterrupt('')\u001b[0m\n",
      "Traceback (most recent call last):\n",
      "  File \"D:\\source\\repos\\venv\\Python310\\lib\\site-packages\\optuna\\study\\_optimize.py\", line 196, in _run_trial\n",
      "    value_or_values = func(trial)\n",
      "  File \"C:\\Users\\ryans\\AppData\\Local\\Temp\\ipykernel_30000\\1929342926.py\", line 37, in objective_v3\n",
      "    reg.fit(X_train, y_train, eval_set=(X_valid, y_valid), early_stopping_rounds=100, verbose=1000)\n",
      "  File \"D:\\source\\repos\\venv\\Python310\\lib\\site-packages\\catboost\\core.py\", line 5730, in fit\n",
      "    return self._fit(X, y, cat_features, text_features, embedding_features, None, sample_weight, None, None, None, None, baseline,\n",
      "  File \"D:\\source\\repos\\venv\\Python310\\lib\\site-packages\\catboost\\core.py\", line 2355, in _fit\n",
      "    self._train(\n",
      "  File \"D:\\source\\repos\\venv\\Python310\\lib\\site-packages\\catboost\\core.py\", line 1759, in _train\n",
      "    self._object._train(train_pool, test_pool, params, allow_clear_pool, init_model._object if init_model else None)\n",
      "  File \"_catboost.pyx\", line 4623, in _catboost._CatBoost._train\n",
      "  File \"_catboost.pyx\", line 4672, in _catboost._CatBoost._train\n",
      "KeyboardInterrupt\n"
     ]
    },
    {
     "ename": "KeyboardInterrupt",
     "evalue": "",
     "output_type": "error",
     "traceback": [
      "\u001b[1;31m---------------------------------------------------------------------------\u001b[0m",
      "\u001b[1;31mKeyboardInterrupt\u001b[0m                         Traceback (most recent call last)",
      "Cell \u001b[1;32mIn[11], line 2\u001b[0m\n\u001b[0;32m      1\u001b[0m study \u001b[38;5;241m=\u001b[39m optuna\u001b[38;5;241m.\u001b[39mcreate_study(direction\u001b[38;5;241m=\u001b[39m\u001b[38;5;124m'\u001b[39m\u001b[38;5;124mmaximize\u001b[39m\u001b[38;5;124m'\u001b[39m, sampler\u001b[38;5;241m=\u001b[39mTPESampler(), study_name\u001b[38;5;241m=\u001b[39mobjective)\n\u001b[1;32m----> 2\u001b[0m \u001b[43mstudy\u001b[49m\u001b[38;5;241;43m.\u001b[39;49m\u001b[43moptimize\u001b[49m\u001b[43m(\u001b[49m\u001b[43mobjective_v3\u001b[49m\u001b[43m,\u001b[49m\u001b[43m \u001b[49m\u001b[43mtimeout\u001b[49m\u001b[38;5;241;43m=\u001b[39;49m\u001b[43mtrain_time\u001b[49m\u001b[43m)\u001b[49m\n",
      "File \u001b[1;32mD:\\source\\repos\\venv\\Python310\\lib\\site-packages\\optuna\\study\\study.py:419\u001b[0m, in \u001b[0;36mStudy.optimize\u001b[1;34m(self, func, n_trials, timeout, n_jobs, catch, callbacks, gc_after_trial, show_progress_bar)\u001b[0m\n\u001b[0;32m    315\u001b[0m \u001b[38;5;28;01mdef\u001b[39;00m \u001b[38;5;21moptimize\u001b[39m(\n\u001b[0;32m    316\u001b[0m     \u001b[38;5;28mself\u001b[39m,\n\u001b[0;32m    317\u001b[0m     func: ObjectiveFuncType,\n\u001b[1;32m   (...)\u001b[0m\n\u001b[0;32m    324\u001b[0m     show_progress_bar: \u001b[38;5;28mbool\u001b[39m \u001b[38;5;241m=\u001b[39m \u001b[38;5;28;01mFalse\u001b[39;00m,\n\u001b[0;32m    325\u001b[0m ) \u001b[38;5;241m-\u001b[39m\u001b[38;5;241m>\u001b[39m \u001b[38;5;28;01mNone\u001b[39;00m:\n\u001b[0;32m    326\u001b[0m     \u001b[38;5;124;03m\"\"\"Optimize an objective function.\u001b[39;00m\n\u001b[0;32m    327\u001b[0m \n\u001b[0;32m    328\u001b[0m \u001b[38;5;124;03m    Optimization is done by choosing a suitable set of hyperparameter values from a given\u001b[39;00m\n\u001b[1;32m   (...)\u001b[0m\n\u001b[0;32m    416\u001b[0m \u001b[38;5;124;03m            If nested invocation of this method occurs.\u001b[39;00m\n\u001b[0;32m    417\u001b[0m \u001b[38;5;124;03m    \"\"\"\u001b[39;00m\n\u001b[1;32m--> 419\u001b[0m     \u001b[43m_optimize\u001b[49m\u001b[43m(\u001b[49m\n\u001b[0;32m    420\u001b[0m \u001b[43m        \u001b[49m\u001b[43mstudy\u001b[49m\u001b[38;5;241;43m=\u001b[39;49m\u001b[38;5;28;43mself\u001b[39;49m\u001b[43m,\u001b[49m\n\u001b[0;32m    421\u001b[0m \u001b[43m        \u001b[49m\u001b[43mfunc\u001b[49m\u001b[38;5;241;43m=\u001b[39;49m\u001b[43mfunc\u001b[49m\u001b[43m,\u001b[49m\n\u001b[0;32m    422\u001b[0m \u001b[43m        \u001b[49m\u001b[43mn_trials\u001b[49m\u001b[38;5;241;43m=\u001b[39;49m\u001b[43mn_trials\u001b[49m\u001b[43m,\u001b[49m\n\u001b[0;32m    423\u001b[0m \u001b[43m        \u001b[49m\u001b[43mtimeout\u001b[49m\u001b[38;5;241;43m=\u001b[39;49m\u001b[43mtimeout\u001b[49m\u001b[43m,\u001b[49m\n\u001b[0;32m    424\u001b[0m \u001b[43m        \u001b[49m\u001b[43mn_jobs\u001b[49m\u001b[38;5;241;43m=\u001b[39;49m\u001b[43mn_jobs\u001b[49m\u001b[43m,\u001b[49m\n\u001b[0;32m    425\u001b[0m \u001b[43m        \u001b[49m\u001b[43mcatch\u001b[49m\u001b[38;5;241;43m=\u001b[39;49m\u001b[43mcatch\u001b[49m\u001b[43m,\u001b[49m\n\u001b[0;32m    426\u001b[0m \u001b[43m        \u001b[49m\u001b[43mcallbacks\u001b[49m\u001b[38;5;241;43m=\u001b[39;49m\u001b[43mcallbacks\u001b[49m\u001b[43m,\u001b[49m\n\u001b[0;32m    427\u001b[0m \u001b[43m        \u001b[49m\u001b[43mgc_after_trial\u001b[49m\u001b[38;5;241;43m=\u001b[39;49m\u001b[43mgc_after_trial\u001b[49m\u001b[43m,\u001b[49m\n\u001b[0;32m    428\u001b[0m \u001b[43m        \u001b[49m\u001b[43mshow_progress_bar\u001b[49m\u001b[38;5;241;43m=\u001b[39;49m\u001b[43mshow_progress_bar\u001b[49m\u001b[43m,\u001b[49m\n\u001b[0;32m    429\u001b[0m \u001b[43m    \u001b[49m\u001b[43m)\u001b[49m\n",
      "File \u001b[1;32mD:\\source\\repos\\venv\\Python310\\lib\\site-packages\\optuna\\study\\_optimize.py:66\u001b[0m, in \u001b[0;36m_optimize\u001b[1;34m(study, func, n_trials, timeout, n_jobs, catch, callbacks, gc_after_trial, show_progress_bar)\u001b[0m\n\u001b[0;32m     64\u001b[0m \u001b[38;5;28;01mtry\u001b[39;00m:\n\u001b[0;32m     65\u001b[0m     \u001b[38;5;28;01mif\u001b[39;00m n_jobs \u001b[38;5;241m==\u001b[39m \u001b[38;5;241m1\u001b[39m:\n\u001b[1;32m---> 66\u001b[0m         \u001b[43m_optimize_sequential\u001b[49m\u001b[43m(\u001b[49m\n\u001b[0;32m     67\u001b[0m \u001b[43m            \u001b[49m\u001b[43mstudy\u001b[49m\u001b[43m,\u001b[49m\n\u001b[0;32m     68\u001b[0m \u001b[43m            \u001b[49m\u001b[43mfunc\u001b[49m\u001b[43m,\u001b[49m\n\u001b[0;32m     69\u001b[0m \u001b[43m            \u001b[49m\u001b[43mn_trials\u001b[49m\u001b[43m,\u001b[49m\n\u001b[0;32m     70\u001b[0m \u001b[43m            \u001b[49m\u001b[43mtimeout\u001b[49m\u001b[43m,\u001b[49m\n\u001b[0;32m     71\u001b[0m \u001b[43m            \u001b[49m\u001b[43mcatch\u001b[49m\u001b[43m,\u001b[49m\n\u001b[0;32m     72\u001b[0m \u001b[43m            \u001b[49m\u001b[43mcallbacks\u001b[49m\u001b[43m,\u001b[49m\n\u001b[0;32m     73\u001b[0m \u001b[43m            \u001b[49m\u001b[43mgc_after_trial\u001b[49m\u001b[43m,\u001b[49m\n\u001b[0;32m     74\u001b[0m \u001b[43m            \u001b[49m\u001b[43mreseed_sampler_rng\u001b[49m\u001b[38;5;241;43m=\u001b[39;49m\u001b[38;5;28;43;01mFalse\u001b[39;49;00m\u001b[43m,\u001b[49m\n\u001b[0;32m     75\u001b[0m \u001b[43m            \u001b[49m\u001b[43mtime_start\u001b[49m\u001b[38;5;241;43m=\u001b[39;49m\u001b[38;5;28;43;01mNone\u001b[39;49;00m\u001b[43m,\u001b[49m\n\u001b[0;32m     76\u001b[0m \u001b[43m            \u001b[49m\u001b[43mprogress_bar\u001b[49m\u001b[38;5;241;43m=\u001b[39;49m\u001b[43mprogress_bar\u001b[49m\u001b[43m,\u001b[49m\n\u001b[0;32m     77\u001b[0m \u001b[43m        \u001b[49m\u001b[43m)\u001b[49m\n\u001b[0;32m     78\u001b[0m     \u001b[38;5;28;01melse\u001b[39;00m:\n\u001b[0;32m     79\u001b[0m         \u001b[38;5;28;01mif\u001b[39;00m n_jobs \u001b[38;5;241m==\u001b[39m \u001b[38;5;241m-\u001b[39m\u001b[38;5;241m1\u001b[39m:\n",
      "File \u001b[1;32mD:\\source\\repos\\venv\\Python310\\lib\\site-packages\\optuna\\study\\_optimize.py:160\u001b[0m, in \u001b[0;36m_optimize_sequential\u001b[1;34m(study, func, n_trials, timeout, catch, callbacks, gc_after_trial, reseed_sampler_rng, time_start, progress_bar)\u001b[0m\n\u001b[0;32m    157\u001b[0m         \u001b[38;5;28;01mbreak\u001b[39;00m\n\u001b[0;32m    159\u001b[0m \u001b[38;5;28;01mtry\u001b[39;00m:\n\u001b[1;32m--> 160\u001b[0m     frozen_trial \u001b[38;5;241m=\u001b[39m \u001b[43m_run_trial\u001b[49m\u001b[43m(\u001b[49m\u001b[43mstudy\u001b[49m\u001b[43m,\u001b[49m\u001b[43m \u001b[49m\u001b[43mfunc\u001b[49m\u001b[43m,\u001b[49m\u001b[43m \u001b[49m\u001b[43mcatch\u001b[49m\u001b[43m)\u001b[49m\n\u001b[0;32m    161\u001b[0m \u001b[38;5;28;01mfinally\u001b[39;00m:\n\u001b[0;32m    162\u001b[0m     \u001b[38;5;66;03m# The following line mitigates memory problems that can be occurred in some\u001b[39;00m\n\u001b[0;32m    163\u001b[0m     \u001b[38;5;66;03m# environments (e.g., services that use computing containers such as CircleCI).\u001b[39;00m\n\u001b[0;32m    164\u001b[0m     \u001b[38;5;66;03m# Please refer to the following PR for further details:\u001b[39;00m\n\u001b[0;32m    165\u001b[0m     \u001b[38;5;66;03m# https://github.com/optuna/optuna/pull/325.\u001b[39;00m\n\u001b[0;32m    166\u001b[0m     \u001b[38;5;28;01mif\u001b[39;00m gc_after_trial:\n",
      "File \u001b[1;32mD:\\source\\repos\\venv\\Python310\\lib\\site-packages\\optuna\\study\\_optimize.py:234\u001b[0m, in \u001b[0;36m_run_trial\u001b[1;34m(study, func, catch)\u001b[0m\n\u001b[0;32m    227\u001b[0m         \u001b[38;5;28;01massert\u001b[39;00m \u001b[38;5;28;01mFalse\u001b[39;00m, \u001b[38;5;124m\"\u001b[39m\u001b[38;5;124mShould not reach.\u001b[39m\u001b[38;5;124m\"\u001b[39m\n\u001b[0;32m    229\u001b[0m \u001b[38;5;28;01mif\u001b[39;00m (\n\u001b[0;32m    230\u001b[0m     frozen_trial\u001b[38;5;241m.\u001b[39mstate \u001b[38;5;241m==\u001b[39m TrialState\u001b[38;5;241m.\u001b[39mFAIL\n\u001b[0;32m    231\u001b[0m     \u001b[38;5;129;01mand\u001b[39;00m func_err \u001b[38;5;129;01mis\u001b[39;00m \u001b[38;5;129;01mnot\u001b[39;00m \u001b[38;5;28;01mNone\u001b[39;00m\n\u001b[0;32m    232\u001b[0m     \u001b[38;5;129;01mand\u001b[39;00m \u001b[38;5;129;01mnot\u001b[39;00m \u001b[38;5;28misinstance\u001b[39m(func_err, catch)\n\u001b[0;32m    233\u001b[0m ):\n\u001b[1;32m--> 234\u001b[0m     \u001b[38;5;28;01mraise\u001b[39;00m func_err\n\u001b[0;32m    235\u001b[0m \u001b[38;5;28;01mreturn\u001b[39;00m frozen_trial\n",
      "File \u001b[1;32mD:\\source\\repos\\venv\\Python310\\lib\\site-packages\\optuna\\study\\_optimize.py:196\u001b[0m, in \u001b[0;36m_run_trial\u001b[1;34m(study, func, catch)\u001b[0m\n\u001b[0;32m    194\u001b[0m \u001b[38;5;28;01mwith\u001b[39;00m get_heartbeat_thread(trial\u001b[38;5;241m.\u001b[39m_trial_id, study\u001b[38;5;241m.\u001b[39m_storage):\n\u001b[0;32m    195\u001b[0m     \u001b[38;5;28;01mtry\u001b[39;00m:\n\u001b[1;32m--> 196\u001b[0m         value_or_values \u001b[38;5;241m=\u001b[39m \u001b[43mfunc\u001b[49m\u001b[43m(\u001b[49m\u001b[43mtrial\u001b[49m\u001b[43m)\u001b[49m\n\u001b[0;32m    197\u001b[0m     \u001b[38;5;28;01mexcept\u001b[39;00m exceptions\u001b[38;5;241m.\u001b[39mTrialPruned \u001b[38;5;28;01mas\u001b[39;00m e:\n\u001b[0;32m    198\u001b[0m         \u001b[38;5;66;03m# TODO(mamu): Handle multi-objective cases.\u001b[39;00m\n\u001b[0;32m    199\u001b[0m         state \u001b[38;5;241m=\u001b[39m TrialState\u001b[38;5;241m.\u001b[39mPRUNED\n",
      "Cell \u001b[1;32mIn[10], line 37\u001b[0m, in \u001b[0;36mobjective_v3\u001b[1;34m(trial)\u001b[0m\n\u001b[0;32m     26\u001b[0m     y_train , y_valid \u001b[38;5;241m=\u001b[39m train_df[target]\u001b[38;5;241m.\u001b[39miloc[train_idx] , train_df[target]\u001b[38;5;241m.\u001b[39miloc[valid_idx] \n\u001b[0;32m     28\u001b[0m     reg \u001b[38;5;241m=\u001b[39m CatBoostRegressor(iterations\u001b[38;5;241m=\u001b[39m\u001b[38;5;241m20000\u001b[39m,\n\u001b[0;32m     29\u001b[0m                         \u001b[38;5;241m*\u001b[39m\u001b[38;5;241m*\u001b[39mparam_grid,\n\u001b[0;32m     30\u001b[0m                         bootstrap_type\u001b[38;5;241m=\u001b[39m\u001b[38;5;124m'\u001b[39m\u001b[38;5;124mBernoulli\u001b[39m\u001b[38;5;124m'\u001b[39m,\n\u001b[1;32m   (...)\u001b[0m\n\u001b[0;32m     34\u001b[0m                         task_type\u001b[38;5;241m=\u001b[39m\u001b[38;5;124m\"\u001b[39m\u001b[38;5;124mGPU\u001b[39m\u001b[38;5;124m\"\u001b[39m,\n\u001b[0;32m     35\u001b[0m                         random_state\u001b[38;5;241m=\u001b[39m\u001b[38;5;241m1\u001b[39m,)\n\u001b[1;32m---> 37\u001b[0m     \u001b[43mreg\u001b[49m\u001b[38;5;241;43m.\u001b[39;49m\u001b[43mfit\u001b[49m\u001b[43m(\u001b[49m\u001b[43mX_train\u001b[49m\u001b[43m,\u001b[49m\u001b[43m \u001b[49m\u001b[43my_train\u001b[49m\u001b[43m,\u001b[49m\u001b[43m \u001b[49m\u001b[43meval_set\u001b[49m\u001b[38;5;241;43m=\u001b[39;49m\u001b[43m(\u001b[49m\u001b[43mX_valid\u001b[49m\u001b[43m,\u001b[49m\u001b[43m \u001b[49m\u001b[43my_valid\u001b[49m\u001b[43m)\u001b[49m\u001b[43m,\u001b[49m\u001b[43m \u001b[49m\u001b[43mearly_stopping_rounds\u001b[49m\u001b[38;5;241;43m=\u001b[39;49m\u001b[38;5;241;43m100\u001b[39;49m\u001b[43m,\u001b[49m\u001b[43m \u001b[49m\u001b[43mverbose\u001b[49m\u001b[38;5;241;43m=\u001b[39;49m\u001b[38;5;241;43m1000\u001b[39;49m\u001b[43m)\u001b[49m\n\u001b[0;32m     39\u001b[0m     oof[valid_idx] \u001b[38;5;241m=\u001b[39m reg\u001b[38;5;241m.\u001b[39mpredict(X_valid)\n\u001b[0;32m     41\u001b[0m roc_auc \u001b[38;5;241m=\u001b[39m roc_auc_score(Y, oof)\n",
      "File \u001b[1;32mD:\\source\\repos\\venv\\Python310\\lib\\site-packages\\catboost\\core.py:5730\u001b[0m, in \u001b[0;36mCatBoostRegressor.fit\u001b[1;34m(self, X, y, cat_features, text_features, embedding_features, sample_weight, baseline, use_best_model, eval_set, verbose, logging_level, plot, plot_file, column_description, verbose_eval, metric_period, silent, early_stopping_rounds, save_snapshot, snapshot_file, snapshot_interval, init_model, callbacks, log_cout, log_cerr)\u001b[0m\n\u001b[0;32m   5727\u001b[0m \u001b[38;5;28;01mif\u001b[39;00m \u001b[38;5;124m'\u001b[39m\u001b[38;5;124mloss_function\u001b[39m\u001b[38;5;124m'\u001b[39m \u001b[38;5;129;01min\u001b[39;00m params:\n\u001b[0;32m   5728\u001b[0m     CatBoostRegressor\u001b[38;5;241m.\u001b[39m_check_is_compatible_loss(params[\u001b[38;5;124m'\u001b[39m\u001b[38;5;124mloss_function\u001b[39m\u001b[38;5;124m'\u001b[39m])\n\u001b[1;32m-> 5730\u001b[0m \u001b[38;5;28;01mreturn\u001b[39;00m \u001b[38;5;28;43mself\u001b[39;49m\u001b[38;5;241;43m.\u001b[39;49m\u001b[43m_fit\u001b[49m\u001b[43m(\u001b[49m\u001b[43mX\u001b[49m\u001b[43m,\u001b[49m\u001b[43m \u001b[49m\u001b[43my\u001b[49m\u001b[43m,\u001b[49m\u001b[43m \u001b[49m\u001b[43mcat_features\u001b[49m\u001b[43m,\u001b[49m\u001b[43m \u001b[49m\u001b[43mtext_features\u001b[49m\u001b[43m,\u001b[49m\u001b[43m \u001b[49m\u001b[43membedding_features\u001b[49m\u001b[43m,\u001b[49m\u001b[43m \u001b[49m\u001b[38;5;28;43;01mNone\u001b[39;49;00m\u001b[43m,\u001b[49m\u001b[43m \u001b[49m\u001b[43msample_weight\u001b[49m\u001b[43m,\u001b[49m\u001b[43m \u001b[49m\u001b[38;5;28;43;01mNone\u001b[39;49;00m\u001b[43m,\u001b[49m\u001b[43m \u001b[49m\u001b[38;5;28;43;01mNone\u001b[39;49;00m\u001b[43m,\u001b[49m\u001b[43m \u001b[49m\u001b[38;5;28;43;01mNone\u001b[39;49;00m\u001b[43m,\u001b[49m\u001b[43m \u001b[49m\u001b[38;5;28;43;01mNone\u001b[39;49;00m\u001b[43m,\u001b[49m\u001b[43m \u001b[49m\u001b[43mbaseline\u001b[49m\u001b[43m,\u001b[49m\n\u001b[0;32m   5731\u001b[0m \u001b[43m                 \u001b[49m\u001b[43muse_best_model\u001b[49m\u001b[43m,\u001b[49m\u001b[43m \u001b[49m\u001b[43meval_set\u001b[49m\u001b[43m,\u001b[49m\u001b[43m \u001b[49m\u001b[43mverbose\u001b[49m\u001b[43m,\u001b[49m\u001b[43m \u001b[49m\u001b[43mlogging_level\u001b[49m\u001b[43m,\u001b[49m\u001b[43m \u001b[49m\u001b[43mplot\u001b[49m\u001b[43m,\u001b[49m\u001b[43m \u001b[49m\u001b[43mplot_file\u001b[49m\u001b[43m,\u001b[49m\u001b[43m \u001b[49m\u001b[43mcolumn_description\u001b[49m\u001b[43m,\u001b[49m\n\u001b[0;32m   5732\u001b[0m \u001b[43m                 \u001b[49m\u001b[43mverbose_eval\u001b[49m\u001b[43m,\u001b[49m\u001b[43m \u001b[49m\u001b[43mmetric_period\u001b[49m\u001b[43m,\u001b[49m\u001b[43m \u001b[49m\u001b[43msilent\u001b[49m\u001b[43m,\u001b[49m\u001b[43m \u001b[49m\u001b[43mearly_stopping_rounds\u001b[49m\u001b[43m,\u001b[49m\n\u001b[0;32m   5733\u001b[0m \u001b[43m                 \u001b[49m\u001b[43msave_snapshot\u001b[49m\u001b[43m,\u001b[49m\u001b[43m \u001b[49m\u001b[43msnapshot_file\u001b[49m\u001b[43m,\u001b[49m\u001b[43m \u001b[49m\u001b[43msnapshot_interval\u001b[49m\u001b[43m,\u001b[49m\u001b[43m \u001b[49m\u001b[43minit_model\u001b[49m\u001b[43m,\u001b[49m\u001b[43m \u001b[49m\u001b[43mcallbacks\u001b[49m\u001b[43m,\u001b[49m\u001b[43m \u001b[49m\u001b[43mlog_cout\u001b[49m\u001b[43m,\u001b[49m\u001b[43m \u001b[49m\u001b[43mlog_cerr\u001b[49m\u001b[43m)\u001b[49m\n",
      "File \u001b[1;32mD:\\source\\repos\\venv\\Python310\\lib\\site-packages\\catboost\\core.py:2355\u001b[0m, in \u001b[0;36mCatBoost._fit\u001b[1;34m(self, X, y, cat_features, text_features, embedding_features, pairs, sample_weight, group_id, group_weight, subgroup_id, pairs_weight, baseline, use_best_model, eval_set, verbose, logging_level, plot, plot_file, column_description, verbose_eval, metric_period, silent, early_stopping_rounds, save_snapshot, snapshot_file, snapshot_interval, init_model, callbacks, log_cout, log_cerr)\u001b[0m\n\u001b[0;32m   2351\u001b[0m allow_clear_pool \u001b[38;5;241m=\u001b[39m train_params[\u001b[38;5;124m\"\u001b[39m\u001b[38;5;124mallow_clear_pool\u001b[39m\u001b[38;5;124m\"\u001b[39m]\n\u001b[0;32m   2353\u001b[0m \u001b[38;5;28;01mwith\u001b[39;00m log_fixup(log_cout, log_cerr), \\\n\u001b[0;32m   2354\u001b[0m     plot_wrapper(plot, plot_file, \u001b[38;5;124m'\u001b[39m\u001b[38;5;124mTraining plots\u001b[39m\u001b[38;5;124m'\u001b[39m, [_get_train_dir(\u001b[38;5;28mself\u001b[39m\u001b[38;5;241m.\u001b[39mget_params())]):\n\u001b[1;32m-> 2355\u001b[0m     \u001b[38;5;28;43mself\u001b[39;49m\u001b[38;5;241;43m.\u001b[39;49m\u001b[43m_train\u001b[49m\u001b[43m(\u001b[49m\n\u001b[0;32m   2356\u001b[0m \u001b[43m        \u001b[49m\u001b[43mtrain_pool\u001b[49m\u001b[43m,\u001b[49m\n\u001b[0;32m   2357\u001b[0m \u001b[43m        \u001b[49m\u001b[43mtrain_params\u001b[49m\u001b[43m[\u001b[49m\u001b[38;5;124;43m\"\u001b[39;49m\u001b[38;5;124;43meval_sets\u001b[39;49m\u001b[38;5;124;43m\"\u001b[39;49m\u001b[43m]\u001b[49m\u001b[43m,\u001b[49m\n\u001b[0;32m   2358\u001b[0m \u001b[43m        \u001b[49m\u001b[43mparams\u001b[49m\u001b[43m,\u001b[49m\n\u001b[0;32m   2359\u001b[0m \u001b[43m        \u001b[49m\u001b[43mallow_clear_pool\u001b[49m\u001b[43m,\u001b[49m\n\u001b[0;32m   2360\u001b[0m \u001b[43m        \u001b[49m\u001b[43mtrain_params\u001b[49m\u001b[43m[\u001b[49m\u001b[38;5;124;43m\"\u001b[39;49m\u001b[38;5;124;43minit_model\u001b[39;49m\u001b[38;5;124;43m\"\u001b[39;49m\u001b[43m]\u001b[49m\n\u001b[0;32m   2361\u001b[0m \u001b[43m    \u001b[49m\u001b[43m)\u001b[49m\n\u001b[0;32m   2363\u001b[0m \u001b[38;5;66;03m# Have property feature_importance possibly set\u001b[39;00m\n\u001b[0;32m   2364\u001b[0m loss \u001b[38;5;241m=\u001b[39m \u001b[38;5;28mself\u001b[39m\u001b[38;5;241m.\u001b[39m_object\u001b[38;5;241m.\u001b[39m_get_loss_function_name()\n",
      "File \u001b[1;32mD:\\source\\repos\\venv\\Python310\\lib\\site-packages\\catboost\\core.py:1759\u001b[0m, in \u001b[0;36m_CatBoostBase._train\u001b[1;34m(self, train_pool, test_pool, params, allow_clear_pool, init_model)\u001b[0m\n\u001b[0;32m   1758\u001b[0m \u001b[38;5;28;01mdef\u001b[39;00m \u001b[38;5;21m_train\u001b[39m(\u001b[38;5;28mself\u001b[39m, train_pool, test_pool, params, allow_clear_pool, init_model):\n\u001b[1;32m-> 1759\u001b[0m     \u001b[38;5;28;43mself\u001b[39;49m\u001b[38;5;241;43m.\u001b[39;49m\u001b[43m_object\u001b[49m\u001b[38;5;241;43m.\u001b[39;49m\u001b[43m_train\u001b[49m\u001b[43m(\u001b[49m\u001b[43mtrain_pool\u001b[49m\u001b[43m,\u001b[49m\u001b[43m \u001b[49m\u001b[43mtest_pool\u001b[49m\u001b[43m,\u001b[49m\u001b[43m \u001b[49m\u001b[43mparams\u001b[49m\u001b[43m,\u001b[49m\u001b[43m \u001b[49m\u001b[43mallow_clear_pool\u001b[49m\u001b[43m,\u001b[49m\u001b[43m \u001b[49m\u001b[43minit_model\u001b[49m\u001b[38;5;241;43m.\u001b[39;49m\u001b[43m_object\u001b[49m\u001b[43m \u001b[49m\u001b[38;5;28;43;01mif\u001b[39;49;00m\u001b[43m \u001b[49m\u001b[43minit_model\u001b[49m\u001b[43m \u001b[49m\u001b[38;5;28;43;01melse\u001b[39;49;00m\u001b[43m \u001b[49m\u001b[38;5;28;43;01mNone\u001b[39;49;00m\u001b[43m)\u001b[49m\n\u001b[0;32m   1760\u001b[0m     \u001b[38;5;28mself\u001b[39m\u001b[38;5;241m.\u001b[39m_set_trained_model_attributes()\n",
      "File \u001b[1;32m_catboost.pyx:4623\u001b[0m, in \u001b[0;36m_catboost._CatBoost._train\u001b[1;34m()\u001b[0m\n",
      "File \u001b[1;32m_catboost.pyx:4672\u001b[0m, in \u001b[0;36m_catboost._CatBoost._train\u001b[1;34m()\u001b[0m\n",
      "\u001b[1;31mKeyboardInterrupt\u001b[0m: "
     ]
    }
   ],
   "source": [
    "study = optuna.create_study(direction='maximize', sampler=TPESampler(), study_name=objective)\n",
    "study.optimize(objective_v3, timeout=train_time)"
   ]
  },
  {
   "cell_type": "code",
   "execution_count": 12,
   "id": "e8c311ac-1682-4fef-b5cb-738cf81f8e89",
   "metadata": {
    "tags": []
   },
   "outputs": [],
   "source": [
    "parm_grid_bytes = pickle.dumps(param_grid_history)\n",
    "with open(f\"rendered_data/{objective}_bytes.hex\", \"wb\") as binary_file:\n",
    "    binary_file.write(parm_grid_bytes)"
   ]
  },
  {
   "cell_type": "code",
   "execution_count": 13,
   "id": "1c611044-b83b-42bc-8ea0-f34bf0ec3782",
   "metadata": {},
   "outputs": [
    {
     "name": "stderr",
     "output_type": "stream",
     "text": [
      "  0%|                                                                                            | 0/1 [00:00<?, ?it/s]Default metric period is 5 because AUC is/are not implemented for GPU\n",
      "AUC is not implemented on GPU. Will use CPU for metric computation, this could significantly affect learning time\n"
     ]
    },
    {
     "name": "stdout",
     "output_type": "stream",
     "text": [
      "0:\ttest: 0.7059192\tbest: 0.7059192 (0)\ttotal: 7.87ms\tremaining: 2m 37s\n"
     ]
    },
    {
     "name": "stderr",
     "output_type": "stream",
     "text": [
      "100%|████████████████████████████████████████████████████████████████████████████████████| 1/1 [00:02<00:00,  2.94s/it]"
     ]
    },
    {
     "name": "stdout",
     "output_type": "stream",
     "text": [
      "bestTest = 0.7794301701\n",
      "bestIteration = 151\n",
      "Shrink model to first 152 iterations.\n"
     ]
    },
    {
     "name": "stderr",
     "output_type": "stream",
     "text": [
      "\n"
     ]
    }
   ],
   "source": [
    "def train(param_grid):\n",
    "    reg = CatBoostRegressor(iterations=20000,\n",
    "                        **param_grid,\n",
    "                        bootstrap_type='Bernoulli',\n",
    "                        grow_policy='SymmetricTree',\n",
    "                        #loss_function='Logloss',\n",
    "                        eval_metric='AUC',\n",
    "                        task_type=\"GPU\",\n",
    "                        random_state=1,)\n",
    "    \n",
    "    X_train, X_valid, y_train, y_valid = train_test_split(X, Y, test_size=0.20)\n",
    "    \n",
    "    reg.fit(X_train, y_train, eval_set=(X_valid, y_valid), early_stopping_rounds=100, verbose=1000)\n",
    "    \n",
    "    return reg\n",
    "\n",
    "percent = math.ceil(len(param_grid_history.keys()) * .1)\n",
    "top = sorted(list(param_grid_history.keys()))[-percent:]\n",
    "\n",
    "train_preds = []\n",
    "test_preds = []\n",
    "for key in tqdm(top):\n",
    "    model = train(param_grid_history[key])\n",
    "    train_preds.append(model.predict(train_df[features]))\n",
    "    test_preds.append(model.predict(test_df[features]))\n",
    "\n",
    "train_final_preds = np.stack(train_preds).mean(0)\n",
    "test_final_preds = np.stack(test_preds).mean(0)"
   ]
  },
  {
   "cell_type": "code",
   "execution_count": 14,
   "id": "31a813da-1308-4125-9c61-6516e81ebedf",
   "metadata": {},
   "outputs": [],
   "source": [
    "train_submission = pd.DataFrame(data={'id': train_df.index, target[0]: train_final_preds})\n",
    "train_submission.to_csv(fr'rendered_data/{objective}_train_submission.csv', index=False)\n",
    "\n",
    "test_submission = pd.DataFrame(data={'id': test_df.index, target[0]: test_final_preds})\n",
    "test_submission.to_csv(fr'rendered_data/{objective}_test_submission.csv', index=False)"
   ]
  },
  {
   "cell_type": "code",
   "execution_count": null,
   "id": "37c55386-36e0-47a8-9ad6-7b5e903565d8",
   "metadata": {},
   "outputs": [],
   "source": []
  }
 ],
 "metadata": {
  "kernelspec": {
   "display_name": "Python 3 (ipykernel)",
   "language": "python",
   "name": "python3"
  },
  "language_info": {
   "codemirror_mode": {
    "name": "ipython",
    "version": 3
   },
   "file_extension": ".py",
   "mimetype": "text/x-python",
   "name": "python",
   "nbconvert_exporter": "python",
   "pygments_lexer": "ipython3",
   "version": "3.10.9"
  }
 },
 "nbformat": 4,
 "nbformat_minor": 5
}
