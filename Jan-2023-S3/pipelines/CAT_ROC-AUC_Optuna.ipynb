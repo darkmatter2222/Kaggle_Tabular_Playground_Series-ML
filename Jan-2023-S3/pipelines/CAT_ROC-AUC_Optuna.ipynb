{
 "cells": [
  {
   "cell_type": "code",
   "execution_count": 1,
   "id": "0ea2173c-c725-48a2-9f4b-0760d06f5369",
   "metadata": {},
   "outputs": [],
   "source": [
    "import numpy as np\n",
    "import pandas as pd\n",
    "import math\n",
    "import sys, os\n",
    "#import seaborn as sns\n",
    "#from scipy import stats\n",
    "#from pathlib import Path\n",
    "#import matplotlib.pyplot as plt\n",
    "#from sklearn.model_selection import KFold\n",
    "from sklearn.preprocessing import MinMaxScaler\n",
    "from sklearn.model_selection import train_test_split\n",
    "#from sklearn.metrics import mean_squared_error\n",
    "#from sklearn.metrics import mean_squared_error\n",
    "#from sklearn.preprocessing import MinMaxScaler\n",
    "#from sklearn.datasets import fetch_california_housing\n",
    "#import math\n",
    "from tqdm import tqdm\n",
    "from sklearn.feature_extraction.text import CountVectorizer\n",
    "import optuna\n",
    "from optuna.samplers import TPESampler\n",
    "#import lightgbm as lbgm\n",
    "#from xgboost import XGBRegressor\n",
    "#import xgboost as xgb\n",
    "from catboost import CatBoostRegressor\n",
    "#from lightgbm.sklearn import lbgmRegressor\n",
    "#from sklearn.ensemble import RandomForestRegressor\n",
    "import pickle\n",
    "from sklearn.metrics import roc_curve, auc\n",
    "from sklearn.model_selection import StratifiedKFold"
   ]
  },
  {
   "cell_type": "code",
   "execution_count": 2,
   "id": "8f0f95fb-df8e-48fd-8966-c5da8cd6aa8d",
   "metadata": {},
   "outputs": [],
   "source": [
    "train_time = 1 * 60 * 60\n",
    "objective = 'catregressor'"
   ]
  },
  {
   "cell_type": "code",
   "execution_count": 3,
   "id": "f4b3963c-3958-4512-945d-66cd855e2958",
   "metadata": {},
   "outputs": [],
   "source": [
    "sys.path.append(os.path.realpath('..'))"
   ]
  },
  {
   "cell_type": "code",
   "execution_count": 4,
   "id": "fb0c1a5f-5d8d-4051-b6cc-d50eb8f48296",
   "metadata": {},
   "outputs": [],
   "source": [
    "train_df = pd.read_csv(r\"..\\data\\train.csv\", index_col=0)\n",
    "test_df = pd.read_csv(r\"..\\data\\test.csv\", index_col=0)\n",
    "sample_sub = pd.read_csv(r\"..\\data\\sample_submission.csv\", index_col=0)"
   ]
  },
  {
   "cell_type": "code",
   "execution_count": 5,
   "id": "19146116-cccc-4b54-b014-5d86fbb25802",
   "metadata": {},
   "outputs": [],
   "source": [
    "del train_df['Over18']\n",
    "del train_df['EmployeeCount']\n",
    "del train_df['StandardHours']"
   ]
  },
  {
   "cell_type": "code",
   "execution_count": 6,
   "id": "4f91fca1-73d2-46a2-be27-255acb201292",
   "metadata": {},
   "outputs": [
    {
     "name": "stdout",
     "output_type": "stream",
     "text": [
      "BusinessTravel\n",
      "Department\n",
      "EducationField\n",
      "Gender\n",
      "JobRole\n",
      "MaritalStatus\n",
      "OverTime\n"
     ]
    }
   ],
   "source": [
    "columns_to_vectorize = ['BusinessTravel', 'Department', 'EducationField', 'Gender', 'JobRole', 'MaritalStatus', 'OverTime']\n",
    "for vector_target in columns_to_vectorize:\n",
    "    print(vector_target)\n",
    "    vectorizer = CountVectorizer()\n",
    "    vectorizer.fit_transform(train_df[vector_target])\n",
    "    train_df[f'{vector_target}_v'] = vectorizer.transform(train_df[vector_target]).toarray().argmax(axis=1)[:,None]\n",
    "    vectorizer.fit_transform(test_df[vector_target])\n",
    "    test_df[f'{vector_target}_v'] = vectorizer.transform(test_df[vector_target]).toarray().argmax(axis=1)[:,None]"
   ]
  },
  {
   "cell_type": "code",
   "execution_count": 7,
   "id": "bf47c0d1-7407-41ee-8f49-b483c295621a",
   "metadata": {},
   "outputs": [],
   "source": [
    "features = ['Age', 'DailyRate', 'DistanceFromHome', 'Education', 'EnvironmentSatisfaction','HourlyRate', 'JobInvolvement', 'JobLevel', 'JobSatisfaction', \n",
    "       'MonthlyIncome', 'MonthlyRate', 'NumCompaniesWorked', 'PercentSalaryHike', 'PerformanceRating', 'RelationshipSatisfaction', 'StockOptionLevel', 'TotalWorkingYears',\n",
    "       'TrainingTimesLastYear', 'WorkLifeBalance', 'YearsAtCompany', 'YearsInCurrentRole', 'YearsSinceLastPromotion', 'YearsWithCurrManager',\n",
    "        'BusinessTravel_v', 'Department_v', 'EducationField_v','Gender_v', 'JobRole_v', 'MaritalStatus_v', 'OverTime_v']\n",
    "target = ['Attrition']"
   ]
  },
  {
   "cell_type": "code",
   "execution_count": 8,
   "id": "0b6f3634-fc77-4995-a975-a905a599e16f",
   "metadata": {},
   "outputs": [],
   "source": [
    "scaler = MinMaxScaler().fit(train_df[features])\n",
    "X = scaler.transform(train_df[features])\n",
    "X_test = scaler.transform(test_df[features])\n",
    "\n",
    "scaler = MinMaxScaler().fit(train_df[target])\n",
    "Y = scaler.transform(train_df[target])"
   ]
  },
  {
   "cell_type": "code",
   "execution_count": 9,
   "id": "1ca53f18-a11e-476f-a87a-93c34f0e6ce3",
   "metadata": {},
   "outputs": [],
   "source": [
    "RANDOM_STATE = 12 \n",
    "FOLDS = 5\n",
    "param_grid_history = {}\n",
    "\n",
    "def render_model(param_grid):\n",
    "    reg = CatBoostRegressor(iterations=20000,\n",
    "                            **param_grid,\n",
    "                            bootstrap_type='Bernoulli',\n",
    "                            grow_policy='SymmetricTree',\n",
    "                            #loss_function='Logloss',\n",
    "                            eval_metric='AUC',\n",
    "                            task_type=\"GPU\",\n",
    "                            random_state=1,)\n",
    "    return reg\n",
    "    \n",
    "def train_model(reg, X_train, y_train, X_valid, y_valid):\n",
    "    reg.fit(X_train, y_train, eval_set=(X_valid, y_valid), early_stopping_rounds=100, verbose=1000)\n",
    "\n",
    "    preds = reg.predict(train_df[features])\n",
    "    fpr, tpr, _ = roc_curve(train_df[target], preds)\n",
    "    roc_auc = auc(fpr, tpr)\n",
    "    return reg, roc_auc\n",
    "\n",
    "def objective_v2(trial):\n",
    "    scores = []\n",
    "    param_grid = {\n",
    "        'depth': trial.suggest_int('depth', 3, 6),\n",
    "        'learning_rate': trial.suggest_float('learning_rate', 0.001, 0.9),\n",
    "        #'rsm': trial.suggest_float('rsm', 0.001, 0.9),\n",
    "        #'subsample': trial.suggest_float('subsample', 0.1, 1),\n",
    "        #'min_data_in_leaf': trial.suggest_int('min_data_in_leaf', 1, 100), \n",
    "        #'one_hot_max_size': trial.suggest_int('one_hot_max_size', 1, 100), \n",
    "        #'l2_leaf_reg': trial.suggest_float('l2_leaf_reg', 0.01, 20),\n",
    "        'reg_lambda': trial.suggest_int('reg_lambda', 30, 100), \n",
    "        #'random_strength': trial.suggest_float('random_strength', 0.001, 0.9),\n",
    "        #'colsample_bylevel': trial.suggest_float('colsample_bylevel', 0.001, 0.9),\n",
    "    } \n",
    "        \n",
    "    skf = StratifiedKFold(n_splits=FOLDS, shuffle=True, random_state=RANDOM_STATE)\n",
    "    for fold, (train_idx, valid_idx) in enumerate(skf.split(X, Y)):\n",
    "        print(10*\"=\", f\"Fold={fold+1}\", 10*\"=\")\n",
    "        X_train, X_valid = train_df.iloc[train_idx][features], train_df.iloc[valid_idx][features]\n",
    "        y_train , y_valid = train_df[target].iloc[train_idx] , train_df[target].iloc[valid_idx] \n",
    "        \n",
    "        reg = render_model(param_grid)\n",
    "        reg, roc_auc = train_model(reg, X_train, y_train, X_valid, y_valid)\n",
    "\n",
    "        scores.append(roc_auc)\n",
    "    mean_scores = np.mean(scores)\n",
    "    param_grid_history[mean_scores] = param_grid\n",
    "\n",
    "    return mean_scores"
   ]
  },
  {
   "cell_type": "code",
   "execution_count": 10,
   "id": "4466b24c-6898-4186-818f-3d3013bee5d4",
   "metadata": {
    "collapsed": true,
    "jupyter": {
     "outputs_hidden": true
    },
    "tags": []
   },
   "outputs": [
    {
     "name": "stderr",
     "output_type": "stream",
     "text": [
      "\u001b[32m[I 2023-01-18 19:34:18,369]\u001b[0m A new study created in memory with name: catregressor\u001b[0m\n"
     ]
    },
    {
     "name": "stdout",
     "output_type": "stream",
     "text": [
      "========== Fold=1 ==========\n"
     ]
    },
    {
     "name": "stderr",
     "output_type": "stream",
     "text": [
      "Default metric period is 5 because AUC is/are not implemented for GPU\n",
      "AUC is not implemented on GPU. Will use CPU for metric computation, this could significantly affect learning time\n"
     ]
    },
    {
     "name": "stdout",
     "output_type": "stream",
     "text": [
      "0:\ttest: 0.7139780\tbest: 0.7139780 (0)\ttotal: 9.01ms\tremaining: 3m\n",
      "bestTest = 0.8193412162\n",
      "bestIteration = 187\n",
      "Shrink model to first 188 iterations.\n",
      "========== Fold=2 ==========\n"
     ]
    },
    {
     "name": "stderr",
     "output_type": "stream",
     "text": [
      "Default metric period is 5 because AUC is/are not implemented for GPU\n",
      "AUC is not implemented on GPU. Will use CPU for metric computation, this could significantly affect learning time\n"
     ]
    },
    {
     "name": "stdout",
     "output_type": "stream",
     "text": [
      "0:\ttest: 0.7758868\tbest: 0.7758868 (0)\ttotal: 7.26ms\tremaining: 2m 25s\n",
      "bestTest = 0.8353885135\n",
      "bestIteration = 38\n",
      "Shrink model to first 39 iterations.\n",
      "========== Fold=3 ==========\n"
     ]
    },
    {
     "name": "stderr",
     "output_type": "stream",
     "text": [
      "Default metric period is 5 because AUC is/are not implemented for GPU\n",
      "AUC is not implemented on GPU. Will use CPU for metric computation, this could significantly affect learning time\n"
     ]
    },
    {
     "name": "stdout",
     "output_type": "stream",
     "text": [
      "0:\ttest: 0.7762288\tbest: 0.7762288 (0)\ttotal: 7.72ms\tremaining: 2m 34s\n",
      "bestTest = 0.8711016949\n",
      "bestIteration = 235\n",
      "Shrink model to first 236 iterations.\n",
      "========== Fold=4 ==========\n"
     ]
    },
    {
     "name": "stderr",
     "output_type": "stream",
     "text": [
      "Default metric period is 5 because AUC is/are not implemented for GPU\n",
      "AUC is not implemented on GPU. Will use CPU for metric computation, this could significantly affect learning time\n"
     ]
    },
    {
     "name": "stdout",
     "output_type": "stream",
     "text": [
      "0:\ttest: 0.7415678\tbest: 0.7415678 (0)\ttotal: 7.55ms\tremaining: 2m 31s\n",
      "bestTest = 0.8455084746\n",
      "bestIteration = 243\n",
      "Shrink model to first 244 iterations.\n",
      "========== Fold=5 ==========\n"
     ]
    },
    {
     "name": "stderr",
     "output_type": "stream",
     "text": [
      "Default metric period is 5 because AUC is/are not implemented for GPU\n",
      "AUC is not implemented on GPU. Will use CPU for metric computation, this could significantly affect learning time\n"
     ]
    },
    {
     "name": "stdout",
     "output_type": "stream",
     "text": [
      "0:\ttest: 0.7250424\tbest: 0.7250424 (0)\ttotal: 9.6ms\tremaining: 3m 12s\n"
     ]
    },
    {
     "name": "stderr",
     "output_type": "stream",
     "text": [
      "\u001b[32m[I 2023-01-18 19:34:32,589]\u001b[0m Trial 0 finished with value: 0.8985629654705484 and parameters: {'depth': 3, 'learning_rate': 0.16092274602629836, 'reg_lambda': 100}. Best is trial 0 with value: 0.8985629654705484.\u001b[0m\n"
     ]
    },
    {
     "name": "stdout",
     "output_type": "stream",
     "text": [
      "bestTest = 0.7940677966\n",
      "bestIteration = 90\n",
      "Shrink model to first 91 iterations.\n",
      "========== Fold=1 ==========\n"
     ]
    },
    {
     "name": "stderr",
     "output_type": "stream",
     "text": [
      "Default metric period is 5 because AUC is/are not implemented for GPU\n",
      "AUC is not implemented on GPU. Will use CPU for metric computation, this could significantly affect learning time\n"
     ]
    },
    {
     "name": "stdout",
     "output_type": "stream",
     "text": [
      "0:\ttest: 0.7139780\tbest: 0.7139780 (0)\ttotal: 7.76ms\tremaining: 2m 35s\n",
      "bestTest = 0.8499155405\n",
      "bestIteration = 166\n",
      "Shrink model to first 167 iterations.\n",
      "========== Fold=2 ==========\n"
     ]
    },
    {
     "name": "stderr",
     "output_type": "stream",
     "text": [
      "Default metric period is 5 because AUC is/are not implemented for GPU\n",
      "AUC is not implemented on GPU. Will use CPU for metric computation, this could significantly affect learning time\n"
     ]
    },
    {
     "name": "stdout",
     "output_type": "stream",
     "text": [
      "0:\ttest: 0.7801098\tbest: 0.7801098 (0)\ttotal: 8.49ms\tremaining: 2m 49s\n",
      "bestTest = 0.8524493243\n",
      "bestIteration = 100\n",
      "Shrink model to first 101 iterations.\n",
      "========== Fold=3 ==========\n"
     ]
    },
    {
     "name": "stderr",
     "output_type": "stream",
     "text": [
      "Default metric period is 5 because AUC is/are not implemented for GPU\n",
      "AUC is not implemented on GPU. Will use CPU for metric computation, this could significantly affect learning time\n"
     ]
    },
    {
     "name": "stdout",
     "output_type": "stream",
     "text": [
      "0:\ttest: 0.7758051\tbest: 0.7758051 (0)\ttotal: 8.53ms\tremaining: 2m 50s\n",
      "bestTest = 0.8544915254\n",
      "bestIteration = 48\n",
      "Shrink model to first 49 iterations.\n",
      "========== Fold=4 ==========\n"
     ]
    },
    {
     "name": "stderr",
     "output_type": "stream",
     "text": [
      "Default metric period is 5 because AUC is/are not implemented for GPU\n",
      "AUC is not implemented on GPU. Will use CPU for metric computation, this could significantly affect learning time\n"
     ]
    },
    {
     "name": "stdout",
     "output_type": "stream",
     "text": [
      "0:\ttest: 0.7622034\tbest: 0.7622034 (0)\ttotal: 8.41ms\tremaining: 2m 48s\n",
      "bestTest = 0.8449152542\n",
      "bestIteration = 41\n",
      "Shrink model to first 42 iterations.\n",
      "========== Fold=5 ==========\n"
     ]
    },
    {
     "name": "stderr",
     "output_type": "stream",
     "text": [
      "Default metric period is 5 because AUC is/are not implemented for GPU\n",
      "AUC is not implemented on GPU. Will use CPU for metric computation, this could significantly affect learning time\n"
     ]
    },
    {
     "name": "stdout",
     "output_type": "stream",
     "text": [
      "0:\ttest: 0.7379237\tbest: 0.7379237 (0)\ttotal: 8.31ms\tremaining: 2m 46s\n"
     ]
    },
    {
     "name": "stderr",
     "output_type": "stream",
     "text": [
      "\u001b[32m[I 2023-01-18 19:34:42,917]\u001b[0m Trial 1 finished with value: 0.932365605958023 and parameters: {'depth': 3, 'learning_rate': 0.410096594639364, 'reg_lambda': 35}. Best is trial 1 with value: 0.932365605958023.\u001b[0m\n"
     ]
    },
    {
     "name": "stdout",
     "output_type": "stream",
     "text": [
      "bestTest = 0.8057627119\n",
      "bestIteration = 53\n",
      "Shrink model to first 54 iterations.\n",
      "========== Fold=1 ==========\n"
     ]
    },
    {
     "name": "stderr",
     "output_type": "stream",
     "text": [
      "Default metric period is 5 because AUC is/are not implemented for GPU\n",
      "AUC is not implemented on GPU. Will use CPU for metric computation, this could significantly affect learning time\n"
     ]
    },
    {
     "name": "stdout",
     "output_type": "stream",
     "text": [
      "0:\ttest: 0.7317990\tbest: 0.7317990 (0)\ttotal: 8.09ms\tremaining: 2m 41s\n",
      "bestTest = 0.829222973\n",
      "bestIteration = 25\n",
      "Shrink model to first 26 iterations.\n",
      "========== Fold=2 ==========\n"
     ]
    },
    {
     "name": "stderr",
     "output_type": "stream",
     "text": [
      "Default metric period is 5 because AUC is/are not implemented for GPU\n",
      "AUC is not implemented on GPU. Will use CPU for metric computation, this could significantly affect learning time\n"
     ]
    },
    {
     "name": "stdout",
     "output_type": "stream",
     "text": [
      "0:\ttest: 0.7980152\tbest: 0.7980152 (0)\ttotal: 7.92ms\tremaining: 2m 38s\n",
      "bestTest = 0.8539695946\n",
      "bestIteration = 45\n",
      "Shrink model to first 46 iterations.\n",
      "========== Fold=3 ==========\n"
     ]
    },
    {
     "name": "stderr",
     "output_type": "stream",
     "text": [
      "Default metric period is 5 because AUC is/are not implemented for GPU\n",
      "AUC is not implemented on GPU. Will use CPU for metric computation, this could significantly affect learning time\n"
     ]
    },
    {
     "name": "stdout",
     "output_type": "stream",
     "text": [
      "0:\ttest: 0.7906780\tbest: 0.7906780 (0)\ttotal: 8.96ms\tremaining: 2m 59s\n",
      "bestTest = 0.8649152542\n",
      "bestIteration = 26\n",
      "Shrink model to first 27 iterations.\n",
      "========== Fold=4 ==========\n"
     ]
    },
    {
     "name": "stderr",
     "output_type": "stream",
     "text": [
      "Default metric period is 5 because AUC is/are not implemented for GPU\n",
      "AUC is not implemented on GPU. Will use CPU for metric computation, this could significantly affect learning time\n"
     ]
    },
    {
     "name": "stdout",
     "output_type": "stream",
     "text": [
      "0:\ttest: 0.7699153\tbest: 0.7699153 (0)\ttotal: 7.99ms\tremaining: 2m 39s\n",
      "bestTest = 0.8525423729\n",
      "bestIteration = 8\n",
      "Shrink model to first 9 iterations.\n",
      "========== Fold=5 ==========\n"
     ]
    },
    {
     "name": "stderr",
     "output_type": "stream",
     "text": [
      "Default metric period is 5 because AUC is/are not implemented for GPU\n",
      "AUC is not implemented on GPU. Will use CPU for metric computation, this could significantly affect learning time\n"
     ]
    },
    {
     "name": "stdout",
     "output_type": "stream",
     "text": [
      "0:\ttest: 0.7588136\tbest: 0.7588136 (0)\ttotal: 8.65ms\tremaining: 2m 53s\n"
     ]
    },
    {
     "name": "stderr",
     "output_type": "stream",
     "text": [
      "\u001b[32m[I 2023-01-18 19:34:51,401]\u001b[0m Trial 2 finished with value: 0.9085538253215978 and parameters: {'depth': 4, 'learning_rate': 0.6639749866068634, 'reg_lambda': 55}. Best is trial 1 with value: 0.932365605958023.\u001b[0m\n"
     ]
    },
    {
     "name": "stdout",
     "output_type": "stream",
     "text": [
      "bestTest = 0.8203813559\n",
      "bestIteration = 10\n",
      "Shrink model to first 11 iterations.\n",
      "========== Fold=1 ==========\n"
     ]
    },
    {
     "name": "stderr",
     "output_type": "stream",
     "text": [
      "Default metric period is 5 because AUC is/are not implemented for GPU\n",
      "AUC is not implemented on GPU. Will use CPU for metric computation, this could significantly affect learning time\n"
     ]
    },
    {
     "name": "stdout",
     "output_type": "stream",
     "text": [
      "0:\ttest: 0.7139780\tbest: 0.7139780 (0)\ttotal: 7.64ms\tremaining: 2m 32s\n",
      "bestTest = 0.8208614865\n",
      "bestIteration = 88\n",
      "Shrink model to first 89 iterations.\n",
      "========== Fold=2 ==========\n"
     ]
    },
    {
     "name": "stderr",
     "output_type": "stream",
     "text": [
      "Default metric period is 5 because AUC is/are not implemented for GPU\n",
      "AUC is not implemented on GPU. Will use CPU for metric computation, this could significantly affect learning time\n"
     ]
    },
    {
     "name": "stdout",
     "output_type": "stream",
     "text": [
      "0:\ttest: 0.7801098\tbest: 0.7801098 (0)\ttotal: 6.86ms\tremaining: 2m 17s\n",
      "bestTest = 0.8323057432\n",
      "bestIteration = 5\n",
      "Shrink model to first 6 iterations.\n",
      "========== Fold=3 ==========\n"
     ]
    },
    {
     "name": "stderr",
     "output_type": "stream",
     "text": [
      "Default metric period is 5 because AUC is/are not implemented for GPU\n",
      "AUC is not implemented on GPU. Will use CPU for metric computation, this could significantly affect learning time\n"
     ]
    },
    {
     "name": "stdout",
     "output_type": "stream",
     "text": [
      "0:\ttest: 0.7762288\tbest: 0.7762288 (0)\ttotal: 8.28ms\tremaining: 2m 45s\n",
      "bestTest = 0.8702542373\n",
      "bestIteration = 23\n",
      "Shrink model to first 24 iterations.\n",
      "========== Fold=4 ==========\n"
     ]
    },
    {
     "name": "stderr",
     "output_type": "stream",
     "text": [
      "Default metric period is 5 because AUC is/are not implemented for GPU\n",
      "AUC is not implemented on GPU. Will use CPU for metric computation, this could significantly affect learning time\n"
     ]
    },
    {
     "name": "stdout",
     "output_type": "stream",
     "text": [
      "0:\ttest: 0.7415678\tbest: 0.7415678 (0)\ttotal: 8.67ms\tremaining: 2m 53s\n",
      "bestTest = 0.8544067797\n",
      "bestIteration = 43\n",
      "Shrink model to first 44 iterations.\n",
      "========== Fold=5 ==========\n"
     ]
    },
    {
     "name": "stderr",
     "output_type": "stream",
     "text": [
      "Default metric period is 5 because AUC is/are not implemented for GPU\n",
      "AUC is not implemented on GPU. Will use CPU for metric computation, this could significantly affect learning time\n"
     ]
    },
    {
     "name": "stdout",
     "output_type": "stream",
     "text": [
      "0:\ttest: 0.7250424\tbest: 0.7250424 (0)\ttotal: 8.85ms\tremaining: 2m 57s\n"
     ]
    },
    {
     "name": "stderr",
     "output_type": "stream",
     "text": [
      "\u001b[32m[I 2023-01-18 19:34:59,966]\u001b[0m Trial 3 finished with value: 0.8977197020988491 and parameters: {'depth': 3, 'learning_rate': 0.7906637173458285, 'reg_lambda': 61}. Best is trial 1 with value: 0.932365605958023.\u001b[0m\n"
     ]
    },
    {
     "name": "stdout",
     "output_type": "stream",
     "text": [
      "bestTest = 0.7870338983\n",
      "bestIteration = 9\n",
      "Shrink model to first 10 iterations.\n",
      "========== Fold=1 ==========\n"
     ]
    },
    {
     "name": "stderr",
     "output_type": "stream",
     "text": [
      "Default metric period is 5 because AUC is/are not implemented for GPU\n",
      "AUC is not implemented on GPU. Will use CPU for metric computation, this could significantly affect learning time\n"
     ]
    },
    {
     "name": "stdout",
     "output_type": "stream",
     "text": [
      "0:\ttest: 0.7317990\tbest: 0.7317990 (0)\ttotal: 8.55ms\tremaining: 2m 51s\n",
      "bestTest = 0.8063344595\n",
      "bestIteration = 409\n",
      "Shrink model to first 410 iterations.\n",
      "========== Fold=2 ==========\n"
     ]
    },
    {
     "name": "stderr",
     "output_type": "stream",
     "text": [
      "Default metric period is 5 because AUC is/are not implemented for GPU\n",
      "AUC is not implemented on GPU. Will use CPU for metric computation, this could significantly affect learning time\n"
     ]
    },
    {
     "name": "stdout",
     "output_type": "stream",
     "text": [
      "0:\ttest: 0.7980152\tbest: 0.7980152 (0)\ttotal: 7.85ms\tremaining: 2m 36s\n",
      "bestTest = 0.8431587838\n",
      "bestIteration = 81\n",
      "Shrink model to first 82 iterations.\n",
      "========== Fold=3 ==========\n"
     ]
    },
    {
     "name": "stderr",
     "output_type": "stream",
     "text": [
      "Default metric period is 5 because AUC is/are not implemented for GPU\n",
      "AUC is not implemented on GPU. Will use CPU for metric computation, this could significantly affect learning time\n"
     ]
    },
    {
     "name": "stdout",
     "output_type": "stream",
     "text": [
      "0:\ttest: 0.7906780\tbest: 0.7906780 (0)\ttotal: 8.73ms\tremaining: 2m 54s\n",
      "bestTest = 0.8290254237\n",
      "bestIteration = 1\n",
      "Shrink model to first 2 iterations.\n",
      "========== Fold=4 ==========\n"
     ]
    },
    {
     "name": "stderr",
     "output_type": "stream",
     "text": [
      "Default metric period is 5 because AUC is/are not implemented for GPU\n",
      "AUC is not implemented on GPU. Will use CPU for metric computation, this could significantly affect learning time\n"
     ]
    },
    {
     "name": "stdout",
     "output_type": "stream",
     "text": [
      "0:\ttest: 0.7794915\tbest: 0.7794915 (0)\ttotal: 8.26ms\tremaining: 2m 45s\n",
      "bestTest = 0.8438135593\n",
      "bestIteration = 448\n",
      "Shrink model to first 449 iterations.\n",
      "========== Fold=5 ==========\n"
     ]
    },
    {
     "name": "stderr",
     "output_type": "stream",
     "text": [
      "Default metric period is 5 because AUC is/are not implemented for GPU\n",
      "AUC is not implemented on GPU. Will use CPU for metric computation, this could significantly affect learning time\n"
     ]
    },
    {
     "name": "stdout",
     "output_type": "stream",
     "text": [
      "0:\ttest: 0.7588136\tbest: 0.7588136 (0)\ttotal: 8.29ms\tremaining: 2m 45s\n"
     ]
    },
    {
     "name": "stderr",
     "output_type": "stream",
     "text": [
      "\u001b[32m[I 2023-01-18 19:35:18,158]\u001b[0m Trial 4 finished with value: 0.860275220040623 and parameters: {'depth': 4, 'learning_rate': 0.020612269205912432, 'reg_lambda': 61}. Best is trial 1 with value: 0.932365605958023.\u001b[0m\n"
     ]
    },
    {
     "name": "stdout",
     "output_type": "stream",
     "text": [
      "bestTest = 0.8038135593\n",
      "bestIteration = 390\n",
      "Shrink model to first 391 iterations.\n",
      "========== Fold=1 ==========\n"
     ]
    },
    {
     "name": "stderr",
     "output_type": "stream",
     "text": [
      "Default metric period is 5 because AUC is/are not implemented for GPU\n",
      "AUC is not implemented on GPU. Will use CPU for metric computation, this could significantly affect learning time\n"
     ]
    },
    {
     "name": "stdout",
     "output_type": "stream",
     "text": [
      "0:\ttest: 0.7297720\tbest: 0.7297720 (0)\ttotal: 8.98ms\tremaining: 2m 59s\n",
      "bestTest = 0.8107263514\n",
      "bestIteration = 75\n",
      "Shrink model to first 76 iterations.\n",
      "========== Fold=2 ==========\n"
     ]
    },
    {
     "name": "stderr",
     "output_type": "stream",
     "text": [
      "Default metric period is 5 because AUC is/are not implemented for GPU\n",
      "AUC is not implemented on GPU. Will use CPU for metric computation, this could significantly affect learning time\n"
     ]
    },
    {
     "name": "stdout",
     "output_type": "stream",
     "text": [
      "0:\ttest: 0.7980152\tbest: 0.7980152 (0)\ttotal: 7.99ms\tremaining: 2m 39s\n",
      "bestTest = 0.8407094595\n",
      "bestIteration = 2\n",
      "Shrink model to first 3 iterations.\n",
      "========== Fold=3 ==========\n"
     ]
    },
    {
     "name": "stderr",
     "output_type": "stream",
     "text": [
      "Default metric period is 5 because AUC is/are not implemented for GPU\n",
      "AUC is not implemented on GPU. Will use CPU for metric computation, this could significantly affect learning time\n"
     ]
    },
    {
     "name": "stdout",
     "output_type": "stream",
     "text": [
      "0:\ttest: 0.7762712\tbest: 0.7762712 (0)\ttotal: 9.11ms\tremaining: 3m 2s\n",
      "bestTest = 0.8861016949\n",
      "bestIteration = 116\n",
      "Shrink model to first 117 iterations.\n",
      "========== Fold=4 ==========\n"
     ]
    },
    {
     "name": "stderr",
     "output_type": "stream",
     "text": [
      "Default metric period is 5 because AUC is/are not implemented for GPU\n",
      "AUC is not implemented on GPU. Will use CPU for metric computation, this could significantly affect learning time\n"
     ]
    },
    {
     "name": "stdout",
     "output_type": "stream",
     "text": [
      "0:\ttest: 0.7784746\tbest: 0.7784746 (0)\ttotal: 8.1ms\tremaining: 2m 42s\n",
      "bestTest = 0.8551694915\n",
      "bestIteration = 103\n",
      "Shrink model to first 104 iterations.\n",
      "========== Fold=5 ==========\n"
     ]
    },
    {
     "name": "stderr",
     "output_type": "stream",
     "text": [
      "Default metric period is 5 because AUC is/are not implemented for GPU\n",
      "AUC is not implemented on GPU. Will use CPU for metric computation, this could significantly affect learning time\n"
     ]
    },
    {
     "name": "stdout",
     "output_type": "stream",
     "text": [
      "0:\ttest: 0.7588136\tbest: 0.7588136 (0)\ttotal: 9.11ms\tremaining: 3m 2s\n"
     ]
    },
    {
     "name": "stderr",
     "output_type": "stream",
     "text": [
      "\u001b[32m[I 2023-01-18 19:35:28,552]\u001b[0m Trial 5 finished with value: 0.8965372376438727 and parameters: {'depth': 4, 'learning_rate': 0.22791343895536487, 'reg_lambda': 81}. Best is trial 1 with value: 0.932365605958023.\u001b[0m\n"
     ]
    },
    {
     "name": "stdout",
     "output_type": "stream",
     "text": [
      "bestTest = 0.8045762712\n",
      "bestIteration = 54\n",
      "Shrink model to first 55 iterations.\n",
      "========== Fold=1 ==========\n"
     ]
    },
    {
     "name": "stderr",
     "output_type": "stream",
     "text": [
      "Default metric period is 5 because AUC is/are not implemented for GPU\n",
      "AUC is not implemented on GPU. Will use CPU for metric computation, this could significantly affect learning time\n"
     ]
    },
    {
     "name": "stdout",
     "output_type": "stream",
     "text": [
      "0:\ttest: 0.7304476\tbest: 0.7304476 (0)\ttotal: 10.4ms\tremaining: 3m 28s\n",
      "bestTest = 0.8314189189\n",
      "bestIteration = 43\n",
      "Shrink model to first 44 iterations.\n",
      "========== Fold=2 ==========\n"
     ]
    },
    {
     "name": "stderr",
     "output_type": "stream",
     "text": [
      "Default metric period is 5 because AUC is/are not implemented for GPU\n",
      "AUC is not implemented on GPU. Will use CPU for metric computation, this could significantly affect learning time\n"
     ]
    },
    {
     "name": "stdout",
     "output_type": "stream",
     "text": [
      "0:\ttest: 0.7967905\tbest: 0.7967905 (0)\ttotal: 9.08ms\tremaining: 3m 1s\n",
      "bestTest = 0.8299831081\n",
      "bestIteration = 71\n",
      "Shrink model to first 72 iterations.\n",
      "========== Fold=3 ==========\n"
     ]
    },
    {
     "name": "stderr",
     "output_type": "stream",
     "text": [
      "Default metric period is 5 because AUC is/are not implemented for GPU\n",
      "AUC is not implemented on GPU. Will use CPU for metric computation, this could significantly affect learning time\n"
     ]
    },
    {
     "name": "stdout",
     "output_type": "stream",
     "text": [
      "0:\ttest: 0.7970339\tbest: 0.7970339 (0)\ttotal: 11.5ms\tremaining: 3m 50s\n",
      "bestTest = 0.8361864407\n",
      "bestIteration = 15\n",
      "Shrink model to first 16 iterations.\n",
      "========== Fold=4 ==========\n"
     ]
    },
    {
     "name": "stderr",
     "output_type": "stream",
     "text": [
      "Default metric period is 5 because AUC is/are not implemented for GPU\n",
      "AUC is not implemented on GPU. Will use CPU for metric computation, this could significantly affect learning time\n"
     ]
    },
    {
     "name": "stdout",
     "output_type": "stream",
     "text": [
      "0:\ttest: 0.7751695\tbest: 0.7751695 (0)\ttotal: 8.85ms\tremaining: 2m 56s\n",
      "bestTest = 0.8488135593\n",
      "bestIteration = 8\n",
      "Shrink model to first 9 iterations.\n",
      "========== Fold=5 ==========\n"
     ]
    },
    {
     "name": "stderr",
     "output_type": "stream",
     "text": [
      "Default metric period is 5 because AUC is/are not implemented for GPU\n",
      "AUC is not implemented on GPU. Will use CPU for metric computation, this could significantly affect learning time\n"
     ]
    },
    {
     "name": "stdout",
     "output_type": "stream",
     "text": [
      "0:\ttest: 0.7525000\tbest: 0.7525000 (0)\ttotal: 10.4ms\tremaining: 3m 28s\n"
     ]
    },
    {
     "name": "stderr",
     "output_type": "stream",
     "text": [
      "\u001b[32m[I 2023-01-18 19:35:38,072]\u001b[0m Trial 6 finished with value: 0.917886932972241 and parameters: {'depth': 5, 'learning_rate': 0.7354679304303401, 'reg_lambda': 41}. Best is trial 1 with value: 0.932365605958023.\u001b[0m\n"
     ]
    },
    {
     "name": "stdout",
     "output_type": "stream",
     "text": [
      "bestTest = 0.7823305085\n",
      "bestIteration = 7\n",
      "Shrink model to first 8 iterations.\n",
      "========== Fold=1 ==========\n"
     ]
    },
    {
     "name": "stderr",
     "output_type": "stream",
     "text": [
      "Default metric period is 5 because AUC is/are not implemented for GPU\n",
      "AUC is not implemented on GPU. Will use CPU for metric computation, this could significantly affect learning time\n"
     ]
    },
    {
     "name": "stdout",
     "output_type": "stream",
     "text": [
      "0:\ttest: 0.7222973\tbest: 0.7222973 (0)\ttotal: 9.42ms\tremaining: 3m 8s\n",
      "bestTest = 0.7500422297\n",
      "bestIteration = 93\n",
      "Shrink model to first 94 iterations.\n",
      "========== Fold=2 ==========\n"
     ]
    },
    {
     "name": "stderr",
     "output_type": "stream",
     "text": [
      "Default metric period is 5 because AUC is/are not implemented for GPU\n",
      "AUC is not implemented on GPU. Will use CPU for metric computation, this could significantly affect learning time\n"
     ]
    },
    {
     "name": "stdout",
     "output_type": "stream",
     "text": [
      "0:\ttest: 0.7858108\tbest: 0.7858108 (0)\ttotal: 10.1ms\tremaining: 3m 21s\n",
      "bestTest = 0.8443412162\n",
      "bestIteration = 178\n",
      "Shrink model to first 179 iterations.\n",
      "========== Fold=3 ==========\n"
     ]
    },
    {
     "name": "stderr",
     "output_type": "stream",
     "text": [
      "Default metric period is 5 because AUC is/are not implemented for GPU\n",
      "AUC is not implemented on GPU. Will use CPU for metric computation, this could significantly affect learning time\n"
     ]
    },
    {
     "name": "stdout",
     "output_type": "stream",
     "text": [
      "0:\ttest: 0.7629237\tbest: 0.7629237 (0)\ttotal: 10.5ms\tremaining: 3m 29s\n",
      "bestTest = 0.8179237288\n",
      "bestIteration = 10\n",
      "Shrink model to first 11 iterations.\n",
      "========== Fold=4 ==========\n"
     ]
    },
    {
     "name": "stderr",
     "output_type": "stream",
     "text": [
      "Default metric period is 5 because AUC is/are not implemented for GPU\n",
      "AUC is not implemented on GPU. Will use CPU for metric computation, this could significantly affect learning time\n"
     ]
    },
    {
     "name": "stdout",
     "output_type": "stream",
     "text": [
      "0:\ttest: 0.7731356\tbest: 0.7731356 (0)\ttotal: 9.78ms\tremaining: 3m 15s\n",
      "bestTest = 0.7983050847\n",
      "bestIteration = 28\n",
      "Shrink model to first 29 iterations.\n",
      "========== Fold=5 ==========\n"
     ]
    },
    {
     "name": "stderr",
     "output_type": "stream",
     "text": [
      "Default metric period is 5 because AUC is/are not implemented for GPU\n",
      "AUC is not implemented on GPU. Will use CPU for metric computation, this could significantly affect learning time\n"
     ]
    },
    {
     "name": "stdout",
     "output_type": "stream",
     "text": [
      "0:\ttest: 0.7659746\tbest: 0.7659746 (0)\ttotal: 10.5ms\tremaining: 3m 30s\n"
     ]
    },
    {
     "name": "stderr",
     "output_type": "stream",
     "text": [
      "\u001b[32m[I 2023-01-18 19:35:49,769]\u001b[0m Trial 7 finished with value: 0.8271188219363574 and parameters: {'depth': 6, 'learning_rate': 0.00408885835132698, 'reg_lambda': 82}. Best is trial 1 with value: 0.932365605958023.\u001b[0m\n"
     ]
    },
    {
     "name": "stdout",
     "output_type": "stream",
     "text": [
      "bestTest = 0.771059322\n",
      "bestIteration = 5\n",
      "Shrink model to first 6 iterations.\n",
      "========== Fold=1 ==========\n"
     ]
    },
    {
     "name": "stderr",
     "output_type": "stream",
     "text": [
      "Default metric period is 5 because AUC is/are not implemented for GPU\n",
      "AUC is not implemented on GPU. Will use CPU for metric computation, this could significantly affect learning time\n"
     ]
    },
    {
     "name": "stdout",
     "output_type": "stream",
     "text": [
      "0:\ttest: 0.7228885\tbest: 0.7228885 (0)\ttotal: 10.5ms\tremaining: 3m 30s\n",
      "bestTest = 0.8391891892\n",
      "bestIteration = 154\n",
      "Shrink model to first 155 iterations.\n",
      "========== Fold=2 ==========\n"
     ]
    },
    {
     "name": "stderr",
     "output_type": "stream",
     "text": [
      "Default metric period is 5 because AUC is/are not implemented for GPU\n",
      "AUC is not implemented on GPU. Will use CPU for metric computation, this could significantly affect learning time\n"
     ]
    },
    {
     "name": "stdout",
     "output_type": "stream",
     "text": [
      "0:\ttest: 0.7858108\tbest: 0.7858108 (0)\ttotal: 10.3ms\tremaining: 3m 25s\n",
      "bestTest = 0.8370777027\n",
      "bestIteration = 11\n",
      "Shrink model to first 12 iterations.\n",
      "========== Fold=3 ==========\n"
     ]
    },
    {
     "name": "stderr",
     "output_type": "stream",
     "text": [
      "Default metric period is 5 because AUC is/are not implemented for GPU\n",
      "AUC is not implemented on GPU. Will use CPU for metric computation, this could significantly affect learning time\n"
     ]
    },
    {
     "name": "stdout",
     "output_type": "stream",
     "text": [
      "0:\ttest: 0.7629237\tbest: 0.7629237 (0)\ttotal: 10.7ms\tremaining: 3m 34s\n",
      "bestTest = 0.8397457627\n",
      "bestIteration = 30\n",
      "Shrink model to first 31 iterations.\n",
      "========== Fold=4 ==========\n"
     ]
    },
    {
     "name": "stderr",
     "output_type": "stream",
     "text": [
      "Default metric period is 5 because AUC is/are not implemented for GPU\n",
      "AUC is not implemented on GPU. Will use CPU for metric computation, this could significantly affect learning time\n"
     ]
    },
    {
     "name": "stdout",
     "output_type": "stream",
     "text": [
      "0:\ttest: 0.7449576\tbest: 0.7449576 (0)\ttotal: 12.4ms\tremaining: 4m 8s\n",
      "bestTest = 0.8284745763\n",
      "bestIteration = 10\n",
      "Shrink model to first 11 iterations.\n",
      "========== Fold=5 ==========\n"
     ]
    },
    {
     "name": "stderr",
     "output_type": "stream",
     "text": [
      "Default metric period is 5 because AUC is/are not implemented for GPU\n",
      "AUC is not implemented on GPU. Will use CPU for metric computation, this could significantly affect learning time\n"
     ]
    },
    {
     "name": "stdout",
     "output_type": "stream",
     "text": [
      "0:\ttest: 0.7659746\tbest: 0.7659746 (0)\ttotal: 11ms\tremaining: 3m 39s\n"
     ]
    },
    {
     "name": "stderr",
     "output_type": "stream",
     "text": [
      "\u001b[32m[I 2023-01-18 19:36:00,603]\u001b[0m Trial 8 finished with value: 0.9165345294515911 and parameters: {'depth': 6, 'learning_rate': 0.7262998240048514, 'reg_lambda': 94}. Best is trial 1 with value: 0.932365605958023.\u001b[0m\n"
     ]
    },
    {
     "name": "stdout",
     "output_type": "stream",
     "text": [
      "bestTest = 0.7952542373\n",
      "bestIteration = 20\n",
      "Shrink model to first 21 iterations.\n",
      "========== Fold=1 ==========\n"
     ]
    },
    {
     "name": "stderr",
     "output_type": "stream",
     "text": [
      "Default metric period is 5 because AUC is/are not implemented for GPU\n",
      "AUC is not implemented on GPU. Will use CPU for metric computation, this could significantly affect learning time\n"
     ]
    },
    {
     "name": "stdout",
     "output_type": "stream",
     "text": [
      "0:\ttest: 0.7317990\tbest: 0.7317990 (0)\ttotal: 8.63ms\tremaining: 2m 52s\n",
      "bestTest = 0.8143581081\n",
      "bestIteration = 70\n",
      "Shrink model to first 71 iterations.\n",
      "========== Fold=2 ==========\n"
     ]
    },
    {
     "name": "stderr",
     "output_type": "stream",
     "text": [
      "Default metric period is 5 because AUC is/are not implemented for GPU\n",
      "AUC is not implemented on GPU. Will use CPU for metric computation, this could significantly affect learning time\n"
     ]
    },
    {
     "name": "stdout",
     "output_type": "stream",
     "text": [
      "0:\ttest: 0.8019003\tbest: 0.8019003 (0)\ttotal: 8.54ms\tremaining: 2m 50s\n",
      "bestTest = 0.8304476351\n",
      "bestIteration = 11\n",
      "Shrink model to first 12 iterations.\n",
      "========== Fold=3 ==========\n"
     ]
    },
    {
     "name": "stderr",
     "output_type": "stream",
     "text": [
      "Default metric period is 5 because AUC is/are not implemented for GPU\n",
      "AUC is not implemented on GPU. Will use CPU for metric computation, this could significantly affect learning time\n"
     ]
    },
    {
     "name": "stdout",
     "output_type": "stream",
     "text": [
      "0:\ttest: 0.7906780\tbest: 0.7906780 (0)\ttotal: 7.79ms\tremaining: 2m 35s\n",
      "bestTest = 0.8849152542\n",
      "bestIteration = 157\n",
      "Shrink model to first 158 iterations.\n",
      "========== Fold=4 ==========\n"
     ]
    },
    {
     "name": "stderr",
     "output_type": "stream",
     "text": [
      "Default metric period is 5 because AUC is/are not implemented for GPU\n",
      "AUC is not implemented on GPU. Will use CPU for metric computation, this could significantly affect learning time\n"
     ]
    },
    {
     "name": "stdout",
     "output_type": "stream",
     "text": [
      "0:\ttest: 0.7699153\tbest: 0.7699153 (0)\ttotal: 8.26ms\tremaining: 2m 45s\n",
      "bestTest = 0.8459322034\n",
      "bestIteration = 252\n",
      "Shrink model to first 253 iterations.\n",
      "========== Fold=5 ==========\n"
     ]
    },
    {
     "name": "stderr",
     "output_type": "stream",
     "text": [
      "Default metric period is 5 because AUC is/are not implemented for GPU\n",
      "AUC is not implemented on GPU. Will use CPU for metric computation, this could significantly affect learning time\n"
     ]
    },
    {
     "name": "stdout",
     "output_type": "stream",
     "text": [
      "0:\ttest: 0.7248305\tbest: 0.7248305 (0)\ttotal: 8.47ms\tremaining: 2m 49s\n"
     ]
    },
    {
     "name": "stderr",
     "output_type": "stream",
     "text": [
      "\u001b[32m[I 2023-01-18 19:36:12,697]\u001b[0m Trial 9 finished with value: 0.8999861205145565 and parameters: {'depth': 4, 'learning_rate': 0.1359086437755189, 'reg_lambda': 53}. Best is trial 1 with value: 0.932365605958023.\u001b[0m\n"
     ]
    },
    {
     "name": "stdout",
     "output_type": "stream",
     "text": [
      "bestTest = 0.8020338983\n",
      "bestIteration = 74\n",
      "Shrink model to first 75 iterations.\n",
      "========== Fold=1 ==========\n"
     ]
    },
    {
     "name": "stderr",
     "output_type": "stream",
     "text": [
      "Default metric period is 5 because AUC is/are not implemented for GPU\n",
      "AUC is not implemented on GPU. Will use CPU for metric computation, this could significantly affect learning time\n"
     ]
    },
    {
     "name": "stdout",
     "output_type": "stream",
     "text": [
      "0:\ttest: 0.7220439\tbest: 0.7220439 (0)\ttotal: 7.11ms\tremaining: 2m 22s\n",
      "bestTest = 0.8322635135\n",
      "bestIteration = 26\n",
      "Shrink model to first 27 iterations.\n",
      "========== Fold=2 ==========\n"
     ]
    },
    {
     "name": "stderr",
     "output_type": "stream",
     "text": [
      "Default metric period is 5 because AUC is/are not implemented for GPU\n",
      "AUC is not implemented on GPU. Will use CPU for metric computation, this could significantly affect learning time\n"
     ]
    },
    {
     "name": "stdout",
     "output_type": "stream",
     "text": [
      "0:\ttest: 0.7801098\tbest: 0.7801098 (0)\ttotal: 8.53ms\tremaining: 2m 50s\n",
      "bestTest = 0.8297297297\n",
      "bestIteration = 28\n",
      "Shrink model to first 29 iterations.\n",
      "========== Fold=3 ==========\n"
     ]
    },
    {
     "name": "stderr",
     "output_type": "stream",
     "text": [
      "Default metric period is 5 because AUC is/are not implemented for GPU\n",
      "AUC is not implemented on GPU. Will use CPU for metric computation, this could significantly affect learning time\n"
     ]
    },
    {
     "name": "stdout",
     "output_type": "stream",
     "text": [
      "0:\ttest: 0.7758051\tbest: 0.7758051 (0)\ttotal: 8.8ms\tremaining: 2m 55s\n",
      "bestTest = 0.8692372881\n",
      "bestIteration = 31\n",
      "Shrink model to first 32 iterations.\n",
      "========== Fold=4 ==========\n"
     ]
    },
    {
     "name": "stderr",
     "output_type": "stream",
     "text": [
      "Default metric period is 5 because AUC is/are not implemented for GPU\n",
      "AUC is not implemented on GPU. Will use CPU for metric computation, this could significantly affect learning time\n"
     ]
    },
    {
     "name": "stdout",
     "output_type": "stream",
     "text": [
      "0:\ttest: 0.7622034\tbest: 0.7622034 (0)\ttotal: 7.45ms\tremaining: 2m 28s\n",
      "bestTest = 0.865720339\n",
      "bestIteration = 28\n",
      "Shrink model to first 29 iterations.\n",
      "========== Fold=5 ==========\n"
     ]
    },
    {
     "name": "stderr",
     "output_type": "stream",
     "text": [
      "Default metric period is 5 because AUC is/are not implemented for GPU\n",
      "AUC is not implemented on GPU. Will use CPU for metric computation, this could significantly affect learning time\n"
     ]
    },
    {
     "name": "stdout",
     "output_type": "stream",
     "text": [
      "0:\ttest: 0.7379237\tbest: 0.7379237 (0)\ttotal: 8.3ms\tremaining: 2m 46s\n"
     ]
    },
    {
     "name": "stderr",
     "output_type": "stream",
     "text": [
      "\u001b[32m[I 2023-01-18 19:36:20,985]\u001b[0m Trial 10 finished with value: 0.8962643872714962 and parameters: {'depth': 3, 'learning_rate': 0.44003719989736434, 'reg_lambda': 31}. Best is trial 1 with value: 0.932365605958023.\u001b[0m\n"
     ]
    },
    {
     "name": "stdout",
     "output_type": "stream",
     "text": [
      "bestTest = 0.8060169492\n",
      "bestIteration = 17\n",
      "Shrink model to first 18 iterations.\n",
      "========== Fold=1 ==========\n"
     ]
    },
    {
     "name": "stderr",
     "output_type": "stream",
     "text": [
      "Default metric period is 5 because AUC is/are not implemented for GPU\n",
      "AUC is not implemented on GPU. Will use CPU for metric computation, this could significantly affect learning time\n"
     ]
    },
    {
     "name": "stdout",
     "output_type": "stream",
     "text": [
      "0:\ttest: 0.7692145\tbest: 0.7692145 (0)\ttotal: 9.21ms\tremaining: 3m 4s\n",
      "bestTest = 0.8530405405\n",
      "bestIteration = 83\n",
      "Shrink model to first 84 iterations.\n",
      "========== Fold=2 ==========\n"
     ]
    },
    {
     "name": "stderr",
     "output_type": "stream",
     "text": [
      "Default metric period is 5 because AUC is/are not implemented for GPU\n",
      "AUC is not implemented on GPU. Will use CPU for metric computation, this could significantly affect learning time\n"
     ]
    },
    {
     "name": "stdout",
     "output_type": "stream",
     "text": [
      "0:\ttest: 0.7967905\tbest: 0.7967905 (0)\ttotal: 9.36ms\tremaining: 3m 7s\n",
      "bestTest = 0.8374155405\n",
      "bestIteration = 85\n",
      "Shrink model to first 86 iterations.\n",
      "========== Fold=3 ==========\n"
     ]
    },
    {
     "name": "stderr",
     "output_type": "stream",
     "text": [
      "Default metric period is 5 because AUC is/are not implemented for GPU\n",
      "AUC is not implemented on GPU. Will use CPU for metric computation, this could significantly affect learning time\n"
     ]
    },
    {
     "name": "stdout",
     "output_type": "stream",
     "text": [
      "0:\ttest: 0.7972034\tbest: 0.7972034 (0)\ttotal: 9.35ms\tremaining: 3m 7s\n",
      "bestTest = 0.8668644068\n",
      "bestIteration = 97\n",
      "Shrink model to first 98 iterations.\n",
      "========== Fold=4 ==========\n"
     ]
    },
    {
     "name": "stderr",
     "output_type": "stream",
     "text": [
      "Default metric period is 5 because AUC is/are not implemented for GPU\n",
      "AUC is not implemented on GPU. Will use CPU for metric computation, this could significantly affect learning time\n"
     ]
    },
    {
     "name": "stdout",
     "output_type": "stream",
     "text": [
      "0:\ttest: 0.7751695\tbest: 0.7751695 (0)\ttotal: 10.5ms\tremaining: 3m 30s\n",
      "bestTest = 0.8530508475\n",
      "bestIteration = 26\n",
      "Shrink model to first 27 iterations.\n",
      "========== Fold=5 ==========\n"
     ]
    },
    {
     "name": "stderr",
     "output_type": "stream",
     "text": [
      "Default metric period is 5 because AUC is/are not implemented for GPU\n",
      "AUC is not implemented on GPU. Will use CPU for metric computation, this could significantly affect learning time\n"
     ]
    },
    {
     "name": "stdout",
     "output_type": "stream",
     "text": [
      "0:\ttest: 0.7536864\tbest: 0.7536864 (0)\ttotal: 9.99ms\tremaining: 3m 19s\n"
     ]
    },
    {
     "name": "stderr",
     "output_type": "stream",
     "text": [
      "\u001b[32m[I 2023-01-18 19:36:31,768]\u001b[0m Trial 11 finished with value: 0.9561225457007447 and parameters: {'depth': 5, 'learning_rate': 0.48296684495810505, 'reg_lambda': 30}. Best is trial 11 with value: 0.9561225457007447.\u001b[0m\n"
     ]
    },
    {
     "name": "stdout",
     "output_type": "stream",
     "text": [
      "bestTest = 0.8105084746\n",
      "bestIteration = 28\n",
      "Shrink model to first 29 iterations.\n",
      "========== Fold=1 ==========\n"
     ]
    },
    {
     "name": "stderr",
     "output_type": "stream",
     "text": [
      "Default metric period is 5 because AUC is/are not implemented for GPU\n",
      "AUC is not implemented on GPU. Will use CPU for metric computation, this could significantly affect learning time\n"
     ]
    },
    {
     "name": "stdout",
     "output_type": "stream",
     "text": [
      "0:\ttest: 0.7491132\tbest: 0.7491132 (0)\ttotal: 9.05ms\tremaining: 3m\n",
      "bestTest = 0.8478040541\n",
      "bestIteration = 81\n",
      "Shrink model to first 82 iterations.\n",
      "========== Fold=2 ==========\n"
     ]
    },
    {
     "name": "stderr",
     "output_type": "stream",
     "text": [
      "Default metric period is 5 because AUC is/are not implemented for GPU\n",
      "AUC is not implemented on GPU. Will use CPU for metric computation, this could significantly affect learning time\n"
     ]
    },
    {
     "name": "stdout",
     "output_type": "stream",
     "text": [
      "0:\ttest: 0.7967905\tbest: 0.7967905 (0)\ttotal: 9.18ms\tremaining: 3m 3s\n",
      "bestTest = 0.8378378378\n",
      "bestIteration = 101\n",
      "Shrink model to first 102 iterations.\n",
      "========== Fold=3 ==========\n"
     ]
    },
    {
     "name": "stderr",
     "output_type": "stream",
     "text": [
      "Default metric period is 5 because AUC is/are not implemented for GPU\n",
      "AUC is not implemented on GPU. Will use CPU for metric computation, this could significantly affect learning time\n"
     ]
    },
    {
     "name": "stdout",
     "output_type": "stream",
     "text": [
      "0:\ttest: 0.7972034\tbest: 0.7972034 (0)\ttotal: 8.74ms\tremaining: 2m 54s\n",
      "bestTest = 0.8738135593\n",
      "bestIteration = 24\n",
      "Shrink model to first 25 iterations.\n",
      "========== Fold=4 ==========\n"
     ]
    },
    {
     "name": "stderr",
     "output_type": "stream",
     "text": [
      "Default metric period is 5 because AUC is/are not implemented for GPU\n",
      "AUC is not implemented on GPU. Will use CPU for metric computation, this could significantly affect learning time\n"
     ]
    },
    {
     "name": "stdout",
     "output_type": "stream",
     "text": [
      "0:\ttest: 0.7751695\tbest: 0.7751695 (0)\ttotal: 9.04ms\tremaining: 3m\n",
      "bestTest = 0.8420338983\n",
      "bestIteration = 34\n",
      "Shrink model to first 35 iterations.\n",
      "========== Fold=5 ==========\n"
     ]
    },
    {
     "name": "stderr",
     "output_type": "stream",
     "text": [
      "Default metric period is 5 because AUC is/are not implemented for GPU\n",
      "AUC is not implemented on GPU. Will use CPU for metric computation, this could significantly affect learning time\n"
     ]
    },
    {
     "name": "stdout",
     "output_type": "stream",
     "text": [
      "0:\ttest: 0.7536864\tbest: 0.7536864 (0)\ttotal: 10.6ms\tremaining: 3m 32s\n"
     ]
    },
    {
     "name": "stderr",
     "output_type": "stream",
     "text": [
      "\u001b[32m[I 2023-01-18 19:36:42,225]\u001b[0m Trial 12 finished with value: 0.9389610697359512 and parameters: {'depth': 5, 'learning_rate': 0.4713264454309143, 'reg_lambda': 31}. Best is trial 11 with value: 0.9561225457007447.\u001b[0m\n"
     ]
    },
    {
     "name": "stdout",
     "output_type": "stream",
     "text": [
      "bestTest = 0.7888135593\n",
      "bestIteration = 12\n",
      "Shrink model to first 13 iterations.\n",
      "========== Fold=1 ==========\n"
     ]
    },
    {
     "name": "stderr",
     "output_type": "stream",
     "text": [
      "Default metric period is 5 because AUC is/are not implemented for GPU\n",
      "AUC is not implemented on GPU. Will use CPU for metric computation, this could significantly affect learning time\n"
     ]
    },
    {
     "name": "stdout",
     "output_type": "stream",
     "text": [
      "0:\ttest: 0.7304476\tbest: 0.7304476 (0)\ttotal: 8.83ms\tremaining: 2m 56s\n",
      "bestTest = 0.8253378378\n",
      "bestIteration = 39\n",
      "Shrink model to first 40 iterations.\n",
      "========== Fold=2 ==========\n"
     ]
    },
    {
     "name": "stderr",
     "output_type": "stream",
     "text": [
      "Default metric period is 5 because AUC is/are not implemented for GPU\n",
      "AUC is not implemented on GPU. Will use CPU for metric computation, this could significantly affect learning time\n"
     ]
    },
    {
     "name": "stdout",
     "output_type": "stream",
     "text": [
      "0:\ttest: 0.7967905\tbest: 0.7967905 (0)\ttotal: 9.23ms\tremaining: 3m 4s\n",
      "bestTest = 0.8199324324\n",
      "bestIteration = 2\n",
      "Shrink model to first 3 iterations.\n",
      "========== Fold=3 ==========\n"
     ]
    },
    {
     "name": "stderr",
     "output_type": "stream",
     "text": [
      "Default metric period is 5 because AUC is/are not implemented for GPU\n",
      "AUC is not implemented on GPU. Will use CPU for metric computation, this could significantly affect learning time\n"
     ]
    },
    {
     "name": "stdout",
     "output_type": "stream",
     "text": [
      "0:\ttest: 0.7956780\tbest: 0.7956780 (0)\ttotal: 8.57ms\tremaining: 2m 51s\n",
      "bestTest = 0.8542372881\n",
      "bestIteration = 15\n",
      "Shrink model to first 16 iterations.\n",
      "========== Fold=4 ==========\n"
     ]
    },
    {
     "name": "stderr",
     "output_type": "stream",
     "text": [
      "Default metric period is 5 because AUC is/are not implemented for GPU\n",
      "AUC is not implemented on GPU. Will use CPU for metric computation, this could significantly affect learning time\n"
     ]
    },
    {
     "name": "stdout",
     "output_type": "stream",
     "text": [
      "0:\ttest: 0.7751695\tbest: 0.7751695 (0)\ttotal: 9.93ms\tremaining: 3m 18s\n",
      "bestTest = 0.8210169492\n",
      "bestIteration = 12\n",
      "Shrink model to first 13 iterations.\n",
      "========== Fold=5 ==========\n"
     ]
    },
    {
     "name": "stderr",
     "output_type": "stream",
     "text": [
      "Default metric period is 5 because AUC is/are not implemented for GPU\n",
      "AUC is not implemented on GPU. Will use CPU for metric computation, this could significantly affect learning time\n"
     ]
    },
    {
     "name": "stdout",
     "output_type": "stream",
     "text": [
      "0:\ttest: 0.7294492\tbest: 0.7294492 (0)\ttotal: 9.7ms\tremaining: 3m 14s\n"
     ]
    },
    {
     "name": "stderr",
     "output_type": "stream",
     "text": [
      "\u001b[32m[I 2023-01-18 19:36:51,250]\u001b[0m Trial 13 finished with value: 0.8931052809749491 and parameters: {'depth': 5, 'learning_rate': 0.5753239951416979, 'reg_lambda': 44}. Best is trial 11 with value: 0.9561225457007447.\u001b[0m\n"
     ]
    },
    {
     "name": "stdout",
     "output_type": "stream",
     "text": [
      "bestTest = 0.7843220339\n",
      "bestIteration = 13\n",
      "Shrink model to first 14 iterations.\n",
      "========== Fold=1 ==========\n"
     ]
    },
    {
     "name": "stderr",
     "output_type": "stream",
     "text": [
      "Default metric period is 5 because AUC is/are not implemented for GPU\n",
      "AUC is not implemented on GPU. Will use CPU for metric computation, this could significantly affect learning time\n"
     ]
    },
    {
     "name": "stdout",
     "output_type": "stream",
     "text": [
      "0:\ttest: 0.7304476\tbest: 0.7304476 (0)\ttotal: 10.4ms\tremaining: 3m 28s\n",
      "bestTest = 0.8293918919\n",
      "bestIteration = 190\n",
      "Shrink model to first 191 iterations.\n",
      "========== Fold=2 ==========\n"
     ]
    },
    {
     "name": "stderr",
     "output_type": "stream",
     "text": [
      "Default metric period is 5 because AUC is/are not implemented for GPU\n",
      "AUC is not implemented on GPU. Will use CPU for metric computation, this could significantly affect learning time\n"
     ]
    },
    {
     "name": "stdout",
     "output_type": "stream",
     "text": [
      "0:\ttest: 0.7967905\tbest: 0.7967905 (0)\ttotal: 8.9ms\tremaining: 2m 58s\n",
      "bestTest = 0.8413851351\n",
      "bestIteration = 141\n",
      "Shrink model to first 142 iterations.\n",
      "========== Fold=3 ==========\n"
     ]
    },
    {
     "name": "stderr",
     "output_type": "stream",
     "text": [
      "Default metric period is 5 because AUC is/are not implemented for GPU\n",
      "AUC is not implemented on GPU. Will use CPU for metric computation, this could significantly affect learning time\n"
     ]
    },
    {
     "name": "stdout",
     "output_type": "stream",
     "text": [
      "0:\ttest: 0.7956780\tbest: 0.7956780 (0)\ttotal: 9.92ms\tremaining: 3m 18s\n",
      "bestTest = 0.8768644068\n",
      "bestIteration = 74\n",
      "Shrink model to first 75 iterations.\n",
      "========== Fold=4 ==========\n"
     ]
    },
    {
     "name": "stderr",
     "output_type": "stream",
     "text": [
      "Default metric period is 5 because AUC is/are not implemented for GPU\n",
      "AUC is not implemented on GPU. Will use CPU for metric computation, this could significantly affect learning time\n"
     ]
    },
    {
     "name": "stdout",
     "output_type": "stream",
     "text": [
      "0:\ttest: 0.7751695\tbest: 0.7751695 (0)\ttotal: 8.69ms\tremaining: 2m 53s\n",
      "bestTest = 0.8327966102\n",
      "bestIteration = 61\n",
      "Shrink model to first 62 iterations.\n",
      "========== Fold=5 ==========\n"
     ]
    },
    {
     "name": "stderr",
     "output_type": "stream",
     "text": [
      "Default metric period is 5 because AUC is/are not implemented for GPU\n",
      "AUC is not implemented on GPU. Will use CPU for metric computation, this could significantly affect learning time\n"
     ]
    },
    {
     "name": "stdout",
     "output_type": "stream",
     "text": [
      "0:\ttest: 0.7294492\tbest: 0.7294492 (0)\ttotal: 9.39ms\tremaining: 3m 7s\n"
     ]
    },
    {
     "name": "stderr",
     "output_type": "stream",
     "text": [
      "\u001b[32m[I 2023-01-18 19:37:03,647]\u001b[0m Trial 14 finished with value: 0.945473933649289 and parameters: {'depth': 5, 'learning_rate': 0.30661293074540763, 'reg_lambda': 45}. Best is trial 11 with value: 0.9561225457007447.\u001b[0m\n"
     ]
    },
    {
     "name": "stdout",
     "output_type": "stream",
     "text": [
      "bestTest = 0.7987288136\n",
      "bestIteration = 21\n",
      "Shrink model to first 22 iterations.\n",
      "========== Fold=1 ==========\n"
     ]
    },
    {
     "name": "stderr",
     "output_type": "stream",
     "text": [
      "Default metric period is 5 because AUC is/are not implemented for GPU\n",
      "AUC is not implemented on GPU. Will use CPU for metric computation, this could significantly affect learning time\n"
     ]
    },
    {
     "name": "stdout",
     "output_type": "stream",
     "text": [
      "0:\ttest: 0.7304476\tbest: 0.7304476 (0)\ttotal: 9.6ms\tremaining: 3m 11s\n",
      "bestTest = 0.833277027\n",
      "bestIteration = 257\n",
      "Shrink model to first 258 iterations.\n",
      "========== Fold=2 ==========\n"
     ]
    },
    {
     "name": "stderr",
     "output_type": "stream",
     "text": [
      "Default metric period is 5 because AUC is/are not implemented for GPU\n",
      "AUC is not implemented on GPU. Will use CPU for metric computation, this could significantly affect learning time\n"
     ]
    },
    {
     "name": "stdout",
     "output_type": "stream",
     "text": [
      "0:\ttest: 0.7967905\tbest: 0.7967905 (0)\ttotal: 10.2ms\tremaining: 3m 23s\n",
      "bestTest = 0.858277027\n",
      "bestIteration = 117\n",
      "Shrink model to first 118 iterations.\n",
      "========== Fold=3 ==========\n"
     ]
    },
    {
     "name": "stderr",
     "output_type": "stream",
     "text": [
      "Default metric period is 5 because AUC is/are not implemented for GPU\n",
      "AUC is not implemented on GPU. Will use CPU for metric computation, this could significantly affect learning time\n"
     ]
    },
    {
     "name": "stdout",
     "output_type": "stream",
     "text": [
      "0:\ttest: 0.7956780\tbest: 0.7956780 (0)\ttotal: 9.19ms\tremaining: 3m 3s\n",
      "bestTest = 0.8868644068\n",
      "bestIteration = 100\n",
      "Shrink model to first 101 iterations.\n",
      "========== Fold=4 ==========\n"
     ]
    },
    {
     "name": "stderr",
     "output_type": "stream",
     "text": [
      "Default metric period is 5 because AUC is/are not implemented for GPU\n",
      "AUC is not implemented on GPU. Will use CPU for metric computation, this could significantly affect learning time\n"
     ]
    },
    {
     "name": "stdout",
     "output_type": "stream",
     "text": [
      "0:\ttest: 0.7751695\tbest: 0.7751695 (0)\ttotal: 9.72ms\tremaining: 3m 14s\n",
      "bestTest = 0.8450847458\n",
      "bestIteration = 46\n",
      "Shrink model to first 47 iterations.\n",
      "========== Fold=5 ==========\n"
     ]
    },
    {
     "name": "stderr",
     "output_type": "stream",
     "text": [
      "Default metric period is 5 because AUC is/are not implemented for GPU\n",
      "AUC is not implemented on GPU. Will use CPU for metric computation, this could significantly affect learning time\n"
     ]
    },
    {
     "name": "stdout",
     "output_type": "stream",
     "text": [
      "0:\ttest: 0.7294492\tbest: 0.7294492 (0)\ttotal: 9.14ms\tremaining: 3m 2s\n"
     ]
    },
    {
     "name": "stderr",
     "output_type": "stream",
     "text": [
      "\u001b[32m[I 2023-01-18 19:37:16,615]\u001b[0m Trial 15 finished with value: 0.9477488151658768 and parameters: {'depth': 5, 'learning_rate': 0.27713385599566975, 'reg_lambda': 45}. Best is trial 11 with value: 0.9561225457007447.\u001b[0m\n"
     ]
    },
    {
     "name": "stdout",
     "output_type": "stream",
     "text": [
      "bestTest = 0.8158474576\n",
      "bestIteration = 34\n",
      "Shrink model to first 35 iterations.\n",
      "========== Fold=1 ==========\n"
     ]
    },
    {
     "name": "stderr",
     "output_type": "stream",
     "text": [
      "Default metric period is 5 because AUC is/are not implemented for GPU\n",
      "AUC is not implemented on GPU. Will use CPU for metric computation, this could significantly affect learning time\n"
     ]
    },
    {
     "name": "stdout",
     "output_type": "stream",
     "text": [
      "0:\ttest: 0.7222973\tbest: 0.7222973 (0)\ttotal: 10ms\tremaining: 3m 20s\n",
      "bestTest = 0.8388513514\n",
      "bestIteration = 206\n",
      "Shrink model to first 207 iterations.\n",
      "========== Fold=2 ==========\n"
     ]
    },
    {
     "name": "stderr",
     "output_type": "stream",
     "text": [
      "Default metric period is 5 because AUC is/are not implemented for GPU\n",
      "AUC is not implemented on GPU. Will use CPU for metric computation, this could significantly affect learning time\n"
     ]
    },
    {
     "name": "stdout",
     "output_type": "stream",
     "text": [
      "0:\ttest: 0.7858108\tbest: 0.7858108 (0)\ttotal: 11.1ms\tremaining: 3m 41s\n",
      "bestTest = 0.8459459459\n",
      "bestIteration = 16\n",
      "Shrink model to first 17 iterations.\n",
      "========== Fold=3 ==========\n"
     ]
    },
    {
     "name": "stderr",
     "output_type": "stream",
     "text": [
      "Default metric period is 5 because AUC is/are not implemented for GPU\n",
      "AUC is not implemented on GPU. Will use CPU for metric computation, this could significantly affect learning time\n"
     ]
    },
    {
     "name": "stdout",
     "output_type": "stream",
     "text": [
      "0:\ttest: 0.7629237\tbest: 0.7629237 (0)\ttotal: 9.77ms\tremaining: 3m 15s\n",
      "bestTest = 0.8627118644\n",
      "bestIteration = 68\n",
      "Shrink model to first 69 iterations.\n",
      "========== Fold=4 ==========\n"
     ]
    },
    {
     "name": "stderr",
     "output_type": "stream",
     "text": [
      "Default metric period is 5 because AUC is/are not implemented for GPU\n",
      "AUC is not implemented on GPU. Will use CPU for metric computation, this could significantly affect learning time\n"
     ]
    },
    {
     "name": "stdout",
     "output_type": "stream",
     "text": [
      "0:\ttest: 0.7716102\tbest: 0.7716102 (0)\ttotal: 12.5ms\tremaining: 4m 9s\n",
      "bestTest = 0.8272881356\n",
      "bestIteration = 62\n",
      "Shrink model to first 63 iterations.\n",
      "========== Fold=5 ==========\n"
     ]
    },
    {
     "name": "stderr",
     "output_type": "stream",
     "text": [
      "Default metric period is 5 because AUC is/are not implemented for GPU\n",
      "AUC is not implemented on GPU. Will use CPU for metric computation, this could significantly affect learning time\n"
     ]
    },
    {
     "name": "stdout",
     "output_type": "stream",
     "text": [
      "0:\ttest: 0.7438559\tbest: 0.7438559 (0)\ttotal: 9.66ms\tremaining: 3m 13s\n"
     ]
    },
    {
     "name": "stderr",
     "output_type": "stream",
     "text": [
      "\u001b[32m[I 2023-01-18 19:37:29,227]\u001b[0m Trial 16 finished with value: 0.9322169939065674 and parameters: {'depth': 6, 'learning_rate': 0.3286687106400325, 'reg_lambda': 71}. Best is trial 11 with value: 0.9561225457007447.\u001b[0m\n"
     ]
    },
    {
     "name": "stdout",
     "output_type": "stream",
     "text": [
      "bestTest = 0.7972881356\n",
      "bestIteration = 39\n",
      "Shrink model to first 40 iterations.\n",
      "========== Fold=1 ==========\n"
     ]
    },
    {
     "name": "stderr",
     "output_type": "stream",
     "text": [
      "Default metric period is 5 because AUC is/are not implemented for GPU\n",
      "AUC is not implemented on GPU. Will use CPU for metric computation, this could significantly affect learning time\n"
     ]
    },
    {
     "name": "stdout",
     "output_type": "stream",
     "text": [
      "0:\ttest: 0.7304476\tbest: 0.7304476 (0)\ttotal: 8.46ms\tremaining: 2m 49s\n",
      "bestTest = 0.8258445946\n",
      "bestIteration = 48\n",
      "Shrink model to first 49 iterations.\n",
      "========== Fold=2 ==========\n"
     ]
    },
    {
     "name": "stderr",
     "output_type": "stream",
     "text": [
      "Default metric period is 5 because AUC is/are not implemented for GPU\n",
      "AUC is not implemented on GPU. Will use CPU for metric computation, this could significantly affect learning time\n"
     ]
    },
    {
     "name": "stdout",
     "output_type": "stream",
     "text": [
      "0:\ttest: 0.7930743\tbest: 0.7930743 (0)\ttotal: 8.8ms\tremaining: 2m 56s\n",
      "bestTest = 0.8458614865\n",
      "bestIteration = 49\n",
      "Shrink model to first 50 iterations.\n",
      "========== Fold=3 ==========\n"
     ]
    },
    {
     "name": "stderr",
     "output_type": "stream",
     "text": [
      "Default metric period is 5 because AUC is/are not implemented for GPU\n",
      "AUC is not implemented on GPU. Will use CPU for metric computation, this could significantly affect learning time\n"
     ]
    },
    {
     "name": "stdout",
     "output_type": "stream",
     "text": [
      "0:\ttest: 0.7956780\tbest: 0.7956780 (0)\ttotal: 9.1ms\tremaining: 3m 2s\n",
      "bestTest = 0.8576271186\n",
      "bestIteration = 10\n",
      "Shrink model to first 11 iterations.\n",
      "========== Fold=4 ==========\n"
     ]
    },
    {
     "name": "stderr",
     "output_type": "stream",
     "text": [
      "Default metric period is 5 because AUC is/are not implemented for GPU\n",
      "AUC is not implemented on GPU. Will use CPU for metric computation, this could significantly affect learning time\n"
     ]
    },
    {
     "name": "stdout",
     "output_type": "stream",
     "text": [
      "0:\ttest: 0.7751695\tbest: 0.7751695 (0)\ttotal: 9.58ms\tremaining: 3m 11s\n",
      "bestTest = 0.8492372881\n",
      "bestIteration = 8\n",
      "Shrink model to first 9 iterations.\n",
      "========== Fold=5 ==========\n"
     ]
    },
    {
     "name": "stderr",
     "output_type": "stream",
     "text": [
      "Default metric period is 5 because AUC is/are not implemented for GPU\n",
      "AUC is not implemented on GPU. Will use CPU for metric computation, this could significantly affect learning time\n"
     ]
    },
    {
     "name": "stdout",
     "output_type": "stream",
     "text": [
      "0:\ttest: 0.7294492\tbest: 0.7294492 (0)\ttotal: 9.49ms\tremaining: 3m 9s\n"
     ]
    },
    {
     "name": "stderr",
     "output_type": "stream",
     "text": [
      "\u001b[32m[I 2023-01-18 19:37:38,438]\u001b[0m Trial 17 finished with value: 0.9190903859174002 and parameters: {'depth': 5, 'learning_rate': 0.8903544888131789, 'reg_lambda': 51}. Best is trial 11 with value: 0.9561225457007447.\u001b[0m\n"
     ]
    },
    {
     "name": "stdout",
     "output_type": "stream",
     "text": [
      "bestTest = 0.7770338983\n",
      "bestIteration = 11\n",
      "Shrink model to first 12 iterations.\n",
      "========== Fold=1 ==========\n"
     ]
    },
    {
     "name": "stderr",
     "output_type": "stream",
     "text": [
      "Default metric period is 5 because AUC is/are not implemented for GPU\n",
      "AUC is not implemented on GPU. Will use CPU for metric computation, this could significantly affect learning time\n"
     ]
    },
    {
     "name": "stdout",
     "output_type": "stream",
     "text": [
      "0:\ttest: 0.7228041\tbest: 0.7228041 (0)\ttotal: 11.3ms\tremaining: 3m 46s\n",
      "bestTest = 0.8201013514\n",
      "bestIteration = 30\n",
      "Shrink model to first 31 iterations.\n",
      "========== Fold=2 ==========\n"
     ]
    },
    {
     "name": "stderr",
     "output_type": "stream",
     "text": [
      "Default metric period is 5 because AUC is/are not implemented for GPU\n",
      "AUC is not implemented on GPU. Will use CPU for metric computation, this could significantly affect learning time\n"
     ]
    },
    {
     "name": "stdout",
     "output_type": "stream",
     "text": [
      "0:\ttest: 0.7895270\tbest: 0.7895270 (0)\ttotal: 11.8ms\tremaining: 3m 56s\n",
      "bestTest = 0.8116554054\n",
      "bestIteration = 66\n",
      "Shrink model to first 67 iterations.\n",
      "========== Fold=3 ==========\n"
     ]
    },
    {
     "name": "stderr",
     "output_type": "stream",
     "text": [
      "Default metric period is 5 because AUC is/are not implemented for GPU\n",
      "AUC is not implemented on GPU. Will use CPU for metric computation, this could significantly affect learning time\n"
     ]
    },
    {
     "name": "stdout",
     "output_type": "stream",
     "text": [
      "0:\ttest: 0.7891525\tbest: 0.7891525 (0)\ttotal: 11.7ms\tremaining: 3m 54s\n",
      "bestTest = 0.8527966102\n",
      "bestIteration = 48\n",
      "Shrink model to first 49 iterations.\n",
      "========== Fold=4 ==========\n"
     ]
    },
    {
     "name": "stderr",
     "output_type": "stream",
     "text": [
      "Default metric period is 5 because AUC is/are not implemented for GPU\n",
      "AUC is not implemented on GPU. Will use CPU for metric computation, this could significantly affect learning time\n"
     ]
    },
    {
     "name": "stdout",
     "output_type": "stream",
     "text": [
      "0:\ttest: 0.7728390\tbest: 0.7728390 (0)\ttotal: 10.7ms\tremaining: 3m 33s\n",
      "bestTest = 0.8448305085\n",
      "bestIteration = 16\n",
      "Shrink model to first 17 iterations.\n",
      "========== Fold=5 ==========\n"
     ]
    },
    {
     "name": "stderr",
     "output_type": "stream",
     "text": [
      "Default metric period is 5 because AUC is/are not implemented for GPU\n",
      "AUC is not implemented on GPU. Will use CPU for metric computation, this could significantly affect learning time\n"
     ]
    },
    {
     "name": "stdout",
     "output_type": "stream",
     "text": [
      "0:\ttest: 0.7521610\tbest: 0.7521610 (0)\ttotal: 11.2ms\tremaining: 3m 44s\n"
     ]
    },
    {
     "name": "stderr",
     "output_type": "stream",
     "text": [
      "\u001b[32m[I 2023-01-18 19:37:48,796]\u001b[0m Trial 18 finished with value: 0.9348507109004739 and parameters: {'depth': 6, 'learning_rate': 0.5442018665543351, 'reg_lambda': 39}. Best is trial 11 with value: 0.9561225457007447.\u001b[0m\n"
     ]
    },
    {
     "name": "stdout",
     "output_type": "stream",
     "text": [
      "bestTest = 0.7594067797\n",
      "bestIteration = 11\n",
      "Shrink model to first 12 iterations.\n",
      "========== Fold=1 ==========\n"
     ]
    },
    {
     "name": "stderr",
     "output_type": "stream",
     "text": [
      "Default metric period is 5 because AUC is/are not implemented for GPU\n",
      "AUC is not implemented on GPU. Will use CPU for metric computation, this could significantly affect learning time\n"
     ]
    },
    {
     "name": "stdout",
     "output_type": "stream",
     "text": [
      "0:\ttest: 0.7304476\tbest: 0.7304476 (0)\ttotal: 9.59ms\tremaining: 3m 11s\n",
      "bestTest = 0.8099662162\n",
      "bestIteration = 96\n",
      "Shrink model to first 97 iterations.\n",
      "========== Fold=2 ==========\n"
     ]
    },
    {
     "name": "stderr",
     "output_type": "stream",
     "text": [
      "Default metric period is 5 because AUC is/are not implemented for GPU\n",
      "AUC is not implemented on GPU. Will use CPU for metric computation, this could significantly affect learning time\n"
     ]
    },
    {
     "name": "stdout",
     "output_type": "stream",
     "text": [
      "0:\ttest: 0.7930743\tbest: 0.7930743 (0)\ttotal: 8.76ms\tremaining: 2m 55s\n",
      "bestTest = 0.8422297297\n",
      "bestIteration = 76\n",
      "Shrink model to first 77 iterations.\n",
      "========== Fold=3 ==========\n"
     ]
    },
    {
     "name": "stderr",
     "output_type": "stream",
     "text": [
      "Default metric period is 5 because AUC is/are not implemented for GPU\n",
      "AUC is not implemented on GPU. Will use CPU for metric computation, this could significantly affect learning time\n"
     ]
    },
    {
     "name": "stdout",
     "output_type": "stream",
     "text": [
      "0:\ttest: 0.7956780\tbest: 0.7956780 (0)\ttotal: 8.94ms\tremaining: 2m 58s\n",
      "bestTest = 0.878559322\n",
      "bestIteration = 42\n",
      "Shrink model to first 43 iterations.\n",
      "========== Fold=4 ==========\n"
     ]
    },
    {
     "name": "stderr",
     "output_type": "stream",
     "text": [
      "Default metric period is 5 because AUC is/are not implemented for GPU\n",
      "AUC is not implemented on GPU. Will use CPU for metric computation, this could significantly affect learning time\n"
     ]
    },
    {
     "name": "stdout",
     "output_type": "stream",
     "text": [
      "0:\ttest: 0.7751695\tbest: 0.7751695 (0)\ttotal: 9.16ms\tremaining: 3m 3s\n",
      "bestTest = 0.8409322034\n",
      "bestIteration = 31\n",
      "Shrink model to first 32 iterations.\n",
      "========== Fold=5 ==========\n"
     ]
    },
    {
     "name": "stderr",
     "output_type": "stream",
     "text": [
      "Default metric period is 5 because AUC is/are not implemented for GPU\n",
      "AUC is not implemented on GPU. Will use CPU for metric computation, this could significantly affect learning time\n"
     ]
    },
    {
     "name": "stdout",
     "output_type": "stream",
     "text": [
      "0:\ttest: 0.7294492\tbest: 0.7294492 (0)\ttotal: 9.1ms\tremaining: 3m 2s\n"
     ]
    },
    {
     "name": "stderr",
     "output_type": "stream",
     "text": [
      "\u001b[32m[I 2023-01-18 19:37:59,070]\u001b[0m Trial 19 finished with value: 0.9272491536899119 and parameters: {'depth': 5, 'learning_rate': 0.3252636010459917, 'reg_lambda': 48}. Best is trial 11 with value: 0.9561225457007447.\u001b[0m\n"
     ]
    },
    {
     "name": "stdout",
     "output_type": "stream",
     "text": [
      "bestTest = 0.803559322\n",
      "bestIteration = 20\n",
      "Shrink model to first 21 iterations.\n",
      "========== Fold=1 ==========\n"
     ]
    },
    {
     "name": "stderr",
     "output_type": "stream",
     "text": [
      "Default metric period is 5 because AUC is/are not implemented for GPU\n",
      "AUC is not implemented on GPU. Will use CPU for metric computation, this could significantly affect learning time\n"
     ]
    },
    {
     "name": "stdout",
     "output_type": "stream",
     "text": [
      "0:\ttest: 0.7317990\tbest: 0.7317990 (0)\ttotal: 7.73ms\tremaining: 2m 34s\n",
      "bestTest = 0.8364864865\n",
      "bestIteration = 97\n",
      "Shrink model to first 98 iterations.\n",
      "========== Fold=2 ==========\n"
     ]
    },
    {
     "name": "stderr",
     "output_type": "stream",
     "text": [
      "Default metric period is 5 because AUC is/are not implemented for GPU\n",
      "AUC is not implemented on GPU. Will use CPU for metric computation, this could significantly affect learning time\n"
     ]
    },
    {
     "name": "stdout",
     "output_type": "stream",
     "text": [
      "0:\ttest: 0.7980152\tbest: 0.7980152 (0)\ttotal: 8.86ms\tremaining: 2m 57s\n",
      "bestTest = 0.848902027\n",
      "bestIteration = 66\n",
      "Shrink model to first 67 iterations.\n",
      "========== Fold=3 ==========\n"
     ]
    },
    {
     "name": "stderr",
     "output_type": "stream",
     "text": [
      "Default metric period is 5 because AUC is/are not implemented for GPU\n",
      "AUC is not implemented on GPU. Will use CPU for metric computation, this could significantly affect learning time\n"
     ]
    },
    {
     "name": "stdout",
     "output_type": "stream",
     "text": [
      "0:\ttest: 0.7762712\tbest: 0.7762712 (0)\ttotal: 7.54ms\tremaining: 2m 30s\n",
      "bestTest = 0.8801694915\n",
      "bestIteration = 22\n",
      "Shrink model to first 23 iterations.\n",
      "========== Fold=4 ==========\n"
     ]
    },
    {
     "name": "stderr",
     "output_type": "stream",
     "text": [
      "Default metric period is 5 because AUC is/are not implemented for GPU\n",
      "AUC is not implemented on GPU. Will use CPU for metric computation, this could significantly affect learning time\n"
     ]
    },
    {
     "name": "stdout",
     "output_type": "stream",
     "text": [
      "0:\ttest: 0.7794915\tbest: 0.7794915 (0)\ttotal: 8.6ms\tremaining: 2m 51s\n",
      "bestTest = 0.8552542373\n",
      "bestIteration = 54\n",
      "Shrink model to first 55 iterations.\n",
      "========== Fold=5 ==========\n"
     ]
    },
    {
     "name": "stderr",
     "output_type": "stream",
     "text": [
      "Default metric period is 5 because AUC is/are not implemented for GPU\n",
      "AUC is not implemented on GPU. Will use CPU for metric computation, this could significantly affect learning time\n"
     ]
    },
    {
     "name": "stdout",
     "output_type": "stream",
     "text": [
      "0:\ttest: 0.7588136\tbest: 0.7588136 (0)\ttotal: 8.36ms\tremaining: 2m 47s\n"
     ]
    },
    {
     "name": "stderr",
     "output_type": "stream",
     "text": [
      "\u001b[32m[I 2023-01-18 19:38:08,796]\u001b[0m Trial 20 finished with value: 0.9253155044008124 and parameters: {'depth': 4, 'learning_rate': 0.568463524832503, 'reg_lambda': 71}. Best is trial 11 with value: 0.9561225457007447.\u001b[0m\n"
     ]
    },
    {
     "name": "stdout",
     "output_type": "stream",
     "text": [
      "bestTest = 0.8093220339\n",
      "bestIteration = 11\n",
      "Shrink model to first 12 iterations.\n",
      "========== Fold=1 ==========\n"
     ]
    },
    {
     "name": "stderr",
     "output_type": "stream",
     "text": [
      "Default metric period is 5 because AUC is/are not implemented for GPU\n",
      "AUC is not implemented on GPU. Will use CPU for metric computation, this could significantly affect learning time\n"
     ]
    },
    {
     "name": "stdout",
     "output_type": "stream",
     "text": [
      "0:\ttest: 0.7304476\tbest: 0.7304476 (0)\ttotal: 8.54ms\tremaining: 2m 50s\n",
      "bestTest = 0.8233952703\n",
      "bestIteration = 386\n",
      "Shrink model to first 387 iterations.\n",
      "========== Fold=2 ==========\n"
     ]
    },
    {
     "name": "stderr",
     "output_type": "stream",
     "text": [
      "Default metric period is 5 because AUC is/are not implemented for GPU\n",
      "AUC is not implemented on GPU. Will use CPU for metric computation, this could significantly affect learning time\n"
     ]
    },
    {
     "name": "stdout",
     "output_type": "stream",
     "text": [
      "0:\ttest: 0.7967905\tbest: 0.7967905 (0)\ttotal: 8.84ms\tremaining: 2m 56s\n",
      "bestTest = 0.8452702703\n",
      "bestIteration = 164\n",
      "Shrink model to first 165 iterations.\n",
      "========== Fold=3 ==========\n"
     ]
    },
    {
     "name": "stderr",
     "output_type": "stream",
     "text": [
      "Default metric period is 5 because AUC is/are not implemented for GPU\n",
      "AUC is not implemented on GPU. Will use CPU for metric computation, this could significantly affect learning time\n"
     ]
    },
    {
     "name": "stdout",
     "output_type": "stream",
     "text": [
      "0:\ttest: 0.7956780\tbest: 0.7956780 (0)\ttotal: 10.1ms\tremaining: 3m 21s\n",
      "bestTest = 0.8892372881\n",
      "bestIteration = 44\n",
      "Shrink model to first 45 iterations.\n",
      "========== Fold=4 ==========\n"
     ]
    },
    {
     "name": "stderr",
     "output_type": "stream",
     "text": [
      "Default metric period is 5 because AUC is/are not implemented for GPU\n",
      "AUC is not implemented on GPU. Will use CPU for metric computation, this could significantly affect learning time\n"
     ]
    },
    {
     "name": "stdout",
     "output_type": "stream",
     "text": [
      "0:\ttest: 0.7751695\tbest: 0.7751695 (0)\ttotal: 9.85ms\tremaining: 3m 17s\n",
      "bestTest = 0.8388135593\n",
      "bestIteration = 40\n",
      "Shrink model to first 41 iterations.\n",
      "========== Fold=5 ==========\n"
     ]
    },
    {
     "name": "stderr",
     "output_type": "stream",
     "text": [
      "Default metric period is 5 because AUC is/are not implemented for GPU\n",
      "AUC is not implemented on GPU. Will use CPU for metric computation, this could significantly affect learning time\n"
     ]
    },
    {
     "name": "stdout",
     "output_type": "stream",
     "text": [
      "0:\ttest: 0.7294492\tbest: 0.7294492 (0)\ttotal: 8.86ms\tremaining: 2m 57s\n"
     ]
    },
    {
     "name": "stderr",
     "output_type": "stream",
     "text": [
      "\u001b[32m[I 2023-01-18 19:38:22,664]\u001b[0m Trial 21 finished with value: 0.9392999322951929 and parameters: {'depth': 5, 'learning_rate': 0.2834155043337738, 'reg_lambda': 44}. Best is trial 11 with value: 0.9561225457007447.\u001b[0m\n"
     ]
    },
    {
     "name": "stdout",
     "output_type": "stream",
     "text": [
      "bestTest = 0.8125423729\n",
      "bestIteration = 31\n",
      "Shrink model to first 32 iterations.\n",
      "========== Fold=1 ==========\n"
     ]
    },
    {
     "name": "stderr",
     "output_type": "stream",
     "text": [
      "Default metric period is 5 because AUC is/are not implemented for GPU\n",
      "AUC is not implemented on GPU. Will use CPU for metric computation, this could significantly affect learning time\n"
     ]
    },
    {
     "name": "stdout",
     "output_type": "stream",
     "text": [
      "0:\ttest: 0.7289274\tbest: 0.7289274 (0)\ttotal: 8.95ms\tremaining: 2m 58s\n",
      "bestTest = 0.8379222973\n",
      "bestIteration = 212\n",
      "Shrink model to first 213 iterations.\n",
      "========== Fold=2 ==========\n"
     ]
    },
    {
     "name": "stderr",
     "output_type": "stream",
     "text": [
      "Default metric period is 5 because AUC is/are not implemented for GPU\n",
      "AUC is not implemented on GPU. Will use CPU for metric computation, this could significantly affect learning time\n"
     ]
    },
    {
     "name": "stdout",
     "output_type": "stream",
     "text": [
      "0:\ttest: 0.7967905\tbest: 0.7967905 (0)\ttotal: 8.92ms\tremaining: 2m 58s\n",
      "bestTest = 0.8407939189\n",
      "bestIteration = 85\n",
      "Shrink model to first 86 iterations.\n",
      "========== Fold=3 ==========\n"
     ]
    },
    {
     "name": "stderr",
     "output_type": "stream",
     "text": [
      "Default metric period is 5 because AUC is/are not implemented for GPU\n",
      "AUC is not implemented on GPU. Will use CPU for metric computation, this could significantly affect learning time\n"
     ]
    },
    {
     "name": "stdout",
     "output_type": "stream",
     "text": [
      "0:\ttest: 0.7976271\tbest: 0.7976271 (0)\ttotal: 9.79ms\tremaining: 3m 15s\n",
      "bestTest = 0.8636440678\n",
      "bestIteration = 28\n",
      "Shrink model to first 29 iterations.\n",
      "========== Fold=4 ==========\n"
     ]
    },
    {
     "name": "stderr",
     "output_type": "stream",
     "text": [
      "Default metric period is 5 because AUC is/are not implemented for GPU\n",
      "AUC is not implemented on GPU. Will use CPU for metric computation, this could significantly affect learning time\n"
     ]
    },
    {
     "name": "stdout",
     "output_type": "stream",
     "text": [
      "0:\ttest: 0.7751695\tbest: 0.7751695 (0)\ttotal: 8.72ms\tremaining: 2m 54s\n",
      "bestTest = 0.8428813559\n",
      "bestIteration = 25\n",
      "Shrink model to first 26 iterations.\n",
      "========== Fold=5 ==========\n"
     ]
    },
    {
     "name": "stderr",
     "output_type": "stream",
     "text": [
      "Default metric period is 5 because AUC is/are not implemented for GPU\n",
      "AUC is not implemented on GPU. Will use CPU for metric computation, this could significantly affect learning time\n"
     ]
    },
    {
     "name": "stdout",
     "output_type": "stream",
     "text": [
      "0:\ttest: 0.7536864\tbest: 0.7536864 (0)\ttotal: 9.34ms\tremaining: 3m 6s\n"
     ]
    },
    {
     "name": "stderr",
     "output_type": "stream",
     "text": [
      "\u001b[32m[I 2023-01-18 19:38:34,042]\u001b[0m Trial 22 finished with value: 0.9435734597156398 and parameters: {'depth': 5, 'learning_rate': 0.38689816111195496, 'reg_lambda': 36}. Best is trial 11 with value: 0.9561225457007447.\u001b[0m\n"
     ]
    },
    {
     "name": "stdout",
     "output_type": "stream",
     "text": [
      "bestTest = 0.8176271186\n",
      "bestIteration = 36\n",
      "Shrink model to first 37 iterations.\n",
      "========== Fold=1 ==========\n"
     ]
    },
    {
     "name": "stderr",
     "output_type": "stream",
     "text": [
      "Default metric period is 5 because AUC is/are not implemented for GPU\n",
      "AUC is not implemented on GPU. Will use CPU for metric computation, this could significantly affect learning time\n"
     ]
    },
    {
     "name": "stdout",
     "output_type": "stream",
     "text": [
      "0:\ttest: 0.7692145\tbest: 0.7692145 (0)\ttotal: 9.94ms\tremaining: 3m 18s\n",
      "bestTest = 0.8458614865\n",
      "bestIteration = 361\n",
      "Shrink model to first 362 iterations.\n",
      "========== Fold=2 ==========\n"
     ]
    },
    {
     "name": "stderr",
     "output_type": "stream",
     "text": [
      "Default metric period is 5 because AUC is/are not implemented for GPU\n",
      "AUC is not implemented on GPU. Will use CPU for metric computation, this could significantly affect learning time\n"
     ]
    },
    {
     "name": "stdout",
     "output_type": "stream",
     "text": [
      "0:\ttest: 0.7967905\tbest: 0.7967905 (0)\ttotal: 9.44ms\tremaining: 3m 8s\n",
      "bestTest = 0.8462837838\n",
      "bestIteration = 100\n",
      "Shrink model to first 101 iterations.\n",
      "========== Fold=3 ==========\n"
     ]
    },
    {
     "name": "stderr",
     "output_type": "stream",
     "text": [
      "Default metric period is 5 because AUC is/are not implemented for GPU\n",
      "AUC is not implemented on GPU. Will use CPU for metric computation, this could significantly affect learning time\n"
     ]
    },
    {
     "name": "stdout",
     "output_type": "stream",
     "text": [
      "0:\ttest: 0.7972034\tbest: 0.7972034 (0)\ttotal: 8.62ms\tremaining: 2m 52s\n",
      "bestTest = 0.8709322034\n",
      "bestIteration = 67\n",
      "Shrink model to first 68 iterations.\n",
      "========== Fold=4 ==========\n"
     ]
    },
    {
     "name": "stderr",
     "output_type": "stream",
     "text": [
      "Default metric period is 5 because AUC is/are not implemented for GPU\n",
      "AUC is not implemented on GPU. Will use CPU for metric computation, this could significantly affect learning time\n"
     ]
    },
    {
     "name": "stdout",
     "output_type": "stream",
     "text": [
      "0:\ttest: 0.7751695\tbest: 0.7751695 (0)\ttotal: 8.37ms\tremaining: 2m 47s\n",
      "bestTest = 0.8543220339\n",
      "bestIteration = 87\n",
      "Shrink model to first 88 iterations.\n",
      "========== Fold=5 ==========\n"
     ]
    },
    {
     "name": "stderr",
     "output_type": "stream",
     "text": [
      "Default metric period is 5 because AUC is/are not implemented for GPU\n",
      "AUC is not implemented on GPU. Will use CPU for metric computation, this could significantly affect learning time\n"
     ]
    },
    {
     "name": "stdout",
     "output_type": "stream",
     "text": [
      "0:\ttest: 0.7536864\tbest: 0.7536864 (0)\ttotal: 9.41ms\tremaining: 3m 8s\n"
     ]
    },
    {
     "name": "stderr",
     "output_type": "stream",
     "text": [
      "\u001b[32m[I 2023-01-18 19:38:48,379]\u001b[0m Trial 23 finished with value: 0.9507122545700746 and parameters: {'depth': 5, 'learning_rate': 0.17790378326857514, 'reg_lambda': 30}. Best is trial 11 with value: 0.9561225457007447.\u001b[0m\n"
     ]
    },
    {
     "name": "stdout",
     "output_type": "stream",
     "text": [
      "bestTest = 0.805\n",
      "bestIteration = 120\n",
      "Shrink model to first 121 iterations.\n",
      "========== Fold=1 ==========\n"
     ]
    },
    {
     "name": "stderr",
     "output_type": "stream",
     "text": [
      "Default metric period is 5 because AUC is/are not implemented for GPU\n",
      "AUC is not implemented on GPU. Will use CPU for metric computation, this could significantly affect learning time\n"
     ]
    },
    {
     "name": "stdout",
     "output_type": "stream",
     "text": [
      "0:\ttest: 0.7228041\tbest: 0.7228041 (0)\ttotal: 10.7ms\tremaining: 3m 33s\n",
      "bestTest = 0.8302364865\n",
      "bestIteration = 407\n",
      "Shrink model to first 408 iterations.\n",
      "========== Fold=2 ==========\n"
     ]
    },
    {
     "name": "stderr",
     "output_type": "stream",
     "text": [
      "Default metric period is 5 because AUC is/are not implemented for GPU\n",
      "AUC is not implemented on GPU. Will use CPU for metric computation, this could significantly affect learning time\n"
     ]
    },
    {
     "name": "stdout",
     "output_type": "stream",
     "text": [
      "0:\ttest: 0.7895270\tbest: 0.7895270 (0)\ttotal: 10.4ms\tremaining: 3m 28s\n",
      "bestTest = 0.848902027\n",
      "bestIteration = 9\n",
      "Shrink model to first 10 iterations.\n",
      "========== Fold=3 ==========\n"
     ]
    },
    {
     "name": "stderr",
     "output_type": "stream",
     "text": [
      "Default metric period is 5 because AUC is/are not implemented for GPU\n",
      "AUC is not implemented on GPU. Will use CPU for metric computation, this could significantly affect learning time\n"
     ]
    },
    {
     "name": "stdout",
     "output_type": "stream",
     "text": [
      "0:\ttest: 0.7889831\tbest: 0.7889831 (0)\ttotal: 10.3ms\tremaining: 3m 26s\n",
      "bestTest = 0.8672033898\n",
      "bestIteration = 88\n",
      "Shrink model to first 89 iterations.\n",
      "========== Fold=4 ==========\n"
     ]
    },
    {
     "name": "stderr",
     "output_type": "stream",
     "text": [
      "Default metric period is 5 because AUC is/are not implemented for GPU\n",
      "AUC is not implemented on GPU. Will use CPU for metric computation, this could significantly affect learning time\n"
     ]
    },
    {
     "name": "stdout",
     "output_type": "stream",
     "text": [
      "0:\ttest: 0.7728390\tbest: 0.7728390 (0)\ttotal: 9.79ms\tremaining: 3m 15s\n",
      "bestTest = 0.8554237288\n",
      "bestIteration = 164\n",
      "Shrink model to first 165 iterations.\n",
      "========== Fold=5 ==========\n"
     ]
    },
    {
     "name": "stderr",
     "output_type": "stream",
     "text": [
      "Default metric period is 5 because AUC is/are not implemented for GPU\n",
      "AUC is not implemented on GPU. Will use CPU for metric computation, this could significantly affect learning time\n"
     ]
    },
    {
     "name": "stdout",
     "output_type": "stream",
     "text": [
      "0:\ttest: 0.7521610\tbest: 0.7521610 (0)\ttotal: 10.2ms\tremaining: 3m 24s\n"
     ]
    },
    {
     "name": "stderr",
     "output_type": "stream",
     "text": [
      "\u001b[32m[I 2023-01-18 19:39:04,024]\u001b[0m Trial 24 finished with value: 0.9257962085308057 and parameters: {'depth': 6, 'learning_rate': 0.13474753932824696, 'reg_lambda': 34}. Best is trial 11 with value: 0.9561225457007447.\u001b[0m\n"
     ]
    },
    {
     "name": "stdout",
     "output_type": "stream",
     "text": [
      "bestTest = 0.8080508475\n",
      "bestIteration = 53\n",
      "Shrink model to first 54 iterations.\n",
      "========== Fold=1 ==========\n"
     ]
    },
    {
     "name": "stderr",
     "output_type": "stream",
     "text": [
      "Default metric period is 5 because AUC is/are not implemented for GPU\n",
      "AUC is not implemented on GPU. Will use CPU for metric computation, this could significantly affect learning time\n"
     ]
    },
    {
     "name": "stdout",
     "output_type": "stream",
     "text": [
      "0:\ttest: 0.7491132\tbest: 0.7491132 (0)\ttotal: 9.83ms\tremaining: 3m 16s\n",
      "bestTest = 0.8396959459\n",
      "bestIteration = 382\n",
      "Shrink model to first 383 iterations.\n",
      "========== Fold=2 ==========\n"
     ]
    },
    {
     "name": "stderr",
     "output_type": "stream",
     "text": [
      "Default metric period is 5 because AUC is/are not implemented for GPU\n",
      "AUC is not implemented on GPU. Will use CPU for metric computation, this could significantly affect learning time\n"
     ]
    },
    {
     "name": "stdout",
     "output_type": "stream",
     "text": [
      "0:\ttest: 0.7967905\tbest: 0.7967905 (0)\ttotal: 8.81ms\tremaining: 2m 56s\n",
      "bestTest = 0.8521959459\n",
      "bestIteration = 170\n",
      "Shrink model to first 171 iterations.\n",
      "========== Fold=3 ==========\n"
     ]
    },
    {
     "name": "stderr",
     "output_type": "stream",
     "text": [
      "Default metric period is 5 because AUC is/are not implemented for GPU\n",
      "AUC is not implemented on GPU. Will use CPU for metric computation, this could significantly affect learning time\n"
     ]
    },
    {
     "name": "stdout",
     "output_type": "stream",
     "text": [
      "0:\ttest: 0.7972034\tbest: 0.7972034 (0)\ttotal: 9.03ms\tremaining: 3m\n",
      "bestTest = 0.8734745763\n",
      "bestIteration = 104\n",
      "Shrink model to first 105 iterations.\n",
      "========== Fold=4 ==========\n"
     ]
    },
    {
     "name": "stderr",
     "output_type": "stream",
     "text": [
      "Default metric period is 5 because AUC is/are not implemented for GPU\n",
      "AUC is not implemented on GPU. Will use CPU for metric computation, this could significantly affect learning time\n"
     ]
    },
    {
     "name": "stdout",
     "output_type": "stream",
     "text": [
      "0:\ttest: 0.7751695\tbest: 0.7751695 (0)\ttotal: 8.66ms\tremaining: 2m 53s\n",
      "bestTest = 0.8316949153\n",
      "bestIteration = 85\n",
      "Shrink model to first 86 iterations.\n",
      "========== Fold=5 ==========\n"
     ]
    },
    {
     "name": "stderr",
     "output_type": "stream",
     "text": [
      "Default metric period is 5 because AUC is/are not implemented for GPU\n",
      "AUC is not implemented on GPU. Will use CPU for metric computation, this could significantly affect learning time\n"
     ]
    },
    {
     "name": "stdout",
     "output_type": "stream",
     "text": [
      "0:\ttest: 0.7536864\tbest: 0.7536864 (0)\ttotal: 8.76ms\tremaining: 2m 55s\n"
     ]
    },
    {
     "name": "stderr",
     "output_type": "stream",
     "text": [
      "\u001b[32m[I 2023-01-18 19:39:18,742]\u001b[0m Trial 25 finished with value: 0.9506763710223426 and parameters: {'depth': 5, 'learning_rate': 0.2207261421802719, 'reg_lambda': 31}. Best is trial 11 with value: 0.9561225457007447.\u001b[0m\n"
     ]
    },
    {
     "name": "stdout",
     "output_type": "stream",
     "text": [
      "bestTest = 0.7912711864\n",
      "bestIteration = 34\n",
      "Shrink model to first 35 iterations.\n",
      "========== Fold=1 ==========\n"
     ]
    },
    {
     "name": "stderr",
     "output_type": "stream",
     "text": [
      "Default metric period is 5 because AUC is/are not implemented for GPU\n",
      "AUC is not implemented on GPU. Will use CPU for metric computation, this could significantly affect learning time\n"
     ]
    },
    {
     "name": "stdout",
     "output_type": "stream",
     "text": [
      "0:\ttest: 0.7584037\tbest: 0.7584037 (0)\ttotal: 8.87ms\tremaining: 2m 57s\n",
      "bestTest = 0.8297297297\n",
      "bestIteration = 537\n",
      "Shrink model to first 538 iterations.\n",
      "========== Fold=2 ==========\n"
     ]
    },
    {
     "name": "stderr",
     "output_type": "stream",
     "text": [
      "Default metric period is 5 because AUC is/are not implemented for GPU\n",
      "AUC is not implemented on GPU. Will use CPU for metric computation, this could significantly affect learning time\n"
     ]
    },
    {
     "name": "stdout",
     "output_type": "stream",
     "text": [
      "0:\ttest: 0.8019003\tbest: 0.8019003 (0)\ttotal: 8.55ms\tremaining: 2m 51s\n",
      "bestTest = 0.8352195946\n",
      "bestIteration = 11\n",
      "Shrink model to first 12 iterations.\n",
      "========== Fold=3 ==========\n"
     ]
    },
    {
     "name": "stderr",
     "output_type": "stream",
     "text": [
      "Default metric period is 5 because AUC is/are not implemented for GPU\n",
      "AUC is not implemented on GPU. Will use CPU for metric computation, this could significantly affect learning time\n"
     ]
    },
    {
     "name": "stdout",
     "output_type": "stream",
     "text": [
      "0:\ttest: 0.7951695\tbest: 0.7951695 (0)\ttotal: 8.54ms\tremaining: 2m 50s\n",
      "bestTest = 0.8693220339\n",
      "bestIteration = 271\n",
      "Shrink model to first 272 iterations.\n",
      "========== Fold=4 ==========\n"
     ]
    },
    {
     "name": "stderr",
     "output_type": "stream",
     "text": [
      "Default metric period is 5 because AUC is/are not implemented for GPU\n",
      "AUC is not implemented on GPU. Will use CPU for metric computation, this could significantly affect learning time\n"
     ]
    },
    {
     "name": "stdout",
     "output_type": "stream",
     "text": [
      "0:\ttest: 0.7762712\tbest: 0.7762712 (0)\ttotal: 7.83ms\tremaining: 2m 36s\n",
      "bestTest = 0.8557627119\n",
      "bestIteration = 237\n",
      "Shrink model to first 238 iterations.\n",
      "========== Fold=5 ==========\n"
     ]
    },
    {
     "name": "stderr",
     "output_type": "stream",
     "text": [
      "Default metric period is 5 because AUC is/are not implemented for GPU\n",
      "AUC is not implemented on GPU. Will use CPU for metric computation, this could significantly affect learning time\n"
     ]
    },
    {
     "name": "stdout",
     "output_type": "stream",
     "text": [
      "0:\ttest: 0.7653814\tbest: 0.7653814 (0)\ttotal: 8.15ms\tremaining: 2m 42s\n"
     ]
    },
    {
     "name": "stderr",
     "output_type": "stream",
     "text": [
      "\u001b[32m[I 2023-01-18 19:39:35,442]\u001b[0m Trial 26 finished with value: 0.9089793500338524 and parameters: {'depth': 4, 'learning_rate': 0.07021794006603238, 'reg_lambda': 31}. Best is trial 11 with value: 0.9561225457007447.\u001b[0m\n"
     ]
    },
    {
     "name": "stdout",
     "output_type": "stream",
     "text": [
      "bestTest = 0.8030508475\n",
      "bestIteration = 83\n",
      "Shrink model to first 84 iterations.\n",
      "========== Fold=1 ==========\n"
     ]
    },
    {
     "name": "stderr",
     "output_type": "stream",
     "text": [
      "Default metric period is 5 because AUC is/are not implemented for GPU\n",
      "AUC is not implemented on GPU. Will use CPU for metric computation, this could significantly affect learning time\n"
     ]
    },
    {
     "name": "stdout",
     "output_type": "stream",
     "text": [
      "0:\ttest: 0.7304476\tbest: 0.7304476 (0)\ttotal: 9.76ms\tremaining: 3m 15s\n",
      "bestTest = 0.8440033784\n",
      "bestIteration = 285\n",
      "Shrink model to first 286 iterations.\n",
      "========== Fold=2 ==========\n"
     ]
    },
    {
     "name": "stderr",
     "output_type": "stream",
     "text": [
      "Default metric period is 5 because AUC is/are not implemented for GPU\n",
      "AUC is not implemented on GPU. Will use CPU for metric computation, this could significantly affect learning time\n"
     ]
    },
    {
     "name": "stdout",
     "output_type": "stream",
     "text": [
      "0:\ttest: 0.7967905\tbest: 0.7967905 (0)\ttotal: 9.57ms\tremaining: 3m 11s\n",
      "bestTest = 0.853125\n",
      "bestIteration = 121\n",
      "Shrink model to first 122 iterations.\n",
      "========== Fold=3 ==========\n"
     ]
    },
    {
     "name": "stderr",
     "output_type": "stream",
     "text": [
      "Default metric period is 5 because AUC is/are not implemented for GPU\n",
      "AUC is not implemented on GPU. Will use CPU for metric computation, this could significantly affect learning time\n"
     ]
    },
    {
     "name": "stdout",
     "output_type": "stream",
     "text": [
      "0:\ttest: 0.7970339\tbest: 0.7970339 (0)\ttotal: 8.43ms\tremaining: 2m 48s\n",
      "bestTest = 0.8791525424\n",
      "bestIteration = 53\n",
      "Shrink model to first 54 iterations.\n",
      "========== Fold=4 ==========\n"
     ]
    },
    {
     "name": "stderr",
     "output_type": "stream",
     "text": [
      "Default metric period is 5 because AUC is/are not implemented for GPU\n",
      "AUC is not implemented on GPU. Will use CPU for metric computation, this could significantly affect learning time\n"
     ]
    },
    {
     "name": "stdout",
     "output_type": "stream",
     "text": [
      "0:\ttest: 0.7751695\tbest: 0.7751695 (0)\ttotal: 8.85ms\tremaining: 2m 56s\n",
      "bestTest = 0.8415254237\n",
      "bestIteration = 56\n",
      "Shrink model to first 57 iterations.\n",
      "========== Fold=5 ==========\n"
     ]
    },
    {
     "name": "stderr",
     "output_type": "stream",
     "text": [
      "Default metric period is 5 because AUC is/are not implemented for GPU\n",
      "AUC is not implemented on GPU. Will use CPU for metric computation, this could significantly affect learning time\n"
     ]
    },
    {
     "name": "stdout",
     "output_type": "stream",
     "text": [
      "0:\ttest: 0.7536864\tbest: 0.7536864 (0)\ttotal: 8.65ms\tremaining: 2m 53s\n"
     ]
    },
    {
     "name": "stderr",
     "output_type": "stream",
     "text": [
      "\u001b[32m[I 2023-01-18 19:39:48,287]\u001b[0m Trial 27 finished with value: 0.9348551117129315 and parameters: {'depth': 5, 'learning_rate': 0.2086141095891677, 'reg_lambda': 39}. Best is trial 11 with value: 0.9561225457007447.\u001b[0m\n"
     ]
    },
    {
     "name": "stdout",
     "output_type": "stream",
     "text": [
      "bestTest = 0.7888983051\n",
      "bestIteration = 37\n",
      "Shrink model to first 38 iterations.\n",
      "========== Fold=1 ==========\n"
     ]
    },
    {
     "name": "stderr",
     "output_type": "stream",
     "text": [
      "Default metric period is 5 because AUC is/are not implemented for GPU\n",
      "AUC is not implemented on GPU. Will use CPU for metric computation, this could significantly affect learning time\n"
     ]
    },
    {
     "name": "stdout",
     "output_type": "stream",
     "text": [
      "0:\ttest: 0.7228041\tbest: 0.7228041 (0)\ttotal: 10.3ms\tremaining: 3m 26s\n",
      "bestTest = 0.8184966216\n",
      "bestIteration = 40\n",
      "Shrink model to first 41 iterations.\n",
      "========== Fold=2 ==========\n"
     ]
    },
    {
     "name": "stderr",
     "output_type": "stream",
     "text": [
      "Default metric period is 5 because AUC is/are not implemented for GPU\n",
      "AUC is not implemented on GPU. Will use CPU for metric computation, this could significantly affect learning time\n"
     ]
    },
    {
     "name": "stdout",
     "output_type": "stream",
     "text": [
      "0:\ttest: 0.7895270\tbest: 0.7895270 (0)\ttotal: 10.4ms\tremaining: 3m 28s\n",
      "bestTest = 0.8307432432\n",
      "bestIteration = 3\n",
      "Shrink model to first 4 iterations.\n",
      "========== Fold=3 ==========\n"
     ]
    },
    {
     "name": "stderr",
     "output_type": "stream",
     "text": [
      "Default metric period is 5 because AUC is/are not implemented for GPU\n",
      "AUC is not implemented on GPU. Will use CPU for metric computation, this could significantly affect learning time\n"
     ]
    },
    {
     "name": "stdout",
     "output_type": "stream",
     "text": [
      "0:\ttest: 0.7885593\tbest: 0.7885593 (0)\ttotal: 10.1ms\tremaining: 3m 22s\n",
      "bestTest = 0.8750847458\n",
      "bestIteration = 37\n",
      "Shrink model to first 38 iterations.\n",
      "========== Fold=4 ==========\n"
     ]
    },
    {
     "name": "stderr",
     "output_type": "stream",
     "text": [
      "Default metric period is 5 because AUC is/are not implemented for GPU\n",
      "AUC is not implemented on GPU. Will use CPU for metric computation, this could significantly affect learning time\n"
     ]
    },
    {
     "name": "stdout",
     "output_type": "stream",
     "text": [
      "0:\ttest: 0.7728390\tbest: 0.7728390 (0)\ttotal: 10.4ms\tremaining: 3m 27s\n",
      "bestTest = 0.8195762712\n",
      "bestIteration = 24\n",
      "Shrink model to first 25 iterations.\n",
      "========== Fold=5 ==========\n"
     ]
    },
    {
     "name": "stderr",
     "output_type": "stream",
     "text": [
      "Default metric period is 5 because AUC is/are not implemented for GPU\n",
      "AUC is not implemented on GPU. Will use CPU for metric computation, this could significantly affect learning time\n"
     ]
    },
    {
     "name": "stdout",
     "output_type": "stream",
     "text": [
      "0:\ttest: 0.7521610\tbest: 0.7521610 (0)\ttotal: 10.2ms\tremaining: 3m 23s\n"
     ]
    },
    {
     "name": "stderr",
     "output_type": "stream",
     "text": [
      "\u001b[32m[I 2023-01-18 19:39:58,051]\u001b[0m Trial 28 finished with value: 0.9172528774542993 and parameters: {'depth': 6, 'learning_rate': 0.5000971252319841, 'reg_lambda': 37}. Best is trial 11 with value: 0.9561225457007447.\u001b[0m\n"
     ]
    },
    {
     "name": "stdout",
     "output_type": "stream",
     "text": [
      "bestTest = 0.7691525424\n",
      "bestIteration = 24\n",
      "Shrink model to first 25 iterations.\n",
      "========== Fold=1 ==========\n"
     ]
    },
    {
     "name": "stderr",
     "output_type": "stream",
     "text": [
      "Default metric period is 5 because AUC is/are not implemented for GPU\n",
      "AUC is not implemented on GPU. Will use CPU for metric computation, this could significantly affect learning time\n"
     ]
    },
    {
     "name": "stdout",
     "output_type": "stream",
     "text": [
      "0:\ttest: 0.7491132\tbest: 0.7491132 (0)\ttotal: 8.63ms\tremaining: 2m 52s\n",
      "bestTest = 0.8673986486\n",
      "bestIteration = 419\n",
      "Shrink model to first 420 iterations.\n",
      "========== Fold=2 ==========\n"
     ]
    },
    {
     "name": "stderr",
     "output_type": "stream",
     "text": [
      "Default metric period is 5 because AUC is/are not implemented for GPU\n",
      "AUC is not implemented on GPU. Will use CPU for metric computation, this could significantly affect learning time\n"
     ]
    },
    {
     "name": "stdout",
     "output_type": "stream",
     "text": [
      "0:\ttest: 0.7967905\tbest: 0.7967905 (0)\ttotal: 8.59ms\tremaining: 2m 51s\n",
      "bestTest = 0.845777027\n",
      "bestIteration = 162\n",
      "Shrink model to first 163 iterations.\n",
      "========== Fold=3 ==========\n"
     ]
    },
    {
     "name": "stderr",
     "output_type": "stream",
     "text": [
      "Default metric period is 5 because AUC is/are not implemented for GPU\n",
      "AUC is not implemented on GPU. Will use CPU for metric computation, this could significantly affect learning time\n"
     ]
    },
    {
     "name": "stdout",
     "output_type": "stream",
     "text": [
      "0:\ttest: 0.7972034\tbest: 0.7972034 (0)\ttotal: 8.7ms\tremaining: 2m 53s\n",
      "bestTest = 0.8892372881\n",
      "bestIteration = 84\n",
      "Shrink model to first 85 iterations.\n",
      "========== Fold=4 ==========\n"
     ]
    },
    {
     "name": "stderr",
     "output_type": "stream",
     "text": [
      "Default metric period is 5 because AUC is/are not implemented for GPU\n",
      "AUC is not implemented on GPU. Will use CPU for metric computation, this could significantly affect learning time\n"
     ]
    },
    {
     "name": "stdout",
     "output_type": "stream",
     "text": [
      "0:\ttest: 0.7751695\tbest: 0.7751695 (0)\ttotal: 10.8ms\tremaining: 3m 36s\n",
      "bestTest = 0.8497457627\n",
      "bestIteration = 40\n",
      "Shrink model to first 41 iterations.\n",
      "========== Fold=5 ==========\n"
     ]
    },
    {
     "name": "stderr",
     "output_type": "stream",
     "text": [
      "Default metric period is 5 because AUC is/are not implemented for GPU\n",
      "AUC is not implemented on GPU. Will use CPU for metric computation, this could significantly affect learning time\n"
     ]
    },
    {
     "name": "stdout",
     "output_type": "stream",
     "text": [
      "0:\ttest: 0.7536864\tbest: 0.7536864 (0)\ttotal: 10.3ms\tremaining: 3m 25s\n"
     ]
    },
    {
     "name": "stderr",
     "output_type": "stream",
     "text": [
      "\u001b[32m[I 2023-01-18 19:40:12,587]\u001b[0m Trial 29 finished with value: 0.9437400135409615 and parameters: {'depth': 5, 'learning_rate': 0.19299192721329828, 'reg_lambda': 31}. Best is trial 11 with value: 0.9561225457007447.\u001b[0m\n"
     ]
    },
    {
     "name": "stdout",
     "output_type": "stream",
     "text": [
      "bestTest = 0.8027966102\n",
      "bestIteration = 40\n",
      "Shrink model to first 41 iterations.\n",
      "========== Fold=1 ==========\n"
     ]
    },
    {
     "name": "stderr",
     "output_type": "stream",
     "text": [
      "Default metric period is 5 because AUC is/are not implemented for GPU\n",
      "AUC is not implemented on GPU. Will use CPU for metric computation, this could significantly affect learning time\n"
     ]
    },
    {
     "name": "stdout",
     "output_type": "stream",
     "text": [
      "0:\ttest: 0.7297720\tbest: 0.7297720 (0)\ttotal: 8.36ms\tremaining: 2m 47s\n",
      "bestTest = 0.8180743243\n",
      "bestIteration = 68\n",
      "Shrink model to first 69 iterations.\n",
      "========== Fold=2 ==========\n"
     ]
    },
    {
     "name": "stderr",
     "output_type": "stream",
     "text": [
      "Default metric period is 5 because AUC is/are not implemented for GPU\n",
      "AUC is not implemented on GPU. Will use CPU for metric computation, this could significantly affect learning time\n"
     ]
    },
    {
     "name": "stdout",
     "output_type": "stream",
     "text": [
      "0:\ttest: 0.7980152\tbest: 0.7980152 (0)\ttotal: 8.66ms\tremaining: 2m 53s\n",
      "bestTest = 0.8333614865\n",
      "bestIteration = 183\n",
      "Shrink model to first 184 iterations.\n",
      "========== Fold=3 ==========\n"
     ]
    },
    {
     "name": "stderr",
     "output_type": "stream",
     "text": [
      "Default metric period is 5 because AUC is/are not implemented for GPU\n",
      "AUC is not implemented on GPU. Will use CPU for metric computation, this could significantly affect learning time\n"
     ]
    },
    {
     "name": "stdout",
     "output_type": "stream",
     "text": [
      "0:\ttest: 0.7762712\tbest: 0.7762712 (0)\ttotal: 7.95ms\tremaining: 2m 38s\n",
      "bestTest = 0.8726271186\n",
      "bestIteration = 74\n",
      "Shrink model to first 75 iterations.\n",
      "========== Fold=4 ==========\n"
     ]
    },
    {
     "name": "stderr",
     "output_type": "stream",
     "text": [
      "Default metric period is 5 because AUC is/are not implemented for GPU\n",
      "AUC is not implemented on GPU. Will use CPU for metric computation, this could significantly affect learning time\n"
     ]
    },
    {
     "name": "stdout",
     "output_type": "stream",
     "text": [
      "0:\ttest: 0.7417797\tbest: 0.7417797 (0)\ttotal: 8.44ms\tremaining: 2m 48s\n",
      "bestTest = 0.8422033898\n",
      "bestIteration = 40\n",
      "Shrink model to first 41 iterations.\n",
      "========== Fold=5 ==========\n"
     ]
    },
    {
     "name": "stderr",
     "output_type": "stream",
     "text": [
      "Default metric period is 5 because AUC is/are not implemented for GPU\n",
      "AUC is not implemented on GPU. Will use CPU for metric computation, this could significantly affect learning time\n"
     ]
    },
    {
     "name": "stdout",
     "output_type": "stream",
     "text": [
      "0:\ttest: 0.7588136\tbest: 0.7588136 (0)\ttotal: 7.71ms\tremaining: 2m 34s\n"
     ]
    },
    {
     "name": "stderr",
     "output_type": "stream",
     "text": [
      "\u001b[32m[I 2023-01-18 19:40:23,288]\u001b[0m Trial 30 finished with value: 0.9217758970886931 and parameters: {'depth': 4, 'learning_rate': 0.3825840783460578, 'reg_lambda': 98}. Best is trial 11 with value: 0.9561225457007447.\u001b[0m\n"
     ]
    },
    {
     "name": "stdout",
     "output_type": "stream",
     "text": [
      "bestTest = 0.8173728814\n",
      "bestIteration = 23\n",
      "Shrink model to first 24 iterations.\n",
      "========== Fold=1 ==========\n"
     ]
    },
    {
     "name": "stderr",
     "output_type": "stream",
     "text": [
      "Default metric period is 5 because AUC is/are not implemented for GPU\n",
      "AUC is not implemented on GPU. Will use CPU for metric computation, this could significantly affect learning time\n"
     ]
    },
    {
     "name": "stdout",
     "output_type": "stream",
     "text": [
      "0:\ttest: 0.7304476\tbest: 0.7304476 (0)\ttotal: 8.79ms\tremaining: 2m 55s\n",
      "bestTest = 0.8590371622\n",
      "bestIteration = 250\n",
      "Shrink model to first 251 iterations.\n",
      "========== Fold=2 ==========\n"
     ]
    },
    {
     "name": "stderr",
     "output_type": "stream",
     "text": [
      "Default metric period is 5 because AUC is/are not implemented for GPU\n",
      "AUC is not implemented on GPU. Will use CPU for metric computation, this could significantly affect learning time\n"
     ]
    },
    {
     "name": "stdout",
     "output_type": "stream",
     "text": [
      "0:\ttest: 0.7967905\tbest: 0.7967905 (0)\ttotal: 9.18ms\tremaining: 3m 3s\n",
      "bestTest = 0.8309966216\n",
      "bestIteration = 152\n",
      "Shrink model to first 153 iterations.\n",
      "========== Fold=3 ==========\n"
     ]
    },
    {
     "name": "stderr",
     "output_type": "stream",
     "text": [
      "Default metric period is 5 because AUC is/are not implemented for GPU\n",
      "AUC is not implemented on GPU. Will use CPU for metric computation, this could significantly affect learning time\n"
     ]
    },
    {
     "name": "stdout",
     "output_type": "stream",
     "text": [
      "0:\ttest: 0.7970339\tbest: 0.7970339 (0)\ttotal: 9.93ms\tremaining: 3m 18s\n",
      "bestTest = 0.8871186441\n",
      "bestIteration = 48\n",
      "Shrink model to first 49 iterations.\n",
      "========== Fold=4 ==========\n"
     ]
    },
    {
     "name": "stderr",
     "output_type": "stream",
     "text": [
      "Default metric period is 5 because AUC is/are not implemented for GPU\n",
      "AUC is not implemented on GPU. Will use CPU for metric computation, this could significantly affect learning time\n"
     ]
    },
    {
     "name": "stdout",
     "output_type": "stream",
     "text": [
      "0:\ttest: 0.7751695\tbest: 0.7751695 (0)\ttotal: 9.22ms\tremaining: 3m 4s\n",
      "bestTest = 0.8457627119\n",
      "bestIteration = 74\n",
      "Shrink model to first 75 iterations.\n",
      "========== Fold=5 ==========\n"
     ]
    },
    {
     "name": "stderr",
     "output_type": "stream",
     "text": [
      "Default metric period is 5 because AUC is/are not implemented for GPU\n",
      "AUC is not implemented on GPU. Will use CPU for metric computation, this could significantly affect learning time\n"
     ]
    },
    {
     "name": "stdout",
     "output_type": "stream",
     "text": [
      "0:\ttest: 0.7525000\tbest: 0.7525000 (0)\ttotal: 10ms\tremaining: 3m 20s\n"
     ]
    },
    {
     "name": "stderr",
     "output_type": "stream",
     "text": [
      "\u001b[32m[I 2023-01-18 19:40:36,187]\u001b[0m Trial 31 finished with value: 0.9414881516587676 and parameters: {'depth': 5, 'learning_rate': 0.2450971061753131, 'reg_lambda': 41}. Best is trial 11 with value: 0.9561225457007447.\u001b[0m\n"
     ]
    },
    {
     "name": "stdout",
     "output_type": "stream",
     "text": [
      "bestTest = 0.8063559322\n",
      "bestIteration = 33\n",
      "Shrink model to first 34 iterations.\n",
      "========== Fold=1 ==========\n"
     ]
    },
    {
     "name": "stderr",
     "output_type": "stream",
     "text": [
      "Default metric period is 5 because AUC is/are not implemented for GPU\n",
      "AUC is not implemented on GPU. Will use CPU for metric computation, this could significantly affect learning time\n"
     ]
    },
    {
     "name": "stdout",
     "output_type": "stream",
     "text": [
      "0:\ttest: 0.7289274\tbest: 0.7289274 (0)\ttotal: 9.44ms\tremaining: 3m 8s\n",
      "bestTest = 0.8494932432\n",
      "bestIteration = 569\n",
      "Shrink model to first 570 iterations.\n",
      "========== Fold=2 ==========\n"
     ]
    },
    {
     "name": "stderr",
     "output_type": "stream",
     "text": [
      "Default metric period is 5 because AUC is/are not implemented for GPU\n",
      "AUC is not implemented on GPU. Will use CPU for metric computation, this could significantly affect learning time\n"
     ]
    },
    {
     "name": "stdout",
     "output_type": "stream",
     "text": [
      "0:\ttest: 0.7967905\tbest: 0.7967905 (0)\ttotal: 10.5ms\tremaining: 3m 29s\n",
      "bestTest = 0.8494932432\n",
      "bestIteration = 9\n",
      "Shrink model to first 10 iterations.\n",
      "========== Fold=3 ==========\n"
     ]
    },
    {
     "name": "stderr",
     "output_type": "stream",
     "text": [
      "Default metric period is 5 because AUC is/are not implemented for GPU\n",
      "AUC is not implemented on GPU. Will use CPU for metric computation, this could significantly affect learning time\n"
     ]
    },
    {
     "name": "stdout",
     "output_type": "stream",
     "text": [
      "0:\ttest: 0.7976271\tbest: 0.7976271 (0)\ttotal: 8.68ms\tremaining: 2m 53s\n",
      "bestTest = 0.8751694915\n",
      "bestIteration = 136\n",
      "Shrink model to first 137 iterations.\n",
      "========== Fold=4 ==========\n"
     ]
    },
    {
     "name": "stderr",
     "output_type": "stream",
     "text": [
      "Default metric period is 5 because AUC is/are not implemented for GPU\n",
      "AUC is not implemented on GPU. Will use CPU for metric computation, this could significantly affect learning time\n"
     ]
    },
    {
     "name": "stdout",
     "output_type": "stream",
     "text": [
      "0:\ttest: 0.7751695\tbest: 0.7751695 (0)\ttotal: 9.85ms\tremaining: 3m 17s\n",
      "bestTest = 0.8603389831\n",
      "bestIteration = 118\n",
      "Shrink model to first 119 iterations.\n",
      "========== Fold=5 ==========\n"
     ]
    },
    {
     "name": "stderr",
     "output_type": "stream",
     "text": [
      "Default metric period is 5 because AUC is/are not implemented for GPU\n",
      "AUC is not implemented on GPU. Will use CPU for metric computation, this could significantly affect learning time\n"
     ]
    },
    {
     "name": "stdout",
     "output_type": "stream",
     "text": [
      "0:\ttest: 0.7536864\tbest: 0.7536864 (0)\ttotal: 12.2ms\tremaining: 4m 4s\n"
     ]
    },
    {
     "name": "stderr",
     "output_type": "stream",
     "text": [
      "\u001b[32m[I 2023-01-18 19:40:52,250]\u001b[0m Trial 32 finished with value: 0.9168825321597833 and parameters: {'depth': 5, 'learning_rate': 0.09759235128922236, 'reg_lambda': 35}. Best is trial 11 with value: 0.9561225457007447.\u001b[0m\n"
     ]
    },
    {
     "name": "stdout",
     "output_type": "stream",
     "text": [
      "bestTest = 0.8090677966\n",
      "bestIteration = 80\n",
      "Shrink model to first 81 iterations.\n",
      "========== Fold=1 ==========\n"
     ]
    },
    {
     "name": "stderr",
     "output_type": "stream",
     "text": [
      "Default metric period is 5 because AUC is/are not implemented for GPU\n",
      "AUC is not implemented on GPU. Will use CPU for metric computation, this could significantly affect learning time\n"
     ]
    },
    {
     "name": "stdout",
     "output_type": "stream",
     "text": [
      "0:\ttest: 0.7692145\tbest: 0.7692145 (0)\ttotal: 10.5ms\tremaining: 3m 30s\n",
      "bestTest = 0.8303209459\n",
      "bestIteration = 190\n",
      "Shrink model to first 191 iterations.\n",
      "========== Fold=2 ==========\n"
     ]
    },
    {
     "name": "stderr",
     "output_type": "stream",
     "text": [
      "Default metric period is 5 because AUC is/are not implemented for GPU\n",
      "AUC is not implemented on GPU. Will use CPU for metric computation, this could significantly affect learning time\n"
     ]
    },
    {
     "name": "stdout",
     "output_type": "stream",
     "text": [
      "0:\ttest: 0.7967905\tbest: 0.7967905 (0)\ttotal: 9.77ms\tremaining: 3m 15s\n",
      "bestTest = 0.8349239865\n",
      "bestIteration = 10\n",
      "Shrink model to first 11 iterations.\n",
      "========== Fold=3 ==========\n"
     ]
    },
    {
     "name": "stderr",
     "output_type": "stream",
     "text": [
      "Default metric period is 5 because AUC is/are not implemented for GPU\n",
      "AUC is not implemented on GPU. Will use CPU for metric computation, this could significantly affect learning time\n"
     ]
    },
    {
     "name": "stdout",
     "output_type": "stream",
     "text": [
      "0:\ttest: 0.7972034\tbest: 0.7972034 (0)\ttotal: 8.84ms\tremaining: 2m 56s\n",
      "bestTest = 0.8736440678\n",
      "bestIteration = 28\n",
      "Shrink model to first 29 iterations.\n",
      "========== Fold=4 ==========\n"
     ]
    },
    {
     "name": "stderr",
     "output_type": "stream",
     "text": [
      "Default metric period is 5 because AUC is/are not implemented for GPU\n",
      "AUC is not implemented on GPU. Will use CPU for metric computation, this could significantly affect learning time\n"
     ]
    },
    {
     "name": "stdout",
     "output_type": "stream",
     "text": [
      "0:\ttest: 0.7751695\tbest: 0.7751695 (0)\ttotal: 9.55ms\tremaining: 3m 11s\n",
      "bestTest = 0.8405932203\n",
      "bestIteration = 63\n",
      "Shrink model to first 64 iterations.\n",
      "========== Fold=5 ==========\n"
     ]
    },
    {
     "name": "stderr",
     "output_type": "stream",
     "text": [
      "Default metric period is 5 because AUC is/are not implemented for GPU\n",
      "AUC is not implemented on GPU. Will use CPU for metric computation, this could significantly affect learning time\n"
     ]
    },
    {
     "name": "stdout",
     "output_type": "stream",
     "text": [
      "0:\ttest: 0.7536864\tbest: 0.7536864 (0)\ttotal: 9.36ms\tremaining: 3m 7s\n"
     ]
    },
    {
     "name": "stderr",
     "output_type": "stream",
     "text": [
      "\u001b[32m[I 2023-01-18 19:41:03,012]\u001b[0m Trial 33 finished with value: 0.9221391333784699 and parameters: {'depth': 5, 'learning_rate': 0.2693252089437528, 'reg_lambda': 30}. Best is trial 11 with value: 0.9561225457007447.\u001b[0m\n"
     ]
    },
    {
     "name": "stdout",
     "output_type": "stream",
     "text": [
      "bestTest = 0.8342372881\n",
      "bestIteration = 29\n",
      "Shrink model to first 30 iterations.\n",
      "========== Fold=1 ==========\n"
     ]
    },
    {
     "name": "stderr",
     "output_type": "stream",
     "text": [
      "Default metric period is 5 because AUC is/are not implemented for GPU\n",
      "AUC is not implemented on GPU. Will use CPU for metric computation, this could significantly affect learning time\n"
     ]
    },
    {
     "name": "stdout",
     "output_type": "stream",
     "text": [
      "0:\ttest: 0.7304476\tbest: 0.7304476 (0)\ttotal: 9.38ms\tremaining: 3m 7s\n",
      "bestTest = 0.8380912162\n",
      "bestIteration = 340\n",
      "Shrink model to first 341 iterations.\n",
      "========== Fold=2 ==========\n"
     ]
    },
    {
     "name": "stderr",
     "output_type": "stream",
     "text": [
      "Default metric period is 5 because AUC is/are not implemented for GPU\n",
      "AUC is not implemented on GPU. Will use CPU for metric computation, this could significantly affect learning time\n"
     ]
    },
    {
     "name": "stdout",
     "output_type": "stream",
     "text": [
      "0:\ttest: 0.7930743\tbest: 0.7930743 (0)\ttotal: 9.71ms\tremaining: 3m 14s\n",
      "bestTest = 0.8461148649\n",
      "bestIteration = 18\n",
      "Shrink model to first 19 iterations.\n",
      "========== Fold=3 ==========\n"
     ]
    },
    {
     "name": "stderr",
     "output_type": "stream",
     "text": [
      "Default metric period is 5 because AUC is/are not implemented for GPU\n",
      "AUC is not implemented on GPU. Will use CPU for metric computation, this could significantly affect learning time\n"
     ]
    },
    {
     "name": "stdout",
     "output_type": "stream",
     "text": [
      "0:\ttest: 0.7956780\tbest: 0.7956780 (0)\ttotal: 8.71ms\tremaining: 2m 54s\n",
      "bestTest = 0.8790677966\n",
      "bestIteration = 189\n",
      "Shrink model to first 190 iterations.\n",
      "========== Fold=4 ==========\n"
     ]
    },
    {
     "name": "stderr",
     "output_type": "stream",
     "text": [
      "Default metric period is 5 because AUC is/are not implemented for GPU\n",
      "AUC is not implemented on GPU. Will use CPU for metric computation, this could significantly affect learning time\n"
     ]
    },
    {
     "name": "stdout",
     "output_type": "stream",
     "text": [
      "0:\ttest: 0.7751695\tbest: 0.7751695 (0)\ttotal: 10.5ms\tremaining: 3m 29s\n",
      "bestTest = 0.855\n",
      "bestIteration = 137\n",
      "Shrink model to first 138 iterations.\n",
      "========== Fold=5 ==========\n"
     ]
    },
    {
     "name": "stderr",
     "output_type": "stream",
     "text": [
      "Default metric period is 5 because AUC is/are not implemented for GPU\n",
      "AUC is not implemented on GPU. Will use CPU for metric computation, this could significantly affect learning time\n"
     ]
    },
    {
     "name": "stdout",
     "output_type": "stream",
     "text": [
      "0:\ttest: 0.7294492\tbest: 0.7294492 (0)\ttotal: 9.68ms\tremaining: 3m 13s\n"
     ]
    },
    {
     "name": "stderr",
     "output_type": "stream",
     "text": [
      "\u001b[32m[I 2023-01-18 19:41:17,304]\u001b[0m Trial 34 finished with value: 0.9302342586323629 and parameters: {'depth': 5, 'learning_rate': 0.17482555545367137, 'reg_lambda': 48}. Best is trial 11 with value: 0.9561225457007447.\u001b[0m\n"
     ]
    },
    {
     "name": "stdout",
     "output_type": "stream",
     "text": [
      "bestTest = 0.8010169492\n",
      "bestIteration = 51\n",
      "Shrink model to first 52 iterations.\n",
      "========== Fold=1 ==========\n"
     ]
    },
    {
     "name": "stderr",
     "output_type": "stream",
     "text": [
      "Default metric period is 5 because AUC is/are not implemented for GPU\n",
      "AUC is not implemented on GPU. Will use CPU for metric computation, this could significantly affect learning time\n"
     ]
    },
    {
     "name": "stdout",
     "output_type": "stream",
     "text": [
      "0:\ttest: 0.7211149\tbest: 0.7211149 (0)\ttotal: 9.88ms\tremaining: 3m 17s\n",
      "bestTest = 0.8483108108\n",
      "bestIteration = 355\n",
      "Shrink model to first 356 iterations.\n",
      "========== Fold=2 ==========\n"
     ]
    },
    {
     "name": "stderr",
     "output_type": "stream",
     "text": [
      "Default metric period is 5 because AUC is/are not implemented for GPU\n",
      "AUC is not implemented on GPU. Will use CPU for metric computation, this could significantly affect learning time\n"
     ]
    },
    {
     "name": "stdout",
     "output_type": "stream",
     "text": [
      "0:\ttest: 0.7886824\tbest: 0.7886824 (0)\ttotal: 9.96ms\tremaining: 3m 19s\n",
      "bestTest = 0.8458192568\n",
      "bestIteration = 6\n",
      "Shrink model to first 7 iterations.\n",
      "========== Fold=3 ==========\n"
     ]
    },
    {
     "name": "stderr",
     "output_type": "stream",
     "text": [
      "Default metric period is 5 because AUC is/are not implemented for GPU\n",
      "AUC is not implemented on GPU. Will use CPU for metric computation, this could significantly affect learning time\n"
     ]
    },
    {
     "name": "stdout",
     "output_type": "stream",
     "text": [
      "0:\ttest: 0.7892373\tbest: 0.7892373 (0)\ttotal: 10.4ms\tremaining: 3m 27s\n",
      "bestTest = 0.871779661\n",
      "bestIteration = 41\n",
      "Shrink model to first 42 iterations.\n",
      "========== Fold=4 ==========\n"
     ]
    },
    {
     "name": "stderr",
     "output_type": "stream",
     "text": [
      "Default metric period is 5 because AUC is/are not implemented for GPU\n",
      "AUC is not implemented on GPU. Will use CPU for metric computation, this could significantly affect learning time\n"
     ]
    },
    {
     "name": "stdout",
     "output_type": "stream",
     "text": [
      "0:\ttest: 0.7683475\tbest: 0.7683475 (0)\ttotal: 9.93ms\tremaining: 3m 18s\n",
      "bestTest = 0.8309322034\n",
      "bestIteration = 82\n",
      "Shrink model to first 83 iterations.\n",
      "========== Fold=5 ==========\n"
     ]
    },
    {
     "name": "stderr",
     "output_type": "stream",
     "text": [
      "Default metric period is 5 because AUC is/are not implemented for GPU\n",
      "AUC is not implemented on GPU. Will use CPU for metric computation, this could significantly affect learning time\n"
     ]
    },
    {
     "name": "stdout",
     "output_type": "stream",
     "text": [
      "0:\ttest: 0.7436864\tbest: 0.7436864 (0)\ttotal: 10.4ms\tremaining: 3m 27s\n"
     ]
    },
    {
     "name": "stderr",
     "output_type": "stream",
     "text": [
      "\u001b[32m[I 2023-01-18 19:41:30,874]\u001b[0m Trial 35 finished with value: 0.9261076506431957 and parameters: {'depth': 6, 'learning_rate': 0.3824665830274133, 'reg_lambda': 57}. Best is trial 11 with value: 0.9561225457007447.\u001b[0m\n"
     ]
    },
    {
     "name": "stdout",
     "output_type": "stream",
     "text": [
      "bestTest = 0.7810169492\n",
      "bestIteration = 20\n",
      "Shrink model to first 21 iterations.\n",
      "========== Fold=1 ==========\n"
     ]
    },
    {
     "name": "stderr",
     "output_type": "stream",
     "text": [
      "Default metric period is 5 because AUC is/are not implemented for GPU\n",
      "AUC is not implemented on GPU. Will use CPU for metric computation, this could significantly affect learning time\n"
     ]
    },
    {
     "name": "stdout",
     "output_type": "stream",
     "text": [
      "0:\ttest: 0.7289274\tbest: 0.7289274 (0)\ttotal: 8.91ms\tremaining: 2m 58s\n",
      "bestTest = 0.8197635135\n",
      "bestIteration = 99\n",
      "Shrink model to first 100 iterations.\n",
      "========== Fold=2 ==========\n"
     ]
    },
    {
     "name": "stderr",
     "output_type": "stream",
     "text": [
      "Default metric period is 5 because AUC is/are not implemented for GPU\n",
      "AUC is not implemented on GPU. Will use CPU for metric computation, this could significantly affect learning time\n"
     ]
    },
    {
     "name": "stdout",
     "output_type": "stream",
     "text": [
      "0:\ttest: 0.7967905\tbest: 0.7967905 (0)\ttotal: 8.37ms\tremaining: 2m 47s\n",
      "bestTest = 0.8228885135\n",
      "bestIteration = 79\n",
      "Shrink model to first 80 iterations.\n",
      "========== Fold=3 ==========\n"
     ]
    },
    {
     "name": "stderr",
     "output_type": "stream",
     "text": [
      "Default metric period is 5 because AUC is/are not implemented for GPU\n",
      "AUC is not implemented on GPU. Will use CPU for metric computation, this could significantly affect learning time\n"
     ]
    },
    {
     "name": "stdout",
     "output_type": "stream",
     "text": [
      "0:\ttest: 0.7976271\tbest: 0.7976271 (0)\ttotal: 9.26ms\tremaining: 3m 5s\n",
      "bestTest = 0.8489830508\n",
      "bestIteration = 15\n",
      "Shrink model to first 16 iterations.\n",
      "========== Fold=4 ==========\n"
     ]
    },
    {
     "name": "stderr",
     "output_type": "stream",
     "text": [
      "Default metric period is 5 because AUC is/are not implemented for GPU\n",
      "AUC is not implemented on GPU. Will use CPU for metric computation, this could significantly affect learning time\n"
     ]
    },
    {
     "name": "stdout",
     "output_type": "stream",
     "text": [
      "0:\ttest: 0.7751695\tbest: 0.7751695 (0)\ttotal: 8.95ms\tremaining: 2m 58s\n",
      "bestTest = 0.8374576271\n",
      "bestIteration = 17\n",
      "Shrink model to first 18 iterations.\n",
      "========== Fold=5 ==========\n"
     ]
    },
    {
     "name": "stderr",
     "output_type": "stream",
     "text": [
      "Default metric period is 5 because AUC is/are not implemented for GPU\n",
      "AUC is not implemented on GPU. Will use CPU for metric computation, this could significantly affect learning time\n"
     ]
    },
    {
     "name": "stdout",
     "output_type": "stream",
     "text": [
      "0:\ttest: 0.7536864\tbest: 0.7536864 (0)\ttotal: 8.94ms\tremaining: 2m 58s\n"
     ]
    },
    {
     "name": "stderr",
     "output_type": "stream",
     "text": [
      "\u001b[32m[I 2023-01-18 19:41:40,838]\u001b[0m Trial 36 finished with value: 0.9316238997968856 and parameters: {'depth': 5, 'learning_rate': 0.6471495080619124, 'reg_lambda': 35}. Best is trial 11 with value: 0.9561225457007447.\u001b[0m\n"
     ]
    },
    {
     "name": "stdout",
     "output_type": "stream",
     "text": [
      "bestTest = 0.7916949153\n",
      "bestIteration = 12\n",
      "Shrink model to first 13 iterations.\n",
      "========== Fold=1 ==========\n"
     ]
    },
    {
     "name": "stderr",
     "output_type": "stream",
     "text": [
      "Default metric period is 5 because AUC is/are not implemented for GPU\n",
      "AUC is not implemented on GPU. Will use CPU for metric computation, this could significantly affect learning time\n"
     ]
    },
    {
     "name": "stdout",
     "output_type": "stream",
     "text": [
      "0:\ttest: 0.7317990\tbest: 0.7317990 (0)\ttotal: 8.13ms\tremaining: 2m 42s\n",
      "bestTest = 0.8141047297\n",
      "bestIteration = 97\n",
      "Shrink model to first 98 iterations.\n",
      "========== Fold=2 ==========\n"
     ]
    },
    {
     "name": "stderr",
     "output_type": "stream",
     "text": [
      "Default metric period is 5 because AUC is/are not implemented for GPU\n",
      "AUC is not implemented on GPU. Will use CPU for metric computation, this could significantly affect learning time\n"
     ]
    },
    {
     "name": "stdout",
     "output_type": "stream",
     "text": [
      "0:\ttest: 0.8019003\tbest: 0.8019003 (0)\ttotal: 8.54ms\tremaining: 2m 50s\n",
      "bestTest = 0.8389358108\n",
      "bestIteration = 11\n",
      "Shrink model to first 12 iterations.\n",
      "========== Fold=3 ==========\n"
     ]
    },
    {
     "name": "stderr",
     "output_type": "stream",
     "text": [
      "Default metric period is 5 because AUC is/are not implemented for GPU\n",
      "AUC is not implemented on GPU. Will use CPU for metric computation, this could significantly affect learning time\n"
     ]
    },
    {
     "name": "stdout",
     "output_type": "stream",
     "text": [
      "0:\ttest: 0.7961864\tbest: 0.7961864 (0)\ttotal: 8.58ms\tremaining: 2m 51s\n",
      "bestTest = 0.881779661\n",
      "bestIteration = 337\n",
      "Shrink model to first 338 iterations.\n",
      "========== Fold=4 ==========\n"
     ]
    },
    {
     "name": "stderr",
     "output_type": "stream",
     "text": [
      "Default metric period is 5 because AUC is/are not implemented for GPU\n",
      "AUC is not implemented on GPU. Will use CPU for metric computation, this could significantly affect learning time\n"
     ]
    },
    {
     "name": "stdout",
     "output_type": "stream",
     "text": [
      "0:\ttest: 0.7762712\tbest: 0.7762712 (0)\ttotal: 8.14ms\tremaining: 2m 42s\n",
      "bestTest = 0.8471186441\n",
      "bestIteration = 171\n",
      "Shrink model to first 172 iterations.\n",
      "========== Fold=5 ==========\n"
     ]
    },
    {
     "name": "stderr",
     "output_type": "stream",
     "text": [
      "Default metric period is 5 because AUC is/are not implemented for GPU\n",
      "AUC is not implemented on GPU. Will use CPU for metric computation, this could significantly affect learning time\n"
     ]
    },
    {
     "name": "stdout",
     "output_type": "stream",
     "text": [
      "0:\ttest: 0.7248305\tbest: 0.7248305 (0)\ttotal: 8.6ms\tremaining: 2m 52s\n"
     ]
    },
    {
     "name": "stderr",
     "output_type": "stream",
     "text": [
      "\u001b[32m[I 2023-01-18 19:41:54,230]\u001b[0m Trial 37 finished with value: 0.8923134732566013 and parameters: {'depth': 4, 'learning_rate': 0.0704203593110084, 'reg_lambda': 43}. Best is trial 11 with value: 0.9561225457007447.\u001b[0m\n"
     ]
    },
    {
     "name": "stdout",
     "output_type": "stream",
     "text": [
      "bestTest = 0.7962711864\n",
      "bestIteration = 111\n",
      "Shrink model to first 112 iterations.\n",
      "========== Fold=1 ==========\n"
     ]
    },
    {
     "name": "stderr",
     "output_type": "stream",
     "text": [
      "Default metric period is 5 because AUC is/are not implemented for GPU\n",
      "AUC is not implemented on GPU. Will use CPU for metric computation, this could significantly affect learning time\n"
     ]
    },
    {
     "name": "stdout",
     "output_type": "stream",
     "text": [
      "0:\ttest: 0.7139780\tbest: 0.7139780 (0)\ttotal: 7.59ms\tremaining: 2m 31s\n",
      "bestTest = 0.8242398649\n",
      "bestIteration = 139\n",
      "Shrink model to first 140 iterations.\n",
      "========== Fold=2 ==========\n"
     ]
    },
    {
     "name": "stderr",
     "output_type": "stream",
     "text": [
      "Default metric period is 5 because AUC is/are not implemented for GPU\n",
      "AUC is not implemented on GPU. Will use CPU for metric computation, this could significantly affect learning time\n"
     ]
    },
    {
     "name": "stdout",
     "output_type": "stream",
     "text": [
      "0:\ttest: 0.7801098\tbest: 0.7801098 (0)\ttotal: 7.3ms\tremaining: 2m 25s\n",
      "bestTest = 0.8329391892\n",
      "bestIteration = 148\n",
      "Shrink model to first 149 iterations.\n",
      "========== Fold=3 ==========\n"
     ]
    },
    {
     "name": "stderr",
     "output_type": "stream",
     "text": [
      "Default metric period is 5 because AUC is/are not implemented for GPU\n",
      "AUC is not implemented on GPU. Will use CPU for metric computation, this could significantly affect learning time\n"
     ]
    },
    {
     "name": "stdout",
     "output_type": "stream",
     "text": [
      "0:\ttest: 0.7758051\tbest: 0.7758051 (0)\ttotal: 8.21ms\tremaining: 2m 44s\n",
      "bestTest = 0.8745762712\n",
      "bestIteration = 67\n",
      "Shrink model to first 68 iterations.\n",
      "========== Fold=4 ==========\n"
     ]
    },
    {
     "name": "stderr",
     "output_type": "stream",
     "text": [
      "Default metric period is 5 because AUC is/are not implemented for GPU\n",
      "AUC is not implemented on GPU. Will use CPU for metric computation, this could significantly affect learning time\n"
     ]
    },
    {
     "name": "stdout",
     "output_type": "stream",
     "text": [
      "0:\ttest: 0.7415678\tbest: 0.7415678 (0)\ttotal: 8.66ms\tremaining: 2m 53s\n",
      "bestTest = 0.8406779661\n",
      "bestIteration = 136\n",
      "Shrink model to first 137 iterations.\n",
      "========== Fold=5 ==========\n"
     ]
    },
    {
     "name": "stderr",
     "output_type": "stream",
     "text": [
      "Default metric period is 5 because AUC is/are not implemented for GPU\n",
      "AUC is not implemented on GPU. Will use CPU for metric computation, this could significantly affect learning time\n"
     ]
    },
    {
     "name": "stdout",
     "output_type": "stream",
     "text": [
      "0:\ttest: 0.7250424\tbest: 0.7250424 (0)\ttotal: 7.1ms\tremaining: 2m 22s\n"
     ]
    },
    {
     "name": "stderr",
     "output_type": "stream",
     "text": [
      "\u001b[32m[I 2023-01-18 19:42:05,436]\u001b[0m Trial 38 finished with value: 0.9249157075152337 and parameters: {'depth': 3, 'learning_rate': 0.35017553472672414, 'reg_lambda': 58}. Best is trial 11 with value: 0.9561225457007447.\u001b[0m\n"
     ]
    },
    {
     "name": "stdout",
     "output_type": "stream",
     "text": [
      "bestTest = 0.8030508475\n",
      "bestIteration = 32\n",
      "Shrink model to first 33 iterations.\n",
      "========== Fold=1 ==========\n"
     ]
    },
    {
     "name": "stderr",
     "output_type": "stream",
     "text": [
      "Default metric period is 5 because AUC is/are not implemented for GPU\n",
      "AUC is not implemented on GPU. Will use CPU for metric computation, this could significantly affect learning time\n"
     ]
    },
    {
     "name": "stdout",
     "output_type": "stream",
     "text": [
      "0:\ttest: 0.7304476\tbest: 0.7304476 (0)\ttotal: 9.05ms\tremaining: 3m 1s\n",
      "bestTest = 0.8353040541\n",
      "bestIteration = 351\n",
      "Shrink model to first 352 iterations.\n",
      "========== Fold=2 ==========\n"
     ]
    },
    {
     "name": "stderr",
     "output_type": "stream",
     "text": [
      "Default metric period is 5 because AUC is/are not implemented for GPU\n",
      "AUC is not implemented on GPU. Will use CPU for metric computation, this could significantly affect learning time\n"
     ]
    },
    {
     "name": "stdout",
     "output_type": "stream",
     "text": [
      "0:\ttest: 0.7930743\tbest: 0.7930743 (0)\ttotal: 9.81ms\tremaining: 3m 16s\n",
      "bestTest = 0.8507601351\n",
      "bestIteration = 181\n",
      "Shrink model to first 182 iterations.\n",
      "========== Fold=3 ==========\n"
     ]
    },
    {
     "name": "stderr",
     "output_type": "stream",
     "text": [
      "Default metric period is 5 because AUC is/are not implemented for GPU\n",
      "AUC is not implemented on GPU. Will use CPU for metric computation, this could significantly affect learning time\n"
     ]
    },
    {
     "name": "stdout",
     "output_type": "stream",
     "text": [
      "0:\ttest: 0.7956780\tbest: 0.7956780 (0)\ttotal: 8.94ms\tremaining: 2m 58s\n",
      "bestTest = 0.888559322\n",
      "bestIteration = 69\n",
      "Shrink model to first 70 iterations.\n",
      "========== Fold=4 ==========\n"
     ]
    },
    {
     "name": "stderr",
     "output_type": "stream",
     "text": [
      "Default metric period is 5 because AUC is/are not implemented for GPU\n",
      "AUC is not implemented on GPU. Will use CPU for metric computation, this could significantly affect learning time\n"
     ]
    },
    {
     "name": "stdout",
     "output_type": "stream",
     "text": [
      "0:\ttest: 0.7751695\tbest: 0.7751695 (0)\ttotal: 8.49ms\tremaining: 2m 49s\n",
      "bestTest = 0.848220339\n",
      "bestIteration = 123\n",
      "Shrink model to first 124 iterations.\n",
      "========== Fold=5 ==========\n"
     ]
    },
    {
     "name": "stderr",
     "output_type": "stream",
     "text": [
      "Default metric period is 5 because AUC is/are not implemented for GPU\n",
      "AUC is not implemented on GPU. Will use CPU for metric computation, this could significantly affect learning time\n"
     ]
    },
    {
     "name": "stdout",
     "output_type": "stream",
     "text": [
      "0:\ttest: 0.7294492\tbest: 0.7294492 (0)\ttotal: 9.05ms\tremaining: 3m 1s\n"
     ]
    },
    {
     "name": "stderr",
     "output_type": "stream",
     "text": [
      "\u001b[32m[I 2023-01-18 19:42:20,019]\u001b[0m Trial 39 finished with value: 0.9497406905890318 and parameters: {'depth': 5, 'learning_rate': 0.2390578471800205, 'reg_lambda': 47}. Best is trial 11 with value: 0.9561225457007447.\u001b[0m\n"
     ]
    },
    {
     "name": "stdout",
     "output_type": "stream",
     "text": [
      "bestTest = 0.8076271186\n",
      "bestIteration = 31\n",
      "Shrink model to first 32 iterations.\n",
      "========== Fold=1 ==========\n"
     ]
    },
    {
     "name": "stderr",
     "output_type": "stream",
     "text": [
      "Default metric period is 5 because AUC is/are not implemented for GPU\n",
      "AUC is not implemented on GPU. Will use CPU for metric computation, this could significantly affect learning time\n"
     ]
    },
    {
     "name": "stdout",
     "output_type": "stream",
     "text": [
      "0:\ttest: 0.7317990\tbest: 0.7317990 (0)\ttotal: 7.68ms\tremaining: 2m 33s\n",
      "bestTest = 0.8439189189\n",
      "bestIteration = 421\n",
      "Shrink model to first 422 iterations.\n",
      "========== Fold=2 ==========\n"
     ]
    },
    {
     "name": "stderr",
     "output_type": "stream",
     "text": [
      "Default metric period is 5 because AUC is/are not implemented for GPU\n",
      "AUC is not implemented on GPU. Will use CPU for metric computation, this could significantly affect learning time\n"
     ]
    },
    {
     "name": "stdout",
     "output_type": "stream",
     "text": [
      "0:\ttest: 0.8019003\tbest: 0.8019003 (0)\ttotal: 9.57ms\tremaining: 3m 11s\n",
      "bestTest = 0.8466216216\n",
      "bestIteration = 174\n",
      "Shrink model to first 175 iterations.\n",
      "========== Fold=3 ==========\n"
     ]
    },
    {
     "name": "stderr",
     "output_type": "stream",
     "text": [
      "Default metric period is 5 because AUC is/are not implemented for GPU\n",
      "AUC is not implemented on GPU. Will use CPU for metric computation, this could significantly affect learning time\n"
     ]
    },
    {
     "name": "stdout",
     "output_type": "stream",
     "text": [
      "0:\ttest: 0.7906780\tbest: 0.7906780 (0)\ttotal: 9.17ms\tremaining: 3m 3s\n",
      "bestTest = 0.8745762712\n",
      "bestIteration = 166\n",
      "Shrink model to first 167 iterations.\n",
      "========== Fold=4 ==========\n"
     ]
    },
    {
     "name": "stderr",
     "output_type": "stream",
     "text": [
      "Default metric period is 5 because AUC is/are not implemented for GPU\n",
      "AUC is not implemented on GPU. Will use CPU for metric computation, this could significantly affect learning time\n"
     ]
    },
    {
     "name": "stdout",
     "output_type": "stream",
     "text": [
      "0:\ttest: 0.7762712\tbest: 0.7762712 (0)\ttotal: 8.89ms\tremaining: 2m 57s\n",
      "bestTest = 0.8500847458\n",
      "bestIteration = 210\n",
      "Shrink model to first 211 iterations.\n",
      "========== Fold=5 ==========\n"
     ]
    },
    {
     "name": "stderr",
     "output_type": "stream",
     "text": [
      "Default metric period is 5 because AUC is/are not implemented for GPU\n",
      "AUC is not implemented on GPU. Will use CPU for metric computation, this could significantly affect learning time\n"
     ]
    },
    {
     "name": "stdout",
     "output_type": "stream",
     "text": [
      "0:\ttest: 0.7248305\tbest: 0.7248305 (0)\ttotal: 9.12ms\tremaining: 3m 2s\n"
     ]
    },
    {
     "name": "stderr",
     "output_type": "stream",
     "text": [
      "\u001b[32m[I 2023-01-18 19:42:35,826]\u001b[0m Trial 40 finished with value: 0.9351320243737306 and parameters: {'depth': 4, 'learning_rate': 0.14652470899270603, 'reg_lambda': 50}. Best is trial 11 with value: 0.9561225457007447.\u001b[0m\n"
     ]
    },
    {
     "name": "stdout",
     "output_type": "stream",
     "text": [
      "bestTest = 0.8055932203\n",
      "bestIteration = 46\n",
      "Shrink model to first 47 iterations.\n",
      "========== Fold=1 ==========\n"
     ]
    },
    {
     "name": "stderr",
     "output_type": "stream",
     "text": [
      "Default metric period is 5 because AUC is/are not implemented for GPU\n",
      "AUC is not implemented on GPU. Will use CPU for metric computation, this could significantly affect learning time\n"
     ]
    },
    {
     "name": "stdout",
     "output_type": "stream",
     "text": [
      "0:\ttest: 0.7304476\tbest: 0.7304476 (0)\ttotal: 9.47ms\tremaining: 3m 9s\n",
      "bestTest = 0.844847973\n",
      "bestIteration = 244\n",
      "Shrink model to first 245 iterations.\n",
      "========== Fold=2 ==========\n"
     ]
    },
    {
     "name": "stderr",
     "output_type": "stream",
     "text": [
      "Default metric period is 5 because AUC is/are not implemented for GPU\n",
      "AUC is not implemented on GPU. Will use CPU for metric computation, this could significantly affect learning time\n"
     ]
    },
    {
     "name": "stdout",
     "output_type": "stream",
     "text": [
      "0:\ttest: 0.7967905\tbest: 0.7967905 (0)\ttotal: 9.57ms\tremaining: 3m 11s\n",
      "bestTest = 0.8389358108\n",
      "bestIteration = 116\n",
      "Shrink model to first 117 iterations.\n",
      "========== Fold=3 ==========\n"
     ]
    },
    {
     "name": "stderr",
     "output_type": "stream",
     "text": [
      "Default metric period is 5 because AUC is/are not implemented for GPU\n",
      "AUC is not implemented on GPU. Will use CPU for metric computation, this could significantly affect learning time\n"
     ]
    },
    {
     "name": "stdout",
     "output_type": "stream",
     "text": [
      "0:\ttest: 0.7970339\tbest: 0.7970339 (0)\ttotal: 8.48ms\tremaining: 2m 49s\n",
      "bestTest = 0.8820338983\n",
      "bestIteration = 58\n",
      "Shrink model to first 59 iterations.\n",
      "========== Fold=4 ==========\n"
     ]
    },
    {
     "name": "stderr",
     "output_type": "stream",
     "text": [
      "Default metric period is 5 because AUC is/are not implemented for GPU\n",
      "AUC is not implemented on GPU. Will use CPU for metric computation, this could significantly affect learning time\n"
     ]
    },
    {
     "name": "stdout",
     "output_type": "stream",
     "text": [
      "0:\ttest: 0.7751695\tbest: 0.7751695 (0)\ttotal: 8.38ms\tremaining: 2m 47s\n",
      "bestTest = 0.8462711864\n",
      "bestIteration = 65\n",
      "Shrink model to first 66 iterations.\n",
      "========== Fold=5 ==========\n"
     ]
    },
    {
     "name": "stderr",
     "output_type": "stream",
     "text": [
      "Default metric period is 5 because AUC is/are not implemented for GPU\n",
      "AUC is not implemented on GPU. Will use CPU for metric computation, this could significantly affect learning time\n"
     ]
    },
    {
     "name": "stdout",
     "output_type": "stream",
     "text": [
      "0:\ttest: 0.7536864\tbest: 0.7536864 (0)\ttotal: 8.63ms\tremaining: 2m 52s\n"
     ]
    },
    {
     "name": "stderr",
     "output_type": "stream",
     "text": [
      "\u001b[32m[I 2023-01-18 19:42:48,249]\u001b[0m Trial 41 finished with value: 0.9435016926201761 and parameters: {'depth': 5, 'learning_rate': 0.24147917133398264, 'reg_lambda': 39}. Best is trial 11 with value: 0.9561225457007447.\u001b[0m\n"
     ]
    },
    {
     "name": "stdout",
     "output_type": "stream",
     "text": [
      "bestTest = 0.8128813559\n",
      "bestIteration = 31\n",
      "Shrink model to first 32 iterations.\n",
      "========== Fold=1 ==========\n"
     ]
    },
    {
     "name": "stderr",
     "output_type": "stream",
     "text": [
      "Default metric period is 5 because AUC is/are not implemented for GPU\n",
      "AUC is not implemented on GPU. Will use CPU for metric computation, this could significantly affect learning time\n"
     ]
    },
    {
     "name": "stdout",
     "output_type": "stream",
     "text": [
      "0:\ttest: 0.7289274\tbest: 0.7289274 (0)\ttotal: 9.06ms\tremaining: 3m 1s\n",
      "bestTest = 0.8663851351\n",
      "bestIteration = 308\n",
      "Shrink model to first 309 iterations.\n",
      "========== Fold=2 ==========\n"
     ]
    },
    {
     "name": "stderr",
     "output_type": "stream",
     "text": [
      "Default metric period is 5 because AUC is/are not implemented for GPU\n",
      "AUC is not implemented on GPU. Will use CPU for metric computation, this could significantly affect learning time\n"
     ]
    },
    {
     "name": "stdout",
     "output_type": "stream",
     "text": [
      "0:\ttest: 0.7967905\tbest: 0.7967905 (0)\ttotal: 9.47ms\tremaining: 3m 9s\n",
      "bestTest = 0.8407094595\n",
      "bestIteration = 101\n",
      "Shrink model to first 102 iterations.\n",
      "========== Fold=3 ==========\n"
     ]
    },
    {
     "name": "stderr",
     "output_type": "stream",
     "text": [
      "Default metric period is 5 because AUC is/are not implemented for GPU\n",
      "AUC is not implemented on GPU. Will use CPU for metric computation, this could significantly affect learning time\n"
     ]
    },
    {
     "name": "stdout",
     "output_type": "stream",
     "text": [
      "0:\ttest: 0.7976271\tbest: 0.7976271 (0)\ttotal: 9.27ms\tremaining: 3m 5s\n",
      "bestTest = 0.8810169492\n",
      "bestIteration = 39\n",
      "Shrink model to first 40 iterations.\n",
      "========== Fold=4 ==========\n"
     ]
    },
    {
     "name": "stderr",
     "output_type": "stream",
     "text": [
      "Default metric period is 5 because AUC is/are not implemented for GPU\n",
      "AUC is not implemented on GPU. Will use CPU for metric computation, this could significantly affect learning time\n"
     ]
    },
    {
     "name": "stdout",
     "output_type": "stream",
     "text": [
      "0:\ttest: 0.7751695\tbest: 0.7751695 (0)\ttotal: 8.89ms\tremaining: 2m 57s\n",
      "bestTest = 0.8598305085\n",
      "bestIteration = 46\n",
      "Shrink model to first 47 iterations.\n",
      "========== Fold=5 ==========\n"
     ]
    },
    {
     "name": "stderr",
     "output_type": "stream",
     "text": [
      "Default metric period is 5 because AUC is/are not implemented for GPU\n",
      "AUC is not implemented on GPU. Will use CPU for metric computation, this could significantly affect learning time\n"
     ]
    },
    {
     "name": "stdout",
     "output_type": "stream",
     "text": [
      "0:\ttest: 0.7536864\tbest: 0.7536864 (0)\ttotal: 9.94ms\tremaining: 3m 18s\n"
     ]
    },
    {
     "name": "stderr",
     "output_type": "stream",
     "text": [
      "\u001b[32m[I 2023-01-18 19:43:00,912]\u001b[0m Trial 42 finished with value: 0.9337562626946513 and parameters: {'depth': 5, 'learning_rate': 0.20787653197868824, 'reg_lambda': 34}. Best is trial 11 with value: 0.9561225457007447.\u001b[0m\n"
     ]
    },
    {
     "name": "stdout",
     "output_type": "stream",
     "text": [
      "bestTest = 0.8070338983\n",
      "bestIteration = 34\n",
      "Shrink model to first 35 iterations.\n",
      "========== Fold=1 ==========\n"
     ]
    },
    {
     "name": "stderr",
     "output_type": "stream",
     "text": [
      "Default metric period is 5 because AUC is/are not implemented for GPU\n",
      "AUC is not implemented on GPU. Will use CPU for metric computation, this could significantly affect learning time\n"
     ]
    },
    {
     "name": "stdout",
     "output_type": "stream",
     "text": [
      "0:\ttest: 0.7304476\tbest: 0.7304476 (0)\ttotal: 10.1ms\tremaining: 3m 21s\n",
      "bestTest = 0.8288006757\n",
      "bestIteration = 170\n",
      "Shrink model to first 171 iterations.\n",
      "========== Fold=2 ==========\n"
     ]
    },
    {
     "name": "stderr",
     "output_type": "stream",
     "text": [
      "Default metric period is 5 because AUC is/are not implemented for GPU\n",
      "AUC is not implemented on GPU. Will use CPU for metric computation, this could significantly affect learning time\n"
     ]
    },
    {
     "name": "stdout",
     "output_type": "stream",
     "text": [
      "0:\ttest: 0.7930743\tbest: 0.7930743 (0)\ttotal: 8.63ms\tremaining: 2m 52s\n",
      "bestTest = 0.8581081081\n",
      "bestIteration = 317\n",
      "Shrink model to first 318 iterations.\n",
      "========== Fold=3 ==========\n"
     ]
    },
    {
     "name": "stderr",
     "output_type": "stream",
     "text": [
      "Default metric period is 5 because AUC is/are not implemented for GPU\n",
      "AUC is not implemented on GPU. Will use CPU for metric computation, this could significantly affect learning time\n"
     ]
    },
    {
     "name": "stdout",
     "output_type": "stream",
     "text": [
      "0:\ttest: 0.7829661\tbest: 0.7829661 (0)\ttotal: 8.66ms\tremaining: 2m 53s\n",
      "bestTest = 0.8591525424\n",
      "bestIteration = 33\n",
      "Shrink model to first 34 iterations.\n",
      "========== Fold=4 ==========\n"
     ]
    },
    {
     "name": "stderr",
     "output_type": "stream",
     "text": [
      "Default metric period is 5 because AUC is/are not implemented for GPU\n",
      "AUC is not implemented on GPU. Will use CPU for metric computation, this could significantly affect learning time\n"
     ]
    },
    {
     "name": "stdout",
     "output_type": "stream",
     "text": [
      "0:\ttest: 0.7687712\tbest: 0.7687712 (0)\ttotal: 10.2ms\tremaining: 3m 23s\n",
      "bestTest = 0.8437288136\n",
      "bestIteration = 26\n",
      "Shrink model to first 27 iterations.\n",
      "========== Fold=5 ==========\n"
     ]
    },
    {
     "name": "stderr",
     "output_type": "stream",
     "text": [
      "Default metric period is 5 because AUC is/are not implemented for GPU\n",
      "AUC is not implemented on GPU. Will use CPU for metric computation, this could significantly affect learning time\n"
     ]
    },
    {
     "name": "stdout",
     "output_type": "stream",
     "text": [
      "0:\ttest: 0.7461864\tbest: 0.7461864 (0)\ttotal: 9.66ms\tremaining: 3m 13s\n"
     ]
    },
    {
     "name": "stderr",
     "output_type": "stream",
     "text": [
      "\u001b[32m[I 2023-01-18 19:43:13,841]\u001b[0m Trial 43 finished with value: 0.9357914691943128 and parameters: {'depth': 5, 'learning_rate': 0.43332321575709254, 'reg_lambda': 63}. Best is trial 11 with value: 0.9561225457007447.\u001b[0m\n"
     ]
    },
    {
     "name": "stdout",
     "output_type": "stream",
     "text": [
      "bestTest = 0.7762711864\n",
      "bestIteration = 20\n",
      "Shrink model to first 21 iterations.\n",
      "========== Fold=1 ==========\n"
     ]
    },
    {
     "name": "stderr",
     "output_type": "stream",
     "text": [
      "Default metric period is 5 because AUC is/are not implemented for GPU\n",
      "AUC is not implemented on GPU. Will use CPU for metric computation, this could significantly affect learning time\n"
     ]
    },
    {
     "name": "stdout",
     "output_type": "stream",
     "text": [
      "0:\ttest: 0.7284206\tbest: 0.7284206 (0)\ttotal: 9.54ms\tremaining: 3m 10s\n",
      "bestTest = 0.8369087838\n",
      "bestIteration = 173\n",
      "Shrink model to first 174 iterations.\n",
      "========== Fold=2 ==========\n"
     ]
    },
    {
     "name": "stderr",
     "output_type": "stream",
     "text": [
      "Default metric period is 5 because AUC is/are not implemented for GPU\n",
      "AUC is not implemented on GPU. Will use CPU for metric computation, this could significantly affect learning time\n"
     ]
    },
    {
     "name": "stdout",
     "output_type": "stream",
     "text": [
      "0:\ttest: 0.7930743\tbest: 0.7930743 (0)\ttotal: 8.42ms\tremaining: 2m 48s\n",
      "bestTest = 0.8509290541\n",
      "bestIteration = 159\n",
      "Shrink model to first 160 iterations.\n",
      "========== Fold=3 ==========\n"
     ]
    },
    {
     "name": "stderr",
     "output_type": "stream",
     "text": [
      "Default metric period is 5 because AUC is/are not implemented for GPU\n",
      "AUC is not implemented on GPU. Will use CPU for metric computation, this could significantly affect learning time\n"
     ]
    },
    {
     "name": "stdout",
     "output_type": "stream",
     "text": [
      "0:\ttest: 0.7788983\tbest: 0.7788983 (0)\ttotal: 10.2ms\tremaining: 3m 23s\n",
      "bestTest = 0.8858474576\n",
      "bestIteration = 80\n",
      "Shrink model to first 81 iterations.\n",
      "========== Fold=4 ==========\n"
     ]
    },
    {
     "name": "stderr",
     "output_type": "stream",
     "text": [
      "Default metric period is 5 because AUC is/are not implemented for GPU\n",
      "AUC is not implemented on GPU. Will use CPU for metric computation, this could significantly affect learning time\n"
     ]
    },
    {
     "name": "stdout",
     "output_type": "stream",
     "text": [
      "0:\ttest: 0.7681780\tbest: 0.7681780 (0)\ttotal: 8.84ms\tremaining: 2m 56s\n",
      "bestTest = 0.8436440678\n",
      "bestIteration = 89\n",
      "Shrink model to first 90 iterations.\n",
      "========== Fold=5 ==========\n"
     ]
    },
    {
     "name": "stderr",
     "output_type": "stream",
     "text": [
      "Default metric period is 5 because AUC is/are not implemented for GPU\n",
      "AUC is not implemented on GPU. Will use CPU for metric computation, this could significantly affect learning time\n"
     ]
    },
    {
     "name": "stdout",
     "output_type": "stream",
     "text": [
      "0:\ttest: 0.7461864\tbest: 0.7461864 (0)\ttotal: 8.69ms\tremaining: 2m 53s\n"
     ]
    },
    {
     "name": "stderr",
     "output_type": "stream",
     "text": [
      "\u001b[32m[I 2023-01-18 19:43:26,525]\u001b[0m Trial 44 finished with value: 0.947567366283006 and parameters: {'depth': 5, 'learning_rate': 0.27492342892829263, 'reg_lambda': 68}. Best is trial 11 with value: 0.9561225457007447.\u001b[0m\n"
     ]
    },
    {
     "name": "stdout",
     "output_type": "stream",
     "text": [
      "bestTest = 0.8116949153\n",
      "bestIteration = 44\n",
      "Shrink model to first 45 iterations.\n",
      "========== Fold=1 ==========\n"
     ]
    },
    {
     "name": "stderr",
     "output_type": "stream",
     "text": [
      "Default metric period is 5 because AUC is/are not implemented for GPU\n",
      "AUC is not implemented on GPU. Will use CPU for metric computation, this could significantly affect learning time\n"
     ]
    },
    {
     "name": "stdout",
     "output_type": "stream",
     "text": [
      "0:\ttest: 0.7284206\tbest: 0.7284206 (0)\ttotal: 9.1ms\tremaining: 3m 2s\n",
      "bestTest = 0.8130067568\n",
      "bestIteration = 70\n",
      "Shrink model to first 71 iterations.\n",
      "========== Fold=2 ==========\n"
     ]
    },
    {
     "name": "stderr",
     "output_type": "stream",
     "text": [
      "Default metric period is 5 because AUC is/are not implemented for GPU\n",
      "AUC is not implemented on GPU. Will use CPU for metric computation, this could significantly affect learning time\n"
     ]
    },
    {
     "name": "stdout",
     "output_type": "stream",
     "text": [
      "0:\ttest: 0.7930743\tbest: 0.7930743 (0)\ttotal: 8.64ms\tremaining: 2m 52s\n",
      "bestTest = 0.8375844595\n",
      "bestIteration = 102\n",
      "Shrink model to first 103 iterations.\n",
      "========== Fold=3 ==========\n"
     ]
    },
    {
     "name": "stderr",
     "output_type": "stream",
     "text": [
      "Default metric period is 5 because AUC is/are not implemented for GPU\n",
      "AUC is not implemented on GPU. Will use CPU for metric computation, this could significantly affect learning time\n"
     ]
    },
    {
     "name": "stdout",
     "output_type": "stream",
     "text": [
      "0:\ttest: 0.7629237\tbest: 0.7629237 (0)\ttotal: 10.8ms\tremaining: 3m 36s\n",
      "bestTest = 0.8916949153\n",
      "bestIteration = 34\n",
      "Shrink model to first 35 iterations.\n",
      "========== Fold=4 ==========\n"
     ]
    },
    {
     "name": "stderr",
     "output_type": "stream",
     "text": [
      "Default metric period is 5 because AUC is/are not implemented for GPU\n",
      "AUC is not implemented on GPU. Will use CPU for metric computation, this could significantly affect learning time\n"
     ]
    },
    {
     "name": "stdout",
     "output_type": "stream",
     "text": [
      "0:\ttest: 0.7697034\tbest: 0.7697034 (0)\ttotal: 9.9ms\tremaining: 3m 17s\n",
      "bestTest = 0.8434745763\n",
      "bestIteration = 47\n",
      "Shrink model to first 48 iterations.\n",
      "========== Fold=5 ==========\n"
     ]
    },
    {
     "name": "stderr",
     "output_type": "stream",
     "text": [
      "Default metric period is 5 because AUC is/are not implemented for GPU\n",
      "AUC is not implemented on GPU. Will use CPU for metric computation, this could significantly affect learning time\n"
     ]
    },
    {
     "name": "stdout",
     "output_type": "stream",
     "text": [
      "0:\ttest: 0.7460169\tbest: 0.7460169 (0)\ttotal: 9.64ms\tremaining: 3m 12s\n"
     ]
    },
    {
     "name": "stderr",
     "output_type": "stream",
     "text": [
      "\u001b[32m[I 2023-01-18 19:43:37,025]\u001b[0m Trial 45 finished with value: 0.936159106296547 and parameters: {'depth': 5, 'learning_rate': 0.4974264216171249, 'reg_lambda': 79}. Best is trial 11 with value: 0.9561225457007447.\u001b[0m\n"
     ]
    },
    {
     "name": "stdout",
     "output_type": "stream",
     "text": [
      "bestTest = 0.7927966102\n",
      "bestIteration = 22\n",
      "Shrink model to first 23 iterations.\n",
      "========== Fold=1 ==========\n"
     ]
    },
    {
     "name": "stderr",
     "output_type": "stream",
     "text": [
      "Default metric period is 5 because AUC is/are not implemented for GPU\n",
      "AUC is not implemented on GPU. Will use CPU for metric computation, this could significantly affect learning time\n"
     ]
    },
    {
     "name": "stdout",
     "output_type": "stream",
     "text": [
      "0:\ttest: 0.7228041\tbest: 0.7228041 (0)\ttotal: 9.91ms\tremaining: 3m 18s\n",
      "1000:\ttest: 0.8382601\tbest: 0.8385135 (993)\ttotal: 9.73s\tremaining: 3m 4s\n",
      "bestTest = 0.8472972973\n",
      "bestIteration = 1197\n",
      "Shrink model to first 1198 iterations.\n",
      "========== Fold=2 ==========\n"
     ]
    },
    {
     "name": "stderr",
     "output_type": "stream",
     "text": [
      "Default metric period is 5 because AUC is/are not implemented for GPU\n",
      "AUC is not implemented on GPU. Will use CPU for metric computation, this could significantly affect learning time\n"
     ]
    },
    {
     "name": "stdout",
     "output_type": "stream",
     "text": [
      "0:\ttest: 0.7858108\tbest: 0.7858108 (0)\ttotal: 11.1ms\tremaining: 3m 41s\n",
      "bestTest = 0.8470439189\n",
      "bestIteration = 55\n",
      "Shrink model to first 56 iterations.\n",
      "========== Fold=3 ==========\n"
     ]
    },
    {
     "name": "stderr",
     "output_type": "stream",
     "text": [
      "Default metric period is 5 because AUC is/are not implemented for GPU\n",
      "AUC is not implemented on GPU. Will use CPU for metric computation, this could significantly affect learning time\n"
     ]
    },
    {
     "name": "stdout",
     "output_type": "stream",
     "text": [
      "0:\ttest: 0.7891525\tbest: 0.7891525 (0)\ttotal: 10.5ms\tremaining: 3m 29s\n",
      "bestTest = 0.8750847458\n",
      "bestIteration = 331\n",
      "Shrink model to first 332 iterations.\n",
      "========== Fold=4 ==========\n"
     ]
    },
    {
     "name": "stderr",
     "output_type": "stream",
     "text": [
      "Default metric period is 5 because AUC is/are not implemented for GPU\n",
      "AUC is not implemented on GPU. Will use CPU for metric computation, this could significantly affect learning time\n"
     ]
    },
    {
     "name": "stdout",
     "output_type": "stream",
     "text": [
      "0:\ttest: 0.7683475\tbest: 0.7683475 (0)\ttotal: 11.5ms\tremaining: 3m 50s\n",
      "bestTest = 0.8483050847\n",
      "bestIteration = 387\n",
      "Shrink model to first 388 iterations.\n",
      "========== Fold=5 ==========\n"
     ]
    },
    {
     "name": "stderr",
     "output_type": "stream",
     "text": [
      "Default metric period is 5 because AUC is/are not implemented for GPU\n",
      "AUC is not implemented on GPU. Will use CPU for metric computation, this could significantly affect learning time\n"
     ]
    },
    {
     "name": "stdout",
     "output_type": "stream",
     "text": [
      "0:\ttest: 0.7269492\tbest: 0.7269492 (0)\ttotal: 11ms\tremaining: 3m 39s\n"
     ]
    },
    {
     "name": "stderr",
     "output_type": "stream",
     "text": [
      "\u001b[32m[I 2023-01-18 19:44:06,894]\u001b[0m Trial 46 finished with value: 0.9227098849018279 and parameters: {'depth': 6, 'learning_rate': 0.0373008244229521, 'reg_lambda': 47}. Best is trial 11 with value: 0.9561225457007447.\u001b[0m\n"
     ]
    },
    {
     "name": "stdout",
     "output_type": "stream",
     "text": [
      "bestTest = 0.7971186441\n",
      "bestIteration = 209\n",
      "Shrink model to first 210 iterations.\n",
      "========== Fold=1 ==========\n"
     ]
    },
    {
     "name": "stderr",
     "output_type": "stream",
     "text": [
      "Default metric period is 5 because AUC is/are not implemented for GPU\n",
      "AUC is not implemented on GPU. Will use CPU for metric computation, this could significantly affect learning time\n"
     ]
    },
    {
     "name": "stdout",
     "output_type": "stream",
     "text": [
      "0:\ttest: 0.7304476\tbest: 0.7304476 (0)\ttotal: 9.1ms\tremaining: 3m 1s\n",
      "bestTest = 0.8529560811\n",
      "bestIteration = 474\n",
      "Shrink model to first 475 iterations.\n",
      "========== Fold=2 ==========\n"
     ]
    },
    {
     "name": "stderr",
     "output_type": "stream",
     "text": [
      "Default metric period is 5 because AUC is/are not implemented for GPU\n",
      "AUC is not implemented on GPU. Will use CPU for metric computation, this could significantly affect learning time\n"
     ]
    },
    {
     "name": "stdout",
     "output_type": "stream",
     "text": [
      "0:\ttest: 0.7967905\tbest: 0.7967905 (0)\ttotal: 9.78ms\tremaining: 3m 15s\n",
      "bestTest = 0.8493665541\n",
      "bestIteration = 9\n",
      "Shrink model to first 10 iterations.\n",
      "========== Fold=3 ==========\n"
     ]
    },
    {
     "name": "stderr",
     "output_type": "stream",
     "text": [
      "Default metric period is 5 because AUC is/are not implemented for GPU\n",
      "AUC is not implemented on GPU. Will use CPU for metric computation, this could significantly affect learning time\n"
     ]
    },
    {
     "name": "stdout",
     "output_type": "stream",
     "text": [
      "0:\ttest: 0.7970339\tbest: 0.7970339 (0)\ttotal: 10ms\tremaining: 3m 20s\n",
      "bestTest = 0.881779661\n",
      "bestIteration = 219\n",
      "Shrink model to first 220 iterations.\n",
      "========== Fold=4 ==========\n"
     ]
    },
    {
     "name": "stderr",
     "output_type": "stream",
     "text": [
      "Default metric period is 5 because AUC is/are not implemented for GPU\n",
      "AUC is not implemented on GPU. Will use CPU for metric computation, this could significantly affect learning time\n"
     ]
    },
    {
     "name": "stdout",
     "output_type": "stream",
     "text": [
      "0:\ttest: 0.7751695\tbest: 0.7751695 (0)\ttotal: 9.16ms\tremaining: 3m 3s\n",
      "bestTest = 0.8526271186\n",
      "bestIteration = 178\n",
      "Shrink model to first 179 iterations.\n",
      "========== Fold=5 ==========\n"
     ]
    },
    {
     "name": "stderr",
     "output_type": "stream",
     "text": [
      "Default metric period is 5 because AUC is/are not implemented for GPU\n",
      "AUC is not implemented on GPU. Will use CPU for metric computation, this could significantly affect learning time\n"
     ]
    },
    {
     "name": "stdout",
     "output_type": "stream",
     "text": [
      "0:\ttest: 0.7525000\tbest: 0.7525000 (0)\ttotal: 8.72ms\tremaining: 2m 54s\n"
     ]
    },
    {
     "name": "stderr",
     "output_type": "stream",
     "text": [
      "\u001b[32m[I 2023-01-18 19:44:23,424]\u001b[0m Trial 47 finished with value: 0.9227230873392012 and parameters: {'depth': 5, 'learning_rate': 0.11232966583938403, 'reg_lambda': 42}. Best is trial 11 with value: 0.9561225457007447.\u001b[0m\n"
     ]
    },
    {
     "name": "stdout",
     "output_type": "stream",
     "text": [
      "bestTest = 0.7975423729\n",
      "bestIteration = 64\n",
      "Shrink model to first 65 iterations.\n",
      "========== Fold=1 ==========\n"
     ]
    },
    {
     "name": "stderr",
     "output_type": "stream",
     "text": [
      "Default metric period is 5 because AUC is/are not implemented for GPU\n",
      "AUC is not implemented on GPU. Will use CPU for metric computation, this could significantly affect learning time\n"
     ]
    },
    {
     "name": "stdout",
     "output_type": "stream",
     "text": [
      "0:\ttest: 0.7584037\tbest: 0.7584037 (0)\ttotal: 8.29ms\tremaining: 2m 45s\n",
      "bestTest = 0.8396959459\n",
      "bestIteration = 341\n",
      "Shrink model to first 342 iterations.\n",
      "========== Fold=2 ==========\n"
     ]
    },
    {
     "name": "stderr",
     "output_type": "stream",
     "text": [
      "Default metric period is 5 because AUC is/are not implemented for GPU\n",
      "AUC is not implemented on GPU. Will use CPU for metric computation, this could significantly affect learning time\n"
     ]
    },
    {
     "name": "stdout",
     "output_type": "stream",
     "text": [
      "0:\ttest: 0.8019003\tbest: 0.8019003 (0)\ttotal: 8.45ms\tremaining: 2m 48s\n",
      "bestTest = 0.8514358108\n",
      "bestIteration = 155\n",
      "Shrink model to first 156 iterations.\n",
      "========== Fold=3 ==========\n"
     ]
    },
    {
     "name": "stderr",
     "output_type": "stream",
     "text": [
      "Default metric period is 5 because AUC is/are not implemented for GPU\n",
      "AUC is not implemented on GPU. Will use CPU for metric computation, this could significantly affect learning time\n"
     ]
    },
    {
     "name": "stdout",
     "output_type": "stream",
     "text": [
      "0:\ttest: 0.7951695\tbest: 0.7951695 (0)\ttotal: 9.37ms\tremaining: 3m 7s\n",
      "bestTest = 0.8695762712\n",
      "bestIteration = 88\n",
      "Shrink model to first 89 iterations.\n",
      "========== Fold=4 ==========\n"
     ]
    },
    {
     "name": "stderr",
     "output_type": "stream",
     "text": [
      "Default metric period is 5 because AUC is/are not implemented for GPU\n",
      "AUC is not implemented on GPU. Will use CPU for metric computation, this could significantly affect learning time\n"
     ]
    },
    {
     "name": "stdout",
     "output_type": "stream",
     "text": [
      "0:\ttest: 0.7762712\tbest: 0.7762712 (0)\ttotal: 8.31ms\tremaining: 2m 46s\n",
      "bestTest = 0.8624576271\n",
      "bestIteration = 140\n",
      "Shrink model to first 141 iterations.\n",
      "========== Fold=5 ==========\n"
     ]
    },
    {
     "name": "stderr",
     "output_type": "stream",
     "text": [
      "Default metric period is 5 because AUC is/are not implemented for GPU\n",
      "AUC is not implemented on GPU. Will use CPU for metric computation, this could significantly affect learning time\n"
     ]
    },
    {
     "name": "stdout",
     "output_type": "stream",
     "text": [
      "0:\ttest: 0.7653814\tbest: 0.7653814 (0)\ttotal: 8.29ms\tremaining: 2m 45s\n"
     ]
    },
    {
     "name": "stderr",
     "output_type": "stream",
     "text": [
      "\u001b[32m[I 2023-01-18 19:44:37,520]\u001b[0m Trial 48 finished with value: 0.9359884901828031 and parameters: {'depth': 4, 'learning_rate': 0.15804524802129155, 'reg_lambda': 33}. Best is trial 11 with value: 0.9561225457007447.\u001b[0m\n"
     ]
    },
    {
     "name": "stdout",
     "output_type": "stream",
     "text": [
      "bestTest = 0.8106779661\n",
      "bestIteration = 51\n",
      "Shrink model to first 52 iterations.\n",
      "========== Fold=1 ==========\n"
     ]
    },
    {
     "name": "stderr",
     "output_type": "stream",
     "text": [
      "Default metric period is 5 because AUC is/are not implemented for GPU\n",
      "AUC is not implemented on GPU. Will use CPU for metric computation, this could significantly affect learning time\n"
     ]
    },
    {
     "name": "stdout",
     "output_type": "stream",
     "text": [
      "0:\ttest: 0.7304476\tbest: 0.7304476 (0)\ttotal: 11.7ms\tremaining: 3m 53s\n",
      "bestTest = 0.8334459459\n",
      "bestIteration = 110\n",
      "Shrink model to first 111 iterations.\n",
      "========== Fold=2 ==========\n"
     ]
    },
    {
     "name": "stderr",
     "output_type": "stream",
     "text": [
      "Default metric period is 5 because AUC is/are not implemented for GPU\n",
      "AUC is not implemented on GPU. Will use CPU for metric computation, this could significantly affect learning time\n"
     ]
    },
    {
     "name": "stdout",
     "output_type": "stream",
     "text": [
      "0:\ttest: 0.7930743\tbest: 0.7930743 (0)\ttotal: 8.24ms\tremaining: 2m 44s\n",
      "bestTest = 0.8353040541\n",
      "bestIteration = 15\n",
      "Shrink model to first 16 iterations.\n",
      "========== Fold=3 ==========\n"
     ]
    },
    {
     "name": "stderr",
     "output_type": "stream",
     "text": [
      "Default metric period is 5 because AUC is/are not implemented for GPU\n",
      "AUC is not implemented on GPU. Will use CPU for metric computation, this could significantly affect learning time\n"
     ]
    },
    {
     "name": "stdout",
     "output_type": "stream",
     "text": [
      "0:\ttest: 0.7956780\tbest: 0.7956780 (0)\ttotal: 9.16ms\tremaining: 3m 3s\n",
      "bestTest = 0.871440678\n",
      "bestIteration = 120\n",
      "Shrink model to first 121 iterations.\n",
      "========== Fold=4 ==========\n"
     ]
    },
    {
     "name": "stderr",
     "output_type": "stream",
     "text": [
      "Default metric period is 5 because AUC is/are not implemented for GPU\n",
      "AUC is not implemented on GPU. Will use CPU for metric computation, this could significantly affect learning time\n"
     ]
    },
    {
     "name": "stdout",
     "output_type": "stream",
     "text": [
      "0:\ttest: 0.7688136\tbest: 0.7688136 (0)\ttotal: 9.87ms\tremaining: 3m 17s\n",
      "bestTest = 0.8451694915\n",
      "bestIteration = 38\n",
      "Shrink model to first 39 iterations.\n",
      "========== Fold=5 ==========\n"
     ]
    },
    {
     "name": "stderr",
     "output_type": "stream",
     "text": [
      "Default metric period is 5 because AUC is/are not implemented for GPU\n",
      "AUC is not implemented on GPU. Will use CPU for metric computation, this could significantly affect learning time\n"
     ]
    },
    {
     "name": "stdout",
     "output_type": "stream",
     "text": [
      "0:\ttest: 0.7461864\tbest: 0.7461864 (0)\ttotal: 9.13ms\tremaining: 3m 2s\n"
     ]
    },
    {
     "name": "stderr",
     "output_type": "stream",
     "text": [
      "\u001b[32m[I 2023-01-18 19:44:48,412]\u001b[0m Trial 49 finished with value: 0.9261144211239 and parameters: {'depth': 5, 'learning_rate': 0.3478454084137114, 'reg_lambda': 55}. Best is trial 11 with value: 0.9561225457007447.\u001b[0m\n"
     ]
    },
    {
     "name": "stdout",
     "output_type": "stream",
     "text": [
      "bestTest = 0.8048305085\n",
      "bestIteration = 25\n",
      "Shrink model to first 26 iterations.\n",
      "========== Fold=1 ==========\n"
     ]
    },
    {
     "name": "stderr",
     "output_type": "stream",
     "text": [
      "Default metric period is 5 because AUC is/are not implemented for GPU\n",
      "AUC is not implemented on GPU. Will use CPU for metric computation, this could significantly affect learning time\n"
     ]
    },
    {
     "name": "stdout",
     "output_type": "stream",
     "text": [
      "0:\ttest: 0.7228041\tbest: 0.7228041 (0)\ttotal: 9.61ms\tremaining: 3m 12s\n",
      "bestTest = 0.8391891892\n",
      "bestIteration = 82\n",
      "Shrink model to first 83 iterations.\n",
      "========== Fold=2 ==========\n"
     ]
    },
    {
     "name": "stderr",
     "output_type": "stream",
     "text": [
      "Default metric period is 5 because AUC is/are not implemented for GPU\n",
      "AUC is not implemented on GPU. Will use CPU for metric computation, this could significantly affect learning time\n"
     ]
    },
    {
     "name": "stdout",
     "output_type": "stream",
     "text": [
      "0:\ttest: 0.7895270\tbest: 0.7895270 (0)\ttotal: 10.9ms\tremaining: 3m 37s\n",
      "bestTest = 0.8546452703\n",
      "bestIteration = 59\n",
      "Shrink model to first 60 iterations.\n",
      "========== Fold=3 ==========\n"
     ]
    },
    {
     "name": "stderr",
     "output_type": "stream",
     "text": [
      "Default metric period is 5 because AUC is/are not implemented for GPU\n",
      "AUC is not implemented on GPU. Will use CPU for metric computation, this could significantly affect learning time\n"
     ]
    },
    {
     "name": "stdout",
     "output_type": "stream",
     "text": [
      "0:\ttest: 0.7885593\tbest: 0.7885593 (0)\ttotal: 9.97ms\tremaining: 3m 19s\n",
      "bestTest = 0.8605084746\n",
      "bestIteration = 29\n",
      "Shrink model to first 30 iterations.\n",
      "========== Fold=4 ==========\n"
     ]
    },
    {
     "name": "stderr",
     "output_type": "stream",
     "text": [
      "Default metric period is 5 because AUC is/are not implemented for GPU\n",
      "AUC is not implemented on GPU. Will use CPU for metric computation, this could significantly affect learning time\n"
     ]
    },
    {
     "name": "stdout",
     "output_type": "stream",
     "text": [
      "0:\ttest: 0.7728390\tbest: 0.7728390 (0)\ttotal: 11.5ms\tremaining: 3m 49s\n",
      "bestTest = 0.8356779661\n",
      "bestIteration = 31\n",
      "Shrink model to first 32 iterations.\n",
      "========== Fold=5 ==========\n"
     ]
    },
    {
     "name": "stderr",
     "output_type": "stream",
     "text": [
      "Default metric period is 5 because AUC is/are not implemented for GPU\n",
      "AUC is not implemented on GPU. Will use CPU for metric computation, this could significantly affect learning time\n"
     ]
    },
    {
     "name": "stdout",
     "output_type": "stream",
     "text": [
      "0:\ttest: 0.7521610\tbest: 0.7521610 (0)\ttotal: 10.3ms\tremaining: 3m 25s\n"
     ]
    },
    {
     "name": "stderr",
     "output_type": "stream",
     "text": [
      "\u001b[32m[I 2023-01-18 19:44:58,991]\u001b[0m Trial 50 finished with value: 0.9433947190250507 and parameters: {'depth': 6, 'learning_rate': 0.6123819813626362, 'reg_lambda': 38}. Best is trial 11 with value: 0.9561225457007447.\u001b[0m\n"
     ]
    },
    {
     "name": "stdout",
     "output_type": "stream",
     "text": [
      "bestTest = 0.7827542373\n",
      "bestIteration = 6\n",
      "Shrink model to first 7 iterations.\n",
      "========== Fold=1 ==========\n"
     ]
    },
    {
     "name": "stderr",
     "output_type": "stream",
     "text": [
      "Default metric period is 5 because AUC is/are not implemented for GPU\n",
      "AUC is not implemented on GPU. Will use CPU for metric computation, this could significantly affect learning time\n"
     ]
    },
    {
     "name": "stdout",
     "output_type": "stream",
     "text": [
      "0:\ttest: 0.7284206\tbest: 0.7284206 (0)\ttotal: 8.69ms\tremaining: 2m 53s\n",
      "bestTest = 0.822972973\n",
      "bestIteration = 68\n",
      "Shrink model to first 69 iterations.\n",
      "========== Fold=2 ==========\n"
     ]
    },
    {
     "name": "stderr",
     "output_type": "stream",
     "text": [
      "Default metric period is 5 because AUC is/are not implemented for GPU\n",
      "AUC is not implemented on GPU. Will use CPU for metric computation, this could significantly affect learning time\n"
     ]
    },
    {
     "name": "stdout",
     "output_type": "stream",
     "text": [
      "0:\ttest: 0.7930743\tbest: 0.7930743 (0)\ttotal: 9.98ms\tremaining: 3m 19s\n",
      "bestTest = 0.8373733108\n",
      "bestIteration = 13\n",
      "Shrink model to first 14 iterations.\n",
      "========== Fold=3 ==========\n"
     ]
    },
    {
     "name": "stderr",
     "output_type": "stream",
     "text": [
      "Default metric period is 5 because AUC is/are not implemented for GPU\n",
      "AUC is not implemented on GPU. Will use CPU for metric computation, this could significantly affect learning time\n"
     ]
    },
    {
     "name": "stdout",
     "output_type": "stream",
     "text": [
      "0:\ttest: 0.7629237\tbest: 0.7629237 (0)\ttotal: 8.79ms\tremaining: 2m 55s\n",
      "bestTest = 0.8876271186\n",
      "bestIteration = 55\n",
      "Shrink model to first 56 iterations.\n",
      "========== Fold=4 ==========\n"
     ]
    },
    {
     "name": "stderr",
     "output_type": "stream",
     "text": [
      "Default metric period is 5 because AUC is/are not implemented for GPU\n",
      "AUC is not implemented on GPU. Will use CPU for metric computation, this could significantly affect learning time\n"
     ]
    },
    {
     "name": "stdout",
     "output_type": "stream",
     "text": [
      "0:\ttest: 0.7681780\tbest: 0.7681780 (0)\ttotal: 9.11ms\tremaining: 3m 2s\n",
      "bestTest = 0.8472033898\n",
      "bestIteration = 153\n",
      "Shrink model to first 154 iterations.\n",
      "========== Fold=5 ==========\n"
     ]
    },
    {
     "name": "stderr",
     "output_type": "stream",
     "text": [
      "Default metric period is 5 because AUC is/are not implemented for GPU\n",
      "AUC is not implemented on GPU. Will use CPU for metric computation, this could significantly affect learning time\n"
     ]
    },
    {
     "name": "stdout",
     "output_type": "stream",
     "text": [
      "0:\ttest: 0.7460169\tbest: 0.7460169 (0)\ttotal: 9.66ms\tremaining: 3m 13s\n"
     ]
    },
    {
     "name": "stderr",
     "output_type": "stream",
     "text": [
      "\u001b[32m[I 2023-01-18 19:45:09,945]\u001b[0m Trial 51 finished with value: 0.9204979688557888 and parameters: {'depth': 5, 'learning_rate': 0.2813083939211676, 'reg_lambda': 70}. Best is trial 11 with value: 0.9561225457007447.\u001b[0m\n"
     ]
    },
    {
     "name": "stdout",
     "output_type": "stream",
     "text": [
      "bestTest = 0.8083898305\n",
      "bestIteration = 42\n",
      "Shrink model to first 43 iterations.\n",
      "========== Fold=1 ==========\n"
     ]
    },
    {
     "name": "stderr",
     "output_type": "stream",
     "text": [
      "Default metric period is 5 because AUC is/are not implemented for GPU\n",
      "AUC is not implemented on GPU. Will use CPU for metric computation, this could significantly affect learning time\n"
     ]
    },
    {
     "name": "stdout",
     "output_type": "stream",
     "text": [
      "0:\ttest: 0.7284206\tbest: 0.7284206 (0)\ttotal: 10ms\tremaining: 3m 20s\n",
      "bestTest = 0.8480574324\n",
      "bestIteration = 309\n",
      "Shrink model to first 310 iterations.\n",
      "========== Fold=2 ==========\n"
     ]
    },
    {
     "name": "stderr",
     "output_type": "stream",
     "text": [
      "Default metric period is 5 because AUC is/are not implemented for GPU\n",
      "AUC is not implemented on GPU. Will use CPU for metric computation, this could significantly affect learning time\n"
     ]
    },
    {
     "name": "stdout",
     "output_type": "stream",
     "text": [
      "0:\ttest: 0.7930743\tbest: 0.7930743 (0)\ttotal: 9.48ms\tremaining: 3m 9s\n",
      "bestTest = 0.8375422297\n",
      "bestIteration = 2\n",
      "Shrink model to first 3 iterations.\n",
      "========== Fold=3 ==========\n"
     ]
    },
    {
     "name": "stderr",
     "output_type": "stream",
     "text": [
      "Default metric period is 5 because AUC is/are not implemented for GPU\n",
      "AUC is not implemented on GPU. Will use CPU for metric computation, this could significantly affect learning time\n"
     ]
    },
    {
     "name": "stdout",
     "output_type": "stream",
     "text": [
      "0:\ttest: 0.7788983\tbest: 0.7788983 (0)\ttotal: 16ms\tremaining: 5m 19s\n",
      "bestTest = 0.8799152542\n",
      "bestIteration = 93\n",
      "Shrink model to first 94 iterations.\n",
      "========== Fold=4 ==========\n"
     ]
    },
    {
     "name": "stderr",
     "output_type": "stream",
     "text": [
      "Default metric period is 5 because AUC is/are not implemented for GPU\n",
      "AUC is not implemented on GPU. Will use CPU for metric computation, this could significantly affect learning time\n"
     ]
    },
    {
     "name": "stdout",
     "output_type": "stream",
     "text": [
      "0:\ttest: 0.7681780\tbest: 0.7681780 (0)\ttotal: 9.07ms\tremaining: 3m 1s\n",
      "bestTest = 0.8544067797\n",
      "bestIteration = 83\n",
      "Shrink model to first 84 iterations.\n",
      "========== Fold=5 ==========\n"
     ]
    },
    {
     "name": "stderr",
     "output_type": "stream",
     "text": [
      "Default metric period is 5 because AUC is/are not implemented for GPU\n",
      "AUC is not implemented on GPU. Will use CPU for metric computation, this could significantly affect learning time\n"
     ]
    },
    {
     "name": "stdout",
     "output_type": "stream",
     "text": [
      "0:\ttest: 0.7461864\tbest: 0.7461864 (0)\ttotal: 8.77ms\tremaining: 2m 55s\n"
     ]
    },
    {
     "name": "stderr",
     "output_type": "stream",
     "text": [
      "\u001b[32m[I 2023-01-18 19:45:22,873]\u001b[0m Trial 52 finished with value: 0.916293500338524 and parameters: {'depth': 5, 'learning_rate': 0.24558065084130948, 'reg_lambda': 68}. Best is trial 11 with value: 0.9561225457007447.\u001b[0m\n"
     ]
    },
    {
     "name": "stdout",
     "output_type": "stream",
     "text": [
      "bestTest = 0.798559322\n",
      "bestIteration = 35\n",
      "Shrink model to first 36 iterations.\n",
      "========== Fold=1 ==========\n"
     ]
    },
    {
     "name": "stderr",
     "output_type": "stream",
     "text": [
      "Default metric period is 5 because AUC is/are not implemented for GPU\n",
      "AUC is not implemented on GPU. Will use CPU for metric computation, this could significantly affect learning time\n"
     ]
    },
    {
     "name": "stdout",
     "output_type": "stream",
     "text": [
      "0:\ttest: 0.7304476\tbest: 0.7304476 (0)\ttotal: 9.43ms\tremaining: 3m 8s\n",
      "bestTest = 0.846875\n",
      "bestIteration = 319\n",
      "Shrink model to first 320 iterations.\n",
      "========== Fold=2 ==========\n"
     ]
    },
    {
     "name": "stderr",
     "output_type": "stream",
     "text": [
      "Default metric period is 5 because AUC is/are not implemented for GPU\n",
      "AUC is not implemented on GPU. Will use CPU for metric computation, this could significantly affect learning time\n"
     ]
    },
    {
     "name": "stdout",
     "output_type": "stream",
     "text": [
      "0:\ttest: 0.7930743\tbest: 0.7930743 (0)\ttotal: 9.38ms\tremaining: 3m 7s\n",
      "bestTest = 0.8355574324\n",
      "bestIteration = 191\n",
      "Shrink model to first 192 iterations.\n",
      "========== Fold=3 ==========\n"
     ]
    },
    {
     "name": "stderr",
     "output_type": "stream",
     "text": [
      "Default metric period is 5 because AUC is/are not implemented for GPU\n",
      "AUC is not implemented on GPU. Will use CPU for metric computation, this could significantly affect learning time\n"
     ]
    },
    {
     "name": "stdout",
     "output_type": "stream",
     "text": [
      "0:\ttest: 0.7829661\tbest: 0.7829661 (0)\ttotal: 9.95ms\tremaining: 3m 18s\n",
      "bestTest = 0.8811864407\n",
      "bestIteration = 42\n",
      "Shrink model to first 43 iterations.\n",
      "========== Fold=4 ==========\n"
     ]
    },
    {
     "name": "stderr",
     "output_type": "stream",
     "text": [
      "Default metric period is 5 because AUC is/are not implemented for GPU\n",
      "AUC is not implemented on GPU. Will use CPU for metric computation, this could significantly affect learning time\n"
     ]
    },
    {
     "name": "stdout",
     "output_type": "stream",
     "text": [
      "0:\ttest: 0.7687712\tbest: 0.7687712 (0)\ttotal: 8.44ms\tremaining: 2m 48s\n",
      "bestTest = 0.8507627119\n",
      "bestIteration = 53\n",
      "Shrink model to first 54 iterations.\n",
      "========== Fold=5 ==========\n"
     ]
    },
    {
     "name": "stderr",
     "output_type": "stream",
     "text": [
      "Default metric period is 5 because AUC is/are not implemented for GPU\n",
      "AUC is not implemented on GPU. Will use CPU for metric computation, this could significantly affect learning time\n"
     ]
    },
    {
     "name": "stdout",
     "output_type": "stream",
     "text": [
      "0:\ttest: 0.7461864\tbest: 0.7461864 (0)\ttotal: 10.1ms\tremaining: 3m 22s\n"
     ]
    },
    {
     "name": "stderr",
     "output_type": "stream",
     "text": [
      "\u001b[32m[I 2023-01-18 19:45:36,574]\u001b[0m Trial 53 finished with value: 0.9373036560595802 and parameters: {'depth': 5, 'learning_rate': 0.31027443843824165, 'reg_lambda': 65}. Best is trial 11 with value: 0.9561225457007447.\u001b[0m\n"
     ]
    },
    {
     "name": "stdout",
     "output_type": "stream",
     "text": [
      "bestTest = 0.8024576271\n",
      "bestIteration = 35\n",
      "Shrink model to first 36 iterations.\n",
      "========== Fold=1 ==========\n"
     ]
    },
    {
     "name": "stderr",
     "output_type": "stream",
     "text": [
      "Default metric period is 5 because AUC is/are not implemented for GPU\n",
      "AUC is not implemented on GPU. Will use CPU for metric computation, this could significantly affect learning time\n"
     ]
    },
    {
     "name": "stdout",
     "output_type": "stream",
     "text": [
      "0:\ttest: 0.7304476\tbest: 0.7304476 (0)\ttotal: 9.79ms\tremaining: 3m 15s\n",
      "bestTest = 0.8289695946\n",
      "bestIteration = 397\n",
      "Shrink model to first 398 iterations.\n",
      "========== Fold=2 ==========\n"
     ]
    },
    {
     "name": "stderr",
     "output_type": "stream",
     "text": [
      "Default metric period is 5 because AUC is/are not implemented for GPU\n",
      "AUC is not implemented on GPU. Will use CPU for metric computation, this could significantly affect learning time\n"
     ]
    },
    {
     "name": "stdout",
     "output_type": "stream",
     "text": [
      "0:\ttest: 0.7930743\tbest: 0.7930743 (0)\ttotal: 8.9ms\tremaining: 2m 58s\n",
      "bestTest = 0.8372466216\n",
      "bestIteration = 9\n",
      "Shrink model to first 10 iterations.\n",
      "========== Fold=3 ==========\n"
     ]
    },
    {
     "name": "stderr",
     "output_type": "stream",
     "text": [
      "Default metric period is 5 because AUC is/are not implemented for GPU\n",
      "AUC is not implemented on GPU. Will use CPU for metric computation, this could significantly affect learning time\n"
     ]
    },
    {
     "name": "stdout",
     "output_type": "stream",
     "text": [
      "0:\ttest: 0.7915254\tbest: 0.7915254 (0)\ttotal: 8.61ms\tremaining: 2m 52s\n",
      "bestTest = 0.8870338983\n",
      "bestIteration = 93\n",
      "Shrink model to first 94 iterations.\n",
      "========== Fold=4 ==========\n"
     ]
    },
    {
     "name": "stderr",
     "output_type": "stream",
     "text": [
      "Default metric period is 5 because AUC is/are not implemented for GPU\n",
      "AUC is not implemented on GPU. Will use CPU for metric computation, this could significantly affect learning time\n"
     ]
    },
    {
     "name": "stdout",
     "output_type": "stream",
     "text": [
      "0:\ttest: 0.7687712\tbest: 0.7687712 (0)\ttotal: 9.71ms\tremaining: 3m 14s\n",
      "bestTest = 0.8565254237\n",
      "bestIteration = 137\n",
      "Shrink model to first 138 iterations.\n",
      "========== Fold=5 ==========\n"
     ]
    },
    {
     "name": "stderr",
     "output_type": "stream",
     "text": [
      "Default metric period is 5 because AUC is/are not implemented for GPU\n",
      "AUC is not implemented on GPU. Will use CPU for metric computation, this could significantly affect learning time\n"
     ]
    },
    {
     "name": "stdout",
     "output_type": "stream",
     "text": [
      "0:\ttest: 0.7461864\tbest: 0.7461864 (0)\ttotal: 8.91ms\tremaining: 2m 58s\n"
     ]
    },
    {
     "name": "stderr",
     "output_type": "stream",
     "text": [
      "\u001b[32m[I 2023-01-18 19:45:50,783]\u001b[0m Trial 54 finished with value: 0.9188050101557211 and parameters: {'depth': 5, 'learning_rate': 0.18485660837218099, 'reg_lambda': 60}. Best is trial 11 with value: 0.9561225457007447.\u001b[0m\n"
     ]
    },
    {
     "name": "stdout",
     "output_type": "stream",
     "text": [
      "bestTest = 0.8039830508\n",
      "bestIteration = 45\n",
      "Shrink model to first 46 iterations.\n",
      "========== Fold=1 ==========\n"
     ]
    },
    {
     "name": "stderr",
     "output_type": "stream",
     "text": [
      "Default metric period is 5 because AUC is/are not implemented for GPU\n",
      "AUC is not implemented on GPU. Will use CPU for metric computation, this could significantly affect learning time\n"
     ]
    },
    {
     "name": "stdout",
     "output_type": "stream",
     "text": [
      "0:\ttest: 0.7284206\tbest: 0.7284206 (0)\ttotal: 8.76ms\tremaining: 2m 55s\n",
      "bestTest = 0.8420608108\n",
      "bestIteration = 250\n",
      "Shrink model to first 251 iterations.\n",
      "========== Fold=2 ==========\n"
     ]
    },
    {
     "name": "stderr",
     "output_type": "stream",
     "text": [
      "Default metric period is 5 because AUC is/are not implemented for GPU\n",
      "AUC is not implemented on GPU. Will use CPU for metric computation, this could significantly affect learning time\n"
     ]
    },
    {
     "name": "stdout",
     "output_type": "stream",
     "text": [
      "0:\ttest: 0.7930743\tbest: 0.7930743 (0)\ttotal: 10.8ms\tremaining: 3m 36s\n",
      "bestTest = 0.8372888514\n",
      "bestIteration = 2\n",
      "Shrink model to first 3 iterations.\n",
      "========== Fold=3 ==========\n"
     ]
    },
    {
     "name": "stderr",
     "output_type": "stream",
     "text": [
      "Default metric period is 5 because AUC is/are not implemented for GPU\n",
      "AUC is not implemented on GPU. Will use CPU for metric computation, this could significantly affect learning time\n"
     ]
    },
    {
     "name": "stdout",
     "output_type": "stream",
     "text": [
      "0:\ttest: 0.7629237\tbest: 0.7629237 (0)\ttotal: 8.95ms\tremaining: 2m 59s\n",
      "bestTest = 0.8744067797\n",
      "bestIteration = 96\n",
      "Shrink model to first 97 iterations.\n",
      "========== Fold=4 ==========\n"
     ]
    },
    {
     "name": "stderr",
     "output_type": "stream",
     "text": [
      "Default metric period is 5 because AUC is/are not implemented for GPU\n",
      "AUC is not implemented on GPU. Will use CPU for metric computation, this could significantly affect learning time\n"
     ]
    },
    {
     "name": "stdout",
     "output_type": "stream",
     "text": [
      "0:\ttest: 0.7697034\tbest: 0.7697034 (0)\ttotal: 11ms\tremaining: 3m 39s\n",
      "bestTest = 0.8552542373\n",
      "bestIteration = 79\n",
      "Shrink model to first 80 iterations.\n",
      "========== Fold=5 ==========\n"
     ]
    },
    {
     "name": "stderr",
     "output_type": "stream",
     "text": [
      "Default metric period is 5 because AUC is/are not implemented for GPU\n",
      "AUC is not implemented on GPU. Will use CPU for metric computation, this could significantly affect learning time\n"
     ]
    },
    {
     "name": "stdout",
     "output_type": "stream",
     "text": [
      "0:\ttest: 0.7460169\tbest: 0.7460169 (0)\ttotal: 10.1ms\tremaining: 3m 22s\n"
     ]
    },
    {
     "name": "stderr",
     "output_type": "stream",
     "text": [
      "\u001b[32m[I 2023-01-18 19:46:03,305]\u001b[0m Trial 55 finished with value: 0.9147992552471225 and parameters: {'depth': 5, 'learning_rate': 0.2732709496002267, 'reg_lambda': 79}. Best is trial 11 with value: 0.9561225457007447.\u001b[0m\n"
     ]
    },
    {
     "name": "stdout",
     "output_type": "stream",
     "text": [
      "bestTest = 0.8078813559\n",
      "bestIteration = 35\n",
      "Shrink model to first 36 iterations.\n",
      "========== Fold=1 ==========\n"
     ]
    },
    {
     "name": "stderr",
     "output_type": "stream",
     "text": [
      "Default metric period is 5 because AUC is/are not implemented for GPU\n",
      "AUC is not implemented on GPU. Will use CPU for metric computation, this could significantly affect learning time\n"
     ]
    },
    {
     "name": "stdout",
     "output_type": "stream",
     "text": [
      "0:\ttest: 0.7284206\tbest: 0.7284206 (0)\ttotal: 28.1ms\tremaining: 9m 21s\n",
      "bestTest = 0.8254222973\n",
      "bestIteration = 125\n",
      "Shrink model to first 126 iterations.\n",
      "========== Fold=2 ==========\n"
     ]
    },
    {
     "name": "stderr",
     "output_type": "stream",
     "text": [
      "Default metric period is 5 because AUC is/are not implemented for GPU\n",
      "AUC is not implemented on GPU. Will use CPU for metric computation, this could significantly affect learning time\n"
     ]
    },
    {
     "name": "stdout",
     "output_type": "stream",
     "text": [
      "0:\ttest: 0.7930743\tbest: 0.7930743 (0)\ttotal: 9.26ms\tremaining: 3m 5s\n",
      "bestTest = 0.821875\n",
      "bestIteration = 27\n",
      "Shrink model to first 28 iterations.\n",
      "========== Fold=3 ==========\n"
     ]
    },
    {
     "name": "stderr",
     "output_type": "stream",
     "text": [
      "Default metric period is 5 because AUC is/are not implemented for GPU\n",
      "AUC is not implemented on GPU. Will use CPU for metric computation, this could significantly affect learning time\n"
     ]
    },
    {
     "name": "stdout",
     "output_type": "stream",
     "text": [
      "0:\ttest: 0.7629237\tbest: 0.7629237 (0)\ttotal: 12.9ms\tremaining: 4m 17s\n",
      "bestTest = 0.8777118644\n",
      "bestIteration = 51\n",
      "Shrink model to first 52 iterations.\n",
      "========== Fold=4 ==========\n"
     ]
    },
    {
     "name": "stderr",
     "output_type": "stream",
     "text": [
      "Default metric period is 5 because AUC is/are not implemented for GPU\n",
      "AUC is not implemented on GPU. Will use CPU for metric computation, this could significantly affect learning time\n"
     ]
    },
    {
     "name": "stdout",
     "output_type": "stream",
     "text": [
      "0:\ttest: 0.7697034\tbest: 0.7697034 (0)\ttotal: 8.58ms\tremaining: 2m 51s\n",
      "bestTest = 0.8298305085\n",
      "bestIteration = 24\n",
      "Shrink model to first 25 iterations.\n",
      "========== Fold=5 ==========\n"
     ]
    },
    {
     "name": "stderr",
     "output_type": "stream",
     "text": [
      "Default metric period is 5 because AUC is/are not implemented for GPU\n",
      "AUC is not implemented on GPU. Will use CPU for metric computation, this could significantly affect learning time\n"
     ]
    },
    {
     "name": "stdout",
     "output_type": "stream",
     "text": [
      "0:\ttest: 0.7460169\tbest: 0.7460169 (0)\ttotal: 9.46ms\tremaining: 3m 9s\n"
     ]
    },
    {
     "name": "stderr",
     "output_type": "stream",
     "text": [
      "\u001b[32m[I 2023-01-18 19:46:13,849]\u001b[0m Trial 56 finished with value: 0.9189834123222749 and parameters: {'depth': 5, 'learning_rate': 0.41238425939240647, 'reg_lambda': 74}. Best is trial 11 with value: 0.9561225457007447.\u001b[0m\n"
     ]
    },
    {
     "name": "stdout",
     "output_type": "stream",
     "text": [
      "bestTest = 0.8059322034\n",
      "bestIteration = 22\n",
      "Shrink model to first 23 iterations.\n",
      "========== Fold=1 ==========\n"
     ]
    },
    {
     "name": "stderr",
     "output_type": "stream",
     "text": [
      "Default metric period is 5 because AUC is/are not implemented for GPU\n",
      "AUC is not implemented on GPU. Will use CPU for metric computation, this could significantly affect learning time\n"
     ]
    },
    {
     "name": "stdout",
     "output_type": "stream",
     "text": [
      "0:\ttest: 0.7692145\tbest: 0.7692145 (0)\ttotal: 9.54ms\tremaining: 3m 10s\n",
      "bestTest = 0.8340371622\n",
      "bestIteration = 21\n",
      "Shrink model to first 22 iterations.\n",
      "========== Fold=2 ==========\n"
     ]
    },
    {
     "name": "stderr",
     "output_type": "stream",
     "text": [
      "Default metric period is 5 because AUC is/are not implemented for GPU\n",
      "AUC is not implemented on GPU. Will use CPU for metric computation, this could significantly affect learning time\n"
     ]
    },
    {
     "name": "stdout",
     "output_type": "stream",
     "text": [
      "0:\ttest: 0.7967905\tbest: 0.7967905 (0)\ttotal: 10.1ms\tremaining: 3m 22s\n",
      "bestTest = 0.8316722973\n",
      "bestIteration = 13\n",
      "Shrink model to first 14 iterations.\n",
      "========== Fold=3 ==========\n"
     ]
    },
    {
     "name": "stderr",
     "output_type": "stream",
     "text": [
      "Default metric period is 5 because AUC is/are not implemented for GPU\n",
      "AUC is not implemented on GPU. Will use CPU for metric computation, this could significantly affect learning time\n"
     ]
    },
    {
     "name": "stdout",
     "output_type": "stream",
     "text": [
      "0:\ttest: 0.7972034\tbest: 0.7972034 (0)\ttotal: 8.87ms\tremaining: 2m 57s\n",
      "bestTest = 0.8816949153\n",
      "bestIteration = 28\n",
      "Shrink model to first 29 iterations.\n",
      "========== Fold=4 ==========\n"
     ]
    },
    {
     "name": "stderr",
     "output_type": "stream",
     "text": [
      "Default metric period is 5 because AUC is/are not implemented for GPU\n",
      "AUC is not implemented on GPU. Will use CPU for metric computation, this could significantly affect learning time\n"
     ]
    },
    {
     "name": "stdout",
     "output_type": "stream",
     "text": [
      "0:\ttest: 0.7751695\tbest: 0.7751695 (0)\ttotal: 8.9ms\tremaining: 2m 58s\n",
      "bestTest = 0.8449152542\n",
      "bestIteration = 23\n",
      "Shrink model to first 24 iterations.\n",
      "========== Fold=5 ==========\n"
     ]
    },
    {
     "name": "stderr",
     "output_type": "stream",
     "text": [
      "Default metric period is 5 because AUC is/are not implemented for GPU\n",
      "AUC is not implemented on GPU. Will use CPU for metric computation, this could significantly affect learning time\n"
     ]
    },
    {
     "name": "stdout",
     "output_type": "stream",
     "text": [
      "0:\ttest: 0.7536864\tbest: 0.7536864 (0)\ttotal: 9.8ms\tremaining: 3m 15s\n"
     ]
    },
    {
     "name": "stderr",
     "output_type": "stream",
     "text": [
      "\u001b[32m[I 2023-01-18 19:46:22,707]\u001b[0m Trial 57 finished with value: 0.9130484089370345 and parameters: {'depth': 5, 'learning_rate': 0.4735312947916189, 'reg_lambda': 30}. Best is trial 11 with value: 0.9561225457007447.\u001b[0m\n"
     ]
    },
    {
     "name": "stdout",
     "output_type": "stream",
     "text": [
      "bestTest = 0.8002542373\n",
      "bestIteration = 16\n",
      "Shrink model to first 17 iterations.\n",
      "========== Fold=1 ==========\n"
     ]
    },
    {
     "name": "stderr",
     "output_type": "stream",
     "text": [
      "Default metric period is 5 because AUC is/are not implemented for GPU\n",
      "AUC is not implemented on GPU. Will use CPU for metric computation, this could significantly affect learning time\n"
     ]
    },
    {
     "name": "stdout",
     "output_type": "stream",
     "text": [
      "0:\ttest: 0.7297720\tbest: 0.7297720 (0)\ttotal: 7.95ms\tremaining: 2m 38s\n",
      "bestTest = 0.8240709459\n",
      "bestIteration = 45\n",
      "Shrink model to first 46 iterations.\n",
      "========== Fold=2 ==========\n"
     ]
    },
    {
     "name": "stderr",
     "output_type": "stream",
     "text": [
      "Default metric period is 5 because AUC is/are not implemented for GPU\n",
      "AUC is not implemented on GPU. Will use CPU for metric computation, this could significantly affect learning time\n"
     ]
    },
    {
     "name": "stdout",
     "output_type": "stream",
     "text": [
      "0:\ttest: 0.7980152\tbest: 0.7980152 (0)\ttotal: 8.09ms\tremaining: 2m 41s\n",
      "bestTest = 0.8347550676\n",
      "bestIteration = 4\n",
      "Shrink model to first 5 iterations.\n",
      "========== Fold=3 ==========\n"
     ]
    },
    {
     "name": "stderr",
     "output_type": "stream",
     "text": [
      "Default metric period is 5 because AUC is/are not implemented for GPU\n",
      "AUC is not implemented on GPU. Will use CPU for metric computation, this could significantly affect learning time\n"
     ]
    },
    {
     "name": "stdout",
     "output_type": "stream",
     "text": [
      "0:\ttest: 0.7762712\tbest: 0.7762712 (0)\ttotal: 8.01ms\tremaining: 2m 40s\n",
      "bestTest = 0.8588983051\n",
      "bestIteration = 68\n",
      "Shrink model to first 69 iterations.\n",
      "========== Fold=4 ==========\n"
     ]
    },
    {
     "name": "stderr",
     "output_type": "stream",
     "text": [
      "Default metric period is 5 because AUC is/are not implemented for GPU\n",
      "AUC is not implemented on GPU. Will use CPU for metric computation, this could significantly affect learning time\n"
     ]
    },
    {
     "name": "stdout",
     "output_type": "stream",
     "text": [
      "0:\ttest: 0.7417797\tbest: 0.7417797 (0)\ttotal: 8.44ms\tremaining: 2m 48s\n",
      "bestTest = 0.8389830508\n",
      "bestIteration = 43\n",
      "Shrink model to first 44 iterations.\n",
      "========== Fold=5 ==========\n"
     ]
    },
    {
     "name": "stderr",
     "output_type": "stream",
     "text": [
      "Default metric period is 5 because AUC is/are not implemented for GPU\n",
      "AUC is not implemented on GPU. Will use CPU for metric computation, this could significantly affect learning time\n"
     ]
    },
    {
     "name": "stdout",
     "output_type": "stream",
     "text": [
      "0:\ttest: 0.7588136\tbest: 0.7588136 (0)\ttotal: 7.86ms\tremaining: 2m 37s\n"
     ]
    },
    {
     "name": "stderr",
     "output_type": "stream",
     "text": [
      "\u001b[32m[I 2023-01-18 19:46:31,706]\u001b[0m Trial 58 finished with value: 0.8998307379823967 and parameters: {'depth': 4, 'learning_rate': 0.5302669127881019, 'reg_lambda': 87}. Best is trial 11 with value: 0.9561225457007447.\u001b[0m\n"
     ]
    },
    {
     "name": "stdout",
     "output_type": "stream",
     "text": [
      "bestTest = 0.8098305085\n",
      "bestIteration = 15\n",
      "Shrink model to first 16 iterations.\n",
      "========== Fold=1 ==========\n"
     ]
    },
    {
     "name": "stderr",
     "output_type": "stream",
     "text": [
      "Default metric period is 5 because AUC is/are not implemented for GPU\n",
      "AUC is not implemented on GPU. Will use CPU for metric computation, this could significantly affect learning time\n"
     ]
    },
    {
     "name": "stdout",
     "output_type": "stream",
     "text": [
      "0:\ttest: 0.7304476\tbest: 0.7304476 (0)\ttotal: 9.53ms\tremaining: 3m 10s\n",
      "bestTest = 0.8540540541\n",
      "bestIteration = 415\n",
      "Shrink model to first 416 iterations.\n",
      "========== Fold=2 ==========\n"
     ]
    },
    {
     "name": "stderr",
     "output_type": "stream",
     "text": [
      "Default metric period is 5 because AUC is/are not implemented for GPU\n",
      "AUC is not implemented on GPU. Will use CPU for metric computation, this could significantly affect learning time\n"
     ]
    },
    {
     "name": "stdout",
     "output_type": "stream",
     "text": [
      "0:\ttest: 0.7930743\tbest: 0.7930743 (0)\ttotal: 8.71ms\tremaining: 2m 54s\n",
      "bestTest = 0.8541385135\n",
      "bestIteration = 205\n",
      "Shrink model to first 206 iterations.\n",
      "========== Fold=3 ==========\n"
     ]
    },
    {
     "name": "stderr",
     "output_type": "stream",
     "text": [
      "Default metric period is 5 because AUC is/are not implemented for GPU\n",
      "AUC is not implemented on GPU. Will use CPU for metric computation, this could significantly affect learning time\n"
     ]
    },
    {
     "name": "stdout",
     "output_type": "stream",
     "text": [
      "0:\ttest: 0.7956780\tbest: 0.7956780 (0)\ttotal: 8.29ms\tremaining: 2m 45s\n",
      "bestTest = 0.8841525424\n",
      "bestIteration = 141\n",
      "Shrink model to first 142 iterations.\n",
      "========== Fold=4 ==========\n"
     ]
    },
    {
     "name": "stderr",
     "output_type": "stream",
     "text": [
      "Default metric period is 5 because AUC is/are not implemented for GPU\n",
      "AUC is not implemented on GPU. Will use CPU for metric computation, this could significantly affect learning time\n"
     ]
    },
    {
     "name": "stdout",
     "output_type": "stream",
     "text": [
      "0:\ttest: 0.7688136\tbest: 0.7688136 (0)\ttotal: 9.73ms\tremaining: 3m 14s\n",
      "bestTest = 0.851440678\n",
      "bestIteration = 71\n",
      "Shrink model to first 72 iterations.\n",
      "========== Fold=5 ==========\n"
     ]
    },
    {
     "name": "stderr",
     "output_type": "stream",
     "text": [
      "Default metric period is 5 because AUC is/are not implemented for GPU\n",
      "AUC is not implemented on GPU. Will use CPU for metric computation, this could significantly affect learning time\n"
     ]
    },
    {
     "name": "stdout",
     "output_type": "stream",
     "text": [
      "0:\ttest: 0.7294492\tbest: 0.7294492 (0)\ttotal: 12.4ms\tremaining: 4m 8s\n"
     ]
    },
    {
     "name": "stderr",
     "output_type": "stream",
     "text": [
      "\u001b[32m[I 2023-01-18 19:46:47,499]\u001b[0m Trial 59 finished with value: 0.9503838862559242 and parameters: {'depth': 5, 'learning_rate': 0.2120271835920597, 'reg_lambda': 52}. Best is trial 11 with value: 0.9561225457007447.\u001b[0m\n"
     ]
    },
    {
     "name": "stdout",
     "output_type": "stream",
     "text": [
      "bestTest = 0.8077118644\n",
      "bestIteration = 51\n",
      "Shrink model to first 52 iterations.\n",
      "========== Fold=1 ==========\n"
     ]
    },
    {
     "name": "stderr",
     "output_type": "stream",
     "text": [
      "Default metric period is 5 because AUC is/are not implemented for GPU\n",
      "AUC is not implemented on GPU. Will use CPU for metric computation, this could significantly affect learning time\n"
     ]
    },
    {
     "name": "stdout",
     "output_type": "stream",
     "text": [
      "0:\ttest: 0.7228041\tbest: 0.7228041 (0)\ttotal: 11.5ms\tremaining: 3m 49s\n",
      "bestTest = 0.8611486486\n",
      "bestIteration = 847\n",
      "Shrink model to first 848 iterations.\n",
      "========== Fold=2 ==========\n"
     ]
    },
    {
     "name": "stderr",
     "output_type": "stream",
     "text": [
      "Default metric period is 5 because AUC is/are not implemented for GPU\n",
      "AUC is not implemented on GPU. Will use CPU for metric computation, this could significantly affect learning time\n"
     ]
    },
    {
     "name": "stdout",
     "output_type": "stream",
     "text": [
      "0:\ttest: 0.7858108\tbest: 0.7858108 (0)\ttotal: 10.4ms\tremaining: 3m 28s\n",
      "bestTest = 0.8458614865\n",
      "bestIteration = 6\n",
      "Shrink model to first 7 iterations.\n",
      "========== Fold=3 ==========\n"
     ]
    },
    {
     "name": "stderr",
     "output_type": "stream",
     "text": [
      "Default metric period is 5 because AUC is/are not implemented for GPU\n",
      "AUC is not implemented on GPU. Will use CPU for metric computation, this could significantly affect learning time\n"
     ]
    },
    {
     "name": "stdout",
     "output_type": "stream",
     "text": [
      "0:\ttest: 0.7891525\tbest: 0.7891525 (0)\ttotal: 9.97ms\tremaining: 3m 19s\n",
      "bestTest = 0.8768644068\n",
      "bestIteration = 239\n",
      "Shrink model to first 240 iterations.\n",
      "========== Fold=4 ==========\n"
     ]
    },
    {
     "name": "stderr",
     "output_type": "stream",
     "text": [
      "Default metric period is 5 because AUC is/are not implemented for GPU\n",
      "AUC is not implemented on GPU. Will use CPU for metric computation, this could significantly affect learning time\n"
     ]
    },
    {
     "name": "stdout",
     "output_type": "stream",
     "text": [
      "0:\ttest: 0.7683475\tbest: 0.7683475 (0)\ttotal: 10.7ms\tremaining: 3m 34s\n",
      "bestTest = 0.8540677966\n",
      "bestIteration = 131\n",
      "Shrink model to first 132 iterations.\n",
      "========== Fold=5 ==========\n"
     ]
    },
    {
     "name": "stderr",
     "output_type": "stream",
     "text": [
      "Default metric period is 5 because AUC is/are not implemented for GPU\n",
      "AUC is not implemented on GPU. Will use CPU for metric computation, this could significantly affect learning time\n"
     ]
    },
    {
     "name": "stdout",
     "output_type": "stream",
     "text": [
      "0:\ttest: 0.7269492\tbest: 0.7269492 (0)\ttotal: 11.3ms\tremaining: 3m 46s\n"
     ]
    },
    {
     "name": "stderr",
     "output_type": "stream",
     "text": [
      "\u001b[32m[I 2023-01-18 19:47:08,723]\u001b[0m Trial 60 finished with value: 0.9249955991875425 and parameters: {'depth': 6, 'learning_rate': 0.10946903959661994, 'reg_lambda': 46}. Best is trial 11 with value: 0.9561225457007447.\u001b[0m\n"
     ]
    },
    {
     "name": "stdout",
     "output_type": "stream",
     "text": [
      "bestTest = 0.8100847458\n",
      "bestIteration = 71\n",
      "Shrink model to first 72 iterations.\n",
      "========== Fold=1 ==========\n"
     ]
    },
    {
     "name": "stderr",
     "output_type": "stream",
     "text": [
      "Default metric period is 5 because AUC is/are not implemented for GPU\n",
      "AUC is not implemented on GPU. Will use CPU for metric computation, this could significantly affect learning time\n"
     ]
    },
    {
     "name": "stdout",
     "output_type": "stream",
     "text": [
      "0:\ttest: 0.7304476\tbest: 0.7304476 (0)\ttotal: 8.51ms\tremaining: 2m 50s\n",
      "bestTest = 0.8120777027\n",
      "bestIteration = 43\n",
      "Shrink model to first 44 iterations.\n",
      "========== Fold=2 ==========\n"
     ]
    },
    {
     "name": "stderr",
     "output_type": "stream",
     "text": [
      "Default metric period is 5 because AUC is/are not implemented for GPU\n",
      "AUC is not implemented on GPU. Will use CPU for metric computation, this could significantly affect learning time\n"
     ]
    },
    {
     "name": "stdout",
     "output_type": "stream",
     "text": [
      "0:\ttest: 0.7930743\tbest: 0.7930743 (0)\ttotal: 8.56ms\tremaining: 2m 51s\n",
      "bestTest = 0.8485641892\n",
      "bestIteration = 120\n",
      "Shrink model to first 121 iterations.\n",
      "========== Fold=3 ==========\n"
     ]
    },
    {
     "name": "stderr",
     "output_type": "stream",
     "text": [
      "Default metric period is 5 because AUC is/are not implemented for GPU\n",
      "AUC is not implemented on GPU. Will use CPU for metric computation, this could significantly affect learning time\n"
     ]
    },
    {
     "name": "stdout",
     "output_type": "stream",
     "text": [
      "0:\ttest: 0.7956780\tbest: 0.7956780 (0)\ttotal: 9.08ms\tremaining: 3m 1s\n",
      "bestTest = 0.8905084746\n",
      "bestIteration = 104\n",
      "Shrink model to first 105 iterations.\n",
      "========== Fold=4 ==========\n"
     ]
    },
    {
     "name": "stderr",
     "output_type": "stream",
     "text": [
      "Default metric period is 5 because AUC is/are not implemented for GPU\n",
      "AUC is not implemented on GPU. Will use CPU for metric computation, this could significantly affect learning time\n"
     ]
    },
    {
     "name": "stdout",
     "output_type": "stream",
     "text": [
      "0:\ttest: 0.7751695\tbest: 0.7751695 (0)\ttotal: 8.35ms\tremaining: 2m 46s\n",
      "bestTest = 0.841440678\n",
      "bestIteration = 137\n",
      "Shrink model to first 138 iterations.\n",
      "========== Fold=5 ==========\n"
     ]
    },
    {
     "name": "stderr",
     "output_type": "stream",
     "text": [
      "Default metric period is 5 because AUC is/are not implemented for GPU\n",
      "AUC is not implemented on GPU. Will use CPU for metric computation, this could significantly affect learning time\n"
     ]
    },
    {
     "name": "stdout",
     "output_type": "stream",
     "text": [
      "0:\ttest: 0.7294492\tbest: 0.7294492 (0)\ttotal: 9.5ms\tremaining: 3m 9s\n"
     ]
    },
    {
     "name": "stderr",
     "output_type": "stream",
     "text": [
      "\u001b[32m[I 2023-01-18 19:47:20,908]\u001b[0m Trial 61 finished with value: 0.9346425186188221 and parameters: {'depth': 5, 'learning_rate': 0.21569468753572288, 'reg_lambda': 51}. Best is trial 11 with value: 0.9561225457007447.\u001b[0m\n"
     ]
    },
    {
     "name": "stdout",
     "output_type": "stream",
     "text": [
      "bestTest = 0.801440678\n",
      "bestIteration = 41\n",
      "Shrink model to first 42 iterations.\n",
      "========== Fold=1 ==========\n"
     ]
    },
    {
     "name": "stderr",
     "output_type": "stream",
     "text": [
      "Default metric period is 5 because AUC is/are not implemented for GPU\n",
      "AUC is not implemented on GPU. Will use CPU for metric computation, this could significantly affect learning time\n"
     ]
    },
    {
     "name": "stdout",
     "output_type": "stream",
     "text": [
      "0:\ttest: 0.7304476\tbest: 0.7304476 (0)\ttotal: 9.45ms\tremaining: 3m 8s\n",
      "bestTest = 0.8474662162\n",
      "bestIteration = 428\n",
      "Shrink model to first 429 iterations.\n",
      "========== Fold=2 ==========\n"
     ]
    },
    {
     "name": "stderr",
     "output_type": "stream",
     "text": [
      "Default metric period is 5 because AUC is/are not implemented for GPU\n",
      "AUC is not implemented on GPU. Will use CPU for metric computation, this could significantly affect learning time\n"
     ]
    },
    {
     "name": "stdout",
     "output_type": "stream",
     "text": [
      "0:\ttest: 0.7930743\tbest: 0.7930743 (0)\ttotal: 9.77ms\tremaining: 3m 15s\n",
      "bestTest = 0.860472973\n",
      "bestIteration = 146\n",
      "Shrink model to first 147 iterations.\n",
      "========== Fold=3 ==========\n"
     ]
    },
    {
     "name": "stderr",
     "output_type": "stream",
     "text": [
      "Default metric period is 5 because AUC is/are not implemented for GPU\n",
      "AUC is not implemented on GPU. Will use CPU for metric computation, this could significantly affect learning time\n"
     ]
    },
    {
     "name": "stdout",
     "output_type": "stream",
     "text": [
      "0:\ttest: 0.7956780\tbest: 0.7956780 (0)\ttotal: 9.23ms\tremaining: 3m 4s\n",
      "bestTest = 0.8765254237\n",
      "bestIteration = 46\n",
      "Shrink model to first 47 iterations.\n",
      "========== Fold=4 ==========\n"
     ]
    },
    {
     "name": "stderr",
     "output_type": "stream",
     "text": [
      "Default metric period is 5 because AUC is/are not implemented for GPU\n",
      "AUC is not implemented on GPU. Will use CPU for metric computation, this could significantly affect learning time\n"
     ]
    },
    {
     "name": "stdout",
     "output_type": "stream",
     "text": [
      "0:\ttest: 0.7688136\tbest: 0.7688136 (0)\ttotal: 8.95ms\tremaining: 2m 59s\n",
      "bestTest = 0.8491525424\n",
      "bestIteration = 40\n",
      "Shrink model to first 41 iterations.\n",
      "========== Fold=5 ==========\n"
     ]
    },
    {
     "name": "stderr",
     "output_type": "stream",
     "text": [
      "Default metric period is 5 because AUC is/are not implemented for GPU\n",
      "AUC is not implemented on GPU. Will use CPU for metric computation, this could significantly affect learning time\n"
     ]
    },
    {
     "name": "stdout",
     "output_type": "stream",
     "text": [
      "0:\ttest: 0.7461864\tbest: 0.7461864 (0)\ttotal: 8.98ms\tremaining: 2m 59s\n"
     ]
    },
    {
     "name": "stderr",
     "output_type": "stream",
     "text": [
      "\u001b[32m[I 2023-01-18 19:47:34,837]\u001b[0m Trial 62 finished with value: 0.9407589708869329 and parameters: {'depth': 5, 'learning_rate': 0.3091454959471164, 'reg_lambda': 54}. Best is trial 11 with value: 0.9561225457007447.\u001b[0m\n"
     ]
    },
    {
     "name": "stdout",
     "output_type": "stream",
     "text": [
      "bestTest = 0.8166101695\n",
      "bestIteration = 26\n",
      "Shrink model to first 27 iterations.\n",
      "========== Fold=1 ==========\n"
     ]
    },
    {
     "name": "stderr",
     "output_type": "stream",
     "text": [
      "Default metric period is 5 because AUC is/are not implemented for GPU\n",
      "AUC is not implemented on GPU. Will use CPU for metric computation, this could significantly affect learning time\n"
     ]
    },
    {
     "name": "stdout",
     "output_type": "stream",
     "text": [
      "0:\ttest: 0.7491132\tbest: 0.7491132 (0)\ttotal: 9.2ms\tremaining: 3m 3s\n"
     ]
    },
    {
     "name": "stderr",
     "output_type": "stream",
     "text": [
      "\u001b[33m[W 2023-01-18 19:47:38,693]\u001b[0m Trial 63 failed because of the following error: KeyboardInterrupt('')\u001b[0m\n",
      "Traceback (most recent call last):\n",
      "  File \"D:\\source\\repos\\venv\\Python310\\lib\\site-packages\\optuna\\study\\_optimize.py\", line 196, in _run_trial\n",
      "    value_or_values = func(trial)\n",
      "  File \"C:\\Users\\ryans\\AppData\\Local\\Temp\\ipykernel_41780\\2026104365.py\", line 46, in objective_v2\n",
      "    reg, roc_auc = train_model(reg, X_train, y_train, X_valid, y_valid)\n",
      "  File \"C:\\Users\\ryans\\AppData\\Local\\Temp\\ipykernel_41780\\2026104365.py\", line 17, in train_model\n",
      "    reg.fit(X_train, y_train, eval_set=(X_valid, y_valid), early_stopping_rounds=100, verbose=1000)\n",
      "  File \"D:\\source\\repos\\venv\\Python310\\lib\\site-packages\\catboost\\core.py\", line 5730, in fit\n",
      "    return self._fit(X, y, cat_features, text_features, embedding_features, None, sample_weight, None, None, None, None, baseline,\n",
      "  File \"D:\\source\\repos\\venv\\Python310\\lib\\site-packages\\catboost\\core.py\", line 2355, in _fit\n",
      "    self._train(\n",
      "  File \"D:\\source\\repos\\venv\\Python310\\lib\\site-packages\\catboost\\core.py\", line 1759, in _train\n",
      "    self._object._train(train_pool, test_pool, params, allow_clear_pool, init_model._object if init_model else None)\n",
      "  File \"_catboost.pyx\", line 4623, in _catboost._CatBoost._train\n",
      "  File \"_catboost.pyx\", line 4672, in _catboost._CatBoost._train\n",
      "KeyboardInterrupt\n"
     ]
    },
    {
     "ename": "KeyboardInterrupt",
     "evalue": "",
     "output_type": "error",
     "traceback": [
      "\u001b[1;31m---------------------------------------------------------------------------\u001b[0m",
      "\u001b[1;31mKeyboardInterrupt\u001b[0m                         Traceback (most recent call last)",
      "Cell \u001b[1;32mIn[10], line 2\u001b[0m\n\u001b[0;32m      1\u001b[0m study \u001b[38;5;241m=\u001b[39m optuna\u001b[38;5;241m.\u001b[39mcreate_study(direction\u001b[38;5;241m=\u001b[39m\u001b[38;5;124m'\u001b[39m\u001b[38;5;124mmaximize\u001b[39m\u001b[38;5;124m'\u001b[39m, sampler\u001b[38;5;241m=\u001b[39mTPESampler(), study_name\u001b[38;5;241m=\u001b[39mobjective)\n\u001b[1;32m----> 2\u001b[0m \u001b[43mstudy\u001b[49m\u001b[38;5;241;43m.\u001b[39;49m\u001b[43moptimize\u001b[49m\u001b[43m(\u001b[49m\u001b[43mobjective_v2\u001b[49m\u001b[43m,\u001b[49m\u001b[43m \u001b[49m\u001b[43mtimeout\u001b[49m\u001b[38;5;241;43m=\u001b[39;49m\u001b[43mtrain_time\u001b[49m\u001b[43m)\u001b[49m\n",
      "File \u001b[1;32mD:\\source\\repos\\venv\\Python310\\lib\\site-packages\\optuna\\study\\study.py:419\u001b[0m, in \u001b[0;36mStudy.optimize\u001b[1;34m(self, func, n_trials, timeout, n_jobs, catch, callbacks, gc_after_trial, show_progress_bar)\u001b[0m\n\u001b[0;32m    315\u001b[0m \u001b[38;5;28;01mdef\u001b[39;00m \u001b[38;5;21moptimize\u001b[39m(\n\u001b[0;32m    316\u001b[0m     \u001b[38;5;28mself\u001b[39m,\n\u001b[0;32m    317\u001b[0m     func: ObjectiveFuncType,\n\u001b[1;32m   (...)\u001b[0m\n\u001b[0;32m    324\u001b[0m     show_progress_bar: \u001b[38;5;28mbool\u001b[39m \u001b[38;5;241m=\u001b[39m \u001b[38;5;28;01mFalse\u001b[39;00m,\n\u001b[0;32m    325\u001b[0m ) \u001b[38;5;241m-\u001b[39m\u001b[38;5;241m>\u001b[39m \u001b[38;5;28;01mNone\u001b[39;00m:\n\u001b[0;32m    326\u001b[0m     \u001b[38;5;124;03m\"\"\"Optimize an objective function.\u001b[39;00m\n\u001b[0;32m    327\u001b[0m \n\u001b[0;32m    328\u001b[0m \u001b[38;5;124;03m    Optimization is done by choosing a suitable set of hyperparameter values from a given\u001b[39;00m\n\u001b[1;32m   (...)\u001b[0m\n\u001b[0;32m    416\u001b[0m \u001b[38;5;124;03m            If nested invocation of this method occurs.\u001b[39;00m\n\u001b[0;32m    417\u001b[0m \u001b[38;5;124;03m    \"\"\"\u001b[39;00m\n\u001b[1;32m--> 419\u001b[0m     \u001b[43m_optimize\u001b[49m\u001b[43m(\u001b[49m\n\u001b[0;32m    420\u001b[0m \u001b[43m        \u001b[49m\u001b[43mstudy\u001b[49m\u001b[38;5;241;43m=\u001b[39;49m\u001b[38;5;28;43mself\u001b[39;49m\u001b[43m,\u001b[49m\n\u001b[0;32m    421\u001b[0m \u001b[43m        \u001b[49m\u001b[43mfunc\u001b[49m\u001b[38;5;241;43m=\u001b[39;49m\u001b[43mfunc\u001b[49m\u001b[43m,\u001b[49m\n\u001b[0;32m    422\u001b[0m \u001b[43m        \u001b[49m\u001b[43mn_trials\u001b[49m\u001b[38;5;241;43m=\u001b[39;49m\u001b[43mn_trials\u001b[49m\u001b[43m,\u001b[49m\n\u001b[0;32m    423\u001b[0m \u001b[43m        \u001b[49m\u001b[43mtimeout\u001b[49m\u001b[38;5;241;43m=\u001b[39;49m\u001b[43mtimeout\u001b[49m\u001b[43m,\u001b[49m\n\u001b[0;32m    424\u001b[0m \u001b[43m        \u001b[49m\u001b[43mn_jobs\u001b[49m\u001b[38;5;241;43m=\u001b[39;49m\u001b[43mn_jobs\u001b[49m\u001b[43m,\u001b[49m\n\u001b[0;32m    425\u001b[0m \u001b[43m        \u001b[49m\u001b[43mcatch\u001b[49m\u001b[38;5;241;43m=\u001b[39;49m\u001b[43mcatch\u001b[49m\u001b[43m,\u001b[49m\n\u001b[0;32m    426\u001b[0m \u001b[43m        \u001b[49m\u001b[43mcallbacks\u001b[49m\u001b[38;5;241;43m=\u001b[39;49m\u001b[43mcallbacks\u001b[49m\u001b[43m,\u001b[49m\n\u001b[0;32m    427\u001b[0m \u001b[43m        \u001b[49m\u001b[43mgc_after_trial\u001b[49m\u001b[38;5;241;43m=\u001b[39;49m\u001b[43mgc_after_trial\u001b[49m\u001b[43m,\u001b[49m\n\u001b[0;32m    428\u001b[0m \u001b[43m        \u001b[49m\u001b[43mshow_progress_bar\u001b[49m\u001b[38;5;241;43m=\u001b[39;49m\u001b[43mshow_progress_bar\u001b[49m\u001b[43m,\u001b[49m\n\u001b[0;32m    429\u001b[0m \u001b[43m    \u001b[49m\u001b[43m)\u001b[49m\n",
      "File \u001b[1;32mD:\\source\\repos\\venv\\Python310\\lib\\site-packages\\optuna\\study\\_optimize.py:66\u001b[0m, in \u001b[0;36m_optimize\u001b[1;34m(study, func, n_trials, timeout, n_jobs, catch, callbacks, gc_after_trial, show_progress_bar)\u001b[0m\n\u001b[0;32m     64\u001b[0m \u001b[38;5;28;01mtry\u001b[39;00m:\n\u001b[0;32m     65\u001b[0m     \u001b[38;5;28;01mif\u001b[39;00m n_jobs \u001b[38;5;241m==\u001b[39m \u001b[38;5;241m1\u001b[39m:\n\u001b[1;32m---> 66\u001b[0m         \u001b[43m_optimize_sequential\u001b[49m\u001b[43m(\u001b[49m\n\u001b[0;32m     67\u001b[0m \u001b[43m            \u001b[49m\u001b[43mstudy\u001b[49m\u001b[43m,\u001b[49m\n\u001b[0;32m     68\u001b[0m \u001b[43m            \u001b[49m\u001b[43mfunc\u001b[49m\u001b[43m,\u001b[49m\n\u001b[0;32m     69\u001b[0m \u001b[43m            \u001b[49m\u001b[43mn_trials\u001b[49m\u001b[43m,\u001b[49m\n\u001b[0;32m     70\u001b[0m \u001b[43m            \u001b[49m\u001b[43mtimeout\u001b[49m\u001b[43m,\u001b[49m\n\u001b[0;32m     71\u001b[0m \u001b[43m            \u001b[49m\u001b[43mcatch\u001b[49m\u001b[43m,\u001b[49m\n\u001b[0;32m     72\u001b[0m \u001b[43m            \u001b[49m\u001b[43mcallbacks\u001b[49m\u001b[43m,\u001b[49m\n\u001b[0;32m     73\u001b[0m \u001b[43m            \u001b[49m\u001b[43mgc_after_trial\u001b[49m\u001b[43m,\u001b[49m\n\u001b[0;32m     74\u001b[0m \u001b[43m            \u001b[49m\u001b[43mreseed_sampler_rng\u001b[49m\u001b[38;5;241;43m=\u001b[39;49m\u001b[38;5;28;43;01mFalse\u001b[39;49;00m\u001b[43m,\u001b[49m\n\u001b[0;32m     75\u001b[0m \u001b[43m            \u001b[49m\u001b[43mtime_start\u001b[49m\u001b[38;5;241;43m=\u001b[39;49m\u001b[38;5;28;43;01mNone\u001b[39;49;00m\u001b[43m,\u001b[49m\n\u001b[0;32m     76\u001b[0m \u001b[43m            \u001b[49m\u001b[43mprogress_bar\u001b[49m\u001b[38;5;241;43m=\u001b[39;49m\u001b[43mprogress_bar\u001b[49m\u001b[43m,\u001b[49m\n\u001b[0;32m     77\u001b[0m \u001b[43m        \u001b[49m\u001b[43m)\u001b[49m\n\u001b[0;32m     78\u001b[0m     \u001b[38;5;28;01melse\u001b[39;00m:\n\u001b[0;32m     79\u001b[0m         \u001b[38;5;28;01mif\u001b[39;00m n_jobs \u001b[38;5;241m==\u001b[39m \u001b[38;5;241m-\u001b[39m\u001b[38;5;241m1\u001b[39m:\n",
      "File \u001b[1;32mD:\\source\\repos\\venv\\Python310\\lib\\site-packages\\optuna\\study\\_optimize.py:160\u001b[0m, in \u001b[0;36m_optimize_sequential\u001b[1;34m(study, func, n_trials, timeout, catch, callbacks, gc_after_trial, reseed_sampler_rng, time_start, progress_bar)\u001b[0m\n\u001b[0;32m    157\u001b[0m         \u001b[38;5;28;01mbreak\u001b[39;00m\n\u001b[0;32m    159\u001b[0m \u001b[38;5;28;01mtry\u001b[39;00m:\n\u001b[1;32m--> 160\u001b[0m     frozen_trial \u001b[38;5;241m=\u001b[39m \u001b[43m_run_trial\u001b[49m\u001b[43m(\u001b[49m\u001b[43mstudy\u001b[49m\u001b[43m,\u001b[49m\u001b[43m \u001b[49m\u001b[43mfunc\u001b[49m\u001b[43m,\u001b[49m\u001b[43m \u001b[49m\u001b[43mcatch\u001b[49m\u001b[43m)\u001b[49m\n\u001b[0;32m    161\u001b[0m \u001b[38;5;28;01mfinally\u001b[39;00m:\n\u001b[0;32m    162\u001b[0m     \u001b[38;5;66;03m# The following line mitigates memory problems that can be occurred in some\u001b[39;00m\n\u001b[0;32m    163\u001b[0m     \u001b[38;5;66;03m# environments (e.g., services that use computing containers such as CircleCI).\u001b[39;00m\n\u001b[0;32m    164\u001b[0m     \u001b[38;5;66;03m# Please refer to the following PR for further details:\u001b[39;00m\n\u001b[0;32m    165\u001b[0m     \u001b[38;5;66;03m# https://github.com/optuna/optuna/pull/325.\u001b[39;00m\n\u001b[0;32m    166\u001b[0m     \u001b[38;5;28;01mif\u001b[39;00m gc_after_trial:\n",
      "File \u001b[1;32mD:\\source\\repos\\venv\\Python310\\lib\\site-packages\\optuna\\study\\_optimize.py:234\u001b[0m, in \u001b[0;36m_run_trial\u001b[1;34m(study, func, catch)\u001b[0m\n\u001b[0;32m    227\u001b[0m         \u001b[38;5;28;01massert\u001b[39;00m \u001b[38;5;28;01mFalse\u001b[39;00m, \u001b[38;5;124m\"\u001b[39m\u001b[38;5;124mShould not reach.\u001b[39m\u001b[38;5;124m\"\u001b[39m\n\u001b[0;32m    229\u001b[0m \u001b[38;5;28;01mif\u001b[39;00m (\n\u001b[0;32m    230\u001b[0m     frozen_trial\u001b[38;5;241m.\u001b[39mstate \u001b[38;5;241m==\u001b[39m TrialState\u001b[38;5;241m.\u001b[39mFAIL\n\u001b[0;32m    231\u001b[0m     \u001b[38;5;129;01mand\u001b[39;00m func_err \u001b[38;5;129;01mis\u001b[39;00m \u001b[38;5;129;01mnot\u001b[39;00m \u001b[38;5;28;01mNone\u001b[39;00m\n\u001b[0;32m    232\u001b[0m     \u001b[38;5;129;01mand\u001b[39;00m \u001b[38;5;129;01mnot\u001b[39;00m \u001b[38;5;28misinstance\u001b[39m(func_err, catch)\n\u001b[0;32m    233\u001b[0m ):\n\u001b[1;32m--> 234\u001b[0m     \u001b[38;5;28;01mraise\u001b[39;00m func_err\n\u001b[0;32m    235\u001b[0m \u001b[38;5;28;01mreturn\u001b[39;00m frozen_trial\n",
      "File \u001b[1;32mD:\\source\\repos\\venv\\Python310\\lib\\site-packages\\optuna\\study\\_optimize.py:196\u001b[0m, in \u001b[0;36m_run_trial\u001b[1;34m(study, func, catch)\u001b[0m\n\u001b[0;32m    194\u001b[0m \u001b[38;5;28;01mwith\u001b[39;00m get_heartbeat_thread(trial\u001b[38;5;241m.\u001b[39m_trial_id, study\u001b[38;5;241m.\u001b[39m_storage):\n\u001b[0;32m    195\u001b[0m     \u001b[38;5;28;01mtry\u001b[39;00m:\n\u001b[1;32m--> 196\u001b[0m         value_or_values \u001b[38;5;241m=\u001b[39m \u001b[43mfunc\u001b[49m\u001b[43m(\u001b[49m\u001b[43mtrial\u001b[49m\u001b[43m)\u001b[49m\n\u001b[0;32m    197\u001b[0m     \u001b[38;5;28;01mexcept\u001b[39;00m exceptions\u001b[38;5;241m.\u001b[39mTrialPruned \u001b[38;5;28;01mas\u001b[39;00m e:\n\u001b[0;32m    198\u001b[0m         \u001b[38;5;66;03m# TODO(mamu): Handle multi-objective cases.\u001b[39;00m\n\u001b[0;32m    199\u001b[0m         state \u001b[38;5;241m=\u001b[39m TrialState\u001b[38;5;241m.\u001b[39mPRUNED\n",
      "Cell \u001b[1;32mIn[9], line 46\u001b[0m, in \u001b[0;36mobjective_v2\u001b[1;34m(trial)\u001b[0m\n\u001b[0;32m     43\u001b[0m     y_train , y_valid \u001b[38;5;241m=\u001b[39m train_df[target]\u001b[38;5;241m.\u001b[39miloc[train_idx] , train_df[target]\u001b[38;5;241m.\u001b[39miloc[valid_idx] \n\u001b[0;32m     45\u001b[0m     reg \u001b[38;5;241m=\u001b[39m render_model(param_grid)\n\u001b[1;32m---> 46\u001b[0m     reg, roc_auc \u001b[38;5;241m=\u001b[39m \u001b[43mtrain_model\u001b[49m\u001b[43m(\u001b[49m\u001b[43mreg\u001b[49m\u001b[43m,\u001b[49m\u001b[43m \u001b[49m\u001b[43mX_train\u001b[49m\u001b[43m,\u001b[49m\u001b[43m \u001b[49m\u001b[43my_train\u001b[49m\u001b[43m,\u001b[49m\u001b[43m \u001b[49m\u001b[43mX_valid\u001b[49m\u001b[43m,\u001b[49m\u001b[43m \u001b[49m\u001b[43my_valid\u001b[49m\u001b[43m)\u001b[49m\n\u001b[0;32m     48\u001b[0m     scores\u001b[38;5;241m.\u001b[39mappend(roc_auc)\n\u001b[0;32m     49\u001b[0m mean_scores \u001b[38;5;241m=\u001b[39m np\u001b[38;5;241m.\u001b[39mmean(scores)\n",
      "Cell \u001b[1;32mIn[9], line 17\u001b[0m, in \u001b[0;36mtrain_model\u001b[1;34m(reg, X_train, y_train, X_valid, y_valid)\u001b[0m\n\u001b[0;32m     16\u001b[0m \u001b[38;5;28;01mdef\u001b[39;00m \u001b[38;5;21mtrain_model\u001b[39m(reg, X_train, y_train, X_valid, y_valid):\n\u001b[1;32m---> 17\u001b[0m     \u001b[43mreg\u001b[49m\u001b[38;5;241;43m.\u001b[39;49m\u001b[43mfit\u001b[49m\u001b[43m(\u001b[49m\u001b[43mX_train\u001b[49m\u001b[43m,\u001b[49m\u001b[43m \u001b[49m\u001b[43my_train\u001b[49m\u001b[43m,\u001b[49m\u001b[43m \u001b[49m\u001b[43meval_set\u001b[49m\u001b[38;5;241;43m=\u001b[39;49m\u001b[43m(\u001b[49m\u001b[43mX_valid\u001b[49m\u001b[43m,\u001b[49m\u001b[43m \u001b[49m\u001b[43my_valid\u001b[49m\u001b[43m)\u001b[49m\u001b[43m,\u001b[49m\u001b[43m \u001b[49m\u001b[43mearly_stopping_rounds\u001b[49m\u001b[38;5;241;43m=\u001b[39;49m\u001b[38;5;241;43m100\u001b[39;49m\u001b[43m,\u001b[49m\u001b[43m \u001b[49m\u001b[43mverbose\u001b[49m\u001b[38;5;241;43m=\u001b[39;49m\u001b[38;5;241;43m1000\u001b[39;49m\u001b[43m)\u001b[49m\n\u001b[0;32m     19\u001b[0m     preds \u001b[38;5;241m=\u001b[39m reg\u001b[38;5;241m.\u001b[39mpredict(train_df[features])\n\u001b[0;32m     20\u001b[0m     fpr, tpr, _ \u001b[38;5;241m=\u001b[39m roc_curve(train_df[target], preds)\n",
      "File \u001b[1;32mD:\\source\\repos\\venv\\Python310\\lib\\site-packages\\catboost\\core.py:5730\u001b[0m, in \u001b[0;36mCatBoostRegressor.fit\u001b[1;34m(self, X, y, cat_features, text_features, embedding_features, sample_weight, baseline, use_best_model, eval_set, verbose, logging_level, plot, plot_file, column_description, verbose_eval, metric_period, silent, early_stopping_rounds, save_snapshot, snapshot_file, snapshot_interval, init_model, callbacks, log_cout, log_cerr)\u001b[0m\n\u001b[0;32m   5727\u001b[0m \u001b[38;5;28;01mif\u001b[39;00m \u001b[38;5;124m'\u001b[39m\u001b[38;5;124mloss_function\u001b[39m\u001b[38;5;124m'\u001b[39m \u001b[38;5;129;01min\u001b[39;00m params:\n\u001b[0;32m   5728\u001b[0m     CatBoostRegressor\u001b[38;5;241m.\u001b[39m_check_is_compatible_loss(params[\u001b[38;5;124m'\u001b[39m\u001b[38;5;124mloss_function\u001b[39m\u001b[38;5;124m'\u001b[39m])\n\u001b[1;32m-> 5730\u001b[0m \u001b[38;5;28;01mreturn\u001b[39;00m \u001b[38;5;28;43mself\u001b[39;49m\u001b[38;5;241;43m.\u001b[39;49m\u001b[43m_fit\u001b[49m\u001b[43m(\u001b[49m\u001b[43mX\u001b[49m\u001b[43m,\u001b[49m\u001b[43m \u001b[49m\u001b[43my\u001b[49m\u001b[43m,\u001b[49m\u001b[43m \u001b[49m\u001b[43mcat_features\u001b[49m\u001b[43m,\u001b[49m\u001b[43m \u001b[49m\u001b[43mtext_features\u001b[49m\u001b[43m,\u001b[49m\u001b[43m \u001b[49m\u001b[43membedding_features\u001b[49m\u001b[43m,\u001b[49m\u001b[43m \u001b[49m\u001b[38;5;28;43;01mNone\u001b[39;49;00m\u001b[43m,\u001b[49m\u001b[43m \u001b[49m\u001b[43msample_weight\u001b[49m\u001b[43m,\u001b[49m\u001b[43m \u001b[49m\u001b[38;5;28;43;01mNone\u001b[39;49;00m\u001b[43m,\u001b[49m\u001b[43m \u001b[49m\u001b[38;5;28;43;01mNone\u001b[39;49;00m\u001b[43m,\u001b[49m\u001b[43m \u001b[49m\u001b[38;5;28;43;01mNone\u001b[39;49;00m\u001b[43m,\u001b[49m\u001b[43m \u001b[49m\u001b[38;5;28;43;01mNone\u001b[39;49;00m\u001b[43m,\u001b[49m\u001b[43m \u001b[49m\u001b[43mbaseline\u001b[49m\u001b[43m,\u001b[49m\n\u001b[0;32m   5731\u001b[0m \u001b[43m                 \u001b[49m\u001b[43muse_best_model\u001b[49m\u001b[43m,\u001b[49m\u001b[43m \u001b[49m\u001b[43meval_set\u001b[49m\u001b[43m,\u001b[49m\u001b[43m \u001b[49m\u001b[43mverbose\u001b[49m\u001b[43m,\u001b[49m\u001b[43m \u001b[49m\u001b[43mlogging_level\u001b[49m\u001b[43m,\u001b[49m\u001b[43m \u001b[49m\u001b[43mplot\u001b[49m\u001b[43m,\u001b[49m\u001b[43m \u001b[49m\u001b[43mplot_file\u001b[49m\u001b[43m,\u001b[49m\u001b[43m \u001b[49m\u001b[43mcolumn_description\u001b[49m\u001b[43m,\u001b[49m\n\u001b[0;32m   5732\u001b[0m \u001b[43m                 \u001b[49m\u001b[43mverbose_eval\u001b[49m\u001b[43m,\u001b[49m\u001b[43m \u001b[49m\u001b[43mmetric_period\u001b[49m\u001b[43m,\u001b[49m\u001b[43m \u001b[49m\u001b[43msilent\u001b[49m\u001b[43m,\u001b[49m\u001b[43m \u001b[49m\u001b[43mearly_stopping_rounds\u001b[49m\u001b[43m,\u001b[49m\n\u001b[0;32m   5733\u001b[0m \u001b[43m                 \u001b[49m\u001b[43msave_snapshot\u001b[49m\u001b[43m,\u001b[49m\u001b[43m \u001b[49m\u001b[43msnapshot_file\u001b[49m\u001b[43m,\u001b[49m\u001b[43m \u001b[49m\u001b[43msnapshot_interval\u001b[49m\u001b[43m,\u001b[49m\u001b[43m \u001b[49m\u001b[43minit_model\u001b[49m\u001b[43m,\u001b[49m\u001b[43m \u001b[49m\u001b[43mcallbacks\u001b[49m\u001b[43m,\u001b[49m\u001b[43m \u001b[49m\u001b[43mlog_cout\u001b[49m\u001b[43m,\u001b[49m\u001b[43m \u001b[49m\u001b[43mlog_cerr\u001b[49m\u001b[43m)\u001b[49m\n",
      "File \u001b[1;32mD:\\source\\repos\\venv\\Python310\\lib\\site-packages\\catboost\\core.py:2355\u001b[0m, in \u001b[0;36mCatBoost._fit\u001b[1;34m(self, X, y, cat_features, text_features, embedding_features, pairs, sample_weight, group_id, group_weight, subgroup_id, pairs_weight, baseline, use_best_model, eval_set, verbose, logging_level, plot, plot_file, column_description, verbose_eval, metric_period, silent, early_stopping_rounds, save_snapshot, snapshot_file, snapshot_interval, init_model, callbacks, log_cout, log_cerr)\u001b[0m\n\u001b[0;32m   2351\u001b[0m allow_clear_pool \u001b[38;5;241m=\u001b[39m train_params[\u001b[38;5;124m\"\u001b[39m\u001b[38;5;124mallow_clear_pool\u001b[39m\u001b[38;5;124m\"\u001b[39m]\n\u001b[0;32m   2353\u001b[0m \u001b[38;5;28;01mwith\u001b[39;00m log_fixup(log_cout, log_cerr), \\\n\u001b[0;32m   2354\u001b[0m     plot_wrapper(plot, plot_file, \u001b[38;5;124m'\u001b[39m\u001b[38;5;124mTraining plots\u001b[39m\u001b[38;5;124m'\u001b[39m, [_get_train_dir(\u001b[38;5;28mself\u001b[39m\u001b[38;5;241m.\u001b[39mget_params())]):\n\u001b[1;32m-> 2355\u001b[0m     \u001b[38;5;28;43mself\u001b[39;49m\u001b[38;5;241;43m.\u001b[39;49m\u001b[43m_train\u001b[49m\u001b[43m(\u001b[49m\n\u001b[0;32m   2356\u001b[0m \u001b[43m        \u001b[49m\u001b[43mtrain_pool\u001b[49m\u001b[43m,\u001b[49m\n\u001b[0;32m   2357\u001b[0m \u001b[43m        \u001b[49m\u001b[43mtrain_params\u001b[49m\u001b[43m[\u001b[49m\u001b[38;5;124;43m\"\u001b[39;49m\u001b[38;5;124;43meval_sets\u001b[39;49m\u001b[38;5;124;43m\"\u001b[39;49m\u001b[43m]\u001b[49m\u001b[43m,\u001b[49m\n\u001b[0;32m   2358\u001b[0m \u001b[43m        \u001b[49m\u001b[43mparams\u001b[49m\u001b[43m,\u001b[49m\n\u001b[0;32m   2359\u001b[0m \u001b[43m        \u001b[49m\u001b[43mallow_clear_pool\u001b[49m\u001b[43m,\u001b[49m\n\u001b[0;32m   2360\u001b[0m \u001b[43m        \u001b[49m\u001b[43mtrain_params\u001b[49m\u001b[43m[\u001b[49m\u001b[38;5;124;43m\"\u001b[39;49m\u001b[38;5;124;43minit_model\u001b[39;49m\u001b[38;5;124;43m\"\u001b[39;49m\u001b[43m]\u001b[49m\n\u001b[0;32m   2361\u001b[0m \u001b[43m    \u001b[49m\u001b[43m)\u001b[49m\n\u001b[0;32m   2363\u001b[0m \u001b[38;5;66;03m# Have property feature_importance possibly set\u001b[39;00m\n\u001b[0;32m   2364\u001b[0m loss \u001b[38;5;241m=\u001b[39m \u001b[38;5;28mself\u001b[39m\u001b[38;5;241m.\u001b[39m_object\u001b[38;5;241m.\u001b[39m_get_loss_function_name()\n",
      "File \u001b[1;32mD:\\source\\repos\\venv\\Python310\\lib\\site-packages\\catboost\\core.py:1759\u001b[0m, in \u001b[0;36m_CatBoostBase._train\u001b[1;34m(self, train_pool, test_pool, params, allow_clear_pool, init_model)\u001b[0m\n\u001b[0;32m   1758\u001b[0m \u001b[38;5;28;01mdef\u001b[39;00m \u001b[38;5;21m_train\u001b[39m(\u001b[38;5;28mself\u001b[39m, train_pool, test_pool, params, allow_clear_pool, init_model):\n\u001b[1;32m-> 1759\u001b[0m     \u001b[38;5;28;43mself\u001b[39;49m\u001b[38;5;241;43m.\u001b[39;49m\u001b[43m_object\u001b[49m\u001b[38;5;241;43m.\u001b[39;49m\u001b[43m_train\u001b[49m\u001b[43m(\u001b[49m\u001b[43mtrain_pool\u001b[49m\u001b[43m,\u001b[49m\u001b[43m \u001b[49m\u001b[43mtest_pool\u001b[49m\u001b[43m,\u001b[49m\u001b[43m \u001b[49m\u001b[43mparams\u001b[49m\u001b[43m,\u001b[49m\u001b[43m \u001b[49m\u001b[43mallow_clear_pool\u001b[49m\u001b[43m,\u001b[49m\u001b[43m \u001b[49m\u001b[43minit_model\u001b[49m\u001b[38;5;241;43m.\u001b[39;49m\u001b[43m_object\u001b[49m\u001b[43m \u001b[49m\u001b[38;5;28;43;01mif\u001b[39;49;00m\u001b[43m \u001b[49m\u001b[43minit_model\u001b[49m\u001b[43m \u001b[49m\u001b[38;5;28;43;01melse\u001b[39;49;00m\u001b[43m \u001b[49m\u001b[38;5;28;43;01mNone\u001b[39;49;00m\u001b[43m)\u001b[49m\n\u001b[0;32m   1760\u001b[0m     \u001b[38;5;28mself\u001b[39m\u001b[38;5;241m.\u001b[39m_set_trained_model_attributes()\n",
      "File \u001b[1;32m_catboost.pyx:4623\u001b[0m, in \u001b[0;36m_catboost._CatBoost._train\u001b[1;34m()\u001b[0m\n",
      "File \u001b[1;32m_catboost.pyx:4672\u001b[0m, in \u001b[0;36m_catboost._CatBoost._train\u001b[1;34m()\u001b[0m\n",
      "\u001b[1;31mKeyboardInterrupt\u001b[0m: "
     ]
    }
   ],
   "source": [
    "study = optuna.create_study(direction='maximize', sampler=TPESampler(), study_name=objective)\n",
    "study.optimize(objective_v2, timeout=train_time)"
   ]
  },
  {
   "cell_type": "code",
   "execution_count": 11,
   "id": "e8c311ac-1682-4fef-b5cb-738cf81f8e89",
   "metadata": {
    "tags": []
   },
   "outputs": [],
   "source": [
    "parm_grid_bytes = pickle.dumps(param_grid_history)\n",
    "with open(f\"rendered_data/{objective}_bytes.hex\", \"wb\") as binary_file:\n",
    "    binary_file.write(parm_grid_bytes)"
   ]
  },
  {
   "cell_type": "code",
   "execution_count": 12,
   "id": "1c611044-b83b-42bc-8ea0-f34bf0ec3782",
   "metadata": {},
   "outputs": [
    {
     "name": "stderr",
     "output_type": "stream",
     "text": [
      "  0%|                                                                                            | 0/1 [00:00<?, ?it/s]"
     ]
    },
    {
     "name": "stdout",
     "output_type": "stream",
     "text": [
      "========== FINAL TRAINING Fold=1 ==========\n"
     ]
    },
    {
     "name": "stderr",
     "output_type": "stream",
     "text": [
      "Default metric period is 5 because AUC is/are not implemented for GPU\n",
      "AUC is not implemented on GPU. Will use CPU for metric computation, this could significantly affect learning time\n"
     ]
    },
    {
     "name": "stdout",
     "output_type": "stream",
     "text": [
      "0:\ttest: 0.7692145\tbest: 0.7692145 (0)\ttotal: 8.92ms\tremaining: 2m 58s\n",
      "bestTest = 0.8530405405\n",
      "bestIteration = 83\n",
      "Shrink model to first 84 iterations.\n",
      "========== FINAL TRAINING Fold=2 ==========\n"
     ]
    },
    {
     "name": "stderr",
     "output_type": "stream",
     "text": [
      "Default metric period is 5 because AUC is/are not implemented for GPU\n",
      "AUC is not implemented on GPU. Will use CPU for metric computation, this could significantly affect learning time\n"
     ]
    },
    {
     "name": "stdout",
     "output_type": "stream",
     "text": [
      "0:\ttest: 0.7967905\tbest: 0.7967905 (0)\ttotal: 9.01ms\tremaining: 3m\n",
      "bestTest = 0.8374155405\n",
      "bestIteration = 85\n",
      "Shrink model to first 86 iterations.\n",
      "========== FINAL TRAINING Fold=3 ==========\n"
     ]
    },
    {
     "name": "stderr",
     "output_type": "stream",
     "text": [
      "Default metric period is 5 because AUC is/are not implemented for GPU\n",
      "AUC is not implemented on GPU. Will use CPU for metric computation, this could significantly affect learning time\n"
     ]
    },
    {
     "name": "stdout",
     "output_type": "stream",
     "text": [
      "0:\ttest: 0.7972034\tbest: 0.7972034 (0)\ttotal: 9.13ms\tremaining: 3m 2s\n",
      "bestTest = 0.8668644068\n",
      "bestIteration = 97\n",
      "Shrink model to first 98 iterations.\n",
      "========== FINAL TRAINING Fold=4 ==========\n"
     ]
    },
    {
     "name": "stderr",
     "output_type": "stream",
     "text": [
      "Default metric period is 5 because AUC is/are not implemented for GPU\n",
      "AUC is not implemented on GPU. Will use CPU for metric computation, this could significantly affect learning time\n"
     ]
    },
    {
     "name": "stdout",
     "output_type": "stream",
     "text": [
      "0:\ttest: 0.7751695\tbest: 0.7751695 (0)\ttotal: 8.75ms\tremaining: 2m 54s\n",
      "bestTest = 0.8530508475\n",
      "bestIteration = 26\n",
      "Shrink model to first 27 iterations.\n",
      "========== FINAL TRAINING Fold=5 ==========\n"
     ]
    },
    {
     "name": "stderr",
     "output_type": "stream",
     "text": [
      "Default metric period is 5 because AUC is/are not implemented for GPU\n",
      "AUC is not implemented on GPU. Will use CPU for metric computation, this could significantly affect learning time\n"
     ]
    },
    {
     "name": "stdout",
     "output_type": "stream",
     "text": [
      "0:\ttest: 0.7536864\tbest: 0.7536864 (0)\ttotal: 8.29ms\tremaining: 2m 45s\n"
     ]
    },
    {
     "name": "stderr",
     "output_type": "stream",
     "text": [
      "100%|████████████████████████████████████████████████████████████████████████████████████| 1/1 [00:10<00:00, 10.56s/it]"
     ]
    },
    {
     "name": "stdout",
     "output_type": "stream",
     "text": [
      "bestTest = 0.8105084746\n",
      "bestIteration = 28\n",
      "Shrink model to first 29 iterations.\n"
     ]
    },
    {
     "name": "stderr",
     "output_type": "stream",
     "text": [
      "\n"
     ]
    }
   ],
   "source": [
    "def train(param_grid):\n",
    "    reg = render_model(param_grid)\n",
    "    skf = StratifiedKFold(n_splits=FOLDS, shuffle=True, random_state=RANDOM_STATE)\n",
    "    for fold, (train_idx, valid_idx) in enumerate(skf.split(train_df[features], train_df[target])):\n",
    "        print(10*\"=\", f\"FINAL TRAINING Fold={fold+1}\", 10*\"=\")\n",
    "        X_train, X_valid = train_df.iloc[train_idx][features], train_df.iloc[valid_idx][features]\n",
    "        y_train , y_valid = train_df[target].iloc[train_idx] , train_df[target].iloc[valid_idx] \n",
    "        reg, roc_auc = train_model(reg, X_train, y_train, X_valid, y_valid)\n",
    "    return reg\n",
    "\n",
    "percent = math.ceil(len(param_grid_history.keys()) * .1)\n",
    "top = sorted(list(param_grid_history.keys()))[-1:]\n",
    "\n",
    "train_preds = []\n",
    "test_preds = []\n",
    "for key in tqdm(top):\n",
    "    model = train(param_grid_history[key])\n",
    "    train_preds.append(model.predict(train_df[features]))\n",
    "    test_preds.append(model.predict(test_df[features]))\n",
    "\n",
    "train_final_preds = np.stack(train_preds).mean(0)\n",
    "test_final_preds = np.stack(test_preds).mean(0)"
   ]
  },
  {
   "cell_type": "code",
   "execution_count": 13,
   "id": "31a813da-1308-4125-9c61-6516e81ebedf",
   "metadata": {},
   "outputs": [],
   "source": [
    "train_submission = pd.DataFrame(data={'id': train_df.index, target[0]: train_final_preds})\n",
    "train_submission.to_csv(fr'rendered_data/{objective}_train_submission.csv', index=False)\n",
    "\n",
    "test_submission = pd.DataFrame(data={'id': test_df.index, target[0]: test_final_preds})\n",
    "test_submission.to_csv(fr'rendered_data/{objective}_test_submission.csv', index=False)"
   ]
  },
  {
   "cell_type": "code",
   "execution_count": null,
   "id": "37c55386-36e0-47a8-9ad6-7b5e903565d8",
   "metadata": {},
   "outputs": [],
   "source": []
  }
 ],
 "metadata": {
  "kernelspec": {
   "display_name": "Python 3 (ipykernel)",
   "language": "python",
   "name": "python3"
  },
  "language_info": {
   "codemirror_mode": {
    "name": "ipython",
    "version": 3
   },
   "file_extension": ".py",
   "mimetype": "text/x-python",
   "name": "python",
   "nbconvert_exporter": "python",
   "pygments_lexer": "ipython3",
   "version": "3.10.9"
  }
 },
 "nbformat": 4,
 "nbformat_minor": 5
}
