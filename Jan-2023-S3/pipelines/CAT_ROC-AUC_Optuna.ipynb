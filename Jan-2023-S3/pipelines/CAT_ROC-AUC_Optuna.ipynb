{
 "cells": [
  {
   "cell_type": "code",
   "execution_count": 1,
   "id": "0ea2173c-c725-48a2-9f4b-0760d06f5369",
   "metadata": {},
   "outputs": [],
   "source": [
    "import numpy as np\n",
    "import pandas as pd\n",
    "import math\n",
    "import sys, os\n",
    "#import seaborn as sns\n",
    "#from scipy import stats\n",
    "#from pathlib import Path\n",
    "#import matplotlib.pyplot as plt\n",
    "#from sklearn.model_selection import KFold\n",
    "from sklearn.preprocessing import MinMaxScaler\n",
    "from sklearn.model_selection import train_test_split\n",
    "#from sklearn.metrics import mean_squared_error\n",
    "#from sklearn.metrics import mean_squared_error\n",
    "#from sklearn.preprocessing import MinMaxScaler\n",
    "#from sklearn.datasets import fetch_california_housing\n",
    "#import math\n",
    "from tqdm import tqdm\n",
    "from sklearn.feature_extraction.text import CountVectorizer\n",
    "import optuna\n",
    "from optuna.samplers import TPESampler\n",
    "#import lightgbm as lbgm\n",
    "#from xgboost import XGBRegressor\n",
    "#import xgboost as xgb\n",
    "from catboost import CatBoostRegressor\n",
    "#from lightgbm.sklearn import lbgmRegressor\n",
    "#from sklearn.ensemble import RandomForestRegressor\n",
    "import pickle\n",
    "from sklearn.metrics import roc_curve, auc\n",
    "from sklearn.model_selection import StratifiedKFold\n",
    "from sklearn.metrics import roc_auc_score"
   ]
  },
  {
   "cell_type": "code",
   "execution_count": 2,
   "id": "8f0f95fb-df8e-48fd-8966-c5da8cd6aa8d",
   "metadata": {},
   "outputs": [],
   "source": [
    "train_time = 1 * 60 * 60\n",
    "objective = 'catregressor'"
   ]
  },
  {
   "cell_type": "code",
   "execution_count": 3,
   "id": "f4b3963c-3958-4512-945d-66cd855e2958",
   "metadata": {},
   "outputs": [],
   "source": [
    "sys.path.append(os.path.realpath('..'))"
   ]
  },
  {
   "cell_type": "code",
   "execution_count": 4,
   "id": "fb0c1a5f-5d8d-4051-b6cc-d50eb8f48296",
   "metadata": {},
   "outputs": [],
   "source": [
    "train_df = pd.read_csv(r\"..\\data\\train.csv\", index_col=0)\n",
    "test_df = pd.read_csv(r\"..\\data\\test.csv\", index_col=0)\n",
    "sample_sub = pd.read_csv(r\"..\\data\\sample_submission.csv\", index_col=0)"
   ]
  },
  {
   "cell_type": "code",
   "execution_count": 5,
   "id": "19146116-cccc-4b54-b014-5d86fbb25802",
   "metadata": {},
   "outputs": [],
   "source": [
    "del train_df['Over18']\n",
    "del train_df['EmployeeCount']\n",
    "del train_df['StandardHours']"
   ]
  },
  {
   "cell_type": "code",
   "execution_count": 6,
   "id": "4f91fca1-73d2-46a2-be27-255acb201292",
   "metadata": {},
   "outputs": [
    {
     "name": "stdout",
     "output_type": "stream",
     "text": [
      "BusinessTravel\n",
      "Department\n",
      "EducationField\n",
      "Gender\n",
      "JobRole\n",
      "MaritalStatus\n",
      "OverTime\n"
     ]
    }
   ],
   "source": [
    "columns_to_vectorize = ['BusinessTravel', 'Department', 'EducationField', 'Gender', 'JobRole', 'MaritalStatus', 'OverTime']\n",
    "for vector_target in columns_to_vectorize:\n",
    "    print(vector_target)\n",
    "    vectorizer = CountVectorizer()\n",
    "    vectorizer.fit_transform(train_df[vector_target])\n",
    "    train_df[f'{vector_target}_v'] = vectorizer.transform(train_df[vector_target]).toarray().argmax(axis=1)[:,None]\n",
    "    vectorizer.fit_transform(test_df[vector_target])\n",
    "    test_df[f'{vector_target}_v'] = vectorizer.transform(test_df[vector_target]).toarray().argmax(axis=1)[:,None]"
   ]
  },
  {
   "cell_type": "code",
   "execution_count": 7,
   "id": "bf47c0d1-7407-41ee-8f49-b483c295621a",
   "metadata": {},
   "outputs": [],
   "source": [
    "features = ['Age', 'DailyRate', 'DistanceFromHome', 'Education', 'EnvironmentSatisfaction','HourlyRate', 'JobInvolvement', 'JobLevel', 'JobSatisfaction', \n",
    "       'MonthlyIncome', 'MonthlyRate', 'NumCompaniesWorked', 'PercentSalaryHike', 'PerformanceRating', 'RelationshipSatisfaction', 'StockOptionLevel', 'TotalWorkingYears',\n",
    "       'TrainingTimesLastYear', 'WorkLifeBalance', 'YearsAtCompany', 'YearsInCurrentRole', 'YearsSinceLastPromotion', 'YearsWithCurrManager',\n",
    "        'BusinessTravel_v', 'Department_v', 'EducationField_v','Gender_v', 'JobRole_v', 'MaritalStatus_v', 'OverTime_v']\n",
    "target = ['Attrition']"
   ]
  },
  {
   "cell_type": "code",
   "execution_count": 8,
   "id": "0b6f3634-fc77-4995-a975-a905a599e16f",
   "metadata": {},
   "outputs": [],
   "source": [
    "scaler = MinMaxScaler().fit(train_df[features])\n",
    "X = scaler.transform(train_df[features])\n",
    "X_test = scaler.transform(test_df[features])\n",
    "\n",
    "scaler = MinMaxScaler().fit(train_df[target])\n",
    "Y = scaler.transform(train_df[target])"
   ]
  },
  {
   "cell_type": "code",
   "execution_count": 9,
   "id": "1ca53f18-a11e-476f-a87a-93c34f0e6ce3",
   "metadata": {},
   "outputs": [],
   "source": [
    "RANDOM_STATE = 12 \n",
    "FOLDS = 5\n",
    "param_grid_history = {}\n",
    "\n",
    "def render_model(param_grid):\n",
    "    reg = CatBoostRegressor(iterations=20000,\n",
    "                            **param_grid,\n",
    "                            bootstrap_type='Bernoulli',\n",
    "                            grow_policy='SymmetricTree',\n",
    "                            #loss_function='Logloss',\n",
    "                            eval_metric='AUC',\n",
    "                            task_type=\"GPU\",\n",
    "                            random_state=1,)\n",
    "    return reg\n",
    "    \n",
    "def train_model(reg, X_train, y_train, X_valid, y_valid):\n",
    "    reg.fit(X_train, y_train, eval_set=(X_valid, y_valid), early_stopping_rounds=100, verbose=1000)\n",
    "\n",
    "    preds = reg.predict(train_df[features])\n",
    "    fpr, tpr, _ = roc_curve(train_df[target], preds)\n",
    "    roc_auc = auc(fpr, tpr)\n",
    "    return reg, roc_auc\n",
    "\n",
    "def objective_v2(trial):\n",
    "    scores = []\n",
    "    param_grid = {\n",
    "        'depth': trial.suggest_int('depth', 3, 6),\n",
    "        'learning_rate': trial.suggest_float('learning_rate', 0.001, 0.9),\n",
    "        #'rsm': trial.suggest_float('rsm', 0.001, 0.9),\n",
    "        #'subsample': trial.suggest_float('subsample', 0.1, 1),\n",
    "        #'min_data_in_leaf': trial.suggest_int('min_data_in_leaf', 1, 100), \n",
    "        #'one_hot_max_size': trial.suggest_int('one_hot_max_size', 1, 100), \n",
    "        #'l2_leaf_reg': trial.suggest_float('l2_leaf_reg', 0.01, 20),\n",
    "        'reg_lambda': trial.suggest_int('reg_lambda', 30, 100), \n",
    "        #'random_strength': trial.suggest_float('random_strength', 0.001, 0.9),\n",
    "        #'colsample_bylevel': trial.suggest_float('colsample_bylevel', 0.001, 0.9),\n",
    "    } \n",
    "        \n",
    "    skf = StratifiedKFold(n_splits=FOLDS, shuffle=True, random_state=RANDOM_STATE)\n",
    "    for fold, (train_idx, valid_idx) in enumerate(skf.split(X, Y)):\n",
    "        print(10*\"=\", f\"Fold={fold+1}\", 10*\"=\")\n",
    "        X_train, X_valid = train_df.iloc[train_idx][features], train_df.iloc[valid_idx][features]\n",
    "        y_train , y_valid = train_df[target].iloc[train_idx] , train_df[target].iloc[valid_idx] \n",
    "        \n",
    "        reg = render_model(param_grid)\n",
    "        reg, roc_auc = train_model(reg, X_train, y_train, X_valid, y_valid)\n",
    "\n",
    "        scores.append(roc_auc)\n",
    "    mean_scores = np.mean(scores)\n",
    "    param_grid_history[mean_scores] = param_grid\n",
    "\n",
    "    return mean_scores"
   ]
  },
  {
   "cell_type": "code",
   "execution_count": 10,
   "id": "0f2c49b6-91ef-4215-9a4f-65a4f3885c21",
   "metadata": {},
   "outputs": [],
   "source": [
    "RANDOM_STATE = 12 \n",
    "FOLDS = 5\n",
    "param_grid_history = {}\n",
    "\n",
    "\n",
    "def objective_v3(trial):\n",
    "    oof = np.zeros(len(X))\n",
    "    scores = []\n",
    "    param_grid = {\n",
    "        'depth': trial.suggest_int('depth', 3, 8),\n",
    "        'learning_rate': trial.suggest_float('learning_rate', 0.001, 0.9),\n",
    "        #'rsm': trial.suggest_float('rsm', 0.001, 0.9),\n",
    "        #'subsample': trial.suggest_float('subsample', 0.1, 1),\n",
    "        #'min_data_in_leaf': trial.suggest_int('min_data_in_leaf', 1, 100), \n",
    "        #'one_hot_max_size': trial.suggest_int('one_hot_max_size', 1, 100), \n",
    "        #'l2_leaf_reg': trial.suggest_float('l2_leaf_reg', 0.01, 20),\n",
    "        'reg_lambda': trial.suggest_int('reg_lambda', 1, 5), \n",
    "        #'random_strength': trial.suggest_float('random_strength', 0.001, 0.9),\n",
    "        #'colsample_bylevel': trial.suggest_float('colsample_bylevel', 0.001, 0.9),\n",
    "    } \n",
    "        \n",
    "    skf = StratifiedKFold(n_splits=FOLDS, shuffle=True, random_state=RANDOM_STATE)\n",
    "    for fold, (train_idx, valid_idx) in enumerate(skf.split(X, Y)):\n",
    "        print(10*\"=\", f\"Fold={fold+1}\", 10*\"=\")\n",
    "        X_train, X_valid = train_df.iloc[train_idx][features], train_df.iloc[valid_idx][features]\n",
    "        y_train , y_valid = train_df[target].iloc[train_idx] , train_df[target].iloc[valid_idx] \n",
    "        \n",
    "        reg = CatBoostRegressor(iterations=20000,\n",
    "                            **param_grid,\n",
    "                            bootstrap_type='Bernoulli',\n",
    "                            grow_policy='SymmetricTree',\n",
    "                            #loss_function='Logloss',\n",
    "                            eval_metric='AUC',\n",
    "                            task_type=\"GPU\",\n",
    "                            random_state=1,)\n",
    "\n",
    "        reg.fit(X_train, y_train, eval_set=(X_valid, y_valid), early_stopping_rounds=100, verbose=1000)\n",
    "            \n",
    "        oof[valid_idx] = reg.predict(X_valid)\n",
    "\n",
    "    roc_auc = roc_auc_score(Y, oof)\n",
    "    \n",
    "    param_grid_history[roc_auc] = param_grid\n",
    "\n",
    "    return roc_auc"
   ]
  },
  {
   "cell_type": "code",
   "execution_count": 11,
   "id": "4466b24c-6898-4186-818f-3d3013bee5d4",
   "metadata": {
    "collapsed": true,
    "jupyter": {
     "outputs_hidden": true
    },
    "tags": []
   },
   "outputs": [
    {
     "name": "stderr",
     "output_type": "stream",
     "text": [
      "\u001b[32m[I 2023-01-19 20:41:11,377]\u001b[0m A new study created in memory with name: catregressor\u001b[0m\n"
     ]
    },
    {
     "name": "stdout",
     "output_type": "stream",
     "text": [
      "========== Fold=1 ==========\n"
     ]
    },
    {
     "name": "stderr",
     "output_type": "stream",
     "text": [
      "Default metric period is 5 because AUC is/are not implemented for GPU\n",
      "AUC is not implemented on GPU. Will use CPU for metric computation, this could significantly affect learning time\n"
     ]
    },
    {
     "name": "stdout",
     "output_type": "stream",
     "text": [
      "0:\ttest: 0.7139780\tbest: 0.7139780 (0)\ttotal: 10.7ms\tremaining: 3m 34s\n",
      "bestTest = 0.8431587838\n",
      "bestIteration = 214\n",
      "Shrink model to first 215 iterations.\n",
      "========== Fold=2 ==========\n"
     ]
    },
    {
     "name": "stderr",
     "output_type": "stream",
     "text": [
      "Default metric period is 5 because AUC is/are not implemented for GPU\n",
      "AUC is not implemented on GPU. Will use CPU for metric computation, this could significantly affect learning time\n"
     ]
    },
    {
     "name": "stdout",
     "output_type": "stream",
     "text": [
      "0:\ttest: 0.7758868\tbest: 0.7758868 (0)\ttotal: 21.6ms\tremaining: 7m 12s\n",
      "bestTest = 0.8363175676\n",
      "bestIteration = 62\n",
      "Shrink model to first 63 iterations.\n",
      "========== Fold=3 ==========\n"
     ]
    },
    {
     "name": "stderr",
     "output_type": "stream",
     "text": [
      "Default metric period is 5 because AUC is/are not implemented for GPU\n",
      "AUC is not implemented on GPU. Will use CPU for metric computation, this could significantly affect learning time\n"
     ]
    },
    {
     "name": "stdout",
     "output_type": "stream",
     "text": [
      "0:\ttest: 0.7762288\tbest: 0.7762288 (0)\ttotal: 30.4ms\tremaining: 10m 8s\n",
      "bestTest = 0.8711016949\n",
      "bestIteration = 40\n",
      "Shrink model to first 41 iterations.\n",
      "========== Fold=4 ==========\n"
     ]
    },
    {
     "name": "stderr",
     "output_type": "stream",
     "text": [
      "Default metric period is 5 because AUC is/are not implemented for GPU\n",
      "AUC is not implemented on GPU. Will use CPU for metric computation, this could significantly affect learning time\n"
     ]
    },
    {
     "name": "stdout",
     "output_type": "stream",
     "text": [
      "0:\ttest: 0.7415678\tbest: 0.7415678 (0)\ttotal: 28.6ms\tremaining: 9m 32s\n",
      "bestTest = 0.8543220339\n",
      "bestIteration = 48\n",
      "Shrink model to first 49 iterations.\n",
      "========== Fold=5 ==========\n"
     ]
    },
    {
     "name": "stderr",
     "output_type": "stream",
     "text": [
      "Default metric period is 5 because AUC is/are not implemented for GPU\n",
      "AUC is not implemented on GPU. Will use CPU for metric computation, this could significantly affect learning time\n"
     ]
    },
    {
     "name": "stdout",
     "output_type": "stream",
     "text": [
      "0:\ttest: 0.7250424\tbest: 0.7250424 (0)\ttotal: 22.4ms\tremaining: 7m 28s\n"
     ]
    },
    {
     "name": "stderr",
     "output_type": "stream",
     "text": [
      "\u001b[32m[I 2023-01-19 20:41:31,815]\u001b[0m Trial 0 finished with value: 0.8387406905890319 and parameters: {'depth': 3, 'learning_rate': 0.4731483508100777, 'reg_lambda': 65}. Best is trial 0 with value: 0.8387406905890319.\u001b[0m\n"
     ]
    },
    {
     "name": "stdout",
     "output_type": "stream",
     "text": [
      "bestTest = 0.813559322\n",
      "bestIteration = 22\n",
      "Shrink model to first 23 iterations.\n",
      "========== Fold=1 ==========\n"
     ]
    },
    {
     "name": "stderr",
     "output_type": "stream",
     "text": [
      "Default metric period is 5 because AUC is/are not implemented for GPU\n",
      "AUC is not implemented on GPU. Will use CPU for metric computation, this could significantly affect learning time\n"
     ]
    },
    {
     "name": "stdout",
     "output_type": "stream",
     "text": [
      "0:\ttest: 0.7222973\tbest: 0.7222973 (0)\ttotal: 28.9ms\tremaining: 9m 38s\n",
      "bestTest = 0.8168918919\n",
      "bestIteration = 120\n",
      "Shrink model to first 121 iterations.\n",
      "========== Fold=2 ==========\n"
     ]
    },
    {
     "name": "stderr",
     "output_type": "stream",
     "text": [
      "Default metric period is 5 because AUC is/are not implemented for GPU\n",
      "AUC is not implemented on GPU. Will use CPU for metric computation, this could significantly affect learning time\n"
     ]
    },
    {
     "name": "stdout",
     "output_type": "stream",
     "text": [
      "0:\ttest: 0.7858108\tbest: 0.7858108 (0)\ttotal: 16.5ms\tremaining: 5m 30s\n",
      "bestTest = 0.8419763514\n",
      "bestIteration = 12\n",
      "Shrink model to first 13 iterations.\n",
      "========== Fold=3 ==========\n"
     ]
    },
    {
     "name": "stderr",
     "output_type": "stream",
     "text": [
      "Default metric period is 5 because AUC is/are not implemented for GPU\n",
      "AUC is not implemented on GPU. Will use CPU for metric computation, this could significantly affect learning time\n"
     ]
    },
    {
     "name": "stdout",
     "output_type": "stream",
     "text": [
      "0:\ttest: 0.7629237\tbest: 0.7629237 (0)\ttotal: 27.5ms\tremaining: 9m 10s\n",
      "bestTest = 0.8740677966\n",
      "bestIteration = 62\n",
      "Shrink model to first 63 iterations.\n",
      "========== Fold=4 ==========\n"
     ]
    },
    {
     "name": "stderr",
     "output_type": "stream",
     "text": [
      "Default metric period is 5 because AUC is/are not implemented for GPU\n",
      "AUC is not implemented on GPU. Will use CPU for metric computation, this could significantly affect learning time\n"
     ]
    },
    {
     "name": "stdout",
     "output_type": "stream",
     "text": [
      "0:\ttest: 0.7731356\tbest: 0.7731356 (0)\ttotal: 30ms\tremaining: 10m\n",
      "bestTest = 0.8136440678\n",
      "bestIteration = 101\n",
      "Shrink model to first 102 iterations.\n",
      "========== Fold=5 ==========\n"
     ]
    },
    {
     "name": "stderr",
     "output_type": "stream",
     "text": [
      "Default metric period is 5 because AUC is/are not implemented for GPU\n",
      "AUC is not implemented on GPU. Will use CPU for metric computation, this could significantly affect learning time\n"
     ]
    },
    {
     "name": "stdout",
     "output_type": "stream",
     "text": [
      "0:\ttest: 0.7438559\tbest: 0.7438559 (0)\ttotal: 26.8ms\tremaining: 8m 56s\n"
     ]
    },
    {
     "name": "stderr",
     "output_type": "stream",
     "text": [
      "\u001b[32m[I 2023-01-19 20:41:56,594]\u001b[0m Trial 1 finished with value: 0.8195463777928232 and parameters: {'depth': 6, 'learning_rate': 0.40975086141095635, 'reg_lambda': 74}. Best is trial 0 with value: 0.8387406905890319.\u001b[0m\n"
     ]
    },
    {
     "name": "stdout",
     "output_type": "stream",
     "text": [
      "bestTest = 0.7777118644\n",
      "bestIteration = 83\n",
      "Shrink model to first 84 iterations.\n",
      "========== Fold=1 ==========\n"
     ]
    },
    {
     "name": "stderr",
     "output_type": "stream",
     "text": [
      "Default metric period is 5 because AUC is/are not implemented for GPU\n",
      "AUC is not implemented on GPU. Will use CPU for metric computation, this could significantly affect learning time\n"
     ]
    },
    {
     "name": "stdout",
     "output_type": "stream",
     "text": [
      "0:\ttest: 0.7584037\tbest: 0.7584037 (0)\ttotal: 35.2ms\tremaining: 11m 44s\n",
      "bestTest = 0.8347972973\n",
      "bestIteration = 85\n",
      "Shrink model to first 86 iterations.\n",
      "========== Fold=2 ==========\n"
     ]
    },
    {
     "name": "stderr",
     "output_type": "stream",
     "text": [
      "Default metric period is 5 because AUC is/are not implemented for GPU\n",
      "AUC is not implemented on GPU. Will use CPU for metric computation, this could significantly affect learning time\n"
     ]
    },
    {
     "name": "stdout",
     "output_type": "stream",
     "text": [
      "0:\ttest: 0.8019003\tbest: 0.8019003 (0)\ttotal: 11.1ms\tremaining: 3m 42s\n",
      "bestTest = 0.8456081081\n",
      "bestIteration = 29\n",
      "Shrink model to first 30 iterations.\n",
      "========== Fold=3 ==========\n"
     ]
    },
    {
     "name": "stderr",
     "output_type": "stream",
     "text": [
      "Default metric period is 5 because AUC is/are not implemented for GPU\n",
      "AUC is not implemented on GPU. Will use CPU for metric computation, this could significantly affect learning time\n"
     ]
    },
    {
     "name": "stdout",
     "output_type": "stream",
     "text": [
      "0:\ttest: 0.7951695\tbest: 0.7951695 (0)\ttotal: 23ms\tremaining: 7m 40s\n",
      "bestTest = 0.8650847458\n",
      "bestIteration = 17\n",
      "Shrink model to first 18 iterations.\n",
      "========== Fold=4 ==========\n"
     ]
    },
    {
     "name": "stderr",
     "output_type": "stream",
     "text": [
      "Default metric period is 5 because AUC is/are not implemented for GPU\n",
      "AUC is not implemented on GPU. Will use CPU for metric computation, this could significantly affect learning time\n"
     ]
    },
    {
     "name": "stdout",
     "output_type": "stream",
     "text": [
      "0:\ttest: 0.7762712\tbest: 0.7762712 (0)\ttotal: 22.6ms\tremaining: 7m 32s\n",
      "bestTest = 0.848220339\n",
      "bestIteration = 13\n",
      "Shrink model to first 14 iterations.\n",
      "========== Fold=5 ==========\n"
     ]
    },
    {
     "name": "stderr",
     "output_type": "stream",
     "text": [
      "Default metric period is 5 because AUC is/are not implemented for GPU\n",
      "AUC is not implemented on GPU. Will use CPU for metric computation, this could significantly affect learning time\n"
     ]
    },
    {
     "name": "stdout",
     "output_type": "stream",
     "text": [
      "0:\ttest: 0.7653814\tbest: 0.7653814 (0)\ttotal: 23ms\tremaining: 7m 39s\n"
     ]
    },
    {
     "name": "stderr",
     "output_type": "stream",
     "text": [
      "\u001b[32m[I 2023-01-19 20:42:13,019]\u001b[0m Trial 2 finished with value: 0.8343432633716994 and parameters: {'depth': 4, 'learning_rate': 0.554816871686278, 'reg_lambda': 31}. Best is trial 0 with value: 0.8387406905890319.\u001b[0m\n"
     ]
    },
    {
     "name": "stdout",
     "output_type": "stream",
     "text": [
      "bestTest = 0.7983050847\n",
      "bestIteration = 10\n",
      "Shrink model to first 11 iterations.\n",
      "========== Fold=1 ==========\n"
     ]
    },
    {
     "name": "stderr",
     "output_type": "stream",
     "text": [
      "Default metric period is 5 because AUC is/are not implemented for GPU\n",
      "AUC is not implemented on GPU. Will use CPU for metric computation, this could significantly affect learning time\n"
     ]
    },
    {
     "name": "stdout",
     "output_type": "stream",
     "text": [
      "0:\ttest: 0.7139780\tbest: 0.7139780 (0)\ttotal: 21.7ms\tremaining: 7m 13s\n",
      "bestTest = 0.8284628378\n",
      "bestIteration = 178\n",
      "Shrink model to first 179 iterations.\n",
      "========== Fold=2 ==========\n"
     ]
    },
    {
     "name": "stderr",
     "output_type": "stream",
     "text": [
      "Default metric period is 5 because AUC is/are not implemented for GPU\n",
      "AUC is not implemented on GPU. Will use CPU for metric computation, this could significantly affect learning time\n"
     ]
    },
    {
     "name": "stdout",
     "output_type": "stream",
     "text": [
      "0:\ttest: 0.7758868\tbest: 0.7758868 (0)\ttotal: 21.9ms\tremaining: 7m 17s\n",
      "bestTest = 0.8494087838\n",
      "bestIteration = 53\n",
      "Shrink model to first 54 iterations.\n",
      "========== Fold=3 ==========\n"
     ]
    },
    {
     "name": "stderr",
     "output_type": "stream",
     "text": [
      "Default metric period is 5 because AUC is/are not implemented for GPU\n",
      "AUC is not implemented on GPU. Will use CPU for metric computation, this could significantly affect learning time\n"
     ]
    },
    {
     "name": "stdout",
     "output_type": "stream",
     "text": [
      "0:\ttest: 0.7762288\tbest: 0.7762288 (0)\ttotal: 21.5ms\tremaining: 7m 10s\n",
      "bestTest = 0.8683050847\n",
      "bestIteration = 91\n",
      "Shrink model to first 92 iterations.\n",
      "========== Fold=4 ==========\n"
     ]
    },
    {
     "name": "stderr",
     "output_type": "stream",
     "text": [
      "Default metric period is 5 because AUC is/are not implemented for GPU\n",
      "AUC is not implemented on GPU. Will use CPU for metric computation, this could significantly affect learning time\n"
     ]
    },
    {
     "name": "stdout",
     "output_type": "stream",
     "text": [
      "0:\ttest: 0.7415678\tbest: 0.7415678 (0)\ttotal: 20.3ms\tremaining: 6m 45s\n",
      "bestTest = 0.8505084746\n",
      "bestIteration = 52\n",
      "Shrink model to first 53 iterations.\n",
      "========== Fold=5 ==========\n"
     ]
    },
    {
     "name": "stderr",
     "output_type": "stream",
     "text": [
      "Default metric period is 5 because AUC is/are not implemented for GPU\n",
      "AUC is not implemented on GPU. Will use CPU for metric computation, this could significantly affect learning time\n"
     ]
    },
    {
     "name": "stdout",
     "output_type": "stream",
     "text": [
      "0:\ttest: 0.7250424\tbest: 0.7250424 (0)\ttotal: 19.8ms\tremaining: 6m 36s\n"
     ]
    },
    {
     "name": "stderr",
     "output_type": "stream",
     "text": [
      "\u001b[32m[I 2023-01-19 20:42:33,144]\u001b[0m Trial 3 finished with value: 0.832714962762356 and parameters: {'depth': 3, 'learning_rate': 0.39254226553543137, 'reg_lambda': 80}. Best is trial 0 with value: 0.8387406905890319.\u001b[0m\n"
     ]
    },
    {
     "name": "stdout",
     "output_type": "stream",
     "text": [
      "bestTest = 0.7870338983\n",
      "bestIteration = 41\n",
      "Shrink model to first 42 iterations.\n",
      "========== Fold=1 ==========\n"
     ]
    },
    {
     "name": "stderr",
     "output_type": "stream",
     "text": [
      "Default metric period is 5 because AUC is/are not implemented for GPU\n",
      "AUC is not implemented on GPU. Will use CPU for metric computation, this could significantly affect learning time\n"
     ]
    },
    {
     "name": "stdout",
     "output_type": "stream",
     "text": [
      "0:\ttest: 0.7284206\tbest: 0.7284206 (0)\ttotal: 24.8ms\tremaining: 8m 15s\n",
      "bestTest = 0.8261824324\n",
      "bestIteration = 54\n",
      "Shrink model to first 55 iterations.\n",
      "========== Fold=2 ==========\n"
     ]
    },
    {
     "name": "stderr",
     "output_type": "stream",
     "text": [
      "Default metric period is 5 because AUC is/are not implemented for GPU\n",
      "AUC is not implemented on GPU. Will use CPU for metric computation, this could significantly affect learning time\n"
     ]
    },
    {
     "name": "stdout",
     "output_type": "stream",
     "text": [
      "0:\ttest: 0.7930743\tbest: 0.7930743 (0)\ttotal: 16.9ms\tremaining: 5m 38s\n",
      "bestTest = 0.8233952703\n",
      "bestIteration = 3\n",
      "Shrink model to first 4 iterations.\n",
      "========== Fold=3 ==========\n"
     ]
    },
    {
     "name": "stderr",
     "output_type": "stream",
     "text": [
      "Default metric period is 5 because AUC is/are not implemented for GPU\n",
      "AUC is not implemented on GPU. Will use CPU for metric computation, this could significantly affect learning time\n"
     ]
    },
    {
     "name": "stdout",
     "output_type": "stream",
     "text": [
      "0:\ttest: 0.7629237\tbest: 0.7629237 (0)\ttotal: 24.6ms\tremaining: 8m 11s\n",
      "bestTest = 0.8676271186\n",
      "bestIteration = 52\n",
      "Shrink model to first 53 iterations.\n",
      "========== Fold=4 ==========\n"
     ]
    },
    {
     "name": "stderr",
     "output_type": "stream",
     "text": [
      "Default metric period is 5 because AUC is/are not implemented for GPU\n",
      "AUC is not implemented on GPU. Will use CPU for metric computation, this could significantly affect learning time\n"
     ]
    },
    {
     "name": "stdout",
     "output_type": "stream",
     "text": [
      "0:\ttest: 0.7319492\tbest: 0.7319492 (0)\ttotal: 11.3ms\tremaining: 3m 45s\n",
      "bestTest = 0.8426271186\n",
      "bestIteration = 78\n",
      "Shrink model to first 79 iterations.\n",
      "========== Fold=5 ==========\n"
     ]
    },
    {
     "name": "stderr",
     "output_type": "stream",
     "text": [
      "Default metric period is 5 because AUC is/are not implemented for GPU\n",
      "AUC is not implemented on GPU. Will use CPU for metric computation, this could significantly affect learning time\n"
     ]
    },
    {
     "name": "stdout",
     "output_type": "stream",
     "text": [
      "0:\ttest: 0.7683051\tbest: 0.7683051 (0)\ttotal: 11.7ms\tremaining: 3m 54s\n"
     ]
    },
    {
     "name": "stderr",
     "output_type": "stream",
     "text": [
      "\u001b[32m[I 2023-01-19 20:42:51,582]\u001b[0m Trial 4 finished with value: 0.8250846310088017 and parameters: {'depth': 5, 'learning_rate': 0.4453474229628028, 'reg_lambda': 97}. Best is trial 0 with value: 0.8387406905890319.\u001b[0m\n"
     ]
    },
    {
     "name": "stdout",
     "output_type": "stream",
     "text": [
      "bestTest = 0.8051694915\n",
      "bestIteration = 16\n",
      "Shrink model to first 17 iterations.\n",
      "========== Fold=1 ==========\n"
     ]
    },
    {
     "name": "stderr",
     "output_type": "stream",
     "text": [
      "Default metric period is 5 because AUC is/are not implemented for GPU\n",
      "AUC is not implemented on GPU. Will use CPU for metric computation, this could significantly affect learning time\n"
     ]
    },
    {
     "name": "stdout",
     "output_type": "stream",
     "text": [
      "0:\ttest: 0.7297720\tbest: 0.7297720 (0)\ttotal: 22.6ms\tremaining: 7m 31s\n",
      "bestTest = 0.8075168919\n",
      "bestIteration = 51\n",
      "Shrink model to first 52 iterations.\n",
      "========== Fold=2 ==========\n"
     ]
    },
    {
     "name": "stderr",
     "output_type": "stream",
     "text": [
      "Default metric period is 5 because AUC is/are not implemented for GPU\n",
      "AUC is not implemented on GPU. Will use CPU for metric computation, this could significantly affect learning time\n"
     ]
    },
    {
     "name": "stdout",
     "output_type": "stream",
     "text": [
      "0:\ttest: 0.7980152\tbest: 0.7980152 (0)\ttotal: 13.8ms\tremaining: 4m 35s\n",
      "bestTest = 0.8222550676\n",
      "bestIteration = 13\n",
      "Shrink model to first 14 iterations.\n",
      "========== Fold=3 ==========\n"
     ]
    },
    {
     "name": "stderr",
     "output_type": "stream",
     "text": [
      "Default metric period is 5 because AUC is/are not implemented for GPU\n",
      "AUC is not implemented on GPU. Will use CPU for metric computation, this could significantly affect learning time\n"
     ]
    },
    {
     "name": "stdout",
     "output_type": "stream",
     "text": [
      "0:\ttest: 0.7762712\tbest: 0.7762712 (0)\ttotal: 22.5ms\tremaining: 7m 30s\n",
      "bestTest = 0.8821186441\n",
      "bestIteration = 60\n",
      "Shrink model to first 61 iterations.\n",
      "========== Fold=4 ==========\n"
     ]
    },
    {
     "name": "stderr",
     "output_type": "stream",
     "text": [
      "Default metric period is 5 because AUC is/are not implemented for GPU\n",
      "AUC is not implemented on GPU. Will use CPU for metric computation, this could significantly affect learning time\n"
     ]
    },
    {
     "name": "stdout",
     "output_type": "stream",
     "text": [
      "0:\ttest: 0.7794915\tbest: 0.7794915 (0)\ttotal: 25.4ms\tremaining: 8m 27s\n",
      "bestTest = 0.8563559322\n",
      "bestIteration = 37\n",
      "Shrink model to first 38 iterations.\n",
      "========== Fold=5 ==========\n"
     ]
    },
    {
     "name": "stderr",
     "output_type": "stream",
     "text": [
      "Default metric period is 5 because AUC is/are not implemented for GPU\n",
      "AUC is not implemented on GPU. Will use CPU for metric computation, this could significantly affect learning time\n"
     ]
    },
    {
     "name": "stdout",
     "output_type": "stream",
     "text": [
      "0:\ttest: 0.7588136\tbest: 0.7588136 (0)\ttotal: 23.4ms\tremaining: 7m 47s\n"
     ]
    },
    {
     "name": "stderr",
     "output_type": "stream",
     "text": [
      "\u001b[32m[I 2023-01-19 20:43:08,492]\u001b[0m Trial 5 finished with value: 0.830577183480027 and parameters: {'depth': 4, 'learning_rate': 0.3314097856802851, 'reg_lambda': 74}. Best is trial 0 with value: 0.8387406905890319.\u001b[0m\n"
     ]
    },
    {
     "name": "stdout",
     "output_type": "stream",
     "text": [
      "bestTest = 0.7968644068\n",
      "bestIteration = 36\n",
      "Shrink model to first 37 iterations.\n",
      "========== Fold=1 ==========\n"
     ]
    },
    {
     "name": "stderr",
     "output_type": "stream",
     "text": [
      "Default metric period is 5 because AUC is/are not implemented for GPU\n",
      "AUC is not implemented on GPU. Will use CPU for metric computation, this could significantly affect learning time\n"
     ]
    },
    {
     "name": "stdout",
     "output_type": "stream",
     "text": [
      "0:\ttest: 0.7317990\tbest: 0.7317990 (0)\ttotal: 10.6ms\tremaining: 3m 32s\n",
      "bestTest = 0.83125\n",
      "bestIteration = 364\n",
      "Shrink model to first 365 iterations.\n",
      "========== Fold=2 ==========\n"
     ]
    },
    {
     "name": "stderr",
     "output_type": "stream",
     "text": [
      "Default metric period is 5 because AUC is/are not implemented for GPU\n",
      "AUC is not implemented on GPU. Will use CPU for metric computation, this could significantly affect learning time\n"
     ]
    },
    {
     "name": "stdout",
     "output_type": "stream",
     "text": [
      "0:\ttest: 0.7980152\tbest: 0.7980152 (0)\ttotal: 22.6ms\tremaining: 7m 31s\n",
      "bestTest = 0.8329814189\n",
      "bestIteration = 11\n",
      "Shrink model to first 12 iterations.\n",
      "========== Fold=3 ==========\n"
     ]
    },
    {
     "name": "stderr",
     "output_type": "stream",
     "text": [
      "Default metric period is 5 because AUC is/are not implemented for GPU\n",
      "AUC is not implemented on GPU. Will use CPU for metric computation, this could significantly affect learning time\n"
     ]
    },
    {
     "name": "stdout",
     "output_type": "stream",
     "text": [
      "0:\ttest: 0.7906780\tbest: 0.7906780 (0)\ttotal: 24.9ms\tremaining: 8m 18s\n",
      "bestTest = 0.8721186441\n",
      "bestIteration = 116\n",
      "Shrink model to first 117 iterations.\n",
      "========== Fold=4 ==========\n"
     ]
    },
    {
     "name": "stderr",
     "output_type": "stream",
     "text": [
      "Default metric period is 5 because AUC is/are not implemented for GPU\n",
      "AUC is not implemented on GPU. Will use CPU for metric computation, this could significantly affect learning time\n"
     ]
    },
    {
     "name": "stdout",
     "output_type": "stream",
     "text": [
      "0:\ttest: 0.7794915\tbest: 0.7794915 (0)\ttotal: 22.6ms\tremaining: 7m 32s\n",
      "bestTest = 0.8428813559\n",
      "bestIteration = 272\n",
      "Shrink model to first 273 iterations.\n",
      "========== Fold=5 ==========\n"
     ]
    },
    {
     "name": "stderr",
     "output_type": "stream",
     "text": [
      "Default metric period is 5 because AUC is/are not implemented for GPU\n",
      "AUC is not implemented on GPU. Will use CPU for metric computation, this could significantly affect learning time\n"
     ]
    },
    {
     "name": "stdout",
     "output_type": "stream",
     "text": [
      "0:\ttest: 0.7588136\tbest: 0.7588136 (0)\ttotal: 22.3ms\tremaining: 7m 25s\n"
     ]
    },
    {
     "name": "stderr",
     "output_type": "stream",
     "text": [
      "\u001b[32m[I 2023-01-19 20:43:37,353]\u001b[0m Trial 6 finished with value: 0.8295717670954638 and parameters: {'depth': 4, 'learning_rate': 0.1510516975000744, 'reg_lambda': 64}. Best is trial 0 with value: 0.8387406905890319.\u001b[0m\n"
     ]
    },
    {
     "name": "stdout",
     "output_type": "stream",
     "text": [
      "bestTest = 0.8037288136\n",
      "bestIteration = 64\n",
      "Shrink model to first 65 iterations.\n",
      "========== Fold=1 ==========\n"
     ]
    },
    {
     "name": "stderr",
     "output_type": "stream",
     "text": [
      "Default metric period is 5 because AUC is/are not implemented for GPU\n",
      "AUC is not implemented on GPU. Will use CPU for metric computation, this could significantly affect learning time\n"
     ]
    },
    {
     "name": "stdout",
     "output_type": "stream",
     "text": [
      "0:\ttest: 0.7342483\tbest: 0.7342483 (0)\ttotal: 14.4ms\tremaining: 4m 48s\n",
      "bestTest = 0.8461993243\n",
      "bestIteration = 80\n",
      "Shrink model to first 81 iterations.\n",
      "========== Fold=2 ==========\n"
     ]
    },
    {
     "name": "stderr",
     "output_type": "stream",
     "text": [
      "Default metric period is 5 because AUC is/are not implemented for GPU\n",
      "AUC is not implemented on GPU. Will use CPU for metric computation, this could significantly affect learning time\n"
     ]
    },
    {
     "name": "stdout",
     "output_type": "stream",
     "text": [
      "0:\ttest: 0.8095861\tbest: 0.8095861 (0)\ttotal: 33.3ms\tremaining: 11m 5s\n",
      "bestTest = 0.8303209459\n",
      "bestIteration = 125\n",
      "Shrink model to first 126 iterations.\n",
      "========== Fold=3 ==========\n"
     ]
    },
    {
     "name": "stderr",
     "output_type": "stream",
     "text": [
      "Default metric period is 5 because AUC is/are not implemented for GPU\n",
      "AUC is not implemented on GPU. Will use CPU for metric computation, this could significantly affect learning time\n"
     ]
    },
    {
     "name": "stdout",
     "output_type": "stream",
     "text": [
      "0:\ttest: 0.7974576\tbest: 0.7974576 (0)\ttotal: 12.9ms\tremaining: 4m 17s\n",
      "bestTest = 0.816779661\n",
      "bestIteration = 11\n",
      "Shrink model to first 12 iterations.\n",
      "========== Fold=4 ==========\n"
     ]
    },
    {
     "name": "stderr",
     "output_type": "stream",
     "text": [
      "Default metric period is 5 because AUC is/are not implemented for GPU\n",
      "AUC is not implemented on GPU. Will use CPU for metric computation, this could significantly affect learning time\n"
     ]
    },
    {
     "name": "stdout",
     "output_type": "stream",
     "text": [
      "0:\ttest: 0.7613983\tbest: 0.7613983 (0)\ttotal: 27.4ms\tremaining: 9m 8s\n",
      "bestTest = 0.8233898305\n",
      "bestIteration = 6\n",
      "Shrink model to first 7 iterations.\n",
      "========== Fold=5 ==========\n"
     ]
    },
    {
     "name": "stderr",
     "output_type": "stream",
     "text": [
      "Default metric period is 5 because AUC is/are not implemented for GPU\n",
      "AUC is not implemented on GPU. Will use CPU for metric computation, this could significantly affect learning time\n"
     ]
    },
    {
     "name": "stdout",
     "output_type": "stream",
     "text": [
      "0:\ttest: 0.7266525\tbest: 0.7266525 (0)\ttotal: 27.1ms\tremaining: 9m 2s\n"
     ]
    },
    {
     "name": "stderr",
     "output_type": "stream",
     "text": [
      "\u001b[32m[I 2023-01-19 20:43:57,539]\u001b[0m Trial 7 finished with value: 0.8162220717670956 and parameters: {'depth': 6, 'learning_rate': 0.8016998291694923, 'reg_lambda': 3}. Best is trial 0 with value: 0.8387406905890319.\u001b[0m\n"
     ]
    },
    {
     "name": "stdout",
     "output_type": "stream",
     "text": [
      "bestTest = 0.7886440678\n",
      "bestIteration = 2\n",
      "Shrink model to first 3 iterations.\n",
      "========== Fold=1 ==========\n"
     ]
    },
    {
     "name": "stderr",
     "output_type": "stream",
     "text": [
      "Default metric period is 5 because AUC is/are not implemented for GPU\n",
      "AUC is not implemented on GPU. Will use CPU for metric computation, this could significantly affect learning time\n"
     ]
    },
    {
     "name": "stdout",
     "output_type": "stream",
     "text": [
      "0:\ttest: 0.7768581\tbest: 0.7768581 (0)\ttotal: 22ms\tremaining: 7m 19s\n",
      "bestTest = 0.801097973\n",
      "bestIteration = 70\n",
      "Shrink model to first 71 iterations.\n",
      "========== Fold=2 ==========\n"
     ]
    },
    {
     "name": "stderr",
     "output_type": "stream",
     "text": [
      "Default metric period is 5 because AUC is/are not implemented for GPU\n",
      "AUC is not implemented on GPU. Will use CPU for metric computation, this could significantly affect learning time\n"
     ]
    },
    {
     "name": "stdout",
     "output_type": "stream",
     "text": [
      "0:\ttest: 0.7635980\tbest: 0.7635980 (0)\ttotal: 24.2ms\tremaining: 8m 3s\n",
      "bestTest = 0.8214527027\n",
      "bestIteration = 19\n",
      "Shrink model to first 20 iterations.\n",
      "========== Fold=3 ==========\n"
     ]
    },
    {
     "name": "stderr",
     "output_type": "stream",
     "text": [
      "Default metric period is 5 because AUC is/are not implemented for GPU\n",
      "AUC is not implemented on GPU. Will use CPU for metric computation, this could significantly affect learning time\n"
     ]
    },
    {
     "name": "stdout",
     "output_type": "stream",
     "text": [
      "0:\ttest: 0.8015254\tbest: 0.8015254 (0)\ttotal: 20.9ms\tremaining: 6m 57s\n",
      "bestTest = 0.858559322\n",
      "bestIteration = 9\n",
      "Shrink model to first 10 iterations.\n",
      "========== Fold=4 ==========\n"
     ]
    },
    {
     "name": "stderr",
     "output_type": "stream",
     "text": [
      "Default metric period is 5 because AUC is/are not implemented for GPU\n",
      "AUC is not implemented on GPU. Will use CPU for metric computation, this could significantly affect learning time\n"
     ]
    },
    {
     "name": "stdout",
     "output_type": "stream",
     "text": [
      "0:\ttest: 0.7553814\tbest: 0.7553814 (0)\ttotal: 22.9ms\tremaining: 7m 38s\n",
      "bestTest = 0.8356779661\n",
      "bestIteration = 15\n",
      "Shrink model to first 16 iterations.\n",
      "========== Fold=5 ==========\n"
     ]
    },
    {
     "name": "stderr",
     "output_type": "stream",
     "text": [
      "Default metric period is 5 because AUC is/are not implemented for GPU\n",
      "AUC is not implemented on GPU. Will use CPU for metric computation, this could significantly affect learning time\n"
     ]
    },
    {
     "name": "stdout",
     "output_type": "stream",
     "text": [
      "0:\ttest: 0.7338983\tbest: 0.7338983 (0)\ttotal: 19.2ms\tremaining: 6m 23s\n"
     ]
    },
    {
     "name": "stderr",
     "output_type": "stream",
     "text": [
      "\u001b[32m[I 2023-01-19 20:44:13,905]\u001b[0m Trial 8 finished with value: 0.8234867975626271 and parameters: {'depth': 4, 'learning_rate': 0.689053342993667, 'reg_lambda': 10}. Best is trial 0 with value: 0.8387406905890319.\u001b[0m\n"
     ]
    },
    {
     "name": "stdout",
     "output_type": "stream",
     "text": [
      "bestTest = 0.8137288136\n",
      "bestIteration = 28\n",
      "Shrink model to first 29 iterations.\n",
      "========== Fold=1 ==========\n"
     ]
    },
    {
     "name": "stderr",
     "output_type": "stream",
     "text": [
      "Default metric period is 5 because AUC is/are not implemented for GPU\n",
      "AUC is not implemented on GPU. Will use CPU for metric computation, this could significantly affect learning time\n"
     ]
    },
    {
     "name": "stdout",
     "output_type": "stream",
     "text": [
      "0:\ttest: 0.7703970\tbest: 0.7703970 (0)\ttotal: 23.1ms\tremaining: 7m 42s\n",
      "bestTest = 0.8421452703\n",
      "bestIteration = 220\n",
      "Shrink model to first 221 iterations.\n",
      "========== Fold=2 ==========\n"
     ]
    },
    {
     "name": "stderr",
     "output_type": "stream",
     "text": [
      "Default metric period is 5 because AUC is/are not implemented for GPU\n",
      "AUC is not implemented on GPU. Will use CPU for metric computation, this could significantly affect learning time\n"
     ]
    },
    {
     "name": "stdout",
     "output_type": "stream",
     "text": [
      "0:\ttest: 0.7971706\tbest: 0.7971706 (0)\ttotal: 23.1ms\tremaining: 7m 41s\n",
      "bestTest = 0.8440033784\n",
      "bestIteration = 104\n",
      "Shrink model to first 105 iterations.\n",
      "========== Fold=3 ==========\n"
     ]
    },
    {
     "name": "stderr",
     "output_type": "stream",
     "text": [
      "Default metric period is 5 because AUC is/are not implemented for GPU\n",
      "AUC is not implemented on GPU. Will use CPU for metric computation, this could significantly affect learning time\n"
     ]
    },
    {
     "name": "stdout",
     "output_type": "stream",
     "text": [
      "0:\ttest: 0.7952542\tbest: 0.7952542 (0)\ttotal: 22.7ms\tremaining: 7m 33s\n",
      "bestTest = 0.876779661\n",
      "bestIteration = 98\n",
      "Shrink model to first 99 iterations.\n",
      "========== Fold=4 ==========\n"
     ]
    },
    {
     "name": "stderr",
     "output_type": "stream",
     "text": [
      "Default metric period is 5 because AUC is/are not implemented for GPU\n",
      "AUC is not implemented on GPU. Will use CPU for metric computation, this could significantly affect learning time\n"
     ]
    },
    {
     "name": "stdout",
     "output_type": "stream",
     "text": [
      "0:\ttest: 0.7494915\tbest: 0.7494915 (0)\ttotal: 11.3ms\tremaining: 3m 46s\n",
      "bestTest = 0.855\n",
      "bestIteration = 47\n",
      "Shrink model to first 48 iterations.\n",
      "========== Fold=5 ==========\n"
     ]
    },
    {
     "name": "stderr",
     "output_type": "stream",
     "text": [
      "Default metric period is 5 because AUC is/are not implemented for GPU\n",
      "AUC is not implemented on GPU. Will use CPU for metric computation, this could significantly affect learning time\n"
     ]
    },
    {
     "name": "stdout",
     "output_type": "stream",
     "text": [
      "0:\ttest: 0.7338983\tbest: 0.7338983 (0)\ttotal: 24.3ms\tremaining: 8m 5s\n"
     ]
    },
    {
     "name": "stderr",
     "output_type": "stream",
     "text": [
      "\u001b[32m[I 2023-01-19 20:44:37,876]\u001b[0m Trial 9 finished with value: 0.8410291130670279 and parameters: {'depth': 4, 'learning_rate': 0.18727093733545006, 'reg_lambda': 18}. Best is trial 9 with value: 0.8410291130670279.\u001b[0m\n"
     ]
    },
    {
     "name": "stdout",
     "output_type": "stream",
     "text": [
      "bestTest = 0.8111864407\n",
      "bestIteration = 32\n",
      "Shrink model to first 33 iterations.\n",
      "========== Fold=1 ==========\n"
     ]
    },
    {
     "name": "stderr",
     "output_type": "stream",
     "text": [
      "Default metric period is 5 because AUC is/are not implemented for GPU\n",
      "AUC is not implemented on GPU. Will use CPU for metric computation, this could significantly affect learning time\n"
     ]
    },
    {
     "name": "stdout",
     "output_type": "stream",
     "text": [
      "0:\ttest: 0.7491132\tbest: 0.7491132 (0)\ttotal: 24.9ms\tremaining: 8m 18s\n",
      "bestTest = 0.8146114865\n",
      "bestIteration = 300\n",
      "Shrink model to first 301 iterations.\n",
      "========== Fold=2 ==========\n"
     ]
    },
    {
     "name": "stderr",
     "output_type": "stream",
     "text": [
      "Default metric period is 5 because AUC is/are not implemented for GPU\n",
      "AUC is not implemented on GPU. Will use CPU for metric computation, this could significantly affect learning time\n"
     ]
    },
    {
     "name": "stdout",
     "output_type": "stream",
     "text": [
      "0:\ttest: 0.7967905\tbest: 0.7967905 (0)\ttotal: 25.1ms\tremaining: 8m 21s\n",
      "bestTest = 0.8423986486\n",
      "bestIteration = 39\n",
      "Shrink model to first 40 iterations.\n",
      "========== Fold=3 ==========\n"
     ]
    },
    {
     "name": "stderr",
     "output_type": "stream",
     "text": [
      "Default metric period is 5 because AUC is/are not implemented for GPU\n",
      "AUC is not implemented on GPU. Will use CPU for metric computation, this could significantly affect learning time\n"
     ]
    },
    {
     "name": "stdout",
     "output_type": "stream",
     "text": [
      "0:\ttest: 0.7976271\tbest: 0.7976271 (0)\ttotal: 26ms\tremaining: 8m 39s\n",
      "bestTest = 0.8806779661\n",
      "bestIteration = 460\n",
      "Shrink model to first 461 iterations.\n",
      "========== Fold=4 ==========\n"
     ]
    },
    {
     "name": "stderr",
     "output_type": "stream",
     "text": [
      "Default metric period is 5 because AUC is/are not implemented for GPU\n",
      "AUC is not implemented on GPU. Will use CPU for metric computation, this could significantly affect learning time\n"
     ]
    },
    {
     "name": "stdout",
     "output_type": "stream",
     "text": [
      "0:\ttest: 0.7751695\tbest: 0.7751695 (0)\ttotal: 15.6ms\tremaining: 5m 12s\n",
      "bestTest = 0.8540677966\n",
      "bestIteration = 537\n",
      "Shrink model to first 538 iterations.\n",
      "========== Fold=5 ==========\n"
     ]
    },
    {
     "name": "stderr",
     "output_type": "stream",
     "text": [
      "Default metric period is 5 because AUC is/are not implemented for GPU\n",
      "AUC is not implemented on GPU. Will use CPU for metric computation, this could significantly affect learning time\n"
     ]
    },
    {
     "name": "stdout",
     "output_type": "stream",
     "text": [
      "0:\ttest: 0.7536864\tbest: 0.7536864 (0)\ttotal: 26.8ms\tremaining: 8m 56s\n"
     ]
    },
    {
     "name": "stderr",
     "output_type": "stream",
     "text": [
      "\u001b[32m[I 2023-01-19 20:45:24,426]\u001b[0m Trial 10 finished with value: 0.8327758970886932 and parameters: {'depth': 5, 'learning_rate': 0.03943501576370709, 'reg_lambda': 33}. Best is trial 9 with value: 0.8410291130670279.\u001b[0m\n"
     ]
    },
    {
     "name": "stdout",
     "output_type": "stream",
     "text": [
      "bestTest = 0.8005932203\n",
      "bestIteration = 162\n",
      "Shrink model to first 163 iterations.\n",
      "========== Fold=1 ==========\n"
     ]
    },
    {
     "name": "stderr",
     "output_type": "stream",
     "text": [
      "Default metric period is 5 because AUC is/are not implemented for GPU\n",
      "AUC is not implemented on GPU. Will use CPU for metric computation, this could significantly affect learning time\n"
     ]
    },
    {
     "name": "stdout",
     "output_type": "stream",
     "text": [
      "0:\ttest: 0.7139780\tbest: 0.7139780 (0)\ttotal: 21.2ms\tremaining: 7m 3s\n",
      "bestTest = 0.8342060811\n",
      "bestIteration = 318\n",
      "Shrink model to first 319 iterations.\n",
      "========== Fold=2 ==========\n"
     ]
    },
    {
     "name": "stderr",
     "output_type": "stream",
     "text": [
      "Default metric period is 5 because AUC is/are not implemented for GPU\n",
      "AUC is not implemented on GPU. Will use CPU for metric computation, this could significantly affect learning time\n"
     ]
    },
    {
     "name": "stdout",
     "output_type": "stream",
     "text": [
      "0:\ttest: 0.7801098\tbest: 0.7801098 (0)\ttotal: 20.7ms\tremaining: 6m 54s\n",
      "bestTest = 0.836402027\n",
      "bestIteration = 16\n",
      "Shrink model to first 17 iterations.\n",
      "========== Fold=3 ==========\n"
     ]
    },
    {
     "name": "stderr",
     "output_type": "stream",
     "text": [
      "Default metric period is 5 because AUC is/are not implemented for GPU\n",
      "AUC is not implemented on GPU. Will use CPU for metric computation, this could significantly affect learning time\n"
     ]
    },
    {
     "name": "stdout",
     "output_type": "stream",
     "text": [
      "0:\ttest: 0.7758051\tbest: 0.7758051 (0)\ttotal: 21.3ms\tremaining: 7m 6s\n",
      "bestTest = 0.8751694915\n",
      "bestIteration = 106\n",
      "Shrink model to first 107 iterations.\n",
      "========== Fold=4 ==========\n"
     ]
    },
    {
     "name": "stderr",
     "output_type": "stream",
     "text": [
      "Default metric period is 5 because AUC is/are not implemented for GPU\n",
      "AUC is not implemented on GPU. Will use CPU for metric computation, this could significantly affect learning time\n"
     ]
    },
    {
     "name": "stdout",
     "output_type": "stream",
     "text": [
      "0:\ttest: 0.7622034\tbest: 0.7622034 (0)\ttotal: 20.4ms\tremaining: 6m 48s\n",
      "bestTest = 0.8554237288\n",
      "bestIteration = 252\n",
      "Shrink model to first 253 iterations.\n",
      "========== Fold=5 ==========\n"
     ]
    },
    {
     "name": "stderr",
     "output_type": "stream",
     "text": [
      "Default metric period is 5 because AUC is/are not implemented for GPU\n",
      "AUC is not implemented on GPU. Will use CPU for metric computation, this could significantly affect learning time\n"
     ]
    },
    {
     "name": "stdout",
     "output_type": "stream",
     "text": [
      "0:\ttest: 0.7379237\tbest: 0.7379237 (0)\ttotal: 25.6ms\tremaining: 8m 32s\n"
     ]
    },
    {
     "name": "stderr",
     "output_type": "stream",
     "text": [
      "\u001b[32m[I 2023-01-19 20:45:50,819]\u001b[0m Trial 11 finished with value: 0.8345565335138795 and parameters: {'depth': 3, 'learning_rate': 0.1472130999820681, 'reg_lambda': 40}. Best is trial 9 with value: 0.8410291130670279.\u001b[0m\n"
     ]
    },
    {
     "name": "stdout",
     "output_type": "stream",
     "text": [
      "bestTest = 0.7922881356\n",
      "bestIteration = 58\n",
      "Shrink model to first 59 iterations.\n",
      "========== Fold=1 ==========\n"
     ]
    },
    {
     "name": "stderr",
     "output_type": "stream",
     "text": [
      "Default metric period is 5 because AUC is/are not implemented for GPU\n",
      "AUC is not implemented on GPU. Will use CPU for metric computation, this could significantly affect learning time\n"
     ]
    },
    {
     "name": "stdout",
     "output_type": "stream",
     "text": [
      "0:\ttest: 0.7139780\tbest: 0.7139780 (0)\ttotal: 20.4ms\tremaining: 6m 47s\n",
      "bestTest = 0.8439189189\n",
      "bestIteration = 316\n",
      "Shrink model to first 317 iterations.\n",
      "========== Fold=2 ==========\n"
     ]
    },
    {
     "name": "stderr",
     "output_type": "stream",
     "text": [
      "Default metric period is 5 because AUC is/are not implemented for GPU\n",
      "AUC is not implemented on GPU. Will use CPU for metric computation, this could significantly affect learning time\n"
     ]
    },
    {
     "name": "stdout",
     "output_type": "stream",
     "text": [
      "0:\ttest: 0.7801098\tbest: 0.7801098 (0)\ttotal: 10.7ms\tremaining: 3m 33s\n",
      "bestTest = 0.8327702703\n",
      "bestIteration = 104\n",
      "Shrink model to first 105 iterations.\n",
      "========== Fold=3 ==========\n"
     ]
    },
    {
     "name": "stderr",
     "output_type": "stream",
     "text": [
      "Default metric period is 5 because AUC is/are not implemented for GPU\n",
      "AUC is not implemented on GPU. Will use CPU for metric computation, this could significantly affect learning time\n"
     ]
    },
    {
     "name": "stdout",
     "output_type": "stream",
     "text": [
      "0:\ttest: 0.7758051\tbest: 0.7758051 (0)\ttotal: 23.2ms\tremaining: 7m 43s\n",
      "bestTest = 0.8784745763\n",
      "bestIteration = 91\n",
      "Shrink model to first 92 iterations.\n",
      "========== Fold=4 ==========\n"
     ]
    },
    {
     "name": "stderr",
     "output_type": "stream",
     "text": [
      "Default metric period is 5 because AUC is/are not implemented for GPU\n",
      "AUC is not implemented on GPU. Will use CPU for metric computation, this could significantly affect learning time\n"
     ]
    },
    {
     "name": "stdout",
     "output_type": "stream",
     "text": [
      "0:\ttest: 0.7622034\tbest: 0.7622034 (0)\ttotal: 20.7ms\tremaining: 6m 54s\n",
      "bestTest = 0.8440677966\n",
      "bestIteration = 68\n",
      "Shrink model to first 69 iterations.\n",
      "========== Fold=5 ==========\n"
     ]
    },
    {
     "name": "stderr",
     "output_type": "stream",
     "text": [
      "Default metric period is 5 because AUC is/are not implemented for GPU\n",
      "AUC is not implemented on GPU. Will use CPU for metric computation, this could significantly affect learning time\n"
     ]
    },
    {
     "name": "stdout",
     "output_type": "stream",
     "text": [
      "0:\ttest: 0.7379237\tbest: 0.7379237 (0)\ttotal: 22.4ms\tremaining: 7m 28s\n"
     ]
    },
    {
     "name": "stderr",
     "output_type": "stream",
     "text": [
      "\u001b[32m[I 2023-01-19 20:46:13,977]\u001b[0m Trial 12 finished with value: 0.8338388625592417 and parameters: {'depth': 3, 'learning_rate': 0.2573350574407011, 'reg_lambda': 52}. Best is trial 9 with value: 0.8410291130670279.\u001b[0m\n"
     ]
    },
    {
     "name": "stdout",
     "output_type": "stream",
     "text": [
      "bestTest = 0.7948305085\n",
      "bestIteration = 25\n",
      "Shrink model to first 26 iterations.\n",
      "========== Fold=1 ==========\n"
     ]
    },
    {
     "name": "stderr",
     "output_type": "stream",
     "text": [
      "Default metric period is 5 because AUC is/are not implemented for GPU\n",
      "AUC is not implemented on GPU. Will use CPU for metric computation, this could significantly affect learning time\n"
     ]
    },
    {
     "name": "stdout",
     "output_type": "stream",
     "text": [
      "0:\ttest: 0.7375000\tbest: 0.7375000 (0)\ttotal: 20.1ms\tremaining: 6m 42s\n",
      "bestTest = 0.8130912162\n",
      "bestIteration = 40\n",
      "Shrink model to first 41 iterations.\n",
      "========== Fold=2 ==========\n"
     ]
    },
    {
     "name": "stderr",
     "output_type": "stream",
     "text": [
      "Default metric period is 5 because AUC is/are not implemented for GPU\n",
      "AUC is not implemented on GPU. Will use CPU for metric computation, this could significantly affect learning time\n"
     ]
    },
    {
     "name": "stdout",
     "output_type": "stream",
     "text": [
      "0:\ttest: 0.7801098\tbest: 0.7801098 (0)\ttotal: 20.2ms\tremaining: 6m 44s\n",
      "bestTest = 0.8210304054\n",
      "bestIteration = 51\n",
      "Shrink model to first 52 iterations.\n",
      "========== Fold=3 ==========\n"
     ]
    },
    {
     "name": "stderr",
     "output_type": "stream",
     "text": [
      "Default metric period is 5 because AUC is/are not implemented for GPU\n",
      "AUC is not implemented on GPU. Will use CPU for metric computation, this could significantly affect learning time\n"
     ]
    },
    {
     "name": "stdout",
     "output_type": "stream",
     "text": [
      "0:\ttest: 0.7758051\tbest: 0.7758051 (0)\ttotal: 8.93ms\tremaining: 2m 58s\n",
      "bestTest = 0.8609322034\n",
      "bestIteration = 9\n",
      "Shrink model to first 10 iterations.\n",
      "========== Fold=4 ==========\n"
     ]
    },
    {
     "name": "stderr",
     "output_type": "stream",
     "text": [
      "Default metric period is 5 because AUC is/are not implemented for GPU\n",
      "AUC is not implemented on GPU. Will use CPU for metric computation, this could significantly affect learning time\n"
     ]
    },
    {
     "name": "stdout",
     "output_type": "stream",
     "text": [
      "0:\ttest: 0.7622034\tbest: 0.7622034 (0)\ttotal: 11.7ms\tremaining: 3m 53s\n",
      "bestTest = 0.8491525424\n",
      "bestIteration = 38\n",
      "Shrink model to first 39 iterations.\n",
      "========== Fold=5 ==========\n"
     ]
    },
    {
     "name": "stderr",
     "output_type": "stream",
     "text": [
      "Default metric period is 5 because AUC is/are not implemented for GPU\n",
      "AUC is not implemented on GPU. Will use CPU for metric computation, this could significantly affect learning time\n"
     ]
    },
    {
     "name": "stdout",
     "output_type": "stream",
     "text": [
      "0:\ttest: 0.7306356\tbest: 0.7306356 (0)\ttotal: 21.3ms\tremaining: 7m 6s\n"
     ]
    },
    {
     "name": "stderr",
     "output_type": "stream",
     "text": [
      "\u001b[32m[I 2023-01-19 20:46:29,568]\u001b[0m Trial 13 finished with value: 0.8308259986459039 and parameters: {'depth': 3, 'learning_rate': 0.6029964224545208, 'reg_lambda': 21}. Best is trial 9 with value: 0.8410291130670279.\u001b[0m\n"
     ]
    },
    {
     "name": "stdout",
     "output_type": "stream",
     "text": [
      "bestTest = 0.8252542373\n",
      "bestIteration = 12\n",
      "Shrink model to first 13 iterations.\n",
      "========== Fold=1 ==========\n"
     ]
    },
    {
     "name": "stderr",
     "output_type": "stream",
     "text": [
      "Default metric period is 5 because AUC is/are not implemented for GPU\n",
      "AUC is not implemented on GPU. Will use CPU for metric computation, this could significantly affect learning time\n"
     ]
    },
    {
     "name": "stdout",
     "output_type": "stream",
     "text": [
      "0:\ttest: 0.7304476\tbest: 0.7304476 (0)\ttotal: 19.7ms\tremaining: 6m 33s\n",
      "bestTest = 0.848902027\n",
      "bestIteration = 213\n",
      "Shrink model to first 214 iterations.\n",
      "========== Fold=2 ==========\n"
     ]
    },
    {
     "name": "stderr",
     "output_type": "stream",
     "text": [
      "Default metric period is 5 because AUC is/are not implemented for GPU\n",
      "AUC is not implemented on GPU. Will use CPU for metric computation, this could significantly affect learning time\n"
     ]
    },
    {
     "name": "stdout",
     "output_type": "stream",
     "text": [
      "0:\ttest: 0.7930743\tbest: 0.7930743 (0)\ttotal: 13.6ms\tremaining: 4m 32s\n",
      "bestTest = 0.8444256757\n",
      "bestIteration = 197\n",
      "Shrink model to first 198 iterations.\n",
      "========== Fold=3 ==========\n"
     ]
    },
    {
     "name": "stderr",
     "output_type": "stream",
     "text": [
      "Default metric period is 5 because AUC is/are not implemented for GPU\n",
      "AUC is not implemented on GPU. Will use CPU for metric computation, this could significantly affect learning time\n"
     ]
    },
    {
     "name": "stdout",
     "output_type": "stream",
     "text": [
      "0:\ttest: 0.7956780\tbest: 0.7956780 (0)\ttotal: 35.2ms\tremaining: 11m 43s\n",
      "bestTest = 0.8798305085\n",
      "bestIteration = 45\n",
      "Shrink model to first 46 iterations.\n",
      "========== Fold=4 ==========\n"
     ]
    },
    {
     "name": "stderr",
     "output_type": "stream",
     "text": [
      "Default metric period is 5 because AUC is/are not implemented for GPU\n",
      "AUC is not implemented on GPU. Will use CPU for metric computation, this could significantly affect learning time\n"
     ]
    },
    {
     "name": "stdout",
     "output_type": "stream",
     "text": [
      "0:\ttest: 0.7688136\tbest: 0.7688136 (0)\ttotal: 24.2ms\tremaining: 8m 4s\n",
      "bestTest = 0.8413559322\n",
      "bestIteration = 72\n",
      "Shrink model to first 73 iterations.\n",
      "========== Fold=5 ==========\n"
     ]
    },
    {
     "name": "stderr",
     "output_type": "stream",
     "text": [
      "Default metric period is 5 because AUC is/are not implemented for GPU\n",
      "AUC is not implemented on GPU. Will use CPU for metric computation, this could significantly affect learning time\n"
     ]
    },
    {
     "name": "stdout",
     "output_type": "stream",
     "text": [
      "0:\ttest: 0.7302966\tbest: 0.7302966 (0)\ttotal: 24.3ms\tremaining: 8m 6s\n"
     ]
    },
    {
     "name": "stderr",
     "output_type": "stream",
     "text": [
      "\u001b[32m[I 2023-01-19 20:46:55,711]\u001b[0m Trial 14 finished with value: 0.8394312796208531 and parameters: {'depth': 5, 'learning_rate': 0.2709575155353834, 'reg_lambda': 53}. Best is trial 9 with value: 0.8410291130670279.\u001b[0m\n"
     ]
    },
    {
     "name": "stdout",
     "output_type": "stream",
     "text": [
      "bestTest = 0.8000847458\n",
      "bestIteration = 35\n",
      "Shrink model to first 36 iterations.\n",
      "========== Fold=1 ==========\n"
     ]
    },
    {
     "name": "stderr",
     "output_type": "stream",
     "text": [
      "Default metric period is 5 because AUC is/are not implemented for GPU\n",
      "AUC is not implemented on GPU. Will use CPU for metric computation, this could significantly affect learning time\n"
     ]
    },
    {
     "name": "stdout",
     "output_type": "stream",
     "text": [
      "0:\ttest: 0.7677787\tbest: 0.7677787 (0)\ttotal: 25.2ms\tremaining: 8m 24s\n",
      "bestTest = 0.8264358108\n",
      "bestIteration = 31\n",
      "Shrink model to first 32 iterations.\n",
      "========== Fold=2 ==========\n"
     ]
    },
    {
     "name": "stderr",
     "output_type": "stream",
     "text": [
      "Default metric period is 5 because AUC is/are not implemented for GPU\n",
      "AUC is not implemented on GPU. Will use CPU for metric computation, this could significantly affect learning time\n"
     ]
    },
    {
     "name": "stdout",
     "output_type": "stream",
     "text": [
      "0:\ttest: 0.7967905\tbest: 0.7967905 (0)\ttotal: 23.7ms\tremaining: 7m 53s\n",
      "bestTest = 0.8425675676\n",
      "bestIteration = 55\n",
      "Shrink model to first 56 iterations.\n",
      "========== Fold=3 ==========\n"
     ]
    },
    {
     "name": "stderr",
     "output_type": "stream",
     "text": [
      "Default metric period is 5 because AUC is/are not implemented for GPU\n",
      "AUC is not implemented on GPU. Will use CPU for metric computation, this could significantly affect learning time\n"
     ]
    },
    {
     "name": "stdout",
     "output_type": "stream",
     "text": [
      "0:\ttest: 0.7974576\tbest: 0.7974576 (0)\ttotal: 24.8ms\tremaining: 8m 15s\n",
      "bestTest = 0.8891525424\n",
      "bestIteration = 38\n",
      "Shrink model to first 39 iterations.\n",
      "========== Fold=4 ==========\n"
     ]
    },
    {
     "name": "stderr",
     "output_type": "stream",
     "text": [
      "Default metric period is 5 because AUC is/are not implemented for GPU\n",
      "AUC is not implemented on GPU. Will use CPU for metric computation, this could significantly affect learning time\n"
     ]
    },
    {
     "name": "stdout",
     "output_type": "stream",
     "text": [
      "0:\ttest: 0.7488136\tbest: 0.7488136 (0)\ttotal: 17.4ms\tremaining: 5m 48s\n",
      "bestTest = 0.8396610169\n",
      "bestIteration = 49\n",
      "Shrink model to first 50 iterations.\n",
      "========== Fold=5 ==========\n"
     ]
    },
    {
     "name": "stderr",
     "output_type": "stream",
     "text": [
      "Default metric period is 5 because AUC is/are not implemented for GPU\n",
      "AUC is not implemented on GPU. Will use CPU for metric computation, this could significantly affect learning time\n"
     ]
    },
    {
     "name": "stdout",
     "output_type": "stream",
     "text": [
      "0:\ttest: 0.7241525\tbest: 0.7241525 (0)\ttotal: 8.96ms\tremaining: 2m 59s\n"
     ]
    },
    {
     "name": "stderr",
     "output_type": "stream",
     "text": [
      "\u001b[32m[I 2023-01-19 20:47:13,636]\u001b[0m Trial 15 finished with value: 0.8348747461069737 and parameters: {'depth': 5, 'learning_rate': 0.22309303830029384, 'reg_lambda': 17}. Best is trial 9 with value: 0.8410291130670279.\u001b[0m\n"
     ]
    },
    {
     "name": "stdout",
     "output_type": "stream",
     "text": [
      "bestTest = 0.7977118644\n",
      "bestIteration = 28\n",
      "Shrink model to first 29 iterations.\n",
      "========== Fold=1 ==========\n"
     ]
    },
    {
     "name": "stderr",
     "output_type": "stream",
     "text": [
      "Default metric period is 5 because AUC is/are not implemented for GPU\n",
      "AUC is not implemented on GPU. Will use CPU for metric computation, this could significantly affect learning time\n"
     ]
    },
    {
     "name": "stdout",
     "output_type": "stream",
     "text": [
      "0:\ttest: 0.7304476\tbest: 0.7304476 (0)\ttotal: 24.2ms\tremaining: 8m 4s\n",
      "bestTest = 0.8130912162\n",
      "bestIteration = 240\n",
      "Shrink model to first 241 iterations.\n",
      "========== Fold=2 ==========\n"
     ]
    },
    {
     "name": "stderr",
     "output_type": "stream",
     "text": [
      "Default metric period is 5 because AUC is/are not implemented for GPU\n",
      "AUC is not implemented on GPU. Will use CPU for metric computation, this could significantly affect learning time\n"
     ]
    },
    {
     "name": "stdout",
     "output_type": "stream",
     "text": [
      "0:\ttest: 0.7930743\tbest: 0.7930743 (0)\ttotal: 25.1ms\tremaining: 8m 22s\n",
      "bestTest = 0.8444679054\n",
      "bestIteration = 27\n",
      "Shrink model to first 28 iterations.\n",
      "========== Fold=3 ==========\n"
     ]
    },
    {
     "name": "stderr",
     "output_type": "stream",
     "text": [
      "Default metric period is 5 because AUC is/are not implemented for GPU\n",
      "AUC is not implemented on GPU. Will use CPU for metric computation, this could significantly affect learning time\n"
     ]
    },
    {
     "name": "stdout",
     "output_type": "stream",
     "text": [
      "0:\ttest: 0.7956780\tbest: 0.7956780 (0)\ttotal: 25ms\tremaining: 8m 19s\n",
      "bestTest = 0.8877966102\n",
      "bestIteration = 313\n",
      "Shrink model to first 314 iterations.\n",
      "========== Fold=4 ==========\n"
     ]
    },
    {
     "name": "stderr",
     "output_type": "stream",
     "text": [
      "Default metric period is 5 because AUC is/are not implemented for GPU\n",
      "AUC is not implemented on GPU. Will use CPU for metric computation, this could significantly affect learning time\n"
     ]
    },
    {
     "name": "stdout",
     "output_type": "stream",
     "text": [
      "0:\ttest: 0.7751695\tbest: 0.7751695 (0)\ttotal: 18.4ms\tremaining: 6m 7s\n",
      "bestTest = 0.843559322\n",
      "bestIteration = 261\n",
      "Shrink model to first 262 iterations.\n",
      "========== Fold=5 ==========\n"
     ]
    },
    {
     "name": "stderr",
     "output_type": "stream",
     "text": [
      "Default metric period is 5 because AUC is/are not implemented for GPU\n",
      "AUC is not implemented on GPU. Will use CPU for metric computation, this could significantly affect learning time\n"
     ]
    },
    {
     "name": "stdout",
     "output_type": "stream",
     "text": [
      "0:\ttest: 0.7294492\tbest: 0.7294492 (0)\ttotal: 26ms\tremaining: 8m 40s\n"
     ]
    },
    {
     "name": "stderr",
     "output_type": "stream",
     "text": [
      "\u001b[32m[I 2023-01-19 20:47:48,734]\u001b[0m Trial 16 finished with value: 0.8288777928232904 and parameters: {'depth': 5, 'learning_rate': 0.047179038907249615, 'reg_lambda': 47}. Best is trial 9 with value: 0.8410291130670279.\u001b[0m\n"
     ]
    },
    {
     "name": "stdout",
     "output_type": "stream",
     "text": [
      "bestTest = 0.8005084746\n",
      "bestIteration = 136\n",
      "Shrink model to first 137 iterations.\n",
      "========== Fold=1 ==========\n",
      "0:\ttest: 0.7211149\tbest: 0.7211149 (0)\ttotal: 29.2ms\tremaining: 9m 43s\n"
     ]
    },
    {
     "name": "stderr",
     "output_type": "stream",
     "text": [
      "Default metric period is 5 because AUC is/are not implemented for GPU\n",
      "AUC is not implemented on GPU. Will use CPU for metric computation, this could significantly affect learning time\n"
     ]
    },
    {
     "name": "stdout",
     "output_type": "stream",
     "text": [
      "bestTest = 0.8293074324\n",
      "bestIteration = 148\n",
      "Shrink model to first 149 iterations.\n",
      "========== Fold=2 ==========\n"
     ]
    },
    {
     "name": "stderr",
     "output_type": "stream",
     "text": [
      "Default metric period is 5 because AUC is/are not implemented for GPU\n",
      "AUC is not implemented on GPU. Will use CPU for metric computation, this could significantly affect learning time\n"
     ]
    },
    {
     "name": "stdout",
     "output_type": "stream",
     "text": [
      "0:\ttest: 0.7886824\tbest: 0.7886824 (0)\ttotal: 28.3ms\tremaining: 9m 26s\n",
      "bestTest = 0.8460726351\n",
      "bestIteration = 9\n",
      "Shrink model to first 10 iterations.\n",
      "========== Fold=3 ==========\n"
     ]
    },
    {
     "name": "stderr",
     "output_type": "stream",
     "text": [
      "Default metric period is 5 because AUC is/are not implemented for GPU\n",
      "AUC is not implemented on GPU. Will use CPU for metric computation, this could significantly affect learning time\n"
     ]
    },
    {
     "name": "stdout",
     "output_type": "stream",
     "text": [
      "0:\ttest: 0.7892373\tbest: 0.7892373 (0)\ttotal: 28.8ms\tremaining: 9m 36s\n",
      "bestTest = 0.8672033898\n",
      "bestIteration = 74\n",
      "Shrink model to first 75 iterations.\n",
      "========== Fold=4 ==========\n"
     ]
    },
    {
     "name": "stderr",
     "output_type": "stream",
     "text": [
      "Default metric period is 5 because AUC is/are not implemented for GPU\n",
      "AUC is not implemented on GPU. Will use CPU for metric computation, this could significantly affect learning time\n"
     ]
    },
    {
     "name": "stdout",
     "output_type": "stream",
     "text": [
      "0:\ttest: 0.7683475\tbest: 0.7683475 (0)\ttotal: 30ms\tremaining: 9m 59s\n",
      "bestTest = 0.8288135593\n",
      "bestIteration = 28\n",
      "Shrink model to first 29 iterations.\n",
      "========== Fold=5 ==========\n"
     ]
    },
    {
     "name": "stderr",
     "output_type": "stream",
     "text": [
      "Default metric period is 5 because AUC is/are not implemented for GPU\n",
      "AUC is not implemented on GPU. Will use CPU for metric computation, this could significantly affect learning time\n"
     ]
    },
    {
     "name": "stdout",
     "output_type": "stream",
     "text": [
      "0:\ttest: 0.7436864\tbest: 0.7436864 (0)\ttotal: 28.7ms\tremaining: 9m 34s\n"
     ]
    },
    {
     "name": "stderr",
     "output_type": "stream",
     "text": [
      "\u001b[32m[I 2023-01-19 20:48:11,724]\u001b[0m Trial 17 finished with value: 0.8297004062288422 and parameters: {'depth': 6, 'learning_rate': 0.2824102412363814, 'reg_lambda': 54}. Best is trial 9 with value: 0.8410291130670279.\u001b[0m\n"
     ]
    },
    {
     "name": "stdout",
     "output_type": "stream",
     "text": [
      "bestTest = 0.7993220339\n",
      "bestIteration = 39\n",
      "Shrink model to first 40 iterations.\n",
      "========== Fold=1 ==========\n"
     ]
    },
    {
     "name": "stderr",
     "output_type": "stream",
     "text": [
      "Default metric period is 5 because AUC is/are not implemented for GPU\n",
      "AUC is not implemented on GPU. Will use CPU for metric computation, this could significantly affect learning time\n"
     ]
    },
    {
     "name": "stdout",
     "output_type": "stream",
     "text": [
      "0:\ttest: 0.7711571\tbest: 0.7711571 (0)\ttotal: 24.4ms\tremaining: 8m 7s\n",
      "bestTest = 0.8469594595\n",
      "bestIteration = 526\n",
      "Shrink model to first 527 iterations.\n",
      "========== Fold=2 ==========\n"
     ]
    },
    {
     "name": "stderr",
     "output_type": "stream",
     "text": [
      "Default metric period is 5 because AUC is/are not implemented for GPU\n",
      "AUC is not implemented on GPU. Will use CPU for metric computation, this could significantly affect learning time\n"
     ]
    },
    {
     "name": "stdout",
     "output_type": "stream",
     "text": [
      "0:\ttest: 0.7967905\tbest: 0.7967905 (0)\ttotal: 35.7ms\tremaining: 11m 53s\n",
      "bestTest = 0.8365709459\n",
      "bestIteration = 10\n",
      "Shrink model to first 11 iterations.\n",
      "========== Fold=3 ==========\n"
     ]
    },
    {
     "name": "stderr",
     "output_type": "stream",
     "text": [
      "Default metric period is 5 because AUC is/are not implemented for GPU\n",
      "AUC is not implemented on GPU. Will use CPU for metric computation, this could significantly affect learning time\n"
     ]
    },
    {
     "name": "stdout",
     "output_type": "stream",
     "text": [
      "0:\ttest: 0.7972034\tbest: 0.7972034 (0)\ttotal: 17.4ms\tremaining: 5m 48s\n",
      "bestTest = 0.8842372881\n",
      "bestIteration = 162\n",
      "Shrink model to first 163 iterations.\n",
      "========== Fold=4 ==========\n"
     ]
    },
    {
     "name": "stderr",
     "output_type": "stream",
     "text": [
      "Default metric period is 5 because AUC is/are not implemented for GPU\n",
      "AUC is not implemented on GPU. Will use CPU for metric computation, this could significantly affect learning time\n"
     ]
    },
    {
     "name": "stdout",
     "output_type": "stream",
     "text": [
      "0:\ttest: 0.7751695\tbest: 0.7751695 (0)\ttotal: 9.28ms\tremaining: 3m 5s\n",
      "bestTest = 0.8513559322\n",
      "bestIteration = 85\n",
      "Shrink model to first 86 iterations.\n",
      "========== Fold=5 ==========\n"
     ]
    },
    {
     "name": "stderr",
     "output_type": "stream",
     "text": [
      "Default metric period is 5 because AUC is/are not implemented for GPU\n",
      "AUC is not implemented on GPU. Will use CPU for metric computation, this could significantly affect learning time\n"
     ]
    },
    {
     "name": "stdout",
     "output_type": "stream",
     "text": [
      "0:\ttest: 0.7328814\tbest: 0.7328814 (0)\ttotal: 24.6ms\tremaining: 8m 11s\n"
     ]
    },
    {
     "name": "stderr",
     "output_type": "stream",
     "text": [
      "\u001b[32m[I 2023-01-19 20:48:42,473]\u001b[0m Trial 18 finished with value: 0.8375930941096817 and parameters: {'depth': 5, 'learning_rate': 0.1253261413704732, 'reg_lambda': 26}. Best is trial 9 with value: 0.8410291130670279.\u001b[0m\n"
     ]
    },
    {
     "name": "stdout",
     "output_type": "stream",
     "text": [
      "bestTest = 0.8019491525\n",
      "bestIteration = 46\n",
      "Shrink model to first 47 iterations.\n",
      "========== Fold=1 ==========\n"
     ]
    },
    {
     "name": "stderr",
     "output_type": "stream",
     "text": [
      "Default metric period is 5 because AUC is/are not implemented for GPU\n",
      "AUC is not implemented on GPU. Will use CPU for metric computation, this could significantly affect learning time\n"
     ]
    },
    {
     "name": "stdout",
     "output_type": "stream",
     "text": [
      "0:\ttest: 0.7317990\tbest: 0.7317990 (0)\ttotal: 23ms\tremaining: 7m 39s\n",
      "bestTest = 0.8502533784\n",
      "bestIteration = 254\n",
      "Shrink model to first 255 iterations.\n",
      "========== Fold=2 ==========\n"
     ]
    },
    {
     "name": "stderr",
     "output_type": "stream",
     "text": [
      "Default metric period is 5 because AUC is/are not implemented for GPU\n",
      "AUC is not implemented on GPU. Will use CPU for metric computation, this could significantly affect learning time\n"
     ]
    },
    {
     "name": "stdout",
     "output_type": "stream",
     "text": [
      "0:\ttest: 0.8019003\tbest: 0.8019003 (0)\ttotal: 23ms\tremaining: 7m 40s\n",
      "bestTest = 0.8445101351\n",
      "bestIteration = 129\n",
      "Shrink model to first 130 iterations.\n",
      "========== Fold=3 ==========\n"
     ]
    },
    {
     "name": "stderr",
     "output_type": "stream",
     "text": [
      "Default metric period is 5 because AUC is/are not implemented for GPU\n",
      "AUC is not implemented on GPU. Will use CPU for metric computation, this could significantly affect learning time\n"
     ]
    },
    {
     "name": "stdout",
     "output_type": "stream",
     "text": [
      "0:\ttest: 0.7951695\tbest: 0.7951695 (0)\ttotal: 9.67ms\tremaining: 3m 13s\n",
      "bestTest = 0.8761016949\n",
      "bestIteration = 56\n",
      "Shrink model to first 57 iterations.\n",
      "========== Fold=4 ==========\n"
     ]
    },
    {
     "name": "stderr",
     "output_type": "stream",
     "text": [
      "Default metric period is 5 because AUC is/are not implemented for GPU\n",
      "AUC is not implemented on GPU. Will use CPU for metric computation, this could significantly affect learning time\n"
     ]
    },
    {
     "name": "stdout",
     "output_type": "stream",
     "text": [
      "0:\ttest: 0.7762712\tbest: 0.7762712 (0)\ttotal: 22.9ms\tremaining: 7m 37s\n",
      "bestTest = 0.8550847458\n",
      "bestIteration = 47\n",
      "Shrink model to first 48 iterations.\n",
      "========== Fold=5 ==========\n"
     ]
    },
    {
     "name": "stderr",
     "output_type": "stream",
     "text": [
      "Default metric period is 5 because AUC is/are not implemented for GPU\n",
      "AUC is not implemented on GPU. Will use CPU for metric computation, this could significantly affect learning time\n"
     ]
    },
    {
     "name": "stdout",
     "output_type": "stream",
     "text": [
      "0:\ttest: 0.7653814\tbest: 0.7653814 (0)\ttotal: 23.8ms\tremaining: 7m 55s\n"
     ]
    },
    {
     "name": "stderr",
     "output_type": "stream",
     "text": [
      "\u001b[32m[I 2023-01-19 20:49:05,977]\u001b[0m Trial 19 finished with value: 0.8435104942450914 and parameters: {'depth': 4, 'learning_rate': 0.2052128075020196, 'reg_lambda': 40}. Best is trial 19 with value: 0.8435104942450914.\u001b[0m\n"
     ]
    },
    {
     "name": "stdout",
     "output_type": "stream",
     "text": [
      "bestTest = 0.8158474576\n",
      "bestIteration = 49\n",
      "Shrink model to first 50 iterations.\n",
      "========== Fold=1 ==========\n"
     ]
    },
    {
     "name": "stderr",
     "output_type": "stream",
     "text": [
      "Default metric period is 5 because AUC is/are not implemented for GPU\n",
      "AUC is not implemented on GPU. Will use CPU for metric computation, this could significantly affect learning time\n"
     ]
    },
    {
     "name": "stdout",
     "output_type": "stream",
     "text": [
      "0:\ttest: 0.7516892\tbest: 0.7516892 (0)\ttotal: 23.8ms\tremaining: 7m 56s\n",
      "bestTest = 0.8297297297\n",
      "bestIteration = 547\n",
      "Shrink model to first 548 iterations.\n",
      "========== Fold=2 ==========\n"
     ]
    },
    {
     "name": "stderr",
     "output_type": "stream",
     "text": [
      "Default metric period is 5 because AUC is/are not implemented for GPU\n",
      "AUC is not implemented on GPU. Will use CPU for metric computation, this could significantly affect learning time\n"
     ]
    },
    {
     "name": "stdout",
     "output_type": "stream",
     "text": [
      "0:\ttest: 0.8138091\tbest: 0.8138091 (0)\ttotal: 25ms\tremaining: 8m 20s\n",
      "bestTest = 0.8380912162\n",
      "bestIteration = 19\n",
      "Shrink model to first 20 iterations.\n",
      "========== Fold=3 ==========\n"
     ]
    },
    {
     "name": "stderr",
     "output_type": "stream",
     "text": [
      "Default metric period is 5 because AUC is/are not implemented for GPU\n",
      "AUC is not implemented on GPU. Will use CPU for metric computation, this could significantly affect learning time\n"
     ]
    },
    {
     "name": "stdout",
     "output_type": "stream",
     "text": [
      "0:\ttest: 0.8094068\tbest: 0.8094068 (0)\ttotal: 24.4ms\tremaining: 8m 8s\n",
      "bestTest = 0.87\n",
      "bestIteration = 220\n",
      "Shrink model to first 221 iterations.\n",
      "========== Fold=4 ==========\n"
     ]
    },
    {
     "name": "stderr",
     "output_type": "stream",
     "text": [
      "Default metric period is 5 because AUC is/are not implemented for GPU\n",
      "AUC is not implemented on GPU. Will use CPU for metric computation, this could significantly affect learning time\n"
     ]
    },
    {
     "name": "stdout",
     "output_type": "stream",
     "text": [
      "0:\ttest: 0.7852542\tbest: 0.7852542 (0)\ttotal: 23.5ms\tremaining: 7m 49s\n",
      "bestTest = 0.8305932203\n",
      "bestIteration = 58\n",
      "Shrink model to first 59 iterations.\n",
      "========== Fold=5 ==========\n"
     ]
    },
    {
     "name": "stderr",
     "output_type": "stream",
     "text": [
      "Default metric period is 5 because AUC is/are not implemented for GPU\n",
      "AUC is not implemented on GPU. Will use CPU for metric computation, this could significantly affect learning time\n"
     ]
    },
    {
     "name": "stdout",
     "output_type": "stream",
     "text": [
      "0:\ttest: 0.7259322\tbest: 0.7259322 (0)\ttotal: 11.8ms\tremaining: 3m 55s\n"
     ]
    },
    {
     "name": "stderr",
     "output_type": "stream",
     "text": [
      "\u001b[32m[I 2023-01-19 20:49:41,832]\u001b[0m Trial 20 finished with value: 0.8180941096817873 and parameters: {'depth': 4, 'learning_rate': 0.018742651978274794, 'reg_lambda': 1}. Best is trial 19 with value: 0.8435104942450914.\u001b[0m\n"
     ]
    },
    {
     "name": "stdout",
     "output_type": "stream",
     "text": [
      "bestTest = 0.8077118644\n",
      "bestIteration = 298\n",
      "Shrink model to first 299 iterations.\n",
      "========== Fold=1 ==========\n"
     ]
    },
    {
     "name": "stderr",
     "output_type": "stream",
     "text": [
      "Default metric period is 5 because AUC is/are not implemented for GPU\n",
      "AUC is not implemented on GPU. Will use CPU for metric computation, this could significantly affect learning time\n"
     ]
    },
    {
     "name": "stdout",
     "output_type": "stream",
     "text": [
      "0:\ttest: 0.7317990\tbest: 0.7317990 (0)\ttotal: 23.9ms\tremaining: 7m 58s\n",
      "bestTest = 0.8304054054\n",
      "bestIteration = 387\n",
      "Shrink model to first 388 iterations.\n",
      "========== Fold=2 ==========\n"
     ]
    },
    {
     "name": "stderr",
     "output_type": "stream",
     "text": [
      "Default metric period is 5 because AUC is/are not implemented for GPU\n",
      "AUC is not implemented on GPU. Will use CPU for metric computation, this could significantly affect learning time\n"
     ]
    },
    {
     "name": "stdout",
     "output_type": "stream",
     "text": [
      "0:\ttest: 0.8019003\tbest: 0.8019003 (0)\ttotal: 23.6ms\tremaining: 7m 51s\n",
      "bestTest = 0.8352618243\n",
      "bestIteration = 5\n",
      "Shrink model to first 6 iterations.\n",
      "========== Fold=3 ==========\n"
     ]
    },
    {
     "name": "stderr",
     "output_type": "stream",
     "text": [
      "Default metric period is 5 because AUC is/are not implemented for GPU\n",
      "AUC is not implemented on GPU. Will use CPU for metric computation, this could significantly affect learning time\n"
     ]
    },
    {
     "name": "stdout",
     "output_type": "stream",
     "text": [
      "0:\ttest: 0.7951695\tbest: 0.7951695 (0)\ttotal: 23.1ms\tremaining: 7m 41s\n",
      "bestTest = 0.8754237288\n",
      "bestIteration = 114\n",
      "Shrink model to first 115 iterations.\n",
      "========== Fold=4 ==========\n"
     ]
    },
    {
     "name": "stderr",
     "output_type": "stream",
     "text": [
      "Default metric period is 5 because AUC is/are not implemented for GPU\n",
      "AUC is not implemented on GPU. Will use CPU for metric computation, this could significantly affect learning time\n"
     ]
    },
    {
     "name": "stdout",
     "output_type": "stream",
     "text": [
      "0:\ttest: 0.7762712\tbest: 0.7762712 (0)\ttotal: 23.1ms\tremaining: 7m 42s\n",
      "bestTest = 0.8558474576\n",
      "bestIteration = 81\n",
      "Shrink model to first 82 iterations.\n",
      "========== Fold=5 ==========\n"
     ]
    },
    {
     "name": "stderr",
     "output_type": "stream",
     "text": [
      "Default metric period is 5 because AUC is/are not implemented for GPU\n",
      "AUC is not implemented on GPU. Will use CPU for metric computation, this could significantly affect learning time\n"
     ]
    },
    {
     "name": "stdout",
     "output_type": "stream",
     "text": [
      "0:\ttest: 0.7653814\tbest: 0.7653814 (0)\ttotal: 25.1ms\tremaining: 8m 22s\n"
     ]
    },
    {
     "name": "stderr",
     "output_type": "stream",
     "text": [
      "\u001b[32m[I 2023-01-19 20:50:07,446]\u001b[0m Trial 21 finished with value: 0.8336882193635748 and parameters: {'depth': 4, 'learning_rate': 0.2111321101494295, 'reg_lambda': 40}. Best is trial 19 with value: 0.8435104942450914.\u001b[0m\n"
     ]
    },
    {
     "name": "stdout",
     "output_type": "stream",
     "text": [
      "bestTest = 0.8141525424\n",
      "bestIteration = 40\n",
      "Shrink model to first 41 iterations.\n",
      "========== Fold=1 ==========\n"
     ]
    },
    {
     "name": "stderr",
     "output_type": "stream",
     "text": [
      "Default metric period is 5 because AUC is/are not implemented for GPU\n",
      "AUC is not implemented on GPU. Will use CPU for metric computation, this could significantly affect learning time\n"
     ]
    },
    {
     "name": "stdout",
     "output_type": "stream",
     "text": [
      "0:\ttest: 0.7317990\tbest: 0.7317990 (0)\ttotal: 23.9ms\tremaining: 7m 57s\n",
      "bestTest = 0.8328547297\n",
      "bestIteration = 70\n",
      "Shrink model to first 71 iterations.\n",
      "========== Fold=2 ==========\n"
     ]
    },
    {
     "name": "stderr",
     "output_type": "stream",
     "text": [
      "Default metric period is 5 because AUC is/are not implemented for GPU\n",
      "AUC is not implemented on GPU. Will use CPU for metric computation, this could significantly affect learning time\n"
     ]
    },
    {
     "name": "stdout",
     "output_type": "stream",
     "text": [
      "0:\ttest: 0.8019003\tbest: 0.8019003 (0)\ttotal: 8.97ms\tremaining: 2m 59s\n",
      "bestTest = 0.8461993243\n",
      "bestIteration = 59\n",
      "Shrink model to first 60 iterations.\n",
      "========== Fold=3 ==========\n"
     ]
    },
    {
     "name": "stderr",
     "output_type": "stream",
     "text": [
      "Default metric period is 5 because AUC is/are not implemented for GPU\n",
      "AUC is not implemented on GPU. Will use CPU for metric computation, this could significantly affect learning time\n"
     ]
    },
    {
     "name": "stdout",
     "output_type": "stream",
     "text": [
      "0:\ttest: 0.7961864\tbest: 0.7961864 (0)\ttotal: 31.5ms\tremaining: 10m 29s\n",
      "bestTest = 0.8813559322\n",
      "bestIteration = 111\n",
      "Shrink model to first 112 iterations.\n",
      "========== Fold=4 ==========\n"
     ]
    },
    {
     "name": "stderr",
     "output_type": "stream",
     "text": [
      "Default metric period is 5 because AUC is/are not implemented for GPU\n",
      "AUC is not implemented on GPU. Will use CPU for metric computation, this could significantly affect learning time\n"
     ]
    },
    {
     "name": "stdout",
     "output_type": "stream",
     "text": [
      "0:\ttest: 0.7762712\tbest: 0.7762712 (0)\ttotal: 22.3ms\tremaining: 7m 26s\n",
      "bestTest = 0.8537288136\n",
      "bestIteration = 75\n",
      "Shrink model to first 76 iterations.\n",
      "========== Fold=5 ==========\n"
     ]
    },
    {
     "name": "stderr",
     "output_type": "stream",
     "text": [
      "Default metric period is 5 because AUC is/are not implemented for GPU\n",
      "AUC is not implemented on GPU. Will use CPU for metric computation, this could significantly affect learning time\n"
     ]
    },
    {
     "name": "stdout",
     "output_type": "stream",
     "text": [
      "0:\ttest: 0.7248305\tbest: 0.7248305 (0)\ttotal: 13.2ms\tremaining: 4m 23s\n"
     ]
    },
    {
     "name": "stderr",
     "output_type": "stream",
     "text": [
      "\u001b[32m[I 2023-01-19 20:50:27,049]\u001b[0m Trial 22 finished with value: 0.8428571428571427 and parameters: {'depth': 4, 'learning_rate': 0.3335334309025685, 'reg_lambda': 43}. Best is trial 19 with value: 0.8435104942450914.\u001b[0m\n"
     ]
    },
    {
     "name": "stdout",
     "output_type": "stream",
     "text": [
      "bestTest = 0.8111864407\n",
      "bestIteration = 27\n",
      "Shrink model to first 28 iterations.\n",
      "========== Fold=1 ==========\n"
     ]
    },
    {
     "name": "stderr",
     "output_type": "stream",
     "text": [
      "Default metric period is 5 because AUC is/are not implemented for GPU\n",
      "AUC is not implemented on GPU. Will use CPU for metric computation, this could significantly affect learning time\n"
     ]
    },
    {
     "name": "stdout",
     "output_type": "stream",
     "text": [
      "0:\ttest: 0.7317990\tbest: 0.7317990 (0)\ttotal: 22.8ms\tremaining: 7m 36s\n",
      "bestTest = 0.8223817568\n",
      "bestIteration = 89\n",
      "Shrink model to first 90 iterations.\n",
      "========== Fold=2 ==========\n"
     ]
    },
    {
     "name": "stderr",
     "output_type": "stream",
     "text": [
      "Default metric period is 5 because AUC is/are not implemented for GPU\n",
      "AUC is not implemented on GPU. Will use CPU for metric computation, this could significantly affect learning time\n"
     ]
    },
    {
     "name": "stdout",
     "output_type": "stream",
     "text": [
      "0:\ttest: 0.8019003\tbest: 0.8019003 (0)\ttotal: 23.8ms\tremaining: 7m 55s\n",
      "bestTest = 0.8381756757\n",
      "bestIteration = 28\n",
      "Shrink model to first 29 iterations.\n",
      "========== Fold=3 ==========\n"
     ]
    },
    {
     "name": "stderr",
     "output_type": "stream",
     "text": [
      "Default metric period is 5 because AUC is/are not implemented for GPU\n",
      "AUC is not implemented on GPU. Will use CPU for metric computation, this could significantly affect learning time\n"
     ]
    },
    {
     "name": "stdout",
     "output_type": "stream",
     "text": [
      "0:\ttest: 0.7951695\tbest: 0.7951695 (0)\ttotal: 22.3ms\tremaining: 7m 25s\n",
      "bestTest = 0.8627966102\n",
      "bestIteration = 30\n",
      "Shrink model to first 31 iterations.\n",
      "========== Fold=4 ==========\n"
     ]
    },
    {
     "name": "stderr",
     "output_type": "stream",
     "text": [
      "Default metric period is 5 because AUC is/are not implemented for GPU\n",
      "AUC is not implemented on GPU. Will use CPU for metric computation, this could significantly affect learning time\n"
     ]
    },
    {
     "name": "stdout",
     "output_type": "stream",
     "text": [
      "0:\ttest: 0.7762712\tbest: 0.7762712 (0)\ttotal: 21.8ms\tremaining: 7m 15s\n",
      "bestTest = 0.853559322\n",
      "bestIteration = 26\n",
      "Shrink model to first 27 iterations.\n",
      "========== Fold=5 ==========\n"
     ]
    },
    {
     "name": "stderr",
     "output_type": "stream",
     "text": [
      "Default metric period is 5 because AUC is/are not implemented for GPU\n",
      "AUC is not implemented on GPU. Will use CPU for metric computation, this could significantly affect learning time\n"
     ]
    },
    {
     "name": "stdout",
     "output_type": "stream",
     "text": [
      "0:\ttest: 0.7653814\tbest: 0.7653814 (0)\ttotal: 10.1ms\tremaining: 3m 22s\n"
     ]
    },
    {
     "name": "stderr",
     "output_type": "stream",
     "text": [
      "\u001b[32m[I 2023-01-19 20:50:44,213]\u001b[0m Trial 23 finished with value: 0.8342890995260663 and parameters: {'depth': 4, 'learning_rate': 0.3587033924615679, 'reg_lambda': 40}. Best is trial 19 with value: 0.8435104942450914.\u001b[0m\n"
     ]
    },
    {
     "name": "stdout",
     "output_type": "stream",
     "text": [
      "bestTest = 0.8200847458\n",
      "bestIteration = 25\n",
      "Shrink model to first 26 iterations.\n",
      "========== Fold=1 ==========\n"
     ]
    },
    {
     "name": "stderr",
     "output_type": "stream",
     "text": [
      "Default metric period is 5 because AUC is/are not implemented for GPU\n",
      "AUC is not implemented on GPU. Will use CPU for metric computation, this could significantly affect learning time\n"
     ]
    },
    {
     "name": "stdout",
     "output_type": "stream",
     "text": [
      "0:\ttest: 0.7768581\tbest: 0.7768581 (0)\ttotal: 22.9ms\tremaining: 7m 38s\n",
      "bestTest = 0.8212837838\n",
      "bestIteration = 66\n",
      "Shrink model to first 67 iterations.\n",
      "========== Fold=2 ==========\n"
     ]
    },
    {
     "name": "stderr",
     "output_type": "stream",
     "text": [
      "Default metric period is 5 because AUC is/are not implemented for GPU\n",
      "AUC is not implemented on GPU. Will use CPU for metric computation, this could significantly affect learning time\n"
     ]
    },
    {
     "name": "stdout",
     "output_type": "stream",
     "text": [
      "0:\ttest: 0.7627534\tbest: 0.7627534 (0)\ttotal: 10ms\tremaining: 3m 20s\n",
      "bestTest = 0.8456925676\n",
      "bestIteration = 37\n",
      "Shrink model to first 38 iterations.\n",
      "========== Fold=3 ==========\n"
     ]
    },
    {
     "name": "stderr",
     "output_type": "stream",
     "text": [
      "Default metric period is 5 because AUC is/are not implemented for GPU\n",
      "AUC is not implemented on GPU. Will use CPU for metric computation, this could significantly affect learning time\n"
     ]
    },
    {
     "name": "stdout",
     "output_type": "stream",
     "text": [
      "0:\ttest: 0.7952542\tbest: 0.7952542 (0)\ttotal: 23.3ms\tremaining: 7m 46s\n",
      "bestTest = 0.88\n",
      "bestIteration = 58\n",
      "Shrink model to first 59 iterations.\n",
      "========== Fold=4 ==========\n"
     ]
    },
    {
     "name": "stderr",
     "output_type": "stream",
     "text": [
      "Default metric period is 5 because AUC is/are not implemented for GPU\n",
      "AUC is not implemented on GPU. Will use CPU for metric computation, this could significantly affect learning time\n"
     ]
    },
    {
     "name": "stdout",
     "output_type": "stream",
     "text": [
      "0:\ttest: 0.7553814\tbest: 0.7553814 (0)\ttotal: 10.4ms\tremaining: 3m 28s\n",
      "bestTest = 0.8569491525\n",
      "bestIteration = 47\n",
      "Shrink model to first 48 iterations.\n",
      "========== Fold=5 ==========\n"
     ]
    },
    {
     "name": "stderr",
     "output_type": "stream",
     "text": [
      "Default metric period is 5 because AUC is/are not implemented for GPU\n",
      "AUC is not implemented on GPU. Will use CPU for metric computation, this could significantly affect learning time\n"
     ]
    },
    {
     "name": "stdout",
     "output_type": "stream",
     "text": [
      "0:\ttest: 0.7338983\tbest: 0.7338983 (0)\ttotal: 9.25ms\tremaining: 3m 5s\n"
     ]
    },
    {
     "name": "stderr",
     "output_type": "stream",
     "text": [
      "\u001b[32m[I 2023-01-19 20:51:02,544]\u001b[0m Trial 24 finished with value: 0.839116452268111 and parameters: {'depth': 4, 'learning_rate': 0.13475565868589623, 'reg_lambda': 14}. Best is trial 19 with value: 0.8435104942450914.\u001b[0m\n"
     ]
    },
    {
     "name": "stdout",
     "output_type": "stream",
     "text": [
      "bestTest = 0.811440678\n",
      "bestIteration = 47\n",
      "Shrink model to first 48 iterations.\n",
      "========== Fold=1 ==========\n"
     ]
    },
    {
     "name": "stderr",
     "output_type": "stream",
     "text": [
      "Default metric period is 5 because AUC is/are not implemented for GPU\n",
      "AUC is not implemented on GPU. Will use CPU for metric computation, this could significantly affect learning time\n"
     ]
    },
    {
     "name": "stdout",
     "output_type": "stream",
     "text": [
      "0:\ttest: 0.7758024\tbest: 0.7758024 (0)\ttotal: 23.2ms\tremaining: 7m 43s\n",
      "bestTest = 0.8427364865\n",
      "bestIteration = 205\n",
      "Shrink model to first 206 iterations.\n",
      "========== Fold=2 ==========\n"
     ]
    },
    {
     "name": "stderr",
     "output_type": "stream",
     "text": [
      "Default metric period is 5 because AUC is/are not implemented for GPU\n",
      "AUC is not implemented on GPU. Will use CPU for metric computation, this could significantly affect learning time\n"
     ]
    },
    {
     "name": "stdout",
     "output_type": "stream",
     "text": [
      "0:\ttest: 0.8019003\tbest: 0.8019003 (0)\ttotal: 22.6ms\tremaining: 7m 31s\n",
      "bestTest = 0.8460304054\n",
      "bestIteration = 50\n",
      "Shrink model to first 51 iterations.\n",
      "========== Fold=3 ==========\n"
     ]
    },
    {
     "name": "stderr",
     "output_type": "stream",
     "text": [
      "Default metric period is 5 because AUC is/are not implemented for GPU\n",
      "AUC is not implemented on GPU. Will use CPU for metric computation, this could significantly affect learning time\n"
     ]
    },
    {
     "name": "stdout",
     "output_type": "stream",
     "text": [
      "0:\ttest: 0.7951695\tbest: 0.7951695 (0)\ttotal: 20.2ms\tremaining: 6m 43s\n",
      "bestTest = 0.8668644068\n",
      "bestIteration = 53\n",
      "Shrink model to first 54 iterations.\n",
      "========== Fold=4 ==========\n"
     ]
    },
    {
     "name": "stderr",
     "output_type": "stream",
     "text": [
      "Default metric period is 5 because AUC is/are not implemented for GPU\n",
      "AUC is not implemented on GPU. Will use CPU for metric computation, this could significantly affect learning time\n"
     ]
    },
    {
     "name": "stdout",
     "output_type": "stream",
     "text": [
      "0:\ttest: 0.7762712\tbest: 0.7762712 (0)\ttotal: 21.9ms\tremaining: 7m 17s\n",
      "bestTest = 0.8568644068\n",
      "bestIteration = 51\n",
      "Shrink model to first 52 iterations.\n",
      "========== Fold=5 ==========\n"
     ]
    },
    {
     "name": "stderr",
     "output_type": "stream",
     "text": [
      "Default metric period is 5 because AUC is/are not implemented for GPU\n",
      "AUC is not implemented on GPU. Will use CPU for metric computation, this could significantly affect learning time\n"
     ]
    },
    {
     "name": "stdout",
     "output_type": "stream",
     "text": [
      "0:\ttest: 0.7338983\tbest: 0.7338983 (0)\ttotal: 22.7ms\tremaining: 7m 33s\n"
     ]
    },
    {
     "name": "stderr",
     "output_type": "stream",
     "text": [
      "\u001b[32m[I 2023-01-19 20:51:22,879]\u001b[0m Trial 25 finished with value: 0.8386526743398782 and parameters: {'depth': 4, 'learning_rate': 0.3220829634868488, 'reg_lambda': 26}. Best is trial 19 with value: 0.8435104942450914.\u001b[0m\n"
     ]
    },
    {
     "name": "stdout",
     "output_type": "stream",
     "text": [
      "bestTest = 0.801440678\n",
      "bestIteration = 20\n",
      "Shrink model to first 21 iterations.\n",
      "========== Fold=1 ==========\n"
     ]
    },
    {
     "name": "stderr",
     "output_type": "stream",
     "text": [
      "Default metric period is 5 because AUC is/are not implemented for GPU\n",
      "AUC is not implemented on GPU. Will use CPU for metric computation, this could significantly affect learning time\n"
     ]
    },
    {
     "name": "stdout",
     "output_type": "stream",
     "text": [
      "0:\ttest: 0.7317990\tbest: 0.7317990 (0)\ttotal: 25.2ms\tremaining: 8m 24s\n",
      "bestTest = 0.8228885135\n",
      "bestIteration = 285\n",
      "Shrink model to first 286 iterations.\n",
      "========== Fold=2 ==========\n"
     ]
    },
    {
     "name": "stderr",
     "output_type": "stream",
     "text": [
      "Default metric period is 5 because AUC is/are not implemented for GPU\n",
      "AUC is not implemented on GPU. Will use CPU for metric computation, this could significantly affect learning time\n"
     ]
    },
    {
     "name": "stdout",
     "output_type": "stream",
     "text": [
      "0:\ttest: 0.8019003\tbest: 0.8019003 (0)\ttotal: 17.8ms\tremaining: 5m 56s\n",
      "bestTest = 0.8412162162\n",
      "bestIteration = 83\n",
      "Shrink model to first 84 iterations.\n",
      "========== Fold=3 ==========\n"
     ]
    },
    {
     "name": "stderr",
     "output_type": "stream",
     "text": [
      "Default metric period is 5 because AUC is/are not implemented for GPU\n",
      "AUC is not implemented on GPU. Will use CPU for metric computation, this could significantly affect learning time\n"
     ]
    },
    {
     "name": "stdout",
     "output_type": "stream",
     "text": [
      "0:\ttest: 0.7951695\tbest: 0.7951695 (0)\ttotal: 8.06ms\tremaining: 2m 41s\n",
      "bestTest = 0.8750847458\n",
      "bestIteration = 64\n",
      "Shrink model to first 65 iterations.\n",
      "========== Fold=4 ==========\n"
     ]
    },
    {
     "name": "stderr",
     "output_type": "stream",
     "text": [
      "Default metric period is 5 because AUC is/are not implemented for GPU\n",
      "AUC is not implemented on GPU. Will use CPU for metric computation, this could significantly affect learning time\n"
     ]
    },
    {
     "name": "stdout",
     "output_type": "stream",
     "text": [
      "0:\ttest: 0.7762712\tbest: 0.7762712 (0)\ttotal: 23.2ms\tremaining: 7m 43s\n",
      "bestTest = 0.8733898305\n",
      "bestIteration = 78\n",
      "Shrink model to first 79 iterations.\n",
      "========== Fold=5 ==========\n"
     ]
    },
    {
     "name": "stderr",
     "output_type": "stream",
     "text": [
      "Default metric period is 5 because AUC is/are not implemented for GPU\n",
      "AUC is not implemented on GPU. Will use CPU for metric computation, this could significantly affect learning time\n"
     ]
    },
    {
     "name": "stdout",
     "output_type": "stream",
     "text": [
      "0:\ttest: 0.7653814\tbest: 0.7653814 (0)\ttotal: 9.15ms\tremaining: 3m 3s\n"
     ]
    },
    {
     "name": "stderr",
     "output_type": "stream",
     "text": [
      "\u001b[32m[I 2023-01-19 20:51:47,266]\u001b[0m Trial 26 finished with value: 0.8370006770480704 and parameters: {'depth': 4, 'learning_rate': 0.20752362749059375, 'reg_lambda': 34}. Best is trial 19 with value: 0.8435104942450914.\u001b[0m\n"
     ]
    },
    {
     "name": "stdout",
     "output_type": "stream",
     "text": [
      "bestTest = 0.7949152542\n",
      "bestIteration = 49\n",
      "Shrink model to first 50 iterations.\n",
      "========== Fold=1 ==========\n"
     ]
    },
    {
     "name": "stderr",
     "output_type": "stream",
     "text": [
      "Default metric period is 5 because AUC is/are not implemented for GPU\n",
      "AUC is not implemented on GPU. Will use CPU for metric computation, this could significantly affect learning time\n"
     ]
    },
    {
     "name": "stdout",
     "output_type": "stream",
     "text": [
      "0:\ttest: 0.7139780\tbest: 0.7139780 (0)\ttotal: 10.2ms\tremaining: 3m 24s\n",
      "bestTest = 0.8308277027\n",
      "bestIteration = 507\n",
      "Shrink model to first 508 iterations.\n",
      "========== Fold=2 ==========\n"
     ]
    },
    {
     "name": "stderr",
     "output_type": "stream",
     "text": [
      "Default metric period is 5 because AUC is/are not implemented for GPU\n",
      "AUC is not implemented on GPU. Will use CPU for metric computation, this could significantly affect learning time\n"
     ]
    },
    {
     "name": "stdout",
     "output_type": "stream",
     "text": [
      "0:\ttest: 0.7801098\tbest: 0.7801098 (0)\ttotal: 21.2ms\tremaining: 7m 4s\n",
      "bestTest = 0.834375\n",
      "bestIteration = 21\n",
      "Shrink model to first 22 iterations.\n",
      "========== Fold=3 ==========\n"
     ]
    },
    {
     "name": "stderr",
     "output_type": "stream",
     "text": [
      "Default metric period is 5 because AUC is/are not implemented for GPU\n",
      "AUC is not implemented on GPU. Will use CPU for metric computation, this could significantly affect learning time\n"
     ]
    },
    {
     "name": "stdout",
     "output_type": "stream",
     "text": [
      "0:\ttest: 0.7758051\tbest: 0.7758051 (0)\ttotal: 20.6ms\tremaining: 6m 52s\n",
      "bestTest = 0.8790677966\n",
      "bestIteration = 168\n",
      "Shrink model to first 169 iterations.\n",
      "========== Fold=4 ==========\n"
     ]
    },
    {
     "name": "stderr",
     "output_type": "stream",
     "text": [
      "Default metric period is 5 because AUC is/are not implemented for GPU\n",
      "AUC is not implemented on GPU. Will use CPU for metric computation, this could significantly affect learning time\n"
     ]
    },
    {
     "name": "stdout",
     "output_type": "stream",
     "text": [
      "0:\ttest: 0.7622034\tbest: 0.7622034 (0)\ttotal: 24.6ms\tremaining: 8m 12s\n",
      "bestTest = 0.8569491525\n",
      "bestIteration = 324\n",
      "Shrink model to first 325 iterations.\n",
      "========== Fold=5 ==========\n"
     ]
    },
    {
     "name": "stderr",
     "output_type": "stream",
     "text": [
      "Default metric period is 5 because AUC is/are not implemented for GPU\n",
      "AUC is not implemented on GPU. Will use CPU for metric computation, this could significantly affect learning time\n"
     ]
    },
    {
     "name": "stdout",
     "output_type": "stream",
     "text": [
      "0:\ttest: 0.7379237\tbest: 0.7379237 (0)\ttotal: 16.7ms\tremaining: 5m 34s\n"
     ]
    },
    {
     "name": "stderr",
     "output_type": "stream",
     "text": [
      "\u001b[32m[I 2023-01-19 20:52:18,901]\u001b[0m Trial 27 finished with value: 0.8349119837508463 and parameters: {'depth': 3, 'learning_rate': 0.09423387537615226, 'reg_lambda': 44}. Best is trial 19 with value: 0.8435104942450914.\u001b[0m\n"
     ]
    },
    {
     "name": "stdout",
     "output_type": "stream",
     "text": [
      "bestTest = 0.7941525424\n",
      "bestIteration = 84\n",
      "Shrink model to first 85 iterations.\n",
      "========== Fold=1 ==========\n"
     ]
    },
    {
     "name": "stderr",
     "output_type": "stream",
     "text": [
      "Default metric period is 5 because AUC is/are not implemented for GPU\n",
      "AUC is not implemented on GPU. Will use CPU for metric computation, this could significantly affect learning time\n"
     ]
    },
    {
     "name": "stdout",
     "output_type": "stream",
     "text": [
      "0:\ttest: 0.7317990\tbest: 0.7317990 (0)\ttotal: 22.9ms\tremaining: 7m 38s\n",
      "bestTest = 0.8197635135\n",
      "bestIteration = 74\n",
      "Shrink model to first 75 iterations.\n",
      "========== Fold=2 ==========\n"
     ]
    },
    {
     "name": "stderr",
     "output_type": "stream",
     "text": [
      "Default metric period is 5 because AUC is/are not implemented for GPU\n",
      "AUC is not implemented on GPU. Will use CPU for metric computation, this could significantly affect learning time\n"
     ]
    },
    {
     "name": "stdout",
     "output_type": "stream",
     "text": [
      "0:\ttest: 0.7980152\tbest: 0.7980152 (0)\ttotal: 22.3ms\tremaining: 7m 26s\n",
      "bestTest = 0.854222973\n",
      "bestIteration = 50\n",
      "Shrink model to first 51 iterations.\n",
      "========== Fold=3 ==========\n"
     ]
    },
    {
     "name": "stderr",
     "output_type": "stream",
     "text": [
      "Default metric period is 5 because AUC is/are not implemented for GPU\n",
      "AUC is not implemented on GPU. Will use CPU for metric computation, this could significantly affect learning time\n"
     ]
    },
    {
     "name": "stdout",
     "output_type": "stream",
     "text": [
      "0:\ttest: 0.7906780\tbest: 0.7906780 (0)\ttotal: 22.8ms\tremaining: 7m 36s\n",
      "bestTest = 0.8700847458\n",
      "bestIteration = 34\n",
      "Shrink model to first 35 iterations.\n",
      "========== Fold=4 ==========\n"
     ]
    },
    {
     "name": "stderr",
     "output_type": "stream",
     "text": [
      "Default metric period is 5 because AUC is/are not implemented for GPU\n",
      "AUC is not implemented on GPU. Will use CPU for metric computation, this could significantly affect learning time\n"
     ]
    },
    {
     "name": "stdout",
     "output_type": "stream",
     "text": [
      "0:\ttest: 0.7794915\tbest: 0.7794915 (0)\ttotal: 22.7ms\tremaining: 7m 34s\n",
      "bestTest = 0.8497457627\n",
      "bestIteration = 46\n",
      "Shrink model to first 47 iterations.\n",
      "========== Fold=5 ==========\n"
     ]
    },
    {
     "name": "stderr",
     "output_type": "stream",
     "text": [
      "Default metric period is 5 because AUC is/are not implemented for GPU\n",
      "AUC is not implemented on GPU. Will use CPU for metric computation, this could significantly affect learning time\n"
     ]
    },
    {
     "name": "stdout",
     "output_type": "stream",
     "text": [
      "0:\ttest: 0.7588136\tbest: 0.7588136 (0)\ttotal: 22.2ms\tremaining: 7m 24s\n"
     ]
    },
    {
     "name": "stderr",
     "output_type": "stream",
     "text": [
      "\u001b[32m[I 2023-01-19 20:52:36,434]\u001b[0m Trial 28 finished with value: 0.8348612051455655 and parameters: {'depth': 4, 'learning_rate': 0.5060519086723003, 'reg_lambda': 59}. Best is trial 19 with value: 0.8435104942450914.\u001b[0m\n"
     ]
    },
    {
     "name": "stdout",
     "output_type": "stream",
     "text": [
      "bestTest = 0.7921186441\n",
      "bestIteration = 17\n",
      "Shrink model to first 18 iterations.\n",
      "========== Fold=1 ==========\n"
     ]
    },
    {
     "name": "stderr",
     "output_type": "stream",
     "text": [
      "Default metric period is 5 because AUC is/are not implemented for GPU\n",
      "AUC is not implemented on GPU. Will use CPU for metric computation, this could significantly affect learning time\n"
     ]
    },
    {
     "name": "stdout",
     "output_type": "stream",
     "text": [
      "0:\ttest: 0.7375000\tbest: 0.7375000 (0)\ttotal: 14.2ms\tremaining: 4m 44s\n",
      "bestTest = 0.8490709459\n",
      "bestIteration = 156\n",
      "Shrink model to first 157 iterations.\n",
      "========== Fold=2 ==========\n"
     ]
    },
    {
     "name": "stderr",
     "output_type": "stream",
     "text": [
      "Default metric period is 5 because AUC is/are not implemented for GPU\n",
      "AUC is not implemented on GPU. Will use CPU for metric computation, this could significantly affect learning time\n"
     ]
    },
    {
     "name": "stdout",
     "output_type": "stream",
     "text": [
      "0:\ttest: 0.7801098\tbest: 0.7801098 (0)\ttotal: 29.1ms\tremaining: 9m 42s\n",
      "bestTest = 0.8389358108\n",
      "bestIteration = 54\n",
      "Shrink model to first 55 iterations.\n",
      "========== Fold=3 ==========\n"
     ]
    },
    {
     "name": "stderr",
     "output_type": "stream",
     "text": [
      "Default metric period is 5 because AUC is/are not implemented for GPU\n",
      "AUC is not implemented on GPU. Will use CPU for metric computation, this could significantly affect learning time\n"
     ]
    },
    {
     "name": "stdout",
     "output_type": "stream",
     "text": [
      "0:\ttest: 0.7758051\tbest: 0.7758051 (0)\ttotal: 12.6ms\tremaining: 4m 11s\n",
      "bestTest = 0.8447457627\n",
      "bestIteration = 38\n",
      "Shrink model to first 39 iterations.\n",
      "========== Fold=4 ==========\n"
     ]
    },
    {
     "name": "stderr",
     "output_type": "stream",
     "text": [
      "Default metric period is 5 because AUC is/are not implemented for GPU\n",
      "AUC is not implemented on GPU. Will use CPU for metric computation, this could significantly affect learning time\n"
     ]
    },
    {
     "name": "stdout",
     "output_type": "stream",
     "text": [
      "0:\ttest: 0.7622034\tbest: 0.7622034 (0)\ttotal: 20.3ms\tremaining: 6m 46s\n",
      "bestTest = 0.8478389831\n",
      "bestIteration = 13\n",
      "Shrink model to first 14 iterations.\n",
      "========== Fold=5 ==========\n"
     ]
    },
    {
     "name": "stderr",
     "output_type": "stream",
     "text": [
      "Default metric period is 5 because AUC is/are not implemented for GPU\n",
      "AUC is not implemented on GPU. Will use CPU for metric computation, this could significantly affect learning time\n"
     ]
    },
    {
     "name": "stdout",
     "output_type": "stream",
     "text": [
      "0:\ttest: 0.7306356\tbest: 0.7306356 (0)\ttotal: 21.3ms\tremaining: 7m 5s\n"
     ]
    },
    {
     "name": "stderr",
     "output_type": "stream",
     "text": [
      "\u001b[32m[I 2023-01-19 20:52:53,698]\u001b[0m Trial 29 finished with value: 0.8360104942450914 and parameters: {'depth': 3, 'learning_rate': 0.5078775112914296, 'reg_lambda': 24}. Best is trial 19 with value: 0.8435104942450914.\u001b[0m\n"
     ]
    },
    {
     "name": "stdout",
     "output_type": "stream",
     "text": [
      "bestTest = 0.818220339\n",
      "bestIteration = 12\n",
      "Shrink model to first 13 iterations.\n",
      "========== Fold=1 ==========\n"
     ]
    },
    {
     "name": "stderr",
     "output_type": "stream",
     "text": [
      "Default metric period is 5 because AUC is/are not implemented for GPU\n",
      "AUC is not implemented on GPU. Will use CPU for metric computation, this could significantly affect learning time\n"
     ]
    },
    {
     "name": "stdout",
     "output_type": "stream",
     "text": [
      "0:\ttest: 0.7754645\tbest: 0.7754645 (0)\ttotal: 13.4ms\tremaining: 4m 28s\n",
      "bestTest = 0.8387668919\n",
      "bestIteration = 45\n",
      "Shrink model to first 46 iterations.\n",
      "========== Fold=2 ==========\n"
     ]
    },
    {
     "name": "stderr",
     "output_type": "stream",
     "text": [
      "Default metric period is 5 because AUC is/are not implemented for GPU\n",
      "AUC is not implemented on GPU. Will use CPU for metric computation, this could significantly affect learning time\n"
     ]
    },
    {
     "name": "stdout",
     "output_type": "stream",
     "text": [
      "0:\ttest: 0.7427787\tbest: 0.7427787 (0)\ttotal: 25.8ms\tremaining: 8m 35s\n",
      "bestTest = 0.8384712838\n",
      "bestIteration = 12\n",
      "Shrink model to first 13 iterations.\n",
      "========== Fold=3 ==========\n"
     ]
    },
    {
     "name": "stderr",
     "output_type": "stream",
     "text": [
      "Default metric period is 5 because AUC is/are not implemented for GPU\n",
      "AUC is not implemented on GPU. Will use CPU for metric computation, this could significantly affect learning time\n"
     ]
    },
    {
     "name": "stdout",
     "output_type": "stream",
     "text": [
      "0:\ttest: 0.8036441\tbest: 0.8036441 (0)\ttotal: 24.2ms\tremaining: 8m 3s\n",
      "bestTest = 0.8696610169\n",
      "bestIteration = 48\n",
      "Shrink model to first 49 iterations.\n",
      "========== Fold=4 ==========\n"
     ]
    },
    {
     "name": "stderr",
     "output_type": "stream",
     "text": [
      "Default metric period is 5 because AUC is/are not implemented for GPU\n",
      "AUC is not implemented on GPU. Will use CPU for metric computation, this could significantly affect learning time\n"
     ]
    },
    {
     "name": "stdout",
     "output_type": "stream",
     "text": [
      "0:\ttest: 0.7547034\tbest: 0.7547034 (0)\ttotal: 18.5ms\tremaining: 6m 10s\n",
      "bestTest = 0.8498305085\n",
      "bestIteration = 54\n",
      "Shrink model to first 55 iterations.\n",
      "========== Fold=5 ==========\n"
     ]
    },
    {
     "name": "stderr",
     "output_type": "stream",
     "text": [
      "Default metric period is 5 because AUC is/are not implemented for GPU\n",
      "AUC is not implemented on GPU. Will use CPU for metric computation, this could significantly affect learning time\n"
     ]
    },
    {
     "name": "stdout",
     "output_type": "stream",
     "text": [
      "0:\ttest: 0.7241525\tbest: 0.7241525 (0)\ttotal: 21.1ms\tremaining: 7m 1s\n"
     ]
    },
    {
     "name": "stderr",
     "output_type": "stream",
     "text": [
      "\u001b[32m[I 2023-01-19 20:53:11,433]\u001b[0m Trial 30 finished with value: 0.8353740690589033 and parameters: {'depth': 5, 'learning_rate': 0.20668358914951215, 'reg_lambda': 10}. Best is trial 19 with value: 0.8435104942450914.\u001b[0m\n"
     ]
    },
    {
     "name": "stdout",
     "output_type": "stream",
     "text": [
      "bestTest = 0.7999152542\n",
      "bestIteration = 20\n",
      "Shrink model to first 21 iterations.\n",
      "========== Fold=1 ==========\n"
     ]
    },
    {
     "name": "stderr",
     "output_type": "stream",
     "text": [
      "Default metric period is 5 because AUC is/are not implemented for GPU\n",
      "AUC is not implemented on GPU. Will use CPU for metric computation, this could significantly affect learning time\n"
     ]
    },
    {
     "name": "stdout",
     "output_type": "stream",
     "text": [
      "0:\ttest: 0.7304476\tbest: 0.7304476 (0)\ttotal: 24.5ms\tremaining: 8m 9s\n",
      "bestTest = 0.8327702703\n",
      "bestIteration = 364\n",
      "Shrink model to first 365 iterations.\n",
      "========== Fold=2 ==========\n"
     ]
    },
    {
     "name": "stderr",
     "output_type": "stream",
     "text": [
      "Default metric period is 5 because AUC is/are not implemented for GPU\n",
      "AUC is not implemented on GPU. Will use CPU for metric computation, this could significantly affect learning time\n"
     ]
    },
    {
     "name": "stdout",
     "output_type": "stream",
     "text": [
      "0:\ttest: 0.7930743\tbest: 0.7930743 (0)\ttotal: 24.4ms\tremaining: 8m 7s\n",
      "bestTest = 0.8375\n",
      "bestIteration = 150\n",
      "Shrink model to first 151 iterations.\n",
      "========== Fold=3 ==========\n"
     ]
    },
    {
     "name": "stderr",
     "output_type": "stream",
     "text": [
      "Default metric period is 5 because AUC is/are not implemented for GPU\n",
      "AUC is not implemented on GPU. Will use CPU for metric computation, this could significantly affect learning time\n"
     ]
    },
    {
     "name": "stdout",
     "output_type": "stream",
     "text": [
      "0:\ttest: 0.7956780\tbest: 0.7956780 (0)\ttotal: 23.4ms\tremaining: 7m 47s\n",
      "bestTest = 0.8939830508\n",
      "bestIteration = 50\n",
      "Shrink model to first 51 iterations.\n",
      "========== Fold=4 ==========\n"
     ]
    },
    {
     "name": "stderr",
     "output_type": "stream",
     "text": [
      "Default metric period is 5 because AUC is/are not implemented for GPU\n",
      "AUC is not implemented on GPU. Will use CPU for metric computation, this could significantly affect learning time\n"
     ]
    },
    {
     "name": "stdout",
     "output_type": "stream",
     "text": [
      "0:\ttest: 0.7688136\tbest: 0.7688136 (0)\ttotal: 25.1ms\tremaining: 8m 21s\n",
      "bestTest = 0.8337288136\n",
      "bestIteration = 40\n",
      "Shrink model to first 41 iterations.\n",
      "========== Fold=5 ==========\n"
     ]
    },
    {
     "name": "stderr",
     "output_type": "stream",
     "text": [
      "Default metric period is 5 because AUC is/are not implemented for GPU\n",
      "AUC is not implemented on GPU. Will use CPU for metric computation, this could significantly affect learning time\n"
     ]
    },
    {
     "name": "stdout",
     "output_type": "stream",
     "text": [
      "0:\ttest: 0.7461864\tbest: 0.7461864 (0)\ttotal: 24.8ms\tremaining: 8m 16s\n"
     ]
    },
    {
     "name": "stderr",
     "output_type": "stream",
     "text": [
      "\u001b[32m[I 2023-01-19 20:53:38,330]\u001b[0m Trial 31 finished with value: 0.8353994583615436 and parameters: {'depth': 5, 'learning_rate': 0.29195016674777013, 'reg_lambda': 54}. Best is trial 19 with value: 0.8435104942450914.\u001b[0m\n"
     ]
    },
    {
     "name": "stdout",
     "output_type": "stream",
     "text": [
      "bestTest = 0.8125423729\n",
      "bestIteration = 29\n",
      "Shrink model to first 30 iterations.\n",
      "========== Fold=1 ==========\n"
     ]
    },
    {
     "name": "stderr",
     "output_type": "stream",
     "text": [
      "Default metric period is 5 because AUC is/are not implemented for GPU\n",
      "AUC is not implemented on GPU. Will use CPU for metric computation, this could significantly affect learning time\n"
     ]
    },
    {
     "name": "stdout",
     "output_type": "stream",
     "text": [
      "0:\ttest: 0.7284206\tbest: 0.7284206 (0)\ttotal: 10ms\tremaining: 3m 20s\n",
      "bestTest = 0.832347973\n",
      "bestIteration = 253\n",
      "Shrink model to first 254 iterations.\n",
      "========== Fold=2 ==========\n"
     ]
    },
    {
     "name": "stderr",
     "output_type": "stream",
     "text": [
      "Default metric period is 5 because AUC is/are not implemented for GPU\n",
      "AUC is not implemented on GPU. Will use CPU for metric computation, this could significantly affect learning time\n"
     ]
    },
    {
     "name": "stdout",
     "output_type": "stream",
     "text": [
      "0:\ttest: 0.7930743\tbest: 0.7930743 (0)\ttotal: 24.5ms\tremaining: 8m 9s\n",
      "bestTest = 0.8271959459\n",
      "bestIteration = 29\n",
      "Shrink model to first 30 iterations.\n",
      "========== Fold=3 ==========\n"
     ]
    },
    {
     "name": "stderr",
     "output_type": "stream",
     "text": [
      "Default metric period is 5 because AUC is/are not implemented for GPU\n",
      "AUC is not implemented on GPU. Will use CPU for metric computation, this could significantly affect learning time\n"
     ]
    },
    {
     "name": "stdout",
     "output_type": "stream",
     "text": [
      "0:\ttest: 0.7829661\tbest: 0.7829661 (0)\ttotal: 10.5ms\tremaining: 3m 30s\n",
      "bestTest = 0.8611864407\n",
      "bestIteration = 61\n",
      "Shrink model to first 62 iterations.\n",
      "========== Fold=4 ==========\n"
     ]
    },
    {
     "name": "stderr",
     "output_type": "stream",
     "text": [
      "Default metric period is 5 because AUC is/are not implemented for GPU\n",
      "AUC is not implemented on GPU. Will use CPU for metric computation, this could significantly affect learning time\n"
     ]
    },
    {
     "name": "stdout",
     "output_type": "stream",
     "text": [
      "0:\ttest: 0.7687712\tbest: 0.7687712 (0)\ttotal: 23.9ms\tremaining: 7m 58s\n",
      "bestTest = 0.8383050847\n",
      "bestIteration = 63\n",
      "Shrink model to first 64 iterations.\n",
      "========== Fold=5 ==========\n"
     ]
    },
    {
     "name": "stderr",
     "output_type": "stream",
     "text": [
      "Default metric period is 5 because AUC is/are not implemented for GPU\n",
      "AUC is not implemented on GPU. Will use CPU for metric computation, this could significantly affect learning time\n"
     ]
    },
    {
     "name": "stdout",
     "output_type": "stream",
     "text": [
      "0:\ttest: 0.7461864\tbest: 0.7461864 (0)\ttotal: 25.8ms\tremaining: 8m 36s\n"
     ]
    },
    {
     "name": "stderr",
     "output_type": "stream",
     "text": [
      "\u001b[32m[I 2023-01-19 20:54:01,252]\u001b[0m Trial 32 finished with value: 0.8299932295192959 and parameters: {'depth': 5, 'learning_rate': 0.39074412603238723, 'reg_lambda': 66}. Best is trial 19 with value: 0.8435104942450914.\u001b[0m\n"
     ]
    },
    {
     "name": "stdout",
     "output_type": "stream",
     "text": [
      "bestTest = 0.8056779661\n",
      "bestIteration = 32\n",
      "Shrink model to first 33 iterations.\n",
      "========== Fold=1 ==========\n"
     ]
    },
    {
     "name": "stderr",
     "output_type": "stream",
     "text": [
      "Default metric period is 5 because AUC is/are not implemented for GPU\n",
      "AUC is not implemented on GPU. Will use CPU for metric computation, this could significantly affect learning time\n"
     ]
    },
    {
     "name": "stdout",
     "output_type": "stream",
     "text": [
      "0:\ttest: 0.7317990\tbest: 0.7317990 (0)\ttotal: 23.9ms\tremaining: 7m 58s\n",
      "bestTest = 0.8305743243\n",
      "bestIteration = 205\n",
      "Shrink model to first 206 iterations.\n",
      "========== Fold=2 ==========\n"
     ]
    },
    {
     "name": "stderr",
     "output_type": "stream",
     "text": [
      "Default metric period is 5 because AUC is/are not implemented for GPU\n",
      "AUC is not implemented on GPU. Will use CPU for metric computation, this could significantly affect learning time\n"
     ]
    },
    {
     "name": "stdout",
     "output_type": "stream",
     "text": [
      "0:\ttest: 0.8019003\tbest: 0.8019003 (0)\ttotal: 22.8ms\tremaining: 7m 36s\n",
      "bestTest = 0.8472128378\n",
      "bestIteration = 157\n",
      "Shrink model to first 158 iterations.\n",
      "========== Fold=3 ==========\n"
     ]
    },
    {
     "name": "stderr",
     "output_type": "stream",
     "text": [
      "Default metric period is 5 because AUC is/are not implemented for GPU\n",
      "AUC is not implemented on GPU. Will use CPU for metric computation, this could significantly affect learning time\n"
     ]
    },
    {
     "name": "stdout",
     "output_type": "stream",
     "text": [
      "0:\ttest: 0.7950000\tbest: 0.7950000 (0)\ttotal: 24.2ms\tremaining: 8m 3s\n",
      "bestTest = 0.8659322034\n",
      "bestIteration = 67\n",
      "Shrink model to first 68 iterations.\n",
      "========== Fold=4 ==========\n"
     ]
    },
    {
     "name": "stderr",
     "output_type": "stream",
     "text": [
      "Default metric period is 5 because AUC is/are not implemented for GPU\n",
      "AUC is not implemented on GPU. Will use CPU for metric computation, this could significantly affect learning time\n"
     ]
    },
    {
     "name": "stdout",
     "output_type": "stream",
     "text": [
      "0:\ttest: 0.7762712\tbest: 0.7762712 (0)\ttotal: 9.41ms\tremaining: 3m 8s\n",
      "bestTest = 0.8462711864\n",
      "bestIteration = 111\n",
      "Shrink model to first 112 iterations.\n",
      "========== Fold=5 ==========\n"
     ]
    },
    {
     "name": "stderr",
     "output_type": "stream",
     "text": [
      "Default metric period is 5 because AUC is/are not implemented for GPU\n",
      "AUC is not implemented on GPU. Will use CPU for metric computation, this could significantly affect learning time\n"
     ]
    },
    {
     "name": "stdout",
     "output_type": "stream",
     "text": [
      "0:\ttest: 0.7248305\tbest: 0.7248305 (0)\ttotal: 22.4ms\tremaining: 7m 27s\n"
     ]
    },
    {
     "name": "stderr",
     "output_type": "stream",
     "text": [
      "\u001b[32m[I 2023-01-19 20:54:25,333]\u001b[0m Trial 33 finished with value: 0.8344752877454299 and parameters: {'depth': 4, 'learning_rate': 0.2833372943407203, 'reg_lambda': 47}. Best is trial 19 with value: 0.8435104942450914.\u001b[0m\n"
     ]
    },
    {
     "name": "stdout",
     "output_type": "stream",
     "text": [
      "bestTest = 0.8023728814\n",
      "bestIteration = 28\n",
      "Shrink model to first 29 iterations.\n",
      "========== Fold=1 ==========\n"
     ]
    },
    {
     "name": "stderr",
     "output_type": "stream",
     "text": [
      "Default metric period is 5 because AUC is/are not implemented for GPU\n",
      "AUC is not implemented on GPU. Will use CPU for metric computation, this could significantly affect learning time\n"
     ]
    },
    {
     "name": "stdout",
     "output_type": "stream",
     "text": [
      "0:\ttest: 0.7222973\tbest: 0.7222973 (0)\ttotal: 17.9ms\tremaining: 5m 57s\n",
      "bestTest = 0.8242398649\n",
      "bestIteration = 44\n",
      "Shrink model to first 45 iterations.\n",
      "========== Fold=2 ==========\n"
     ]
    },
    {
     "name": "stderr",
     "output_type": "stream",
     "text": [
      "Default metric period is 5 because AUC is/are not implemented for GPU\n",
      "AUC is not implemented on GPU. Will use CPU for metric computation, this could significantly affect learning time\n"
     ]
    },
    {
     "name": "stdout",
     "output_type": "stream",
     "text": [
      "0:\ttest: 0.7858108\tbest: 0.7858108 (0)\ttotal: 26.8ms\tremaining: 8m 55s\n",
      "bestTest = 0.8449746622\n",
      "bestIteration = 6\n",
      "Shrink model to first 7 iterations.\n",
      "========== Fold=3 ==========\n"
     ]
    },
    {
     "name": "stderr",
     "output_type": "stream",
     "text": [
      "Default metric period is 5 because AUC is/are not implemented for GPU\n",
      "AUC is not implemented on GPU. Will use CPU for metric computation, this could significantly affect learning time\n"
     ]
    },
    {
     "name": "stdout",
     "output_type": "stream",
     "text": [
      "0:\ttest: 0.7811864\tbest: 0.7811864 (0)\ttotal: 25.1ms\tremaining: 8m 21s\n",
      "bestTest = 0.8588983051\n",
      "bestIteration = 42\n",
      "Shrink model to first 43 iterations.\n",
      "========== Fold=4 ==========\n"
     ]
    },
    {
     "name": "stderr",
     "output_type": "stream",
     "text": [
      "Default metric period is 5 because AUC is/are not implemented for GPU\n",
      "AUC is not implemented on GPU. Will use CPU for metric computation, this could significantly affect learning time\n"
     ]
    },
    {
     "name": "stdout",
     "output_type": "stream",
     "text": [
      "0:\ttest: 0.7722034\tbest: 0.7722034 (0)\ttotal: 26.7ms\tremaining: 8m 54s\n",
      "bestTest = 0.8102542373\n",
      "bestIteration = 35\n",
      "Shrink model to first 36 iterations.\n",
      "========== Fold=5 ==========\n"
     ]
    },
    {
     "name": "stderr",
     "output_type": "stream",
     "text": [
      "Default metric period is 5 because AUC is/are not implemented for GPU\n",
      "AUC is not implemented on GPU. Will use CPU for metric computation, this could significantly affect learning time\n"
     ]
    },
    {
     "name": "stdout",
     "output_type": "stream",
     "text": [
      "0:\ttest: 0.7436864\tbest: 0.7436864 (0)\ttotal: 27.1ms\tremaining: 9m 1s\n"
     ]
    },
    {
     "name": "stderr",
     "output_type": "stream",
     "text": [
      "\u001b[32m[I 2023-01-19 20:54:44,068]\u001b[0m Trial 34 finished with value: 0.8211560595802302 and parameters: {'depth': 6, 'learning_rate': 0.4478972300371589, 'reg_lambda': 59}. Best is trial 19 with value: 0.8435104942450914.\u001b[0m\n"
     ]
    },
    {
     "name": "stdout",
     "output_type": "stream",
     "text": [
      "bestTest = 0.7876271186\n",
      "bestIteration = 29\n",
      "Shrink model to first 30 iterations.\n",
      "========== Fold=1 ==========\n"
     ]
    },
    {
     "name": "stderr",
     "output_type": "stream",
     "text": [
      "Default metric period is 5 because AUC is/are not implemented for GPU\n",
      "AUC is not implemented on GPU. Will use CPU for metric computation, this could significantly affect learning time\n"
     ]
    },
    {
     "name": "stdout",
     "output_type": "stream",
     "text": [
      "0:\ttest: 0.7297720\tbest: 0.7297720 (0)\ttotal: 22.7ms\tremaining: 7m 34s\n",
      "bestTest = 0.828125\n",
      "bestIteration = 74\n",
      "Shrink model to first 75 iterations.\n",
      "========== Fold=2 ==========\n"
     ]
    },
    {
     "name": "stderr",
     "output_type": "stream",
     "text": [
      "Default metric period is 5 because AUC is/are not implemented for GPU\n",
      "AUC is not implemented on GPU. Will use CPU for metric computation, this could significantly affect learning time\n"
     ]
    },
    {
     "name": "stdout",
     "output_type": "stream",
     "text": [
      "0:\ttest: 0.7980152\tbest: 0.7980152 (0)\ttotal: 22.8ms\tremaining: 7m 36s\n",
      "bestTest = 0.84375\n",
      "bestIteration = 170\n",
      "Shrink model to first 171 iterations.\n",
      "========== Fold=3 ==========\n"
     ]
    },
    {
     "name": "stderr",
     "output_type": "stream",
     "text": [
      "Default metric period is 5 because AUC is/are not implemented for GPU\n",
      "AUC is not implemented on GPU. Will use CPU for metric computation, this could significantly affect learning time\n"
     ]
    },
    {
     "name": "stdout",
     "output_type": "stream",
     "text": [
      "0:\ttest: 0.7762712\tbest: 0.7762712 (0)\ttotal: 23.1ms\tremaining: 7m 42s\n",
      "bestTest = 0.88\n",
      "bestIteration = 94\n",
      "Shrink model to first 95 iterations.\n",
      "========== Fold=4 ==========\n"
     ]
    },
    {
     "name": "stderr",
     "output_type": "stream",
     "text": [
      "Default metric period is 5 because AUC is/are not implemented for GPU\n",
      "AUC is not implemented on GPU. Will use CPU for metric computation, this could significantly affect learning time\n"
     ]
    },
    {
     "name": "stdout",
     "output_type": "stream",
     "text": [
      "0:\ttest: 0.7417797\tbest: 0.7417797 (0)\ttotal: 22.2ms\tremaining: 7m 24s\n",
      "bestTest = 0.8456779661\n",
      "bestIteration = 48\n",
      "Shrink model to first 49 iterations.\n",
      "========== Fold=5 ==========\n"
     ]
    },
    {
     "name": "stderr",
     "output_type": "stream",
     "text": [
      "Default metric period is 5 because AUC is/are not implemented for GPU\n",
      "AUC is not implemented on GPU. Will use CPU for metric computation, this could significantly affect learning time\n"
     ]
    },
    {
     "name": "stdout",
     "output_type": "stream",
     "text": [
      "0:\ttest: 0.7588136\tbest: 0.7588136 (0)\ttotal: 22.7ms\tremaining: 7m 34s\n"
     ]
    },
    {
     "name": "stderr",
     "output_type": "stream",
     "text": [
      "\u001b[32m[I 2023-01-19 20:55:05,353]\u001b[0m Trial 35 finished with value: 0.8392010832769127 and parameters: {'depth': 4, 'learning_rate': 0.37511369449897314, 'reg_lambda': 86}. Best is trial 19 with value: 0.8435104942450914.\u001b[0m\n"
     ]
    },
    {
     "name": "stdout",
     "output_type": "stream",
     "text": [
      "bestTest = 0.8171186441\n",
      "bestIteration = 33\n",
      "Shrink model to first 34 iterations.\n",
      "========== Fold=1 ==========\n"
     ]
    },
    {
     "name": "stderr",
     "output_type": "stream",
     "text": [
      "Default metric period is 5 because AUC is/are not implemented for GPU\n",
      "AUC is not implemented on GPU. Will use CPU for metric computation, this could significantly affect learning time\n"
     ]
    },
    {
     "name": "stdout",
     "output_type": "stream",
     "text": [
      "0:\ttest: 0.7692145\tbest: 0.7692145 (0)\ttotal: 11.1ms\tremaining: 3m 41s\n",
      "bestTest = 0.8249155405\n",
      "bestIteration = 118\n",
      "Shrink model to first 119 iterations.\n",
      "========== Fold=2 ==========\n"
     ]
    },
    {
     "name": "stderr",
     "output_type": "stream",
     "text": [
      "Default metric period is 5 because AUC is/are not implemented for GPU\n",
      "AUC is not implemented on GPU. Will use CPU for metric computation, this could significantly affect learning time\n"
     ]
    },
    {
     "name": "stdout",
     "output_type": "stream",
     "text": [
      "0:\ttest: 0.7967905\tbest: 0.7967905 (0)\ttotal: 21.2ms\tremaining: 7m 3s\n",
      "bestTest = 0.8434121622\n",
      "bestIteration = 111\n",
      "Shrink model to first 112 iterations.\n",
      "========== Fold=3 ==========\n"
     ]
    },
    {
     "name": "stderr",
     "output_type": "stream",
     "text": [
      "Default metric period is 5 because AUC is/are not implemented for GPU\n",
      "AUC is not implemented on GPU. Will use CPU for metric computation, this could significantly affect learning time\n"
     ]
    },
    {
     "name": "stdout",
     "output_type": "stream",
     "text": [
      "0:\ttest: 0.7972034\tbest: 0.7972034 (0)\ttotal: 10.2ms\tremaining: 3m 24s\n",
      "bestTest = 0.8828813559\n",
      "bestIteration = 37\n",
      "Shrink model to first 38 iterations.\n",
      "========== Fold=4 ==========\n"
     ]
    },
    {
     "name": "stderr",
     "output_type": "stream",
     "text": [
      "Default metric period is 5 because AUC is/are not implemented for GPU\n",
      "AUC is not implemented on GPU. Will use CPU for metric computation, this could significantly affect learning time\n"
     ]
    },
    {
     "name": "stdout",
     "output_type": "stream",
     "text": [
      "0:\ttest: 0.7751695\tbest: 0.7751695 (0)\ttotal: 25.1ms\tremaining: 8m 22s\n",
      "bestTest = 0.8386440678\n",
      "bestIteration = 81\n",
      "Shrink model to first 82 iterations.\n",
      "========== Fold=5 ==========\n"
     ]
    },
    {
     "name": "stderr",
     "output_type": "stream",
     "text": [
      "Default metric period is 5 because AUC is/are not implemented for GPU\n",
      "AUC is not implemented on GPU. Will use CPU for metric computation, this could significantly affect learning time\n"
     ]
    },
    {
     "name": "stdout",
     "output_type": "stream",
     "text": [
      "0:\ttest: 0.7536864\tbest: 0.7536864 (0)\ttotal: 26.3ms\tremaining: 8m 45s\n"
     ]
    },
    {
     "name": "stderr",
     "output_type": "stream",
     "text": [
      "\u001b[32m[I 2023-01-19 20:55:26,754]\u001b[0m Trial 36 finished with value: 0.8333953960731213 and parameters: {'depth': 5, 'learning_rate': 0.24713785453193876, 'reg_lambda': 30}. Best is trial 19 with value: 0.8435104942450914.\u001b[0m\n"
     ]
    },
    {
     "name": "stdout",
     "output_type": "stream",
     "text": [
      "bestTest = 0.7942372881\n",
      "bestIteration = 32\n",
      "Shrink model to first 33 iterations.\n",
      "========== Fold=1 ==========\n"
     ]
    },
    {
     "name": "stderr",
     "output_type": "stream",
     "text": [
      "Default metric period is 5 because AUC is/are not implemented for GPU\n",
      "AUC is not implemented on GPU. Will use CPU for metric computation, this could significantly affect learning time\n"
     ]
    },
    {
     "name": "stdout",
     "output_type": "stream",
     "text": [
      "0:\ttest: 0.7297720\tbest: 0.7297720 (0)\ttotal: 22.6ms\tremaining: 7m 31s\n",
      "bestTest = 0.8402027027\n",
      "bestIteration = 347\n",
      "Shrink model to first 348 iterations.\n",
      "========== Fold=2 ==========\n"
     ]
    },
    {
     "name": "stderr",
     "output_type": "stream",
     "text": [
      "Default metric period is 5 because AUC is/are not implemented for GPU\n",
      "AUC is not implemented on GPU. Will use CPU for metric computation, this could significantly affect learning time\n"
     ]
    },
    {
     "name": "stdout",
     "output_type": "stream",
     "text": [
      "0:\ttest: 0.7980152\tbest: 0.7980152 (0)\ttotal: 22.2ms\tremaining: 7m 24s\n",
      "bestTest = 0.8325591216\n",
      "bestIteration = 11\n",
      "Shrink model to first 12 iterations.\n",
      "========== Fold=3 ==========\n"
     ]
    },
    {
     "name": "stderr",
     "output_type": "stream",
     "text": [
      "Default metric period is 5 because AUC is/are not implemented for GPU\n",
      "AUC is not implemented on GPU. Will use CPU for metric computation, this could significantly affect learning time\n"
     ]
    },
    {
     "name": "stdout",
     "output_type": "stream",
     "text": [
      "0:\ttest: 0.7762712\tbest: 0.7762712 (0)\ttotal: 22.7ms\tremaining: 7m 33s\n",
      "bestTest = 0.8849152542\n",
      "bestIteration = 132\n",
      "Shrink model to first 133 iterations.\n",
      "========== Fold=4 ==========\n"
     ]
    },
    {
     "name": "stderr",
     "output_type": "stream",
     "text": [
      "Default metric period is 5 because AUC is/are not implemented for GPU\n",
      "AUC is not implemented on GPU. Will use CPU for metric computation, this could significantly affect learning time\n"
     ]
    },
    {
     "name": "stdout",
     "output_type": "stream",
     "text": [
      "0:\ttest: 0.7794915\tbest: 0.7794915 (0)\ttotal: 10.3ms\tremaining: 3m 26s\n",
      "bestTest = 0.8557627119\n",
      "bestIteration = 192\n",
      "Shrink model to first 193 iterations.\n",
      "========== Fold=5 ==========\n"
     ]
    },
    {
     "name": "stderr",
     "output_type": "stream",
     "text": [
      "Default metric period is 5 because AUC is/are not implemented for GPU\n",
      "AUC is not implemented on GPU. Will use CPU for metric computation, this could significantly affect learning time\n"
     ]
    },
    {
     "name": "stdout",
     "output_type": "stream",
     "text": [
      "0:\ttest: 0.7588136\tbest: 0.7588136 (0)\ttotal: 33.2ms\tremaining: 11m 4s\n"
     ]
    },
    {
     "name": "stderr",
     "output_type": "stream",
     "text": [
      "\u001b[32m[I 2023-01-19 20:55:53,852]\u001b[0m Trial 37 finished with value: 0.8376184834123223 and parameters: {'depth': 4, 'learning_rate': 0.17324133969222047, 'reg_lambda': 75}. Best is trial 19 with value: 0.8435104942450914.\u001b[0m\n"
     ]
    },
    {
     "name": "stdout",
     "output_type": "stream",
     "text": [
      "bestTest = 0.8053389831\n",
      "bestIteration = 71\n",
      "Shrink model to first 72 iterations.\n",
      "========== Fold=1 ==========\n"
     ]
    },
    {
     "name": "stderr",
     "output_type": "stream",
     "text": [
      "Default metric period is 5 because AUC is/are not implemented for GPU\n",
      "AUC is not implemented on GPU. Will use CPU for metric computation, this could significantly affect learning time\n"
     ]
    },
    {
     "name": "stdout",
     "output_type": "stream",
     "text": [
      "0:\ttest: 0.7304476\tbest: 0.7304476 (0)\ttotal: 24.2ms\tremaining: 8m 3s\n",
      "bestTest = 0.8519425676\n",
      "bestIteration = 670\n",
      "Shrink model to first 671 iterations.\n",
      "========== Fold=2 ==========\n"
     ]
    },
    {
     "name": "stderr",
     "output_type": "stream",
     "text": [
      "Default metric period is 5 because AUC is/are not implemented for GPU\n",
      "AUC is not implemented on GPU. Will use CPU for metric computation, this could significantly affect learning time\n"
     ]
    },
    {
     "name": "stdout",
     "output_type": "stream",
     "text": [
      "0:\ttest: 0.7930743\tbest: 0.7930743 (0)\ttotal: 24.4ms\tremaining: 8m 8s\n",
      "bestTest = 0.8502111486\n",
      "bestIteration = 18\n",
      "Shrink model to first 19 iterations.\n",
      "========== Fold=3 ==========\n"
     ]
    },
    {
     "name": "stderr",
     "output_type": "stream",
     "text": [
      "Default metric period is 5 because AUC is/are not implemented for GPU\n",
      "AUC is not implemented on GPU. Will use CPU for metric computation, this could significantly affect learning time\n"
     ]
    },
    {
     "name": "stdout",
     "output_type": "stream",
     "text": [
      "0:\ttest: 0.7829661\tbest: 0.7829661 (0)\ttotal: 24.3ms\tremaining: 8m 5s\n",
      "bestTest = 0.8849152542\n",
      "bestIteration = 268\n",
      "Shrink model to first 269 iterations.\n",
      "========== Fold=4 ==========\n"
     ]
    },
    {
     "name": "stderr",
     "output_type": "stream",
     "text": [
      "Default metric period is 5 because AUC is/are not implemented for GPU\n",
      "AUC is not implemented on GPU. Will use CPU for metric computation, this could significantly affect learning time\n"
     ]
    },
    {
     "name": "stdout",
     "output_type": "stream",
     "text": [
      "0:\ttest: 0.7687712\tbest: 0.7687712 (0)\ttotal: 10.6ms\tremaining: 3m 32s\n",
      "bestTest = 0.8398305085\n",
      "bestIteration = 233\n",
      "Shrink model to first 234 iterations.\n",
      "========== Fold=5 ==========\n"
     ]
    },
    {
     "name": "stderr",
     "output_type": "stream",
     "text": [
      "Default metric period is 5 because AUC is/are not implemented for GPU\n",
      "AUC is not implemented on GPU. Will use CPU for metric computation, this could significantly affect learning time\n"
     ]
    },
    {
     "name": "stdout",
     "output_type": "stream",
     "text": [
      "0:\ttest: 0.7461864\tbest: 0.7461864 (0)\ttotal: 24.8ms\tremaining: 8m 15s\n"
     ]
    },
    {
     "name": "stderr",
     "output_type": "stream",
     "text": [
      "\u001b[32m[I 2023-01-19 20:56:34,277]\u001b[0m Trial 38 finished with value: 0.8392467840216655 and parameters: {'depth': 5, 'learning_rate': 0.0912041564217616, 'reg_lambda': 65}. Best is trial 19 with value: 0.8435104942450914.\u001b[0m\n"
     ]
    },
    {
     "name": "stdout",
     "output_type": "stream",
     "text": [
      "bestTest = 0.8044915254\n",
      "bestIteration = 108\n",
      "Shrink model to first 109 iterations.\n",
      "========== Fold=1 ==========\n"
     ]
    },
    {
     "name": "stderr",
     "output_type": "stream",
     "text": [
      "Default metric period is 5 because AUC is/are not implemented for GPU\n",
      "AUC is not implemented on GPU. Will use CPU for metric computation, this could significantly affect learning time\n"
     ]
    },
    {
     "name": "stdout",
     "output_type": "stream",
     "text": [
      "0:\ttest: 0.7317990\tbest: 0.7317990 (0)\ttotal: 22.2ms\tremaining: 7m 23s\n",
      "bestTest = 0.8374155405\n",
      "bestIteration = 98\n",
      "Shrink model to first 99 iterations.\n",
      "========== Fold=2 ==========\n"
     ]
    },
    {
     "name": "stderr",
     "output_type": "stream",
     "text": [
      "Default metric period is 5 because AUC is/are not implemented for GPU\n",
      "AUC is not implemented on GPU. Will use CPU for metric computation, this could significantly affect learning time\n"
     ]
    },
    {
     "name": "stdout",
     "output_type": "stream",
     "text": [
      "0:\ttest: 0.8019003\tbest: 0.8019003 (0)\ttotal: 14.9ms\tremaining: 4m 59s\n",
      "bestTest = 0.8364864865\n",
      "bestIteration = 24\n",
      "Shrink model to first 25 iterations.\n",
      "========== Fold=3 ==========\n"
     ]
    },
    {
     "name": "stderr",
     "output_type": "stream",
     "text": [
      "Default metric period is 5 because AUC is/are not implemented for GPU\n",
      "AUC is not implemented on GPU. Will use CPU for metric computation, this could significantly affect learning time\n"
     ]
    },
    {
     "name": "stdout",
     "output_type": "stream",
     "text": [
      "0:\ttest: 0.7951695\tbest: 0.7951695 (0)\ttotal: 18.7ms\tremaining: 6m 13s\n",
      "bestTest = 0.8754237288\n",
      "bestIteration = 40\n",
      "Shrink model to first 41 iterations.\n",
      "========== Fold=4 ==========\n"
     ]
    },
    {
     "name": "stderr",
     "output_type": "stream",
     "text": [
      "Default metric period is 5 because AUC is/are not implemented for GPU\n",
      "AUC is not implemented on GPU. Will use CPU for metric computation, this could significantly affect learning time\n"
     ]
    },
    {
     "name": "stdout",
     "output_type": "stream",
     "text": [
      "0:\ttest: 0.7762712\tbest: 0.7762712 (0)\ttotal: 26.9ms\tremaining: 8m 57s\n",
      "bestTest = 0.8608474576\n",
      "bestIteration = 64\n",
      "Shrink model to first 65 iterations.\n",
      "========== Fold=5 ==========\n"
     ]
    },
    {
     "name": "stderr",
     "output_type": "stream",
     "text": [
      "Default metric period is 5 because AUC is/are not implemented for GPU\n",
      "AUC is not implemented on GPU. Will use CPU for metric computation, this could significantly affect learning time\n"
     ]
    },
    {
     "name": "stdout",
     "output_type": "stream",
     "text": [
      "0:\ttest: 0.7653814\tbest: 0.7653814 (0)\ttotal: 21.7ms\tremaining: 7m 14s\n"
     ]
    },
    {
     "name": "stderr",
     "output_type": "stream",
     "text": [
      "\u001b[32m[I 2023-01-19 20:56:52,194]\u001b[0m Trial 39 finished with value: 0.8404400812457686 and parameters: {'depth': 4, 'learning_rate': 0.3280899257492323, 'reg_lambda': 35}. Best is trial 19 with value: 0.8435104942450914.\u001b[0m\n"
     ]
    },
    {
     "name": "stdout",
     "output_type": "stream",
     "text": [
      "bestTest = 0.811779661\n",
      "bestIteration = 25\n",
      "Shrink model to first 26 iterations.\n",
      "========== Fold=1 ==========\n"
     ]
    },
    {
     "name": "stderr",
     "output_type": "stream",
     "text": [
      "Default metric period is 5 because AUC is/are not implemented for GPU\n",
      "AUC is not implemented on GPU. Will use CPU for metric computation, this could significantly affect learning time\n"
     ]
    },
    {
     "name": "stdout",
     "output_type": "stream",
     "text": [
      "0:\ttest: 0.7317990\tbest: 0.7317990 (0)\ttotal: 21.8ms\tremaining: 7m 16s\n",
      "bestTest = 0.8436655405\n",
      "bestIteration = 86\n",
      "Shrink model to first 87 iterations.\n",
      "========== Fold=2 ==========\n"
     ]
    },
    {
     "name": "stderr",
     "output_type": "stream",
     "text": [
      "Default metric period is 5 because AUC is/are not implemented for GPU\n",
      "AUC is not implemented on GPU. Will use CPU for metric computation, this could significantly affect learning time\n"
     ]
    },
    {
     "name": "stdout",
     "output_type": "stream",
     "text": [
      "0:\ttest: 0.8019003\tbest: 0.8019003 (0)\ttotal: 21.5ms\tremaining: 7m 10s\n",
      "bestTest = 0.8210304054\n",
      "bestIteration = 15\n",
      "Shrink model to first 16 iterations.\n",
      "========== Fold=3 ==========\n"
     ]
    },
    {
     "name": "stderr",
     "output_type": "stream",
     "text": [
      "Default metric period is 5 because AUC is/are not implemented for GPU\n",
      "AUC is not implemented on GPU. Will use CPU for metric computation, this could significantly affect learning time\n"
     ]
    },
    {
     "name": "stdout",
     "output_type": "stream",
     "text": [
      "0:\ttest: 0.7951695\tbest: 0.7951695 (0)\ttotal: 22.4ms\tremaining: 7m 28s\n",
      "bestTest = 0.8605932203\n",
      "bestIteration = 35\n",
      "Shrink model to first 36 iterations.\n",
      "========== Fold=4 ==========\n"
     ]
    },
    {
     "name": "stderr",
     "output_type": "stream",
     "text": [
      "Default metric period is 5 because AUC is/are not implemented for GPU\n",
      "AUC is not implemented on GPU. Will use CPU for metric computation, this could significantly affect learning time\n"
     ]
    },
    {
     "name": "stdout",
     "output_type": "stream",
     "text": [
      "0:\ttest: 0.7762712\tbest: 0.7762712 (0)\ttotal: 23.5ms\tremaining: 7m 50s\n",
      "bestTest = 0.8416101695\n",
      "bestIteration = 10\n",
      "Shrink model to first 11 iterations.\n",
      "========== Fold=5 ==========\n"
     ]
    },
    {
     "name": "stderr",
     "output_type": "stream",
     "text": [
      "Default metric period is 5 because AUC is/are not implemented for GPU\n",
      "AUC is not implemented on GPU. Will use CPU for metric computation, this could significantly affect learning time\n"
     ]
    },
    {
     "name": "stdout",
     "output_type": "stream",
     "text": [
      "0:\ttest: 0.7653814\tbest: 0.7653814 (0)\ttotal: 23.6ms\tremaining: 7m 52s\n"
     ]
    },
    {
     "name": "stderr",
     "output_type": "stream",
     "text": [
      "\u001b[32m[I 2023-01-19 20:57:08,455]\u001b[0m Trial 40 finished with value: 0.8300118483412322 and parameters: {'depth': 4, 'learning_rate': 0.8767659944288062, 'reg_lambda': 36}. Best is trial 19 with value: 0.8435104942450914.\u001b[0m\n"
     ]
    },
    {
     "name": "stdout",
     "output_type": "stream",
     "text": [
      "bestTest = 0.7876694915\n",
      "bestIteration = 9\n",
      "Shrink model to first 10 iterations.\n",
      "========== Fold=1 ==========\n"
     ]
    },
    {
     "name": "stderr",
     "output_type": "stream",
     "text": [
      "Default metric period is 5 because AUC is/are not implemented for GPU\n",
      "AUC is not implemented on GPU. Will use CPU for metric computation, this could significantly affect learning time\n"
     ]
    },
    {
     "name": "stdout",
     "output_type": "stream",
     "text": [
      "0:\ttest: 0.7317990\tbest: 0.7317990 (0)\ttotal: 22.8ms\tremaining: 7m 35s\n",
      "bestTest = 0.8220439189\n",
      "bestIteration = 65\n",
      "Shrink model to first 66 iterations.\n",
      "========== Fold=2 ==========\n"
     ]
    },
    {
     "name": "stderr",
     "output_type": "stream",
     "text": [
      "Default metric period is 5 because AUC is/are not implemented for GPU\n",
      "AUC is not implemented on GPU. Will use CPU for metric computation, this could significantly affect learning time\n"
     ]
    },
    {
     "name": "stdout",
     "output_type": "stream",
     "text": [
      "0:\ttest: 0.8019003\tbest: 0.8019003 (0)\ttotal: 22.1ms\tremaining: 7m 21s\n",
      "bestTest = 0.851097973\n",
      "bestIteration = 157\n",
      "Shrink model to first 158 iterations.\n",
      "========== Fold=3 ==========\n"
     ]
    },
    {
     "name": "stderr",
     "output_type": "stream",
     "text": [
      "Default metric period is 5 because AUC is/are not implemented for GPU\n",
      "AUC is not implemented on GPU. Will use CPU for metric computation, this could significantly affect learning time\n"
     ]
    },
    {
     "name": "stdout",
     "output_type": "stream",
     "text": [
      "0:\ttest: 0.7961864\tbest: 0.7961864 (0)\ttotal: 22.9ms\tremaining: 7m 38s\n",
      "bestTest = 0.8766101695\n",
      "bestIteration = 39\n",
      "Shrink model to first 40 iterations.\n",
      "========== Fold=4 ==========\n"
     ]
    },
    {
     "name": "stderr",
     "output_type": "stream",
     "text": [
      "Default metric period is 5 because AUC is/are not implemented for GPU\n",
      "AUC is not implemented on GPU. Will use CPU for metric computation, this could significantly affect learning time\n"
     ]
    },
    {
     "name": "stdout",
     "output_type": "stream",
     "text": [
      "0:\ttest: 0.7762712\tbest: 0.7762712 (0)\ttotal: 22.7ms\tremaining: 7m 33s\n",
      "bestTest = 0.858220339\n",
      "bestIteration = 87\n",
      "Shrink model to first 88 iterations.\n",
      "========== Fold=5 ==========\n"
     ]
    },
    {
     "name": "stderr",
     "output_type": "stream",
     "text": [
      "Default metric period is 5 because AUC is/are not implemented for GPU\n",
      "AUC is not implemented on GPU. Will use CPU for metric computation, this could significantly affect learning time\n"
     ]
    },
    {
     "name": "stdout",
     "output_type": "stream",
     "text": [
      "0:\ttest: 0.7248305\tbest: 0.7248305 (0)\ttotal: 22.6ms\tremaining: 7m 31s\n"
     ]
    },
    {
     "name": "stderr",
     "output_type": "stream",
     "text": [
      "\u001b[32m[I 2023-01-19 20:57:29,111]\u001b[0m Trial 41 finished with value: 0.8395497630331753 and parameters: {'depth': 4, 'learning_rate': 0.337831128898707, 'reg_lambda': 44}. Best is trial 19 with value: 0.8435104942450914.\u001b[0m\n"
     ]
    },
    {
     "name": "stdout",
     "output_type": "stream",
     "text": [
      "bestTest = 0.8078813559\n",
      "bestIteration = 36\n",
      "Shrink model to first 37 iterations.\n",
      "========== Fold=1 ==========\n"
     ]
    },
    {
     "name": "stderr",
     "output_type": "stream",
     "text": [
      "Default metric period is 5 because AUC is/are not implemented for GPU\n",
      "AUC is not implemented on GPU. Will use CPU for metric computation, this could significantly affect learning time\n"
     ]
    },
    {
     "name": "stdout",
     "output_type": "stream",
     "text": [
      "0:\ttest: 0.7317990\tbest: 0.7317990 (0)\ttotal: 9.25ms\tremaining: 3m 5s\n",
      "bestTest = 0.8413006757\n",
      "bestIteration = 109\n",
      "Shrink model to first 110 iterations.\n",
      "========== Fold=2 ==========\n"
     ]
    },
    {
     "name": "stderr",
     "output_type": "stream",
     "text": [
      "Default metric period is 5 because AUC is/are not implemented for GPU\n",
      "AUC is not implemented on GPU. Will use CPU for metric computation, this could significantly affect learning time\n"
     ]
    },
    {
     "name": "stdout",
     "output_type": "stream",
     "text": [
      "0:\ttest: 0.8019003\tbest: 0.8019003 (0)\ttotal: 23.8ms\tremaining: 7m 55s\n",
      "bestTest = 0.8504222973\n",
      "bestIteration = 92\n",
      "Shrink model to first 93 iterations.\n",
      "========== Fold=3 ==========\n"
     ]
    },
    {
     "name": "stderr",
     "output_type": "stream",
     "text": [
      "Default metric period is 5 because AUC is/are not implemented for GPU\n",
      "AUC is not implemented on GPU. Will use CPU for metric computation, this could significantly affect learning time\n"
     ]
    },
    {
     "name": "stdout",
     "output_type": "stream",
     "text": [
      "0:\ttest: 0.7961864\tbest: 0.7961864 (0)\ttotal: 22.4ms\tremaining: 7m 28s\n",
      "bestTest = 0.8742372881\n",
      "bestIteration = 39\n",
      "Shrink model to first 40 iterations.\n",
      "========== Fold=4 ==========\n"
     ]
    },
    {
     "name": "stderr",
     "output_type": "stream",
     "text": [
      "Default metric period is 5 because AUC is/are not implemented for GPU\n",
      "AUC is not implemented on GPU. Will use CPU for metric computation, this could significantly affect learning time\n"
     ]
    },
    {
     "name": "stdout",
     "output_type": "stream",
     "text": [
      "0:\ttest: 0.7762712\tbest: 0.7762712 (0)\ttotal: 22.1ms\tremaining: 7m 22s\n",
      "bestTest = 0.8499152542\n",
      "bestIteration = 44\n",
      "Shrink model to first 45 iterations.\n",
      "========== Fold=5 ==========\n"
     ]
    },
    {
     "name": "stderr",
     "output_type": "stream",
     "text": [
      "Default metric period is 5 because AUC is/are not implemented for GPU\n",
      "AUC is not implemented on GPU. Will use CPU for metric computation, this could significantly affect learning time\n"
     ]
    },
    {
     "name": "stdout",
     "output_type": "stream",
     "text": [
      "0:\ttest: 0.7248305\tbest: 0.7248305 (0)\ttotal: 34.3ms\tremaining: 11m 25s\n"
     ]
    },
    {
     "name": "stderr",
     "output_type": "stream",
     "text": [
      "\u001b[32m[I 2023-01-19 20:57:48,703]\u001b[0m Trial 42 finished with value: 0.839945836154367 and parameters: {'depth': 4, 'learning_rate': 0.33013506443359114, 'reg_lambda': 44}. Best is trial 19 with value: 0.8435104942450914.\u001b[0m\n"
     ]
    },
    {
     "name": "stdout",
     "output_type": "stream",
     "text": [
      "bestTest = 0.7945762712\n",
      "bestIteration = 22\n",
      "Shrink model to first 23 iterations.\n",
      "========== Fold=1 ==========\n"
     ]
    },
    {
     "name": "stderr",
     "output_type": "stream",
     "text": [
      "Default metric period is 5 because AUC is/are not implemented for GPU\n",
      "AUC is not implemented on GPU. Will use CPU for metric computation, this could significantly affect learning time\n"
     ]
    },
    {
     "name": "stdout",
     "output_type": "stream",
     "text": [
      "0:\ttest: 0.7317990\tbest: 0.7317990 (0)\ttotal: 22.4ms\tremaining: 7m 27s\n",
      "bestTest = 0.8361486486\n",
      "bestIteration = 169\n",
      "Shrink model to first 170 iterations.\n",
      "========== Fold=2 ==========\n"
     ]
    },
    {
     "name": "stderr",
     "output_type": "stream",
     "text": [
      "Default metric period is 5 because AUC is/are not implemented for GPU\n",
      "AUC is not implemented on GPU. Will use CPU for metric computation, this could significantly affect learning time\n"
     ]
    },
    {
     "name": "stdout",
     "output_type": "stream",
     "text": [
      "0:\ttest: 0.8019003\tbest: 0.8019003 (0)\ttotal: 22.9ms\tremaining: 7m 37s\n",
      "bestTest = 0.8518581081\n",
      "bestIteration = 56\n",
      "Shrink model to first 57 iterations.\n",
      "========== Fold=3 ==========\n"
     ]
    },
    {
     "name": "stderr",
     "output_type": "stream",
     "text": [
      "Default metric period is 5 because AUC is/are not implemented for GPU\n",
      "AUC is not implemented on GPU. Will use CPU for metric computation, this could significantly affect learning time\n"
     ]
    },
    {
     "name": "stdout",
     "output_type": "stream",
     "text": [
      "0:\ttest: 0.7951695\tbest: 0.7951695 (0)\ttotal: 22.3ms\tremaining: 7m 26s\n",
      "bestTest = 0.8616101695\n",
      "bestIteration = 21\n",
      "Shrink model to first 22 iterations.\n",
      "========== Fold=4 ==========\n"
     ]
    },
    {
     "name": "stderr",
     "output_type": "stream",
     "text": [
      "Default metric period is 5 because AUC is/are not implemented for GPU\n",
      "AUC is not implemented on GPU. Will use CPU for metric computation, this could significantly affect learning time\n"
     ]
    },
    {
     "name": "stdout",
     "output_type": "stream",
     "text": [
      "0:\ttest: 0.7762712\tbest: 0.7762712 (0)\ttotal: 22.5ms\tremaining: 7m 30s\n",
      "bestTest = 0.8506779661\n",
      "bestIteration = 24\n",
      "Shrink model to first 25 iterations.\n",
      "========== Fold=5 ==========\n"
     ]
    },
    {
     "name": "stderr",
     "output_type": "stream",
     "text": [
      "Default metric period is 5 because AUC is/are not implemented for GPU\n",
      "AUC is not implemented on GPU. Will use CPU for metric computation, this could significantly affect learning time\n"
     ]
    },
    {
     "name": "stdout",
     "output_type": "stream",
     "text": [
      "0:\ttest: 0.7653814\tbest: 0.7653814 (0)\ttotal: 9.3ms\tremaining: 3m 6s\n"
     ]
    },
    {
     "name": "stderr",
     "output_type": "stream",
     "text": [
      "\u001b[32m[I 2023-01-19 20:58:07,326]\u001b[0m Trial 43 finished with value: 0.8326844955991876 and parameters: {'depth': 4, 'learning_rate': 0.45147775849901706, 'reg_lambda': 36}. Best is trial 19 with value: 0.8435104942450914.\u001b[0m\n"
     ]
    },
    {
     "name": "stdout",
     "output_type": "stream",
     "text": [
      "bestTest = 0.7869491525\n",
      "bestIteration = 19\n",
      "Shrink model to first 20 iterations.\n",
      "========== Fold=1 ==========\n"
     ]
    },
    {
     "name": "stderr",
     "output_type": "stream",
     "text": [
      "Default metric period is 5 because AUC is/are not implemented for GPU\n",
      "AUC is not implemented on GPU. Will use CPU for metric computation, this could significantly affect learning time\n"
     ]
    },
    {
     "name": "stdout",
     "output_type": "stream",
     "text": [
      "0:\ttest: 0.7375000\tbest: 0.7375000 (0)\ttotal: 20.7ms\tremaining: 6m 54s\n",
      "bestTest = 0.8298986486\n",
      "bestIteration = 138\n",
      "Shrink model to first 139 iterations.\n",
      "========== Fold=2 ==========\n"
     ]
    },
    {
     "name": "stderr",
     "output_type": "stream",
     "text": [
      "Default metric period is 5 because AUC is/are not implemented for GPU\n",
      "AUC is not implemented on GPU. Will use CPU for metric computation, this could significantly affect learning time\n"
     ]
    },
    {
     "name": "stdout",
     "output_type": "stream",
     "text": [
      "0:\ttest: 0.7801098\tbest: 0.7801098 (0)\ttotal: 21.1ms\tremaining: 7m 1s\n",
      "bestTest = 0.8412162162\n",
      "bestIteration = 79\n",
      "Shrink model to first 80 iterations.\n",
      "========== Fold=3 ==========\n"
     ]
    },
    {
     "name": "stderr",
     "output_type": "stream",
     "text": [
      "Default metric period is 5 because AUC is/are not implemented for GPU\n",
      "AUC is not implemented on GPU. Will use CPU for metric computation, this could significantly affect learning time\n"
     ]
    },
    {
     "name": "stdout",
     "output_type": "stream",
     "text": [
      "0:\ttest: 0.7758051\tbest: 0.7758051 (0)\ttotal: 13.5ms\tremaining: 4m 29s\n",
      "bestTest = 0.8726271186\n",
      "bestIteration = 43\n",
      "Shrink model to first 44 iterations.\n",
      "========== Fold=4 ==========\n"
     ]
    },
    {
     "name": "stderr",
     "output_type": "stream",
     "text": [
      "Default metric period is 5 because AUC is/are not implemented for GPU\n",
      "AUC is not implemented on GPU. Will use CPU for metric computation, this could significantly affect learning time\n"
     ]
    },
    {
     "name": "stdout",
     "output_type": "stream",
     "text": [
      "0:\ttest: 0.7622034\tbest: 0.7622034 (0)\ttotal: 19.9ms\tremaining: 6m 38s\n",
      "bestTest = 0.856440678\n",
      "bestIteration = 30\n",
      "Shrink model to first 31 iterations.\n",
      "========== Fold=5 ==========\n"
     ]
    },
    {
     "name": "stderr",
     "output_type": "stream",
     "text": [
      "Default metric period is 5 because AUC is/are not implemented for GPU\n",
      "AUC is not implemented on GPU. Will use CPU for metric computation, this could significantly affect learning time\n"
     ]
    },
    {
     "name": "stdout",
     "output_type": "stream",
     "text": [
      "0:\ttest: 0.7379237\tbest: 0.7379237 (0)\ttotal: 9.38ms\tremaining: 3m 7s\n"
     ]
    },
    {
     "name": "stderr",
     "output_type": "stream",
     "text": [
      "\u001b[32m[I 2023-01-19 20:58:27,060]\u001b[0m Trial 44 finished with value: 0.8356025727826675 and parameters: {'depth': 3, 'learning_rate': 0.4107266536785531, 'reg_lambda': 30}. Best is trial 19 with value: 0.8435104942450914.\u001b[0m\n"
     ]
    },
    {
     "name": "stdout",
     "output_type": "stream",
     "text": [
      "bestTest = 0.7922033898\n",
      "bestIteration = 106\n",
      "Shrink model to first 107 iterations.\n",
      "========== Fold=1 ==========\n"
     ]
    },
    {
     "name": "stderr",
     "output_type": "stream",
     "text": [
      "Default metric period is 5 because AUC is/are not implemented for GPU\n",
      "AUC is not implemented on GPU. Will use CPU for metric computation, this could significantly affect learning time\n"
     ]
    },
    {
     "name": "stdout",
     "output_type": "stream",
     "text": [
      "0:\ttest: 0.7703970\tbest: 0.7703970 (0)\ttotal: 21.8ms\tremaining: 7m 16s\n",
      "bestTest = 0.8226351351\n",
      "bestIteration = 76\n",
      "Shrink model to first 77 iterations.\n",
      "========== Fold=2 ==========\n"
     ]
    },
    {
     "name": "stderr",
     "output_type": "stream",
     "text": [
      "Default metric period is 5 because AUC is/are not implemented for GPU\n",
      "AUC is not implemented on GPU. Will use CPU for metric computation, this could significantly affect learning time\n"
     ]
    },
    {
     "name": "stdout",
     "output_type": "stream",
     "text": [
      "0:\ttest: 0.7971706\tbest: 0.7971706 (0)\ttotal: 8.49ms\tremaining: 2m 49s\n",
      "bestTest = 0.8388513514\n",
      "bestIteration = 33\n",
      "Shrink model to first 34 iterations.\n",
      "========== Fold=3 ==========\n"
     ]
    },
    {
     "name": "stderr",
     "output_type": "stream",
     "text": [
      "Default metric period is 5 because AUC is/are not implemented for GPU\n",
      "AUC is not implemented on GPU. Will use CPU for metric computation, this could significantly affect learning time\n"
     ]
    },
    {
     "name": "stdout",
     "output_type": "stream",
     "text": [
      "0:\ttest: 0.7952542\tbest: 0.7952542 (0)\ttotal: 20ms\tremaining: 6m 40s\n",
      "bestTest = 0.8746610169\n",
      "bestIteration = 21\n",
      "Shrink model to first 22 iterations.\n",
      "========== Fold=4 ==========\n"
     ]
    },
    {
     "name": "stderr",
     "output_type": "stream",
     "text": [
      "Default metric period is 5 because AUC is/are not implemented for GPU\n",
      "AUC is not implemented on GPU. Will use CPU for metric computation, this could significantly affect learning time\n"
     ]
    },
    {
     "name": "stdout",
     "output_type": "stream",
     "text": [
      "0:\ttest: 0.7494915\tbest: 0.7494915 (0)\ttotal: 22.4ms\tremaining: 7m 28s\n",
      "bestTest = 0.871779661\n",
      "bestIteration = 29\n",
      "Shrink model to first 30 iterations.\n",
      "========== Fold=5 ==========\n"
     ]
    },
    {
     "name": "stderr",
     "output_type": "stream",
     "text": [
      "Default metric period is 5 because AUC is/are not implemented for GPU\n",
      "AUC is not implemented on GPU. Will use CPU for metric computation, this could significantly affect learning time\n"
     ]
    },
    {
     "name": "stdout",
     "output_type": "stream",
     "text": [
      "0:\ttest: 0.7338983\tbest: 0.7338983 (0)\ttotal: 16.5ms\tremaining: 5m 30s\n"
     ]
    },
    {
     "name": "stderr",
     "output_type": "stream",
     "text": [
      "\u001b[32m[I 2023-01-19 20:58:43,568]\u001b[0m Trial 45 finished with value: 0.838392010832769 and parameters: {'depth': 4, 'learning_rate': 0.3222273959349842, 'reg_lambda': 18}. Best is trial 19 with value: 0.8435104942450914.\u001b[0m\n"
     ]
    },
    {
     "name": "stdout",
     "output_type": "stream",
     "text": [
      "bestTest = 0.8136440678\n",
      "bestIteration = 22\n",
      "Shrink model to first 23 iterations.\n",
      "========== Fold=1 ==========\n"
     ]
    },
    {
     "name": "stderr",
     "output_type": "stream",
     "text": [
      "Default metric period is 5 because AUC is/are not implemented for GPU\n",
      "AUC is not implemented on GPU. Will use CPU for metric computation, this could significantly affect learning time\n"
     ]
    },
    {
     "name": "stdout",
     "output_type": "stream",
     "text": [
      "0:\ttest: 0.7738176\tbest: 0.7738176 (0)\ttotal: 24.6ms\tremaining: 8m 11s\n",
      "bestTest = 0.8482263514\n",
      "bestIteration = 36\n",
      "Shrink model to first 37 iterations.\n",
      "========== Fold=2 ==========\n"
     ]
    },
    {
     "name": "stderr",
     "output_type": "stream",
     "text": [
      "Default metric period is 5 because AUC is/are not implemented for GPU\n",
      "AUC is not implemented on GPU. Will use CPU for metric computation, this could significantly affect learning time\n"
     ]
    },
    {
     "name": "stdout",
     "output_type": "stream",
     "text": [
      "0:\ttest: 0.7635980\tbest: 0.7635980 (0)\ttotal: 11.8ms\tremaining: 3m 55s\n",
      "bestTest = 0.8241554054\n",
      "bestIteration = 19\n",
      "Shrink model to first 20 iterations.\n",
      "========== Fold=3 ==========\n"
     ]
    },
    {
     "name": "stderr",
     "output_type": "stream",
     "text": [
      "Default metric period is 5 because AUC is/are not implemented for GPU\n",
      "AUC is not implemented on GPU. Will use CPU for metric computation, this could significantly affect learning time\n"
     ]
    },
    {
     "name": "stdout",
     "output_type": "stream",
     "text": [
      "0:\ttest: 0.8115254\tbest: 0.8115254 (0)\ttotal: 22.6ms\tremaining: 7m 31s\n",
      "bestTest = 0.8796610169\n",
      "bestIteration = 11\n",
      "Shrink model to first 12 iterations.\n",
      "========== Fold=4 ==========\n"
     ]
    },
    {
     "name": "stderr",
     "output_type": "stream",
     "text": [
      "Default metric period is 5 because AUC is/are not implemented for GPU\n",
      "AUC is not implemented on GPU. Will use CPU for metric computation, this could significantly affect learning time\n"
     ]
    },
    {
     "name": "stdout",
     "output_type": "stream",
     "text": [
      "0:\ttest: 0.7553814\tbest: 0.7553814 (0)\ttotal: 22.7ms\tremaining: 7m 33s\n",
      "bestTest = 0.8260169492\n",
      "bestIteration = 33\n",
      "Shrink model to first 34 iterations.\n",
      "========== Fold=5 ==========\n"
     ]
    },
    {
     "name": "stderr",
     "output_type": "stream",
     "text": [
      "Default metric period is 5 because AUC is/are not implemented for GPU\n",
      "AUC is not implemented on GPU. Will use CPU for metric computation, this could significantly affect learning time\n"
     ]
    },
    {
     "name": "stdout",
     "output_type": "stream",
     "text": [
      "0:\ttest: 0.7338983\tbest: 0.7338983 (0)\ttotal: 12.2ms\tremaining: 4m 3s\n"
     ]
    },
    {
     "name": "stderr",
     "output_type": "stream",
     "text": [
      "\u001b[32m[I 2023-01-19 20:58:58,598]\u001b[0m Trial 46 finished with value: 0.8293381855111713 and parameters: {'depth': 4, 'learning_rate': 0.5925160570449904, 'reg_lambda': 8}. Best is trial 19 with value: 0.8435104942450914.\u001b[0m\n"
     ]
    },
    {
     "name": "stdout",
     "output_type": "stream",
     "text": [
      "bestTest = 0.7963983051\n",
      "bestIteration = 5\n",
      "Shrink model to first 6 iterations.\n",
      "========== Fold=1 ==========\n"
     ]
    },
    {
     "name": "stderr",
     "output_type": "stream",
     "text": [
      "Default metric period is 5 because AUC is/are not implemented for GPU\n",
      "AUC is not implemented on GPU. Will use CPU for metric computation, this could significantly affect learning time\n"
     ]
    },
    {
     "name": "stdout",
     "output_type": "stream",
     "text": [
      "0:\ttest: 0.7317990\tbest: 0.7317990 (0)\ttotal: 9.14ms\tremaining: 3m 2s\n",
      "bestTest = 0.8400337838\n",
      "bestIteration = 416\n",
      "Shrink model to first 417 iterations.\n",
      "========== Fold=2 ==========\n"
     ]
    },
    {
     "name": "stderr",
     "output_type": "stream",
     "text": [
      "Default metric period is 5 because AUC is/are not implemented for GPU\n",
      "AUC is not implemented on GPU. Will use CPU for metric computation, this could significantly affect learning time\n"
     ]
    },
    {
     "name": "stdout",
     "output_type": "stream",
     "text": [
      "0:\ttest: 0.8019003\tbest: 0.8019003 (0)\ttotal: 23.7ms\tremaining: 7m 53s\n",
      "bestTest = 0.8552364865\n",
      "bestIteration = 155\n",
      "Shrink model to first 156 iterations.\n",
      "========== Fold=3 ==========\n"
     ]
    },
    {
     "name": "stderr",
     "output_type": "stream",
     "text": [
      "Default metric period is 5 because AUC is/are not implemented for GPU\n",
      "AUC is not implemented on GPU. Will use CPU for metric computation, this could significantly affect learning time\n"
     ]
    },
    {
     "name": "stdout",
     "output_type": "stream",
     "text": [
      "0:\ttest: 0.7906780\tbest: 0.7906780 (0)\ttotal: 23.5ms\tremaining: 7m 49s\n",
      "bestTest = 0.8850847458\n",
      "bestIteration = 136\n",
      "Shrink model to first 137 iterations.\n",
      "========== Fold=4 ==========\n"
     ]
    },
    {
     "name": "stderr",
     "output_type": "stream",
     "text": [
      "Default metric period is 5 because AUC is/are not implemented for GPU\n",
      "AUC is not implemented on GPU. Will use CPU for metric computation, this could significantly affect learning time\n"
     ]
    },
    {
     "name": "stdout",
     "output_type": "stream",
     "text": [
      "0:\ttest: 0.7762712\tbest: 0.7762712 (0)\ttotal: 18ms\tremaining: 6m\n",
      "bestTest = 0.8518644068\n",
      "bestIteration = 189\n",
      "Shrink model to first 190 iterations.\n",
      "========== Fold=5 ==========\n"
     ]
    },
    {
     "name": "stderr",
     "output_type": "stream",
     "text": [
      "Default metric period is 5 because AUC is/are not implemented for GPU\n",
      "AUC is not implemented on GPU. Will use CPU for metric computation, this could significantly affect learning time\n"
     ]
    },
    {
     "name": "stdout",
     "output_type": "stream",
     "text": [
      "0:\ttest: 0.7248305\tbest: 0.7248305 (0)\ttotal: 23.3ms\tremaining: 7m 46s\n"
     ]
    },
    {
     "name": "stderr",
     "output_type": "stream",
     "text": [
      "\u001b[32m[I 2023-01-19 20:59:29,826]\u001b[0m Trial 47 finished with value: 0.8415335138794855 and parameters: {'depth': 4, 'learning_rate': 0.1762430189805537, 'reg_lambda': 48}. Best is trial 19 with value: 0.8435104942450914.\u001b[0m\n"
     ]
    },
    {
     "name": "stdout",
     "output_type": "stream",
     "text": [
      "bestTest = 0.8019491525\n",
      "bestIteration = 39\n",
      "Shrink model to first 40 iterations.\n",
      "========== Fold=1 ==========\n"
     ]
    },
    {
     "name": "stderr",
     "output_type": "stream",
     "text": [
      "Default metric period is 5 because AUC is/are not implemented for GPU\n",
      "AUC is not implemented on GPU. Will use CPU for metric computation, this could significantly affect learning time\n"
     ]
    },
    {
     "name": "stdout",
     "output_type": "stream",
     "text": [
      "0:\ttest: 0.7139780\tbest: 0.7139780 (0)\ttotal: 22.2ms\tremaining: 7m 24s\n",
      "bestTest = 0.8320101351\n",
      "bestIteration = 475\n",
      "Shrink model to first 476 iterations.\n",
      "========== Fold=2 ==========\n"
     ]
    },
    {
     "name": "stderr",
     "output_type": "stream",
     "text": [
      "Default metric period is 5 because AUC is/are not implemented for GPU\n",
      "AUC is not implemented on GPU. Will use CPU for metric computation, this could significantly affect learning time\n"
     ]
    },
    {
     "name": "stdout",
     "output_type": "stream",
     "text": [
      "0:\ttest: 0.7801098\tbest: 0.7801098 (0)\ttotal: 22.4ms\tremaining: 7m 27s\n",
      "bestTest = 0.8371199324\n",
      "bestIteration = 38\n",
      "Shrink model to first 39 iterations.\n",
      "========== Fold=3 ==========\n"
     ]
    },
    {
     "name": "stderr",
     "output_type": "stream",
     "text": [
      "Default metric period is 5 because AUC is/are not implemented for GPU\n",
      "AUC is not implemented on GPU. Will use CPU for metric computation, this could significantly affect learning time\n"
     ]
    },
    {
     "name": "stdout",
     "output_type": "stream",
     "text": [
      "0:\ttest: 0.7758051\tbest: 0.7758051 (0)\ttotal: 34.2ms\tremaining: 11m 23s\n",
      "bestTest = 0.8777966102\n",
      "bestIteration = 171\n",
      "Shrink model to first 172 iterations.\n",
      "========== Fold=4 ==========\n"
     ]
    },
    {
     "name": "stderr",
     "output_type": "stream",
     "text": [
      "Default metric period is 5 because AUC is/are not implemented for GPU\n",
      "AUC is not implemented on GPU. Will use CPU for metric computation, this could significantly affect learning time\n"
     ]
    },
    {
     "name": "stdout",
     "output_type": "stream",
     "text": [
      "0:\ttest: 0.7622034\tbest: 0.7622034 (0)\ttotal: 20.9ms\tremaining: 6m 58s\n",
      "bestTest = 0.8583050847\n",
      "bestIteration = 286\n",
      "Shrink model to first 287 iterations.\n",
      "========== Fold=5 ==========\n"
     ]
    },
    {
     "name": "stderr",
     "output_type": "stream",
     "text": [
      "Default metric period is 5 because AUC is/are not implemented for GPU\n",
      "AUC is not implemented on GPU. Will use CPU for metric computation, this could significantly affect learning time\n"
     ]
    },
    {
     "name": "stdout",
     "output_type": "stream",
     "text": [
      "0:\ttest: 0.7379237\tbest: 0.7379237 (0)\ttotal: 20.9ms\tremaining: 6m 58s\n"
     ]
    },
    {
     "name": "stderr",
     "output_type": "stream",
     "text": [
      "\u001b[32m[I 2023-01-19 21:00:00,854]\u001b[0m Trial 48 finished with value: 0.8351946513202437 and parameters: {'depth': 3, 'learning_rate': 0.09229130850771668, 'reg_lambda': 38}. Best is trial 19 with value: 0.8435104942450914.\u001b[0m\n"
     ]
    },
    {
     "name": "stdout",
     "output_type": "stream",
     "text": [
      "bestTest = 0.791779661\n",
      "bestIteration = 71\n",
      "Shrink model to first 72 iterations.\n",
      "========== Fold=1 ==========\n"
     ]
    },
    {
     "name": "stderr",
     "output_type": "stream",
     "text": [
      "Default metric period is 5 because AUC is/are not implemented for GPU\n",
      "AUC is not implemented on GPU. Will use CPU for metric computation, this could significantly affect learning time\n"
     ]
    },
    {
     "name": "stdout",
     "output_type": "stream",
     "text": [
      "0:\ttest: 0.7317990\tbest: 0.7317990 (0)\ttotal: 22.7ms\tremaining: 7m 33s\n",
      "bestTest = 0.8314189189\n",
      "bestIteration = 368\n",
      "Shrink model to first 369 iterations.\n",
      "========== Fold=2 ==========\n"
     ]
    },
    {
     "name": "stderr",
     "output_type": "stream",
     "text": [
      "Default metric period is 5 because AUC is/are not implemented for GPU\n",
      "AUC is not implemented on GPU. Will use CPU for metric computation, this could significantly affect learning time\n"
     ]
    },
    {
     "name": "stdout",
     "output_type": "stream",
     "text": [
      "0:\ttest: 0.8019003\tbest: 0.8019003 (0)\ttotal: 21.9ms\tremaining: 7m 18s\n",
      "bestTest = 0.8425675676\n",
      "bestIteration = 138\n",
      "Shrink model to first 139 iterations.\n",
      "========== Fold=3 ==========\n"
     ]
    },
    {
     "name": "stderr",
     "output_type": "stream",
     "text": [
      "Default metric period is 5 because AUC is/are not implemented for GPU\n",
      "AUC is not implemented on GPU. Will use CPU for metric computation, this could significantly affect learning time\n"
     ]
    },
    {
     "name": "stdout",
     "output_type": "stream",
     "text": [
      "0:\ttest: 0.7906780\tbest: 0.7906780 (0)\ttotal: 22.3ms\tremaining: 7m 26s\n",
      "bestTest = 0.8771186441\n",
      "bestIteration = 115\n",
      "Shrink model to first 116 iterations.\n",
      "========== Fold=4 ==========\n"
     ]
    },
    {
     "name": "stderr",
     "output_type": "stream",
     "text": [
      "Default metric period is 5 because AUC is/are not implemented for GPU\n",
      "AUC is not implemented on GPU. Will use CPU for metric computation, this could significantly affect learning time\n"
     ]
    },
    {
     "name": "stdout",
     "output_type": "stream",
     "text": [
      "0:\ttest: 0.7762712\tbest: 0.7762712 (0)\ttotal: 22.1ms\tremaining: 7m 21s\n",
      "bestTest = 0.8508474576\n",
      "bestIteration = 57\n",
      "Shrink model to first 58 iterations.\n",
      "========== Fold=5 ==========\n"
     ]
    },
    {
     "name": "stderr",
     "output_type": "stream",
     "text": [
      "Default metric period is 5 because AUC is/are not implemented for GPU\n",
      "AUC is not implemented on GPU. Will use CPU for metric computation, this could significantly affect learning time\n"
     ]
    },
    {
     "name": "stdout",
     "output_type": "stream",
     "text": [
      "0:\ttest: 0.7248305\tbest: 0.7248305 (0)\ttotal: 8.39ms\tremaining: 2m 47s\n"
     ]
    },
    {
     "name": "stderr",
     "output_type": "stream",
     "text": [
      "\u001b[32m[I 2023-01-19 21:00:28,034]\u001b[0m Trial 49 finished with value: 0.8364827352742045 and parameters: {'depth': 4, 'learning_rate': 0.16876316393347612, 'reg_lambda': 48}. Best is trial 19 with value: 0.8435104942450914.\u001b[0m\n"
     ]
    },
    {
     "name": "stdout",
     "output_type": "stream",
     "text": [
      "bestTest = 0.7988135593\n",
      "bestIteration = 52\n",
      "Shrink model to first 53 iterations.\n",
      "========== Fold=1 ==========\n"
     ]
    },
    {
     "name": "stderr",
     "output_type": "stream",
     "text": [
      "Default metric period is 5 because AUC is/are not implemented for GPU\n",
      "AUC is not implemented on GPU. Will use CPU for metric computation, this could significantly affect learning time\n"
     ]
    },
    {
     "name": "stdout",
     "output_type": "stream",
     "text": [
      "0:\ttest: 0.7375000\tbest: 0.7375000 (0)\ttotal: 21ms\tremaining: 6m 59s\n",
      "bestTest = 0.846875\n",
      "bestIteration = 115\n",
      "Shrink model to first 116 iterations.\n",
      "========== Fold=2 ==========\n"
     ]
    },
    {
     "name": "stderr",
     "output_type": "stream",
     "text": [
      "Default metric period is 5 because AUC is/are not implemented for GPU\n",
      "AUC is not implemented on GPU. Will use CPU for metric computation, this could significantly affect learning time\n"
     ]
    },
    {
     "name": "stdout",
     "output_type": "stream",
     "text": [
      "0:\ttest: 0.7801098\tbest: 0.7801098 (0)\ttotal: 21.8ms\tremaining: 7m 15s\n",
      "bestTest = 0.8409206081\n",
      "bestIteration = 7\n",
      "Shrink model to first 8 iterations.\n",
      "========== Fold=3 ==========\n"
     ]
    },
    {
     "name": "stderr",
     "output_type": "stream",
     "text": [
      "Default metric period is 5 because AUC is/are not implemented for GPU\n",
      "AUC is not implemented on GPU. Will use CPU for metric computation, this could significantly affect learning time\n"
     ]
    },
    {
     "name": "stdout",
     "output_type": "stream",
     "text": [
      "0:\ttest: 0.7758051\tbest: 0.7758051 (0)\ttotal: 16.4ms\tremaining: 5m 28s\n",
      "bestTest = 0.8678813559\n",
      "bestIteration = 65\n",
      "Shrink model to first 66 iterations.\n",
      "========== Fold=4 ==========\n"
     ]
    },
    {
     "name": "stderr",
     "output_type": "stream",
     "text": [
      "Default metric period is 5 because AUC is/are not implemented for GPU\n",
      "AUC is not implemented on GPU. Will use CPU for metric computation, this could significantly affect learning time\n"
     ]
    },
    {
     "name": "stdout",
     "output_type": "stream",
     "text": [
      "0:\ttest: 0.7622034\tbest: 0.7622034 (0)\ttotal: 21.8ms\tremaining: 7m 15s\n",
      "bestTest = 0.8569491525\n",
      "bestIteration = 52\n",
      "Shrink model to first 53 iterations.\n",
      "========== Fold=5 ==========\n"
     ]
    },
    {
     "name": "stderr",
     "output_type": "stream",
     "text": [
      "Default metric period is 5 because AUC is/are not implemented for GPU\n",
      "AUC is not implemented on GPU. Will use CPU for metric computation, this could significantly affect learning time\n"
     ]
    },
    {
     "name": "stdout",
     "output_type": "stream",
     "text": [
      "0:\ttest: 0.7379237\tbest: 0.7379237 (0)\ttotal: 22.6ms\tremaining: 7m 31s\n"
     ]
    },
    {
     "name": "stderr",
     "output_type": "stream",
     "text": [
      "\u001b[32m[I 2023-01-19 21:00:47,648]\u001b[0m Trial 50 finished with value: 0.8382109004739337 and parameters: {'depth': 3, 'learning_rate': 0.24435825507306083, 'reg_lambda': 29}. Best is trial 19 with value: 0.8435104942450914.\u001b[0m\n"
     ]
    },
    {
     "name": "stdout",
     "output_type": "stream",
     "text": [
      "bestTest = 0.8024576271\n",
      "bestIteration = 106\n",
      "Shrink model to first 107 iterations.\n",
      "========== Fold=1 ==========\n"
     ]
    },
    {
     "name": "stderr",
     "output_type": "stream",
     "text": [
      "Default metric period is 5 because AUC is/are not implemented for GPU\n",
      "AUC is not implemented on GPU. Will use CPU for metric computation, this could significantly affect learning time\n"
     ]
    },
    {
     "name": "stdout",
     "output_type": "stream",
     "text": [
      "0:\ttest: 0.7317990\tbest: 0.7317990 (0)\ttotal: 14.9ms\tremaining: 4m 57s\n",
      "bestTest = 0.8108108108\n",
      "bestIteration = 52\n",
      "Shrink model to first 53 iterations.\n",
      "========== Fold=2 ==========\n"
     ]
    },
    {
     "name": "stderr",
     "output_type": "stream",
     "text": [
      "Default metric period is 5 because AUC is/are not implemented for GPU\n",
      "AUC is not implemented on GPU. Will use CPU for metric computation, this could significantly affect learning time\n"
     ]
    },
    {
     "name": "stdout",
     "output_type": "stream",
     "text": [
      "0:\ttest: 0.8019003\tbest: 0.8019003 (0)\ttotal: 12.1ms\tremaining: 4m 2s\n",
      "bestTest = 0.8359375\n",
      "bestIteration = 4\n",
      "Shrink model to first 5 iterations.\n",
      "========== Fold=3 ==========\n"
     ]
    },
    {
     "name": "stderr",
     "output_type": "stream",
     "text": [
      "Default metric period is 5 because AUC is/are not implemented for GPU\n",
      "AUC is not implemented on GPU. Will use CPU for metric computation, this could significantly affect learning time\n"
     ]
    },
    {
     "name": "stdout",
     "output_type": "stream",
     "text": [
      "0:\ttest: 0.7961864\tbest: 0.7961864 (0)\ttotal: 8.97ms\tremaining: 2m 59s\n",
      "bestTest = 0.8800847458\n",
      "bestIteration = 114\n",
      "Shrink model to first 115 iterations.\n",
      "========== Fold=4 ==========\n"
     ]
    },
    {
     "name": "stderr",
     "output_type": "stream",
     "text": [
      "Default metric period is 5 because AUC is/are not implemented for GPU\n",
      "AUC is not implemented on GPU. Will use CPU for metric computation, this could significantly affect learning time\n"
     ]
    },
    {
     "name": "stdout",
     "output_type": "stream",
     "text": [
      "0:\ttest: 0.7762712\tbest: 0.7762712 (0)\ttotal: 22.2ms\tremaining: 7m 24s\n",
      "bestTest = 0.8661016949\n",
      "bestIteration = 56\n",
      "Shrink model to first 57 iterations.\n",
      "========== Fold=5 ==========\n"
     ]
    },
    {
     "name": "stderr",
     "output_type": "stream",
     "text": [
      "Default metric period is 5 because AUC is/are not implemented for GPU\n",
      "AUC is not implemented on GPU. Will use CPU for metric computation, this could significantly affect learning time\n"
     ]
    },
    {
     "name": "stdout",
     "output_type": "stream",
     "text": [
      "0:\ttest: 0.7248305\tbest: 0.7248305 (0)\ttotal: 24.9ms\tremaining: 8m 17s\n"
     ]
    },
    {
     "name": "stderr",
     "output_type": "stream",
     "text": [
      "\u001b[32m[I 2023-01-19 21:01:06,242]\u001b[0m Trial 51 finished with value: 0.828383547731889 and parameters: {'depth': 4, 'learning_rate': 0.18481518938018843, 'reg_lambda': 43}. Best is trial 19 with value: 0.8435104942450914.\u001b[0m\n"
     ]
    },
    {
     "name": "stdout",
     "output_type": "stream",
     "text": [
      "bestTest = 0.7902542373\n",
      "bestIteration = 46\n",
      "Shrink model to first 47 iterations.\n",
      "========== Fold=1 ==========\n"
     ]
    },
    {
     "name": "stderr",
     "output_type": "stream",
     "text": [
      "Default metric period is 5 because AUC is/are not implemented for GPU\n",
      "AUC is not implemented on GPU. Will use CPU for metric computation, this could significantly affect learning time\n"
     ]
    },
    {
     "name": "stdout",
     "output_type": "stream",
     "text": [
      "0:\ttest: 0.7317990\tbest: 0.7317990 (0)\ttotal: 22.1ms\tremaining: 7m 21s\n",
      "bestTest = 0.829222973\n",
      "bestIteration = 86\n",
      "Shrink model to first 87 iterations.\n",
      "========== Fold=2 ==========\n"
     ]
    },
    {
     "name": "stderr",
     "output_type": "stream",
     "text": [
      "Default metric period is 5 because AUC is/are not implemented for GPU\n",
      "AUC is not implemented on GPU. Will use CPU for metric computation, this could significantly affect learning time\n"
     ]
    },
    {
     "name": "stdout",
     "output_type": "stream",
     "text": [
      "0:\ttest: 0.7980152\tbest: 0.7980152 (0)\ttotal: 22.5ms\tremaining: 7m 29s\n",
      "bestTest = 0.8415540541\n",
      "bestIteration = 90\n",
      "Shrink model to first 91 iterations.\n",
      "========== Fold=3 ==========\n"
     ]
    },
    {
     "name": "stderr",
     "output_type": "stream",
     "text": [
      "Default metric period is 5 because AUC is/are not implemented for GPU\n",
      "AUC is not implemented on GPU. Will use CPU for metric computation, this could significantly affect learning time\n"
     ]
    },
    {
     "name": "stdout",
     "output_type": "stream",
     "text": [
      "0:\ttest: 0.7906780\tbest: 0.7906780 (0)\ttotal: 24.2ms\tremaining: 8m 3s\n",
      "bestTest = 0.8729661017\n",
      "bestIteration = 64\n",
      "Shrink model to first 65 iterations.\n",
      "========== Fold=4 ==========\n"
     ]
    },
    {
     "name": "stderr",
     "output_type": "stream",
     "text": [
      "Default metric period is 5 because AUC is/are not implemented for GPU\n",
      "AUC is not implemented on GPU. Will use CPU for metric computation, this could significantly affect learning time\n"
     ]
    },
    {
     "name": "stdout",
     "output_type": "stream",
     "text": [
      "0:\ttest: 0.7699153\tbest: 0.7699153 (0)\ttotal: 24.4ms\tremaining: 8m 8s\n",
      "bestTest = 0.8529661017\n",
      "bestIteration = 34\n",
      "Shrink model to first 35 iterations.\n",
      "========== Fold=5 ==========\n"
     ]
    },
    {
     "name": "stderr",
     "output_type": "stream",
     "text": [
      "Default metric period is 5 because AUC is/are not implemented for GPU\n",
      "AUC is not implemented on GPU. Will use CPU for metric computation, this could significantly affect learning time\n"
     ]
    },
    {
     "name": "stdout",
     "output_type": "stream",
     "text": [
      "0:\ttest: 0.7588136\tbest: 0.7588136 (0)\ttotal: 23.8ms\tremaining: 7m 56s\n"
     ]
    },
    {
     "name": "stderr",
     "output_type": "stream",
     "text": [
      "\u001b[32m[I 2023-01-19 21:01:25,647]\u001b[0m Trial 52 finished with value: 0.8374441435341909 and parameters: {'depth': 4, 'learning_rate': 0.41233402267002794, 'reg_lambda': 57}. Best is trial 19 with value: 0.8435104942450914.\u001b[0m\n"
     ]
    },
    {
     "name": "stdout",
     "output_type": "stream",
     "text": [
      "bestTest = 0.8087288136\n",
      "bestIteration = 21\n",
      "Shrink model to first 22 iterations.\n",
      "========== Fold=1 ==========\n"
     ]
    },
    {
     "name": "stderr",
     "output_type": "stream",
     "text": [
      "Default metric period is 5 because AUC is/are not implemented for GPU\n",
      "AUC is not implemented on GPU. Will use CPU for metric computation, this could significantly affect learning time\n"
     ]
    },
    {
     "name": "stdout",
     "output_type": "stream",
     "text": [
      "0:\ttest: 0.7317990\tbest: 0.7317990 (0)\ttotal: 23.4ms\tremaining: 7m 47s\n",
      "bestTest = 0.8282094595\n",
      "bestIteration = 130\n",
      "Shrink model to first 131 iterations.\n",
      "========== Fold=2 ==========\n"
     ]
    },
    {
     "name": "stderr",
     "output_type": "stream",
     "text": [
      "Default metric period is 5 because AUC is/are not implemented for GPU\n",
      "AUC is not implemented on GPU. Will use CPU for metric computation, this could significantly affect learning time\n"
     ]
    },
    {
     "name": "stdout",
     "output_type": "stream",
     "text": [
      "0:\ttest: 0.8019003\tbest: 0.8019003 (0)\ttotal: 23ms\tremaining: 7m 40s\n",
      "bestTest = 0.8322635135\n",
      "bestIteration = 77\n",
      "Shrink model to first 78 iterations.\n",
      "========== Fold=3 ==========\n"
     ]
    },
    {
     "name": "stderr",
     "output_type": "stream",
     "text": [
      "Default metric period is 5 because AUC is/are not implemented for GPU\n",
      "AUC is not implemented on GPU. Will use CPU for metric computation, this could significantly affect learning time\n"
     ]
    },
    {
     "name": "stdout",
     "output_type": "stream",
     "text": [
      "0:\ttest: 0.7906780\tbest: 0.7906780 (0)\ttotal: 19.9ms\tremaining: 6m 37s\n",
      "bestTest = 0.8763559322\n",
      "bestIteration = 40\n",
      "Shrink model to first 41 iterations.\n",
      "========== Fold=4 ==========\n"
     ]
    },
    {
     "name": "stderr",
     "output_type": "stream",
     "text": [
      "Default metric period is 5 because AUC is/are not implemented for GPU\n",
      "AUC is not implemented on GPU. Will use CPU for metric computation, this could significantly affect learning time\n"
     ]
    },
    {
     "name": "stdout",
     "output_type": "stream",
     "text": [
      "0:\ttest: 0.7762712\tbest: 0.7762712 (0)\ttotal: 9.99ms\tremaining: 3m 19s\n",
      "bestTest = 0.8519491525\n",
      "bestIteration = 32\n",
      "Shrink model to first 33 iterations.\n",
      "========== Fold=5 ==========\n"
     ]
    },
    {
     "name": "stderr",
     "output_type": "stream",
     "text": [
      "Default metric period is 5 because AUC is/are not implemented for GPU\n",
      "AUC is not implemented on GPU. Will use CPU for metric computation, this could significantly affect learning time\n"
     ]
    },
    {
     "name": "stdout",
     "output_type": "stream",
     "text": [
      "0:\ttest: 0.7248305\tbest: 0.7248305 (0)\ttotal: 9.29ms\tremaining: 3m 5s\n"
     ]
    },
    {
     "name": "stderr",
     "output_type": "stream",
     "text": [
      "\u001b[32m[I 2023-01-19 21:01:44,957]\u001b[0m Trial 53 finished with value: 0.8337237643872715 and parameters: {'depth': 4, 'learning_rate': 0.3456434139096727, 'reg_lambda': 51}. Best is trial 19 with value: 0.8435104942450914.\u001b[0m\n"
     ]
    },
    {
     "name": "stdout",
     "output_type": "stream",
     "text": [
      "bestTest = 0.7977966102\n",
      "bestIteration = 27\n",
      "Shrink model to first 28 iterations.\n",
      "========== Fold=1 ==========\n"
     ]
    },
    {
     "name": "stderr",
     "output_type": "stream",
     "text": [
      "Default metric period is 5 because AUC is/are not implemented for GPU\n",
      "AUC is not implemented on GPU. Will use CPU for metric computation, this could significantly affect learning time\n"
     ]
    },
    {
     "name": "stdout",
     "output_type": "stream",
     "text": [
      "0:\ttest: 0.7317990\tbest: 0.7317990 (0)\ttotal: 9.54ms\tremaining: 3m 10s\n",
      "bestTest = 0.8283783784\n",
      "bestIteration = 256\n",
      "Shrink model to first 257 iterations.\n",
      "========== Fold=2 ==========\n"
     ]
    },
    {
     "name": "stderr",
     "output_type": "stream",
     "text": [
      "Default metric period is 5 because AUC is/are not implemented for GPU\n",
      "AUC is not implemented on GPU. Will use CPU for metric computation, this could significantly affect learning time\n"
     ]
    },
    {
     "name": "stdout",
     "output_type": "stream",
     "text": [
      "0:\ttest: 0.8019003\tbest: 0.8019003 (0)\ttotal: 8.48ms\tremaining: 2m 49s\n",
      "bestTest = 0.8526182432\n",
      "bestIteration = 89\n",
      "Shrink model to first 90 iterations.\n",
      "========== Fold=3 ==========\n"
     ]
    },
    {
     "name": "stderr",
     "output_type": "stream",
     "text": [
      "Default metric period is 5 because AUC is/are not implemented for GPU\n",
      "AUC is not implemented on GPU. Will use CPU for metric computation, this could significantly affect learning time\n"
     ]
    },
    {
     "name": "stdout",
     "output_type": "stream",
     "text": [
      "0:\ttest: 0.7961864\tbest: 0.7961864 (0)\ttotal: 9.34ms\tremaining: 3m 6s\n",
      "bestTest = 0.8791525424\n",
      "bestIteration = 90\n",
      "Shrink model to first 91 iterations.\n",
      "========== Fold=4 ==========\n"
     ]
    },
    {
     "name": "stderr",
     "output_type": "stream",
     "text": [
      "Default metric period is 5 because AUC is/are not implemented for GPU\n",
      "AUC is not implemented on GPU. Will use CPU for metric computation, this could significantly affect learning time\n"
     ]
    },
    {
     "name": "stdout",
     "output_type": "stream",
     "text": [
      "0:\ttest: 0.7762712\tbest: 0.7762712 (0)\ttotal: 37.1ms\tremaining: 12m 22s\n",
      "bestTest = 0.8544915254\n",
      "bestIteration = 52\n",
      "Shrink model to first 53 iterations.\n",
      "========== Fold=5 ==========\n"
     ]
    },
    {
     "name": "stderr",
     "output_type": "stream",
     "text": [
      "Default metric period is 5 because AUC is/are not implemented for GPU\n",
      "AUC is not implemented on GPU. Will use CPU for metric computation, this could significantly affect learning time\n"
     ]
    },
    {
     "name": "stdout",
     "output_type": "stream",
     "text": [
      "0:\ttest: 0.7248305\tbest: 0.7248305 (0)\ttotal: 22.6ms\tremaining: 7m 31s\n"
     ]
    },
    {
     "name": "stderr",
     "output_type": "stream",
     "text": [
      "\u001b[32m[I 2023-01-19 21:02:07,734]\u001b[0m Trial 54 finished with value: 0.8400981719702099 and parameters: {'depth': 4, 'learning_rate': 0.24090291876654413, 'reg_lambda': 43}. Best is trial 19 with value: 0.8435104942450914.\u001b[0m\n"
     ]
    },
    {
     "name": "stdout",
     "output_type": "stream",
     "text": [
      "bestTest = 0.8047457627\n",
      "bestIteration = 33\n",
      "Shrink model to first 34 iterations.\n",
      "========== Fold=1 ==========\n"
     ]
    },
    {
     "name": "stderr",
     "output_type": "stream",
     "text": [
      "Default metric period is 5 because AUC is/are not implemented for GPU\n",
      "AUC is not implemented on GPU. Will use CPU for metric computation, this could significantly affect learning time\n"
     ]
    },
    {
     "name": "stdout",
     "output_type": "stream",
     "text": [
      "0:\ttest: 0.7317990\tbest: 0.7317990 (0)\ttotal: 21.8ms\tremaining: 7m 16s\n",
      "bestTest = 0.8501689189\n",
      "bestIteration = 153\n",
      "Shrink model to first 154 iterations.\n",
      "========== Fold=2 ==========\n"
     ]
    },
    {
     "name": "stderr",
     "output_type": "stream",
     "text": [
      "Default metric period is 5 because AUC is/are not implemented for GPU\n",
      "AUC is not implemented on GPU. Will use CPU for metric computation, this could significantly affect learning time\n"
     ]
    },
    {
     "name": "stdout",
     "output_type": "stream",
     "text": [
      "0:\ttest: 0.8019003\tbest: 0.8019003 (0)\ttotal: 22.8ms\tremaining: 7m 36s\n",
      "bestTest = 0.8342905405\n",
      "bestIteration = 155\n",
      "Shrink model to first 156 iterations.\n",
      "========== Fold=3 ==========\n"
     ]
    },
    {
     "name": "stderr",
     "output_type": "stream",
     "text": [
      "Default metric period is 5 because AUC is/are not implemented for GPU\n",
      "AUC is not implemented on GPU. Will use CPU for metric computation, this could significantly affect learning time\n"
     ]
    },
    {
     "name": "stdout",
     "output_type": "stream",
     "text": [
      "0:\ttest: 0.7951695\tbest: 0.7951695 (0)\ttotal: 21.2ms\tremaining: 7m 3s\n",
      "bestTest = 0.8751694915\n",
      "bestIteration = 41\n",
      "Shrink model to first 42 iterations.\n",
      "========== Fold=4 ==========\n"
     ]
    },
    {
     "name": "stderr",
     "output_type": "stream",
     "text": [
      "Default metric period is 5 because AUC is/are not implemented for GPU\n",
      "AUC is not implemented on GPU. Will use CPU for metric computation, this could significantly affect learning time\n"
     ]
    },
    {
     "name": "stdout",
     "output_type": "stream",
     "text": [
      "0:\ttest: 0.7762712\tbest: 0.7762712 (0)\ttotal: 23.5ms\tremaining: 7m 50s\n",
      "bestTest = 0.8486440678\n",
      "bestIteration = 73\n",
      "Shrink model to first 74 iterations.\n",
      "========== Fold=5 ==========\n"
     ]
    },
    {
     "name": "stderr",
     "output_type": "stream",
     "text": [
      "Default metric period is 5 because AUC is/are not implemented for GPU\n",
      "AUC is not implemented on GPU. Will use CPU for metric computation, this could significantly affect learning time\n"
     ]
    },
    {
     "name": "stdout",
     "output_type": "stream",
     "text": [
      "0:\ttest: 0.7653814\tbest: 0.7653814 (0)\ttotal: 22.4ms\tremaining: 7m 28s\n"
     ]
    },
    {
     "name": "stderr",
     "output_type": "stream",
     "text": [
      "\u001b[32m[I 2023-01-19 21:02:29,525]\u001b[0m Trial 55 finished with value: 0.8391401489505754 and parameters: {'depth': 4, 'learning_rate': 0.24487233169980493, 'reg_lambda': 34}. Best is trial 19 with value: 0.8435104942450914.\u001b[0m\n"
     ]
    },
    {
     "name": "stdout",
     "output_type": "stream",
     "text": [
      "bestTest = 0.8187288136\n",
      "bestIteration = 29\n",
      "Shrink model to first 30 iterations.\n",
      "========== Fold=1 ==========\n"
     ]
    },
    {
     "name": "stderr",
     "output_type": "stream",
     "text": [
      "Default metric period is 5 because AUC is/are not implemented for GPU\n",
      "AUC is not implemented on GPU. Will use CPU for metric computation, this could significantly affect learning time\n"
     ]
    },
    {
     "name": "stdout",
     "output_type": "stream",
     "text": [
      "0:\ttest: 0.7758024\tbest: 0.7758024 (0)\ttotal: 21.8ms\tremaining: 7m 15s\n",
      "bestTest = 0.8162162162\n",
      "bestIteration = 53\n",
      "Shrink model to first 54 iterations.\n",
      "========== Fold=2 ==========\n"
     ]
    },
    {
     "name": "stderr",
     "output_type": "stream",
     "text": [
      "Default metric period is 5 because AUC is/are not implemented for GPU\n",
      "AUC is not implemented on GPU. Will use CPU for metric computation, this could significantly affect learning time\n"
     ]
    },
    {
     "name": "stdout",
     "output_type": "stream",
     "text": [
      "0:\ttest: 0.7971706\tbest: 0.7971706 (0)\ttotal: 22.4ms\tremaining: 7m 28s\n",
      "bestTest = 0.8566722973\n",
      "bestIteration = 97\n",
      "Shrink model to first 98 iterations.\n",
      "========== Fold=3 ==========\n"
     ]
    },
    {
     "name": "stderr",
     "output_type": "stream",
     "text": [
      "Default metric period is 5 because AUC is/are not implemented for GPU\n",
      "AUC is not implemented on GPU. Will use CPU for metric computation, this could significantly affect learning time\n"
     ]
    },
    {
     "name": "stdout",
     "output_type": "stream",
     "text": [
      "0:\ttest: 0.7957627\tbest: 0.7957627 (0)\ttotal: 21.9ms\tremaining: 7m 18s\n",
      "bestTest = 0.8830508475\n",
      "bestIteration = 59\n",
      "Shrink model to first 60 iterations.\n",
      "========== Fold=4 ==========\n"
     ]
    },
    {
     "name": "stderr",
     "output_type": "stream",
     "text": [
      "Default metric period is 5 because AUC is/are not implemented for GPU\n",
      "AUC is not implemented on GPU. Will use CPU for metric computation, this could significantly affect learning time\n"
     ]
    },
    {
     "name": "stdout",
     "output_type": "stream",
     "text": [
      "0:\ttest: 0.7762712\tbest: 0.7762712 (0)\ttotal: 21.9ms\tremaining: 7m 16s\n",
      "bestTest = 0.8466949153\n",
      "bestIteration = 32\n",
      "Shrink model to first 33 iterations.\n",
      "========== Fold=5 ==========\n"
     ]
    },
    {
     "name": "stderr",
     "output_type": "stream",
     "text": [
      "Default metric period is 5 because AUC is/are not implemented for GPU\n",
      "AUC is not implemented on GPU. Will use CPU for metric computation, this could significantly affect learning time\n"
     ]
    },
    {
     "name": "stdout",
     "output_type": "stream",
     "text": [
      "0:\ttest: 0.7338983\tbest: 0.7338983 (0)\ttotal: 21.7ms\tremaining: 7m 14s\n"
     ]
    },
    {
     "name": "stderr",
     "output_type": "stream",
     "text": [
      "\u001b[32m[I 2023-01-19 21:02:47,312]\u001b[0m Trial 56 finished with value: 0.8370396073121192 and parameters: {'depth': 4, 'learning_rate': 0.300032928955122, 'reg_lambda': 21}. Best is trial 19 with value: 0.8435104942450914.\u001b[0m\n"
     ]
    },
    {
     "name": "stdout",
     "output_type": "stream",
     "text": [
      "bestTest = 0.7995338983\n",
      "bestIteration = 9\n",
      "Shrink model to first 10 iterations.\n",
      "========== Fold=1 ==========\n"
     ]
    },
    {
     "name": "stderr",
     "output_type": "stream",
     "text": [
      "Default metric period is 5 because AUC is/are not implemented for GPU\n",
      "AUC is not implemented on GPU. Will use CPU for metric computation, this could significantly affect learning time\n"
     ]
    },
    {
     "name": "stdout",
     "output_type": "stream",
     "text": [
      "0:\ttest: 0.7317990\tbest: 0.7317990 (0)\ttotal: 23.7ms\tremaining: 7m 53s\n",
      "bestTest = 0.8283783784\n",
      "bestIteration = 165\n",
      "Shrink model to first 166 iterations.\n",
      "========== Fold=2 ==========\n"
     ]
    },
    {
     "name": "stderr",
     "output_type": "stream",
     "text": [
      "Default metric period is 5 because AUC is/are not implemented for GPU\n",
      "AUC is not implemented on GPU. Will use CPU for metric computation, this could significantly affect learning time\n"
     ]
    },
    {
     "name": "stdout",
     "output_type": "stream",
     "text": [
      "0:\ttest: 0.8019003\tbest: 0.8019003 (0)\ttotal: 22.5ms\tremaining: 7m 29s\n",
      "bestTest = 0.831714527\n",
      "bestIteration = 12\n",
      "Shrink model to first 13 iterations.\n",
      "========== Fold=3 ==========\n"
     ]
    },
    {
     "name": "stderr",
     "output_type": "stream",
     "text": [
      "Default metric period is 5 because AUC is/are not implemented for GPU\n",
      "AUC is not implemented on GPU. Will use CPU for metric computation, this could significantly affect learning time\n"
     ]
    },
    {
     "name": "stdout",
     "output_type": "stream",
     "text": [
      "0:\ttest: 0.7906780\tbest: 0.7906780 (0)\ttotal: 25ms\tremaining: 8m 20s\n",
      "bestTest = 0.8786440678\n",
      "bestIteration = 163\n",
      "Shrink model to first 164 iterations.\n",
      "========== Fold=4 ==========\n"
     ]
    },
    {
     "name": "stderr",
     "output_type": "stream",
     "text": [
      "Default metric period is 5 because AUC is/are not implemented for GPU\n",
      "AUC is not implemented on GPU. Will use CPU for metric computation, this could significantly affect learning time\n"
     ]
    },
    {
     "name": "stdout",
     "output_type": "stream",
     "text": [
      "0:\ttest: 0.7762712\tbest: 0.7762712 (0)\ttotal: 9.46ms\tremaining: 3m 9s\n",
      "bestTest = 0.8488135593\n",
      "bestIteration = 116\n",
      "Shrink model to first 117 iterations.\n",
      "========== Fold=5 ==========\n"
     ]
    },
    {
     "name": "stderr",
     "output_type": "stream",
     "text": [
      "Default metric period is 5 because AUC is/are not implemented for GPU\n",
      "AUC is not implemented on GPU. Will use CPU for metric computation, this could significantly affect learning time\n"
     ]
    },
    {
     "name": "stdout",
     "output_type": "stream",
     "text": [
      "0:\ttest: 0.7248305\tbest: 0.7248305 (0)\ttotal: 23.6ms\tremaining: 7m 51s\n"
     ]
    },
    {
     "name": "stderr",
     "output_type": "stream",
     "text": [
      "\u001b[32m[I 2023-01-19 21:03:09,901]\u001b[0m Trial 57 finished with value: 0.8306076506431956 and parameters: {'depth': 4, 'learning_rate': 0.12055251729185582, 'reg_lambda': 49}. Best is trial 19 with value: 0.8435104942450914.\u001b[0m\n"
     ]
    },
    {
     "name": "stdout",
     "output_type": "stream",
     "text": [
      "bestTest = 0.7944915254\n",
      "bestIteration = 63\n",
      "Shrink model to first 64 iterations.\n",
      "========== Fold=1 ==========\n"
     ]
    },
    {
     "name": "stderr",
     "output_type": "stream",
     "text": [
      "Default metric period is 5 because AUC is/are not implemented for GPU\n",
      "AUC is not implemented on GPU. Will use CPU for metric computation, this could significantly affect learning time\n"
     ]
    },
    {
     "name": "stdout",
     "output_type": "stream",
     "text": [
      "0:\ttest: 0.7317990\tbest: 0.7317990 (0)\ttotal: 9.09ms\tremaining: 3m 1s\n",
      "bestTest = 0.8196790541\n",
      "bestIteration = 367\n",
      "Shrink model to first 368 iterations.\n",
      "========== Fold=2 ==========\n"
     ]
    },
    {
     "name": "stderr",
     "output_type": "stream",
     "text": [
      "Default metric period is 5 because AUC is/are not implemented for GPU\n",
      "AUC is not implemented on GPU. Will use CPU for metric computation, this could significantly affect learning time\n"
     ]
    },
    {
     "name": "stdout",
     "output_type": "stream",
     "text": [
      "0:\ttest: 0.8019003\tbest: 0.8019003 (0)\ttotal: 23.6ms\tremaining: 7m 51s\n",
      "bestTest = 0.8397804054\n",
      "bestIteration = 20\n",
      "Shrink model to first 21 iterations.\n",
      "========== Fold=3 ==========\n"
     ]
    },
    {
     "name": "stderr",
     "output_type": "stream",
     "text": [
      "Default metric period is 5 because AUC is/are not implemented for GPU\n",
      "AUC is not implemented on GPU. Will use CPU for metric computation, this could significantly affect learning time\n"
     ]
    },
    {
     "name": "stdout",
     "output_type": "stream",
     "text": [
      "0:\ttest: 0.7951695\tbest: 0.7951695 (0)\ttotal: 22.6ms\tremaining: 7m 31s\n",
      "bestTest = 0.8827118644\n",
      "bestIteration = 449\n",
      "Shrink model to first 450 iterations.\n",
      "========== Fold=4 ==========\n"
     ]
    },
    {
     "name": "stderr",
     "output_type": "stream",
     "text": [
      "Default metric period is 5 because AUC is/are not implemented for GPU\n",
      "AUC is not implemented on GPU. Will use CPU for metric computation, this could significantly affect learning time\n"
     ]
    },
    {
     "name": "stdout",
     "output_type": "stream",
     "text": [
      "0:\ttest: 0.7762712\tbest: 0.7762712 (0)\ttotal: 22ms\tremaining: 7m 20s\n",
      "bestTest = 0.8547457627\n",
      "bestIteration = 479\n",
      "Shrink model to first 480 iterations.\n",
      "========== Fold=5 ==========\n"
     ]
    },
    {
     "name": "stderr",
     "output_type": "stream",
     "text": [
      "Default metric period is 5 because AUC is/are not implemented for GPU\n",
      "AUC is not implemented on GPU. Will use CPU for metric computation, this could significantly affect learning time\n"
     ]
    },
    {
     "name": "stdout",
     "output_type": "stream",
     "text": [
      "0:\ttest: 0.7653814\tbest: 0.7653814 (0)\ttotal: 8.62ms\tremaining: 2m 52s\n"
     ]
    },
    {
     "name": "stderr",
     "output_type": "stream",
     "text": [
      "\u001b[32m[I 2023-01-19 21:03:50,595]\u001b[0m Trial 58 finished with value: 0.8310088016249154 and parameters: {'depth': 4, 'learning_rate': 0.05384447053771341, 'reg_lambda': 40}. Best is trial 19 with value: 0.8435104942450914.\u001b[0m\n"
     ]
    },
    {
     "name": "stdout",
     "output_type": "stream",
     "text": [
      "bestTest = 0.8016101695\n",
      "bestIteration = 155\n",
      "Shrink model to first 156 iterations.\n",
      "========== Fold=1 ==========\n"
     ]
    },
    {
     "name": "stderr",
     "output_type": "stream",
     "text": [
      "Default metric period is 5 because AUC is/are not implemented for GPU\n",
      "AUC is not implemented on GPU. Will use CPU for metric computation, this could significantly affect learning time\n"
     ]
    },
    {
     "name": "stdout",
     "output_type": "stream",
     "text": [
      "0:\ttest: 0.7510135\tbest: 0.7510135 (0)\ttotal: 23.3ms\tremaining: 7m 46s\n",
      "bestTest = 0.8160472973\n",
      "bestIteration = 84\n",
      "Shrink model to first 85 iterations.\n",
      "========== Fold=2 ==========\n"
     ]
    },
    {
     "name": "stderr",
     "output_type": "stream",
     "text": [
      "Default metric period is 5 because AUC is/are not implemented for GPU\n",
      "AUC is not implemented on GPU. Will use CPU for metric computation, this could significantly affect learning time\n"
     ]
    },
    {
     "name": "stdout",
     "output_type": "stream",
     "text": [
      "0:\ttest: 0.8141470\tbest: 0.8141470 (0)\ttotal: 23.3ms\tremaining: 7m 45s\n",
      "bestTest = 0.8368243243\n",
      "bestIteration = 81\n",
      "Shrink model to first 82 iterations.\n",
      "========== Fold=3 ==========\n"
     ]
    },
    {
     "name": "stderr",
     "output_type": "stream",
     "text": [
      "Default metric period is 5 because AUC is/are not implemented for GPU\n",
      "AUC is not implemented on GPU. Will use CPU for metric computation, this could significantly affect learning time\n"
     ]
    },
    {
     "name": "stdout",
     "output_type": "stream",
     "text": [
      "0:\ttest: 0.8115254\tbest: 0.8115254 (0)\ttotal: 23.4ms\tremaining: 7m 47s\n",
      "bestTest = 0.8760169492\n",
      "bestIteration = 21\n",
      "Shrink model to first 22 iterations.\n",
      "========== Fold=4 ==========\n"
     ]
    },
    {
     "name": "stderr",
     "output_type": "stream",
     "text": [
      "Default metric period is 5 because AUC is/are not implemented for GPU\n",
      "AUC is not implemented on GPU. Will use CPU for metric computation, this could significantly affect learning time\n"
     ]
    },
    {
     "name": "stdout",
     "output_type": "stream",
     "text": [
      "0:\ttest: 0.7856780\tbest: 0.7856780 (0)\ttotal: 13.2ms\tremaining: 4m 24s\n",
      "bestTest = 0.8504237288\n",
      "bestIteration = 49\n",
      "Shrink model to first 50 iterations.\n",
      "========== Fold=5 ==========\n"
     ]
    },
    {
     "name": "stderr",
     "output_type": "stream",
     "text": [
      "Default metric period is 5 because AUC is/are not implemented for GPU\n",
      "AUC is not implemented on GPU. Will use CPU for metric computation, this could significantly affect learning time\n"
     ]
    },
    {
     "name": "stdout",
     "output_type": "stream",
     "text": [
      "0:\ttest: 0.7247458\tbest: 0.7247458 (0)\ttotal: 23.4ms\tremaining: 7m 47s\n"
     ]
    },
    {
     "name": "stderr",
     "output_type": "stream",
     "text": [
      "\u001b[32m[I 2023-01-19 21:04:08,615]\u001b[0m Trial 59 finished with value: 0.8324915368991199 and parameters: {'depth': 4, 'learning_rate': 0.2232460608969509, 'reg_lambda': 5}. Best is trial 19 with value: 0.8435104942450914.\u001b[0m\n"
     ]
    },
    {
     "name": "stdout",
     "output_type": "stream",
     "text": [
      "bestTest = 0.8053389831\n",
      "bestIteration = 15\n",
      "Shrink model to first 16 iterations.\n",
      "========== Fold=1 ==========\n"
     ]
    },
    {
     "name": "stderr",
     "output_type": "stream",
     "text": [
      "Default metric period is 5 because AUC is/are not implemented for GPU\n",
      "AUC is not implemented on GPU. Will use CPU for metric computation, this could significantly affect learning time\n"
     ]
    },
    {
     "name": "stdout",
     "output_type": "stream",
     "text": [
      "0:\ttest: 0.7768581\tbest: 0.7768581 (0)\ttotal: 23.1ms\tremaining: 7m 42s\n",
      "bestTest = 0.8491554054\n",
      "bestIteration = 282\n",
      "Shrink model to first 283 iterations.\n",
      "========== Fold=2 ==========\n"
     ]
    },
    {
     "name": "stderr",
     "output_type": "stream",
     "text": [
      "Default metric period is 5 because AUC is/are not implemented for GPU\n",
      "AUC is not implemented on GPU. Will use CPU for metric computation, this could significantly affect learning time\n"
     ]
    },
    {
     "name": "stdout",
     "output_type": "stream",
     "text": [
      "0:\ttest: 0.7627534\tbest: 0.7627534 (0)\ttotal: 22.7ms\tremaining: 7m 33s\n",
      "bestTest = 0.8474662162\n",
      "bestIteration = 38\n",
      "Shrink model to first 39 iterations.\n",
      "========== Fold=3 ==========\n"
     ]
    },
    {
     "name": "stderr",
     "output_type": "stream",
     "text": [
      "Default metric period is 5 because AUC is/are not implemented for GPU\n",
      "AUC is not implemented on GPU. Will use CPU for metric computation, this could significantly affect learning time\n"
     ]
    },
    {
     "name": "stdout",
     "output_type": "stream",
     "text": [
      "0:\ttest: 0.7952542\tbest: 0.7952542 (0)\ttotal: 22.6ms\tremaining: 7m 31s\n",
      "bestTest = 0.8681355932\n",
      "bestIteration = 66\n",
      "Shrink model to first 67 iterations.\n",
      "========== Fold=4 ==========\n"
     ]
    },
    {
     "name": "stderr",
     "output_type": "stream",
     "text": [
      "Default metric period is 5 because AUC is/are not implemented for GPU\n",
      "AUC is not implemented on GPU. Will use CPU for metric computation, this could significantly affect learning time\n"
     ]
    },
    {
     "name": "stdout",
     "output_type": "stream",
     "text": [
      "0:\ttest: 0.7553814\tbest: 0.7553814 (0)\ttotal: 16.8ms\tremaining: 5m 36s\n",
      "bestTest = 0.8615254237\n",
      "bestIteration = 106\n",
      "Shrink model to first 107 iterations.\n",
      "========== Fold=5 ==========\n"
     ]
    },
    {
     "name": "stderr",
     "output_type": "stream",
     "text": [
      "Default metric period is 5 because AUC is/are not implemented for GPU\n",
      "AUC is not implemented on GPU. Will use CPU for metric computation, this could significantly affect learning time\n"
     ]
    },
    {
     "name": "stdout",
     "output_type": "stream",
     "text": [
      "0:\ttest: 0.7338983\tbest: 0.7338983 (0)\ttotal: 12.4ms\tremaining: 4m 8s\n"
     ]
    },
    {
     "name": "stderr",
     "output_type": "stream",
     "text": [
      "\u001b[32m[I 2023-01-19 21:04:31,596]\u001b[0m Trial 60 finished with value: 0.8433073798239674 and parameters: {'depth': 4, 'learning_rate': 0.15104566413255005, 'reg_lambda': 14}. Best is trial 19 with value: 0.8435104942450914.\u001b[0m\n"
     ]
    },
    {
     "name": "stdout",
     "output_type": "stream",
     "text": [
      "bestTest = 0.8169491525\n",
      "bestIteration = 39\n",
      "Shrink model to first 40 iterations.\n",
      "========== Fold=1 ==========\n"
     ]
    },
    {
     "name": "stderr",
     "output_type": "stream",
     "text": [
      "Default metric period is 5 because AUC is/are not implemented for GPU\n",
      "AUC is not implemented on GPU. Will use CPU for metric computation, this could significantly affect learning time\n"
     ]
    },
    {
     "name": "stdout",
     "output_type": "stream",
     "text": [
      "0:\ttest: 0.7768581\tbest: 0.7768581 (0)\ttotal: 9.31ms\tremaining: 3m 6s\n",
      "bestTest = 0.8209459459\n",
      "bestIteration = 66\n",
      "Shrink model to first 67 iterations.\n",
      "========== Fold=2 ==========\n"
     ]
    },
    {
     "name": "stderr",
     "output_type": "stream",
     "text": [
      "Default metric period is 5 because AUC is/are not implemented for GPU\n",
      "AUC is not implemented on GPU. Will use CPU for metric computation, this could significantly affect learning time\n"
     ]
    },
    {
     "name": "stdout",
     "output_type": "stream",
     "text": [
      "0:\ttest: 0.7628378\tbest: 0.7628378 (0)\ttotal: 22.3ms\tremaining: 7m 26s\n"
     ]
    },
    {
     "name": "stderr",
     "output_type": "stream",
     "text": [
      "\u001b[33m[W 2023-01-19 21:04:38,454]\u001b[0m Trial 61 failed because of the following error: KeyboardInterrupt('')\u001b[0m\n",
      "Traceback (most recent call last):\n",
      "  File \"D:\\source\\repos\\venv\\Python310\\lib\\site-packages\\optuna\\study\\_optimize.py\", line 196, in _run_trial\n",
      "    value_or_values = func(trial)\n",
      "  File \"C:\\Users\\ryans\\AppData\\Local\\Temp\\ipykernel_2968\\1929342926.py\", line 37, in objective_v3\n",
      "    reg.fit(X_train, y_train, eval_set=(X_valid, y_valid), early_stopping_rounds=100, verbose=1000)\n",
      "  File \"D:\\source\\repos\\venv\\Python310\\lib\\site-packages\\catboost\\core.py\", line 5730, in fit\n",
      "    return self._fit(X, y, cat_features, text_features, embedding_features, None, sample_weight, None, None, None, None, baseline,\n",
      "  File \"D:\\source\\repos\\venv\\Python310\\lib\\site-packages\\catboost\\core.py\", line 2355, in _fit\n",
      "    self._train(\n",
      "  File \"D:\\source\\repos\\venv\\Python310\\lib\\site-packages\\catboost\\core.py\", line 1759, in _train\n",
      "    self._object._train(train_pool, test_pool, params, allow_clear_pool, init_model._object if init_model else None)\n",
      "  File \"_catboost.pyx\", line 4623, in _catboost._CatBoost._train\n",
      "  File \"_catboost.pyx\", line 4672, in _catboost._CatBoost._train\n",
      "KeyboardInterrupt\n"
     ]
    },
    {
     "ename": "KeyboardInterrupt",
     "evalue": "",
     "output_type": "error",
     "traceback": [
      "\u001b[1;31m---------------------------------------------------------------------------\u001b[0m",
      "\u001b[1;31mKeyboardInterrupt\u001b[0m                         Traceback (most recent call last)",
      "Cell \u001b[1;32mIn[11], line 2\u001b[0m\n\u001b[0;32m      1\u001b[0m study \u001b[38;5;241m=\u001b[39m optuna\u001b[38;5;241m.\u001b[39mcreate_study(direction\u001b[38;5;241m=\u001b[39m\u001b[38;5;124m'\u001b[39m\u001b[38;5;124mmaximize\u001b[39m\u001b[38;5;124m'\u001b[39m, sampler\u001b[38;5;241m=\u001b[39mTPESampler(), study_name\u001b[38;5;241m=\u001b[39mobjective)\n\u001b[1;32m----> 2\u001b[0m \u001b[43mstudy\u001b[49m\u001b[38;5;241;43m.\u001b[39;49m\u001b[43moptimize\u001b[49m\u001b[43m(\u001b[49m\u001b[43mobjective_v3\u001b[49m\u001b[43m,\u001b[49m\u001b[43m \u001b[49m\u001b[43mtimeout\u001b[49m\u001b[38;5;241;43m=\u001b[39;49m\u001b[43mtrain_time\u001b[49m\u001b[43m)\u001b[49m\n",
      "File \u001b[1;32mD:\\source\\repos\\venv\\Python310\\lib\\site-packages\\optuna\\study\\study.py:419\u001b[0m, in \u001b[0;36mStudy.optimize\u001b[1;34m(self, func, n_trials, timeout, n_jobs, catch, callbacks, gc_after_trial, show_progress_bar)\u001b[0m\n\u001b[0;32m    315\u001b[0m \u001b[38;5;28;01mdef\u001b[39;00m \u001b[38;5;21moptimize\u001b[39m(\n\u001b[0;32m    316\u001b[0m     \u001b[38;5;28mself\u001b[39m,\n\u001b[0;32m    317\u001b[0m     func: ObjectiveFuncType,\n\u001b[1;32m   (...)\u001b[0m\n\u001b[0;32m    324\u001b[0m     show_progress_bar: \u001b[38;5;28mbool\u001b[39m \u001b[38;5;241m=\u001b[39m \u001b[38;5;28;01mFalse\u001b[39;00m,\n\u001b[0;32m    325\u001b[0m ) \u001b[38;5;241m-\u001b[39m\u001b[38;5;241m>\u001b[39m \u001b[38;5;28;01mNone\u001b[39;00m:\n\u001b[0;32m    326\u001b[0m     \u001b[38;5;124;03m\"\"\"Optimize an objective function.\u001b[39;00m\n\u001b[0;32m    327\u001b[0m \n\u001b[0;32m    328\u001b[0m \u001b[38;5;124;03m    Optimization is done by choosing a suitable set of hyperparameter values from a given\u001b[39;00m\n\u001b[1;32m   (...)\u001b[0m\n\u001b[0;32m    416\u001b[0m \u001b[38;5;124;03m            If nested invocation of this method occurs.\u001b[39;00m\n\u001b[0;32m    417\u001b[0m \u001b[38;5;124;03m    \"\"\"\u001b[39;00m\n\u001b[1;32m--> 419\u001b[0m     \u001b[43m_optimize\u001b[49m\u001b[43m(\u001b[49m\n\u001b[0;32m    420\u001b[0m \u001b[43m        \u001b[49m\u001b[43mstudy\u001b[49m\u001b[38;5;241;43m=\u001b[39;49m\u001b[38;5;28;43mself\u001b[39;49m\u001b[43m,\u001b[49m\n\u001b[0;32m    421\u001b[0m \u001b[43m        \u001b[49m\u001b[43mfunc\u001b[49m\u001b[38;5;241;43m=\u001b[39;49m\u001b[43mfunc\u001b[49m\u001b[43m,\u001b[49m\n\u001b[0;32m    422\u001b[0m \u001b[43m        \u001b[49m\u001b[43mn_trials\u001b[49m\u001b[38;5;241;43m=\u001b[39;49m\u001b[43mn_trials\u001b[49m\u001b[43m,\u001b[49m\n\u001b[0;32m    423\u001b[0m \u001b[43m        \u001b[49m\u001b[43mtimeout\u001b[49m\u001b[38;5;241;43m=\u001b[39;49m\u001b[43mtimeout\u001b[49m\u001b[43m,\u001b[49m\n\u001b[0;32m    424\u001b[0m \u001b[43m        \u001b[49m\u001b[43mn_jobs\u001b[49m\u001b[38;5;241;43m=\u001b[39;49m\u001b[43mn_jobs\u001b[49m\u001b[43m,\u001b[49m\n\u001b[0;32m    425\u001b[0m \u001b[43m        \u001b[49m\u001b[43mcatch\u001b[49m\u001b[38;5;241;43m=\u001b[39;49m\u001b[43mcatch\u001b[49m\u001b[43m,\u001b[49m\n\u001b[0;32m    426\u001b[0m \u001b[43m        \u001b[49m\u001b[43mcallbacks\u001b[49m\u001b[38;5;241;43m=\u001b[39;49m\u001b[43mcallbacks\u001b[49m\u001b[43m,\u001b[49m\n\u001b[0;32m    427\u001b[0m \u001b[43m        \u001b[49m\u001b[43mgc_after_trial\u001b[49m\u001b[38;5;241;43m=\u001b[39;49m\u001b[43mgc_after_trial\u001b[49m\u001b[43m,\u001b[49m\n\u001b[0;32m    428\u001b[0m \u001b[43m        \u001b[49m\u001b[43mshow_progress_bar\u001b[49m\u001b[38;5;241;43m=\u001b[39;49m\u001b[43mshow_progress_bar\u001b[49m\u001b[43m,\u001b[49m\n\u001b[0;32m    429\u001b[0m \u001b[43m    \u001b[49m\u001b[43m)\u001b[49m\n",
      "File \u001b[1;32mD:\\source\\repos\\venv\\Python310\\lib\\site-packages\\optuna\\study\\_optimize.py:66\u001b[0m, in \u001b[0;36m_optimize\u001b[1;34m(study, func, n_trials, timeout, n_jobs, catch, callbacks, gc_after_trial, show_progress_bar)\u001b[0m\n\u001b[0;32m     64\u001b[0m \u001b[38;5;28;01mtry\u001b[39;00m:\n\u001b[0;32m     65\u001b[0m     \u001b[38;5;28;01mif\u001b[39;00m n_jobs \u001b[38;5;241m==\u001b[39m \u001b[38;5;241m1\u001b[39m:\n\u001b[1;32m---> 66\u001b[0m         \u001b[43m_optimize_sequential\u001b[49m\u001b[43m(\u001b[49m\n\u001b[0;32m     67\u001b[0m \u001b[43m            \u001b[49m\u001b[43mstudy\u001b[49m\u001b[43m,\u001b[49m\n\u001b[0;32m     68\u001b[0m \u001b[43m            \u001b[49m\u001b[43mfunc\u001b[49m\u001b[43m,\u001b[49m\n\u001b[0;32m     69\u001b[0m \u001b[43m            \u001b[49m\u001b[43mn_trials\u001b[49m\u001b[43m,\u001b[49m\n\u001b[0;32m     70\u001b[0m \u001b[43m            \u001b[49m\u001b[43mtimeout\u001b[49m\u001b[43m,\u001b[49m\n\u001b[0;32m     71\u001b[0m \u001b[43m            \u001b[49m\u001b[43mcatch\u001b[49m\u001b[43m,\u001b[49m\n\u001b[0;32m     72\u001b[0m \u001b[43m            \u001b[49m\u001b[43mcallbacks\u001b[49m\u001b[43m,\u001b[49m\n\u001b[0;32m     73\u001b[0m \u001b[43m            \u001b[49m\u001b[43mgc_after_trial\u001b[49m\u001b[43m,\u001b[49m\n\u001b[0;32m     74\u001b[0m \u001b[43m            \u001b[49m\u001b[43mreseed_sampler_rng\u001b[49m\u001b[38;5;241;43m=\u001b[39;49m\u001b[38;5;28;43;01mFalse\u001b[39;49;00m\u001b[43m,\u001b[49m\n\u001b[0;32m     75\u001b[0m \u001b[43m            \u001b[49m\u001b[43mtime_start\u001b[49m\u001b[38;5;241;43m=\u001b[39;49m\u001b[38;5;28;43;01mNone\u001b[39;49;00m\u001b[43m,\u001b[49m\n\u001b[0;32m     76\u001b[0m \u001b[43m            \u001b[49m\u001b[43mprogress_bar\u001b[49m\u001b[38;5;241;43m=\u001b[39;49m\u001b[43mprogress_bar\u001b[49m\u001b[43m,\u001b[49m\n\u001b[0;32m     77\u001b[0m \u001b[43m        \u001b[49m\u001b[43m)\u001b[49m\n\u001b[0;32m     78\u001b[0m     \u001b[38;5;28;01melse\u001b[39;00m:\n\u001b[0;32m     79\u001b[0m         \u001b[38;5;28;01mif\u001b[39;00m n_jobs \u001b[38;5;241m==\u001b[39m \u001b[38;5;241m-\u001b[39m\u001b[38;5;241m1\u001b[39m:\n",
      "File \u001b[1;32mD:\\source\\repos\\venv\\Python310\\lib\\site-packages\\optuna\\study\\_optimize.py:160\u001b[0m, in \u001b[0;36m_optimize_sequential\u001b[1;34m(study, func, n_trials, timeout, catch, callbacks, gc_after_trial, reseed_sampler_rng, time_start, progress_bar)\u001b[0m\n\u001b[0;32m    157\u001b[0m         \u001b[38;5;28;01mbreak\u001b[39;00m\n\u001b[0;32m    159\u001b[0m \u001b[38;5;28;01mtry\u001b[39;00m:\n\u001b[1;32m--> 160\u001b[0m     frozen_trial \u001b[38;5;241m=\u001b[39m \u001b[43m_run_trial\u001b[49m\u001b[43m(\u001b[49m\u001b[43mstudy\u001b[49m\u001b[43m,\u001b[49m\u001b[43m \u001b[49m\u001b[43mfunc\u001b[49m\u001b[43m,\u001b[49m\u001b[43m \u001b[49m\u001b[43mcatch\u001b[49m\u001b[43m)\u001b[49m\n\u001b[0;32m    161\u001b[0m \u001b[38;5;28;01mfinally\u001b[39;00m:\n\u001b[0;32m    162\u001b[0m     \u001b[38;5;66;03m# The following line mitigates memory problems that can be occurred in some\u001b[39;00m\n\u001b[0;32m    163\u001b[0m     \u001b[38;5;66;03m# environments (e.g., services that use computing containers such as CircleCI).\u001b[39;00m\n\u001b[0;32m    164\u001b[0m     \u001b[38;5;66;03m# Please refer to the following PR for further details:\u001b[39;00m\n\u001b[0;32m    165\u001b[0m     \u001b[38;5;66;03m# https://github.com/optuna/optuna/pull/325.\u001b[39;00m\n\u001b[0;32m    166\u001b[0m     \u001b[38;5;28;01mif\u001b[39;00m gc_after_trial:\n",
      "File \u001b[1;32mD:\\source\\repos\\venv\\Python310\\lib\\site-packages\\optuna\\study\\_optimize.py:234\u001b[0m, in \u001b[0;36m_run_trial\u001b[1;34m(study, func, catch)\u001b[0m\n\u001b[0;32m    227\u001b[0m         \u001b[38;5;28;01massert\u001b[39;00m \u001b[38;5;28;01mFalse\u001b[39;00m, \u001b[38;5;124m\"\u001b[39m\u001b[38;5;124mShould not reach.\u001b[39m\u001b[38;5;124m\"\u001b[39m\n\u001b[0;32m    229\u001b[0m \u001b[38;5;28;01mif\u001b[39;00m (\n\u001b[0;32m    230\u001b[0m     frozen_trial\u001b[38;5;241m.\u001b[39mstate \u001b[38;5;241m==\u001b[39m TrialState\u001b[38;5;241m.\u001b[39mFAIL\n\u001b[0;32m    231\u001b[0m     \u001b[38;5;129;01mand\u001b[39;00m func_err \u001b[38;5;129;01mis\u001b[39;00m \u001b[38;5;129;01mnot\u001b[39;00m \u001b[38;5;28;01mNone\u001b[39;00m\n\u001b[0;32m    232\u001b[0m     \u001b[38;5;129;01mand\u001b[39;00m \u001b[38;5;129;01mnot\u001b[39;00m \u001b[38;5;28misinstance\u001b[39m(func_err, catch)\n\u001b[0;32m    233\u001b[0m ):\n\u001b[1;32m--> 234\u001b[0m     \u001b[38;5;28;01mraise\u001b[39;00m func_err\n\u001b[0;32m    235\u001b[0m \u001b[38;5;28;01mreturn\u001b[39;00m frozen_trial\n",
      "File \u001b[1;32mD:\\source\\repos\\venv\\Python310\\lib\\site-packages\\optuna\\study\\_optimize.py:196\u001b[0m, in \u001b[0;36m_run_trial\u001b[1;34m(study, func, catch)\u001b[0m\n\u001b[0;32m    194\u001b[0m \u001b[38;5;28;01mwith\u001b[39;00m get_heartbeat_thread(trial\u001b[38;5;241m.\u001b[39m_trial_id, study\u001b[38;5;241m.\u001b[39m_storage):\n\u001b[0;32m    195\u001b[0m     \u001b[38;5;28;01mtry\u001b[39;00m:\n\u001b[1;32m--> 196\u001b[0m         value_or_values \u001b[38;5;241m=\u001b[39m \u001b[43mfunc\u001b[49m\u001b[43m(\u001b[49m\u001b[43mtrial\u001b[49m\u001b[43m)\u001b[49m\n\u001b[0;32m    197\u001b[0m     \u001b[38;5;28;01mexcept\u001b[39;00m exceptions\u001b[38;5;241m.\u001b[39mTrialPruned \u001b[38;5;28;01mas\u001b[39;00m e:\n\u001b[0;32m    198\u001b[0m         \u001b[38;5;66;03m# TODO(mamu): Handle multi-objective cases.\u001b[39;00m\n\u001b[0;32m    199\u001b[0m         state \u001b[38;5;241m=\u001b[39m TrialState\u001b[38;5;241m.\u001b[39mPRUNED\n",
      "Cell \u001b[1;32mIn[10], line 37\u001b[0m, in \u001b[0;36mobjective_v3\u001b[1;34m(trial)\u001b[0m\n\u001b[0;32m     26\u001b[0m     y_train , y_valid \u001b[38;5;241m=\u001b[39m train_df[target]\u001b[38;5;241m.\u001b[39miloc[train_idx] , train_df[target]\u001b[38;5;241m.\u001b[39miloc[valid_idx] \n\u001b[0;32m     28\u001b[0m     reg \u001b[38;5;241m=\u001b[39m CatBoostRegressor(iterations\u001b[38;5;241m=\u001b[39m\u001b[38;5;241m20000\u001b[39m,\n\u001b[0;32m     29\u001b[0m                         \u001b[38;5;241m*\u001b[39m\u001b[38;5;241m*\u001b[39mparam_grid,\n\u001b[0;32m     30\u001b[0m                         bootstrap_type\u001b[38;5;241m=\u001b[39m\u001b[38;5;124m'\u001b[39m\u001b[38;5;124mBernoulli\u001b[39m\u001b[38;5;124m'\u001b[39m,\n\u001b[1;32m   (...)\u001b[0m\n\u001b[0;32m     34\u001b[0m                         task_type\u001b[38;5;241m=\u001b[39m\u001b[38;5;124m\"\u001b[39m\u001b[38;5;124mGPU\u001b[39m\u001b[38;5;124m\"\u001b[39m,\n\u001b[0;32m     35\u001b[0m                         random_state\u001b[38;5;241m=\u001b[39m\u001b[38;5;241m1\u001b[39m,)\n\u001b[1;32m---> 37\u001b[0m     \u001b[43mreg\u001b[49m\u001b[38;5;241;43m.\u001b[39;49m\u001b[43mfit\u001b[49m\u001b[43m(\u001b[49m\u001b[43mX_train\u001b[49m\u001b[43m,\u001b[49m\u001b[43m \u001b[49m\u001b[43my_train\u001b[49m\u001b[43m,\u001b[49m\u001b[43m \u001b[49m\u001b[43meval_set\u001b[49m\u001b[38;5;241;43m=\u001b[39;49m\u001b[43m(\u001b[49m\u001b[43mX_valid\u001b[49m\u001b[43m,\u001b[49m\u001b[43m \u001b[49m\u001b[43my_valid\u001b[49m\u001b[43m)\u001b[49m\u001b[43m,\u001b[49m\u001b[43m \u001b[49m\u001b[43mearly_stopping_rounds\u001b[49m\u001b[38;5;241;43m=\u001b[39;49m\u001b[38;5;241;43m100\u001b[39;49m\u001b[43m,\u001b[49m\u001b[43m \u001b[49m\u001b[43mverbose\u001b[49m\u001b[38;5;241;43m=\u001b[39;49m\u001b[38;5;241;43m1000\u001b[39;49m\u001b[43m)\u001b[49m\n\u001b[0;32m     39\u001b[0m     oof[valid_idx] \u001b[38;5;241m=\u001b[39m reg\u001b[38;5;241m.\u001b[39mpredict(X_valid)\n\u001b[0;32m     41\u001b[0m roc_auc \u001b[38;5;241m=\u001b[39m roc_auc_score(Y, oof)\n",
      "File \u001b[1;32mD:\\source\\repos\\venv\\Python310\\lib\\site-packages\\catboost\\core.py:5730\u001b[0m, in \u001b[0;36mCatBoostRegressor.fit\u001b[1;34m(self, X, y, cat_features, text_features, embedding_features, sample_weight, baseline, use_best_model, eval_set, verbose, logging_level, plot, plot_file, column_description, verbose_eval, metric_period, silent, early_stopping_rounds, save_snapshot, snapshot_file, snapshot_interval, init_model, callbacks, log_cout, log_cerr)\u001b[0m\n\u001b[0;32m   5727\u001b[0m \u001b[38;5;28;01mif\u001b[39;00m \u001b[38;5;124m'\u001b[39m\u001b[38;5;124mloss_function\u001b[39m\u001b[38;5;124m'\u001b[39m \u001b[38;5;129;01min\u001b[39;00m params:\n\u001b[0;32m   5728\u001b[0m     CatBoostRegressor\u001b[38;5;241m.\u001b[39m_check_is_compatible_loss(params[\u001b[38;5;124m'\u001b[39m\u001b[38;5;124mloss_function\u001b[39m\u001b[38;5;124m'\u001b[39m])\n\u001b[1;32m-> 5730\u001b[0m \u001b[38;5;28;01mreturn\u001b[39;00m \u001b[38;5;28;43mself\u001b[39;49m\u001b[38;5;241;43m.\u001b[39;49m\u001b[43m_fit\u001b[49m\u001b[43m(\u001b[49m\u001b[43mX\u001b[49m\u001b[43m,\u001b[49m\u001b[43m \u001b[49m\u001b[43my\u001b[49m\u001b[43m,\u001b[49m\u001b[43m \u001b[49m\u001b[43mcat_features\u001b[49m\u001b[43m,\u001b[49m\u001b[43m \u001b[49m\u001b[43mtext_features\u001b[49m\u001b[43m,\u001b[49m\u001b[43m \u001b[49m\u001b[43membedding_features\u001b[49m\u001b[43m,\u001b[49m\u001b[43m \u001b[49m\u001b[38;5;28;43;01mNone\u001b[39;49;00m\u001b[43m,\u001b[49m\u001b[43m \u001b[49m\u001b[43msample_weight\u001b[49m\u001b[43m,\u001b[49m\u001b[43m \u001b[49m\u001b[38;5;28;43;01mNone\u001b[39;49;00m\u001b[43m,\u001b[49m\u001b[43m \u001b[49m\u001b[38;5;28;43;01mNone\u001b[39;49;00m\u001b[43m,\u001b[49m\u001b[43m \u001b[49m\u001b[38;5;28;43;01mNone\u001b[39;49;00m\u001b[43m,\u001b[49m\u001b[43m \u001b[49m\u001b[38;5;28;43;01mNone\u001b[39;49;00m\u001b[43m,\u001b[49m\u001b[43m \u001b[49m\u001b[43mbaseline\u001b[49m\u001b[43m,\u001b[49m\n\u001b[0;32m   5731\u001b[0m \u001b[43m                 \u001b[49m\u001b[43muse_best_model\u001b[49m\u001b[43m,\u001b[49m\u001b[43m \u001b[49m\u001b[43meval_set\u001b[49m\u001b[43m,\u001b[49m\u001b[43m \u001b[49m\u001b[43mverbose\u001b[49m\u001b[43m,\u001b[49m\u001b[43m \u001b[49m\u001b[43mlogging_level\u001b[49m\u001b[43m,\u001b[49m\u001b[43m \u001b[49m\u001b[43mplot\u001b[49m\u001b[43m,\u001b[49m\u001b[43m \u001b[49m\u001b[43mplot_file\u001b[49m\u001b[43m,\u001b[49m\u001b[43m \u001b[49m\u001b[43mcolumn_description\u001b[49m\u001b[43m,\u001b[49m\n\u001b[0;32m   5732\u001b[0m \u001b[43m                 \u001b[49m\u001b[43mverbose_eval\u001b[49m\u001b[43m,\u001b[49m\u001b[43m \u001b[49m\u001b[43mmetric_period\u001b[49m\u001b[43m,\u001b[49m\u001b[43m \u001b[49m\u001b[43msilent\u001b[49m\u001b[43m,\u001b[49m\u001b[43m \u001b[49m\u001b[43mearly_stopping_rounds\u001b[49m\u001b[43m,\u001b[49m\n\u001b[0;32m   5733\u001b[0m \u001b[43m                 \u001b[49m\u001b[43msave_snapshot\u001b[49m\u001b[43m,\u001b[49m\u001b[43m \u001b[49m\u001b[43msnapshot_file\u001b[49m\u001b[43m,\u001b[49m\u001b[43m \u001b[49m\u001b[43msnapshot_interval\u001b[49m\u001b[43m,\u001b[49m\u001b[43m \u001b[49m\u001b[43minit_model\u001b[49m\u001b[43m,\u001b[49m\u001b[43m \u001b[49m\u001b[43mcallbacks\u001b[49m\u001b[43m,\u001b[49m\u001b[43m \u001b[49m\u001b[43mlog_cout\u001b[49m\u001b[43m,\u001b[49m\u001b[43m \u001b[49m\u001b[43mlog_cerr\u001b[49m\u001b[43m)\u001b[49m\n",
      "File \u001b[1;32mD:\\source\\repos\\venv\\Python310\\lib\\site-packages\\catboost\\core.py:2355\u001b[0m, in \u001b[0;36mCatBoost._fit\u001b[1;34m(self, X, y, cat_features, text_features, embedding_features, pairs, sample_weight, group_id, group_weight, subgroup_id, pairs_weight, baseline, use_best_model, eval_set, verbose, logging_level, plot, plot_file, column_description, verbose_eval, metric_period, silent, early_stopping_rounds, save_snapshot, snapshot_file, snapshot_interval, init_model, callbacks, log_cout, log_cerr)\u001b[0m\n\u001b[0;32m   2351\u001b[0m allow_clear_pool \u001b[38;5;241m=\u001b[39m train_params[\u001b[38;5;124m\"\u001b[39m\u001b[38;5;124mallow_clear_pool\u001b[39m\u001b[38;5;124m\"\u001b[39m]\n\u001b[0;32m   2353\u001b[0m \u001b[38;5;28;01mwith\u001b[39;00m log_fixup(log_cout, log_cerr), \\\n\u001b[0;32m   2354\u001b[0m     plot_wrapper(plot, plot_file, \u001b[38;5;124m'\u001b[39m\u001b[38;5;124mTraining plots\u001b[39m\u001b[38;5;124m'\u001b[39m, [_get_train_dir(\u001b[38;5;28mself\u001b[39m\u001b[38;5;241m.\u001b[39mget_params())]):\n\u001b[1;32m-> 2355\u001b[0m     \u001b[38;5;28;43mself\u001b[39;49m\u001b[38;5;241;43m.\u001b[39;49m\u001b[43m_train\u001b[49m\u001b[43m(\u001b[49m\n\u001b[0;32m   2356\u001b[0m \u001b[43m        \u001b[49m\u001b[43mtrain_pool\u001b[49m\u001b[43m,\u001b[49m\n\u001b[0;32m   2357\u001b[0m \u001b[43m        \u001b[49m\u001b[43mtrain_params\u001b[49m\u001b[43m[\u001b[49m\u001b[38;5;124;43m\"\u001b[39;49m\u001b[38;5;124;43meval_sets\u001b[39;49m\u001b[38;5;124;43m\"\u001b[39;49m\u001b[43m]\u001b[49m\u001b[43m,\u001b[49m\n\u001b[0;32m   2358\u001b[0m \u001b[43m        \u001b[49m\u001b[43mparams\u001b[49m\u001b[43m,\u001b[49m\n\u001b[0;32m   2359\u001b[0m \u001b[43m        \u001b[49m\u001b[43mallow_clear_pool\u001b[49m\u001b[43m,\u001b[49m\n\u001b[0;32m   2360\u001b[0m \u001b[43m        \u001b[49m\u001b[43mtrain_params\u001b[49m\u001b[43m[\u001b[49m\u001b[38;5;124;43m\"\u001b[39;49m\u001b[38;5;124;43minit_model\u001b[39;49m\u001b[38;5;124;43m\"\u001b[39;49m\u001b[43m]\u001b[49m\n\u001b[0;32m   2361\u001b[0m \u001b[43m    \u001b[49m\u001b[43m)\u001b[49m\n\u001b[0;32m   2363\u001b[0m \u001b[38;5;66;03m# Have property feature_importance possibly set\u001b[39;00m\n\u001b[0;32m   2364\u001b[0m loss \u001b[38;5;241m=\u001b[39m \u001b[38;5;28mself\u001b[39m\u001b[38;5;241m.\u001b[39m_object\u001b[38;5;241m.\u001b[39m_get_loss_function_name()\n",
      "File \u001b[1;32mD:\\source\\repos\\venv\\Python310\\lib\\site-packages\\catboost\\core.py:1759\u001b[0m, in \u001b[0;36m_CatBoostBase._train\u001b[1;34m(self, train_pool, test_pool, params, allow_clear_pool, init_model)\u001b[0m\n\u001b[0;32m   1758\u001b[0m \u001b[38;5;28;01mdef\u001b[39;00m \u001b[38;5;21m_train\u001b[39m(\u001b[38;5;28mself\u001b[39m, train_pool, test_pool, params, allow_clear_pool, init_model):\n\u001b[1;32m-> 1759\u001b[0m     \u001b[38;5;28;43mself\u001b[39;49m\u001b[38;5;241;43m.\u001b[39;49m\u001b[43m_object\u001b[49m\u001b[38;5;241;43m.\u001b[39;49m\u001b[43m_train\u001b[49m\u001b[43m(\u001b[49m\u001b[43mtrain_pool\u001b[49m\u001b[43m,\u001b[49m\u001b[43m \u001b[49m\u001b[43mtest_pool\u001b[49m\u001b[43m,\u001b[49m\u001b[43m \u001b[49m\u001b[43mparams\u001b[49m\u001b[43m,\u001b[49m\u001b[43m \u001b[49m\u001b[43mallow_clear_pool\u001b[49m\u001b[43m,\u001b[49m\u001b[43m \u001b[49m\u001b[43minit_model\u001b[49m\u001b[38;5;241;43m.\u001b[39;49m\u001b[43m_object\u001b[49m\u001b[43m \u001b[49m\u001b[38;5;28;43;01mif\u001b[39;49;00m\u001b[43m \u001b[49m\u001b[43minit_model\u001b[49m\u001b[43m \u001b[49m\u001b[38;5;28;43;01melse\u001b[39;49;00m\u001b[43m \u001b[49m\u001b[38;5;28;43;01mNone\u001b[39;49;00m\u001b[43m)\u001b[49m\n\u001b[0;32m   1760\u001b[0m     \u001b[38;5;28mself\u001b[39m\u001b[38;5;241m.\u001b[39m_set_trained_model_attributes()\n",
      "File \u001b[1;32m_catboost.pyx:4623\u001b[0m, in \u001b[0;36m_catboost._CatBoost._train\u001b[1;34m()\u001b[0m\n",
      "File \u001b[1;32m_catboost.pyx:4672\u001b[0m, in \u001b[0;36m_catboost._CatBoost._train\u001b[1;34m()\u001b[0m\n",
      "\u001b[1;31mKeyboardInterrupt\u001b[0m: "
     ]
    }
   ],
   "source": [
    "study = optuna.create_study(direction='maximize', sampler=TPESampler(), study_name=objective)\n",
    "study.optimize(objective_v3, timeout=train_time)"
   ]
  },
  {
   "cell_type": "code",
   "execution_count": 12,
   "id": "e8c311ac-1682-4fef-b5cb-738cf81f8e89",
   "metadata": {
    "tags": []
   },
   "outputs": [],
   "source": [
    "parm_grid_bytes = pickle.dumps(param_grid_history)\n",
    "with open(f\"rendered_data/{objective}_bytes.hex\", \"wb\") as binary_file:\n",
    "    binary_file.write(parm_grid_bytes)"
   ]
  },
  {
   "cell_type": "code",
   "execution_count": 16,
   "id": "1c611044-b83b-42bc-8ea0-f34bf0ec3782",
   "metadata": {},
   "outputs": [
    {
     "name": "stderr",
     "output_type": "stream",
     "text": [
      "  0%|                                                                                            | 0/1 [00:00<?, ?it/s]Default metric period is 5 because AUC is/are not implemented for GPU\n",
      "AUC is not implemented on GPU. Will use CPU for metric computation, this could significantly affect learning time\n"
     ]
    },
    {
     "name": "stdout",
     "output_type": "stream",
     "text": [
      "0:\ttest: 0.8076436\tbest: 0.8076436 (0)\ttotal: 9.48ms\tremaining: 3m 9s\n"
     ]
    },
    {
     "name": "stderr",
     "output_type": "stream",
     "text": [
      "100%|████████████████████████████████████████████████████████████████████████████████████| 1/1 [00:02<00:00,  2.29s/it]"
     ]
    },
    {
     "name": "stdout",
     "output_type": "stream",
     "text": [
      "bestTest = 0.8358108108\n",
      "bestIteration = 57\n",
      "Shrink model to first 58 iterations.\n"
     ]
    },
    {
     "name": "stderr",
     "output_type": "stream",
     "text": [
      "\n"
     ]
    }
   ],
   "source": [
    "def train(param_grid):\n",
    "    reg = CatBoostRegressor(iterations=20000,\n",
    "                        **param_grid,\n",
    "                        bootstrap_type='Bernoulli',\n",
    "                        grow_policy='SymmetricTree',\n",
    "                        #loss_function='Logloss',\n",
    "                        eval_metric='AUC',\n",
    "                        task_type=\"GPU\",\n",
    "                        random_state=1,)\n",
    "    \n",
    "    X_train, X_valid, y_train, y_valid = train_test_split(X, Y, test_size=0.20)\n",
    "    \n",
    "    reg.fit(X_train, y_train, eval_set=(X_valid, y_valid), early_stopping_rounds=100, verbose=1000)\n",
    "    \n",
    "    return reg\n",
    "\n",
    "percent = math.ceil(len(param_grid_history.keys()) * .1)\n",
    "top = sorted(list(param_grid_history.keys()))[-percent:]\n",
    "\n",
    "train_preds = []\n",
    "test_preds = []\n",
    "for key in tqdm(top):\n",
    "    model = train(param_grid_history[key])\n",
    "    train_preds.append(model.predict(train_df[features]))\n",
    "    test_preds.append(model.predict(test_df[features]))\n",
    "\n",
    "train_final_preds = np.stack(train_preds).mean(0)\n",
    "test_final_preds = np.stack(test_preds).mean(0)"
   ]
  },
  {
   "cell_type": "code",
   "execution_count": 17,
   "id": "31a813da-1308-4125-9c61-6516e81ebedf",
   "metadata": {},
   "outputs": [],
   "source": [
    "train_submission = pd.DataFrame(data={'id': train_df.index, target[0]: train_final_preds})\n",
    "train_submission.to_csv(fr'rendered_data/{objective}_train_submission.csv', index=False)\n",
    "\n",
    "test_submission = pd.DataFrame(data={'id': test_df.index, target[0]: test_final_preds})\n",
    "test_submission.to_csv(fr'rendered_data/{objective}_test_submission.csv', index=False)"
   ]
  },
  {
   "cell_type": "code",
   "execution_count": null,
   "id": "37c55386-36e0-47a8-9ad6-7b5e903565d8",
   "metadata": {},
   "outputs": [],
   "source": []
  }
 ],
 "metadata": {
  "kernelspec": {
   "display_name": "Python 3 (ipykernel)",
   "language": "python",
   "name": "python3"
  },
  "language_info": {
   "codemirror_mode": {
    "name": "ipython",
    "version": 3
   },
   "file_extension": ".py",
   "mimetype": "text/x-python",
   "name": "python",
   "nbconvert_exporter": "python",
   "pygments_lexer": "ipython3",
   "version": "3.10.9"
  }
 },
 "nbformat": 4,
 "nbformat_minor": 5
}
