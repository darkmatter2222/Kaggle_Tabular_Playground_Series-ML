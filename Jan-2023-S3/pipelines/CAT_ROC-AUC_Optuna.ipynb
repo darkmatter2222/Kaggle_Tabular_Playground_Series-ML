{
 "cells": [
  {
   "cell_type": "code",
   "execution_count": 1,
   "id": "0ea2173c-c725-48a2-9f4b-0760d06f5369",
   "metadata": {},
   "outputs": [],
   "source": [
    "import numpy as np\n",
    "import pandas as pd\n",
    "import math\n",
    "import sys, os\n",
    "#import seaborn as sns\n",
    "#from scipy import stats\n",
    "#from pathlib import Path\n",
    "#import matplotlib.pyplot as plt\n",
    "#from sklearn.model_selection import KFold\n",
    "from sklearn.preprocessing import MinMaxScaler\n",
    "from sklearn.model_selection import train_test_split\n",
    "#from sklearn.metrics import mean_squared_error\n",
    "#from sklearn.metrics import mean_squared_error\n",
    "#from sklearn.preprocessing import MinMaxScaler\n",
    "#from sklearn.datasets import fetch_california_housing\n",
    "#import math\n",
    "from tqdm import tqdm\n",
    "from sklearn.feature_extraction.text import CountVectorizer\n",
    "import optuna\n",
    "from optuna.samplers import TPESampler\n",
    "#import lightgbm as lbgm\n",
    "#from xgboost import XGBRegressor\n",
    "#import xgboost as xgb\n",
    "from catboost import CatBoostRegressor\n",
    "#from lightgbm.sklearn import lbgmRegressor\n",
    "#from sklearn.ensemble import RandomForestRegressor\n",
    "import pickle\n",
    "from sklearn.metrics import roc_curve, auc\n",
    "from sklearn.model_selection import StratifiedKFold"
   ]
  },
  {
   "cell_type": "code",
   "execution_count": 2,
   "id": "8f0f95fb-df8e-48fd-8966-c5da8cd6aa8d",
   "metadata": {},
   "outputs": [],
   "source": [
    "train_time = 1 * 60 * 15\n",
    "objective = 'catregressor'"
   ]
  },
  {
   "cell_type": "code",
   "execution_count": 3,
   "id": "f4b3963c-3958-4512-945d-66cd855e2958",
   "metadata": {},
   "outputs": [],
   "source": [
    "sys.path.append(os.path.realpath('..'))"
   ]
  },
  {
   "cell_type": "code",
   "execution_count": 4,
   "id": "fb0c1a5f-5d8d-4051-b6cc-d50eb8f48296",
   "metadata": {},
   "outputs": [],
   "source": [
    "train_df = pd.read_csv(r\"..\\data\\train.csv\", index_col=0)\n",
    "test_df = pd.read_csv(r\"..\\data\\test.csv\", index_col=0)\n",
    "sample_sub = pd.read_csv(r\"..\\data\\sample_submission.csv\", index_col=0)"
   ]
  },
  {
   "cell_type": "code",
   "execution_count": 5,
   "id": "19146116-cccc-4b54-b014-5d86fbb25802",
   "metadata": {},
   "outputs": [],
   "source": [
    "del train_df['Over18']\n",
    "del train_df['EmployeeCount']\n",
    "del train_df['StandardHours']"
   ]
  },
  {
   "cell_type": "code",
   "execution_count": 6,
   "id": "4f91fca1-73d2-46a2-be27-255acb201292",
   "metadata": {},
   "outputs": [
    {
     "name": "stdout",
     "output_type": "stream",
     "text": [
      "BusinessTravel\n",
      "Department\n",
      "EducationField\n",
      "Gender\n",
      "JobRole\n",
      "MaritalStatus\n",
      "OverTime\n"
     ]
    }
   ],
   "source": [
    "columns_to_vectorize = ['BusinessTravel', 'Department', 'EducationField', 'Gender', 'JobRole', 'MaritalStatus', 'OverTime']\n",
    "for vector_target in columns_to_vectorize:\n",
    "    print(vector_target)\n",
    "    vectorizer = CountVectorizer()\n",
    "    vectorizer.fit_transform(train_df[vector_target])\n",
    "    train_df[f'{vector_target}_v'] = vectorizer.transform(train_df[vector_target]).toarray().argmax(axis=1)[:,None]\n",
    "    vectorizer.fit_transform(test_df[vector_target])\n",
    "    test_df[f'{vector_target}_v'] = vectorizer.transform(test_df[vector_target]).toarray().argmax(axis=1)[:,None]"
   ]
  },
  {
   "cell_type": "code",
   "execution_count": 7,
   "id": "bf47c0d1-7407-41ee-8f49-b483c295621a",
   "metadata": {},
   "outputs": [],
   "source": [
    "features = ['Age', 'DailyRate', 'DistanceFromHome', 'Education', 'EnvironmentSatisfaction','HourlyRate', 'JobInvolvement', 'JobLevel', 'JobSatisfaction', \n",
    "       'MonthlyIncome', 'MonthlyRate', 'NumCompaniesWorked', 'PercentSalaryHike', 'PerformanceRating', 'RelationshipSatisfaction', 'StockOptionLevel', 'TotalWorkingYears',\n",
    "       'TrainingTimesLastYear', 'WorkLifeBalance', 'YearsAtCompany', 'YearsInCurrentRole', 'YearsSinceLastPromotion', 'YearsWithCurrManager',\n",
    "        'BusinessTravel_v', 'Department_v', 'EducationField_v','Gender_v', 'JobRole_v', 'MaritalStatus_v', 'OverTime_v']\n",
    "target = ['Attrition']"
   ]
  },
  {
   "cell_type": "code",
   "execution_count": 8,
   "id": "0b6f3634-fc77-4995-a975-a905a599e16f",
   "metadata": {},
   "outputs": [],
   "source": [
    "scaler = MinMaxScaler().fit(train_df[features])\n",
    "X = scaler.transform(train_df[features])\n",
    "X_test = scaler.transform(test_df[features])\n",
    "\n",
    "scaler = MinMaxScaler().fit(train_df[target])\n",
    "Y = scaler.transform(train_df[target])"
   ]
  },
  {
   "cell_type": "code",
   "execution_count": 9,
   "id": "1ca53f18-a11e-476f-a87a-93c34f0e6ce3",
   "metadata": {},
   "outputs": [],
   "source": [
    "RANDOM_STATE = 12 \n",
    "FOLDS = 5\n",
    "param_grid_history = {}\n",
    "\n",
    "def render_model(param_grid):\n",
    "    reg = CatBoostRegressor(iterations=20000,\n",
    "                            **param_grid,\n",
    "                            bootstrap_type='Bernoulli',\n",
    "                            grow_policy='SymmetricTree',\n",
    "                            #loss_function='Logloss',\n",
    "                            eval_metric='AUC',\n",
    "                            task_type=\"GPU\",\n",
    "                            random_state=1,)\n",
    "    return reg\n",
    "    \n",
    "def train_model(reg, X_train, y_train, X_valid, y_valid):\n",
    "    reg.fit(X_train, y_train, eval_set=(X_valid, y_valid), early_stopping_rounds=100, verbose=1000)\n",
    "\n",
    "    preds = reg.predict(train_df[features])\n",
    "    fpr, tpr, _ = roc_curve(train_df[target], preds)\n",
    "    roc_auc = auc(fpr, tpr)\n",
    "    return reg, roc_auc\n",
    "\n",
    "def objective_v2(trial):\n",
    "    scores = []\n",
    "    param_grid = {\n",
    "        'depth': trial.suggest_int('depth', 1, 8),\n",
    "        'learning_rate': trial.suggest_float('learning_rate', 0.001, 0.1),\n",
    "        #'rsm': trial.suggest_float('rsm', 0.001, 0.9),\n",
    "        'subsample': trial.suggest_float('subsample', 0.1, 1),\n",
    "        'min_data_in_leaf': trial.suggest_int('min_data_in_leaf', 1, 100), \n",
    "        'l2_leaf_reg': trial.suggest_int('l2_leaf_reg', 1, 20),\n",
    "        'random_strength': trial.suggest_float('random_strength', 0.001, 0.9),\n",
    "    } \n",
    "        \n",
    "    skf = StratifiedKFold(n_splits=FOLDS, shuffle=True, random_state=RANDOM_STATE)\n",
    "    for fold, (train_idx, valid_idx) in enumerate(skf.split(train_df[features], train_df[target])):\n",
    "        print(10*\"=\", f\"Fold={fold+1}\", 10*\"=\")\n",
    "        X_train, X_valid = train_df.iloc[train_idx][features], train_df.iloc[valid_idx][features]\n",
    "        y_train , y_valid = train_df[target].iloc[train_idx] , train_df[target].iloc[valid_idx] \n",
    "        \n",
    "        reg = render_model(param_grid)\n",
    "        reg, roc_auc = train_model(reg, X_train, y_train, X_valid, y_valid)\n",
    "\n",
    "        scores.append(roc_auc)\n",
    "    mean_scores = np.mean(scores)\n",
    "    param_grid_history[mean_scores] = param_grid\n",
    "\n",
    "    return mean_scores"
   ]
  },
  {
   "cell_type": "code",
   "execution_count": 10,
   "id": "4466b24c-6898-4186-818f-3d3013bee5d4",
   "metadata": {
    "collapsed": true,
    "jupyter": {
     "outputs_hidden": true
    },
    "tags": []
   },
   "outputs": [
    {
     "name": "stderr",
     "output_type": "stream",
     "text": [
      "\u001b[32m[I 2023-01-17 20:43:36,710]\u001b[0m A new study created in memory with name: catregressor\u001b[0m\n"
     ]
    },
    {
     "name": "stdout",
     "output_type": "stream",
     "text": [
      "========== Fold=1 ==========\n"
     ]
    },
    {
     "name": "stderr",
     "output_type": "stream",
     "text": [
      "Default metric period is 5 because AUC is/are not implemented for GPU\n",
      "AUC is not implemented on GPU. Will use CPU for metric computation, this could significantly affect learning time\n"
     ]
    },
    {
     "name": "stdout",
     "output_type": "stream",
     "text": [
      "0:\ttest: 0.7013514\tbest: 0.7013514 (0)\ttotal: 10ms\tremaining: 3m 20s\n",
      "bestTest = 0.8365709459\n",
      "bestIteration = 376\n",
      "Shrink model to first 377 iterations.\n",
      "========== Fold=2 ==========\n"
     ]
    },
    {
     "name": "stderr",
     "output_type": "stream",
     "text": [
      "Default metric period is 5 because AUC is/are not implemented for GPU\n",
      "AUC is not implemented on GPU. Will use CPU for metric computation, this could significantly affect learning time\n"
     ]
    },
    {
     "name": "stdout",
     "output_type": "stream",
     "text": [
      "0:\ttest: 0.7797297\tbest: 0.7797297 (0)\ttotal: 12.2ms\tremaining: 4m 4s\n",
      "bestTest = 0.8321368243\n",
      "bestIteration = 12\n",
      "Shrink model to first 13 iterations.\n",
      "========== Fold=3 ==========\n"
     ]
    },
    {
     "name": "stderr",
     "output_type": "stream",
     "text": [
      "Default metric period is 5 because AUC is/are not implemented for GPU\n",
      "AUC is not implemented on GPU. Will use CPU for metric computation, this could significantly affect learning time\n"
     ]
    },
    {
     "name": "stdout",
     "output_type": "stream",
     "text": [
      "0:\ttest: 0.7773729\tbest: 0.7773729 (0)\ttotal: 10.6ms\tremaining: 3m 31s\n",
      "bestTest = 0.856440678\n",
      "bestIteration = 191\n",
      "Shrink model to first 192 iterations.\n",
      "========== Fold=4 ==========\n"
     ]
    },
    {
     "name": "stderr",
     "output_type": "stream",
     "text": [
      "Default metric period is 5 because AUC is/are not implemented for GPU\n",
      "AUC is not implemented on GPU. Will use CPU for metric computation, this could significantly affect learning time\n"
     ]
    },
    {
     "name": "stdout",
     "output_type": "stream",
     "text": [
      "0:\ttest: 0.7755932\tbest: 0.7755932 (0)\ttotal: 11.3ms\tremaining: 3m 46s\n",
      "bestTest = 0.851440678\n",
      "bestIteration = 143\n",
      "Shrink model to first 144 iterations.\n",
      "========== Fold=5 ==========\n"
     ]
    },
    {
     "name": "stderr",
     "output_type": "stream",
     "text": [
      "Default metric period is 5 because AUC is/are not implemented for GPU\n",
      "AUC is not implemented on GPU. Will use CPU for metric computation, this could significantly affect learning time\n"
     ]
    },
    {
     "name": "stdout",
     "output_type": "stream",
     "text": [
      "0:\ttest: 0.6812712\tbest: 0.6812712 (0)\ttotal: 11.7ms\tremaining: 3m 53s\n"
     ]
    },
    {
     "name": "stderr",
     "output_type": "stream",
     "text": [
      "\u001b[32m[I 2023-01-17 20:43:53,916]\u001b[0m Trial 0 finished with value: 0.9290890318212593 and parameters: {'depth': 6, 'learning_rate': 0.0840457046820096, 'subsample': 0.7201089549647443, 'min_data_in_leaf': 70, 'l2_leaf_reg': 20, 'random_strength': 0.19272055576768482}. Best is trial 0 with value: 0.9290890318212593.\u001b[0m\n"
     ]
    },
    {
     "name": "stdout",
     "output_type": "stream",
     "text": [
      "bestTest = 0.8070338983\n",
      "bestIteration = 60\n",
      "Shrink model to first 61 iterations.\n",
      "========== Fold=1 ==========\n"
     ]
    },
    {
     "name": "stderr",
     "output_type": "stream",
     "text": [
      "Default metric period is 5 because AUC is/are not implemented for GPU\n",
      "AUC is not implemented on GPU. Will use CPU for metric computation, this could significantly affect learning time\n"
     ]
    },
    {
     "name": "stdout",
     "output_type": "stream",
     "text": [
      "0:\ttest: 0.7112753\tbest: 0.7112753 (0)\ttotal: 8.97ms\tremaining: 2m 59s\n",
      "bestTest = 0.8418918919\n",
      "bestIteration = 734\n",
      "Shrink model to first 735 iterations.\n",
      "========== Fold=2 ==========\n"
     ]
    },
    {
     "name": "stderr",
     "output_type": "stream",
     "text": [
      "Default metric period is 5 because AUC is/are not implemented for GPU\n",
      "AUC is not implemented on GPU. Will use CPU for metric computation, this could significantly affect learning time\n"
     ]
    },
    {
     "name": "stdout",
     "output_type": "stream",
     "text": [
      "0:\ttest: 0.8130490\tbest: 0.8130490 (0)\ttotal: 10.1ms\tremaining: 3m 22s\n",
      "bestTest = 0.8477618243\n",
      "bestIteration = 9\n",
      "Shrink model to first 10 iterations.\n",
      "========== Fold=3 ==========\n"
     ]
    },
    {
     "name": "stderr",
     "output_type": "stream",
     "text": [
      "Default metric period is 5 because AUC is/are not implemented for GPU\n",
      "AUC is not implemented on GPU. Will use CPU for metric computation, this could significantly affect learning time\n"
     ]
    },
    {
     "name": "stdout",
     "output_type": "stream",
     "text": [
      "0:\ttest: 0.7753814\tbest: 0.7753814 (0)\ttotal: 8.69ms\tremaining: 2m 53s\n",
      "bestTest = 0.865\n",
      "bestIteration = 87\n",
      "Shrink model to first 88 iterations.\n",
      "========== Fold=4 ==========\n"
     ]
    },
    {
     "name": "stderr",
     "output_type": "stream",
     "text": [
      "Default metric period is 5 because AUC is/are not implemented for GPU\n",
      "AUC is not implemented on GPU. Will use CPU for metric computation, this could significantly affect learning time\n"
     ]
    },
    {
     "name": "stdout",
     "output_type": "stream",
     "text": [
      "0:\ttest: 0.7779661\tbest: 0.7779661 (0)\ttotal: 8.98ms\tremaining: 2m 59s\n",
      "bestTest = 0.8511864407\n",
      "bestIteration = 184\n",
      "Shrink model to first 185 iterations.\n",
      "========== Fold=5 ==========\n"
     ]
    },
    {
     "name": "stderr",
     "output_type": "stream",
     "text": [
      "Default metric period is 5 because AUC is/are not implemented for GPU\n",
      "AUC is not implemented on GPU. Will use CPU for metric computation, this could significantly affect learning time\n"
     ]
    },
    {
     "name": "stdout",
     "output_type": "stream",
     "text": [
      "0:\ttest: 0.7050424\tbest: 0.7050424 (0)\ttotal: 8.86ms\tremaining: 2m 57s\n"
     ]
    },
    {
     "name": "stderr",
     "output_type": "stream",
     "text": [
      "\u001b[32m[I 2023-01-17 20:44:11,857]\u001b[0m Trial 1 finished with value: 0.9245920785375761 and parameters: {'depth': 5, 'learning_rate': 0.08319497646311656, 'subsample': 0.7677548109766389, 'min_data_in_leaf': 38, 'l2_leaf_reg': 20, 'random_strength': 0.22281863864145718}. Best is trial 0 with value: 0.9290890318212593.\u001b[0m\n"
     ]
    },
    {
     "name": "stdout",
     "output_type": "stream",
     "text": [
      "bestTest = 0.786779661\n",
      "bestIteration = 105\n",
      "Shrink model to first 106 iterations.\n",
      "========== Fold=1 ==========\n"
     ]
    },
    {
     "name": "stderr",
     "output_type": "stream",
     "text": [
      "Default metric period is 5 because AUC is/are not implemented for GPU\n",
      "AUC is not implemented on GPU. Will use CPU for metric computation, this could significantly affect learning time\n"
     ]
    },
    {
     "name": "stdout",
     "output_type": "stream",
     "text": [
      "0:\ttest: 0.7472128\tbest: 0.7472128 (0)\ttotal: 7.42ms\tremaining: 2m 28s\n",
      "1000:\ttest: 0.8126689\tbest: 0.8130912 (993)\ttotal: 7.4s\tremaining: 2m 20s\n",
      "bestTest = 0.8185810811\n",
      "bestIteration = 1376\n",
      "Shrink model to first 1377 iterations.\n",
      "========== Fold=2 ==========\n"
     ]
    },
    {
     "name": "stderr",
     "output_type": "stream",
     "text": [
      "Default metric period is 5 because AUC is/are not implemented for GPU\n",
      "AUC is not implemented on GPU. Will use CPU for metric computation, this could significantly affect learning time\n"
     ]
    },
    {
     "name": "stdout",
     "output_type": "stream",
     "text": [
      "0:\ttest: 0.7530828\tbest: 0.7530828 (0)\ttotal: 7.56ms\tremaining: 2m 31s\n",
      "bestTest = 0.8415118243\n",
      "bestIteration = 21\n",
      "Shrink model to first 22 iterations.\n",
      "========== Fold=3 ==========\n"
     ]
    },
    {
     "name": "stderr",
     "output_type": "stream",
     "text": [
      "Default metric period is 5 because AUC is/are not implemented for GPU\n",
      "AUC is not implemented on GPU. Will use CPU for metric computation, this could significantly affect learning time\n"
     ]
    },
    {
     "name": "stdout",
     "output_type": "stream",
     "text": [
      "0:\ttest: 0.7758051\tbest: 0.7758051 (0)\ttotal: 8.3ms\tremaining: 2m 46s\n",
      "bestTest = 0.8713559322\n",
      "bestIteration = 720\n",
      "Shrink model to first 721 iterations.\n",
      "========== Fold=4 ==========\n"
     ]
    },
    {
     "name": "stderr",
     "output_type": "stream",
     "text": [
      "Default metric period is 5 because AUC is/are not implemented for GPU\n",
      "AUC is not implemented on GPU. Will use CPU for metric computation, this could significantly affect learning time\n"
     ]
    },
    {
     "name": "stdout",
     "output_type": "stream",
     "text": [
      "0:\ttest: 0.7698729\tbest: 0.7698729 (0)\ttotal: 8.56ms\tremaining: 2m 51s\n",
      "1000:\ttest: 0.8473729\tbest: 0.8478814 (980)\ttotal: 7.31s\tremaining: 2m 18s\n",
      "bestTest = 0.8506779661\n",
      "bestIteration = 1184\n",
      "Shrink model to first 1185 iterations.\n",
      "========== Fold=5 ==========\n"
     ]
    },
    {
     "name": "stderr",
     "output_type": "stream",
     "text": [
      "Default metric period is 5 because AUC is/are not implemented for GPU\n",
      "AUC is not implemented on GPU. Will use CPU for metric computation, this could significantly affect learning time\n"
     ]
    },
    {
     "name": "stdout",
     "output_type": "stream",
     "text": [
      "0:\ttest: 0.7379237\tbest: 0.7379237 (0)\ttotal: 8.4ms\tremaining: 2m 47s\n"
     ]
    },
    {
     "name": "stderr",
     "output_type": "stream",
     "text": [
      "\u001b[32m[I 2023-01-17 20:44:44,092]\u001b[0m Trial 2 finished with value: 0.8693649289099525 and parameters: {'depth': 3, 'learning_rate': 0.008414189957077232, 'subsample': 0.6640258746092165, 'min_data_in_leaf': 48, 'l2_leaf_reg': 13, 'random_strength': 0.8864996394407495}. Best is trial 0 with value: 0.9290890318212593.\u001b[0m\n"
     ]
    },
    {
     "name": "stdout",
     "output_type": "stream",
     "text": [
      "bestTest = 0.7801271186\n",
      "bestIteration = 52\n",
      "Shrink model to first 53 iterations.\n"
     ]
    }
   ],
   "source": [
    "study = optuna.create_study(direction='maximize', sampler=TPESampler(), study_name=objective)\n",
    "study.optimize(objective_v2, timeout=train_time)"
   ]
  },
  {
   "cell_type": "code",
   "execution_count": 11,
   "id": "e8c311ac-1682-4fef-b5cb-738cf81f8e89",
   "metadata": {
    "tags": []
   },
   "outputs": [],
   "source": [
    "parm_grid_bytes = pickle.dumps(param_grid_history)\n",
    "with open(f\"rendered_data/{objective}_bytes.hex\", \"wb\") as binary_file:\n",
    "    binary_file.write(parm_grid_bytes)"
   ]
  },
  {
   "cell_type": "code",
   "execution_count": 12,
   "id": "1c611044-b83b-42bc-8ea0-f34bf0ec3782",
   "metadata": {},
   "outputs": [
    {
     "name": "stderr",
     "output_type": "stream",
     "text": [
      "  0%|                                                                                            | 0/1 [00:00<?, ?it/s]"
     ]
    },
    {
     "name": "stdout",
     "output_type": "stream",
     "text": [
      "========== FINAL TRAINING Fold=1 ==========\n"
     ]
    },
    {
     "name": "stderr",
     "output_type": "stream",
     "text": [
      "Default metric period is 5 because AUC is/are not implemented for GPU\n",
      "AUC is not implemented on GPU. Will use CPU for metric computation, this could significantly affect learning time\n"
     ]
    },
    {
     "name": "stdout",
     "output_type": "stream",
     "text": [
      "0:\ttest: 0.7013514\tbest: 0.7013514 (0)\ttotal: 12ms\tremaining: 3m 59s\n",
      "bestTest = 0.8365709459\n",
      "bestIteration = 376\n",
      "Shrink model to first 377 iterations.\n",
      "========== FINAL TRAINING Fold=2 ==========\n"
     ]
    },
    {
     "name": "stderr",
     "output_type": "stream",
     "text": [
      "Default metric period is 5 because AUC is/are not implemented for GPU\n",
      "AUC is not implemented on GPU. Will use CPU for metric computation, this could significantly affect learning time\n"
     ]
    },
    {
     "name": "stdout",
     "output_type": "stream",
     "text": [
      "0:\ttest: 0.7797297\tbest: 0.7797297 (0)\ttotal: 9.55ms\tremaining: 3m 11s\n",
      "bestTest = 0.8321368243\n",
      "bestIteration = 12\n",
      "Shrink model to first 13 iterations.\n",
      "========== FINAL TRAINING Fold=3 ==========\n"
     ]
    },
    {
     "name": "stderr",
     "output_type": "stream",
     "text": [
      "Default metric period is 5 because AUC is/are not implemented for GPU\n",
      "AUC is not implemented on GPU. Will use CPU for metric computation, this could significantly affect learning time\n"
     ]
    },
    {
     "name": "stdout",
     "output_type": "stream",
     "text": [
      "0:\ttest: 0.7773729\tbest: 0.7773729 (0)\ttotal: 11.1ms\tremaining: 3m 41s\n",
      "bestTest = 0.856440678\n",
      "bestIteration = 191\n",
      "Shrink model to first 192 iterations.\n",
      "========== FINAL TRAINING Fold=4 ==========\n"
     ]
    },
    {
     "name": "stderr",
     "output_type": "stream",
     "text": [
      "Default metric period is 5 because AUC is/are not implemented for GPU\n",
      "AUC is not implemented on GPU. Will use CPU for metric computation, this could significantly affect learning time\n"
     ]
    },
    {
     "name": "stdout",
     "output_type": "stream",
     "text": [
      "0:\ttest: 0.7755932\tbest: 0.7755932 (0)\ttotal: 9.73ms\tremaining: 3m 14s\n",
      "bestTest = 0.851440678\n",
      "bestIteration = 143\n",
      "Shrink model to first 144 iterations.\n",
      "========== FINAL TRAINING Fold=5 ==========\n"
     ]
    },
    {
     "name": "stderr",
     "output_type": "stream",
     "text": [
      "Default metric period is 5 because AUC is/are not implemented for GPU\n",
      "AUC is not implemented on GPU. Will use CPU for metric computation, this could significantly affect learning time\n"
     ]
    },
    {
     "name": "stdout",
     "output_type": "stream",
     "text": [
      "0:\ttest: 0.6812712\tbest: 0.6812712 (0)\ttotal: 9.96ms\tremaining: 3m 19s\n"
     ]
    },
    {
     "name": "stderr",
     "output_type": "stream",
     "text": [
      "100%|████████████████████████████████████████████████████████████████████████████████████| 1/1 [00:16<00:00, 16.68s/it]"
     ]
    },
    {
     "name": "stdout",
     "output_type": "stream",
     "text": [
      "bestTest = 0.8070338983\n",
      "bestIteration = 60\n",
      "Shrink model to first 61 iterations.\n"
     ]
    },
    {
     "name": "stderr",
     "output_type": "stream",
     "text": [
      "\n"
     ]
    }
   ],
   "source": [
    "def train(param_grid):\n",
    "    reg = render_model(param_grid)\n",
    "    skf = StratifiedKFold(n_splits=FOLDS, shuffle=True, random_state=RANDOM_STATE)\n",
    "    for fold, (train_idx, valid_idx) in enumerate(skf.split(train_df[features], train_df[target])):\n",
    "        print(10*\"=\", f\"FINAL TRAINING Fold={fold+1}\", 10*\"=\")\n",
    "        X_train, X_valid = train_df.iloc[train_idx][features], train_df.iloc[valid_idx][features]\n",
    "        y_train , y_valid = train_df[target].iloc[train_idx] , train_df[target].iloc[valid_idx] \n",
    "        reg, roc_auc = train_model(reg, X_train, y_train, X_valid, y_valid)\n",
    "    return reg\n",
    "\n",
    "percent = math.ceil(len(param_grid_history.keys()) * .1)\n",
    "top = sorted(list(param_grid_history.keys()))[-percent:]\n",
    "\n",
    "train_preds = []\n",
    "test_preds = []\n",
    "for key in tqdm(top):\n",
    "    model = train(param_grid_history[key])\n",
    "    train_preds.append(model.predict(train_df[features]))\n",
    "    test_preds.append(model.predict(test_df[features]))\n",
    "\n",
    "train_final_preds = np.stack(train_preds).mean(0)\n",
    "test_final_preds = np.stack(test_preds).mean(0)"
   ]
  },
  {
   "cell_type": "code",
   "execution_count": 13,
   "id": "31a813da-1308-4125-9c61-6516e81ebedf",
   "metadata": {},
   "outputs": [],
   "source": [
    "train_submission = pd.DataFrame(data={'id': train_df.index, target[0]: train_final_preds})\n",
    "train_submission.to_csv(fr'rendered_data/{objective}_train_submission.csv', index=False)\n",
    "\n",
    "test_submission = pd.DataFrame(data={'id': test_df.index, target[0]: test_final_preds})\n",
    "test_submission.to_csv(fr'rendered_data/{objective}_test_submission.csv', index=False)"
   ]
  },
  {
   "cell_type": "code",
   "execution_count": null,
   "id": "37c55386-36e0-47a8-9ad6-7b5e903565d8",
   "metadata": {},
   "outputs": [],
   "source": []
  }
 ],
 "metadata": {
  "kernelspec": {
   "display_name": "Python 3 (ipykernel)",
   "language": "python",
   "name": "python3"
  },
  "language_info": {
   "codemirror_mode": {
    "name": "ipython",
    "version": 3
   },
   "file_extension": ".py",
   "mimetype": "text/x-python",
   "name": "python",
   "nbconvert_exporter": "python",
   "pygments_lexer": "ipython3",
   "version": "3.10.9"
  }
 },
 "nbformat": 4,
 "nbformat_minor": 5
}
