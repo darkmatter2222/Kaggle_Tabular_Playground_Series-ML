{
 "cells": [
  {
   "cell_type": "code",
   "execution_count": 14,
   "id": "a2f17706-7a10-4858-a439-6faad1b78de4",
   "metadata": {},
   "outputs": [],
   "source": [
    "import pickle\n",
    "import numpy as np\n",
    "from tqdm import tqdm\n",
    "import tqdm"
   ]
  },
  {
   "cell_type": "code",
   "execution_count": 15,
   "id": "0c53ef51-1bf4-4723-b065-e5ad50ea4e23",
   "metadata": {},
   "outputs": [
    {
     "data": {
      "text/plain": [
       "100"
      ]
     },
     "execution_count": 15,
     "metadata": {},
     "output_type": "execute_result"
    }
   ],
   "source": [
    "10**2"
   ]
  },
  {
   "cell_type": "code",
   "execution_count": 36,
   "id": "2980bc0d-9480-40e7-99a2-d84f4f71c25a",
   "metadata": {},
   "outputs": [
    {
     "data": {
      "text/plain": [
       "64"
      ]
     },
     "execution_count": 36,
     "metadata": {},
     "output_type": "execute_result"
    }
   ],
   "source": [
    "combos = []\n",
    "\n",
    "depth = 1\n",
    "reach = 10**depth\n",
    "normalize = 10**-depth\n",
    "\n",
    "\n",
    "for x in range(reach):\n",
    "    for y in range(reach):\n",
    "        if x + y <= reach:\n",
    "            z = reach - x - y\n",
    "            combos.append([x, y, z])\n",
    "combos = np.array(combos) * ([[normalize]*3]*len(combos))\n",
    "len(combos)"
   ]
  },
  {
   "cell_type": "code",
   "execution_count": 37,
   "id": "12d53245-23df-4c5f-8b2a-bc782f9789db",
   "metadata": {},
   "outputs": [],
   "source": [
    "with open(f\"feature_{3}_depth_{1}.hex\", \"wb\") as fp:   #Pickling\n",
    "    pickle.dump(combos, fp)"
   ]
  },
  {
   "cell_type": "code",
   "execution_count": 38,
   "id": "6ce0bdc8-7d4d-40d9-ad75-570e1fbbba15",
   "metadata": {},
   "outputs": [],
   "source": [
    "with open(f\"feature_{3}_depth_{1}.hex\", \"rb\") as input_file:\n",
    "    e = pickle.load(input_file)"
   ]
  },
  {
   "cell_type": "code",
   "execution_count": 39,
   "id": "07be6c00-586a-4598-998f-138c50598cd8",
   "metadata": {},
   "outputs": [
    {
     "data": {
      "text/plain": [
       "array([0.6, 0.4, 0. ])"
      ]
     },
     "execution_count": 39,
     "metadata": {},
     "output_type": "execute_result"
    }
   ],
   "source": [
    "e[-10]"
   ]
  },
  {
   "cell_type": "code",
   "execution_count": null,
   "id": "4ec5b3ed-e230-471e-8c62-55f8a22234e9",
   "metadata": {},
   "outputs": [],
   "source": []
  }
 ],
 "metadata": {
  "kernelspec": {
   "display_name": "Python 3 (ipykernel)",
   "language": "python",
   "name": "python3"
  },
  "language_info": {
   "codemirror_mode": {
    "name": "ipython",
    "version": 3
   },
   "file_extension": ".py",
   "mimetype": "text/x-python",
   "name": "python",
   "nbconvert_exporter": "python",
   "pygments_lexer": "ipython3",
   "version": "3.10.9"
  }
 },
 "nbformat": 4,
 "nbformat_minor": 5
}
