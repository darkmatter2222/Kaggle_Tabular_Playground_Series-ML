{
 "cells": [
  {
   "cell_type": "code",
   "execution_count": 1,
   "id": "funky-balance",
   "metadata": {},
   "outputs": [],
   "source": [
    "import numpy as np\n",
    "import pandas as pd \n",
    "import matplotlib.pyplot as plt"
   ]
  },
  {
   "cell_type": "code",
   "execution_count": null,
   "id": "paperback-theme",
   "metadata": {},
   "outputs": [],
   "source": [
    "\n",
    "dfk = pd.DataFrame({ \n",
    "    'Kernel ID': ['A', 'B', 'C', 'D', 'E', 'F', 'G', 'H', 'I', 'J', 'K', 'L'],  \n",
    "    'Score':     [ 0.69864 , 0.69846 , 0.69836 , 0.69824 , 0.69813, 0.69795, 0.69751, 0.69749, 0.69747, 0.69735, 0.69731, 0.69701],   \n",
    "    'File Path': ['../input/aa69864/AA69864.csv', '../input/bb69846/BB69846.csv', '../input/cc69836/CC69836.csv', '../input/a69824/A69824.csv', '../input/c69813/C69813.csv', '../input/ff69795/FF69795.csv', '../input/gg69751/GG69751.csv' , '../input/g69749/G69749.csv', '../input/h69747/H69747.csv', '../input/i69735/I69735.csv', '../input/j69731/J69731.csv', '../input/l69701/L69701.csv']     \n",
    "})    \n",
    "    \n",
    "dfk  "
   ]
  }
 ],
 "metadata": {
  "kernelspec": {
   "display_name": "Python 3",
   "language": "python",
   "name": "python3"
  },
  "language_info": {
   "codemirror_mode": {
    "name": "ipython",
    "version": 3
   },
   "file_extension": ".py",
   "mimetype": "text/x-python",
   "name": "python",
   "nbconvert_exporter": "python",
   "pygments_lexer": "ipython3",
   "version": "3.7.5"
  }
 },
 "nbformat": 4,
 "nbformat_minor": 5
}
