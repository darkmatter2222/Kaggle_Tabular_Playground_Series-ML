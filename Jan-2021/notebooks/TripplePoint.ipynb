{
 "cells": [
  {
   "cell_type": "code",
   "execution_count": 5,
   "id": "linear-drink",
   "metadata": {},
   "outputs": [],
   "source": [
    "import pandas as pd\n",
    "from sklearn import preprocessing\n",
    "import sklearn\n",
    "import numpy as np\n",
    "from scipy import stats\n",
    "import matplotlib.pyplot as plt\n",
    "import seaborn as sns\n",
    "import math\n",
    "import sklearn\n",
    "from sklearn.metrics import mean_squared_error"
   ]
  },
  {
   "cell_type": "code",
   "execution_count": 8,
   "id": "fifty-estonia",
   "metadata": {},
   "outputs": [],
   "source": [
    "p_best = pd.read_csv('..\\\\kaggle_data\\\\best-69757.csv')\n",
    "p_med = pd.read_csv('..\\\\kaggle_data\\\\med-71990.csv')\n",
    "p_worst = pd.read_csv('..\\\\kaggle_data\\\\worst-78828.csv')\n",
    "p_sub = pd.read_csv('..\\\\kaggle_data\\\\best.csv')"
   ]
  },
  {
   "cell_type": "code",
   "execution_count": 12,
   "id": "musical-asset",
   "metadata": {},
   "outputs": [
    {
     "name": "stdout",
     "output_type": "stream",
     "text": [
      "Distance from Best to Med: 0.1200457286659917\n",
      "Distance from Med to Worst: 0.2334432428620269\n",
      "Distance from Sub to Best: 0.00923244254209557\n",
      "Distance from Sub to Med: 0.06045040018844048\n",
      "Distance from Sub to Worst: 0.1263955020043323\n"
     ]
    },
    {
     "data": {
      "image/png": "[encoded data removed]",
      "text/plain": [
       "<Figure size 432x288 with 1 Axes>"
      ]
     },
     "metadata": {
      "needs_background": "light"
     },
     "output_type": "display_data"
    }
   ],
   "source": [
    "best = 0.69757\n",
    "med = 0.71990\n",
    "worst = 0.78828\n",
    "\n",
    "plt.plot(best,5,'ro', color='Blue') \n",
    "plt.plot(med,5,'ro', color='Blue') \n",
    "plt.plot(worst,5,'ro', color='Blue') \n",
    "\n",
    "\n",
    "\n",
    "mse_best_to_med = mean_squared_error(p_best, p_med)\n",
    "rmse_best_to_med = math.sqrt(mse_best_to_med)\n",
    "\n",
    "best_to_med = rmse_best_to_med\n",
    "\n",
    "mse_med_to_worst = mean_squared_error(p_med, p_worst)\n",
    "rmse_med_to_worst = math.sqrt(mse_med_to_worst)\n",
    "\n",
    "med_to_worst = rmse_med_to_worst \n",
    "\n",
    "print(f\"Distance from Best to Med: {best_to_med}\")\n",
    "print(f\"Distance from Med to Worst: {med_to_worst}\")\n",
    "\n",
    "\n",
    "\n",
    "mse_sub_to_best = mean_squared_error(p_sub, p_best)\n",
    "rmse_sub_to_best = math.sqrt(mse_sub_to_best)/2\n",
    "plt.plot(best-rmse_sub_to_best,5,'ro', color='Red') \n",
    "plt.plot(best+rmse_sub_to_best,5,'ro', color='Red') \n",
    "\n",
    "\n",
    "mse_sub_to_med = mean_squared_error(p_sub, p_med)\n",
    "rmse_sub_to_med = math.sqrt(mse_sub_to_med)/2\n",
    "plt.plot(med-rmse_sub_to_med,5,'ro', color='orange') \n",
    "plt.plot(med+rmse_sub_to_med,5,'ro', color='orange') \n",
    "\n",
    "mse_sub_to_worst = mean_squared_error(p_sub, p_worst)\n",
    "rmse_sub_to_worst = math.sqrt(mse_sub_to_worst)/2\n",
    "plt.plot(worst-rmse_sub_to_worst,5,'ro', color='green') \n",
    "plt.plot(worst+rmse_sub_to_worst,5,'ro', color='green') \n",
    "\n",
    "print(f\"Distance from Sub to Best: {rmse_sub_to_best}\")\n",
    "print(f\"Distance from Sub to Med: {rmse_sub_to_med}\")\n",
    "print(f\"Distance from Sub to Worst: {rmse_sub_to_worst}\")\n",
    "\n",
    "plt.show()\n",
    "\n",
    "\n",
    "p_best = pd.read_csv('..\\\\kaggle_data\\\\best-69757.csv')\n",
    "p_med = pd.read_csv('..\\\\kaggle_data\\\\med-71990.csv')\n",
    "p_worst = pd.read_csv('..\\\\kaggle_data\\\\worst-78828.csv')\n",
    "p_sub = pd.read_csv('..\\\\kaggle_data\\\\best.csv')"
   ]
  },
  {
   "cell_type": "code",
   "execution_count": 30,
   "id": "settled-wales",
   "metadata": {},
   "outputs": [
    {
     "data": {
      "text/plain": [
       "<function matplotlib.pyplot.show(close=None, block=None)>"
      ]
     },
     "execution_count": 30,
     "metadata": {},
     "output_type": "execute_result"
    },
    {
     "data": {
      "image/png": "[encoded data removed]",
      "text/plain": [
       "<Figure size 432x288 with 1 Axes>"
      ]
     },
     "metadata": {
      "needs_background": "light"
     },
     "output_type": "display_data"
    }
   ],
   "source": [
    "p_best = pd.read_csv('..\\\\kaggle_data\\\\best-69757.csv')\n",
    "p_med = pd.read_csv('..\\\\kaggle_data\\\\med-71990.csv')\n",
    "p_worst = pd.read_csv('..\\\\kaggle_data\\\\worst-78828.csv')\n",
    "p_sub = pd.read_csv('..\\\\kaggle_data\\\\best.csv')\n",
    "\n",
    "best = 0.69757\n",
    "med = 0.71990\n",
    "worst = 0.78828\n",
    "\n",
    "mse_sub_to_best = mean_squared_error(p_sub, p_best)\n",
    "rmse_sub_to_best = math.sqrt(mse_sub_to_best)\n",
    "\n",
    "mse_sub_to_med = mean_squared_error(p_sub, p_med)\n",
    "rmse_sub_to_med = math.sqrt(mse_sub_to_med)\n",
    "\n",
    "mse_sub_to_worst = mean_squared_error(p_sub, p_worst)\n",
    "rmse_sub_to_worst = math.sqrt(mse_sub_to_worst)\n",
    "\n",
    "fact_plot = [[best,best],[med,med],[worst,worst]]\n",
    "delta_plot = [[rmse_sub_to_best,rmse_sub_to_best],[rmse_sub_to_med,rmse_sub_to_med],[rmse_sub_to_worst,rmse_sub_to_worst]]\n",
    "plt.plot(fact_plot,linestyle='--', marker='o', color='b') \n",
    "plt.plot(delta_plot,linestyle='--', marker='o', color='r') \n",
    "\n",
    "plt.show"
   ]
  },
  {
   "cell_type": "code",
   "execution_count": 1,
   "id": "classical-welsh",
   "metadata": {},
   "outputs": [],
   "source": [
    "def iswinner(subject_df, plot_enalbed=False):\n",
    "    best_val = 0.69751\n",
    "    best = pd.read_csv(f'..\\\\kaggle_data\\\\{best_val}.csv')\n",
    "    med_val = 0.70008\n",
    "    med = pd.read_csv(f'..\\\\kaggle_data\\\\{med_val}.csv')\n",
    "    medtwo_val = 0.72286\n",
    "    medtwo = pd.read_csv(f'..\\\\kaggle_data\\\\{medtwo_val}.csv')\n",
    "    medthree_val = 0.73846\n",
    "    medthree = pd.read_csv(f'..\\\\kaggle_data\\\\{medthree_val}.csv')\n",
    "    worst_val = 0.89798\n",
    "    worst = pd.read_csv(f'..\\\\kaggle_data\\\\{worst_val}.csv')\n",
    "    \n",
    "    mse_sub_to_best = mean_squared_error(subject_df, best)\n",
    "    rmse_sub_to_best = math.sqrt(mse_sub_to_best)\n",
    "\n",
    "    mse_sub_to_med = mean_squared_error(subject_df, med)\n",
    "    rmse_sub_to_med = math.sqrt(mse_sub_to_med)\n",
    "    \n",
    "    mse_sub_to_medtwo = mean_squared_error(subject_df, medtwo)\n",
    "    rmse_sub_to_medtwo = math.sqrt(mse_sub_to_medtwo)\n",
    "    \n",
    "    mse_sub_to_medthree = mean_squared_error(subject_df, medthree)\n",
    "    rmse_sub_to_medthree = math.sqrt(mse_sub_to_medthree)\n",
    "\n",
    "    mse_sub_to_worst = mean_squared_error(subject_df, worst)\n",
    "    rmse_sub_to_worst = math.sqrt(mse_sub_to_worst)\n",
    "    \n",
    "    distance_subbest_to_best = best_val - rmse_sub_to_best\n",
    "    distance_submed_to_med = med_val - rmse_sub_to_med\n",
    "    distance_submedtwo_to_medtwo = medtwo_val - rmse_sub_to_medtwo\n",
    "    distance_submedthree_to_medthree = medthree_val - rmse_sub_to_medthree\n",
    "    distance_subworst_to_worst = worst_val - rmse_sub_to_worst\n",
    "    \n",
    "    if plot_enalbed:\n",
    "        fact_plot = [[best_val,best_val],[med_val,med_val],[medtwo_val,medtwo_val],[medthree_val,medthree_val],[worst_val,worst_val]]\n",
    "        delta_plot = [[rmse_sub_to_best,rmse_sub_to_best],[rmse_sub_to_med,rmse_sub_to_med],[rmse_sub_to_medtwo,rmse_sub_to_medtwo],[rmse_sub_to_medthree,rmse_sub_to_medthree],[rmse_sub_to_worst,rmse_sub_to_worst]]\n",
    "        plt.plot(fact_plot,linestyle='--', marker='o', color='b') \n",
    "        plt.plot(delta_plot,linestyle='--', marker='o', color='r')\n",
    "        \n",
    "        print(f\"Distance, Sub_Best to Known_Best {distance_subbest_to_best}\")\n",
    "        print(f\"Distance, Sub_Med to Known_Med {distance_submed_to_med}\")\n",
    "        print(f\"Distance, Sub_Med to Known_Med {distance_submedtwo_to_medtwo}\")\n",
    "        print(f\"Distance, Sub_Med to Known_Med {distance_submedthree_to_medthree}\")\n",
    "        print(f\"Distance, Sub_Worst to Known_Worst {distance_subworst_to_worst}\")\n",
    "    \n",
    "    if (distance_subbest_to_best > (distance_submed_to_med)) and (distance_submed_to_med > distance_submedtwo_to_medtwo) and (distance_submedtwo_to_medtwo > distance_submedthree_to_medthree) and (distance_submedthree_to_medthree > distance_subworst_to_worst):\n",
    "        return True, rmse_sub_to_best\n",
    "    else:\n",
    "        return False, rmse_sub_to_best"
   ]
  },
  {
   "cell_type": "code",
   "execution_count": 84,
   "id": "earlier-planning",
   "metadata": {},
   "outputs": [
    {
     "name": "stdout",
     "output_type": "stream",
     "text": [
      "Distance, Sub_Best to Known_Best 0.680443075408654\n",
      "Distance, Sub_Med to Known_Med 0.6548533616901813\n",
      "Distance, Sub_Med to Known_Med 0.5878153179721579\n",
      "Distance, Sub_Med to Known_Med 0.5706720026333902\n",
      "Distance, Sub_Worst to Known_Worst 0.49026396441475417\n"
     ]
    },
    {
     "data": {
      "text/plain": [
       "True"
      ]
     },
     "execution_count": 84,
     "metadata": {},
     "output_type": "execute_result"
    },
    {
     "data": {
      "image/png": "[encoded data removed]",
      "text/plain": [
       "<Figure size 432x288 with 1 Axes>"
      ]
     },
     "metadata": {
      "needs_background": "light"
     },
     "output_type": "display_data"
    }
   ],
   "source": [
    "sub = pd.read_csv(f'..\\\\kaggle_data\\\\0.69721.csv')\n",
    "iswinner(sub, True)"
   ]
  },
  {
   "cell_type": "code",
   "execution_count": 32,
   "id": "built-negative",
   "metadata": {},
   "outputs": [],
   "source": [
    "def iswinner2(subject_df, plot_enalbed=False):\n",
    "    submissions = [\n",
    "        {'score':0.69751},\n",
    "        {'score':0.69784},\n",
    "        {'score':0.69818},\n",
    "        {'score':0.69942},\n",
    "        {'score':0.71503},\n",
    "        {'score':0.72286},\n",
    "        {'score':0.73846},\n",
    "        {'score':0.75053},\n",
    "        {'score':0.89798}]\n",
    "    \n",
    "    fact_plot = []\n",
    "    delta_plot = [] \n",
    "    \n",
    "    for frame in submissions:\n",
    "        frame['data'] = pd.read_csv(f\"..\\\\kaggle_data\\\\{frame['score']}.csv\")\n",
    "        mse = mean_squared_error(subject_df, frame['data'])\n",
    "        frame['subject_to_submission_rmse'] = math.sqrt(mse)\n",
    "        frame['distance_to_submission_score'] = frame['score'] - frame['subject_to_submission_rmse'] \n",
    "        fact_plot.append([frame['score'],frame['score']])\n",
    "        delta_plot.append([frame['subject_to_submission_rmse'], frame['subject_to_submission_rmse']])\n",
    "\n",
    "    if plot_enalbed:\n",
    "        plt.plot(fact_plot,linestyle='--', marker='o', color='b') \n",
    "        plt.plot(delta_plot,linestyle='--', marker='o', color='r')\n",
    "        \n",
    "    all_good = True\n",
    "    for index in range(len(submissions)):\n",
    "        if index == len(submissions) - 1:\n",
    "            break\n",
    "        if not submissions[index]['distance_to_submission_score'] > submissions[index + 1]['distance_to_submission_score']:\n",
    "            all_good = False\n",
    "            \n",
    "    return all_good, submissions[0]['subject_to_submission_rmse']\n",
    "            \n",
    "\n",
    "\n",
    "        "
   ]
  },
  {
   "cell_type": "code",
   "execution_count": 33,
   "id": "proper-bench",
   "metadata": {},
   "outputs": [
    {
     "data": {
      "text/plain": [
       "(True, 0.01706692459134599)"
      ]
     },
     "execution_count": 33,
     "metadata": {},
     "output_type": "execute_result"
    },
    {
     "data": {
      "image/png": "[encoded data removed]",
      "text/plain": [
       "<Figure size 432x288 with 1 Axes>"
      ]
     },
     "metadata": {
      "needs_background": "light"
     },
     "output_type": "display_data"
    }
   ],
   "source": [
    "sub = pd.read_csv(f'..\\\\kaggle_data\\\\0.69721.csv')\n",
    "iswinner2(sub, True)"
   ]
  },
  {
   "cell_type": "code",
   "execution_count": null,
   "id": "answering-masters",
   "metadata": {},
   "outputs": [],
   "source": []
  }
 ],
 "metadata": {
  "kernelspec": {
   "display_name": "Python 3",
   "language": "python",
   "name": "python3"
  },
  "language_info": {
   "codemirror_mode": {
    "name": "ipython",
    "version": 3
   },
   "file_extension": ".py",
   "mimetype": "text/x-python",
   "name": "python",
   "nbconvert_exporter": "python",
   "pygments_lexer": "ipython3",
   "version": "3.7.5"
  }
 },
 "nbformat": 4,
 "nbformat_minor": 5
}
