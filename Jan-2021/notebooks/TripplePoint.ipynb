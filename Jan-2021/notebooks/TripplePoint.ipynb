{
 "cells": [
  {
   "cell_type": "code",
   "execution_count": 1,
   "id": "practical-floating",
   "metadata": {},
   "outputs": [],
   "source": [
    "import pandas as pd\n",
    "from sklearn import preprocessing\n",
    "import sklearn\n",
    "import numpy as np\n",
    "from scipy import stats\n",
    "import matplotlib.pyplot as plt\n",
    "import seaborn as sns\n",
    "import math\n",
    "import sklearn\n",
    "from sklearn.metrics import mean_squared_error"
   ]
  },
  {
   "cell_type": "code",
   "execution_count": 8,
   "id": "wicked-newsletter",
   "metadata": {},
   "outputs": [],
   "source": [
    "p_best = pd.read_csv('..\\\\kaggle_data\\\\best-69757.csv')\n",
    "p_med = pd.read_csv('..\\\\kaggle_data\\\\med-71990.csv')\n",
    "p_worst = pd.read_csv('..\\\\kaggle_data\\\\worst-78828.csv')\n",
    "p_sub = pd.read_csv('..\\\\kaggle_data\\\\best.csv')"
   ]
  },
  {
   "cell_type": "code",
   "execution_count": 12,
   "id": "coated-registrar",
   "metadata": {},
   "outputs": [
    {
     "name": "stdout",
     "output_type": "stream",
     "text": [
      "Distance from Best to Med: 0.1200457286659917\n",
      "Distance from Med to Worst: 0.2334432428620269\n",
      "Distance from Sub to Best: 0.00923244254209557\n",
      "Distance from Sub to Med: 0.06045040018844048\n",
      "Distance from Sub to Worst: 0.1263955020043323\n"
     ]
    },
    {
     "data": {
      "image/png": "[encoded data removed]",
      "text/plain": [
       "<Figure size 432x288 with 1 Axes>"
      ]
     },
     "metadata": {
      "needs_background": "light"
     },
     "output_type": "display_data"
    }
   ],
   "source": [
    "best = 0.69757\n",
    "med = 0.71990\n",
    "worst = 0.78828\n",
    "\n",
    "plt.plot(best,5,'ro', color='Blue') \n",
    "plt.plot(med,5,'ro', color='Blue') \n",
    "plt.plot(worst,5,'ro', color='Blue') \n",
    "\n",
    "\n",
    "\n",
    "mse_best_to_med = mean_squared_error(p_best, p_med)\n",
    "rmse_best_to_med = math.sqrt(mse_best_to_med)\n",
    "\n",
    "best_to_med = rmse_best_to_med\n",
    "\n",
    "mse_med_to_worst = mean_squared_error(p_med, p_worst)\n",
    "rmse_med_to_worst = math.sqrt(mse_med_to_worst)\n",
    "\n",
    "med_to_worst = rmse_med_to_worst \n",
    "\n",
    "print(f\"Distance from Best to Med: {best_to_med}\")\n",
    "print(f\"Distance from Med to Worst: {med_to_worst}\")\n",
    "\n",
    "\n",
    "\n",
    "mse_sub_to_best = mean_squared_error(p_sub, p_best)\n",
    "rmse_sub_to_best = math.sqrt(mse_sub_to_best)/2\n",
    "plt.plot(best-rmse_sub_to_best,5,'ro', color='Red') \n",
    "plt.plot(best+rmse_sub_to_best,5,'ro', color='Red') \n",
    "\n",
    "\n",
    "mse_sub_to_med = mean_squared_error(p_sub, p_med)\n",
    "rmse_sub_to_med = math.sqrt(mse_sub_to_med)/2\n",
    "plt.plot(med-rmse_sub_to_med,5,'ro', color='orange') \n",
    "plt.plot(med+rmse_sub_to_med,5,'ro', color='orange') \n",
    "\n",
    "mse_sub_to_worst = mean_squared_error(p_sub, p_worst)\n",
    "rmse_sub_to_worst = math.sqrt(mse_sub_to_worst)/2\n",
    "plt.plot(worst-rmse_sub_to_worst,5,'ro', color='green') \n",
    "plt.plot(worst+rmse_sub_to_worst,5,'ro', color='green') \n",
    "\n",
    "print(f\"Distance from Sub to Best: {rmse_sub_to_best}\")\n",
    "print(f\"Distance from Sub to Med: {rmse_sub_to_med}\")\n",
    "print(f\"Distance from Sub to Worst: {rmse_sub_to_worst}\")\n",
    "\n",
    "plt.show()\n",
    "\n",
    "\n",
    "p_best = pd.read_csv('..\\\\kaggle_data\\\\best-69757.csv')\n",
    "p_med = pd.read_csv('..\\\\kaggle_data\\\\med-71990.csv')\n",
    "p_worst = pd.read_csv('..\\\\kaggle_data\\\\worst-78828.csv')\n",
    "p_sub = pd.read_csv('..\\\\kaggle_data\\\\best.csv')"
   ]
  },
  {
   "cell_type": "code",
   "execution_count": 30,
   "id": "complicated-hotel",
   "metadata": {},
   "outputs": [
    {
     "data": {
      "text/plain": [
       "<function matplotlib.pyplot.show(close=None, block=None)>"
      ]
     },
     "execution_count": 30,
     "metadata": {},
     "output_type": "execute_result"
    },
    {
     "data": {
      "image/png": "[encoded data removed]",
      "text/plain": [
       "<Figure size 432x288 with 1 Axes>"
      ]
     },
     "metadata": {
      "needs_background": "light"
     },
     "output_type": "display_data"
    }
   ],
   "source": [
    "p_best = pd.read_csv('..\\\\kaggle_data\\\\best-69757.csv')\n",
    "p_med = pd.read_csv('..\\\\kaggle_data\\\\med-71990.csv')\n",
    "p_worst = pd.read_csv('..\\\\kaggle_data\\\\worst-78828.csv')\n",
    "p_sub = pd.read_csv('..\\\\kaggle_data\\\\best.csv')\n",
    "\n",
    "best = 0.69757\n",
    "med = 0.71990\n",
    "worst = 0.78828\n",
    "\n",
    "mse_sub_to_best = mean_squared_error(p_sub, p_best)\n",
    "rmse_sub_to_best = math.sqrt(mse_sub_to_best)\n",
    "\n",
    "mse_sub_to_med = mean_squared_error(p_sub, p_med)\n",
    "rmse_sub_to_med = math.sqrt(mse_sub_to_med)\n",
    "\n",
    "mse_sub_to_worst = mean_squared_error(p_sub, p_worst)\n",
    "rmse_sub_to_worst = math.sqrt(mse_sub_to_worst)\n",
    "\n",
    "fact_plot = [[best,best],[med,med],[worst,worst]]\n",
    "delta_plot = [[rmse_sub_to_best,rmse_sub_to_best],[rmse_sub_to_med,rmse_sub_to_med],[rmse_sub_to_worst,rmse_sub_to_worst]]\n",
    "plt.plot(fact_plot,linestyle='--', marker='o', color='b') \n",
    "plt.plot(delta_plot,linestyle='--', marker='o', color='r') \n",
    "\n",
    "plt.show"
   ]
  },
  {
   "cell_type": "code",
   "execution_count": 72,
   "id": "adult-barrier",
   "metadata": {},
   "outputs": [],
   "source": [
    "def iswinner(subject_df, plot_enalbed=False):\n",
    "    best_val = 0.69751\n",
    "    best = pd.read_csv(f'..\\\\kaggle_data\\\\{best_val}.csv')\n",
    "    med_val = 0.70008\n",
    "    med = pd.read_csv(f'..\\\\kaggle_data\\\\{med_val}.csv')\n",
    "    worst_val = 0.72286\n",
    "    worst = pd.read_csv(f'..\\\\kaggle_data\\\\{worst_val}.csv')\n",
    "    \n",
    "    mse_sub_to_best = mean_squared_error(subject_df, best)\n",
    "    rmse_sub_to_best = math.sqrt(mse_sub_to_best)\n",
    "\n",
    "    mse_sub_to_med = mean_squared_error(subject_df, med)\n",
    "    rmse_sub_to_med = math.sqrt(mse_sub_to_med)\n",
    "\n",
    "    mse_sub_to_worst = mean_squared_error(subject_df, worst)\n",
    "    rmse_sub_to_worst = math.sqrt(mse_sub_to_worst)\n",
    "    \n",
    "    distance_subbest_to_best = best_val - rmse_sub_to_best\n",
    "    distance_submed_to_med = med_val - rmse_sub_to_med\n",
    "    distance_subworst_to_worst = worst_val - rmse_sub_to_worst\n",
    "    \n",
    "    if plot_enalbed:\n",
    "        fact_plot = [[best_val,best_val],[med_val,med_val],[worst_val,worst_val]]\n",
    "        delta_plot = [[rmse_sub_to_best,rmse_sub_to_best],[rmse_sub_to_med,rmse_sub_to_med],[rmse_sub_to_worst,rmse_sub_to_worst]]\n",
    "        plt.plot(fact_plot,linestyle='--', marker='o', color='b') \n",
    "        plt.plot(delta_plot,linestyle='--', marker='o', color='r')\n",
    "        \n",
    "        print(f\"Distance, Sub_Best to Known_Best {distance_subbest_to_best}\")\n",
    "        print(f\"Distance, Sub_Med to Known_Med {distance_submed_to_med}\")\n",
    "        print(f\"Distance, Sub_Worst to Known_Worst {distance_subworst_to_worst}\")\n",
    "    \n",
    "    if (distance_subbest_to_best > (distance_submed_to_med * 2)) and (distance_submed_to_med > distance_subworst_to_worst):\n",
    "        return True\n",
    "    else:\n",
    "        return False"
   ]
  },
  {
   "cell_type": "code",
   "execution_count": 74,
   "id": "distributed-measure",
   "metadata": {},
   "outputs": [
    {
     "name": "stdout",
     "output_type": "stream",
     "text": [
      "Distance, Sub_Best to Known_Best 0.680443075408654\n",
      "Distance, Sub_Med to Known_Med 0.6548533616901813\n",
      "Distance, Sub_Worst to Known_Worst 0.5878153179721579\n"
     ]
    },
    {
     "data": {
      "text/plain": [
       "False"
      ]
     },
     "execution_count": 74,
     "metadata": {},
     "output_type": "execute_result"
    },
    {
     "data": {
      "image/png": "[encoded data removed]",
      "text/plain": [
       "<Figure size 432x288 with 1 Axes>"
      ]
     },
     "metadata": {
      "needs_background": "light"
     },
     "output_type": "display_data"
    }
   ],
   "source": [
    "sub = pd.read_csv(f'..\\\\kaggle_data\\\\0.69721.csv')\n",
    "iswinner(sub, True)"
   ]
  },
  {
   "cell_type": "code",
   "execution_count": null,
   "id": "solved-tumor",
   "metadata": {},
   "outputs": [],
   "source": []
  }
 ],
 "metadata": {
  "kernelspec": {
   "display_name": "Python 3",
   "language": "python",
   "name": "python3"
  },
  "language_info": {
   "codemirror_mode": {
    "name": "ipython",
    "version": 3
   },
   "file_extension": ".py",
   "mimetype": "text/x-python",
   "name": "python",
   "nbconvert_exporter": "python",
   "pygments_lexer": "ipython3",
   "version": "3.7.5"
  }
 },
 "nbformat": 4,
 "nbformat_minor": 5
}
