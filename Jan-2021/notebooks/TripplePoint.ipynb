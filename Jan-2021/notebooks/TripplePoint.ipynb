{
 "cells": [
  {
   "cell_type": "code",
   "execution_count": 1,
   "id": "growing-alert",
   "metadata": {},
   "outputs": [],
   "source": [
    "import pandas as pd\n",
    "from sklearn import preprocessing\n",
    "import sklearn\n",
    "import numpy as np\n",
    "from scipy import stats\n",
    "import matplotlib.pyplot as plt\n",
    "import seaborn as sns\n",
    "import math\n",
    "import sklearn\n",
    "from sklearn.metrics import mean_squared_error"
   ]
  },
  {
   "cell_type": "code",
   "execution_count": 8,
   "id": "viral-liver",
   "metadata": {},
   "outputs": [],
   "source": [
    "p_best = pd.read_csv('..\\\\kaggle_data\\\\best-69757.csv')\n",
    "p_med = pd.read_csv('..\\\\kaggle_data\\\\med-71990.csv')\n",
    "p_worst = pd.read_csv('..\\\\kaggle_data\\\\worst-78828.csv')\n",
    "p_sub = pd.read_csv('..\\\\kaggle_data\\\\best.csv')"
   ]
  },
  {
   "cell_type": "code",
   "execution_count": 12,
   "id": "visible-washer",
   "metadata": {},
   "outputs": [
    {
     "name": "stdout",
     "output_type": "stream",
     "text": [
      "Distance from Best to Med: 0.1200457286659917\n",
      "Distance from Med to Worst: 0.2334432428620269\n",
      "Distance from Sub to Best: 0.00923244254209557\n",
      "Distance from Sub to Med: 0.06045040018844048\n",
      "Distance from Sub to Worst: 0.1263955020043323\n"
     ]
    },
    {
     "data": {
      "image/png": "[encoded data removed]",
      "text/plain": [
       "<Figure size 432x288 with 1 Axes>"
      ]
     },
     "metadata": {
      "needs_background": "light"
     },
     "output_type": "display_data"
    }
   ],
   "source": [
    "best = 0.69757\n",
    "med = 0.71990\n",
    "worst = 0.78828\n",
    "\n",
    "plt.plot(best,5,'ro', color='Blue') \n",
    "plt.plot(med,5,'ro', color='Blue') \n",
    "plt.plot(worst,5,'ro', color='Blue') \n",
    "\n",
    "\n",
    "\n",
    "mse_best_to_med = mean_squared_error(p_best, p_med)\n",
    "rmse_best_to_med = math.sqrt(mse_best_to_med)\n",
    "\n",
    "best_to_med = rmse_best_to_med\n",
    "\n",
    "mse_med_to_worst = mean_squared_error(p_med, p_worst)\n",
    "rmse_med_to_worst = math.sqrt(mse_med_to_worst)\n",
    "\n",
    "med_to_worst = rmse_med_to_worst \n",
    "\n",
    "print(f\"Distance from Best to Med: {best_to_med}\")\n",
    "print(f\"Distance from Med to Worst: {med_to_worst}\")\n",
    "\n",
    "\n",
    "\n",
    "mse_sub_to_best = mean_squared_error(p_sub, p_best)\n",
    "rmse_sub_to_best = math.sqrt(mse_sub_to_best)/2\n",
    "plt.plot(best-rmse_sub_to_best,5,'ro', color='Red') \n",
    "plt.plot(best+rmse_sub_to_best,5,'ro', color='Red') \n",
    "\n",
    "\n",
    "mse_sub_to_med = mean_squared_error(p_sub, p_med)\n",
    "rmse_sub_to_med = math.sqrt(mse_sub_to_med)/2\n",
    "plt.plot(med-rmse_sub_to_med,5,'ro', color='orange') \n",
    "plt.plot(med+rmse_sub_to_med,5,'ro', color='orange') \n",
    "\n",
    "mse_sub_to_worst = mean_squared_error(p_sub, p_worst)\n",
    "rmse_sub_to_worst = math.sqrt(mse_sub_to_worst)/2\n",
    "plt.plot(worst-rmse_sub_to_worst,5,'ro', color='green') \n",
    "plt.plot(worst+rmse_sub_to_worst,5,'ro', color='green') \n",
    "\n",
    "print(f\"Distance from Sub to Best: {rmse_sub_to_best}\")\n",
    "print(f\"Distance from Sub to Med: {rmse_sub_to_med}\")\n",
    "print(f\"Distance from Sub to Worst: {rmse_sub_to_worst}\")\n",
    "\n",
    "plt.show()\n",
    "\n",
    "\n",
    "p_best = pd.read_csv('..\\\\kaggle_data\\\\best-69757.csv')\n",
    "p_med = pd.read_csv('..\\\\kaggle_data\\\\med-71990.csv')\n",
    "p_worst = pd.read_csv('..\\\\kaggle_data\\\\worst-78828.csv')\n",
    "p_sub = pd.read_csv('..\\\\kaggle_data\\\\best.csv')"
   ]
  },
  {
   "cell_type": "code",
   "execution_count": 30,
   "id": "local-madison",
   "metadata": {},
   "outputs": [
    {
     "data": {
      "text/plain": [
       "<function matplotlib.pyplot.show(close=None, block=None)>"
      ]
     },
     "execution_count": 30,
     "metadata": {},
     "output_type": "execute_result"
    },
    {
     "data": {
      "image/png": "[encoded data removed]",
      "text/plain": [
       "<Figure size 432x288 with 1 Axes>"
      ]
     },
     "metadata": {
      "needs_background": "light"
     },
     "output_type": "display_data"
    }
   ],
   "source": [
    "p_best = pd.read_csv('..\\\\kaggle_data\\\\best-69757.csv')\n",
    "p_med = pd.read_csv('..\\\\kaggle_data\\\\med-71990.csv')\n",
    "p_worst = pd.read_csv('..\\\\kaggle_data\\\\worst-78828.csv')\n",
    "p_sub = pd.read_csv('..\\\\kaggle_data\\\\best.csv')\n",
    "\n",
    "best = 0.69757\n",
    "med = 0.71990\n",
    "worst = 0.78828\n",
    "\n",
    "mse_sub_to_best = mean_squared_error(p_sub, p_best)\n",
    "rmse_sub_to_best = math.sqrt(mse_sub_to_best)\n",
    "\n",
    "mse_sub_to_med = mean_squared_error(p_sub, p_med)\n",
    "rmse_sub_to_med = math.sqrt(mse_sub_to_med)\n",
    "\n",
    "mse_sub_to_worst = mean_squared_error(p_sub, p_worst)\n",
    "rmse_sub_to_worst = math.sqrt(mse_sub_to_worst)\n",
    "\n",
    "fact_plot = [[best,best],[med,med],[worst,worst]]\n",
    "delta_plot = [[rmse_sub_to_best,rmse_sub_to_best],[rmse_sub_to_med,rmse_sub_to_med],[rmse_sub_to_worst,rmse_sub_to_worst]]\n",
    "plt.plot(fact_plot,linestyle='--', marker='o', color='b') \n",
    "plt.plot(delta_plot,linestyle='--', marker='o', color='r') \n",
    "\n",
    "plt.show"
   ]
  },
  {
   "cell_type": "code",
   "execution_count": null,
   "id": "israeli-leisure",
   "metadata": {},
   "outputs": [],
   "source": []
  }
 ],
 "metadata": {
  "kernelspec": {
   "display_name": "Python 3",
   "language": "python",
   "name": "python3"
  },
  "language_info": {
   "codemirror_mode": {
    "name": "ipython",
    "version": 3
   },
   "file_extension": ".py",
   "mimetype": "text/x-python",
   "name": "python",
   "nbconvert_exporter": "python",
   "pygments_lexer": "ipython3",
   "version": "3.7.5"
  }
 },
 "nbformat": 4,
 "nbformat_minor": 5
}
