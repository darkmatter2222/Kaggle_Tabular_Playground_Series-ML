{
 "cells": [
  {
   "cell_type": "code",
   "execution_count": null,
   "metadata": {},
   "outputs": [],
   "source": [
    "import pandas as pd\n",
    "from sklearn import preprocessing\n",
    "import sklearn\n",
    "import numpy as np\n",
    "from scipy import stats\n",
    "import matplotlib.pyplot as plt\n",
    "import seaborn as sns"
   ]
  },
  {
   "cell_type": "code",
   "execution_count": null,
   "metadata": {},
   "outputs": [],
   "source": [
    "raw_train_data = pd.read_csv('..\\\\kaggle_data\\\\train.csv')\n",
    "raw_test_data = pd.read_csv('..\\\\kaggle_data\\\\test.csv')\n",
    "raw_sample_submission_data = pd.read_csv('..\\\\kaggle_data\\\\sample_submission.csv')"
   ]
  },
  {
   "cell_type": "code",
   "execution_count": null,
   "metadata": {},
   "outputs": [],
   "source": [
    "fig,ax = plt.subplots(1,2, figsize=(12,3))\n",
    "sns.histplot(x=raw_train_data.target, ax=ax[0])\n",
    "sns.boxplot(x=raw_train_data.target, ax=ax[1])\n",
    "plt.show()"
   ]
  },
  {
   "cell_type": "code",
   "execution_count": null,
   "metadata": {},
   "outputs": [],
   "source": [
    "fig,axes = plt.subplots(5,3, figsize=(30,30))\n",
    "sns.boxplot(x=raw_train_data.id, ax=axes[0,0])\n",
    "sns.boxplot(x=raw_train_data.cont1, ax=axes[0,1])\n",
    "sns.boxplot(x=raw_train_data.cont2, ax=axes[0,2])\n",
    "sns.boxplot(x=raw_train_data.cont3, ax=axes[1,0])\n",
    "sns.boxplot(x=raw_train_data.cont4, ax=axes[1,1])\n",
    "sns.boxplot(x=raw_train_data.cont5, ax=axes[1,2])\n",
    "sns.boxplot(x=raw_train_data.cont6, ax=axes[2,0])\n",
    "sns.boxplot(x=raw_train_data.cont7, ax=axes[2,1])\n",
    "sns.boxplot(x=raw_train_data.cont8, ax=axes[2,2])\n",
    "sns.boxplot(x=raw_train_data.cont9, ax=axes[3,0])\n",
    "sns.boxplot(x=raw_train_data.cont10, ax=axes[3,1])\n",
    "sns.boxplot(x=raw_train_data.cont11, ax=axes[3,2])\n",
    "sns.boxplot(x=raw_train_data.cont12, ax=axes[4,0])\n",
    "sns.boxplot(x=raw_train_data.cont13, ax=axes[4,1])\n",
    "sns.boxplot(x=raw_train_data.cont14, ax=axes[4,2])\n",
    "plt.show()"
   ]
  },
  {
   "cell_type": "code",
   "execution_count": null,
   "metadata": {},
   "outputs": [],
   "source": [
    "included_entries = raw_train_data[(np.abs(stats.zscore(raw_train_data['target'])) < 3.11)]\n",
    "excluded_entries = raw_train_data[(np.abs(stats.zscore(raw_train_data['target'])) > 3.11)]\n",
    "fig,ax = plt.subplots(2,2, figsize=(12,6))\n",
    "sns.histplot(x=included_entries.target, ax=ax[0][0])\n",
    "sns.boxplot(x=included_entries.target, ax=ax[0][1])\n",
    "sns.histplot(x=excluded_entries.target, ax=ax[1][0])\n",
    "sns.boxplot(x=excluded_entries.target, ax=ax[1][1])\n",
    "plt.show()"
   ]
  },
  {
   "cell_type": "code",
   "execution_count": null,
   "metadata": {},
   "outputs": [],
   "source": [
    "fig,axes = plt.subplots(5,3, figsize=(30,30))\n",
    "sns.boxplot(x=included_entries.id, ax=axes[0,0])\n",
    "sns.boxplot(x=included_entries.cont1, ax=axes[0,1])\n",
    "sns.boxplot(x=included_entries.cont2, ax=axes[0,2])\n",
    "sns.boxplot(x=included_entries.cont3, ax=axes[1,0])\n",
    "sns.boxplot(x=included_entries.cont4, ax=axes[1,1])\n",
    "sns.boxplot(x=included_entries.cont5, ax=axes[1,2])\n",
    "sns.boxplot(x=included_entries.cont6, ax=axes[2,0])\n",
    "sns.boxplot(x=included_entries.cont7, ax=axes[2,1])\n",
    "sns.boxplot(x=included_entries.cont8, ax=axes[2,2])\n",
    "sns.boxplot(x=included_entries.cont9, ax=axes[3,0])\n",
    "sns.boxplot(x=included_entries.cont10, ax=axes[3,1])\n",
    "sns.boxplot(x=included_entries.cont11, ax=axes[3,2])\n",
    "sns.boxplot(x=included_entries.cont12, ax=axes[4,0])\n",
    "sns.boxplot(x=included_entries.cont13, ax=axes[4,1])\n",
    "sns.boxplot(x=included_entries.cont14, ax=axes[4,2])\n",
    "plt.show()"
   ]
  },
  {
   "cell_type": "code",
   "execution_count": null,
   "metadata": {},
   "outputs": [],
   "source": [
    "corr=included_entries.corr()\n",
    "mask = np.triu(np.ones_like(corr, dtype=bool))\n",
    "fig, ax = plt.subplots(figsize=(13,10)) \n",
    "sns.heatmap(corr,cmap=\"BuPu\", mask=mask, annot=True)\n",
    "plt.show()"
   ]
  },
  {
   "cell_type": "code",
   "execution_count": null,
   "metadata": {},
   "outputs": [],
   "source": [
    "x = included_entries.drop([\"target\",\"id\"],axis=1)\n",
    "y = included_entries.target"
   ]
  },
  {
   "cell_type": "code",
   "execution_count": null,
   "metadata": {},
   "outputs": [],
   "source": [
    "import catboost as ctb\n",
    "model = ctb.CatBoostRegressor(iterations=150000)\n",
    "model.fit(x,y)"
   ]
  },
  {
   "cell_type": "code",
   "execution_count": null,
   "metadata": {},
   "outputs": [],
   "source": [
    "raw_test_data.astype({'id': 'int32'}).dtypes\n",
    "vector_data = raw_test_data[\n",
    "    ['cont1', 'cont2', 'cont3', 'cont4', 'cont5', 'cont6', 'cont7', 'cont8', 'cont9', 'cont10', 'cont11', 'cont12',\n",
    "     'cont13', 'cont14']] "
   ]
  },
  {
   "cell_type": "code",
   "execution_count": null,
   "metadata": {},
   "outputs": [],
   "source": [
    "preds = model.predict(vector_data)"
   ]
  },
  {
   "cell_type": "code",
   "execution_count": null,
   "metadata": {},
   "outputs": [],
   "source": [
    "result = []\n",
    "x = 0\n",
    "for index, row in raw_test_data.iterrows():\n",
    "    result.append([int(row['id']), preds[x]])\n",
    "    x += 1"
   ]
  },
  {
   "cell_type": "code",
   "execution_count": null,
   "metadata": {},
   "outputs": [],
   "source": [
    "from datetime import datetime\n",
    "dt_string = datetime.now().strftime(\"%d-%m-%Y_%H-%M-%S\")\n",
    "\n",
    "final_df = pd.DataFrame(result, columns=['id', 'target'])\n",
    "final_df.to_csv(f'..\\\\kaggle_data\\\\{dt_string}_submission.csv', index=False)\n",
    "\n",
    "final_df.head()"
   ]
  },
  {
   "cell_type": "code",
   "execution_count": null,
   "metadata": {
    "jupyter": {
     "source_hidden": true
    }
   },
   "outputs": [],
   "source": [
    "sult = pd.read_csv('sult.csv')\n",
    "sult2 = pd.read_csv('sult2.csv')"
   ]
  },
  {
   "cell_type": "code",
   "execution_count": null,
   "metadata": {},
   "outputs": [],
   "source": [
    "import math\n",
    "import sklearn\n",
    "from sklearn.metrics import mean_squared_error"
   ]
  },
  {
   "cell_type": "code",
   "execution_count": null,
   "metadata": {},
   "outputs": [],
   "source": [
    "mse = mean_squared_error(sult, sult2 )\n",
    "\n",
    "rmse = math.sqrt(mse)\n",
    "\n",
    "print(rmse)"
   ]
  },
  {
   "cell_type": "code",
   "execution_count": null,
   "metadata": {},
   "outputs": [],
   "source": []
  }
 ],
 "metadata": {
  "kernelspec": {
   "display_name": "Python 3",
   "language": "python",
   "name": "python3"
  },
  "language_info": {
   "codemirror_mode": {
    "name": "ipython",
    "version": 3
   },
   "file_extension": ".py",
   "mimetype": "text/x-python",
   "name": "python",
   "nbconvert_exporter": "python",
   "pygments_lexer": "ipython3",
   "version": "3.7.5"
  }
 },
 "nbformat": 4,
 "nbformat_minor": 4
}
