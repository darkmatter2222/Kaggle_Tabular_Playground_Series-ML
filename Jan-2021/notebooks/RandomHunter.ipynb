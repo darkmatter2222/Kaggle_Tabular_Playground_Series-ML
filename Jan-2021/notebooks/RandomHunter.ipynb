{
 "cells": [
  {
   "cell_type": "code",
   "execution_count": 108,
   "id": "boolean-sunset",
   "metadata": {},
   "outputs": [],
   "source": [
    "import optuna \n",
    "import xgboost as xgb\n",
    "from catboost import CatBoostRegressor\n",
    "import numpy as np\n",
    "import pandas as pd\n",
    "from scipy import stats\n",
    "import matplotlib.pyplot as plt\n",
    "import seaborn as sns\n",
    "from sklearn.model_selection import KFold\n",
    "from sklearn.metrics import mean_squared_error\n",
    "from sklearn.model_selection import train_test_split\n",
    "import math\n",
    "import sklearn\n",
    "from sklearn.metrics import mean_squared_error\n",
    "import operator\n",
    "from random import seed\n",
    "from datetime import datetime\n",
    "from random import random, choice"
   ]
  },
  {
   "cell_type": "code",
   "execution_count": 109,
   "id": "tropical-recommendation",
   "metadata": {},
   "outputs": [],
   "source": [
    "best_start = pd.read_csv('..\\\\kaggle_data\\\\0.69721.csv')\n",
    "# seed random number generator\n",
    "seed(1)"
   ]
  },
  {
   "cell_type": "code",
   "execution_count": 112,
   "id": "violent-vault",
   "metadata": {},
   "outputs": [],
   "source": [
    "def iswinner(subject_df, plot_enalbed=False):\n",
    "    best_val = 0.69751\n",
    "    best = pd.read_csv(f'..\\\\kaggle_data\\\\{best_val}.csv')\n",
    "    med_val = 0.70008\n",
    "    med = pd.read_csv(f'..\\\\kaggle_data\\\\{med_val}.csv')\n",
    "    medtwo_val = 0.72286\n",
    "    medtwo = pd.read_csv(f'..\\\\kaggle_data\\\\{medtwo_val}.csv')\n",
    "    medthree_val = 0.73846\n",
    "    medthree = pd.read_csv(f'..\\\\kaggle_data\\\\{medthree_val}.csv')\n",
    "    worst_val = 0.89798\n",
    "    worst = pd.read_csv(f'..\\\\kaggle_data\\\\{worst_val}.csv')\n",
    "    \n",
    "    mse_sub_to_best = mean_squared_error(subject_df, best)\n",
    "    rmse_sub_to_best = math.sqrt(mse_sub_to_best)\n",
    "\n",
    "    mse_sub_to_med = mean_squared_error(subject_df, med)\n",
    "    rmse_sub_to_med = math.sqrt(mse_sub_to_med)\n",
    "    \n",
    "    mse_sub_to_medtwo = mean_squared_error(subject_df, medtwo)\n",
    "    rmse_sub_to_medtwo = math.sqrt(mse_sub_to_medtwo)\n",
    "    \n",
    "    mse_sub_to_medthree = mean_squared_error(subject_df, medthree)\n",
    "    rmse_sub_to_medthree = math.sqrt(mse_sub_to_medthree)\n",
    "\n",
    "    mse_sub_to_worst = mean_squared_error(subject_df, worst)\n",
    "    rmse_sub_to_worst = math.sqrt(mse_sub_to_worst)\n",
    "    \n",
    "    distance_subbest_to_best = best_val - rmse_sub_to_best\n",
    "    distance_submed_to_med = med_val - rmse_sub_to_med\n",
    "    distance_submedtwo_to_medtwo = medtwo_val - rmse_sub_to_medtwo\n",
    "    distance_submedthree_to_medthree = medthree_val - rmse_sub_to_medthree\n",
    "    distance_subworst_to_worst = worst_val - rmse_sub_to_worst\n",
    "    \n",
    "    if plot_enalbed:\n",
    "        fact_plot = [[best_val,best_val],[med_val,med_val],[medtwo_val,medtwo_val],[medthree_val,medthree_val],[worst_val,worst_val]]\n",
    "        delta_plot = [[rmse_sub_to_best,rmse_sub_to_best],[rmse_sub_to_med,rmse_sub_to_med],[rmse_sub_to_medtwo,rmse_sub_to_medtwo],[rmse_sub_to_medthree,rmse_sub_to_medthree],[rmse_sub_to_worst,rmse_sub_to_worst]]\n",
    "        plt.plot(fact_plot,linestyle='--', marker='o', color='b') \n",
    "        plt.plot(delta_plot,linestyle='--', marker='o', color='r')\n",
    "        \n",
    "        print(f\"Distance, Sub_Best to Known_Best {distance_subbest_to_best}\")\n",
    "        print(f\"Distance, Sub_Med to Known_Med {distance_submed_to_med}\")\n",
    "        print(f\"Distance, Sub_Med to Known_Med {distance_submedtwo_to_medtwo}\")\n",
    "        print(f\"Distance, Sub_Med to Known_Med {distance_submedthree_to_medthree}\")\n",
    "        print(f\"Distance, Sub_Worst to Known_Worst {distance_subworst_to_worst}\")\n",
    "    \n",
    "    if (distance_subbest_to_best > distance_submed_to_med) and (distance_submed_to_med > distance_submedtwo_to_medtwo) and (distance_submedtwo_to_medtwo > distance_submedthree_to_medthree) and (distance_submedthree_to_medthree > distance_subworst_to_worst):\n",
    "        return True\n",
    "    else:\n",
    "        return False"
   ]
  },
  {
   "cell_type": "code",
   "execution_count": null,
   "id": "medical-interference",
   "metadata": {},
   "outputs": [],
   "source": [
    "working_df = best_start.copy(deep=True)\n",
    "for x in range(0, 10):\n",
    "    for index, row in working_df.iterrows():\n",
    "        do_work = random()\n",
    "        do_work_cutoff = random()\n",
    "        if do_work > do_work_cutoff:\n",
    "            direction = random()\n",
    "            if direction > 0.5:\n",
    "                working_df.at[index,'target'] = row.target + random()/choice([1,2,4,8,16,32])\n",
    "            else:\n",
    "                working_df.at[index,'target'] = row.target - random()/choice([1,2,4,8,16,32])\n",
    "    winner_val = iswinner(working_df, False)\n",
    "    if winner_val:\n",
    "        #iswinner(working_df, True)\n",
    "        working_df = working_df.copy(deep=True)\n",
    "\n",
    "    print(f\"Winner? {winner_val} on Itter: {x}\")\n",
    "iswinner(working_df, True)\n",
    "dt_string = datetime.now().strftime(\"%d-%m-%Y_%H-%M-%S\")\n",
    "print(working_df.head())\n",
    "working_df.to_csv(f'..\\\\kaggle_data\\\\{dt_string}_submission.csv', index=False)"
   ]
  },
  {
   "cell_type": "code",
   "execution_count": null,
   "id": "enclosed-executive",
   "metadata": {},
   "outputs": [],
   "source": []
  },
  {
   "cell_type": "code",
   "execution_count": 49,
   "id": "aging-fault",
   "metadata": {},
   "outputs": [
    {
     "name": "stdout",
     "output_type": "stream",
     "text": [
      "Distance to Best 0.025523459706187426\n",
      "   id    target\n",
      "0   0  7.980049\n",
      "1   2  7.857678\n",
      "2   6  7.942353\n",
      "3   7  8.312210\n",
      "4  10  8.072800\n"
     ]
    }
   ],
   "source": [
    "distance_mse_to_best = mean_squared_error(working_df, best)\n",
    "distance_rmse_to_best = math.sqrt(distance_mse_to_best)\n",
    "print(f'Distance to Best {distance_rmse_to_best}')\n",
    "print(working_df.head())"
   ]
  },
  {
   "cell_type": "code",
   "execution_count": 50,
   "id": "guilty-stress",
   "metadata": {},
   "outputs": [
    {
     "name": "stdout",
     "output_type": "stream",
     "text": [
      "   id    target\n",
      "0   0  7.980049\n",
      "1   2  7.857678\n",
      "2   6  7.942353\n",
      "3   7  8.312210\n",
      "4  10  8.072800\n"
     ]
    }
   ],
   "source": [
    "from datetime import datetime\n",
    "dt_string = datetime.now().strftime(\"%d-%m-%Y_%H-%M-%S\")\n",
    "print(working_df.head())\n",
    "working_df.to_csv(f'..\\\\kaggle_data\\\\{dt_string}_submission.csv', index=False)"
   ]
  },
  {
   "cell_type": "code",
   "execution_count": null,
   "id": "gorgeous-fence",
   "metadata": {},
   "outputs": [],
   "source": []
  }
 ],
 "metadata": {
  "kernelspec": {
   "display_name": "Python 3",
   "language": "python",
   "name": "python3"
  },
  "language_info": {
   "codemirror_mode": {
    "name": "ipython",
    "version": 3
   },
   "file_extension": ".py",
   "mimetype": "text/x-python",
   "name": "python",
   "nbconvert_exporter": "python",
   "pygments_lexer": "ipython3",
   "version": "3.7.5"
  }
 },
 "nbformat": 4,
 "nbformat_minor": 5
}
