{
 "cells": [
  {
   "cell_type": "code",
   "execution_count": 1,
   "id": "valuable-produce",
   "metadata": {},
   "outputs": [],
   "source": [
    "import optuna \n",
    "import xgboost as xgb\n",
    "from catboost import CatBoostRegressor\n",
    "import numpy as np\n",
    "import pandas as pd\n",
    "from scipy import stats\n",
    "import matplotlib.pyplot as plt\n",
    "import seaborn as sns\n",
    "from sklearn.model_selection import KFold\n",
    "from sklearn.metrics import mean_squared_error\n",
    "from sklearn.model_selection import train_test_split\n",
    "import math\n",
    "import sklearn\n",
    "from sklearn.metrics import mean_squared_error\n",
    "import operator\n",
    "from random import seed\n",
    "from datetime import datetime\n",
    "from random import random, choice"
   ]
  },
  {
   "cell_type": "code",
   "execution_count": 2,
   "id": "sunset-connecticut",
   "metadata": {},
   "outputs": [],
   "source": [
    "best_start = pd.read_csv('..\\\\kaggle_data\\\\0.69721.csv')\n",
    "# seed random number generator\n",
    "seed(1)"
   ]
  },
  {
   "cell_type": "code",
   "execution_count": 5,
   "id": "anonymous-tumor",
   "metadata": {},
   "outputs": [],
   "source": [
    "def iswinner(subject_df, plot_enalbed=False):\n",
    "    submissions = [\n",
    "        {'score':0.69751},\n",
    "        {'score':0.69784},\n",
    "        {'score':0.69942},\n",
    "        {'score':0.71503},\n",
    "        {'score':0.72286},\n",
    "        {'score':0.73846},\n",
    "        {'score':0.75053},\n",
    "        {'score':0.89798}]\n",
    "    \n",
    "    fact_plot = []\n",
    "    delta_plot = [] \n",
    "    \n",
    "    for frame in submissions:\n",
    "        frame['data'] = pd.read_csv(f\"..\\\\kaggle_data\\\\{frame['score']}.csv\")\n",
    "        mse = mean_squared_error(subject_df, frame['data'])\n",
    "        frame['subject_to_submission_rmse'] = math.sqrt(mse)\n",
    "        frame['distance_to_submission_score'] = frame['score'] - frame['subject_to_submission_rmse'] \n",
    "        fact_plot.append([frame['score'],frame['score']])\n",
    "        delta_plot.append([frame['subject_to_submission_rmse'], frame['subject_to_submission_rmse']])\n",
    "\n",
    "    if plot_enalbed:\n",
    "        plt.plot(fact_plot,linestyle='--', marker='o', color='b') \n",
    "        plt.plot(delta_plot,linestyle='--', marker='o', color='r')\n",
    "        \n",
    "    all_good = True\n",
    "    for index in range(len(submissions)):\n",
    "        if index == len(submissions) - 1:\n",
    "            break\n",
    "        if not submissions[index]['distance_to_submission_score'] > submissions[index + 1]['distance_to_submission_score']:\n",
    "            all_good = False\n",
    "            \n",
    "    return all_good, submission[0]['subject_to_submission_rmse']\n",
    "            \n",
    "\n",
    "\n",
    "        "
   ]
  },
  {
   "cell_type": "code",
   "execution_count": null,
   "id": "conscious-supervision",
   "metadata": {},
   "outputs": [],
   "source": [
    "working_df = best_start.copy(deep=True)\n",
    "highest_delta = 0\n",
    "\n",
    "for x in range(0, 10):\n",
    "    for index, row in working_df.iterrows():\n",
    "        do_work = random()\n",
    "        do_work_cutoff = random()\n",
    "        if do_work > do_work_cutoff:\n",
    "            direction = random()\n",
    "            if direction > 0.5:\n",
    "                working_df.at[index,'target'] = row.target + random()/choice([8,16,32])\n",
    "            else:\n",
    "                working_df.at[index,'target'] = row.target - random()/choice([8,16,32])\n",
    "    winner_val, rmse_sub_to_best = iswinner(working_df, False)\n",
    "    if winner_val:\n",
    "        if highest_delta < rmse_sub_to_best:\n",
    "            print(f\"Higher delta: {rmse_sub_to_best}\")\n",
    "            working_df = working_df.copy(deep=True)\n",
    "            highest_delta = rmse_sub_to_best    \n",
    "        else:\n",
    "            print(f\"Lower delta: {rmse_sub_to_best}\")\n",
    "\n",
    "    print(f\"Winner? {winner_val} on Itter: {x}\")\n",
    "iswinner(working_df, True)\n",
    "dt_string = datetime.now().strftime(\"%d-%m-%Y_%H-%M-%S\")\n",
    "print(working_df.head())\n",
    "working_df.to_csv(f'..\\\\kaggle_data\\\\{dt_string}_submission.csv', index=False)"
   ]
  },
  {
   "cell_type": "code",
   "execution_count": null,
   "id": "mighty-friend",
   "metadata": {},
   "outputs": [],
   "source": []
  },
  {
   "cell_type": "code",
   "execution_count": 49,
   "id": "needed-algeria",
   "metadata": {},
   "outputs": [
    {
     "name": "stdout",
     "output_type": "stream",
     "text": [
      "Distance to Best 0.025523459706187426\n",
      "   id    target\n",
      "0   0  7.980049\n",
      "1   2  7.857678\n",
      "2   6  7.942353\n",
      "3   7  8.312210\n",
      "4  10  8.072800\n"
     ]
    }
   ],
   "source": [
    "distance_mse_to_best = mean_squared_error(working_df, best)\n",
    "distance_rmse_to_best = math.sqrt(distance_mse_to_best)\n",
    "print(f'Distance to Best {distance_rmse_to_best}')\n",
    "print(working_df.head())"
   ]
  },
  {
   "cell_type": "code",
   "execution_count": 50,
   "id": "simple-closer",
   "metadata": {},
   "outputs": [
    {
     "name": "stdout",
     "output_type": "stream",
     "text": [
      "   id    target\n",
      "0   0  7.980049\n",
      "1   2  7.857678\n",
      "2   6  7.942353\n",
      "3   7  8.312210\n",
      "4  10  8.072800\n"
     ]
    }
   ],
   "source": [
    "from datetime import datetime\n",
    "dt_string = datetime.now().strftime(\"%d-%m-%Y_%H-%M-%S\")\n",
    "print(working_df.head())\n",
    "working_df.to_csv(f'..\\\\kaggle_data\\\\{dt_string}_submission.csv', index=False)"
   ]
  },
  {
   "cell_type": "code",
   "execution_count": null,
   "id": "reported-heating",
   "metadata": {},
   "outputs": [],
   "source": []
  }
 ],
 "metadata": {
  "kernelspec": {
   "display_name": "Python 3",
   "language": "python",
   "name": "python3"
  },
  "language_info": {
   "codemirror_mode": {
    "name": "ipython",
    "version": 3
   },
   "file_extension": ".py",
   "mimetype": "text/x-python",
   "name": "python",
   "nbconvert_exporter": "python",
   "pygments_lexer": "ipython3",
   "version": "3.7.5"
  }
 },
 "nbformat": 4,
 "nbformat_minor": 5
}
