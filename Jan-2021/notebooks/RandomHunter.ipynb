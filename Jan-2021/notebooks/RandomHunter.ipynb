{
 "cells": [
  {
   "cell_type": "code",
   "execution_count": 19,
   "id": "integral-constitutional",
   "metadata": {},
   "outputs": [],
   "source": [
    "import optuna \n",
    "import xgboost as xgb\n",
    "from catboost import CatBoostRegressor\n",
    "import numpy as np\n",
    "import pandas as pd\n",
    "from scipy import stats\n",
    "import matplotlib.pyplot as plt\n",
    "import seaborn as sns\n",
    "from sklearn.model_selection import KFold\n",
    "from sklearn.metrics import mean_squared_error\n",
    "from sklearn.model_selection import train_test_split\n",
    "import math\n",
    "import sklearn\n",
    "from sklearn.metrics import mean_squared_error\n",
    "import operator\n",
    "from random import seed\n",
    "from datetime import datetime\n",
    "from random import random, choice\n",
    "import os"
   ]
  },
  {
   "cell_type": "code",
   "execution_count": 20,
   "id": "heavy-productivity",
   "metadata": {},
   "outputs": [],
   "source": [
    "best_start = pd.read_csv('Submissions\\\\0.69721.csv')\n",
    "# seed random number generator\n",
    "seed(1)"
   ]
  },
  {
   "cell_type": "code",
   "execution_count": 21,
   "id": "natural-spray",
   "metadata": {},
   "outputs": [],
   "source": [
    "def iswinner(subject_df, plot_enalbed=False):\n",
    "    root = 'Submissions'\n",
    "    \n",
    "    submissions = []\n",
    "    scores = []\n",
    "    \n",
    "    for filename in os.listdir(root):\n",
    "        if '.csv' in filename:\n",
    "            score = filename.replace('.csv','')\n",
    "            scores.append(score)\n",
    "    \n",
    "    scores.sort()\n",
    "    \n",
    "    for score in scores:\n",
    "        submissions.append({'score_flost':float(score),'score_str':score})\n",
    "\n",
    "    fact_plot = []\n",
    "    delta_plot = [] \n",
    "    \n",
    "    for frame in submissions:\n",
    "        frame['data'] = pd.read_csv(f\"{root}\\\\{frame['score_str']}.csv\")\n",
    "        mse = mean_squared_error(subject_df, frame['data'])\n",
    "        frame['subject_to_submission_rmse'] = math.sqrt(mse)\n",
    "        frame['distance_to_submission_score'] = frame['score_flost'] - frame['subject_to_submission_rmse'] \n",
    "        fact_plot.append([frame['score_flost'],frame['score_flost']])\n",
    "        delta_plot.append([frame['subject_to_submission_rmse'], frame['subject_to_submission_rmse']])\n",
    "\n",
    "    if plot_enalbed:\n",
    "        plt.plot(fact_plot,linestyle='--', marker='o', color='b') \n",
    "        plt.plot(delta_plot,linestyle='--', marker='o', color='r')\n",
    "        plt.show()\n",
    "        plt.plot(delta_plot[0:10],linestyle='--', marker='o', color='r')\n",
    "        plt.show()\n",
    "        \n",
    "    all_good = True\n",
    "    for index in range(len(submissions)):\n",
    "        if index == len(submissions) - 1:\n",
    "            break\n",
    "        if not submissions[index]['distance_to_submission_score'] > submissions[index + 1]['distance_to_submission_score']:\n",
    "            all_good = False\n",
    "            break\n",
    "            \n",
    "    return all_good, submissions[0]['subject_to_submission_rmse']\n",
    "            \n",
    "\n",
    "\n",
    "        "
   ]
  },
  {
   "cell_type": "code",
   "execution_count": 22,
   "id": "legendary-color",
   "metadata": {},
   "outputs": [
    {
     "data": {
      "image/png": "[encoded data removed]",
      "text/plain": [
       "<Figure size 432x288 with 1 Axes>"
      ]
     },
     "metadata": {
      "needs_background": "light"
     },
     "output_type": "display_data"
    },
    {
     "data": {
      "image/png": "[encoded data removed]",
      "text/plain": [
       "<Figure size 432x288 with 1 Axes>"
      ]
     },
     "metadata": {
      "needs_background": "light"
     },
     "output_type": "display_data"
    },
    {
     "data": {
      "text/plain": [
       "(False, 0.0)"
      ]
     },
     "execution_count": 22,
     "metadata": {},
     "output_type": "execute_result"
    }
   ],
   "source": [
    "iswinner(best_start, True)"
   ]
  },
  {
   "cell_type": "code",
   "execution_count": null,
   "id": "automatic-competition",
   "metadata": {},
   "outputs": [],
   "source": [
    "master_working_df = best_start.copy(deep=True)\n",
    "highest_delta = 0\n",
    "\n",
    "for x in range(0, 100):\n",
    "    working_df = master_working_df.copy(deep=True)\n",
    "    for index, row in working_df.iterrows():\n",
    "        do_work = random()\n",
    "        do_work_cutoff = random()\n",
    "        if do_work > do_work_cutoff:\n",
    "            direction = random()\n",
    "            if direction > 0.5:\n",
    "                working_df.at[index,'target'] = row.target + random()/choice([1000])\n",
    "            else:\n",
    "                working_df.at[index,'target'] = row.target - random()/choice([1000])\n",
    "    winner_val, rmse_sub_to_best = iswinner(working_df, False)\n",
    "    if winner_val:\n",
    "        if highest_delta < rmse_sub_to_best:\n",
    "            print(f\"Higher delta: {rmse_sub_to_best}\")\n",
    "            master_working_df = working_df.copy(deep=True)\n",
    "            highest_delta = rmse_sub_to_best    \n",
    "        else:\n",
    "            print(f\"Lower delta: {rmse_sub_to_best}\")\n",
    "    else:\n",
    "        print(f\"current delta: {rmse_sub_to_best}\")\n",
    "\n",
    "    print(f\"Winner? {winner_val} on Itter: {x}\")\n",
    "iswinner(working_df, True)\n",
    "dt_string = datetime.now().strftime(\"%d-%m-%Y_%H-%M-%S\")\n",
    "print(working_df.head())\n",
    "working_df.to_csv(f'..\\\\kaggle_data\\\\{dt_string}_submission.csv', index=False)"
   ]
  },
  {
   "cell_type": "code",
   "execution_count": null,
   "id": "integral-independence",
   "metadata": {},
   "outputs": [],
   "source": [
    "highest_delta = 0\n",
    "\n",
    "for x in range(0, 2):\n",
    "    working_df = master_working_df.copy(deep=True)\n",
    "    for index, row in working_df.iterrows():\n",
    "        do_work = random()\n",
    "        do_work_cutoff = random()\n",
    "        if do_work > do_work_cutoff:\n",
    "            direction = random()\n",
    "            if direction > 0.5:\n",
    "                working_df.at[index,'target'] = row.target + random()/choice([4,8,16,32,64,128])\n",
    "            else:\n",
    "                working_df.at[index,'target'] = row.target - random()/choice([4,8,16,32,64,128])\n",
    "    winner_val, rmse_sub_to_best = iswinner(working_df, False)\n",
    "    if winner_val:\n",
    "        if highest_delta < rmse_sub_to_best:\n",
    "            print(f\"Higher delta: {rmse_sub_to_best}\")\n",
    "            master_working_df = working_df.copy(deep=True)\n",
    "            highest_delta = rmse_sub_to_best    \n",
    "        else:\n",
    "            print(f\"Lower delta: {rmse_sub_to_best}\")\n",
    "    else:\n",
    "        print(f\"current delta: {rmse_sub_to_best}\")\n",
    "\n",
    "    print(f\"Winner? {winner_val} on Itter: {x}\")\n",
    "iswinner(working_df, True)\n",
    "dt_string = datetime.now().strftime(\"%d-%m-%Y_%H-%M-%S\")\n",
    "print(working_df.head())\n",
    "working_df.to_csv(f'..\\\\kaggle_data\\\\{dt_string}_submission.csv', index=False)"
   ]
  },
  {
   "cell_type": "code",
   "execution_count": 49,
   "id": "cloudy-regulation",
   "metadata": {},
   "outputs": [
    {
     "name": "stdout",
     "output_type": "stream",
     "text": [
      "Distance to Best 0.025523459706187426\n",
      "   id    target\n",
      "0   0  7.980049\n",
      "1   2  7.857678\n",
      "2   6  7.942353\n",
      "3   7  8.312210\n",
      "4  10  8.072800\n"
     ]
    }
   ],
   "source": [
    "distance_mse_to_best = mean_squared_error(working_df, best)\n",
    "distance_rmse_to_best = math.sqrt(distance_mse_to_best)\n",
    "print(f'Distance to Best {distance_rmse_to_best}')\n",
    "print(working_df.head())"
   ]
  },
  {
   "cell_type": "code",
   "execution_count": 50,
   "id": "little-switzerland",
   "metadata": {},
   "outputs": [
    {
     "name": "stdout",
     "output_type": "stream",
     "text": [
      "   id    target\n",
      "0   0  7.980049\n",
      "1   2  7.857678\n",
      "2   6  7.942353\n",
      "3   7  8.312210\n",
      "4  10  8.072800\n"
     ]
    }
   ],
   "source": [
    "from datetime import datetime\n",
    "dt_string = datetime.now().strftime(\"%d-%m-%Y_%H-%M-%S\")\n",
    "print(working_df.head())\n",
    "working_df.to_csv(f'..\\\\kaggle_data\\\\{dt_string}_submission.csv', index=False)"
   ]
  },
  {
   "cell_type": "code",
   "execution_count": null,
   "id": "polar-seminar",
   "metadata": {},
   "outputs": [],
   "source": []
  }
 ],
 "metadata": {
  "kernelspec": {
   "display_name": "Python 3",
   "language": "python",
   "name": "python3"
  },
  "language_info": {
   "codemirror_mode": {
    "name": "ipython",
    "version": 3
   },
   "file_extension": ".py",
   "mimetype": "text/x-python",
   "name": "python",
   "nbconvert_exporter": "python",
   "pygments_lexer": "ipython3",
   "version": "3.7.5"
  }
 },
 "nbformat": 4,
 "nbformat_minor": 5
}
