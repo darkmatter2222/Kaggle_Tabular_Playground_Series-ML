{
 "cells": [
  {
   "cell_type": "code",
   "execution_count": 46,
   "id": "reliable-sister",
   "metadata": {},
   "outputs": [],
   "source": [
    "import optuna \n",
    "import xgboost as xgb\n",
    "from catboost import CatBoostRegressor\n",
    "import numpy as np\n",
    "import pandas as pd\n",
    "from scipy import stats\n",
    "import matplotlib.pyplot as plt\n",
    "import seaborn as sns\n",
    "from sklearn.model_selection import KFold\n",
    "from sklearn.metrics import mean_squared_error\n",
    "from sklearn.model_selection import train_test_split\n",
    "import math\n",
    "import sklearn\n",
    "from sklearn.metrics import mean_squared_error\n",
    "import operator\n",
    "from random import seed\n",
    "from random import random"
   ]
  },
  {
   "cell_type": "code",
   "execution_count": 47,
   "id": "norman-living",
   "metadata": {},
   "outputs": [],
   "source": [
    "best = pd.read_csv('..\\\\kaggle_data\\\\best.csv')\n",
    "working_df = best.copy(deep=True)\n",
    "# seed random number generator\n",
    "seed(1)"
   ]
  },
  {
   "cell_type": "code",
   "execution_count": 48,
   "id": "statewide-crossing",
   "metadata": {},
   "outputs": [],
   "source": [
    "for index, row in working_df.iterrows():\n",
    "    do_work = random()\n",
    "    if do_work > 0.0:\n",
    "        direction = random()\n",
    "        if direction > 0.5:\n",
    "            working_df.at[index,'target'] = row.target + random()/16\n",
    "        else:\n",
    "            working_df.at[index,'target'] = row.target - random()/16"
   ]
  },
  {
   "cell_type": "code",
   "execution_count": 49,
   "id": "apparent-february",
   "metadata": {},
   "outputs": [
    {
     "name": "stdout",
     "output_type": "stream",
     "text": [
      "Distance to Best 0.025523459706187426\n",
      "   id    target\n",
      "0   0  7.980049\n",
      "1   2  7.857678\n",
      "2   6  7.942353\n",
      "3   7  8.312210\n",
      "4  10  8.072800\n"
     ]
    }
   ],
   "source": [
    "distance_mse_to_best = mean_squared_error(working_df, best)\n",
    "distance_rmse_to_best = math.sqrt(distance_mse_to_best)\n",
    "print(f'Distance to Best {distance_rmse_to_best}')\n",
    "print(working_df.head())"
   ]
  },
  {
   "cell_type": "code",
   "execution_count": 50,
   "id": "international-following",
   "metadata": {},
   "outputs": [
    {
     "name": "stdout",
     "output_type": "stream",
     "text": [
      "   id    target\n",
      "0   0  7.980049\n",
      "1   2  7.857678\n",
      "2   6  7.942353\n",
      "3   7  8.312210\n",
      "4  10  8.072800\n"
     ]
    }
   ],
   "source": [
    "from datetime import datetime\n",
    "dt_string = datetime.now().strftime(\"%d-%m-%Y_%H-%M-%S\")\n",
    "print(working_df.head())\n",
    "working_df.to_csv(f'..\\\\kaggle_data\\\\{dt_string}_submission.csv', index=False)"
   ]
  },
  {
   "cell_type": "code",
   "execution_count": null,
   "id": "tutorial-model",
   "metadata": {},
   "outputs": [],
   "source": []
  }
 ],
 "metadata": {
  "kernelspec": {
   "display_name": "Python 3",
   "language": "python",
   "name": "python3"
  },
  "language_info": {
   "codemirror_mode": {
    "name": "ipython",
    "version": 3
   },
   "file_extension": ".py",
   "mimetype": "text/x-python",
   "name": "python",
   "nbconvert_exporter": "python",
   "pygments_lexer": "ipython3",
   "version": "3.7.5"
  }
 },
 "nbformat": 4,
 "nbformat_minor": 5
}
