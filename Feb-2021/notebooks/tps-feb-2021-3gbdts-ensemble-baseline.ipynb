{
 "cells": [
  {
   "cell_type": "markdown",
   "metadata": {
    "papermill": {
     "duration": 0.028477,
     "end_time": "2021-02-02T17:07:20.622976",
     "exception": false,
     "start_time": "2021-02-02T17:07:20.594499",
     "status": "completed"
    },
    "tags": []
   },
   "source": [
    "# About\n",
    "\n",
    "I reused my notebook in Tabular Playground Series - Jan 2021:  \n",
    "https://www.kaggle.com/ttahara/tps-jan-2021-gbdts-baseline\n",
    "\n",
    "<br>\n",
    "\n",
    "* GBDT Models baseline\n",
    "    * LightGBM, XGBoost, CatBoost\n",
    "    * each model is trained by 5 folds cross validation \n",
    "\n",
    "\n",
    "* feature engineering\n",
    "    * **label-encoding** for category features\n",
    "    * no feature engineering for continuous features\n",
    "\n",
    "\n",
    "* inference test by weighted averaging 3 GBDT Models(5 folds averaging)\n",
    "\n",
    "<br>\n",
    "\n",
    "There is a lot of room for improvement such as feature engineering, parameter tuning, other models, and so on. enjoy ;) \n"
   ]
  },
  {
   "cell_type": "markdown",
   "metadata": {
    "papermill": {
     "duration": 0.027735,
     "end_time": "2021-02-02T17:07:20.678131",
     "exception": false,
     "start_time": "2021-02-02T17:07:20.650396",
     "status": "completed"
    },
    "tags": []
   },
   "source": [
    "# Prepare"
   ]
  },
  {
   "cell_type": "markdown",
   "metadata": {
    "papermill": {
     "duration": 0.026941,
     "end_time": "2021-02-02T17:07:20.732932",
     "exception": false,
     "start_time": "2021-02-02T17:07:20.705991",
     "status": "completed"
    },
    "tags": []
   },
   "source": [
    "## import libraries"
   ]
  },
  {
   "cell_type": "code",
   "execution_count": null,
   "metadata": {
    "_cell_guid": "b1076dfc-b9ad-4769-8c92-a6c4dae69d19",
    "_uuid": "8f2839f25d086af736a60e9eeb907d3b93b6e0e5",
    "papermill": {
     "duration": 6.620461,
     "end_time": "2021-02-02T17:07:27.380441",
     "exception": false,
     "start_time": "2021-02-02T17:07:20.759980",
     "status": "completed"
    },
    "tags": []
   },
   "outputs": [],
   "source": [
    "import os\n",
    "import sys\n",
    "import time\n",
    "import random\n",
    "import logging\n",
    "import typing as tp\n",
    "from pathlib import Path\n",
    "from contextlib import contextmanager\n",
    "\n",
    "from matplotlib import pyplot as plt\n",
    "import seaborn as sns\n",
    "\n",
    "import numpy as np\n",
    "import pandas as pd\n",
    "\n",
    "import category_encoders as ce\n",
    "from sklearn.model_selection import KFold\n",
    "from sklearn.metrics import mean_squared_log_error, mean_squared_error\n",
    "\n",
    "import xgboost as xgb\n",
    "import lightgbm as lgb\n",
    "from catboost import CatBoost, Pool\n",
    "import numpy as np\n",
    "import pandas as pd\n",
    "import matplotlib.pyplot as plt\n",
    "import seaborn as sns\n",
    "from scipy import stats\n",
    "\n",
    "%matplotlib inline"
   ]
  },
  {
   "cell_type": "code",
   "execution_count": null,
   "metadata": {
    "papermill": {
     "duration": 0.042262,
     "end_time": "2021-02-02T17:07:27.451820",
     "exception": false,
     "start_time": "2021-02-02T17:07:27.409558",
     "status": "completed"
    },
    "tags": []
   },
   "outputs": [],
   "source": [
    "np.log2(244)"
   ]
  },
  {
   "cell_type": "markdown",
   "metadata": {
    "papermill": {
     "duration": 0.028925,
     "end_time": "2021-02-02T17:07:27.546542",
     "exception": false,
     "start_time": "2021-02-02T17:07:27.517617",
     "status": "completed"
    },
    "tags": []
   },
   "source": [
    "## read data"
   ]
  },
  {
   "cell_type": "code",
   "execution_count": null,
   "metadata": {
    "_cell_guid": "79c7e3d0-c299-4dcb-8224-4455121ee9b0",
    "_uuid": "d629ff2d2480ee46fbb7e2d37f6b5fab8052498a",
    "papermill": {
     "duration": 0.04013,
     "end_time": "2021-02-02T17:07:27.615027",
     "exception": false,
     "start_time": "2021-02-02T17:07:27.574897",
     "status": "completed"
    },
    "tags": []
   },
   "outputs": [],
   "source": []
  },
  {
   "cell_type": "code",
   "execution_count": null,
   "metadata": {
    "papermill": {
     "duration": 3.54189,
     "end_time": "2021-02-02T17:07:31.185864",
     "exception": false,
     "start_time": "2021-02-02T17:07:27.643974",
     "status": "completed"
    },
    "tags": []
   },
   "outputs": [],
   "source": [
    "train = pd.read_csv('..\\\\kaggle_data\\\\train.csv')\n",
    "test = pd.read_csv('..\\\\kaggle_data\\\\test.csv')\n",
    "smpl_sub = pd.read_csv('..\\\\kaggle_data\\\\sample_submission.csv')\n",
    "print(\"train: {}, test: {}, sample sub: {}\".format(\n",
    "    train.shape, test.shape, smpl_sub.shape\n",
    "))"
   ]
  },
  {
   "cell_type": "code",
   "execution_count": null,
   "metadata": {},
   "outputs": [],
   "source": [
    "#train = train[(np.abs(stats.zscore(train2['target'])) < 3.0)]"
   ]
  },
  {
   "cell_type": "code",
   "execution_count": null,
   "metadata": {
    "papermill": {
     "duration": 0.05237,
     "end_time": "2021-02-02T17:07:31.267724",
     "exception": false,
     "start_time": "2021-02-02T17:07:31.215354",
     "status": "completed"
    },
    "tags": []
   },
   "outputs": [],
   "source": [
    "train.head().T"
   ]
  },
  {
   "cell_type": "markdown",
   "metadata": {
    "papermill": {
     "duration": 0.029912,
     "end_time": "2021-02-02T17:07:31.328217",
     "exception": false,
     "start_time": "2021-02-02T17:07:31.298305",
     "status": "completed"
    },
    "tags": []
   },
   "source": [
    "## Definition"
   ]
  },
  {
   "cell_type": "code",
   "execution_count": null,
   "metadata": {
    "papermill": {
     "duration": 0.040287,
     "end_time": "2021-02-02T17:07:31.398346",
     "exception": false,
     "start_time": "2021-02-02T17:07:31.358059",
     "status": "completed"
    },
    "tags": []
   },
   "outputs": [],
   "source": [
    "@contextmanager\n",
    "def timer(logger=None, format_str='{:.3f}[s]', prefix=None, suffix=None):\n",
    "    if prefix: format_str = str(prefix) + format_str\n",
    "    if suffix: format_str = format_str + str(suffix)\n",
    "    start = time.time()\n",
    "    yield\n",
    "    d = time.time() - start\n",
    "    out_str = format_str.format(d)\n",
    "    if logger:\n",
    "        logger.info(out_str)\n",
    "    else:\n",
    "        print(out_str)"
   ]
  },
  {
   "cell_type": "code",
   "execution_count": null,
   "metadata": {
    "papermill": {
     "duration": 0.056535,
     "end_time": "2021-02-02T17:07:31.484670",
     "exception": false,
     "start_time": "2021-02-02T17:07:31.428135",
     "status": "completed"
    },
    "tags": []
   },
   "outputs": [],
   "source": [
    "class TreeModel:\n",
    "    \"\"\"Wrapper for LightGBM/XGBoost/CATBoost\"\"\"\n",
    "    def __init__(self, model_type: str):\n",
    "        self.model_type = model_type\n",
    "        self.trn_data = None\n",
    "        self.val_data = None\n",
    "        self.model = None\n",
    "\n",
    "    def train(self,\n",
    "              params: dict,\n",
    "              X_train: pd.DataFrame, y_train: np.ndarray,\n",
    "              X_val: pd.DataFrame, y_val: np.ndarray,\n",
    "              train_weight: tp.Optional[np.ndarray] = None,\n",
    "              val_weight: tp.Optional[np.ndarray] = None,\n",
    "              train_params: dict = None,\n",
    "              cat_cols: list = None,\n",
    "            ):\n",
    "        if self.model_type == \"lgb\":\n",
    "            self.trn_data = lgb.Dataset(X_train, label=y_train, weight=train_weight)\n",
    "            self.val_data = lgb.Dataset(X_val, label=y_val, weight=val_weight)\n",
    "            self.model = lgb.train(params=params,\n",
    "                                   train_set=self.trn_data,\n",
    "                                   valid_sets=[self.trn_data, self.val_data],\n",
    "                                   **train_params)\n",
    "        elif self.model_type == \"xgb\":\n",
    "            self.trn_data = xgb.DMatrix(X_train, y_train, weight=train_weight)\n",
    "            self.val_data = xgb.DMatrix(X_val, y_val, weight=val_weight)\n",
    "            self.model = xgb.train(params=params,\n",
    "                                   dtrain=self.trn_data,\n",
    "                                   evals=[(self.trn_data, \"train\"), (self.val_data, \"val\")],\n",
    "                                   **train_params)\n",
    "        elif self.model_type == \"cat\":\n",
    "            self.trn_data = Pool(\n",
    "                X_train, label=y_train, cat_features=cat_cols)  #, group_id=[0] * len(X_train))\n",
    "            self.val_data = Pool(\n",
    "                X_val, label=y_val, cat_features=cat_cols)  #, group_id=[0] * len(X_val))\n",
    "            self.model = CatBoost(params)\n",
    "            self.model.fit(\n",
    "                self.trn_data, eval_set=[self.val_data], use_best_model=True, **train_params)\n",
    "        else:\n",
    "            raise NotImplementedError\n",
    "\n",
    "    def predict(self, X: pd.DataFrame):\n",
    "        if self.model_type == \"lgb\":\n",
    "            return self.model.predict(\n",
    "                X, num_iteration=self.model.best_iteration)  # type: ignore\n",
    "        elif self.model_type == \"xgb\":\n",
    "            X_DM = xgb.DMatrix(X)\n",
    "            return self.model.predict(\n",
    "                X_DM, ntree_limit=self.model.best_ntree_limit)  # type: ignore\n",
    "        elif self.model_type == \"cat\":\n",
    "            return self.model.predict(X)\n",
    "        else:\n",
    "            raise NotImplementedError\n",
    "\n",
    "    @property\n",
    "    def feature_names_(self):\n",
    "        if self.model_type == \"lgb\":\n",
    "            return self.model.feature_name()\n",
    "        elif self.model_type == \"xgb\":\n",
    "            return list(self.model.get_score(importance_type=\"gain\").keys())\n",
    "        elif self.model_type == \"cat\":\n",
    "             return self.model.feature_names_\n",
    "        else:\n",
    "            raise NotImplementedError\n",
    "\n",
    "    @property\n",
    "    def feature_importances_(self):\n",
    "        if self.model_type == \"lgb\":\n",
    "            return self.model.feature_importance(importance_type=\"gain\")\n",
    "        elif self.model_type == \"xgb\":\n",
    "            return list(self.model.get_score(importance_type=\"gain\").values())\n",
    "        elif self.model_type == \"cat\":\n",
    "            return self.model.feature_importances_\n",
    "        else:\n",
    "            raise NotImplementedError"
   ]
  },
  {
   "cell_type": "markdown",
   "metadata": {
    "papermill": {
     "duration": 0.029637,
     "end_time": "2021-02-02T17:07:31.544482",
     "exception": false,
     "start_time": "2021-02-02T17:07:31.514845",
     "status": "completed"
    },
    "tags": []
   },
   "source": [
    "# Training & Inference"
   ]
  },
  {
   "cell_type": "markdown",
   "metadata": {
    "papermill": {
     "duration": 0.030239,
     "end_time": "2021-02-02T17:07:31.604595",
     "exception": false,
     "start_time": "2021-02-02T17:07:31.574356",
     "status": "completed"
    },
    "tags": []
   },
   "source": [
    "## Config "
   ]
  },
  {
   "cell_type": "code",
   "execution_count": null,
   "metadata": {
    "papermill": {
     "duration": 0.04739,
     "end_time": "2021-02-02T17:07:31.682653",
     "exception": false,
     "start_time": "2021-02-02T17:07:31.635263",
     "status": "completed"
    },
    "tags": []
   },
   "outputs": [],
   "source": [
    "ID_COL = \"id\"\n",
    "CAT_COLS= [f\"cat{i}\" for i in range(10)]\n",
    "CONT_COLS = [f\"cont{i}\" for i in range(14)]\n",
    "TGT_COL = \"target\"\n",
    "\n",
    "N_SPLITS = 5\n",
    "RANDOM_SEED_LIST = [\n",
    "    42,\n",
    "#     2021, 0, 1086, 39\n",
    "]\n",
    "\n",
    "MODEL_PARAMS = {\n",
    "    \"lgb\": {\n",
    "        \"objective\": \"root_mean_squared_error\",\n",
    "        \"boosting\": \"gbdt\",\n",
    "        \"max_depth\": 8,\n",
    "        \"learning_rate\": 0.01,\n",
    "        \"colsample_bytree\": 0.4,\n",
    "        \"subsample\": 0.6,\n",
    "        \"subsample_freq\": 6,\n",
    "        \"reg_alpha\": 6,\n",
    "        \"min_data_in_leaf\": 100,\n",
    "        \"n_jobs\": 2,\n",
    "        \"seed\": RANDOM_SEED_LIST[0],\n",
    "        # \"device\": \"gpu\",\n",
    "        # \"gpu_device_id\": 0\n",
    "    },\n",
    "    \"xgb\": {\n",
    "        \"objective\": \"reg:squarederror\",\n",
    "        \"max_depth\": 6,\n",
    "        \"learning_rate\": 0.01,\n",
    "        \"colsample_bytree\": 0.4,\n",
    "        \"subsample\": 0.6,\n",
    "        \"reg_alpha\" : 6,\n",
    "        \"min_child_weight\": 100,\n",
    "        \"n_jobs\": 2,\n",
    "        \"seed\": RANDOM_SEED_LIST[0],\n",
    "        'tree_method': \"gpu_hist\",\n",
    "        \"gpu_id\": 0,\n",
    "    },\n",
    "    \"cat\": {\n",
    "        'loss_function': 'RMSE',\n",
    "        #\"max_depth\": 4,\n",
    "        #'learning_rate': 0.05,\n",
    "        #\"colsample_bylevel\": 0.4,\n",
    "        \"subsample\": 0.6,\n",
    "        \"min_child_samples\": 100, \n",
    "        'random_state': RANDOM_SEED_LIST[0],\n",
    "        \"thread_count\": 2,\n",
    "#         \"task_type\": \"GPU\",\n",
    "#         \"devices\" : \"0\",\n",
    "        'num_boost_round': 7500,\n",
    "    }\n",
    "}\n",
    "TRAIN_PARAMS = {\n",
    "    \"lgb\": {\n",
    "        \"num_boost_round\": 20000,\n",
    "        \"early_stopping_rounds\": 200,\n",
    "        \"verbose_eval\": 200,\n",
    "    },\n",
    "    \"xgb\": {\n",
    "        \"num_boost_round\": 20000,\n",
    "        \"early_stopping_rounds\": 200,\n",
    "        \"verbose_eval\":  200,\n",
    "    },\n",
    "    \"cat\": {\n",
    "        'early_stopping_rounds': 200,\n",
    "        'verbose_eval': 200,\n",
    "    }\n",
    "}"
   ]
  },
  {
   "cell_type": "markdown",
   "metadata": {
    "papermill": {
     "duration": 0.0303,
     "end_time": "2021-02-02T17:07:31.743687",
     "exception": false,
     "start_time": "2021-02-02T17:07:31.713387",
     "status": "completed"
    },
    "tags": []
   },
   "source": [
    "## Feature Engineering"
   ]
  },
  {
   "cell_type": "code",
   "execution_count": null,
   "metadata": {
    "papermill": {
     "duration": 0.047997,
     "end_time": "2021-02-02T17:07:31.822058",
     "exception": false,
     "start_time": "2021-02-02T17:07:31.774061",
     "status": "completed"
    },
    "tags": []
   },
   "outputs": [],
   "source": [
    "use_feat_cols = []\n",
    "train_feat = train[[ID_COL]].copy()\n",
    "test_feat = test[[ID_COL]].copy()"
   ]
  },
  {
   "cell_type": "markdown",
   "metadata": {
    "papermill": {
     "duration": 0.030012,
     "end_time": "2021-02-02T17:07:31.884167",
     "exception": false,
     "start_time": "2021-02-02T17:07:31.854155",
     "status": "completed"
    },
    "tags": []
   },
   "source": [
    "### for categorical features\n",
    "\n",
    "apply label encoding using [`category_encoders.OrdinalEncoder`](https://contrib.scikit-learn.org/category_encoders/ordinal.html)"
   ]
  },
  {
   "cell_type": "code",
   "execution_count": null,
   "metadata": {
    "papermill": {
     "duration": 1.191358,
     "end_time": "2021-02-02T17:07:33.106214",
     "exception": false,
     "start_time": "2021-02-02T17:07:31.914856",
     "status": "completed"
    },
    "tags": []
   },
   "outputs": [],
   "source": [
    "ord_enc = ce.OrdinalEncoder(cols=CAT_COLS)\n",
    "train_cat_feat = ord_enc.fit_transform(train[CAT_COLS])\n",
    "test_cat_feat = ord_enc.transform(test[CAT_COLS])"
   ]
  },
  {
   "cell_type": "code",
   "execution_count": null,
   "metadata": {
    "papermill": {
     "duration": 0.068904,
     "end_time": "2021-02-02T17:07:33.206335",
     "exception": false,
     "start_time": "2021-02-02T17:07:33.137431",
     "status": "completed"
    },
    "tags": []
   },
   "outputs": [],
   "source": [
    "train_feat = pd.concat([\n",
    "    train_feat, train_cat_feat], axis=1)\n",
    "test_feat = pd.concat([\n",
    "    test_feat, test_cat_feat], axis=1)\n",
    "use_feat_cols.extend(train_cat_feat.columns)"
   ]
  },
  {
   "cell_type": "markdown",
   "metadata": {
    "papermill": {
     "duration": 0.03084,
     "end_time": "2021-02-02T17:07:33.268433",
     "exception": false,
     "start_time": "2021-02-02T17:07:33.237593",
     "status": "completed"
    },
    "tags": []
   },
   "source": [
    "### for continuous features\n",
    "\n",
    "Use them as they are"
   ]
  },
  {
   "cell_type": "code",
   "execution_count": null,
   "metadata": {
    "papermill": {
     "duration": 0.060324,
     "end_time": "2021-02-02T17:07:33.359531",
     "exception": false,
     "start_time": "2021-02-02T17:07:33.299207",
     "status": "completed"
    },
    "tags": []
   },
   "outputs": [],
   "source": [
    "train_cont_feat = train[CONT_COLS]\n",
    "test_cont_feat = test[CONT_COLS]"
   ]
  },
  {
   "cell_type": "code",
   "execution_count": null,
   "metadata": {
    "papermill": {
     "duration": 0.091181,
     "end_time": "2021-02-02T17:07:33.481451",
     "exception": false,
     "start_time": "2021-02-02T17:07:33.390270",
     "status": "completed"
    },
    "tags": []
   },
   "outputs": [],
   "source": [
    "train_feat = pd.concat([\n",
    "    train_feat, train_cont_feat], axis=1)\n",
    "test_feat = pd.concat([\n",
    "    test_feat, test_cont_feat], axis=1)\n",
    "use_feat_cols.extend(CONT_COLS)"
   ]
  },
  {
   "cell_type": "code",
   "execution_count": null,
   "metadata": {
    "_kg_hide-output": true,
    "papermill": {
     "duration": 0.049936,
     "end_time": "2021-02-02T17:07:33.563056",
     "exception": false,
     "start_time": "2021-02-02T17:07:33.513120",
     "status": "completed"
    },
    "tags": []
   },
   "outputs": [],
   "source": [
    "train_feat.head().T"
   ]
  },
  {
   "cell_type": "code",
   "execution_count": null,
   "metadata": {
    "_kg_hide-output": true,
    "papermill": {
     "duration": 0.049847,
     "end_time": "2021-02-02T17:07:33.645025",
     "exception": false,
     "start_time": "2021-02-02T17:07:33.595178",
     "status": "completed"
    },
    "tags": []
   },
   "outputs": [],
   "source": [
    "test_feat.head().T"
   ]
  },
  {
   "cell_type": "markdown",
   "metadata": {
    "papermill": {
     "duration": 0.032645,
     "end_time": "2021-02-02T17:07:33.711797",
     "exception": false,
     "start_time": "2021-02-02T17:07:33.679152",
     "status": "completed"
    },
    "tags": []
   },
   "source": [
    "## Training"
   ]
  },
  {
   "cell_type": "code",
   "execution_count": null,
   "metadata": {
    "papermill": {
     "duration": 0.05397,
     "end_time": "2021-02-02T17:07:33.798447",
     "exception": false,
     "start_time": "2021-02-02T17:07:33.744477",
     "status": "completed"
    },
    "tags": []
   },
   "outputs": [],
   "source": [
    "def run_train_and_inference(\n",
    "    X, X_test, y, use_model, model_params, train_params, seed_list, n_splits, cat_cols=None\n",
    "):\n",
    "    \n",
    "    oof_pred_arr = np.zeros(len(X))\n",
    "    test_pred_arr = np.zeros(len(X_test))\n",
    "    feature_importances = pd.DataFrame()\n",
    "    score_list = []\n",
    "    \n",
    "    for seed in seed_list:\n",
    "        if use_model == \"cat\":\n",
    "            model_params['random_state'] = seed\n",
    "        else:\n",
    "            model_params[\"seed\"] = seed\n",
    "        kf = KFold(n_splits=n_splits, shuffle=True, random_state=seed)\n",
    "        tmp_oof_pred = np.zeros(len(X))\n",
    "        tmp_test_pred = np.zeros(len(X_test))\n",
    "\n",
    "        for fold, (trn_idx, val_idx) in enumerate(kf.split(X, y)):\n",
    "            print(\"*\" * 100)\n",
    "            print(f\"Seed: {seed} - Fold: {fold}\")\n",
    "            X_trn = X.loc[trn_idx].reset_index(drop=True)\n",
    "            X_val = X.loc[val_idx].reset_index(drop=True)\n",
    "            y_trn = y[trn_idx]\n",
    "            y_val = y[val_idx]\n",
    "\n",
    "            model = TreeModel(model_type=use_model)\n",
    "            with timer(prefix=\"Model training\"):\n",
    "                model.train(\n",
    "                    params=model_params, X_train=X_trn, y_train=y_trn,\n",
    "                    X_val=X_val, y_val=y_val, train_params=train_params, cat_cols=cat_cols\n",
    "                )\n",
    "            fi_tmp = pd.DataFrame()\n",
    "            fi_tmp[\"feature\"] = model.feature_names_\n",
    "            fi_tmp[\"importance\"] = model.feature_importances_\n",
    "            fi_tmp[\"fold\"] = fold\n",
    "            fi_tmp[\"seed\"] = seed\n",
    "            feature_importances = feature_importances.append(fi_tmp)\n",
    "\n",
    "            val_pred = model.predict(X_val)\n",
    "            score = mean_squared_error(y_val, val_pred, squared=False)\n",
    "            print(f\"score: {score:.5f}\")\n",
    "            score_list.append([seed, fold, score])\n",
    "            tmp_oof_pred[val_idx] = val_pred\n",
    "            tmp_test_pred += model.predict(X_test)\n",
    "            \n",
    "        oof_score = mean_squared_error(y, tmp_oof_pred, squared=False)\n",
    "        print(f\"oof score: {oof_score: 5f}\")\n",
    "        score_list.append([seed, \"oof\", oof_score])\n",
    "\n",
    "        oof_pred_arr += tmp_oof_pred\n",
    "        test_pred_arr += tmp_test_pred / n_splits\n",
    "\n",
    "    oof_pred_arr /= len(seed_list)\n",
    "    test_pred_arr /= len(seed_list)\n",
    "    \n",
    "    oof_score = mean_squared_error(y, oof_pred_arr, squared=False)\n",
    "    score_list.append([\"avg\", \"oof\", oof_score])\n",
    "    score_df = pd.DataFrame(\n",
    "        score_list, columns=[\"seed\", \"fold\", \"rmse score\"])\n",
    "    \n",
    "    return oof_pred_arr, test_pred_arr, score_df, feature_importances"
   ]
  },
  {
   "cell_type": "code",
   "execution_count": null,
   "metadata": {
    "papermill": {
     "duration": 0.084994,
     "end_time": "2021-02-02T17:07:33.916707",
     "exception": false,
     "start_time": "2021-02-02T17:07:33.831713",
     "status": "completed"
    },
    "tags": []
   },
   "outputs": [],
   "source": [
    "X = train_feat[use_feat_cols]\n",
    "X_test = test_feat[use_feat_cols]\n",
    "\n",
    "y = train[TGT_COL].values\n",
    "\n",
    "print(f\"train_feat: {X.shape}, test_feat: {X_test.shape}\")"
   ]
  },
  {
   "cell_type": "markdown",
   "metadata": {
    "papermill": {
     "duration": 0.033444,
     "end_time": "2021-02-02T17:07:33.984442",
     "exception": false,
     "start_time": "2021-02-02T17:07:33.950998",
     "status": "completed"
    },
    "tags": []
   },
   "source": [
    "### LightGBM"
   ]
  },
  {
   "cell_type": "code",
   "execution_count": null,
   "metadata": {
    "_kg_hide-output": true,
    "papermill": {
     "duration": 792.510158,
     "end_time": "2021-02-02T17:20:46.528851",
     "exception": false,
     "start_time": "2021-02-02T17:07:34.018693",
     "status": "completed"
    },
    "tags": []
   },
   "outputs": [],
   "source": [
    "oof_pred_lgb, test_pred_lgb, score_lgb, feat_imps_lgb = run_train_and_inference(\n",
    "    X, X_test, y, \"lgb\", MODEL_PARAMS[\"lgb\"], TRAIN_PARAMS[\"lgb\"], RANDOM_SEED_LIST, N_SPLITS)"
   ]
  },
  {
   "cell_type": "code",
   "execution_count": null,
   "metadata": {
    "_kg_hide-output": true,
    "papermill": {
     "duration": 0.079277,
     "end_time": "2021-02-02T17:20:46.673753",
     "exception": false,
     "start_time": "2021-02-02T17:20:46.594476",
     "status": "completed"
    },
    "tags": []
   },
   "outputs": [],
   "source": [
    "score_lgb"
   ]
  },
  {
   "cell_type": "code",
   "execution_count": null,
   "metadata": {
    "papermill": {
     "duration": 0.07918,
     "end_time": "2021-02-02T17:20:46.819403",
     "exception": false,
     "start_time": "2021-02-02T17:20:46.740223",
     "status": "completed"
    },
    "tags": []
   },
   "outputs": [],
   "source": [
    "score_lgb.loc[score_lgb.fold == \"oof\"]"
   ]
  },
  {
   "cell_type": "code",
   "execution_count": null,
   "metadata": {
    "papermill": {
     "duration": 1.315658,
     "end_time": "2021-02-02T17:20:48.201481",
     "exception": false,
     "start_time": "2021-02-02T17:20:46.885823",
     "status": "completed"
    },
    "tags": []
   },
   "outputs": [],
   "source": [
    "order = list(feat_imps_lgb.groupby(\"feature\").mean().sort_values(\"importance\", ascending=False).index)\n",
    "plt.figure(figsize=(10, 10))\n",
    "sns.barplot(x=\"importance\", y=\"feature\", data=feat_imps_lgb, order=order)\n",
    "plt.title(\"{} importance\".format(\"lgb\"))\n",
    "plt.tight_layout()"
   ]
  },
  {
   "cell_type": "markdown",
   "metadata": {
    "papermill": {
     "duration": 0.069545,
     "end_time": "2021-02-02T17:20:48.340227",
     "exception": false,
     "start_time": "2021-02-02T17:20:48.270682",
     "status": "completed"
    },
    "tags": []
   },
   "source": [
    "### XGBoost"
   ]
  },
  {
   "cell_type": "code",
   "execution_count": null,
   "metadata": {
    "_kg_hide-output": true,
    "papermill": {
     "duration": 385.169666,
     "end_time": "2021-02-02T17:27:13.578416",
     "exception": false,
     "start_time": "2021-02-02T17:20:48.408750",
     "status": "completed"
    },
    "tags": []
   },
   "outputs": [],
   "source": [
    "oof_pred_xgb, test_pred_xgb, score_xgb, feat_imps_xgb = run_train_and_inference(\n",
    "    X, X_test, y, \"xgb\", MODEL_PARAMS[\"xgb\"], TRAIN_PARAMS[\"xgb\"], RANDOM_SEED_LIST, N_SPLITS)"
   ]
  },
  {
   "cell_type": "code",
   "execution_count": null,
   "metadata": {
    "_kg_hide-output": true,
    "papermill": {
     "duration": 0.120004,
     "end_time": "2021-02-02T17:27:13.813316",
     "exception": false,
     "start_time": "2021-02-02T17:27:13.693312",
     "status": "completed"
    },
    "tags": []
   },
   "outputs": [],
   "source": [
    "score_xgb"
   ]
  },
  {
   "cell_type": "code",
   "execution_count": null,
   "metadata": {
    "papermill": {
     "duration": 0.195323,
     "end_time": "2021-02-02T17:27:14.167445",
     "exception": false,
     "start_time": "2021-02-02T17:27:13.972122",
     "status": "completed"
    },
    "tags": []
   },
   "outputs": [],
   "source": [
    "score_xgb.loc[score_xgb.fold == \"oof\"]"
   ]
  },
  {
   "cell_type": "code",
   "execution_count": null,
   "metadata": {
    "papermill": {
     "duration": 1.602075,
     "end_time": "2021-02-02T17:27:15.941353",
     "exception": false,
     "start_time": "2021-02-02T17:27:14.339278",
     "status": "completed"
    },
    "tags": []
   },
   "outputs": [],
   "source": [
    "order = list(feat_imps_xgb.groupby(\"feature\").mean().sort_values(\"importance\", ascending=False).index)\n",
    "plt.figure(figsize=(10, 10))\n",
    "sns.barplot(x=\"importance\", y=\"feature\", data=feat_imps_xgb, order=order)\n",
    "plt.title(\"{} importance\".format(\"xgb\"))\n",
    "plt.tight_layout()"
   ]
  },
  {
   "cell_type": "code",
   "execution_count": null,
   "metadata": {},
   "outputs": [],
   "source": [
    "#train = train[(np.abs(stats.zscore(train['target'])) < 3.0)]"
   ]
  },
  {
   "cell_type": "markdown",
   "metadata": {
    "papermill": {
     "duration": 0.106272,
     "end_time": "2021-02-02T17:27:16.155617",
     "exception": false,
     "start_time": "2021-02-02T17:27:16.049345",
     "status": "completed"
    },
    "tags": []
   },
   "source": [
    "### CatBoost"
   ]
  },
  {
   "cell_type": "code",
   "execution_count": null,
   "metadata": {
    "_kg_hide-output": true,
    "papermill": {
     "duration": 533.987245,
     "end_time": "2021-02-02T17:36:10.248988",
     "exception": false,
     "start_time": "2021-02-02T17:27:16.261743",
     "status": "completed"
    },
    "tags": []
   },
   "outputs": [],
   "source": [
    "oof_pred_cat, test_pred_cat, score_cat, feat_imps_cat = run_train_and_inference(\n",
    "    X, X_test, y, \"cat\", MODEL_PARAMS[\"cat\"], TRAIN_PARAMS[\"cat\"], RANDOM_SEED_LIST, N_SPLITS)"
   ]
  },
  {
   "cell_type": "code",
   "execution_count": null,
   "metadata": {
    "_kg_hide-output": true,
    "papermill": {
     "duration": 0.149891,
     "end_time": "2021-02-02T17:36:10.533307",
     "exception": false,
     "start_time": "2021-02-02T17:36:10.383416",
     "status": "completed"
    },
    "tags": []
   },
   "outputs": [],
   "source": [
    "score_cat"
   ]
  },
  {
   "cell_type": "code",
   "execution_count": null,
   "metadata": {
    "papermill": {
     "duration": 0.168279,
     "end_time": "2021-02-02T17:36:10.838158",
     "exception": false,
     "start_time": "2021-02-02T17:36:10.669879",
     "status": "completed"
    },
    "tags": []
   },
   "outputs": [],
   "source": [
    "score_cat.loc[score_cat.fold == \"oof\"]"
   ]
  },
  {
   "cell_type": "code",
   "execution_count": null,
   "metadata": {
    "papermill": {
     "duration": 1.180484,
     "end_time": "2021-02-02T17:36:12.155854",
     "exception": false,
     "start_time": "2021-02-02T17:36:10.975370",
     "status": "completed"
    },
    "tags": []
   },
   "outputs": [],
   "source": [
    "order = list(feat_imps_cat.groupby(\"feature\").mean().sort_values(\"importance\", ascending=False).index)\n",
    "plt.figure(figsize=(10, 10))\n",
    "sns.barplot(x=\"importance\", y=\"feature\", data=feat_imps_cat, order=order)\n",
    "plt.title(\"{} importance\".format(\"cat\"))\n",
    "plt.tight_layout()"
   ]
  },
  {
   "cell_type": "markdown",
   "metadata": {
    "papermill": {
     "duration": 0.138476,
     "end_time": "2021-02-02T17:36:12.434254",
     "exception": false,
     "start_time": "2021-02-02T17:36:12.295778",
     "status": "completed"
    },
    "tags": []
   },
   "source": [
    "### Ensemble LGB, XGB, Cat"
   ]
  },
  {
   "cell_type": "markdown",
   "metadata": {
    "papermill": {
     "duration": 0.140349,
     "end_time": "2021-02-02T17:36:12.714554",
     "exception": false,
     "start_time": "2021-02-02T17:36:12.574205",
     "status": "completed"
    },
    "tags": []
   },
   "source": [
    "### check correlation"
   ]
  },
  {
   "cell_type": "code",
   "execution_count": null,
   "metadata": {
    "papermill": {
     "duration": 0.253705,
     "end_time": "2021-02-02T17:36:13.190024",
     "exception": false,
     "start_time": "2021-02-02T17:36:12.936319",
     "status": "completed"
    },
    "tags": []
   },
   "outputs": [],
   "source": [
    "model_names = [\"lgb\", \"xgb\", \"cat\"]"
   ]
  },
  {
   "cell_type": "code",
   "execution_count": null,
   "metadata": {
    "papermill": {
     "duration": 0.542967,
     "end_time": "2021-02-02T17:36:14.031015",
     "exception": false,
     "start_time": "2021-02-02T17:36:13.488048",
     "status": "completed"
    },
    "tags": []
   },
   "outputs": [],
   "source": [
    "# # prediction for oof\n",
    "pd.DataFrame(\n",
    "    np.corrcoef([\n",
    "        oof_pred_lgb,\n",
    "        oof_pred_xgb,\n",
    "        oof_pred_cat\n",
    "    ]),\n",
    "    columns=model_names, index=model_names)"
   ]
  },
  {
   "cell_type": "code",
   "execution_count": null,
   "metadata": {
    "papermill": {
     "duration": 0.154826,
     "end_time": "2021-02-02T17:36:14.396587",
     "exception": false,
     "start_time": "2021-02-02T17:36:14.241761",
     "status": "completed"
    },
    "tags": []
   },
   "outputs": [],
   "source": [
    "# # prediction for test\n",
    "pd.DataFrame(\n",
    "    np.corrcoef([\n",
    "        test_pred_lgb,\n",
    "        test_pred_xgb,\n",
    "        test_pred_cat\n",
    "    ]),\n",
    "    columns=model_names, index=model_names)"
   ]
  },
  {
   "cell_type": "markdown",
   "metadata": {
    "papermill": {
     "duration": 0.138992,
     "end_time": "2021-02-02T17:36:14.676629",
     "exception": false,
     "start_time": "2021-02-02T17:36:14.537637",
     "status": "completed"
    },
    "tags": []
   },
   "source": [
    "### simple averaging"
   ]
  },
  {
   "cell_type": "code",
   "execution_count": null,
   "metadata": {
    "papermill": {
     "duration": 0.149983,
     "end_time": "2021-02-02T17:36:14.963914",
     "exception": false,
     "start_time": "2021-02-02T17:36:14.813931",
     "status": "completed"
    },
    "tags": []
   },
   "outputs": [],
   "source": [
    "oof_pred_avg = (oof_pred_lgb + oof_pred_xgb + oof_pred_cat) / 3\n",
    "oof_score_avg = mean_squared_error(y, oof_pred_avg, squared=False)\n",
    "\n",
    "print(f\"oof score avg: {oof_score_avg:.5f}\")"
   ]
  },
  {
   "cell_type": "code",
   "execution_count": null,
   "metadata": {
    "papermill": {
     "duration": 0.145606,
     "end_time": "2021-02-02T17:36:15.246613",
     "exception": false,
     "start_time": "2021-02-02T17:36:15.101007",
     "status": "completed"
    },
    "tags": []
   },
   "outputs": [],
   "source": [
    "test_pred_avg = (test_pred_lgb + test_pred_xgb + test_pred_cat) / 3"
   ]
  },
  {
   "cell_type": "markdown",
   "metadata": {
    "papermill": {
     "duration": 0.138831,
     "end_time": "2021-02-02T17:36:15.522539",
     "exception": false,
     "start_time": "2021-02-02T17:36:15.383708",
     "status": "completed"
    },
    "tags": []
   },
   "source": [
    "### weighted averaging"
   ]
  },
  {
   "cell_type": "code",
   "execution_count": null,
   "metadata": {},
   "outputs": [],
   "source": [
    "def multichoose(n,k):\n",
    "    if k < 0 or n < 0: return \"Error\"\n",
    "    if not k: return [[0]*n]\n",
    "    if not n: return []\n",
    "    if n == 1: return [[k]]\n",
    "    return [[0]+val for val in multichoose(n-1,k)] + \\\n",
    "        [[val[0]+1]+val[1:] for val in multichoose(n,k-1)]"
   ]
  },
  {
   "cell_type": "code",
   "execution_count": null,
   "metadata": {},
   "outputs": [],
   "source": [
    "weights_cluster = np.array(multichoose(3,10))/10\n",
    "print(weights_cluster)\n",
    "for w in weights_cluster:\n",
    "    print(w)"
   ]
  },
  {
   "cell_type": "code",
   "execution_count": null,
   "metadata": {},
   "outputs": [],
   "source": [
    "lowest_score = 100\n",
    "lowest_weight = []\n",
    "\n",
    "#print((np.array(multichoose(3,50))/50))\n",
    "\n",
    "for weights in (np.array(multichoose(3,100))/100):\n",
    "    #print(weights)\n",
    "    oof_pred_wavg = weights[0] * oof_pred_lgb + weights[1] * oof_pred_xgb + weights[2] * oof_pred_cat\n",
    "    oof_score_wavg = mean_squared_error(y, oof_pred_wavg, squared=False)\n",
    "    #print(f\"oof score weighted avg: {oof_score_wavg}\")\n",
    "    if lowest_score > oof_score_wavg:\n",
    "        lowest_score = oof_score_wavg\n",
    "        lowest_weight = weights\n",
    "\n",
    "print(f\"lowest Weight = {lowest_weight}\")"
   ]
  },
  {
   "cell_type": "code",
   "execution_count": null,
   "metadata": {
    "papermill": {
     "duration": 0.145087,
     "end_time": "2021-02-02T17:36:15.806332",
     "exception": false,
     "start_time": "2021-02-02T17:36:15.661245",
     "status": "completed"
    },
    "tags": []
   },
   "outputs": [],
   "source": [
    "weights = lowest_weight"
   ]
  },
  {
   "cell_type": "code",
   "execution_count": null,
   "metadata": {
    "papermill": {
     "duration": 0.150213,
     "end_time": "2021-02-02T17:36:16.096281",
     "exception": false,
     "start_time": "2021-02-02T17:36:15.946068",
     "status": "completed"
    },
    "tags": []
   },
   "outputs": [],
   "source": [
    "oof_pred_wavg = weights[0] * oof_pred_lgb + weights[1] * oof_pred_xgb + weights[2] * oof_pred_cat\n",
    "oof_score_wavg = mean_squared_error(y, oof_pred_wavg, squared=False)\n",
    "\n",
    "print(f\"oof score weighted avg: {oof_score_wavg:.5f}\")"
   ]
  },
  {
   "cell_type": "code",
   "execution_count": null,
   "metadata": {
    "papermill": {
     "duration": 0.146281,
     "end_time": "2021-02-02T17:36:16.380687",
     "exception": false,
     "start_time": "2021-02-02T17:36:16.234406",
     "status": "completed"
    },
    "tags": []
   },
   "outputs": [],
   "source": [
    "test_pred_wavg = weights[0] * test_pred_lgb + weights[1] * test_pred_xgb + weights[2] * test_pred_cat"
   ]
  },
  {
   "cell_type": "markdown",
   "metadata": {
    "papermill": {
     "duration": 0.138098,
     "end_time": "2021-02-02T17:36:16.656749",
     "exception": false,
     "start_time": "2021-02-02T17:36:16.518651",
     "status": "completed"
    },
    "tags": []
   },
   "source": [
    "## Make submission"
   ]
  },
  {
   "cell_type": "code",
   "execution_count": null,
   "metadata": {
    "papermill": {
     "duration": 1.060621,
     "end_time": "2021-02-02T17:36:17.856840",
     "exception": false,
     "start_time": "2021-02-02T17:36:16.796219",
     "status": "completed"
    },
    "tags": []
   },
   "outputs": [],
   "source": [
    "sub = smpl_sub.copy()\n",
    "# sub[TGT_COL] = test_pred_avg\n",
    "sub[TGT_COL] = test_pred_wavg\n",
    "\n",
    "\n",
    "from datetime import datetime\n",
    "dt_string = datetime.now().strftime(\"%d-%m-%Y_%H-%M-%S\")\n",
    "\n",
    "sub.to_csv(f'..\\\\kaggle_data\\\\{dt_string}_submission.csv', index=False)\n",
    "\n",
    "\n",
    "\n",
    "sub.head()"
   ]
  },
  {
   "cell_type": "code",
   "execution_count": null,
   "metadata": {
    "papermill": {
     "duration": 0.139068,
     "end_time": "2021-02-02T17:36:18.137061",
     "exception": false,
     "start_time": "2021-02-02T17:36:17.997993",
     "status": "completed"
    },
    "tags": []
   },
   "outputs": [],
   "source": []
  },
  {
   "cell_type": "code",
   "execution_count": null,
   "metadata": {},
   "outputs": [],
   "source": []
  }
 ],
 "metadata": {
  "kernelspec": {
   "display_name": "Python 3",
   "language": "python",
   "name": "python3"
  },
  "language_info": {
   "codemirror_mode": {
    "name": "ipython",
    "version": 3
   },
   "file_extension": ".py",
   "mimetype": "text/x-python",
   "name": "python",
   "nbconvert_exporter": "python",
   "pygments_lexer": "ipython3",
   "version": "3.7.5"
  },
  "papermill": {
   "duration": 1743.446187,
   "end_time": "2021-02-02T17:36:19.672708",
   "environment_variables": {},
   "exception": null,
   "input_path": "__notebook__.ipynb",
   "output_path": "__notebook__.ipynb",
   "parameters": {},
   "start_time": "2021-02-02T17:07:16.226521",
   "version": "2.1.0"
  }
 },
 "nbformat": 4,
 "nbformat_minor": 4
}
