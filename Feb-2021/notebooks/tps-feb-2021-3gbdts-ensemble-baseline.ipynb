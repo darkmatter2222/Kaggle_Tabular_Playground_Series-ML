{
 "cells": [
  {
   "cell_type": "markdown",
   "metadata": {
    "papermill": {
     "duration": 0.028477,
     "end_time": "2021-02-02T17:07:20.622976",
     "exception": false,
     "start_time": "2021-02-02T17:07:20.594499",
     "status": "completed"
    },
    "tags": []
   },
   "source": [
    "# About\n",
    "\n",
    "I reused my notebook in Tabular Playground Series - Jan 2021:  \n",
    "https://www.kaggle.com/ttahara/tps-jan-2021-gbdts-baseline\n",
    "\n",
    "<br>\n",
    "\n",
    "* GBDT Models baseline\n",
    "    * LightGBM, XGBoost, CatBoost\n",
    "    * each model is trained by 5 folds cross validation \n",
    "\n",
    "\n",
    "* feature engineering\n",
    "    * **label-encoding** for category features\n",
    "    * no feature engineering for continuous features\n",
    "\n",
    "\n",
    "* inference test by weighted averaging 3 GBDT Models(5 folds averaging)\n",
    "\n",
    "<br>\n",
    "\n",
    "There is a lot of room for improvement such as feature engineering, parameter tuning, other models, and so on. enjoy ;) \n"
   ]
  },
  {
   "cell_type": "markdown",
   "metadata": {
    "papermill": {
     "duration": 0.027735,
     "end_time": "2021-02-02T17:07:20.678131",
     "exception": false,
     "start_time": "2021-02-02T17:07:20.650396",
     "status": "completed"
    },
    "tags": []
   },
   "source": [
    "# Prepare"
   ]
  },
  {
   "cell_type": "markdown",
   "metadata": {
    "papermill": {
     "duration": 0.026941,
     "end_time": "2021-02-02T17:07:20.732932",
     "exception": false,
     "start_time": "2021-02-02T17:07:20.705991",
     "status": "completed"
    },
    "tags": []
   },
   "source": [
    "## import libraries"
   ]
  },
  {
   "cell_type": "code",
   "execution_count": 22,
   "metadata": {
    "_cell_guid": "b1076dfc-b9ad-4769-8c92-a6c4dae69d19",
    "_uuid": "8f2839f25d086af736a60e9eeb907d3b93b6e0e5",
    "papermill": {
     "duration": 6.620461,
     "end_time": "2021-02-02T17:07:27.380441",
     "exception": false,
     "start_time": "2021-02-02T17:07:20.759980",
     "status": "completed"
    },
    "tags": []
   },
   "outputs": [],
   "source": [
    "import os\n",
    "import sys\n",
    "import time\n",
    "import random\n",
    "import logging\n",
    "import typing as tp\n",
    "from pathlib import Path\n",
    "from contextlib import contextmanager\n",
    "\n",
    "from matplotlib import pyplot as plt\n",
    "import seaborn as sns\n",
    "\n",
    "import numpy as np\n",
    "import pandas as pd\n",
    "\n",
    "import category_encoders as ce\n",
    "from sklearn.model_selection import KFold\n",
    "from sklearn.metrics import mean_squared_log_error, mean_squared_error\n",
    "\n",
    "import xgboost as xgb\n",
    "import lightgbm as lgb\n",
    "from catboost import CatBoost, Pool\n",
    "import numpy as np\n",
    "import pandas as pd\n",
    "import matplotlib.pyplot as plt\n",
    "import seaborn as sns\n",
    "from scipy import stats\n",
    "\n",
    "%matplotlib inline"
   ]
  },
  {
   "cell_type": "code",
   "execution_count": 23,
   "metadata": {
    "papermill": {
     "duration": 0.042262,
     "end_time": "2021-02-02T17:07:27.451820",
     "exception": false,
     "start_time": "2021-02-02T17:07:27.409558",
     "status": "completed"
    },
    "tags": []
   },
   "outputs": [
    {
     "data": {
      "text/plain": [
       "7.930737337562887"
      ]
     },
     "execution_count": 23,
     "metadata": {},
     "output_type": "execute_result"
    }
   ],
   "source": [
    "np.log2(244)"
   ]
  },
  {
   "cell_type": "markdown",
   "metadata": {
    "papermill": {
     "duration": 0.028925,
     "end_time": "2021-02-02T17:07:27.546542",
     "exception": false,
     "start_time": "2021-02-02T17:07:27.517617",
     "status": "completed"
    },
    "tags": []
   },
   "source": [
    "## read data"
   ]
  },
  {
   "cell_type": "code",
   "execution_count": null,
   "metadata": {
    "_cell_guid": "79c7e3d0-c299-4dcb-8224-4455121ee9b0",
    "_uuid": "d629ff2d2480ee46fbb7e2d37f6b5fab8052498a",
    "papermill": {
     "duration": 0.04013,
     "end_time": "2021-02-02T17:07:27.615027",
     "exception": false,
     "start_time": "2021-02-02T17:07:27.574897",
     "status": "completed"
    },
    "tags": []
   },
   "outputs": [],
   "source": []
  },
  {
   "cell_type": "code",
   "execution_count": 25,
   "metadata": {
    "papermill": {
     "duration": 3.54189,
     "end_time": "2021-02-02T17:07:31.185864",
     "exception": false,
     "start_time": "2021-02-02T17:07:27.643974",
     "status": "completed"
    },
    "tags": []
   },
   "outputs": [
    {
     "name": "stdout",
     "output_type": "stream",
     "text": [
      "train: (300000, 26), test: (200000, 25), sample sub: (200000, 2)\n"
     ]
    }
   ],
   "source": [
    "train = pd.read_csv('..\\\\kaggle_data\\\\train.csv')\n",
    "test = pd.read_csv('..\\\\kaggle_data\\\\test.csv')\n",
    "smpl_sub = pd.read_csv('..\\\\kaggle_data\\\\sample_submission.csv')\n",
    "print(\"train: {}, test: {}, sample sub: {}\".format(\n",
    "    train.shape, test.shape, smpl_sub.shape\n",
    "))"
   ]
  },
  {
   "cell_type": "code",
   "execution_count": 7,
   "metadata": {},
   "outputs": [],
   "source": [
    "train = train2[(np.abs(stats.zscore(train2['target'])) < 3.0)]"
   ]
  },
  {
   "cell_type": "code",
   "execution_count": 26,
   "metadata": {
    "papermill": {
     "duration": 0.05237,
     "end_time": "2021-02-02T17:07:31.267724",
     "exception": false,
     "start_time": "2021-02-02T17:07:31.215354",
     "status": "completed"
    },
    "tags": []
   },
   "outputs": [
    {
     "data": {
      "text/html": [
       "<div>\n",
       "<style scoped>\n",
       "    .dataframe tbody tr th:only-of-type {\n",
       "        vertical-align: middle;\n",
       "    }\n",
       "\n",
       "    .dataframe tbody tr th {\n",
       "        vertical-align: top;\n",
       "    }\n",
       "\n",
       "    .dataframe thead th {\n",
       "        text-align: right;\n",
       "    }\n",
       "</style>\n",
       "<table border=\"1\" class=\"dataframe\">\n",
       "  <thead>\n",
       "    <tr style=\"text-align: right;\">\n",
       "      <th></th>\n",
       "      <th>0</th>\n",
       "      <th>1</th>\n",
       "      <th>2</th>\n",
       "      <th>3</th>\n",
       "      <th>4</th>\n",
       "    </tr>\n",
       "  </thead>\n",
       "  <tbody>\n",
       "    <tr>\n",
       "      <th>id</th>\n",
       "      <td>1</td>\n",
       "      <td>2</td>\n",
       "      <td>3</td>\n",
       "      <td>4</td>\n",
       "      <td>6</td>\n",
       "    </tr>\n",
       "    <tr>\n",
       "      <th>cat0</th>\n",
       "      <td>A</td>\n",
       "      <td>B</td>\n",
       "      <td>A</td>\n",
       "      <td>A</td>\n",
       "      <td>A</td>\n",
       "    </tr>\n",
       "    <tr>\n",
       "      <th>cat1</th>\n",
       "      <td>B</td>\n",
       "      <td>A</td>\n",
       "      <td>A</td>\n",
       "      <td>A</td>\n",
       "      <td>B</td>\n",
       "    </tr>\n",
       "    <tr>\n",
       "      <th>cat2</th>\n",
       "      <td>A</td>\n",
       "      <td>A</td>\n",
       "      <td>A</td>\n",
       "      <td>A</td>\n",
       "      <td>A</td>\n",
       "    </tr>\n",
       "    <tr>\n",
       "      <th>cat3</th>\n",
       "      <td>A</td>\n",
       "      <td>A</td>\n",
       "      <td>C</td>\n",
       "      <td>C</td>\n",
       "      <td>A</td>\n",
       "    </tr>\n",
       "    <tr>\n",
       "      <th>cat4</th>\n",
       "      <td>B</td>\n",
       "      <td>B</td>\n",
       "      <td>B</td>\n",
       "      <td>B</td>\n",
       "      <td>B</td>\n",
       "    </tr>\n",
       "    <tr>\n",
       "      <th>cat5</th>\n",
       "      <td>D</td>\n",
       "      <td>B</td>\n",
       "      <td>D</td>\n",
       "      <td>D</td>\n",
       "      <td>B</td>\n",
       "    </tr>\n",
       "    <tr>\n",
       "      <th>cat6</th>\n",
       "      <td>A</td>\n",
       "      <td>A</td>\n",
       "      <td>A</td>\n",
       "      <td>A</td>\n",
       "      <td>A</td>\n",
       "    </tr>\n",
       "    <tr>\n",
       "      <th>cat7</th>\n",
       "      <td>E</td>\n",
       "      <td>E</td>\n",
       "      <td>B</td>\n",
       "      <td>E</td>\n",
       "      <td>E</td>\n",
       "    </tr>\n",
       "    <tr>\n",
       "      <th>cat8</th>\n",
       "      <td>C</td>\n",
       "      <td>A</td>\n",
       "      <td>C</td>\n",
       "      <td>G</td>\n",
       "      <td>C</td>\n",
       "    </tr>\n",
       "    <tr>\n",
       "      <th>cat9</th>\n",
       "      <td>I</td>\n",
       "      <td>F</td>\n",
       "      <td>N</td>\n",
       "      <td>K</td>\n",
       "      <td>F</td>\n",
       "    </tr>\n",
       "    <tr>\n",
       "      <th>cont0</th>\n",
       "      <td>0.923191</td>\n",
       "      <td>0.437627</td>\n",
       "      <td>0.732209</td>\n",
       "      <td>0.705142</td>\n",
       "      <td>0.486063</td>\n",
       "    </tr>\n",
       "    <tr>\n",
       "      <th>cont1</th>\n",
       "      <td>0.684968</td>\n",
       "      <td>0.014213</td>\n",
       "      <td>0.760122</td>\n",
       "      <td>0.771678</td>\n",
       "      <td>0.639349</td>\n",
       "    </tr>\n",
       "    <tr>\n",
       "      <th>cont2</th>\n",
       "      <td>0.124454</td>\n",
       "      <td>0.357438</td>\n",
       "      <td>0.454644</td>\n",
       "      <td>0.153735</td>\n",
       "      <td>0.496212</td>\n",
       "    </tr>\n",
       "    <tr>\n",
       "      <th>cont3</th>\n",
       "      <td>0.217886</td>\n",
       "      <td>0.846127</td>\n",
       "      <td>0.812990</td>\n",
       "      <td>0.732893</td>\n",
       "      <td>0.354186</td>\n",
       "    </tr>\n",
       "    <tr>\n",
       "      <th>cont4</th>\n",
       "      <td>0.281421</td>\n",
       "      <td>0.282354</td>\n",
       "      <td>0.293756</td>\n",
       "      <td>0.769785</td>\n",
       "      <td>0.279105</td>\n",
       "    </tr>\n",
       "    <tr>\n",
       "      <th>cont5</th>\n",
       "      <td>0.881122</td>\n",
       "      <td>0.440011</td>\n",
       "      <td>0.914155</td>\n",
       "      <td>0.934138</td>\n",
       "      <td>0.382600</td>\n",
       "    </tr>\n",
       "    <tr>\n",
       "      <th>cont6</th>\n",
       "      <td>0.421650</td>\n",
       "      <td>0.346230</td>\n",
       "      <td>0.369602</td>\n",
       "      <td>0.578930</td>\n",
       "      <td>0.705940</td>\n",
       "    </tr>\n",
       "    <tr>\n",
       "      <th>cont7</th>\n",
       "      <td>0.741413</td>\n",
       "      <td>0.278495</td>\n",
       "      <td>0.832564</td>\n",
       "      <td>0.407313</td>\n",
       "      <td>0.325193</td>\n",
       "    </tr>\n",
       "    <tr>\n",
       "      <th>cont8</th>\n",
       "      <td>0.895799</td>\n",
       "      <td>0.593413</td>\n",
       "      <td>0.865620</td>\n",
       "      <td>0.868099</td>\n",
       "      <td>0.440967</td>\n",
       "    </tr>\n",
       "    <tr>\n",
       "      <th>cont9</th>\n",
       "      <td>0.802461</td>\n",
       "      <td>0.546056</td>\n",
       "      <td>0.825251</td>\n",
       "      <td>0.794402</td>\n",
       "      <td>0.462146</td>\n",
       "    </tr>\n",
       "    <tr>\n",
       "      <th>cont10</th>\n",
       "      <td>0.724417</td>\n",
       "      <td>0.613252</td>\n",
       "      <td>0.264104</td>\n",
       "      <td>0.494269</td>\n",
       "      <td>0.724447</td>\n",
       "    </tr>\n",
       "    <tr>\n",
       "      <th>cont11</th>\n",
       "      <td>0.701915</td>\n",
       "      <td>0.741289</td>\n",
       "      <td>0.695561</td>\n",
       "      <td>0.698125</td>\n",
       "      <td>0.683073</td>\n",
       "    </tr>\n",
       "    <tr>\n",
       "      <th>cont12</th>\n",
       "      <td>0.877618</td>\n",
       "      <td>0.326679</td>\n",
       "      <td>0.869133</td>\n",
       "      <td>0.809799</td>\n",
       "      <td>0.343457</td>\n",
       "    </tr>\n",
       "    <tr>\n",
       "      <th>cont13</th>\n",
       "      <td>0.719903</td>\n",
       "      <td>0.808464</td>\n",
       "      <td>0.828352</td>\n",
       "      <td>0.614766</td>\n",
       "      <td>0.297743</td>\n",
       "    </tr>\n",
       "    <tr>\n",
       "      <th>target</th>\n",
       "      <td>6.994023</td>\n",
       "      <td>8.071256</td>\n",
       "      <td>5.760456</td>\n",
       "      <td>7.806457</td>\n",
       "      <td>6.868974</td>\n",
       "    </tr>\n",
       "  </tbody>\n",
       "</table>\n",
       "</div>"
      ],
      "text/plain": [
       "               0         1         2         3         4\n",
       "id             1         2         3         4         6\n",
       "cat0           A         B         A         A         A\n",
       "cat1           B         A         A         A         B\n",
       "cat2           A         A         A         A         A\n",
       "cat3           A         A         C         C         A\n",
       "cat4           B         B         B         B         B\n",
       "cat5           D         B         D         D         B\n",
       "cat6           A         A         A         A         A\n",
       "cat7           E         E         B         E         E\n",
       "cat8           C         A         C         G         C\n",
       "cat9           I         F         N         K         F\n",
       "cont0   0.923191  0.437627  0.732209  0.705142  0.486063\n",
       "cont1   0.684968  0.014213  0.760122  0.771678  0.639349\n",
       "cont2   0.124454  0.357438  0.454644  0.153735  0.496212\n",
       "cont3   0.217886  0.846127  0.812990  0.732893  0.354186\n",
       "cont4   0.281421  0.282354  0.293756  0.769785  0.279105\n",
       "cont5   0.881122  0.440011  0.914155  0.934138  0.382600\n",
       "cont6   0.421650  0.346230  0.369602  0.578930  0.705940\n",
       "cont7   0.741413  0.278495  0.832564  0.407313  0.325193\n",
       "cont8   0.895799  0.593413  0.865620  0.868099  0.440967\n",
       "cont9   0.802461  0.546056  0.825251  0.794402  0.462146\n",
       "cont10  0.724417  0.613252  0.264104  0.494269  0.724447\n",
       "cont11  0.701915  0.741289  0.695561  0.698125  0.683073\n",
       "cont12  0.877618  0.326679  0.869133  0.809799  0.343457\n",
       "cont13  0.719903  0.808464  0.828352  0.614766  0.297743\n",
       "target  6.994023  8.071256  5.760456  7.806457  6.868974"
      ]
     },
     "execution_count": 26,
     "metadata": {},
     "output_type": "execute_result"
    }
   ],
   "source": [
    "train.head().T"
   ]
  },
  {
   "cell_type": "markdown",
   "metadata": {
    "papermill": {
     "duration": 0.029912,
     "end_time": "2021-02-02T17:07:31.328217",
     "exception": false,
     "start_time": "2021-02-02T17:07:31.298305",
     "status": "completed"
    },
    "tags": []
   },
   "source": [
    "## Definition"
   ]
  },
  {
   "cell_type": "code",
   "execution_count": 27,
   "metadata": {
    "papermill": {
     "duration": 0.040287,
     "end_time": "2021-02-02T17:07:31.398346",
     "exception": false,
     "start_time": "2021-02-02T17:07:31.358059",
     "status": "completed"
    },
    "tags": []
   },
   "outputs": [],
   "source": [
    "@contextmanager\n",
    "def timer(logger=None, format_str='{:.3f}[s]', prefix=None, suffix=None):\n",
    "    if prefix: format_str = str(prefix) + format_str\n",
    "    if suffix: format_str = format_str + str(suffix)\n",
    "    start = time.time()\n",
    "    yield\n",
    "    d = time.time() - start\n",
    "    out_str = format_str.format(d)\n",
    "    if logger:\n",
    "        logger.info(out_str)\n",
    "    else:\n",
    "        print(out_str)"
   ]
  },
  {
   "cell_type": "code",
   "execution_count": 28,
   "metadata": {
    "papermill": {
     "duration": 0.056535,
     "end_time": "2021-02-02T17:07:31.484670",
     "exception": false,
     "start_time": "2021-02-02T17:07:31.428135",
     "status": "completed"
    },
    "tags": []
   },
   "outputs": [],
   "source": [
    "class TreeModel:\n",
    "    \"\"\"Wrapper for LightGBM/XGBoost/CATBoost\"\"\"\n",
    "    def __init__(self, model_type: str):\n",
    "        self.model_type = model_type\n",
    "        self.trn_data = None\n",
    "        self.val_data = None\n",
    "        self.model = None\n",
    "\n",
    "    def train(self,\n",
    "              params: dict,\n",
    "              X_train: pd.DataFrame, y_train: np.ndarray,\n",
    "              X_val: pd.DataFrame, y_val: np.ndarray,\n",
    "              train_weight: tp.Optional[np.ndarray] = None,\n",
    "              val_weight: tp.Optional[np.ndarray] = None,\n",
    "              train_params: dict = None,\n",
    "              cat_cols: list = None,\n",
    "            ):\n",
    "        if self.model_type == \"lgb\":\n",
    "            self.trn_data = lgb.Dataset(X_train, label=y_train, weight=train_weight)\n",
    "            self.val_data = lgb.Dataset(X_val, label=y_val, weight=val_weight)\n",
    "            self.model = lgb.train(params=params,\n",
    "                                   train_set=self.trn_data,\n",
    "                                   valid_sets=[self.trn_data, self.val_data],\n",
    "                                   **train_params)\n",
    "        elif self.model_type == \"xgb\":\n",
    "            self.trn_data = xgb.DMatrix(X_train, y_train, weight=train_weight)\n",
    "            self.val_data = xgb.DMatrix(X_val, y_val, weight=val_weight)\n",
    "            self.model = xgb.train(params=params,\n",
    "                                   dtrain=self.trn_data,\n",
    "                                   evals=[(self.trn_data, \"train\"), (self.val_data, \"val\")],\n",
    "                                   **train_params)\n",
    "        elif self.model_type == \"cat\":\n",
    "            self.trn_data = Pool(\n",
    "                X_train, label=y_train, cat_features=cat_cols)  #, group_id=[0] * len(X_train))\n",
    "            self.val_data = Pool(\n",
    "                X_val, label=y_val, cat_features=cat_cols)  #, group_id=[0] * len(X_val))\n",
    "            self.model = CatBoost(params)\n",
    "            self.model.fit(\n",
    "                self.trn_data, eval_set=[self.val_data], use_best_model=True, **train_params)\n",
    "        else:\n",
    "            raise NotImplementedError\n",
    "\n",
    "    def predict(self, X: pd.DataFrame):\n",
    "        if self.model_type == \"lgb\":\n",
    "            return self.model.predict(\n",
    "                X, num_iteration=self.model.best_iteration)  # type: ignore\n",
    "        elif self.model_type == \"xgb\":\n",
    "            X_DM = xgb.DMatrix(X)\n",
    "            return self.model.predict(\n",
    "                X_DM, ntree_limit=self.model.best_ntree_limit)  # type: ignore\n",
    "        elif self.model_type == \"cat\":\n",
    "            return self.model.predict(X)\n",
    "        else:\n",
    "            raise NotImplementedError\n",
    "\n",
    "    @property\n",
    "    def feature_names_(self):\n",
    "        if self.model_type == \"lgb\":\n",
    "            return self.model.feature_name()\n",
    "        elif self.model_type == \"xgb\":\n",
    "            return list(self.model.get_score(importance_type=\"gain\").keys())\n",
    "        elif self.model_type == \"cat\":\n",
    "             return self.model.feature_names_\n",
    "        else:\n",
    "            raise NotImplementedError\n",
    "\n",
    "    @property\n",
    "    def feature_importances_(self):\n",
    "        if self.model_type == \"lgb\":\n",
    "            return self.model.feature_importance(importance_type=\"gain\")\n",
    "        elif self.model_type == \"xgb\":\n",
    "            return list(self.model.get_score(importance_type=\"gain\").values())\n",
    "        elif self.model_type == \"cat\":\n",
    "            return self.model.feature_importances_\n",
    "        else:\n",
    "            raise NotImplementedError"
   ]
  },
  {
   "cell_type": "markdown",
   "metadata": {
    "papermill": {
     "duration": 0.029637,
     "end_time": "2021-02-02T17:07:31.544482",
     "exception": false,
     "start_time": "2021-02-02T17:07:31.514845",
     "status": "completed"
    },
    "tags": []
   },
   "source": [
    "# Training & Inference"
   ]
  },
  {
   "cell_type": "markdown",
   "metadata": {
    "papermill": {
     "duration": 0.030239,
     "end_time": "2021-02-02T17:07:31.604595",
     "exception": false,
     "start_time": "2021-02-02T17:07:31.574356",
     "status": "completed"
    },
    "tags": []
   },
   "source": [
    "## Config "
   ]
  },
  {
   "cell_type": "code",
   "execution_count": 29,
   "metadata": {
    "papermill": {
     "duration": 0.04739,
     "end_time": "2021-02-02T17:07:31.682653",
     "exception": false,
     "start_time": "2021-02-02T17:07:31.635263",
     "status": "completed"
    },
    "tags": []
   },
   "outputs": [],
   "source": [
    "ID_COL = \"id\"\n",
    "CAT_COLS= [f\"cat{i}\" for i in range(10)]\n",
    "CONT_COLS = [f\"cont{i}\" for i in range(14)]\n",
    "TGT_COL = \"target\"\n",
    "\n",
    "N_SPLITS = 5\n",
    "RANDOM_SEED_LIST = [\n",
    "    42,\n",
    "#     2021, 0, 1086, 39\n",
    "]\n",
    "\n",
    "MODEL_PARAMS = {\n",
    "    \"lgb\": {\n",
    "        \"objective\": \"root_mean_squared_error\",\n",
    "        \"boosting\": \"gbdt\",\n",
    "        \"max_depth\": 8,\n",
    "        \"learning_rate\": 0.01,\n",
    "        \"colsample_bytree\": 0.4,\n",
    "        \"subsample\": 0.6,\n",
    "        \"subsample_freq\": 6,\n",
    "        \"reg_alpha\": 6,\n",
    "        \"min_data_in_leaf\": 100,\n",
    "        \"n_jobs\": 2,\n",
    "        \"seed\": RANDOM_SEED_LIST[0],\n",
    "        # \"device\": \"gpu\",\n",
    "        # \"gpu_device_id\": 0\n",
    "    },\n",
    "    \"xgb\": {\n",
    "        \"objective\": \"reg:squarederror\",\n",
    "        \"max_depth\": 6,\n",
    "        \"learning_rate\": 0.01,\n",
    "        \"colsample_bytree\": 0.4,\n",
    "        \"subsample\": 0.6,\n",
    "        \"reg_alpha\" : 6,\n",
    "        \"min_child_weight\": 100,\n",
    "        \"n_jobs\": 2,\n",
    "        \"seed\": RANDOM_SEED_LIST[0],\n",
    "        'tree_method': \"gpu_hist\",\n",
    "        \"gpu_id\": 0,\n",
    "    },\n",
    "    \"cat\": {\n",
    "        'loss_function': 'RMSE',\n",
    "        \"max_depth\": 4,\n",
    "        'learning_rate': 0.05,\n",
    "        \"colsample_bylevel\": 0.4,\n",
    "        \"subsample\": 0.6,\n",
    "        \"min_child_samples\": 100, \n",
    "        'random_state': RANDOM_SEED_LIST[0],\n",
    "        \"thread_count\": 2,\n",
    "#         \"task_type\": \"GPU\",\n",
    "#         \"devices\" : \"0\",\n",
    "        'num_boost_round': 20000,\n",
    "    }\n",
    "}\n",
    "TRAIN_PARAMS = {\n",
    "    \"lgb\": {\n",
    "        \"num_boost_round\": 20000,\n",
    "        \"early_stopping_rounds\": 200,\n",
    "        \"verbose_eval\": 200,\n",
    "    },\n",
    "    \"xgb\": {\n",
    "        \"num_boost_round\": 20000,\n",
    "        \"early_stopping_rounds\": 200,\n",
    "        \"verbose_eval\":  200,\n",
    "    },\n",
    "    \"cat\": {\n",
    "        'early_stopping_rounds': 200,\n",
    "        'verbose_eval': 200,\n",
    "    }\n",
    "}"
   ]
  },
  {
   "cell_type": "markdown",
   "metadata": {
    "papermill": {
     "duration": 0.0303,
     "end_time": "2021-02-02T17:07:31.743687",
     "exception": false,
     "start_time": "2021-02-02T17:07:31.713387",
     "status": "completed"
    },
    "tags": []
   },
   "source": [
    "## Feature Engineering"
   ]
  },
  {
   "cell_type": "code",
   "execution_count": 30,
   "metadata": {
    "papermill": {
     "duration": 0.047997,
     "end_time": "2021-02-02T17:07:31.822058",
     "exception": false,
     "start_time": "2021-02-02T17:07:31.774061",
     "status": "completed"
    },
    "tags": []
   },
   "outputs": [],
   "source": [
    "use_feat_cols = []\n",
    "train_feat = train[[ID_COL]].copy()\n",
    "test_feat = test[[ID_COL]].copy()"
   ]
  },
  {
   "cell_type": "markdown",
   "metadata": {
    "papermill": {
     "duration": 0.030012,
     "end_time": "2021-02-02T17:07:31.884167",
     "exception": false,
     "start_time": "2021-02-02T17:07:31.854155",
     "status": "completed"
    },
    "tags": []
   },
   "source": [
    "### for categorical features\n",
    "\n",
    "apply label encoding using [`category_encoders.OrdinalEncoder`](https://contrib.scikit-learn.org/category_encoders/ordinal.html)"
   ]
  },
  {
   "cell_type": "code",
   "execution_count": 31,
   "metadata": {
    "papermill": {
     "duration": 1.191358,
     "end_time": "2021-02-02T17:07:33.106214",
     "exception": false,
     "start_time": "2021-02-02T17:07:31.914856",
     "status": "completed"
    },
    "tags": []
   },
   "outputs": [
    {
     "name": "stderr",
     "output_type": "stream",
     "text": [
      "c:\\users\\ryans\\source\\repos\\venvs\\python375\\lib\\site-packages\\category_encoders\\utils.py:21: FutureWarning: is_categorical is deprecated and will be removed in a future version.  Use is_categorical_dtype instead\n",
      "  elif pd.api.types.is_categorical(cols):\n"
     ]
    }
   ],
   "source": [
    "ord_enc = ce.OrdinalEncoder(cols=CAT_COLS)\n",
    "train_cat_feat = ord_enc.fit_transform(train[CAT_COLS])\n",
    "test_cat_feat = ord_enc.transform(test[CAT_COLS])"
   ]
  },
  {
   "cell_type": "code",
   "execution_count": 32,
   "metadata": {
    "papermill": {
     "duration": 0.068904,
     "end_time": "2021-02-02T17:07:33.206335",
     "exception": false,
     "start_time": "2021-02-02T17:07:33.137431",
     "status": "completed"
    },
    "tags": []
   },
   "outputs": [],
   "source": [
    "train_feat = pd.concat([\n",
    "    train_feat, train_cat_feat], axis=1)\n",
    "test_feat = pd.concat([\n",
    "    test_feat, test_cat_feat], axis=1)\n",
    "use_feat_cols.extend(train_cat_feat.columns)"
   ]
  },
  {
   "cell_type": "markdown",
   "metadata": {
    "papermill": {
     "duration": 0.03084,
     "end_time": "2021-02-02T17:07:33.268433",
     "exception": false,
     "start_time": "2021-02-02T17:07:33.237593",
     "status": "completed"
    },
    "tags": []
   },
   "source": [
    "### for continuous features\n",
    "\n",
    "Use them as they are"
   ]
  },
  {
   "cell_type": "code",
   "execution_count": 33,
   "metadata": {
    "papermill": {
     "duration": 0.060324,
     "end_time": "2021-02-02T17:07:33.359531",
     "exception": false,
     "start_time": "2021-02-02T17:07:33.299207",
     "status": "completed"
    },
    "tags": []
   },
   "outputs": [],
   "source": [
    "train_cont_feat = train[CONT_COLS]\n",
    "test_cont_feat = test[CONT_COLS]"
   ]
  },
  {
   "cell_type": "code",
   "execution_count": 34,
   "metadata": {
    "papermill": {
     "duration": 0.091181,
     "end_time": "2021-02-02T17:07:33.481451",
     "exception": false,
     "start_time": "2021-02-02T17:07:33.390270",
     "status": "completed"
    },
    "tags": []
   },
   "outputs": [],
   "source": [
    "train_feat = pd.concat([\n",
    "    train_feat, train_cont_feat], axis=1)\n",
    "test_feat = pd.concat([\n",
    "    test_feat, test_cont_feat], axis=1)\n",
    "use_feat_cols.extend(CONT_COLS)"
   ]
  },
  {
   "cell_type": "code",
   "execution_count": 35,
   "metadata": {
    "_kg_hide-output": true,
    "papermill": {
     "duration": 0.049936,
     "end_time": "2021-02-02T17:07:33.563056",
     "exception": false,
     "start_time": "2021-02-02T17:07:33.513120",
     "status": "completed"
    },
    "tags": []
   },
   "outputs": [
    {
     "data": {
      "text/html": [
       "<div>\n",
       "<style scoped>\n",
       "    .dataframe tbody tr th:only-of-type {\n",
       "        vertical-align: middle;\n",
       "    }\n",
       "\n",
       "    .dataframe tbody tr th {\n",
       "        vertical-align: top;\n",
       "    }\n",
       "\n",
       "    .dataframe thead th {\n",
       "        text-align: right;\n",
       "    }\n",
       "</style>\n",
       "<table border=\"1\" class=\"dataframe\">\n",
       "  <thead>\n",
       "    <tr style=\"text-align: right;\">\n",
       "      <th></th>\n",
       "      <th>0</th>\n",
       "      <th>1</th>\n",
       "      <th>2</th>\n",
       "      <th>3</th>\n",
       "      <th>4</th>\n",
       "    </tr>\n",
       "  </thead>\n",
       "  <tbody>\n",
       "    <tr>\n",
       "      <th>id</th>\n",
       "      <td>1.000000</td>\n",
       "      <td>2.000000</td>\n",
       "      <td>3.000000</td>\n",
       "      <td>4.000000</td>\n",
       "      <td>6.000000</td>\n",
       "    </tr>\n",
       "    <tr>\n",
       "      <th>cat0</th>\n",
       "      <td>1.000000</td>\n",
       "      <td>2.000000</td>\n",
       "      <td>1.000000</td>\n",
       "      <td>1.000000</td>\n",
       "      <td>1.000000</td>\n",
       "    </tr>\n",
       "    <tr>\n",
       "      <th>cat1</th>\n",
       "      <td>1.000000</td>\n",
       "      <td>2.000000</td>\n",
       "      <td>2.000000</td>\n",
       "      <td>2.000000</td>\n",
       "      <td>1.000000</td>\n",
       "    </tr>\n",
       "    <tr>\n",
       "      <th>cat2</th>\n",
       "      <td>1.000000</td>\n",
       "      <td>1.000000</td>\n",
       "      <td>1.000000</td>\n",
       "      <td>1.000000</td>\n",
       "      <td>1.000000</td>\n",
       "    </tr>\n",
       "    <tr>\n",
       "      <th>cat3</th>\n",
       "      <td>1.000000</td>\n",
       "      <td>1.000000</td>\n",
       "      <td>2.000000</td>\n",
       "      <td>2.000000</td>\n",
       "      <td>1.000000</td>\n",
       "    </tr>\n",
       "    <tr>\n",
       "      <th>cat4</th>\n",
       "      <td>1.000000</td>\n",
       "      <td>1.000000</td>\n",
       "      <td>1.000000</td>\n",
       "      <td>1.000000</td>\n",
       "      <td>1.000000</td>\n",
       "    </tr>\n",
       "    <tr>\n",
       "      <th>cat5</th>\n",
       "      <td>1.000000</td>\n",
       "      <td>2.000000</td>\n",
       "      <td>1.000000</td>\n",
       "      <td>1.000000</td>\n",
       "      <td>2.000000</td>\n",
       "    </tr>\n",
       "    <tr>\n",
       "      <th>cat6</th>\n",
       "      <td>1.000000</td>\n",
       "      <td>1.000000</td>\n",
       "      <td>1.000000</td>\n",
       "      <td>1.000000</td>\n",
       "      <td>1.000000</td>\n",
       "    </tr>\n",
       "    <tr>\n",
       "      <th>cat7</th>\n",
       "      <td>1.000000</td>\n",
       "      <td>1.000000</td>\n",
       "      <td>2.000000</td>\n",
       "      <td>1.000000</td>\n",
       "      <td>1.000000</td>\n",
       "    </tr>\n",
       "    <tr>\n",
       "      <th>cat8</th>\n",
       "      <td>1.000000</td>\n",
       "      <td>2.000000</td>\n",
       "      <td>1.000000</td>\n",
       "      <td>3.000000</td>\n",
       "      <td>1.000000</td>\n",
       "    </tr>\n",
       "    <tr>\n",
       "      <th>cat9</th>\n",
       "      <td>1.000000</td>\n",
       "      <td>2.000000</td>\n",
       "      <td>3.000000</td>\n",
       "      <td>4.000000</td>\n",
       "      <td>2.000000</td>\n",
       "    </tr>\n",
       "    <tr>\n",
       "      <th>cont0</th>\n",
       "      <td>0.923191</td>\n",
       "      <td>0.437627</td>\n",
       "      <td>0.732209</td>\n",
       "      <td>0.705142</td>\n",
       "      <td>0.486063</td>\n",
       "    </tr>\n",
       "    <tr>\n",
       "      <th>cont1</th>\n",
       "      <td>0.684968</td>\n",
       "      <td>0.014213</td>\n",
       "      <td>0.760122</td>\n",
       "      <td>0.771678</td>\n",
       "      <td>0.639349</td>\n",
       "    </tr>\n",
       "    <tr>\n",
       "      <th>cont2</th>\n",
       "      <td>0.124454</td>\n",
       "      <td>0.357438</td>\n",
       "      <td>0.454644</td>\n",
       "      <td>0.153735</td>\n",
       "      <td>0.496212</td>\n",
       "    </tr>\n",
       "    <tr>\n",
       "      <th>cont3</th>\n",
       "      <td>0.217886</td>\n",
       "      <td>0.846127</td>\n",
       "      <td>0.812990</td>\n",
       "      <td>0.732893</td>\n",
       "      <td>0.354186</td>\n",
       "    </tr>\n",
       "    <tr>\n",
       "      <th>cont4</th>\n",
       "      <td>0.281421</td>\n",
       "      <td>0.282354</td>\n",
       "      <td>0.293756</td>\n",
       "      <td>0.769785</td>\n",
       "      <td>0.279105</td>\n",
       "    </tr>\n",
       "    <tr>\n",
       "      <th>cont5</th>\n",
       "      <td>0.881122</td>\n",
       "      <td>0.440011</td>\n",
       "      <td>0.914155</td>\n",
       "      <td>0.934138</td>\n",
       "      <td>0.382600</td>\n",
       "    </tr>\n",
       "    <tr>\n",
       "      <th>cont6</th>\n",
       "      <td>0.421650</td>\n",
       "      <td>0.346230</td>\n",
       "      <td>0.369602</td>\n",
       "      <td>0.578930</td>\n",
       "      <td>0.705940</td>\n",
       "    </tr>\n",
       "    <tr>\n",
       "      <th>cont7</th>\n",
       "      <td>0.741413</td>\n",
       "      <td>0.278495</td>\n",
       "      <td>0.832564</td>\n",
       "      <td>0.407313</td>\n",
       "      <td>0.325193</td>\n",
       "    </tr>\n",
       "    <tr>\n",
       "      <th>cont8</th>\n",
       "      <td>0.895799</td>\n",
       "      <td>0.593413</td>\n",
       "      <td>0.865620</td>\n",
       "      <td>0.868099</td>\n",
       "      <td>0.440967</td>\n",
       "    </tr>\n",
       "    <tr>\n",
       "      <th>cont9</th>\n",
       "      <td>0.802461</td>\n",
       "      <td>0.546056</td>\n",
       "      <td>0.825251</td>\n",
       "      <td>0.794402</td>\n",
       "      <td>0.462146</td>\n",
       "    </tr>\n",
       "    <tr>\n",
       "      <th>cont10</th>\n",
       "      <td>0.724417</td>\n",
       "      <td>0.613252</td>\n",
       "      <td>0.264104</td>\n",
       "      <td>0.494269</td>\n",
       "      <td>0.724447</td>\n",
       "    </tr>\n",
       "    <tr>\n",
       "      <th>cont11</th>\n",
       "      <td>0.701915</td>\n",
       "      <td>0.741289</td>\n",
       "      <td>0.695561</td>\n",
       "      <td>0.698125</td>\n",
       "      <td>0.683073</td>\n",
       "    </tr>\n",
       "    <tr>\n",
       "      <th>cont12</th>\n",
       "      <td>0.877618</td>\n",
       "      <td>0.326679</td>\n",
       "      <td>0.869133</td>\n",
       "      <td>0.809799</td>\n",
       "      <td>0.343457</td>\n",
       "    </tr>\n",
       "    <tr>\n",
       "      <th>cont13</th>\n",
       "      <td>0.719903</td>\n",
       "      <td>0.808464</td>\n",
       "      <td>0.828352</td>\n",
       "      <td>0.614766</td>\n",
       "      <td>0.297743</td>\n",
       "    </tr>\n",
       "  </tbody>\n",
       "</table>\n",
       "</div>"
      ],
      "text/plain": [
       "               0         1         2         3         4\n",
       "id      1.000000  2.000000  3.000000  4.000000  6.000000\n",
       "cat0    1.000000  2.000000  1.000000  1.000000  1.000000\n",
       "cat1    1.000000  2.000000  2.000000  2.000000  1.000000\n",
       "cat2    1.000000  1.000000  1.000000  1.000000  1.000000\n",
       "cat3    1.000000  1.000000  2.000000  2.000000  1.000000\n",
       "cat4    1.000000  1.000000  1.000000  1.000000  1.000000\n",
       "cat5    1.000000  2.000000  1.000000  1.000000  2.000000\n",
       "cat6    1.000000  1.000000  1.000000  1.000000  1.000000\n",
       "cat7    1.000000  1.000000  2.000000  1.000000  1.000000\n",
       "cat8    1.000000  2.000000  1.000000  3.000000  1.000000\n",
       "cat9    1.000000  2.000000  3.000000  4.000000  2.000000\n",
       "cont0   0.923191  0.437627  0.732209  0.705142  0.486063\n",
       "cont1   0.684968  0.014213  0.760122  0.771678  0.639349\n",
       "cont2   0.124454  0.357438  0.454644  0.153735  0.496212\n",
       "cont3   0.217886  0.846127  0.812990  0.732893  0.354186\n",
       "cont4   0.281421  0.282354  0.293756  0.769785  0.279105\n",
       "cont5   0.881122  0.440011  0.914155  0.934138  0.382600\n",
       "cont6   0.421650  0.346230  0.369602  0.578930  0.705940\n",
       "cont7   0.741413  0.278495  0.832564  0.407313  0.325193\n",
       "cont8   0.895799  0.593413  0.865620  0.868099  0.440967\n",
       "cont9   0.802461  0.546056  0.825251  0.794402  0.462146\n",
       "cont10  0.724417  0.613252  0.264104  0.494269  0.724447\n",
       "cont11  0.701915  0.741289  0.695561  0.698125  0.683073\n",
       "cont12  0.877618  0.326679  0.869133  0.809799  0.343457\n",
       "cont13  0.719903  0.808464  0.828352  0.614766  0.297743"
      ]
     },
     "execution_count": 35,
     "metadata": {},
     "output_type": "execute_result"
    }
   ],
   "source": [
    "train_feat.head().T"
   ]
  },
  {
   "cell_type": "code",
   "execution_count": 36,
   "metadata": {
    "_kg_hide-output": true,
    "papermill": {
     "duration": 0.049847,
     "end_time": "2021-02-02T17:07:33.645025",
     "exception": false,
     "start_time": "2021-02-02T17:07:33.595178",
     "status": "completed"
    },
    "tags": []
   },
   "outputs": [
    {
     "data": {
      "text/html": [
       "<div>\n",
       "<style scoped>\n",
       "    .dataframe tbody tr th:only-of-type {\n",
       "        vertical-align: middle;\n",
       "    }\n",
       "\n",
       "    .dataframe tbody tr th {\n",
       "        vertical-align: top;\n",
       "    }\n",
       "\n",
       "    .dataframe thead th {\n",
       "        text-align: right;\n",
       "    }\n",
       "</style>\n",
       "<table border=\"1\" class=\"dataframe\">\n",
       "  <thead>\n",
       "    <tr style=\"text-align: right;\">\n",
       "      <th></th>\n",
       "      <th>0</th>\n",
       "      <th>1</th>\n",
       "      <th>2</th>\n",
       "      <th>3</th>\n",
       "      <th>4</th>\n",
       "    </tr>\n",
       "  </thead>\n",
       "  <tbody>\n",
       "    <tr>\n",
       "      <th>id</th>\n",
       "      <td>0.000000</td>\n",
       "      <td>5.000000</td>\n",
       "      <td>15.000000</td>\n",
       "      <td>16.000000</td>\n",
       "      <td>17.000000</td>\n",
       "    </tr>\n",
       "    <tr>\n",
       "      <th>cat0</th>\n",
       "      <td>1.000000</td>\n",
       "      <td>1.000000</td>\n",
       "      <td>1.000000</td>\n",
       "      <td>1.000000</td>\n",
       "      <td>1.000000</td>\n",
       "    </tr>\n",
       "    <tr>\n",
       "      <th>cat1</th>\n",
       "      <td>1.000000</td>\n",
       "      <td>1.000000</td>\n",
       "      <td>1.000000</td>\n",
       "      <td>2.000000</td>\n",
       "      <td>1.000000</td>\n",
       "    </tr>\n",
       "    <tr>\n",
       "      <th>cat2</th>\n",
       "      <td>1.000000</td>\n",
       "      <td>1.000000</td>\n",
       "      <td>1.000000</td>\n",
       "      <td>2.000000</td>\n",
       "      <td>1.000000</td>\n",
       "    </tr>\n",
       "    <tr>\n",
       "      <th>cat3</th>\n",
       "      <td>2.000000</td>\n",
       "      <td>2.000000</td>\n",
       "      <td>2.000000</td>\n",
       "      <td>1.000000</td>\n",
       "      <td>1.000000</td>\n",
       "    </tr>\n",
       "    <tr>\n",
       "      <th>cat4</th>\n",
       "      <td>1.000000</td>\n",
       "      <td>1.000000</td>\n",
       "      <td>1.000000</td>\n",
       "      <td>1.000000</td>\n",
       "      <td>1.000000</td>\n",
       "    </tr>\n",
       "    <tr>\n",
       "      <th>cat5</th>\n",
       "      <td>1.000000</td>\n",
       "      <td>1.000000</td>\n",
       "      <td>1.000000</td>\n",
       "      <td>1.000000</td>\n",
       "      <td>2.000000</td>\n",
       "    </tr>\n",
       "    <tr>\n",
       "      <th>cat6</th>\n",
       "      <td>1.000000</td>\n",
       "      <td>1.000000</td>\n",
       "      <td>1.000000</td>\n",
       "      <td>1.000000</td>\n",
       "      <td>1.000000</td>\n",
       "    </tr>\n",
       "    <tr>\n",
       "      <th>cat7</th>\n",
       "      <td>1.000000</td>\n",
       "      <td>1.000000</td>\n",
       "      <td>1.000000</td>\n",
       "      <td>1.000000</td>\n",
       "      <td>1.000000</td>\n",
       "    </tr>\n",
       "    <tr>\n",
       "      <th>cat8</th>\n",
       "      <td>4.000000</td>\n",
       "      <td>1.000000</td>\n",
       "      <td>1.000000</td>\n",
       "      <td>4.000000</td>\n",
       "      <td>4.000000</td>\n",
       "    </tr>\n",
       "    <tr>\n",
       "      <th>cat9</th>\n",
       "      <td>7.000000</td>\n",
       "      <td>6.000000</td>\n",
       "      <td>2.000000</td>\n",
       "      <td>2.000000</td>\n",
       "      <td>1.000000</td>\n",
       "    </tr>\n",
       "    <tr>\n",
       "      <th>cont0</th>\n",
       "      <td>0.331261</td>\n",
       "      <td>0.402404</td>\n",
       "      <td>0.530677</td>\n",
       "      <td>0.439653</td>\n",
       "      <td>0.389844</td>\n",
       "    </tr>\n",
       "    <tr>\n",
       "      <th>cont1</th>\n",
       "      <td>0.551131</td>\n",
       "      <td>0.617546</td>\n",
       "      <td>0.618126</td>\n",
       "      <td>0.487403</td>\n",
       "      <td>0.752760</td>\n",
       "    </tr>\n",
       "    <tr>\n",
       "      <th>cont2</th>\n",
       "      <td>0.486284</td>\n",
       "      <td>0.296852</td>\n",
       "      <td>0.760865</td>\n",
       "      <td>0.715786</td>\n",
       "      <td>0.315269</td>\n",
       "    </tr>\n",
       "    <tr>\n",
       "      <th>cont3</th>\n",
       "      <td>0.156058</td>\n",
       "      <td>0.187440</td>\n",
       "      <td>0.199872</td>\n",
       "      <td>0.192808</td>\n",
       "      <td>0.191734</td>\n",
       "    </tr>\n",
       "    <tr>\n",
       "      <th>cont4</th>\n",
       "      <td>0.701679</td>\n",
       "      <td>0.277480</td>\n",
       "      <td>0.279508</td>\n",
       "      <td>0.479503</td>\n",
       "      <td>0.757845</td>\n",
       "    </tr>\n",
       "    <tr>\n",
       "      <th>cont5</th>\n",
       "      <td>0.595507</td>\n",
       "      <td>0.479552</td>\n",
       "      <td>0.676395</td>\n",
       "      <td>0.759875</td>\n",
       "      <td>0.210232</td>\n",
       "    </tr>\n",
       "    <tr>\n",
       "      <th>cont6</th>\n",
       "      <td>0.286912</td>\n",
       "      <td>0.397436</td>\n",
       "      <td>0.695284</td>\n",
       "      <td>0.240049</td>\n",
       "      <td>0.329851</td>\n",
       "    </tr>\n",
       "    <tr>\n",
       "      <th>cont7</th>\n",
       "      <td>0.279884</td>\n",
       "      <td>0.476742</td>\n",
       "      <td>0.253316</td>\n",
       "      <td>0.298074</td>\n",
       "      <td>0.616663</td>\n",
       "    </tr>\n",
       "    <tr>\n",
       "      <th>cont8</th>\n",
       "      <td>0.202234</td>\n",
       "      <td>0.857073</td>\n",
       "      <td>0.586934</td>\n",
       "      <td>0.442475</td>\n",
       "      <td>0.170475</td>\n",
       "    </tr>\n",
       "    <tr>\n",
       "      <th>cont9</th>\n",
       "      <td>0.242654</td>\n",
       "      <td>0.516393</td>\n",
       "      <td>0.548555</td>\n",
       "      <td>0.596746</td>\n",
       "      <td>0.263235</td>\n",
       "    </tr>\n",
       "    <tr>\n",
       "      <th>cont10</th>\n",
       "      <td>0.285147</td>\n",
       "      <td>0.562065</td>\n",
       "      <td>0.836193</td>\n",
       "      <td>0.414131</td>\n",
       "      <td>0.710961</td>\n",
       "    </tr>\n",
       "    <tr>\n",
       "      <th>cont11</th>\n",
       "      <td>0.264308</td>\n",
       "      <td>0.730542</td>\n",
       "      <td>0.759788</td>\n",
       "      <td>0.255382</td>\n",
       "      <td>0.224045</td>\n",
       "    </tr>\n",
       "    <tr>\n",
       "      <th>cont12</th>\n",
       "      <td>0.653654</td>\n",
       "      <td>0.318492</td>\n",
       "      <td>0.333572</td>\n",
       "      <td>0.589080</td>\n",
       "      <td>0.285860</td>\n",
       "    </tr>\n",
       "    <tr>\n",
       "      <th>cont13</th>\n",
       "      <td>0.302448</td>\n",
       "      <td>0.736251</td>\n",
       "      <td>0.273905</td>\n",
       "      <td>0.311625</td>\n",
       "      <td>0.794931</td>\n",
       "    </tr>\n",
       "  </tbody>\n",
       "</table>\n",
       "</div>"
      ],
      "text/plain": [
       "               0         1          2          3          4\n",
       "id      0.000000  5.000000  15.000000  16.000000  17.000000\n",
       "cat0    1.000000  1.000000   1.000000   1.000000   1.000000\n",
       "cat1    1.000000  1.000000   1.000000   2.000000   1.000000\n",
       "cat2    1.000000  1.000000   1.000000   2.000000   1.000000\n",
       "cat3    2.000000  2.000000   2.000000   1.000000   1.000000\n",
       "cat4    1.000000  1.000000   1.000000   1.000000   1.000000\n",
       "cat5    1.000000  1.000000   1.000000   1.000000   2.000000\n",
       "cat6    1.000000  1.000000   1.000000   1.000000   1.000000\n",
       "cat7    1.000000  1.000000   1.000000   1.000000   1.000000\n",
       "cat8    4.000000  1.000000   1.000000   4.000000   4.000000\n",
       "cat9    7.000000  6.000000   2.000000   2.000000   1.000000\n",
       "cont0   0.331261  0.402404   0.530677   0.439653   0.389844\n",
       "cont1   0.551131  0.617546   0.618126   0.487403   0.752760\n",
       "cont2   0.486284  0.296852   0.760865   0.715786   0.315269\n",
       "cont3   0.156058  0.187440   0.199872   0.192808   0.191734\n",
       "cont4   0.701679  0.277480   0.279508   0.479503   0.757845\n",
       "cont5   0.595507  0.479552   0.676395   0.759875   0.210232\n",
       "cont6   0.286912  0.397436   0.695284   0.240049   0.329851\n",
       "cont7   0.279884  0.476742   0.253316   0.298074   0.616663\n",
       "cont8   0.202234  0.857073   0.586934   0.442475   0.170475\n",
       "cont9   0.242654  0.516393   0.548555   0.596746   0.263235\n",
       "cont10  0.285147  0.562065   0.836193   0.414131   0.710961\n",
       "cont11  0.264308  0.730542   0.759788   0.255382   0.224045\n",
       "cont12  0.653654  0.318492   0.333572   0.589080   0.285860\n",
       "cont13  0.302448  0.736251   0.273905   0.311625   0.794931"
      ]
     },
     "execution_count": 36,
     "metadata": {},
     "output_type": "execute_result"
    }
   ],
   "source": [
    "test_feat.head().T"
   ]
  },
  {
   "cell_type": "markdown",
   "metadata": {
    "papermill": {
     "duration": 0.032645,
     "end_time": "2021-02-02T17:07:33.711797",
     "exception": false,
     "start_time": "2021-02-02T17:07:33.679152",
     "status": "completed"
    },
    "tags": []
   },
   "source": [
    "## Training"
   ]
  },
  {
   "cell_type": "code",
   "execution_count": 37,
   "metadata": {
    "papermill": {
     "duration": 0.05397,
     "end_time": "2021-02-02T17:07:33.798447",
     "exception": false,
     "start_time": "2021-02-02T17:07:33.744477",
     "status": "completed"
    },
    "tags": []
   },
   "outputs": [],
   "source": [
    "def run_train_and_inference(\n",
    "    X, X_test, y, use_model, model_params, train_params, seed_list, n_splits, cat_cols=None\n",
    "):\n",
    "    \n",
    "    oof_pred_arr = np.zeros(len(X))\n",
    "    test_pred_arr = np.zeros(len(X_test))\n",
    "    feature_importances = pd.DataFrame()\n",
    "    score_list = []\n",
    "    \n",
    "    for seed in seed_list:\n",
    "        if use_model == \"cat\":\n",
    "            model_params['random_state'] = seed\n",
    "        else:\n",
    "            model_params[\"seed\"] = seed\n",
    "        kf = KFold(n_splits=n_splits, shuffle=True, random_state=seed)\n",
    "        tmp_oof_pred = np.zeros(len(X))\n",
    "        tmp_test_pred = np.zeros(len(X_test))\n",
    "\n",
    "        for fold, (trn_idx, val_idx) in enumerate(kf.split(X, y)):\n",
    "            print(\"*\" * 100)\n",
    "            print(f\"Seed: {seed} - Fold: {fold}\")\n",
    "            X_trn = X.loc[trn_idx].reset_index(drop=True)\n",
    "            X_val = X.loc[val_idx].reset_index(drop=True)\n",
    "            y_trn = y[trn_idx]\n",
    "            y_val = y[val_idx]\n",
    "\n",
    "            model = TreeModel(model_type=use_model)\n",
    "            with timer(prefix=\"Model training\"):\n",
    "                model.train(\n",
    "                    params=model_params, X_train=X_trn, y_train=y_trn,\n",
    "                    X_val=X_val, y_val=y_val, train_params=train_params, cat_cols=cat_cols\n",
    "                )\n",
    "            fi_tmp = pd.DataFrame()\n",
    "            fi_tmp[\"feature\"] = model.feature_names_\n",
    "            fi_tmp[\"importance\"] = model.feature_importances_\n",
    "            fi_tmp[\"fold\"] = fold\n",
    "            fi_tmp[\"seed\"] = seed\n",
    "            feature_importances = feature_importances.append(fi_tmp)\n",
    "\n",
    "            val_pred = model.predict(X_val)\n",
    "            score = mean_squared_error(y_val, val_pred, squared=False)\n",
    "            print(f\"score: {score:.5f}\")\n",
    "            score_list.append([seed, fold, score])\n",
    "            tmp_oof_pred[val_idx] = val_pred\n",
    "            tmp_test_pred += model.predict(X_test)\n",
    "            \n",
    "        oof_score = mean_squared_error(y, tmp_oof_pred, squared=False)\n",
    "        print(f\"oof score: {oof_score: 5f}\")\n",
    "        score_list.append([seed, \"oof\", oof_score])\n",
    "\n",
    "        oof_pred_arr += tmp_oof_pred\n",
    "        test_pred_arr += tmp_test_pred / n_splits\n",
    "\n",
    "    oof_pred_arr /= len(seed_list)\n",
    "    test_pred_arr /= len(seed_list)\n",
    "    \n",
    "    oof_score = mean_squared_error(y, oof_pred_arr, squared=False)\n",
    "    score_list.append([\"avg\", \"oof\", oof_score])\n",
    "    score_df = pd.DataFrame(\n",
    "        score_list, columns=[\"seed\", \"fold\", \"rmse score\"])\n",
    "    \n",
    "    return oof_pred_arr, test_pred_arr, score_df, feature_importances"
   ]
  },
  {
   "cell_type": "code",
   "execution_count": 38,
   "metadata": {
    "papermill": {
     "duration": 0.084994,
     "end_time": "2021-02-02T17:07:33.916707",
     "exception": false,
     "start_time": "2021-02-02T17:07:33.831713",
     "status": "completed"
    },
    "tags": []
   },
   "outputs": [
    {
     "name": "stdout",
     "output_type": "stream",
     "text": [
      "train_feat: (300000, 24), test_feat: (200000, 24)\n"
     ]
    }
   ],
   "source": [
    "X = train_feat[use_feat_cols]\n",
    "X_test = test_feat[use_feat_cols]\n",
    "\n",
    "y = train[TGT_COL].values\n",
    "\n",
    "print(f\"train_feat: {X.shape}, test_feat: {X_test.shape}\")"
   ]
  },
  {
   "cell_type": "markdown",
   "metadata": {
    "papermill": {
     "duration": 0.033444,
     "end_time": "2021-02-02T17:07:33.984442",
     "exception": false,
     "start_time": "2021-02-02T17:07:33.950998",
     "status": "completed"
    },
    "tags": []
   },
   "source": [
    "### LightGBM"
   ]
  },
  {
   "cell_type": "code",
   "execution_count": 39,
   "metadata": {
    "_kg_hide-output": true,
    "papermill": {
     "duration": 792.510158,
     "end_time": "2021-02-02T17:20:46.528851",
     "exception": false,
     "start_time": "2021-02-02T17:07:34.018693",
     "status": "completed"
    },
    "tags": []
   },
   "outputs": [
    {
     "name": "stdout",
     "output_type": "stream",
     "text": [
      "****************************************************************************************************\n",
      "Seed: 42 - Fold: 0\n",
      "[LightGBM] [Warning] Accuracy may be bad since you didn't explicitly set num_leaves OR 2^max_depth > num_leaves. (num_leaves=31).\n",
      "[LightGBM] [Warning] Accuracy may be bad since you didn't explicitly set num_leaves OR 2^max_depth > num_leaves. (num_leaves=31).\n",
      "[LightGBM] [Warning] Auto-choosing col-wise multi-threading, the overhead of testing was 0.038085 seconds.\n",
      "You can set `force_col_wise=true` to remove the overhead.\n",
      "[LightGBM] [Info] Total Bins 3634\n",
      "[LightGBM] [Info] Number of data points in the train set: 240000, number of used features: 24\n",
      "[LightGBM] [Warning] Accuracy may be bad since you didn't explicitly set num_leaves OR 2^max_depth > num_leaves. (num_leaves=31).\n",
      "[LightGBM] [Info] Start training from score 7.456400\n",
      "Training until validation scores don't improve for 200 rounds\n",
      "[200]\ttraining's rmse: 0.858867\tvalid_1's rmse: 0.860831\n",
      "[400]\ttraining's rmse: 0.849756\tvalid_1's rmse: 0.852584\n",
      "[600]\ttraining's rmse: 0.844871\tvalid_1's rmse: 0.84888\n",
      "[800]\ttraining's rmse: 0.841481\tvalid_1's rmse: 0.846655\n",
      "[1000]\ttraining's rmse: 0.838833\tvalid_1's rmse: 0.845267\n",
      "[1200]\ttraining's rmse: 0.83671\tvalid_1's rmse: 0.844353\n",
      "[1400]\ttraining's rmse: 0.834901\tvalid_1's rmse: 0.843744\n",
      "[1600]\ttraining's rmse: 0.833287\tvalid_1's rmse: 0.84331\n",
      "[1800]\ttraining's rmse: 0.831788\tvalid_1's rmse: 0.843019\n",
      "[2000]\ttraining's rmse: 0.830417\tvalid_1's rmse: 0.842817\n",
      "[2200]\ttraining's rmse: 0.829105\tvalid_1's rmse: 0.842639\n",
      "[2400]\ttraining's rmse: 0.827816\tvalid_1's rmse: 0.842523\n",
      "[2600]\ttraining's rmse: 0.826594\tvalid_1's rmse: 0.842454\n",
      "[2800]\ttraining's rmse: 0.825417\tvalid_1's rmse: 0.84239\n",
      "[3000]\ttraining's rmse: 0.824291\tvalid_1's rmse: 0.842329\n",
      "[3200]\ttraining's rmse: 0.823158\tvalid_1's rmse: 0.842335\n",
      "Early stopping, best iteration is:\n",
      "[3029]\ttraining's rmse: 0.824129\tvalid_1's rmse: 0.842322\n",
      "Model training46.221[s]\n",
      "score: 0.84232\n",
      "****************************************************************************************************\n",
      "Seed: 42 - Fold: 1\n",
      "[LightGBM] [Warning] Accuracy may be bad since you didn't explicitly set num_leaves OR 2^max_depth > num_leaves. (num_leaves=31).\n",
      "[LightGBM] [Warning] Accuracy may be bad since you didn't explicitly set num_leaves OR 2^max_depth > num_leaves. (num_leaves=31).\n",
      "[LightGBM] [Warning] Auto-choosing col-wise multi-threading, the overhead of testing was 0.039036 seconds.\n",
      "You can set `force_col_wise=true` to remove the overhead.\n",
      "[LightGBM] [Info] Total Bins 3635\n",
      "[LightGBM] [Info] Number of data points in the train set: 240000, number of used features: 24\n",
      "[LightGBM] [Warning] Accuracy may be bad since you didn't explicitly set num_leaves OR 2^max_depth > num_leaves. (num_leaves=31).\n",
      "[LightGBM] [Info] Start training from score 7.457499\n",
      "Training until validation scores don't improve for 200 rounds\n",
      "[200]\ttraining's rmse: 0.858525\tvalid_1's rmse: 0.861258\n",
      "[400]\ttraining's rmse: 0.849321\tvalid_1's rmse: 0.853777\n",
      "[600]\ttraining's rmse: 0.844451\tvalid_1's rmse: 0.850454\n",
      "[800]\ttraining's rmse: 0.841054\tvalid_1's rmse: 0.848451\n",
      "[1000]\ttraining's rmse: 0.838472\tvalid_1's rmse: 0.847184\n",
      "[1200]\ttraining's rmse: 0.836325\tvalid_1's rmse: 0.846313\n",
      "[1400]\ttraining's rmse: 0.834486\tvalid_1's rmse: 0.845699\n",
      "[1600]\ttraining's rmse: 0.83285\tvalid_1's rmse: 0.845258\n",
      "[1800]\ttraining's rmse: 0.831336\tvalid_1's rmse: 0.844969\n",
      "[2000]\ttraining's rmse: 0.829923\tvalid_1's rmse: 0.844722\n",
      "[2200]\ttraining's rmse: 0.828601\tvalid_1's rmse: 0.84456\n",
      "[2400]\ttraining's rmse: 0.827346\tvalid_1's rmse: 0.844429\n",
      "[2600]\ttraining's rmse: 0.826132\tvalid_1's rmse: 0.844348\n",
      "[2800]\ttraining's rmse: 0.82493\tvalid_1's rmse: 0.844262\n",
      "[3000]\ttraining's rmse: 0.823777\tvalid_1's rmse: 0.844208\n",
      "[3200]\ttraining's rmse: 0.822622\tvalid_1's rmse: 0.844164\n",
      "[3400]\ttraining's rmse: 0.8215\tvalid_1's rmse: 0.844148\n",
      "Early stopping, best iteration is:\n",
      "[3397]\ttraining's rmse: 0.821517\tvalid_1's rmse: 0.844142\n",
      "Model training50.024[s]\n",
      "score: 0.84414\n",
      "****************************************************************************************************\n",
      "Seed: 42 - Fold: 2\n",
      "[LightGBM] [Warning] Accuracy may be bad since you didn't explicitly set num_leaves OR 2^max_depth > num_leaves. (num_leaves=31).\n",
      "[LightGBM] [Warning] Accuracy may be bad since you didn't explicitly set num_leaves OR 2^max_depth > num_leaves. (num_leaves=31).\n",
      "[LightGBM] [Warning] Auto-choosing col-wise multi-threading, the overhead of testing was 0.039269 seconds.\n",
      "You can set `force_col_wise=true` to remove the overhead.\n",
      "[LightGBM] [Info] Total Bins 3636\n",
      "[LightGBM] [Info] Number of data points in the train set: 240000, number of used features: 24\n",
      "[LightGBM] [Warning] Accuracy may be bad since you didn't explicitly set num_leaves OR 2^max_depth > num_leaves. (num_leaves=31).\n",
      "[LightGBM] [Info] Start training from score 7.456493\n",
      "Training until validation scores don't improve for 200 rounds\n",
      "[200]\ttraining's rmse: 0.858646\tvalid_1's rmse: 0.860983\n",
      "[400]\ttraining's rmse: 0.849583\tvalid_1's rmse: 0.853283\n",
      "[600]\ttraining's rmse: 0.844771\tvalid_1's rmse: 0.849767\n",
      "[800]\ttraining's rmse: 0.841403\tvalid_1's rmse: 0.847605\n",
      "[1000]\ttraining's rmse: 0.838783\tvalid_1's rmse: 0.846149\n",
      "[1200]\ttraining's rmse: 0.836653\tvalid_1's rmse: 0.845183\n",
      "[1400]\ttraining's rmse: 0.834855\tvalid_1's rmse: 0.844541\n",
      "[1600]\ttraining's rmse: 0.833242\tvalid_1's rmse: 0.844113\n",
      "[1800]\ttraining's rmse: 0.83175\tvalid_1's rmse: 0.843769\n",
      "[2000]\ttraining's rmse: 0.830391\tvalid_1's rmse: 0.843549\n",
      "[2200]\ttraining's rmse: 0.829048\tvalid_1's rmse: 0.843377\n",
      "[2400]\ttraining's rmse: 0.827769\tvalid_1's rmse: 0.843237\n",
      "[2600]\ttraining's rmse: 0.826539\tvalid_1's rmse: 0.843129\n",
      "[2800]\ttraining's rmse: 0.825359\tvalid_1's rmse: 0.842996\n",
      "[3000]\ttraining's rmse: 0.824194\tvalid_1's rmse: 0.842947\n",
      "[3200]\ttraining's rmse: 0.823042\tvalid_1's rmse: 0.842881\n",
      "[3400]\ttraining's rmse: 0.821939\tvalid_1's rmse: 0.842819\n",
      "[3600]\ttraining's rmse: 0.820851\tvalid_1's rmse: 0.842756\n",
      "[3800]\ttraining's rmse: 0.819773\tvalid_1's rmse: 0.842772\n",
      "Early stopping, best iteration is:\n",
      "[3629]\ttraining's rmse: 0.820693\tvalid_1's rmse: 0.842745\n",
      "Model training54.090[s]\n",
      "score: 0.84274\n",
      "****************************************************************************************************\n",
      "Seed: 42 - Fold: 3\n",
      "[LightGBM] [Warning] Accuracy may be bad since you didn't explicitly set num_leaves OR 2^max_depth > num_leaves. (num_leaves=31).\n",
      "[LightGBM] [Warning] Accuracy may be bad since you didn't explicitly set num_leaves OR 2^max_depth > num_leaves. (num_leaves=31).\n",
      "[LightGBM] [Warning] Auto-choosing col-wise multi-threading, the overhead of testing was 0.039472 seconds.\n",
      "You can set `force_col_wise=true` to remove the overhead.\n",
      "[LightGBM] [Info] Total Bins 3635\n",
      "[LightGBM] [Info] Number of data points in the train set: 240000, number of used features: 24\n",
      "[LightGBM] [Warning] Accuracy may be bad since you didn't explicitly set num_leaves OR 2^max_depth > num_leaves. (num_leaves=31).\n",
      "[LightGBM] [Info] Start training from score 7.456370\n",
      "Training until validation scores don't improve for 200 rounds\n",
      "[200]\ttraining's rmse: 0.858969\tvalid_1's rmse: 0.859246\n",
      "[400]\ttraining's rmse: 0.849866\tvalid_1's rmse: 0.851728\n",
      "[600]\ttraining's rmse: 0.845002\tvalid_1's rmse: 0.848283\n",
      "[800]\ttraining's rmse: 0.841636\tvalid_1's rmse: 0.846245\n",
      "[1000]\ttraining's rmse: 0.839022\tvalid_1's rmse: 0.844907\n",
      "[1200]\ttraining's rmse: 0.836848\tvalid_1's rmse: 0.84393\n",
      "[1400]\ttraining's rmse: 0.835006\tvalid_1's rmse: 0.843309\n",
      "[1600]\ttraining's rmse: 0.833409\tvalid_1's rmse: 0.842933\n",
      "[1800]\ttraining's rmse: 0.831928\tvalid_1's rmse: 0.842657\n",
      "[2000]\ttraining's rmse: 0.830568\tvalid_1's rmse: 0.842421\n",
      "[2200]\ttraining's rmse: 0.829229\tvalid_1's rmse: 0.842216\n",
      "[2400]\ttraining's rmse: 0.827956\tvalid_1's rmse: 0.842064\n",
      "[2600]\ttraining's rmse: 0.826732\tvalid_1's rmse: 0.841924\n",
      "[2800]\ttraining's rmse: 0.825524\tvalid_1's rmse: 0.841824\n",
      "[3000]\ttraining's rmse: 0.82438\tvalid_1's rmse: 0.841736\n",
      "[3200]\ttraining's rmse: 0.823241\tvalid_1's rmse: 0.841718\n",
      "[3400]\ttraining's rmse: 0.822142\tvalid_1's rmse: 0.841691\n",
      "Early stopping, best iteration is:\n",
      "[3357]\ttraining's rmse: 0.822369\tvalid_1's rmse: 0.841683\n",
      "Model training49.593[s]\n",
      "score: 0.84168\n",
      "****************************************************************************************************\n",
      "Seed: 42 - Fold: 4\n",
      "[LightGBM] [Warning] Accuracy may be bad since you didn't explicitly set num_leaves OR 2^max_depth > num_leaves. (num_leaves=31).\n",
      "[LightGBM] [Warning] Accuracy may be bad since you didn't explicitly set num_leaves OR 2^max_depth > num_leaves. (num_leaves=31).\n",
      "[LightGBM] [Warning] Auto-choosing col-wise multi-threading, the overhead of testing was 0.047113 seconds.\n",
      "You can set `force_col_wise=true` to remove the overhead.\n",
      "[LightGBM] [Info] Total Bins 3635\n",
      "[LightGBM] [Info] Number of data points in the train set: 240000, number of used features: 24\n",
      "[LightGBM] [Warning] Accuracy may be bad since you didn't explicitly set num_leaves OR 2^max_depth > num_leaves. (num_leaves=31).\n",
      "[LightGBM] [Info] Start training from score 7.454541\n",
      "Training until validation scores don't improve for 200 rounds\n",
      "[200]\ttraining's rmse: 0.85915\tvalid_1's rmse: 0.859079\n",
      "[400]\ttraining's rmse: 0.850063\tvalid_1's rmse: 0.851302\n",
      "[600]\ttraining's rmse: 0.845226\tvalid_1's rmse: 0.847736\n",
      "[800]\ttraining's rmse: 0.841871\tvalid_1's rmse: 0.84562\n",
      "[1000]\ttraining's rmse: 0.839228\tvalid_1's rmse: 0.844199\n",
      "[1200]\ttraining's rmse: 0.837089\tvalid_1's rmse: 0.843219\n",
      "[1400]\ttraining's rmse: 0.835274\tvalid_1's rmse: 0.842575\n",
      "[1600]\ttraining's rmse: 0.833679\tvalid_1's rmse: 0.842119\n",
      "[1800]\ttraining's rmse: 0.832201\tvalid_1's rmse: 0.841806\n",
      "[LightGBM] [Warning] No further splits with positive gain, best gain: -inf\n",
      "[2000]\ttraining's rmse: 0.8308\tvalid_1's rmse: 0.841545\n",
      "[2200]\ttraining's rmse: 0.829479\tvalid_1's rmse: 0.841365\n",
      "[2400]\ttraining's rmse: 0.828228\tvalid_1's rmse: 0.841243\n",
      "[2600]\ttraining's rmse: 0.826996\tvalid_1's rmse: 0.841146\n",
      "[2800]\ttraining's rmse: 0.825802\tvalid_1's rmse: 0.841049\n",
      "[LightGBM] [Warning] No further splits with positive gain, best gain: -inf\n",
      "[3000]\ttraining's rmse: 0.824652\tvalid_1's rmse: 0.840981\n",
      "[3200]\ttraining's rmse: 0.823508\tvalid_1's rmse: 0.840925\n",
      "[3400]\ttraining's rmse: 0.822383\tvalid_1's rmse: 0.84092\n",
      "Early stopping, best iteration is:\n",
      "[3321]\ttraining's rmse: 0.822814\tvalid_1's rmse: 0.840899\n",
      "Model training49.447[s]\n",
      "score: 0.84090\n",
      "oof score:  0.842359\n"
     ]
    }
   ],
   "source": [
    "oof_pred_lgb, test_pred_lgb, score_lgb, feat_imps_lgb = run_train_and_inference(\n",
    "    X, X_test, y, \"lgb\", MODEL_PARAMS[\"lgb\"], TRAIN_PARAMS[\"lgb\"], RANDOM_SEED_LIST, N_SPLITS)"
   ]
  },
  {
   "cell_type": "code",
   "execution_count": 40,
   "metadata": {
    "_kg_hide-output": true,
    "papermill": {
     "duration": 0.079277,
     "end_time": "2021-02-02T17:20:46.673753",
     "exception": false,
     "start_time": "2021-02-02T17:20:46.594476",
     "status": "completed"
    },
    "tags": []
   },
   "outputs": [
    {
     "data": {
      "text/html": [
       "<div>\n",
       "<style scoped>\n",
       "    .dataframe tbody tr th:only-of-type {\n",
       "        vertical-align: middle;\n",
       "    }\n",
       "\n",
       "    .dataframe tbody tr th {\n",
       "        vertical-align: top;\n",
       "    }\n",
       "\n",
       "    .dataframe thead th {\n",
       "        text-align: right;\n",
       "    }\n",
       "</style>\n",
       "<table border=\"1\" class=\"dataframe\">\n",
       "  <thead>\n",
       "    <tr style=\"text-align: right;\">\n",
       "      <th></th>\n",
       "      <th>seed</th>\n",
       "      <th>fold</th>\n",
       "      <th>rmse score</th>\n",
       "    </tr>\n",
       "  </thead>\n",
       "  <tbody>\n",
       "    <tr>\n",
       "      <th>0</th>\n",
       "      <td>42</td>\n",
       "      <td>0</td>\n",
       "      <td>0.842322</td>\n",
       "    </tr>\n",
       "    <tr>\n",
       "      <th>1</th>\n",
       "      <td>42</td>\n",
       "      <td>1</td>\n",
       "      <td>0.844142</td>\n",
       "    </tr>\n",
       "    <tr>\n",
       "      <th>2</th>\n",
       "      <td>42</td>\n",
       "      <td>2</td>\n",
       "      <td>0.842745</td>\n",
       "    </tr>\n",
       "    <tr>\n",
       "      <th>3</th>\n",
       "      <td>42</td>\n",
       "      <td>3</td>\n",
       "      <td>0.841683</td>\n",
       "    </tr>\n",
       "    <tr>\n",
       "      <th>4</th>\n",
       "      <td>42</td>\n",
       "      <td>4</td>\n",
       "      <td>0.840899</td>\n",
       "    </tr>\n",
       "    <tr>\n",
       "      <th>5</th>\n",
       "      <td>42</td>\n",
       "      <td>oof</td>\n",
       "      <td>0.842359</td>\n",
       "    </tr>\n",
       "    <tr>\n",
       "      <th>6</th>\n",
       "      <td>avg</td>\n",
       "      <td>oof</td>\n",
       "      <td>0.842359</td>\n",
       "    </tr>\n",
       "  </tbody>\n",
       "</table>\n",
       "</div>"
      ],
      "text/plain": [
       "  seed fold  rmse score\n",
       "0   42    0    0.842322\n",
       "1   42    1    0.844142\n",
       "2   42    2    0.842745\n",
       "3   42    3    0.841683\n",
       "4   42    4    0.840899\n",
       "5   42  oof    0.842359\n",
       "6  avg  oof    0.842359"
      ]
     },
     "execution_count": 40,
     "metadata": {},
     "output_type": "execute_result"
    }
   ],
   "source": [
    "score_lgb"
   ]
  },
  {
   "cell_type": "code",
   "execution_count": 41,
   "metadata": {
    "papermill": {
     "duration": 0.07918,
     "end_time": "2021-02-02T17:20:46.819403",
     "exception": false,
     "start_time": "2021-02-02T17:20:46.740223",
     "status": "completed"
    },
    "tags": []
   },
   "outputs": [
    {
     "data": {
      "text/html": [
       "<div>\n",
       "<style scoped>\n",
       "    .dataframe tbody tr th:only-of-type {\n",
       "        vertical-align: middle;\n",
       "    }\n",
       "\n",
       "    .dataframe tbody tr th {\n",
       "        vertical-align: top;\n",
       "    }\n",
       "\n",
       "    .dataframe thead th {\n",
       "        text-align: right;\n",
       "    }\n",
       "</style>\n",
       "<table border=\"1\" class=\"dataframe\">\n",
       "  <thead>\n",
       "    <tr style=\"text-align: right;\">\n",
       "      <th></th>\n",
       "      <th>seed</th>\n",
       "      <th>fold</th>\n",
       "      <th>rmse score</th>\n",
       "    </tr>\n",
       "  </thead>\n",
       "  <tbody>\n",
       "    <tr>\n",
       "      <th>5</th>\n",
       "      <td>42</td>\n",
       "      <td>oof</td>\n",
       "      <td>0.842359</td>\n",
       "    </tr>\n",
       "    <tr>\n",
       "      <th>6</th>\n",
       "      <td>avg</td>\n",
       "      <td>oof</td>\n",
       "      <td>0.842359</td>\n",
       "    </tr>\n",
       "  </tbody>\n",
       "</table>\n",
       "</div>"
      ],
      "text/plain": [
       "  seed fold  rmse score\n",
       "5   42  oof    0.842359\n",
       "6  avg  oof    0.842359"
      ]
     },
     "execution_count": 41,
     "metadata": {},
     "output_type": "execute_result"
    }
   ],
   "source": [
    "score_lgb.loc[score_lgb.fold == \"oof\"]"
   ]
  },
  {
   "cell_type": "code",
   "execution_count": 42,
   "metadata": {
    "papermill": {
     "duration": 1.315658,
     "end_time": "2021-02-02T17:20:48.201481",
     "exception": false,
     "start_time": "2021-02-02T17:20:46.885823",
     "status": "completed"
    },
    "tags": []
   },
   "outputs": [
    {
     "data": {
      "image/png": "[encoded data removed]",
      "text/plain": [
       "<Figure size 720x720 with 1 Axes>"
      ]
     },
     "metadata": {
      "needs_background": "light"
     },
     "output_type": "display_data"
    }
   ],
   "source": [
    "order = list(feat_imps_lgb.groupby(\"feature\").mean().sort_values(\"importance\", ascending=False).index)\n",
    "plt.figure(figsize=(10, 10))\n",
    "sns.barplot(x=\"importance\", y=\"feature\", data=feat_imps_lgb, order=order)\n",
    "plt.title(\"{} importance\".format(\"lgb\"))\n",
    "plt.tight_layout()"
   ]
  },
  {
   "cell_type": "markdown",
   "metadata": {
    "papermill": {
     "duration": 0.069545,
     "end_time": "2021-02-02T17:20:48.340227",
     "exception": false,
     "start_time": "2021-02-02T17:20:48.270682",
     "status": "completed"
    },
    "tags": []
   },
   "source": [
    "### XGBoost"
   ]
  },
  {
   "cell_type": "code",
   "execution_count": 43,
   "metadata": {
    "_kg_hide-output": true,
    "papermill": {
     "duration": 385.169666,
     "end_time": "2021-02-02T17:27:13.578416",
     "exception": false,
     "start_time": "2021-02-02T17:20:48.408750",
     "status": "completed"
    },
    "tags": []
   },
   "outputs": [
    {
     "name": "stdout",
     "output_type": "stream",
     "text": [
      "****************************************************************************************************\n",
      "Seed: 42 - Fold: 0\n",
      "[0]\ttrain-rmse:6.94369\tval-rmse:6.94320\n",
      "[200]\ttrain-rmse:1.26436\tval-rmse:1.26454\n",
      "[400]\ttrain-rmse:0.86184\tval-rmse:0.86398\n",
      "[600]\ttrain-rmse:0.84691\tval-rmse:0.85065\n",
      "[800]\ttrain-rmse:0.84268\tval-rmse:0.84793\n",
      "[1000]\ttrain-rmse:0.83950\tval-rmse:0.84627\n",
      "[1200]\ttrain-rmse:0.83691\tval-rmse:0.84515\n",
      "[1400]\ttrain-rmse:0.83459\tval-rmse:0.84435\n",
      "[1600]\ttrain-rmse:0.83262\tval-rmse:0.84376\n",
      "[1800]\ttrain-rmse:0.83076\tval-rmse:0.84335\n",
      "[2000]\ttrain-rmse:0.82905\tval-rmse:0.84305\n",
      "[2200]\ttrain-rmse:0.82746\tval-rmse:0.84287\n",
      "[2400]\ttrain-rmse:0.82592\tval-rmse:0.84266\n",
      "[2600]\ttrain-rmse:0.82448\tval-rmse:0.84254\n",
      "[2800]\ttrain-rmse:0.82303\tval-rmse:0.84243\n",
      "[3000]\ttrain-rmse:0.82168\tval-rmse:0.84239\n",
      "[3200]\ttrain-rmse:0.82033\tval-rmse:0.84233\n",
      "[3400]\ttrain-rmse:0.81902\tval-rmse:0.84236\n",
      "[3450]\ttrain-rmse:0.81869\tval-rmse:0.84237\n",
      "Model training33.309[s]\n",
      "score: 0.84233\n",
      "****************************************************************************************************\n",
      "Seed: 42 - Fold: 1\n",
      "[0]\ttrain-rmse:6.94481\tval-rmse:6.93873\n",
      "[200]\ttrain-rmse:1.26409\tval-rmse:1.26093\n",
      "[400]\ttrain-rmse:0.86137\tval-rmse:0.86420\n",
      "[600]\ttrain-rmse:0.84649\tval-rmse:0.85196\n",
      "[800]\ttrain-rmse:0.84218\tval-rmse:0.84954\n",
      "[1000]\ttrain-rmse:0.83909\tval-rmse:0.84805\n",
      "[1200]\ttrain-rmse:0.83648\tval-rmse:0.84698\n",
      "[1400]\ttrain-rmse:0.83426\tval-rmse:0.84625\n",
      "[1600]\ttrain-rmse:0.83228\tval-rmse:0.84571\n",
      "[1800]\ttrain-rmse:0.83044\tval-rmse:0.84528\n",
      "[2000]\ttrain-rmse:0.82873\tval-rmse:0.84500\n",
      "[2200]\ttrain-rmse:0.82710\tval-rmse:0.84476\n",
      "[2400]\ttrain-rmse:0.82561\tval-rmse:0.84454\n",
      "[2600]\ttrain-rmse:0.82418\tval-rmse:0.84443\n",
      "[2800]\ttrain-rmse:0.82272\tval-rmse:0.84435\n",
      "[3000]\ttrain-rmse:0.82135\tval-rmse:0.84429\n",
      "[3200]\ttrain-rmse:0.81999\tval-rmse:0.84426\n",
      "[3400]\ttrain-rmse:0.81870\tval-rmse:0.84421\n",
      "[3600]\ttrain-rmse:0.81742\tval-rmse:0.84422\n",
      "[3624]\ttrain-rmse:0.81729\tval-rmse:0.84421\n",
      "Model training34.172[s]\n",
      "score: 0.84421\n",
      "****************************************************************************************************\n",
      "Seed: 42 - Fold: 2\n",
      "[0]\ttrain-rmse:6.94380\tval-rmse:6.94277\n",
      "[200]\ttrain-rmse:1.26425\tval-rmse:1.26430\n",
      "[400]\ttrain-rmse:0.86154\tval-rmse:0.86447\n",
      "[600]\ttrain-rmse:0.84667\tval-rmse:0.85159\n",
      "[800]\ttrain-rmse:0.84235\tval-rmse:0.84891\n",
      "[1000]\ttrain-rmse:0.83919\tval-rmse:0.84725\n",
      "[1200]\ttrain-rmse:0.83659\tval-rmse:0.84607\n",
      "[1400]\ttrain-rmse:0.83434\tval-rmse:0.84525\n",
      "[1600]\ttrain-rmse:0.83239\tval-rmse:0.84465\n",
      "[1800]\ttrain-rmse:0.83062\tval-rmse:0.84423\n",
      "[2000]\ttrain-rmse:0.82898\tval-rmse:0.84386\n",
      "[2200]\ttrain-rmse:0.82739\tval-rmse:0.84365\n",
      "[2400]\ttrain-rmse:0.82585\tval-rmse:0.84343\n",
      "[2600]\ttrain-rmse:0.82434\tval-rmse:0.84326\n",
      "[2800]\ttrain-rmse:0.82293\tval-rmse:0.84315\n",
      "[3000]\ttrain-rmse:0.82154\tval-rmse:0.84309\n",
      "[3200]\ttrain-rmse:0.82024\tval-rmse:0.84302\n",
      "[3400]\ttrain-rmse:0.81894\tval-rmse:0.84298\n",
      "[3600]\ttrain-rmse:0.81765\tval-rmse:0.84294\n",
      "[3800]\ttrain-rmse:0.81642\tval-rmse:0.84294\n",
      "[3864]\ttrain-rmse:0.81600\tval-rmse:0.84294\n",
      "Model training36.379[s]\n",
      "score: 0.84292\n",
      "****************************************************************************************************\n",
      "Seed: 42 - Fold: 3\n",
      "[0]\ttrain-rmse:6.94376\tval-rmse:6.94302\n",
      "[200]\ttrain-rmse:1.26439\tval-rmse:1.26431\n",
      "[400]\ttrain-rmse:0.86187\tval-rmse:0.86332\n",
      "[600]\ttrain-rmse:0.84695\tval-rmse:0.85016\n",
      "[800]\ttrain-rmse:0.84268\tval-rmse:0.84759\n",
      "[1000]\ttrain-rmse:0.83957\tval-rmse:0.84597\n",
      "[1200]\ttrain-rmse:0.83693\tval-rmse:0.84481\n",
      "[1400]\ttrain-rmse:0.83466\tval-rmse:0.84400\n",
      "[1600]\ttrain-rmse:0.83271\tval-rmse:0.84342\n",
      "[1800]\ttrain-rmse:0.83096\tval-rmse:0.84297\n",
      "[2000]\ttrain-rmse:0.82924\tval-rmse:0.84263\n",
      "[2200]\ttrain-rmse:0.82765\tval-rmse:0.84239\n",
      "[2400]\ttrain-rmse:0.82611\tval-rmse:0.84217\n",
      "[2600]\ttrain-rmse:0.82463\tval-rmse:0.84202\n",
      "[2800]\ttrain-rmse:0.82318\tval-rmse:0.84189\n",
      "[3000]\ttrain-rmse:0.82183\tval-rmse:0.84178\n",
      "[3200]\ttrain-rmse:0.82048\tval-rmse:0.84170\n",
      "[3400]\ttrain-rmse:0.81919\tval-rmse:0.84166\n",
      "[3600]\ttrain-rmse:0.81787\tval-rmse:0.84167\n",
      "[3610]\ttrain-rmse:0.81781\tval-rmse:0.84167\n",
      "Model training34.221[s]\n",
      "score: 0.84166\n",
      "****************************************************************************************************\n",
      "Seed: 42 - Fold: 4\n",
      "[0]\ttrain-rmse:6.94194\tval-rmse:6.95029\n",
      "[200]\ttrain-rmse:1.26421\tval-rmse:1.26944\n",
      "[400]\ttrain-rmse:0.86197\tval-rmse:0.86360\n",
      "[600]\ttrain-rmse:0.84710\tval-rmse:0.84939\n",
      "[800]\ttrain-rmse:0.84283\tval-rmse:0.84659\n",
      "[1000]\ttrain-rmse:0.83970\tval-rmse:0.84499\n",
      "[1200]\ttrain-rmse:0.83711\tval-rmse:0.84385\n",
      "[1400]\ttrain-rmse:0.83490\tval-rmse:0.84304\n",
      "[1600]\ttrain-rmse:0.83285\tval-rmse:0.84241\n",
      "[1800]\ttrain-rmse:0.83103\tval-rmse:0.84199\n",
      "[2000]\ttrain-rmse:0.82937\tval-rmse:0.84165\n",
      "[2200]\ttrain-rmse:0.82773\tval-rmse:0.84140\n",
      "[2400]\ttrain-rmse:0.82627\tval-rmse:0.84123\n",
      "[2600]\ttrain-rmse:0.82478\tval-rmse:0.84109\n",
      "[2800]\ttrain-rmse:0.82337\tval-rmse:0.84098\n",
      "[3000]\ttrain-rmse:0.82203\tval-rmse:0.84089\n",
      "[3200]\ttrain-rmse:0.82068\tval-rmse:0.84083\n",
      "[3400]\ttrain-rmse:0.81941\tval-rmse:0.84082\n",
      "[3600]\ttrain-rmse:0.81812\tval-rmse:0.84081\n",
      "[3800]\ttrain-rmse:0.81688\tval-rmse:0.84083\n",
      "[3863]\ttrain-rmse:0.81650\tval-rmse:0.84082\n",
      "Model training35.623[s]\n",
      "score: 0.84080\n",
      "oof score:  0.842384\n"
     ]
    }
   ],
   "source": [
    "oof_pred_xgb, test_pred_xgb, score_xgb, feat_imps_xgb = run_train_and_inference(\n",
    "    X, X_test, y, \"xgb\", MODEL_PARAMS[\"xgb\"], TRAIN_PARAMS[\"xgb\"], RANDOM_SEED_LIST, N_SPLITS)"
   ]
  },
  {
   "cell_type": "code",
   "execution_count": 44,
   "metadata": {
    "_kg_hide-output": true,
    "papermill": {
     "duration": 0.120004,
     "end_time": "2021-02-02T17:27:13.813316",
     "exception": false,
     "start_time": "2021-02-02T17:27:13.693312",
     "status": "completed"
    },
    "tags": []
   },
   "outputs": [
    {
     "data": {
      "text/html": [
       "<div>\n",
       "<style scoped>\n",
       "    .dataframe tbody tr th:only-of-type {\n",
       "        vertical-align: middle;\n",
       "    }\n",
       "\n",
       "    .dataframe tbody tr th {\n",
       "        vertical-align: top;\n",
       "    }\n",
       "\n",
       "    .dataframe thead th {\n",
       "        text-align: right;\n",
       "    }\n",
       "</style>\n",
       "<table border=\"1\" class=\"dataframe\">\n",
       "  <thead>\n",
       "    <tr style=\"text-align: right;\">\n",
       "      <th></th>\n",
       "      <th>seed</th>\n",
       "      <th>fold</th>\n",
       "      <th>rmse score</th>\n",
       "    </tr>\n",
       "  </thead>\n",
       "  <tbody>\n",
       "    <tr>\n",
       "      <th>0</th>\n",
       "      <td>42</td>\n",
       "      <td>0</td>\n",
       "      <td>0.842332</td>\n",
       "    </tr>\n",
       "    <tr>\n",
       "      <th>1</th>\n",
       "      <td>42</td>\n",
       "      <td>1</td>\n",
       "      <td>0.844205</td>\n",
       "    </tr>\n",
       "    <tr>\n",
       "      <th>2</th>\n",
       "      <td>42</td>\n",
       "      <td>2</td>\n",
       "      <td>0.842925</td>\n",
       "    </tr>\n",
       "    <tr>\n",
       "      <th>3</th>\n",
       "      <td>42</td>\n",
       "      <td>3</td>\n",
       "      <td>0.841656</td>\n",
       "    </tr>\n",
       "    <tr>\n",
       "      <th>4</th>\n",
       "      <td>42</td>\n",
       "      <td>4</td>\n",
       "      <td>0.840798</td>\n",
       "    </tr>\n",
       "    <tr>\n",
       "      <th>5</th>\n",
       "      <td>42</td>\n",
       "      <td>oof</td>\n",
       "      <td>0.842384</td>\n",
       "    </tr>\n",
       "    <tr>\n",
       "      <th>6</th>\n",
       "      <td>avg</td>\n",
       "      <td>oof</td>\n",
       "      <td>0.842384</td>\n",
       "    </tr>\n",
       "  </tbody>\n",
       "</table>\n",
       "</div>"
      ],
      "text/plain": [
       "  seed fold  rmse score\n",
       "0   42    0    0.842332\n",
       "1   42    1    0.844205\n",
       "2   42    2    0.842925\n",
       "3   42    3    0.841656\n",
       "4   42    4    0.840798\n",
       "5   42  oof    0.842384\n",
       "6  avg  oof    0.842384"
      ]
     },
     "execution_count": 44,
     "metadata": {},
     "output_type": "execute_result"
    }
   ],
   "source": [
    "score_xgb"
   ]
  },
  {
   "cell_type": "code",
   "execution_count": 45,
   "metadata": {
    "papermill": {
     "duration": 0.195323,
     "end_time": "2021-02-02T17:27:14.167445",
     "exception": false,
     "start_time": "2021-02-02T17:27:13.972122",
     "status": "completed"
    },
    "tags": []
   },
   "outputs": [
    {
     "data": {
      "text/html": [
       "<div>\n",
       "<style scoped>\n",
       "    .dataframe tbody tr th:only-of-type {\n",
       "        vertical-align: middle;\n",
       "    }\n",
       "\n",
       "    .dataframe tbody tr th {\n",
       "        vertical-align: top;\n",
       "    }\n",
       "\n",
       "    .dataframe thead th {\n",
       "        text-align: right;\n",
       "    }\n",
       "</style>\n",
       "<table border=\"1\" class=\"dataframe\">\n",
       "  <thead>\n",
       "    <tr style=\"text-align: right;\">\n",
       "      <th></th>\n",
       "      <th>seed</th>\n",
       "      <th>fold</th>\n",
       "      <th>rmse score</th>\n",
       "    </tr>\n",
       "  </thead>\n",
       "  <tbody>\n",
       "    <tr>\n",
       "      <th>5</th>\n",
       "      <td>42</td>\n",
       "      <td>oof</td>\n",
       "      <td>0.842384</td>\n",
       "    </tr>\n",
       "    <tr>\n",
       "      <th>6</th>\n",
       "      <td>avg</td>\n",
       "      <td>oof</td>\n",
       "      <td>0.842384</td>\n",
       "    </tr>\n",
       "  </tbody>\n",
       "</table>\n",
       "</div>"
      ],
      "text/plain": [
       "  seed fold  rmse score\n",
       "5   42  oof    0.842384\n",
       "6  avg  oof    0.842384"
      ]
     },
     "execution_count": 45,
     "metadata": {},
     "output_type": "execute_result"
    }
   ],
   "source": [
    "score_xgb.loc[score_xgb.fold == \"oof\"]"
   ]
  },
  {
   "cell_type": "code",
   "execution_count": 46,
   "metadata": {
    "papermill": {
     "duration": 1.602075,
     "end_time": "2021-02-02T17:27:15.941353",
     "exception": false,
     "start_time": "2021-02-02T17:27:14.339278",
     "status": "completed"
    },
    "tags": []
   },
   "outputs": [
    {
     "data": {
      "image/png": "[encoded data removed]",
      "text/plain": [
       "<Figure size 720x720 with 1 Axes>"
      ]
     },
     "metadata": {
      "needs_background": "light"
     },
     "output_type": "display_data"
    }
   ],
   "source": [
    "order = list(feat_imps_xgb.groupby(\"feature\").mean().sort_values(\"importance\", ascending=False).index)\n",
    "plt.figure(figsize=(10, 10))\n",
    "sns.barplot(x=\"importance\", y=\"feature\", data=feat_imps_xgb, order=order)\n",
    "plt.title(\"{} importance\".format(\"xgb\"))\n",
    "plt.tight_layout()"
   ]
  },
  {
   "cell_type": "markdown",
   "metadata": {
    "papermill": {
     "duration": 0.106272,
     "end_time": "2021-02-02T17:27:16.155617",
     "exception": false,
     "start_time": "2021-02-02T17:27:16.049345",
     "status": "completed"
    },
    "tags": []
   },
   "source": [
    "### CatBoost"
   ]
  },
  {
   "cell_type": "code",
   "execution_count": 47,
   "metadata": {
    "_kg_hide-output": true,
    "papermill": {
     "duration": 533.987245,
     "end_time": "2021-02-02T17:36:10.248988",
     "exception": false,
     "start_time": "2021-02-02T17:27:16.261743",
     "status": "completed"
    },
    "tags": []
   },
   "outputs": [
    {
     "name": "stdout",
     "output_type": "stream",
     "text": [
      "****************************************************************************************************\n",
      "Seed: 42 - Fold: 0\n",
      "0:\tlearn: 0.8862917\ttest: 0.8878392\tbest: 0.8878392 (0)\ttotal: 91.6ms\tremaining: 30m 32s\n",
      "200:\tlearn: 0.8531406\ttest: 0.8535632\tbest: 0.8535632 (200)\ttotal: 5.84s\tremaining: 9m 35s\n",
      "400:\tlearn: 0.8478331\ttest: 0.8489703\tbest: 0.8489703 (400)\ttotal: 11.6s\tremaining: 9m 27s\n",
      "600:\tlearn: 0.8447635\ttest: 0.8467624\tbest: 0.8467624 (600)\ttotal: 17.2s\tremaining: 9m 14s\n",
      "800:\tlearn: 0.8426319\ttest: 0.8455110\tbest: 0.8455110 (800)\ttotal: 22.9s\tremaining: 9m 9s\n",
      "1000:\tlearn: 0.8409362\ttest: 0.8445879\tbest: 0.8445879 (1000)\ttotal: 28.5s\tremaining: 9m\n",
      "1200:\tlearn: 0.8395283\ttest: 0.8440312\tbest: 0.8440312 (1200)\ttotal: 34.5s\tremaining: 8m 59s\n",
      "1400:\tlearn: 0.8382690\ttest: 0.8436926\tbest: 0.8436926 (1400)\ttotal: 40.2s\tremaining: 8m 53s\n",
      "1600:\tlearn: 0.8371110\ttest: 0.8433794\tbest: 0.8433791 (1599)\ttotal: 46.2s\tremaining: 8m 50s\n",
      "1800:\tlearn: 0.8360446\ttest: 0.8431788\tbest: 0.8431788 (1800)\ttotal: 52s\tremaining: 8m 45s\n",
      "2000:\tlearn: 0.8350189\ttest: 0.8430540\tbest: 0.8430527 (1999)\ttotal: 57.9s\tremaining: 8m 41s\n",
      "2200:\tlearn: 0.8340481\ttest: 0.8429579\tbest: 0.8429579 (2200)\ttotal: 1m 3s\tremaining: 8m 36s\n",
      "2400:\tlearn: 0.8331360\ttest: 0.8428880\tbest: 0.8428809 (2373)\ttotal: 1m 10s\tremaining: 8m 33s\n",
      "2600:\tlearn: 0.8322765\ttest: 0.8428154\tbest: 0.8428133 (2579)\ttotal: 1m 15s\tremaining: 8m 28s\n",
      "2800:\tlearn: 0.8314018\ttest: 0.8427523\tbest: 0.8427457 (2794)\ttotal: 1m 21s\tremaining: 8m 20s\n",
      "3000:\tlearn: 0.8305657\ttest: 0.8427292\tbest: 0.8427172 (2976)\ttotal: 1m 27s\tremaining: 8m 14s\n",
      "3200:\tlearn: 0.8297408\ttest: 0.8427072\tbest: 0.8426874 (3174)\ttotal: 1m 33s\tremaining: 8m 9s\n",
      "3400:\tlearn: 0.8289252\ttest: 0.8426763\tbest: 0.8426658 (3352)\ttotal: 1m 39s\tremaining: 8m 3s\n",
      "Stopped by overfitting detector  (200 iterations wait)\n",
      "\n",
      "bestTest = 0.8426657741\n",
      "bestIteration = 3352\n",
      "\n",
      "Shrink model to first 3353 iterations.\n",
      "Model training105.130[s]\n",
      "score: 0.84267\n",
      "****************************************************************************************************\n",
      "Seed: 42 - Fold: 1\n",
      "0:\tlearn: 0.8864678\ttest: 0.8869312\tbest: 0.8869312 (0)\ttotal: 36.9ms\tremaining: 12m 16s\n",
      "200:\tlearn: 0.8526390\ttest: 0.8550720\tbest: 0.8550720 (200)\ttotal: 5.88s\tremaining: 9m 38s\n",
      "400:\tlearn: 0.8473666\ttest: 0.8508449\tbest: 0.8508449 (400)\ttotal: 11.6s\tremaining: 9m 27s\n",
      "600:\tlearn: 0.8442355\ttest: 0.8487562\tbest: 0.8487562 (600)\ttotal: 17.5s\tremaining: 9m 23s\n",
      "800:\tlearn: 0.8421197\ttest: 0.8476083\tbest: 0.8476083 (800)\ttotal: 23.7s\tremaining: 9m 27s\n",
      "1000:\tlearn: 0.8403702\ttest: 0.8468052\tbest: 0.8468052 (1000)\ttotal: 29.6s\tremaining: 9m 21s\n",
      "1200:\tlearn: 0.8389178\ttest: 0.8463140\tbest: 0.8463121 (1199)\ttotal: 36.4s\tremaining: 9m 30s\n",
      "1400:\tlearn: 0.8376540\ttest: 0.8459075\tbest: 0.8459075 (1400)\ttotal: 43.2s\tremaining: 9m 33s\n",
      "1600:\tlearn: 0.8364966\ttest: 0.8456270\tbest: 0.8456270 (1600)\ttotal: 49.4s\tremaining: 9m 27s\n",
      "1800:\tlearn: 0.8354357\ttest: 0.8454800\tbest: 0.8454800 (1800)\ttotal: 55.9s\tremaining: 9m 24s\n",
      "2000:\tlearn: 0.8344659\ttest: 0.8453498\tbest: 0.8453367 (1989)\ttotal: 1m 2s\tremaining: 9m 22s\n",
      "2200:\tlearn: 0.8335132\ttest: 0.8452365\tbest: 0.8452346 (2199)\ttotal: 1m 9s\tremaining: 9m 18s\n",
      "2400:\tlearn: 0.8325834\ttest: 0.8451674\tbest: 0.8451662 (2359)\ttotal: 1m 15s\tremaining: 9m 11s\n",
      "2600:\tlearn: 0.8316870\ttest: 0.8451084\tbest: 0.8451084 (2600)\ttotal: 1m 21s\tremaining: 9m 4s\n",
      "2800:\tlearn: 0.8308233\ttest: 0.8450798\tbest: 0.8450790 (2798)\ttotal: 1m 27s\tremaining: 8m 59s\n",
      "3000:\tlearn: 0.8299820\ttest: 0.8450361\tbest: 0.8450240 (2967)\ttotal: 1m 34s\tremaining: 8m 54s\n",
      "3200:\tlearn: 0.8291448\ttest: 0.8449743\tbest: 0.8449727 (3199)\ttotal: 1m 40s\tremaining: 8m 48s\n",
      "3400:\tlearn: 0.8283284\ttest: 0.8449682\tbest: 0.8449642 (3388)\ttotal: 1m 47s\tremaining: 8m 43s\n",
      "3600:\tlearn: 0.8275326\ttest: 0.8449542\tbest: 0.8449347 (3536)\ttotal: 1m 53s\tremaining: 8m 38s\n",
      "3800:\tlearn: 0.8267688\ttest: 0.8449720\tbest: 0.8449273 (3670)\ttotal: 2m\tremaining: 8m 32s\n",
      "Stopped by overfitting detector  (200 iterations wait)\n",
      "\n",
      "bestTest = 0.844927337\n",
      "bestIteration = 3670\n",
      "\n",
      "Shrink model to first 3671 iterations.\n",
      "Model training124.240[s]\n",
      "score: 0.84493\n",
      "****************************************************************************************************\n",
      "Seed: 42 - Fold: 2\n",
      "0:\tlearn: 0.8863842\ttest: 0.8873128\tbest: 0.8873128 (0)\ttotal: 33.8ms\tremaining: 11m 15s\n",
      "200:\tlearn: 0.8528248\ttest: 0.8547870\tbest: 0.8547870 (200)\ttotal: 6.62s\tremaining: 10m 52s\n",
      "400:\tlearn: 0.8475587\ttest: 0.8502629\tbest: 0.8502629 (400)\ttotal: 12.3s\tremaining: 10m 3s\n",
      "600:\tlearn: 0.8444727\ttest: 0.8479644\tbest: 0.8479644 (600)\ttotal: 18s\tremaining: 9m 39s\n",
      "800:\tlearn: 0.8423587\ttest: 0.8466410\tbest: 0.8466410 (800)\ttotal: 23.6s\tremaining: 9m 26s\n",
      "1000:\tlearn: 0.8406635\ttest: 0.8457918\tbest: 0.8457918 (1000)\ttotal: 29.2s\tremaining: 9m 13s\n",
      "1200:\tlearn: 0.8392499\ttest: 0.8452753\tbest: 0.8452753 (1200)\ttotal: 34.5s\tremaining: 9m\n",
      "1400:\tlearn: 0.8379828\ttest: 0.8448601\tbest: 0.8448601 (1400)\ttotal: 40.2s\tremaining: 8m 53s\n",
      "1600:\tlearn: 0.8368455\ttest: 0.8445651\tbest: 0.8445651 (1600)\ttotal: 45.8s\tremaining: 8m 46s\n",
      "1800:\tlearn: 0.8357660\ttest: 0.8443537\tbest: 0.8443510 (1797)\ttotal: 51s\tremaining: 8m 35s\n",
      "2000:\tlearn: 0.8347462\ttest: 0.8442178\tbest: 0.8442143 (1998)\ttotal: 56.3s\tremaining: 8m 26s\n",
      "2200:\tlearn: 0.8337866\ttest: 0.8440650\tbest: 0.8440650 (2200)\ttotal: 1m 1s\tremaining: 8m 20s\n",
      "2400:\tlearn: 0.8328764\ttest: 0.8439568\tbest: 0.8439544 (2398)\ttotal: 1m 7s\tremaining: 8m 12s\n",
      "2600:\tlearn: 0.8319511\ttest: 0.8438979\tbest: 0.8438949 (2596)\ttotal: 1m 12s\tremaining: 8m 6s\n",
      "2800:\tlearn: 0.8310984\ttest: 0.8437914\tbest: 0.8437864 (2780)\ttotal: 1m 18s\tremaining: 7m 59s\n",
      "3000:\tlearn: 0.8302582\ttest: 0.8437993\tbest: 0.8437802 (2944)\ttotal: 1m 23s\tremaining: 7m 55s\n",
      "3200:\tlearn: 0.8294396\ttest: 0.8437569\tbest: 0.8437446 (3165)\ttotal: 1m 29s\tremaining: 7m 49s\n",
      "3400:\tlearn: 0.8286529\ttest: 0.8437728\tbest: 0.8437415 (3236)\ttotal: 1m 34s\tremaining: 7m 43s\n",
      "Stopped by overfitting detector  (200 iterations wait)\n",
      "\n",
      "bestTest = 0.8437414837\n",
      "bestIteration = 3236\n",
      "\n",
      "Shrink model to first 3237 iterations.\n",
      "Model training97.324[s]\n",
      "score: 0.84374\n",
      "****************************************************************************************************\n",
      "Seed: 42 - Fold: 3\n",
      "0:\tlearn: 0.8869480\ttest: 0.8854015\tbest: 0.8854015 (0)\ttotal: 34.3ms\tremaining: 11m 25s\n",
      "200:\tlearn: 0.8532367\ttest: 0.8531514\tbest: 0.8531514 (200)\ttotal: 5.58s\tremaining: 9m 10s\n",
      "400:\tlearn: 0.8479341\ttest: 0.8487175\tbest: 0.8487175 (400)\ttotal: 11.1s\tremaining: 9m 2s\n",
      "600:\tlearn: 0.8448085\ttest: 0.8464509\tbest: 0.8464509 (600)\ttotal: 16.4s\tremaining: 8m 49s\n",
      "800:\tlearn: 0.8426880\ttest: 0.8452921\tbest: 0.8452921 (800)\ttotal: 21.8s\tremaining: 8m 41s\n",
      "1000:\tlearn: 0.8410237\ttest: 0.8444830\tbest: 0.8444813 (997)\ttotal: 27s\tremaining: 8m 33s\n",
      "1200:\tlearn: 0.8395783\ttest: 0.8439164\tbest: 0.8439155 (1199)\ttotal: 32.4s\tremaining: 8m 26s\n",
      "1400:\tlearn: 0.8383134\ttest: 0.8434757\tbest: 0.8434757 (1400)\ttotal: 37.8s\tremaining: 8m 21s\n",
      "1600:\tlearn: 0.8371317\ttest: 0.8431642\tbest: 0.8431642 (1600)\ttotal: 43.1s\tremaining: 8m 15s\n",
      "1800:\tlearn: 0.8360549\ttest: 0.8430150\tbest: 0.8430150 (1800)\ttotal: 48.4s\tremaining: 8m 9s\n",
      "2000:\tlearn: 0.8350515\ttest: 0.8428411\tbest: 0.8428357 (1997)\ttotal: 53.8s\tremaining: 8m 3s\n",
      "2200:\tlearn: 0.8340811\ttest: 0.8427227\tbest: 0.8427227 (2200)\ttotal: 59.4s\tremaining: 8m\n",
      "2400:\tlearn: 0.8331527\ttest: 0.8426542\tbest: 0.8426484 (2397)\ttotal: 1m 4s\tremaining: 7m 54s\n",
      "2600:\tlearn: 0.8322406\ttest: 0.8426138\tbest: 0.8426093 (2591)\ttotal: 1m 10s\tremaining: 7m 48s\n",
      "2800:\tlearn: 0.8313926\ttest: 0.8425812\tbest: 0.8425670 (2754)\ttotal: 1m 15s\tremaining: 7m 42s\n",
      "Stopped by overfitting detector  (200 iterations wait)\n",
      "\n",
      "bestTest = 0.8425669738\n",
      "bestIteration = 2754\n",
      "\n",
      "Shrink model to first 2755 iterations.\n",
      "Model training80.552[s]\n",
      "score: 0.84257\n",
      "****************************************************************************************************\n",
      "Seed: 42 - Fold: 4\n",
      "0:\tlearn: 0.8868524\ttest: 0.8855200\tbest: 0.8855200 (0)\ttotal: 29.4ms\tremaining: 9m 47s\n",
      "200:\tlearn: 0.8534959\ttest: 0.8525694\tbest: 0.8525694 (200)\ttotal: 5.42s\tremaining: 8m 54s\n",
      "400:\tlearn: 0.8480015\ttest: 0.8478232\tbest: 0.8478232 (400)\ttotal: 11.1s\tremaining: 9m\n",
      "600:\tlearn: 0.8449250\ttest: 0.8455438\tbest: 0.8455438 (600)\ttotal: 16.6s\tremaining: 8m 54s\n",
      "800:\tlearn: 0.8428869\ttest: 0.8444525\tbest: 0.8444525 (800)\ttotal: 22.1s\tremaining: 8m 50s\n",
      "1000:\tlearn: 0.8412155\ttest: 0.8436770\tbest: 0.8436770 (1000)\ttotal: 27.5s\tremaining: 8m 41s\n",
      "1200:\tlearn: 0.8398069\ttest: 0.8431245\tbest: 0.8431245 (1200)\ttotal: 32.8s\tremaining: 8m 33s\n",
      "1400:\tlearn: 0.8385566\ttest: 0.8427886\tbest: 0.8427886 (1400)\ttotal: 38.3s\tremaining: 8m 28s\n",
      "1600:\tlearn: 0.8374048\ttest: 0.8425414\tbest: 0.8425414 (1600)\ttotal: 43.7s\tremaining: 8m 22s\n",
      "1800:\tlearn: 0.8363563\ttest: 0.8424078\tbest: 0.8424078 (1799)\ttotal: 49.2s\tremaining: 8m 17s\n",
      "2000:\tlearn: 0.8353495\ttest: 0.8422417\tbest: 0.8422400 (1998)\ttotal: 54.4s\tremaining: 8m 9s\n",
      "2200:\tlearn: 0.8343956\ttest: 0.8421089\tbest: 0.8421089 (2200)\ttotal: 59.8s\tremaining: 8m 3s\n",
      "2400:\tlearn: 0.8334719\ttest: 0.8420175\tbest: 0.8420123 (2374)\ttotal: 1m 5s\tremaining: 7m 58s\n",
      "2600:\tlearn: 0.8325778\ttest: 0.8419238\tbest: 0.8419238 (2600)\ttotal: 1m 10s\tremaining: 7m 52s\n",
      "2800:\tlearn: 0.8317117\ttest: 0.8418849\tbest: 0.8418836 (2798)\ttotal: 1m 15s\tremaining: 7m 45s\n",
      "3000:\tlearn: 0.8308732\ttest: 0.8418503\tbest: 0.8418502 (2999)\ttotal: 1m 21s\tremaining: 7m 40s\n",
      "3200:\tlearn: 0.8300737\ttest: 0.8418355\tbest: 0.8418280 (3141)\ttotal: 1m 26s\tremaining: 7m 35s\n",
      "3400:\tlearn: 0.8292591\ttest: 0.8417897\tbest: 0.8417866 (3353)\ttotal: 1m 32s\tremaining: 7m 30s\n",
      "3600:\tlearn: 0.8284892\ttest: 0.8417888\tbest: 0.8417841 (3584)\ttotal: 1m 37s\tremaining: 7m 25s\n",
      "3800:\tlearn: 0.8277107\ttest: 0.8417767\tbest: 0.8417654 (3651)\ttotal: 1m 43s\tremaining: 7m 20s\n",
      "4000:\tlearn: 0.8269463\ttest: 0.8417880\tbest: 0.8417531 (3921)\ttotal: 1m 48s\tremaining: 7m 14s\n",
      "Stopped by overfitting detector  (200 iterations wait)\n",
      "\n",
      "bestTest = 0.8417530821\n",
      "bestIteration = 3921\n",
      "\n",
      "Shrink model to first 3922 iterations.\n",
      "Model training113.529[s]\n",
      "score: 0.84175\n",
      "oof score:  0.843132\n"
     ]
    }
   ],
   "source": [
    "oof_pred_cat, test_pred_cat, score_cat, feat_imps_cat = run_train_and_inference(\n",
    "    X, X_test, y, \"cat\", MODEL_PARAMS[\"cat\"], TRAIN_PARAMS[\"cat\"], RANDOM_SEED_LIST, N_SPLITS)"
   ]
  },
  {
   "cell_type": "code",
   "execution_count": 48,
   "metadata": {
    "_kg_hide-output": true,
    "papermill": {
     "duration": 0.149891,
     "end_time": "2021-02-02T17:36:10.533307",
     "exception": false,
     "start_time": "2021-02-02T17:36:10.383416",
     "status": "completed"
    },
    "tags": []
   },
   "outputs": [
    {
     "data": {
      "text/html": [
       "<div>\n",
       "<style scoped>\n",
       "    .dataframe tbody tr th:only-of-type {\n",
       "        vertical-align: middle;\n",
       "    }\n",
       "\n",
       "    .dataframe tbody tr th {\n",
       "        vertical-align: top;\n",
       "    }\n",
       "\n",
       "    .dataframe thead th {\n",
       "        text-align: right;\n",
       "    }\n",
       "</style>\n",
       "<table border=\"1\" class=\"dataframe\">\n",
       "  <thead>\n",
       "    <tr style=\"text-align: right;\">\n",
       "      <th></th>\n",
       "      <th>seed</th>\n",
       "      <th>fold</th>\n",
       "      <th>rmse score</th>\n",
       "    </tr>\n",
       "  </thead>\n",
       "  <tbody>\n",
       "    <tr>\n",
       "      <th>0</th>\n",
       "      <td>42</td>\n",
       "      <td>0</td>\n",
       "      <td>0.842666</td>\n",
       "    </tr>\n",
       "    <tr>\n",
       "      <th>1</th>\n",
       "      <td>42</td>\n",
       "      <td>1</td>\n",
       "      <td>0.844927</td>\n",
       "    </tr>\n",
       "    <tr>\n",
       "      <th>2</th>\n",
       "      <td>42</td>\n",
       "      <td>2</td>\n",
       "      <td>0.843741</td>\n",
       "    </tr>\n",
       "    <tr>\n",
       "      <th>3</th>\n",
       "      <td>42</td>\n",
       "      <td>3</td>\n",
       "      <td>0.842567</td>\n",
       "    </tr>\n",
       "    <tr>\n",
       "      <th>4</th>\n",
       "      <td>42</td>\n",
       "      <td>4</td>\n",
       "      <td>0.841753</td>\n",
       "    </tr>\n",
       "    <tr>\n",
       "      <th>5</th>\n",
       "      <td>42</td>\n",
       "      <td>oof</td>\n",
       "      <td>0.843132</td>\n",
       "    </tr>\n",
       "    <tr>\n",
       "      <th>6</th>\n",
       "      <td>avg</td>\n",
       "      <td>oof</td>\n",
       "      <td>0.843132</td>\n",
       "    </tr>\n",
       "  </tbody>\n",
       "</table>\n",
       "</div>"
      ],
      "text/plain": [
       "  seed fold  rmse score\n",
       "0   42    0    0.842666\n",
       "1   42    1    0.844927\n",
       "2   42    2    0.843741\n",
       "3   42    3    0.842567\n",
       "4   42    4    0.841753\n",
       "5   42  oof    0.843132\n",
       "6  avg  oof    0.843132"
      ]
     },
     "execution_count": 48,
     "metadata": {},
     "output_type": "execute_result"
    }
   ],
   "source": [
    "score_cat"
   ]
  },
  {
   "cell_type": "code",
   "execution_count": 49,
   "metadata": {
    "papermill": {
     "duration": 0.168279,
     "end_time": "2021-02-02T17:36:10.838158",
     "exception": false,
     "start_time": "2021-02-02T17:36:10.669879",
     "status": "completed"
    },
    "tags": []
   },
   "outputs": [
    {
     "data": {
      "text/html": [
       "<div>\n",
       "<style scoped>\n",
       "    .dataframe tbody tr th:only-of-type {\n",
       "        vertical-align: middle;\n",
       "    }\n",
       "\n",
       "    .dataframe tbody tr th {\n",
       "        vertical-align: top;\n",
       "    }\n",
       "\n",
       "    .dataframe thead th {\n",
       "        text-align: right;\n",
       "    }\n",
       "</style>\n",
       "<table border=\"1\" class=\"dataframe\">\n",
       "  <thead>\n",
       "    <tr style=\"text-align: right;\">\n",
       "      <th></th>\n",
       "      <th>seed</th>\n",
       "      <th>fold</th>\n",
       "      <th>rmse score</th>\n",
       "    </tr>\n",
       "  </thead>\n",
       "  <tbody>\n",
       "    <tr>\n",
       "      <th>5</th>\n",
       "      <td>42</td>\n",
       "      <td>oof</td>\n",
       "      <td>0.843132</td>\n",
       "    </tr>\n",
       "    <tr>\n",
       "      <th>6</th>\n",
       "      <td>avg</td>\n",
       "      <td>oof</td>\n",
       "      <td>0.843132</td>\n",
       "    </tr>\n",
       "  </tbody>\n",
       "</table>\n",
       "</div>"
      ],
      "text/plain": [
       "  seed fold  rmse score\n",
       "5   42  oof    0.843132\n",
       "6  avg  oof    0.843132"
      ]
     },
     "execution_count": 49,
     "metadata": {},
     "output_type": "execute_result"
    }
   ],
   "source": [
    "score_cat.loc[score_cat.fold == \"oof\"]"
   ]
  },
  {
   "cell_type": "code",
   "execution_count": 50,
   "metadata": {
    "papermill": {
     "duration": 1.180484,
     "end_time": "2021-02-02T17:36:12.155854",
     "exception": false,
     "start_time": "2021-02-02T17:36:10.975370",
     "status": "completed"
    },
    "tags": []
   },
   "outputs": [
    {
     "data": {
      "image/png": "[encoded data removed]",
      "text/plain": [
       "<Figure size 720x720 with 1 Axes>"
      ]
     },
     "metadata": {
      "needs_background": "light"
     },
     "output_type": "display_data"
    }
   ],
   "source": [
    "order = list(feat_imps_cat.groupby(\"feature\").mean().sort_values(\"importance\", ascending=False).index)\n",
    "plt.figure(figsize=(10, 10))\n",
    "sns.barplot(x=\"importance\", y=\"feature\", data=feat_imps_cat, order=order)\n",
    "plt.title(\"{} importance\".format(\"cat\"))\n",
    "plt.tight_layout()"
   ]
  },
  {
   "cell_type": "markdown",
   "metadata": {
    "papermill": {
     "duration": 0.138476,
     "end_time": "2021-02-02T17:36:12.434254",
     "exception": false,
     "start_time": "2021-02-02T17:36:12.295778",
     "status": "completed"
    },
    "tags": []
   },
   "source": [
    "### Ensemble LGB, XGB, Cat"
   ]
  },
  {
   "cell_type": "markdown",
   "metadata": {
    "papermill": {
     "duration": 0.140349,
     "end_time": "2021-02-02T17:36:12.714554",
     "exception": false,
     "start_time": "2021-02-02T17:36:12.574205",
     "status": "completed"
    },
    "tags": []
   },
   "source": [
    "### check correlation"
   ]
  },
  {
   "cell_type": "code",
   "execution_count": 51,
   "metadata": {
    "papermill": {
     "duration": 0.253705,
     "end_time": "2021-02-02T17:36:13.190024",
     "exception": false,
     "start_time": "2021-02-02T17:36:12.936319",
     "status": "completed"
    },
    "tags": []
   },
   "outputs": [],
   "source": [
    "model_names = [\"lgb\", \"xgb\", \"cat\"]"
   ]
  },
  {
   "cell_type": "code",
   "execution_count": 52,
   "metadata": {
    "papermill": {
     "duration": 0.542967,
     "end_time": "2021-02-02T17:36:14.031015",
     "exception": false,
     "start_time": "2021-02-02T17:36:13.488048",
     "status": "completed"
    },
    "tags": []
   },
   "outputs": [
    {
     "data": {
      "text/html": [
       "<div>\n",
       "<style scoped>\n",
       "    .dataframe tbody tr th:only-of-type {\n",
       "        vertical-align: middle;\n",
       "    }\n",
       "\n",
       "    .dataframe tbody tr th {\n",
       "        vertical-align: top;\n",
       "    }\n",
       "\n",
       "    .dataframe thead th {\n",
       "        text-align: right;\n",
       "    }\n",
       "</style>\n",
       "<table border=\"1\" class=\"dataframe\">\n",
       "  <thead>\n",
       "    <tr style=\"text-align: right;\">\n",
       "      <th></th>\n",
       "      <th>lgb</th>\n",
       "      <th>xgb</th>\n",
       "      <th>cat</th>\n",
       "    </tr>\n",
       "  </thead>\n",
       "  <tbody>\n",
       "    <tr>\n",
       "      <th>lgb</th>\n",
       "      <td>1.000000</td>\n",
       "      <td>0.994147</td>\n",
       "      <td>0.985922</td>\n",
       "    </tr>\n",
       "    <tr>\n",
       "      <th>xgb</th>\n",
       "      <td>0.994147</td>\n",
       "      <td>1.000000</td>\n",
       "      <td>0.987152</td>\n",
       "    </tr>\n",
       "    <tr>\n",
       "      <th>cat</th>\n",
       "      <td>0.985922</td>\n",
       "      <td>0.987152</td>\n",
       "      <td>1.000000</td>\n",
       "    </tr>\n",
       "  </tbody>\n",
       "</table>\n",
       "</div>"
      ],
      "text/plain": [
       "          lgb       xgb       cat\n",
       "lgb  1.000000  0.994147  0.985922\n",
       "xgb  0.994147  1.000000  0.987152\n",
       "cat  0.985922  0.987152  1.000000"
      ]
     },
     "execution_count": 52,
     "metadata": {},
     "output_type": "execute_result"
    }
   ],
   "source": [
    "# # prediction for oof\n",
    "pd.DataFrame(\n",
    "    np.corrcoef([\n",
    "        oof_pred_lgb,\n",
    "        oof_pred_xgb,\n",
    "        oof_pred_cat\n",
    "    ]),\n",
    "    columns=model_names, index=model_names)"
   ]
  },
  {
   "cell_type": "code",
   "execution_count": 53,
   "metadata": {
    "papermill": {
     "duration": 0.154826,
     "end_time": "2021-02-02T17:36:14.396587",
     "exception": false,
     "start_time": "2021-02-02T17:36:14.241761",
     "status": "completed"
    },
    "tags": []
   },
   "outputs": [
    {
     "data": {
      "text/html": [
       "<div>\n",
       "<style scoped>\n",
       "    .dataframe tbody tr th:only-of-type {\n",
       "        vertical-align: middle;\n",
       "    }\n",
       "\n",
       "    .dataframe tbody tr th {\n",
       "        vertical-align: top;\n",
       "    }\n",
       "\n",
       "    .dataframe thead th {\n",
       "        text-align: right;\n",
       "    }\n",
       "</style>\n",
       "<table border=\"1\" class=\"dataframe\">\n",
       "  <thead>\n",
       "    <tr style=\"text-align: right;\">\n",
       "      <th></th>\n",
       "      <th>lgb</th>\n",
       "      <th>xgb</th>\n",
       "      <th>cat</th>\n",
       "    </tr>\n",
       "  </thead>\n",
       "  <tbody>\n",
       "    <tr>\n",
       "      <th>lgb</th>\n",
       "      <td>1.000000</td>\n",
       "      <td>0.997871</td>\n",
       "      <td>0.991692</td>\n",
       "    </tr>\n",
       "    <tr>\n",
       "      <th>xgb</th>\n",
       "      <td>0.997871</td>\n",
       "      <td>1.000000</td>\n",
       "      <td>0.992570</td>\n",
       "    </tr>\n",
       "    <tr>\n",
       "      <th>cat</th>\n",
       "      <td>0.991692</td>\n",
       "      <td>0.992570</td>\n",
       "      <td>1.000000</td>\n",
       "    </tr>\n",
       "  </tbody>\n",
       "</table>\n",
       "</div>"
      ],
      "text/plain": [
       "          lgb       xgb       cat\n",
       "lgb  1.000000  0.997871  0.991692\n",
       "xgb  0.997871  1.000000  0.992570\n",
       "cat  0.991692  0.992570  1.000000"
      ]
     },
     "execution_count": 53,
     "metadata": {},
     "output_type": "execute_result"
    }
   ],
   "source": [
    "# # prediction for test\n",
    "pd.DataFrame(\n",
    "    np.corrcoef([\n",
    "        test_pred_lgb,\n",
    "        test_pred_xgb,\n",
    "        test_pred_cat\n",
    "    ]),\n",
    "    columns=model_names, index=model_names)"
   ]
  },
  {
   "cell_type": "markdown",
   "metadata": {
    "papermill": {
     "duration": 0.138992,
     "end_time": "2021-02-02T17:36:14.676629",
     "exception": false,
     "start_time": "2021-02-02T17:36:14.537637",
     "status": "completed"
    },
    "tags": []
   },
   "source": [
    "### simple averaging"
   ]
  },
  {
   "cell_type": "code",
   "execution_count": 54,
   "metadata": {
    "papermill": {
     "duration": 0.149983,
     "end_time": "2021-02-02T17:36:14.963914",
     "exception": false,
     "start_time": "2021-02-02T17:36:14.813931",
     "status": "completed"
    },
    "tags": []
   },
   "outputs": [
    {
     "name": "stdout",
     "output_type": "stream",
     "text": [
      "oof score avg: 0.84230\n"
     ]
    }
   ],
   "source": [
    "oof_pred_avg = (oof_pred_lgb + oof_pred_xgb + oof_pred_cat) / 3\n",
    "oof_score_avg = mean_squared_error(y, oof_pred_avg, squared=False)\n",
    "\n",
    "print(f\"oof score avg: {oof_score_avg:.5f}\")"
   ]
  },
  {
   "cell_type": "code",
   "execution_count": 55,
   "metadata": {
    "papermill": {
     "duration": 0.145606,
     "end_time": "2021-02-02T17:36:15.246613",
     "exception": false,
     "start_time": "2021-02-02T17:36:15.101007",
     "status": "completed"
    },
    "tags": []
   },
   "outputs": [],
   "source": [
    "test_pred_avg = (test_pred_lgb + test_pred_xgb + test_pred_cat) / 3"
   ]
  },
  {
   "cell_type": "markdown",
   "metadata": {
    "papermill": {
     "duration": 0.138831,
     "end_time": "2021-02-02T17:36:15.522539",
     "exception": false,
     "start_time": "2021-02-02T17:36:15.383708",
     "status": "completed"
    },
    "tags": []
   },
   "source": [
    "### weighted averaging"
   ]
  },
  {
   "cell_type": "code",
   "execution_count": 56,
   "metadata": {
    "papermill": {
     "duration": 0.145087,
     "end_time": "2021-02-02T17:36:15.806332",
     "exception": false,
     "start_time": "2021-02-02T17:36:15.661245",
     "status": "completed"
    },
    "tags": []
   },
   "outputs": [],
   "source": [
    "weights = [0.5, 0.4, 0.1]"
   ]
  },
  {
   "cell_type": "code",
   "execution_count": 57,
   "metadata": {
    "papermill": {
     "duration": 0.150213,
     "end_time": "2021-02-02T17:36:16.096281",
     "exception": false,
     "start_time": "2021-02-02T17:36:15.946068",
     "status": "completed"
    },
    "tags": []
   },
   "outputs": [
    {
     "name": "stdout",
     "output_type": "stream",
     "text": [
      "oof score weighted avg: 0.84223\n"
     ]
    }
   ],
   "source": [
    "oof_pred_wavg = weights[0] * oof_pred_lgb + weights[1] * oof_pred_xgb + weights[2] * oof_pred_cat\n",
    "oof_score_wavg = mean_squared_error(y, oof_pred_wavg, squared=False)\n",
    "\n",
    "print(f\"oof score weighted avg: {oof_score_wavg:.5f}\")"
   ]
  },
  {
   "cell_type": "code",
   "execution_count": 58,
   "metadata": {
    "papermill": {
     "duration": 0.146281,
     "end_time": "2021-02-02T17:36:16.380687",
     "exception": false,
     "start_time": "2021-02-02T17:36:16.234406",
     "status": "completed"
    },
    "tags": []
   },
   "outputs": [],
   "source": [
    "test_pred_wavg = weights[0] * test_pred_lgb + weights[1] * test_pred_xgb + weights[2] * test_pred_cat"
   ]
  },
  {
   "cell_type": "markdown",
   "metadata": {
    "papermill": {
     "duration": 0.138098,
     "end_time": "2021-02-02T17:36:16.656749",
     "exception": false,
     "start_time": "2021-02-02T17:36:16.518651",
     "status": "completed"
    },
    "tags": []
   },
   "source": [
    "## Make submission"
   ]
  },
  {
   "cell_type": "code",
   "execution_count": 59,
   "metadata": {
    "papermill": {
     "duration": 1.060621,
     "end_time": "2021-02-02T17:36:17.856840",
     "exception": false,
     "start_time": "2021-02-02T17:36:16.796219",
     "status": "completed"
    },
    "tags": []
   },
   "outputs": [
    {
     "data": {
      "text/html": [
       "<div>\n",
       "<style scoped>\n",
       "    .dataframe tbody tr th:only-of-type {\n",
       "        vertical-align: middle;\n",
       "    }\n",
       "\n",
       "    .dataframe tbody tr th {\n",
       "        vertical-align: top;\n",
       "    }\n",
       "\n",
       "    .dataframe thead th {\n",
       "        text-align: right;\n",
       "    }\n",
       "</style>\n",
       "<table border=\"1\" class=\"dataframe\">\n",
       "  <thead>\n",
       "    <tr style=\"text-align: right;\">\n",
       "      <th></th>\n",
       "      <th>id</th>\n",
       "      <th>target</th>\n",
       "    </tr>\n",
       "  </thead>\n",
       "  <tbody>\n",
       "    <tr>\n",
       "      <th>0</th>\n",
       "      <td>0</td>\n",
       "      <td>7.677250</td>\n",
       "    </tr>\n",
       "    <tr>\n",
       "      <th>1</th>\n",
       "      <td>5</td>\n",
       "      <td>7.783873</td>\n",
       "    </tr>\n",
       "    <tr>\n",
       "      <th>2</th>\n",
       "      <td>15</td>\n",
       "      <td>7.603745</td>\n",
       "    </tr>\n",
       "    <tr>\n",
       "      <th>3</th>\n",
       "      <td>16</td>\n",
       "      <td>7.465748</td>\n",
       "    </tr>\n",
       "    <tr>\n",
       "      <th>4</th>\n",
       "      <td>17</td>\n",
       "      <td>7.277920</td>\n",
       "    </tr>\n",
       "  </tbody>\n",
       "</table>\n",
       "</div>"
      ],
      "text/plain": [
       "   id    target\n",
       "0   0  7.677250\n",
       "1   5  7.783873\n",
       "2  15  7.603745\n",
       "3  16  7.465748\n",
       "4  17  7.277920"
      ]
     },
     "execution_count": 59,
     "metadata": {},
     "output_type": "execute_result"
    }
   ],
   "source": [
    "sub = smpl_sub.copy()\n",
    "# sub[TGT_COL] = test_pred_avg\n",
    "sub[TGT_COL] = test_pred_wavg\n",
    "\n",
    "\n",
    "from datetime import datetime\n",
    "dt_string = datetime.now().strftime(\"%d-%m-%Y_%H-%M-%S\")\n",
    "\n",
    "sub.to_csv(f'..\\\\kaggle_data\\\\{dt_string}_submission.csv', index=False)\n",
    "\n",
    "\n",
    "\n",
    "sub.head()"
   ]
  },
  {
   "cell_type": "code",
   "execution_count": null,
   "metadata": {
    "papermill": {
     "duration": 0.139068,
     "end_time": "2021-02-02T17:36:18.137061",
     "exception": false,
     "start_time": "2021-02-02T17:36:17.997993",
     "status": "completed"
    },
    "tags": []
   },
   "outputs": [],
   "source": []
  }
 ],
 "metadata": {
  "kernelspec": {
   "display_name": "Python 3",
   "language": "python",
   "name": "python3"
  },
  "language_info": {
   "codemirror_mode": {
    "name": "ipython",
    "version": 3
   },
   "file_extension": ".py",
   "mimetype": "text/x-python",
   "name": "python",
   "nbconvert_exporter": "python",
   "pygments_lexer": "ipython3",
   "version": "3.7.5"
  },
  "papermill": {
   "duration": 1743.446187,
   "end_time": "2021-02-02T17:36:19.672708",
   "environment_variables": {},
   "exception": null,
   "input_path": "__notebook__.ipynb",
   "output_path": "__notebook__.ipynb",
   "parameters": {},
   "start_time": "2021-02-02T17:07:16.226521",
   "version": "2.1.0"
  }
 },
 "nbformat": 4,
 "nbformat_minor": 4
}
