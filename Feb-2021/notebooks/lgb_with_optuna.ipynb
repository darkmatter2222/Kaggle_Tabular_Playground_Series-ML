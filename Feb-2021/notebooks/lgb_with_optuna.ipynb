{
 "cells": [
  {
   "cell_type": "code",
   "execution_count": 27,
   "id": "distant-spokesman",
   "metadata": {},
   "outputs": [],
   "source": [
    "import numpy as np\n",
    "import pandas as pd\n",
    "from scipy import stats\n",
    "import matplotlib.pyplot as plt\n",
    "import seaborn as sns\n",
    "import math\n",
    "import sklearn\n",
    "from sklearn.metrics import mean_squared_error\n",
    "from sklearn.model_selection import train_test_split\n",
    "import numpy as np\n",
    "import sklearn.datasets\n",
    "from sklearn.metrics import accuracy_score\n",
    "from sklearn.model_selection import train_test_split\n",
    "\n",
    "import optuna.integration.lightgbm as lgb\n",
    "from datetime import datetime"
   ]
  },
  {
   "cell_type": "code",
   "execution_count": 28,
   "id": "senior-cabin",
   "metadata": {},
   "outputs": [],
   "source": [
    "train = pd.read_csv('..\\\\kaggle_data\\\\train.csv')\n",
    "test = pd.read_csv('..\\\\kaggle_data\\\\test.csv')"
   ]
  },
  {
   "cell_type": "code",
   "execution_count": 29,
   "id": "twenty-cache",
   "metadata": {},
   "outputs": [
    {
     "name": "stdout",
     "output_type": "stream",
     "text": [
      "       cat0      cat1  cat2      cat3      cat4      cat5  cat6      cat7  \\\n",
      "0  0.000000  0.034483   0.0  0.000000  0.034483  0.103448   0.0  0.137931   \n",
      "1  0.034483  0.000000   0.0  0.000000  0.034483  0.034483   0.0  0.137931   \n",
      "2  0.000000  0.000000   0.0  0.068966  0.034483  0.103448   0.0  0.034483   \n",
      "3  0.000000  0.000000   0.0  0.068966  0.034483  0.103448   0.0  0.137931   \n",
      "4  0.000000  0.034483   0.0  0.000000  0.034483  0.034483   0.0  0.137931   \n",
      "\n",
      "       cat8      cat9  ...     cont5     cont6     cont7     cont8     cont9  \\\n",
      "0  0.068966  0.275862  ...  0.881122  0.421650  0.741413  0.895799  0.802461   \n",
      "1  0.000000  0.172414  ...  0.440011  0.346230  0.278495  0.593413  0.546056   \n",
      "2  0.068966  0.448276  ...  0.914155  0.369602  0.832564  0.865620  0.825251   \n",
      "3  0.206897  0.344828  ...  0.934138  0.578930  0.407313  0.868099  0.794402   \n",
      "4  0.068966  0.172414  ...  0.382600  0.705940  0.325193  0.440967  0.462146   \n",
      "\n",
      "     cont10    cont11    cont12    cont13    target  \n",
      "0  0.724417  0.701915  0.877618  0.719903  6.994023  \n",
      "1  0.613252  0.741289  0.326679  0.808464  8.071256  \n",
      "2  0.264104  0.695561  0.869133  0.828352  5.760456  \n",
      "3  0.494269  0.698125  0.809799  0.614766  7.806457  \n",
      "4  0.724447  0.683073  0.343457  0.297743  6.868974  \n",
      "\n",
      "[5 rows x 25 columns]\n",
      "   id  cat0      cat1      cat2      cat3      cat4      cat5  cat6      cat7  \\\n",
      "0   0   0.0  0.034483  0.000000  0.068966  0.034483  0.103448   0.0  0.137931   \n",
      "1   5   0.0  0.034483  0.000000  0.068966  0.034483  0.103448   0.0  0.137931   \n",
      "2  15   0.0  0.034483  0.000000  0.068966  0.034483  0.103448   0.0  0.137931   \n",
      "3  16   0.0  0.000000  0.034483  0.000000  0.034483  0.103448   0.0  0.137931   \n",
      "4  17   0.0  0.034483  0.000000  0.000000  0.034483  0.034483   0.0  0.137931   \n",
      "\n",
      "       cat8  ...     cont4     cont5     cont6     cont7     cont8     cont9  \\\n",
      "0  0.137931  ...  0.701679  0.595507  0.286912  0.279884  0.202234  0.242654   \n",
      "1  0.068966  ...  0.277480  0.479552  0.397436  0.476742  0.857073  0.516393   \n",
      "2  0.068966  ...  0.279508  0.676395  0.695284  0.253316  0.586934  0.548555   \n",
      "3  0.137931  ...  0.479503  0.759875  0.240049  0.298074  0.442475  0.596746   \n",
      "4  0.137931  ...  0.757845  0.210232  0.329851  0.616663  0.170475  0.263235   \n",
      "\n",
      "     cont10    cont11    cont12    cont13  \n",
      "0  0.285147  0.264308  0.653654  0.302448  \n",
      "1  0.562065  0.730542  0.318492  0.736251  \n",
      "2  0.836193  0.759788  0.333572  0.273905  \n",
      "3  0.414131  0.255382  0.589080  0.311625  \n",
      "4  0.710961  0.224045  0.285860  0.794931  \n",
      "\n",
      "[5 rows x 25 columns]\n"
     ]
    }
   ],
   "source": [
    "cat_features = [\n",
    "    \"cat0\", \"cat1\", \"cat2\", \"cat3\", \"cat4\", \"cat5\", \"cat6\", \"cat7\", \n",
    "    \"cat8\", \"cat9\"\n",
    "]\n",
    "\n",
    "cont_features = [\n",
    "    \"cont0\", \"cont1\", \"cont2\", \"cont3\", \"cont4\",\n",
    "    \"cont5\", \"cont6\", \"cont7\", \"cont8\", \"cont9\", \"cont10\", \n",
    "    \"cont11\", \"cont12\", \"cont13\"\n",
    "]\n",
    "alpha = ['A', 'B', 'C', 'D', 'E', 'F', 'G', 'H', 'I', 'J', 'K', 'L', 'M', 'N', 'O', 'P', 'Q', 'R', 'S', 'T', 'Q', 'R', 'S', 'T', 'U', 'V', 'W', 'X', 'Y', 'Z' ]\n",
    "alpha_conversion = {}\n",
    "for index in range(0, len(alpha)):\n",
    "    alpha_conversion[alpha[index]] = index / 29\n",
    "alpha_conversion\n",
    "\n",
    "for cat in cat_features:\n",
    "    train[cat].replace(alpha_conversion, inplace=True)\n",
    "    train[cat] = train[cat].astype('float')\n",
    "train = train.drop(['id'], axis=1)\n",
    "print(train.head())\n",
    "\n",
    "for cat in cat_features:\n",
    "    test[cat].replace(alpha_conversion, inplace=True)\n",
    "    test[cat] = test[cat].astype('float')\n",
    "print(test.head())"
   ]
  },
  {
   "cell_type": "code",
   "execution_count": 30,
   "id": "worse-highlight",
   "metadata": {},
   "outputs": [],
   "source": [
    "columns = [col for col in train.columns.to_list() if col not in ['id','target']]\n",
    "data=train[columns]\n",
    "target=train['target']\n",
    "train_x, val_x, train_y, val_y = train_test_split(data, target, test_size=0.15,random_state=42)\n",
    "test_x = test.drop(['id'], axis=1)"
   ]
  },
  {
   "cell_type": "code",
   "execution_count": 31,
   "id": "specialized-mystery",
   "metadata": {},
   "outputs": [
    {
     "name": "stderr",
     "output_type": "stream",
     "text": [
      "\u001b[32m[I 2021-02-26 17:21:21,187]\u001b[0m A new study created in memory with name: no-name-fcbab382-0472-4ab8-bf3b-21314a7d7141\u001b[0m\n"
     ]
    },
    {
     "name": "stdout",
     "output_type": "stream",
     "text": [
      "Training until validation scores don't improve for 100 rounds\n"
     ]
    },
    {
     "name": "stderr",
     "output_type": "stream",
     "text": [
      "\u001b[32m[I 2021-02-26 17:21:23,322]\u001b[0m The booster of trial#0 was saved as N:\\KaggleCompete\\boosters\\0.pkl.\u001b[0m\n",
      "\u001b[32m[I 2021-02-26 17:21:23,324]\u001b[0m Trial 0 finished with value: 0.8457063116776244 and parameters: {'feature_fraction': 0.7}. Best is trial 0 with value: 0.8457063116776244.\u001b[0m\n"
     ]
    },
    {
     "name": "stdout",
     "output_type": "stream",
     "text": [
      "Early stopping, best iteration is:\n",
      "[289]\tvalid_0's rmse: 0.822572\tvalid_1's rmse: 0.845706\n",
      "Training until validation scores don't improve for 100 rounds\n"
     ]
    },
    {
     "name": "stderr",
     "output_type": "stream",
     "text": [
      "\u001b[32m[I 2021-02-26 17:21:25,476]\u001b[0m The booster of trial#1 was saved as N:\\KaggleCompete\\boosters\\1.pkl.\u001b[0m\n",
      "\u001b[32m[I 2021-02-26 17:21:25,479]\u001b[0m Trial 1 finished with value: 0.8454288096094538 and parameters: {'feature_fraction': 0.6}. Best is trial 1 with value: 0.8454288096094538.\u001b[0m\n"
     ]
    },
    {
     "name": "stdout",
     "output_type": "stream",
     "text": [
      "Early stopping, best iteration is:\n",
      "[304]\tvalid_0's rmse: 0.822093\tvalid_1's rmse: 0.845429\n",
      "Training until validation scores don't improve for 100 rounds\n"
     ]
    },
    {
     "name": "stderr",
     "output_type": "stream",
     "text": [
      "\u001b[32m[I 2021-02-26 17:21:27,503]\u001b[0m The booster of trial#2 was saved as N:\\KaggleCompete\\boosters\\2.pkl.\u001b[0m\n",
      "\u001b[32m[I 2021-02-26 17:21:27,506]\u001b[0m Trial 2 finished with value: 0.8452075402935874 and parameters: {'feature_fraction': 0.5}. Best is trial 2 with value: 0.8452075402935874.\u001b[0m\n"
     ]
    },
    {
     "name": "stdout",
     "output_type": "stream",
     "text": [
      "Early stopping, best iteration is:\n",
      "[212]\tvalid_0's rmse: 0.82876\tvalid_1's rmse: 0.845208\n",
      "Training until validation scores don't improve for 100 rounds\n"
     ]
    },
    {
     "name": "stderr",
     "output_type": "stream",
     "text": [
      "\u001b[32m[I 2021-02-26 17:21:29,480]\u001b[0m The booster of trial#3 was saved as N:\\KaggleCompete\\boosters\\3.pkl.\u001b[0m\n",
      "\u001b[32m[I 2021-02-26 17:21:29,482]\u001b[0m Trial 3 finished with value: 0.8461610367104788 and parameters: {'feature_fraction': 0.8}. Best is trial 2 with value: 0.8452075402935874.\u001b[0m\n"
     ]
    },
    {
     "name": "stdout",
     "output_type": "stream",
     "text": [
      "Early stopping, best iteration is:\n",
      "[249]\tvalid_0's rmse: 0.824818\tvalid_1's rmse: 0.846161\n",
      "Training until validation scores don't improve for 100 rounds\n"
     ]
    },
    {
     "name": "stderr",
     "output_type": "stream",
     "text": [
      "\u001b[32m[I 2021-02-26 17:21:31,405]\u001b[0m The booster of trial#4 was saved as N:\\KaggleCompete\\boosters\\4.pkl.\u001b[0m\n",
      "\u001b[32m[I 2021-02-26 17:21:31,407]\u001b[0m Trial 4 finished with value: 0.8458814335530105 and parameters: {'feature_fraction': 0.8999999999999999}. Best is trial 2 with value: 0.8452075402935874.\u001b[0m\n"
     ]
    },
    {
     "name": "stdout",
     "output_type": "stream",
     "text": [
      "Early stopping, best iteration is:\n",
      "[231]\tvalid_0's rmse: 0.825708\tvalid_1's rmse: 0.845881\n",
      "Training until validation scores don't improve for 100 rounds\n"
     ]
    },
    {
     "name": "stderr",
     "output_type": "stream",
     "text": [
      "\u001b[32m[I 2021-02-26 17:21:33,547]\u001b[0m The booster of trial#5 was saved as N:\\KaggleCompete\\boosters\\5.pkl.\u001b[0m\n",
      "\u001b[32m[I 2021-02-26 17:21:33,550]\u001b[0m Trial 5 finished with value: 0.8466144072845533 and parameters: {'feature_fraction': 1.0}. Best is trial 2 with value: 0.8452075402935874.\u001b[0m\n"
     ]
    },
    {
     "name": "stdout",
     "output_type": "stream",
     "text": [
      "Early stopping, best iteration is:\n",
      "[291]\tvalid_0's rmse: 0.82098\tvalid_1's rmse: 0.846614\n",
      "Training until validation scores don't improve for 100 rounds\n"
     ]
    },
    {
     "name": "stderr",
     "output_type": "stream",
     "text": [
      "\u001b[32m[I 2021-02-26 17:21:35,776]\u001b[0m The booster of trial#6 was saved as N:\\KaggleCompete\\boosters\\6.pkl.\u001b[0m\n",
      "\u001b[32m[I 2021-02-26 17:21:35,779]\u001b[0m Trial 6 finished with value: 0.8451756364475135 and parameters: {'feature_fraction': 0.4}. Best is trial 6 with value: 0.8451756364475135.\u001b[0m\n"
     ]
    },
    {
     "name": "stdout",
     "output_type": "stream",
     "text": [
      "Early stopping, best iteration is:\n",
      "[294]\tvalid_0's rmse: 0.824162\tvalid_1's rmse: 0.845176\n",
      "Training until validation scores don't improve for 100 rounds\n"
     ]
    },
    {
     "name": "stderr",
     "output_type": "stream",
     "text": [
      "\u001b[32m[I 2021-02-26 17:21:38,196]\u001b[0m The booster of trial#7 was saved as N:\\KaggleCompete\\boosters\\7.pkl.\u001b[0m\n",
      "\u001b[32m[I 2021-02-26 17:21:38,202]\u001b[0m Trial 7 finished with value: 0.8454247030418404 and parameters: {'num_leaves': 72}. Best is trial 7 with value: 0.8454247030418404.\u001b[0m\n"
     ]
    },
    {
     "name": "stdout",
     "output_type": "stream",
     "text": [
      "Early stopping, best iteration is:\n",
      "[188]\tvalid_0's rmse: 0.813191\tvalid_1's rmse: 0.845425\n",
      "Training until validation scores don't improve for 100 rounds\n"
     ]
    },
    {
     "name": "stderr",
     "output_type": "stream",
     "text": [
      "\u001b[32m[I 2021-02-26 17:21:40,605]\u001b[0m The booster of trial#8 was saved as N:\\KaggleCompete\\boosters\\8.pkl.\u001b[0m\n",
      "\u001b[32m[I 2021-02-26 17:21:40,607]\u001b[0m Trial 8 finished with value: 0.8447218453476871 and parameters: {'num_leaves': 29}. Best is trial 8 with value: 0.8447218453476871.\u001b[0m\n"
     ]
    },
    {
     "name": "stdout",
     "output_type": "stream",
     "text": [
      "Early stopping, best iteration is:\n",
      "[367]\tvalid_0's rmse: 0.821221\tvalid_1's rmse: 0.844722\n",
      "Training until validation scores don't improve for 100 rounds\n"
     ]
    },
    {
     "name": "stderr",
     "output_type": "stream",
     "text": [
      "\u001b[32m[I 2021-02-26 17:21:43,854]\u001b[0m The booster of trial#9 was saved as N:\\KaggleCompete\\boosters\\9.pkl.\u001b[0m\n",
      "\u001b[32m[I 2021-02-26 17:21:43,856]\u001b[0m Trial 9 finished with value: 0.8471548329804115 and parameters: {'num_leaves': 224}. Best is trial 8 with value: 0.8447218453476871.\u001b[0m\n"
     ]
    },
    {
     "name": "stdout",
     "output_type": "stream",
     "text": [
      "Early stopping, best iteration is:\n",
      "[102]\tvalid_0's rmse: 0.791273\tvalid_1's rmse: 0.847155\n",
      "Training until validation scores don't improve for 100 rounds\n"
     ]
    },
    {
     "name": "stderr",
     "output_type": "stream",
     "text": [
      "\u001b[32m[I 2021-02-26 17:21:46,832]\u001b[0m The booster of trial#10 was saved as N:\\KaggleCompete\\boosters\\10.pkl.\u001b[0m\n",
      "\u001b[32m[I 2021-02-26 17:21:46,834]\u001b[0m Trial 10 finished with value: 0.8469699845101152 and parameters: {'num_leaves': 175}. Best is trial 8 with value: 0.8447218453476871.\u001b[0m\n"
     ]
    },
    {
     "name": "stdout",
     "output_type": "stream",
     "text": [
      "Early stopping, best iteration is:\n",
      "[114]\tvalid_0's rmse: 0.797899\tvalid_1's rmse: 0.84697\n",
      "Training until validation scores don't improve for 100 rounds\n"
     ]
    },
    {
     "name": "stderr",
     "output_type": "stream",
     "text": [
      "\u001b[32m[I 2021-02-26 17:21:49,910]\u001b[0m The booster of trial#11 was saved as N:\\KaggleCompete\\boosters\\11.pkl.\u001b[0m\n",
      "\u001b[32m[I 2021-02-26 17:21:49,912]\u001b[0m Trial 11 finished with value: 0.8467983559689384 and parameters: {'num_leaves': 178}. Best is trial 8 with value: 0.8447218453476871.\u001b[0m\n"
     ]
    },
    {
     "name": "stdout",
     "output_type": "stream",
     "text": [
      "Early stopping, best iteration is:\n",
      "[109]\tvalid_0's rmse: 0.798566\tvalid_1's rmse: 0.846798\n",
      "Training until validation scores don't improve for 100 rounds\n"
     ]
    },
    {
     "name": "stderr",
     "output_type": "stream",
     "text": [
      "\u001b[32m[I 2021-02-26 17:21:52,424]\u001b[0m The booster of trial#12 was saved as N:\\KaggleCompete\\boosters\\12.pkl.\u001b[0m\n",
      "\u001b[32m[I 2021-02-26 17:21:52,426]\u001b[0m Trial 12 finished with value: 0.8456719672505607 and parameters: {'num_leaves': 101}. Best is trial 8 with value: 0.8447218453476871.\u001b[0m\n"
     ]
    },
    {
     "name": "stdout",
     "output_type": "stream",
     "text": [
      "Early stopping, best iteration is:\n",
      "[143]\tvalid_0's rmse: 0.81035\tvalid_1's rmse: 0.845672\n",
      "Training until validation scores don't improve for 100 rounds\n"
     ]
    },
    {
     "name": "stderr",
     "output_type": "stream",
     "text": [
      "\u001b[32m[I 2021-02-26 17:21:54,601]\u001b[0m The booster of trial#13 was saved as N:\\KaggleCompete\\boosters\\13.pkl.\u001b[0m\n",
      "\u001b[32m[I 2021-02-26 17:21:54,603]\u001b[0m Trial 13 finished with value: 0.8450724545491786 and parameters: {'num_leaves': 30}. Best is trial 8 with value: 0.8447218453476871.\u001b[0m\n"
     ]
    },
    {
     "name": "stdout",
     "output_type": "stream",
     "text": [
      "Early stopping, best iteration is:\n",
      "[305]\tvalid_0's rmse: 0.82412\tvalid_1's rmse: 0.845072\n",
      "Training until validation scores don't improve for 100 rounds\n"
     ]
    },
    {
     "name": "stderr",
     "output_type": "stream",
     "text": [
      "\u001b[32m[I 2021-02-26 17:21:57,835]\u001b[0m The booster of trial#14 was saved as N:\\KaggleCompete\\boosters\\14.pkl.\u001b[0m\n",
      "\u001b[32m[I 2021-02-26 17:21:57,837]\u001b[0m Trial 14 finished with value: 0.8474096624757338 and parameters: {'num_leaves': 241}. Best is trial 8 with value: 0.8447218453476871.\u001b[0m\n"
     ]
    },
    {
     "name": "stdout",
     "output_type": "stream",
     "text": [
      "Early stopping, best iteration is:\n",
      "[85]\tvalid_0's rmse: 0.796168\tvalid_1's rmse: 0.84741\n",
      "Training until validation scores don't improve for 100 rounds\n"
     ]
    },
    {
     "name": "stderr",
     "output_type": "stream",
     "text": [
      "\u001b[32m[I 2021-02-26 17:22:00,042]\u001b[0m The booster of trial#15 was saved as N:\\KaggleCompete\\boosters\\15.pkl.\u001b[0m\n",
      "\u001b[32m[I 2021-02-26 17:22:00,045]\u001b[0m Trial 15 finished with value: 0.8451976896570299 and parameters: {'num_leaves': 58}. Best is trial 8 with value: 0.8447218453476871.\u001b[0m\n"
     ]
    },
    {
     "name": "stdout",
     "output_type": "stream",
     "text": [
      "Early stopping, best iteration is:\n",
      "[174]\tvalid_0's rmse: 0.820601\tvalid_1's rmse: 0.845198\n",
      "Training until validation scores don't improve for 100 rounds\n"
     ]
    },
    {
     "name": "stderr",
     "output_type": "stream",
     "text": [
      "\u001b[32m[I 2021-02-26 17:22:03,653]\u001b[0m The booster of trial#16 was saved as N:\\KaggleCompete\\boosters\\16.pkl.\u001b[0m\n",
      "\u001b[32m[I 2021-02-26 17:22:03,655]\u001b[0m Trial 16 finished with value: 0.8477369990998662 and parameters: {'num_leaves': 251}. Best is trial 8 with value: 0.8447218453476871.\u001b[0m\n"
     ]
    },
    {
     "name": "stdout",
     "output_type": "stream",
     "text": [
      "Early stopping, best iteration is:\n",
      "[108]\tvalid_0's rmse: 0.782403\tvalid_1's rmse: 0.847737\n",
      "Training until validation scores don't improve for 100 rounds\n"
     ]
    },
    {
     "name": "stderr",
     "output_type": "stream",
     "text": [
      "\u001b[32m[I 2021-02-26 17:22:06,726]\u001b[0m The booster of trial#17 was saved as N:\\KaggleCompete\\boosters\\17.pkl.\u001b[0m\n",
      "\u001b[32m[I 2021-02-26 17:22:06,728]\u001b[0m Trial 17 finished with value: 0.8446325449308187 and parameters: {'num_leaves': 10}. Best is trial 17 with value: 0.8446325449308187.\u001b[0m\n"
     ]
    },
    {
     "name": "stdout",
     "output_type": "stream",
     "text": [
      "Early stopping, best iteration is:\n",
      "[847]\tvalid_0's rmse: 0.828306\tvalid_1's rmse: 0.844633\n",
      "Training until validation scores don't improve for 100 rounds\n"
     ]
    },
    {
     "name": "stderr",
     "output_type": "stream",
     "text": [
      "\u001b[32m[I 2021-02-26 17:22:09,426]\u001b[0m The booster of trial#18 was saved as N:\\KaggleCompete\\boosters\\18.pkl.\u001b[0m\n",
      "\u001b[32m[I 2021-02-26 17:22:09,430]\u001b[0m Trial 18 finished with value: 0.8447385834864648 and parameters: {'num_leaves': 5}. Best is trial 17 with value: 0.8446325449308187.\u001b[0m\n"
     ]
    },
    {
     "name": "stdout",
     "output_type": "stream",
     "text": [
      "[1000]\tvalid_0's rmse: 0.83703\tvalid_1's rmse: 0.844739\n",
      "Did not meet early stopping. Best iteration is:\n",
      "[1000]\tvalid_0's rmse: 0.83703\tvalid_1's rmse: 0.844739\n",
      "Training until validation scores don't improve for 100 rounds\n"
     ]
    },
    {
     "name": "stderr",
     "output_type": "stream",
     "text": [
      "\u001b[32m[I 2021-02-26 17:22:11,831]\u001b[0m The booster of trial#19 was saved as N:\\KaggleCompete\\boosters\\19.pkl.\u001b[0m\n",
      "\u001b[32m[I 2021-02-26 17:22:11,833]\u001b[0m Trial 19 finished with value: 0.8463999637868719 and parameters: {'num_leaves': 3}. Best is trial 17 with value: 0.8446325449308187.\u001b[0m\n"
     ]
    },
    {
     "name": "stdout",
     "output_type": "stream",
     "text": [
      "[1000]\tvalid_0's rmse: 0.842921\tvalid_1's rmse: 0.8464\n",
      "Did not meet early stopping. Best iteration is:\n",
      "[1000]\tvalid_0's rmse: 0.842921\tvalid_1's rmse: 0.8464\n",
      "Training until validation scores don't improve for 100 rounds\n"
     ]
    },
    {
     "name": "stderr",
     "output_type": "stream",
     "text": [
      "\u001b[32m[I 2021-02-26 17:22:14,122]\u001b[0m The booster of trial#20 was saved as N:\\KaggleCompete\\boosters\\20.pkl.\u001b[0m\n",
      "\u001b[32m[I 2021-02-26 17:22:14,124]\u001b[0m Trial 20 finished with value: 0.8448943874062945 and parameters: {'num_leaves': 41}. Best is trial 17 with value: 0.8446325449308187.\u001b[0m\n"
     ]
    },
    {
     "name": "stdout",
     "output_type": "stream",
     "text": [
      "Early stopping, best iteration is:\n",
      "[263]\tvalid_0's rmse: 0.820056\tvalid_1's rmse: 0.844894\n",
      "Training until validation scores don't improve for 100 rounds\n"
     ]
    },
    {
     "name": "stderr",
     "output_type": "stream",
     "text": [
      "\u001b[32m[I 2021-02-26 17:22:16,732]\u001b[0m The booster of trial#21 was saved as N:\\KaggleCompete\\boosters\\21.pkl.\u001b[0m\n",
      "\u001b[32m[I 2021-02-26 17:22:16,734]\u001b[0m Trial 21 finished with value: 0.8464072534838867 and parameters: {'num_leaves': 129}. Best is trial 17 with value: 0.8446325449308187.\u001b[0m\n"
     ]
    },
    {
     "name": "stdout",
     "output_type": "stream",
     "text": [
      "Early stopping, best iteration is:\n",
      "[115]\tvalid_0's rmse: 0.8089\tvalid_1's rmse: 0.846407\n",
      "Training until validation scores don't improve for 100 rounds\n"
     ]
    },
    {
     "name": "stderr",
     "output_type": "stream",
     "text": [
      "\u001b[32m[I 2021-02-26 17:22:19,414]\u001b[0m The booster of trial#22 was saved as N:\\KaggleCompete\\boosters\\22.pkl.\u001b[0m\n",
      "\u001b[32m[I 2021-02-26 17:22:19,417]\u001b[0m Trial 22 finished with value: 0.8448311747744615 and parameters: {'num_leaves': 12}. Best is trial 17 with value: 0.8446325449308187.\u001b[0m\n"
     ]
    },
    {
     "name": "stdout",
     "output_type": "stream",
     "text": [
      "Early stopping, best iteration is:\n",
      "[657]\tvalid_0's rmse: 0.82862\tvalid_1's rmse: 0.844831\n",
      "Training until validation scores don't improve for 100 rounds\n"
     ]
    },
    {
     "name": "stderr",
     "output_type": "stream",
     "text": [
      "\u001b[32m[I 2021-02-26 17:22:21,872]\u001b[0m The booster of trial#23 was saved as N:\\KaggleCompete\\boosters\\23.pkl.\u001b[0m\n",
      "\u001b[32m[I 2021-02-26 17:22:21,874]\u001b[0m Trial 23 finished with value: 0.8459171457918762 and parameters: {'num_leaves': 88}. Best is trial 17 with value: 0.8446325449308187.\u001b[0m\n"
     ]
    },
    {
     "name": "stdout",
     "output_type": "stream",
     "text": [
      "Early stopping, best iteration is:\n",
      "[152]\tvalid_0's rmse: 0.812765\tvalid_1's rmse: 0.845917\n",
      "Training until validation scores don't improve for 100 rounds\n"
     ]
    },
    {
     "name": "stderr",
     "output_type": "stream",
     "text": [
      "\u001b[32m[I 2021-02-26 17:22:24,614]\u001b[0m The booster of trial#24 was saved as N:\\KaggleCompete\\boosters\\24.pkl.\u001b[0m\n",
      "\u001b[32m[I 2021-02-26 17:22:24,616]\u001b[0m Trial 24 finished with value: 0.8466518167215483 and parameters: {'num_leaves': 136}. Best is trial 17 with value: 0.8446325449308187.\u001b[0m\n"
     ]
    },
    {
     "name": "stdout",
     "output_type": "stream",
     "text": [
      "Early stopping, best iteration is:\n",
      "[124]\tvalid_0's rmse: 0.804656\tvalid_1's rmse: 0.846652\n",
      "Training until validation scores don't improve for 100 rounds\n"
     ]
    },
    {
     "name": "stderr",
     "output_type": "stream",
     "text": [
      "\u001b[32m[I 2021-02-26 17:22:27,498]\u001b[0m The booster of trial#25 was saved as N:\\KaggleCompete\\boosters\\25.pkl.\u001b[0m\n",
      "\u001b[32m[I 2021-02-26 17:22:27,501]\u001b[0m Trial 25 finished with value: 0.8450934085567455 and parameters: {'num_leaves': 37}. Best is trial 17 with value: 0.8446325449308187.\u001b[0m\n"
     ]
    },
    {
     "name": "stdout",
     "output_type": "stream",
     "text": [
      "Early stopping, best iteration is:\n",
      "[419]\tvalid_0's rmse: 0.811635\tvalid_1's rmse: 0.845093\n",
      "Training until validation scores don't improve for 100 rounds\n"
     ]
    },
    {
     "name": "stderr",
     "output_type": "stream",
     "text": [
      "\u001b[32m[I 2021-02-26 17:22:30,066]\u001b[0m The booster of trial#26 was saved as N:\\KaggleCompete\\boosters\\26.pkl.\u001b[0m\n",
      "\u001b[32m[I 2021-02-26 17:22:30,068]\u001b[0m Trial 26 finished with value: 0.846057564115716 and parameters: {'num_leaves': 106}. Best is trial 17 with value: 0.8446325449308187.\u001b[0m\n"
     ]
    },
    {
     "name": "stdout",
     "output_type": "stream",
     "text": [
      "Early stopping, best iteration is:\n",
      "[143]\tvalid_0's rmse: 0.808842\tvalid_1's rmse: 0.846058\n",
      "Training until validation scores don't improve for 100 rounds\n"
     ]
    },
    {
     "name": "stderr",
     "output_type": "stream",
     "text": [
      "\u001b[32m[I 2021-02-26 17:22:32,565]\u001b[0m The booster of trial#27 was saved as N:\\KaggleCompete\\boosters\\27.pkl.\u001b[0m\n",
      "\u001b[32m[I 2021-02-26 17:22:32,567]\u001b[0m Trial 27 finished with value: 0.8448077900131277 and parameters: {'bagging_fraction': 0.6433417839490718, 'bagging_freq': 6}. Best is trial 27 with value: 0.8448077900131277.\u001b[0m\n"
     ]
    },
    {
     "name": "stdout",
     "output_type": "stream",
     "text": [
      "Early stopping, best iteration is:\n",
      "[563]\tvalid_0's rmse: 0.833454\tvalid_1's rmse: 0.844808\n",
      "Training until validation scores don't improve for 100 rounds\n"
     ]
    },
    {
     "name": "stderr",
     "output_type": "stream",
     "text": [
      "\u001b[32m[I 2021-02-26 17:22:36,158]\u001b[0m The booster of trial#28 was saved as N:\\KaggleCompete\\boosters\\28.pkl.\u001b[0m\n",
      "\u001b[32m[I 2021-02-26 17:22:36,161]\u001b[0m Trial 28 finished with value: 0.8450362821287332 and parameters: {'bagging_fraction': 0.6142138861132878, 'bagging_freq': 2}. Best is trial 27 with value: 0.8448077900131277.\u001b[0m\n"
     ]
    },
    {
     "name": "stdout",
     "output_type": "stream",
     "text": [
      "Early stopping, best iteration is:\n",
      "[736]\tvalid_0's rmse: 0.830023\tvalid_1's rmse: 0.845036\n",
      "Training until validation scores don't improve for 100 rounds\n",
      "[1000]\tvalid_0's rmse: 0.825317\tvalid_1's rmse: 0.844337\n",
      "Did not meet early stopping. Best iteration is:\n",
      "[1000]\tvalid_0's rmse: 0.825317\tvalid_1's rmse: 0.844337\n"
     ]
    },
    {
     "name": "stderr",
     "output_type": "stream",
     "text": [
      "\u001b[32m[I 2021-02-26 17:22:40,590]\u001b[0m The booster of trial#29 was saved as N:\\KaggleCompete\\boosters\\29.pkl.\u001b[0m\n",
      "\u001b[32m[I 2021-02-26 17:22:40,592]\u001b[0m Trial 29 finished with value: 0.844337249071821 and parameters: {'bagging_fraction': 0.8790593955789898, 'bagging_freq': 3}. Best is trial 29 with value: 0.844337249071821.\u001b[0m\n"
     ]
    },
    {
     "name": "stdout",
     "output_type": "stream",
     "text": [
      "Training until validation scores don't improve for 100 rounds\n"
     ]
    },
    {
     "name": "stderr",
     "output_type": "stream",
     "text": [
      "\u001b[32m[I 2021-02-26 17:22:43,944]\u001b[0m The booster of trial#30 was saved as N:\\KaggleCompete\\boosters\\30.pkl.\u001b[0m\n",
      "\u001b[32m[I 2021-02-26 17:22:43,947]\u001b[0m Trial 30 finished with value: 0.8447092741740408 and parameters: {'bagging_fraction': 0.49165441885520167, 'bagging_freq': 1}. Best is trial 29 with value: 0.844337249071821.\u001b[0m\n"
     ]
    },
    {
     "name": "stdout",
     "output_type": "stream",
     "text": [
      "Early stopping, best iteration is:\n",
      "[531]\tvalid_0's rmse: 0.834042\tvalid_1's rmse: 0.844709\n",
      "Training until validation scores don't improve for 100 rounds\n"
     ]
    },
    {
     "name": "stderr",
     "output_type": "stream",
     "text": [
      "\u001b[32m[I 2021-02-26 17:22:46,140]\u001b[0m The booster of trial#31 was saved as N:\\KaggleCompete\\boosters\\31.pkl.\u001b[0m\n",
      "\u001b[32m[I 2021-02-26 17:22:46,143]\u001b[0m Trial 31 finished with value: 0.8452708178108115 and parameters: {'bagging_fraction': 0.5387924105702299, 'bagging_freq': 7}. Best is trial 29 with value: 0.844337249071821.\u001b[0m\n"
     ]
    },
    {
     "name": "stdout",
     "output_type": "stream",
     "text": [
      "Early stopping, best iteration is:\n",
      "[537]\tvalid_0's rmse: 0.834011\tvalid_1's rmse: 0.845271\n",
      "Training until validation scores don't improve for 100 rounds\n"
     ]
    },
    {
     "name": "stderr",
     "output_type": "stream",
     "text": [
      "\u001b[32m[I 2021-02-26 17:22:48,831]\u001b[0m The booster of trial#32 was saved as N:\\KaggleCompete\\boosters\\32.pkl.\u001b[0m\n",
      "\u001b[32m[I 2021-02-26 17:22:48,834]\u001b[0m Trial 32 finished with value: 0.844986863726992 and parameters: {'bagging_fraction': 0.6424977996940013, 'bagging_freq': 4}. Best is trial 29 with value: 0.844337249071821.\u001b[0m\n"
     ]
    },
    {
     "name": "stdout",
     "output_type": "stream",
     "text": [
      "Early stopping, best iteration is:\n",
      "[585]\tvalid_0's rmse: 0.83292\tvalid_1's rmse: 0.844987\n",
      "Training until validation scores don't improve for 100 rounds\n"
     ]
    },
    {
     "name": "stderr",
     "output_type": "stream",
     "text": [
      "\u001b[32m[I 2021-02-26 17:22:52,056]\u001b[0m The booster of trial#33 was saved as N:\\KaggleCompete\\boosters\\33.pkl.\u001b[0m\n",
      "\u001b[32m[I 2021-02-26 17:22:52,059]\u001b[0m Trial 33 finished with value: 0.8446784827210296 and parameters: {'bagging_fraction': 0.7172467177211787, 'bagging_freq': 2}. Best is trial 29 with value: 0.844337249071821.\u001b[0m\n"
     ]
    },
    {
     "name": "stdout",
     "output_type": "stream",
     "text": [
      "Early stopping, best iteration is:\n",
      "[580]\tvalid_0's rmse: 0.832833\tvalid_1's rmse: 0.844678\n",
      "Training until validation scores don't improve for 100 rounds\n"
     ]
    },
    {
     "name": "stderr",
     "output_type": "stream",
     "text": [
      "\u001b[32m[I 2021-02-26 17:22:55,879]\u001b[0m The booster of trial#34 was saved as N:\\KaggleCompete\\boosters\\34.pkl.\u001b[0m\n",
      "\u001b[32m[I 2021-02-26 17:22:55,882]\u001b[0m Trial 34 finished with value: 0.844765502649384 and parameters: {'bagging_fraction': 0.9215810005687861, 'bagging_freq': 2}. Best is trial 29 with value: 0.844337249071821.\u001b[0m\n"
     ]
    },
    {
     "name": "stdout",
     "output_type": "stream",
     "text": [
      "Early stopping, best iteration is:\n",
      "[647]\tvalid_0's rmse: 0.831767\tvalid_1's rmse: 0.844766\n",
      "Training until validation scores don't improve for 100 rounds\n"
     ]
    },
    {
     "name": "stderr",
     "output_type": "stream",
     "text": [
      "\u001b[32m[I 2021-02-26 17:22:58,710]\u001b[0m The booster of trial#35 was saved as N:\\KaggleCompete\\boosters\\35.pkl.\u001b[0m\n",
      "\u001b[32m[I 2021-02-26 17:22:58,713]\u001b[0m Trial 35 finished with value: 0.8448381455050199 and parameters: {'bagging_fraction': 0.7209073453068379, 'bagging_freq': 5}. Best is trial 29 with value: 0.844337249071821.\u001b[0m\n"
     ]
    },
    {
     "name": "stdout",
     "output_type": "stream",
     "text": [
      "Early stopping, best iteration is:\n",
      "[652]\tvalid_0's rmse: 0.831815\tvalid_1's rmse: 0.844838\n",
      "Training until validation scores don't improve for 100 rounds\n"
     ]
    },
    {
     "name": "stderr",
     "output_type": "stream",
     "text": [
      "\u001b[32m[I 2021-02-26 17:23:01,569]\u001b[0m The booster of trial#36 was saved as N:\\KaggleCompete\\boosters\\36.pkl.\u001b[0m\n",
      "\u001b[32m[I 2021-02-26 17:23:01,572]\u001b[0m Trial 36 finished with value: 0.8447344908590235 and parameters: {'bagging_fraction': 0.6910756882689159, 'bagging_freq': 1}. Best is trial 29 with value: 0.844337249071821.\u001b[0m\n"
     ]
    },
    {
     "name": "stdout",
     "output_type": "stream",
     "text": [
      "Early stopping, best iteration is:\n",
      "[699]\tvalid_0's rmse: 0.830708\tvalid_1's rmse: 0.844734\n",
      "Training until validation scores don't improve for 100 rounds\n"
     ]
    },
    {
     "name": "stderr",
     "output_type": "stream",
     "text": [
      "\u001b[32m[I 2021-02-26 17:23:05,894]\u001b[0m The booster of trial#37 was saved as N:\\KaggleCompete\\boosters\\37.pkl.\u001b[0m\n",
      "\u001b[32m[I 2021-02-26 17:23:05,898]\u001b[0m Trial 37 finished with value: 0.8442880052546853 and parameters: {'feature_fraction': 0.48000000000000004}. Best is trial 37 with value: 0.8442880052546853.\u001b[0m\n"
     ]
    },
    {
     "name": "stdout",
     "output_type": "stream",
     "text": [
      "Early stopping, best iteration is:\n",
      "[887]\tvalid_0's rmse: 0.826708\tvalid_1's rmse: 0.844288\n",
      "Training until validation scores don't improve for 100 rounds\n"
     ]
    },
    {
     "name": "stderr",
     "output_type": "stream",
     "text": [
      "\u001b[32m[I 2021-02-26 17:23:09,791]\u001b[0m The booster of trial#38 was saved as N:\\KaggleCompete\\boosters\\38.pkl.\u001b[0m\n",
      "\u001b[32m[I 2021-02-26 17:23:09,797]\u001b[0m Trial 38 finished with value: 0.8442011977000234 and parameters: {'feature_fraction': 0.44800000000000006}. Best is trial 38 with value: 0.8442011977000234.\u001b[0m\n"
     ]
    },
    {
     "name": "stdout",
     "output_type": "stream",
     "text": [
      "Early stopping, best iteration is:\n",
      "[772]\tvalid_0's rmse: 0.828998\tvalid_1's rmse: 0.844201\n",
      "Training until validation scores don't improve for 100 rounds\n",
      "[1000]\tvalid_0's rmse: 0.825317\tvalid_1's rmse: 0.844337\n",
      "Did not meet early stopping. Best iteration is:\n",
      "[1000]\tvalid_0's rmse: 0.825317\tvalid_1's rmse: 0.844337\n"
     ]
    },
    {
     "name": "stderr",
     "output_type": "stream",
     "text": [
      "\u001b[32m[I 2021-02-26 17:23:14,183]\u001b[0m The booster of trial#39 was saved as N:\\KaggleCompete\\boosters\\39.pkl.\u001b[0m\n",
      "\u001b[32m[I 2021-02-26 17:23:14,189]\u001b[0m Trial 39 finished with value: 0.844337249071821 and parameters: {'feature_fraction': 0.41600000000000004}. Best is trial 38 with value: 0.8442011977000234.\u001b[0m\n"
     ]
    },
    {
     "name": "stdout",
     "output_type": "stream",
     "text": [
      "Training until validation scores don't improve for 100 rounds\n"
     ]
    },
    {
     "name": "stderr",
     "output_type": "stream",
     "text": [
      "\u001b[32m[I 2021-02-26 17:23:18,180]\u001b[0m The booster of trial#40 was saved as N:\\KaggleCompete\\boosters\\40.pkl.\u001b[0m\n",
      "\u001b[32m[I 2021-02-26 17:23:18,183]\u001b[0m Trial 40 finished with value: 0.8442149000878224 and parameters: {'lambda_l1': 0.0934167304767335, 'lambda_l2': 0.4593910861832254}. Best is trial 40 with value: 0.8442149000878224.\u001b[0m\n"
     ]
    },
    {
     "name": "stdout",
     "output_type": "stream",
     "text": [
      "Early stopping, best iteration is:\n",
      "[776]\tvalid_0's rmse: 0.828981\tvalid_1's rmse: 0.844215\n",
      "Training until validation scores don't improve for 100 rounds\n"
     ]
    },
    {
     "name": "stderr",
     "output_type": "stream",
     "text": [
      "\u001b[32m[I 2021-02-26 17:23:22,159]\u001b[0m The booster of trial#41 was saved as N:\\KaggleCompete\\boosters\\41.pkl.\u001b[0m\n",
      "\u001b[32m[I 2021-02-26 17:23:22,161]\u001b[0m Trial 41 finished with value: 0.8442011957028338 and parameters: {'lambda_l1': 2.161013164949841e-07, 'lambda_l2': 0.00023742243675649115}. Best is trial 41 with value: 0.8442011957028338.\u001b[0m\n"
     ]
    },
    {
     "name": "stdout",
     "output_type": "stream",
     "text": [
      "Early stopping, best iteration is:\n",
      "[772]\tvalid_0's rmse: 0.828998\tvalid_1's rmse: 0.844201\n",
      "Training until validation scores don't improve for 100 rounds\n",
      "[1000]\tvalid_0's rmse: 0.824906\tvalid_1's rmse: 0.84403\n",
      "Did not meet early stopping. Best iteration is:\n",
      "[1000]\tvalid_0's rmse: 0.824906\tvalid_1's rmse: 0.84403\n"
     ]
    },
    {
     "name": "stderr",
     "output_type": "stream",
     "text": [
      "\u001b[32m[I 2021-02-26 17:23:26,779]\u001b[0m The booster of trial#42 was saved as N:\\KaggleCompete\\boosters\\42.pkl.\u001b[0m\n",
      "\u001b[32m[I 2021-02-26 17:23:26,783]\u001b[0m Trial 42 finished with value: 0.8440295788382665 and parameters: {'lambda_l1': 0.00013747145462961823, 'lambda_l2': 0.2160891130007027}. Best is trial 42 with value: 0.8440295788382665.\u001b[0m\n"
     ]
    },
    {
     "name": "stdout",
     "output_type": "stream",
     "text": [
      "Training until validation scores don't improve for 100 rounds\n"
     ]
    },
    {
     "name": "stderr",
     "output_type": "stream",
     "text": [
      "\u001b[32m[I 2021-02-26 17:23:30,707]\u001b[0m The booster of trial#43 was saved as N:\\KaggleCompete\\boosters\\43.pkl.\u001b[0m\n",
      "\u001b[32m[I 2021-02-26 17:23:30,710]\u001b[0m Trial 43 finished with value: 0.8443894043775947 and parameters: {'lambda_l1': 0.027876171354203037, 'lambda_l2': 0.0009206489628329595}. Best is trial 42 with value: 0.8440295788382665.\u001b[0m\n"
     ]
    },
    {
     "name": "stdout",
     "output_type": "stream",
     "text": [
      "Early stopping, best iteration is:\n",
      "[755]\tvalid_0's rmse: 0.829348\tvalid_1's rmse: 0.844389\n",
      "Training until validation scores don't improve for 100 rounds\n"
     ]
    },
    {
     "name": "stderr",
     "output_type": "stream",
     "text": [
      "\u001b[32m[I 2021-02-26 17:23:34,655]\u001b[0m The booster of trial#44 was saved as N:\\KaggleCompete\\boosters\\44.pkl.\u001b[0m\n",
      "\u001b[32m[I 2021-02-26 17:23:34,658]\u001b[0m Trial 44 finished with value: 0.844201197446718 and parameters: {'lambda_l1': 1.5887652624141427e-05, 'lambda_l2': 1.3808485332623199e-08}. Best is trial 42 with value: 0.8440295788382665.\u001b[0m\n"
     ]
    },
    {
     "name": "stdout",
     "output_type": "stream",
     "text": [
      "Early stopping, best iteration is:\n",
      "[772]\tvalid_0's rmse: 0.828998\tvalid_1's rmse: 0.844201\n",
      "Training until validation scores don't improve for 100 rounds\n"
     ]
    },
    {
     "name": "stderr",
     "output_type": "stream",
     "text": [
      "\u001b[32m[I 2021-02-26 17:23:38,937]\u001b[0m The booster of trial#45 was saved as N:\\KaggleCompete\\boosters\\45.pkl.\u001b[0m\n",
      "\u001b[32m[I 2021-02-26 17:23:38,941]\u001b[0m Trial 45 finished with value: 0.8442690776323221 and parameters: {'lambda_l1': 0.06963802152715465, 'lambda_l2': 0.02402477172869159}. Best is trial 42 with value: 0.8440295788382665.\u001b[0m\n"
     ]
    },
    {
     "name": "stdout",
     "output_type": "stream",
     "text": [
      "Early stopping, best iteration is:\n",
      "[865]\tvalid_0's rmse: 0.827381\tvalid_1's rmse: 0.844269\n",
      "Training until validation scores don't improve for 100 rounds\n"
     ]
    },
    {
     "name": "stderr",
     "output_type": "stream",
     "text": [
      "\u001b[32m[I 2021-02-26 17:23:42,897]\u001b[0m The booster of trial#46 was saved as N:\\KaggleCompete\\boosters\\46.pkl.\u001b[0m\n",
      "\u001b[32m[I 2021-02-26 17:23:42,900]\u001b[0m Trial 46 finished with value: 0.8441416146871187 and parameters: {'lambda_l1': 1.6369531146767003e-07, 'lambda_l2': 0.03918135139850962}. Best is trial 42 with value: 0.8440295788382665.\u001b[0m\n"
     ]
    },
    {
     "name": "stdout",
     "output_type": "stream",
     "text": [
      "Early stopping, best iteration is:\n",
      "[779]\tvalid_0's rmse: 0.828978\tvalid_1's rmse: 0.844142\n",
      "Training until validation scores don't improve for 100 rounds\n"
     ]
    },
    {
     "name": "stderr",
     "output_type": "stream",
     "text": [
      "\u001b[32m[I 2021-02-26 17:23:46,742]\u001b[0m The booster of trial#47 was saved as N:\\KaggleCompete\\boosters\\47.pkl.\u001b[0m\n",
      "\u001b[32m[I 2021-02-26 17:23:46,745]\u001b[0m Trial 47 finished with value: 0.8441764053151353 and parameters: {'lambda_l1': 1.0966304821397283e-06, 'lambda_l2': 0.009752267681213839}. Best is trial 42 with value: 0.8440295788382665.\u001b[0m\n"
     ]
    },
    {
     "name": "stdout",
     "output_type": "stream",
     "text": [
      "Early stopping, best iteration is:\n",
      "[746]\tvalid_0's rmse: 0.829466\tvalid_1's rmse: 0.844176\n",
      "Training until validation scores don't improve for 100 rounds\n"
     ]
    },
    {
     "name": "stderr",
     "output_type": "stream",
     "text": [
      "\u001b[32m[I 2021-02-26 17:23:50,717]\u001b[0m The booster of trial#48 was saved as N:\\KaggleCompete\\boosters\\48.pkl.\u001b[0m\n",
      "\u001b[32m[I 2021-02-26 17:23:50,720]\u001b[0m Trial 48 finished with value: 0.8442636574359501 and parameters: {'lambda_l1': 5.327425002392375, 'lambda_l2': 9.615611205282316e-06}. Best is trial 42 with value: 0.8440295788382665.\u001b[0m\n"
     ]
    },
    {
     "name": "stdout",
     "output_type": "stream",
     "text": [
      "Early stopping, best iteration is:\n",
      "[763]\tvalid_0's rmse: 0.830384\tvalid_1's rmse: 0.844264\n",
      "Training until validation scores don't improve for 100 rounds\n"
     ]
    },
    {
     "name": "stderr",
     "output_type": "stream",
     "text": [
      "\u001b[32m[I 2021-02-26 17:23:55,032]\u001b[0m The booster of trial#49 was saved as N:\\KaggleCompete\\boosters\\49.pkl.\u001b[0m\n",
      "\u001b[32m[I 2021-02-26 17:23:55,036]\u001b[0m Trial 49 finished with value: 0.8444635763821478 and parameters: {'lambda_l1': 3.05200568998373e-08, 'lambda_l2': 2.362693668638413}. Best is trial 42 with value: 0.8440295788382665.\u001b[0m\n"
     ]
    },
    {
     "name": "stdout",
     "output_type": "stream",
     "text": [
      "Early stopping, best iteration is:\n",
      "[868]\tvalid_0's rmse: 0.827493\tvalid_1's rmse: 0.844464\n",
      "Training until validation scores don't improve for 100 rounds\n"
     ]
    },
    {
     "name": "stderr",
     "output_type": "stream",
     "text": [
      "\u001b[32m[I 2021-02-26 17:23:58,973]\u001b[0m The booster of trial#50 was saved as N:\\KaggleCompete\\boosters\\50.pkl.\u001b[0m\n",
      "\u001b[32m[I 2021-02-26 17:23:58,980]\u001b[0m Trial 50 finished with value: 0.8442011835625207 and parameters: {'lambda_l1': 0.0008806346569983976, 'lambda_l2': 1.7821775540799277e-06}. Best is trial 42 with value: 0.8440295788382665.\u001b[0m\n"
     ]
    },
    {
     "name": "stdout",
     "output_type": "stream",
     "text": [
      "Early stopping, best iteration is:\n",
      "[772]\tvalid_0's rmse: 0.828998\tvalid_1's rmse: 0.844201\n",
      "Training until validation scores don't improve for 100 rounds\n"
     ]
    },
    {
     "name": "stderr",
     "output_type": "stream",
     "text": [
      "\u001b[32m[I 2021-02-26 17:24:03,394]\u001b[0m The booster of trial#51 was saved as N:\\KaggleCompete\\boosters\\51.pkl.\u001b[0m\n",
      "\u001b[32m[I 2021-02-26 17:24:03,397]\u001b[0m Trial 51 finished with value: 0.8443709849201405 and parameters: {'lambda_l1': 5.667921109199935e-05, 'lambda_l2': 7.252558657648531}. Best is trial 42 with value: 0.8440295788382665.\u001b[0m\n"
     ]
    },
    {
     "name": "stdout",
     "output_type": "stream",
     "text": [
      "Early stopping, best iteration is:\n",
      "[893]\tvalid_0's rmse: 0.827426\tvalid_1's rmse: 0.844371\n",
      "Training until validation scores don't improve for 100 rounds\n"
     ]
    },
    {
     "name": "stderr",
     "output_type": "stream",
     "text": [
      "\u001b[32m[I 2021-02-26 17:24:07,829]\u001b[0m The booster of trial#52 was saved as N:\\KaggleCompete\\boosters\\52.pkl.\u001b[0m\n",
      "\u001b[32m[I 2021-02-26 17:24:07,833]\u001b[0m Trial 52 finished with value: 0.8440139891575246 and parameters: {'lambda_l1': 1.3600093060434386e-08, 'lambda_l2': 0.232367604889057}. Best is trial 52 with value: 0.8440139891575246.\u001b[0m\n"
     ]
    },
    {
     "name": "stdout",
     "output_type": "stream",
     "text": [
      "Early stopping, best iteration is:\n",
      "[886]\tvalid_0's rmse: 0.827084\tvalid_1's rmse: 0.844014\n",
      "Training until validation scores don't improve for 100 rounds\n"
     ]
    },
    {
     "name": "stderr",
     "output_type": "stream",
     "text": [
      "\u001b[32m[I 2021-02-26 17:24:12,657]\u001b[0m The booster of trial#53 was saved as N:\\KaggleCompete\\boosters\\53.pkl.\u001b[0m\n",
      "\u001b[32m[I 2021-02-26 17:24:12,660]\u001b[0m Trial 53 finished with value: 0.8442316730226694 and parameters: {'lambda_l1': 0.0008627603696737394, 'lambda_l2': 0.48041886980401927}. Best is trial 52 with value: 0.8440139891575246.\u001b[0m\n"
     ]
    },
    {
     "name": "stdout",
     "output_type": "stream",
     "text": [
      "Early stopping, best iteration is:\n",
      "[881]\tvalid_0's rmse: 0.827101\tvalid_1's rmse: 0.844232\n",
      "Training until validation scores don't improve for 100 rounds\n",
      "[1000]\tvalid_0's rmse: 0.825503\tvalid_1's rmse: 0.844354\n",
      "Did not meet early stopping. Best iteration is:\n",
      "[1000]\tvalid_0's rmse: 0.825503\tvalid_1's rmse: 0.844354\n"
     ]
    },
    {
     "name": "stderr",
     "output_type": "stream",
     "text": [
      "\u001b[32m[I 2021-02-26 17:24:17,348]\u001b[0m The booster of trial#54 was saved as N:\\KaggleCompete\\boosters\\54.pkl.\u001b[0m\n",
      "\u001b[32m[I 2021-02-26 17:24:17,352]\u001b[0m Trial 54 finished with value: 0.8443544092910407 and parameters: {'lambda_l1': 1.4158214193488812e-08, 'lambda_l2': 8.044713452033363}. Best is trial 52 with value: 0.8440139891575246.\u001b[0m\n"
     ]
    },
    {
     "name": "stdout",
     "output_type": "stream",
     "text": [
      "Training until validation scores don't improve for 100 rounds\n",
      "[1000]\tvalid_0's rmse: 0.824903\tvalid_1's rmse: 0.844173\n",
      "Did not meet early stopping. Best iteration is:\n",
      "[1000]\tvalid_0's rmse: 0.824903\tvalid_1's rmse: 0.844173\n"
     ]
    },
    {
     "name": "stderr",
     "output_type": "stream",
     "text": [
      "\u001b[32m[I 2021-02-26 17:24:21,923]\u001b[0m The booster of trial#55 was saved as N:\\KaggleCompete\\boosters\\55.pkl.\u001b[0m\n",
      "\u001b[32m[I 2021-02-26 17:24:21,926]\u001b[0m Trial 55 finished with value: 0.844172540732321 and parameters: {'lambda_l1': 3.9891252174333835e-06, 'lambda_l2': 0.1959301477269708}. Best is trial 52 with value: 0.8440139891575246.\u001b[0m\n"
     ]
    },
    {
     "name": "stdout",
     "output_type": "stream",
     "text": [
      "Training until validation scores don't improve for 100 rounds\n"
     ]
    },
    {
     "name": "stderr",
     "output_type": "stream",
     "text": [
      "\u001b[32m[I 2021-02-26 17:24:26,212]\u001b[0m The booster of trial#56 was saved as N:\\KaggleCompete\\boosters\\56.pkl.\u001b[0m\n",
      "\u001b[32m[I 2021-02-26 17:24:26,215]\u001b[0m Trial 56 finished with value: 0.8442904587282786 and parameters: {'lambda_l1': 2.609632596222462, 'lambda_l2': 0.00016447642130918441}. Best is trial 52 with value: 0.8440139891575246.\u001b[0m\n"
     ]
    },
    {
     "name": "stdout",
     "output_type": "stream",
     "text": [
      "Early stopping, best iteration is:\n",
      "[854]\tvalid_0's rmse: 0.82817\tvalid_1's rmse: 0.84429\n",
      "Training until validation scores don't improve for 100 rounds\n"
     ]
    },
    {
     "name": "stderr",
     "output_type": "stream",
     "text": [
      "\u001b[32m[I 2021-02-26 17:24:30,489]\u001b[0m The booster of trial#57 was saved as N:\\KaggleCompete\\boosters\\57.pkl.\u001b[0m\n",
      "\u001b[32m[I 2021-02-26 17:24:30,492]\u001b[0m Trial 57 finished with value: 0.8442354423399591 and parameters: {'lambda_l1': 0.006421131553472122, 'lambda_l2': 0.005696353604866429}. Best is trial 52 with value: 0.8440139891575246.\u001b[0m\n"
     ]
    },
    {
     "name": "stdout",
     "output_type": "stream",
     "text": [
      "Early stopping, best iteration is:\n",
      "[856]\tvalid_0's rmse: 0.827445\tvalid_1's rmse: 0.844235\n",
      "Training until validation scores don't improve for 100 rounds\n"
     ]
    },
    {
     "name": "stderr",
     "output_type": "stream",
     "text": [
      "\u001b[32m[I 2021-02-26 17:24:33,930]\u001b[0m The booster of trial#58 was saved as N:\\KaggleCompete\\boosters\\58.pkl.\u001b[0m\n",
      "\u001b[32m[I 2021-02-26 17:24:33,933]\u001b[0m Trial 58 finished with value: 0.8443303488333562 and parameters: {'lambda_l1': 9.644634630338217e-05, 'lambda_l2': 0.12319762982578844}. Best is trial 52 with value: 0.8440139891575246.\u001b[0m\n"
     ]
    },
    {
     "name": "stdout",
     "output_type": "stream",
     "text": [
      "Early stopping, best iteration is:\n",
      "[638]\tvalid_0's rmse: 0.831529\tvalid_1's rmse: 0.84433\n",
      "Training until validation scores don't improve for 100 rounds\n"
     ]
    },
    {
     "name": "stderr",
     "output_type": "stream",
     "text": [
      "\u001b[32m[I 2021-02-26 17:24:37,865]\u001b[0m The booster of trial#59 was saved as N:\\KaggleCompete\\boosters\\59.pkl.\u001b[0m\n",
      "\u001b[32m[I 2021-02-26 17:24:37,867]\u001b[0m Trial 59 finished with value: 0.8442011799644175 and parameters: {'lambda_l1': 2.0546200389175796e-06, 'lambda_l2': 0.0021094070850120675}. Best is trial 52 with value: 0.8440139891575246.\u001b[0m\n"
     ]
    },
    {
     "name": "stdout",
     "output_type": "stream",
     "text": [
      "Early stopping, best iteration is:\n",
      "[772]\tvalid_0's rmse: 0.828998\tvalid_1's rmse: 0.844201\n",
      "Training until validation scores don't improve for 100 rounds\n"
     ]
    },
    {
     "name": "stderr",
     "output_type": "stream",
     "text": [
      "\u001b[32m[I 2021-02-26 17:24:42,042]\u001b[0m The booster of trial#60 was saved as N:\\KaggleCompete\\boosters\\60.pkl.\u001b[0m\n",
      "\u001b[32m[I 2021-02-26 17:24:42,052]\u001b[0m Trial 60 finished with value: 0.844232854519026 and parameters: {'min_child_samples': 50}. Best is trial 60 with value: 0.844232854519026.\u001b[0m\n"
     ]
    },
    {
     "name": "stdout",
     "output_type": "stream",
     "text": [
      "Early stopping, best iteration is:\n",
      "[838]\tvalid_0's rmse: 0.828202\tvalid_1's rmse: 0.844233\n",
      "Training until validation scores don't improve for 100 rounds\n"
     ]
    },
    {
     "name": "stderr",
     "output_type": "stream",
     "text": [
      "\u001b[32m[I 2021-02-26 17:24:46,159]\u001b[0m The booster of trial#61 was saved as N:\\KaggleCompete\\boosters\\61.pkl.\u001b[0m\n",
      "\u001b[32m[I 2021-02-26 17:24:46,166]\u001b[0m Trial 61 finished with value: 0.8446956281769891 and parameters: {'min_child_samples': 5}. Best is trial 60 with value: 0.844232854519026.\u001b[0m\n"
     ]
    },
    {
     "name": "stdout",
     "output_type": "stream",
     "text": [
      "Early stopping, best iteration is:\n",
      "[818]\tvalid_0's rmse: 0.827958\tvalid_1's rmse: 0.844696\n",
      "Training until validation scores don't improve for 100 rounds\n"
     ]
    },
    {
     "name": "stderr",
     "output_type": "stream",
     "text": [
      "\u001b[32m[I 2021-02-26 17:24:50,441]\u001b[0m The booster of trial#62 was saved as N:\\KaggleCompete\\boosters\\62.pkl.\u001b[0m\n",
      "\u001b[32m[I 2021-02-26 17:24:50,448]\u001b[0m Trial 62 finished with value: 0.8441396154385543 and parameters: {'min_child_samples': 25}. Best is trial 62 with value: 0.8441396154385543.\u001b[0m\n"
     ]
    },
    {
     "name": "stdout",
     "output_type": "stream",
     "text": [
      "Early stopping, best iteration is:\n",
      "[865]\tvalid_0's rmse: 0.827495\tvalid_1's rmse: 0.84414\n",
      "Training until validation scores don't improve for 100 rounds\n"
     ]
    },
    {
     "name": "stderr",
     "output_type": "stream",
     "text": [
      "\u001b[32m[I 2021-02-26 17:24:54,334]\u001b[0m The booster of trial#63 was saved as N:\\KaggleCompete\\boosters\\63.pkl.\u001b[0m\n",
      "\u001b[32m[I 2021-02-26 17:24:54,341]\u001b[0m Trial 63 finished with value: 0.8444569286096317 and parameters: {'min_child_samples': 10}. Best is trial 62 with value: 0.8441396154385543.\u001b[0m\n"
     ]
    },
    {
     "name": "stdout",
     "output_type": "stream",
     "text": [
      "Early stopping, best iteration is:\n",
      "[761]\tvalid_0's rmse: 0.829218\tvalid_1's rmse: 0.844457\n",
      "Training until validation scores don't improve for 100 rounds\n"
     ]
    },
    {
     "name": "stderr",
     "output_type": "stream",
     "text": [
      "\u001b[32m[I 2021-02-26 17:24:58,273]\u001b[0m The booster of trial#64 was saved as N:\\KaggleCompete\\boosters\\64.pkl.\u001b[0m\n",
      "\u001b[32m[I 2021-02-26 17:24:58,281]\u001b[0m Trial 64 finished with value: 0.8441220140509186 and parameters: {'min_child_samples': 100}. Best is trial 64 with value: 0.8441220140509186.\u001b[0m\n"
     ]
    },
    {
     "name": "stdout",
     "output_type": "stream",
     "text": [
      "Early stopping, best iteration is:\n",
      "[751]\tvalid_0's rmse: 0.830016\tvalid_1's rmse: 0.844122\n",
      "Best params: {'metric': 'rmse', 'verbosity': -1, 'boosting_type': 'gbdt', 'feature_pre_filter': False, 'lambda_l1': 1.3600093060434386e-08, 'lambda_l2': 0.232367604889057, 'num_leaves': 10, 'feature_fraction': 0.44800000000000006, 'bagging_fraction': 0.8790593955789898, 'bagging_freq': 3, 'min_child_samples': 20, 'num_iterations': 1000, 'early_stopping_round': 100}\n",
      "  Params: \n",
      "    metric: rmse\n",
      "    verbosity: -1\n",
      "    boosting_type: gbdt\n",
      "    feature_pre_filter: False\n",
      "    lambda_l1: 1.3600093060434386e-08\n",
      "    lambda_l2: 0.232367604889057\n",
      "    num_leaves: 10\n",
      "    feature_fraction: 0.44800000000000006\n",
      "    bagging_fraction: 0.8790593955789898\n",
      "    bagging_freq: 3\n",
      "    min_child_samples: 20\n",
      "    num_iterations: 1000\n",
      "    early_stopping_round: 100\n"
     ]
    }
   ],
   "source": [
    "dtrain = lgb.Dataset(train_x, label=train_y)\n",
    "dval = lgb.Dataset(val_x, label=val_y)\n",
    "\n",
    "params = {\n",
    "    #\"objective\": \"binary\",\n",
    "    \"metric\": \"rmse\",\n",
    "    \"verbosity\": -1,\n",
    "    \"boosting_type\": \"gbdt\",\n",
    "}\n",
    "\n",
    "model = lgb.train(\n",
    "    params, dtrain, valid_sets=[dtrain, dval], verbose_eval=1000, early_stopping_rounds=100, time_budget=(60*60)*2, model_dir='N:\\\\KaggleCompete\\\\boosters', show_progress_bar=False\n",
    ")\n",
    "\n",
    "prediction = model.predict(test_x, num_iteration=model.best_iteration)\n",
    "\n",
    "best_params = model.params\n",
    "print(\"Best params:\", best_params)\n",
    "print(\"  Params: \")\n",
    "for key, value in best_params.items():\n",
    "    print(\"    {}: {}\".format(key, value))\n",
    "    \n",
    "dt_string = datetime.now().strftime(\"%d-%m-%Y_%H-%M-%S\")\n",
    "submission = pd.DataFrame({'id':test.id,\n",
    "          'target':prediction})\n",
    "submission.to_csv(f'..\\\\kaggle_data\\\\{dt_string}_sub.csv', index=False)"
   ]
  },
  {
   "cell_type": "code",
   "execution_count": 23,
   "id": "graduate-light",
   "metadata": {},
   "outputs": [
    {
     "data": {
      "text/html": [
       "<div>\n",
       "<style scoped>\n",
       "    .dataframe tbody tr th:only-of-type {\n",
       "        vertical-align: middle;\n",
       "    }\n",
       "\n",
       "    .dataframe tbody tr th {\n",
       "        vertical-align: top;\n",
       "    }\n",
       "\n",
       "    .dataframe thead th {\n",
       "        text-align: right;\n",
       "    }\n",
       "</style>\n",
       "<table border=\"1\" class=\"dataframe\">\n",
       "  <thead>\n",
       "    <tr style=\"text-align: right;\">\n",
       "      <th></th>\n",
       "      <th>id</th>\n",
       "      <th>cat0</th>\n",
       "      <th>cat1</th>\n",
       "      <th>cat2</th>\n",
       "      <th>cat3</th>\n",
       "      <th>cat4</th>\n",
       "      <th>cat5</th>\n",
       "      <th>cat6</th>\n",
       "      <th>cat7</th>\n",
       "      <th>cat8</th>\n",
       "      <th>...</th>\n",
       "      <th>cont4</th>\n",
       "      <th>cont5</th>\n",
       "      <th>cont6</th>\n",
       "      <th>cont7</th>\n",
       "      <th>cont8</th>\n",
       "      <th>cont9</th>\n",
       "      <th>cont10</th>\n",
       "      <th>cont11</th>\n",
       "      <th>cont12</th>\n",
       "      <th>cont13</th>\n",
       "    </tr>\n",
       "  </thead>\n",
       "  <tbody>\n",
       "    <tr>\n",
       "      <th>0</th>\n",
       "      <td>0</td>\n",
       "      <td>0.0</td>\n",
       "      <td>0.034483</td>\n",
       "      <td>0.000000</td>\n",
       "      <td>0.068966</td>\n",
       "      <td>0.034483</td>\n",
       "      <td>0.103448</td>\n",
       "      <td>0.0</td>\n",
       "      <td>0.137931</td>\n",
       "      <td>0.137931</td>\n",
       "      <td>...</td>\n",
       "      <td>0.701679</td>\n",
       "      <td>0.595507</td>\n",
       "      <td>0.286912</td>\n",
       "      <td>0.279884</td>\n",
       "      <td>0.202234</td>\n",
       "      <td>0.242654</td>\n",
       "      <td>0.285147</td>\n",
       "      <td>0.264308</td>\n",
       "      <td>0.653654</td>\n",
       "      <td>0.302448</td>\n",
       "    </tr>\n",
       "    <tr>\n",
       "      <th>1</th>\n",
       "      <td>5</td>\n",
       "      <td>0.0</td>\n",
       "      <td>0.034483</td>\n",
       "      <td>0.000000</td>\n",
       "      <td>0.068966</td>\n",
       "      <td>0.034483</td>\n",
       "      <td>0.103448</td>\n",
       "      <td>0.0</td>\n",
       "      <td>0.137931</td>\n",
       "      <td>0.068966</td>\n",
       "      <td>...</td>\n",
       "      <td>0.277480</td>\n",
       "      <td>0.479552</td>\n",
       "      <td>0.397436</td>\n",
       "      <td>0.476742</td>\n",
       "      <td>0.857073</td>\n",
       "      <td>0.516393</td>\n",
       "      <td>0.562065</td>\n",
       "      <td>0.730542</td>\n",
       "      <td>0.318492</td>\n",
       "      <td>0.736251</td>\n",
       "    </tr>\n",
       "    <tr>\n",
       "      <th>2</th>\n",
       "      <td>15</td>\n",
       "      <td>0.0</td>\n",
       "      <td>0.034483</td>\n",
       "      <td>0.000000</td>\n",
       "      <td>0.068966</td>\n",
       "      <td>0.034483</td>\n",
       "      <td>0.103448</td>\n",
       "      <td>0.0</td>\n",
       "      <td>0.137931</td>\n",
       "      <td>0.068966</td>\n",
       "      <td>...</td>\n",
       "      <td>0.279508</td>\n",
       "      <td>0.676395</td>\n",
       "      <td>0.695284</td>\n",
       "      <td>0.253316</td>\n",
       "      <td>0.586934</td>\n",
       "      <td>0.548555</td>\n",
       "      <td>0.836193</td>\n",
       "      <td>0.759788</td>\n",
       "      <td>0.333572</td>\n",
       "      <td>0.273905</td>\n",
       "    </tr>\n",
       "    <tr>\n",
       "      <th>3</th>\n",
       "      <td>16</td>\n",
       "      <td>0.0</td>\n",
       "      <td>0.000000</td>\n",
       "      <td>0.034483</td>\n",
       "      <td>0.000000</td>\n",
       "      <td>0.034483</td>\n",
       "      <td>0.103448</td>\n",
       "      <td>0.0</td>\n",
       "      <td>0.137931</td>\n",
       "      <td>0.137931</td>\n",
       "      <td>...</td>\n",
       "      <td>0.479503</td>\n",
       "      <td>0.759875</td>\n",
       "      <td>0.240049</td>\n",
       "      <td>0.298074</td>\n",
       "      <td>0.442475</td>\n",
       "      <td>0.596746</td>\n",
       "      <td>0.414131</td>\n",
       "      <td>0.255382</td>\n",
       "      <td>0.589080</td>\n",
       "      <td>0.311625</td>\n",
       "    </tr>\n",
       "    <tr>\n",
       "      <th>4</th>\n",
       "      <td>17</td>\n",
       "      <td>0.0</td>\n",
       "      <td>0.034483</td>\n",
       "      <td>0.000000</td>\n",
       "      <td>0.000000</td>\n",
       "      <td>0.034483</td>\n",
       "      <td>0.034483</td>\n",
       "      <td>0.0</td>\n",
       "      <td>0.137931</td>\n",
       "      <td>0.137931</td>\n",
       "      <td>...</td>\n",
       "      <td>0.757845</td>\n",
       "      <td>0.210232</td>\n",
       "      <td>0.329851</td>\n",
       "      <td>0.616663</td>\n",
       "      <td>0.170475</td>\n",
       "      <td>0.263235</td>\n",
       "      <td>0.710961</td>\n",
       "      <td>0.224045</td>\n",
       "      <td>0.285860</td>\n",
       "      <td>0.794931</td>\n",
       "    </tr>\n",
       "    <tr>\n",
       "      <th>...</th>\n",
       "      <td>...</td>\n",
       "      <td>...</td>\n",
       "      <td>...</td>\n",
       "      <td>...</td>\n",
       "      <td>...</td>\n",
       "      <td>...</td>\n",
       "      <td>...</td>\n",
       "      <td>...</td>\n",
       "      <td>...</td>\n",
       "      <td>...</td>\n",
       "      <td>...</td>\n",
       "      <td>...</td>\n",
       "      <td>...</td>\n",
       "      <td>...</td>\n",
       "      <td>...</td>\n",
       "      <td>...</td>\n",
       "      <td>...</td>\n",
       "      <td>...</td>\n",
       "      <td>...</td>\n",
       "      <td>...</td>\n",
       "      <td>...</td>\n",
       "    </tr>\n",
       "    <tr>\n",
       "      <th>199995</th>\n",
       "      <td>499987</td>\n",
       "      <td>0.0</td>\n",
       "      <td>0.000000</td>\n",
       "      <td>0.000000</td>\n",
       "      <td>0.068966</td>\n",
       "      <td>0.034483</td>\n",
       "      <td>0.103448</td>\n",
       "      <td>0.0</td>\n",
       "      <td>0.137931</td>\n",
       "      <td>0.206897</td>\n",
       "      <td>...</td>\n",
       "      <td>0.277365</td>\n",
       "      <td>0.963678</td>\n",
       "      <td>0.240482</td>\n",
       "      <td>0.686462</td>\n",
       "      <td>0.915165</td>\n",
       "      <td>0.848878</td>\n",
       "      <td>0.459598</td>\n",
       "      <td>0.590327</td>\n",
       "      <td>0.864873</td>\n",
       "      <td>0.425258</td>\n",
       "    </tr>\n",
       "    <tr>\n",
       "      <th>199996</th>\n",
       "      <td>499990</td>\n",
       "      <td>0.0</td>\n",
       "      <td>0.000000</td>\n",
       "      <td>0.000000</td>\n",
       "      <td>0.068966</td>\n",
       "      <td>0.034483</td>\n",
       "      <td>0.103448</td>\n",
       "      <td>0.0</td>\n",
       "      <td>0.137931</td>\n",
       "      <td>0.137931</td>\n",
       "      <td>...</td>\n",
       "      <td>0.523174</td>\n",
       "      <td>0.232072</td>\n",
       "      <td>0.363421</td>\n",
       "      <td>0.694092</td>\n",
       "      <td>0.137002</td>\n",
       "      <td>0.319465</td>\n",
       "      <td>0.364527</td>\n",
       "      <td>0.388908</td>\n",
       "      <td>0.664357</td>\n",
       "      <td>0.224215</td>\n",
       "    </tr>\n",
       "    <tr>\n",
       "      <th>199997</th>\n",
       "      <td>499991</td>\n",
       "      <td>0.0</td>\n",
       "      <td>0.000000</td>\n",
       "      <td>0.000000</td>\n",
       "      <td>0.068966</td>\n",
       "      <td>0.034483</td>\n",
       "      <td>0.103448</td>\n",
       "      <td>0.0</td>\n",
       "      <td>0.137931</td>\n",
       "      <td>0.068966</td>\n",
       "      <td>...</td>\n",
       "      <td>0.517103</td>\n",
       "      <td>0.432927</td>\n",
       "      <td>0.811876</td>\n",
       "      <td>0.328398</td>\n",
       "      <td>0.496017</td>\n",
       "      <td>0.538779</td>\n",
       "      <td>0.466338</td>\n",
       "      <td>0.643869</td>\n",
       "      <td>0.749590</td>\n",
       "      <td>0.457702</td>\n",
       "    </tr>\n",
       "    <tr>\n",
       "      <th>199998</th>\n",
       "      <td>499994</td>\n",
       "      <td>0.0</td>\n",
       "      <td>0.034483</td>\n",
       "      <td>0.000000</td>\n",
       "      <td>0.000000</td>\n",
       "      <td>0.034483</td>\n",
       "      <td>0.103448</td>\n",
       "      <td>0.0</td>\n",
       "      <td>0.137931</td>\n",
       "      <td>0.068966</td>\n",
       "      <td>...</td>\n",
       "      <td>0.279153</td>\n",
       "      <td>0.837712</td>\n",
       "      <td>0.680886</td>\n",
       "      <td>0.534439</td>\n",
       "      <td>0.501588</td>\n",
       "      <td>0.809053</td>\n",
       "      <td>0.631704</td>\n",
       "      <td>0.766426</td>\n",
       "      <td>0.937139</td>\n",
       "      <td>0.796304</td>\n",
       "    </tr>\n",
       "    <tr>\n",
       "      <th>199999</th>\n",
       "      <td>499995</td>\n",
       "      <td>0.0</td>\n",
       "      <td>0.034483</td>\n",
       "      <td>0.000000</td>\n",
       "      <td>0.068966</td>\n",
       "      <td>0.034483</td>\n",
       "      <td>0.068966</td>\n",
       "      <td>0.0</td>\n",
       "      <td>0.137931</td>\n",
       "      <td>0.206897</td>\n",
       "      <td>...</td>\n",
       "      <td>0.763246</td>\n",
       "      <td>0.792263</td>\n",
       "      <td>0.409425</td>\n",
       "      <td>0.285033</td>\n",
       "      <td>0.594721</td>\n",
       "      <td>0.824892</td>\n",
       "      <td>0.479586</td>\n",
       "      <td>0.683065</td>\n",
       "      <td>0.721518</td>\n",
       "      <td>0.722690</td>\n",
       "    </tr>\n",
       "  </tbody>\n",
       "</table>\n",
       "<p>200000 rows × 25 columns</p>\n",
       "</div>"
      ],
      "text/plain": [
       "            id  cat0      cat1      cat2      cat3      cat4      cat5  cat6  \\\n",
       "0            0   0.0  0.034483  0.000000  0.068966  0.034483  0.103448   0.0   \n",
       "1            5   0.0  0.034483  0.000000  0.068966  0.034483  0.103448   0.0   \n",
       "2           15   0.0  0.034483  0.000000  0.068966  0.034483  0.103448   0.0   \n",
       "3           16   0.0  0.000000  0.034483  0.000000  0.034483  0.103448   0.0   \n",
       "4           17   0.0  0.034483  0.000000  0.000000  0.034483  0.034483   0.0   \n",
       "...        ...   ...       ...       ...       ...       ...       ...   ...   \n",
       "199995  499987   0.0  0.000000  0.000000  0.068966  0.034483  0.103448   0.0   \n",
       "199996  499990   0.0  0.000000  0.000000  0.068966  0.034483  0.103448   0.0   \n",
       "199997  499991   0.0  0.000000  0.000000  0.068966  0.034483  0.103448   0.0   \n",
       "199998  499994   0.0  0.034483  0.000000  0.000000  0.034483  0.103448   0.0   \n",
       "199999  499995   0.0  0.034483  0.000000  0.068966  0.034483  0.068966   0.0   \n",
       "\n",
       "            cat7      cat8  ...     cont4     cont5     cont6     cont7  \\\n",
       "0       0.137931  0.137931  ...  0.701679  0.595507  0.286912  0.279884   \n",
       "1       0.137931  0.068966  ...  0.277480  0.479552  0.397436  0.476742   \n",
       "2       0.137931  0.068966  ...  0.279508  0.676395  0.695284  0.253316   \n",
       "3       0.137931  0.137931  ...  0.479503  0.759875  0.240049  0.298074   \n",
       "4       0.137931  0.137931  ...  0.757845  0.210232  0.329851  0.616663   \n",
       "...          ...       ...  ...       ...       ...       ...       ...   \n",
       "199995  0.137931  0.206897  ...  0.277365  0.963678  0.240482  0.686462   \n",
       "199996  0.137931  0.137931  ...  0.523174  0.232072  0.363421  0.694092   \n",
       "199997  0.137931  0.068966  ...  0.517103  0.432927  0.811876  0.328398   \n",
       "199998  0.137931  0.068966  ...  0.279153  0.837712  0.680886  0.534439   \n",
       "199999  0.137931  0.206897  ...  0.763246  0.792263  0.409425  0.285033   \n",
       "\n",
       "           cont8     cont9    cont10    cont11    cont12    cont13  \n",
       "0       0.202234  0.242654  0.285147  0.264308  0.653654  0.302448  \n",
       "1       0.857073  0.516393  0.562065  0.730542  0.318492  0.736251  \n",
       "2       0.586934  0.548555  0.836193  0.759788  0.333572  0.273905  \n",
       "3       0.442475  0.596746  0.414131  0.255382  0.589080  0.311625  \n",
       "4       0.170475  0.263235  0.710961  0.224045  0.285860  0.794931  \n",
       "...          ...       ...       ...       ...       ...       ...  \n",
       "199995  0.915165  0.848878  0.459598  0.590327  0.864873  0.425258  \n",
       "199996  0.137002  0.319465  0.364527  0.388908  0.664357  0.224215  \n",
       "199997  0.496017  0.538779  0.466338  0.643869  0.749590  0.457702  \n",
       "199998  0.501588  0.809053  0.631704  0.766426  0.937139  0.796304  \n",
       "199999  0.594721  0.824892  0.479586  0.683065  0.721518  0.722690  \n",
       "\n",
       "[200000 rows x 25 columns]"
      ]
     },
     "execution_count": 23,
     "metadata": {},
     "output_type": "execute_result"
    }
   ],
   "source": [
    "test"
   ]
  },
  {
   "cell_type": "code",
   "execution_count": 24,
   "id": "attempted-surprise",
   "metadata": {},
   "outputs": [],
   "source": [
    "dt_string = datetime.now().strftime(\"%d-%m-%Y_%H-%M-%S\")\n",
    "submission = pd.DataFrame({'id':test.id,\n",
    "          'target':prediction})\n",
    "submission.to_csv(f'..\\\\kaggle_data\\\\{dt_string}_sub.csv', index=False)"
   ]
  },
  {
   "cell_type": "code",
   "execution_count": 21,
   "id": "stone-feeding",
   "metadata": {},
   "outputs": [
    {
     "name": "stdout",
     "output_type": "stream",
     "text": [
      "Best params: {'metric': 'rmse', 'verbosity': -1, 'boosting_type': 'gbdt', 'feature_pre_filter': False, 'lambda_l1': 9.4016532152438, 'lambda_l2': 0.006560267182579874, 'num_leaves': 10, 'feature_fraction': 0.4, 'bagging_fraction': 0.7091814665169984, 'bagging_freq': 7, 'min_child_samples': 25, 'num_iterations': 1000, 'early_stopping_round': 100}\n",
      "  Params: \n",
      "    metric: rmse\n",
      "    verbosity: -1\n",
      "    boosting_type: gbdt\n",
      "    feature_pre_filter: False\n",
      "    lambda_l1: 9.4016532152438\n",
      "    lambda_l2: 0.006560267182579874\n",
      "    num_leaves: 10\n",
      "    feature_fraction: 0.4\n",
      "    bagging_fraction: 0.7091814665169984\n",
      "    bagging_freq: 7\n",
      "    min_child_samples: 25\n",
      "    num_iterations: 1000\n",
      "    early_stopping_round: 100\n"
     ]
    }
   ],
   "source": [
    "best_params = model.params\n",
    "print(\"Best params:\", best_params)\n",
    "#print(\"  Accuracy = {}\".format(accuracy))\n",
    "print(\"  Params: \")\n",
    "for key, value in best_params.items():\n",
    "    print(\"    {}: {}\".format(key, value))"
   ]
  },
  {
   "cell_type": "code",
   "execution_count": null,
   "id": "shaped-recording",
   "metadata": {},
   "outputs": [],
   "source": [
    "model.predict(X_test)"
   ]
  }
 ],
 "metadata": {
  "kernelspec": {
   "display_name": "Python 3",
   "language": "python",
   "name": "python3"
  },
  "language_info": {
   "codemirror_mode": {
    "name": "ipython",
    "version": 3
   },
   "file_extension": ".py",
   "mimetype": "text/x-python",
   "name": "python",
   "nbconvert_exporter": "python",
   "pygments_lexer": "ipython3",
   "version": "3.7.5"
  }
 },
 "nbformat": 4,
 "nbformat_minor": 5
}
