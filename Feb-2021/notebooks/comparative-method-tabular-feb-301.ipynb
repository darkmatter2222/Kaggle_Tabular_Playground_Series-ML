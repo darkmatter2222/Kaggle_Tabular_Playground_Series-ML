{
 "cells": [
  {
   "cell_type": "markdown",
   "metadata": {
    "papermill": {
     "duration": 0.025899,
     "end_time": "2021-02-22T08:45:36.599335",
     "exception": false,
     "start_time": "2021-02-22T08:45:36.573436",
     "status": "completed"
    },
    "tags": []
   },
   "source": [
    "<div>\n",
    "    <h1 align=\"center\">Optimizing Results</h1></h1>\n",
    "    <h1 align=\"center\">Ensembling & Comparative Method</h1>\n",
    "    <h3 align=\"center\">Tabular Playground Series - Feb 2021</h3>\n",
    "</div>"
   ]
  },
  {
   "cell_type": "markdown",
   "metadata": {
    "papermill": {
     "duration": 0.02119,
     "end_time": "2021-02-22T08:45:36.642737",
     "exception": false,
     "start_time": "2021-02-22T08:45:36.621547",
     "status": "completed"
    },
    "tags": []
   },
   "source": [
    "<div class=\"alert alert-success\">  \n",
    "</div>"
   ]
  },
  {
   "cell_type": "markdown",
   "metadata": {
    "papermill": {
     "duration": 0.021077,
     "end_time": "2021-02-22T08:45:36.686237",
     "exception": false,
     "start_time": "2021-02-22T08:45:36.665160",
     "status": "completed"
    },
    "tags": []
   },
   "source": [
    "# Description:\n",
    "\n",
    "\n",
    "### - In this notebook, I used the results of my notebook and the results of twenty public notebooks. These results have been used for \"Ensembling\" and \"Comparative Method\". Thanks to everyone who shared their notebook, the addresses of some of the used notebooks are as follows:\n",
    "\n",
    "https://www.kaggle.com/awwalmalhi/extreme-fine-tuning-lgbm-using-7-step-training\n",
    "\n",
    "https://www.kaggle.com/hiro5299834/tps-feb-2021-with-single-lgbm-tuned\n",
    "\n",
    "https://www.kaggle.com/craigmthomas/tps-feb-2021-lgb-xgb-combo\n",
    "\n",
    "https://www.kaggle.com/andreshg/tps-feb-a-complete-study\n",
    "\n",
    "https://www.kaggle.com/rmiperrier/step-by-step-lgb-optimization\n",
    "\n",
    "https://www.kaggle.com/tunguz/tps-feb-2021-with-lgbmregressor\n",
    "\n",
    "https://www.kaggle.com/ttahara/tps-feb-2021-3gbdts-ensemble-baseline\n",
    "\n",
    "### - More information about the \"Comparative Method\" can be found at the following addresses:\n",
    "\n",
    "https://www.kaggle.com/c/tabular-playground-series-jan-2021/discussion/213093\n",
    "\n",
    "https://www.kaggle.com/somayyehgholami/0-69470-results-driven-january-tabular-301\n",
    "\n",
    "https://www.kaggle.com/somayyehgholami/results-driven-tabular-playground-series-201\n",
    "\n",
    "### - You can definitely mix your notebook results with the results of this notebook and get better results. You can also get better results by changing the hyperparameters of this notebook.\n",
    "\n",
    "### >>> Good Luck <<<\n"
   ]
  },
  {
   "cell_type": "markdown",
   "metadata": {
    "papermill": {
     "duration": 0.02147,
     "end_time": "2021-02-22T08:45:36.729164",
     "exception": false,
     "start_time": "2021-02-22T08:45:36.707694",
     "status": "completed"
    },
    "tags": []
   },
   "source": [
    "<div class=\"alert alert-success\">  \n",
    "</div>"
   ]
  },
  {
   "cell_type": "markdown",
   "metadata": {
    "papermill": {
     "duration": 0.022324,
     "end_time": "2021-02-22T08:45:36.773189",
     "exception": false,
     "start_time": "2021-02-22T08:45:36.750865",
     "status": "completed"
    },
    "tags": []
   },
   "source": [
    "# If you find this work useful, please don't forget upvoting :)"
   ]
  },
  {
   "cell_type": "markdown",
   "metadata": {
    "papermill": {
     "duration": 0.021144,
     "end_time": "2021-02-22T08:45:36.816061",
     "exception": false,
     "start_time": "2021-02-22T08:45:36.794917",
     "status": "completed"
    },
    "tags": []
   },
   "source": [
    "<div class=\"alert alert-success\">  \n",
    "</div>"
   ]
  },
  {
   "cell_type": "markdown",
   "metadata": {
    "papermill": {
     "duration": 0.023237,
     "end_time": "2021-02-22T08:45:36.860857",
     "exception": false,
     "start_time": "2021-02-22T08:45:36.837620",
     "status": "completed"
    },
    "tags": []
   },
   "source": [
    "# Import & Data Set"
   ]
  },
  {
   "cell_type": "code",
   "execution_count": 1,
   "metadata": {
    "execution": {
     "iopub.execute_input": "2021-02-22T08:45:36.941630Z",
     "iopub.status.busy": "2021-02-22T08:45:36.940355Z",
     "iopub.status.idle": "2021-02-22T08:45:36.971077Z",
     "shell.execute_reply": "2021-02-22T08:45:36.970094Z"
    },
    "papermill": {
     "duration": 0.082454,
     "end_time": "2021-02-22T08:45:36.971334",
     "exception": false,
     "start_time": "2021-02-22T08:45:36.888880",
     "status": "completed"
    },
    "tags": []
   },
   "outputs": [
    {
     "data": {
      "text/html": [
       "<div>\n",
       "<style scoped>\n",
       "    .dataframe tbody tr th:only-of-type {\n",
       "        vertical-align: middle;\n",
       "    }\n",
       "\n",
       "    .dataframe tbody tr th {\n",
       "        vertical-align: top;\n",
       "    }\n",
       "\n",
       "    .dataframe thead th {\n",
       "        text-align: right;\n",
       "    }\n",
       "</style>\n",
       "<table border=\"1\" class=\"dataframe\">\n",
       "  <thead>\n",
       "    <tr style=\"text-align: right;\">\n",
       "      <th></th>\n",
       "      <th>Kernel ID</th>\n",
       "      <th>Score</th>\n",
       "      <th>File Path</th>\n",
       "    </tr>\n",
       "  </thead>\n",
       "  <tbody>\n",
       "    <tr>\n",
       "      <th>0</th>\n",
       "      <td>A</td>\n",
       "      <td>0.84362</td>\n",
       "      <td>../input/feb84362/FEB84362.csv</td>\n",
       "    </tr>\n",
       "    <tr>\n",
       "      <th>1</th>\n",
       "      <td>B</td>\n",
       "      <td>0.84358</td>\n",
       "      <td>../input/feb84358/FEB84358.csv</td>\n",
       "    </tr>\n",
       "    <tr>\n",
       "      <th>2</th>\n",
       "      <td>C</td>\n",
       "      <td>0.84352</td>\n",
       "      <td>../input/feb84352/FEB84352.csv</td>\n",
       "    </tr>\n",
       "    <tr>\n",
       "      <th>3</th>\n",
       "      <td>D</td>\n",
       "      <td>0.84318</td>\n",
       "      <td>../input/feb84318/FEB84318.csv</td>\n",
       "    </tr>\n",
       "    <tr>\n",
       "      <th>4</th>\n",
       "      <td>E</td>\n",
       "      <td>0.84310</td>\n",
       "      <td>../input/feb84310/FEB84310.csv</td>\n",
       "    </tr>\n",
       "    <tr>\n",
       "      <th>5</th>\n",
       "      <td>F</td>\n",
       "      <td>0.84303</td>\n",
       "      <td>../input/feb84303/FEB84303.csv</td>\n",
       "    </tr>\n",
       "    <tr>\n",
       "      <th>6</th>\n",
       "      <td>G</td>\n",
       "      <td>0.84266</td>\n",
       "      <td>../input/feb84266/FEB84266.csv</td>\n",
       "    </tr>\n",
       "    <tr>\n",
       "      <th>7</th>\n",
       "      <td>H</td>\n",
       "      <td>0.84251</td>\n",
       "      <td>../input/feb84251/FEB84251.csv</td>\n",
       "    </tr>\n",
       "    <tr>\n",
       "      <th>8</th>\n",
       "      <td>I</td>\n",
       "      <td>0.84245</td>\n",
       "      <td>../input/feb84245/FEB84245.csv</td>\n",
       "    </tr>\n",
       "    <tr>\n",
       "      <th>9</th>\n",
       "      <td>J</td>\n",
       "      <td>0.84243</td>\n",
       "      <td>../input/feb84243/FEB84243.csv</td>\n",
       "    </tr>\n",
       "    <tr>\n",
       "      <th>10</th>\n",
       "      <td>K</td>\n",
       "      <td>0.84233</td>\n",
       "      <td>../input/feb84233/FEB84233.csv</td>\n",
       "    </tr>\n",
       "    <tr>\n",
       "      <th>11</th>\n",
       "      <td>L</td>\n",
       "      <td>0.84229</td>\n",
       "      <td>../input/feb84229/FEB84229.csv</td>\n",
       "    </tr>\n",
       "    <tr>\n",
       "      <th>12</th>\n",
       "      <td>M</td>\n",
       "      <td>0.84221</td>\n",
       "      <td>../input/feb84221/FEB84221.csv</td>\n",
       "    </tr>\n",
       "    <tr>\n",
       "      <th>13</th>\n",
       "      <td>N</td>\n",
       "      <td>0.84220</td>\n",
       "      <td>../input/feb84220/FEB84220.csv</td>\n",
       "    </tr>\n",
       "    <tr>\n",
       "      <th>14</th>\n",
       "      <td>O</td>\n",
       "      <td>0.84209</td>\n",
       "      <td>../input/feb84209/FEB84209.csv</td>\n",
       "    </tr>\n",
       "    <tr>\n",
       "      <th>15</th>\n",
       "      <td>P</td>\n",
       "      <td>0.84207</td>\n",
       "      <td>../input/feb84207/FEB84207.csv</td>\n",
       "    </tr>\n",
       "    <tr>\n",
       "      <th>16</th>\n",
       "      <td>Q</td>\n",
       "      <td>0.84202</td>\n",
       "      <td>../input/feb84202/FEB84202.csv</td>\n",
       "    </tr>\n",
       "    <tr>\n",
       "      <th>17</th>\n",
       "      <td>R</td>\n",
       "      <td>0.84200</td>\n",
       "      <td>../input/feb84200/FEB84200.csv</td>\n",
       "    </tr>\n",
       "    <tr>\n",
       "      <th>18</th>\n",
       "      <td>S</td>\n",
       "      <td>0.84199</td>\n",
       "      <td>../input/feb84199/FEB84199.csv</td>\n",
       "    </tr>\n",
       "    <tr>\n",
       "      <th>19</th>\n",
       "      <td>T</td>\n",
       "      <td>0.84198</td>\n",
       "      <td>../input/feb84198/FEB84198.csv</td>\n",
       "    </tr>\n",
       "    <tr>\n",
       "      <th>20</th>\n",
       "      <td>U</td>\n",
       "      <td>0.84193</td>\n",
       "      <td>../input/feb84193/FEB84193.csv</td>\n",
       "    </tr>\n",
       "  </tbody>\n",
       "</table>\n",
       "</div>"
      ],
      "text/plain": [
       "   Kernel ID    Score                       File Path\n",
       "0          A  0.84362  ../input/feb84362/FEB84362.csv\n",
       "1          B  0.84358  ../input/feb84358/FEB84358.csv\n",
       "2          C  0.84352  ../input/feb84352/FEB84352.csv\n",
       "3          D  0.84318  ../input/feb84318/FEB84318.csv\n",
       "4          E  0.84310  ../input/feb84310/FEB84310.csv\n",
       "5          F  0.84303  ../input/feb84303/FEB84303.csv\n",
       "6          G  0.84266  ../input/feb84266/FEB84266.csv\n",
       "7          H  0.84251  ../input/feb84251/FEB84251.csv\n",
       "8          I  0.84245  ../input/feb84245/FEB84245.csv\n",
       "9          J  0.84243  ../input/feb84243/FEB84243.csv\n",
       "10         K  0.84233  ../input/feb84233/FEB84233.csv\n",
       "11         L  0.84229  ../input/feb84229/FEB84229.csv\n",
       "12         M  0.84221  ../input/feb84221/FEB84221.csv\n",
       "13         N  0.84220  ../input/feb84220/FEB84220.csv\n",
       "14         O  0.84209  ../input/feb84209/FEB84209.csv\n",
       "15         P  0.84207  ../input/feb84207/FEB84207.csv\n",
       "16         Q  0.84202  ../input/feb84202/FEB84202.csv\n",
       "17         R  0.84200  ../input/feb84200/FEB84200.csv\n",
       "18         S  0.84199  ../input/feb84199/FEB84199.csv\n",
       "19         T  0.84198  ../input/feb84198/FEB84198.csv\n",
       "20         U  0.84193  ../input/feb84193/FEB84193.csv"
      ]
     },
     "execution_count": 1,
     "metadata": {},
     "output_type": "execute_result"
    }
   ],
   "source": [
    "import numpy as np\n",
    "import pandas as pd \n",
    "import matplotlib.pyplot as plt\n",
    "\n",
    "%matplotlib inline\n",
    "\n",
    "# _______________________________________\n",
    "\n",
    "# Kernels Data (Public Score & File Path)\n",
    "\n",
    "dfk = pd.DataFrame({ \n",
    "    'Kernel ID': ['A', 'B', 'C', 'D', 'E', 'F', 'G', 'H', 'I', 'J', 'K', 'L', 'M', 'N', 'O', 'P', 'Q', 'R', 'S', 'T', 'U'],  \n",
    "    'Score':     [ 0.84362, 0.84358, 0.84352, 0.84318, 0.84310, 0.84303, 0.84266, 0.84251, 0.84245, 0.84243, 0.84233, 0.84229, 0.84221, 0.84220, 0.84209, 0.84207, 0.84202, 0.84200, 0.84199, 0.84198, 0.84193],   \n",
    "    'File Path': ['../input/feb84362/FEB84362.csv', '../input/feb84358/FEB84358.csv', '../input/feb84352/FEB84352.csv', '../input/feb84318/FEB84318.csv', '../input/feb84310/FEB84310.csv', '../input/feb84303/FEB84303.csv', '../input/feb84266/FEB84266.csv', '../input/feb84251/FEB84251.csv', '../input/feb84245/FEB84245.csv', '../input/feb84243/FEB84243.csv', '../input/feb84233/FEB84233.csv' , '../input/feb84229/FEB84229.csv', '../input/feb84221/FEB84221.csv', '../input/feb84220/FEB84220.csv', '../input/feb84209/FEB84209.csv', '../input/feb84207/FEB84207.csv', '../input/feb84202/FEB84202.csv', '../input/feb84200/FEB84200.csv', '../input/feb84199/FEB84199.csv', '../input/feb84198/FEB84198.csv', '../input/feb84193/FEB84193.csv']     \n",
    "})    \n",
    "    \n",
    "dfk      "
   ]
  },
  {
   "cell_type": "markdown",
   "metadata": {
    "papermill": {
     "duration": 0.022273,
     "end_time": "2021-02-22T08:45:37.017534",
     "exception": false,
     "start_time": "2021-02-22T08:45:36.995261",
     "status": "completed"
    },
    "tags": []
   },
   "source": [
    "<div class=\"alert alert-success\">  \n",
    "</div>"
   ]
  },
  {
   "cell_type": "markdown",
   "metadata": {
    "papermill": {
     "duration": 0.024004,
     "end_time": "2021-02-22T08:45:37.066254",
     "exception": false,
     "start_time": "2021-02-22T08:45:37.042250",
     "status": "completed"
    },
    "tags": []
   },
   "source": [
    "# Functions:"
   ]
  },
  {
   "cell_type": "code",
   "execution_count": 2,
   "metadata": {
    "execution": {
     "iopub.execute_input": "2021-02-22T08:45:37.122357Z",
     "iopub.status.busy": "2021-02-22T08:45:37.121187Z",
     "iopub.status.idle": "2021-02-22T08:45:37.125827Z",
     "shell.execute_reply": "2021-02-22T08:45:37.125128Z"
    },
    "papermill": {
     "duration": 0.035139,
     "end_time": "2021-02-22T08:45:37.126000",
     "exception": false,
     "start_time": "2021-02-22T08:45:37.090861",
     "status": "completed"
    },
    "tags": []
   },
   "outputs": [],
   "source": [
    "def generate(main, support, coeff):\n",
    "    \n",
    "    g = main.copy()    \n",
    "    for i in main.columns[1:]:\n",
    "        \n",
    "        res = []\n",
    "        lm, Is = [], []        \n",
    "        lm = main[i].tolist()\n",
    "        ls = support[i].tolist()  \n",
    "        \n",
    "        for j in range(len(main)):\n",
    "            res.append((lm[j] * coeff) + (ls[j] * (1.- coeff)))            \n",
    "        g[i] = res\n",
    "        \n",
    "    return g\n"
   ]
  },
  {
   "cell_type": "code",
   "execution_count": 3,
   "metadata": {
    "execution": {
     "iopub.execute_input": "2021-02-22T08:45:37.184665Z",
     "iopub.status.busy": "2021-02-22T08:45:37.183836Z",
     "iopub.status.idle": "2021-02-22T08:45:37.188690Z",
     "shell.execute_reply": "2021-02-22T08:45:37.188001Z"
    },
    "papermill": {
     "duration": 0.039526,
     "end_time": "2021-02-22T08:45:37.188887",
     "exception": false,
     "start_time": "2021-02-22T08:45:37.149361",
     "status": "completed"
    },
    "tags": []
   },
   "outputs": [],
   "source": [
    "def drawing(main, support, generated):\n",
    "    \n",
    "    X  = main.iloc[:, 1]\n",
    "    Y1 = support.iloc[:, 1]\n",
    "    Y2 = generated.iloc[:, 1]\n",
    "    \n",
    "    plt.style.use('seaborn-whitegrid') \n",
    "    plt.figure(figsize=(8, 8), facecolor='lightgray')\n",
    "    plt.title(f'\\nOn the X axis >>> main\\nOn the Y axis >>> support\\n')           \n",
    "    plt.scatter(X, Y1, s=0.1)\n",
    "    plt.show() \n",
    "    \n",
    "    plt.style.use('seaborn-whitegrid') \n",
    "    plt.figure(figsize=(8, 8), facecolor='lightgray')\n",
    "    plt.title(f'\\nOn the X axis >>> main\\nOn the Y axis >>> generated\\n')           \n",
    "    plt.scatter(X, Y2, s=0.1)\n",
    "    plt.show()     \n",
    "    "
   ]
  },
  {
   "cell_type": "code",
   "execution_count": 4,
   "metadata": {
    "execution": {
     "iopub.execute_input": "2021-02-22T08:45:37.244862Z",
     "iopub.status.busy": "2021-02-22T08:45:37.243623Z",
     "iopub.status.idle": "2021-02-22T08:45:37.247658Z",
     "shell.execute_reply": "2021-02-22T08:45:37.246814Z"
    },
    "papermill": {
     "duration": 0.034866,
     "end_time": "2021-02-22T08:45:37.247842",
     "exception": false,
     "start_time": "2021-02-22T08:45:37.212976",
     "status": "completed"
    },
    "tags": []
   },
   "outputs": [],
   "source": [
    "def drawing1(main, support, generated):\n",
    "    \n",
    "    X  = main.iloc[:, 1]\n",
    "    Y1 = support.iloc[:, 1]\n",
    "    Y2 = generated.iloc[:, 1]\n",
    "    \n",
    "    plt.style.use('seaborn-whitegrid') \n",
    "    plt.figure(figsize=(8, 8), facecolor='lightgray')\n",
    "    plt.title(f'\\nBlue | X axis >> main | Y axis >> support\\n\\nOrange | X axis >> main | Y axis >> generated\\n') \n",
    "    \n",
    "    plt.scatter(X, Y1, s=0.1)    \n",
    "    plt.scatter(X, Y2, s=0.1)\n",
    "    \n",
    "    plt.show() \n",
    "    "
   ]
  },
  {
   "cell_type": "code",
   "execution_count": 5,
   "metadata": {
    "execution": {
     "iopub.execute_input": "2021-02-22T08:45:37.307319Z",
     "iopub.status.busy": "2021-02-22T08:45:37.306451Z",
     "iopub.status.idle": "2021-02-22T08:45:37.309911Z",
     "shell.execute_reply": "2021-02-22T08:45:37.309125Z"
    },
    "papermill": {
     "duration": 0.036879,
     "end_time": "2021-02-22T08:45:37.310083",
     "exception": false,
     "start_time": "2021-02-22T08:45:37.273204",
     "status": "completed"
    },
    "tags": []
   },
   "outputs": [],
   "source": [
    "def drawing2(pxy, mxy):\n",
    "    \n",
    "    plt.style.use('seaborn-whitegrid') \n",
    "    plt.figure(figsize=(8, 8), facecolor='lightgray')\n",
    "    plt.title(f'\\nComparative Method\\n\\nBlue | X(main) | Y(average - smaller result)\\n\\nOrange | X(main) | Y(generated)\\n') \n",
    "    plt.scatter(pxy[0], pxy[1], s=0.1)\n",
    "    plt.scatter(pxy[0], pxy[2], s=0.1)\n",
    "    plt.show() \n",
    "\n",
    "    plt.style.use('seaborn-whitegrid') \n",
    "    plt.figure(figsize=(8, 8), facecolor='lightgray')\n",
    "    plt.title(f'\\nComparative Method\\n\\nBlue | X(main) | Y(average - bigger results)\\n\\nOrange | X(main) | Y(generated)\\n') \n",
    "    plt.scatter(mxy[0], mxy[1], s=0.1)\n",
    "    plt.scatter(mxy[0], mxy[2], s=0.1)\n",
    "    plt.show()\n",
    "    "
   ]
  },
  {
   "cell_type": "code",
   "execution_count": 6,
   "metadata": {
    "execution": {
     "iopub.execute_input": "2021-02-22T08:45:37.373528Z",
     "iopub.status.busy": "2021-02-22T08:45:37.372244Z",
     "iopub.status.idle": "2021-02-22T08:45:37.375588Z",
     "shell.execute_reply": "2021-02-22T08:45:37.374913Z"
    },
    "papermill": {
     "duration": 0.042433,
     "end_time": "2021-02-22T08:45:37.375747",
     "exception": false,
     "start_time": "2021-02-22T08:45:37.333314",
     "status": "completed"
    },
    "tags": []
   },
   "outputs": [],
   "source": [
    "def comparison(main, majority, pcoeff, mcoeff):\n",
    "    '''\n",
    "    majority: Must be greater than half the total number of kernels. \n",
    "              In this example it must be greater than ten.(Hyper parameter)\n",
    "    \n",
    "    pcoeff:   Hyper parameter\n",
    "    mcoeff:   Hyper parameter\n",
    "    '''    \n",
    "    comp = main.copy()\n",
    "    for i in main.columns[1:]:\n",
    "        res = []\n",
    "        pxy = [[],[],[]]\n",
    "        mxy = [[],[],[]]        \n",
    "        lm  = main[i].tolist() \n",
    "        ls  = [[],[],[],[],[],[],[],[],[],[],[],[],[],[],[],[],[],[],[],[]]\n",
    "        for n in range (20):       \n",
    "            csv   = pd.read_csv(dfk.iloc[n, 2])  \n",
    "            ls[n] = csv[i].tolist() \n",
    "            \n",
    "        for j in range(len(main)):\n",
    "            pcount = 0\n",
    "            pvalue = 0.0        \n",
    "            mcount = 0\n",
    "            mvalue = 0.0 \n",
    "    \n",
    "            for k in range (20):            \n",
    "                if lm[j] > ls[k][j]:\n",
    "                    pcount += 1\n",
    "                    pvalue += ls[k][j]                 \n",
    "                else: \n",
    "                    mcount += 1\n",
    "                    mvalue += ls[k][j] \n",
    "                    \n",
    "            if (pcount > majority): \n",
    "                res.append(lm[j] * pcoeff)\n",
    "                pxy[2].append(lm[j] * pcoeff)                \n",
    "                pxy[1].append(pvalue / pcount)\n",
    "                pxy[0].append(lm[j])\n",
    "                        \n",
    "            elif (mcount > majority): \n",
    "                res.append(lm[j] * mcoeff)\n",
    "                mxy[2].append(lm[j] * mcoeff)                \n",
    "                mxy[1].append(mvalue / mcount)\n",
    "                mxy[0].append(lm[j])\n",
    "                        \n",
    "            else: \n",
    "                res.append(lm[j])       \n",
    "    \n",
    "        comp[i] = res    \n",
    "\n",
    "    drawing2(pxy, mxy)    \n",
    "    return comp\n",
    "    "
   ]
  },
  {
   "cell_type": "markdown",
   "metadata": {
    "papermill": {
     "duration": 0.022773,
     "end_time": "2021-02-22T08:45:37.421885",
     "exception": false,
     "start_time": "2021-02-22T08:45:37.399112",
     "status": "completed"
    },
    "tags": []
   },
   "source": [
    "<div class=\"alert alert-success\">  \n",
    "</div>"
   ]
  },
  {
   "cell_type": "markdown",
   "metadata": {
    "papermill": {
     "duration": 0.023438,
     "end_time": "2021-02-22T08:45:37.468453",
     "exception": false,
     "start_time": "2021-02-22T08:45:37.445015",
     "status": "completed"
    },
    "tags": []
   },
   "source": [
    "## Step #1\n",
    "In this step, we use the results of kernels \"A, B, C, D, E, F\"."
   ]
  },
  {
   "cell_type": "code",
   "execution_count": 7,
   "metadata": {
    "execution": {
     "iopub.execute_input": "2021-02-22T08:45:37.523696Z",
     "iopub.status.busy": "2021-02-22T08:45:37.522986Z",
     "iopub.status.idle": "2021-02-22T08:45:39.456799Z",
     "shell.execute_reply": "2021-02-22T08:45:39.455768Z"
    },
    "papermill": {
     "duration": 1.964995,
     "end_time": "2021-02-22T08:45:39.457003",
     "exception": false,
     "start_time": "2021-02-22T08:45:37.492008",
     "status": "completed"
    },
    "tags": []
   },
   "outputs": [],
   "source": [
    "support = pd.read_csv(dfk.iloc[0, 2])\n",
    "    \n",
    "for k in range (1, 6):\n",
    "    main = pd.read_csv(dfk.iloc[k, 2])\n",
    "    support = generate(main, support, 0.60)\n",
    "    \n",
    "sub1 = support "
   ]
  },
  {
   "cell_type": "markdown",
   "metadata": {
    "papermill": {
     "duration": 0.023245,
     "end_time": "2021-02-22T08:45:39.503945",
     "exception": false,
     "start_time": "2021-02-22T08:45:39.480700",
     "status": "completed"
    },
    "tags": []
   },
   "source": [
    "## Result: \n",
    "[ A: (Score: 0.84362), ... , F: (Score: 0.84303) ] >>> sub1: (Score: **0.84251**)"
   ]
  },
  {
   "cell_type": "code",
   "execution_count": 8,
   "metadata": {
    "execution": {
     "iopub.execute_input": "2021-02-22T08:45:39.559235Z",
     "iopub.status.busy": "2021-02-22T08:45:39.558263Z",
     "iopub.status.idle": "2021-02-22T08:45:40.244029Z",
     "shell.execute_reply": "2021-02-22T08:45:40.243337Z"
    },
    "papermill": {
     "duration": 0.717029,
     "end_time": "2021-02-22T08:45:40.244214",
     "exception": false,
     "start_time": "2021-02-22T08:45:39.527185",
     "status": "completed"
    },
    "tags": []
   },
   "outputs": [
    {
     "name": "stdout",
     "output_type": "stream",
     "text": [
      "sub1(Last Support)    | Score: 0.84251\n"
     ]
    },
    {
     "data": {
      "image/png": "[encoded data removed]",
      "text/plain": [
       "<Figure size 576x576 with 1 Axes>"
      ]
     },
     "metadata": {},
     "output_type": "display_data"
    },
    {
     "data": {
      "text/html": [
       "<div>\n",
       "<style scoped>\n",
       "    .dataframe tbody tr th:only-of-type {\n",
       "        vertical-align: middle;\n",
       "    }\n",
       "\n",
       "    .dataframe tbody tr th {\n",
       "        vertical-align: top;\n",
       "    }\n",
       "\n",
       "    .dataframe thead th {\n",
       "        text-align: right;\n",
       "    }\n",
       "</style>\n",
       "<table border=\"1\" class=\"dataframe\">\n",
       "  <thead>\n",
       "    <tr style=\"text-align: right;\">\n",
       "      <th></th>\n",
       "      <th>id</th>\n",
       "      <th>target</th>\n",
       "    </tr>\n",
       "  </thead>\n",
       "  <tbody>\n",
       "    <tr>\n",
       "      <th>count</th>\n",
       "      <td>200000.000000</td>\n",
       "      <td>200000.000000</td>\n",
       "    </tr>\n",
       "    <tr>\n",
       "      <th>mean</th>\n",
       "      <td>249970.884580</td>\n",
       "      <td>7.456835</td>\n",
       "    </tr>\n",
       "    <tr>\n",
       "      <th>std</th>\n",
       "      <td>144169.245904</td>\n",
       "      <td>0.276144</td>\n",
       "    </tr>\n",
       "    <tr>\n",
       "      <th>min</th>\n",
       "      <td>0.000000</td>\n",
       "      <td>6.291517</td>\n",
       "    </tr>\n",
       "    <tr>\n",
       "      <th>25%</th>\n",
       "      <td>125316.750000</td>\n",
       "      <td>7.273246</td>\n",
       "    </tr>\n",
       "    <tr>\n",
       "      <th>50%</th>\n",
       "      <td>249997.000000</td>\n",
       "      <td>7.453902</td>\n",
       "    </tr>\n",
       "    <tr>\n",
       "      <th>75%</th>\n",
       "      <td>374649.750000</td>\n",
       "      <td>7.636799</td>\n",
       "    </tr>\n",
       "    <tr>\n",
       "      <th>max</th>\n",
       "      <td>499995.000000</td>\n",
       "      <td>9.051080</td>\n",
       "    </tr>\n",
       "  </tbody>\n",
       "</table>\n",
       "</div>"
      ],
      "text/plain": [
       "                  id         target\n",
       "count  200000.000000  200000.000000\n",
       "mean   249970.884580       7.456835\n",
       "std    144169.245904       0.276144\n",
       "min         0.000000       6.291517\n",
       "25%    125316.750000       7.273246\n",
       "50%    249997.000000       7.453902\n",
       "75%    374649.750000       7.636799\n",
       "max    499995.000000       9.051080"
      ]
     },
     "execution_count": 8,
     "metadata": {},
     "output_type": "execute_result"
    }
   ],
   "source": [
    "print('sub1(Last Support)    | Score: 0.84251')\n",
    "\n",
    "a = pd.read_csv(dfk.iloc[0, 2])\n",
    "\n",
    "f = pd.read_csv(dfk.iloc[5, 2])\n",
    "\n",
    "drawing1(f, a, sub1)\n",
    "\n",
    "sub1.describe()"
   ]
  },
  {
   "cell_type": "markdown",
   "metadata": {
    "papermill": {
     "duration": 0.026958,
     "end_time": "2021-02-22T08:45:40.298047",
     "exception": false,
     "start_time": "2021-02-22T08:45:40.271089",
     "status": "completed"
    },
    "tags": []
   },
   "source": [
    "<div class=\"alert alert-success\">  \n",
    "</div>"
   ]
  },
  {
   "cell_type": "markdown",
   "metadata": {
    "papermill": {
     "duration": 0.026541,
     "end_time": "2021-02-22T08:45:40.351143",
     "exception": false,
     "start_time": "2021-02-22T08:45:40.324602",
     "status": "completed"
    },
    "tags": []
   },
   "source": [
    "## Step #2\n",
    "In this step, we use the results of kernels \"G, H, I, J, K, L, M, N\"."
   ]
  },
  {
   "cell_type": "code",
   "execution_count": 9,
   "metadata": {
    "execution": {
     "iopub.execute_input": "2021-02-22T08:45:40.413621Z",
     "iopub.status.busy": "2021-02-22T08:45:40.412865Z",
     "iopub.status.idle": "2021-02-22T08:45:42.963855Z",
     "shell.execute_reply": "2021-02-22T08:45:42.962945Z"
    },
    "papermill": {
     "duration": 2.584351,
     "end_time": "2021-02-22T08:45:42.964044",
     "exception": false,
     "start_time": "2021-02-22T08:45:40.379693",
     "status": "completed"
    },
    "tags": []
   },
   "outputs": [],
   "source": [
    "support = sub1\n",
    "    \n",
    "for k in range (6, 14):\n",
    "    main = pd.read_csv(dfk.iloc[k, 2])\n",
    "    support = generate(main, support, 0.50)\n",
    "    \n",
    "sub2 = support "
   ]
  },
  {
   "cell_type": "markdown",
   "metadata": {
    "papermill": {
     "duration": 0.02599,
     "end_time": "2021-02-22T08:45:43.016494",
     "exception": false,
     "start_time": "2021-02-22T08:45:42.990504",
     "status": "completed"
    },
    "tags": []
   },
   "source": [
    "## Result: \n",
    "[ sub1: (Score: 0.84251), G: (Score: 0.84266), ... , N: (Score: 0.84220) ] >>> sub2: (Score: **0.84211**)"
   ]
  },
  {
   "cell_type": "code",
   "execution_count": 10,
   "metadata": {
    "execution": {
     "iopub.execute_input": "2021-02-22T08:45:43.077191Z",
     "iopub.status.busy": "2021-02-22T08:45:43.076354Z",
     "iopub.status.idle": "2021-02-22T08:45:43.590622Z",
     "shell.execute_reply": "2021-02-22T08:45:43.589975Z"
    },
    "papermill": {
     "duration": 0.546688,
     "end_time": "2021-02-22T08:45:43.590830",
     "exception": false,
     "start_time": "2021-02-22T08:45:43.044142",
     "status": "completed"
    },
    "tags": []
   },
   "outputs": [
    {
     "name": "stdout",
     "output_type": "stream",
     "text": [
      "sub2(Last Support)    | Score: 0.84211\n"
     ]
    },
    {
     "data": {
      "image/png": "[encoded data removed]",
      "text/plain": [
       "<Figure size 576x576 with 1 Axes>"
      ]
     },
     "metadata": {},
     "output_type": "display_data"
    },
    {
     "data": {
      "text/html": [
       "<div>\n",
       "<style scoped>\n",
       "    .dataframe tbody tr th:only-of-type {\n",
       "        vertical-align: middle;\n",
       "    }\n",
       "\n",
       "    .dataframe tbody tr th {\n",
       "        vertical-align: top;\n",
       "    }\n",
       "\n",
       "    .dataframe thead th {\n",
       "        text-align: right;\n",
       "    }\n",
       "</style>\n",
       "<table border=\"1\" class=\"dataframe\">\n",
       "  <thead>\n",
       "    <tr style=\"text-align: right;\">\n",
       "      <th></th>\n",
       "      <th>id</th>\n",
       "      <th>target</th>\n",
       "    </tr>\n",
       "  </thead>\n",
       "  <tbody>\n",
       "    <tr>\n",
       "      <th>count</th>\n",
       "      <td>200000.000000</td>\n",
       "      <td>200000.000000</td>\n",
       "    </tr>\n",
       "    <tr>\n",
       "      <th>mean</th>\n",
       "      <td>249970.884580</td>\n",
       "      <td>7.456343</td>\n",
       "    </tr>\n",
       "    <tr>\n",
       "      <th>std</th>\n",
       "      <td>144169.245904</td>\n",
       "      <td>0.274725</td>\n",
       "    </tr>\n",
       "    <tr>\n",
       "      <th>min</th>\n",
       "      <td>0.000000</td>\n",
       "      <td>6.263415</td>\n",
       "    </tr>\n",
       "    <tr>\n",
       "      <th>25%</th>\n",
       "      <td>125316.750000</td>\n",
       "      <td>7.275060</td>\n",
       "    </tr>\n",
       "    <tr>\n",
       "      <th>50%</th>\n",
       "      <td>249997.000000</td>\n",
       "      <td>7.452287</td>\n",
       "    </tr>\n",
       "    <tr>\n",
       "      <th>75%</th>\n",
       "      <td>374649.750000</td>\n",
       "      <td>7.632756</td>\n",
       "    </tr>\n",
       "    <tr>\n",
       "      <th>max</th>\n",
       "      <td>499995.000000</td>\n",
       "      <td>9.214550</td>\n",
       "    </tr>\n",
       "  </tbody>\n",
       "</table>\n",
       "</div>"
      ],
      "text/plain": [
       "                  id         target\n",
       "count  200000.000000  200000.000000\n",
       "mean   249970.884580       7.456343\n",
       "std    144169.245904       0.274725\n",
       "min         0.000000       6.263415\n",
       "25%    125316.750000       7.275060\n",
       "50%    249997.000000       7.452287\n",
       "75%    374649.750000       7.632756\n",
       "max    499995.000000       9.214550"
      ]
     },
     "execution_count": 10,
     "metadata": {},
     "output_type": "execute_result"
    }
   ],
   "source": [
    "print('sub2(Last Support)    | Score: 0.84211')\n",
    "\n",
    "n = pd.read_csv(dfk.iloc[13, 2])\n",
    "\n",
    "drawing1(n, sub1, sub2)\n",
    "\n",
    "sub2.describe()"
   ]
  },
  {
   "cell_type": "markdown",
   "metadata": {
    "papermill": {
     "duration": 0.028775,
     "end_time": "2021-02-22T08:45:43.649007",
     "exception": false,
     "start_time": "2021-02-22T08:45:43.620232",
     "status": "completed"
    },
    "tags": []
   },
   "source": [
    "<div class=\"alert alert-success\">  \n",
    "</div>"
   ]
  },
  {
   "cell_type": "markdown",
   "metadata": {
    "papermill": {
     "duration": 0.029063,
     "end_time": "2021-02-22T08:45:43.708078",
     "exception": false,
     "start_time": "2021-02-22T08:45:43.679015",
     "status": "completed"
    },
    "tags": []
   },
   "source": [
    "## Step #3\n",
    "In this step, we use the results of kernels \"O, P, Q, R, S, T\"."
   ]
  },
  {
   "cell_type": "code",
   "execution_count": 11,
   "metadata": {
    "execution": {
     "iopub.execute_input": "2021-02-22T08:45:43.774345Z",
     "iopub.status.busy": "2021-02-22T08:45:43.773505Z",
     "iopub.status.idle": "2021-02-22T08:45:45.801311Z",
     "shell.execute_reply": "2021-02-22T08:45:45.800548Z"
    },
    "papermill": {
     "duration": 2.06392,
     "end_time": "2021-02-22T08:45:45.801529",
     "exception": false,
     "start_time": "2021-02-22T08:45:43.737609",
     "status": "completed"
    },
    "tags": []
   },
   "outputs": [],
   "source": [
    "support = sub2\n",
    "    \n",
    "for k in range (14, 20):\n",
    "    main = pd.read_csv(dfk.iloc[k, 2])\n",
    "    support = generate(main, support, 0.40)\n",
    "    \n",
    "sub3 = support "
   ]
  },
  {
   "cell_type": "markdown",
   "metadata": {
    "papermill": {
     "duration": 0.030345,
     "end_time": "2021-02-22T08:45:45.861579",
     "exception": false,
     "start_time": "2021-02-22T08:45:45.831234",
     "status": "completed"
    },
    "tags": []
   },
   "source": [
    "## Result:\n",
    "\n",
    "[ sub2: (Score: 0.84211), O: (Score: 0.84209), ... , T: (Score: 0.84198) ] >>> sub3: (Score: 0.84195)"
   ]
  },
  {
   "cell_type": "code",
   "execution_count": 12,
   "metadata": {
    "execution": {
     "iopub.execute_input": "2021-02-22T08:45:45.927278Z",
     "iopub.status.busy": "2021-02-22T08:45:45.926315Z",
     "iopub.status.idle": "2021-02-22T08:45:46.452005Z",
     "shell.execute_reply": "2021-02-22T08:45:46.451245Z"
    },
    "papermill": {
     "duration": 0.561538,
     "end_time": "2021-02-22T08:45:46.452185",
     "exception": false,
     "start_time": "2021-02-22T08:45:45.890647",
     "status": "completed"
    },
    "tags": []
   },
   "outputs": [
    {
     "name": "stdout",
     "output_type": "stream",
     "text": [
      "sub3(Last Support)    | Score: 0.84195\n"
     ]
    },
    {
     "data": {
      "image/png": "[encoded data removed]",
      "text/plain": [
       "<Figure size 576x576 with 1 Axes>"
      ]
     },
     "metadata": {},
     "output_type": "display_data"
    },
    {
     "data": {
      "text/html": [
       "<div>\n",
       "<style scoped>\n",
       "    .dataframe tbody tr th:only-of-type {\n",
       "        vertical-align: middle;\n",
       "    }\n",
       "\n",
       "    .dataframe tbody tr th {\n",
       "        vertical-align: top;\n",
       "    }\n",
       "\n",
       "    .dataframe thead th {\n",
       "        text-align: right;\n",
       "    }\n",
       "</style>\n",
       "<table border=\"1\" class=\"dataframe\">\n",
       "  <thead>\n",
       "    <tr style=\"text-align: right;\">\n",
       "      <th></th>\n",
       "      <th>id</th>\n",
       "      <th>target</th>\n",
       "    </tr>\n",
       "  </thead>\n",
       "  <tbody>\n",
       "    <tr>\n",
       "      <th>count</th>\n",
       "      <td>200000.000000</td>\n",
       "      <td>200000.000000</td>\n",
       "    </tr>\n",
       "    <tr>\n",
       "      <th>mean</th>\n",
       "      <td>249970.884580</td>\n",
       "      <td>7.456352</td>\n",
       "    </tr>\n",
       "    <tr>\n",
       "      <th>std</th>\n",
       "      <td>144169.245904</td>\n",
       "      <td>0.273921</td>\n",
       "    </tr>\n",
       "    <tr>\n",
       "      <th>min</th>\n",
       "      <td>0.000000</td>\n",
       "      <td>6.304458</td>\n",
       "    </tr>\n",
       "    <tr>\n",
       "      <th>25%</th>\n",
       "      <td>125316.750000</td>\n",
       "      <td>7.275329</td>\n",
       "    </tr>\n",
       "    <tr>\n",
       "      <th>50%</th>\n",
       "      <td>249997.000000</td>\n",
       "      <td>7.452768</td>\n",
       "    </tr>\n",
       "    <tr>\n",
       "      <th>75%</th>\n",
       "      <td>374649.750000</td>\n",
       "      <td>7.632758</td>\n",
       "    </tr>\n",
       "    <tr>\n",
       "      <th>max</th>\n",
       "      <td>499995.000000</td>\n",
       "      <td>9.166607</td>\n",
       "    </tr>\n",
       "  </tbody>\n",
       "</table>\n",
       "</div>"
      ],
      "text/plain": [
       "                  id         target\n",
       "count  200000.000000  200000.000000\n",
       "mean   249970.884580       7.456352\n",
       "std    144169.245904       0.273921\n",
       "min         0.000000       6.304458\n",
       "25%    125316.750000       7.275329\n",
       "50%    249997.000000       7.452768\n",
       "75%    374649.750000       7.632758\n",
       "max    499995.000000       9.166607"
      ]
     },
     "execution_count": 12,
     "metadata": {},
     "output_type": "execute_result"
    }
   ],
   "source": [
    "print('sub3(Last Support)    | Score: 0.84195')\n",
    "\n",
    "t = pd.read_csv(dfk.iloc[19, 2])\n",
    "\n",
    "drawing1(t, sub2, sub3)\n",
    "\n",
    "sub3.describe()"
   ]
  },
  {
   "cell_type": "markdown",
   "metadata": {
    "papermill": {
     "duration": 0.032631,
     "end_time": "2021-02-22T08:45:46.516590",
     "exception": false,
     "start_time": "2021-02-22T08:45:46.483959",
     "status": "completed"
    },
    "tags": []
   },
   "source": [
    "<div class=\"alert alert-success\">  \n",
    "</div>"
   ]
  },
  {
   "cell_type": "markdown",
   "metadata": {
    "papermill": {
     "duration": 0.031448,
     "end_time": "2021-02-22T08:45:46.580486",
     "exception": false,
     "start_time": "2021-02-22T08:45:46.549038",
     "status": "completed"
    },
    "tags": []
   },
   "source": [
    "## Step #4\n",
    "Use the results of the \"U\" kernel as well as the results of step #3."
   ]
  },
  {
   "cell_type": "code",
   "execution_count": 13,
   "metadata": {
    "execution": {
     "iopub.execute_input": "2021-02-22T08:45:46.653077Z",
     "iopub.status.busy": "2021-02-22T08:45:46.652069Z",
     "iopub.status.idle": "2021-02-22T08:45:47.004569Z",
     "shell.execute_reply": "2021-02-22T08:45:47.005152Z"
    },
    "papermill": {
     "duration": 0.39307,
     "end_time": "2021-02-22T08:45:47.005408",
     "exception": false,
     "start_time": "2021-02-22T08:45:46.612338",
     "status": "completed"
    },
    "tags": []
   },
   "outputs": [],
   "source": [
    "main = pd.read_csv(dfk.iloc[20, 2])\n",
    "\n",
    "sub4 = generate(main, sub3, 0.60)"
   ]
  },
  {
   "cell_type": "markdown",
   "metadata": {
    "papermill": {
     "duration": 0.033028,
     "end_time": "2021-02-22T08:45:47.071604",
     "exception": false,
     "start_time": "2021-02-22T08:45:47.038576",
     "status": "completed"
    },
    "tags": []
   },
   "source": [
    "## Result:\n",
    "\n",
    "[ U: (Score: 0.84193) , sub3: (Score: 0.84195) ] >>> sub4: (Score: 0.84191)"
   ]
  },
  {
   "cell_type": "code",
   "execution_count": 14,
   "metadata": {
    "execution": {
     "iopub.execute_input": "2021-02-22T08:45:47.140759Z",
     "iopub.status.busy": "2021-02-22T08:45:47.139601Z",
     "iopub.status.idle": "2021-02-22T08:45:47.575096Z",
     "shell.execute_reply": "2021-02-22T08:45:47.574266Z"
    },
    "papermill": {
     "duration": 0.471991,
     "end_time": "2021-02-22T08:45:47.575314",
     "exception": false,
     "start_time": "2021-02-22T08:45:47.103323",
     "status": "completed"
    },
    "tags": []
   },
   "outputs": [
    {
     "name": "stdout",
     "output_type": "stream",
     "text": [
      "sub4    | Score: 0.84191\n"
     ]
    },
    {
     "data": {
      "image/png": "[encoded data removed]",
      "text/plain": [
       "<Figure size 576x576 with 1 Axes>"
      ]
     },
     "metadata": {},
     "output_type": "display_data"
    },
    {
     "data": {
      "text/html": [
       "<div>\n",
       "<style scoped>\n",
       "    .dataframe tbody tr th:only-of-type {\n",
       "        vertical-align: middle;\n",
       "    }\n",
       "\n",
       "    .dataframe tbody tr th {\n",
       "        vertical-align: top;\n",
       "    }\n",
       "\n",
       "    .dataframe thead th {\n",
       "        text-align: right;\n",
       "    }\n",
       "</style>\n",
       "<table border=\"1\" class=\"dataframe\">\n",
       "  <thead>\n",
       "    <tr style=\"text-align: right;\">\n",
       "      <th></th>\n",
       "      <th>id</th>\n",
       "      <th>target</th>\n",
       "    </tr>\n",
       "  </thead>\n",
       "  <tbody>\n",
       "    <tr>\n",
       "      <th>count</th>\n",
       "      <td>200000.000000</td>\n",
       "      <td>200000.000000</td>\n",
       "    </tr>\n",
       "    <tr>\n",
       "      <th>mean</th>\n",
       "      <td>249970.884580</td>\n",
       "      <td>7.456370</td>\n",
       "    </tr>\n",
       "    <tr>\n",
       "      <th>std</th>\n",
       "      <td>144169.245904</td>\n",
       "      <td>0.275487</td>\n",
       "    </tr>\n",
       "    <tr>\n",
       "      <th>min</th>\n",
       "      <td>0.000000</td>\n",
       "      <td>6.308808</td>\n",
       "    </tr>\n",
       "    <tr>\n",
       "      <th>25%</th>\n",
       "      <td>125316.750000</td>\n",
       "      <td>7.274169</td>\n",
       "    </tr>\n",
       "    <tr>\n",
       "      <th>50%</th>\n",
       "      <td>249997.000000</td>\n",
       "      <td>7.453193</td>\n",
       "    </tr>\n",
       "    <tr>\n",
       "      <th>75%</th>\n",
       "      <td>374649.750000</td>\n",
       "      <td>7.634110</td>\n",
       "    </tr>\n",
       "    <tr>\n",
       "      <th>max</th>\n",
       "      <td>499995.000000</td>\n",
       "      <td>9.166137</td>\n",
       "    </tr>\n",
       "  </tbody>\n",
       "</table>\n",
       "</div>"
      ],
      "text/plain": [
       "                  id         target\n",
       "count  200000.000000  200000.000000\n",
       "mean   249970.884580       7.456370\n",
       "std    144169.245904       0.275487\n",
       "min         0.000000       6.308808\n",
       "25%    125316.750000       7.274169\n",
       "50%    249997.000000       7.453193\n",
       "75%    374649.750000       7.634110\n",
       "max    499995.000000       9.166137"
      ]
     },
     "execution_count": 14,
     "metadata": {},
     "output_type": "execute_result"
    }
   ],
   "source": [
    "print('sub4    | Score: 0.84191')\n",
    "\n",
    "drawing1(main, sub3, sub4)\n",
    "\n",
    "sub4.describe()"
   ]
  },
  {
   "cell_type": "markdown",
   "metadata": {
    "papermill": {
     "duration": 0.037488,
     "end_time": "2021-02-22T08:45:47.647642",
     "exception": false,
     "start_time": "2021-02-22T08:45:47.610154",
     "status": "completed"
    },
    "tags": []
   },
   "source": [
    "<div class=\"alert alert-success\">  \n",
    "</div>"
   ]
  },
  {
   "cell_type": "markdown",
   "metadata": {
    "papermill": {
     "duration": 0.039321,
     "end_time": "2021-02-22T08:45:47.722809",
     "exception": false,
     "start_time": "2021-02-22T08:45:47.683488",
     "status": "completed"
    },
    "tags": []
   },
   "source": [
    "## Step #5\n",
    "## Comparative Method\n",
    "In this step, we so-called recover some of the results of the previous step. That is, we compensate for the bad effects of the previous stages."
   ]
  },
  {
   "cell_type": "code",
   "execution_count": 15,
   "metadata": {
    "execution": {
     "iopub.execute_input": "2021-02-22T08:45:47.800355Z",
     "iopub.status.busy": "2021-02-22T08:45:47.799583Z",
     "iopub.status.idle": "2021-02-22T08:45:52.495953Z",
     "shell.execute_reply": "2021-02-22T08:45:52.496872Z"
    },
    "papermill": {
     "duration": 4.738668,
     "end_time": "2021-02-22T08:45:52.497091",
     "exception": false,
     "start_time": "2021-02-22T08:45:47.758423",
     "status": "completed"
    },
    "tags": []
   },
   "outputs": [
    {
     "data": {
      "image/png": "[encoded data removed]",
      "text/plain": [
       "<Figure size 576x576 with 1 Axes>"
      ]
     },
     "metadata": {},
     "output_type": "display_data"
    },
    {
     "data": {
      "image/png": "[encoded data removed]",
      "text/plain": [
       "<Figure size 576x576 with 1 Axes>"
      ]
     },
     "metadata": {},
     "output_type": "display_data"
    }
   ],
   "source": [
    "sub5 = comparison(sub4, 18, 0.9970, 0.9980)\n"
   ]
  },
  {
   "cell_type": "markdown",
   "metadata": {
    "papermill": {
     "duration": 0.037063,
     "end_time": "2021-02-22T08:45:52.571697",
     "exception": false,
     "start_time": "2021-02-22T08:45:52.534634",
     "status": "completed"
    },
    "tags": []
   },
   "source": [
    "## Result:\n",
    "\n",
    "sub4: (Score: 0.84191)  >>>  sub5: (Score: **0.84188**)"
   ]
  },
  {
   "cell_type": "code",
   "execution_count": 16,
   "metadata": {
    "execution": {
     "iopub.execute_input": "2021-02-22T08:45:52.656827Z",
     "iopub.status.busy": "2021-02-22T08:45:52.655877Z",
     "iopub.status.idle": "2021-02-22T08:45:52.688402Z",
     "shell.execute_reply": "2021-02-22T08:45:52.687682Z"
    },
    "papermill": {
     "duration": 0.080495,
     "end_time": "2021-02-22T08:45:52.688567",
     "exception": false,
     "start_time": "2021-02-22T08:45:52.608072",
     "status": "completed"
    },
    "tags": []
   },
   "outputs": [
    {
     "name": "stdout",
     "output_type": "stream",
     "text": [
      "sub5    | Score: 0.84188\n"
     ]
    },
    {
     "data": {
      "text/html": [
       "<div>\n",
       "<style scoped>\n",
       "    .dataframe tbody tr th:only-of-type {\n",
       "        vertical-align: middle;\n",
       "    }\n",
       "\n",
       "    .dataframe tbody tr th {\n",
       "        vertical-align: top;\n",
       "    }\n",
       "\n",
       "    .dataframe thead th {\n",
       "        text-align: right;\n",
       "    }\n",
       "</style>\n",
       "<table border=\"1\" class=\"dataframe\">\n",
       "  <thead>\n",
       "    <tr style=\"text-align: right;\">\n",
       "      <th></th>\n",
       "      <th>id</th>\n",
       "      <th>target</th>\n",
       "    </tr>\n",
       "  </thead>\n",
       "  <tbody>\n",
       "    <tr>\n",
       "      <th>count</th>\n",
       "      <td>200000.000000</td>\n",
       "      <td>200000.000000</td>\n",
       "    </tr>\n",
       "    <tr>\n",
       "      <th>mean</th>\n",
       "      <td>249970.884580</td>\n",
       "      <td>7.455204</td>\n",
       "    </tr>\n",
       "    <tr>\n",
       "      <th>std</th>\n",
       "      <td>144169.245904</td>\n",
       "      <td>0.275417</td>\n",
       "    </tr>\n",
       "    <tr>\n",
       "      <th>min</th>\n",
       "      <td>0.000000</td>\n",
       "      <td>6.308808</td>\n",
       "    </tr>\n",
       "    <tr>\n",
       "      <th>25%</th>\n",
       "      <td>125316.750000</td>\n",
       "      <td>7.272900</td>\n",
       "    </tr>\n",
       "    <tr>\n",
       "      <th>50%</th>\n",
       "      <td>249997.000000</td>\n",
       "      <td>7.452006</td>\n",
       "    </tr>\n",
       "    <tr>\n",
       "      <th>75%</th>\n",
       "      <td>374649.750000</td>\n",
       "      <td>7.632924</td>\n",
       "    </tr>\n",
       "    <tr>\n",
       "      <th>max</th>\n",
       "      <td>499995.000000</td>\n",
       "      <td>9.166137</td>\n",
       "    </tr>\n",
       "  </tbody>\n",
       "</table>\n",
       "</div>"
      ],
      "text/plain": [
       "                  id         target\n",
       "count  200000.000000  200000.000000\n",
       "mean   249970.884580       7.455204\n",
       "std    144169.245904       0.275417\n",
       "min         0.000000       6.308808\n",
       "25%    125316.750000       7.272900\n",
       "50%    249997.000000       7.452006\n",
       "75%    374649.750000       7.632924\n",
       "max    499995.000000       9.166137"
      ]
     },
     "execution_count": 16,
     "metadata": {},
     "output_type": "execute_result"
    }
   ],
   "source": [
    "print('sub5    | Score: 0.84188')\n",
    "sub5.describe()"
   ]
  },
  {
   "cell_type": "markdown",
   "metadata": {
    "papermill": {
     "duration": 0.040121,
     "end_time": "2021-02-22T08:45:52.767252",
     "exception": false,
     "start_time": "2021-02-22T08:45:52.727131",
     "status": "completed"
    },
    "tags": []
   },
   "source": [
    "<div class=\"alert alert-success\">  \n",
    "</div>"
   ]
  },
  {
   "cell_type": "code",
   "execution_count": 17,
   "metadata": {
    "execution": {
     "iopub.execute_input": "2021-02-22T08:45:52.854772Z",
     "iopub.status.busy": "2021-02-22T08:45:52.853620Z",
     "iopub.status.idle": "2021-02-22T08:45:58.142003Z",
     "shell.execute_reply": "2021-02-22T08:45:58.141149Z"
    },
    "papermill": {
     "duration": 5.336873,
     "end_time": "2021-02-22T08:45:58.142177",
     "exception": false,
     "start_time": "2021-02-22T08:45:52.805304",
     "status": "completed"
    },
    "tags": []
   },
   "outputs": [
    {
     "name": "stdout",
     "output_type": "stream",
     "text": [
      "__notebook__.ipynb  submission1.csv  submission3.csv  submission5.csv\r\n",
      "submission.csv\t    submission2.csv  submission4.csv\r\n"
     ]
    }
   ],
   "source": [
    "sub = sub5\n",
    "sub.to_csv(\"submission.csv\", index=False)\n",
    "\n",
    "sub1.to_csv(\"submission1.csv\", index=False)\n",
    "sub2.to_csv(\"submission2.csv\", index=False)\n",
    "sub3.to_csv(\"submission3.csv\", index=False)\n",
    "sub4.to_csv(\"submission4.csv\", index=False)\n",
    "sub5.to_csv(\"submission5.csv\", index=False)\n",
    "\n",
    "!ls"
   ]
  },
  {
   "cell_type": "markdown",
   "metadata": {
    "papermill": {
     "duration": 0.039749,
     "end_time": "2021-02-22T08:45:58.223813",
     "exception": false,
     "start_time": "2021-02-22T08:45:58.184064",
     "status": "completed"
    },
    "tags": []
   },
   "source": [
    "<div class=\"alert alert-success\">  \n",
    "</div>"
   ]
  }
 ],
 "metadata": {
  "kernelspec": {
   "display_name": "Python 3",
   "language": "python",
   "name": "python3"
  },
  "language_info": {
   "codemirror_mode": {
    "name": "ipython",
    "version": 3
   },
   "file_extension": ".py",
   "mimetype": "text/x-python",
   "name": "python",
   "nbconvert_exporter": "python",
   "pygments_lexer": "ipython3",
   "version": "3.7.9"
  },
  "papermill": {
   "default_parameters": {},
   "duration": 28.911034,
   "end_time": "2021-02-22T08:45:58.977128",
   "environment_variables": {},
   "exception": null,
   "input_path": "__notebook__.ipynb",
   "output_path": "__notebook__.ipynb",
   "parameters": {},
   "start_time": "2021-02-22T08:45:30.066094",
   "version": "2.2.2"
  }
 },
 "nbformat": 4,
 "nbformat_minor": 4
}
