{
 "cells": [
  {
   "cell_type": "code",
   "execution_count": null,
   "id": "restricted-final",
   "metadata": {},
   "outputs": [],
   "source": [
    "import numpy as np\n",
    "import pandas as pd\n",
    "import matplotlib.pyplot as plt\n",
    "import seaborn as sns\n",
    "from scipy import stats"
   ]
  },
  {
   "cell_type": "code",
   "execution_count": null,
   "id": "spiritual-liver",
   "metadata": {},
   "outputs": [],
   "source": [
    "train_data = pd.read_csv('..\\\\kaggle_data\\\\train.csv')\n",
    "test_data = pd.read_csv('..\\\\kaggle_data\\\\test.csv')\n",
    "train_data.head()"
   ]
  },
  {
   "cell_type": "code",
   "execution_count": null,
   "id": "sixth-negotiation",
   "metadata": {},
   "outputs": [],
   "source": [
    "fig,ax = plt.subplots(1,2, figsize=(12,3))\n",
    "sns.histplot(x=train_data.target, ax=ax[0])\n",
    "sns.boxplot(x=train_data.target, ax=ax[1])\n",
    "plt.show()"
   ]
  },
  {
   "cell_type": "code",
   "execution_count": null,
   "id": "corporate-authentication",
   "metadata": {},
   "outputs": [],
   "source": [
    "train_data = train_data[(np.abs(stats.zscore(train_data['target'])) < 3.0)]"
   ]
  },
  {
   "cell_type": "code",
   "execution_count": null,
   "id": "young-encounter",
   "metadata": {},
   "outputs": [],
   "source": [
    "fig,ax = plt.subplots(1,2, figsize=(12,3))\n",
    "sns.histplot(x=train_data.target, ax=ax[0])\n",
    "sns.boxplot(x=train_data.target, ax=ax[1])\n",
    "plt.show()"
   ]
  },
  {
   "cell_type": "code",
   "execution_count": null,
   "id": "sustained-crest",
   "metadata": {},
   "outputs": [],
   "source": [
    "numerical_features = [\n",
    "    'cont0', 'cont1', 'cont2', 'cont3', 'cont4', 'cont5', 'cont6',\n",
    "    'cont7', 'cont8', 'cont9', 'cont10', 'cont11', 'cont12', 'cont13'\n",
    "]\n",
    "\n",
    "categorical_features = [\n",
    "    'cat0', 'cat1', 'cat2', 'cat3', 'cat4', \n",
    "    'cat5', 'cat6', 'cat7', 'cat8', 'cat9'\n",
    "]\n",
    "\n",
    "def plot_numerical(x_train, x_test, ax):\n",
    "    \n",
    "    sns.histplot(x_train, ax=ax, kde=True, stat='density', alpha=0.25)\n",
    "    sns.histplot(x_test, ax=ax, kde=True, stat='density', color='green', alpha=0.25)\n",
    "    \n",
    "\n",
    "def calc_frequency(d,f):\n",
    "    \n",
    "    df = d[f].value_counts()/d[f].value_counts().sum().astype('float')\n",
    "    df = df.reset_index()\n",
    "    df.columns = [f, 'count']\n",
    "    return df\n",
    "\n",
    "def plot_categorical(df_train, df_test, f=None, ax=None):\n",
    "    df = pd.concat([\n",
    "        calc_frequency(train_df, f).assign(_set='train'),\n",
    "        calc_frequency(test_df, f).assign(_set='test')\n",
    "    ])\n",
    "    \n",
    "    sns.barplot(data=df, x=f, y='count', hue='_set', ax=ax)\n",
    "    \n",
    "def plot_categorical_boxplot(df, f=None, ax=None):\n",
    "    sns.boxplot(x=f, y='target', data=df, width=.6, palette=\"vlag\", ax=ax)"
   ]
  },
  {
   "cell_type": "code",
   "execution_count": null,
   "id": "cultural-leisure",
   "metadata": {},
   "outputs": [],
   "source": [
    "n = len(numerical_features)\n",
    "\n",
    "fig, axs = plt.subplots(n,1, figsize=(10,5*n))\n",
    "\n",
    "for f, ax in zip(numerical_features, axs):\n",
    "    plot_numerical(train_data[f], test_data[f], ax)"
   ]
  },
  {
   "cell_type": "code",
   "execution_count": null,
   "id": "iraqi-departure",
   "metadata": {},
   "outputs": [],
   "source": [
    "n = len(categorical_features)\n",
    "\n",
    "fig, axs = plt.subplots(n,1, figsize=(10,5*n))\n",
    "\n",
    "for f, ax in zip(categorical_features, axs):\n",
    "    plot_categorical_boxplot(train_data, f=f, ax=ax)"
   ]
  },
  {
   "cell_type": "code",
   "execution_count": null,
   "id": "certain-satin",
   "metadata": {},
   "outputs": [],
   "source": [
    "alpha = ['A', 'B', 'C', 'D', 'E', 'F', 'G', 'H', 'I', 'J', 'K', 'L', 'M', 'N', 'O', 'P', 'Q', 'R', 'S', 'T', 'Q', 'R', 'S', 'T', 'U', 'V', 'W', 'X', 'Y', 'Z' ]\n",
    "alpha_conversion = {}\n",
    "for index in range(0, len(alpha)):\n",
    "    alpha_conversion[alpha[index]] = index / 29\n",
    "alpha_conversion"
   ]
  },
  {
   "cell_type": "code",
   "execution_count": null,
   "id": "better-amateur",
   "metadata": {},
   "outputs": [],
   "source": [
    "train_data['cat0'].replace(alpha_conversion, inplace=True)\n",
    "train_data['cat1'].replace(alpha_conversion, inplace=True)\n",
    "train_data['cat2'].replace(alpha_conversion, inplace=True)\n",
    "train_data['cat3'].replace(alpha_conversion, inplace=True)\n",
    "train_data['cat4'].replace(alpha_conversion, inplace=True)\n",
    "train_data['cat5'].replace(alpha_conversion, inplace=True)\n",
    "train_data['cat6'].replace(alpha_conversion, inplace=True)\n",
    "train_data['cat7'].replace(alpha_conversion, inplace=True)\n",
    "train_data['cat8'].replace(alpha_conversion, inplace=True)\n",
    "train_data['cat9'].replace(alpha_conversion, inplace=True)\n",
    "train_data.head()"
   ]
  },
  {
   "cell_type": "code",
   "execution_count": null,
   "id": "median-librarian",
   "metadata": {},
   "outputs": [],
   "source": [
    "x = train_data.drop([\"target\",\"id\"],axis=1)\n",
    "y = train_data.target"
   ]
  },
  {
   "cell_type": "code",
   "execution_count": null,
   "id": "played-mills",
   "metadata": {},
   "outputs": [],
   "source": [
    "import catboost as ctb\n",
    "model = ctb.CatBoostRegressor(iterations=8750)\n",
    "model.fit(x,y)"
   ]
  },
  {
   "cell_type": "code",
   "execution_count": 35,
   "id": "extended-generator",
   "metadata": {},
   "outputs": [],
   "source": [
    "vector_data = test_data[\n",
    "    ['cat0', 'cat1', 'cat2', 'cat3', 'cat4', 'cat5', 'cat6', 'cat7', 'cat8', 'cat9', 'cont0', 'cont1', 'cont2', 'cont3', 'cont4', 'cont5', 'cont6', 'cont7', 'cont8', 'cont9', 'cont10', 'cont11', 'cont12',\n",
    "     'cont13']] \n",
    "\n",
    "vector_data['cat0'].replace(alpha_conversion, inplace=True)\n",
    "vector_data['cat1'].replace(alpha_conversion, inplace=True)\n",
    "vector_data['cat2'].replace(alpha_conversion, inplace=True)\n",
    "vector_data['cat3'].replace(alpha_conversion, inplace=True)\n",
    "vector_data['cat4'].replace(alpha_conversion, inplace=True)\n",
    "vector_data['cat5'].replace(alpha_conversion, inplace=True)\n",
    "vector_data['cat6'].replace(alpha_conversion, inplace=True)\n",
    "vector_data['cat7'].replace(alpha_conversion, inplace=True)\n",
    "vector_data['cat8'].replace(alpha_conversion, inplace=True)\n",
    "vector_data['cat9'].replace(alpha_conversion, inplace=True)\n",
    "vector_data.head()\n",
    "\n",
    "preds = model.predict(vector_data)"
   ]
  },
  {
   "cell_type": "code",
   "execution_count": 36,
   "id": "palestinian-karen",
   "metadata": {},
   "outputs": [],
   "source": [
    "result = []\n",
    "x = 0\n",
    "for index, row in test_data.iterrows():\n",
    "    result.append([int(row['id']), preds[x]])\n",
    "    x += 1"
   ]
  },
  {
   "cell_type": "code",
   "execution_count": 37,
   "id": "naked-affiliation",
   "metadata": {},
   "outputs": [],
   "source": [
    "from datetime import datetime\n",
    "dt_string = datetime.now().strftime(\"%d-%m-%Y_%H-%M-%S\")\n",
    "\n",
    "sub = pd.DataFrame(data=result, columns=[\"id\", \"target\"])\n",
    "\n",
    "sub.to_csv(f'..\\\\kaggle_data\\\\{dt_string}_submission.csv', index=False)"
   ]
  },
  {
   "cell_type": "code",
   "execution_count": null,
   "id": "engaging-stuart",
   "metadata": {},
   "outputs": [],
   "source": []
  }
 ],
 "metadata": {
  "kernelspec": {
   "display_name": "Python 3",
   "language": "python",
   "name": "python3"
  },
  "language_info": {
   "codemirror_mode": {
    "name": "ipython",
    "version": 3
   },
   "file_extension": ".py",
   "mimetype": "text/x-python",
   "name": "python",
   "nbconvert_exporter": "python",
   "pygments_lexer": "ipython3",
   "version": "3.7.5"
  }
 },
 "nbformat": 4,
 "nbformat_minor": 5
}
