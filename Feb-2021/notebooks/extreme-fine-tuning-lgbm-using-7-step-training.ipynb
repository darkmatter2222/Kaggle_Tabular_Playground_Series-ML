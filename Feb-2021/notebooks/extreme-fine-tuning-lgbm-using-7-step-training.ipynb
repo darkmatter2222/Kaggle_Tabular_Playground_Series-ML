{
 "cells": [
  {
   "cell_type": "markdown",
   "metadata": {
    "papermill": {
     "duration": 0.012352,
     "end_time": "2021-02-19T02:57:45.814025",
     "exception": false,
     "start_time": "2021-02-19T02:57:45.801673",
     "status": "completed"
    },
    "tags": []
   },
   "source": [
    "# Extreme Fine Tuning of LGBM using Incremental training\n",
    "\n",
    "\n",
    "In my efforts to push leaderboard i stumbled across a small trick to improve predictions in 4th to 5th decimal using same parameters and a single model, essentially it is a trick to improve prediction of your best parameter, squeezing more out of them!!. Trick is executed in following steps:\n",
    "\n",
    "* Find the best parameters for your LGBM, manually or using optimization methods of your choice.\n",
    "\n",
    "\n",
    "* train the model to the best RMSE you can get in one training round using high early stopping.\n",
    "\n",
    "\n",
    "* train the model for 1 or 2 rounds with reduced learning rate.\n",
    "\n",
    "\n",
    "* once the first few rounds are over, start reducing regularization params by a factor at each incremental training iteration, you will start observing improvements in 5th decimal place... which is enough to get 5th decimal improvement on your models leaderboard score.\n",
    "\n",
    "At the top of leaderboard this make a huge difference, i pushed my rank from `39` at **0.84202** to my best `6th place`(17th Feb 2021) with **0.84193**\n",
    "\n",
    "Lets check out."
   ]
  },
  {
   "cell_type": "code",
   "execution_count": 35,
   "metadata": {
    "papermill": {
     "duration": 2.138608,
     "end_time": "2021-02-19T02:57:47.964373",
     "exception": false,
     "start_time": "2021-02-19T02:57:45.825765",
     "status": "completed"
    },
    "tags": []
   },
   "outputs": [],
   "source": [
    "import pandas as pd\n",
    "import numpy as np\n",
    "import matplotlib.pyplot as plt\n",
    "import seaborn as sns\n",
    "\n",
    "from sklearn.model_selection import KFold, GridSearchCV, cross_validate, train_test_split\n",
    "from sklearn.metrics import mean_squared_error\n",
    "from sklearn.preprocessing import LabelEncoder\n",
    "\n",
    "from lightgbm import LGBMRegressor\n",
    "\n",
    "import optuna\n",
    "from functools import partial\n",
    "\n",
    "import warnings\n",
    "warnings.filterwarnings('ignore')"
   ]
  },
  {
   "cell_type": "code",
   "execution_count": 36,
   "metadata": {
    "papermill": {
     "duration": 4.206009,
     "end_time": "2021-02-19T02:57:52.183073",
     "exception": false,
     "start_time": "2021-02-19T02:57:47.977064",
     "status": "completed"
    },
    "tags": []
   },
   "outputs": [],
   "source": [
    "train = pd.read_csv('..\\\\kaggle_data\\\\train.csv')\n",
    "test = pd.read_csv('..\\\\kaggle_data\\\\test.csv')"
   ]
  },
  {
   "cell_type": "code",
   "execution_count": 37,
   "metadata": {
    "papermill": {
     "duration": 0.095898,
     "end_time": "2021-02-19T02:57:52.291780",
     "exception": false,
     "start_time": "2021-02-19T02:57:52.195882",
     "status": "completed"
    },
    "tags": []
   },
   "outputs": [],
   "source": [
    "X_train = train.drop(['id', 'target'], axis=1)\n",
    "y_train = train.target\n",
    "X_test = test.drop(['id'], axis=1)"
   ]
  },
  {
   "cell_type": "code",
   "execution_count": 38,
   "metadata": {
    "papermill": {
     "duration": 0.020649,
     "end_time": "2021-02-19T02:57:52.324883",
     "exception": false,
     "start_time": "2021-02-19T02:57:52.304234",
     "status": "completed"
    },
    "tags": []
   },
   "outputs": [],
   "source": [
    "cat_cols = [feature for feature in train.columns if 'cat' in feature]\n",
    "\n",
    "def label_encoder(df):\n",
    "    for feature in cat_cols:\n",
    "        le = LabelEncoder()\n",
    "        le.fit(df[feature])\n",
    "        df[feature] = le.transform(df[feature])\n",
    "    return df"
   ]
  },
  {
   "cell_type": "code",
   "execution_count": 39,
   "metadata": {
    "papermill": {
     "duration": 1.818185,
     "end_time": "2021-02-19T02:57:54.155645",
     "exception": false,
     "start_time": "2021-02-19T02:57:52.337460",
     "status": "completed"
    },
    "tags": []
   },
   "outputs": [],
   "source": [
    "X_train = label_encoder(X_train)\n",
    "X_test = label_encoder(X_test)"
   ]
  },
  {
   "cell_type": "code",
   "execution_count": 40,
   "metadata": {
    "papermill": {
     "duration": 0.020441,
     "end_time": "2021-02-19T02:57:54.188643",
     "exception": false,
     "start_time": "2021-02-19T02:57:54.168202",
     "status": "completed"
    },
    "tags": []
   },
   "outputs": [],
   "source": [
    "split = KFold(n_splits=5)"
   ]
  },
  {
   "cell_type": "code",
   "execution_count": 58,
   "metadata": {
    "papermill": {
     "duration": 0.021692,
     "end_time": "2021-02-19T02:57:54.223133",
     "exception": false,
     "start_time": "2021-02-19T02:57:54.201441",
     "status": "completed"
    },
    "tags": []
   },
   "outputs": [],
   "source": [
    "lgbm_params = {'max_depth': 16, \n",
    "                'subsample': 0.8032697250789377, \n",
    "                'colsample_bytree': 0.21067140508531404, \n",
    "                'learning_rate': 0.009867383057779643,\n",
    "                'reg_lambda': 10.987474846877767, \n",
    "                'reg_alpha': 17.335285595031994, \n",
    "                'min_child_samples': 31, \n",
    "                'num_leaves': 66, \n",
    "                'max_bin': 522, \n",
    "                'cat_smooth': 81, \n",
    "                'cat_l2': 0.029690334194270022, \n",
    "                'metric': 'rmse', \n",
    "                'n_jobs': -1, \n",
    "                'n_estimators': 20000}"
   ]
  },
  {
   "cell_type": "code",
   "execution_count": 51,
   "metadata": {
    "papermill": {
     "duration": 5357.717902,
     "end_time": "2021-02-19T04:27:11.954129",
     "exception": false,
     "start_time": "2021-02-19T02:57:54.236227",
     "status": "completed"
    },
    "tags": []
   },
   "outputs": [
    {
     "name": "stdout",
     "output_type": "stream",
     "text": [
      "RMSE for Base model is 0.8421722093123576\n",
      "RMSE for Incremental trial 1 model is 0.8421673569531979\n",
      "RMSE for Incremental trial 2 model is 0.8421628896502086\n",
      "RMSE for Incremental trial 3 model is 0.8421603525057804\n",
      "RMSE for Incremental trial 4 model is 0.8421591248914485\n",
      "RMSE for Incremental trial 5 model is 0.8421581989687834\n",
      "RMSE for Incremental trial 6 model is 0.8421590194962024\n",
      "RMSE for Incremental trial 7 model is 0.8421584430845821\n",
      "\n",
      "\n",
      "Improvement of : 1.3766227775491302e-05\n",
      "----------------------------------------------------------------------------------------------------\n",
      "RMSE for Base model is 0.8420145212076954\n",
      "RMSE for Incremental trial 1 model is 0.8420148032681081\n",
      "RMSE for Incremental trial 2 model is 0.8420151642167185\n",
      "RMSE for Incremental trial 3 model is 0.8420151722793421\n",
      "RMSE for Incremental trial 4 model is 0.8420142270168988\n",
      "RMSE for Incremental trial 5 model is 0.8420139145714093\n",
      "RMSE for Incremental trial 6 model is 0.8420137821230134\n",
      "RMSE for Incremental trial 7 model is 0.8420139539150745\n",
      "\n",
      "\n",
      "Improvement of : 5.672926208788454e-07\n",
      "----------------------------------------------------------------------------------------------------\n",
      "RMSE for Base model is 0.8434871984741066\n",
      "RMSE for Incremental trial 1 model is 0.8434596827458253\n",
      "RMSE for Incremental trial 2 model is 0.8434500009428774\n",
      "RMSE for Incremental trial 3 model is 0.8434457253786192\n",
      "RMSE for Incremental trial 4 model is 0.8434451554813689\n",
      "RMSE for Incremental trial 5 model is 0.8434453081602429\n",
      "RMSE for Incremental trial 6 model is 0.8434450731636429\n",
      "RMSE for Incremental trial 7 model is 0.8434438403892691\n",
      "\n",
      "\n",
      "Improvement of : 4.335808483746373e-05\n",
      "----------------------------------------------------------------------------------------------------\n",
      "RMSE for Base model is 0.8434903618647499\n",
      "RMSE for Incremental trial 1 model is 0.8434896277126784\n",
      "RMSE for Incremental trial 2 model is 0.8434901136609007\n",
      "RMSE for Incremental trial 3 model is 0.8434908887513256\n",
      "RMSE for Incremental trial 4 model is 0.8434923407806761\n",
      "RMSE for Incremental trial 5 model is 0.8434924145332361\n",
      "RMSE for Incremental trial 6 model is 0.8434917958795081\n",
      "RMSE for Incremental trial 7 model is 0.843492003460598\n",
      "\n",
      "\n",
      "Improvement of : -1.641595848145272e-06\n",
      "----------------------------------------------------------------------------------------------------\n",
      "RMSE for Base model is 0.8413649995065018\n",
      "RMSE for Incremental trial 1 model is 0.8413562110612275\n",
      "RMSE for Incremental trial 2 model is 0.8413557422662188\n",
      "RMSE for Incremental trial 3 model is 0.8413523736584506\n",
      "RMSE for Incremental trial 4 model is 0.8413516358688327\n",
      "RMSE for Incremental trial 5 model is 0.841349699423489\n",
      "RMSE for Incremental trial 6 model is 0.8413493399905794\n",
      "RMSE for Incremental trial 7 model is 0.841348657110163\n",
      "\n",
      "\n",
      "Improvement of : 1.6342396338742127e-05\n",
      "----------------------------------------------------------------------------------------------------\n"
     ]
    }
   ],
   "source": [
    "preds_list_base = []\n",
    "preds_list_final_iteration = []\n",
    "preds_list_all = []\n",
    "\n",
    "for train_idx, val_idx in split.split(X_train):\n",
    "            X_tr = X_train.iloc[train_idx]\n",
    "            X_val = X_train.iloc[val_idx]\n",
    "            y_tr = y_train.iloc[train_idx]\n",
    "            y_val = y_train.iloc[val_idx]\n",
    "            \n",
    "            Model = LGBMRegressor(**lgbm_params).fit(X_tr, y_tr, eval_set=[(X_val, y_val)],\n",
    "                          eval_metric=['rmse'],\n",
    "                          early_stopping_rounds=250, \n",
    "                          categorical_feature=[0, 1, 2, 3, 4, 5, 6, 7, 8, 9],\n",
    "                          #callbacks=[optuna.integration.LightGBMPruningCallback(trial, metric='rmse')],\n",
    "                          verbose=0)\n",
    "            \n",
    "            preds_list_base.append(Model.predict(X_test))\n",
    "            preds_list_all.append(Model.predict(X_test))\n",
    "            print(f'RMSE for Base model is {np.sqrt(mean_squared_error(y_val, Model.predict(X_val)))}')\n",
    "            first_rmse = np.sqrt(mean_squared_error(y_val, Model.predict(X_val)))\n",
    "            params = lgbm_params.copy()\n",
    "            \n",
    "            for i in range(1, 8):\n",
    "                if i >2:    \n",
    "                    \n",
    "                    # reducing regularizing params if \n",
    "                    \n",
    "                    params['reg_lambda'] *= 0.9\n",
    "                    params['reg_alpha'] *= 0.9\n",
    "                    params['num_leaves'] += 40\n",
    "                    \n",
    "                params['learning_rate'] = 0.003\n",
    "                Model = LGBMRegressor(**params).fit(X_tr, y_tr, eval_set=[(X_val, y_val)],\n",
    "                          eval_metric=['rmse'],\n",
    "                          early_stopping_rounds=200, \n",
    "                          categorical_feature=[0, 1, 2, 3, 4, 5, 6, 7, 8, 9],\n",
    "                          #callbacks=[optuna.integration.LightGBMPruningCallback(trial, metric='rmse')],\n",
    "                          verbose=0,\n",
    "                          init_model=Model)\n",
    "                \n",
    "                preds_list_all.append(Model.predict(X_test))\n",
    "                print(f'RMSE for Incremental trial {i} model is {np.sqrt(mean_squared_error(y_val, Model.predict(X_val)))}')\n",
    "            last_rmse = np.sqrt(mean_squared_error(y_val, Model.predict(X_val)))\n",
    "            print('',end='\\n\\n')\n",
    "            print(f'Improvement of : {first_rmse - last_rmse}')\n",
    "            print('-' * 100)\n",
    "            preds_list_final_iteration.append(Model.predict(X_test))"
   ]
  },
  {
   "cell_type": "markdown",
   "metadata": {
    "papermill": {
     "duration": 0.026481,
     "end_time": "2021-02-19T04:27:12.009023",
     "exception": false,
     "start_time": "2021-02-19T04:27:11.982542",
     "status": "completed"
    },
    "tags": []
   },
   "source": [
    "Great!! we can see that we have observed some further improvement in all the folds. Lets point out few findings:\n",
    "\n",
    "* The first few iterations are just using very low learning_rate.. after the 2nd iteration we can see that there are iterations with very good improvement, observed by reducing regularization.\n",
    "\n",
    "\n",
    "* There are also iterations where loss increased at later iterations slightly compared to previous iteration, showing that we have reached the limit in few iterations before the max iteration.\n",
    "\n",
    "\n",
    "* If you try setting verbose=1, you will observe that these improvements are observed only in first few trees created... after that loss starts to increase, LGBM keeps the best model. But reducing regularization does improve loss for first few trees!!!!"
   ]
  },
  {
   "cell_type": "markdown",
   "metadata": {
    "papermill": {
     "duration": 0.026477,
     "end_time": "2021-02-19T04:27:12.062256",
     "exception": false,
     "start_time": "2021-02-19T04:27:12.035779",
     "status": "completed"
    },
    "tags": []
   },
   "source": [
    "I have 3 different sets of predictions, one for only the base model and one for all the predictions done and last one for only final iteration.\n",
    "\n",
    "* `y_preds_base` : **0.84196 - 0.84199** (keeps jumping between these)\n",
    "\n",
    "\n",
    "* `y_preds_all` : **0.84195 - 0.84196**\n",
    "\n",
    "\n",
    "* `y_preds_final_iteration` : **0.84193**"
   ]
  },
  {
   "cell_type": "code",
   "execution_count": 52,
   "metadata": {
    "papermill": {
     "duration": 0.04053,
     "end_time": "2021-02-19T04:27:12.129613",
     "exception": false,
     "start_time": "2021-02-19T04:27:12.089083",
     "status": "completed"
    },
    "tags": []
   },
   "outputs": [
    {
     "data": {
      "text/plain": [
       "array([7.58711253, 7.8170481 , 7.57413215, ..., 7.54510396, 7.48367142,\n",
       "       7.23962437])"
      ]
     },
     "execution_count": 52,
     "metadata": {},
     "output_type": "execute_result"
    }
   ],
   "source": [
    "y_preds_base = np.array(preds_list_base).mean(axis=0)\n",
    "y_preds_base"
   ]
  },
  {
   "cell_type": "code",
   "execution_count": 53,
   "metadata": {
    "papermill": {
     "duration": 0.072683,
     "end_time": "2021-02-19T04:27:12.232996",
     "exception": false,
     "start_time": "2021-02-19T04:27:12.160313",
     "status": "completed"
    },
    "tags": []
   },
   "outputs": [
    {
     "data": {
      "text/plain": [
       "array([7.58681311, 7.81828222, 7.573691  , ..., 7.54648162, 7.4847438 ,\n",
       "       7.24091247])"
      ]
     },
     "execution_count": 53,
     "metadata": {},
     "output_type": "execute_result"
    }
   ],
   "source": [
    "y_preds_all = np.array(preds_list_all).mean(axis=0)\n",
    "y_preds_all"
   ]
  },
  {
   "cell_type": "code",
   "execution_count": 54,
   "metadata": {
    "papermill": {
     "duration": 0.040136,
     "end_time": "2021-02-19T04:27:12.301392",
     "exception": false,
     "start_time": "2021-02-19T04:27:12.261256",
     "status": "completed"
    },
    "tags": []
   },
   "outputs": [
    {
     "data": {
      "text/plain": [
       "array([7.58654405, 7.81908841, 7.57358862, ..., 7.54683989, 7.48582004,\n",
       "       7.24103411])"
      ]
     },
     "execution_count": 54,
     "metadata": {},
     "output_type": "execute_result"
    }
   ],
   "source": [
    "y_preds_final_iteration = np.array(preds_list_final_iteration).mean(axis=0)\n",
    "y_preds_final_iteration"
   ]
  },
  {
   "cell_type": "code",
   "execution_count": 55,
   "metadata": {
    "papermill": {
     "duration": 0.037132,
     "end_time": "2021-02-19T04:27:12.366658",
     "exception": false,
     "start_time": "2021-02-19T04:27:12.329526",
     "status": "completed"
    },
    "tags": []
   },
   "outputs": [],
   "source": [
    "submission = pd.DataFrame({'id':test.id,\n",
    "              'target':y_preds_final_iteration})"
   ]
  },
  {
   "cell_type": "code",
   "execution_count": 56,
   "metadata": {
    "papermill": {
     "duration": 0.75707,
     "end_time": "2021-02-19T04:27:13.151592",
     "exception": false,
     "start_time": "2021-02-19T04:27:12.394522",
     "status": "completed"
    },
    "tags": []
   },
   "outputs": [],
   "source": [
    "submission.to_csv('submission.csv', index=False)"
   ]
  },
  {
   "cell_type": "code",
   "execution_count": 57,
   "metadata": {
    "papermill": {
     "duration": 0.111775,
     "end_time": "2021-02-19T04:27:13.291772",
     "exception": false,
     "start_time": "2021-02-19T04:27:13.179997",
     "status": "completed"
    },
    "tags": []
   },
   "outputs": [
    {
     "data": {
      "text/html": [
       "<div>\n",
       "<style scoped>\n",
       "    .dataframe tbody tr th:only-of-type {\n",
       "        vertical-align: middle;\n",
       "    }\n",
       "\n",
       "    .dataframe tbody tr th {\n",
       "        vertical-align: top;\n",
       "    }\n",
       "\n",
       "    .dataframe thead th {\n",
       "        text-align: right;\n",
       "    }\n",
       "</style>\n",
       "<table border=\"1\" class=\"dataframe\">\n",
       "  <thead>\n",
       "    <tr style=\"text-align: right;\">\n",
       "      <th></th>\n",
       "      <th>id</th>\n",
       "      <th>target</th>\n",
       "    </tr>\n",
       "  </thead>\n",
       "  <tbody>\n",
       "    <tr>\n",
       "      <th>0</th>\n",
       "      <td>0</td>\n",
       "      <td>7.586544</td>\n",
       "    </tr>\n",
       "    <tr>\n",
       "      <th>1</th>\n",
       "      <td>5</td>\n",
       "      <td>7.819088</td>\n",
       "    </tr>\n",
       "    <tr>\n",
       "      <th>2</th>\n",
       "      <td>15</td>\n",
       "      <td>7.573589</td>\n",
       "    </tr>\n",
       "    <tr>\n",
       "      <th>3</th>\n",
       "      <td>16</td>\n",
       "      <td>7.552231</td>\n",
       "    </tr>\n",
       "    <tr>\n",
       "      <th>4</th>\n",
       "      <td>17</td>\n",
       "      <td>7.262682</td>\n",
       "    </tr>\n",
       "    <tr>\n",
       "      <th>...</th>\n",
       "      <td>...</td>\n",
       "      <td>...</td>\n",
       "    </tr>\n",
       "    <tr>\n",
       "      <th>199995</th>\n",
       "      <td>499987</td>\n",
       "      <td>7.472104</td>\n",
       "    </tr>\n",
       "    <tr>\n",
       "      <th>199996</th>\n",
       "      <td>499990</td>\n",
       "      <td>7.240336</td>\n",
       "    </tr>\n",
       "    <tr>\n",
       "      <th>199997</th>\n",
       "      <td>499991</td>\n",
       "      <td>7.546840</td>\n",
       "    </tr>\n",
       "    <tr>\n",
       "      <th>199998</th>\n",
       "      <td>499994</td>\n",
       "      <td>7.485820</td>\n",
       "    </tr>\n",
       "    <tr>\n",
       "      <th>199999</th>\n",
       "      <td>499995</td>\n",
       "      <td>7.241034</td>\n",
       "    </tr>\n",
       "  </tbody>\n",
       "</table>\n",
       "<p>200000 rows × 2 columns</p>\n",
       "</div>"
      ],
      "text/plain": [
       "            id    target\n",
       "0            0  7.586544\n",
       "1            5  7.819088\n",
       "2           15  7.573589\n",
       "3           16  7.552231\n",
       "4           17  7.262682\n",
       "...        ...       ...\n",
       "199995  499987  7.472104\n",
       "199996  499990  7.240336\n",
       "199997  499991  7.546840\n",
       "199998  499994  7.485820\n",
       "199999  499995  7.241034\n",
       "\n",
       "[200000 rows x 2 columns]"
      ]
     },
     "execution_count": 57,
     "metadata": {},
     "output_type": "execute_result"
    }
   ],
   "source": [
    "pd.read_csv('submission.csv')"
   ]
  },
  {
   "cell_type": "markdown",
   "metadata": {
    "papermill": {
     "duration": 0.029,
     "end_time": "2021-02-19T04:27:13.353072",
     "exception": false,
     "start_time": "2021-02-19T04:27:13.324072",
     "status": "completed"
    },
    "tags": []
   },
   "source": [
    "Finally, i am still working on and experimenting why this actually works... \n",
    "\n",
    "**Although a small trick this work has been a hardwork of few days, so if you like the work and find it useful, show your support by upvoting!!** "
   ]
  },
  {
   "cell_type": "code",
   "execution_count": null,
   "metadata": {
    "papermill": {
     "duration": 0.028568,
     "end_time": "2021-02-19T04:27:13.410908",
     "exception": false,
     "start_time": "2021-02-19T04:27:13.382340",
     "status": "completed"
    },
    "tags": []
   },
   "outputs": [],
   "source": []
  }
 ],
 "metadata": {
  "kernelspec": {
   "display_name": "Python 3",
   "language": "python",
   "name": "python3"
  },
  "language_info": {
   "codemirror_mode": {
    "name": "ipython",
    "version": 3
   },
   "file_extension": ".py",
   "mimetype": "text/x-python",
   "name": "python",
   "nbconvert_exporter": "python",
   "pygments_lexer": "ipython3",
   "version": "3.7.5"
  },
  "papermill": {
   "default_parameters": {},
   "duration": 5375.500553,
   "end_time": "2021-02-19T04:27:15.130226",
   "environment_variables": {},
   "exception": null,
   "input_path": "__notebook__.ipynb",
   "output_path": "__notebook__.ipynb",
   "parameters": {},
   "start_time": "2021-02-19T02:57:39.629673",
   "version": "2.2.2"
  }
 },
 "nbformat": 4,
 "nbformat_minor": 4
}
