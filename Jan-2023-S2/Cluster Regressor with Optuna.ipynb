{
 "cells": [
  {
   "cell_type": "markdown",
   "id": "ca1162c1",
   "metadata": {
    "papermill": {
     "duration": 0.006877,
     "end_time": "2023-01-06T09:52:20.687618",
     "exception": false,
     "start_time": "2023-01-06T09:52:20.680741",
     "status": "completed"
    },
    "tags": []
   },
   "source": [
    "# Import Packages"
   ]
  },
  {
   "cell_type": "code",
   "execution_count": null,
   "id": "ad9ab320",
   "metadata": {
    "papermill": {
     "duration": 1.10973,
     "end_time": "2023-01-06T09:52:21.804325",
     "exception": false,
     "start_time": "2023-01-06T09:52:20.694595",
     "status": "completed"
    },
    "tags": []
   },
   "outputs": [],
   "source": [
    "import numpy as np\n",
    "import pandas as pd\n",
    "import seaborn as sns\n",
    "from scipy import stats\n",
    "from pathlib import Path\n",
    "import matplotlib.pyplot as plt\n",
    "\n",
    "from sklearn.model_selection import KFold\n",
    "from sklearn.preprocessing import RobustScaler, StandardScaler, MinMaxScaler\n",
    "from sklearn.model_selection import train_test_split, cross_val_score, StratifiedKFold, KFold\n",
    "from sklearn.metrics import mean_squared_error\n",
    "from sklearn.metrics import mean_squared_error\n",
    "from sklearn.preprocessing import MinMaxScaler\n",
    "from sklearn.datasets import fetch_california_housing\n",
    "\n",
    "from sklearn.feature_extraction.text import CountVectorizer\n",
    "\n",
    "import optuna\n",
    "from optuna.samplers import TPESampler"
   ]
  },
  {
   "cell_type": "code",
   "execution_count": null,
   "id": "12940d56",
   "metadata": {
    "_cell_guid": "b1076dfc-b9ad-4769-8c92-a6c4dae69d19",
    "_uuid": "8f2839f25d086af736a60e9eeb907d3b93b6e0e5",
    "papermill": {
     "duration": 0.193177,
     "end_time": "2023-01-06T09:52:22.020765",
     "exception": false,
     "start_time": "2023-01-06T09:52:21.827588",
     "status": "completed"
    },
    "tags": []
   },
   "outputs": [],
   "source": [
    "train_set = pd.read_csv(r\"D:\\source\\repos\\Kaggle_Tabular_Playground_Series-ML\\Jan-2023-S2\\data\\train.csv\")\n",
    "test_set = pd.read_csv(r\"D:\\source\\repos\\Kaggle_Tabular_Playground_Series-ML\\Jan-2023-S2\\data\\test.csv\")\n",
    "sample_sub = pd.read_csv(r\"D:\\source\\repos\\Kaggle_Tabular_Playground_Series-ML\\Jan-2023-S2\\data\\sample_submission.csv\")"
   ]
  },
  {
   "cell_type": "code",
   "execution_count": null,
   "id": "009eadb6-20dc-49ad-8369-2862cb507650",
   "metadata": {},
   "outputs": [],
   "source": [
    "columns_to_vectorize = ['gender', 'ever_married', 'work_type', 'Residence_type', 'smoking_status']\n",
    "for vector_target in columns_to_vectorize:\n",
    "    vectorizer = CountVectorizer()\n",
    "    vectorizer.fit_transform(train_set[vector_target])\n",
    "    train_set[f'{vector_target}_v'] = vectorizer.transform(train_set[vector_target]).toarray().argmax(axis=1)[:,None]\n",
    "    vectorizer.fit_transform(test_set[vector_target])\n",
    "    test_set[f'{vector_target}_v'] = vectorizer.transform(test_set[vector_target]).toarray().argmax(axis=1)[:,None]"
   ]
  },
  {
   "cell_type": "code",
   "execution_count": null,
   "id": "11aead6b-1752-4664-83a5-1c0fde9a0357",
   "metadata": {},
   "outputs": [],
   "source": [
    "train_set"
   ]
  },
  {
   "cell_type": "code",
   "execution_count": null,
   "id": "9a60f96c-4dec-4faa-952b-520c01d7c49f",
   "metadata": {},
   "outputs": [],
   "source": [
    "test_set"
   ]
  },
  {
   "cell_type": "code",
   "execution_count": null,
   "id": "9d7b20b2-c8f6-4d13-b658-469c76df8f33",
   "metadata": {},
   "outputs": [],
   "source": [
    "train_set.columns"
   ]
  },
  {
   "cell_type": "code",
   "execution_count": null,
   "id": "d36865dd",
   "metadata": {
    "papermill": {
     "duration": 0.019648,
     "end_time": "2023-01-06T09:52:22.092204",
     "exception": false,
     "start_time": "2023-01-06T09:52:22.072556",
     "status": "completed"
    },
    "tags": []
   },
   "outputs": [],
   "source": [
    "print('train_set shape: ', train_set.shape)\n",
    "print('test_set shape: ', test_set.shape)"
   ]
  },
  {
   "cell_type": "code",
   "execution_count": null,
   "id": "72451f72",
   "metadata": {
    "papermill": {
     "duration": 0.033887,
     "end_time": "2023-01-06T09:52:22.133886",
     "exception": false,
     "start_time": "2023-01-06T09:52:22.099999",
     "status": "completed"
    },
    "tags": []
   },
   "outputs": [],
   "source": [
    "train_set.info()"
   ]
  },
  {
   "cell_type": "code",
   "execution_count": null,
   "id": "73e5d77a",
   "metadata": {
    "papermill": {
     "duration": 0.064165,
     "end_time": "2023-01-06T09:52:22.207009",
     "exception": false,
     "start_time": "2023-01-06T09:52:22.142844",
     "status": "completed"
    },
    "tags": []
   },
   "outputs": [],
   "source": [
    "train_set.describe()"
   ]
  },
  {
   "cell_type": "markdown",
   "id": "25494ab0",
   "metadata": {
    "papermill": {
     "duration": 0.007547,
     "end_time": "2023-01-06T09:52:22.222852",
     "exception": false,
     "start_time": "2023-01-06T09:52:22.215305",
     "status": "completed"
    },
    "tags": []
   },
   "source": [
    "## Missing Data"
   ]
  },
  {
   "cell_type": "code",
   "execution_count": null,
   "id": "23dc2024",
   "metadata": {
    "papermill": {
     "duration": 0.029067,
     "end_time": "2023-01-06T09:52:22.259736",
     "exception": false,
     "start_time": "2023-01-06T09:52:22.230669",
     "status": "completed"
    },
    "tags": []
   },
   "outputs": [],
   "source": [
    "total = train_set.isnull().sum().sort_values(ascending=False)\n",
    "percent = (train_set.isnull().sum()/train_set.isnull().count()).sort_values(ascending=False)\n",
    "missing_data = pd.concat([total, percent], axis=1, keys=['Total', 'Percent'])\n",
    "missing_data.head(10)"
   ]
  },
  {
   "cell_type": "markdown",
   "id": "808b743a",
   "metadata": {
    "papermill": {
     "duration": 0.007887,
     "end_time": "2023-01-06T09:52:22.275762",
     "exception": false,
     "start_time": "2023-01-06T09:52:22.267875",
     "status": "completed"
    },
    "tags": []
   },
   "source": [
    "## Data visualisation"
   ]
  },
  {
   "cell_type": "code",
   "execution_count": null,
   "id": "00e65350",
   "metadata": {
    "papermill": {
     "duration": 0.016702,
     "end_time": "2023-01-06T09:52:22.300508",
     "exception": false,
     "start_time": "2023-01-06T09:52:22.283806",
     "status": "completed"
    },
    "tags": []
   },
   "outputs": [],
   "source": [
    "features = ['id', 'age', 'hypertension', 'heart_disease', 'avg_glucose_level', 'bmi', 'gender_v', 'ever_married_v', 'work_type_v', 'Residence_type_v', 'smoking_status_v']\n",
    "target = ['stroke']"
   ]
  },
  {
   "cell_type": "code",
   "execution_count": null,
   "id": "4381883c",
   "metadata": {
    "papermill": {
     "duration": 23.747268,
     "end_time": "2023-01-06T09:52:46.056022",
     "exception": false,
     "start_time": "2023-01-06T09:52:22.308754",
     "status": "completed"
    },
    "tags": []
   },
   "outputs": [],
   "source": [
    "fig, axes = plt.subplots(3,4, figsize=(20, 12))\n",
    "for i, j in zip(features+target, axes.flatten()):\n",
    "    sns.histplot(train_set[i], ax=j)\n",
    "plt.show()"
   ]
  },
  {
   "cell_type": "markdown",
   "id": "a35cfdeb",
   "metadata": {
    "papermill": {
     "duration": 0.013463,
     "end_time": "2023-01-06T09:52:49.103064",
     "exception": false,
     "start_time": "2023-01-06T09:52:49.089601",
     "status": "completed"
    },
    "tags": []
   },
   "source": [
    "### Correlation matrix (heatmap style)"
   ]
  },
  {
   "cell_type": "code",
   "execution_count": null,
   "id": "15adca68",
   "metadata": {
    "papermill": {
     "duration": 0.709827,
     "end_time": "2023-01-06T09:52:49.826256",
     "exception": false,
     "start_time": "2023-01-06T09:52:49.116429",
     "status": "completed"
    },
    "tags": []
   },
   "outputs": [],
   "source": [
    "corrmat = train_set[features+target].corr()\n",
    "f, ax = plt.subplots(figsize=(12, 9))\n",
    "sns.heatmap(corrmat, square=True, annot=True, fmt='.2f', cmap='seismic', vmin=-1, vmax=1)"
   ]
  },
  {
   "cell_type": "markdown",
   "id": "08423159",
   "metadata": {
    "papermill": {
     "duration": 0.017506,
     "end_time": "2023-01-06T09:53:37.279060",
     "exception": false,
     "start_time": "2023-01-06T09:53:37.261554",
     "status": "completed"
    },
    "tags": []
   },
   "source": [
    "# Train Model"
   ]
  },
  {
   "cell_type": "code",
   "execution_count": null,
   "id": "bb513b47",
   "metadata": {
    "papermill": {
     "duration": 2.067754,
     "end_time": "2023-01-06T09:53:39.364285",
     "exception": false,
     "start_time": "2023-01-06T09:53:37.296531",
     "status": "completed"
    },
    "tags": []
   },
   "outputs": [],
   "source": [
    "import lightgbm as lgbm\n",
    "from xgboost import XGBRegressor\n",
    "import xgboost as xgb\n",
    "from catboost import CatBoostRegressor\n",
    "from lightgbm.sklearn import LGBMRegressor\n",
    "from sklearn.ensemble import RandomForestRegressor\n",
    "\n",
    "from sklearn.metrics import roc_curve, auc,recall_score,precision_score"
   ]
  },
  {
   "cell_type": "code",
   "execution_count": null,
   "id": "24268904",
   "metadata": {
    "papermill": {
     "duration": 0.038442,
     "end_time": "2023-01-06T09:53:39.421688",
     "exception": false,
     "start_time": "2023-01-06T09:53:39.383246",
     "status": "completed"
    },
    "tags": []
   },
   "outputs": [],
   "source": [
    "scaler = MinMaxScaler().fit(train_set[features])\n",
    "X = scaler.transform(train_set[features])\n",
    "X_test = scaler.transform(test_set[features])\n",
    "\n",
    "scaler = MinMaxScaler().fit(train_set[target])\n",
    "Y = scaler.transform(train_set[target])"
   ]
  },
  {
   "cell_type": "code",
   "execution_count": null,
   "id": "12aed6ec-bbac-48a0-b627-98a2cc0dede9",
   "metadata": {},
   "outputs": [],
   "source": [
    "kf = KFold(n_splits=10, random_state=1, shuffle=True)\n",
    "clfs = []\n",
    "err = []"
   ]
  },
  {
   "cell_type": "code",
   "execution_count": null,
   "id": "8d4a798a-b28f-4675-b2b7-3932ee9113f2",
   "metadata": {},
   "outputs": [],
   "source": [
    "y_min = Y.min()\n",
    "y_max = Y.max()\n",
    "\n",
    "print(y_min, y_max)\n",
    "\n",
    "def my_rmse(y_true, y_hat):\n",
    "    y_true[y_true < y_min] = y_min\n",
    "    y_true[y_true > y_max] = y_max\n",
    "    \n",
    "    y_hat[y_hat < y_min] = y_min\n",
    "    y_hat[y_hat > y_max] = y_max\n",
    "    \n",
    "    y_true_nan = np.isnan(y_true)\n",
    "    y_hat_nan = np.isnan(y_hat)\n",
    "    \n",
    "    if y_true_nan.sum() > 0:\n",
    "        print(y_true_nan.sum())\n",
    "        np.where(y_true_nan, np.ma.array(y_true, mask=np.isnan(y_true)).mean(axis=0), y_true)\n",
    "    if y_hat_nan.sum() > 0:\n",
    "        print(y_hat_nan.sum())\n",
    "        np.where(y_hat_nan, np.ma.array(y_hat, mask=np.isnan(y_hat)).mean(axis=0), y_hat)\n",
    "    \n",
    "    return mean_squared_error(y_true, y_hat, squared=False)"
   ]
  },
  {
   "cell_type": "code",
   "execution_count": null,
   "id": "da03db49-e308-4473-a9ce-a25a0230fce3",
   "metadata": {},
   "outputs": [],
   "source": [
    "def xgb_objective(trial):\n",
    "    # Split the train data for each trial.\n",
    "    X_train, X_valid, y_train, y_valid = train_test_split(X, Y, stratify=Y, test_size=0.4)\n",
    "\n",
    "    param_grid = {\n",
    "        'max_depth': trial.suggest_int('max_depth', 4, 20), # Extremely prone to overfitting!\n",
    "        'n_estimators': trial.suggest_int('n_estimators', 2, 100, 1), # Extremely prone to overfitting!\n",
    "        'eta': trial.suggest_float('eta', 0.0007, 0.113), # Most important parameter.\n",
    "        'subsample': trial.suggest_float('subsample', 0.1, 1),\n",
    "        'colsample_bytree': trial.suggest_float('colsample_bytree', 0.1, 1),\n",
    "        'reg_lambda': trial.suggest_float('reg_lambda', 1, 40), # L2 regularization\n",
    "\n",
    "    } \n",
    "    \n",
    "    reg = xgb.XGBModel(\n",
    "        # These parameters should help with trial speed.\n",
    "        objective='binary:logistic',\n",
    "        tree_method='gpu_hist',\n",
    "        booster='gbtree',\n",
    "        predictor='gpu_predictor',\n",
    "        n_jobs=4,\n",
    "        eval_metric='auc',\n",
    "        **param_grid\n",
    "    )\n",
    "    \n",
    "    reg.fit(X_train, y_train,\n",
    "            eval_set=[(X_valid, y_valid)],\n",
    "            verbose=False)\n",
    "    \n",
    "    preds = reg.predict(X_valid)\n",
    "    fpr, tpr, _ = roc_curve(y_valid, preds)\n",
    "    roc_auc = auc(fpr, tpr)\n",
    "\n",
    "    xgb_ranks[roc_auc] = reg\n",
    "    \n",
    "    # Returns the best RMSE for the trial.\n",
    "    # Readers may want to try returning a cross validation score here.\n",
    "    print(roc_auc)\n",
    "    return roc_auc"
   ]
  },
  {
   "cell_type": "code",
   "execution_count": null,
   "id": "f89ff997-20a5-4a90-bfae-cd7d695b23f8",
   "metadata": {
    "tags": []
   },
   "outputs": [],
   "source": [
    "xgb_ranks = {}\n",
    "\n",
    "train_time = 1 * 60 * 60\n",
    "study = optuna.create_study(direction='maximize', sampler=TPESampler(), study_name='XGBRegressor')\n",
    "study.optimize(xgb_objective, timeout=train_time)\n",
    "\n",
    "print('Number of finished trials: ', len(study.trials))\n",
    "print('Best trial:')\n",
    "trial = study.best_trial\n",
    "\n",
    "print('\\tValue: {}'.format(trial.value))\n",
    "print('\\tParams: ')\n",
    "for key, value in trial.params.items():\n",
    "    print('\\t\\t{}: {}'.format(key, value))"
   ]
  },
  {
   "cell_type": "code",
   "execution_count": null,
   "id": "8d4accbe-3457-4856-a0d3-0f6d3df111c6",
   "metadata": {},
   "outputs": [],
   "source": [
    "trial.params"
   ]
  },
  {
   "cell_type": "code",
   "execution_count": null,
   "id": "f4bb8820-4309-4ecc-9019-bda21940f027",
   "metadata": {},
   "outputs": [],
   "source": [
    "top_50 = sorted(list(xgb_ranks.keys()))[-50:]"
   ]
  },
  {
   "cell_type": "code",
   "execution_count": null,
   "id": "2cbf172e-043d-4a0e-8a4c-78799363d23f",
   "metadata": {},
   "outputs": [],
   "source": [
    "top_50"
   ]
  },
  {
   "cell_type": "code",
   "execution_count": null,
   "id": "8c77661b-c32c-4a55-9dd2-270dd24b2733",
   "metadata": {},
   "outputs": [],
   "source": [
    "me_preds = []\n",
    "for key in top_50:\n",
    "    me_preds.append(xgb_ranks[key].predict(test_scaled))\n",
    "\n",
    "final_preds = np.stack(me_preds).mean(0)"
   ]
  },
  {
   "cell_type": "code",
   "execution_count": null,
   "id": "c7de901b-eea9-4890-8500-d9c9595aaba4",
   "metadata": {},
   "outputs": [],
   "source": [
    "XGB_submission = pd.DataFrame(data={'id': test_set.id, 'stroke': final_preds})\n",
    "XGB_submission.to_csv(fr'D:\\source\\repos\\Kaggle_Tabular_Playground_Series-ML\\Jan-2023-S2\\XGB.csv', index=False)"
   ]
  },
  {
   "cell_type": "code",
   "execution_count": null,
   "id": "1a1a7dfd-5d8f-4748-b551-6c3345355497",
   "metadata": {},
   "outputs": [],
   "source": [
    "XGB_submission"
   ]
  },
  {
   "cell_type": "code",
   "execution_count": null,
   "id": "dc3c83e1-6a48-423c-add8-4b88af61b7bb",
   "metadata": {},
   "outputs": [],
   "source": [
    "def lgbm_objective(trial):\n",
    "    # Split the train data for each trial.\n",
    "    X_train, X_valid, y_train, y_valid = train_test_split(X, Y, stratify=Y, test_size=0.4)\n",
    "\n",
    "    param_grid = {\n",
    "        'learning_rate': trial.suggest_float('learning_rate', 0.001, 0.1),\n",
    "        'max_depth': trial.suggest_int('max_depth', 100, 1000), \n",
    "        'num_leaves': trial.suggest_int('num_leaves', 100, 10000),\n",
    "        'colsample_bytree': trial.suggest_float('colsample_bytree', 0.1, 1),\n",
    "        'subsample': trial.suggest_float('subsample', 0.1, 1),\n",
    "        'subsample_freq': trial.suggest_int('subsample_freq', 1, 10), \n",
    "        'min_child_samples': trial.suggest_int('min_child_samples', 10, 1000), \n",
    "        'reg_lambda': trial.suggest_int('reg_lambda', 1, 100), \n",
    "        'n_estimators': trial.suggest_int('n_estimators', 10, 100000), \n",
    "    } \n",
    "    \n",
    "\n",
    "    clf = lgbm.LGBMRegressor(**param_grid,\n",
    "                             metric='AUC',\n",
    "                             random_state=1)\n",
    "    \n",
    "    clf.fit(X_train, y_train, eval_set=[(X_valid, y_valid)], callbacks=[lgbm.early_stopping(100, verbose=True)],\n",
    "            verbose=False)\n",
    "    preds = clf.predict(X_valid)\n",
    "    \n",
    "    #rmse = mean_squared_error(y_val, preds, squared=False)\n",
    "    fpr, tpr, _ = roc_curve(y_valid, preds)\n",
    "    roc_auc = auc(fpr, tpr)\n",
    "\n",
    "    lgbm_ranks[roc_auc] = clf\n",
    "    \n",
    "    # Returns the best RMSE for the trial.\n",
    "    # Readers may want to try returning a cross validation score here.\n",
    "    print(roc_auc)\n",
    "    return roc_auc"
   ]
  },
  {
   "cell_type": "code",
   "execution_count": null,
   "id": "d1bc49e9-d15a-4ee4-83a2-58ad6288ea60",
   "metadata": {
    "tags": []
   },
   "outputs": [],
   "source": [
    "lgbm_ranks = {}\n",
    "\n",
    "train_time = 1 * 60 * 60\n",
    "study = optuna.create_study(direction='maximize', sampler=TPESampler(), study_name='XGBRegressor')\n",
    "study.optimize(lgbm_objective, timeout=train_time)\n",
    "\n",
    "print('Number of finished trials: ', len(study.trials))\n",
    "print('Best trial:')\n",
    "trial = study.best_trial\n",
    "\n",
    "print('\\tValue: {}'.format(trial.value))\n",
    "print('\\tParams: ')\n",
    "for key, value in trial.params.items():\n",
    "    print('\\t\\t{}: {}'.format(key, value))"
   ]
  },
  {
   "cell_type": "code",
   "execution_count": null,
   "id": "6555e949-2c40-41a7-9707-19244250190e",
   "metadata": {},
   "outputs": [],
   "source": [
    "trial.params"
   ]
  },
  {
   "cell_type": "code",
   "execution_count": null,
   "id": "ec8b2f14-37b8-4fec-9a0f-02acd78ee4e2",
   "metadata": {
    "tags": []
   },
   "outputs": [],
   "source": [
    "top_50 = sorted(list(lgbm_ranks.keys()))[-50:]\n",
    "top_50"
   ]
  },
  {
   "cell_type": "code",
   "execution_count": null,
   "id": "d69e4cca-d979-4d8b-8816-0ec8c732b0f0",
   "metadata": {},
   "outputs": [],
   "source": [
    "me_preds = []\n",
    "for key in top_50:\n",
    "    me_preds.append(lgbm_ranks[key].predict(test_scaled))\n",
    "\n",
    "final_preds = np.stack(me_preds).mean(0)"
   ]
  },
  {
   "cell_type": "code",
   "execution_count": null,
   "id": "ef289873-ba1c-47d0-8ac4-505ed6d933e0",
   "metadata": {},
   "outputs": [],
   "source": [
    "LGBM_submission = pd.DataFrame(data={'id': test_set.id, 'stroke': final_preds})\n",
    "LGBM_submission.to_csv(fr'D:\\source\\repos\\Kaggle_Tabular_Playground_Series-ML\\Jan-2023-S2\\LGBM.csv', index=False)"
   ]
  },
  {
   "cell_type": "code",
   "execution_count": null,
   "id": "059d680e-9a11-44bc-ad78-cf99a7d329d5",
   "metadata": {},
   "outputs": [],
   "source": [
    "def cat_objective(trial):\n",
    "    # Split the train data for each trial.\n",
    "    X_train, X_valid, y_train, y_valid = train_test_split(X, Y, stratify=Y, test_size=0.4)\n",
    "\n",
    "    param_grid = {\n",
    "        'depth': trial.suggest_int('depth', 1, 16),\n",
    "        'learning_rate': trial.suggest_float('learning_rate', 0.001, 0.1),\n",
    "        'rsm': trial.suggest_float('rsm', 0.001, 0.9),\n",
    "        'subsample': trial.suggest_float('subsample', 0.1, 1),\n",
    "        'min_data_in_leaf': trial.suggest_int('min_data_in_leaf', 1, 100), \n",
    "        'l2_leaf_reg': trial.suggest_int('l2_leaf_reg', 1, 20),\n",
    "        'random_strength': trial.suggest_float('random_strength', 0.001, 0.9),\n",
    "    } \n",
    "    \n",
    "\n",
    "    clf = CatBoostRegressor(iterations=20000,\n",
    "                            **param_grid,\n",
    "                            bootstrap_type='Bernoulli',\n",
    "                            grow_policy='SymmetricTree',\n",
    "                            #loss_function='Logloss',\n",
    "                            eval_metric='AUC',\n",
    "                            task_type=\"CPU\",\n",
    "                            random_state=1,)\n",
    "    \n",
    "    clf.fit(X_train, y_train, eval_set=(X_valid, y_valid), early_stopping_rounds=100, verbose=1000)\n",
    "    preds = clf.predict(X_valid)\n",
    "    \n",
    "    #rmse = mean_squared_error(y_val, preds, squared=False)\n",
    "    fpr, tpr, _ = roc_curve(y_valid, preds)\n",
    "    roc_auc = auc(fpr, tpr)\n",
    "\n",
    "    cat_ranks[roc_auc] = clf\n",
    "    \n",
    "    # Returns the best RMSE for the trial.\n",
    "    # Readers may want to try returning a cross validation score here.\n",
    "    print(roc_auc)\n",
    "    return roc_auc"
   ]
  },
  {
   "cell_type": "code",
   "execution_count": null,
   "id": "03348fde-68fe-4552-9fc6-19bccd9f63f1",
   "metadata": {
    "tags": []
   },
   "outputs": [],
   "source": [
    "cat_ranks = {}\n",
    "\n",
    "train_time = 1 * 60 * 60\n",
    "study = optuna.create_study(direction='maximize', sampler=TPESampler(), study_name='XGBRegressor')\n",
    "study.optimize(cat_objective, timeout=train_time)\n",
    "\n",
    "print('Number of finished trials: ', len(study.trials))\n",
    "print('Best trial:')\n",
    "trial = study.best_trial\n",
    "\n",
    "print('\\tValue: {}'.format(trial.value))\n",
    "print('\\tParams: ')\n",
    "for key, value in trial.params.items():\n",
    "    print('\\t\\t{}: {}'.format(key, value))"
   ]
  },
  {
   "cell_type": "code",
   "execution_count": null,
   "id": "74ede1e7-e00e-495c-a6d8-49c0ddde6df8",
   "metadata": {},
   "outputs": [],
   "source": [
    "trial.params"
   ]
  },
  {
   "cell_type": "code",
   "execution_count": null,
   "id": "89c3f8c8-c5eb-4f1c-96c9-4feae962fac2",
   "metadata": {},
   "outputs": [],
   "source": [
    "top_50 = sorted(list(cat_ranks.keys()))[-50:]\n",
    "top_50"
   ]
  },
  {
   "cell_type": "code",
   "execution_count": null,
   "id": "3c8fab02-807d-40fa-86b6-f9cadc7a0621",
   "metadata": {},
   "outputs": [],
   "source": [
    "me_preds = []\n",
    "for key in top_50:\n",
    "    me_preds.append(cat_ranks[key].predict(test_scaled))\n",
    "\n",
    "final_preds = np.stack(me_preds).mean(0)"
   ]
  },
  {
   "cell_type": "code",
   "execution_count": null,
   "id": "da4039de-553a-4845-82fd-b3035b516ef1",
   "metadata": {},
   "outputs": [],
   "source": [
    "cat_submission = pd.DataFrame(data={'id': test_set.id, 'stroke': final_preds})\n",
    "cat_submission.to_csv(fr'D:\\source\\repos\\Kaggle_Tabular_Playground_Series-ML\\Jan-2023-S2\\CAT.csv', index=False)"
   ]
  },
  {
   "cell_type": "code",
   "execution_count": null,
   "id": "687063f1-5900-4424-aabc-cb68598ac4f4",
   "metadata": {},
   "outputs": [],
   "source": [
    "cat_submission"
   ]
  },
  {
   "cell_type": "code",
   "execution_count": null,
   "id": "4368ce27-d471-42dd-af31-18a39040a163",
   "metadata": {},
   "outputs": [],
   "source": [
    "final_test_preds = XGB_submission['stroke']*0.60 + LGBM_submission['stroke']*0.00 + cat_submission['stroke']*0.40\n",
    "final_submission = pd.DataFrame(data={'id': test_set.id, 'stroke': final_test_preds})\n",
    "final_submission.to_csv(fr'D:\\source\\repos\\Kaggle_Tabular_Playground_Series-ML\\Jan-2023-S2\\final_submission.csv', index=False)"
   ]
  },
  {
   "cell_type": "code",
   "execution_count": null,
   "id": "1c5cdf35-2328-441f-86bf-2586dd5ec206",
   "metadata": {},
   "outputs": [],
   "source": []
  },
  {
   "cell_type": "raw",
   "id": "e5d3e356-561d-499f-a35b-eaa92245aeca",
   "metadata": {
    "jupyter": {
     "outputs_hidden": true
    },
    "tags": []
   },
   "source": [
    "kf = KFold(n_splits=10, random_state=1, shuffle=True)\n",
    "clfs = []\n",
    "err = []\n",
    "\n",
    "for i, (train_index, val_index) in enumerate(kf.split(train_set)):\n",
    "    X_train, X_val = train_scaled[train_index, :], train_scaled[val_index, :]\n",
    "    y_train, y_val = train_set['stroke'][train_index], train_set['stroke'][val_index]\n",
    "\n",
    "    param_grid = trial.params\n",
    "\n",
    "    reg = xgb.XGBModel(\n",
    "        # These parameters should help with trial speed.\n",
    "        objective='binary:logistic',\n",
    "        tree_method='gpu_hist',\n",
    "        booster='gbtree',\n",
    "        predictor='gpu_predictor',\n",
    "        n_jobs=4,\n",
    "        eval_metric='auc',\n",
    "        **param_grid\n",
    "    )\n",
    "\n",
    "    reg.fit(X_train, y_train,\n",
    "            eval_set=[(X_val, y_val)],\n",
    "            verbose=False)\n",
    "\n",
    "    preds = reg.predict(X_val)\n",
    "    fpr, tpr, _ = roc_curve(y_val, preds)\n",
    "    roc_auc = auc(fpr, tpr)\n",
    "    \n",
    "    err.append(roc_auc)\n",
    "    clfs.append(clf)\n",
    "    print(f'roc on fold {i}: {roc_auc}')\n",
    "    \n",
    "print(f'Average ROC (five fold): {sum(err)/10}')"
   ]
  },
  {
   "cell_type": "raw",
   "id": "f29a8894-920c-442e-9240-0269fde66ddf",
   "metadata": {
    "papermill": {
     "duration": 3.449616,
     "end_time": "2023-01-06T09:53:42.890209",
     "exception": false,
     "start_time": "2023-01-06T09:53:39.440593",
     "status": "completed"
    },
    "tags": []
   },
   "source": [
    "#kf = KFold(n_splits=10, random_state=1, shuffle=True)\n",
    "#clfs = []\n",
    "#err = []\n",
    "\n",
    "#for i, (train_index, val_index) in enumerate(kf.split(train_set)):\n",
    "#    X_train, X_val = train_scaled[train_index, :], train_scaled[val_index, :]\n",
    "#    y_train, y_val = train_set['stroke'][train_index], train_set['stroke'][val_index]\n",
    "    \n",
    "#    clf = XGBRegressor(n_estimators=10,\n",
    "#                       max_depth=3,\n",
    "#                       colsample_bytree=0.9,\n",
    "#                       subsample=1,\n",
    "#                       reg_lambda=20,\n",
    "#                       tree_method='gpu_hist',\n",
    "#                       seed=1)\n",
    "#    clf.fit(X_train, y_train)\n",
    "#    preds = clf.predict(X_val)\n",
    "    \n",
    "#    fpr, tpr, _ = roc_curve(y_val, preds)\n",
    "#    roc_auc = auc(fpr, tpr)\n",
    "    #rmse = mean_squared_error(y_val, preds, squared=False)\n",
    "#    err.append(roc_auc)\n",
    "#    clfs.append(clf)\n",
    "#    print(f'roc on fold {i}: {roc_auc}')\n",
    "\n",
    "#print(f'Average RMSE (five fold): {sum(err)/10}')"
   ]
  },
  {
   "cell_type": "raw",
   "id": "b4b399b6-dede-4b3c-bb45-b016af1bd38a",
   "metadata": {
    "jupyter": {
     "outputs_hidden": true
    },
    "papermill": {
     "duration": 327.727236,
     "end_time": "2023-01-06T10:03:32.509189",
     "exception": false,
     "start_time": "2023-01-06T09:58:04.781953",
     "status": "completed"
    },
    "tags": []
   },
   "source": [
    "kf = KFold(n_splits=10, random_state=1, shuffle=True)\n",
    "err = []\n",
    "\n",
    "for i, (train_index, val_index) in enumerate(kf.split(train_set)):\n",
    "    X_train, X_val = train_scaled[train_index, :], train_scaled[val_index, :]\n",
    "    y_train, y_val = train_set['stroke'][train_index], train_set['stroke'][val_index]\n",
    "    \n",
    "    clf = lgbm.LGBMRegressor(learning_rate=0.01,\n",
    "                             max_depth=900,\n",
    "                             num_leaves=9000,\n",
    "                             colsample_bytree=0.8,\n",
    "                             subsample=0.9,\n",
    "                             subsample_freq=5,\n",
    "                             min_child_samples=360,\n",
    "                             reg_lambda=28,\n",
    "                             n_estimators=20000,\n",
    "                             metric='AUC',\n",
    "                             random_state=1)\n",
    "    \n",
    "    clf.fit(X_train, y_train, eval_set=[(X_val, y_val)], callbacks=[lgbm.early_stopping(100, verbose=True)])\n",
    "    preds = clf.predict(X_val)\n",
    "    \n",
    "    #rmse = mean_squared_error(y_val, preds, squared=False)\n",
    "    fpr, tpr, _ = roc_curve(y_val, preds)\n",
    "    roc_auc = auc(fpr, tpr)\n",
    "    err.append(roc_auc)\n",
    "    clfs.append(clf)\n",
    "    print(f'roc_auc on fold {i}: {roc_auc}')\n",
    "    print('-'*50)\n",
    "\n",
    "print(f'Average roc_auc (five fold): {sum(err)/10}')"
   ]
  },
  {
   "cell_type": "code",
   "execution_count": null,
   "id": "0e3e8e35-4d9b-4e8b-ba82-fb5c12855428",
   "metadata": {},
   "outputs": [],
   "source": []
  },
  {
   "cell_type": "code",
   "execution_count": null,
   "id": "b97f8dbc",
   "metadata": {
    "papermill": {
     "duration": 2855.778166,
     "end_time": "2023-01-06T10:51:08.315864",
     "exception": false,
     "start_time": "2023-01-06T10:03:32.537698",
     "status": "completed"
    },
    "tags": []
   },
   "outputs": [],
   "source": [
    "kf = KFold(n_splits=10, random_state=1, shuffle=True)\n",
    "err = []\n",
    "\n",
    "for i, (train_index, val_index) in enumerate(kf.split(train_set)):\n",
    "    X_train, X_val = train_scaled[train_index, :], train_scaled[val_index, :]\n",
    "    y_train, y_val = train_set['stroke'][train_index], train_set['stroke'][val_index]\n",
    "    \n",
    "    clf = CatBoostRegressor(iterations=20000,\n",
    "                            depth=9,\n",
    "                            learning_rate=0.01,\n",
    "                            rsm=0.88,\n",
    "                            subsample=0.795,\n",
    "                            min_data_in_leaf=35,\n",
    "                            l2_leaf_reg=8,\n",
    "                            random_strength=0.63,\n",
    "                            bootstrap_type='Bernoulli',\n",
    "                            grow_policy='SymmetricTree',\n",
    "                            #loss_function='Logloss',\n",
    "                            eval_metric='AUC',\n",
    "                            task_type=\"CPU\",\n",
    "                            random_state=1,)\n",
    "    \n",
    "    clf.fit(X_train, y_train, eval_set=(X_val, y_val), early_stopping_rounds=100, verbose=1000)\n",
    "    preds = clf.predict(X_val)\n",
    "    \n",
    "    #rmse = mean_squared_error(y_val, preds, squared=False)\n",
    "    fpr, tpr, _ = roc_curve(y_val, preds)\n",
    "    roc_auc = auc(fpr, tpr)\n",
    "    err.append(roc_auc)\n",
    "    clfs.append(clf)\n",
    "    print(f'roc_auc on fold {i}: {roc_auc}')\n",
    "    print('-'*50)\n",
    "\n",
    "print(f'Average roc_auc (five fold): {sum(err)/10}')"
   ]
  },
  {
   "cell_type": "code",
   "execution_count": null,
   "id": "659bfbdb-80fa-4f3c-8bff-6df3bf000848",
   "metadata": {},
   "outputs": [],
   "source": [
    "len(clfs)"
   ]
  },
  {
   "cell_type": "markdown",
   "id": "9ad5d926",
   "metadata": {
    "papermill": {
     "duration": 0.029411,
     "end_time": "2023-01-06T10:51:08.376077",
     "exception": false,
     "start_time": "2023-01-06T10:51:08.346666",
     "status": "completed"
    },
    "tags": []
   },
   "source": [
    "## feature importance"
   ]
  },
  {
   "cell_type": "code",
   "execution_count": null,
   "id": "d6260860",
   "metadata": {
    "papermill": {
     "duration": 0.468963,
     "end_time": "2023-01-06T10:51:08.874161",
     "exception": false,
     "start_time": "2023-01-06T10:51:08.405198",
     "status": "completed"
    },
    "tags": []
   },
   "outputs": [],
   "source": [
    "imp = np.zeros(11)\n",
    "for clf in clfs[:10]:\n",
    "    imp+= clf.feature_importances_\n",
    "    \n",
    "print('----------------------------XGBoost----------------------------')\n",
    "plt.barh([features[i] for i in np.argsort(imp/10)], sorted(imp/10))\n",
    "plt.show()"
   ]
  },
  {
   "cell_type": "code",
   "execution_count": null,
   "id": "a79a7e52",
   "metadata": {
    "papermill": {
     "duration": 0.324216,
     "end_time": "2023-01-06T10:51:09.230079",
     "exception": false,
     "start_time": "2023-01-06T10:51:08.905863",
     "status": "completed"
    },
    "tags": []
   },
   "outputs": [],
   "source": [
    "imp = np.zeros(11)\n",
    "for clf in clfs[10:20]:\n",
    "    imp+= clf.feature_importances_\n",
    "    \n",
    "print('----------------------------LGBM----------------------------')\n",
    "plt.barh([features[i] for i in np.argsort(imp/10)], sorted(imp/10))\n",
    "plt.show()"
   ]
  },
  {
   "cell_type": "code",
   "execution_count": null,
   "id": "474361bc",
   "metadata": {
    "papermill": {
     "duration": 0.312435,
     "end_time": "2023-01-06T10:51:09.574406",
     "exception": false,
     "start_time": "2023-01-06T10:51:09.261971",
     "status": "completed"
    },
    "tags": []
   },
   "outputs": [],
   "source": [
    "imp = np.zeros(11)\n",
    "for clf in clfs[20:30]:\n",
    "    imp+= clf.feature_importances_\n",
    "    \n",
    "print('----------------------------CatBoost----------------------------')\n",
    "plt.barh([features[i] for i in np.argsort(imp/10)], sorted(imp/10))\n",
    "plt.show()"
   ]
  },
  {
   "cell_type": "markdown",
   "id": "6dd01eaf",
   "metadata": {
    "papermill": {
     "duration": 0.031978,
     "end_time": "2023-01-06T10:51:09.638931",
     "exception": false,
     "start_time": "2023-01-06T10:51:09.606953",
     "status": "completed"
    },
    "tags": []
   },
   "source": [
    "# Making submission"
   ]
  },
  {
   "cell_type": "code",
   "execution_count": null,
   "id": "3014a187",
   "metadata": {
    "papermill": {
     "duration": 97.033305,
     "end_time": "2023-01-06T10:52:46.704014",
     "exception": false,
     "start_time": "2023-01-06T10:51:09.670709",
     "status": "completed"
    },
    "tags": []
   },
   "outputs": [],
   "source": [
    "test_preds1 = []\n",
    "test_preds2 = []\n",
    "test_preds3 = []\n",
    "\n",
    "for clf in clfs[:10]:\n",
    "    preds = clf.predict(test_scaled)\n",
    "    test_preds1.append(preds)\n",
    "    \n",
    "for clf in clfs[10:20]:\n",
    "    preds = clf.predict(test_scaled)\n",
    "    test_preds2.append(preds)\n",
    "    \n",
    "for clf in clfs[20:30]:\n",
    "    preds = clf.predict(test_scaled)\n",
    "    test_preds3.append(preds)"
   ]
  },
  {
   "cell_type": "code",
   "execution_count": null,
   "id": "c43852ad-aa09-40b9-9f97-9301cfa4f5eb",
   "metadata": {},
   "outputs": [],
   "source": [
    "clfs[:5]"
   ]
  },
  {
   "cell_type": "code",
   "execution_count": null,
   "id": "4efd9b8c-e70c-4a97-aa1c-bfc44d0191f4",
   "metadata": {},
   "outputs": [],
   "source": [
    "test_preds3"
   ]
  },
  {
   "cell_type": "code",
   "execution_count": null,
   "id": "feaeb692",
   "metadata": {
    "papermill": {
     "duration": 0.058581,
     "end_time": "2023-01-06T10:52:46.810808",
     "exception": false,
     "start_time": "2023-01-06T10:52:46.752227",
     "status": "completed"
    },
    "tags": []
   },
   "outputs": [],
   "source": [
    "test_preds1 = np.stack(test_preds1).mean(0)\n",
    "test_preds2 = np.stack(test_preds2).mean(0)\n",
    "test_preds3 = np.stack(test_preds3).mean(0)"
   ]
  },
  {
   "cell_type": "code",
   "execution_count": null,
   "id": "08dcebf7-7a66-409b-8590-562925180713",
   "metadata": {},
   "outputs": [],
   "source": [
    "attempts = [\n",
    "    [0.2, 0.6, 0.2],\n",
    "    [0.6, 0.2, 0.6],\n",
    "    [0.3, 0.3, 0.4],\n",
    "    [0.3, 0.4, 0.3],\n",
    "    [0.5, 0.3, 0.2]\n",
    "]"
   ]
  },
  {
   "cell_type": "code",
   "execution_count": null,
   "id": "671d4c74-2b76-4f37-b629-cc710abc199f",
   "metadata": {},
   "outputs": [],
   "source": [
    "attempts = [\n",
    "    [0.6, 0.3, 0.1],\n",
    "    [0.7, 0.2, 0.1],\n",
    "    [0.7, 0.1, 0.2],\n",
    "    [0.6, 0.2, 0.2],\n",
    "    [0.6, 0.1, 0.3]\n",
    "]"
   ]
  },
  {
   "cell_type": "code",
   "execution_count": null,
   "id": "31f10b8c-5820-4e08-87d3-521e02002457",
   "metadata": {},
   "outputs": [],
   "source": [
    "attempts = [\n",
    "    [0.6, 0.25, 0.15],\n",
    "    [0.6, 0.2, 0.2],\n",
    "    [0.6, 0.15, 0.25],\n",
    "    [0.65, 0.15, 0.2],\n",
    "    [0.65, 0.1, 0.25]\n",
    "]"
   ]
  },
  {
   "cell_type": "code",
   "execution_count": null,
   "id": "99e4df7c-1a37-4169-8658-6625afa5c419",
   "metadata": {},
   "outputs": [],
   "source": []
  },
  {
   "cell_type": "code",
   "execution_count": null,
   "id": "ccfa4ede-de21-422c-a4c4-2222d897aa4a",
   "metadata": {},
   "outputs": [],
   "source": []
  },
  {
   "cell_type": "code",
   "execution_count": null,
   "id": "d3d53d36-46fb-4525-9052-18001f532aad",
   "metadata": {},
   "outputs": [],
   "source": [
    "for i, row in enumerate(attempts):\n",
    "    test_preds = test_preds1*row[0] + test_preds2*row[1] + test_preds3*row[2]\n",
    "    submission = pd.DataFrame(data={'id': test_set.id, 'MedHouseVal': test_preds})\n",
    "    submission.to_csv(f'submission{i}.csv', index=False)"
   ]
  },
  {
   "cell_type": "code",
   "execution_count": null,
   "id": "a1aea2cc",
   "metadata": {
    "papermill": {
     "duration": 0.054441,
     "end_time": "2023-01-06T10:52:46.911240",
     "exception": false,
     "start_time": "2023-01-06T10:52:46.856799",
     "status": "completed"
    },
    "tags": []
   },
   "outputs": [],
   "source": [
    "test_preds = test_preds1*0.60 + test_preds2*0.00 + test_preds3*0.40\n",
    "submission = pd.DataFrame(data={'id': test_set.id, 'stroke': test_preds})\n",
    "submission.to_csv(fr'D:\\source\\repos\\Kaggle_Tabular_Playground_Series-ML\\Jan-2023-S2\\submission.csv', index=False)"
   ]
  },
  {
   "cell_type": "code",
   "execution_count": null,
   "id": "02cc9b74-8977-49de-b05f-ed9fff4f4701",
   "metadata": {},
   "outputs": [],
   "source": [
    "submission.describe()"
   ]
  },
  {
   "cell_type": "code",
   "execution_count": null,
   "id": "fb238e66",
   "metadata": {
    "papermill": {
     "duration": 0.06589,
     "end_time": "2023-01-06T10:52:47.022884",
     "exception": false,
     "start_time": "2023-01-06T10:52:46.956994",
     "status": "completed"
    },
    "tags": []
   },
   "outputs": [],
   "source": [
    "submission = pd.DataFrame(data={'id': test_set.id, 'MedHouseVal': test_preds})\n",
    "submission.head()"
   ]
  },
  {
   "cell_type": "code",
   "execution_count": null,
   "id": "3bfe9477",
   "metadata": {
    "papermill": {
     "duration": 0.148129,
     "end_time": "2023-01-06T10:52:47.219044",
     "exception": false,
     "start_time": "2023-01-06T10:52:47.070915",
     "status": "completed"
    },
    "tags": []
   },
   "outputs": [],
   "source": [
    "submission.to_csv('submission.csv', index=False)"
   ]
  },
  {
   "cell_type": "markdown",
   "id": "68981970",
   "metadata": {
    "papermill": {
     "duration": 0.04982,
     "end_time": "2023-01-06T10:52:47.320905",
     "exception": false,
     "start_time": "2023-01-06T10:52:47.271085",
     "status": "completed"
    },
    "tags": []
   },
   "source": [
    "**If you found this notebook useful, please upvote!**  \n",
    "**Thank you!**🙏"
   ]
  },
  {
   "cell_type": "code",
   "execution_count": null,
   "id": "1171f603",
   "metadata": {
    "papermill": {
     "duration": 0.033353,
     "end_time": "2023-01-06T10:52:47.406008",
     "exception": false,
     "start_time": "2023-01-06T10:52:47.372655",
     "status": "completed"
    },
    "tags": []
   },
   "outputs": [],
   "source": []
  },
  {
   "cell_type": "code",
   "execution_count": null,
   "id": "f079e873-cf92-4939-858a-921e6b242db0",
   "metadata": {},
   "outputs": [],
   "source": []
  },
  {
   "cell_type": "code",
   "execution_count": null,
   "id": "9fa84475-c1ce-4d1e-9c39-c273cdc258ea",
   "metadata": {},
   "outputs": [],
   "source": []
  }
 ],
 "metadata": {
  "kernelspec": {
   "display_name": "Python 3 (ipykernel)",
   "language": "python",
   "name": "python3"
  },
  "language_info": {
   "codemirror_mode": {
    "name": "ipython",
    "version": 3
   },
   "file_extension": ".py",
   "mimetype": "text/x-python",
   "name": "python",
   "nbconvert_exporter": "python",
   "pygments_lexer": "ipython3",
   "version": "3.10.9"
  },
  "papermill": {
   "default_parameters": {},
   "duration": 3638.009465,
   "end_time": "2023-01-06T10:52:50.717117",
   "environment_variables": {},
   "exception": null,
   "input_path": "__notebook__.ipynb",
   "output_path": "__notebook__.ipynb",
   "parameters": {},
   "start_time": "2023-01-06T09:52:12.707652",
   "version": "2.3.4"
  }
 },
 "nbformat": 4,
 "nbformat_minor": 5
}
