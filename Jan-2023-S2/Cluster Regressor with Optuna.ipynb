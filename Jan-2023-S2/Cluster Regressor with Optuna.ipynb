{
 "cells": [
  {
   "cell_type": "markdown",
   "id": "ca1162c1",
   "metadata": {
    "papermill": {
     "duration": 0.006877,
     "end_time": "2023-01-06T09:52:20.687618",
     "exception": false,
     "start_time": "2023-01-06T09:52:20.680741",
     "status": "completed"
    },
    "tags": []
   },
   "source": [
    "# Import Packages"
   ]
  },
  {
   "cell_type": "code",
   "execution_count": null,
   "id": "ad9ab320",
   "metadata": {
    "papermill": {
     "duration": 1.10973,
     "end_time": "2023-01-06T09:52:21.804325",
     "exception": false,
     "start_time": "2023-01-06T09:52:20.694595",
     "status": "completed"
    },
    "tags": []
   },
   "outputs": [],
   "source": [
    "import numpy as np\n",
    "import pandas as pd\n",
    "import seaborn as sns\n",
    "from scipy import stats\n",
    "from pathlib import Path\n",
    "import matplotlib.pyplot as plt\n",
    "\n",
    "from sklearn.model_selection import KFold\n",
    "from sklearn.preprocessing import RobustScaler, StandardScaler, MinMaxScaler\n",
    "from sklearn.model_selection import train_test_split, cross_val_score, StratifiedKFold, KFold\n",
    "from sklearn.metrics import mean_squared_error\n",
    "from sklearn.metrics import mean_squared_error\n",
    "from sklearn.preprocessing import MinMaxScaler\n",
    "from sklearn.datasets import fetch_california_housing\n",
    "import math\n",
    "from tqdm import tqdm\n",
    "\n",
    "from sklearn.feature_extraction.text import CountVectorizer\n",
    "\n",
    "import optuna\n",
    "from optuna.samplers import TPESampler"
   ]
  },
  {
   "cell_type": "code",
   "execution_count": null,
   "id": "12940d56",
   "metadata": {
    "_cell_guid": "b1076dfc-b9ad-4769-8c92-a6c4dae69d19",
    "_uuid": "8f2839f25d086af736a60e9eeb907d3b93b6e0e5",
    "papermill": {
     "duration": 0.193177,
     "end_time": "2023-01-06T09:52:22.020765",
     "exception": false,
     "start_time": "2023-01-06T09:52:21.827588",
     "status": "completed"
    },
    "tags": []
   },
   "outputs": [],
   "source": [
    "train_set = pd.read_csv(r\"D:\\source\\repos\\Kaggle_Tabular_Playground_Series-ML\\Jan-2023-S2\\data\\train.csv\")\n",
    "test_set = pd.read_csv(r\"D:\\source\\repos\\Kaggle_Tabular_Playground_Series-ML\\Jan-2023-S2\\data\\test.csv\")\n",
    "sample_sub = pd.read_csv(r\"D:\\source\\repos\\Kaggle_Tabular_Playground_Series-ML\\Jan-2023-S2\\data\\sample_submission.csv\")"
   ]
  },
  {
   "cell_type": "code",
   "execution_count": null,
   "id": "009eadb6-20dc-49ad-8369-2862cb507650",
   "metadata": {},
   "outputs": [],
   "source": [
    "columns_to_vectorize = ['gender', 'ever_married', 'work_type', 'Residence_type', 'smoking_status']\n",
    "for vector_target in columns_to_vectorize:\n",
    "    vectorizer = CountVectorizer()\n",
    "    vectorizer.fit_transform(train_set[vector_target])\n",
    "    train_set[f'{vector_target}_v'] = vectorizer.transform(train_set[vector_target]).toarray().argmax(axis=1)[:,None]\n",
    "    vectorizer.fit_transform(test_set[vector_target])\n",
    "    test_set[f'{vector_target}_v'] = vectorizer.transform(test_set[vector_target]).toarray().argmax(axis=1)[:,None]"
   ]
  },
  {
   "cell_type": "code",
   "execution_count": null,
   "id": "11aead6b-1752-4664-83a5-1c0fde9a0357",
   "metadata": {},
   "outputs": [],
   "source": [
    "train_set"
   ]
  },
  {
   "cell_type": "code",
   "execution_count": null,
   "id": "9a60f96c-4dec-4faa-952b-520c01d7c49f",
   "metadata": {},
   "outputs": [],
   "source": [
    "test_set"
   ]
  },
  {
   "cell_type": "code",
   "execution_count": null,
   "id": "9d7b20b2-c8f6-4d13-b658-469c76df8f33",
   "metadata": {},
   "outputs": [],
   "source": [
    "train_set.columns"
   ]
  },
  {
   "cell_type": "code",
   "execution_count": null,
   "id": "d36865dd",
   "metadata": {
    "papermill": {
     "duration": 0.019648,
     "end_time": "2023-01-06T09:52:22.092204",
     "exception": false,
     "start_time": "2023-01-06T09:52:22.072556",
     "status": "completed"
    },
    "tags": []
   },
   "outputs": [],
   "source": [
    "print('train_set shape: ', train_set.shape)\n",
    "print('test_set shape: ', test_set.shape)"
   ]
  },
  {
   "cell_type": "code",
   "execution_count": null,
   "id": "72451f72",
   "metadata": {
    "papermill": {
     "duration": 0.033887,
     "end_time": "2023-01-06T09:52:22.133886",
     "exception": false,
     "start_time": "2023-01-06T09:52:22.099999",
     "status": "completed"
    },
    "tags": []
   },
   "outputs": [],
   "source": [
    "train_set.info()"
   ]
  },
  {
   "cell_type": "code",
   "execution_count": null,
   "id": "73e5d77a",
   "metadata": {
    "papermill": {
     "duration": 0.064165,
     "end_time": "2023-01-06T09:52:22.207009",
     "exception": false,
     "start_time": "2023-01-06T09:52:22.142844",
     "status": "completed"
    },
    "tags": []
   },
   "outputs": [],
   "source": [
    "train_set.describe()"
   ]
  },
  {
   "cell_type": "markdown",
   "id": "25494ab0",
   "metadata": {
    "papermill": {
     "duration": 0.007547,
     "end_time": "2023-01-06T09:52:22.222852",
     "exception": false,
     "start_time": "2023-01-06T09:52:22.215305",
     "status": "completed"
    },
    "tags": []
   },
   "source": [
    "## Missing Data"
   ]
  },
  {
   "cell_type": "code",
   "execution_count": null,
   "id": "23dc2024",
   "metadata": {
    "papermill": {
     "duration": 0.029067,
     "end_time": "2023-01-06T09:52:22.259736",
     "exception": false,
     "start_time": "2023-01-06T09:52:22.230669",
     "status": "completed"
    },
    "tags": []
   },
   "outputs": [],
   "source": [
    "total = train_set.isnull().sum().sort_values(ascending=False)\n",
    "percent = (train_set.isnull().sum()/train_set.isnull().count()).sort_values(ascending=False)\n",
    "missing_data = pd.concat([total, percent], axis=1, keys=['Total', 'Percent'])\n",
    "missing_data.head(10)"
   ]
  },
  {
   "cell_type": "markdown",
   "id": "808b743a",
   "metadata": {
    "papermill": {
     "duration": 0.007887,
     "end_time": "2023-01-06T09:52:22.275762",
     "exception": false,
     "start_time": "2023-01-06T09:52:22.267875",
     "status": "completed"
    },
    "tags": []
   },
   "source": [
    "## Data visualisation"
   ]
  },
  {
   "cell_type": "code",
   "execution_count": null,
   "id": "00e65350",
   "metadata": {
    "papermill": {
     "duration": 0.016702,
     "end_time": "2023-01-06T09:52:22.300508",
     "exception": false,
     "start_time": "2023-01-06T09:52:22.283806",
     "status": "completed"
    },
    "tags": []
   },
   "outputs": [],
   "source": [
    "features = ['id', 'age', 'hypertension', 'heart_disease', 'avg_glucose_level', 'bmi', 'gender_v', 'ever_married_v', 'work_type_v', 'Residence_type_v', 'smoking_status_v']\n",
    "target = ['stroke']"
   ]
  },
  {
   "cell_type": "code",
   "execution_count": null,
   "id": "827b3d22-d62d-45bf-af76-8c6f69e317f6",
   "metadata": {
    "tags": []
   },
   "outputs": [],
   "source": [
    "#https://github.com/dhaitz/mplcyberpunk\n",
    "%pip install mplcyberpunk\n",
    "import mplcyberpunk"
   ]
  },
  {
   "cell_type": "code",
   "execution_count": null,
   "id": "f6c15916-cc89-4813-acd1-7880079a6ae2",
   "metadata": {},
   "outputs": [],
   "source": []
  },
  {
   "cell_type": "code",
   "execution_count": null,
   "id": "b49c2976-4abd-4cb0-bf24-77eb8e63eac5",
   "metadata": {},
   "outputs": [],
   "source": [
    "from itertools import islice, cycle\n",
    "\n",
    "def add_secondary_plot(df, column, target_column, ax, n_bins, color=3, show_yticks=False, marker=\".\"):\n",
    "    secondary_ax = ax.twinx()\n",
    "    bins = pd.cut(df[column], bins=n_bins)\n",
    "    bins = pd.IntervalIndex(bins)\n",
    "    bins = (bins.left + bins.right) / 2\n",
    "    target = df.groupby(bins)[target_column].mean()\n",
    "    target.plot(\n",
    "        ax=secondary_ax, linestyle='',\n",
    "        marker=marker, color=color, label=f\"Mean '{target_column}'\"\n",
    "    )\n",
    "    secondary_ax.grid(visible=False)\n",
    "    \n",
    "    if not show_yticks:\n",
    "        secondary_ax.get_yaxis().set_ticks([])\n",
    "        \n",
    "    return secondary_ax\n",
    "\n",
    "def render_feature_distros(train_df, test_df, features=[], labels=[], n_bins=50, n_cols=4, pad=2, h_pad=4, w_pad=None):\n",
    "    histplot_hyperparams = {\n",
    "        'kde':True,\n",
    "        'alpha':0.4,\n",
    "        'stat':'percent',\n",
    "        'bins':n_bins\n",
    "    }\n",
    "    markers = ['.', '+', 'x', '1', '2']\n",
    "    \n",
    "    n_rows = math.ceil(len(features) / n_cols)\n",
    "    cell_with_dim = 4\n",
    "    cell_height_dim = 3\n",
    "    \n",
    "    fig, ax = plt.subplots(n_rows, n_cols, figsize=(n_cols * cell_with_dim, n_rows * cell_height_dim))\n",
    "    plt.tight_layout(pad=pad, h_pad=h_pad, w_pad=w_pad, rect=None)\n",
    "    plt.style.use(\"cyberpunk\")\n",
    "    \n",
    "    # delete exess subplots\n",
    "    for a in ax[n_rows - 1, int(((n_rows - (len(features) / n_cols)) * n_cols*-1)):]:\n",
    "        a.axis('off')\n",
    "        \n",
    "    leg_handles = []\n",
    "    leg_labels = []\n",
    "    \n",
    "    axs = []\n",
    "\n",
    "    for i, feature in enumerate(features):\n",
    "        row = math.ceil(i / n_cols) - 1\n",
    "        col = (i % n_cols)\n",
    "        sns.histplot(train_df[feature], label='Train X', ax=ax[row, col], **histplot_hyperparams)\n",
    "        sns.histplot(test_df[feature], label='Test X', ax=ax[row, col], **histplot_hyperparams)\n",
    "        ax[row, col].set_title(f'{feature} Distribution')\n",
    "        mplcyberpunk.make_lines_glow(ax[row, col])\n",
    "        axs.append(ax[row, col].get_legend_handles_labels())\n",
    "        starting_at_three = islice(mplcyberpunk.cyberpunk_stylesheets['cyberpunk']['axes.prop_cycle'], 2, None)\n",
    "        for j, label in enumerate(labels):\n",
    "            sub_ax = add_secondary_plot(train_df, feature, label, ax[row, col], n_bins, color=next(starting_at_three)['color'], marker=markers[j])\n",
    "            axs.append(sub_ax.get_legend_handles_labels())\n",
    "        \n",
    "    for axis in axs:\n",
    "        if axis[1][0] not in leg_labels:\n",
    "            leg_labels.extend(axis[1])\n",
    "            leg_handles.extend(axis[0])\n",
    "        \n",
    "    fig.legend(leg_handles, leg_labels, loc='upper center', bbox_to_anchor=(0.5, 1.04), fontsize=14, ncol=len(features) + 2)"
   ]
  },
  {
   "cell_type": "code",
   "execution_count": null,
   "id": "1da0c002-20bf-4e29-a509-921b9edb3d14",
   "metadata": {},
   "outputs": [],
   "source": [
    "render_feature_distros(train_df=train_set, test_df=test_set, features=features, labels=['stroke'])"
   ]
  },
  {
   "cell_type": "markdown",
   "id": "a35cfdeb",
   "metadata": {
    "papermill": {
     "duration": 0.013463,
     "end_time": "2023-01-06T09:52:49.103064",
     "exception": false,
     "start_time": "2023-01-06T09:52:49.089601",
     "status": "completed"
    },
    "tags": []
   },
   "source": [
    "### Correlation matrix (heatmap style)"
   ]
  },
  {
   "cell_type": "code",
   "execution_count": null,
   "id": "15adca68",
   "metadata": {
    "papermill": {
     "duration": 0.709827,
     "end_time": "2023-01-06T09:52:49.826256",
     "exception": false,
     "start_time": "2023-01-06T09:52:49.116429",
     "status": "completed"
    },
    "tags": []
   },
   "outputs": [],
   "source": [
    "corrmat = train_set[features+target].corr()\n",
    "f, ax = plt.subplots(figsize=(12, 9))\n",
    "sns.heatmap(corrmat, square=True, annot=True, fmt='.2f', cmap='seismic', vmin=-1, vmax=1)"
   ]
  },
  {
   "cell_type": "markdown",
   "id": "08423159",
   "metadata": {
    "papermill": {
     "duration": 0.017506,
     "end_time": "2023-01-06T09:53:37.279060",
     "exception": false,
     "start_time": "2023-01-06T09:53:37.261554",
     "status": "completed"
    },
    "tags": []
   },
   "source": [
    "# Train Model"
   ]
  },
  {
   "cell_type": "code",
   "execution_count": null,
   "id": "bb513b47",
   "metadata": {
    "papermill": {
     "duration": 2.067754,
     "end_time": "2023-01-06T09:53:39.364285",
     "exception": false,
     "start_time": "2023-01-06T09:53:37.296531",
     "status": "completed"
    },
    "tags": []
   },
   "outputs": [],
   "source": [
    "import lightgbm as lgbm\n",
    "from xgboost import XGBRegressor\n",
    "import xgboost as xgb\n",
    "from catboost import CatBoostRegressor\n",
    "from lightgbm.sklearn import LGBMRegressor\n",
    "from sklearn.ensemble import RandomForestRegressor\n",
    "\n",
    "from sklearn.metrics import roc_curve, auc,recall_score,precision_score"
   ]
  },
  {
   "cell_type": "code",
   "execution_count": null,
   "id": "24268904",
   "metadata": {
    "papermill": {
     "duration": 0.038442,
     "end_time": "2023-01-06T09:53:39.421688",
     "exception": false,
     "start_time": "2023-01-06T09:53:39.383246",
     "status": "completed"
    },
    "tags": []
   },
   "outputs": [],
   "source": [
    "scaler = MinMaxScaler().fit(train_set[features])\n",
    "X = scaler.transform(train_set[features])\n",
    "X_test = scaler.transform(test_set[features])\n",
    "\n",
    "scaler = MinMaxScaler().fit(train_set[target])\n",
    "Y = scaler.transform(train_set[target])"
   ]
  },
  {
   "cell_type": "code",
   "execution_count": null,
   "id": "12aed6ec-bbac-48a0-b627-98a2cc0dede9",
   "metadata": {},
   "outputs": [],
   "source": [
    "kf = KFold(n_splits=10, random_state=1, shuffle=True)\n",
    "clfs = []\n",
    "err = []"
   ]
  },
  {
   "cell_type": "code",
   "execution_count": null,
   "id": "8d4a798a-b28f-4675-b2b7-3932ee9113f2",
   "metadata": {},
   "outputs": [],
   "source": [
    "y_min = Y.min()\n",
    "y_max = Y.max()\n",
    "\n",
    "print(y_min, y_max)\n",
    "\n",
    "def my_rmse(y_true, y_hat):\n",
    "    y_true[y_true < y_min] = y_min\n",
    "    y_true[y_true > y_max] = y_max\n",
    "    \n",
    "    y_hat[y_hat < y_min] = y_min\n",
    "    y_hat[y_hat > y_max] = y_max\n",
    "    \n",
    "    y_true_nan = np.isnan(y_true)\n",
    "    y_hat_nan = np.isnan(y_hat)\n",
    "    \n",
    "    if y_true_nan.sum() > 0:\n",
    "        print(y_true_nan.sum())\n",
    "        np.where(y_true_nan, np.ma.array(y_true, mask=np.isnan(y_true)).mean(axis=0), y_true)\n",
    "    if y_hat_nan.sum() > 0:\n",
    "        print(y_hat_nan.sum())\n",
    "        np.where(y_hat_nan, np.ma.array(y_hat, mask=np.isnan(y_hat)).mean(axis=0), y_hat)\n",
    "    \n",
    "    return mean_squared_error(y_true, y_hat, squared=False)"
   ]
  },
  {
   "cell_type": "code",
   "execution_count": null,
   "id": "da03db49-e308-4473-a9ce-a25a0230fce3",
   "metadata": {},
   "outputs": [],
   "source": [
    "def xgb_objective(trial):\n",
    "    # Split the train data for each trial.\n",
    "    X_train, X_valid, y_train, y_valid = train_test_split(X, Y, stratify=Y, test_size=0.4)\n",
    "\n",
    "    param_grid = {\n",
    "        'max_depth': trial.suggest_int('max_depth', 4, 20), # Extremely prone to overfitting!\n",
    "        'n_estimators': trial.suggest_int('n_estimators', 2, 100, 1), # Extremely prone to overfitting!\n",
    "        'eta': trial.suggest_float('eta', 0.0007, 0.113), # Most important parameter.\n",
    "        'subsample': trial.suggest_float('subsample', 0.1, 1),\n",
    "        'colsample_bytree': trial.suggest_float('colsample_bytree', 0.1, 1),\n",
    "        'reg_lambda': trial.suggest_float('reg_lambda', 1, 40), # L2 regularization\n",
    "\n",
    "    } \n",
    "    \n",
    "    reg = xgb.XGBModel(\n",
    "        # These parameters should help with trial speed.\n",
    "        objective='binary:logistic',\n",
    "        tree_method='gpu_hist',\n",
    "        booster='gbtree',\n",
    "        predictor='gpu_predictor',\n",
    "        n_jobs=4,\n",
    "        eval_metric='auc',\n",
    "        **param_grid\n",
    "    )\n",
    "    \n",
    "    reg.fit(X_train, y_train,\n",
    "            eval_set=[(X_valid, y_valid)],\n",
    "            verbose=False)\n",
    "    \n",
    "    preds = reg.predict(X_valid)\n",
    "    fpr, tpr, _ = roc_curve(y_valid, preds)\n",
    "    roc_auc = auc(fpr, tpr)\n",
    "\n",
    "    xgb_ranks[roc_auc] = reg\n",
    "    \n",
    "    # Returns the best RMSE for the trial.\n",
    "    # Readers may want to try returning a cross validation score here.\n",
    "    print(roc_auc)\n",
    "    return roc_auc"
   ]
  },
  {
   "cell_type": "code",
   "execution_count": null,
   "id": "f89ff997-20a5-4a90-bfae-cd7d695b23f8",
   "metadata": {
    "tags": []
   },
   "outputs": [],
   "source": [
    "xgb_ranks = {}\n",
    "\n",
    "train_time = 1 * 60 * 60\n",
    "study = optuna.create_study(direction='maximize', sampler=TPESampler(), study_name='XGBRegressor')\n",
    "study.optimize(xgb_objective, timeout=train_time)\n"
   ]
  },
  {
   "cell_type": "code",
   "execution_count": null,
   "id": "071c8474-e79e-4ad8-9539-878ff646414c",
   "metadata": {},
   "outputs": [],
   "source": [
    "trial = study.best_trial"
   ]
  },
  {
   "cell_type": "code",
   "execution_count": null,
   "id": "8d4accbe-3457-4856-a0d3-0f6d3df111c6",
   "metadata": {},
   "outputs": [],
   "source": [
    "trial.params"
   ]
  },
  {
   "cell_type": "code",
   "execution_count": null,
   "id": "3d1a0d8f-9b3a-41a9-80c4-ec516977df10",
   "metadata": {},
   "outputs": [],
   "source": [
    "len(xgb_ranks.keys())"
   ]
  },
  {
   "cell_type": "code",
   "execution_count": null,
   "id": "07328102-0b70-4359-8f82-dad40f6c2f0b",
   "metadata": {
    "tags": []
   },
   "outputs": [],
   "source": [
    "xgb_ranks.keys()"
   ]
  },
  {
   "cell_type": "code",
   "execution_count": null,
   "id": "f4bb8820-4309-4ecc-9019-bda21940f027",
   "metadata": {},
   "outputs": [],
   "source": [
    "top_50 = sorted(list(xgb_ranks.keys()))[-100:]"
   ]
  },
  {
   "cell_type": "code",
   "execution_count": null,
   "id": "8c77661b-c32c-4a55-9dd2-270dd24b2733",
   "metadata": {},
   "outputs": [],
   "source": [
    "me_preds = []\n",
    "for key in top_50:\n",
    "    me_preds.append(xgb_ranks[key].predict(X_test))\n",
    "\n",
    "final_preds = np.stack(me_preds).mean(0)"
   ]
  },
  {
   "cell_type": "code",
   "execution_count": null,
   "id": "dd1d5ea0-d16f-470d-9a9a-760aed791344",
   "metadata": {},
   "outputs": [],
   "source": [
    "len(final_preds)"
   ]
  },
  {
   "cell_type": "code",
   "execution_count": null,
   "id": "26e91b5f-3408-494d-8cdf-19e118502460",
   "metadata": {},
   "outputs": [],
   "source": [
    "XGB_submission = pd.DataFrame(data={'id': test_set.id, 'stroke': final_preds})\n",
    "XGB_submission.to_csv(fr'D:\\source\\repos\\Kaggle_Tabular_Playground_Series-ML\\Jan-2023-S2\\XGB.csv', index=False)"
   ]
  },
  {
   "cell_type": "code",
   "execution_count": null,
   "id": "61771436-a9d4-4b77-b07d-301431f6bce1",
   "metadata": {},
   "outputs": [],
   "source": [
    "me_preds = []\n",
    "for key in top_50:\n",
    "    me_preds.append(xgb_ranks[key].predict(X))\n",
    "\n",
    "final_preds = np.stack(me_preds).mean(0)\n",
    "train_set['predicted_XGB_stroke'] = final_preds"
   ]
  },
  {
   "cell_type": "code",
   "execution_count": null,
   "id": "c4984670-7c7e-4f64-877f-7d6cf0be3bb2",
   "metadata": {},
   "outputs": [],
   "source": [
    "render_feature_distros(train_df=train_set, test_df=test_set, features=features, labels=['stroke', 'predicted_XGB_stroke'])"
   ]
  },
  {
   "cell_type": "code",
   "execution_count": null,
   "id": "3784ae67-d20f-4af5-9933-d722221cc4a7",
   "metadata": {},
   "outputs": [],
   "source": []
  },
  {
   "cell_type": "code",
   "execution_count": null,
   "id": "a6d38e4c-652a-4fbf-b4d9-f788870b9ef2",
   "metadata": {},
   "outputs": [],
   "source": []
  },
  {
   "cell_type": "code",
   "execution_count": null,
   "id": "c7de901b-eea9-4890-8500-d9c9595aaba4",
   "metadata": {},
   "outputs": [],
   "source": []
  },
  {
   "cell_type": "code",
   "execution_count": null,
   "id": "dc3c83e1-6a48-423c-add8-4b88af61b7bb",
   "metadata": {},
   "outputs": [],
   "source": [
    "def lgbm_objective(trial):\n",
    "    # Split the train data for each trial.\n",
    "    X_train, X_valid, y_train, y_valid = train_test_split(X, Y, stratify=Y, test_size=0.4)\n",
    "\n",
    "    param_grid = {\n",
    "        'learning_rate': trial.suggest_float('learning_rate', 0.001, 0.1),\n",
    "        'max_depth': trial.suggest_int('max_depth', 100, 1000), \n",
    "        'num_leaves': trial.suggest_int('num_leaves', 100, 10000),\n",
    "        'colsample_bytree': trial.suggest_float('colsample_bytree', 0.1, 1),\n",
    "        'subsample': trial.suggest_float('subsample', 0.1, 1),\n",
    "        'subsample_freq': trial.suggest_int('subsample_freq', 1, 10), \n",
    "        'min_child_samples': trial.suggest_int('min_child_samples', 10, 1000), \n",
    "        'reg_lambda': trial.suggest_int('reg_lambda', 1, 100), \n",
    "        'n_estimators': trial.suggest_int('n_estimators', 10, 100000), \n",
    "    } \n",
    "    \n",
    "\n",
    "    clf = lgbm.LGBMRegressor(**param_grid,\n",
    "                             metric='AUC',\n",
    "                             random_state=1)\n",
    "    \n",
    "    clf.fit(X_train, y_train, eval_set=[(X_valid, y_valid)], callbacks=[lgbm.early_stopping(100, verbose=True)],\n",
    "            verbose=False)\n",
    "    preds = clf.predict(X_valid)\n",
    "    \n",
    "    #rmse = mean_squared_error(y_val, preds, squared=False)\n",
    "    fpr, tpr, _ = roc_curve(y_valid, preds)\n",
    "    roc_auc = auc(fpr, tpr)\n",
    "\n",
    "    lgbm_ranks[roc_auc] = clf\n",
    "    \n",
    "    # Returns the best RMSE for the trial.\n",
    "    # Readers may want to try returning a cross validation score here.\n",
    "    print(roc_auc)\n",
    "    return roc_auc"
   ]
  },
  {
   "cell_type": "code",
   "execution_count": null,
   "id": "d1bc49e9-d15a-4ee4-83a2-58ad6288ea60",
   "metadata": {
    "tags": []
   },
   "outputs": [],
   "source": [
    "lgbm_ranks = {}\n",
    "\n",
    "train_time = 1 * 60 * 60\n",
    "study = optuna.create_study(direction='maximize', sampler=TPESampler(), study_name='XGBRegressor')\n",
    "study.optimize(lgbm_objective, timeout=train_time)\n",
    "\n"
   ]
  },
  {
   "cell_type": "code",
   "execution_count": null,
   "id": "6555e949-2c40-41a7-9707-19244250190e",
   "metadata": {},
   "outputs": [],
   "source": [
    "print('Number of finished trials: ', len(study.trials))\n",
    "print('Best trial:')\n",
    "trial = study.best_trial\n",
    "\n",
    "\n",
    "print('\\tValue: {}'.format(trial.value))\n",
    "print('\\tParams: ')\n",
    "for key, value in trial.params.items():\n",
    "    print('\\t\\t{}: {}'.format(key, value))"
   ]
  },
  {
   "cell_type": "code",
   "execution_count": null,
   "id": "45246725-14cf-4c2a-b867-709a585275f7",
   "metadata": {},
   "outputs": [],
   "source": [
    "len(lgbm_ranks.keys())"
   ]
  },
  {
   "cell_type": "code",
   "execution_count": null,
   "id": "ec8b2f14-37b8-4fec-9a0f-02acd78ee4e2",
   "metadata": {
    "tags": []
   },
   "outputs": [],
   "source": [
    "top_50 = sorted(list(lgbm_ranks.keys()))[-100:]\n",
    "top_50"
   ]
  },
  {
   "cell_type": "code",
   "execution_count": null,
   "id": "d69e4cca-d979-4d8b-8816-0ec8c732b0f0",
   "metadata": {},
   "outputs": [],
   "source": [
    "me_preds = []\n",
    "for key in top_50:\n",
    "    me_preds.append(lgbm_ranks[key].predict(X_test))\n",
    "\n",
    "final_preds = np.stack(me_preds).mean(0)"
   ]
  },
  {
   "cell_type": "code",
   "execution_count": null,
   "id": "ef289873-ba1c-47d0-8ac4-505ed6d933e0",
   "metadata": {},
   "outputs": [],
   "source": [
    "LGBM_submission = pd.DataFrame(data={'id': test_set.id, 'stroke': final_preds})\n",
    "LGBM_submission.to_csv(fr'D:\\source\\repos\\Kaggle_Tabular_Playground_Series-ML\\Jan-2023-S2\\LGBM.csv', index=False)"
   ]
  },
  {
   "cell_type": "code",
   "execution_count": null,
   "id": "0ab588b0-7665-4308-860c-0175fd7a6a59",
   "metadata": {},
   "outputs": [],
   "source": [
    "me_preds = []\n",
    "for key in top_50:\n",
    "    me_preds.append(lgbm_ranks[key].predict(X))\n",
    "\n",
    "final_preds = np.stack(me_preds).mean(0)"
   ]
  },
  {
   "cell_type": "code",
   "execution_count": null,
   "id": "d9296a7d-41ec-4b0c-ab72-9c6c311649a4",
   "metadata": {},
   "outputs": [],
   "source": [
    "train_set['predicted_LGBM_stroke'] = final_preds"
   ]
  },
  {
   "cell_type": "code",
   "execution_count": null,
   "id": "1ffda193-4b48-438a-b939-5db06e67ba9e",
   "metadata": {},
   "outputs": [],
   "source": [
    "import math\n",
    "\n",
    "n_bins = 50\n",
    "histplot_hyperparams = {\n",
    "    'kde':True,\n",
    "    'alpha':0.4,\n",
    "    'stat':'percent',\n",
    "    'bins':n_bins\n",
    "}\n",
    "\n",
    "n_cols = 4\n",
    "n_rows = math.ceil(len(features) / n_cols)\n",
    "cell_with_dim = 4\n",
    "cell_height_dim = 3\n",
    "\n",
    "fig, ax = plt.subplots(n_rows, n_cols, figsize=(n_cols * cell_with_dim, n_rows * cell_height_dim))\n",
    "\n",
    "plt.tight_layout(pad=2, h_pad=4, w_pad=None, rect=None)\n",
    "plt.style.use(\"cyberpunk\")\n",
    "\n",
    "for a in ax[n_rows - 1, int(((n_rows - (len(features) / n_cols)) * n_cols*-1)):]:\n",
    "    a.axis('off')\n",
    "\n",
    "handles = []\n",
    "labels = []\n",
    "    \n",
    "for i, feature in enumerate(features):\n",
    "    row = math.ceil(i / n_cols) - 1\n",
    "    col = (i % n_cols)\n",
    "    sns.histplot(train_set[feature], label='Train X', ax=ax[row, col], **histplot_hyperparams)\n",
    "    sns.histplot(test_set[feature], label='Test X', ax=ax[row, col], **histplot_hyperparams)\n",
    "    ax[row, col].set_title(f'{feature} Distribution');\n",
    "    ax2 = add_secondary_plot(train_set, feature, target[0], ax[row, col], n_bins, color = list(mplcyberpunk.cyberpunk_stylesheets['cyberpunk']['axes.prop_cycle'])[2]['color'], marker='.')\n",
    "    ax3 = add_secondary_plot(train_set, feature, 'predicted_XGB_stroke', ax[row, col], n_bins, color = list(mplcyberpunk.cyberpunk_stylesheets['cyberpunk']['axes.prop_cycle'])[3]['color'], marker='+')\n",
    "    ax4 = add_secondary_plot(train_set, feature, 'predicted_LGBM_stroke', ax[row, col], n_bins, color = list(mplcyberpunk.cyberpunk_stylesheets['cyberpunk']['axes.prop_cycle'])[4]['color'], marker='x')\n",
    "    mplcyberpunk.make_lines_glow(ax[row, col])\n",
    "    \n",
    "    obj = ax[row, col].get_legend_handles_labels()\n",
    "    if obj[1][0] not in labels: \n",
    "        labels.extend(obj[1])\n",
    "        handles.extend(obj[0])\n",
    "    \n",
    "    obj = ax2.get_legend_handles_labels()\n",
    "\n",
    "    if obj[1][0] not in labels: \n",
    "        labels.extend(obj[1])\n",
    "        handles.extend(obj[0])\n",
    "        \n",
    "    obj = ax3.get_legend_handles_labels()\n",
    "\n",
    "    if obj[1][0] not in labels: \n",
    "        labels.extend(obj[1])\n",
    "        handles.extend(obj[0])\n",
    "    \n",
    "    obj = ax4.get_legend_handles_labels()\n",
    "\n",
    "    if obj[1][0] not in labels: \n",
    "        labels.extend(obj[1])\n",
    "        handles.extend(obj[0])\n",
    "\n",
    "fig.legend(handles, labels, loc='upper center', bbox_to_anchor=(0.5, 1.04), fontsize=14, ncol=5)"
   ]
  },
  {
   "cell_type": "code",
   "execution_count": null,
   "id": "0e2db18e-18d4-4f02-907a-3f6e51204df6",
   "metadata": {},
   "outputs": [],
   "source": []
  },
  {
   "cell_type": "code",
   "execution_count": null,
   "id": "059d680e-9a11-44bc-ad78-cf99a7d329d5",
   "metadata": {},
   "outputs": [],
   "source": [
    "def cat_objective(trial):\n",
    "    # Split the train data for each trial.\n",
    "    X_train, X_valid, y_train, y_valid = train_test_split(X, Y, stratify=Y, test_size=0.4)\n",
    "\n",
    "    param_grid = {\n",
    "        'depth': trial.suggest_int('depth', 1, 10),\n",
    "        'learning_rate': trial.suggest_float('learning_rate', 0.001, 0.1),\n",
    "        #'rsm': trial.suggest_float('rsm', 0.001, 0.9),\n",
    "        'subsample': trial.suggest_float('subsample', 0.1, 1),\n",
    "        'min_data_in_leaf': trial.suggest_int('min_data_in_leaf', 1, 100), \n",
    "        'l2_leaf_reg': trial.suggest_int('l2_leaf_reg', 1, 20),\n",
    "        'random_strength': trial.suggest_float('random_strength', 0.001, 0.9),\n",
    "    } \n",
    "    \n",
    "\n",
    "    clf = CatBoostRegressor(iterations=20000,\n",
    "                            **param_grid,\n",
    "                            bootstrap_type='Bernoulli',\n",
    "                            grow_policy='SymmetricTree',\n",
    "                            #loss_function='Logloss',\n",
    "                            eval_metric='AUC',\n",
    "                            task_type=\"GPU\",\n",
    "                            random_state=1,)\n",
    "    \n",
    "    clf.fit(X_train, y_train, eval_set=(X_valid, y_valid), early_stopping_rounds=100, verbose=1000)\n",
    "    preds = clf.predict(X_valid)\n",
    "    \n",
    "    #rmse = mean_squared_error(y_val, preds, squared=False)\n",
    "    fpr, tpr, _ = roc_curve(y_valid, preds)\n",
    "    roc_auc = auc(fpr, tpr)\n",
    "\n",
    "    cat_ranks[roc_auc] = clf\n",
    "    \n",
    "    # Returns the best RMSE for the trial.\n",
    "    # Readers may want to try returning a cross validation score here.\n",
    "    print(roc_auc)\n",
    "    return roc_auc"
   ]
  },
  {
   "cell_type": "code",
   "execution_count": null,
   "id": "03348fde-68fe-4552-9fc6-19bccd9f63f1",
   "metadata": {
    "tags": []
   },
   "outputs": [],
   "source": [
    "cat_ranks = {}\n",
    "\n",
    "train_time = 1 * 60 * 60\n",
    "study = optuna.create_study(direction='maximize', sampler=TPESampler(), study_name='XGBRegressor')\n",
    "study.optimize(cat_objective, timeout=train_time)\n",
    "\n"
   ]
  },
  {
   "cell_type": "code",
   "execution_count": null,
   "id": "1b5363e8-35b4-4d31-998c-b561de08fcb8",
   "metadata": {},
   "outputs": [],
   "source": [
    "print('Number of finished trials: ', len(study.trials))\n",
    "print('Best trial:')\n",
    "trial = study.best_trial\n",
    "\n",
    "print('\\tValue: {}'.format(trial.value))\n",
    "print('\\tParams: ')\n",
    "for key, value in trial.params.items():\n",
    "    print('\\t\\t{}: {}'.format(key, value))"
   ]
  },
  {
   "cell_type": "code",
   "execution_count": null,
   "id": "74ede1e7-e00e-495c-a6d8-49c0ddde6df8",
   "metadata": {},
   "outputs": [],
   "source": [
    "trial.params"
   ]
  },
  {
   "cell_type": "code",
   "execution_count": null,
   "id": "147cb460-0c6b-49bd-b96e-d78f1067df19",
   "metadata": {},
   "outputs": [],
   "source": [
    "len(cat_ranks.keys())"
   ]
  },
  {
   "cell_type": "code",
   "execution_count": null,
   "id": "89c3f8c8-c5eb-4f1c-96c9-4feae962fac2",
   "metadata": {
    "tags": []
   },
   "outputs": [],
   "source": [
    "top_50 = sorted(list(cat_ranks.keys()))[-100:]\n",
    "top_50"
   ]
  },
  {
   "cell_type": "code",
   "execution_count": null,
   "id": "3c8fab02-807d-40fa-86b6-f9cadc7a0621",
   "metadata": {},
   "outputs": [],
   "source": [
    "me_preds = []\n",
    "for key in top_50:\n",
    "    me_preds.append(cat_ranks[key].predict(X_test))\n",
    "\n",
    "final_preds = np.stack(me_preds).mean(0)"
   ]
  },
  {
   "cell_type": "code",
   "execution_count": null,
   "id": "da4039de-553a-4845-82fd-b3035b516ef1",
   "metadata": {},
   "outputs": [],
   "source": [
    "cat_submission = pd.DataFrame(data={'id': test_set.id, 'stroke': final_preds})\n",
    "cat_submission.to_csv(fr'D:\\source\\repos\\Kaggle_Tabular_Playground_Series-ML\\Jan-2023-S2\\CAT.csv', index=False)"
   ]
  },
  {
   "cell_type": "code",
   "execution_count": null,
   "id": "89cbcd39-df79-402e-bdbd-97fb36df1c44",
   "metadata": {},
   "outputs": [],
   "source": [
    "me_preds = []\n",
    "for key in top_50:\n",
    "    me_preds.append(cat_ranks[key].predict(X))\n",
    "\n",
    "final_preds = np.stack(me_preds).mean(0)\n",
    "train_set['predicted_CAT_stroke'] = final_preds"
   ]
  },
  {
   "cell_type": "code",
   "execution_count": null,
   "id": "9effe644-76b5-4333-8f7b-e6a90422dc9d",
   "metadata": {},
   "outputs": [],
   "source": [
    "render_feature_distros(train_df=train_set, test_df=test_set, features=features, labels=['stroke', 'predicted_CAT_stroke'])"
   ]
  },
  {
   "cell_type": "code",
   "execution_count": null,
   "id": "b20655f3-f7b9-4afd-b891-01cd21f880ca",
   "metadata": {},
   "outputs": [],
   "source": [
    "train_set.to_csv('oof_set.csv')"
   ]
  },
  {
   "cell_type": "code",
   "execution_count": null,
   "id": "d72fd59c-d63f-42bc-8657-703310ea7e89",
   "metadata": {},
   "outputs": [],
   "source": [
    "render_feature_distros(train_df=train_set, test_df=test_set, features=features, labels=['stroke', 'predicted_CAT_stroke'])"
   ]
  },
  {
   "cell_type": "code",
   "execution_count": null,
   "id": "027c1b5e-c0c1-4808-bbe7-2f4addb998d7",
   "metadata": {},
   "outputs": [],
   "source": [
    "combos = []\n",
    "for x in range(100):\n",
    "    for y in range(100):\n",
    "        if x + y < 100:\n",
    "            z = 100 - x - y\n",
    "            combos.append([x, y, z])\n",
    "combos = np.array(combos) * ([[0.01]*3]*len(combos))\n",
    "len(combos)"
   ]
  },
  {
   "cell_type": "code",
   "execution_count": null,
   "id": "10104a81-f1f1-486c-ba58-7ec17415683b",
   "metadata": {},
   "outputs": [],
   "source": [
    "combos[0:20]"
   ]
  },
  {
   "cell_type": "code",
   "execution_count": null,
   "id": "01ca9028-252a-466e-bbb5-c06a13a8a0bb",
   "metadata": {},
   "outputs": [],
   "source": [
    "def roc_auc_score(y_valid, preds):\n",
    "    fpr, tpr, _ = roc_curve(y_valid, preds)\n",
    "    roc_auc = auc(fpr, tpr)\n",
    "    return roc_auc"
   ]
  },
  {
   "cell_type": "code",
   "execution_count": null,
   "id": "5e73e853-a23a-4b56-91e3-6d29cb632ca6",
   "metadata": {},
   "outputs": [],
   "source": [
    "coefficients = combos\n",
    "best_score = 0\n",
    "best_coefficients_index = 0\n",
    "\n",
    "for index, (a, b, c) in tqdm(enumerate(coefficients)):\n",
    "    score = roc_auc_score(train_set[\"stroke\"], (a * train_set['predicted_XGB_stroke']) + (b * train_set['predicted_LGBM_stroke']) + (c * train_set['predicted_CAT_stroke']))\n",
    "    if score > best_score:\n",
    "        best_score = score\n",
    "        best_coefficients_index = index"
   ]
  },
  {
   "cell_type": "code",
   "execution_count": null,
   "id": "ef4c58f0-5280-40c9-ba50-72e7f73c74ff",
   "metadata": {},
   "outputs": [],
   "source": [
    "combos[best_coefficients_index]"
   ]
  },
  {
   "cell_type": "code",
   "execution_count": null,
   "id": "4368ce27-d471-42dd-af31-18a39040a163",
   "metadata": {},
   "outputs": [],
   "source": [
    "coef = combos[best_coefficients_index]\n",
    "final_test_preds = XGB_submission['stroke']*coef[0] + LGBM_submission['stroke']*coef[1] + cat_submission['stroke']*coef[2]\n",
    "final_submission = pd.DataFrame(data={'id': test_set.id, 'stroke': final_test_preds})\n",
    "final_submission.to_csv(fr'D:\\source\\repos\\Kaggle_Tabular_Playground_Series-ML\\Jan-2023-S2\\final_submission.csv', index=False)"
   ]
  },
  {
   "cell_type": "code",
   "execution_count": null,
   "id": "1c5cdf35-2328-441f-86bf-2586dd5ec206",
   "metadata": {},
   "outputs": [],
   "source": []
  },
  {
   "cell_type": "raw",
   "id": "e5d3e356-561d-499f-a35b-eaa92245aeca",
   "metadata": {
    "jupyter": {
     "outputs_hidden": true
    },
    "tags": []
   },
   "source": [
    "kf = KFold(n_splits=10, random_state=1, shuffle=True)\n",
    "clfs = []\n",
    "err = []\n",
    "\n",
    "for i, (train_index, val_index) in enumerate(kf.split(train_set)):\n",
    "    X_train, X_val = train_scaled[train_index, :], train_scaled[val_index, :]\n",
    "    y_train, y_val = train_set['stroke'][train_index], train_set['stroke'][val_index]\n",
    "\n",
    "    param_grid = trial.params\n",
    "\n",
    "    reg = xgb.XGBModel(\n",
    "        # These parameters should help with trial speed.\n",
    "        objective='binary:logistic',\n",
    "        tree_method='gpu_hist',\n",
    "        booster='gbtree',\n",
    "        predictor='gpu_predictor',\n",
    "        n_jobs=4,\n",
    "        eval_metric='auc',\n",
    "        **param_grid\n",
    "    )\n",
    "\n",
    "    reg.fit(X_train, y_train,\n",
    "            eval_set=[(X_val, y_val)],\n",
    "            verbose=False)\n",
    "\n",
    "    preds = reg.predict(X_val)\n",
    "    fpr, tpr, _ = roc_curve(y_val, preds)\n",
    "    roc_auc = auc(fpr, tpr)\n",
    "    \n",
    "    err.append(roc_auc)\n",
    "    clfs.append(clf)\n",
    "    print(f'roc on fold {i}: {roc_auc}')\n",
    "    \n",
    "print(f'Average ROC (five fold): {sum(err)/10}')"
   ]
  },
  {
   "cell_type": "raw",
   "id": "f29a8894-920c-442e-9240-0269fde66ddf",
   "metadata": {
    "papermill": {
     "duration": 3.449616,
     "end_time": "2023-01-06T09:53:42.890209",
     "exception": false,
     "start_time": "2023-01-06T09:53:39.440593",
     "status": "completed"
    },
    "tags": []
   },
   "source": [
    "#kf = KFold(n_splits=10, random_state=1, shuffle=True)\n",
    "#clfs = []\n",
    "#err = []\n",
    "\n",
    "#for i, (train_index, val_index) in enumerate(kf.split(train_set)):\n",
    "#    X_train, X_val = train_scaled[train_index, :], train_scaled[val_index, :]\n",
    "#    y_train, y_val = train_set['stroke'][train_index], train_set['stroke'][val_index]\n",
    "    \n",
    "#    clf = XGBRegressor(n_estimators=10,\n",
    "#                       max_depth=3,\n",
    "#                       colsample_bytree=0.9,\n",
    "#                       subsample=1,\n",
    "#                       reg_lambda=20,\n",
    "#                       tree_method='gpu_hist',\n",
    "#                       seed=1)\n",
    "#    clf.fit(X_train, y_train)\n",
    "#    preds = clf.predict(X_val)\n",
    "    \n",
    "#    fpr, tpr, _ = roc_curve(y_val, preds)\n",
    "#    roc_auc = auc(fpr, tpr)\n",
    "    #rmse = mean_squared_error(y_val, preds, squared=False)\n",
    "#    err.append(roc_auc)\n",
    "#    clfs.append(clf)\n",
    "#    print(f'roc on fold {i}: {roc_auc}')\n",
    "\n",
    "#print(f'Average RMSE (five fold): {sum(err)/10}')"
   ]
  },
  {
   "cell_type": "raw",
   "id": "b4b399b6-dede-4b3c-bb45-b016af1bd38a",
   "metadata": {
    "jupyter": {
     "outputs_hidden": true
    },
    "papermill": {
     "duration": 327.727236,
     "end_time": "2023-01-06T10:03:32.509189",
     "exception": false,
     "start_time": "2023-01-06T09:58:04.781953",
     "status": "completed"
    },
    "tags": []
   },
   "source": [
    "kf = KFold(n_splits=10, random_state=1, shuffle=True)\n",
    "err = []\n",
    "\n",
    "for i, (train_index, val_index) in enumerate(kf.split(train_set)):\n",
    "    X_train, X_val = train_scaled[train_index, :], train_scaled[val_index, :]\n",
    "    y_train, y_val = train_set['stroke'][train_index], train_set['stroke'][val_index]\n",
    "    \n",
    "    clf = lgbm.LGBMRegressor(learning_rate=0.01,\n",
    "                             max_depth=900,\n",
    "                             num_leaves=9000,\n",
    "                             colsample_bytree=0.8,\n",
    "                             subsample=0.9,\n",
    "                             subsample_freq=5,\n",
    "                             min_child_samples=360,\n",
    "                             reg_lambda=28,\n",
    "                             n_estimators=20000,\n",
    "                             metric='AUC',\n",
    "                             random_state=1)\n",
    "    \n",
    "    clf.fit(X_train, y_train, eval_set=[(X_val, y_val)], callbacks=[lgbm.early_stopping(100, verbose=True)])\n",
    "    preds = clf.predict(X_val)\n",
    "    \n",
    "    #rmse = mean_squared_error(y_val, preds, squared=False)\n",
    "    fpr, tpr, _ = roc_curve(y_val, preds)\n",
    "    roc_auc = auc(fpr, tpr)\n",
    "    err.append(roc_auc)\n",
    "    clfs.append(clf)\n",
    "    print(f'roc_auc on fold {i}: {roc_auc}')\n",
    "    print('-'*50)\n",
    "\n",
    "print(f'Average roc_auc (five fold): {sum(err)/10}')"
   ]
  },
  {
   "cell_type": "code",
   "execution_count": null,
   "id": "0e3e8e35-4d9b-4e8b-ba82-fb5c12855428",
   "metadata": {},
   "outputs": [],
   "source": []
  },
  {
   "cell_type": "raw",
   "id": "098fbd39-e5ff-404e-a131-0b21aca0440d",
   "metadata": {
    "papermill": {
     "duration": 2855.778166,
     "end_time": "2023-01-06T10:51:08.315864",
     "exception": false,
     "start_time": "2023-01-06T10:03:32.537698",
     "status": "completed"
    },
    "tags": []
   },
   "source": [
    "kf = KFold(n_splits=10, random_state=1, shuffle=True)\n",
    "err = []\n",
    "\n",
    "for i, (train_index, val_index) in enumerate(kf.split(train_set)):\n",
    "    X_train, X_val = train_scaled[train_index, :], train_scaled[val_index, :]\n",
    "    y_train, y_val = train_set['stroke'][train_index], train_set['stroke'][val_index]\n",
    "    \n",
    "    clf = CatBoostRegressor(iterations=20000,\n",
    "                            depth=9,\n",
    "                            learning_rate=0.01,\n",
    "                            rsm=0.88,\n",
    "                            subsample=0.795,\n",
    "                            min_data_in_leaf=35,\n",
    "                            l2_leaf_reg=8,\n",
    "                            random_strength=0.63,\n",
    "                            bootstrap_type='Bernoulli',\n",
    "                            grow_policy='SymmetricTree',\n",
    "                            #loss_function='Logloss',\n",
    "                            eval_metric='AUC',\n",
    "                            task_type=\"CPU\",\n",
    "                            random_state=1,)\n",
    "    \n",
    "    clf.fit(X_train, y_train, eval_set=(X_val, y_val), early_stopping_rounds=100, verbose=1000)\n",
    "    preds = clf.predict(X_val)\n",
    "    \n",
    "    #rmse = mean_squared_error(y_val, preds, squared=False)\n",
    "    fpr, tpr, _ = roc_curve(y_val, preds)\n",
    "    roc_auc = auc(fpr, tpr)\n",
    "    err.append(roc_auc)\n",
    "    clfs.append(clf)\n",
    "    print(f'roc_auc on fold {i}: {roc_auc}')\n",
    "    print('-'*50)\n",
    "\n",
    "print(f'Average roc_auc (five fold): {sum(err)/10}')"
   ]
  },
  {
   "cell_type": "raw",
   "id": "d132efe1-babb-4c83-a19b-df37d359d2c8",
   "metadata": {},
   "source": [
    "len(clfs)"
   ]
  },
  {
   "cell_type": "raw",
   "id": "7bf0b198-01e8-41f3-a9c1-fe97bd8ddf9a",
   "metadata": {
    "papermill": {
     "duration": 0.029411,
     "end_time": "2023-01-06T10:51:08.376077",
     "exception": false,
     "start_time": "2023-01-06T10:51:08.346666",
     "status": "completed"
    },
    "tags": []
   },
   "source": [
    "## feature importance"
   ]
  },
  {
   "cell_type": "raw",
   "id": "65aa7dba-254a-47ba-8eb3-516bd6732c02",
   "metadata": {
    "papermill": {
     "duration": 0.468963,
     "end_time": "2023-01-06T10:51:08.874161",
     "exception": false,
     "start_time": "2023-01-06T10:51:08.405198",
     "status": "completed"
    },
    "tags": []
   },
   "source": [
    "imp = np.zeros(11)\n",
    "for clf in clfs[:10]:\n",
    "    imp+= clf.feature_importances_\n",
    "    \n",
    "print('----------------------------XGBoost----------------------------')\n",
    "plt.barh([features[i] for i in np.argsort(imp/10)], sorted(imp/10))\n",
    "plt.show()"
   ]
  },
  {
   "cell_type": "raw",
   "id": "bbf911b9-f5df-4ba1-9ad0-dfc739b7bb34",
   "metadata": {
    "papermill": {
     "duration": 0.324216,
     "end_time": "2023-01-06T10:51:09.230079",
     "exception": false,
     "start_time": "2023-01-06T10:51:08.905863",
     "status": "completed"
    },
    "tags": []
   },
   "source": [
    "imp = np.zeros(11)\n",
    "for clf in clfs[10:20]:\n",
    "    imp+= clf.feature_importances_\n",
    "    \n",
    "print('----------------------------LGBM----------------------------')\n",
    "plt.barh([features[i] for i in np.argsort(imp/10)], sorted(imp/10))\n",
    "plt.show()"
   ]
  },
  {
   "cell_type": "raw",
   "id": "3826601d-75e1-471e-85c0-852aa308d5f8",
   "metadata": {
    "papermill": {
     "duration": 0.312435,
     "end_time": "2023-01-06T10:51:09.574406",
     "exception": false,
     "start_time": "2023-01-06T10:51:09.261971",
     "status": "completed"
    },
    "tags": []
   },
   "source": [
    "imp = np.zeros(11)\n",
    "for clf in clfs[20:30]:\n",
    "    imp+= clf.feature_importances_\n",
    "    \n",
    "print('----------------------------CatBoost----------------------------')\n",
    "plt.barh([features[i] for i in np.argsort(imp/10)], sorted(imp/10))\n",
    "plt.show()"
   ]
  },
  {
   "cell_type": "raw",
   "id": "a8e4e9ee-5daf-4191-b42b-50c09ff467da",
   "metadata": {
    "papermill": {
     "duration": 0.031978,
     "end_time": "2023-01-06T10:51:09.638931",
     "exception": false,
     "start_time": "2023-01-06T10:51:09.606953",
     "status": "completed"
    },
    "tags": []
   },
   "source": [
    "# Making submission"
   ]
  },
  {
   "cell_type": "raw",
   "id": "24a44820-0055-42ce-8152-28af30579460",
   "metadata": {
    "papermill": {
     "duration": 97.033305,
     "end_time": "2023-01-06T10:52:46.704014",
     "exception": false,
     "start_time": "2023-01-06T10:51:09.670709",
     "status": "completed"
    },
    "tags": []
   },
   "source": [
    "test_preds1 = []\n",
    "test_preds2 = []\n",
    "test_preds3 = []\n",
    "\n",
    "for clf in clfs[:10]:\n",
    "    preds = clf.predict(test_scaled)\n",
    "    test_preds1.append(preds)\n",
    "    \n",
    "for clf in clfs[10:20]:\n",
    "    preds = clf.predict(test_scaled)\n",
    "    test_preds2.append(preds)\n",
    "    \n",
    "for clf in clfs[20:30]:\n",
    "    preds = clf.predict(test_scaled)\n",
    "    test_preds3.append(preds)"
   ]
  },
  {
   "cell_type": "raw",
   "id": "e1cb5764-abb9-45b1-aa47-3139599157a1",
   "metadata": {},
   "source": [
    "clfs[:5]"
   ]
  },
  {
   "cell_type": "raw",
   "id": "80d00f62-5703-4395-bbe9-45250c22846a",
   "metadata": {},
   "source": [
    "test_preds3"
   ]
  },
  {
   "cell_type": "raw",
   "id": "a3b5ba92-ba60-4407-983b-2144f1d6c822",
   "metadata": {
    "papermill": {
     "duration": 0.058581,
     "end_time": "2023-01-06T10:52:46.810808",
     "exception": false,
     "start_time": "2023-01-06T10:52:46.752227",
     "status": "completed"
    },
    "tags": []
   },
   "source": [
    "test_preds1 = np.stack(test_preds1).mean(0)\n",
    "test_preds2 = np.stack(test_preds2).mean(0)\n",
    "test_preds3 = np.stack(test_preds3).mean(0)"
   ]
  },
  {
   "cell_type": "raw",
   "id": "5094e89c-3043-46be-8c40-8cadca87f918",
   "metadata": {},
   "source": [
    "attempts = [\n",
    "    [0.2, 0.6, 0.2],\n",
    "    [0.6, 0.2, 0.6],\n",
    "    [0.3, 0.3, 0.4],\n",
    "    [0.3, 0.4, 0.3],\n",
    "    [0.5, 0.3, 0.2]\n",
    "]"
   ]
  },
  {
   "cell_type": "raw",
   "id": "94976d07-8af3-4af7-9c9e-673c559f74cf",
   "metadata": {},
   "source": [
    "attempts = [\n",
    "    [0.6, 0.3, 0.1],\n",
    "    [0.7, 0.2, 0.1],\n",
    "    [0.7, 0.1, 0.2],\n",
    "    [0.6, 0.2, 0.2],\n",
    "    [0.6, 0.1, 0.3]\n",
    "]"
   ]
  },
  {
   "cell_type": "raw",
   "id": "85957d68-96ac-43a1-b6ac-8b8d1cbcc913",
   "metadata": {},
   "source": [
    "attempts = [\n",
    "    [0.6, 0.25, 0.15],\n",
    "    [0.6, 0.2, 0.2],\n",
    "    [0.6, 0.15, 0.25],\n",
    "    [0.65, 0.15, 0.2],\n",
    "    [0.65, 0.1, 0.25]\n",
    "]"
   ]
  },
  {
   "cell_type": "raw",
   "id": "58399d28-d75c-487e-9815-190b14f68545",
   "metadata": {},
   "source": []
  },
  {
   "cell_type": "raw",
   "id": "f28ddc2a-edfa-454d-8b1f-5522ecb61d7b",
   "metadata": {},
   "source": []
  },
  {
   "cell_type": "raw",
   "id": "641c0124-bf4d-4c38-b77b-d4b6f0f14748",
   "metadata": {},
   "source": [
    "for i, row in enumerate(attempts):\n",
    "    test_preds = test_preds1*row[0] + test_preds2*row[1] + test_preds3*row[2]\n",
    "    submission = pd.DataFrame(data={'id': test_set.id, 'MedHouseVal': test_preds})\n",
    "    submission.to_csv(f'submission{i}.csv', index=False)"
   ]
  },
  {
   "cell_type": "raw",
   "id": "70a99ffa-c7ed-458d-845e-6627f891f253",
   "metadata": {
    "papermill": {
     "duration": 0.054441,
     "end_time": "2023-01-06T10:52:46.911240",
     "exception": false,
     "start_time": "2023-01-06T10:52:46.856799",
     "status": "completed"
    },
    "tags": []
   },
   "source": [
    "test_preds = test_preds1*0.60 + test_preds2*0.00 + test_preds3*0.40\n",
    "submission = pd.DataFrame(data={'id': test_set.id, 'stroke': test_preds})\n",
    "submission.to_csv(fr'D:\\source\\repos\\Kaggle_Tabular_Playground_Series-ML\\Jan-2023-S2\\submission.csv', index=False)"
   ]
  },
  {
   "cell_type": "raw",
   "id": "80af3a08-5a90-49a3-9068-52004f441f51",
   "metadata": {},
   "source": [
    "submission.describe()"
   ]
  },
  {
   "cell_type": "raw",
   "id": "ec61ef5f-2f79-4139-adf1-35c618e288e4",
   "metadata": {
    "papermill": {
     "duration": 0.06589,
     "end_time": "2023-01-06T10:52:47.022884",
     "exception": false,
     "start_time": "2023-01-06T10:52:46.956994",
     "status": "completed"
    },
    "tags": []
   },
   "source": [
    "submission = pd.DataFrame(data={'id': test_set.id, 'MedHouseVal': test_preds})\n",
    "submission.head()"
   ]
  },
  {
   "cell_type": "raw",
   "id": "54f19be1-00e2-47af-b761-d7ac3a570766",
   "metadata": {
    "papermill": {
     "duration": 0.148129,
     "end_time": "2023-01-06T10:52:47.219044",
     "exception": false,
     "start_time": "2023-01-06T10:52:47.070915",
     "status": "completed"
    },
    "tags": []
   },
   "source": [
    "submission.to_csv('submission.csv', index=False)"
   ]
  },
  {
   "cell_type": "raw",
   "id": "ab70af48-a750-4f81-857d-78cdd8962854",
   "metadata": {
    "papermill": {
     "duration": 0.04982,
     "end_time": "2023-01-06T10:52:47.320905",
     "exception": false,
     "start_time": "2023-01-06T10:52:47.271085",
     "status": "completed"
    },
    "tags": []
   },
   "source": [
    "**If you found this notebook useful, please upvote!**  \n",
    "**Thank you!**🙏"
   ]
  },
  {
   "cell_type": "raw",
   "id": "5fff63dc-04ff-44ab-8be1-4e6db99a9d46",
   "metadata": {
    "papermill": {
     "duration": 0.033353,
     "end_time": "2023-01-06T10:52:47.406008",
     "exception": false,
     "start_time": "2023-01-06T10:52:47.372655",
     "status": "completed"
    },
    "tags": []
   },
   "source": []
  },
  {
   "cell_type": "code",
   "execution_count": null,
   "id": "f079e873-cf92-4939-858a-921e6b242db0",
   "metadata": {},
   "outputs": [],
   "source": []
  },
  {
   "cell_type": "code",
   "execution_count": null,
   "id": "9fa84475-c1ce-4d1e-9c39-c273cdc258ea",
   "metadata": {},
   "outputs": [],
   "source": []
  }
 ],
 "metadata": {
  "kernelspec": {
   "display_name": "Python 3 (ipykernel)",
   "language": "python",
   "name": "python3"
  },
  "language_info": {
   "codemirror_mode": {
    "name": "ipython",
    "version": 3
   },
   "file_extension": ".py",
   "mimetype": "text/x-python",
   "name": "python",
   "nbconvert_exporter": "python",
   "pygments_lexer": "ipython3",
   "version": "3.10.9"
  },
  "papermill": {
   "default_parameters": {},
   "duration": 3638.009465,
   "end_time": "2023-01-06T10:52:50.717117",
   "environment_variables": {},
   "exception": null,
   "input_path": "__notebook__.ipynb",
   "output_path": "__notebook__.ipynb",
   "parameters": {},
   "start_time": "2023-01-06T09:52:12.707652",
   "version": "2.3.4"
  }
 },
 "nbformat": 4,
 "nbformat_minor": 5
}
