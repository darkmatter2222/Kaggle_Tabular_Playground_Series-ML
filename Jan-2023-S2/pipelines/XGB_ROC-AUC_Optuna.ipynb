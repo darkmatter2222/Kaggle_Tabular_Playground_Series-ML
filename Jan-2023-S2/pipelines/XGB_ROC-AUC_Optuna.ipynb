{
 "cells": [
  {
   "cell_type": "code",
   "execution_count": 1,
   "id": "936b5758-0b17-4f59-bdfa-beb3ee47a143",
   "metadata": {},
   "outputs": [],
   "source": [
    "import numpy as np\n",
    "import pandas as pd\n",
    "import math\n",
    "import sys, os\n",
    "#import seaborn as sns\n",
    "#from scipy import stats\n",
    "#from pathlib import Path\n",
    "#import matplotlib.pyplot as plt\n",
    "#from sklearn.model_selection import KFold\n",
    "from sklearn.preprocessing import MinMaxScaler\n",
    "from sklearn.model_selection import train_test_split\n",
    "#from sklearn.metrics import mean_squared_error\n",
    "#from sklearn.metrics import mean_squared_error\n",
    "#from sklearn.preprocessing import MinMaxScaler\n",
    "#from sklearn.datasets import fetch_california_housing\n",
    "#import math\n",
    "from tqdm import tqdm\n",
    "from sklearn.feature_extraction.text import CountVectorizer\n",
    "import optuna\n",
    "from optuna.samplers import TPESampler\n",
    "#import lightgbm as lgbm\n",
    "#from xgboost import XGBRegressor\n",
    "import xgboost as xgb\n",
    "#from catboost import CatBoostRegressor\n",
    "#from lightgbm.sklearn import LGBMRegressor\n",
    "#from sklearn.ensemble import RandomForestRegressor\n",
    "import pickle\n",
    "from sklearn.metrics import roc_curve, auc"
   ]
  },
  {
   "cell_type": "code",
   "execution_count": 2,
   "id": "30af7575-c694-4420-81e3-8f4608abc789",
   "metadata": {},
   "outputs": [],
   "source": [
    "sys.path.append(os.path.realpath('..'))"
   ]
  },
  {
   "cell_type": "code",
   "execution_count": 3,
   "id": "1ae92e2f-1d42-4d7f-953e-6cb3b5eb9e0e",
   "metadata": {},
   "outputs": [],
   "source": [
    "train_df = pd.read_csv(r\"D:\\source\\repos\\Kaggle_Tabular_Playground_Series-ML\\Jan-2023-S2\\data\\train.csv\")\n",
    "test_df = pd.read_csv(r\"D:\\source\\repos\\Kaggle_Tabular_Playground_Series-ML\\Jan-2023-S2\\data\\test.csv\")\n",
    "sample_sub = pd.read_csv(r\"D:\\source\\repos\\Kaggle_Tabular_Playground_Series-ML\\Jan-2023-S2\\data\\sample_submission.csv\")"
   ]
  },
  {
   "cell_type": "code",
   "execution_count": 4,
   "id": "bcc257a3-0717-47f3-911a-40404ffbf02f",
   "metadata": {},
   "outputs": [],
   "source": [
    "columns_to_vectorize = ['gender', 'ever_married', 'work_type', 'Residence_type', 'smoking_status']\n",
    "for vector_target in columns_to_vectorize:\n",
    "    vectorizer = CountVectorizer()\n",
    "    vectorizer.fit_transform(train_df[vector_target])\n",
    "    train_df[f'{vector_target}_v'] = vectorizer.transform(train_df[vector_target]).toarray().argmax(axis=1)[:,None]\n",
    "    vectorizer.fit_transform(test_df[vector_target])\n",
    "    test_df[f'{vector_target}_v'] = vectorizer.transform(test_df[vector_target]).toarray().argmax(axis=1)[:,None]"
   ]
  },
  {
   "cell_type": "code",
   "execution_count": 5,
   "id": "1d2b4c9f-993a-45f0-b216-294e6c732919",
   "metadata": {},
   "outputs": [],
   "source": [
    "features = ['id', 'age', 'hypertension', 'heart_disease', 'avg_glucose_level', 'bmi', 'gender_v', 'ever_married_v', 'work_type_v', 'Residence_type_v', 'smoking_status_v']\n",
    "target = ['stroke']"
   ]
  },
  {
   "cell_type": "code",
   "execution_count": 6,
   "id": "ed6f4daf-2da6-415b-9ef1-c9def5ae5dee",
   "metadata": {},
   "outputs": [],
   "source": [
    "scaler = MinMaxScaler().fit(train_df[features])\n",
    "X = scaler.transform(train_df[features])\n",
    "X_test = scaler.transform(test_df[features])\n",
    "\n",
    "scaler = MinMaxScaler().fit(train_df[target])\n",
    "Y = scaler.transform(train_df[target])"
   ]
  },
  {
   "cell_type": "code",
   "execution_count": 7,
   "id": "93d94162-bba5-4e9d-aed8-2be1540e71ec",
   "metadata": {},
   "outputs": [
    {
     "name": "stdout",
     "output_type": "stream",
     "text": [
      "0.0 1.0\n"
     ]
    }
   ],
   "source": [
    "y_min = Y.min()\n",
    "y_max = Y.max()\n",
    "\n",
    "print(y_min, y_max)\n",
    "\n",
    "def my_rmse(y_true, y_hat):\n",
    "    y_true[y_true < y_min] = y_min\n",
    "    y_true[y_true > y_max] = y_max\n",
    "    \n",
    "    y_hat[y_hat < y_min] = y_min\n",
    "    y_hat[y_hat > y_max] = y_max\n",
    "    \n",
    "    y_true_nan = np.isnan(y_true)\n",
    "    y_hat_nan = np.isnan(y_hat)\n",
    "    \n",
    "    if y_true_nan.sum() > 0:\n",
    "        print(y_true_nan.sum())\n",
    "        np.where(y_true_nan, np.ma.array(y_true, mask=np.isnan(y_true)).mean(axis=0), y_true)\n",
    "    if y_hat_nan.sum() > 0:\n",
    "        print(y_hat_nan.sum())\n",
    "        np.where(y_hat_nan, np.ma.array(y_hat, mask=np.isnan(y_hat)).mean(axis=0), y_hat)\n",
    "    \n",
    "    return mean_squared_error(y_true, y_hat, squared=False)"
   ]
  },
  {
   "cell_type": "code",
   "execution_count": 8,
   "id": "3792b021-1d48-4fcb-8c45-141801c79c3c",
   "metadata": {},
   "outputs": [],
   "source": [
    "def xgb_objective(trial):\n",
    "    # Split the train data for each trial.\n",
    "    X_train, X_valid, y_train, y_valid = train_test_split(X, Y, stratify=Y, test_size=0.4)\n",
    "\n",
    "    param_grid = {\n",
    "        'max_depth': trial.suggest_int('max_depth', 4, 20),\n",
    "        'n_estimators': trial.suggest_int('n_estimators', 2, 100, 1), \n",
    "        'eta': trial.suggest_float('eta', 0.0007, 0.113), \n",
    "        'subsample': trial.suggest_float('subsample', 0.1, 1),\n",
    "        'colsample_bytree': trial.suggest_float('colsample_bytree', 0.1, 1),\n",
    "        'reg_lambda': trial.suggest_float('reg_lambda', 1, 40), \n",
    "    } \n",
    "    \n",
    "    reg = xgb.XGBModel(\n",
    "        # These parameters should help with trial speed.\n",
    "        objective='binary:logistic',\n",
    "        tree_method='gpu_hist',\n",
    "        booster='gbtree',\n",
    "        predictor='gpu_predictor',\n",
    "        n_jobs=4,\n",
    "        eval_metric='auc',\n",
    "        **param_grid\n",
    "    )\n",
    "    \n",
    "    reg.fit(X_train, y_train, eval_set=[(X_valid, y_valid)], verbose=False)\n",
    "    \n",
    "    preds = reg.predict(X_valid)\n",
    "    fpr, tpr, _ = roc_curve(y_valid, preds)\n",
    "    roc_auc = auc(fpr, tpr)\n",
    "\n",
    "    xgb_ranks[roc_auc] = reg\n",
    "\n",
    "    print(roc_auc)\n",
    "    return roc_auc"
   ]
  },
  {
   "cell_type": "code",
   "execution_count": 9,
   "id": "7f4e825a-2d95-42b8-aca9-3427b86c38fc",
   "metadata": {
    "collapsed": true,
    "jupyter": {
     "outputs_hidden": true
    },
    "tags": []
   },
   "outputs": [
    {
     "name": "stderr",
     "output_type": "stream",
     "text": [
      "\u001b[32m[I 2023-01-16 08:57:03,517]\u001b[0m A new study created in memory with name: XGBRegressor\u001b[0m\n",
      "\u001b[32m[I 2023-01-16 08:57:04,153]\u001b[0m Trial 0 finished with value: 0.8888273416227961 and parameters: {'max_depth': 12, 'n_estimators': 64, 'eta': 0.1070254593837115, 'subsample': 0.9865682232151324, 'colsample_bytree': 0.45126970181863757, 'reg_lambda': 37.45707980982996}. Best is trial 0 with value: 0.8888273416227961.\u001b[0m\n"
     ]
    },
    {
     "name": "stdout",
     "output_type": "stream",
     "text": [
      "0.8888273416227961\n"
     ]
    },
    {
     "name": "stderr",
     "output_type": "stream",
     "text": [
      "\u001b[32m[I 2023-01-16 08:57:04,394]\u001b[0m Trial 1 finished with value: 0.8563568747697589 and parameters: {'max_depth': 11, 'n_estimators': 30, 'eta': 0.06751339034067358, 'subsample': 0.5387623190506561, 'colsample_bytree': 0.8607969073703937, 'reg_lambda': 12.866592531617766}. Best is trial 0 with value: 0.8888273416227961.\u001b[0m\n"
     ]
    },
    {
     "name": "stdout",
     "output_type": "stream",
     "text": [
      "0.8563568747697589\n"
     ]
    },
    {
     "name": "stderr",
     "output_type": "stream",
     "text": [
      "\u001b[32m[I 2023-01-16 08:57:04,829]\u001b[0m Trial 2 finished with value: 0.8959768516429528 and parameters: {'max_depth': 19, 'n_estimators': 72, 'eta': 0.09173244600738494, 'subsample': 0.6298705286724017, 'colsample_bytree': 0.4418802598009858, 'reg_lambda': 22.259182906217656}. Best is trial 2 with value: 0.8959768516429528.\u001b[0m\n",
      "\u001b[32m[I 2023-01-16 08:57:04,957]\u001b[0m Trial 3 finished with value: 0.812277882651326 and parameters: {'max_depth': 5, 'n_estimators': 16, 'eta': 0.07999468544869776, 'subsample': 0.5981946449499476, 'colsample_bytree': 0.29074775284450677, 'reg_lambda': 31.380863174302327}. Best is trial 2 with value: 0.8959768516429528.\u001b[0m\n"
     ]
    },
    {
     "name": "stdout",
     "output_type": "stream",
     "text": [
      "0.8959768516429528\n",
      "0.812277882651326\n"
     ]
    },
    {
     "name": "stderr",
     "output_type": "stream",
     "text": [
      "\u001b[32m[I 2023-01-16 08:57:05,405]\u001b[0m Trial 4 finished with value: 0.884127225719379 and parameters: {'max_depth': 20, 'n_estimators': 81, 'eta': 0.06141423712625725, 'subsample': 0.763203644391157, 'colsample_bytree': 0.528048092198755, 'reg_lambda': 24.56082381923125}. Best is trial 2 with value: 0.8959768516429528.\u001b[0m\n"
     ]
    },
    {
     "name": "stdout",
     "output_type": "stream",
     "text": [
      "0.884127225719379\n"
     ]
    },
    {
     "name": "stderr",
     "output_type": "stream",
     "text": [
      "\u001b[32m[I 2023-01-16 08:57:05,633]\u001b[0m Trial 5 finished with value: 0.8973779966690396 and parameters: {'max_depth': 18, 'n_estimators': 56, 'eta': 0.04111312500615147, 'subsample': 0.4089578509577039, 'colsample_bytree': 0.3583511832364218, 'reg_lambda': 32.689945174373904}. Best is trial 5 with value: 0.8973779966690396.\u001b[0m\n"
     ]
    },
    {
     "name": "stdout",
     "output_type": "stream",
     "text": [
      "0.8973779966690396\n"
     ]
    },
    {
     "name": "stderr",
     "output_type": "stream",
     "text": [
      "\u001b[32m[I 2023-01-16 08:57:05,854]\u001b[0m Trial 6 finished with value: 0.87917355004556 and parameters: {'max_depth': 12, 'n_estimators': 50, 'eta': 0.08566492179992344, 'subsample': 0.3575868069151332, 'colsample_bytree': 0.24580720493591862, 'reg_lambda': 21.02704563850772}. Best is trial 5 with value: 0.8973779966690396.\u001b[0m\n",
      "\u001b[32m[I 2023-01-16 08:57:05,960]\u001b[0m Trial 7 finished with value: 0.7776519893834895 and parameters: {'max_depth': 16, 'n_estimators': 5, 'eta': 0.04524360117973781, 'subsample': 0.8838176203718695, 'colsample_bytree': 0.6132002070421455, 'reg_lambda': 25.53546581890834}. Best is trial 5 with value: 0.8973779966690396.\u001b[0m\n"
     ]
    },
    {
     "name": "stdout",
     "output_type": "stream",
     "text": [
      "0.87917355004556\n",
      "0.7776519893834895\n"
     ]
    },
    {
     "name": "stderr",
     "output_type": "stream",
     "text": [
      "\u001b[32m[I 2023-01-16 08:57:06,168]\u001b[0m Trial 8 finished with value: 0.8937055891577439 and parameters: {'max_depth': 7, 'n_estimators': 33, 'eta': 0.11129071630597535, 'subsample': 0.486795767110225, 'colsample_bytree': 0.5839113709644455, 'reg_lambda': 18.431984649414154}. Best is trial 5 with value: 0.8973779966690396.\u001b[0m\n"
     ]
    },
    {
     "name": "stdout",
     "output_type": "stream",
     "text": [
      "0.8937055891577439\n"
     ]
    },
    {
     "name": "stderr",
     "output_type": "stream",
     "text": [
      "\u001b[32m[I 2023-01-16 08:57:06,630]\u001b[0m Trial 9 finished with value: 0.8756728762433016 and parameters: {'max_depth': 13, 'n_estimators': 55, 'eta': 0.10095433286102894, 'subsample': 0.8156150798069893, 'colsample_bytree': 0.7241232055406442, 'reg_lambda': 10.853588264506913}. Best is trial 5 with value: 0.8973779966690396.\u001b[0m\n"
     ]
    },
    {
     "name": "stdout",
     "output_type": "stream",
     "text": [
      "0.8756728762433016\n"
     ]
    },
    {
     "name": "stderr",
     "output_type": "stream",
     "text": [
      "\u001b[32m[I 2023-01-16 08:57:07,023]\u001b[0m Trial 10 finished with value: 0.8085381285874667 and parameters: {'max_depth': 16, 'n_estimators': 100, 'eta': 0.010145752701724221, 'subsample': 0.12399601876712307, 'colsample_bytree': 0.1319757172657944, 'reg_lambda': 38.82644861506172}. Best is trial 5 with value: 0.8973779966690396.\u001b[0m\n"
     ]
    },
    {
     "name": "stdout",
     "output_type": "stream",
     "text": [
      "0.8085381285874667\n"
     ]
    },
    {
     "name": "stderr",
     "output_type": "stream",
     "text": [
      "\u001b[32m[I 2023-01-16 08:57:07,426]\u001b[0m Trial 11 finished with value: 0.8786532979270059 and parameters: {'max_depth': 20, 'n_estimators': 74, 'eta': 0.035005050912631494, 'subsample': 0.3455714877631072, 'colsample_bytree': 0.36365539028553473, 'reg_lambda': 30.48413160343728}. Best is trial 5 with value: 0.8973779966690396.\u001b[0m\n"
     ]
    },
    {
     "name": "stdout",
     "output_type": "stream",
     "text": [
      "0.8786532979270059\n"
     ]
    },
    {
     "name": "stderr",
     "output_type": "stream",
     "text": [
      "\u001b[32m[I 2023-01-16 08:57:08,132]\u001b[0m Trial 12 finished with value: 0.8639353823297462 and parameters: {'max_depth': 17, 'n_estimators': 91, 'eta': 0.023535121602668428, 'subsample': 0.665940564093591, 'colsample_bytree': 0.4081126654402859, 'reg_lambda': 1.6283737011813457}. Best is trial 5 with value: 0.8973779966690396.\u001b[0m\n"
     ]
    },
    {
     "name": "stdout",
     "output_type": "stream",
     "text": [
      "0.8639353823297462\n"
     ]
    },
    {
     "name": "stderr",
     "output_type": "stream",
     "text": [
      "\u001b[32m[I 2023-01-16 08:57:08,367]\u001b[0m Trial 13 finished with value: 0.8140063319228721 and parameters: {'max_depth': 18, 'n_estimators': 44, 'eta': 0.046957772066349324, 'subsample': 0.36286261915326856, 'colsample_bytree': 0.13349713760212079, 'reg_lambda': 31.771731767279277}. Best is trial 5 with value: 0.8973779966690396.\u001b[0m\n"
     ]
    },
    {
     "name": "stdout",
     "output_type": "stream",
     "text": [
      "0.8140063319228721\n"
     ]
    },
    {
     "name": "stderr",
     "output_type": "stream",
     "text": [
      "\u001b[32m[I 2023-01-16 08:57:08,809]\u001b[0m Trial 14 finished with value: 0.8764490452615976 and parameters: {'max_depth': 14, 'n_estimators': 63, 'eta': 0.0848366175206903, 'subsample': 0.18069967193218525, 'colsample_bytree': 0.6926435453660472, 'reg_lambda': 15.386884918962924}. Best is trial 5 with value: 0.8973779966690396.\u001b[0m\n"
     ]
    },
    {
     "name": "stdout",
     "output_type": "stream",
     "text": [
      "0.8764490452615976\n"
     ]
    },
    {
     "name": "stderr",
     "output_type": "stream",
     "text": [
      "\u001b[32m[I 2023-01-16 08:57:09,178]\u001b[0m Trial 15 finished with value: 0.8090354828781492 and parameters: {'max_depth': 9, 'n_estimators': 75, 'eta': 0.022744142956265135, 'subsample': 0.439885881420664, 'colsample_bytree': 0.27239382979190974, 'reg_lambda': 26.475661310120508}. Best is trial 5 with value: 0.8973779966690396.\u001b[0m\n"
     ]
    },
    {
     "name": "stdout",
     "output_type": "stream",
     "text": [
      "0.8090354828781492\n"
     ]
    },
    {
     "name": "stderr",
     "output_type": "stream",
     "text": [
      "\u001b[32m[I 2023-01-16 08:57:09,588]\u001b[0m Trial 16 finished with value: 0.8849316802897519 and parameters: {'max_depth': 19, 'n_estimators': 38, 'eta': 0.07143905351208943, 'subsample': 0.6661665762572255, 'colsample_bytree': 0.9958456935668595, 'reg_lambda': 7.93716726901067}. Best is trial 5 with value: 0.8973779966690396.\u001b[0m\n"
     ]
    },
    {
     "name": "stdout",
     "output_type": "stream",
     "text": [
      "0.8849316802897519\n"
     ]
    },
    {
     "name": "stderr",
     "output_type": "stream",
     "text": [
      "\u001b[32m[I 2023-01-16 08:57:09,969]\u001b[0m Trial 17 finished with value: 0.7921187023396866 and parameters: {'max_depth': 15, 'n_estimators': 65, 'eta': 0.0021120961809499017, 'subsample': 0.24453976531146637, 'colsample_bytree': 0.4917543390213037, 'reg_lambda': 34.95954450855217}. Best is trial 5 with value: 0.8973779966690396.\u001b[0m\n"
     ]
    },
    {
     "name": "stdout",
     "output_type": "stream",
     "text": [
      "0.7921187023396866\n"
     ]
    },
    {
     "name": "stderr",
     "output_type": "stream",
     "text": [
      "\u001b[32m[I 2023-01-16 08:57:10,543]\u001b[0m Trial 18 finished with value: 0.8825981222434215 and parameters: {'max_depth': 18, 'n_estimators': 86, 'eta': 0.05181542230065315, 'subsample': 0.614340820366378, 'colsample_bytree': 0.3807871171630138, 'reg_lambda': 22.662676050950104}. Best is trial 5 with value: 0.8973779966690396.\u001b[0m\n"
     ]
    },
    {
     "name": "stdout",
     "output_type": "stream",
     "text": [
      "0.8825981222434215\n"
     ]
    },
    {
     "name": "stderr",
     "output_type": "stream",
     "text": [
      "\u001b[32m[I 2023-01-16 08:57:11,300]\u001b[0m Trial 19 finished with value: 0.8700541533629164 and parameters: {'max_depth': 10, 'n_estimators': 56, 'eta': 0.09497385038532091, 'subsample': 0.7461401890908781, 'colsample_bytree': 0.2145053256092462, 'reg_lambda': 28.215264064973773}. Best is trial 5 with value: 0.8973779966690396.\u001b[0m\n"
     ]
    },
    {
     "name": "stdout",
     "output_type": "stream",
     "text": [
      "0.8700541533629164\n"
     ]
    },
    {
     "name": "stderr",
     "output_type": "stream",
     "text": [
      "\u001b[32m[I 2023-01-16 08:57:11,662]\u001b[0m Trial 20 finished with value: 0.8154933438034774 and parameters: {'max_depth': 18, 'n_estimators': 24, 'eta': 0.03723434533993237, 'subsample': 0.27237409922402456, 'colsample_bytree': 0.3320609723655442, 'reg_lambda': 18.377270970824124}. Best is trial 5 with value: 0.8973779966690396.\u001b[0m\n"
     ]
    },
    {
     "name": "stdout",
     "output_type": "stream",
     "text": [
      "0.8154933438034774\n"
     ]
    },
    {
     "name": "stderr",
     "output_type": "stream",
     "text": [
      "\u001b[32m[I 2023-01-16 08:57:12,337]\u001b[0m Trial 21 finished with value: 0.8746411270580264 and parameters: {'max_depth': 6, 'n_estimators': 42, 'eta': 0.10544105891994529, 'subsample': 0.48737857128360984, 'colsample_bytree': 0.6309892742267263, 'reg_lambda': 16.5539698593164}. Best is trial 5 with value: 0.8973779966690396.\u001b[0m\n"
     ]
    },
    {
     "name": "stdout",
     "output_type": "stream",
     "text": [
      "0.8746411270580264\n"
     ]
    },
    {
     "name": "stderr",
     "output_type": "stream",
     "text": [
      "\u001b[32m[I 2023-01-16 08:57:12,910]\u001b[0m Trial 22 finished with value: 0.9032459017939101 and parameters: {'max_depth': 8, 'n_estimators': 32, 'eta': 0.11288213803943692, 'subsample': 0.4599527310182287, 'colsample_bytree': 0.5620194008668202, 'reg_lambda': 20.381569749519798}. Best is trial 22 with value: 0.9032459017939101.\u001b[0m\n"
     ]
    },
    {
     "name": "stdout",
     "output_type": "stream",
     "text": [
      "0.9032459017939101\n"
     ]
    },
    {
     "name": "stderr",
     "output_type": "stream",
     "text": [
      "\u001b[32m[I 2023-01-16 08:57:13,668]\u001b[0m Trial 23 finished with value: 0.8773120913327007 and parameters: {'max_depth': 8, 'n_estimators': 49, 'eta': 0.09431606877370377, 'subsample': 0.45241371793082785, 'colsample_bytree': 0.48413742496708506, 'reg_lambda': 34.41802647138272}. Best is trial 22 with value: 0.9032459017939101.\u001b[0m\n"
     ]
    },
    {
     "name": "stdout",
     "output_type": "stream",
     "text": [
      "0.8773120913327007\n"
     ]
    },
    {
     "name": "stderr",
     "output_type": "stream",
     "text": [
      "\u001b[32m[I 2023-01-16 08:57:14,057]\u001b[0m Trial 24 finished with value: 0.8413130018580913 and parameters: {'max_depth': 4, 'n_estimators': 14, 'eta': 0.11259680114027906, 'subsample': 0.5417468915364826, 'colsample_bytree': 0.7033314611847101, 'reg_lambda': 22.707471659449947}. Best is trial 22 with value: 0.9032459017939101.\u001b[0m\n"
     ]
    },
    {
     "name": "stdout",
     "output_type": "stream",
     "text": [
      "0.8413130018580913\n"
     ]
    },
    {
     "name": "stderr",
     "output_type": "stream",
     "text": [
      "\u001b[32m[I 2023-01-16 08:57:15,163]\u001b[0m Trial 25 finished with value: 0.8836190959802863 and parameters: {'max_depth': 14, 'n_estimators': 61, 'eta': 0.09465287729367255, 'subsample': 0.3963363731679175, 'colsample_bytree': 0.4563441897716728, 'reg_lambda': 5.667557048786794}. Best is trial 22 with value: 0.9032459017939101.\u001b[0m\n"
     ]
    },
    {
     "name": "stdout",
     "output_type": "stream",
     "text": [
      "0.8836190959802863\n"
     ]
    },
    {
     "name": "stderr",
     "output_type": "stream",
     "text": [
      "\u001b[32m[I 2023-01-16 08:57:16,231]\u001b[0m Trial 26 finished with value: 0.8782061168179833 and parameters: {'max_depth': 9, 'n_estimators': 72, 'eta': 0.07476728429494778, 'subsample': 0.28596869460702223, 'colsample_bytree': 0.78505929975158, 'reg_lambda': 27.80595200505093}. Best is trial 22 with value: 0.9032459017939101.\u001b[0m\n"
     ]
    },
    {
     "name": "stdout",
     "output_type": "stream",
     "text": [
      "0.8782061168179833\n"
     ]
    },
    {
     "name": "stderr",
     "output_type": "stream",
     "text": [
      "\u001b[32m[I 2023-01-16 08:57:16,633]\u001b[0m Trial 27 finished with value: 0.8704265797985933 and parameters: {'max_depth': 20, 'n_estimators': 25, 'eta': 0.05795120446244834, 'subsample': 0.6585476240226108, 'colsample_bytree': 0.5505089474552838, 'reg_lambda': 14.410981938530586}. Best is trial 22 with value: 0.9032459017939101.\u001b[0m\n"
     ]
    },
    {
     "name": "stdout",
     "output_type": "stream",
     "text": [
      "0.8704265797985933\n"
     ]
    },
    {
     "name": "stderr",
     "output_type": "stream",
     "text": [
      "\u001b[32m[I 2023-01-16 08:57:16,859]\u001b[0m Trial 28 finished with value: 0.8103814037311337 and parameters: {'max_depth': 17, 'n_estimators': 38, 'eta': 0.03544600620931339, 'subsample': 0.5738251215647765, 'colsample_bytree': 0.19232466055147968, 'reg_lambda': 19.914200385624298}. Best is trial 22 with value: 0.9032459017939101.\u001b[0m\n"
     ]
    },
    {
     "name": "stdout",
     "output_type": "stream",
     "text": [
      "0.8103814037311337\n"
     ]
    },
    {
     "name": "stderr",
     "output_type": "stream",
     "text": [
      "\u001b[32m[I 2023-01-16 08:57:17,447]\u001b[0m Trial 29 finished with value: 0.8813185377447121 and parameters: {'max_depth': 12, 'n_estimators': 71, 'eta': 0.1033222342748523, 'subsample': 0.9780212138715791, 'colsample_bytree': 0.42169828741663107, 'reg_lambda': 33.63367454933126}. Best is trial 22 with value: 0.9032459017939101.\u001b[0m\n"
     ]
    },
    {
     "name": "stdout",
     "output_type": "stream",
     "text": [
      "0.8813185377447121\n"
     ]
    },
    {
     "name": "stderr",
     "output_type": "stream",
     "text": [
      "\u001b[32m[I 2023-01-16 08:57:18,347]\u001b[0m Trial 30 finished with value: 0.8851306893525774 and parameters: {'max_depth': 16, 'n_estimators': 67, 'eta': 0.08837672276628797, 'subsample': 0.7215727435038704, 'colsample_bytree': 0.3023991681084858, 'reg_lambda': 37.10122870445771}. Best is trial 22 with value: 0.9032459017939101.\u001b[0m\n"
     ]
    },
    {
     "name": "stdout",
     "output_type": "stream",
     "text": [
      "0.8851306893525774\n"
     ]
    },
    {
     "name": "stderr",
     "output_type": "stream",
     "text": [
      "\u001b[32m[I 2023-01-16 08:57:18,842]\u001b[0m Trial 31 finished with value: 0.8878723675074436 and parameters: {'max_depth': 7, 'n_estimators': 32, 'eta': 0.11116314821069638, 'subsample': 0.5117956650824844, 'colsample_bytree': 0.5813452406404486, 'reg_lambda': 18.55263001458112}. Best is trial 22 with value: 0.9032459017939101.\u001b[0m\n"
     ]
    },
    {
     "name": "stdout",
     "output_type": "stream",
     "text": [
      "0.8878723675074436\n"
     ]
    },
    {
     "name": "stderr",
     "output_type": "stream",
     "text": [
      "\u001b[32m[I 2023-01-16 08:57:19,309]\u001b[0m Trial 32 finished with value: 0.8862513359872365 and parameters: {'max_depth': 7, 'n_estimators': 34, 'eta': 0.10101131773004726, 'subsample': 0.4423285294737879, 'colsample_bytree': 0.5067973233245506, 'reg_lambda': 10.802293385866381}. Best is trial 22 with value: 0.9032459017939101.\u001b[0m\n"
     ]
    },
    {
     "name": "stdout",
     "output_type": "stream",
     "text": [
      "0.8862513359872365\n"
     ]
    },
    {
     "name": "stderr",
     "output_type": "stream",
     "text": [
      "\u001b[32m[I 2023-01-16 08:57:19,697]\u001b[0m Trial 33 finished with value: 0.8778703942534534 and parameters: {'max_depth': 4, 'n_estimators': 24, 'eta': 0.1128369950172849, 'subsample': 0.4922305792816757, 'colsample_bytree': 0.6129996611396191, 'reg_lambda': 22.871292695106863}. Best is trial 22 with value: 0.9032459017939101.\u001b[0m\n"
     ]
    },
    {
     "name": "stdout",
     "output_type": "stream",
     "text": [
      "0.8778703942534534\n"
     ]
    },
    {
     "name": "stderr",
     "output_type": "stream",
     "text": [
      "\u001b[32m[I 2023-01-16 08:57:20,412]\u001b[0m Trial 34 finished with value: 0.8863358559107039 and parameters: {'max_depth': 6, 'n_estimators': 54, 'eta': 0.07735801244313863, 'subsample': 0.6023244169747691, 'colsample_bytree': 0.42507711399277875, 'reg_lambda': 17.498564680525945}. Best is trial 22 with value: 0.9032459017939101.\u001b[0m\n"
     ]
    },
    {
     "name": "stdout",
     "output_type": "stream",
     "text": [
      "0.8863358559107039\n"
     ]
    },
    {
     "name": "stderr",
     "output_type": "stream",
     "text": [
      "\u001b[32m[I 2023-01-16 08:57:20,639]\u001b[0m Trial 35 finished with value: 0.8018091977880698 and parameters: {'max_depth': 11, 'n_estimators': 15, 'eta': 0.06342626177941077, 'subsample': 0.4019618275908238, 'colsample_bytree': 0.5525451756529607, 'reg_lambda': 13.442789116492058}. Best is trial 22 with value: 0.9032459017939101.\u001b[0m\n"
     ]
    },
    {
     "name": "stdout",
     "output_type": "stream",
     "text": [
      "0.8018091977880698\n"
     ]
    },
    {
     "name": "stderr",
     "output_type": "stream",
     "text": [
      "\u001b[32m[I 2023-01-16 08:57:21,058]\u001b[0m Trial 36 finished with value: 0.8842969390318395 and parameters: {'max_depth': 8, 'n_estimators': 45, 'eta': 0.10640822518657254, 'subsample': 0.5494487527867418, 'colsample_bytree': 0.6560428811420292, 'reg_lambda': 29.542687415938346}. Best is trial 22 with value: 0.9032459017939101.\u001b[0m\n"
     ]
    },
    {
     "name": "stdout",
     "output_type": "stream",
     "text": [
      "0.8842969390318395\n"
     ]
    },
    {
     "name": "stderr",
     "output_type": "stream",
     "text": [
      "\u001b[32m[I 2023-01-16 08:57:21,825]\u001b[0m Trial 37 finished with value: 0.8864382226706007 and parameters: {'max_depth': 5, 'n_estimators': 80, 'eta': 0.09806017546624934, 'subsample': 0.31033832264702943, 'colsample_bytree': 0.7647268380680075, 'reg_lambda': 21.048507885735397}. Best is trial 22 with value: 0.9032459017939101.\u001b[0m\n"
     ]
    },
    {
     "name": "stdout",
     "output_type": "stream",
     "text": [
      "0.8864382226706007\n"
     ]
    },
    {
     "name": "stderr",
     "output_type": "stream",
     "text": [
      "\u001b[32m[I 2023-01-16 08:57:22,098]\u001b[0m Trial 38 finished with value: 0.7700973898496624 and parameters: {'max_depth': 10, 'n_estimators': 6, 'eta': 0.06770171978515585, 'subsample': 0.804076893171564, 'colsample_bytree': 0.8697898785282598, 'reg_lambda': 24.357556302029273}. Best is trial 22 with value: 0.9032459017939101.\u001b[0m\n"
     ]
    },
    {
     "name": "stdout",
     "output_type": "stream",
     "text": [
      "0.7700973898496624\n"
     ]
    },
    {
     "name": "stderr",
     "output_type": "stream",
     "text": [
      "\u001b[32m[I 2023-01-16 08:57:22,619]\u001b[0m Trial 39 finished with value: 0.8856122172034074 and parameters: {'max_depth': 19, 'n_estimators': 28, 'eta': 0.08991238252021425, 'subsample': 0.4102481218597643, 'colsample_bytree': 0.34732546786985086, 'reg_lambda': 12.39136554391471}. Best is trial 22 with value: 0.9032459017939101.\u001b[0m\n"
     ]
    },
    {
     "name": "stdout",
     "output_type": "stream",
     "text": [
      "0.8856122172034074\n"
     ]
    },
    {
     "name": "stderr",
     "output_type": "stream",
     "text": [
      "\u001b[32m[I 2023-01-16 08:57:23,534]\u001b[0m Trial 40 finished with value: 0.8955296705339302 and parameters: {'max_depth': 12, 'n_estimators': 59, 'eta': 0.08091401168459356, 'subsample': 0.22373865350070588, 'colsample_bytree': 0.4628207967026189, 'reg_lambda': 19.892897333888055}. Best is trial 22 with value: 0.9032459017939101.\u001b[0m\n"
     ]
    },
    {
     "name": "stdout",
     "output_type": "stream",
     "text": [
      "0.8955296705339302\n"
     ]
    },
    {
     "name": "stderr",
     "output_type": "stream",
     "text": [
      "\u001b[32m[I 2023-01-16 08:57:24,407]\u001b[0m Trial 41 finished with value: 0.8915767646312069 and parameters: {'max_depth': 13, 'n_estimators': 59, 'eta': 0.07896301043537758, 'subsample': 0.17376193260857536, 'colsample_bytree': 0.4757276359353842, 'reg_lambda': 19.615527835930973}. Best is trial 22 with value: 0.9032459017939101.\u001b[0m\n"
     ]
    },
    {
     "name": "stdout",
     "output_type": "stream",
     "text": [
      "0.8915767646312069\n"
     ]
    },
    {
     "name": "stderr",
     "output_type": "stream",
     "text": [
      "\u001b[32m[I 2023-01-16 08:57:24,808]\u001b[0m Trial 42 finished with value: 0.8627093383403251 and parameters: {'max_depth': 11, 'n_estimators': 49, 'eta': 0.08343072634911147, 'subsample': 0.35270603746844287, 'colsample_bytree': 0.5365181635959917, 'reg_lambda': 39.984267391312414}. Best is trial 22 with value: 0.9032459017939101.\u001b[0m\n"
     ]
    },
    {
     "name": "stdout",
     "output_type": "stream",
     "text": [
      "0.8627093383403251\n"
     ]
    },
    {
     "name": "stderr",
     "output_type": "stream",
     "text": [
      "\u001b[32m[I 2023-01-16 08:57:25,113]\u001b[0m Trial 43 finished with value: 0.8092210226304621 and parameters: {'max_depth': 15, 'n_estimators': 19, 'eta': 0.10831832582969603, 'subsample': 0.20723464135844175, 'colsample_bytree': 0.4041390848146286, 'reg_lambda': 16.24690204764231}. Best is trial 22 with value: 0.9032459017939101.\u001b[0m\n"
     ]
    },
    {
     "name": "stdout",
     "output_type": "stream",
     "text": [
      "0.8092210226304621\n"
     ]
    },
    {
     "name": "stderr",
     "output_type": "stream",
     "text": [
      "\u001b[32m[I 2023-01-16 08:57:25,489]\u001b[0m Trial 44 finished with value: 0.826905890600913 and parameters: {'max_depth': 19, 'n_estimators': 52, 'eta': 0.04169728319807257, 'subsample': 0.12113903725324232, 'colsample_bytree': 0.44828933074610217, 'reg_lambda': 25.004401820747127}. Best is trial 22 with value: 0.9032459017939101.\u001b[0m\n"
     ]
    },
    {
     "name": "stdout",
     "output_type": "stream",
     "text": [
      "0.826905890600913\n"
     ]
    },
    {
     "name": "stderr",
     "output_type": "stream",
     "text": [
      "\u001b[32m[I 2023-01-16 08:57:26,873]\u001b[0m Trial 45 finished with value: 0.8771033170197535 and parameters: {'max_depth': 8, 'n_estimators': 80, 'eta': 0.028092355916103026, 'subsample': 0.5052644677241211, 'colsample_bytree': 0.589283317527757, 'reg_lambda': 20.208149418914175}. Best is trial 22 with value: 0.9032459017939101.\u001b[0m\n"
     ]
    },
    {
     "name": "stdout",
     "output_type": "stream",
     "text": [
      "0.8771033170197535\n"
     ]
    },
    {
     "name": "stderr",
     "output_type": "stream",
     "text": [
      "\u001b[32m[I 2023-01-16 08:57:28,301]\u001b[0m Trial 46 finished with value: 0.8922138630184591 and parameters: {'max_depth': 12, 'n_estimators': 68, 'eta': 0.0991394188387071, 'subsample': 0.6325435298049124, 'colsample_bytree': 0.6659210378077826, 'reg_lambda': 21.58033895507829}. Best is trial 22 with value: 0.9032459017939101.\u001b[0m\n"
     ]
    },
    {
     "name": "stdout",
     "output_type": "stream",
     "text": [
      "0.8922138630184591\n"
     ]
    },
    {
     "name": "stderr",
     "output_type": "stream",
     "text": [
      "\u001b[32m[I 2023-01-16 08:57:29,151]\u001b[0m Trial 47 finished with value: 0.8956828839410125 and parameters: {'max_depth': 17, 'n_estimators': 58, 'eta': 0.09047866235271632, 'subsample': 0.32139917692927245, 'colsample_bytree': 0.3138907183687101, 'reg_lambda': 26.59132518826113}. Best is trial 22 with value: 0.9032459017939101.\u001b[0m\n"
     ]
    },
    {
     "name": "stdout",
     "output_type": "stream",
     "text": [
      "0.8956828839410125\n"
     ]
    },
    {
     "name": "stderr",
     "output_type": "stream",
     "text": [
      "\u001b[32m[I 2023-01-16 08:57:30,121]\u001b[0m Trial 48 finished with value: 0.8732238188593244 and parameters: {'max_depth': 17, 'n_estimators': 76, 'eta': 0.05073127356653878, 'subsample': 0.32186964483944447, 'colsample_bytree': 0.2516477306124053, 'reg_lambda': 31.886768234374475}. Best is trial 22 with value: 0.9032459017939101.\u001b[0m\n"
     ]
    },
    {
     "name": "stdout",
     "output_type": "stream",
     "text": [
      "0.8732238188593244\n"
     ]
    },
    {
     "name": "stderr",
     "output_type": "stream",
     "text": [
      "\u001b[32m[I 2023-01-16 08:57:30,940]\u001b[0m Trial 49 finished with value: 0.8786206348490123 and parameters: {'max_depth': 20, 'n_estimators': 56, 'eta': 0.08198401426233194, 'subsample': 0.23108216854322905, 'colsample_bytree': 0.32167773528833055, 'reg_lambda': 26.72647863502406}. Best is trial 22 with value: 0.9032459017939101.\u001b[0m\n"
     ]
    },
    {
     "name": "stdout",
     "output_type": "stream",
     "text": [
      "0.8786206348490123\n"
     ]
    },
    {
     "name": "stderr",
     "output_type": "stream",
     "text": [
      "\u001b[32m[I 2023-01-16 08:57:31,477]\u001b[0m Trial 50 finished with value: 0.8609515933184138 and parameters: {'max_depth': 18, 'n_estimators': 61, 'eta': 0.09098456276717726, 'subsample': 0.16171052477648395, 'colsample_bytree': 0.3862052758800007, 'reg_lambda': 24.348648826377026}. Best is trial 22 with value: 0.9032459017939101.\u001b[0m\n"
     ]
    },
    {
     "name": "stdout",
     "output_type": "stream",
     "text": [
      "0.8609515933184138\n"
     ]
    },
    {
     "name": "stderr",
     "output_type": "stream",
     "text": [
      "\u001b[32m[I 2023-01-16 08:57:31,856]\u001b[0m Trial 51 finished with value: 0.867578157357914 and parameters: {'max_depth': 19, 'n_estimators': 37, 'eta': 0.10385978185763466, 'subsample': 0.3759450570258594, 'colsample_bytree': 0.5142441532074897, 'reg_lambda': 29.46546489306829}. Best is trial 22 with value: 0.9032459017939101.\u001b[0m\n"
     ]
    },
    {
     "name": "stdout",
     "output_type": "stream",
     "text": [
      "0.867578157357914\n"
     ]
    },
    {
     "name": "stderr",
     "output_type": "stream",
     "text": [
      "\u001b[32m[I 2023-01-16 08:57:32,205]\u001b[0m Trial 52 finished with value: 0.8691840359037941 and parameters: {'max_depth': 16, 'n_estimators': 45, 'eta': 0.07369264824856474, 'subsample': 0.44565404603063685, 'colsample_bytree': 0.35512924430987547, 'reg_lambda': 22.86531129232983}. Best is trial 22 with value: 0.9032459017939101.\u001b[0m\n"
     ]
    },
    {
     "name": "stdout",
     "output_type": "stream",
     "text": [
      "0.8691840359037941\n"
     ]
    },
    {
     "name": "stderr",
     "output_type": "stream",
     "text": [
      "\u001b[32m[I 2023-01-16 08:57:33,066]\u001b[0m Trial 53 finished with value: 0.8869035873488154 and parameters: {'max_depth': 15, 'n_estimators': 65, 'eta': 0.09683723987710777, 'subsample': 0.3193994208234296, 'colsample_bytree': 0.2849080520202152, 'reg_lambda': 26.141018398947075}. Best is trial 22 with value: 0.9032459017939101.\u001b[0m\n"
     ]
    },
    {
     "name": "stdout",
     "output_type": "stream",
     "text": [
      "0.8869035873488154\n"
     ]
    },
    {
     "name": "stderr",
     "output_type": "stream",
     "text": [
      "\u001b[32m[I 2023-01-16 08:57:33,747]\u001b[0m Trial 54 finished with value: 0.8854798812276199 and parameters: {'max_depth': 6, 'n_estimators': 59, 'eta': 0.08672922797964011, 'subsample': 0.25802525775456164, 'colsample_bytree': 0.44309312676251444, 'reg_lambda': 18.380922971029307}. Best is trial 22 with value: 0.9032459017939101.\u001b[0m\n"
     ]
    },
    {
     "name": "stdout",
     "output_type": "stream",
     "text": [
      "0.8854798812276199\n"
     ]
    },
    {
     "name": "stderr",
     "output_type": "stream",
     "text": [
      "\u001b[32m[I 2023-01-16 08:57:34,367]\u001b[0m Trial 55 finished with value: 0.8769925319407861 and parameters: {'max_depth': 9, 'n_estimators': 41, 'eta': 0.10855072200136492, 'subsample': 0.7057547294010206, 'colsample_bytree': 0.38155128717354025, 'reg_lambda': 21.472298051621763}. Best is trial 22 with value: 0.9032459017939101.\u001b[0m\n"
     ]
    },
    {
     "name": "stdout",
     "output_type": "stream",
     "text": [
      "0.8769925319407861\n"
     ]
    },
    {
     "name": "stderr",
     "output_type": "stream",
     "text": [
      "\u001b[32m[I 2023-01-16 08:57:35,559]\u001b[0m Trial 56 finished with value: 0.8842332965396669 and parameters: {'max_depth': 17, 'n_estimators': 93, 'eta': 0.06748703102678578, 'subsample': 0.4716211827782908, 'colsample_bytree': 0.22105731335499196, 'reg_lambda': 16.279042405632097}. Best is trial 22 with value: 0.9032459017939101.\u001b[0m\n"
     ]
    },
    {
     "name": "stdout",
     "output_type": "stream",
     "text": [
      "0.8842332965396669\n"
     ]
    },
    {
     "name": "stderr",
     "output_type": "stream",
     "text": [
      "\u001b[32m[I 2023-01-16 08:57:36,161]\u001b[0m Trial 57 finished with value: 0.7956981716084445 and parameters: {'max_depth': 10, 'n_estimators': 51, 'eta': 0.01840323384078364, 'subsample': 0.5764700293234244, 'colsample_bytree': 0.5752484424157901, 'reg_lambda': 23.94524488786937}. Best is trial 22 with value: 0.9032459017939101.\u001b[0m\n"
     ]
    },
    {
     "name": "stdout",
     "output_type": "stream",
     "text": [
      "0.7956981716084445\n"
     ]
    },
    {
     "name": "stderr",
     "output_type": "stream",
     "text": [
      "\u001b[32m[I 2023-01-16 08:57:36,477]\u001b[0m Trial 58 finished with value: 0.8688274359079695 and parameters: {'max_depth': 14, 'n_estimators': 57, 'eta': 0.09225209703721783, 'subsample': 0.41524373381019397, 'colsample_bytree': 0.1763641085026842, 'reg_lambda': 27.232515500666164}. Best is trial 22 with value: 0.9032459017939101.\u001b[0m\n"
     ]
    },
    {
     "name": "stdout",
     "output_type": "stream",
     "text": [
      "0.8688274359079695\n"
     ]
    },
    {
     "name": "stderr",
     "output_type": "stream",
     "text": [
      "\u001b[32m[I 2023-01-16 08:57:36,913]\u001b[0m Trial 59 finished with value: 0.8176918720119176 and parameters: {'max_depth': 18, 'n_estimators': 47, 'eta': 0.05469758211601264, 'subsample': 0.2928954532041291, 'colsample_bytree': 0.4745649817924578, 'reg_lambda': 37.08059729541596}. Best is trial 22 with value: 0.9032459017939101.\u001b[0m\n"
     ]
    },
    {
     "name": "stdout",
     "output_type": "stream",
     "text": [
      "0.8176918720119176\n"
     ]
    },
    {
     "name": "stderr",
     "output_type": "stream",
     "text": [
      "\u001b[32m[I 2023-01-16 08:57:37,922]\u001b[0m Trial 60 finished with value: 0.8809669887403299 and parameters: {'max_depth': 13, 'n_estimators': 69, 'eta': 0.10208886830798788, 'subsample': 0.5163834654189888, 'colsample_bytree': 0.31526545770253145, 'reg_lambda': 31.69766471835528}. Best is trial 22 with value: 0.9032459017939101.\u001b[0m\n"
     ]
    },
    {
     "name": "stdout",
     "output_type": "stream",
     "text": [
      "0.8809669887403299\n"
     ]
    },
    {
     "name": "stderr",
     "output_type": "stream",
     "text": [
      "\u001b[32m[I 2023-01-16 08:57:39,248]\u001b[0m Trial 61 finished with value: 0.8855330850041453 and parameters: {'max_depth': 12, 'n_estimators': 68, 'eta': 0.0981649069849152, 'subsample': 0.6476146815576087, 'colsample_bytree': 0.6889770069491571, 'reg_lambda': 21.208493017654877}. Best is trial 22 with value: 0.9032459017939101.\u001b[0m\n"
     ]
    },
    {
     "name": "stdout",
     "output_type": "stream",
     "text": [
      "0.8855330850041453\n"
     ]
    },
    {
     "name": "stderr",
     "output_type": "stream",
     "text": [
      "\u001b[32m[I 2023-01-16 08:57:40,273]\u001b[0m Trial 62 finished with value: 0.8757725491410957 and parameters: {'max_depth': 7, 'n_estimators': 63, 'eta': 0.108880707757801, 'subsample': 0.6342961478175319, 'colsample_bytree': 0.6503843865001603, 'reg_lambda': 21.96509256942082}. Best is trial 22 with value: 0.9032459017939101.\u001b[0m\n"
     ]
    },
    {
     "name": "stdout",
     "output_type": "stream",
     "text": [
      "0.8757725491410957\n"
     ]
    },
    {
     "name": "stderr",
     "output_type": "stream",
     "text": [
      "\u001b[32m[I 2023-01-16 08:57:41,724]\u001b[0m Trial 63 finished with value: 0.8776252528021217 and parameters: {'max_depth': 13, 'n_estimators': 75, 'eta': 0.09903089672037964, 'subsample': 0.6900227806264104, 'colsample_bytree': 0.7495221362143665, 'reg_lambda': 17.409873893270245}. Best is trial 22 with value: 0.9032459017939101.\u001b[0m\n"
     ]
    },
    {
     "name": "stdout",
     "output_type": "stream",
     "text": [
      "0.8776252528021217\n"
     ]
    },
    {
     "name": "stderr",
     "output_type": "stream",
     "text": [
      "\u001b[32m[I 2023-01-16 08:57:42,702]\u001b[0m Trial 64 finished with value: 0.8884353846868756 and parameters: {'max_depth': 12, 'n_estimators': 53, 'eta': 0.10536053450929783, 'subsample': 0.5687959327635477, 'colsample_bytree': 0.8192779863114681, 'reg_lambda': 19.364536158228606}. Best is trial 22 with value: 0.9032459017939101.\u001b[0m\n"
     ]
    },
    {
     "name": "stdout",
     "output_type": "stream",
     "text": [
      "0.8884353846868756\n"
     ]
    },
    {
     "name": "stderr",
     "output_type": "stream",
     "text": [
      "\u001b[32m[I 2023-01-16 08:57:43,334]\u001b[0m Trial 65 finished with value: 0.885931776595322 and parameters: {'max_depth': 11, 'n_estimators': 72, 'eta': 0.09453321772786465, 'subsample': 0.7738056902579008, 'colsample_bytree': 0.5168777460985949, 'reg_lambda': 28.692589627200785}. Best is trial 22 with value: 0.9032459017939101.\u001b[0m\n"
     ]
    },
    {
     "name": "stdout",
     "output_type": "stream",
     "text": [
      "0.885931776595322\n"
     ]
    },
    {
     "name": "stderr",
     "output_type": "stream",
     "text": [
      "\u001b[32m[I 2023-01-16 08:57:44,580]\u001b[0m Trial 66 finished with value: 0.8841875008839235 and parameters: {'max_depth': 18, 'n_estimators': 88, 'eta': 0.08619316892118375, 'subsample': 0.3728763653829918, 'colsample_bytree': 0.5717770558187355, 'reg_lambda': 23.46347620636344}. Best is trial 22 with value: 0.9032459017939101.\u001b[0m\n"
     ]
    },
    {
     "name": "stdout",
     "output_type": "stream",
     "text": [
      "0.8841875008839235\n"
     ]
    },
    {
     "name": "stderr",
     "output_type": "stream",
     "text": [
      "\u001b[32m[I 2023-01-16 08:57:45,507]\u001b[0m Trial 67 finished with value: 0.8665575203538118 and parameters: {'max_depth': 5, 'n_estimators': 66, 'eta': 0.031799770259485875, 'subsample': 0.5264041816533849, 'colsample_bytree': 0.6274920637178567, 'reg_lambda': 25.47835975419299}. Best is trial 22 with value: 0.9032459017939101.\u001b[0m\n"
     ]
    },
    {
     "name": "stdout",
     "output_type": "stream",
     "text": [
      "0.8665575203538118\n"
     ]
    },
    {
     "name": "stderr",
     "output_type": "stream",
     "text": [
      "\u001b[32m[I 2023-01-16 08:57:46,710]\u001b[0m Trial 68 finished with value: 0.8797604752511521 and parameters: {'max_depth': 20, 'n_estimators': 63, 'eta': 0.10162531679774238, 'subsample': 0.4819386454842717, 'colsample_bytree': 0.6736492030888197, 'reg_lambda': 18.916143831207435}. Best is trial 22 with value: 0.9032459017939101.\u001b[0m\n"
     ]
    },
    {
     "name": "stdout",
     "output_type": "stream",
     "text": [
      "0.8797604752511521\n"
     ]
    },
    {
     "name": "stderr",
     "output_type": "stream",
     "text": [
      "\u001b[32m[I 2023-01-16 08:57:47,187]\u001b[0m Trial 69 finished with value: 0.8842561943675383 and parameters: {'max_depth': 9, 'n_estimators': 20, 'eta': 0.11280244929602501, 'subsample': 0.6254409207980299, 'colsample_bytree': 0.4130774565370297, 'reg_lambda': 15.388411551336292}. Best is trial 22 with value: 0.9032459017939101.\u001b[0m\n"
     ]
    },
    {
     "name": "stdout",
     "output_type": "stream",
     "text": [
      "0.8842561943675383\n",
      "0.8003275736316696\n"
     ]
    },
    {
     "name": "stderr",
     "output_type": "stream",
     "text": [
      "\u001b[32m[I 2023-01-16 08:57:47,373]\u001b[0m Trial 70 finished with value: 0.8003275736316696 and parameters: {'max_depth': 14, 'n_estimators': 11, 'eta': 0.09266751920893992, 'subsample': 0.3380001753723466, 'colsample_bytree': 0.6093547180014796, 'reg_lambda': 20.447924177219992}. Best is trial 22 with value: 0.9032459017939101.\u001b[0m\n",
      "\u001b[32m[I 2023-01-16 08:57:47,761]\u001b[0m Trial 71 finished with value: 0.8769248486554597 and parameters: {'max_depth': 13, 'n_estimators': 58, 'eta': 0.07952975399208805, 'subsample': 0.18876109509396863, 'colsample_bytree': 0.4733975547276514, 'reg_lambda': 17.668271169569113}. Best is trial 22 with value: 0.9032459017939101.\u001b[0m\n"
     ]
    },
    {
     "name": "stdout",
     "output_type": "stream",
     "text": [
      "0.8769248486554597\n"
     ]
    },
    {
     "name": "stderr",
     "output_type": "stream",
     "text": [
      "\u001b[32m[I 2023-01-16 08:57:48,201]\u001b[0m Trial 72 finished with value: 0.8794557321008015 and parameters: {'max_depth': 16, 'n_estimators': 61, 'eta': 0.07881371859973874, 'subsample': 0.14594299953222853, 'colsample_bytree': 0.49025243767780036, 'reg_lambda': 19.4280145561188}. Best is trial 22 with value: 0.9032459017939101.\u001b[0m\n"
     ]
    },
    {
     "name": "stdout",
     "output_type": "stream",
     "text": [
      "0.8794557321008015\n"
     ]
    },
    {
     "name": "stderr",
     "output_type": "stream",
     "text": [
      "\u001b[32m[I 2023-01-16 08:57:49,147]\u001b[0m Trial 73 finished with value: 0.8675832083493562 and parameters: {'max_depth': 17, 'n_estimators': 70, 'eta': 0.04227841561357749, 'subsample': 0.20042420260426758, 'colsample_bytree': 0.5461576780591281, 'reg_lambda': 22.335879935364364}. Best is trial 22 with value: 0.9032459017939101.\u001b[0m\n"
     ]
    },
    {
     "name": "stdout",
     "output_type": "stream",
     "text": [
      "0.8675832083493562\n"
     ]
    },
    {
     "name": "stderr",
     "output_type": "stream",
     "text": [
      "\u001b[32m[I 2023-01-16 08:57:50,157]\u001b[0m Trial 74 finished with value: 0.89184716103975 and parameters: {'max_depth': 8, 'n_estimators': 77, 'eta': 0.08284584467778193, 'subsample': 0.10229065644890806, 'colsample_bytree': 0.46255597070232074, 'reg_lambda': 14.762595778925569}. Best is trial 22 with value: 0.9032459017939101.\u001b[0m\n"
     ]
    },
    {
     "name": "stdout",
     "output_type": "stream",
     "text": [
      "0.89184716103975\n"
     ]
    },
    {
     "name": "stderr",
     "output_type": "stream",
     "text": [
      "\u001b[32m[I 2023-01-16 08:57:51,089]\u001b[0m Trial 75 finished with value: 0.8881026927172112 and parameters: {'max_depth': 8, 'n_estimators': 77, 'eta': 0.08893986390099748, 'subsample': 0.10242701765673452, 'colsample_bytree': 0.3609842150123239, 'reg_lambda': 11.09676514393985}. Best is trial 22 with value: 0.9032459017939101.\u001b[0m\n"
     ]
    },
    {
     "name": "stdout",
     "output_type": "stream",
     "text": [
      "0.8881026927172112\n"
     ]
    },
    {
     "name": "stderr",
     "output_type": "stream",
     "text": [
      "\u001b[32m[I 2023-01-16 08:57:52,183]\u001b[0m Trial 76 finished with value: 0.8726510364297706 and parameters: {'max_depth': 6, 'n_estimators': 82, 'eta': 0.08390405312924021, 'subsample': 0.22550055262765972, 'colsample_bytree': 0.4396459788191668, 'reg_lambda': 14.034910426170079}. Best is trial 22 with value: 0.9032459017939101.\u001b[0m\n"
     ]
    },
    {
     "name": "stdout",
     "output_type": "stream",
     "text": [
      "0.8726510364297706\n"
     ]
    },
    {
     "name": "stderr",
     "output_type": "stream",
     "text": [
      "\u001b[32m[I 2023-01-16 08:57:52,710]\u001b[0m Trial 77 finished with value: 0.872493108764009 and parameters: {'max_depth': 7, 'n_estimators': 29, 'eta': 0.10928138541177965, 'subsample': 0.42193737240912693, 'colsample_bytree': 0.39986931207310233, 'reg_lambda': 12.323491442774051}. Best is trial 22 with value: 0.9032459017939101.\u001b[0m\n"
     ]
    },
    {
     "name": "stdout",
     "output_type": "stream",
     "text": [
      "0.872493108764009\n"
     ]
    },
    {
     "name": "stderr",
     "output_type": "stream",
     "text": [
      "\u001b[32m[I 2023-01-16 08:57:53,322]\u001b[0m Trial 78 finished with value: 0.8654877203663384 and parameters: {'max_depth': 10, 'n_estimators': 33, 'eta': 0.061440151207713706, 'subsample': 0.27042709469864656, 'colsample_bytree': 0.727496929830163, 'reg_lambda': 15.306141855160465}. Best is trial 22 with value: 0.9032459017939101.\u001b[0m\n"
     ]
    },
    {
     "name": "stdout",
     "output_type": "stream",
     "text": [
      "0.8654877203663384\n"
     ]
    },
    {
     "name": "stderr",
     "output_type": "stream",
     "text": [
      "\u001b[32m[I 2023-01-16 08:57:54,391]\u001b[0m Trial 79 finished with value: 0.87851759462359 and parameters: {'max_depth': 8, 'n_estimators': 85, 'eta': 0.07483454606151617, 'subsample': 0.46594741639308057, 'colsample_bytree': 0.33744739449961125, 'reg_lambda': 33.45562734717015}. Best is trial 22 with value: 0.9032459017939101.\u001b[0m\n"
     ]
    },
    {
     "name": "stdout",
     "output_type": "stream",
     "text": [
      "0.87851759462359\n"
     ]
    },
    {
     "name": "stderr",
     "output_type": "stream",
     "text": [
      "\u001b[32m[I 2023-01-16 08:57:55,313]\u001b[0m Trial 80 finished with value: 0.8773831419456554 and parameters: {'max_depth': 19, 'n_estimators': 42, 'eta': 0.09966723033981832, 'subsample': 0.5343870977698632, 'colsample_bytree': 0.4996875472296188, 'reg_lambda': 1.218865981039258}. Best is trial 22 with value: 0.9032459017939101.\u001b[0m\n"
     ]
    },
    {
     "name": "stdout",
     "output_type": "stream",
     "text": [
      "0.8773831419456554\n"
     ]
    },
    {
     "name": "stderr",
     "output_type": "stream",
     "text": [
      "\u001b[32m[I 2023-01-16 08:57:56,108]\u001b[0m Trial 81 finished with value: 0.8670784459378917 and parameters: {'max_depth': 7, 'n_estimators': 73, 'eta': 0.06956221560427898, 'subsample': 0.1498389199821652, 'colsample_bytree': 0.5351543557338485, 'reg_lambda': 20.186818397667174}. Best is trial 22 with value: 0.9032459017939101.\u001b[0m\n"
     ]
    },
    {
     "name": "stdout",
     "output_type": "stream",
     "text": [
      "0.8670784459378917\n"
     ]
    },
    {
     "name": "stderr",
     "output_type": "stream",
     "text": [
      "\u001b[32m[I 2023-01-16 08:57:56,798]\u001b[0m Trial 82 finished with value: 0.885225984724455 and parameters: {'max_depth': 9, 'n_estimators': 55, 'eta': 0.08741647329581476, 'subsample': 0.16458968689885026, 'colsample_bytree': 0.46471823846060983, 'reg_lambda': 16.954893588581662}. Best is trial 22 with value: 0.9032459017939101.\u001b[0m\n"
     ]
    },
    {
     "name": "stdout",
     "output_type": "stream",
     "text": [
      "0.885225984724455\n"
     ]
    },
    {
     "name": "stderr",
     "output_type": "stream",
     "text": [
      "\u001b[32m[I 2023-01-16 08:57:57,509]\u001b[0m Trial 83 finished with value: 0.8853643818899732 and parameters: {'max_depth': 12, 'n_estimators': 59, 'eta': 0.08247724913836955, 'subsample': 0.10486164794732762, 'colsample_bytree': 0.43182332805756685, 'reg_lambda': 21.70733829156419}. Best is trial 22 with value: 0.9032459017939101.\u001b[0m\n"
     ]
    },
    {
     "name": "stdout",
     "output_type": "stream",
     "text": [
      "0.8853643818899732\n"
     ]
    },
    {
     "name": "stderr",
     "output_type": "stream",
     "text": [
      "\u001b[32m[I 2023-01-16 08:57:58,290]\u001b[0m Trial 84 finished with value: 0.8924384637712588 and parameters: {'max_depth': 11, 'n_estimators': 61, 'eta': 0.09539767175933146, 'subsample': 0.5992227800381023, 'colsample_bytree': 0.3810152461107379, 'reg_lambda': 35.6424857760296}. Best is trial 22 with value: 0.9032459017939101.\u001b[0m\n"
     ]
    },
    {
     "name": "stdout",
     "output_type": "stream",
     "text": [
      "0.8924384637712588\n"
     ]
    },
    {
     "name": "stderr",
     "output_type": "stream",
     "text": [
      "\u001b[32m[I 2023-01-16 08:57:59,210]\u001b[0m Trial 85 finished with value: 0.882565795898191 and parameters: {'max_depth': 11, 'n_estimators': 67, 'eta': 0.10378662198553401, 'subsample': 0.5919252009121987, 'colsample_bytree': 0.3722737230644356, 'reg_lambda': 36.71961656046204}. Best is trial 22 with value: 0.9032459017939101.\u001b[0m\n"
     ]
    },
    {
     "name": "stdout",
     "output_type": "stream",
     "text": [
      "0.882565795898191\n"
     ]
    },
    {
     "name": "stderr",
     "output_type": "stream",
     "text": [
      "\u001b[32m[I 2023-01-16 08:57:59,960]\u001b[0m Trial 86 finished with value: 0.8816636888266007 and parameters: {'max_depth': 10, 'n_estimators': 64, 'eta': 0.09665514561417679, 'subsample': 0.6758202295986316, 'colsample_bytree': 0.2739619946743658, 'reg_lambda': 34.83287837381193}. Best is trial 22 with value: 0.9032459017939101.\u001b[0m\n"
     ]
    },
    {
     "name": "stdout",
     "output_type": "stream",
     "text": [
      "0.8816636888266007\n"
     ]
    },
    {
     "name": "stderr",
     "output_type": "stream",
     "text": [
      "\u001b[32m[I 2023-01-16 08:58:00,479]\u001b[0m Trial 87 finished with value: 0.8976494032758711 and parameters: {'max_depth': 12, 'n_estimators': 78, 'eta': 0.09224649330134366, 'subsample': 0.6064681257976647, 'colsample_bytree': 0.24589803654052994, 'reg_lambda': 33.16825560416121}. Best is trial 22 with value: 0.9032459017939101.\u001b[0m\n"
     ]
    },
    {
     "name": "stdout",
     "output_type": "stream",
     "text": [
      "0.8976494032758711\n"
     ]
    },
    {
     "name": "stderr",
     "output_type": "stream",
     "text": [
      "\u001b[32m[I 2023-01-16 08:58:01,017]\u001b[0m Trial 88 finished with value: 0.8719566934728394 and parameters: {'max_depth': 12, 'n_estimators': 49, 'eta': 0.10622166531938318, 'subsample': 0.6116927158496877, 'colsample_bytree': 0.29928111628947, 'reg_lambda': 35.79866923518644}. Best is trial 22 with value: 0.9032459017939101.\u001b[0m\n"
     ]
    },
    {
     "name": "stdout",
     "output_type": "stream",
     "text": [
      "0.8719566934728394\n"
     ]
    },
    {
     "name": "stderr",
     "output_type": "stream",
     "text": [
      "\u001b[32m[I 2023-01-16 08:58:01,913]\u001b[0m Trial 89 finished with value: 0.8797035674142358 and parameters: {'max_depth': 11, 'n_estimators': 61, 'eta': 0.09408950342147047, 'subsample': 0.5582875244572233, 'colsample_bytree': 0.2183777878330184, 'reg_lambda': 29.902138820027126}. Best is trial 22 with value: 0.9032459017939101.\u001b[0m\n"
     ]
    },
    {
     "name": "stdout",
     "output_type": "stream",
     "text": [
      "0.8797035674142358\n"
     ]
    },
    {
     "name": "stderr",
     "output_type": "stream",
     "text": [
      "\u001b[32m[I 2023-01-16 08:58:02,791]\u001b[0m Trial 90 finished with value: 0.8944181156838673 and parameters: {'max_depth': 14, 'n_estimators': 70, 'eta': 0.11061106349380534, 'subsample': 0.5921391945664302, 'colsample_bytree': 0.10134015319142889, 'reg_lambda': 38.59774393616419}. Best is trial 22 with value: 0.9032459017939101.\u001b[0m\n"
     ]
    },
    {
     "name": "stdout",
     "output_type": "stream",
     "text": [
      "0.8944181156838673\n"
     ]
    },
    {
     "name": "stderr",
     "output_type": "stream",
     "text": [
      "\u001b[32m[I 2023-01-16 08:58:03,680]\u001b[0m Trial 91 finished with value: 0.8857785631882396 and parameters: {'max_depth': 14, 'n_estimators': 70, 'eta': 0.11073648591536102, 'subsample': 0.5836081749782192, 'colsample_bytree': 0.1612873216467456, 'reg_lambda': 38.74636435794937}. Best is trial 22 with value: 0.9032459017939101.\u001b[0m\n"
     ]
    },
    {
     "name": "stdout",
     "output_type": "stream",
     "text": [
      "0.8857785631882396\n"
     ]
    },
    {
     "name": "stderr",
     "output_type": "stream",
     "text": [
      "\u001b[32m[I 2023-01-16 08:58:04,749]\u001b[0m Trial 92 finished with value: 0.8903806898576765 and parameters: {'max_depth': 13, 'n_estimators': 79, 'eta': 0.09045827092893084, 'subsample': 0.7284976809545823, 'colsample_bytree': 0.10287933712642332, 'reg_lambda': 32.9261096902284}. Best is trial 22 with value: 0.9032459017939101.\u001b[0m\n"
     ]
    },
    {
     "name": "stdout",
     "output_type": "stream",
     "text": [
      "0.8903806898576765\n"
     ]
    },
    {
     "name": "stderr",
     "output_type": "stream",
     "text": [
      "\u001b[32m[I 2023-01-16 08:58:05,194]\u001b[0m Trial 93 finished with value: 0.8652153035612185 and parameters: {'max_depth': 15, 'n_estimators': 35, 'eta': 0.10617759022615611, 'subsample': 0.6321238028624279, 'colsample_bytree': 0.2383184984971736, 'reg_lambda': 35.1773852744112}. Best is trial 22 with value: 0.9032459017939101.\u001b[0m\n"
     ]
    },
    {
     "name": "stdout",
     "output_type": "stream",
     "text": [
      "0.8652153035612185\n"
     ]
    },
    {
     "name": "stderr",
     "output_type": "stream",
     "text": [
      "\u001b[32m[I 2023-01-16 08:58:05,612]\u001b[0m Trial 94 finished with value: 0.8799399538137342 and parameters: {'max_depth': 19, 'n_estimators': 65, 'eta': 0.09606206425176067, 'subsample': 0.6489169552026309, 'colsample_bytree': 0.26168161427357817, 'reg_lambda': 38.084881985050345}. Best is trial 22 with value: 0.9032459017939101.\u001b[0m\n"
     ]
    },
    {
     "name": "stdout",
     "output_type": "stream",
     "text": [
      "0.8799399538137342\n"
     ]
    },
    {
     "name": "stderr",
     "output_type": "stream",
     "text": [
      "\u001b[32m[I 2023-01-16 08:58:05,870]\u001b[0m Trial 95 finished with value: 0.8171069672029024 and parameters: {'max_depth': 12, 'n_estimators': 26, 'eta': 0.10185363871427155, 'subsample': 0.4964754279839866, 'colsample_bytree': 0.1420383200556795, 'reg_lambda': 36.312612940719866}. Best is trial 22 with value: 0.9032459017939101.\u001b[0m\n"
     ]
    },
    {
     "name": "stdout",
     "output_type": "stream",
     "text": [
      "0.8171069672029024\n"
     ]
    },
    {
     "name": "stderr",
     "output_type": "stream",
     "text": [
      "\u001b[32m[I 2023-01-16 08:58:06,521]\u001b[0m Trial 96 finished with value: 0.8760523740669977 and parameters: {'max_depth': 11, 'n_estimators': 74, 'eta': 0.048010202304268515, 'subsample': 0.38891005616560825, 'colsample_bytree': 0.19854023596635334, 'reg_lambda': 30.821628676928448}. Best is trial 22 with value: 0.9032459017939101.\u001b[0m\n"
     ]
    },
    {
     "name": "stdout",
     "output_type": "stream",
     "text": [
      "0.8760523740669977\n"
     ]
    },
    {
     "name": "stderr",
     "output_type": "stream",
     "text": [
      "\u001b[32m[I 2023-01-16 08:58:07,489]\u001b[0m Trial 97 finished with value: 0.7888002009621128 and parameters: {'max_depth': 13, 'n_estimators': 83, 'eta': 0.003393838316604364, 'subsample': 0.5572250371620096, 'colsample_bytree': 0.31585975612734973, 'reg_lambda': 39.702483982258066}. Best is trial 22 with value: 0.9032459017939101.\u001b[0m\n"
     ]
    },
    {
     "name": "stdout",
     "output_type": "stream",
     "text": [
      "0.7888002009621128\n"
     ]
    },
    {
     "name": "stderr",
     "output_type": "stream",
     "text": [
      "\u001b[32m[I 2023-01-16 08:58:08,383]\u001b[0m Trial 98 finished with value: 0.8970345292509649 and parameters: {'max_depth': 20, 'n_estimators': 53, 'eta': 0.1113324759856544, 'subsample': 0.6002094827435498, 'colsample_bytree': 0.5963212468413921, 'reg_lambda': 23.67134385955112}. Best is trial 22 with value: 0.9032459017939101.\u001b[0m\n"
     ]
    },
    {
     "name": "stdout",
     "output_type": "stream",
     "text": [
      "0.8970345292509649\n"
     ]
    },
    {
     "name": "stderr",
     "output_type": "stream",
     "text": [
      "\u001b[32m[I 2023-01-16 08:58:09,276]\u001b[0m Trial 99 finished with value: 0.8813690476591347 and parameters: {'max_depth': 20, 'n_estimators': 54, 'eta': 0.1108773528998255, 'subsample': 0.4330187999445496, 'colsample_bytree': 0.5618460563120984, 'reg_lambda': 32.21410253192583}. Best is trial 22 with value: 0.9032459017939101.\u001b[0m\n"
     ]
    },
    {
     "name": "stdout",
     "output_type": "stream",
     "text": [
      "0.8813690476591347\n"
     ]
    },
    {
     "name": "stderr",
     "output_type": "stream",
     "text": [
      "\u001b[32m[I 2023-01-16 08:58:10,193]\u001b[0m Trial 100 finished with value: 0.886884056848572 and parameters: {'max_depth': 18, 'n_estimators': 50, 'eta': 0.1069296700321627, 'subsample': 0.608059325783267, 'colsample_bytree': 0.5911904495891684, 'reg_lambda': 37.72535813207018}. Best is trial 22 with value: 0.9032459017939101.\u001b[0m\n"
     ]
    },
    {
     "name": "stdout",
     "output_type": "stream",
     "text": [
      "0.886884056848572\n"
     ]
    },
    {
     "name": "stderr",
     "output_type": "stream",
     "text": [
      "\u001b[32m[I 2023-01-16 08:58:10,715]\u001b[0m Trial 101 finished with value: 0.8939042614878066 and parameters: {'max_depth': 20, 'n_estimators': 56, 'eta': 0.11297477028374815, 'subsample': 0.6844098436196571, 'colsample_bytree': 0.6010550070835718, 'reg_lambda': 20.900056545825986}. Best is trial 22 with value: 0.9032459017939101.\u001b[0m\n"
     ]
    },
    {
     "name": "stdout",
     "output_type": "stream",
     "text": [
      "0.8939042614878066\n"
     ]
    },
    {
     "name": "stderr",
     "output_type": "stream",
     "text": [
      "\u001b[32m[I 2023-01-16 08:58:11,308]\u001b[0m Trial 102 finished with value: 0.8824509700260699 and parameters: {'max_depth': 20, 'n_estimators': 52, 'eta': 0.11085025679422791, 'subsample': 0.6661472312107497, 'colsample_bytree': 0.6307992880183435, 'reg_lambda': 23.345012962960613}. Best is trial 22 with value: 0.9032459017939101.\u001b[0m\n"
     ]
    },
    {
     "name": "stdout",
     "output_type": "stream",
     "text": [
      "0.8824509700260699\n"
     ]
    },
    {
     "name": "stderr",
     "output_type": "stream",
     "text": [
      "\u001b[32m[I 2023-01-16 08:58:12,153]\u001b[0m Trial 103 finished with value: 0.8729867589943006 and parameters: {'max_depth': 19, 'n_estimators': 47, 'eta': 0.10889687906458392, 'subsample': 0.6913843822802004, 'colsample_bytree': 0.6046618294460678, 'reg_lambda': 34.15299103892938}. Best is trial 22 with value: 0.9032459017939101.\u001b[0m\n"
     ]
    },
    {
     "name": "stdout",
     "output_type": "stream",
     "text": [
      "0.8729867589943006\n"
     ]
    },
    {
     "name": "stderr",
     "output_type": "stream",
     "text": [
      "\u001b[32m[I 2023-01-16 08:58:13,158]\u001b[0m Trial 104 finished with value: 0.8840009509333222 and parameters: {'max_depth': 20, 'n_estimators': 56, 'eta': 0.10440202254068308, 'subsample': 0.5995058145504142, 'colsample_bytree': 0.4010259485585378, 'reg_lambda': 24.863381424423523}. Best is trial 22 with value: 0.9032459017939101.\u001b[0m\n"
     ]
    },
    {
     "name": "stdout",
     "output_type": "stream",
     "text": [
      "0.8840009509333222\n"
     ]
    },
    {
     "name": "stderr",
     "output_type": "stream",
     "text": [
      "\u001b[32m[I 2023-01-16 08:58:13,891]\u001b[0m Trial 105 finished with value: 0.8690099450654171 and parameters: {'max_depth': 19, 'n_estimators': 40, 'eta': 0.11233243344109507, 'subsample': 0.8870386701559925, 'colsample_bytree': 0.3460490864396592, 'reg_lambda': 20.96774991302343}. Best is trial 22 with value: 0.9032459017939101.\u001b[0m\n"
     ]
    },
    {
     "name": "stdout",
     "output_type": "stream",
     "text": [
      "0.8690099450654171\n"
     ]
    },
    {
     "name": "stderr",
     "output_type": "stream",
     "text": [
      "\u001b[32m[I 2023-01-16 08:58:14,732]\u001b[0m Trial 106 finished with value: 0.8782141984042908 and parameters: {'max_depth': 18, 'n_estimators': 47, 'eta': 0.108287505712937, 'subsample': 0.544091231585689, 'colsample_bytree': 0.5254055721225823, 'reg_lambda': 25.95484012943616}. Best is trial 22 with value: 0.9032459017939101.\u001b[0m\n"
     ]
    },
    {
     "name": "stdout",
     "output_type": "stream",
     "text": [
      "0.8782141984042908\n"
     ]
    },
    {
     "name": "stderr",
     "output_type": "stream",
     "text": [
      "\u001b[32m[I 2023-01-16 08:58:15,847]\u001b[0m Trial 107 finished with value: 0.8807673062119785 and parameters: {'max_depth': 19, 'n_estimators': 61, 'eta': 0.11294438742024873, 'subsample': 0.5833102310993424, 'colsample_bytree': 0.6498555900350504, 'reg_lambda': 17.89796204495135}. Best is trial 22 with value: 0.9032459017939101.\u001b[0m\n"
     ]
    },
    {
     "name": "stdout",
     "output_type": "stream",
     "text": [
      "0.8807673062119785\n"
     ]
    },
    {
     "name": "stderr",
     "output_type": "stream",
     "text": [
      "\u001b[32m[I 2023-01-16 08:58:16,926]\u001b[0m Trial 108 finished with value: 0.88845861924751 and parameters: {'max_depth': 18, 'n_estimators': 58, 'eta': 0.09216034974957837, 'subsample': 0.46331626588742775, 'colsample_bytree': 0.9682045584371827, 'reg_lambda': 35.64316178467504}. Best is trial 22 with value: 0.9032459017939101.\u001b[0m\n"
     ]
    },
    {
     "name": "stdout",
     "output_type": "stream",
     "text": [
      "0.88845861924751\n"
     ]
    },
    {
     "name": "stderr",
     "output_type": "stream",
     "text": [
      "\u001b[32m[I 2023-01-16 08:58:17,535]\u001b[0m Trial 109 finished with value: 0.8754007961709445 and parameters: {'max_depth': 20, 'n_estimators': 54, 'eta': 0.10090955957647457, 'subsample': 0.5245533981269916, 'colsample_bytree': 0.1083852708274275, 'reg_lambda': 27.845107333307293}. Best is trial 22 with value: 0.9032459017939101.\u001b[0m\n"
     ]
    },
    {
     "name": "stdout",
     "output_type": "stream",
     "text": [
      "0.8754007961709445\n"
     ]
    },
    {
     "name": "stderr",
     "output_type": "stream",
     "text": [
      "\u001b[32m[I 2023-01-16 08:58:18,680]\u001b[0m Trial 110 finished with value: 0.8904423119532723 and parameters: {'max_depth': 15, 'n_estimators': 62, 'eta': 0.10393705819516146, 'subsample': 0.7168312838278742, 'colsample_bytree': 0.5964961465691494, 'reg_lambda': 23.715615725275413}. Best is trial 22 with value: 0.9032459017939101.\u001b[0m\n"
     ]
    },
    {
     "name": "stdout",
     "output_type": "stream",
     "text": [
      "0.8904423119532723\n"
     ]
    },
    {
     "name": "stderr",
     "output_type": "stream",
     "text": [
      "\u001b[32m[I 2023-01-16 08:58:20,035]\u001b[0m Trial 111 finished with value: 0.882365103171551 and parameters: {'max_depth': 19, 'n_estimators': 69, 'eta': 0.09889920824148138, 'subsample': 0.6817708961391358, 'colsample_bytree': 0.6770535417983777, 'reg_lambda': 20.834505337283957}. Best is trial 22 with value: 0.9032459017939101.\u001b[0m\n"
     ]
    },
    {
     "name": "stdout",
     "output_type": "stream",
     "text": [
      "0.882365103171551\n"
     ]
    },
    {
     "name": "stderr",
     "output_type": "stream",
     "text": [
      "\u001b[32m[I 2023-01-16 08:58:21,119]\u001b[0m Trial 112 finished with value: 0.8872585036808259 and parameters: {'max_depth': 12, 'n_estimators': 59, 'eta': 0.10744724720095326, 'subsample': 0.64729612044689, 'colsample_bytree': 0.621466299421517, 'reg_lambda': 22.41618267602574}. Best is trial 22 with value: 0.9032459017939101.\u001b[0m\n"
     ]
    },
    {
     "name": "stdout",
     "output_type": "stream",
     "text": [
      "0.8872585036808259\n"
     ]
    },
    {
     "name": "stderr",
     "output_type": "stream",
     "text": [
      "\u001b[32m[I 2023-01-16 08:58:22,186]\u001b[0m Trial 113 finished with value: 0.8950518467434911 and parameters: {'max_depth': 20, 'n_estimators': 67, 'eta': 0.08886228688306097, 'subsample': 0.6224999032940854, 'colsample_bytree': 0.5633003535738881, 'reg_lambda': 19.27065584455231}. Best is trial 22 with value: 0.9032459017939101.\u001b[0m\n"
     ]
    },
    {
     "name": "stdout",
     "output_type": "stream",
     "text": [
      "0.8950518467434911\n"
     ]
    },
    {
     "name": "stderr",
     "output_type": "stream",
     "text": [
      "\u001b[32m[I 2023-01-16 08:58:22,678]\u001b[0m Trial 114 finished with value: 0.8808838157479137 and parameters: {'max_depth': 20, 'n_estimators': 57, 'eta': 0.08895987584844882, 'subsample': 0.6238445547061384, 'colsample_bytree': 0.5439609686043989, 'reg_lambda': 18.576948879173028}. Best is trial 22 with value: 0.9032459017939101.\u001b[0m\n"
     ]
    },
    {
     "name": "stdout",
     "output_type": "stream",
     "text": [
      "0.8808838157479137\n"
     ]
    },
    {
     "name": "stderr",
     "output_type": "stream",
     "text": [
      "\u001b[32m[I 2023-01-16 08:58:23,600]\u001b[0m Trial 115 finished with value: 0.8852024134310577 and parameters: {'max_depth': 17, 'n_estimators': 72, 'eta': 0.08685797317677502, 'subsample': 0.5709629266480201, 'colsample_bytree': 0.5726508017534502, 'reg_lambda': 19.671260096944128}. Best is trial 22 with value: 0.9032459017939101.\u001b[0m\n"
     ]
    },
    {
     "name": "stdout",
     "output_type": "stream",
     "text": [
      "0.8852024134310577\n"
     ]
    },
    {
     "name": "stderr",
     "output_type": "stream",
     "text": [
      "\u001b[32m[I 2023-01-16 08:58:24,659]\u001b[0m Trial 116 finished with value: 0.8732234821265615 and parameters: {'max_depth': 20, 'n_estimators': 65, 'eta': 0.09359341622633102, 'subsample': 0.5006254841924052, 'colsample_bytree': 0.3927435867161525, 'reg_lambda': 18.8850288746452}. Best is trial 22 with value: 0.9032459017939101.\u001b[0m\n"
     ]
    },
    {
     "name": "stdout",
     "output_type": "stream",
     "text": [
      "0.8732234821265615\n"
     ]
    },
    {
     "name": "stderr",
     "output_type": "stream",
     "text": [
      "\u001b[32m[I 2023-01-16 08:58:25,365]\u001b[0m Trial 117 finished with value: 0.789385442503891 and parameters: {'max_depth': 20, 'n_estimators': 52, 'eta': 0.016187316149216008, 'subsample': 0.6564804226618637, 'colsample_bytree': 0.5054930213038372, 'reg_lambda': 33.1459286057026}. Best is trial 22 with value: 0.9032459017939101.\u001b[0m\n"
     ]
    },
    {
     "name": "stdout",
     "output_type": "stream",
     "text": [
      "0.789385442503891\n"
     ]
    },
    {
     "name": "stderr",
     "output_type": "stream",
     "text": [
      "\u001b[32m[I 2023-01-16 08:58:26,249]\u001b[0m Trial 118 finished with value: 0.8798850663733948 and parameters: {'max_depth': 19, 'n_estimators': 67, 'eta': 0.07624306063586535, 'subsample': 0.29275707373310045, 'colsample_bytree': 0.32857134955566336, 'reg_lambda': 38.47516951199976}. Best is trial 22 with value: 0.9032459017939101.\u001b[0m\n"
     ]
    },
    {
     "name": "stdout",
     "output_type": "stream",
     "text": [
      "0.8798850663733948\n"
     ]
    },
    {
     "name": "stderr",
     "output_type": "stream",
     "text": [
      "\u001b[32m[I 2023-01-16 08:58:27,111]\u001b[0m Trial 119 finished with value: 0.8846266004066385 and parameters: {'max_depth': 18, 'n_estimators': 56, 'eta': 0.08467761623383285, 'subsample': 0.5978922363928606, 'colsample_bytree': 0.3690758434859152, 'reg_lambda': 23.020432829199606}. Best is trial 22 with value: 0.9032459017939101.\u001b[0m\n"
     ]
    },
    {
     "name": "stdout",
     "output_type": "stream",
     "text": [
      "0.8846266004066385\n"
     ]
    },
    {
     "name": "stderr",
     "output_type": "stream",
     "text": [
      "\u001b[32m[I 2023-01-16 08:58:28,083]\u001b[0m Trial 120 finished with value: 0.8830533849387517 and parameters: {'max_depth': 17, 'n_estimators': 63, 'eta': 0.0388054629736053, 'subsample': 0.6180703711558099, 'colsample_bytree': 0.5559176158123127, 'reg_lambda': 20.31309832979696}. Best is trial 22 with value: 0.9032459017939101.\u001b[0m\n"
     ]
    },
    {
     "name": "stdout",
     "output_type": "stream",
     "text": [
      "0.8830533849387517\n"
     ]
    },
    {
     "name": "stderr",
     "output_type": "stream",
     "text": [
      "\u001b[32m[I 2023-01-16 08:58:29,383]\u001b[0m Trial 121 finished with value: 0.8820566559608097 and parameters: {'max_depth': 12, 'n_estimators': 71, 'eta': 0.09570080886304029, 'subsample': 0.6466951979165106, 'colsample_bytree': 0.6471828291934488, 'reg_lambda': 21.673110970332516}. Best is trial 22 with value: 0.9032459017939101.\u001b[0m\n"
     ]
    },
    {
     "name": "stdout",
     "output_type": "stream",
     "text": [
      "0.8820566559608097\n"
     ]
    },
    {
     "name": "stderr",
     "output_type": "stream",
     "text": [
      "\u001b[32m[I 2023-01-16 08:58:30,626]\u001b[0m Trial 122 finished with value: 0.8739484677649093 and parameters: {'max_depth': 19, 'n_estimators': 78, 'eta': 0.100162148555705, 'subsample': 0.33975973780922814, 'colsample_bytree': 0.7210229752587647, 'reg_lambda': 22.148448250897747}. Best is trial 22 with value: 0.9032459017939101.\u001b[0m\n"
     ]
    },
    {
     "name": "stdout",
     "output_type": "stream",
     "text": [
      "0.8739484677649093\n"
     ]
    },
    {
     "name": "stderr",
     "output_type": "stream",
     "text": [
      "\u001b[32m[I 2023-01-16 08:58:31,152]\u001b[0m Trial 123 finished with value: 0.8876854808240795 and parameters: {'max_depth': 5, 'n_estimators': 31, 'eta': 0.0910180943438026, 'subsample': 0.7521814955041917, 'colsample_bytree': 0.5800786084469639, 'reg_lambda': 3.127136567260397}. Best is trial 22 with value: 0.9032459017939101.\u001b[0m\n"
     ]
    },
    {
     "name": "stdout",
     "output_type": "stream",
     "text": [
      "0.8876854808240795\n"
     ]
    },
    {
     "name": "stderr",
     "output_type": "stream",
     "text": [
      "\u001b[32m[I 2023-01-16 08:58:32,398]\u001b[0m Trial 124 finished with value: 0.8789075311629335 and parameters: {'max_depth': 11, 'n_estimators': 75, 'eta': 0.11028120637194079, 'subsample': 0.7037040537929712, 'colsample_bytree': 0.4206743963407667, 'reg_lambda': 27.046381869810055}. Best is trial 22 with value: 0.9032459017939101.\u001b[0m\n"
     ]
    },
    {
     "name": "stdout",
     "output_type": "stream",
     "text": [
      "0.8789075311629335\n"
     ]
    },
    {
     "name": "stderr",
     "output_type": "stream",
     "text": [
      "\u001b[32m[I 2023-01-16 08:58:33,616]\u001b[0m Trial 125 finished with value: 0.8831412721898472 and parameters: {'max_depth': 13, 'n_estimators': 69, 'eta': 0.09716999908890632, 'subsample': 0.629546088885794, 'colsample_bytree': 0.66741858295403, 'reg_lambda': 24.517709698236942}. Best is trial 22 with value: 0.9032459017939101.\u001b[0m\n"
     ]
    },
    {
     "name": "stdout",
     "output_type": "stream",
     "text": [
      "0.8831412721898472\n"
     ]
    },
    {
     "name": "stderr",
     "output_type": "stream",
     "text": [
      "\u001b[32m[I 2023-01-16 08:58:34,734]\u001b[0m Trial 126 finished with value: 0.8722752426664655 and parameters: {'max_depth': 16, 'n_estimators': 66, 'eta': 0.08111739890246725, 'subsample': 0.5579017133753996, 'colsample_bytree': 0.526988287488971, 'reg_lambda': 19.586108868806573}. Best is trial 22 with value: 0.9032459017939101.\u001b[0m\n"
     ]
    },
    {
     "name": "stdout",
     "output_type": "stream",
     "text": [
      "0.8722752426664655\n"
     ]
    },
    {
     "name": "stderr",
     "output_type": "stream",
     "text": [
      "\u001b[32m[I 2023-01-16 08:58:35,626]\u001b[0m Trial 127 finished with value: 0.8780818624285034 and parameters: {'max_depth': 14, 'n_estimators': 59, 'eta': 0.05698256828110394, 'subsample': 0.6033663676356079, 'colsample_bytree': 0.45196758675673776, 'reg_lambda': 18.117974293063636}. Best is trial 22 with value: 0.9032459017939101.\u001b[0m\n"
     ]
    },
    {
     "name": "stdout",
     "output_type": "stream",
     "text": [
      "0.8780818624285034\n"
     ]
    },
    {
     "name": "stderr",
     "output_type": "stream",
     "text": [
      "\u001b[32m[I 2023-01-16 08:58:36,087]\u001b[0m Trial 128 finished with value: 0.8602922705688155 and parameters: {'max_depth': 6, 'n_estimators': 73, 'eta': 0.02984822616459956, 'subsample': 0.48054283447884155, 'colsample_bytree': 0.2893146767562089, 'reg_lambda': 34.26500521634243}. Best is trial 22 with value: 0.9032459017939101.\u001b[0m\n"
     ]
    },
    {
     "name": "stdout",
     "output_type": "stream",
     "text": [
      "0.8602922705688155\n"
     ]
    },
    {
     "name": "stderr",
     "output_type": "stream",
     "text": [
      "\u001b[32m[I 2023-01-16 08:58:36,623]\u001b[0m Trial 129 finished with value: 0.8737141017619878 and parameters: {'max_depth': 20, 'n_estimators': 62, 'eta': 0.10261781149418284, 'subsample': 0.6699016346677653, 'colsample_bytree': 0.23853546602584186, 'reg_lambda': 16.605974581392687}. Best is trial 22 with value: 0.9032459017939101.\u001b[0m\n"
     ]
    },
    {
     "name": "stdout",
     "output_type": "stream",
     "text": [
      "0.8737141017619878\n"
     ]
    },
    {
     "name": "stderr",
     "output_type": "stream",
     "text": [
      "\u001b[32m[I 2023-01-16 08:58:36,991]\u001b[0m Trial 130 finished with value: 0.8634188342715832 and parameters: {'max_depth': 12, 'n_estimators': 21, 'eta': 0.10535191608358375, 'subsample': 0.453935289751745, 'colsample_bytree': 0.6997221870008538, 'reg_lambda': 28.772826801826735}. Best is trial 22 with value: 0.9032459017939101.\u001b[0m\n"
     ]
    },
    {
     "name": "stdout",
     "output_type": "stream",
     "text": [
      "0.8634188342715832\n"
     ]
    },
    {
     "name": "stderr",
     "output_type": "stream",
     "text": [
      "\u001b[32m[I 2023-01-16 08:58:38,101]\u001b[0m Trial 131 finished with value: 0.8871224636446473 and parameters: {'max_depth': 9, 'n_estimators': 78, 'eta': 0.08498348379386528, 'subsample': 0.2171912782307071, 'colsample_bytree': 0.6109633401905097, 'reg_lambda': 15.101744794751491}. Best is trial 22 with value: 0.9032459017939101.\u001b[0m\n"
     ]
    },
    {
     "name": "stdout",
     "output_type": "stream",
     "text": [
      "0.8871224636446473\n"
     ]
    },
    {
     "name": "stderr",
     "output_type": "stream",
     "text": [
      "\u001b[32m[I 2023-01-16 08:58:39,207]\u001b[0m Trial 132 finished with value: 0.8710158621335253 and parameters: {'max_depth': 10, 'n_estimators': 68, 'eta': 0.08922045049393415, 'subsample': 0.5800593889142536, 'colsample_bytree': 0.48749596075938173, 'reg_lambda': 21.21859510219064}. Best is trial 22 with value: 0.9032459017939101.\u001b[0m\n"
     ]
    },
    {
     "name": "stdout",
     "output_type": "stream",
     "text": [
      "0.8710158621335253\n"
     ]
    },
    {
     "name": "stderr",
     "output_type": "stream",
     "text": [
      "\u001b[32m[I 2023-01-16 08:58:39,798]\u001b[0m Trial 133 finished with value: 0.8827900599182279 and parameters: {'max_depth': 7, 'n_estimators': 64, 'eta': 0.09185987597025345, 'subsample': 0.2413643023288018, 'colsample_bytree': 0.45778392979759897, 'reg_lambda': 32.50985413842495}. Best is trial 22 with value: 0.9032459017939101.\u001b[0m\n"
     ]
    },
    {
     "name": "stdout",
     "output_type": "stream",
     "text": [
      "0.8827900599182279\n"
     ]
    },
    {
     "name": "stderr",
     "output_type": "stream",
     "text": [
      "\u001b[32m[I 2023-01-16 08:58:40,334]\u001b[0m Trial 134 finished with value: 0.8818633713549521 and parameters: {'max_depth': 8, 'n_estimators': 76, 'eta': 0.08723055733793997, 'subsample': 0.3906147274766859, 'colsample_bytree': 0.5650589697723275, 'reg_lambda': 30.705069601866285}. Best is trial 22 with value: 0.9032459017939101.\u001b[0m\n"
     ]
    },
    {
     "name": "stdout",
     "output_type": "stream",
     "text": [
      "0.8818633713549521\n"
     ]
    },
    {
     "name": "stderr",
     "output_type": "stream",
     "text": [
      "\u001b[32m[I 2023-01-16 08:58:41,329]\u001b[0m Trial 135 finished with value: 0.8887185769404058 and parameters: {'max_depth': 8, 'n_estimators': 71, 'eta': 0.11293330169466265, 'subsample': 0.540215098278573, 'colsample_bytree': 0.638320549152781, 'reg_lambda': 20.31519845753164}. Best is trial 22 with value: 0.9032459017939101.\u001b[0m\n"
     ]
    },
    {
     "name": "stdout",
     "output_type": "stream",
     "text": [
      "0.8887185769404058\n"
     ]
    },
    {
     "name": "stderr",
     "output_type": "stream",
     "text": [
      "\u001b[32m[I 2023-01-16 08:58:42,516]\u001b[0m Trial 136 finished with value: 0.8814879143244096 and parameters: {'max_depth': 13, 'n_estimators': 81, 'eta': 0.0824901554464915, 'subsample': 0.3621196727673782, 'colsample_bytree': 0.43183233680156374, 'reg_lambda': 39.44963061689701}. Best is trial 22 with value: 0.9032459017939101.\u001b[0m\n"
     ]
    },
    {
     "name": "stdout",
     "output_type": "stream",
     "text": [
      "0.8814879143244096\n"
     ]
    },
    {
     "name": "stderr",
     "output_type": "stream",
     "text": [
      "\u001b[32m[I 2023-01-16 08:58:43,216]\u001b[0m Trial 137 finished with value: 0.8749862781399151 and parameters: {'max_depth': 19, 'n_estimators': 36, 'eta': 0.09442274811147162, 'subsample': 0.6355414977309017, 'colsample_bytree': 0.38059821451717796, 'reg_lambda': 19.093276513094743}. Best is trial 22 with value: 0.9032459017939101.\u001b[0m\n"
     ]
    },
    {
     "name": "stdout",
     "output_type": "stream",
     "text": [
      "0.8749862781399151\n"
     ]
    },
    {
     "name": "stderr",
     "output_type": "stream",
     "text": [
      "\u001b[32m[I 2023-01-16 08:58:44,172]\u001b[0m Trial 138 finished with value: 0.8948272459906914 and parameters: {'max_depth': 7, 'n_estimators': 60, 'eta': 0.10971141817721482, 'subsample': 0.6074997711962347, 'colsample_bytree': 0.5885509695581504, 'reg_lambda': 22.67786937323302}. Best is trial 22 with value: 0.9032459017939101.\u001b[0m\n"
     ]
    },
    {
     "name": "stdout",
     "output_type": "stream",
     "text": [
      "0.8948272459906914\n"
     ]
    },
    {
     "name": "stderr",
     "output_type": "stream",
     "text": [
      "\u001b[32m[I 2023-01-16 08:58:44,691]\u001b[0m Trial 139 finished with value: 0.8882154981927552 and parameters: {'max_depth': 7, 'n_estimators': 53, 'eta': 0.10935419015408634, 'subsample': 0.60895094150576, 'colsample_bytree': 0.6036338884090596, 'reg_lambda': 22.71587054811306}. Best is trial 22 with value: 0.9032459017939101.\u001b[0m\n"
     ]
    },
    {
     "name": "stdout",
     "output_type": "stream",
     "text": [
      "0.8882154981927552\n"
     ]
    },
    {
     "name": "stderr",
     "output_type": "stream",
     "text": [
      "\u001b[32m[I 2023-01-16 08:58:45,079]\u001b[0m Trial 140 finished with value: 0.8856122172034074 and parameters: {'max_depth': 6, 'n_estimators': 60, 'eta': 0.10668232106007623, 'subsample': 0.5862039783014023, 'colsample_bytree': 0.5483651147766212, 'reg_lambda': 24.164275596711033}. Best is trial 22 with value: 0.9032459017939101.\u001b[0m\n"
     ]
    },
    {
     "name": "stdout",
     "output_type": "stream",
     "text": [
      "0.8856122172034074\n"
     ]
    },
    {
     "name": "stderr",
     "output_type": "stream",
     "text": [
      "\u001b[32m[I 2023-01-16 08:58:45,551]\u001b[0m Trial 141 finished with value: 0.9003132961625261 and parameters: {'max_depth': 7, 'n_estimators': 57, 'eta': 0.10937104231864965, 'subsample': 0.42344794752686254, 'colsample_bytree': 0.5926699726789859, 'reg_lambda': 21.97458589869355}. Best is trial 22 with value: 0.9032459017939101.\u001b[0m\n"
     ]
    },
    {
     "name": "stdout",
     "output_type": "stream",
     "text": [
      "0.9003132961625261\n"
     ]
    },
    {
     "name": "stderr",
     "output_type": "stream",
     "text": [
      "\u001b[32m[I 2023-01-16 08:58:46,373]\u001b[0m Trial 142 finished with value: 0.9022660094541091 and parameters: {'max_depth': 7, 'n_estimators': 55, 'eta': 0.10936251277677218, 'subsample': 0.40775897736765343, 'colsample_bytree': 0.5877034803821272, 'reg_lambda': 21.505693059383237}. Best is trial 22 with value: 0.9032459017939101.\u001b[0m\n"
     ]
    },
    {
     "name": "stdout",
     "output_type": "stream",
     "text": [
      "0.9022660094541091\n"
     ]
    },
    {
     "name": "stderr",
     "output_type": "stream",
     "text": [
      "\u001b[32m[I 2023-01-16 08:58:47,262]\u001b[0m Trial 143 finished with value: 0.8968271018690688 and parameters: {'max_depth': 7, 'n_estimators': 57, 'eta': 0.11075098261512366, 'subsample': 0.44298254820105487, 'colsample_bytree': 0.5787158187408998, 'reg_lambda': 22.03518318074992}. Best is trial 22 with value: 0.9032459017939101.\u001b[0m\n"
     ]
    },
    {
     "name": "stdout",
     "output_type": "stream",
     "text": [
      "0.8968271018690688\n"
     ]
    },
    {
     "name": "stderr",
     "output_type": "stream",
     "text": [
      "\u001b[32m[I 2023-01-16 08:58:48,132]\u001b[0m Trial 144 finished with value: 0.8835079741685563 and parameters: {'max_depth': 7, 'n_estimators': 56, 'eta': 0.11057436611901053, 'subsample': 0.42115606597080996, 'colsample_bytree': 0.5859035181756839, 'reg_lambda': 25.101820535345098}. Best is trial 22 with value: 0.9032459017939101.\u001b[0m\n"
     ]
    },
    {
     "name": "stdout",
     "output_type": "stream",
     "text": [
      "0.8835079741685563\n"
     ]
    },
    {
     "name": "stderr",
     "output_type": "stream",
     "text": [
      "\u001b[32m[I 2023-01-16 08:58:48,924]\u001b[0m Trial 145 finished with value: 0.8770137461048437 and parameters: {'max_depth': 7, 'n_estimators': 51, 'eta': 0.10805657499889153, 'subsample': 0.4068532675308842, 'colsample_bytree': 0.6217664211194018, 'reg_lambda': 22.107027425158098}. Best is trial 22 with value: 0.9032459017939101.\u001b[0m\n"
     ]
    },
    {
     "name": "stdout",
     "output_type": "stream",
     "text": [
      "0.8770137461048437\n"
     ]
    },
    {
     "name": "stderr",
     "output_type": "stream",
     "text": [
      "\u001b[32m[I 2023-01-16 08:58:49,754]\u001b[0m Trial 146 finished with value: 0.8760493434721323 and parameters: {'max_depth': 6, 'n_estimators': 54, 'eta': 0.11137627813042537, 'subsample': 0.43257549304883447, 'colsample_bytree': 0.595192354506811, 'reg_lambda': 23.50918079714238}. Best is trial 22 with value: 0.9032459017939101.\u001b[0m\n"
     ]
    },
    {
     "name": "stdout",
     "output_type": "stream",
     "text": [
      "0.8760493434721323\n"
     ]
    },
    {
     "name": "stderr",
     "output_type": "stream",
     "text": [
      "\u001b[32m[I 2023-01-16 08:58:50,366]\u001b[0m Trial 147 finished with value: 0.9025296712073958 and parameters: {'max_depth': 7, 'n_estimators': 57, 'eta': 0.1051749660436475, 'subsample': 0.44976201360129114, 'colsample_bytree': 0.5643480937155492, 'reg_lambda': 20.76767987170846}. Best is trial 22 with value: 0.9032459017939101.\u001b[0m\n"
     ]
    },
    {
     "name": "stdout",
     "output_type": "stream",
     "text": [
      "0.9025296712073958\n"
     ]
    },
    {
     "name": "stderr",
     "output_type": "stream",
     "text": [
      "\u001b[32m[I 2023-01-16 08:58:50,784]\u001b[0m Trial 148 finished with value: 0.8727648521036032 and parameters: {'max_depth': 7, 'n_estimators': 48, 'eta': 0.10901903016756567, 'subsample': 0.44482101635853616, 'colsample_bytree': 0.5691710623581024, 'reg_lambda': 20.877012352936845}. Best is trial 22 with value: 0.9032459017939101.\u001b[0m\n"
     ]
    },
    {
     "name": "stdout",
     "output_type": "stream",
     "text": [
      "0.8727648521036032\n"
     ]
    },
    {
     "name": "stderr",
     "output_type": "stream",
     "text": [
      "\u001b[32m[I 2023-01-16 08:58:51,340]\u001b[0m Trial 149 finished with value: 0.8674899333740556 and parameters: {'max_depth': 6, 'n_estimators': 58, 'eta': 0.10461040495392669, 'subsample': 0.3665332900967233, 'colsample_bytree': 0.5273889042668046, 'reg_lambda': 21.937569418871444}. Best is trial 22 with value: 0.9032459017939101.\u001b[0m\n"
     ]
    },
    {
     "name": "stdout",
     "output_type": "stream",
     "text": [
      "0.8674899333740556\n"
     ]
    },
    {
     "name": "stderr",
     "output_type": "stream",
     "text": [
      "\u001b[32m[I 2023-01-16 08:58:52,134]\u001b[0m Trial 150 finished with value: 0.8885872511629066 and parameters: {'max_depth': 7, 'n_estimators': 55, 'eta': 0.10621727694729702, 'subsample': 0.37887913994405026, 'colsample_bytree': 0.5518815974242686, 'reg_lambda': 22.810176747876742}. Best is trial 22 with value: 0.9032459017939101.\u001b[0m\n"
     ]
    },
    {
     "name": "stdout",
     "output_type": "stream",
     "text": [
      "0.8885872511629066\n"
     ]
    },
    {
     "name": "stderr",
     "output_type": "stream",
     "text": [
      "\u001b[32m[I 2023-01-16 08:58:52,892]\u001b[0m Trial 151 finished with value: 0.8756499784154299 and parameters: {'max_depth': 8, 'n_estimators': 50, 'eta': 0.1115556823493941, 'subsample': 0.4706559502333671, 'colsample_bytree': 0.5970257842948264, 'reg_lambda': 20.326195565027138}. Best is trial 22 with value: 0.9032459017939101.\u001b[0m\n"
     ]
    },
    {
     "name": "stdout",
     "output_type": "stream",
     "text": [
      "0.8756499784154299\n"
     ]
    },
    {
     "name": "stderr",
     "output_type": "stream",
     "text": [
      "\u001b[32m[I 2023-01-16 08:58:53,332]\u001b[0m Trial 152 finished with value: 0.8754728569821875 and parameters: {'max_depth': 6, 'n_estimators': 57, 'eta': 0.11278268239218553, 'subsample': 0.4282375377726345, 'colsample_bytree': 0.5833550925616495, 'reg_lambda': 20.95117192569486}. Best is trial 22 with value: 0.9032459017939101.\u001b[0m\n"
     ]
    },
    {
     "name": "stdout",
     "output_type": "stream",
     "text": [
      "0.8754728569821875\n"
     ]
    },
    {
     "name": "stderr",
     "output_type": "stream",
     "text": [
      "\u001b[32m[I 2023-01-16 08:58:53,803]\u001b[0m Trial 153 finished with value: 0.8938086293831662 and parameters: {'max_depth': 7, 'n_estimators': 53, 'eta': 0.10708122172342852, 'subsample': 0.45150194505490016, 'colsample_bytree': 0.618304383016556, 'reg_lambda': 19.795999039129597}. Best is trial 22 with value: 0.9032459017939101.\u001b[0m\n"
     ]
    },
    {
     "name": "stdout",
     "output_type": "stream",
     "text": [
      "0.8938086293831662\n"
     ]
    },
    {
     "name": "stderr",
     "output_type": "stream",
     "text": [
      "\u001b[32m[I 2023-01-16 08:58:54,667]\u001b[0m Trial 154 finished with value: 0.8944009423129635 and parameters: {'max_depth': 7, 'n_estimators': 52, 'eta': 0.10719236114326704, 'subsample': 0.4054376381397252, 'colsample_bytree': 0.6134250503038816, 'reg_lambda': 19.708616304149434}. Best is trial 22 with value: 0.9032459017939101.\u001b[0m\n"
     ]
    },
    {
     "name": "stdout",
     "output_type": "stream",
     "text": [
      "0.8944009423129635\n"
     ]
    },
    {
     "name": "stderr",
     "output_type": "stream",
     "text": [
      "\u001b[32m[I 2023-01-16 08:58:55,641]\u001b[0m Trial 155 finished with value: 0.8846057229753437 and parameters: {'max_depth': 8, 'n_estimators': 44, 'eta': 0.10974763443787347, 'subsample': 0.402737988733532, 'colsample_bytree': 0.5644820674305695, 'reg_lambda': 21.660472532736833}. Best is trial 22 with value: 0.9032459017939101.\u001b[0m\n"
     ]
    },
    {
     "name": "stdout",
     "output_type": "stream",
     "text": [
      "0.8846057229753437\n"
     ]
    },
    {
     "name": "stderr",
     "output_type": "stream",
     "text": [
      "\u001b[32m[I 2023-01-16 08:58:56,640]\u001b[0m Trial 156 finished with value: 0.8697197777294379 and parameters: {'max_depth': 7, 'n_estimators': 55, 'eta': 0.10503872886329277, 'subsample': 0.3245245547634007, 'colsample_bytree': 0.5189853300678875, 'reg_lambda': 23.498476583222935}. Best is trial 22 with value: 0.9032459017939101.\u001b[0m\n"
     ]
    },
    {
     "name": "stdout",
     "output_type": "stream",
     "text": [
      "0.8697197777294379\n"
     ]
    },
    {
     "name": "stderr",
     "output_type": "stream",
     "text": [
      "\u001b[32m[I 2023-01-16 08:58:57,516]\u001b[0m Trial 157 finished with value: 0.8770487663121769 and parameters: {'max_depth': 8, 'n_estimators': 60, 'eta': 0.10803860010249687, 'subsample': 0.3893660970253283, 'colsample_bytree': 0.5344784134093366, 'reg_lambda': 25.770072804626132}. Best is trial 22 with value: 0.9032459017939101.\u001b[0m\n"
     ]
    },
    {
     "name": "stdout",
     "output_type": "stream",
     "text": [
      "0.8770487663121769\n"
     ]
    },
    {
     "name": "stderr",
     "output_type": "stream",
     "text": [
      "\u001b[32m[I 2023-01-16 08:58:58,406]\u001b[0m Trial 158 finished with value: 0.8934156622489573 and parameters: {'max_depth': 6, 'n_estimators': 52, 'eta': 0.10263566096195582, 'subsample': 0.34850571085105214, 'colsample_bytree': 0.6378154684821242, 'reg_lambda': 18.95069079388832}. Best is trial 22 with value: 0.9032459017939101.\u001b[0m\n"
     ]
    },
    {
     "name": "stdout",
     "output_type": "stream",
     "text": [
      "0.8934156622489573\n"
     ]
    },
    {
     "name": "stderr",
     "output_type": "stream",
     "text": [
      "\u001b[32m[I 2023-01-16 08:58:59,546]\u001b[0m Trial 159 finished with value: 0.8896237146068611 and parameters: {'max_depth': 20, 'n_estimators': 57, 'eta': 0.11001293928309325, 'subsample': 0.41093833829908777, 'colsample_bytree': 0.5788636766692603, 'reg_lambda': 21.338333790334282}. Best is trial 22 with value: 0.9032459017939101.\u001b[0m\n"
     ]
    },
    {
     "name": "stdout",
     "output_type": "stream",
     "text": [
      "0.8896237146068611\n"
     ]
    },
    {
     "name": "stderr",
     "output_type": "stream",
     "text": [
      "\u001b[32m[I 2023-01-16 08:59:00,143]\u001b[0m Trial 160 finished with value: 0.876927879250325 and parameters: {'max_depth': 4, 'n_estimators': 58, 'eta': 0.05414020518418585, 'subsample': 0.4906174779401052, 'colsample_bytree': 0.6120792590386903, 'reg_lambda': 17.43523267720172}. Best is trial 22 with value: 0.9032459017939101.\u001b[0m\n"
     ]
    },
    {
     "name": "stdout",
     "output_type": "stream",
     "text": [
      "0.876927879250325\n"
     ]
    },
    {
     "name": "stderr",
     "output_type": "stream",
     "text": [
      "\u001b[32m[I 2023-01-16 08:59:00,563]\u001b[0m Trial 161 finished with value: 0.885942888776495 and parameters: {'max_depth': 7, 'n_estimators': 53, 'eta': 0.10729115717159617, 'subsample': 0.44347452770807605, 'colsample_bytree': 0.624828554453603, 'reg_lambda': 19.882437913907378}. Best is trial 22 with value: 0.9032459017939101.\u001b[0m\n"
     ]
    },
    {
     "name": "stdout",
     "output_type": "stream",
     "text": [
      "0.885942888776495\n"
     ]
    },
    {
     "name": "stderr",
     "output_type": "stream",
     "text": [
      "\u001b[32m[I 2023-01-16 08:59:00,966]\u001b[0m Trial 162 finished with value: 0.8718331125488853 and parameters: {'max_depth': 7, 'n_estimators': 50, 'eta': 0.06483603950696742, 'subsample': 0.4539668561568991, 'colsample_bytree': 0.6013832138439066, 'reg_lambda': 19.525822619677637}. Best is trial 22 with value: 0.9032459017939101.\u001b[0m\n"
     ]
    },
    {
     "name": "stdout",
     "output_type": "stream",
     "text": [
      "0.8718331125488853\n"
     ]
    },
    {
     "name": "stderr",
     "output_type": "stream",
     "text": [
      "\u001b[32m[I 2023-01-16 08:59:01,744]\u001b[0m Trial 163 finished with value: 0.8712778402229979 and parameters: {'max_depth': 7, 'n_estimators': 54, 'eta': 0.10351067266447457, 'subsample': 0.4182495747347616, 'colsample_bytree': 0.5549931702644207, 'reg_lambda': 22.602434569554823}. Best is trial 22 with value: 0.9032459017939101.\u001b[0m\n"
     ]
    },
    {
     "name": "stdout",
     "output_type": "stream",
     "text": [
      "0.8712778402229979\n"
     ]
    },
    {
     "name": "stderr",
     "output_type": "stream",
     "text": [
      "\u001b[32m[I 2023-01-16 08:59:02,493]\u001b[0m Trial 164 finished with value: 0.8894415421821764 and parameters: {'max_depth': 6, 'n_estimators': 55, 'eta': 0.10655824620194677, 'subsample': 0.4361600523958056, 'colsample_bytree': 0.660027443012527, 'reg_lambda': 20.537615002461976}. Best is trial 22 with value: 0.9032459017939101.\u001b[0m\n"
     ]
    },
    {
     "name": "stdout",
     "output_type": "stream",
     "text": [
      "0.8894415421821764\n"
     ]
    },
    {
     "name": "stderr",
     "output_type": "stream",
     "text": [
      "\u001b[32m[I 2023-01-16 08:59:03,089]\u001b[0m Trial 165 finished with value: 0.8722853446493501 and parameters: {'max_depth': 7, 'n_estimators': 52, 'eta': 0.11278598657737728, 'subsample': 0.464108538010796, 'colsample_bytree': 0.1789898690224081, 'reg_lambda': 18.711746059969478}. Best is trial 22 with value: 0.9032459017939101.\u001b[0m\n"
     ]
    },
    {
     "name": "stdout",
     "output_type": "stream",
     "text": [
      "0.8722853446493501\n"
     ]
    },
    {
     "name": "stderr",
     "output_type": "stream",
     "text": [
      "\u001b[32m[I 2023-01-16 08:59:04,004]\u001b[0m Trial 166 finished with value: 0.8853852593212679 and parameters: {'max_depth': 18, 'n_estimators': 60, 'eta': 0.10953900891906056, 'subsample': 0.5191757231175432, 'colsample_bytree': 0.5838680332924594, 'reg_lambda': 19.93022479636791}. Best is trial 22 with value: 0.9032459017939101.\u001b[0m\n"
     ]
    },
    {
     "name": "stdout",
     "output_type": "stream",
     "text": [
      "0.8853852593212679\n"
     ]
    },
    {
     "name": "stderr",
     "output_type": "stream",
     "text": [
      "\u001b[32m[I 2023-01-16 08:59:04,923]\u001b[0m Trial 167 finished with value: 0.8966328070649228 and parameters: {'max_depth': 20, 'n_estimators': 63, 'eta': 0.10187795202142359, 'subsample': 0.37606615649674785, 'colsample_bytree': 0.6172739839082493, 'reg_lambda': 21.503549103353137}. Best is trial 22 with value: 0.9032459017939101.\u001b[0m\n"
     ]
    },
    {
     "name": "stdout",
     "output_type": "stream",
     "text": [
      "0.8966328070649228\n"
     ]
    },
    {
     "name": "stderr",
     "output_type": "stream",
     "text": [
      "\u001b[32m[I 2023-01-16 08:59:05,929]\u001b[0m Trial 168 finished with value: 0.8872608608101655 and parameters: {'max_depth': 20, 'n_estimators': 64, 'eta': 0.10266092467081399, 'subsample': 0.3800374322113804, 'colsample_bytree': 0.5652001024198424, 'reg_lambda': 21.677842578381437}. Best is trial 22 with value: 0.9032459017939101.\u001b[0m\n"
     ]
    },
    {
     "name": "stdout",
     "output_type": "stream",
     "text": [
      "0.8872608608101655\n"
     ]
    },
    {
     "name": "stderr",
     "output_type": "stream",
     "text": [
      "\u001b[32m[I 2023-01-16 08:59:06,768]\u001b[0m Trial 169 finished with value: 0.8782431574218932 and parameters: {'max_depth': 20, 'n_estimators': 62, 'eta': 0.10032501650265686, 'subsample': 0.3128054075491937, 'colsample_bytree': 0.504899577646208, 'reg_lambda': 23.85569642409615}. Best is trial 22 with value: 0.9032459017939101.\u001b[0m\n"
     ]
    },
    {
     "name": "stdout",
     "output_type": "stream",
     "text": [
      "0.8782431574218932\n"
     ]
    },
    {
     "name": "stderr",
     "output_type": "stream",
     "text": [
      "\u001b[32m[I 2023-01-16 08:59:07,229]\u001b[0m Trial 170 finished with value: 0.8740767629475431 and parameters: {'max_depth': 19, 'n_estimators': 57, 'eta': 0.0979913080590596, 'subsample': 0.3996361403305303, 'colsample_bytree': 0.6408628515151341, 'reg_lambda': 22.74109373204833}. Best is trial 22 with value: 0.9032459017939101.\u001b[0m\n"
     ]
    },
    {
     "name": "stdout",
     "output_type": "stream",
     "text": [
      "0.8740767629475431\n"
     ]
    },
    {
     "name": "stderr",
     "output_type": "stream",
     "text": [
      "\u001b[32m[I 2023-01-16 08:59:07,744]\u001b[0m Trial 171 finished with value: 0.8737060201756802 and parameters: {'max_depth': 20, 'n_estimators': 59, 'eta': 0.10716723074743129, 'subsample': 0.4201544591993261, 'colsample_bytree': 0.6159211202549603, 'reg_lambda': 21.26752721166044}. Best is trial 22 with value: 0.9032459017939101.\u001b[0m\n"
     ]
    },
    {
     "name": "stdout",
     "output_type": "stream",
     "text": [
      "0.8737060201756802\n"
     ]
    },
    {
     "name": "stderr",
     "output_type": "stream",
     "text": [
      "\u001b[32m[I 2023-01-16 08:59:08,023]\u001b[0m Trial 172 finished with value: 0.7861130735148233 and parameters: {'max_depth': 7, 'n_estimators': 9, 'eta': 0.11035740165993647, 'subsample': 0.2634823467900125, 'colsample_bytree': 0.5999576568576148, 'reg_lambda': 20.518792674550806}. Best is trial 22 with value: 0.9032459017939101.\u001b[0m\n"
     ]
    },
    {
     "name": "stdout",
     "output_type": "stream",
     "text": [
      "0.7861130735148233\n"
     ]
    },
    {
     "name": "stderr",
     "output_type": "stream",
     "text": [
      "\u001b[32m[I 2023-01-16 08:59:08,701]\u001b[0m Trial 173 finished with value: 0.8777774560109155 and parameters: {'max_depth': 5, 'n_estimators': 46, 'eta': 0.10514136989996463, 'subsample': 0.35884881973026816, 'colsample_bytree': 0.5414327307986115, 'reg_lambda': 18.118451000603937}. Best is trial 22 with value: 0.9032459017939101.\u001b[0m\n"
     ]
    },
    {
     "name": "stdout",
     "output_type": "stream",
     "text": [
      "0.8777774560109155\n"
     ]
    },
    {
     "name": "stderr",
     "output_type": "stream",
     "text": [
      "\u001b[32m[I 2023-01-16 08:59:10,085]\u001b[0m Trial 174 finished with value: 0.8768814101290562 and parameters: {'max_depth': 8, 'n_estimators': 99, 'eta': 0.10793398272590213, 'subsample': 0.39437296308641007, 'colsample_bytree': 0.6312329865173908, 'reg_lambda': 19.867510857704005}. Best is trial 22 with value: 0.9032459017939101.\u001b[0m\n"
     ]
    },
    {
     "name": "stdout",
     "output_type": "stream",
     "text": [
      "0.8768814101290562\n"
     ]
    },
    {
     "name": "stderr",
     "output_type": "stream",
     "text": [
      "\u001b[32m[I 2023-01-16 08:59:10,323]\u001b[0m Trial 175 finished with value: 0.7763993435058055 and parameters: {'max_depth': 19, 'n_estimators': 3, 'eta': 0.11290628777798388, 'subsample': 0.45268288694707215, 'colsample_bytree': 0.5865309483332317, 'reg_lambda': 21.991240318048586}. Best is trial 22 with value: 0.9032459017939101.\u001b[0m\n"
     ]
    },
    {
     "name": "stdout",
     "output_type": "stream",
     "text": [
      "0.7763993435058055\n"
     ]
    },
    {
     "name": "stderr",
     "output_type": "stream",
     "text": [
      "\u001b[32m[I 2023-01-16 08:59:10,928]\u001b[0m Trial 176 finished with value: 0.8762547504574515 and parameters: {'max_depth': 20, 'n_estimators': 56, 'eta': 0.10119623595965888, 'subsample': 0.47678593409799463, 'colsample_bytree': 0.14406977110269595, 'reg_lambda': 20.907724508402758}. Best is trial 22 with value: 0.9032459017939101.\u001b[0m\n"
     ]
    },
    {
     "name": "stdout",
     "output_type": "stream",
     "text": [
      "0.8762547504574515\n"
     ]
    },
    {
     "name": "stderr",
     "output_type": "stream",
     "text": [
      "\u001b[32m[I 2023-01-16 08:59:11,907]\u001b[0m Trial 177 finished with value: 0.8850821998347316 and parameters: {'max_depth': 8, 'n_estimators': 62, 'eta': 0.1108488451494626, 'subsample': 0.6164039669980961, 'colsample_bytree': 0.621557692065935, 'reg_lambda': 19.28101087795999}. Best is trial 22 with value: 0.9032459017939101.\u001b[0m\n"
     ]
    },
    {
     "name": "stdout",
     "output_type": "stream",
     "text": [
      "0.8850821998347316\n"
     ]
    },
    {
     "name": "stderr",
     "output_type": "stream",
     "text": [
      "\u001b[32m[I 2023-01-16 08:59:12,408]\u001b[0m Trial 178 finished with value: 0.8867843839507776 and parameters: {'max_depth': 7, 'n_estimators': 66, 'eta': 0.10468061329431941, 'subsample': 0.5636240085466915, 'colsample_bytree': 0.5755158645536278, 'reg_lambda': 24.203206256722098}. Best is trial 22 with value: 0.9032459017939101.\u001b[0m\n"
     ]
    },
    {
     "name": "stdout",
     "output_type": "stream",
     "text": [
      "0.8867843839507776\n"
     ]
    },
    {
     "name": "stderr",
     "output_type": "stream",
     "text": [
      "\u001b[32m[I 2023-01-16 08:59:12,867]\u001b[0m Trial 179 finished with value: 0.881898728295048 and parameters: {'max_depth': 19, 'n_estimators': 49, 'eta': 0.10902822132151438, 'subsample': 0.438647315437083, 'colsample_bytree': 0.6050932182914259, 'reg_lambda': 23.169273674922938}. Best is trial 22 with value: 0.9032459017939101.\u001b[0m\n"
     ]
    },
    {
     "name": "stdout",
     "output_type": "stream",
     "text": [
      "0.881898728295048\n"
     ]
    },
    {
     "name": "stderr",
     "output_type": "stream",
     "text": [
      "\u001b[32m[I 2023-01-16 08:59:13,573]\u001b[0m Trial 180 finished with value: 0.87203919299973 and parameters: {'max_depth': 6, 'n_estimators': 54, 'eta': 0.10655826626725406, 'subsample': 0.3718923521745021, 'colsample_bytree': 0.30962243903897513, 'reg_lambda': 22.39693452955407}. Best is trial 22 with value: 0.9032459017939101.\u001b[0m\n"
     ]
    },
    {
     "name": "stdout",
     "output_type": "stream",
     "text": [
      "0.87203919299973\n"
     ]
    },
    {
     "name": "stderr",
     "output_type": "stream",
     "text": [
      "\u001b[32m[I 2023-01-16 08:59:14,014]\u001b[0m Trial 181 finished with value: 0.8657426270677916 and parameters: {'max_depth': 7, 'n_estimators': 27, 'eta': 0.11087555564797692, 'subsample': 0.4920977951868322, 'colsample_bytree': 0.268383346595109, 'reg_lambda': 17.492910788526757}. Best is trial 22 with value: 0.9032459017939101.\u001b[0m\n"
     ]
    },
    {
     "name": "stdout",
     "output_type": "stream",
     "text": [
      "0.8657426270677916\n"
     ]
    },
    {
     "name": "stderr",
     "output_type": "stream",
     "text": [
      "\u001b[32m[I 2023-01-16 08:59:14,963]\u001b[0m Trial 182 finished with value: 0.8786913487292043 and parameters: {'max_depth': 7, 'n_estimators': 60, 'eta': 0.10918239354803604, 'subsample': 0.4125020441404353, 'colsample_bytree': 0.5576876082188815, 'reg_lambda': 18.857320227317157}. Best is trial 22 with value: 0.9032459017939101.\u001b[0m\n"
     ]
    },
    {
     "name": "stdout",
     "output_type": "stream",
     "text": [
      "0.8786913487292043\n"
     ]
    },
    {
     "name": "stderr",
     "output_type": "stream",
     "text": [
      "\u001b[32m[I 2023-01-16 08:59:15,536]\u001b[0m Trial 183 finished with value: 0.7948401765287836 and parameters: {'max_depth': 20, 'n_estimators': 32, 'eta': 0.024606084941863844, 'subsample': 0.5057675686541881, 'colsample_bytree': 0.5848258943424627, 'reg_lambda': 20.50382829591674}. Best is trial 22 with value: 0.9032459017939101.\u001b[0m\n"
     ]
    },
    {
     "name": "stdout",
     "output_type": "stream",
     "text": [
      "0.7948401765287836\n"
     ]
    },
    {
     "name": "stderr",
     "output_type": "stream",
     "text": [
      "\u001b[32m[I 2023-01-16 08:59:16,384]\u001b[0m Trial 184 finished with value: 0.8961492588175157 and parameters: {'max_depth': 8, 'n_estimators': 51, 'eta': 0.10795181747303186, 'subsample': 0.4719144929447348, 'colsample_bytree': 0.5427007354097872, 'reg_lambda': 21.178662303230478}. Best is trial 22 with value: 0.9032459017939101.\u001b[0m\n"
     ]
    },
    {
     "name": "stdout",
     "output_type": "stream",
     "text": [
      "0.8961492588175157\n"
     ]
    },
    {
     "name": "stderr",
     "output_type": "stream",
     "text": [
      "\u001b[32m[I 2023-01-16 08:59:17,280]\u001b[0m Trial 185 finished with value: 0.8769019508275882 and parameters: {'max_depth': 8, 'n_estimators': 51, 'eta': 0.10737006266517506, 'subsample': 0.45545697100919974, 'colsample_bytree': 0.5382294424961874, 'reg_lambda': 21.304271876020856}. Best is trial 22 with value: 0.9032459017939101.\u001b[0m\n"
     ]
    },
    {
     "name": "stdout",
     "output_type": "stream",
     "text": [
      "0.8769019508275882\n"
     ]
    },
    {
     "name": "stderr",
     "output_type": "stream",
     "text": [
      "\u001b[32m[I 2023-01-16 08:59:18,142]\u001b[0m Trial 186 finished with value: 0.8750206248817226 and parameters: {'max_depth': 8, 'n_estimators': 57, 'eta': 0.04592359659141343, 'subsample': 0.43108166990809665, 'colsample_bytree': 0.6121412953982581, 'reg_lambda': 21.906946764799795}. Best is trial 22 with value: 0.9032459017939101.\u001b[0m\n"
     ]
    },
    {
     "name": "stdout",
     "output_type": "stream",
     "text": [
      "0.8750206248817226\n"
     ]
    },
    {
     "name": "stderr",
     "output_type": "stream",
     "text": [
      "\u001b[32m[I 2023-01-16 08:59:19,066]\u001b[0m Trial 187 finished with value: 0.8890812381259608 and parameters: {'max_depth': 9, 'n_estimators': 52, 'eta': 0.10377552021887296, 'subsample': 0.648890603016564, 'colsample_bytree': 0.6487500185684079, 'reg_lambda': 31.33985757800997}. Best is trial 22 with value: 0.9032459017939101.\u001b[0m\n"
     ]
    },
    {
     "name": "stdout",
     "output_type": "stream",
     "text": [
      "0.8890812381259608\n"
     ]
    },
    {
     "name": "stderr",
     "output_type": "stream",
     "text": [
      "\u001b[32m[I 2023-01-16 08:59:19,445]\u001b[0m Trial 188 finished with value: 0.8683334489449153 and parameters: {'max_depth': 20, 'n_estimators': 54, 'eta': 0.11126862310403339, 'subsample': 0.5840689297779984, 'colsample_bytree': 0.2013750064059576, 'reg_lambda': 19.584512052550984}. Best is trial 22 with value: 0.9032459017939101.\u001b[0m\n"
     ]
    },
    {
     "name": "stdout",
     "output_type": "stream",
     "text": [
      "0.8683334489449153\n"
     ]
    },
    {
     "name": "stderr",
     "output_type": "stream",
     "text": [
      "\u001b[32m[I 2023-01-16 08:59:19,900]\u001b[0m Trial 189 finished with value: 0.8930913885983633 and parameters: {'max_depth': 7, 'n_estimators': 63, 'eta': 0.11298780616776097, 'subsample': 0.4766381617500468, 'colsample_bytree': 0.34355571128241313, 'reg_lambda': 20.72637037631757}. Best is trial 22 with value: 0.9032459017939101.\u001b[0m\n"
     ]
    },
    {
     "name": "stdout",
     "output_type": "stream",
     "text": [
      "0.8930913885983633\n"
     ]
    },
    {
     "name": "stderr",
     "output_type": "stream",
     "text": [
      "\u001b[32m[I 2023-01-16 08:59:20,868]\u001b[0m Trial 190 finished with value: 0.8887620154668092 and parameters: {'max_depth': 19, 'n_estimators': 58, 'eta': 0.10558319890957936, 'subsample': 0.3992679357121103, 'colsample_bytree': 0.5935662066233072, 'reg_lambda': 24.954872550945904}. Best is trial 22 with value: 0.9032459017939101.\u001b[0m\n"
     ]
    },
    {
     "name": "stdout",
     "output_type": "stream",
     "text": [
      "0.8887620154668092\n"
     ]
    },
    {
     "name": "stderr",
     "output_type": "stream",
     "text": [
      "\u001b[32m[I 2023-01-16 08:59:21,687]\u001b[0m Trial 191 finished with value: 0.883886461793964 and parameters: {'max_depth': 6, 'n_estimators': 56, 'eta': 0.10910270045613044, 'subsample': 0.45924360344778886, 'colsample_bytree': 0.5708406493355659, 'reg_lambda': 20.065801688217505}. Best is trial 22 with value: 0.9032459017939101.\u001b[0m\n"
     ]
    },
    {
     "name": "stdout",
     "output_type": "stream",
     "text": [
      "0.883886461793964\n"
     ]
    },
    {
     "name": "stderr",
     "output_type": "stream",
     "text": [
      "\u001b[32m[I 2023-01-16 08:59:22,244]\u001b[0m Trial 192 finished with value: 0.8747761568959166 and parameters: {'max_depth': 7, 'n_estimators': 29, 'eta': 0.10828869259650632, 'subsample': 0.4277585657833544, 'colsample_bytree': 0.553542227389174, 'reg_lambda': 18.170964919787178}. Best is trial 22 with value: 0.9032459017939101.\u001b[0m\n"
     ]
    },
    {
     "name": "stdout",
     "output_type": "stream",
     "text": [
      "0.8747761568959166\n"
     ]
    },
    {
     "name": "stderr",
     "output_type": "stream",
     "text": [
      "\u001b[32m[I 2023-01-16 08:59:23,030]\u001b[0m Trial 193 finished with value: 0.886721078191368 and parameters: {'max_depth': 8, 'n_estimators': 48, 'eta': 0.11097426109512976, 'subsample': 0.6230674100308594, 'colsample_bytree': 0.6057601108408478, 'reg_lambda': 21.505768949116703}. Best is trial 22 with value: 0.9032459017939101.\u001b[0m\n"
     ]
    },
    {
     "name": "stdout",
     "output_type": "stream",
     "text": [
      "0.886721078191368\n"
     ]
    },
    {
     "name": "stderr",
     "output_type": "stream",
     "text": [
      "\u001b[32m[I 2023-01-16 08:59:23,503]\u001b[0m Trial 194 finished with value: 0.8871113514634743 and parameters: {'max_depth': 7, 'n_estimators': 60, 'eta': 0.10588850399061692, 'subsample': 0.44728710776771663, 'colsample_bytree': 0.5712107225430293, 'reg_lambda': 23.099524976468793}. Best is trial 22 with value: 0.9032459017939101.\u001b[0m\n"
     ]
    },
    {
     "name": "stdout",
     "output_type": "stream",
     "text": [
      "0.8871113514634743\n"
     ]
    },
    {
     "name": "stderr",
     "output_type": "stream",
     "text": [
      "\u001b[32m[I 2023-01-16 08:59:24,034]\u001b[0m Trial 195 finished with value: 0.8978164227262289 and parameters: {'max_depth': 16, 'n_estimators': 53, 'eta': 0.09057032975350943, 'subsample': 0.6016968421054321, 'colsample_bytree': 0.620375457555948, 'reg_lambda': 19.198687063296727}. Best is trial 22 with value: 0.9032459017939101.\u001b[0m\n"
     ]
    },
    {
     "name": "stdout",
     "output_type": "stream",
     "text": [
      "0.8978164227262289\n"
     ]
    },
    {
     "name": "stderr",
     "output_type": "stream",
     "text": [
      "\u001b[32m[I 2023-01-16 08:59:24,943]\u001b[0m Trial 196 finished with value: 0.8882953038575431 and parameters: {'max_depth': 17, 'n_estimators': 53, 'eta': 0.09011909394163536, 'subsample': 0.5973035516648959, 'colsample_bytree': 0.6320610231996627, 'reg_lambda': 22.366495673307355}. Best is trial 22 with value: 0.9032459017939101.\u001b[0m\n"
     ]
    },
    {
     "name": "stdout",
     "output_type": "stream",
     "text": [
      "0.8882953038575431\n"
     ]
    },
    {
     "name": "stderr",
     "output_type": "stream",
     "text": [
      "\u001b[32m[I 2023-01-16 08:59:25,866]\u001b[0m Trial 197 finished with value: 0.8776094263622692 and parameters: {'max_depth': 16, 'n_estimators': 50, 'eta': 0.0886870915780459, 'subsample': 0.6392031786873206, 'colsample_bytree': 0.6738517484861514, 'reg_lambda': 19.570486849831354}. Best is trial 22 with value: 0.9032459017939101.\u001b[0m\n"
     ]
    },
    {
     "name": "stdout",
     "output_type": "stream",
     "text": [
      "0.8776094263622692\n"
     ]
    },
    {
     "name": "stderr",
     "output_type": "stream",
     "text": [
      "\u001b[32m[I 2023-01-16 08:59:26,888]\u001b[0m Trial 198 finished with value: 0.8765510752887316 and parameters: {'max_depth': 15, 'n_estimators': 55, 'eta': 0.09368257196603952, 'subsample': 0.6659401417119876, 'colsample_bytree': 0.6248164460470216, 'reg_lambda': 20.84127286820005}. Best is trial 22 with value: 0.9032459017939101.\u001b[0m\n"
     ]
    },
    {
     "name": "stdout",
     "output_type": "stream",
     "text": [
      "0.8765510752887316\n"
     ]
    },
    {
     "name": "stderr",
     "output_type": "stream",
     "text": [
      "\u001b[32m[I 2023-01-16 08:59:27,816]\u001b[0m Trial 199 finished with value: 0.8836739834206258 and parameters: {'max_depth': 16, 'n_estimators': 59, 'eta': 0.08566237014533082, 'subsample': 0.553050192774258, 'colsample_bytree': 0.48774709393894883, 'reg_lambda': 18.78287458342412}. Best is trial 22 with value: 0.9032459017939101.\u001b[0m\n"
     ]
    },
    {
     "name": "stdout",
     "output_type": "stream",
     "text": [
      "0.8836739834206258\n"
     ]
    },
    {
     "name": "stderr",
     "output_type": "stream",
     "text": [
      "\u001b[32m[I 2023-01-16 08:59:28,683]\u001b[0m Trial 200 finished with value: 0.8752826029711953 and parameters: {'max_depth': 17, 'n_estimators': 51, 'eta': 0.0914159948960744, 'subsample': 0.6108737567911233, 'colsample_bytree': 0.5150808664875114, 'reg_lambda': 29.07690523156318}. Best is trial 22 with value: 0.9032459017939101.\u001b[0m\n"
     ]
    },
    {
     "name": "stdout",
     "output_type": "stream",
     "text": [
      "0.8752826029711953\n"
     ]
    },
    {
     "name": "stderr",
     "output_type": "stream",
     "text": [
      "\u001b[32m[I 2023-01-16 08:59:29,309]\u001b[0m Trial 201 finished with value: 0.8872325752580889 and parameters: {'max_depth': 18, 'n_estimators': 34, 'eta': 0.11287475638028198, 'subsample': 0.4668506338605341, 'colsample_bytree': 0.5928072537294493, 'reg_lambda': 17.071878344136607}. Best is trial 22 with value: 0.9032459017939101.\u001b[0m\n"
     ]
    },
    {
     "name": "stdout",
     "output_type": "stream",
     "text": [
      "0.8872325752580889\n"
     ]
    },
    {
     "name": "stderr",
     "output_type": "stream",
     "text": [
      "\u001b[32m[I 2023-01-16 08:59:29,836]\u001b[0m Trial 202 finished with value: 0.8658655345262203 and parameters: {'max_depth': 7, 'n_estimators': 56, 'eta': 0.10854871483662692, 'subsample': 0.5899970531264618, 'colsample_bytree': 0.11877849765850193, 'reg_lambda': 20.1650684674501}. Best is trial 22 with value: 0.9032459017939101.\u001b[0m\n"
     ]
    },
    {
     "name": "stdout",
     "output_type": "stream",
     "text": [
      "0.8658655345262203\n"
     ]
    },
    {
     "name": "stderr",
     "output_type": "stream",
     "text": [
      "\u001b[32m[I 2023-01-16 08:59:30,318]\u001b[0m Trial 203 finished with value: 0.8772925608324573 and parameters: {'max_depth': 17, 'n_estimators': 53, 'eta': 0.1103705653508856, 'subsample': 0.5730848285279934, 'colsample_bytree': 0.6084349293658537, 'reg_lambda': 18.311332161861788}. Best is trial 22 with value: 0.9032459017939101.\u001b[0m\n"
     ]
    },
    {
     "name": "stdout",
     "output_type": "stream",
     "text": [
      "0.8772925608324573\n"
     ]
    },
    {
     "name": "stderr",
     "output_type": "stream",
     "text": [
      "\u001b[32m[I 2023-01-16 08:59:30,892]\u001b[0m Trial 204 finished with value: 0.8788903577920298 and parameters: {'max_depth': 7, 'n_estimators': 57, 'eta': 0.10247042924415327, 'subsample': 0.41873114211536144, 'colsample_bytree': 0.5776932972565615, 'reg_lambda': 21.407248534115695}. Best is trial 22 with value: 0.9032459017939101.\u001b[0m\n"
     ]
    },
    {
     "name": "stdout",
     "output_type": "stream",
     "text": [
      "0.8788903577920298\n"
     ]
    },
    {
     "name": "stderr",
     "output_type": "stream",
     "text": [
      "\u001b[32m[I 2023-01-16 08:59:31,371]\u001b[0m Trial 205 finished with value: 0.8899614575679677 and parameters: {'max_depth': 6, 'n_estimators': 23, 'eta': 0.10731426136615814, 'subsample': 0.6249004899292446, 'colsample_bytree': 0.5458205042443978, 'reg_lambda': 19.123776405396264}. Best is trial 22 with value: 0.9032459017939101.\u001b[0m\n"
     ]
    },
    {
     "name": "stdout",
     "output_type": "stream",
     "text": [
      "0.8899614575679677\n"
     ]
    },
    {
     "name": "stderr",
     "output_type": "stream",
     "text": [
      "\u001b[32m[I 2023-01-16 08:59:32,192]\u001b[0m Trial 206 finished with value: 0.8703043458056905 and parameters: {'max_depth': 7, 'n_estimators': 65, 'eta': 0.04280178128099241, 'subsample': 0.48818973694538637, 'colsample_bytree': 0.6527459238475696, 'reg_lambda': 37.349569602169424}. Best is trial 22 with value: 0.9032459017939101.\u001b[0m\n"
     ]
    },
    {
     "name": "stdout",
     "output_type": "stream",
     "text": [
      "0.8703043458056905\n"
     ]
    },
    {
     "name": "stderr",
     "output_type": "stream",
     "text": [
      "\u001b[32m[I 2023-01-16 08:59:32,786]\u001b[0m Trial 207 finished with value: 0.8190600172272481 and parameters: {'max_depth': 9, 'n_estimators': 39, 'eta': 0.0333871076773315, 'subsample': 0.5225085684180254, 'colsample_bytree': 0.5910020207879843, 'reg_lambda': 22.1486936467546}. Best is trial 22 with value: 0.9032459017939101.\u001b[0m\n"
     ]
    },
    {
     "name": "stdout",
     "output_type": "stream",
     "text": [
      "0.8190600172272481\n"
     ]
    },
    {
     "name": "stderr",
     "output_type": "stream",
     "text": [
      "\u001b[32m[I 2023-01-16 08:59:33,733]\u001b[0m Trial 208 finished with value: 0.8799190763824395 and parameters: {'max_depth': 20, 'n_estimators': 61, 'eta': 0.09889467189655647, 'subsample': 0.4368724042426185, 'colsample_bytree': 0.5646335193241644, 'reg_lambda': 30.00111348946546}. Best is trial 22 with value: 0.9032459017939101.\u001b[0m\n"
     ]
    },
    {
     "name": "stdout",
     "output_type": "stream",
     "text": [
      "0.8799190763824395\n"
     ]
    },
    {
     "name": "stderr",
     "output_type": "stream",
     "text": [
      "\u001b[32m[I 2023-01-16 08:59:34,560]\u001b[0m Trial 209 finished with value: 0.8846690287347535 and parameters: {'max_depth': 14, 'n_estimators': 55, 'eta': 0.049525770027832046, 'subsample': 0.3857205248334689, 'colsample_bytree': 0.6215291960240835, 'reg_lambda': 20.17970777557064}. Best is trial 22 with value: 0.9032459017939101.\u001b[0m\n"
     ]
    },
    {
     "name": "stdout",
     "output_type": "stream",
     "text": [
      "0.8846690287347535\n"
     ]
    },
    {
     "name": "stderr",
     "output_type": "stream",
     "text": [
      "\u001b[32m[I 2023-01-16 08:59:35,616]\u001b[0m Trial 210 finished with value: 0.8725981693860082 and parameters: {'max_depth': 8, 'n_estimators': 69, 'eta': 0.11042281306202015, 'subsample': 0.4032649584522034, 'colsample_bytree': 0.6371422549261349, 'reg_lambda': 16.15567367320704}. Best is trial 22 with value: 0.9032459017939101.\u001b[0m\n"
     ]
    },
    {
     "name": "stdout",
     "output_type": "stream",
     "text": [
      "0.8725981693860082\n"
     ]
    },
    {
     "name": "stderr",
     "output_type": "stream",
     "text": [
      "\u001b[32m[I 2023-01-16 08:59:36,042]\u001b[0m Trial 211 finished with value: 0.8897166528493989 and parameters: {'max_depth': 6, 'n_estimators': 52, 'eta': 0.10281598285814457, 'subsample': 0.34922881756461477, 'colsample_bytree': 0.6352159451133409, 'reg_lambda': 18.913245609108827}. Best is trial 22 with value: 0.9032459017939101.\u001b[0m\n"
     ]
    },
    {
     "name": "stdout",
     "output_type": "stream",
     "text": [
      "0.8897166528493989\n"
     ]
    },
    {
     "name": "stderr",
     "output_type": "stream",
     "text": [
      "\u001b[32m[I 2023-01-16 08:59:36,508]\u001b[0m Trial 212 finished with value: 0.8915067242165406 and parameters: {'max_depth': 6, 'n_estimators': 49, 'eta': 0.09606623558619096, 'subsample': 0.3479842075342096, 'colsample_bytree': 0.6086183926226301, 'reg_lambda': 19.583703266463157}. Best is trial 22 with value: 0.9032459017939101.\u001b[0m\n"
     ]
    },
    {
     "name": "stdout",
     "output_type": "stream",
     "text": [
      "0.8915067242165406\n"
     ]
    },
    {
     "name": "stderr",
     "output_type": "stream",
     "text": [
      "\u001b[32m[I 2023-01-16 08:59:37,359]\u001b[0m Trial 213 finished with value: 0.8846582532863434 and parameters: {'max_depth': 20, 'n_estimators': 53, 'eta': 0.10520915746904808, 'subsample': 0.33578455528732887, 'colsample_bytree': 0.6554556501201413, 'reg_lambda': 18.05747275281589}. Best is trial 22 with value: 0.9032459017939101.\u001b[0m\n"
     ]
    },
    {
     "name": "stdout",
     "output_type": "stream",
     "text": [
      "0.8846582532863434\n"
     ]
    },
    {
     "name": "stderr",
     "output_type": "stream",
     "text": [
      "\u001b[32m[I 2023-01-16 08:59:38,138]\u001b[0m Trial 214 finished with value: 0.8847660077704453 and parameters: {'max_depth': 7, 'n_estimators': 51, 'eta': 0.10146540870713264, 'subsample': 0.29859093059389336, 'colsample_bytree': 0.5900484181361327, 'reg_lambda': 20.349791338610782}. Best is trial 22 with value: 0.9032459017939101.\u001b[0m\n"
     ]
    },
    {
     "name": "stdout",
     "output_type": "stream",
     "text": [
      "0.8847660077704453\n"
     ]
    },
    {
     "name": "stderr",
     "output_type": "stream",
     "text": [
      "\u001b[32m[I 2023-01-16 08:59:39,077]\u001b[0m Trial 215 finished with value: 0.8772871731082522 and parameters: {'max_depth': 12, 'n_estimators': 58, 'eta': 0.1082792935367569, 'subsample': 0.3739132143496859, 'colsample_bytree': 0.6197970816753865, 'reg_lambda': 21.40202560330819}. Best is trial 22 with value: 0.9032459017939101.\u001b[0m\n"
     ]
    },
    {
     "name": "stdout",
     "output_type": "stream",
     "text": [
      "0.8772871731082522\n"
     ]
    },
    {
     "name": "stderr",
     "output_type": "stream",
     "text": [
      "\u001b[32m[I 2023-01-16 08:59:40,137]\u001b[0m Trial 216 finished with value: 0.8750573287528698 and parameters: {'max_depth': 8, 'n_estimators': 55, 'eta': 0.10451193222213834, 'subsample': 0.4071744675818627, 'colsample_bytree': 0.5717568091949146, 'reg_lambda': 8.490974148272734}. Best is trial 22 with value: 0.9032459017939101.\u001b[0m\n"
     ]
    },
    {
     "name": "stdout",
     "output_type": "stream",
     "text": [
      "0.8750573287528698\n"
     ]
    },
    {
     "name": "stderr",
     "output_type": "stream",
     "text": [
      "\u001b[32m[I 2023-01-16 08:59:40,741]\u001b[0m Trial 217 finished with value: 0.8685513150424586 and parameters: {'max_depth': 6, 'n_estimators': 46, 'eta': 0.059632245232855936, 'subsample': 0.6179702633248475, 'colsample_bytree': 0.3567849724727704, 'reg_lambda': 20.857181693728634}. Best is trial 22 with value: 0.9032459017939101.\u001b[0m\n"
     ]
    },
    {
     "name": "stdout",
     "output_type": "stream",
     "text": [
      "0.8685513150424586\n"
     ]
    },
    {
     "name": "stderr",
     "output_type": "stream",
     "text": [
      "\u001b[32m[I 2023-01-16 08:59:41,296]\u001b[0m Trial 218 finished with value: 0.8704983038770737 and parameters: {'max_depth': 5, 'n_estimators': 58, 'eta': 0.11099988699479135, 'subsample': 0.6901569267535306, 'colsample_bytree': 0.41432777259518727, 'reg_lambda': 19.005692300381543}. Best is trial 22 with value: 0.9032459017939101.\u001b[0m\n"
     ]
    },
    {
     "name": "stdout",
     "output_type": "stream",
     "text": [
      "0.8704983038770737\n"
     ]
    },
    {
     "name": "stderr",
     "output_type": "stream",
     "text": [
      "\u001b[32m[I 2023-01-16 08:59:41,924]\u001b[0m Trial 219 finished with value: 0.8801652280320595 and parameters: {'max_depth': 15, 'n_estimators': 67, 'eta': 0.0927376602071249, 'subsample': 0.9787899802530458, 'colsample_bytree': 0.5299885659417081, 'reg_lambda': 23.20592788733884}. Best is trial 22 with value: 0.9032459017939101.\u001b[0m\n"
     ]
    },
    {
     "name": "stdout",
     "output_type": "stream",
     "text": [
      "0.8801652280320595\n"
     ]
    },
    {
     "name": "stderr",
     "output_type": "stream",
     "text": [
      "\u001b[32m[I 2023-01-16 08:59:42,846]\u001b[0m Trial 220 finished with value: 0.877089174243715 and parameters: {'max_depth': 19, 'n_estimators': 53, 'eta': 0.11297806933092351, 'subsample': 0.5947543086437082, 'colsample_bytree': 0.5943269585552062, 'reg_lambda': 22.29650258357531}. Best is trial 22 with value: 0.9032459017939101.\u001b[0m\n"
     ]
    },
    {
     "name": "stdout",
     "output_type": "stream",
     "text": [
      "0.877089174243715\n"
     ]
    },
    {
     "name": "stderr",
     "output_type": "stream",
     "text": [
      "\u001b[32m[I 2023-01-16 08:59:43,775]\u001b[0m Trial 221 finished with value: 0.8729503918559162 and parameters: {'max_depth': 7, 'n_estimators': 64, 'eta': 0.11116068675152499, 'subsample': 0.4680479079786489, 'colsample_bytree': 0.3400284866754691, 'reg_lambda': 20.30438610387211}. Best is trial 22 with value: 0.9032459017939101.\u001b[0m\n"
     ]
    },
    {
     "name": "stdout",
     "output_type": "stream",
     "text": [
      "0.8729503918559162\n"
     ]
    },
    {
     "name": "stderr",
     "output_type": "stream",
     "text": [
      "\u001b[32m[I 2023-01-16 08:59:44,625]\u001b[0m Trial 222 finished with value: 0.884479111456524 and parameters: {'max_depth': 7, 'n_estimators': 61, 'eta': 0.11244531471596461, 'subsample': 0.4752217362053514, 'colsample_bytree': 0.2825265651516956, 'reg_lambda': 20.814180069753014}. Best is trial 22 with value: 0.9032459017939101.\u001b[0m\n"
     ]
    },
    {
     "name": "stdout",
     "output_type": "stream",
     "text": [
      "0.884479111456524\n"
     ]
    },
    {
     "name": "stderr",
     "output_type": "stream",
     "text": [
      "\u001b[32m[I 2023-01-16 08:59:45,529]\u001b[0m Trial 223 finished with value: 0.8840167773731746 and parameters: {'max_depth': 7, 'n_estimators': 63, 'eta': 0.07128377146592405, 'subsample': 0.4831282333240051, 'colsample_bytree': 0.3265985683976435, 'reg_lambda': 21.652495629985992}. Best is trial 22 with value: 0.9032459017939101.\u001b[0m\n"
     ]
    },
    {
     "name": "stdout",
     "output_type": "stream",
     "text": [
      "0.8840167773731746\n"
     ]
    },
    {
     "name": "stderr",
     "output_type": "stream",
     "text": [
      "\u001b[32m[I 2023-01-16 08:59:46,519]\u001b[0m Trial 224 finished with value: 0.875633141777289 and parameters: {'max_depth': 7, 'n_estimators': 73, 'eta': 0.10868990278136802, 'subsample': 0.45210210508951826, 'colsample_bytree': 0.2961675847938501, 'reg_lambda': 19.19982699256163}. Best is trial 22 with value: 0.9032459017939101.\u001b[0m\n"
     ]
    },
    {
     "name": "stdout",
     "output_type": "stream",
     "text": [
      "0.875633141777289\n"
     ]
    },
    {
     "name": "stderr",
     "output_type": "stream",
     "text": [
      "\u001b[32m[I 2023-01-16 08:59:47,508]\u001b[0m Trial 225 finished with value: 0.893030776701056 and parameters: {'max_depth': 18, 'n_estimators': 56, 'eta': 0.10682327735233393, 'subsample': 0.5057540253032313, 'colsample_bytree': 0.557921819952572, 'reg_lambda': 26.490368308279955}. Best is trial 22 with value: 0.9032459017939101.\u001b[0m\n"
     ]
    },
    {
     "name": "stdout",
     "output_type": "stream",
     "text": [
      "0.893030776701056\n"
     ]
    },
    {
     "name": "stderr",
     "output_type": "stream",
     "text": [
      "\u001b[32m[I 2023-01-16 08:59:48,305]\u001b[0m Trial 226 finished with value: 0.8900894160178388 and parameters: {'max_depth': 6, 'n_estimators': 59, 'eta': 0.08798067006236857, 'subsample': 0.43827547736383166, 'colsample_bytree': 0.25206454681370055, 'reg_lambda': 21.019574943347692}. Best is trial 22 with value: 0.9032459017939101.\u001b[0m\n"
     ]
    },
    {
     "name": "stdout",
     "output_type": "stream",
     "text": [
      "0.8900894160178388\n"
     ]
    },
    {
     "name": "stderr",
     "output_type": "stream",
     "text": [
      "\u001b[32m[I 2023-01-16 08:59:49,142]\u001b[0m Trial 227 finished with value: 0.8899530392488973 and parameters: {'max_depth': 20, 'n_estimators': 54, 'eta': 0.10920128172314855, 'subsample': 0.42032603815588615, 'colsample_bytree': 0.34716874780614465, 'reg_lambda': 18.38914344132508}. Best is trial 22 with value: 0.9032459017939101.\u001b[0m\n"
     ]
    },
    {
     "name": "stdout",
     "output_type": "stream",
     "text": [
      "0.8899530392488973\n"
     ]
    },
    {
     "name": "stderr",
     "output_type": "stream",
     "text": [
      "\u001b[32m[I 2023-01-16 08:59:50,173]\u001b[0m Trial 228 finished with value: 0.8790556935785736 and parameters: {'max_depth': 7, 'n_estimators': 63, 'eta': 0.11249780709287827, 'subsample': 0.7829589362491248, 'colsample_bytree': 0.6077343623508145, 'reg_lambda': 19.603791963474794}. Best is trial 22 with value: 0.9032459017939101.\u001b[0m\n"
     ]
    },
    {
     "name": "stdout",
     "output_type": "stream",
     "text": [
      "0.8790556935785736\n"
     ]
    },
    {
     "name": "stderr",
     "output_type": "stream",
     "text": [
      "\u001b[32m[I 2023-01-16 08:59:50,579]\u001b[0m Trial 229 finished with value: 0.8766042790652567 and parameters: {'max_depth': 8, 'n_estimators': 51, 'eta': 0.10682072502649238, 'subsample': 0.3586744992043933, 'colsample_bytree': 0.6382143431219583, 'reg_lambda': 22.8185620540211}. Best is trial 22 with value: 0.9032459017939101.\u001b[0m\n"
     ]
    },
    {
     "name": "stdout",
     "output_type": "stream",
     "text": [
      "0.8766042790652567\n"
     ]
    },
    {
     "name": "stderr",
     "output_type": "stream",
     "text": [
      "\u001b[32m[I 2023-01-16 08:59:51,033]\u001b[0m Trial 230 finished with value: 0.872228100079671 and parameters: {'max_depth': 6, 'n_estimators': 61, 'eta': 0.11295280300839182, 'subsample': 0.5394979146634338, 'colsample_bytree': 0.37030102610642746, 'reg_lambda': 20.78694208270642}. Best is trial 22 with value: 0.9032459017939101.\u001b[0m\n"
     ]
    },
    {
     "name": "stdout",
     "output_type": "stream",
     "text": [
      "0.872228100079671\n"
     ]
    },
    {
     "name": "stderr",
     "output_type": "stream",
     "text": [
      "\u001b[32m[I 2023-01-16 08:59:51,996]\u001b[0m Trial 231 finished with value: 0.8983834806988148 and parameters: {'max_depth': 18, 'n_estimators': 56, 'eta': 0.10736227801927845, 'subsample': 0.4807861536985748, 'colsample_bytree': 0.5597622000242595, 'reg_lambda': 27.679379277931773}. Best is trial 22 with value: 0.9032459017939101.\u001b[0m\n"
     ]
    },
    {
     "name": "stdout",
     "output_type": "stream",
     "text": [
      "0.8983834806988148\n"
     ]
    },
    {
     "name": "stderr",
     "output_type": "stream",
     "text": [
      "\u001b[32m[I 2023-01-16 08:59:52,958]\u001b[0m Trial 232 finished with value: 0.8893233489824273 and parameters: {'max_depth': 18, 'n_estimators': 56, 'eta': 0.10905764149956651, 'subsample': 0.4643348602732773, 'colsample_bytree': 0.5790267296226151, 'reg_lambda': 27.623419325556846}. Best is trial 22 with value: 0.9032459017939101.\u001b[0m\n"
     ]
    },
    {
     "name": "stdout",
     "output_type": "stream",
     "text": [
      "0.8893233489824273\n"
     ]
    },
    {
     "name": "stderr",
     "output_type": "stream",
     "text": [
      "\u001b[32m[I 2023-01-16 08:59:54,067]\u001b[0m Trial 233 finished with value: 0.8886296794910217 and parameters: {'max_depth': 17, 'n_estimators': 58, 'eta': 0.1101347510298686, 'subsample': 0.49156134875711477, 'colsample_bytree': 0.5634700102634638, 'reg_lambda': 21.76867488054497}. Best is trial 22 with value: 0.9032459017939101.\u001b[0m\n"
     ]
    },
    {
     "name": "stdout",
     "output_type": "stream",
     "text": [
      "0.8886296794910217\n"
     ]
    },
    {
     "name": "stderr",
     "output_type": "stream",
     "text": [
      "\u001b[32m[I 2023-01-16 08:59:54,996]\u001b[0m Trial 234 finished with value: 0.8820475641762135 and parameters: {'max_depth': 16, 'n_estimators': 52, 'eta': 0.10649178788852172, 'subsample': 0.4505882310596186, 'colsample_bytree': 0.5438611018956316, 'reg_lambda': 28.403635978850605}. Best is trial 22 with value: 0.9032459017939101.\u001b[0m\n"
     ]
    },
    {
     "name": "stdout",
     "output_type": "stream",
     "text": [
      "0.8820475641762135\n"
     ]
    },
    {
     "name": "stderr",
     "output_type": "stream",
     "text": [
      "\u001b[32m[I 2023-01-16 08:59:56,078]\u001b[0m Trial 235 finished with value: 0.8777744254160502 and parameters: {'max_depth': 13, 'n_estimators': 54, 'eta': 0.10371945370022384, 'subsample': 0.47644640272733285, 'colsample_bytree': 0.5881167104623037, 'reg_lambda': 24.110191290354656}. Best is trial 22 with value: 0.9032459017939101.\u001b[0m\n"
     ]
    },
    {
     "name": "stdout",
     "output_type": "stream",
     "text": [
      "0.8777744254160502\n"
     ]
    },
    {
     "name": "stderr",
     "output_type": "stream",
     "text": [
      "\u001b[32m[I 2023-01-16 08:59:57,188]\u001b[0m Trial 236 finished with value: 0.8824270619999097 and parameters: {'max_depth': 20, 'n_estimators': 59, 'eta': 0.09028845126938974, 'subsample': 0.5105515324780797, 'colsample_bytree': 0.613969190845105, 'reg_lambda': 19.932522434658804}. Best is trial 22 with value: 0.9032459017939101.\u001b[0m\n"
     ]
    },
    {
     "name": "stdout",
     "output_type": "stream",
     "text": [
      "0.8824270619999097\n"
     ]
    },
    {
     "name": "stderr",
     "output_type": "stream",
     "text": [
      "\u001b[32m[I 2023-01-16 08:59:58,605]\u001b[0m Trial 237 finished with value: 0.8765527589525456 and parameters: {'max_depth': 19, 'n_estimators': 85, 'eta': 0.1102464571664786, 'subsample': 0.38540894256751423, 'colsample_bytree': 0.5789902699159125, 'reg_lambda': 22.250839827367923}. Best is trial 22 with value: 0.9032459017939101.\u001b[0m\n"
     ]
    },
    {
     "name": "stdout",
     "output_type": "stream",
     "text": [
      "0.8765527589525456\n"
     ]
    },
    {
     "name": "stderr",
     "output_type": "stream",
     "text": [
      "\u001b[32m[I 2023-01-16 08:59:59,618]\u001b[0m Trial 238 finished with value: 0.8990993745525664 and parameters: {'max_depth': 18, 'n_estimators': 56, 'eta': 0.1072579873543407, 'subsample': 0.43122842136091516, 'colsample_bytree': 0.5985153061871188, 'reg_lambda': 17.58611506454921}. Best is trial 22 with value: 0.9032459017939101.\u001b[0m\n"
     ]
    },
    {
     "name": "stdout",
     "output_type": "stream",
     "text": [
      "0.8990993745525664\n"
     ]
    },
    {
     "name": "stderr",
     "output_type": "stream",
     "text": [
      "\u001b[32m[I 2023-01-16 09:00:00,564]\u001b[0m Trial 239 finished with value: 0.8963913696739821 and parameters: {'max_depth': 18, 'n_estimators': 57, 'eta': 0.10579070113349413, 'subsample': 0.4261318858023402, 'colsample_bytree': 0.5946242541597395, 'reg_lambda': 17.402967074763243}. Best is trial 22 with value: 0.9032459017939101.\u001b[0m\n"
     ]
    },
    {
     "name": "stdout",
     "output_type": "stream",
     "text": [
      "0.8963913696739821\n"
     ]
    },
    {
     "name": "stderr",
     "output_type": "stream",
     "text": [
      "\u001b[32m[I 2023-01-16 09:00:01,029]\u001b[0m Trial 240 finished with value: 0.8803992573022184 and parameters: {'max_depth': 18, 'n_estimators': 57, 'eta': 0.1060423894743077, 'subsample': 0.4273054245270164, 'colsample_bytree': 0.6020582602478572, 'reg_lambda': 17.501937205371583}. Best is trial 22 with value: 0.9032459017939101.\u001b[0m\n"
     ]
    },
    {
     "name": "stdout",
     "output_type": "stream",
     "text": [
      "0.8803992573022184\n"
     ]
    },
    {
     "name": "stderr",
     "output_type": "stream",
     "text": [
      "\u001b[32m[I 2023-01-16 09:00:01,547]\u001b[0m Trial 241 finished with value: 0.8936075999237638 and parameters: {'max_depth': 18, 'n_estimators': 55, 'eta': 0.10407505288373557, 'subsample': 0.40643920390533633, 'colsample_bytree': 0.5964003616865687, 'reg_lambda': 16.3705459319274}. Best is trial 22 with value: 0.9032459017939101.\u001b[0m\n"
     ]
    },
    {
     "name": "stdout",
     "output_type": "stream",
     "text": [
      "0.8936075999237638\n"
     ]
    },
    {
     "name": "stderr",
     "output_type": "stream",
     "text": [
      "\u001b[32m[I 2023-01-16 09:00:02,485]\u001b[0m Trial 242 finished with value: 0.8845467947418506 and parameters: {'max_depth': 18, 'n_estimators': 55, 'eta': 0.10479273573601912, 'subsample': 0.4173882011764337, 'colsample_bytree': 0.5954959590697516, 'reg_lambda': 15.626342801101615}. Best is trial 22 with value: 0.9032459017939101.\u001b[0m\n"
     ]
    },
    {
     "name": "stdout",
     "output_type": "stream",
     "text": [
      "0.8845467947418506\n"
     ]
    },
    {
     "name": "stderr",
     "output_type": "stream",
     "text": [
      "\u001b[32m[I 2023-01-16 09:00:03,522]\u001b[0m Trial 243 finished with value: 0.8838295539570478 and parameters: {'max_depth': 17, 'n_estimators': 57, 'eta': 0.10790948630231692, 'subsample': 0.4359312504999226, 'colsample_bytree': 0.5677139803785247, 'reg_lambda': 18.543332262852143}. Best is trial 22 with value: 0.9032459017939101.\u001b[0m\n"
     ]
    },
    {
     "name": "stdout",
     "output_type": "stream",
     "text": [
      "0.8838295539570478\n"
     ]
    },
    {
     "name": "stderr",
     "output_type": "stream",
     "text": [
      "\u001b[32m[I 2023-01-16 09:00:04,456]\u001b[0m Trial 244 finished with value: 0.8831729250695521 and parameters: {'max_depth': 18, 'n_estimators': 55, 'eta': 0.10791938179012667, 'subsample': 0.3949968469822151, 'colsample_bytree': 0.5807159219288328, 'reg_lambda': 16.772428378259594}. Best is trial 22 with value: 0.9032459017939101.\u001b[0m\n"
     ]
    },
    {
     "name": "stdout",
     "output_type": "stream",
     "text": [
      "0.8831729250695521\n"
     ]
    },
    {
     "name": "stderr",
     "output_type": "stream",
     "text": [
      "\u001b[32m[I 2023-01-16 09:00:05,473]\u001b[0m Trial 245 finished with value: 0.8709458217188591 and parameters: {'max_depth': 18, 'n_estimators': 59, 'eta': 0.10098422195760019, 'subsample': 0.4465204223037711, 'colsample_bytree': 0.6186712474366785, 'reg_lambda': 16.65500135404653}. Best is trial 22 with value: 0.9032459017939101.\u001b[0m\n"
     ]
    },
    {
     "name": "stdout",
     "output_type": "stream",
     "text": [
      "0.8709458217188591\n"
     ]
    },
    {
     "name": "stderr",
     "output_type": "stream",
     "text": [
      "\u001b[32m[I 2023-01-16 09:00:06,470]\u001b[0m Trial 246 finished with value: 0.8947050119977884 and parameters: {'max_depth': 18, 'n_estimators': 57, 'eta': 0.10409183004085404, 'subsample': 0.41682852641193496, 'colsample_bytree': 0.548149596706452, 'reg_lambda': 17.368469315327864}. Best is trial 22 with value: 0.9032459017939101.\u001b[0m\n"
     ]
    },
    {
     "name": "stdout",
     "output_type": "stream",
     "text": [
      "0.8947050119977884\n"
     ]
    },
    {
     "name": "stderr",
     "output_type": "stream",
     "text": [
      "\u001b[32m[I 2023-01-16 09:00:07,043]\u001b[0m Trial 247 finished with value: 0.8714401454146763 and parameters: {'max_depth': 18, 'n_estimators': 31, 'eta': 0.10952283695424432, 'subsample': 0.4224275107972508, 'colsample_bytree': 0.5444665355704228, 'reg_lambda': 17.712138997597734}. Best is trial 22 with value: 0.9032459017939101.\u001b[0m\n"
     ]
    },
    {
     "name": "stdout",
     "output_type": "stream",
     "text": [
      "0.8714401454146763\n"
     ]
    },
    {
     "name": "stderr",
     "output_type": "stream",
     "text": [
      "\u001b[32m[I 2023-01-16 09:00:08,018]\u001b[0m Trial 248 finished with value: 0.8848468236335217 and parameters: {'max_depth': 19, 'n_estimators': 58, 'eta': 0.10610448008849542, 'subsample': 0.63311208763477, 'colsample_bytree': 0.5265223729058585, 'reg_lambda': 33.629633010378186}. Best is trial 22 with value: 0.9032459017939101.\u001b[0m\n"
     ]
    },
    {
     "name": "stdout",
     "output_type": "stream",
     "text": [
      "0.8848468236335217\n"
     ]
    },
    {
     "name": "stderr",
     "output_type": "stream",
     "text": [
      "\u001b[32m[I 2023-01-16 09:00:08,627]\u001b[0m Trial 249 finished with value: 0.8713822273794716 and parameters: {'max_depth': 17, 'n_estimators': 57, 'eta': 0.11042849303635414, 'subsample': 0.8655439016698508, 'colsample_bytree': 0.5592856449591459, 'reg_lambda': 18.094347214374828}. Best is trial 22 with value: 0.9032459017939101.\u001b[0m\n"
     ]
    },
    {
     "name": "stdout",
     "output_type": "stream",
     "text": [
      "0.8713822273794716\n"
     ]
    },
    {
     "name": "stderr",
     "output_type": "stream",
     "text": [
      "\u001b[32m[I 2023-01-16 09:00:09,334]\u001b[0m Trial 250 finished with value: 0.8877885210495018 and parameters: {'max_depth': 18, 'n_estimators': 71, 'eta': 0.09336938559696699, 'subsample': 0.4390349531408866, 'colsample_bytree': 0.5088543487170166, 'reg_lambda': 17.615624155267714}. Best is trial 22 with value: 0.9032459017939101.\u001b[0m\n"
     ]
    },
    {
     "name": "stdout",
     "output_type": "stream",
     "text": [
      "0.8877885210495018\n"
     ]
    },
    {
     "name": "stderr",
     "output_type": "stream",
     "text": [
      "\u001b[32m[I 2023-01-16 09:00:10,355]\u001b[0m Trial 251 finished with value: 0.8877737048079377 and parameters: {'max_depth': 18, 'n_estimators': 60, 'eta': 0.10810416826549442, 'subsample': 0.6109213766284761, 'colsample_bytree': 0.554523523312103, 'reg_lambda': 19.66014649414764}. Best is trial 22 with value: 0.9032459017939101.\u001b[0m\n"
     ]
    },
    {
     "name": "stdout",
     "output_type": "stream",
     "text": [
      "0.8877737048079377\n"
     ]
    },
    {
     "name": "stderr",
     "output_type": "stream",
     "text": [
      "\u001b[32m[I 2023-01-16 09:00:11,165]\u001b[0m Trial 252 finished with value: 0.889481613380952 and parameters: {'max_depth': 19, 'n_estimators': 53, 'eta': 0.10385110599338832, 'subsample': 0.45424834042048123, 'colsample_bytree': 0.5382347994881256, 'reg_lambda': 36.45219077504637}. Best is trial 22 with value: 0.9032459017939101.\u001b[0m\n"
     ]
    },
    {
     "name": "stdout",
     "output_type": "stream",
     "text": [
      "0.889481613380952\n"
     ]
    },
    {
     "name": "stderr",
     "output_type": "stream",
     "text": [
      "\u001b[32m[I 2023-01-16 09:00:12,102]\u001b[0m Trial 253 finished with value: 0.8842248782205964 and parameters: {'max_depth': 19, 'n_estimators': 57, 'eta': 0.10640594199393578, 'subsample': 0.5756391086409834, 'colsample_bytree': 0.5761162374400847, 'reg_lambda': 31.465896999879533}. Best is trial 22 with value: 0.9032459017939101.\u001b[0m\n"
     ]
    },
    {
     "name": "stdout",
     "output_type": "stream",
     "text": [
      "0.8842248782205964\n"
     ]
    },
    {
     "name": "stderr",
     "output_type": "stream",
     "text": [
      "\u001b[32m[I 2023-01-16 09:00:12,704]\u001b[0m Trial 254 finished with value: 0.8775626205082375 and parameters: {'max_depth': 14, 'n_estimators': 55, 'eta': 0.09773380645634816, 'subsample': 0.4110953293078762, 'colsample_bytree': 0.1696129201494629, 'reg_lambda': 23.03923847423305}. Best is trial 22 with value: 0.9032459017939101.\u001b[0m\n"
     ]
    },
    {
     "name": "stdout",
     "output_type": "stream",
     "text": [
      "0.8775626205082375\n"
     ]
    },
    {
     "name": "stderr",
     "output_type": "stream",
     "text": [
      "\u001b[32m[I 2023-01-16 09:00:13,644]\u001b[0m Trial 255 finished with value: 0.8746532494374879 and parameters: {'max_depth': 17, 'n_estimators': 49, 'eta': 0.11055766256176465, 'subsample': 0.5947730104096396, 'colsample_bytree': 0.5995566420555025, 'reg_lambda': 25.846515590521}. Best is trial 22 with value: 0.9032459017939101.\u001b[0m\n"
     ]
    },
    {
     "name": "stdout",
     "output_type": "stream",
     "text": [
      "0.8746532494374879\n"
     ]
    },
    {
     "name": "stderr",
     "output_type": "stream",
     "text": [
      "\u001b[32m[I 2023-01-16 09:00:13,888]\u001b[0m Trial 256 finished with value: 0.7992624879028754 and parameters: {'max_depth': 20, 'n_estimators': 17, 'eta': 0.09037979657154868, 'subsample': 0.1911520278985525, 'colsample_bytree': 0.6195468992889885, 'reg_lambda': 21.35648335426801}. Best is trial 22 with value: 0.9032459017939101.\u001b[0m\n"
     ]
    },
    {
     "name": "stdout",
     "output_type": "stream",
     "text": [
      "0.7992624879028754\n"
     ]
    },
    {
     "name": "stderr",
     "output_type": "stream",
     "text": [
      "\u001b[32m[I 2023-01-16 09:00:14,586]\u001b[0m Trial 257 finished with value: 0.8770440520534973 and parameters: {'max_depth': 18, 'n_estimators': 75, 'eta': 0.0859902265413819, 'subsample': 0.4323308005357631, 'colsample_bytree': 0.5757765417018362, 'reg_lambda': 20.275821879459144}. Best is trial 22 with value: 0.9032459017939101.\u001b[0m\n"
     ]
    },
    {
     "name": "stdout",
     "output_type": "stream",
     "text": [
      "0.8770440520534973\n"
     ]
    },
    {
     "name": "stderr",
     "output_type": "stream",
     "text": [
      "\u001b[32m[I 2023-01-16 09:00:15,418]\u001b[0m Trial 258 finished with value: 0.8780795052991636 and parameters: {'max_depth': 18, 'n_estimators': 60, 'eta': 0.10171279484485324, 'subsample': 0.39315221823453195, 'colsample_bytree': 0.559555350924945, 'reg_lambda': 27.0674259347833}. Best is trial 22 with value: 0.9032459017939101.\u001b[0m\n"
     ]
    },
    {
     "name": "stdout",
     "output_type": "stream",
     "text": [
      "0.8780795052991636\n"
     ]
    },
    {
     "name": "stderr",
     "output_type": "stream",
     "text": [
      "\u001b[32m[I 2023-01-16 09:00:16,459]\u001b[0m Trial 259 finished with value: 0.8801830748684891 and parameters: {'max_depth': 12, 'n_estimators': 54, 'eta': 0.07891285057746719, 'subsample': 0.6455904722111103, 'colsample_bytree': 0.5904250922062632, 'reg_lambda': 18.69196446555848}. Best is trial 22 with value: 0.9032459017939101.\u001b[0m\n"
     ]
    },
    {
     "name": "stdout",
     "output_type": "stream",
     "text": [
      "0.8801830748684891\n"
     ]
    },
    {
     "name": "stderr",
     "output_type": "stream",
     "text": [
      "\u001b[32m[I 2023-01-16 09:00:17,384]\u001b[0m Trial 260 finished with value: 0.881939136226586 and parameters: {'max_depth': 19, 'n_estimators': 56, 'eta': 0.10786427614268392, 'subsample': 0.13392035331940444, 'colsample_bytree': 0.6096175507033273, 'reg_lambda': 17.06559558391182}. Best is trial 22 with value: 0.9032459017939101.\u001b[0m\n"
     ]
    },
    {
     "name": "stdout",
     "output_type": "stream",
     "text": [
      "0.881939136226586\n"
     ]
    },
    {
     "name": "stderr",
     "output_type": "stream",
     "text": [
      "\u001b[32m[I 2023-01-16 09:00:18,198]\u001b[0m Trial 261 finished with value: 0.8898627948684621 and parameters: {'max_depth': 20, 'n_estimators': 51, 'eta': 0.11108420554956021, 'subsample': 0.6068989656596675, 'colsample_bytree': 0.441735582835009, 'reg_lambda': 30.43812650530298}. Best is trial 22 with value: 0.9032459017939101.\u001b[0m\n"
     ]
    },
    {
     "name": "stdout",
     "output_type": "stream",
     "text": [
      "0.8898627948684621\n"
     ]
    },
    {
     "name": "stderr",
     "output_type": "stream",
     "text": [
      "\u001b[32m[I 2023-01-16 09:00:18,868]\u001b[0m Trial 262 finished with value: 0.8940557912310747 and parameters: {'max_depth': 7, 'n_estimators': 62, 'eta': 0.1047587365482686, 'subsample': 0.4585051209528592, 'colsample_bytree': 0.6299267913166027, 'reg_lambda': 34.75960581134629}. Best is trial 22 with value: 0.9032459017939101.\u001b[0m\n"
     ]
    },
    {
     "name": "stdout",
     "output_type": "stream",
     "text": [
      "0.8940557912310747\n"
     ]
    },
    {
     "name": "stderr",
     "output_type": "stream",
     "text": [
      "\u001b[32m[I 2023-01-16 09:00:19,388]\u001b[0m Trial 263 finished with value: 0.8845686823714337 and parameters: {'max_depth': 17, 'n_estimators': 67, 'eta': 0.10442519873217491, 'subsample': 0.4577586279113013, 'colsample_bytree': 0.6337565740631926, 'reg_lambda': 35.56430403642394}. Best is trial 22 with value: 0.9032459017939101.\u001b[0m\n"
     ]
    },
    {
     "name": "stdout",
     "output_type": "stream",
     "text": [
      "0.8845686823714337\n"
     ]
    },
    {
     "name": "stderr",
     "output_type": "stream",
     "text": [
      "\u001b[32m[I 2023-01-16 09:00:20,021]\u001b[0m Trial 264 finished with value: 0.8801948605151876 and parameters: {'max_depth': 7, 'n_estimators': 62, 'eta': 0.10048960360048272, 'subsample': 0.4187171480728249, 'colsample_bytree': 0.22718061305039228, 'reg_lambda': 32.399994981681}. Best is trial 22 with value: 0.9032459017939101.\u001b[0m\n"
     ]
    },
    {
     "name": "stdout",
     "output_type": "stream",
     "text": [
      "0.8801948605151876\n"
     ]
    },
    {
     "name": "stderr",
     "output_type": "stream",
     "text": [
      "\u001b[32m[I 2023-01-16 09:00:20,963]\u001b[0m Trial 265 finished with value: 0.8756940904073591 and parameters: {'max_depth': 8, 'n_estimators': 61, 'eta': 0.10263244166796241, 'subsample': 0.4322110934512592, 'colsample_bytree': 0.6496850528438535, 'reg_lambda': 34.36163088993243}. Best is trial 22 with value: 0.9032459017939101.\u001b[0m\n"
     ]
    },
    {
     "name": "stdout",
     "output_type": "stream",
     "text": [
      "0.8756940904073591\n"
     ]
    },
    {
     "name": "stderr",
     "output_type": "stream",
     "text": [
      "\u001b[32m[I 2023-01-16 09:00:21,896]\u001b[0m Trial 266 finished with value: 0.8662517670051728 and parameters: {'max_depth': 7, 'n_estimators': 65, 'eta': 0.09568046041252537, 'subsample': 0.406343812639897, 'colsample_bytree': 0.6256050227902472, 'reg_lambda': 32.88341564313777}. Best is trial 22 with value: 0.9032459017939101.\u001b[0m\n"
     ]
    },
    {
     "name": "stdout",
     "output_type": "stream",
     "text": [
      "0.8662517670051728\n"
     ]
    },
    {
     "name": "stderr",
     "output_type": "stream",
     "text": [
      "\u001b[32m[I 2023-01-16 09:00:22,752]\u001b[0m Trial 267 finished with value: 0.8337557084621616 and parameters: {'max_depth': 20, 'n_estimators': 58, 'eta': 0.03729773816919152, 'subsample': 0.27797235749224375, 'colsample_bytree': 0.6055937029937146, 'reg_lambda': 33.86627791044185}. Best is trial 22 with value: 0.9032459017939101.\u001b[0m\n"
     ]
    },
    {
     "name": "stdout",
     "output_type": "stream",
     "text": [
      "0.8337557084621616\n"
     ]
    },
    {
     "name": "stderr",
     "output_type": "stream",
     "text": [
      "\u001b[32m[I 2023-01-16 09:00:23,264]\u001b[0m Trial 268 finished with value: 0.8927930433705065 and parameters: {'max_depth': 11, 'n_estimators': 59, 'eta': 0.10570370883370019, 'subsample': 0.6572664715558084, 'colsample_bytree': 0.4717184034645759, 'reg_lambda': 38.911719413800576}. Best is trial 22 with value: 0.9032459017939101.\u001b[0m\n"
     ]
    },
    {
     "name": "stdout",
     "output_type": "stream",
     "text": [
      "0.8927930433705065\n"
     ]
    },
    {
     "name": "stderr",
     "output_type": "stream",
     "text": [
      "\u001b[32m[I 2023-01-16 09:00:23,697]\u001b[0m Trial 269 finished with value: 0.8743161799419068 and parameters: {'max_depth': 17, 'n_estimators': 54, 'eta': 0.08829689748442597, 'subsample': 0.4445443605664148, 'colsample_bytree': 0.39432962681487077, 'reg_lambda': 34.86496856854082}. Best is trial 22 with value: 0.9032459017939101.\u001b[0m\n"
     ]
    },
    {
     "name": "stdout",
     "output_type": "stream",
     "text": [
      "0.8743161799419068\n"
     ]
    },
    {
     "name": "stderr",
     "output_type": "stream",
     "text": [
      "\u001b[32m[I 2023-01-16 09:00:24,736]\u001b[0m Trial 270 finished with value: 0.8822725016617763 and parameters: {'max_depth': 19, 'n_estimators': 57, 'eta': 0.10590743727308392, 'subsample': 0.7408179706508174, 'colsample_bytree': 0.5235967949752592, 'reg_lambda': 22.169173784585645}. Best is trial 22 with value: 0.9032459017939101.\u001b[0m\n"
     ]
    },
    {
     "name": "stdout",
     "output_type": "stream",
     "text": [
      "0.8822725016617763\n"
     ]
    },
    {
     "name": "stderr",
     "output_type": "stream",
     "text": [
      "\u001b[32m[I 2023-01-16 09:00:26,037]\u001b[0m Trial 271 finished with value: 0.8780862399544198 and parameters: {'max_depth': 18, 'n_estimators': 69, 'eta': 0.10822948024506818, 'subsample': 0.5665442261928023, 'colsample_bytree': 0.8763115211306607, 'reg_lambda': 23.73271062280286}. Best is trial 22 with value: 0.9032459017939101.\u001b[0m\n"
     ]
    },
    {
     "name": "stdout",
     "output_type": "stream",
     "text": [
      "0.8780862399544198\n"
     ]
    },
    {
     "name": "stderr",
     "output_type": "stream",
     "text": [
      "\u001b[32m[I 2023-01-16 09:00:26,998]\u001b[0m Trial 272 finished with value: 0.8862550400476275 and parameters: {'max_depth': 7, 'n_estimators': 62, 'eta': 0.09991034568151448, 'subsample': 0.4600668242767078, 'colsample_bytree': 0.66353201810681, 'reg_lambda': 21.085928595707536}. Best is trial 22 with value: 0.9032459017939101.\u001b[0m\n"
     ]
    },
    {
     "name": "stdout",
     "output_type": "stream",
     "text": [
      "0.8862550400476275\n"
     ]
    },
    {
     "name": "stderr",
     "output_type": "stream",
     "text": [
      "\u001b[32m[I 2023-01-16 09:00:27,416]\u001b[0m Trial 273 finished with value: 0.8917852022113913 and parameters: {'max_depth': 12, 'n_estimators': 52, 'eta': 0.10296401699451438, 'subsample': 0.251073230817768, 'colsample_bytree': 0.5482661955842636, 'reg_lambda': 21.60001486032573}. Best is trial 22 with value: 0.9032459017939101.\u001b[0m\n"
     ]
    },
    {
     "name": "stdout",
     "output_type": "stream",
     "text": [
      "0.8917852022113913\n"
     ]
    },
    {
     "name": "stderr",
     "output_type": "stream",
     "text": [
      "\u001b[32m[I 2023-01-16 09:00:27,924]\u001b[0m Trial 274 finished with value: 0.8851849033273911 and parameters: {'max_depth': 9, 'n_estimators': 60, 'eta': 0.09235024166927075, 'subsample': 0.37751993645951754, 'colsample_bytree': 0.5873602459513362, 'reg_lambda': 22.55451387073642}. Best is trial 22 with value: 0.9032459017939101.\u001b[0m\n"
     ]
    },
    {
     "name": "stdout",
     "output_type": "stream",
     "text": [
      "0.8851849033273911\n"
     ]
    },
    {
     "name": "stderr",
     "output_type": "stream",
     "text": [
      "\u001b[32m[I 2023-01-16 09:00:28,873]\u001b[0m Trial 275 finished with value: 0.8781192397651763 and parameters: {'max_depth': 20, 'n_estimators': 56, 'eta': 0.10843728139155838, 'subsample': 0.6262116679834263, 'colsample_bytree': 0.6276123725825752, 'reg_lambda': 19.909178273359135}. Best is trial 22 with value: 0.9032459017939101.\u001b[0m\n"
     ]
    },
    {
     "name": "stdout",
     "output_type": "stream",
     "text": [
      "0.8781192397651763\n"
     ]
    },
    {
     "name": "stderr",
     "output_type": "stream",
     "text": [
      "\u001b[32m[I 2023-01-16 09:00:29,833]\u001b[0m Trial 276 finished with value: 0.8834042604776083 and parameters: {'max_depth': 16, 'n_estimators': 54, 'eta': 0.11067112512733562, 'subsample': 0.4751500401335253, 'colsample_bytree': 0.5674578877116624, 'reg_lambda': 24.96131554011332}. Best is trial 22 with value: 0.9032459017939101.\u001b[0m\n"
     ]
    },
    {
     "name": "stdout",
     "output_type": "stream",
     "text": [
      "0.8834042604776083\n"
     ]
    },
    {
     "name": "stderr",
     "output_type": "stream",
     "text": [
      "\u001b[32m[I 2023-01-16 09:00:30,628]\u001b[0m Trial 277 finished with value: 0.8907982384835711 and parameters: {'max_depth': 19, 'n_estimators': 49, 'eta': 0.10538298112559426, 'subsample': 0.4250715204366607, 'colsample_bytree': 0.6048178744906454, 'reg_lambda': 37.8104657595843}. Best is trial 22 with value: 0.9032459017939101.\u001b[0m\n"
     ]
    },
    {
     "name": "stdout",
     "output_type": "stream",
     "text": [
      "0.8907982384835711\n"
     ]
    },
    {
     "name": "stderr",
     "output_type": "stream",
     "text": [
      "\u001b[32m[I 2023-01-16 09:00:31,299]\u001b[0m Trial 278 finished with value: 0.8780468422211701 and parameters: {'max_depth': 7, 'n_estimators': 59, 'eta': 0.10823781973178326, 'subsample': 0.6009588110300653, 'colsample_bytree': 0.14953325455599215, 'reg_lambda': 15.696643843584297}. Best is trial 22 with value: 0.9032459017939101.\u001b[0m\n"
     ]
    },
    {
     "name": "stdout",
     "output_type": "stream",
     "text": [
      "0.8780468422211701\n"
     ]
    },
    {
     "name": "stderr",
     "output_type": "stream",
     "text": [
      "\u001b[32m[I 2023-01-16 09:00:32,631]\u001b[0m Trial 279 finished with value: 0.8897334894875399 and parameters: {'max_depth': 15, 'n_estimators': 80, 'eta': 0.08397949971897868, 'subsample': 0.396302772531503, 'colsample_bytree': 0.6901579714640659, 'reg_lambda': 20.64109751852644}. Best is trial 22 with value: 0.9032459017939101.\u001b[0m\n"
     ]
    },
    {
     "name": "stdout",
     "output_type": "stream",
     "text": [
      "0.8897334894875399\n"
     ]
    },
    {
     "name": "stderr",
     "output_type": "stream",
     "text": [
      "\u001b[32m[I 2023-01-16 09:00:33,565]\u001b[0m Trial 280 finished with value: 0.8861829792363843 and parameters: {'max_depth': 18, 'n_estimators': 63, 'eta': 0.11287214579848802, 'subsample': 0.4527740907293677, 'colsample_bytree': 0.49626485880855026, 'reg_lambda': 22.00703970264405}. Best is trial 22 with value: 0.9032459017939101.\u001b[0m\n"
     ]
    },
    {
     "name": "stdout",
     "output_type": "stream",
     "text": [
      "0.8861829792363843\n"
     ]
    },
    {
     "name": "stderr",
     "output_type": "stream",
     "text": [
      "\u001b[32m[I 2023-01-16 09:00:34,008]\u001b[0m Trial 281 finished with value: 0.8746040864541165 and parameters: {'max_depth': 8, 'n_estimators': 53, 'eta': 0.1035385848045486, 'subsample': 0.5793592485316472, 'colsample_bytree': 0.5835295142444955, 'reg_lambda': 19.381677503959114}. Best is trial 22 with value: 0.9032459017939101.\u001b[0m\n"
     ]
    },
    {
     "name": "stdout",
     "output_type": "stream",
     "text": [
      "0.8746040864541165\n"
     ]
    },
    {
     "name": "stderr",
     "output_type": "stream",
     "text": [
      "\u001b[32m[I 2023-01-16 09:00:34,570]\u001b[0m Trial 282 finished with value: 0.8726274651363735 and parameters: {'max_depth': 10, 'n_estimators': 56, 'eta': 0.10927231655602547, 'subsample': 0.4370130589541736, 'colsample_bytree': 0.6450742960004399, 'reg_lambda': 31.896878398287676}. Best is trial 22 with value: 0.9032459017939101.\u001b[0m\n"
     ]
    },
    {
     "name": "stdout",
     "output_type": "stream",
     "text": [
      "0.8726274651363735\n"
     ]
    },
    {
     "name": "stderr",
     "output_type": "stream",
     "text": [
      "\u001b[32m[I 2023-01-16 09:00:35,508]\u001b[0m Trial 283 finished with value: 0.8837618706717213 and parameters: {'max_depth': 7, 'n_estimators': 65, 'eta': 0.107071797357939, 'subsample': 0.4112379436691275, 'colsample_bytree': 0.5429528575610806, 'reg_lambda': 20.8481889546579}. Best is trial 22 with value: 0.9032459017939101.\u001b[0m\n"
     ]
    },
    {
     "name": "stdout",
     "output_type": "stream",
     "text": [
      "0.8837618706717213\n"
     ]
    },
    {
     "name": "stderr",
     "output_type": "stream",
     "text": [
      "\u001b[32m[I 2023-01-16 09:00:37,063]\u001b[0m Trial 284 finished with value: 0.8869621788495456 and parameters: {'max_depth': 20, 'n_estimators': 83, 'eta': 0.1103512178688277, 'subsample': 0.6330304267761563, 'colsample_bytree': 0.6182983001277957, 'reg_lambda': 23.4052858814574}. Best is trial 22 with value: 0.9032459017939101.\u001b[0m\n"
     ]
    },
    {
     "name": "stdout",
     "output_type": "stream",
     "text": [
      "0.8869621788495456\n"
     ]
    },
    {
     "name": "stderr",
     "output_type": "stream",
     "text": [
      "\u001b[32m[I 2023-01-16 09:00:37,845]\u001b[0m Trial 285 finished with value: 0.879957127184638 and parameters: {'max_depth': 19, 'n_estimators': 58, 'eta': 0.09848972333350353, 'subsample': 0.7148982994995309, 'colsample_bytree': 0.5668405805611639, 'reg_lambda': 39.91997772289755}. Best is trial 22 with value: 0.9032459017939101.\u001b[0m\n"
     ]
    },
    {
     "name": "stdout",
     "output_type": "stream",
     "text": [
      "0.879957127184638\n"
     ]
    },
    {
     "name": "stderr",
     "output_type": "stream",
     "text": [
      "\u001b[32m[I 2023-01-16 09:00:38,234]\u001b[0m Trial 286 finished with value: 0.8774902229642316 and parameters: {'max_depth': 7, 'n_estimators': 51, 'eta': 0.09455671310875666, 'subsample': 0.4976266668259242, 'colsample_bytree': 0.5842086260644789, 'reg_lambda': 21.828133461198263}. Best is trial 22 with value: 0.9032459017939101.\u001b[0m\n"
     ]
    },
    {
     "name": "stdout",
     "output_type": "stream",
     "text": [
      "0.8774902229642316\n"
     ]
    },
    {
     "name": "stderr",
     "output_type": "stream",
     "text": [
      "\u001b[32m[I 2023-01-16 09:00:39,056]\u001b[0m Trial 287 finished with value: 0.8787741849888575 and parameters: {'max_depth': 18, 'n_estimators': 70, 'eta': 0.09098581346991812, 'subsample': 0.46602815524702557, 'colsample_bytree': 0.596351468942409, 'reg_lambda': 20.10659544168956}. Best is trial 22 with value: 0.9032459017939101.\u001b[0m\n"
     ]
    },
    {
     "name": "stdout",
     "output_type": "stream",
     "text": [
      "0.8787741849888575\n"
     ]
    },
    {
     "name": "stderr",
     "output_type": "stream",
     "text": [
      "\u001b[32m[I 2023-01-16 09:00:40,120]\u001b[0m Trial 288 finished with value: 0.872539241152515 and parameters: {'max_depth': 17, 'n_estimators': 73, 'eta': 0.10590568216194327, 'subsample': 0.3784906373459263, 'colsample_bytree': 0.5300509350909388, 'reg_lambda': 22.5418179234343}. Best is trial 22 with value: 0.9032459017939101.\u001b[0m\n"
     ]
    },
    {
     "name": "stdout",
     "output_type": "stream",
     "text": [
      "0.872539241152515\n"
     ]
    },
    {
     "name": "stderr",
     "output_type": "stream",
     "text": [
      "\u001b[32m[I 2023-01-16 09:00:41,180]\u001b[0m Trial 289 finished with value: 0.8691028833079549 and parameters: {'max_depth': 13, 'n_estimators': 61, 'eta': 0.06630121563501803, 'subsample': 0.6078542938535485, 'colsample_bytree': 0.6126083966022375, 'reg_lambda': 19.06900699222758}. Best is trial 22 with value: 0.9032459017939101.\u001b[0m\n"
     ]
    },
    {
     "name": "stdout",
     "output_type": "stream",
     "text": [
      "0.8691028833079549\n"
     ]
    },
    {
     "name": "stderr",
     "output_type": "stream",
     "text": [
      "\u001b[32m[I 2023-01-16 09:00:41,933]\u001b[0m Trial 290 finished with value: 0.79898704050289 and parameters: {'max_depth': 20, 'n_estimators': 56, 'eta': 0.02125656376391858, 'subsample': 0.4406972034045555, 'colsample_bytree': 0.4212917577794588, 'reg_lambda': 36.330531828829734}. Best is trial 22 with value: 0.9032459017939101.\u001b[0m\n"
     ]
    },
    {
     "name": "stdout",
     "output_type": "stream",
     "text": [
      "0.79898704050289\n"
     ]
    },
    {
     "name": "stderr",
     "output_type": "stream",
     "text": [
      "\u001b[32m[I 2023-01-16 09:00:42,740]\u001b[0m Trial 291 finished with value: 0.8745044135563221 and parameters: {'max_depth': 7, 'n_estimators': 53, 'eta': 0.11057714665819697, 'subsample': 0.42207189429205855, 'colsample_bytree': 0.5566508039419413, 'reg_lambda': 21.278125416174074}. Best is trial 22 with value: 0.9032459017939101.\u001b[0m\n"
     ]
    },
    {
     "name": "stdout",
     "output_type": "stream",
     "text": [
      "0.8745044135563221\n"
     ]
    },
    {
     "name": "stderr",
     "output_type": "stream",
     "text": [
      "\u001b[32m[I 2023-01-16 09:00:43,512]\u001b[0m Trial 292 finished with value: 0.8708771282352442 and parameters: {'max_depth': 8, 'n_estimators': 67, 'eta': 0.05340971021381587, 'subsample': 0.39587103857236944, 'colsample_bytree': 0.19194545559007217, 'reg_lambda': 17.964716600771048}. Best is trial 22 with value: 0.9032459017939101.\u001b[0m\n"
     ]
    },
    {
     "name": "stdout",
     "output_type": "stream",
     "text": [
      "0.8708771282352442\n"
     ]
    },
    {
     "name": "stderr",
     "output_type": "stream",
     "text": [
      "\u001b[32m[I 2023-01-16 09:00:44,304]\u001b[0m Trial 293 finished with value: 0.8818418204581316 and parameters: {'max_depth': 7, 'n_estimators': 57, 'eta': 0.0878455113820999, 'subsample': 0.5875180778601566, 'colsample_bytree': 0.5742425680503408, 'reg_lambda': 20.50396505588004}. Best is trial 22 with value: 0.9032459017939101.\u001b[0m\n"
     ]
    },
    {
     "name": "stdout",
     "output_type": "stream",
     "text": [
      "0.8818418204581316\n"
     ]
    },
    {
     "name": "stderr",
     "output_type": "stream",
     "text": [
      "\u001b[32m[I 2023-01-16 09:00:44,887]\u001b[0m Trial 294 finished with value: 0.8721183251989921 and parameters: {'max_depth': 18, 'n_estimators': 59, 'eta': 0.10401937433606896, 'subsample': 0.6683594326652996, 'colsample_bytree': 0.6317516019290513, 'reg_lambda': 17.148133297611235}. Best is trial 22 with value: 0.9032459017939101.\u001b[0m\n"
     ]
    },
    {
     "name": "stdout",
     "output_type": "stream",
     "text": [
      "0.8721183251989921\n"
     ]
    },
    {
     "name": "stderr",
     "output_type": "stream",
     "text": [
      "\u001b[32m[I 2023-01-16 09:00:45,554]\u001b[0m Trial 295 finished with value: 0.8688900682018539 and parameters: {'max_depth': 19, 'n_estimators': 55, 'eta': 0.10737962853054535, 'subsample': 0.4609633320351031, 'colsample_bytree': 0.5903373012460759, 'reg_lambda': 23.143415561076587}. Best is trial 22 with value: 0.9032459017939101.\u001b[0m\n"
     ]
    },
    {
     "name": "stdout",
     "output_type": "stream",
     "text": [
      "0.8688900682018539\n"
     ]
    },
    {
     "name": "stderr",
     "output_type": "stream",
     "text": [
      "\u001b[32m[I 2023-01-16 09:00:46,412]\u001b[0m Trial 296 finished with value: 0.8811666712686812 and parameters: {'max_depth': 12, 'n_estimators': 48, 'eta': 0.11118644167671303, 'subsample': 0.41469377741620106, 'colsample_bytree': 0.6048431281282146, 'reg_lambda': 19.416366903197055}. Best is trial 22 with value: 0.9032459017939101.\u001b[0m\n"
     ]
    },
    {
     "name": "stdout",
     "output_type": "stream",
     "text": [
      "0.8811666712686812\n"
     ]
    },
    {
     "name": "stderr",
     "output_type": "stream",
     "text": [
      "\u001b[32m[I 2023-01-16 09:00:47,504]\u001b[0m Trial 297 finished with value: 0.8819303811747529 and parameters: {'max_depth': 20, 'n_estimators': 77, 'eta': 0.0812886756302624, 'subsample': 0.4837579927475953, 'colsample_bytree': 0.31708900297545667, 'reg_lambda': 24.534973239160117}. Best is trial 22 with value: 0.9032459017939101.\u001b[0m\n"
     ]
    },
    {
     "name": "stdout",
     "output_type": "stream",
     "text": [
      "0.8819303811747529\n"
     ]
    },
    {
     "name": "stderr",
     "output_type": "stream",
     "text": [
      "\u001b[32m[I 2023-01-16 09:00:48,181]\u001b[0m Trial 298 finished with value: 0.8777734152177616 and parameters: {'max_depth': 18, 'n_estimators': 50, 'eta': 0.07360057621179049, 'subsample': 0.5497567610247065, 'colsample_bytree': 0.27052722559729264, 'reg_lambda': 21.515741673455725}. Best is trial 22 with value: 0.9032459017939101.\u001b[0m\n"
     ]
    },
    {
     "name": "stdout",
     "output_type": "stream",
     "text": [
      "0.8777734152177616\n"
     ]
    },
    {
     "name": "stderr",
     "output_type": "stream",
     "text": [
      "\u001b[32m[I 2023-01-16 09:00:49,146]\u001b[0m Trial 299 finished with value: 0.8770379908637667 and parameters: {'max_depth': 17, 'n_estimators': 61, 'eta': 0.10867960448743316, 'subsample': 0.44260916602016714, 'colsample_bytree': 0.5098822346751699, 'reg_lambda': 33.43122364005657}. Best is trial 22 with value: 0.9032459017939101.\u001b[0m\n"
     ]
    },
    {
     "name": "stdout",
     "output_type": "stream",
     "text": [
      "0.8770379908637667\n"
     ]
    },
    {
     "name": "stderr",
     "output_type": "stream",
     "text": [
      "\u001b[32m[I 2023-01-16 09:00:49,956]\u001b[0m Trial 300 finished with value: 0.8873140645866908 and parameters: {'max_depth': 7, 'n_estimators': 53, 'eta': 0.10135774217414216, 'subsample': 0.6201736385173002, 'colsample_bytree': 0.5566655336655819, 'reg_lambda': 18.51773549713307}. Best is trial 22 with value: 0.9032459017939101.\u001b[0m\n"
     ]
    },
    {
     "name": "stdout",
     "output_type": "stream",
     "text": [
      "0.8873140645866908\n"
     ]
    },
    {
     "name": "stderr",
     "output_type": "stream",
     "text": [
      "\u001b[32m[I 2023-01-16 09:00:50,459]\u001b[0m Trial 301 finished with value: 0.8935442941643539 and parameters: {'max_depth': 8, 'n_estimators': 58, 'eta': 0.11296041931563362, 'subsample': 0.6429683544649915, 'colsample_bytree': 0.6492433578586683, 'reg_lambda': 28.062227428581444}. Best is trial 22 with value: 0.9032459017939101.\u001b[0m\n"
     ]
    },
    {
     "name": "stdout",
     "output_type": "stream",
     "text": [
      "0.8935442941643539\n"
     ]
    },
    {
     "name": "stderr",
     "output_type": "stream",
     "text": [
      "\u001b[32m[I 2023-01-16 09:00:50,763]\u001b[0m Trial 302 finished with value: 0.8675108108053503 and parameters: {'max_depth': 6, 'n_estimators': 44, 'eta': 0.10431976891106698, 'subsample': 0.23395828995288, 'colsample_bytree': 0.12091113820819772, 'reg_lambda': 20.1386677407543}. Best is trial 22 with value: 0.9032459017939101.\u001b[0m\n"
     ]
    },
    {
     "name": "stdout",
     "output_type": "stream",
     "text": [
      "0.8675108108053503\n"
     ]
    },
    {
     "name": "stderr",
     "output_type": "stream",
     "text": [
      "\u001b[32m[I 2023-01-16 09:00:51,467]\u001b[0m Trial 303 finished with value: 0.8730150445463772 and parameters: {'max_depth': 19, 'n_estimators': 55, 'eta': 0.10642209095648919, 'subsample': 0.4088900069678898, 'colsample_bytree': 0.6125512743264976, 'reg_lambda': 22.28812245782739}. Best is trial 22 with value: 0.9032459017939101.\u001b[0m\n"
     ]
    },
    {
     "name": "stdout",
     "output_type": "stream",
     "text": [
      "0.8730150445463772\n"
     ]
    },
    {
     "name": "stderr",
     "output_type": "stream",
     "text": [
      "\u001b[32m[I 2023-01-16 09:00:52,411]\u001b[0m Trial 304 finished with value: 0.879551364205442 and parameters: {'max_depth': 7, 'n_estimators': 60, 'eta': 0.10939984025526944, 'subsample': 0.4290592698350258, 'colsample_bytree': 0.5750864229420658, 'reg_lambda': 21.003845916657138}. Best is trial 22 with value: 0.9032459017939101.\u001b[0m\n"
     ]
    },
    {
     "name": "stdout",
     "output_type": "stream",
     "text": [
      "0.879551364205442\n"
     ]
    },
    {
     "name": "stderr",
     "output_type": "stream",
     "text": [
      "\u001b[32m[I 2023-01-16 09:00:53,322]\u001b[0m Trial 305 finished with value: 0.8782064535507459 and parameters: {'max_depth': 20, 'n_estimators': 57, 'eta': 0.10229459168909658, 'subsample': 0.36232561882379705, 'colsample_bytree': 0.4603999573386417, 'reg_lambda': 29.187492624174837}. Best is trial 22 with value: 0.9032459017939101.\u001b[0m\n"
     ]
    },
    {
     "name": "stdout",
     "output_type": "stream",
     "text": [
      "0.8782064535507459\n"
     ]
    },
    {
     "name": "stderr",
     "output_type": "stream",
     "text": [
      "\u001b[32m[I 2023-01-16 09:00:54,191]\u001b[0m Trial 306 finished with value: 0.8821330942979695 and parameters: {'max_depth': 14, 'n_estimators': 52, 'eta': 0.08982884056738437, 'subsample': 0.472437709290304, 'colsample_bytree': 0.5396302149802925, 'reg_lambda': 23.90392501206966}. Best is trial 22 with value: 0.9032459017939101.\u001b[0m\n"
     ]
    },
    {
     "name": "stdout",
     "output_type": "stream",
     "text": [
      "0.8821330942979695\n"
     ]
    },
    {
     "name": "stderr",
     "output_type": "stream",
     "text": [
      "\u001b[32m[I 2023-01-16 09:00:55,283]\u001b[0m Trial 307 finished with value: 0.8685045091884269 and parameters: {'max_depth': 10, 'n_estimators': 65, 'eta': 0.10652174631996233, 'subsample': 0.3923895828738996, 'colsample_bytree': 0.596149939895744, 'reg_lambda': 19.660514589755223}. Best is trial 22 with value: 0.9032459017939101.\u001b[0m\n"
     ]
    },
    {
     "name": "stdout",
     "output_type": "stream",
     "text": [
      "0.8685045091884269\n"
     ]
    },
    {
     "name": "stderr",
     "output_type": "stream",
     "text": [
      "\u001b[32m[I 2023-01-16 09:00:56,366]\u001b[0m Trial 308 finished with value: 0.8763621682087905 and parameters: {'max_depth': 19, 'n_estimators': 62, 'eta': 0.06230384302201196, 'subsample': 0.5943290671544355, 'colsample_bytree': 0.6347892666599466, 'reg_lambda': 16.282215200067913}. Best is trial 22 with value: 0.9032459017939101.\u001b[0m\n"
     ]
    },
    {
     "name": "stdout",
     "output_type": "stream",
     "text": [
      "0.8763621682087905\n"
     ]
    },
    {
     "name": "stderr",
     "output_type": "stream",
     "text": [
      "\u001b[32m[I 2023-01-16 09:00:57,287]\u001b[0m Trial 309 finished with value: 0.8946342981175965 and parameters: {'max_depth': 17, 'n_estimators': 54, 'eta': 0.11095365858395369, 'subsample': 0.2072861311498443, 'colsample_bytree': 0.665525719209753, 'reg_lambda': 21.64964577047558}. Best is trial 22 with value: 0.9032459017939101.\u001b[0m\n"
     ]
    },
    {
     "name": "stdout",
     "output_type": "stream",
     "text": [
      "0.8946342981175965\n"
     ]
    },
    {
     "name": "stderr",
     "output_type": "stream",
     "text": [
      "\u001b[32m[I 2023-01-16 09:00:58,206]\u001b[0m Trial 310 finished with value: 0.8880609378546216 and parameters: {'max_depth': 16, 'n_estimators': 55, 'eta': 0.11109878027179683, 'subsample': 0.2180251753996098, 'colsample_bytree': 0.673060892086457, 'reg_lambda': 22.38207111091101}. Best is trial 22 with value: 0.9032459017939101.\u001b[0m\n"
     ]
    },
    {
     "name": "stdout",
     "output_type": "stream",
     "text": [
      "0.8880609378546216\n"
     ]
    },
    {
     "name": "stderr",
     "output_type": "stream",
     "text": [
      "\u001b[32m[I 2023-01-16 09:00:59,544]\u001b[0m Trial 311 finished with value: 0.9077621616088283 and parameters: {'max_depth': 17, 'n_estimators': 90, 'eta': 0.11298224549720055, 'subsample': 0.19872008755269213, 'colsample_bytree': 0.6620532259174089, 'reg_lambda': 34.8384481815604}. Best is trial 311 with value: 0.9077621616088283.\u001b[0m\n"
     ]
    },
    {
     "name": "stdout",
     "output_type": "stream",
     "text": [
      "0.9077621616088283\n"
     ]
    },
    {
     "name": "stderr",
     "output_type": "stream",
     "text": [
      "\u001b[32m[I 2023-01-16 09:00:59,927]\u001b[0m Trial 312 finished with value: 0.8444274431813973 and parameters: {'max_depth': 17, 'n_estimators': 64, 'eta': 0.01542299883312941, 'subsample': 0.20793701711878582, 'colsample_bytree': 0.719247072224319, 'reg_lambda': 33.96528485450101}. Best is trial 311 with value: 0.9077621616088283.\u001b[0m\n"
     ]
    },
    {
     "name": "stdout",
     "output_type": "stream",
     "text": [
      "0.8444274431813973\n"
     ]
    },
    {
     "name": "stderr",
     "output_type": "stream",
     "text": [
      "\u001b[32m[I 2023-01-16 09:01:00,397]\u001b[0m Trial 313 finished with value: 0.8700393371213524 and parameters: {'max_depth': 17, 'n_estimators': 59, 'eta': 0.09340799022171578, 'subsample': 0.1692228654233916, 'colsample_bytree': 0.6842955169164122, 'reg_lambda': 35.98537880000742}. Best is trial 311 with value: 0.9077621616088283.\u001b[0m\n"
     ]
    },
    {
     "name": "stdout",
     "output_type": "stream",
     "text": [
      "0.8700393371213524\n"
     ]
    },
    {
     "name": "stderr",
     "output_type": "stream",
     "text": [
      "\u001b[32m[I 2023-01-16 09:01:01,349]\u001b[0m Trial 314 finished with value: 0.7881600719799954 and parameters: {'max_depth': 16, 'n_estimators': 93, 'eta': 0.005264431712430968, 'subsample': 0.20757798859938079, 'colsample_bytree': 0.6576416609584865, 'reg_lambda': 34.8441827585848}. Best is trial 311 with value: 0.9077621616088283.\u001b[0m\n"
     ]
    },
    {
     "name": "stdout",
     "output_type": "stream",
     "text": [
      "0.7881600719799954\n"
     ]
    },
    {
     "name": "stderr",
     "output_type": "stream",
     "text": [
      "\u001b[32m[I 2023-01-16 09:01:02,600]\u001b[0m Trial 315 finished with value: 0.8922892911573304 and parameters: {'max_depth': 17, 'n_estimators': 91, 'eta': 0.09674650180047915, 'subsample': 0.23281326270563862, 'colsample_bytree': 0.48085999947579466, 'reg_lambda': 31.228455574583688}. Best is trial 311 with value: 0.9077621616088283.\u001b[0m\n"
     ]
    },
    {
     "name": "stdout",
     "output_type": "stream",
     "text": [
      "0.8922892911573304\n"
     ]
    },
    {
     "name": "stderr",
     "output_type": "stream",
     "text": [
      "\u001b[32m[I 2023-01-16 09:01:03,766]\u001b[0m Trial 316 finished with value: 0.8658315245171757 and parameters: {'max_depth': 16, 'n_estimators': 96, 'eta': 0.10979109777242275, 'subsample': 0.17775606243438458, 'colsample_bytree': 0.24419175117325473, 'reg_lambda': 29.907752425285324}. Best is trial 311 with value: 0.9077621616088283.\u001b[0m\n"
     ]
    },
    {
     "name": "stdout",
     "output_type": "stream",
     "text": [
      "0.8658315245171757\n"
     ]
    },
    {
     "name": "stderr",
     "output_type": "stream",
     "text": [
      "\u001b[32m[I 2023-01-16 09:01:04,732]\u001b[0m Trial 317 finished with value: 0.8803181047063792 and parameters: {'max_depth': 17, 'n_estimators': 72, 'eta': 0.10870756373131603, 'subsample': 0.19895018976472834, 'colsample_bytree': 0.6681899215886478, 'reg_lambda': 37.36612185770154}. Best is trial 311 with value: 0.9077621616088283.\u001b[0m\n"
     ]
    },
    {
     "name": "stdout",
     "output_type": "stream",
     "text": [
      "0.8803181047063792\n"
     ]
    },
    {
     "name": "stderr",
     "output_type": "stream",
     "text": [
      "\u001b[32m[I 2023-01-16 09:01:05,838]\u001b[0m Trial 318 finished with value: 0.8839376451739124 and parameters: {'max_depth': 18, 'n_estimators': 89, 'eta': 0.08598461710159958, 'subsample': 0.15945022058935018, 'colsample_bytree': 0.3000878616531466, 'reg_lambda': 32.42164263797738}. Best is trial 311 with value: 0.9077621616088283.\u001b[0m\n"
     ]
    },
    {
     "name": "stdout",
     "output_type": "stream",
     "text": [
      "0.8839376451739124\n"
     ]
    },
    {
     "name": "stderr",
     "output_type": "stream",
     "text": [
      "\u001b[32m[I 2023-01-16 09:01:06,512]\u001b[0m Trial 319 finished with value: 0.8655591077120558 and parameters: {'max_depth': 15, 'n_estimators': 99, 'eta': 0.11152187309230212, 'subsample': 0.2432716143618147, 'colsample_bytree': 0.6844451286615411, 'reg_lambda': 34.74204779090366}. Best is trial 311 with value: 0.9077621616088283.\u001b[0m\n"
     ]
    },
    {
     "name": "stdout",
     "output_type": "stream",
     "text": [
      "0.8655591077120558\n"
     ]
    },
    {
     "name": "stderr",
     "output_type": "stream",
     "text": [
      "\u001b[32m[I 2023-01-16 09:01:07,417]\u001b[0m Trial 320 finished with value: 0.8886620058362522 and parameters: {'max_depth': 18, 'n_estimators': 70, 'eta': 0.11299811915449447, 'subsample': 0.33042697970345764, 'colsample_bytree': 0.7042763804538628, 'reg_lambda': 23.192823712800347}. Best is trial 311 with value: 0.9077621616088283.\u001b[0m\n"
     ]
    },
    {
     "name": "stdout",
     "output_type": "stream",
     "text": [
      "0.8886620058362522\n"
     ]
    },
    {
     "name": "stderr",
     "output_type": "stream",
     "text": [
      "\u001b[32m[I 2023-01-16 09:01:08,761]\u001b[0m Trial 321 finished with value: 0.8986043773912235 and parameters: {'max_depth': 17, 'n_estimators': 88, 'eta': 0.09968288440821375, 'subsample': 0.6226642014615761, 'colsample_bytree': 0.40557504019239504, 'reg_lambda': 33.42036862795319}. Best is trial 311 with value: 0.9077621616088283.\u001b[0m\n"
     ]
    },
    {
     "name": "stdout",
     "output_type": "stream",
     "text": [
      "0.8986043773912235\n"
     ]
    },
    {
     "name": "stderr",
     "output_type": "stream",
     "text": [
      "\u001b[32m[I 2023-01-16 09:01:10,111]\u001b[0m Trial 322 finished with value: 0.8838756863455538 and parameters: {'max_depth': 16, 'n_estimators': 82, 'eta': 0.09915664551961152, 'subsample': 0.6181158481293395, 'colsample_bytree': 0.42986794935053313, 'reg_lambda': 21.908596741949243}. Best is trial 311 with value: 0.9077621616088283.\u001b[0m\n"
     ]
    },
    {
     "name": "stdout",
     "output_type": "stream",
     "text": [
      "0.8838756863455538\n"
     ]
    },
    {
     "name": "stderr",
     "output_type": "stream",
     "text": [
      "\u001b[32m[I 2023-01-16 09:01:10,755]\u001b[0m Trial 323 finished with value: 0.8831557516986484 and parameters: {'max_depth': 17, 'n_estimators': 88, 'eta': 0.09982062303440416, 'subsample': 0.6421549177875366, 'colsample_bytree': 0.4419282863003311, 'reg_lambda': 32.30504784094638}. Best is trial 311 with value: 0.9077621616088283.\u001b[0m\n"
     ]
    },
    {
     "name": "stdout",
     "output_type": "stream",
     "text": [
      "0.8831557516986484\n"
     ]
    },
    {
     "name": "stderr",
     "output_type": "stream",
     "text": [
      "\u001b[32m[I 2023-01-16 09:01:11,689]\u001b[0m Trial 324 finished with value: 0.879153009347028 and parameters: {'max_depth': 17, 'n_estimators': 96, 'eta': 0.09202147617701906, 'subsample': 0.19440779522690924, 'colsample_bytree': 0.38988417409446974, 'reg_lambda': 33.30101140860759}. Best is trial 311 with value: 0.9077621616088283.\u001b[0m\n"
     ]
    },
    {
     "name": "stdout",
     "output_type": "stream",
     "text": [
      "0.879153009347028\n"
     ]
    },
    {
     "name": "stderr",
     "output_type": "stream",
     "text": [
      "\u001b[32m[I 2023-01-16 09:01:13,304]\u001b[0m Trial 325 finished with value: 0.8704195084105741 and parameters: {'max_depth': 17, 'n_estimators': 94, 'eta': 0.0952209802569284, 'subsample': 0.304494073466487, 'colsample_bytree': 0.7518994588943367, 'reg_lambda': 21.49856797196809}. Best is trial 311 with value: 0.9077621616088283.\u001b[0m\n"
     ]
    },
    {
     "name": "stdout",
     "output_type": "stream",
     "text": [
      "0.8704195084105741\n"
     ]
    },
    {
     "name": "stderr",
     "output_type": "stream",
     "text": [
      "\u001b[32m[I 2023-01-16 09:01:14,728]\u001b[0m Trial 326 finished with value: 0.8832705775707694 and parameters: {'max_depth': 17, 'n_estimators': 90, 'eta': 0.044031708916597044, 'subsample': 0.18011021206978703, 'colsample_bytree': 0.4145510525087859, 'reg_lambda': 4.0688339289793305}. Best is trial 311 with value: 0.9077621616088283.\u001b[0m\n"
     ]
    },
    {
     "name": "stdout",
     "output_type": "stream",
     "text": [
      "0.8832705775707694\n"
     ]
    },
    {
     "name": "stderr",
     "output_type": "stream",
     "text": [
      "\u001b[32m[I 2023-01-16 09:01:16,446]\u001b[0m Trial 327 finished with value: 0.8848326808574832 and parameters: {'max_depth': 18, 'n_estimators': 91, 'eta': 0.10905022619927164, 'subsample': 0.6069473849428723, 'colsample_bytree': 0.3732013116608258, 'reg_lambda': 17.310519318093313}. Best is trial 311 with value: 0.9077621616088283.\u001b[0m\n"
     ]
    },
    {
     "name": "stdout",
     "output_type": "stream",
     "text": [
      "0.8848326808574832\n"
     ]
    },
    {
     "name": "stderr",
     "output_type": "stream",
     "text": [
      "\u001b[32m[I 2023-01-16 09:01:17,786]\u001b[0m Trial 328 finished with value: 0.8835275046687998 and parameters: {'max_depth': 18, 'n_estimators': 85, 'eta': 0.08889191850669803, 'subsample': 0.5651621637444461, 'colsample_bytree': 0.3607135587708836, 'reg_lambda': 32.91613715674959}. Best is trial 311 with value: 0.9077621616088283.\u001b[0m\n"
     ]
    },
    {
     "name": "stdout",
     "output_type": "stream",
     "text": [
      "0.8835275046687998\n"
     ]
    },
    {
     "name": "stderr",
     "output_type": "stream",
     "text": [
      "\u001b[32m[I 2023-01-16 09:01:18,949]\u001b[0m Trial 329 finished with value: 0.8805309198124803 and parameters: {'max_depth': 16, 'n_estimators': 86, 'eta': 0.10235831685350932, 'subsample': 0.6239299955845751, 'colsample_bytree': 0.4037355777850363, 'reg_lambda': 25.592733476365183}. Best is trial 311 with value: 0.9077621616088283.\u001b[0m\n"
     ]
    },
    {
     "name": "stdout",
     "output_type": "stream",
     "text": [
      "0.8805309198124803\n"
     ]
    },
    {
     "name": "stderr",
     "output_type": "stream",
     "text": [
      "\u001b[32m[I 2023-01-16 09:01:19,684]\u001b[0m Trial 330 finished with value: 0.8985727245115187 and parameters: {'max_depth': 17, 'n_estimators': 88, 'eta': 0.1108098510365002, 'subsample': 0.5881616700950507, 'colsample_bytree': 0.5624186107841245, 'reg_lambda': 26.356228761553933}. Best is trial 311 with value: 0.9077621616088283.\u001b[0m\n"
     ]
    },
    {
     "name": "stdout",
     "output_type": "stream",
     "text": [
      "0.8985727245115187\n"
     ]
    },
    {
     "name": "stderr",
     "output_type": "stream",
     "text": [
      "\u001b[32m[I 2023-01-16 09:01:21,179]\u001b[0m Trial 331 finished with value: 0.8996799018356652 and parameters: {'max_depth': 17, 'n_estimators': 88, 'eta': 0.10982268274669643, 'subsample': 0.5889257811145361, 'colsample_bytree': 0.5295215117689585, 'reg_lambda': 25.6058475350277}. Best is trial 311 with value: 0.9077621616088283.\u001b[0m\n"
     ]
    },
    {
     "name": "stdout",
     "output_type": "stream",
     "text": [
      "0.8996799018356652\n"
     ]
    },
    {
     "name": "stderr",
     "output_type": "stream",
     "text": [
      "\u001b[32m[I 2023-01-16 09:01:22,729]\u001b[0m Trial 332 finished with value: 0.8850441490325329 and parameters: {'max_depth': 17, 'n_estimators': 88, 'eta': 0.11295012843656799, 'subsample': 0.6031549254159251, 'colsample_bytree': 0.5304804226740943, 'reg_lambda': 26.71719677144767}. Best is trial 311 with value: 0.9077621616088283.\u001b[0m\n"
     ]
    },
    {
     "name": "stdout",
     "output_type": "stream",
     "text": [
      "0.8850441490325329\n"
     ]
    },
    {
     "name": "stderr",
     "output_type": "stream",
     "text": [
      "\u001b[32m[I 2023-01-16 09:01:24,366]\u001b[0m Trial 333 finished with value: 0.8817886166816064 and parameters: {'max_depth': 17, 'n_estimators': 92, 'eta': 0.11090500761292364, 'subsample': 0.5741655779344053, 'colsample_bytree': 0.505691875994026, 'reg_lambda': 26.762932271848552}. Best is trial 311 with value: 0.9077621616088283.\u001b[0m\n"
     ]
    },
    {
     "name": "stdout",
     "output_type": "stream",
     "text": [
      "0.8817886166816064\n"
     ]
    },
    {
     "name": "stderr",
     "output_type": "stream",
     "text": [
      "\u001b[32m[I 2023-01-16 09:01:25,987]\u001b[0m Trial 334 finished with value: 0.8921613327074595 and parameters: {'max_depth': 17, 'n_estimators': 90, 'eta': 0.0972725532230682, 'subsample': 0.591107304541693, 'colsample_bytree': 0.5453061082449602, 'reg_lambda': 24.564736693880317}. Best is trial 311 with value: 0.9077621616088283.\u001b[0m\n"
     ]
    },
    {
     "name": "stdout",
     "output_type": "stream",
     "text": [
      "0.8921613327074595\n"
     ]
    },
    {
     "name": "stderr",
     "output_type": "stream",
     "text": [
      "\u001b[32m[I 2023-01-16 09:01:27,585]\u001b[0m Trial 335 finished with value: 0.8809269175415545 and parameters: {'max_depth': 17, 'n_estimators': 89, 'eta': 0.10838415717000346, 'subsample': 0.6333247830288086, 'colsample_bytree': 0.5238366921460749, 'reg_lambda': 27.134412366055603}. Best is trial 311 with value: 0.9077621616088283.\u001b[0m\n"
     ]
    },
    {
     "name": "stdout",
     "output_type": "stream",
     "text": [
      "0.8809269175415545\n"
     ]
    },
    {
     "name": "stderr",
     "output_type": "stream",
     "text": [
      "\u001b[32m[I 2023-01-16 09:01:28,621]\u001b[0m Trial 336 finished with value: 0.8909386560456662 and parameters: {'max_depth': 17, 'n_estimators': 88, 'eta': 0.03903634570136706, 'subsample': 0.5843031371506885, 'colsample_bytree': 0.5598938622780146, 'reg_lambda': 27.99316212472867}. Best is trial 311 with value: 0.9077621616088283.\u001b[0m\n"
     ]
    },
    {
     "name": "stdout",
     "output_type": "stream",
     "text": [
      "0.8909386560456662\n"
     ]
    },
    {
     "name": "stderr",
     "output_type": "stream",
     "text": [
      "\u001b[32m[I 2023-01-16 09:01:29,256]\u001b[0m Trial 337 finished with value: 0.8813980066767373 and parameters: {'max_depth': 17, 'n_estimators': 85, 'eta': 0.11055756390675793, 'subsample': 0.26538259403141806, 'colsample_bytree': 0.5510554074737448, 'reg_lambda': 25.888953774095558}. Best is trial 311 with value: 0.9077621616088283.\u001b[0m\n"
     ]
    },
    {
     "name": "stdout",
     "output_type": "stream",
     "text": [
      "0.8813980066767373\n"
     ]
    },
    {
     "name": "stderr",
     "output_type": "stream",
     "text": [
      "\u001b[32m[I 2023-01-16 09:01:30,811]\u001b[0m Trial 338 finished with value: 0.8830857112839823 and parameters: {'max_depth': 18, 'n_estimators': 87, 'eta': 0.10567933652639891, 'subsample': 0.6519641331059718, 'colsample_bytree': 0.565669130403617, 'reg_lambda': 25.305023615268894}. Best is trial 311 with value: 0.9077621616088283.\u001b[0m\n"
     ]
    },
    {
     "name": "stdout",
     "output_type": "stream",
     "text": [
      "0.8830857112839823\n"
     ]
    },
    {
     "name": "stderr",
     "output_type": "stream",
     "text": [
      "\u001b[32m[I 2023-01-16 09:01:32,123]\u001b[0m Trial 339 finished with value: 0.880086769298323 and parameters: {'max_depth': 16, 'n_estimators': 84, 'eta': 0.10751867081852899, 'subsample': 0.5551472722622012, 'colsample_bytree': 0.44661048853573787, 'reg_lambda': 25.38063216855102}. Best is trial 311 with value: 0.9077621616088283.\u001b[0m\n"
     ]
    },
    {
     "name": "stdout",
     "output_type": "stream",
     "text": [
      "0.880086769298323\n"
     ]
    },
    {
     "name": "stderr",
     "output_type": "stream",
     "text": [
      "\u001b[32m[I 2023-01-16 09:01:32,387]\u001b[0m Trial 340 finished with value: 0.8031524247789518 and parameters: {'max_depth': 18, 'n_estimators': 12, 'eta': 0.09132078057606798, 'subsample': 0.616801533296886, 'colsample_bytree': 0.48657183644905744, 'reg_lambda': 14.227424423645536}. Best is trial 311 with value: 0.9077621616088283.\u001b[0m\n"
     ]
    },
    {
     "name": "stdout",
     "output_type": "stream",
     "text": [
      "0.8031524247789518\n"
     ]
    },
    {
     "name": "stderr",
     "output_type": "stream",
     "text": [
      "\u001b[32m[I 2023-01-16 09:01:33,411]\u001b[0m Trial 341 finished with value: 0.8842198272291539 and parameters: {'max_depth': 17, 'n_estimators': 79, 'eta': 0.1129194589314743, 'subsample': 0.1397062214024109, 'colsample_bytree': 0.5330228638085275, 'reg_lambda': 23.57524777346554}. Best is trial 311 with value: 0.9077621616088283.\u001b[0m\n"
     ]
    },
    {
     "name": "stdout",
     "output_type": "stream",
     "text": [
      "0.8842198272291539\n"
     ]
    },
    {
     "name": "stderr",
     "output_type": "stream",
     "text": [
      "\u001b[32m[I 2023-01-16 09:01:34,143]\u001b[0m Trial 342 finished with value: 0.8838972372423742 and parameters: {'max_depth': 18, 'n_estimators': 93, 'eta': 0.11015422896248671, 'subsample': 0.5369488029965763, 'colsample_bytree': 0.5759936934407371, 'reg_lambda': 26.446122884308938}. Best is trial 311 with value: 0.9077621616088283.\u001b[0m\n"
     ]
    },
    {
     "name": "stdout",
     "output_type": "stream",
     "text": [
      "0.8838972372423742\n"
     ]
    },
    {
     "name": "stderr",
     "output_type": "stream",
     "text": [
      "\u001b[32m[I 2023-01-16 09:01:34,816]\u001b[0m Trial 343 finished with value: 0.8682155924779289 and parameters: {'max_depth': 17, 'n_estimators': 57, 'eta': 0.10450824283670404, 'subsample': 0.5822457840142238, 'colsample_bytree': 0.5131463191369091, 'reg_lambda': 26.21834051565966}. Best is trial 311 with value: 0.9077621616088283.\u001b[0m\n"
     ]
    },
    {
     "name": "stdout",
     "output_type": "stream",
     "text": [
      "0.8682155924779289\n"
     ]
    },
    {
     "name": "stderr",
     "output_type": "stream",
     "text": [
      "\u001b[32m[I 2023-01-16 09:01:36,205]\u001b[0m Trial 344 finished with value: 0.8889044534254814 and parameters: {'max_depth': 18, 'n_estimators': 87, 'eta': 0.10905435688364552, 'subsample': 0.6044376009655744, 'colsample_bytree': 0.464351440377763, 'reg_lambda': 24.269031297053917}. Best is trial 311 with value: 0.9077621616088283.\u001b[0m\n"
     ]
    },
    {
     "name": "stdout",
     "output_type": "stream",
     "text": [
      "0.8889044534254814\n"
     ]
    },
    {
     "name": "stderr",
     "output_type": "stream",
     "text": [
      "\u001b[32m[I 2023-01-16 09:01:37,643]\u001b[0m Trial 345 finished with value: 0.8818741468033623 and parameters: {'max_depth': 16, 'n_estimators': 90, 'eta': 0.09459408938966317, 'subsample': 0.63357023753028, 'colsample_bytree': 0.5526819731340904, 'reg_lambda': 27.50748497665512}. Best is trial 311 with value: 0.9077621616088283.\u001b[0m\n"
     ]
    },
    {
     "name": "stdout",
     "output_type": "stream",
     "text": [
      "0.8818741468033623\n"
     ]
    },
    {
     "name": "stderr",
     "output_type": "stream",
     "text": [
      "\u001b[32m[I 2023-01-16 09:01:38,467]\u001b[0m Trial 346 finished with value: 0.8800301981941695 and parameters: {'max_depth': 18, 'n_estimators': 58, 'eta': 0.10643581467276507, 'subsample': 0.20798005161596314, 'colsample_bytree': 0.5746151188879345, 'reg_lambda': 22.817193372426598}. Best is trial 311 with value: 0.9077621616088283.\u001b[0m\n"
     ]
    },
    {
     "name": "stdout",
     "output_type": "stream",
     "text": [
      "0.8800301981941695\n"
     ]
    },
    {
     "name": "stderr",
     "output_type": "stream",
     "text": [
      "\u001b[32m[I 2023-01-16 09:01:39,876]\u001b[0m Trial 347 finished with value: 0.8974096495487444 and parameters: {'max_depth': 17, 'n_estimators': 87, 'eta': 0.07644882153058943, 'subsample': 0.6177688603120766, 'colsample_bytree': 0.5433482923135918, 'reg_lambda': 24.659157093158754}. Best is trial 311 with value: 0.9077621616088283.\u001b[0m\n"
     ]
    },
    {
     "name": "stdout",
     "output_type": "stream",
     "text": [
      "0.8974096495487444\n"
     ]
    },
    {
     "name": "stderr",
     "output_type": "stream",
     "text": [
      "\u001b[32m[I 2023-01-16 09:01:41,093]\u001b[0m Trial 348 finished with value: 0.8750627164770749 and parameters: {'max_depth': 18, 'n_estimators': 87, 'eta': 0.07530139204390095, 'subsample': 0.5714831539261461, 'colsample_bytree': 0.5168411991471273, 'reg_lambda': 25.716644990547287}. Best is trial 311 with value: 0.9077621616088283.\u001b[0m\n"
     ]
    },
    {
     "name": "stdout",
     "output_type": "stream",
     "text": [
      "0.8750627164770749\n"
     ]
    },
    {
     "name": "stderr",
     "output_type": "stream",
     "text": [
      "\u001b[32m[I 2023-01-16 09:01:42,567]\u001b[0m Trial 349 finished with value: 0.8896600817452455 and parameters: {'max_depth': 19, 'n_estimators': 82, 'eta': 0.0798971193399507, 'subsample': 0.6178508411193417, 'colsample_bytree': 0.5468120234435926, 'reg_lambda': 24.897182002498987}. Best is trial 311 with value: 0.9077621616088283.\u001b[0m\n"
     ]
    },
    {
     "name": "stdout",
     "output_type": "stream",
     "text": [
      "0.8896600817452455\n"
     ]
    },
    {
     "name": "stderr",
     "output_type": "stream",
     "text": [
      "\u001b[32m[I 2023-01-16 09:01:43,943]\u001b[0m Trial 350 finished with value: 0.9017481144648947 and parameters: {'max_depth': 17, 'n_estimators': 95, 'eta': 0.06823438951384853, 'subsample': 0.6141425559983086, 'colsample_bytree': 0.5396115359536966, 'reg_lambda': 24.154652520206636}. Best is trial 311 with value: 0.9077621616088283.\u001b[0m\n"
     ]
    },
    {
     "name": "stdout",
     "output_type": "stream",
     "text": [
      "0.9017481144648947\n"
     ]
    },
    {
     "name": "stderr",
     "output_type": "stream",
     "text": [
      "\u001b[32m[I 2023-01-16 09:01:45,313]\u001b[0m Trial 351 finished with value: 0.8902917924082926 and parameters: {'max_depth': 17, 'n_estimators': 93, 'eta': 0.07252300430421957, 'subsample': 0.5968199082994852, 'colsample_bytree': 0.5259671561557784, 'reg_lambda': 25.84441585534688}. Best is trial 311 with value: 0.9077621616088283.\u001b[0m\n"
     ]
    },
    {
     "name": "stdout",
     "output_type": "stream",
     "text": [
      "0.8902917924082926\n"
     ]
    },
    {
     "name": "stderr",
     "output_type": "stream",
     "text": [
      "\u001b[32m[I 2023-01-16 09:01:46,107]\u001b[0m Trial 352 finished with value: 0.8777629765021143 and parameters: {'max_depth': 16, 'n_estimators': 96, 'eta': 0.08109766642306698, 'subsample': 0.6173776475509369, 'colsample_bytree': 0.5691954710290993, 'reg_lambda': 23.892031829501242}. Best is trial 311 with value: 0.9077621616088283.\u001b[0m\n"
     ]
    },
    {
     "name": "stdout",
     "output_type": "stream",
     "text": [
      "0.8777629765021143\n"
     ]
    },
    {
     "name": "stderr",
     "output_type": "stream",
     "text": [
      "\u001b[32m[I 2023-01-16 09:01:47,195]\u001b[0m Trial 353 finished with value: 0.8822395018510201 and parameters: {'max_depth': 17, 'n_estimators': 90, 'eta': 0.06914266390572774, 'subsample': 0.6285428615061645, 'colsample_bytree': 0.4977356142685899, 'reg_lambda': 24.254714849520173}. Best is trial 311 with value: 0.9077621616088283.\u001b[0m\n"
     ]
    },
    {
     "name": "stdout",
     "output_type": "stream",
     "text": [
      "0.8822395018510201\n"
     ]
    },
    {
     "name": "stderr",
     "output_type": "stream",
     "text": [
      "\u001b[32m[I 2023-01-16 09:01:48,612]\u001b[0m Trial 354 finished with value: 0.8872537894221464 and parameters: {'max_depth': 11, 'n_estimators': 84, 'eta': 0.07581093173882628, 'subsample': 0.6589617009210216, 'colsample_bytree': 0.5372455730667834, 'reg_lambda': 24.660286596861866}. Best is trial 311 with value: 0.9077621616088283.\u001b[0m\n"
     ]
    },
    {
     "name": "stdout",
     "output_type": "stream",
     "text": [
      "0.8872537894221464\n"
     ]
    },
    {
     "name": "stderr",
     "output_type": "stream",
     "text": [
      "\u001b[32m[I 2023-01-16 09:01:50,162]\u001b[0m Trial 355 finished with value: 0.8838871352594897 and parameters: {'max_depth': 9, 'n_estimators': 94, 'eta': 0.08457726556280572, 'subsample': 0.6419423612993709, 'colsample_bytree': 0.5850170755042715, 'reg_lambda': 24.99651113521464}. Best is trial 311 with value: 0.9077621616088283.\u001b[0m\n"
     ]
    },
    {
     "name": "stdout",
     "output_type": "stream",
     "text": [
      "0.8838871352594897\n"
     ]
    },
    {
     "name": "stderr",
     "output_type": "stream",
     "text": [
      "\u001b[32m[I 2023-01-16 09:01:51,835]\u001b[0m Trial 356 finished with value: 0.899694718077229 and parameters: {'max_depth': 17, 'n_estimators': 100, 'eta': 0.06550572536731569, 'subsample': 0.5784763425866947, 'colsample_bytree': 0.5658741669789589, 'reg_lambda': 23.512913118436767}. Best is trial 311 with value: 0.9077621616088283.\u001b[0m\n"
     ]
    },
    {
     "name": "stdout",
     "output_type": "stream",
     "text": [
      "0.899694718077229\n"
     ]
    },
    {
     "name": "stderr",
     "output_type": "stream",
     "text": [
      "\u001b[32m[I 2023-01-16 09:01:53,586]\u001b[0m Trial 357 finished with value: 0.8961098610842662 and parameters: {'max_depth': 17, 'n_estimators': 98, 'eta': 0.059133123704737556, 'subsample': 0.565645780133408, 'colsample_bytree': 0.5606474147950443, 'reg_lambda': 23.52169556003994}. Best is trial 311 with value: 0.9077621616088283.\u001b[0m\n"
     ]
    },
    {
     "name": "stdout",
     "output_type": "stream",
     "text": [
      "0.8961098610842662\n"
     ]
    },
    {
     "name": "stderr",
     "output_type": "stream",
     "text": [
      "\u001b[32m[I 2023-01-16 09:01:55,348]\u001b[0m Trial 358 finished with value: 0.8800450144357335 and parameters: {'max_depth': 17, 'n_estimators': 100, 'eta': 0.06434960540778537, 'subsample': 0.5709881477676136, 'colsample_bytree': 0.5583234218111779, 'reg_lambda': 23.512240292619172}. Best is trial 311 with value: 0.9077621616088283.\u001b[0m\n"
     ]
    },
    {
     "name": "stdout",
     "output_type": "stream",
     "text": [
      "0.8800450144357335\n"
     ]
    },
    {
     "name": "stderr",
     "output_type": "stream",
     "text": [
      "\u001b[32m[I 2023-01-16 09:01:56,584]\u001b[0m Trial 359 finished with value: 0.8742612925015676 and parameters: {'max_depth': 17, 'n_estimators': 99, 'eta': 0.06423129016877914, 'subsample': 0.5599679992354845, 'colsample_bytree': 0.5317395285529604, 'reg_lambda': 23.546767240038395}. Best is trial 311 with value: 0.9077621616088283.\u001b[0m\n"
     ]
    },
    {
     "name": "stdout",
     "output_type": "stream",
     "text": [
      "0.8742612925015676\n"
     ]
    },
    {
     "name": "stderr",
     "output_type": "stream",
     "text": [
      "\u001b[32m[I 2023-01-16 09:01:57,552]\u001b[0m Trial 360 finished with value: 0.895455926058873 and parameters: {'max_depth': 16, 'n_estimators': 97, 'eta': 0.05727643976920671, 'subsample': 0.5296742437262315, 'colsample_bytree': 0.5645370075550548, 'reg_lambda': 24.578876568247992}. Best is trial 311 with value: 0.9077621616088283.\u001b[0m\n"
     ]
    },
    {
     "name": "stdout",
     "output_type": "stream",
     "text": [
      "0.895455926058873\n"
     ]
    },
    {
     "name": "stderr",
     "output_type": "stream",
     "text": [
      "\u001b[32m[I 2023-01-16 09:01:58,625]\u001b[0m Trial 361 finished with value: 0.8876595524013422 and parameters: {'max_depth': 4, 'n_estimators': 100, 'eta': 0.0604665634104949, 'subsample': 0.5466235245108455, 'colsample_bytree': 0.5386164889215327, 'reg_lambda': 24.1855628874118}. Best is trial 311 with value: 0.9077621616088283.\u001b[0m\n"
     ]
    },
    {
     "name": "stdout",
     "output_type": "stream",
     "text": [
      "0.8876595524013422\n"
     ]
    },
    {
     "name": "stderr",
     "output_type": "stream",
     "text": [
      "\u001b[32m[I 2023-01-16 09:02:00,115]\u001b[0m Trial 362 finished with value: 0.8907766875867507 and parameters: {'max_depth': 17, 'n_estimators': 96, 'eta': 0.07108140781984017, 'subsample': 0.5840353369419354, 'colsample_bytree': 0.5101417111704833, 'reg_lambda': 25.50621429193847}. Best is trial 311 with value: 0.9077621616088283.\u001b[0m\n"
     ]
    },
    {
     "name": "stdout",
     "output_type": "stream",
     "text": [
      "0.8907766875867507\n"
     ]
    },
    {
     "name": "stderr",
     "output_type": "stream",
     "text": [
      "\u001b[32m[I 2023-01-16 09:02:00,847]\u001b[0m Trial 363 finished with value: 0.8811636406738157 and parameters: {'max_depth': 16, 'n_estimators': 98, 'eta': 0.08299543884847604, 'subsample': 0.9332282938357266, 'colsample_bytree': 0.3366999525643331, 'reg_lambda': 23.85175118618417}. Best is trial 311 with value: 0.9077621616088283.\u001b[0m\n"
     ]
    },
    {
     "name": "stdout",
     "output_type": "stream",
     "text": [
      "0.8811636406738157\n"
     ]
    },
    {
     "name": "stderr",
     "output_type": "stream",
     "text": [
      "\u001b[32m[I 2023-01-16 09:02:01,921]\u001b[0m Trial 364 finished with value: 0.8810504984655088 and parameters: {'max_depth': 17, 'n_estimators': 96, 'eta': 0.06717655380210842, 'subsample': 0.5910451477798907, 'colsample_bytree': 0.38485529212274083, 'reg_lambda': 22.917840100815653}. Best is trial 311 with value: 0.9077621616088283.\u001b[0m\n"
     ]
    },
    {
     "name": "stdout",
     "output_type": "stream",
     "text": [
      "0.8810504984655088\n"
     ]
    },
    {
     "name": "stderr",
     "output_type": "stream",
     "text": [
      "\u001b[32m[I 2023-01-16 09:02:03,150]\u001b[0m Trial 365 finished with value: 0.8749819006139985 and parameters: {'max_depth': 17, 'n_estimators': 97, 'eta': 0.05890690816097128, 'subsample': 0.513463165766519, 'colsample_bytree': 0.4068457695210304, 'reg_lambda': 26.293447358463506}. Best is trial 311 with value: 0.9077621616088283.\u001b[0m\n"
     ]
    },
    {
     "name": "stdout",
     "output_type": "stream",
     "text": [
      "0.8749819006139985\n"
     ]
    },
    {
     "name": "stderr",
     "output_type": "stream",
     "text": [
      "\u001b[32m[I 2023-01-16 09:02:04,527]\u001b[0m Trial 366 finished with value: 0.8722001512603571 and parameters: {'max_depth': 17, 'n_estimators': 95, 'eta': 0.06295200933755943, 'subsample': 0.5590131789978149, 'colsample_bytree': 0.5814768763273603, 'reg_lambda': 34.009882207619675}. Best is trial 311 with value: 0.9077621616088283.\u001b[0m\n"
     ]
    },
    {
     "name": "stdout",
     "output_type": "stream",
     "text": [
      "0.8722001512603571\n"
     ]
    },
    {
     "name": "stderr",
     "output_type": "stream",
     "text": [
      "\u001b[32m[I 2023-01-16 09:02:05,823]\u001b[0m Trial 367 finished with value: 0.8951548869689134 and parameters: {'max_depth': 16, 'n_estimators': 92, 'eta': 0.06571305039456642, 'subsample': 0.6023492168632698, 'colsample_bytree': 0.9874163333881347, 'reg_lambda': 23.215819713927484}. Best is trial 311 with value: 0.9077621616088283.\u001b[0m\n"
     ]
    },
    {
     "name": "stdout",
     "output_type": "stream",
     "text": [
      "0.8951548869689134\n"
     ]
    },
    {
     "name": "stderr",
     "output_type": "stream",
     "text": [
      "\u001b[32m[I 2023-01-16 09:02:06,788]\u001b[0m Trial 368 finished with value: 0.8833173834248012 and parameters: {'max_depth': 17, 'n_estimators': 100, 'eta': 0.051761212615928205, 'subsample': 0.5901149181986943, 'colsample_bytree': 0.5515670866051704, 'reg_lambda': 25.100882062474916}. Best is trial 311 with value: 0.9077621616088283.\u001b[0m\n"
     ]
    },
    {
     "name": "stdout",
     "output_type": "stream",
     "text": [
      "0.8833173834248012\n"
     ]
    },
    {
     "name": "stderr",
     "output_type": "stream",
     "text": [
      "\u001b[32m[I 2023-01-16 09:02:08,381]\u001b[0m Trial 369 finished with value: 0.882669509589139 and parameters: {'max_depth': 17, 'n_estimators': 98, 'eta': 0.07841977011019949, 'subsample': 0.5718028262245057, 'colsample_bytree': 0.4340766219917888, 'reg_lambda': 22.70282817019209}. Best is trial 311 with value: 0.9077621616088283.\u001b[0m\n"
     ]
    },
    {
     "name": "stdout",
     "output_type": "stream",
     "text": [
      "0.882669509589139\n"
     ]
    },
    {
     "name": "stderr",
     "output_type": "stream",
     "text": [
      "\u001b[32m[I 2023-01-16 09:02:09,842]\u001b[0m Trial 370 finished with value: 0.8827203562363244 and parameters: {'max_depth': 17, 'n_estimators': 87, 'eta': 0.06987194739931277, 'subsample': 0.5479218743752785, 'colsample_bytree': 0.4744566047010247, 'reg_lambda': 22.446470020588702}. Best is trial 311 with value: 0.9077621616088283.\u001b[0m\n"
     ]
    },
    {
     "name": "stdout",
     "output_type": "stream",
     "text": [
      "0.8827203562363244\n"
     ]
    },
    {
     "name": "stderr",
     "output_type": "stream",
     "text": [
      "\u001b[32m[I 2023-01-16 09:02:10,555]\u001b[0m Trial 371 finished with value: 0.8797766384237674 and parameters: {'max_depth': 18, 'n_estimators': 91, 'eta': 0.04780874311590115, 'subsample': 0.605552852185111, 'colsample_bytree': 0.582874402388231, 'reg_lambda': 35.28641207100738}. Best is trial 311 with value: 0.9077621616088283.\u001b[0m\n"
     ]
    },
    {
     "name": "stdout",
     "output_type": "stream",
     "text": [
      "0.8797766384237674\n"
     ]
    },
    {
     "name": "stderr",
     "output_type": "stream",
     "text": [
      "\u001b[32m[I 2023-01-16 09:02:11,733]\u001b[0m Trial 372 finished with value: 0.882450633293307 and parameters: {'max_depth': 11, 'n_estimators': 86, 'eta': 0.06076168780875305, 'subsample': 0.5780335273646521, 'colsample_bytree': 0.5652672060674417, 'reg_lambda': 27.081122872260444}. Best is trial 311 with value: 0.9077621616088283.\u001b[0m\n"
     ]
    },
    {
     "name": "stdout",
     "output_type": "stream",
     "text": [
      "0.882450633293307\n"
     ]
    },
    {
     "name": "stderr",
     "output_type": "stream",
     "text": [
      "\u001b[32m[I 2023-01-16 09:02:13,373]\u001b[0m Trial 373 finished with value: 0.8859149399571811 and parameters: {'max_depth': 17, 'n_estimators': 94, 'eta': 0.06336230240694395, 'subsample': 0.530232871753007, 'colsample_bytree': 0.5909872215318229, 'reg_lambda': 24.4855295473601}. Best is trial 311 with value: 0.9077621616088283.\u001b[0m\n"
     ]
    },
    {
     "name": "stdout",
     "output_type": "stream",
     "text": [
      "0.8859149399571811\n"
     ]
    },
    {
     "name": "stderr",
     "output_type": "stream",
     "text": [
      "\u001b[32m[I 2023-01-16 09:02:15,002]\u001b[0m Trial 374 finished with value: 0.8841080319518984 and parameters: {'max_depth': 16, 'n_estimators': 98, 'eta': 0.07704906014832066, 'subsample': 0.4949720435931647, 'colsample_bytree': 0.5487982372948295, 'reg_lambda': 26.2536015787802}. Best is trial 311 with value: 0.9077621616088283.\u001b[0m\n"
     ]
    },
    {
     "name": "stdout",
     "output_type": "stream",
     "text": [
      "0.8841080319518984\n"
     ]
    },
    {
     "name": "stderr",
     "output_type": "stream",
     "text": [
      "\u001b[32m[I 2023-01-16 09:02:15,599]\u001b[0m Trial 375 finished with value: 0.8694066162600169 and parameters: {'max_depth': 12, 'n_estimators': 81, 'eta': 0.05351110418897059, 'subsample': 0.36998348396233777, 'colsample_bytree': 0.2155403279556759, 'reg_lambda': 23.84368436421413}. Best is trial 311 with value: 0.9077621616088283.\u001b[0m\n"
     ]
    },
    {
     "name": "stdout",
     "output_type": "stream",
     "text": [
      "0.8694066162600169\n"
     ]
    },
    {
     "name": "stderr",
     "output_type": "stream",
     "text": [
      "\u001b[32m[I 2023-01-16 09:02:16,321]\u001b[0m Trial 376 finished with value: 0.8867830370197265 and parameters: {'max_depth': 18, 'n_estimators': 89, 'eta': 0.06865061178885215, 'subsample': 0.43180751974903403, 'colsample_bytree': 0.8167745855309885, 'reg_lambda': 33.05014857013556}. Best is trial 311 with value: 0.9077621616088283.\u001b[0m\n"
     ]
    },
    {
     "name": "stdout",
     "output_type": "stream",
     "text": [
      "0.8867830370197265\n"
     ]
    },
    {
     "name": "stderr",
     "output_type": "stream",
     "text": [
      "\u001b[32m[I 2023-01-16 09:02:17,687]\u001b[0m Trial 377 finished with value: 0.8810626208449703 and parameters: {'max_depth': 17, 'n_estimators': 84, 'eta': 0.07347850388318655, 'subsample': 0.6014720495675298, 'colsample_bytree': 0.5268028688980368, 'reg_lambda': 23.43891889536497}. Best is trial 311 with value: 0.9077621616088283.\u001b[0m\n"
     ]
    },
    {
     "name": "stdout",
     "output_type": "stream",
     "text": [
      "0.8810626208449703\n"
     ]
    },
    {
     "name": "stderr",
     "output_type": "stream",
     "text": [
      "\u001b[32m[I 2023-01-16 09:02:19,103]\u001b[0m Trial 378 finished with value: 0.8817936676730487 and parameters: {'max_depth': 17, 'n_estimators': 88, 'eta': 0.05904006933209088, 'subsample': 0.6181554858779609, 'colsample_bytree': 0.5982461605146661, 'reg_lambda': 25.044710320337792}. Best is trial 311 with value: 0.9077621616088283.\u001b[0m\n"
     ]
    },
    {
     "name": "stdout",
     "output_type": "stream",
     "text": [
      "0.8817936676730487\n"
     ]
    },
    {
     "name": "stderr",
     "output_type": "stream",
     "text": [
      "\u001b[32m[I 2023-01-16 09:02:20,552]\u001b[0m Trial 379 finished with value: 0.8911959198764595 and parameters: {'max_depth': 16, 'n_estimators': 91, 'eta': 0.06589256165952496, 'subsample': 0.5785267359644335, 'colsample_bytree': 0.4943669856490625, 'reg_lambda': 22.192814451437606}. Best is trial 311 with value: 0.9077621616088283.\u001b[0m\n"
     ]
    },
    {
     "name": "stdout",
     "output_type": "stream",
     "text": [
      "0.8911959198764595\n"
     ]
    },
    {
     "name": "stderr",
     "output_type": "stream",
     "text": [
      "\u001b[32m[I 2023-01-16 09:02:21,100]\u001b[0m Trial 380 finished with value: 0.8762830360095282 and parameters: {'max_depth': 18, 'n_estimators': 41, 'eta': 0.05678261530520143, 'subsample': 0.4432748675660604, 'colsample_bytree': 0.9131294380962647, 'reg_lambda': 22.93943200118077}. Best is trial 311 with value: 0.9077621616088283.\u001b[0m\n"
     ]
    },
    {
     "name": "stdout",
     "output_type": "stream",
     "text": [
      "0.8762830360095282\n"
     ]
    },
    {
     "name": "stderr",
     "output_type": "stream",
     "text": [
      "\u001b[32m[I 2023-01-16 09:02:21,739]\u001b[0m Trial 381 finished with value: 0.8859014706466684 and parameters: {'max_depth': 17, 'n_estimators': 95, 'eta': 0.05551358040588382, 'subsample': 0.38518853773932227, 'colsample_bytree': 0.5719820542115566, 'reg_lambda': 34.211504723102514}. Best is trial 311 with value: 0.9077621616088283.\u001b[0m\n"
     ]
    },
    {
     "name": "stdout",
     "output_type": "stream",
     "text": [
      "0.8859014706466684\n",
      "0.7966386662149959\n"
     ]
    },
    {
     "name": "stderr",
     "output_type": "stream",
     "text": [
      "\u001b[32m[I 2023-01-16 09:02:21,933]\u001b[0m Trial 382 finished with value: 0.7966386662149959 and parameters: {'max_depth': 18, 'n_estimators': 6, 'eta': 0.07088968969957994, 'subsample': 0.47958538937083717, 'colsample_bytree': 0.456492451772915, 'reg_lambda': 21.19287298590994}. Best is trial 311 with value: 0.9077621616088283.\u001b[0m\n",
      "\u001b[32m[I 2023-01-16 09:02:23,339]\u001b[0m Trial 383 finished with value: 0.8801116875227716 and parameters: {'max_depth': 19, 'n_estimators': 86, 'eta': 0.10104501710237947, 'subsample': 0.6382641556596285, 'colsample_bytree': 0.5440882301695297, 'reg_lambda': 28.400854904638955}. Best is trial 311 with value: 0.9077621616088283.\u001b[0m\n"
     ]
    },
    {
     "name": "stdout",
     "output_type": "stream",
     "text": [
      "0.8801116875227716\n"
     ]
    },
    {
     "name": "stderr",
     "output_type": "stream",
     "text": [
      "\u001b[32m[I 2023-01-16 09:02:24,975]\u001b[0m Trial 384 finished with value: 0.8911033183666844 and parameters: {'max_depth': 17, 'n_estimators': 94, 'eta': 0.10756236429550371, 'subsample': 0.5932991729194115, 'colsample_bytree': 0.6027284098543866, 'reg_lambda': 25.308167651340423}. Best is trial 311 with value: 0.9077621616088283.\u001b[0m\n"
     ]
    },
    {
     "name": "stdout",
     "output_type": "stream",
     "text": [
      "0.8911033183666844\n"
     ]
    },
    {
     "name": "stderr",
     "output_type": "stream",
     "text": [
      "\u001b[32m[I 2023-01-16 09:02:25,788]\u001b[0m Trial 385 finished with value: 0.8725843633427326 and parameters: {'max_depth': 9, 'n_estimators': 100, 'eta': 0.08614856469765264, 'subsample': 0.2856108774404793, 'colsample_bytree': 0.5215503528720702, 'reg_lambda': 27.539756957268175}. Best is trial 311 with value: 0.9077621616088283.\u001b[0m\n"
     ]
    },
    {
     "name": "stdout",
     "output_type": "stream",
     "text": [
      "0.8725843633427326\n"
     ]
    },
    {
     "name": "stderr",
     "output_type": "stream",
     "text": [
      "\u001b[32m[I 2023-01-16 09:02:26,368]\u001b[0m Trial 386 finished with value: 0.879740271285383 and parameters: {'max_depth': 16, 'n_estimators': 92, 'eta': 0.02849832992846845, 'subsample': 0.6679447772029504, 'colsample_bytree': 0.3186902265585887, 'reg_lambda': 24.16312705381045}. Best is trial 311 with value: 0.9077621616088283.\u001b[0m\n"
     ]
    },
    {
     "name": "stdout",
     "output_type": "stream",
     "text": [
      "0.879740271285383\n"
     ]
    },
    {
     "name": "stderr",
     "output_type": "stream",
     "text": [
      "\u001b[32m[I 2023-01-16 09:02:27,572]\u001b[0m Trial 387 finished with value: 0.8894082056386575 and parameters: {'max_depth': 17, 'n_estimators': 76, 'eta': 0.11299806037198522, 'subsample': 0.5587394946748819, 'colsample_bytree': 0.5627853625942927, 'reg_lambda': 21.89068766265523}. Best is trial 311 with value: 0.9077621616088283.\u001b[0m\n"
     ]
    },
    {
     "name": "stdout",
     "output_type": "stream",
     "text": [
      "0.8894082056386575\n"
     ]
    },
    {
     "name": "stderr",
     "output_type": "stream",
     "text": [
      "\u001b[32m[I 2023-01-16 09:02:28,295]\u001b[0m Trial 388 finished with value: 0.8726348732571554 and parameters: {'max_depth': 18, 'n_estimators': 55, 'eta': 0.06747091161210197, 'subsample': 0.46393375131233366, 'colsample_bytree': 0.354988870705429, 'reg_lambda': 31.81037414029433}. Best is trial 311 with value: 0.9077621616088283.\u001b[0m\n"
     ]
    },
    {
     "name": "stdout",
     "output_type": "stream",
     "text": [
      "0.8726348732571554\n"
     ]
    },
    {
     "name": "stderr",
     "output_type": "stream",
     "text": [
      "\u001b[32m[I 2023-01-16 09:02:29,794]\u001b[0m Trial 389 finished with value: 0.8779081083228889 and parameters: {'max_depth': 18, 'n_estimators': 97, 'eta': 0.11103839767174425, 'subsample': 0.42735059225332495, 'colsample_bytree': 0.5874680198454822, 'reg_lambda': 26.307450656627978}. Best is trial 311 with value: 0.9077621616088283.\u001b[0m\n"
     ]
    },
    {
     "name": "stdout",
     "output_type": "stream",
     "text": [
      "0.8779081083228889\n"
     ]
    },
    {
     "name": "stderr",
     "output_type": "stream",
     "text": [
      "\u001b[32m[I 2023-01-16 09:02:30,555]\u001b[0m Trial 390 finished with value: 0.8677387788857783 and parameters: {'max_depth': 17, 'n_estimators': 57, 'eta': 0.09749167654393823, 'subsample': 0.1204026131208311, 'colsample_bytree': 0.5639747196768625, 'reg_lambda': 20.86610927874719}. Best is trial 311 with value: 0.9077621616088283.\u001b[0m\n"
     ]
    },
    {
     "name": "stdout",
     "output_type": "stream",
     "text": [
      "0.8677387788857783\n"
     ]
    },
    {
     "name": "stderr",
     "output_type": "stream",
     "text": [
      "\u001b[32m[I 2023-01-16 09:02:31,713]\u001b[0m Trial 391 finished with value: 0.8854138816061075 and parameters: {'max_depth': 19, 'n_estimators': 83, 'eta': 0.10741416600366165, 'subsample': 0.40633721440342907, 'colsample_bytree': 0.4184945271301962, 'reg_lambda': 33.360681720783894}. Best is trial 311 with value: 0.9077621616088283.\u001b[0m\n"
     ]
    },
    {
     "name": "stdout",
     "output_type": "stream",
     "text": [
      "0.8854138816061075\n"
     ]
    },
    {
     "name": "stderr",
     "output_type": "stream",
     "text": [
      "\u001b[32m[I 2023-01-16 09:02:32,204]\u001b[0m Trial 392 finished with value: 0.8760382312909593 and parameters: {'max_depth': 18, 'n_estimators': 22, 'eta': 0.07447877888681935, 'subsample': 0.6156294275529839, 'colsample_bytree': 0.5486951553271888, 'reg_lambda': 8.433826010839988}. Best is trial 311 with value: 0.9077621616088283.\u001b[0m\n"
     ]
    },
    {
     "name": "stdout",
     "output_type": "stream",
     "text": [
      "0.8760382312909593\n"
     ]
    },
    {
     "name": "stderr",
     "output_type": "stream",
     "text": [
      "\u001b[32m[I 2023-01-16 09:02:32,771]\u001b[0m Trial 393 finished with value: 0.8828883858849707 and parameters: {'max_depth': 16, 'n_estimators': 88, 'eta': 0.0777107344991047, 'subsample': 0.4534893463460873, 'colsample_bytree': 0.28817916861189213, 'reg_lambda': 22.596185624453007}. Best is trial 311 with value: 0.9077621616088283.\u001b[0m\n"
     ]
    },
    {
     "name": "stdout",
     "output_type": "stream",
     "text": [
      "0.8828883858849707\n"
     ]
    },
    {
     "name": "stderr",
     "output_type": "stream",
     "text": [
      "\u001b[32m[I 2023-01-16 09:02:33,160]\u001b[0m Trial 394 finished with value: 0.87731916272072 and parameters: {'max_depth': 17, 'n_estimators': 38, 'eta': 0.10343572709813724, 'subsample': 0.5795506576121254, 'colsample_bytree': 0.5790156222103674, 'reg_lambda': 23.504984653793713}. Best is trial 311 with value: 0.9077621616088283.\u001b[0m\n"
     ]
    },
    {
     "name": "stdout",
     "output_type": "stream",
     "text": [
      "0.87731916272072\n"
     ]
    },
    {
     "name": "stderr",
     "output_type": "stream",
     "text": [
      "\u001b[32m[I 2023-01-16 09:02:34,949]\u001b[0m Trial 395 finished with value: 0.8845713762335363 and parameters: {'max_depth': 12, 'n_estimators': 98, 'eta': 0.10913014136577509, 'subsample': 0.6069591852061255, 'colsample_bytree': 0.6150082744907288, 'reg_lambda': 22.02350220642423}. Best is trial 311 with value: 0.9077621616088283.\u001b[0m\n"
     ]
    },
    {
     "name": "stdout",
     "output_type": "stream",
     "text": [
      "0.8845713762335363\n"
     ]
    },
    {
     "name": "stderr",
     "output_type": "stream",
     "text": [
      "\u001b[32m[I 2023-01-16 09:02:35,886]\u001b[0m Trial 396 finished with value: 0.8825216839062616 and parameters: {'max_depth': 17, 'n_estimators': 55, 'eta': 0.06140100043857755, 'subsample': 0.5109365500863157, 'colsample_bytree': 0.5322856588477731, 'reg_lambda': 24.474846544088827}. Best is trial 311 with value: 0.9077621616088283.\u001b[0m\n"
     ]
    },
    {
     "name": "stdout",
     "output_type": "stream",
     "text": [
      "0.8825216839062616\n"
     ]
    },
    {
     "name": "stderr",
     "output_type": "stream",
     "text": [
      "\u001b[32m[I 2023-01-16 09:02:37,221]\u001b[0m Trial 397 finished with value: 0.8798860765716834 and parameters: {'max_depth': 13, 'n_estimators': 79, 'eta': 0.0994161907075238, 'subsample': 0.6516496031943374, 'colsample_bytree': 0.5036278307346083, 'reg_lambda': 25.78975259292432}. Best is trial 311 with value: 0.9077621616088283.\u001b[0m\n"
     ]
    },
    {
     "name": "stdout",
     "output_type": "stream",
     "text": [
      "0.8798860765716834\n"
     ]
    },
    {
     "name": "stderr",
     "output_type": "stream",
     "text": [
      "\u001b[32m[I 2023-01-16 09:02:38,600]\u001b[0m Trial 398 finished with value: 0.8817084742840556 and parameters: {'max_depth': 18, 'n_estimators': 89, 'eta': 0.09267103890660003, 'subsample': 0.42365488983247257, 'colsample_bytree': 0.3742137269696752, 'reg_lambda': 21.592026266427062}. Best is trial 311 with value: 0.9077621616088283.\u001b[0m\n"
     ]
    },
    {
     "name": "stdout",
     "output_type": "stream",
     "text": [
      "0.8817084742840556\n"
     ]
    },
    {
     "name": "stderr",
     "output_type": "stream",
     "text": [
      "\u001b[32m[I 2023-01-16 09:02:39,615]\u001b[0m Trial 399 finished with value: 0.8825021534060182 and parameters: {'max_depth': 8, 'n_estimators': 58, 'eta': 0.10554787723856668, 'subsample': 0.6296070395200313, 'colsample_bytree': 0.5944926817132149, 'reg_lambda': 35.53370479620366}. Best is trial 311 with value: 0.9077621616088283.\u001b[0m\n"
     ]
    },
    {
     "name": "stdout",
     "output_type": "stream",
     "text": [
      "0.8825021534060182\n"
     ]
    },
    {
     "name": "stderr",
     "output_type": "stream",
     "text": [
      "\u001b[32m[I 2023-01-16 09:02:40,128]\u001b[0m Trial 400 finished with value: 0.8825745509500241 and parameters: {'max_depth': 17, 'n_estimators': 53, 'eta': 0.08785314017849476, 'subsample': 0.4397300610898528, 'colsample_bytree': 0.5647379630104562, 'reg_lambda': 20.97610213945911}. Best is trial 311 with value: 0.9077621616088283.\u001b[0m\n"
     ]
    },
    {
     "name": "stdout",
     "output_type": "stream",
     "text": [
      "0.8825745509500241\n"
     ]
    },
    {
     "name": "stderr",
     "output_type": "stream",
     "text": [
      "\u001b[32m[I 2023-01-16 09:02:40,642]\u001b[0m Trial 401 finished with value: 0.8720940804400692 and parameters: {'max_depth': 5, 'n_estimators': 86, 'eta': 0.11140906949290309, 'subsample': 0.38515175284815306, 'colsample_bytree': 0.26484586722692327, 'reg_lambda': 20.34571165959428}. Best is trial 311 with value: 0.9077621616088283.\u001b[0m\n"
     ]
    },
    {
     "name": "stdout",
     "output_type": "stream",
     "text": [
      "0.8720940804400692\n"
     ]
    },
    {
     "name": "stderr",
     "output_type": "stream",
     "text": [
      "\u001b[32m[I 2023-01-16 09:02:41,340]\u001b[0m Trial 402 finished with value: 0.8913373476368432 and parameters: {'max_depth': 19, 'n_estimators': 55, 'eta': 0.05030705107524218, 'subsample': 0.557266245805854, 'colsample_bytree': 0.40042083765748065, 'reg_lambda': 22.941386524319263}. Best is trial 311 with value: 0.9077621616088283.\u001b[0m\n"
     ]
    },
    {
     "name": "stdout",
     "output_type": "stream",
     "text": [
      "0.8913373476368432\n"
     ]
    },
    {
     "name": "stderr",
     "output_type": "stream",
     "text": [
      "\u001b[32m[I 2023-01-16 09:02:42,710]\u001b[0m Trial 403 finished with value: 0.883143629319187 and parameters: {'max_depth': 8, 'n_estimators': 92, 'eta': 0.10900715688199362, 'subsample': 0.3134555744517733, 'colsample_bytree': 0.5472199603249057, 'reg_lambda': 23.937052413888775}. Best is trial 311 with value: 0.9077621616088283.\u001b[0m\n"
     ]
    },
    {
     "name": "stdout",
     "output_type": "stream",
     "text": [
      "0.883143629319187\n"
     ]
    },
    {
     "name": "stderr",
     "output_type": "stream",
     "text": [
      "\u001b[32m[I 2023-01-16 09:02:43,705]\u001b[0m Trial 404 finished with value: 0.8948070420249223 and parameters: {'max_depth': 18, 'n_estimators': 59, 'eta': 0.10259162525327603, 'subsample': 0.4076914085324047, 'colsample_bytree': 0.5789691069738467, 'reg_lambda': 25.18112785050706}. Best is trial 311 with value: 0.9077621616088283.\u001b[0m\n"
     ]
    },
    {
     "name": "stdout",
     "output_type": "stream",
     "text": [
      "0.8948070420249223\n"
     ]
    },
    {
     "name": "stderr",
     "output_type": "stream",
     "text": [
      "\u001b[32m[I 2023-01-16 09:02:44,597]\u001b[0m Trial 405 finished with value: 0.8952983351258741 and parameters: {'max_depth': 17, 'n_estimators': 56, 'eta': 0.10608408362682098, 'subsample': 0.3598798907363098, 'colsample_bytree': 0.6065626782926872, 'reg_lambda': 27.250149958200417}. Best is trial 311 with value: 0.9077621616088283.\u001b[0m\n"
     ]
    },
    {
     "name": "stdout",
     "output_type": "stream",
     "text": [
      "0.8952983351258741\n"
     ]
    },
    {
     "name": "stderr",
     "output_type": "stream",
     "text": [
      "\u001b[32m[I 2023-01-16 09:02:45,011]\u001b[0m Trial 406 finished with value: 0.8811585896823735 and parameters: {'max_depth': 16, 'n_estimators': 51, 'eta': 0.09012277001971268, 'subsample': 0.5950687982049228, 'colsample_bytree': 0.5205441968601746, 'reg_lambda': 33.83260737791858}. Best is trial 311 with value: 0.9077621616088283.\u001b[0m\n"
     ]
    },
    {
     "name": "stdout",
     "output_type": "stream",
     "text": [
      "0.8811585896823735\n"
     ]
    },
    {
     "name": "stderr",
     "output_type": "stream",
     "text": [
      "\u001b[32m[I 2023-01-16 09:02:45,429]\u001b[0m Trial 407 finished with value: 0.7988850104757562 and parameters: {'max_depth': 17, 'n_estimators': 43, 'eta': 0.033164446608022737, 'subsample': 0.47281820717445067, 'colsample_bytree': 0.6264986558889066, 'reg_lambda': 22.069251422154547}. Best is trial 311 with value: 0.9077621616088283.\u001b[0m\n"
     ]
    },
    {
     "name": "stdout",
     "output_type": "stream",
     "text": [
      "0.7988850104757562\n"
     ]
    },
    {
     "name": "stderr",
     "output_type": "stream",
     "text": [
      "\u001b[32m[I 2023-01-16 09:02:46,474]\u001b[0m Trial 408 finished with value: 0.8787576850834795 and parameters: {'max_depth': 18, 'n_estimators': 60, 'eta': 0.11091072906081403, 'subsample': 0.5735381255534139, 'colsample_bytree': 0.5937589119756375, 'reg_lambda': 22.944964041512677}. Best is trial 311 with value: 0.9077621616088283.\u001b[0m\n"
     ]
    },
    {
     "name": "stdout",
     "output_type": "stream",
     "text": [
      "0.8787576850834795\n"
     ]
    },
    {
     "name": "stderr",
     "output_type": "stream",
     "text": [
      "\u001b[32m[I 2023-01-16 09:02:47,976]\u001b[0m Trial 409 finished with value: 0.8850879242916994 and parameters: {'max_depth': 19, 'n_estimators': 90, 'eta': 0.09564881788469438, 'subsample': 0.6240029767497134, 'colsample_bytree': 0.5615844011265171, 'reg_lambda': 20.399983711536038}. Best is trial 311 with value: 0.9077621616088283.\u001b[0m\n"
     ]
    },
    {
     "name": "stdout",
     "output_type": "stream",
     "text": [
      "0.8850879242916994\n"
     ]
    },
    {
     "name": "stderr",
     "output_type": "stream",
     "text": [
      "\u001b[32m[I 2023-01-16 09:02:48,386]\u001b[0m Trial 410 finished with value: 0.8244773739154679 and parameters: {'max_depth': 17, 'n_estimators': 18, 'eta': 0.10781233192023663, 'subsample': 0.5434111014057598, 'colsample_bytree': 0.4811187202517586, 'reg_lambda': 30.769862641003098}. Best is trial 311 with value: 0.9077621616088283.\u001b[0m\n"
     ]
    },
    {
     "name": "stdout",
     "output_type": "stream",
     "text": [
      "0.8244773739154679\n"
     ]
    },
    {
     "name": "stderr",
     "output_type": "stream",
     "text": [
      "\u001b[32m[I 2023-01-16 09:02:49,036]\u001b[0m Trial 411 finished with value: 0.8837824113702533 and parameters: {'max_depth': 18, 'n_estimators': 54, 'eta': 0.0722342207095069, 'subsample': 0.3405712125463504, 'colsample_bytree': 0.5409276033081031, 'reg_lambda': 24.479652741641136}. Best is trial 311 with value: 0.9077621616088283.\u001b[0m\n"
     ]
    },
    {
     "name": "stdout",
     "output_type": "stream",
     "text": [
      "0.8837824113702533\n"
     ]
    },
    {
     "name": "stderr",
     "output_type": "stream",
     "text": [
      "\u001b[32m[I 2023-01-16 09:02:49,455]\u001b[0m Trial 412 finished with value: 0.8889189329342825 and parameters: {'max_depth': 6, 'n_estimators': 57, 'eta': 0.10491894732729211, 'subsample': 0.4476280608746052, 'colsample_bytree': 0.5802849101567616, 'reg_lambda': 32.69381324348314}. Best is trial 311 with value: 0.9077621616088283.\u001b[0m\n"
     ]
    },
    {
     "name": "stdout",
     "output_type": "stream",
     "text": [
      "0.8889189329342825\n"
     ]
    },
    {
     "name": "stderr",
     "output_type": "stream",
     "text": [
      "\u001b[32m[I 2023-01-16 09:02:50,213]\u001b[0m Trial 413 finished with value: 0.8922909748211444 and parameters: {'max_depth': 18, 'n_estimators': 74, 'eta': 0.08369390886220825, 'subsample': 0.6112117383706694, 'colsample_bytree': 0.4443099472553658, 'reg_lambda': 21.465658288222386}. Best is trial 311 with value: 0.9077621616088283.\u001b[0m\n"
     ]
    },
    {
     "name": "stdout",
     "output_type": "stream",
     "text": [
      "0.8922909748211444\n"
     ]
    },
    {
     "name": "stderr",
     "output_type": "stream",
     "text": [
      "\u001b[32m[I 2023-01-16 09:02:51,581]\u001b[0m Trial 414 finished with value: 0.8791984682700085 and parameters: {'max_depth': 15, 'n_estimators': 85, 'eta': 0.10951555643244111, 'subsample': 0.41860089707875286, 'colsample_bytree': 0.6113960039692777, 'reg_lambda': 18.546442652653838}. Best is trial 311 with value: 0.9077621616088283.\u001b[0m\n"
     ]
    },
    {
     "name": "stdout",
     "output_type": "stream",
     "text": [
      "0.8791984682700085\n"
     ]
    },
    {
     "name": "stderr",
     "output_type": "stream",
     "text": [
      "\u001b[32m[I 2023-01-16 09:02:52,013]\u001b[0m Trial 415 finished with value: 0.776913871167392 and parameters: {'max_depth': 16, 'n_estimators': 26, 'eta': 0.024946497304051202, 'subsample': 0.48634697936337057, 'colsample_bytree': 0.5691477577863372, 'reg_lambda': 26.62190851890297}. Best is trial 311 with value: 0.9077621616088283.\u001b[0m\n"
     ]
    },
    {
     "name": "stdout",
     "output_type": "stream",
     "text": [
      "0.776913871167392\n"
     ]
    },
    {
     "name": "stderr",
     "output_type": "stream",
     "text": [
      "\u001b[32m[I 2023-01-16 09:02:52,959]\u001b[0m Trial 416 finished with value: 0.885448228347915 and parameters: {'max_depth': 10, 'n_estimators': 95, 'eta': 0.08037570850745533, 'subsample': 0.5913221424428452, 'colsample_bytree': 0.5171978332791927, 'reg_lambda': 23.239903816497183}. Best is trial 311 with value: 0.9077621616088283.\u001b[0m\n"
     ]
    },
    {
     "name": "stdout",
     "output_type": "stream",
     "text": [
      "0.885448228347915\n"
     ]
    },
    {
     "name": "stderr",
     "output_type": "stream",
     "text": [
      "\u001b[32m[I 2023-01-16 09:02:53,830]\u001b[0m Trial 417 finished with value: 0.8880454481475321 and parameters: {'max_depth': 12, 'n_estimators': 100, 'eta': 0.06823500462300454, 'subsample': 0.3931662958670008, 'colsample_bytree': 0.5509926404065767, 'reg_lambda': 34.586009304024884}. Best is trial 311 with value: 0.9077621616088283.\u001b[0m\n"
     ]
    },
    {
     "name": "stdout",
     "output_type": "stream",
     "text": [
      "0.8880454481475321\n"
     ]
    },
    {
     "name": "stderr",
     "output_type": "stream",
     "text": [
      "\u001b[32m[I 2023-01-16 09:02:54,693]\u001b[0m Trial 418 finished with value: 0.8881286211399483 and parameters: {'max_depth': 17, 'n_estimators': 52, 'eta': 0.10225593929064808, 'subsample': 0.642663756737129, 'colsample_bytree': 0.6413907040732457, 'reg_lambda': 25.38624136750594}. Best is trial 311 with value: 0.9077621616088283.\u001b[0m\n"
     ]
    },
    {
     "name": "stdout",
     "output_type": "stream",
     "text": [
      "0.8881286211399483\n"
     ]
    },
    {
     "name": "stderr",
     "output_type": "stream",
     "text": [
      "\u001b[32m[I 2023-01-16 09:02:55,864]\u001b[0m Trial 419 finished with value: 0.8740040286707743 and parameters: {'max_depth': 8, 'n_estimators': 81, 'eta': 0.11118327152629805, 'subsample': 0.563825606712923, 'colsample_bytree': 0.5898355369757065, 'reg_lambda': 20.770346931004664}. Best is trial 311 with value: 0.9077621616088283.\u001b[0m\n"
     ]
    },
    {
     "name": "stdout",
     "output_type": "stream",
     "text": [
      "0.8740040286707743\n"
     ]
    },
    {
     "name": "stderr",
     "output_type": "stream",
     "text": [
      "\u001b[32m[I 2023-01-16 09:02:56,708]\u001b[0m Trial 420 finished with value: 0.8843356632995636 and parameters: {'max_depth': 17, 'n_estimators': 59, 'eta': 0.11296136769805859, 'subsample': 0.4425838650093829, 'colsample_bytree': 0.5373328951279834, 'reg_lambda': 22.47151440786764}. Best is trial 311 with value: 0.9077621616088283.\u001b[0m\n"
     ]
    },
    {
     "name": "stdout",
     "output_type": "stream",
     "text": [
      "0.8843356632995636\n"
     ]
    },
    {
     "name": "stderr",
     "output_type": "stream",
     "text": [
      "\u001b[32m[I 2023-01-16 09:02:57,142]\u001b[0m Trial 421 finished with value: 0.8891337684369607 and parameters: {'max_depth': 9, 'n_estimators': 56, 'eta': 0.10841891244340565, 'subsample': 0.6006744724645399, 'colsample_bytree': 0.6037984359371653, 'reg_lambda': 23.81392809212149}. Best is trial 311 with value: 0.9077621616088283.\u001b[0m\n"
     ]
    },
    {
     "name": "stdout",
     "output_type": "stream",
     "text": [
      "0.8891337684369607\n"
     ]
    },
    {
     "name": "stderr",
     "output_type": "stream",
     "text": [
      "\u001b[32m[I 2023-01-16 09:02:57,425]\u001b[0m Trial 422 finished with value: 0.8011808544526511 and parameters: {'max_depth': 19, 'n_estimators': 14, 'eta': 0.10747545211166654, 'subsample': 0.46046334232868713, 'colsample_bytree': 0.42373739003988836, 'reg_lambda': 19.231564863443122}. Best is trial 311 with value: 0.9077621616088283.\u001b[0m\n"
     ]
    },
    {
     "name": "stdout",
     "output_type": "stream",
     "text": [
      "0.8011808544526511\n"
     ]
    },
    {
     "name": "stderr",
     "output_type": "stream",
     "text": [
      "\u001b[32m[I 2023-01-16 09:02:58,618]\u001b[0m Trial 423 finished with value: 0.8935574267421038 and parameters: {'max_depth': 20, 'n_estimators': 98, 'eta': 0.10596089529204981, 'subsample': 0.5247625021614463, 'colsample_bytree': 0.3273339455036177, 'reg_lambda': 21.63000430972699}. Best is trial 311 with value: 0.9077621616088283.\u001b[0m\n"
     ]
    },
    {
     "name": "stdout",
     "output_type": "stream",
     "text": [
      "0.8935574267421038\n"
     ]
    },
    {
     "name": "stderr",
     "output_type": "stream",
     "text": [
      "\u001b[32m[I 2023-01-16 09:02:59,385]\u001b[0m Trial 424 finished with value: 0.8872659118016077 and parameters: {'max_depth': 17, 'n_estimators': 46, 'eta': 0.09323163775668655, 'subsample': 0.2271787548926831, 'colsample_bytree': 0.5658062942336669, 'reg_lambda': 10.015881350073958}. Best is trial 311 with value: 0.9077621616088283.\u001b[0m\n"
     ]
    },
    {
     "name": "stdout",
     "output_type": "stream",
     "text": [
      "0.8872659118016077\n"
     ]
    },
    {
     "name": "stderr",
     "output_type": "stream",
     "text": [
      "\u001b[32m[I 2023-01-16 09:03:00,215]\u001b[0m Trial 425 finished with value: 0.8831863943800649 and parameters: {'max_depth': 18, 'n_estimators': 50, 'eta': 0.10054122774465185, 'subsample': 0.42768393921260406, 'colsample_bytree': 0.5790064179826147, 'reg_lambda': 24.819636029933662}. Best is trial 311 with value: 0.9077621616088283.\u001b[0m\n"
     ]
    },
    {
     "name": "stdout",
     "output_type": "stream",
     "text": [
      "0.8831863943800649\n"
     ]
    },
    {
     "name": "stderr",
     "output_type": "stream",
     "text": [
      "\u001b[32m[I 2023-01-16 09:03:00,979]\u001b[0m Trial 426 finished with value: 0.8898627948684621 and parameters: {'max_depth': 17, 'n_estimators': 54, 'eta': 0.11061471302002701, 'subsample': 0.6768331460086925, 'colsample_bytree': 0.6293496833917894, 'reg_lambda': 28.862214769796715}. Best is trial 311 with value: 0.9077621616088283.\u001b[0m\n"
     ]
    },
    {
     "name": "stdout",
     "output_type": "stream",
     "text": [
      "0.8898627948684621\n"
     ]
    },
    {
     "name": "stderr",
     "output_type": "stream",
     "text": [
      "\u001b[32m[I 2023-01-16 09:03:01,719]\u001b[0m Trial 427 finished with value: 0.8771241944510481 and parameters: {'max_depth': 11, 'n_estimators': 93, 'eta': 0.10396045599333469, 'subsample': 0.6211452476849686, 'colsample_bytree': 0.5043128618819097, 'reg_lambda': 26.043623625855567}. Best is trial 311 with value: 0.9077621616088283.\u001b[0m\n"
     ]
    },
    {
     "name": "stdout",
     "output_type": "stream",
     "text": [
      "0.8771241944510481\n"
     ]
    },
    {
     "name": "stderr",
     "output_type": "stream",
     "text": [
      "\u001b[32m[I 2023-01-16 09:03:02,520]\u001b[0m Trial 428 finished with value: 0.8873571663803315 and parameters: {'max_depth': 6, 'n_estimators': 61, 'eta': 0.08706949811179905, 'subsample': 0.5774760749540939, 'colsample_bytree': 0.5531727374563894, 'reg_lambda': 20.28543599806502}. Best is trial 311 with value: 0.9077621616088283.\u001b[0m\n"
     ]
    },
    {
     "name": "stdout",
     "output_type": "stream",
     "text": [
      "0.8873571663803315\n"
     ]
    },
    {
     "name": "stderr",
     "output_type": "stream",
     "text": [
      "\u001b[32m[I 2023-01-16 09:03:03,385]\u001b[0m Trial 429 finished with value: 0.8947494607224804 and parameters: {'max_depth': 16, 'n_estimators': 57, 'eta': 0.09843688533740577, 'subsample': 0.4005095655702875, 'colsample_bytree': 0.38684846914310217, 'reg_lambda': 22.457748731570184}. Best is trial 311 with value: 0.9077621616088283.\u001b[0m\n"
     ]
    },
    {
     "name": "stdout",
     "output_type": "stream",
     "text": [
      "0.8947494607224804\n"
     ]
    },
    {
     "name": "stderr",
     "output_type": "stream",
     "text": [
      "\u001b[32m[I 2023-01-16 09:03:04,881]\u001b[0m Trial 430 finished with value: 0.8761318429990227 and parameters: {'max_depth': 18, 'n_estimators': 88, 'eta': 0.112926838438206, 'subsample': 0.6550385716568439, 'colsample_bytree': 0.46539517447002987, 'reg_lambda': 12.958559491863399}. Best is trial 311 with value: 0.9077621616088283.\u001b[0m\n"
     ]
    },
    {
     "name": "stdout",
     "output_type": "stream",
     "text": [
      "0.8761318429990227\n"
     ]
    },
    {
     "name": "stderr",
     "output_type": "stream",
     "text": [
      "\u001b[32m[I 2023-01-16 09:03:05,723]\u001b[0m Trial 431 finished with value: 0.8870628619456284 and parameters: {'max_depth': 17, 'n_estimators': 59, 'eta': 0.10882699881601678, 'subsample': 0.37355698594149545, 'colsample_bytree': 0.5311946364886088, 'reg_lambda': 16.08560028577331}. Best is trial 311 with value: 0.9077621616088283.\u001b[0m\n"
     ]
    },
    {
     "name": "stdout",
     "output_type": "stream",
     "text": [
      "0.8870628619456284\n"
     ]
    },
    {
     "name": "stderr",
     "output_type": "stream",
     "text": [
      "\u001b[32m[I 2023-01-16 09:03:06,462]\u001b[0m Trial 432 finished with value: 0.8829904159121047 and parameters: {'max_depth': 16, 'n_estimators': 53, 'eta': 0.0912742065272947, 'subsample': 0.501013603775575, 'colsample_bytree': 0.3543581565344813, 'reg_lambda': 23.349082062556448}. Best is trial 311 with value: 0.9077621616088283.\u001b[0m\n"
     ]
    },
    {
     "name": "stdout",
     "output_type": "stream",
     "text": [
      "0.8829904159121047\n"
     ]
    },
    {
     "name": "stderr",
     "output_type": "stream",
     "text": [
      "\u001b[32m[I 2023-01-16 09:03:08,061]\u001b[0m Trial 433 finished with value: 0.8750115330971265 and parameters: {'max_depth': 18, 'n_estimators': 91, 'eta': 0.05644788721802768, 'subsample': 0.6340427102577777, 'colsample_bytree': 0.5964713133633974, 'reg_lambda': 21.222569032560816}. Best is trial 311 with value: 0.9077621616088283.\u001b[0m\n"
     ]
    },
    {
     "name": "stdout",
     "output_type": "stream",
     "text": [
      "0.8750115330971265\n"
     ]
    },
    {
     "name": "stderr",
     "output_type": "stream",
     "text": [
      "\u001b[32m[I 2023-01-16 09:03:08,890]\u001b[0m Trial 434 finished with value: 0.8721482944148831 and parameters: {'max_depth': 19, 'n_estimators': 57, 'eta': 0.10649236251816585, 'subsample': 0.4675586255276802, 'colsample_bytree': 0.6169788729707253, 'reg_lambda': 24.21592925306651}. Best is trial 311 with value: 0.9077621616088283.\u001b[0m\n"
     ]
    },
    {
     "name": "stdout",
     "output_type": "stream",
     "text": [
      "0.8721482944148831\n"
     ]
    },
    {
     "name": "stderr",
     "output_type": "stream",
     "text": [
      "\u001b[32m[I 2023-01-16 09:03:09,414]\u001b[0m Trial 435 finished with value: 0.8662891443418457 and parameters: {'max_depth': 17, 'n_estimators': 35, 'eta': 0.11020195866641681, 'subsample': 0.5861783795345866, 'colsample_bytree': 0.23132234547486075, 'reg_lambda': 17.98177955507548}. Best is trial 311 with value: 0.9077621616088283.\u001b[0m\n"
     ]
    },
    {
     "name": "stdout",
     "output_type": "stream",
     "text": [
      "0.8662891443418457\n"
     ]
    },
    {
     "name": "stderr",
     "output_type": "stream",
     "text": [
      "\u001b[32m[I 2023-01-16 09:03:10,136]\u001b[0m Trial 436 finished with value: 0.888756964475367 and parameters: {'max_depth': 20, 'n_estimators': 83, 'eta': 0.1044520411059826, 'subsample': 0.41969712406179005, 'colsample_bytree': 0.30611556914465343, 'reg_lambda': 31.83462839110705}. Best is trial 311 with value: 0.9077621616088283.\u001b[0m\n"
     ]
    },
    {
     "name": "stdout",
     "output_type": "stream",
     "text": [
      "0.888756964475367\n"
     ]
    },
    {
     "name": "stderr",
     "output_type": "stream",
     "text": [
      "\u001b[32m[I 2023-01-16 09:03:10,389]\u001b[0m Trial 437 finished with value: 0.8005262459617323 and parameters: {'max_depth': 12, 'n_estimators': 9, 'eta': 0.09625986536735434, 'subsample': 0.4422710235906101, 'colsample_bytree': 0.5763146913780608, 'reg_lambda': 19.89140460881226}. Best is trial 311 with value: 0.9077621616088283.\u001b[0m\n"
     ]
    },
    {
     "name": "stdout",
     "output_type": "stream",
     "text": [
      "0.8005262459617323\n"
     ]
    },
    {
     "name": "stderr",
     "output_type": "stream",
     "text": [
      "\u001b[32m[I 2023-01-16 09:03:10,825]\u001b[0m Trial 438 finished with value: 0.8902864046840875 and parameters: {'max_depth': 17, 'n_estimators': 55, 'eta': 0.07551638045509927, 'subsample': 0.1853014156313108, 'colsample_bytree': 0.6474187891082376, 'reg_lambda': 15.09877680309526}. Best is trial 311 with value: 0.9077621616088283.\u001b[0m\n"
     ]
    },
    {
     "name": "stdout",
     "output_type": "stream",
     "text": [
      "0.8902864046840875\n"
     ]
    },
    {
     "name": "stderr",
     "output_type": "stream",
     "text": [
      "\u001b[32m[I 2023-01-16 09:03:12,126]\u001b[0m Trial 439 finished with value: 0.8849192211775275 and parameters: {'max_depth': 8, 'n_estimators': 86, 'eta': 0.06474213872345602, 'subsample': 0.5990098959507912, 'colsample_bytree': 0.5555838070306436, 'reg_lambda': 33.49906749879924}. Best is trial 311 with value: 0.9077621616088283.\u001b[0m\n"
     ]
    },
    {
     "name": "stdout",
     "output_type": "stream",
     "text": [
      "0.8849192211775275\n"
     ]
    },
    {
     "name": "stderr",
     "output_type": "stream",
     "text": [
      "\u001b[32m[I 2023-01-16 09:03:13,551]\u001b[0m Trial 440 finished with value: 0.8990263035430348 and parameters: {'max_depth': 7, 'n_estimators': 97, 'eta': 0.10750760604740732, 'subsample': 0.5365211735363709, 'colsample_bytree': 0.5872003917324876, 'reg_lambda': 26.753315651225275}. Best is trial 311 with value: 0.9077621616088283.\u001b[0m\n"
     ]
    },
    {
     "name": "stdout",
     "output_type": "stream",
     "text": [
      "0.8990263035430348\n"
     ]
    },
    {
     "name": "stderr",
     "output_type": "stream",
     "text": [
      "\u001b[32m[I 2023-01-16 09:03:14,335]\u001b[0m Trial 441 finished with value: 0.8844383667922232 and parameters: {'max_depth': 7, 'n_estimators': 48, 'eta': 0.10726025035137571, 'subsample': 0.5428999736366509, 'colsample_bytree': 0.5954085074648016, 'reg_lambda': 28.054282127057064}. Best is trial 311 with value: 0.9077621616088283.\u001b[0m\n"
     ]
    },
    {
     "name": "stdout",
     "output_type": "stream",
     "text": [
      "0.8844383667922232\n"
     ]
    },
    {
     "name": "stderr",
     "output_type": "stream",
     "text": [
      "\u001b[32m[I 2023-01-16 09:03:15,304]\u001b[0m Trial 442 finished with value: 0.8808208467212668 and parameters: {'max_depth': 7, 'n_estimators': 99, 'eta': 0.10902166075974452, 'subsample': 0.48755991103025925, 'colsample_bytree': 0.5795905400822838, 'reg_lambda': 27.15721305661688}. Best is trial 311 with value: 0.9077621616088283.\u001b[0m\n"
     ]
    },
    {
     "name": "stdout",
     "output_type": "stream",
     "text": [
      "0.8808208467212668\n"
     ]
    },
    {
     "name": "stderr",
     "output_type": "stream",
     "text": [
      "\u001b[32m[I 2023-01-16 09:03:15,965]\u001b[0m Trial 443 finished with value: 0.8994563112811538 and parameters: {'max_depth': 7, 'n_estimators': 97, 'eta': 0.10109486256091164, 'subsample': 0.5594294581651431, 'colsample_bytree': 0.6058809675891185, 'reg_lambda': 27.3903678186474}. Best is trial 311 with value: 0.9077621616088283.\u001b[0m\n"
     ]
    },
    {
     "name": "stdout",
     "output_type": "stream",
     "text": [
      "0.8994563112811538\n"
     ]
    },
    {
     "name": "stderr",
     "output_type": "stream",
     "text": [
      "\u001b[32m[I 2023-01-16 09:03:17,334]\u001b[0m Trial 444 finished with value: 0.8874686249248245 and parameters: {'max_depth': 7, 'n_estimators': 96, 'eta': 0.10052625944648308, 'subsample': 0.535305575613259, 'colsample_bytree': 0.6188180144368766, 'reg_lambda': 29.617777430527845}. Best is trial 311 with value: 0.9077621616088283.\u001b[0m\n"
     ]
    },
    {
     "name": "stdout",
     "output_type": "stream",
     "text": [
      "0.8874686249248245\n"
     ]
    },
    {
     "name": "stderr",
     "output_type": "stream",
     "text": [
      "\u001b[32m[I 2023-01-16 09:03:18,742]\u001b[0m Trial 445 finished with value: 0.889514613191708 and parameters: {'max_depth': 7, 'n_estimators': 97, 'eta': 0.10290244799763468, 'subsample': 0.5188189176450664, 'colsample_bytree': 0.6036901679360543, 'reg_lambda': 28.34248235173591}. Best is trial 311 with value: 0.9077621616088283.\u001b[0m\n"
     ]
    },
    {
     "name": "stdout",
     "output_type": "stream",
     "text": [
      "0.889514613191708\n"
     ]
    },
    {
     "name": "stderr",
     "output_type": "stream",
     "text": [
      "\u001b[32m[I 2023-01-16 09:03:19,380]\u001b[0m Trial 446 finished with value: 0.8842464291174167 and parameters: {'max_depth': 7, 'n_estimators': 94, 'eta': 0.10118839165619711, 'subsample': 0.5607237904814742, 'colsample_bytree': 0.6218685146234701, 'reg_lambda': 26.591036537501232}. Best is trial 311 with value: 0.9077621616088283.\u001b[0m\n"
     ]
    },
    {
     "name": "stdout",
     "output_type": "stream",
     "text": [
      "0.8842464291174167\n"
     ]
    },
    {
     "name": "stderr",
     "output_type": "stream",
     "text": [
      "\u001b[32m[I 2023-01-16 09:03:20,324]\u001b[0m Trial 447 finished with value: 0.8835510759621971 and parameters: {'max_depth': 6, 'n_estimators': 98, 'eta': 0.10471608273194742, 'subsample': 0.5528688597443299, 'colsample_bytree': 0.589355742556598, 'reg_lambda': 27.50321434907233}. Best is trial 311 with value: 0.9077621616088283.\u001b[0m\n"
     ]
    },
    {
     "name": "stdout",
     "output_type": "stream",
     "text": [
      "0.8835510759621971\n"
     ]
    },
    {
     "name": "stderr",
     "output_type": "stream",
     "text": [
      "\u001b[32m[I 2023-01-16 09:03:21,774]\u001b[0m Trial 448 finished with value: 0.8913060314899011 and parameters: {'max_depth': 8, 'n_estimators': 97, 'eta': 0.10614649970214335, 'subsample': 0.5068049294043129, 'colsample_bytree': 0.6338277902167275, 'reg_lambda': 25.19957163185404}. Best is trial 311 with value: 0.9077621616088283.\u001b[0m\n"
     ]
    },
    {
     "name": "stdout",
     "output_type": "stream",
     "text": [
      "0.8913060314899011\n"
     ]
    },
    {
     "name": "stderr",
     "output_type": "stream",
     "text": [
      "\u001b[32m[I 2023-01-16 09:03:22,691]\u001b[0m Trial 449 finished with value: 0.8763779946486429 and parameters: {'max_depth': 7, 'n_estimators': 100, 'eta': 0.09895412778603938, 'subsample': 0.5350393549787131, 'colsample_bytree': 0.567248785213529, 'reg_lambda': 26.056720283654744}. Best is trial 311 with value: 0.9077621616088283.\u001b[0m\n"
     ]
    },
    {
     "name": "stdout",
     "output_type": "stream",
     "text": [
      "0.8763779946486429\n"
     ]
    },
    {
     "name": "stderr",
     "output_type": "stream",
     "text": [
      "\u001b[32m[I 2023-01-16 09:03:23,328]\u001b[0m Trial 450 finished with value: 0.888497680247997 and parameters: {'max_depth': 6, 'n_estimators': 96, 'eta': 0.1029573127350313, 'subsample': 0.5715169457812131, 'colsample_bytree': 0.6065072921146679, 'reg_lambda': 27.707344036213513}. Best is trial 311 with value: 0.9077621616088283.\u001b[0m\n"
     ]
    },
    {
     "name": "stdout",
     "output_type": "stream",
     "text": [
      "0.888497680247997\n"
     ]
    },
    {
     "name": "stderr",
     "output_type": "stream",
     "text": [
      "\u001b[32m[I 2023-01-16 09:03:24,171]\u001b[0m Trial 451 finished with value: 0.8865385690339204 and parameters: {'max_depth': 8, 'n_estimators': 50, 'eta': 0.11090199074330227, 'subsample': 0.5691910799076784, 'colsample_bytree': 0.5760431393496479, 'reg_lambda': 35.200653873425345}. Best is trial 311 with value: 0.9077621616088283.\u001b[0m\n"
     ]
    },
    {
     "name": "stdout",
     "output_type": "stream",
     "text": [
      "0.8865385690339204\n"
     ]
    },
    {
     "name": "stderr",
     "output_type": "stream",
     "text": [
      "\u001b[32m[I 2023-01-16 09:03:25,538]\u001b[0m Trial 452 finished with value: 0.875838548762608 and parameters: {'max_depth': 7, 'n_estimators': 92, 'eta': 0.0410690819502964, 'subsample': 0.8226883626870172, 'colsample_bytree': 0.5505739362136473, 'reg_lambda': 26.68546242383393}. Best is trial 311 with value: 0.9077621616088283.\u001b[0m\n"
     ]
    },
    {
     "name": "stdout",
     "output_type": "stream",
     "text": [
      "0.875838548762608\n"
     ]
    },
    {
     "name": "stderr",
     "output_type": "stream",
     "text": [
      "\u001b[32m[I 2023-01-16 09:03:27,045]\u001b[0m Trial 453 finished with value: 0.8822317569974751 and parameters: {'max_depth': 7, 'n_estimators': 98, 'eta': 0.1075573330537839, 'subsample': 0.585237454455455, 'colsample_bytree': 0.5926680121988623, 'reg_lambda': 36.80670844539368}. Best is trial 311 with value: 0.9077621616088283.\u001b[0m\n"
     ]
    },
    {
     "name": "stdout",
     "output_type": "stream",
     "text": [
      "0.8822317569974751\n"
     ]
    },
    {
     "name": "stderr",
     "output_type": "stream",
     "text": [
      "\u001b[32m[I 2023-01-16 09:03:27,850]\u001b[0m Trial 454 finished with value: 0.8819064731485928 and parameters: {'max_depth': 7, 'n_estimators': 95, 'eta': 0.10925825652911057, 'subsample': 0.6152417249654073, 'colsample_bytree': 0.6146268728541124, 'reg_lambda': 22.827269565865937}. Best is trial 311 with value: 0.9077621616088283.\u001b[0m\n"
     ]
    },
    {
     "name": "stdout",
     "output_type": "stream",
     "text": [
      "0.8819064731485928\n"
     ]
    },
    {
     "name": "stderr",
     "output_type": "stream",
     "text": [
      "\u001b[32m[I 2023-01-16 09:03:28,474]\u001b[0m Trial 455 finished with value: 0.8871473818690958 and parameters: {'max_depth': 5, 'n_estimators': 93, 'eta': 0.061573761062228644, 'subsample': 0.5593498049858994, 'colsample_bytree': 0.6550220397840454, 'reg_lambda': 23.936812145166126}. Best is trial 311 with value: 0.9077621616088283.\u001b[0m\n"
     ]
    },
    {
     "name": "stdout",
     "output_type": "stream",
     "text": [
      "0.8871473818690958\n"
     ]
    },
    {
     "name": "stderr",
     "output_type": "stream",
     "text": [
      "\u001b[32m[I 2023-01-16 09:03:29,814]\u001b[0m Trial 456 finished with value: 0.8874625637350936 and parameters: {'max_depth': 6, 'n_estimators': 100, 'eta': 0.1049483910965811, 'subsample': 0.4870812398556282, 'colsample_bytree': 0.7030676611809925, 'reg_lambda': 22.22566009895605}. Best is trial 311 with value: 0.9077621616088283.\u001b[0m\n"
     ]
    },
    {
     "name": "stdout",
     "output_type": "stream",
     "text": [
      "0.8874625637350936\n"
     ]
    },
    {
     "name": "stderr",
     "output_type": "stream",
     "text": [
      "\u001b[32m[I 2023-01-16 09:03:31,304]\u001b[0m Trial 457 finished with value: 0.8879710302069492 and parameters: {'max_depth': 8, 'n_estimators': 94, 'eta': 0.05880376591085456, 'subsample': 0.6024225742795768, 'colsample_bytree': 0.5636501466439569, 'reg_lambda': 6.6566441457743135}. Best is trial 311 with value: 0.9077621616088283.\u001b[0m\n"
     ]
    },
    {
     "name": "stdout",
     "output_type": "stream",
     "text": [
      "0.8879710302069492\n"
     ]
    },
    {
     "name": "stderr",
     "output_type": "stream",
     "text": [
      "\u001b[32m[I 2023-01-16 09:03:32,098]\u001b[0m Trial 458 finished with value: 0.8806063479513515 and parameters: {'max_depth': 7, 'n_estimators': 51, 'eta': 0.10159523749899571, 'subsample': 0.5223045734837178, 'colsample_bytree': 0.5404585565105791, 'reg_lambda': 25.51343934791209}. Best is trial 311 with value: 0.9077621616088283.\u001b[0m\n"
     ]
    },
    {
     "name": "stdout",
     "output_type": "stream",
     "text": [
      "0.8806063479513515\n"
     ]
    },
    {
     "name": "stderr",
     "output_type": "stream",
     "text": [
      "\u001b[32m[I 2023-01-16 09:03:32,912]\u001b[0m Trial 459 finished with value: 0.8854307182442483 and parameters: {'max_depth': 19, 'n_estimators': 47, 'eta': 0.11293147676075663, 'subsample': 0.4655949737836489, 'colsample_bytree': 0.639465177966488, 'reg_lambda': 32.64964509984365}. Best is trial 311 with value: 0.9077621616088283.\u001b[0m\n"
     ]
    },
    {
     "name": "stdout",
     "output_type": "stream",
     "text": [
      "0.8854307182442483\n"
     ]
    },
    {
     "name": "stderr",
     "output_type": "stream",
     "text": [
      "\u001b[32m[I 2023-01-16 09:03:34,335]\u001b[0m Trial 460 finished with value: 0.8920219253436528 and parameters: {'max_depth': 9, 'n_estimators': 90, 'eta': 0.10672964617480636, 'subsample': 0.5414483916819645, 'colsample_bytree': 0.5863071974915387, 'reg_lambda': 24.688728106121314}. Best is trial 311 with value: 0.9077621616088283.\u001b[0m\n"
     ]
    },
    {
     "name": "stdout",
     "output_type": "stream",
     "text": [
      "0.8920219253436528\n"
     ]
    },
    {
     "name": "stderr",
     "output_type": "stream",
     "text": [
      "\u001b[32m[I 2023-01-16 09:03:35,755]\u001b[0m Trial 461 finished with value: 0.890563199015124 and parameters: {'max_depth': 8, 'n_estimators': 96, 'eta': 0.11065703926389234, 'subsample': 0.6330898296520844, 'colsample_bytree': 0.5250030731507853, 'reg_lambda': 21.89618122067975}. Best is trial 311 with value: 0.9077621616088283.\u001b[0m\n"
     ]
    },
    {
     "name": "stdout",
     "output_type": "stream",
     "text": [
      "0.890563199015124\n"
     ]
    },
    {
     "name": "stderr",
     "output_type": "stream",
     "text": [
      "\u001b[32m[I 2023-01-16 09:03:37,002]\u001b[0m Trial 462 finished with value: 0.8856829310835992 and parameters: {'max_depth': 6, 'n_estimators': 89, 'eta': 0.10814786828133753, 'subsample': 0.585071060701359, 'colsample_bytree': 0.6025490895820076, 'reg_lambda': 25.95961580617533}. Best is trial 311 with value: 0.9077621616088283.\u001b[0m\n"
     ]
    },
    {
     "name": "stdout",
     "output_type": "stream",
     "text": [
      "0.8856829310835992\n"
     ]
    },
    {
     "name": "stderr",
     "output_type": "stream",
     "text": [
      "\u001b[32m[I 2023-01-16 09:03:38,357]\u001b[0m Trial 463 finished with value: 0.8967483064025694 and parameters: {'max_depth': 7, 'n_estimators': 95, 'eta': 0.10347281717545188, 'subsample': 0.6114569941896355, 'colsample_bytree': 0.5666806152734385, 'reg_lambda': 23.39541888065484}. Best is trial 311 with value: 0.9077621616088283.\u001b[0m\n"
     ]
    },
    {
     "name": "stdout",
     "output_type": "stream",
     "text": [
      "0.8967483064025694\n"
     ]
    },
    {
     "name": "stderr",
     "output_type": "stream",
     "text": [
      "\u001b[32m[I 2023-01-16 09:03:39,025]\u001b[0m Trial 464 finished with value: 0.8818317184752471 and parameters: {'max_depth': 7, 'n_estimators': 95, 'eta': 0.10291776598623514, 'subsample': 0.6099073403964973, 'colsample_bytree': 0.5682424032119696, 'reg_lambda': 23.764314241449966}. Best is trial 311 with value: 0.9077621616088283.\u001b[0m\n"
     ]
    },
    {
     "name": "stdout",
     "output_type": "stream",
     "text": [
      "0.8818317184752471\n"
     ]
    },
    {
     "name": "stderr",
     "output_type": "stream",
     "text": [
      "\u001b[32m[I 2023-01-16 09:03:39,863]\u001b[0m Trial 465 finished with value: 0.8120010883202895 and parameters: {'max_depth': 7, 'n_estimators': 97, 'eta': 0.010259013055890005, 'subsample': 0.5764314548422106, 'colsample_bytree': 0.5545638393803821, 'reg_lambda': 34.30489492625576}. Best is trial 311 with value: 0.9077621616088283.\u001b[0m\n"
     ]
    },
    {
     "name": "stdout",
     "output_type": "stream",
     "text": [
      "0.8120010883202895\n"
     ]
    },
    {
     "name": "stderr",
     "output_type": "stream",
     "text": [
      "\u001b[32m[I 2023-01-16 09:03:41,207]\u001b[0m Trial 466 finished with value: 0.8961576771365862 and parameters: {'max_depth': 7, 'n_estimators': 93, 'eta': 0.09999642964665185, 'subsample': 0.5954887457445451, 'colsample_bytree': 0.5819078212992718, 'reg_lambda': 28.794218371170153}. Best is trial 311 with value: 0.9077621616088283.\u001b[0m\n"
     ]
    },
    {
     "name": "stdout",
     "output_type": "stream",
     "text": [
      "0.8961576771365862\n"
     ]
    },
    {
     "name": "stderr",
     "output_type": "stream",
     "text": [
      "\u001b[32m[I 2023-01-16 09:03:42,488]\u001b[0m Trial 467 finished with value: 0.8830008546277519 and parameters: {'max_depth': 7, 'n_estimators': 92, 'eta': 0.09869610794870941, 'subsample': 0.5991082710111296, 'colsample_bytree': 0.5900092853382216, 'reg_lambda': 29.047968143812845}. Best is trial 311 with value: 0.9077621616088283.\u001b[0m\n"
     ]
    },
    {
     "name": "stdout",
     "output_type": "stream",
     "text": [
      "0.8830008546277519\n"
     ]
    },
    {
     "name": "stderr",
     "output_type": "stream",
     "text": [
      "\u001b[32m[I 2023-01-16 09:03:43,129]\u001b[0m Trial 468 finished with value: 0.9066398313103551 and parameters: {'max_depth': 7, 'n_estimators': 94, 'eta': 0.10022160913120612, 'subsample': 0.62918410072972, 'colsample_bytree': 0.6206600890852433, 'reg_lambda': 28.991300138002234}. Best is trial 311 with value: 0.9077621616088283.\u001b[0m\n"
     ]
    },
    {
     "name": "stdout",
     "output_type": "stream",
     "text": [
      "0.9066398313103551\n"
     ]
    },
    {
     "name": "stderr",
     "output_type": "stream",
     "text": [
      "\u001b[32m[I 2023-01-16 09:03:44,268]\u001b[0m Trial 469 finished with value: 0.8837127076883499 and parameters: {'max_depth': 7, 'n_estimators': 93, 'eta': 0.10071116355096323, 'subsample': 0.6269560759397657, 'colsample_bytree': 0.6296306143904932, 'reg_lambda': 28.685855759240052}. Best is trial 311 with value: 0.9077621616088283.\u001b[0m\n"
     ]
    },
    {
     "name": "stdout",
     "output_type": "stream",
     "text": [
      "0.8837127076883499\n"
     ]
    },
    {
     "name": "stderr",
     "output_type": "stream",
     "text": [
      "\u001b[32m[I 2023-01-16 09:03:45,515]\u001b[0m Trial 470 finished with value: 0.8857297369376311 and parameters: {'max_depth': 6, 'n_estimators': 93, 'eta': 0.09836122185856537, 'subsample': 0.6494520716303007, 'colsample_bytree': 0.6232742188162607, 'reg_lambda': 27.673722011878958}. Best is trial 311 with value: 0.9077621616088283.\u001b[0m\n"
     ]
    },
    {
     "name": "stdout",
     "output_type": "stream",
     "text": [
      "0.8857297369376311\n"
     ]
    },
    {
     "name": "stderr",
     "output_type": "stream",
     "text": [
      "\u001b[32m[I 2023-01-16 09:03:46,810]\u001b[0m Trial 471 finished with value: 0.8824189804136022 and parameters: {'max_depth': 7, 'n_estimators': 91, 'eta': 0.10082974899929555, 'subsample': 0.6195242159774765, 'colsample_bytree': 0.6465073280632914, 'reg_lambda': 30.283481046795483}. Best is trial 311 with value: 0.9077621616088283.\u001b[0m\n"
     ]
    },
    {
     "name": "stdout",
     "output_type": "stream",
     "text": [
      "0.8824189804136022\n"
     ]
    },
    {
     "name": "stderr",
     "output_type": "stream",
     "text": [
      "\u001b[32m[I 2023-01-16 09:03:48,148]\u001b[0m Trial 472 finished with value: 0.8785910023658844 and parameters: {'max_depth': 7, 'n_estimators': 94, 'eta': 0.10218733869657133, 'subsample': 0.6097517066337477, 'colsample_bytree': 0.6114180476595509, 'reg_lambda': 29.061917796001552}. Best is trial 311 with value: 0.9077621616088283.\u001b[0m\n"
     ]
    },
    {
     "name": "stdout",
     "output_type": "stream",
     "text": [
      "0.8785910023658844\n"
     ]
    },
    {
     "name": "stderr",
     "output_type": "stream",
     "text": [
      "\u001b[32m[I 2023-01-16 09:03:48,775]\u001b[0m Trial 473 finished with value: 0.8835759941866456 and parameters: {'max_depth': 6, 'n_estimators': 95, 'eta': 0.09933801173358106, 'subsample': 0.5925985052455358, 'colsample_bytree': 0.6614979572184972, 'reg_lambda': 29.900510893570107}. Best is trial 311 with value: 0.9077621616088283.\u001b[0m\n"
     ]
    },
    {
     "name": "stdout",
     "output_type": "stream",
     "text": [
      "0.8835759941866456\n"
     ]
    },
    {
     "name": "stderr",
     "output_type": "stream",
     "text": [
      "\u001b[32m[I 2023-01-16 09:03:49,431]\u001b[0m Trial 474 finished with value: 0.8835147088238127 and parameters: {'max_depth': 6, 'n_estimators': 91, 'eta': 0.09686858904278074, 'subsample': 0.645280119380365, 'colsample_bytree': 0.6034534165002313, 'reg_lambda': 28.184448426831057}. Best is trial 311 with value: 0.9077621616088283.\u001b[0m\n"
     ]
    },
    {
     "name": "stdout",
     "output_type": "stream",
     "text": [
      "0.8835147088238127\n"
     ]
    },
    {
     "name": "stderr",
     "output_type": "stream",
     "text": [
      "\u001b[32m[I 2023-01-16 09:03:50,796]\u001b[0m Trial 475 finished with value: 0.8897328160220143 and parameters: {'max_depth': 7, 'n_estimators': 90, 'eta': 0.10360460450984268, 'subsample': 0.6231832255009956, 'colsample_bytree': 0.5839729568439522, 'reg_lambda': 28.398944761421035}. Best is trial 311 with value: 0.9077621616088283.\u001b[0m\n"
     ]
    },
    {
     "name": "stdout",
     "output_type": "stream",
     "text": [
      "0.8897328160220143\n"
     ]
    },
    {
     "name": "stderr",
     "output_type": "stream",
     "text": [
      "\u001b[32m[I 2023-01-16 09:03:52,250]\u001b[0m Trial 476 finished with value: 0.8928368186296728 and parameters: {'max_depth': 7, 'n_estimators': 95, 'eta': 0.10130020153133178, 'subsample': 0.6599037062843841, 'colsample_bytree': 0.613423148142477, 'reg_lambda': 27.224729242016863}. Best is trial 311 with value: 0.9077621616088283.\u001b[0m\n"
     ]
    },
    {
     "name": "stdout",
     "output_type": "stream",
     "text": [
      "0.8928368186296728\n"
     ]
    },
    {
     "name": "stderr",
     "output_type": "stream",
     "text": [
      "\u001b[32m[I 2023-01-16 09:03:53,584]\u001b[0m Trial 477 finished with value: 0.8703208457110684 and parameters: {'max_depth': 7, 'n_estimators': 89, 'eta': 0.10439905327614499, 'subsample': 0.6044664206675976, 'colsample_bytree': 0.6325518599820255, 'reg_lambda': 26.962224463326116}. Best is trial 311 with value: 0.9077621616088283.\u001b[0m\n"
     ]
    },
    {
     "name": "stdout",
     "output_type": "stream",
     "text": [
      "0.8703208457110684\n"
     ]
    },
    {
     "name": "stderr",
     "output_type": "stream",
     "text": [
      "\u001b[32m[I 2023-01-16 09:03:54,918]\u001b[0m Trial 478 finished with value: 0.8983208484049306 and parameters: {'max_depth': 7, 'n_estimators': 93, 'eta': 0.09927369233507104, 'subsample': 0.5884620313185233, 'colsample_bytree': 0.5928771683017732, 'reg_lambda': 29.442508754459467}. Best is trial 311 with value: 0.9077621616088283.\u001b[0m\n"
     ]
    },
    {
     "name": "stdout",
     "output_type": "stream",
     "text": [
      "0.8983208484049306\n"
     ]
    },
    {
     "name": "stderr",
     "output_type": "stream",
     "text": [
      "\u001b[32m[I 2023-01-16 09:03:56,281]\u001b[0m Trial 479 finished with value: 0.8911305937204728 and parameters: {'max_depth': 7, 'n_estimators': 87, 'eta': 0.09748788412950313, 'subsample': 0.6361070306745737, 'colsample_bytree': 0.6028400729514001, 'reg_lambda': 26.351595126333677}. Best is trial 311 with value: 0.9077621616088283.\u001b[0m\n"
     ]
    },
    {
     "name": "stdout",
     "output_type": "stream",
     "text": [
      "0.8911305937204728\n"
     ]
    },
    {
     "name": "stderr",
     "output_type": "stream",
     "text": [
      "\u001b[32m[I 2023-01-16 09:03:57,596]\u001b[0m Trial 480 finished with value: 0.8867864043473547 and parameters: {'max_depth': 6, 'n_estimators': 92, 'eta': 0.10434428019631929, 'subsample': 0.5873651806019995, 'colsample_bytree': 0.623292015460118, 'reg_lambda': 31.333686210554827}. Best is trial 311 with value: 0.9077621616088283.\u001b[0m\n"
     ]
    },
    {
     "name": "stdout",
     "output_type": "stream",
     "text": [
      "0.8867864043473547\n"
     ]
    },
    {
     "name": "stderr",
     "output_type": "stream",
     "text": [
      "\u001b[32m[I 2023-01-16 09:03:58,959]\u001b[0m Trial 481 finished with value: 0.8919384156184738 and parameters: {'max_depth': 7, 'n_estimators': 95, 'eta': 0.10547235950475785, 'subsample': 0.6131414410725844, 'colsample_bytree': 0.5990160215536048, 'reg_lambda': 30.428740005310733}. Best is trial 311 with value: 0.9077621616088283.\u001b[0m\n"
     ]
    },
    {
     "name": "stdout",
     "output_type": "stream",
     "text": [
      "0.8919384156184738\n"
     ]
    },
    {
     "name": "stderr",
     "output_type": "stream",
     "text": [
      "\u001b[32m[I 2023-01-16 09:04:00,523]\u001b[0m Trial 482 finished with value: 0.8826977951412155 and parameters: {'max_depth': 8, 'n_estimators': 97, 'eta': 0.10323554661961214, 'subsample': 0.5743346100738401, 'colsample_bytree': 0.6727699896845958, 'reg_lambda': 29.652633587845905}. Best is trial 311 with value: 0.9077621616088283.\u001b[0m\n"
     ]
    },
    {
     "name": "stdout",
     "output_type": "stream",
     "text": [
      "0.8826977951412155\n"
     ]
    },
    {
     "name": "stderr",
     "output_type": "stream",
     "text": [
      "\u001b[32m[I 2023-01-16 09:04:02,108]\u001b[0m Trial 483 finished with value: 0.8921387716123506 and parameters: {'max_depth': 15, 'n_estimators': 90, 'eta': 0.10169927143508191, 'subsample': 0.4338521354159283, 'colsample_bytree': 0.6422580963259477, 'reg_lambda': 27.792838060931516}. Best is trial 311 with value: 0.9077621616088283.\u001b[0m\n"
     ]
    },
    {
     "name": "stdout",
     "output_type": "stream",
     "text": [
      "0.8921387716123506\n"
     ]
    },
    {
     "name": "stderr",
     "output_type": "stream",
     "text": [
      "\u001b[32m[I 2023-01-16 09:04:03,502]\u001b[0m Trial 484 finished with value: 0.8902305070454596 and parameters: {'max_depth': 7, 'n_estimators': 94, 'eta': 0.09871718227070175, 'subsample': 0.6923020523493744, 'colsample_bytree': 0.5757170382028993, 'reg_lambda': 27.10587006798326}. Best is trial 311 with value: 0.9077621616088283.\u001b[0m\n"
     ]
    },
    {
     "name": "stdout",
     "output_type": "stream",
     "text": [
      "0.8902305070454596\n"
     ]
    },
    {
     "name": "stderr",
     "output_type": "stream",
     "text": [
      "\u001b[32m[I 2023-01-16 09:04:04,592]\u001b[0m Trial 485 finished with value: 0.8828809777641888 and parameters: {'max_depth': 6, 'n_estimators': 88, 'eta': 0.09583276071389663, 'subsample': 0.5502384031370526, 'colsample_bytree': 0.18738240630067715, 'reg_lambda': 33.13379076623405}. Best is trial 311 with value: 0.9077621616088283.\u001b[0m\n"
     ]
    },
    {
     "name": "stdout",
     "output_type": "stream",
     "text": [
      "0.8828809777641888\n"
     ]
    },
    {
     "name": "stderr",
     "output_type": "stream",
     "text": [
      "\u001b[32m[I 2023-01-16 09:04:06,004]\u001b[0m Trial 486 finished with value: 0.8933001629113106 and parameters: {'max_depth': 7, 'n_estimators': 92, 'eta': 0.10585277220147285, 'subsample': 0.4002119748369015, 'colsample_bytree': 0.5883531480685608, 'reg_lambda': 29.331206727196335}. Best is trial 311 with value: 0.9077621616088283.\u001b[0m\n"
     ]
    },
    {
     "name": "stdout",
     "output_type": "stream",
     "text": [
      "0.8933001629113106\n"
     ]
    },
    {
     "name": "stderr",
     "output_type": "stream",
     "text": [
      "\u001b[32m[I 2023-01-16 09:04:07,549]\u001b[0m Trial 487 finished with value: 0.8862456115302684 and parameters: {'max_depth': 8, 'n_estimators': 96, 'eta': 0.11104790463109811, 'subsample': 0.6254393820157796, 'colsample_bytree': 0.6064897333365062, 'reg_lambda': 31.366663868955257}. Best is trial 311 with value: 0.9077621616088283.\u001b[0m\n"
     ]
    },
    {
     "name": "stdout",
     "output_type": "stream",
     "text": [
      "0.8862456115302684\n"
     ]
    },
    {
     "name": "stderr",
     "output_type": "stream",
     "text": [
      "\u001b[32m[I 2023-01-16 09:04:08,667]\u001b[0m Trial 488 finished with value: 0.8857974202229575 and parameters: {'max_depth': 4, 'n_estimators': 98, 'eta': 0.1089928686529411, 'subsample': 0.5879488261281749, 'colsample_bytree': 0.5731356981866916, 'reg_lambda': 36.07493754460467}. Best is trial 311 with value: 0.9077621616088283.\u001b[0m\n"
     ]
    },
    {
     "name": "stdout",
     "output_type": "stream",
     "text": [
      "0.8857974202229575\n"
     ]
    },
    {
     "name": "stderr",
     "output_type": "stream",
     "text": [
      "\u001b[32m[I 2023-01-16 09:04:09,379]\u001b[0m Trial 489 finished with value: 0.8872450343703131 and parameters: {'max_depth': 7, 'n_estimators': 94, 'eta': 0.10602439542026837, 'subsample': 0.4474751525181748, 'colsample_bytree': 0.6185328175506527, 'reg_lambda': 16.539459843658463}. Best is trial 311 with value: 0.9077621616088283.\u001b[0m\n"
     ]
    },
    {
     "name": "stdout",
     "output_type": "stream",
     "text": [
      "0.8872450343703131\n"
     ]
    },
    {
     "name": "stderr",
     "output_type": "stream",
     "text": [
      "\u001b[32m[I 2023-01-16 09:04:09,975]\u001b[0m Trial 490 finished with value: 0.8790934076480093 and parameters: {'max_depth': 6, 'n_estimators': 87, 'eta': 0.10300312687739628, 'subsample': 0.41723097403797643, 'colsample_bytree': 0.5964951921583749, 'reg_lambda': 28.06569216892534}. Best is trial 311 with value: 0.9077621616088283.\u001b[0m\n"
     ]
    },
    {
     "name": "stdout",
     "output_type": "stream",
     "text": [
      "0.8790934076480093\n"
     ]
    },
    {
     "name": "stderr",
     "output_type": "stream",
     "text": [
      "\u001b[32m[I 2023-01-16 09:04:11,337]\u001b[0m Trial 491 finished with value: 0.8852879435528136 and parameters: {'max_depth': 7, 'n_estimators': 91, 'eta': 0.0997873858252175, 'subsample': 0.611052322831458, 'colsample_bytree': 0.5610685985203316, 'reg_lambda': 26.692638961306894}. Best is trial 311 with value: 0.9077621616088283.\u001b[0m\n"
     ]
    },
    {
     "name": "stdout",
     "output_type": "stream",
     "text": [
      "0.8852879435528136\n"
     ]
    },
    {
     "name": "stderr",
     "output_type": "stream",
     "text": [
      "\u001b[32m[I 2023-01-16 09:04:12,883]\u001b[0m Trial 492 finished with value: 0.8820731558661878 and parameters: {'max_depth': 7, 'n_estimators': 100, 'eta': 0.11279144687438593, 'subsample': 0.5697082711900071, 'colsample_bytree': 0.6473036355722689, 'reg_lambda': 33.98001578820457}. Best is trial 311 with value: 0.9077621616088283.\u001b[0m\n"
     ]
    },
    {
     "name": "stdout",
     "output_type": "stream",
     "text": [
      "0.8820731558661878\n"
     ]
    },
    {
     "name": "stderr",
     "output_type": "stream",
     "text": [
      "\u001b[32m[I 2023-01-16 09:04:13,552]\u001b[0m Trial 493 finished with value: 0.8911066856943127 and parameters: {'max_depth': 8, 'n_estimators': 85, 'eta': 0.1072301697398052, 'subsample': 0.6705997020167105, 'colsample_bytree': 0.5802349963572687, 'reg_lambda': 32.25684397728756}. Best is trial 311 with value: 0.9077621616088283.\u001b[0m\n"
     ]
    },
    {
     "name": "stdout",
     "output_type": "stream",
     "text": [
      "0.8911066856943127\n"
     ]
    },
    {
     "name": "stderr",
     "output_type": "stream",
     "text": [
      "\u001b[32m[I 2023-01-16 09:04:14,278]\u001b[0m Trial 494 finished with value: 0.8686109167414775 and parameters: {'max_depth': 16, 'n_estimators': 53, 'eta': 0.10938238414213357, 'subsample': 0.6350773074979431, 'colsample_bytree': 0.5396523195101328, 'reg_lambda': 25.74660728389422}. Best is trial 311 with value: 0.9077621616088283.\u001b[0m\n"
     ]
    },
    {
     "name": "stdout",
     "output_type": "stream",
     "text": [
      "0.8686109167414775\n"
     ]
    },
    {
     "name": "stderr",
     "output_type": "stream",
     "text": [
      "\u001b[32m[I 2023-01-16 09:04:16,321]\u001b[0m Trial 495 finished with value: 0.8786192879179612 and parameters: {'max_depth': 18, 'n_estimators': 96, 'eta': 0.11120845667460647, 'subsample': 0.595597989640973, 'colsample_bytree': 0.6173992350674631, 'reg_lambda': 30.75443005476108}. Best is trial 311 with value: 0.9077621616088283.\u001b[0m\n"
     ]
    },
    {
     "name": "stdout",
     "output_type": "stream",
     "text": [
      "0.8786192879179612\n"
     ]
    },
    {
     "name": "stderr",
     "output_type": "stream",
     "text": [
      "\u001b[32m[I 2023-01-16 09:04:17,876]\u001b[0m Trial 496 finished with value: 0.8852940047425444 and parameters: {'max_depth': 7, 'n_estimators': 90, 'eta': 0.10508341812566116, 'subsample': 0.4312322517277852, 'colsample_bytree': 0.5921855017089416, 'reg_lambda': 24.9014863941409}. Best is trial 311 with value: 0.9077621616088283.\u001b[0m\n"
     ]
    },
    {
     "name": "stdout",
     "output_type": "stream",
     "text": [
      "0.8852940047425444\n"
     ]
    },
    {
     "name": "stderr",
     "output_type": "stream",
     "text": [
      "\u001b[32m[I 2023-01-16 09:04:19,462]\u001b[0m Trial 497 finished with value: 0.8858954094569376 and parameters: {'max_depth': 7, 'n_estimators': 93, 'eta': 0.10250331001707735, 'subsample': 0.4104342725873044, 'colsample_bytree': 0.5698168643140685, 'reg_lambda': 27.414594714070304}. Best is trial 311 with value: 0.9077621616088283.\u001b[0m\n"
     ]
    },
    {
     "name": "stdout",
     "output_type": "stream",
     "text": [
      "0.8858954094569376\n"
     ]
    },
    {
     "name": "stderr",
     "output_type": "stream",
     "text": [
      "\u001b[32m[I 2023-01-16 09:04:19,953]\u001b[0m Trial 498 finished with value: 0.8894947459587017 and parameters: {'max_depth': 14, 'n_estimators': 54, 'eta': 0.10783725224003132, 'subsample': 0.45262654056750334, 'colsample_bytree': 0.5551758951673407, 'reg_lambda': 35.003321169641865}. Best is trial 311 with value: 0.9077621616088283.\u001b[0m\n"
     ]
    },
    {
     "name": "stdout",
     "output_type": "stream",
     "text": [
      "0.8894947459587017\n"
     ]
    },
    {
     "name": "stderr",
     "output_type": "stream",
     "text": [
      "\u001b[32m[I 2023-01-16 09:04:20,962]\u001b[0m Trial 499 finished with value: 0.8796853838450436 and parameters: {'max_depth': 6, 'n_estimators': 98, 'eta': 0.09704495281744974, 'subsample': 0.5517321246368255, 'colsample_bytree': 0.6277478881907272, 'reg_lambda': 2.160411323306743}. Best is trial 311 with value: 0.9077621616088283.\u001b[0m\n"
     ]
    },
    {
     "name": "stdout",
     "output_type": "stream",
     "text": [
      "0.8796853838450436\n"
     ]
    },
    {
     "name": "stderr",
     "output_type": "stream",
     "text": [
      "\u001b[32m[I 2023-01-16 09:04:22,394]\u001b[0m Trial 500 finished with value: 0.8950269285190426 and parameters: {'max_depth': 8, 'n_estimators': 88, 'eta': 0.110059713787027, 'subsample': 0.5820860994847122, 'colsample_bytree': 0.6004694178922652, 'reg_lambda': 28.602435177017796}. Best is trial 311 with value: 0.9077621616088283.\u001b[0m\n"
     ]
    },
    {
     "name": "stdout",
     "output_type": "stream",
     "text": [
      "0.8950269285190426\n"
     ]
    },
    {
     "name": "stderr",
     "output_type": "stream",
     "text": [
      "\u001b[32m[I 2023-01-16 09:04:23,246]\u001b[0m Trial 501 finished with value: 0.8741680175262668 and parameters: {'max_depth': 15, 'n_estimators': 52, 'eta': 0.03564661184368896, 'subsample': 0.6079574976916443, 'colsample_bytree': 0.5796953066442455, 'reg_lambda': 25.78503950921713}. Best is trial 311 with value: 0.9077621616088283.\u001b[0m\n"
     ]
    },
    {
     "name": "stdout",
     "output_type": "stream",
     "text": [
      "0.8741680175262668\n"
     ]
    },
    {
     "name": "stderr",
     "output_type": "stream",
     "text": [
      "\u001b[32m[I 2023-01-16 09:04:24,271]\u001b[0m Trial 502 finished with value: 0.8845781108887926 and parameters: {'max_depth': 16, 'n_estimators': 56, 'eta': 0.10082863590970217, 'subsample': 0.6400733617960598, 'colsample_bytree': 0.6871722647615586, 'reg_lambda': 24.545814353351123}. Best is trial 311 with value: 0.9077621616088283.\u001b[0m\n"
     ]
    },
    {
     "name": "stdout",
     "output_type": "stream",
     "text": [
      "0.8845781108887926\n"
     ]
    },
    {
     "name": "stderr",
     "output_type": "stream",
     "text": [
      "\u001b[32m[I 2023-01-16 09:04:26,054]\u001b[0m Trial 503 finished with value: 0.8737642749436478 and parameters: {'max_depth': 18, 'n_estimators': 92, 'eta': 0.11289971071404631, 'subsample': 0.6194145022080134, 'colsample_bytree': 0.6128100596706783, 'reg_lambda': 17.223697272172764}. Best is trial 311 with value: 0.9077621616088283.\u001b[0m\n"
     ]
    },
    {
     "name": "stdout",
     "output_type": "stream",
     "text": [
      "0.8737642749436478\n"
     ]
    },
    {
     "name": "stderr",
     "output_type": "stream",
     "text": [
      "\u001b[32m[I 2023-01-16 09:04:27,526]\u001b[0m Trial 504 finished with value: 0.887697266470778 and parameters: {'max_depth': 7, 'n_estimators': 95, 'eta': 0.10644163050330363, 'subsample': 0.5691038165228853, 'colsample_bytree': 0.6577573217768646, 'reg_lambda': 29.45356248240168}. Best is trial 311 with value: 0.9077621616088283.\u001b[0m\n"
     ]
    },
    {
     "name": "stdout",
     "output_type": "stream",
     "text": [
      "0.887697266470778\n"
     ]
    },
    {
     "name": "stderr",
     "output_type": "stream",
     "text": [
      "\u001b[32m[I 2023-01-16 09:04:28,236]\u001b[0m Trial 505 finished with value: 0.8912885213862345 and parameters: {'max_depth': 18, 'n_estimators': 97, 'eta': 0.10916208227939425, 'subsample': 0.394641387792115, 'colsample_bytree': 0.538770242975666, 'reg_lambda': 26.6973626837294}. Best is trial 311 with value: 0.9077621616088283.\u001b[0m\n"
     ]
    },
    {
     "name": "stdout",
     "output_type": "stream",
     "text": [
      "0.8912885213862345\n"
     ]
    },
    {
     "name": "stderr",
     "output_type": "stream",
     "text": [
      "\u001b[32m[I 2023-01-16 09:04:29,654]\u001b[0m Trial 506 finished with value: 0.887641705564913 and parameters: {'max_depth': 17, 'n_estimators': 89, 'eta': 0.10355562543655593, 'subsample': 0.4257680435742242, 'colsample_bytree': 0.717089438592334, 'reg_lambda': 33.4524837952151}. Best is trial 311 with value: 0.9077621616088283.\u001b[0m\n"
     ]
    },
    {
     "name": "stdout",
     "output_type": "stream",
     "text": [
      "0.887641705564913\n"
     ]
    },
    {
     "name": "stderr",
     "output_type": "stream",
     "text": [
      "\u001b[32m[I 2023-01-16 09:04:30,300]\u001b[0m Trial 507 finished with value: 0.8673700565104921 and parameters: {'max_depth': 7, 'n_estimators': 54, 'eta': 0.11118470401096045, 'subsample': 0.5944750460986215, 'colsample_bytree': 0.16224382362675777, 'reg_lambda': 27.53540951019608}. Best is trial 311 with value: 0.9077621616088283.\u001b[0m\n"
     ]
    },
    {
     "name": "stdout",
     "output_type": "stream",
     "text": [
      "0.8673700565104921\n"
     ]
    },
    {
     "name": "stderr",
     "output_type": "stream",
     "text": [
      "\u001b[32m[I 2023-01-16 09:04:31,947]\u001b[0m Trial 508 finished with value: 0.8910615635040949 and parameters: {'max_depth': 8, 'n_estimators': 100, 'eta': 0.10731355724016231, 'subsample': 0.657607599487323, 'colsample_bytree': 0.5659136232327651, 'reg_lambda': 18.27479639750163}. Best is trial 311 with value: 0.9077621616088283.\u001b[0m\n"
     ]
    },
    {
     "name": "stdout",
     "output_type": "stream",
     "text": [
      "0.8910615635040949\n"
     ]
    },
    {
     "name": "stderr",
     "output_type": "stream",
     "text": [
      "\u001b[32m[I 2023-01-16 09:04:33,180]\u001b[0m Trial 509 finished with value: 0.8729749733476018 and parameters: {'max_depth': 6, 'n_estimators': 86, 'eta': 0.0995979644049359, 'subsample': 0.558666057269628, 'colsample_bytree': 0.632515768751901, 'reg_lambda': 25.38270323568364}. Best is trial 311 with value: 0.9077621616088283.\u001b[0m\n"
     ]
    },
    {
     "name": "stdout",
     "output_type": "stream",
     "text": [
      "0.8729749733476018\n"
     ]
    },
    {
     "name": "stderr",
     "output_type": "stream",
     "text": [
      "\u001b[32m[I 2023-01-16 09:04:33,805]\u001b[0m Trial 510 finished with value: 0.8751081754000554 and parameters: {'max_depth': 7, 'n_estimators': 94, 'eta': 0.10554303072503783, 'subsample': 0.45362828651649, 'colsample_bytree': 0.5896766834839722, 'reg_lambda': 24.459037732443292}. Best is trial 311 with value: 0.9077621616088283.\u001b[0m\n"
     ]
    },
    {
     "name": "stdout",
     "output_type": "stream",
     "text": [
      "0.8751081754000554\n"
     ]
    },
    {
     "name": "stderr",
     "output_type": "stream",
     "text": [
      "\u001b[32m[I 2023-01-16 09:04:34,928]\u001b[0m Trial 511 finished with value: 0.8810444372757781 and parameters: {'max_depth': 16, 'n_estimators': 84, 'eta': 0.030901617050496932, 'subsample': 0.4998611556121546, 'colsample_bytree': 0.7833741586908287, 'reg_lambda': 23.133819214498654}. Best is trial 311 with value: 0.9077621616088283.\u001b[0m\n"
     ]
    },
    {
     "name": "stdout",
     "output_type": "stream",
     "text": [
      "0.8810444372757781\n"
     ]
    },
    {
     "name": "stderr",
     "output_type": "stream",
     "text": [
      "\u001b[32m[I 2023-01-16 09:04:35,892]\u001b[0m Trial 512 finished with value: 0.8615297634721728 and parameters: {'max_depth': 17, 'n_estimators': 55, 'eta': 0.1092015288111785, 'subsample': 0.6274593995942306, 'colsample_bytree': 0.5586354664223647, 'reg_lambda': 32.634718747477976}. Best is trial 311 with value: 0.9077621616088283.\u001b[0m\n"
     ]
    },
    {
     "name": "stdout",
     "output_type": "stream",
     "text": [
      "0.8615297634721728\n"
     ]
    },
    {
     "name": "stderr",
     "output_type": "stream",
     "text": [
      "\u001b[33m[W 2023-01-16 09:04:36,951]\u001b[0m Trial 513 failed because of the following error: KeyboardInterrupt()\u001b[0m\n",
      "Traceback (most recent call last):\n",
      "  File \"D:\\source\\repos\\venv\\Python310\\lib\\site-packages\\optuna\\study\\_optimize.py\", line 196, in _run_trial\n",
      "    value_or_values = func(trial)\n",
      "  File \"C:\\Users\\ryans\\AppData\\Local\\Temp\\ipykernel_42812\\160111865.py\", line 25, in xgb_objective\n",
      "    reg.fit(X_train, y_train, eval_set=[(X_valid, y_valid)], verbose=False)\n",
      "  File \"D:\\source\\repos\\venv\\Python310\\lib\\site-packages\\xgboost\\core.py\", line 620, in inner_f\n",
      "    return func(**kwargs)\n",
      "  File \"D:\\source\\repos\\venv\\Python310\\lib\\site-packages\\xgboost\\sklearn.py\", line 1025, in fit\n",
      "    self._Booster = train(\n",
      "  File \"D:\\source\\repos\\venv\\Python310\\lib\\site-packages\\xgboost\\core.py\", line 620, in inner_f\n",
      "    return func(**kwargs)\n",
      "  File \"D:\\source\\repos\\venv\\Python310\\lib\\site-packages\\xgboost\\training.py\", line 186, in train\n",
      "    if cb_container.after_iteration(bst, i, dtrain, evals):\n",
      "  File \"D:\\source\\repos\\venv\\Python310\\lib\\site-packages\\xgboost\\callback.py\", line 240, in after_iteration\n",
      "    score: str = model.eval_set(evals, epoch, self.metric, self._output_margin)\n",
      "  File \"D:\\source\\repos\\venv\\Python310\\lib\\site-packages\\xgboost\\core.py\", line 1989, in eval_set\n",
      "    _LIB.XGBoosterEvalOneIter(\n",
      "KeyboardInterrupt\n",
      "\n",
      "KeyboardInterrupt\n",
      "\n"
     ]
    }
   ],
   "source": [
    "xgb_ranks = {}\n",
    "    \n",
    "train_time = 1 * 60 * 60\n",
    "study = optuna.create_study(direction='maximize', sampler=TPESampler(), study_name='XGBRegressor')\n",
    "study.optimize(xgb_objective, timeout=train_time)"
   ]
  },
  {
   "cell_type": "code",
   "execution_count": 10,
   "id": "0cb0354c-157a-4333-a044-4161bfb81315",
   "metadata": {
    "tags": []
   },
   "outputs": [],
   "source": [
    "xgb_ranks_bytes = pickle.dumps(xgb_ranks)\n",
    "with open(\"rendered_data/xgb_clsfs_bytes.hex\", \"wb\") as binary_file:\n",
    "    binary_file.write(xgb_ranks_bytes)"
   ]
  },
  {
   "cell_type": "code",
   "execution_count": 11,
   "id": "fff5efd3-6c31-4cf4-9bb3-649cf355a273",
   "metadata": {},
   "outputs": [
    {
     "name": "stderr",
     "output_type": "stream",
     "text": [
      "100%|██████████████████████████████████████████████████████████████████████████████████| 52/52 [00:01<00:00, 45.27it/s]\n"
     ]
    }
   ],
   "source": [
    "percent = math.ceil(len(xgb_ranks.keys()) * .1)\n",
    "top = sorted(list(xgb_ranks.keys()))[-percent:]\n",
    "\n",
    "train_preds = []\n",
    "test_preds = []\n",
    "for key in tqdm(top):\n",
    "    train_preds.append(xgb_ranks[key].predict(X))\n",
    "    test_preds.append(xgb_ranks[key].predict(X_test))\n",
    "    \n",
    "train_final_preds = np.stack(train_preds).mean(0)\n",
    "test_final_preds = np.stack(test_preds).mean(0)"
   ]
  },
  {
   "cell_type": "code",
   "execution_count": 12,
   "id": "6a849ba6-0559-42be-88da-2b5f6738d4f1",
   "metadata": {},
   "outputs": [],
   "source": [
    "XGB_train_submission = pd.DataFrame(data={'id': train_df.id, 'stroke': train_final_preds})\n",
    "XGB_train_submission.to_csv(fr'rendered_data/XGB_train_submission.csv', index=False)\n",
    "\n",
    "XGB_test_submission = pd.DataFrame(data={'id': test_df.id, 'stroke': test_final_preds})\n",
    "XGB_test_submission.to_csv(fr'rendered_data/XGB_test_submission.csv', index=False)"
   ]
  },
  {
   "cell_type": "code",
   "execution_count": null,
   "id": "e39940d7-295b-4781-b008-0faa28ecb553",
   "metadata": {},
   "outputs": [],
   "source": []
  }
 ],
 "metadata": {
  "kernelspec": {
   "display_name": "Python 3 (ipykernel)",
   "language": "python",
   "name": "python3"
  },
  "language_info": {
   "codemirror_mode": {
    "name": "ipython",
    "version": 3
   },
   "file_extension": ".py",
   "mimetype": "text/x-python",
   "name": "python",
   "nbconvert_exporter": "python",
   "pygments_lexer": "ipython3",
   "version": "3.10.9"
  }
 },
 "nbformat": 4,
 "nbformat_minor": 5
}
