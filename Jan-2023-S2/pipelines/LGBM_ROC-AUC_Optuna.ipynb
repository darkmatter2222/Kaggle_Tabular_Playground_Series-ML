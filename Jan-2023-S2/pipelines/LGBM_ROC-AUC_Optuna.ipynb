{
 "cells": [
  {
   "cell_type": "code",
   "execution_count": 1,
   "id": "e3947631-8ceb-40f0-aa36-39be81d421c9",
   "metadata": {},
   "outputs": [],
   "source": [
    "import numpy as np\n",
    "import pandas as pd\n",
    "import math\n",
    "import sys, os\n",
    "#import seaborn as sns\n",
    "#from scipy import stats\n",
    "#from pathlib import Path\n",
    "#import matplotlib.pyplot as plt\n",
    "#from sklearn.model_selection import KFold\n",
    "from sklearn.preprocessing import MinMaxScaler\n",
    "from sklearn.model_selection import train_test_split\n",
    "#from sklearn.metrics import mean_squared_error\n",
    "#from sklearn.metrics import mean_squared_error\n",
    "#from sklearn.preprocessing import MinMaxScaler\n",
    "#from sklearn.datasets import fetch_california_housing\n",
    "#import math\n",
    "from tqdm import tqdm\n",
    "from sklearn.feature_extraction.text import CountVectorizer\n",
    "import optuna\n",
    "from optuna.samplers import TPESampler\n",
    "import lightgbm as lgbm\n",
    "#from xgboost import XGBRegressor\n",
    "#import xgboost as xgb\n",
    "#from catboost import CatBoostRegressor\n",
    "#from lightgbm.sklearn import LGBMRegressor\n",
    "#from sklearn.ensemble import RandomForestRegressor\n",
    "import pickle\n",
    "from sklearn.metrics import roc_curve, auc"
   ]
  },
  {
   "cell_type": "code",
   "execution_count": 2,
   "id": "e23a1b96-28b0-4d5e-bd31-ec92a21ec0c0",
   "metadata": {},
   "outputs": [],
   "source": [
    "sys.path.append(os.path.realpath('..'))"
   ]
  },
  {
   "cell_type": "code",
   "execution_count": 3,
   "id": "2d422a38-bb4a-41e6-826b-ed930e579ef7",
   "metadata": {},
   "outputs": [],
   "source": [
    "train_df = pd.read_csv(r\"D:\\source\\repos\\Kaggle_Tabular_Playground_Series-ML\\Jan-2023-S2\\data\\train.csv\")\n",
    "test_df = pd.read_csv(r\"D:\\source\\repos\\Kaggle_Tabular_Playground_Series-ML\\Jan-2023-S2\\data\\test.csv\")\n",
    "sample_sub = pd.read_csv(r\"D:\\source\\repos\\Kaggle_Tabular_Playground_Series-ML\\Jan-2023-S2\\data\\sample_submission.csv\")"
   ]
  },
  {
   "cell_type": "code",
   "execution_count": 4,
   "id": "2008307c-76b7-4383-8cff-b5e903387ad3",
   "metadata": {},
   "outputs": [],
   "source": [
    "columns_to_vectorize = ['gender', 'ever_married', 'work_type', 'Residence_type', 'smoking_status']\n",
    "for vector_target in columns_to_vectorize:\n",
    "    vectorizer = CountVectorizer()\n",
    "    vectorizer.fit_transform(train_df[vector_target])\n",
    "    train_df[f'{vector_target}_v'] = vectorizer.transform(train_df[vector_target]).toarray().argmax(axis=1)[:,None]\n",
    "    vectorizer.fit_transform(test_df[vector_target])\n",
    "    test_df[f'{vector_target}_v'] = vectorizer.transform(test_df[vector_target]).toarray().argmax(axis=1)[:,None]"
   ]
  },
  {
   "cell_type": "code",
   "execution_count": 5,
   "id": "6f66b2be-3e79-4dd9-b8aa-557d9a224168",
   "metadata": {},
   "outputs": [],
   "source": [
    "features = ['id', 'age', 'hypertension', 'heart_disease', 'avg_glucose_level', 'bmi', 'gender_v', 'ever_married_v', 'work_type_v', 'Residence_type_v', 'smoking_status_v']\n",
    "target = ['stroke']"
   ]
  },
  {
   "cell_type": "code",
   "execution_count": 6,
   "id": "15313b67-46f5-4eea-aad9-342011d64828",
   "metadata": {},
   "outputs": [],
   "source": [
    "scaler = MinMaxScaler().fit(train_df[features])\n",
    "X = scaler.transform(train_df[features])\n",
    "X_test = scaler.transform(test_df[features])\n",
    "\n",
    "scaler = MinMaxScaler().fit(train_df[target])\n",
    "Y = scaler.transform(train_df[target])"
   ]
  },
  {
   "cell_type": "code",
   "execution_count": 7,
   "id": "aae92819-a478-4a2f-be50-aae7b67553f4",
   "metadata": {},
   "outputs": [],
   "source": [
    "def lgbm_objective(trial):\n",
    "    # Split the train data for each trial.\n",
    "    X_train, X_valid, y_train, y_valid = train_test_split(X, Y, stratify=Y, test_size=0.4)\n",
    "\n",
    "    param_grid = {\n",
    "        'learning_rate': trial.suggest_float('learning_rate', 0.001, 0.1),\n",
    "        'max_depth': trial.suggest_int('max_depth', 100, 1000), \n",
    "        'num_leaves': trial.suggest_int('num_leaves', 100, 10000),\n",
    "        'colsample_bytree': trial.suggest_float('colsample_bytree', 0.1, 1),\n",
    "        'subsample': trial.suggest_float('subsample', 0.1, 1),\n",
    "        'subsample_freq': trial.suggest_int('subsample_freq', 1, 10), \n",
    "        'min_child_samples': trial.suggest_int('min_child_samples', 10, 1000), \n",
    "        'reg_lambda': trial.suggest_int('reg_lambda', 1, 100), \n",
    "        'n_estimators': trial.suggest_int('n_estimators', 10, 100000), \n",
    "    } \n",
    "    \n",
    "    clf = lgbm.LGBMRegressor(**param_grid, metric='AUC', random_state=1)\n",
    "    \n",
    "    clf.fit(X_train, y_train, eval_set=[(X_valid, y_valid)], callbacks=[lgbm.early_stopping(100, verbose=True)], verbose=False)\n",
    "    preds = clf.predict(X_valid)\n",
    "\n",
    "    fpr, tpr, _ = roc_curve(y_valid, preds)\n",
    "    roc_auc = auc(fpr, tpr)\n",
    "\n",
    "    lgbm_ranks[roc_auc] = clf\n",
    "\n",
    "    print(roc_auc)\n",
    "    return roc_auc"
   ]
  },
  {
   "cell_type": "code",
   "execution_count": 8,
   "id": "e62e714f-813c-4384-8040-55aa107906a2",
   "metadata": {
    "tags": []
   },
   "outputs": [
    {
     "name": "stderr",
     "output_type": "stream",
     "text": [
      "\u001b[32m[I 2023-01-16 08:39:44,317]\u001b[0m A new study created in memory with name: LGBMRegressor\u001b[0m\n",
      "D:\\source\\repos\\venv\\Python310\\lib\\site-packages\\sklearn\\utils\\validation.py:1141: DataConversionWarning: A column-vector y was passed when a 1d array was expected. Please change the shape of y to (n_samples, ), for example using ravel().\n",
      "  y = column_or_1d(y, warn=True)\n",
      "D:\\source\\repos\\venv\\Python310\\lib\\site-packages\\lightgbm\\sklearn.py:736: UserWarning: 'verbose' argument is deprecated and will be removed in a future release of LightGBM. Pass 'log_evaluation()' callback via 'callbacks' argument instead.\n",
      "  _log_warning(\"'verbose' argument is deprecated and will be removed in a future release of LightGBM. \"\n",
      "D:\\source\\repos\\venv\\Python310\\lib\\site-packages\\lightgbm\\basic.py:179: UserWarning: Converting column-vector to 1d array\n",
      "  _log_warning('Converting column-vector to 1d array')\n",
      "\u001b[32m[I 2023-01-16 08:39:44,525]\u001b[0m Trial 0 finished with value: 0.8640495347363417 and parameters: {'learning_rate': 0.07668966349862195, 'max_depth': 840, 'num_leaves': 527, 'colsample_bytree': 0.31509891909469057, 'subsample': 0.359057407016811, 'subsample_freq': 3, 'min_child_samples': 61, 'reg_lambda': 78, 'n_estimators': 39312}. Best is trial 0 with value: 0.8640495347363417.\u001b[0m\n"
     ]
    },
    {
     "name": "stdout",
     "output_type": "stream",
     "text": [
      "Training until validation scores don't improve for 100 rounds\n",
      "Early stopping, best iteration is:\n",
      "[67]\tvalid_0's auc: 0.86405\n",
      "0.8640495347363417\n"
     ]
    },
    {
     "name": "stderr",
     "output_type": "stream",
     "text": [
      "D:\\source\\repos\\venv\\Python310\\lib\\site-packages\\sklearn\\utils\\validation.py:1141: DataConversionWarning: A column-vector y was passed when a 1d array was expected. Please change the shape of y to (n_samples, ), for example using ravel().\n",
      "  y = column_or_1d(y, warn=True)\n",
      "D:\\source\\repos\\venv\\Python310\\lib\\site-packages\\lightgbm\\sklearn.py:736: UserWarning: 'verbose' argument is deprecated and will be removed in a future release of LightGBM. Pass 'log_evaluation()' callback via 'callbacks' argument instead.\n",
      "  _log_warning(\"'verbose' argument is deprecated and will be removed in a future release of LightGBM. \"\n",
      "D:\\source\\repos\\venv\\Python310\\lib\\site-packages\\lightgbm\\basic.py:179: UserWarning: Converting column-vector to 1d array\n",
      "  _log_warning('Converting column-vector to 1d array')\n",
      "\u001b[32m[I 2023-01-16 08:39:44,751]\u001b[0m Trial 1 finished with value: 0.8738797742812945 and parameters: {'learning_rate': 0.017494275788691796, 'max_depth': 532, 'num_leaves': 8586, 'colsample_bytree': 0.7099579203541757, 'subsample': 0.9693987005765833, 'subsample_freq': 4, 'min_child_samples': 469, 'reg_lambda': 30, 'n_estimators': 37909}. Best is trial 1 with value: 0.8738797742812945.\u001b[0m\n"
     ]
    },
    {
     "name": "stdout",
     "output_type": "stream",
     "text": [
      "Training until validation scores don't improve for 100 rounds\n",
      "Early stopping, best iteration is:\n",
      "[10]\tvalid_0's auc: 0.87388\n",
      "0.8738797742812945\n"
     ]
    },
    {
     "name": "stderr",
     "output_type": "stream",
     "text": [
      "D:\\source\\repos\\venv\\Python310\\lib\\site-packages\\sklearn\\utils\\validation.py:1141: DataConversionWarning: A column-vector y was passed when a 1d array was expected. Please change the shape of y to (n_samples, ), for example using ravel().\n",
      "  y = column_or_1d(y, warn=True)\n",
      "D:\\source\\repos\\venv\\Python310\\lib\\site-packages\\lightgbm\\sklearn.py:736: UserWarning: 'verbose' argument is deprecated and will be removed in a future release of LightGBM. Pass 'log_evaluation()' callback via 'callbacks' argument instead.\n",
      "  _log_warning(\"'verbose' argument is deprecated and will be removed in a future release of LightGBM. \"\n",
      "D:\\source\\repos\\venv\\Python310\\lib\\site-packages\\lightgbm\\basic.py:179: UserWarning: Converting column-vector to 1d array\n",
      "  _log_warning('Converting column-vector to 1d array')\n",
      "\u001b[32m[I 2023-01-16 08:39:44,943]\u001b[0m Trial 2 finished with value: 0.8195085452673221 and parameters: {'learning_rate': 0.05893979781523877, 'max_depth': 327, 'num_leaves': 3913, 'colsample_bytree': 0.7951121499953548, 'subsample': 0.2743273023172689, 'subsample_freq': 7, 'min_child_samples': 878, 'reg_lambda': 47, 'n_estimators': 56999}. Best is trial 1 with value: 0.8738797742812945.\u001b[0m\n",
      "D:\\source\\repos\\venv\\Python310\\lib\\site-packages\\sklearn\\utils\\validation.py:1141: DataConversionWarning: A column-vector y was passed when a 1d array was expected. Please change the shape of y to (n_samples, ), for example using ravel().\n",
      "  y = column_or_1d(y, warn=True)\n"
     ]
    },
    {
     "name": "stdout",
     "output_type": "stream",
     "text": [
      "Training until validation scores don't improve for 100 rounds\n",
      "Early stopping, best iteration is:\n",
      "[111]\tvalid_0's auc: 0.819509\n",
      "0.8195085452673221\n"
     ]
    },
    {
     "name": "stderr",
     "output_type": "stream",
     "text": [
      "D:\\source\\repos\\venv\\Python310\\lib\\site-packages\\lightgbm\\sklearn.py:736: UserWarning: 'verbose' argument is deprecated and will be removed in a future release of LightGBM. Pass 'log_evaluation()' callback via 'callbacks' argument instead.\n",
      "  _log_warning(\"'verbose' argument is deprecated and will be removed in a future release of LightGBM. \"\n",
      "D:\\source\\repos\\venv\\Python310\\lib\\site-packages\\lightgbm\\basic.py:179: UserWarning: Converting column-vector to 1d array\n",
      "  _log_warning('Converting column-vector to 1d array')\n",
      "\u001b[32m[I 2023-01-16 08:39:45,218]\u001b[0m Trial 3 finished with value: 0.8726661894040975 and parameters: {'learning_rate': 0.08573672569329237, 'max_depth': 242, 'num_leaves': 4607, 'colsample_bytree': 0.11260680666062106, 'subsample': 0.7902643153441303, 'subsample_freq': 2, 'min_child_samples': 993, 'reg_lambda': 94, 'n_estimators': 33598}. Best is trial 1 with value: 0.8738797742812945.\u001b[0m\n"
     ]
    },
    {
     "name": "stdout",
     "output_type": "stream",
     "text": [
      "Training until validation scores don't improve for 100 rounds\n",
      "Early stopping, best iteration is:\n",
      "[184]\tvalid_0's auc: 0.873194\n",
      "0.8726661894040975\n"
     ]
    },
    {
     "name": "stderr",
     "output_type": "stream",
     "text": [
      "D:\\source\\repos\\venv\\Python310\\lib\\site-packages\\sklearn\\utils\\validation.py:1141: DataConversionWarning: A column-vector y was passed when a 1d array was expected. Please change the shape of y to (n_samples, ), for example using ravel().\n",
      "  y = column_or_1d(y, warn=True)\n",
      "D:\\source\\repos\\venv\\Python310\\lib\\site-packages\\lightgbm\\sklearn.py:736: UserWarning: 'verbose' argument is deprecated and will be removed in a future release of LightGBM. Pass 'log_evaluation()' callback via 'callbacks' argument instead.\n",
      "  _log_warning(\"'verbose' argument is deprecated and will be removed in a future release of LightGBM. \"\n",
      "D:\\source\\repos\\venv\\Python310\\lib\\site-packages\\lightgbm\\basic.py:179: UserWarning: Converting column-vector to 1d array\n",
      "  _log_warning('Converting column-vector to 1d array')\n",
      "\u001b[32m[I 2023-01-16 08:39:45,434]\u001b[0m Trial 4 finished with value: 0.8410059015784012 and parameters: {'learning_rate': 0.07148019616279745, 'max_depth': 928, 'num_leaves': 5893, 'colsample_bytree': 0.4793062446082381, 'subsample': 0.3923319821025829, 'subsample_freq': 7, 'min_child_samples': 772, 'reg_lambda': 95, 'n_estimators': 53535}. Best is trial 1 with value: 0.8738797742812945.\u001b[0m\n"
     ]
    },
    {
     "name": "stdout",
     "output_type": "stream",
     "text": [
      "Training until validation scores don't improve for 100 rounds\n",
      "Early stopping, best iteration is:\n",
      "[60]\tvalid_0's auc: 0.841006\n",
      "0.8410059015784012\n"
     ]
    },
    {
     "name": "stderr",
     "output_type": "stream",
     "text": [
      "D:\\source\\repos\\venv\\Python310\\lib\\site-packages\\sklearn\\utils\\validation.py:1141: DataConversionWarning: A column-vector y was passed when a 1d array was expected. Please change the shape of y to (n_samples, ), for example using ravel().\n",
      "  y = column_or_1d(y, warn=True)\n",
      "D:\\source\\repos\\venv\\Python310\\lib\\site-packages\\lightgbm\\sklearn.py:736: UserWarning: 'verbose' argument is deprecated and will be removed in a future release of LightGBM. Pass 'log_evaluation()' callback via 'callbacks' argument instead.\n",
      "  _log_warning(\"'verbose' argument is deprecated and will be removed in a future release of LightGBM. \"\n",
      "D:\\source\\repos\\venv\\Python310\\lib\\site-packages\\lightgbm\\basic.py:179: UserWarning: Converting column-vector to 1d array\n",
      "  _log_warning('Converting column-vector to 1d array')\n"
     ]
    },
    {
     "name": "stdout",
     "output_type": "stream",
     "text": [
      "Training until validation scores don't improve for 100 rounds\n",
      "Early stopping, best iteration is:\n",
      "[54]\tvalid_0's auc: 0.882532\n",
      "0.882532122621909\n"
     ]
    },
    {
     "name": "stderr",
     "output_type": "stream",
     "text": [
      "\u001b[32m[I 2023-01-16 08:39:45,726]\u001b[0m Trial 5 finished with value: 0.882532122621909 and parameters: {'learning_rate': 0.03736337841436236, 'max_depth': 985, 'num_leaves': 9942, 'colsample_bytree': 0.45757156054322434, 'subsample': 0.4092111983439459, 'subsample_freq': 9, 'min_child_samples': 466, 'reg_lambda': 24, 'n_estimators': 29003}. Best is trial 5 with value: 0.882532122621909.\u001b[0m\n",
      "D:\\source\\repos\\venv\\Python310\\lib\\site-packages\\sklearn\\utils\\validation.py:1141: DataConversionWarning: A column-vector y was passed when a 1d array was expected. Please change the shape of y to (n_samples, ), for example using ravel().\n",
      "  y = column_or_1d(y, warn=True)\n",
      "D:\\source\\repos\\venv\\Python310\\lib\\site-packages\\lightgbm\\sklearn.py:736: UserWarning: 'verbose' argument is deprecated and will be removed in a future release of LightGBM. Pass 'log_evaluation()' callback via 'callbacks' argument instead.\n",
      "  _log_warning(\"'verbose' argument is deprecated and will be removed in a future release of LightGBM. \"\n",
      "D:\\source\\repos\\venv\\Python310\\lib\\site-packages\\lightgbm\\basic.py:179: UserWarning: Converting column-vector to 1d array\n",
      "  _log_warning('Converting column-vector to 1d array')\n",
      "\u001b[32m[I 2023-01-16 08:39:45,938]\u001b[0m Trial 6 finished with value: 0.8847383956838941 and parameters: {'learning_rate': 0.05535305978948452, 'max_depth': 175, 'num_leaves': 7381, 'colsample_bytree': 0.2675319590341225, 'subsample': 0.8642299010022778, 'subsample_freq': 3, 'min_child_samples': 669, 'reg_lambda': 99, 'n_estimators': 99681}. Best is trial 6 with value: 0.8847383956838941.\u001b[0m\n",
      "D:\\source\\repos\\venv\\Python310\\lib\\site-packages\\sklearn\\utils\\validation.py:1141: DataConversionWarning: A column-vector y was passed when a 1d array was expected. Please change the shape of y to (n_samples, ), for example using ravel().\n",
      "  y = column_or_1d(y, warn=True)\n"
     ]
    },
    {
     "name": "stdout",
     "output_type": "stream",
     "text": [
      "Training until validation scores don't improve for 100 rounds\n",
      "Early stopping, best iteration is:\n",
      "[13]\tvalid_0's auc: 0.884738\n",
      "0.8847383956838941\n"
     ]
    },
    {
     "name": "stderr",
     "output_type": "stream",
     "text": [
      "D:\\source\\repos\\venv\\Python310\\lib\\site-packages\\lightgbm\\sklearn.py:736: UserWarning: 'verbose' argument is deprecated and will be removed in a future release of LightGBM. Pass 'log_evaluation()' callback via 'callbacks' argument instead.\n",
      "  _log_warning(\"'verbose' argument is deprecated and will be removed in a future release of LightGBM. \"\n",
      "D:\\source\\repos\\venv\\Python310\\lib\\site-packages\\lightgbm\\basic.py:179: UserWarning: Converting column-vector to 1d array\n",
      "  _log_warning('Converting column-vector to 1d array')\n",
      "\u001b[32m[I 2023-01-16 08:39:46,106]\u001b[0m Trial 7 finished with value: 0.8611600308985983 and parameters: {'learning_rate': 0.08590151504413959, 'max_depth': 651, 'num_leaves': 1641, 'colsample_bytree': 0.2696682745441702, 'subsample': 0.19820031983478908, 'subsample_freq': 3, 'min_child_samples': 341, 'reg_lambda': 33, 'n_estimators': 21318}. Best is trial 6 with value: 0.8847383956838941.\u001b[0m\n",
      "D:\\source\\repos\\venv\\Python310\\lib\\site-packages\\sklearn\\utils\\validation.py:1141: DataConversionWarning: A column-vector y was passed when a 1d array was expected. Please change the shape of y to (n_samples, ), for example using ravel().\n",
      "  y = column_or_1d(y, warn=True)\n",
      "D:\\source\\repos\\venv\\Python310\\lib\\site-packages\\lightgbm\\sklearn.py:736: UserWarning: 'verbose' argument is deprecated and will be removed in a future release of LightGBM. Pass 'log_evaluation()' callback via 'callbacks' argument instead.\n",
      "  _log_warning(\"'verbose' argument is deprecated and will be removed in a future release of LightGBM. \"\n",
      "D:\\source\\repos\\venv\\Python310\\lib\\site-packages\\lightgbm\\basic.py:179: UserWarning: Converting column-vector to 1d array\n",
      "  _log_warning('Converting column-vector to 1d array')\n"
     ]
    },
    {
     "name": "stdout",
     "output_type": "stream",
     "text": [
      "Training until validation scores don't improve for 100 rounds\n",
      "Early stopping, best iteration is:\n",
      "[70]\tvalid_0's auc: 0.86116\n",
      "0.8611600308985983\n",
      "Training until validation scores don't improve for 100 rounds\n",
      "Early stopping, best iteration is:\n",
      "[1]\tvalid_0's auc: 0.5\n"
     ]
    },
    {
     "name": "stderr",
     "output_type": "stream",
     "text": [
      "\u001b[32m[I 2023-01-16 08:39:46,224]\u001b[0m Trial 8 finished with value: 0.5 and parameters: {'learning_rate': 0.018921242280912638, 'max_depth': 595, 'num_leaves': 4854, 'colsample_bytree': 0.6434589638489929, 'subsample': 0.14412693274213464, 'subsample_freq': 8, 'min_child_samples': 800, 'reg_lambda': 22, 'n_estimators': 7112}. Best is trial 6 with value: 0.8847383956838941.\u001b[0m\n",
      "D:\\source\\repos\\venv\\Python310\\lib\\site-packages\\sklearn\\utils\\validation.py:1141: DataConversionWarning: A column-vector y was passed when a 1d array was expected. Please change the shape of y to (n_samples, ), for example using ravel().\n",
      "  y = column_or_1d(y, warn=True)\n",
      "D:\\source\\repos\\venv\\Python310\\lib\\site-packages\\lightgbm\\sklearn.py:736: UserWarning: 'verbose' argument is deprecated and will be removed in a future release of LightGBM. Pass 'log_evaluation()' callback via 'callbacks' argument instead.\n",
      "  _log_warning(\"'verbose' argument is deprecated and will be removed in a future release of LightGBM. \"\n",
      "D:\\source\\repos\\venv\\Python310\\lib\\site-packages\\lightgbm\\basic.py:179: UserWarning: Converting column-vector to 1d array\n",
      "  _log_warning('Converting column-vector to 1d array')\n"
     ]
    },
    {
     "name": "stdout",
     "output_type": "stream",
     "text": [
      "0.5\n",
      "Training until validation scores don't improve for 100 rounds\n"
     ]
    },
    {
     "name": "stderr",
     "output_type": "stream",
     "text": [
      "\u001b[32m[I 2023-01-16 08:39:46,463]\u001b[0m Trial 9 finished with value: 0.8723358545637727 and parameters: {'learning_rate': 0.09395027959490342, 'max_depth': 876, 'num_leaves': 7524, 'colsample_bytree': 0.5257411782898846, 'subsample': 0.37359278863888445, 'subsample_freq': 8, 'min_child_samples': 322, 'reg_lambda': 99, 'n_estimators': 7355}. Best is trial 6 with value: 0.8847383956838941.\u001b[0m\n"
     ]
    },
    {
     "name": "stdout",
     "output_type": "stream",
     "text": [
      "Early stopping, best iteration is:\n",
      "[32]\tvalid_0's auc: 0.872336\n",
      "0.8723358545637727\n",
      "Training until validation scores don't improve for 100 rounds\n"
     ]
    },
    {
     "name": "stderr",
     "output_type": "stream",
     "text": [
      "D:\\source\\repos\\venv\\Python310\\lib\\site-packages\\sklearn\\utils\\validation.py:1141: DataConversionWarning: A column-vector y was passed when a 1d array was expected. Please change the shape of y to (n_samples, ), for example using ravel().\n",
      "  y = column_or_1d(y, warn=True)\n",
      "D:\\source\\repos\\venv\\Python310\\lib\\site-packages\\lightgbm\\sklearn.py:736: UserWarning: 'verbose' argument is deprecated and will be removed in a future release of LightGBM. Pass 'log_evaluation()' callback via 'callbacks' argument instead.\n",
      "  _log_warning(\"'verbose' argument is deprecated and will be removed in a future release of LightGBM. \"\n",
      "D:\\source\\repos\\venv\\Python310\\lib\\site-packages\\lightgbm\\basic.py:179: UserWarning: Converting column-vector to 1d array\n",
      "  _log_warning('Converting column-vector to 1d array')\n",
      "\u001b[32m[I 2023-01-16 08:39:46,778]\u001b[0m Trial 10 finished with value: 0.8773299381691301 and parameters: {'learning_rate': 0.04068145385675235, 'max_depth': 157, 'num_leaves': 6930, 'colsample_bytree': 0.9953891397759047, 'subsample': 0.6799232233959517, 'subsample_freq': 1, 'min_child_samples': 626, 'reg_lambda': 65, 'n_estimators': 99469}. Best is trial 6 with value: 0.8847383956838941.\u001b[0m\n"
     ]
    },
    {
     "name": "stdout",
     "output_type": "stream",
     "text": [
      "Early stopping, best iteration is:\n",
      "[90]\tvalid_0's auc: 0.87733\n",
      "0.8773299381691301\n",
      "Training until validation scores don't improve for 100 rounds\n"
     ]
    },
    {
     "name": "stderr",
     "output_type": "stream",
     "text": [
      "D:\\source\\repos\\venv\\Python310\\lib\\site-packages\\sklearn\\utils\\validation.py:1141: DataConversionWarning: A column-vector y was passed when a 1d array was expected. Please change the shape of y to (n_samples, ), for example using ravel().\n",
      "  y = column_or_1d(y, warn=True)\n",
      "D:\\source\\repos\\venv\\Python310\\lib\\site-packages\\lightgbm\\sklearn.py:736: UserWarning: 'verbose' argument is deprecated and will be removed in a future release of LightGBM. Pass 'log_evaluation()' callback via 'callbacks' argument instead.\n",
      "  _log_warning(\"'verbose' argument is deprecated and will be removed in a future release of LightGBM. \"\n",
      "D:\\source\\repos\\venv\\Python310\\lib\\site-packages\\lightgbm\\basic.py:179: UserWarning: Converting column-vector to 1d array\n",
      "  _log_warning('Converting column-vector to 1d array')\n",
      "\u001b[32m[I 2023-01-16 08:39:47,049]\u001b[0m Trial 11 finished with value: 0.8507765394243352 and parameters: {'learning_rate': 0.04576010321926307, 'max_depth': 447, 'num_leaves': 9100, 'colsample_bytree': 0.3672215298463186, 'subsample': 0.5368861744956591, 'subsample_freq': 5, 'min_child_samples': 592, 'reg_lambda': 5, 'n_estimators': 99812}. Best is trial 6 with value: 0.8847383956838941.\u001b[0m\n"
     ]
    },
    {
     "name": "stdout",
     "output_type": "stream",
     "text": [
      "Early stopping, best iteration is:\n",
      "[12]\tvalid_0's auc: 0.850777\n",
      "0.8507765394243352\n",
      "Training until validation scores don't improve for 100 rounds\n"
     ]
    },
    {
     "name": "stderr",
     "output_type": "stream",
     "text": [
      "D:\\source\\repos\\venv\\Python310\\lib\\site-packages\\sklearn\\utils\\validation.py:1141: DataConversionWarning: A column-vector y was passed when a 1d array was expected. Please change the shape of y to (n_samples, ), for example using ravel().\n",
      "  y = column_or_1d(y, warn=True)\n",
      "D:\\source\\repos\\venv\\Python310\\lib\\site-packages\\lightgbm\\sklearn.py:736: UserWarning: 'verbose' argument is deprecated and will be removed in a future release of LightGBM. Pass 'log_evaluation()' callback via 'callbacks' argument instead.\n",
      "  _log_warning(\"'verbose' argument is deprecated and will be removed in a future release of LightGBM. \"\n",
      "D:\\source\\repos\\venv\\Python310\\lib\\site-packages\\lightgbm\\basic.py:179: UserWarning: Converting column-vector to 1d array\n",
      "  _log_warning('Converting column-vector to 1d array')\n",
      "\u001b[32m[I 2023-01-16 08:39:47,398]\u001b[0m Trial 12 finished with value: 0.8630427037755152 and parameters: {'learning_rate': 0.0347185987152078, 'max_depth': 732, 'num_leaves': 9916, 'colsample_bytree': 0.11087867638826165, 'subsample': 0.9603643233904069, 'subsample_freq': 9, 'min_child_samples': 380, 'reg_lambda': 3, 'n_estimators': 74669}. Best is trial 6 with value: 0.8847383956838941.\u001b[0m\n"
     ]
    },
    {
     "name": "stdout",
     "output_type": "stream",
     "text": [
      "Early stopping, best iteration is:\n",
      "[70]\tvalid_0's auc: 0.863043\n",
      "0.8630427037755152\n",
      "Training until validation scores don't improve for 100 rounds\n"
     ]
    },
    {
     "name": "stderr",
     "output_type": "stream",
     "text": [
      "D:\\source\\repos\\venv\\Python310\\lib\\site-packages\\sklearn\\utils\\validation.py:1141: DataConversionWarning: A column-vector y was passed when a 1d array was expected. Please change the shape of y to (n_samples, ), for example using ravel().\n",
      "  y = column_or_1d(y, warn=True)\n",
      "D:\\source\\repos\\venv\\Python310\\lib\\site-packages\\lightgbm\\sklearn.py:736: UserWarning: 'verbose' argument is deprecated and will be removed in a future release of LightGBM. Pass 'log_evaluation()' callback via 'callbacks' argument instead.\n",
      "  _log_warning(\"'verbose' argument is deprecated and will be removed in a future release of LightGBM. \"\n",
      "D:\\source\\repos\\venv\\Python310\\lib\\site-packages\\lightgbm\\basic.py:179: UserWarning: Converting column-vector to 1d array\n",
      "  _log_warning('Converting column-vector to 1d array')\n",
      "\u001b[32m[I 2023-01-16 08:39:47,710]\u001b[0m Trial 13 finished with value: 0.8790011428709971 and parameters: {'learning_rate': 0.0016165824262718842, 'max_depth': 110, 'num_leaves': 7923, 'colsample_bytree': 0.419918421687008, 'subsample': 0.5262262424081569, 'subsample_freq': 10, 'min_child_samples': 131, 'reg_lambda': 52, 'n_estimators': 82072}. Best is trial 6 with value: 0.8847383956838941.\u001b[0m\n"
     ]
    },
    {
     "name": "stdout",
     "output_type": "stream",
     "text": [
      "Early stopping, best iteration is:\n",
      "[24]\tvalid_0's auc: 0.879001\n",
      "0.8790011428709971\n",
      "Training until validation scores don't improve for 100 rounds\n"
     ]
    },
    {
     "name": "stderr",
     "output_type": "stream",
     "text": [
      "D:\\source\\repos\\venv\\Python310\\lib\\site-packages\\sklearn\\utils\\validation.py:1141: DataConversionWarning: A column-vector y was passed when a 1d array was expected. Please change the shape of y to (n_samples, ), for example using ravel().\n",
      "  y = column_or_1d(y, warn=True)\n",
      "D:\\source\\repos\\venv\\Python310\\lib\\site-packages\\lightgbm\\sklearn.py:736: UserWarning: 'verbose' argument is deprecated and will be removed in a future release of LightGBM. Pass 'log_evaluation()' callback via 'callbacks' argument instead.\n",
      "  _log_warning(\"'verbose' argument is deprecated and will be removed in a future release of LightGBM. \"\n",
      "D:\\source\\repos\\venv\\Python310\\lib\\site-packages\\lightgbm\\basic.py:179: UserWarning: Converting column-vector to 1d array\n",
      "  _log_warning('Converting column-vector to 1d array')\n",
      "\u001b[32m[I 2023-01-16 08:39:47,989]\u001b[0m Trial 14 finished with value: 0.8716044710029316 and parameters: {'learning_rate': 0.0565259889598837, 'max_depth': 300, 'num_leaves': 9806, 'colsample_bytree': 0.2562775788968413, 'subsample': 0.7669152520375117, 'subsample_freq': 5, 'min_child_samples': 645, 'reg_lambda': 76, 'n_estimators': 69471}. Best is trial 6 with value: 0.8847383956838941.\u001b[0m\n"
     ]
    },
    {
     "name": "stdout",
     "output_type": "stream",
     "text": [
      "Early stopping, best iteration is:\n",
      "[6]\tvalid_0's auc: 0.871604\n",
      "0.8716044710029316\n",
      "Training until validation scores don't improve for 100 rounds\n"
     ]
    },
    {
     "name": "stderr",
     "output_type": "stream",
     "text": [
      "D:\\source\\repos\\venv\\Python310\\lib\\site-packages\\sklearn\\utils\\validation.py:1141: DataConversionWarning: A column-vector y was passed when a 1d array was expected. Please change the shape of y to (n_samples, ), for example using ravel().\n",
      "  y = column_or_1d(y, warn=True)\n",
      "D:\\source\\repos\\venv\\Python310\\lib\\site-packages\\lightgbm\\sklearn.py:736: UserWarning: 'verbose' argument is deprecated and will be removed in a future release of LightGBM. Pass 'log_evaluation()' callback via 'callbacks' argument instead.\n",
      "  _log_warning(\"'verbose' argument is deprecated and will be removed in a future release of LightGBM. \"\n",
      "D:\\source\\repos\\venv\\Python310\\lib\\site-packages\\lightgbm\\basic.py:179: UserWarning: Converting column-vector to 1d array\n",
      "  _log_warning('Converting column-vector to 1d array')\n",
      "\u001b[32m[I 2023-01-16 08:39:48,261]\u001b[0m Trial 15 finished with value: 0.8674963312965491 and parameters: {'learning_rate': 0.031325546572127695, 'max_depth': 993, 'num_leaves': 6176, 'colsample_bytree': 0.2185251072537754, 'subsample': 0.6408872925157391, 'subsample_freq': 6, 'min_child_samples': 213, 'reg_lambda': 18, 'n_estimators': 21731}. Best is trial 6 with value: 0.8847383956838941.\u001b[0m\n"
     ]
    },
    {
     "name": "stdout",
     "output_type": "stream",
     "text": [
      "Early stopping, best iteration is:\n",
      "[72]\tvalid_0's auc: 0.867496\n",
      "0.8674963312965491\n",
      "Training until validation scores don't improve for 100 rounds\n"
     ]
    },
    {
     "name": "stderr",
     "output_type": "stream",
     "text": [
      "D:\\source\\repos\\venv\\Python310\\lib\\site-packages\\sklearn\\utils\\validation.py:1141: DataConversionWarning: A column-vector y was passed when a 1d array was expected. Please change the shape of y to (n_samples, ), for example using ravel().\n",
      "  y = column_or_1d(y, warn=True)\n",
      "D:\\source\\repos\\venv\\Python310\\lib\\site-packages\\lightgbm\\sklearn.py:736: UserWarning: 'verbose' argument is deprecated and will be removed in a future release of LightGBM. Pass 'log_evaluation()' callback via 'callbacks' argument instead.\n",
      "  _log_warning(\"'verbose' argument is deprecated and will be removed in a future release of LightGBM. \"\n",
      "D:\\source\\repos\\venv\\Python310\\lib\\site-packages\\lightgbm\\basic.py:179: UserWarning: Converting column-vector to 1d array\n",
      "  _log_warning('Converting column-vector to 1d array')\n",
      "\u001b[32m[I 2023-01-16 08:39:48,482]\u001b[0m Trial 16 finished with value: 0.8806736945039151 and parameters: {'learning_rate': 0.0596832096144316, 'max_depth': 753, 'num_leaves': 8488, 'colsample_bytree': 0.6003224872003349, 'subsample': 0.818830891828535, 'subsample_freq': 10, 'min_child_samples': 508, 'reg_lambda': 49, 'n_estimators': 87318}. Best is trial 6 with value: 0.8847383956838941.\u001b[0m\n"
     ]
    },
    {
     "name": "stdout",
     "output_type": "stream",
     "text": [
      "Early stopping, best iteration is:\n",
      "[11]\tvalid_0's auc: 0.880674\n",
      "0.8806736945039151\n",
      "Training until validation scores don't improve for 100 rounds\n"
     ]
    },
    {
     "name": "stderr",
     "output_type": "stream",
     "text": [
      "D:\\source\\repos\\venv\\Python310\\lib\\site-packages\\sklearn\\utils\\validation.py:1141: DataConversionWarning: A column-vector y was passed when a 1d array was expected. Please change the shape of y to (n_samples, ), for example using ravel().\n",
      "  y = column_or_1d(y, warn=True)\n",
      "D:\\source\\repos\\venv\\Python310\\lib\\site-packages\\lightgbm\\sklearn.py:736: UserWarning: 'verbose' argument is deprecated and will be removed in a future release of LightGBM. Pass 'log_evaluation()' callback via 'callbacks' argument instead.\n",
      "  _log_warning(\"'verbose' argument is deprecated and will be removed in a future release of LightGBM. \"\n",
      "D:\\source\\repos\\venv\\Python310\\lib\\site-packages\\lightgbm\\basic.py:179: UserWarning: Converting column-vector to 1d array\n",
      "  _log_warning('Converting column-vector to 1d array')\n",
      "\u001b[32m[I 2023-01-16 08:39:48,724]\u001b[0m Trial 17 finished with value: 0.8749536150619219 and parameters: {'learning_rate': 0.024632051483436106, 'max_depth': 440, 'num_leaves': 3650, 'colsample_bytree': 0.42249056896770376, 'subsample': 0.4618459088153797, 'subsample_freq': 1, 'min_child_samples': 724, 'reg_lambda': 65, 'n_estimators': 60748}. Best is trial 6 with value: 0.8847383956838941.\u001b[0m\n"
     ]
    },
    {
     "name": "stdout",
     "output_type": "stream",
     "text": [
      "Early stopping, best iteration is:\n",
      "[144]\tvalid_0's auc: 0.874954\n",
      "0.8749536150619219\n",
      "Training until validation scores don't improve for 100 rounds\n"
     ]
    },
    {
     "name": "stderr",
     "output_type": "stream",
     "text": [
      "D:\\source\\repos\\venv\\Python310\\lib\\site-packages\\sklearn\\utils\\validation.py:1141: DataConversionWarning: A column-vector y was passed when a 1d array was expected. Please change the shape of y to (n_samples, ), for example using ravel().\n",
      "  y = column_or_1d(y, warn=True)\n",
      "D:\\source\\repos\\venv\\Python310\\lib\\site-packages\\lightgbm\\sklearn.py:736: UserWarning: 'verbose' argument is deprecated and will be removed in a future release of LightGBM. Pass 'log_evaluation()' callback via 'callbacks' argument instead.\n",
      "  _log_warning(\"'verbose' argument is deprecated and will be removed in a future release of LightGBM. \"\n",
      "D:\\source\\repos\\venv\\Python310\\lib\\site-packages\\lightgbm\\basic.py:179: UserWarning: Converting column-vector to 1d array\n",
      "  _log_warning('Converting column-vector to 1d array')\n",
      "\u001b[32m[I 2023-01-16 08:39:49,007]\u001b[0m Trial 18 finished with value: 0.8716738379520721 and parameters: {'learning_rate': 0.07030762006494416, 'max_depth': 439, 'num_leaves': 6851, 'colsample_bytree': 0.19574812565626504, 'subsample': 0.6498433866114032, 'subsample_freq': 4, 'min_child_samples': 490, 'reg_lambda': 35, 'n_estimators': 23935}. Best is trial 6 with value: 0.8847383956838941.\u001b[0m\n"
     ]
    },
    {
     "name": "stdout",
     "output_type": "stream",
     "text": [
      "Early stopping, best iteration is:\n",
      "[81]\tvalid_0's auc: 0.871674\n",
      "0.8716738379520721\n",
      "Training until validation scores don't improve for 100 rounds\n"
     ]
    },
    {
     "name": "stderr",
     "output_type": "stream",
     "text": [
      "D:\\source\\repos\\venv\\Python310\\lib\\site-packages\\sklearn\\utils\\validation.py:1141: DataConversionWarning: A column-vector y was passed when a 1d array was expected. Please change the shape of y to (n_samples, ), for example using ravel().\n",
      "  y = column_or_1d(y, warn=True)\n",
      "D:\\source\\repos\\venv\\Python310\\lib\\site-packages\\lightgbm\\sklearn.py:736: UserWarning: 'verbose' argument is deprecated and will be removed in a future release of LightGBM. Pass 'log_evaluation()' callback via 'callbacks' argument instead.\n",
      "  _log_warning(\"'verbose' argument is deprecated and will be removed in a future release of LightGBM. \"\n",
      "D:\\source\\repos\\venv\\Python310\\lib\\site-packages\\lightgbm\\basic.py:179: UserWarning: Converting column-vector to 1d array\n",
      "  _log_warning('Converting column-vector to 1d array')\n",
      "\u001b[32m[I 2023-01-16 08:39:49,311]\u001b[0m Trial 19 finished with value: 0.8789459186978948 and parameters: {'learning_rate': 0.04982033428964213, 'max_depth': 751, 'num_leaves': 9161, 'colsample_bytree': 0.7908006305777727, 'subsample': 0.9013846926148928, 'subsample_freq': 6, 'min_child_samples': 221, 'reg_lambda': 14, 'n_estimators': 42398}. Best is trial 6 with value: 0.8847383956838941.\u001b[0m\n"
     ]
    },
    {
     "name": "stdout",
     "output_type": "stream",
     "text": [
      "Early stopping, best iteration is:\n",
      "[11]\tvalid_0's auc: 0.878946\n",
      "0.8789459186978948\n",
      "Training until validation scores don't improve for 100 rounds\n"
     ]
    },
    {
     "name": "stderr",
     "output_type": "stream",
     "text": [
      "D:\\source\\repos\\venv\\Python310\\lib\\site-packages\\sklearn\\utils\\validation.py:1141: DataConversionWarning: A column-vector y was passed when a 1d array was expected. Please change the shape of y to (n_samples, ), for example using ravel().\n",
      "  y = column_or_1d(y, warn=True)\n",
      "D:\\source\\repos\\venv\\Python310\\lib\\site-packages\\lightgbm\\sklearn.py:736: UserWarning: 'verbose' argument is deprecated and will be removed in a future release of LightGBM. Pass 'log_evaluation()' callback via 'callbacks' argument instead.\n",
      "  _log_warning(\"'verbose' argument is deprecated and will be removed in a future release of LightGBM. \"\n",
      "D:\\source\\repos\\venv\\Python310\\lib\\site-packages\\lightgbm\\basic.py:179: UserWarning: Converting column-vector to 1d array\n",
      "  _log_warning('Converting column-vector to 1d array')\n",
      "\u001b[32m[I 2023-01-16 08:39:49,601]\u001b[0m Trial 20 finished with value: 0.8520413076814805 and parameters: {'learning_rate': 0.0401217971715975, 'max_depth': 201, 'num_leaves': 2720, 'colsample_bytree': 0.35791963029241763, 'subsample': 0.46683822537635816, 'subsample_freq': 3, 'min_child_samples': 907, 'reg_lambda': 82, 'n_estimators': 65555}. Best is trial 6 with value: 0.8847383956838941.\u001b[0m\n"
     ]
    },
    {
     "name": "stdout",
     "output_type": "stream",
     "text": [
      "Early stopping, best iteration is:\n",
      "[286]\tvalid_0's auc: 0.852041\n",
      "0.8520413076814805\n",
      "Training until validation scores don't improve for 100 rounds\n"
     ]
    },
    {
     "name": "stderr",
     "output_type": "stream",
     "text": [
      "D:\\source\\repos\\venv\\Python310\\lib\\site-packages\\sklearn\\utils\\validation.py:1141: DataConversionWarning: A column-vector y was passed when a 1d array was expected. Please change the shape of y to (n_samples, ), for example using ravel().\n",
      "  y = column_or_1d(y, warn=True)\n",
      "D:\\source\\repos\\venv\\Python310\\lib\\site-packages\\lightgbm\\sklearn.py:736: UserWarning: 'verbose' argument is deprecated and will be removed in a future release of LightGBM. Pass 'log_evaluation()' callback via 'callbacks' argument instead.\n",
      "  _log_warning(\"'verbose' argument is deprecated and will be removed in a future release of LightGBM. \"\n",
      "D:\\source\\repos\\venv\\Python310\\lib\\site-packages\\lightgbm\\basic.py:179: UserWarning: Converting column-vector to 1d array\n",
      "  _log_warning('Converting column-vector to 1d array')\n",
      "\u001b[32m[I 2023-01-16 08:39:49,927]\u001b[0m Trial 21 finished with value: 0.8745906171436036 and parameters: {'learning_rate': 0.061000724011096324, 'max_depth': 780, 'num_leaves': 8163, 'colsample_bytree': 0.5908909076602883, 'subsample': 0.8506997270165664, 'subsample_freq': 10, 'min_child_samples': 514, 'reg_lambda': 46, 'n_estimators': 86923}. Best is trial 6 with value: 0.8847383956838941.\u001b[0m\n"
     ]
    },
    {
     "name": "stdout",
     "output_type": "stream",
     "text": [
      "Early stopping, best iteration is:\n",
      "[113]\tvalid_0's auc: 0.874591\n",
      "0.8745906171436036\n",
      "Training until validation scores don't improve for 100 rounds\n"
     ]
    },
    {
     "name": "stderr",
     "output_type": "stream",
     "text": [
      "D:\\source\\repos\\venv\\Python310\\lib\\site-packages\\sklearn\\utils\\validation.py:1141: DataConversionWarning: A column-vector y was passed when a 1d array was expected. Please change the shape of y to (n_samples, ), for example using ravel().\n",
      "  y = column_or_1d(y, warn=True)\n",
      "D:\\source\\repos\\venv\\Python310\\lib\\site-packages\\lightgbm\\sklearn.py:736: UserWarning: 'verbose' argument is deprecated and will be removed in a future release of LightGBM. Pass 'log_evaluation()' callback via 'callbacks' argument instead.\n",
      "  _log_warning(\"'verbose' argument is deprecated and will be removed in a future release of LightGBM. \"\n",
      "D:\\source\\repos\\venv\\Python310\\lib\\site-packages\\lightgbm\\basic.py:179: UserWarning: Converting column-vector to 1d array\n",
      "  _log_warning('Converting column-vector to 1d array')\n",
      "\u001b[32m[I 2023-01-16 08:39:50,145]\u001b[0m Trial 22 finished with value: 0.8732622063942859 and parameters: {'learning_rate': 0.0645994633016039, 'max_depth': 997, 'num_leaves': 8808, 'colsample_bytree': 0.5652615992977912, 'subsample': 0.7264572849760247, 'subsample_freq': 9, 'min_child_samples': 557, 'reg_lambda': 56, 'n_estimators': 90745}. Best is trial 6 with value: 0.8847383956838941.\u001b[0m\n",
      "D:\\source\\repos\\venv\\Python310\\lib\\site-packages\\sklearn\\utils\\validation.py:1141: DataConversionWarning: A column-vector y was passed when a 1d array was expected. Please change the shape of y to (n_samples, ), for example using ravel().\n",
      "  y = column_or_1d(y, warn=True)\n"
     ]
    },
    {
     "name": "stdout",
     "output_type": "stream",
     "text": [
      "Early stopping, best iteration is:\n",
      "[11]\tvalid_0's auc: 0.873262\n",
      "0.8732622063942859\n",
      "Training until validation scores don't improve for 100 rounds\n"
     ]
    },
    {
     "name": "stderr",
     "output_type": "stream",
     "text": [
      "D:\\source\\repos\\venv\\Python310\\lib\\site-packages\\lightgbm\\sklearn.py:736: UserWarning: 'verbose' argument is deprecated and will be removed in a future release of LightGBM. Pass 'log_evaluation()' callback via 'callbacks' argument instead.\n",
      "  _log_warning(\"'verbose' argument is deprecated and will be removed in a future release of LightGBM. \"\n",
      "D:\\source\\repos\\venv\\Python310\\lib\\site-packages\\lightgbm\\basic.py:179: UserWarning: Converting column-vector to 1d array\n",
      "  _log_warning('Converting column-vector to 1d array')\n",
      "\u001b[32m[I 2023-01-16 08:39:50,353]\u001b[0m Trial 23 finished with value: 0.8722536917696453 and parameters: {'learning_rate': 0.05257251077670196, 'max_depth': 690, 'num_leaves': 7371, 'colsample_bytree': 0.4622883705823051, 'subsample': 0.8374779023690552, 'subsample_freq': 9, 'min_child_samples': 420, 'reg_lambda': 62, 'n_estimators': 77272}. Best is trial 6 with value: 0.8847383956838941.\u001b[0m\n"
     ]
    },
    {
     "name": "stdout",
     "output_type": "stream",
     "text": [
      "Early stopping, best iteration is:\n",
      "[1]\tvalid_0's auc: 0.872254\n",
      "0.8722536917696453\n",
      "Training until validation scores don't improve for 100 rounds\n"
     ]
    },
    {
     "name": "stderr",
     "output_type": "stream",
     "text": [
      "D:\\source\\repos\\venv\\Python310\\lib\\site-packages\\sklearn\\utils\\validation.py:1141: DataConversionWarning: A column-vector y was passed when a 1d array was expected. Please change the shape of y to (n_samples, ), for example using ravel().\n",
      "  y = column_or_1d(y, warn=True)\n",
      "D:\\source\\repos\\venv\\Python310\\lib\\site-packages\\lightgbm\\sklearn.py:736: UserWarning: 'verbose' argument is deprecated and will be removed in a future release of LightGBM. Pass 'log_evaluation()' callback via 'callbacks' argument instead.\n",
      "  _log_warning(\"'verbose' argument is deprecated and will be removed in a future release of LightGBM. \"\n",
      "D:\\source\\repos\\venv\\Python310\\lib\\site-packages\\lightgbm\\basic.py:179: UserWarning: Converting column-vector to 1d array\n",
      "  _log_warning('Converting column-vector to 1d array')\n",
      "\u001b[32m[I 2023-01-16 08:39:50,630]\u001b[0m Trial 24 finished with value: 0.880751816504889 and parameters: {'learning_rate': 0.044297221227393976, 'max_depth': 843, 'num_leaves': 5899, 'colsample_bytree': 0.641036067271046, 'subsample': 0.9004415839092448, 'subsample_freq': 10, 'min_child_samples': 713, 'reg_lambda': 41, 'n_estimators': 91829}. Best is trial 6 with value: 0.8847383956838941.\u001b[0m\n"
     ]
    },
    {
     "name": "stdout",
     "output_type": "stream",
     "text": [
      "Early stopping, best iteration is:\n",
      "[93]\tvalid_0's auc: 0.880752\n",
      "0.880751816504889\n",
      "Training until validation scores don't improve for 100 rounds\n"
     ]
    },
    {
     "name": "stderr",
     "output_type": "stream",
     "text": [
      "D:\\source\\repos\\venv\\Python310\\lib\\site-packages\\sklearn\\utils\\validation.py:1141: DataConversionWarning: A column-vector y was passed when a 1d array was expected. Please change the shape of y to (n_samples, ), for example using ravel().\n",
      "  y = column_or_1d(y, warn=True)\n",
      "D:\\source\\repos\\venv\\Python310\\lib\\site-packages\\lightgbm\\sklearn.py:736: UserWarning: 'verbose' argument is deprecated and will be removed in a future release of LightGBM. Pass 'log_evaluation()' callback via 'callbacks' argument instead.\n",
      "  _log_warning(\"'verbose' argument is deprecated and will be removed in a future release of LightGBM. \"\n",
      "D:\\source\\repos\\venv\\Python310\\lib\\site-packages\\lightgbm\\basic.py:179: UserWarning: Converting column-vector to 1d array\n",
      "  _log_warning('Converting column-vector to 1d array')\n",
      "\u001b[32m[I 2023-01-16 08:39:50,842]\u001b[0m Trial 25 finished with value: 0.8763069440356883 and parameters: {'learning_rate': 0.02862210274972255, 'max_depth': 902, 'num_leaves': 6033, 'colsample_bytree': 0.718980668291642, 'subsample': 0.9989747929724686, 'subsample_freq': 8, 'min_child_samples': 671, 'reg_lambda': 37, 'n_estimators': 94966}. Best is trial 6 with value: 0.8847383956838941.\u001b[0m\n",
      "D:\\source\\repos\\venv\\Python310\\lib\\site-packages\\sklearn\\utils\\validation.py:1141: DataConversionWarning: A column-vector y was passed when a 1d array was expected. Please change the shape of y to (n_samples, ), for example using ravel().\n",
      "  y = column_or_1d(y, warn=True)\n",
      "D:\\source\\repos\\venv\\Python310\\lib\\site-packages\\lightgbm\\sklearn.py:736: UserWarning: 'verbose' argument is deprecated and will be removed in a future release of LightGBM. Pass 'log_evaluation()' callback via 'callbacks' argument instead.\n",
      "  _log_warning(\"'verbose' argument is deprecated and will be removed in a future release of LightGBM. \"\n",
      "D:\\source\\repos\\venv\\Python310\\lib\\site-packages\\lightgbm\\basic.py:179: UserWarning: Converting column-vector to 1d array\n",
      "  _log_warning('Converting column-vector to 1d array')\n",
      "\u001b[32m[I 2023-01-16 08:39:51,022]\u001b[0m Trial 26 finished with value: 0.8656062502988504 and parameters: {'learning_rate': 0.044253920152283084, 'max_depth': 821, 'num_leaves': 5666, 'colsample_bytree': 0.8952522582482269, 'subsample': 0.9001201398373601, 'subsample_freq': 7, 'min_child_samples': 708, 'reg_lambda': 25, 'n_estimators': 50343}. Best is trial 6 with value: 0.8847383956838941.\u001b[0m\n"
     ]
    },
    {
     "name": "stdout",
     "output_type": "stream",
     "text": [
      "Early stopping, best iteration is:\n",
      "[20]\tvalid_0's auc: 0.876307\n",
      "0.8763069440356883\n",
      "Training until validation scores don't improve for 100 rounds\n",
      "Early stopping, best iteration is:\n",
      "[7]\tvalid_0's auc: 0.865606\n",
      "0.8656062502988504\n"
     ]
    },
    {
     "name": "stderr",
     "output_type": "stream",
     "text": [
      "D:\\source\\repos\\venv\\Python310\\lib\\site-packages\\sklearn\\utils\\validation.py:1141: DataConversionWarning: A column-vector y was passed when a 1d array was expected. Please change the shape of y to (n_samples, ), for example using ravel().\n",
      "  y = column_or_1d(y, warn=True)\n",
      "D:\\source\\repos\\venv\\Python310\\lib\\site-packages\\lightgbm\\sklearn.py:736: UserWarning: 'verbose' argument is deprecated and will be removed in a future release of LightGBM. Pass 'log_evaluation()' callback via 'callbacks' argument instead.\n",
      "  _log_warning(\"'verbose' argument is deprecated and will be removed in a future release of LightGBM. \"\n",
      "D:\\source\\repos\\venv\\Python310\\lib\\site-packages\\lightgbm\\basic.py:179: UserWarning: Converting column-vector to 1d array\n",
      "  _log_warning('Converting column-vector to 1d array')\n",
      "\u001b[32m[I 2023-01-16 08:39:51,325]\u001b[0m Trial 27 finished with value: 0.8329943556854298 and parameters: {'learning_rate': 0.008950850354651454, 'max_depth': 937, 'num_leaves': 5216, 'colsample_bytree': 0.6591599337226575, 'subsample': 0.2691744480447251, 'subsample_freq': 9, 'min_child_samples': 772, 'reg_lambda': 39, 'n_estimators': 79574}. Best is trial 6 with value: 0.8847383956838941.\u001b[0m\n"
     ]
    },
    {
     "name": "stdout",
     "output_type": "stream",
     "text": [
      "Training until validation scores don't improve for 100 rounds\n",
      "Early stopping, best iteration is:\n",
      "[235]\tvalid_0's auc: 0.832994\n",
      "0.8329943556854298\n"
     ]
    },
    {
     "name": "stderr",
     "output_type": "stream",
     "text": [
      "D:\\source\\repos\\venv\\Python310\\lib\\site-packages\\sklearn\\utils\\validation.py:1141: DataConversionWarning: A column-vector y was passed when a 1d array was expected. Please change the shape of y to (n_samples, ), for example using ravel().\n",
      "  y = column_or_1d(y, warn=True)\n",
      "D:\\source\\repos\\venv\\Python310\\lib\\site-packages\\lightgbm\\sklearn.py:736: UserWarning: 'verbose' argument is deprecated and will be removed in a future release of LightGBM. Pass 'log_evaluation()' callback via 'callbacks' argument instead.\n",
      "  _log_warning(\"'verbose' argument is deprecated and will be removed in a future release of LightGBM. \"\n",
      "D:\\source\\repos\\venv\\Python310\\lib\\site-packages\\lightgbm\\basic.py:179: UserWarning: Converting column-vector to 1d array\n",
      "  _log_warning('Converting column-vector to 1d array')\n",
      "\u001b[32m[I 2023-01-16 08:39:51,529]\u001b[0m Trial 28 finished with value: 0.8729998915720505 and parameters: {'learning_rate': 0.038052609003066395, 'max_depth': 503, 'num_leaves': 6711, 'colsample_bytree': 0.535547147693893, 'subsample': 0.6223964662339462, 'subsample_freq': 10, 'min_child_samples': 580, 'reg_lambda': 14, 'n_estimators': 30592}. Best is trial 6 with value: 0.8847383956838941.\u001b[0m\n"
     ]
    },
    {
     "name": "stdout",
     "output_type": "stream",
     "text": [
      "Training until validation scores don't improve for 100 rounds\n",
      "Early stopping, best iteration is:\n",
      "[14]\tvalid_0's auc: 0.873\n",
      "0.8729998915720505\n"
     ]
    },
    {
     "name": "stderr",
     "output_type": "stream",
     "text": [
      "D:\\source\\repos\\venv\\Python310\\lib\\site-packages\\sklearn\\utils\\validation.py:1141: DataConversionWarning: A column-vector y was passed when a 1d array was expected. Please change the shape of y to (n_samples, ), for example using ravel().\n",
      "  y = column_or_1d(y, warn=True)\n",
      "D:\\source\\repos\\venv\\Python310\\lib\\site-packages\\lightgbm\\sklearn.py:736: UserWarning: 'verbose' argument is deprecated and will be removed in a future release of LightGBM. Pass 'log_evaluation()' callback via 'callbacks' argument instead.\n",
      "  _log_warning(\"'verbose' argument is deprecated and will be removed in a future release of LightGBM. \"\n",
      "D:\\source\\repos\\venv\\Python310\\lib\\site-packages\\lightgbm\\basic.py:179: UserWarning: Converting column-vector to 1d array\n",
      "  _log_warning('Converting column-vector to 1d array')\n"
     ]
    },
    {
     "name": "stdout",
     "output_type": "stream",
     "text": [
      "Training until validation scores don't improve for 100 rounds\n"
     ]
    },
    {
     "name": "stderr",
     "output_type": "stream",
     "text": [
      "\u001b[32m[I 2023-01-16 08:39:52,045]\u001b[0m Trial 29 finished with value: 0.8738982945832494 and parameters: {'learning_rate': 0.04898691458209585, 'max_depth': 826, 'num_leaves': 1030, 'colsample_bytree': 0.32800263421150444, 'subsample': 0.7198004677500959, 'subsample_freq': 4, 'min_child_samples': 15, 'reg_lambda': 75, 'n_estimators': 42936}. Best is trial 6 with value: 0.8847383956838941.\u001b[0m\n"
     ]
    },
    {
     "name": "stdout",
     "output_type": "stream",
     "text": [
      "Early stopping, best iteration is:\n",
      "[49]\tvalid_0's auc: 0.873898\n",
      "0.8738982945832494\n",
      "Training until validation scores don't improve for 100 rounds\n"
     ]
    },
    {
     "name": "stderr",
     "output_type": "stream",
     "text": [
      "D:\\source\\repos\\venv\\Python310\\lib\\site-packages\\sklearn\\utils\\validation.py:1141: DataConversionWarning: A column-vector y was passed when a 1d array was expected. Please change the shape of y to (n_samples, ), for example using ravel().\n",
      "  y = column_or_1d(y, warn=True)\n",
      "D:\\source\\repos\\venv\\Python310\\lib\\site-packages\\lightgbm\\sklearn.py:736: UserWarning: 'verbose' argument is deprecated and will be removed in a future release of LightGBM. Pass 'log_evaluation()' callback via 'callbacks' argument instead.\n",
      "  _log_warning(\"'verbose' argument is deprecated and will be removed in a future release of LightGBM. \"\n",
      "D:\\source\\repos\\venv\\Python310\\lib\\site-packages\\lightgbm\\basic.py:179: UserWarning: Converting column-vector to 1d array\n",
      "  _log_warning('Converting column-vector to 1d array')\n",
      "\u001b[32m[I 2023-01-16 08:39:52,249]\u001b[0m Trial 30 finished with value: 0.8551254430561327 and parameters: {'learning_rate': 0.02355204670767255, 'max_depth': 606, 'num_leaves': 4086, 'colsample_bytree': 0.40044202833102005, 'subsample': 0.5932751345469459, 'subsample_freq': 8, 'min_child_samples': 851, 'reg_lambda': 83, 'n_estimators': 69709}. Best is trial 6 with value: 0.8847383956838941.\u001b[0m\n",
      "D:\\source\\repos\\venv\\Python310\\lib\\site-packages\\sklearn\\utils\\validation.py:1141: DataConversionWarning: A column-vector y was passed when a 1d array was expected. Please change the shape of y to (n_samples, ), for example using ravel().\n",
      "  y = column_or_1d(y, warn=True)\n"
     ]
    },
    {
     "name": "stdout",
     "output_type": "stream",
     "text": [
      "Early stopping, best iteration is:\n",
      "[69]\tvalid_0's auc: 0.855125\n",
      "0.8551254430561327\n",
      "Training until validation scores don't improve for 100 rounds\n"
     ]
    },
    {
     "name": "stderr",
     "output_type": "stream",
     "text": [
      "D:\\source\\repos\\venv\\Python310\\lib\\site-packages\\lightgbm\\sklearn.py:736: UserWarning: 'verbose' argument is deprecated and will be removed in a future release of LightGBM. Pass 'log_evaluation()' callback via 'callbacks' argument instead.\n",
      "  _log_warning(\"'verbose' argument is deprecated and will be removed in a future release of LightGBM. \"\n",
      "D:\\source\\repos\\venv\\Python310\\lib\\site-packages\\lightgbm\\basic.py:179: UserWarning: Converting column-vector to 1d array\n",
      "  _log_warning('Converting column-vector to 1d array')\n",
      "\u001b[32m[I 2023-01-16 08:39:52,527]\u001b[0m Trial 31 finished with value: 0.8788196439118379 and parameters: {'learning_rate': 0.06822462742282381, 'max_depth': 848, 'num_leaves': 9443, 'colsample_bytree': 0.6217730350157691, 'subsample': 0.8841875154666747, 'subsample_freq': 10, 'min_child_samples': 449, 'reg_lambda': 44, 'n_estimators': 87464}. Best is trial 6 with value: 0.8847383956838941.\u001b[0m\n"
     ]
    },
    {
     "name": "stdout",
     "output_type": "stream",
     "text": [
      "Early stopping, best iteration is:\n",
      "[31]\tvalid_0's auc: 0.87882\n",
      "0.8788196439118379\n",
      "Training until validation scores don't improve for 100 rounds\n"
     ]
    },
    {
     "name": "stderr",
     "output_type": "stream",
     "text": [
      "D:\\source\\repos\\venv\\Python310\\lib\\site-packages\\sklearn\\utils\\validation.py:1141: DataConversionWarning: A column-vector y was passed when a 1d array was expected. Please change the shape of y to (n_samples, ), for example using ravel().\n",
      "  y = column_or_1d(y, warn=True)\n",
      "D:\\source\\repos\\venv\\Python310\\lib\\site-packages\\lightgbm\\sklearn.py:736: UserWarning: 'verbose' argument is deprecated and will be removed in a future release of LightGBM. Pass 'log_evaluation()' callback via 'callbacks' argument instead.\n",
      "  _log_warning(\"'verbose' argument is deprecated and will be removed in a future release of LightGBM. \"\n",
      "D:\\source\\repos\\venv\\Python310\\lib\\site-packages\\lightgbm\\basic.py:179: UserWarning: Converting column-vector to 1d array\n",
      "  _log_warning('Converting column-vector to 1d array')\n",
      "\u001b[32m[I 2023-01-16 08:39:52,791]\u001b[0m Trial 32 finished with value: 0.8654183534171977 and parameters: {'learning_rate': 0.05235293445139668, 'max_depth': 952, 'num_leaves': 8313, 'colsample_bytree': 0.709826919637939, 'subsample': 0.8272305984720912, 'subsample_freq': 10, 'min_child_samples': 542, 'reg_lambda': 53, 'n_estimators': 92742}. Best is trial 6 with value: 0.8847383956838941.\u001b[0m\n"
     ]
    },
    {
     "name": "stdout",
     "output_type": "stream",
     "text": [
      "Early stopping, best iteration is:\n",
      "[61]\tvalid_0's auc: 0.865418\n",
      "0.8654183534171977\n",
      "Training until validation scores don't improve for 100 rounds\n"
     ]
    },
    {
     "name": "stderr",
     "output_type": "stream",
     "text": [
      "D:\\source\\repos\\venv\\Python310\\lib\\site-packages\\sklearn\\utils\\validation.py:1141: DataConversionWarning: A column-vector y was passed when a 1d array was expected. Please change the shape of y to (n_samples, ), for example using ravel().\n",
      "  y = column_or_1d(y, warn=True)\n",
      "D:\\source\\repos\\venv\\Python310\\lib\\site-packages\\lightgbm\\sklearn.py:736: UserWarning: 'verbose' argument is deprecated and will be removed in a future release of LightGBM. Pass 'log_evaluation()' callback via 'callbacks' argument instead.\n",
      "  _log_warning(\"'verbose' argument is deprecated and will be removed in a future release of LightGBM. \"\n",
      "D:\\source\\repos\\venv\\Python310\\lib\\site-packages\\lightgbm\\basic.py:179: UserWarning: Converting column-vector to 1d array\n",
      "  _log_warning('Converting column-vector to 1d array')\n",
      "\u001b[32m[I 2023-01-16 08:39:53,042]\u001b[0m Trial 33 finished with value: 0.8739013251781148 and parameters: {'learning_rate': 0.07762395203981759, 'max_depth': 669, 'num_leaves': 7722, 'colsample_bytree': 0.4951078046483116, 'subsample': 0.929874877127624, 'subsample_freq': 9, 'min_child_samples': 711, 'reg_lambda': 28, 'n_estimators': 83271}. Best is trial 6 with value: 0.8847383956838941.\u001b[0m\n"
     ]
    },
    {
     "name": "stdout",
     "output_type": "stream",
     "text": [
      "Early stopping, best iteration is:\n",
      "[46]\tvalid_0's auc: 0.873901\n",
      "0.8739013251781148\n",
      "Training until validation scores don't improve for 100 rounds\n"
     ]
    },
    {
     "name": "stderr",
     "output_type": "stream",
     "text": [
      "D:\\source\\repos\\venv\\Python310\\lib\\site-packages\\sklearn\\utils\\validation.py:1141: DataConversionWarning: A column-vector y was passed when a 1d array was expected. Please change the shape of y to (n_samples, ), for example using ravel().\n",
      "  y = column_or_1d(y, warn=True)\n",
      "D:\\source\\repos\\venv\\Python310\\lib\\site-packages\\lightgbm\\sklearn.py:736: UserWarning: 'verbose' argument is deprecated and will be removed in a future release of LightGBM. Pass 'log_evaluation()' callback via 'callbacks' argument instead.\n",
      "  _log_warning(\"'verbose' argument is deprecated and will be removed in a future release of LightGBM. \"\n",
      "D:\\source\\repos\\venv\\Python310\\lib\\site-packages\\lightgbm\\basic.py:179: UserWarning: Converting column-vector to 1d array\n",
      "  _log_warning('Converting column-vector to 1d array')\n",
      "\u001b[32m[I 2023-01-16 08:39:53,435]\u001b[0m Trial 34 finished with value: 0.869000853280821 and parameters: {'learning_rate': 0.05792324506826513, 'max_depth': 794, 'num_leaves': 8625, 'colsample_bytree': 0.7361576434750121, 'subsample': 0.7531181873089494, 'subsample_freq': 2, 'min_child_samples': 293, 'reg_lambda': 41, 'n_estimators': 94551}. Best is trial 6 with value: 0.8847383956838941.\u001b[0m\n"
     ]
    },
    {
     "name": "stdout",
     "output_type": "stream",
     "text": [
      "Early stopping, best iteration is:\n",
      "[96]\tvalid_0's auc: 0.869001\n",
      "0.869000853280821\n",
      "Training until validation scores don't improve for 100 rounds\n",
      "Early stopping, best iteration is:\n",
      "[50]\tvalid_0's auc: 0.874847\n"
     ]
    },
    {
     "name": "stderr",
     "output_type": "stream",
     "text": [
      "D:\\source\\repos\\venv\\Python310\\lib\\site-packages\\sklearn\\utils\\validation.py:1141: DataConversionWarning: A column-vector y was passed when a 1d array was expected. Please change the shape of y to (n_samples, ), for example using ravel().\n",
      "  y = column_or_1d(y, warn=True)\n",
      "D:\\source\\repos\\venv\\Python310\\lib\\site-packages\\lightgbm\\sklearn.py:736: UserWarning: 'verbose' argument is deprecated and will be removed in a future release of LightGBM. Pass 'log_evaluation()' callback via 'callbacks' argument instead.\n",
      "  _log_warning(\"'verbose' argument is deprecated and will be removed in a future release of LightGBM. \"\n",
      "D:\\source\\repos\\venv\\Python310\\lib\\site-packages\\lightgbm\\basic.py:179: UserWarning: Converting column-vector to 1d array\n",
      "  _log_warning('Converting column-vector to 1d array')\n",
      "\u001b[32m[I 2023-01-16 08:39:53,632]\u001b[0m Trial 35 finished with value: 0.8748468707761083 and parameters: {'learning_rate': 0.07723051804145077, 'max_depth': 877, 'num_leaves': 6565, 'colsample_bytree': 0.8255388268991495, 'subsample': 0.32125114471272265, 'subsample_freq': 10, 'min_child_samples': 407, 'reg_lambda': 60, 'n_estimators': 11379}. Best is trial 6 with value: 0.8847383956838941.\u001b[0m\n",
      "D:\\source\\repos\\venv\\Python310\\lib\\site-packages\\sklearn\\utils\\validation.py:1141: DataConversionWarning: A column-vector y was passed when a 1d array was expected. Please change the shape of y to (n_samples, ), for example using ravel().\n",
      "  y = column_or_1d(y, warn=True)\n",
      "D:\\source\\repos\\venv\\Python310\\lib\\site-packages\\lightgbm\\sklearn.py:736: UserWarning: 'verbose' argument is deprecated and will be removed in a future release of LightGBM. Pass 'log_evaluation()' callback via 'callbacks' argument instead.\n",
      "  _log_warning(\"'verbose' argument is deprecated and will be removed in a future release of LightGBM. \"\n",
      "D:\\source\\repos\\venv\\Python310\\lib\\site-packages\\lightgbm\\basic.py:179: UserWarning: Converting column-vector to 1d array\n",
      "  _log_warning('Converting column-vector to 1d array')\n",
      "\u001b[32m[I 2023-01-16 08:39:53,824]\u001b[0m Trial 36 finished with value: 0.8556658991404559 and parameters: {'learning_rate': 0.06130321616244695, 'max_depth': 717, 'num_leaves': 7253, 'colsample_bytree': 0.6693516451082384, 'subsample': 0.47901072514018733, 'subsample_freq': 7, 'min_child_samples': 945, 'reg_lambda': 30, 'n_estimators': 85350}. Best is trial 6 with value: 0.8847383956838941.\u001b[0m\n"
     ]
    },
    {
     "name": "stdout",
     "output_type": "stream",
     "text": [
      "0.8748468707761083\n",
      "Training until validation scores don't improve for 100 rounds\n",
      "Early stopping, best iteration is:\n",
      "[42]\tvalid_0's auc: 0.855666\n",
      "0.8556658991404559\n"
     ]
    },
    {
     "name": "stderr",
     "output_type": "stream",
     "text": [
      "D:\\source\\repos\\venv\\Python310\\lib\\site-packages\\sklearn\\utils\\validation.py:1141: DataConversionWarning: A column-vector y was passed when a 1d array was expected. Please change the shape of y to (n_samples, ), for example using ravel().\n",
      "  y = column_or_1d(y, warn=True)\n",
      "D:\\source\\repos\\venv\\Python310\\lib\\site-packages\\lightgbm\\sklearn.py:736: UserWarning: 'verbose' argument is deprecated and will be removed in a future release of LightGBM. Pass 'log_evaluation()' callback via 'callbacks' argument instead.\n",
      "  _log_warning(\"'verbose' argument is deprecated and will be removed in a future release of LightGBM. \"\n",
      "D:\\source\\repos\\venv\\Python310\\lib\\site-packages\\lightgbm\\basic.py:179: UserWarning: Converting column-vector to 1d array\n",
      "  _log_warning('Converting column-vector to 1d array')\n",
      "\u001b[32m[I 2023-01-16 08:39:53,955]\u001b[0m Trial 37 finished with value: 0.875153297590273 and parameters: {'learning_rate': 0.03403184556057363, 'max_depth': 337, 'num_leaves': 9456, 'colsample_bytree': 0.17345533816892458, 'subsample': 0.7853717695745074, 'subsample_freq': 9, 'min_child_samples': 481, 'reg_lambda': 49, 'n_estimators': 27}. Best is trial 6 with value: 0.8847383956838941.\u001b[0m\n",
      "D:\\source\\repos\\venv\\Python310\\lib\\site-packages\\sklearn\\utils\\validation.py:1141: DataConversionWarning: A column-vector y was passed when a 1d array was expected. Please change the shape of y to (n_samples, ), for example using ravel().\n",
      "  y = column_or_1d(y, warn=True)\n",
      "D:\\source\\repos\\venv\\Python310\\lib\\site-packages\\lightgbm\\sklearn.py:736: UserWarning: 'verbose' argument is deprecated and will be removed in a future release of LightGBM. Pass 'log_evaluation()' callback via 'callbacks' argument instead.\n",
      "  _log_warning(\"'verbose' argument is deprecated and will be removed in a future release of LightGBM. \"\n",
      "D:\\source\\repos\\venv\\Python310\\lib\\site-packages\\lightgbm\\basic.py:179: UserWarning: Converting column-vector to 1d array\n",
      "  _log_warning('Converting column-vector to 1d array')\n"
     ]
    },
    {
     "name": "stdout",
     "output_type": "stream",
     "text": [
      "Training until validation scores don't improve for 100 rounds\n",
      "Did not meet early stopping. Best iteration is:\n",
      "[13]\tvalid_0's auc: 0.875153\n",
      "0.875153297590273\n",
      "Training until validation scores don't improve for 100 rounds\n"
     ]
    },
    {
     "name": "stderr",
     "output_type": "stream",
     "text": [
      "\u001b[32m[I 2023-01-16 08:39:54,266]\u001b[0m Trial 38 finished with value: 0.8865850381551892 and parameters: {'learning_rate': 0.04453793026826076, 'max_depth': 625, 'num_leaves': 8359, 'colsample_bytree': 0.618607162346066, 'subsample': 0.9602625373890772, 'subsample_freq': 2, 'min_child_samples': 822, 'reg_lambda': 91, 'n_estimators': 34898}. Best is trial 38 with value: 0.8865850381551892.\u001b[0m\n"
     ]
    },
    {
     "name": "stdout",
     "output_type": "stream",
     "text": [
      "Early stopping, best iteration is:\n",
      "[107]\tvalid_0's auc: 0.886585\n",
      "0.8865850381551892\n",
      "Training until validation scores don't improve for 100 rounds\n",
      "Early stopping, best iteration is:\n",
      "[13]\tvalid_0's auc: 0.884229\n"
     ]
    },
    {
     "name": "stderr",
     "output_type": "stream",
     "text": [
      "D:\\source\\repos\\venv\\Python310\\lib\\site-packages\\sklearn\\utils\\validation.py:1141: DataConversionWarning: A column-vector y was passed when a 1d array was expected. Please change the shape of y to (n_samples, ), for example using ravel().\n",
      "  y = column_or_1d(y, warn=True)\n",
      "D:\\source\\repos\\venv\\Python310\\lib\\site-packages\\lightgbm\\sklearn.py:736: UserWarning: 'verbose' argument is deprecated and will be removed in a future release of LightGBM. Pass 'log_evaluation()' callback via 'callbacks' argument instead.\n",
      "  _log_warning(\"'verbose' argument is deprecated and will be removed in a future release of LightGBM. \"\n",
      "D:\\source\\repos\\venv\\Python310\\lib\\site-packages\\lightgbm\\basic.py:179: UserWarning: Converting column-vector to 1d array\n",
      "  _log_warning('Converting column-vector to 1d array')\n",
      "\u001b[32m[I 2023-01-16 08:39:54,447]\u001b[0m Trial 39 finished with value: 0.8842285822809872 and parameters: {'learning_rate': 0.04393268865746979, 'max_depth': 377, 'num_leaves': 5307, 'colsample_bytree': 0.4688862872175012, 'subsample': 0.9604305550382741, 'subsample_freq': 2, 'min_child_samples': 815, 'reg_lambda': 90, 'n_estimators': 34717}. Best is trial 38 with value: 0.8865850381551892.\u001b[0m\n",
      "D:\\source\\repos\\venv\\Python310\\lib\\site-packages\\sklearn\\utils\\validation.py:1141: DataConversionWarning: A column-vector y was passed when a 1d array was expected. Please change the shape of y to (n_samples, ), for example using ravel().\n",
      "  y = column_or_1d(y, warn=True)\n",
      "D:\\source\\repos\\venv\\Python310\\lib\\site-packages\\lightgbm\\sklearn.py:736: UserWarning: 'verbose' argument is deprecated and will be removed in a future release of LightGBM. Pass 'log_evaluation()' callback via 'callbacks' argument instead.\n",
      "  _log_warning(\"'verbose' argument is deprecated and will be removed in a future release of LightGBM. \"\n",
      "D:\\source\\repos\\venv\\Python310\\lib\\site-packages\\lightgbm\\basic.py:179: UserWarning: Converting column-vector to 1d array\n",
      "  _log_warning('Converting column-vector to 1d array')\n",
      "\u001b[32m[I 2023-01-16 08:39:54,637]\u001b[0m Trial 40 finished with value: 0.8752597051433235 and parameters: {'learning_rate': 0.019764870164492427, 'max_depth': 259, 'num_leaves': 3286, 'colsample_bytree': 0.302290245882416, 'subsample': 0.9661032287735182, 'subsample_freq': 2, 'min_child_samples': 825, 'reg_lambda': 89, 'n_estimators': 30855}. Best is trial 38 with value: 0.8865850381551892.\u001b[0m\n"
     ]
    },
    {
     "name": "stdout",
     "output_type": "stream",
     "text": [
      "0.8842285822809872\n",
      "Training until validation scores don't improve for 100 rounds\n",
      "Early stopping, best iteration is:\n",
      "[41]\tvalid_0's auc: 0.87526\n",
      "0.8752597051433235\n"
     ]
    },
    {
     "name": "stderr",
     "output_type": "stream",
     "text": [
      "D:\\source\\repos\\venv\\Python310\\lib\\site-packages\\sklearn\\utils\\validation.py:1141: DataConversionWarning: A column-vector y was passed when a 1d array was expected. Please change the shape of y to (n_samples, ), for example using ravel().\n",
      "  y = column_or_1d(y, warn=True)\n",
      "D:\\source\\repos\\venv\\Python310\\lib\\site-packages\\lightgbm\\sklearn.py:736: UserWarning: 'verbose' argument is deprecated and will be removed in a future release of LightGBM. Pass 'log_evaluation()' callback via 'callbacks' argument instead.\n",
      "  _log_warning(\"'verbose' argument is deprecated and will be removed in a future release of LightGBM. \"\n",
      "D:\\source\\repos\\venv\\Python310\\lib\\site-packages\\lightgbm\\basic.py:179: UserWarning: Converting column-vector to 1d array\n",
      "  _log_warning('Converting column-vector to 1d array')\n",
      "\u001b[32m[I 2023-01-16 08:39:54,819]\u001b[0m Trial 41 finished with value: 0.8801335751523548 and parameters: {'learning_rate': 0.04469499462848134, 'max_depth': 362, 'num_leaves': 5340, 'colsample_bytree': 0.47750724563010805, 'subsample': 0.9313411191671959, 'subsample_freq': 2, 'min_child_samples': 768, 'reg_lambda': 100, 'n_estimators': 35680}. Best is trial 38 with value: 0.8865850381551892.\u001b[0m\n",
      "D:\\source\\repos\\venv\\Python310\\lib\\site-packages\\sklearn\\utils\\validation.py:1141: DataConversionWarning: A column-vector y was passed when a 1d array was expected. Please change the shape of y to (n_samples, ), for example using ravel().\n",
      "  y = column_or_1d(y, warn=True)\n"
     ]
    },
    {
     "name": "stdout",
     "output_type": "stream",
     "text": [
      "Training until validation scores don't improve for 100 rounds\n",
      "Early stopping, best iteration is:\n",
      "[21]\tvalid_0's auc: 0.880134\n",
      "0.8801335751523548\n",
      "Training until validation scores don't improve for 100 rounds\n"
     ]
    },
    {
     "name": "stderr",
     "output_type": "stream",
     "text": [
      "D:\\source\\repos\\venv\\Python310\\lib\\site-packages\\lightgbm\\sklearn.py:736: UserWarning: 'verbose' argument is deprecated and will be removed in a future release of LightGBM. Pass 'log_evaluation()' callback via 'callbacks' argument instead.\n",
      "  _log_warning(\"'verbose' argument is deprecated and will be removed in a future release of LightGBM. \"\n",
      "D:\\source\\repos\\venv\\Python310\\lib\\site-packages\\lightgbm\\basic.py:179: UserWarning: Converting column-vector to 1d array\n",
      "  _log_warning('Converting column-vector to 1d array')\n",
      "\u001b[32m[I 2023-01-16 08:39:55,110]\u001b[0m Trial 42 finished with value: 0.8801325649540662 and parameters: {'learning_rate': 0.03882162105355867, 'max_depth': 542, 'num_leaves': 4474, 'colsample_bytree': 0.5153902965629266, 'subsample': 0.983223605333794, 'subsample_freq': 3, 'min_child_samples': 917, 'reg_lambda': 91, 'n_estimators': 27137}. Best is trial 38 with value: 0.8865850381551892.\u001b[0m\n"
     ]
    },
    {
     "name": "stdout",
     "output_type": "stream",
     "text": [
      "Early stopping, best iteration is:\n",
      "[162]\tvalid_0's auc: 0.880133\n",
      "0.8801325649540662\n",
      "Training until validation scores don't improve for 100 rounds\n"
     ]
    },
    {
     "name": "stderr",
     "output_type": "stream",
     "text": [
      "D:\\source\\repos\\venv\\Python310\\lib\\site-packages\\sklearn\\utils\\validation.py:1141: DataConversionWarning: A column-vector y was passed when a 1d array was expected. Please change the shape of y to (n_samples, ), for example using ravel().\n",
      "  y = column_or_1d(y, warn=True)\n",
      "D:\\source\\repos\\venv\\Python310\\lib\\site-packages\\lightgbm\\sklearn.py:736: UserWarning: 'verbose' argument is deprecated and will be removed in a future release of LightGBM. Pass 'log_evaluation()' callback via 'callbacks' argument instead.\n",
      "  _log_warning(\"'verbose' argument is deprecated and will be removed in a future release of LightGBM. \"\n",
      "D:\\source\\repos\\venv\\Python310\\lib\\site-packages\\lightgbm\\basic.py:179: UserWarning: Converting column-vector to 1d array\n",
      "  _log_warning('Converting column-vector to 1d array')\n",
      "\u001b[32m[I 2023-01-16 08:39:55,312]\u001b[0m Trial 43 finished with value: 0.8777208849067621 and parameters: {'learning_rate': 0.04433448311179723, 'max_depth': 600, 'num_leaves': 6220, 'colsample_bytree': 0.5594956708443704, 'subsample': 0.879812918000231, 'subsample_freq': 1, 'min_child_samples': 853, 'reg_lambda': 71, 'n_estimators': 41211}. Best is trial 38 with value: 0.8865850381551892.\u001b[0m\n",
      "D:\\source\\repos\\venv\\Python310\\lib\\site-packages\\sklearn\\utils\\validation.py:1141: DataConversionWarning: A column-vector y was passed when a 1d array was expected. Please change the shape of y to (n_samples, ), for example using ravel().\n",
      "  y = column_or_1d(y, warn=True)\n",
      "D:\\source\\repos\\venv\\Python310\\lib\\site-packages\\lightgbm\\sklearn.py:736: UserWarning: 'verbose' argument is deprecated and will be removed in a future release of LightGBM. Pass 'log_evaluation()' callback via 'callbacks' argument instead.\n",
      "  _log_warning(\"'verbose' argument is deprecated and will be removed in a future release of LightGBM. \"\n",
      "D:\\source\\repos\\venv\\Python310\\lib\\site-packages\\lightgbm\\basic.py:179: UserWarning: Converting column-vector to 1d array\n",
      "  _log_warning('Converting column-vector to 1d array')\n",
      "\u001b[32m[I 2023-01-16 08:39:55,482]\u001b[0m Trial 44 finished with value: 0.8723782828918879 and parameters: {'learning_rate': 0.05294787285848492, 'max_depth': 374, 'num_leaves': 5497, 'colsample_bytree': 0.4428775153444958, 'subsample': 0.4177947871271958, 'subsample_freq': 3, 'min_child_samples': 628, 'reg_lambda': 95, 'n_estimators': 14761}. Best is trial 38 with value: 0.8865850381551892.\u001b[0m\n"
     ]
    },
    {
     "name": "stdout",
     "output_type": "stream",
     "text": [
      "Early stopping, best iteration is:\n",
      "[11]\tvalid_0's auc: 0.877721\n",
      "0.8777208849067621\n",
      "Training until validation scores don't improve for 100 rounds\n",
      "Early stopping, best iteration is:\n",
      "[21]\tvalid_0's auc: 0.872378\n",
      "0.8723782828918879\n"
     ]
    },
    {
     "name": "stderr",
     "output_type": "stream",
     "text": [
      "D:\\source\\repos\\venv\\Python310\\lib\\site-packages\\sklearn\\utils\\validation.py:1141: DataConversionWarning: A column-vector y was passed when a 1d array was expected. Please change the shape of y to (n_samples, ), for example using ravel().\n",
      "  y = column_or_1d(y, warn=True)\n",
      "D:\\source\\repos\\venv\\Python310\\lib\\site-packages\\lightgbm\\sklearn.py:736: UserWarning: 'verbose' argument is deprecated and will be removed in a future release of LightGBM. Pass 'log_evaluation()' callback via 'callbacks' argument instead.\n",
      "  _log_warning(\"'verbose' argument is deprecated and will be removed in a future release of LightGBM. \"\n",
      "D:\\source\\repos\\venv\\Python310\\lib\\site-packages\\lightgbm\\basic.py:179: UserWarning: Converting column-vector to 1d array\n",
      "  _log_warning('Converting column-vector to 1d array')\n",
      "\u001b[32m[I 2023-01-16 08:39:55,701]\u001b[0m Trial 45 finished with value: 0.8783408099231105 and parameters: {'learning_rate': 0.03549592384361071, 'max_depth': 172, 'num_leaves': 7288, 'colsample_bytree': 0.3751501610165565, 'subsample': 0.9267457816538972, 'subsample_freq': 4, 'min_child_samples': 1000, 'reg_lambda': 84, 'n_estimators': 48343}. Best is trial 38 with value: 0.8865850381551892.\u001b[0m\n"
     ]
    },
    {
     "name": "stdout",
     "output_type": "stream",
     "text": [
      "Training until validation scores don't improve for 100 rounds\n",
      "Early stopping, best iteration is:\n",
      "[43]\tvalid_0's auc: 0.878341\n",
      "0.8783408099231105\n"
     ]
    },
    {
     "name": "stderr",
     "output_type": "stream",
     "text": [
      "D:\\source\\repos\\venv\\Python310\\lib\\site-packages\\sklearn\\utils\\validation.py:1141: DataConversionWarning: A column-vector y was passed when a 1d array was expected. Please change the shape of y to (n_samples, ), for example using ravel().\n",
      "  y = column_or_1d(y, warn=True)\n",
      "D:\\source\\repos\\venv\\Python310\\lib\\site-packages\\lightgbm\\sklearn.py:736: UserWarning: 'verbose' argument is deprecated and will be removed in a future release of LightGBM. Pass 'log_evaluation()' callback via 'callbacks' argument instead.\n",
      "  _log_warning(\"'verbose' argument is deprecated and will be removed in a future release of LightGBM. \"\n",
      "D:\\source\\repos\\venv\\Python310\\lib\\site-packages\\lightgbm\\basic.py:179: UserWarning: Converting column-vector to 1d array\n",
      "  _log_warning('Converting column-vector to 1d array')\n",
      "\u001b[32m[I 2023-01-16 08:39:55,911]\u001b[0m Trial 46 finished with value: 0.8317504648595792 and parameters: {'learning_rate': 0.026201274834643164, 'max_depth': 497, 'num_leaves': 4869, 'colsample_bytree': 0.6790713753069351, 'subsample': 0.23191085603437922, 'subsample_freq': 2, 'min_child_samples': 806, 'reg_lambda': 88, 'n_estimators': 37263}. Best is trial 38 with value: 0.8865850381551892.\u001b[0m\n",
      "D:\\source\\repos\\venv\\Python310\\lib\\site-packages\\sklearn\\utils\\validation.py:1141: DataConversionWarning: A column-vector y was passed when a 1d array was expected. Please change the shape of y to (n_samples, ), for example using ravel().\n",
      "  y = column_or_1d(y, warn=True)\n"
     ]
    },
    {
     "name": "stdout",
     "output_type": "stream",
     "text": [
      "Training until validation scores don't improve for 100 rounds\n",
      "Early stopping, best iteration is:\n",
      "[140]\tvalid_0's auc: 0.83175\n",
      "0.8317504648595792\n"
     ]
    },
    {
     "name": "stderr",
     "output_type": "stream",
     "text": [
      "D:\\source\\repos\\venv\\Python310\\lib\\site-packages\\lightgbm\\sklearn.py:736: UserWarning: 'verbose' argument is deprecated and will be removed in a future release of LightGBM. Pass 'log_evaluation()' callback via 'callbacks' argument instead.\n",
      "  _log_warning(\"'verbose' argument is deprecated and will be removed in a future release of LightGBM. \"\n",
      "D:\\source\\repos\\venv\\Python310\\lib\\site-packages\\lightgbm\\basic.py:179: UserWarning: Converting column-vector to 1d array\n",
      "  _log_warning('Converting column-vector to 1d array')\n",
      "\u001b[32m[I 2023-01-16 08:39:56,053]\u001b[0m Trial 47 finished with value: 0.5 and parameters: {'learning_rate': 0.047120367115959245, 'max_depth': 103, 'num_leaves': 7886, 'colsample_bytree': 0.3050164334168114, 'subsample': 0.10519946488428517, 'subsample_freq': 1, 'min_child_samples': 752, 'reg_lambda': 95, 'n_estimators': 46950}. Best is trial 38 with value: 0.8865850381551892.\u001b[0m\n",
      "D:\\source\\repos\\venv\\Python310\\lib\\site-packages\\sklearn\\utils\\validation.py:1141: DataConversionWarning: A column-vector y was passed when a 1d array was expected. Please change the shape of y to (n_samples, ), for example using ravel().\n",
      "  y = column_or_1d(y, warn=True)\n",
      "D:\\source\\repos\\venv\\Python310\\lib\\site-packages\\lightgbm\\sklearn.py:736: UserWarning: 'verbose' argument is deprecated and will be removed in a future release of LightGBM. Pass 'log_evaluation()' callback via 'callbacks' argument instead.\n",
      "  _log_warning(\"'verbose' argument is deprecated and will be removed in a future release of LightGBM. \"\n",
      "D:\\source\\repos\\venv\\Python310\\lib\\site-packages\\lightgbm\\basic.py:179: UserWarning: Converting column-vector to 1d array\n",
      "  _log_warning('Converting column-vector to 1d array')\n"
     ]
    },
    {
     "name": "stdout",
     "output_type": "stream",
     "text": [
      "Training until validation scores don't improve for 100 rounds\n",
      "Early stopping, best iteration is:\n",
      "[1]\tvalid_0's auc: 0.5\n",
      "0.5\n",
      "Training until validation scores don't improve for 100 rounds\n"
     ]
    },
    {
     "name": "stderr",
     "output_type": "stream",
     "text": [
      "\u001b[32m[I 2023-01-16 08:39:56,378]\u001b[0m Trial 48 finished with value: 0.8727645153708405 and parameters: {'learning_rate': 0.05559614193352745, 'max_depth': 241, 'num_leaves': 9861, 'colsample_bytree': 0.6239285967705898, 'subsample': 0.9397704571956559, 'subsample_freq': 3, 'min_child_samples': 668, 'reg_lambda': 100, 'n_estimators': 56276}. Best is trial 38 with value: 0.8865850381551892.\u001b[0m\n"
     ]
    },
    {
     "name": "stdout",
     "output_type": "stream",
     "text": [
      "Early stopping, best iteration is:\n",
      "[85]\tvalid_0's auc: 0.872765\n",
      "0.8727645153708405\n",
      "Training until validation scores don't improve for 100 rounds\n"
     ]
    },
    {
     "name": "stderr",
     "output_type": "stream",
     "text": [
      "D:\\source\\repos\\venv\\Python310\\lib\\site-packages\\sklearn\\utils\\validation.py:1141: DataConversionWarning: A column-vector y was passed when a 1d array was expected. Please change the shape of y to (n_samples, ), for example using ravel().\n",
      "  y = column_or_1d(y, warn=True)\n",
      "D:\\source\\repos\\venv\\Python310\\lib\\site-packages\\lightgbm\\sklearn.py:736: UserWarning: 'verbose' argument is deprecated and will be removed in a future release of LightGBM. Pass 'log_evaluation()' callback via 'callbacks' argument instead.\n",
      "  _log_warning(\"'verbose' argument is deprecated and will be removed in a future release of LightGBM. \"\n",
      "D:\\source\\repos\\venv\\Python310\\lib\\site-packages\\lightgbm\\basic.py:179: UserWarning: Converting column-vector to 1d array\n",
      "  _log_warning('Converting column-vector to 1d array')\n",
      "\u001b[32m[I 2023-01-16 08:39:56,584]\u001b[0m Trial 49 finished with value: 0.8609751646118111 and parameters: {'learning_rate': 0.09836841167627111, 'max_depth': 635, 'num_leaves': 8948, 'colsample_bytree': 0.24813037056917964, 'subsample': 0.8519338662442042, 'subsample_freq': 5, 'min_child_samples': 952, 'reg_lambda': 73, 'n_estimators': 99996}. Best is trial 38 with value: 0.8865850381551892.\u001b[0m\n",
      "D:\\source\\repos\\venv\\Python310\\lib\\site-packages\\sklearn\\utils\\validation.py:1141: DataConversionWarning: A column-vector y was passed when a 1d array was expected. Please change the shape of y to (n_samples, ), for example using ravel().\n",
      "  y = column_or_1d(y, warn=True)\n"
     ]
    },
    {
     "name": "stdout",
     "output_type": "stream",
     "text": [
      "Early stopping, best iteration is:\n",
      "[9]\tvalid_0's auc: 0.860975\n",
      "0.8609751646118111\n",
      "Training until validation scores don't improve for 100 rounds\n"
     ]
    },
    {
     "name": "stderr",
     "output_type": "stream",
     "text": [
      "D:\\source\\repos\\venv\\Python310\\lib\\site-packages\\lightgbm\\sklearn.py:736: UserWarning: 'verbose' argument is deprecated and will be removed in a future release of LightGBM. Pass 'log_evaluation()' callback via 'callbacks' argument instead.\n",
      "  _log_warning(\"'verbose' argument is deprecated and will be removed in a future release of LightGBM. \"\n",
      "D:\\source\\repos\\venv\\Python310\\lib\\site-packages\\lightgbm\\basic.py:179: UserWarning: Converting column-vector to 1d array\n",
      "  _log_warning('Converting column-vector to 1d array')\n",
      "\u001b[32m[I 2023-01-16 08:39:56,833]\u001b[0m Trial 50 finished with value: 0.8846003352511387 and parameters: {'learning_rate': 0.03089710089990126, 'max_depth': 395, 'num_leaves': 6407, 'colsample_bytree': 0.7517759063462922, 'subsample': 0.8102481292698094, 'subsample_freq': 2, 'min_child_samples': 608, 'reg_lambda': 79, 'n_estimators': 14479}. Best is trial 38 with value: 0.8865850381551892.\u001b[0m\n"
     ]
    },
    {
     "name": "stdout",
     "output_type": "stream",
     "text": [
      "Early stopping, best iteration is:\n",
      "[78]\tvalid_0's auc: 0.8846\n",
      "0.8846003352511387\n",
      "Training until validation scores don't improve for 100 rounds\n"
     ]
    },
    {
     "name": "stderr",
     "output_type": "stream",
     "text": [
      "D:\\source\\repos\\venv\\Python310\\lib\\site-packages\\sklearn\\utils\\validation.py:1141: DataConversionWarning: A column-vector y was passed when a 1d array was expected. Please change the shape of y to (n_samples, ), for example using ravel().\n",
      "  y = column_or_1d(y, warn=True)\n",
      "D:\\source\\repos\\venv\\Python310\\lib\\site-packages\\lightgbm\\sklearn.py:736: UserWarning: 'verbose' argument is deprecated and will be removed in a future release of LightGBM. Pass 'log_evaluation()' callback via 'callbacks' argument instead.\n",
      "  _log_warning(\"'verbose' argument is deprecated and will be removed in a future release of LightGBM. \"\n",
      "D:\\source\\repos\\venv\\Python310\\lib\\site-packages\\lightgbm\\basic.py:179: UserWarning: Converting column-vector to 1d array\n",
      "  _log_warning('Converting column-vector to 1d array')\n",
      "\u001b[32m[I 2023-01-16 08:39:57,046]\u001b[0m Trial 51 finished with value: 0.8629996019818744 and parameters: {'learning_rate': 0.033534077792163594, 'max_depth': 405, 'num_leaves': 6583, 'colsample_bytree': 0.7735318066640499, 'subsample': 0.9990108046339952, 'subsample_freq': 2, 'min_child_samples': 594, 'reg_lambda': 80, 'n_estimators': 17376}. Best is trial 38 with value: 0.8865850381551892.\u001b[0m\n"
     ]
    },
    {
     "name": "stdout",
     "output_type": "stream",
     "text": [
      "Early stopping, best iteration is:\n",
      "[24]\tvalid_0's auc: 0.863\n",
      "0.8629996019818744\n",
      "Training until validation scores don't improve for 100 rounds\n"
     ]
    },
    {
     "name": "stderr",
     "output_type": "stream",
     "text": [
      "D:\\source\\repos\\venv\\Python310\\lib\\site-packages\\sklearn\\utils\\validation.py:1141: DataConversionWarning: A column-vector y was passed when a 1d array was expected. Please change the shape of y to (n_samples, ), for example using ravel().\n",
      "  y = column_or_1d(y, warn=True)\n",
      "D:\\source\\repos\\venv\\Python310\\lib\\site-packages\\lightgbm\\sklearn.py:736: UserWarning: 'verbose' argument is deprecated and will be removed in a future release of LightGBM. Pass 'log_evaluation()' callback via 'callbacks' argument instead.\n",
      "  _log_warning(\"'verbose' argument is deprecated and will be removed in a future release of LightGBM. \"\n",
      "D:\\source\\repos\\venv\\Python310\\lib\\site-packages\\lightgbm\\basic.py:179: UserWarning: Converting column-vector to 1d array\n",
      "  _log_warning('Converting column-vector to 1d array')\n",
      "\u001b[32m[I 2023-01-16 08:39:57,280]\u001b[0m Trial 52 finished with value: 0.8839154208115664 and parameters: {'learning_rate': 0.030644712668285463, 'max_depth': 305, 'num_leaves': 5896, 'colsample_bytree': 0.8722940250417734, 'subsample': 0.7933864047437698, 'subsample_freq': 1, 'min_child_samples': 695, 'reg_lambda': 91, 'n_estimators': 24634}. Best is trial 38 with value: 0.8865850381551892.\u001b[0m\n"
     ]
    },
    {
     "name": "stdout",
     "output_type": "stream",
     "text": [
      "Early stopping, best iteration is:\n",
      "[75]\tvalid_0's auc: 0.883915\n",
      "0.8839154208115664\n",
      "Training until validation scores don't improve for 100 rounds\n"
     ]
    },
    {
     "name": "stderr",
     "output_type": "stream",
     "text": [
      "D:\\source\\repos\\venv\\Python310\\lib\\site-packages\\sklearn\\utils\\validation.py:1141: DataConversionWarning: A column-vector y was passed when a 1d array was expected. Please change the shape of y to (n_samples, ), for example using ravel().\n",
      "  y = column_or_1d(y, warn=True)\n",
      "D:\\source\\repos\\venv\\Python310\\lib\\site-packages\\lightgbm\\sklearn.py:736: UserWarning: 'verbose' argument is deprecated and will be removed in a future release of LightGBM. Pass 'log_evaluation()' callback via 'callbacks' argument instead.\n",
      "  _log_warning(\"'verbose' argument is deprecated and will be removed in a future release of LightGBM. \"\n",
      "D:\\source\\repos\\venv\\Python310\\lib\\site-packages\\lightgbm\\basic.py:179: UserWarning: Converting column-vector to 1d array\n",
      "  _log_warning('Converting column-vector to 1d array')\n",
      "\u001b[32m[I 2023-01-16 08:39:57,519]\u001b[0m Trial 53 finished with value: 0.8812340178212448 and parameters: {'learning_rate': 0.029727340024518628, 'max_depth': 293, 'num_leaves': 6301, 'colsample_bytree': 0.8598386386934719, 'subsample': 0.8018285509559625, 'subsample_freq': 1, 'min_child_samples': 678, 'reg_lambda': 89, 'n_estimators': 24753}. Best is trial 38 with value: 0.8865850381551892.\u001b[0m\n"
     ]
    },
    {
     "name": "stdout",
     "output_type": "stream",
     "text": [
      "Early stopping, best iteration is:\n",
      "[64]\tvalid_0's auc: 0.881234\n",
      "0.8812340178212448\n",
      "Training until validation scores don't improve for 100 rounds\n"
     ]
    },
    {
     "name": "stderr",
     "output_type": "stream",
     "text": [
      "D:\\source\\repos\\venv\\Python310\\lib\\site-packages\\sklearn\\utils\\validation.py:1141: DataConversionWarning: A column-vector y was passed when a 1d array was expected. Please change the shape of y to (n_samples, ), for example using ravel().\n",
      "  y = column_or_1d(y, warn=True)\n",
      "D:\\source\\repos\\venv\\Python310\\lib\\site-packages\\lightgbm\\sklearn.py:736: UserWarning: 'verbose' argument is deprecated and will be removed in a future release of LightGBM. Pass 'log_evaluation()' callback via 'callbacks' argument instead.\n",
      "  _log_warning(\"'verbose' argument is deprecated and will be removed in a future release of LightGBM. \"\n",
      "D:\\source\\repos\\venv\\Python310\\lib\\site-packages\\lightgbm\\basic.py:179: UserWarning: Converting column-vector to 1d array\n",
      "  _log_warning('Converting column-vector to 1d array')\n",
      "\u001b[32m[I 2023-01-16 08:39:57,904]\u001b[0m Trial 54 finished with value: 0.8749398090186463 and parameters: {'learning_rate': 0.013239054326615034, 'max_depth': 197, 'num_leaves': 7046, 'colsample_bytree': 0.9563401823596702, 'subsample': 0.7153650066954181, 'subsample_freq': 1, 'min_child_samples': 628, 'reg_lambda': 86, 'n_estimators': 18739}. Best is trial 38 with value: 0.8865850381551892.\u001b[0m\n"
     ]
    },
    {
     "name": "stdout",
     "output_type": "stream",
     "text": [
      "Early stopping, best iteration is:\n",
      "[193]\tvalid_0's auc: 0.87494\n",
      "0.8749398090186463\n",
      "Training until validation scores don't improve for 100 rounds\n"
     ]
    },
    {
     "name": "stderr",
     "output_type": "stream",
     "text": [
      "D:\\source\\repos\\venv\\Python310\\lib\\site-packages\\sklearn\\utils\\validation.py:1141: DataConversionWarning: A column-vector y was passed when a 1d array was expected. Please change the shape of y to (n_samples, ), for example using ravel().\n",
      "  y = column_or_1d(y, warn=True)\n",
      "D:\\source\\repos\\venv\\Python310\\lib\\site-packages\\lightgbm\\sklearn.py:736: UserWarning: 'verbose' argument is deprecated and will be removed in a future release of LightGBM. Pass 'log_evaluation()' callback via 'callbacks' argument instead.\n",
      "  _log_warning(\"'verbose' argument is deprecated and will be removed in a future release of LightGBM. \"\n",
      "D:\\source\\repos\\venv\\Python310\\lib\\site-packages\\lightgbm\\basic.py:179: UserWarning: Converting column-vector to 1d array\n",
      "  _log_warning('Converting column-vector to 1d array')\n",
      "\u001b[32m[I 2023-01-16 08:39:58,164]\u001b[0m Trial 55 finished with value: 0.863541068264486 and parameters: {'learning_rate': 0.04128653136307361, 'max_depth': 293, 'num_leaves': 8122, 'colsample_bytree': 0.9657721132013385, 'subsample': 0.6812421481180697, 'subsample_freq': 2, 'min_child_samples': 745, 'reg_lambda': 94, 'n_estimators': 31885}. Best is trial 38 with value: 0.8865850381551892.\u001b[0m\n"
     ]
    },
    {
     "name": "stdout",
     "output_type": "stream",
     "text": [
      "Early stopping, best iteration is:\n",
      "[58]\tvalid_0's auc: 0.863541\n",
      "0.863541068264486\n",
      "Training until validation scores don't improve for 100 rounds\n"
     ]
    },
    {
     "name": "stderr",
     "output_type": "stream",
     "text": [
      "D:\\source\\repos\\venv\\Python310\\lib\\site-packages\\sklearn\\utils\\validation.py:1141: DataConversionWarning: A column-vector y was passed when a 1d array was expected. Please change the shape of y to (n_samples, ), for example using ravel().\n",
      "  y = column_or_1d(y, warn=True)\n",
      "D:\\source\\repos\\venv\\Python310\\lib\\site-packages\\lightgbm\\sklearn.py:736: UserWarning: 'verbose' argument is deprecated and will be removed in a future release of LightGBM. Pass 'log_evaluation()' callback via 'callbacks' argument instead.\n",
      "  _log_warning(\"'verbose' argument is deprecated and will be removed in a future release of LightGBM. \"\n",
      "D:\\source\\repos\\venv\\Python310\\lib\\site-packages\\lightgbm\\basic.py:179: UserWarning: Converting column-vector to 1d array\n",
      "  _log_warning('Converting column-vector to 1d array')\n",
      "\u001b[32m[I 2023-01-16 08:39:58,375]\u001b[0m Trial 56 finished with value: 0.8725109556004383 and parameters: {'learning_rate': 0.037328588586193374, 'max_depth': 406, 'num_leaves': 4641, 'colsample_bytree': 0.9005087394755118, 'subsample': 0.8647891642500815, 'subsample_freq': 2, 'min_child_samples': 805, 'reg_lambda': 78, 'n_estimators': 27604}. Best is trial 38 with value: 0.8865850381551892.\u001b[0m\n"
     ]
    },
    {
     "name": "stdout",
     "output_type": "stream",
     "text": [
      "Early stopping, best iteration is:\n",
      "[67]\tvalid_0's auc: 0.872511\n",
      "0.8725109556004383\n",
      "Training until validation scores don't improve for 100 rounds\n"
     ]
    },
    {
     "name": "stderr",
     "output_type": "stream",
     "text": [
      "D:\\source\\repos\\venv\\Python310\\lib\\site-packages\\sklearn\\utils\\validation.py:1141: DataConversionWarning: A column-vector y was passed when a 1d array was expected. Please change the shape of y to (n_samples, ), for example using ravel().\n",
      "  y = column_or_1d(y, warn=True)\n",
      "D:\\source\\repos\\venv\\Python310\\lib\\site-packages\\lightgbm\\sklearn.py:736: UserWarning: 'verbose' argument is deprecated and will be removed in a future release of LightGBM. Pass 'log_evaluation()' callback via 'callbacks' argument instead.\n",
      "  _log_warning(\"'verbose' argument is deprecated and will be removed in a future release of LightGBM. \"\n",
      "D:\\source\\repos\\venv\\Python310\\lib\\site-packages\\lightgbm\\basic.py:179: UserWarning: Converting column-vector to 1d array\n",
      "  _log_warning('Converting column-vector to 1d array')\n",
      "\u001b[32m[I 2023-01-16 08:39:58,843]\u001b[0m Trial 57 finished with value: 0.8558302247287112 and parameters: {'learning_rate': 0.031051845380111905, 'max_depth': 247, 'num_leaves': 7674, 'colsample_bytree': 0.14883694096539485, 'subsample': 0.3547675405134114, 'subsample_freq': 1, 'min_child_samples': 533, 'reg_lambda': 91, 'n_estimators': 10090}. Best is trial 38 with value: 0.8865850381551892.\u001b[0m\n"
     ]
    },
    {
     "name": "stdout",
     "output_type": "stream",
     "text": [
      "Early stopping, best iteration is:\n",
      "[333]\tvalid_0's auc: 0.856238\n",
      "0.8558302247287112\n",
      "Training until validation scores don't improve for 100 rounds\n"
     ]
    },
    {
     "name": "stderr",
     "output_type": "stream",
     "text": [
      "D:\\source\\repos\\venv\\Python310\\lib\\site-packages\\sklearn\\utils\\validation.py:1141: DataConversionWarning: A column-vector y was passed when a 1d array was expected. Please change the shape of y to (n_samples, ), for example using ravel().\n",
      "  y = column_or_1d(y, warn=True)\n",
      "D:\\source\\repos\\venv\\Python310\\lib\\site-packages\\lightgbm\\sklearn.py:736: UserWarning: 'verbose' argument is deprecated and will be removed in a future release of LightGBM. Pass 'log_evaluation()' callback via 'callbacks' argument instead.\n",
      "  _log_warning(\"'verbose' argument is deprecated and will be removed in a future release of LightGBM. \"\n",
      "D:\\source\\repos\\venv\\Python310\\lib\\site-packages\\lightgbm\\basic.py:179: UserWarning: Converting column-vector to 1d array\n",
      "  _log_warning('Converting column-vector to 1d array')\n",
      "\u001b[32m[I 2023-01-16 08:39:59,026]\u001b[0m Trial 58 finished with value: 0.8826486321578442 and parameters: {'learning_rate': 0.022508105257464384, 'max_depth': 142, 'num_leaves': 5699, 'colsample_bytree': 0.7427171503886931, 'subsample': 0.7517295154230957, 'subsample_freq': 3, 'min_child_samples': 585, 'reg_lambda': 69, 'n_estimators': 20757}. Best is trial 38 with value: 0.8865850381551892.\u001b[0m\n",
      "D:\\source\\repos\\venv\\Python310\\lib\\site-packages\\sklearn\\utils\\validation.py:1141: DataConversionWarning: A column-vector y was passed when a 1d array was expected. Please change the shape of y to (n_samples, ), for example using ravel().\n",
      "  y = column_or_1d(y, warn=True)\n"
     ]
    },
    {
     "name": "stdout",
     "output_type": "stream",
     "text": [
      "Early stopping, best iteration is:\n",
      "[9]\tvalid_0's auc: 0.882649\n",
      "0.8826486321578442\n",
      "Training until validation scores don't improve for 100 rounds\n",
      "Early stopping, best iteration is:\n",
      "[29]\tvalid_0's auc: 0.883304\n"
     ]
    },
    {
     "name": "stderr",
     "output_type": "stream",
     "text": [
      "D:\\source\\repos\\venv\\Python310\\lib\\site-packages\\lightgbm\\sklearn.py:736: UserWarning: 'verbose' argument is deprecated and will be removed in a future release of LightGBM. Pass 'log_evaluation()' callback via 'callbacks' argument instead.\n",
      "  _log_warning(\"'verbose' argument is deprecated and will be removed in a future release of LightGBM. \"\n",
      "D:\\source\\repos\\venv\\Python310\\lib\\site-packages\\lightgbm\\basic.py:179: UserWarning: Converting column-vector to 1d array\n",
      "  _log_warning('Converting column-vector to 1d array')\n",
      "\u001b[32m[I 2023-01-16 08:39:59,242]\u001b[0m Trial 59 finished with value: 0.8833039141142884 and parameters: {'learning_rate': 0.020340711285408937, 'max_depth': 135, 'num_leaves': 5742, 'colsample_bytree': 0.7764032464501781, 'subsample': 0.7574372344108176, 'subsample_freq': 3, 'min_child_samples': 597, 'reg_lambda': 69, 'n_estimators': 20275}. Best is trial 38 with value: 0.8865850381551892.\u001b[0m\n",
      "D:\\source\\repos\\venv\\Python310\\lib\\site-packages\\sklearn\\utils\\validation.py:1141: DataConversionWarning: A column-vector y was passed when a 1d array was expected. Please change the shape of y to (n_samples, ), for example using ravel().\n",
      "  y = column_or_1d(y, warn=True)\n"
     ]
    },
    {
     "name": "stdout",
     "output_type": "stream",
     "text": [
      "0.8833039141142884\n",
      "Training until validation scores don't improve for 100 rounds\n"
     ]
    },
    {
     "name": "stderr",
     "output_type": "stream",
     "text": [
      "D:\\source\\repos\\venv\\Python310\\lib\\site-packages\\lightgbm\\sklearn.py:736: UserWarning: 'verbose' argument is deprecated and will be removed in a future release of LightGBM. Pass 'log_evaluation()' callback via 'callbacks' argument instead.\n",
      "  _log_warning(\"'verbose' argument is deprecated and will be removed in a future release of LightGBM. \"\n",
      "D:\\source\\repos\\venv\\Python310\\lib\\site-packages\\lightgbm\\basic.py:179: UserWarning: Converting column-vector to 1d array\n",
      "  _log_warning('Converting column-vector to 1d array')\n",
      "\u001b[32m[I 2023-01-16 08:39:59,595]\u001b[0m Trial 60 finished with value: 0.8885896082922463 and parameters: {'learning_rate': 0.0150098015602709, 'max_depth': 142, 'num_leaves': 5070, 'colsample_bytree': 0.8638973826037416, 'subsample': 0.8042450295157566, 'subsample_freq': 4, 'min_child_samples': 884, 'reg_lambda': 78, 'n_estimators': 15404}. Best is trial 60 with value: 0.8885896082922463.\u001b[0m\n"
     ]
    },
    {
     "name": "stdout",
     "output_type": "stream",
     "text": [
      "Early stopping, best iteration is:\n",
      "[208]\tvalid_0's auc: 0.88859\n",
      "0.8885896082922463\n",
      "Training until validation scores don't improve for 100 rounds\n"
     ]
    },
    {
     "name": "stderr",
     "output_type": "stream",
     "text": [
      "D:\\source\\repos\\venv\\Python310\\lib\\site-packages\\sklearn\\utils\\validation.py:1141: DataConversionWarning: A column-vector y was passed when a 1d array was expected. Please change the shape of y to (n_samples, ), for example using ravel().\n",
      "  y = column_or_1d(y, warn=True)\n",
      "D:\\source\\repos\\venv\\Python310\\lib\\site-packages\\lightgbm\\sklearn.py:736: UserWarning: 'verbose' argument is deprecated and will be removed in a future release of LightGBM. Pass 'log_evaluation()' callback via 'callbacks' argument instead.\n",
      "  _log_warning(\"'verbose' argument is deprecated and will be removed in a future release of LightGBM. \"\n",
      "D:\\source\\repos\\venv\\Python310\\lib\\site-packages\\lightgbm\\basic.py:179: UserWarning: Converting column-vector to 1d array\n",
      "  _log_warning('Converting column-vector to 1d array')\n",
      "\u001b[32m[I 2023-01-16 08:39:59,891]\u001b[0m Trial 61 finished with value: 0.8746640248858981 and parameters: {'learning_rate': 0.01604274114751357, 'max_depth': 134, 'num_leaves': 5051, 'colsample_bytree': 0.8543833188552733, 'subsample': 0.8123796017512754, 'subsample_freq': 4, 'min_child_samples': 871, 'reg_lambda': 79, 'n_estimators': 14055}. Best is trial 60 with value: 0.8885896082922463.\u001b[0m\n",
      "D:\\source\\repos\\venv\\Python310\\lib\\site-packages\\sklearn\\utils\\validation.py:1141: DataConversionWarning: A column-vector y was passed when a 1d array was expected. Please change the shape of y to (n_samples, ), for example using ravel().\n",
      "  y = column_or_1d(y, warn=True)\n",
      "D:\\source\\repos\\venv\\Python310\\lib\\site-packages\\lightgbm\\sklearn.py:736: UserWarning: 'verbose' argument is deprecated and will be removed in a future release of LightGBM. Pass 'log_evaluation()' callback via 'callbacks' argument instead.\n",
      "  _log_warning(\"'verbose' argument is deprecated and will be removed in a future release of LightGBM. \"\n",
      "D:\\source\\repos\\venv\\Python310\\lib\\site-packages\\lightgbm\\basic.py:179: UserWarning: Converting column-vector to 1d array\n",
      "  _log_warning('Converting column-vector to 1d array')\n",
      "\u001b[32m[I 2023-01-16 08:40:00,055]\u001b[0m Trial 62 finished with value: 0.8728476883632565 and parameters: {'learning_rate': 0.007371630464840202, 'max_depth': 199, 'num_leaves': 4357, 'colsample_bytree': 0.7745477152756898, 'subsample': 0.782405342990616, 'subsample_freq': 3, 'min_child_samples': 686, 'reg_lambda': 97, 'n_estimators': 5705}. Best is trial 60 with value: 0.8885896082922463.\u001b[0m\n"
     ]
    },
    {
     "name": "stdout",
     "output_type": "stream",
     "text": [
      "Early stopping, best iteration is:\n",
      "[187]\tvalid_0's auc: 0.874664\n",
      "0.8746640248858981\n",
      "Training until validation scores don't improve for 100 rounds\n",
      "Early stopping, best iteration is:\n",
      "[5]\tvalid_0's auc: 0.872848\n",
      "0.8728476883632565\n"
     ]
    },
    {
     "name": "stderr",
     "output_type": "stream",
     "text": [
      "D:\\source\\repos\\venv\\Python310\\lib\\site-packages\\sklearn\\utils\\validation.py:1141: DataConversionWarning: A column-vector y was passed when a 1d array was expected. Please change the shape of y to (n_samples, ), for example using ravel().\n",
      "  y = column_or_1d(y, warn=True)\n",
      "D:\\source\\repos\\venv\\Python310\\lib\\site-packages\\lightgbm\\sklearn.py:736: UserWarning: 'verbose' argument is deprecated and will be removed in a future release of LightGBM. Pass 'log_evaluation()' callback via 'callbacks' argument instead.\n",
      "  _log_warning(\"'verbose' argument is deprecated and will be removed in a future release of LightGBM. \"\n",
      "D:\\source\\repos\\venv\\Python310\\lib\\site-packages\\lightgbm\\basic.py:179: UserWarning: Converting column-vector to 1d array\n",
      "  _log_warning('Converting column-vector to 1d array')\n",
      "\u001b[32m[I 2023-01-16 08:40:00,221]\u001b[0m Trial 63 finished with value: 0.8667413764423106 and parameters: {'learning_rate': 0.013146770475352836, 'max_depth': 211, 'num_leaves': 5831, 'colsample_bytree': 0.8273712308533876, 'subsample': 0.9621208362103113, 'subsample_freq': 3, 'min_child_samples': 894, 'reg_lambda': 67, 'n_estimators': 22839}. Best is trial 60 with value: 0.8885896082922463.\u001b[0m\n",
      "D:\\source\\repos\\venv\\Python310\\lib\\site-packages\\sklearn\\utils\\validation.py:1141: DataConversionWarning: A column-vector y was passed when a 1d array was expected. Please change the shape of y to (n_samples, ), for example using ravel().\n",
      "  y = column_or_1d(y, warn=True)\n",
      "D:\\source\\repos\\venv\\Python310\\lib\\site-packages\\lightgbm\\sklearn.py:736: UserWarning: 'verbose' argument is deprecated and will be removed in a future release of LightGBM. Pass 'log_evaluation()' callback via 'callbacks' argument instead.\n",
      "  _log_warning(\"'verbose' argument is deprecated and will be removed in a future release of LightGBM. \"\n",
      "D:\\source\\repos\\venv\\Python310\\lib\\site-packages\\lightgbm\\basic.py:179: UserWarning: Converting column-vector to 1d array\n",
      "  _log_warning('Converting column-vector to 1d array')\n"
     ]
    },
    {
     "name": "stdout",
     "output_type": "stream",
     "text": [
      "Training until validation scores don't improve for 100 rounds\n",
      "Early stopping, best iteration is:\n",
      "[10]\tvalid_0's auc: 0.866741\n",
      "0.8667413764423106\n",
      "Training until validation scores don't improve for 100 rounds\n"
     ]
    },
    {
     "name": "stderr",
     "output_type": "stream",
     "text": [
      "\u001b[32m[I 2023-01-16 08:40:00,407]\u001b[0m Trial 64 finished with value: 0.8833561076925253 and parameters: {'learning_rate': 0.027375163592566157, 'max_depth': 319, 'num_leaves': 6463, 'colsample_bytree': 0.9181500027846251, 'subsample': 0.849463224559194, 'subsample_freq': 2, 'min_child_samples': 649, 'reg_lambda': 85, 'n_estimators': 35259}. Best is trial 60 with value: 0.8885896082922463.\u001b[0m\n",
      "D:\\source\\repos\\venv\\Python310\\lib\\site-packages\\sklearn\\utils\\validation.py:1141: DataConversionWarning: A column-vector y was passed when a 1d array was expected. Please change the shape of y to (n_samples, ), for example using ravel().\n",
      "  y = column_or_1d(y, warn=True)\n"
     ]
    },
    {
     "name": "stdout",
     "output_type": "stream",
     "text": [
      "Early stopping, best iteration is:\n",
      "[8]\tvalid_0's auc: 0.883356\n",
      "0.8833561076925253\n",
      "Training until validation scores don't improve for 100 rounds\n"
     ]
    },
    {
     "name": "stderr",
     "output_type": "stream",
     "text": [
      "D:\\source\\repos\\venv\\Python310\\lib\\site-packages\\lightgbm\\sklearn.py:736: UserWarning: 'verbose' argument is deprecated and will be removed in a future release of LightGBM. Pass 'log_evaluation()' callback via 'callbacks' argument instead.\n",
      "  _log_warning(\"'verbose' argument is deprecated and will be removed in a future release of LightGBM. \"\n",
      "D:\\source\\repos\\venv\\Python310\\lib\\site-packages\\lightgbm\\basic.py:179: UserWarning: Converting column-vector to 1d array\n",
      "  _log_warning('Converting column-vector to 1d array')\n",
      "\u001b[32m[I 2023-01-16 08:40:00,731]\u001b[0m Trial 65 finished with value: 0.8826499790888955 and parameters: {'learning_rate': 0.016549170480366165, 'max_depth': 349, 'num_leaves': 7041, 'colsample_bytree': 0.9117841419031361, 'subsample': 0.8377394435611432, 'subsample_freq': 2, 'min_child_samples': 832, 'reg_lambda': 86, 'n_estimators': 38041}. Best is trial 60 with value: 0.8885896082922463.\u001b[0m\n"
     ]
    },
    {
     "name": "stdout",
     "output_type": "stream",
     "text": [
      "Early stopping, best iteration is:\n",
      "[168]\tvalid_0's auc: 0.88265\n",
      "0.8826499790888955\n",
      "Training until validation scores don't improve for 100 rounds\n"
     ]
    },
    {
     "name": "stderr",
     "output_type": "stream",
     "text": [
      "D:\\source\\repos\\venv\\Python310\\lib\\site-packages\\sklearn\\utils\\validation.py:1141: DataConversionWarning: A column-vector y was passed when a 1d array was expected. Please change the shape of y to (n_samples, ), for example using ravel().\n",
      "  y = column_or_1d(y, warn=True)\n",
      "D:\\source\\repos\\venv\\Python310\\lib\\site-packages\\lightgbm\\sklearn.py:736: UserWarning: 'verbose' argument is deprecated and will be removed in a future release of LightGBM. Pass 'log_evaluation()' callback via 'callbacks' argument instead.\n",
      "  _log_warning(\"'verbose' argument is deprecated and will be removed in a future release of LightGBM. \"\n",
      "D:\\source\\repos\\venv\\Python310\\lib\\site-packages\\lightgbm\\basic.py:179: UserWarning: Converting column-vector to 1d array\n",
      "  _log_warning('Converting column-vector to 1d array')\n",
      "\u001b[32m[I 2023-01-16 08:40:00,968]\u001b[0m Trial 66 finished with value: 0.887604664961003 and parameters: {'learning_rate': 0.028099466973171925, 'max_depth': 312, 'num_leaves': 6348, 'colsample_bytree': 0.9193188425705341, 'subsample': 0.9042240926659302, 'subsample_freq': 4, 'min_child_samples': 776, 'reg_lambda': 92, 'n_estimators': 34475}. Best is trial 60 with value: 0.8885896082922463.\u001b[0m\n"
     ]
    },
    {
     "name": "stdout",
     "output_type": "stream",
     "text": [
      "Early stopping, best iteration is:\n",
      "[80]\tvalid_0's auc: 0.887605\n",
      "0.887604664961003\n",
      "Training until validation scores don't improve for 100 rounds\n"
     ]
    },
    {
     "name": "stderr",
     "output_type": "stream",
     "text": [
      "D:\\source\\repos\\venv\\Python310\\lib\\site-packages\\sklearn\\utils\\validation.py:1141: DataConversionWarning: A column-vector y was passed when a 1d array was expected. Please change the shape of y to (n_samples, ), for example using ravel().\n",
      "  y = column_or_1d(y, warn=True)\n",
      "D:\\source\\repos\\venv\\Python310\\lib\\site-packages\\lightgbm\\sklearn.py:736: UserWarning: 'verbose' argument is deprecated and will be removed in a future release of LightGBM. Pass 'log_evaluation()' callback via 'callbacks' argument instead.\n",
      "  _log_warning(\"'verbose' argument is deprecated and will be removed in a future release of LightGBM. \"\n",
      "D:\\source\\repos\\venv\\Python310\\lib\\site-packages\\lightgbm\\basic.py:179: UserWarning: Converting column-vector to 1d array\n",
      "  _log_warning('Converting column-vector to 1d array')\n",
      "\u001b[32m[I 2023-01-16 08:40:01,346]\u001b[0m Trial 67 finished with value: 0.870082775647756 and parameters: {'learning_rate': 0.007150350942845583, 'max_depth': 463, 'num_leaves': 3587, 'colsample_bytree': 0.9880590425278051, 'subsample': 0.9110908321230446, 'subsample_freq': 4, 'min_child_samples': 789, 'reg_lambda': 92, 'n_estimators': 26162}. Best is trial 60 with value: 0.8885896082922463.\u001b[0m\n"
     ]
    },
    {
     "name": "stdout",
     "output_type": "stream",
     "text": [
      "Early stopping, best iteration is:\n",
      "[340]\tvalid_0's auc: 0.870083\n",
      "0.870082775647756\n",
      "Training until validation scores don't improve for 100 rounds\n"
     ]
    },
    {
     "name": "stderr",
     "output_type": "stream",
     "text": [
      "D:\\source\\repos\\venv\\Python310\\lib\\site-packages\\sklearn\\utils\\validation.py:1141: DataConversionWarning: A column-vector y was passed when a 1d array was expected. Please change the shape of y to (n_samples, ), for example using ravel().\n",
      "  y = column_or_1d(y, warn=True)\n",
      "D:\\source\\repos\\venv\\Python310\\lib\\site-packages\\lightgbm\\sklearn.py:736: UserWarning: 'verbose' argument is deprecated and will be removed in a future release of LightGBM. Pass 'log_evaluation()' callback via 'callbacks' argument instead.\n",
      "  _log_warning(\"'verbose' argument is deprecated and will be removed in a future release of LightGBM. \"\n",
      "D:\\source\\repos\\venv\\Python310\\lib\\site-packages\\lightgbm\\basic.py:179: UserWarning: Converting column-vector to 1d array\n",
      "  _log_warning('Converting column-vector to 1d array')\n",
      "\u001b[32m[I 2023-01-16 08:40:01,539]\u001b[0m Trial 68 finished with value: 0.8725139861953037 and parameters: {'learning_rate': 0.04841475036377029, 'max_depth': 390, 'num_leaves': 5318, 'colsample_bytree': 0.8660395439358717, 'subsample': 0.8800400547539053, 'subsample_freq': 5, 'min_child_samples': 734, 'reg_lambda': 98, 'n_estimators': 43865}. Best is trial 60 with value: 0.8885896082922463.\u001b[0m\n",
      "D:\\source\\repos\\venv\\Python310\\lib\\site-packages\\sklearn\\utils\\validation.py:1141: DataConversionWarning: A column-vector y was passed when a 1d array was expected. Please change the shape of y to (n_samples, ), for example using ravel().\n",
      "  y = column_or_1d(y, warn=True)\n",
      "D:\\source\\repos\\venv\\Python310\\lib\\site-packages\\lightgbm\\sklearn.py:736: UserWarning: 'verbose' argument is deprecated and will be removed in a future release of LightGBM. Pass 'log_evaluation()' callback via 'callbacks' argument instead.\n",
      "  _log_warning(\"'verbose' argument is deprecated and will be removed in a future release of LightGBM. \"\n",
      "D:\\source\\repos\\venv\\Python310\\lib\\site-packages\\lightgbm\\basic.py:179: UserWarning: Converting column-vector to 1d array\n",
      "  _log_warning('Converting column-vector to 1d array')\n",
      "\u001b[32m[I 2023-01-16 08:40:01,735]\u001b[0m Trial 69 finished with value: 0.8860398678121867 and parameters: {'learning_rate': 0.04159480672149246, 'max_depth': 275, 'num_leaves': 6046, 'colsample_bytree': 0.9366042340073673, 'subsample': 0.9434841144013082, 'subsample_freq': 5, 'min_child_samples': 965, 'reg_lambda': 80, 'n_estimators': 3739}. Best is trial 60 with value: 0.8885896082922463.\u001b[0m\n"
     ]
    },
    {
     "name": "stdout",
     "output_type": "stream",
     "text": [
      "Early stopping, best iteration is:\n",
      "[34]\tvalid_0's auc: 0.872514\n",
      "0.8725139861953037\n",
      "Training until validation scores don't improve for 100 rounds\n",
      "Early stopping, best iteration is:\n",
      "[45]\tvalid_0's auc: 0.88604\n",
      "0.8860398678121867\n"
     ]
    },
    {
     "name": "stderr",
     "output_type": "stream",
     "text": [
      "D:\\source\\repos\\venv\\Python310\\lib\\site-packages\\sklearn\\utils\\validation.py:1141: DataConversionWarning: A column-vector y was passed when a 1d array was expected. Please change the shape of y to (n_samples, ), for example using ravel().\n",
      "  y = column_or_1d(y, warn=True)\n",
      "D:\\source\\repos\\venv\\Python310\\lib\\site-packages\\lightgbm\\sklearn.py:736: UserWarning: 'verbose' argument is deprecated and will be removed in a future release of LightGBM. Pass 'log_evaluation()' callback via 'callbacks' argument instead.\n",
      "  _log_warning(\"'verbose' argument is deprecated and will be removed in a future release of LightGBM. \"\n",
      "D:\\source\\repos\\venv\\Python310\\lib\\site-packages\\lightgbm\\basic.py:179: UserWarning: Converting column-vector to 1d array\n",
      "  _log_warning('Converting column-vector to 1d array')\n",
      "\u001b[32m[I 2023-01-16 08:40:01,939]\u001b[0m Trial 70 finished with value: 0.869465881226273 and parameters: {'learning_rate': 0.042267348070515805, 'max_depth': 273, 'num_leaves': 6248, 'colsample_bytree': 0.9582601755431746, 'subsample': 0.9502693334220869, 'subsample_freq': 5, 'min_child_samples': 865, 'reg_lambda': 81, 'n_estimators': 469}. Best is trial 60 with value: 0.8885896082922463.\u001b[0m\n",
      "D:\\source\\repos\\venv\\Python310\\lib\\site-packages\\sklearn\\utils\\validation.py:1141: DataConversionWarning: A column-vector y was passed when a 1d array was expected. Please change the shape of y to (n_samples, ), for example using ravel().\n",
      "  y = column_or_1d(y, warn=True)\n"
     ]
    },
    {
     "name": "stdout",
     "output_type": "stream",
     "text": [
      "Training until validation scores don't improve for 100 rounds\n",
      "Early stopping, best iteration is:\n",
      "[40]\tvalid_0's auc: 0.869466\n",
      "0.869465881226273\n"
     ]
    },
    {
     "name": "stderr",
     "output_type": "stream",
     "text": [
      "D:\\source\\repos\\venv\\Python310\\lib\\site-packages\\lightgbm\\sklearn.py:736: UserWarning: 'verbose' argument is deprecated and will be removed in a future release of LightGBM. Pass 'log_evaluation()' callback via 'callbacks' argument instead.\n",
      "  _log_warning(\"'verbose' argument is deprecated and will be removed in a future release of LightGBM. \"\n",
      "D:\\source\\repos\\venv\\Python310\\lib\\site-packages\\lightgbm\\basic.py:179: UserWarning: Converting column-vector to 1d array\n",
      "  _log_warning('Converting column-vector to 1d array')\n",
      "\u001b[32m[I 2023-01-16 08:40:02,183]\u001b[0m Trial 71 finished with value: 0.8692928005861844 and parameters: {'learning_rate': 0.03308927313136179, 'max_depth': 226, 'num_leaves': 6865, 'colsample_bytree': 0.9287901037285486, 'subsample': 0.9143306344433763, 'subsample_freq': 6, 'min_child_samples': 936, 'reg_lambda': 76, 'n_estimators': 3583}. Best is trial 60 with value: 0.8885896082922463.\u001b[0m\n"
     ]
    },
    {
     "name": "stdout",
     "output_type": "stream",
     "text": [
      "Training until validation scores don't improve for 100 rounds\n",
      "Early stopping, best iteration is:\n",
      "[73]\tvalid_0's auc: 0.869293\n",
      "0.8692928005861844\n"
     ]
    },
    {
     "name": "stderr",
     "output_type": "stream",
     "text": [
      "D:\\source\\repos\\venv\\Python310\\lib\\site-packages\\sklearn\\utils\\validation.py:1141: DataConversionWarning: A column-vector y was passed when a 1d array was expected. Please change the shape of y to (n_samples, ), for example using ravel().\n",
      "  y = column_or_1d(y, warn=True)\n",
      "D:\\source\\repos\\venv\\Python310\\lib\\site-packages\\lightgbm\\sklearn.py:736: UserWarning: 'verbose' argument is deprecated and will be removed in a future release of LightGBM. Pass 'log_evaluation()' callback via 'callbacks' argument instead.\n",
      "  _log_warning(\"'verbose' argument is deprecated and will be removed in a future release of LightGBM. \"\n",
      "D:\\source\\repos\\venv\\Python310\\lib\\site-packages\\lightgbm\\basic.py:179: UserWarning: Converting column-vector to 1d array\n",
      "  _log_warning('Converting column-vector to 1d array')\n",
      "\u001b[32m[I 2023-01-16 08:40:02,399]\u001b[0m Trial 72 finished with value: 0.8701474283382171 and parameters: {'learning_rate': 0.036663960678350385, 'max_depth': 317, 'num_leaves': 6057, 'colsample_bytree': 0.8206603603340279, 'subsample': 0.8946069687893402, 'subsample_freq': 4, 'min_child_samples': 970, 'reg_lambda': 92, 'n_estimators': 11161}. Best is trial 60 with value: 0.8885896082922463.\u001b[0m\n"
     ]
    },
    {
     "name": "stdout",
     "output_type": "stream",
     "text": [
      "Training until validation scores don't improve for 100 rounds\n",
      "Early stopping, best iteration is:\n",
      "[37]\tvalid_0's auc: 0.870147\n",
      "0.8701474283382171\n"
     ]
    },
    {
     "name": "stderr",
     "output_type": "stream",
     "text": [
      "D:\\source\\repos\\venv\\Python310\\lib\\site-packages\\sklearn\\utils\\validation.py:1141: DataConversionWarning: A column-vector y was passed when a 1d array was expected. Please change the shape of y to (n_samples, ), for example using ravel().\n",
      "  y = column_or_1d(y, warn=True)\n",
      "D:\\source\\repos\\venv\\Python310\\lib\\site-packages\\lightgbm\\sklearn.py:736: UserWarning: 'verbose' argument is deprecated and will be removed in a future release of LightGBM. Pass 'log_evaluation()' callback via 'callbacks' argument instead.\n",
      "  _log_warning(\"'verbose' argument is deprecated and will be removed in a future release of LightGBM. \"\n",
      "D:\\source\\repos\\venv\\Python310\\lib\\site-packages\\lightgbm\\basic.py:179: UserWarning: Converting column-vector to 1d array\n",
      "  _log_warning('Converting column-vector to 1d array')\n",
      "\u001b[32m[I 2023-01-16 08:40:02,595]\u001b[0m Trial 73 finished with value: 0.8778862206933058 and parameters: {'learning_rate': 0.05433297155460441, 'max_depth': 179, 'num_leaves': 4933, 'colsample_bytree': 0.8830830614852887, 'subsample': 0.9734612461692922, 'subsample_freq': 5, 'min_child_samples': 888, 'reg_lambda': 97, 'n_estimators': 15294}. Best is trial 60 with value: 0.8885896082922463.\u001b[0m\n",
      "D:\\source\\repos\\venv\\Python310\\lib\\site-packages\\sklearn\\utils\\validation.py:1141: DataConversionWarning: A column-vector y was passed when a 1d array was expected. Please change the shape of y to (n_samples, ), for example using ravel().\n",
      "  y = column_or_1d(y, warn=True)\n"
     ]
    },
    {
     "name": "stdout",
     "output_type": "stream",
     "text": [
      "Training until validation scores don't improve for 100 rounds\n",
      "Early stopping, best iteration is:\n",
      "[40]\tvalid_0's auc: 0.877886\n",
      "0.8778862206933058\n"
     ]
    },
    {
     "name": "stderr",
     "output_type": "stream",
     "text": [
      "D:\\source\\repos\\venv\\Python310\\lib\\site-packages\\lightgbm\\sklearn.py:736: UserWarning: 'verbose' argument is deprecated and will be removed in a future release of LightGBM. Pass 'log_evaluation()' callback via 'callbacks' argument instead.\n",
      "  _log_warning(\"'verbose' argument is deprecated and will be removed in a future release of LightGBM. \"\n",
      "D:\\source\\repos\\venv\\Python310\\lib\\site-packages\\lightgbm\\basic.py:179: UserWarning: Converting column-vector to 1d array\n",
      "  _log_warning('Converting column-vector to 1d array')\n",
      "\u001b[32m[I 2023-01-16 08:40:02,819]\u001b[0m Trial 74 finished with value: 0.8840103794506811 and parameters: {'learning_rate': 0.03965200621442535, 'max_depth': 268, 'num_leaves': 5492, 'colsample_bytree': 0.9394426244896171, 'subsample': 0.8695813204308742, 'subsample_freq': 4, 'min_child_samples': 825, 'reg_lambda': 83, 'n_estimators': 9300}. Best is trial 60 with value: 0.8885896082922463.\u001b[0m\n",
      "D:\\source\\repos\\venv\\Python310\\lib\\site-packages\\sklearn\\utils\\validation.py:1141: DataConversionWarning: A column-vector y was passed when a 1d array was expected. Please change the shape of y to (n_samples, ), for example using ravel().\n",
      "  y = column_or_1d(y, warn=True)\n"
     ]
    },
    {
     "name": "stdout",
     "output_type": "stream",
     "text": [
      "Training until validation scores don't improve for 100 rounds\n",
      "Early stopping, best iteration is:\n",
      "[83]\tvalid_0's auc: 0.88401\n",
      "0.8840103794506811\n"
     ]
    },
    {
     "name": "stderr",
     "output_type": "stream",
     "text": [
      "D:\\source\\repos\\venv\\Python310\\lib\\site-packages\\lightgbm\\sklearn.py:736: UserWarning: 'verbose' argument is deprecated and will be removed in a future release of LightGBM. Pass 'log_evaluation()' callback via 'callbacks' argument instead.\n",
      "  _log_warning(\"'verbose' argument is deprecated and will be removed in a future release of LightGBM. \"\n",
      "D:\\source\\repos\\venv\\Python310\\lib\\site-packages\\lightgbm\\basic.py:179: UserWarning: Converting column-vector to 1d array\n",
      "  _log_warning('Converting column-vector to 1d array')\n",
      "\u001b[32m[I 2023-01-16 08:40:03,029]\u001b[0m Trial 75 finished with value: 0.8642515743940326 and parameters: {'learning_rate': 0.04091813806279559, 'max_depth': 274, 'num_leaves': 5445, 'colsample_bytree': 0.9852815047116268, 'subsample': 0.94370091093832, 'subsample_freq': 4, 'min_child_samples': 922, 'reg_lambda': 82, 'n_estimators': 4808}. Best is trial 60 with value: 0.8885896082922463.\u001b[0m\n"
     ]
    },
    {
     "name": "stdout",
     "output_type": "stream",
     "text": [
      "Training until validation scores don't improve for 100 rounds\n",
      "Early stopping, best iteration is:\n",
      "[65]\tvalid_0's auc: 0.864252\n",
      "0.8642515743940326\n"
     ]
    },
    {
     "name": "stderr",
     "output_type": "stream",
     "text": [
      "D:\\source\\repos\\venv\\Python310\\lib\\site-packages\\sklearn\\utils\\validation.py:1141: DataConversionWarning: A column-vector y was passed when a 1d array was expected. Please change the shape of y to (n_samples, ), for example using ravel().\n",
      "  y = column_or_1d(y, warn=True)\n",
      "D:\\source\\repos\\venv\\Python310\\lib\\site-packages\\lightgbm\\sklearn.py:736: UserWarning: 'verbose' argument is deprecated and will be removed in a future release of LightGBM. Pass 'log_evaluation()' callback via 'callbacks' argument instead.\n",
      "  _log_warning(\"'verbose' argument is deprecated and will be removed in a future release of LightGBM. \"\n",
      "D:\\source\\repos\\venv\\Python310\\lib\\site-packages\\lightgbm\\basic.py:179: UserWarning: Converting column-vector to 1d array\n",
      "  _log_warning('Converting column-vector to 1d array')\n",
      "\u001b[32m[I 2023-01-16 08:40:03,192]\u001b[0m Trial 76 finished with value: 0.885185240060154 and parameters: {'learning_rate': 0.05118138442131518, 'max_depth': 561, 'num_leaves': 4114, 'colsample_bytree': 0.9333052143559096, 'subsample': 0.8808276733899368, 'subsample_freq': 4, 'min_child_samples': 836, 'reg_lambda': 74, 'n_estimators': 9575}. Best is trial 60 with value: 0.8885896082922463.\u001b[0m\n",
      "D:\\source\\repos\\venv\\Python310\\lib\\site-packages\\sklearn\\utils\\validation.py:1141: DataConversionWarning: A column-vector y was passed when a 1d array was expected. Please change the shape of y to (n_samples, ), for example using ravel().\n",
      "  y = column_or_1d(y, warn=True)\n",
      "D:\\source\\repos\\venv\\Python310\\lib\\site-packages\\lightgbm\\sklearn.py:736: UserWarning: 'verbose' argument is deprecated and will be removed in a future release of LightGBM. Pass 'log_evaluation()' callback via 'callbacks' argument instead.\n",
      "  _log_warning(\"'verbose' argument is deprecated and will be removed in a future release of LightGBM. \"\n",
      "D:\\source\\repos\\venv\\Python310\\lib\\site-packages\\lightgbm\\basic.py:179: UserWarning: Converting column-vector to 1d array\n",
      "  _log_warning('Converting column-vector to 1d array')\n"
     ]
    },
    {
     "name": "stdout",
     "output_type": "stream",
     "text": [
      "Training until validation scores don't improve for 100 rounds\n",
      "Early stopping, best iteration is:\n",
      "[7]\tvalid_0's auc: 0.885185\n",
      "0.885185240060154\n",
      "Training until validation scores don't improve for 100 rounds\n"
     ]
    },
    {
     "name": "stderr",
     "output_type": "stream",
     "text": [
      "\u001b[32m[I 2023-01-16 08:40:03,377]\u001b[0m Trial 77 finished with value: 0.8806440620207872 and parameters: {'learning_rate': 0.05082749575867651, 'max_depth': 511, 'num_leaves': 4083, 'colsample_bytree': 0.8384765471224558, 'subsample': 0.8247209154380462, 'subsample_freq': 6, 'min_child_samples': 976, 'reg_lambda': 75, 'n_estimators': 7055}. Best is trial 60 with value: 0.8885896082922463.\u001b[0m\n",
      "D:\\source\\repos\\venv\\Python310\\lib\\site-packages\\sklearn\\utils\\validation.py:1141: DataConversionWarning: A column-vector y was passed when a 1d array was expected. Please change the shape of y to (n_samples, ), for example using ravel().\n",
      "  y = column_or_1d(y, warn=True)\n",
      "D:\\source\\repos\\venv\\Python310\\lib\\site-packages\\lightgbm\\sklearn.py:736: UserWarning: 'verbose' argument is deprecated and will be removed in a future release of LightGBM. Pass 'log_evaluation()' callback via 'callbacks' argument instead.\n",
      "  _log_warning(\"'verbose' argument is deprecated and will be removed in a future release of LightGBM. \"\n",
      "D:\\source\\repos\\venv\\Python310\\lib\\site-packages\\lightgbm\\basic.py:179: UserWarning: Converting column-vector to 1d array\n",
      "  _log_warning('Converting column-vector to 1d array')\n",
      "\u001b[32m[I 2023-01-16 08:40:03,559]\u001b[0m Trial 78 finished with value: 0.8832924652003527 and parameters: {'learning_rate': 0.046986710321917396, 'max_depth': 556, 'num_leaves': 3562, 'colsample_bytree': 0.6871066193846387, 'subsample': 0.974378435910032, 'subsample_freq': 4, 'min_child_samples': 789, 'reg_lambda': 62, 'n_estimators': 63024}. Best is trial 60 with value: 0.8885896082922463.\u001b[0m\n"
     ]
    },
    {
     "name": "stdout",
     "output_type": "stream",
     "text": [
      "Early stopping, best iteration is:\n",
      "[54]\tvalid_0's auc: 0.880644\n",
      "0.8806440620207872\n",
      "Training until validation scores don't improve for 100 rounds\n",
      "Early stopping, best iteration is:\n",
      "[20]\tvalid_0's auc: 0.883292\n",
      "0.8832924652003527\n"
     ]
    },
    {
     "name": "stderr",
     "output_type": "stream",
     "text": [
      "D:\\source\\repos\\venv\\Python310\\lib\\site-packages\\sklearn\\utils\\validation.py:1141: DataConversionWarning: A column-vector y was passed when a 1d array was expected. Please change the shape of y to (n_samples, ), for example using ravel().\n",
      "  y = column_or_1d(y, warn=True)\n",
      "D:\\source\\repos\\venv\\Python310\\lib\\site-packages\\lightgbm\\sklearn.py:736: UserWarning: 'verbose' argument is deprecated and will be removed in a future release of LightGBM. Pass 'log_evaluation()' callback via 'callbacks' argument instead.\n",
      "  _log_warning(\"'verbose' argument is deprecated and will be removed in a future release of LightGBM. \"\n",
      "D:\\source\\repos\\venv\\Python310\\lib\\site-packages\\lightgbm\\basic.py:179: UserWarning: Converting column-vector to 1d array\n",
      "  _log_warning('Converting column-vector to 1d array')\n",
      "\u001b[32m[I 2023-01-16 08:40:03,745]\u001b[0m Trial 79 finished with value: 0.8822869811705774 and parameters: {'learning_rate': 0.06170823520381158, 'max_depth': 557, 'num_leaves': 2708, 'colsample_bytree': 0.9973861571483189, 'subsample': 0.9119563272249448, 'subsample_freq': 3, 'min_child_samples': 840, 'reg_lambda': 88, 'n_estimators': 13085}. Best is trial 60 with value: 0.8885896082922463.\u001b[0m\n",
      "D:\\source\\repos\\venv\\Python310\\lib\\site-packages\\sklearn\\utils\\validation.py:1141: DataConversionWarning: A column-vector y was passed when a 1d array was expected. Please change the shape of y to (n_samples, ), for example using ravel().\n",
      "  y = column_or_1d(y, warn=True)\n"
     ]
    },
    {
     "name": "stdout",
     "output_type": "stream",
     "text": [
      "Training until validation scores don't improve for 100 rounds\n",
      "Early stopping, best iteration is:\n",
      "[39]\tvalid_0's auc: 0.882287\n",
      "0.8822869811705774\n",
      "Training until validation scores don't improve for 100 rounds\n"
     ]
    },
    {
     "name": "stderr",
     "output_type": "stream",
     "text": [
      "D:\\source\\repos\\venv\\Python310\\lib\\site-packages\\lightgbm\\sklearn.py:736: UserWarning: 'verbose' argument is deprecated and will be removed in a future release of LightGBM. Pass 'log_evaluation()' callback via 'callbacks' argument instead.\n",
      "  _log_warning(\"'verbose' argument is deprecated and will be removed in a future release of LightGBM. \"\n",
      "D:\\source\\repos\\venv\\Python310\\lib\\site-packages\\lightgbm\\basic.py:179: UserWarning: Converting column-vector to 1d array\n",
      "  _log_warning('Converting column-vector to 1d array')\n",
      "\u001b[32m[I 2023-01-16 08:40:03,951]\u001b[0m Trial 80 finished with value: 0.879027071293734 and parameters: {'learning_rate': 0.057424470152672116, 'max_depth': 464, 'num_leaves': 7483, 'colsample_bytree': 0.8082538915471542, 'subsample': 0.9893281331626248, 'subsample_freq': 5, 'min_child_samples': 768, 'reg_lambda': 77, 'n_estimators': 52310}. Best is trial 60 with value: 0.8885896082922463.\u001b[0m\n"
     ]
    },
    {
     "name": "stdout",
     "output_type": "stream",
     "text": [
      "Early stopping, best iteration is:\n",
      "[24]\tvalid_0's auc: 0.879027\n",
      "0.879027071293734\n",
      "Training until validation scores don't improve for 100 rounds\n",
      "Early stopping, best iteration is:\n",
      "[41]\tvalid_0's auc: 0.882108\n"
     ]
    },
    {
     "name": "stderr",
     "output_type": "stream",
     "text": [
      "D:\\source\\repos\\venv\\Python310\\lib\\site-packages\\sklearn\\utils\\validation.py:1141: DataConversionWarning: A column-vector y was passed when a 1d array was expected. Please change the shape of y to (n_samples, ), for example using ravel().\n",
      "  y = column_or_1d(y, warn=True)\n",
      "D:\\source\\repos\\venv\\Python310\\lib\\site-packages\\lightgbm\\sklearn.py:736: UserWarning: 'verbose' argument is deprecated and will be removed in a future release of LightGBM. Pass 'log_evaluation()' callback via 'callbacks' argument instead.\n",
      "  _log_warning(\"'verbose' argument is deprecated and will be removed in a future release of LightGBM. \"\n",
      "D:\\source\\repos\\venv\\Python310\\lib\\site-packages\\lightgbm\\basic.py:179: UserWarning: Converting column-vector to 1d array\n",
      "  _log_warning('Converting column-vector to 1d array')\n",
      "\u001b[32m[I 2023-01-16 08:40:04,144]\u001b[0m Trial 81 finished with value: 0.8821075026079953 and parameters: {'learning_rate': 0.05022777612209591, 'max_depth': 642, 'num_leaves': 5031, 'colsample_bytree': 0.9483240055077811, 'subsample': 0.8686727457174737, 'subsample_freq': 4, 'min_child_samples': 818, 'reg_lambda': 83, 'n_estimators': 9314}. Best is trial 60 with value: 0.8885896082922463.\u001b[0m\n",
      "D:\\source\\repos\\venv\\Python310\\lib\\site-packages\\sklearn\\utils\\validation.py:1141: DataConversionWarning: A column-vector y was passed when a 1d array was expected. Please change the shape of y to (n_samples, ), for example using ravel().\n",
      "  y = column_or_1d(y, warn=True)\n"
     ]
    },
    {
     "name": "stdout",
     "output_type": "stream",
     "text": [
      "0.8821075026079953\n",
      "Training until validation scores don't improve for 100 rounds\n",
      "Early stopping, best iteration is:\n",
      "[27]\tvalid_0's auc: 0.882082\n",
      "0.8820815741852583\n"
     ]
    },
    {
     "name": "stderr",
     "output_type": "stream",
     "text": [
      "D:\\source\\repos\\venv\\Python310\\lib\\site-packages\\lightgbm\\sklearn.py:736: UserWarning: 'verbose' argument is deprecated and will be removed in a future release of LightGBM. Pass 'log_evaluation()' callback via 'callbacks' argument instead.\n",
      "  _log_warning(\"'verbose' argument is deprecated and will be removed in a future release of LightGBM. \"\n",
      "D:\\source\\repos\\venv\\Python310\\lib\\site-packages\\lightgbm\\basic.py:179: UserWarning: Converting column-vector to 1d array\n",
      "  _log_warning('Converting column-vector to 1d array')\n",
      "\u001b[32m[I 2023-01-16 08:40:04,342]\u001b[0m Trial 82 finished with value: 0.8820815741852583 and parameters: {'learning_rate': 0.04302171588495313, 'max_depth': 587, 'num_leaves': 4685, 'colsample_bytree': 0.930617524355944, 'subsample': 0.8655503095967167, 'subsample_freq': 4, 'min_child_samples': 879, 'reg_lambda': 73, 'n_estimators': 2148}. Best is trial 60 with value: 0.8885896082922463.\u001b[0m\n",
      "D:\\source\\repos\\venv\\Python310\\lib\\site-packages\\sklearn\\utils\\validation.py:1141: DataConversionWarning: A column-vector y was passed when a 1d array was expected. Please change the shape of y to (n_samples, ), for example using ravel().\n",
      "  y = column_or_1d(y, warn=True)\n",
      "D:\\source\\repos\\venv\\Python310\\lib\\site-packages\\lightgbm\\sklearn.py:736: UserWarning: 'verbose' argument is deprecated and will be removed in a future release of LightGBM. Pass 'log_evaluation()' callback via 'callbacks' argument instead.\n",
      "  _log_warning(\"'verbose' argument is deprecated and will be removed in a future release of LightGBM. \"\n",
      "D:\\source\\repos\\venv\\Python310\\lib\\site-packages\\lightgbm\\basic.py:179: UserWarning: Converting column-vector to 1d array\n",
      "  _log_warning('Converting column-vector to 1d array')\n",
      "\u001b[32m[I 2023-01-16 08:40:04,536]\u001b[0m Trial 83 finished with value: 0.8802258399293669 and parameters: {'learning_rate': 0.04570970838544647, 'max_depth': 164, 'num_leaves': 4293, 'colsample_bytree': 0.8926176990471856, 'subsample': 0.9494259844751403, 'subsample_freq': 4, 'min_child_samples': 850, 'reg_lambda': 88, 'n_estimators': 8583}. Best is trial 60 with value: 0.8885896082922463.\u001b[0m\n",
      "D:\\source\\repos\\venv\\Python310\\lib\\site-packages\\sklearn\\utils\\validation.py:1141: DataConversionWarning: A column-vector y was passed when a 1d array was expected. Please change the shape of y to (n_samples, ), for example using ravel().\n",
      "  y = column_or_1d(y, warn=True)\n"
     ]
    },
    {
     "name": "stdout",
     "output_type": "stream",
     "text": [
      "Training until validation scores don't improve for 100 rounds\n",
      "Early stopping, best iteration is:\n",
      "[21]\tvalid_0's auc: 0.880226\n",
      "0.8802258399293669\n"
     ]
    },
    {
     "name": "stderr",
     "output_type": "stream",
     "text": [
      "D:\\source\\repos\\venv\\Python310\\lib\\site-packages\\lightgbm\\sklearn.py:736: UserWarning: 'verbose' argument is deprecated and will be removed in a future release of LightGBM. Pass 'log_evaluation()' callback via 'callbacks' argument instead.\n",
      "  _log_warning(\"'verbose' argument is deprecated and will be removed in a future release of LightGBM. \"\n",
      "D:\\source\\repos\\venv\\Python310\\lib\\site-packages\\lightgbm\\basic.py:179: UserWarning: Converting column-vector to 1d array\n",
      "  _log_warning('Converting column-vector to 1d array')\n"
     ]
    },
    {
     "name": "stdout",
     "output_type": "stream",
     "text": [
      "Training until validation scores don't improve for 100 rounds\n"
     ]
    },
    {
     "name": "stderr",
     "output_type": "stream",
     "text": [
      "\u001b[32m[I 2023-01-16 08:40:04,875]\u001b[0m Trial 84 finished with value: 0.889073830005179 and parameters: {'learning_rate': 0.001968856493123906, 'max_depth': 429, 'num_leaves': 5535, 'colsample_bytree': 0.5731996912756694, 'subsample': 0.8955640403302784, 'subsample_freq': 3, 'min_child_samples': 721, 'reg_lambda': 95, 'n_estimators': 17200}. Best is trial 84 with value: 0.889073830005179.\u001b[0m\n",
      "D:\\source\\repos\\venv\\Python310\\lib\\site-packages\\sklearn\\utils\\validation.py:1141: DataConversionWarning: A column-vector y was passed when a 1d array was expected. Please change the shape of y to (n_samples, ), for example using ravel().\n",
      "  y = column_or_1d(y, warn=True)\n",
      "D:\\source\\repos\\venv\\Python310\\lib\\site-packages\\lightgbm\\sklearn.py:736: UserWarning: 'verbose' argument is deprecated and will be removed in a future release of LightGBM. Pass 'log_evaluation()' callback via 'callbacks' argument instead.\n",
      "  _log_warning(\"'verbose' argument is deprecated and will be removed in a future release of LightGBM. \"\n",
      "D:\\source\\repos\\venv\\Python310\\lib\\site-packages\\lightgbm\\basic.py:179: UserWarning: Converting column-vector to 1d array\n",
      "  _log_warning('Converting column-vector to 1d array')\n",
      "\u001b[32m[I 2023-01-16 08:40:05,032]\u001b[0m Trial 85 finished with value: 0.8712071263428061 and parameters: {'learning_rate': 0.010297649750914302, 'max_depth': 420, 'num_leaves': 2879, 'colsample_bytree': 0.5416333272193279, 'subsample': 0.8973237041294861, 'subsample_freq': 3, 'min_child_samples': 730, 'reg_lambda': 94, 'n_estimators': 16399}. Best is trial 84 with value: 0.889073830005179.\u001b[0m\n"
     ]
    },
    {
     "name": "stdout",
     "output_type": "stream",
     "text": [
      "Early stopping, best iteration is:\n",
      "[217]\tvalid_0's auc: 0.889074\n",
      "0.889073830005179\n",
      "Training until validation scores don't improve for 100 rounds\n",
      "Early stopping, best iteration is:\n",
      "[10]\tvalid_0's auc: 0.871207\n",
      "0.8712071263428061\n"
     ]
    },
    {
     "name": "stderr",
     "output_type": "stream",
     "text": [
      "D:\\source\\repos\\venv\\Python310\\lib\\site-packages\\sklearn\\utils\\validation.py:1141: DataConversionWarning: A column-vector y was passed when a 1d array was expected. Please change the shape of y to (n_samples, ), for example using ravel().\n",
      "  y = column_or_1d(y, warn=True)\n",
      "D:\\source\\repos\\venv\\Python310\\lib\\site-packages\\lightgbm\\sklearn.py:736: UserWarning: 'verbose' argument is deprecated and will be removed in a future release of LightGBM. Pass 'log_evaluation()' callback via 'callbacks' argument instead.\n",
      "  _log_warning(\"'verbose' argument is deprecated and will be removed in a future release of LightGBM. \"\n",
      "D:\\source\\repos\\venv\\Python310\\lib\\site-packages\\lightgbm\\basic.py:179: UserWarning: Converting column-vector to 1d array\n",
      "  _log_warning('Converting column-vector to 1d array')\n",
      "\u001b[32m[I 2023-01-16 08:40:05,271]\u001b[0m Trial 86 finished with value: 0.8572017372716699 and parameters: {'learning_rate': 0.0013403876187825237, 'max_depth': 361, 'num_leaves': 6698, 'colsample_bytree': 0.5929825051345342, 'subsample': 0.9235424774689488, 'subsample_freq': 3, 'min_child_samples': 908, 'reg_lambda': 97, 'n_estimators': 34025}. Best is trial 84 with value: 0.889073830005179.\u001b[0m\n"
     ]
    },
    {
     "name": "stdout",
     "output_type": "stream",
     "text": [
      "Training until validation scores don't improve for 100 rounds\n",
      "Early stopping, best iteration is:\n",
      "[106]\tvalid_0's auc: 0.857202\n",
      "0.8572017372716699\n"
     ]
    },
    {
     "name": "stderr",
     "output_type": "stream",
     "text": [
      "D:\\source\\repos\\venv\\Python310\\lib\\site-packages\\sklearn\\utils\\validation.py:1141: DataConversionWarning: A column-vector y was passed when a 1d array was expected. Please change the shape of y to (n_samples, ), for example using ravel().\n",
      "  y = column_or_1d(y, warn=True)\n",
      "D:\\source\\repos\\venv\\Python310\\lib\\site-packages\\lightgbm\\sklearn.py:736: UserWarning: 'verbose' argument is deprecated and will be removed in a future release of LightGBM. Pass 'log_evaluation()' callback via 'callbacks' argument instead.\n",
      "  _log_warning(\"'verbose' argument is deprecated and will be removed in a future release of LightGBM. \"\n",
      "D:\\source\\repos\\venv\\Python310\\lib\\site-packages\\lightgbm\\basic.py:179: UserWarning: Converting column-vector to 1d array\n",
      "  _log_warning('Converting column-vector to 1d array')\n",
      "\u001b[32m[I 2023-01-16 08:40:05,416]\u001b[0m Trial 87 finished with value: 0.8691830257055057 and parameters: {'learning_rate': 0.003647598965525159, 'max_depth': 434, 'num_leaves': 151, 'colsample_bytree': 0.6166813170511617, 'subsample': 0.8345892890979509, 'subsample_freq': 2, 'min_child_samples': 766, 'reg_lambda': 94, 'n_estimators': 40255}. Best is trial 84 with value: 0.889073830005179.\u001b[0m\n",
      "D:\\source\\repos\\venv\\Python310\\lib\\site-packages\\sklearn\\utils\\validation.py:1141: DataConversionWarning: A column-vector y was passed when a 1d array was expected. Please change the shape of y to (n_samples, ), for example using ravel().\n",
      "  y = column_or_1d(y, warn=True)\n",
      "D:\\source\\repos\\venv\\Python310\\lib\\site-packages\\lightgbm\\sklearn.py:736: UserWarning: 'verbose' argument is deprecated and will be removed in a future release of LightGBM. Pass 'log_evaluation()' callback via 'callbacks' argument instead.\n",
      "  _log_warning(\"'verbose' argument is deprecated and will be removed in a future release of LightGBM. \"\n",
      "D:\\source\\repos\\venv\\Python310\\lib\\site-packages\\lightgbm\\basic.py:179: UserWarning: Converting column-vector to 1d array\n",
      "  _log_warning('Converting column-vector to 1d array')\n"
     ]
    },
    {
     "name": "stdout",
     "output_type": "stream",
     "text": [
      "Training until validation scores don't improve for 100 rounds\n",
      "Early stopping, best iteration is:\n",
      "[10]\tvalid_0's auc: 0.869183\n",
      "0.8691830257055057\n",
      "Training until validation scores don't improve for 100 rounds\n"
     ]
    },
    {
     "name": "stderr",
     "output_type": "stream",
     "text": [
      "\u001b[32m[I 2023-01-16 08:40:05,662]\u001b[0m Trial 88 finished with value: 0.8792260803565596 and parameters: {'learning_rate': 0.06521809561966199, 'max_depth': 480, 'num_leaves': 3932, 'colsample_bytree': 0.5710442130347347, 'subsample': 0.9600437912869456, 'subsample_freq': 2, 'min_child_samples': 710, 'reg_lambda': 86, 'n_estimators': 11974}. Best is trial 84 with value: 0.889073830005179.\u001b[0m\n"
     ]
    },
    {
     "name": "stdout",
     "output_type": "stream",
     "text": [
      "Early stopping, best iteration is:\n",
      "[96]\tvalid_0's auc: 0.879226\n",
      "0.8792260803565596\n",
      "Training until validation scores don't improve for 100 rounds\n"
     ]
    },
    {
     "name": "stderr",
     "output_type": "stream",
     "text": [
      "D:\\source\\repos\\venv\\Python310\\lib\\site-packages\\sklearn\\utils\\validation.py:1141: DataConversionWarning: A column-vector y was passed when a 1d array was expected. Please change the shape of y to (n_samples, ), for example using ravel().\n",
      "  y = column_or_1d(y, warn=True)\n",
      "D:\\source\\repos\\venv\\Python310\\lib\\site-packages\\lightgbm\\sklearn.py:736: UserWarning: 'verbose' argument is deprecated and will be removed in a future release of LightGBM. Pass 'log_evaluation()' callback via 'callbacks' argument instead.\n",
      "  _log_warning(\"'verbose' argument is deprecated and will be removed in a future release of LightGBM. \"\n",
      "D:\\source\\repos\\venv\\Python310\\lib\\site-packages\\lightgbm\\basic.py:179: UserWarning: Converting column-vector to 1d array\n",
      "  _log_warning('Converting column-vector to 1d array')\n",
      "\u001b[32m[I 2023-01-16 08:40:05,962]\u001b[0m Trial 89 finished with value: 0.8724759353931053 and parameters: {'learning_rate': 0.025373206434821948, 'max_depth': 384, 'num_leaves': 6326, 'colsample_bytree': 0.33493478105215857, 'subsample': 0.8922586282992849, 'subsample_freq': 5, 'min_child_samples': 658, 'reg_lambda': 80, 'n_estimators': 57558}. Best is trial 84 with value: 0.889073830005179.\u001b[0m\n"
     ]
    },
    {
     "name": "stdout",
     "output_type": "stream",
     "text": [
      "Early stopping, best iteration is:\n",
      "[131]\tvalid_0's auc: 0.872476\n",
      "0.8724759353931053\n",
      "Training until validation scores don't improve for 100 rounds\n"
     ]
    },
    {
     "name": "stderr",
     "output_type": "stream",
     "text": [
      "D:\\source\\repos\\venv\\Python310\\lib\\site-packages\\sklearn\\utils\\validation.py:1141: DataConversionWarning: A column-vector y was passed when a 1d array was expected. Please change the shape of y to (n_samples, ), for example using ravel().\n",
      "  y = column_or_1d(y, warn=True)\n",
      "D:\\source\\repos\\venv\\Python310\\lib\\site-packages\\lightgbm\\sklearn.py:736: UserWarning: 'verbose' argument is deprecated and will be removed in a future release of LightGBM. Pass 'log_evaluation()' callback via 'callbacks' argument instead.\n",
      "  _log_warning(\"'verbose' argument is deprecated and will be removed in a future release of LightGBM. \"\n",
      "D:\\source\\repos\\venv\\Python310\\lib\\site-packages\\lightgbm\\basic.py:179: UserWarning: Converting column-vector to 1d array\n",
      "  _log_warning('Converting column-vector to 1d array')\n",
      "\u001b[32m[I 2023-01-16 08:40:06,155]\u001b[0m Trial 90 finished with value: 0.8799008928132472 and parameters: {'learning_rate': 0.05492360924282015, 'max_depth': 523, 'num_leaves': 5104, 'colsample_bytree': 0.6497925548482213, 'subsample': 0.5761366505071832, 'subsample_freq': 3, 'min_child_samples': 790, 'reg_lambda': 90, 'n_estimators': 45233}. Best is trial 84 with value: 0.889073830005179.\u001b[0m\n",
      "D:\\source\\repos\\venv\\Python310\\lib\\site-packages\\sklearn\\utils\\validation.py:1141: DataConversionWarning: A column-vector y was passed when a 1d array was expected. Please change the shape of y to (n_samples, ), for example using ravel().\n",
      "  y = column_or_1d(y, warn=True)\n",
      "D:\\source\\repos\\venv\\Python310\\lib\\site-packages\\lightgbm\\sklearn.py:736: UserWarning: 'verbose' argument is deprecated and will be removed in a future release of LightGBM. Pass 'log_evaluation()' callback via 'callbacks' argument instead.\n",
      "  _log_warning(\"'verbose' argument is deprecated and will be removed in a future release of LightGBM. \"\n",
      "D:\\source\\repos\\venv\\Python310\\lib\\site-packages\\lightgbm\\basic.py:179: UserWarning: Converting column-vector to 1d array\n",
      "  _log_warning('Converting column-vector to 1d array')\n",
      "\u001b[32m[I 2023-01-16 08:40:06,336]\u001b[0m Trial 91 finished with value: 0.8675879226080355 and parameters: {'learning_rate': 0.039718275580196326, 'max_depth': 231, 'num_leaves': 5579, 'colsample_bytree': 0.5087693126438935, 'subsample': 0.8500392135032879, 'subsample_freq': 4, 'min_child_samples': 827, 'reg_lambda': 73, 'n_estimators': 17323}. Best is trial 84 with value: 0.889073830005179.\u001b[0m\n"
     ]
    },
    {
     "name": "stdout",
     "output_type": "stream",
     "text": [
      "Early stopping, best iteration is:\n",
      "[36]\tvalid_0's auc: 0.879901\n",
      "0.8799008928132472\n",
      "Training until validation scores don't improve for 100 rounds\n",
      "Early stopping, best iteration is:\n",
      "[10]\tvalid_0's auc: 0.867588\n",
      "0.8675879226080355\n"
     ]
    },
    {
     "name": "stderr",
     "output_type": "stream",
     "text": [
      "D:\\source\\repos\\venv\\Python310\\lib\\site-packages\\sklearn\\utils\\validation.py:1141: DataConversionWarning: A column-vector y was passed when a 1d array was expected. Please change the shape of y to (n_samples, ), for example using ravel().\n",
      "  y = column_or_1d(y, warn=True)\n",
      "D:\\source\\repos\\venv\\Python310\\lib\\site-packages\\lightgbm\\sklearn.py:736: UserWarning: 'verbose' argument is deprecated and will be removed in a future release of LightGBM. Pass 'log_evaluation()' callback via 'callbacks' argument instead.\n",
      "  _log_warning(\"'verbose' argument is deprecated and will be removed in a future release of LightGBM. \"\n",
      "D:\\source\\repos\\venv\\Python310\\lib\\site-packages\\lightgbm\\basic.py:179: UserWarning: Converting column-vector to 1d array\n",
      "  _log_warning('Converting column-vector to 1d array')\n",
      "\u001b[32m[I 2023-01-16 08:40:06,622]\u001b[0m Trial 92 finished with value: 0.8830954765341039 and parameters: {'learning_rate': 0.02196228382551181, 'max_depth': 270, 'num_leaves': 6019, 'colsample_bytree': 0.9413823277573117, 'subsample': 0.8770619024683344, 'subsample_freq': 4, 'min_child_samples': 962, 'reg_lambda': 100, 'n_estimators': 6952}. Best is trial 84 with value: 0.889073830005179.\u001b[0m\n"
     ]
    },
    {
     "name": "stdout",
     "output_type": "stream",
     "text": [
      "Training until validation scores don't improve for 100 rounds\n",
      "Early stopping, best iteration is:\n",
      "[144]\tvalid_0's auc: 0.883095\n",
      "0.8830954765341039\n"
     ]
    },
    {
     "name": "stderr",
     "output_type": "stream",
     "text": [
      "D:\\source\\repos\\venv\\Python310\\lib\\site-packages\\sklearn\\utils\\validation.py:1141: DataConversionWarning: A column-vector y was passed when a 1d array was expected. Please change the shape of y to (n_samples, ), for example using ravel().\n",
      "  y = column_or_1d(y, warn=True)\n",
      "D:\\source\\repos\\venv\\Python310\\lib\\site-packages\\lightgbm\\sklearn.py:736: UserWarning: 'verbose' argument is deprecated and will be removed in a future release of LightGBM. Pass 'log_evaluation()' callback via 'callbacks' argument instead.\n",
      "  _log_warning(\"'verbose' argument is deprecated and will be removed in a future release of LightGBM. \"\n",
      "D:\\source\\repos\\venv\\Python310\\lib\\site-packages\\lightgbm\\basic.py:179: UserWarning: Converting column-vector to 1d array\n",
      "  _log_warning('Converting column-vector to 1d array')\n",
      "\u001b[32m[I 2023-01-16 08:40:06,805]\u001b[0m Trial 93 finished with value: 0.8695578092705224 and parameters: {'learning_rate': 0.0043365611734217805, 'max_depth': 335, 'num_leaves': 4742, 'colsample_bytree': 0.9767085027339276, 'subsample': 0.9296073122159858, 'subsample_freq': 3, 'min_child_samples': 751, 'reg_lambda': 85, 'n_estimators': 3326}. Best is trial 84 with value: 0.889073830005179.\u001b[0m\n",
      "D:\\source\\repos\\venv\\Python310\\lib\\site-packages\\sklearn\\utils\\validation.py:1141: DataConversionWarning: A column-vector y was passed when a 1d array was expected. Please change the shape of y to (n_samples, ), for example using ravel().\n",
      "  y = column_or_1d(y, warn=True)\n",
      "D:\\source\\repos\\venv\\Python310\\lib\\site-packages\\lightgbm\\sklearn.py:736: UserWarning: 'verbose' argument is deprecated and will be removed in a future release of LightGBM. Pass 'log_evaluation()' callback via 'callbacks' argument instead.\n",
      "  _log_warning(\"'verbose' argument is deprecated and will be removed in a future release of LightGBM. \"\n",
      "D:\\source\\repos\\venv\\Python310\\lib\\site-packages\\lightgbm\\basic.py:179: UserWarning: Converting column-vector to 1d array\n",
      "  _log_warning('Converting column-vector to 1d array')\n"
     ]
    },
    {
     "name": "stdout",
     "output_type": "stream",
     "text": [
      "Training until validation scores don't improve for 100 rounds\n",
      "Early stopping, best iteration is:\n",
      "[60]\tvalid_0's auc: 0.869558\n",
      "0.8695578092705224\n",
      "Training until validation scores don't improve for 100 rounds\n"
     ]
    },
    {
     "name": "stderr",
     "output_type": "stream",
     "text": [
      "\u001b[32m[I 2023-01-16 08:40:07,025]\u001b[0m Trial 94 finished with value: 0.879868229735254 and parameters: {'learning_rate': 0.035728476820573826, 'max_depth': 615, 'num_leaves': 5303, 'colsample_bytree': 0.9181437190389033, 'subsample': 0.8189837985686004, 'subsample_freq': 5, 'min_child_samples': 809, 'reg_lambda': 83, 'n_estimators': 29613}. Best is trial 84 with value: 0.889073830005179.\u001b[0m\n",
      "D:\\source\\repos\\venv\\Python310\\lib\\site-packages\\sklearn\\utils\\validation.py:1141: DataConversionWarning: A column-vector y was passed when a 1d array was expected. Please change the shape of y to (n_samples, ), for example using ravel().\n",
      "  y = column_or_1d(y, warn=True)\n",
      "D:\\source\\repos\\venv\\Python310\\lib\\site-packages\\lightgbm\\sklearn.py:736: UserWarning: 'verbose' argument is deprecated and will be removed in a future release of LightGBM. Pass 'log_evaluation()' callback via 'callbacks' argument instead.\n",
      "  _log_warning(\"'verbose' argument is deprecated and will be removed in a future release of LightGBM. \"\n",
      "D:\\source\\repos\\venv\\Python310\\lib\\site-packages\\lightgbm\\basic.py:179: UserWarning: Converting column-vector to 1d array\n",
      "  _log_warning('Converting column-vector to 1d array')\n",
      "\u001b[32m[I 2023-01-16 08:40:07,198]\u001b[0m Trial 95 finished with value: 0.8768110329816272 and parameters: {'learning_rate': 0.04850577916122595, 'max_depth': 578, 'num_leaves': 7171, 'colsample_bytree': 0.7053242974262658, 'subsample': 0.7348376615265919, 'subsample_freq': 2, 'min_child_samples': 849, 'reg_lambda': 87, 'n_estimators': 18949}. Best is trial 84 with value: 0.889073830005179.\u001b[0m\n"
     ]
    },
    {
     "name": "stdout",
     "output_type": "stream",
     "text": [
      "Early stopping, best iteration is:\n",
      "[80]\tvalid_0's auc: 0.879868\n",
      "0.879868229735254\n",
      "Training until validation scores don't improve for 100 rounds\n",
      "Early stopping, best iteration is:\n",
      "[4]\tvalid_0's auc: 0.876811\n",
      "0.8768110329816272\n"
     ]
    },
    {
     "name": "stderr",
     "output_type": "stream",
     "text": [
      "D:\\source\\repos\\venv\\Python310\\lib\\site-packages\\sklearn\\utils\\validation.py:1141: DataConversionWarning: A column-vector y was passed when a 1d array was expected. Please change the shape of y to (n_samples, ), for example using ravel().\n",
      "  y = column_or_1d(y, warn=True)\n",
      "D:\\source\\repos\\venv\\Python310\\lib\\site-packages\\lightgbm\\sklearn.py:736: UserWarning: 'verbose' argument is deprecated and will be removed in a future release of LightGBM. Pass 'log_evaluation()' callback via 'callbacks' argument instead.\n",
      "  _log_warning(\"'verbose' argument is deprecated and will be removed in a future release of LightGBM. \"\n",
      "D:\\source\\repos\\venv\\Python310\\lib\\site-packages\\lightgbm\\basic.py:179: UserWarning: Converting column-vector to 1d array\n",
      "  _log_warning('Converting column-vector to 1d array')\n"
     ]
    },
    {
     "name": "stdout",
     "output_type": "stream",
     "text": [
      "Training until validation scores don't improve for 100 rounds\n",
      "Early stopping, best iteration is:\n",
      "[112]\tvalid_0's auc: 0.888462\n"
     ]
    },
    {
     "name": "stderr",
     "output_type": "stream",
     "text": [
      "\u001b[32m[I 2023-01-16 08:40:07,508]\u001b[0m Trial 96 finished with value: 0.8884616498423754 and parameters: {'learning_rate': 0.038919943042582665, 'max_depth': 690, 'num_leaves': 8549, 'colsample_bytree': 0.8477424384020552, 'subsample': 0.7827035215200452, 'subsample_freq': 4, 'min_child_samples': 925, 'reg_lambda': 93, 'n_estimators': 13552}. Best is trial 84 with value: 0.889073830005179.\u001b[0m\n"
     ]
    },
    {
     "name": "stdout",
     "output_type": "stream",
     "text": [
      "0.8884616498423754\n",
      "Training until validation scores don't improve for 100 rounds\n"
     ]
    },
    {
     "name": "stderr",
     "output_type": "stream",
     "text": [
      "D:\\source\\repos\\venv\\Python310\\lib\\site-packages\\sklearn\\utils\\validation.py:1141: DataConversionWarning: A column-vector y was passed when a 1d array was expected. Please change the shape of y to (n_samples, ), for example using ravel().\n",
      "  y = column_or_1d(y, warn=True)\n",
      "D:\\source\\repos\\venv\\Python310\\lib\\site-packages\\lightgbm\\sklearn.py:736: UserWarning: 'verbose' argument is deprecated and will be removed in a future release of LightGBM. Pass 'log_evaluation()' callback via 'callbacks' argument instead.\n",
      "  _log_warning(\"'verbose' argument is deprecated and will be removed in a future release of LightGBM. \"\n",
      "D:\\source\\repos\\venv\\Python310\\lib\\site-packages\\lightgbm\\basic.py:179: UserWarning: Converting column-vector to 1d array\n",
      "  _log_warning('Converting column-vector to 1d array')\n",
      "\u001b[32m[I 2023-01-16 08:40:07,775]\u001b[0m Trial 97 finished with value: 0.8725065780745216 and parameters: {'learning_rate': 0.04317062071194385, 'max_depth': 689, 'num_leaves': 8254, 'colsample_bytree': 0.8421834495528235, 'subsample': 0.6936833109572348, 'subsample_freq': 3, 'min_child_samples': 921, 'reg_lambda': 93, 'n_estimators': 12990}. Best is trial 84 with value: 0.889073830005179.\u001b[0m\n"
     ]
    },
    {
     "name": "stdout",
     "output_type": "stream",
     "text": [
      "Early stopping, best iteration is:\n",
      "[75]\tvalid_0's auc: 0.872507\n",
      "0.8725065780745216\n",
      "Training until validation scores don't improve for 100 rounds\n"
     ]
    },
    {
     "name": "stderr",
     "output_type": "stream",
     "text": [
      "D:\\source\\repos\\venv\\Python310\\lib\\site-packages\\sklearn\\utils\\validation.py:1141: DataConversionWarning: A column-vector y was passed when a 1d array was expected. Please change the shape of y to (n_samples, ), for example using ravel().\n",
      "  y = column_or_1d(y, warn=True)\n",
      "D:\\source\\repos\\venv\\Python310\\lib\\site-packages\\lightgbm\\sklearn.py:736: UserWarning: 'verbose' argument is deprecated and will be removed in a future release of LightGBM. Pass 'log_evaluation()' callback via 'callbacks' argument instead.\n",
      "  _log_warning(\"'verbose' argument is deprecated and will be removed in a future release of LightGBM. \"\n",
      "D:\\source\\repos\\venv\\Python310\\lib\\site-packages\\lightgbm\\basic.py:179: UserWarning: Converting column-vector to 1d array\n",
      "  _log_warning('Converting column-vector to 1d array')\n",
      "\u001b[32m[I 2023-01-16 08:40:08,102]\u001b[0m Trial 98 finished with value: 0.8856132274016959 and parameters: {'learning_rate': 0.03216868522467638, 'max_depth': 661, 'num_leaves': 8435, 'colsample_bytree': 0.7503749975652547, 'subsample': 0.7728940401419733, 'subsample_freq': 6, 'min_child_samples': 985, 'reg_lambda': 96, 'n_estimators': 69442}. Best is trial 84 with value: 0.889073830005179.\u001b[0m\n"
     ]
    },
    {
     "name": "stdout",
     "output_type": "stream",
     "text": [
      "Early stopping, best iteration is:\n",
      "[168]\tvalid_0's auc: 0.885613\n",
      "0.8856132274016959\n",
      "Training until validation scores don't improve for 100 rounds\n"
     ]
    },
    {
     "name": "stderr",
     "output_type": "stream",
     "text": [
      "D:\\source\\repos\\venv\\Python310\\lib\\site-packages\\sklearn\\utils\\validation.py:1141: DataConversionWarning: A column-vector y was passed when a 1d array was expected. Please change the shape of y to (n_samples, ), for example using ravel().\n",
      "  y = column_or_1d(y, warn=True)\n",
      "D:\\source\\repos\\venv\\Python310\\lib\\site-packages\\lightgbm\\sklearn.py:736: UserWarning: 'verbose' argument is deprecated and will be removed in a future release of LightGBM. Pass 'log_evaluation()' callback via 'callbacks' argument instead.\n",
      "  _log_warning(\"'verbose' argument is deprecated and will be removed in a future release of LightGBM. \"\n",
      "D:\\source\\repos\\venv\\Python310\\lib\\site-packages\\lightgbm\\basic.py:179: UserWarning: Converting column-vector to 1d array\n",
      "  _log_warning('Converting column-vector to 1d array')\n",
      "\u001b[32m[I 2023-01-16 08:40:08,336]\u001b[0m Trial 99 finished with value: 0.8817488822155938 and parameters: {'learning_rate': 0.02801337396411939, 'max_depth': 665, 'num_leaves': 8527, 'colsample_bytree': 0.7388955433296023, 'subsample': 0.7836287429686413, 'subsample_freq': 6, 'min_child_samples': 934, 'reg_lambda': 97, 'n_estimators': 73488}. Best is trial 84 with value: 0.889073830005179.\u001b[0m\n"
     ]
    },
    {
     "name": "stdout",
     "output_type": "stream",
     "text": [
      "Early stopping, best iteration is:\n",
      "[64]\tvalid_0's auc: 0.881749\n",
      "0.8817488822155938\n",
      "Training until validation scores don't improve for 100 rounds\n"
     ]
    },
    {
     "name": "stderr",
     "output_type": "stream",
     "text": [
      "D:\\source\\repos\\venv\\Python310\\lib\\site-packages\\sklearn\\utils\\validation.py:1141: DataConversionWarning: A column-vector y was passed when a 1d array was expected. Please change the shape of y to (n_samples, ), for example using ravel().\n",
      "  y = column_or_1d(y, warn=True)\n",
      "D:\\source\\repos\\venv\\Python310\\lib\\site-packages\\lightgbm\\sklearn.py:736: UserWarning: 'verbose' argument is deprecated and will be removed in a future release of LightGBM. Pass 'log_evaluation()' callback via 'callbacks' argument instead.\n",
      "  _log_warning(\"'verbose' argument is deprecated and will be removed in a future release of LightGBM. \"\n",
      "D:\\source\\repos\\venv\\Python310\\lib\\site-packages\\lightgbm\\basic.py:179: UserWarning: Converting column-vector to 1d array\n",
      "  _log_warning('Converting column-vector to 1d array')\n",
      "\u001b[32m[I 2023-01-16 08:40:08,640]\u001b[0m Trial 100 finished with value: 0.8793691917807573 and parameters: {'learning_rate': 0.03439743711430588, 'max_depth': 715, 'num_leaves': 9308, 'colsample_bytree': 0.7622257785546864, 'subsample': 0.7705742371044315, 'subsample_freq': 7, 'min_child_samples': 983, 'reg_lambda': 95, 'n_estimators': 70675}. Best is trial 84 with value: 0.889073830005179.\u001b[0m\n"
     ]
    },
    {
     "name": "stdout",
     "output_type": "stream",
     "text": [
      "Early stopping, best iteration is:\n",
      "[121]\tvalid_0's auc: 0.879369\n",
      "0.8793691917807573\n",
      "Training until validation scores don't improve for 100 rounds\n"
     ]
    },
    {
     "name": "stderr",
     "output_type": "stream",
     "text": [
      "D:\\source\\repos\\venv\\Python310\\lib\\site-packages\\sklearn\\utils\\validation.py:1141: DataConversionWarning: A column-vector y was passed when a 1d array was expected. Please change the shape of y to (n_samples, ), for example using ravel().\n",
      "  y = column_or_1d(y, warn=True)\n",
      "D:\\source\\repos\\venv\\Python310\\lib\\site-packages\\lightgbm\\sklearn.py:736: UserWarning: 'verbose' argument is deprecated and will be removed in a future release of LightGBM. Pass 'log_evaluation()' callback via 'callbacks' argument instead.\n",
      "  _log_warning(\"'verbose' argument is deprecated and will be removed in a future release of LightGBM. \"\n",
      "D:\\source\\repos\\venv\\Python310\\lib\\site-packages\\lightgbm\\basic.py:179: UserWarning: Converting column-vector to 1d array\n",
      "  _log_warning('Converting column-vector to 1d array')\n",
      "\u001b[32m[I 2023-01-16 08:40:09,005]\u001b[0m Trial 101 finished with value: 0.8841723479095966 and parameters: {'learning_rate': 0.031260125121701135, 'max_depth': 618, 'num_leaves': 8868, 'colsample_bytree': 0.795307434681799, 'subsample': 0.7943174809384106, 'subsample_freq': 6, 'min_child_samples': 893, 'reg_lambda': 90, 'n_estimators': 31934}. Best is trial 84 with value: 0.889073830005179.\u001b[0m\n"
     ]
    },
    {
     "name": "stdout",
     "output_type": "stream",
     "text": [
      "Early stopping, best iteration is:\n",
      "[173]\tvalid_0's auc: 0.884172\n",
      "0.8841723479095966\n",
      "Training until validation scores don't improve for 100 rounds\n"
     ]
    },
    {
     "name": "stderr",
     "output_type": "stream",
     "text": [
      "D:\\source\\repos\\venv\\Python310\\lib\\site-packages\\sklearn\\utils\\validation.py:1141: DataConversionWarning: A column-vector y was passed when a 1d array was expected. Please change the shape of y to (n_samples, ), for example using ravel().\n",
      "  y = column_or_1d(y, warn=True)\n",
      "D:\\source\\repos\\venv\\Python310\\lib\\site-packages\\lightgbm\\sklearn.py:736: UserWarning: 'verbose' argument is deprecated and will be removed in a future release of LightGBM. Pass 'log_evaluation()' callback via 'callbacks' argument instead.\n",
      "  _log_warning(\"'verbose' argument is deprecated and will be removed in a future release of LightGBM. \"\n",
      "D:\\source\\repos\\venv\\Python310\\lib\\site-packages\\lightgbm\\basic.py:179: UserWarning: Converting column-vector to 1d array\n",
      "  _log_warning('Converting column-vector to 1d array')\n",
      "\u001b[32m[I 2023-01-16 08:40:09,245]\u001b[0m Trial 102 finished with value: 0.878093311342439 and parameters: {'learning_rate': 0.0510805691433075, 'max_depth': 691, 'num_leaves': 7975, 'colsample_bytree': 0.8832856044645057, 'subsample': 0.8157565398570819, 'subsample_freq': 5, 'min_child_samples': 941, 'reg_lambda': 97, 'n_estimators': 21603}. Best is trial 84 with value: 0.889073830005179.\u001b[0m\n"
     ]
    },
    {
     "name": "stdout",
     "output_type": "stream",
     "text": [
      "Early stopping, best iteration is:\n",
      "[50]\tvalid_0's auc: 0.878093\n",
      "0.878093311342439\n",
      "Training until validation scores don't improve for 100 rounds\n",
      "Early stopping, best iteration is:\n",
      "[37]\tvalid_0's auc: 0.874817\n"
     ]
    },
    {
     "name": "stderr",
     "output_type": "stream",
     "text": [
      "D:\\source\\repos\\venv\\Python310\\lib\\site-packages\\sklearn\\utils\\validation.py:1141: DataConversionWarning: A column-vector y was passed when a 1d array was expected. Please change the shape of y to (n_samples, ), for example using ravel().\n",
      "  y = column_or_1d(y, warn=True)\n",
      "D:\\source\\repos\\venv\\Python310\\lib\\site-packages\\lightgbm\\sklearn.py:736: UserWarning: 'verbose' argument is deprecated and will be removed in a future release of LightGBM. Pass 'log_evaluation()' callback via 'callbacks' argument instead.\n",
      "  _log_warning(\"'verbose' argument is deprecated and will be removed in a future release of LightGBM. \"\n",
      "D:\\source\\repos\\venv\\Python310\\lib\\site-packages\\lightgbm\\basic.py:179: UserWarning: Converting column-vector to 1d array\n",
      "  _log_warning('Converting column-vector to 1d array')\n",
      "\u001b[32m[I 2023-01-16 08:40:09,452]\u001b[0m Trial 103 finished with value: 0.8748169015602175 and parameters: {'learning_rate': 0.03276006362286999, 'max_depth': 736, 'num_leaves': 8657, 'colsample_bytree': 0.5721298845279106, 'subsample': 0.8498725573417395, 'subsample_freq': 6, 'min_child_samples': 902, 'reg_lambda': 92, 'n_estimators': 23195}. Best is trial 84 with value: 0.889073830005179.\u001b[0m\n",
      "D:\\source\\repos\\venv\\Python310\\lib\\site-packages\\sklearn\\utils\\validation.py:1141: DataConversionWarning: A column-vector y was passed when a 1d array was expected. Please change the shape of y to (n_samples, ), for example using ravel().\n",
      "  y = column_or_1d(y, warn=True)\n",
      "D:\\source\\repos\\venv\\Python310\\lib\\site-packages\\lightgbm\\sklearn.py:736: UserWarning: 'verbose' argument is deprecated and will be removed in a future release of LightGBM. Pass 'log_evaluation()' callback via 'callbacks' argument instead.\n",
      "  _log_warning(\"'verbose' argument is deprecated and will be removed in a future release of LightGBM. \"\n",
      "D:\\source\\repos\\venv\\Python310\\lib\\site-packages\\lightgbm\\basic.py:179: UserWarning: Converting column-vector to 1d array\n",
      "  _log_warning('Converting column-vector to 1d array')\n",
      "\u001b[32m[I 2023-01-16 08:40:09,643]\u001b[0m Trial 104 finished with value: 0.881061273913919 and parameters: {'learning_rate': 0.037375212057265614, 'max_depth': 573, 'num_leaves': 7706, 'colsample_bytree': 0.22194732843275428, 'subsample': 0.9056119346184165, 'subsample_freq': 2, 'min_child_samples': 862, 'reg_lambda': 100, 'n_estimators': 14928}. Best is trial 84 with value: 0.889073830005179.\u001b[0m\n"
     ]
    },
    {
     "name": "stdout",
     "output_type": "stream",
     "text": [
      "0.8748169015602175\n",
      "Training until validation scores don't improve for 100 rounds\n",
      "Early stopping, best iteration is:\n",
      "[13]\tvalid_0's auc: 0.881061\n",
      "0.881061273913919\n"
     ]
    },
    {
     "name": "stderr",
     "output_type": "stream",
     "text": [
      "D:\\source\\repos\\venv\\Python310\\lib\\site-packages\\sklearn\\utils\\validation.py:1141: DataConversionWarning: A column-vector y was passed when a 1d array was expected. Please change the shape of y to (n_samples, ), for example using ravel().\n",
      "  y = column_or_1d(y, warn=True)\n",
      "D:\\source\\repos\\venv\\Python310\\lib\\site-packages\\lightgbm\\sklearn.py:736: UserWarning: 'verbose' argument is deprecated and will be removed in a future release of LightGBM. Pass 'log_evaluation()' callback via 'callbacks' argument instead.\n",
      "  _log_warning(\"'verbose' argument is deprecated and will be removed in a future release of LightGBM. \"\n",
      "D:\\source\\repos\\venv\\Python310\\lib\\site-packages\\lightgbm\\basic.py:179: UserWarning: Converting column-vector to 1d array\n",
      "  _log_warning('Converting column-vector to 1d array')\n",
      "\u001b[32m[I 2023-01-16 08:40:09,844]\u001b[0m Trial 105 finished with value: 0.87051817111008 and parameters: {'learning_rate': 0.04655490842784145, 'max_depth': 119, 'num_leaves': 9098, 'colsample_bytree': 0.42313100851320995, 'subsample': 0.743175166575889, 'subsample_freq': 3, 'min_child_samples': 987, 'reg_lambda': 95, 'n_estimators': 96047}. Best is trial 84 with value: 0.889073830005179.\u001b[0m\n",
      "D:\\source\\repos\\venv\\Python310\\lib\\site-packages\\sklearn\\utils\\validation.py:1141: DataConversionWarning: A column-vector y was passed when a 1d array was expected. Please change the shape of y to (n_samples, ), for example using ravel().\n",
      "  y = column_or_1d(y, warn=True)\n"
     ]
    },
    {
     "name": "stdout",
     "output_type": "stream",
     "text": [
      "Training until validation scores don't improve for 100 rounds\n",
      "Early stopping, best iteration is:\n",
      "[28]\tvalid_0's auc: 0.870518\n",
      "0.87051817111008\n"
     ]
    },
    {
     "name": "stderr",
     "output_type": "stream",
     "text": [
      "D:\\source\\repos\\venv\\Python310\\lib\\site-packages\\lightgbm\\sklearn.py:736: UserWarning: 'verbose' argument is deprecated and will be removed in a future release of LightGBM. Pass 'log_evaluation()' callback via 'callbacks' argument instead.\n",
      "  _log_warning(\"'verbose' argument is deprecated and will be removed in a future release of LightGBM. \"\n",
      "D:\\source\\repos\\venv\\Python310\\lib\\site-packages\\lightgbm\\basic.py:179: UserWarning: Converting column-vector to 1d array\n",
      "  _log_warning('Converting column-vector to 1d array')\n",
      "\u001b[32m[I 2023-01-16 08:40:10,078]\u001b[0m Trial 106 finished with value: 0.8680482362948083 and parameters: {'learning_rate': 0.0182749430789141, 'max_depth': 666, 'num_leaves': 9596, 'colsample_bytree': 0.48235155249205275, 'subsample': 0.7050721806759096, 'subsample_freq': 7, 'min_child_samples': 957, 'reg_lambda': 89, 'n_estimators': 18392}. Best is trial 84 with value: 0.889073830005179.\u001b[0m\n"
     ]
    },
    {
     "name": "stdout",
     "output_type": "stream",
     "text": [
      "Training until validation scores don't improve for 100 rounds\n",
      "Early stopping, best iteration is:\n",
      "[64]\tvalid_0's auc: 0.868048\n",
      "0.8680482362948083\n"
     ]
    },
    {
     "name": "stderr",
     "output_type": "stream",
     "text": [
      "D:\\source\\repos\\venv\\Python310\\lib\\site-packages\\sklearn\\utils\\validation.py:1141: DataConversionWarning: A column-vector y was passed when a 1d array was expected. Please change the shape of y to (n_samples, ), for example using ravel().\n",
      "  y = column_or_1d(y, warn=True)\n",
      "D:\\source\\repos\\venv\\Python310\\lib\\site-packages\\lightgbm\\sklearn.py:736: UserWarning: 'verbose' argument is deprecated and will be removed in a future release of LightGBM. Pass 'log_evaluation()' callback via 'callbacks' argument instead.\n",
      "  _log_warning(\"'verbose' argument is deprecated and will be removed in a future release of LightGBM. \"\n",
      "D:\\source\\repos\\venv\\Python310\\lib\\site-packages\\lightgbm\\basic.py:179: UserWarning: Converting column-vector to 1d array\n",
      "  _log_warning('Converting column-vector to 1d array')\n",
      "\u001b[32m[I 2023-01-16 08:40:10,268]\u001b[0m Trial 107 finished with value: 0.8787644197387358 and parameters: {'learning_rate': 0.014809895385678326, 'max_depth': 788, 'num_leaves': 7957, 'colsample_bytree': 0.2745675669277636, 'subsample': 0.9411499828666612, 'subsample_freq': 4, 'min_child_samples': 609, 'reg_lambda': 57, 'n_estimators': 66800}. Best is trial 84 with value: 0.889073830005179.\u001b[0m\n",
      "D:\\source\\repos\\venv\\Python310\\lib\\site-packages\\sklearn\\utils\\validation.py:1141: DataConversionWarning: A column-vector y was passed when a 1d array was expected. Please change the shape of y to (n_samples, ), for example using ravel().\n",
      "  y = column_or_1d(y, warn=True)\n"
     ]
    },
    {
     "name": "stdout",
     "output_type": "stream",
     "text": [
      "Training until validation scores don't improve for 100 rounds\n",
      "Early stopping, best iteration is:\n",
      "[13]\tvalid_0's auc: 0.878764\n",
      "0.8787644197387358\n",
      "Training until validation scores don't improve for 100 rounds\n"
     ]
    },
    {
     "name": "stderr",
     "output_type": "stream",
     "text": [
      "D:\\source\\repos\\venv\\Python310\\lib\\site-packages\\lightgbm\\sklearn.py:736: UserWarning: 'verbose' argument is deprecated and will be removed in a future release of LightGBM. Pass 'log_evaluation()' callback via 'callbacks' argument instead.\n",
      "  _log_warning(\"'verbose' argument is deprecated and will be removed in a future release of LightGBM. \"\n",
      "D:\\source\\repos\\venv\\Python310\\lib\\site-packages\\lightgbm\\basic.py:179: UserWarning: Converting column-vector to 1d array\n",
      "  _log_warning('Converting column-vector to 1d array')\n",
      "\u001b[32m[I 2023-01-16 08:40:10,683]\u001b[0m Trial 108 finished with value: 0.8579250392462034 and parameters: {'learning_rate': 0.05293186230983472, 'max_depth': 348, 'num_leaves': 8421, 'colsample_bytree': 0.127427611382337, 'subsample': 0.8083339341168709, 'subsample_freq': 2, 'min_child_samples': 702, 'reg_lambda': 78, 'n_estimators': 5933}. Best is trial 84 with value: 0.889073830005179.\u001b[0m\n"
     ]
    },
    {
     "name": "stdout",
     "output_type": "stream",
     "text": [
      "Early stopping, best iteration is:\n",
      "[234]\tvalid_0's auc: 0.858486\n",
      "0.8579250392462034\n",
      "Training until validation scores don't improve for 100 rounds\n"
     ]
    },
    {
     "name": "stderr",
     "output_type": "stream",
     "text": [
      "D:\\source\\repos\\venv\\Python310\\lib\\site-packages\\sklearn\\utils\\validation.py:1141: DataConversionWarning: A column-vector y was passed when a 1d array was expected. Please change the shape of y to (n_samples, ), for example using ravel().\n",
      "  y = column_or_1d(y, warn=True)\n",
      "D:\\source\\repos\\venv\\Python310\\lib\\site-packages\\lightgbm\\sklearn.py:736: UserWarning: 'verbose' argument is deprecated and will be removed in a future release of LightGBM. Pass 'log_evaluation()' callback via 'callbacks' argument instead.\n",
      "  _log_warning(\"'verbose' argument is deprecated and will be removed in a future release of LightGBM. \"\n",
      "D:\\source\\repos\\venv\\Python310\\lib\\site-packages\\lightgbm\\basic.py:179: UserWarning: Converting column-vector to 1d array\n",
      "  _log_warning('Converting column-vector to 1d array')\n",
      "\u001b[32m[I 2023-01-16 08:40:10,938]\u001b[0m Trial 109 finished with value: 0.8779370673404914 and parameters: {'learning_rate': 0.03827525755828248, 'max_depth': 636, 'num_leaves': 7499, 'colsample_bytree': 0.8999102795688033, 'subsample': 0.666987804732872, 'subsample_freq': 5, 'min_child_samples': 999, 'reg_lambda': 99, 'n_estimators': 37559}. Best is trial 84 with value: 0.889073830005179.\u001b[0m\n"
     ]
    },
    {
     "name": "stdout",
     "output_type": "stream",
     "text": [
      "Early stopping, best iteration is:\n",
      "[85]\tvalid_0's auc: 0.877937\n",
      "0.8779370673404914\n",
      "Training until validation scores don't improve for 100 rounds\n",
      "Early stopping, best iteration is:\n",
      "[31]\tvalid_0's auc: 0.867214\n"
     ]
    },
    {
     "name": "stderr",
     "output_type": "stream",
     "text": [
      "D:\\source\\repos\\venv\\Python310\\lib\\site-packages\\sklearn\\utils\\validation.py:1141: DataConversionWarning: A column-vector y was passed when a 1d array was expected. Please change the shape of y to (n_samples, ), for example using ravel().\n",
      "  y = column_or_1d(y, warn=True)\n",
      "D:\\source\\repos\\venv\\Python310\\lib\\site-packages\\lightgbm\\sklearn.py:736: UserWarning: 'verbose' argument is deprecated and will be removed in a future release of LightGBM. Pass 'log_evaluation()' callback via 'callbacks' argument instead.\n",
      "  _log_warning(\"'verbose' argument is deprecated and will be removed in a future release of LightGBM. \"\n",
      "D:\\source\\repos\\venv\\Python310\\lib\\site-packages\\lightgbm\\basic.py:179: UserWarning: Converting column-vector to 1d array\n",
      "  _log_warning('Converting column-vector to 1d array')\n",
      "\u001b[32m[I 2023-01-16 08:40:11,137]\u001b[0m Trial 110 finished with value: 0.8672141492413075 and parameters: {'learning_rate': 0.023731795436485143, 'max_depth': 184, 'num_leaves': 6410, 'colsample_bytree': 0.8043787362681865, 'subsample': 0.8843715689462976, 'subsample_freq': 4, 'min_child_samples': 561, 'reg_lambda': 96, 'n_estimators': 79704}. Best is trial 84 with value: 0.889073830005179.\u001b[0m\n",
      "D:\\source\\repos\\venv\\Python310\\lib\\site-packages\\sklearn\\utils\\validation.py:1141: DataConversionWarning: A column-vector y was passed when a 1d array was expected. Please change the shape of y to (n_samples, ), for example using ravel().\n",
      "  y = column_or_1d(y, warn=True)\n"
     ]
    },
    {
     "name": "stdout",
     "output_type": "stream",
     "text": [
      "0.8672141492413075\n",
      "Training until validation scores don't improve for 100 rounds\n"
     ]
    },
    {
     "name": "stderr",
     "output_type": "stream",
     "text": [
      "D:\\source\\repos\\venv\\Python310\\lib\\site-packages\\lightgbm\\sklearn.py:736: UserWarning: 'verbose' argument is deprecated and will be removed in a future release of LightGBM. Pass 'log_evaluation()' callback via 'callbacks' argument instead.\n",
      "  _log_warning(\"'verbose' argument is deprecated and will be removed in a future release of LightGBM. \"\n",
      "D:\\source\\repos\\venv\\Python310\\lib\\site-packages\\lightgbm\\basic.py:179: UserWarning: Converting column-vector to 1d array\n",
      "  _log_warning('Converting column-vector to 1d array')\n",
      "\u001b[32m[I 2023-01-16 08:40:11,387]\u001b[0m Trial 111 finished with value: 0.8824715107246017 and parameters: {'learning_rate': 0.029530142643280764, 'max_depth': 763, 'num_leaves': 8754, 'colsample_bytree': 0.7586726484608195, 'subsample': 0.799341966572613, 'subsample_freq': 6, 'min_child_samples': 886, 'reg_lambda': 91, 'n_estimators': 28366}. Best is trial 84 with value: 0.889073830005179.\u001b[0m\n"
     ]
    },
    {
     "name": "stdout",
     "output_type": "stream",
     "text": [
      "Early stopping, best iteration is:\n",
      "[73]\tvalid_0's auc: 0.882472\n",
      "0.8824715107246017\n",
      "Training until validation scores don't improve for 100 rounds\n"
     ]
    },
    {
     "name": "stderr",
     "output_type": "stream",
     "text": [
      "D:\\source\\repos\\venv\\Python310\\lib\\site-packages\\sklearn\\utils\\validation.py:1141: DataConversionWarning: A column-vector y was passed when a 1d array was expected. Please change the shape of y to (n_samples, ), for example using ravel().\n",
      "  y = column_or_1d(y, warn=True)\n",
      "D:\\source\\repos\\venv\\Python310\\lib\\site-packages\\lightgbm\\sklearn.py:736: UserWarning: 'verbose' argument is deprecated and will be removed in a future release of LightGBM. Pass 'log_evaluation()' callback via 'callbacks' argument instead.\n",
      "  _log_warning(\"'verbose' argument is deprecated and will be removed in a future release of LightGBM. \"\n",
      "D:\\source\\repos\\venv\\Python310\\lib\\site-packages\\lightgbm\\basic.py:179: UserWarning: Converting column-vector to 1d array\n",
      "  _log_warning('Converting column-vector to 1d array')\n",
      "\u001b[32m[I 2023-01-16 08:40:11,630]\u001b[0m Trial 112 finished with value: 0.8782515757409636 and parameters: {'learning_rate': 0.03257503359709951, 'max_depth': 629, 'num_leaves': 9090, 'colsample_bytree': 0.8512512150855691, 'subsample': 0.8377974557454367, 'subsample_freq': 6, 'min_child_samples': 876, 'reg_lambda': 90, 'n_estimators': 34181}. Best is trial 84 with value: 0.889073830005179.\u001b[0m\n"
     ]
    },
    {
     "name": "stdout",
     "output_type": "stream",
     "text": [
      "Early stopping, best iteration is:\n",
      "[65]\tvalid_0's auc: 0.878252\n",
      "0.8782515757409636\n",
      "Training until validation scores don't improve for 100 rounds\n",
      "Early stopping, best iteration is:\n",
      "[20]\tvalid_0's auc: 0.880459\n"
     ]
    },
    {
     "name": "stderr",
     "output_type": "stream",
     "text": [
      "D:\\source\\repos\\venv\\Python310\\lib\\site-packages\\sklearn\\utils\\validation.py:1141: DataConversionWarning: A column-vector y was passed when a 1d array was expected. Please change the shape of y to (n_samples, ), for example using ravel().\n",
      "  y = column_or_1d(y, warn=True)\n",
      "D:\\source\\repos\\venv\\Python310\\lib\\site-packages\\lightgbm\\sklearn.py:736: UserWarning: 'verbose' argument is deprecated and will be removed in a future release of LightGBM. Pass 'log_evaluation()' callback via 'callbacks' argument instead.\n",
      "  _log_warning(\"'verbose' argument is deprecated and will be removed in a future release of LightGBM. \"\n",
      "D:\\source\\repos\\venv\\Python310\\lib\\site-packages\\lightgbm\\basic.py:179: UserWarning: Converting column-vector to 1d array\n",
      "  _log_warning('Converting column-vector to 1d array')\n",
      "\u001b[32m[I 2023-01-16 08:40:11,847]\u001b[0m Trial 113 finished with value: 0.8804585222684745 and parameters: {'learning_rate': 0.026387291089087335, 'max_depth': 609, 'num_leaves': 8229, 'colsample_bytree': 0.7207913489437513, 'subsample': 0.9203375581494989, 'subsample_freq': 6, 'min_child_samples': 903, 'reg_lambda': 93, 'n_estimators': 39187}. Best is trial 84 with value: 0.889073830005179.\u001b[0m\n"
     ]
    },
    {
     "name": "stdout",
     "output_type": "stream",
     "text": [
      "0.8804585222684745\n",
      "Training until validation scores don't improve for 100 rounds\n"
     ]
    },
    {
     "name": "stderr",
     "output_type": "stream",
     "text": [
      "D:\\source\\repos\\venv\\Python310\\lib\\site-packages\\sklearn\\utils\\validation.py:1141: DataConversionWarning: A column-vector y was passed when a 1d array was expected. Please change the shape of y to (n_samples, ), for example using ravel().\n",
      "  y = column_or_1d(y, warn=True)\n",
      "D:\\source\\repos\\venv\\Python310\\lib\\site-packages\\lightgbm\\sklearn.py:736: UserWarning: 'verbose' argument is deprecated and will be removed in a future release of LightGBM. Pass 'log_evaluation()' callback via 'callbacks' argument instead.\n",
      "  _log_warning(\"'verbose' argument is deprecated and will be removed in a future release of LightGBM. \"\n",
      "D:\\source\\repos\\venv\\Python310\\lib\\site-packages\\lightgbm\\basic.py:179: UserWarning: Converting column-vector to 1d array\n",
      "  _log_warning('Converting column-vector to 1d array')\n",
      "\u001b[32m[I 2023-01-16 08:40:12,097]\u001b[0m Trial 114 finished with value: 0.8817778412331961 and parameters: {'learning_rate': 0.031295139330674134, 'max_depth': 152, 'num_leaves': 6772, 'colsample_bytree': 0.7843895175750715, 'subsample': 0.77356149396803, 'subsample_freq': 5, 'min_child_samples': 778, 'reg_lambda': 81, 'n_estimators': 32266}. Best is trial 84 with value: 0.889073830005179.\u001b[0m\n"
     ]
    },
    {
     "name": "stdout",
     "output_type": "stream",
     "text": [
      "Early stopping, best iteration is:\n",
      "[56]\tvalid_0's auc: 0.881778\n",
      "0.8817778412331961\n",
      "Training until validation scores don't improve for 100 rounds\n"
     ]
    },
    {
     "name": "stderr",
     "output_type": "stream",
     "text": [
      "D:\\source\\repos\\venv\\Python310\\lib\\site-packages\\sklearn\\utils\\validation.py:1141: DataConversionWarning: A column-vector y was passed when a 1d array was expected. Please change the shape of y to (n_samples, ), for example using ravel().\n",
      "  y = column_or_1d(y, warn=True)\n",
      "D:\\source\\repos\\venv\\Python310\\lib\\site-packages\\lightgbm\\sklearn.py:736: UserWarning: 'verbose' argument is deprecated and will be removed in a future release of LightGBM. Pass 'log_evaluation()' callback via 'callbacks' argument instead.\n",
      "  _log_warning(\"'verbose' argument is deprecated and will be removed in a future release of LightGBM. \"\n",
      "D:\\source\\repos\\venv\\Python310\\lib\\site-packages\\lightgbm\\basic.py:179: UserWarning: Converting column-vector to 1d array\n",
      "  _log_warning('Converting column-vector to 1d array')\n",
      "\u001b[32m[I 2023-01-16 08:40:12,507]\u001b[0m Trial 115 finished with value: 0.8942197800865673 and parameters: {'learning_rate': 0.01098132402960516, 'max_depth': 702, 'num_leaves': 6088, 'colsample_bytree': 0.8165439254743577, 'subsample': 0.983229981169208, 'subsample_freq': 2, 'min_child_samples': 120, 'reg_lambda': 85, 'n_estimators': 41881}. Best is trial 115 with value: 0.8942197800865673.\u001b[0m\n"
     ]
    },
    {
     "name": "stdout",
     "output_type": "stream",
     "text": [
      "Early stopping, best iteration is:\n",
      "[110]\tvalid_0's auc: 0.89422\n",
      "0.8942197800865673\n",
      "Training until validation scores don't improve for 100 rounds\n"
     ]
    },
    {
     "name": "stderr",
     "output_type": "stream",
     "text": [
      "D:\\source\\repos\\venv\\Python310\\lib\\site-packages\\sklearn\\utils\\validation.py:1141: DataConversionWarning: A column-vector y was passed when a 1d array was expected. Please change the shape of y to (n_samples, ), for example using ravel().\n",
      "  y = column_or_1d(y, warn=True)\n",
      "D:\\source\\repos\\venv\\Python310\\lib\\site-packages\\lightgbm\\sklearn.py:736: UserWarning: 'verbose' argument is deprecated and will be removed in a future release of LightGBM. Pass 'log_evaluation()' callback via 'callbacks' argument instead.\n",
      "  _log_warning(\"'verbose' argument is deprecated and will be removed in a future release of LightGBM. \"\n",
      "D:\\source\\repos\\venv\\Python310\\lib\\site-packages\\lightgbm\\basic.py:179: UserWarning: Converting column-vector to 1d array\n",
      "  _log_warning('Converting column-vector to 1d array')\n",
      "\u001b[32m[I 2023-01-16 08:40:12,804]\u001b[0m Trial 116 finished with value: 0.8718563471095196 and parameters: {'learning_rate': 0.011314116539666732, 'max_depth': 656, 'num_leaves': 5969, 'colsample_bytree': 0.831957703017066, 'subsample': 0.9792970511111865, 'subsample_freq': 2, 'min_child_samples': 98, 'reg_lambda': 87, 'n_estimators': 50141}. Best is trial 115 with value: 0.8942197800865673.\u001b[0m\n"
     ]
    },
    {
     "name": "stdout",
     "output_type": "stream",
     "text": [
      "Early stopping, best iteration is:\n",
      "[37]\tvalid_0's auc: 0.871856\n",
      "0.8718563471095196\n",
      "Training until validation scores don't improve for 100 rounds\n"
     ]
    },
    {
     "name": "stderr",
     "output_type": "stream",
     "text": [
      "D:\\source\\repos\\venv\\Python310\\lib\\site-packages\\sklearn\\utils\\validation.py:1141: DataConversionWarning: A column-vector y was passed when a 1d array was expected. Please change the shape of y to (n_samples, ), for example using ravel().\n",
      "  y = column_or_1d(y, warn=True)\n",
      "D:\\source\\repos\\venv\\Python310\\lib\\site-packages\\lightgbm\\sklearn.py:736: UserWarning: 'verbose' argument is deprecated and will be removed in a future release of LightGBM. Pass 'log_evaluation()' callback via 'callbacks' argument instead.\n",
      "  _log_warning(\"'verbose' argument is deprecated and will be removed in a future release of LightGBM. \"\n",
      "D:\\source\\repos\\venv\\Python310\\lib\\site-packages\\lightgbm\\basic.py:179: UserWarning: Converting column-vector to 1d array\n",
      "  _log_warning('Converting column-vector to 1d array')\n",
      "\u001b[32m[I 2023-01-16 08:40:13,045]\u001b[0m Trial 117 finished with value: 0.8786926956602554 and parameters: {'learning_rate': 0.005907799803774313, 'max_depth': 680, 'num_leaves': 6199, 'colsample_bytree': 0.8698410731313071, 'subsample': 0.9927220615885946, 'subsample_freq': 1, 'min_child_samples': 328, 'reg_lambda': 78, 'n_estimators': 11310}. Best is trial 115 with value: 0.8942197800865673.\u001b[0m\n"
     ]
    },
    {
     "name": "stdout",
     "output_type": "stream",
     "text": [
      "Early stopping, best iteration is:\n",
      "[51]\tvalid_0's auc: 0.878693\n",
      "0.8786926956602554\n",
      "Training until validation scores don't improve for 100 rounds\n"
     ]
    },
    {
     "name": "stderr",
     "output_type": "stream",
     "text": [
      "D:\\source\\repos\\venv\\Python310\\lib\\site-packages\\sklearn\\utils\\validation.py:1141: DataConversionWarning: A column-vector y was passed when a 1d array was expected. Please change the shape of y to (n_samples, ), for example using ravel().\n",
      "  y = column_or_1d(y, warn=True)\n",
      "D:\\source\\repos\\venv\\Python310\\lib\\site-packages\\lightgbm\\sklearn.py:736: UserWarning: 'verbose' argument is deprecated and will be removed in a future release of LightGBM. Pass 'log_evaluation()' callback via 'callbacks' argument instead.\n",
      "  _log_warning(\"'verbose' argument is deprecated and will be removed in a future release of LightGBM. \"\n",
      "D:\\source\\repos\\venv\\Python310\\lib\\site-packages\\lightgbm\\basic.py:179: UserWarning: Converting column-vector to 1d array\n",
      "  _log_warning('Converting column-vector to 1d array')\n",
      "\u001b[32m[I 2023-01-16 08:40:13,436]\u001b[0m Trial 118 finished with value: 0.8878578879986423 and parameters: {'learning_rate': 0.009442655350023317, 'max_depth': 712, 'num_leaves': 5767, 'colsample_bytree': 0.8145976125740142, 'subsample': 0.9531292413130351, 'subsample_freq': 2, 'min_child_samples': 160, 'reg_lambda': 74, 'n_estimators': 47462}. Best is trial 115 with value: 0.8942197800865673.\u001b[0m\n"
     ]
    },
    {
     "name": "stdout",
     "output_type": "stream",
     "text": [
      "Early stopping, best iteration is:\n",
      "[141]\tvalid_0's auc: 0.887858\n",
      "0.8878578879986423\n",
      "Training until validation scores don't improve for 100 rounds\n"
     ]
    },
    {
     "name": "stderr",
     "output_type": "stream",
     "text": [
      "D:\\source\\repos\\venv\\Python310\\lib\\site-packages\\sklearn\\utils\\validation.py:1141: DataConversionWarning: A column-vector y was passed when a 1d array was expected. Please change the shape of y to (n_samples, ), for example using ravel().\n",
      "  y = column_or_1d(y, warn=True)\n",
      "D:\\source\\repos\\venv\\Python310\\lib\\site-packages\\lightgbm\\sklearn.py:736: UserWarning: 'verbose' argument is deprecated and will be removed in a future release of LightGBM. Pass 'log_evaluation()' callback via 'callbacks' argument instead.\n",
      "  _log_warning(\"'verbose' argument is deprecated and will be removed in a future release of LightGBM. \"\n",
      "D:\\source\\repos\\venv\\Python310\\lib\\site-packages\\lightgbm\\basic.py:179: UserWarning: Converting column-vector to 1d array\n",
      "  _log_warning('Converting column-vector to 1d array')\n",
      "\u001b[32m[I 2023-01-16 08:40:14,059]\u001b[0m Trial 119 finished with value: 0.8820546355642328 and parameters: {'learning_rate': 0.010060119372977506, 'max_depth': 716, 'num_leaves': 5656, 'colsample_bytree': 0.8094125611676223, 'subsample': 0.970555658789966, 'subsample_freq': 2, 'min_child_samples': 152, 'reg_lambda': 67, 'n_estimators': 45021}. Best is trial 115 with value: 0.8942197800865673.\u001b[0m\n"
     ]
    },
    {
     "name": "stdout",
     "output_type": "stream",
     "text": [
      "Early stopping, best iteration is:\n",
      "[246]\tvalid_0's auc: 0.882055\n",
      "0.8820546355642328\n",
      "Training until validation scores don't improve for 100 rounds\n"
     ]
    },
    {
     "name": "stderr",
     "output_type": "stream",
     "text": [
      "D:\\source\\repos\\venv\\Python310\\lib\\site-packages\\sklearn\\utils\\validation.py:1141: DataConversionWarning: A column-vector y was passed when a 1d array was expected. Please change the shape of y to (n_samples, ), for example using ravel().\n",
      "  y = column_or_1d(y, warn=True)\n",
      "D:\\source\\repos\\venv\\Python310\\lib\\site-packages\\lightgbm\\sklearn.py:736: UserWarning: 'verbose' argument is deprecated and will be removed in a future release of LightGBM. Pass 'log_evaluation()' callback via 'callbacks' argument instead.\n",
      "  _log_warning(\"'verbose' argument is deprecated and will be removed in a future release of LightGBM. \"\n",
      "D:\\source\\repos\\venv\\Python310\\lib\\site-packages\\lightgbm\\basic.py:179: UserWarning: Converting column-vector to 1d array\n",
      "  _log_warning('Converting column-vector to 1d array')\n",
      "\u001b[32m[I 2023-01-16 08:40:14,392]\u001b[0m Trial 120 finished with value: 0.8844087343090952 and parameters: {'learning_rate': 0.012741294891505625, 'max_depth': 762, 'num_leaves': 7040, 'colsample_bytree': 0.9127277373968343, 'subsample': 0.9511081197055183, 'subsample_freq': 3, 'min_child_samples': 196, 'reg_lambda': 74, 'n_estimators': 47787}. Best is trial 115 with value: 0.8942197800865673.\u001b[0m\n"
     ]
    },
    {
     "name": "stdout",
     "output_type": "stream",
     "text": [
      "Early stopping, best iteration is:\n",
      "[80]\tvalid_0's auc: 0.884409\n",
      "0.8844087343090952\n",
      "Training until validation scores don't improve for 100 rounds\n"
     ]
    },
    {
     "name": "stderr",
     "output_type": "stream",
     "text": [
      "D:\\source\\repos\\venv\\Python310\\lib\\site-packages\\sklearn\\utils\\validation.py:1141: DataConversionWarning: A column-vector y was passed when a 1d array was expected. Please change the shape of y to (n_samples, ), for example using ravel().\n",
      "  y = column_or_1d(y, warn=True)\n",
      "D:\\source\\repos\\venv\\Python310\\lib\\site-packages\\lightgbm\\sklearn.py:736: UserWarning: 'verbose' argument is deprecated and will be removed in a future release of LightGBM. Pass 'log_evaluation()' callback via 'callbacks' argument instead.\n",
      "  _log_warning(\"'verbose' argument is deprecated and will be removed in a future release of LightGBM. \"\n",
      "D:\\source\\repos\\venv\\Python310\\lib\\site-packages\\lightgbm\\basic.py:179: UserWarning: Converting column-vector to 1d array\n",
      "  _log_warning('Converting column-vector to 1d array')\n",
      "\u001b[32m[I 2023-01-16 08:40:14,674]\u001b[0m Trial 121 finished with value: 0.873248737083773 and parameters: {'learning_rate': 0.08172560310506889, 'max_depth': 701, 'num_leaves': 6584, 'colsample_bytree': 0.881340280426715, 'subsample': 0.9999586959235348, 'subsample_freq': 3, 'min_child_samples': 172, 'reg_lambda': 71, 'n_estimators': 48081}. Best is trial 115 with value: 0.8942197800865673.\u001b[0m\n"
     ]
    },
    {
     "name": "stdout",
     "output_type": "stream",
     "text": [
      "Early stopping, best iteration is:\n",
      "[13]\tvalid_0's auc: 0.873249\n",
      "0.873248737083773\n",
      "Training until validation scores don't improve for 100 rounds\n"
     ]
    },
    {
     "name": "stderr",
     "output_type": "stream",
     "text": [
      "D:\\source\\repos\\venv\\Python310\\lib\\site-packages\\sklearn\\utils\\validation.py:1141: DataConversionWarning: A column-vector y was passed when a 1d array was expected. Please change the shape of y to (n_samples, ), for example using ravel().\n",
      "  y = column_or_1d(y, warn=True)\n",
      "D:\\source\\repos\\venv\\Python310\\lib\\site-packages\\lightgbm\\sklearn.py:736: UserWarning: 'verbose' argument is deprecated and will be removed in a future release of LightGBM. Pass 'log_evaluation()' callback via 'callbacks' argument instead.\n",
      "  _log_warning(\"'verbose' argument is deprecated and will be removed in a future release of LightGBM. \"\n",
      "D:\\source\\repos\\venv\\Python310\\lib\\site-packages\\lightgbm\\basic.py:179: UserWarning: Converting column-vector to 1d array\n",
      "  _log_warning('Converting column-vector to 1d array')\n",
      "\u001b[32m[I 2023-01-16 08:40:15,363]\u001b[0m Trial 122 finished with value: 0.8835685860658635 and parameters: {'learning_rate': 0.003890512883069991, 'max_depth': 762, 'num_leaves': 7180, 'colsample_bytree': 0.9090204513343175, 'subsample': 0.9475733584552731, 'subsample_freq': 3, 'min_child_samples': 54, 'reg_lambda': 74, 'n_estimators': 55275}. Best is trial 115 with value: 0.8942197800865673.\u001b[0m\n"
     ]
    },
    {
     "name": "stdout",
     "output_type": "stream",
     "text": [
      "Early stopping, best iteration is:\n",
      "[207]\tvalid_0's auc: 0.883569\n",
      "0.8835685860658635\n",
      "Training until validation scores don't improve for 100 rounds\n"
     ]
    },
    {
     "name": "stderr",
     "output_type": "stream",
     "text": [
      "D:\\source\\repos\\venv\\Python310\\lib\\site-packages\\sklearn\\utils\\validation.py:1141: DataConversionWarning: A column-vector y was passed when a 1d array was expected. Please change the shape of y to (n_samples, ), for example using ravel().\n",
      "  y = column_or_1d(y, warn=True)\n",
      "D:\\source\\repos\\venv\\Python310\\lib\\site-packages\\lightgbm\\sklearn.py:736: UserWarning: 'verbose' argument is deprecated and will be removed in a future release of LightGBM. Pass 'log_evaluation()' callback via 'callbacks' argument instead.\n",
      "  _log_warning(\"'verbose' argument is deprecated and will be removed in a future release of LightGBM. \"\n",
      "D:\\source\\repos\\venv\\Python310\\lib\\site-packages\\lightgbm\\basic.py:179: UserWarning: Converting column-vector to 1d array\n",
      "  _log_warning('Converting column-vector to 1d array')\n",
      "\u001b[32m[I 2023-01-16 08:40:15,774]\u001b[0m Trial 123 finished with value: 0.8728133416214491 and parameters: {'learning_rate': 0.012218989784035555, 'max_depth': 820, 'num_leaves': 7013, 'colsample_bytree': 0.9671928882016186, 'subsample': 0.9307714976571521, 'subsample_freq': 2, 'min_child_samples': 226, 'reg_lambda': 71, 'n_estimators': 52313}. Best is trial 115 with value: 0.8942197800865673.\u001b[0m\n"
     ]
    },
    {
     "name": "stdout",
     "output_type": "stream",
     "text": [
      "Early stopping, best iteration is:\n",
      "[142]\tvalid_0's auc: 0.872813\n",
      "0.8728133416214491\n",
      "Training until validation scores don't improve for 100 rounds\n"
     ]
    },
    {
     "name": "stderr",
     "output_type": "stream",
     "text": [
      "D:\\source\\repos\\venv\\Python310\\lib\\site-packages\\sklearn\\utils\\validation.py:1141: DataConversionWarning: A column-vector y was passed when a 1d array was expected. Please change the shape of y to (n_samples, ), for example using ravel().\n",
      "  y = column_or_1d(y, warn=True)\n",
      "D:\\source\\repos\\venv\\Python310\\lib\\site-packages\\lightgbm\\sklearn.py:736: UserWarning: 'verbose' argument is deprecated and will be removed in a future release of LightGBM. Pass 'log_evaluation()' callback via 'callbacks' argument instead.\n",
      "  _log_warning(\"'verbose' argument is deprecated and will be removed in a future release of LightGBM. \"\n",
      "D:\\source\\repos\\venv\\Python310\\lib\\site-packages\\lightgbm\\basic.py:179: UserWarning: Converting column-vector to 1d array\n",
      "  _log_warning('Converting column-vector to 1d array')\n",
      "\u001b[32m[I 2023-01-16 08:40:15,975]\u001b[0m Trial 124 finished with value: 0.8684782440329271 and parameters: {'learning_rate': 0.006130028017933197, 'max_depth': 740, 'num_leaves': 5842, 'colsample_bytree': 0.8633718801901489, 'subsample': 0.5074087807321971, 'subsample_freq': 3, 'min_child_samples': 199, 'reg_lambda': 77, 'n_estimators': 42322}. Best is trial 115 with value: 0.8942197800865673.\u001b[0m\n",
      "D:\\source\\repos\\venv\\Python310\\lib\\site-packages\\sklearn\\utils\\validation.py:1141: DataConversionWarning: A column-vector y was passed when a 1d array was expected. Please change the shape of y to (n_samples, ), for example using ravel().\n",
      "  y = column_or_1d(y, warn=True)\n"
     ]
    },
    {
     "name": "stdout",
     "output_type": "stream",
     "text": [
      "Early stopping, best iteration is:\n",
      "[6]\tvalid_0's auc: 0.868478\n",
      "0.8684782440329271\n",
      "Training until validation scores don't improve for 100 rounds\n"
     ]
    },
    {
     "name": "stderr",
     "output_type": "stream",
     "text": [
      "D:\\source\\repos\\venv\\Python310\\lib\\site-packages\\lightgbm\\sklearn.py:736: UserWarning: 'verbose' argument is deprecated and will be removed in a future release of LightGBM. Pass 'log_evaluation()' callback via 'callbacks' argument instead.\n",
      "  _log_warning(\"'verbose' argument is deprecated and will be removed in a future release of LightGBM. \"\n",
      "D:\\source\\repos\\venv\\Python310\\lib\\site-packages\\lightgbm\\basic.py:179: UserWarning: Converting column-vector to 1d array\n",
      "  _log_warning('Converting column-vector to 1d array')\n",
      "\u001b[32m[I 2023-01-16 08:40:16,534]\u001b[0m Trial 125 finished with value: 0.8829459671874127 and parameters: {'learning_rate': 0.007980177580369265, 'max_depth': 722, 'num_leaves': 6472, 'colsample_bytree': 0.850768799898501, 'subsample': 0.909295572663344, 'subsample_freq': 4, 'min_child_samples': 28, 'reg_lambda': 80, 'n_estimators': 46976}. Best is trial 115 with value: 0.8942197800865673.\u001b[0m\n"
     ]
    },
    {
     "name": "stdout",
     "output_type": "stream",
     "text": [
      "Early stopping, best iteration is:\n",
      "[98]\tvalid_0's auc: 0.882946\n",
      "0.8829459671874127\n",
      "Training until validation scores don't improve for 100 rounds\n"
     ]
    },
    {
     "name": "stderr",
     "output_type": "stream",
     "text": [
      "D:\\source\\repos\\venv\\Python310\\lib\\site-packages\\sklearn\\utils\\validation.py:1141: DataConversionWarning: A column-vector y was passed when a 1d array was expected. Please change the shape of y to (n_samples, ), for example using ravel().\n",
      "  y = column_or_1d(y, warn=True)\n",
      "D:\\source\\repos\\venv\\Python310\\lib\\site-packages\\lightgbm\\sklearn.py:736: UserWarning: 'verbose' argument is deprecated and will be removed in a future release of LightGBM. Pass 'log_evaluation()' callback via 'callbacks' argument instead.\n",
      "  _log_warning(\"'verbose' argument is deprecated and will be removed in a future release of LightGBM. \"\n",
      "D:\\source\\repos\\venv\\Python310\\lib\\site-packages\\lightgbm\\basic.py:179: UserWarning: Converting column-vector to 1d array\n",
      "  _log_warning('Converting column-vector to 1d array')\n",
      "\u001b[32m[I 2023-01-16 08:40:16,814]\u001b[0m Trial 126 finished with value: 0.8877282458849572 and parameters: {'learning_rate': 0.017484246083162965, 'max_depth': 120, 'num_leaves': 6913, 'colsample_bytree': 0.8208596553552516, 'subsample': 0.9594959058169826, 'subsample_freq': 4, 'min_child_samples': 120, 'reg_lambda': 65, 'n_estimators': 41029}. Best is trial 115 with value: 0.8942197800865673.\u001b[0m\n"
     ]
    },
    {
     "name": "stdout",
     "output_type": "stream",
     "text": [
      "Early stopping, best iteration is:\n",
      "[20]\tvalid_0's auc: 0.887728\n",
      "0.8877282458849572\n",
      "Training until validation scores don't improve for 100 rounds\n"
     ]
    },
    {
     "name": "stderr",
     "output_type": "stream",
     "text": [
      "D:\\source\\repos\\venv\\Python310\\lib\\site-packages\\sklearn\\utils\\validation.py:1141: DataConversionWarning: A column-vector y was passed when a 1d array was expected. Please change the shape of y to (n_samples, ), for example using ravel().\n",
      "  y = column_or_1d(y, warn=True)\n",
      "D:\\source\\repos\\venv\\Python310\\lib\\site-packages\\lightgbm\\sklearn.py:736: UserWarning: 'verbose' argument is deprecated and will be removed in a future release of LightGBM. Pass 'log_evaluation()' callback via 'callbacks' argument instead.\n",
      "  _log_warning(\"'verbose' argument is deprecated and will be removed in a future release of LightGBM. \"\n",
      "D:\\source\\repos\\venv\\Python310\\lib\\site-packages\\lightgbm\\basic.py:179: UserWarning: Converting column-vector to 1d array\n",
      "  _log_warning('Converting column-vector to 1d array')\n",
      "\u001b[32m[I 2023-01-16 08:40:17,148]\u001b[0m Trial 127 finished with value: 0.8750819102445555 and parameters: {'learning_rate': 0.020571052482694734, 'max_depth': 100, 'num_leaves': 6067, 'colsample_bytree': 0.815271328217678, 'subsample': 0.9695765421039739, 'subsample_freq': 4, 'min_child_samples': 57, 'reg_lambda': 64, 'n_estimators': 40975}. Best is trial 115 with value: 0.8942197800865673.\u001b[0m\n"
     ]
    },
    {
     "name": "stdout",
     "output_type": "stream",
     "text": [
      "Early stopping, best iteration is:\n",
      "[26]\tvalid_0's auc: 0.875082\n",
      "0.8750819102445555\n",
      "Training until validation scores don't improve for 100 rounds\n"
     ]
    },
    {
     "name": "stderr",
     "output_type": "stream",
     "text": [
      "D:\\source\\repos\\venv\\Python310\\lib\\site-packages\\sklearn\\utils\\validation.py:1141: DataConversionWarning: A column-vector y was passed when a 1d array was expected. Please change the shape of y to (n_samples, ), for example using ravel().\n",
      "  y = column_or_1d(y, warn=True)\n",
      "D:\\source\\repos\\venv\\Python310\\lib\\site-packages\\lightgbm\\sklearn.py:736: UserWarning: 'verbose' argument is deprecated and will be removed in a future release of LightGBM. Pass 'log_evaluation()' callback via 'callbacks' argument instead.\n",
      "  _log_warning(\"'verbose' argument is deprecated and will be removed in a future release of LightGBM. \"\n",
      "D:\\source\\repos\\venv\\Python310\\lib\\site-packages\\lightgbm\\basic.py:179: UserWarning: Converting column-vector to 1d array\n",
      "  _log_warning('Converting column-vector to 1d array')\n",
      "\u001b[32m[I 2023-01-16 08:40:17,622]\u001b[0m Trial 128 finished with value: 0.8883757829878568 and parameters: {'learning_rate': 0.008834835734453686, 'max_depth': 131, 'num_leaves': 6614, 'colsample_bytree': 0.7562428244342181, 'subsample': 0.8633062272210041, 'subsample_freq': 4, 'min_child_samples': 111, 'reg_lambda': 69, 'n_estimators': 35849}. Best is trial 115 with value: 0.8942197800865673.\u001b[0m\n"
     ]
    },
    {
     "name": "stdout",
     "output_type": "stream",
     "text": [
      "Early stopping, best iteration is:\n",
      "[172]\tvalid_0's auc: 0.888376\n",
      "0.8883757829878568\n",
      "Training until validation scores don't improve for 100 rounds\n"
     ]
    },
    {
     "name": "stderr",
     "output_type": "stream",
     "text": [
      "D:\\source\\repos\\venv\\Python310\\lib\\site-packages\\sklearn\\utils\\validation.py:1141: DataConversionWarning: A column-vector y was passed when a 1d array was expected. Please change the shape of y to (n_samples, ), for example using ravel().\n",
      "  y = column_or_1d(y, warn=True)\n",
      "D:\\source\\repos\\venv\\Python310\\lib\\site-packages\\lightgbm\\sklearn.py:736: UserWarning: 'verbose' argument is deprecated and will be removed in a future release of LightGBM. Pass 'log_evaluation()' callback via 'callbacks' argument instead.\n",
      "  _log_warning(\"'verbose' argument is deprecated and will be removed in a future release of LightGBM. \"\n",
      "D:\\source\\repos\\venv\\Python310\\lib\\site-packages\\lightgbm\\basic.py:179: UserWarning: Converting column-vector to 1d array\n",
      "  _log_warning('Converting column-vector to 1d array')\n",
      "\u001b[32m[I 2023-01-16 08:40:17,967]\u001b[0m Trial 129 finished with value: 0.8803096863873086 and parameters: {'learning_rate': 0.016518412487844955, 'max_depth': 129, 'num_leaves': 5795, 'colsample_bytree': 0.7902248691094886, 'subsample': 0.8635916411109104, 'subsample_freq': 4, 'min_child_samples': 101, 'reg_lambda': 69, 'n_estimators': 42974}. Best is trial 115 with value: 0.8942197800865673.\u001b[0m\n"
     ]
    },
    {
     "name": "stdout",
     "output_type": "stream",
     "text": [
      "Early stopping, best iteration is:\n",
      "[74]\tvalid_0's auc: 0.88031\n",
      "0.8803096863873086\n",
      "Training until validation scores don't improve for 100 rounds\n"
     ]
    },
    {
     "name": "stderr",
     "output_type": "stream",
     "text": [
      "D:\\source\\repos\\venv\\Python310\\lib\\site-packages\\sklearn\\utils\\validation.py:1141: DataConversionWarning: A column-vector y was passed when a 1d array was expected. Please change the shape of y to (n_samples, ), for example using ravel().\n",
      "  y = column_or_1d(y, warn=True)\n",
      "D:\\source\\repos\\venv\\Python310\\lib\\site-packages\\lightgbm\\sklearn.py:736: UserWarning: 'verbose' argument is deprecated and will be removed in a future release of LightGBM. Pass 'log_evaluation()' callback via 'callbacks' argument instead.\n",
      "  _log_warning(\"'verbose' argument is deprecated and will be removed in a future release of LightGBM. \"\n",
      "D:\\source\\repos\\venv\\Python310\\lib\\site-packages\\lightgbm\\basic.py:179: UserWarning: Converting column-vector to 1d array\n",
      "  _log_warning('Converting column-vector to 1d array')\n",
      "\u001b[32m[I 2023-01-16 08:40:18,549]\u001b[0m Trial 130 finished with value: 0.8905167298938551 and parameters: {'learning_rate': 0.014833024183229812, 'max_depth': 157, 'num_leaves': 6869, 'colsample_bytree': 0.6343466406554836, 'subsample': 0.8955026081393738, 'subsample_freq': 4, 'min_child_samples': 102, 'reg_lambda': 71, 'n_estimators': 37631}. Best is trial 115 with value: 0.8942197800865673.\u001b[0m\n"
     ]
    },
    {
     "name": "stdout",
     "output_type": "stream",
     "text": [
      "Early stopping, best iteration is:\n",
      "[154]\tvalid_0's auc: 0.890517\n",
      "0.8905167298938551\n",
      "Training until validation scores don't improve for 100 rounds\n"
     ]
    },
    {
     "name": "stderr",
     "output_type": "stream",
     "text": [
      "D:\\source\\repos\\venv\\Python310\\lib\\site-packages\\sklearn\\utils\\validation.py:1141: DataConversionWarning: A column-vector y was passed when a 1d array was expected. Please change the shape of y to (n_samples, ), for example using ravel().\n",
      "  y = column_or_1d(y, warn=True)\n",
      "D:\\source\\repos\\venv\\Python310\\lib\\site-packages\\lightgbm\\sklearn.py:736: UserWarning: 'verbose' argument is deprecated and will be removed in a future release of LightGBM. Pass 'log_evaluation()' callback via 'callbacks' argument instead.\n",
      "  _log_warning(\"'verbose' argument is deprecated and will be removed in a future release of LightGBM. \"\n",
      "D:\\source\\repos\\venv\\Python310\\lib\\site-packages\\lightgbm\\basic.py:179: UserWarning: Converting column-vector to 1d array\n",
      "  _log_warning('Converting column-vector to 1d array')\n",
      "\u001b[32m[I 2023-01-16 08:40:19,470]\u001b[0m Trial 131 finished with value: 0.8939096492120117 and parameters: {'learning_rate': 0.009163879309039379, 'max_depth': 161, 'num_leaves': 7380, 'colsample_bytree': 0.6925110165053568, 'subsample': 0.892044778458231, 'subsample_freq': 4, 'min_child_samples': 131, 'reg_lambda': 68, 'n_estimators': 38801}. Best is trial 115 with value: 0.8942197800865673.\u001b[0m\n"
     ]
    },
    {
     "name": "stdout",
     "output_type": "stream",
     "text": [
      "Early stopping, best iteration is:\n",
      "[373]\tvalid_0's auc: 0.89391\n",
      "0.8939096492120117\n"
     ]
    },
    {
     "name": "stderr",
     "output_type": "stream",
     "text": [
      "D:\\source\\repos\\venv\\Python310\\lib\\site-packages\\sklearn\\utils\\validation.py:1141: DataConversionWarning: A column-vector y was passed when a 1d array was expected. Please change the shape of y to (n_samples, ), for example using ravel().\n",
      "  y = column_or_1d(y, warn=True)\n",
      "D:\\source\\repos\\venv\\Python310\\lib\\site-packages\\lightgbm\\sklearn.py:736: UserWarning: 'verbose' argument is deprecated and will be removed in a future release of LightGBM. Pass 'log_evaluation()' callback via 'callbacks' argument instead.\n",
      "  _log_warning(\"'verbose' argument is deprecated and will be removed in a future release of LightGBM. \"\n",
      "D:\\source\\repos\\venv\\Python310\\lib\\site-packages\\lightgbm\\basic.py:179: UserWarning: Converting column-vector to 1d array\n",
      "  _log_warning('Converting column-vector to 1d array')\n"
     ]
    },
    {
     "name": "stdout",
     "output_type": "stream",
     "text": [
      "Training until validation scores don't improve for 100 rounds\n",
      "Early stopping, best iteration is:\n",
      "[32]\tvalid_0's auc: 0.887845\n"
     ]
    },
    {
     "name": "stderr",
     "output_type": "stream",
     "text": [
      "\u001b[32m[I 2023-01-16 08:40:19,790]\u001b[0m Trial 132 finished with value: 0.8878450921536551 and parameters: {'learning_rate': 0.01462289231422305, 'max_depth': 152, 'num_leaves': 7678, 'colsample_bytree': 0.6871877913202896, 'subsample': 0.8906757645369374, 'subsample_freq': 4, 'min_child_samples': 109, 'reg_lambda': 67, 'n_estimators': 37512}. Best is trial 115 with value: 0.8942197800865673.\u001b[0m\n"
     ]
    },
    {
     "name": "stdout",
     "output_type": "stream",
     "text": [
      "0.8878450921536551\n",
      "Training until validation scores don't improve for 100 rounds\n"
     ]
    },
    {
     "name": "stderr",
     "output_type": "stream",
     "text": [
      "D:\\source\\repos\\venv\\Python310\\lib\\site-packages\\sklearn\\utils\\validation.py:1141: DataConversionWarning: A column-vector y was passed when a 1d array was expected. Please change the shape of y to (n_samples, ), for example using ravel().\n",
      "  y = column_or_1d(y, warn=True)\n",
      "D:\\source\\repos\\venv\\Python310\\lib\\site-packages\\lightgbm\\sklearn.py:736: UserWarning: 'verbose' argument is deprecated and will be removed in a future release of LightGBM. Pass 'log_evaluation()' callback via 'callbacks' argument instead.\n",
      "  _log_warning(\"'verbose' argument is deprecated and will be removed in a future release of LightGBM. \"\n",
      "D:\\source\\repos\\venv\\Python310\\lib\\site-packages\\lightgbm\\basic.py:179: UserWarning: Converting column-vector to 1d array\n",
      "  _log_warning('Converting column-vector to 1d array')\n",
      "\u001b[32m[I 2023-01-16 08:40:20,129]\u001b[0m Trial 133 finished with value: 0.8837955439480032 and parameters: {'learning_rate': 0.014792371914862289, 'max_depth': 152, 'num_leaves': 7746, 'colsample_bytree': 0.6323830466780653, 'subsample': 0.8939263456004364, 'subsample_freq': 4, 'min_child_samples': 110, 'reg_lambda': 65, 'n_estimators': 36031}. Best is trial 115 with value: 0.8942197800865673.\u001b[0m\n"
     ]
    },
    {
     "name": "stdout",
     "output_type": "stream",
     "text": [
      "Early stopping, best iteration is:\n",
      "[39]\tvalid_0's auc: 0.883796\n",
      "0.8837955439480032\n",
      "Training until validation scores don't improve for 100 rounds\n"
     ]
    },
    {
     "name": "stderr",
     "output_type": "stream",
     "text": [
      "D:\\source\\repos\\venv\\Python310\\lib\\site-packages\\sklearn\\utils\\validation.py:1141: DataConversionWarning: A column-vector y was passed when a 1d array was expected. Please change the shape of y to (n_samples, ), for example using ravel().\n",
      "  y = column_or_1d(y, warn=True)\n",
      "D:\\source\\repos\\venv\\Python310\\lib\\site-packages\\lightgbm\\sklearn.py:736: UserWarning: 'verbose' argument is deprecated and will be removed in a future release of LightGBM. Pass 'log_evaluation()' callback via 'callbacks' argument instead.\n",
      "  _log_warning(\"'verbose' argument is deprecated and will be removed in a future release of LightGBM. \"\n",
      "D:\\source\\repos\\venv\\Python310\\lib\\site-packages\\lightgbm\\basic.py:179: UserWarning: Converting column-vector to 1d array\n",
      "  _log_warning('Converting column-vector to 1d array')\n",
      "\u001b[32m[I 2023-01-16 08:40:20,420]\u001b[0m Trial 134 finished with value: 0.8782024127575921 and parameters: {'learning_rate': 0.009317323480132072, 'max_depth': 116, 'num_leaves': 7364, 'colsample_bytree': 0.665127006365761, 'subsample': 0.9254138607755973, 'subsample_freq': 4, 'min_child_samples': 128, 'reg_lambda': 63, 'n_estimators': 37392}. Best is trial 115 with value: 0.8942197800865673.\u001b[0m\n"
     ]
    },
    {
     "name": "stdout",
     "output_type": "stream",
     "text": [
      "Early stopping, best iteration is:\n",
      "[34]\tvalid_0's auc: 0.878202\n",
      "0.8782024127575921\n",
      "Training until validation scores don't improve for 100 rounds\n"
     ]
    },
    {
     "name": "stderr",
     "output_type": "stream",
     "text": [
      "D:\\source\\repos\\venv\\Python310\\lib\\site-packages\\sklearn\\utils\\validation.py:1141: DataConversionWarning: A column-vector y was passed when a 1d array was expected. Please change the shape of y to (n_samples, ), for example using ravel().\n",
      "  y = column_or_1d(y, warn=True)\n",
      "D:\\source\\repos\\venv\\Python310\\lib\\site-packages\\lightgbm\\sklearn.py:736: UserWarning: 'verbose' argument is deprecated and will be removed in a future release of LightGBM. Pass 'log_evaluation()' callback via 'callbacks' argument instead.\n",
      "  _log_warning(\"'verbose' argument is deprecated and will be removed in a future release of LightGBM. \"\n",
      "D:\\source\\repos\\venv\\Python310\\lib\\site-packages\\lightgbm\\basic.py:179: UserWarning: Converting column-vector to 1d array\n",
      "  _log_warning('Converting column-vector to 1d array')\n",
      "\u001b[32m[I 2023-01-16 08:40:20,760]\u001b[0m Trial 135 finished with value: 0.8897877034623536 and parameters: {'learning_rate': 0.01763496107072127, 'max_depth': 166, 'num_leaves': 6748, 'colsample_bytree': 0.69123172652629, 'subsample': 0.9353492035272956, 'subsample_freq': 4, 'min_child_samples': 73, 'reg_lambda': 67, 'n_estimators': 38628}. Best is trial 115 with value: 0.8942197800865673.\u001b[0m\n"
     ]
    },
    {
     "name": "stdout",
     "output_type": "stream",
     "text": [
      "Early stopping, best iteration is:\n",
      "[34]\tvalid_0's auc: 0.889788\n",
      "0.8897877034623536\n",
      "Training until validation scores don't improve for 100 rounds\n"
     ]
    },
    {
     "name": "stderr",
     "output_type": "stream",
     "text": [
      "D:\\source\\repos\\venv\\Python310\\lib\\site-packages\\sklearn\\utils\\validation.py:1141: DataConversionWarning: A column-vector y was passed when a 1d array was expected. Please change the shape of y to (n_samples, ), for example using ravel().\n",
      "  y = column_or_1d(y, warn=True)\n",
      "D:\\source\\repos\\venv\\Python310\\lib\\site-packages\\lightgbm\\sklearn.py:736: UserWarning: 'verbose' argument is deprecated and will be removed in a future release of LightGBM. Pass 'log_evaluation()' callback via 'callbacks' argument instead.\n",
      "  _log_warning(\"'verbose' argument is deprecated and will be removed in a future release of LightGBM. \"\n",
      "D:\\source\\repos\\venv\\Python310\\lib\\site-packages\\lightgbm\\basic.py:179: UserWarning: Converting column-vector to 1d array\n",
      "  _log_warning('Converting column-vector to 1d array')\n",
      "\u001b[32m[I 2023-01-16 08:40:21,223]\u001b[0m Trial 136 finished with value: 0.878343503785213 and parameters: {'learning_rate': 0.01435232183222792, 'max_depth': 215, 'num_leaves': 6834, 'colsample_bytree': 0.6895600576729057, 'subsample': 0.9405813182361316, 'subsample_freq': 4, 'min_child_samples': 67, 'reg_lambda': 68, 'n_estimators': 40351}. Best is trial 115 with value: 0.8942197800865673.\u001b[0m\n"
     ]
    },
    {
     "name": "stdout",
     "output_type": "stream",
     "text": [
      "Early stopping, best iteration is:\n",
      "[92]\tvalid_0's auc: 0.878344\n",
      "0.878343503785213\n",
      "Training until validation scores don't improve for 100 rounds\n"
     ]
    },
    {
     "name": "stderr",
     "output_type": "stream",
     "text": [
      "D:\\source\\repos\\venv\\Python310\\lib\\site-packages\\sklearn\\utils\\validation.py:1141: DataConversionWarning: A column-vector y was passed when a 1d array was expected. Please change the shape of y to (n_samples, ), for example using ravel().\n",
      "  y = column_or_1d(y, warn=True)\n",
      "D:\\source\\repos\\venv\\Python310\\lib\\site-packages\\lightgbm\\sklearn.py:736: UserWarning: 'verbose' argument is deprecated and will be removed in a future release of LightGBM. Pass 'log_evaluation()' callback via 'callbacks' argument instead.\n",
      "  _log_warning(\"'verbose' argument is deprecated and will be removed in a future release of LightGBM. \"\n",
      "D:\\source\\repos\\venv\\Python310\\lib\\site-packages\\lightgbm\\basic.py:179: UserWarning: Converting column-vector to 1d array\n",
      "  _log_warning('Converting column-vector to 1d array')\n",
      "\u001b[32m[I 2023-01-16 08:40:21,590]\u001b[0m Trial 137 finished with value: 0.8837180954125549 and parameters: {'learning_rate': 0.017184788426531414, 'max_depth': 168, 'num_leaves': 6708, 'colsample_bytree': 0.61279432345455, 'subsample': 0.894743964589464, 'subsample_freq': 4, 'min_child_samples': 145, 'reg_lambda': 70, 'n_estimators': 38926}. Best is trial 115 with value: 0.8942197800865673.\u001b[0m\n"
     ]
    },
    {
     "name": "stdout",
     "output_type": "stream",
     "text": [
      "Early stopping, best iteration is:\n",
      "[68]\tvalid_0's auc: 0.883718\n",
      "0.8837180954125549\n",
      "Training until validation scores don't improve for 100 rounds\n"
     ]
    },
    {
     "name": "stderr",
     "output_type": "stream",
     "text": [
      "D:\\source\\repos\\venv\\Python310\\lib\\site-packages\\sklearn\\utils\\validation.py:1141: DataConversionWarning: A column-vector y was passed when a 1d array was expected. Please change the shape of y to (n_samples, ), for example using ravel().\n",
      "  y = column_or_1d(y, warn=True)\n",
      "D:\\source\\repos\\venv\\Python310\\lib\\site-packages\\lightgbm\\sklearn.py:736: UserWarning: 'verbose' argument is deprecated and will be removed in a future release of LightGBM. Pass 'log_evaluation()' callback via 'callbacks' argument instead.\n",
      "  _log_warning(\"'verbose' argument is deprecated and will be removed in a future release of LightGBM. \"\n",
      "D:\\source\\repos\\venv\\Python310\\lib\\site-packages\\lightgbm\\basic.py:179: UserWarning: Converting column-vector to 1d array\n",
      "  _log_warning('Converting column-vector to 1d array')\n",
      "\u001b[32m[I 2023-01-16 08:40:21,936]\u001b[0m Trial 138 finished with value: 0.8800052799697211 and parameters: {'learning_rate': 0.018503261784230635, 'max_depth': 191, 'num_leaves': 6143, 'colsample_bytree': 0.6493311749581354, 'subsample': 0.9817544408951846, 'subsample_freq': 5, 'min_child_samples': 123, 'reg_lambda': 58, 'n_estimators': 36520}. Best is trial 115 with value: 0.8942197800865673.\u001b[0m\n"
     ]
    },
    {
     "name": "stdout",
     "output_type": "stream",
     "text": [
      "Early stopping, best iteration is:\n",
      "[41]\tvalid_0's auc: 0.880005\n",
      "0.8800052799697211\n",
      "Training until validation scores don't improve for 100 rounds\n"
     ]
    },
    {
     "name": "stderr",
     "output_type": "stream",
     "text": [
      "D:\\source\\repos\\venv\\Python310\\lib\\site-packages\\sklearn\\utils\\validation.py:1141: DataConversionWarning: A column-vector y was passed when a 1d array was expected. Please change the shape of y to (n_samples, ), for example using ravel().\n",
      "  y = column_or_1d(y, warn=True)\n",
      "D:\\source\\repos\\venv\\Python310\\lib\\site-packages\\lightgbm\\sklearn.py:736: UserWarning: 'verbose' argument is deprecated and will be removed in a future release of LightGBM. Pass 'log_evaluation()' callback via 'callbacks' argument instead.\n",
      "  _log_warning(\"'verbose' argument is deprecated and will be removed in a future release of LightGBM. \"\n",
      "D:\\source\\repos\\venv\\Python310\\lib\\site-packages\\lightgbm\\basic.py:179: UserWarning: Converting column-vector to 1d array\n",
      "  _log_warning('Converting column-vector to 1d array')\n",
      "\u001b[32m[I 2023-01-16 08:40:22,192]\u001b[0m Trial 139 finished with value: 0.8857310838686824 and parameters: {'learning_rate': 0.011792792428983862, 'max_depth': 138, 'num_leaves': 7301, 'colsample_bytree': 0.7035368756182443, 'subsample': 0.9546530989284306, 'subsample_freq': 4, 'min_child_samples': 165, 'reg_lambda': 66, 'n_estimators': 44190}. Best is trial 115 with value: 0.8942197800865673.\u001b[0m\n"
     ]
    },
    {
     "name": "stdout",
     "output_type": "stream",
     "text": [
      "Early stopping, best iteration is:\n",
      "[32]\tvalid_0's auc: 0.885731\n",
      "0.8857310838686824\n",
      "Training until validation scores don't improve for 100 rounds\n"
     ]
    },
    {
     "name": "stderr",
     "output_type": "stream",
     "text": [
      "D:\\source\\repos\\venv\\Python310\\lib\\site-packages\\sklearn\\utils\\validation.py:1141: DataConversionWarning: A column-vector y was passed when a 1d array was expected. Please change the shape of y to (n_samples, ), for example using ravel().\n",
      "  y = column_or_1d(y, warn=True)\n",
      "D:\\source\\repos\\venv\\Python310\\lib\\site-packages\\lightgbm\\sklearn.py:736: UserWarning: 'verbose' argument is deprecated and will be removed in a future release of LightGBM. Pass 'log_evaluation()' callback via 'callbacks' argument instead.\n",
      "  _log_warning(\"'verbose' argument is deprecated and will be removed in a future release of LightGBM. \"\n",
      "D:\\source\\repos\\venv\\Python310\\lib\\site-packages\\lightgbm\\basic.py:179: UserWarning: Converting column-vector to 1d array\n",
      "  _log_warning('Converting column-vector to 1d array')\n",
      "\u001b[32m[I 2023-01-16 08:40:22,472]\u001b[0m Trial 140 finished with value: 0.8833348935284676 and parameters: {'learning_rate': 0.008182528021246924, 'max_depth': 159, 'num_leaves': 6809, 'colsample_bytree': 0.724180257892687, 'subsample': 0.9108296385658531, 'subsample_freq': 4, 'min_child_samples': 91, 'reg_lambda': 66, 'n_estimators': 33270}. Best is trial 115 with value: 0.8942197800865673.\u001b[0m\n"
     ]
    },
    {
     "name": "stdout",
     "output_type": "stream",
     "text": [
      "Early stopping, best iteration is:\n",
      "[31]\tvalid_0's auc: 0.883335\n",
      "0.8833348935284676\n",
      "Training until validation scores don't improve for 100 rounds\n"
     ]
    },
    {
     "name": "stderr",
     "output_type": "stream",
     "text": [
      "D:\\source\\repos\\venv\\Python310\\lib\\site-packages\\sklearn\\utils\\validation.py:1141: DataConversionWarning: A column-vector y was passed when a 1d array was expected. Please change the shape of y to (n_samples, ), for example using ravel().\n",
      "  y = column_or_1d(y, warn=True)\n",
      "D:\\source\\repos\\venv\\Python310\\lib\\site-packages\\lightgbm\\sklearn.py:736: UserWarning: 'verbose' argument is deprecated and will be removed in a future release of LightGBM. Pass 'log_evaluation()' callback via 'callbacks' argument instead.\n",
      "  _log_warning(\"'verbose' argument is deprecated and will be removed in a future release of LightGBM. \"\n",
      "D:\\source\\repos\\venv\\Python310\\lib\\site-packages\\lightgbm\\basic.py:179: UserWarning: Converting column-vector to 1d array\n",
      "  _log_warning('Converting column-vector to 1d array')\n",
      "\u001b[32m[I 2023-01-16 08:40:22,794]\u001b[0m Trial 141 finished with value: 0.8836315550925106 and parameters: {'learning_rate': 0.011243632261642515, 'max_depth': 139, 'num_leaves': 7262, 'colsample_bytree': 0.7117693597477961, 'subsample': 0.9625852146995952, 'subsample_freq': 4, 'min_child_samples': 78, 'reg_lambda': 61, 'n_estimators': 43488}. Best is trial 115 with value: 0.8942197800865673.\u001b[0m\n"
     ]
    },
    {
     "name": "stdout",
     "output_type": "stream",
     "text": [
      "Early stopping, best iteration is:\n",
      "[34]\tvalid_0's auc: 0.883632\n",
      "0.8836315550925106\n",
      "Training until validation scores don't improve for 100 rounds\n"
     ]
    },
    {
     "name": "stderr",
     "output_type": "stream",
     "text": [
      "D:\\source\\repos\\venv\\Python310\\lib\\site-packages\\sklearn\\utils\\validation.py:1141: DataConversionWarning: A column-vector y was passed when a 1d array was expected. Please change the shape of y to (n_samples, ), for example using ravel().\n",
      "  y = column_or_1d(y, warn=True)\n",
      "D:\\source\\repos\\venv\\Python310\\lib\\site-packages\\lightgbm\\sklearn.py:736: UserWarning: 'verbose' argument is deprecated and will be removed in a future release of LightGBM. Pass 'log_evaluation()' callback via 'callbacks' argument instead.\n",
      "  _log_warning(\"'verbose' argument is deprecated and will be removed in a future release of LightGBM. \"\n",
      "D:\\source\\repos\\venv\\Python310\\lib\\site-packages\\lightgbm\\basic.py:179: UserWarning: Converting column-vector to 1d array\n",
      "  _log_warning('Converting column-vector to 1d array')\n",
      "\u001b[32m[I 2023-01-16 08:40:23,756]\u001b[0m Trial 142 finished with value: 0.8836123613250301 and parameters: {'learning_rate': 0.0056080227521296735, 'max_depth': 175, 'num_leaves': 7592, 'colsample_bytree': 0.6781432138184029, 'subsample': 0.9332301067721573, 'subsample_freq': 4, 'min_child_samples': 162, 'reg_lambda': 71, 'n_estimators': 41565}. Best is trial 115 with value: 0.8942197800865673.\u001b[0m\n"
     ]
    },
    {
     "name": "stdout",
     "output_type": "stream",
     "text": [
      "Early stopping, best iteration is:\n",
      "[413]\tvalid_0's auc: 0.883612\n",
      "0.8836123613250301\n",
      "Training until validation scores don't improve for 100 rounds\n"
     ]
    },
    {
     "name": "stderr",
     "output_type": "stream",
     "text": [
      "D:\\source\\repos\\venv\\Python310\\lib\\site-packages\\sklearn\\utils\\validation.py:1141: DataConversionWarning: A column-vector y was passed when a 1d array was expected. Please change the shape of y to (n_samples, ), for example using ravel().\n",
      "  y = column_or_1d(y, warn=True)\n",
      "D:\\source\\repos\\venv\\Python310\\lib\\site-packages\\lightgbm\\sklearn.py:736: UserWarning: 'verbose' argument is deprecated and will be removed in a future release of LightGBM. Pass 'log_evaluation()' callback via 'callbacks' argument instead.\n",
      "  _log_warning(\"'verbose' argument is deprecated and will be removed in a future release of LightGBM. \"\n",
      "D:\\source\\repos\\venv\\Python310\\lib\\site-packages\\lightgbm\\basic.py:179: UserWarning: Converting column-vector to 1d array\n",
      "  _log_warning('Converting column-vector to 1d array')\n",
      "\u001b[32m[I 2023-01-16 08:40:24,395]\u001b[0m Trial 143 finished with value: 0.868915659891828 and parameters: {'learning_rate': 0.014178922256336497, 'max_depth': 128, 'num_leaves': 6536, 'colsample_bytree': 0.703129697392983, 'subsample': 0.9550882188630265, 'subsample_freq': 4, 'min_child_samples': 38, 'reg_lambda': 53, 'n_estimators': 38343}. Best is trial 115 with value: 0.8942197800865673.\u001b[0m\n"
     ]
    },
    {
     "name": "stdout",
     "output_type": "stream",
     "text": [
      "Early stopping, best iteration is:\n",
      "[104]\tvalid_0's auc: 0.868916\n",
      "0.868915659891828\n",
      "Training until validation scores don't improve for 100 rounds\n"
     ]
    },
    {
     "name": "stderr",
     "output_type": "stream",
     "text": [
      "D:\\source\\repos\\venv\\Python310\\lib\\site-packages\\sklearn\\utils\\validation.py:1141: DataConversionWarning: A column-vector y was passed when a 1d array was expected. Please change the shape of y to (n_samples, ), for example using ravel().\n",
      "  y = column_or_1d(y, warn=True)\n",
      "D:\\source\\repos\\venv\\Python310\\lib\\site-packages\\lightgbm\\sklearn.py:736: UserWarning: 'verbose' argument is deprecated and will be removed in a future release of LightGBM. Pass 'log_evaluation()' callback via 'callbacks' argument instead.\n",
      "  _log_warning(\"'verbose' argument is deprecated and will be removed in a future release of LightGBM. \"\n",
      "D:\\source\\repos\\venv\\Python310\\lib\\site-packages\\lightgbm\\basic.py:179: UserWarning: Converting column-vector to 1d array\n",
      "  _log_warning('Converting column-vector to 1d array')\n",
      "\u001b[32m[I 2023-01-16 08:40:24,745]\u001b[0m Trial 144 finished with value: 0.8827671620903561 and parameters: {'learning_rate': 0.0013002741939126955, 'max_depth': 207, 'num_leaves': 7043, 'colsample_bytree': 0.5949678975589814, 'subsample': 0.9177242582446434, 'subsample_freq': 5, 'min_child_samples': 114, 'reg_lambda': 66, 'n_estimators': 46025}. Best is trial 115 with value: 0.8942197800865673.\u001b[0m\n"
     ]
    },
    {
     "name": "stdout",
     "output_type": "stream",
     "text": [
      "Early stopping, best iteration is:\n",
      "[44]\tvalid_0's auc: 0.882767\n",
      "0.8827671620903561\n",
      "Training until validation scores don't improve for 100 rounds\n"
     ]
    },
    {
     "name": "stderr",
     "output_type": "stream",
     "text": [
      "D:\\source\\repos\\venv\\Python310\\lib\\site-packages\\sklearn\\utils\\validation.py:1141: DataConversionWarning: A column-vector y was passed when a 1d array was expected. Please change the shape of y to (n_samples, ), for example using ravel().\n",
      "  y = column_or_1d(y, warn=True)\n",
      "D:\\source\\repos\\venv\\Python310\\lib\\site-packages\\lightgbm\\sklearn.py:736: UserWarning: 'verbose' argument is deprecated and will be removed in a future release of LightGBM. Pass 'log_evaluation()' callback via 'callbacks' argument instead.\n",
      "  _log_warning(\"'verbose' argument is deprecated and will be removed in a future release of LightGBM. \"\n",
      "D:\\source\\repos\\venv\\Python310\\lib\\site-packages\\lightgbm\\basic.py:179: UserWarning: Converting column-vector to 1d array\n",
      "  _log_warning('Converting column-vector to 1d array')\n",
      "\u001b[32m[I 2023-01-16 08:40:25,053]\u001b[0m Trial 145 finished with value: 0.8760756086276322 and parameters: {'learning_rate': 0.021464842715580718, 'max_depth': 100, 'num_leaves': 7412, 'colsample_bytree': 0.652014126973643, 'subsample': 0.8700448250737469, 'subsample_freq': 4, 'min_child_samples': 249, 'reg_lambda': 72, 'n_estimators': 29940}. Best is trial 115 with value: 0.8942197800865673.\u001b[0m\n"
     ]
    },
    {
     "name": "stdout",
     "output_type": "stream",
     "text": [
      "Early stopping, best iteration is:\n",
      "[72]\tvalid_0's auc: 0.876076\n",
      "0.8760756086276322\n",
      "Training until validation scores don't improve for 100 rounds\n"
     ]
    },
    {
     "name": "stderr",
     "output_type": "stream",
     "text": [
      "D:\\source\\repos\\venv\\Python310\\lib\\site-packages\\sklearn\\utils\\validation.py:1141: DataConversionWarning: A column-vector y was passed when a 1d array was expected. Please change the shape of y to (n_samples, ), for example using ravel().\n",
      "  y = column_or_1d(y, warn=True)\n",
      "D:\\source\\repos\\venv\\Python310\\lib\\site-packages\\lightgbm\\sklearn.py:736: UserWarning: 'verbose' argument is deprecated and will be removed in a future release of LightGBM. Pass 'log_evaluation()' callback via 'callbacks' argument instead.\n",
      "  _log_warning(\"'verbose' argument is deprecated and will be removed in a future release of LightGBM. \"\n",
      "D:\\source\\repos\\venv\\Python310\\lib\\site-packages\\lightgbm\\basic.py:179: UserWarning: Converting column-vector to 1d array\n",
      "  _log_warning('Converting column-vector to 1d array')\n",
      "\u001b[32m[I 2023-01-16 08:40:25,553]\u001b[0m Trial 146 finished with value: 0.8880370298284616 and parameters: {'learning_rate': 0.009960200202305654, 'max_depth': 152, 'num_leaves': 8077, 'colsample_bytree': 0.6699382022216389, 'subsample': 0.9829570817443869, 'subsample_freq': 4, 'min_child_samples': 173, 'reg_lambda': 59, 'n_estimators': 44723}. Best is trial 115 with value: 0.8942197800865673.\u001b[0m\n"
     ]
    },
    {
     "name": "stdout",
     "output_type": "stream",
     "text": [
      "Early stopping, best iteration is:\n",
      "[132]\tvalid_0's auc: 0.888037\n",
      "0.8880370298284616\n",
      "Training until validation scores don't improve for 100 rounds\n"
     ]
    },
    {
     "name": "stderr",
     "output_type": "stream",
     "text": [
      "D:\\source\\repos\\venv\\Python310\\lib\\site-packages\\sklearn\\utils\\validation.py:1141: DataConversionWarning: A column-vector y was passed when a 1d array was expected. Please change the shape of y to (n_samples, ), for example using ravel().\n",
      "  y = column_or_1d(y, warn=True)\n",
      "D:\\source\\repos\\venv\\Python310\\lib\\site-packages\\lightgbm\\sklearn.py:736: UserWarning: 'verbose' argument is deprecated and will be removed in a future release of LightGBM. Pass 'log_evaluation()' callback via 'callbacks' argument instead.\n",
      "  _log_warning(\"'verbose' argument is deprecated and will be removed in a future release of LightGBM. \"\n",
      "D:\\source\\repos\\venv\\Python310\\lib\\site-packages\\lightgbm\\basic.py:179: UserWarning: Converting column-vector to 1d array\n",
      "  _log_warning('Converting column-vector to 1d array')\n",
      "\u001b[32m[I 2023-01-16 08:40:25,926]\u001b[0m Trial 147 finished with value: 0.8876780727032973 and parameters: {'learning_rate': 0.015700810771239943, 'max_depth': 155, 'num_leaves': 8063, 'colsample_bytree': 0.6386523628471001, 'subsample': 0.9814159693684438, 'subsample_freq': 4, 'min_child_samples': 137, 'reg_lambda': 60, 'n_estimators': 35306}. Best is trial 115 with value: 0.8942197800865673.\u001b[0m\n"
     ]
    },
    {
     "name": "stdout",
     "output_type": "stream",
     "text": [
      "Early stopping, best iteration is:\n",
      "[46]\tvalid_0's auc: 0.887678\n",
      "0.8876780727032973\n",
      "Training until validation scores don't improve for 100 rounds\n"
     ]
    },
    {
     "name": "stderr",
     "output_type": "stream",
     "text": [
      "D:\\source\\repos\\venv\\Python310\\lib\\site-packages\\sklearn\\utils\\validation.py:1141: DataConversionWarning: A column-vector y was passed when a 1d array was expected. Please change the shape of y to (n_samples, ), for example using ravel().\n",
      "  y = column_or_1d(y, warn=True)\n",
      "D:\\source\\repos\\venv\\Python310\\lib\\site-packages\\lightgbm\\sklearn.py:736: UserWarning: 'verbose' argument is deprecated and will be removed in a future release of LightGBM. Pass 'log_evaluation()' callback via 'callbacks' argument instead.\n",
      "  _log_warning(\"'verbose' argument is deprecated and will be removed in a future release of LightGBM. \"\n",
      "D:\\source\\repos\\venv\\Python310\\lib\\site-packages\\lightgbm\\basic.py:179: UserWarning: Converting column-vector to 1d array\n",
      "  _log_warning('Converting column-vector to 1d array')\n",
      "\u001b[32m[I 2023-01-16 08:40:26,283]\u001b[0m Trial 148 finished with value: 0.8785468903739552 and parameters: {'learning_rate': 0.016410532914089677, 'max_depth': 120, 'num_leaves': 8001, 'colsample_bytree': 0.6345596900005596, 'subsample': 0.986005316623168, 'subsample_freq': 4, 'min_child_samples': 136, 'reg_lambda': 59, 'n_estimators': 35611}. Best is trial 115 with value: 0.8942197800865673.\u001b[0m\n"
     ]
    },
    {
     "name": "stdout",
     "output_type": "stream",
     "text": [
      "Early stopping, best iteration is:\n",
      "[42]\tvalid_0's auc: 0.878547\n",
      "0.8785468903739552\n",
      "Training until validation scores don't improve for 100 rounds\n"
     ]
    },
    {
     "name": "stderr",
     "output_type": "stream",
     "text": [
      "D:\\source\\repos\\venv\\Python310\\lib\\site-packages\\sklearn\\utils\\validation.py:1141: DataConversionWarning: A column-vector y was passed when a 1d array was expected. Please change the shape of y to (n_samples, ), for example using ravel().\n",
      "  y = column_or_1d(y, warn=True)\n",
      "D:\\source\\repos\\venv\\Python310\\lib\\site-packages\\lightgbm\\sklearn.py:736: UserWarning: 'verbose' argument is deprecated and will be removed in a future release of LightGBM. Pass 'log_evaluation()' callback via 'callbacks' argument instead.\n",
      "  _log_warning(\"'verbose' argument is deprecated and will be removed in a future release of LightGBM. \"\n",
      "D:\\source\\repos\\venv\\Python310\\lib\\site-packages\\lightgbm\\basic.py:179: UserWarning: Converting column-vector to 1d array\n",
      "  _log_warning('Converting column-vector to 1d array')\n",
      "\u001b[32m[I 2023-01-16 08:40:26,663]\u001b[0m Trial 149 finished with value: 0.8759924356352161 and parameters: {'learning_rate': 0.00966573042149253, 'max_depth': 154, 'num_leaves': 8131, 'colsample_bytree': 0.6745747196704437, 'subsample': 0.9739043869207304, 'subsample_freq': 4, 'min_child_samples': 84, 'reg_lambda': 63, 'n_estimators': 39751}. Best is trial 115 with value: 0.8942197800865673.\u001b[0m\n"
     ]
    },
    {
     "name": "stdout",
     "output_type": "stream",
     "text": [
      "Early stopping, best iteration is:\n",
      "[47]\tvalid_0's auc: 0.875992\n",
      "0.8759924356352161\n",
      "Training until validation scores don't improve for 100 rounds\n"
     ]
    },
    {
     "name": "stderr",
     "output_type": "stream",
     "text": [
      "D:\\source\\repos\\venv\\Python310\\lib\\site-packages\\sklearn\\utils\\validation.py:1141: DataConversionWarning: A column-vector y was passed when a 1d array was expected. Please change the shape of y to (n_samples, ), for example using ravel().\n",
      "  y = column_or_1d(y, warn=True)\n",
      "D:\\source\\repos\\venv\\Python310\\lib\\site-packages\\lightgbm\\sklearn.py:736: UserWarning: 'verbose' argument is deprecated and will be removed in a future release of LightGBM. Pass 'log_evaluation()' callback via 'callbacks' argument instead.\n",
      "  _log_warning(\"'verbose' argument is deprecated and will be removed in a future release of LightGBM. \"\n",
      "D:\\source\\repos\\venv\\Python310\\lib\\site-packages\\lightgbm\\basic.py:179: UserWarning: Converting column-vector to 1d array\n",
      "  _log_warning('Converting column-vector to 1d array')\n",
      "\u001b[32m[I 2023-01-16 08:40:27,016]\u001b[0m Trial 150 finished with value: 0.8724190275561889 and parameters: {'learning_rate': 0.018424036906280968, 'max_depth': 166, 'num_leaves': 7782, 'colsample_bytree': 0.5825151666158142, 'subsample': 0.9966877475953085, 'subsample_freq': 4, 'min_child_samples': 185, 'reg_lambda': 61, 'n_estimators': 34294}. Best is trial 115 with value: 0.8942197800865673.\u001b[0m\n"
     ]
    },
    {
     "name": "stdout",
     "output_type": "stream",
     "text": [
      "Early stopping, best iteration is:\n",
      "[44]\tvalid_0's auc: 0.872419\n",
      "0.8724190275561889\n",
      "Training until validation scores don't improve for 100 rounds\n"
     ]
    },
    {
     "name": "stderr",
     "output_type": "stream",
     "text": [
      "D:\\source\\repos\\venv\\Python310\\lib\\site-packages\\sklearn\\utils\\validation.py:1141: DataConversionWarning: A column-vector y was passed when a 1d array was expected. Please change the shape of y to (n_samples, ), for example using ravel().\n",
      "  y = column_or_1d(y, warn=True)\n",
      "D:\\source\\repos\\venv\\Python310\\lib\\site-packages\\lightgbm\\sklearn.py:736: UserWarning: 'verbose' argument is deprecated and will be removed in a future release of LightGBM. Pass 'log_evaluation()' callback via 'callbacks' argument instead.\n",
      "  _log_warning(\"'verbose' argument is deprecated and will be removed in a future release of LightGBM. \"\n",
      "D:\\source\\repos\\venv\\Python310\\lib\\site-packages\\lightgbm\\basic.py:179: UserWarning: Converting column-vector to 1d array\n",
      "  _log_warning('Converting column-vector to 1d array')\n",
      "\u001b[32m[I 2023-01-16 08:40:28,138]\u001b[0m Trial 151 finished with value: 0.8922488832257921 and parameters: {'learning_rate': 0.003292934416193849, 'max_depth': 193, 'num_leaves': 6285, 'colsample_bytree': 0.6067115150415396, 'subsample': 0.9439531034098124, 'subsample_freq': 5, 'min_child_samples': 128, 'reg_lambda': 64, 'n_estimators': 41263}. Best is trial 115 with value: 0.8942197800865673.\u001b[0m\n"
     ]
    },
    {
     "name": "stdout",
     "output_type": "stream",
     "text": [
      "Early stopping, best iteration is:\n",
      "[463]\tvalid_0's auc: 0.892249\n",
      "0.8922488832257921\n"
     ]
    },
    {
     "name": "stderr",
     "output_type": "stream",
     "text": [
      "D:\\source\\repos\\venv\\Python310\\lib\\site-packages\\sklearn\\utils\\validation.py:1141: DataConversionWarning: A column-vector y was passed when a 1d array was expected. Please change the shape of y to (n_samples, ), for example using ravel().\n",
      "  y = column_or_1d(y, warn=True)\n",
      "D:\\source\\repos\\venv\\Python310\\lib\\site-packages\\lightgbm\\sklearn.py:736: UserWarning: 'verbose' argument is deprecated and will be removed in a future release of LightGBM. Pass 'log_evaluation()' callback via 'callbacks' argument instead.\n",
      "  _log_warning(\"'verbose' argument is deprecated and will be removed in a future release of LightGBM. \"\n",
      "D:\\source\\repos\\venv\\Python310\\lib\\site-packages\\lightgbm\\basic.py:179: UserWarning: Converting column-vector to 1d array\n",
      "  _log_warning('Converting column-vector to 1d array')\n"
     ]
    },
    {
     "name": "stdout",
     "output_type": "stream",
     "text": [
      "Training until validation scores don't improve for 100 rounds\n"
     ]
    },
    {
     "name": "stderr",
     "output_type": "stream",
     "text": [
      "\u001b[32m[I 2023-01-16 08:40:28,907]\u001b[0m Trial 152 finished with value: 0.8673697197777295 and parameters: {'learning_rate': 0.00308165513997059, 'max_depth': 178, 'num_leaves': 6328, 'colsample_bytree': 0.551684552251926, 'subsample': 0.9313856935562889, 'subsample_freq': 4, 'min_child_samples': 144, 'reg_lambda': 56, 'n_estimators': 41799}. Best is trial 115 with value: 0.8942197800865673.\u001b[0m\n"
     ]
    },
    {
     "name": "stdout",
     "output_type": "stream",
     "text": [
      "Early stopping, best iteration is:\n",
      "[328]\tvalid_0's auc: 0.86737\n",
      "0.8673697197777295\n",
      "Training until validation scores don't improve for 100 rounds\n"
     ]
    },
    {
     "name": "stderr",
     "output_type": "stream",
     "text": [
      "D:\\source\\repos\\venv\\Python310\\lib\\site-packages\\sklearn\\utils\\validation.py:1141: DataConversionWarning: A column-vector y was passed when a 1d array was expected. Please change the shape of y to (n_samples, ), for example using ravel().\n",
      "  y = column_or_1d(y, warn=True)\n",
      "D:\\source\\repos\\venv\\Python310\\lib\\site-packages\\lightgbm\\sklearn.py:736: UserWarning: 'verbose' argument is deprecated and will be removed in a future release of LightGBM. Pass 'log_evaluation()' callback via 'callbacks' argument instead.\n",
      "  _log_warning(\"'verbose' argument is deprecated and will be removed in a future release of LightGBM. \"\n",
      "D:\\source\\repos\\venv\\Python310\\lib\\site-packages\\lightgbm\\basic.py:179: UserWarning: Converting column-vector to 1d array\n",
      "  _log_warning('Converting column-vector to 1d array')\n",
      "\u001b[32m[I 2023-01-16 08:40:29,515]\u001b[0m Trial 153 finished with value: 0.8791984682700085 and parameters: {'learning_rate': 0.0076253645390115974, 'max_depth': 197, 'num_leaves': 7574, 'colsample_bytree': 0.6049911630620988, 'subsample': 0.8956469071248805, 'subsample_freq': 4, 'min_child_samples': 115, 'reg_lambda': 68, 'n_estimators': 38865}. Best is trial 115 with value: 0.8942197800865673.\u001b[0m\n"
     ]
    },
    {
     "name": "stdout",
     "output_type": "stream",
     "text": [
      "Early stopping, best iteration is:\n",
      "[202]\tvalid_0's auc: 0.879198\n",
      "0.8791984682700085\n",
      "Training until validation scores don't improve for 100 rounds\n"
     ]
    },
    {
     "name": "stderr",
     "output_type": "stream",
     "text": [
      "D:\\source\\repos\\venv\\Python310\\lib\\site-packages\\sklearn\\utils\\validation.py:1141: DataConversionWarning: A column-vector y was passed when a 1d array was expected. Please change the shape of y to (n_samples, ), for example using ravel().\n",
      "  y = column_or_1d(y, warn=True)\n",
      "D:\\source\\repos\\venv\\Python310\\lib\\site-packages\\lightgbm\\sklearn.py:736: UserWarning: 'verbose' argument is deprecated and will be removed in a future release of LightGBM. Pass 'log_evaluation()' callback via 'callbacks' argument instead.\n",
      "  _log_warning(\"'verbose' argument is deprecated and will be removed in a future release of LightGBM. \"\n",
      "D:\\source\\repos\\venv\\Python310\\lib\\site-packages\\lightgbm\\basic.py:179: UserWarning: Converting column-vector to 1d array\n",
      "  _log_warning('Converting column-vector to 1d array')\n",
      "\u001b[32m[I 2023-01-16 08:40:30,159]\u001b[0m Trial 154 finished with value: 0.8795419356880831 and parameters: {'learning_rate': 0.005182267742382146, 'max_depth': 223, 'num_leaves': 8267, 'colsample_bytree': 0.6239396303085656, 'subsample': 0.9119929226210486, 'subsample_freq': 5, 'min_child_samples': 76, 'reg_lambda': 60, 'n_estimators': 49653}. Best is trial 115 with value: 0.8942197800865673.\u001b[0m\n"
     ]
    },
    {
     "name": "stdout",
     "output_type": "stream",
     "text": [
      "Early stopping, best iteration is:\n",
      "[178]\tvalid_0's auc: 0.879542\n",
      "0.8795419356880831\n",
      "Training until validation scores don't improve for 100 rounds\n"
     ]
    },
    {
     "name": "stderr",
     "output_type": "stream",
     "text": [
      "D:\\source\\repos\\venv\\Python310\\lib\\site-packages\\sklearn\\utils\\validation.py:1141: DataConversionWarning: A column-vector y was passed when a 1d array was expected. Please change the shape of y to (n_samples, ), for example using ravel().\n",
      "  y = column_or_1d(y, warn=True)\n",
      "D:\\source\\repos\\venv\\Python310\\lib\\site-packages\\lightgbm\\sklearn.py:736: UserWarning: 'verbose' argument is deprecated and will be removed in a future release of LightGBM. Pass 'log_evaluation()' callback via 'callbacks' argument instead.\n",
      "  _log_warning(\"'verbose' argument is deprecated and will be removed in a future release of LightGBM. \"\n",
      "D:\\source\\repos\\venv\\Python310\\lib\\site-packages\\lightgbm\\basic.py:179: UserWarning: Converting column-vector to 1d array\n",
      "  _log_warning('Converting column-vector to 1d array')\n",
      "\u001b[32m[I 2023-01-16 08:40:30,519]\u001b[0m Trial 155 finished with value: 0.8826418975025878 and parameters: {'learning_rate': 0.009180254038807307, 'max_depth': 153, 'num_leaves': 6567, 'colsample_bytree': 0.638149806017539, 'subsample': 0.9660945363261222, 'subsample_freq': 4, 'min_child_samples': 238, 'reg_lambda': 63, 'n_estimators': 36656}. Best is trial 115 with value: 0.8942197800865673.\u001b[0m\n"
     ]
    },
    {
     "name": "stdout",
     "output_type": "stream",
     "text": [
      "Early stopping, best iteration is:\n",
      "[144]\tvalid_0's auc: 0.882642\n",
      "0.8826418975025878\n",
      "Training until validation scores don't improve for 100 rounds\n"
     ]
    },
    {
     "name": "stderr",
     "output_type": "stream",
     "text": [
      "D:\\source\\repos\\venv\\Python310\\lib\\site-packages\\sklearn\\utils\\validation.py:1141: DataConversionWarning: A column-vector y was passed when a 1d array was expected. Please change the shape of y to (n_samples, ), for example using ravel().\n",
      "  y = column_or_1d(y, warn=True)\n",
      "D:\\source\\repos\\venv\\Python310\\lib\\site-packages\\lightgbm\\sklearn.py:736: UserWarning: 'verbose' argument is deprecated and will be removed in a future release of LightGBM. Pass 'log_evaluation()' callback via 'callbacks' argument instead.\n",
      "  _log_warning(\"'verbose' argument is deprecated and will be removed in a future release of LightGBM. \"\n",
      "D:\\source\\repos\\venv\\Python310\\lib\\site-packages\\lightgbm\\basic.py:179: UserWarning: Converting column-vector to 1d array\n",
      "  _log_warning('Converting column-vector to 1d array')\n",
      "\u001b[32m[I 2023-01-16 08:40:30,974]\u001b[0m Trial 156 finished with value: 0.8850966793435329 and parameters: {'learning_rate': 0.013345599824797045, 'max_depth': 118, 'num_leaves': 7869, 'colsample_bytree': 0.6620431825496562, 'subsample': 0.9417375105456379, 'subsample_freq': 3, 'min_child_samples': 131, 'reg_lambda': 54, 'n_estimators': 31215}. Best is trial 115 with value: 0.8942197800865673.\u001b[0m\n"
     ]
    },
    {
     "name": "stdout",
     "output_type": "stream",
     "text": [
      "Early stopping, best iteration is:\n",
      "[95]\tvalid_0's auc: 0.885097\n",
      "0.8850966793435329\n",
      "Training until validation scores don't improve for 100 rounds\n"
     ]
    },
    {
     "name": "stderr",
     "output_type": "stream",
     "text": [
      "D:\\source\\repos\\venv\\Python310\\lib\\site-packages\\sklearn\\utils\\validation.py:1141: DataConversionWarning: A column-vector y was passed when a 1d array was expected. Please change the shape of y to (n_samples, ), for example using ravel().\n",
      "  y = column_or_1d(y, warn=True)\n",
      "D:\\source\\repos\\venv\\Python310\\lib\\site-packages\\lightgbm\\sklearn.py:736: UserWarning: 'verbose' argument is deprecated and will be removed in a future release of LightGBM. Pass 'log_evaluation()' callback via 'callbacks' argument instead.\n",
      "  _log_warning(\"'verbose' argument is deprecated and will be removed in a future release of LightGBM. \"\n",
      "D:\\source\\repos\\venv\\Python310\\lib\\site-packages\\lightgbm\\basic.py:179: UserWarning: Converting column-vector to 1d array\n",
      "  _log_warning('Converting column-vector to 1d array')\n",
      "\u001b[32m[I 2023-01-16 08:40:31,466]\u001b[0m Trial 157 finished with value: 0.8774228764116678 and parameters: {'learning_rate': 0.0033696687791674104, 'max_depth': 190, 'num_leaves': 5525, 'colsample_bytree': 0.7305096899445653, 'subsample': 0.8568123762604347, 'subsample_freq': 5, 'min_child_samples': 11, 'reg_lambda': 50, 'n_estimators': 43706}. Best is trial 115 with value: 0.8942197800865673.\u001b[0m\n"
     ]
    },
    {
     "name": "stdout",
     "output_type": "stream",
     "text": [
      "Early stopping, best iteration is:\n",
      "[34]\tvalid_0's auc: 0.877423\n",
      "0.8774228764116678\n",
      "Training until validation scores don't improve for 100 rounds\n"
     ]
    },
    {
     "name": "stderr",
     "output_type": "stream",
     "text": [
      "D:\\source\\repos\\venv\\Python310\\lib\\site-packages\\sklearn\\utils\\validation.py:1141: DataConversionWarning: A column-vector y was passed when a 1d array was expected. Please change the shape of y to (n_samples, ), for example using ravel().\n",
      "  y = column_or_1d(y, warn=True)\n",
      "D:\\source\\repos\\venv\\Python310\\lib\\site-packages\\lightgbm\\sklearn.py:736: UserWarning: 'verbose' argument is deprecated and will be removed in a future release of LightGBM. Pass 'log_evaluation()' callback via 'callbacks' argument instead.\n",
      "  _log_warning(\"'verbose' argument is deprecated and will be removed in a future release of LightGBM. \"\n",
      "D:\\source\\repos\\venv\\Python310\\lib\\site-packages\\lightgbm\\basic.py:179: UserWarning: Converting column-vector to 1d array\n",
      "  _log_warning('Converting column-vector to 1d array')\n",
      "\u001b[32m[I 2023-01-16 08:40:31,828]\u001b[0m Trial 158 finished with value: 0.880057136815195 and parameters: {'learning_rate': 0.015560711360050727, 'max_depth': 142, 'num_leaves': 8516, 'colsample_bytree': 0.6940044757016623, 'subsample': 0.8840695782341441, 'subsample_freq': 4, 'min_child_samples': 50, 'reg_lambda': 65, 'n_estimators': 40730}. Best is trial 115 with value: 0.8942197800865673.\u001b[0m\n"
     ]
    },
    {
     "name": "stdout",
     "output_type": "stream",
     "text": [
      "Early stopping, best iteration is:\n",
      "[30]\tvalid_0's auc: 0.880057\n",
      "0.880057136815195\n",
      "Training until validation scores don't improve for 100 rounds\n"
     ]
    },
    {
     "name": "stderr",
     "output_type": "stream",
     "text": [
      "D:\\source\\repos\\venv\\Python310\\lib\\site-packages\\sklearn\\utils\\validation.py:1141: DataConversionWarning: A column-vector y was passed when a 1d array was expected. Please change the shape of y to (n_samples, ), for example using ravel().\n",
      "  y = column_or_1d(y, warn=True)\n",
      "D:\\source\\repos\\venv\\Python310\\lib\\site-packages\\lightgbm\\sklearn.py:736: UserWarning: 'verbose' argument is deprecated and will be removed in a future release of LightGBM. Pass 'log_evaluation()' callback via 'callbacks' argument instead.\n",
      "  _log_warning(\"'verbose' argument is deprecated and will be removed in a future release of LightGBM. \"\n",
      "D:\\source\\repos\\venv\\Python310\\lib\\site-packages\\lightgbm\\basic.py:179: UserWarning: Converting column-vector to 1d array\n",
      "  _log_warning('Converting column-vector to 1d array')\n",
      "\u001b[32m[I 2023-01-16 08:40:32,051]\u001b[0m Trial 159 finished with value: 0.8764349024855591 and parameters: {'learning_rate': 0.01973332225139862, 'max_depth': 247, 'num_leaves': 5140, 'colsample_bytree': 0.6035153602140673, 'subsample': 0.9858564151158221, 'subsample_freq': 4, 'min_child_samples': 374, 'reg_lambda': 68, 'n_estimators': 33494}. Best is trial 115 with value: 0.8942197800865673.\u001b[0m\n"
     ]
    },
    {
     "name": "stdout",
     "output_type": "stream",
     "text": [
      "Early stopping, best iteration is:\n",
      "[36]\tvalid_0's auc: 0.876435\n",
      "0.8764349024855591\n",
      "Training until validation scores don't improve for 100 rounds\n"
     ]
    },
    {
     "name": "stderr",
     "output_type": "stream",
     "text": [
      "D:\\source\\repos\\venv\\Python310\\lib\\site-packages\\sklearn\\utils\\validation.py:1141: DataConversionWarning: A column-vector y was passed when a 1d array was expected. Please change the shape of y to (n_samples, ), for example using ravel().\n",
      "  y = column_or_1d(y, warn=True)\n",
      "D:\\source\\repos\\venv\\Python310\\lib\\site-packages\\lightgbm\\sklearn.py:736: UserWarning: 'verbose' argument is deprecated and will be removed in a future release of LightGBM. Pass 'log_evaluation()' callback via 'callbacks' argument instead.\n",
      "  _log_warning(\"'verbose' argument is deprecated and will be removed in a future release of LightGBM. \"\n",
      "D:\\source\\repos\\venv\\Python310\\lib\\site-packages\\lightgbm\\basic.py:179: UserWarning: Converting column-vector to 1d array\n",
      "  _log_warning('Converting column-vector to 1d array')\n",
      "\u001b[32m[I 2023-01-16 08:40:32,524]\u001b[0m Trial 160 finished with value: 0.8846602736829202 and parameters: {'learning_rate': 0.011046143361966165, 'max_depth': 176, 'num_leaves': 6921, 'colsample_bytree': 0.5781620421301316, 'subsample': 0.9164805978530972, 'subsample_freq': 3, 'min_child_samples': 184, 'reg_lambda': 69, 'n_estimators': 45763}. Best is trial 115 with value: 0.8942197800865673.\u001b[0m\n"
     ]
    },
    {
     "name": "stdout",
     "output_type": "stream",
     "text": [
      "Early stopping, best iteration is:\n",
      "[165]\tvalid_0's auc: 0.88466\n",
      "0.8846602736829202\n",
      "Training until validation scores don't improve for 100 rounds\n"
     ]
    },
    {
     "name": "stderr",
     "output_type": "stream",
     "text": [
      "D:\\source\\repos\\venv\\Python310\\lib\\site-packages\\sklearn\\utils\\validation.py:1141: DataConversionWarning: A column-vector y was passed when a 1d array was expected. Please change the shape of y to (n_samples, ), for example using ravel().\n",
      "  y = column_or_1d(y, warn=True)\n",
      "D:\\source\\repos\\venv\\Python310\\lib\\site-packages\\lightgbm\\sklearn.py:736: UserWarning: 'verbose' argument is deprecated and will be removed in a future release of LightGBM. Pass 'log_evaluation()' callback via 'callbacks' argument instead.\n",
      "  _log_warning(\"'verbose' argument is deprecated and will be removed in a future release of LightGBM. \"\n",
      "D:\\source\\repos\\venv\\Python310\\lib\\site-packages\\lightgbm\\basic.py:179: UserWarning: Converting column-vector to 1d array\n",
      "  _log_warning('Converting column-vector to 1d array')\n",
      "\u001b[32m[I 2023-01-16 08:40:33,039]\u001b[0m Trial 161 finished with value: 0.8840474200545911 and parameters: {'learning_rate': 0.006909154445355875, 'max_depth': 147, 'num_leaves': 6192, 'colsample_bytree': 0.830582497019149, 'subsample': 0.9458431976668944, 'subsample_freq': 5, 'min_child_samples': 104, 'reg_lambda': 75, 'n_estimators': 35374}. Best is trial 115 with value: 0.8942197800865673.\u001b[0m\n"
     ]
    },
    {
     "name": "stdout",
     "output_type": "stream",
     "text": [
      "Early stopping, best iteration is:\n",
      "[184]\tvalid_0's auc: 0.884047\n",
      "0.8840474200545911\n",
      "Training until validation scores don't improve for 100 rounds\n"
     ]
    },
    {
     "name": "stderr",
     "output_type": "stream",
     "text": [
      "D:\\source\\repos\\venv\\Python310\\lib\\site-packages\\sklearn\\utils\\validation.py:1141: DataConversionWarning: A column-vector y was passed when a 1d array was expected. Please change the shape of y to (n_samples, ), for example using ravel().\n",
      "  y = column_or_1d(y, warn=True)\n",
      "D:\\source\\repos\\venv\\Python310\\lib\\site-packages\\lightgbm\\sklearn.py:736: UserWarning: 'verbose' argument is deprecated and will be removed in a future release of LightGBM. Pass 'log_evaluation()' callback via 'callbacks' argument instead.\n",
      "  _log_warning(\"'verbose' argument is deprecated and will be removed in a future release of LightGBM. \"\n",
      "D:\\source\\repos\\venv\\Python310\\lib\\site-packages\\lightgbm\\basic.py:179: UserWarning: Converting column-vector to 1d array\n",
      "  _log_warning('Converting column-vector to 1d array')\n",
      "\u001b[32m[I 2023-01-16 08:40:33,363]\u001b[0m Trial 162 finished with value: 0.8885646900677978 and parameters: {'learning_rate': 0.01206777275014421, 'max_depth': 210, 'num_leaves': 6686, 'colsample_bytree': 0.7665248107695247, 'subsample': 0.9589213291201337, 'subsample_freq': 5, 'min_child_samples': 142, 'reg_lambda': 76, 'n_estimators': 38340}. Best is trial 115 with value: 0.8942197800865673.\u001b[0m\n"
     ]
    },
    {
     "name": "stdout",
     "output_type": "stream",
     "text": [
      "Early stopping, best iteration is:\n",
      "[57]\tvalid_0's auc: 0.888565\n",
      "0.8885646900677978\n",
      "Training until validation scores don't improve for 100 rounds\n"
     ]
    },
    {
     "name": "stderr",
     "output_type": "stream",
     "text": [
      "D:\\source\\repos\\venv\\Python310\\lib\\site-packages\\sklearn\\utils\\validation.py:1141: DataConversionWarning: A column-vector y was passed when a 1d array was expected. Please change the shape of y to (n_samples, ), for example using ravel().\n",
      "  y = column_or_1d(y, warn=True)\n",
      "D:\\source\\repos\\venv\\Python310\\lib\\site-packages\\lightgbm\\sklearn.py:736: UserWarning: 'verbose' argument is deprecated and will be removed in a future release of LightGBM. Pass 'log_evaluation()' callback via 'callbacks' argument instead.\n",
      "  _log_warning(\"'verbose' argument is deprecated and will be removed in a future release of LightGBM. \"\n",
      "D:\\source\\repos\\venv\\Python310\\lib\\site-packages\\lightgbm\\basic.py:179: UserWarning: Converting column-vector to 1d array\n",
      "  _log_warning('Converting column-vector to 1d array')\n",
      "\u001b[32m[I 2023-01-16 08:40:33,848]\u001b[0m Trial 163 finished with value: 0.8804224918628528 and parameters: {'learning_rate': 0.013072584098722972, 'max_depth': 204, 'num_leaves': 6608, 'colsample_bytree': 0.7880937323618891, 'subsample': 0.9662475732258593, 'subsample_freq': 5, 'min_child_samples': 153, 'reg_lambda': 72, 'n_estimators': 37902}. Best is trial 115 with value: 0.8942197800865673.\u001b[0m\n"
     ]
    },
    {
     "name": "stdout",
     "output_type": "stream",
     "text": [
      "Early stopping, best iteration is:\n",
      "[172]\tvalid_0's auc: 0.880422\n",
      "0.8804224918628528\n",
      "Training until validation scores don't improve for 100 rounds\n"
     ]
    },
    {
     "name": "stderr",
     "output_type": "stream",
     "text": [
      "D:\\source\\repos\\venv\\Python310\\lib\\site-packages\\sklearn\\utils\\validation.py:1141: DataConversionWarning: A column-vector y was passed when a 1d array was expected. Please change the shape of y to (n_samples, ), for example using ravel().\n",
      "  y = column_or_1d(y, warn=True)\n",
      "D:\\source\\repos\\venv\\Python310\\lib\\site-packages\\lightgbm\\sklearn.py:736: UserWarning: 'verbose' argument is deprecated and will be removed in a future release of LightGBM. Pass 'log_evaluation()' callback via 'callbacks' argument instead.\n",
      "  _log_warning(\"'verbose' argument is deprecated and will be removed in a future release of LightGBM. \"\n",
      "D:\\source\\repos\\venv\\Python310\\lib\\site-packages\\lightgbm\\basic.py:179: UserWarning: Converting column-vector to 1d array\n",
      "  _log_warning('Converting column-vector to 1d array')\n",
      "\u001b[32m[I 2023-01-16 08:40:34,230]\u001b[0m Trial 164 finished with value: 0.8907500856984881 and parameters: {'learning_rate': 0.011419686448486984, 'max_depth': 116, 'num_leaves': 6418, 'colsample_bytree': 0.6745319796617206, 'subsample': 0.9292413974362013, 'subsample_freq': 4, 'min_child_samples': 88, 'reg_lambda': 76, 'n_estimators': 41989}. Best is trial 115 with value: 0.8942197800865673.\u001b[0m\n"
     ]
    },
    {
     "name": "stdout",
     "output_type": "stream",
     "text": [
      "Early stopping, best iteration is:\n",
      "[63]\tvalid_0's auc: 0.89075\n",
      "0.8907500856984881\n",
      "Training until validation scores don't improve for 100 rounds\n"
     ]
    },
    {
     "name": "stderr",
     "output_type": "stream",
     "text": [
      "D:\\source\\repos\\venv\\Python310\\lib\\site-packages\\sklearn\\utils\\validation.py:1141: DataConversionWarning: A column-vector y was passed when a 1d array was expected. Please change the shape of y to (n_samples, ), for example using ravel().\n",
      "  y = column_or_1d(y, warn=True)\n",
      "D:\\source\\repos\\venv\\Python310\\lib\\site-packages\\lightgbm\\sklearn.py:736: UserWarning: 'verbose' argument is deprecated and will be removed in a future release of LightGBM. Pass 'log_evaluation()' callback via 'callbacks' argument instead.\n",
      "  _log_warning(\"'verbose' argument is deprecated and will be removed in a future release of LightGBM. \"\n",
      "D:\\source\\repos\\venv\\Python310\\lib\\site-packages\\lightgbm\\basic.py:179: UserWarning: Converting column-vector to 1d array\n",
      "  _log_warning('Converting column-vector to 1d array')\n",
      "\u001b[32m[I 2023-01-16 08:40:34,488]\u001b[0m Trial 165 finished with value: 0.8733810730595606 and parameters: {'learning_rate': 0.009944041793226038, 'max_depth': 114, 'num_leaves': 6322, 'colsample_bytree': 0.7687531531796301, 'subsample': 0.8995981270260723, 'subsample_freq': 4, 'min_child_samples': 91, 'reg_lambda': 75, 'n_estimators': 42043}. Best is trial 115 with value: 0.8942197800865673.\u001b[0m\n"
     ]
    },
    {
     "name": "stdout",
     "output_type": "stream",
     "text": [
      "Early stopping, best iteration is:\n",
      "[21]\tvalid_0's auc: 0.873381\n",
      "0.8733810730595606\n",
      "Training until validation scores don't improve for 100 rounds\n"
     ]
    },
    {
     "name": "stderr",
     "output_type": "stream",
     "text": [
      "D:\\source\\repos\\venv\\Python310\\lib\\site-packages\\sklearn\\utils\\validation.py:1141: DataConversionWarning: A column-vector y was passed when a 1d array was expected. Please change the shape of y to (n_samples, ), for example using ravel().\n",
      "  y = column_or_1d(y, warn=True)\n",
      "D:\\source\\repos\\venv\\Python310\\lib\\site-packages\\lightgbm\\sklearn.py:736: UserWarning: 'verbose' argument is deprecated and will be removed in a future release of LightGBM. Pass 'log_evaluation()' callback via 'callbacks' argument instead.\n",
      "  _log_warning(\"'verbose' argument is deprecated and will be removed in a future release of LightGBM. \"\n",
      "D:\\source\\repos\\venv\\Python310\\lib\\site-packages\\lightgbm\\basic.py:179: UserWarning: Converting column-vector to 1d array\n",
      "  _log_warning('Converting column-vector to 1d array')\n",
      "\u001b[32m[I 2023-01-16 08:40:34,771]\u001b[0m Trial 166 finished with value: 0.8826577239424402 and parameters: {'learning_rate': 0.015083023032020563, 'max_depth': 132, 'num_leaves': 6869, 'colsample_bytree': 0.668457256587806, 'subsample': 0.9311873733650168, 'subsample_freq': 4, 'min_child_samples': 268, 'reg_lambda': 64, 'n_estimators': 44082}. Best is trial 115 with value: 0.8942197800865673.\u001b[0m\n"
     ]
    },
    {
     "name": "stdout",
     "output_type": "stream",
     "text": [
      "Early stopping, best iteration is:\n",
      "[54]\tvalid_0's auc: 0.882658\n",
      "0.8826577239424402\n",
      "Training until validation scores don't improve for 100 rounds\n"
     ]
    },
    {
     "name": "stderr",
     "output_type": "stream",
     "text": [
      "D:\\source\\repos\\venv\\Python310\\lib\\site-packages\\sklearn\\utils\\validation.py:1141: DataConversionWarning: A column-vector y was passed when a 1d array was expected. Please change the shape of y to (n_samples, ), for example using ravel().\n",
      "  y = column_or_1d(y, warn=True)\n",
      "D:\\source\\repos\\venv\\Python310\\lib\\site-packages\\lightgbm\\sklearn.py:736: UserWarning: 'verbose' argument is deprecated and will be removed in a future release of LightGBM. Pass 'log_evaluation()' callback via 'callbacks' argument instead.\n",
      "  _log_warning(\"'verbose' argument is deprecated and will be removed in a future release of LightGBM. \"\n",
      "D:\\source\\repos\\venv\\Python310\\lib\\site-packages\\lightgbm\\basic.py:179: UserWarning: Converting column-vector to 1d array\n",
      "  _log_warning('Converting column-vector to 1d array')\n",
      "\u001b[32m[I 2023-01-16 08:40:35,062]\u001b[0m Trial 167 finished with value: 0.8765844118322504 and parameters: {'learning_rate': 0.011670078131524606, 'max_depth': 171, 'num_leaves': 5862, 'colsample_bytree': 0.7453528720364966, 'subsample': 0.877409338356033, 'subsample_freq': 4, 'min_child_samples': 125, 'reg_lambda': 67, 'n_estimators': 39448}. Best is trial 115 with value: 0.8942197800865673.\u001b[0m\n"
     ]
    },
    {
     "name": "stdout",
     "output_type": "stream",
     "text": [
      "Early stopping, best iteration is:\n",
      "[40]\tvalid_0's auc: 0.876584\n",
      "0.8765844118322504\n",
      "Training until validation scores don't improve for 100 rounds\n"
     ]
    },
    {
     "name": "stderr",
     "output_type": "stream",
     "text": [
      "D:\\source\\repos\\venv\\Python310\\lib\\site-packages\\sklearn\\utils\\validation.py:1141: DataConversionWarning: A column-vector y was passed when a 1d array was expected. Please change the shape of y to (n_samples, ), for example using ravel().\n",
      "  y = column_or_1d(y, warn=True)\n",
      "D:\\source\\repos\\venv\\Python310\\lib\\site-packages\\lightgbm\\sklearn.py:736: UserWarning: 'verbose' argument is deprecated and will be removed in a future release of LightGBM. Pass 'log_evaluation()' callback via 'callbacks' argument instead.\n",
      "  _log_warning(\"'verbose' argument is deprecated and will be removed in a future release of LightGBM. \"\n",
      "D:\\source\\repos\\venv\\Python310\\lib\\site-packages\\lightgbm\\basic.py:179: UserWarning: Converting column-vector to 1d array\n",
      "  _log_warning('Converting column-vector to 1d array')\n",
      "\u001b[32m[I 2023-01-16 08:40:35,468]\u001b[0m Trial 168 finished with value: 0.8739848349032938 and parameters: {'learning_rate': 0.00808155418453062, 'max_depth': 163, 'num_leaves': 7156, 'colsample_bytree': 0.8197411646307121, 'subsample': 0.8415540240273904, 'subsample_freq': 4, 'min_child_samples': 70, 'reg_lambda': 70, 'n_estimators': 49025}. Best is trial 115 with value: 0.8942197800865673.\u001b[0m\n"
     ]
    },
    {
     "name": "stdout",
     "output_type": "stream",
     "text": [
      "Early stopping, best iteration is:\n",
      "[104]\tvalid_0's auc: 0.873985\n",
      "0.8739848349032938\n",
      "Training until validation scores don't improve for 100 rounds\n"
     ]
    },
    {
     "name": "stderr",
     "output_type": "stream",
     "text": [
      "D:\\source\\repos\\venv\\Python310\\lib\\site-packages\\sklearn\\utils\\validation.py:1141: DataConversionWarning: A column-vector y was passed when a 1d array was expected. Please change the shape of y to (n_samples, ), for example using ravel().\n",
      "  y = column_or_1d(y, warn=True)\n",
      "D:\\source\\repos\\venv\\Python310\\lib\\site-packages\\lightgbm\\sklearn.py:736: UserWarning: 'verbose' argument is deprecated and will be removed in a future release of LightGBM. Pass 'log_evaluation()' callback via 'callbacks' argument instead.\n",
      "  _log_warning(\"'verbose' argument is deprecated and will be removed in a future release of LightGBM. \"\n",
      "D:\\source\\repos\\venv\\Python310\\lib\\site-packages\\lightgbm\\basic.py:179: UserWarning: Converting column-vector to 1d array\n",
      "  _log_warning('Converting column-vector to 1d array')\n",
      "\u001b[32m[I 2023-01-16 08:40:35,807]\u001b[0m Trial 169 finished with value: 0.8889765142367243 and parameters: {'learning_rate': 0.01738777224404344, 'max_depth': 237, 'num_leaves': 6458, 'colsample_bytree': 0.6875836905940502, 'subsample': 0.9796853571040841, 'subsample_freq': 5, 'min_child_samples': 166, 'reg_lambda': 7, 'n_estimators': 46140}. Best is trial 115 with value: 0.8942197800865673.\u001b[0m\n"
     ]
    },
    {
     "name": "stdout",
     "output_type": "stream",
     "text": [
      "Early stopping, best iteration is:\n",
      "[52]\tvalid_0's auc: 0.888977\n",
      "0.8889765142367243\n",
      "Training until validation scores don't improve for 100 rounds\n"
     ]
    },
    {
     "name": "stderr",
     "output_type": "stream",
     "text": [
      "D:\\source\\repos\\venv\\Python310\\lib\\site-packages\\sklearn\\utils\\validation.py:1141: DataConversionWarning: A column-vector y was passed when a 1d array was expected. Please change the shape of y to (n_samples, ), for example using ravel().\n",
      "  y = column_or_1d(y, warn=True)\n",
      "D:\\source\\repos\\venv\\Python310\\lib\\site-packages\\lightgbm\\sklearn.py:736: UserWarning: 'verbose' argument is deprecated and will be removed in a future release of LightGBM. Pass 'log_evaluation()' callback via 'callbacks' argument instead.\n",
      "  _log_warning(\"'verbose' argument is deprecated and will be removed in a future release of LightGBM. \"\n",
      "D:\\source\\repos\\venv\\Python310\\lib\\site-packages\\lightgbm\\basic.py:179: UserWarning: Converting column-vector to 1d array\n",
      "  _log_warning('Converting column-vector to 1d array')\n",
      "\u001b[32m[I 2023-01-16 08:40:36,137]\u001b[0m Trial 170 finished with value: 0.8731480539876904 and parameters: {'learning_rate': 0.017169755670209362, 'max_depth': 195, 'num_leaves': 6731, 'colsample_bytree': 0.6829493281955686, 'subsample': 0.9849747640549193, 'subsample_freq': 5, 'min_child_samples': 180, 'reg_lambda': 3, 'n_estimators': 41167}. Best is trial 115 with value: 0.8942197800865673.\u001b[0m\n"
     ]
    },
    {
     "name": "stdout",
     "output_type": "stream",
     "text": [
      "Early stopping, best iteration is:\n",
      "[44]\tvalid_0's auc: 0.873148\n",
      "0.8731480539876904\n",
      "Training until validation scores don't improve for 100 rounds\n"
     ]
    },
    {
     "name": "stderr",
     "output_type": "stream",
     "text": [
      "D:\\source\\repos\\venv\\Python310\\lib\\site-packages\\sklearn\\utils\\validation.py:1141: DataConversionWarning: A column-vector y was passed when a 1d array was expected. Please change the shape of y to (n_samples, ), for example using ravel().\n",
      "  y = column_or_1d(y, warn=True)\n",
      "D:\\source\\repos\\venv\\Python310\\lib\\site-packages\\lightgbm\\sklearn.py:736: UserWarning: 'verbose' argument is deprecated and will be removed in a future release of LightGBM. Pass 'log_evaluation()' callback via 'callbacks' argument instead.\n",
      "  _log_warning(\"'verbose' argument is deprecated and will be removed in a future release of LightGBM. \"\n",
      "D:\\source\\repos\\venv\\Python310\\lib\\site-packages\\lightgbm\\basic.py:179: UserWarning: Converting column-vector to 1d array\n",
      "  _log_warning('Converting column-vector to 1d array')\n",
      "\u001b[32m[I 2023-01-16 08:40:36,532]\u001b[0m Trial 171 finished with value: 0.8798601481489463 and parameters: {'learning_rate': 0.018937826191342953, 'max_depth': 237, 'num_leaves': 6327, 'colsample_bytree': 0.6536615257786023, 'subsample': 0.9560132510974538, 'subsample_freq': 5, 'min_child_samples': 144, 'reg_lambda': 14, 'n_estimators': 45992}. Best is trial 115 with value: 0.8942197800865673.\u001b[0m\n"
     ]
    },
    {
     "name": "stdout",
     "output_type": "stream",
     "text": [
      "Early stopping, best iteration is:\n",
      "[44]\tvalid_0's auc: 0.87986\n",
      "0.8798601481489463\n",
      "Training until validation scores don't improve for 100 rounds\n"
     ]
    },
    {
     "name": "stderr",
     "output_type": "stream",
     "text": [
      "D:\\source\\repos\\venv\\Python310\\lib\\site-packages\\sklearn\\utils\\validation.py:1141: DataConversionWarning: A column-vector y was passed when a 1d array was expected. Please change the shape of y to (n_samples, ), for example using ravel().\n",
      "  y = column_or_1d(y, warn=True)\n",
      "D:\\source\\repos\\venv\\Python310\\lib\\site-packages\\lightgbm\\sklearn.py:736: UserWarning: 'verbose' argument is deprecated and will be removed in a future release of LightGBM. Pass 'log_evaluation()' callback via 'callbacks' argument instead.\n",
      "  _log_warning(\"'verbose' argument is deprecated and will be removed in a future release of LightGBM. \"\n",
      "D:\\source\\repos\\venv\\Python310\\lib\\site-packages\\lightgbm\\basic.py:179: UserWarning: Converting column-vector to 1d array\n",
      "  _log_warning('Converting column-vector to 1d array')\n",
      "\u001b[32m[I 2023-01-16 08:40:36,867]\u001b[0m Trial 172 finished with value: 0.8642205949798533 and parameters: {'learning_rate': 0.0232336505062275, 'max_depth': 101, 'num_leaves': 6474, 'colsample_bytree': 0.6941665376596281, 'subsample': 0.9247373996843807, 'subsample_freq': 4, 'min_child_samples': 207, 'reg_lambda': 77, 'n_estimators': 51637}. Best is trial 115 with value: 0.8942197800865673.\u001b[0m\n"
     ]
    },
    {
     "name": "stdout",
     "output_type": "stream",
     "text": [
      "Early stopping, best iteration is:\n",
      "[77]\tvalid_0's auc: 0.864221\n",
      "0.8642205949798533\n",
      "Training until validation scores don't improve for 100 rounds\n"
     ]
    },
    {
     "name": "stderr",
     "output_type": "stream",
     "text": [
      "D:\\source\\repos\\venv\\Python310\\lib\\site-packages\\sklearn\\utils\\validation.py:1141: DataConversionWarning: A column-vector y was passed when a 1d array was expected. Please change the shape of y to (n_samples, ), for example using ravel().\n",
      "  y = column_or_1d(y, warn=True)\n",
      "D:\\source\\repos\\venv\\Python310\\lib\\site-packages\\lightgbm\\sklearn.py:736: UserWarning: 'verbose' argument is deprecated and will be removed in a future release of LightGBM. Pass 'log_evaluation()' callback via 'callbacks' argument instead.\n",
      "  _log_warning(\"'verbose' argument is deprecated and will be removed in a future release of LightGBM. \"\n",
      "D:\\source\\repos\\venv\\Python310\\lib\\site-packages\\lightgbm\\basic.py:179: UserWarning: Converting column-vector to 1d array\n",
      "  _log_warning('Converting column-vector to 1d array')\n",
      "\u001b[32m[I 2023-01-16 08:40:37,163]\u001b[0m Trial 173 finished with value: 0.8760958125934013 and parameters: {'learning_rate': 0.013517256864015184, 'max_depth': 216, 'num_leaves': 6084, 'colsample_bytree': 0.638331103473012, 'subsample': 0.9683660699993856, 'subsample_freq': 5, 'min_child_samples': 158, 'reg_lambda': 23, 'n_estimators': 37506}. Best is trial 115 with value: 0.8942197800865673.\u001b[0m\n"
     ]
    },
    {
     "name": "stdout",
     "output_type": "stream",
     "text": [
      "Early stopping, best iteration is:\n",
      "[1]\tvalid_0's auc: 0.876096\n",
      "0.8760958125934013\n",
      "Training until validation scores don't improve for 100 rounds\n"
     ]
    },
    {
     "name": "stderr",
     "output_type": "stream",
     "text": [
      "D:\\source\\repos\\venv\\Python310\\lib\\site-packages\\sklearn\\utils\\validation.py:1141: DataConversionWarning: A column-vector y was passed when a 1d array was expected. Please change the shape of y to (n_samples, ), for example using ravel().\n",
      "  y = column_or_1d(y, warn=True)\n",
      "D:\\source\\repos\\venv\\Python310\\lib\\site-packages\\lightgbm\\sklearn.py:736: UserWarning: 'verbose' argument is deprecated and will be removed in a future release of LightGBM. Pass 'log_evaluation()' callback via 'callbacks' argument instead.\n",
      "  _log_warning(\"'verbose' argument is deprecated and will be removed in a future release of LightGBM. \"\n",
      "D:\\source\\repos\\venv\\Python310\\lib\\site-packages\\lightgbm\\basic.py:179: UserWarning: Converting column-vector to 1d array\n",
      "  _log_warning('Converting column-vector to 1d array')\n",
      "\u001b[32m[I 2023-01-16 08:40:37,465]\u001b[0m Trial 174 finished with value: 0.8889350961068978 and parameters: {'learning_rate': 0.01617362866769376, 'max_depth': 140, 'num_leaves': 5666, 'colsample_bytree': 0.736500584076203, 'subsample': 0.948872528036009, 'subsample_freq': 4, 'min_child_samples': 114, 'reg_lambda': 72, 'n_estimators': 42866}. Best is trial 115 with value: 0.8942197800865673.\u001b[0m\n"
     ]
    },
    {
     "name": "stdout",
     "output_type": "stream",
     "text": [
      "Early stopping, best iteration is:\n",
      "[24]\tvalid_0's auc: 0.888935\n",
      "0.8889350961068978\n",
      "Training until validation scores don't improve for 100 rounds\n"
     ]
    },
    {
     "name": "stderr",
     "output_type": "stream",
     "text": [
      "D:\\source\\repos\\venv\\Python310\\lib\\site-packages\\sklearn\\utils\\validation.py:1141: DataConversionWarning: A column-vector y was passed when a 1d array was expected. Please change the shape of y to (n_samples, ), for example using ravel().\n",
      "  y = column_or_1d(y, warn=True)\n",
      "D:\\source\\repos\\venv\\Python310\\lib\\site-packages\\lightgbm\\sklearn.py:736: UserWarning: 'verbose' argument is deprecated and will be removed in a future release of LightGBM. Pass 'log_evaluation()' callback via 'callbacks' argument instead.\n",
      "  _log_warning(\"'verbose' argument is deprecated and will be removed in a future release of LightGBM. \"\n",
      "D:\\source\\repos\\venv\\Python310\\lib\\site-packages\\lightgbm\\basic.py:179: UserWarning: Converting column-vector to 1d array\n",
      "  _log_warning('Converting column-vector to 1d array')\n",
      "\u001b[32m[I 2023-01-16 08:40:37,871]\u001b[0m Trial 175 finished with value: 0.8751761954181447 and parameters: {'learning_rate': 0.015681280261512314, 'max_depth': 134, 'num_leaves': 5300, 'colsample_bytree': 0.722237569605384, 'subsample': 0.978099219545118, 'subsample_freq': 5, 'min_child_samples': 112, 'reg_lambda': 10, 'n_estimators': 47171}. Best is trial 115 with value: 0.8942197800865673.\u001b[0m\n"
     ]
    },
    {
     "name": "stdout",
     "output_type": "stream",
     "text": [
      "Early stopping, best iteration is:\n",
      "[58]\tvalid_0's auc: 0.875176\n",
      "0.8751761954181447\n",
      "Training until validation scores don't improve for 100 rounds\n"
     ]
    },
    {
     "name": "stderr",
     "output_type": "stream",
     "text": [
      "D:\\source\\repos\\venv\\Python310\\lib\\site-packages\\sklearn\\utils\\validation.py:1141: DataConversionWarning: A column-vector y was passed when a 1d array was expected. Please change the shape of y to (n_samples, ), for example using ravel().\n",
      "  y = column_or_1d(y, warn=True)\n",
      "D:\\source\\repos\\venv\\Python310\\lib\\site-packages\\lightgbm\\sklearn.py:736: UserWarning: 'verbose' argument is deprecated and will be removed in a future release of LightGBM. Pass 'log_evaluation()' callback via 'callbacks' argument instead.\n",
      "  _log_warning(\"'verbose' argument is deprecated and will be removed in a future release of LightGBM. \"\n",
      "D:\\source\\repos\\venv\\Python310\\lib\\site-packages\\lightgbm\\basic.py:179: UserWarning: Converting column-vector to 1d array\n",
      "  _log_warning('Converting column-vector to 1d array')\n",
      "\u001b[32m[I 2023-01-16 08:40:38,108]\u001b[0m Trial 176 finished with value: 0.8758920892718962 and parameters: {'learning_rate': 0.002675737327102621, 'max_depth': 148, 'num_leaves': 5604, 'colsample_bytree': 0.7621228743918669, 'subsample': 0.9453918893783775, 'subsample_freq': 4, 'min_child_samples': 132, 'reg_lambda': 73, 'n_estimators': 43329}. Best is trial 115 with value: 0.8942197800865673.\u001b[0m\n"
     ]
    },
    {
     "name": "stdout",
     "output_type": "stream",
     "text": [
      "Early stopping, best iteration is:\n",
      "[5]\tvalid_0's auc: 0.875892\n",
      "0.8758920892718962\n",
      "Training until validation scores don't improve for 100 rounds\n"
     ]
    },
    {
     "name": "stderr",
     "output_type": "stream",
     "text": [
      "D:\\source\\repos\\venv\\Python310\\lib\\site-packages\\sklearn\\utils\\validation.py:1141: DataConversionWarning: A column-vector y was passed when a 1d array was expected. Please change the shape of y to (n_samples, ), for example using ravel().\n",
      "  y = column_or_1d(y, warn=True)\n",
      "D:\\source\\repos\\venv\\Python310\\lib\\site-packages\\lightgbm\\sklearn.py:736: UserWarning: 'verbose' argument is deprecated and will be removed in a future release of LightGBM. Pass 'log_evaluation()' callback via 'callbacks' argument instead.\n",
      "  _log_warning(\"'verbose' argument is deprecated and will be removed in a future release of LightGBM. \"\n",
      "D:\\source\\repos\\venv\\Python310\\lib\\site-packages\\lightgbm\\basic.py:179: UserWarning: Converting column-vector to 1d array\n",
      "  _log_warning('Converting column-vector to 1d array')\n",
      "\u001b[32m[I 2023-01-16 08:40:38,511]\u001b[0m Trial 177 finished with value: 0.8784849315455966 and parameters: {'learning_rate': 0.010949189857133172, 'max_depth': 183, 'num_leaves': 5952, 'colsample_bytree': 0.7348225184945743, 'subsample': 0.9967290570248992, 'subsample_freq': 4, 'min_child_samples': 93, 'reg_lambda': 76, 'n_estimators': 44968}. Best is trial 115 with value: 0.8942197800865673.\u001b[0m\n"
     ]
    },
    {
     "name": "stdout",
     "output_type": "stream",
     "text": [
      "Early stopping, best iteration is:\n",
      "[94]\tvalid_0's auc: 0.878485\n",
      "0.8784849315455966\n",
      "Training until validation scores don't improve for 100 rounds\n"
     ]
    },
    {
     "name": "stderr",
     "output_type": "stream",
     "text": [
      "D:\\source\\repos\\venv\\Python310\\lib\\site-packages\\sklearn\\utils\\validation.py:1141: DataConversionWarning: A column-vector y was passed when a 1d array was expected. Please change the shape of y to (n_samples, ), for example using ravel().\n",
      "  y = column_or_1d(y, warn=True)\n",
      "D:\\source\\repos\\venv\\Python310\\lib\\site-packages\\lightgbm\\sklearn.py:736: UserWarning: 'verbose' argument is deprecated and will be removed in a future release of LightGBM. Pass 'log_evaluation()' callback via 'callbacks' argument instead.\n",
      "  _log_warning(\"'verbose' argument is deprecated and will be removed in a future release of LightGBM. \"\n",
      "D:\\source\\repos\\venv\\Python310\\lib\\site-packages\\lightgbm\\basic.py:179: UserWarning: Converting column-vector to 1d array\n",
      "  _log_warning('Converting column-vector to 1d array')\n",
      "\u001b[32m[I 2023-01-16 08:40:38,787]\u001b[0m Trial 178 finished with value: 0.8784771866920518 and parameters: {'learning_rate': 0.006103358657341603, 'max_depth': 123, 'num_leaves': 6661, 'colsample_bytree': 0.7067383831712993, 'subsample': 0.9518206521121112, 'subsample_freq': 4, 'min_child_samples': 163, 'reg_lambda': 70, 'n_estimators': 39701}. Best is trial 115 with value: 0.8942197800865673.\u001b[0m\n"
     ]
    },
    {
     "name": "stdout",
     "output_type": "stream",
     "text": [
      "Early stopping, best iteration is:\n",
      "[52]\tvalid_0's auc: 0.878477\n",
      "0.8784771866920518\n",
      "Training until validation scores don't improve for 100 rounds\n"
     ]
    },
    {
     "name": "stderr",
     "output_type": "stream",
     "text": [
      "D:\\source\\repos\\venv\\Python310\\lib\\site-packages\\sklearn\\utils\\validation.py:1141: DataConversionWarning: A column-vector y was passed when a 1d array was expected. Please change the shape of y to (n_samples, ), for example using ravel().\n",
      "  y = column_or_1d(y, warn=True)\n",
      "D:\\source\\repos\\venv\\Python310\\lib\\site-packages\\lightgbm\\sklearn.py:736: UserWarning: 'verbose' argument is deprecated and will be removed in a future release of LightGBM. Pass 'log_evaluation()' callback via 'callbacks' argument instead.\n",
      "  _log_warning(\"'verbose' argument is deprecated and will be removed in a future release of LightGBM. \"\n",
      "D:\\source\\repos\\venv\\Python310\\lib\\site-packages\\lightgbm\\basic.py:179: UserWarning: Converting column-vector to 1d array\n",
      "  _log_warning('Converting column-vector to 1d array')\n",
      "\u001b[32m[I 2023-01-16 08:40:39,201]\u001b[0m Trial 179 finished with value: 0.881833738871824 and parameters: {'learning_rate': 0.012756146098594498, 'max_depth': 155, 'num_leaves': 5706, 'colsample_bytree': 0.7981405437917397, 'subsample': 0.9307558374475955, 'subsample_freq': 5, 'min_child_samples': 36, 'reg_lambda': 72, 'n_estimators': 42024}. Best is trial 115 with value: 0.8942197800865673.\u001b[0m\n"
     ]
    },
    {
     "name": "stdout",
     "output_type": "stream",
     "text": [
      "Early stopping, best iteration is:\n",
      "[50]\tvalid_0's auc: 0.881834\n",
      "0.881833738871824\n",
      "Training until validation scores don't improve for 100 rounds\n"
     ]
    },
    {
     "name": "stderr",
     "output_type": "stream",
     "text": [
      "D:\\source\\repos\\venv\\Python310\\lib\\site-packages\\sklearn\\utils\\validation.py:1141: DataConversionWarning: A column-vector y was passed when a 1d array was expected. Please change the shape of y to (n_samples, ), for example using ravel().\n",
      "  y = column_or_1d(y, warn=True)\n",
      "D:\\source\\repos\\venv\\Python310\\lib\\site-packages\\lightgbm\\sklearn.py:736: UserWarning: 'verbose' argument is deprecated and will be removed in a future release of LightGBM. Pass 'log_evaluation()' callback via 'callbacks' argument instead.\n",
      "  _log_warning(\"'verbose' argument is deprecated and will be removed in a future release of LightGBM. \"\n",
      "D:\\source\\repos\\venv\\Python310\\lib\\site-packages\\lightgbm\\basic.py:179: UserWarning: Converting column-vector to 1d array\n",
      "  _log_warning('Converting column-vector to 1d array')\n",
      "\u001b[32m[I 2023-01-16 08:40:39,625]\u001b[0m Trial 180 finished with value: 0.8785458801756668 and parameters: {'learning_rate': 0.01789719946041019, 'max_depth': 115, 'num_leaves': 1603, 'colsample_bytree': 0.671260339735453, 'subsample': 0.9068539966809261, 'subsample_freq': 3, 'min_child_samples': 106, 'reg_lambda': 62, 'n_estimators': 47947}. Best is trial 115 with value: 0.8942197800865673.\u001b[0m\n"
     ]
    },
    {
     "name": "stdout",
     "output_type": "stream",
     "text": [
      "Early stopping, best iteration is:\n",
      "[86]\tvalid_0's auc: 0.878546\n",
      "0.8785458801756668\n",
      "Training until validation scores don't improve for 100 rounds\n"
     ]
    },
    {
     "name": "stderr",
     "output_type": "stream",
     "text": [
      "D:\\source\\repos\\venv\\Python310\\lib\\site-packages\\sklearn\\utils\\validation.py:1141: DataConversionWarning: A column-vector y was passed when a 1d array was expected. Please change the shape of y to (n_samples, ), for example using ravel().\n",
      "  y = column_or_1d(y, warn=True)\n",
      "D:\\source\\repos\\venv\\Python310\\lib\\site-packages\\lightgbm\\sklearn.py:736: UserWarning: 'verbose' argument is deprecated and will be removed in a future release of LightGBM. Pass 'log_evaluation()' callback via 'callbacks' argument instead.\n",
      "  _log_warning(\"'verbose' argument is deprecated and will be removed in a future release of LightGBM. \"\n",
      "D:\\source\\repos\\venv\\Python310\\lib\\site-packages\\lightgbm\\basic.py:179: UserWarning: Converting column-vector to 1d array\n",
      "  _log_warning('Converting column-vector to 1d array')\n",
      "\u001b[32m[I 2023-01-16 08:40:39,837]\u001b[0m Trial 181 finished with value: 0.8750246656748765 and parameters: {'learning_rate': 0.009038606041921117, 'max_depth': 138, 'num_leaves': 6970, 'colsample_bytree': 0.6861124658952805, 'subsample': 0.8920611604317621, 'subsample_freq': 4, 'min_child_samples': 447, 'reg_lambda': 65, 'n_estimators': 36898}. Best is trial 115 with value: 0.8942197800865673.\u001b[0m\n"
     ]
    },
    {
     "name": "stdout",
     "output_type": "stream",
     "text": [
      "Early stopping, best iteration is:\n",
      "[6]\tvalid_0's auc: 0.875025\n",
      "0.8750246656748765\n",
      "Training until validation scores don't improve for 100 rounds\n"
     ]
    },
    {
     "name": "stderr",
     "output_type": "stream",
     "text": [
      "D:\\source\\repos\\venv\\Python310\\lib\\site-packages\\sklearn\\utils\\validation.py:1141: DataConversionWarning: A column-vector y was passed when a 1d array was expected. Please change the shape of y to (n_samples, ), for example using ravel().\n",
      "  y = column_or_1d(y, warn=True)\n",
      "D:\\source\\repos\\venv\\Python310\\lib\\site-packages\\lightgbm\\sklearn.py:736: UserWarning: 'verbose' argument is deprecated and will be removed in a future release of LightGBM. Pass 'log_evaluation()' callback via 'callbacks' argument instead.\n",
      "  _log_warning(\"'verbose' argument is deprecated and will be removed in a future release of LightGBM. \"\n",
      "D:\\source\\repos\\venv\\Python310\\lib\\site-packages\\lightgbm\\basic.py:179: UserWarning: Converting column-vector to 1d array\n",
      "  _log_warning('Converting column-vector to 1d array')\n",
      "\u001b[32m[I 2023-01-16 08:40:40,159]\u001b[0m Trial 182 finished with value: 0.8890189425648396 and parameters: {'learning_rate': 0.020523604996501472, 'max_depth': 167, 'num_leaves': 6461, 'colsample_bytree': 0.8431519857113235, 'subsample': 0.9704322080392851, 'subsample_freq': 4, 'min_child_samples': 128, 'reg_lambda': 18, 'n_estimators': 39879}. Best is trial 115 with value: 0.8942197800865673.\u001b[0m\n"
     ]
    },
    {
     "name": "stdout",
     "output_type": "stream",
     "text": [
      "Early stopping, best iteration is:\n",
      "[27]\tvalid_0's auc: 0.889019\n",
      "0.8890189425648396\n",
      "Training until validation scores don't improve for 100 rounds\n"
     ]
    },
    {
     "name": "stderr",
     "output_type": "stream",
     "text": [
      "D:\\source\\repos\\venv\\Python310\\lib\\site-packages\\sklearn\\utils\\validation.py:1141: DataConversionWarning: A column-vector y was passed when a 1d array was expected. Please change the shape of y to (n_samples, ), for example using ravel().\n",
      "  y = column_or_1d(y, warn=True)\n",
      "D:\\source\\repos\\venv\\Python310\\lib\\site-packages\\lightgbm\\sklearn.py:736: UserWarning: 'verbose' argument is deprecated and will be removed in a future release of LightGBM. Pass 'log_evaluation()' callback via 'callbacks' argument instead.\n",
      "  _log_warning(\"'verbose' argument is deprecated and will be removed in a future release of LightGBM. \"\n",
      "D:\\source\\repos\\venv\\Python310\\lib\\site-packages\\lightgbm\\basic.py:179: UserWarning: Converting column-vector to 1d array\n",
      "  _log_warning('Converting column-vector to 1d array')\n",
      "\u001b[32m[I 2023-01-16 08:40:40,576]\u001b[0m Trial 183 finished with value: 0.8663857866447746 and parameters: {'learning_rate': 0.021414256752422624, 'max_depth': 169, 'num_leaves': 6450, 'colsample_bytree': 0.8382686809693262, 'subsample': 0.9998561731019011, 'subsample_freq': 4, 'min_child_samples': 76, 'reg_lambda': 20, 'n_estimators': 40028}. Best is trial 115 with value: 0.8942197800865673.\u001b[0m\n"
     ]
    },
    {
     "name": "stdout",
     "output_type": "stream",
     "text": [
      "Early stopping, best iteration is:\n",
      "[42]\tvalid_0's auc: 0.866386\n",
      "0.8663857866447746\n",
      "Training until validation scores don't improve for 100 rounds\n"
     ]
    },
    {
     "name": "stderr",
     "output_type": "stream",
     "text": [
      "D:\\source\\repos\\venv\\Python310\\lib\\site-packages\\sklearn\\utils\\validation.py:1141: DataConversionWarning: A column-vector y was passed when a 1d array was expected. Please change the shape of y to (n_samples, ), for example using ravel().\n",
      "  y = column_or_1d(y, warn=True)\n",
      "D:\\source\\repos\\venv\\Python310\\lib\\site-packages\\lightgbm\\sklearn.py:736: UserWarning: 'verbose' argument is deprecated and will be removed in a future release of LightGBM. Pass 'log_evaluation()' callback via 'callbacks' argument instead.\n",
      "  _log_warning(\"'verbose' argument is deprecated and will be removed in a future release of LightGBM. \"\n",
      "D:\\source\\repos\\venv\\Python310\\lib\\site-packages\\lightgbm\\basic.py:179: UserWarning: Converting column-vector to 1d array\n",
      "  _log_warning('Converting column-vector to 1d array')\n",
      "\u001b[32m[I 2023-01-16 08:40:40,928]\u001b[0m Trial 184 finished with value: 0.878276830698175 and parameters: {'learning_rate': 0.014985632514485835, 'max_depth': 195, 'num_leaves': 6200, 'colsample_bytree': 0.780153393175997, 'subsample': 0.9726766361134044, 'subsample_freq': 4, 'min_child_samples': 128, 'reg_lambda': 8, 'n_estimators': 43419}. Best is trial 115 with value: 0.8942197800865673.\u001b[0m\n"
     ]
    },
    {
     "name": "stdout",
     "output_type": "stream",
     "text": [
      "Early stopping, best iteration is:\n",
      "[47]\tvalid_0's auc: 0.878277\n",
      "0.878276830698175\n",
      "Training until validation scores don't improve for 100 rounds\n"
     ]
    },
    {
     "name": "stderr",
     "output_type": "stream",
     "text": [
      "D:\\source\\repos\\venv\\Python310\\lib\\site-packages\\sklearn\\utils\\validation.py:1141: DataConversionWarning: A column-vector y was passed when a 1d array was expected. Please change the shape of y to (n_samples, ), for example using ravel().\n",
      "  y = column_or_1d(y, warn=True)\n",
      "D:\\source\\repos\\venv\\Python310\\lib\\site-packages\\lightgbm\\sklearn.py:736: UserWarning: 'verbose' argument is deprecated and will be removed in a future release of LightGBM. Pass 'log_evaluation()' callback via 'callbacks' argument instead.\n",
      "  _log_warning(\"'verbose' argument is deprecated and will be removed in a future release of LightGBM. \"\n",
      "D:\\source\\repos\\venv\\Python310\\lib\\site-packages\\lightgbm\\basic.py:179: UserWarning: Converting column-vector to 1d array\n",
      "  _log_warning('Converting column-vector to 1d array')\n",
      "\u001b[32m[I 2023-01-16 08:40:41,253]\u001b[0m Trial 185 finished with value: 0.8793671713841804 and parameters: {'learning_rate': 0.017070228113386352, 'max_depth': 161, 'num_leaves': 6774, 'colsample_bytree': 0.7421146798308149, 'subsample': 0.9632397935016723, 'subsample_freq': 4, 'min_child_samples': 144, 'reg_lambda': 5, 'n_estimators': 38865}. Best is trial 115 with value: 0.8942197800865673.\u001b[0m\n"
     ]
    },
    {
     "name": "stdout",
     "output_type": "stream",
     "text": [
      "Early stopping, best iteration is:\n",
      "[36]\tvalid_0's auc: 0.879367\n",
      "0.8793671713841804\n",
      "Training until validation scores don't improve for 100 rounds\n"
     ]
    },
    {
     "name": "stderr",
     "output_type": "stream",
     "text": [
      "D:\\source\\repos\\venv\\Python310\\lib\\site-packages\\sklearn\\utils\\validation.py:1141: DataConversionWarning: A column-vector y was passed when a 1d array was expected. Please change the shape of y to (n_samples, ), for example using ravel().\n",
      "  y = column_or_1d(y, warn=True)\n",
      "D:\\source\\repos\\venv\\Python310\\lib\\site-packages\\lightgbm\\sklearn.py:736: UserWarning: 'verbose' argument is deprecated and will be removed in a future release of LightGBM. Pass 'log_evaluation()' callback via 'callbacks' argument instead.\n",
      "  _log_warning(\"'verbose' argument is deprecated and will be removed in a future release of LightGBM. \"\n",
      "D:\\source\\repos\\venv\\Python310\\lib\\site-packages\\lightgbm\\basic.py:179: UserWarning: Converting column-vector to 1d array\n",
      "  _log_warning('Converting column-vector to 1d array')\n",
      "\u001b[32m[I 2023-01-16 08:40:41,500]\u001b[0m Trial 186 finished with value: 0.8875494407879007 and parameters: {'learning_rate': 0.019845685345148155, 'max_depth': 182, 'num_leaves': 5925, 'colsample_bytree': 0.8149603062538244, 'subsample': 0.9328685127168881, 'subsample_freq': 4, 'min_child_samples': 171, 'reg_lambda': 68, 'n_estimators': 42127}. Best is trial 115 with value: 0.8942197800865673.\u001b[0m\n"
     ]
    },
    {
     "name": "stdout",
     "output_type": "stream",
     "text": [
      "Early stopping, best iteration is:\n",
      "[22]\tvalid_0's auc: 0.887549\n",
      "0.8875494407879007\n",
      "Training until validation scores don't improve for 100 rounds\n"
     ]
    },
    {
     "name": "stderr",
     "output_type": "stream",
     "text": [
      "D:\\source\\repos\\venv\\Python310\\lib\\site-packages\\sklearn\\utils\\validation.py:1141: DataConversionWarning: A column-vector y was passed when a 1d array was expected. Please change the shape of y to (n_samples, ), for example using ravel().\n",
      "  y = column_or_1d(y, warn=True)\n",
      "D:\\source\\repos\\venv\\Python310\\lib\\site-packages\\lightgbm\\sklearn.py:736: UserWarning: 'verbose' argument is deprecated and will be removed in a future release of LightGBM. Pass 'log_evaluation()' callback via 'callbacks' argument instead.\n",
      "  _log_warning(\"'verbose' argument is deprecated and will be removed in a future release of LightGBM. \"\n",
      "D:\\source\\repos\\venv\\Python310\\lib\\site-packages\\lightgbm\\basic.py:179: UserWarning: Converting column-vector to 1d array\n",
      "  _log_warning('Converting column-vector to 1d array')\n",
      "\u001b[32m[I 2023-01-16 08:40:41,851]\u001b[0m Trial 187 finished with value: 0.8758169978657877 and parameters: {'learning_rate': 0.013401146448417417, 'max_depth': 138, 'num_leaves': 5426, 'colsample_bytree': 0.8567893214936294, 'subsample': 0.9798279535231049, 'subsample_freq': 5, 'min_child_samples': 89, 'reg_lambda': 16, 'n_estimators': 46019}. Best is trial 115 with value: 0.8942197800865673.\u001b[0m\n"
     ]
    },
    {
     "name": "stdout",
     "output_type": "stream",
     "text": [
      "Early stopping, best iteration is:\n",
      "[40]\tvalid_0's auc: 0.875817\n",
      "0.8758169978657877\n",
      "Training until validation scores don't improve for 100 rounds\n"
     ]
    },
    {
     "name": "stderr",
     "output_type": "stream",
     "text": [
      "D:\\source\\repos\\venv\\Python310\\lib\\site-packages\\sklearn\\utils\\validation.py:1141: DataConversionWarning: A column-vector y was passed when a 1d array was expected. Please change the shape of y to (n_samples, ), for example using ravel().\n",
      "  y = column_or_1d(y, warn=True)\n",
      "D:\\source\\repos\\venv\\Python310\\lib\\site-packages\\lightgbm\\sklearn.py:736: UserWarning: 'verbose' argument is deprecated and will be removed in a future release of LightGBM. Pass 'log_evaluation()' callback via 'callbacks' argument instead.\n",
      "  _log_warning(\"'verbose' argument is deprecated and will be removed in a future release of LightGBM. \"\n",
      "D:\\source\\repos\\venv\\Python310\\lib\\site-packages\\lightgbm\\basic.py:179: UserWarning: Converting column-vector to 1d array\n",
      "  _log_warning('Converting column-vector to 1d array')\n",
      "\u001b[32m[I 2023-01-16 08:40:42,178]\u001b[0m Trial 188 finished with value: 0.8699551539306478 and parameters: {'learning_rate': 0.01145339337119235, 'max_depth': 118, 'num_leaves': 4880, 'colsample_bytree': 0.7167841598491237, 'subsample': 0.9434050308306957, 'subsample_freq': 4, 'min_child_samples': 117, 'reg_lambda': 1, 'n_estimators': 35608}. Best is trial 115 with value: 0.8942197800865673.\u001b[0m\n"
     ]
    },
    {
     "name": "stdout",
     "output_type": "stream",
     "text": [
      "Early stopping, best iteration is:\n",
      "[31]\tvalid_0's auc: 0.869955\n",
      "0.8699551539306478\n",
      "Training until validation scores don't improve for 100 rounds\n"
     ]
    },
    {
     "name": "stderr",
     "output_type": "stream",
     "text": [
      "D:\\source\\repos\\venv\\Python310\\lib\\site-packages\\sklearn\\utils\\validation.py:1141: DataConversionWarning: A column-vector y was passed when a 1d array was expected. Please change the shape of y to (n_samples, ), for example using ravel().\n",
      "  y = column_or_1d(y, warn=True)\n",
      "D:\\source\\repos\\venv\\Python310\\lib\\site-packages\\lightgbm\\sklearn.py:736: UserWarning: 'verbose' argument is deprecated and will be removed in a future release of LightGBM. Pass 'log_evaluation()' callback via 'callbacks' argument instead.\n",
      "  _log_warning(\"'verbose' argument is deprecated and will be removed in a future release of LightGBM. \"\n",
      "D:\\source\\repos\\venv\\Python310\\lib\\site-packages\\lightgbm\\basic.py:179: UserWarning: Converting column-vector to 1d array\n",
      "  _log_warning('Converting column-vector to 1d array')\n",
      "\u001b[32m[I 2023-01-16 08:40:42,551]\u001b[0m Trial 189 finished with value: 0.8825425613375565 and parameters: {'learning_rate': 0.0010428227281455962, 'max_depth': 226, 'num_leaves': 7431, 'colsample_bytree': 0.6209061705429191, 'subsample': 0.9579049611239558, 'subsample_freq': 4, 'min_child_samples': 55, 'reg_lambda': 47, 'n_estimators': 40982}. Best is trial 115 with value: 0.8942197800865673.\u001b[0m\n"
     ]
    },
    {
     "name": "stdout",
     "output_type": "stream",
     "text": [
      "Early stopping, best iteration is:\n",
      "[34]\tvalid_0's auc: 0.882543\n",
      "0.8825425613375565\n",
      "Training until validation scores don't improve for 100 rounds\n"
     ]
    },
    {
     "name": "stderr",
     "output_type": "stream",
     "text": [
      "D:\\source\\repos\\venv\\Python310\\lib\\site-packages\\sklearn\\utils\\validation.py:1141: DataConversionWarning: A column-vector y was passed when a 1d array was expected. Please change the shape of y to (n_samples, ), for example using ravel().\n",
      "  y = column_or_1d(y, warn=True)\n",
      "D:\\source\\repos\\venv\\Python310\\lib\\site-packages\\lightgbm\\sklearn.py:736: UserWarning: 'verbose' argument is deprecated and will be removed in a future release of LightGBM. Pass 'log_evaluation()' callback via 'callbacks' argument instead.\n",
      "  _log_warning(\"'verbose' argument is deprecated and will be removed in a future release of LightGBM. \"\n",
      "D:\\source\\repos\\venv\\Python310\\lib\\site-packages\\lightgbm\\basic.py:179: UserWarning: Converting column-vector to 1d array\n",
      "  _log_warning('Converting column-vector to 1d array')\n",
      "\u001b[32m[I 2023-01-16 08:40:42,788]\u001b[0m Trial 190 finished with value: 0.8872935238881589 and parameters: {'learning_rate': 0.01516045633619121, 'max_depth': 155, 'num_leaves': 7164, 'colsample_bytree': 0.8385309338541098, 'subsample': 0.9210688724526012, 'subsample_freq': 3, 'min_child_samples': 148, 'reg_lambda': 60, 'n_estimators': 50618}. Best is trial 115 with value: 0.8942197800865673.\u001b[0m\n"
     ]
    },
    {
     "name": "stdout",
     "output_type": "stream",
     "text": [
      "Early stopping, best iteration is:\n",
      "[8]\tvalid_0's auc: 0.887294\n",
      "0.8872935238881589\n",
      "Training until validation scores don't improve for 100 rounds\n"
     ]
    },
    {
     "name": "stderr",
     "output_type": "stream",
     "text": [
      "D:\\source\\repos\\venv\\Python310\\lib\\site-packages\\sklearn\\utils\\validation.py:1141: DataConversionWarning: A column-vector y was passed when a 1d array was expected. Please change the shape of y to (n_samples, ), for example using ravel().\n",
      "  y = column_or_1d(y, warn=True)\n",
      "D:\\source\\repos\\venv\\Python310\\lib\\site-packages\\lightgbm\\sklearn.py:736: UserWarning: 'verbose' argument is deprecated and will be removed in a future release of LightGBM. Pass 'log_evaluation()' callback via 'callbacks' argument instead.\n",
      "  _log_warning(\"'verbose' argument is deprecated and will be removed in a future release of LightGBM. \"\n",
      "D:\\source\\repos\\venv\\Python310\\lib\\site-packages\\lightgbm\\basic.py:179: UserWarning: Converting column-vector to 1d array\n",
      "  _log_warning('Converting column-vector to 1d array')\n",
      "\u001b[32m[I 2023-01-16 08:40:43,160]\u001b[0m Trial 191 finished with value: 0.8743481695543746 and parameters: {'learning_rate': 0.02437506265461077, 'max_depth': 250, 'num_leaves': 6405, 'colsample_bytree': 0.6581900491535294, 'subsample': 0.9040480347965479, 'subsample_freq': 4, 'min_child_samples': 100, 'reg_lambda': 70, 'n_estimators': 33270}. Best is trial 115 with value: 0.8942197800865673.\u001b[0m\n"
     ]
    },
    {
     "name": "stdout",
     "output_type": "stream",
     "text": [
      "Early stopping, best iteration is:\n",
      "[44]\tvalid_0's auc: 0.874348\n",
      "0.8743481695543746\n",
      "Training until validation scores don't improve for 100 rounds\n"
     ]
    },
    {
     "name": "stderr",
     "output_type": "stream",
     "text": [
      "D:\\source\\repos\\venv\\Python310\\lib\\site-packages\\sklearn\\utils\\validation.py:1141: DataConversionWarning: A column-vector y was passed when a 1d array was expected. Please change the shape of y to (n_samples, ), for example using ravel().\n",
      "  y = column_or_1d(y, warn=True)\n",
      "D:\\source\\repos\\venv\\Python310\\lib\\site-packages\\lightgbm\\sklearn.py:736: UserWarning: 'verbose' argument is deprecated and will be removed in a future release of LightGBM. Pass 'log_evaluation()' callback via 'callbacks' argument instead.\n",
      "  _log_warning(\"'verbose' argument is deprecated and will be removed in a future release of LightGBM. \"\n",
      "D:\\source\\repos\\venv\\Python310\\lib\\site-packages\\lightgbm\\basic.py:179: UserWarning: Converting column-vector to 1d array\n",
      "  _log_warning('Converting column-vector to 1d array')\n",
      "\u001b[32m[I 2023-01-16 08:40:43,466]\u001b[0m Trial 192 finished with value: 0.8842242047550706 and parameters: {'learning_rate': 0.019722906177735897, 'max_depth': 211, 'num_leaves': 6638, 'colsample_bytree': 0.8075562024790559, 'subsample': 0.878111736176957, 'subsample_freq': 4, 'min_child_samples': 122, 'reg_lambda': 26, 'n_estimators': 37205}. Best is trial 115 with value: 0.8942197800865673.\u001b[0m\n"
     ]
    },
    {
     "name": "stdout",
     "output_type": "stream",
     "text": [
      "Early stopping, best iteration is:\n",
      "[39]\tvalid_0's auc: 0.884224\n",
      "0.8842242047550706\n",
      "Training until validation scores don't improve for 100 rounds\n"
     ]
    },
    {
     "name": "stderr",
     "output_type": "stream",
     "text": [
      "D:\\source\\repos\\venv\\Python310\\lib\\site-packages\\sklearn\\utils\\validation.py:1141: DataConversionWarning: A column-vector y was passed when a 1d array was expected. Please change the shape of y to (n_samples, ), for example using ravel().\n",
      "  y = column_or_1d(y, warn=True)\n",
      "D:\\source\\repos\\venv\\Python310\\lib\\site-packages\\lightgbm\\sklearn.py:736: UserWarning: 'verbose' argument is deprecated and will be removed in a future release of LightGBM. Pass 'log_evaluation()' callback via 'callbacks' argument instead.\n",
      "  _log_warning(\"'verbose' argument is deprecated and will be removed in a future release of LightGBM. \"\n",
      "D:\\source\\repos\\venv\\Python310\\lib\\site-packages\\lightgbm\\basic.py:179: UserWarning: Converting column-vector to 1d array\n",
      "  _log_warning('Converting column-vector to 1d array')\n",
      "\u001b[32m[I 2023-01-16 08:40:43,818]\u001b[0m Trial 193 finished with value: 0.873424848318727 and parameters: {'learning_rate': 0.009501744877562314, 'max_depth': 705, 'num_leaves': 6190, 'colsample_bytree': 0.8745552307529522, 'subsample': 0.1884418497367406, 'subsample_freq': 4, 'min_child_samples': 191, 'reg_lambda': 74, 'n_estimators': 39317}. Best is trial 115 with value: 0.8942197800865673.\u001b[0m\n"
     ]
    },
    {
     "name": "stdout",
     "output_type": "stream",
     "text": [
      "Early stopping, best iteration is:\n",
      "[260]\tvalid_0's auc: 0.873425\n",
      "0.873424848318727\n",
      "Training until validation scores don't improve for 100 rounds\n"
     ]
    },
    {
     "name": "stderr",
     "output_type": "stream",
     "text": [
      "D:\\source\\repos\\venv\\Python310\\lib\\site-packages\\sklearn\\utils\\validation.py:1141: DataConversionWarning: A column-vector y was passed when a 1d array was expected. Please change the shape of y to (n_samples, ), for example using ravel().\n",
      "  y = column_or_1d(y, warn=True)\n",
      "D:\\source\\repos\\venv\\Python310\\lib\\site-packages\\lightgbm\\sklearn.py:736: UserWarning: 'verbose' argument is deprecated and will be removed in a future release of LightGBM. Pass 'log_evaluation()' callback via 'callbacks' argument instead.\n",
      "  _log_warning(\"'verbose' argument is deprecated and will be removed in a future release of LightGBM. \"\n",
      "D:\\source\\repos\\venv\\Python310\\lib\\site-packages\\lightgbm\\basic.py:179: UserWarning: Converting column-vector to 1d array\n",
      "  _log_warning('Converting column-vector to 1d array')\n",
      "\u001b[32m[I 2023-01-16 08:40:44,137]\u001b[0m Trial 194 finished with value: 0.8731251561598188 and parameters: {'learning_rate': 0.01646101743910025, 'max_depth': 176, 'num_leaves': 8069, 'colsample_bytree': 0.6952467771656651, 'subsample': 0.9149207775933424, 'subsample_freq': 4, 'min_child_samples': 72, 'reg_lambda': 67, 'n_estimators': 44543}. Best is trial 115 with value: 0.8942197800865673.\u001b[0m\n"
     ]
    },
    {
     "name": "stdout",
     "output_type": "stream",
     "text": [
      "Early stopping, best iteration is:\n",
      "[26]\tvalid_0's auc: 0.873125\n",
      "0.8731251561598188\n",
      "Training until validation scores don't improve for 100 rounds\n"
     ]
    },
    {
     "name": "stderr",
     "output_type": "stream",
     "text": [
      "D:\\source\\repos\\venv\\Python310\\lib\\site-packages\\sklearn\\utils\\validation.py:1141: DataConversionWarning: A column-vector y was passed when a 1d array was expected. Please change the shape of y to (n_samples, ), for example using ravel().\n",
      "  y = column_or_1d(y, warn=True)\n",
      "D:\\source\\repos\\venv\\Python310\\lib\\site-packages\\lightgbm\\sklearn.py:736: UserWarning: 'verbose' argument is deprecated and will be removed in a future release of LightGBM. Pass 'log_evaluation()' callback via 'callbacks' argument instead.\n",
      "  _log_warning(\"'verbose' argument is deprecated and will be removed in a future release of LightGBM. \"\n",
      "D:\\source\\repos\\venv\\Python310\\lib\\site-packages\\lightgbm\\basic.py:179: UserWarning: Converting column-vector to 1d array\n",
      "  _log_warning('Converting column-vector to 1d array')\n",
      "\u001b[32m[I 2023-01-16 08:40:44,370]\u001b[0m Trial 195 finished with value: 0.884479111456524 and parameters: {'learning_rate': 0.005070608224532459, 'max_depth': 128, 'num_leaves': 6912, 'colsample_bytree': 0.7567881827861244, 'subsample': 0.9550666663927049, 'subsample_freq': 4, 'min_child_samples': 170, 'reg_lambda': 72, 'n_estimators': 35597}. Best is trial 115 with value: 0.8942197800865673.\u001b[0m\n"
     ]
    },
    {
     "name": "stdout",
     "output_type": "stream",
     "text": [
      "Early stopping, best iteration is:\n",
      "[23]\tvalid_0's auc: 0.884479\n",
      "0.884479111456524\n",
      "Training until validation scores don't improve for 100 rounds\n"
     ]
    },
    {
     "name": "stderr",
     "output_type": "stream",
     "text": [
      "D:\\source\\repos\\venv\\Python310\\lib\\site-packages\\sklearn\\utils\\validation.py:1141: DataConversionWarning: A column-vector y was passed when a 1d array was expected. Please change the shape of y to (n_samples, ), for example using ravel().\n",
      "  y = column_or_1d(y, warn=True)\n",
      "D:\\source\\repos\\venv\\Python310\\lib\\site-packages\\lightgbm\\sklearn.py:736: UserWarning: 'verbose' argument is deprecated and will be removed in a future release of LightGBM. Pass 'log_evaluation()' callback via 'callbacks' argument instead.\n",
      "  _log_warning(\"'verbose' argument is deprecated and will be removed in a future release of LightGBM. \"\n",
      "D:\\source\\repos\\venv\\Python310\\lib\\site-packages\\lightgbm\\basic.py:179: UserWarning: Converting column-vector to 1d array\n",
      "  _log_warning('Converting column-vector to 1d array')\n",
      "\u001b[32m[I 2023-01-16 08:40:44,699]\u001b[0m Trial 196 finished with value: 0.8616620994479605 and parameters: {'learning_rate': 0.012667250991988295, 'max_depth': 101, 'num_leaves': 5743, 'colsample_bytree': 0.5276007590052473, 'subsample': 0.9786676672545107, 'subsample_freq': 5, 'min_child_samples': 139, 'reg_lambda': 58, 'n_estimators': 38227}. Best is trial 115 with value: 0.8942197800865673.\u001b[0m\n"
     ]
    },
    {
     "name": "stdout",
     "output_type": "stream",
     "text": [
      "Early stopping, best iteration is:\n",
      "[40]\tvalid_0's auc: 0.861662\n",
      "0.8616620994479605\n",
      "Training until validation scores don't improve for 100 rounds\n"
     ]
    },
    {
     "name": "stderr",
     "output_type": "stream",
     "text": [
      "D:\\source\\repos\\venv\\Python310\\lib\\site-packages\\sklearn\\utils\\validation.py:1141: DataConversionWarning: A column-vector y was passed when a 1d array was expected. Please change the shape of y to (n_samples, ), for example using ravel().\n",
      "  y = column_or_1d(y, warn=True)\n",
      "D:\\source\\repos\\venv\\Python310\\lib\\site-packages\\lightgbm\\sklearn.py:736: UserWarning: 'verbose' argument is deprecated and will be removed in a future release of LightGBM. Pass 'log_evaluation()' callback via 'callbacks' argument instead.\n",
      "  _log_warning(\"'verbose' argument is deprecated and will be removed in a future release of LightGBM. \"\n",
      "D:\\source\\repos\\venv\\Python310\\lib\\site-packages\\lightgbm\\basic.py:179: UserWarning: Converting column-vector to 1d array\n",
      "  _log_warning('Converting column-vector to 1d array')\n",
      "\u001b[32m[I 2023-01-16 08:40:44,922]\u001b[0m Trial 197 finished with value: 0.8814619859016728 and parameters: {'learning_rate': 0.007703146279379962, 'max_depth': 142, 'num_leaves': 6447, 'colsample_bytree': 0.6666967525974031, 'subsample': 0.9257099482442879, 'subsample_freq': 4, 'min_child_samples': 215, 'reg_lambda': 64, 'n_estimators': 15641}. Best is trial 115 with value: 0.8942197800865673.\u001b[0m\n"
     ]
    },
    {
     "name": "stdout",
     "output_type": "stream",
     "text": [
      "Early stopping, best iteration is:\n",
      "[4]\tvalid_0's auc: 0.881462\n",
      "0.8814619859016728\n",
      "Training until validation scores don't improve for 100 rounds\n"
     ]
    },
    {
     "name": "stderr",
     "output_type": "stream",
     "text": [
      "D:\\source\\repos\\venv\\Python310\\lib\\site-packages\\sklearn\\utils\\validation.py:1141: DataConversionWarning: A column-vector y was passed when a 1d array was expected. Please change the shape of y to (n_samples, ), for example using ravel().\n",
      "  y = column_or_1d(y, warn=True)\n",
      "D:\\source\\repos\\venv\\Python310\\lib\\site-packages\\lightgbm\\sklearn.py:736: UserWarning: 'verbose' argument is deprecated and will be removed in a future release of LightGBM. Pass 'log_evaluation()' callback via 'callbacks' argument instead.\n",
      "  _log_warning(\"'verbose' argument is deprecated and will be removed in a future release of LightGBM. \"\n",
      "D:\\source\\repos\\venv\\Python310\\lib\\site-packages\\lightgbm\\basic.py:179: UserWarning: Converting column-vector to 1d array\n",
      "  _log_warning('Converting column-vector to 1d array')\n",
      "\u001b[32m[I 2023-01-16 08:40:45,337]\u001b[0m Trial 198 finished with value: 0.8921983733113695 and parameters: {'learning_rate': 0.01738519453344202, 'max_depth': 188, 'num_leaves': 6606, 'colsample_bytree': 0.6500738517497028, 'subsample': 0.94273045902688, 'subsample_freq': 4, 'min_child_samples': 105, 'reg_lambda': 76, 'n_estimators': 32261}. Best is trial 115 with value: 0.8942197800865673.\u001b[0m\n"
     ]
    },
    {
     "name": "stdout",
     "output_type": "stream",
     "text": [
      "Early stopping, best iteration is:\n",
      "[66]\tvalid_0's auc: 0.892198\n",
      "0.8921983733113695\n",
      "Training until validation scores don't improve for 100 rounds\n"
     ]
    },
    {
     "name": "stderr",
     "output_type": "stream",
     "text": [
      "D:\\source\\repos\\venv\\Python310\\lib\\site-packages\\sklearn\\utils\\validation.py:1141: DataConversionWarning: A column-vector y was passed when a 1d array was expected. Please change the shape of y to (n_samples, ), for example using ravel().\n",
      "  y = column_or_1d(y, warn=True)\n",
      "D:\\source\\repos\\venv\\Python310\\lib\\site-packages\\lightgbm\\sklearn.py:736: UserWarning: 'verbose' argument is deprecated and will be removed in a future release of LightGBM. Pass 'log_evaluation()' callback via 'callbacks' argument instead.\n",
      "  _log_warning(\"'verbose' argument is deprecated and will be removed in a future release of LightGBM. \"\n",
      "D:\\source\\repos\\venv\\Python310\\lib\\site-packages\\lightgbm\\basic.py:179: UserWarning: Converting column-vector to 1d array\n",
      "  _log_warning('Converting column-vector to 1d array')\n",
      "\u001b[32m[I 2023-01-16 08:40:45,673]\u001b[0m Trial 199 finished with value: 0.8718701531527953 and parameters: {'learning_rate': 0.018012031712764467, 'max_depth': 195, 'num_leaves': 6630, 'colsample_bytree': 0.6481353918954987, 'subsample': 0.9988937261713471, 'subsample_freq': 3, 'min_child_samples': 106, 'reg_lambda': 78, 'n_estimators': 32184}. Best is trial 115 with value: 0.8942197800865673.\u001b[0m\n"
     ]
    },
    {
     "name": "stdout",
     "output_type": "stream",
     "text": [
      "Early stopping, best iteration is:\n",
      "[34]\tvalid_0's auc: 0.87187\n",
      "0.8718701531527953\n",
      "Training until validation scores don't improve for 100 rounds\n"
     ]
    },
    {
     "name": "stderr",
     "output_type": "stream",
     "text": [
      "D:\\source\\repos\\venv\\Python310\\lib\\site-packages\\sklearn\\utils\\validation.py:1141: DataConversionWarning: A column-vector y was passed when a 1d array was expected. Please change the shape of y to (n_samples, ), for example using ravel().\n",
      "  y = column_or_1d(y, warn=True)\n",
      "D:\\source\\repos\\venv\\Python310\\lib\\site-packages\\lightgbm\\sklearn.py:736: UserWarning: 'verbose' argument is deprecated and will be removed in a future release of LightGBM. Pass 'log_evaluation()' callback via 'callbacks' argument instead.\n",
      "  _log_warning(\"'verbose' argument is deprecated and will be removed in a future release of LightGBM. \"\n",
      "D:\\source\\repos\\venv\\Python310\\lib\\site-packages\\lightgbm\\basic.py:179: UserWarning: Converting column-vector to 1d array\n",
      "  _log_warning('Converting column-vector to 1d array')\n",
      "\u001b[32m[I 2023-01-16 08:40:46,095]\u001b[0m Trial 200 finished with value: 0.874177109310863 and parameters: {'learning_rate': 0.09030646857659763, 'max_depth': 162, 'num_leaves': 7053, 'colsample_bytree': 0.6057037494626586, 'subsample': 0.9396762406076061, 'subsample_freq': 4, 'min_child_samples': 88, 'reg_lambda': 75, 'n_estimators': 40923}. Best is trial 115 with value: 0.8942197800865673.\u001b[0m\n"
     ]
    },
    {
     "name": "stdout",
     "output_type": "stream",
     "text": [
      "Early stopping, best iteration is:\n",
      "[24]\tvalid_0's auc: 0.874177\n",
      "0.874177109310863\n",
      "Training until validation scores don't improve for 100 rounds\n"
     ]
    },
    {
     "name": "stderr",
     "output_type": "stream",
     "text": [
      "D:\\source\\repos\\venv\\Python310\\lib\\site-packages\\sklearn\\utils\\validation.py:1141: DataConversionWarning: A column-vector y was passed when a 1d array was expected. Please change the shape of y to (n_samples, ), for example using ravel().\n",
      "  y = column_or_1d(y, warn=True)\n",
      "D:\\source\\repos\\venv\\Python310\\lib\\site-packages\\lightgbm\\sklearn.py:736: UserWarning: 'verbose' argument is deprecated and will be removed in a future release of LightGBM. Pass 'log_evaluation()' callback via 'callbacks' argument instead.\n",
      "  _log_warning(\"'verbose' argument is deprecated and will be removed in a future release of LightGBM. \"\n",
      "D:\\source\\repos\\venv\\Python310\\lib\\site-packages\\lightgbm\\basic.py:179: UserWarning: Converting column-vector to 1d array\n",
      "  _log_warning('Converting column-vector to 1d array')\n",
      "\u001b[32m[I 2023-01-16 08:40:46,562]\u001b[0m Trial 201 finished with value: 0.8862419074698775 and parameters: {'learning_rate': 0.014471120950351343, 'max_depth': 181, 'num_leaves': 6058, 'colsample_bytree': 0.6254047832382033, 'subsample': 0.9624221412537556, 'subsample_freq': 4, 'min_child_samples': 120, 'reg_lambda': 33, 'n_estimators': 34998}. Best is trial 115 with value: 0.8942197800865673.\u001b[0m\n"
     ]
    },
    {
     "name": "stdout",
     "output_type": "stream",
     "text": [
      "Early stopping, best iteration is:\n",
      "[89]\tvalid_0's auc: 0.886242\n",
      "0.8862419074698775\n",
      "Training until validation scores don't improve for 100 rounds\n"
     ]
    },
    {
     "name": "stderr",
     "output_type": "stream",
     "text": [
      "D:\\source\\repos\\venv\\Python310\\lib\\site-packages\\sklearn\\utils\\validation.py:1141: DataConversionWarning: A column-vector y was passed when a 1d array was expected. Please change the shape of y to (n_samples, ), for example using ravel().\n",
      "  y = column_or_1d(y, warn=True)\n",
      "D:\\source\\repos\\venv\\Python310\\lib\\site-packages\\lightgbm\\sklearn.py:736: UserWarning: 'verbose' argument is deprecated and will be removed in a future release of LightGBM. Pass 'log_evaluation()' callback via 'callbacks' argument instead.\n",
      "  _log_warning(\"'verbose' argument is deprecated and will be removed in a future release of LightGBM. \"\n",
      "D:\\source\\repos\\venv\\Python310\\lib\\site-packages\\lightgbm\\basic.py:179: UserWarning: Converting column-vector to 1d array\n",
      "  _log_warning('Converting column-vector to 1d array')\n",
      "\u001b[32m[I 2023-01-16 08:40:46,910]\u001b[0m Trial 202 finished with value: 0.8729335552177753 and parameters: {'learning_rate': 0.022004475655246145, 'max_depth': 151, 'num_leaves': 6296, 'colsample_bytree': 0.6795083873761418, 'subsample': 0.8982400168480803, 'subsample_freq': 4, 'min_child_samples': 136, 'reg_lambda': 76, 'n_estimators': 29064}. Best is trial 115 with value: 0.8942197800865673.\u001b[0m\n"
     ]
    },
    {
     "name": "stdout",
     "output_type": "stream",
     "text": [
      "Early stopping, best iteration is:\n",
      "[52]\tvalid_0's auc: 0.872934\n",
      "0.8729335552177753\n",
      "Training until validation scores don't improve for 100 rounds\n"
     ]
    },
    {
     "name": "stderr",
     "output_type": "stream",
     "text": [
      "D:\\source\\repos\\venv\\Python310\\lib\\site-packages\\sklearn\\utils\\validation.py:1141: DataConversionWarning: A column-vector y was passed when a 1d array was expected. Please change the shape of y to (n_samples, ), for example using ravel().\n",
      "  y = column_or_1d(y, warn=True)\n",
      "D:\\source\\repos\\venv\\Python310\\lib\\site-packages\\lightgbm\\sklearn.py:736: UserWarning: 'verbose' argument is deprecated and will be removed in a future release of LightGBM. Pass 'log_evaluation()' callback via 'callbacks' argument instead.\n",
      "  _log_warning(\"'verbose' argument is deprecated and will be removed in a future release of LightGBM. \"\n",
      "D:\\source\\repos\\venv\\Python310\\lib\\site-packages\\lightgbm\\basic.py:179: UserWarning: Converting column-vector to 1d array\n",
      "  _log_warning('Converting column-vector to 1d array')\n",
      "\u001b[32m[I 2023-01-16 08:40:47,286]\u001b[0m Trial 203 finished with value: 0.8880410706216154 and parameters: {'learning_rate': 0.010858139808530778, 'max_depth': 212, 'num_leaves': 6814, 'colsample_bytree': 0.6426234087247261, 'subsample': 0.9405239344119977, 'subsample_freq': 4, 'min_child_samples': 107, 'reg_lambda': 73, 'n_estimators': 42790}. Best is trial 115 with value: 0.8942197800865673.\u001b[0m\n"
     ]
    },
    {
     "name": "stdout",
     "output_type": "stream",
     "text": [
      "Early stopping, best iteration is:\n",
      "[51]\tvalid_0's auc: 0.888041\n",
      "0.8880410706216154\n",
      "Training until validation scores don't improve for 100 rounds\n"
     ]
    },
    {
     "name": "stderr",
     "output_type": "stream",
     "text": [
      "D:\\source\\repos\\venv\\Python310\\lib\\site-packages\\sklearn\\utils\\validation.py:1141: DataConversionWarning: A column-vector y was passed when a 1d array was expected. Please change the shape of y to (n_samples, ), for example using ravel().\n",
      "  y = column_or_1d(y, warn=True)\n",
      "D:\\source\\repos\\venv\\Python310\\lib\\site-packages\\lightgbm\\sklearn.py:736: UserWarning: 'verbose' argument is deprecated and will be removed in a future release of LightGBM. Pass 'log_evaluation()' callback via 'callbacks' argument instead.\n",
      "  _log_warning(\"'verbose' argument is deprecated and will be removed in a future release of LightGBM. \"\n",
      "D:\\source\\repos\\venv\\Python310\\lib\\site-packages\\lightgbm\\basic.py:179: UserWarning: Converting column-vector to 1d array\n",
      "  _log_warning('Converting column-vector to 1d array')\n",
      "\u001b[32m[I 2023-01-16 08:40:47,771]\u001b[0m Trial 204 finished with value: 0.8849468332640785 and parameters: {'learning_rate': 0.010587899402123102, 'max_depth': 226, 'num_leaves': 6880, 'colsample_bytree': 0.6451971550533299, 'subsample': 0.9798730399439604, 'subsample_freq': 4, 'min_child_samples': 104, 'reg_lambda': 73, 'n_estimators': 43142}. Best is trial 115 with value: 0.8942197800865673.\u001b[0m\n"
     ]
    },
    {
     "name": "stdout",
     "output_type": "stream",
     "text": [
      "Early stopping, best iteration is:\n",
      "[93]\tvalid_0's auc: 0.884947\n",
      "0.8849468332640785\n",
      "Training until validation scores don't improve for 100 rounds\n"
     ]
    },
    {
     "name": "stderr",
     "output_type": "stream",
     "text": [
      "D:\\source\\repos\\venv\\Python310\\lib\\site-packages\\sklearn\\utils\\validation.py:1141: DataConversionWarning: A column-vector y was passed when a 1d array was expected. Please change the shape of y to (n_samples, ), for example using ravel().\n",
      "  y = column_or_1d(y, warn=True)\n",
      "D:\\source\\repos\\venv\\Python310\\lib\\site-packages\\lightgbm\\sklearn.py:736: UserWarning: 'verbose' argument is deprecated and will be removed in a future release of LightGBM. Pass 'log_evaluation()' callback via 'callbacks' argument instead.\n",
      "  _log_warning(\"'verbose' argument is deprecated and will be removed in a future release of LightGBM. \"\n",
      "D:\\source\\repos\\venv\\Python310\\lib\\site-packages\\lightgbm\\basic.py:179: UserWarning: Converting column-vector to 1d array\n",
      "  _log_warning('Converting column-vector to 1d array')\n",
      "\u001b[32m[I 2023-01-16 08:40:48,202]\u001b[0m Trial 205 finished with value: 0.8959219642026134 and parameters: {'learning_rate': 0.012805088807206032, 'max_depth': 187, 'num_leaves': 6723, 'colsample_bytree': 0.662460848508975, 'subsample': 0.9441216912059178, 'subsample_freq': 5, 'min_child_samples': 67, 'reg_lambda': 79, 'n_estimators': 45335}. Best is trial 205 with value: 0.8959219642026134.\u001b[0m\n"
     ]
    },
    {
     "name": "stdout",
     "output_type": "stream",
     "text": [
      "Early stopping, best iteration is:\n",
      "[56]\tvalid_0's auc: 0.895922\n",
      "0.8959219642026134\n",
      "Training until validation scores don't improve for 100 rounds\n"
     ]
    },
    {
     "name": "stderr",
     "output_type": "stream",
     "text": [
      "D:\\source\\repos\\venv\\Python310\\lib\\site-packages\\sklearn\\utils\\validation.py:1141: DataConversionWarning: A column-vector y was passed when a 1d array was expected. Please change the shape of y to (n_samples, ), for example using ravel().\n",
      "  y = column_or_1d(y, warn=True)\n",
      "D:\\source\\repos\\venv\\Python310\\lib\\site-packages\\lightgbm\\sklearn.py:736: UserWarning: 'verbose' argument is deprecated and will be removed in a future release of LightGBM. Pass 'log_evaluation()' callback via 'callbacks' argument instead.\n",
      "  _log_warning(\"'verbose' argument is deprecated and will be removed in a future release of LightGBM. \"\n",
      "D:\\source\\repos\\venv\\Python310\\lib\\site-packages\\lightgbm\\basic.py:179: UserWarning: Converting column-vector to 1d array\n",
      "  _log_warning('Converting column-vector to 1d array')\n",
      "\u001b[32m[I 2023-01-16 08:40:48,638]\u001b[0m Trial 206 finished with value: 0.8836069736008247 and parameters: {'learning_rate': 0.011582529491945283, 'max_depth': 215, 'num_leaves': 6694, 'colsample_bytree': 0.7071097274013594, 'subsample': 0.9416559090124378, 'subsample_freq': 5, 'min_child_samples': 56, 'reg_lambda': 79, 'n_estimators': 47049}. Best is trial 205 with value: 0.8959219642026134.\u001b[0m\n"
     ]
    },
    {
     "name": "stdout",
     "output_type": "stream",
     "text": [
      "Early stopping, best iteration is:\n",
      "[83]\tvalid_0's auc: 0.883607\n",
      "0.8836069736008247\n",
      "Training until validation scores don't improve for 100 rounds\n"
     ]
    },
    {
     "name": "stderr",
     "output_type": "stream",
     "text": [
      "D:\\source\\repos\\venv\\Python310\\lib\\site-packages\\sklearn\\utils\\validation.py:1141: DataConversionWarning: A column-vector y was passed when a 1d array was expected. Please change the shape of y to (n_samples, ), for example using ravel().\n",
      "  y = column_or_1d(y, warn=True)\n",
      "D:\\source\\repos\\venv\\Python310\\lib\\site-packages\\lightgbm\\sklearn.py:736: UserWarning: 'verbose' argument is deprecated and will be removed in a future release of LightGBM. Pass 'log_evaluation()' callback via 'callbacks' argument instead.\n",
      "  _log_warning(\"'verbose' argument is deprecated and will be removed in a future release of LightGBM. \"\n",
      "D:\\source\\repos\\venv\\Python310\\lib\\site-packages\\lightgbm\\basic.py:179: UserWarning: Converting column-vector to 1d array\n",
      "  _log_warning('Converting column-vector to 1d array')\n",
      "\u001b[32m[I 2023-01-16 08:40:49,827]\u001b[0m Trial 207 finished with value: 0.893768221451628 and parameters: {'learning_rate': 0.006992347982253436, 'max_depth': 200, 'num_leaves': 6567, 'colsample_bytree': 0.6678925953893103, 'subsample': 0.9213105903573483, 'subsample_freq': 5, 'min_child_samples': 64, 'reg_lambda': 80, 'n_estimators': 42063}. Best is trial 205 with value: 0.8959219642026134.\u001b[0m\n"
     ]
    },
    {
     "name": "stdout",
     "output_type": "stream",
     "text": [
      "Early stopping, best iteration is:\n",
      "[300]\tvalid_0's auc: 0.893768\n",
      "0.893768221451628\n",
      "Training until validation scores don't improve for 100 rounds\n"
     ]
    },
    {
     "name": "stderr",
     "output_type": "stream",
     "text": [
      "D:\\source\\repos\\venv\\Python310\\lib\\site-packages\\sklearn\\utils\\validation.py:1141: DataConversionWarning: A column-vector y was passed when a 1d array was expected. Please change the shape of y to (n_samples, ), for example using ravel().\n",
      "  y = column_or_1d(y, warn=True)\n",
      "D:\\source\\repos\\venv\\Python310\\lib\\site-packages\\lightgbm\\sklearn.py:736: UserWarning: 'verbose' argument is deprecated and will be removed in a future release of LightGBM. Pass 'log_evaluation()' callback via 'callbacks' argument instead.\n",
      "  _log_warning(\"'verbose' argument is deprecated and will be removed in a future release of LightGBM. \"\n",
      "D:\\source\\repos\\venv\\Python310\\lib\\site-packages\\lightgbm\\basic.py:179: UserWarning: Converting column-vector to 1d array\n",
      "  _log_warning('Converting column-vector to 1d array')\n",
      "\u001b[32m[I 2023-01-16 08:40:50,294]\u001b[0m Trial 208 finished with value: 0.862814735695087 and parameters: {'learning_rate': 0.006362099146347546, 'max_depth': 186, 'num_leaves': 6696, 'colsample_bytree': 0.6722803135109637, 'subsample': 0.9274228382775976, 'subsample_freq': 5, 'min_child_samples': 32, 'reg_lambda': 82, 'n_estimators': 44916}. Best is trial 205 with value: 0.8959219642026134.\u001b[0m\n"
     ]
    },
    {
     "name": "stdout",
     "output_type": "stream",
     "text": [
      "Early stopping, best iteration is:\n",
      "[34]\tvalid_0's auc: 0.862815\n",
      "0.862814735695087\n",
      "Training until validation scores don't improve for 100 rounds\n"
     ]
    },
    {
     "name": "stderr",
     "output_type": "stream",
     "text": [
      "D:\\source\\repos\\venv\\Python310\\lib\\site-packages\\sklearn\\utils\\validation.py:1141: DataConversionWarning: A column-vector y was passed when a 1d array was expected. Please change the shape of y to (n_samples, ), for example using ravel().\n",
      "  y = column_or_1d(y, warn=True)\n",
      "D:\\source\\repos\\venv\\Python310\\lib\\site-packages\\lightgbm\\sklearn.py:736: UserWarning: 'verbose' argument is deprecated and will be removed in a future release of LightGBM. Pass 'log_evaluation()' callback via 'callbacks' argument instead.\n",
      "  _log_warning(\"'verbose' argument is deprecated and will be removed in a future release of LightGBM. \"\n",
      "D:\\source\\repos\\venv\\Python310\\lib\\site-packages\\lightgbm\\basic.py:179: UserWarning: Converting column-vector to 1d array\n",
      "  _log_warning('Converting column-vector to 1d array')\n",
      "\u001b[32m[I 2023-01-16 08:40:51,185]\u001b[0m Trial 209 finished with value: 0.8755893665181227 and parameters: {'learning_rate': 0.004510389543300508, 'max_depth': 209, 'num_leaves': 6501, 'colsample_bytree': 0.6572372795527557, 'subsample': 0.8829090896136162, 'subsample_freq': 5, 'min_child_samples': 69, 'reg_lambda': 80, 'n_estimators': 42408}. Best is trial 205 with value: 0.8959219642026134.\u001b[0m\n"
     ]
    },
    {
     "name": "stdout",
     "output_type": "stream",
     "text": [
      "Early stopping, best iteration is:\n",
      "[285]\tvalid_0's auc: 0.875589\n",
      "0.8755893665181227\n",
      "Training until validation scores don't improve for 100 rounds\n"
     ]
    },
    {
     "name": "stderr",
     "output_type": "stream",
     "text": [
      "D:\\source\\repos\\venv\\Python310\\lib\\site-packages\\sklearn\\utils\\validation.py:1141: DataConversionWarning: A column-vector y was passed when a 1d array was expected. Please change the shape of y to (n_samples, ), for example using ravel().\n",
      "  y = column_or_1d(y, warn=True)\n",
      "D:\\source\\repos\\venv\\Python310\\lib\\site-packages\\lightgbm\\sklearn.py:736: UserWarning: 'verbose' argument is deprecated and will be removed in a future release of LightGBM. Pass 'log_evaluation()' callback via 'callbacks' argument instead.\n",
      "  _log_warning(\"'verbose' argument is deprecated and will be removed in a future release of LightGBM. \"\n",
      "D:\\source\\repos\\venv\\Python310\\lib\\site-packages\\lightgbm\\basic.py:179: UserWarning: Converting column-vector to 1d array\n",
      "  _log_warning('Converting column-vector to 1d array')\n",
      "\u001b[32m[I 2023-01-16 08:40:51,437]\u001b[0m Trial 210 finished with value: 0.8756503151481929 and parameters: {'learning_rate': 0.008226850600560966, 'max_depth': 238, 'num_leaves': 6294, 'colsample_bytree': 0.6916262900627768, 'subsample': 0.9132027427178636, 'subsample_freq': 5, 'min_child_samples': 83, 'reg_lambda': 78, 'n_estimators': 44223}. Best is trial 205 with value: 0.8959219642026134.\u001b[0m\n"
     ]
    },
    {
     "name": "stdout",
     "output_type": "stream",
     "text": [
      "Early stopping, best iteration is:\n",
      "[5]\tvalid_0's auc: 0.87565\n",
      "0.8756503151481929\n",
      "Training until validation scores don't improve for 100 rounds\n"
     ]
    },
    {
     "name": "stderr",
     "output_type": "stream",
     "text": [
      "D:\\source\\repos\\venv\\Python310\\lib\\site-packages\\sklearn\\utils\\validation.py:1141: DataConversionWarning: A column-vector y was passed when a 1d array was expected. Please change the shape of y to (n_samples, ), for example using ravel().\n",
      "  y = column_or_1d(y, warn=True)\n",
      "D:\\source\\repos\\venv\\Python310\\lib\\site-packages\\lightgbm\\sklearn.py:736: UserWarning: 'verbose' argument is deprecated and will be removed in a future release of LightGBM. Pass 'log_evaluation()' callback via 'callbacks' argument instead.\n",
      "  _log_warning(\"'verbose' argument is deprecated and will be removed in a future release of LightGBM. \"\n",
      "D:\\source\\repos\\venv\\Python310\\lib\\site-packages\\lightgbm\\basic.py:179: UserWarning: Converting column-vector to 1d array\n",
      "  _log_warning('Converting column-vector to 1d array')\n",
      "\u001b[32m[I 2023-01-16 08:40:51,791]\u001b[0m Trial 211 finished with value: 0.8886421386032459 and parameters: {'learning_rate': 0.013401123355636068, 'max_depth': 202, 'num_leaves': 6942, 'colsample_bytree': 0.5591653345373266, 'subsample': 0.9500574029550861, 'subsample_freq': 5, 'min_child_samples': 91, 'reg_lambda': 76, 'n_estimators': 40510}. Best is trial 205 with value: 0.8959219642026134.\u001b[0m\n"
     ]
    },
    {
     "name": "stdout",
     "output_type": "stream",
     "text": [
      "Early stopping, best iteration is:\n",
      "[43]\tvalid_0's auc: 0.888642\n",
      "0.8886421386032459\n",
      "Training until validation scores don't improve for 100 rounds\n"
     ]
    },
    {
     "name": "stderr",
     "output_type": "stream",
     "text": [
      "D:\\source\\repos\\venv\\Python310\\lib\\site-packages\\sklearn\\utils\\validation.py:1141: DataConversionWarning: A column-vector y was passed when a 1d array was expected. Please change the shape of y to (n_samples, ), for example using ravel().\n",
      "  y = column_or_1d(y, warn=True)\n",
      "D:\\source\\repos\\venv\\Python310\\lib\\site-packages\\lightgbm\\sklearn.py:736: UserWarning: 'verbose' argument is deprecated and will be removed in a future release of LightGBM. Pass 'log_evaluation()' callback via 'callbacks' argument instead.\n",
      "  _log_warning(\"'verbose' argument is deprecated and will be removed in a future release of LightGBM. \"\n",
      "D:\\source\\repos\\venv\\Python310\\lib\\site-packages\\lightgbm\\basic.py:179: UserWarning: Converting column-vector to 1d array\n",
      "  _log_warning('Converting column-vector to 1d array')\n",
      "\u001b[32m[I 2023-01-16 08:40:52,421]\u001b[0m Trial 212 finished with value: 0.8903564450987537 and parameters: {'learning_rate': 0.0100955284787323, 'max_depth': 201, 'num_leaves': 7281, 'colsample_bytree': 0.5566279458830506, 'subsample': 0.9452948327939747, 'subsample_freq': 5, 'min_child_samples': 54, 'reg_lambda': 77, 'n_estimators': 39829}. Best is trial 205 with value: 0.8959219642026134.\u001b[0m\n"
     ]
    },
    {
     "name": "stdout",
     "output_type": "stream",
     "text": [
      "Early stopping, best iteration is:\n",
      "[134]\tvalid_0's auc: 0.890356\n",
      "0.8903564450987537\n",
      "Training until validation scores don't improve for 100 rounds\n"
     ]
    },
    {
     "name": "stderr",
     "output_type": "stream",
     "text": [
      "D:\\source\\repos\\venv\\Python310\\lib\\site-packages\\sklearn\\utils\\validation.py:1141: DataConversionWarning: A column-vector y was passed when a 1d array was expected. Please change the shape of y to (n_samples, ), for example using ravel().\n",
      "  y = column_or_1d(y, warn=True)\n",
      "D:\\source\\repos\\venv\\Python310\\lib\\site-packages\\lightgbm\\sklearn.py:736: UserWarning: 'verbose' argument is deprecated and will be removed in a future release of LightGBM. Pass 'log_evaluation()' callback via 'callbacks' argument instead.\n",
      "  _log_warning(\"'verbose' argument is deprecated and will be removed in a future release of LightGBM. \"\n",
      "D:\\source\\repos\\venv\\Python310\\lib\\site-packages\\lightgbm\\basic.py:179: UserWarning: Converting column-vector to 1d array\n",
      "  _log_warning('Converting column-vector to 1d array')\n",
      "\u001b[32m[I 2023-01-16 08:40:52,806]\u001b[0m Trial 213 finished with value: 0.8871453614725188 and parameters: {'learning_rate': 0.010027060265023235, 'max_depth': 207, 'num_leaves': 6482, 'colsample_bytree': 0.5493958948917298, 'subsample': 0.6058574424169765, 'subsample_freq': 5, 'min_child_samples': 39, 'reg_lambda': 76, 'n_estimators': 40261}. Best is trial 205 with value: 0.8959219642026134.\u001b[0m\n"
     ]
    },
    {
     "name": "stdout",
     "output_type": "stream",
     "text": [
      "Early stopping, best iteration is:\n",
      "[43]\tvalid_0's auc: 0.887145\n",
      "0.8871453614725188\n",
      "Training until validation scores don't improve for 100 rounds\n"
     ]
    },
    {
     "name": "stderr",
     "output_type": "stream",
     "text": [
      "D:\\source\\repos\\venv\\Python310\\lib\\site-packages\\sklearn\\utils\\validation.py:1141: DataConversionWarning: A column-vector y was passed when a 1d array was expected. Please change the shape of y to (n_samples, ), for example using ravel().\n",
      "  y = column_or_1d(y, warn=True)\n",
      "D:\\source\\repos\\venv\\Python310\\lib\\site-packages\\lightgbm\\sklearn.py:736: UserWarning: 'verbose' argument is deprecated and will be removed in a future release of LightGBM. Pass 'log_evaluation()' callback via 'callbacks' argument instead.\n",
      "  _log_warning(\"'verbose' argument is deprecated and will be removed in a future release of LightGBM. \"\n",
      "D:\\source\\repos\\venv\\Python310\\lib\\site-packages\\lightgbm\\basic.py:179: UserWarning: Converting column-vector to 1d array\n",
      "  _log_warning('Converting column-vector to 1d array')\n",
      "\u001b[32m[I 2023-01-16 08:40:53,198]\u001b[0m Trial 214 finished with value: 0.881891320174266 and parameters: {'learning_rate': 0.00695917587052982, 'max_depth': 182, 'num_leaves': 7231, 'colsample_bytree': 0.5671330086854398, 'subsample': 0.9443211932631447, 'subsample_freq': 5, 'min_child_samples': 61, 'reg_lambda': 77, 'n_estimators': 53984}. Best is trial 205 with value: 0.8959219642026134.\u001b[0m\n"
     ]
    },
    {
     "name": "stdout",
     "output_type": "stream",
     "text": [
      "Early stopping, best iteration is:\n",
      "[41]\tvalid_0's auc: 0.881891\n",
      "0.881891320174266\n",
      "Training until validation scores don't improve for 100 rounds\n"
     ]
    },
    {
     "name": "stderr",
     "output_type": "stream",
     "text": [
      "D:\\source\\repos\\venv\\Python310\\lib\\site-packages\\sklearn\\utils\\validation.py:1141: DataConversionWarning: A column-vector y was passed when a 1d array was expected. Please change the shape of y to (n_samples, ), for example using ravel().\n",
      "  y = column_or_1d(y, warn=True)\n",
      "D:\\source\\repos\\venv\\Python310\\lib\\site-packages\\lightgbm\\sklearn.py:736: UserWarning: 'verbose' argument is deprecated and will be removed in a future release of LightGBM. Pass 'log_evaluation()' callback via 'callbacks' argument instead.\n",
      "  _log_warning(\"'verbose' argument is deprecated and will be removed in a future release of LightGBM. \"\n",
      "D:\\source\\repos\\venv\\Python310\\lib\\site-packages\\lightgbm\\basic.py:179: UserWarning: Converting column-vector to 1d array\n",
      "  _log_warning('Converting column-vector to 1d array')\n",
      "\u001b[32m[I 2023-01-16 08:40:53,524]\u001b[0m Trial 215 finished with value: 0.8904500568068171 and parameters: {'learning_rate': 0.01245105330826911, 'max_depth': 257, 'num_leaves': 6996, 'colsample_bytree': 0.5861851289489924, 'subsample': 0.9527182747293506, 'subsample_freq': 5, 'min_child_samples': 83, 'reg_lambda': 82, 'n_estimators': 46376}. Best is trial 205 with value: 0.8959219642026134.\u001b[0m\n"
     ]
    },
    {
     "name": "stdout",
     "output_type": "stream",
     "text": [
      "Early stopping, best iteration is:\n",
      "[31]\tvalid_0's auc: 0.89045\n",
      "0.8904500568068171\n",
      "Training until validation scores don't improve for 100 rounds\n"
     ]
    },
    {
     "name": "stderr",
     "output_type": "stream",
     "text": [
      "D:\\source\\repos\\venv\\Python310\\lib\\site-packages\\sklearn\\utils\\validation.py:1141: DataConversionWarning: A column-vector y was passed when a 1d array was expected. Please change the shape of y to (n_samples, ), for example using ravel().\n",
      "  y = column_or_1d(y, warn=True)\n",
      "D:\\source\\repos\\venv\\Python310\\lib\\site-packages\\lightgbm\\sklearn.py:736: UserWarning: 'verbose' argument is deprecated and will be removed in a future release of LightGBM. Pass 'log_evaluation()' callback via 'callbacks' argument instead.\n",
      "  _log_warning(\"'verbose' argument is deprecated and will be removed in a future release of LightGBM. \"\n",
      "D:\\source\\repos\\venv\\Python310\\lib\\site-packages\\lightgbm\\basic.py:179: UserWarning: Converting column-vector to 1d array\n",
      "  _log_warning('Converting column-vector to 1d array')\n",
      "\u001b[32m[I 2023-01-16 08:40:53,940]\u001b[0m Trial 216 finished with value: 0.8732369514370745 and parameters: {'learning_rate': 0.012823378204995028, 'max_depth': 253, 'num_leaves': 7068, 'colsample_bytree': 0.5368248287386664, 'subsample': 0.9353341319443014, 'subsample_freq': 5, 'min_child_samples': 48, 'reg_lambda': 84, 'n_estimators': 42922}. Best is trial 205 with value: 0.8959219642026134.\u001b[0m\n"
     ]
    },
    {
     "name": "stdout",
     "output_type": "stream",
     "text": [
      "Early stopping, best iteration is:\n",
      "[44]\tvalid_0's auc: 0.873237\n",
      "0.8732369514370745\n",
      "Training until validation scores don't improve for 100 rounds\n"
     ]
    },
    {
     "name": "stderr",
     "output_type": "stream",
     "text": [
      "D:\\source\\repos\\venv\\Python310\\lib\\site-packages\\sklearn\\utils\\validation.py:1141: DataConversionWarning: A column-vector y was passed when a 1d array was expected. Please change the shape of y to (n_samples, ), for example using ravel().\n",
      "  y = column_or_1d(y, warn=True)\n",
      "D:\\source\\repos\\venv\\Python310\\lib\\site-packages\\lightgbm\\sklearn.py:736: UserWarning: 'verbose' argument is deprecated and will be removed in a future release of LightGBM. Pass 'log_evaluation()' callback via 'callbacks' argument instead.\n",
      "  _log_warning(\"'verbose' argument is deprecated and will be removed in a future release of LightGBM. \"\n",
      "D:\\source\\repos\\venv\\Python310\\lib\\site-packages\\lightgbm\\basic.py:179: UserWarning: Converting column-vector to 1d array\n",
      "  _log_warning('Converting column-vector to 1d array')\n",
      "\u001b[32m[I 2023-01-16 08:40:54,493]\u001b[0m Trial 217 finished with value: 0.8747455142145002 and parameters: {'learning_rate': 0.012180899637141463, 'max_depth': 205, 'num_leaves': 6813, 'colsample_bytree': 0.580386274212887, 'subsample': 0.9632287159623683, 'subsample_freq': 5, 'min_child_samples': 16, 'reg_lambda': 79, 'n_estimators': 45668}. Best is trial 205 with value: 0.8959219642026134.\u001b[0m\n"
     ]
    },
    {
     "name": "stdout",
     "output_type": "stream",
     "text": [
      "Early stopping, best iteration is:\n",
      "[40]\tvalid_0's auc: 0.874746\n",
      "0.8747455142145002\n",
      "Training until validation scores don't improve for 100 rounds\n"
     ]
    },
    {
     "name": "stderr",
     "output_type": "stream",
     "text": [
      "D:\\source\\repos\\venv\\Python310\\lib\\site-packages\\sklearn\\utils\\validation.py:1141: DataConversionWarning: A column-vector y was passed when a 1d array was expected. Please change the shape of y to (n_samples, ), for example using ravel().\n",
      "  y = column_or_1d(y, warn=True)\n",
      "D:\\source\\repos\\venv\\Python310\\lib\\site-packages\\lightgbm\\sklearn.py:736: UserWarning: 'verbose' argument is deprecated and will be removed in a future release of LightGBM. Pass 'log_evaluation()' callback via 'callbacks' argument instead.\n",
      "  _log_warning(\"'verbose' argument is deprecated and will be removed in a future release of LightGBM. \"\n",
      "D:\\source\\repos\\venv\\Python310\\lib\\site-packages\\lightgbm\\basic.py:179: UserWarning: Converting column-vector to 1d array\n",
      "  _log_warning('Converting column-vector to 1d array')\n",
      "\u001b[32m[I 2023-01-16 08:40:54,846]\u001b[0m Trial 218 finished with value: 0.8828291209187147 and parameters: {'learning_rate': 0.00866394222215534, 'max_depth': 221, 'num_leaves': 6906, 'colsample_bytree': 0.5961271421104055, 'subsample': 0.9175210830781296, 'subsample_freq': 5, 'min_child_samples': 86, 'reg_lambda': 81, 'n_estimators': 48760}. Best is trial 205 with value: 0.8959219642026134.\u001b[0m\n"
     ]
    },
    {
     "name": "stdout",
     "output_type": "stream",
     "text": [
      "Early stopping, best iteration is:\n",
      "[55]\tvalid_0's auc: 0.882829\n",
      "0.8828291209187147\n",
      "Training until validation scores don't improve for 100 rounds\n"
     ]
    },
    {
     "name": "stderr",
     "output_type": "stream",
     "text": [
      "D:\\source\\repos\\venv\\Python310\\lib\\site-packages\\sklearn\\utils\\validation.py:1141: DataConversionWarning: A column-vector y was passed when a 1d array was expected. Please change the shape of y to (n_samples, ), for example using ravel().\n",
      "  y = column_or_1d(y, warn=True)\n",
      "D:\\source\\repos\\venv\\Python310\\lib\\site-packages\\lightgbm\\sklearn.py:736: UserWarning: 'verbose' argument is deprecated and will be removed in a future release of LightGBM. Pass 'log_evaluation()' callback via 'callbacks' argument instead.\n",
      "  _log_warning(\"'verbose' argument is deprecated and will be removed in a future release of LightGBM. \"\n",
      "D:\\source\\repos\\venv\\Python310\\lib\\site-packages\\lightgbm\\basic.py:179: UserWarning: Converting column-vector to 1d array\n",
      "  _log_warning('Converting column-vector to 1d array')\n",
      "\u001b[32m[I 2023-01-16 08:40:55,331]\u001b[0m Trial 219 finished with value: 0.8850562714119946 and parameters: {'learning_rate': 0.010382440794235944, 'max_depth': 234, 'num_leaves': 7269, 'colsample_bytree': 0.560674295845803, 'subsample': 0.42251216680034787, 'subsample_freq': 5, 'min_child_samples': 70, 'reg_lambda': 83, 'n_estimators': 38981}. Best is trial 205 with value: 0.8959219642026134.\u001b[0m\n"
     ]
    },
    {
     "name": "stdout",
     "output_type": "stream",
     "text": [
      "Early stopping, best iteration is:\n",
      "[185]\tvalid_0's auc: 0.885056\n",
      "0.8850562714119946\n",
      "Training until validation scores don't improve for 100 rounds\n"
     ]
    },
    {
     "name": "stderr",
     "output_type": "stream",
     "text": [
      "D:\\source\\repos\\venv\\Python310\\lib\\site-packages\\sklearn\\utils\\validation.py:1141: DataConversionWarning: A column-vector y was passed when a 1d array was expected. Please change the shape of y to (n_samples, ), for example using ravel().\n",
      "  y = column_or_1d(y, warn=True)\n",
      "D:\\source\\repos\\venv\\Python310\\lib\\site-packages\\lightgbm\\sklearn.py:736: UserWarning: 'verbose' argument is deprecated and will be removed in a future release of LightGBM. Pass 'log_evaluation()' callback via 'callbacks' argument instead.\n",
      "  _log_warning(\"'verbose' argument is deprecated and will be removed in a future release of LightGBM. \"\n",
      "D:\\source\\repos\\venv\\Python310\\lib\\site-packages\\lightgbm\\basic.py:179: UserWarning: Converting column-vector to 1d array\n",
      "  _log_warning('Converting column-vector to 1d array')\n",
      "\u001b[32m[I 2023-01-16 08:40:56,532]\u001b[0m Trial 220 finished with value: 0.8813801598403078 and parameters: {'learning_rate': 0.0030518247624577825, 'max_depth': 256, 'num_leaves': 6749, 'colsample_bytree': 0.5028980108167217, 'subsample': 0.948548349596585, 'subsample_freq': 5, 'min_child_samples': 98, 'reg_lambda': 81, 'n_estimators': 42960}. Best is trial 205 with value: 0.8959219642026134.\u001b[0m\n"
     ]
    },
    {
     "name": "stdout",
     "output_type": "stream",
     "text": [
      "Early stopping, best iteration is:\n",
      "[508]\tvalid_0's auc: 0.88138\n",
      "0.8813801598403078\n",
      "Training until validation scores don't improve for 100 rounds\n"
     ]
    },
    {
     "name": "stderr",
     "output_type": "stream",
     "text": [
      "D:\\source\\repos\\venv\\Python310\\lib\\site-packages\\sklearn\\utils\\validation.py:1141: DataConversionWarning: A column-vector y was passed when a 1d array was expected. Please change the shape of y to (n_samples, ), for example using ravel().\n",
      "  y = column_or_1d(y, warn=True)\n",
      "D:\\source\\repos\\venv\\Python310\\lib\\site-packages\\lightgbm\\sklearn.py:736: UserWarning: 'verbose' argument is deprecated and will be removed in a future release of LightGBM. Pass 'log_evaluation()' callback via 'callbacks' argument instead.\n",
      "  _log_warning(\"'verbose' argument is deprecated and will be removed in a future release of LightGBM. \"\n",
      "D:\\source\\repos\\venv\\Python310\\lib\\site-packages\\lightgbm\\basic.py:179: UserWarning: Converting column-vector to 1d array\n",
      "  _log_warning('Converting column-vector to 1d array')\n",
      "\u001b[32m[I 2023-01-16 08:40:56,877]\u001b[0m Trial 221 finished with value: 0.8650338046020594 and parameters: {'learning_rate': 0.013648234113909804, 'max_depth': 202, 'num_leaves': 7070, 'colsample_bytree': 0.5880902270426853, 'subsample': 0.9573462562859908, 'subsample_freq': 5, 'min_child_samples': 88, 'reg_lambda': 74, 'n_estimators': 46422}. Best is trial 205 with value: 0.8959219642026134.\u001b[0m\n"
     ]
    },
    {
     "name": "stdout",
     "output_type": "stream",
     "text": [
      "Early stopping, best iteration is:\n",
      "[41]\tvalid_0's auc: 0.865034\n",
      "0.8650338046020594\n",
      "Training until validation scores don't improve for 100 rounds\n"
     ]
    },
    {
     "name": "stderr",
     "output_type": "stream",
     "text": [
      "D:\\source\\repos\\venv\\Python310\\lib\\site-packages\\sklearn\\utils\\validation.py:1141: DataConversionWarning: A column-vector y was passed when a 1d array was expected. Please change the shape of y to (n_samples, ), for example using ravel().\n",
      "  y = column_or_1d(y, warn=True)\n",
      "D:\\source\\repos\\venv\\Python310\\lib\\site-packages\\lightgbm\\sklearn.py:736: UserWarning: 'verbose' argument is deprecated and will be removed in a future release of LightGBM. Pass 'log_evaluation()' callback via 'callbacks' argument instead.\n",
      "  _log_warning(\"'verbose' argument is deprecated and will be removed in a future release of LightGBM. \"\n",
      "D:\\source\\repos\\venv\\Python310\\lib\\site-packages\\lightgbm\\basic.py:179: UserWarning: Converting column-vector to 1d array\n",
      "  _log_warning('Converting column-vector to 1d array')\n",
      "\u001b[32m[I 2023-01-16 08:40:57,292]\u001b[0m Trial 222 finished with value: 0.8764392800114759 and parameters: {'learning_rate': 0.009277873187666867, 'max_depth': 190, 'num_leaves': 6630, 'colsample_bytree': 0.6149013173765666, 'subsample': 0.9408056957390319, 'subsample_freq': 5, 'min_child_samples': 60, 'reg_lambda': 76, 'n_estimators': 40652}. Best is trial 205 with value: 0.8959219642026134.\u001b[0m\n"
     ]
    },
    {
     "name": "stdout",
     "output_type": "stream",
     "text": [
      "Early stopping, best iteration is:\n",
      "[56]\tvalid_0's auc: 0.876439\n",
      "0.8764392800114759\n",
      "Training until validation scores don't improve for 100 rounds\n"
     ]
    },
    {
     "name": "stderr",
     "output_type": "stream",
     "text": [
      "D:\\source\\repos\\venv\\Python310\\lib\\site-packages\\sklearn\\utils\\validation.py:1141: DataConversionWarning: A column-vector y was passed when a 1d array was expected. Please change the shape of y to (n_samples, ), for example using ravel().\n",
      "  y = column_or_1d(y, warn=True)\n",
      "D:\\source\\repos\\venv\\Python310\\lib\\site-packages\\lightgbm\\sklearn.py:736: UserWarning: 'verbose' argument is deprecated and will be removed in a future release of LightGBM. Pass 'log_evaluation()' callback via 'callbacks' argument instead.\n",
      "  _log_warning(\"'verbose' argument is deprecated and will be removed in a future release of LightGBM. \"\n",
      "D:\\source\\repos\\venv\\Python310\\lib\\site-packages\\lightgbm\\basic.py:179: UserWarning: Converting column-vector to 1d array\n",
      "  _log_warning('Converting column-vector to 1d array')\n",
      "\u001b[32m[I 2023-01-16 08:40:58,059]\u001b[0m Trial 223 finished with value: 0.8820047991153357 and parameters: {'learning_rate': 0.005345580818134842, 'max_depth': 173, 'num_leaves': 6537, 'colsample_bytree': 0.5571660387093522, 'subsample': 0.9679042081490891, 'subsample_freq': 5, 'min_child_samples': 158, 'reg_lambda': 78, 'n_estimators': 13128}. Best is trial 205 with value: 0.8959219642026134.\u001b[0m\n"
     ]
    },
    {
     "name": "stdout",
     "output_type": "stream",
     "text": [
      "Early stopping, best iteration is:\n",
      "[345]\tvalid_0's auc: 0.882005\n",
      "0.8820047991153357\n",
      "Training until validation scores don't improve for 100 rounds\n"
     ]
    },
    {
     "name": "stderr",
     "output_type": "stream",
     "text": [
      "D:\\source\\repos\\venv\\Python310\\lib\\site-packages\\sklearn\\utils\\validation.py:1141: DataConversionWarning: A column-vector y was passed when a 1d array was expected. Please change the shape of y to (n_samples, ), for example using ravel().\n",
      "  y = column_or_1d(y, warn=True)\n",
      "D:\\source\\repos\\venv\\Python310\\lib\\site-packages\\lightgbm\\sklearn.py:736: UserWarning: 'verbose' argument is deprecated and will be removed in a future release of LightGBM. Pass 'log_evaluation()' callback via 'callbacks' argument instead.\n",
      "  _log_warning(\"'verbose' argument is deprecated and will be removed in a future release of LightGBM. \"\n",
      "D:\\source\\repos\\venv\\Python310\\lib\\site-packages\\lightgbm\\basic.py:179: UserWarning: Converting column-vector to 1d array\n",
      "  _log_warning('Converting column-vector to 1d array')\n",
      "\u001b[32m[I 2023-01-16 08:40:58,476]\u001b[0m Trial 224 finished with value: 0.8815017203676851 and parameters: {'learning_rate': 0.0114384253024459, 'max_depth': 679, 'num_leaves': 6157, 'colsample_bytree': 0.6388477737703121, 'subsample': 0.926436779989349, 'subsample_freq': 5, 'min_child_samples': 114, 'reg_lambda': 72, 'n_estimators': 44829}. Best is trial 205 with value: 0.8959219642026134.\u001b[0m\n"
     ]
    },
    {
     "name": "stdout",
     "output_type": "stream",
     "text": [
      "Early stopping, best iteration is:\n",
      "[94]\tvalid_0's auc: 0.881502\n",
      "0.8815017203676851\n",
      "Training until validation scores don't improve for 100 rounds\n"
     ]
    },
    {
     "name": "stderr",
     "output_type": "stream",
     "text": [
      "D:\\source\\repos\\venv\\Python310\\lib\\site-packages\\sklearn\\utils\\validation.py:1141: DataConversionWarning: A column-vector y was passed when a 1d array was expected. Please change the shape of y to (n_samples, ), for example using ravel().\n",
      "  y = column_or_1d(y, warn=True)\n",
      "D:\\source\\repos\\venv\\Python310\\lib\\site-packages\\lightgbm\\sklearn.py:736: UserWarning: 'verbose' argument is deprecated and will be removed in a future release of LightGBM. Pass 'log_evaluation()' callback via 'callbacks' argument instead.\n",
      "  _log_warning(\"'verbose' argument is deprecated and will be removed in a future release of LightGBM. \"\n",
      "D:\\source\\repos\\venv\\Python310\\lib\\site-packages\\lightgbm\\basic.py:179: UserWarning: Converting column-vector to 1d array\n",
      "  _log_warning('Converting column-vector to 1d array')\n",
      "\u001b[32m[I 2023-01-16 08:40:58,843]\u001b[0m Trial 225 finished with value: 0.8845478049401392 and parameters: {'learning_rate': 0.007624157725353303, 'max_depth': 237, 'num_leaves': 6878, 'colsample_bytree': 0.622527915753291, 'subsample': 0.9831007682873244, 'subsample_freq': 5, 'min_child_samples': 79, 'reg_lambda': 74, 'n_estimators': 48997}. Best is trial 205 with value: 0.8959219642026134.\u001b[0m\n"
     ]
    },
    {
     "name": "stdout",
     "output_type": "stream",
     "text": [
      "Early stopping, best iteration is:\n",
      "[46]\tvalid_0's auc: 0.884548\n",
      "0.8845478049401392\n",
      "Training until validation scores don't improve for 100 rounds\n"
     ]
    },
    {
     "name": "stderr",
     "output_type": "stream",
     "text": [
      "D:\\source\\repos\\venv\\Python310\\lib\\site-packages\\sklearn\\utils\\validation.py:1141: DataConversionWarning: A column-vector y was passed when a 1d array was expected. Please change the shape of y to (n_samples, ), for example using ravel().\n",
      "  y = column_or_1d(y, warn=True)\n",
      "D:\\source\\repos\\venv\\Python310\\lib\\site-packages\\lightgbm\\sklearn.py:736: UserWarning: 'verbose' argument is deprecated and will be removed in a future release of LightGBM. Pass 'log_evaluation()' callback via 'callbacks' argument instead.\n",
      "  _log_warning(\"'verbose' argument is deprecated and will be removed in a future release of LightGBM. \"\n",
      "D:\\source\\repos\\venv\\Python310\\lib\\site-packages\\lightgbm\\basic.py:179: UserWarning: Converting column-vector to 1d array\n",
      "  _log_warning('Converting column-vector to 1d array')\n",
      "\u001b[32m[I 2023-01-16 08:40:59,190]\u001b[0m Trial 226 finished with value: 0.8724961393588743 and parameters: {'learning_rate': 0.013405573233523505, 'max_depth': 193, 'num_leaves': 6420, 'colsample_bytree': 0.593617362899369, 'subsample': 0.9080678180285374, 'subsample_freq': 6, 'min_child_samples': 125, 'reg_lambda': 80, 'n_estimators': 42048}. Best is trial 205 with value: 0.8959219642026134.\u001b[0m\n"
     ]
    },
    {
     "name": "stdout",
     "output_type": "stream",
     "text": [
      "Early stopping, best iteration is:\n",
      "[43]\tvalid_0's auc: 0.872496\n",
      "0.8724961393588743\n",
      "Training until validation scores don't improve for 100 rounds\n"
     ]
    },
    {
     "name": "stderr",
     "output_type": "stream",
     "text": [
      "D:\\source\\repos\\venv\\Python310\\lib\\site-packages\\sklearn\\utils\\validation.py:1141: DataConversionWarning: A column-vector y was passed when a 1d array was expected. Please change the shape of y to (n_samples, ), for example using ravel().\n",
      "  y = column_or_1d(y, warn=True)\n",
      "D:\\source\\repos\\venv\\Python310\\lib\\site-packages\\lightgbm\\sklearn.py:736: UserWarning: 'verbose' argument is deprecated and will be removed in a future release of LightGBM. Pass 'log_evaluation()' callback via 'callbacks' argument instead.\n",
      "  _log_warning(\"'verbose' argument is deprecated and will be removed in a future release of LightGBM. \"\n",
      "D:\\source\\repos\\venv\\Python310\\lib\\site-packages\\lightgbm\\basic.py:179: UserWarning: Converting column-vector to 1d array\n",
      "  _log_warning('Converting column-vector to 1d array')\n",
      "\u001b[32m[I 2023-01-16 08:40:59,532]\u001b[0m Trial 227 finished with value: 0.8734474094138358 and parameters: {'learning_rate': 0.01055711911685875, 'max_depth': 172, 'num_leaves': 5810, 'colsample_bytree': 0.5700873533026468, 'subsample': 0.9494321838120369, 'subsample_freq': 5, 'min_child_samples': 102, 'reg_lambda': 76, 'n_estimators': 38461}. Best is trial 205 with value: 0.8959219642026134.\u001b[0m\n"
     ]
    },
    {
     "name": "stdout",
     "output_type": "stream",
     "text": [
      "Early stopping, best iteration is:\n",
      "[40]\tvalid_0's auc: 0.873447\n",
      "0.8734474094138358\n",
      "Training until validation scores don't improve for 100 rounds\n"
     ]
    },
    {
     "name": "stderr",
     "output_type": "stream",
     "text": [
      "D:\\source\\repos\\venv\\Python310\\lib\\site-packages\\sklearn\\utils\\validation.py:1141: DataConversionWarning: A column-vector y was passed when a 1d array was expected. Please change the shape of y to (n_samples, ), for example using ravel().\n",
      "  y = column_or_1d(y, warn=True)\n",
      "D:\\source\\repos\\venv\\Python310\\lib\\site-packages\\lightgbm\\sklearn.py:736: UserWarning: 'verbose' argument is deprecated and will be removed in a future release of LightGBM. Pass 'log_evaluation()' callback via 'callbacks' argument instead.\n",
      "  _log_warning(\"'verbose' argument is deprecated and will be removed in a future release of LightGBM. \"\n",
      "D:\\source\\repos\\venv\\Python310\\lib\\site-packages\\lightgbm\\basic.py:179: UserWarning: Converting column-vector to 1d array\n",
      "  _log_warning('Converting column-vector to 1d array')\n",
      "\u001b[32m[I 2023-01-16 08:40:59,947]\u001b[0m Trial 228 finished with value: 0.8699160929301611 and parameters: {'learning_rate': 0.015717428379277476, 'max_depth': 218, 'num_leaves': 6037, 'colsample_bytree': 0.5278155552118713, 'subsample': 0.9291594678857489, 'subsample_freq': 5, 'min_child_samples': 49, 'reg_lambda': 70, 'n_estimators': 19753}. Best is trial 205 with value: 0.8959219642026134.\u001b[0m\n"
     ]
    },
    {
     "name": "stdout",
     "output_type": "stream",
     "text": [
      "Early stopping, best iteration is:\n",
      "[40]\tvalid_0's auc: 0.869916\n",
      "0.8699160929301611\n",
      "Training until validation scores don't improve for 100 rounds\n"
     ]
    },
    {
     "name": "stderr",
     "output_type": "stream",
     "text": [
      "D:\\source\\repos\\venv\\Python310\\lib\\site-packages\\sklearn\\utils\\validation.py:1141: DataConversionWarning: A column-vector y was passed when a 1d array was expected. Please change the shape of y to (n_samples, ), for example using ravel().\n",
      "  y = column_or_1d(y, warn=True)\n",
      "D:\\source\\repos\\venv\\Python310\\lib\\site-packages\\lightgbm\\sklearn.py:736: UserWarning: 'verbose' argument is deprecated and will be removed in a future release of LightGBM. Pass 'log_evaluation()' callback via 'callbacks' argument instead.\n",
      "  _log_warning(\"'verbose' argument is deprecated and will be removed in a future release of LightGBM. \"\n",
      "D:\\source\\repos\\venv\\Python310\\lib\\site-packages\\lightgbm\\basic.py:179: UserWarning: Converting column-vector to 1d array\n",
      "  _log_warning('Converting column-vector to 1d array')\n",
      "\u001b[32m[I 2023-01-16 08:41:00,658]\u001b[0m Trial 229 finished with value: 0.8751182773829398 and parameters: {'learning_rate': 0.007193969338792308, 'max_depth': 168, 'num_leaves': 6763, 'colsample_bytree': 0.6617345234023542, 'subsample': 0.9690546299917904, 'subsample_freq': 5, 'min_child_samples': 151, 'reg_lambda': 78, 'n_estimators': 47845}. Best is trial 205 with value: 0.8959219642026134.\u001b[0m\n"
     ]
    },
    {
     "name": "stdout",
     "output_type": "stream",
     "text": [
      "Early stopping, best iteration is:\n",
      "[260]\tvalid_0's auc: 0.875118\n",
      "0.8751182773829398\n",
      "Training until validation scores don't improve for 100 rounds\n"
     ]
    },
    {
     "name": "stderr",
     "output_type": "stream",
     "text": [
      "D:\\source\\repos\\venv\\Python310\\lib\\site-packages\\sklearn\\utils\\validation.py:1141: DataConversionWarning: A column-vector y was passed when a 1d array was expected. Please change the shape of y to (n_samples, ), for example using ravel().\n",
      "  y = column_or_1d(y, warn=True)\n",
      "D:\\source\\repos\\venv\\Python310\\lib\\site-packages\\lightgbm\\sklearn.py:736: UserWarning: 'verbose' argument is deprecated and will be removed in a future release of LightGBM. Pass 'log_evaluation()' callback via 'callbacks' argument instead.\n",
      "  _log_warning(\"'verbose' argument is deprecated and will be removed in a future release of LightGBM. \"\n",
      "D:\\source\\repos\\venv\\Python310\\lib\\site-packages\\lightgbm\\basic.py:179: UserWarning: Converting column-vector to 1d array\n",
      "  _log_warning('Converting column-vector to 1d array')\n",
      "\u001b[32m[I 2023-01-16 08:41:01,056]\u001b[0m Trial 230 finished with value: 0.8824688168624992 and parameters: {'learning_rate': 0.014398539943796192, 'max_depth': 728, 'num_leaves': 7378, 'colsample_bytree': 0.7305813430018486, 'subsample': 0.8622399110069354, 'subsample_freq': 5, 'min_child_samples': 71, 'reg_lambda': 74, 'n_estimators': 41845}. Best is trial 205 with value: 0.8959219642026134.\u001b[0m\n"
     ]
    },
    {
     "name": "stdout",
     "output_type": "stream",
     "text": [
      "Early stopping, best iteration is:\n",
      "[70]\tvalid_0's auc: 0.882469\n",
      "0.8824688168624992\n",
      "Training until validation scores don't improve for 100 rounds\n"
     ]
    },
    {
     "name": "stderr",
     "output_type": "stream",
     "text": [
      "D:\\source\\repos\\venv\\Python310\\lib\\site-packages\\sklearn\\utils\\validation.py:1141: DataConversionWarning: A column-vector y was passed when a 1d array was expected. Please change the shape of y to (n_samples, ), for example using ravel().\n",
      "  y = column_or_1d(y, warn=True)\n",
      "D:\\source\\repos\\venv\\Python310\\lib\\site-packages\\lightgbm\\sklearn.py:736: UserWarning: 'verbose' argument is deprecated and will be removed in a future release of LightGBM. Pass 'log_evaluation()' callback via 'callbacks' argument instead.\n",
      "  _log_warning(\"'verbose' argument is deprecated and will be removed in a future release of LightGBM. \"\n",
      "D:\\source\\repos\\venv\\Python310\\lib\\site-packages\\lightgbm\\basic.py:179: UserWarning: Converting column-vector to 1d array\n",
      "  _log_warning('Converting column-vector to 1d array')\n",
      "\u001b[32m[I 2023-01-16 08:41:01,398]\u001b[0m Trial 231 finished with value: 0.8709892602452627 and parameters: {'learning_rate': 0.016658280039816117, 'max_depth': 145, 'num_leaves': 7605, 'colsample_bytree': 0.6743016902457829, 'subsample': 0.8975803170067762, 'subsample_freq': 4, 'min_child_samples': 102, 'reg_lambda': 72, 'n_estimators': 37182}. Best is trial 205 with value: 0.8959219642026134.\u001b[0m\n"
     ]
    },
    {
     "name": "stdout",
     "output_type": "stream",
     "text": [
      "Early stopping, best iteration is:\n",
      "[34]\tvalid_0's auc: 0.870989\n",
      "0.8709892602452627\n",
      "Training until validation scores don't improve for 100 rounds\n"
     ]
    },
    {
     "name": "stderr",
     "output_type": "stream",
     "text": [
      "D:\\source\\repos\\venv\\Python310\\lib\\site-packages\\sklearn\\utils\\validation.py:1141: DataConversionWarning: A column-vector y was passed when a 1d array was expected. Please change the shape of y to (n_samples, ), for example using ravel().\n",
      "  y = column_or_1d(y, warn=True)\n",
      "D:\\source\\repos\\venv\\Python310\\lib\\site-packages\\lightgbm\\sklearn.py:736: UserWarning: 'verbose' argument is deprecated and will be removed in a future release of LightGBM. Pass 'log_evaluation()' callback via 'callbacks' argument instead.\n",
      "  _log_warning(\"'verbose' argument is deprecated and will be removed in a future release of LightGBM. \"\n",
      "D:\\source\\repos\\venv\\Python310\\lib\\site-packages\\lightgbm\\basic.py:179: UserWarning: Converting column-vector to 1d array\n",
      "  _log_warning('Converting column-vector to 1d array')\n",
      "\u001b[32m[I 2023-01-16 08:41:01,668]\u001b[0m Trial 232 finished with value: 0.875481275301258 and parameters: {'learning_rate': 0.01262259033132632, 'max_depth': 287, 'num_leaves': 7167, 'colsample_bytree': 0.6927458253270714, 'subsample': 0.9500247474591796, 'subsample_freq': 4, 'min_child_samples': 135, 'reg_lambda': 82, 'n_estimators': 38407}. Best is trial 205 with value: 0.8959219642026134.\u001b[0m\n"
     ]
    },
    {
     "name": "stdout",
     "output_type": "stream",
     "text": [
      "Early stopping, best iteration is:\n",
      "[33]\tvalid_0's auc: 0.875481\n",
      "0.875481275301258\n",
      "Training until validation scores don't improve for 100 rounds\n"
     ]
    },
    {
     "name": "stderr",
     "output_type": "stream",
     "text": [
      "D:\\source\\repos\\venv\\Python310\\lib\\site-packages\\sklearn\\utils\\validation.py:1141: DataConversionWarning: A column-vector y was passed when a 1d array was expected. Please change the shape of y to (n_samples, ), for example using ravel().\n",
      "  y = column_or_1d(y, warn=True)\n",
      "D:\\source\\repos\\venv\\Python310\\lib\\site-packages\\lightgbm\\sklearn.py:736: UserWarning: 'verbose' argument is deprecated and will be removed in a future release of LightGBM. Pass 'log_evaluation()' callback via 'callbacks' argument instead.\n",
      "  _log_warning(\"'verbose' argument is deprecated and will be removed in a future release of LightGBM. \"\n",
      "D:\\source\\repos\\venv\\Python310\\lib\\site-packages\\lightgbm\\basic.py:179: UserWarning: Converting column-vector to 1d array\n",
      "  _log_warning('Converting column-vector to 1d array')\n",
      "\u001b[32m[I 2023-01-16 08:41:01,916]\u001b[0m Trial 233 finished with value: 0.889922396567481 and parameters: {'learning_rate': 0.01402775871344895, 'max_depth': 192, 'num_leaves': 7550, 'colsample_bytree': 0.715282807522233, 'subsample': 0.9177044915756196, 'subsample_freq': 4, 'min_child_samples': 112, 'reg_lambda': 69, 'n_estimators': 39556}. Best is trial 205 with value: 0.8959219642026134.\u001b[0m\n"
     ]
    },
    {
     "name": "stdout",
     "output_type": "stream",
     "text": [
      "Early stopping, best iteration is:\n",
      "[5]\tvalid_0's auc: 0.889922\n",
      "0.889922396567481\n",
      "Training until validation scores don't improve for 100 rounds\n"
     ]
    },
    {
     "name": "stderr",
     "output_type": "stream",
     "text": [
      "D:\\source\\repos\\venv\\Python310\\lib\\site-packages\\sklearn\\utils\\validation.py:1141: DataConversionWarning: A column-vector y was passed when a 1d array was expected. Please change the shape of y to (n_samples, ), for example using ravel().\n",
      "  y = column_or_1d(y, warn=True)\n",
      "D:\\source\\repos\\venv\\Python310\\lib\\site-packages\\lightgbm\\sklearn.py:736: UserWarning: 'verbose' argument is deprecated and will be removed in a future release of LightGBM. Pass 'log_evaluation()' callback via 'callbacks' argument instead.\n",
      "  _log_warning(\"'verbose' argument is deprecated and will be removed in a future release of LightGBM. \"\n",
      "D:\\source\\repos\\venv\\Python310\\lib\\site-packages\\lightgbm\\basic.py:179: UserWarning: Converting column-vector to 1d array\n",
      "  _log_warning('Converting column-vector to 1d array')\n",
      "\u001b[32m[I 2023-01-16 08:41:02,332]\u001b[0m Trial 234 finished with value: 0.8819512586060475 and parameters: {'learning_rate': 0.01082769479343964, 'max_depth': 191, 'num_leaves': 6563, 'colsample_bytree': 0.7190217735359592, 'subsample': 0.9216977527134133, 'subsample_freq': 4, 'min_child_samples': 116, 'reg_lambda': 70, 'n_estimators': 40339}. Best is trial 205 with value: 0.8959219642026134.\u001b[0m\n"
     ]
    },
    {
     "name": "stdout",
     "output_type": "stream",
     "text": [
      "Early stopping, best iteration is:\n",
      "[115]\tvalid_0's auc: 0.881951\n",
      "0.8819512586060475\n",
      "Training until validation scores don't improve for 100 rounds\n"
     ]
    },
    {
     "name": "stderr",
     "output_type": "stream",
     "text": [
      "D:\\source\\repos\\venv\\Python310\\lib\\site-packages\\sklearn\\utils\\validation.py:1141: DataConversionWarning: A column-vector y was passed when a 1d array was expected. Please change the shape of y to (n_samples, ), for example using ravel().\n",
      "  y = column_or_1d(y, warn=True)\n",
      "D:\\source\\repos\\venv\\Python310\\lib\\site-packages\\lightgbm\\sklearn.py:736: UserWarning: 'verbose' argument is deprecated and will be removed in a future release of LightGBM. Pass 'log_evaluation()' callback via 'callbacks' argument instead.\n",
      "  _log_warning(\"'verbose' argument is deprecated and will be removed in a future release of LightGBM. \"\n",
      "D:\\source\\repos\\venv\\Python310\\lib\\site-packages\\lightgbm\\basic.py:179: UserWarning: Converting column-vector to 1d array\n",
      "  _log_warning('Converting column-vector to 1d array')\n",
      "\u001b[32m[I 2023-01-16 08:41:02,630]\u001b[0m Trial 235 finished with value: 0.8802298807225207 and parameters: {'learning_rate': 0.009174651844058872, 'max_depth': 210, 'num_leaves': 7020, 'colsample_bytree': 0.7125047298284399, 'subsample': 0.9378485908204142, 'subsample_freq': 2, 'min_child_samples': 87, 'reg_lambda': 75, 'n_estimators': 16879}. Best is trial 205 with value: 0.8959219642026134.\u001b[0m\n"
     ]
    },
    {
     "name": "stdout",
     "output_type": "stream",
     "text": [
      "Early stopping, best iteration is:\n",
      "[33]\tvalid_0's auc: 0.88023\n",
      "0.8802298807225207\n",
      "Training until validation scores don't improve for 100 rounds\n"
     ]
    },
    {
     "name": "stderr",
     "output_type": "stream",
     "text": [
      "D:\\source\\repos\\venv\\Python310\\lib\\site-packages\\sklearn\\utils\\validation.py:1141: DataConversionWarning: A column-vector y was passed when a 1d array was expected. Please change the shape of y to (n_samples, ), for example using ravel().\n",
      "  y = column_or_1d(y, warn=True)\n",
      "D:\\source\\repos\\venv\\Python310\\lib\\site-packages\\lightgbm\\sklearn.py:736: UserWarning: 'verbose' argument is deprecated and will be removed in a future release of LightGBM. Pass 'log_evaluation()' callback via 'callbacks' argument instead.\n",
      "  _log_warning(\"'verbose' argument is deprecated and will be removed in a future release of LightGBM. \"\n",
      "D:\\source\\repos\\venv\\Python310\\lib\\site-packages\\lightgbm\\basic.py:179: UserWarning: Converting column-vector to 1d array\n",
      "  _log_warning('Converting column-vector to 1d array')\n",
      "\u001b[32m[I 2023-01-16 08:41:02,955]\u001b[0m Trial 236 finished with value: 0.8828153148754392 and parameters: {'learning_rate': 0.018319510758140974, 'max_depth': 164, 'num_leaves': 7484, 'colsample_bytree': 0.8550199020833665, 'subsample': 0.9614006502185686, 'subsample_freq': 4, 'min_child_samples': 163, 'reg_lambda': 9, 'n_estimators': 44269}. Best is trial 205 with value: 0.8959219642026134.\u001b[0m\n"
     ]
    },
    {
     "name": "stdout",
     "output_type": "stream",
     "text": [
      "Early stopping, best iteration is:\n",
      "[36]\tvalid_0's auc: 0.882815\n",
      "0.8828153148754392\n",
      "Training until validation scores don't improve for 100 rounds\n"
     ]
    },
    {
     "name": "stderr",
     "output_type": "stream",
     "text": [
      "D:\\source\\repos\\venv\\Python310\\lib\\site-packages\\sklearn\\utils\\validation.py:1141: DataConversionWarning: A column-vector y was passed when a 1d array was expected. Please change the shape of y to (n_samples, ), for example using ravel().\n",
      "  y = column_or_1d(y, warn=True)\n",
      "D:\\source\\repos\\venv\\Python310\\lib\\site-packages\\lightgbm\\sklearn.py:736: UserWarning: 'verbose' argument is deprecated and will be removed in a future release of LightGBM. Pass 'log_evaluation()' callback via 'callbacks' argument instead.\n",
      "  _log_warning(\"'verbose' argument is deprecated and will be removed in a future release of LightGBM. \"\n",
      "D:\\source\\repos\\venv\\Python310\\lib\\site-packages\\lightgbm\\basic.py:179: UserWarning: Converting column-vector to 1d array\n",
      "  _log_warning('Converting column-vector to 1d array')\n",
      "\u001b[32m[I 2023-01-16 08:41:03,330]\u001b[0m Trial 237 finished with value: 0.8725658430407776 and parameters: {'learning_rate': 0.013909998023392454, 'max_depth': 955, 'num_leaves': 5549, 'colsample_bytree': 0.6526004386926063, 'subsample': 0.9108507924073028, 'subsample_freq': 4, 'min_child_samples': 132, 'reg_lambda': 12, 'n_estimators': 40086}. Best is trial 205 with value: 0.8959219642026134.\u001b[0m\n"
     ]
    },
    {
     "name": "stdout",
     "output_type": "stream",
     "text": [
      "Early stopping, best iteration is:\n",
      "[44]\tvalid_0's auc: 0.872566\n",
      "0.8725658430407776\n",
      "Training until validation scores don't improve for 100 rounds\n"
     ]
    },
    {
     "name": "stderr",
     "output_type": "stream",
     "text": [
      "D:\\source\\repos\\venv\\Python310\\lib\\site-packages\\sklearn\\utils\\validation.py:1141: DataConversionWarning: A column-vector y was passed when a 1d array was expected. Please change the shape of y to (n_samples, ), for example using ravel().\n",
      "  y = column_or_1d(y, warn=True)\n",
      "D:\\source\\repos\\venv\\Python310\\lib\\site-packages\\lightgbm\\sklearn.py:736: UserWarning: 'verbose' argument is deprecated and will be removed in a future release of LightGBM. Pass 'log_evaluation()' callback via 'callbacks' argument instead.\n",
      "  _log_warning(\"'verbose' argument is deprecated and will be removed in a future release of LightGBM. \"\n",
      "D:\\source\\repos\\venv\\Python310\\lib\\site-packages\\lightgbm\\basic.py:179: UserWarning: Converting column-vector to 1d array\n",
      "  _log_warning('Converting column-vector to 1d array')\n",
      "\u001b[32m[I 2023-01-16 08:41:03,629]\u001b[0m Trial 238 finished with value: 0.8733406651280224 and parameters: {'learning_rate': 0.0039303696574476375, 'max_depth': 195, 'num_leaves': 6358, 'colsample_bytree': 0.7493205106595205, 'subsample': 0.9835170928283312, 'subsample_freq': 5, 'min_child_samples': 95, 'reg_lambda': 69, 'n_estimators': 45736}. Best is trial 205 with value: 0.8959219642026134.\u001b[0m\n"
     ]
    },
    {
     "name": "stdout",
     "output_type": "stream",
     "text": [
      "Early stopping, best iteration is:\n",
      "[41]\tvalid_0's auc: 0.873341\n",
      "0.8733406651280224\n",
      "Training until validation scores don't improve for 100 rounds\n"
     ]
    },
    {
     "name": "stderr",
     "output_type": "stream",
     "text": [
      "D:\\source\\repos\\venv\\Python310\\lib\\site-packages\\sklearn\\utils\\validation.py:1141: DataConversionWarning: A column-vector y was passed when a 1d array was expected. Please change the shape of y to (n_samples, ), for example using ravel().\n",
      "  y = column_or_1d(y, warn=True)\n",
      "D:\\source\\repos\\venv\\Python310\\lib\\site-packages\\lightgbm\\sklearn.py:736: UserWarning: 'verbose' argument is deprecated and will be removed in a future release of LightGBM. Pass 'log_evaluation()' callback via 'callbacks' argument instead.\n",
      "  _log_warning(\"'verbose' argument is deprecated and will be removed in a future release of LightGBM. \"\n",
      "D:\\source\\repos\\venv\\Python310\\lib\\site-packages\\lightgbm\\basic.py:179: UserWarning: Converting column-vector to 1d array\n",
      "  _log_warning('Converting column-vector to 1d array')\n",
      "\u001b[32m[I 2023-01-16 08:41:03,940]\u001b[0m Trial 239 finished with value: 0.874301363700343 and parameters: {'learning_rate': 0.011684937474220565, 'max_depth': 224, 'num_leaves': 5203, 'colsample_bytree': 0.7705197025319317, 'subsample': 0.9357281016167757, 'subsample_freq': 4, 'min_child_samples': 71, 'reg_lambda': 72, 'n_estimators': 42509}. Best is trial 205 with value: 0.8959219642026134.\u001b[0m\n"
     ]
    },
    {
     "name": "stdout",
     "output_type": "stream",
     "text": [
      "Early stopping, best iteration is:\n",
      "[43]\tvalid_0's auc: 0.874301\n",
      "0.874301363700343\n",
      "Training until validation scores don't improve for 100 rounds\n"
     ]
    },
    {
     "name": "stderr",
     "output_type": "stream",
     "text": [
      "D:\\source\\repos\\venv\\Python310\\lib\\site-packages\\sklearn\\utils\\validation.py:1141: DataConversionWarning: A column-vector y was passed when a 1d array was expected. Please change the shape of y to (n_samples, ), for example using ravel().\n",
      "  y = column_or_1d(y, warn=True)\n",
      "D:\\source\\repos\\venv\\Python310\\lib\\site-packages\\lightgbm\\sklearn.py:736: UserWarning: 'verbose' argument is deprecated and will be removed in a future release of LightGBM. Pass 'log_evaluation()' callback via 'callbacks' argument instead.\n",
      "  _log_warning(\"'verbose' argument is deprecated and will be removed in a future release of LightGBM. \"\n",
      "D:\\source\\repos\\venv\\Python310\\lib\\site-packages\\lightgbm\\basic.py:179: UserWarning: Converting column-vector to 1d array\n",
      "  _log_warning('Converting column-vector to 1d array')\n",
      "\u001b[32m[I 2023-01-16 08:41:04,584]\u001b[0m Trial 240 finished with value: 0.879906954002978 and parameters: {'learning_rate': 0.016221138537733087, 'max_depth': 183, 'num_leaves': 6913, 'colsample_bytree': 0.6359392665457761, 'subsample': 0.9674050341343164, 'subsample_freq': 4, 'min_child_samples': 35, 'reg_lambda': 40, 'n_estimators': 43798}. Best is trial 205 with value: 0.8959219642026134.\u001b[0m\n"
     ]
    },
    {
     "name": "stdout",
     "output_type": "stream",
     "text": [
      "Early stopping, best iteration is:\n",
      "[64]\tvalid_0's auc: 0.879907\n",
      "0.879906954002978\n",
      "Training until validation scores don't improve for 100 rounds\n"
     ]
    },
    {
     "name": "stderr",
     "output_type": "stream",
     "text": [
      "D:\\source\\repos\\venv\\Python310\\lib\\site-packages\\sklearn\\utils\\validation.py:1141: DataConversionWarning: A column-vector y was passed when a 1d array was expected. Please change the shape of y to (n_samples, ), for example using ravel().\n",
      "  y = column_or_1d(y, warn=True)\n",
      "D:\\source\\repos\\venv\\Python310\\lib\\site-packages\\lightgbm\\sklearn.py:736: UserWarning: 'verbose' argument is deprecated and will be removed in a future release of LightGBM. Pass 'log_evaluation()' callback via 'callbacks' argument instead.\n",
      "  _log_warning(\"'verbose' argument is deprecated and will be removed in a future release of LightGBM. \"\n",
      "D:\\source\\repos\\venv\\Python310\\lib\\site-packages\\lightgbm\\basic.py:179: UserWarning: Converting column-vector to 1d array\n",
      "  _log_warning('Converting column-vector to 1d array')\n",
      "\u001b[32m[I 2023-01-16 08:41:05,037]\u001b[0m Trial 241 finished with value: 0.8819091670106953 and parameters: {'learning_rate': 0.014590189665839783, 'max_depth': 153, 'num_leaves': 7759, 'colsample_bytree': 0.6806261779669207, 'subsample': 0.8887425293072366, 'subsample_freq': 4, 'min_child_samples': 115, 'reg_lambda': 77, 'n_estimators': 36383}. Best is trial 205 with value: 0.8959219642026134.\u001b[0m\n"
     ]
    },
    {
     "name": "stdout",
     "output_type": "stream",
     "text": [
      "Early stopping, best iteration is:\n",
      "[90]\tvalid_0's auc: 0.881909\n",
      "0.8819091670106953\n",
      "Training until validation scores don't improve for 100 rounds\n"
     ]
    },
    {
     "name": "stderr",
     "output_type": "stream",
     "text": [
      "D:\\source\\repos\\venv\\Python310\\lib\\site-packages\\sklearn\\utils\\validation.py:1141: DataConversionWarning: A column-vector y was passed when a 1d array was expected. Please change the shape of y to (n_samples, ), for example using ravel().\n",
      "  y = column_or_1d(y, warn=True)\n",
      "D:\\source\\repos\\venv\\Python310\\lib\\site-packages\\lightgbm\\sklearn.py:736: UserWarning: 'verbose' argument is deprecated and will be removed in a future release of LightGBM. Pass 'log_evaluation()' callback via 'callbacks' argument instead.\n",
      "  _log_warning(\"'verbose' argument is deprecated and will be removed in a future release of LightGBM. \"\n",
      "D:\\source\\repos\\venv\\Python310\\lib\\site-packages\\lightgbm\\basic.py:179: UserWarning: Converting column-vector to 1d array\n",
      "  _log_warning('Converting column-vector to 1d array')\n",
      "\u001b[32m[I 2023-01-16 08:41:05,369]\u001b[0m Trial 242 finished with value: 0.8797136693971204 and parameters: {'learning_rate': 0.012641802998579863, 'max_depth': 140, 'num_leaves': 7401, 'colsample_bytree': 0.6982657345241279, 'subsample': 0.8731150104436632, 'subsample_freq': 4, 'min_child_samples': 108, 'reg_lambda': 67, 'n_estimators': 38017}. Best is trial 205 with value: 0.8959219642026134.\u001b[0m\n"
     ]
    },
    {
     "name": "stdout",
     "output_type": "stream",
     "text": [
      "Early stopping, best iteration is:\n",
      "[58]\tvalid_0's auc: 0.879714\n",
      "0.8797136693971204\n",
      "Training until validation scores don't improve for 100 rounds\n"
     ]
    },
    {
     "name": "stderr",
     "output_type": "stream",
     "text": [
      "D:\\source\\repos\\venv\\Python310\\lib\\site-packages\\sklearn\\utils\\validation.py:1141: DataConversionWarning: A column-vector y was passed when a 1d array was expected. Please change the shape of y to (n_samples, ), for example using ravel().\n",
      "  y = column_or_1d(y, warn=True)\n",
      "D:\\source\\repos\\venv\\Python310\\lib\\site-packages\\lightgbm\\sklearn.py:736: UserWarning: 'verbose' argument is deprecated and will be removed in a future release of LightGBM. Pass 'log_evaluation()' callback via 'callbacks' argument instead.\n",
      "  _log_warning(\"'verbose' argument is deprecated and will be removed in a future release of LightGBM. \"\n",
      "D:\\source\\repos\\venv\\Python310\\lib\\site-packages\\lightgbm\\basic.py:179: UserWarning: Converting column-vector to 1d array\n",
      "  _log_warning('Converting column-vector to 1d array')\n",
      "\u001b[32m[I 2023-01-16 08:41:05,792]\u001b[0m Trial 243 finished with value: 0.8940638728173825 and parameters: {'learning_rate': 0.014886383395074849, 'max_depth': 705, 'num_leaves': 7637, 'colsample_bytree': 0.67849836870479, 'subsample': 0.9109262329463544, 'subsample_freq': 4, 'min_child_samples': 148, 'reg_lambda': 85, 'n_estimators': 39924}. Best is trial 205 with value: 0.8959219642026134.\u001b[0m\n"
     ]
    },
    {
     "name": "stdout",
     "output_type": "stream",
     "text": [
      "Early stopping, best iteration is:\n",
      "[106]\tvalid_0's auc: 0.894064\n",
      "0.8940638728173825\n",
      "Training until validation scores don't improve for 100 rounds\n"
     ]
    },
    {
     "name": "stderr",
     "output_type": "stream",
     "text": [
      "D:\\source\\repos\\venv\\Python310\\lib\\site-packages\\sklearn\\utils\\validation.py:1141: DataConversionWarning: A column-vector y was passed when a 1d array was expected. Please change the shape of y to (n_samples, ), for example using ravel().\n",
      "  y = column_or_1d(y, warn=True)\n",
      "D:\\source\\repos\\venv\\Python310\\lib\\site-packages\\lightgbm\\sklearn.py:736: UserWarning: 'verbose' argument is deprecated and will be removed in a future release of LightGBM. Pass 'log_evaluation()' callback via 'callbacks' argument instead.\n",
      "  _log_warning(\"'verbose' argument is deprecated and will be removed in a future release of LightGBM. \"\n",
      "D:\\source\\repos\\venv\\Python310\\lib\\site-packages\\lightgbm\\basic.py:179: UserWarning: Converting column-vector to 1d array\n",
      "  _log_warning('Converting column-vector to 1d array')\n",
      "\u001b[32m[I 2023-01-16 08:41:06,195]\u001b[0m Trial 244 finished with value: 0.8821300637031041 and parameters: {'learning_rate': 0.008760890293331788, 'max_depth': 685, 'num_leaves': 7269, 'colsample_bytree': 0.6637970180557264, 'subsample': 0.9156437498995046, 'subsample_freq': 4, 'min_child_samples': 143, 'reg_lambda': 85, 'n_estimators': 41596}. Best is trial 205 with value: 0.8959219642026134.\u001b[0m\n"
     ]
    },
    {
     "name": "stdout",
     "output_type": "stream",
     "text": [
      "Early stopping, best iteration is:\n",
      "[100]\tvalid_0's auc: 0.88213\n",
      "0.8821300637031041\n",
      "Training until validation scores don't improve for 100 rounds\n"
     ]
    },
    {
     "name": "stderr",
     "output_type": "stream",
     "text": [
      "D:\\source\\repos\\venv\\Python310\\lib\\site-packages\\sklearn\\utils\\validation.py:1141: DataConversionWarning: A column-vector y was passed when a 1d array was expected. Please change the shape of y to (n_samples, ), for example using ravel().\n",
      "  y = column_or_1d(y, warn=True)\n",
      "D:\\source\\repos\\venv\\Python310\\lib\\site-packages\\lightgbm\\sklearn.py:736: UserWarning: 'verbose' argument is deprecated and will be removed in a future release of LightGBM. Pass 'log_evaluation()' callback via 'callbacks' argument instead.\n",
      "  _log_warning(\"'verbose' argument is deprecated and will be removed in a future release of LightGBM. \"\n",
      "D:\\source\\repos\\venv\\Python310\\lib\\site-packages\\lightgbm\\basic.py:179: UserWarning: Converting column-vector to 1d array\n",
      "  _log_warning('Converting column-vector to 1d array')\n",
      "\u001b[32m[I 2023-01-16 08:41:06,524]\u001b[0m Trial 245 finished with value: 0.872852402621936 and parameters: {'learning_rate': 0.019599268263115956, 'max_depth': 701, 'num_leaves': 6623, 'colsample_bytree': 0.6133951654349212, 'subsample': 0.9515646091604464, 'subsample_freq': 5, 'min_child_samples': 179, 'reg_lambda': 44, 'n_estimators': 39984}. Best is trial 205 with value: 0.8959219642026134.\u001b[0m\n"
     ]
    },
    {
     "name": "stdout",
     "output_type": "stream",
     "text": [
      "Early stopping, best iteration is:\n",
      "[25]\tvalid_0's auc: 0.872852\n",
      "0.872852402621936\n",
      "Training until validation scores don't improve for 100 rounds\n"
     ]
    },
    {
     "name": "stderr",
     "output_type": "stream",
     "text": [
      "D:\\source\\repos\\venv\\Python310\\lib\\site-packages\\sklearn\\utils\\validation.py:1141: DataConversionWarning: A column-vector y was passed when a 1d array was expected. Please change the shape of y to (n_samples, ), for example using ravel().\n",
      "  y = column_or_1d(y, warn=True)\n",
      "D:\\source\\repos\\venv\\Python310\\lib\\site-packages\\lightgbm\\sklearn.py:736: UserWarning: 'verbose' argument is deprecated and will be removed in a future release of LightGBM. Pass 'log_evaluation()' callback via 'callbacks' argument instead.\n",
      "  _log_warning(\"'verbose' argument is deprecated and will be removed in a future release of LightGBM. \"\n",
      "D:\\source\\repos\\venv\\Python310\\lib\\site-packages\\lightgbm\\basic.py:179: UserWarning: Converting column-vector to 1d array\n",
      "  _log_warning('Converting column-vector to 1d array')\n",
      "\u001b[32m[I 2023-01-16 08:41:06,870]\u001b[0m Trial 246 finished with value: 0.8821953898590907 and parameters: {'learning_rate': 0.017355542931308997, 'max_depth': 203, 'num_leaves': 7076, 'colsample_bytree': 0.7240662369345658, 'subsample': 0.9040947200111696, 'subsample_freq': 4, 'min_child_samples': 516, 'reg_lambda': 83, 'n_estimators': 47030}. Best is trial 205 with value: 0.8959219642026134.\u001b[0m\n"
     ]
    },
    {
     "name": "stdout",
     "output_type": "stream",
     "text": [
      "Early stopping, best iteration is:\n",
      "[144]\tvalid_0's auc: 0.882195\n",
      "0.8821953898590907\n",
      "Training until validation scores don't improve for 100 rounds\n"
     ]
    },
    {
     "name": "stderr",
     "output_type": "stream",
     "text": [
      "D:\\source\\repos\\venv\\Python310\\lib\\site-packages\\sklearn\\utils\\validation.py:1141: DataConversionWarning: A column-vector y was passed when a 1d array was expected. Please change the shape of y to (n_samples, ), for example using ravel().\n",
      "  y = column_or_1d(y, warn=True)\n",
      "D:\\source\\repos\\venv\\Python310\\lib\\site-packages\\lightgbm\\sklearn.py:736: UserWarning: 'verbose' argument is deprecated and will be removed in a future release of LightGBM. Pass 'log_evaluation()' callback via 'callbacks' argument instead.\n",
      "  _log_warning(\"'verbose' argument is deprecated and will be removed in a future release of LightGBM. \"\n",
      "D:\\source\\repos\\venv\\Python310\\lib\\site-packages\\lightgbm\\basic.py:179: UserWarning: Converting column-vector to 1d array\n",
      "  _log_warning('Converting column-vector to 1d array')\n",
      "\u001b[32m[I 2023-01-16 08:41:07,541]\u001b[0m Trial 247 finished with value: 0.8752822662384323 and parameters: {'learning_rate': 0.010422827956982753, 'max_depth': 700, 'num_leaves': 6204, 'colsample_bytree': 0.6831326142830018, 'subsample': 0.9340350958178261, 'subsample_freq': 4, 'min_child_samples': 147, 'reg_lambda': 79, 'n_estimators': 39434}. Best is trial 205 with value: 0.8959219642026134.\u001b[0m\n"
     ]
    },
    {
     "name": "stdout",
     "output_type": "stream",
     "text": [
      "Early stopping, best iteration is:\n",
      "[297]\tvalid_0's auc: 0.875282\n",
      "0.8752822662384323\n",
      "Training until validation scores don't improve for 100 rounds\n"
     ]
    },
    {
     "name": "stderr",
     "output_type": "stream",
     "text": [
      "D:\\source\\repos\\venv\\Python310\\lib\\site-packages\\sklearn\\utils\\validation.py:1141: DataConversionWarning: A column-vector y was passed when a 1d array was expected. Please change the shape of y to (n_samples, ), for example using ravel().\n",
      "  y = column_or_1d(y, warn=True)\n",
      "D:\\source\\repos\\venv\\Python310\\lib\\site-packages\\lightgbm\\sklearn.py:736: UserWarning: 'verbose' argument is deprecated and will be removed in a future release of LightGBM. Pass 'log_evaluation()' callback via 'callbacks' argument instead.\n",
      "  _log_warning(\"'verbose' argument is deprecated and will be removed in a future release of LightGBM. \"\n",
      "D:\\source\\repos\\venv\\Python310\\lib\\site-packages\\lightgbm\\basic.py:179: UserWarning: Converting column-vector to 1d array\n",
      "  _log_warning('Converting column-vector to 1d array')\n",
      "\u001b[32m[I 2023-01-16 08:41:07,952]\u001b[0m Trial 248 finished with value: 0.8893654405777794 and parameters: {'learning_rate': 0.015124524181345715, 'max_depth': 746, 'num_leaves': 6759, 'colsample_bytree': 0.7048471559711733, 'subsample': 0.9229256356664739, 'subsample_freq': 1, 'min_child_samples': 128, 'reg_lambda': 86, 'n_estimators': 42151}. Best is trial 205 with value: 0.8959219642026134.\u001b[0m\n"
     ]
    },
    {
     "name": "stdout",
     "output_type": "stream",
     "text": [
      "Early stopping, best iteration is:\n",
      "[107]\tvalid_0's auc: 0.889365\n",
      "0.8893654405777794\n",
      "Training until validation scores don't improve for 100 rounds\n"
     ]
    },
    {
     "name": "stderr",
     "output_type": "stream",
     "text": [
      "D:\\source\\repos\\venv\\Python310\\lib\\site-packages\\sklearn\\utils\\validation.py:1141: DataConversionWarning: A column-vector y was passed when a 1d array was expected. Please change the shape of y to (n_samples, ), for example using ravel().\n",
      "  y = column_or_1d(y, warn=True)\n",
      "D:\\source\\repos\\venv\\Python310\\lib\\site-packages\\lightgbm\\sklearn.py:736: UserWarning: 'verbose' argument is deprecated and will be removed in a future release of LightGBM. Pass 'log_evaluation()' callback via 'callbacks' argument instead.\n",
      "  _log_warning(\"'verbose' argument is deprecated and will be removed in a future release of LightGBM. \"\n",
      "D:\\source\\repos\\venv\\Python310\\lib\\site-packages\\lightgbm\\basic.py:179: UserWarning: Converting column-vector to 1d array\n",
      "  _log_warning('Converting column-vector to 1d array')\n",
      "\u001b[32m[I 2023-01-16 08:41:08,255]\u001b[0m Trial 249 finished with value: 0.8878498064123346 and parameters: {'learning_rate': 0.014980345326934728, 'max_depth': 169, 'num_leaves': 6783, 'colsample_bytree': 0.7040671520461662, 'subsample': 0.9191851900557552, 'subsample_freq': 4, 'min_child_samples': 128, 'reg_lambda': 86, 'n_estimators': 41834}. Best is trial 205 with value: 0.8959219642026134.\u001b[0m\n"
     ]
    },
    {
     "name": "stdout",
     "output_type": "stream",
     "text": [
      "Early stopping, best iteration is:\n",
      "[45]\tvalid_0's auc: 0.88785\n",
      "0.8878498064123346\n",
      "Training until validation scores don't improve for 100 rounds\n"
     ]
    },
    {
     "name": "stderr",
     "output_type": "stream",
     "text": [
      "D:\\source\\repos\\venv\\Python310\\lib\\site-packages\\sklearn\\utils\\validation.py:1141: DataConversionWarning: A column-vector y was passed when a 1d array was expected. Please change the shape of y to (n_samples, ), for example using ravel().\n",
      "  y = column_or_1d(y, warn=True)\n",
      "D:\\source\\repos\\venv\\Python310\\lib\\site-packages\\lightgbm\\sklearn.py:736: UserWarning: 'verbose' argument is deprecated and will be removed in a future release of LightGBM. Pass 'log_evaluation()' callback via 'callbacks' argument instead.\n",
      "  _log_warning(\"'verbose' argument is deprecated and will be removed in a future release of LightGBM. \"\n",
      "D:\\source\\repos\\venv\\Python310\\lib\\site-packages\\lightgbm\\basic.py:179: UserWarning: Converting column-vector to 1d array\n",
      "  _log_warning('Converting column-vector to 1d array')\n",
      "\u001b[32m[I 2023-01-16 08:41:08,629]\u001b[0m Trial 250 finished with value: 0.8697420020917839 and parameters: {'learning_rate': 0.016305169410503466, 'max_depth': 742, 'num_leaves': 6565, 'colsample_bytree': 0.6533032468446887, 'subsample': 0.8962381285523812, 'subsample_freq': 1, 'min_child_samples': 89, 'reg_lambda': 87, 'n_estimators': 43463}. Best is trial 205 with value: 0.8959219642026134.\u001b[0m\n"
     ]
    },
    {
     "name": "stdout",
     "output_type": "stream",
     "text": [
      "Early stopping, best iteration is:\n",
      "[41]\tvalid_0's auc: 0.869742\n",
      "0.8697420020917839\n",
      "Training until validation scores don't improve for 100 rounds\n"
     ]
    },
    {
     "name": "stderr",
     "output_type": "stream",
     "text": [
      "D:\\source\\repos\\venv\\Python310\\lib\\site-packages\\sklearn\\utils\\validation.py:1141: DataConversionWarning: A column-vector y was passed when a 1d array was expected. Please change the shape of y to (n_samples, ), for example using ravel().\n",
      "  y = column_or_1d(y, warn=True)\n",
      "D:\\source\\repos\\venv\\Python310\\lib\\site-packages\\lightgbm\\sklearn.py:736: UserWarning: 'verbose' argument is deprecated and will be removed in a future release of LightGBM. Pass 'log_evaluation()' callback via 'callbacks' argument instead.\n",
      "  _log_warning(\"'verbose' argument is deprecated and will be removed in a future release of LightGBM. \"\n",
      "D:\\source\\repos\\venv\\Python310\\lib\\site-packages\\lightgbm\\basic.py:179: UserWarning: Converting column-vector to 1d array\n",
      "  _log_warning('Converting column-vector to 1d array')\n",
      "\u001b[32m[I 2023-01-16 08:41:09,060]\u001b[0m Trial 251 finished with value: 0.8761220777489012 and parameters: {'learning_rate': 0.013252864504956432, 'max_depth': 185, 'num_leaves': 6959, 'colsample_bytree': 0.6741585349600895, 'subsample': 0.9289529656239905, 'subsample_freq': 1, 'min_child_samples': 58, 'reg_lambda': 85, 'n_estimators': 37070}. Best is trial 205 with value: 0.8959219642026134.\u001b[0m\n"
     ]
    },
    {
     "name": "stdout",
     "output_type": "stream",
     "text": [
      "Early stopping, best iteration is:\n",
      "[46]\tvalid_0's auc: 0.876122\n",
      "0.8761220777489012\n",
      "Training until validation scores don't improve for 100 rounds\n"
     ]
    },
    {
     "name": "stderr",
     "output_type": "stream",
     "text": [
      "D:\\source\\repos\\venv\\Python310\\lib\\site-packages\\sklearn\\utils\\validation.py:1141: DataConversionWarning: A column-vector y was passed when a 1d array was expected. Please change the shape of y to (n_samples, ), for example using ravel().\n",
      "  y = column_or_1d(y, warn=True)\n",
      "D:\\source\\repos\\venv\\Python310\\lib\\site-packages\\lightgbm\\sklearn.py:736: UserWarning: 'verbose' argument is deprecated and will be removed in a future release of LightGBM. Pass 'log_evaluation()' callback via 'callbacks' argument instead.\n",
      "  _log_warning(\"'verbose' argument is deprecated and will be removed in a future release of LightGBM. \"\n",
      "D:\\source\\repos\\venv\\Python310\\lib\\site-packages\\lightgbm\\basic.py:179: UserWarning: Converting column-vector to 1d array\n",
      "  _log_warning('Converting column-vector to 1d array')\n",
      "\u001b[32m[I 2023-01-16 08:41:09,359]\u001b[0m Trial 252 finished with value: 0.8766861051266216 and parameters: {'learning_rate': 0.017914404838144986, 'max_depth': 785, 'num_leaves': 6792, 'colsample_bytree': 0.7153966506555048, 'subsample': 0.9466882677846444, 'subsample_freq': 1, 'min_child_samples': 119, 'reg_lambda': 80, 'n_estimators': 40457}. Best is trial 205 with value: 0.8959219642026134.\u001b[0m\n"
     ]
    },
    {
     "name": "stdout",
     "output_type": "stream",
     "text": [
      "Early stopping, best iteration is:\n",
      "[30]\tvalid_0's auc: 0.876686\n",
      "0.8766861051266216\n",
      "Training until validation scores don't improve for 100 rounds\n"
     ]
    },
    {
     "name": "stderr",
     "output_type": "stream",
     "text": [
      "D:\\source\\repos\\venv\\Python310\\lib\\site-packages\\sklearn\\utils\\validation.py:1141: DataConversionWarning: A column-vector y was passed when a 1d array was expected. Please change the shape of y to (n_samples, ), for example using ravel().\n",
      "  y = column_or_1d(y, warn=True)\n",
      "D:\\source\\repos\\venv\\Python310\\lib\\site-packages\\lightgbm\\sklearn.py:736: UserWarning: 'verbose' argument is deprecated and will be removed in a future release of LightGBM. Pass 'log_evaluation()' callback via 'callbacks' argument instead.\n",
      "  _log_warning(\"'verbose' argument is deprecated and will be removed in a future release of LightGBM. \"\n",
      "D:\\source\\repos\\venv\\Python310\\lib\\site-packages\\lightgbm\\basic.py:179: UserWarning: Converting column-vector to 1d array\n",
      "  _log_warning('Converting column-vector to 1d array')\n",
      "\u001b[32m[I 2023-01-16 08:41:09,655]\u001b[0m Trial 253 finished with value: 0.8922111691563565 and parameters: {'learning_rate': 0.01210093814688219, 'max_depth': 237, 'num_leaves': 7561, 'colsample_bytree': 0.6977744387861969, 'subsample': 0.978025875392473, 'subsample_freq': 5, 'min_child_samples': 96, 'reg_lambda': 84, 'n_estimators': 38947}. Best is trial 205 with value: 0.8959219642026134.\u001b[0m\n"
     ]
    },
    {
     "name": "stdout",
     "output_type": "stream",
     "text": [
      "Early stopping, best iteration is:\n",
      "[30]\tvalid_0's auc: 0.892211\n",
      "0.8922111691563565\n",
      "Training until validation scores don't improve for 100 rounds\n"
     ]
    },
    {
     "name": "stderr",
     "output_type": "stream",
     "text": [
      "D:\\source\\repos\\venv\\Python310\\lib\\site-packages\\sklearn\\utils\\validation.py:1141: DataConversionWarning: A column-vector y was passed when a 1d array was expected. Please change the shape of y to (n_samples, ), for example using ravel().\n",
      "  y = column_or_1d(y, warn=True)\n",
      "D:\\source\\repos\\venv\\Python310\\lib\\site-packages\\lightgbm\\sklearn.py:736: UserWarning: 'verbose' argument is deprecated and will be removed in a future release of LightGBM. Pass 'log_evaluation()' callback via 'callbacks' argument instead.\n",
      "  _log_warning(\"'verbose' argument is deprecated and will be removed in a future release of LightGBM. \"\n",
      "D:\\source\\repos\\venv\\Python310\\lib\\site-packages\\lightgbm\\basic.py:179: UserWarning: Converting column-vector to 1d array\n",
      "  _log_warning('Converting column-vector to 1d array')\n",
      "\u001b[32m[I 2023-01-16 08:41:09,912]\u001b[0m Trial 254 finished with value: 0.8796651798792746 and parameters: {'learning_rate': 0.01526637810355733, 'max_depth': 261, 'num_leaves': 7577, 'colsample_bytree': 0.7325859367532085, 'subsample': 0.91348026986225, 'subsample_freq': 5, 'min_child_samples': 83, 'reg_lambda': 84, 'n_estimators': 38569}. Best is trial 205 with value: 0.8959219642026134.\u001b[0m\n"
     ]
    },
    {
     "name": "stdout",
     "output_type": "stream",
     "text": [
      "Early stopping, best iteration is:\n",
      "[7]\tvalid_0's auc: 0.879665\n",
      "0.8796651798792746\n",
      "Training until validation scores don't improve for 100 rounds\n"
     ]
    },
    {
     "name": "stderr",
     "output_type": "stream",
     "text": [
      "D:\\source\\repos\\venv\\Python310\\lib\\site-packages\\sklearn\\utils\\validation.py:1141: DataConversionWarning: A column-vector y was passed when a 1d array was expected. Please change the shape of y to (n_samples, ), for example using ravel().\n",
      "  y = column_or_1d(y, warn=True)\n",
      "D:\\source\\repos\\venv\\Python310\\lib\\site-packages\\lightgbm\\sklearn.py:736: UserWarning: 'verbose' argument is deprecated and will be removed in a future release of LightGBM. Pass 'log_evaluation()' callback via 'callbacks' argument instead.\n",
      "  _log_warning(\"'verbose' argument is deprecated and will be removed in a future release of LightGBM. \"\n",
      "D:\\source\\repos\\venv\\Python310\\lib\\site-packages\\lightgbm\\basic.py:179: UserWarning: Converting column-vector to 1d array\n",
      "  _log_warning('Converting column-vector to 1d array')\n",
      "\u001b[32m[I 2023-01-16 08:41:10,216]\u001b[0m Trial 255 finished with value: 0.8693833816993825 and parameters: {'learning_rate': 0.012951531588728065, 'max_depth': 238, 'num_leaves': 7120, 'colsample_bytree': 0.7425594254527977, 'subsample': 0.8836825642391894, 'subsample_freq': 5, 'min_child_samples': 100, 'reg_lambda': 88, 'n_estimators': 36447}. Best is trial 205 with value: 0.8959219642026134.\u001b[0m\n"
     ]
    },
    {
     "name": "stdout",
     "output_type": "stream",
     "text": [
      "Early stopping, best iteration is:\n",
      "[41]\tvalid_0's auc: 0.869383\n",
      "0.8693833816993825\n",
      "Training until validation scores don't improve for 100 rounds\n"
     ]
    },
    {
     "name": "stderr",
     "output_type": "stream",
     "text": [
      "D:\\source\\repos\\venv\\Python310\\lib\\site-packages\\sklearn\\utils\\validation.py:1141: DataConversionWarning: A column-vector y was passed when a 1d array was expected. Please change the shape of y to (n_samples, ), for example using ravel().\n",
      "  y = column_or_1d(y, warn=True)\n",
      "D:\\source\\repos\\venv\\Python310\\lib\\site-packages\\lightgbm\\sklearn.py:736: UserWarning: 'verbose' argument is deprecated and will be removed in a future release of LightGBM. Pass 'log_evaluation()' callback via 'callbacks' argument instead.\n",
      "  _log_warning(\"'verbose' argument is deprecated and will be removed in a future release of LightGBM. \"\n",
      "D:\\source\\repos\\venv\\Python310\\lib\\site-packages\\lightgbm\\basic.py:179: UserWarning: Converting column-vector to 1d array\n",
      "  _log_warning('Converting column-vector to 1d array')\n",
      "\u001b[32m[I 2023-01-16 08:41:10,481]\u001b[0m Trial 256 finished with value: 0.8716418483396043 and parameters: {'learning_rate': 0.019867490501912492, 'max_depth': 225, 'num_leaves': 7283, 'colsample_bytree': 0.6973475541946569, 'subsample': 0.325419795624279, 'subsample_freq': 5, 'min_child_samples': 70, 'reg_lambda': 83, 'n_estimators': 41188}. Best is trial 205 with value: 0.8959219642026134.\u001b[0m\n"
     ]
    },
    {
     "name": "stdout",
     "output_type": "stream",
     "text": [
      "Early stopping, best iteration is:\n",
      "[55]\tvalid_0's auc: 0.871642\n",
      "0.8716418483396043\n",
      "Training until validation scores don't improve for 100 rounds\n"
     ]
    },
    {
     "name": "stderr",
     "output_type": "stream",
     "text": [
      "D:\\source\\repos\\venv\\Python310\\lib\\site-packages\\sklearn\\utils\\validation.py:1141: DataConversionWarning: A column-vector y was passed when a 1d array was expected. Please change the shape of y to (n_samples, ), for example using ravel().\n",
      "  y = column_or_1d(y, warn=True)\n",
      "D:\\source\\repos\\venv\\Python310\\lib\\site-packages\\lightgbm\\sklearn.py:736: UserWarning: 'verbose' argument is deprecated and will be removed in a future release of LightGBM. Pass 'log_evaluation()' callback via 'callbacks' argument instead.\n",
      "  _log_warning(\"'verbose' argument is deprecated and will be removed in a future release of LightGBM. \"\n",
      "D:\\source\\repos\\venv\\Python310\\lib\\site-packages\\lightgbm\\basic.py:179: UserWarning: Converting column-vector to 1d array\n",
      "  _log_warning('Converting column-vector to 1d array')\n",
      "\u001b[32m[I 2023-01-16 08:41:10,902]\u001b[0m Trial 257 finished with value: 0.8769750218371197 and parameters: {'learning_rate': 0.07112529489614927, 'max_depth': 209, 'num_leaves': 6407, 'colsample_bytree': 0.5519067665399112, 'subsample': 0.9692455300647543, 'subsample_freq': 5, 'min_child_samples': 105, 'reg_lambda': 82, 'n_estimators': 39007}. Best is trial 205 with value: 0.8959219642026134.\u001b[0m\n"
     ]
    },
    {
     "name": "stdout",
     "output_type": "stream",
     "text": [
      "Early stopping, best iteration is:\n",
      "[36]\tvalid_0's auc: 0.876975\n",
      "0.8769750218371197\n",
      "Training until validation scores don't improve for 100 rounds\n"
     ]
    },
    {
     "name": "stderr",
     "output_type": "stream",
     "text": [
      "D:\\source\\repos\\venv\\Python310\\lib\\site-packages\\sklearn\\utils\\validation.py:1141: DataConversionWarning: A column-vector y was passed when a 1d array was expected. Please change the shape of y to (n_samples, ), for example using ravel().\n",
      "  y = column_or_1d(y, warn=True)\n",
      "D:\\source\\repos\\venv\\Python310\\lib\\site-packages\\lightgbm\\sklearn.py:736: UserWarning: 'verbose' argument is deprecated and will be removed in a future release of LightGBM. Pass 'log_evaluation()' callback via 'callbacks' argument instead.\n",
      "  _log_warning(\"'verbose' argument is deprecated and will be removed in a future release of LightGBM. \"\n",
      "D:\\source\\repos\\venv\\Python310\\lib\\site-packages\\lightgbm\\basic.py:179: UserWarning: Converting column-vector to 1d array\n",
      "  _log_warning('Converting column-vector to 1d array')\n",
      "\u001b[32m[I 2023-01-16 08:41:11,313]\u001b[0m Trial 258 finished with value: 0.8814592920395702 and parameters: {'learning_rate': 0.014399751139191334, 'max_depth': 757, 'num_leaves': 6587, 'colsample_bytree': 0.5816045628506352, 'subsample': 0.5519107928645653, 'subsample_freq': 6, 'min_child_samples': 128, 'reg_lambda': 81, 'n_estimators': 34307}. Best is trial 205 with value: 0.8959219642026134.\u001b[0m\n"
     ]
    },
    {
     "name": "stdout",
     "output_type": "stream",
     "text": [
      "Early stopping, best iteration is:\n",
      "[103]\tvalid_0's auc: 0.881459\n",
      "0.8814592920395702\n",
      "Training until validation scores don't improve for 100 rounds\n"
     ]
    },
    {
     "name": "stderr",
     "output_type": "stream",
     "text": [
      "D:\\source\\repos\\venv\\Python310\\lib\\site-packages\\sklearn\\utils\\validation.py:1141: DataConversionWarning: A column-vector y was passed when a 1d array was expected. Please change the shape of y to (n_samples, ), for example using ravel().\n",
      "  y = column_or_1d(y, warn=True)\n",
      "D:\\source\\repos\\venv\\Python310\\lib\\site-packages\\lightgbm\\sklearn.py:736: UserWarning: 'verbose' argument is deprecated and will be removed in a future release of LightGBM. Pass 'log_evaluation()' callback via 'callbacks' argument instead.\n",
      "  _log_warning(\"'verbose' argument is deprecated and will be removed in a future release of LightGBM. \"\n",
      "D:\\source\\repos\\venv\\Python310\\lib\\site-packages\\lightgbm\\basic.py:179: UserWarning: Converting column-vector to 1d array\n",
      "  _log_warning('Converting column-vector to 1d array')\n",
      "\u001b[32m[I 2023-01-16 08:41:11,590]\u001b[0m Trial 259 finished with value: 0.8622062595926745 and parameters: {'learning_rate': 0.011810551066268625, 'max_depth': 243, 'num_leaves': 6999, 'colsample_bytree': 0.6318139993287399, 'subsample': 0.9385205619990177, 'subsample_freq': 5, 'min_child_samples': 90, 'reg_lambda': 86, 'n_estimators': 11383}. Best is trial 205 with value: 0.8959219642026134.\u001b[0m\n"
     ]
    },
    {
     "name": "stdout",
     "output_type": "stream",
     "text": [
      "Early stopping, best iteration is:\n",
      "[7]\tvalid_0's auc: 0.862206\n",
      "0.8622062595926745\n",
      "Training until validation scores don't improve for 100 rounds\n"
     ]
    },
    {
     "name": "stderr",
     "output_type": "stream",
     "text": [
      "D:\\source\\repos\\venv\\Python310\\lib\\site-packages\\sklearn\\utils\\validation.py:1141: DataConversionWarning: A column-vector y was passed when a 1d array was expected. Please change the shape of y to (n_samples, ), for example using ravel().\n",
      "  y = column_or_1d(y, warn=True)\n",
      "D:\\source\\repos\\venv\\Python310\\lib\\site-packages\\lightgbm\\sklearn.py:736: UserWarning: 'verbose' argument is deprecated and will be removed in a future release of LightGBM. Pass 'log_evaluation()' callback via 'callbacks' argument instead.\n",
      "  _log_warning(\"'verbose' argument is deprecated and will be removed in a future release of LightGBM. \"\n",
      "D:\\source\\repos\\venv\\Python310\\lib\\site-packages\\lightgbm\\basic.py:179: UserWarning: Converting column-vector to 1d array\n",
      "  _log_warning('Converting column-vector to 1d array')\n",
      "\u001b[32m[I 2023-01-16 08:41:11,983]\u001b[0m Trial 260 finished with value: 0.8722254062175684 and parameters: {'learning_rate': 0.016633980172935617, 'max_depth': 201, 'num_leaves': 6707, 'colsample_bytree': 0.707929790176467, 'subsample': 0.851150126964241, 'subsample_freq': 5, 'min_child_samples': 52, 'reg_lambda': 77, 'n_estimators': 42703}. Best is trial 205 with value: 0.8959219642026134.\u001b[0m\n"
     ]
    },
    {
     "name": "stdout",
     "output_type": "stream",
     "text": [
      "Early stopping, best iteration is:\n",
      "[55]\tvalid_0's auc: 0.872225\n",
      "0.8722254062175684\n",
      "Training until validation scores don't improve for 100 rounds\n"
     ]
    },
    {
     "name": "stderr",
     "output_type": "stream",
     "text": [
      "D:\\source\\repos\\venv\\Python310\\lib\\site-packages\\sklearn\\utils\\validation.py:1141: DataConversionWarning: A column-vector y was passed when a 1d array was expected. Please change the shape of y to (n_samples, ), for example using ravel().\n",
      "  y = column_or_1d(y, warn=True)\n",
      "D:\\source\\repos\\venv\\Python310\\lib\\site-packages\\lightgbm\\sklearn.py:736: UserWarning: 'verbose' argument is deprecated and will be removed in a future release of LightGBM. Pass 'log_evaluation()' callback via 'callbacks' argument instead.\n",
      "  _log_warning(\"'verbose' argument is deprecated and will be removed in a future release of LightGBM. \"\n",
      "D:\\source\\repos\\venv\\Python310\\lib\\site-packages\\lightgbm\\basic.py:179: UserWarning: Converting column-vector to 1d array\n",
      "  _log_warning('Converting column-vector to 1d array')\n",
      "\u001b[32m[I 2023-01-16 08:41:12,528]\u001b[0m Trial 261 finished with value: 0.8875568489086828 and parameters: {'learning_rate': 0.00638243071912473, 'max_depth': 865, 'num_leaves': 7470, 'colsample_bytree': 0.6866108290117464, 'subsample': 0.9967631800211227, 'subsample_freq': 5, 'min_child_samples': 116, 'reg_lambda': 79, 'n_estimators': 14385}. Best is trial 205 with value: 0.8959219642026134.\u001b[0m\n"
     ]
    },
    {
     "name": "stdout",
     "output_type": "stream",
     "text": [
      "Early stopping, best iteration is:\n",
      "[204]\tvalid_0's auc: 0.887557\n",
      "0.8875568489086828\n",
      "Training until validation scores don't improve for 100 rounds\n"
     ]
    },
    {
     "name": "stderr",
     "output_type": "stream",
     "text": [
      "D:\\source\\repos\\venv\\Python310\\lib\\site-packages\\sklearn\\utils\\validation.py:1141: DataConversionWarning: A column-vector y was passed when a 1d array was expected. Please change the shape of y to (n_samples, ), for example using ravel().\n",
      "  y = column_or_1d(y, warn=True)\n",
      "D:\\source\\repos\\venv\\Python310\\lib\\site-packages\\lightgbm\\sklearn.py:736: UserWarning: 'verbose' argument is deprecated and will be removed in a future release of LightGBM. Pass 'log_evaluation()' callback via 'callbacks' argument instead.\n",
      "  _log_warning(\"'verbose' argument is deprecated and will be removed in a future release of LightGBM. \"\n",
      "D:\\source\\repos\\venv\\Python310\\lib\\site-packages\\lightgbm\\basic.py:179: UserWarning: Converting column-vector to 1d array\n",
      "  _log_warning('Converting column-vector to 1d array')\n",
      "\u001b[32m[I 2023-01-16 08:41:12,850]\u001b[0m Trial 262 finished with value: 0.8837335851196445 and parameters: {'learning_rate': 0.0018025300296248075, 'max_depth': 267, 'num_leaves': 6362, 'colsample_bytree': 0.5992873510704293, 'subsample': 0.9561527701531342, 'subsample_freq': 3, 'min_child_samples': 71, 'reg_lambda': 84, 'n_estimators': 39708}. Best is trial 205 with value: 0.8959219642026134.\u001b[0m\n"
     ]
    },
    {
     "name": "stdout",
     "output_type": "stream",
     "text": [
      "Early stopping, best iteration is:\n",
      "[25]\tvalid_0's auc: 0.883734\n",
      "0.8837335851196445\n",
      "Training until validation scores don't improve for 100 rounds\n"
     ]
    },
    {
     "name": "stderr",
     "output_type": "stream",
     "text": [
      "D:\\source\\repos\\venv\\Python310\\lib\\site-packages\\sklearn\\utils\\validation.py:1141: DataConversionWarning: A column-vector y was passed when a 1d array was expected. Please change the shape of y to (n_samples, ), for example using ravel().\n",
      "  y = column_or_1d(y, warn=True)\n",
      "D:\\source\\repos\\venv\\Python310\\lib\\site-packages\\lightgbm\\sklearn.py:736: UserWarning: 'verbose' argument is deprecated and will be removed in a future release of LightGBM. Pass 'log_evaluation()' callback via 'callbacks' argument instead.\n",
      "  _log_warning(\"'verbose' argument is deprecated and will be removed in a future release of LightGBM. \"\n",
      "D:\\source\\repos\\venv\\Python310\\lib\\site-packages\\lightgbm\\basic.py:179: UserWarning: Converting column-vector to 1d array\n",
      "  _log_warning('Converting column-vector to 1d array')\n",
      "\u001b[32m[I 2023-01-16 08:41:13,308]\u001b[0m Trial 263 finished with value: 0.8787977562822549 and parameters: {'learning_rate': 0.011373333140250892, 'max_depth': 485, 'num_leaves': 6774, 'colsample_bytree': 0.7274504276176621, 'subsample': 0.9078869287798467, 'subsample_freq': 4, 'min_child_samples': 23, 'reg_lambda': 71, 'n_estimators': 37643}. Best is trial 205 with value: 0.8959219642026134.\u001b[0m\n"
     ]
    },
    {
     "name": "stdout",
     "output_type": "stream",
     "text": [
      "Early stopping, best iteration is:\n",
      "[34]\tvalid_0's auc: 0.878798\n",
      "0.8787977562822549\n",
      "Training until validation scores don't improve for 100 rounds\n"
     ]
    },
    {
     "name": "stderr",
     "output_type": "stream",
     "text": [
      "D:\\source\\repos\\venv\\Python310\\lib\\site-packages\\sklearn\\utils\\validation.py:1141: DataConversionWarning: A column-vector y was passed when a 1d array was expected. Please change the shape of y to (n_samples, ), for example using ravel().\n",
      "  y = column_or_1d(y, warn=True)\n",
      "D:\\source\\repos\\venv\\Python310\\lib\\site-packages\\lightgbm\\sklearn.py:736: UserWarning: 'verbose' argument is deprecated and will be removed in a future release of LightGBM. Pass 'log_evaluation()' callback via 'callbacks' argument instead.\n",
      "  _log_warning(\"'verbose' argument is deprecated and will be removed in a future release of LightGBM. \"\n",
      "D:\\source\\repos\\venv\\Python310\\lib\\site-packages\\lightgbm\\basic.py:179: UserWarning: Converting column-vector to 1d array\n",
      "  _log_warning('Converting column-vector to 1d array')\n",
      "\u001b[32m[I 2023-01-16 08:41:13,571]\u001b[0m Trial 264 finished with value: 0.8680643994674234 and parameters: {'learning_rate': 0.014559237183778963, 'max_depth': 224, 'num_leaves': 7189, 'colsample_bytree': 0.6606824303193382, 'subsample': 0.9251017828159345, 'subsample_freq': 6, 'min_child_samples': 355, 'reg_lambda': 76, 'n_estimators': 42039}. Best is trial 205 with value: 0.8959219642026134.\u001b[0m\n"
     ]
    },
    {
     "name": "stdout",
     "output_type": "stream",
     "text": [
      "Early stopping, best iteration is:\n",
      "[51]\tvalid_0's auc: 0.868064\n",
      "0.8680643994674234\n",
      "Training until validation scores don't improve for 100 rounds\n"
     ]
    },
    {
     "name": "stderr",
     "output_type": "stream",
     "text": [
      "D:\\source\\repos\\venv\\Python310\\lib\\site-packages\\sklearn\\utils\\validation.py:1141: DataConversionWarning: A column-vector y was passed when a 1d array was expected. Please change the shape of y to (n_samples, ), for example using ravel().\n",
      "  y = column_or_1d(y, warn=True)\n",
      "D:\\source\\repos\\venv\\Python310\\lib\\site-packages\\lightgbm\\sklearn.py:736: UserWarning: 'verbose' argument is deprecated and will be removed in a future release of LightGBM. Pass 'log_evaluation()' callback via 'callbacks' argument instead.\n",
      "  _log_warning(\"'verbose' argument is deprecated and will be removed in a future release of LightGBM. \"\n",
      "D:\\source\\repos\\venv\\Python310\\lib\\site-packages\\lightgbm\\basic.py:179: UserWarning: Converting column-vector to 1d array\n",
      "  _log_warning('Converting column-vector to 1d array')\n",
      "\u001b[32m[I 2023-01-16 08:41:13,881]\u001b[0m Trial 265 finished with value: 0.889147911212999 and parameters: {'learning_rate': 0.01869771176958525, 'max_depth': 729, 'num_leaves': 6220, 'colsample_bytree': 0.8821083100264334, 'subsample': 0.9682797591193106, 'subsample_freq': 5, 'min_child_samples': 132, 'reg_lambda': 81, 'n_estimators': 35560}. Best is trial 205 with value: 0.8959219642026134.\u001b[0m\n"
     ]
    },
    {
     "name": "stdout",
     "output_type": "stream",
     "text": [
      "Early stopping, best iteration is:\n",
      "[41]\tvalid_0's auc: 0.889148\n",
      "0.889147911212999\n",
      "Training until validation scores don't improve for 100 rounds\n"
     ]
    },
    {
     "name": "stderr",
     "output_type": "stream",
     "text": [
      "D:\\source\\repos\\venv\\Python310\\lib\\site-packages\\sklearn\\utils\\validation.py:1141: DataConversionWarning: A column-vector y was passed when a 1d array was expected. Please change the shape of y to (n_samples, ), for example using ravel().\n",
      "  y = column_or_1d(y, warn=True)\n",
      "D:\\source\\repos\\venv\\Python310\\lib\\site-packages\\lightgbm\\sklearn.py:736: UserWarning: 'verbose' argument is deprecated and will be removed in a future release of LightGBM. Pass 'log_evaluation()' callback via 'callbacks' argument instead.\n",
      "  _log_warning(\"'verbose' argument is deprecated and will be removed in a future release of LightGBM. \"\n",
      "D:\\source\\repos\\venv\\Python310\\lib\\site-packages\\lightgbm\\basic.py:179: UserWarning: Converting column-vector to 1d array\n",
      "  _log_warning('Converting column-vector to 1d array')\n",
      "\u001b[32m[I 2023-01-16 08:41:14,217]\u001b[0m Trial 266 finished with value: 0.8665376531208056 and parameters: {'learning_rate': 0.02053109909295267, 'max_depth': 720, 'num_leaves': 5964, 'colsample_bytree': 0.8778283712550615, 'subsample': 0.9766440165128003, 'subsample_freq': 5, 'min_child_samples': 143, 'reg_lambda': 81, 'n_estimators': 33705}. Best is trial 205 with value: 0.8959219642026134.\u001b[0m\n"
     ]
    },
    {
     "name": "stdout",
     "output_type": "stream",
     "text": [
      "Early stopping, best iteration is:\n",
      "[67]\tvalid_0's auc: 0.866538\n",
      "0.8665376531208056\n",
      "Training until validation scores don't improve for 100 rounds\n"
     ]
    },
    {
     "name": "stderr",
     "output_type": "stream",
     "text": [
      "D:\\source\\repos\\venv\\Python310\\lib\\site-packages\\sklearn\\utils\\validation.py:1141: DataConversionWarning: A column-vector y was passed when a 1d array was expected. Please change the shape of y to (n_samples, ), for example using ravel().\n",
      "  y = column_or_1d(y, warn=True)\n",
      "D:\\source\\repos\\venv\\Python310\\lib\\site-packages\\lightgbm\\sklearn.py:736: UserWarning: 'verbose' argument is deprecated and will be removed in a future release of LightGBM. Pass 'log_evaluation()' callback via 'callbacks' argument instead.\n",
      "  _log_warning(\"'verbose' argument is deprecated and will be removed in a future release of LightGBM. \"\n",
      "D:\\source\\repos\\venv\\Python310\\lib\\site-packages\\lightgbm\\basic.py:179: UserWarning: Converting column-vector to 1d array\n",
      "  _log_warning('Converting column-vector to 1d array')\n",
      "\u001b[32m[I 2023-01-16 08:41:14,482]\u001b[0m Trial 267 finished with value: 0.8730345750466206 and parameters: {'learning_rate': 0.019163920047121526, 'max_depth': 762, 'num_leaves': 6204, 'colsample_bytree': 0.8661588889123055, 'subsample': 0.8286317386123463, 'subsample_freq': 5, 'min_child_samples': 925, 'reg_lambda': 89, 'n_estimators': 35697}. Best is trial 205 with value: 0.8959219642026134.\u001b[0m\n"
     ]
    },
    {
     "name": "stdout",
     "output_type": "stream",
     "text": [
      "Early stopping, best iteration is:\n",
      "[130]\tvalid_0's auc: 0.873035\n",
      "0.8730345750466206\n",
      "Training until validation scores don't improve for 100 rounds\n"
     ]
    },
    {
     "name": "stderr",
     "output_type": "stream",
     "text": [
      "D:\\source\\repos\\venv\\Python310\\lib\\site-packages\\sklearn\\utils\\validation.py:1141: DataConversionWarning: A column-vector y was passed when a 1d array was expected. Please change the shape of y to (n_samples, ), for example using ravel().\n",
      "  y = column_or_1d(y, warn=True)\n",
      "D:\\source\\repos\\venv\\Python310\\lib\\site-packages\\lightgbm\\sklearn.py:736: UserWarning: 'verbose' argument is deprecated and will be removed in a future release of LightGBM. Pass 'log_evaluation()' callback via 'callbacks' argument instead.\n",
      "  _log_warning(\"'verbose' argument is deprecated and will be removed in a future release of LightGBM. \"\n",
      "D:\\source\\repos\\venv\\Python310\\lib\\site-packages\\lightgbm\\basic.py:179: UserWarning: Converting column-vector to 1d array\n",
      "  _log_warning('Converting column-vector to 1d array')\n",
      "\u001b[32m[I 2023-01-16 08:41:14,827]\u001b[0m Trial 268 finished with value: 0.8889270145205903 and parameters: {'learning_rate': 0.017540596631720203, 'max_depth': 739, 'num_leaves': 6467, 'colsample_bytree': 0.8427834695985718, 'subsample': 0.9606659238729005, 'subsample_freq': 8, 'min_child_samples': 130, 'reg_lambda': 6, 'n_estimators': 26532}. Best is trial 205 with value: 0.8959219642026134.\u001b[0m\n"
     ]
    },
    {
     "name": "stdout",
     "output_type": "stream",
     "text": [
      "Early stopping, best iteration is:\n",
      "[36]\tvalid_0's auc: 0.888927\n",
      "0.8889270145205903\n",
      "Training until validation scores don't improve for 100 rounds\n"
     ]
    },
    {
     "name": "stderr",
     "output_type": "stream",
     "text": [
      "D:\\source\\repos\\venv\\Python310\\lib\\site-packages\\sklearn\\utils\\validation.py:1141: DataConversionWarning: A column-vector y was passed when a 1d array was expected. Please change the shape of y to (n_samples, ), for example using ravel().\n",
      "  y = column_or_1d(y, warn=True)\n",
      "D:\\source\\repos\\venv\\Python310\\lib\\site-packages\\lightgbm\\sklearn.py:736: UserWarning: 'verbose' argument is deprecated and will be removed in a future release of LightGBM. Pass 'log_evaluation()' callback via 'callbacks' argument instead.\n",
      "  _log_warning(\"'verbose' argument is deprecated and will be removed in a future release of LightGBM. \"\n",
      "D:\\source\\repos\\venv\\Python310\\lib\\site-packages\\lightgbm\\basic.py:179: UserWarning: Converting column-vector to 1d array\n",
      "  _log_warning('Converting column-vector to 1d array')\n",
      "\u001b[32m[I 2023-01-16 08:41:15,123]\u001b[0m Trial 269 finished with value: 0.886144591701423 and parameters: {'learning_rate': 0.018272690330852312, 'max_depth': 735, 'num_leaves': 6245, 'colsample_bytree': 0.8380137962910715, 'subsample': 0.6617642604036541, 'subsample_freq': 8, 'min_child_samples': 150, 'reg_lambda': 18, 'n_estimators': 21941}. Best is trial 205 with value: 0.8959219642026134.\u001b[0m\n"
     ]
    },
    {
     "name": "stdout",
     "output_type": "stream",
     "text": [
      "Early stopping, best iteration is:\n",
      "[36]\tvalid_0's auc: 0.886145\n",
      "0.886144591701423\n",
      "Training until validation scores don't improve for 100 rounds\n"
     ]
    },
    {
     "name": "stderr",
     "output_type": "stream",
     "text": [
      "D:\\source\\repos\\venv\\Python310\\lib\\site-packages\\sklearn\\utils\\validation.py:1141: DataConversionWarning: A column-vector y was passed when a 1d array was expected. Please change the shape of y to (n_samples, ), for example using ravel().\n",
      "  y = column_or_1d(y, warn=True)\n",
      "D:\\source\\repos\\venv\\Python310\\lib\\site-packages\\lightgbm\\sklearn.py:736: UserWarning: 'verbose' argument is deprecated and will be removed in a future release of LightGBM. Pass 'log_evaluation()' callback via 'callbacks' argument instead.\n",
      "  _log_warning(\"'verbose' argument is deprecated and will be removed in a future release of LightGBM. \"\n",
      "D:\\source\\repos\\venv\\Python310\\lib\\site-packages\\lightgbm\\basic.py:179: UserWarning: Converting column-vector to 1d array\n",
      "  _log_warning('Converting column-vector to 1d array')\n",
      "\u001b[32m[I 2023-01-16 08:41:15,445]\u001b[0m Trial 270 finished with value: 0.8670087422559882 and parameters: {'learning_rate': 0.02097094442583238, 'max_depth': 718, 'num_leaves': 5980, 'colsample_bytree': 0.8692937726332346, 'subsample': 0.9733523386300662, 'subsample_freq': 7, 'min_child_samples': 130, 'reg_lambda': 6, 'n_estimators': 32092}. Best is trial 205 with value: 0.8959219642026134.\u001b[0m\n"
     ]
    },
    {
     "name": "stdout",
     "output_type": "stream",
     "text": [
      "Early stopping, best iteration is:\n",
      "[24]\tvalid_0's auc: 0.867009\n",
      "0.8670087422559882\n",
      "Training until validation scores don't improve for 100 rounds\n"
     ]
    },
    {
     "name": "stderr",
     "output_type": "stream",
     "text": [
      "D:\\source\\repos\\venv\\Python310\\lib\\site-packages\\sklearn\\utils\\validation.py:1141: DataConversionWarning: A column-vector y was passed when a 1d array was expected. Please change the shape of y to (n_samples, ), for example using ravel().\n",
      "  y = column_or_1d(y, warn=True)\n",
      "D:\\source\\repos\\venv\\Python310\\lib\\site-packages\\lightgbm\\sklearn.py:736: UserWarning: 'verbose' argument is deprecated and will be removed in a future release of LightGBM. Pass 'log_evaluation()' callback via 'callbacks' argument instead.\n",
      "  _log_warning(\"'verbose' argument is deprecated and will be removed in a future release of LightGBM. \"\n",
      "D:\\source\\repos\\venv\\Python310\\lib\\site-packages\\lightgbm\\basic.py:179: UserWarning: Converting column-vector to 1d array\n",
      "  _log_warning('Converting column-vector to 1d array')\n",
      "\u001b[32m[I 2023-01-16 08:41:16,039]\u001b[0m Trial 271 finished with value: 0.8724069051767274 and parameters: {'learning_rate': 0.01684532617720581, 'max_depth': 751, 'num_leaves': 7809, 'colsample_bytree': 0.8981137653230686, 'subsample': 0.9590778697498773, 'subsample_freq': 5, 'min_child_samples': 48, 'reg_lambda': 7, 'n_estimators': 38231}. Best is trial 205 with value: 0.8959219642026134.\u001b[0m\n"
     ]
    },
    {
     "name": "stdout",
     "output_type": "stream",
     "text": [
      "Early stopping, best iteration is:\n",
      "[57]\tvalid_0's auc: 0.872407\n",
      "0.8724069051767274\n",
      "Training until validation scores don't improve for 100 rounds\n"
     ]
    },
    {
     "name": "stderr",
     "output_type": "stream",
     "text": [
      "D:\\source\\repos\\venv\\Python310\\lib\\site-packages\\sklearn\\utils\\validation.py:1141: DataConversionWarning: A column-vector y was passed when a 1d array was expected. Please change the shape of y to (n_samples, ), for example using ravel().\n",
      "  y = column_or_1d(y, warn=True)\n",
      "D:\\source\\repos\\venv\\Python310\\lib\\site-packages\\lightgbm\\sklearn.py:736: UserWarning: 'verbose' argument is deprecated and will be removed in a future release of LightGBM. Pass 'log_evaluation()' callback via 'callbacks' argument instead.\n",
      "  _log_warning(\"'verbose' argument is deprecated and will be removed in a future release of LightGBM. \"\n",
      "D:\\source\\repos\\venv\\Python310\\lib\\site-packages\\lightgbm\\basic.py:179: UserWarning: Converting column-vector to 1d array\n",
      "  _log_warning('Converting column-vector to 1d array')\n",
      "\u001b[32m[I 2023-01-16 08:41:16,378]\u001b[0m Trial 272 finished with value: 0.8848387420472141 and parameters: {'learning_rate': 0.018272655821583203, 'max_depth': 744, 'num_leaves': 6602, 'colsample_bytree': 0.8376719861049557, 'subsample': 0.9927389990994945, 'subsample_freq': 5, 'min_child_samples': 87, 'reg_lambda': 79, 'n_estimators': 25856}. Best is trial 205 with value: 0.8959219642026134.\u001b[0m\n"
     ]
    },
    {
     "name": "stdout",
     "output_type": "stream",
     "text": [
      "Early stopping, best iteration is:\n",
      "[24]\tvalid_0's auc: 0.884839\n",
      "0.8848387420472141\n",
      "Training until validation scores don't improve for 100 rounds\n"
     ]
    },
    {
     "name": "stderr",
     "output_type": "stream",
     "text": [
      "D:\\source\\repos\\venv\\Python310\\lib\\site-packages\\sklearn\\utils\\validation.py:1141: DataConversionWarning: A column-vector y was passed when a 1d array was expected. Please change the shape of y to (n_samples, ), for example using ravel().\n",
      "  y = column_or_1d(y, warn=True)\n",
      "D:\\source\\repos\\venv\\Python310\\lib\\site-packages\\lightgbm\\sklearn.py:736: UserWarning: 'verbose' argument is deprecated and will be removed in a future release of LightGBM. Pass 'log_evaluation()' callback via 'callbacks' argument instead.\n",
      "  _log_warning(\"'verbose' argument is deprecated and will be removed in a future release of LightGBM. \"\n",
      "D:\\source\\repos\\venv\\Python310\\lib\\site-packages\\lightgbm\\basic.py:179: UserWarning: Converting column-vector to 1d array\n",
      "  _log_warning('Converting column-vector to 1d array')\n",
      "\u001b[32m[I 2023-01-16 08:41:16,654]\u001b[0m Trial 273 finished with value: 0.8801844217995404 and parameters: {'learning_rate': 0.0163456689244485, 'max_depth': 816, 'num_leaves': 9635, 'colsample_bytree': 0.8510295981835501, 'subsample': 0.9548349172939022, 'subsample_freq': 9, 'min_child_samples': 133, 'reg_lambda': 84, 'n_estimators': 30689}. Best is trial 205 with value: 0.8959219642026134.\u001b[0m\n"
     ]
    },
    {
     "name": "stdout",
     "output_type": "stream",
     "text": [
      "Early stopping, best iteration is:\n",
      "[14]\tvalid_0's auc: 0.880184\n",
      "0.8801844217995404\n",
      "Training until validation scores don't improve for 100 rounds\n"
     ]
    },
    {
     "name": "stderr",
     "output_type": "stream",
     "text": [
      "D:\\source\\repos\\venv\\Python310\\lib\\site-packages\\sklearn\\utils\\validation.py:1141: DataConversionWarning: A column-vector y was passed when a 1d array was expected. Please change the shape of y to (n_samples, ), for example using ravel().\n",
      "  y = column_or_1d(y, warn=True)\n",
      "D:\\source\\repos\\venv\\Python310\\lib\\site-packages\\lightgbm\\sklearn.py:736: UserWarning: 'verbose' argument is deprecated and will be removed in a future release of LightGBM. Pass 'log_evaluation()' callback via 'callbacks' argument instead.\n",
      "  _log_warning(\"'verbose' argument is deprecated and will be removed in a future release of LightGBM. \"\n",
      "D:\\source\\repos\\venv\\Python310\\lib\\site-packages\\lightgbm\\basic.py:179: UserWarning: Converting column-vector to 1d array\n",
      "  _log_warning('Converting column-vector to 1d array')\n",
      "\u001b[32m[I 2023-01-16 08:41:17,005]\u001b[0m Trial 274 finished with value: 0.8786266960387432 and parameters: {'learning_rate': 0.014601372663366138, 'max_depth': 781, 'num_leaves': 6361, 'colsample_bytree': 0.5375392318583795, 'subsample': 0.9776187418746073, 'subsample_freq': 10, 'min_child_samples': 168, 'reg_lambda': 4, 'n_estimators': 40394}. Best is trial 205 with value: 0.8959219642026134.\u001b[0m\n"
     ]
    },
    {
     "name": "stdout",
     "output_type": "stream",
     "text": [
      "Early stopping, best iteration is:\n",
      "[43]\tvalid_0's auc: 0.878627\n",
      "0.8786266960387432\n",
      "Training until validation scores don't improve for 100 rounds\n"
     ]
    },
    {
     "name": "stderr",
     "output_type": "stream",
     "text": [
      "D:\\source\\repos\\venv\\Python310\\lib\\site-packages\\sklearn\\utils\\validation.py:1141: DataConversionWarning: A column-vector y was passed when a 1d array was expected. Please change the shape of y to (n_samples, ), for example using ravel().\n",
      "  y = column_or_1d(y, warn=True)\n",
      "D:\\source\\repos\\venv\\Python310\\lib\\site-packages\\lightgbm\\sklearn.py:736: UserWarning: 'verbose' argument is deprecated and will be removed in a future release of LightGBM. Pass 'log_evaluation()' callback via 'callbacks' argument instead.\n",
      "  _log_warning(\"'verbose' argument is deprecated and will be removed in a future release of LightGBM. \"\n",
      "D:\\source\\repos\\venv\\Python310\\lib\\site-packages\\lightgbm\\basic.py:179: UserWarning: Converting column-vector to 1d array\n",
      "  _log_warning('Converting column-vector to 1d array')\n",
      "\u001b[32m[I 2023-01-16 08:41:17,322]\u001b[0m Trial 275 finished with value: 0.8894654502083366 and parameters: {'learning_rate': 0.022342987407245933, 'max_depth': 726, 'num_leaves': 6417, 'colsample_bytree': 0.8899072956933329, 'subsample': 0.9469475651491793, 'subsample_freq': 5, 'min_child_samples': 103, 'reg_lambda': 10, 'n_estimators': 27916}. Best is trial 205 with value: 0.8959219642026134.\u001b[0m\n"
     ]
    },
    {
     "name": "stdout",
     "output_type": "stream",
     "text": [
      "Early stopping, best iteration is:\n",
      "[16]\tvalid_0's auc: 0.889465\n",
      "0.8894654502083366\n",
      "Training until validation scores don't improve for 100 rounds\n"
     ]
    },
    {
     "name": "stderr",
     "output_type": "stream",
     "text": [
      "D:\\source\\repos\\venv\\Python310\\lib\\site-packages\\sklearn\\utils\\validation.py:1141: DataConversionWarning: A column-vector y was passed when a 1d array was expected. Please change the shape of y to (n_samples, ), for example using ravel().\n",
      "  y = column_or_1d(y, warn=True)\n",
      "D:\\source\\repos\\venv\\Python310\\lib\\site-packages\\lightgbm\\sklearn.py:736: UserWarning: 'verbose' argument is deprecated and will be removed in a future release of LightGBM. Pass 'log_evaluation()' callback via 'callbacks' argument instead.\n",
      "  _log_warning(\"'verbose' argument is deprecated and will be removed in a future release of LightGBM. \"\n",
      "D:\\source\\repos\\venv\\Python310\\lib\\site-packages\\lightgbm\\basic.py:179: UserWarning: Converting column-vector to 1d array\n",
      "  _log_warning('Converting column-vector to 1d array')\n",
      "\u001b[32m[I 2023-01-16 08:41:17,662]\u001b[0m Trial 276 finished with value: 0.872442935582349 and parameters: {'learning_rate': 0.021998613630777528, 'max_depth': 747, 'num_leaves': 6464, 'colsample_bytree': 0.8979915819603392, 'subsample': 0.9411819281485104, 'subsample_freq': 5, 'min_child_samples': 105, 'reg_lambda': 1, 'n_estimators': 24029}. Best is trial 205 with value: 0.8959219642026134.\u001b[0m\n"
     ]
    },
    {
     "name": "stdout",
     "output_type": "stream",
     "text": [
      "Early stopping, best iteration is:\n",
      "[20]\tvalid_0's auc: 0.872443\n",
      "0.872442935582349\n",
      "Training until validation scores don't improve for 100 rounds\n"
     ]
    },
    {
     "name": "stderr",
     "output_type": "stream",
     "text": [
      "D:\\source\\repos\\venv\\Python310\\lib\\site-packages\\sklearn\\utils\\validation.py:1141: DataConversionWarning: A column-vector y was passed when a 1d array was expected. Please change the shape of y to (n_samples, ), for example using ravel().\n",
      "  y = column_or_1d(y, warn=True)\n",
      "D:\\source\\repos\\venv\\Python310\\lib\\site-packages\\lightgbm\\sklearn.py:736: UserWarning: 'verbose' argument is deprecated and will be removed in a future release of LightGBM. Pass 'log_evaluation()' callback via 'callbacks' argument instead.\n",
      "  _log_warning(\"'verbose' argument is deprecated and will be removed in a future release of LightGBM. \"\n",
      "D:\\source\\repos\\venv\\Python310\\lib\\site-packages\\lightgbm\\basic.py:179: UserWarning: Converting column-vector to 1d array\n",
      "  _log_warning('Converting column-vector to 1d array')\n",
      "\u001b[32m[I 2023-01-16 08:41:18,059]\u001b[0m Trial 277 finished with value: 0.8886667200949316 and parameters: {'learning_rate': 0.019218139266356512, 'max_depth': 767, 'num_leaves': 6166, 'colsample_bytree': 0.8864819909878394, 'subsample': 0.9999424815351271, 'subsample_freq': 5, 'min_child_samples': 88, 'reg_lambda': 11, 'n_estimators': 33326}. Best is trial 205 with value: 0.8959219642026134.\u001b[0m\n"
     ]
    },
    {
     "name": "stdout",
     "output_type": "stream",
     "text": [
      "Early stopping, best iteration is:\n",
      "[47]\tvalid_0's auc: 0.888667\n",
      "0.8886667200949316\n",
      "Training until validation scores don't improve for 100 rounds\n"
     ]
    },
    {
     "name": "stderr",
     "output_type": "stream",
     "text": [
      "D:\\source\\repos\\venv\\Python310\\lib\\site-packages\\sklearn\\utils\\validation.py:1141: DataConversionWarning: A column-vector y was passed when a 1d array was expected. Please change the shape of y to (n_samples, ), for example using ravel().\n",
      "  y = column_or_1d(y, warn=True)\n",
      "D:\\source\\repos\\venv\\Python310\\lib\\site-packages\\lightgbm\\sklearn.py:736: UserWarning: 'verbose' argument is deprecated and will be removed in a future release of LightGBM. Pass 'log_evaluation()' callback via 'callbacks' argument instead.\n",
      "  _log_warning(\"'verbose' argument is deprecated and will be removed in a future release of LightGBM. \"\n",
      "D:\\source\\repos\\venv\\Python310\\lib\\site-packages\\lightgbm\\basic.py:179: UserWarning: Converting column-vector to 1d array\n",
      "  _log_warning('Converting column-vector to 1d array')\n",
      "\u001b[32m[I 2023-01-16 08:41:18,466]\u001b[0m Trial 278 finished with value: 0.8724934454967717 and parameters: {'learning_rate': 0.02287930524718561, 'max_depth': 774, 'num_leaves': 6105, 'colsample_bytree': 0.8932542869687397, 'subsample': 0.9998568392461594, 'subsample_freq': 5, 'min_child_samples': 67, 'reg_lambda': 12, 'n_estimators': 26389}. Best is trial 205 with value: 0.8959219642026134.\u001b[0m\n"
     ]
    },
    {
     "name": "stdout",
     "output_type": "stream",
     "text": [
      "Early stopping, best iteration is:\n",
      "[25]\tvalid_0's auc: 0.872493\n",
      "0.8724934454967717\n",
      "Training until validation scores don't improve for 100 rounds\n"
     ]
    },
    {
     "name": "stderr",
     "output_type": "stream",
     "text": [
      "D:\\source\\repos\\venv\\Python310\\lib\\site-packages\\sklearn\\utils\\validation.py:1141: DataConversionWarning: A column-vector y was passed when a 1d array was expected. Please change the shape of y to (n_samples, ), for example using ravel().\n",
      "  y = column_or_1d(y, warn=True)\n",
      "D:\\source\\repos\\venv\\Python310\\lib\\site-packages\\lightgbm\\sklearn.py:736: UserWarning: 'verbose' argument is deprecated and will be removed in a future release of LightGBM. Pass 'log_evaluation()' callback via 'callbacks' argument instead.\n",
      "  _log_warning(\"'verbose' argument is deprecated and will be removed in a future release of LightGBM. \"\n",
      "D:\\source\\repos\\venv\\Python310\\lib\\site-packages\\lightgbm\\basic.py:179: UserWarning: Converting column-vector to 1d array\n",
      "  _log_warning('Converting column-vector to 1d array')\n",
      "\u001b[32m[I 2023-01-16 08:41:18,850]\u001b[0m Trial 279 finished with value: 0.8831264559482832 and parameters: {'learning_rate': 0.02019841408662589, 'max_depth': 732, 'num_leaves': 6084, 'colsample_bytree': 0.8946742477303953, 'subsample': 0.980346345319634, 'subsample_freq': 6, 'min_child_samples': 83, 'reg_lambda': 10, 'n_estimators': 28399}. Best is trial 205 with value: 0.8959219642026134.\u001b[0m\n"
     ]
    },
    {
     "name": "stdout",
     "output_type": "stream",
     "text": [
      "Early stopping, best iteration is:\n",
      "[33]\tvalid_0's auc: 0.883126\n",
      "0.8831264559482832\n",
      "Training until validation scores don't improve for 100 rounds\n"
     ]
    },
    {
     "name": "stderr",
     "output_type": "stream",
     "text": [
      "D:\\source\\repos\\venv\\Python310\\lib\\site-packages\\sklearn\\utils\\validation.py:1141: DataConversionWarning: A column-vector y was passed when a 1d array was expected. Please change the shape of y to (n_samples, ), for example using ravel().\n",
      "  y = column_or_1d(y, warn=True)\n",
      "D:\\source\\repos\\venv\\Python310\\lib\\site-packages\\lightgbm\\sklearn.py:736: UserWarning: 'verbose' argument is deprecated and will be removed in a future release of LightGBM. Pass 'log_evaluation()' callback via 'callbacks' argument instead.\n",
      "  _log_warning(\"'verbose' argument is deprecated and will be removed in a future release of LightGBM. \"\n",
      "D:\\source\\repos\\venv\\Python310\\lib\\site-packages\\lightgbm\\basic.py:179: UserWarning: Converting column-vector to 1d array\n",
      "  _log_warning('Converting column-vector to 1d array')\n",
      "\u001b[32m[I 2023-01-16 08:41:19,214]\u001b[0m Trial 280 finished with value: 0.8711859121787484 and parameters: {'learning_rate': 0.024741715539449444, 'max_depth': 769, 'num_leaves': 6231, 'colsample_bytree': 0.8759323978695994, 'subsample': 0.9649078125320264, 'subsample_freq': 5, 'min_child_samples': 96, 'reg_lambda': 8, 'n_estimators': 30388}. Best is trial 205 with value: 0.8959219642026134.\u001b[0m\n"
     ]
    },
    {
     "name": "stdout",
     "output_type": "stream",
     "text": [
      "Early stopping, best iteration is:\n",
      "[25]\tvalid_0's auc: 0.871186\n",
      "0.8711859121787484\n",
      "Training until validation scores don't improve for 100 rounds\n"
     ]
    },
    {
     "name": "stderr",
     "output_type": "stream",
     "text": [
      "D:\\source\\repos\\venv\\Python310\\lib\\site-packages\\sklearn\\utils\\validation.py:1141: DataConversionWarning: A column-vector y was passed when a 1d array was expected. Please change the shape of y to (n_samples, ), for example using ravel().\n",
      "  y = column_or_1d(y, warn=True)\n",
      "D:\\source\\repos\\venv\\Python310\\lib\\site-packages\\lightgbm\\sklearn.py:736: UserWarning: 'verbose' argument is deprecated and will be removed in a future release of LightGBM. Pass 'log_evaluation()' callback via 'callbacks' argument instead.\n",
      "  _log_warning(\"'verbose' argument is deprecated and will be removed in a future release of LightGBM. \"\n",
      "D:\\source\\repos\\venv\\Python310\\lib\\site-packages\\lightgbm\\basic.py:179: UserWarning: Converting column-vector to 1d array\n",
      "  _log_warning('Converting column-vector to 1d array')\n",
      "\u001b[32m[I 2023-01-16 08:41:19,884]\u001b[0m Trial 281 finished with value: 0.8721748963031457 and parameters: {'learning_rate': 0.018163504789537578, 'max_depth': 797, 'num_leaves': 7559, 'colsample_bytree': 0.8807867950344789, 'subsample': 0.9816239534113823, 'subsample_freq': 5, 'min_child_samples': 31, 'reg_lambda': 5, 'n_estimators': 27406}. Best is trial 205 with value: 0.8959219642026134.\u001b[0m\n"
     ]
    },
    {
     "name": "stdout",
     "output_type": "stream",
     "text": [
      "Early stopping, best iteration is:\n",
      "[46]\tvalid_0's auc: 0.872175\n",
      "0.8721748963031457\n",
      "Training until validation scores don't improve for 100 rounds\n"
     ]
    },
    {
     "name": "stderr",
     "output_type": "stream",
     "text": [
      "D:\\source\\repos\\venv\\Python310\\lib\\site-packages\\sklearn\\utils\\validation.py:1141: DataConversionWarning: A column-vector y was passed when a 1d array was expected. Please change the shape of y to (n_samples, ), for example using ravel().\n",
      "  y = column_or_1d(y, warn=True)\n",
      "D:\\source\\repos\\venv\\Python310\\lib\\site-packages\\lightgbm\\sklearn.py:736: UserWarning: 'verbose' argument is deprecated and will be removed in a future release of LightGBM. Pass 'log_evaluation()' callback via 'callbacks' argument instead.\n",
      "  _log_warning(\"'verbose' argument is deprecated and will be removed in a future release of LightGBM. \"\n",
      "D:\\source\\repos\\venv\\Python310\\lib\\site-packages\\lightgbm\\basic.py:179: UserWarning: Converting column-vector to 1d array\n",
      "  _log_warning('Converting column-vector to 1d array')\n",
      "\u001b[32m[I 2023-01-16 08:41:20,268]\u001b[0m Trial 282 finished with value: 0.8788913679903183 and parameters: {'learning_rate': 0.020938861249059294, 'max_depth': 715, 'num_leaves': 4507, 'colsample_bytree': 0.5638690087770487, 'subsample': 0.9975297053893382, 'subsample_freq': 8, 'min_child_samples': 119, 'reg_lambda': 11, 'n_estimators': 32820}. Best is trial 205 with value: 0.8959219642026134.\u001b[0m\n"
     ]
    },
    {
     "name": "stdout",
     "output_type": "stream",
     "text": [
      "Early stopping, best iteration is:\n",
      "[40]\tvalid_0's auc: 0.878891\n",
      "0.8788913679903183\n",
      "Training until validation scores don't improve for 100 rounds\n"
     ]
    },
    {
     "name": "stderr",
     "output_type": "stream",
     "text": [
      "D:\\source\\repos\\venv\\Python310\\lib\\site-packages\\sklearn\\utils\\validation.py:1141: DataConversionWarning: A column-vector y was passed when a 1d array was expected. Please change the shape of y to (n_samples, ), for example using ravel().\n",
      "  y = column_or_1d(y, warn=True)\n",
      "D:\\source\\repos\\venv\\Python310\\lib\\site-packages\\lightgbm\\sklearn.py:736: UserWarning: 'verbose' argument is deprecated and will be removed in a future release of LightGBM. Pass 'log_evaluation()' callback via 'callbacks' argument instead.\n",
      "  _log_warning(\"'verbose' argument is deprecated and will be removed in a future release of LightGBM. \"\n",
      "D:\\source\\repos\\venv\\Python310\\lib\\site-packages\\lightgbm\\basic.py:179: UserWarning: Converting column-vector to 1d array\n",
      "  _log_warning('Converting column-vector to 1d array')\n",
      "\u001b[32m[I 2023-01-16 08:41:20,669]\u001b[0m Trial 283 finished with value: 0.8805447258557559 and parameters: {'learning_rate': 0.018668549202987085, 'max_depth': 799, 'num_leaves': 5858, 'colsample_bytree': 0.8593794841008865, 'subsample': 0.9323436545106293, 'subsample_freq': 5, 'min_child_samples': 64, 'reg_lambda': 13, 'n_estimators': 34202}. Best is trial 205 with value: 0.8959219642026134.\u001b[0m\n"
     ]
    },
    {
     "name": "stdout",
     "output_type": "stream",
     "text": [
      "Early stopping, best iteration is:\n",
      "[30]\tvalid_0's auc: 0.880545\n",
      "0.8805447258557559\n",
      "Training until validation scores don't improve for 100 rounds\n"
     ]
    },
    {
     "name": "stderr",
     "output_type": "stream",
     "text": [
      "D:\\source\\repos\\venv\\Python310\\lib\\site-packages\\sklearn\\utils\\validation.py:1141: DataConversionWarning: A column-vector y was passed when a 1d array was expected. Please change the shape of y to (n_samples, ), for example using ravel().\n",
      "  y = column_or_1d(y, warn=True)\n",
      "D:\\source\\repos\\venv\\Python310\\lib\\site-packages\\lightgbm\\sklearn.py:736: UserWarning: 'verbose' argument is deprecated and will be removed in a future release of LightGBM. Pass 'log_evaluation()' callback via 'callbacks' argument instead.\n",
      "  _log_warning(\"'verbose' argument is deprecated and will be removed in a future release of LightGBM. \"\n",
      "D:\\source\\repos\\venv\\Python310\\lib\\site-packages\\lightgbm\\basic.py:179: UserWarning: Converting column-vector to 1d array\n",
      "  _log_warning('Converting column-vector to 1d array')\n",
      "\u001b[32m[I 2023-01-16 08:41:21,194]\u001b[0m Trial 284 finished with value: 0.8903699144092663 and parameters: {'learning_rate': 0.015947457456491173, 'max_depth': 727, 'num_leaves': 6412, 'colsample_bytree': 0.9233196723649559, 'subsample': 0.9570580359105852, 'subsample_freq': 5, 'min_child_samples': 82, 'reg_lambda': 82, 'n_estimators': 36374}. Best is trial 205 with value: 0.8959219642026134.\u001b[0m\n"
     ]
    },
    {
     "name": "stdout",
     "output_type": "stream",
     "text": [
      "Early stopping, best iteration is:\n",
      "[138]\tvalid_0's auc: 0.89037\n",
      "0.8903699144092663\n",
      "Training until validation scores don't improve for 100 rounds\n"
     ]
    },
    {
     "name": "stderr",
     "output_type": "stream",
     "text": [
      "D:\\source\\repos\\venv\\Python310\\lib\\site-packages\\sklearn\\utils\\validation.py:1141: DataConversionWarning: A column-vector y was passed when a 1d array was expected. Please change the shape of y to (n_samples, ), for example using ravel().\n",
      "  y = column_or_1d(y, warn=True)\n",
      "D:\\source\\repos\\venv\\Python310\\lib\\site-packages\\lightgbm\\sklearn.py:736: UserWarning: 'verbose' argument is deprecated and will be removed in a future release of LightGBM. Pass 'log_evaluation()' callback via 'callbacks' argument instead.\n",
      "  _log_warning(\"'verbose' argument is deprecated and will be removed in a future release of LightGBM. \"\n",
      "D:\\source\\repos\\venv\\Python310\\lib\\site-packages\\lightgbm\\basic.py:179: UserWarning: Converting column-vector to 1d array\n",
      "  _log_warning('Converting column-vector to 1d array')\n",
      "\u001b[32m[I 2023-01-16 08:41:21,602]\u001b[0m Trial 285 finished with value: 0.880948468438375 and parameters: {'learning_rate': 0.01668637450776295, 'max_depth': 731, 'num_leaves': 6392, 'colsample_bytree': 0.6959256389084327, 'subsample': 0.9546712021904074, 'subsample_freq': 5, 'min_child_samples': 84, 'reg_lambda': 8, 'n_estimators': 31155}. Best is trial 205 with value: 0.8959219642026134.\u001b[0m\n"
     ]
    },
    {
     "name": "stdout",
     "output_type": "stream",
     "text": [
      "Early stopping, best iteration is:\n",
      "[40]\tvalid_0's auc: 0.880948\n",
      "0.880948468438375\n",
      "Training until validation scores don't improve for 100 rounds\n"
     ]
    },
    {
     "name": "stderr",
     "output_type": "stream",
     "text": [
      "D:\\source\\repos\\venv\\Python310\\lib\\site-packages\\sklearn\\utils\\validation.py:1141: DataConversionWarning: A column-vector y was passed when a 1d array was expected. Please change the shape of y to (n_samples, ), for example using ravel().\n",
      "  y = column_or_1d(y, warn=True)\n",
      "D:\\source\\repos\\venv\\Python310\\lib\\site-packages\\lightgbm\\sklearn.py:736: UserWarning: 'verbose' argument is deprecated and will be removed in a future release of LightGBM. Pass 'log_evaluation()' callback via 'callbacks' argument instead.\n",
      "  _log_warning(\"'verbose' argument is deprecated and will be removed in a future release of LightGBM. \"\n",
      "D:\\source\\repos\\venv\\Python310\\lib\\site-packages\\lightgbm\\basic.py:179: UserWarning: Converting column-vector to 1d array\n",
      "  _log_warning('Converting column-vector to 1d array')\n",
      "\u001b[32m[I 2023-01-16 08:41:21,842]\u001b[0m Trial 286 finished with value: 0.87279313765568 and parameters: {'learning_rate': 0.015762043826166187, 'max_depth': 534, 'num_leaves': 6470, 'colsample_bytree': 0.9069710225671924, 'subsample': 0.9724362477086116, 'subsample_freq': 5, 'min_child_samples': 420, 'reg_lambda': 83, 'n_estimators': 35697}. Best is trial 205 with value: 0.8959219642026134.\u001b[0m\n"
     ]
    },
    {
     "name": "stdout",
     "output_type": "stream",
     "text": [
      "Early stopping, best iteration is:\n",
      "[48]\tvalid_0's auc: 0.872793\n",
      "0.87279313765568\n",
      "Training until validation scores don't improve for 100 rounds\n"
     ]
    },
    {
     "name": "stderr",
     "output_type": "stream",
     "text": [
      "D:\\source\\repos\\venv\\Python310\\lib\\site-packages\\sklearn\\utils\\validation.py:1141: DataConversionWarning: A column-vector y was passed when a 1d array was expected. Please change the shape of y to (n_samples, ), for example using ravel().\n",
      "  y = column_or_1d(y, warn=True)\n",
      "D:\\source\\repos\\venv\\Python310\\lib\\site-packages\\lightgbm\\sklearn.py:736: UserWarning: 'verbose' argument is deprecated and will be removed in a future release of LightGBM. Pass 'log_evaluation()' callback via 'callbacks' argument instead.\n",
      "  _log_warning(\"'verbose' argument is deprecated and will be removed in a future release of LightGBM. \"\n",
      "D:\\source\\repos\\venv\\Python310\\lib\\site-packages\\lightgbm\\basic.py:179: UserWarning: Converting column-vector to 1d array\n",
      "  _log_warning('Converting column-vector to 1d array')\n",
      "\u001b[32m[I 2023-01-16 08:41:22,340]\u001b[0m Trial 287 finished with value: 0.8797035674142358 and parameters: {'learning_rate': 0.02245957182971043, 'max_depth': 739, 'num_leaves': 6225, 'colsample_bytree': 0.6805275618874652, 'subsample': 0.9462080145399451, 'subsample_freq': 8, 'min_child_samples': 54, 'reg_lambda': 16, 'n_estimators': 32665}. Best is trial 205 with value: 0.8959219642026134.\u001b[0m\n"
     ]
    },
    {
     "name": "stdout",
     "output_type": "stream",
     "text": [
      "Early stopping, best iteration is:\n",
      "[34]\tvalid_0's auc: 0.879704\n",
      "0.8797035674142358\n",
      "Training until validation scores don't improve for 100 rounds\n"
     ]
    },
    {
     "name": "stderr",
     "output_type": "stream",
     "text": [
      "D:\\source\\repos\\venv\\Python310\\lib\\site-packages\\sklearn\\utils\\validation.py:1141: DataConversionWarning: A column-vector y was passed when a 1d array was expected. Please change the shape of y to (n_samples, ), for example using ravel().\n",
      "  y = column_or_1d(y, warn=True)\n",
      "D:\\source\\repos\\venv\\Python310\\lib\\site-packages\\lightgbm\\sklearn.py:736: UserWarning: 'verbose' argument is deprecated and will be removed in a future release of LightGBM. Pass 'log_evaluation()' callback via 'callbacks' argument instead.\n",
      "  _log_warning(\"'verbose' argument is deprecated and will be removed in a future release of LightGBM. \"\n",
      "D:\\source\\repos\\venv\\Python310\\lib\\site-packages\\lightgbm\\basic.py:179: UserWarning: Converting column-vector to 1d array\n",
      "  _log_warning('Converting column-vector to 1d array')\n",
      "\u001b[32m[I 2023-01-16 08:41:22,639]\u001b[0m Trial 288 finished with value: 0.8798170463553056 and parameters: {'learning_rate': 0.01935525327757185, 'max_depth': 711, 'num_leaves': 6100, 'colsample_bytree': 0.9082228595612678, 'subsample': 0.9206629519438839, 'subsample_freq': 5, 'min_child_samples': 100, 'reg_lambda': 86, 'n_estimators': 36182}. Best is trial 205 with value: 0.8959219642026134.\u001b[0m\n"
     ]
    },
    {
     "name": "stdout",
     "output_type": "stream",
     "text": [
      "Early stopping, best iteration is:\n",
      "[35]\tvalid_0's auc: 0.879817\n",
      "0.8798170463553056\n",
      "Training until validation scores don't improve for 100 rounds\n"
     ]
    },
    {
     "name": "stderr",
     "output_type": "stream",
     "text": [
      "D:\\source\\repos\\venv\\Python310\\lib\\site-packages\\sklearn\\utils\\validation.py:1141: DataConversionWarning: A column-vector y was passed when a 1d array was expected. Please change the shape of y to (n_samples, ), for example using ravel().\n",
      "  y = column_or_1d(y, warn=True)\n",
      "D:\\source\\repos\\venv\\Python310\\lib\\site-packages\\lightgbm\\sklearn.py:736: UserWarning: 'verbose' argument is deprecated and will be removed in a future release of LightGBM. Pass 'log_evaluation()' callback via 'callbacks' argument instead.\n",
      "  _log_warning(\"'verbose' argument is deprecated and will be removed in a future release of LightGBM. \"\n",
      "D:\\source\\repos\\venv\\Python310\\lib\\site-packages\\lightgbm\\basic.py:179: UserWarning: Converting column-vector to 1d array\n",
      "  _log_warning('Converting column-vector to 1d array')\n",
      "\u001b[32m[I 2023-01-16 08:41:23,085]\u001b[0m Trial 289 finished with value: 0.8741144770169788 and parameters: {'learning_rate': 0.01371139934411137, 'max_depth': 770, 'num_leaves': 6460, 'colsample_bytree': 0.5881566567700707, 'subsample': 0.967776257185624, 'subsample_freq': 5, 'min_child_samples': 77, 'reg_lambda': 6, 'n_estimators': 44387}. Best is trial 205 with value: 0.8959219642026134.\u001b[0m\n"
     ]
    },
    {
     "name": "stdout",
     "output_type": "stream",
     "text": [
      "Early stopping, best iteration is:\n",
      "[40]\tvalid_0's auc: 0.874114\n",
      "0.8741144770169788\n",
      "Training until validation scores don't improve for 100 rounds\n"
     ]
    },
    {
     "name": "stderr",
     "output_type": "stream",
     "text": [
      "D:\\source\\repos\\venv\\Python310\\lib\\site-packages\\sklearn\\utils\\validation.py:1141: DataConversionWarning: A column-vector y was passed when a 1d array was expected. Please change the shape of y to (n_samples, ), for example using ravel().\n",
      "  y = column_or_1d(y, warn=True)\n",
      "D:\\source\\repos\\venv\\Python310\\lib\\site-packages\\lightgbm\\sklearn.py:736: UserWarning: 'verbose' argument is deprecated and will be removed in a future release of LightGBM. Pass 'log_evaluation()' callback via 'callbacks' argument instead.\n",
      "  _log_warning(\"'verbose' argument is deprecated and will be removed in a future release of LightGBM. \"\n",
      "D:\\source\\repos\\venv\\Python310\\lib\\site-packages\\lightgbm\\basic.py:179: UserWarning: Converting column-vector to 1d array\n",
      "  _log_warning('Converting column-vector to 1d array')\n",
      "\u001b[32m[I 2023-01-16 08:41:23,551]\u001b[0m Trial 290 finished with value: 0.8767645638603583 and parameters: {'learning_rate': 0.017403269661300153, 'max_depth': 753, 'num_leaves': 7306, 'colsample_bytree': 0.9298436963299599, 'subsample': 0.9379526199070579, 'subsample_freq': 6, 'min_child_samples': 116, 'reg_lambda': 81, 'n_estimators': 37224}. Best is trial 205 with value: 0.8959219642026134.\u001b[0m\n"
     ]
    },
    {
     "name": "stdout",
     "output_type": "stream",
     "text": [
      "Early stopping, best iteration is:\n",
      "[129]\tvalid_0's auc: 0.876765\n",
      "0.8767645638603583\n",
      "Training until validation scores don't improve for 100 rounds\n"
     ]
    },
    {
     "name": "stderr",
     "output_type": "stream",
     "text": [
      "D:\\source\\repos\\venv\\Python310\\lib\\site-packages\\sklearn\\utils\\validation.py:1141: DataConversionWarning: A column-vector y was passed when a 1d array was expected. Please change the shape of y to (n_samples, ), for example using ravel().\n",
      "  y = column_or_1d(y, warn=True)\n",
      "D:\\source\\repos\\venv\\Python310\\lib\\site-packages\\lightgbm\\sklearn.py:736: UserWarning: 'verbose' argument is deprecated and will be removed in a future release of LightGBM. Pass 'log_evaluation()' callback via 'callbacks' argument instead.\n",
      "  _log_warning(\"'verbose' argument is deprecated and will be removed in a future release of LightGBM. \"\n",
      "D:\\source\\repos\\venv\\Python310\\lib\\site-packages\\lightgbm\\basic.py:179: UserWarning: Converting column-vector to 1d array\n",
      "  _log_warning('Converting column-vector to 1d array')\n",
      "\u001b[32m[I 2023-01-16 08:41:24,006]\u001b[0m Trial 291 finished with value: 0.8753576943773036 and parameters: {'learning_rate': 0.015436850910217785, 'max_depth': 426, 'num_leaves': 6896, 'colsample_bytree': 0.9207748476258737, 'subsample': 0.9560201820774454, 'subsample_freq': 5, 'min_child_samples': 38, 'reg_lambda': 30, 'n_estimators': 29155}. Best is trial 205 with value: 0.8959219642026134.\u001b[0m\n"
     ]
    },
    {
     "name": "stdout",
     "output_type": "stream",
     "text": [
      "Early stopping, best iteration is:\n",
      "[36]\tvalid_0's auc: 0.875358\n",
      "0.8753576943773036\n",
      "Training until validation scores don't improve for 100 rounds\n"
     ]
    },
    {
     "name": "stderr",
     "output_type": "stream",
     "text": [
      "D:\\source\\repos\\venv\\Python310\\lib\\site-packages\\sklearn\\utils\\validation.py:1141: DataConversionWarning: A column-vector y was passed when a 1d array was expected. Please change the shape of y to (n_samples, ), for example using ravel().\n",
      "  y = column_or_1d(y, warn=True)\n",
      "D:\\source\\repos\\venv\\Python310\\lib\\site-packages\\lightgbm\\sklearn.py:736: UserWarning: 'verbose' argument is deprecated and will be removed in a future release of LightGBM. Pass 'log_evaluation()' callback via 'callbacks' argument instead.\n",
      "  _log_warning(\"'verbose' argument is deprecated and will be removed in a future release of LightGBM. \"\n",
      "D:\\source\\repos\\venv\\Python310\\lib\\site-packages\\lightgbm\\basic.py:179: UserWarning: Converting column-vector to 1d array\n",
      "  _log_warning('Converting column-vector to 1d array')\n",
      "\u001b[32m[I 2023-01-16 08:41:24,573]\u001b[0m Trial 292 finished with value: 0.8838012684049711 and parameters: {'learning_rate': 0.013511663921855297, 'max_depth': 732, 'num_leaves': 7686, 'colsample_bytree': 0.9412314601019476, 'subsample': 0.984753106938275, 'subsample_freq': 5, 'min_child_samples': 296, 'reg_lambda': 9, 'n_estimators': 34038}. Best is trial 205 with value: 0.8959219642026134.\u001b[0m\n"
     ]
    },
    {
     "name": "stdout",
     "output_type": "stream",
     "text": [
      "Early stopping, best iteration is:\n",
      "[227]\tvalid_0's auc: 0.883801\n",
      "0.8838012684049711\n",
      "Training until validation scores don't improve for 100 rounds\n"
     ]
    },
    {
     "name": "stderr",
     "output_type": "stream",
     "text": [
      "D:\\source\\repos\\venv\\Python310\\lib\\site-packages\\sklearn\\utils\\validation.py:1141: DataConversionWarning: A column-vector y was passed when a 1d array was expected. Please change the shape of y to (n_samples, ), for example using ravel().\n",
      "  y = column_or_1d(y, warn=True)\n",
      "D:\\source\\repos\\venv\\Python310\\lib\\site-packages\\lightgbm\\sklearn.py:736: UserWarning: 'verbose' argument is deprecated and will be removed in a future release of LightGBM. Pass 'log_evaluation()' callback via 'callbacks' argument instead.\n",
      "  _log_warning(\"'verbose' argument is deprecated and will be removed in a future release of LightGBM. \"\n",
      "D:\\source\\repos\\venv\\Python310\\lib\\site-packages\\lightgbm\\basic.py:179: UserWarning: Converting column-vector to 1d array\n",
      "  _log_warning('Converting column-vector to 1d array')\n",
      "\u001b[32m[I 2023-01-16 08:41:25,619]\u001b[0m Trial 293 finished with value: 0.8715768589163806 and parameters: {'learning_rate': 0.004284926833365635, 'max_depth': 695, 'num_leaves': 6308, 'colsample_bytree': 0.6170819975168895, 'subsample': 0.9254945610919385, 'subsample_freq': 5, 'min_child_samples': 123, 'reg_lambda': 81, 'n_estimators': 40114}. Best is trial 205 with value: 0.8959219642026134.\u001b[0m\n"
     ]
    },
    {
     "name": "stdout",
     "output_type": "stream",
     "text": [
      "Early stopping, best iteration is:\n",
      "[449]\tvalid_0's auc: 0.871577\n",
      "0.8715768589163806\n",
      "Training until validation scores don't improve for 100 rounds\n"
     ]
    },
    {
     "name": "stderr",
     "output_type": "stream",
     "text": [
      "D:\\source\\repos\\venv\\Python310\\lib\\site-packages\\sklearn\\utils\\validation.py:1141: DataConversionWarning: A column-vector y was passed when a 1d array was expected. Please change the shape of y to (n_samples, ), for example using ravel().\n",
      "  y = column_or_1d(y, warn=True)\n",
      "D:\\source\\repos\\venv\\Python310\\lib\\site-packages\\lightgbm\\sklearn.py:736: UserWarning: 'verbose' argument is deprecated and will be removed in a future release of LightGBM. Pass 'log_evaluation()' callback via 'callbacks' argument instead.\n",
      "  _log_warning(\"'verbose' argument is deprecated and will be removed in a future release of LightGBM. \"\n",
      "D:\\source\\repos\\venv\\Python310\\lib\\site-packages\\lightgbm\\basic.py:179: UserWarning: Converting column-vector to 1d array\n",
      "  _log_warning('Converting column-vector to 1d array')\n",
      "\u001b[32m[I 2023-01-16 08:41:26,049]\u001b[0m Trial 294 finished with value: 0.8830567522663799 and parameters: {'learning_rate': 0.018550061229088064, 'max_depth': 723, 'num_leaves': 5943, 'colsample_bytree': 0.5206140503186077, 'subsample': 0.9063015387036042, 'subsample_freq': 1, 'min_child_samples': 100, 'reg_lambda': 2, 'n_estimators': 38838}. Best is trial 205 with value: 0.8959219642026134.\u001b[0m\n"
     ]
    },
    {
     "name": "stdout",
     "output_type": "stream",
     "text": [
      "Early stopping, best iteration is:\n",
      "[44]\tvalid_0's auc: 0.883057\n",
      "0.8830567522663799\n",
      "Training until validation scores don't improve for 100 rounds\n"
     ]
    },
    {
     "name": "stderr",
     "output_type": "stream",
     "text": [
      "D:\\source\\repos\\venv\\Python310\\lib\\site-packages\\sklearn\\utils\\validation.py:1141: DataConversionWarning: A column-vector y was passed when a 1d array was expected. Please change the shape of y to (n_samples, ), for example using ravel().\n",
      "  y = column_or_1d(y, warn=True)\n",
      "D:\\source\\repos\\venv\\Python310\\lib\\site-packages\\lightgbm\\sklearn.py:736: UserWarning: 'verbose' argument is deprecated and will be removed in a future release of LightGBM. Pass 'log_evaluation()' callback via 'callbacks' argument instead.\n",
      "  _log_warning(\"'verbose' argument is deprecated and will be removed in a future release of LightGBM. \"\n",
      "D:\\source\\repos\\venv\\Python310\\lib\\site-packages\\lightgbm\\basic.py:179: UserWarning: Converting column-vector to 1d array\n",
      "  _log_warning('Converting column-vector to 1d array')\n",
      "\u001b[32m[I 2023-01-16 08:41:26,563]\u001b[0m Trial 295 finished with value: 0.8750485737010364 and parameters: {'learning_rate': 0.02071249020206372, 'max_depth': 181, 'num_leaves': 5726, 'colsample_bytree': 0.6657009657161349, 'subsample': 0.9431760055308518, 'subsample_freq': 5, 'min_child_samples': 77, 'reg_lambda': 4, 'n_estimators': 40896}. Best is trial 205 with value: 0.8959219642026134.\u001b[0m\n"
     ]
    },
    {
     "name": "stdout",
     "output_type": "stream",
     "text": [
      "Early stopping, best iteration is:\n",
      "[39]\tvalid_0's auc: 0.875049\n",
      "0.8750485737010364\n",
      "Training until validation scores don't improve for 100 rounds\n"
     ]
    },
    {
     "name": "stderr",
     "output_type": "stream",
     "text": [
      "D:\\source\\repos\\venv\\Python310\\lib\\site-packages\\sklearn\\utils\\validation.py:1141: DataConversionWarning: A column-vector y was passed when a 1d array was expected. Please change the shape of y to (n_samples, ), for example using ravel().\n",
      "  y = column_or_1d(y, warn=True)\n",
      "D:\\source\\repos\\venv\\Python310\\lib\\site-packages\\lightgbm\\sklearn.py:736: UserWarning: 'verbose' argument is deprecated and will be removed in a future release of LightGBM. Pass 'log_evaluation()' callback via 'callbacks' argument instead.\n",
      "  _log_warning(\"'verbose' argument is deprecated and will be removed in a future release of LightGBM. \"\n",
      "D:\\source\\repos\\venv\\Python310\\lib\\site-packages\\lightgbm\\basic.py:179: UserWarning: Converting column-vector to 1d array\n",
      "  _log_warning('Converting column-vector to 1d array')\n",
      "\u001b[32m[I 2023-01-16 08:41:26,933]\u001b[0m Trial 296 finished with value: 0.8935392431729116 and parameters: {'learning_rate': 0.016862868385490764, 'max_depth': 755, 'num_leaves': 7444, 'colsample_bytree': 0.7083087667211045, 'subsample': 0.9671971609186126, 'subsample_freq': 5, 'min_child_samples': 149, 'reg_lambda': 87, 'n_estimators': 45709}. Best is trial 205 with value: 0.8959219642026134.\u001b[0m\n"
     ]
    },
    {
     "name": "stdout",
     "output_type": "stream",
     "text": [
      "Early stopping, best iteration is:\n",
      "[59]\tvalid_0's auc: 0.893539\n",
      "0.8935392431729116\n",
      "Training until validation scores don't improve for 100 rounds\n"
     ]
    },
    {
     "name": "stderr",
     "output_type": "stream",
     "text": [
      "D:\\source\\repos\\venv\\Python310\\lib\\site-packages\\sklearn\\utils\\validation.py:1141: DataConversionWarning: A column-vector y was passed when a 1d array was expected. Please change the shape of y to (n_samples, ), for example using ravel().\n",
      "  y = column_or_1d(y, warn=True)\n",
      "D:\\source\\repos\\venv\\Python310\\lib\\site-packages\\lightgbm\\sklearn.py:736: UserWarning: 'verbose' argument is deprecated and will be removed in a future release of LightGBM. Pass 'log_evaluation()' callback via 'callbacks' argument instead.\n",
      "  _log_warning(\"'verbose' argument is deprecated and will be removed in a future release of LightGBM. \"\n",
      "D:\\source\\repos\\venv\\Python310\\lib\\site-packages\\lightgbm\\basic.py:179: UserWarning: Converting column-vector to 1d array\n",
      "  _log_warning('Converting column-vector to 1d array')\n",
      "\u001b[32m[I 2023-01-16 08:41:27,211]\u001b[0m Trial 297 finished with value: 0.8767443598945892 and parameters: {'learning_rate': 0.01683322974053357, 'max_depth': 768, 'num_leaves': 7432, 'colsample_bytree': 0.7091809693288746, 'subsample': 0.9881924051765453, 'subsample_freq': 6, 'min_child_samples': 189, 'reg_lambda': 89, 'n_estimators': 45982}. Best is trial 205 with value: 0.8959219642026134.\u001b[0m\n"
     ]
    },
    {
     "name": "stdout",
     "output_type": "stream",
     "text": [
      "Early stopping, best iteration is:\n",
      "[30]\tvalid_0's auc: 0.876744\n",
      "0.8767443598945892\n",
      "Training until validation scores don't improve for 100 rounds\n"
     ]
    },
    {
     "name": "stderr",
     "output_type": "stream",
     "text": [
      "D:\\source\\repos\\venv\\Python310\\lib\\site-packages\\sklearn\\utils\\validation.py:1141: DataConversionWarning: A column-vector y was passed when a 1d array was expected. Please change the shape of y to (n_samples, ), for example using ravel().\n",
      "  y = column_or_1d(y, warn=True)\n",
      "D:\\source\\repos\\venv\\Python310\\lib\\site-packages\\lightgbm\\sklearn.py:736: UserWarning: 'verbose' argument is deprecated and will be removed in a future release of LightGBM. Pass 'log_evaluation()' callback via 'callbacks' argument instead.\n",
      "  _log_warning(\"'verbose' argument is deprecated and will be removed in a future release of LightGBM. \"\n",
      "D:\\source\\repos\\venv\\Python310\\lib\\site-packages\\lightgbm\\basic.py:179: UserWarning: Converting column-vector to 1d array\n",
      "  _log_warning('Converting column-vector to 1d array')\n",
      "\u001b[32m[I 2023-01-16 08:41:28,192]\u001b[0m Trial 298 finished with value: 0.8789452452323693 and parameters: {'learning_rate': 0.001205279173041536, 'max_depth': 455, 'num_leaves': 7927, 'colsample_bytree': 0.6882228499293395, 'subsample': 0.9684920816976237, 'subsample_freq': 5, 'min_child_samples': 154, 'reg_lambda': 86, 'n_estimators': 50857}. Best is trial 205 with value: 0.8959219642026134.\u001b[0m\n"
     ]
    },
    {
     "name": "stdout",
     "output_type": "stream",
     "text": [
      "Early stopping, best iteration is:\n",
      "[516]\tvalid_0's auc: 0.878945\n",
      "0.8789452452323693\n"
     ]
    },
    {
     "name": "stderr",
     "output_type": "stream",
     "text": [
      "D:\\source\\repos\\venv\\Python310\\lib\\site-packages\\sklearn\\utils\\validation.py:1141: DataConversionWarning: A column-vector y was passed when a 1d array was expected. Please change the shape of y to (n_samples, ), for example using ravel().\n",
      "  y = column_or_1d(y, warn=True)\n",
      "D:\\source\\repos\\venv\\Python310\\lib\\site-packages\\lightgbm\\sklearn.py:736: UserWarning: 'verbose' argument is deprecated and will be removed in a future release of LightGBM. Pass 'log_evaluation()' callback via 'callbacks' argument instead.\n",
      "  _log_warning(\"'verbose' argument is deprecated and will be removed in a future release of LightGBM. \"\n",
      "D:\\source\\repos\\venv\\Python310\\lib\\site-packages\\lightgbm\\basic.py:179: UserWarning: Converting column-vector to 1d array\n",
      "  _log_warning('Converting column-vector to 1d array')\n"
     ]
    },
    {
     "name": "stdout",
     "output_type": "stream",
     "text": [
      "Training until validation scores don't improve for 100 rounds\n"
     ]
    },
    {
     "name": "stderr",
     "output_type": "stream",
     "text": [
      "\u001b[32m[I 2023-01-16 08:41:28,620]\u001b[0m Trial 299 finished with value: 0.8824843065695888 and parameters: {'learning_rate': 0.022063965697516306, 'max_depth': 749, 'num_leaves': 7614, 'colsample_bytree': 0.7028931632373501, 'subsample': 0.9673331641642108, 'subsample_freq': 3, 'min_child_samples': 142, 'reg_lambda': 85, 'n_estimators': 44783}. Best is trial 205 with value: 0.8959219642026134.\u001b[0m\n"
     ]
    },
    {
     "name": "stdout",
     "output_type": "stream",
     "text": [
      "Early stopping, best iteration is:\n",
      "[63]\tvalid_0's auc: 0.882484\n",
      "0.8824843065695888\n",
      "Training until validation scores don't improve for 100 rounds\n"
     ]
    },
    {
     "name": "stderr",
     "output_type": "stream",
     "text": [
      "D:\\source\\repos\\venv\\Python310\\lib\\site-packages\\sklearn\\utils\\validation.py:1141: DataConversionWarning: A column-vector y was passed when a 1d array was expected. Please change the shape of y to (n_samples, ), for example using ravel().\n",
      "  y = column_or_1d(y, warn=True)\n",
      "D:\\source\\repos\\venv\\Python310\\lib\\site-packages\\lightgbm\\sklearn.py:736: UserWarning: 'verbose' argument is deprecated and will be removed in a future release of LightGBM. Pass 'log_evaluation()' callback via 'callbacks' argument instead.\n",
      "  _log_warning(\"'verbose' argument is deprecated and will be removed in a future release of LightGBM. \"\n",
      "D:\\source\\repos\\venv\\Python310\\lib\\site-packages\\lightgbm\\basic.py:179: UserWarning: Converting column-vector to 1d array\n",
      "  _log_warning('Converting column-vector to 1d array')\n",
      "\u001b[32m[I 2023-01-16 08:41:28,970]\u001b[0m Trial 300 finished with value: 0.884973771885104 and parameters: {'learning_rate': 0.01935316916963684, 'max_depth': 796, 'num_leaves': 6549, 'colsample_bytree': 0.6683449774758933, 'subsample': 0.9966737577625719, 'subsample_freq': 5, 'min_child_samples': 161, 'reg_lambda': 83, 'n_estimators': 46587}. Best is trial 205 with value: 0.8959219642026134.\u001b[0m\n"
     ]
    },
    {
     "name": "stdout",
     "output_type": "stream",
     "text": [
      "Early stopping, best iteration is:\n",
      "[42]\tvalid_0's auc: 0.884974\n",
      "0.884973771885104\n",
      "Training until validation scores don't improve for 100 rounds\n"
     ]
    },
    {
     "name": "stderr",
     "output_type": "stream",
     "text": [
      "D:\\source\\repos\\venv\\Python310\\lib\\site-packages\\sklearn\\utils\\validation.py:1141: DataConversionWarning: A column-vector y was passed when a 1d array was expected. Please change the shape of y to (n_samples, ), for example using ravel().\n",
      "  y = column_or_1d(y, warn=True)\n",
      "D:\\source\\repos\\venv\\Python310\\lib\\site-packages\\lightgbm\\sklearn.py:736: UserWarning: 'verbose' argument is deprecated and will be removed in a future release of LightGBM. Pass 'log_evaluation()' callback via 'callbacks' argument instead.\n",
      "  _log_warning(\"'verbose' argument is deprecated and will be removed in a future release of LightGBM. \"\n",
      "D:\\source\\repos\\venv\\Python310\\lib\\site-packages\\lightgbm\\basic.py:179: UserWarning: Converting column-vector to 1d array\n",
      "  _log_warning('Converting column-vector to 1d array')\n",
      "\u001b[32m[I 2023-01-16 08:41:29,347]\u001b[0m Trial 301 finished with value: 0.8746283312130393 and parameters: {'learning_rate': 0.015799308329102327, 'max_depth': 673, 'num_leaves': 7396, 'colsample_bytree': 0.6467498888748473, 'subsample': 0.9240786689032593, 'subsample_freq': 5, 'min_child_samples': 127, 'reg_lambda': 82, 'n_estimators': 44309}. Best is trial 205 with value: 0.8959219642026134.\u001b[0m\n"
     ]
    },
    {
     "name": "stdout",
     "output_type": "stream",
     "text": [
      "Early stopping, best iteration is:\n",
      "[46]\tvalid_0's auc: 0.874628\n",
      "0.8746283312130393\n",
      "Training until validation scores don't improve for 100 rounds\n"
     ]
    },
    {
     "name": "stderr",
     "output_type": "stream",
     "text": [
      "D:\\source\\repos\\venv\\Python310\\lib\\site-packages\\sklearn\\utils\\validation.py:1141: DataConversionWarning: A column-vector y was passed when a 1d array was expected. Please change the shape of y to (n_samples, ), for example using ravel().\n",
      "  y = column_or_1d(y, warn=True)\n",
      "D:\\source\\repos\\venv\\Python310\\lib\\site-packages\\lightgbm\\sklearn.py:736: UserWarning: 'verbose' argument is deprecated and will be removed in a future release of LightGBM. Pass 'log_evaluation()' callback via 'callbacks' argument instead.\n",
      "  _log_warning(\"'verbose' argument is deprecated and will be removed in a future release of LightGBM. \"\n",
      "D:\\source\\repos\\venv\\Python310\\lib\\site-packages\\lightgbm\\basic.py:179: UserWarning: Converting column-vector to 1d array\n",
      "  _log_warning('Converting column-vector to 1d array')\n",
      "\u001b[32m[I 2023-01-16 08:41:29,751]\u001b[0m Trial 302 finished with value: 0.8877178071693099 and parameters: {'learning_rate': 0.01768632215672847, 'max_depth': 713, 'num_leaves': 7157, 'colsample_bytree': 0.7209110148553115, 'subsample': 0.9046626135464949, 'subsample_freq': 5, 'min_child_samples': 115, 'reg_lambda': 87, 'n_estimators': 49055}. Best is trial 205 with value: 0.8959219642026134.\u001b[0m\n"
     ]
    },
    {
     "name": "stdout",
     "output_type": "stream",
     "text": [
      "Early stopping, best iteration is:\n",
      "[94]\tvalid_0's auc: 0.887718\n",
      "0.8877178071693099\n",
      "Training until validation scores don't improve for 100 rounds\n"
     ]
    },
    {
     "name": "stderr",
     "output_type": "stream",
     "text": [
      "D:\\source\\repos\\venv\\Python310\\lib\\site-packages\\sklearn\\utils\\validation.py:1141: DataConversionWarning: A column-vector y was passed when a 1d array was expected. Please change the shape of y to (n_samples, ), for example using ravel().\n",
      "  y = column_or_1d(y, warn=True)\n",
      "D:\\source\\repos\\venv\\Python310\\lib\\site-packages\\lightgbm\\sklearn.py:736: UserWarning: 'verbose' argument is deprecated and will be removed in a future release of LightGBM. Pass 'log_evaluation()' callback via 'callbacks' argument instead.\n",
      "  _log_warning(\"'verbose' argument is deprecated and will be removed in a future release of LightGBM. \"\n",
      "D:\\source\\repos\\venv\\Python310\\lib\\site-packages\\lightgbm\\basic.py:179: UserWarning: Converting column-vector to 1d array\n",
      "  _log_warning('Converting column-vector to 1d array')\n",
      "\u001b[32m[I 2023-01-16 08:41:30,133]\u001b[0m Trial 303 finished with value: 0.8770299092774592 and parameters: {'learning_rate': 0.02429176199736456, 'max_depth': 697, 'num_leaves': 6216, 'colsample_bytree': 0.6854393330263939, 'subsample': 0.9462449764906837, 'subsample_freq': 5, 'min_child_samples': 51, 'reg_lambda': 84, 'n_estimators': 42381}. Best is trial 205 with value: 0.8959219642026134.\u001b[0m\n"
     ]
    },
    {
     "name": "stdout",
     "output_type": "stream",
     "text": [
      "Early stopping, best iteration is:\n",
      "[26]\tvalid_0's auc: 0.87703\n",
      "0.8770299092774592\n",
      "Training until validation scores don't improve for 100 rounds\n"
     ]
    },
    {
     "name": "stderr",
     "output_type": "stream",
     "text": [
      "D:\\source\\repos\\venv\\Python310\\lib\\site-packages\\sklearn\\utils\\validation.py:1141: DataConversionWarning: A column-vector y was passed when a 1d array was expected. Please change the shape of y to (n_samples, ), for example using ravel().\n",
      "  y = column_or_1d(y, warn=True)\n",
      "D:\\source\\repos\\venv\\Python310\\lib\\site-packages\\lightgbm\\sklearn.py:736: UserWarning: 'verbose' argument is deprecated and will be removed in a future release of LightGBM. Pass 'log_evaluation()' callback via 'callbacks' argument instead.\n",
      "  _log_warning(\"'verbose' argument is deprecated and will be removed in a future release of LightGBM. \"\n",
      "D:\\source\\repos\\venv\\Python310\\lib\\site-packages\\lightgbm\\basic.py:179: UserWarning: Converting column-vector to 1d array\n",
      "  _log_warning('Converting column-vector to 1d array')\n",
      "\u001b[32m[I 2023-01-16 08:41:30,468]\u001b[0m Trial 304 finished with value: 0.8695938396761439 and parameters: {'learning_rate': 0.07428434558011042, 'max_depth': 747, 'num_leaves': 6714, 'colsample_bytree': 0.9592190999303328, 'subsample': 0.9786713831170933, 'subsample_freq': 2, 'min_child_samples': 134, 'reg_lambda': 80, 'n_estimators': 34340}. Best is trial 205 with value: 0.8959219642026134.\u001b[0m\n"
     ]
    },
    {
     "name": "stdout",
     "output_type": "stream",
     "text": [
      "Early stopping, best iteration is:\n",
      "[22]\tvalid_0's auc: 0.869594\n",
      "0.8695938396761439\n",
      "Training until validation scores don't improve for 100 rounds\n"
     ]
    },
    {
     "name": "stderr",
     "output_type": "stream",
     "text": [
      "D:\\source\\repos\\venv\\Python310\\lib\\site-packages\\sklearn\\utils\\validation.py:1141: DataConversionWarning: A column-vector y was passed when a 1d array was expected. Please change the shape of y to (n_samples, ), for example using ravel().\n",
      "  y = column_or_1d(y, warn=True)\n",
      "D:\\source\\repos\\venv\\Python310\\lib\\site-packages\\lightgbm\\sklearn.py:736: UserWarning: 'verbose' argument is deprecated and will be removed in a future release of LightGBM. Pass 'log_evaluation()' callback via 'callbacks' argument instead.\n",
      "  _log_warning(\"'verbose' argument is deprecated and will be removed in a future release of LightGBM. \"\n",
      "D:\\source\\repos\\venv\\Python310\\lib\\site-packages\\lightgbm\\basic.py:179: UserWarning: Converting column-vector to 1d array\n",
      "  _log_warning('Converting column-vector to 1d array')\n",
      "\u001b[32m[I 2023-01-16 08:41:30,798]\u001b[0m Trial 305 finished with value: 0.8720961008366461 and parameters: {'learning_rate': 0.006073591053856487, 'max_depth': 168, 'num_leaves': 7807, 'colsample_bytree': 0.7072948432256196, 'subsample': 0.929995022644782, 'subsample_freq': 5, 'min_child_samples': 104, 'reg_lambda': 7, 'n_estimators': 36542}. Best is trial 205 with value: 0.8959219642026134.\u001b[0m\n"
     ]
    },
    {
     "name": "stdout",
     "output_type": "stream",
     "text": [
      "Early stopping, best iteration is:\n",
      "[29]\tvalid_0's auc: 0.872096\n",
      "0.8720961008366461\n",
      "Training until validation scores don't improve for 100 rounds\n"
     ]
    },
    {
     "name": "stderr",
     "output_type": "stream",
     "text": [
      "D:\\source\\repos\\venv\\Python310\\lib\\site-packages\\sklearn\\utils\\validation.py:1141: DataConversionWarning: A column-vector y was passed when a 1d array was expected. Please change the shape of y to (n_samples, ), for example using ravel().\n",
      "  y = column_or_1d(y, warn=True)\n",
      "D:\\source\\repos\\venv\\Python310\\lib\\site-packages\\lightgbm\\sklearn.py:736: UserWarning: 'verbose' argument is deprecated and will be removed in a future release of LightGBM. Pass 'log_evaluation()' callback via 'callbacks' argument instead.\n",
      "  _log_warning(\"'verbose' argument is deprecated and will be removed in a future release of LightGBM. \"\n",
      "D:\\source\\repos\\venv\\Python310\\lib\\site-packages\\lightgbm\\basic.py:179: UserWarning: Converting column-vector to 1d array\n",
      "  _log_warning('Converting column-vector to 1d array')\n",
      "\u001b[32m[I 2023-01-16 08:41:31,199]\u001b[0m Trial 306 finished with value: 0.8815923014808834 and parameters: {'learning_rate': 0.09971631641436735, 'max_depth': 754, 'num_leaves': 6443, 'colsample_bytree': 0.6537993860877569, 'subsample': 0.9588209896691375, 'subsample_freq': 5, 'min_child_samples': 69, 'reg_lambda': 88, 'n_estimators': 38033}. Best is trial 205 with value: 0.8959219642026134.\u001b[0m\n"
     ]
    },
    {
     "name": "stdout",
     "output_type": "stream",
     "text": [
      "Early stopping, best iteration is:\n",
      "[7]\tvalid_0's auc: 0.881592\n",
      "0.8815923014808834\n",
      "Training until validation scores don't improve for 100 rounds\n"
     ]
    },
    {
     "name": "stderr",
     "output_type": "stream",
     "text": [
      "D:\\source\\repos\\venv\\Python310\\lib\\site-packages\\sklearn\\utils\\validation.py:1141: DataConversionWarning: A column-vector y was passed when a 1d array was expected. Please change the shape of y to (n_samples, ), for example using ravel().\n",
      "  y = column_or_1d(y, warn=True)\n",
      "D:\\source\\repos\\venv\\Python310\\lib\\site-packages\\lightgbm\\sklearn.py:736: UserWarning: 'verbose' argument is deprecated and will be removed in a future release of LightGBM. Pass 'log_evaluation()' callback via 'callbacks' argument instead.\n",
      "  _log_warning(\"'verbose' argument is deprecated and will be removed in a future release of LightGBM. \"\n",
      "D:\\source\\repos\\venv\\Python310\\lib\\site-packages\\lightgbm\\basic.py:179: UserWarning: Converting column-vector to 1d array\n",
      "  _log_warning('Converting column-vector to 1d array')\n",
      "\u001b[32m[I 2023-01-16 08:41:31,484]\u001b[0m Trial 307 finished with value: 0.8944474114342323 and parameters: {'learning_rate': 0.012371516757820212, 'max_depth': 300, 'num_leaves': 6045, 'colsample_bytree': 0.6745173495417561, 'subsample': 0.8897328425018908, 'subsample_freq': 6, 'min_child_samples': 152, 'reg_lambda': 84, 'n_estimators': 43020}. Best is trial 205 with value: 0.8959219642026134.\u001b[0m\n"
     ]
    },
    {
     "name": "stdout",
     "output_type": "stream",
     "text": [
      "Early stopping, best iteration is:\n",
      "[29]\tvalid_0's auc: 0.894447\n",
      "0.8944474114342323\n",
      "Training until validation scores don't improve for 100 rounds\n"
     ]
    },
    {
     "name": "stderr",
     "output_type": "stream",
     "text": [
      "D:\\source\\repos\\venv\\Python310\\lib\\site-packages\\sklearn\\utils\\validation.py:1141: DataConversionWarning: A column-vector y was passed when a 1d array was expected. Please change the shape of y to (n_samples, ), for example using ravel().\n",
      "  y = column_or_1d(y, warn=True)\n",
      "D:\\source\\repos\\venv\\Python310\\lib\\site-packages\\lightgbm\\sklearn.py:736: UserWarning: 'verbose' argument is deprecated and will be removed in a future release of LightGBM. Pass 'log_evaluation()' callback via 'callbacks' argument instead.\n",
      "  _log_warning(\"'verbose' argument is deprecated and will be removed in a future release of LightGBM. \"\n",
      "D:\\source\\repos\\venv\\Python310\\lib\\site-packages\\lightgbm\\basic.py:179: UserWarning: Converting column-vector to 1d array\n",
      "  _log_warning('Converting column-vector to 1d array')\n",
      "\u001b[32m[I 2023-01-16 08:41:31,755]\u001b[0m Trial 308 finished with value: 0.8833655362098842 and parameters: {'learning_rate': 0.012255240004890674, 'max_depth': 257, 'num_leaves': 5541, 'colsample_bytree': 0.6807565632803507, 'subsample': 0.8886441088908339, 'subsample_freq': 3, 'min_child_samples': 177, 'reg_lambda': 84, 'n_estimators': 43589}. Best is trial 205 with value: 0.8959219642026134.\u001b[0m\n"
     ]
    },
    {
     "name": "stdout",
     "output_type": "stream",
     "text": [
      "Early stopping, best iteration is:\n",
      "[33]\tvalid_0's auc: 0.883366\n",
      "0.8833655362098842\n",
      "Training until validation scores don't improve for 100 rounds\n"
     ]
    },
    {
     "name": "stderr",
     "output_type": "stream",
     "text": [
      "D:\\source\\repos\\venv\\Python310\\lib\\site-packages\\sklearn\\utils\\validation.py:1141: DataConversionWarning: A column-vector y was passed when a 1d array was expected. Please change the shape of y to (n_samples, ), for example using ravel().\n",
      "  y = column_or_1d(y, warn=True)\n",
      "D:\\source\\repos\\venv\\Python310\\lib\\site-packages\\lightgbm\\sklearn.py:736: UserWarning: 'verbose' argument is deprecated and will be removed in a future release of LightGBM. Pass 'log_evaluation()' callback via 'callbacks' argument instead.\n",
      "  _log_warning(\"'verbose' argument is deprecated and will be removed in a future release of LightGBM. \"\n",
      "D:\\source\\repos\\venv\\Python310\\lib\\site-packages\\lightgbm\\basic.py:179: UserWarning: Converting column-vector to 1d array\n",
      "  _log_warning('Converting column-vector to 1d array')\n",
      "\u001b[32m[I 2023-01-16 08:41:32,335]\u001b[0m Trial 309 finished with value: 0.8805521339765379 and parameters: {'learning_rate': 0.009132216666331495, 'max_depth': 367, 'num_leaves': 5946, 'colsample_bytree': 0.6370564958571279, 'subsample': 0.8937410298709579, 'subsample_freq': 6, 'min_child_samples': 160, 'reg_lambda': 86, 'n_estimators': 46978}. Best is trial 205 with value: 0.8959219642026134.\u001b[0m\n"
     ]
    },
    {
     "name": "stdout",
     "output_type": "stream",
     "text": [
      "Early stopping, best iteration is:\n",
      "[216]\tvalid_0's auc: 0.880552\n",
      "0.8805521339765379\n",
      "Training until validation scores don't improve for 100 rounds\n"
     ]
    },
    {
     "name": "stderr",
     "output_type": "stream",
     "text": [
      "D:\\source\\repos\\venv\\Python310\\lib\\site-packages\\sklearn\\utils\\validation.py:1141: DataConversionWarning: A column-vector y was passed when a 1d array was expected. Please change the shape of y to (n_samples, ), for example using ravel().\n",
      "  y = column_or_1d(y, warn=True)\n",
      "D:\\source\\repos\\venv\\Python310\\lib\\site-packages\\lightgbm\\sklearn.py:736: UserWarning: 'verbose' argument is deprecated and will be removed in a future release of LightGBM. Pass 'log_evaluation()' callback via 'callbacks' argument instead.\n",
      "  _log_warning(\"'verbose' argument is deprecated and will be removed in a future release of LightGBM. \"\n",
      "D:\\source\\repos\\venv\\Python310\\lib\\site-packages\\lightgbm\\basic.py:179: UserWarning: Converting column-vector to 1d array\n",
      "  _log_warning('Converting column-vector to 1d array')\n",
      "\u001b[32m[I 2023-01-16 08:41:32,661]\u001b[0m Trial 310 finished with value: 0.8815926382136462 and parameters: {'learning_rate': 0.014427632354220713, 'max_depth': 324, 'num_leaves': 7016, 'colsample_bytree': 0.6729881573955658, 'subsample': 0.9051982221665946, 'subsample_freq': 9, 'min_child_samples': 143, 'reg_lambda': 82, 'n_estimators': 42118}. Best is trial 205 with value: 0.8959219642026134.\u001b[0m\n"
     ]
    },
    {
     "name": "stdout",
     "output_type": "stream",
     "text": [
      "Early stopping, best iteration is:\n",
      "[45]\tvalid_0's auc: 0.881593\n",
      "0.8815926382136462\n",
      "Training until validation scores don't improve for 100 rounds\n"
     ]
    },
    {
     "name": "stderr",
     "output_type": "stream",
     "text": [
      "D:\\source\\repos\\venv\\Python310\\lib\\site-packages\\sklearn\\utils\\validation.py:1141: DataConversionWarning: A column-vector y was passed when a 1d array was expected. Please change the shape of y to (n_samples, ), for example using ravel().\n",
      "  y = column_or_1d(y, warn=True)\n",
      "D:\\source\\repos\\venv\\Python310\\lib\\site-packages\\lightgbm\\sklearn.py:736: UserWarning: 'verbose' argument is deprecated and will be removed in a future release of LightGBM. Pass 'log_evaluation()' callback via 'callbacks' argument instead.\n",
      "  _log_warning(\"'verbose' argument is deprecated and will be removed in a future release of LightGBM. \"\n",
      "D:\\source\\repos\\venv\\Python310\\lib\\site-packages\\lightgbm\\basic.py:179: UserWarning: Converting column-vector to 1d array\n",
      "  _log_warning('Converting column-vector to 1d array')\n",
      "\u001b[32m[I 2023-01-16 08:41:33,004]\u001b[0m Trial 311 finished with value: 0.8778643330637226 and parameters: {'learning_rate': 0.012118333455238649, 'max_depth': 268, 'num_leaves': 6720, 'colsample_bytree': 0.697333327665261, 'subsample': 0.9171529109242903, 'subsample_freq': 7, 'min_child_samples': 205, 'reg_lambda': 79, 'n_estimators': 45078}. Best is trial 205 with value: 0.8959219642026134.\u001b[0m\n"
     ]
    },
    {
     "name": "stdout",
     "output_type": "stream",
     "text": [
      "Early stopping, best iteration is:\n",
      "[96]\tvalid_0's auc: 0.877864\n",
      "0.8778643330637226\n",
      "Training until validation scores don't improve for 100 rounds\n"
     ]
    },
    {
     "name": "stderr",
     "output_type": "stream",
     "text": [
      "D:\\source\\repos\\venv\\Python310\\lib\\site-packages\\sklearn\\utils\\validation.py:1141: DataConversionWarning: A column-vector y was passed when a 1d array was expected. Please change the shape of y to (n_samples, ), for example using ravel().\n",
      "  y = column_or_1d(y, warn=True)\n",
      "D:\\source\\repos\\venv\\Python310\\lib\\site-packages\\lightgbm\\sklearn.py:736: UserWarning: 'verbose' argument is deprecated and will be removed in a future release of LightGBM. Pass 'log_evaluation()' callback via 'callbacks' argument instead.\n",
      "  _log_warning(\"'verbose' argument is deprecated and will be removed in a future release of LightGBM. \"\n",
      "D:\\source\\repos\\venv\\Python310\\lib\\site-packages\\lightgbm\\basic.py:179: UserWarning: Converting column-vector to 1d array\n",
      "  _log_warning('Converting column-vector to 1d array')\n",
      "\u001b[33m[W 2023-01-16 08:41:33,607]\u001b[0m Trial 312 failed because of the following error: KeyboardInterrupt()\u001b[0m\n",
      "Traceback (most recent call last):\n",
      "  File \"D:\\source\\repos\\venv\\Python310\\lib\\site-packages\\optuna\\study\\_optimize.py\", line 196, in _run_trial\n",
      "    value_or_values = func(trial)\n",
      "  File \"C:\\Users\\ryans\\AppData\\Local\\Temp\\ipykernel_24468\\661285369.py\", line 19, in lgbm_objective\n",
      "    clf.fit(X_train, y_train, eval_set=[(X_valid, y_valid)], callbacks=[lgbm.early_stopping(100, verbose=True)], verbose=False)\n",
      "  File \"D:\\source\\repos\\venv\\Python310\\lib\\site-packages\\lightgbm\\sklearn.py\", line 895, in fit\n",
      "    super().fit(X, y, sample_weight=sample_weight, init_score=init_score,\n",
      "  File \"D:\\source\\repos\\venv\\Python310\\lib\\site-packages\\lightgbm\\sklearn.py\", line 748, in fit\n",
      "    self._Booster = train(\n",
      "  File \"D:\\source\\repos\\venv\\Python310\\lib\\site-packages\\lightgbm\\engine.py\", line 292, in train\n",
      "    booster.update(fobj=fobj)\n",
      "  File \"D:\\source\\repos\\venv\\Python310\\lib\\site-packages\\lightgbm\\basic.py\", line 3021, in update\n",
      "    _safe_call(_LIB.LGBM_BoosterUpdateOneIter(\n",
      "KeyboardInterrupt\n",
      "\n",
      "KeyboardInterrupt\n",
      "\n"
     ]
    }
   ],
   "source": [
    "lgbm_ranks = {}\n",
    "\n",
    "train_time = 1 * 60 * 60\n",
    "study = optuna.create_study(direction='maximize', sampler=TPESampler(), study_name='LGBMRegressor')\n",
    "study.optimize(lgbm_objective, timeout=train_time)"
   ]
  },
  {
   "cell_type": "code",
   "execution_count": 9,
   "id": "b158ced5-aae7-49c8-9386-b630c39f7710",
   "metadata": {
    "tags": []
   },
   "outputs": [],
   "source": [
    "LGBM_ranks_bytes = pickle.dumps(lgbm_ranks)\n",
    "with open(\"rendered_data/lgbm_clsfs_bytes.hex\", \"wb\") as binary_file:\n",
    "    binary_file.write(LGBM_ranks_bytes)"
   ]
  },
  {
   "cell_type": "code",
   "execution_count": 10,
   "id": "f8aa7c6c-af6a-407d-be29-dcbc034fb7cf",
   "metadata": {},
   "outputs": [
    {
     "name": "stderr",
     "output_type": "stream",
     "text": [
      "100%|█████████████████████████████████████████████████████████████████████████████████| 32/32 [00:00<00:00, 101.82it/s]\n"
     ]
    }
   ],
   "source": [
    "percent = math.ceil(len(lgbm_ranks.keys()) * .1)\n",
    "top = sorted(list(lgbm_ranks.keys()))[-percent:]\n",
    "\n",
    "train_preds = []\n",
    "test_preds = []\n",
    "for key in tqdm(top):\n",
    "    train_preds.append(lgbm_ranks[key].predict(X))\n",
    "    test_preds.append(lgbm_ranks[key].predict(X_test))\n",
    "    \n",
    "train_final_preds = np.stack(train_preds).mean(0)\n",
    "test_final_preds = np.stack(test_preds).mean(0)"
   ]
  },
  {
   "cell_type": "code",
   "execution_count": 11,
   "id": "fd51f88e-df47-4e10-a61b-c9f33f1b8dde",
   "metadata": {},
   "outputs": [],
   "source": [
    "LGBM_train_submission = pd.DataFrame(data={'id': train_df.id, 'stroke': train_final_preds})\n",
    "LGBM_train_submission.to_csv(fr'rendered_data/LGBM_train_submission.csv', index=False)\n",
    "\n",
    "LGBM_test_submission = pd.DataFrame(data={'id': test_df.id, 'stroke': test_final_preds})\n",
    "LGBM_test_submission.to_csv(fr'rendered_data/LGBM_test_submission.csv', index=False)"
   ]
  },
  {
   "cell_type": "code",
   "execution_count": null,
   "id": "79da252b-bca8-4086-9053-ea15568d1d38",
   "metadata": {},
   "outputs": [],
   "source": []
  }
 ],
 "metadata": {
  "kernelspec": {
   "display_name": "Python 3 (ipykernel)",
   "language": "python",
   "name": "python3"
  },
  "language_info": {
   "codemirror_mode": {
    "name": "ipython",
    "version": 3
   },
   "file_extension": ".py",
   "mimetype": "text/x-python",
   "name": "python",
   "nbconvert_exporter": "python",
   "pygments_lexer": "ipython3",
   "version": "3.10.9"
  }
 },
 "nbformat": 4,
 "nbformat_minor": 5
}
