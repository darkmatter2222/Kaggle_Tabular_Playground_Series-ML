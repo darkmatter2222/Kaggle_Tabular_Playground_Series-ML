{
 "cells": [
  {
   "cell_type": "code",
   "execution_count": 99,
   "id": "936b5758-0b17-4f59-bdfa-beb3ee47a143",
   "metadata": {},
   "outputs": [],
   "source": [
    "import numpy as np\n",
    "import pandas as pd\n",
    "import math\n",
    "import sys, os\n",
    "#import seaborn as sns\n",
    "#from scipy import stats\n",
    "#from pathlib import Path\n",
    "#import matplotlib.pyplot as plt\n",
    "#from sklearn.model_selection import KFold\n",
    "from sklearn.preprocessing import MinMaxScaler\n",
    "from sklearn.model_selection import train_test_split\n",
    "#from sklearn.metrics import mean_squared_error\n",
    "#from sklearn.metrics import mean_squared_error\n",
    "#from sklearn.preprocessing import MinMaxScaler\n",
    "#from sklearn.datasets import fetch_california_housing\n",
    "#import math\n",
    "from tqdm import tqdm\n",
    "from sklearn.feature_extraction.text import CountVectorizer\n",
    "import optuna\n",
    "from optuna.samplers import TPESampler\n",
    "#import lightgbm as lgbm\n",
    "#from xgboost import XGBRegressor\n",
    "import xgboost as xgb\n",
    "#from catboost import CatBoostRegressor\n",
    "#from lightgbm.sklearn import LGBMRegressor\n",
    "#from sklearn.ensemble import RandomForestRegressor\n",
    "import pickle\n",
    "from sklearn.metrics import roc_curve, auc"
   ]
  },
  {
   "cell_type": "code",
   "execution_count": 100,
   "id": "30af7575-c694-4420-81e3-8f4608abc789",
   "metadata": {},
   "outputs": [],
   "source": [
    "sys.path.append(os.path.realpath('..'))"
   ]
  },
  {
   "cell_type": "code",
   "execution_count": 63,
   "id": "1ae92e2f-1d42-4d7f-953e-6cb3b5eb9e0e",
   "metadata": {},
   "outputs": [],
   "source": [
    "train_df = pd.read_csv(r\"D:\\source\\repos\\Kaggle_Tabular_Playground_Series-ML\\Jan-2023-S2\\data\\train.csv\")\n",
    "test_df = pd.read_csv(r\"D:\\source\\repos\\Kaggle_Tabular_Playground_Series-ML\\Jan-2023-S2\\data\\test.csv\")\n",
    "sample_sub = pd.read_csv(r\"D:\\source\\repos\\Kaggle_Tabular_Playground_Series-ML\\Jan-2023-S2\\data\\sample_submission.csv\")"
   ]
  },
  {
   "cell_type": "code",
   "execution_count": 64,
   "id": "bcc257a3-0717-47f3-911a-40404ffbf02f",
   "metadata": {},
   "outputs": [],
   "source": [
    "columns_to_vectorize = ['gender', 'ever_married', 'work_type', 'Residence_type', 'smoking_status']\n",
    "for vector_target in columns_to_vectorize:\n",
    "    vectorizer = CountVectorizer()\n",
    "    vectorizer.fit_transform(train_df[vector_target])\n",
    "    train_df[f'{vector_target}_v'] = vectorizer.transform(train_df[vector_target]).toarray().argmax(axis=1)[:,None]\n",
    "    vectorizer.fit_transform(test_df[vector_target])\n",
    "    test_df[f'{vector_target}_v'] = vectorizer.transform(test_df[vector_target]).toarray().argmax(axis=1)[:,None]"
   ]
  },
  {
   "cell_type": "code",
   "execution_count": 65,
   "id": "1d2b4c9f-993a-45f0-b216-294e6c732919",
   "metadata": {},
   "outputs": [],
   "source": [
    "features = ['id', 'age', 'hypertension', 'heart_disease', 'avg_glucose_level', 'bmi', 'gender_v', 'ever_married_v', 'work_type_v', 'Residence_type_v', 'smoking_status_v']\n",
    "target = ['stroke']"
   ]
  },
  {
   "cell_type": "code",
   "execution_count": 66,
   "id": "ed6f4daf-2da6-415b-9ef1-c9def5ae5dee",
   "metadata": {},
   "outputs": [],
   "source": [
    "scaler = MinMaxScaler().fit(train_df[features])\n",
    "X = scaler.transform(train_df[features])\n",
    "X_test = scaler.transform(test_df[features])\n",
    "\n",
    "scaler = MinMaxScaler().fit(train_df[target])\n",
    "Y = scaler.transform(train_df[target])"
   ]
  },
  {
   "cell_type": "code",
   "execution_count": 67,
   "id": "93d94162-bba5-4e9d-aed8-2be1540e71ec",
   "metadata": {},
   "outputs": [
    {
     "name": "stdout",
     "output_type": "stream",
     "text": [
      "0.0 1.0\n"
     ]
    }
   ],
   "source": [
    "y_min = Y.min()\n",
    "y_max = Y.max()\n",
    "\n",
    "print(y_min, y_max)\n",
    "\n",
    "def my_rmse(y_true, y_hat):\n",
    "    y_true[y_true < y_min] = y_min\n",
    "    y_true[y_true > y_max] = y_max\n",
    "    \n",
    "    y_hat[y_hat < y_min] = y_min\n",
    "    y_hat[y_hat > y_max] = y_max\n",
    "    \n",
    "    y_true_nan = np.isnan(y_true)\n",
    "    y_hat_nan = np.isnan(y_hat)\n",
    "    \n",
    "    if y_true_nan.sum() > 0:\n",
    "        print(y_true_nan.sum())\n",
    "        np.where(y_true_nan, np.ma.array(y_true, mask=np.isnan(y_true)).mean(axis=0), y_true)\n",
    "    if y_hat_nan.sum() > 0:\n",
    "        print(y_hat_nan.sum())\n",
    "        np.where(y_hat_nan, np.ma.array(y_hat, mask=np.isnan(y_hat)).mean(axis=0), y_hat)\n",
    "    \n",
    "    return mean_squared_error(y_true, y_hat, squared=False)"
   ]
  },
  {
   "cell_type": "code",
   "execution_count": 78,
   "id": "3792b021-1d48-4fcb-8c45-141801c79c3c",
   "metadata": {},
   "outputs": [],
   "source": [
    "def xgb_objective(trial):\n",
    "    # Split the train data for each trial.\n",
    "    X_train, X_valid, y_train, y_valid = train_test_split(X, Y, stratify=Y, test_size=0.4)\n",
    "\n",
    "    param_grid = {\n",
    "        'max_depth': trial.suggest_int('max_depth', 4, 20),\n",
    "        'n_estimators': trial.suggest_int('n_estimators', 2, 100, 1), \n",
    "        'eta': trial.suggest_float('eta', 0.0007, 0.113), \n",
    "        'subsample': trial.suggest_float('subsample', 0.1, 1),\n",
    "        'colsample_bytree': trial.suggest_float('colsample_bytree', 0.1, 1),\n",
    "        'reg_lambda': trial.suggest_float('reg_lambda', 1, 40), \n",
    "\n",
    "    } \n",
    "    \n",
    "    reg = xgb.XGBModel(\n",
    "        # These parameters should help with trial speed.\n",
    "        objective='binary:logistic',\n",
    "        tree_method='gpu_hist',\n",
    "        booster='gbtree',\n",
    "        predictor='gpu_predictor',\n",
    "        n_jobs=4,\n",
    "        eval_metric='auc',\n",
    "        **param_grid\n",
    "    )\n",
    "    \n",
    "    reg.fit(X_train, y_train, eval_set=[(X_valid, y_valid)], verbose=False)\n",
    "    \n",
    "    preds = reg.predict(X_valid)\n",
    "    fpr, tpr, _ = roc_curve(y_valid, preds)\n",
    "    roc_auc = auc(fpr, tpr)\n",
    "\n",
    "    xgb_ranks[roc_auc] = reg\n",
    "\n",
    "    print(roc_auc)\n",
    "    return roc_auc"
   ]
  },
  {
   "cell_type": "code",
   "execution_count": 82,
   "id": "7f4e825a-2d95-42b8-aca9-3427b86c38fc",
   "metadata": {
    "collapsed": true,
    "jupyter": {
     "outputs_hidden": true
    },
    "tags": []
   },
   "outputs": [
    {
     "name": "stderr",
     "output_type": "stream",
     "text": [
      "\u001b[32m[I 2023-01-16 08:10:56,891]\u001b[0m A new study created in memory with name: XGBRegressor\u001b[0m\n",
      "\u001b[32m[I 2023-01-16 08:10:57,432]\u001b[0m Trial 0 finished with value: 0.8671208742660066 and parameters: {'max_depth': 15, 'n_estimators': 54, 'eta': 0.03126773288375842, 'subsample': 0.8982141684871907, 'colsample_bytree': 0.6096844135901044, 'reg_lambda': 33.168786195486796}. Best is trial 0 with value: 0.8671208742660066.\u001b[0m\n"
     ]
    },
    {
     "name": "stdout",
     "output_type": "stream",
     "text": [
      "0.8671208742660066\n"
     ]
    },
    {
     "name": "stderr",
     "output_type": "stream",
     "text": [
      "\u001b[32m[I 2023-01-16 08:10:57,813]\u001b[0m Trial 1 finished with value: 0.8798261381399017 and parameters: {'max_depth': 11, 'n_estimators': 75, 'eta': 0.04752160474712603, 'subsample': 0.10230443889190463, 'colsample_bytree': 0.31874602438285665, 'reg_lambda': 29.14099640897655}. Best is trial 1 with value: 0.8798261381399017.\u001b[0m\n"
     ]
    },
    {
     "name": "stdout",
     "output_type": "stream",
     "text": [
      "0.8798261381399017\n"
     ]
    },
    {
     "name": "stderr",
     "output_type": "stream",
     "text": [
      "\u001b[32m[I 2023-01-16 08:10:58,159]\u001b[0m Trial 2 finished with value: 0.8038572064515304 and parameters: {'max_depth': 18, 'n_estimators': 73, 'eta': 0.005540107770811843, 'subsample': 0.6440882070917302, 'colsample_bytree': 0.32409071126049693, 'reg_lambda': 19.1982675274905}. Best is trial 1 with value: 0.8798261381399017.\u001b[0m\n"
     ]
    },
    {
     "name": "stdout",
     "output_type": "stream",
     "text": [
      "0.8038572064515304\n"
     ]
    },
    {
     "name": "stderr",
     "output_type": "stream",
     "text": [
      "\u001b[32m[I 2023-01-16 08:10:58,535]\u001b[0m Trial 3 finished with value: 0.8923330664164966 and parameters: {'max_depth': 5, 'n_estimators': 68, 'eta': 0.050218425018889824, 'subsample': 0.5943506632894928, 'colsample_bytree': 0.7582380683469703, 'reg_lambda': 7.445323641256589}. Best is trial 3 with value: 0.8923330664164966.\u001b[0m\n"
     ]
    },
    {
     "name": "stdout",
     "output_type": "stream",
     "text": [
      "0.8923330664164966\n"
     ]
    },
    {
     "name": "stderr",
     "output_type": "stream",
     "text": [
      "\u001b[32m[I 2023-01-16 08:10:58,751]\u001b[0m Trial 4 finished with value: 0.7896110534549792 and parameters: {'max_depth': 20, 'n_estimators': 66, 'eta': 0.002457526005155424, 'subsample': 0.7959682518681718, 'colsample_bytree': 0.1296331633567814, 'reg_lambda': 26.371352927212797}. Best is trial 3 with value: 0.8923330664164966.\u001b[0m\n"
     ]
    },
    {
     "name": "stdout",
     "output_type": "stream",
     "text": [
      "0.7896110534549792\n"
     ]
    },
    {
     "name": "stderr",
     "output_type": "stream",
     "text": [
      "\u001b[32m[I 2023-01-16 08:10:59,022]\u001b[0m Trial 5 finished with value: 0.8491467528522948 and parameters: {'max_depth': 17, 'n_estimators': 34, 'eta': 0.08207306928554806, 'subsample': 0.35961539830417777, 'colsample_bytree': 0.9293581160770996, 'reg_lambda': 30.580810371901972}. Best is trial 3 with value: 0.8923330664164966.\u001b[0m\n",
      "\u001b[32m[I 2023-01-16 08:10:59,164]\u001b[0m Trial 6 finished with value: 0.7996578121664241 and parameters: {'max_depth': 6, 'n_estimators': 17, 'eta': 0.05717169659745226, 'subsample': 0.2109617464786243, 'colsample_bytree': 0.6148901997921808, 'reg_lambda': 30.71783014688231}. Best is trial 3 with value: 0.8923330664164966.\u001b[0m\n"
     ]
    },
    {
     "name": "stdout",
     "output_type": "stream",
     "text": [
      "0.8491467528522948\n",
      "0.7996578121664241\n"
     ]
    },
    {
     "name": "stderr",
     "output_type": "stream",
     "text": [
      "\u001b[32m[I 2023-01-16 08:10:59,335]\u001b[0m Trial 7 finished with value: 0.8575411638965906 and parameters: {'max_depth': 9, 'n_estimators': 15, 'eta': 0.1002994431372167, 'subsample': 0.9192388647402739, 'colsample_bytree': 0.8578583610977734, 'reg_lambda': 27.185453161422682}. Best is trial 3 with value: 0.8923330664164966.\u001b[0m\n"
     ]
    },
    {
     "name": "stdout",
     "output_type": "stream",
     "text": [
      "0.8575411638965906\n"
     ]
    },
    {
     "name": "stderr",
     "output_type": "stream",
     "text": [
      "\u001b[32m[I 2023-01-16 08:10:59,640]\u001b[0m Trial 8 finished with value: 0.8835891267643954 and parameters: {'max_depth': 10, 'n_estimators': 62, 'eta': 0.09523111069845168, 'subsample': 0.33656742004447965, 'colsample_bytree': 0.20601429075902383, 'reg_lambda': 18.631932857914812}. Best is trial 3 with value: 0.8923330664164966.\u001b[0m\n"
     ]
    },
    {
     "name": "stdout",
     "output_type": "stream",
     "text": [
      "0.8835891267643954\n"
     ]
    },
    {
     "name": "stderr",
     "output_type": "stream",
     "text": [
      "\u001b[32m[I 2023-01-16 08:11:00,047]\u001b[0m Trial 9 finished with value: 0.855345329550253 and parameters: {'max_depth': 17, 'n_estimators': 71, 'eta': 0.032443502457273427, 'subsample': 0.7323782404476668, 'colsample_bytree': 0.5050631564283985, 'reg_lambda': 34.08340681446102}. Best is trial 3 with value: 0.8923330664164966.\u001b[0m\n"
     ]
    },
    {
     "name": "stdout",
     "output_type": "stream",
     "text": [
      "0.855345329550253\n"
     ]
    },
    {
     "name": "stderr",
     "output_type": "stream",
     "text": [
      "\u001b[32m[I 2023-01-16 08:11:00,453]\u001b[0m Trial 10 finished with value: 0.8952484986769769 and parameters: {'max_depth': 4, 'n_estimators': 99, 'eta': 0.07051079809934303, 'subsample': 0.5101287123881219, 'colsample_bytree': 0.7734487304292259, 'reg_lambda': 4.639839905529202}. Best is trial 10 with value: 0.8952484986769769.\u001b[0m\n"
     ]
    },
    {
     "name": "stdout",
     "output_type": "stream",
     "text": [
      "0.8952484986769769\n"
     ]
    },
    {
     "name": "stderr",
     "output_type": "stream",
     "text": [
      "\u001b[32m[I 2023-01-16 08:11:00,850]\u001b[0m Trial 11 finished with value: 0.8996617182664728 and parameters: {'max_depth': 4, 'n_estimators': 97, 'eta': 0.06892824886306025, 'subsample': 0.510074003244412, 'colsample_bytree': 0.7662513783918594, 'reg_lambda': 3.1433036140723143}. Best is trial 11 with value: 0.8996617182664728.\u001b[0m\n"
     ]
    },
    {
     "name": "stdout",
     "output_type": "stream",
     "text": [
      "0.8996617182664728\n"
     ]
    },
    {
     "name": "stderr",
     "output_type": "stream",
     "text": [
      "\u001b[32m[I 2023-01-16 08:11:01,240]\u001b[0m Trial 12 finished with value: 0.8936012020012701 and parameters: {'max_depth': 4, 'n_estimators': 98, 'eta': 0.07403397405426701, 'subsample': 0.46934513658157145, 'colsample_bytree': 0.7741790430605194, 'reg_lambda': 1.1560726689970844}. Best is trial 11 with value: 0.8996617182664728.\u001b[0m\n"
     ]
    },
    {
     "name": "stdout",
     "output_type": "stream",
     "text": [
      "0.8936012020012701\n"
     ]
    },
    {
     "name": "stderr",
     "output_type": "stream",
     "text": [
      "\u001b[32m[I 2023-01-16 08:11:01,764]\u001b[0m Trial 13 finished with value: 0.885348218717358 and parameters: {'max_depth': 7, 'n_estimators': 99, 'eta': 0.07326331057504923, 'subsample': 0.4816802606906843, 'colsample_bytree': 0.7373318567646446, 'reg_lambda': 10.674942529846444}. Best is trial 11 with value: 0.8996617182664728.\u001b[0m\n"
     ]
    },
    {
     "name": "stdout",
     "output_type": "stream",
     "text": [
      "0.885348218717358\n"
     ]
    },
    {
     "name": "stderr",
     "output_type": "stream",
     "text": [
      "\u001b[32m[I 2023-01-16 08:11:02,283]\u001b[0m Trial 14 finished with value: 0.869929225507911 and parameters: {'max_depth': 8, 'n_estimators': 90, 'eta': 0.0637611656311597, 'subsample': 0.368010249169688, 'colsample_bytree': 0.9832601548302489, 'reg_lambda': 1.4894408684870297}. Best is trial 11 with value: 0.8996617182664728.\u001b[0m\n"
     ]
    },
    {
     "name": "stdout",
     "output_type": "stream",
     "text": [
      "0.869929225507911\n"
     ]
    },
    {
     "name": "stderr",
     "output_type": "stream",
     "text": [
      "\u001b[32m[I 2023-01-16 08:11:02,610]\u001b[0m Trial 15 finished with value: 0.8818290246131446 and parameters: {'max_depth': 4, 'n_estimators': 85, 'eta': 0.11175509540259167, 'subsample': 0.5263858132404912, 'colsample_bytree': 0.485637737156278, 'reg_lambda': 11.302889928756485}. Best is trial 11 with value: 0.8996617182664728.\u001b[0m\n"
     ]
    },
    {
     "name": "stdout",
     "output_type": "stream",
     "text": [
      "0.8818290246131446\n"
     ]
    },
    {
     "name": "stderr",
     "output_type": "stream",
     "text": [
      "\u001b[32m[I 2023-01-16 08:11:02,875]\u001b[0m Trial 16 finished with value: 0.883562524876133 and parameters: {'max_depth': 13, 'n_estimators': 41, 'eta': 0.08498590995619021, 'subsample': 0.6795322993828491, 'colsample_bytree': 0.6839447977159836, 'reg_lambda': 38.88472011251421}. Best is trial 11 with value: 0.8996617182664728.\u001b[0m\n"
     ]
    },
    {
     "name": "stdout",
     "output_type": "stream",
     "text": [
      "0.883562524876133\n"
     ]
    },
    {
     "name": "stderr",
     "output_type": "stream",
     "text": [
      "\u001b[32m[I 2023-01-16 08:11:03,264]\u001b[0m Trial 17 finished with value: 0.8796281392753647 and parameters: {'max_depth': 6, 'n_estimators': 84, 'eta': 0.031157293862937953, 'subsample': 0.4294927286395676, 'colsample_bytree': 0.8650099637702484, 'reg_lambda': 6.021442446203016}. Best is trial 11 with value: 0.8996617182664728.\u001b[0m\n"
     ]
    },
    {
     "name": "stdout",
     "output_type": "stream",
     "text": [
      "0.8796281392753647\n"
     ]
    },
    {
     "name": "stderr",
     "output_type": "stream",
     "text": [
      "\u001b[32m[I 2023-01-16 08:11:03,757]\u001b[0m Trial 18 finished with value: 0.8761756182581891 and parameters: {'max_depth': 13, 'n_estimators': 92, 'eta': 0.06879036229354417, 'subsample': 0.22330213215506345, 'colsample_bytree': 0.8357329003446802, 'reg_lambda': 14.678040777316674}. Best is trial 11 with value: 0.8996617182664728.\u001b[0m\n"
     ]
    },
    {
     "name": "stdout",
     "output_type": "stream",
     "text": [
      "0.8761756182581891\n"
     ]
    },
    {
     "name": "stderr",
     "output_type": "stream",
     "text": [
      "\u001b[32m[I 2023-01-16 08:11:04,188]\u001b[0m Trial 19 finished with value: 0.8837409932404267 and parameters: {'max_depth': 8, 'n_estimators': 82, 'eta': 0.08699216996434384, 'subsample': 0.5812656043483275, 'colsample_bytree': 0.41324577756509145, 'reg_lambda': 5.852240829233545}. Best is trial 11 with value: 0.8996617182664728.\u001b[0m\n"
     ]
    },
    {
     "name": "stdout",
     "output_type": "stream",
     "text": [
      "0.8837409932404267\n"
     ]
    },
    {
     "name": "stderr",
     "output_type": "stream",
     "text": [
      "\u001b[32m[I 2023-01-16 08:11:04,453]\u001b[0m Trial 20 finished with value: 0.8880057136815194 and parameters: {'max_depth': 4, 'n_estimators': 52, 'eta': 0.038840490543971054, 'subsample': 0.8115517904387358, 'colsample_bytree': 0.6545855677645349, 'reg_lambda': 14.327634682798811}. Best is trial 11 with value: 0.8996617182664728.\u001b[0m\n"
     ]
    },
    {
     "name": "stdout",
     "output_type": "stream",
     "text": [
      "0.8880057136815194\n"
     ]
    },
    {
     "name": "stderr",
     "output_type": "stream",
     "text": [
      "\u001b[32m[I 2023-01-16 08:11:04,841]\u001b[0m Trial 21 finished with value: 0.8806538272709088 and parameters: {'max_depth': 4, 'n_estimators': 99, 'eta': 0.07286631987188183, 'subsample': 0.4530109629694948, 'colsample_bytree': 0.7668065456774297, 'reg_lambda': 1.6140099108409138}. Best is trial 11 with value: 0.8996617182664728.\u001b[0m\n"
     ]
    },
    {
     "name": "stdout",
     "output_type": "stream",
     "text": [
      "0.8806538272709088\n"
     ]
    },
    {
     "name": "stderr",
     "output_type": "stream",
     "text": [
      "\u001b[32m[I 2023-01-16 08:11:05,290]\u001b[0m Trial 22 finished with value: 0.8873474011302098 and parameters: {'max_depth': 6, 'n_estimators': 98, 'eta': 0.058151769820200164, 'subsample': 0.5312426387300463, 'colsample_bytree': 0.7995170669468642, 'reg_lambda': 1.1073689221350844}. Best is trial 11 with value: 0.8996617182664728.\u001b[0m\n"
     ]
    },
    {
     "name": "stdout",
     "output_type": "stream",
     "text": [
      "0.8873474011302098\n"
     ]
    },
    {
     "name": "stderr",
     "output_type": "stream",
     "text": [
      "\u001b[32m[I 2023-01-16 08:11:05,654]\u001b[0m Trial 23 finished with value: 0.8859432255092577 and parameters: {'max_depth': 5, 'n_estimators': 91, 'eta': 0.07786545630874477, 'subsample': 0.2984742649331894, 'colsample_bytree': 0.7030195517112598, 'reg_lambda': 4.853638143440045}. Best is trial 11 with value: 0.8996617182664728.\u001b[0m\n"
     ]
    },
    {
     "name": "stdout",
     "output_type": "stream",
     "text": [
      "0.8859432255092577\n"
     ]
    },
    {
     "name": "stderr",
     "output_type": "stream",
     "text": [
      "\u001b[32m[I 2023-01-16 08:11:06,078]\u001b[0m Trial 24 finished with value: 0.8876811032981626 and parameters: {'max_depth': 7, 'n_estimators': 80, 'eta': 0.09534081247570864, 'subsample': 0.41516898833713495, 'colsample_bytree': 0.8928466358521374, 'reg_lambda': 9.301810629980398}. Best is trial 11 with value: 0.8996617182664728.\u001b[0m\n"
     ]
    },
    {
     "name": "stdout",
     "output_type": "stream",
     "text": [
      "0.8876811032981626\n"
     ]
    },
    {
     "name": "stderr",
     "output_type": "stream",
     "text": [
      "\u001b[32m[I 2023-01-16 08:11:06,431]\u001b[0m Trial 25 finished with value: 0.8897321425564886 and parameters: {'max_depth': 4, 'n_estimators': 100, 'eta': 0.06560480656369867, 'subsample': 0.6290706172784749, 'colsample_bytree': 0.5623590886866956, 'reg_lambda': 3.6767321406056364}. Best is trial 11 with value: 0.8996617182664728.\u001b[0m\n"
     ]
    },
    {
     "name": "stdout",
     "output_type": "stream",
     "text": [
      "0.8897321425564886\n"
     ]
    },
    {
     "name": "stderr",
     "output_type": "stream",
     "text": [
      "\u001b[32m[I 2023-01-16 08:11:06,877]\u001b[0m Trial 26 finished with value: 0.8720496317153773 and parameters: {'max_depth': 9, 'n_estimators': 89, 'eta': 0.015011219805635044, 'subsample': 0.4837096676194842, 'colsample_bytree': 0.9617590414024608, 'reg_lambda': 13.402878045194413}. Best is trial 11 with value: 0.8996617182664728.\u001b[0m\n"
     ]
    },
    {
     "name": "stdout",
     "output_type": "stream",
     "text": [
      "0.8720496317153773\n"
     ]
    },
    {
     "name": "stderr",
     "output_type": "stream",
     "text": [
      "\u001b[32m[I 2023-01-16 08:11:07,110]\u001b[0m Trial 27 finished with value: 0.8864601103001838 and parameters: {'max_depth': 5, 'n_estimators': 32, 'eta': 0.05068639717843527, 'subsample': 0.7047202025521921, 'colsample_bytree': 0.8004759145312856, 'reg_lambda': 8.07104759183246}. Best is trial 11 with value: 0.8996617182664728.\u001b[0m\n"
     ]
    },
    {
     "name": "stdout",
     "output_type": "stream",
     "text": [
      "0.8864601103001838\n"
     ]
    },
    {
     "name": "stderr",
     "output_type": "stream",
     "text": [
      "\u001b[32m[I 2023-01-16 08:11:07,523]\u001b[0m Trial 28 finished with value: 0.8679361042847896 and parameters: {'max_depth': 7, 'n_estimators': 79, 'eta': 0.06307832162121767, 'subsample': 0.27678038609867717, 'colsample_bytree': 0.6560071306444629, 'reg_lambda': 2.71013155811434}. Best is trial 11 with value: 0.8996617182664728.\u001b[0m\n"
     ]
    },
    {
     "name": "stdout",
     "output_type": "stream",
     "text": [
      "0.8679361042847896\n"
     ]
    },
    {
     "name": "stderr",
     "output_type": "stream",
     "text": [
      "\u001b[32m[I 2023-01-16 08:11:07,916]\u001b[0m Trial 29 finished with value: 0.8874288904588119 and parameters: {'max_depth': 14, 'n_estimators': 59, 'eta': 0.08895136778019266, 'subsample': 0.5486148924127944, 'colsample_bytree': 0.5743169219303057, 'reg_lambda': 22.579312777057638}. Best is trial 11 with value: 0.8996617182664728.\u001b[0m\n"
     ]
    },
    {
     "name": "stdout",
     "output_type": "stream",
     "text": [
      "0.8874288904588119\n"
     ]
    },
    {
     "name": "stderr",
     "output_type": "stream",
     "text": [
      "\u001b[32m[I 2023-01-16 08:11:08,591]\u001b[0m Trial 30 finished with value: 0.8834466888057233 and parameters: {'max_depth': 11, 'n_estimators': 93, 'eta': 0.10791355198033116, 'subsample': 0.808916812181833, 'colsample_bytree': 0.9041977741730725, 'reg_lambda': 16.54838600248413}. Best is trial 11 with value: 0.8996617182664728.\u001b[0m\n",
      "\u001b[32m[I 2023-01-16 08:11:08,696]\u001b[0m Trial 31 finished with value: 0.8053829425998598 and parameters: {'max_depth': 5, 'n_estimators': 3, 'eta': 0.04811659433640917, 'subsample': 0.596924502275478, 'colsample_bytree': 0.7448050518952758, 'reg_lambda': 6.995741498669663}. Best is trial 11 with value: 0.8996617182664728.\u001b[0m\n"
     ]
    },
    {
     "name": "stdout",
     "output_type": "stream",
     "text": [
      "0.8834466888057233\n",
      "0.8053829425998598\n"
     ]
    },
    {
     "name": "stderr",
     "output_type": "stream",
     "text": [
      "\u001b[32m[I 2023-01-16 08:11:09,030]\u001b[0m Trial 32 finished with value: 0.8882707223658575 and parameters: {'max_depth': 5, 'n_estimators': 70, 'eta': 0.042449211071957635, 'subsample': 0.5071329117650997, 'colsample_bytree': 0.8042561265537764, 'reg_lambda': 4.722474360148141}. Best is trial 11 with value: 0.8996617182664728.\u001b[0m\n"
     ]
    },
    {
     "name": "stdout",
     "output_type": "stream",
     "text": [
      "0.8882707223658575\n"
     ]
    },
    {
     "name": "stderr",
     "output_type": "stream",
     "text": [
      "\u001b[32m[I 2023-01-16 08:11:09,282]\u001b[0m Trial 33 finished with value: 0.8815081182901786 and parameters: {'max_depth': 6, 'n_estimators': 46, 'eta': 0.053959579161208325, 'subsample': 0.5814638332852594, 'colsample_bytree': 0.7094385763046186, 'reg_lambda': 8.85562889555862}. Best is trial 11 with value: 0.8996617182664728.\u001b[0m\n"
     ]
    },
    {
     "name": "stdout",
     "output_type": "stream",
     "text": [
      "0.8815081182901786\n"
     ]
    },
    {
     "name": "stderr",
     "output_type": "stream",
     "text": [
      "\u001b[32m[I 2023-01-16 08:11:09,604]\u001b[0m Trial 34 finished with value: 0.8895627659767911 and parameters: {'max_depth': 4, 'n_estimators': 76, 'eta': 0.07903666752304653, 'subsample': 0.4154037488855298, 'colsample_bytree': 0.6190008005531464, 'reg_lambda': 12.021795994662646}. Best is trial 11 with value: 0.8996617182664728.\u001b[0m\n"
     ]
    },
    {
     "name": "stdout",
     "output_type": "stream",
     "text": [
      "0.8895627659767911\n"
     ]
    },
    {
     "name": "stderr",
     "output_type": "stream",
     "text": [
      "\u001b[32m[I 2023-01-16 08:11:09,981]\u001b[0m Trial 35 finished with value: 0.8906140456623096 and parameters: {'max_depth': 5, 'n_estimators': 87, 'eta': 0.07313147421509567, 'subsample': 0.7517089139602093, 'colsample_bytree': 0.7782937328319758, 'reg_lambda': 4.331210748701252}. Best is trial 11 with value: 0.8996617182664728.\u001b[0m\n"
     ]
    },
    {
     "name": "stdout",
     "output_type": "stream",
     "text": [
      "0.8906140456623096\n"
     ]
    },
    {
     "name": "stderr",
     "output_type": "stream",
     "text": [
      "\u001b[32m[I 2023-01-16 08:11:10,527]\u001b[0m Trial 36 finished with value: 0.8867779860282843 and parameters: {'max_depth': 8, 'n_estimators': 94, 'eta': 0.02409687012967621, 'subsample': 0.6466483222697338, 'colsample_bytree': 0.9451051720939073, 'reg_lambda': 7.0151017175869}. Best is trial 11 with value: 0.8996617182664728.\u001b[0m\n"
     ]
    },
    {
     "name": "stdout",
     "output_type": "stream",
     "text": [
      "0.8867779860282843\n"
     ]
    },
    {
     "name": "stderr",
     "output_type": "stream",
     "text": [
      "\u001b[32m[I 2023-01-16 08:11:10,849]\u001b[0m Trial 37 finished with value: 0.8598393650028252 and parameters: {'max_depth': 6, 'n_estimators': 64, 'eta': 0.06070605462672751, 'subsample': 0.14575503703856457, 'colsample_bytree': 0.8405685734163403, 'reg_lambda': 23.592028872383718}. Best is trial 11 with value: 0.8996617182664728.\u001b[0m\n"
     ]
    },
    {
     "name": "stdout",
     "output_type": "stream",
     "text": [
      "0.8598393650028252\n"
     ]
    },
    {
     "name": "stderr",
     "output_type": "stream",
     "text": [
      "\u001b[32m[I 2023-01-16 08:11:11,198]\u001b[0m Trial 38 finished with value: 0.8793856916861356 and parameters: {'max_depth': 19, 'n_estimators': 57, 'eta': 0.04236987992381337, 'subsample': 0.379407593720531, 'colsample_bytree': 0.5036890791836769, 'reg_lambda': 3.0022484690033404}. Best is trial 11 with value: 0.8996617182664728.\u001b[0m\n"
     ]
    },
    {
     "name": "stdout",
     "output_type": "stream",
     "text": [
      "0.8793856916861356\n"
     ]
    },
    {
     "name": "stderr",
     "output_type": "stream",
     "text": [
      "\u001b[32m[I 2023-01-16 08:11:11,559]\u001b[0m Trial 39 finished with value: 0.8884212419108373 and parameters: {'max_depth': 7, 'n_estimators': 74, 'eta': 0.05445899113702754, 'subsample': 0.6237897863216925, 'colsample_bytree': 0.38414980052568, 'reg_lambda': 9.278436893553895}. Best is trial 11 with value: 0.8996617182664728.\u001b[0m\n"
     ]
    },
    {
     "name": "stdout",
     "output_type": "stream",
     "text": [
      "0.8884212419108373\n"
     ]
    },
    {
     "name": "stderr",
     "output_type": "stream",
     "text": [
      "\u001b[32m[I 2023-01-16 08:11:12,081]\u001b[0m Trial 40 finished with value: 0.8772629283493293 and parameters: {'max_depth': 16, 'n_estimators': 95, 'eta': 0.07159165175604558, 'subsample': 0.4624243172014409, 'colsample_bytree': 0.6285372810657317, 'reg_lambda': 18.113269980403818}. Best is trial 11 with value: 0.8996617182664728.\u001b[0m\n"
     ]
    },
    {
     "name": "stdout",
     "output_type": "stream",
     "text": [
      "0.8772629283493293\n"
     ]
    },
    {
     "name": "stderr",
     "output_type": "stream",
     "text": [
      "\u001b[32m[I 2023-01-16 08:11:12,446]\u001b[0m Trial 41 finished with value: 0.8882821712797933 and parameters: {'max_depth': 5, 'n_estimators': 85, 'eta': 0.07746221781894913, 'subsample': 0.7401974773042479, 'colsample_bytree': 0.7664578180275654, 'reg_lambda': 4.026075798483951}. Best is trial 11 with value: 0.8996617182664728.\u001b[0m\n"
     ]
    },
    {
     "name": "stdout",
     "output_type": "stream",
     "text": [
      "0.8882821712797933\n"
     ]
    },
    {
     "name": "stderr",
     "output_type": "stream",
     "text": [
      "\u001b[32m[I 2023-01-16 08:11:12,787]\u001b[0m Trial 42 finished with value: 0.8866752825356246 and parameters: {'max_depth': 4, 'n_estimators': 87, 'eta': 0.06908806648352095, 'subsample': 0.9418285864925696, 'colsample_bytree': 0.7277287609204588, 'reg_lambda': 5.371485730984644}. Best is trial 11 with value: 0.8996617182664728.\u001b[0m\n"
     ]
    },
    {
     "name": "stdout",
     "output_type": "stream",
     "text": [
      "0.8866752825356246\n"
     ]
    },
    {
     "name": "stderr",
     "output_type": "stream",
     "text": [
      "\u001b[32m[I 2023-01-16 08:11:13,198]\u001b[0m Trial 43 finished with value: 0.885094322214193 and parameters: {'max_depth': 5, 'n_estimators': 100, 'eta': 0.08168818664062301, 'subsample': 0.8539747807866216, 'colsample_bytree': 0.8990995069258315, 'reg_lambda': 2.8236631288733167}. Best is trial 11 with value: 0.8996617182664728.\u001b[0m\n"
     ]
    },
    {
     "name": "stdout",
     "output_type": "stream",
     "text": [
      "0.885094322214193\n"
     ]
    },
    {
     "name": "stderr",
     "output_type": "stream",
     "text": [
      "\u001b[32m[I 2023-01-16 08:11:13,551]\u001b[0m Trial 44 finished with value: 0.8838309008880989 and parameters: {'max_depth': 6, 'n_estimators': 68, 'eta': 0.0660961647527082, 'subsample': 0.7405348122653, 'colsample_bytree': 0.7881100125614509, 'reg_lambda': 1.025548787759805}. Best is trial 11 with value: 0.8996617182664728.\u001b[0m\n"
     ]
    },
    {
     "name": "stdout",
     "output_type": "stream",
     "text": [
      "0.8838309008880989\n"
     ]
    },
    {
     "name": "stderr",
     "output_type": "stream",
     "text": [
      "\u001b[32m[I 2023-01-16 08:11:14,147]\u001b[0m Trial 45 finished with value: 0.8786866344705246 and parameters: {'max_depth': 9, 'n_estimators': 95, 'eta': 0.09184277188478249, 'subsample': 0.6678846299530254, 'colsample_bytree': 0.6653063687334482, 'reg_lambda': 7.581031612209569}. Best is trial 11 with value: 0.8996617182664728.\u001b[0m\n"
     ]
    },
    {
     "name": "stdout",
     "output_type": "stream",
     "text": [
      "0.8786866344705246\n"
     ]
    },
    {
     "name": "stderr",
     "output_type": "stream",
     "text": [
      "\u001b[32m[I 2023-01-16 08:11:14,440]\u001b[0m Trial 46 finished with value: 0.8835648820054725 and parameters: {'max_depth': 4, 'n_estimators': 77, 'eta': 0.07606842973302506, 'subsample': 0.5031778454105222, 'colsample_bytree': 0.1160469779810282, 'reg_lambda': 10.221224735495667}. Best is trial 11 with value: 0.8996617182664728.\u001b[0m\n"
     ]
    },
    {
     "name": "stdout",
     "output_type": "stream",
     "text": [
      "0.8835648820054725\n"
     ]
    },
    {
     "name": "stderr",
     "output_type": "stream",
     "text": [
      "\u001b[32m[I 2023-01-16 08:11:14,812]\u001b[0m Trial 47 finished with value: 0.8966041847800832 and parameters: {'max_depth': 5, 'n_estimators': 88, 'eta': 0.06060169055902093, 'subsample': 0.5569090113178816, 'colsample_bytree': 0.8463380581433457, 'reg_lambda': 6.155460068773493}. Best is trial 11 with value: 0.8996617182664728.\u001b[0m\n"
     ]
    },
    {
     "name": "stdout",
     "output_type": "stream",
     "text": [
      "0.8966041847800832\n"
     ]
    },
    {
     "name": "stderr",
     "output_type": "stream",
     "text": [
      "\u001b[32m[I 2023-01-16 08:11:15,281]\u001b[0m Trial 48 finished with value: 0.8887502298201106 and parameters: {'max_depth': 7, 'n_estimators': 96, 'eta': 0.05856871730447942, 'subsample': 0.5784371952685328, 'colsample_bytree': 0.8568349097866804, 'reg_lambda': 12.051769299524357}. Best is trial 11 with value: 0.8996617182664728.\u001b[0m\n"
     ]
    },
    {
     "name": "stdout",
     "output_type": "stream",
     "text": [
      "0.8887502298201106\n"
     ]
    },
    {
     "name": "stderr",
     "output_type": "stream",
     "text": [
      "\u001b[32m[I 2023-01-16 08:11:15,707]\u001b[0m Trial 49 finished with value: 0.8784485644072124 and parameters: {'max_depth': 8, 'n_estimators': 81, 'eta': 0.035181138195378436, 'subsample': 0.33427985092192936, 'colsample_bytree': 0.9993928809461189, 'reg_lambda': 5.6149449249783245}. Best is trial 11 with value: 0.8996617182664728.\u001b[0m\n"
     ]
    },
    {
     "name": "stdout",
     "output_type": "stream",
     "text": [
      "0.8784485644072124\n"
     ]
    },
    {
     "name": "stderr",
     "output_type": "stream",
     "text": [
      "\u001b[32m[I 2023-01-16 08:11:16,290]\u001b[0m Trial 50 finished with value: 0.8827398867365679 and parameters: {'max_depth': 11, 'n_estimators': 90, 'eta': 0.04920313498914606, 'subsample': 0.5283555940153051, 'colsample_bytree': 0.8274596365159987, 'reg_lambda': 7.042528242379657}. Best is trial 11 with value: 0.8996617182664728.\u001b[0m\n"
     ]
    },
    {
     "name": "stdout",
     "output_type": "stream",
     "text": [
      "0.8827398867365679\n"
     ]
    },
    {
     "name": "stderr",
     "output_type": "stream",
     "text": [
      "\u001b[32m[I 2023-01-16 08:11:16,663]\u001b[0m Trial 51 finished with value: 0.8958536074517615 and parameters: {'max_depth': 5, 'n_estimators': 87, 'eta': 0.08320307204215356, 'subsample': 0.44483332575714973, 'colsample_bytree': 0.7529813177751874, 'reg_lambda': 3.5004934639319973}. Best is trial 11 with value: 0.8996617182664728.\u001b[0m\n"
     ]
    },
    {
     "name": "stdout",
     "output_type": "stream",
     "text": [
      "0.8958536074517615\n"
     ]
    },
    {
     "name": "stderr",
     "output_type": "stream",
     "text": [
      "\u001b[32m[I 2023-01-16 08:11:17,057]\u001b[0m Trial 52 finished with value: 0.8840730117445652 and parameters: {'max_depth': 6, 'n_estimators': 84, 'eta': 0.08321849170882466, 'subsample': 0.44263889137005635, 'colsample_bytree': 0.7474479242424991, 'reg_lambda': 2.5969742554840325}. Best is trial 11 with value: 0.8996617182664728.\u001b[0m\n"
     ]
    },
    {
     "name": "stdout",
     "output_type": "stream",
     "text": [
      "0.8840730117445652\n"
     ]
    },
    {
     "name": "stderr",
     "output_type": "stream",
     "text": [
      "\u001b[32m[I 2023-01-16 08:11:17,411]\u001b[0m Trial 53 finished with value: 0.888330660797639 and parameters: {'max_depth': 4, 'n_estimators': 91, 'eta': 0.06921425944954634, 'subsample': 0.3784471130359855, 'colsample_bytree': 0.7031407709580941, 'reg_lambda': 6.538233130467255}. Best is trial 11 with value: 0.8996617182664728.\u001b[0m\n"
     ]
    },
    {
     "name": "stdout",
     "output_type": "stream",
     "text": [
      "0.888330660797639\n"
     ]
    },
    {
     "name": "stderr",
     "output_type": "stream",
     "text": [
      "\u001b[32m[I 2023-01-16 08:11:17,816]\u001b[0m Trial 54 finished with value: 0.8870372702556543 and parameters: {'max_depth': 5, 'n_estimators': 96, 'eta': 0.09951007707613932, 'subsample': 0.99784071812635, 'colsample_bytree': 0.857780289081286, 'reg_lambda': 2.2521978549546247}. Best is trial 11 with value: 0.8996617182664728.\u001b[0m\n"
     ]
    },
    {
     "name": "stdout",
     "output_type": "stream",
     "text": [
      "0.8870372702556543\n"
     ]
    },
    {
     "name": "stderr",
     "output_type": "stream",
     "text": [
      "\u001b[32m[I 2023-01-16 08:11:18,086]\u001b[0m Trial 55 finished with value: 0.8811525284926428 and parameters: {'max_depth': 4, 'n_estimators': 73, 'eta': 0.0630992283142715, 'subsample': 0.557184752844625, 'colsample_bytree': 0.2110080641957644, 'reg_lambda': 4.064024141055249}. Best is trial 11 with value: 0.8996617182664728.\u001b[0m\n"
     ]
    },
    {
     "name": "stdout",
     "output_type": "stream",
     "text": [
      "0.8811525284926428\n"
     ]
    },
    {
     "name": "stderr",
     "output_type": "stream",
     "text": [
      "\u001b[32m[I 2023-01-16 08:11:18,494]\u001b[0m Trial 56 finished with value: 0.8871820653436662 and parameters: {'max_depth': 5, 'n_estimators': 87, 'eta': 0.05419541744249945, 'subsample': 0.47907246445625606, 'colsample_bytree': 0.8918032335232629, 'reg_lambda': 1.0550441910457105}. Best is trial 11 with value: 0.8996617182664728.\u001b[0m\n"
     ]
    },
    {
     "name": "stdout",
     "output_type": "stream",
     "text": [
      "0.8871820653436662\n"
     ]
    },
    {
     "name": "stderr",
     "output_type": "stream",
     "text": [
      "\u001b[32m[I 2023-01-16 08:11:18,944]\u001b[0m Trial 57 finished with value: 0.883221414587398 and parameters: {'max_depth': 6, 'n_estimators': 100, 'eta': 0.08825137807057958, 'subsample': 0.3993609075635372, 'colsample_bytree': 0.8226048712642164, 'reg_lambda': 39.98862612082646}. Best is trial 11 with value: 0.8996617182664728.\u001b[0m\n"
     ]
    },
    {
     "name": "stdout",
     "output_type": "stream",
     "text": [
      "0.883221414587398\n"
     ]
    },
    {
     "name": "stderr",
     "output_type": "stream",
     "text": [
      "\u001b[32m[I 2023-01-16 08:11:19,254]\u001b[0m Trial 58 finished with value: 0.8837756767149969 and parameters: {'max_depth': 4, 'n_estimators': 81, 'eta': 0.08128435651153383, 'subsample': 0.6098992891562175, 'colsample_bytree': 0.5936704411814083, 'reg_lambda': 8.400130886890608}. Best is trial 11 with value: 0.8996617182664728.\u001b[0m\n"
     ]
    },
    {
     "name": "stdout",
     "output_type": "stream",
     "text": [
      "0.8837756767149969\n",
      "0.8511567107135568\n"
     ]
    },
    {
     "name": "stderr",
     "output_type": "stream",
     "text": [
      "\u001b[32m[I 2023-01-16 08:11:19,450]\u001b[0m Trial 59 finished with value: 0.8511567107135568 and parameters: {'max_depth': 7, 'n_estimators': 29, 'eta': 0.06040764883399511, 'subsample': 0.5042643855829724, 'colsample_bytree': 0.7294998341449853, 'reg_lambda': 34.340355500490844}. Best is trial 11 with value: 0.8996617182664728.\u001b[0m\n",
      "\u001b[32m[I 2023-01-16 08:11:20,067]\u001b[0m Trial 60 finished with value: 0.8916387234595654 and parameters: {'max_depth': 10, 'n_estimators': 90, 'eta': 0.07479572876657087, 'subsample': 0.5503130878471474, 'colsample_bytree': 0.923686755620036, 'reg_lambda': 10.633928114256083}. Best is trial 11 with value: 0.8996617182664728.\u001b[0m\n"
     ]
    },
    {
     "name": "stdout",
     "output_type": "stream",
     "text": [
      "0.8916387234595654\n"
     ]
    },
    {
     "name": "stderr",
     "output_type": "stream",
     "text": [
      "\u001b[32m[I 2023-01-16 08:11:20,667]\u001b[0m Trial 61 finished with value: 0.8732672573857281 and parameters: {'max_depth': 10, 'n_estimators': 92, 'eta': 0.06662332590651551, 'subsample': 0.5560854121024871, 'colsample_bytree': 0.9275796889831318, 'reg_lambda': 10.415937797827933}. Best is trial 11 with value: 0.8996617182664728.\u001b[0m\n"
     ]
    },
    {
     "name": "stdout",
     "output_type": "stream",
     "text": [
      "0.8732672573857281\n"
     ]
    },
    {
     "name": "stderr",
     "output_type": "stream",
     "text": [
      "\u001b[32m[I 2023-01-16 08:11:21,319]\u001b[0m Trial 62 finished with value: 0.8915696932431878 and parameters: {'max_depth': 12, 'n_estimators': 97, 'eta': 0.07572760615950658, 'subsample': 0.4497272658521485, 'colsample_bytree': 0.8718381729780913, 'reg_lambda': 5.899676659569949}. Best is trial 11 with value: 0.8996617182664728.\u001b[0m\n"
     ]
    },
    {
     "name": "stdout",
     "output_type": "stream",
     "text": [
      "0.8915696932431878\n"
     ]
    },
    {
     "name": "stderr",
     "output_type": "stream",
     "text": [
      "\u001b[32m[I 2023-01-16 08:11:21,699]\u001b[0m Trial 63 finished with value: 0.887341339940479 and parameters: {'max_depth': 5, 'n_estimators': 92, 'eta': 0.07174110908465033, 'subsample': 0.5317209038587787, 'colsample_bytree': 0.9371036580230054, 'reg_lambda': 3.3937182610921806}. Best is trial 11 with value: 0.8996617182664728.\u001b[0m\n"
     ]
    },
    {
     "name": "stdout",
     "output_type": "stream",
     "text": [
      "0.887341339940479\n"
     ]
    },
    {
     "name": "stderr",
     "output_type": "stream",
     "text": [
      "\u001b[32m[I 2023-01-16 08:11:22,105]\u001b[0m Trial 64 finished with value: 0.8788529804553571 and parameters: {'max_depth': 6, 'n_estimators': 87, 'eta': 0.08506003586175176, 'subsample': 0.6611417681484665, 'colsample_bytree': 0.6748004175151403, 'reg_lambda': 12.887474911907681}. Best is trial 11 with value: 0.8996617182664728.\u001b[0m\n"
     ]
    },
    {
     "name": "stdout",
     "output_type": "stream",
     "text": [
      "0.8788529804553571\n"
     ]
    },
    {
     "name": "stderr",
     "output_type": "stream",
     "text": [
      "\u001b[32m[I 2023-01-16 08:11:22,520]\u001b[0m Trial 65 finished with value: 0.8781926475074704 and parameters: {'max_depth': 14, 'n_estimators': 48, 'eta': 0.09203126299230956, 'subsample': 0.7048212623039469, 'colsample_bytree': 0.9730124839986126, 'reg_lambda': 4.774935746943348}. Best is trial 11 with value: 0.8996617182664728.\u001b[0m\n"
     ]
    },
    {
     "name": "stdout",
     "output_type": "stream",
     "text": [
      "0.8781926475074704\n"
     ]
    },
    {
     "name": "stderr",
     "output_type": "stream",
     "text": [
      "\u001b[32m[I 2023-01-16 08:11:23,006]\u001b[0m Trial 66 finished with value: 0.8742188641734523 and parameters: {'max_depth': 10, 'n_estimators': 83, 'eta': 0.0630488050814124, 'subsample': 0.4767276890751158, 'colsample_bytree': 0.8158739168251514, 'reg_lambda': 15.745756130153948}. Best is trial 11 with value: 0.8996617182664728.\u001b[0m\n"
     ]
    },
    {
     "name": "stdout",
     "output_type": "stream",
     "text": [
      "0.8742188641734523\n"
     ]
    },
    {
     "name": "stderr",
     "output_type": "stream",
     "text": [
      "\u001b[32m[I 2023-01-16 08:11:23,329]\u001b[0m Trial 67 finished with value: 0.8867604759246177 and parameters: {'max_depth': 4, 'n_estimators': 78, 'eta': 0.04541637647524068, 'subsample': 0.3369383598505391, 'colsample_bytree': 0.7596343542596214, 'reg_lambda': 9.796857352949605}. Best is trial 11 with value: 0.8996617182664728.\u001b[0m\n"
     ]
    },
    {
     "name": "stdout",
     "output_type": "stream",
     "text": [
      "0.8867604759246177\n"
     ]
    },
    {
     "name": "stderr",
     "output_type": "stream",
     "text": [
      "\u001b[32m[I 2023-01-16 08:11:23,735]\u001b[0m Trial 68 finished with value: 0.8735056641818034 and parameters: {'max_depth': 5, 'n_estimators': 89, 'eta': 0.07914612034933283, 'subsample': 0.5837272798452425, 'colsample_bytree': 0.7022775589954005, 'reg_lambda': 8.135105350763846}. Best is trial 11 with value: 0.8996617182664728.\u001b[0m\n"
     ]
    },
    {
     "name": "stdout",
     "output_type": "stream",
     "text": [
      "0.8735056641818034\n"
     ]
    },
    {
     "name": "stderr",
     "output_type": "stream",
     "text": [
      "\u001b[32m[I 2023-01-16 08:11:24,258]\u001b[0m Trial 69 finished with value: 0.8782899632759248 and parameters: {'max_depth': 7, 'n_estimators': 94, 'eta': 0.056655290170996755, 'subsample': 0.5062269992023783, 'colsample_bytree': 0.7877877879335423, 'reg_lambda': 2.1958702090298643}. Best is trial 11 with value: 0.8996617182664728.\u001b[0m\n"
     ]
    },
    {
     "name": "stdout",
     "output_type": "stream",
     "text": [
      "0.8782899632759248\n"
     ]
    },
    {
     "name": "stderr",
     "output_type": "stream",
     "text": [
      "\u001b[32m[I 2023-01-16 08:11:24,808]\u001b[0m Trial 70 finished with value: 0.89135250061117 and parameters: {'max_depth': 8, 'n_estimators': 98, 'eta': 0.051807070084444476, 'subsample': 0.4214300511775303, 'colsample_bytree': 0.9194888266773078, 'reg_lambda': 6.312212466802243}. Best is trial 11 with value: 0.8996617182664728.\u001b[0m\n"
     ]
    },
    {
     "name": "stdout",
     "output_type": "stream",
     "text": [
      "0.89135250061117\n"
     ]
    },
    {
     "name": "stderr",
     "output_type": "stream",
     "text": [
      "\u001b[32m[I 2023-01-16 08:11:25,494]\u001b[0m Trial 71 finished with value: 0.8781822087918231 and parameters: {'max_depth': 13, 'n_estimators': 95, 'eta': 0.07652512898809666, 'subsample': 0.5531582958767511, 'colsample_bytree': 0.8592580452907533, 'reg_lambda': 5.45002979668266}. Best is trial 11 with value: 0.8996617182664728.\u001b[0m\n"
     ]
    },
    {
     "name": "stdout",
     "output_type": "stream",
     "text": [
      "0.8781822087918231\n"
     ]
    },
    {
     "name": "stderr",
     "output_type": "stream",
     "text": [
      "\u001b[32m[I 2023-01-16 08:11:26,156]\u001b[0m Trial 72 finished with value: 0.8621298212555148 and parameters: {'max_depth': 13, 'n_estimators': 97, 'eta': 0.0695688683301282, 'subsample': 0.43915961919064106, 'colsample_bytree': 0.8640664915754799, 'reg_lambda': 3.5201908418314054}. Best is trial 11 with value: 0.8996617182664728.\u001b[0m\n"
     ]
    },
    {
     "name": "stdout",
     "output_type": "stream",
     "text": [
      "0.8621298212555148\n"
     ]
    },
    {
     "name": "stderr",
     "output_type": "stream",
     "text": [
      "\u001b[32m[I 2023-01-16 08:11:26,733]\u001b[0m Trial 73 finished with value: 0.8852293520520832 and parameters: {'max_depth': 12, 'n_estimators': 89, 'eta': 0.07302388291847879, 'subsample': 0.47867082690112006, 'colsample_bytree': 0.8903947940437238, 'reg_lambda': 6.004294217959902}. Best is trial 11 with value: 0.8996617182664728.\u001b[0m\n"
     ]
    },
    {
     "name": "stdout",
     "output_type": "stream",
     "text": [
      "0.8852293520520832\n"
     ]
    },
    {
     "name": "stderr",
     "output_type": "stream",
     "text": [
      "\u001b[32m[I 2023-01-16 08:11:27,388]\u001b[0m Trial 74 finished with value: 0.8799655455037084 and parameters: {'max_depth': 11, 'n_estimators': 97, 'eta': 0.07564874151096496, 'subsample': 0.4625733494555825, 'colsample_bytree': 0.8356479184017805, 'reg_lambda': 4.318958080337235}. Best is trial 11 with value: 0.8996617182664728.\u001b[0m\n"
     ]
    },
    {
     "name": "stdout",
     "output_type": "stream",
     "text": [
      "0.8799655455037084\n"
     ]
    },
    {
     "name": "stderr",
     "output_type": "stream",
     "text": [
      "\u001b[32m[I 2023-01-16 08:11:28,024]\u001b[0m Trial 75 finished with value: 0.8867291597776755 and parameters: {'max_depth': 12, 'n_estimators': 93, 'eta': 0.06621499033628153, 'subsample': 0.6190494347087263, 'colsample_bytree': 0.7732231044686659, 'reg_lambda': 8.026276201939927}. Best is trial 11 with value: 0.8996617182664728.\u001b[0m\n"
     ]
    },
    {
     "name": "stdout",
     "output_type": "stream",
     "text": [
      "0.8867291597776755\n"
     ]
    },
    {
     "name": "stderr",
     "output_type": "stream",
     "text": [
      "\u001b[32m[I 2023-01-16 08:11:28,534]\u001b[0m Trial 76 finished with value: 0.890261486459639 and parameters: {'max_depth': 16, 'n_estimators': 84, 'eta': 0.08025870213896662, 'subsample': 0.5131196615339639, 'colsample_bytree': 0.6396601480958842, 'reg_lambda': 11.321406844642258}. Best is trial 11 with value: 0.8996617182664728.\u001b[0m\n"
     ]
    },
    {
     "name": "stdout",
     "output_type": "stream",
     "text": [
      "0.890261486459639\n"
     ]
    },
    {
     "name": "stderr",
     "output_type": "stream",
     "text": [
      "\u001b[32m[I 2023-01-16 08:11:28,924]\u001b[0m Trial 77 finished with value: 0.8859856538373729 and parameters: {'max_depth': 4, 'n_estimators': 100, 'eta': 0.08619102605502262, 'subsample': 0.5717468492446915, 'colsample_bytree': 0.8050220377051088, 'reg_lambda': 1.8704401090822405}. Best is trial 11 with value: 0.8996617182664728.\u001b[0m\n"
     ]
    },
    {
     "name": "stdout",
     "output_type": "stream",
     "text": [
      "0.8859856538373729\n"
     ]
    },
    {
     "name": "stderr",
     "output_type": "stream",
     "text": [
      "\u001b[32m[I 2023-01-16 08:11:29,297]\u001b[0m Trial 78 finished with value: 0.8743485062871375 and parameters: {'max_depth': 5, 'n_estimators': 88, 'eta': 0.06075433487893117, 'subsample': 0.4002258282915162, 'colsample_bytree': 0.7477925809036865, 'reg_lambda': 4.813104352175292}. Best is trial 11 with value: 0.8996617182664728.\u001b[0m\n"
     ]
    },
    {
     "name": "stdout",
     "output_type": "stream",
     "text": [
      "0.8743485062871375\n"
     ]
    },
    {
     "name": "stderr",
     "output_type": "stream",
     "text": [
      "\u001b[32m[I 2023-01-16 08:11:29,765]\u001b[0m Trial 79 finished with value: 0.8805406850626021 and parameters: {'max_depth': 14, 'n_estimators': 61, 'eta': 0.07502490711294676, 'subsample': 0.6019542496149498, 'colsample_bytree': 0.8751822051809467, 'reg_lambda': 6.989554033650191}. Best is trial 11 with value: 0.8996617182664728.\u001b[0m\n"
     ]
    },
    {
     "name": "stdout",
     "output_type": "stream",
     "text": [
      "0.8805406850626021\n"
     ]
    },
    {
     "name": "stderr",
     "output_type": "stream",
     "text": [
      "\u001b[32m[I 2023-01-16 08:11:30,182]\u001b[0m Trial 80 finished with value: 0.8702817847105815 and parameters: {'max_depth': 6, 'n_estimators': 91, 'eta': 0.07056809153274131, 'subsample': 0.645604084533071, 'colsample_bytree': 0.5416642729108103, 'reg_lambda': 3.549580215992378}. Best is trial 11 with value: 0.8996617182664728.\u001b[0m\n"
     ]
    },
    {
     "name": "stdout",
     "output_type": "stream",
     "text": [
      "0.8702817847105815\n"
     ]
    },
    {
     "name": "stderr",
     "output_type": "stream",
     "text": [
      "\u001b[32m[I 2023-01-16 08:11:30,750]\u001b[0m Trial 81 finished with value: 0.8749037786130247 and parameters: {'max_depth': 9, 'n_estimators': 97, 'eta': 0.05167854868073029, 'subsample': 0.4291815171191144, 'colsample_bytree': 0.917358919866399, 'reg_lambda': 6.216698742631837}. Best is trial 11 with value: 0.8996617182664728.\u001b[0m\n"
     ]
    },
    {
     "name": "stdout",
     "output_type": "stream",
     "text": [
      "0.8749037786130247\n"
     ]
    },
    {
     "name": "stderr",
     "output_type": "stream",
     "text": [
      "\u001b[32m[I 2023-01-16 08:11:31,326]\u001b[0m Trial 82 finished with value: 0.8779757916082154 and parameters: {'max_depth': 10, 'n_estimators': 98, 'eta': 0.05142924644771398, 'subsample': 0.4149941096353562, 'colsample_bytree': 0.9558426082895043, 'reg_lambda': 9.20711216385099}. Best is trial 11 with value: 0.8996617182664728.\u001b[0m\n"
     ]
    },
    {
     "name": "stdout",
     "output_type": "stream",
     "text": [
      "0.8779757916082154\n"
     ]
    },
    {
     "name": "stderr",
     "output_type": "stream",
     "text": [
      "\u001b[32m[I 2023-01-16 08:11:31,846]\u001b[0m Trial 83 finished with value: 0.8851626789650451 and parameters: {'max_depth': 8, 'n_estimators': 100, 'eta': 0.056239390065782345, 'subsample': 0.45611365075069105, 'colsample_bytree': 0.9164705370025686, 'reg_lambda': 20.684025653701795}. Best is trial 11 with value: 0.8996617182664728.\u001b[0m\n"
     ]
    },
    {
     "name": "stdout",
     "output_type": "stream",
     "text": [
      "0.8851626789650451\n"
     ]
    },
    {
     "name": "stderr",
     "output_type": "stream",
     "text": [
      "\u001b[32m[I 2023-01-16 08:11:32,352]\u001b[0m Trial 84 finished with value: 0.8901486809840947 and parameters: {'max_depth': 9, 'n_estimators': 94, 'eta': 0.046168746170052684, 'subsample': 0.5381124676603795, 'colsample_bytree': 0.8397347965384893, 'reg_lambda': 26.388700927644955}. Best is trial 11 with value: 0.8996617182664728.\u001b[0m\n"
     ]
    },
    {
     "name": "stdout",
     "output_type": "stream",
     "text": [
      "0.8901486809840947\n"
     ]
    },
    {
     "name": "stderr",
     "output_type": "stream",
     "text": [
      "\u001b[32m[I 2023-01-16 08:11:32,641]\u001b[0m Trial 85 finished with value: 0.881920952657394 and parameters: {'max_depth': 4, 'n_estimators': 70, 'eta': 0.04176057931779202, 'subsample': 0.36191597125588254, 'colsample_bytree': 0.8765255977683433, 'reg_lambda': 6.096402106021826}. Best is trial 11 with value: 0.8996617182664728.\u001b[0m\n"
     ]
    },
    {
     "name": "stdout",
     "output_type": "stream",
     "text": [
      "0.881920952657394\n"
     ]
    },
    {
     "name": "stderr",
     "output_type": "stream",
     "text": [
      "\u001b[32m[I 2023-01-16 08:11:33,025]\u001b[0m Trial 86 finished with value: 0.891308051886478 and parameters: {'max_depth': 5, 'n_estimators': 86, 'eta': 0.06470494231817046, 'subsample': 0.49568501104476154, 'colsample_bytree': 0.722006710375337, 'reg_lambda': 5.198441165260501}. Best is trial 11 with value: 0.8996617182664728.\u001b[0m\n"
     ]
    },
    {
     "name": "stdout",
     "output_type": "stream",
     "text": [
      "0.891308051886478\n"
     ]
    },
    {
     "name": "stderr",
     "output_type": "stream",
     "text": [
      "\u001b[32m[I 2023-01-16 08:11:33,461]\u001b[0m Trial 87 finished with value: 0.8092755733380386 and parameters: {'max_depth': 6, 'n_estimators': 98, 'eta': 0.004776819447160567, 'subsample': 0.5221572383083065, 'colsample_bytree': 0.9806893140309993, 'reg_lambda': 7.167209190232266}. Best is trial 11 with value: 0.8996617182664728.\u001b[0m\n"
     ]
    },
    {
     "name": "stdout",
     "output_type": "stream",
     "text": [
      "0.8092755733380386\n"
     ]
    },
    {
     "name": "stderr",
     "output_type": "stream",
     "text": [
      "\u001b[32m[I 2023-01-16 08:11:33,667]\u001b[0m Trial 88 finished with value: 0.8807969386951067 and parameters: {'max_depth': 4, 'n_estimators': 39, 'eta': 0.059372788806922275, 'subsample': 0.285619710804587, 'colsample_bytree': 0.6917090740024446, 'reg_lambda': 2.7666483997958817}. Best is trial 11 with value: 0.8996617182664728.\u001b[0m\n"
     ]
    },
    {
     "name": "stdout",
     "output_type": "stream",
     "text": [
      "0.8807969386951067\n"
     ]
    },
    {
     "name": "stderr",
     "output_type": "stream",
     "text": [
      "\u001b[32m[I 2023-01-16 08:11:34,019]\u001b[0m Trial 89 finished with value: 0.8834803620820052 and parameters: {'max_depth': 4, 'n_estimators': 91, 'eta': 0.0670607805316214, 'subsample': 0.3950545429345332, 'colsample_bytree': 0.7894627680410221, 'reg_lambda': 1.734923485696374}. Best is trial 11 with value: 0.8996617182664728.\u001b[0m\n"
     ]
    },
    {
     "name": "stdout",
     "output_type": "stream",
     "text": [
      "0.8834803620820052\n"
     ]
    },
    {
     "name": "stderr",
     "output_type": "stream",
     "text": [
      "\u001b[32m[I 2023-01-16 08:11:34,465]\u001b[0m Trial 90 finished with value: 0.8880646419150127 and parameters: {'max_depth': 11, 'n_estimators': 80, 'eta': 0.08274172080684013, 'subsample': 0.33491775463889106, 'colsample_bytree': 0.4364238303319108, 'reg_lambda': 8.620802277882163}. Best is trial 11 with value: 0.8996617182664728.\u001b[0m\n"
     ]
    },
    {
     "name": "stdout",
     "output_type": "stream",
     "text": [
      "0.8880646419150127\n"
     ]
    },
    {
     "name": "stderr",
     "output_type": "stream",
     "text": [
      "\u001b[32m[I 2023-01-16 08:11:35,071]\u001b[0m Trial 91 finished with value: 0.8830695481113668 and parameters: {'max_depth': 12, 'n_estimators': 85, 'eta': 0.06455801640334181, 'subsample': 0.49104533936983263, 'colsample_bytree': 0.7392915334028771, 'reg_lambda': 5.055338611636473}. Best is trial 11 with value: 0.8996617182664728.\u001b[0m\n"
     ]
    },
    {
     "name": "stdout",
     "output_type": "stream",
     "text": [
      "0.8830695481113668\n"
     ]
    },
    {
     "name": "stderr",
     "output_type": "stream",
     "text": [
      "\u001b[32m[I 2023-01-16 08:11:35,470]\u001b[0m Trial 92 finished with value: 0.8766443502640322 and parameters: {'max_depth': 5, 'n_estimators': 95, 'eta': 0.07411228394651277, 'subsample': 0.4283609435515421, 'colsample_bytree': 0.8139442343987512, 'reg_lambda': 4.185563137031304}. Best is trial 11 with value: 0.8996617182664728.\u001b[0m\n"
     ]
    },
    {
     "name": "stdout",
     "output_type": "stream",
     "text": [
      "0.8766443502640322\n"
     ]
    },
    {
     "name": "stderr",
     "output_type": "stream",
     "text": [
      "\u001b[32m[I 2023-01-16 08:11:35,845]\u001b[0m Trial 93 finished with value: 0.87676119653273 and parameters: {'max_depth': 5, 'n_estimators': 87, 'eta': 0.06220132558512041, 'subsample': 0.45928847491800995, 'colsample_bytree': 0.7290471841691004, 'reg_lambda': 5.500081568303437}. Best is trial 11 with value: 0.8996617182664728.\u001b[0m\n"
     ]
    },
    {
     "name": "stdout",
     "output_type": "stream",
     "text": [
      "0.87676119653273\n"
     ]
    },
    {
     "name": "stderr",
     "output_type": "stream",
     "text": [
      "\u001b[32m[I 2023-01-16 08:11:36,322]\u001b[0m Trial 94 finished with value: 0.8899459678608783 and parameters: {'max_depth': 7, 'n_estimators': 90, 'eta': 0.06836234525227824, 'subsample': 0.4941134357088102, 'colsample_bytree': 0.8375864332852472, 'reg_lambda': 7.4511834536074}. Best is trial 11 with value: 0.8996617182664728.\u001b[0m\n"
     ]
    },
    {
     "name": "stdout",
     "output_type": "stream",
     "text": [
      "0.8899459678608783\n"
     ]
    },
    {
     "name": "stderr",
     "output_type": "stream",
     "text": [
      "\u001b[32m[I 2023-01-16 08:11:36,694]\u001b[0m Trial 95 finished with value: 0.8828021822976894 and parameters: {'max_depth': 6, 'n_estimators': 75, 'eta': 0.07760750858738509, 'subsample': 0.547661082984481, 'colsample_bytree': 0.7646304943032893, 'reg_lambda': 2.8986993110783628}. Best is trial 11 with value: 0.8996617182664728.\u001b[0m\n"
     ]
    },
    {
     "name": "stdout",
     "output_type": "stream",
     "text": [
      "0.8828021822976894\n"
     ]
    },
    {
     "name": "stderr",
     "output_type": "stream",
     "text": [
      "\u001b[32m[I 2023-01-16 08:11:37,078]\u001b[0m Trial 96 finished with value: 0.8761914446980416 and parameters: {'max_depth': 5, 'n_estimators': 93, 'eta': 0.07159715950229827, 'subsample': 0.47075764205772785, 'colsample_bytree': 0.7142219601056385, 'reg_lambda': 3.731249236952649}. Best is trial 11 with value: 0.8996617182664728.\u001b[0m\n"
     ]
    },
    {
     "name": "stdout",
     "output_type": "stream",
     "text": [
      "0.8761914446980416\n"
     ]
    },
    {
     "name": "stderr",
     "output_type": "stream",
     "text": [
      "\u001b[32m[I 2023-01-16 08:11:37,397]\u001b[0m Trial 97 finished with value: 0.8872979014140755 and parameters: {'max_depth': 4, 'n_estimators': 83, 'eta': 0.05601765797306597, 'subsample': 0.5758283315371202, 'colsample_bytree': 0.942643869715349, 'reg_lambda': 6.735462375197209}. Best is trial 11 with value: 0.8996617182664728.\u001b[0m\n"
     ]
    },
    {
     "name": "stdout",
     "output_type": "stream",
     "text": [
      "0.8872979014140755\n"
     ]
    },
    {
     "name": "stderr",
     "output_type": "stream",
     "text": [
      "\u001b[32m[I 2023-01-16 08:11:37,947]\u001b[0m Trial 98 finished with value: 0.8819775237615475 and parameters: {'max_depth': 8, 'n_estimators': 97, 'eta': 0.0641612147927816, 'subsample': 0.5230928012747227, 'colsample_bytree': 0.9054779313349143, 'reg_lambda': 28.723508675092603}. Best is trial 11 with value: 0.8996617182664728.\u001b[0m\n"
     ]
    },
    {
     "name": "stdout",
     "output_type": "stream",
     "text": [
      "0.8819775237615475\n"
     ]
    },
    {
     "name": "stderr",
     "output_type": "stream",
     "text": [
      "\u001b[32m[I 2023-01-16 08:11:38,358]\u001b[0m Trial 99 finished with value: 0.8808720301012151 and parameters: {'max_depth': 6, 'n_estimators': 86, 'eta': 0.05289562187062129, 'subsample': 0.44597911208774627, 'colsample_bytree': 0.7934931343931976, 'reg_lambda': 1.7891160788147191}. Best is trial 11 with value: 0.8996617182664728.\u001b[0m\n"
     ]
    },
    {
     "name": "stdout",
     "output_type": "stream",
     "text": [
      "0.8808720301012151\n"
     ]
    },
    {
     "name": "stderr",
     "output_type": "stream",
     "text": [
      "\u001b[32m[I 2023-01-16 08:11:38,957]\u001b[0m Trial 100 finished with value: 0.8844770910599471 and parameters: {'max_depth': 20, 'n_estimators': 93, 'eta': 0.0842247970981808, 'subsample': 0.49178350073394966, 'colsample_bytree': 0.7554995808310192, 'reg_lambda': 11.059975798069077}. Best is trial 11 with value: 0.8996617182664728.\u001b[0m\n"
     ]
    },
    {
     "name": "stdout",
     "output_type": "stream",
     "text": [
      "0.8844770910599471\n"
     ]
    },
    {
     "name": "stderr",
     "output_type": "stream",
     "text": [
      "\u001b[32m[I 2023-01-16 08:11:39,262]\u001b[0m Trial 101 finished with value: 0.8775616103099491 and parameters: {'max_depth': 5, 'n_estimators': 67, 'eta': 0.073850848056548, 'subsample': 0.7569943124549067, 'colsample_bytree': 0.7863335531813744, 'reg_lambda': 4.739046150005075}. Best is trial 11 with value: 0.8996617182664728.\u001b[0m\n"
     ]
    },
    {
     "name": "stdout",
     "output_type": "stream",
     "text": [
      "0.8775616103099491\n"
     ]
    },
    {
     "name": "stderr",
     "output_type": "stream",
     "text": [
      "\u001b[32m[I 2023-01-16 08:11:39,607]\u001b[0m Trial 102 finished with value: 0.8808875198083047 and parameters: {'max_depth': 5, 'n_estimators': 82, 'eta': 0.09045034372320071, 'subsample': 0.8388800503328963, 'colsample_bytree': 0.6810884758078052, 'reg_lambda': 6.162407279924546}. Best is trial 11 with value: 0.8996617182664728.\u001b[0m\n"
     ]
    },
    {
     "name": "stdout",
     "output_type": "stream",
     "text": [
      "0.8808875198083047\n"
     ]
    },
    {
     "name": "stderr",
     "output_type": "stream",
     "text": [
      "\u001b[32m[I 2023-01-16 08:11:39,949]\u001b[0m Trial 103 finished with value: 0.872042560327358 and parameters: {'max_depth': 4, 'n_estimators': 89, 'eta': 0.07918930148434604, 'subsample': 0.41233733856534516, 'colsample_bytree': 0.7749945137103333, 'reg_lambda': 1.0749042863686449}. Best is trial 11 with value: 0.8996617182664728.\u001b[0m\n"
     ]
    },
    {
     "name": "stdout",
     "output_type": "stream",
     "text": [
      "0.872042560327358\n"
     ]
    },
    {
     "name": "stderr",
     "output_type": "stream",
     "text": [
      "\u001b[32m[I 2023-01-16 08:11:40,206]\u001b[0m Trial 104 finished with value: 0.8861159694165837 and parameters: {'max_depth': 5, 'n_estimators': 54, 'eta': 0.04942217048085526, 'subsample': 0.5632499568116832, 'colsample_bytree': 0.8105021606385469, 'reg_lambda': 4.228446653083729}. Best is trial 11 with value: 0.8996617182664728.\u001b[0m\n",
      "\u001b[32m[I 2023-01-16 08:11:40,365]\u001b[0m Trial 105 finished with value: 0.8768884815170753 and parameters: {'max_depth': 4, 'n_estimators': 23, 'eta': 0.06937492419406616, 'subsample': 0.883806268331353, 'colsample_bytree': 0.7168262386563509, 'reg_lambda': 7.792801357661151}. Best is trial 11 with value: 0.8996617182664728.\u001b[0m\n"
     ]
    },
    {
     "name": "stdout",
     "output_type": "stream",
     "text": [
      "0.8861159694165837\n",
      "0.8768884815170753\n"
     ]
    },
    {
     "name": "stderr",
     "output_type": "stream",
     "text": [
      "\u001b[32m[I 2023-01-16 08:11:40,829]\u001b[0m Trial 106 finished with value: 0.8747768303614423 and parameters: {'max_depth': 6, 'n_estimators': 99, 'eta': 0.07289333811053299, 'subsample': 0.38519164874058665, 'colsample_bytree': 0.8792812225383029, 'reg_lambda': 3.060476145677865}. Best is trial 11 with value: 0.8996617182664728.\u001b[0m\n"
     ]
    },
    {
     "name": "stdout",
     "output_type": "stream",
     "text": [
      "0.8747768303614423\n"
     ]
    },
    {
     "name": "stderr",
     "output_type": "stream",
     "text": [
      "\u001b[32m[I 2023-01-16 08:11:41,239]\u001b[0m Trial 107 finished with value: 0.8812067424674564 and parameters: {'max_depth': 7, 'n_estimators': 78, 'eta': 0.05857258424140042, 'subsample': 0.5923151400793532, 'colsample_bytree': 0.8527353263158582, 'reg_lambda': 5.555272094683488}. Best is trial 11 with value: 0.8996617182664728.\u001b[0m\n"
     ]
    },
    {
     "name": "stdout",
     "output_type": "stream",
     "text": [
      "0.8812067424674564\n"
     ]
    },
    {
     "name": "stderr",
     "output_type": "stream",
     "text": [
      "\u001b[32m[I 2023-01-16 08:11:41,637]\u001b[0m Trial 108 finished with value: 0.8860563677175648 and parameters: {'max_depth': 5, 'n_estimators': 96, 'eta': 0.06798133010482185, 'subsample': 0.77214078442107, 'colsample_bytree': 0.8219418962006881, 'reg_lambda': 9.669229336436082}. Best is trial 11 with value: 0.8996617182664728.\u001b[0m\n",
      "\u001b[32m[I 2023-01-16 08:11:41,747]\u001b[0m Trial 109 finished with value: 0.869274953749755 and parameters: {'max_depth': 4, 'n_estimators': 5, 'eta': 0.06146533620872848, 'subsample': 0.6882853278923281, 'colsample_bytree': 0.65526521055051, 'reg_lambda': 2.0380686839332585}. Best is trial 11 with value: 0.8996617182664728.\u001b[0m\n"
     ]
    },
    {
     "name": "stdout",
     "output_type": "stream",
     "text": [
      "0.8860563677175648\n",
      "0.869274953749755\n"
     ]
    },
    {
     "name": "stderr",
     "output_type": "stream",
     "text": [
      "\u001b[32m[I 2023-01-16 08:11:42,206]\u001b[0m Trial 110 finished with value: 0.8652951092260064 and parameters: {'max_depth': 10, 'n_estimators': 72, 'eta': 0.07688856446170184, 'subsample': 0.5107381385912605, 'colsample_bytree': 0.7725471852969292, 'reg_lambda': 5.0259326864449845}. Best is trial 11 with value: 0.8996617182664728.\u001b[0m\n"
     ]
    },
    {
     "name": "stdout",
     "output_type": "stream",
     "text": [
      "0.8652951092260064\n"
     ]
    },
    {
     "name": "stderr",
     "output_type": "stream",
     "text": [
      "\u001b[32m[I 2023-01-16 08:11:42,722]\u001b[0m Trial 111 finished with value: 0.8941251581802153 and parameters: {'max_depth': 17, 'n_estimators': 84, 'eta': 0.08041772825700477, 'subsample': 0.514881050310156, 'colsample_bytree': 0.6358092442356061, 'reg_lambda': 11.848745386821667}. Best is trial 11 with value: 0.8996617182664728.\u001b[0m\n"
     ]
    },
    {
     "name": "stdout",
     "output_type": "stream",
     "text": [
      "0.8941251581802153\n"
     ]
    },
    {
     "name": "stderr",
     "output_type": "stream",
     "text": [
      "\u001b[32m[I 2023-01-16 08:11:43,249]\u001b[0m Trial 112 finished with value: 0.8808400404887473 and parameters: {'max_depth': 17, 'n_estimators': 86, 'eta': 0.08110839181443388, 'subsample': 0.5374046675271387, 'colsample_bytree': 0.7268965075784157, 'reg_lambda': 13.782742583292395}. Best is trial 11 with value: 0.8996617182664728.\u001b[0m\n"
     ]
    },
    {
     "name": "stdout",
     "output_type": "stream",
     "text": [
      "0.8808400404887473\n"
     ]
    },
    {
     "name": "stderr",
     "output_type": "stream",
     "text": [
      "\u001b[32m[I 2023-01-16 08:11:43,628]\u001b[0m Trial 113 finished with value: 0.8811225592767519 and parameters: {'max_depth': 5, 'n_estimators': 92, 'eta': 0.09482068714103697, 'subsample': 0.4445789546607305, 'colsample_bytree': 0.6413747268023047, 'reg_lambda': 6.518271307363187}. Best is trial 11 with value: 0.8996617182664728.\u001b[0m\n"
     ]
    },
    {
     "name": "stdout",
     "output_type": "stream",
     "text": [
      "0.8811225592767519\n"
     ]
    },
    {
     "name": "stderr",
     "output_type": "stream",
     "text": [
      "\u001b[32m[I 2023-01-16 08:11:44,172]\u001b[0m Trial 114 finished with value: 0.8950360203036387 and parameters: {'max_depth': 18, 'n_estimators': 88, 'eta': 0.08698203672185567, 'subsample': 0.4733017807080589, 'colsample_bytree': 0.693347523319061, 'reg_lambda': 12.330532546925037}. Best is trial 11 with value: 0.8996617182664728.\u001b[0m\n"
     ]
    },
    {
     "name": "stdout",
     "output_type": "stream",
     "text": [
      "0.8950360203036387\n"
     ]
    },
    {
     "name": "stderr",
     "output_type": "stream",
     "text": [
      "\u001b[32m[I 2023-01-16 08:11:44,703]\u001b[0m Trial 115 finished with value: 0.8745589642638989 and parameters: {'max_depth': 19, 'n_estimators': 90, 'eta': 0.08359555985577982, 'subsample': 0.47990239692393133, 'colsample_bytree': 0.5824894046806921, 'reg_lambda': 12.34320974219457}. Best is trial 11 with value: 0.8996617182664728.\u001b[0m\n"
     ]
    },
    {
     "name": "stdout",
     "output_type": "stream",
     "text": [
      "0.8745589642638989\n"
     ]
    },
    {
     "name": "stderr",
     "output_type": "stream",
     "text": [
      "\u001b[32m[I 2023-01-16 08:11:45,292]\u001b[0m Trial 116 finished with value: 0.8899038762655259 and parameters: {'max_depth': 18, 'n_estimators': 95, 'eta': 0.08718881986993648, 'subsample': 0.4271582580822961, 'colsample_bytree': 0.6934797471081657, 'reg_lambda': 16.871884493857117}. Best is trial 11 with value: 0.8996617182664728.\u001b[0m\n"
     ]
    },
    {
     "name": "stdout",
     "output_type": "stream",
     "text": [
      "0.8899038762655259\n"
     ]
    },
    {
     "name": "stderr",
     "output_type": "stream",
     "text": [
      "\u001b[32m[I 2023-01-16 08:11:45,928]\u001b[0m Trial 117 finished with value: 0.8793664979186546 and parameters: {'max_depth': 18, 'n_estimators': 88, 'eta': 0.07875091761020976, 'subsample': 0.6346681084139856, 'colsample_bytree': 0.6735632935795548, 'reg_lambda': 11.313167289774835}. Best is trial 11 with value: 0.8996617182664728.\u001b[0m\n"
     ]
    },
    {
     "name": "stdout",
     "output_type": "stream",
     "text": [
      "0.8793664979186546\n"
     ]
    },
    {
     "name": "stderr",
     "output_type": "stream",
     "text": [
      "\u001b[32m[I 2023-01-16 08:11:46,419]\u001b[0m Trial 118 finished with value: 0.876055404661863 and parameters: {'max_depth': 17, 'n_estimators': 98, 'eta': 0.015097039298127245, 'subsample': 0.5000544192284763, 'colsample_bytree': 0.6110788640431624, 'reg_lambda': 15.056230503279357}. Best is trial 11 with value: 0.8996617182664728.\u001b[0m\n"
     ]
    },
    {
     "name": "stdout",
     "output_type": "stream",
     "text": [
      "0.876055404661863\n"
     ]
    },
    {
     "name": "stderr",
     "output_type": "stream",
     "text": [
      "\u001b[32m[I 2023-01-16 08:11:47,020]\u001b[0m Trial 119 finished with value: 0.8784125340015908 and parameters: {'max_depth': 19, 'n_estimators': 84, 'eta': 0.10318145734937395, 'subsample': 0.5388593468028858, 'colsample_bytree': 0.7531918029330863, 'reg_lambda': 9.179489543535826}. Best is trial 11 with value: 0.8996617182664728.\u001b[0m\n"
     ]
    },
    {
     "name": "stdout",
     "output_type": "stream",
     "text": [
      "0.8784125340015908\n"
     ]
    },
    {
     "name": "stderr",
     "output_type": "stream",
     "text": [
      "\u001b[32m[I 2023-01-16 08:11:47,554]\u001b[0m Trial 120 finished with value: 0.8875959099091697 and parameters: {'max_depth': 13, 'n_estimators': 80, 'eta': 0.08882212479608394, 'subsample': 0.4605485422860165, 'colsample_bytree': 0.9602178130784702, 'reg_lambda': 10.481821217160704}. Best is trial 11 with value: 0.8996617182664728.\u001b[0m\n"
     ]
    },
    {
     "name": "stdout",
     "output_type": "stream",
     "text": [
      "0.8875959099091697\n"
     ]
    },
    {
     "name": "stderr",
     "output_type": "stream",
     "text": [
      "\u001b[32m[I 2023-01-16 08:11:47,910]\u001b[0m Trial 121 finished with value: 0.8749209519839285 and parameters: {'max_depth': 4, 'n_estimators': 93, 'eta': 0.07498648233111438, 'subsample': 0.5199831505621122, 'colsample_bytree': 0.7144374229485797, 'reg_lambda': 3.486159866363468}. Best is trial 11 with value: 0.8996617182664728.\u001b[0m\n"
     ]
    },
    {
     "name": "stdout",
     "output_type": "stream",
     "text": [
      "0.8749209519839285\n"
     ]
    },
    {
     "name": "stderr",
     "output_type": "stream",
     "text": [
      "\u001b[32m[I 2023-01-16 08:11:48,488]\u001b[0m Trial 122 finished with value: 0.8868328734686236 and parameters: {'max_depth': 15, 'n_estimators': 88, 'eta': 0.07175809987321381, 'subsample': 0.4708529955501239, 'colsample_bytree': 0.7772337114259664, 'reg_lambda': 8.376217034170786}. Best is trial 11 with value: 0.8996617182664728.\u001b[0m\n"
     ]
    },
    {
     "name": "stdout",
     "output_type": "stream",
     "text": [
      "0.8868328734686236\n"
     ]
    },
    {
     "name": "stderr",
     "output_type": "stream",
     "text": [
      "\u001b[32m[I 2023-01-16 08:11:49,107]\u001b[0m Trial 123 finished with value: 0.8864644878261003 and parameters: {'max_depth': 16, 'n_estimators': 85, 'eta': 0.06592175900985862, 'subsample': 0.5627531508823972, 'colsample_bytree': 0.7474216637721977, 'reg_lambda': 4.394177897100259}. Best is trial 11 with value: 0.8996617182664728.\u001b[0m\n"
     ]
    },
    {
     "name": "stdout",
     "output_type": "stream",
     "text": [
      "0.8864644878261003\n"
     ]
    },
    {
     "name": "stderr",
     "output_type": "stream",
     "text": [
      "\u001b[32m[I 2023-01-16 08:11:49,731]\u001b[0m Trial 124 finished with value: 0.8909524620889419 and parameters: {'max_depth': 18, 'n_estimators': 100, 'eta': 0.08557041943359586, 'subsample': 0.49673761805820477, 'colsample_bytree': 0.8032543589877961, 'reg_lambda': 12.751217974333283}. Best is trial 11 with value: 0.8996617182664728.\u001b[0m\n"
     ]
    },
    {
     "name": "stdout",
     "output_type": "stream",
     "text": [
      "0.8909524620889419\n"
     ]
    },
    {
     "name": "stderr",
     "output_type": "stream",
     "text": [
      "\u001b[32m[I 2023-01-16 08:11:50,392]\u001b[0m Trial 125 finished with value: 0.8849613127728799 and parameters: {'max_depth': 18, 'n_estimators': 100, 'eta': 0.09283953076857626, 'subsample': 0.6047156089897167, 'colsample_bytree': 0.8042494043489407, 'reg_lambda': 12.491115592813665}. Best is trial 11 with value: 0.8996617182664728.\u001b[0m\n"
     ]
    },
    {
     "name": "stdout",
     "output_type": "stream",
     "text": [
      "0.8849613127728799\n"
     ]
    },
    {
     "name": "stderr",
     "output_type": "stream",
     "text": [
      "\u001b[32m[I 2023-01-16 08:11:51,005]\u001b[0m Trial 126 finished with value: 0.8840561751064243 and parameters: {'max_depth': 19, 'n_estimators': 96, 'eta': 0.08536790880202401, 'subsample': 0.4992125519494952, 'colsample_bytree': 0.9187965398637549, 'reg_lambda': 13.519795309607458}. Best is trial 11 with value: 0.8996617182664728.\u001b[0m\n"
     ]
    },
    {
     "name": "stdout",
     "output_type": "stream",
     "text": [
      "0.8840561751064243\n"
     ]
    },
    {
     "name": "stderr",
     "output_type": "stream",
     "text": [
      "\u001b[32m[I 2023-01-16 08:11:51,417]\u001b[0m Trial 127 finished with value: 0.8795702212401597 and parameters: {'max_depth': 18, 'n_estimators': 91, 'eta': 0.08137260251782366, 'subsample': 0.4453693541268573, 'colsample_bytree': 0.21395232769857042, 'reg_lambda': 14.514500729627231}. Best is trial 11 with value: 0.8996617182664728.\u001b[0m\n"
     ]
    },
    {
     "name": "stdout",
     "output_type": "stream",
     "text": [
      "0.8795702212401597\n"
     ]
    },
    {
     "name": "stderr",
     "output_type": "stream",
     "text": [
      "\u001b[32m[I 2023-01-16 08:11:52,024]\u001b[0m Trial 128 finished with value: 0.883299199855609 and parameters: {'max_depth': 17, 'n_estimators': 94, 'eta': 0.07654879550612648, 'subsample': 0.5213997552795917, 'colsample_bytree': 0.7362691971988217, 'reg_lambda': 11.568423767174476}. Best is trial 11 with value: 0.8996617182664728.\u001b[0m\n"
     ]
    },
    {
     "name": "stdout",
     "output_type": "stream",
     "text": [
      "0.883299199855609\n"
     ]
    },
    {
     "name": "stderr",
     "output_type": "stream",
     "text": [
      "\u001b[32m[I 2023-01-16 08:11:52,452]\u001b[0m Trial 129 finished with value: 0.8911012979701076 and parameters: {'max_depth': 11, 'n_estimators': 98, 'eta': 0.09051581006174152, 'subsample': 0.10133921328324824, 'colsample_bytree': 0.8496229094111485, 'reg_lambda': 10.189345009459137}. Best is trial 11 with value: 0.8996617182664728.\u001b[0m\n"
     ]
    },
    {
     "name": "stdout",
     "output_type": "stream",
     "text": [
      "0.8911012979701076\n"
     ]
    },
    {
     "name": "stderr",
     "output_type": "stream",
     "text": [
      "\u001b[32m[I 2023-01-16 08:11:52,795]\u001b[0m Trial 130 finished with value: 0.8688264257096812 and parameters: {'max_depth': 11, 'n_estimators': 64, 'eta': 0.04493706258480405, 'subsample': 0.17508419071646125, 'colsample_bytree': 0.8912773060017427, 'reg_lambda': 10.24583446976802}. Best is trial 11 with value: 0.8996617182664728.\u001b[0m\n"
     ]
    },
    {
     "name": "stdout",
     "output_type": "stream",
     "text": [
      "0.8688264257096812\n"
     ]
    },
    {
     "name": "stderr",
     "output_type": "stream",
     "text": [
      "\u001b[32m[I 2023-01-16 08:11:53,291]\u001b[0m Trial 131 finished with value: 0.8839302370531303 and parameters: {'max_depth': 12, 'n_estimators': 98, 'eta': 0.09568954442566766, 'subsample': 0.177383603296918, 'colsample_bytree': 0.8373388850255414, 'reg_lambda': 13.223765506414763}. Best is trial 11 with value: 0.8996617182664728.\u001b[0m\n"
     ]
    },
    {
     "name": "stdout",
     "output_type": "stream",
     "text": [
      "0.8839302370531303\n"
     ]
    },
    {
     "name": "stderr",
     "output_type": "stream",
     "text": [
      "\u001b[32m[I 2023-01-16 08:11:53,778]\u001b[0m Trial 132 finished with value: 0.8801682586269252 and parameters: {'max_depth': 11, 'n_estimators': 100, 'eta': 0.09878919487804394, 'subsample': 0.12610242429696666, 'colsample_bytree': 0.8547188925401468, 'reg_lambda': 7.519005816215303}. Best is trial 11 with value: 0.8996617182664728.\u001b[0m\n"
     ]
    },
    {
     "name": "stdout",
     "output_type": "stream",
     "text": [
      "0.8801682586269252\n"
     ]
    },
    {
     "name": "stderr",
     "output_type": "stream",
     "text": [
      "\u001b[32m[I 2023-01-16 08:11:54,304]\u001b[0m Trial 133 finished with value: 0.8891549826010181 and parameters: {'max_depth': 12, 'n_estimators': 96, 'eta': 0.0866043156735714, 'subsample': 0.3122104636579941, 'colsample_bytree': 0.8711502908577754, 'reg_lambda': 24.13868033195672}. Best is trial 11 with value: 0.8996617182664728.\u001b[0m\n"
     ]
    },
    {
     "name": "stdout",
     "output_type": "stream",
     "text": [
      "0.8891549826010181\n"
     ]
    },
    {
     "name": "stderr",
     "output_type": "stream",
     "text": [
      "\u001b[32m[I 2023-01-16 08:11:54,919]\u001b[0m Trial 134 finished with value: 0.8850737815156611 and parameters: {'max_depth': 10, 'n_estimators': 98, 'eta': 0.09026532802296748, 'subsample': 0.5489019703298387, 'colsample_bytree': 0.8179100335436438, 'reg_lambda': 8.863469481185636}. Best is trial 11 with value: 0.8996617182664728.\u001b[0m\n"
     ]
    },
    {
     "name": "stdout",
     "output_type": "stream",
     "text": [
      "0.8850737815156611\n"
     ]
    },
    {
     "name": "stderr",
     "output_type": "stream",
     "text": [
      "\u001b[32m[I 2023-01-16 08:11:55,493]\u001b[0m Trial 135 finished with value: 0.8794631402215836 and parameters: {'max_depth': 19, 'n_estimators': 92, 'eta': 0.08316765268404436, 'subsample': 0.4899533177710343, 'colsample_bytree': 0.7894868700046965, 'reg_lambda': 12.005761085338554}. Best is trial 11 with value: 0.8996617182664728.\u001b[0m\n"
     ]
    },
    {
     "name": "stdout",
     "output_type": "stream",
     "text": [
      "0.8794631402215836\n"
     ]
    },
    {
     "name": "stderr",
     "output_type": "stream",
     "text": [
      "\u001b[32m[I 2023-01-16 08:11:56,029]\u001b[0m Trial 136 finished with value: 0.8678071356366304 and parameters: {'max_depth': 11, 'n_estimators': 95, 'eta': 0.07959465868175254, 'subsample': 0.26266181826111895, 'colsample_bytree': 0.904869263719552, 'reg_lambda': 10.581488836743699}. Best is trial 11 with value: 0.8996617182664728.\u001b[0m\n"
     ]
    },
    {
     "name": "stdout",
     "output_type": "stream",
     "text": [
      "0.8678071356366304\n"
     ]
    },
    {
     "name": "stderr",
     "output_type": "stream",
     "text": [
      "\u001b[32m[I 2023-01-16 08:11:56,684]\u001b[0m Trial 137 finished with value: 0.8757836613222688 and parameters: {'max_depth': 12, 'n_estimators': 100, 'eta': 0.08786917655759258, 'subsample': 0.4658499973041013, 'colsample_bytree': 0.768901609634855, 'reg_lambda': 9.746415795488193}. Best is trial 11 with value: 0.8996617182664728.\u001b[0m\n"
     ]
    },
    {
     "name": "stdout",
     "output_type": "stream",
     "text": [
      "0.8757836613222688\n"
     ]
    },
    {
     "name": "stderr",
     "output_type": "stream",
     "text": [
      "\u001b[32m[I 2023-01-16 08:11:57,348]\u001b[0m Trial 138 finished with value: 0.8779101287194659 and parameters: {'max_depth': 20, 'n_estimators': 94, 'eta': 0.09388877319031631, 'subsample': 0.5929409010344996, 'colsample_bytree': 0.5458429285370991, 'reg_lambda': 6.033627580768082}. Best is trial 11 with value: 0.8996617182664728.\u001b[0m\n"
     ]
    },
    {
     "name": "stdout",
     "output_type": "stream",
     "text": [
      "0.8779101287194659\n"
     ]
    },
    {
     "name": "stderr",
     "output_type": "stream",
     "text": [
      "\u001b[32m[I 2023-01-16 08:11:57,951]\u001b[0m Trial 139 finished with value: 0.8887825561653411 and parameters: {'max_depth': 18, 'n_estimators': 90, 'eta': 0.09034249934165633, 'subsample': 0.5697654579214647, 'colsample_bytree': 0.9331017533260587, 'reg_lambda': 32.30027553441792}. Best is trial 11 with value: 0.8996617182664728.\u001b[0m\n"
     ]
    },
    {
     "name": "stdout",
     "output_type": "stream",
     "text": [
      "0.8887825561653411\n"
     ]
    },
    {
     "name": "stderr",
     "output_type": "stream",
     "text": [
      "\u001b[32m[I 2023-01-16 08:11:58,541]\u001b[0m Trial 140 finished with value: 0.8766554624452052 and parameters: {'max_depth': 13, 'n_estimators': 97, 'eta': 0.05528214846970171, 'subsample': 0.2272719745064506, 'colsample_bytree': 0.7018080981150445, 'reg_lambda': 2.5560236778273264}. Best is trial 11 with value: 0.8996617182664728.\u001b[0m\n"
     ]
    },
    {
     "name": "stdout",
     "output_type": "stream",
     "text": [
      "0.8766554624452052\n"
     ]
    },
    {
     "name": "stderr",
     "output_type": "stream",
     "text": [
      "\u001b[32m[I 2023-01-16 08:11:58,904]\u001b[0m Trial 141 finished with value: 0.8909996046757365 and parameters: {'max_depth': 5, 'n_estimators': 82, 'eta': 0.0711826805426612, 'subsample': 0.4863465664554509, 'colsample_bytree': 0.7575927946669179, 'reg_lambda': 5.089979464304145}. Best is trial 11 with value: 0.8996617182664728.\u001b[0m\n"
     ]
    },
    {
     "name": "stdout",
     "output_type": "stream",
     "text": [
      "0.8909996046757365\n"
     ]
    },
    {
     "name": "stderr",
     "output_type": "stream",
     "text": [
      "\u001b[32m[I 2023-01-16 08:11:59,245]\u001b[0m Trial 142 finished with value: 0.8810026824131887 and parameters: {'max_depth': 5, 'n_estimators': 82, 'eta': 0.07439456642911484, 'subsample': 0.5114889363496604, 'colsample_bytree': 0.7576498732261435, 'reg_lambda': 5.4989599619077705}. Best is trial 11 with value: 0.8996617182664728.\u001b[0m\n"
     ]
    },
    {
     "name": "stdout",
     "output_type": "stream",
     "text": [
      "0.8810026824131887\n"
     ]
    },
    {
     "name": "stderr",
     "output_type": "stream",
     "text": [
      "\u001b[32m[I 2023-01-16 08:11:59,561]\u001b[0m Trial 143 finished with value: 0.8891802375582295 and parameters: {'max_depth': 4, 'n_estimators': 86, 'eta': 0.07021779278353618, 'subsample': 0.4851639668524934, 'colsample_bytree': 0.8013704028854274, 'reg_lambda': 3.5908870962949626}. Best is trial 11 with value: 0.8996617182664728.\u001b[0m\n"
     ]
    },
    {
     "name": "stdout",
     "output_type": "stream",
     "text": [
      "0.8891802375582295\n"
     ]
    },
    {
     "name": "stderr",
     "output_type": "stream",
     "text": [
      "\u001b[32m[I 2023-01-16 08:12:00,029]\u001b[0m Trial 144 finished with value: 0.8785266864081862 and parameters: {'max_depth': 9, 'n_estimators': 79, 'eta': 0.06449023412237044, 'subsample': 0.5364810172258927, 'colsample_bytree': 0.7376597031731765, 'reg_lambda': 6.790717612492944}. Best is trial 11 with value: 0.8996617182664728.\u001b[0m\n"
     ]
    },
    {
     "name": "stdout",
     "output_type": "stream",
     "text": [
      "0.8785266864081862\n"
     ]
    },
    {
     "name": "stderr",
     "output_type": "stream",
     "text": [
      "\u001b[32m[I 2023-01-16 08:12:00,373]\u001b[0m Trial 145 finished with value: 0.8779111389177543 and parameters: {'max_depth': 4, 'n_estimators': 88, 'eta': 0.0673653550863472, 'subsample': 0.41670700132155813, 'colsample_bytree': 0.8466053532247533, 'reg_lambda': 8.157793207250048}. Best is trial 11 with value: 0.8996617182664728.\u001b[0m\n"
     ]
    },
    {
     "name": "stdout",
     "output_type": "stream",
     "text": [
      "0.8779111389177543\n"
     ]
    },
    {
     "name": "stderr",
     "output_type": "stream",
     "text": [
      "\u001b[32m[I 2023-01-16 08:12:00,706]\u001b[0m Trial 146 finished with value: 0.8841278991849046 and parameters: {'max_depth': 5, 'n_estimators': 76, 'eta': 0.0706227544103245, 'subsample': 0.43600738810491824, 'colsample_bytree': 0.8268868722944936, 'reg_lambda': 4.949109639208068}. Best is trial 11 with value: 0.8996617182664728.\u001b[0m\n"
     ]
    },
    {
     "name": "stdout",
     "output_type": "stream",
     "text": [
      "0.8841278991849046\n"
     ]
    },
    {
     "name": "stderr",
     "output_type": "stream",
     "text": [
      "\u001b[32m[I 2023-01-16 08:12:01,130]\u001b[0m Trial 147 finished with value: 0.8825112451906143 and parameters: {'max_depth': 6, 'n_estimators': 92, 'eta': 0.07804387146408877, 'subsample': 0.477142479863379, 'colsample_bytree': 0.7301911812591839, 'reg_lambda': 6.6710115006671}. Best is trial 11 with value: 0.8996617182664728.\u001b[0m\n"
     ]
    },
    {
     "name": "stdout",
     "output_type": "stream",
     "text": [
      "0.8825112451906143\n"
     ]
    },
    {
     "name": "stderr",
     "output_type": "stream",
     "text": [
      "\u001b[32m[I 2023-01-16 08:12:01,712]\u001b[0m Trial 148 finished with value: 0.8929203283548517 and parameters: {'max_depth': 17, 'n_estimators': 83, 'eta': 0.08153197502214504, 'subsample': 0.5101207847989516, 'colsample_bytree': 0.6888854074885218, 'reg_lambda': 4.349875264220723}. Best is trial 11 with value: 0.8996617182664728.\u001b[0m\n"
     ]
    },
    {
     "name": "stdout",
     "output_type": "stream",
     "text": [
      "0.8929203283548517\n"
     ]
    },
    {
     "name": "stderr",
     "output_type": "stream",
     "text": [
      "\u001b[32m[I 2023-01-16 08:12:02,303]\u001b[0m Trial 149 finished with value: 0.889334797896363 and parameters: {'max_depth': 16, 'n_estimators': 83, 'eta': 0.08105532323958353, 'subsample': 0.5124993785932834, 'colsample_bytree': 0.6612627929364917, 'reg_lambda': 4.147545773757341}. Best is trial 11 with value: 0.8996617182664728.\u001b[0m\n"
     ]
    },
    {
     "name": "stdout",
     "output_type": "stream",
     "text": [
      "0.889334797896363\n"
     ]
    },
    {
     "name": "stderr",
     "output_type": "stream",
     "text": [
      "\u001b[32m[I 2023-01-16 08:12:02,987]\u001b[0m Trial 150 finished with value: 0.8731534417118956 and parameters: {'max_depth': 17, 'n_estimators': 89, 'eta': 0.07226557420679038, 'subsample': 0.5525604397978655, 'colsample_bytree': 0.6949908985233717, 'reg_lambda': 2.3202166127130885}. Best is trial 11 with value: 0.8996617182664728.\u001b[0m\n"
     ]
    },
    {
     "name": "stdout",
     "output_type": "stream",
     "text": [
      "0.8731534417118956\n"
     ]
    },
    {
     "name": "stderr",
     "output_type": "stream",
     "text": [
      "\u001b[32m[I 2023-01-16 08:12:03,564]\u001b[0m Trial 151 finished with value: 0.8768905019136523 and parameters: {'max_depth': 18, 'n_estimators': 81, 'eta': 0.08447766645013148, 'subsample': 0.4969408799348585, 'colsample_bytree': 0.6789839189214147, 'reg_lambda': 5.647983835904293}. Best is trial 11 with value: 0.8996617182664728.\u001b[0m\n"
     ]
    },
    {
     "name": "stdout",
     "output_type": "stream",
     "text": [
      "0.8768905019136523\n"
     ]
    },
    {
     "name": "stderr",
     "output_type": "stream",
     "text": [
      "\u001b[32m[I 2023-01-16 08:12:04,162]\u001b[0m Trial 152 finished with value: 0.8828931001436502 and parameters: {'max_depth': 17, 'n_estimators': 85, 'eta': 0.07762368606493567, 'subsample': 0.4549182608326843, 'colsample_bytree': 0.7192033804505334, 'reg_lambda': 3.1199875265784596}. Best is trial 11 with value: 0.8996617182664728.\u001b[0m\n"
     ]
    },
    {
     "name": "stdout",
     "output_type": "stream",
     "text": [
      "0.8828931001436502\n"
     ]
    },
    {
     "name": "stderr",
     "output_type": "stream",
     "text": [
      "\u001b[32m[I 2023-01-16 08:12:04,513]\u001b[0m Trial 153 finished with value: 0.8708451386227765 and parameters: {'max_depth': 4, 'n_estimators': 98, 'eta': 0.047916855564915616, 'subsample': 0.5282008169623199, 'colsample_bytree': 0.6424322679345295, 'reg_lambda': 20.0178100581788}. Best is trial 11 with value: 0.8996617182664728.\u001b[0m\n"
     ]
    },
    {
     "name": "stdout",
     "output_type": "stream",
     "text": [
      "0.8708451386227765\n"
     ]
    },
    {
     "name": "stderr",
     "output_type": "stream",
     "text": [
      "\u001b[32m[I 2023-01-16 08:12:04,939]\u001b[0m Trial 154 finished with value: 0.8884060889365105 and parameters: {'max_depth': 6, 'n_estimators': 94, 'eta': 0.07520904337123095, 'subsample': 0.5806956380990457, 'colsample_bytree': 0.7517362678201999, 'reg_lambda': 7.4487781244196665}. Best is trial 11 with value: 0.8996617182664728.\u001b[0m\n"
     ]
    },
    {
     "name": "stdout",
     "output_type": "stream",
     "text": [
      "0.8884060889365105\n"
     ]
    },
    {
     "name": "stderr",
     "output_type": "stream",
     "text": [
      "\u001b[32m[I 2023-01-16 08:12:05,343]\u001b[0m Trial 155 finished with value: 0.8833315262008395 and parameters: {'max_depth': 5, 'n_estimators': 87, 'eta': 0.08203146317319092, 'subsample': 0.46839860648728304, 'colsample_bytree': 0.785281523257044, 'reg_lambda': 4.881093759571161}. Best is trial 11 with value: 0.8996617182664728.\u001b[0m\n"
     ]
    },
    {
     "name": "stdout",
     "output_type": "stream",
     "text": [
      "0.8833315262008395\n"
     ]
    },
    {
     "name": "stderr",
     "output_type": "stream",
     "text": [
      "\u001b[32m[I 2023-01-16 08:12:05,750]\u001b[0m Trial 156 finished with value: 0.8938766494012556 and parameters: {'max_depth': 5, 'n_estimators': 96, 'eta': 0.08568880452396684, 'subsample': 0.5076161494572521, 'colsample_bytree': 0.7137588927833733, 'reg_lambda': 4.02992560699393}. Best is trial 11 with value: 0.8996617182664728.\u001b[0m\n"
     ]
    },
    {
     "name": "stdout",
     "output_type": "stream",
     "text": [
      "0.8938766494012556\n"
     ]
    },
    {
     "name": "stderr",
     "output_type": "stream",
     "text": [
      "\u001b[32m[I 2023-01-16 08:12:06,161]\u001b[0m Trial 157 finished with value: 0.8771076945456702 and parameters: {'max_depth': 5, 'n_estimators': 90, 'eta': 0.06877950237382653, 'subsample': 0.5388293658873171, 'colsample_bytree': 0.9983158336544931, 'reg_lambda': 4.010090123065406}. Best is trial 11 with value: 0.8996617182664728.\u001b[0m\n"
     ]
    },
    {
     "name": "stdout",
     "output_type": "stream",
     "text": [
      "0.8771076945456702\n"
     ]
    },
    {
     "name": "stderr",
     "output_type": "stream",
     "text": [
      "\u001b[32m[I 2023-01-16 08:12:06,568]\u001b[0m Trial 158 finished with value: 0.8781040867908492 and parameters: {'max_depth': 4, 'n_estimators': 96, 'eta': 0.0577452448793313, 'subsample': 0.5229093968589767, 'colsample_bytree': 0.7084965488429296, 'reg_lambda': 1.6005137316556355}. Best is trial 11 with value: 0.8996617182664728.\u001b[0m\n"
     ]
    },
    {
     "name": "stdout",
     "output_type": "stream",
     "text": [
      "0.8781040867908492\n"
     ]
    },
    {
     "name": "stderr",
     "output_type": "stream",
     "text": [
      "\u001b[32m[I 2023-01-16 08:12:06,966]\u001b[0m Trial 159 finished with value: 0.877563293973763 and parameters: {'max_depth': 6, 'n_estimators': 83, 'eta': 0.051404574328750015, 'subsample': 0.5644368950186258, 'colsample_bytree': 0.6887206885300972, 'reg_lambda': 36.98874249573652}. Best is trial 11 with value: 0.8996617182664728.\u001b[0m\n"
     ]
    },
    {
     "name": "stdout",
     "output_type": "stream",
     "text": [
      "0.877563293973763\n"
     ]
    },
    {
     "name": "stderr",
     "output_type": "stream",
     "text": [
      "\u001b[32m[I 2023-01-16 08:12:07,365]\u001b[0m Trial 160 finished with value: 0.885179515603186 and parameters: {'max_depth': 5, 'n_estimators': 92, 'eta': 0.07942289791847022, 'subsample': 0.6144590257641983, 'colsample_bytree': 0.625781991360955, 'reg_lambda': 3.3175447227891044}. Best is trial 11 with value: 0.8996617182664728.\u001b[0m\n"
     ]
    },
    {
     "name": "stdout",
     "output_type": "stream",
     "text": [
      "0.885179515603186\n"
     ]
    },
    {
     "name": "stderr",
     "output_type": "stream",
     "text": [
      "\u001b[32m[I 2023-01-16 08:12:07,798]\u001b[0m Trial 161 finished with value: 0.8808373466266448 and parameters: {'max_depth': 5, 'n_estimators': 100, 'eta': 0.08583561998094788, 'subsample': 0.4857773806009946, 'colsample_bytree': 0.7622981001181627, 'reg_lambda': 5.711932739403283}. Best is trial 11 with value: 0.8996617182664728.\u001b[0m\n"
     ]
    },
    {
     "name": "stdout",
     "output_type": "stream",
     "text": [
      "0.8808373466266448\n"
     ]
    },
    {
     "name": "stderr",
     "output_type": "stream",
     "text": [
      "\u001b[32m[I 2023-01-16 08:12:08,158]\u001b[0m Trial 162 finished with value: 0.8811565692857964 and parameters: {'max_depth': 4, 'n_estimators': 98, 'eta': 0.08992832121755745, 'subsample': 0.5097468619593266, 'colsample_bytree': 0.7342062594497588, 'reg_lambda': 4.2598777113828605}. Best is trial 11 with value: 0.8996617182664728.\u001b[0m\n"
     ]
    },
    {
     "name": "stdout",
     "output_type": "stream",
     "text": [
      "0.8811565692857964\n"
     ]
    },
    {
     "name": "stderr",
     "output_type": "stream",
     "text": [
      "\u001b[32m[I 2023-01-16 08:12:08,795]\u001b[0m Trial 163 finished with value: 0.8778461494945304 and parameters: {'max_depth': 15, 'n_estimators': 96, 'eta': 0.08363336303578037, 'subsample': 0.45441432330166426, 'colsample_bytree': 0.8753737209266103, 'reg_lambda': 6.379520235484777}. Best is trial 11 with value: 0.8996617182664728.\u001b[0m\n"
     ]
    },
    {
     "name": "stdout",
     "output_type": "stream",
     "text": [
      "0.8778461494945304\n"
     ]
    },
    {
     "name": "stderr",
     "output_type": "stream",
     "text": [
      "\u001b[32m[I 2023-01-16 08:12:09,182]\u001b[0m Trial 164 finished with value: 0.8865365486373435 and parameters: {'max_depth': 5, 'n_estimators': 94, 'eta': 0.08688228049493031, 'subsample': 0.4955468299665689, 'colsample_bytree': 0.8014977479344364, 'reg_lambda': 4.8498691429316105}. Best is trial 11 with value: 0.8996617182664728.\u001b[0m\n"
     ]
    },
    {
     "name": "stdout",
     "output_type": "stream",
     "text": [
      "0.8865365486373435\n"
     ]
    },
    {
     "name": "stderr",
     "output_type": "stream",
     "text": [
      "\u001b[32m[I 2023-01-16 08:12:09,778]\u001b[0m Trial 165 finished with value: 0.8904056080821251 and parameters: {'max_depth': 18, 'n_estimators': 98, 'eta': 0.07305140611532555, 'subsample': 0.4319649856532159, 'colsample_bytree': 0.7764980214776451, 'reg_lambda': 12.882177960910182}. Best is trial 11 with value: 0.8996617182664728.\u001b[0m\n"
     ]
    },
    {
     "name": "stdout",
     "output_type": "stream",
     "text": [
      "0.8904056080821251\n"
     ]
    },
    {
     "name": "stderr",
     "output_type": "stream",
     "text": [
      "\u001b[32m[I 2023-01-16 08:12:10,351]\u001b[0m Trial 166 finished with value: 0.8769393281642609 and parameters: {'max_depth': 11, 'n_estimators': 86, 'eta': 0.06126717062377813, 'subsample': 0.4749760016346789, 'colsample_bytree': 0.7161406004126158, 'reg_lambda': 2.831330723414804}. Best is trial 11 with value: 0.8996617182664728.\u001b[0m\n"
     ]
    },
    {
     "name": "stdout",
     "output_type": "stream",
     "text": [
      "0.8769393281642609\n"
     ]
    },
    {
     "name": "stderr",
     "output_type": "stream",
     "text": [
      "\u001b[32m[I 2023-01-16 08:12:10,714]\u001b[0m Trial 167 finished with value: 0.8773511523331876 and parameters: {'max_depth': 4, 'n_estimators': 100, 'eta': 0.07583345109947695, 'subsample': 0.5075069331192402, 'colsample_bytree': 0.6676240556839392, 'reg_lambda': 10.993601931847952}. Best is trial 11 with value: 0.8996617182664728.\u001b[0m\n"
     ]
    },
    {
     "name": "stdout",
     "output_type": "stream",
     "text": [
      "0.8773511523331876\n"
     ]
    },
    {
     "name": "stderr",
     "output_type": "stream",
     "text": [
      "\u001b[32m[I 2023-01-16 08:12:11,299]\u001b[0m Trial 168 finished with value: 0.8881757637267427 and parameters: {'max_depth': 10, 'n_estimators': 91, 'eta': 0.08119259551603271, 'subsample': 0.54686855306967, 'colsample_bytree': 0.7424522763596124, 'reg_lambda': 7.193894243678006}. Best is trial 11 with value: 0.8996617182664728.\u001b[0m\n"
     ]
    },
    {
     "name": "stdout",
     "output_type": "stream",
     "text": [
      "0.8881757637267427\n"
     ]
    },
    {
     "name": "stderr",
     "output_type": "stream",
     "text": [
      "\u001b[32m[I 2023-01-16 08:12:11,660]\u001b[0m Trial 169 finished with value: 0.896400798191341 and parameters: {'max_depth': 12, 'n_estimators': 50, 'eta': 0.09704216520551465, 'subsample': 0.5260449685662816, 'colsample_bytree': 0.8335965278889474, 'reg_lambda': 11.790220255282996}. Best is trial 11 with value: 0.8996617182664728.\u001b[0m\n"
     ]
    },
    {
     "name": "stdout",
     "output_type": "stream",
     "text": [
      "0.896400798191341\n"
     ]
    },
    {
     "name": "stderr",
     "output_type": "stream",
     "text": [
      "\u001b[32m[I 2023-01-16 08:12:11,996]\u001b[0m Trial 170 finished with value: 0.8846377125878115 and parameters: {'max_depth': 12, 'n_estimators': 45, 'eta': 0.09603796269974238, 'subsample': 0.52807847646284, 'colsample_bytree': 0.8925036173593814, 'reg_lambda': 9.539105347867405}. Best is trial 11 with value: 0.8996617182664728.\u001b[0m\n"
     ]
    },
    {
     "name": "stdout",
     "output_type": "stream",
     "text": [
      "0.8846377125878115\n"
     ]
    },
    {
     "name": "stderr",
     "output_type": "stream",
     "text": [
      "\u001b[32m[I 2023-01-16 08:12:12,394]\u001b[0m Trial 171 finished with value: 0.8772676426080086 and parameters: {'max_depth': 12, 'n_estimators': 54, 'eta': 0.10100319518438597, 'subsample': 0.4849786140287663, 'colsample_bytree': 0.8431087478331498, 'reg_lambda': 12.146482870731115}. Best is trial 11 with value: 0.8996617182664728.\u001b[0m\n"
     ]
    },
    {
     "name": "stdout",
     "output_type": "stream",
     "text": [
      "0.8772676426080086\n"
     ]
    },
    {
     "name": "stderr",
     "output_type": "stream",
     "text": [
      "\u001b[32m[I 2023-01-16 08:12:12,742]\u001b[0m Trial 172 finished with value: 0.8915481423463674 and parameters: {'max_depth': 13, 'n_estimators': 49, 'eta': 0.09285714916689272, 'subsample': 0.5033299387906621, 'colsample_bytree': 0.8202879438607538, 'reg_lambda': 15.255556920865255}. Best is trial 11 with value: 0.8996617182664728.\u001b[0m\n"
     ]
    },
    {
     "name": "stdout",
     "output_type": "stream",
     "text": [
      "0.8915481423463674\n"
     ]
    },
    {
     "name": "stderr",
     "output_type": "stream",
     "text": [
      "\u001b[32m[I 2023-01-16 08:12:13,093]\u001b[0m Trial 173 finished with value: 0.8779825262634718 and parameters: {'max_depth': 13, 'n_estimators': 49, 'eta': 0.09621238806590864, 'subsample': 0.5543546044469587, 'colsample_bytree': 0.8263530349593475, 'reg_lambda': 16.510116576198687}. Best is trial 11 with value: 0.8996617182664728.\u001b[0m\n"
     ]
    },
    {
     "name": "stdout",
     "output_type": "stream",
     "text": [
      "0.8779825262634718\n"
     ]
    },
    {
     "name": "stderr",
     "output_type": "stream",
     "text": [
      "\u001b[32m[I 2023-01-16 08:12:13,494]\u001b[0m Trial 174 finished with value: 0.8879043571199113 and parameters: {'max_depth': 12, 'n_estimators': 52, 'eta': 0.09281386502092008, 'subsample': 0.5186576668165555, 'colsample_bytree': 0.8714404212134181, 'reg_lambda': 5.327108004843554}. Best is trial 11 with value: 0.8996617182664728.\u001b[0m\n"
     ]
    },
    {
     "name": "stdout",
     "output_type": "stream",
     "text": [
      "0.8879043571199113\n"
     ]
    },
    {
     "name": "stderr",
     "output_type": "stream",
     "text": [
      "\u001b[32m[I 2023-01-16 08:12:13,868]\u001b[0m Trial 175 finished with value: 0.8793776100998278 and parameters: {'max_depth': 14, 'n_estimators': 52, 'eta': 0.10438892995550514, 'subsample': 0.45368982557775733, 'colsample_bytree': 0.7654207638403991, 'reg_lambda': 13.790040540502911}. Best is trial 11 with value: 0.8996617182664728.\u001b[0m\n"
     ]
    },
    {
     "name": "stdout",
     "output_type": "stream",
     "text": [
      "0.8793776100998278\n"
     ]
    },
    {
     "name": "stderr",
     "output_type": "stream",
     "text": [
      "\u001b[32m[I 2023-01-16 08:12:14,252]\u001b[0m Trial 176 finished with value: 0.8839911856832005 and parameters: {'max_depth': 11, 'n_estimators': 57, 'eta': 0.0976465996481218, 'subsample': 0.4035691357566158, 'colsample_bytree': 0.8535723925976424, 'reg_lambda': 11.358594061449516}. Best is trial 11 with value: 0.8996617182664728.\u001b[0m\n"
     ]
    },
    {
     "name": "stdout",
     "output_type": "stream",
     "text": [
      "0.8839911856832005\n"
     ]
    },
    {
     "name": "stderr",
     "output_type": "stream",
     "text": [
      "\u001b[32m[I 2023-01-16 08:12:14,580]\u001b[0m Trial 177 finished with value: 0.893162439211318 and parameters: {'max_depth': 13, 'n_estimators': 41, 'eta': 0.09070254740276194, 'subsample': 0.5804485200720159, 'colsample_bytree': 0.8211747359809877, 'reg_lambda': 15.069730910271929}. Best is trial 11 with value: 0.8996617182664728.\u001b[0m\n"
     ]
    },
    {
     "name": "stdout",
     "output_type": "stream",
     "text": [
      "0.893162439211318\n"
     ]
    },
    {
     "name": "stderr",
     "output_type": "stream",
     "text": [
      "\u001b[32m[I 2023-01-16 08:12:14,893]\u001b[0m Trial 178 finished with value: 0.8840538179770847 and parameters: {'max_depth': 14, 'n_estimators': 41, 'eta': 0.09262804839254561, 'subsample': 0.589774185572766, 'colsample_bytree': 0.8150628066028892, 'reg_lambda': 17.71438112914452}. Best is trial 11 with value: 0.8996617182664728.\u001b[0m\n"
     ]
    },
    {
     "name": "stdout",
     "output_type": "stream",
     "text": [
      "0.8840538179770847\n"
     ]
    },
    {
     "name": "stderr",
     "output_type": "stream",
     "text": [
      "\u001b[32m[I 2023-01-16 08:12:15,242]\u001b[0m Trial 179 finished with value: 0.8978935345289143 and parameters: {'max_depth': 13, 'n_estimators': 43, 'eta': 0.08730896542041741, 'subsample': 0.5702448595139299, 'colsample_bytree': 0.9166603624275004, 'reg_lambda': 16.02694415344227}. Best is trial 11 with value: 0.8996617182664728.\u001b[0m\n"
     ]
    },
    {
     "name": "stdout",
     "output_type": "stream",
     "text": [
      "0.8978935345289143\n"
     ]
    },
    {
     "name": "stderr",
     "output_type": "stream",
     "text": [
      "\u001b[32m[I 2023-01-16 08:12:15,594]\u001b[0m Trial 180 finished with value: 0.8800224533406247 and parameters: {'max_depth': 13, 'n_estimators': 41, 'eta': 0.08252664765611373, 'subsample': 0.5688042854138559, 'colsample_bytree': 0.9177330649718501, 'reg_lambda': 15.45338339388516}. Best is trial 11 with value: 0.8996617182664728.\u001b[0m\n"
     ]
    },
    {
     "name": "stdout",
     "output_type": "stream",
     "text": [
      "0.8800224533406247\n"
     ]
    },
    {
     "name": "stderr",
     "output_type": "stream",
     "text": [
      "\u001b[32m[I 2023-01-16 08:12:15,941]\u001b[0m Trial 181 finished with value: 0.900430142431224 and parameters: {'max_depth': 13, 'n_estimators': 39, 'eta': 0.08965829814452762, 'subsample': 0.6193580522660415, 'colsample_bytree': 0.9543624969886935, 'reg_lambda': 14.222823551678283}. Best is trial 181 with value: 0.900430142431224.\u001b[0m\n"
     ]
    },
    {
     "name": "stdout",
     "output_type": "stream",
     "text": [
      "0.900430142431224\n"
     ]
    },
    {
     "name": "stderr",
     "output_type": "stream",
     "text": [
      "\u001b[32m[I 2023-01-16 08:12:16,283]\u001b[0m Trial 182 finished with value: 0.8854856056845878 and parameters: {'max_depth': 13, 'n_estimators': 36, 'eta': 0.08772580904850824, 'subsample': 0.6407642173249164, 'colsample_bytree': 0.956166994336913, 'reg_lambda': 14.326929834443304}. Best is trial 181 with value: 0.900430142431224.\u001b[0m\n"
     ]
    },
    {
     "name": "stdout",
     "output_type": "stream",
     "text": [
      "0.8854856056845878\n"
     ]
    },
    {
     "name": "stderr",
     "output_type": "stream",
     "text": [
      "\u001b[32m[I 2023-01-16 08:12:16,674]\u001b[0m Trial 183 finished with value: 0.87524017464308 and parameters: {'max_depth': 15, 'n_estimators': 44, 'eta': 0.09054150109244248, 'subsample': 0.6176070151582317, 'colsample_bytree': 0.9440252194165948, 'reg_lambda': 12.857998320888896}. Best is trial 181 with value: 0.900430142431224.\u001b[0m\n"
     ]
    },
    {
     "name": "stdout",
     "output_type": "stream",
     "text": [
      "0.87524017464308\n"
     ]
    },
    {
     "name": "stderr",
     "output_type": "stream",
     "text": [
      "\u001b[32m[I 2023-01-16 08:12:17,073]\u001b[0m Trial 184 finished with value: 0.8690372204192053 and parameters: {'max_depth': 13, 'n_estimators': 47, 'eta': 0.09353159527498686, 'subsample': 0.5731686678161406, 'colsample_bytree': 0.9726725681942696, 'reg_lambda': 16.528195812646324}. Best is trial 181 with value: 0.900430142431224.\u001b[0m\n"
     ]
    },
    {
     "name": "stdout",
     "output_type": "stream",
     "text": [
      "0.8690372204192053\n"
     ]
    },
    {
     "name": "stderr",
     "output_type": "stream",
     "text": [
      "\u001b[32m[I 2023-01-16 08:12:17,506]\u001b[0m Trial 185 finished with value: 0.8805349606056341 and parameters: {'max_depth': 14, 'n_estimators': 50, 'eta': 0.08861765892809906, 'subsample': 0.6019856440298929, 'colsample_bytree': 0.9490758099561882, 'reg_lambda': 14.08707748042312}. Best is trial 181 with value: 0.900430142431224.\u001b[0m\n"
     ]
    },
    {
     "name": "stdout",
     "output_type": "stream",
     "text": [
      "0.8805349606056341\n"
     ]
    },
    {
     "name": "stderr",
     "output_type": "stream",
     "text": [
      "\u001b[32m[I 2023-01-16 08:12:17,856]\u001b[0m Trial 186 finished with value: 0.8779094552539404 and parameters: {'max_depth': 14, 'n_estimators': 39, 'eta': 0.08502484514581043, 'subsample': 0.546874938348793, 'colsample_bytree': 0.9203853302558936, 'reg_lambda': 14.796521672381711}. Best is trial 181 with value: 0.900430142431224.\u001b[0m\n"
     ]
    },
    {
     "name": "stdout",
     "output_type": "stream",
     "text": [
      "0.8779094552539404\n"
     ]
    },
    {
     "name": "stderr",
     "output_type": "stream",
     "text": [
      "\u001b[32m[I 2023-01-16 08:12:18,229]\u001b[0m Trial 187 finished with value: 0.8775279370336673 and parameters: {'max_depth': 14, 'n_estimators': 43, 'eta': 0.053503066616609224, 'subsample': 0.6518736514375766, 'colsample_bytree': 0.9014464366637194, 'reg_lambda': 14.968365074129002}. Best is trial 181 with value: 0.900430142431224.\u001b[0m\n"
     ]
    },
    {
     "name": "stdout",
     "output_type": "stream",
     "text": [
      "0.8775279370336673\n"
     ]
    },
    {
     "name": "stderr",
     "output_type": "stream",
     "text": [
      "\u001b[32m[I 2023-01-16 08:12:18,604]\u001b[0m Trial 188 finished with value: 0.8752091952289008 and parameters: {'max_depth': 13, 'n_estimators': 35, 'eta': 0.09106307438916536, 'subsample': 0.6267033047828771, 'colsample_bytree': 0.5976171643365851, 'reg_lambda': 13.548185995493641}. Best is trial 181 with value: 0.900430142431224.\u001b[0m\n"
     ]
    },
    {
     "name": "stdout",
     "output_type": "stream",
     "text": [
      "0.8752091952289008\n"
     ]
    },
    {
     "name": "stderr",
     "output_type": "stream",
     "text": [
      "\u001b[32m[I 2023-01-16 08:12:19,015]\u001b[0m Trial 189 finished with value: 0.8937662010550511 and parameters: {'max_depth': 13, 'n_estimators': 49, 'eta': 0.07958929793436027, 'subsample': 0.5907766518866089, 'colsample_bytree': 0.7933921698949453, 'reg_lambda': 16.19934353667575}. Best is trial 181 with value: 0.900430142431224.\u001b[0m\n"
     ]
    },
    {
     "name": "stdout",
     "output_type": "stream",
     "text": [
      "0.8937662010550511\n"
     ]
    },
    {
     "name": "stderr",
     "output_type": "stream",
     "text": [
      "\u001b[32m[I 2023-01-16 08:12:19,340]\u001b[0m Trial 190 finished with value: 0.8711761469286268 and parameters: {'max_depth': 13, 'n_estimators': 39, 'eta': 0.08039454566500119, 'subsample': 0.5951109240940065, 'colsample_bytree': 0.7855052228127493, 'reg_lambda': 15.797479728853533}. Best is trial 181 with value: 0.900430142431224.\u001b[0m\n"
     ]
    },
    {
     "name": "stdout",
     "output_type": "stream",
     "text": [
      "0.8711761469286268\n"
     ]
    },
    {
     "name": "stderr",
     "output_type": "stream",
     "text": [
      "\u001b[32m[I 2023-01-16 08:12:19,753]\u001b[0m Trial 191 finished with value: 0.8789146025509526 and parameters: {'max_depth': 13, 'n_estimators': 46, 'eta': 0.08855234499072699, 'subsample': 0.5848312968164134, 'colsample_bytree': 0.932106957467806, 'reg_lambda': 17.827606810962337}. Best is trial 181 with value: 0.900430142431224.\u001b[0m\n"
     ]
    },
    {
     "name": "stdout",
     "output_type": "stream",
     "text": [
      "0.8789146025509526\n"
     ]
    },
    {
     "name": "stderr",
     "output_type": "stream",
     "text": [
      "\u001b[32m[I 2023-01-16 08:12:20,085]\u001b[0m Trial 192 finished with value: 0.8831611394228535 and parameters: {'max_depth': 12, 'n_estimators': 42, 'eta': 0.07821463618288231, 'subsample': 0.5288140370808803, 'colsample_bytree': 0.8318587147854798, 'reg_lambda': 15.924695348227747}. Best is trial 181 with value: 0.900430142431224.\u001b[0m\n"
     ]
    },
    {
     "name": "stdout",
     "output_type": "stream",
     "text": [
      "0.8831611394228535\n"
     ]
    },
    {
     "name": "stderr",
     "output_type": "stream",
     "text": [
      "\u001b[32m[I 2023-01-16 08:12:20,451]\u001b[0m Trial 193 finished with value: 0.8875012880028178 and parameters: {'max_depth': 13, 'n_estimators': 48, 'eta': 0.08289141764347692, 'subsample': 0.5614566847011713, 'colsample_bytree': 0.8826624391742451, 'reg_lambda': 16.124735566449903}. Best is trial 181 with value: 0.900430142431224.\u001b[0m\n"
     ]
    },
    {
     "name": "stdout",
     "output_type": "stream",
     "text": [
      "0.8875012880028178\n"
     ]
    },
    {
     "name": "stderr",
     "output_type": "stream",
     "text": [
      "\u001b[32m[I 2023-01-16 08:12:20,720]\u001b[0m Trial 194 finished with value: 0.8887913112171745 and parameters: {'max_depth': 8, 'n_estimators': 36, 'eta': 0.08657759786800816, 'subsample': 0.5393568979087552, 'colsample_bytree': 0.8039375303254228, 'reg_lambda': 14.547052079777798}. Best is trial 181 with value: 0.900430142431224.\u001b[0m\n"
     ]
    },
    {
     "name": "stdout",
     "output_type": "stream",
     "text": [
      "0.8887913112171745\n"
     ]
    },
    {
     "name": "stderr",
     "output_type": "stream",
     "text": [
      "\u001b[32m[I 2023-01-16 08:12:21,066]\u001b[0m Trial 195 finished with value: 0.8676081265738048 and parameters: {'max_depth': 14, 'n_estimators': 44, 'eta': 0.06559206479010456, 'subsample': 0.611282501073445, 'colsample_bytree': 0.8188871569277867, 'reg_lambda': 18.932650100313765}. Best is trial 181 with value: 0.900430142431224.\u001b[0m\n"
     ]
    },
    {
     "name": "stdout",
     "output_type": "stream",
     "text": [
      "0.8676081265738048\n"
     ]
    },
    {
     "name": "stderr",
     "output_type": "stream",
     "text": [
      "\u001b[32m[I 2023-01-16 08:12:21,478]\u001b[0m Trial 196 finished with value: 0.8799177294513882 and parameters: {'max_depth': 12, 'n_estimators': 58, 'eta': 0.07637973753757873, 'subsample': 0.5060857451245865, 'colsample_bytree': 0.785683894943587, 'reg_lambda': 17.380266608463934}. Best is trial 181 with value: 0.900430142431224.\u001b[0m\n"
     ]
    },
    {
     "name": "stdout",
     "output_type": "stream",
     "text": [
      "0.8799177294513882\n"
     ]
    },
    {
     "name": "stderr",
     "output_type": "stream",
     "text": [
      "\u001b[32m[I 2023-01-16 08:12:21,792]\u001b[0m Trial 197 finished with value: 0.8915111017424573 and parameters: {'max_depth': 16, 'n_estimators': 38, 'eta': 0.08400198766181813, 'subsample': 0.5776734871996485, 'colsample_bytree': 0.7513337222526754, 'reg_lambda': 15.569200934782678}. Best is trial 181 with value: 0.900430142431224.\u001b[0m\n"
     ]
    },
    {
     "name": "stdout",
     "output_type": "stream",
     "text": [
      "0.8915111017424573\n"
     ]
    },
    {
     "name": "stderr",
     "output_type": "stream",
     "text": [
      "\u001b[32m[I 2023-01-16 08:12:22,072]\u001b[0m Trial 198 finished with value: 0.8706818232328097 and parameters: {'max_depth': 16, 'n_estimators': 31, 'eta': 0.08429483669718935, 'subsample': 0.5802172424375415, 'colsample_bytree': 0.7727003387873246, 'reg_lambda': 13.9827387411206}. Best is trial 181 with value: 0.900430142431224.\u001b[0m\n"
     ]
    },
    {
     "name": "stdout",
     "output_type": "stream",
     "text": [
      "0.8706818232328097\n"
     ]
    },
    {
     "name": "stderr",
     "output_type": "stream",
     "text": [
      "\u001b[32m[I 2023-01-16 08:12:22,433]\u001b[0m Trial 199 finished with value: 0.8900419366982814 and parameters: {'max_depth': 17, 'n_estimators': 47, 'eta': 0.0501989964801728, 'subsample': 0.5589958453480326, 'colsample_bytree': 0.7387394556261627, 'reg_lambda': 14.831770539615919}. Best is trial 181 with value: 0.900430142431224.\u001b[0m\n"
     ]
    },
    {
     "name": "stdout",
     "output_type": "stream",
     "text": [
      "0.8900419366982814\n"
     ]
    },
    {
     "name": "stderr",
     "output_type": "stream",
     "text": [
      "\u001b[32m[I 2023-01-16 08:12:22,770]\u001b[0m Trial 200 finished with value: 0.8872214630769157 and parameters: {'max_depth': 15, 'n_estimators': 37, 'eta': 0.07875650158298354, 'subsample': 0.6748011615436716, 'colsample_bytree': 0.7933051303018187, 'reg_lambda': 17.010155530448813}. Best is trial 181 with value: 0.900430142431224.\u001b[0m\n"
     ]
    },
    {
     "name": "stdout",
     "output_type": "stream",
     "text": [
      "0.8872214630769157\n"
     ]
    },
    {
     "name": "stderr",
     "output_type": "stream",
     "text": [
      "\u001b[32m[I 2023-01-16 08:12:23,050]\u001b[0m Trial 201 finished with value: 0.8771811022879644 and parameters: {'max_depth': 17, 'n_estimators': 33, 'eta': 0.0876013481494951, 'subsample': 0.6011518108621862, 'colsample_bytree': 0.7190710399165077, 'reg_lambda': 15.69575832952202}. Best is trial 181 with value: 0.900430142431224.\u001b[0m\n"
     ]
    },
    {
     "name": "stdout",
     "output_type": "stream",
     "text": [
      "0.8771811022879644\n"
     ]
    },
    {
     "name": "stderr",
     "output_type": "stream",
     "text": [
      "\u001b[32m[I 2023-01-16 08:12:23,348]\u001b[0m Trial 202 finished with value: 0.8907904936300264 and parameters: {'max_depth': 13, 'n_estimators': 38, 'eta': 0.08070442918515698, 'subsample': 0.46795533674237394, 'colsample_bytree': 0.7047819648658304, 'reg_lambda': 15.391413053846199}. Best is trial 181 with value: 0.900430142431224.\u001b[0m\n"
     ]
    },
    {
     "name": "stdout",
     "output_type": "stream",
     "text": [
      "0.8907904936300264\n"
     ]
    },
    {
     "name": "stderr",
     "output_type": "stream",
     "text": [
      "\u001b[32m[I 2023-01-16 08:12:23,923]\u001b[0m Trial 203 finished with value: 0.8770999496921252 and parameters: {'max_depth': 13, 'n_estimators': 56, 'eta': 0.08463234431586106, 'subsample': 0.5288584735068771, 'colsample_bytree': 0.7527244679891393, 'reg_lambda': 1.0138687706310312}. Best is trial 181 with value: 0.900430142431224.\u001b[0m\n"
     ]
    },
    {
     "name": "stdout",
     "output_type": "stream",
     "text": [
      "0.8770999496921252\n"
     ]
    },
    {
     "name": "stderr",
     "output_type": "stream",
     "text": [
      "\u001b[32m[I 2023-01-16 08:12:24,234]\u001b[0m Trial 204 finished with value: 0.8897358466168795 and parameters: {'max_depth': 9, 'n_estimators': 50, 'eta': 0.07371799025708459, 'subsample': 0.577953643081381, 'colsample_bytree': 0.46384245612169295, 'reg_lambda': 12.219715926501664}. Best is trial 181 with value: 0.900430142431224.\u001b[0m\n"
     ]
    },
    {
     "name": "stdout",
     "output_type": "stream",
     "text": [
      "0.8897358466168795\n"
     ]
    },
    {
     "name": "stderr",
     "output_type": "stream",
     "text": [
      "\u001b[32m[I 2023-01-16 08:12:24,455]\u001b[0m Trial 205 finished with value: 0.8871376166189742 and parameters: {'max_depth': 4, 'n_estimators': 41, 'eta': 0.09440707886385816, 'subsample': 0.42730849354097483, 'colsample_bytree': 0.7271325231151992, 'reg_lambda': 3.8023858024351904}. Best is trial 181 with value: 0.900430142431224.\u001b[0m\n"
     ]
    },
    {
     "name": "stdout",
     "output_type": "stream",
     "text": [
      "0.8871376166189742\n"
     ]
    },
    {
     "name": "stderr",
     "output_type": "stream",
     "text": [
      "\u001b[32m[I 2023-01-16 08:12:24,724]\u001b[0m Trial 206 finished with value: 0.8854714629085495 and parameters: {'max_depth': 12, 'n_estimators': 40, 'eta': 0.06330985285491063, 'subsample': 0.6267031737812372, 'colsample_bytree': 0.3384074530954331, 'reg_lambda': 2.2302052370418655}. Best is trial 181 with value: 0.900430142431224.\u001b[0m\n"
     ]
    },
    {
     "name": "stdout",
     "output_type": "stream",
     "text": [
      "0.8854714629085495\n"
     ]
    },
    {
     "name": "stderr",
     "output_type": "stream",
     "text": [
      "\u001b[32m[I 2023-01-16 08:12:25,095]\u001b[0m Trial 207 finished with value: 0.8842558576347757 and parameters: {'max_depth': 16, 'n_estimators': 43, 'eta': 0.09786633232194286, 'subsample': 0.5072734116140721, 'colsample_bytree': 0.8624482935841041, 'reg_lambda': 6.07744670190016}. Best is trial 181 with value: 0.900430142431224.\u001b[0m\n"
     ]
    },
    {
     "name": "stdout",
     "output_type": "stream",
     "text": [
      "0.8842558576347757\n"
     ]
    },
    {
     "name": "stderr",
     "output_type": "stream",
     "text": [
      "\u001b[32m[I 2023-01-16 08:12:25,340]\u001b[0m Trial 208 finished with value: 0.8869850766774174 and parameters: {'max_depth': 4, 'n_estimators': 51, 'eta': 0.0824269567819485, 'subsample': 0.5496104403148931, 'colsample_bytree': 0.6889405479181845, 'reg_lambda': 18.41285406234485}. Best is trial 181 with value: 0.900430142431224.\u001b[0m\n"
     ]
    },
    {
     "name": "stdout",
     "output_type": "stream",
     "text": [
      "0.8869850766774174\n"
     ]
    },
    {
     "name": "stderr",
     "output_type": "stream",
     "text": [
      "\u001b[32m[I 2023-01-16 08:12:25,621]\u001b[0m Trial 209 finished with value: 0.8925377999362902 and parameters: {'max_depth': 5, 'n_estimators': 54, 'eta': 0.09211243985771252, 'subsample': 0.4444343671529277, 'colsample_bytree': 0.773732700670147, 'reg_lambda': 13.399067981915781}. Best is trial 181 with value: 0.900430142431224.\u001b[0m\n"
     ]
    },
    {
     "name": "stdout",
     "output_type": "stream",
     "text": [
      "0.8925377999362902\n"
     ]
    },
    {
     "name": "stderr",
     "output_type": "stream",
     "text": [
      "\u001b[32m[I 2023-01-16 08:12:26,125]\u001b[0m Trial 210 finished with value: 0.887286115767377 and parameters: {'max_depth': 13, 'n_estimators': 69, 'eta': 0.09212844608841876, 'subsample': 0.4474236858267298, 'colsample_bytree': 0.7709953046132504, 'reg_lambda': 12.899408945488037}. Best is trial 181 with value: 0.900430142431224.\u001b[0m\n"
     ]
    },
    {
     "name": "stdout",
     "output_type": "stream",
     "text": [
      "0.887286115767377\n"
     ]
    },
    {
     "name": "stderr",
     "output_type": "stream",
     "text": [
      "\u001b[32m[I 2023-01-16 08:12:26,383]\u001b[0m Trial 211 finished with value: 0.8794796401269618 and parameters: {'max_depth': 5, 'n_estimators': 48, 'eta': 0.08901500673671715, 'subsample': 0.4724540083902174, 'colsample_bytree': 0.7449330956985317, 'reg_lambda': 14.243331900540834}. Best is trial 181 with value: 0.900430142431224.\u001b[0m\n"
     ]
    },
    {
     "name": "stdout",
     "output_type": "stream",
     "text": [
      "0.8794796401269618\n"
     ]
    },
    {
     "name": "stderr",
     "output_type": "stream",
     "text": [
      "\u001b[32m[I 2023-01-16 08:12:26,599]\u001b[0m Trial 212 finished with value: 0.8760183640579531 and parameters: {'max_depth': 5, 'n_estimators': 38, 'eta': 0.0915562346508715, 'subsample': 0.4156005714960401, 'colsample_bytree': 0.8102624744077526, 'reg_lambda': 11.667480092541593}. Best is trial 181 with value: 0.900430142431224.\u001b[0m\n"
     ]
    },
    {
     "name": "stdout",
     "output_type": "stream",
     "text": [
      "0.8760183640579531\n"
     ]
    },
    {
     "name": "stderr",
     "output_type": "stream",
     "text": [
      "\u001b[32m[I 2023-01-16 08:12:26,898]\u001b[0m Trial 213 finished with value: 0.8709831990555319 and parameters: {'max_depth': 6, 'n_estimators': 54, 'eta': 0.08591156943077369, 'subsample': 0.43896836963231317, 'colsample_bytree': 0.7631722342835232, 'reg_lambda': 13.498582949866886}. Best is trial 181 with value: 0.900430142431224.\u001b[0m\n"
     ]
    },
    {
     "name": "stdout",
     "output_type": "stream",
     "text": [
      "0.8709831990555319\n"
     ]
    },
    {
     "name": "stderr",
     "output_type": "stream",
     "text": [
      "\u001b[32m[I 2023-01-16 08:12:27,297]\u001b[0m Trial 214 finished with value: 0.8930822968137674 and parameters: {'max_depth': 5, 'n_estimators': 88, 'eta': 0.09574430999853219, 'subsample': 0.4923835209270399, 'colsample_bytree': 0.9686953518287723, 'reg_lambda': 21.59565350835202}. Best is trial 181 with value: 0.900430142431224.\u001b[0m\n"
     ]
    },
    {
     "name": "stdout",
     "output_type": "stream",
     "text": [
      "0.8930822968137674\n"
     ]
    },
    {
     "name": "stderr",
     "output_type": "stream",
     "text": [
      "\u001b[32m[I 2023-01-16 08:12:27,552]\u001b[0m Trial 215 finished with value: 0.8725459758077714 and parameters: {'max_depth': 5, 'n_estimators': 45, 'eta': 0.0958909375706015, 'subsample': 0.38200350789377957, 'colsample_bytree': 0.9741019157383601, 'reg_lambda': 15.422164487156357}. Best is trial 181 with value: 0.900430142431224.\u001b[0m\n"
     ]
    },
    {
     "name": "stdout",
     "output_type": "stream",
     "text": [
      "0.8725459758077714\n"
     ]
    },
    {
     "name": "stderr",
     "output_type": "stream",
     "text": [
      "\u001b[32m[I 2023-01-16 08:12:27,898]\u001b[0m Trial 216 finished with value: 0.8862351728146213 and parameters: {'max_depth': 4, 'n_estimators': 88, 'eta': 0.10100704931338803, 'subsample': 0.5206410071800837, 'colsample_bytree': 0.9458207886481879, 'reg_lambda': 23.637091297155102}. Best is trial 181 with value: 0.900430142431224.\u001b[0m\n"
     ]
    },
    {
     "name": "stdout",
     "output_type": "stream",
     "text": [
      "0.8862351728146213\n"
     ]
    },
    {
     "name": "stderr",
     "output_type": "stream",
     "text": [
      "\u001b[32m[I 2023-01-16 08:12:28,300]\u001b[0m Trial 217 finished with value: 0.8850195675408474 and parameters: {'max_depth': 17, 'n_estimators': 52, 'eta': 0.09404717173369452, 'subsample': 0.46408431761343744, 'colsample_bytree': 0.9907961264468572, 'reg_lambda': 20.951328098688784}. Best is trial 181 with value: 0.900430142431224.\u001b[0m\n"
     ]
    },
    {
     "name": "stdout",
     "output_type": "stream",
     "text": [
      "0.8850195675408474\n"
     ]
    },
    {
     "name": "stderr",
     "output_type": "stream",
     "text": [
      "\u001b[32m[I 2023-01-16 08:12:28,595]\u001b[0m Trial 218 finished with value: 0.8546950985852511 and parameters: {'max_depth': 4, 'n_estimators': 61, 'eta': 0.04708372479563295, 'subsample': 0.4897379180952497, 'colsample_bytree': 0.9040606743227833, 'reg_lambda': 21.365423958977097}. Best is trial 181 with value: 0.900430142431224.\u001b[0m\n"
     ]
    },
    {
     "name": "stdout",
     "output_type": "stream",
     "text": [
      "0.8546950985852511\n"
     ]
    },
    {
     "name": "stderr",
     "output_type": "stream",
     "text": [
      "\u001b[32m[I 2023-01-16 08:12:29,067]\u001b[0m Trial 219 finished with value: 0.8839827673641298 and parameters: {'max_depth': 6, 'n_estimators': 89, 'eta': 0.08944604834144253, 'subsample': 0.5373769658897554, 'colsample_bytree': 0.9745964108095196, 'reg_lambda': 13.178437541545053}. Best is trial 181 with value: 0.900430142431224.\u001b[0m\n"
     ]
    },
    {
     "name": "stdout",
     "output_type": "stream",
     "text": [
      "0.8839827673641298\n"
     ]
    },
    {
     "name": "stderr",
     "output_type": "stream",
     "text": [
      "\u001b[32m[I 2023-01-16 08:12:29,744]\u001b[0m Trial 220 finished with value: 0.8927068397832248 and parameters: {'max_depth': 14, 'n_estimators': 96, 'eta': 0.043923674495969435, 'subsample': 0.571691717437837, 'colsample_bytree': 0.9240606244607215, 'reg_lambda': 11.901241605885438}. Best is trial 181 with value: 0.900430142431224.\u001b[0m\n"
     ]
    },
    {
     "name": "stdout",
     "output_type": "stream",
     "text": [
      "0.8927068397832248\n"
     ]
    },
    {
     "name": "stderr",
     "output_type": "stream",
     "text": [
      "\u001b[32m[I 2023-01-16 08:12:30,330]\u001b[0m Trial 221 finished with value: 0.8760543944635747 and parameters: {'max_depth': 14, 'n_estimators': 96, 'eta': 0.04096157283868445, 'subsample': 0.5927511642918323, 'colsample_bytree': 0.9252902493610062, 'reg_lambda': 21.815642547504936}. Best is trial 181 with value: 0.900430142431224.\u001b[0m\n"
     ]
    },
    {
     "name": "stdout",
     "output_type": "stream",
     "text": [
      "0.8760543944635747\n"
     ]
    },
    {
     "name": "stderr",
     "output_type": "stream",
     "text": [
      "\u001b[32m[I 2023-01-16 08:12:30,737]\u001b[0m Trial 222 finished with value: 0.8816653724904149 and parameters: {'max_depth': 13, 'n_estimators': 63, 'eta': 0.03817796396022451, 'subsample': 0.5780864043416195, 'colsample_bytree': 0.958983006727463, 'reg_lambda': 11.739273651673395}. Best is trial 181 with value: 0.900430142431224.\u001b[0m\n"
     ]
    },
    {
     "name": "stdout",
     "output_type": "stream",
     "text": [
      "0.8816653724904149\n"
     ]
    },
    {
     "name": "stderr",
     "output_type": "stream",
     "text": [
      "\u001b[32m[I 2023-01-16 08:12:31,262]\u001b[0m Trial 223 finished with value: 0.8871312186964806 and parameters: {'max_depth': 14, 'n_estimators': 94, 'eta': 0.04426510602863916, 'subsample': 0.5620283586523446, 'colsample_bytree': 0.5207913030947386, 'reg_lambda': 11.037481411663387}. Best is trial 181 with value: 0.900430142431224.\u001b[0m\n"
     ]
    },
    {
     "name": "stdout",
     "output_type": "stream",
     "text": [
      "0.8871312186964806\n"
     ]
    },
    {
     "name": "stderr",
     "output_type": "stream",
     "text": [
      "\u001b[32m[I 2023-01-16 08:12:31,706]\u001b[0m Trial 224 finished with value: 0.8908332586909044 and parameters: {'max_depth': 12, 'n_estimators': 66, 'eta': 0.0769506600113738, 'subsample': 0.6100597536690604, 'colsample_bytree': 0.9372713566567742, 'reg_lambda': 21.95229621155088}. Best is trial 181 with value: 0.900430142431224.\u001b[0m\n"
     ]
    },
    {
     "name": "stdout",
     "output_type": "stream",
     "text": [
      "0.8908332586909044\n"
     ]
    },
    {
     "name": "stderr",
     "output_type": "stream",
     "text": [
      "\u001b[32m[I 2023-01-16 08:12:32,356]\u001b[0m Trial 225 finished with value: 0.8903503839090228 and parameters: {'max_depth': 13, 'n_estimators': 96, 'eta': 0.09945426582820853, 'subsample': 0.5146603595068451, 'colsample_bytree': 0.8290913113544093, 'reg_lambda': 12.361451085488845}. Best is trial 181 with value: 0.900430142431224.\u001b[0m\n"
     ]
    },
    {
     "name": "stdout",
     "output_type": "stream",
     "text": [
      "0.8903503839090228\n"
     ]
    },
    {
     "name": "stderr",
     "output_type": "stream",
     "text": [
      "\u001b[32m[I 2023-01-16 08:12:32,705]\u001b[0m Trial 226 finished with value: 0.8966755721258006 and parameters: {'max_depth': 5, 'n_estimators': 84, 'eta': 0.0875022139935871, 'subsample': 0.540776424596228, 'colsample_bytree': 0.7916393099525798, 'reg_lambda': 16.289110831548}. Best is trial 181 with value: 0.900430142431224.\u001b[0m\n"
     ]
    },
    {
     "name": "stdout",
     "output_type": "stream",
     "text": [
      "0.8966755721258006\n"
     ]
    },
    {
     "name": "stderr",
     "output_type": "stream",
     "text": [
      "\u001b[32m[I 2023-01-16 08:12:33,247]\u001b[0m Trial 227 finished with value: 0.8783653914147962 and parameters: {'max_depth': 16, 'n_estimators': 85, 'eta': 0.08600575412850163, 'subsample': 0.5379193186499567, 'colsample_bytree': 0.7930427336739954, 'reg_lambda': 14.825738540352232}. Best is trial 181 with value: 0.900430142431224.\u001b[0m\n"
     ]
    },
    {
     "name": "stdout",
     "output_type": "stream",
     "text": [
      "0.8783653914147962\n"
     ]
    },
    {
     "name": "stderr",
     "output_type": "stream",
     "text": [
      "\u001b[32m[I 2023-01-16 08:12:33,613]\u001b[0m Trial 228 finished with value: 0.8941150561973309 and parameters: {'max_depth': 5, 'n_estimators': 87, 'eta': 0.09115965615373472, 'subsample': 0.5609795125498602, 'colsample_bytree': 0.7821312737812013, 'reg_lambda': 16.71359753518427}. Best is trial 181 with value: 0.900430142431224.\u001b[0m\n"
     ]
    },
    {
     "name": "stdout",
     "output_type": "stream",
     "text": [
      "0.8941150561973309\n"
     ]
    },
    {
     "name": "stderr",
     "output_type": "stream",
     "text": [
      "\u001b[32m[I 2023-01-16 08:12:33,967]\u001b[0m Trial 229 finished with value: 0.9012504234414492 and parameters: {'max_depth': 5, 'n_estimators': 87, 'eta': 0.09215283504145498, 'subsample': 0.5426369128775617, 'colsample_bytree': 0.8036086405290085, 'reg_lambda': 17.093100466082007}. Best is trial 229 with value: 0.9012504234414492.\u001b[0m\n"
     ]
    },
    {
     "name": "stdout",
     "output_type": "stream",
     "text": [
      "0.9012504234414492\n"
     ]
    },
    {
     "name": "stderr",
     "output_type": "stream",
     "text": [
      "\u001b[32m[I 2023-01-16 08:12:34,337]\u001b[0m Trial 230 finished with value: 0.8847495078650671 and parameters: {'max_depth': 5, 'n_estimators': 84, 'eta': 0.0970846079088609, 'subsample': 0.553869691380883, 'colsample_bytree': 0.7898934102789296, 'reg_lambda': 17.750871556858794}. Best is trial 229 with value: 0.9012504234414492.\u001b[0m\n"
     ]
    },
    {
     "name": "stdout",
     "output_type": "stream",
     "text": [
      "0.8847495078650671\n"
     ]
    },
    {
     "name": "stderr",
     "output_type": "stream",
     "text": [
      "\u001b[32m[I 2023-01-16 08:12:34,715]\u001b[0m Trial 231 finished with value: 0.8898560602132057 and parameters: {'max_depth': 5, 'n_estimators': 86, 'eta': 0.09236060449009591, 'subsample': 0.5240267376918216, 'colsample_bytree': 0.8099752033894838, 'reg_lambda': 16.75495894754344}. Best is trial 229 with value: 0.9012504234414492.\u001b[0m\n"
     ]
    },
    {
     "name": "stdout",
     "output_type": "stream",
     "text": [
      "0.8898560602132057\n"
     ]
    },
    {
     "name": "stderr",
     "output_type": "stream",
     "text": [
      "\u001b[32m[I 2023-01-16 08:12:35,092]\u001b[0m Trial 232 finished with value: 0.8851195771714044 and parameters: {'max_depth': 5, 'n_estimators': 89, 'eta': 0.09453973421898258, 'subsample': 0.5025806204580203, 'colsample_bytree': 0.7784798409799073, 'reg_lambda': 16.377211550652618}. Best is trial 229 with value: 0.9012504234414492.\u001b[0m\n"
     ]
    },
    {
     "name": "stdout",
     "output_type": "stream",
     "text": [
      "0.8851195771714044\n"
     ]
    },
    {
     "name": "stderr",
     "output_type": "stream",
     "text": [
      "\u001b[32m[I 2023-01-16 08:12:35,471]\u001b[0m Trial 233 finished with value: 0.8856240028501061 and parameters: {'max_depth': 5, 'n_estimators': 87, 'eta': 0.08952377428840409, 'subsample': 0.5455734914808488, 'colsample_bytree': 0.8352828168151735, 'reg_lambda': 16.200485758184193}. Best is trial 229 with value: 0.9012504234414492.\u001b[0m\n"
     ]
    },
    {
     "name": "stdout",
     "output_type": "stream",
     "text": [
      "0.8856240028501061\n"
     ]
    },
    {
     "name": "stderr",
     "output_type": "stream",
     "text": [
      "\u001b[32m[I 2023-01-16 08:12:35,886]\u001b[0m Trial 234 finished with value: 0.8889448613570196 and parameters: {'max_depth': 5, 'n_estimators': 85, 'eta': 0.09134098232337062, 'subsample': 0.559222615116035, 'colsample_bytree': 0.8032057146452842, 'reg_lambda': 17.056260755243436}. Best is trial 229 with value: 0.9012504234414492.\u001b[0m\n"
     ]
    },
    {
     "name": "stdout",
     "output_type": "stream",
     "text": [
      "0.8889448613570196\n"
     ]
    },
    {
     "name": "stderr",
     "output_type": "stream",
     "text": [
      "\u001b[32m[I 2023-01-16 08:12:36,282]\u001b[0m Trial 235 finished with value: 0.8966001439869293 and parameters: {'max_depth': 6, 'n_estimators': 83, 'eta': 0.08878406661757114, 'subsample': 0.5318656101854695, 'colsample_bytree': 0.8201927466474808, 'reg_lambda': 19.573468127055303}. Best is trial 229 with value: 0.9012504234414492.\u001b[0m\n"
     ]
    },
    {
     "name": "stdout",
     "output_type": "stream",
     "text": [
      "0.8966001439869293\n"
     ]
    },
    {
     "name": "stderr",
     "output_type": "stream",
     "text": [
      "\u001b[32m[I 2023-01-16 08:12:36,742]\u001b[0m Trial 236 finished with value: 0.896802857110146 and parameters: {'max_depth': 6, 'n_estimators': 83, 'eta': 0.08818859273042125, 'subsample': 0.5330789199201843, 'colsample_bytree': 0.7804453952510862, 'reg_lambda': 4.378127187499191}. Best is trial 229 with value: 0.9012504234414492.\u001b[0m\n"
     ]
    },
    {
     "name": "stdout",
     "output_type": "stream",
     "text": [
      "0.896802857110146\n"
     ]
    },
    {
     "name": "stderr",
     "output_type": "stream",
     "text": [
      "\u001b[32m[I 2023-01-16 08:12:37,169]\u001b[0m Trial 237 finished with value: 0.8849545781176233 and parameters: {'max_depth': 6, 'n_estimators': 81, 'eta': 0.08810274415594178, 'subsample': 0.5346965791408237, 'colsample_bytree': 0.7899756706901867, 'reg_lambda': 23.173069318751168}. Best is trial 229 with value: 0.9012504234414492.\u001b[0m\n"
     ]
    },
    {
     "name": "stdout",
     "output_type": "stream",
     "text": [
      "0.8849545781176233\n"
     ]
    },
    {
     "name": "stderr",
     "output_type": "stream",
     "text": [
      "\u001b[32m[I 2023-01-16 08:12:37,525]\u001b[0m Trial 238 finished with value: 0.8833847299773648 and parameters: {'max_depth': 5, 'n_estimators': 83, 'eta': 0.08821551898196626, 'subsample': 0.5485072853599157, 'colsample_bytree': 0.7752277588282783, 'reg_lambda': 20.468793677876633}. Best is trial 229 with value: 0.9012504234414492.\u001b[0m\n"
     ]
    },
    {
     "name": "stdout",
     "output_type": "stream",
     "text": [
      "0.8833847299773648\n"
     ]
    },
    {
     "name": "stderr",
     "output_type": "stream",
     "text": [
      "\u001b[32m[I 2023-01-16 08:12:37,919]\u001b[0m Trial 239 finished with value: 0.8832257921133145 and parameters: {'max_depth': 6, 'n_estimators': 77, 'eta': 0.09112304094939035, 'subsample': 0.5726474003374387, 'colsample_bytree': 0.7687808715769658, 'reg_lambda': 3.320203955886361}. Best is trial 229 with value: 0.9012504234414492.\u001b[0m\n"
     ]
    },
    {
     "name": "stdout",
     "output_type": "stream",
     "text": [
      "0.8832257921133145\n"
     ]
    },
    {
     "name": "stderr",
     "output_type": "stream",
     "text": [
      "\u001b[32m[I 2023-01-16 08:12:38,272]\u001b[0m Trial 240 finished with value: 0.8892883287750942 and parameters: {'max_depth': 5, 'n_estimators': 80, 'eta': 0.08683061135516824, 'subsample': 0.5235561414282062, 'colsample_bytree': 0.8057180433315801, 'reg_lambda': 18.90745824454565}. Best is trial 229 with value: 0.9012504234414492.\u001b[0m\n"
     ]
    },
    {
     "name": "stdout",
     "output_type": "stream",
     "text": [
      "0.8892883287750942\n"
     ]
    },
    {
     "name": "stderr",
     "output_type": "stream",
     "text": [
      "\u001b[32m[I 2023-01-16 08:12:38,629]\u001b[0m Trial 241 finished with value: 0.8958596686414921 and parameters: {'max_depth': 4, 'n_estimators': 85, 'eta': 0.035320019135466764, 'subsample': 0.5583296596742823, 'colsample_bytree': 0.8212359588320366, 'reg_lambda': 4.318585593783991}. Best is trial 229 with value: 0.9012504234414492.\u001b[0m\n"
     ]
    },
    {
     "name": "stdout",
     "output_type": "stream",
     "text": [
      "0.8958596686414921\n"
     ]
    },
    {
     "name": "stderr",
     "output_type": "stream",
     "text": [
      "\u001b[32m[I 2023-01-16 08:12:38,994]\u001b[0m Trial 242 finished with value: 0.8828456208240928 and parameters: {'max_depth': 4, 'n_estimators': 83, 'eta': 0.029821795075771575, 'subsample': 0.5652668190176094, 'colsample_bytree': 0.7945368302575144, 'reg_lambda': 4.219661959870152}. Best is trial 229 with value: 0.9012504234414492.\u001b[0m\n"
     ]
    },
    {
     "name": "stdout",
     "output_type": "stream",
     "text": [
      "0.8828456208240928\n"
     ]
    },
    {
     "name": "stderr",
     "output_type": "stream",
     "text": [
      "\u001b[32m[I 2023-01-16 08:12:39,326]\u001b[0m Trial 243 finished with value: 0.8925128817118416 and parameters: {'max_depth': 4, 'n_estimators': 87, 'eta': 0.02595773532639234, 'subsample': 0.5928073071162068, 'colsample_bytree': 0.815794361227368, 'reg_lambda': 2.9125231282730057}. Best is trial 229 with value: 0.9012504234414492.\u001b[0m\n"
     ]
    },
    {
     "name": "stdout",
     "output_type": "stream",
     "text": [
      "0.8925128817118416\n"
     ]
    },
    {
     "name": "stderr",
     "output_type": "stream",
     "text": [
      "\u001b[32m[I 2023-01-16 08:12:39,680]\u001b[0m Trial 244 finished with value: 0.8808787647564715 and parameters: {'max_depth': 4, 'n_estimators': 87, 'eta': 0.08974915310301411, 'subsample': 0.6001175778752297, 'colsample_bytree': 0.8214236956273576, 'reg_lambda': 2.7048357347663927}. Best is trial 229 with value: 0.9012504234414492.\u001b[0m\n"
     ]
    },
    {
     "name": "stdout",
     "output_type": "stream",
     "text": [
      "0.8808787647564715\n"
     ]
    },
    {
     "name": "stderr",
     "output_type": "stream",
     "text": [
      "\u001b[32m[I 2023-01-16 08:12:40,013]\u001b[0m Trial 245 finished with value: 0.873669316304533 and parameters: {'max_depth': 4, 'n_estimators': 84, 'eta': 0.029731573285218325, 'subsample': 0.5887860175653961, 'colsample_bytree': 0.8456731798513518, 'reg_lambda': 3.609591421328538}. Best is trial 229 with value: 0.9012504234414492.\u001b[0m\n"
     ]
    },
    {
     "name": "stdout",
     "output_type": "stream",
     "text": [
      "0.873669316304533\n"
     ]
    },
    {
     "name": "stderr",
     "output_type": "stream",
     "text": [
      "\u001b[32m[I 2023-01-16 08:12:40,367]\u001b[0m Trial 246 finished with value: 0.8820536253659443 and parameters: {'max_depth': 4, 'n_estimators': 86, 'eta': 0.037878058548785974, 'subsample': 0.566216756291558, 'colsample_bytree': 0.779340104518132, 'reg_lambda': 20.030307236354574}. Best is trial 229 with value: 0.9012504234414492.\u001b[0m\n"
     ]
    },
    {
     "name": "stdout",
     "output_type": "stream",
     "text": [
      "0.8820536253659443\n"
     ]
    },
    {
     "name": "stderr",
     "output_type": "stream",
     "text": [
      "\u001b[32m[I 2023-01-16 08:12:40,686]\u001b[0m Trial 247 finished with value: 0.8835581473502162 and parameters: {'max_depth': 4, 'n_estimators': 79, 'eta': 0.03546485662972874, 'subsample': 0.5341946673753156, 'colsample_bytree': 0.82667807545694, 'reg_lambda': 4.468823736568224}. Best is trial 229 with value: 0.9012504234414492.\u001b[0m\n"
     ]
    },
    {
     "name": "stdout",
     "output_type": "stream",
     "text": [
      "0.8835581473502162\n"
     ]
    },
    {
     "name": "stderr",
     "output_type": "stream",
     "text": [
      "\u001b[32m[I 2023-01-16 08:12:41,074]\u001b[0m Trial 248 finished with value: 0.8853155556393646 and parameters: {'max_depth': 4, 'n_estimators': 88, 'eta': 0.027661056210968548, 'subsample': 0.6170497479316814, 'colsample_bytree': 0.7578012244198723, 'reg_lambda': 1.8776362617907774}. Best is trial 229 with value: 0.9012504234414492.\u001b[0m\n"
     ]
    },
    {
     "name": "stdout",
     "output_type": "stream",
     "text": [
      "0.8853155556393646\n"
     ]
    },
    {
     "name": "stderr",
     "output_type": "stream",
     "text": [
      "\u001b[32m[I 2023-01-16 08:12:41,453]\u001b[0m Trial 249 finished with value: 0.8831308334741999 and parameters: {'max_depth': 5, 'n_estimators': 82, 'eta': 0.08750940613147923, 'subsample': 0.5119711040840025, 'colsample_bytree': 0.8125474664952961, 'reg_lambda': 19.711526062423605}. Best is trial 229 with value: 0.9012504234414492.\u001b[0m\n"
     ]
    },
    {
     "name": "stdout",
     "output_type": "stream",
     "text": [
      "0.8831308334741999\n"
     ]
    },
    {
     "name": "stderr",
     "output_type": "stream",
     "text": [
      "\u001b[32m[I 2023-01-16 08:12:41,814]\u001b[0m Trial 250 finished with value: 0.8680832565021414 and parameters: {'max_depth': 5, 'n_estimators': 84, 'eta': 0.02245555712177988, 'subsample': 0.5945571816146268, 'colsample_bytree': 0.7949276999633197, 'reg_lambda': 22.486010674411894}. Best is trial 229 with value: 0.9012504234414492.\u001b[0m\n"
     ]
    },
    {
     "name": "stdout",
     "output_type": "stream",
     "text": [
      "0.8680832565021414\n"
     ]
    },
    {
     "name": "stderr",
     "output_type": "stream",
     "text": [
      "\u001b[32m[I 2023-01-16 08:12:42,150]\u001b[0m Trial 251 finished with value: 0.8767787066363967 and parameters: {'max_depth': 4, 'n_estimators': 85, 'eta': 0.011727096914868472, 'subsample': 0.5548718558863601, 'colsample_bytree': 0.775674931066729, 'reg_lambda': 2.839457736370522}. Best is trial 229 with value: 0.9012504234414492.\u001b[0m\n"
     ]
    },
    {
     "name": "stdout",
     "output_type": "stream",
     "text": [
      "0.8767787066363967\n"
     ]
    },
    {
     "name": "stderr",
     "output_type": "stream",
     "text": [
      "\u001b[32m[I 2023-01-16 08:12:42,494]\u001b[0m Trial 252 finished with value: 0.883476994754377 and parameters: {'max_depth': 5, 'n_estimators': 74, 'eta': 0.03508146707413988, 'subsample': 0.48809868114274435, 'colsample_bytree': 0.7572042782166891, 'reg_lambda': 3.545796530704096}. Best is trial 229 with value: 0.9012504234414492.\u001b[0m\n"
     ]
    },
    {
     "name": "stdout",
     "output_type": "stream",
     "text": [
      "0.883476994754377\n"
     ]
    },
    {
     "name": "stderr",
     "output_type": "stream",
     "text": [
      "\u001b[32m[I 2023-01-16 08:12:42,933]\u001b[0m Trial 253 finished with value: 0.8773706828334311 and parameters: {'max_depth': 6, 'n_estimators': 90, 'eta': 0.09426358820057214, 'subsample': 0.577040445398143, 'colsample_bytree': 0.8118548505745523, 'reg_lambda': 17.007355730871623}. Best is trial 229 with value: 0.9012504234414492.\u001b[0m\n"
     ]
    },
    {
     "name": "stdout",
     "output_type": "stream",
     "text": [
      "0.8773706828334311\n"
     ]
    },
    {
     "name": "stderr",
     "output_type": "stream",
     "text": [
      "\u001b[32m[I 2023-01-16 08:12:43,317]\u001b[0m Trial 254 finished with value: 0.8732497472820615 and parameters: {'max_depth': 5, 'n_estimators': 87, 'eta': 0.08515138005239696, 'subsample': 0.6346705832516174, 'colsample_bytree': 0.8416477281299491, 'reg_lambda': 18.224174296746796}. Best is trial 229 with value: 0.9012504234414492.\u001b[0m\n"
     ]
    },
    {
     "name": "stdout",
     "output_type": "stream",
     "text": [
      "0.8732497472820615\n"
     ]
    },
    {
     "name": "stderr",
     "output_type": "stream",
     "text": [
      "\u001b[32m[I 2023-01-16 08:12:43,676]\u001b[0m Trial 255 finished with value: 0.8827590805040485 and parameters: {'max_depth': 4, 'n_estimators': 84, 'eta': 0.09046164843092357, 'subsample': 0.5422816374474505, 'colsample_bytree': 0.7925860947640467, 'reg_lambda': 4.431957586257969}. Best is trial 229 with value: 0.9012504234414492.\u001b[0m\n"
     ]
    },
    {
     "name": "stdout",
     "output_type": "stream",
     "text": [
      "0.8827590805040485\n"
     ]
    },
    {
     "name": "stderr",
     "output_type": "stream",
     "text": [
      "\u001b[32m[I 2023-01-16 08:12:44,049]\u001b[0m Trial 256 finished with value: 0.9018535118196568 and parameters: {'max_depth': 5, 'n_estimators': 88, 'eta': 0.019889833571134784, 'subsample': 0.4960251056706783, 'colsample_bytree': 0.7401993614705895, 'reg_lambda': 2.6280402334516104}. Best is trial 256 with value: 0.9018535118196568.\u001b[0m\n",
      "\u001b[32m[I 2023-01-16 08:12:44,187]\u001b[0m Trial 257 finished with value: 0.8761658530080673 and parameters: {'max_depth': 4, 'n_estimators': 13, 'eta': 0.08306348716298484, 'subsample': 0.5123877290361691, 'colsample_bytree': 0.7355918918026401, 'reg_lambda': 2.1071871743237773}. Best is trial 256 with value: 0.9018535118196568.\u001b[0m\n"
     ]
    },
    {
     "name": "stdout",
     "output_type": "stream",
     "text": [
      "0.9018535118196568\n",
      "0.8761658530080673\n"
     ]
    },
    {
     "name": "stderr",
     "output_type": "stream",
     "text": [
      "\u001b[32m[I 2023-01-16 08:12:44,604]\u001b[0m Trial 258 finished with value: 0.8749563089240244 and parameters: {'max_depth': 6, 'n_estimators': 88, 'eta': 0.021157804019765247, 'subsample': 0.48334684186318494, 'colsample_bytree': 0.7427887221286795, 'reg_lambda': 1.6053531649584483}. Best is trial 256 with value: 0.9018535118196568.\u001b[0m\n"
     ]
    },
    {
     "name": "stdout",
     "output_type": "stream",
     "text": [
      "0.8749563089240244\n"
     ]
    },
    {
     "name": "stderr",
     "output_type": "stream",
     "text": [
      "\u001b[32m[I 2023-01-16 08:12:44,868]\u001b[0m Trial 259 finished with value: 0.8765052796329882 and parameters: {'max_depth': 5, 'n_estimators': 81, 'eta': 0.02589573966820327, 'subsample': 0.49989069257270385, 'colsample_bytree': 0.16928962746972376, 'reg_lambda': 3.823120782263432}. Best is trial 256 with value: 0.9018535118196568.\u001b[0m\n"
     ]
    },
    {
     "name": "stdout",
     "output_type": "stream",
     "text": [
      "0.8765052796329882\n"
     ]
    },
    {
     "name": "stderr",
     "output_type": "stream",
     "text": [
      "\u001b[32m[I 2023-01-16 08:12:45,262]\u001b[0m Trial 260 finished with value: 0.8878831429558537 and parameters: {'max_depth': 5, 'n_estimators': 91, 'eta': 0.016958238300630594, 'subsample': 0.5198587749520903, 'colsample_bytree': 0.7666993258330588, 'reg_lambda': 2.8025002043818485}. Best is trial 256 with value: 0.9018535118196568.\u001b[0m\n"
     ]
    },
    {
     "name": "stdout",
     "output_type": "stream",
     "text": [
      "0.8878831429558537\n"
     ]
    },
    {
     "name": "stderr",
     "output_type": "stream",
     "text": [
      "\u001b[32m[I 2023-01-16 08:12:45,608]\u001b[0m Trial 261 finished with value: 0.8911302569877099 and parameters: {'max_depth': 4, 'n_estimators': 86, 'eta': 0.01893307417020218, 'subsample': 0.536041032857266, 'colsample_bytree': 0.8227674725971245, 'reg_lambda': 3.14403778454675}. Best is trial 256 with value: 0.9018535118196568.\u001b[0m\n"
     ]
    },
    {
     "name": "stdout",
     "output_type": "stream",
     "text": [
      "0.8911302569877099\n"
     ]
    },
    {
     "name": "stderr",
     "output_type": "stream",
     "text": [
      "\u001b[32m[I 2023-01-16 08:12:45,962]\u001b[0m Trial 262 finished with value: 0.8346568053354633 and parameters: {'max_depth': 4, 'n_estimators': 88, 'eta': 0.011084962395680556, 'subsample': 0.4935708345166794, 'colsample_bytree': 0.783663591006932, 'reg_lambda': 14.38049137138616}. Best is trial 256 with value: 0.9018535118196568.\u001b[0m\n"
     ]
    },
    {
     "name": "stdout",
     "output_type": "stream",
     "text": [
      "0.8346568053354633\n"
     ]
    },
    {
     "name": "stderr",
     "output_type": "stream",
     "text": [
      "\u001b[32m[I 2023-01-16 08:12:46,395]\u001b[0m Trial 263 finished with value: 0.886726465915573 and parameters: {'max_depth': 6, 'n_estimators': 90, 'eta': 0.019187830430499087, 'subsample': 0.4766116277909908, 'colsample_bytree': 0.8000473052634998, 'reg_lambda': 2.439261077818701}. Best is trial 256 with value: 0.9018535118196568.\u001b[0m\n"
     ]
    },
    {
     "name": "stdout",
     "output_type": "stream",
     "text": [
      "0.886726465915573\n",
      "0.8144131051003565\n"
     ]
    },
    {
     "name": "stderr",
     "output_type": "stream",
     "text": [
      "\u001b[32m[I 2023-01-16 08:12:46,578]\u001b[0m Trial 264 finished with value: 0.8144131051003565 and parameters: {'max_depth': 5, 'n_estimators': 28, 'eta': 0.025380987280514272, 'subsample': 0.5226126369171937, 'colsample_bytree': 0.7082451657139867, 'reg_lambda': 17.61785871261646}. Best is trial 256 with value: 0.9018535118196568.\u001b[0m\n",
      "\u001b[32m[I 2023-01-16 08:12:46,967]\u001b[0m Trial 265 finished with value: 0.88797709139668 and parameters: {'max_depth': 5, 'n_estimators': 83, 'eta': 0.0919301613755201, 'subsample': 0.55492579828277, 'colsample_bytree': 0.8376306928605898, 'reg_lambda': 1.0721522496269147}. Best is trial 256 with value: 0.9018535118196568.\u001b[0m\n"
     ]
    },
    {
     "name": "stdout",
     "output_type": "stream",
     "text": [
      "0.88797709139668\n"
     ]
    },
    {
     "name": "stderr",
     "output_type": "stream",
     "text": [
      "\u001b[32m[I 2023-01-16 08:12:47,298]\u001b[0m Trial 266 finished with value: 0.8914185002326823 and parameters: {'max_depth': 4, 'n_estimators': 86, 'eta': 0.086522616404513, 'subsample': 0.5083101461750138, 'colsample_bytree': 0.7642646002073223, 'reg_lambda': 13.620744976745975}. Best is trial 256 with value: 0.9018535118196568.\u001b[0m\n"
     ]
    },
    {
     "name": "stdout",
     "output_type": "stream",
     "text": [
      "0.8914185002326823\n"
     ]
    },
    {
     "name": "stderr",
     "output_type": "stream",
     "text": [
      "\u001b[32m[I 2023-01-16 08:12:47,763]\u001b[0m Trial 267 finished with value: 0.8999735328048425 and parameters: {'max_depth': 7, 'n_estimators': 92, 'eta': 0.08921898829793878, 'subsample': 0.5361318466313698, 'colsample_bytree': 0.8086401649197349, 'reg_lambda': 16.234119161571222}. Best is trial 256 with value: 0.9018535118196568.\u001b[0m\n"
     ]
    },
    {
     "name": "stdout",
     "output_type": "stream",
     "text": [
      "0.8999735328048425\n"
     ]
    },
    {
     "name": "stderr",
     "output_type": "stream",
     "text": [
      "\u001b[32m[I 2023-01-16 08:12:48,207]\u001b[0m Trial 268 finished with value: 0.8792435904602262 and parameters: {'max_depth': 7, 'n_estimators': 91, 'eta': 0.08960111572383317, 'subsample': 0.5332501668998343, 'colsample_bytree': 0.7246823190339553, 'reg_lambda': 16.10088947166349}. Best is trial 256 with value: 0.9018535118196568.\u001b[0m\n"
     ]
    },
    {
     "name": "stdout",
     "output_type": "stream",
     "text": [
      "0.8792435904602262\n"
     ]
    },
    {
     "name": "stderr",
     "output_type": "stream",
     "text": [
      "\u001b[32m[I 2023-01-16 08:12:48,669]\u001b[0m Trial 269 finished with value: 0.8795897517404034 and parameters: {'max_depth': 7, 'n_estimators': 93, 'eta': 0.09626549340484329, 'subsample': 0.4593907082160333, 'colsample_bytree': 0.6530560683463625, 'reg_lambda': 17.010858449408303}. Best is trial 256 with value: 0.9018535118196568.\u001b[0m\n"
     ]
    },
    {
     "name": "stdout",
     "output_type": "stream",
     "text": [
      "0.8795897517404034\n"
     ]
    },
    {
     "name": "stderr",
     "output_type": "stream",
     "text": [
      "\u001b[32m[I 2023-01-16 08:12:49,085]\u001b[0m Trial 270 finished with value: 0.8866446398542082 and parameters: {'max_depth': 6, 'n_estimators': 89, 'eta': 0.0880506694675036, 'subsample': 0.5447721849367048, 'colsample_bytree': 0.7795668276678248, 'reg_lambda': 15.039467190760533}. Best is trial 256 with value: 0.9018535118196568.\u001b[0m\n"
     ]
    },
    {
     "name": "stdout",
     "output_type": "stream",
     "text": [
      "0.8866446398542082\n"
     ]
    },
    {
     "name": "stderr",
     "output_type": "stream",
     "text": [
      "\u001b[32m[I 2023-01-16 08:12:49,503]\u001b[0m Trial 271 finished with value: 0.8760789759552603 and parameters: {'max_depth': 6, 'n_estimators': 93, 'eta': 0.08438109431285284, 'subsample': 0.5198312940241656, 'colsample_bytree': 0.7472176252564704, 'reg_lambda': 16.123443992408394}. Best is trial 256 with value: 0.9018535118196568.\u001b[0m\n"
     ]
    },
    {
     "name": "stdout",
     "output_type": "stream",
     "text": [
      "0.8760789759552603\n"
     ]
    },
    {
     "name": "stderr",
     "output_type": "stream",
     "text": [
      "\u001b[32m[I 2023-01-16 08:12:49,868]\u001b[0m Trial 272 finished with value: 0.8917663451766736 and parameters: {'max_depth': 5, 'n_estimators': 82, 'eta': 0.0936199833855127, 'subsample': 0.4938784745882984, 'colsample_bytree': 0.9840622515537968, 'reg_lambda': 19.075091373187384}. Best is trial 256 with value: 0.9018535118196568.\u001b[0m\n"
     ]
    },
    {
     "name": "stdout",
     "output_type": "stream",
     "text": [
      "0.8917663451766736\n"
     ]
    },
    {
     "name": "stderr",
     "output_type": "stream",
     "text": [
      "\u001b[32m[I 2023-01-16 08:12:50,446]\u001b[0m Trial 273 finished with value: 0.8819219628556824 and parameters: {'max_depth': 19, 'n_estimators': 92, 'eta': 0.08074967275551528, 'subsample': 0.566379011178734, 'colsample_bytree': 0.5669616760209124, 'reg_lambda': 18.334901150448648}. Best is trial 256 with value: 0.9018535118196568.\u001b[0m\n"
     ]
    },
    {
     "name": "stdout",
     "output_type": "stream",
     "text": [
      "0.8819219628556824\n"
     ]
    },
    {
     "name": "stderr",
     "output_type": "stream",
     "text": [
      "\u001b[32m[I 2023-01-16 08:12:50,818]\u001b[0m Trial 274 finished with value: 0.9017757265514457 and parameters: {'max_depth': 5, 'n_estimators': 85, 'eta': 0.09126278826496631, 'subsample': 0.5368449357100528, 'colsample_bytree': 0.962714768266802, 'reg_lambda': 15.641597322535036}. Best is trial 256 with value: 0.9018535118196568.\u001b[0m\n"
     ]
    },
    {
     "name": "stdout",
     "output_type": "stream",
     "text": [
      "0.9017757265514457\n"
     ]
    },
    {
     "name": "stderr",
     "output_type": "stream",
     "text": [
      "\u001b[32m[I 2023-01-16 08:12:51,190]\u001b[0m Trial 275 finished with value: 0.8781380967998939 and parameters: {'max_depth': 5, 'n_estimators': 85, 'eta': 0.08686632383137309, 'subsample': 0.5332379933539092, 'colsample_bytree': 0.964487265920068, 'reg_lambda': 15.639302956699899}. Best is trial 256 with value: 0.9018535118196568.\u001b[0m\n"
     ]
    },
    {
     "name": "stdout",
     "output_type": "stream",
     "text": [
      "0.8781380967998939\n"
     ]
    },
    {
     "name": "stderr",
     "output_type": "stream",
     "text": [
      "\u001b[32m[I 2023-01-16 08:12:51,570]\u001b[0m Trial 276 finished with value: 0.8865298139820872 and parameters: {'max_depth': 5, 'n_estimators': 88, 'eta': 0.0897425687893356, 'subsample': 0.5500430944380977, 'colsample_bytree': 0.9984118217014294, 'reg_lambda': 16.254207384715947}. Best is trial 256 with value: 0.9018535118196568.\u001b[0m\n"
     ]
    },
    {
     "name": "stdout",
     "output_type": "stream",
     "text": [
      "0.8865298139820872\n"
     ]
    },
    {
     "name": "stderr",
     "output_type": "stream",
     "text": [
      "\u001b[32m[I 2023-01-16 08:12:51,948]\u001b[0m Trial 277 finished with value: 0.8116465087210418 and parameters: {'max_depth': 7, 'n_estimators': 85, 'eta': 0.0044053111041546696, 'subsample': 0.5129287220882063, 'colsample_bytree': 0.8014023945910896, 'reg_lambda': 17.17236695464954}. Best is trial 256 with value: 0.9018535118196568.\u001b[0m\n"
     ]
    },
    {
     "name": "stdout",
     "output_type": "stream",
     "text": [
      "0.8116465087210418\n"
     ]
    },
    {
     "name": "stderr",
     "output_type": "stream",
     "text": [
      "\u001b[32m[I 2023-01-16 08:12:52,347]\u001b[0m Trial 278 finished with value: 0.8801635443682456 and parameters: {'max_depth': 6, 'n_estimators': 82, 'eta': 0.08361920570144779, 'subsample': 0.5652739290775969, 'colsample_bytree': 0.6698462118103632, 'reg_lambda': 16.73715848394393}. Best is trial 256 with value: 0.9018535118196568.\u001b[0m\n"
     ]
    },
    {
     "name": "stdout",
     "output_type": "stream",
     "text": [
      "0.8801635443682456\n"
     ]
    },
    {
     "name": "stderr",
     "output_type": "stream",
     "text": [
      "\u001b[32m[I 2023-01-16 08:12:52,731]\u001b[0m Trial 279 finished with value: 0.8831624863539047 and parameters: {'max_depth': 5, 'n_estimators': 90, 'eta': 0.0883158035195181, 'subsample': 0.5237032463954469, 'colsample_bytree': 0.9725546918439654, 'reg_lambda': 15.088421819855538}. Best is trial 256 with value: 0.9018535118196568.\u001b[0m\n"
     ]
    },
    {
     "name": "stdout",
     "output_type": "stream",
     "text": [
      "0.8831624863539047\n"
     ]
    },
    {
     "name": "stderr",
     "output_type": "stream",
     "text": [
      "\u001b[32m[I 2023-01-16 08:12:53,324]\u001b[0m Trial 280 finished with value: 0.8896722041247069 and parameters: {'max_depth': 20, 'n_estimators': 79, 'eta': 0.08527367673347326, 'subsample': 0.5027619421127382, 'colsample_bytree': 0.9397206777958287, 'reg_lambda': 4.6828326378702565}. Best is trial 256 with value: 0.9018535118196568.\u001b[0m\n"
     ]
    },
    {
     "name": "stdout",
     "output_type": "stream",
     "text": [
      "0.8896722041247069\n"
     ]
    },
    {
     "name": "stderr",
     "output_type": "stream",
     "text": [
      "\u001b[32m[I 2023-01-16 08:12:53,779]\u001b[0m Trial 281 finished with value: 0.8885333739208556 and parameters: {'max_depth': 6, 'n_estimators': 95, 'eta': 0.09175369394390609, 'subsample': 0.5402228178081242, 'colsample_bytree': 0.8609730714609153, 'reg_lambda': 15.521903123292212}. Best is trial 256 with value: 0.9018535118196568.\u001b[0m\n"
     ]
    },
    {
     "name": "stdout",
     "output_type": "stream",
     "text": [
      "0.8885333739208556\n"
     ]
    },
    {
     "name": "stderr",
     "output_type": "stream",
     "text": [
      "\u001b[32m[I 2023-01-16 08:12:54,146]\u001b[0m Trial 282 finished with value: 0.88667831313049 and parameters: {'max_depth': 5, 'n_estimators': 87, 'eta': 0.03301888991275678, 'subsample': 0.4765272011917372, 'colsample_bytree': 0.9517027539268545, 'reg_lambda': 17.463709638668288}. Best is trial 256 with value: 0.9018535118196568.\u001b[0m\n"
     ]
    },
    {
     "name": "stdout",
     "output_type": "stream",
     "text": [
      "0.88667831313049\n"
     ]
    },
    {
     "name": "stderr",
     "output_type": "stream",
     "text": [
      "\u001b[32m[I 2023-01-16 08:12:54,556]\u001b[0m Trial 283 finished with value: 0.8888128621139949 and parameters: {'max_depth': 5, 'n_estimators': 98, 'eta': 0.0952506123444612, 'subsample': 0.5722513838911742, 'colsample_bytree': 0.8287361788506494, 'reg_lambda': 16.519560729311788}. Best is trial 256 with value: 0.9018535118196568.\u001b[0m\n"
     ]
    },
    {
     "name": "stdout",
     "output_type": "stream",
     "text": [
      "0.8888128621139949\n"
     ]
    },
    {
     "name": "stderr",
     "output_type": "stream",
     "text": [
      "\u001b[32m[I 2023-01-16 08:12:54,799]\u001b[0m Trial 284 finished with value: 0.880264900929854 and parameters: {'max_depth': 6, 'n_estimators': 42, 'eta': 0.08202525701796132, 'subsample': 0.5429401228781326, 'colsample_bytree': 0.9602082900785193, 'reg_lambda': 3.961121320903624}. Best is trial 256 with value: 0.9018535118196568.\u001b[0m\n"
     ]
    },
    {
     "name": "stdout",
     "output_type": "stream",
     "text": [
      "0.880264900929854\n"
     ]
    },
    {
     "name": "stderr",
     "output_type": "stream",
     "text": [
      "\u001b[32m[I 2023-01-16 08:12:55,122]\u001b[0m Trial 285 finished with value: 0.8878356636362963 and parameters: {'max_depth': 4, 'n_estimators': 84, 'eta': 0.0991433956254888, 'subsample': 0.5015468388766744, 'colsample_bytree': 0.7035558828496983, 'reg_lambda': 5.125341582304567}. Best is trial 256 with value: 0.9018535118196568.\u001b[0m\n"
     ]
    },
    {
     "name": "stdout",
     "output_type": "stream",
     "text": [
      "0.8878356636362963\n"
     ]
    },
    {
     "name": "stderr",
     "output_type": "stream",
     "text": [
      "\u001b[32m[I 2023-01-16 08:12:55,716]\u001b[0m Trial 286 finished with value: 0.8883879053673183 and parameters: {'max_depth': 14, 'n_estimators': 89, 'eta': 0.0867193737007741, 'subsample': 0.5277204337781731, 'colsample_bytree': 0.853760322359149, 'reg_lambda': 14.067093816428631}. Best is trial 256 with value: 0.9018535118196568.\u001b[0m\n"
     ]
    },
    {
     "name": "stdout",
     "output_type": "stream",
     "text": [
      "0.8883879053673183\n"
     ]
    },
    {
     "name": "stderr",
     "output_type": "stream",
     "text": [
      "\u001b[32m[I 2023-01-16 08:12:56,389]\u001b[0m Trial 287 finished with value: 0.8973247928925143 and parameters: {'max_depth': 18, 'n_estimators': 92, 'eta': 0.0898602661328936, 'subsample': 0.5845237146464332, 'colsample_bytree': 0.6821296226025924, 'reg_lambda': 14.779275079832383}. Best is trial 256 with value: 0.9018535118196568.\u001b[0m\n"
     ]
    },
    {
     "name": "stdout",
     "output_type": "stream",
     "text": [
      "0.8973247928925143\n"
     ]
    },
    {
     "name": "stderr",
     "output_type": "stream",
     "text": [
      "\u001b[32m[I 2023-01-16 08:12:56,969]\u001b[0m Trial 288 finished with value: 0.8842380107983462 and parameters: {'max_depth': 17, 'n_estimators': 90, 'eta': 0.08985087903886128, 'subsample': 0.4809684439801393, 'colsample_bytree': 0.6873480203826662, 'reg_lambda': 14.650805238866537}. Best is trial 256 with value: 0.9018535118196568.\u001b[0m\n"
     ]
    },
    {
     "name": "stdout",
     "output_type": "stream",
     "text": [
      "0.8842380107983462\n"
     ]
    },
    {
     "name": "stderr",
     "output_type": "stream",
     "text": [
      "\u001b[32m[I 2023-01-16 08:12:57,581]\u001b[0m Trial 289 finished with value: 0.8832584551913081 and parameters: {'max_depth': 18, 'n_estimators': 92, 'eta': 0.09309299449797956, 'subsample': 0.5863895585154373, 'colsample_bytree': 0.6737927217844938, 'reg_lambda': 15.714671344935546}. Best is trial 256 with value: 0.9018535118196568.\u001b[0m\n"
     ]
    },
    {
     "name": "stdout",
     "output_type": "stream",
     "text": [
      "0.8832584551913081\n"
     ]
    },
    {
     "name": "stderr",
     "output_type": "stream",
     "text": [
      "\u001b[32m[I 2023-01-16 08:12:58,117]\u001b[0m Trial 290 finished with value: 0.8898998354723722 and parameters: {'max_depth': 18, 'n_estimators': 86, 'eta': 0.09053047224399774, 'subsample': 0.5546560377502324, 'colsample_bytree': 0.6978276236690407, 'reg_lambda': 24.902810819197}. Best is trial 256 with value: 0.9018535118196568.\u001b[0m\n"
     ]
    },
    {
     "name": "stdout",
     "output_type": "stream",
     "text": [
      "0.8898998354723722\n"
     ]
    },
    {
     "name": "stderr",
     "output_type": "stream",
     "text": [
      "\u001b[32m[I 2023-01-16 08:12:58,652]\u001b[0m Trial 291 finished with value: 0.8753455719978424 and parameters: {'max_depth': 18, 'n_estimators': 83, 'eta': 0.08850627331907202, 'subsample': 0.5163098953984743, 'colsample_bytree': 0.7290690534709163, 'reg_lambda': 19.589997910893686}. Best is trial 256 with value: 0.9018535118196568.\u001b[0m\n"
     ]
    },
    {
     "name": "stdout",
     "output_type": "stream",
     "text": [
      "0.8753455719978424\n"
     ]
    },
    {
     "name": "stderr",
     "output_type": "stream",
     "text": [
      "\u001b[32m[I 2023-01-16 08:12:59,007]\u001b[0m Trial 292 finished with value: 0.8806878372799536 and parameters: {'max_depth': 5, 'n_estimators': 81, 'eta': 0.09677905739325289, 'subsample': 0.5023088640867316, 'colsample_bytree': 0.6502772591084546, 'reg_lambda': 14.96691603086121}. Best is trial 256 with value: 0.9018535118196568.\u001b[0m\n"
     ]
    },
    {
     "name": "stdout",
     "output_type": "stream",
     "text": [
      "0.8806878372799536\n"
     ]
    },
    {
     "name": "stderr",
     "output_type": "stream",
     "text": [
      "\u001b[32m[I 2023-01-16 08:12:59,405]\u001b[0m Trial 293 finished with value: 0.8178531670053075 and parameters: {'max_depth': 19, 'n_estimators': 87, 'eta': 0.0017144891580456803, 'subsample': 0.612032305729479, 'colsample_bytree': 0.8010147235391933, 'reg_lambda': 15.700606958064862}. Best is trial 256 with value: 0.9018535118196568.\u001b[0m\n"
     ]
    },
    {
     "name": "stdout",
     "output_type": "stream",
     "text": [
      "0.8178531670053075\n"
     ]
    },
    {
     "name": "stderr",
     "output_type": "stream",
     "text": [
      "\u001b[32m[I 2023-01-16 08:12:59,809]\u001b[0m Trial 294 finished with value: 0.8772757241943163 and parameters: {'max_depth': 6, 'n_estimators': 85, 'eta': 0.08523094113097371, 'subsample': 0.959781163070188, 'colsample_bytree': 0.7513608828043665, 'reg_lambda': 17.823461147069853}. Best is trial 256 with value: 0.9018535118196568.\u001b[0m\n"
     ]
    },
    {
     "name": "stdout",
     "output_type": "stream",
     "text": [
      "0.8772757241943163\n"
     ]
    },
    {
     "name": "stderr",
     "output_type": "stream",
     "text": [
      "\u001b[32m[I 2023-01-16 08:13:00,186]\u001b[0m Trial 295 finished with value: 0.8782643715859507 and parameters: {'max_depth': 18, 'n_estimators': 40, 'eta': 0.09366733729206694, 'subsample': 0.5505968600286132, 'colsample_bytree': 0.7847139517658086, 'reg_lambda': 2.1144651351590826}. Best is trial 256 with value: 0.9018535118196568.\u001b[0m\n"
     ]
    },
    {
     "name": "stdout",
     "output_type": "stream",
     "text": [
      "0.8782643715859507\n"
     ]
    },
    {
     "name": "stderr",
     "output_type": "stream",
     "text": [
      "\u001b[32m[I 2023-01-16 08:13:00,596]\u001b[0m Trial 296 finished with value: 0.8817643719226835 and parameters: {'max_depth': 4, 'n_estimators': 89, 'eta': 0.08237203253702317, 'subsample': 0.5314650409288069, 'colsample_bytree': 0.8201555869897089, 'reg_lambda': 20.920075175663353}. Best is trial 256 with value: 0.9018535118196568.\u001b[0m\n"
     ]
    },
    {
     "name": "stdout",
     "output_type": "stream",
     "text": [
      "0.8817643719226835\n"
     ]
    },
    {
     "name": "stderr",
     "output_type": "stream",
     "text": [
      "\u001b[32m[I 2023-01-16 08:13:00,853]\u001b[0m Trial 297 finished with value: 0.8752078482978496 and parameters: {'max_depth': 5, 'n_estimators': 46, 'eta': 0.08004866050506122, 'subsample': 0.48845261148204444, 'colsample_bytree': 0.7161375315531827, 'reg_lambda': 3.9970539873312716}. Best is trial 256 with value: 0.9018535118196568.\u001b[0m\n"
     ]
    },
    {
     "name": "stdout",
     "output_type": "stream",
     "text": [
      "0.8752078482978496\n"
     ]
    },
    {
     "name": "stderr",
     "output_type": "stream",
     "text": [
      "\u001b[32m[I 2023-01-16 08:13:01,283]\u001b[0m Trial 298 finished with value: 0.8832261288460774 and parameters: {'max_depth': 5, 'n_estimators': 93, 'eta': 0.10253863751445545, 'subsample': 0.5894695943335074, 'colsample_bytree': 0.6879795729293203, 'reg_lambda': 14.25668001100381}. Best is trial 256 with value: 0.9018535118196568.\u001b[0m\n"
     ]
    },
    {
     "name": "stdout",
     "output_type": "stream",
     "text": [
      "0.8832261288460774\n"
     ]
    },
    {
     "name": "stderr",
     "output_type": "stream",
     "text": [
      "\u001b[32m[I 2023-01-16 08:13:01,640]\u001b[0m Trial 299 finished with value: 0.8110168184545716 and parameters: {'max_depth': 4, 'n_estimators': 88, 'eta': 0.008333122704918875, 'subsample': 0.4683971464129095, 'colsample_bytree': 0.7573159795612915, 'reg_lambda': 16.5317579715126}. Best is trial 256 with value: 0.9018535118196568.\u001b[0m\n"
     ]
    },
    {
     "name": "stdout",
     "output_type": "stream",
     "text": [
      "0.8110168184545716\n"
     ]
    },
    {
     "name": "stderr",
     "output_type": "stream",
     "text": [
      "\u001b[32m[I 2023-01-16 08:13:02,406]\u001b[0m Trial 300 finished with value: 0.8792866922538669 and parameters: {'max_depth': 18, 'n_estimators': 91, 'eta': 0.0876404335968002, 'subsample': 0.5618660636607218, 'colsample_bytree': 0.8091266714878307, 'reg_lambda': 3.1686739272805236}. Best is trial 256 with value: 0.9018535118196568.\u001b[0m\n"
     ]
    },
    {
     "name": "stdout",
     "output_type": "stream",
     "text": [
      "0.8792866922538669\n"
     ]
    },
    {
     "name": "stderr",
     "output_type": "stream",
     "text": [
      "\u001b[32m[I 2023-01-16 08:13:03,070]\u001b[0m Trial 301 finished with value: 0.872635883455444 and parameters: {'max_depth': 19, 'n_estimators': 84, 'eta': 0.09134478370543438, 'subsample': 0.5171473598151006, 'colsample_bytree': 0.8404756535587793, 'reg_lambda': 4.7775337067626324}. Best is trial 256 with value: 0.9018535118196568.\u001b[0m\n"
     ]
    },
    {
     "name": "stdout",
     "output_type": "stream",
     "text": [
      "0.872635883455444\n"
     ]
    },
    {
     "name": "stderr",
     "output_type": "stream",
     "text": [
      "\u001b[32m[I 2023-01-16 08:13:03,479]\u001b[0m Trial 302 finished with value: 0.877717517579134 and parameters: {'max_depth': 5, 'n_estimators': 94, 'eta': 0.08565546389809242, 'subsample': 0.5421514514481325, 'colsample_bytree': 0.7842471561866112, 'reg_lambda': 16.208335646554232}. Best is trial 256 with value: 0.9018535118196568.\u001b[0m\n"
     ]
    },
    {
     "name": "stdout",
     "output_type": "stream",
     "text": [
      "0.877717517579134\n"
     ]
    },
    {
     "name": "stderr",
     "output_type": "stream",
     "text": [
      "\u001b[32m[I 2023-01-16 08:13:03,920]\u001b[0m Trial 303 finished with value: 0.8958788624089726 and parameters: {'max_depth': 7, 'n_estimators': 86, 'eta': 0.08931798704048192, 'subsample': 0.5796624120729766, 'colsample_bytree': 0.7268926249069209, 'reg_lambda': 22.079690498247274}. Best is trial 256 with value: 0.9018535118196568.\u001b[0m\n"
     ]
    },
    {
     "name": "stdout",
     "output_type": "stream",
     "text": [
      "0.8958788624089726\n"
     ]
    },
    {
     "name": "stderr",
     "output_type": "stream",
     "text": [
      "\u001b[32m[I 2023-01-16 08:13:04,367]\u001b[0m Trial 304 finished with value: 0.8842750514022563 and parameters: {'max_depth': 7, 'n_estimators': 87, 'eta': 0.09041698728641662, 'subsample': 0.5796257964850324, 'colsample_bytree': 0.7495945640797422, 'reg_lambda': 22.93241319717996}. Best is trial 256 with value: 0.9018535118196568.\u001b[0m\n"
     ]
    },
    {
     "name": "stdout",
     "output_type": "stream",
     "text": [
      "0.8842750514022563\n"
     ]
    },
    {
     "name": "stderr",
     "output_type": "stream",
     "text": [
      "\u001b[32m[I 2023-01-16 08:13:04,827]\u001b[0m Trial 305 finished with value: 0.8870901372994168 and parameters: {'max_depth': 7, 'n_estimators': 89, 'eta': 0.08893487242138373, 'subsample': 0.6245303422328388, 'colsample_bytree': 0.7347687551967605, 'reg_lambda': 22.033893340852114}. Best is trial 256 with value: 0.9018535118196568.\u001b[0m\n"
     ]
    },
    {
     "name": "stdout",
     "output_type": "stream",
     "text": [
      "0.8870901372994168\n"
     ]
    },
    {
     "name": "stderr",
     "output_type": "stream",
     "text": [
      "\u001b[32m[I 2023-01-16 08:13:05,096]\u001b[0m Trial 306 finished with value: 0.8877568681697967 and parameters: {'max_depth': 6, 'n_estimators': 44, 'eta': 0.09447770772872854, 'subsample': 0.6010726496074702, 'colsample_bytree': 0.7659377134862831, 'reg_lambda': 21.576779166938202}. Best is trial 256 with value: 0.9018535118196568.\u001b[0m\n"
     ]
    },
    {
     "name": "stdout",
     "output_type": "stream",
     "text": [
      "0.8877568681697967\n"
     ]
    },
    {
     "name": "stderr",
     "output_type": "stream",
     "text": [
      "\u001b[32m[I 2023-01-16 08:13:05,572]\u001b[0m Trial 307 finished with value: 0.8806363171672424 and parameters: {'max_depth': 8, 'n_estimators': 86, 'eta': 0.09249911153707548, 'subsample': 0.579970771587634, 'colsample_bytree': 0.7332487244814727, 'reg_lambda': 18.383027029703314}. Best is trial 256 with value: 0.9018535118196568.\u001b[0m\n"
     ]
    },
    {
     "name": "stdout",
     "output_type": "stream",
     "text": [
      "0.8806363171672424\n"
     ]
    },
    {
     "name": "stderr",
     "output_type": "stream",
     "text": [
      "\u001b[32m[I 2023-01-16 08:13:06,073]\u001b[0m Trial 308 finished with value: 0.8838073295947017 and parameters: {'max_depth': 8, 'n_estimators': 91, 'eta': 0.11060234437223543, 'subsample': 0.6492137955957915, 'colsample_bytree': 0.7948413936437777, 'reg_lambda': 22.65048134599532}. Best is trial 256 with value: 0.9018535118196568.\u001b[0m\n"
     ]
    },
    {
     "name": "stdout",
     "output_type": "stream",
     "text": [
      "0.8838073295947017\n"
     ]
    },
    {
     "name": "stderr",
     "output_type": "stream",
     "text": [
      "\u001b[32m[I 2023-01-16 08:13:06,445]\u001b[0m Trial 309 finished with value: 0.8939635264540626 and parameters: {'max_depth': 4, 'n_estimators': 97, 'eta': 0.06900736709822194, 'subsample': 0.5682294184588916, 'colsample_bytree': 0.827034920788606, 'reg_lambda': 21.207341598860474}. Best is trial 256 with value: 0.9018535118196568.\u001b[0m\n"
     ]
    },
    {
     "name": "stdout",
     "output_type": "stream",
     "text": [
      "0.8939635264540626\n"
     ]
    },
    {
     "name": "stderr",
     "output_type": "stream",
     "text": [
      "\u001b[32m[I 2023-01-16 08:13:06,817]\u001b[0m Trial 310 finished with value: 0.8803864614572312 and parameters: {'max_depth': 4, 'n_estimators': 98, 'eta': 0.06988972124750395, 'subsample': 0.5603912560157215, 'colsample_bytree': 0.8314298911450729, 'reg_lambda': 20.17373063955631}. Best is trial 256 with value: 0.9018535118196568.\u001b[0m\n"
     ]
    },
    {
     "name": "stdout",
     "output_type": "stream",
     "text": [
      "0.8803864614572312\n"
     ]
    },
    {
     "name": "stderr",
     "output_type": "stream",
     "text": [
      "\u001b[32m[I 2023-01-16 08:13:07,184]\u001b[0m Trial 311 finished with value: 0.8837867888961698 and parameters: {'max_depth': 4, 'n_estimators': 95, 'eta': 0.07142829389753272, 'subsample': 0.6093316227642422, 'colsample_bytree': 0.8115716335266221, 'reg_lambda': 15.031621672776305}. Best is trial 256 with value: 0.9018535118196568.\u001b[0m\n"
     ]
    },
    {
     "name": "stdout",
     "output_type": "stream",
     "text": [
      "0.8837867888961698\n"
     ]
    },
    {
     "name": "stderr",
     "output_type": "stream",
     "text": [
      "\u001b[32m[I 2023-01-16 08:13:07,557]\u001b[0m Trial 312 finished with value: 0.8761900977669903 and parameters: {'max_depth': 4, 'n_estimators': 100, 'eta': 0.08735669070690188, 'subsample': 0.5699285844001183, 'colsample_bytree': 0.6284992170999579, 'reg_lambda': 17.146867472271587}. Best is trial 256 with value: 0.9018535118196568.\u001b[0m\n"
     ]
    },
    {
     "name": "stdout",
     "output_type": "stream",
     "text": [
      "0.8761900977669903\n"
     ]
    },
    {
     "name": "stderr",
     "output_type": "stream",
     "text": [
      "\u001b[32m[I 2023-01-16 08:13:07,929]\u001b[0m Trial 313 finished with value: 0.8908928603899231 and parameters: {'max_depth': 4, 'n_estimators': 97, 'eta': 0.06724716300502048, 'subsample': 0.591336020917462, 'colsample_bytree': 0.8513121729021071, 'reg_lambda': 15.820554791372588}. Best is trial 256 with value: 0.9018535118196568.\u001b[0m\n"
     ]
    },
    {
     "name": "stdout",
     "output_type": "stream",
     "text": [
      "0.8908928603899231\n"
     ]
    },
    {
     "name": "stderr",
     "output_type": "stream",
     "text": [
      "\u001b[32m[I 2023-01-16 08:13:08,695]\u001b[0m Trial 314 finished with value: 0.8688641397791168 and parameters: {'max_depth': 13, 'n_estimators': 97, 'eta': 0.06681312452353379, 'subsample': 0.5559691346580055, 'colsample_bytree': 0.8240433540942707, 'reg_lambda': 1.7399242654079745}. Best is trial 256 with value: 0.9018535118196568.\u001b[0m\n"
     ]
    },
    {
     "name": "stdout",
     "output_type": "stream",
     "text": [
      "0.8688641397791168\n"
     ]
    },
    {
     "name": "stderr",
     "output_type": "stream",
     "text": [
      "\u001b[32m[I 2023-01-16 08:13:09,104]\u001b[0m Trial 315 finished with value: 0.8857152574288298 and parameters: {'max_depth': 4, 'n_estimators': 95, 'eta': 0.0689134390273344, 'subsample': 0.5383134999055543, 'colsample_bytree': 0.7756590657504695, 'reg_lambda': 19.073464580991732}. Best is trial 256 with value: 0.9018535118196568.\u001b[0m\n"
     ]
    },
    {
     "name": "stdout",
     "output_type": "stream",
     "text": [
      "0.8857152574288298\n"
     ]
    },
    {
     "name": "stderr",
     "output_type": "stream",
     "text": [
      "\u001b[32m[I 2023-01-16 08:13:09,405]\u001b[0m Trial 316 finished with value: 0.8771716737706056 and parameters: {'max_depth': 7, 'n_estimators': 51, 'eta': 0.08443928017982846, 'subsample': 0.5835804974985199, 'colsample_bytree': 0.8726085668637746, 'reg_lambda': 14.29624211495109}. Best is trial 256 with value: 0.9018535118196568.\u001b[0m\n"
     ]
    },
    {
     "name": "stdout",
     "output_type": "stream",
     "text": [
      "0.8771716737706056\n"
     ]
    },
    {
     "name": "stderr",
     "output_type": "stream",
     "text": [
      "\u001b[32m[I 2023-01-16 08:13:09,803]\u001b[0m Trial 317 finished with value: 0.8785623800810449 and parameters: {'max_depth': 4, 'n_estimators': 93, 'eta': 0.08845590903550811, 'subsample': 0.5591339243962707, 'colsample_bytree': 0.7962151853115997, 'reg_lambda': 17.26401837698842}. Best is trial 256 with value: 0.9018535118196568.\u001b[0m\n"
     ]
    },
    {
     "name": "stdout",
     "output_type": "stream",
     "text": [
      "0.8785623800810449\n"
     ]
    },
    {
     "name": "stderr",
     "output_type": "stream",
     "text": [
      "\u001b[32m[I 2023-01-16 08:13:10,076]\u001b[0m Trial 318 finished with value: 0.880181391204675 and parameters: {'max_depth': 12, 'n_estimators': 34, 'eta': 0.07293145977045404, 'subsample': 0.6021834662762285, 'colsample_bytree': 0.7123069448708979, 'reg_lambda': 20.665005386463275}. Best is trial 256 with value: 0.9018535118196568.\u001b[0m\n"
     ]
    },
    {
     "name": "stdout",
     "output_type": "stream",
     "text": [
      "0.880181391204675\n"
     ]
    },
    {
     "name": "stderr",
     "output_type": "stream",
     "text": [
      "\u001b[32m[I 2023-01-16 08:13:10,557]\u001b[0m Trial 319 finished with value: 0.8876039914954774 and parameters: {'max_depth': 5, 'n_estimators': 99, 'eta': 0.09026173029239183, 'subsample': 0.5313785554693309, 'colsample_bytree': 0.8103839941120173, 'reg_lambda': 24.22281602269242}. Best is trial 256 with value: 0.9018535118196568.\u001b[0m\n"
     ]
    },
    {
     "name": "stdout",
     "output_type": "stream",
     "text": [
      "0.8876039914954774\n"
     ]
    },
    {
     "name": "stderr",
     "output_type": "stream",
     "text": [
      "\u001b[32m[I 2023-01-16 08:13:10,821]\u001b[0m Trial 320 finished with value: 0.8776589260784036 and parameters: {'max_depth': 6, 'n_estimators': 42, 'eta': 0.086285878771385, 'subsample': 0.5767200607541426, 'colsample_bytree': 0.842952751599497, 'reg_lambda': 15.241866853170588}. Best is trial 256 with value: 0.9018535118196568.\u001b[0m\n"
     ]
    },
    {
     "name": "stdout",
     "output_type": "stream",
     "text": [
      "0.8776589260784036\n"
     ]
    },
    {
     "name": "stderr",
     "output_type": "stream",
     "text": [
      "\u001b[32m[I 2023-01-16 08:13:11,153]\u001b[0m Trial 321 finished with value: 0.8832257921133148 and parameters: {'max_depth': 4, 'n_estimators': 80, 'eta': 0.09143283348032155, 'subsample': 0.5406191211066728, 'colsample_bytree': 0.7684958488061022, 'reg_lambda': 2.4581470314227776}. Best is trial 256 with value: 0.9018535118196568.\u001b[0m\n"
     ]
    },
    {
     "name": "stdout",
     "output_type": "stream",
     "text": [
      "0.8832257921133148\n"
     ]
    },
    {
     "name": "stderr",
     "output_type": "stream",
     "text": [
      "\u001b[32m[I 2023-01-16 08:13:11,576]\u001b[0m Trial 322 finished with value: 0.8712037590151779 and parameters: {'max_depth': 5, 'n_estimators': 85, 'eta': 0.08880734641127087, 'subsample': 0.5559211083961493, 'colsample_bytree': 0.7523227073440992, 'reg_lambda': 13.686353020096684}. Best is trial 256 with value: 0.9018535118196568.\u001b[0m\n"
     ]
    },
    {
     "name": "stdout",
     "output_type": "stream",
     "text": [
      "0.8712037590151779\n"
     ]
    },
    {
     "name": "stderr",
     "output_type": "stream",
     "text": [
      "\u001b[32m[I 2023-01-16 08:13:11,917]\u001b[0m Trial 323 finished with value: 0.8780997092649326 and parameters: {'max_depth': 4, 'n_estimators': 83, 'eta': 0.08378141348152697, 'subsample': 0.6243323576522817, 'colsample_bytree': 0.7842287072758564, 'reg_lambda': 16.126230233480257}. Best is trial 256 with value: 0.9018535118196568.\u001b[0m\n"
     ]
    },
    {
     "name": "stdout",
     "output_type": "stream",
     "text": [
      "0.8780997092649326\n"
     ]
    },
    {
     "name": "stderr",
     "output_type": "stream",
     "text": [
      "\u001b[32m[I 2023-01-16 08:13:12,357]\u001b[0m Trial 324 finished with value: 0.8850939854814301 and parameters: {'max_depth': 6, 'n_estimators': 91, 'eta': 0.08658775852545844, 'subsample': 0.5210322289719242, 'colsample_bytree': 0.7253424977134743, 'reg_lambda': 13.066974488851136}. Best is trial 256 with value: 0.9018535118196568.\u001b[0m\n"
     ]
    },
    {
     "name": "stdout",
     "output_type": "stream",
     "text": [
      "0.8850939854814301\n"
     ]
    },
    {
     "name": "stderr",
     "output_type": "stream",
     "text": [
      "\u001b[32m[I 2023-01-16 08:13:12,579]\u001b[0m Trial 325 finished with value: 0.879423405755571 and parameters: {'max_depth': 5, 'n_estimators': 37, 'eta': 0.07900601498845213, 'subsample': 0.5741222544188888, 'colsample_bytree': 0.8323226978891186, 'reg_lambda': 3.632208107738896}. Best is trial 256 with value: 0.9018535118196568.\u001b[0m\n"
     ]
    },
    {
     "name": "stdout",
     "output_type": "stream",
     "text": [
      "0.879423405755571\n"
     ]
    },
    {
     "name": "stderr",
     "output_type": "stream",
     "text": [
      "\u001b[32m[I 2023-01-16 08:13:12,976]\u001b[0m Trial 326 finished with value: 0.8760668535757988 and parameters: {'max_depth': 15, 'n_estimators': 96, 'eta': 0.05919118479931294, 'subsample': 0.5483071615898572, 'colsample_bytree': 0.26363534113318327, 'reg_lambda': 29.27782490530054}. Best is trial 256 with value: 0.9018535118196568.\u001b[0m\n"
     ]
    },
    {
     "name": "stdout",
     "output_type": "stream",
     "text": [
      "0.8760668535757988\n"
     ]
    },
    {
     "name": "stderr",
     "output_type": "stream",
     "text": [
      "\u001b[32m[I 2023-01-16 08:13:13,375]\u001b[0m Trial 327 finished with value: 0.8800783509792525 and parameters: {'max_depth': 13, 'n_estimators': 49, 'eta': 0.09200502423435705, 'subsample': 0.5966570826121335, 'colsample_bytree': 0.8044748355655278, 'reg_lambda': 5.3500353149500395}. Best is trial 256 with value: 0.9018535118196568.\u001b[0m\n"
     ]
    },
    {
     "name": "stdout",
     "output_type": "stream",
     "text": [
      "0.8800783509792525\n"
     ]
    },
    {
     "name": "stderr",
     "output_type": "stream",
     "text": [
      "\u001b[32m[I 2023-01-16 08:13:13,786]\u001b[0m Trial 328 finished with value: 0.8776212120089678 and parameters: {'max_depth': 6, 'n_estimators': 86, 'eta': 0.0745750963384689, 'subsample': 0.5271198142582438, 'colsample_bytree': 0.608888489768956, 'reg_lambda': 16.783060143169486}. Best is trial 256 with value: 0.9018535118196568.\u001b[0m\n"
     ]
    },
    {
     "name": "stdout",
     "output_type": "stream",
     "text": [
      "0.8776212120089678\n"
     ]
    },
    {
     "name": "stderr",
     "output_type": "stream",
     "text": [
      "\u001b[32m[I 2023-01-16 08:13:14,214]\u001b[0m Trial 329 finished with value: 0.8843511530066531 and parameters: {'max_depth': 5, 'n_estimators': 93, 'eta': 0.08818022657036631, 'subsample': 0.5059069709248732, 'colsample_bytree': 0.7622182550664425, 'reg_lambda': 17.95906613475988}. Best is trial 256 with value: 0.9018535118196568.\u001b[0m\n"
     ]
    },
    {
     "name": "stdout",
     "output_type": "stream",
     "text": [
      "0.8843511530066531\n"
     ]
    },
    {
     "name": "stderr",
     "output_type": "stream",
     "text": [
      "\u001b[32m[I 2023-01-16 08:13:14,572]\u001b[0m Trial 330 finished with value: 0.8899436107315385 and parameters: {'max_depth': 4, 'n_estimators': 89, 'eta': 0.08372966051392582, 'subsample': 0.5640632400614659, 'colsample_bytree': 0.8204202477038242, 'reg_lambda': 1.626152016054871}. Best is trial 256 with value: 0.9018535118196568.\u001b[0m\n"
     ]
    },
    {
     "name": "stdout",
     "output_type": "stream",
     "text": [
      "0.8899436107315385\n"
     ]
    },
    {
     "name": "stderr",
     "output_type": "stream",
     "text": [
      "\u001b[32m[I 2023-01-16 08:13:14,874]\u001b[0m Trial 331 finished with value: 0.8886397814739062 and parameters: {'max_depth': 12, 'n_estimators': 40, 'eta': 0.08938740487752943, 'subsample': 0.4584698313298632, 'colsample_bytree': 0.8569596736116486, 'reg_lambda': 14.552109496537417}. Best is trial 256 with value: 0.9018535118196568.\u001b[0m\n"
     ]
    },
    {
     "name": "stdout",
     "output_type": "stream",
     "text": [
      "0.8886397814739062\n"
     ]
    },
    {
     "name": "stderr",
     "output_type": "stream",
     "text": [
      "\u001b[32m[I 2023-01-16 08:13:15,306]\u001b[0m Trial 332 finished with value: 0.8907480653019112 and parameters: {'max_depth': 5, 'n_estimators': 100, 'eta': 0.07003786781960394, 'subsample': 0.5421866752416903, 'colsample_bytree': 0.7888170712993839, 'reg_lambda': 3.0540340189877067}. Best is trial 256 with value: 0.9018535118196568.\u001b[0m\n"
     ]
    },
    {
     "name": "stdout",
     "output_type": "stream",
     "text": [
      "0.8907480653019112\n"
     ]
    },
    {
     "name": "stderr",
     "output_type": "stream",
     "text": [
      "\u001b[32m[I 2023-01-16 08:13:15,880]\u001b[0m Trial 333 finished with value: 0.8807696633413183 and parameters: {'max_depth': 13, 'n_estimators': 82, 'eta': 0.08532731230442618, 'subsample': 0.5852221872316277, 'colsample_bytree': 0.737125016723668, 'reg_lambda': 12.779453149058947}. Best is trial 256 with value: 0.9018535118196568.\u001b[0m\n"
     ]
    },
    {
     "name": "stdout",
     "output_type": "stream",
     "text": [
      "0.8807696633413183\n"
     ]
    },
    {
     "name": "stderr",
     "output_type": "stream",
     "text": [
      "\u001b[32m[I 2023-01-16 08:13:16,128]\u001b[0m Trial 334 finished with value: 0.8835349127895817 and parameters: {'max_depth': 5, 'n_estimators': 46, 'eta': 0.09261859340158425, 'subsample': 0.5202427088876972, 'colsample_bytree': 0.7099210369801721, 'reg_lambda': 15.492870327943587}. Best is trial 256 with value: 0.9018535118196568.\u001b[0m\n"
     ]
    },
    {
     "name": "stdout",
     "output_type": "stream",
     "text": [
      "0.8835349127895817\n"
     ]
    },
    {
     "name": "stderr",
     "output_type": "stream",
     "text": [
      "\u001b[32m[I 2023-01-16 08:13:16,573]\u001b[0m Trial 335 finished with value: 0.8931701840648628 and parameters: {'max_depth': 7, 'n_estimators': 84, 'eta': 0.06433912329441828, 'subsample': 0.4858517440841161, 'colsample_bytree': 0.7729560420996622, 'reg_lambda': 21.09504484287477}. Best is trial 256 with value: 0.9018535118196568.\u001b[0m\n"
     ]
    },
    {
     "name": "stdout",
     "output_type": "stream",
     "text": [
      "0.8931701840648628\n"
     ]
    },
    {
     "name": "stderr",
     "output_type": "stream",
     "text": [
      "\u001b[32m[I 2023-01-16 08:13:17,019]\u001b[0m Trial 336 finished with value: 0.8856862984112275 and parameters: {'max_depth': 7, 'n_estimators': 85, 'eta': 0.06221779908665996, 'subsample': 0.4892146898917365, 'colsample_bytree': 0.7496030795550283, 'reg_lambda': 21.315442904693388}. Best is trial 256 with value: 0.9018535118196568.\u001b[0m\n"
     ]
    },
    {
     "name": "stdout",
     "output_type": "stream",
     "text": [
      "0.8856862984112275\n"
     ]
    },
    {
     "name": "stderr",
     "output_type": "stream",
     "text": [
      "\u001b[32m[I 2023-01-16 08:13:17,477]\u001b[0m Trial 337 finished with value: 0.9016171254201584 and parameters: {'max_depth': 8, 'n_estimators': 84, 'eta': 0.07157484875311909, 'subsample': 0.47793731617363133, 'colsample_bytree': 0.7739148633318427, 'reg_lambda': 22.263602711055235}. Best is trial 256 with value: 0.9018535118196568.\u001b[0m\n"
     ]
    },
    {
     "name": "stdout",
     "output_type": "stream",
     "text": [
      "0.9016171254201584\n"
     ]
    },
    {
     "name": "stderr",
     "output_type": "stream",
     "text": [
      "\u001b[32m[I 2023-01-16 08:13:18,000]\u001b[0m Trial 338 finished with value: 0.8781852393866884 and parameters: {'max_depth': 9, 'n_estimators': 88, 'eta': 0.07264585423983497, 'subsample': 0.4434948036011763, 'colsample_bytree': 0.764628230558221, 'reg_lambda': 21.836140757802337}. Best is trial 256 with value: 0.9018535118196568.\u001b[0m\n"
     ]
    },
    {
     "name": "stdout",
     "output_type": "stream",
     "text": [
      "0.8781852393866884\n"
     ]
    },
    {
     "name": "stderr",
     "output_type": "stream",
     "text": [
      "\u001b[32m[I 2023-01-16 08:13:18,447]\u001b[0m Trial 339 finished with value: 0.8717977556087892 and parameters: {'max_depth': 8, 'n_estimators': 78, 'eta': 0.0682604993482305, 'subsample': 0.46674243298240525, 'colsample_bytree': 0.7417765019425712, 'reg_lambda': 4.327422676382249}. Best is trial 256 with value: 0.9018535118196568.\u001b[0m\n"
     ]
    },
    {
     "name": "stdout",
     "output_type": "stream",
     "text": [
      "0.8717977556087892\n"
     ]
    },
    {
     "name": "stderr",
     "output_type": "stream",
     "text": [
      "\u001b[32m[I 2023-01-16 08:13:18,899]\u001b[0m Trial 340 finished with value: 0.8837867888961699 and parameters: {'max_depth': 8, 'n_estimators': 82, 'eta': 0.07556467302500108, 'subsample': 0.5056375933344414, 'colsample_bytree': 0.7904901310930741, 'reg_lambda': 19.416402830058296}. Best is trial 256 with value: 0.9018535118196568.\u001b[0m\n"
     ]
    },
    {
     "name": "stdout",
     "output_type": "stream",
     "text": [
      "0.8837867888961699\n"
     ]
    },
    {
     "name": "stderr",
     "output_type": "stream",
     "text": [
      "\u001b[32m[I 2023-01-16 08:13:19,335]\u001b[0m Trial 341 finished with value: 0.886494793774754 and parameters: {'max_depth': 7, 'n_estimators': 87, 'eta': 0.07046582377720115, 'subsample': 0.47384939408590315, 'colsample_bytree': 0.7787738553759965, 'reg_lambda': 20.272812099695987}. Best is trial 256 with value: 0.9018535118196568.\u001b[0m\n"
     ]
    },
    {
     "name": "stdout",
     "output_type": "stream",
     "text": [
      "0.886494793774754\n"
     ]
    },
    {
     "name": "stderr",
     "output_type": "stream",
     "text": [
      "\u001b[32m[I 2023-01-16 08:13:19,724]\u001b[0m Trial 342 finished with value: 0.8833338833301793 and parameters: {'max_depth': 6, 'n_estimators': 80, 'eta': 0.07214199942919076, 'subsample': 0.5019094085715706, 'colsample_bytree': 0.806888379416964, 'reg_lambda': 23.906069973999266}. Best is trial 256 with value: 0.9018535118196568.\u001b[0m\n"
     ]
    },
    {
     "name": "stdout",
     "output_type": "stream",
     "text": [
      "0.8833338833301793\n"
     ]
    },
    {
     "name": "stderr",
     "output_type": "stream",
     "text": [
      "\u001b[32m[I 2023-01-16 08:13:20,209]\u001b[0m Trial 343 finished with value: 0.8833052610453398 and parameters: {'max_depth': 10, 'n_estimators': 84, 'eta': 0.07664300649941207, 'subsample': 0.5262833568454285, 'colsample_bytree': 0.7218957253450761, 'reg_lambda': 22.46164814586739}. Best is trial 256 with value: 0.9018535118196568.\u001b[0m\n"
     ]
    },
    {
     "name": "stdout",
     "output_type": "stream",
     "text": [
      "0.8833052610453398\n"
     ]
    },
    {
     "name": "stderr",
     "output_type": "stream",
     "text": [
      "\u001b[32m[I 2023-01-16 08:13:20,617]\u001b[0m Trial 344 finished with value: 0.8828297943842404 and parameters: {'max_depth': 4, 'n_estimators': 95, 'eta': 0.08216167956653607, 'subsample': 0.544453686219947, 'colsample_bytree': 0.7585202765097132, 'reg_lambda': 24.80723890061183}. Best is trial 256 with value: 0.9018535118196568.\u001b[0m\n"
     ]
    },
    {
     "name": "stdout",
     "output_type": "stream",
     "text": [
      "0.8828297943842404\n"
     ]
    },
    {
     "name": "stderr",
     "output_type": "stream",
     "text": [
      "\u001b[32m[I 2023-01-16 08:13:21,075]\u001b[0m Trial 345 finished with value: 0.8793089166162129 and parameters: {'max_depth': 6, 'n_estimators': 98, 'eta': 0.06581731148373783, 'subsample': 0.4749274695879732, 'colsample_bytree': 0.7926577015907934, 'reg_lambda': 2.382447457570245}. Best is trial 256 with value: 0.9018535118196568.\u001b[0m\n"
     ]
    },
    {
     "name": "stdout",
     "output_type": "stream",
     "text": [
      "0.8793089166162129\n"
     ]
    },
    {
     "name": "stderr",
     "output_type": "stream",
     "text": [
      "\u001b[32m[I 2023-01-16 08:13:21,465]\u001b[0m Trial 346 finished with value: 0.8825772448121267 and parameters: {'max_depth': 5, 'n_estimators': 91, 'eta': 0.07798514910733548, 'subsample': 0.5175339016443831, 'colsample_bytree': 0.6663986820560626, 'reg_lambda': 10.56870765875651}. Best is trial 256 with value: 0.9018535118196568.\u001b[0m\n"
     ]
    },
    {
     "name": "stdout",
     "output_type": "stream",
     "text": [
      "0.8825772448121267\n"
     ]
    },
    {
     "name": "stderr",
     "output_type": "stream",
     "text": [
      "\u001b[32m[I 2023-01-16 08:13:21,811]\u001b[0m Trial 347 finished with value: 0.8996825956977675 and parameters: {'max_depth': 4, 'n_estimators': 86, 'eta': 0.08631331711541221, 'subsample': 0.4485450203769451, 'colsample_bytree': 0.6946494747753642, 'reg_lambda': 22.755759153834223}. Best is trial 256 with value: 0.9018535118196568.\u001b[0m\n"
     ]
    },
    {
     "name": "stdout",
     "output_type": "stream",
     "text": [
      "0.8996825956977675\n"
     ]
    },
    {
     "name": "stderr",
     "output_type": "stream",
     "text": [
      "\u001b[32m[I 2023-01-16 08:13:22,246]\u001b[0m Trial 348 finished with value: 0.8950161530706324 and parameters: {'max_depth': 7, 'n_estimators': 86, 'eta': 0.0856855013080951, 'subsample': 0.4286958923342038, 'colsample_bytree': 0.7004536968205632, 'reg_lambda': 21.45375562398616}. Best is trial 256 with value: 0.9018535118196568.\u001b[0m\n"
     ]
    },
    {
     "name": "stdout",
     "output_type": "stream",
     "text": [
      "0.8950161530706324\n"
     ]
    },
    {
     "name": "stderr",
     "output_type": "stream",
     "text": [
      "\u001b[32m[I 2023-01-16 08:13:22,703]\u001b[0m Trial 349 finished with value: 0.8711451675144475 and parameters: {'max_depth': 7, 'n_estimators': 85, 'eta': 0.08547020249734637, 'subsample': 0.42694695240696323, 'colsample_bytree': 0.6788699810804001, 'reg_lambda': 22.17162181610599}. Best is trial 256 with value: 0.9018535118196568.\u001b[0m\n"
     ]
    },
    {
     "name": "stdout",
     "output_type": "stream",
     "text": [
      "0.8711451675144475\n"
     ]
    },
    {
     "name": "stderr",
     "output_type": "stream",
     "text": [
      "\u001b[32m[I 2023-01-16 08:13:23,141]\u001b[0m Trial 350 finished with value: 0.8899934471804356 and parameters: {'max_depth': 7, 'n_estimators': 87, 'eta': 0.08698703714710279, 'subsample': 0.418754706270596, 'colsample_bytree': 0.6757432219852152, 'reg_lambda': 23.806572862122287}. Best is trial 256 with value: 0.9018535118196568.\u001b[0m\n"
     ]
    },
    {
     "name": "stdout",
     "output_type": "stream",
     "text": [
      "0.8899934471804356\n"
     ]
    },
    {
     "name": "stderr",
     "output_type": "stream",
     "text": [
      "\u001b[32m[I 2023-01-16 08:13:23,615]\u001b[0m Trial 351 finished with value: 0.8951124586407984 and parameters: {'max_depth': 8, 'n_estimators': 89, 'eta': 0.08861636153275151, 'subsample': 0.4514945239586075, 'colsample_bytree': 0.6950198178543018, 'reg_lambda': 22.99092257319996}. Best is trial 256 with value: 0.9018535118196568.\u001b[0m\n"
     ]
    },
    {
     "name": "stdout",
     "output_type": "stream",
     "text": [
      "0.8951124586407984\n"
     ]
    },
    {
     "name": "stderr",
     "output_type": "stream",
     "text": [
      "\u001b[32m[I 2023-01-16 08:13:24,078]\u001b[0m Trial 352 finished with value: 0.9035597367288568 and parameters: {'max_depth': 8, 'n_estimators': 88, 'eta': 0.08942037365023152, 'subsample': 0.3927623154762354, 'colsample_bytree': 0.6980599149241988, 'reg_lambda': 22.958884151638657}. Best is trial 352 with value: 0.9035597367288568.\u001b[0m\n"
     ]
    },
    {
     "name": "stdout",
     "output_type": "stream",
     "text": [
      "0.9035597367288568\n"
     ]
    },
    {
     "name": "stderr",
     "output_type": "stream",
     "text": [
      "\u001b[32m[I 2023-01-16 08:13:24,541]\u001b[0m Trial 353 finished with value: 0.8854414936926587 and parameters: {'max_depth': 8, 'n_estimators': 89, 'eta': 0.08980332225795314, 'subsample': 0.3552869940831971, 'colsample_bytree': 0.6946309484415901, 'reg_lambda': 24.90294524057527}. Best is trial 352 with value: 0.9035597367288568.\u001b[0m\n"
     ]
    },
    {
     "name": "stdout",
     "output_type": "stream",
     "text": [
      "0.8854414936926587\n"
     ]
    },
    {
     "name": "stderr",
     "output_type": "stream",
     "text": [
      "\u001b[32m[I 2023-01-16 08:13:24,997]\u001b[0m Trial 354 finished with value: 0.8880606011218588 and parameters: {'max_depth': 8, 'n_estimators': 87, 'eta': 0.08784753443644353, 'subsample': 0.38971171771114094, 'colsample_bytree': 0.6453974597684412, 'reg_lambda': 24.789198354800853}. Best is trial 352 with value: 0.9035597367288568.\u001b[0m\n"
     ]
    },
    {
     "name": "stdout",
     "output_type": "stream",
     "text": [
      "0.8880606011218588\n"
     ]
    },
    {
     "name": "stderr",
     "output_type": "stream",
     "text": [
      "\u001b[32m[I 2023-01-16 08:13:25,496]\u001b[0m Trial 355 finished with value: 0.8846387227860999 and parameters: {'max_depth': 9, 'n_estimators': 89, 'eta': 0.0936846187044558, 'subsample': 0.4083828364181215, 'colsample_bytree': 0.6903875797535406, 'reg_lambda': 22.599330873726668}. Best is trial 352 with value: 0.9035597367288568.\u001b[0m\n"
     ]
    },
    {
     "name": "stdout",
     "output_type": "stream",
     "text": [
      "0.8846387227860999\n"
     ]
    },
    {
     "name": "stderr",
     "output_type": "stream",
     "text": [
      "\u001b[32m[I 2023-01-16 08:13:25,954]\u001b[0m Trial 356 finished with value: 0.8936732628125132 and parameters: {'max_depth': 8, 'n_estimators': 86, 'eta': 0.09044370652068752, 'subsample': 0.44913059918461506, 'colsample_bytree': 0.664170668054989, 'reg_lambda': 21.903192364779745}. Best is trial 352 with value: 0.9035597367288568.\u001b[0m\n"
     ]
    },
    {
     "name": "stdout",
     "output_type": "stream",
     "text": [
      "0.8936732628125132\n"
     ]
    },
    {
     "name": "stderr",
     "output_type": "stream",
     "text": [
      "\u001b[32m[I 2023-01-16 08:13:26,430]\u001b[0m Trial 357 finished with value: 0.8750492471665621 and parameters: {'max_depth': 9, 'n_estimators': 83, 'eta': 0.0881603268284208, 'subsample': 0.4357588665181311, 'colsample_bytree': 0.7016697702570489, 'reg_lambda': 22.00783932926471}. Best is trial 352 with value: 0.9035597367288568.\u001b[0m\n"
     ]
    },
    {
     "name": "stdout",
     "output_type": "stream",
     "text": [
      "0.8750492471665621\n"
     ]
    },
    {
     "name": "stderr",
     "output_type": "stream",
     "text": [
      "\u001b[32m[I 2023-01-16 08:13:26,908]\u001b[0m Trial 358 finished with value: 0.8797156897936973 and parameters: {'max_depth': 8, 'n_estimators': 90, 'eta': 0.08638903276124085, 'subsample': 0.413914167395859, 'colsample_bytree': 0.7037198092825986, 'reg_lambda': 23.120548241191223}. Best is trial 352 with value: 0.9035597367288568.\u001b[0m\n"
     ]
    },
    {
     "name": "stdout",
     "output_type": "stream",
     "text": [
      "0.8797156897936973\n"
     ]
    },
    {
     "name": "stderr",
     "output_type": "stream",
     "text": [
      "\u001b[32m[I 2023-01-16 08:13:27,373]\u001b[0m Trial 359 finished with value: 0.875373857549919 and parameters: {'max_depth': 8, 'n_estimators': 86, 'eta': 0.09209788603405089, 'subsample': 0.43044474402847893, 'colsample_bytree': 0.680241997045828, 'reg_lambda': 23.37870696959354}. Best is trial 352 with value: 0.9035597367288568.\u001b[0m\n"
     ]
    },
    {
     "name": "stdout",
     "output_type": "stream",
     "text": [
      "0.875373857549919\n"
     ]
    },
    {
     "name": "stderr",
     "output_type": "stream",
     "text": [
      "\u001b[32m[I 2023-01-16 08:13:27,802]\u001b[0m Trial 360 finished with value: 0.8958795358744983 and parameters: {'max_depth': 7, 'n_estimators': 81, 'eta': 0.08951861812903353, 'subsample': 0.45369990772389446, 'colsample_bytree': 0.7184392849282873, 'reg_lambda': 23.16510216870174}. Best is trial 352 with value: 0.9035597367288568.\u001b[0m\n"
     ]
    },
    {
     "name": "stdout",
     "output_type": "stream",
     "text": [
      "0.8958795358744983\n"
     ]
    },
    {
     "name": "stderr",
     "output_type": "stream",
     "text": [
      "\u001b[32m[I 2023-01-16 08:13:28,216]\u001b[0m Trial 361 finished with value: 0.8869103220040718 and parameters: {'max_depth': 7, 'n_estimators': 82, 'eta': 0.08427053010255002, 'subsample': 0.45019747038205443, 'colsample_bytree': 0.7209676725808456, 'reg_lambda': 23.04731247640611}. Best is trial 352 with value: 0.9035597367288568.\u001b[0m\n"
     ]
    },
    {
     "name": "stdout",
     "output_type": "stream",
     "text": [
      "0.8869103220040718\n"
     ]
    },
    {
     "name": "stderr",
     "output_type": "stream",
     "text": [
      "\u001b[32m[I 2023-01-16 08:13:28,629]\u001b[0m Trial 362 finished with value: 0.8723469667449458 and parameters: {'max_depth': 7, 'n_estimators': 81, 'eta': 0.10532875639113273, 'subsample': 0.3755113703814372, 'colsample_bytree': 0.7137886405456554, 'reg_lambda': 25.657386658592923}. Best is trial 352 with value: 0.9035597367288568.\u001b[0m\n"
     ]
    },
    {
     "name": "stdout",
     "output_type": "stream",
     "text": [
      "0.8723469667449458\n"
     ]
    },
    {
     "name": "stderr",
     "output_type": "stream",
     "text": [
      "\u001b[32m[I 2023-01-16 08:13:29,090]\u001b[0m Trial 363 finished with value: 0.8894641032772854 and parameters: {'max_depth': 7, 'n_estimators': 83, 'eta': 0.08907024290573569, 'subsample': 0.3641853176615988, 'colsample_bytree': 0.6948619172452449, 'reg_lambda': 23.126961738853392}. Best is trial 352 with value: 0.9035597367288568.\u001b[0m\n"
     ]
    },
    {
     "name": "stdout",
     "output_type": "stream",
     "text": [
      "0.8894641032772854\n"
     ]
    },
    {
     "name": "stderr",
     "output_type": "stream",
     "text": [
      "\u001b[32m[I 2023-01-16 08:13:29,532]\u001b[0m Trial 364 finished with value: 0.8762554239229771 and parameters: {'max_depth': 7, 'n_estimators': 85, 'eta': 0.0865967446794824, 'subsample': 0.4020345690862634, 'colsample_bytree': 0.6620995202904983, 'reg_lambda': 21.99236289718788}. Best is trial 352 with value: 0.9035597367288568.\u001b[0m\n"
     ]
    },
    {
     "name": "stdout",
     "output_type": "stream",
     "text": [
      "0.8762554239229771\n"
     ]
    },
    {
     "name": "stderr",
     "output_type": "stream",
     "text": [
      "\u001b[32m[I 2023-01-16 08:13:30,004]\u001b[0m Trial 365 finished with value: 0.8940530973689723 and parameters: {'max_depth': 7, 'n_estimators': 84, 'eta': 0.09445285551445075, 'subsample': 0.4580749694141061, 'colsample_bytree': 0.7024321865931779, 'reg_lambda': 22.89649974366853}. Best is trial 352 with value: 0.9035597367288568.\u001b[0m\n"
     ]
    },
    {
     "name": "stdout",
     "output_type": "stream",
     "text": [
      "0.8940530973689723\n"
     ]
    },
    {
     "name": "stderr",
     "output_type": "stream",
     "text": [
      "\u001b[32m[I 2023-01-16 08:13:30,445]\u001b[0m Trial 366 finished with value: 0.885303769992666 and parameters: {'max_depth': 8, 'n_estimators': 80, 'eta': 0.0891872637890399, 'subsample': 0.4433728364536771, 'colsample_bytree': 0.7296340219125352, 'reg_lambda': 24.06817330335304}. Best is trial 352 with value: 0.9035597367288568.\u001b[0m\n"
     ]
    },
    {
     "name": "stdout",
     "output_type": "stream",
     "text": [
      "0.885303769992666\n"
     ]
    },
    {
     "name": "stderr",
     "output_type": "stream",
     "text": [
      "\u001b[32m[I 2023-01-16 08:13:30,923]\u001b[0m Trial 367 finished with value: 0.8966075521077115 and parameters: {'max_depth': 8, 'n_estimators': 88, 'eta': 0.09066712003666741, 'subsample': 0.3913780425932088, 'colsample_bytree': 0.6790493114573761, 'reg_lambda': 23.31381943231745}. Best is trial 352 with value: 0.9035597367288568.\u001b[0m\n"
     ]
    },
    {
     "name": "stdout",
     "output_type": "stream",
     "text": [
      "0.8966075521077115\n"
     ]
    },
    {
     "name": "stderr",
     "output_type": "stream",
     "text": [
      "\u001b[32m[I 2023-01-16 08:13:31,391]\u001b[0m Trial 368 finished with value: 0.9020269291925083 and parameters: {'max_depth': 8, 'n_estimators': 89, 'eta': 0.09619169583481466, 'subsample': 0.3504199233173761, 'colsample_bytree': 0.6821046388639372, 'reg_lambda': 24.094642888872805}. Best is trial 352 with value: 0.9035597367288568.\u001b[0m\n"
     ]
    },
    {
     "name": "stdout",
     "output_type": "stream",
     "text": [
      "0.9020269291925083\n"
     ]
    },
    {
     "name": "stderr",
     "output_type": "stream",
     "text": [
      "\u001b[32m[I 2023-01-16 08:13:31,855]\u001b[0m Trial 369 finished with value: 0.8855404931249272 and parameters: {'max_depth': 8, 'n_estimators': 89, 'eta': 0.09677514588524623, 'subsample': 0.3449365233904594, 'colsample_bytree': 0.6597628421061781, 'reg_lambda': 23.749106398455126}. Best is trial 352 with value: 0.9035597367288568.\u001b[0m\n"
     ]
    },
    {
     "name": "stdout",
     "output_type": "stream",
     "text": [
      "0.8855404931249272\n"
     ]
    },
    {
     "name": "stderr",
     "output_type": "stream",
     "text": [
      "\u001b[32m[I 2023-01-16 08:13:32,346]\u001b[0m Trial 370 finished with value: 0.8747778405597306 and parameters: {'max_depth': 9, 'n_estimators': 91, 'eta': 0.09831772023000222, 'subsample': 0.3439605151587887, 'colsample_bytree': 0.723877156368413, 'reg_lambda': 23.565707116196755}. Best is trial 352 with value: 0.9035597367288568.\u001b[0m\n"
     ]
    },
    {
     "name": "stdout",
     "output_type": "stream",
     "text": [
      "0.8747778405597306\n"
     ]
    },
    {
     "name": "stderr",
     "output_type": "stream",
     "text": [
      "\u001b[32m[I 2023-01-16 08:13:32,817]\u001b[0m Trial 371 finished with value: 0.8876033180299517 and parameters: {'max_depth': 8, 'n_estimators': 88, 'eta': 0.09482377824678123, 'subsample': 0.38554536844982196, 'colsample_bytree': 0.6784359158501809, 'reg_lambda': 24.672832220677158}. Best is trial 352 with value: 0.9035597367288568.\u001b[0m\n"
     ]
    },
    {
     "name": "stdout",
     "output_type": "stream",
     "text": [
      "0.8876033180299517\n"
     ]
    },
    {
     "name": "stderr",
     "output_type": "stream",
     "text": [
      "\u001b[32m[I 2023-01-16 08:13:33,280]\u001b[0m Trial 372 finished with value: 0.8871571471192176 and parameters: {'max_depth': 8, 'n_estimators': 90, 'eta': 0.09206947873166497, 'subsample': 0.30574224316770515, 'colsample_bytree': 0.6832738230684315, 'reg_lambda': 24.039647282604754}. Best is trial 352 with value: 0.9035597367288568.\u001b[0m\n"
     ]
    },
    {
     "name": "stdout",
     "output_type": "stream",
     "text": [
      "0.8871571471192176\n"
     ]
    },
    {
     "name": "stderr",
     "output_type": "stream",
     "text": [
      "\u001b[32m[I 2023-01-16 08:13:33,746]\u001b[0m Trial 373 finished with value: 0.8868850670468604 and parameters: {'max_depth': 8, 'n_estimators': 88, 'eta': 0.09411563316962795, 'subsample': 0.3257903214560304, 'colsample_bytree': 0.7107623472609369, 'reg_lambda': 22.82480389902931}. Best is trial 352 with value: 0.9035597367288568.\u001b[0m\n"
     ]
    },
    {
     "name": "stdout",
     "output_type": "stream",
     "text": [
      "0.8868850670468604\n"
     ]
    },
    {
     "name": "stderr",
     "output_type": "stream",
     "text": [
      "\u001b[32m[I 2023-01-16 08:13:34,232]\u001b[0m Trial 374 finished with value: 0.8734359604999 and parameters: {'max_depth': 8, 'n_estimators': 92, 'eta': 0.09978330574105287, 'subsample': 0.3733533164903911, 'colsample_bytree': 0.7396450285862692, 'reg_lambda': 25.539996233222176}. Best is trial 352 with value: 0.9035597367288568.\u001b[0m\n"
     ]
    },
    {
     "name": "stdout",
     "output_type": "stream",
     "text": [
      "0.8734359604999\n"
     ]
    },
    {
     "name": "stderr",
     "output_type": "stream",
     "text": [
      "\u001b[32m[I 2023-01-16 08:13:34,714]\u001b[0m Trial 375 finished with value: 0.8871921673265505 and parameters: {'max_depth': 8, 'n_estimators': 90, 'eta': 0.09693586489411528, 'subsample': 0.4038663867889597, 'colsample_bytree': 0.6455131718776752, 'reg_lambda': 23.134882903084883}. Best is trial 352 with value: 0.9035597367288568.\u001b[0m\n"
     ]
    },
    {
     "name": "stdout",
     "output_type": "stream",
     "text": [
      "0.8871921673265505\n"
     ]
    },
    {
     "name": "stderr",
     "output_type": "stream",
     "text": [
      "\u001b[32m[I 2023-01-16 08:13:35,165]\u001b[0m Trial 376 finished with value: 0.893657099639898 and parameters: {'max_depth': 9, 'n_estimators': 87, 'eta': 0.05664444739833476, 'subsample': 0.3592990930069183, 'colsample_bytree': 0.6864858483689802, 'reg_lambda': 25.71815167441461}. Best is trial 352 with value: 0.9035597367288568.\u001b[0m\n"
     ]
    },
    {
     "name": "stdout",
     "output_type": "stream",
     "text": [
      "0.893657099639898\n"
     ]
    },
    {
     "name": "stderr",
     "output_type": "stream",
     "text": [
      "\u001b[32m[I 2023-01-16 08:13:35,662]\u001b[0m Trial 377 finished with value: 0.8946006248413148 and parameters: {'max_depth': 9, 'n_estimators': 88, 'eta': 0.09082230530099278, 'subsample': 0.46194933649314907, 'colsample_bytree': 0.731005748233952, 'reg_lambda': 24.24715779968407}. Best is trial 352 with value: 0.9035597367288568.\u001b[0m\n"
     ]
    },
    {
     "name": "stdout",
     "output_type": "stream",
     "text": [
      "0.8946006248413148\n"
     ]
    },
    {
     "name": "stderr",
     "output_type": "stream",
     "text": [
      "\u001b[32m[I 2023-01-16 08:13:36,139]\u001b[0m Trial 378 finished with value: 0.8926017791612256 and parameters: {'max_depth': 8, 'n_estimators': 92, 'eta': 0.09249176741567063, 'subsample': 0.3307958873346912, 'colsample_bytree': 0.7126638213229236, 'reg_lambda': 22.44612527331525}. Best is trial 352 with value: 0.9035597367288568.\u001b[0m\n"
     ]
    },
    {
     "name": "stdout",
     "output_type": "stream",
     "text": [
      "0.8926017791612256\n"
     ]
    },
    {
     "name": "stderr",
     "output_type": "stream",
     "text": [
      "\u001b[32m[I 2023-01-16 08:13:36,569]\u001b[0m Trial 379 finished with value: 0.8829287938165089 and parameters: {'max_depth': 7, 'n_estimators': 85, 'eta': 0.09012821210753957, 'subsample': 0.45245044795302847, 'colsample_bytree': 0.6709905639486633, 'reg_lambda': 26.601694698210494}. Best is trial 352 with value: 0.9035597367288568.\u001b[0m\n"
     ]
    },
    {
     "name": "stdout",
     "output_type": "stream",
     "text": [
      "0.8829287938165089\n"
     ]
    },
    {
     "name": "stderr",
     "output_type": "stream",
     "text": [
      "\u001b[32m[I 2023-01-16 08:13:36,982]\u001b[0m Trial 380 finished with value: 0.8858270527060856 and parameters: {'max_depth': 9, 'n_estimators': 76, 'eta': 0.09545083343837306, 'subsample': 0.27264890194263736, 'colsample_bytree': 0.8880210228514785, 'reg_lambda': 23.457461573202657}. Best is trial 352 with value: 0.9035597367288568.\u001b[0m\n"
     ]
    },
    {
     "name": "stdout",
     "output_type": "stream",
     "text": [
      "0.8858270527060856\n"
     ]
    },
    {
     "name": "stderr",
     "output_type": "stream",
     "text": [
      "\u001b[32m[I 2023-01-16 08:13:37,455]\u001b[0m Trial 381 finished with value: 0.8924239842624575 and parameters: {'max_depth': 8, 'n_estimators': 90, 'eta': 0.1018552206628522, 'subsample': 0.3892068689486742, 'colsample_bytree': 0.7452956227972248, 'reg_lambda': 22.424886637233417}. Best is trial 352 with value: 0.9035597367288568.\u001b[0m\n"
     ]
    },
    {
     "name": "stdout",
     "output_type": "stream",
     "text": [
      "0.8924239842624575\n"
     ]
    },
    {
     "name": "stderr",
     "output_type": "stream",
     "text": [
      "\u001b[32m[I 2023-01-16 08:13:37,930]\u001b[0m Trial 382 finished with value: 0.8894880113034453 and parameters: {'max_depth': 8, 'n_estimators': 86, 'eta': 0.08822488181634232, 'subsample': 0.4745414645343093, 'colsample_bytree': 0.6916639416164573, 'reg_lambda': 23.768864232883477}. Best is trial 352 with value: 0.9035597367288568.\u001b[0m\n"
     ]
    },
    {
     "name": "stdout",
     "output_type": "stream",
     "text": [
      "0.8894880113034453\n"
     ]
    },
    {
     "name": "stderr",
     "output_type": "stream",
     "text": [
      "\u001b[32m[I 2023-01-16 08:13:38,379]\u001b[0m Trial 383 finished with value: 0.8872214630769159 and parameters: {'max_depth': 7, 'n_estimators': 84, 'eta': 0.09354396409227778, 'subsample': 0.42040882088811016, 'colsample_bytree': 0.6608803260694829, 'reg_lambda': 24.61524786063104}. Best is trial 352 with value: 0.9035597367288568.\u001b[0m\n"
     ]
    },
    {
     "name": "stdout",
     "output_type": "stream",
     "text": [
      "0.8872214630769159\n"
     ]
    },
    {
     "name": "stderr",
     "output_type": "stream",
     "text": [
      "\u001b[32m[I 2023-01-16 08:13:38,791]\u001b[0m Trial 384 finished with value: 0.9015346258932677 and parameters: {'max_depth': 6, 'n_estimators': 88, 'eta': 0.09071325862285053, 'subsample': 0.4414767216328565, 'colsample_bytree': 0.712455611079201, 'reg_lambda': 22.443169329580698}. Best is trial 352 with value: 0.9035597367288568.\u001b[0m\n"
     ]
    },
    {
     "name": "stdout",
     "output_type": "stream",
     "text": [
      "0.9015346258932677\n"
     ]
    },
    {
     "name": "stderr",
     "output_type": "stream",
     "text": [
      "\u001b[32m[I 2023-01-16 08:13:39,205]\u001b[0m Trial 385 finished with value: 0.8832453226135579 and parameters: {'max_depth': 6, 'n_estimators': 89, 'eta': 0.0915393916725153, 'subsample': 0.40641201373339725, 'colsample_bytree': 0.7227346858061421, 'reg_lambda': 22.51507497608027}. Best is trial 352 with value: 0.9035597367288568.\u001b[0m\n"
     ]
    },
    {
     "name": "stdout",
     "output_type": "stream",
     "text": [
      "0.8832453226135579\n"
     ]
    },
    {
     "name": "stderr",
     "output_type": "stream",
     "text": [
      "\u001b[32m[I 2023-01-16 08:13:39,602]\u001b[0m Trial 386 finished with value: 0.8805770522009864 and parameters: {'max_depth': 6, 'n_estimators': 82, 'eta': 0.09783790582670049, 'subsample': 0.4310879378511987, 'colsample_bytree': 0.7384474226622997, 'reg_lambda': 20.834163043799368}. Best is trial 352 with value: 0.9035597367288568.\u001b[0m\n"
     ]
    },
    {
     "name": "stdout",
     "output_type": "stream",
     "text": [
      "0.8805770522009864\n"
     ]
    },
    {
     "name": "stderr",
     "output_type": "stream",
     "text": [
      "\u001b[32m[I 2023-01-16 08:13:39,997]\u001b[0m Trial 387 finished with value: 0.8746539229030135 and parameters: {'max_depth': 6, 'n_estimators': 87, 'eta': 0.09092536602026532, 'subsample': 0.3966774817974812, 'colsample_bytree': 0.39225745811379675, 'reg_lambda': 22.828406807220603}. Best is trial 352 with value: 0.9035597367288568.\u001b[0m\n"
     ]
    },
    {
     "name": "stdout",
     "output_type": "stream",
     "text": [
      "0.8746539229030135\n"
     ]
    },
    {
     "name": "stderr",
     "output_type": "stream",
     "text": [
      "\u001b[32m[I 2023-01-16 08:13:40,328]\u001b[0m Trial 388 finished with value: 0.8869210974524819 and parameters: {'max_depth': 7, 'n_estimators': 59, 'eta': 0.09453662365522664, 'subsample': 0.3697012100167076, 'colsample_bytree': 0.7547106353312721, 'reg_lambda': 23.643794977798095}. Best is trial 352 with value: 0.9035597367288568.\u001b[0m\n"
     ]
    },
    {
     "name": "stdout",
     "output_type": "stream",
     "text": [
      "0.8869210974524819\n"
     ]
    },
    {
     "name": "stderr",
     "output_type": "stream",
     "text": [
      "\u001b[32m[I 2023-01-16 08:13:40,710]\u001b[0m Trial 389 finished with value: 0.8871180861187307 and parameters: {'max_depth': 6, 'n_estimators': 78, 'eta': 0.08970192894668458, 'subsample': 0.4829485861949909, 'colsample_bytree': 0.7122232162542417, 'reg_lambda': 22.270321350582442}. Best is trial 352 with value: 0.9035597367288568.\u001b[0m\n"
     ]
    },
    {
     "name": "stdout",
     "output_type": "stream",
     "text": [
      "0.8871180861187307\n"
     ]
    },
    {
     "name": "stderr",
     "output_type": "stream",
     "text": [
      "\u001b[32m[I 2023-01-16 08:13:41,149]\u001b[0m Trial 390 finished with value: 0.8797938117946712 and parameters: {'max_depth': 6, 'n_estimators': 92, 'eta': 0.09232293220091287, 'subsample': 0.4459814731985677, 'colsample_bytree': 0.9463801883761067, 'reg_lambda': 22.796223753902975}. Best is trial 352 with value: 0.9035597367288568.\u001b[0m\n"
     ]
    },
    {
     "name": "stdout",
     "output_type": "stream",
     "text": [
      "0.8797938117946712\n"
     ]
    },
    {
     "name": "stderr",
     "output_type": "stream",
     "text": [
      "\u001b[32m[I 2023-01-16 08:13:41,592]\u001b[0m Trial 391 finished with value: 0.8818552897686445 and parameters: {'max_depth': 7, 'n_estimators': 85, 'eta': 0.08853425272208101, 'subsample': 0.46038515135659225, 'colsample_bytree': 0.7464082021471923, 'reg_lambda': 21.105363048582156}. Best is trial 352 with value: 0.9035597367288568.\u001b[0m\n"
     ]
    },
    {
     "name": "stdout",
     "output_type": "stream",
     "text": [
      "0.8818552897686445\n"
     ]
    },
    {
     "name": "stderr",
     "output_type": "stream",
     "text": [
      "\u001b[32m[I 2023-01-16 08:13:42,058]\u001b[0m Trial 392 finished with value: 0.8839302370531305 and parameters: {'max_depth': 8, 'n_estimators': 88, 'eta': 0.09304032442561487, 'subsample': 0.31989156558819737, 'colsample_bytree': 0.7018230842253682, 'reg_lambda': 21.58388448782271}. Best is trial 352 with value: 0.9035597367288568.\u001b[0m\n"
     ]
    },
    {
     "name": "stdout",
     "output_type": "stream",
     "text": [
      "0.8839302370531305\n"
     ]
    },
    {
     "name": "stderr",
     "output_type": "stream",
     "text": [
      "\u001b[32m[I 2023-01-16 08:13:42,466]\u001b[0m Trial 393 finished with value: 0.8880787846910511 and parameters: {'max_depth': 6, 'n_estimators': 91, 'eta': 0.09713026412751867, 'subsample': 0.4199144925067197, 'colsample_bytree': 0.4796968329656772, 'reg_lambda': 24.422012675105847}. Best is trial 352 with value: 0.9035597367288568.\u001b[0m\n"
     ]
    },
    {
     "name": "stdout",
     "output_type": "stream",
     "text": [
      "0.8880787846910511\n",
      "0.8734157565341308\n"
     ]
    },
    {
     "name": "stderr",
     "output_type": "stream",
     "text": [
      "\u001b[32m[I 2023-01-16 08:13:42,673]\u001b[0m Trial 394 finished with value: 0.8734157565341308 and parameters: {'max_depth': 11, 'n_estimators': 25, 'eta': 0.08790936402280913, 'subsample': 0.4370583321986119, 'colsample_bytree': 0.9785903914786491, 'reg_lambda': 25.204929719547245}. Best is trial 352 with value: 0.9035597367288568.\u001b[0m\n",
      "\u001b[32m[I 2023-01-16 08:13:43,070]\u001b[0m Trial 395 finished with value: 0.8055439008604869 and parameters: {'max_depth': 6, 'n_estimators': 83, 'eta': 0.014805279257881741, 'subsample': 0.4970280194008278, 'colsample_bytree': 0.8682110829630473, 'reg_lambda': 35.525154387145456}. Best is trial 352 with value: 0.9035597367288568.\u001b[0m\n"
     ]
    },
    {
     "name": "stdout",
     "output_type": "stream",
     "text": [
      "0.8055439008604869\n"
     ]
    },
    {
     "name": "stderr",
     "output_type": "stream",
     "text": [
      "\u001b[32m[I 2023-01-16 08:13:43,538]\u001b[0m Trial 396 finished with value: 0.8828122842805739 and parameters: {'max_depth': 7, 'n_estimators': 86, 'eta': 0.09025944658508651, 'subsample': 0.7105348559157962, 'colsample_bytree': 0.7306719201457766, 'reg_lambda': 23.431066957368763}. Best is trial 352 with value: 0.9035597367288568.\u001b[0m\n"
     ]
    },
    {
     "name": "stdout",
     "output_type": "stream",
     "text": [
      "0.8828122842805739\n"
     ]
    },
    {
     "name": "stderr",
     "output_type": "stream",
     "text": [
      "\u001b[32m[I 2023-01-16 08:13:43,977]\u001b[0m Trial 397 finished with value: 0.8733827567233747 and parameters: {'max_depth': 7, 'n_estimators': 81, 'eta': 0.05991323866978086, 'subsample': 0.6617467710982929, 'colsample_bytree': 0.9042825725701862, 'reg_lambda': 21.92473468053583}. Best is trial 352 with value: 0.9035597367288568.\u001b[0m\n"
     ]
    },
    {
     "name": "stdout",
     "output_type": "stream",
     "text": [
      "0.8733827567233747\n"
     ]
    },
    {
     "name": "stderr",
     "output_type": "stream",
     "text": [
      "\u001b[32m[I 2023-01-16 08:13:44,473]\u001b[0m Trial 398 finished with value: 0.8892344515330431 and parameters: {'max_depth': 8, 'n_estimators': 89, 'eta': 0.0947630699904532, 'subsample': 0.5365164650193338, 'colsample_bytree': 0.7713799988096436, 'reg_lambda': 23.310392826219832}. Best is trial 352 with value: 0.9035597367288568.\u001b[0m\n"
     ]
    },
    {
     "name": "stdout",
     "output_type": "stream",
     "text": [
      "0.8892344515330431\n"
     ]
    },
    {
     "name": "stderr",
     "output_type": "stream",
     "text": [
      "\u001b[32m[I 2023-01-16 08:13:44,910]\u001b[0m Trial 399 finished with value: 0.868454336006767 and parameters: {'max_depth': 6, 'n_estimators': 93, 'eta': 0.08733532802945503, 'subsample': 0.3484178815995441, 'colsample_bytree': 0.83788932178633, 'reg_lambda': 24.21903221901518}. Best is trial 352 with value: 0.9035597367288568.\u001b[0m\n"
     ]
    },
    {
     "name": "stdout",
     "output_type": "stream",
     "text": [
      "0.868454336006767\n"
     ]
    },
    {
     "name": "stderr",
     "output_type": "stream",
     "text": [
      "\u001b[32m[I 2023-01-16 08:13:45,410]\u001b[0m Trial 400 finished with value: 0.8817933309402859 and parameters: {'max_depth': 9, 'n_estimators': 84, 'eta': 0.05454871235324904, 'subsample': 0.486397764893828, 'colsample_bytree': 0.6857963165239156, 'reg_lambda': 3.6289906235151212}. Best is trial 352 with value: 0.9035597367288568.\u001b[0m\n"
     ]
    },
    {
     "name": "stdout",
     "output_type": "stream",
     "text": [
      "0.8817933309402859\n"
     ]
    },
    {
     "name": "stderr",
     "output_type": "stream",
     "text": [
      "\u001b[32m[I 2023-01-16 08:13:45,768]\u001b[0m Trial 401 finished with value: 0.8882858753401843 and parameters: {'max_depth': 4, 'n_estimators': 87, 'eta': 0.0905134508059573, 'subsample': 0.5311182006903938, 'colsample_bytree': 0.7581764042405634, 'reg_lambda': 5.3176691372949625}. Best is trial 352 with value: 0.9035597367288568.\u001b[0m\n",
      "\u001b[32m[I 2023-01-16 08:13:45,889]\u001b[0m Trial 402 finished with value: 0.7974208964230225 and parameters: {'max_depth': 8, 'n_estimators': 6, 'eta': 0.09298688389306173, 'subsample': 0.47313594247381574, 'colsample_bytree': 0.6312765672530121, 'reg_lambda': 20.07549400275076}. Best is trial 352 with value: 0.9035597367288568.\u001b[0m\n"
     ]
    },
    {
     "name": "stdout",
     "output_type": "stream",
     "text": [
      "0.8882858753401843\n",
      "0.7974208964230225\n"
     ]
    },
    {
     "name": "stderr",
     "output_type": "stream",
     "text": [
      "\u001b[32m[I 2023-01-16 08:13:46,280]\u001b[0m Trial 403 finished with value: 0.8773780909542132 and parameters: {'max_depth': 5, 'n_estimators': 90, 'eta': 0.08913556378884217, 'subsample': 0.5038703289182194, 'colsample_bytree': 0.7191874759513344, 'reg_lambda': 22.237828361870264}. Best is trial 352 with value: 0.9035597367288568.\u001b[0m\n"
     ]
    },
    {
     "name": "stdout",
     "output_type": "stream",
     "text": [
      "0.8773780909542132\n"
     ]
    },
    {
     "name": "stderr",
     "output_type": "stream",
     "text": [
      "\u001b[32m[I 2023-01-16 08:13:46,736]\u001b[0m Trial 404 finished with value: 0.8746684024118146 and parameters: {'max_depth': 7, 'n_estimators': 86, 'eta': 0.08620664396602332, 'subsample': 0.5546411418159658, 'colsample_bytree': 0.8061380989953577, 'reg_lambda': 5.980445979486973}. Best is trial 352 with value: 0.9035597367288568.\u001b[0m\n"
     ]
    },
    {
     "name": "stdout",
     "output_type": "stream",
     "text": [
      "0.8746684024118146\n"
     ]
    },
    {
     "name": "stderr",
     "output_type": "stream",
     "text": [
      "\u001b[32m[I 2023-01-16 08:13:47,147]\u001b[0m Trial 405 finished with value: 0.8931745615907796 and parameters: {'max_depth': 6, 'n_estimators': 84, 'eta': 0.09982199333811408, 'subsample': 0.2962699128463271, 'colsample_bytree': 0.9306826525874967, 'reg_lambda': 20.97703225551513}. Best is trial 352 with value: 0.9035597367288568.\u001b[0m\n"
     ]
    },
    {
     "name": "stdout",
     "output_type": "stream",
     "text": [
      "0.8931745615907796\n"
     ]
    },
    {
     "name": "stderr",
     "output_type": "stream",
     "text": [
      "\u001b[32m[I 2023-01-16 08:13:47,537]\u001b[0m Trial 406 finished with value: 0.8875666141588046 and parameters: {'max_depth': 5, 'n_estimators': 88, 'eta': 0.09611881505742127, 'subsample': 0.5178219450020877, 'colsample_bytree': 0.700928735784499, 'reg_lambda': 23.340098289647585}. Best is trial 352 with value: 0.9035597367288568.\u001b[0m\n"
     ]
    },
    {
     "name": "stdout",
     "output_type": "stream",
     "text": [
      "0.8875666141588046\n"
     ]
    },
    {
     "name": "stderr",
     "output_type": "stream",
     "text": [
      "\u001b[32m[I 2023-01-16 08:13:47,909]\u001b[0m Trial 407 finished with value: 0.878565747408673 and parameters: {'max_depth': 5, 'n_estimators': 80, 'eta': 0.09154984518235296, 'subsample': 0.45003361640936757, 'colsample_bytree': 0.5211219699553041, 'reg_lambda': 18.57612752268852}. Best is trial 352 with value: 0.9035597367288568.\u001b[0m\n"
     ]
    },
    {
     "name": "stdout",
     "output_type": "stream",
     "text": [
      "0.878565747408673\n"
     ]
    },
    {
     "name": "stderr",
     "output_type": "stream",
     "text": [
      "\u001b[32m[I 2023-01-16 08:13:48,263]\u001b[0m Trial 408 finished with value: 0.8875457367275097 and parameters: {'max_depth': 4, 'n_estimators': 90, 'eta': 0.0874849344055735, 'subsample': 0.5426855268475816, 'colsample_bytree': 0.7395593896698636, 'reg_lambda': 4.885935601781856}. Best is trial 352 with value: 0.9035597367288568.\u001b[0m\n"
     ]
    },
    {
     "name": "stdout",
     "output_type": "stream",
     "text": [
      "0.8875457367275097\n"
     ]
    },
    {
     "name": "stderr",
     "output_type": "stream",
     "text": [
      "\u001b[32m[I 2023-01-16 08:13:48,842]\u001b[0m Trial 409 finished with value: 0.8717775516430202 and parameters: {'max_depth': 11, 'n_estimators': 82, 'eta': 0.08945914515924523, 'subsample': 0.46345333688955853, 'colsample_bytree': 0.7706714195176922, 'reg_lambda': 22.163010613561482}. Best is trial 352 with value: 0.9035597367288568.\u001b[0m\n"
     ]
    },
    {
     "name": "stdout",
     "output_type": "stream",
     "text": [
      "0.8717775516430202\n"
     ]
    },
    {
     "name": "stderr",
     "output_type": "stream",
     "text": [
      "\u001b[32m[I 2023-01-16 08:13:49,369]\u001b[0m Trial 410 finished with value: 0.8697403184279698 and parameters: {'max_depth': 7, 'n_estimators': 92, 'eta': 0.09343530521006506, 'subsample': 0.4379736276301562, 'colsample_bytree': 0.8521452786517577, 'reg_lambda': 3.154305368476962}. Best is trial 352 with value: 0.9035597367288568.\u001b[0m\n"
     ]
    },
    {
     "name": "stdout",
     "output_type": "stream",
     "text": [
      "0.8697403184279698\n"
     ]
    },
    {
     "name": "stderr",
     "output_type": "stream",
     "text": [
      "\u001b[32m[I 2023-01-16 08:13:49,804]\u001b[0m Trial 411 finished with value: 0.8768851141894473 and parameters: {'max_depth': 6, 'n_estimators': 85, 'eta': 0.0859947453105118, 'subsample': 0.3937855795615538, 'colsample_bytree': 0.6737487949036396, 'reg_lambda': 24.129346252696443}. Best is trial 352 with value: 0.9035597367288568.\u001b[0m\n"
     ]
    },
    {
     "name": "stdout",
     "output_type": "stream",
     "text": [
      "0.8768851141894473\n"
     ]
    },
    {
     "name": "stderr",
     "output_type": "stream",
     "text": [
      "\u001b[32m[I 2023-01-16 08:13:50,344]\u001b[0m Trial 412 finished with value: 0.8807299288753059 and parameters: {'max_depth': 8, 'n_estimators': 87, 'eta': 0.08377716015430367, 'subsample': 0.6422460210853967, 'colsample_bytree': 0.9919547197559542, 'reg_lambda': 22.87608604839314}. Best is trial 352 with value: 0.9035597367288568.\u001b[0m\n"
     ]
    },
    {
     "name": "stdout",
     "output_type": "stream",
     "text": [
      "0.8807299288753059\n"
     ]
    },
    {
     "name": "stderr",
     "output_type": "stream",
     "text": [
      "\u001b[32m[I 2023-01-16 08:13:50,642]\u001b[0m Trial 413 finished with value: 0.8822469099718018 and parameters: {'max_depth': 9, 'n_estimators': 32, 'eta': 0.0908427763134531, 'subsample': 0.4893029350060586, 'colsample_bytree': 0.8097853991974187, 'reg_lambda': 4.569639848134202}. Best is trial 352 with value: 0.9035597367288568.\u001b[0m\n"
     ]
    },
    {
     "name": "stdout",
     "output_type": "stream",
     "text": [
      "0.8822469099718018\n"
     ]
    },
    {
     "name": "stderr",
     "output_type": "stream",
     "text": [
      "\u001b[32m[I 2023-01-16 08:13:50,987]\u001b[0m Trial 414 finished with value: 0.8711434838506333 and parameters: {'max_depth': 4, 'n_estimators': 88, 'eta': 0.09492707052799333, 'subsample': 0.5507078037380909, 'colsample_bytree': 0.7578079365776204, 'reg_lambda': 21.892603450800582}. Best is trial 352 with value: 0.9035597367288568.\u001b[0m\n"
     ]
    },
    {
     "name": "stdout",
     "output_type": "stream",
     "text": [
      "0.8711434838506333\n"
     ]
    },
    {
     "name": "stderr",
     "output_type": "stream",
     "text": [
      "\u001b[32m[I 2023-01-16 08:13:51,361]\u001b[0m Trial 415 finished with value: 0.8719933973439866 and parameters: {'max_depth': 5, 'n_estimators': 83, 'eta': 0.0884677895488938, 'subsample': 0.4203115950781941, 'colsample_bytree': 0.7221835930232098, 'reg_lambda': 17.600052821119956}. Best is trial 352 with value: 0.9035597367288568.\u001b[0m\n"
     ]
    },
    {
     "name": "stdout",
     "output_type": "stream",
     "text": [
      "0.8719933973439866\n"
     ]
    },
    {
     "name": "stderr",
     "output_type": "stream",
     "text": [
      "\u001b[32m[I 2023-01-16 08:13:51,713]\u001b[0m Trial 416 finished with value: 0.8850303429892575 and parameters: {'max_depth': 7, 'n_estimators': 56, 'eta': 0.09202845206963732, 'subsample': 0.5272598581233268, 'colsample_bytree': 0.7879164921263774, 'reg_lambda': 25.615718122477787}. Best is trial 352 with value: 0.9035597367288568.\u001b[0m\n"
     ]
    },
    {
     "name": "stdout",
     "output_type": "stream",
     "text": [
      "0.8850303429892575\n"
     ]
    },
    {
     "name": "stderr",
     "output_type": "stream",
     "text": [
      "\u001b[32m[I 2023-01-16 08:13:52,290]\u001b[0m Trial 417 finished with value: 0.876274280957695 and parameters: {'max_depth': 10, 'n_estimators': 94, 'eta': 0.08420648705345384, 'subsample': 0.5143873676359496, 'colsample_bytree': 0.9618254599455639, 'reg_lambda': 20.614484027790393}. Best is trial 352 with value: 0.9035597367288568.\u001b[0m\n"
     ]
    },
    {
     "name": "stdout",
     "output_type": "stream",
     "text": [
      "0.876274280957695\n"
     ]
    },
    {
     "name": "stderr",
     "output_type": "stream",
     "text": [
      "\u001b[32m[I 2023-01-16 08:13:52,637]\u001b[0m Trial 418 finished with value: 0.8997809216645105 and parameters: {'max_depth': 4, 'n_estimators': 90, 'eta': 0.040370521706352754, 'subsample': 0.3720301757198804, 'colsample_bytree': 0.8311499726868994, 'reg_lambda': 3.529891523080652}. Best is trial 352 with value: 0.9035597367288568.\u001b[0m\n"
     ]
    },
    {
     "name": "stdout",
     "output_type": "stream",
     "text": [
      "0.8997809216645105\n"
     ]
    },
    {
     "name": "stderr",
     "output_type": "stream",
     "text": [
      "\u001b[32m[I 2023-01-16 08:13:53,023]\u001b[0m Trial 419 finished with value: 0.8914777651989384 and parameters: {'max_depth': 4, 'n_estimators': 92, 'eta': 0.04075564311455137, 'subsample': 0.3838100409620897, 'colsample_bytree': 0.8446307141288314, 'reg_lambda': 3.6072316170325323}. Best is trial 352 with value: 0.9035597367288568.\u001b[0m\n"
     ]
    },
    {
     "name": "stdout",
     "output_type": "stream",
     "text": [
      "0.8914777651989384\n"
     ]
    },
    {
     "name": "stderr",
     "output_type": "stream",
     "text": [
      "\u001b[32m[I 2023-01-16 08:13:53,356]\u001b[0m Trial 420 finished with value: 0.8891388194284028 and parameters: {'max_depth': 4, 'n_estimators': 85, 'eta': 0.034266484881510156, 'subsample': 0.3460980454210395, 'colsample_bytree': 0.8350848482939554, 'reg_lambda': 4.233534009252477}. Best is trial 352 with value: 0.9035597367288568.\u001b[0m\n"
     ]
    },
    {
     "name": "stdout",
     "output_type": "stream",
     "text": [
      "0.8891388194284028\n"
     ]
    },
    {
     "name": "stderr",
     "output_type": "stream",
     "text": [
      "\u001b[32m[I 2023-01-16 08:13:53,708]\u001b[0m Trial 421 finished with value: 0.8842551841692501 and parameters: {'max_depth': 4, 'n_estimators': 90, 'eta': 0.05280764843410691, 'subsample': 0.36676944582790694, 'colsample_bytree': 0.8813991890727858, 'reg_lambda': 2.8734572922466555}. Best is trial 352 with value: 0.9035597367288568.\u001b[0m\n"
     ]
    },
    {
     "name": "stdout",
     "output_type": "stream",
     "text": [
      "0.8842551841692501\n"
     ]
    },
    {
     "name": "stderr",
     "output_type": "stream",
     "text": [
      "\u001b[32m[I 2023-01-16 08:13:54,051]\u001b[0m Trial 422 finished with value: 0.8793277736509307 and parameters: {'max_depth': 4, 'n_estimators': 87, 'eta': 0.09926485566311917, 'subsample': 0.3608397462393513, 'colsample_bytree': 0.8293069983830855, 'reg_lambda': 3.462918370704706}. Best is trial 352 with value: 0.9035597367288568.\u001b[0m\n"
     ]
    },
    {
     "name": "stdout",
     "output_type": "stream",
     "text": [
      "0.8793277736509307\n"
     ]
    },
    {
     "name": "stderr",
     "output_type": "stream",
     "text": [
      "\u001b[32m[I 2023-01-16 08:13:54,423]\u001b[0m Trial 423 finished with value: 0.8871382900844997 and parameters: {'max_depth': 5, 'n_estimators': 82, 'eta': 0.039301501499428355, 'subsample': 0.4023255489556587, 'colsample_bytree': 0.8166639651750339, 'reg_lambda': 2.363541694175722}. Best is trial 352 with value: 0.9035597367288568.\u001b[0m\n"
     ]
    },
    {
     "name": "stdout",
     "output_type": "stream",
     "text": [
      "0.8871382900844997\n"
     ]
    },
    {
     "name": "stderr",
     "output_type": "stream",
     "text": [
      "\u001b[32m[I 2023-01-16 08:13:54,768]\u001b[0m Trial 424 finished with value: 0.8756772537692181 and parameters: {'max_depth': 4, 'n_estimators': 85, 'eta': 0.009157865579248425, 'subsample': 0.3778281992445199, 'colsample_bytree': 0.8632733919407687, 'reg_lambda': 5.233794888807183}. Best is trial 352 with value: 0.9035597367288568.\u001b[0m\n"
     ]
    },
    {
     "name": "stdout",
     "output_type": "stream",
     "text": [
      "0.8756772537692181\n"
     ]
    },
    {
     "name": "stderr",
     "output_type": "stream",
     "text": [
      "\u001b[32m[I 2023-01-16 08:13:55,108]\u001b[0m Trial 425 finished with value: 0.88693759735786 and parameters: {'max_depth': 4, 'n_estimators': 79, 'eta': 0.09654546925049169, 'subsample': 0.3359360050890954, 'colsample_bytree': 0.7994608103510148, 'reg_lambda': 3.6413776115443977}. Best is trial 352 with value: 0.9035597367288568.\u001b[0m\n"
     ]
    },
    {
     "name": "stdout",
     "output_type": "stream",
     "text": [
      "0.88693759735786\n"
     ]
    },
    {
     "name": "stderr",
     "output_type": "stream",
     "text": [
      "\u001b[32m[I 2023-01-16 08:13:55,510]\u001b[0m Trial 426 finished with value: 0.885214872543282 and parameters: {'max_depth': 5, 'n_estimators': 90, 'eta': 0.0932950458890659, 'subsample': 0.567843088381036, 'colsample_bytree': 0.7833090628263386, 'reg_lambda': 4.637035337157889}. Best is trial 352 with value: 0.9035597367288568.\u001b[0m\n"
     ]
    },
    {
     "name": "stdout",
     "output_type": "stream",
     "text": [
      "0.885214872543282\n"
     ]
    },
    {
     "name": "stderr",
     "output_type": "stream",
     "text": [
      "\u001b[32m[I 2023-01-16 08:13:55,921]\u001b[0m Trial 427 finished with value: 0.8886185673098488 and parameters: {'max_depth': 5, 'n_estimators': 94, 'eta': 0.0908795079989357, 'subsample': 0.6102129073958974, 'colsample_bytree': 0.816720176582821, 'reg_lambda': 16.07435144131517}. Best is trial 352 with value: 0.9035597367288568.\u001b[0m\n"
     ]
    },
    {
     "name": "stdout",
     "output_type": "stream",
     "text": [
      "0.8886185673098488\n"
     ]
    },
    {
     "name": "stderr",
     "output_type": "stream",
     "text": [
      "\u001b[32m[I 2023-01-16 08:13:56,348]\u001b[0m Trial 428 finished with value: 0.8796823532501783 and parameters: {'max_depth': 6, 'n_estimators': 88, 'eta': 0.030093445438076925, 'subsample': 0.8876856713091699, 'colsample_bytree': 0.7662673604859757, 'reg_lambda': 6.3927260928647796}. Best is trial 352 with value: 0.9035597367288568.\u001b[0m\n"
     ]
    },
    {
     "name": "stdout",
     "output_type": "stream",
     "text": [
      "0.8796823532501783\n"
     ]
    },
    {
     "name": "stderr",
     "output_type": "stream",
     "text": [
      "\u001b[32m[I 2023-01-16 08:13:56,706]\u001b[0m Trial 429 finished with value: 0.8803972369056416 and parameters: {'max_depth': 4, 'n_estimators': 86, 'eta': 0.03218599279658622, 'subsample': 0.3599010461277893, 'colsample_bytree': 0.9067198182670679, 'reg_lambda': 2.6658496892789856}. Best is trial 352 with value: 0.9035597367288568.\u001b[0m\n"
     ]
    },
    {
     "name": "stdout",
     "output_type": "stream",
     "text": [
      "0.8803972369056416\n"
     ]
    },
    {
     "name": "stderr",
     "output_type": "stream",
     "text": [
      "\u001b[32m[I 2023-01-16 08:13:57,113]\u001b[0m Trial 430 finished with value: 0.8843804487570184 and parameters: {'max_depth': 5, 'n_estimators': 92, 'eta': 0.0491049544767045, 'subsample': 0.5458282848598098, 'colsample_bytree': 0.843003336122759, 'reg_lambda': 5.686168162101698}. Best is trial 352 with value: 0.9035597367288568.\u001b[0m\n"
     ]
    },
    {
     "name": "stdout",
     "output_type": "stream",
     "text": [
      "0.8843804487570184\n"
     ]
    },
    {
     "name": "stderr",
     "output_type": "stream",
     "text": [
      "\u001b[32m[I 2023-01-16 08:13:57,511]\u001b[0m Trial 431 finished with value: 0.9013130557353334 and parameters: {'max_depth': 6, 'n_estimators': 83, 'eta': 0.036342524757761695, 'subsample': 0.5323329324564234, 'colsample_bytree': 0.7984394739362288, 'reg_lambda': 15.066713398502198}. Best is trial 352 with value: 0.9035597367288568.\u001b[0m\n"
     ]
    },
    {
     "name": "stdout",
     "output_type": "stream",
     "text": [
      "0.9013130557353334\n"
     ]
    },
    {
     "name": "stderr",
     "output_type": "stream",
     "text": [
      "\u001b[32m[I 2023-01-16 08:13:57,909]\u001b[0m Trial 432 finished with value: 0.8785620433482821 and parameters: {'max_depth': 6, 'n_estimators': 81, 'eta': 0.03665558702957718, 'subsample': 0.5673457578694026, 'colsample_bytree': 0.8267439591798291, 'reg_lambda': 14.359377117099415}. Best is trial 352 with value: 0.9035597367288568.\u001b[0m\n"
     ]
    },
    {
     "name": "stdout",
     "output_type": "stream",
     "text": [
      "0.8785620433482821\n"
     ]
    },
    {
     "name": "stderr",
     "output_type": "stream",
     "text": [
      "\u001b[32m[I 2023-01-16 08:13:58,307]\u001b[0m Trial 433 finished with value: 0.8744953217717262 and parameters: {'max_depth': 6, 'n_estimators': 83, 'eta': 0.0344090630439904, 'subsample': 0.5333369776311409, 'colsample_bytree': 0.8112103004224406, 'reg_lambda': 14.63821967672194}. Best is trial 352 with value: 0.9035597367288568.\u001b[0m\n"
     ]
    },
    {
     "name": "stdout",
     "output_type": "stream",
     "text": [
      "0.8744953217717262\n"
     ]
    },
    {
     "name": "stderr",
     "output_type": "stream",
     "text": [
      "\u001b[32m[I 2023-01-16 08:13:58,711]\u001b[0m Trial 434 finished with value: 0.887204626438775 and parameters: {'max_depth': 6, 'n_estimators': 84, 'eta': 0.04243273975138867, 'subsample': 0.5590749816421332, 'colsample_bytree': 0.78978923883752, 'reg_lambda': 15.614402730270045}. Best is trial 352 with value: 0.9035597367288568.\u001b[0m\n"
     ]
    },
    {
     "name": "stdout",
     "output_type": "stream",
     "text": [
      "0.887204626438775\n"
     ]
    },
    {
     "name": "stderr",
     "output_type": "stream",
     "text": [
      "\u001b[33m[W 2023-01-16 08:13:59,000]\u001b[0m Trial 435 failed because of the following error: KeyboardInterrupt()\u001b[0m\n",
      "Traceback (most recent call last):\n",
      "  File \"D:\\source\\repos\\venv\\Python310\\lib\\site-packages\\optuna\\study\\_optimize.py\", line 196, in _run_trial\n",
      "    value_or_values = func(trial)\n",
      "  File \"C:\\Users\\ryans\\AppData\\Local\\Temp\\ipykernel_43632\\1290881014.py\", line 26, in xgb_objective\n",
      "    reg.fit(X_train, y_train, eval_set=[(X_valid, y_valid)], verbose=False)\n",
      "  File \"D:\\source\\repos\\venv\\Python310\\lib\\site-packages\\xgboost\\core.py\", line 620, in inner_f\n",
      "    return func(**kwargs)\n",
      "  File \"D:\\source\\repos\\venv\\Python310\\lib\\site-packages\\xgboost\\sklearn.py\", line 1025, in fit\n",
      "    self._Booster = train(\n",
      "  File \"D:\\source\\repos\\venv\\Python310\\lib\\site-packages\\xgboost\\core.py\", line 620, in inner_f\n",
      "    return func(**kwargs)\n",
      "  File \"D:\\source\\repos\\venv\\Python310\\lib\\site-packages\\xgboost\\training.py\", line 185, in train\n",
      "    bst.update(dtrain, i, obj)\n",
      "  File \"D:\\source\\repos\\venv\\Python310\\lib\\site-packages\\xgboost\\core.py\", line 1918, in update\n",
      "    _check_call(_LIB.XGBoosterUpdateOneIter(self.handle,\n",
      "KeyboardInterrupt\n"
     ]
    },
    {
     "ename": "KeyboardInterrupt",
     "evalue": "",
     "output_type": "error",
     "traceback": [
      "\u001b[1;31m---------------------------------------------------------------------------\u001b[0m",
      "\u001b[1;31mKeyboardInterrupt\u001b[0m                         Traceback (most recent call last)",
      "Cell \u001b[1;32mIn[82], line 5\u001b[0m\n\u001b[0;32m      3\u001b[0m train_time \u001b[38;5;241m=\u001b[39m \u001b[38;5;241m1\u001b[39m \u001b[38;5;241m*\u001b[39m \u001b[38;5;241m60\u001b[39m \u001b[38;5;241m*\u001b[39m \u001b[38;5;241m60\u001b[39m\n\u001b[0;32m      4\u001b[0m study \u001b[38;5;241m=\u001b[39m optuna\u001b[38;5;241m.\u001b[39mcreate_study(direction\u001b[38;5;241m=\u001b[39m\u001b[38;5;124m'\u001b[39m\u001b[38;5;124mmaximize\u001b[39m\u001b[38;5;124m'\u001b[39m, sampler\u001b[38;5;241m=\u001b[39mTPESampler(), study_name\u001b[38;5;241m=\u001b[39m\u001b[38;5;124m'\u001b[39m\u001b[38;5;124mXGBRegressor\u001b[39m\u001b[38;5;124m'\u001b[39m)\n\u001b[1;32m----> 5\u001b[0m \u001b[43mstudy\u001b[49m\u001b[38;5;241;43m.\u001b[39;49m\u001b[43moptimize\u001b[49m\u001b[43m(\u001b[49m\u001b[43mxgb_objective\u001b[49m\u001b[43m,\u001b[49m\u001b[43m \u001b[49m\u001b[43mtimeout\u001b[49m\u001b[38;5;241;43m=\u001b[39;49m\u001b[43mtrain_time\u001b[49m\u001b[43m)\u001b[49m\n",
      "File \u001b[1;32mD:\\source\\repos\\venv\\Python310\\lib\\site-packages\\optuna\\study\\study.py:419\u001b[0m, in \u001b[0;36mStudy.optimize\u001b[1;34m(self, func, n_trials, timeout, n_jobs, catch, callbacks, gc_after_trial, show_progress_bar)\u001b[0m\n\u001b[0;32m    315\u001b[0m \u001b[38;5;28;01mdef\u001b[39;00m \u001b[38;5;21moptimize\u001b[39m(\n\u001b[0;32m    316\u001b[0m     \u001b[38;5;28mself\u001b[39m,\n\u001b[0;32m    317\u001b[0m     func: ObjectiveFuncType,\n\u001b[1;32m   (...)\u001b[0m\n\u001b[0;32m    324\u001b[0m     show_progress_bar: \u001b[38;5;28mbool\u001b[39m \u001b[38;5;241m=\u001b[39m \u001b[38;5;28;01mFalse\u001b[39;00m,\n\u001b[0;32m    325\u001b[0m ) \u001b[38;5;241m-\u001b[39m\u001b[38;5;241m>\u001b[39m \u001b[38;5;28;01mNone\u001b[39;00m:\n\u001b[0;32m    326\u001b[0m     \u001b[38;5;124;03m\"\"\"Optimize an objective function.\u001b[39;00m\n\u001b[0;32m    327\u001b[0m \n\u001b[0;32m    328\u001b[0m \u001b[38;5;124;03m    Optimization is done by choosing a suitable set of hyperparameter values from a given\u001b[39;00m\n\u001b[1;32m   (...)\u001b[0m\n\u001b[0;32m    416\u001b[0m \u001b[38;5;124;03m            If nested invocation of this method occurs.\u001b[39;00m\n\u001b[0;32m    417\u001b[0m \u001b[38;5;124;03m    \"\"\"\u001b[39;00m\n\u001b[1;32m--> 419\u001b[0m     \u001b[43m_optimize\u001b[49m\u001b[43m(\u001b[49m\n\u001b[0;32m    420\u001b[0m \u001b[43m        \u001b[49m\u001b[43mstudy\u001b[49m\u001b[38;5;241;43m=\u001b[39;49m\u001b[38;5;28;43mself\u001b[39;49m\u001b[43m,\u001b[49m\n\u001b[0;32m    421\u001b[0m \u001b[43m        \u001b[49m\u001b[43mfunc\u001b[49m\u001b[38;5;241;43m=\u001b[39;49m\u001b[43mfunc\u001b[49m\u001b[43m,\u001b[49m\n\u001b[0;32m    422\u001b[0m \u001b[43m        \u001b[49m\u001b[43mn_trials\u001b[49m\u001b[38;5;241;43m=\u001b[39;49m\u001b[43mn_trials\u001b[49m\u001b[43m,\u001b[49m\n\u001b[0;32m    423\u001b[0m \u001b[43m        \u001b[49m\u001b[43mtimeout\u001b[49m\u001b[38;5;241;43m=\u001b[39;49m\u001b[43mtimeout\u001b[49m\u001b[43m,\u001b[49m\n\u001b[0;32m    424\u001b[0m \u001b[43m        \u001b[49m\u001b[43mn_jobs\u001b[49m\u001b[38;5;241;43m=\u001b[39;49m\u001b[43mn_jobs\u001b[49m\u001b[43m,\u001b[49m\n\u001b[0;32m    425\u001b[0m \u001b[43m        \u001b[49m\u001b[43mcatch\u001b[49m\u001b[38;5;241;43m=\u001b[39;49m\u001b[43mcatch\u001b[49m\u001b[43m,\u001b[49m\n\u001b[0;32m    426\u001b[0m \u001b[43m        \u001b[49m\u001b[43mcallbacks\u001b[49m\u001b[38;5;241;43m=\u001b[39;49m\u001b[43mcallbacks\u001b[49m\u001b[43m,\u001b[49m\n\u001b[0;32m    427\u001b[0m \u001b[43m        \u001b[49m\u001b[43mgc_after_trial\u001b[49m\u001b[38;5;241;43m=\u001b[39;49m\u001b[43mgc_after_trial\u001b[49m\u001b[43m,\u001b[49m\n\u001b[0;32m    428\u001b[0m \u001b[43m        \u001b[49m\u001b[43mshow_progress_bar\u001b[49m\u001b[38;5;241;43m=\u001b[39;49m\u001b[43mshow_progress_bar\u001b[49m\u001b[43m,\u001b[49m\n\u001b[0;32m    429\u001b[0m \u001b[43m    \u001b[49m\u001b[43m)\u001b[49m\n",
      "File \u001b[1;32mD:\\source\\repos\\venv\\Python310\\lib\\site-packages\\optuna\\study\\_optimize.py:66\u001b[0m, in \u001b[0;36m_optimize\u001b[1;34m(study, func, n_trials, timeout, n_jobs, catch, callbacks, gc_after_trial, show_progress_bar)\u001b[0m\n\u001b[0;32m     64\u001b[0m \u001b[38;5;28;01mtry\u001b[39;00m:\n\u001b[0;32m     65\u001b[0m     \u001b[38;5;28;01mif\u001b[39;00m n_jobs \u001b[38;5;241m==\u001b[39m \u001b[38;5;241m1\u001b[39m:\n\u001b[1;32m---> 66\u001b[0m         \u001b[43m_optimize_sequential\u001b[49m\u001b[43m(\u001b[49m\n\u001b[0;32m     67\u001b[0m \u001b[43m            \u001b[49m\u001b[43mstudy\u001b[49m\u001b[43m,\u001b[49m\n\u001b[0;32m     68\u001b[0m \u001b[43m            \u001b[49m\u001b[43mfunc\u001b[49m\u001b[43m,\u001b[49m\n\u001b[0;32m     69\u001b[0m \u001b[43m            \u001b[49m\u001b[43mn_trials\u001b[49m\u001b[43m,\u001b[49m\n\u001b[0;32m     70\u001b[0m \u001b[43m            \u001b[49m\u001b[43mtimeout\u001b[49m\u001b[43m,\u001b[49m\n\u001b[0;32m     71\u001b[0m \u001b[43m            \u001b[49m\u001b[43mcatch\u001b[49m\u001b[43m,\u001b[49m\n\u001b[0;32m     72\u001b[0m \u001b[43m            \u001b[49m\u001b[43mcallbacks\u001b[49m\u001b[43m,\u001b[49m\n\u001b[0;32m     73\u001b[0m \u001b[43m            \u001b[49m\u001b[43mgc_after_trial\u001b[49m\u001b[43m,\u001b[49m\n\u001b[0;32m     74\u001b[0m \u001b[43m            \u001b[49m\u001b[43mreseed_sampler_rng\u001b[49m\u001b[38;5;241;43m=\u001b[39;49m\u001b[38;5;28;43;01mFalse\u001b[39;49;00m\u001b[43m,\u001b[49m\n\u001b[0;32m     75\u001b[0m \u001b[43m            \u001b[49m\u001b[43mtime_start\u001b[49m\u001b[38;5;241;43m=\u001b[39;49m\u001b[38;5;28;43;01mNone\u001b[39;49;00m\u001b[43m,\u001b[49m\n\u001b[0;32m     76\u001b[0m \u001b[43m            \u001b[49m\u001b[43mprogress_bar\u001b[49m\u001b[38;5;241;43m=\u001b[39;49m\u001b[43mprogress_bar\u001b[49m\u001b[43m,\u001b[49m\n\u001b[0;32m     77\u001b[0m \u001b[43m        \u001b[49m\u001b[43m)\u001b[49m\n\u001b[0;32m     78\u001b[0m     \u001b[38;5;28;01melse\u001b[39;00m:\n\u001b[0;32m     79\u001b[0m         \u001b[38;5;28;01mif\u001b[39;00m n_jobs \u001b[38;5;241m==\u001b[39m \u001b[38;5;241m-\u001b[39m\u001b[38;5;241m1\u001b[39m:\n",
      "File \u001b[1;32mD:\\source\\repos\\venv\\Python310\\lib\\site-packages\\optuna\\study\\_optimize.py:160\u001b[0m, in \u001b[0;36m_optimize_sequential\u001b[1;34m(study, func, n_trials, timeout, catch, callbacks, gc_after_trial, reseed_sampler_rng, time_start, progress_bar)\u001b[0m\n\u001b[0;32m    157\u001b[0m         \u001b[38;5;28;01mbreak\u001b[39;00m\n\u001b[0;32m    159\u001b[0m \u001b[38;5;28;01mtry\u001b[39;00m:\n\u001b[1;32m--> 160\u001b[0m     frozen_trial \u001b[38;5;241m=\u001b[39m \u001b[43m_run_trial\u001b[49m\u001b[43m(\u001b[49m\u001b[43mstudy\u001b[49m\u001b[43m,\u001b[49m\u001b[43m \u001b[49m\u001b[43mfunc\u001b[49m\u001b[43m,\u001b[49m\u001b[43m \u001b[49m\u001b[43mcatch\u001b[49m\u001b[43m)\u001b[49m\n\u001b[0;32m    161\u001b[0m \u001b[38;5;28;01mfinally\u001b[39;00m:\n\u001b[0;32m    162\u001b[0m     \u001b[38;5;66;03m# The following line mitigates memory problems that can be occurred in some\u001b[39;00m\n\u001b[0;32m    163\u001b[0m     \u001b[38;5;66;03m# environments (e.g., services that use computing containers such as CircleCI).\u001b[39;00m\n\u001b[0;32m    164\u001b[0m     \u001b[38;5;66;03m# Please refer to the following PR for further details:\u001b[39;00m\n\u001b[0;32m    165\u001b[0m     \u001b[38;5;66;03m# https://github.com/optuna/optuna/pull/325.\u001b[39;00m\n\u001b[0;32m    166\u001b[0m     \u001b[38;5;28;01mif\u001b[39;00m gc_after_trial:\n",
      "File \u001b[1;32mD:\\source\\repos\\venv\\Python310\\lib\\site-packages\\optuna\\study\\_optimize.py:234\u001b[0m, in \u001b[0;36m_run_trial\u001b[1;34m(study, func, catch)\u001b[0m\n\u001b[0;32m    227\u001b[0m         \u001b[38;5;28;01massert\u001b[39;00m \u001b[38;5;28;01mFalse\u001b[39;00m, \u001b[38;5;124m\"\u001b[39m\u001b[38;5;124mShould not reach.\u001b[39m\u001b[38;5;124m\"\u001b[39m\n\u001b[0;32m    229\u001b[0m \u001b[38;5;28;01mif\u001b[39;00m (\n\u001b[0;32m    230\u001b[0m     frozen_trial\u001b[38;5;241m.\u001b[39mstate \u001b[38;5;241m==\u001b[39m TrialState\u001b[38;5;241m.\u001b[39mFAIL\n\u001b[0;32m    231\u001b[0m     \u001b[38;5;129;01mand\u001b[39;00m func_err \u001b[38;5;129;01mis\u001b[39;00m \u001b[38;5;129;01mnot\u001b[39;00m \u001b[38;5;28;01mNone\u001b[39;00m\n\u001b[0;32m    232\u001b[0m     \u001b[38;5;129;01mand\u001b[39;00m \u001b[38;5;129;01mnot\u001b[39;00m \u001b[38;5;28misinstance\u001b[39m(func_err, catch)\n\u001b[0;32m    233\u001b[0m ):\n\u001b[1;32m--> 234\u001b[0m     \u001b[38;5;28;01mraise\u001b[39;00m func_err\n\u001b[0;32m    235\u001b[0m \u001b[38;5;28;01mreturn\u001b[39;00m frozen_trial\n",
      "File \u001b[1;32mD:\\source\\repos\\venv\\Python310\\lib\\site-packages\\optuna\\study\\_optimize.py:196\u001b[0m, in \u001b[0;36m_run_trial\u001b[1;34m(study, func, catch)\u001b[0m\n\u001b[0;32m    194\u001b[0m \u001b[38;5;28;01mwith\u001b[39;00m get_heartbeat_thread(trial\u001b[38;5;241m.\u001b[39m_trial_id, study\u001b[38;5;241m.\u001b[39m_storage):\n\u001b[0;32m    195\u001b[0m     \u001b[38;5;28;01mtry\u001b[39;00m:\n\u001b[1;32m--> 196\u001b[0m         value_or_values \u001b[38;5;241m=\u001b[39m \u001b[43mfunc\u001b[49m\u001b[43m(\u001b[49m\u001b[43mtrial\u001b[49m\u001b[43m)\u001b[49m\n\u001b[0;32m    197\u001b[0m     \u001b[38;5;28;01mexcept\u001b[39;00m exceptions\u001b[38;5;241m.\u001b[39mTrialPruned \u001b[38;5;28;01mas\u001b[39;00m e:\n\u001b[0;32m    198\u001b[0m         \u001b[38;5;66;03m# TODO(mamu): Handle multi-objective cases.\u001b[39;00m\n\u001b[0;32m    199\u001b[0m         state \u001b[38;5;241m=\u001b[39m TrialState\u001b[38;5;241m.\u001b[39mPRUNED\n",
      "Cell \u001b[1;32mIn[78], line 26\u001b[0m, in \u001b[0;36mxgb_objective\u001b[1;34m(trial)\u001b[0m\n\u001b[0;32m      5\u001b[0m param_grid \u001b[38;5;241m=\u001b[39m {\n\u001b[0;32m      6\u001b[0m     \u001b[38;5;124m'\u001b[39m\u001b[38;5;124mmax_depth\u001b[39m\u001b[38;5;124m'\u001b[39m: trial\u001b[38;5;241m.\u001b[39msuggest_int(\u001b[38;5;124m'\u001b[39m\u001b[38;5;124mmax_depth\u001b[39m\u001b[38;5;124m'\u001b[39m, \u001b[38;5;241m4\u001b[39m, \u001b[38;5;241m20\u001b[39m),\n\u001b[0;32m      7\u001b[0m     \u001b[38;5;124m'\u001b[39m\u001b[38;5;124mn_estimators\u001b[39m\u001b[38;5;124m'\u001b[39m: trial\u001b[38;5;241m.\u001b[39msuggest_int(\u001b[38;5;124m'\u001b[39m\u001b[38;5;124mn_estimators\u001b[39m\u001b[38;5;124m'\u001b[39m, \u001b[38;5;241m2\u001b[39m, \u001b[38;5;241m100\u001b[39m, \u001b[38;5;241m1\u001b[39m), \n\u001b[1;32m   (...)\u001b[0m\n\u001b[0;32m     12\u001b[0m \n\u001b[0;32m     13\u001b[0m } \n\u001b[0;32m     15\u001b[0m reg \u001b[38;5;241m=\u001b[39m xgb\u001b[38;5;241m.\u001b[39mXGBModel(\n\u001b[0;32m     16\u001b[0m     \u001b[38;5;66;03m# These parameters should help with trial speed.\u001b[39;00m\n\u001b[0;32m     17\u001b[0m     objective\u001b[38;5;241m=\u001b[39m\u001b[38;5;124m'\u001b[39m\u001b[38;5;124mbinary:logistic\u001b[39m\u001b[38;5;124m'\u001b[39m,\n\u001b[1;32m   (...)\u001b[0m\n\u001b[0;32m     23\u001b[0m     \u001b[38;5;241m*\u001b[39m\u001b[38;5;241m*\u001b[39mparam_grid\n\u001b[0;32m     24\u001b[0m )\n\u001b[1;32m---> 26\u001b[0m \u001b[43mreg\u001b[49m\u001b[38;5;241;43m.\u001b[39;49m\u001b[43mfit\u001b[49m\u001b[43m(\u001b[49m\u001b[43mX_train\u001b[49m\u001b[43m,\u001b[49m\u001b[43m \u001b[49m\u001b[43my_train\u001b[49m\u001b[43m,\u001b[49m\u001b[43m \u001b[49m\u001b[43meval_set\u001b[49m\u001b[38;5;241;43m=\u001b[39;49m\u001b[43m[\u001b[49m\u001b[43m(\u001b[49m\u001b[43mX_valid\u001b[49m\u001b[43m,\u001b[49m\u001b[43m \u001b[49m\u001b[43my_valid\u001b[49m\u001b[43m)\u001b[49m\u001b[43m]\u001b[49m\u001b[43m,\u001b[49m\u001b[43m \u001b[49m\u001b[43mverbose\u001b[49m\u001b[38;5;241;43m=\u001b[39;49m\u001b[38;5;28;43;01mFalse\u001b[39;49;00m\u001b[43m)\u001b[49m\n\u001b[0;32m     28\u001b[0m preds \u001b[38;5;241m=\u001b[39m reg\u001b[38;5;241m.\u001b[39mpredict(X_valid)\n\u001b[0;32m     29\u001b[0m fpr, tpr, _ \u001b[38;5;241m=\u001b[39m roc_curve(y_valid, preds)\n",
      "File \u001b[1;32mD:\\source\\repos\\venv\\Python310\\lib\\site-packages\\xgboost\\core.py:620\u001b[0m, in \u001b[0;36mrequire_keyword_args.<locals>.throw_if.<locals>.inner_f\u001b[1;34m(*args, **kwargs)\u001b[0m\n\u001b[0;32m    618\u001b[0m \u001b[38;5;28;01mfor\u001b[39;00m k, arg \u001b[38;5;129;01min\u001b[39;00m \u001b[38;5;28mzip\u001b[39m(sig\u001b[38;5;241m.\u001b[39mparameters, args):\n\u001b[0;32m    619\u001b[0m     kwargs[k] \u001b[38;5;241m=\u001b[39m arg\n\u001b[1;32m--> 620\u001b[0m \u001b[38;5;28;01mreturn\u001b[39;00m func(\u001b[38;5;241m*\u001b[39m\u001b[38;5;241m*\u001b[39mkwargs)\n",
      "File \u001b[1;32mD:\\source\\repos\\venv\\Python310\\lib\\site-packages\\xgboost\\sklearn.py:1025\u001b[0m, in \u001b[0;36mXGBModel.fit\u001b[1;34m(self, X, y, sample_weight, base_margin, eval_set, eval_metric, early_stopping_rounds, verbose, xgb_model, sample_weight_eval_set, base_margin_eval_set, feature_weights, callbacks)\u001b[0m\n\u001b[0;32m   1014\u001b[0m     obj \u001b[38;5;241m=\u001b[39m \u001b[38;5;28;01mNone\u001b[39;00m\n\u001b[0;32m   1016\u001b[0m (\n\u001b[0;32m   1017\u001b[0m     model,\n\u001b[0;32m   1018\u001b[0m     metric,\n\u001b[1;32m   (...)\u001b[0m\n\u001b[0;32m   1023\u001b[0m     xgb_model, eval_metric, params, early_stopping_rounds, callbacks\n\u001b[0;32m   1024\u001b[0m )\n\u001b[1;32m-> 1025\u001b[0m \u001b[38;5;28mself\u001b[39m\u001b[38;5;241m.\u001b[39m_Booster \u001b[38;5;241m=\u001b[39m \u001b[43mtrain\u001b[49m\u001b[43m(\u001b[49m\n\u001b[0;32m   1026\u001b[0m \u001b[43m    \u001b[49m\u001b[43mparams\u001b[49m\u001b[43m,\u001b[49m\n\u001b[0;32m   1027\u001b[0m \u001b[43m    \u001b[49m\u001b[43mtrain_dmatrix\u001b[49m\u001b[43m,\u001b[49m\n\u001b[0;32m   1028\u001b[0m \u001b[43m    \u001b[49m\u001b[38;5;28;43mself\u001b[39;49m\u001b[38;5;241;43m.\u001b[39;49m\u001b[43mget_num_boosting_rounds\u001b[49m\u001b[43m(\u001b[49m\u001b[43m)\u001b[49m\u001b[43m,\u001b[49m\n\u001b[0;32m   1029\u001b[0m \u001b[43m    \u001b[49m\u001b[43mevals\u001b[49m\u001b[38;5;241;43m=\u001b[39;49m\u001b[43mevals\u001b[49m\u001b[43m,\u001b[49m\n\u001b[0;32m   1030\u001b[0m \u001b[43m    \u001b[49m\u001b[43mearly_stopping_rounds\u001b[49m\u001b[38;5;241;43m=\u001b[39;49m\u001b[43mearly_stopping_rounds\u001b[49m\u001b[43m,\u001b[49m\n\u001b[0;32m   1031\u001b[0m \u001b[43m    \u001b[49m\u001b[43mevals_result\u001b[49m\u001b[38;5;241;43m=\u001b[39;49m\u001b[43mevals_result\u001b[49m\u001b[43m,\u001b[49m\n\u001b[0;32m   1032\u001b[0m \u001b[43m    \u001b[49m\u001b[43mobj\u001b[49m\u001b[38;5;241;43m=\u001b[39;49m\u001b[43mobj\u001b[49m\u001b[43m,\u001b[49m\n\u001b[0;32m   1033\u001b[0m \u001b[43m    \u001b[49m\u001b[43mcustom_metric\u001b[49m\u001b[38;5;241;43m=\u001b[39;49m\u001b[43mmetric\u001b[49m\u001b[43m,\u001b[49m\n\u001b[0;32m   1034\u001b[0m \u001b[43m    \u001b[49m\u001b[43mverbose_eval\u001b[49m\u001b[38;5;241;43m=\u001b[39;49m\u001b[43mverbose\u001b[49m\u001b[43m,\u001b[49m\n\u001b[0;32m   1035\u001b[0m \u001b[43m    \u001b[49m\u001b[43mxgb_model\u001b[49m\u001b[38;5;241;43m=\u001b[39;49m\u001b[43mmodel\u001b[49m\u001b[43m,\u001b[49m\n\u001b[0;32m   1036\u001b[0m \u001b[43m    \u001b[49m\u001b[43mcallbacks\u001b[49m\u001b[38;5;241;43m=\u001b[39;49m\u001b[43mcallbacks\u001b[49m\u001b[43m,\u001b[49m\n\u001b[0;32m   1037\u001b[0m \u001b[43m\u001b[49m\u001b[43m)\u001b[49m\n\u001b[0;32m   1039\u001b[0m \u001b[38;5;28mself\u001b[39m\u001b[38;5;241m.\u001b[39m_set_evaluation_result(evals_result)\n\u001b[0;32m   1040\u001b[0m \u001b[38;5;28;01mreturn\u001b[39;00m \u001b[38;5;28mself\u001b[39m\n",
      "File \u001b[1;32mD:\\source\\repos\\venv\\Python310\\lib\\site-packages\\xgboost\\core.py:620\u001b[0m, in \u001b[0;36mrequire_keyword_args.<locals>.throw_if.<locals>.inner_f\u001b[1;34m(*args, **kwargs)\u001b[0m\n\u001b[0;32m    618\u001b[0m \u001b[38;5;28;01mfor\u001b[39;00m k, arg \u001b[38;5;129;01min\u001b[39;00m \u001b[38;5;28mzip\u001b[39m(sig\u001b[38;5;241m.\u001b[39mparameters, args):\n\u001b[0;32m    619\u001b[0m     kwargs[k] \u001b[38;5;241m=\u001b[39m arg\n\u001b[1;32m--> 620\u001b[0m \u001b[38;5;28;01mreturn\u001b[39;00m func(\u001b[38;5;241m*\u001b[39m\u001b[38;5;241m*\u001b[39mkwargs)\n",
      "File \u001b[1;32mD:\\source\\repos\\venv\\Python310\\lib\\site-packages\\xgboost\\training.py:185\u001b[0m, in \u001b[0;36mtrain\u001b[1;34m(params, dtrain, num_boost_round, evals, obj, feval, maximize, early_stopping_rounds, evals_result, verbose_eval, xgb_model, callbacks, custom_metric)\u001b[0m\n\u001b[0;32m    183\u001b[0m \u001b[38;5;28;01mif\u001b[39;00m cb_container\u001b[38;5;241m.\u001b[39mbefore_iteration(bst, i, dtrain, evals):\n\u001b[0;32m    184\u001b[0m     \u001b[38;5;28;01mbreak\u001b[39;00m\n\u001b[1;32m--> 185\u001b[0m \u001b[43mbst\u001b[49m\u001b[38;5;241;43m.\u001b[39;49m\u001b[43mupdate\u001b[49m\u001b[43m(\u001b[49m\u001b[43mdtrain\u001b[49m\u001b[43m,\u001b[49m\u001b[43m \u001b[49m\u001b[43mi\u001b[49m\u001b[43m,\u001b[49m\u001b[43m \u001b[49m\u001b[43mobj\u001b[49m\u001b[43m)\u001b[49m\n\u001b[0;32m    186\u001b[0m \u001b[38;5;28;01mif\u001b[39;00m cb_container\u001b[38;5;241m.\u001b[39mafter_iteration(bst, i, dtrain, evals):\n\u001b[0;32m    187\u001b[0m     \u001b[38;5;28;01mbreak\u001b[39;00m\n",
      "File \u001b[1;32mD:\\source\\repos\\venv\\Python310\\lib\\site-packages\\xgboost\\core.py:1918\u001b[0m, in \u001b[0;36mBooster.update\u001b[1;34m(self, dtrain, iteration, fobj)\u001b[0m\n\u001b[0;32m   1915\u001b[0m \u001b[38;5;28mself\u001b[39m\u001b[38;5;241m.\u001b[39m_validate_dmatrix_features(dtrain)\n\u001b[0;32m   1917\u001b[0m \u001b[38;5;28;01mif\u001b[39;00m fobj \u001b[38;5;129;01mis\u001b[39;00m \u001b[38;5;28;01mNone\u001b[39;00m:\n\u001b[1;32m-> 1918\u001b[0m     _check_call(\u001b[43m_LIB\u001b[49m\u001b[38;5;241;43m.\u001b[39;49m\u001b[43mXGBoosterUpdateOneIter\u001b[49m\u001b[43m(\u001b[49m\u001b[38;5;28;43mself\u001b[39;49m\u001b[38;5;241;43m.\u001b[39;49m\u001b[43mhandle\u001b[49m\u001b[43m,\u001b[49m\n\u001b[0;32m   1919\u001b[0m \u001b[43m                                            \u001b[49m\u001b[43mctypes\u001b[49m\u001b[38;5;241;43m.\u001b[39;49m\u001b[43mc_int\u001b[49m\u001b[43m(\u001b[49m\u001b[43miteration\u001b[49m\u001b[43m)\u001b[49m\u001b[43m,\u001b[49m\n\u001b[0;32m   1920\u001b[0m \u001b[43m                                            \u001b[49m\u001b[43mdtrain\u001b[49m\u001b[38;5;241;43m.\u001b[39;49m\u001b[43mhandle\u001b[49m\u001b[43m)\u001b[49m)\n\u001b[0;32m   1921\u001b[0m \u001b[38;5;28;01melse\u001b[39;00m:\n\u001b[0;32m   1922\u001b[0m     pred \u001b[38;5;241m=\u001b[39m \u001b[38;5;28mself\u001b[39m\u001b[38;5;241m.\u001b[39mpredict(dtrain, output_margin\u001b[38;5;241m=\u001b[39m\u001b[38;5;28;01mTrue\u001b[39;00m, training\u001b[38;5;241m=\u001b[39m\u001b[38;5;28;01mTrue\u001b[39;00m)\n",
      "\u001b[1;31mKeyboardInterrupt\u001b[0m: "
     ]
    }
   ],
   "source": [
    "xgb_ranks = {}\n",
    "    \n",
    "train_time = 1 * 60 * 60\n",
    "study = optuna.create_study(direction='maximize', sampler=TPESampler(), study_name='XGBRegressor')\n",
    "study.optimize(xgb_objective, timeout=train_time)"
   ]
  },
  {
   "cell_type": "code",
   "execution_count": 83,
   "id": "0cb0354c-157a-4333-a044-4161bfb81315",
   "metadata": {
    "tags": []
   },
   "outputs": [],
   "source": [
    "xgb_ranks_bytes = pickle.dumps(xgb_ranks)\n",
    "with open(\"xgb_ranks_bytes.hex\", \"wb\") as binary_file:\n",
    "    binary_file.write(xgb_ranks_bytes)"
   ]
  },
  {
   "cell_type": "code",
   "execution_count": 98,
   "id": "fff5efd3-6c31-4cf4-9bb3-649cf355a273",
   "metadata": {},
   "outputs": [
    {
     "name": "stderr",
     "output_type": "stream",
     "text": [
      "100%|██████████████████████████████████████████████████████████████████████████████████| 44/44 [00:00<00:00, 51.04it/s]\n"
     ]
    }
   ],
   "source": [
    "percent = math.ceil(len(xgb_ranks.keys()) * .1)\n",
    "top = sorted(list(xgb_ranks.keys()))[-percent:]\n",
    "\n",
    "train_preds = []\n",
    "test_preds = []\n",
    "for key in tqdm(top):\n",
    "    train_preds.append(xgb_ranks[key].predict(X))\n",
    "    test_preds.append(xgb_ranks[key].predict(X_test))\n",
    "    \n",
    "train_final_preds = np.stack(train_preds).mean(0)\n",
    "test_final_preds = np.stack(test_preds).mean(0)"
   ]
  },
  {
   "cell_type": "code",
   "execution_count": 102,
   "id": "6a849ba6-0559-42be-88da-2b5f6738d4f1",
   "metadata": {},
   "outputs": [],
   "source": [
    "XGB_train_submission = pd.DataFrame(data={'id': train_df.id, 'stroke': train_final_preds})\n",
    "XGB_train_submission.to_csv(fr'rendered_data/XGB_train_submission.csv', index=False)\n",
    "\n",
    "XGB_test_submission = pd.DataFrame(data={'id': test_df.id, 'stroke': test_final_preds})\n",
    "XGB_test_submission.to_csv(fr'rendered_data/XGB_test_submission.csv', index=False)"
   ]
  },
  {
   "cell_type": "code",
   "execution_count": null,
   "id": "e39940d7-295b-4781-b008-0faa28ecb553",
   "metadata": {},
   "outputs": [],
   "source": []
  }
 ],
 "metadata": {
  "kernelspec": {
   "display_name": "Python 3 (ipykernel)",
   "language": "python",
   "name": "python3"
  },
  "language_info": {
   "codemirror_mode": {
    "name": "ipython",
    "version": 3
   },
   "file_extension": ".py",
   "mimetype": "text/x-python",
   "name": "python",
   "nbconvert_exporter": "python",
   "pygments_lexer": "ipython3",
   "version": "3.10.9"
  }
 },
 "nbformat": 4,
 "nbformat_minor": 5
}
