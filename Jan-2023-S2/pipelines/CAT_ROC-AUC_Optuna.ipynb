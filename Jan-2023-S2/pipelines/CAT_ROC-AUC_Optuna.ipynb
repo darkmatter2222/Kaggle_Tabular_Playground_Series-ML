{
 "cells": [
  {
   "cell_type": "code",
   "execution_count": 1,
   "id": "0ea2173c-c725-48a2-9f4b-0760d06f5369",
   "metadata": {},
   "outputs": [],
   "source": [
    "import numpy as np\n",
    "import pandas as pd\n",
    "import math\n",
    "import sys, os\n",
    "#import seaborn as sns\n",
    "#from scipy import stats\n",
    "#from pathlib import Path\n",
    "#import matplotlib.pyplot as plt\n",
    "#from sklearn.model_selection import KFold\n",
    "from sklearn.preprocessing import MinMaxScaler\n",
    "from sklearn.model_selection import train_test_split\n",
    "#from sklearn.metrics import mean_squared_error\n",
    "#from sklearn.metrics import mean_squared_error\n",
    "#from sklearn.preprocessing import MinMaxScaler\n",
    "#from sklearn.datasets import fetch_california_housing\n",
    "#import math\n",
    "from tqdm import tqdm\n",
    "from sklearn.feature_extraction.text import CountVectorizer\n",
    "import optuna\n",
    "from optuna.samplers import TPESampler\n",
    "#import lightgbm as lbgm\n",
    "#from xgboost import XGBRegressor\n",
    "#import xgboost as xgb\n",
    "from catboost import CatBoostRegressor\n",
    "#from lightgbm.sklearn import lbgmRegressor\n",
    "#from sklearn.ensemble import RandomForestRegressor\n",
    "import pickle\n",
    "from sklearn.metrics import roc_curve, auc"
   ]
  },
  {
   "cell_type": "code",
   "execution_count": 2,
   "id": "f4b3963c-3958-4512-945d-66cd855e2958",
   "metadata": {},
   "outputs": [],
   "source": [
    "sys.path.append(os.path.realpath('..'))"
   ]
  },
  {
   "cell_type": "code",
   "execution_count": 3,
   "id": "fb0c1a5f-5d8d-4051-b6cc-d50eb8f48296",
   "metadata": {},
   "outputs": [],
   "source": [
    "train_df = pd.read_csv(r\"D:\\source\\repos\\Kaggle_Tabular_Playground_Series-ML\\Jan-2023-S2\\data\\train.csv\")\n",
    "test_df = pd.read_csv(r\"D:\\source\\repos\\Kaggle_Tabular_Playground_Series-ML\\Jan-2023-S2\\data\\test.csv\")\n",
    "sample_sub = pd.read_csv(r\"D:\\source\\repos\\Kaggle_Tabular_Playground_Series-ML\\Jan-2023-S2\\data\\sample_submission.csv\")"
   ]
  },
  {
   "cell_type": "code",
   "execution_count": 4,
   "id": "4f91fca1-73d2-46a2-be27-255acb201292",
   "metadata": {},
   "outputs": [],
   "source": [
    "columns_to_vectorize = ['gender', 'ever_married', 'work_type', 'Residence_type', 'smoking_status']\n",
    "for vector_target in columns_to_vectorize:\n",
    "    vectorizer = CountVectorizer()\n",
    "    vectorizer.fit_transform(train_df[vector_target])\n",
    "    train_df[f'{vector_target}_v'] = vectorizer.transform(train_df[vector_target]).toarray().argmax(axis=1)[:,None]\n",
    "    vectorizer.fit_transform(test_df[vector_target])\n",
    "    test_df[f'{vector_target}_v'] = vectorizer.transform(test_df[vector_target]).toarray().argmax(axis=1)[:,None]"
   ]
  },
  {
   "cell_type": "code",
   "execution_count": 5,
   "id": "bf47c0d1-7407-41ee-8f49-b483c295621a",
   "metadata": {},
   "outputs": [],
   "source": [
    "features = ['id', 'age', 'hypertension', 'heart_disease', 'avg_glucose_level', 'bmi', 'gender_v', 'ever_married_v', 'work_type_v', 'Residence_type_v', 'smoking_status_v']\n",
    "target = ['stroke']"
   ]
  },
  {
   "cell_type": "code",
   "execution_count": 6,
   "id": "0b6f3634-fc77-4995-a975-a905a599e16f",
   "metadata": {},
   "outputs": [],
   "source": [
    "scaler = MinMaxScaler().fit(train_df[features])\n",
    "X = scaler.transform(train_df[features])\n",
    "X_test = scaler.transform(test_df[features])\n",
    "\n",
    "scaler = MinMaxScaler().fit(train_df[target])\n",
    "Y = scaler.transform(train_df[target])"
   ]
  },
  {
   "cell_type": "code",
   "execution_count": 7,
   "id": "1ca53f18-a11e-476f-a87a-93c34f0e6ce3",
   "metadata": {},
   "outputs": [],
   "source": [
    "def cat_objective(trial):\n",
    "    # Split the train data for each trial.\n",
    "    X_train, X_valid, y_train, y_valid = train_test_split(X, Y, stratify=Y, test_size=0.4)\n",
    "\n",
    "    param_grid = {\n",
    "        'depth': trial.suggest_int('depth', 1, 10),\n",
    "        'learning_rate': trial.suggest_float('learning_rate', 0.001, 0.1),\n",
    "        #'rsm': trial.suggest_float('rsm', 0.001, 0.9),\n",
    "        'subsample': trial.suggest_float('subsample', 0.1, 1),\n",
    "        'min_data_in_leaf': trial.suggest_int('min_data_in_leaf', 1, 100), \n",
    "        'l2_leaf_reg': trial.suggest_int('l2_leaf_reg', 1, 20),\n",
    "        'random_strength': trial.suggest_float('random_strength', 0.001, 0.9),\n",
    "    } \n",
    "\n",
    "    clf = CatBoostRegressor(iterations=20000,\n",
    "                            **param_grid,\n",
    "                            bootstrap_type='Bernoulli',\n",
    "                            grow_policy='SymmetricTree',\n",
    "                            #loss_function='Logloss',\n",
    "                            eval_metric='AUC',\n",
    "                            task_type=\"GPU\",\n",
    "                            random_state=1,)\n",
    "    \n",
    "    clf.fit(X_train, y_train, eval_set=(X_valid, y_valid), early_stopping_rounds=100, verbose=1000)\n",
    "    preds = clf.predict(X_valid)\n",
    "\n",
    "    fpr, tpr, _ = roc_curve(y_valid, preds)\n",
    "    roc_auc = auc(fpr, tpr)\n",
    "\n",
    "    cat_ranks[roc_auc] = clf\n",
    "\n",
    "    return roc_auc"
   ]
  },
  {
   "cell_type": "code",
   "execution_count": 8,
   "id": "4466b24c-6898-4186-818f-3d3013bee5d4",
   "metadata": {
    "collapsed": true,
    "jupyter": {
     "outputs_hidden": true
    },
    "tags": []
   },
   "outputs": [
    {
     "name": "stderr",
     "output_type": "stream",
     "text": [
      "\u001b[32m[I 2023-01-16 08:57:09,505]\u001b[0m A new study created in memory with name: CATRegressor\u001b[0m\n",
      "Default metric period is 5 because AUC is/are not implemented for GPU\n",
      "AUC is not implemented on GPU. Will use CPU for metric computation, this could significantly affect learning time\n"
     ]
    },
    {
     "name": "stdout",
     "output_type": "stream",
     "text": [
      "0:\ttest: 0.8879488\tbest: 0.8879488 (0)\ttotal: 25.6ms\tremaining: 8m 31s\n",
      "bestTest = 0.8999465942\n",
      "bestIteration = 148\n",
      "Shrink model to first 149 iterations.\n",
      "0.8999465941838171\n"
     ]
    },
    {
     "name": "stderr",
     "output_type": "stream",
     "text": [
      "\u001b[32m[I 2023-01-16 08:57:16,744]\u001b[0m Trial 0 finished with value: 0.8999465941838171 and parameters: {'depth': 5, 'learning_rate': 0.014854778598166467, 'subsample': 0.6004036544283574, 'min_data_in_leaf': 64, 'l2_leaf_reg': 6, 'random_strength': 0.5462398609623398}. Best is trial 0 with value: 0.8999465941838171.\u001b[0m\n",
      "Default metric period is 5 because AUC is/are not implemented for GPU\n",
      "AUC is not implemented on GPU. Will use CPU for metric computation, this could significantly affect learning time\n"
     ]
    },
    {
     "name": "stdout",
     "output_type": "stream",
     "text": [
      "0:\ttest: 0.7692027\tbest: 0.7692027 (0)\ttotal: 13.2ms\tremaining: 4m 23s\n",
      "bestTest = 0.8868779957\n",
      "bestIteration = 47\n",
      "Shrink model to first 48 iterations.\n",
      "0.8868779956588413\n"
     ]
    },
    {
     "name": "stderr",
     "output_type": "stream",
     "text": [
      "\u001b[32m[I 2023-01-16 08:57:20,612]\u001b[0m Trial 1 finished with value: 0.8868779956588413 and parameters: {'depth': 2, 'learning_rate': 0.07137331001021455, 'subsample': 0.33249562648175224, 'min_data_in_leaf': 49, 'l2_leaf_reg': 3, 'random_strength': 0.7071469323405625}. Best is trial 0 with value: 0.8999465941838171.\u001b[0m\n",
      "Default metric period is 5 because AUC is/are not implemented for GPU\n",
      "AUC is not implemented on GPU. Will use CPU for metric computation, this could significantly affect learning time\n"
     ]
    },
    {
     "name": "stdout",
     "output_type": "stream",
     "text": [
      "0:\ttest: 0.8543806\tbest: 0.8543806 (0)\ttotal: 38.3ms\tremaining: 12m 46s\n",
      "bestTest = 0.8763773212\n",
      "bestIteration = 15\n",
      "Shrink model to first 16 iterations.\n",
      "0.8763773211831174\n"
     ]
    },
    {
     "name": "stderr",
     "output_type": "stream",
     "text": [
      "\u001b[32m[I 2023-01-16 08:57:24,769]\u001b[0m Trial 2 finished with value: 0.8763773211831174 and parameters: {'depth': 7, 'learning_rate': 0.09130960999653082, 'subsample': 0.7252322478459043, 'min_data_in_leaf': 99, 'l2_leaf_reg': 16, 'random_strength': 0.6567077081270296}. Best is trial 0 with value: 0.8999465941838171.\u001b[0m\n",
      "Default metric period is 5 because AUC is/are not implemented for GPU\n",
      "AUC is not implemented on GPU. Will use CPU for metric computation, this could significantly affect learning time\n"
     ]
    },
    {
     "name": "stdout",
     "output_type": "stream",
     "text": [
      "0:\ttest: 0.8753112\tbest: 0.8753112 (0)\ttotal: 25.2ms\tremaining: 8m 23s\n",
      "bestTest = 0.8875861447\n",
      "bestIteration = 65\n",
      "Shrink model to first 66 iterations.\n",
      "0.8875861446590481\n"
     ]
    },
    {
     "name": "stderr",
     "output_type": "stream",
     "text": [
      "\u001b[32m[I 2023-01-16 08:57:31,500]\u001b[0m Trial 3 finished with value: 0.8875861446590481 and parameters: {'depth': 9, 'learning_rate': 0.05614435896717688, 'subsample': 0.7365994174715769, 'min_data_in_leaf': 9, 'l2_leaf_reg': 16, 'random_strength': 0.2720796369262494}. Best is trial 0 with value: 0.8999465941838171.\u001b[0m\n",
      "Default metric period is 5 because AUC is/are not implemented for GPU\n",
      "AUC is not implemented on GPU. Will use CPU for metric computation, this could significantly affect learning time\n"
     ]
    },
    {
     "name": "stdout",
     "output_type": "stream",
     "text": [
      "0:\ttest: 0.7854888\tbest: 0.7854888 (0)\ttotal: 12.5ms\tremaining: 4m 9s\n",
      "bestTest = 0.8847781301\n",
      "bestIteration = 85\n",
      "Shrink model to first 86 iterations.\n",
      "0.8847781301499065\n"
     ]
    },
    {
     "name": "stderr",
     "output_type": "stream",
     "text": [
      "\u001b[32m[I 2023-01-16 08:57:36,252]\u001b[0m Trial 4 finished with value: 0.8847781301499065 and parameters: {'depth': 2, 'learning_rate': 0.034316616997099605, 'subsample': 0.4113190398724108, 'min_data_in_leaf': 78, 'l2_leaf_reg': 13, 'random_strength': 0.18109317313142193}. Best is trial 0 with value: 0.8999465941838171.\u001b[0m\n",
      "Default metric period is 5 because AUC is/are not implemented for GPU\n",
      "AUC is not implemented on GPU. Will use CPU for metric computation, this could significantly affect learning time\n"
     ]
    },
    {
     "name": "stdout",
     "output_type": "stream",
     "text": [
      "0:\ttest: 0.8629117\tbest: 0.8629117 (0)\ttotal: 19.3ms\tremaining: 6m 26s\n"
     ]
    },
    {
     "name": "stderr",
     "output_type": "stream",
     "text": [
      "\u001b[32m[I 2023-01-16 08:57:42,804]\u001b[0m Trial 5 finished with value: 0.8780512197470867 and parameters: {'depth': 6, 'learning_rate': 0.07513314282154883, 'subsample': 0.4039502186336419, 'min_data_in_leaf': 51, 'l2_leaf_reg': 19, 'random_strength': 0.011211370786612142}. Best is trial 0 with value: 0.8999465941838171.\u001b[0m\n"
     ]
    },
    {
     "name": "stdout",
     "output_type": "stream",
     "text": [
      "bestTest = 0.8780512197\n",
      "bestIteration = 95\n",
      "Shrink model to first 96 iterations.\n",
      "0.8780512197470867\n"
     ]
    },
    {
     "name": "stderr",
     "output_type": "stream",
     "text": [
      "Default metric period is 5 because AUC is/are not implemented for GPU\n",
      "AUC is not implemented on GPU. Will use CPU for metric computation, this could significantly affect learning time\n"
     ]
    },
    {
     "name": "stdout",
     "output_type": "stream",
     "text": [
      "0:\ttest: 0.8561087\tbest: 0.8561087 (0)\ttotal: 32.8ms\tremaining: 10m 55s\n"
     ]
    },
    {
     "name": "stderr",
     "output_type": "stream",
     "text": [
      "\u001b[32m[I 2023-01-16 08:57:47,401]\u001b[0m Trial 6 finished with value: 0.8758792934269091 and parameters: {'depth': 6, 'learning_rate': 0.04377488862024852, 'subsample': 0.18125923337592525, 'min_data_in_leaf': 82, 'l2_leaf_reg': 16, 'random_strength': 0.35695065856999486}. Best is trial 0 with value: 0.8999465941838171.\u001b[0m\n"
     ]
    },
    {
     "name": "stdout",
     "output_type": "stream",
     "text": [
      "bestTest = 0.8758792934\n",
      "bestIteration = 35\n",
      "Shrink model to first 36 iterations.\n",
      "0.8758792934269091\n"
     ]
    },
    {
     "name": "stderr",
     "output_type": "stream",
     "text": [
      "Default metric period is 5 because AUC is/are not implemented for GPU\n",
      "AUC is not implemented on GPU. Will use CPU for metric computation, this could significantly affect learning time\n"
     ]
    },
    {
     "name": "stdout",
     "output_type": "stream",
     "text": [
      "0:\ttest: 0.7896289\tbest: 0.7896289 (0)\ttotal: 17.2ms\tremaining: 5m 44s\n",
      "bestTest = 0.8689021906\n",
      "bestIteration = 465\n",
      "Shrink model to first 466 iterations.\n",
      "0.8689021905813152\n"
     ]
    },
    {
     "name": "stderr",
     "output_type": "stream",
     "text": [
      "\u001b[32m[I 2023-01-16 08:58:00,058]\u001b[0m Trial 7 finished with value: 0.8689021905813152 and parameters: {'depth': 2, 'learning_rate': 0.0029963330855961663, 'subsample': 0.9038161646711091, 'min_data_in_leaf': 69, 'l2_leaf_reg': 2, 'random_strength': 0.41481159960658115}. Best is trial 0 with value: 0.8999465941838171.\u001b[0m\n",
      "Default metric period is 5 because AUC is/are not implemented for GPU\n",
      "AUC is not implemented on GPU. Will use CPU for metric computation, this could significantly affect learning time\n"
     ]
    },
    {
     "name": "stdout",
     "output_type": "stream",
     "text": [
      "0:\ttest: 0.8679337\tbest: 0.8679337 (0)\ttotal: 44.8ms\tremaining: 14m 56s\n",
      "bestTest = 0.8885286597\n",
      "bestIteration = 38\n",
      "Shrink model to first 39 iterations.\n",
      "0.8885286596621762\n"
     ]
    },
    {
     "name": "stderr",
     "output_type": "stream",
     "text": [
      "\u001b[32m[I 2023-01-16 08:58:05,314]\u001b[0m Trial 8 finished with value: 0.8885286596621762 and parameters: {'depth': 8, 'learning_rate': 0.0868425678427451, 'subsample': 0.5954194395185842, 'min_data_in_leaf': 39, 'l2_leaf_reg': 19, 'random_strength': 0.6395687471127071}. Best is trial 0 with value: 0.8999465941838171.\u001b[0m\n",
      "Default metric period is 5 because AUC is/are not implemented for GPU\n",
      "AUC is not implemented on GPU. Will use CPU for metric computation, this could significantly affect learning time\n"
     ]
    },
    {
     "name": "stdout",
     "output_type": "stream",
     "text": [
      "0:\ttest: 0.8077101\tbest: 0.8077101 (0)\ttotal: 30.8ms\tremaining: 10m 14s\n",
      "bestTest = 0.8795288031\n",
      "bestIteration = 56\n",
      "Shrink model to first 57 iterations.\n",
      "0.8795281296448076\n"
     ]
    },
    {
     "name": "stderr",
     "output_type": "stream",
     "text": [
      "\u001b[32m[I 2023-01-16 08:58:10,379]\u001b[0m Trial 9 finished with value: 0.8795281296448076 and parameters: {'depth': 6, 'learning_rate': 0.02800040622270209, 'subsample': 0.7341214818009201, 'min_data_in_leaf': 100, 'l2_leaf_reg': 1, 'random_strength': 0.7899672334590286}. Best is trial 0 with value: 0.8999465941838171.\u001b[0m\n",
      "Default metric period is 5 because AUC is/are not implemented for GPU\n",
      "AUC is not implemented on GPU. Will use CPU for metric computation, this could significantly affect learning time\n"
     ]
    },
    {
     "name": "stdout",
     "output_type": "stream",
     "text": [
      "0:\ttest: 0.8675135\tbest: 0.8675135 (0)\ttotal: 31.5ms\tremaining: 10m 29s\n",
      "bestTest = 0.8940568014\n",
      "bestIteration = 384\n",
      "Shrink model to first 385 iterations.\n",
      "0.8940568014293633\n"
     ]
    },
    {
     "name": "stderr",
     "output_type": "stream",
     "text": [
      "\u001b[32m[I 2023-01-16 08:58:22,282]\u001b[0m Trial 10 finished with value: 0.8940568014293633 and parameters: {'depth': 4, 'learning_rate': 0.005449199025201391, 'subsample': 0.9086487899532625, 'min_data_in_leaf': 23, 'l2_leaf_reg': 7, 'random_strength': 0.536639590203486}. Best is trial 0 with value: 0.8999465941838171.\u001b[0m\n",
      "Default metric period is 5 because AUC is/are not implemented for GPU\n",
      "AUC is not implemented on GPU. Will use CPU for metric computation, this could significantly affect learning time\n"
     ]
    },
    {
     "name": "stdout",
     "output_type": "stream",
     "text": [
      "0:\ttest: 0.8648772\tbest: 0.8648772 (0)\ttotal: 28.7ms\tremaining: 9m 34s\n",
      "bestTest = 0.8823967561\n",
      "bestIteration = 489\n",
      "Shrink model to first 490 iterations.\n",
      "0.8823960825857304\n"
     ]
    },
    {
     "name": "stderr",
     "output_type": "stream",
     "text": [
      "\u001b[32m[I 2023-01-16 08:58:36,011]\u001b[0m Trial 11 finished with value: 0.8823960825857304 and parameters: {'depth': 4, 'learning_rate': 0.005400274791527604, 'subsample': 0.9987959585908622, 'min_data_in_leaf': 17, 'l2_leaf_reg': 7, 'random_strength': 0.5370986123897525}. Best is trial 0 with value: 0.8999465941838171.\u001b[0m\n",
      "Default metric period is 5 because AUC is/are not implemented for GPU\n",
      "AUC is not implemented on GPU. Will use CPU for metric computation, this could significantly affect learning time\n"
     ]
    },
    {
     "name": "stdout",
     "output_type": "stream",
     "text": [
      "0:\ttest: 0.8728174\tbest: 0.8728174 (0)\ttotal: 30.1ms\tremaining: 10m 2s\n",
      "bestTest = 0.8923344133\n",
      "bestIteration = 21\n",
      "Shrink model to first 22 iterations.\n",
      "0.892334413347548\n"
     ]
    },
    {
     "name": "stderr",
     "output_type": "stream",
     "text": [
      "\u001b[32m[I 2023-01-16 08:58:39,802]\u001b[0m Trial 12 finished with value: 0.892334413347548 and parameters: {'depth': 4, 'learning_rate': 0.02012286368699772, 'subsample': 0.5772691211457667, 'min_data_in_leaf': 24, 'l2_leaf_reg': 7, 'random_strength': 0.8858624082761745}. Best is trial 0 with value: 0.8999465941838171.\u001b[0m\n",
      "Default metric period is 5 because AUC is/are not implemented for GPU\n",
      "AUC is not implemented on GPU. Will use CPU for metric computation, this could significantly affect learning time\n"
     ]
    },
    {
     "name": "stdout",
     "output_type": "stream",
     "text": [
      "0:\ttest: 0.8622510\tbest: 0.8622510 (0)\ttotal: 26.9ms\tremaining: 8m 58s\n",
      "bestTest = 0.8810326516\n",
      "bestIteration = 74\n",
      "Shrink model to first 75 iterations.\n",
      "0.8810326516290794\n"
     ]
    },
    {
     "name": "stderr",
     "output_type": "stream",
     "text": [
      "\u001b[32m[I 2023-01-16 08:58:44,686]\u001b[0m Trial 13 finished with value: 0.8810326516290794 and parameters: {'depth': 4, 'learning_rate': 0.015548849951627815, 'subsample': 0.8861601914814102, 'min_data_in_leaf': 34, 'l2_leaf_reg': 7, 'random_strength': 0.5287853506390667}. Best is trial 0 with value: 0.8999465941838171.\u001b[0m\n",
      "Default metric period is 5 because AUC is/are not implemented for GPU\n",
      "AUC is not implemented on GPU. Will use CPU for metric computation, this could significantly affect learning time\n"
     ]
    },
    {
     "name": "stdout",
     "output_type": "stream",
     "text": [
      "0:\ttest: 0.8638330\tbest: 0.8638330 (0)\ttotal: 20.4ms\tremaining: 6m 48s\n",
      "bestTest = 0.8861583977\n",
      "bestIteration = 108\n",
      "Shrink model to first 109 iterations.\n",
      "0.8861583977446987\n"
     ]
    },
    {
     "name": "stderr",
     "output_type": "stream",
     "text": [
      "\u001b[32m[I 2023-01-16 08:58:50,373]\u001b[0m Trial 14 finished with value: 0.8861583977446987 and parameters: {'depth': 4, 'learning_rate': 0.015280466436352703, 'subsample': 0.13036200276447418, 'min_data_in_leaf': 60, 'l2_leaf_reg': 10, 'random_strength': 0.5293028069889854}. Best is trial 0 with value: 0.8999465941838171.\u001b[0m\n",
      "Default metric period is 5 because AUC is/are not implemented for GPU\n",
      "AUC is not implemented on GPU. Will use CPU for metric computation, this could significantly affect learning time\n"
     ]
    },
    {
     "name": "stdout",
     "output_type": "stream",
     "text": [
      "0:\ttest: 0.7718703\tbest: 0.7718703 (0)\ttotal: 25.9ms\tremaining: 8m 37s\n",
      "bestTest = 0.7718702878\n",
      "bestIteration = 0\n",
      "Shrink model to first 1 iterations.\n",
      "0.7718702878459004\n"
     ]
    },
    {
     "name": "stderr",
     "output_type": "stream",
     "text": [
      "\u001b[32m[I 2023-01-16 08:58:53,221]\u001b[0m Trial 15 finished with value: 0.7718702878459004 and parameters: {'depth': 1, 'learning_rate': 0.0013839719413472895, 'subsample': 0.8103268187513417, 'min_data_in_leaf': 2, 'l2_leaf_reg': 5, 'random_strength': 0.3192076639401104}. Best is trial 0 with value: 0.8999465941838171.\u001b[0m\n",
      "Default metric period is 5 because AUC is/are not implemented for GPU\n",
      "AUC is not implemented on GPU. Will use CPU for metric computation, this could significantly affect learning time\n"
     ]
    },
    {
     "name": "stdout",
     "output_type": "stream",
     "text": [
      "0:\ttest: 0.8770676\tbest: 0.8770676 (0)\ttotal: 32.5ms\tremaining: 10m 49s\n",
      "bestTest = 0.8878525003\n",
      "bestIteration = 28\n",
      "Shrink model to first 29 iterations.\n",
      "0.8878525002744373\n"
     ]
    },
    {
     "name": "stderr",
     "output_type": "stream",
     "text": [
      "\u001b[32m[I 2023-01-16 08:59:00,220]\u001b[0m Trial 16 finished with value: 0.8878525002744373 and parameters: {'depth': 10, 'learning_rate': 0.03396592796234692, 'subsample': 0.47717332776361887, 'min_data_in_leaf': 30, 'l2_leaf_reg': 10, 'random_strength': 0.5346360099365081}. Best is trial 0 with value: 0.8999465941838171.\u001b[0m\n",
      "Default metric period is 5 because AUC is/are not implemented for GPU\n",
      "AUC is not implemented on GPU. Will use CPU for metric computation, this could significantly affect learning time\n"
     ]
    },
    {
     "name": "stdout",
     "output_type": "stream",
     "text": [
      "0:\ttest: 0.8743701\tbest: 0.8743701 (0)\ttotal: 10.7ms\tremaining: 3m 34s\n",
      "bestTest = 0.8891037992\n",
      "bestIteration = 125\n",
      "Shrink model to first 126 iterations.\n",
      "0.8891037992210697\n"
     ]
    },
    {
     "name": "stderr",
     "output_type": "stream",
     "text": [
      "\u001b[32m[I 2023-01-16 08:59:06,915]\u001b[0m Trial 17 finished with value: 0.8891037992210697 and parameters: {'depth': 5, 'learning_rate': 0.05142624863816437, 'subsample': 0.6303305932130632, 'min_data_in_leaf': 45, 'l2_leaf_reg': 5, 'random_strength': 0.4328614979445012}. Best is trial 0 with value: 0.8999465941838171.\u001b[0m\n",
      "Default metric period is 5 because AUC is/are not implemented for GPU\n",
      "AUC is not implemented on GPU. Will use CPU for metric computation, this could significantly affect learning time\n"
     ]
    },
    {
     "name": "stdout",
     "output_type": "stream",
     "text": [
      "0:\ttest: 0.8568296\tbest: 0.8568296 (0)\ttotal: 15.2ms\tremaining: 5m 3s\n",
      "bestTest = 0.8792839984\n",
      "bestIteration = 114\n",
      "Shrink model to first 115 iterations.\n",
      "0.8792839983917642\n"
     ]
    },
    {
     "name": "stderr",
     "output_type": "stream",
     "text": [
      "\u001b[32m[I 2023-01-16 08:59:12,306]\u001b[0m Trial 18 finished with value: 0.8792839983917642 and parameters: {'depth': 3, 'learning_rate': 0.024132435016029415, 'subsample': 0.2554620737065086, 'min_data_in_leaf': 59, 'l2_leaf_reg': 13, 'random_strength': 0.20274352101416088}. Best is trial 0 with value: 0.8999465941838171.\u001b[0m\n",
      "Default metric period is 5 because AUC is/are not implemented for GPU\n",
      "AUC is not implemented on GPU. Will use CPU for metric computation, this could significantly affect learning time\n"
     ]
    },
    {
     "name": "stdout",
     "output_type": "stream",
     "text": [
      "0:\ttest: 0.8657130\tbest: 0.8657130 (0)\ttotal: 36.8ms\tremaining: 12m 16s\n"
     ]
    },
    {
     "name": "stderr",
     "output_type": "stream",
     "text": [
      "\u001b[32m[I 2023-01-16 08:59:19,215]\u001b[0m Trial 19 finished with value: 0.8820317377363611 and parameters: {'depth': 7, 'learning_rate': 0.010313258379445332, 'subsample': 0.9717414198925258, 'min_data_in_leaf': 20, 'l2_leaf_reg': 4, 'random_strength': 0.7129325310297981}. Best is trial 0 with value: 0.8999465941838171.\u001b[0m\n"
     ]
    },
    {
     "name": "stdout",
     "output_type": "stream",
     "text": [
      "bestTest = 0.8820317377\n",
      "bestIteration = 124\n",
      "Shrink model to first 125 iterations.\n",
      "0.8820317377363611\n"
     ]
    },
    {
     "name": "stderr",
     "output_type": "stream",
     "text": [
      "Default metric period is 5 because AUC is/are not implemented for GPU\n",
      "AUC is not implemented on GPU. Will use CPU for metric computation, this could significantly affect learning time\n"
     ]
    },
    {
     "name": "stdout",
     "output_type": "stream",
     "text": [
      "0:\ttest: 0.8683742\tbest: 0.8683742 (0)\ttotal: 16.1ms\tremaining: 5m 21s\n"
     ]
    },
    {
     "name": "stderr",
     "output_type": "stream",
     "text": [
      "\u001b[32m[I 2023-01-16 08:59:23,179]\u001b[0m Trial 20 finished with value: 0.8894179708887792 and parameters: {'depth': 5, 'learning_rate': 0.03857532180343221, 'subsample': 0.6563661664984369, 'min_data_in_leaf': 84, 'l2_leaf_reg': 8, 'random_strength': 0.6095949171072164}. Best is trial 0 with value: 0.8999465941838171.\u001b[0m\n"
     ]
    },
    {
     "name": "stdout",
     "output_type": "stream",
     "text": [
      "bestTest = 0.8894179709\n",
      "bestIteration = 24\n",
      "Shrink model to first 25 iterations.\n",
      "0.8894179708887792\n"
     ]
    },
    {
     "name": "stderr",
     "output_type": "stream",
     "text": [
      "Default metric period is 5 because AUC is/are not implemented for GPU\n",
      "AUC is not implemented on GPU. Will use CPU for metric computation, this could significantly affect learning time\n"
     ]
    },
    {
     "name": "stdout",
     "output_type": "stream",
     "text": [
      "0:\ttest: 0.8689988\tbest: 0.8689988 (0)\ttotal: 26.1ms\tremaining: 8m 41s\n",
      "bestTest = 0.8897644689\n",
      "bestIteration = 183\n",
      "Shrink model to first 184 iterations.\n",
      "0.8897644689017192\n"
     ]
    },
    {
     "name": "stderr",
     "output_type": "stream",
     "text": [
      "\u001b[32m[I 2023-01-16 08:59:29,916]\u001b[0m Trial 21 finished with value: 0.8897644689017192 and parameters: {'depth': 3, 'learning_rate': 0.02155973089452691, 'subsample': 0.5246547122512633, 'min_data_in_leaf': 22, 'l2_leaf_reg': 8, 'random_strength': 0.8771999560417293}. Best is trial 0 with value: 0.8999465941838171.\u001b[0m\n",
      "Default metric period is 5 because AUC is/are not implemented for GPU\n",
      "AUC is not implemented on GPU. Will use CPU for metric computation, this could significantly affect learning time\n"
     ]
    },
    {
     "name": "stdout",
     "output_type": "stream",
     "text": [
      "0:\ttest: 0.7594627\tbest: 0.7594627 (0)\ttotal: 29.9ms\tremaining: 9m 58s\n",
      "bestTest = 0.877914843\n",
      "bestIteration = 116\n",
      "Shrink model to first 117 iterations.\n",
      "0.8779148429781454\n"
     ]
    },
    {
     "name": "stderr",
     "output_type": "stream",
     "text": [
      "\u001b[32m[I 2023-01-16 08:59:35,775]\u001b[0m Trial 22 finished with value: 0.8779148429781454 and parameters: {'depth': 4, 'learning_rate': 0.017476997316524582, 'subsample': 0.5292479739039977, 'min_data_in_leaf': 32, 'l2_leaf_reg': 6, 'random_strength': 0.8462786628979337}. Best is trial 0 with value: 0.8999465941838171.\u001b[0m\n",
      "Default metric period is 5 because AUC is/are not implemented for GPU\n",
      "AUC is not implemented on GPU. Will use CPU for metric computation, this could significantly affect learning time\n"
     ]
    },
    {
     "name": "stdout",
     "output_type": "stream",
     "text": [
      "0:\ttest: 0.8626346\tbest: 0.8626346 (0)\ttotal: 13.2ms\tremaining: 4m 24s\n"
     ]
    },
    {
     "name": "stderr",
     "output_type": "stream",
     "text": [
      "\u001b[32m[I 2023-01-16 08:59:41,323]\u001b[0m Trial 23 finished with value: 0.8845467947418506 and parameters: {'depth': 5, 'learning_rate': 0.011065788897198054, 'subsample': 0.802761687159644, 'min_data_in_leaf': 10, 'l2_leaf_reg': 12, 'random_strength': 0.771569044372802}. Best is trial 0 with value: 0.8999465941838171.\u001b[0m\n"
     ]
    },
    {
     "name": "stdout",
     "output_type": "stream",
     "text": [
      "bestTest = 0.8845467947\n",
      "bestIteration = 108\n",
      "Shrink model to first 109 iterations.\n",
      "0.8845467947418506\n"
     ]
    },
    {
     "name": "stderr",
     "output_type": "stream",
     "text": [
      "Default metric period is 5 because AUC is/are not implemented for GPU\n",
      "AUC is not implemented on GPU. Will use CPU for metric computation, this could significantly affect learning time\n"
     ]
    },
    {
     "name": "stdout",
     "output_type": "stream",
     "text": [
      "0:\ttest: 0.8564188\tbest: 0.8564188 (0)\ttotal: 28.1ms\tremaining: 9m 22s\n"
     ]
    },
    {
     "name": "stderr",
     "output_type": "stream",
     "text": [
      "\u001b[32m[I 2023-01-16 08:59:50,351]\u001b[0m Trial 24 finished with value: 0.8755496320521101 and parameters: {'depth': 3, 'learning_rate': 0.02737712196389912, 'subsample': 0.4562804306142559, 'min_data_in_leaf': 59, 'l2_leaf_reg': 9, 'random_strength': 0.010046737938552264}. Best is trial 0 with value: 0.8999465941838171.\u001b[0m\n"
     ]
    },
    {
     "name": "stdout",
     "output_type": "stream",
     "text": [
      "bestTest = 0.8755496321\n",
      "bestIteration = 282\n",
      "Shrink model to first 283 iterations.\n",
      "0.8755496320521101\n"
     ]
    },
    {
     "name": "stderr",
     "output_type": "stream",
     "text": [
      "Default metric period is 5 because AUC is/are not implemented for GPU\n",
      "AUC is not implemented on GPU. Will use CPU for metric computation, this could significantly affect learning time\n"
     ]
    },
    {
     "name": "stdout",
     "output_type": "stream",
     "text": [
      "0:\ttest: 0.8646354\tbest: 0.8646354 (0)\ttotal: 20.5ms\tremaining: 6m 50s\n",
      "bestTest = 0.8831288131\n",
      "bestIteration = 216\n",
      "Shrink model to first 217 iterations.\n"
     ]
    },
    {
     "name": "stderr",
     "output_type": "stream",
     "text": [
      "\u001b[32m[I 2023-01-16 09:00:00,907]\u001b[0m Trial 25 finished with value: 0.8831288130776229 and parameters: {'depth': 7, 'learning_rate': 0.009381380938346616, 'subsample': 0.5819276418241814, 'min_data_in_leaf': 25, 'l2_leaf_reg': 4, 'random_strength': 0.5941275841090885}. Best is trial 0 with value: 0.8999465941838171.\u001b[0m\n"
     ]
    },
    {
     "name": "stdout",
     "output_type": "stream",
     "text": [
      "0.8831288130776229\n"
     ]
    },
    {
     "name": "stderr",
     "output_type": "stream",
     "text": [
      "Default metric period is 5 because AUC is/are not implemented for GPU\n",
      "AUC is not implemented on GPU. Will use CPU for metric computation, this could significantly affect learning time\n"
     ]
    },
    {
     "name": "stdout",
     "output_type": "stream",
     "text": [
      "0:\ttest: 0.8564417\tbest: 0.8564417 (0)\ttotal: 33.1ms\tremaining: 11m 1s\n",
      "bestTest = 0.8822176142\n",
      "bestIteration = 164\n",
      "Shrink model to first 165 iterations.\n",
      "0.8822176142214367\n"
     ]
    },
    {
     "name": "stderr",
     "output_type": "stream",
     "text": [
      "\u001b[32m[I 2023-01-16 09:00:08,231]\u001b[0m Trial 26 finished with value: 0.8822176142214367 and parameters: {'depth': 5, 'learning_rate': 0.06110354395130478, 'subsample': 0.6717746711961444, 'min_data_in_leaf': 42, 'l2_leaf_reg': 6, 'random_strength': 0.46667094836938067}. Best is trial 0 with value: 0.8999465941838171.\u001b[0m\n",
      "Default metric period is 5 because AUC is/are not implemented for GPU\n",
      "AUC is not implemented on GPU. Will use CPU for metric computation, this could significantly affect learning time\n"
     ]
    },
    {
     "name": "stdout",
     "output_type": "stream",
     "text": [
      "0:\ttest: 0.8765649\tbest: 0.8765649 (0)\ttotal: 27.3ms\tremaining: 9m 5s\n",
      "bestTest = 0.8961320854\n",
      "bestIteration = 110\n",
      "Shrink model to first 111 iterations.\n",
      "0.8961320854466119\n"
     ]
    },
    {
     "name": "stderr",
     "output_type": "stream",
     "text": [
      "\u001b[32m[I 2023-01-16 09:00:13,951]\u001b[0m Trial 27 finished with value: 0.8961320854466119 and parameters: {'depth': 3, 'learning_rate': 0.04179261998706285, 'subsample': 0.33528844949439907, 'min_data_in_leaf': 67, 'l2_leaf_reg': 11, 'random_strength': 0.7824754308552911}. Best is trial 0 with value: 0.8999465941838171.\u001b[0m\n",
      "Default metric period is 5 because AUC is/are not implemented for GPU\n",
      "AUC is not implemented on GPU. Will use CPU for metric computation, this could significantly affect learning time\n"
     ]
    },
    {
     "name": "stdout",
     "output_type": "stream",
     "text": [
      "0:\ttest: 0.7663506\tbest: 0.7663506 (0)\ttotal: 22.7ms\tremaining: 7m 34s\n",
      "bestTest = 0.8833214242\n",
      "bestIteration = 106\n",
      "Shrink model to first 107 iterations.\n",
      "0.883321424217955\n"
     ]
    },
    {
     "name": "stderr",
     "output_type": "stream",
     "text": [
      "\u001b[32m[I 2023-01-16 09:00:18,858]\u001b[0m Trial 28 finished with value: 0.883321424217955 and parameters: {'depth': 1, 'learning_rate': 0.044421254316037675, 'subsample': 0.27613687653046765, 'min_data_in_leaf': 72, 'l2_leaf_reg': 12, 'random_strength': 0.7342855089314393}. Best is trial 0 with value: 0.8999465941838171.\u001b[0m\n",
      "Default metric period is 5 because AUC is/are not implemented for GPU\n",
      "AUC is not implemented on GPU. Will use CPU for metric computation, this could significantly affect learning time\n"
     ]
    },
    {
     "name": "stdout",
     "output_type": "stream",
     "text": [
      "0:\ttest: 0.7829542\tbest: 0.7829542 (0)\ttotal: 24ms\tremaining: 8m\n",
      "bestTest = 0.8864200391\n",
      "bestIteration = 69\n",
      "Shrink model to first 70 iterations.\n",
      "0.8864200391014084\n"
     ]
    },
    {
     "name": "stderr",
     "output_type": "stream",
     "text": [
      "\u001b[32m[I 2023-01-16 09:00:22,998]\u001b[0m Trial 29 finished with value: 0.8864200391014084 and parameters: {'depth': 2, 'learning_rate': 0.06918037564235927, 'subsample': 0.340667088339116, 'min_data_in_leaf': 52, 'l2_leaf_reg': 11, 'random_strength': 0.6758509859931817}. Best is trial 0 with value: 0.8999465941838171.\u001b[0m\n",
      "Default metric period is 5 because AUC is/are not implemented for GPU\n",
      "AUC is not implemented on GPU. Will use CPU for metric computation, this could significantly affect learning time\n"
     ]
    },
    {
     "name": "stdout",
     "output_type": "stream",
     "text": [
      "0:\ttest: 0.8529811\tbest: 0.8529811 (0)\ttotal: 14.8ms\tremaining: 4m 55s\n",
      "bestTest = 0.8828257536\n",
      "bestIteration = 48\n",
      "Shrink model to first 49 iterations.\n",
      "0.8828257535910866\n"
     ]
    },
    {
     "name": "stderr",
     "output_type": "stream",
     "text": [
      "\u001b[32m[I 2023-01-16 09:00:27,352]\u001b[0m Trial 30 finished with value: 0.8828257535910866 and parameters: {'depth': 3, 'learning_rate': 0.032070806613144, 'subsample': 0.34875104411617774, 'min_data_in_leaf': 67, 'l2_leaf_reg': 3, 'random_strength': 0.8116154200908438}. Best is trial 0 with value: 0.8999465941838171.\u001b[0m\n",
      "Default metric period is 5 because AUC is/are not implemented for GPU\n",
      "AUC is not implemented on GPU. Will use CPU for metric computation, this could significantly affect learning time\n"
     ]
    },
    {
     "name": "stdout",
     "output_type": "stream",
     "text": [
      "0:\ttest: 0.7686218\tbest: 0.7686218 (0)\ttotal: 31.8ms\tremaining: 10m 36s\n",
      "bestTest = 0.8794146507\n",
      "bestIteration = 112\n",
      "Shrink model to first 113 iterations.\n",
      "0.8794146507037379\n"
     ]
    },
    {
     "name": "stderr",
     "output_type": "stream",
     "text": [
      "\u001b[32m[I 2023-01-16 09:00:33,664]\u001b[0m Trial 31 finished with value: 0.8794146507037379 and parameters: {'depth': 4, 'learning_rate': 0.018167094158967466, 'subsample': 0.48708713493677497, 'min_data_in_leaf': 89, 'l2_leaf_reg': 9, 'random_strength': 0.8772880773089398}. Best is trial 0 with value: 0.8999465941838171.\u001b[0m\n",
      "Default metric period is 5 because AUC is/are not implemented for GPU\n",
      "AUC is not implemented on GPU. Will use CPU for metric computation, this could significantly affect learning time\n"
     ]
    },
    {
     "name": "stdout",
     "output_type": "stream",
     "text": [
      "0:\ttest: 0.8646560\tbest: 0.8646560 (0)\ttotal: 31.7ms\tremaining: 10m 34s\n",
      "bestTest = 0.888165325\n",
      "bestIteration = 39\n",
      "Shrink model to first 40 iterations.\n",
      "0.8881653250110955\n"
     ]
    },
    {
     "name": "stderr",
     "output_type": "stream",
     "text": [
      "\u001b[32m[I 2023-01-16 09:00:37,890]\u001b[0m Trial 32 finished with value: 0.8881653250110955 and parameters: {'depth': 3, 'learning_rate': 0.02307715418533792, 'subsample': 0.2526084710747264, 'min_data_in_leaf': 66, 'l2_leaf_reg': 8, 'random_strength': 0.7465722073526618}. Best is trial 0 with value: 0.8999465941838171.\u001b[0m\n",
      "Default metric period is 5 because AUC is/are not implemented for GPU\n",
      "AUC is not implemented on GPU. Will use CPU for metric computation, this could significantly affect learning time\n"
     ]
    },
    {
     "name": "stdout",
     "output_type": "stream",
     "text": [
      "0:\ttest: 0.8599323\tbest: 0.8599323 (0)\ttotal: 30.1ms\tremaining: 10m 2s\n",
      "bestTest = 0.8817859228\n",
      "bestIteration = 126\n",
      "Shrink model to first 127 iterations.\n",
      "0.8817859228195037\n"
     ]
    },
    {
     "name": "stderr",
     "output_type": "stream",
     "text": [
      "\u001b[32m[I 2023-01-16 09:00:44,447]\u001b[0m Trial 33 finished with value: 0.8817859228195037 and parameters: {'depth': 4, 'learning_rate': 0.007678297061754193, 'subsample': 0.8171376300665385, 'min_data_in_leaf': 12, 'l2_leaf_reg': 6, 'random_strength': 0.8937460832289725}. Best is trial 0 with value: 0.8999465941838171.\u001b[0m\n",
      "Default metric period is 5 because AUC is/are not implemented for GPU\n",
      "AUC is not implemented on GPU. Will use CPU for metric computation, this could significantly affect learning time\n"
     ]
    },
    {
     "name": "stdout",
     "output_type": "stream",
     "text": [
      "0:\ttest: 0.8716634\tbest: 0.8716634 (0)\ttotal: 33.3ms\tremaining: 11m 6s\n",
      "bestTest = 0.888908831\n",
      "bestIteration = 98\n",
      "Shrink model to first 99 iterations.\n",
      "0.8889088309513979\n"
     ]
    },
    {
     "name": "stderr",
     "output_type": "stream",
     "text": [
      "\u001b[32m[I 2023-01-16 09:00:50,331]\u001b[0m Trial 34 finished with value: 0.8889088309513979 and parameters: {'depth': 5, 'learning_rate': 0.03852473427145005, 'subsample': 0.41976363808923756, 'min_data_in_leaf': 74, 'l2_leaf_reg': 14, 'random_strength': 0.8169560979119705}. Best is trial 0 with value: 0.8999465941838171.\u001b[0m\n",
      "Default metric period is 5 because AUC is/are not implemented for GPU\n",
      "AUC is not implemented on GPU. Will use CPU for metric computation, this could significantly affect learning time\n"
     ]
    },
    {
     "name": "stdout",
     "output_type": "stream",
     "text": [
      "0:\ttest: 0.7339461\tbest: 0.7339461 (0)\ttotal: 27.4ms\tremaining: 9m 7s\n"
     ]
    },
    {
     "name": "stderr",
     "output_type": "stream",
     "text": [
      "\u001b[32m[I 2023-01-16 09:00:59,794]\u001b[0m Trial 35 finished with value: 0.8695406358996185 and parameters: {'depth': 2, 'learning_rate': 0.012595498353671714, 'subsample': 0.6856009376606723, 'min_data_in_leaf': 3, 'l2_leaf_reg': 9, 'random_strength': 0.6700453152536459}. Best is trial 0 with value: 0.8999465941838171.\u001b[0m\n"
     ]
    },
    {
     "name": "stdout",
     "output_type": "stream",
     "text": [
      "bestTest = 0.8695406359\n",
      "bestIteration = 302\n",
      "Shrink model to first 303 iterations.\n",
      "0.8695406358996185\n"
     ]
    },
    {
     "name": "stderr",
     "output_type": "stream",
     "text": [
      "Default metric period is 5 because AUC is/are not implemented for GPU\n",
      "AUC is not implemented on GPU. Will use CPU for metric computation, this could significantly affect learning time\n"
     ]
    },
    {
     "name": "stdout",
     "output_type": "stream",
     "text": [
      "0:\ttest: 0.8581338\tbest: 0.8581338 (0)\ttotal: 34ms\tremaining: 11m 19s\n"
     ]
    },
    {
     "name": "stderr",
     "output_type": "stream",
     "text": [
      "\u001b[32m[I 2023-01-16 09:01:06,032]\u001b[0m Trial 36 finished with value: 0.8759146503670051 and parameters: {'depth': 6, 'learning_rate': 0.05673607906115369, 'subsample': 0.5751192608459503, 'min_data_in_leaf': 54, 'l2_leaf_reg': 11, 'random_strength': 0.4737244387140501}. Best is trial 0 with value: 0.8999465941838171.\u001b[0m\n"
     ]
    },
    {
     "name": "stdout",
     "output_type": "stream",
     "text": [
      "bestTest = 0.8759146504\n",
      "bestIteration = 84\n",
      "Shrink model to first 85 iterations.\n",
      "0.8759146503670051\n"
     ]
    },
    {
     "name": "stderr",
     "output_type": "stream",
     "text": [
      "Default metric period is 5 because AUC is/are not implemented for GPU\n",
      "AUC is not implemented on GPU. Will use CPU for metric computation, this could significantly affect learning time\n"
     ]
    },
    {
     "name": "stdout",
     "output_type": "stream",
     "text": [
      "0:\ttest: 0.8532801\tbest: 0.8532801 (0)\ttotal: 29.6ms\tremaining: 9m 50s\n"
     ]
    },
    {
     "name": "stderr",
     "output_type": "stream",
     "text": [
      "\u001b[32m[I 2023-01-16 09:01:10,288]\u001b[0m Trial 37 finished with value: 0.8742801495362853 and parameters: {'depth': 3, 'learning_rate': 0.04375414162789662, 'subsample': 0.7644518158512086, 'min_data_in_leaf': 47, 'l2_leaf_reg': 7, 'random_strength': 0.5884725706175489}. Best is trial 0 with value: 0.8999465941838171.\u001b[0m\n"
     ]
    },
    {
     "name": "stdout",
     "output_type": "stream",
     "text": [
      "bestTest = 0.8742801495\n",
      "bestIteration = 35\n",
      "Shrink model to first 36 iterations.\n",
      "0.8742801495362853\n"
     ]
    },
    {
     "name": "stderr",
     "output_type": "stream",
     "text": [
      "Default metric period is 5 because AUC is/are not implemented for GPU\n",
      "AUC is not implemented on GPU. Will use CPU for metric computation, this could significantly affect learning time\n"
     ]
    },
    {
     "name": "stdout",
     "output_type": "stream",
     "text": [
      "0:\ttest: 0.8506573\tbest: 0.8506573 (0)\ttotal: 49ms\tremaining: 16m 19s\n",
      "bestTest = 0.870045735\n",
      "bestIteration = 98\n",
      "Shrink model to first 99 iterations.\n",
      "0.8700457350438459\n"
     ]
    },
    {
     "name": "stderr",
     "output_type": "stream",
     "text": [
      "\u001b[32m[I 2023-01-16 09:01:18,921]\u001b[0m Trial 38 finished with value: 0.8700457350438459 and parameters: {'depth': 8, 'learning_rate': 0.028717904270425035, 'subsample': 0.3917182058363027, 'min_data_in_leaf': 38, 'l2_leaf_reg': 17, 'random_strength': 0.1078181978352632}. Best is trial 0 with value: 0.8999465941838171.\u001b[0m\n",
      "Default metric period is 5 because AUC is/are not implemented for GPU\n",
      "AUC is not implemented on GPU. Will use CPU for metric computation, this could significantly affect learning time\n"
     ]
    },
    {
     "name": "stdout",
     "output_type": "stream",
     "text": [
      "0:\ttest: 0.8680008\tbest: 0.8680008 (0)\ttotal: 18.3ms\tremaining: 6m 6s\n",
      "bestTest = 0.8801773504\n",
      "bestIteration = 196\n",
      "Shrink model to first 197 iterations.\n",
      "0.8801773504115211\n"
     ]
    },
    {
     "name": "stderr",
     "output_type": "stream",
     "text": [
      "\u001b[32m[I 2023-01-16 09:01:28,556]\u001b[0m Trial 39 finished with value: 0.8801773504115211 and parameters: {'depth': 6, 'learning_rate': 0.020135965277383282, 'subsample': 0.8685236679462578, 'min_data_in_leaf': 78, 'l2_leaf_reg': 14, 'random_strength': 0.37285009436752525}. Best is trial 0 with value: 0.8999465941838171.\u001b[0m\n",
      "Default metric period is 5 because AUC is/are not implemented for GPU\n",
      "AUC is not implemented on GPU. Will use CPU for metric computation, this could significantly affect learning time\n"
     ]
    },
    {
     "name": "stdout",
     "output_type": "stream",
     "text": [
      "0:\ttest: 0.7862397\tbest: 0.7862397 (0)\ttotal: 13.9ms\tremaining: 4m 38s\n",
      "bestTest = 0.8903544247\n",
      "bestIteration = 91\n",
      "Shrink model to first 92 iterations.\n",
      "0.8903544247021767\n"
     ]
    },
    {
     "name": "stderr",
     "output_type": "stream",
     "text": [
      "\u001b[32m[I 2023-01-16 09:01:33,673]\u001b[0m Trial 40 finished with value: 0.8903544247021767 and parameters: {'depth': 2, 'learning_rate': 0.09298240232829563, 'subsample': 0.9403377730677633, 'min_data_in_leaf': 27, 'l2_leaf_reg': 2, 'random_strength': 0.24304269080681667}. Best is trial 0 with value: 0.8999465941838171.\u001b[0m\n",
      "Default metric period is 5 because AUC is/are not implemented for GPU\n",
      "AUC is not implemented on GPU. Will use CPU for metric computation, this could significantly affect learning time\n"
     ]
    },
    {
     "name": "stdout",
     "output_type": "stream",
     "text": [
      "0:\ttest: 0.7885382\tbest: 0.7885382 (0)\ttotal: 27.8ms\tremaining: 9m 15s\n",
      "bestTest = 0.895027602\n",
      "bestIteration = 409\n",
      "Shrink model to first 410 iterations.\n",
      "0.8950276019845682\n"
     ]
    },
    {
     "name": "stderr",
     "output_type": "stream",
     "text": [
      "\u001b[32m[I 2023-01-16 09:01:45,687]\u001b[0m Trial 41 finished with value: 0.8950276019845682 and parameters: {'depth': 2, 'learning_rate': 0.09751875730718096, 'subsample': 0.9161286446230448, 'min_data_in_leaf': 27, 'l2_leaf_reg': 1, 'random_strength': 0.17168160911270397}. Best is trial 0 with value: 0.8999465941838171.\u001b[0m\n",
      "Default metric period is 5 because AUC is/are not implemented for GPU\n",
      "AUC is not implemented on GPU. Will use CPU for metric computation, this could significantly affect learning time\n"
     ]
    },
    {
     "name": "stdout",
     "output_type": "stream",
     "text": [
      "0:\ttest: 0.7694680\tbest: 0.7694680 (0)\ttotal: 24.9ms\tremaining: 8m 18s\n",
      "bestTest = 0.8760210579\n",
      "bestIteration = 377\n",
      "Shrink model to first 378 iterations.\n"
     ]
    },
    {
     "name": "stderr",
     "output_type": "stream",
     "text": [
      "\u001b[32m[I 2023-01-16 09:01:56,454]\u001b[0m Trial 42 finished with value: 0.8760210579200556 and parameters: {'depth': 1, 'learning_rate': 0.08440103872246499, 'subsample': 0.9296562502021453, 'min_data_in_leaf': 13, 'l2_leaf_reg': 3, 'random_strength': 0.0832245072363681}. Best is trial 0 with value: 0.8999465941838171.\u001b[0m\n"
     ]
    },
    {
     "name": "stdout",
     "output_type": "stream",
     "text": [
      "0.8760210579200556\n"
     ]
    },
    {
     "name": "stderr",
     "output_type": "stream",
     "text": [
      "Default metric period is 5 because AUC is/are not implemented for GPU\n",
      "AUC is not implemented on GPU. Will use CPU for metric computation, this could significantly affect learning time\n"
     ]
    },
    {
     "name": "stdout",
     "output_type": "stream",
     "text": [
      "0:\ttest: 0.8887859\tbest: 0.8887859 (0)\ttotal: 32ms\tremaining: 10m 39s\n",
      "bestTest = 0.9051097176\n",
      "bestIteration = 25\n",
      "Shrink model to first 26 iterations.\n"
     ]
    },
    {
     "name": "stderr",
     "output_type": "stream",
     "text": [
      "\u001b[32m[I 2023-01-16 09:02:00,460]\u001b[0m Trial 43 finished with value: 0.905109717636109 and parameters: {'depth': 4, 'learning_rate': 0.07649713580651588, 'subsample': 0.6219156569263924, 'min_data_in_leaf': 17, 'l2_leaf_reg': 2, 'random_strength': 0.2911233794322565}. Best is trial 43 with value: 0.905109717636109.\u001b[0m\n"
     ]
    },
    {
     "name": "stdout",
     "output_type": "stream",
     "text": [
      "0.905109717636109\n"
     ]
    },
    {
     "name": "stderr",
     "output_type": "stream",
     "text": [
      "Default metric period is 5 because AUC is/are not implemented for GPU\n",
      "AUC is not implemented on GPU. Will use CPU for metric computation, this could significantly affect learning time\n"
     ]
    },
    {
     "name": "stdout",
     "output_type": "stream",
     "text": [
      "0:\ttest: 0.7710692\tbest: 0.7710692 (0)\ttotal: 27.9ms\tremaining: 9m 18s\n",
      "bestTest = 0.8704760795\n",
      "bestIteration = 97\n",
      "Shrink model to first 98 iterations.\n",
      "0.8704760795147276\n"
     ]
    },
    {
     "name": "stderr",
     "output_type": "stream",
     "text": [
      "\u001b[32m[I 2023-01-16 09:02:05,764]\u001b[0m Trial 44 finished with value: 0.8704760795147276 and parameters: {'depth': 2, 'learning_rate': 0.07699343546258047, 'subsample': 0.7215309541766328, 'min_data_in_leaf': 17, 'l2_leaf_reg': 1, 'random_strength': 0.29378459910898846}. Best is trial 43 with value: 0.905109717636109.\u001b[0m\n",
      "Default metric period is 5 because AUC is/are not implemented for GPU\n",
      "AUC is not implemented on GPU. Will use CPU for metric computation, this could significantly affect learning time\n"
     ]
    },
    {
     "name": "stdout",
     "output_type": "stream",
     "text": [
      "0:\ttest: 0.8760194\tbest: 0.8760194 (0)\ttotal: 27.5ms\tremaining: 9m 9s\n",
      "bestTest = 0.8968695302\n",
      "bestIteration = 47\n",
      "Shrink model to first 48 iterations.\n",
      "0.8968695301971841\n"
     ]
    },
    {
     "name": "stderr",
     "output_type": "stream",
     "text": [
      "\u001b[32m[I 2023-01-16 09:02:10,149]\u001b[0m Trial 45 finished with value: 0.8968695301971841 and parameters: {'depth': 3, 'learning_rate': 0.0991538433241725, 'subsample': 0.8612380729006057, 'min_data_in_leaf': 6, 'l2_leaf_reg': 1, 'random_strength': 0.12835676306598526}. Best is trial 43 with value: 0.905109717636109.\u001b[0m\n",
      "Default metric period is 5 because AUC is/are not implemented for GPU\n",
      "AUC is not implemented on GPU. Will use CPU for metric computation, this could significantly affect learning time\n"
     ]
    },
    {
     "name": "stdout",
     "output_type": "stream",
     "text": [
      "0:\ttest: 0.8523821\tbest: 0.8523821 (0)\ttotal: 26.9ms\tremaining: 8m 57s\n",
      "bestTest = 0.8744047407\n",
      "bestIteration = 93\n",
      "Shrink model to first 94 iterations.\n",
      "0.874404740658528\n"
     ]
    },
    {
     "name": "stderr",
     "output_type": "stream",
     "text": [
      "\u001b[32m[I 2023-01-16 09:02:15,575]\u001b[0m Trial 46 finished with value: 0.874404740658528 and parameters: {'depth': 3, 'learning_rate': 0.09957224064967025, 'subsample': 0.8472174501999794, 'min_data_in_leaf': 6, 'l2_leaf_reg': 2, 'random_strength': 0.14119094325358364}. Best is trial 43 with value: 0.905109717636109.\u001b[0m\n",
      "Default metric period is 5 because AUC is/are not implemented for GPU\n",
      "AUC is not implemented on GPU. Will use CPU for metric computation, this could significantly affect learning time\n"
     ]
    },
    {
     "name": "stdout",
     "output_type": "stream",
     "text": [
      "0:\ttest: 0.7432483\tbest: 0.7432483 (0)\ttotal: 13.6ms\tremaining: 4m 32s\n",
      "bestTest = 0.8676054327\n",
      "bestIteration = 121\n",
      "Shrink model to first 122 iterations.\n",
      "0.8676054327117022\n"
     ]
    },
    {
     "name": "stderr",
     "output_type": "stream",
     "text": [
      "\u001b[32m[I 2023-01-16 09:02:21,181]\u001b[0m Trial 47 finished with value: 0.8676054327117022 and parameters: {'depth': 1, 'learning_rate': 0.09987052533111956, 'subsample': 0.7597041843064195, 'min_data_in_leaf': 16, 'l2_leaf_reg': 1, 'random_strength': 0.06285389382203987}. Best is trial 43 with value: 0.905109717636109.\u001b[0m\n",
      "Default metric period is 5 because AUC is/are not implemented for GPU\n",
      "AUC is not implemented on GPU. Will use CPU for metric computation, this could significantly affect learning time\n"
     ]
    },
    {
     "name": "stdout",
     "output_type": "stream",
     "text": [
      "0:\ttest: 0.7861478\tbest: 0.7861478 (0)\ttotal: 14.2ms\tremaining: 4m 43s\n",
      "bestTest = 0.8879451018\n",
      "bestIteration = 58\n",
      "Shrink model to first 59 iterations.\n",
      "0.8879457752497378\n"
     ]
    },
    {
     "name": "stderr",
     "output_type": "stream",
     "text": [
      "\u001b[32m[I 2023-01-16 09:02:25,611]\u001b[0m Trial 48 finished with value: 0.8879457752497378 and parameters: {'depth': 2, 'learning_rate': 0.09221175365731094, 'subsample': 0.9947743098891733, 'min_data_in_leaf': 7, 'l2_leaf_reg': 4, 'random_strength': 0.1860819175735867}. Best is trial 43 with value: 0.905109717636109.\u001b[0m\n",
      "Default metric period is 5 because AUC is/are not implemented for GPU\n",
      "AUC is not implemented on GPU. Will use CPU for metric computation, this could significantly affect learning time\n"
     ]
    },
    {
     "name": "stdout",
     "output_type": "stream",
     "text": [
      "0:\ttest: 0.8661750\tbest: 0.8661750 (0)\ttotal: 14.9ms\tremaining: 4m 57s\n",
      "bestTest = 0.8889845958\n",
      "bestIteration = 151\n",
      "Shrink model to first 152 iterations.\n",
      "0.8889845958230321\n"
     ]
    },
    {
     "name": "stderr",
     "output_type": "stream",
     "text": [
      "\u001b[32m[I 2023-01-16 09:02:32,374]\u001b[0m Trial 49 finished with value: 0.8889845958230321 and parameters: {'depth': 3, 'learning_rate': 0.08165569538955975, 'subsample': 0.6156806246303369, 'min_data_in_leaf': 63, 'l2_leaf_reg': 2, 'random_strength': 0.22473933194440532}. Best is trial 43 with value: 0.905109717636109.\u001b[0m\n",
      "Default metric period is 5 because AUC is/are not implemented for GPU\n",
      "AUC is not implemented on GPU. Will use CPU for metric computation, this could significantly affect learning time\n"
     ]
    },
    {
     "name": "stdout",
     "output_type": "stream",
     "text": [
      "0:\ttest: 0.8626124\tbest: 0.8626124 (0)\ttotal: 15.8ms\tremaining: 5m 16s\n",
      "bestTest = 0.8856536353\n",
      "bestIteration = 168\n",
      "Shrink model to first 169 iterations.\n",
      "0.8856536353332342\n"
     ]
    },
    {
     "name": "stderr",
     "output_type": "stream",
     "text": [
      "\u001b[32m[I 2023-01-16 09:02:40,056]\u001b[0m Trial 50 finished with value: 0.8856536353332342 and parameters: {'depth': 4, 'learning_rate': 0.06287342417064212, 'subsample': 0.127782501797411, 'min_data_in_leaf': 56, 'l2_leaf_reg': 3, 'random_strength': 0.15546747108251385}. Best is trial 43 with value: 0.905109717636109.\u001b[0m\n",
      "Default metric period is 5 because AUC is/are not implemented for GPU\n",
      "AUC is not implemented on GPU. Will use CPU for metric computation, this could significantly affect learning time\n"
     ]
    },
    {
     "name": "stdout",
     "output_type": "stream",
     "text": [
      "0:\ttest: 0.8745300\tbest: 0.8745300 (0)\ttotal: 30.2ms\tremaining: 10m 4s\n",
      "bestTest = 0.8968722241\n",
      "bestIteration = 49\n",
      "Shrink model to first 50 iterations.\n",
      "0.8968722240592866\n"
     ]
    },
    {
     "name": "stderr",
     "output_type": "stream",
     "text": [
      "\u001b[32m[I 2023-01-16 09:02:44,748]\u001b[0m Trial 51 finished with value: 0.8968722240592866 and parameters: {'depth': 4, 'learning_rate': 0.08835152247982202, 'subsample': 0.9132519971381444, 'min_data_in_leaf': 36, 'l2_leaf_reg': 1, 'random_strength': 0.34463100903691163}. Best is trial 43 with value: 0.905109717636109.\u001b[0m\n",
      "Default metric period is 5 because AUC is/are not implemented for GPU\n",
      "AUC is not implemented on GPU. Will use CPU for metric computation, this could significantly affect learning time\n"
     ]
    },
    {
     "name": "stdout",
     "output_type": "stream",
     "text": [
      "0:\ttest: 0.8654241\tbest: 0.8654241 (0)\ttotal: 16.5ms\tremaining: 5m 29s\n",
      "bestTest = 0.8849882514\n",
      "bestIteration = 36\n",
      "Shrink model to first 37 iterations.\n",
      "0.8849882513939052\n"
     ]
    },
    {
     "name": "stderr",
     "output_type": "stream",
     "text": [
      "\u001b[32m[I 2023-01-16 09:02:49,134]\u001b[0m Trial 52 finished with value: 0.8849882513939052 and parameters: {'depth': 4, 'learning_rate': 0.08866308495818644, 'subsample': 0.9464905689152271, 'min_data_in_leaf': 36, 'l2_leaf_reg': 1, 'random_strength': 0.3589556665321209}. Best is trial 43 with value: 0.905109717636109.\u001b[0m\n",
      "Default metric period is 5 because AUC is/are not implemented for GPU\n",
      "AUC is not implemented on GPU. Will use CPU for metric computation, this could significantly affect learning time\n"
     ]
    },
    {
     "name": "stdout",
     "output_type": "stream",
     "text": [
      "0:\ttest: 0.8423414\tbest: 0.8423414 (0)\ttotal: 34ms\tremaining: 11m 19s\n",
      "bestTest = 0.8891182787\n",
      "bestIteration = 12\n",
      "Shrink model to first 13 iterations.\n",
      "0.889118278729871\n"
     ]
    },
    {
     "name": "stderr",
     "output_type": "stream",
     "text": [
      "\u001b[32m[I 2023-01-16 09:02:52,780]\u001b[0m Trial 53 finished with value: 0.889118278729871 and parameters: {'depth': 5, 'learning_rate': 0.09441419175469598, 'subsample': 0.8510193523533167, 'min_data_in_leaf': 29, 'l2_leaf_reg': 2, 'random_strength': 0.26036944728951883}. Best is trial 43 with value: 0.905109717636109.\u001b[0m\n",
      "Default metric period is 5 because AUC is/are not implemented for GPU\n",
      "AUC is not implemented on GPU. Will use CPU for metric computation, this could significantly affect learning time\n"
     ]
    },
    {
     "name": "stdout",
     "output_type": "stream",
     "text": [
      "0:\ttest: 0.8696413\tbest: 0.8696413 (0)\ttotal: 28.4ms\tremaining: 9m 28s\n",
      "bestTest = 0.8914895508\n",
      "bestIteration = 45\n",
      "Shrink model to first 46 iterations.\n",
      "0.891489550845637\n"
     ]
    },
    {
     "name": "stderr",
     "output_type": "stream",
     "text": [
      "\u001b[32m[I 2023-01-16 09:02:57,009]\u001b[0m Trial 54 finished with value: 0.891489550845637 and parameters: {'depth': 3, 'learning_rate': 0.08167374687520101, 'subsample': 0.8821244794264351, 'min_data_in_leaf': 44, 'l2_leaf_reg': 1, 'random_strength': 0.30228702625239945}. Best is trial 43 with value: 0.905109717636109.\u001b[0m\n",
      "Default metric period is 5 because AUC is/are not implemented for GPU\n",
      "AUC is not implemented on GPU. Will use CPU for metric computation, this could significantly affect learning time\n"
     ]
    },
    {
     "name": "stdout",
     "output_type": "stream",
     "text": [
      "0:\ttest: 0.8684493\tbest: 0.8684493 (0)\ttotal: 32.3ms\tremaining: 10m 46s\n",
      "bestTest = 0.8861449284\n",
      "bestIteration = 22\n",
      "Shrink model to first 23 iterations.\n",
      "0.8861449284341859\n"
     ]
    },
    {
     "name": "stderr",
     "output_type": "stream",
     "text": [
      "\u001b[32m[I 2023-01-16 09:03:01,032]\u001b[0m Trial 55 finished with value: 0.8861449284341859 and parameters: {'depth': 4, 'learning_rate': 0.08812378959241242, 'subsample': 0.913224044037216, 'min_data_in_leaf': 21, 'l2_leaf_reg': 5, 'random_strength': 0.3879678863710557}. Best is trial 43 with value: 0.905109717636109.\u001b[0m\n",
      "Default metric period is 5 because AUC is/are not implemented for GPU\n",
      "AUC is not implemented on GPU. Will use CPU for metric computation, this could significantly affect learning time\n"
     ]
    },
    {
     "name": "stdout",
     "output_type": "stream",
     "text": [
      "0:\ttest: 0.7818561\tbest: 0.7818561 (0)\ttotal: 13.6ms\tremaining: 4m 31s\n",
      "bestTest = 0.8746549331\n",
      "bestIteration = 279\n",
      "Shrink model to first 280 iterations.\n",
      "0.8746549331013019\n"
     ]
    },
    {
     "name": "stderr",
     "output_type": "stream",
     "text": [
      "\u001b[32m[I 2023-01-16 09:03:10,083]\u001b[0m Trial 56 finished with value: 0.8746549331013019 and parameters: {'depth': 2, 'learning_rate': 0.09677287142880786, 'subsample': 0.7025007998163105, 'min_data_in_leaf': 15, 'l2_leaf_reg': 3, 'random_strength': 0.3279796151945867}. Best is trial 43 with value: 0.905109717636109.\u001b[0m\n",
      "Default metric period is 5 because AUC is/are not implemented for GPU\n",
      "AUC is not implemented on GPU. Will use CPU for metric computation, this could significantly affect learning time\n"
     ]
    },
    {
     "name": "stdout",
     "output_type": "stream",
     "text": [
      "0:\ttest: 0.8739774\tbest: 0.8739774 (0)\ttotal: 16.8ms\tremaining: 5m 35s\n",
      "bestTest = 0.8898345093\n",
      "bestIteration = 57\n",
      "Shrink model to first 58 iterations.\n",
      "0.8898345093163853\n"
     ]
    },
    {
     "name": "stderr",
     "output_type": "stream",
     "text": [
      "\u001b[32m[I 2023-01-16 09:03:15,234]\u001b[0m Trial 57 finished with value: 0.8898345093163853 and parameters: {'depth': 5, 'learning_rate': 0.0726024314206829, 'subsample': 0.7693561729280529, 'min_data_in_leaf': 32, 'l2_leaf_reg': 4, 'random_strength': 0.05129219262755419}. Best is trial 43 with value: 0.905109717636109.\u001b[0m\n",
      "Default metric period is 5 because AUC is/are not implemented for GPU\n",
      "AUC is not implemented on GPU. Will use CPU for metric computation, this could significantly affect learning time\n"
     ]
    },
    {
     "name": "stdout",
     "output_type": "stream",
     "text": [
      "0:\ttest: 0.8688621\tbest: 0.8688621 (0)\ttotal: 14.9ms\tremaining: 4m 58s\n"
     ]
    },
    {
     "name": "stderr",
     "output_type": "stream",
     "text": [
      "\u001b[32m[I 2023-01-16 09:03:19,017]\u001b[0m Trial 58 finished with value: 0.8809131114982789 and parameters: {'depth': 4, 'learning_rate': 0.0774645322234909, 'subsample': 0.19213094669229686, 'min_data_in_leaf': 41, 'l2_leaf_reg': 2, 'random_strength': 0.41119381700602764}. Best is trial 43 with value: 0.905109717636109.\u001b[0m\n"
     ]
    },
    {
     "name": "stdout",
     "output_type": "stream",
     "text": [
      "bestTest = 0.8809131115\n",
      "bestIteration = 10\n",
      "Shrink model to first 11 iterations.\n",
      "0.8809131114982789\n"
     ]
    },
    {
     "name": "stderr",
     "output_type": "stream",
     "text": [
      "Default metric period is 5 because AUC is/are not implemented for GPU\n",
      "AUC is not implemented on GPU. Will use CPU for metric computation, this could significantly affect learning time\n"
     ]
    },
    {
     "name": "stdout",
     "output_type": "stream",
     "text": [
      "0:\ttest: 0.8625487\tbest: 0.8625487 (0)\ttotal: 29.3ms\tremaining: 9m 46s\n",
      "bestTest = 0.8901214056\n",
      "bestIteration = 7\n",
      "Shrink model to first 8 iterations.\n",
      "0.8901214056303065\n"
     ]
    },
    {
     "name": "stderr",
     "output_type": "stream",
     "text": [
      "\u001b[32m[I 2023-01-16 09:03:22,581]\u001b[0m Trial 59 finished with value: 0.8901214056303065 and parameters: {'depth': 3, 'learning_rate': 0.09686578394181906, 'subsample': 0.6389009971096422, 'min_data_in_leaf': 19, 'l2_leaf_reg': 1, 'random_strength': 0.13955736082795858}. Best is trial 43 with value: 0.905109717636109.\u001b[0m\n",
      "Default metric period is 5 because AUC is/are not implemented for GPU\n",
      "AUC is not implemented on GPU. Will use CPU for metric computation, this could significantly affect learning time\n"
     ]
    },
    {
     "name": "stdout",
     "output_type": "stream",
     "text": [
      "0:\ttest: 0.8728497\tbest: 0.8728497 (0)\ttotal: 18ms\tremaining: 5m 59s\n",
      "bestTest = 0.8882821713\n",
      "bestIteration = 51\n",
      "Shrink model to first 52 iterations.\n",
      "0.8882821712797933\n"
     ]
    },
    {
     "name": "stderr",
     "output_type": "stream",
     "text": [
      "\u001b[32m[I 2023-01-16 09:03:27,590]\u001b[0m Trial 60 finished with value: 0.8882821712797933 and parameters: {'depth': 6, 'learning_rate': 0.09026635403228987, 'subsample': 0.5514255471382512, 'min_data_in_leaf': 1, 'l2_leaf_reg': 5, 'random_strength': 0.48981339794937917}. Best is trial 43 with value: 0.905109717636109.\u001b[0m\n",
      "Default metric period is 5 because AUC is/are not implemented for GPU\n",
      "AUC is not implemented on GPU. Will use CPU for metric computation, this could significantly affect learning time\n"
     ]
    },
    {
     "name": "stdout",
     "output_type": "stream",
     "text": [
      "0:\ttest: 0.8577520\tbest: 0.8577520 (0)\ttotal: 16ms\tremaining: 5m 20s\n",
      "bestTest = 0.8756947639\n",
      "bestIteration = 260\n",
      "Shrink model to first 261 iterations.\n",
      "0.8756947638728847\n"
     ]
    },
    {
     "name": "stderr",
     "output_type": "stream",
     "text": [
      "\u001b[32m[I 2023-01-16 09:03:38,639]\u001b[0m Trial 61 finished with value: 0.8756947638728847 and parameters: {'depth': 5, 'learning_rate': 0.005224036135617203, 'subsample': 0.9649357587098444, 'min_data_in_leaf': 24, 'l2_leaf_reg': 2, 'random_strength': 0.2163316073303142}. Best is trial 43 with value: 0.905109717636109.\u001b[0m\n",
      "Default metric period is 5 because AUC is/are not implemented for GPU\n",
      "AUC is not implemented on GPU. Will use CPU for metric computation, this could significantly affect learning time\n"
     ]
    },
    {
     "name": "stdout",
     "output_type": "stream",
     "text": [
      "0:\ttest: 0.8487117\tbest: 0.8487117 (0)\ttotal: 29.2ms\tremaining: 9m 44s\n",
      "bestTest = 0.8765611773\n",
      "bestIteration = 25\n",
      "Shrink model to first 26 iterations.\n",
      "0.8765611772716161\n"
     ]
    },
    {
     "name": "stderr",
     "output_type": "stream",
     "text": [
      "\u001b[32m[I 2023-01-16 09:03:42,625]\u001b[0m Trial 62 finished with value: 0.8765611772716161 and parameters: {'depth': 4, 'learning_rate': 0.08525712188983317, 'subsample': 0.9005210405001808, 'min_data_in_leaf': 10, 'l2_leaf_reg': 3, 'random_strength': 0.5689306937032621}. Best is trial 43 with value: 0.905109717636109.\u001b[0m\n",
      "Default metric period is 5 because AUC is/are not implemented for GPU\n",
      "AUC is not implemented on GPU. Will use CPU for metric computation, this could significantly affect learning time\n"
     ]
    },
    {
     "name": "stdout",
     "output_type": "stream",
     "text": [
      "0:\ttest: 0.8714923\tbest: 0.8714923 (0)\ttotal: 29.8ms\tremaining: 9m 55s\n",
      "bestTest = 0.8918990179\n",
      "bestIteration = 130\n",
      "Shrink model to first 131 iterations.\n",
      "0.891899017885224\n"
     ]
    },
    {
     "name": "stderr",
     "output_type": "stream",
     "text": [
      "\u001b[32m[I 2023-01-16 09:03:48,544]\u001b[0m Trial 63 finished with value: 0.891899017885224 and parameters: {'depth': 3, 'learning_rate': 0.09601080326325723, 'subsample': 0.8040851049839861, 'min_data_in_leaf': 26, 'l2_leaf_reg': 10, 'random_strength': 0.6343218555774368}. Best is trial 43 with value: 0.905109717636109.\u001b[0m\n",
      "Default metric period is 5 because AUC is/are not implemented for GPU\n",
      "AUC is not implemented on GPU. Will use CPU for metric computation, this could significantly affect learning time\n"
     ]
    },
    {
     "name": "stdout",
     "output_type": "stream",
     "text": [
      "0:\ttest: 0.8700700\tbest: 0.8700700 (0)\ttotal: 29.2ms\tremaining: 9m 43s\n",
      "bestTest = 0.8925179327\n",
      "bestIteration = 687\n",
      "Shrink model to first 688 iterations.\n",
      "0.8925186061688095\n"
     ]
    },
    {
     "name": "stderr",
     "output_type": "stream",
     "text": [
      "\u001b[32m[I 2023-01-16 09:04:09,008]\u001b[0m Trial 64 finished with value: 0.8925186061688095 and parameters: {'depth': 4, 'learning_rate': 0.0026960547925405426, 'subsample': 0.8368743955318726, 'min_data_in_leaf': 71, 'l2_leaf_reg': 1, 'random_strength': 0.5094283663610064}. Best is trial 43 with value: 0.905109717636109.\u001b[0m\n",
      "Default metric period is 5 because AUC is/are not implemented for GPU\n",
      "AUC is not implemented on GPU. Will use CPU for metric computation, this could significantly affect learning time\n"
     ]
    },
    {
     "name": "stdout",
     "output_type": "stream",
     "text": [
      "0:\ttest: 0.8663787\tbest: 0.8663787 (0)\ttotal: 19.6ms\tremaining: 6m 31s\n",
      "bestTest = 0.8926650849\n",
      "bestIteration = 19\n",
      "Shrink model to first 20 iterations.\n",
      "0.8926650849206355\n"
     ]
    },
    {
     "name": "stderr",
     "output_type": "stream",
     "text": [
      "\u001b[32m[I 2023-01-16 09:04:13,179]\u001b[0m Trial 65 finished with value: 0.8926650849206355 and parameters: {'depth': 4, 'learning_rate': 0.066273916534793, 'subsample': 0.9961364579241452, 'min_data_in_leaf': 93, 'l2_leaf_reg': 4, 'random_strength': 0.439559265000655}. Best is trial 43 with value: 0.905109717636109.\u001b[0m\n",
      "Default metric period is 5 because AUC is/are not implemented for GPU\n",
      "AUC is not implemented on GPU. Will use CPU for metric computation, this could significantly affect learning time\n"
     ]
    },
    {
     "name": "stdout",
     "output_type": "stream",
     "text": [
      "0:\ttest: 0.8576405\tbest: 0.8576405 (0)\ttotal: 70.5ms\tremaining: 23m 30s\n",
      "bestTest = 0.8851657096\n",
      "bestIteration = 27\n",
      "Shrink model to first 28 iterations.\n",
      "0.8851657095599106\n"
     ]
    },
    {
     "name": "stderr",
     "output_type": "stream",
     "text": [
      "\u001b[32m[I 2023-01-16 09:04:19,685]\u001b[0m Trial 66 finished with value: 0.8851657095599106 and parameters: {'depth': 10, 'learning_rate': 0.0906626080306036, 'subsample': 0.918284887341448, 'min_data_in_leaf': 63, 'l2_leaf_reg': 6, 'random_strength': 0.2756139316315836}. Best is trial 43 with value: 0.905109717636109.\u001b[0m\n",
      "Default metric period is 5 because AUC is/are not implemented for GPU\n",
      "AUC is not implemented on GPU. Will use CPU for metric computation, this could significantly affect learning time\n"
     ]
    },
    {
     "name": "stdout",
     "output_type": "stream",
     "text": [
      "0:\ttest: 0.8768423\tbest: 0.8768423 (0)\ttotal: 32.3ms\tremaining: 10m 46s\n"
     ]
    },
    {
     "name": "stderr",
     "output_type": "stream",
     "text": [
      "\u001b[32m[I 2023-01-16 09:04:27,708]\u001b[0m Trial 67 finished with value: 0.8952101111420158 and parameters: {'depth': 5, 'learning_rate': 0.048415363451258984, 'subsample': 0.4922879732919936, 'min_data_in_leaf': 49, 'l2_leaf_reg': 12, 'random_strength': 0.5573190257080803}. Best is trial 43 with value: 0.905109717636109.\u001b[0m\n"
     ]
    },
    {
     "name": "stdout",
     "output_type": "stream",
     "text": [
      "bestTest = 0.8952101111\n",
      "bestIteration = 162\n",
      "Shrink model to first 163 iterations.\n",
      "0.8952101111420158\n"
     ]
    },
    {
     "name": "stderr",
     "output_type": "stream",
     "text": [
      "Default metric period is 5 because AUC is/are not implemented for GPU\n",
      "AUC is not implemented on GPU. Will use CPU for metric computation, this could significantly affect learning time\n"
     ]
    },
    {
     "name": "stdout",
     "output_type": "stream",
     "text": [
      "0:\ttest: 0.8649702\tbest: 0.8649702 (0)\ttotal: 39.7ms\tremaining: 13m 13s\n",
      "bestTest = 0.8935847021\n",
      "bestIteration = 42\n",
      "Shrink model to first 43 iterations.\n",
      "0.893584702095892\n"
     ]
    },
    {
     "name": "stderr",
     "output_type": "stream",
     "text": [
      "\u001b[32m[I 2023-01-16 09:04:33,317]\u001b[0m Trial 68 finished with value: 0.893584702095892 and parameters: {'depth': 7, 'learning_rate': 0.05018232601536261, 'subsample': 0.41882000117579304, 'min_data_in_leaf': 76, 'l2_leaf_reg': 12, 'random_strength': 0.33877115569707555}. Best is trial 43 with value: 0.905109717636109.\u001b[0m\n",
      "Default metric period is 5 because AUC is/are not implemented for GPU\n",
      "AUC is not implemented on GPU. Will use CPU for metric computation, this could significantly affect learning time\n"
     ]
    },
    {
     "name": "stdout",
     "output_type": "stream",
     "text": [
      "0:\ttest: 0.8860783\tbest: 0.8860783 (0)\ttotal: 28.7ms\tremaining: 9m 33s\n",
      "bestTest = 0.9014696365\n",
      "bestIteration = 87\n",
      "Shrink model to first 88 iterations.\n",
      "0.9014696364700439\n"
     ]
    },
    {
     "name": "stderr",
     "output_type": "stream",
     "text": [
      "\u001b[32m[I 2023-01-16 09:04:38,386]\u001b[0m Trial 69 finished with value: 0.9014696364700439 and parameters: {'depth': 5, 'learning_rate': 0.049706451454383904, 'subsample': 0.518170184820075, 'min_data_in_leaf': 49, 'l2_leaf_reg': 13, 'random_strength': 0.5621935502728622}. Best is trial 43 with value: 0.905109717636109.\u001b[0m\n",
      "Default metric period is 5 because AUC is/are not implemented for GPU\n",
      "AUC is not implemented on GPU. Will use CPU for metric computation, this could significantly affect learning time\n"
     ]
    },
    {
     "name": "stdout",
     "output_type": "stream",
     "text": [
      "0:\ttest: 0.8641421\tbest: 0.8641421 (0)\ttotal: 16.4ms\tremaining: 5m 28s\n"
     ]
    },
    {
     "name": "stderr",
     "output_type": "stream",
     "text": [
      "\u001b[32m[I 2023-01-16 09:04:43,571]\u001b[0m Trial 70 finished with value: 0.8821650839104372 and parameters: {'depth': 5, 'learning_rate': 0.0511101896623791, 'subsample': 0.5133363215249288, 'min_data_in_leaf': 48, 'l2_leaf_reg': 14, 'random_strength': 0.6332421278758916}. Best is trial 43 with value: 0.905109717636109.\u001b[0m\n"
     ]
    },
    {
     "name": "stdout",
     "output_type": "stream",
     "text": [
      "bestTest = 0.8821650839\n",
      "bestIteration = 154\n",
      "Shrink model to first 155 iterations.\n",
      "0.8821650839104372\n"
     ]
    },
    {
     "name": "stderr",
     "output_type": "stream",
     "text": [
      "Default metric period is 5 because AUC is/are not implemented for GPU\n",
      "AUC is not implemented on GPU. Will use CPU for metric computation, this could significantly affect learning time\n"
     ]
    },
    {
     "name": "stdout",
     "output_type": "stream",
     "text": [
      "0:\ttest: 0.8753106\tbest: 0.8753106 (0)\ttotal: 19.3ms\tremaining: 6m 25s\n"
     ]
    },
    {
     "name": "stderr",
     "output_type": "stream",
     "text": [
      "\u001b[32m[I 2023-01-16 09:04:46,615]\u001b[0m Trial 71 finished with value: 0.8931395413834464 and parameters: {'depth': 6, 'learning_rate': 0.04609152751028764, 'subsample': 0.47114066922676145, 'min_data_in_leaf': 51, 'l2_leaf_reg': 15, 'random_strength': 0.699017587408421}. Best is trial 43 with value: 0.905109717636109.\u001b[0m\n"
     ]
    },
    {
     "name": "stdout",
     "output_type": "stream",
     "text": [
      "bestTest = 0.8931395414\n",
      "bestIteration = 25\n",
      "Shrink model to first 26 iterations.\n",
      "0.8931395413834464\n"
     ]
    },
    {
     "name": "stderr",
     "output_type": "stream",
     "text": [
      "Default metric period is 5 because AUC is/are not implemented for GPU\n",
      "AUC is not implemented on GPU. Will use CPU for metric computation, this could significantly affect learning time\n"
     ]
    },
    {
     "name": "stdout",
     "output_type": "stream",
     "text": [
      "0:\ttest: 0.8594858\tbest: 0.8594858 (0)\ttotal: 13.4ms\tremaining: 4m 28s\n"
     ]
    },
    {
     "name": "stderr",
     "output_type": "stream",
     "text": [
      "\u001b[32m[I 2023-01-16 09:04:49,832]\u001b[0m Trial 72 finished with value: 0.8816418011970176 and parameters: {'depth': 5, 'learning_rate': 0.056255215613242274, 'subsample': 0.29378482110491366, 'min_data_in_leaf': 56, 'l2_leaf_reg': 13, 'random_strength': 0.552159139969717}. Best is trial 43 with value: 0.905109717636109.\u001b[0m\n"
     ]
    },
    {
     "name": "stdout",
     "output_type": "stream",
     "text": [
      "bestTest = 0.8816418012\n",
      "bestIteration = 62\n",
      "Shrink model to first 63 iterations.\n",
      "0.8816418011970176\n"
     ]
    },
    {
     "name": "stderr",
     "output_type": "stream",
     "text": [
      "Default metric period is 5 because AUC is/are not implemented for GPU\n",
      "AUC is not implemented on GPU. Will use CPU for metric computation, this could significantly affect learning time\n"
     ]
    },
    {
     "name": "stdout",
     "output_type": "stream",
     "text": [
      "0:\ttest: 0.8696201\tbest: 0.8696201 (0)\ttotal: 13.6ms\tremaining: 4m 31s\n",
      "bestTest = 0.8824694903\n",
      "bestIteration = 108\n",
      "Shrink model to first 109 iterations.\n",
      "0.8824694903280248\n"
     ]
    },
    {
     "name": "stderr",
     "output_type": "stream",
     "text": [
      "\u001b[32m[I 2023-01-16 09:04:53,875]\u001b[0m Trial 73 finished with value: 0.8824694903280248 and parameters: {'depth': 6, 'learning_rate': 0.040023535440226445, 'subsample': 0.37659401864084474, 'min_data_in_leaf': 36, 'l2_leaf_reg': 11, 'random_strength': 0.4038969331025459}. Best is trial 43 with value: 0.905109717636109.\u001b[0m\n",
      "Default metric period is 5 because AUC is/are not implemented for GPU\n",
      "AUC is not implemented on GPU. Will use CPU for metric computation, this could significantly affect learning time\n"
     ]
    },
    {
     "name": "stdout",
     "output_type": "stream",
     "text": [
      "0:\ttest: 0.8722557\tbest: 0.8722557 (0)\ttotal: 18.4ms\tremaining: 6m 7s\n"
     ]
    },
    {
     "name": "stderr",
     "output_type": "stream",
     "text": [
      "\u001b[32m[I 2023-01-16 09:04:57,264]\u001b[0m Trial 74 finished with value: 0.8912555215754783 and parameters: {'depth': 5, 'learning_rate': 0.04858439173189257, 'subsample': 0.6083160403280684, 'min_data_in_leaf': 44, 'l2_leaf_reg': 12, 'random_strength': 0.5099396187560913}. Best is trial 43 with value: 0.905109717636109.\u001b[0m\n"
     ]
    },
    {
     "name": "stdout",
     "output_type": "stream",
     "text": [
      "bestTest = 0.8912555216\n",
      "bestIteration = 37\n",
      "Shrink model to first 38 iterations.\n",
      "0.8912555215754783\n"
     ]
    },
    {
     "name": "stderr",
     "output_type": "stream",
     "text": [
      "Default metric period is 5 because AUC is/are not implemented for GPU\n",
      "AUC is not implemented on GPU. Will use CPU for metric computation, this could significantly affect learning time\n"
     ]
    },
    {
     "name": "stdout",
     "output_type": "stream",
     "text": [
      "0:\ttest: 0.8764888\tbest: 0.8764888 (0)\ttotal: 12.2ms\tremaining: 4m 4s\n"
     ]
    },
    {
     "name": "stderr",
     "output_type": "stream",
     "text": [
      "\u001b[32m[I 2023-01-16 09:04:59,627]\u001b[0m Trial 75 finished with value: 0.8958694338916138 and parameters: {'depth': 5, 'learning_rate': 0.05426736831916727, 'subsample': 0.44618878116526345, 'min_data_in_leaf': 62, 'l2_leaf_reg': 13, 'random_strength': 0.17900766432405665}. Best is trial 43 with value: 0.905109717636109.\u001b[0m\n"
     ]
    },
    {
     "name": "stdout",
     "output_type": "stream",
     "text": [
      "bestTest = 0.8958694339\n",
      "bestIteration = 45\n",
      "Shrink model to first 46 iterations.\n",
      "0.8958694338916138\n"
     ]
    },
    {
     "name": "stderr",
     "output_type": "stream",
     "text": [
      "Default metric period is 5 because AUC is/are not implemented for GPU\n",
      "AUC is not implemented on GPU. Will use CPU for metric computation, this could significantly affect learning time\n"
     ]
    },
    {
     "name": "stdout",
     "output_type": "stream",
     "text": [
      "0:\ttest: 0.8697164\tbest: 0.8697164 (0)\ttotal: 10.1ms\tremaining: 3m 22s\n"
     ]
    },
    {
     "name": "stderr",
     "output_type": "stream",
     "text": [
      "\u001b[32m[I 2023-01-16 09:05:02,865]\u001b[0m Trial 76 finished with value: 0.8880575705269935 and parameters: {'depth': 5, 'learning_rate': 0.05987094713474463, 'subsample': 0.4448835771732771, 'min_data_in_leaf': 62, 'l2_leaf_reg': 15, 'random_strength': 0.6094533174963571}. Best is trial 43 with value: 0.905109717636109.\u001b[0m\n"
     ]
    },
    {
     "name": "stdout",
     "output_type": "stream",
     "text": [
      "bestTest = 0.8880575705\n",
      "bestIteration = 134\n",
      "Shrink model to first 135 iterations.\n",
      "0.8880575705269935\n"
     ]
    },
    {
     "name": "stderr",
     "output_type": "stream",
     "text": [
      "Default metric period is 5 because AUC is/are not implemented for GPU\n",
      "AUC is not implemented on GPU. Will use CPU for metric computation, this could significantly affect learning time\n"
     ]
    },
    {
     "name": "stdout",
     "output_type": "stream",
     "text": [
      "0:\ttest: 0.8480254\tbest: 0.8480254 (0)\ttotal: 12.6ms\tremaining: 4m 11s\n"
     ]
    },
    {
     "name": "stderr",
     "output_type": "stream",
     "text": [
      "\u001b[33m[W 2023-01-16 09:05:04,095]\u001b[0m Trial 77 failed because of the following error: KeyboardInterrupt('')\u001b[0m\n",
      "Traceback (most recent call last):\n",
      "  File \"D:\\source\\repos\\venv\\Python310\\lib\\site-packages\\optuna\\study\\_optimize.py\", line 196, in _run_trial\n",
      "    value_or_values = func(trial)\n",
      "  File \"C:\\Users\\ryans\\AppData\\Local\\Temp\\ipykernel_27408\\4211095094.py\", line 24, in cat_objective\n",
      "    clf.fit(X_train, y_train, eval_set=(X_valid, y_valid), early_stopping_rounds=100, verbose=1000)\n",
      "  File \"D:\\source\\repos\\venv\\Python310\\lib\\site-packages\\catboost\\core.py\", line 5730, in fit\n",
      "    return self._fit(X, y, cat_features, text_features, embedding_features, None, sample_weight, None, None, None, None, baseline,\n",
      "  File \"D:\\source\\repos\\venv\\Python310\\lib\\site-packages\\catboost\\core.py\", line 2355, in _fit\n",
      "    self._train(\n",
      "  File \"D:\\source\\repos\\venv\\Python310\\lib\\site-packages\\catboost\\core.py\", line 1759, in _train\n",
      "    self._object._train(train_pool, test_pool, params, allow_clear_pool, init_model._object if init_model else None)\n",
      "  File \"_catboost.pyx\", line 4623, in _catboost._CatBoost._train\n",
      "  File \"_catboost.pyx\", line 4672, in _catboost._CatBoost._train\n",
      "KeyboardInterrupt\n"
     ]
    },
    {
     "ename": "KeyboardInterrupt",
     "evalue": "",
     "output_type": "error",
     "traceback": [
      "\u001b[1;31m---------------------------------------------------------------------------\u001b[0m",
      "\u001b[1;31mKeyboardInterrupt\u001b[0m                         Traceback (most recent call last)",
      "Cell \u001b[1;32mIn[8], line 5\u001b[0m\n\u001b[0;32m      3\u001b[0m train_time \u001b[38;5;241m=\u001b[39m \u001b[38;5;241m1\u001b[39m \u001b[38;5;241m*\u001b[39m \u001b[38;5;241m60\u001b[39m \u001b[38;5;241m*\u001b[39m \u001b[38;5;241m60\u001b[39m\n\u001b[0;32m      4\u001b[0m study \u001b[38;5;241m=\u001b[39m optuna\u001b[38;5;241m.\u001b[39mcreate_study(direction\u001b[38;5;241m=\u001b[39m\u001b[38;5;124m'\u001b[39m\u001b[38;5;124mmaximize\u001b[39m\u001b[38;5;124m'\u001b[39m, sampler\u001b[38;5;241m=\u001b[39mTPESampler(), study_name\u001b[38;5;241m=\u001b[39m\u001b[38;5;124m'\u001b[39m\u001b[38;5;124mCATRegressor\u001b[39m\u001b[38;5;124m'\u001b[39m)\n\u001b[1;32m----> 5\u001b[0m \u001b[43mstudy\u001b[49m\u001b[38;5;241;43m.\u001b[39;49m\u001b[43moptimize\u001b[49m\u001b[43m(\u001b[49m\u001b[43mcat_objective\u001b[49m\u001b[43m,\u001b[49m\u001b[43m \u001b[49m\u001b[43mtimeout\u001b[49m\u001b[38;5;241;43m=\u001b[39;49m\u001b[43mtrain_time\u001b[49m\u001b[43m)\u001b[49m\n",
      "File \u001b[1;32mD:\\source\\repos\\venv\\Python310\\lib\\site-packages\\optuna\\study\\study.py:419\u001b[0m, in \u001b[0;36mStudy.optimize\u001b[1;34m(self, func, n_trials, timeout, n_jobs, catch, callbacks, gc_after_trial, show_progress_bar)\u001b[0m\n\u001b[0;32m    315\u001b[0m \u001b[38;5;28;01mdef\u001b[39;00m \u001b[38;5;21moptimize\u001b[39m(\n\u001b[0;32m    316\u001b[0m     \u001b[38;5;28mself\u001b[39m,\n\u001b[0;32m    317\u001b[0m     func: ObjectiveFuncType,\n\u001b[1;32m   (...)\u001b[0m\n\u001b[0;32m    324\u001b[0m     show_progress_bar: \u001b[38;5;28mbool\u001b[39m \u001b[38;5;241m=\u001b[39m \u001b[38;5;28;01mFalse\u001b[39;00m,\n\u001b[0;32m    325\u001b[0m ) \u001b[38;5;241m-\u001b[39m\u001b[38;5;241m>\u001b[39m \u001b[38;5;28;01mNone\u001b[39;00m:\n\u001b[0;32m    326\u001b[0m     \u001b[38;5;124;03m\"\"\"Optimize an objective function.\u001b[39;00m\n\u001b[0;32m    327\u001b[0m \n\u001b[0;32m    328\u001b[0m \u001b[38;5;124;03m    Optimization is done by choosing a suitable set of hyperparameter values from a given\u001b[39;00m\n\u001b[1;32m   (...)\u001b[0m\n\u001b[0;32m    416\u001b[0m \u001b[38;5;124;03m            If nested invocation of this method occurs.\u001b[39;00m\n\u001b[0;32m    417\u001b[0m \u001b[38;5;124;03m    \"\"\"\u001b[39;00m\n\u001b[1;32m--> 419\u001b[0m     \u001b[43m_optimize\u001b[49m\u001b[43m(\u001b[49m\n\u001b[0;32m    420\u001b[0m \u001b[43m        \u001b[49m\u001b[43mstudy\u001b[49m\u001b[38;5;241;43m=\u001b[39;49m\u001b[38;5;28;43mself\u001b[39;49m\u001b[43m,\u001b[49m\n\u001b[0;32m    421\u001b[0m \u001b[43m        \u001b[49m\u001b[43mfunc\u001b[49m\u001b[38;5;241;43m=\u001b[39;49m\u001b[43mfunc\u001b[49m\u001b[43m,\u001b[49m\n\u001b[0;32m    422\u001b[0m \u001b[43m        \u001b[49m\u001b[43mn_trials\u001b[49m\u001b[38;5;241;43m=\u001b[39;49m\u001b[43mn_trials\u001b[49m\u001b[43m,\u001b[49m\n\u001b[0;32m    423\u001b[0m \u001b[43m        \u001b[49m\u001b[43mtimeout\u001b[49m\u001b[38;5;241;43m=\u001b[39;49m\u001b[43mtimeout\u001b[49m\u001b[43m,\u001b[49m\n\u001b[0;32m    424\u001b[0m \u001b[43m        \u001b[49m\u001b[43mn_jobs\u001b[49m\u001b[38;5;241;43m=\u001b[39;49m\u001b[43mn_jobs\u001b[49m\u001b[43m,\u001b[49m\n\u001b[0;32m    425\u001b[0m \u001b[43m        \u001b[49m\u001b[43mcatch\u001b[49m\u001b[38;5;241;43m=\u001b[39;49m\u001b[43mcatch\u001b[49m\u001b[43m,\u001b[49m\n\u001b[0;32m    426\u001b[0m \u001b[43m        \u001b[49m\u001b[43mcallbacks\u001b[49m\u001b[38;5;241;43m=\u001b[39;49m\u001b[43mcallbacks\u001b[49m\u001b[43m,\u001b[49m\n\u001b[0;32m    427\u001b[0m \u001b[43m        \u001b[49m\u001b[43mgc_after_trial\u001b[49m\u001b[38;5;241;43m=\u001b[39;49m\u001b[43mgc_after_trial\u001b[49m\u001b[43m,\u001b[49m\n\u001b[0;32m    428\u001b[0m \u001b[43m        \u001b[49m\u001b[43mshow_progress_bar\u001b[49m\u001b[38;5;241;43m=\u001b[39;49m\u001b[43mshow_progress_bar\u001b[49m\u001b[43m,\u001b[49m\n\u001b[0;32m    429\u001b[0m \u001b[43m    \u001b[49m\u001b[43m)\u001b[49m\n",
      "File \u001b[1;32mD:\\source\\repos\\venv\\Python310\\lib\\site-packages\\optuna\\study\\_optimize.py:66\u001b[0m, in \u001b[0;36m_optimize\u001b[1;34m(study, func, n_trials, timeout, n_jobs, catch, callbacks, gc_after_trial, show_progress_bar)\u001b[0m\n\u001b[0;32m     64\u001b[0m \u001b[38;5;28;01mtry\u001b[39;00m:\n\u001b[0;32m     65\u001b[0m     \u001b[38;5;28;01mif\u001b[39;00m n_jobs \u001b[38;5;241m==\u001b[39m \u001b[38;5;241m1\u001b[39m:\n\u001b[1;32m---> 66\u001b[0m         \u001b[43m_optimize_sequential\u001b[49m\u001b[43m(\u001b[49m\n\u001b[0;32m     67\u001b[0m \u001b[43m            \u001b[49m\u001b[43mstudy\u001b[49m\u001b[43m,\u001b[49m\n\u001b[0;32m     68\u001b[0m \u001b[43m            \u001b[49m\u001b[43mfunc\u001b[49m\u001b[43m,\u001b[49m\n\u001b[0;32m     69\u001b[0m \u001b[43m            \u001b[49m\u001b[43mn_trials\u001b[49m\u001b[43m,\u001b[49m\n\u001b[0;32m     70\u001b[0m \u001b[43m            \u001b[49m\u001b[43mtimeout\u001b[49m\u001b[43m,\u001b[49m\n\u001b[0;32m     71\u001b[0m \u001b[43m            \u001b[49m\u001b[43mcatch\u001b[49m\u001b[43m,\u001b[49m\n\u001b[0;32m     72\u001b[0m \u001b[43m            \u001b[49m\u001b[43mcallbacks\u001b[49m\u001b[43m,\u001b[49m\n\u001b[0;32m     73\u001b[0m \u001b[43m            \u001b[49m\u001b[43mgc_after_trial\u001b[49m\u001b[43m,\u001b[49m\n\u001b[0;32m     74\u001b[0m \u001b[43m            \u001b[49m\u001b[43mreseed_sampler_rng\u001b[49m\u001b[38;5;241;43m=\u001b[39;49m\u001b[38;5;28;43;01mFalse\u001b[39;49;00m\u001b[43m,\u001b[49m\n\u001b[0;32m     75\u001b[0m \u001b[43m            \u001b[49m\u001b[43mtime_start\u001b[49m\u001b[38;5;241;43m=\u001b[39;49m\u001b[38;5;28;43;01mNone\u001b[39;49;00m\u001b[43m,\u001b[49m\n\u001b[0;32m     76\u001b[0m \u001b[43m            \u001b[49m\u001b[43mprogress_bar\u001b[49m\u001b[38;5;241;43m=\u001b[39;49m\u001b[43mprogress_bar\u001b[49m\u001b[43m,\u001b[49m\n\u001b[0;32m     77\u001b[0m \u001b[43m        \u001b[49m\u001b[43m)\u001b[49m\n\u001b[0;32m     78\u001b[0m     \u001b[38;5;28;01melse\u001b[39;00m:\n\u001b[0;32m     79\u001b[0m         \u001b[38;5;28;01mif\u001b[39;00m n_jobs \u001b[38;5;241m==\u001b[39m \u001b[38;5;241m-\u001b[39m\u001b[38;5;241m1\u001b[39m:\n",
      "File \u001b[1;32mD:\\source\\repos\\venv\\Python310\\lib\\site-packages\\optuna\\study\\_optimize.py:160\u001b[0m, in \u001b[0;36m_optimize_sequential\u001b[1;34m(study, func, n_trials, timeout, catch, callbacks, gc_after_trial, reseed_sampler_rng, time_start, progress_bar)\u001b[0m\n\u001b[0;32m    157\u001b[0m         \u001b[38;5;28;01mbreak\u001b[39;00m\n\u001b[0;32m    159\u001b[0m \u001b[38;5;28;01mtry\u001b[39;00m:\n\u001b[1;32m--> 160\u001b[0m     frozen_trial \u001b[38;5;241m=\u001b[39m \u001b[43m_run_trial\u001b[49m\u001b[43m(\u001b[49m\u001b[43mstudy\u001b[49m\u001b[43m,\u001b[49m\u001b[43m \u001b[49m\u001b[43mfunc\u001b[49m\u001b[43m,\u001b[49m\u001b[43m \u001b[49m\u001b[43mcatch\u001b[49m\u001b[43m)\u001b[49m\n\u001b[0;32m    161\u001b[0m \u001b[38;5;28;01mfinally\u001b[39;00m:\n\u001b[0;32m    162\u001b[0m     \u001b[38;5;66;03m# The following line mitigates memory problems that can be occurred in some\u001b[39;00m\n\u001b[0;32m    163\u001b[0m     \u001b[38;5;66;03m# environments (e.g., services that use computing containers such as CircleCI).\u001b[39;00m\n\u001b[0;32m    164\u001b[0m     \u001b[38;5;66;03m# Please refer to the following PR for further details:\u001b[39;00m\n\u001b[0;32m    165\u001b[0m     \u001b[38;5;66;03m# https://github.com/optuna/optuna/pull/325.\u001b[39;00m\n\u001b[0;32m    166\u001b[0m     \u001b[38;5;28;01mif\u001b[39;00m gc_after_trial:\n",
      "File \u001b[1;32mD:\\source\\repos\\venv\\Python310\\lib\\site-packages\\optuna\\study\\_optimize.py:234\u001b[0m, in \u001b[0;36m_run_trial\u001b[1;34m(study, func, catch)\u001b[0m\n\u001b[0;32m    227\u001b[0m         \u001b[38;5;28;01massert\u001b[39;00m \u001b[38;5;28;01mFalse\u001b[39;00m, \u001b[38;5;124m\"\u001b[39m\u001b[38;5;124mShould not reach.\u001b[39m\u001b[38;5;124m\"\u001b[39m\n\u001b[0;32m    229\u001b[0m \u001b[38;5;28;01mif\u001b[39;00m (\n\u001b[0;32m    230\u001b[0m     frozen_trial\u001b[38;5;241m.\u001b[39mstate \u001b[38;5;241m==\u001b[39m TrialState\u001b[38;5;241m.\u001b[39mFAIL\n\u001b[0;32m    231\u001b[0m     \u001b[38;5;129;01mand\u001b[39;00m func_err \u001b[38;5;129;01mis\u001b[39;00m \u001b[38;5;129;01mnot\u001b[39;00m \u001b[38;5;28;01mNone\u001b[39;00m\n\u001b[0;32m    232\u001b[0m     \u001b[38;5;129;01mand\u001b[39;00m \u001b[38;5;129;01mnot\u001b[39;00m \u001b[38;5;28misinstance\u001b[39m(func_err, catch)\n\u001b[0;32m    233\u001b[0m ):\n\u001b[1;32m--> 234\u001b[0m     \u001b[38;5;28;01mraise\u001b[39;00m func_err\n\u001b[0;32m    235\u001b[0m \u001b[38;5;28;01mreturn\u001b[39;00m frozen_trial\n",
      "File \u001b[1;32mD:\\source\\repos\\venv\\Python310\\lib\\site-packages\\optuna\\study\\_optimize.py:196\u001b[0m, in \u001b[0;36m_run_trial\u001b[1;34m(study, func, catch)\u001b[0m\n\u001b[0;32m    194\u001b[0m \u001b[38;5;28;01mwith\u001b[39;00m get_heartbeat_thread(trial\u001b[38;5;241m.\u001b[39m_trial_id, study\u001b[38;5;241m.\u001b[39m_storage):\n\u001b[0;32m    195\u001b[0m     \u001b[38;5;28;01mtry\u001b[39;00m:\n\u001b[1;32m--> 196\u001b[0m         value_or_values \u001b[38;5;241m=\u001b[39m \u001b[43mfunc\u001b[49m\u001b[43m(\u001b[49m\u001b[43mtrial\u001b[49m\u001b[43m)\u001b[49m\n\u001b[0;32m    197\u001b[0m     \u001b[38;5;28;01mexcept\u001b[39;00m exceptions\u001b[38;5;241m.\u001b[39mTrialPruned \u001b[38;5;28;01mas\u001b[39;00m e:\n\u001b[0;32m    198\u001b[0m         \u001b[38;5;66;03m# TODO(mamu): Handle multi-objective cases.\u001b[39;00m\n\u001b[0;32m    199\u001b[0m         state \u001b[38;5;241m=\u001b[39m TrialState\u001b[38;5;241m.\u001b[39mPRUNED\n",
      "Cell \u001b[1;32mIn[7], line 24\u001b[0m, in \u001b[0;36mcat_objective\u001b[1;34m(trial)\u001b[0m\n\u001b[0;32m      5\u001b[0m param_grid \u001b[38;5;241m=\u001b[39m {\n\u001b[0;32m      6\u001b[0m     \u001b[38;5;124m'\u001b[39m\u001b[38;5;124mdepth\u001b[39m\u001b[38;5;124m'\u001b[39m: trial\u001b[38;5;241m.\u001b[39msuggest_int(\u001b[38;5;124m'\u001b[39m\u001b[38;5;124mdepth\u001b[39m\u001b[38;5;124m'\u001b[39m, \u001b[38;5;241m1\u001b[39m, \u001b[38;5;241m10\u001b[39m),\n\u001b[0;32m      7\u001b[0m     \u001b[38;5;124m'\u001b[39m\u001b[38;5;124mlearning_rate\u001b[39m\u001b[38;5;124m'\u001b[39m: trial\u001b[38;5;241m.\u001b[39msuggest_float(\u001b[38;5;124m'\u001b[39m\u001b[38;5;124mlearning_rate\u001b[39m\u001b[38;5;124m'\u001b[39m, \u001b[38;5;241m0.001\u001b[39m, \u001b[38;5;241m0.1\u001b[39m),\n\u001b[1;32m   (...)\u001b[0m\n\u001b[0;32m     12\u001b[0m     \u001b[38;5;124m'\u001b[39m\u001b[38;5;124mrandom_strength\u001b[39m\u001b[38;5;124m'\u001b[39m: trial\u001b[38;5;241m.\u001b[39msuggest_float(\u001b[38;5;124m'\u001b[39m\u001b[38;5;124mrandom_strength\u001b[39m\u001b[38;5;124m'\u001b[39m, \u001b[38;5;241m0.001\u001b[39m, \u001b[38;5;241m0.9\u001b[39m),\n\u001b[0;32m     13\u001b[0m } \n\u001b[0;32m     15\u001b[0m clf \u001b[38;5;241m=\u001b[39m CatBoostRegressor(iterations\u001b[38;5;241m=\u001b[39m\u001b[38;5;241m20000\u001b[39m,\n\u001b[0;32m     16\u001b[0m                         \u001b[38;5;241m*\u001b[39m\u001b[38;5;241m*\u001b[39mparam_grid,\n\u001b[0;32m     17\u001b[0m                         bootstrap_type\u001b[38;5;241m=\u001b[39m\u001b[38;5;124m'\u001b[39m\u001b[38;5;124mBernoulli\u001b[39m\u001b[38;5;124m'\u001b[39m,\n\u001b[1;32m   (...)\u001b[0m\n\u001b[0;32m     21\u001b[0m                         task_type\u001b[38;5;241m=\u001b[39m\u001b[38;5;124m\"\u001b[39m\u001b[38;5;124mGPU\u001b[39m\u001b[38;5;124m\"\u001b[39m,\n\u001b[0;32m     22\u001b[0m                         random_state\u001b[38;5;241m=\u001b[39m\u001b[38;5;241m1\u001b[39m,)\n\u001b[1;32m---> 24\u001b[0m \u001b[43mclf\u001b[49m\u001b[38;5;241;43m.\u001b[39;49m\u001b[43mfit\u001b[49m\u001b[43m(\u001b[49m\u001b[43mX_train\u001b[49m\u001b[43m,\u001b[49m\u001b[43m \u001b[49m\u001b[43my_train\u001b[49m\u001b[43m,\u001b[49m\u001b[43m \u001b[49m\u001b[43meval_set\u001b[49m\u001b[38;5;241;43m=\u001b[39;49m\u001b[43m(\u001b[49m\u001b[43mX_valid\u001b[49m\u001b[43m,\u001b[49m\u001b[43m \u001b[49m\u001b[43my_valid\u001b[49m\u001b[43m)\u001b[49m\u001b[43m,\u001b[49m\u001b[43m \u001b[49m\u001b[43mearly_stopping_rounds\u001b[49m\u001b[38;5;241;43m=\u001b[39;49m\u001b[38;5;241;43m100\u001b[39;49m\u001b[43m,\u001b[49m\u001b[43m \u001b[49m\u001b[43mverbose\u001b[49m\u001b[38;5;241;43m=\u001b[39;49m\u001b[38;5;241;43m1000\u001b[39;49m\u001b[43m)\u001b[49m\n\u001b[0;32m     25\u001b[0m preds \u001b[38;5;241m=\u001b[39m clf\u001b[38;5;241m.\u001b[39mpredict(X_valid)\n\u001b[0;32m     27\u001b[0m fpr, tpr, _ \u001b[38;5;241m=\u001b[39m roc_curve(y_valid, preds)\n",
      "File \u001b[1;32mD:\\source\\repos\\venv\\Python310\\lib\\site-packages\\catboost\\core.py:5730\u001b[0m, in \u001b[0;36mCatBoostRegressor.fit\u001b[1;34m(self, X, y, cat_features, text_features, embedding_features, sample_weight, baseline, use_best_model, eval_set, verbose, logging_level, plot, plot_file, column_description, verbose_eval, metric_period, silent, early_stopping_rounds, save_snapshot, snapshot_file, snapshot_interval, init_model, callbacks, log_cout, log_cerr)\u001b[0m\n\u001b[0;32m   5727\u001b[0m \u001b[38;5;28;01mif\u001b[39;00m \u001b[38;5;124m'\u001b[39m\u001b[38;5;124mloss_function\u001b[39m\u001b[38;5;124m'\u001b[39m \u001b[38;5;129;01min\u001b[39;00m params:\n\u001b[0;32m   5728\u001b[0m     CatBoostRegressor\u001b[38;5;241m.\u001b[39m_check_is_compatible_loss(params[\u001b[38;5;124m'\u001b[39m\u001b[38;5;124mloss_function\u001b[39m\u001b[38;5;124m'\u001b[39m])\n\u001b[1;32m-> 5730\u001b[0m \u001b[38;5;28;01mreturn\u001b[39;00m \u001b[38;5;28;43mself\u001b[39;49m\u001b[38;5;241;43m.\u001b[39;49m\u001b[43m_fit\u001b[49m\u001b[43m(\u001b[49m\u001b[43mX\u001b[49m\u001b[43m,\u001b[49m\u001b[43m \u001b[49m\u001b[43my\u001b[49m\u001b[43m,\u001b[49m\u001b[43m \u001b[49m\u001b[43mcat_features\u001b[49m\u001b[43m,\u001b[49m\u001b[43m \u001b[49m\u001b[43mtext_features\u001b[49m\u001b[43m,\u001b[49m\u001b[43m \u001b[49m\u001b[43membedding_features\u001b[49m\u001b[43m,\u001b[49m\u001b[43m \u001b[49m\u001b[38;5;28;43;01mNone\u001b[39;49;00m\u001b[43m,\u001b[49m\u001b[43m \u001b[49m\u001b[43msample_weight\u001b[49m\u001b[43m,\u001b[49m\u001b[43m \u001b[49m\u001b[38;5;28;43;01mNone\u001b[39;49;00m\u001b[43m,\u001b[49m\u001b[43m \u001b[49m\u001b[38;5;28;43;01mNone\u001b[39;49;00m\u001b[43m,\u001b[49m\u001b[43m \u001b[49m\u001b[38;5;28;43;01mNone\u001b[39;49;00m\u001b[43m,\u001b[49m\u001b[43m \u001b[49m\u001b[38;5;28;43;01mNone\u001b[39;49;00m\u001b[43m,\u001b[49m\u001b[43m \u001b[49m\u001b[43mbaseline\u001b[49m\u001b[43m,\u001b[49m\n\u001b[0;32m   5731\u001b[0m \u001b[43m                 \u001b[49m\u001b[43muse_best_model\u001b[49m\u001b[43m,\u001b[49m\u001b[43m \u001b[49m\u001b[43meval_set\u001b[49m\u001b[43m,\u001b[49m\u001b[43m \u001b[49m\u001b[43mverbose\u001b[49m\u001b[43m,\u001b[49m\u001b[43m \u001b[49m\u001b[43mlogging_level\u001b[49m\u001b[43m,\u001b[49m\u001b[43m \u001b[49m\u001b[43mplot\u001b[49m\u001b[43m,\u001b[49m\u001b[43m \u001b[49m\u001b[43mplot_file\u001b[49m\u001b[43m,\u001b[49m\u001b[43m \u001b[49m\u001b[43mcolumn_description\u001b[49m\u001b[43m,\u001b[49m\n\u001b[0;32m   5732\u001b[0m \u001b[43m                 \u001b[49m\u001b[43mverbose_eval\u001b[49m\u001b[43m,\u001b[49m\u001b[43m \u001b[49m\u001b[43mmetric_period\u001b[49m\u001b[43m,\u001b[49m\u001b[43m \u001b[49m\u001b[43msilent\u001b[49m\u001b[43m,\u001b[49m\u001b[43m \u001b[49m\u001b[43mearly_stopping_rounds\u001b[49m\u001b[43m,\u001b[49m\n\u001b[0;32m   5733\u001b[0m \u001b[43m                 \u001b[49m\u001b[43msave_snapshot\u001b[49m\u001b[43m,\u001b[49m\u001b[43m \u001b[49m\u001b[43msnapshot_file\u001b[49m\u001b[43m,\u001b[49m\u001b[43m \u001b[49m\u001b[43msnapshot_interval\u001b[49m\u001b[43m,\u001b[49m\u001b[43m \u001b[49m\u001b[43minit_model\u001b[49m\u001b[43m,\u001b[49m\u001b[43m \u001b[49m\u001b[43mcallbacks\u001b[49m\u001b[43m,\u001b[49m\u001b[43m \u001b[49m\u001b[43mlog_cout\u001b[49m\u001b[43m,\u001b[49m\u001b[43m \u001b[49m\u001b[43mlog_cerr\u001b[49m\u001b[43m)\u001b[49m\n",
      "File \u001b[1;32mD:\\source\\repos\\venv\\Python310\\lib\\site-packages\\catboost\\core.py:2355\u001b[0m, in \u001b[0;36mCatBoost._fit\u001b[1;34m(self, X, y, cat_features, text_features, embedding_features, pairs, sample_weight, group_id, group_weight, subgroup_id, pairs_weight, baseline, use_best_model, eval_set, verbose, logging_level, plot, plot_file, column_description, verbose_eval, metric_period, silent, early_stopping_rounds, save_snapshot, snapshot_file, snapshot_interval, init_model, callbacks, log_cout, log_cerr)\u001b[0m\n\u001b[0;32m   2351\u001b[0m allow_clear_pool \u001b[38;5;241m=\u001b[39m train_params[\u001b[38;5;124m\"\u001b[39m\u001b[38;5;124mallow_clear_pool\u001b[39m\u001b[38;5;124m\"\u001b[39m]\n\u001b[0;32m   2353\u001b[0m \u001b[38;5;28;01mwith\u001b[39;00m log_fixup(log_cout, log_cerr), \\\n\u001b[0;32m   2354\u001b[0m     plot_wrapper(plot, plot_file, \u001b[38;5;124m'\u001b[39m\u001b[38;5;124mTraining plots\u001b[39m\u001b[38;5;124m'\u001b[39m, [_get_train_dir(\u001b[38;5;28mself\u001b[39m\u001b[38;5;241m.\u001b[39mget_params())]):\n\u001b[1;32m-> 2355\u001b[0m     \u001b[38;5;28;43mself\u001b[39;49m\u001b[38;5;241;43m.\u001b[39;49m\u001b[43m_train\u001b[49m\u001b[43m(\u001b[49m\n\u001b[0;32m   2356\u001b[0m \u001b[43m        \u001b[49m\u001b[43mtrain_pool\u001b[49m\u001b[43m,\u001b[49m\n\u001b[0;32m   2357\u001b[0m \u001b[43m        \u001b[49m\u001b[43mtrain_params\u001b[49m\u001b[43m[\u001b[49m\u001b[38;5;124;43m\"\u001b[39;49m\u001b[38;5;124;43meval_sets\u001b[39;49m\u001b[38;5;124;43m\"\u001b[39;49m\u001b[43m]\u001b[49m\u001b[43m,\u001b[49m\n\u001b[0;32m   2358\u001b[0m \u001b[43m        \u001b[49m\u001b[43mparams\u001b[49m\u001b[43m,\u001b[49m\n\u001b[0;32m   2359\u001b[0m \u001b[43m        \u001b[49m\u001b[43mallow_clear_pool\u001b[49m\u001b[43m,\u001b[49m\n\u001b[0;32m   2360\u001b[0m \u001b[43m        \u001b[49m\u001b[43mtrain_params\u001b[49m\u001b[43m[\u001b[49m\u001b[38;5;124;43m\"\u001b[39;49m\u001b[38;5;124;43minit_model\u001b[39;49m\u001b[38;5;124;43m\"\u001b[39;49m\u001b[43m]\u001b[49m\n\u001b[0;32m   2361\u001b[0m \u001b[43m    \u001b[49m\u001b[43m)\u001b[49m\n\u001b[0;32m   2363\u001b[0m \u001b[38;5;66;03m# Have property feature_importance possibly set\u001b[39;00m\n\u001b[0;32m   2364\u001b[0m loss \u001b[38;5;241m=\u001b[39m \u001b[38;5;28mself\u001b[39m\u001b[38;5;241m.\u001b[39m_object\u001b[38;5;241m.\u001b[39m_get_loss_function_name()\n",
      "File \u001b[1;32mD:\\source\\repos\\venv\\Python310\\lib\\site-packages\\catboost\\core.py:1759\u001b[0m, in \u001b[0;36m_CatBoostBase._train\u001b[1;34m(self, train_pool, test_pool, params, allow_clear_pool, init_model)\u001b[0m\n\u001b[0;32m   1758\u001b[0m \u001b[38;5;28;01mdef\u001b[39;00m \u001b[38;5;21m_train\u001b[39m(\u001b[38;5;28mself\u001b[39m, train_pool, test_pool, params, allow_clear_pool, init_model):\n\u001b[1;32m-> 1759\u001b[0m     \u001b[38;5;28;43mself\u001b[39;49m\u001b[38;5;241;43m.\u001b[39;49m\u001b[43m_object\u001b[49m\u001b[38;5;241;43m.\u001b[39;49m\u001b[43m_train\u001b[49m\u001b[43m(\u001b[49m\u001b[43mtrain_pool\u001b[49m\u001b[43m,\u001b[49m\u001b[43m \u001b[49m\u001b[43mtest_pool\u001b[49m\u001b[43m,\u001b[49m\u001b[43m \u001b[49m\u001b[43mparams\u001b[49m\u001b[43m,\u001b[49m\u001b[43m \u001b[49m\u001b[43mallow_clear_pool\u001b[49m\u001b[43m,\u001b[49m\u001b[43m \u001b[49m\u001b[43minit_model\u001b[49m\u001b[38;5;241;43m.\u001b[39;49m\u001b[43m_object\u001b[49m\u001b[43m \u001b[49m\u001b[38;5;28;43;01mif\u001b[39;49;00m\u001b[43m \u001b[49m\u001b[43minit_model\u001b[49m\u001b[43m \u001b[49m\u001b[38;5;28;43;01melse\u001b[39;49;00m\u001b[43m \u001b[49m\u001b[38;5;28;43;01mNone\u001b[39;49;00m\u001b[43m)\u001b[49m\n\u001b[0;32m   1760\u001b[0m     \u001b[38;5;28mself\u001b[39m\u001b[38;5;241m.\u001b[39m_set_trained_model_attributes()\n",
      "File \u001b[1;32m_catboost.pyx:4623\u001b[0m, in \u001b[0;36m_catboost._CatBoost._train\u001b[1;34m()\u001b[0m\n",
      "File \u001b[1;32m_catboost.pyx:4672\u001b[0m, in \u001b[0;36m_catboost._CatBoost._train\u001b[1;34m()\u001b[0m\n",
      "\u001b[1;31mKeyboardInterrupt\u001b[0m: "
     ]
    }
   ],
   "source": [
    "cat_ranks = {}\n",
    "\n",
    "train_time = 1 * 60 * 5\n",
    "study = optuna.create_study(direction='maximize', sampler=TPESampler(), study_name='CATRegressor')\n",
    "study.optimize(cat_objective, timeout=train_time)\n",
    "\n"
   ]
  },
  {
   "cell_type": "code",
   "execution_count": 9,
   "id": "e8c311ac-1682-4fef-b5cb-738cf81f8e89",
   "metadata": {
    "tags": []
   },
   "outputs": [],
   "source": [
    "cat_ranks_bytes = pickle.dumps(cat_ranks)\n",
    "with open(\"rendered_data/CAT_clsfs_bytes.hex\", \"wb\") as binary_file:\n",
    "    binary_file.write(cat_ranks_bytes)"
   ]
  },
  {
   "cell_type": "code",
   "execution_count": 10,
   "id": "1c611044-b83b-42bc-8ea0-f34bf0ec3782",
   "metadata": {},
   "outputs": [
    {
     "name": "stderr",
     "output_type": "stream",
     "text": [
      "100%|███████████████████████████████████████████████████████████████████████████████████| 8/8 [00:00<00:00, 288.92it/s]\n"
     ]
    }
   ],
   "source": [
    "percent = math.ceil(len(cat_ranks.keys()) * .1)\n",
    "top = sorted(list(cat_ranks.keys()))[-percent:]\n",
    "\n",
    "train_preds = []\n",
    "test_preds = []\n",
    "for key in tqdm(top):\n",
    "    train_preds.append(cat_ranks[key].predict(X))\n",
    "    test_preds.append(cat_ranks[key].predict(X_test))\n",
    "    \n",
    "train_final_preds = np.stack(train_preds).mean(0)\n",
    "test_final_preds = np.stack(test_preds).mean(0)"
   ]
  },
  {
   "cell_type": "code",
   "execution_count": 11,
   "id": "31a813da-1308-4125-9c61-6516e81ebedf",
   "metadata": {},
   "outputs": [],
   "source": [
    "CAT_train_submission = pd.DataFrame(data={'id': train_df.id, 'stroke': train_final_preds})\n",
    "CAT_train_submission.to_csv(fr'rendered_data/CAT_train_submission.csv', index=False)\n",
    "\n",
    "CAT_test_submission = pd.DataFrame(data={'id': test_df.id, 'stroke': test_final_preds})\n",
    "CAT_test_submission.to_csv(fr'rendered_data/CAT_test_submission.csv', index=False)"
   ]
  },
  {
   "cell_type": "code",
   "execution_count": null,
   "id": "37c55386-36e0-47a8-9ad6-7b5e903565d8",
   "metadata": {},
   "outputs": [],
   "source": []
  }
 ],
 "metadata": {
  "kernelspec": {
   "display_name": "Python 3 (ipykernel)",
   "language": "python",
   "name": "python3"
  },
  "language_info": {
   "codemirror_mode": {
    "name": "ipython",
    "version": 3
   },
   "file_extension": ".py",
   "mimetype": "text/x-python",
   "name": "python",
   "nbconvert_exporter": "python",
   "pygments_lexer": "ipython3",
   "version": "3.10.9"
  }
 },
 "nbformat": 4,
 "nbformat_minor": 5
}
