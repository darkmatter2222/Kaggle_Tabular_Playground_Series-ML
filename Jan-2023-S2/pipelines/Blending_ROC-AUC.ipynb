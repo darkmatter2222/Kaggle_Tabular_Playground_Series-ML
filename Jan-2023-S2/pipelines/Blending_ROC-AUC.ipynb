{
 "cells": [
  {
   "cell_type": "code",
   "execution_count": 3,
   "id": "117ef22e-8c6d-4f4a-a7b2-9ad164e20a6f",
   "metadata": {},
   "outputs": [],
   "source": [
    "import pandas as pd\n",
    "import numpy as np\n",
    "from tqdm import tqdm\n",
    "from sklearn.metrics import roc_curve, auc,recall_score,precision_score\n",
    "import sys, os\n",
    "import pandas as pd\n",
    "import seaborn as sns\n",
    "import numpy as np\n",
    "import matplotlib.pyplot as plt\n",
    "from sklearn.feature_extraction.text import CountVectorizer\n",
    "import math"
   ]
  },
  {
   "cell_type": "code",
   "execution_count": 4,
   "id": "08e90f70-98c1-4314-bc9f-1c2896749b39",
   "metadata": {},
   "outputs": [],
   "source": [
    "sys.path.append(os.path.realpath('..'))"
   ]
  },
  {
   "cell_type": "code",
   "execution_count": 33,
   "id": "30085819-2c77-4eff-9525-599357382b41",
   "metadata": {},
   "outputs": [],
   "source": [
    "train_df = pd.read_csv(r\"..\\data\\train.csv\", index_col=0)\n",
    "test_df = pd.read_csv(r\"..\\data\\test.csv\", index_col=0)\n",
    "xgb_train_df = pd.read_csv(r'rendered_data/XGB_train_submission.csv', index_col=0)\n",
    "lgbm_train_df = pd.read_csv(r'rendered_data/LGBM_train_submission.csv', index_col=0)\n",
    "cat_train_df = pd.read_csv(r'rendered_data/CAT_train_submission.csv', index_col=0)\n",
    "\n",
    "xgb_test_df = pd.read_csv(r'rendered_data/XGB_test_submission.csv', index_col=0)\n",
    "lgbm_test_df = pd.read_csv(r'rendered_data/LGBM_test_submission.csv', index_col=0)\n",
    "cat_test_df = pd.read_csv(r'rendered_data/CAT_test_submission.csv', index_col=0)"
   ]
  },
  {
   "cell_type": "code",
   "execution_count": 30,
   "id": "9b478471-80fc-4ea7-b5ce-b4f85f3d8c2b",
   "metadata": {},
   "outputs": [],
   "source": [
    "def roc_auc_score(y_valid, preds):\n",
    "    fpr, tpr, _ = roc_curve(y_valid, preds)\n",
    "    roc_auc = auc(fpr, tpr)\n",
    "    return roc_auc"
   ]
  },
  {
   "cell_type": "code",
   "execution_count": 31,
   "id": "2f646b1a-f140-4d7b-98b0-e25b72deb222",
   "metadata": {},
   "outputs": [
    {
     "data": {
      "text/plain": [
       "5050"
      ]
     },
     "execution_count": 31,
     "metadata": {},
     "output_type": "execute_result"
    }
   ],
   "source": [
    "combos = []\n",
    "\n",
    "for x in range(100):\n",
    "    for y in range(100):\n",
    "        if x + y < 100:\n",
    "            z = 100 - x - y\n",
    "            combos.append([x, y, z])\n",
    "combos = np.array(combos) * ([[0.01]*3]*len(combos))\n",
    "len(combos)"
   ]
  },
  {
   "cell_type": "code",
   "execution_count": 32,
   "id": "9d6875c6-ef5a-4c40-bc0f-d6d0fdd6b2f2",
   "metadata": {},
   "outputs": [
    {
     "name": "stderr",
     "output_type": "stream",
     "text": [
      "5050it [00:09, 532.56it/s]\n"
     ]
    }
   ],
   "source": [
    "coefficients = combos\n",
    "best_score = 0\n",
    "best_coefficients_index = 0\n",
    "\n",
    "for index, (a, b, c) in tqdm(enumerate(coefficients)):\n",
    "    score = roc_auc_score(train_df[\"stroke\"], (a * xgb_df['stroke']) + (b * lgbm_df['stroke']) + (c * cat_df['stroke']))\n",
    "    if score > best_score:\n",
    "        best_score = score\n",
    "        best_coefficients_index = index"
   ]
  },
  {
   "cell_type": "code",
   "execution_count": 35,
   "id": "6af8dabb-21d8-4a59-b1ff-6cf69c1aa21c",
   "metadata": {},
   "outputs": [],
   "source": [
    "coef = combos[best_coefficients_index]\n",
    "blended_test_results = xgb_test_df['stroke']*coef[0] + lgbm_test_df['stroke']*coef[1] + cat_test_df['stroke']*coef[2]\n",
    "final_blended_test_submission = pd.DataFrame(data={'id': test_df.index, 'stroke': blended_test_results})\n",
    "final_blended_test_submission.to_csv(fr'rendered_data/final_blended_test_submission.csv', index=False)"
   ]
  },
  {
   "cell_type": "code",
   "execution_count": null,
   "id": "1e747ffe-bd17-4935-a9a1-358fc57a9d6d",
   "metadata": {},
   "outputs": [],
   "source": []
  }
 ],
 "metadata": {
  "kernelspec": {
   "display_name": "Python 3 (ipykernel)",
   "language": "python",
   "name": "python3"
  },
  "language_info": {
   "codemirror_mode": {
    "name": "ipython",
    "version": 3
   },
   "file_extension": ".py",
   "mimetype": "text/x-python",
   "name": "python",
   "nbconvert_exporter": "python",
   "pygments_lexer": "ipython3",
   "version": "3.10.9"
  }
 },
 "nbformat": 4,
 "nbformat_minor": 5
}
