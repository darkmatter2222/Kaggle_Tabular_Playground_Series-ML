{
 "cells": [
  {
   "cell_type": "code",
   "execution_count": null,
   "id": "a8e684f9-20a2-4edf-abd6-372bfb817a49",
   "metadata": {
    "tags": []
   },
   "outputs": [],
   "source": [
    "%run ./XGB_ROC-AUC_Optuna.ipynb"
   ]
  },
  {
   "cell_type": "code",
   "execution_count": null,
   "id": "183c34ea-280b-4cc8-8bfc-a59b83a02dd4",
   "metadata": {},
   "outputs": [],
   "source": [
    "%run ./LGBM_ROC-AUC_Optuna.ipynb"
   ]
  },
  {
   "cell_type": "code",
   "execution_count": null,
   "id": "9dc179a7-6620-4571-8651-8080dc6c8ffc",
   "metadata": {},
   "outputs": [],
   "source": [
    "%run ./CAT_ROC-AUC_Optuna.ipynb"
   ]
  },
  {
   "cell_type": "code",
   "execution_count": null,
   "id": "a9b23721-c87c-4de6-b0cc-748c154ea033",
   "metadata": {},
   "outputs": [],
   "source": [
    "%run ./Blending_ROC-AUC.ipynb"
   ]
  }
 ],
 "metadata": {
  "kernelspec": {
   "display_name": "Python 3 (ipykernel)",
   "language": "python",
   "name": "python3"
  },
  "language_info": {
   "codemirror_mode": {
    "name": "ipython",
    "version": 3
   },
   "file_extension": ".py",
   "mimetype": "text/x-python",
   "name": "python",
   "nbconvert_exporter": "python",
   "pygments_lexer": "ipython3",
   "version": "3.10.9"
  }
 },
 "nbformat": 4,
 "nbformat_minor": 5
}
