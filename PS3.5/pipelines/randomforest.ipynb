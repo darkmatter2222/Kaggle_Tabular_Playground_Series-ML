{
 "cells": [
  {
   "cell_type": "code",
   "execution_count": 1,
   "id": "72490bf2",
   "metadata": {
    "execution": {
     "iopub.execute_input": "2023-02-11T00:12:37.333396Z",
     "iopub.status.busy": "2023-02-11T00:12:37.332861Z",
     "iopub.status.idle": "2023-02-11T00:12:50.333832Z",
     "shell.execute_reply": "2023-02-11T00:12:50.332449Z"
    },
    "papermill": {
     "duration": 13.01098,
     "end_time": "2023-02-11T00:12:50.337094",
     "exception": false,
     "start_time": "2023-02-11T00:12:37.326114",
     "status": "completed"
    },
    "tags": []
   },
   "outputs": [
    {
     "name": "stdout",
     "output_type": "stream",
     "text": [
      "Collecting hroch\r\n",
      "  Downloading HROCH-1.2.2-py3-none-any.whl (1.5 MB)\r\n",
      "\u001b[2K     \u001b[90m━━━━━━━━━━━━━━━━━━━━━━━━━━━━━━━━━━━━━━━━\u001b[0m \u001b[32m1.5/1.5 MB\u001b[0m \u001b[31m18.2 MB/s\u001b[0m eta \u001b[36m0:00:00\u001b[0m\r\n",
      "\u001b[?25hRequirement already satisfied: numpy in /opt/conda/lib/python3.7/site-packages (from hroch) (1.21.6)\r\n",
      "Requirement already satisfied: scikit-learn in /opt/conda/lib/python3.7/site-packages (from hroch) (1.0.2)\r\n",
      "Requirement already satisfied: threadpoolctl>=2.0.0 in /opt/conda/lib/python3.7/site-packages (from scikit-learn->hroch) (3.1.0)\r\n",
      "Requirement already satisfied: joblib>=0.11 in /opt/conda/lib/python3.7/site-packages (from scikit-learn->hroch) (1.0.1)\r\n",
      "Requirement already satisfied: scipy>=1.1.0 in /opt/conda/lib/python3.7/site-packages (from scikit-learn->hroch) (1.7.3)\r\n",
      "Installing collected packages: hroch\r\n",
      "Successfully installed hroch-1.2.2\r\n",
      "\u001b[33mWARNING: Running pip as the 'root' user can result in broken permissions and conflicting behaviour with the system package manager. It is recommended to use a virtual environment instead: https://pip.pypa.io/warnings/venv\u001b[0m\u001b[33m\r\n",
      "\u001b[0m"
     ]
    }
   ],
   "source": [
    "!pip install hroch"
   ]
  },
  {
   "cell_type": "code",
   "execution_count": 2,
   "id": "50ab4cfc",
   "metadata": {
    "execution": {
     "iopub.execute_input": "2023-02-11T00:12:50.347779Z",
     "iopub.status.busy": "2023-02-11T00:12:50.347315Z",
     "iopub.status.idle": "2023-02-11T00:12:51.587492Z",
     "shell.execute_reply": "2023-02-11T00:12:51.586223Z"
    },
    "papermill": {
     "duration": 1.249154,
     "end_time": "2023-02-11T00:12:51.590647",
     "exception": false,
     "start_time": "2023-02-11T00:12:50.341493",
     "status": "completed"
    },
    "tags": []
   },
   "outputs": [],
   "source": [
    "from pathlib import Path\n",
    "import pandas as pd\n",
    "import numpy as np\n",
    "import scipy as sp\n",
    "from matplotlib import pyplot as plt\n",
    "from sklearn.metrics import r2_score, cohen_kappa_score\n",
    "from HROCH import PHCRegressor\n",
    "from sklearn.tree import DecisionTreeClassifier\n",
    "import matplotlib.pyplot as plt\n",
    "from matplotlib.colors import Normalize\n",
    "from matplotlib.cm import ScalarMappable\n",
    "from matplotlib.pyplot import figure\n",
    "\n",
    "\n",
    "def qwk(y_true, y_pred, **kwargs):\n",
    "    return cohen_kappa_score(y_true, y_pred, weights='quadratic', **kwargs)"
   ]
  },
  {
   "cell_type": "code",
   "execution_count": 3,
   "id": "466dd924",
   "metadata": {
    "execution": {
     "iopub.execute_input": "2023-02-11T00:12:51.600691Z",
     "iopub.status.busy": "2023-02-11T00:12:51.600245Z",
     "iopub.status.idle": "2023-02-11T00:12:51.680589Z",
     "shell.execute_reply": "2023-02-11T00:12:51.679258Z"
    },
    "papermill": {
     "duration": 0.088615,
     "end_time": "2023-02-11T00:12:51.683535",
     "exception": false,
     "start_time": "2023-02-11T00:12:51.594920",
     "status": "completed"
    },
    "tags": []
   },
   "outputs": [],
   "source": [
    "INPUT_DIR = Path('/kaggle/input/playground-series-s3e5/')\n",
    "\n",
    "train_data = pd.read_csv(f'{INPUT_DIR}/train.csv')\n",
    "train_data['data_type'] = 0\n",
    "\n",
    "test_data = pd.read_csv(f'{INPUT_DIR}/test.csv')\n",
    "test_data['data_type'] = 0\n",
    "\n",
    "additional = pd.read_csv('/kaggle/input/wine-quality-dataset/WineQT.csv')\n",
    "additional['data_type'] = 1\n",
    "\n",
    "submission = pd.read_csv(INPUT_DIR / 'sample_submission.csv')\n",
    "\n",
    "train_data = pd.concat([train_data, additional]).reset_index(drop=True)\n",
    "\n",
    "# drop duplicates - \n",
    "train_data = train_data.loc[\n",
    "    ~(train_data\n",
    "        .drop(columns=['Id', 'data_type'])\n",
    "        .duplicated(keep = \"first\"))].reset_index(drop=True)\n",
    "\n",
    "features = list(train_data.columns)\n",
    "features.remove('Id')\n",
    "features.remove('quality')\n",
    "\n",
    "#save original\n",
    "train_data_orig = train_data.copy()\n",
    "train_X_orig = train_data[features].copy()\n",
    "train_y_orig = train_data.quality.copy()\n",
    "test_X = test_data.drop(labels='Id', axis=1).copy()"
   ]
  },
  {
   "cell_type": "code",
   "execution_count": 4,
   "id": "20333035",
   "metadata": {
    "execution": {
     "iopub.execute_input": "2023-02-11T00:12:51.693858Z",
     "iopub.status.busy": "2023-02-11T00:12:51.693375Z",
     "iopub.status.idle": "2023-02-11T00:12:51.709506Z",
     "shell.execute_reply": "2023-02-11T00:12:51.708505Z"
    },
    "papermill": {
     "duration": 0.023721,
     "end_time": "2023-02-11T00:12:51.711563",
     "exception": false,
     "start_time": "2023-02-11T00:12:51.687842",
     "status": "completed"
    },
    "tags": []
   },
   "outputs": [],
   "source": [
    "def fit(train_data, RND=42):\n",
    "\n",
    "    SAMPLES=500\n",
    "\n",
    "    frames = [train_data[train_data['quality'] == 8].sample(n=SAMPLES, random_state=RND, replace=True),\n",
    "              train_data[train_data['quality'] == 7].sample(n=SAMPLES, random_state=RND, replace=True),\n",
    "              train_data[train_data['quality'] == 6].sample(n=SAMPLES, random_state=RND, replace=True),\n",
    "              train_data[train_data['quality'] == 5].sample(n=SAMPLES, random_state=RND, replace=True),\n",
    "              train_data[train_data['quality'] == 4].sample(n=SAMPLES, random_state=RND, replace=True),\n",
    "              train_data[train_data['quality'] == 3].sample(n=SAMPLES//4, random_state=RND, replace=True)]\n",
    "\n",
    "    train_data = pd.concat(frames)\n",
    "\n",
    "    train_X = train_data[features].copy()\n",
    "    train_y = train_data.quality.copy()\n",
    "\n",
    "    best_score = {'kappa':0.0, 'r2': 0.0, 'kappa_orig':0.0, 'eq':''}\n",
    "    prob={'add':1.0,'mul':1.0, 'gt':1.0, 'lt':1.0,'nop':1.0}\n",
    "    fprobs=[0.1, 0.1, 0.1, 0.1, 0.1, 0.1, 0.1, 0.1, 0.1, 1.0, 1.0]\n",
    "\n",
    "    preds = None\n",
    "    ITER = 100\n",
    "    STEP = 50000\n",
    "    df_progress = pd.DataFrame(columns=['iter', 'kappa', 'r2', 'kappa_orig'])\n",
    "\n",
    "    best_reg = None\n",
    "    reg = PHCRegressor(\n",
    "        num_threads=2, iter_limit=STEP, \n",
    "        code_size=32, const_size=32,  \n",
    "        problem=prob,feature_probs=fprobs, \n",
    "        random_state=RND, save_model=True)\n",
    "\n",
    "    for j in range(1, ITER+1):\n",
    "        reg.fit(train_X, train_y);\n",
    "\n",
    "        pred_y = reg.predict(train_X)\n",
    "        pred_y = np.rint(pred_y).astype(int)\n",
    "        r2 = r2_score(train_y, pred_y)\n",
    "        kappa = qwk(train_y, pred_y)\n",
    "\n",
    "        pred_y_orig = reg.predict(train_X_orig)\n",
    "        pred_y_orig = np.rint(pred_y_orig).astype(int)\n",
    "        kappa_orig = qwk(train_y_orig, pred_y_orig)\n",
    "\n",
    "        df_progress = df_progress.append({'iter':j,'kappa':kappa, 'r2':r2, 'kappa_orig':kappa_orig}, ignore_index = True)\n",
    "\n",
    "        if kappa_orig > best_score['kappa_orig']:\n",
    "            #print(f'{j}: {kappa} {r2} {kappa_orig}                  ')\n",
    "            #print(reg.sexpr)\n",
    "            best_score = {'kappa':kappa, 'r2':r2, 'kappa_orig':kappa_orig, 'eq':reg.sexpr}\n",
    "            best_reg = reg\n",
    "            # save predictions\n",
    "            #preds = reg.predict(test_X)\n",
    "    \n",
    "    return best_reg\n"
   ]
  },
  {
   "cell_type": "code",
   "execution_count": 5,
   "id": "3602d78d",
   "metadata": {
    "execution": {
     "iopub.execute_input": "2023-02-11T00:12:51.721963Z",
     "iopub.status.busy": "2023-02-11T00:12:51.721135Z",
     "iopub.status.idle": "2023-02-11T00:46:23.785201Z",
     "shell.execute_reply": "2023-02-11T00:46:23.783844Z"
    },
    "papermill": {
     "duration": 2012.078878,
     "end_time": "2023-02-11T00:46:23.794454",
     "exception": false,
     "start_time": "2023-02-11T00:12:51.715576",
     "status": "completed"
    },
    "tags": []
   },
   "outputs": [
    {
     "name": "stdout",
     "output_type": "stream",
     "text": [
      "((0.48917484283447265625)*(x11+((((x10)>(0.74154365062713623047))>x10)+(((0.59965765476226806641)<(x10))+((0.63636636734008789062)<(x10))))))\n",
      "\n",
      "((x11*(0.47802433371543884277))+(((x10>(0.63664746284484863281))+((0.50143474340438842773)+(x10>x10)))*(((0.13879549503326416016)+x2)<((0.02745695039629936218)<(((x11+x11)*(0.02268747799098491669))>(0.43784070014953613281))))))\n",
      "\n",
      "((((0.69066327810287475586)<x10)+((x11*x2)*((-0.08053582906723022461)*((0.81951808929443359375)+x12))))+((((0.56371110677719116211))*((x11*x2)>x5))*x11))\n",
      "\n",
      "((x2*((-0.12687645852565765381)*(x12*(x2*x11))))+((((x8>x10)*x10)>(0.63203454017639160156))+((0.52273660898208618164)*x11)))\n",
      "\n",
      "((x11+((((0.68755888938903808594)<x10)+((((0.65941625833511352539)>(x12*x2))*((-2.26807260513305664062)*(x12*x2)))<((0.68755888938903808594)<x10)))+((-2.26807260513305664062)*(x12*x2))))*(0.52638590335845947266))\n",
      "\n",
      "((0.48985239863395690918)*(((((0.68447583913803100586)<x10)>(x10+((0.00665398361161351204)*x11)))+(((0.68447583913803100586)<x10)>(x10+((0.00665398361161351204)*x11))))+(x11+((0.91033452749252319336)*((0.02103587053716182709)>(x10<(0.58151000738143920898)))))))\n",
      "\n",
      "(((((x10*(x3+((x11*(0.13587293028831481934))+x10))))+((0.70974642038345336914)))>(2.32314014434814453125))+(x11*(0.51191109418869018555)))\n",
      "\n",
      "((((0.63614809513092041016)<x10)+(x12*x3))+(((((0.50865393877029418945)*((x8<x12)+x11))+(x2*((-1.78101253509521484375)*x12)))+(-0.02091873064637184143))))\n",
      "\n",
      "(((x11+(((0.72747331857681274414)<(x8*x10))+(((x8*x10)<((0.63624244928359985352)<(x8*x10)))*x10)))+((x8*x10)<((0.63624244928359985352)<(x8*x10))))*(0.49641296267509460449))\n",
      "\n",
      "(((x11+(((x10>(0.74914902448654174805))>x3)>((0.12151435762643814087)+x10)))*(0.49414312839508056641))+(x10>(0.63970410823822021484)))\n",
      "\n",
      "rep: 0 qwk: 0.52\n",
      "((0.49336561560630798340)*(((1.90200102329254150391)*((0.64058357477188110352)<(x10*((1.90200102329254150391)<(((0.02038864418864250183)*x11)*x11)))))+(((x11)+((((1.90200102329254150391)*x10)<(x12+((((((0.02038864418864250183)*x11)*x11)*x3)<x10)+(0.02038864418864250183))))<(x10*((1.90200102329254150391)<(((0.02038864418864250183)*x11)*x11))))))))\n",
      "\n",
      "((x11*((0.49460759758949279785)))+(((((x10<(0.63069194555282592773))+x8))*((((x10<(0.63069194555282592773))+x8))<(x11>(x10*(((0.92799520492553710938))+x1)))))*(x10+(0.55790519714355468750))))\n",
      "\n",
      "((((x12*(x11*((0.63000059127807617188)+(x2>((0.09877453744411468506)+x10)))))*(-0.05043247342109680176))+(x10<(((0.63000059127807617188)+(x2>((0.09877453744411468506)+x10)))<x10)))+(x11*(0.52211672067642211914)))\n",
      "\n",
      "(((((((0.35693424940109252930)>x2)+(x11+((0.35693424940109252930)>x2)))+((x10*x11)+(0.33977308869361877441)))+((0.81139540672302246094)+((((x10*x11)+(0.33977308869361877441))<x11)*(x10*x11))))+(((0.33977308869361877441)+x3)>((x10*(((x10*x11)+(0.33977308869361877441))<x11))*x12)))*(0.21589115262031555176))\n",
      "\n",
      "((((x10>(((0.21755355596542358398)*(x2+(2.55326104164123535156)))+(x10>((1.02114379405975341797)+x12))))*((0.17079052329063415527)+(2.18678426742553710938)))+(((0.07319644093513488770)*(x3*x11))+(x11+((x3*((0.07319644093513488770)*(x3*x11)))>(2.55326104164123535156)))))*(0.49356457591056823730))\n",
      "\n",
      "((((x9<((x11*(0.45278656482696533203))*x10)))>x10)+(x10+(x11*(0.45278656482696533203))))\n",
      "\n",
      "(((0.25167742371559143066)*(((0.02803144045174121857)*x11)+((0.79469120502471923828)+(x10))))*(((((0.86741876602172851562)>x2)>(x10))*(((0.02803144045174121857)*x11)+((0.79469120502471923828)+(x10))))+((((0.86741876602172851562)>x2)>(x10))+x11)))\n",
      "\n",
      "(((((x12>x10)*(x2+((0.11084987968206405640)*((((0.63768404722213745117)>x10)+x10)+((0.63768404722213745117)>x10)))))<(0.94601488113403320312))+(x11*(0.41944870352745056152)))+(((((0.63768404722213745117)>x10)+x10)+((0.63768404722213745117)>x10))<((((x12>x10)*(x2+((0.11084987968206405640)*((((0.63768404722213745117)>x10)+x10)+((0.63768404722213745117)>x10)))))<(0.94601488113403320312))+(0.05913593992590904236))))\n",
      "\n",
      "((x11+((((x10)>(0.72273254394531250000))+((((0.91975140571594238281)+(0.62233710289001464844))>(x10+x3))>(x2)))+((-2.99574351310729980469)+(((x10*(x10+x3))+(0.38571628928184509277))>(((0.91975140571594238281)+(0.62233710289001464844))>(x10+x3))))))*(0.62276226282119750977))\n",
      "\n",
      "((x11+((x10>((0.73749822378158569336)))+(((x10>(0.63213914632797241211))>x8)*(((0.92548650503158569336)>x10)+((0.92548650503158569336)>x10)))))*(0.49422407150268554688))\n",
      "\n",
      "rep: 1 qwk: 0.5261\n",
      "(((x11*(0.43621250987052917480))+((0.66177600622177124023)<(x10+(0.02807919681072235107))))+(((((0.85328143835067749023)*(x11*(0.43621250987052917480)))*(0.19406472146511077881))>(0.69354200363159179688))>(((0.66177600622177124023)<x2)*x12)))\n",
      "\n",
      "((x12*(((x2*x8)*(x2*x8))*(-1.39715063571929931641)))+((x11*(0.52940189838409423828))+((0.68107342720031738281)<(x10))))\n",
      "\n",
      "(((((((1.32719278335571289062)*(x10>(0.63927489519119262695)))*((x8>(((0.53117084503173828125)>(0.84620010852813720703))<(0.63927489519119262695)))<(x10>(0.63927489519119262695))))*(((x10>(0.63927489519119262695))<(((x8>(((0.53117084503173828125)>(0.84620010852813720703))<(0.63927489519119262695)))<(x10>(0.63927489519119262695)))*(x11*(0.10333076864480972290))))+((x10>(0.63927489519119262695))<(((x8>(((0.53117084503173828125)>(0.84620010852813720703))<(0.63927489519119262695)))<(x10>(0.63927489519119262695)))*(x11*(0.10333076864480972290)))))))+(x11))*(0.49861124157905578613))\n",
      "\n",
      "((0.53616571426391601562)*((x11)+((((((0.72822499275207519531)+(x12*(((-0.04906164854764938354))+((-0.04906164854764938354)))))<x10)>(((-0.04906164854764938354))+x10))+(((x12*(((-0.04906164854764938354))+((-0.04906164854764938354))))*(x11*x2))))+(((((0.72822499275207519531)+(x12*(((-0.04906164854764938354))+((-0.04906164854764938354)))))<x10)>(((-0.04906164854764938354))+x10))+(((x12*(((-0.04906164854764938354))+((-0.04906164854764938354))))*(x11*x2)))))))\n",
      "\n",
      "((((((0.68319535255432128906)<x10)+((0.68319535255432128906)<x10))+x11)*(0.52390390634536743164))+(((-0.77383571863174438477)+((x2<(0.45639026165008544922))*x12))*x12))\n",
      "\n",
      "(((0.51957666873931884766)*x11)+(((((((0.51957666873931884766)*x11)*(0.20011250674724578857))>x8)>x8)+((((0.20331798493862152100)*x9)>x10)<((((0.51957666873931884766)*x11)*(0.20011250674724578857))*x10)))>((((0.51957666873931884766)*x11)*(0.20011250674724578857))+((0.15849840641021728516)*x2))))\n",
      "\n",
      "((((x10<((1.11275792121887207031)<((((0.42881202697753906250)*(x10+x3)))+x10)))*(x10+(0.55333822965621948242)))+(((x10<((1.11275792121887207031)<((((0.42881202697753906250)*(x10+x3)))+x10)))*(x10+(0.55333822965621948242)))+x11))*((0.50072038173675537109)))\n",
      "\n",
      "((((-1.62662422657012939453)*(x2*x12))+((0.15916427969932556152)<(((1.11218738555908203125)>x10)*(x10>((0.64417499303817749023))))))+((x11+x12)*(0.51792705059051513672)))\n",
      "\n",
      "((((x11+((x9*((x12*x2)))*(-1.00902235507965087891)))+(x11>(x11+((x9*((x12*x2)))*(-1.00902235507965087891)))))*(0.51489382982254028320))+((0.63465642929077148438)<(((x9*((x12*x2)))<x12)+x10)))\n",
      "\n",
      "((0.51139855384826660156)*((x11+((x12>(((((1.46128070354461669922)>(x10+((x10<x8)*x10)))<x10)+((((x10<x8)*x10)>(0.63129186630249023438))*(x10+((x10<x8)*x10))))*((1.46128070354461669922)>(x10+((x10<x8)*x10)))))*(-0.91300034523010253906)))+((((1.46128070354461669922)>(x10+((x10<x8)*x10)))<x10)+((((x10<x8)*x10)>(0.63129186630249023438))*(x10+((x10<x8)*x10))))))\n",
      "\n",
      "rep: 2 qwk: 0.5194\n",
      "(((((0.07382256537675857544)+(x8>(((x2*(x10<(x12+(0.48723450303077697754))))<x10)>(0.01966820657253265381))))+x10)<((0.71079289913177490234)<x10))+((x11+((x2*(x10<(x12+(0.48723450303077697754))))<x10))*(0.48856228590011596680)))\n",
      "\n",
      "((((0.63391262292861938477)+(((0.16635587811470031738)*x2)*(((0.63391262292861938477)>(x11>(9.88674068450927734375)))+(0.05568246543407440186))))<x10)+(x11*(0.50917458534240722656)))\n",
      "\n",
      "(((0.50207334756851196289)*x11)+((((x10*(-0.95198476314544677734))*((x10*(-0.95198476314544677734))))<(((x10>(0.63011562824249267578)))>(x12*x5)))*(((x10*(-0.95198476314544677734))*((x10*(-0.95198476314544677734))))+((x10*(-0.95198476314544677734))*((x10*(-0.95198476314544677734)))))))\n",
      "\n",
      "(((((((0.09834854304790496826)*(x10>(0.63204467296600341797)))*((x10>(0.63204467296600341797))+(((x10>(0.63204467296600341797))+x10)+(x10>(0.63204467296600341797)))))+x11)*((0.09834854304790496826)*(x10>(0.63204467296600341797))))>(x10>(0.63204467296600341797)))+(((((0.09834854304790496826)*(x10>(0.63204467296600341797)))*((x10>(0.63204467296600341797))+(((x10>(0.63204467296600341797))+x10)+(x10>(0.63204467296600341797)))))+x11)*(0.50100272893905639648)))\n",
      "\n",
      "((((x10))>((x12+(0.07884091138839721680))*x2))+((((x10+((x10)<(0.71428084373474121094)))<(1.02581083774566650391))>x8)+(x11*(0.44197988510131835938))))\n",
      "\n",
      "(((x11*(0.46364441514015197754))+((x10>(0.68783992528915405273))>x10))+(x10*(((((2.55209183692932128906)*(x12*x2))<x8)+(x12*x2))*(((2.55209183692932128906)*(x12*x2))<x8))))\n",
      "\n",
      "((((((0.63454443216323852539))<x10)+x11)+(((x10+((0.63454443216323852539)))*(((1.38047587871551513672)>(x2+x12))*x10))+((0.68643379211425781250)<x10)))*(0.47908270359039306641))\n",
      "\n",
      "(((0.47205924987792968750)*x11)+(((x10*((0.47205924987792968750)*x11))>x9)+((0.48733693361282348633)*(((0.36316645145416259766)+(x10))>x12))))\n",
      "\n",
      "((((0.62403690814971923828)<x10)>(((1.15766274929046630859)+x12)*x2))+((x11+((((x10>(0.73910772800445556641))>x8))>(0.30632105469703674316)))*(0.49099138379096984863)))\n",
      "\n",
      "(((((((0.19851019978523254395)*x3)+(x10))<((((0.19851019978523254395)*x3)+(x10))>(0.73446649312973022461)))+((((0.19851019978523254395)*x3)+(x10))<((((0.19851019978523254395)*x3)+(x10))>(0.73446649312973022461))))+x11)*(0.51156759262084960938))\n",
      "\n",
      "rep: 3 qwk: 0.5079\n",
      "(((-0.84445089101791381836)*(x10<(0.63721370697021484375)))+(x12+((((x12*(-4.22458505630493164062))*x2)+x11)*(0.60595202445983886719))))\n",
      "\n",
      "(((x11*((0.32496610283851623535)))+(x10*(((0.63382238149642944336)<x10)>(x8+(x3<(((9.63336467742919921875)>x11)+((9.63336467742919921875)>x11)))))))*(1.54706561565399169922))\n",
      "\n",
      "((((x11*(x10>(0.64216214418411254883)))*(0.02264619804918766022))>(0.22306880354881286621))+((x10*((x11*(0.48472908139228820801))*(0.09213569760322570801)))+(x11*(0.48472908139228820801))))\n",
      "\n",
      "((((((x2*x2)*x12)*((1.77505135536193847656)+x10))<(x10>(0.68494230508804321289)))+(((0.46972146630287170410)+(0.05815319716930389404))*x11))+(((x2*x2)*x12)*(-1.12226355075836181641)))\n",
      "\n",
      "(((0.49181652069091796875)*(x11+(x10>(0.62283301353454589844))))+((((0.64529401063919067383)<(((1.03951025009155273438)+x2)*(0.46768847107887268066)))*x10)<(((((1.03951025009155273438)+x2)*(0.46768847107887268066))>x10)<((((1.03951025009155273438)+x2)<x10)<(x10>(0.62283301353454589844))))))\n",
      "\n",
      "((0.50725090503692626953)*(x11+((((x10<(((x10+((0.05018842220306396484)*x12))>(0.69128042459487915039))>(x10+((0.05018842220306396484)*x12))))+(((0.21985164284706115723)+(x10+((0.05018842220306396484)*x12)))*((0.38060447573661804199)>x2)))*((x10+((0.05018842220306396484)*x12))>(0.69128042459487915039)))+((((x10+((0.05018842220306396484)*x12))>(0.69128042459487915039))>(x10+((0.05018842220306396484)*x12)))>((0.05018842220306396484)*x12)))))\n",
      "\n",
      "(((0.52443075180053710938)*((((-1.20488715171813964844)*(x2*x2))*(x12+((x12*(x11+(-0.04999906569719314575)))>x1)))+(x11+(-0.04999906569719314575))))+((x8<((x10>(0.63295185565948486328))))>((-0.04999906569719314575)+x10)))\n",
      "\n",
      "(((((0.11321219056844711304)>x5)>((0.20421153306961059570)*((x11+(-0.30728793144226074219))*(0.52462196350097656250))))<((0.63287281990051269531)<x10))+((x10<(x11+(-0.30728793144226074219)))*((x11+(-0.30728793144226074219))*(0.52462196350097656250))))\n",
      "\n",
      "((0.46815228462219238281)*(x11+(((((0.63215821981430053711)<x10)+((0.63215821981430053711)<x10))+((x12+x6)<((((0.63215821981430053711)<x10)+((0.63215821981430053711)<x10))*(x9+(1.67244625091552734375)))))+(((((0.14360277354717254639)*(3.01355314254760742188))>x2)*x12)+(x12<(x11>((((0.63215821981430053711)<x10)+((0.63215821981430053711)<x10))*(x9+(1.67244625091552734375)))))))))\n",
      "\n",
      "((x10>(0.71434873342514038086))+(((-0.73270863294601440430)*(((0.45969930291175842285)<x2)*(x5+x12)))+(((0.53568881750106811523)*x11))))\n",
      "\n",
      "rep: 4 qwk: 0.5197\n"
     ]
    }
   ],
   "source": [
    "from sklearn.model_selection import StratifiedKFold\n",
    "\n",
    "base_features = [\n",
    "        'fixed acidity', 'volatile acidity', 'citric acid',\n",
    "        'residual sugar', 'chlorides', 'free sulfur dioxide',\n",
    "        'total sulfur dioxide', 'density', 'pH', 'sulphates', 'alcohol',\n",
    "        'data_type']\n",
    "\n",
    "N_REPEATS = 5\n",
    "N_FOLDS = 10\n",
    "\n",
    "oof_preds = np.zeros((len(train_data), N_REPEATS))\n",
    "test_preds = np.zeros((len(test_data), N_REPEATS))\n",
    "for i in range(N_REPEATS):\n",
    "    k_fold = StratifiedKFold(n_splits=N_FOLDS, random_state=43 + i, shuffle=True)\n",
    "    for train_index, test_index in k_fold.split(train_data, train_data['quality']):\n",
    "        X_train, X_valid = train_data.loc[train_index], train_data.loc[test_index]\n",
    "        reg = fit(X_train, 43 + i)\n",
    "        print(reg.sexpr)\n",
    "        \n",
    "        oof_pred = np.rint(reg.predict(X_valid.filter(features))).astype(int)\n",
    "        test_pred = np.rint(reg.predict(test_data.filter(features))).astype(int)\n",
    "        \n",
    "        oof_preds[test_index, i] = np.clip(oof_pred, 3, 8)\n",
    "        test_preds[:, i] = np.clip(test_pred, 3, 8)\n",
    "    \n",
    "    oof_qwk = np.round(qwk(train_data['quality'], oof_preds[:, i]), 4)\n",
    "    print(f'rep: {i} qwk: {oof_qwk}')\n",
    "\n",
    "# overall:    \n",
    "oof_preds = sp.stats.mode(oof_preds, axis=1)[0].ravel()    \n",
    "test_preds = sp.stats.mode(test_preds, axis=1)[0].ravel()"
   ]
  },
  {
   "cell_type": "code",
   "execution_count": 6,
   "id": "4960d0bb",
   "metadata": {
    "execution": {
     "iopub.execute_input": "2023-02-11T00:46:23.810765Z",
     "iopub.status.busy": "2023-02-11T00:46:23.809851Z",
     "iopub.status.idle": "2023-02-11T00:46:24.208545Z",
     "shell.execute_reply": "2023-02-11T00:46:24.207358Z"
    },
    "papermill": {
     "duration": 0.409587,
     "end_time": "2023-02-11T00:46:24.210958",
     "exception": false,
     "start_time": "2023-02-11T00:46:23.801371",
     "status": "completed"
    },
    "tags": []
   },
   "outputs": [
    {
     "name": "stdout",
     "output_type": "stream",
     "text": [
      "Quadratic Weighted Kappa = 0.5316\n"
     ]
    },
    {
     "data": {
      "text/plain": [
       "<sklearn.metrics._plot.confusion_matrix.ConfusionMatrixDisplay at 0x7fd1f26d4150>"
      ]
     },
     "execution_count": 6,
     "metadata": {},
     "output_type": "execute_result"
    },
    {
     "data": {
      "image/png": "[encoded data removed]",
      "text/plain": [
       "<Figure size 432x288 with 2 Axes>"
      ]
     },
     "metadata": {
      "needs_background": "light"
     },
     "output_type": "display_data"
    }
   ],
   "source": [
    "oof_data = train_data.assign(oof = oof_preds).query('data_type == 0')\n",
    "oof_qwk = np.round(qwk(oof_data['quality'], oof_data['oof']), 4)\n",
    "\n",
    "from sklearn.metrics import  confusion_matrix, ConfusionMatrixDisplay\n",
    "print(f'Quadratic Weighted Kappa = {oof_qwk}')\n",
    "cm = confusion_matrix(oof_data['quality'], oof_data['oof'])\n",
    "ConfusionMatrixDisplay(cm, display_labels=range(3, 9)).plot()"
   ]
  },
  {
   "cell_type": "code",
   "execution_count": 7,
   "id": "1d9cec98",
   "metadata": {
    "execution": {
     "iopub.execute_input": "2023-02-11T00:46:24.228497Z",
     "iopub.status.busy": "2023-02-11T00:46:24.227763Z",
     "iopub.status.idle": "2023-02-11T00:46:24.257889Z",
     "shell.execute_reply": "2023-02-11T00:46:24.256684Z"
    },
    "papermill": {
     "duration": 0.041611,
     "end_time": "2023-02-11T00:46:24.260180",
     "exception": false,
     "start_time": "2023-02-11T00:46:24.218569",
     "status": "completed"
    },
    "tags": []
   },
   "outputs": [
    {
     "data": {
      "text/html": [
       "<div>\n",
       "<style scoped>\n",
       "    .dataframe tbody tr th:only-of-type {\n",
       "        vertical-align: middle;\n",
       "    }\n",
       "\n",
       "    .dataframe tbody tr th {\n",
       "        vertical-align: top;\n",
       "    }\n",
       "\n",
       "    .dataframe thead th {\n",
       "        text-align: right;\n",
       "    }\n",
       "</style>\n",
       "<table border=\"1\" class=\"dataframe\">\n",
       "  <thead>\n",
       "    <tr style=\"text-align: right;\">\n",
       "      <th></th>\n",
       "      <th>Id</th>\n",
       "      <th>quality</th>\n",
       "    </tr>\n",
       "  </thead>\n",
       "  <tbody>\n",
       "    <tr>\n",
       "      <th>count</th>\n",
       "      <td>1372.000000</td>\n",
       "      <td>1372.000000</td>\n",
       "    </tr>\n",
       "    <tr>\n",
       "      <th>mean</th>\n",
       "      <td>2741.500000</td>\n",
       "      <td>5.812682</td>\n",
       "    </tr>\n",
       "    <tr>\n",
       "      <th>std</th>\n",
       "      <td>396.206596</td>\n",
       "      <td>0.863752</td>\n",
       "    </tr>\n",
       "    <tr>\n",
       "      <th>min</th>\n",
       "      <td>2056.000000</td>\n",
       "      <td>5.000000</td>\n",
       "    </tr>\n",
       "    <tr>\n",
       "      <th>25%</th>\n",
       "      <td>2398.750000</td>\n",
       "      <td>5.000000</td>\n",
       "    </tr>\n",
       "    <tr>\n",
       "      <th>50%</th>\n",
       "      <td>2741.500000</td>\n",
       "      <td>6.000000</td>\n",
       "    </tr>\n",
       "    <tr>\n",
       "      <th>75%</th>\n",
       "      <td>3084.250000</td>\n",
       "      <td>6.000000</td>\n",
       "    </tr>\n",
       "    <tr>\n",
       "      <th>max</th>\n",
       "      <td>3427.000000</td>\n",
       "      <td>8.000000</td>\n",
       "    </tr>\n",
       "  </tbody>\n",
       "</table>\n",
       "</div>"
      ],
      "text/plain": [
       "                Id      quality\n",
       "count  1372.000000  1372.000000\n",
       "mean   2741.500000     5.812682\n",
       "std     396.206596     0.863752\n",
       "min    2056.000000     5.000000\n",
       "25%    2398.750000     5.000000\n",
       "50%    2741.500000     6.000000\n",
       "75%    3084.250000     6.000000\n",
       "max    3427.000000     8.000000"
      ]
     },
     "execution_count": 7,
     "metadata": {},
     "output_type": "execute_result"
    }
   ],
   "source": [
    "submission = pd.DataFrame(data={'Id': test_data.Id, 'quality': test_preds.astype('int')})\n",
    "submission.to_csv('submission.csv', index=False)\n",
    "submission.describe()"
   ]
  },
  {
   "cell_type": "code",
   "execution_count": 8,
   "id": "83fb17cb",
   "metadata": {
    "execution": {
     "iopub.execute_input": "2023-02-11T00:46:24.277797Z",
     "iopub.status.busy": "2023-02-11T00:46:24.277111Z",
     "iopub.status.idle": "2023-02-11T00:46:24.286442Z",
     "shell.execute_reply": "2023-02-11T00:46:24.285235Z"
    },
    "papermill": {
     "duration": 0.02085,
     "end_time": "2023-02-11T00:46:24.288779",
     "exception": false,
     "start_time": "2023-02-11T00:46:24.267929",
     "status": "completed"
    },
    "tags": []
   },
   "outputs": [
    {
     "data": {
      "text/plain": [
       "5    610\n",
       "6    463\n",
       "7    245\n",
       "8     54\n",
       "Name: quality, dtype: int64"
      ]
     },
     "execution_count": 8,
     "metadata": {},
     "output_type": "execute_result"
    }
   ],
   "source": [
    "submission['quality'].value_counts()"
   ]
  },
  {
   "cell_type": "code",
   "execution_count": 9,
   "id": "c93633e8",
   "metadata": {
    "execution": {
     "iopub.execute_input": "2023-02-11T00:46:24.306522Z",
     "iopub.status.busy": "2023-02-11T00:46:24.306105Z",
     "iopub.status.idle": "2023-02-11T00:46:25.343598Z",
     "shell.execute_reply": "2023-02-11T00:46:25.342059Z"
    },
    "papermill": {
     "duration": 1.049846,
     "end_time": "2023-02-11T00:46:25.346526",
     "exception": false,
     "start_time": "2023-02-11T00:46:24.296680",
     "status": "completed"
    },
    "tags": []
   },
   "outputs": [
    {
     "name": "stdout",
     "output_type": "stream",
     "text": [
      "__notebook__.ipynb  submission.csv\r\n"
     ]
    }
   ],
   "source": [
    "!ls"
   ]
  }
 ],
 "metadata": {
  "kernelspec": {
   "display_name": "Python 3",
   "language": "python",
   "name": "python3"
  },
  "language_info": {
   "codemirror_mode": {
    "name": "ipython",
    "version": 3
   },
   "file_extension": ".py",
   "mimetype": "text/x-python",
   "name": "python",
   "nbconvert_exporter": "python",
   "pygments_lexer": "ipython3",
   "version": "3.7.12"
  },
  "papermill": {
   "default_parameters": {},
   "duration": 2037.951641,
   "end_time": "2023-02-11T00:46:26.184460",
   "environment_variables": {},
   "exception": null,
   "input_path": "__notebook__.ipynb",
   "output_path": "__notebook__.ipynb",
   "parameters": {},
   "start_time": "2023-02-11T00:12:28.232819",
   "version": "2.3.4"
  }
 },
 "nbformat": 4,
 "nbformat_minor": 5
}
